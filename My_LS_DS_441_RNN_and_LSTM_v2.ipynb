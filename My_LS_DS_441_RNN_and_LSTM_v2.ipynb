{
  "nbformat": 4,
  "nbformat_minor": 0,
  "metadata": {
    "colab": {
      "name": "My LS_DS_441_RNN_and_LSTM_v2.ipynb",
      "version": "0.3.2",
      "provenance": [],
      "collapsed_sections": [],
      "include_colab_link": true
    },
    "language_info": {
      "codemirror_mode": {
        "name": "ipython",
        "version": 3
      },
      "file_extension": ".py",
      "mimetype": "text/x-python",
      "name": "python",
      "nbconvert_exporter": "python",
      "pygments_lexer": "ipython3",
      "version": "3.7.1"
    },
    "kernelspec": {
      "display_name": "Python 3",
      "language": "python",
      "name": "python3"
    },
    "accelerator": "GPU"
  },
  "cells": [
    {
      "cell_type": "markdown",
      "metadata": {
        "id": "view-in-github",
        "colab_type": "text"
      },
      "source": [
        "<a href=\"https://colab.research.google.com/github/wel51x/DS-Unit-4-Sprint-4-Deep-Learning/blob/master/My_LS_DS_441_RNN_and_LSTM_v2.ipynb\" target=\"_parent\"><img src=\"https://colab.research.google.com/assets/colab-badge.svg\" alt=\"Open In Colab\"/></a>"
      ]
    },
    {
      "cell_type": "markdown",
      "metadata": {
        "colab_type": "text",
        "id": "_IizNKWLomoA"
      },
      "source": [
        "# Lambda School Data Science - Recurrent Neural Networks and LSTM\n",
        "\n",
        "> \"Yesterday's just a memory - tomorrow is never what it's supposed to be.\" -- Bob Dylan"
      ]
    },
    {
      "cell_type": "markdown",
      "metadata": {
        "colab_type": "text",
        "id": "0EZdBzC6pvV9"
      },
      "source": [
        "# Lecture\n",
        "\n",
        "Wish you could save [Time In A Bottle](https://www.youtube.com/watch?v=AnWWj6xOleY)? With statistics you can do the next best thing - understand how data varies over time (or any sequential order), and use the order/time dimension predictively.\n",
        "\n",
        "A sequence is just any enumerated collection - order counts, and repetition is allowed. Python lists are a good elemental example - `[1, 2, 2, -1]` is a valid list, and is different from `[1, 2, -1, 2]`. The data structures we tend to use (e.g. NumPy arrays) are often built on this fundamental structure.\n",
        "\n",
        "A time series is data where you have not just the order but some actual continuous marker for where they lie \"in time\" - this could be a date, a timestamp, [Unix time](https://en.wikipedia.org/wiki/Unix_time), or something else. All time series are also sequences, and for some techniques you may just consider their order and not \"how far apart\" the entries are (if you have particularly consistent data collected at regular intervals it may not matter)."
      ]
    },
    {
      "cell_type": "markdown",
      "metadata": {
        "colab_type": "text",
        "id": "5_m0hJ4uCzHz"
      },
      "source": [
        "## Time series with plain old regression\n",
        "\n",
        "Recurrences are fancy, and we'll get to those later - let's start with something simple. Regression can handle time series just fine if you just set them up correctly - let's try some made-up stock data. And to make it, let's use a few list comprehensions!"
      ]
    },
    {
      "cell_type": "markdown",
      "metadata": {
        "id": "LAbnJeJ8j0s3",
        "colab_type": "text"
      },
      "source": [
        "####have to run this to get \"RNN/LSTM Sentiment Classification with Keras\" to work in colab"
      ]
    },
    {
      "cell_type": "code",
      "metadata": {
        "id": "4yBeveIrj7x4",
        "colab_type": "code",
        "outputId": "baabc43b-261d-4015-dc55-35a25425a6fb",
        "colab": {
          "base_uri": "https://localhost:8080/",
          "height": 296
        }
      },
      "source": [
        "!pip install numpy==1.16.2\n",
        "import numpy as np"
      ],
      "execution_count": 0,
      "outputs": [
        {
          "output_type": "stream",
          "text": [
            "Collecting numpy==1.16.2\n",
            "  Using cached https://files.pythonhosted.org/packages/35/d5/4f8410ac303e690144f0a0603c4b8fd3b986feb2749c435f7cdbb288f17e/numpy-1.16.2-cp36-cp36m-manylinux1_x86_64.whl\n",
            "\u001b[31mERROR: datascience 0.10.6 has requirement folium==0.2.1, but you'll have folium 0.8.3 which is incompatible.\u001b[0m\n",
            "\u001b[31mERROR: albumentations 0.1.12 has requirement imgaug<0.2.7,>=0.2.5, but you'll have imgaug 0.2.9 which is incompatible.\u001b[0m\n",
            "Installing collected packages: numpy\n",
            "  Found existing installation: numpy 1.16.3\n",
            "    Uninstalling numpy-1.16.3:\n",
            "      Successfully uninstalled numpy-1.16.3\n",
            "Successfully installed numpy-1.16.2\n"
          ],
          "name": "stdout"
        },
        {
          "output_type": "display_data",
          "data": {
            "application/vnd.colab-display-data+json": {
              "pip_warning": {
                "packages": [
                  "numpy"
                ]
              }
            }
          },
          "metadata": {
            "tags": []
          }
        }
      ]
    },
    {
      "cell_type": "code",
      "metadata": {
        "colab_type": "code",
        "id": "GkJUFfsgnqr_",
        "colab": {}
      },
      "source": [
        "import numpy as np\n",
        "from random import random\n",
        "days = np.array((range(28)))\n",
        "stock_quotes = np.array([random() + day * random() for day in days])"
      ],
      "execution_count": 0,
      "outputs": []
    },
    {
      "cell_type": "code",
      "metadata": {
        "colab_type": "code",
        "id": "y-ORgKGNBOcb",
        "outputId": "08abbe0c-5991-4a2c-d362-49b2d797b26e",
        "colab": {
          "base_uri": "https://localhost:8080/",
          "height": 119
        }
      },
      "source": [
        "stock_quotes"
      ],
      "execution_count": 0,
      "outputs": [
        {
          "output_type": "execute_result",
          "data": {
            "text/plain": [
              "array([ 0.93946324,  1.0571481 ,  1.51774439,  0.68658834,  2.74210724,\n",
              "        5.03962965,  4.5159682 ,  6.12334082,  1.78574751,  2.60543214,\n",
              "        5.11687757,  2.36898494,  0.99244726,  0.97977885,  8.59433569,\n",
              "       12.92612961,  7.11021403,  8.37854738, 17.17967096, 14.79679294,\n",
              "        6.57158313,  6.25892714,  8.02730179, 10.73601861,  7.81382042,\n",
              "       10.14389937,  3.63117315, 12.95063727])"
            ]
          },
          "metadata": {
            "tags": []
          },
          "execution_count": 2
        }
      ]
    },
    {
      "cell_type": "markdown",
      "metadata": {
        "colab_type": "text",
        "id": "X3lR2wGvBx3a"
      },
      "source": [
        "Let's take a look with a scatter plot:"
      ]
    },
    {
      "cell_type": "code",
      "metadata": {
        "colab_type": "code",
        "id": "pVUTC2tmBSIq",
        "outputId": "60f4b035-dbab-49a4-cb11-aa6948630a38",
        "colab": {
          "base_uri": "https://localhost:8080/",
          "height": 286
        }
      },
      "source": [
        "from matplotlib.pyplot import scatter\n",
        "scatter(days, stock_quotes)"
      ],
      "execution_count": 0,
      "outputs": [
        {
          "output_type": "execute_result",
          "data": {
            "text/plain": [
              "<matplotlib.collections.PathCollection at 0x7ff2e0ec1320>"
            ]
          },
          "metadata": {
            "tags": []
          },
          "execution_count": 3
        },
        {
          "output_type": "display_data",
          "data": {
            "image/png": "[encoded data removed]",
            "text/plain": [
              "<Figure size 432x288 with 1 Axes>"
            ]
          },
          "metadata": {
            "tags": []
          }
        }
      ]
    },
    {
      "cell_type": "markdown",
      "metadata": {
        "colab_type": "text",
        "id": "hgD4q-T_B0jd"
      },
      "source": [
        "Looks pretty linear, let's try a simple OLS regression.\n",
        "\n",
        "First, these need to be NumPy arrays:"
      ]
    },
    {
      "cell_type": "code",
      "metadata": {
        "colab_type": "code",
        "id": "A3Q0MrnUBXAl",
        "colab": {}
      },
      "source": [
        "days = days.reshape(-1, 1)  # X needs to be column vectors"
      ],
      "execution_count": 0,
      "outputs": []
    },
    {
      "cell_type": "markdown",
      "metadata": {
        "colab_type": "text",
        "id": "vqr0SHOnB5yR"
      },
      "source": [
        "Now let's use good old `scikit-learn` and linear regression:"
      ]
    },
    {
      "cell_type": "code",
      "metadata": {
        "colab_type": "code",
        "id": "PqyHxgFvBYl5",
        "outputId": "f0fc983b-c5d1-442f-b398-04f0e8d1c751",
        "colab": {
          "base_uri": "https://localhost:8080/",
          "height": 34
        }
      },
      "source": [
        "from sklearn.linear_model import LinearRegression\n",
        "ols_stocks = LinearRegression()\n",
        "ols_stocks.fit(days, stock_quotes)\n",
        "ols_stocks.score(days, stock_quotes)"
      ],
      "execution_count": 0,
      "outputs": [
        {
          "output_type": "execute_result",
          "data": {
            "text/plain": [
              "0.427895796633746"
            ]
          },
          "metadata": {
            "tags": []
          },
          "execution_count": 5
        }
      ]
    },
    {
      "cell_type": "markdown",
      "metadata": {
        "colab_type": "text",
        "id": "KlU0mr-KB_Yk"
      },
      "source": [
        "That seems to work pretty well, but real stocks don't work like this.\n",
        "\n",
        "Let's make *slightly* more realistic data that depends on more than just time:"
      ]
    },
    {
      "cell_type": "code",
      "metadata": {
        "colab_type": "code",
        "id": "-FV1Emb2BuLz",
        "colab": {}
      },
      "source": [
        "# Not everything is best as a comprehension\n",
        "stock_data = np.empty([len(days), 4])\n",
        "for day in days:\n",
        "  asset = random()\n",
        "  liability = random()\n",
        "  quote = random() + ((day * random()) + (20 * asset) - (15 * liability))\n",
        "  quote = max(quote, 0.01)  # Want positive quotes\n",
        "  stock_data[day] = np.array([quote, day, asset, liability])"
      ],
      "execution_count": 0,
      "outputs": []
    },
    {
      "cell_type": "code",
      "metadata": {
        "colab_type": "code",
        "id": "6Qe2zzN1CESe",
        "outputId": "38394580-81e1-466c-df14-38b3a3aacc3e",
        "colab": {
          "base_uri": "https://localhost:8080/",
          "height": 493
        }
      },
      "source": [
        "stock_data"
      ],
      "execution_count": 0,
      "outputs": [
        {
          "output_type": "execute_result",
          "data": {
            "text/plain": [
              "array([[1.68263231e+01, 0.00000000e+00, 9.33922880e-01, 1.49770852e-01],\n",
              "       [5.12474675e+00, 1.00000000e+00, 2.90165112e-01, 1.25936890e-01],\n",
              "       [1.72852442e+01, 2.00000000e+00, 9.32212844e-01, 2.45917876e-01],\n",
              "       [3.88379069e+00, 3.00000000e+00, 3.25414185e-01, 2.46151706e-01],\n",
              "       [8.05891904e+00, 4.00000000e+00, 7.62633502e-01, 6.14639486e-01],\n",
              "       [1.00000000e-02, 5.00000000e+00, 3.16884681e-01, 8.19569566e-01],\n",
              "       [3.60595259e+00, 6.00000000e+00, 2.52832251e-01, 3.03603351e-01],\n",
              "       [4.45217052e+00, 7.00000000e+00, 5.21362264e-01, 5.41791767e-01],\n",
              "       [6.28466804e+00, 8.00000000e+00, 4.99645475e-01, 6.22925023e-01],\n",
              "       [2.37840085e+01, 9.00000000e+00, 9.92414980e-01, 5.17673147e-02],\n",
              "       [2.88670184e+00, 1.00000000e+01, 9.77291632e-02, 3.82768108e-01],\n",
              "       [4.42172096e+00, 1.10000000e+01, 3.80999803e-01, 6.99962341e-01],\n",
              "       [1.94599326e+01, 1.20000000e+01, 7.00050081e-01, 4.75623891e-02],\n",
              "       [7.69207982e+00, 1.30000000e+01, 4.04739269e-01, 7.12871905e-02],\n",
              "       [1.31624756e+01, 1.40000000e+01, 6.02467519e-01, 1.41726508e-01],\n",
              "       [2.72637123e+01, 1.50000000e+01, 9.14883512e-01, 1.98909033e-01],\n",
              "       [2.32392264e+01, 1.60000000e+01, 9.84500712e-01, 2.62416843e-01],\n",
              "       [1.76333425e+01, 1.70000000e+01, 7.79270579e-01, 1.39425835e-01],\n",
              "       [1.76202495e+01, 1.80000000e+01, 5.82749235e-01, 4.36381043e-01],\n",
              "       [1.31949758e+01, 1.90000000e+01, 7.01959049e-01, 5.54624298e-01],\n",
              "       [1.71570676e+01, 2.00000000e+01, 6.98727547e-01, 6.72000692e-01],\n",
              "       [1.69300400e+00, 2.10000000e+01, 2.70963070e-01, 8.51683598e-01],\n",
              "       [6.27648138e+00, 2.20000000e+01, 1.36035802e-01, 9.39296931e-01],\n",
              "       [2.17653745e+01, 2.30000000e+01, 1.49246781e-01, 1.66868856e-01],\n",
              "       [2.11371730e+01, 2.40000000e+01, 6.60246089e-01, 7.38807198e-01],\n",
              "       [1.90850155e+01, 2.50000000e+01, 8.40724596e-01, 8.60145170e-01],\n",
              "       [1.77426256e+01, 2.60000000e+01, 3.68962328e-01, 9.06851210e-01],\n",
              "       [1.00000000e-02, 2.70000000e+01, 4.02161530e-02, 2.41987790e-01]])"
            ]
          },
          "metadata": {
            "tags": []
          },
          "execution_count": 7
        }
      ]
    },
    {
      "cell_type": "markdown",
      "metadata": {
        "colab_type": "text",
        "id": "BzYy4Pb2CLCh"
      },
      "source": [
        "Let's look again:"
      ]
    },
    {
      "cell_type": "code",
      "metadata": {
        "colab_type": "code",
        "id": "qdBcScz4CIXr",
        "outputId": "877deaaa-cde4-4e9b-8ee0-7a678a3a3f10",
        "colab": {
          "base_uri": "https://localhost:8080/",
          "height": 286
        }
      },
      "source": [
        "stock_quotes = stock_data[:,0]\n",
        "scatter(days, stock_quotes)"
      ],
      "execution_count": 0,
      "outputs": [
        {
          "output_type": "execute_result",
          "data": {
            "text/plain": [
              "<matplotlib.collections.PathCollection at 0x7ff2d23277b8>"
            ]
          },
          "metadata": {
            "tags": []
          },
          "execution_count": 8
        },
        {
          "output_type": "display_data",
          "data": {
            "image/png": "[encoded data removed]",
            "text/plain": [
              "<Figure size 432x288 with 1 Axes>"
            ]
          },
          "metadata": {
            "tags": []
          }
        }
      ]
    },
    {
      "cell_type": "markdown",
      "metadata": {
        "colab_type": "text",
        "id": "SBXb7dieCO5h"
      },
      "source": [
        "How does our old model do?"
      ]
    },
    {
      "cell_type": "code",
      "metadata": {
        "colab_type": "code",
        "id": "7gAxCgy1COnX",
        "outputId": "d7dfee3a-4df6-49c6-851b-b12d09c2b32d",
        "colab": {
          "base_uri": "https://localhost:8080/",
          "height": 34
        }
      },
      "source": [
        "days = np.array(days).reshape(-1, 1)\n",
        "ols_stocks.fit(days, stock_quotes)\n",
        "ols_stocks.score(days, stock_quotes)"
      ],
      "execution_count": 0,
      "outputs": [
        {
          "output_type": "execute_result",
          "data": {
            "text/plain": [
              "0.07693861844262018"
            ]
          },
          "metadata": {
            "tags": []
          },
          "execution_count": 9
        }
      ]
    },
    {
      "cell_type": "markdown",
      "metadata": {
        "colab_type": "text",
        "id": "3E94vTFUCax_"
      },
      "source": [
        "Not bad, but can we do better?"
      ]
    },
    {
      "cell_type": "code",
      "metadata": {
        "colab_type": "code",
        "id": "mCR5GImZCbGz",
        "outputId": "226bae1d-0692-4248-9512-32acfa58251a",
        "colab": {
          "base_uri": "https://localhost:8080/",
          "height": 34
        }
      },
      "source": [
        "ols_stocks.fit(stock_data[:,1:], stock_quotes)\n",
        "ols_stocks.score(stock_data[:,1:], stock_quotes)"
      ],
      "execution_count": 0,
      "outputs": [
        {
          "output_type": "execute_result",
          "data": {
            "text/plain": [
              "0.7668480462095018"
            ]
          },
          "metadata": {
            "tags": []
          },
          "execution_count": 10
        }
      ]
    },
    {
      "cell_type": "markdown",
      "metadata": {
        "colab_type": "text",
        "id": "1Qk-jlBCCiKB"
      },
      "source": [
        "Yep - unsurprisingly, the other covariates (assets and liabilities) have info.\n",
        "\n",
        "But, they do worse without the day data."
      ]
    },
    {
      "cell_type": "code",
      "metadata": {
        "colab_type": "code",
        "id": "dDcZl7I5Cf5D",
        "outputId": "96c3d712-84f0-4e03-f8ab-b82bb2f7f183",
        "colab": {
          "base_uri": "https://localhost:8080/",
          "height": 34
        }
      },
      "source": [
        "ols_stocks.fit(stock_data[:,2:], stock_quotes)\n",
        "ols_stocks.score(stock_data[:,2:], stock_quotes)"
      ],
      "execution_count": 0,
      "outputs": [
        {
          "output_type": "execute_result",
          "data": {
            "text/plain": [
              "0.5412874664104117"
            ]
          },
          "metadata": {
            "tags": []
          },
          "execution_count": 11
        }
      ]
    },
    {
      "cell_type": "markdown",
      "metadata": {
        "colab_type": "text",
        "id": "pnLXlrK8ENjb"
      },
      "source": [
        "## Time series jargon\n",
        "\n",
        "There's a lot of semi-standard language and tricks to talk about this sort of data. [NIST](https://www.itl.nist.gov/div898/handbook/pmc/section4/pmc4.htm) has an excellent guidebook, but here are some highlights:"
      ]
    },
    {
      "cell_type": "markdown",
      "metadata": {
        "colab_type": "text",
        "id": "yWUyhnTbcq55"
      },
      "source": [
        "### Moving average\n",
        "\n",
        "Moving average aka rolling average aka running average.\n",
        "\n",
        "Convert a series of data to a series of averages of continguous subsets:"
      ]
    },
    {
      "cell_type": "code",
      "metadata": {
        "colab_type": "code",
        "id": "47bHhBSCcvw-",
        "outputId": "f5592cc6-c5d0-4745-af4d-d65de61e9821",
        "colab": {
          "base_uri": "https://localhost:8080/",
          "height": 493
        }
      },
      "source": [
        "stock_quotes_rolling = [sum(stock_quotes[i:i+3]) / 3\n",
        "                        for i in range(len(stock_quotes - 2))]\n",
        "stock_quotes_rolling"
      ],
      "execution_count": 0,
      "outputs": [
        {
          "output_type": "execute_result",
          "data": {
            "text/plain": [
              "[13.078771349864313,\n",
              " 8.764593879336497,\n",
              " 9.742651310389425,\n",
              " 3.984236575044408,\n",
              " 3.8916238756225128,\n",
              " 2.689374369376667,\n",
              " 4.780930383268505,\n",
              " 11.506949008785043,\n",
              " 10.985126114182462,\n",
              " 10.364143753110435,\n",
              " 8.922785138727829,\n",
              " 10.524577799212786,\n",
              " 13.438162671018956,\n",
              " 16.0394225576235,\n",
              " 21.221804760068565,\n",
              " 22.71209372959493,\n",
              " 19.49760612877318,\n",
              " 16.149522602189457,\n",
              " 15.990764312276605,\n",
              " 10.681682485673592,\n",
              " 8.375517662789068,\n",
              " 9.911619954719233,\n",
              " 16.393009632195323,\n",
              " 20.662521018635243,\n",
              " 19.32160473763499,\n",
              " 12.279213727226228,\n",
              " 5.917541881836076,\n",
              " 0.0033333333333333335]"
            ]
          },
          "metadata": {
            "tags": []
          },
          "execution_count": 12
        }
      ]
    },
    {
      "cell_type": "markdown",
      "metadata": {
        "colab_type": "text",
        "id": "36XvbGhoc186"
      },
      "source": [
        "Pandas has nice series related functions:"
      ]
    },
    {
      "cell_type": "code",
      "metadata": {
        "colab_type": "code",
        "id": "nTNatxtycys_",
        "outputId": "dd144a2f-3e7b-4230-ca69-37d4081044a2",
        "colab": {
          "base_uri": "https://localhost:8080/",
          "height": 917
        }
      },
      "source": [
        "import pandas as pd\n",
        "df = pd.DataFrame(stock_quotes)\n",
        "df.rolling(3).mean()"
      ],
      "execution_count": 0,
      "outputs": [
        {
          "output_type": "execute_result",
          "data": {
            "text/html": [
              "<div>\n",
              "<style scoped>\n",
              "    .dataframe tbody tr th:only-of-type {\n",
              "        vertical-align: middle;\n",
              "    }\n",
              "\n",
              "    .dataframe tbody tr th {\n",
              "        vertical-align: top;\n",
              "    }\n",
              "\n",
              "    .dataframe thead th {\n",
              "        text-align: right;\n",
              "    }\n",
              "</style>\n",
              "<table border=\"1\" class=\"dataframe\">\n",
              "  <thead>\n",
              "    <tr style=\"text-align: right;\">\n",
              "      <th></th>\n",
              "      <th>0</th>\n",
              "    </tr>\n",
              "  </thead>\n",
              "  <tbody>\n",
              "    <tr>\n",
              "      <th>0</th>\n",
              "      <td>NaN</td>\n",
              "    </tr>\n",
              "    <tr>\n",
              "      <th>1</th>\n",
              "      <td>NaN</td>\n",
              "    </tr>\n",
              "    <tr>\n",
              "      <th>2</th>\n",
              "      <td>13.078771</td>\n",
              "    </tr>\n",
              "    <tr>\n",
              "      <th>3</th>\n",
              "      <td>8.764594</td>\n",
              "    </tr>\n",
              "    <tr>\n",
              "      <th>4</th>\n",
              "      <td>9.742651</td>\n",
              "    </tr>\n",
              "    <tr>\n",
              "      <th>5</th>\n",
              "      <td>3.984237</td>\n",
              "    </tr>\n",
              "    <tr>\n",
              "      <th>6</th>\n",
              "      <td>3.891624</td>\n",
              "    </tr>\n",
              "    <tr>\n",
              "      <th>7</th>\n",
              "      <td>2.689374</td>\n",
              "    </tr>\n",
              "    <tr>\n",
              "      <th>8</th>\n",
              "      <td>4.780930</td>\n",
              "    </tr>\n",
              "    <tr>\n",
              "      <th>9</th>\n",
              "      <td>11.506949</td>\n",
              "    </tr>\n",
              "    <tr>\n",
              "      <th>10</th>\n",
              "      <td>10.985126</td>\n",
              "    </tr>\n",
              "    <tr>\n",
              "      <th>11</th>\n",
              "      <td>10.364144</td>\n",
              "    </tr>\n",
              "    <tr>\n",
              "      <th>12</th>\n",
              "      <td>8.922785</td>\n",
              "    </tr>\n",
              "    <tr>\n",
              "      <th>13</th>\n",
              "      <td>10.524578</td>\n",
              "    </tr>\n",
              "    <tr>\n",
              "      <th>14</th>\n",
              "      <td>13.438163</td>\n",
              "    </tr>\n",
              "    <tr>\n",
              "      <th>15</th>\n",
              "      <td>16.039423</td>\n",
              "    </tr>\n",
              "    <tr>\n",
              "      <th>16</th>\n",
              "      <td>21.221805</td>\n",
              "    </tr>\n",
              "    <tr>\n",
              "      <th>17</th>\n",
              "      <td>22.712094</td>\n",
              "    </tr>\n",
              "    <tr>\n",
              "      <th>18</th>\n",
              "      <td>19.497606</td>\n",
              "    </tr>\n",
              "    <tr>\n",
              "      <th>19</th>\n",
              "      <td>16.149523</td>\n",
              "    </tr>\n",
              "    <tr>\n",
              "      <th>20</th>\n",
              "      <td>15.990764</td>\n",
              "    </tr>\n",
              "    <tr>\n",
              "      <th>21</th>\n",
              "      <td>10.681682</td>\n",
              "    </tr>\n",
              "    <tr>\n",
              "      <th>22</th>\n",
              "      <td>8.375518</td>\n",
              "    </tr>\n",
              "    <tr>\n",
              "      <th>23</th>\n",
              "      <td>9.911620</td>\n",
              "    </tr>\n",
              "    <tr>\n",
              "      <th>24</th>\n",
              "      <td>16.393010</td>\n",
              "    </tr>\n",
              "    <tr>\n",
              "      <th>25</th>\n",
              "      <td>20.662521</td>\n",
              "    </tr>\n",
              "    <tr>\n",
              "      <th>26</th>\n",
              "      <td>19.321605</td>\n",
              "    </tr>\n",
              "    <tr>\n",
              "      <th>27</th>\n",
              "      <td>12.279214</td>\n",
              "    </tr>\n",
              "  </tbody>\n",
              "</table>\n",
              "</div>"
            ],
            "text/plain": [
              "            0\n",
              "0         NaN\n",
              "1         NaN\n",
              "2   13.078771\n",
              "3    8.764594\n",
              "4    9.742651\n",
              "5    3.984237\n",
              "6    3.891624\n",
              "7    2.689374\n",
              "8    4.780930\n",
              "9   11.506949\n",
              "10  10.985126\n",
              "11  10.364144\n",
              "12   8.922785\n",
              "13  10.524578\n",
              "14  13.438163\n",
              "15  16.039423\n",
              "16  21.221805\n",
              "17  22.712094\n",
              "18  19.497606\n",
              "19  16.149523\n",
              "20  15.990764\n",
              "21  10.681682\n",
              "22   8.375518\n",
              "23   9.911620\n",
              "24  16.393010\n",
              "25  20.662521\n",
              "26  19.321605\n",
              "27  12.279214"
            ]
          },
          "metadata": {
            "tags": []
          },
          "execution_count": 13
        }
      ]
    },
    {
      "cell_type": "markdown",
      "metadata": {
        "colab_type": "text",
        "id": "os-szg47dgwf"
      },
      "source": [
        "### Forecasting\n",
        "\n",
        "Forecasting - at it's simplest, it just means \"predict the future\":"
      ]
    },
    {
      "cell_type": "code",
      "metadata": {
        "colab_type": "code",
        "id": "D_qtt6irdj0x",
        "outputId": "289030a9-ba6e-4e98-8cc3-fd34315a4932",
        "colab": {
          "base_uri": "https://localhost:8080/",
          "height": 34
        }
      },
      "source": [
        "ols_stocks.fit(stock_data[:,1:], stock_quotes)\n",
        "ols_stocks.predict([[29, 0.5, 0.5]])"
      ],
      "execution_count": 0,
      "outputs": [
        {
          "output_type": "execute_result",
          "data": {
            "text/plain": [
              "array([18.73136726])"
            ]
          },
          "metadata": {
            "tags": []
          },
          "execution_count": 14
        }
      ]
    },
    {
      "cell_type": "markdown",
      "metadata": {
        "colab_type": "text",
        "id": "fjnQY0trdnHp"
      },
      "source": [
        "One way to predict if you just have the series data is to use the prior observation. This can be pretty good (if you had to pick one feature to model the temperature for tomorrow, the temperature today is a good choice)."
      ]
    },
    {
      "cell_type": "code",
      "metadata": {
        "colab_type": "code",
        "id": "bzC4DV9Hdupp",
        "outputId": "3717267c-0084-46f0-d639-477b357703ca",
        "colab": {
          "base_uri": "https://localhost:8080/",
          "height": 34
        }
      },
      "source": [
        "temperature = np.array([30 + random() * day\n",
        "                        for day in np.array(range(365)).reshape(-1, 1)])\n",
        "temperature_next = temperature[1:].reshape(-1, 1)\n",
        "temperature_ols = LinearRegression()\n",
        "temperature_ols.fit(temperature[:-1], temperature_next)\n",
        "temperature_ols.score(temperature[:-1], temperature_next)"
      ],
      "execution_count": 0,
      "outputs": [
        {
          "output_type": "execute_result",
          "data": {
            "text/plain": [
              "0.17446913276326537"
            ]
          },
          "metadata": {
            "tags": []
          },
          "execution_count": 15
        }
      ]
    },
    {
      "cell_type": "markdown",
      "metadata": {
        "colab_type": "text",
        "id": "RFdssXQbdxbE"
      },
      "source": [
        "But you can often make it better by considering more than one prior observation."
      ]
    },
    {
      "cell_type": "code",
      "metadata": {
        "colab_type": "code",
        "id": "pVfUqD2YdxxZ",
        "outputId": "2c8daf35-0ffd-4305-827a-324d5b355f29",
        "colab": {
          "base_uri": "https://localhost:8080/",
          "height": 34
        }
      },
      "source": [
        "temperature_next_next = temperature[2:].reshape(-1, 1)\n",
        "temperature_two_past = np.concatenate([temperature[:-2], temperature_next[:-1]],\n",
        "                                      axis=1)\n",
        "temperature_ols.fit(temperature_two_past, temperature_next_next)\n",
        "temperature_ols.score(temperature_two_past, temperature_next_next)"
      ],
      "execution_count": 0,
      "outputs": [
        {
          "output_type": "execute_result",
          "data": {
            "text/plain": [
              "0.2747118946497007"
            ]
          },
          "metadata": {
            "tags": []
          },
          "execution_count": 16
        }
      ]
    },
    {
      "cell_type": "markdown",
      "metadata": {
        "colab_type": "text",
        "id": "c9QltBdmd7TV"
      },
      "source": [
        "### Exponential smoothing\n",
        "\n",
        "Exponential smoothing means using exponentially decreasing past weights to predict the future.\n",
        "\n",
        "You could roll your own, but let's use Pandas."
      ]
    },
    {
      "cell_type": "code",
      "metadata": {
        "colab_type": "code",
        "id": "hvMNqunOeC_B",
        "outputId": "59ed1576-0559-478d-8954-571952c9bb7a",
        "colab": {
          "base_uri": "https://localhost:8080/",
          "height": 1969
        }
      },
      "source": [
        "temperature_df = pd.DataFrame(temperature)\n",
        "temperature_df.ewm(halflife=7).mean()"
      ],
      "execution_count": 0,
      "outputs": [
        {
          "output_type": "execute_result",
          "data": {
            "text/html": [
              "<div>\n",
              "<style scoped>\n",
              "    .dataframe tbody tr th:only-of-type {\n",
              "        vertical-align: middle;\n",
              "    }\n",
              "\n",
              "    .dataframe tbody tr th {\n",
              "        vertical-align: top;\n",
              "    }\n",
              "\n",
              "    .dataframe thead th {\n",
              "        text-align: right;\n",
              "    }\n",
              "</style>\n",
              "<table border=\"1\" class=\"dataframe\">\n",
              "  <thead>\n",
              "    <tr style=\"text-align: right;\">\n",
              "      <th></th>\n",
              "      <th>0</th>\n",
              "    </tr>\n",
              "  </thead>\n",
              "  <tbody>\n",
              "    <tr>\n",
              "      <th>0</th>\n",
              "      <td>30.000000</td>\n",
              "    </tr>\n",
              "    <tr>\n",
              "      <th>1</th>\n",
              "      <td>30.330795</td>\n",
              "    </tr>\n",
              "    <tr>\n",
              "      <th>2</th>\n",
              "      <td>30.758706</td>\n",
              "    </tr>\n",
              "    <tr>\n",
              "      <th>3</th>\n",
              "      <td>31.311185</td>\n",
              "    </tr>\n",
              "    <tr>\n",
              "      <th>4</th>\n",
              "      <td>31.797121</td>\n",
              "    </tr>\n",
              "    <tr>\n",
              "      <th>5</th>\n",
              "      <td>32.263021</td>\n",
              "    </tr>\n",
              "    <tr>\n",
              "      <th>6</th>\n",
              "      <td>32.732330</td>\n",
              "    </tr>\n",
              "    <tr>\n",
              "      <th>7</th>\n",
              "      <td>32.445570</td>\n",
              "    </tr>\n",
              "    <tr>\n",
              "      <th>8</th>\n",
              "      <td>32.300969</td>\n",
              "    </tr>\n",
              "    <tr>\n",
              "      <th>9</th>\n",
              "      <td>32.659021</td>\n",
              "    </tr>\n",
              "    <tr>\n",
              "      <th>10</th>\n",
              "      <td>33.249708</td>\n",
              "    </tr>\n",
              "    <tr>\n",
              "      <th>11</th>\n",
              "      <td>33.693991</td>\n",
              "    </tr>\n",
              "    <tr>\n",
              "      <th>12</th>\n",
              "      <td>34.723281</td>\n",
              "    </tr>\n",
              "    <tr>\n",
              "      <th>13</th>\n",
              "      <td>34.746900</td>\n",
              "    </tr>\n",
              "    <tr>\n",
              "      <th>14</th>\n",
              "      <td>35.657137</td>\n",
              "    </tr>\n",
              "    <tr>\n",
              "      <th>15</th>\n",
              "      <td>36.292247</td>\n",
              "    </tr>\n",
              "    <tr>\n",
              "      <th>16</th>\n",
              "      <td>35.720982</td>\n",
              "    </tr>\n",
              "    <tr>\n",
              "      <th>17</th>\n",
              "      <td>35.081677</td>\n",
              "    </tr>\n",
              "    <tr>\n",
              "      <th>18</th>\n",
              "      <td>35.252923</td>\n",
              "    </tr>\n",
              "    <tr>\n",
              "      <th>19</th>\n",
              "      <td>35.418198</td>\n",
              "    </tr>\n",
              "    <tr>\n",
              "      <th>20</th>\n",
              "      <td>36.396078</td>\n",
              "    </tr>\n",
              "    <tr>\n",
              "      <th>21</th>\n",
              "      <td>36.988980</td>\n",
              "    </tr>\n",
              "    <tr>\n",
              "      <th>22</th>\n",
              "      <td>38.497512</td>\n",
              "    </tr>\n",
              "    <tr>\n",
              "      <th>23</th>\n",
              "      <td>39.027036</td>\n",
              "    </tr>\n",
              "    <tr>\n",
              "      <th>24</th>\n",
              "      <td>38.693427</td>\n",
              "    </tr>\n",
              "    <tr>\n",
              "      <th>25</th>\n",
              "      <td>39.290844</td>\n",
              "    </tr>\n",
              "    <tr>\n",
              "      <th>26</th>\n",
              "      <td>40.120071</td>\n",
              "    </tr>\n",
              "    <tr>\n",
              "      <th>27</th>\n",
              "      <td>41.147388</td>\n",
              "    </tr>\n",
              "    <tr>\n",
              "      <th>28</th>\n",
              "      <td>40.598088</td>\n",
              "    </tr>\n",
              "    <tr>\n",
              "      <th>29</th>\n",
              "      <td>40.739826</td>\n",
              "    </tr>\n",
              "    <tr>\n",
              "      <th>...</th>\n",
              "      <td>...</td>\n",
              "    </tr>\n",
              "    <tr>\n",
              "      <th>335</th>\n",
              "      <td>206.971267</td>\n",
              "    </tr>\n",
              "    <tr>\n",
              "      <th>336</th>\n",
              "      <td>209.126276</td>\n",
              "    </tr>\n",
              "    <tr>\n",
              "      <th>337</th>\n",
              "      <td>206.729011</td>\n",
              "    </tr>\n",
              "    <tr>\n",
              "      <th>338</th>\n",
              "      <td>217.257551</td>\n",
              "    </tr>\n",
              "    <tr>\n",
              "      <th>339</th>\n",
              "      <td>203.394701</td>\n",
              "    </tr>\n",
              "    <tr>\n",
              "      <th>340</th>\n",
              "      <td>192.627208</td>\n",
              "    </tr>\n",
              "    <tr>\n",
              "      <th>341</th>\n",
              "      <td>205.794858</td>\n",
              "    </tr>\n",
              "    <tr>\n",
              "      <th>342</th>\n",
              "      <td>207.579089</td>\n",
              "    </tr>\n",
              "    <tr>\n",
              "      <th>343</th>\n",
              "      <td>191.356481</td>\n",
              "    </tr>\n",
              "    <tr>\n",
              "      <th>344</th>\n",
              "      <td>203.173879</td>\n",
              "    </tr>\n",
              "    <tr>\n",
              "      <th>345</th>\n",
              "      <td>204.923136</td>\n",
              "    </tr>\n",
              "    <tr>\n",
              "      <th>346</th>\n",
              "      <td>219.839821</td>\n",
              "    </tr>\n",
              "    <tr>\n",
              "      <th>347</th>\n",
              "      <td>206.853258</td>\n",
              "    </tr>\n",
              "    <tr>\n",
              "      <th>348</th>\n",
              "      <td>198.865733</td>\n",
              "    </tr>\n",
              "    <tr>\n",
              "      <th>349</th>\n",
              "      <td>196.473846</td>\n",
              "    </tr>\n",
              "    <tr>\n",
              "      <th>350</th>\n",
              "      <td>186.445291</td>\n",
              "    </tr>\n",
              "    <tr>\n",
              "      <th>351</th>\n",
              "      <td>186.655613</td>\n",
              "    </tr>\n",
              "    <tr>\n",
              "      <th>352</th>\n",
              "      <td>174.850349</td>\n",
              "    </tr>\n",
              "    <tr>\n",
              "      <th>353</th>\n",
              "      <td>185.920417</td>\n",
              "    </tr>\n",
              "    <tr>\n",
              "      <th>354</th>\n",
              "      <td>202.350730</td>\n",
              "    </tr>\n",
              "    <tr>\n",
              "      <th>355</th>\n",
              "      <td>207.649585</td>\n",
              "    </tr>\n",
              "    <tr>\n",
              "      <th>356</th>\n",
              "      <td>203.359295</td>\n",
              "    </tr>\n",
              "    <tr>\n",
              "      <th>357</th>\n",
              "      <td>206.302999</td>\n",
              "    </tr>\n",
              "    <tr>\n",
              "      <th>358</th>\n",
              "      <td>217.525505</td>\n",
              "    </tr>\n",
              "    <tr>\n",
              "      <th>359</th>\n",
              "      <td>218.317298</td>\n",
              "    </tr>\n",
              "    <tr>\n",
              "      <th>360</th>\n",
              "      <td>220.592834</td>\n",
              "    </tr>\n",
              "    <tr>\n",
              "      <th>361</th>\n",
              "      <td>217.340269</td>\n",
              "    </tr>\n",
              "    <tr>\n",
              "      <th>362</th>\n",
              "      <td>230.751581</td>\n",
              "    </tr>\n",
              "    <tr>\n",
              "      <th>363</th>\n",
              "      <td>220.684203</td>\n",
              "    </tr>\n",
              "    <tr>\n",
              "      <th>364</th>\n",
              "      <td>225.425346</td>\n",
              "    </tr>\n",
              "  </tbody>\n",
              "</table>\n",
              "<p>365 rows × 1 columns</p>\n",
              "</div>"
            ],
            "text/plain": [
              "              0\n",
              "0     30.000000\n",
              "1     30.330795\n",
              "2     30.758706\n",
              "3     31.311185\n",
              "4     31.797121\n",
              "5     32.263021\n",
              "6     32.732330\n",
              "7     32.445570\n",
              "8     32.300969\n",
              "9     32.659021\n",
              "10    33.249708\n",
              "11    33.693991\n",
              "12    34.723281\n",
              "13    34.746900\n",
              "14    35.657137\n",
              "15    36.292247\n",
              "16    35.720982\n",
              "17    35.081677\n",
              "18    35.252923\n",
              "19    35.418198\n",
              "20    36.396078\n",
              "21    36.988980\n",
              "22    38.497512\n",
              "23    39.027036\n",
              "24    38.693427\n",
              "25    39.290844\n",
              "26    40.120071\n",
              "27    41.147388\n",
              "28    40.598088\n",
              "29    40.739826\n",
              "..          ...\n",
              "335  206.971267\n",
              "336  209.126276\n",
              "337  206.729011\n",
              "338  217.257551\n",
              "339  203.394701\n",
              "340  192.627208\n",
              "341  205.794858\n",
              "342  207.579089\n",
              "343  191.356481\n",
              "344  203.173879\n",
              "345  204.923136\n",
              "346  219.839821\n",
              "347  206.853258\n",
              "348  198.865733\n",
              "349  196.473846\n",
              "350  186.445291\n",
              "351  186.655613\n",
              "352  174.850349\n",
              "353  185.920417\n",
              "354  202.350730\n",
              "355  207.649585\n",
              "356  203.359295\n",
              "357  206.302999\n",
              "358  217.525505\n",
              "359  218.317298\n",
              "360  220.592834\n",
              "361  217.340269\n",
              "362  230.751581\n",
              "363  220.684203\n",
              "364  225.425346\n",
              "\n",
              "[365 rows x 1 columns]"
            ]
          },
          "metadata": {
            "tags": []
          },
          "execution_count": 17
        }
      ]
    },
    {
      "cell_type": "markdown",
      "metadata": {
        "colab_type": "text",
        "id": "gBEjBZVbeH6R"
      },
      "source": [
        "Halflife is among the parameters we can play with:"
      ]
    },
    {
      "cell_type": "code",
      "metadata": {
        "colab_type": "code",
        "id": "HjZgMwYkeODN",
        "outputId": "deb8bfe3-57a8-41e7-fc22-e7f8eec51cc0",
        "colab": {
          "base_uri": "https://localhost:8080/",
          "height": 85
        }
      },
      "source": [
        "sse_1 = ((temperature_df - temperature_df.ewm(halflife=7).mean())**2).sum()\n",
        "sse_2 = ((temperature_df - temperature_df.ewm(halflife=3).mean())**2).sum()\n",
        "print(sse_1)\n",
        "print(sse_2)"
      ],
      "execution_count": 0,
      "outputs": [
        {
          "output_type": "stream",
          "text": [
            "0    1.132953e+06\n",
            "dtype: float64\n",
            "0    915568.305799\n",
            "dtype: float64\n"
          ],
          "name": "stdout"
        }
      ]
    },
    {
      "cell_type": "markdown",
      "metadata": {
        "colab_type": "text",
        "id": "s39bj4g9eQ9Z"
      },
      "source": [
        "Note - the first error being higher doesn't mean it's necessarily *worse*. It's *smoother* as expected, and if that's what we care about - great!"
      ]
    },
    {
      "cell_type": "markdown",
      "metadata": {
        "colab_type": "text",
        "id": "OcPMn8o4eYP1"
      },
      "source": [
        "### Seasonality\n",
        "\n",
        "Seasonality - \"day of week\"-effects, and more. In a lot of real world data, certain time periods are systemically different, e.g. holidays for retailers, weekends for restaurants, seasons for weather.\n",
        "\n",
        "Let's try to make some seasonal data - a store that sells more later in a week:"
      ]
    },
    {
      "cell_type": "code",
      "metadata": {
        "colab_type": "code",
        "id": "h0qPMWCreheL",
        "outputId": "c9848f30-186c-4bc0-9545-d1ef6cee4970",
        "colab": {
          "base_uri": "https://localhost:8080/",
          "height": 286
        }
      },
      "source": [
        "sales = np.array([random() + (day % 7) * random() for day in days])\n",
        "scatter(days, sales)"
      ],
      "execution_count": 0,
      "outputs": [
        {
          "output_type": "execute_result",
          "data": {
            "text/plain": [
              "<matplotlib.collections.PathCollection at 0x7ff2d0fb9a90>"
            ]
          },
          "metadata": {
            "tags": []
          },
          "execution_count": 19
        },
        {
          "output_type": "display_data",
          "data": {
            "image/png": "[encoded data removed]",
            "text/plain": [
              "<Figure size 432x288 with 1 Axes>"
            ]
          },
          "metadata": {
            "tags": []
          }
        }
      ]
    },
    {
      "cell_type": "markdown",
      "metadata": {
        "colab_type": "text",
        "id": "LEADkcMzelxY"
      },
      "source": [
        "How does linear regression do at fitting this?"
      ]
    },
    {
      "cell_type": "code",
      "metadata": {
        "colab_type": "code",
        "id": "EV5kt69GenV3",
        "outputId": "6663c828-8eb0-4ea6-ea4d-3e9107fe5b8a",
        "colab": {
          "base_uri": "https://localhost:8080/",
          "height": 34
        }
      },
      "source": [
        "sales_ols = LinearRegression()\n",
        "sales_ols.fit(days, sales)\n",
        "sales_ols.score(days, sales)"
      ],
      "execution_count": 0,
      "outputs": [
        {
          "output_type": "execute_result",
          "data": {
            "text/plain": [
              "0.021736681200144714"
            ]
          },
          "metadata": {
            "tags": []
          },
          "execution_count": 20
        }
      ]
    },
    {
      "cell_type": "markdown",
      "metadata": {
        "colab_type": "text",
        "id": "7shN1eBMep9Q"
      },
      "source": [
        "That's not great - and the fix depends on the domain. Here, we know it'd be best to actually use \"day of week\" as a feature."
      ]
    },
    {
      "cell_type": "code",
      "metadata": {
        "colab_type": "code",
        "id": "Qo9eFlHIeqtA",
        "outputId": "46fbf470-24eb-43eb-ea2e-132766ed7182",
        "colab": {
          "base_uri": "https://localhost:8080/",
          "height": 34
        }
      },
      "source": [
        "day_of_week = days % 7\n",
        "sales_ols.fit(day_of_week, sales)\n",
        "sales_ols.score(day_of_week, sales)"
      ],
      "execution_count": 0,
      "outputs": [
        {
          "output_type": "execute_result",
          "data": {
            "text/plain": [
              "0.48752417794273933"
            ]
          },
          "metadata": {
            "tags": []
          },
          "execution_count": 21
        }
      ]
    },
    {
      "cell_type": "markdown",
      "metadata": {
        "colab_type": "text",
        "id": "9ooJIfIMex2G"
      },
      "source": [
        "Note that it's also important to have representative data across whatever seasonal feature(s) you use - don't predict retailers based only on Christmas, as that won't generalize well."
      ]
    },
    {
      "cell_type": "markdown",
      "metadata": {
        "colab_type": "text",
        "id": "44QZgrPUe3-Y"
      },
      "source": [
        "## Recurrent Neural Networks\n",
        "\n",
        "There's plenty more to \"traditional\" time series, but the latest and greatest technique for sequence data is recurrent neural networks. A recurrence relation in math is an equation that uses recursion to define a sequence - a famous example is the Fibonacci numbers:\n",
        "\n",
        "$F_n = F_{n-1} + F_{n-2}$\n",
        "\n",
        "For formal math you also need a base case $F_0=1, F_1=1$, and then the rest builds from there. But for neural networks what we're really talking about are loops:\n",
        "\n",
        "![Recurrent neural network](https://upload.wikimedia.org/wikipedia/commons/b/b5/Recurrent_neural_network_unfold.svg)\n",
        "\n",
        "The hidden layers have edges (output) going back to their own input - this loop means that for any time `t` the training is at least partly based on the output from time `t-1`. The entire network is being represented on the left, and you can unfold the network explicitly to see how it behaves at any given `t`.\n",
        "\n",
        "Different units can have this \"loop\", but a particularly successful one is the long short-term memory unit (LSTM):\n",
        "\n",
        "![Long short-term memory unit](https://upload.wikimedia.org/wikipedia/commons/thumb/6/63/Long_Short-Term_Memory.svg/1024px-Long_Short-Term_Memory.svg.png)\n",
        "\n",
        "There's a lot going on here - in a nutshell, the calculus still works out and backpropagation can still be implemented. The advantage (ane namesake) of LSTM is that it can generally put more weight on recent (short-term) events while not completely losing older (long-term) information.\n",
        "\n",
        "After enough iterations, a typical neural network will start calculating prior gradients that are so small they effectively become zero - this is the [vanishing gradient problem](https://en.wikipedia.org/wiki/Vanishing_gradient_problem), and is what RNN with LSTM addresses. Pay special attention to the $c_t$ parameters and how they pass through the unit to get an intuition for how this problem is solved.\n",
        "\n",
        "So why are these cool? One particularly compelling application is actually not time series but language modeling - language is inherently ordered data (letters/words go one after another, and the order *matters*). [The Unreasonable Effectiveness of Recurrent Neural Networks](https://karpathy.github.io/2015/05/21/rnn-effectiveness/) is a famous and worth reading blog post on this topic.\n",
        "\n",
        "For our purposes, let's use TensorFlow and Keras to train RNNs with natural language. Resources:\n",
        "\n",
        "- https://github.com/keras-team/keras/blob/master/examples/imdb_lstm.py\n",
        "- https://keras.io/layers/recurrent/#lstm\n",
        "- http://adventuresinmachinelearning.com/keras-lstm-tutorial/\n",
        "\n",
        "Note that `tensorflow.contrib` [also has an implementation of RNN/LSTM](https://www.tensorflow.org/tutorials/sequences/recurrent)."
      ]
    },
    {
      "cell_type": "markdown",
      "metadata": {
        "colab_type": "text",
        "id": "eWrQllf8WEd-"
      },
      "source": [
        "### RNN/LSTM Sentiment Classification with Keras"
      ]
    },
    {
      "cell_type": "code",
      "metadata": {
        "colab_type": "code",
        "id": "Ti23G0gRe3kr",
        "outputId": "dde3ff41-99bd-4eb7-ada4-01938563e0a0",
        "colab": {
          "base_uri": "https://localhost:8080/",
          "height": 765
        }
      },
      "source": [
        "%%time\n",
        "'''\n",
        "#Trains an LSTM model on the IMDB sentiment classification task.\n",
        "The dataset is actually too small for LSTM to be of any advantage\n",
        "compared to simpler, much faster methods such as TF-IDF + LogReg.\n",
        "**Notes**\n",
        "- RNNs are tricky. Choice of batch size is important,\n",
        "choice of loss and optimizer is critical, etc.\n",
        "Some configurations won't converge.\n",
        "- LSTM loss decrease patterns during training can be quite different\n",
        "from what you see with CNNs/MLPs/etc.\n",
        "'''\n",
        "from __future__ import print_function\n",
        "\n",
        "from keras.preprocessing import sequence\n",
        "from keras.models import Sequential\n",
        "from keras.layers import Dense, Embedding\n",
        "from keras.layers import LSTM\n",
        "from keras.datasets import imdb\n",
        "\n",
        "max_features = 20000\n",
        "# cut texts after this number of words (among top max_features most common words)\n",
        "maxlen = 80\n",
        "batch_size = 32\n",
        "\n",
        "print('Loading data...')\n",
        "(x_train, y_train), (x_test, y_test) = imdb.load_data(num_words=max_features)\n",
        "print(len(x_train), 'train sequences')\n",
        "print(len(x_test), 'test sequences')\n",
        "\n",
        "print('Pad sequences (samples x time)')\n",
        "x_train = sequence.pad_sequences(x_train, maxlen=maxlen)\n",
        "x_test = sequence.pad_sequences(x_test, maxlen=maxlen)\n",
        "print('x_train shape:', x_train.shape)\n",
        "print('x_test shape:', x_test.shape)\n",
        "\n",
        "print('Build model...')\n",
        "model = Sequential()\n",
        "model.add(Embedding(max_features, 128))\n",
        "model.add(LSTM(128, dropout=0.2, recurrent_dropout=0.2))\n",
        "model.add(Dense(1, activation='sigmoid'))\n",
        "\n",
        "# try using different optimizers and different optimizer configs\n",
        "model.compile(loss='binary_crossentropy',\n",
        "              optimizer='adam',\n",
        "              metrics=['accuracy'])\n",
        "\n",
        "print('Train...')\n",
        "model.fit(x_train, y_train,\n",
        "          batch_size=batch_size,\n",
        "          epochs=15,\n",
        "          validation_data=(x_test, y_test))\n",
        "score, acc = model.evaluate(x_test, y_test,\n",
        "                            batch_size=batch_size)\n",
        "print('Test score:', score)\n",
        "print('Test accuracy:', acc)"
      ],
      "execution_count": 0,
      "outputs": [
        {
          "output_type": "stream",
          "text": [
            "Loading data...\n",
            "25000 train sequences\n",
            "25000 test sequences\n",
            "Pad sequences (samples x time)\n",
            "x_train shape: (25000, 80)\n",
            "x_test shape: (25000, 80)\n",
            "Build model...\n",
            "Train...\n",
            "Train on 25000 samples, validate on 25000 samples\n",
            "Epoch 1/15\n",
            "25000/25000 [==============================] - 115s 5ms/step - loss: 0.4657 - acc: 0.7780 - val_loss: 0.4166 - val_acc: 0.8138\n",
            "Epoch 2/15\n",
            "25000/25000 [==============================] - 116s 5ms/step - loss: 0.3092 - acc: 0.8732 - val_loss: 0.4393 - val_acc: 0.8043\n",
            "Epoch 3/15\n",
            "25000/25000 [==============================] - 115s 5ms/step - loss: 0.2261 - acc: 0.9112 - val_loss: 0.4223 - val_acc: 0.8328\n",
            "Epoch 4/15\n",
            "25000/25000 [==============================] - 114s 5ms/step - loss: 0.1581 - acc: 0.9416 - val_loss: 0.4438 - val_acc: 0.8206\n",
            "Epoch 5/15\n",
            "25000/25000 [==============================] - 114s 5ms/step - loss: 0.1095 - acc: 0.9615 - val_loss: 0.6014 - val_acc: 0.8252\n",
            "Epoch 6/15\n",
            "25000/25000 [==============================] - 114s 5ms/step - loss: 0.0866 - acc: 0.9697 - val_loss: 0.6414 - val_acc: 0.8202\n",
            "Epoch 7/15\n",
            "25000/25000 [==============================] - 115s 5ms/step - loss: 0.0583 - acc: 0.9800 - val_loss: 0.7564 - val_acc: 0.8172\n",
            "Epoch 8/15\n",
            "25000/25000 [==============================] - 113s 5ms/step - loss: 0.0418 - acc: 0.9859 - val_loss: 0.7135 - val_acc: 0.8114\n",
            "Epoch 9/15\n",
            "25000/25000 [==============================] - 116s 5ms/step - loss: 0.0375 - acc: 0.9872 - val_loss: 0.9919 - val_acc: 0.8155\n",
            "Epoch 10/15\n",
            "25000/25000 [==============================] - 114s 5ms/step - loss: 0.0215 - acc: 0.9933 - val_loss: 1.1204 - val_acc: 0.8102\n",
            "Epoch 11/15\n",
            "25000/25000 [==============================] - 115s 5ms/step - loss: 0.0202 - acc: 0.9939 - val_loss: 0.9621 - val_acc: 0.8117\n",
            "Epoch 12/15\n",
            "25000/25000 [==============================] - 114s 5ms/step - loss: 0.0197 - acc: 0.9935 - val_loss: 0.9924 - val_acc: 0.8126\n",
            "Epoch 13/15\n",
            "25000/25000 [==============================] - 114s 5ms/step - loss: 0.0134 - acc: 0.9960 - val_loss: 1.0235 - val_acc: 0.8117\n",
            "Epoch 14/15\n",
            "25000/25000 [==============================] - 116s 5ms/step - loss: 0.0112 - acc: 0.9959 - val_loss: 1.0033 - val_acc: 0.8037\n",
            "Epoch 15/15\n",
            "25000/25000 [==============================] - 114s 5ms/step - loss: 0.0074 - acc: 0.9975 - val_loss: 1.3005 - val_acc: 0.8093\n",
            "25000/25000 [==============================] - 21s 831us/step\n",
            "Test score: 1.3005397530283034\n",
            "Test accuracy: 0.80932\n",
            "CPU times: user 35min 39s, sys: 1min 49s, total: 37min 28s\n",
            "Wall time: 29min 6s\n"
          ],
          "name": "stdout"
        }
      ]
    },
    {
      "cell_type": "markdown",
      "metadata": {
        "colab_type": "text",
        "id": "7pETWPIe362y"
      },
      "source": [
        "### RNN Text generation with NumPy\n",
        "\n",
        "What else can we do with RNN? Since we're analyzing the *sequence*, we can do more than classify - we can *generate* text. We'll pull some news stories using [newspaper](https://github.com/codelucas/newspaper/)."
      ]
    },
    {
      "cell_type": "markdown",
      "metadata": {
        "colab_type": "text",
        "id": "fz1m55G5WSrQ"
      },
      "source": [
        "#### Initialization"
      ]
    },
    {
      "cell_type": "code",
      "metadata": {
        "colab_type": "code",
        "id": "ahlHBeoZCaLX",
        "outputId": "64feab61-0b6c-4b97-bb3f-360d746e29ec",
        "colab": {
          "base_uri": "https://localhost:8080/",
          "height": 894
        }
      },
      "source": [
        "!pip install newspaper3k"
      ],
      "execution_count": 0,
      "outputs": [
        {
          "output_type": "stream",
          "text": [
            "Collecting newspaper3k\n",
            "\u001b[?25l  Downloading https://files.pythonhosted.org/packages/d7/b9/51afecb35bb61b188a4b44868001de348a0e8134b4dfa00ffc191567c4b9/newspaper3k-0.2.8-py3-none-any.whl (211kB)\n",
            "\u001b[K     |████████████████████████████████| 215kB 44.7MB/s \n",
            "\u001b[?25hRequirement already satisfied: requests>=2.10.0 in /usr/local/lib/python3.6/dist-packages (from newspaper3k) (2.21.0)\n",
            "Collecting jieba3k>=0.35.1 (from newspaper3k)\n",
            "\u001b[?25l  Downloading https://files.pythonhosted.org/packages/a9/cb/2c8332bcdc14d33b0bedd18ae0a4981a069c3513e445120da3c3f23a8aaa/jieba3k-0.35.1.zip (7.4MB)\n",
            "\u001b[K     |████████████████████████████████| 7.4MB 48.8MB/s \n",
            "\u001b[?25hRequirement already satisfied: nltk>=3.2.1 in /usr/local/lib/python3.6/dist-packages (from newspaper3k) (3.2.5)\n",
            "Requirement already satisfied: lxml>=3.6.0 in /usr/local/lib/python3.6/dist-packages (from newspaper3k) (4.2.6)\n",
            "Collecting feedfinder2>=0.0.4 (from newspaper3k)\n",
            "  Downloading https://files.pythonhosted.org/packages/35/82/1251fefec3bb4b03fd966c7e7f7a41c9fc2bb00d823a34c13f847fd61406/feedfinder2-0.0.4.tar.gz\n",
            "Collecting cssselect>=0.9.2 (from newspaper3k)\n",
            "  Downloading https://files.pythonhosted.org/packages/7b/44/25b7283e50585f0b4156960691d951b05d061abf4a714078393e51929b30/cssselect-1.0.3-py2.py3-none-any.whl\n",
            "Requirement already satisfied: Pillow>=3.3.0 in /usr/local/lib/python3.6/dist-packages (from newspaper3k) (4.3.0)\n",
            "Requirement already satisfied: beautifulsoup4>=4.4.1 in /usr/local/lib/python3.6/dist-packages (from newspaper3k) (4.6.3)\n",
            "Collecting tldextract>=2.0.1 (from newspaper3k)\n",
            "\u001b[?25l  Downloading https://files.pythonhosted.org/packages/1e/90/18ac0e5340b6228c25cc8e79835c3811e7553b2b9ae87296dfeb62b7866d/tldextract-2.2.1-py2.py3-none-any.whl (48kB)\n",
            "\u001b[K     |████████████████████████████████| 51kB 22.6MB/s \n",
            "\u001b[?25hCollecting tinysegmenter==0.3 (from newspaper3k)\n",
            "  Downloading https://files.pythonhosted.org/packages/17/82/86982e4b6d16e4febc79c2a1d68ee3b707e8a020c5d2bc4af8052d0f136a/tinysegmenter-0.3.tar.gz\n",
            "Collecting feedparser>=5.2.1 (from newspaper3k)\n",
            "\u001b[?25l  Downloading https://files.pythonhosted.org/packages/91/d8/7d37fec71ff7c9dbcdd80d2b48bcdd86d6af502156fc93846fb0102cb2c4/feedparser-5.2.1.tar.bz2 (192kB)\n",
            "\u001b[K     |████████████████████████████████| 194kB 49.4MB/s \n",
            "\u001b[?25hRequirement already satisfied: PyYAML>=3.11 in /usr/local/lib/python3.6/dist-packages (from newspaper3k) (3.13)\n",
            "Requirement already satisfied: python-dateutil>=2.5.3 in /usr/local/lib/python3.6/dist-packages (from newspaper3k) (2.5.3)\n",
            "Requirement already satisfied: urllib3<1.25,>=1.21.1 in /usr/local/lib/python3.6/dist-packages (from requests>=2.10.0->newspaper3k) (1.24.3)\n",
            "Requirement already satisfied: idna<2.9,>=2.5 in /usr/local/lib/python3.6/dist-packages (from requests>=2.10.0->newspaper3k) (2.8)\n",
            "Requirement already satisfied: chardet<3.1.0,>=3.0.2 in /usr/local/lib/python3.6/dist-packages (from requests>=2.10.0->newspaper3k) (3.0.4)\n",
            "Requirement already satisfied: certifi>=2017.4.17 in /usr/local/lib/python3.6/dist-packages (from requests>=2.10.0->newspaper3k) (2019.3.9)\n",
            "Requirement already satisfied: six in /usr/local/lib/python3.6/dist-packages (from nltk>=3.2.1->newspaper3k) (1.12.0)\n",
            "Requirement already satisfied: olefile in /usr/local/lib/python3.6/dist-packages (from Pillow>=3.3.0->newspaper3k) (0.46)\n",
            "Requirement already satisfied: setuptools in /usr/local/lib/python3.6/dist-packages (from tldextract>=2.0.1->newspaper3k) (41.0.1)\n",
            "Collecting requests-file>=1.4 (from tldextract>=2.0.1->newspaper3k)\n",
            "  Downloading https://files.pythonhosted.org/packages/23/9c/6e63c23c39e53d3df41c77a3d05a49a42c4e1383a6d2a5e3233161b89dbf/requests_file-1.4.3-py2.py3-none-any.whl\n",
            "Building wheels for collected packages: jieba3k, feedfinder2, tinysegmenter, feedparser\n",
            "  Building wheel for jieba3k (setup.py) ... \u001b[?25l\u001b[?25hdone\n",
            "  Stored in directory: /root/.cache/pip/wheels/83/15/9c/a3f1f67e7f7181170ad37d32e503c35da20627c013f438ed34\n",
            "  Building wheel for feedfinder2 (setup.py) ... \u001b[?25l\u001b[?25hdone\n",
            "  Stored in directory: /root/.cache/pip/wheels/de/03/ca/778e3a7a627e3d98836cc890e7cb40c7575424cfd3340f40ed\n",
            "  Building wheel for tinysegmenter (setup.py) ... \u001b[?25l\u001b[?25hdone\n",
            "  Stored in directory: /root/.cache/pip/wheels/81/2b/43/a02ede72324dd40cdd7ca53aad718c7710628e91b8b0dc0f02\n",
            "  Building wheel for feedparser (setup.py) ... \u001b[?25l\u001b[?25hdone\n",
            "  Stored in directory: /root/.cache/pip/wheels/8c/69/b7/f52763c41c5471df57703a0ef718a32a5e81ee35dcf6d4f97f\n",
            "Successfully built jieba3k feedfinder2 tinysegmenter feedparser\n",
            "Installing collected packages: jieba3k, feedfinder2, cssselect, requests-file, tldextract, tinysegmenter, feedparser, newspaper3k\n",
            "Successfully installed cssselect-1.0.3 feedfinder2-0.0.4 feedparser-5.2.1 jieba3k-0.35.1 newspaper3k-0.2.8 requests-file-1.4.3 tinysegmenter-0.3 tldextract-2.2.1\n"
          ],
          "name": "stdout"
        }
      ]
    },
    {
      "cell_type": "code",
      "metadata": {
        "colab_type": "code",
        "id": "fTPlziljCiNJ",
        "colab": {}
      },
      "source": [
        "import newspaper"
      ],
      "execution_count": 0,
      "outputs": []
    },
    {
      "cell_type": "code",
      "metadata": {
        "colab_type": "code",
        "id": "bk9JF2zaCxoO",
        "outputId": "37876947-6284-47e1-9c07-d9a2b2e124d9",
        "colab": {
          "base_uri": "https://localhost:8080/",
          "height": 34
        }
      },
      "source": [
        "ap = newspaper.build('https://www.apnews.com')\n",
        "len(ap.articles)"
      ],
      "execution_count": 0,
      "outputs": [
        {
          "output_type": "execute_result",
          "data": {
            "text/plain": [
              "123"
            ]
          },
          "metadata": {
            "tags": []
          },
          "execution_count": 26
        }
      ]
    },
    {
      "cell_type": "code",
      "metadata": {
        "colab_type": "code",
        "id": "Vc6JgAIJDF4E",
        "outputId": "5711c31b-b157-4638-c186-506ef73ab9ed",
        "colab": {
          "base_uri": "https://localhost:8080/",
          "height": 634
        }
      },
      "source": [
        "article_text = ''\n",
        "\n",
        "for article in ap.articles:\n",
        "  try:\n",
        "    article.download()\n",
        "    article.parse()\n",
        "    article_text += '\\n\\n' + article.text\n",
        "  except:\n",
        "    print('Failed: ' + article.url)\n",
        "  \n",
        "article_text = article_text.split('\\n\\n')[1]\n",
        "print(article_text)"
      ],
      "execution_count": 0,
      "outputs": [
        {
          "output_type": "stream",
          "text": [
            "Failed: https://www.havasunews.com/news/gov-doug-ducey-signs-legislation-making-lemonade-the-state-drink/article_cc098972-7613-11e9-9c1a-7b09f5d55954.html\n",
            "Failed: https://www.wiscnews.com/news/local/crime-and-courts/emmy-award-winner-named-as-beaver-dam-alumni-of-the/article_c22d881c-ba5e-502d-b318-b32e5d0e0062.html\n",
            "Failed: https://www.postbulletin.com/realestate/news/building-a-better-bridge-to-survive-tsunamis/article_cbe10a10-6bbd-58fa-b743-e5db5618c49e.html\n",
            "Failed: https://www.aikenstandard.com/news/masters-live-tiger-now-the-leader-by/article_78abc3a4-5eac-11e9-9b82-33b5238adfb0.html\n",
            "Failed: https://www.aikenstandard.com/news/one-more-roar-woods-wins-fifth-masters-title/article_1b9637ca-5ee4-11e9-ba50-7f3a13d0d729.html\n",
            "Failed: https://www.aikenstandard.com/news/mickelson-has-exceptional-back-nine-and-finishes-just-one-shot/article_b5857cb2-5ca8-11e9-9ef2-f77b3e6feb65.html\n",
            "Failed: https://www.havasunews.com/news/ice-raids-occur-in-flagstaff-and-sedona/article_9c0dc0a3-292e-5853-b05e-3ff18fbca01f.html\n",
            "Failed: https://www.havasunews.com/news/stabbing-case-leads-to-guilty-verdict-for-flagstaff-man/article_f6d03e14-3066-5d41-bb30-bbb9378d18ea.html\n",
            "Failed: https://www.havasunews.com/news/rv-pet-dog-stolen-from-flagstaff-hospital/article_8d82ed24-5a8a-5c0c-aef9-e280b8411309.html\n",
            "Failed: http://www.phillytrib.com/news/health/experts-to-study-prison-health-care-after-riot/article_3a5b41b4-0de3-527a-9e0c-1b2d6df69977.html\n",
            "Failed: http://www.jhnewsandguide.com/news/features/author-musician-cooke-dies-at/article_468a115c-b71d-5b6f-a83d-01e51019b499.html\n",
            "Failed: https://www.havasunews.com/news/fish-and-wildlife-announces-jaguar-recovery-plan/article_b32dd3de-ecb7-5909-90b2-be9d59c72a3f.html\n",
            "Failed: https://www.dailyamerican.com/news/local/somerset/beef-producers-receive-update-on-trade-regs-and-transportation/article_fac266b0-3760-5fcd-863e-0f43b29318be.html\n",
            "Failed: https://www.brownsvilleherald.com/news/local/border-apprehensions-slightly-up-in-april/article_199e976a-71e4-11e9-8930-c3f1adab0139.html\n",
            "Failed: https://www.santafenewmexican.com/news/local_news/o-keeffe-museum-names-hartley-as-its-director/article_cfde8349-0bff-504d-a0aa-b115db127143.html\n",
            "Failed: https://www.havasunews.com/news/funds-for-new-hunter-angler-development/article_841d6920-4d1b-5dcd-91dc-04cdb44a0be0.html\n",
            "Failed: http://www.mohavedailynews.com/news/arizona-game-and-fish-reminds-public-to-leave-baby-wildlife/article_c61a606e-72f7-11e9-992d-43fe2ccfffd4.html\n",
            "Failed: https://www.postbulletin.com/news/local/chris-schmitter-a-year-relationship-comes-to-fruition-in-st/article_97d421bc-4b4d-11e9-9ed5-0ff1e2dc4f32.html\n",
            "Failed: https://www.postbulletin.com/news/history/day-in-history-full-blooded-chippewa-minister-comes-to-rochester/article_eb9ad85e-4765-11e9-bb89-87e1361e74b2.html\n",
            "Failed: https://www.winonadailynews.com/news/local/a-long-shot-but-minnesota-could-face-potentially-historic-floods/article_ee8f62d3-e544-5ffc-96a2-c760c4abb3af.html\n",
            "Failed: http://www.nptelegraph.com/news/arts_and_entertainment/spike-lee-s-blackkklansman-among-the-line-up-for-the/article_8ccdf7a0-4c13-5ff7-8f37-697e056c15bf.html\n",
            "Failed: http://www.capjournal.com/national/entertainment/mark-hamill-says-luke-skywalker-was-meant-to-die-in/article_a1967781-750b-5811-b965-1c11872dc766.html\n",
            "Failed: http://www.nptelegraph.com/news/arts_and_entertainment/jack-thorne-to-check-script-of-star-wars-episode-ix/article_e30f3ca2-b1ff-52ba-bd24-48808704bc8f.html\n",
            "Failed: http://www.nptelegraph.com/news/arts_and_entertainment/martin-scorsese-no-hollywood-film-maker/article_bae8e89a-99f3-507c-a9be-aeb9fc4826ba.html\n",
            "Failed: https://www.idahostatejournal.com/news/local/public-reminded-to-heed-bear-warning-signs/article_92b4ea59-a308-5712-91ba-fcb48f1bcc72.html\n",
            "Failed: https://www.postbulletin.com/news/public_safety/minneapolis-weighs-ramifications-of-m-settlement/article_9a5fa68e-757a-11e9-8ac0-477769c24ce2.html\n",
            "Failed: https://www.havasunews.com/news/hope-for-those-strung-out-on-opiates-alcohol/article_54ed59a4-7546-11e9-a262-2fb436b60582.html\n",
            "Failed: http://www.phillytrib.com/news/elections/weiner-expected-to-plead-guilty-in-sexting-case/article_805542ff-07ac-5078-8f74-b0adb9359c15.html\n",
            "As concern grows over human-induced climate change, many scientists are looking back through Earth’s history to events that can shed light on changes occurring today. Analyzing how the planet’s climate system has changed in the past improves our understanding of how it may behave in the future.\n"
          ],
          "name": "stdout"
        }
      ]
    },
    {
      "cell_type": "code",
      "metadata": {
        "colab_type": "code",
        "id": "rsMBBMcv_nRM",
        "outputId": "ed8cb174-40a7-425a-a9c4-397f4eba015b",
        "colab": {
          "base_uri": "https://localhost:8080/",
          "height": 51
        }
      },
      "source": [
        "# Based on \"The Unreasonable Effectiveness of RNN\" implementation\n",
        "import numpy as np\n",
        "\n",
        "chars = list(set(article_text)) # split and remove duplicate characters. convert to list.\n",
        "\n",
        "num_chars = len(chars) # the number of unique characters\n",
        "txt_data_size = len(article_text)\n",
        "\n",
        "print(\"unique characters : \", num_chars)\n",
        "print(\"txt_data_size : \", txt_data_size)"
      ],
      "execution_count": 0,
      "outputs": [
        {
          "output_type": "stream",
          "text": [
            "unique characters :  30\n",
            "txt_data_size :  295\n"
          ],
          "name": "stdout"
        }
      ]
    },
    {
      "cell_type": "code",
      "metadata": {
        "colab_type": "code",
        "id": "aQygqc_CAWRA",
        "outputId": "162f7a77-32bc-4b84-8e52-4fb8fadae806",
        "colab": {
          "base_uri": "https://localhost:8080/",
          "height": 176
        }
      },
      "source": [
        "# one hot encode\n",
        "char_to_int = dict((c, i) for i, c in enumerate(chars)) # \"enumerate\" retruns index and value. Convert it to dictionary\n",
        "int_to_char = dict((i, c) for i, c in enumerate(chars))\n",
        "print(char_to_int)\n",
        "print(\"----------------------------------------------------\")\n",
        "print(int_to_char)\n",
        "print(\"----------------------------------------------------\")\n",
        "# integer encode input data\n",
        "integer_encoded = [char_to_int[i] for i in article_text] # \"integer_encoded\" is a list which has a sequence converted from an original data to integers.\n",
        "print(integer_encoded)\n",
        "print(\"----------------------------------------------------\")\n",
        "print(\"data length : \", len(integer_encoded))"
      ],
      "execution_count": 0,
      "outputs": [
        {
          "output_type": "stream",
          "text": [
            "{'’': 0, 'k': 1, 'z': 2, 'y': 3, ' ': 4, 'b': 5, 'g': 6, 'A': 7, 'v': 8, 'f': 9, 't': 10, 's': 11, '-': 12, 'd': 13, 'n': 14, 'e': 15, 'i': 16, '.': 17, 'w': 18, ',': 19, 'l': 20, 'r': 21, 'a': 22, 'c': 23, 'm': 24, 'o': 25, 'h': 26, 'p': 27, 'u': 28, 'E': 29}\n",
            "----------------------------------------------------\n",
            "{0: '’', 1: 'k', 2: 'z', 3: 'y', 4: ' ', 5: 'b', 6: 'g', 7: 'A', 8: 'v', 9: 'f', 10: 't', 11: 's', 12: '-', 13: 'd', 14: 'n', 15: 'e', 16: 'i', 17: '.', 18: 'w', 19: ',', 20: 'l', 21: 'r', 22: 'a', 23: 'c', 24: 'm', 25: 'o', 26: 'h', 27: 'p', 28: 'u', 29: 'E'}\n",
            "----------------------------------------------------\n",
            "[7, 11, 4, 23, 25, 14, 23, 15, 21, 14, 4, 6, 21, 25, 18, 11, 4, 25, 8, 15, 21, 4, 26, 28, 24, 22, 14, 12, 16, 14, 13, 28, 23, 15, 13, 4, 23, 20, 16, 24, 22, 10, 15, 4, 23, 26, 22, 14, 6, 15, 19, 4, 24, 22, 14, 3, 4, 11, 23, 16, 15, 14, 10, 16, 11, 10, 11, 4, 22, 21, 15, 4, 20, 25, 25, 1, 16, 14, 6, 4, 5, 22, 23, 1, 4, 10, 26, 21, 25, 28, 6, 26, 4, 29, 22, 21, 10, 26, 0, 11, 4, 26, 16, 11, 10, 25, 21, 3, 4, 10, 25, 4, 15, 8, 15, 14, 10, 11, 4, 10, 26, 22, 10, 4, 23, 22, 14, 4, 11, 26, 15, 13, 4, 20, 16, 6, 26, 10, 4, 25, 14, 4, 23, 26, 22, 14, 6, 15, 11, 4, 25, 23, 23, 28, 21, 21, 16, 14, 6, 4, 10, 25, 13, 22, 3, 17, 4, 7, 14, 22, 20, 3, 2, 16, 14, 6, 4, 26, 25, 18, 4, 10, 26, 15, 4, 27, 20, 22, 14, 15, 10, 0, 11, 4, 23, 20, 16, 24, 22, 10, 15, 4, 11, 3, 11, 10, 15, 24, 4, 26, 22, 11, 4, 23, 26, 22, 14, 6, 15, 13, 4, 16, 14, 4, 10, 26, 15, 4, 27, 22, 11, 10, 4, 16, 24, 27, 21, 25, 8, 15, 11, 4, 25, 28, 21, 4, 28, 14, 13, 15, 21, 11, 10, 22, 14, 13, 16, 14, 6, 4, 25, 9, 4, 26, 25, 18, 4, 16, 10, 4, 24, 22, 3, 4, 5, 15, 26, 22, 8, 15, 4, 16, 14, 4, 10, 26, 15, 4, 9, 28, 10, 28, 21, 15, 17]\n",
            "----------------------------------------------------\n",
            "data length :  295\n"
          ],
          "name": "stdout"
        }
      ]
    },
    {
      "cell_type": "code",
      "metadata": {
        "colab_type": "code",
        "id": "bcpMSWDHFowT",
        "colab": {}
      },
      "source": [
        "# hyperparameters\n",
        "\n",
        "iteration = 1000\n",
        "sequence_length = 40\n",
        "batch_size = round((txt_data_size /sequence_length)+0.5) # = math.ceil\n",
        "hidden_size = 500  # size of hidden layer of neurons.  \n",
        "learning_rate = 1e-1\n",
        "\n",
        "\n",
        "# model parameters\n",
        "\n",
        "W_xh = np.random.randn(hidden_size, num_chars)*0.01     # weight input -> hidden. \n",
        "W_hh = np.random.randn(hidden_size, hidden_size)*0.01   # weight hidden -> hidden\n",
        "W_hy = np.random.randn(num_chars, hidden_size)*0.01     # weight hidden -> output\n",
        "\n",
        "b_h = np.zeros((hidden_size, 1)) # hidden bias\n",
        "b_y = np.zeros((num_chars, 1)) # output bias\n",
        "\n",
        "h_prev = np.zeros((hidden_size,1)) # h_(t-1)"
      ],
      "execution_count": 0,
      "outputs": []
    },
    {
      "cell_type": "markdown",
      "metadata": {
        "colab_type": "text",
        "id": "bkqoN86qWaI4"
      },
      "source": [
        "#### Forward propagation"
      ]
    },
    {
      "cell_type": "code",
      "metadata": {
        "colab_type": "code",
        "id": "imfg_Ew0WdDL",
        "colab": {}
      },
      "source": [
        "def forwardprop(inputs, targets, h_prev):\n",
        "        \n",
        "    # Since the RNN receives the sequence, the weights are not updated during one sequence.\n",
        "    xs, hs, ys, ps = {}, {}, {}, {} # dictionary\n",
        "    hs[-1] = np.copy(h_prev) # Copy previous hidden state vector to -1 key value.\n",
        "    loss = 0 # loss initialization\n",
        "    \n",
        "    for t in range(len(inputs)): # t is a \"time step\" and is used as a key(dic).  \n",
        "        \n",
        "        xs[t] = np.zeros((num_chars,1)) \n",
        "        xs[t][inputs[t]] = 1\n",
        "        hs[t] = np.tanh(np.dot(W_xh, xs[t]) + np.dot(W_hh, hs[t-1]) + b_h) # hidden state. \n",
        "        ys[t] = np.dot(W_hy, hs[t]) + b_y # unnormalized log probabilities for next chars\n",
        "        ps[t] = np.exp(ys[t]) / np.sum(np.exp(ys[t])) # probabilities for next chars. \n",
        "        # Softmax. -> The sum of probabilities is 1 even without the exp() function, but all of the elements are positive through the exp() function.\n",
        " \n",
        "        loss += -np.log(ps[t][targets[t],0]) # softmax (cross-entropy loss). Efficient and simple code\n",
        "\n",
        "#         y_class = np.zeros((num_chars, 1)) \n",
        "#         y_class[targets[t]] =1\n",
        "#         loss += np.sum(y_class*(-np.log(ps[t]))) # softmax (cross-entropy loss)        \n",
        "\n",
        "    return loss, ps, hs, xs"
      ],
      "execution_count": 0,
      "outputs": []
    },
    {
      "cell_type": "markdown",
      "metadata": {
        "colab_type": "text",
        "id": "zm6qwNiqWdMe"
      },
      "source": [
        "#### Backward propagation"
      ]
    },
    {
      "cell_type": "code",
      "metadata": {
        "colab_type": "code",
        "id": "81qBiz_xWenI",
        "colab": {}
      },
      "source": [
        "def backprop(ps, inputs, hs, xs):\n",
        "\n",
        "    dWxh, dWhh, dWhy = np.zeros_like(W_xh), np.zeros_like(W_hh), np.zeros_like(W_hy) # make all zero matrices.\n",
        "    dbh, dby = np.zeros_like(b_h), np.zeros_like(b_y)\n",
        "    dhnext = np.zeros_like(hs[0]) # (hidden_size,1) \n",
        "\n",
        "    # reversed\n",
        "    for t in reversed(range(len(inputs))):\n",
        "        dy = np.copy(ps[t]) # shape (num_chars,1).  \"dy\" means \"dloss/dy\"\n",
        "        dy[targets[t]] -= 1 # backprop into y. After taking the soft max in the input vector, subtract 1 from the value of the element corresponding to the correct label.\n",
        "        dWhy += np.dot(dy, hs[t].T)\n",
        "        dby += dy \n",
        "        dh = np.dot(W_hy.T, dy) + dhnext # backprop into h. \n",
        "        dhraw = (1 - hs[t] * hs[t]) * dh # backprop through tanh nonlinearity #tanh'(x) = 1-tanh^2(x)\n",
        "        dbh += dhraw\n",
        "        dWxh += np.dot(dhraw, xs[t].T)\n",
        "        dWhh += np.dot(dhraw, hs[t-1].T)\n",
        "        dhnext = np.dot(W_hh.T, dhraw)\n",
        "    for dparam in [dWxh, dWhh, dWhy, dbh, dby]: \n",
        "        np.clip(dparam, -5, 5, out=dparam) # clip to mitigate exploding gradients.  \n",
        "    \n",
        "    return dWxh, dWhh, dWhy, dbh, dby"
      ],
      "execution_count": 0,
      "outputs": []
    },
    {
      "cell_type": "markdown",
      "metadata": {
        "colab_type": "text",
        "id": "r8sBvcdbWfhi"
      },
      "source": [
        "#### Training"
      ]
    },
    {
      "cell_type": "code",
      "metadata": {
        "colab_type": "code",
        "id": "iA4RM70LWgO_",
        "outputId": "c3c02bf0-d45f-4f2a-deae-60803fe9b3fe",
        "colab": {
          "base_uri": "https://localhost:8080/",
          "height": 391
        }
      },
      "source": [
        "%%time\n",
        "\n",
        "data_pointer = 0\n",
        "\n",
        "# memory variables for Adagrad\n",
        "mWxh, mWhh, mWhy = np.zeros_like(W_xh), np.zeros_like(W_hh), np.zeros_like(W_hy)\n",
        "mbh, mby = np.zeros_like(b_h), np.zeros_like(b_y) \n",
        "\n",
        "for i in range(2 * iteration):\n",
        "    h_prev = np.zeros((hidden_size,1)) # reset RNN memory\n",
        "    data_pointer = 0 # go from start of data\n",
        "    \n",
        "    for b in range(batch_size):\n",
        "        \n",
        "        inputs = [char_to_int[ch] for ch in article_text[data_pointer:data_pointer+sequence_length]]\n",
        "        targets = [char_to_int[ch] for ch in article_text[data_pointer+1:data_pointer+sequence_length+1]] # t+1        \n",
        "            \n",
        "        if (data_pointer+sequence_length+1 >= len(article_text) and b == batch_size-1): # processing of the last part of the input data. \n",
        "#             targets.append(char_to_int[txt_data[0]])   # When the data doesn't fit, add the first char to the back.\n",
        "            targets.append(char_to_int[\" \"])   # When the data doesn't fit, add space(\" \") to the back.\n",
        "\n",
        "\n",
        "        # forward\n",
        "        loss, ps, hs, xs = forwardprop(inputs, targets, h_prev)\n",
        "#         print(loss)\n",
        "    \n",
        "        # backward\n",
        "        dWxh, dWhh, dWhy, dbh, dby = backprop(ps, inputs, hs, xs) \n",
        "        \n",
        "        \n",
        "    # perform parameter update with Adagrad\n",
        "        for param, dparam, mem in zip([W_xh, W_hh, W_hy, b_h, b_y], \n",
        "                                    [dWxh, dWhh, dWhy, dbh, dby], \n",
        "                                    [mWxh, mWhh, mWhy, mbh, mby]):\n",
        "            mem += dparam * dparam # elementwise\n",
        "            param += -learning_rate * dparam / np.sqrt(mem + 1e-8) # adagrad update      \n",
        "    \n",
        "        data_pointer += sequence_length # move data pointer\n",
        "        \n",
        "    if i % 100 == 0:\n",
        "        print ('iter %d, loss: %f' % (i, loss)) # print progress"
      ],
      "execution_count": 0,
      "outputs": [
        {
          "output_type": "stream",
          "text": [
            "iter 0, loss: 580.197493\n",
            "iter 100, loss: 38.208660\n",
            "iter 200, loss: 35.180307\n",
            "iter 300, loss: 34.579091\n",
            "iter 400, loss: 34.553002\n",
            "iter 500, loss: 32.609181\n",
            "iter 600, loss: 33.354920\n",
            "iter 700, loss: 32.871969\n",
            "iter 800, loss: 32.413651\n",
            "iter 900, loss: 31.558351\n",
            "iter 1000, loss: 30.997846\n",
            "iter 1100, loss: 31.811958\n",
            "iter 1200, loss: 31.966734\n",
            "iter 1300, loss: 31.503976\n",
            "iter 1400, loss: 31.846165\n",
            "iter 1500, loss: 32.090695\n",
            "iter 1600, loss: 31.714488\n",
            "iter 1700, loss: 31.338045\n",
            "iter 1800, loss: 30.339468\n",
            "iter 1900, loss: 29.448545\n",
            "CPU times: user 14min 49s, sys: 7min 54s, total: 22min 44s\n",
            "Wall time: 11min 30s\n"
          ],
          "name": "stdout"
        }
      ]
    },
    {
      "cell_type": "markdown",
      "metadata": {
        "colab_type": "text",
        "id": "tjh8Ip68WgYV"
      },
      "source": [
        "#### Prediction"
      ]
    },
    {
      "cell_type": "code",
      "metadata": {
        "colab_type": "code",
        "id": "HDCxDNPG68Hx",
        "colab": {}
      },
      "source": [
        "def predict(test_char, length):\n",
        "    x = np.zeros((num_chars, 1)) \n",
        "    x[char_to_int[test_char]] = 1\n",
        "    ixes = []\n",
        "    h = np.zeros((hidden_size,1))\n",
        "\n",
        "    for t in range(length):\n",
        "        h = np.tanh(np.dot(W_xh, x) + np.dot(W_hh, h) + b_h) \n",
        "        y = np.dot(W_hy, h) + b_y\n",
        "        p = np.exp(y) / np.sum(np.exp(y)) \n",
        "        ix = np.random.choice(range(num_chars), p=p.ravel()) # ravel -> rank0\n",
        "        # \"ix\" is a list of indexes selected according to the soft max probability.\n",
        "        x = np.zeros((num_chars, 1)) # init\n",
        "        x[ix] = 1 \n",
        "        ixes.append(ix) # list\n",
        "    txt = test_char + ''.join(int_to_char[i] for i in ixes)\n",
        "    print ('----\\n %s \\n----' % (txt, ))"
      ],
      "execution_count": 0,
      "outputs": []
    },
    {
      "cell_type": "code",
      "metadata": {
        "colab_type": "code",
        "id": "nGVhl-Gxh6N6",
        "outputId": "8a8a3e35-dae5-472b-e04a-7526f7e57ca9",
        "colab": {
          "base_uri": "https://localhost:8080/",
          "height": 68
        }
      },
      "source": [
        "predict('A', 50)"
      ],
      "execution_count": 0,
      "outputs": [
        {
          "output_type": "stream",
          "text": [
            "----\n",
            " As contasirasanhpalet,egu  he eu hac  h    tocrcan  \n",
            "----\n"
          ],
          "name": "stdout"
        }
      ]
    },
    {
      "cell_type": "markdown",
      "metadata": {
        "colab_type": "text",
        "id": "xPsz-oefL1kP"
      },
      "source": [
        "Well... that's *vaguely* language-looking. Can you do better?"
      ]
    },
    {
      "cell_type": "markdown",
      "metadata": {
        "colab_type": "text",
        "id": "0lfZdD_cp1t5"
      },
      "source": [
        "# Assignment\n",
        "\n",
        "![Monkey at a typewriter](https://upload.wikimedia.org/wikipedia/commons/thumb/3/3c/Chimpanzee_seated_at_typewriter.jpg/603px-Chimpanzee_seated_at_typewriter.jpg)\n",
        "\n",
        "It is said that [infinite monkeys typing for an infinite amount of time](https://en.wikipedia.org/wiki/Infinite_monkey_theorem) will eventually type, among other things, the complete works of Wiliam Shakespeare. Let's see if we can get there a bit faster, with the power of Recurrent Neural Networks and LSTM.\n",
        "\n",
        "This text file contains the complete works of Shakespeare: https://www.gutenberg.org/files/100/100-0.txt\n",
        "\n",
        "Use it as training data for an RNN - you can keep it simple and train character level, and that is suggested as an initial approach.\n",
        "\n",
        "Then, use that trained RNN to generate Shakespearean-ish text. Your goal - a function that can take, as an argument, the size of text (e.g. number of characters or lines) to generate, and returns generated text of that size.\n",
        "\n",
        "Note - Shakespeare wrote an awful lot. It's OK, especially initially, to sample/use smaller data and parameters, so you can have a tighter feedback loop when you're trying to get things running. Then, once you've got a proof of concept - start pushing it more!"
      ]
    },
    {
      "cell_type": "code",
      "metadata": {
        "colab_type": "code",
        "id": "Ltj1je1fp5rO",
        "colab": {}
      },
      "source": [
        "# TODO - Words, words, mere words, no matter from the heart."
      ],
      "execution_count": 0,
      "outputs": []
    },
    {
      "cell_type": "markdown",
      "metadata": {
        "colab_type": "text",
        "id": "zE4a4O7Bp5x1"
      },
      "source": [
        "# Resources and Stretch Goals"
      ]
    },
    {
      "cell_type": "markdown",
      "metadata": {
        "colab_type": "text",
        "id": "uT3UV3gap9H6"
      },
      "source": [
        "## Stretch goals:\n",
        "- Refine the training and generation of text to be able to ask for different genres/styles of Shakespearean text (e.g. plays versus sonnets)\n",
        "- Train a classification model that takes text and returns which work of Shakespeare it is most likely to be from\n",
        "- Make it more performant! Many possible routes here - lean on Keras, optimize the code, and/or use more resources (AWS, etc.)\n",
        "- Revisit the news example from class, and improve it - use categories or tags to refine the model/generation, or train a news classifier\n",
        "- Run on bigger, better data\n",
        "\n",
        "## Resources:\n",
        "- [The Unreasonable Effectiveness of Recurrent Neural Networks](https://karpathy.github.io/2015/05/21/rnn-effectiveness/) - a seminal writeup demonstrating a simple but effective character-level NLP RNN\n",
        "- [Simple NumPy implementation of RNN](https://github.com/JY-Yoon/RNN-Implementation-using-NumPy/blob/master/RNN%20Implementation%20using%20NumPy.ipynb) - Python 3 version of the code from \"Unreasonable Effectiveness\"\n",
        "- [TensorFlow RNN Tutorial](https://github.com/tensorflow/models/tree/master/tutorials/rnn) - code for training a RNN on the Penn Tree Bank language dataset\n",
        "- [4 part tutorial on RNN](http://www.wildml.com/2015/09/recurrent-neural-networks-tutorial-part-1-introduction-to-rnns/) - relates RNN to the vanishing gradient problem, and provides example implementation\n",
        "- [RNN training tips and tricks](https://github.com/karpathy/char-rnn#tips-and-tricks) - some rules of thumb for parameterizing and training your RNN"
      ]
    }
  ]
}