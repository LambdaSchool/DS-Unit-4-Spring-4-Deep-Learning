{
  "nbformat": 4,
  "nbformat_minor": 0,
  "metadata": {
    "kernelspec": {
      "name": "python3",
      "display_name": "Python 3"
    },
    "nteract": {
      "version": "0.23.1"
    },
    "colab": {
      "name": "Aaron_Huizenga_LS_DS_432_Convolution_Neural_Networks_Assignment.ipynb",
      "provenance": [],
      "collapsed_sections": [],
      "include_colab_link": true
    },
    "accelerator": "GPU"
  },
  "cells": [
    {
      "cell_type": "markdown",
      "metadata": {
        "id": "view-in-github",
        "colab_type": "text"
      },
      "source": [
        "<a href=\"https://colab.research.google.com/github/nusc2016/DS-Unit-4-Sprint-3-Deep-Learning/blob/main/Module2/Aaron_Huizenga_LS_DS_432_Convolution_Neural_Networks_Assignment.ipynb\" target=\"_parent\"><img src=\"https://colab.research.google.com/assets/colab-badge.svg\" alt=\"Open In Colab\"/></a>"
      ]
    },
    {
      "cell_type": "markdown",
      "metadata": {
        "id": "3d2I5SS-lawQ",
        "colab_type": "text"
      },
      "source": [
        "<img align=\"left\" src=\"https://lever-client-logos.s3.amazonaws.com/864372b1-534c-480e-acd5-9711f850815c-1524247202159.png\" width=200>\n",
        "<br></br>\n",
        "<br></br>\n",
        "\n",
        "## *Data Science Unit 4 Sprint 3 Assignment 2*\n",
        "# Convolutional Neural Networks (CNNs)"
      ]
    },
    {
      "cell_type": "markdown",
      "metadata": {
        "colab_type": "text",
        "id": "0lfZdD_cp1t5"
      },
      "source": [
        "# Assignment\n",
        "\n",
        "- <a href=\"#p1\">Part 1:</a> Pre-Trained Model\n",
        "- <a href=\"#p2\">Part 2:</a> Custom CNN Model\n",
        "- <a href=\"#p3\">Part 3:</a> CNN with Data Augmentation\n",
        "\n",
        "\n",
        "You will apply three different CNN models to a binary image classification model using Keras. Classify images of Mountains (`./data/train/mountain/*`) and images of forests (`./data/train/forest/*`). Treat mountains as the positive class (1) and the forest images as the negative (zero). \n",
        "\n",
        "|Mountain (+)|Forest (-)|\n",
        "|---|---|\n",
        "|![](https://github.com/nusc2016/DS-Unit-4-Sprint-3-Deep-Learning/blob/main/module2-convolutional-neural-networks/data/train/mountain/art1131.jpg?raw=1)|![](https://github.com/nusc2016/DS-Unit-4-Sprint-3-Deep-Learning/blob/main/module2-convolutional-neural-networks/data/validation/forest/cdmc317.jpg?raw=1)|\n",
        "\n",
        "The problem is relatively difficult given that the sample is tiny: there are about 350 observations per class. This sample size might be something that you can expect with prototyping an image classification problem/solution at work. Get accustomed to evaluating several different possible models."
      ]
    },
    {
      "cell_type": "markdown",
      "metadata": {
        "colab_type": "text",
        "id": "NAwbZ8cglawS"
      },
      "source": [
        "# Pre - Trained Model\n",
        "<a id=\"p1\"></a>\n",
        "\n",
        "Load a pretrained network from Keras, [ResNet50](https://tfhub.dev/google/imagenet/resnet_v1_50/classification/1) - a 50 layer deep network trained to recognize [1000 objects](https://storage.googleapis.com/download.tensorflow.org/data/ImageNetLabels.txt). Starting usage:\n",
        "\n",
        "```python\n",
        "import numpy as np\n",
        "\n",
        "from tensorflow.keras.applications.resnet50 import ResNet50\n",
        "from tensorflow.keras.preprocessing import image\n",
        "from tensorflow.keras.applications.resnet50 import preprocess_input, decode_predictions\n",
        "\n",
        "from tensorflow.keras.layers import Dense, GlobalAveragePooling2D\n",
        "from tensorflow.keras.models import Model # This is the functional API\n",
        "\n",
        "resnet = ResNet50(weights='imagenet', include_top=False)\n",
        "\n",
        "```\n",
        "\n",
        "The `include_top` parameter in `ResNet50` will remove the full connected layers from the ResNet model. The next step is to turn off the training of the ResNet layers. We want to use the learned parameters without updating them in future training passes. \n",
        "\n",
        "```python\n",
        "for layer in resnet.layers:\n",
        "    layer.trainable = False\n",
        "```\n",
        "\n",
        "Using the Keras functional API, we will need to additional additional full connected layers to our model. We we removed the top layers, we removed all preivous fully connected layers. In other words, we kept only the feature processing portions of our network. You can expert with additional layers beyond what's listed here. The `GlobalAveragePooling2D` layer functions as a really fancy flatten function by taking the average of each of the last convolutional layer outputs (which is two dimensional still). \n",
        "\n",
        "```python\n",
        "x = resnet.output\n",
        "x = GlobalAveragePooling2D()(x) # This layer is a really fancy flatten\n",
        "x = Dense(1024, activation='relu')(x)\n",
        "predictions = Dense(1, activation='sigmoid')(x)\n",
        "model = Model(resnet.input, predictions)\n",
        "```\n",
        "\n",
        "Your assignment is to apply the transfer learning above to classify images of Mountains (`./data/train/mountain/*`) and images of forests (`./data/train/forest/*`). Treat mountains as the positive class (1) and the forest images as the negative (zero). \n",
        "\n",
        "Steps to complete assignment: \n",
        "1. Load in Image Data into numpy arrays (`X`) \n",
        "2. Create a `y` for the labels\n",
        "3. Train your model with pre-trained layers from resnet\n",
        "4. Report your model's accuracy"
      ]
    },
    {
      "cell_type": "markdown",
      "metadata": {
        "id": "PPdN-C0blawS",
        "colab_type": "text"
      },
      "source": [
        "## Load in Data\n",
        "\n",
        "This surprisingly more difficult than it seems, because you are working with directories of images instead of a single file. This boiler plate will help you download a zipped version of the directory of images. The directory is organized into \"train\" and \"validation\" which you can use inside an `ImageGenerator` class to stream batches of images thru your model.  \n"
      ]
    },
    {
      "cell_type": "markdown",
      "metadata": {
        "id": "Lu-Let_-lawT",
        "colab_type": "text"
      },
      "source": [
        "### Download & Summarize the Data\n",
        "\n",
        "This step is completed for you. Just run the cells and review the results. "
      ]
    },
    {
      "cell_type": "code",
      "metadata": {
        "id": "QhGBKMWWlawT",
        "colab_type": "code",
        "colab": {
          "base_uri": "https://localhost:8080/",
          "height": 51
        },
        "outputId": "2073f317-abc6-467f-cd15-07769dbc077c"
      },
      "source": [
        "import tensorflow as tf\n",
        "import os\n",
        "\n",
        "_URL = 'https://lambdaschool-data-science.s3.amazonaws.com/mountains_v_forest/mountain_v_forest_data.zip'\n",
        "\n",
        "path_to_zip = tf.keras.utils.get_file('./data.zip', origin=_URL, extract=True)\n",
        "PATH = os.path.join(os.path.dirname(path_to_zip), 'data')"
      ],
      "execution_count": 1,
      "outputs": [
        {
          "output_type": "stream",
          "text": [
            "Downloading data from https://lambdaschool-data-science.s3.amazonaws.com/mountains_v_forest/mountain_v_forest_data.zip\n",
            "375046144/375045706 [==============================] - 12s 0us/step\n"
          ],
          "name": "stdout"
        }
      ]
    },
    {
      "cell_type": "code",
      "metadata": {
        "id": "HUyCNplVlawV",
        "colab_type": "code",
        "colab": {}
      },
      "source": [
        "train_dir = os.path.join(PATH, 'train')\n",
        "validation_dir = os.path.join(PATH, 'validation')"
      ],
      "execution_count": 2,
      "outputs": []
    },
    {
      "cell_type": "code",
      "metadata": {
        "id": "suXZF2aDlawX",
        "colab_type": "code",
        "colab": {}
      },
      "source": [
        "train_mountain_dir = os.path.join(train_dir, 'mountain')  # directory with our training cat pictures\n",
        "train_forest_dir = os.path.join(train_dir, 'forest')  # directory with our training dog pictures\n",
        "validation_mountain_dir = os.path.join(validation_dir, 'mountain')  # directory with our validation cat pictures\n",
        "validation_forest_dir = os.path.join(validation_dir, 'forest')  # directory with our validation dog pictures"
      ],
      "execution_count": 3,
      "outputs": []
    },
    {
      "cell_type": "code",
      "metadata": {
        "id": "5T0kaz2qlawa",
        "colab_type": "code",
        "colab": {}
      },
      "source": [
        "num_mountain_tr = len(os.listdir(train_mountain_dir))\n",
        "num_forest_tr = len(os.listdir(train_forest_dir))\n",
        "\n",
        "num_mountain_val = len(os.listdir(validation_mountain_dir))\n",
        "num_forest_val = len(os.listdir(validation_forest_dir))\n",
        "\n",
        "total_train = num_mountain_tr + num_forest_tr\n",
        "total_val = num_mountain_val + num_forest_val"
      ],
      "execution_count": 4,
      "outputs": []
    },
    {
      "cell_type": "code",
      "metadata": {
        "id": "XWmJ1gHtlawc",
        "colab_type": "code",
        "colab": {
          "base_uri": "https://localhost:8080/",
          "height": 136
        },
        "outputId": "6e0e189f-5e36-48bc-f22e-74e09da89403"
      },
      "source": [
        "print('total training mountain images:', num_mountain_tr)\n",
        "print('total training forest images:', num_forest_tr)\n",
        "\n",
        "print('total validation mountain images:', num_mountain_val)\n",
        "print('total validation forest images:', num_forest_val)\n",
        "print(\"--\")\n",
        "print(\"Total training images:\", total_train)\n",
        "print(\"Total validation images:\", total_val)"
      ],
      "execution_count": 5,
      "outputs": [
        {
          "output_type": "stream",
          "text": [
            "total training mountain images: 296\n",
            "total training forest images: 326\n",
            "total validation mountain images: 125\n",
            "total validation forest images: 62\n",
            "--\n",
            "Total training images: 622\n",
            "Total validation images: 187\n"
          ],
          "name": "stdout"
        }
      ]
    },
    {
      "cell_type": "markdown",
      "metadata": {
        "id": "cuHZKpbRlawf",
        "colab_type": "text"
      },
      "source": [
        "### Keras `ImageGenerator` to Process the Data\n",
        "\n",
        "This step is completed for you, but please review the code. The `ImageGenerator` class reads in batches of data from a directory and pass them to the model one batch at a time. Just like large text files, this method is advantageous, because it stifles the need to load a bunch of images into memory. \n",
        "\n",
        "Check out the documentation for this class method: [Keras `ImageGenerator` Class](https://keras.io/preprocessing/image/#imagedatagenerator-class). You'll expand it's use in the third assignment objective."
      ]
    },
    {
      "cell_type": "code",
      "metadata": {
        "id": "PVW1cabIlawf",
        "colab_type": "code",
        "colab": {}
      },
      "source": [
        "batch_size = 16\n",
        "epochs = 50\n",
        "IMG_HEIGHT = 224\n",
        "IMG_WIDTH = 224"
      ],
      "execution_count": 6,
      "outputs": []
    },
    {
      "cell_type": "code",
      "metadata": {
        "id": "2KtGYro5lawh",
        "colab_type": "code",
        "colab": {}
      },
      "source": [
        "from tensorflow.keras.preprocessing.image import ImageDataGenerator\n",
        "\n",
        "train_image_generator = ImageDataGenerator(rescale=1./255) # Generator for our training data\n",
        "validation_image_generator = ImageDataGenerator(rescale=1./255) # Generator for our validation data"
      ],
      "execution_count": 7,
      "outputs": []
    },
    {
      "cell_type": "code",
      "metadata": {
        "id": "YMFarSsplawj",
        "colab_type": "code",
        "colab": {
          "base_uri": "https://localhost:8080/",
          "height": 34
        },
        "outputId": "f050af6e-b755-4ff6-bd9d-da2c279773be"
      },
      "source": [
        "train_data_gen = train_image_generator.flow_from_directory(batch_size=batch_size,\n",
        "                                                           directory=train_dir,\n",
        "                                                           shuffle=True,\n",
        "                                                           target_size=(IMG_HEIGHT, IMG_WIDTH),\n",
        "                                                           class_mode='binary')"
      ],
      "execution_count": 8,
      "outputs": [
        {
          "output_type": "stream",
          "text": [
            "Found 631 images belonging to 2 classes.\n"
          ],
          "name": "stdout"
        }
      ]
    },
    {
      "cell_type": "code",
      "metadata": {
        "id": "ZVUL14Zhlawl",
        "colab_type": "code",
        "colab": {
          "base_uri": "https://localhost:8080/",
          "height": 34
        },
        "outputId": "51fdd3ab-634a-4d7b-e460-dcd2a8142fa4"
      },
      "source": [
        "val_data_gen = validation_image_generator.flow_from_directory(batch_size=batch_size,\n",
        "                                                              directory=validation_dir,\n",
        "                                                              target_size=(IMG_HEIGHT, IMG_WIDTH),\n",
        "                                                              class_mode='binary')"
      ],
      "execution_count": 9,
      "outputs": [
        {
          "output_type": "stream",
          "text": [
            "Found 195 images belonging to 2 classes.\n"
          ],
          "name": "stdout"
        }
      ]
    },
    {
      "cell_type": "markdown",
      "metadata": {
        "id": "eS81SSphlawm",
        "colab_type": "text"
      },
      "source": [
        "## Instatiate Model"
      ]
    },
    {
      "cell_type": "code",
      "metadata": {
        "id": "Rn-_dps6lawn",
        "colab_type": "code",
        "colab": {
          "base_uri": "https://localhost:8080/",
          "height": 51
        },
        "outputId": "740d3984-20b6-4e23-a390-2f3cfdf8dd9a"
      },
      "source": [
        "import numpy as np\n",
        " \n",
        "from tensorflow.keras.applications.resnet50 import ResNet50\n",
        "from tensorflow.keras.preprocessing import image\n",
        "from tensorflow.keras.applications.resnet50 import preprocess_input, decode_predictions\n",
        " \n",
        "from tensorflow.keras.layers import Dense, GlobalAveragePooling2D\n",
        "from tensorflow.keras.models import Model # This is the functional API\n",
        " \n",
        "# Load the trained ResNet50 model\n",
        "resnet = ResNet50(weights='imagenet', include_top=False)"
      ],
      "execution_count": 10,
      "outputs": [
        {
          "output_type": "stream",
          "text": [
            "Downloading data from https://storage.googleapis.com/tensorflow/keras-applications/resnet/resnet50_weights_tf_dim_ordering_tf_kernels_notop.h5\n",
            "94773248/94765736 [==============================] - 4s 0us/step\n"
          ],
          "name": "stdout"
        }
      ]
    },
    {
      "cell_type": "code",
      "metadata": {
        "id": "X12d-UMdA3Ju",
        "colab_type": "code",
        "colab": {}
      },
      "source": [
        "for layer in resnet.layers:\n",
        "  layer.trainable = False"
      ],
      "execution_count": 11,
      "outputs": []
    },
    {
      "cell_type": "code",
      "metadata": {
        "id": "6o4tU4xDBB7B",
        "colab_type": "code",
        "colab": {}
      },
      "source": [
        "x = resnet.output\n",
        "x = GlobalAveragePooling2D()(x) # This layer is a really fancy flatten\n",
        "x = Dense(1024, activation='relu')(x)\n",
        "predictions = Dense(1, activation='sigmoid')(x)\n",
        "model = Model(resnet.input, predictions)"
      ],
      "execution_count": 12,
      "outputs": []
    },
    {
      "cell_type": "code",
      "metadata": {
        "id": "BGw2ciC3BGp5",
        "colab_type": "code",
        "colab": {}
      },
      "source": [
        "# Now I will compile the model\n",
        "\n",
        "model.compile(optimizer='adam',\n",
        "              loss='binary_crossentropy',\n",
        "              metrics=['accuracy'])"
      ],
      "execution_count": 13,
      "outputs": []
    },
    {
      "cell_type": "code",
      "metadata": {
        "id": "0fCT2yhEBKM7",
        "colab_type": "code",
        "colab": {
          "base_uri": "https://localhost:8080/",
          "height": 34
        },
        "outputId": "515ed83a-2048-45dc-c998-42c1a0fb9c38"
      },
      "source": [
        "model.summary"
      ],
      "execution_count": 14,
      "outputs": [
        {
          "output_type": "execute_result",
          "data": {
            "text/plain": [
              "<bound method Network.summary of <tensorflow.python.keras.engine.training.Model object at 0x7f7e003a6320>>"
            ]
          },
          "metadata": {
            "tags": []
          },
          "execution_count": 14
        }
      ]
    },
    {
      "cell_type": "markdown",
      "metadata": {
        "id": "SfNV716Blawp",
        "colab_type": "text"
      },
      "source": [
        "## Fit Model"
      ]
    },
    {
      "cell_type": "code",
      "metadata": {
        "id": "2_0JRsrSlawp",
        "colab_type": "code",
        "colab": {
          "base_uri": "https://localhost:8080/",
          "height": 1000
        },
        "outputId": "459e1bb5-0bdb-4e81-c14b-720e2ecbf57b"
      },
      "source": [
        "history = model.fit(\n",
        "    train_data_gen,\n",
        "    steps_per_epoch=total_train // batch_size,\n",
        "    epochs=epochs,\n",
        "    validation_data=val_data_gen,\n",
        "    validation_steps=total_val // batch_size\n",
        ")"
      ],
      "execution_count": 15,
      "outputs": [
        {
          "output_type": "stream",
          "text": [
            "Epoch 1/50\n",
            "38/38 [==============================] - 40s 1s/step - loss: 0.8507 - accuracy: 0.5392 - val_loss: 0.5677 - val_accuracy: 0.6705\n",
            "Epoch 2/50\n",
            "38/38 [==============================] - 44s 1s/step - loss: 0.6345 - accuracy: 0.6043 - val_loss: 0.5065 - val_accuracy: 0.8295\n",
            "Epoch 3/50\n",
            "38/38 [==============================] - 42s 1s/step - loss: 0.5102 - accuracy: 0.7813 - val_loss: 0.4755 - val_accuracy: 0.7102\n",
            "Epoch 4/50\n",
            "38/38 [==============================] - 42s 1s/step - loss: 0.5278 - accuracy: 0.7129 - val_loss: 0.5172 - val_accuracy: 0.7955\n",
            "Epoch 5/50\n",
            "38/38 [==============================] - 44s 1s/step - loss: 0.4871 - accuracy: 0.7613 - val_loss: 0.3986 - val_accuracy: 0.8807\n",
            "Epoch 6/50\n",
            "38/38 [==============================] - 44s 1s/step - loss: 0.4031 - accuracy: 0.8331 - val_loss: 0.5624 - val_accuracy: 0.6875\n",
            "Epoch 7/50\n",
            "38/38 [==============================] - 45s 1s/step - loss: 0.3688 - accuracy: 0.8564 - val_loss: 0.4366 - val_accuracy: 0.8125\n",
            "Epoch 8/50\n",
            "38/38 [==============================] - 43s 1s/step - loss: 0.3451 - accuracy: 0.8831 - val_loss: 0.4774 - val_accuracy: 0.7898\n",
            "Epoch 9/50\n",
            "38/38 [==============================] - 42s 1s/step - loss: 0.3156 - accuracy: 0.8815 - val_loss: 0.3087 - val_accuracy: 0.9205\n",
            "Epoch 10/50\n",
            "38/38 [==============================] - 43s 1s/step - loss: 0.3155 - accuracy: 0.8831 - val_loss: 0.4078 - val_accuracy: 0.7614\n",
            "Epoch 11/50\n",
            "38/38 [==============================] - 44s 1s/step - loss: 0.3544 - accuracy: 0.8414 - val_loss: 0.2875 - val_accuracy: 0.9261\n",
            "Epoch 12/50\n",
            "38/38 [==============================] - 44s 1s/step - loss: 0.3047 - accuracy: 0.8831 - val_loss: 0.3005 - val_accuracy: 0.8807\n",
            "Epoch 13/50\n",
            "38/38 [==============================] - 43s 1s/step - loss: 0.2925 - accuracy: 0.8848 - val_loss: 0.3975 - val_accuracy: 0.8125\n",
            "Epoch 14/50\n",
            "38/38 [==============================] - 43s 1s/step - loss: 0.2421 - accuracy: 0.9249 - val_loss: 0.2498 - val_accuracy: 0.9318\n",
            "Epoch 15/50\n",
            "38/38 [==============================] - 45s 1s/step - loss: 0.2569 - accuracy: 0.9015 - val_loss: 0.2443 - val_accuracy: 0.9261\n",
            "Epoch 16/50\n",
            "38/38 [==============================] - 43s 1s/step - loss: 0.2429 - accuracy: 0.9132 - val_loss: 0.4320 - val_accuracy: 0.8011\n",
            "Epoch 17/50\n",
            "38/38 [==============================] - 45s 1s/step - loss: 0.2785 - accuracy: 0.8898 - val_loss: 0.4003 - val_accuracy: 0.8295\n",
            "Epoch 18/50\n",
            "38/38 [==============================] - 40s 1s/step - loss: 0.2096 - accuracy: 0.9332 - val_loss: 0.3124 - val_accuracy: 0.8636\n",
            "Epoch 19/50\n",
            "38/38 [==============================] - 43s 1s/step - loss: 0.2170 - accuracy: 0.9332 - val_loss: 0.4724 - val_accuracy: 0.8011\n",
            "Epoch 20/50\n",
            "38/38 [==============================] - 45s 1s/step - loss: 0.2037 - accuracy: 0.9299 - val_loss: 0.3467 - val_accuracy: 0.8409\n",
            "Epoch 21/50\n",
            "38/38 [==============================] - 46s 1s/step - loss: 0.2186 - accuracy: 0.9165 - val_loss: 0.3797 - val_accuracy: 0.8352\n",
            "Epoch 22/50\n",
            "38/38 [==============================] - 43s 1s/step - loss: 0.2008 - accuracy: 0.9232 - val_loss: 0.2236 - val_accuracy: 0.9375\n",
            "Epoch 23/50\n",
            "38/38 [==============================] - 43s 1s/step - loss: 0.2321 - accuracy: 0.9065 - val_loss: 0.3188 - val_accuracy: 0.8182\n",
            "Epoch 24/50\n",
            "38/38 [==============================] - 43s 1s/step - loss: 0.1878 - accuracy: 0.9265 - val_loss: 0.4516 - val_accuracy: 0.7841\n",
            "Epoch 25/50\n",
            "38/38 [==============================] - 42s 1s/step - loss: 0.1719 - accuracy: 0.9282 - val_loss: 0.2084 - val_accuracy: 0.9375\n",
            "Epoch 26/50\n",
            "38/38 [==============================] - 44s 1s/step - loss: 0.3995 - accuracy: 0.8414 - val_loss: 0.2385 - val_accuracy: 0.9261\n",
            "Epoch 27/50\n",
            "38/38 [==============================] - 45s 1s/step - loss: 0.1762 - accuracy: 0.9416 - val_loss: 0.1948 - val_accuracy: 0.9489\n",
            "Epoch 28/50\n",
            "38/38 [==============================] - 45s 1s/step - loss: 0.1728 - accuracy: 0.9416 - val_loss: 0.3076 - val_accuracy: 0.8580\n",
            "Epoch 29/50\n",
            "38/38 [==============================] - 44s 1s/step - loss: 0.1569 - accuracy: 0.9466 - val_loss: 0.1956 - val_accuracy: 0.9489\n",
            "Epoch 30/50\n",
            "38/38 [==============================] - 46s 1s/step - loss: 0.1773 - accuracy: 0.9332 - val_loss: 0.7375 - val_accuracy: 0.6932\n",
            "Epoch 31/50\n",
            "38/38 [==============================] - 44s 1s/step - loss: 0.3778 - accuracy: 0.8464 - val_loss: 0.1972 - val_accuracy: 0.9432\n",
            "Epoch 32/50\n",
            "38/38 [==============================] - 42s 1s/step - loss: 0.1541 - accuracy: 0.9482 - val_loss: 0.1883 - val_accuracy: 0.9489\n",
            "Epoch 33/50\n",
            "38/38 [==============================] - 44s 1s/step - loss: 0.1543 - accuracy: 0.9399 - val_loss: 0.1713 - val_accuracy: 0.9432\n",
            "Epoch 34/50\n",
            "38/38 [==============================] - 46s 1s/step - loss: 0.1581 - accuracy: 0.9399 - val_loss: 0.1500 - val_accuracy: 0.9602\n",
            "Epoch 35/50\n",
            "38/38 [==============================] - 45s 1s/step - loss: 0.1691 - accuracy: 0.9382 - val_loss: 0.2307 - val_accuracy: 0.9091\n",
            "Epoch 36/50\n",
            "38/38 [==============================] - 42s 1s/step - loss: 0.1558 - accuracy: 0.9482 - val_loss: 0.1639 - val_accuracy: 0.9432\n",
            "Epoch 37/50\n",
            "38/38 [==============================] - 43s 1s/step - loss: 0.1784 - accuracy: 0.9349 - val_loss: 0.1825 - val_accuracy: 0.9489\n",
            "Epoch 38/50\n",
            "38/38 [==============================] - 45s 1s/step - loss: 0.1885 - accuracy: 0.9215 - val_loss: 0.2708 - val_accuracy: 0.8807\n",
            "Epoch 39/50\n",
            "38/38 [==============================] - 42s 1s/step - loss: 0.1892 - accuracy: 0.9165 - val_loss: 0.1980 - val_accuracy: 0.9318\n",
            "Epoch 40/50\n",
            "38/38 [==============================] - 44s 1s/step - loss: 0.1544 - accuracy: 0.9533 - val_loss: 0.4529 - val_accuracy: 0.7841\n",
            "Epoch 41/50\n",
            "38/38 [==============================] - 44s 1s/step - loss: 0.1768 - accuracy: 0.9316 - val_loss: 0.2443 - val_accuracy: 0.9091\n",
            "Epoch 42/50\n",
            "38/38 [==============================] - 43s 1s/step - loss: 0.1816 - accuracy: 0.9299 - val_loss: 0.3374 - val_accuracy: 0.8580\n",
            "Epoch 43/50\n",
            "38/38 [==============================] - 44s 1s/step - loss: 0.1272 - accuracy: 0.9482 - val_loss: 0.3291 - val_accuracy: 0.8693\n",
            "Epoch 44/50\n",
            "38/38 [==============================] - 43s 1s/step - loss: 0.1570 - accuracy: 0.9399 - val_loss: 0.1766 - val_accuracy: 0.9489\n",
            "Epoch 45/50\n",
            "38/38 [==============================] - 44s 1s/step - loss: 0.2288 - accuracy: 0.9182 - val_loss: 0.6279 - val_accuracy: 0.7443\n",
            "Epoch 46/50\n",
            "38/38 [==============================] - 44s 1s/step - loss: 0.1868 - accuracy: 0.9265 - val_loss: 0.1885 - val_accuracy: 0.9545\n",
            "Epoch 47/50\n",
            "38/38 [==============================] - 44s 1s/step - loss: 0.1621 - accuracy: 0.9349 - val_loss: 0.6924 - val_accuracy: 0.7273\n",
            "Epoch 48/50\n",
            "38/38 [==============================] - 45s 1s/step - loss: 0.1853 - accuracy: 0.9349 - val_loss: 0.1717 - val_accuracy: 0.9545\n",
            "Epoch 49/50\n",
            "38/38 [==============================] - 44s 1s/step - loss: 0.2279 - accuracy: 0.9082 - val_loss: 0.3591 - val_accuracy: 0.8409\n",
            "Epoch 50/50\n",
            "38/38 [==============================] - 44s 1s/step - loss: 0.1592 - accuracy: 0.9316 - val_loss: 0.1574 - val_accuracy: 0.9432\n"
          ],
          "name": "stdout"
        }
      ]
    },
    {
      "cell_type": "code",
      "metadata": {
        "id": "oQTAjC2wmqtW",
        "colab_type": "code",
        "colab": {
          "base_uri": "https://localhost:8080/",
          "height": 34
        },
        "outputId": "8e095ab9-eae2-4a84-ebb3-78d1f8a6bf5e"
      },
      "source": [
        "# This will check the shape\n",
        "\n",
        "train_data_gen.image_shape"
      ],
      "execution_count": 16,
      "outputs": [
        {
          "output_type": "execute_result",
          "data": {
            "text/plain": [
              "(224, 224, 3)"
            ]
          },
          "metadata": {
            "tags": []
          },
          "execution_count": 16
        }
      ]
    },
    {
      "cell_type": "code",
      "metadata": {
        "id": "8g2zL5O4mx78",
        "colab_type": "code",
        "colab": {
          "base_uri": "https://localhost:8080/",
          "height": 295
        },
        "outputId": "82bc633b-822c-4392-d8a8-4a1e1329944f"
      },
      "source": [
        "import matplotlib.pyplot as plt\n",
        "\n",
        "# Graph accuracy over time\n",
        "eps = range(len(history.history['accuracy']))\n",
        "plt.plot(eps, history.history['accuracy'], label='Train')\n",
        "plt.plot(eps, history.history['val_accuracy'], label='Test')\n",
        "\n",
        "plt.title('Accuracy over time')\n",
        "plt.xlabel('Epochs')\n",
        "plt.ylabel('Classification Accuracy')\n",
        "plt.legend()\n",
        "plt.show()"
      ],
      "execution_count": 17,
      "outputs": [
        {
          "output_type": "display_data",
          "data": {
            "image/png": "[encoded data removed]",
            "text/plain": [
              "<Figure size 432x288 with 1 Axes>"
            ]
          },
          "metadata": {
            "tags": [],
            "needs_background": "light"
          }
        }
      ]
    },
    {
      "cell_type": "markdown",
      "metadata": {
        "id": "7oDCNwnqlawr",
        "colab_type": "text"
      },
      "source": [
        "# Custom CNN Model\n",
        "\n",
        "In this step, write and train your own convolutional neural network using Keras. You can use any architecture that suits you as long as it has at least one convolutional and one pooling layer at the beginning of the network - you can add more if you want. "
      ]
    },
    {
      "cell_type": "code",
      "metadata": {
        "id": "5xcpMNZulawr",
        "colab_type": "code",
        "colab": {
          "base_uri": "https://localhost:8080/",
          "height": 357
        },
        "outputId": "94735888-92f1-4fd4-8d27-72787ddcbf9a"
      },
      "source": [
        "from tensorflow.keras.models import Sequential\n",
        "from tensorflow.keras.layers import Conv2D, MaxPooling2D, Flatten, Dense\n",
        "\n",
        "# Define the Model\n",
        "model = Sequential()\n",
        "model.add(Conv2D(32, (3,3), activation='relu', \n",
        "                 input_shape=(IMG_HEIGHT,IMG_WIDTH,3)))\n",
        "model.add(MaxPooling2D((2,2)))\n",
        "model.add(Conv2D(64, (3,3), activation='relu'))\n",
        "model.add(Flatten())\n",
        "model.add(Dense(64, activation='relu'))\n",
        "model.add(Dense(1, activation='sigmoid'))\n",
        "\n",
        "model.summary()"
      ],
      "execution_count": 18,
      "outputs": [
        {
          "output_type": "stream",
          "text": [
            "Model: \"sequential\"\n",
            "_________________________________________________________________\n",
            "Layer (type)                 Output Shape              Param #   \n",
            "=================================================================\n",
            "conv2d (Conv2D)              (None, 222, 222, 32)      896       \n",
            "_________________________________________________________________\n",
            "max_pooling2d (MaxPooling2D) (None, 111, 111, 32)      0         \n",
            "_________________________________________________________________\n",
            "conv2d_1 (Conv2D)            (None, 109, 109, 64)      18496     \n",
            "_________________________________________________________________\n",
            "flatten (Flatten)            (None, 760384)            0         \n",
            "_________________________________________________________________\n",
            "dense_2 (Dense)              (None, 64)                48664640  \n",
            "_________________________________________________________________\n",
            "dense_3 (Dense)              (None, 1)                 65        \n",
            "=================================================================\n",
            "Total params: 48,684,097\n",
            "Trainable params: 48,684,097\n",
            "Non-trainable params: 0\n",
            "_________________________________________________________________\n"
          ],
          "name": "stdout"
        }
      ]
    },
    {
      "cell_type": "code",
      "metadata": {
        "id": "MtkbtKudlawu",
        "colab_type": "code",
        "colab": {}
      },
      "source": [
        "# Compile Model\n",
        "model.compile(optimizer='adam',\n",
        "              loss='binary_crossentropy',\n",
        "              metrics=['accuracy'])"
      ],
      "execution_count": 19,
      "outputs": []
    },
    {
      "cell_type": "code",
      "metadata": {
        "id": "me7dFwjNlawv",
        "colab_type": "code",
        "colab": {
          "base_uri": "https://localhost:8080/",
          "height": 1000
        },
        "outputId": "1aec3f66-ed9d-4fb8-b48f-16399f876426"
      },
      "source": [
        "# Fit Model\n",
        "history = model.fit(train_data_gen, \n",
        "                    steps_per_epoch=total_train // batch_size, epochs=epochs, \n",
        "                    validation_data=val_data_gen,  \n",
        "                    validation_steps=total_val // batch_size\n",
        "                    )"
      ],
      "execution_count": 20,
      "outputs": [
        {
          "output_type": "stream",
          "text": [
            "Epoch 1/50\n",
            "38/38 [==============================] - 43s 1s/step - loss: 1.1620 - accuracy: 0.8114 - val_loss: 0.2021 - val_accuracy: 0.9148\n",
            "Epoch 2/50\n",
            "38/38 [==============================] - 42s 1s/step - loss: 0.1674 - accuracy: 0.9366 - val_loss: 0.1439 - val_accuracy: 0.9489\n",
            "Epoch 3/50\n",
            "38/38 [==============================] - 43s 1s/step - loss: 0.1252 - accuracy: 0.9533 - val_loss: 0.1389 - val_accuracy: 0.9489\n",
            "Epoch 4/50\n",
            "38/38 [==============================] - 42s 1s/step - loss: 0.0646 - accuracy: 0.9766 - val_loss: 0.3697 - val_accuracy: 0.9205\n",
            "Epoch 5/50\n",
            "38/38 [==============================] - 42s 1s/step - loss: 0.0160 - accuracy: 0.9933 - val_loss: 0.2637 - val_accuracy: 0.9432\n",
            "Epoch 6/50\n",
            "38/38 [==============================] - 42s 1s/step - loss: 0.0152 - accuracy: 0.9917 - val_loss: 0.2873 - val_accuracy: 0.9432\n",
            "Epoch 7/50\n",
            "38/38 [==============================] - 44s 1s/step - loss: 0.0157 - accuracy: 0.9950 - val_loss: 0.4953 - val_accuracy: 0.8864\n",
            "Epoch 8/50\n",
            "38/38 [==============================] - 43s 1s/step - loss: 0.0083 - accuracy: 0.9967 - val_loss: 0.2366 - val_accuracy: 0.9545\n",
            "Epoch 9/50\n",
            "38/38 [==============================] - 44s 1s/step - loss: 0.0021 - accuracy: 1.0000 - val_loss: 0.2480 - val_accuracy: 0.9489\n",
            "Epoch 10/50\n",
            "38/38 [==============================] - 43s 1s/step - loss: 9.6282e-04 - accuracy: 1.0000 - val_loss: 0.3868 - val_accuracy: 0.9375\n",
            "Epoch 11/50\n",
            "38/38 [==============================] - 41s 1s/step - loss: 5.8940e-04 - accuracy: 1.0000 - val_loss: 0.4042 - val_accuracy: 0.9432\n",
            "Epoch 12/50\n",
            "38/38 [==============================] - 43s 1s/step - loss: 4.7295e-04 - accuracy: 1.0000 - val_loss: 0.5220 - val_accuracy: 0.9432\n",
            "Epoch 13/50\n",
            "38/38 [==============================] - 45s 1s/step - loss: 2.7545e-04 - accuracy: 1.0000 - val_loss: 0.4512 - val_accuracy: 0.9375\n",
            "Epoch 14/50\n",
            "38/38 [==============================] - 43s 1s/step - loss: 2.1439e-04 - accuracy: 1.0000 - val_loss: 0.2451 - val_accuracy: 0.9545\n",
            "Epoch 15/50\n",
            "38/38 [==============================] - 44s 1s/step - loss: 1.7893e-04 - accuracy: 1.0000 - val_loss: 0.4863 - val_accuracy: 0.9318\n",
            "Epoch 16/50\n",
            "38/38 [==============================] - 44s 1s/step - loss: 1.3069e-04 - accuracy: 1.0000 - val_loss: 0.3883 - val_accuracy: 0.9432\n",
            "Epoch 17/50\n",
            "38/38 [==============================] - 42s 1s/step - loss: 1.1845e-04 - accuracy: 1.0000 - val_loss: 0.4644 - val_accuracy: 0.9375\n",
            "Epoch 18/50\n",
            "38/38 [==============================] - 43s 1s/step - loss: 1.1505e-04 - accuracy: 1.0000 - val_loss: 0.3912 - val_accuracy: 0.9489\n",
            "Epoch 19/50\n",
            "38/38 [==============================] - 44s 1s/step - loss: 9.3145e-05 - accuracy: 1.0000 - val_loss: 0.3544 - val_accuracy: 0.9432\n",
            "Epoch 20/50\n",
            "38/38 [==============================] - 45s 1s/step - loss: 8.0726e-05 - accuracy: 1.0000 - val_loss: 0.4754 - val_accuracy: 0.9375\n",
            "Epoch 21/50\n",
            "38/38 [==============================] - 44s 1s/step - loss: 7.5465e-05 - accuracy: 1.0000 - val_loss: 0.3924 - val_accuracy: 0.9375\n",
            "Epoch 22/50\n",
            "38/38 [==============================] - 43s 1s/step - loss: 6.2067e-05 - accuracy: 1.0000 - val_loss: 0.4462 - val_accuracy: 0.9432\n",
            "Epoch 23/50\n",
            "38/38 [==============================] - 45s 1s/step - loss: 6.0837e-05 - accuracy: 1.0000 - val_loss: 0.3913 - val_accuracy: 0.9375\n",
            "Epoch 24/50\n",
            "38/38 [==============================] - 42s 1s/step - loss: 4.3925e-05 - accuracy: 1.0000 - val_loss: 0.3964 - val_accuracy: 0.9489\n",
            "Epoch 25/50\n",
            "38/38 [==============================] - 45s 1s/step - loss: 5.0260e-05 - accuracy: 1.0000 - val_loss: 0.4765 - val_accuracy: 0.9375\n",
            "Epoch 26/50\n",
            "38/38 [==============================] - 42s 1s/step - loss: 3.9794e-05 - accuracy: 1.0000 - val_loss: 0.4015 - val_accuracy: 0.9489\n",
            "Epoch 27/50\n",
            "38/38 [==============================] - 42s 1s/step - loss: 4.0570e-05 - accuracy: 1.0000 - val_loss: 0.4065 - val_accuracy: 0.9489\n",
            "Epoch 28/50\n",
            "38/38 [==============================] - 39s 1s/step - loss: 3.4846e-05 - accuracy: 1.0000 - val_loss: 0.5043 - val_accuracy: 0.9375\n",
            "Epoch 29/50\n",
            "38/38 [==============================] - 42s 1s/step - loss: 3.5728e-05 - accuracy: 1.0000 - val_loss: 0.3814 - val_accuracy: 0.9545\n",
            "Epoch 30/50\n",
            "38/38 [==============================] - 40s 1s/step - loss: 2.5547e-05 - accuracy: 1.0000 - val_loss: 0.5051 - val_accuracy: 0.9375\n",
            "Epoch 31/50\n",
            "38/38 [==============================] - 43s 1s/step - loss: 2.8850e-05 - accuracy: 1.0000 - val_loss: 0.5025 - val_accuracy: 0.9375\n",
            "Epoch 32/50\n",
            "38/38 [==============================] - 41s 1s/step - loss: 2.7697e-05 - accuracy: 1.0000 - val_loss: 0.4602 - val_accuracy: 0.9375\n",
            "Epoch 33/50\n",
            "38/38 [==============================] - 42s 1s/step - loss: 2.5790e-05 - accuracy: 1.0000 - val_loss: 0.4440 - val_accuracy: 0.9545\n",
            "Epoch 34/50\n",
            "38/38 [==============================] - 43s 1s/step - loss: 2.3870e-05 - accuracy: 1.0000 - val_loss: 0.5077 - val_accuracy: 0.9375\n",
            "Epoch 35/50\n",
            "38/38 [==============================] - 42s 1s/step - loss: 1.8378e-05 - accuracy: 1.0000 - val_loss: 0.4564 - val_accuracy: 0.9432\n",
            "Epoch 36/50\n",
            "38/38 [==============================] - 44s 1s/step - loss: 2.0495e-05 - accuracy: 1.0000 - val_loss: 0.4764 - val_accuracy: 0.9489\n",
            "Epoch 37/50\n",
            "38/38 [==============================] - 43s 1s/step - loss: 1.9341e-05 - accuracy: 1.0000 - val_loss: 0.4498 - val_accuracy: 0.9432\n",
            "Epoch 38/50\n",
            "38/38 [==============================] - 43s 1s/step - loss: 1.7459e-05 - accuracy: 1.0000 - val_loss: 0.4477 - val_accuracy: 0.9432\n",
            "Epoch 39/50\n",
            "38/38 [==============================] - 40s 1s/step - loss: 1.7155e-05 - accuracy: 1.0000 - val_loss: 0.4777 - val_accuracy: 0.9432\n",
            "Epoch 40/50\n",
            "38/38 [==============================] - 43s 1s/step - loss: 1.6086e-05 - accuracy: 1.0000 - val_loss: 0.5072 - val_accuracy: 0.9375\n",
            "Epoch 41/50\n",
            "38/38 [==============================] - 43s 1s/step - loss: 1.5512e-05 - accuracy: 1.0000 - val_loss: 0.5254 - val_accuracy: 0.9432\n",
            "Epoch 42/50\n",
            "38/38 [==============================] - 43s 1s/step - loss: 1.3854e-05 - accuracy: 1.0000 - val_loss: 0.4895 - val_accuracy: 0.9489\n",
            "Epoch 43/50\n",
            "38/38 [==============================] - 42s 1s/step - loss: 1.4158e-05 - accuracy: 1.0000 - val_loss: 0.3743 - val_accuracy: 0.9489\n",
            "Epoch 44/50\n",
            "38/38 [==============================] - 42s 1s/step - loss: 1.4436e-05 - accuracy: 1.0000 - val_loss: 0.4677 - val_accuracy: 0.9432\n",
            "Epoch 45/50\n",
            "38/38 [==============================] - 43s 1s/step - loss: 1.2935e-05 - accuracy: 1.0000 - val_loss: 0.3933 - val_accuracy: 0.9489\n",
            "Epoch 46/50\n",
            "38/38 [==============================] - 41s 1s/step - loss: 1.0407e-05 - accuracy: 1.0000 - val_loss: 0.4173 - val_accuracy: 0.9489\n",
            "Epoch 47/50\n",
            "38/38 [==============================] - 42s 1s/step - loss: 1.1610e-05 - accuracy: 1.0000 - val_loss: 0.4902 - val_accuracy: 0.9432\n",
            "Epoch 48/50\n",
            "38/38 [==============================] - 41s 1s/step - loss: 1.1278e-05 - accuracy: 1.0000 - val_loss: 0.4561 - val_accuracy: 0.9489\n",
            "Epoch 49/50\n",
            "38/38 [==============================] - 40s 1s/step - loss: 9.8174e-06 - accuracy: 1.0000 - val_loss: 0.4581 - val_accuracy: 0.9432\n",
            "Epoch 50/50\n",
            "38/38 [==============================] - 41s 1s/step - loss: 8.4250e-06 - accuracy: 1.0000 - val_loss: 0.5138 - val_accuracy: 0.9432\n"
          ],
          "name": "stdout"
        }
      ]
    },
    {
      "cell_type": "code",
      "metadata": {
        "id": "FkN6AuwToJ2K",
        "colab_type": "code",
        "colab": {
          "base_uri": "https://localhost:8080/",
          "height": 295
        },
        "outputId": "6c1d2087-513f-4825-b962-3c95b9b417af"
      },
      "source": [
        "import matplotlib.pyplot as plt\n",
        "\n",
        "# Graph accuracy over time\n",
        "eps = range(len(history.history['accuracy']))\n",
        "plt.plot(eps, history.history['accuracy'], label='Train')\n",
        "plt.plot(eps, history.history['val_accuracy'], label='Test')\n",
        "\n",
        "plt.title('Accuracy over time')\n",
        "plt.xlabel('Epochs')\n",
        "plt.ylabel('Classification Accuracy')\n",
        "plt.legend()\n",
        "plt.show()"
      ],
      "execution_count": 21,
      "outputs": [
        {
          "output_type": "display_data",
          "data": {
            "image/png": "[encoded data removed]",
            "text/plain": [
              "<Figure size 432x288 with 1 Axes>"
            ]
          },
          "metadata": {
            "tags": [],
            "needs_background": "light"
          }
        }
      ]
    },
    {
      "cell_type": "markdown",
      "metadata": {
        "id": "vZMcBo7Nlawx",
        "colab_type": "text"
      },
      "source": [
        "# Custom CNN Model with Image Manipulations\n",
        "\n",
        "To simulate an increase in a sample of image, you can apply image manipulation techniques: cropping, rotation, stretching, etc. Luckily Keras has some handy functions for us to apply these techniques to our mountain and forest example. Simply, you should be able to modify our image generator for the problem. Check out these resources to help you get started: \n",
        "\n",
        "1. [Keras `ImageGenerator` Class](https://keras.io/preprocessing/image/#imagedatagenerator-class)\n",
        "2. [Building a powerful image classifier with very little data](https://blog.keras.io/building-powerful-image-classification-models-using-very-little-data.html)\n",
        " "
      ]
    },
    {
      "cell_type": "code",
      "metadata": {
        "id": "AvPb0YiIplxn",
        "colab_type": "code",
        "colab": {}
      },
      "source": [
        ""
      ],
      "execution_count": 21,
      "outputs": []
    },
    {
      "cell_type": "markdown",
      "metadata": {
        "colab_type": "text",
        "id": "uT3UV3gap9H6"
      },
      "source": [
        "# Resources and Stretch Goals\n",
        "\n",
        "Stretch goals\n",
        "- Enhance your code to use classes/functions and accept terms to search and classes to look for in recognizing the downloaded images (e.g. download images of parties, recognize all that contain balloons)\n",
        "- Check out [other available pretrained networks](https://tfhub.dev), try some and compare\n",
        "- Image recognition/classification is somewhat solved, but *relationships* between entities and describing an image is not - check out some of the extended resources (e.g. [Visual Genome](https://visualgenome.org/)) on the topic\n",
        "- Transfer learning - using images you source yourself, [retrain a classifier](https://www.tensorflow.org/hub/tutorials/image_retraining) with a new category\n",
        "- (Not CNN related) Use [piexif](https://pypi.org/project/piexif/) to check out the metadata of images passed in to your system - see if they're from a national park! (Note - many images lack GPS metadata, so this won't work in most cases, but still cool)\n",
        "\n",
        "Resources\n",
        "- [Deep Residual Learning for Image Recognition](https://arxiv.org/abs/1512.03385) - influential paper (introduced ResNet)\n",
        "- [YOLO: Real-Time Object Detection](https://pjreddie.com/darknet/yolo/) - an influential convolution based object detection system, focused on inference speed (for applications to e.g. self driving vehicles)\n",
        "- [R-CNN, Fast R-CNN, Faster R-CNN, YOLO](https://towardsdatascience.com/r-cnn-fast-r-cnn-faster-r-cnn-yolo-object-detection-algorithms-36d53571365e) - comparison of object detection systems\n",
        "- [Common Objects in Context](http://cocodataset.org/) - a large-scale object detection, segmentation, and captioning dataset\n",
        "- [Visual Genome](https://visualgenome.org/) - a dataset, a knowledge base, an ongoing effort to connect structured image concepts to language"
      ]
    }
  ]
}