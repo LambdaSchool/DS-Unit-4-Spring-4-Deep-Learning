{
 "cells": [
  {
   "cell_type": "markdown",
   "metadata": {},
   "source": [
    "<img align=\"left\" src=\"https://lever-client-logos.s3.amazonaws.com/864372b1-534c-480e-acd5-9711f850815c-1524247202159.png\" width=200>\n",
    "<br></br>\n",
    "<br></br>\n",
    "\n",
    "# Major Neural Network Architectures Challenge\n",
    "## *Data Science Unit 4 Sprint 3 Challenge*\n",
    "\n",
    "In this sprint challenge, you'll explore some of the cutting edge of Data Science. This week we studied several famous neural network architectures: \n",
    "recurrent neural networks (RNNs), long short-term memory (LSTMs), convolutional neural networks (CNNs), and Generative Adverserial Networks (GANs). In this sprint challenge, you will revisit these models. Remember, we are testing your knowledge of these architectures not your ability to fit a model with high accuracy. \n",
    "\n",
    "__*Caution:*__  these approaches can be pretty heavy computationally. All problems were designed so that you should be able to achieve results within at most 5-10 minutes of runtime on Colab or a comparable environment. If something is running longer, doublecheck your approach!\n",
    "\n",
    "## Challenge Objectives\n",
    "*You should be able to:*\n",
    "* <a href=\"#p1\">Part 1</a>: Train a RNN classification model\n",
    "* <a href=\"#p2\">Part 2</a>: Utilize a pre-trained CNN for objective detection\n",
    "* <a href=\"#p3\">Part 3</a>: Describe the difference between a discriminator and generator in a GAN\n",
    "* <a href=\"#p4\">Part 4</a>: Describe yourself as a Data Science and elucidate your vision of AI"
   ]
  },
  {
   "cell_type": "markdown",
   "metadata": {
    "colab_type": "text",
    "id": "-5UwGRnJOmD4"
   },
   "source": [
    "<a id=\"p1\"></a>\n",
    "## Part 1 - RNNs\n",
    "\n",
    "Use an RNN to fit a multi-class classification model on reuters news articles to distinguish topics of articles. The data is already encoded properly for use in an RNN model. \n",
    "\n",
    "Your Tasks: \n",
    "- Use Keras to fit a predictive model, classifying news articles into topics. \n",
    "- Report your overall score and accuracy\n",
    "\n",
    "For reference, the [Keras IMDB sentiment classification example](https://github.com/keras-team/keras/blob/master/examples/imdb_lstm.py) will be useful, as well the RNN code we used in class.\n",
    "\n",
    "__*Note:*__  Focus on getting a running model, not on maxing accuracy with extreme data size or epoch numbers. Only revisit and push accuracy if you get everything else done!"
   ]
  },
  {
   "cell_type": "code",
   "execution_count": 45,
   "metadata": {
    "colab": {
     "base_uri": "https://localhost:8080/",
     "height": 1114
    },
    "colab_type": "code",
    "id": "DS-9ksWjoJit",
    "outputId": "0c3512e4-5cd4-4dc6-9cda-baf00c835f59"
   },
   "outputs": [],
   "source": [
    "from tensorflow.keras.datasets import reuters\n",
    "\n",
    "(x_train, y_train), (x_test, y_test) = reuters.load_data(num_words=None,\n",
    "                                                         skip_top=0,\n",
    "                                                         maxlen=None,\n",
    "                                                         test_split=0.2,\n",
    "                                                         seed=723812,\n",
    "                                                         start_char=1,\n",
    "                                                         oov_char=2,\n",
    "                                                         index_from=3)"
   ]
  },
  {
   "cell_type": "code",
   "execution_count": 46,
   "metadata": {},
   "outputs": [
    {
     "data": {
      "text/plain": [
       "((8982,), (2246,), (8982,), (2246,))"
      ]
     },
     "execution_count": 46,
     "metadata": {},
     "output_type": "execute_result"
    }
   ],
   "source": [
    "x_train.shape, x_test.shape, y_train.shape, y_test.shape"
   ]
  },
  {
   "cell_type": "code",
   "execution_count": 47,
   "metadata": {},
   "outputs": [
    {
     "data": {
      "text/html": [
       "<div>\n",
       "<style scoped>\n",
       "    .dataframe tbody tr th:only-of-type {\n",
       "        vertical-align: middle;\n",
       "    }\n",
       "\n",
       "    .dataframe tbody tr th {\n",
       "        vertical-align: top;\n",
       "    }\n",
       "\n",
       "    .dataframe thead th {\n",
       "        text-align: right;\n",
       "    }\n",
       "</style>\n",
       "<table border=\"1\" class=\"dataframe\">\n",
       "  <thead>\n",
       "    <tr style=\"text-align: right;\">\n",
       "      <th></th>\n",
       "      <th>0</th>\n",
       "    </tr>\n",
       "  </thead>\n",
       "  <tbody>\n",
       "    <tr>\n",
       "      <th>count</th>\n",
       "      <td>8982.000000</td>\n",
       "    </tr>\n",
       "    <tr>\n",
       "      <th>mean</th>\n",
       "      <td>8.911712</td>\n",
       "    </tr>\n",
       "    <tr>\n",
       "      <th>std</th>\n",
       "      <td>9.169627</td>\n",
       "    </tr>\n",
       "    <tr>\n",
       "      <th>min</th>\n",
       "      <td>0.000000</td>\n",
       "    </tr>\n",
       "    <tr>\n",
       "      <th>25%</th>\n",
       "      <td>3.000000</td>\n",
       "    </tr>\n",
       "    <tr>\n",
       "      <th>50%</th>\n",
       "      <td>4.000000</td>\n",
       "    </tr>\n",
       "    <tr>\n",
       "      <th>75%</th>\n",
       "      <td>15.000000</td>\n",
       "    </tr>\n",
       "    <tr>\n",
       "      <th>max</th>\n",
       "      <td>45.000000</td>\n",
       "    </tr>\n",
       "  </tbody>\n",
       "</table>\n",
       "</div>"
      ],
      "text/plain": [
       "                 0\n",
       "count  8982.000000\n",
       "mean      8.911712\n",
       "std       9.169627\n",
       "min       0.000000\n",
       "25%       3.000000\n",
       "50%       4.000000\n",
       "75%      15.000000\n",
       "max      45.000000"
      ]
     },
     "execution_count": 47,
     "metadata": {},
     "output_type": "execute_result"
    }
   ],
   "source": [
    "#since multiclass we need to know how many outpude nodes we'd have, 45 different topics\n",
    "\n",
    "import pandas as pd \n",
    "y_explore = pd.DataFrame(y_train)\n",
    "y_explore.describe()"
   ]
  },
  {
   "cell_type": "code",
   "execution_count": 48,
   "metadata": {
    "colab": {
     "base_uri": "https://localhost:8080/",
     "height": 34
    },
    "colab_type": "code",
    "id": "fLKqFh8DovaN",
    "outputId": "64b0d621-7e74-4181-9116-406e8c518465"
   },
   "outputs": [
    {
     "name": "stdout",
     "output_type": "stream",
     "text": [
      "Iran is encoded as 779 in the data\n",
      "London is encoded as 544 in the data\n",
      "Words are encoded as numbers in our dataset.\n"
     ]
    }
   ],
   "source": [
    "# Demo of encoding\n",
    "\n",
    "word_index = reuters.get_word_index(path=\"reuters_word_index.json\")\n",
    "\n",
    "print(f\"Iran is encoded as {word_index['iran']} in the data\")\n",
    "print(f\"London is encoded as {word_index['london']} in the data\")\n",
    "print(\"Words are encoded as numbers in our dataset.\")"
   ]
  },
  {
   "cell_type": "code",
   "execution_count": 49,
   "metadata": {
    "colab": {},
    "colab_type": "code",
    "id": "_QVSlFEAqWJM"
   },
   "outputs": [
    {
     "name": "stdout",
     "output_type": "stream",
     "text": [
      "Pad sequences (samples x time)\n",
      "x_train shape: (8982, 10)\n",
      "x_test shape: (2246, 10)\n",
      "Build model...\n",
      "Train...\n",
      "Train on 8982 samples, validate on 2246 samples\n",
      "8982/8982 [==============================] - 90s 10ms/sample - loss: 2.1908 - acc: 0.4171 - val_loss: 1.9143 - val_acc: 0.4817\n",
      "2246/2246 [==============================] - 1s 478us/sample - loss: 1.9143 - acc: 0.4817\n",
      "Test score: 1.9143075510952372\n",
      "Test accuracy: 0.48174533\n"
     ]
    }
   ],
   "source": [
    "from __future__ import print_function\n",
    "\n",
    "from tensorflow.keras.preprocessing import sequence\n",
    "from tensorflow.keras.models import Sequential\n",
    "from tensorflow.keras.layers import Dense, Embedding\n",
    "from tensorflow.keras.layers import LSTM\n",
    "from tensorflow.keras.datasets import imdb\n",
    "\n",
    "max_features = 50000\n",
    "# cut text after this number of words\n",
    "maxlen = 10\n",
    "batch_size = 10\n",
    "\n",
    "print('Pad sequences (samples x time)')\n",
    "x_train = sequence.pad_sequences(x_train, maxlen=maxlen)\n",
    "x_test = sequence.pad_sequences(x_test, maxlen=maxlen)\n",
    "print('x_train shape:', x_train.shape)\n",
    "print('x_test shape:', x_test.shape)\n",
    "\n",
    "print('Build model...')\n",
    "model = Sequential()\n",
    "model.add(Embedding(max_features, 80))\n",
    "model.add(LSTM(46, dropout=0.2, recurrent_dropout=0.2))\n",
    "model.add(Dense(46, activation='softmax'))\n",
    "\n",
    "# try using different optimizers and different optimizer configs\n",
    "model.compile(loss='sparse_categorical_crossentropy',\n",
    "              optimizer='adam',\n",
    "              metrics=['accuracy'])\n",
    "\n",
    "print('Train...')\n",
    "model.fit(x_train, y_train,\n",
    "          batch_size=batch_size,\n",
    "          epochs=1,\n",
    "          validation_data=(x_test, y_test))\n",
    "score, acc = model.evaluate(x_test, y_test,\n",
    "                            batch_size=batch_size)\n",
    "print('Test score:', score)\n",
    "print('Test accuracy:', acc)"
   ]
  },
  {
   "cell_type": "markdown",
   "metadata": {
    "colab_type": "text",
    "id": "lPn6c0x21gu1"
   },
   "source": [
    "Conclusion - RNN runs, and gives pretty decent improvement over a naive model. To *really* improve the model, more playing with parameters would help. Also - RNN may well not be the best approach here, but it is at least a valid one."
   ]
  },
  {
   "cell_type": "markdown",
   "metadata": {
    "colab_type": "text",
    "id": "yz0LCZd_O4IG"
   },
   "source": [
    "<a id=\"p2\"></a>\n",
    "## Part 2- CNNs\n",
    "\n",
    "### Find the Frog\n",
    "\n",
    "Time to play \"find the frog!\" Use Keras and ResNet50 (pre-trained) to detect which of the following images contain frogs:\n",
    "\n",
    "<img align=\"left\" src=\"https://d3i6fh83elv35t.cloudfront.net/newshour/app/uploads/2017/03/GettyImages-654745934-1024x687.jpg\" width=400>\n"
   ]
  },
  {
   "cell_type": "code",
   "execution_count": 14,
   "metadata": {
    "colab": {
     "base_uri": "https://localhost:8080/",
     "height": 245
    },
    "colab_type": "code",
    "id": "whIqEWR236Af",
    "outputId": "7a74e30d-310d-4a3a-9ae4-5bf52d137bda"
   },
   "outputs": [
    {
     "name": "stdout",
     "output_type": "stream",
     "text": [
      "Collecting google_images_download\n",
      "  Downloading https://files.pythonhosted.org/packages/18/ed/0319d30c48f3653802da8e6dcfefcea6370157d10d566ef6807cceb5ec4d/google_images_download-2.8.0.tar.gz\n",
      "Collecting selenium (from google_images_download)\n",
      "\u001b[?25l  Downloading https://files.pythonhosted.org/packages/80/d6/4294f0b4bce4de0abf13e17190289f9d0613b0a44e5dd6a7f5ca98459853/selenium-3.141.0-py2.py3-none-any.whl (904kB)\n",
      "\u001b[K    100% |████████████████████████████████| 911kB 1.9MB/s ta 0:00:01\n",
      "\u001b[?25hRequirement already satisfied: urllib3 in /anaconda3/lib/python3.7/site-packages (from selenium->google_images_download) (1.24.1)\n",
      "Building wheels for collected packages: google-images-download\n",
      "  Building wheel for google-images-download (setup.py) ... \u001b[?25ldone\n",
      "\u001b[?25h  Stored in directory: /Users/TomasFox/Library/Caches/pip/wheels/1f/28/ad/f56e7061e1d2a9a1affe2f9c649c2570cb9198dd24ede0bbab\n",
      "Successfully built google-images-download\n",
      "Installing collected packages: selenium, google-images-download\n",
      "Successfully installed google-images-download-2.8.0 selenium-3.141.0\n"
     ]
    }
   ],
   "source": [
    "!pip install google_images_download"
   ]
  },
  {
   "cell_type": "code",
   "execution_count": 31,
   "metadata": {
    "colab": {
     "base_uri": "https://localhost:8080/",
     "height": 332
    },
    "colab_type": "code",
    "id": "EKnnnM8k38sN",
    "outputId": "59f477e9-0b25-4a38-9678-af24e0176535"
   },
   "outputs": [
    {
     "name": "stdout",
     "output_type": "stream",
     "text": [
      "\n",
      "Item no.: 1 --> Item name = animal pond\n",
      "Evaluating...\n",
      "Starting Download...\n",
      "Image URL: https://www.enchantedlearning.com/pgifs/Pondanimals.GIF\n",
      "Completed Image ====> 1.Pondanimals.GIF\n",
      "Image URL: https://i.ytimg.com/vi/NCbu0TND9vE/hqdefault.jpg\n",
      "Completed Image ====> 2.hqdefault.jpg\n",
      "Image URL: https://get.pxhere.com/photo/water-animal-pond-wildlife-mammal-fish-eat-fauna-whiskers-vertebrate-otter-mink-marmot-sea-otter-mustelidae-1383482.jpg\n",
      "Completed Image ====> 3.water-animal-pond-wildlife-mammal-fish-eat-fauna-whiskers-vertebrate-otter-mink-marmot-sea-otter-mustelidae-1383482.jpg\n",
      "Image URL: https://pklifescience.com/staticfiles/articles/images/PKLS4116_inline.png\n",
      "Completed Image ====> 4.PKLS4116_inline.png\n",
      "Image URL: https://i.pinimg.com/originals/12/ae/e2/12aee2aa186a7b69a66563f138bba822.jpg\n",
      "Completed Image ====> 5.12aee2aa186a7b69a66563f138bba822.jpg\n",
      "Image URL: https://cdn.pixabay.com/photo/2018/04/11/23/05/frog-3312038__340.jpg\n",
      "Completed Image ====> 6.frog-3312038__340.jpg\n",
      "Image URL: https://www.pixoto.com/images-photography/animals/birds/birds-in-a-pond-5986310798966784.jpg\n",
      "Completed Image ====> 7.birds-in-a-pond-5986310798966784.jpg\n",
      "Image URL: https://pixnio.com/free-images/fauna-animals/reptiles-and-amphibians/alligators-and-crocodiles-pictures/alligator-animal-on-pond.jpg\n",
      "Completed Image ====> 8.alligator-animal-on-pond.jpg\n",
      "Image URL: https://cdn.pixabay.com/photo/2017/04/19/20/37/frog-2243543_960_720.jpg\n",
      "Completed Image ====> 9.frog-2243543_960_720.jpg\n",
      "Image URL: https://media.istockphoto.com/vectors/animals-living-in-the-pond-vector-id477902543\n",
      "Invalid or missing image format. Skipping...\n",
      "Image URL: https://pklifescience.com/staticfiles/articles/images/PKLS4116.png\n",
      "Completed Image ====> 10.PKLS4116.png\n",
      "Image URL: https://cdn.pixabay.com/photo/2017/08/17/06/32/goose-2650209_960_720.jpg\n",
      "Completed Image ====> 11.goose-2650209_960_720.jpg\n",
      "Image URL: http://a5.mzstatic.com/eu/r30/Purple4/v4/48/05/96/480596cb-892e-df83-830e-76d623bd29fa/screen480x480.jpeg\n",
      "Completed Image ====> 12.screen480x480.jpeg\n",
      "Image URL: https://img-aws.ehowcdn.com/750x428p/photos.demandstudios.com/getty/article/178/192/87827228_XS.jpg\n",
      "Completed Image ====> 13.87827228_XS.jpg\n",
      "Image URL: https://i.pinimg.com/originals/41/6e/0e/416e0eff5efce95e87fae13b90d0b37a.jpg\n",
      "Completed Image ====> 14.416e0eff5efce95e87fae13b90d0b37a.jpg\n",
      "Image URL: https://www.pondtrademag.com/wp-content/uploads/1801wildpond001b.jpg\n",
      "Completed Image ====> 15.1801wildpond001b.jpg\n",
      "\n",
      "Errors: 1\n",
      "\n"
     ]
    }
   ],
   "source": [
    "from google_images_download import google_images_download\n",
    "\n",
    "response = google_images_download.googleimagesdownload()\n",
    "arguments = {\"keywords\": \"animal pond\", \"limit\": 15, \"print_urls\": True}\n",
    "absolute_image_paths = response.download(arguments)"
   ]
  },
  {
   "cell_type": "markdown",
   "metadata": {
    "colab_type": "text",
    "id": "si5YfNqS50QU"
   },
   "source": [
    "At time of writing at least a few do, but since the Internet changes - it is possible your 5 won't. You can easily verify yourself, and (once you have working code) increase the number of images you pull to be more sure of getting a frog. Your goal is to validly run ResNet50 on the input images - don't worry about tuning or improving the model.\n",
    "\n",
    "*Hint* - ResNet 50 doesn't just return \"frog\". The three labels it has for frogs are: `bullfrog, tree frog, tailed frog`\n",
    "\n",
    "*Stretch goal* - also check for fish."
   ]
  },
  {
   "cell_type": "code",
   "execution_count": 32,
   "metadata": {
    "colab": {},
    "colab_type": "code",
    "id": "FaT07ddW3nHz"
   },
   "outputs": [],
   "source": [
    "import numpy as np\n",
    "\n",
    "from keras.applications.resnet50 import ResNet50\n",
    "from keras.preprocessing import image\n",
    "from keras.applications.resnet50 import preprocess_input, decode_predictions\n",
    "\n",
    "def process_img_path(img_path):\n",
    "  return image.load_img(img_path, target_size=(224, 224))\n",
    "\n",
    "def class_image(img):\n",
    "  x = image.img_to_array(img)\n",
    "  x = np.expand_dims(x, axis=0)\n",
    "  x = preprocess_input(x)\n",
    "  model = ResNet50(weights='imagenet')\n",
    "  features = model.predict(x)\n",
    "  results = decode_predictions(features, top=3)[0]\n",
    "  print(results)\n",
    "  for entry in results:\n",
    "    if entry[1] == 'frog':\n",
    "      return entry[2]\n",
    "  return 0.0"
   ]
  },
  {
   "cell_type": "code",
   "execution_count": 33,
   "metadata": {},
   "outputs": [
    {
     "data": {
      "text/plain": [
       "({'animal pond': ['/Users/TomasFox/Downloads/downloads/animal pond/1.Pondanimals.GIF',\n",
       "   '/Users/TomasFox/Downloads/downloads/animal pond/2.hqdefault.jpg',\n",
       "   '/Users/TomasFox/Downloads/downloads/animal pond/3.water-animal-pond-wildlife-mammal-fish-eat-fauna-whiskers-vertebrate-otter-mink-marmot-sea-otter-mustelidae-1383482.jpg',\n",
       "   '/Users/TomasFox/Downloads/downloads/animal pond/4.PKLS4116_inline.png',\n",
       "   '/Users/TomasFox/Downloads/downloads/animal pond/5.12aee2aa186a7b69a66563f138bba822.jpg',\n",
       "   '/Users/TomasFox/Downloads/downloads/animal pond/6.frog-3312038__340.jpg',\n",
       "   '/Users/TomasFox/Downloads/downloads/animal pond/7.birds-in-a-pond-5986310798966784.jpg',\n",
       "   '/Users/TomasFox/Downloads/downloads/animal pond/8.alligator-animal-on-pond.jpg',\n",
       "   '/Users/TomasFox/Downloads/downloads/animal pond/9.frog-2243543_960_720.jpg',\n",
       "   '/Users/TomasFox/Downloads/downloads/animal pond/10.PKLS4116.png',\n",
       "   '/Users/TomasFox/Downloads/downloads/animal pond/11.goose-2650209_960_720.jpg',\n",
       "   '/Users/TomasFox/Downloads/downloads/animal pond/12.screen480x480.jpeg',\n",
       "   '/Users/TomasFox/Downloads/downloads/animal pond/13.87827228_XS.jpg',\n",
       "   '/Users/TomasFox/Downloads/downloads/animal pond/14.416e0eff5efce95e87fae13b90d0b37a.jpg',\n",
       "   '/Users/TomasFox/Downloads/downloads/animal pond/15.1801wildpond001b.jpg']},\n",
       " 1)"
      ]
     },
     "execution_count": 33,
     "metadata": {},
     "output_type": "execute_result"
    }
   ],
   "source": [
    "absolute_image_paths"
   ]
  },
  {
   "cell_type": "code",
   "execution_count": 34,
   "metadata": {},
   "outputs": [
    {
     "name": "stdout",
     "output_type": "stream",
     "text": [
      "[('n03598930', 'jigsaw_puzzle', 0.86803204), ('n06359193', 'web_site', 0.06409986), ('n02834397', 'bib', 0.021264242)]\n",
      "0.0\n",
      "[('n01443537', 'goldfish', 0.8495882), ('n01631663', 'eft', 0.06760146), ('n02536864', 'coho', 0.03516317)]\n",
      "0.0\n",
      "[('n02442845', 'mink', 0.3097655), ('n02363005', 'beaver', 0.23398967), ('n02361337', 'marmot', 0.2079685)]\n",
      "0.0\n",
      "[('n04243546', 'slot', 0.8712437), ('n04476259', 'tray', 0.049936477), ('n03908618', 'pencil_box', 0.02307264)]\n",
      "0.0\n",
      "[('n02116738', 'African_hunting_dog', 0.59568644), ('n02117135', 'hyena', 0.1690415), ('n02105162', 'malinois', 0.090247944)]\n",
      "0.0\n",
      "[('n01737021', 'water_snake', 0.30730626), ('n01641577', 'bullfrog', 0.26061302), ('n04275548', 'spider_web', 0.1134344)]\n",
      "0.0\n",
      "[('n02009912', 'American_egret', 0.78224105), ('n02012849', 'crane', 0.14339268), ('n02009229', 'little_blue_heron', 0.021143341)]\n",
      "0.0\n",
      "[('n01698640', 'American_alligator', 0.96394145), ('n01697457', 'African_crocodile', 0.026759788), ('n01737021', 'water_snake', 0.0059646494)]\n",
      "0.0\n",
      "[('n01641577', 'bullfrog', 0.9223302), ('n01644900', 'tailed_frog', 0.073647246), ('n01644373', 'tree_frog', 0.0011781217)]\n",
      "0.0\n",
      "[('n03485794', 'handkerchief', 0.88227284), ('n02834397', 'bib', 0.022680832), ('n03291819', 'envelope', 0.020095235)]\n",
      "0.0\n",
      "[('n01860187', 'black_swan', 0.87960935), ('n01847000', 'drake', 0.033984922), ('n01855032', 'red-breasted_merganser', 0.028971009)]\n",
      "0.0\n",
      "[('n03710721', 'maillot', 0.17273432), ('n04371430', 'swimming_trunks', 0.12428067), ('n04476259', 'tray', 0.09713072)]\n",
      "0.0\n",
      "[('n01443537', 'goldfish', 0.95694786), ('n01833805', 'hummingbird', 0.009290877), ('n12620546', 'hip', 0.0034554887)]\n",
      "0.0\n",
      "[('n02834397', 'bib', 0.16355659), ('n03485794', 'handkerchief', 0.13425805), ('n03291819', 'envelope', 0.11129428)]\n",
      "0.0\n",
      "[('n02317335', 'starfish', 0.8761688), ('n01978455', 'rock_crab', 0.100157514), ('n01443537', 'goldfish', 0.007590777)]\n",
      "0.0\n"
     ]
    }
   ],
   "source": [
    "animal_list = ['/Users/TomasFox/Downloads/downloads/animal pond/1.Pondanimals.GIF',\n",
    "   '/Users/TomasFox/Downloads/downloads/animal pond/2.hqdefault.jpg',\n",
    "   '/Users/TomasFox/Downloads/downloads/animal pond/3.water-animal-pond-wildlife-mammal-fish-eat-fauna-whiskers-vertebrate-otter-mink-marmot-sea-otter-mustelidae-1383482.jpg',\n",
    "   '/Users/TomasFox/Downloads/downloads/animal pond/4.PKLS4116_inline.png',\n",
    "   '/Users/TomasFox/Downloads/downloads/animal pond/5.12aee2aa186a7b69a66563f138bba822.jpg',\n",
    "   '/Users/TomasFox/Downloads/downloads/animal pond/6.frog-3312038__340.jpg',\n",
    "   '/Users/TomasFox/Downloads/downloads/animal pond/7.birds-in-a-pond-5986310798966784.jpg',\n",
    "   '/Users/TomasFox/Downloads/downloads/animal pond/8.alligator-animal-on-pond.jpg',\n",
    "   '/Users/TomasFox/Downloads/downloads/animal pond/9.frog-2243543_960_720.jpg',\n",
    "   '/Users/TomasFox/Downloads/downloads/animal pond/10.PKLS4116.png',\n",
    "   '/Users/TomasFox/Downloads/downloads/animal pond/11.goose-2650209_960_720.jpg',\n",
    "   '/Users/TomasFox/Downloads/downloads/animal pond/12.screen480x480.jpeg',\n",
    "   '/Users/TomasFox/Downloads/downloads/animal pond/13.87827228_XS.jpg',\n",
    "   '/Users/TomasFox/Downloads/downloads/animal pond/14.416e0eff5efce95e87fae13b90d0b37a.jpg',\n",
    "   '/Users/TomasFox/Downloads/downloads/animal pond/15.1801wildpond001b.jpg']\n",
    "\n",
    "for i in animal_list:\n",
    "    print(class_image(process_img_path(i)))\n",
    "    "
   ]
  },
  {
   "cell_type": "markdown",
   "metadata": {
    "colab_type": "text",
    "id": "XEuhvSu7O5Rf"
   },
   "source": [
    "<a id=\"p3\"></a>\n",
    "## Part 3 - Generative Adverserial Networks (GANS)\n",
    "\n",
    "Describe the difference between a discriminator and generator in a GAN in your own words.\n",
    "\n",
    "__*Your Answer:*__ \n",
    "\n",
    "In a generative adverserial network, as the word 'adverserial' implies, both the discriminator and the generator algorithms are optimizing opposing loss functions.\n",
    "\n",
    "The discriminator and the generator work within a double feedback loop model wherein the generator creates 'noise'; in other words, produces fake data, and the discriminator probabilistically decides, after receiving both 'real' output labels (the ground truth) and fake output labels from the generator, which outputs are true and which are fake. \n",
    "\n",
    "To summarize, The discriminator is in feedback loop with the ground truth and the generator's noise, as well as with the generator. Therefore, the discriminator 'learns' to better discriminate against fake and real data as the generative algorithm becomes 'smarter' as it receives more accurate feedback from the discriminator's probabiltistic classification outputs."
   ]
  },
  {
   "cell_type": "markdown",
   "metadata": {
    "colab_type": "text",
    "id": "626zYgjkO7Vq"
   },
   "source": [
    "<a id=\"p4\"></a>\n",
    "## Part 4 - More..."
   ]
  },
  {
   "cell_type": "markdown",
   "metadata": {
    "colab_type": "text",
    "id": "__lDWfcUO8oo"
   },
   "source": [
    "Answer the following questions, with a target audience of a fellow Data Scientist:\n",
    "\n",
    "- What do you consider your strongest area, as a Data Scientist?\n",
    "- What area of Data Science would you most like to learn more about, and why?\n",
    "- Where do you think Data Science will be in 5 years?\n",
    "- What are the treats posed by AI to our society?\n",
    "- How do you think we can counteract those threats? \n",
    "- Do you think achieving General Artifical Intelligence is ever possible?\n",
    "\n",
    "A few sentences per answer is fine - only elaborate if time allows."
   ]
  },
  {
   "cell_type": "markdown",
   "metadata": {},
   "source": [
    "__*Your Answer:*__ \n",
    "\n",
    "1.I consider my strongest area as a data scientist to be applied statistics.\n",
    "\n",
    "2.I would like to learn more about the math fundamentals underlying ML models. Also, learning more about the 'data retrieval' process: how best to find data and leverage our resources to filter through bad data. \n",
    "\n",
    "3.I think the data science industry will continue to grow in the next 5 years, especially with the rise of non-tradional education such as coding bootcamps, which are helping reduce the entry barrier into this multi-disciplinary industry. Moreover, I believe the industry as a whole will become more segmented, as the more 'vanilla' DS becomes more widely available and the more complex (neural nets) DS areas become even more esoteric in their applications and thus even more elusive to DS practioners. \n",
    "\n",
    "4.One threat AI poses stems from the gap that exists between AI advances and the publics' lack of awareness of the current pace of growth in the industry. It is impossible to democratically decide what measures should be allowed for the healthy growth of AI if the majority of the world is oblvious to its current state. \n",
    "\n",
    "5.I believe AI homogenous ethical standards should be put in place, in order to foster cooperation between nations.\n",
    "\n",
    "6.I don't know if AGI is possible; neverthless, if we use historical science fiction novel predictions as a benchmark into what could be humanly achievable, GAI could win. Just as no one could have predicted the major shift from agrarian society to industrialism, led by the industrial revolution in the late 18th century, or the internet boom in the 2000s, it is equally difficult to pinpoint how fast AI will advance in the long-term. "
   ]
  },
  {
   "cell_type": "markdown",
   "metadata": {
    "colab_type": "text",
    "id": "_Hoqe3mM_Mtc"
   },
   "source": [
    "## Congratulations! \n",
    "\n",
    "Thank you for your hard work, and congratulations! You've learned a lot, and you should proudly call yourself a Data Scientist.\n"
   ]
  },
  {
   "cell_type": "code",
   "execution_count": 36,
   "metadata": {},
   "outputs": [],
   "source": [
    "# from IPython.display import HTML\n",
    "\n",
    "# HTML(\"\"\"<iframe src=\"https://giphy.com/embed/26xivLqkv86uJzqWk\" width=\"480\" height=\"270\" frameBorder=\"0\" class=\"giphy-embed\" allowFullScreen></iframe><p><a href=\"https://giphy.com/gifs/mumm-champagne-saber-26xivLqkv86uJzqWk\">via GIPHY</a></p>\"\"\")"
   ]
  }
 ],
 "metadata": {
  "accelerator": "GPU",
  "colab": {
   "collapsed_sections": [],
   "name": "LS_DS_Unit_4_Sprint_Challenge_4.ipynb",
   "provenance": [],
   "version": "0.3.2"
  },
  "kernelspec": {
   "display_name": "Python 3",
   "language": "python",
   "name": "python3"
  },
  "language_info": {
   "codemirror_mode": {
    "name": "ipython",
    "version": 3
   },
   "file_extension": ".py",
   "mimetype": "text/x-python",
   "name": "python",
   "nbconvert_exporter": "python",
   "pygments_lexer": "ipython3",
   "version": "3.7.3"
  }
 },
 "nbformat": 4,
 "nbformat_minor": 2
}
