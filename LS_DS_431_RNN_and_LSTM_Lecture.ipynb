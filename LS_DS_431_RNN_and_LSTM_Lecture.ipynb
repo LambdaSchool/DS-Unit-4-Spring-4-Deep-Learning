{
  "nbformat": 4,
  "nbformat_minor": 0,
  "metadata": {
    "accelerator": "GPU",
    "colab": {
      "name": "LS_DS_431_RNN_and_LSTM_Lecture.ipynb",
      "provenance": [],
      "collapsed_sections": [],
      "include_colab_link": true
    },
    "kernelspec": {
      "display_name": "U4-S3-DL (Python 3)",
      "language": "python",
      "name": "u4-s3-dl"
    },
    "language_info": {
      "codemirror_mode": {
        "name": "ipython",
        "version": 3
      },
      "file_extension": ".py",
      "mimetype": "text/x-python",
      "name": "python",
      "nbconvert_exporter": "python",
      "pygments_lexer": "ipython3",
      "version": "3.7.0"
    }
  },
  "cells": [
    {
      "cell_type": "markdown",
      "metadata": {
        "id": "view-in-github",
        "colab_type": "text"
      },
      "source": [
        "<a href=\"https://colab.research.google.com/github/Neha-kumari31/DS-Unit-4-Sprint-3-Deep-Learning/blob/master/LS_DS_431_RNN_and_LSTM_Lecture.ipynb\" target=\"_parent\"><img src=\"https://colab.research.google.com/assets/colab-badge.svg\" alt=\"Open In Colab\"/></a>"
      ]
    },
    {
      "cell_type": "markdown",
      "metadata": {
        "colab_type": "text",
        "id": "Ldr0HZ193GKb"
      },
      "source": [
        "Lambda School Data Science\n",
        "\n",
        "*Unit 4, Sprint 3, Module 1*\n",
        "\n",
        "---\n"
      ]
    },
    {
      "cell_type": "markdown",
      "metadata": {
        "id": "kBKXAqp-Cuwi",
        "colab_type": "text"
      },
      "source": [
        "# Recurrent Neural Networks (RNNs) and Long Short Term Memory (LSTM) (Prepare)\n",
        "\n",
        "<img src=\"https://media.giphy.com/media/l2JJu8U8SoHhQEnoQ/giphy.gif\" width=480 height=356>\n",
        "<br></br>\n",
        "<br></br>"
      ]
    },
    {
      "cell_type": "markdown",
      "metadata": {
        "id": "3dIOepfLCuwk",
        "colab_type": "text"
      },
      "source": [
        "## Learning Objectives\n",
        "- <a href=\"#p1\">Part 1: </a>Describe Neural Networks used for modeling sequences\n",
        "- <a href=\"#p2\">Part 2: </a>Apply a LSTM to a text generation problem using Keras"
      ]
    },
    {
      "cell_type": "markdown",
      "metadata": {
        "colab_type": "text",
        "id": "_IizNKWLomoA"
      },
      "source": [
        "## Overview\n",
        "\n",
        "> \"Yesterday's just a memory - tomorrow is never what it's supposed to be.\" -- Bob Dylan\n",
        "\n",
        "Wish you could save [Time In A Bottle](https://www.youtube.com/watch?v=AnWWj6xOleY)? With statistics you can do the next best thing - understand how data varies over time (or any sequential order), and use the order/time dimension predictively.\n",
        "\n",
        "A sequence is just any enumerated collection - order counts, and repetition is allowed. Python lists are a good elemental example - `[1, 2, 2, -1]` is a valid list, and is different from `[1, 2, -1, 2]`. The data structures we tend to use (e.g. NumPy arrays) are often built on this fundamental structure.\n",
        "\n",
        "A time series is data where you have not just the order but some actual continuous marker for where they lie \"in time\" - this could be a date, a timestamp, [Unix time](https://en.wikipedia.org/wiki/Unix_time), or something else. All time series are also sequences, and for some techniques you may just consider their order and not \"how far apart\" the entries are (if you have particularly consistent data collected at regular intervals it may not matter)."
      ]
    },
    {
      "cell_type": "markdown",
      "metadata": {
        "colab_type": "text",
        "id": "44QZgrPUe3-Y"
      },
      "source": [
        "# Neural Networks for Sequences (Learn)"
      ]
    },
    {
      "cell_type": "markdown",
      "metadata": {
        "colab_type": "text",
        "id": "2oBHQZd4Cuwp"
      },
      "source": [
        "## Overview\n",
        "\n",
        "There's plenty more to \"traditional\" time series, but the latest and greatest technique for sequence data is recurrent neural networks. A recurrence relation in math is an equation that uses recursion to define a sequence - a famous example is the Fibonacci numbers:\n",
        "\n",
        "$F_n = F_{n-1} + F_{n-2}$\n",
        "\n",
        "For formal math you also need a base case $F_0=1, F_1=1$, and then the rest builds from there. But for neural networks what we're really talking about are loops:\n",
        "\n",
        "![Recurrent neural network](https://upload.wikimedia.org/wikipedia/commons/b/b5/Recurrent_neural_network_unfold.svg)\n",
        "\n",
        "The hidden layers have edges (output) going back to their own input - this loop means that for any time `t` the training is at least partly based on the output from time `t-1`. The entire network is being represented on the left, and you can unfold the network explicitly to see how it behaves at any given `t`.\n",
        "\n",
        "Different units can have this \"loop\", but a particularly successful one is the long short-term memory unit (LSTM):\n",
        "\n",
        "![Long short-term memory unit](https://upload.wikimedia.org/wikipedia/commons/thumb/6/63/Long_Short-Term_Memory.svg/1024px-Long_Short-Term_Memory.svg.png)\n",
        "\n",
        "There's a lot going on here - in a nutshell, the calculus still works out and backpropagation can still be implemented. The advantage (ane namesake) of LSTM is that it can generally put more weight on recent (short-term) events while not completely losing older (long-term) information.\n",
        "\n",
        "After enough iterations, a typical neural network will start calculating prior gradients that are so small they effectively become zero - this is the [vanishing gradient problem](https://en.wikipedia.org/wiki/Vanishing_gradient_problem), and is what RNN with LSTM addresses. Pay special attention to the $c_t$ parameters and how they pass through the unit to get an intuition for how this problem is solved.\n",
        "\n",
        "So why are these cool? One particularly compelling application is actually not time series but language modeling - language is inherently ordered data (letters/words go one after another, and the order *matters*). [The Unreasonable Effectiveness of Recurrent Neural Networks](https://karpathy.github.io/2015/05/21/rnn-effectiveness/) is a famous and worth reading blog post on this topic.\n",
        "\n",
        "For our purposes, let's use TensorFlow and Keras to train RNNs with natural language. Resources:\n",
        "\n",
        "- https://github.com/keras-team/keras/blob/master/examples/imdb_lstm.py\n",
        "- https://keras.io/layers/recurrent/#lstm\n",
        "- http://adventuresinmachinelearning.com/keras-lstm-tutorial/\n",
        "\n",
        "Note that `tensorflow.contrib` [also has an implementation of RNN/LSTM](https://www.tensorflow.org/tutorials/sequences/recurrent)."
      ]
    },
    {
      "cell_type": "markdown",
      "metadata": {
        "colab_type": "text",
        "id": "eWrQllf8WEd-"
      },
      "source": [
        "## Follow Along\n",
        "\n",
        "Sequences come in many shapes and forms from stock prices to text. We'll focus on text, because modeling text as a sequence is a strength of Neural Networks. Let's start with a simple classification task using a TensorFlow tutorial. "
      ]
    },
    {
      "cell_type": "markdown",
      "metadata": {
        "colab_type": "text",
        "id": "Q5TahwGeCuws"
      },
      "source": [
        "### RNN/LSTM Sentiment Classification with Keras"
      ]
    },
    {
      "cell_type": "code",
      "metadata": {
        "id": "YAr27Pi9DUpA",
        "colab_type": "code",
        "outputId": "c709028e-fe6d-4899-b24e-86ae99c127c2",
        "colab": {
          "base_uri": "https://localhost:8080/",
          "height": 301
        }
      },
      "source": [
        "# Check that we have a GPU instance of Colab\n",
        "gpu_info = !nvidia-smi\n",
        "gpu_info = '\\n'.join(gpu_info)\n",
        "if gpu_info.find('failed') >= 0:\n",
        "  print('Select the Runtime → \"Change runtime type\" menu to enable a GPU accelerator, ')\n",
        "  print('and then re-execute this cell.')\n",
        "else:\n",
        "  print(gpu_info)"
      ],
      "execution_count": 0,
      "outputs": [
        {
          "output_type": "stream",
          "text": [
            "Wed Apr 22 02:24:31 2020       \n",
            "+-----------------------------------------------------------------------------+\n",
            "| NVIDIA-SMI 440.64.00    Driver Version: 418.67       CUDA Version: 10.1     |\n",
            "|-------------------------------+----------------------+----------------------+\n",
            "| GPU  Name        Persistence-M| Bus-Id        Disp.A | Volatile Uncorr. ECC |\n",
            "| Fan  Temp  Perf  Pwr:Usage/Cap|         Memory-Usage | GPU-Util  Compute M. |\n",
            "|===============================+======================+======================|\n",
            "|   0  Tesla P100-PCIE...  Off  | 00000000:00:04.0 Off |                    0 |\n",
            "| N/A   37C    P0    26W / 250W |      0MiB / 16280MiB |      0%      Default |\n",
            "+-------------------------------+----------------------+----------------------+\n",
            "                                                                               \n",
            "+-----------------------------------------------------------------------------+\n",
            "| Processes:                                                       GPU Memory |\n",
            "|  GPU       PID   Type   Process name                             Usage      |\n",
            "|=============================================================================|\n",
            "|  No running processes found                                                 |\n",
            "+-----------------------------------------------------------------------------+\n"
          ],
          "name": "stdout"
        }
      ]
    },
    {
      "cell_type": "code",
      "metadata": {
        "colab_type": "code",
        "id": "Ti23G0gRe3kr",
        "outputId": "e55731c3-442c-41ee-c3ac-0008fd6a5860",
        "colab": {
          "base_uri": "https://localhost:8080/",
          "height": 120
        }
      },
      "source": [
        "'''\n",
        "#Trains an LSTM model on the IMDB sentiment classification task.\n",
        "The dataset is actually too small for LSTM to be of any advantage\n",
        "compared to simpler, much faster methods such as TF-IDF + LogReg.\n",
        "**Notes**\n",
        "- RNNs are tricky. Choice of batch size is important,\n",
        "choice of loss and optimizer is critical, etc.\n",
        "Some configurations won't converge.\n",
        "- LSTM loss decrease patterns during training can be quite different\n",
        "from what you see with CNNs/MLPs/etc.\n",
        "'''\n",
        "from __future__ import print_function\n",
        "\n",
        "import numpy as np\n",
        "from tensorflow.keras.preprocessing import sequence\n",
        "from tensorflow.keras.models import Sequential\n",
        "from tensorflow.keras.layers import Dense, Embedding, Dropout, SimpleRNN, LSTM, Bidirectional\n",
        "from tensorflow.keras.datasets import imdb\n",
        "import matplotlib.pyplot as plt\n",
        "import seaborn as sns\n",
        "sns.set()\n",
        "\n",
        "# Set top N words and batch_size\n",
        "max_features = 20000\n",
        "batch_size = 32\n",
        "\n",
        "print('Loading data...')\n",
        "(x_train, y_train), (x_test, y_test) = imdb.load_data(num_words=max_features)\n",
        "print(len(x_train), 'train sequences')\n",
        "print(len(x_test), 'test sequences')\n",
        "\n",
        "# Map for readable classnames\n",
        "class_names = [\"Negative\", \"Positive\"]"
      ],
      "execution_count": 0,
      "outputs": [
        {
          "output_type": "stream",
          "text": [
            "/usr/local/lib/python3.6/dist-packages/statsmodels/tools/_testing.py:19: FutureWarning: pandas.util.testing is deprecated. Use the functions in the public API at pandas.testing instead.\n",
            "  import pandas.util.testing as tm\n"
          ],
          "name": "stderr"
        },
        {
          "output_type": "stream",
          "text": [
            "Loading data...\n",
            "25000 train sequences\n",
            "25000 test sequences\n"
          ],
          "name": "stdout"
        }
      ]
    },
    {
      "cell_type": "code",
      "metadata": {
        "id": "n2GCSjyZuRT-",
        "colab_type": "code",
        "outputId": "b17c3c01-a3f2-4819-f885-8d0cb116fefa",
        "colab": {
          "base_uri": "https://localhost:8080/",
          "height": 1000
        }
      },
      "source": [
        "x_train[0]"
      ],
      "execution_count": 0,
      "outputs": [
        {
          "output_type": "execute_result",
          "data": {
            "text/plain": [
              "[1,\n",
              " 14,\n",
              " 22,\n",
              " 16,\n",
              " 43,\n",
              " 530,\n",
              " 973,\n",
              " 1622,\n",
              " 1385,\n",
              " 65,\n",
              " 458,\n",
              " 4468,\n",
              " 66,\n",
              " 3941,\n",
              " 4,\n",
              " 173,\n",
              " 36,\n",
              " 256,\n",
              " 5,\n",
              " 25,\n",
              " 100,\n",
              " 43,\n",
              " 838,\n",
              " 112,\n",
              " 50,\n",
              " 670,\n",
              " 2,\n",
              " 9,\n",
              " 35,\n",
              " 480,\n",
              " 284,\n",
              " 5,\n",
              " 150,\n",
              " 4,\n",
              " 172,\n",
              " 112,\n",
              " 167,\n",
              " 2,\n",
              " 336,\n",
              " 385,\n",
              " 39,\n",
              " 4,\n",
              " 172,\n",
              " 4536,\n",
              " 1111,\n",
              " 17,\n",
              " 546,\n",
              " 38,\n",
              " 13,\n",
              " 447,\n",
              " 4,\n",
              " 192,\n",
              " 50,\n",
              " 16,\n",
              " 6,\n",
              " 147,\n",
              " 2025,\n",
              " 19,\n",
              " 14,\n",
              " 22,\n",
              " 4,\n",
              " 1920,\n",
              " 4613,\n",
              " 469,\n",
              " 4,\n",
              " 22,\n",
              " 71,\n",
              " 87,\n",
              " 12,\n",
              " 16,\n",
              " 43,\n",
              " 530,\n",
              " 38,\n",
              " 76,\n",
              " 15,\n",
              " 13,\n",
              " 1247,\n",
              " 4,\n",
              " 22,\n",
              " 17,\n",
              " 515,\n",
              " 17,\n",
              " 12,\n",
              " 16,\n",
              " 626,\n",
              " 18,\n",
              " 19193,\n",
              " 5,\n",
              " 62,\n",
              " 386,\n",
              " 12,\n",
              " 8,\n",
              " 316,\n",
              " 8,\n",
              " 106,\n",
              " 5,\n",
              " 4,\n",
              " 2223,\n",
              " 5244,\n",
              " 16,\n",
              " 480,\n",
              " 66,\n",
              " 3785,\n",
              " 33,\n",
              " 4,\n",
              " 130,\n",
              " 12,\n",
              " 16,\n",
              " 38,\n",
              " 619,\n",
              " 5,\n",
              " 25,\n",
              " 124,\n",
              " 51,\n",
              " 36,\n",
              " 135,\n",
              " 48,\n",
              " 25,\n",
              " 1415,\n",
              " 33,\n",
              " 6,\n",
              " 22,\n",
              " 12,\n",
              " 215,\n",
              " 28,\n",
              " 77,\n",
              " 52,\n",
              " 5,\n",
              " 14,\n",
              " 407,\n",
              " 16,\n",
              " 82,\n",
              " 10311,\n",
              " 8,\n",
              " 4,\n",
              " 107,\n",
              " 117,\n",
              " 5952,\n",
              " 15,\n",
              " 256,\n",
              " 4,\n",
              " 2,\n",
              " 7,\n",
              " 3766,\n",
              " 5,\n",
              " 723,\n",
              " 36,\n",
              " 71,\n",
              " 43,\n",
              " 530,\n",
              " 476,\n",
              " 26,\n",
              " 400,\n",
              " 317,\n",
              " 46,\n",
              " 7,\n",
              " 4,\n",
              " 12118,\n",
              " 1029,\n",
              " 13,\n",
              " 104,\n",
              " 88,\n",
              " 4,\n",
              " 381,\n",
              " 15,\n",
              " 297,\n",
              " 98,\n",
              " 32,\n",
              " 2071,\n",
              " 56,\n",
              " 26,\n",
              " 141,\n",
              " 6,\n",
              " 194,\n",
              " 7486,\n",
              " 18,\n",
              " 4,\n",
              " 226,\n",
              " 22,\n",
              " 21,\n",
              " 134,\n",
              " 476,\n",
              " 26,\n",
              " 480,\n",
              " 5,\n",
              " 144,\n",
              " 30,\n",
              " 5535,\n",
              " 18,\n",
              " 51,\n",
              " 36,\n",
              " 28,\n",
              " 224,\n",
              " 92,\n",
              " 25,\n",
              " 104,\n",
              " 4,\n",
              " 226,\n",
              " 65,\n",
              " 16,\n",
              " 38,\n",
              " 1334,\n",
              " 88,\n",
              " 12,\n",
              " 16,\n",
              " 283,\n",
              " 5,\n",
              " 16,\n",
              " 4472,\n",
              " 113,\n",
              " 103,\n",
              " 32,\n",
              " 15,\n",
              " 16,\n",
              " 5345,\n",
              " 19,\n",
              " 178,\n",
              " 32]"
            ]
          },
          "metadata": {
            "tags": []
          },
          "execution_count": 3
        }
      ]
    },
    {
      "cell_type": "markdown",
      "metadata": {
        "id": "G9ee6v9SCuw7",
        "colab_type": "text"
      },
      "source": [
        "Reviews in the IMDB dataset have been encoded as a sequence of integers. Luckily the dataset also contains an index for converting the reviews back into human readable form."
      ]
    },
    {
      "cell_type": "code",
      "metadata": {
        "id": "fkyiIrTTCuw8",
        "colab_type": "code",
        "colab": {}
      },
      "source": [
        "# Get the word index from the dataset\n",
        "word_index = imdb.get_word_index()\n",
        "\n",
        "# Ensure that \"special\" words are mapped into human readable terms \n",
        "word_index = {k:(v+3) for k,v in word_index.items()}\n",
        "word_index[\"<PAD>\"] = 0\n",
        "word_index[\"<START>\"] = 1\n",
        "word_index[\"<UNKNOWN>\"] = 2\n",
        "word_index[\"<UNUSED>\"] = 3\n",
        "\n",
        "# Perform reverse word lookup and make it callable\n",
        "reverse_word_index = dict([(value, key) for (key, value) in word_index.items()])\n",
        "def decode_review(text):\n",
        "    return ' '.join([reverse_word_index.get(i, '?') for i in text])"
      ],
      "execution_count": 0,
      "outputs": []
    },
    {
      "cell_type": "code",
      "metadata": {
        "id": "avOw7xlJCuxH",
        "colab_type": "code",
        "outputId": "d6829416-c303-4ae2-b265-b3e3dec81944",
        "colab": {
          "base_uri": "https://localhost:8080/",
          "height": 221
        }
      },
      "source": [
        "# Concatonate test and training datasets\n",
        "allreviews = np.concatenate((x_train, x_test), axis=0)\n",
        "\n",
        "# Review lengths across test and training whole datasets\n",
        "print(\"Maximum review length: {}\".format(len(max((allreviews), key=len))))\n",
        "print(\"Minimum review length: {}\".format(len(min((allreviews), key=len))))\n",
        "result = [len(x) for x in allreviews]\n",
        "print(\"Mean review length: {}\".format(np.mean(result)))\n",
        "\n",
        "# Print a review and it's class as stored in the dataset. Replace the number\n",
        "# to select a different review.\n",
        "print(\"\")\n",
        "print(\"Machine readable Review\")\n",
        "print(\"  Review Text: \" + str(x_train[60]))\n",
        "print(\"  Review Sentiment: \" + str(y_train[60]))\n",
        "\n",
        "# Print a review and it's class in human readable format. Replace the number\n",
        "# to select a different review.\n",
        "print(\"\")\n",
        "print(\"Human Readable Review\")\n",
        "print(\"  Review Text: \" + decode_review(x_train[60]))\n",
        "print(\"  Review Sentiment: \" + class_names[y_train[60]])"
      ],
      "execution_count": 0,
      "outputs": [
        {
          "output_type": "stream",
          "text": [
            "Maximum review length: 2494\n",
            "Minimum review length: 7\n",
            "Mean review length: 234.75892\n",
            "\n",
            "Machine readable Review\n",
            "  Review Text: [1, 13, 219, 14, 33, 4, 12180, 22, 1413, 12, 16, 373, 175, 2711, 1115, 1026, 430, 939, 16, 23, 2444, 25, 43, 697, 89, 12, 16, 170, 8, 130, 262, 19, 32, 4, 665, 7, 4, 2, 322, 5, 4, 1520, 7, 4, 86, 250, 10, 10, 4, 249, 173, 16, 4, 3891, 6, 19, 4, 167, 564, 5, 564, 1325, 36, 805, 8, 216, 638, 17, 11076, 21, 25, 100, 376, 507, 4, 2110, 15, 79, 125, 23, 567, 13, 2134, 233, 36, 4852, 2, 5, 81, 1672, 10, 10, 92, 437, 129, 58, 13, 69, 8, 401, 61, 1432, 39, 1286, 46, 7, 12]\n",
            "  Review Sentiment: 0\n",
            "\n",
            "Human Readable Review\n",
            "  Review Text: <START> i saw this at the edinburgh film festival it was awful every clichéd violent rich boy fantasy was on display you just knew how it was going to end especially with all the shots of the <UNKNOWN> wife and the rape of the first girl br br the worst part was the q a with the director writer and writer producer they tried to come across as intellectuals but you could tell they're the types that get off on violence i bet anything they frequent <UNKNOWN> and do drugs br br don't waste your time i had to keep my boyfriend from walking out of it\n",
            "  Review Sentiment: Negative\n"
          ],
          "name": "stdout"
        }
      ]
    },
    {
      "cell_type": "code",
      "metadata": {
        "id": "EMO49oLaCuxO",
        "colab_type": "code",
        "outputId": "3fdcdb86-5e04-432c-dcde-2ce914b80a36",
        "colab": {
          "base_uri": "https://localhost:8080/",
          "height": 394
        }
      },
      "source": [
        "# Get the lengths for positive and negative reviews\n",
        "all_labels = np.concatenate([y_train, y_test])\n",
        "positive = np.array(result)[all_labels==1]\n",
        "negative = np.array(result)[all_labels==0]\n",
        "\n",
        "plt.figure(figsize=(8,6))\n",
        "sns.distplot(positive, label='Positive Reviews', hist=False)\n",
        "sns.distplot(negative, label='Negative Reviews', hist=False)\n",
        "plt.title('Distribution of Positive and Negative Review Lengths', fontsize=14)\n",
        "plt.legend();"
      ],
      "execution_count": 0,
      "outputs": [
        {
          "output_type": "display_data",
          "data": {
            "image/png": "[encoded data removed]",
            "text/plain": [
              "<Figure size 576x432 with 1 Axes>"
            ]
          },
          "metadata": {
            "tags": []
          }
        }
      ]
    },
    {
      "cell_type": "code",
      "metadata": {
        "id": "C4f6qStECuxV",
        "colab_type": "code",
        "outputId": "dd5eaf7d-0bb4-40b3-dfcb-aea2a4115a89",
        "colab": {
          "base_uri": "https://localhost:8080/",
          "height": 67
        }
      },
      "source": [
        "# If you want to pad the end of the sequences you can set padding='post'.\n",
        "maxlen = 300\n",
        "\n",
        "print('Pad Sequences (samples x time)')\n",
        "x_train = sequence.pad_sequences(x_train, maxlen=maxlen)\n",
        "x_test = sequence.pad_sequences(x_test, maxlen=maxlen)\n",
        "print('x_train shape: ', x_train.shape)\n",
        "print('x_test shape: ', x_test.shape)"
      ],
      "execution_count": 0,
      "outputs": [
        {
          "output_type": "stream",
          "text": [
            "Pad Sequences (samples x time)\n",
            "x_train shape:  (25000, 300)\n",
            "x_test shape:  (25000, 300)\n"
          ],
          "name": "stdout"
        }
      ]
    },
    {
      "cell_type": "code",
      "metadata": {
        "id": "nybI8LQoCuxc",
        "colab_type": "code",
        "outputId": "a90dbe74-88b8-4b2a-83f9-5b304f8214ea",
        "colab": {
          "base_uri": "https://localhost:8080/",
          "height": 585
        }
      },
      "source": [
        "x_train[60]"
      ],
      "execution_count": 0,
      "outputs": [
        {
          "output_type": "execute_result",
          "data": {
            "text/plain": [
              "array([    0,     0,     0,     0,     0,     0,     0,     0,     0,\n",
              "           0,     0,     0,     0,     0,     0,     0,     0,     0,\n",
              "           0,     0,     0,     0,     0,     0,     0,     0,     0,\n",
              "           0,     0,     0,     0,     0,     0,     0,     0,     0,\n",
              "           0,     0,     0,     0,     0,     0,     0,     0,     0,\n",
              "           0,     0,     0,     0,     0,     0,     0,     0,     0,\n",
              "           0,     0,     0,     0,     0,     0,     0,     0,     0,\n",
              "           0,     0,     0,     0,     0,     0,     0,     0,     0,\n",
              "           0,     0,     0,     0,     0,     0,     0,     0,     0,\n",
              "           0,     0,     0,     0,     0,     0,     0,     0,     0,\n",
              "           0,     0,     0,     0,     0,     0,     0,     0,     0,\n",
              "           0,     0,     0,     0,     0,     0,     0,     0,     0,\n",
              "           0,     0,     0,     0,     0,     0,     0,     0,     0,\n",
              "           0,     0,     0,     0,     0,     0,     0,     0,     0,\n",
              "           0,     0,     0,     0,     0,     0,     0,     0,     0,\n",
              "           0,     0,     0,     0,     0,     0,     0,     0,     0,\n",
              "           0,     0,     0,     0,     0,     0,     0,     0,     0,\n",
              "           0,     0,     0,     0,     0,     0,     0,     0,     0,\n",
              "           0,     0,     0,     0,     0,     0,     0,     0,     0,\n",
              "           0,     0,     0,     0,     0,     0,     0,     0,     0,\n",
              "           0,     0,     0,     0,     0,     0,     0,     0,     0,\n",
              "           0,     0,     0,     0,     1,    13,   219,    14,    33,\n",
              "           4, 12180,    22,  1413,    12,    16,   373,   175,  2711,\n",
              "        1115,  1026,   430,   939,    16,    23,  2444,    25,    43,\n",
              "         697,    89,    12,    16,   170,     8,   130,   262,    19,\n",
              "          32,     4,   665,     7,     4,     2,   322,     5,     4,\n",
              "        1520,     7,     4,    86,   250,    10,    10,     4,   249,\n",
              "         173,    16,     4,  3891,     6,    19,     4,   167,   564,\n",
              "           5,   564,  1325,    36,   805,     8,   216,   638,    17,\n",
              "       11076,    21,    25,   100,   376,   507,     4,  2110,    15,\n",
              "          79,   125,    23,   567,    13,  2134,   233,    36,  4852,\n",
              "           2,     5,    81,  1672,    10,    10,    92,   437,   129,\n",
              "          58,    13,    69,     8,   401,    61,  1432,    39,  1286,\n",
              "          46,     7,    12], dtype=int32)"
            ]
          },
          "metadata": {
            "tags": []
          },
          "execution_count": 8
        }
      ]
    },
    {
      "cell_type": "markdown",
      "metadata": {
        "id": "bOEKyaEHCuxk",
        "colab_type": "text"
      },
      "source": [
        "Let's get a baseline performance for Multi-Layer Perceptron"
      ]
    },
    {
      "cell_type": "code",
      "metadata": {
        "id": "XBUSBFm6Cuxm",
        "colab_type": "code",
        "outputId": "8eaba434-8ac2-4093-8d95-82fc473fbff4",
        "colab": {
          "base_uri": "https://localhost:8080/",
          "height": 284
        }
      },
      "source": [
        "mlp = Sequential()\n",
        "mlp.add(Embedding(max_features, 128))\n",
        "mlp.add(Dense(128))\n",
        "mlp.add(Dropout(0.25))\n",
        "mlp.add(Dense(1, activation='sigmoid'))\n",
        "\n",
        "mlp.compile(loss='binary_crossentropy',\n",
        "              optimizer='adam', \n",
        "              metrics=['accuracy'])\n",
        "\n",
        "mlp.summary()"
      ],
      "execution_count": 0,
      "outputs": [
        {
          "output_type": "stream",
          "text": [
            "Model: \"sequential\"\n",
            "_________________________________________________________________\n",
            "Layer (type)                 Output Shape              Param #   \n",
            "=================================================================\n",
            "embedding (Embedding)        (None, None, 128)         2560000   \n",
            "_________________________________________________________________\n",
            "dense (Dense)                (None, None, 128)         16512     \n",
            "_________________________________________________________________\n",
            "dropout (Dropout)            (None, None, 128)         0         \n",
            "_________________________________________________________________\n",
            "dense_1 (Dense)              (None, None, 1)           129       \n",
            "=================================================================\n",
            "Total params: 2,576,641\n",
            "Trainable params: 2,576,641\n",
            "Non-trainable params: 0\n",
            "_________________________________________________________________\n"
          ],
          "name": "stdout"
        }
      ]
    },
    {
      "cell_type": "code",
      "metadata": {
        "id": "rRI98fWGCuxu",
        "colab_type": "code",
        "outputId": "68e74950-4b83-43c3-f876-4177522c0b2a",
        "colab": {
          "base_uri": "https://localhost:8080/",
          "height": 184
        }
      },
      "source": [
        "mlp_history = mlp.fit(x_train, y_train,\n",
        "                      batch_size=batch_size, \n",
        "                      epochs=5, \n",
        "                      validation_data=(x_test, y_test))"
      ],
      "execution_count": 0,
      "outputs": [
        {
          "output_type": "stream",
          "text": [
            "Epoch 1/5\n",
            "782/782 [==============================] - 28s 36ms/step - loss: 0.6861 - accuracy: 0.5317 - val_loss: 0.6857 - val_accuracy: 0.5288\n",
            "Epoch 2/5\n",
            "782/782 [==============================] - 27s 35ms/step - loss: 0.6832 - accuracy: 0.5349 - val_loss: 0.6857 - val_accuracy: 0.5349\n",
            "Epoch 3/5\n",
            "782/782 [==============================] - 27s 35ms/step - loss: 0.6823 - accuracy: 0.5349 - val_loss: 0.6865 - val_accuracy: 0.5290\n",
            "Epoch 4/5\n",
            "782/782 [==============================] - 27s 35ms/step - loss: 0.6821 - accuracy: 0.5381 - val_loss: 0.6856 - val_accuracy: 0.5295\n",
            "Epoch 5/5\n",
            "782/782 [==============================] - 27s 35ms/step - loss: 0.6819 - accuracy: 0.5361 - val_loss: 0.6859 - val_accuracy: 0.5353\n"
          ],
          "name": "stdout"
        }
      ]
    },
    {
      "cell_type": "code",
      "metadata": {
        "id": "FhcEBXfkCux3",
        "colab_type": "code",
        "outputId": "50cb5c2c-6acc-4405-b81c-e636e085811b",
        "colab": {
          "base_uri": "https://localhost:8080/",
          "height": 301
        }
      },
      "source": [
        "# Plot training & validation loss values\n",
        "plt.plot(mlp_history.history['loss'])\n",
        "plt.plot(mlp_history.history['val_loss'])\n",
        "plt.title('Model loss')\n",
        "plt.ylabel('Loss')\n",
        "plt.xlabel('Epoch')\n",
        "plt.legend(['Train', 'Test'], loc='upper left')\n",
        "plt.show();"
      ],
      "execution_count": 0,
      "outputs": [
        {
          "output_type": "display_data",
          "data": {
            "image/png": "[encoded data removed]",
            "text/plain": [
              "<Figure size 432x288 with 1 Axes>"
            ]
          },
          "metadata": {
            "tags": []
          }
        }
      ]
    },
    {
      "cell_type": "markdown",
      "metadata": {
        "id": "NEjRVsiYCuyB",
        "colab_type": "text"
      },
      "source": [
        "Let's try using the SimpleRNN layers instead of Dense"
      ]
    },
    {
      "cell_type": "code",
      "metadata": {
        "id": "fZq_QzLcCuyD",
        "colab_type": "code",
        "outputId": "31effb8c-c9f1-42e5-b3e3-6b7ad664a11a",
        "colab": {
          "base_uri": "https://localhost:8080/",
          "height": 284
        }
      },
      "source": [
        "rnn = Sequential()\n",
        "rnn.add(Embedding(max_features, 128))\n",
        "rnn.add(SimpleRNN(128))\n",
        "rnn.add(Dropout(0.25))\n",
        "rnn.add(Dense(1, activation='sigmoid'))\n",
        "\n",
        "rnn.compile(loss='binary_crossentropy',\n",
        "              optimizer='adam', \n",
        "              metrics=['accuracy'])\n",
        "\n",
        "rnn.summary()"
      ],
      "execution_count": 0,
      "outputs": [
        {
          "output_type": "stream",
          "text": [
            "Model: \"sequential_1\"\n",
            "_________________________________________________________________\n",
            "Layer (type)                 Output Shape              Param #   \n",
            "=================================================================\n",
            "embedding_1 (Embedding)      (None, None, 128)         2560000   \n",
            "_________________________________________________________________\n",
            "simple_rnn (SimpleRNN)       (None, 128)               32896     \n",
            "_________________________________________________________________\n",
            "dropout_1 (Dropout)          (None, 128)               0         \n",
            "_________________________________________________________________\n",
            "dense_2 (Dense)              (None, 1)                 129       \n",
            "=================================================================\n",
            "Total params: 2,593,025\n",
            "Trainable params: 2,593,025\n",
            "Non-trainable params: 0\n",
            "_________________________________________________________________\n"
          ],
          "name": "stdout"
        }
      ]
    },
    {
      "cell_type": "code",
      "metadata": {
        "id": "4R1jDCd9CuyL",
        "colab_type": "code",
        "outputId": "27bb8694-c06f-4b39-9cf5-0642ed43a84c",
        "colab": {
          "base_uri": "https://localhost:8080/",
          "height": 184
        }
      },
      "source": [
        "rnn_history = mlp.fit(x_train, y_train,\n",
        "                      batch_size=batch_size, \n",
        "                      epochs=5, \n",
        "                      validation_data=(x_test, y_test))"
      ],
      "execution_count": 0,
      "outputs": [
        {
          "output_type": "stream",
          "text": [
            "Epoch 1/5\n",
            "782/782 [==============================] - 27s 35ms/step - loss: 0.6818 - accuracy: 0.5365 - val_loss: 0.6862 - val_accuracy: 0.5297\n",
            "Epoch 2/5\n",
            "782/782 [==============================] - 28s 35ms/step - loss: 0.6815 - accuracy: 0.5377 - val_loss: 0.6861 - val_accuracy: 0.5296\n",
            "Epoch 3/5\n",
            "782/782 [==============================] - 27s 35ms/step - loss: 0.6815 - accuracy: 0.5376 - val_loss: 0.6862 - val_accuracy: 0.5352\n",
            "Epoch 4/5\n",
            "782/782 [==============================] - 27s 35ms/step - loss: 0.6815 - accuracy: 0.5372 - val_loss: 0.6859 - val_accuracy: 0.5350\n",
            "Epoch 5/5\n",
            "782/782 [==============================] - 27s 35ms/step - loss: 0.6814 - accuracy: 0.5375 - val_loss: 0.6867 - val_accuracy: 0.5289\n"
          ],
          "name": "stdout"
        }
      ]
    },
    {
      "cell_type": "code",
      "metadata": {
        "id": "y5lEvIhXCuyT",
        "colab_type": "code",
        "outputId": "4c32acee-a04d-468b-e0e6-88e4f8a726a6",
        "colab": {
          "base_uri": "https://localhost:8080/",
          "height": 301
        }
      },
      "source": [
        "# Plot training & validation loss values\n",
        "plt.plot(rnn_history.history['loss'])\n",
        "plt.plot(rnn_history.history['val_loss'])\n",
        "plt.title('Model loss')\n",
        "plt.ylabel('Loss')\n",
        "plt.xlabel('Epoch')\n",
        "plt.legend(['Train', 'Test'], loc='upper left')\n",
        "plt.show();"
      ],
      "execution_count": 0,
      "outputs": [
        {
          "output_type": "display_data",
          "data": {
            "image/png": "[encoded data removed]",
            "text/plain": [
              "<Figure size 432x288 with 1 Axes>"
            ]
          },
          "metadata": {
            "tags": []
          }
        }
      ]
    },
    {
      "cell_type": "markdown",
      "metadata": {
        "id": "hf4Ge9R7Cuya",
        "colab_type": "text"
      },
      "source": [
        "Lastly, let's try replacing the SimpleRNN layer with LSTM."
      ]
    },
    {
      "cell_type": "code",
      "metadata": {
        "id": "NKeQwek0Cuyc",
        "colab_type": "code",
        "outputId": "711c6702-01f7-4453-d984-21a15c7e8873",
        "colab": {
          "base_uri": "https://localhost:8080/",
          "height": 284
        }
      },
      "source": [
        "lstm = Sequential()\n",
        "lstm.add(Embedding(max_features, 128))\n",
        "lstm.add(LSTM(128))\n",
        "lstm.add(Dropout(0.25))\n",
        "lstm.add(Dense(1, activation='sigmoid'))\n",
        "\n",
        "lstm.compile(loss='binary_crossentropy',\n",
        "             optimizer='adam', \n",
        "             metrics=['accuracy'])\n",
        "\n",
        "lstm.summary()"
      ],
      "execution_count": 0,
      "outputs": [
        {
          "output_type": "stream",
          "text": [
            "Model: \"sequential_6\"\n",
            "_________________________________________________________________\n",
            "Layer (type)                 Output Shape              Param #   \n",
            "=================================================================\n",
            "embedding_6 (Embedding)      (None, None, 128)         2560000   \n",
            "_________________________________________________________________\n",
            "lstm_6 (LSTM)                (None, 128)               131584    \n",
            "_________________________________________________________________\n",
            "dropout_7 (Dropout)          (None, 128)               0         \n",
            "_________________________________________________________________\n",
            "dense_6 (Dense)              (None, 1)                 129       \n",
            "=================================================================\n",
            "Total params: 2,691,713\n",
            "Trainable params: 2,691,713\n",
            "Non-trainable params: 0\n",
            "_________________________________________________________________\n"
          ],
          "name": "stdout"
        }
      ]
    },
    {
      "cell_type": "code",
      "metadata": {
        "id": "rSIEOvsqCuyi",
        "colab_type": "code",
        "outputId": "e3d55c7a-07bc-4cd1-a15e-9c63b71c26ae",
        "colab": {
          "base_uri": "https://localhost:8080/",
          "height": 533
        }
      },
      "source": [
        "from tensorflow.keras.utils import plot_model\n",
        "\n",
        "plot_model(lstm, to_file='lstm.png', show_shapes=True, show_layer_names=False)"
      ],
      "execution_count": 0,
      "outputs": [
        {
          "output_type": "execute_result",
          "data": {
            "image/png": "[encoded data removed]",
            "text/plain": [
              "<IPython.core.display.Image object>"
            ]
          },
          "metadata": {
            "tags": []
          },
          "execution_count": 33
        }
      ]
    },
    {
      "cell_type": "code",
      "metadata": {
        "id": "B3JEiXrhCuyr",
        "colab_type": "code",
        "outputId": "1f8628ab-03c3-440a-a2fc-de93d2d272e2",
        "colab": {
          "base_uri": "https://localhost:8080/",
          "height": 184
        }
      },
      "source": [
        "lstm_history = lstm.fit(x_train, y_train,\n",
        "                        batch_size=batch_size, \n",
        "                        epochs=5, \n",
        "                        validation_data=(x_test, y_test))"
      ],
      "execution_count": 0,
      "outputs": [
        {
          "output_type": "stream",
          "text": [
            "Epoch 1/5\n",
            "782/782 [==============================] - 44s 56ms/step - loss: 0.4526 - accuracy: 0.7915 - val_loss: 0.3857 - val_accuracy: 0.8320\n",
            "Epoch 2/5\n",
            "782/782 [==============================] - 43s 55ms/step - loss: 0.3583 - accuracy: 0.8449 - val_loss: 0.3504 - val_accuracy: 0.8538\n",
            "Epoch 3/5\n",
            "782/782 [==============================] - 43s 55ms/step - loss: 0.1958 - accuracy: 0.9269 - val_loss: 0.3410 - val_accuracy: 0.8658\n",
            "Epoch 4/5\n",
            "782/782 [==============================] - 43s 55ms/step - loss: 0.1247 - accuracy: 0.9550 - val_loss: 0.3805 - val_accuracy: 0.8598\n",
            "Epoch 5/5\n",
            "782/782 [==============================] - 43s 55ms/step - loss: 0.0812 - accuracy: 0.9721 - val_loss: 0.4627 - val_accuracy: 0.8563\n"
          ],
          "name": "stdout"
        }
      ]
    },
    {
      "cell_type": "code",
      "metadata": {
        "id": "6Cy3N5k6Cuy0",
        "colab_type": "code",
        "outputId": "1c3382bf-78ec-4ee1-e82d-4b91f247e4bb",
        "colab": {
          "base_uri": "https://localhost:8080/",
          "height": 301
        }
      },
      "source": [
        "# Plot training & validation loss values\n",
        "plt.plot(lstm_history.history['loss'])\n",
        "plt.plot(lstm_history.history['val_loss'])\n",
        "plt.title('Model loss')\n",
        "plt.ylabel('Loss')\n",
        "plt.xlabel('Epoch')\n",
        "plt.legend(['Train', 'Test'], loc='upper left')\n",
        "plt.show();"
      ],
      "execution_count": 0,
      "outputs": [
        {
          "output_type": "display_data",
          "data": {
            "image/png": "[encoded data removed]",
            "text/plain": [
              "<Figure size 432x288 with 1 Axes>"
            ]
          },
          "metadata": {
            "tags": []
          }
        }
      ]
    },
    {
      "cell_type": "code",
      "metadata": {
        "id": "J8QTlF1o4Khg",
        "colab_type": "code",
        "outputId": "45f15341-7d44-4cea-fe7d-590bfa2ae757",
        "colab": {
          "base_uri": "https://localhost:8080/",
          "height": 33
        }
      },
      "source": [
        "25000 / (2 * (300 + 1))"
      ],
      "execution_count": 0,
      "outputs": [
        {
          "output_type": "execute_result",
          "data": {
            "text/plain": [
              "41.52823920265781"
            ]
          },
          "metadata": {
            "tags": []
          },
          "execution_count": 36
        }
      ]
    },
    {
      "cell_type": "code",
      "metadata": {
        "id": "p7Xgjxi14fQX",
        "colab_type": "code",
        "outputId": "90ba3f23-3a5e-4d59-9c73-57cf4784d957",
        "colab": {
          "base_uri": "https://localhost:8080/",
          "height": 33
        }
      },
      "source": [
        "25000 / (10 * (300 + 1))"
      ],
      "execution_count": 0,
      "outputs": [
        {
          "output_type": "execute_result",
          "data": {
            "text/plain": [
              "8.305647840531561"
            ]
          },
          "metadata": {
            "tags": []
          },
          "execution_count": 37
        }
      ]
    },
    {
      "cell_type": "markdown",
      "metadata": {
        "id": "Dvlsk9X3Cuy7",
        "colab_type": "text"
      },
      "source": [
        "## Evaluate model with test data and view results"
      ]
    },
    {
      "cell_type": "code",
      "metadata": {
        "id": "gNKvdgTtCuy9",
        "colab_type": "code",
        "outputId": "95abb2c1-3434-4dc2-c217-744cfce59308",
        "colab": {
          "base_uri": "https://localhost:8080/",
          "height": 167
        }
      },
      "source": [
        "# Get Model Predictions for test data\n",
        "from sklearn.metrics import classification_report\n",
        "\n",
        "predicted_classes = lstm.predict_classes(x_test)\n",
        "print(classification_report(y_test, predicted_classes, target_names=class_names))"
      ],
      "execution_count": 0,
      "outputs": [
        {
          "output_type": "stream",
          "text": [
            "              precision    recall  f1-score   support\n",
            "\n",
            "    Negative       0.86      0.85      0.86     12500\n",
            "    Positive       0.85      0.86      0.86     12500\n",
            "\n",
            "    accuracy                           0.86     25000\n",
            "   macro avg       0.86      0.86      0.86     25000\n",
            "weighted avg       0.86      0.86      0.86     25000\n",
            "\n"
          ],
          "name": "stdout"
        }
      ]
    },
    {
      "cell_type": "markdown",
      "metadata": {
        "id": "BMiPO4skCuzF",
        "colab_type": "text"
      },
      "source": [
        "## View some incorrect predictions\n",
        "\n",
        "Lets have a look at some of the incorrectly classified reviews. For readability we remove the padding."
      ]
    },
    {
      "cell_type": "code",
      "metadata": {
        "id": "-8qIWwB_CuzI",
        "colab_type": "code",
        "outputId": "bd2898e6-8a23-414c-d926-aecc753ca810",
        "colab": {
          "base_uri": "https://localhost:8080/",
          "height": 237
        }
      },
      "source": [
        "predicted_classes_reshaped = np.reshape(y_pred, 25000)\n",
        "\n",
        "incorrect = np.nonzero(predicted_classes_reshaped != y_test)[0]\n",
        "\n",
        "# We select the first 10 incorrectly classified reviews\n",
        "for j, incorrect in enumerate(incorrect[0:3]):\n",
        "    \n",
        "    predicted = class_names[predicted_classes_reshaped[incorrect]]\n",
        "    actual = class_names[y_test[incorrect]]\n",
        "    human_readable_review = decode_review(x_test[incorrect])\n",
        "    \n",
        "    print(\"Incorrectly classified Test Review [\"+ str(j+1) +\"]\") \n",
        "    print(\"Test Review #\" + str(incorrect)  + \": Predicted [\"+ predicted + \"] Actual [\"+ actual + \"]\")\n",
        "    print(\"Test Review Text: \" + human_readable_review.replace(\"<PAD> \", \"\"))\n",
        "    print(\"\")"
      ],
      "execution_count": 0,
      "outputs": [
        {
          "output_type": "stream",
          "text": [
            "Incorrectly classified Test Review [1]\n",
            "Test Review #1: Predicted [Negative] Actual [Positive]\n",
            "Test Review Text: <START> this film requires a lot of patience because it focuses on mood and character development the plot is very simple and many of the scenes take place on the same set in frances austen's the sandy dennis character apartment but the film builds to a disturbing climax br br the characters create an atmosphere rife with sexual tension and psychological trickery it's very interesting that robert altman directed this considering the style and structure of his other films still the trademark altman audio style is evident here and there i think what really makes this film work is the brilliant performance by sandy dennis it's definitely one of her darker characters but she plays it so perfectly and convincingly that it's scary michael burns does a good job as the mute young man regular altman player michael murphy has a small part the <UNKNOWN> moody set fits the content of the story very well in short this movie is a powerful study of loneliness sexual repression and desperation be patient <UNKNOWN> up the atmosphere and pay attention to the wonderfully written script br br i praise robert altman this is one of his many films that deals with unconventional fascinating subject matter this film is disturbing but it's sincere and it's sure to elicit a strong emotional response from the viewer if you want to see an unusual film some might even say bizarre this is worth the time br br unfortunately it's very difficult to find in video stores you may have to buy it off the internet\n",
            "\n",
            "Incorrectly classified Test Review [2]\n",
            "Test Review #2: Predicted [Negative] Actual [Positive]\n",
            "Test Review Text: alive simultaneously while <UNKNOWN> for his part is depicted as a droll white bearded guy in the clouds who looks like he'd rather be taking a nap when <UNKNOWN> sends them a tree like god who regards them the frogs decide that this is no improvement and demand a different king irritated <UNKNOWN> sends them a <UNKNOWN> br br delighted with this formidable looking new king who towers above them the frogs welcome him with a <UNKNOWN> of <UNKNOWN> dressed <UNKNOWN> the mayor steps forward to hand him the key to the <UNKNOWN> as newsreel cameras record the event to everyone's horror the <UNKNOWN> promptly eats the mayor and then goes on a merry rampage <UNKNOWN> citizens at random a title card <UNKNOWN> reads news of the king's appetite throughout the kingdom when the now terrified frogs once more <UNKNOWN> <UNKNOWN> for help he loses his temper and showers their community with lightning bolts the moral of our story delivered by a hapless frog just before he is eaten is let well enough alone br br considering the time period when this startling little film was made and considering the fact that it was made by a russian <UNKNOWN> at the height of that beleaguered country's civil war it would be easy to see this as a parable about those events <UNKNOWN> may or may not have had <UNKNOWN> turmoil in mind when he made <UNKNOWN> but whatever prompted his choice of material the film stands as a cautionary tale of universal application <UNKNOWN> could be the soviet union italy germany or japan in the 1930s or any country of any era that lets its guard down and is overwhelmed by tyranny it's a fascinating film even a charming one in its macabre way but its message is no joke\n",
            "\n",
            "Incorrectly classified Test Review [3]\n",
            "Test Review #4: Predicted [Negative] Actual [Positive]\n",
            "Test Review Text: <START> like some other people wrote i'm a die hard mario fan and i loved this game br br this game starts slightly boring but trust me it's worth it as soon as you start your hooked the levels are fun and exiting they will hook you <UNKNOWN> your mind turns to mush i'm not kidding this game is also orchestrated and is beautifully done br br to keep this spoiler free i have to keep my mouth shut about details but please try this game it'll be worth it br br story 9 9 action 10 1 it's that good <UNKNOWN> 10 attention <UNKNOWN> 10 average 10\n",
            "\n"
          ],
          "name": "stdout"
        }
      ]
    },
    {
      "cell_type": "markdown",
      "metadata": {
        "id": "LpqxEgwcCuzQ",
        "colab_type": "text"
      },
      "source": [
        "## Run your own text against the trained model"
      ]
    },
    {
      "cell_type": "code",
      "metadata": {
        "id": "3m6scepKCuzR",
        "colab_type": "code",
        "outputId": "09264b14-8a4b-404a-9c4d-3cf0e5aa03f6",
        "colab": {
          "base_uri": "https://localhost:8080/",
          "height": 67
        }
      },
      "source": [
        "# Write your own review\n",
        "review = \"this is the best film i have ever seen it is great and fantastic and i loved it\"\n",
        "\n",
        "# Encode review (replace word with integers)\n",
        "tmp = []\n",
        "for word in review.split(\" \"):\n",
        "    tmp.append(word_index[word])\n",
        "\n",
        "# Ensure review is 300 words long (by padding or truncating)\n",
        "tmp_padded = sequence.pad_sequences([tmp], maxlen=maxlen) \n",
        "\n",
        "# Run your processed review against the trained model\n",
        "rawprediction = lstm.predict(np.array([tmp_padded][0]))[0][0]\n",
        "prediction = int(round(rawprediction))\n",
        "\n",
        "# Test the model and print the result\n",
        "print(\"Review: \" + review)\n",
        "print(\"Raw Prediction: \" + str(rawprediction))\n",
        "print(\"Predicted Class: \" + class_names[prediction])"
      ],
      "execution_count": 0,
      "outputs": [
        {
          "output_type": "stream",
          "text": [
            "Review: this is the best film i have ever seen it is great and fantastic and i loved it\n",
            "Raw Prediction: 0.99682546\n",
            "Predicted Class: Positive\n"
          ],
          "name": "stdout"
        }
      ]
    },
    {
      "cell_type": "markdown",
      "metadata": {
        "id": "e7JHtLtWCuzY",
        "colab_type": "text"
      },
      "source": [
        "## Challenge\n",
        "\n",
        "You will be expected to use an Keras LSTM for a classicification task on the *Sprint Challenge*. \n",
        "\n",
        "Reference for some of the code in the section above can be found: https://github.com/markwest1972/LSTM-Example-Google-Colaboratory/blob/master/LSTM_IMDB_Sentiment_Example.ipynb"
      ]
    },
    {
      "cell_type": "markdown",
      "metadata": {
        "colab_type": "text",
        "id": "7pETWPIe362y"
      },
      "source": [
        "# LSTM Text generation with Keras (Learn)"
      ]
    },
    {
      "cell_type": "markdown",
      "metadata": {
        "colab_type": "text",
        "id": "y9u5eH_dCuzb"
      },
      "source": [
        "## Overview\n",
        "\n",
        "What else can we do with LSTMs? Since we're analyzing the *sequence*, we can do more than classify - we can *generate* text. I'ved pulled some news stories using [newspaper](https://github.com/codelucas/newspaper/).\n",
        "\n",
        "This example is drawn from the Keras [documentation](https://keras.io/examples/lstm_text_generation/)."
      ]
    },
    {
      "cell_type": "code",
      "metadata": {
        "id": "x3yqSnwFCuzc",
        "colab_type": "code",
        "colab": {}
      },
      "source": [
        "from tensorflow.keras.callbacks import LambdaCallback\n",
        "from tensorflow.keras.models import Sequential\n",
        "from tensorflow.keras.layers import Dense, LSTM\n",
        "from tensorflow.keras.optimizers import RMSprop\n",
        "\n",
        "import numpy as np\n",
        "import random\n",
        "import sys\n",
        "import os"
      ],
      "execution_count": 0,
      "outputs": []
    },
    {
      "cell_type": "code",
      "metadata": {
        "id": "d6T798otCuzi",
        "colab_type": "code",
        "colab": {}
      },
      "source": [
        "data_files = os.listdir('./articles')"
      ],
      "execution_count": 0,
      "outputs": []
    },
    {
      "cell_type": "code",
      "metadata": {
        "id": "Eco2kPAaCuzq",
        "colab_type": "code",
        "colab": {}
      },
      "source": [
        "# Read in Data\n",
        "data = []\n",
        "\n",
        "for file in data_files:\n",
        "    if file[-3:] == 'txt':\n",
        "        with open(f'./articles/{file}', 'r', encoding='utf-8') as f:\n",
        "            data.append(f.read())"
      ],
      "execution_count": 0,
      "outputs": []
    },
    {
      "cell_type": "code",
      "metadata": {
        "id": "TXGhcs_OCuz1",
        "colab_type": "code",
        "outputId": "5ecc1d7e-5726-44cc-dac8-d4d473b7a90b",
        "colab": {
          "base_uri": "https://localhost:8080/",
          "height": 33
        }
      },
      "source": [
        "len(data)"
      ],
      "execution_count": 0,
      "outputs": [
        {
          "output_type": "execute_result",
          "data": {
            "text/plain": [
              "136"
            ]
          },
          "metadata": {
            "tags": []
          },
          "execution_count": 46
        }
      ]
    },
    {
      "cell_type": "code",
      "metadata": {
        "id": "4WGs40AFCuz8",
        "colab_type": "code",
        "outputId": "227cea74-2e34-48fa-ec52-b7d5daf50d10",
        "colab": {
          "base_uri": "https://localhost:8080/",
          "height": 53
        }
      },
      "source": [
        "data[-1]"
      ],
      "execution_count": 0,
      "outputs": [
        {
          "output_type": "execute_result",
          "data": {
            "text/plain": [
              "\"We encourage new and innovative uses of our content, and we want our readers to have access to our content in a wide variety of different ways. We therefore make our content available through RSS feeds for personal use (e.g., in a news reader), for many commercial purposes, or for any other form of distribution to a third party.\\n\\nHowever , all use of our RSS feeds is subject to our User Agreement and to the terms and conditions below. If you have questions or concerns about any of these terms – or if you wish to use an RSS feed in a manner inconsistent with any provision below (e.g., on a mobile device for commercial purposes or redistribution, or with your own advertising) – please do not hesitate to contact us at rss@washpost.com. We will be happy to discuss your ideas and to work with you to try to meet your requests.\\n\\na. For any article, you may not display more text than we provide in the RSS feed.\\n\\nb. All text from our RSS feed must displayed in the manner in which we provide the text. You may not edit, translate, or reformat the content that we provide. You must retain all links to the original Washington Post article on washingtonpost.com, as well as any other hyperlinks or notices in the feed.\\n\\nc. You must ensure that all excerpts link directly to washingtonpost.com, and you may not insert interstitial, splash, intermediate pages or any other content or advertising in connection with our RSS feed, or between any display of our RSS feed and our website.\\n\\nd. Any photographs or other images that you display must be low-resolution and in a size no greater than 60x60.\\n\\ne. You must retain in original form the attribution and by-line provided in the RSS feed, and must prominently credit The Washington Post in connection with each RSS excerpt that you publish.\\n\\nf. Except for your own individual, personal use, you may not display our RSS feed on a mobile device, defined as any portable device using wireless technology to receive content, data, and/or other information (including within a mobile application or on a mobile website).\\n\\ng. You may not aggregate or otherwise use articles and/or excerpts from our RSS feed in a manner that could reasonably serve as a substitute for our original content or could otherwise diminish the value of the content of The Washington Post. For instance, you may not publish a webpage that simply aggregate the RSS feeds of all Washington Post politics articles and sell advertising against that page.\\n\\nh. You may not strip advertising from our RSS feeds, nor serve your own advertising within or against our RSS feeds.\\n\\ni. You may not sell, lease, sublicense, redistribute or otherwise monetize our RSS feeds.\\n\\nj. You may not display the name, logo, trademark or other identifier of another person or entity in connection with our RSS feeds in a manner that could reasonably indicate that such other person or entity is affiliated with our RSS feeds.\\n\\nk. You may not display the RSS feeds on any website or in any other way that could reasonably damage the brand or reputation of The Washington Post. For instance, you may not publish our RSS feed on or in connection with any website that infringes upon or violates the copyrights, trademarks or other intellectual property rights of any person; is libelous or defamatory; is obscene, pornographic, or sexually explicit; violates a person's right to privacy; violates any local, state, national, or international law; contains or advocates illegal or violent acts; degrades others on the basis of gender, race, class, ethnicity, national origin, religion, sexual orientation, disability, or other classification; or is predatory, hateful, or intended to intimidate or harass.\\n\\nl. You must provide us with complete and accurate registration information in order to use our RSS feeds.\\n\\nm. You will promptly remove our RSS feeds upon our request, and will not store or archive any of our feeds.\\n\\nWe are not liable for your use of our RSS feeds or any related activity.\\n\\n\\n\\nWe may limit, suspend, or terminate your access to and use of our RSS feeds at any time at our sole discretion.\\n\\nWe retain all ownership and other rights in the RSS content, and in any and all Washington Post logos and trademarks used in connection with the RSS feeds.\\n\\nBY DOWNLOADING AN RSS FEED, YOU HEREBY ACKNOWLEDGE THAT YOU UNDERSTAND AND AGREE TO BE BOUND BY THESE TERMS. WE RESERVE THE RIGHT TO CHANGE ANY OF THESE TERMS AT OUR SOLE DISCRETION. YOUR CONTINUED USE OF OUR SERVICE CONSTITUTES ACCEPTANCE OF ANY SUCH CHANGES.\\n\\nIf you have questions about use of our RSS feeds, or to request our permission to deviate from the requirements set forth above, including using our feeds in mobile products or on any mobile platform, please contact us at rss@washpost.com.\""
            ]
          },
          "metadata": {
            "tags": []
          },
          "execution_count": 47
        }
      ]
    },
    {
      "cell_type": "code",
      "metadata": {
        "id": "65tVKzZZCu0C",
        "colab_type": "code",
        "colab": {}
      },
      "source": [
        "# Encode Data as Chars\n",
        "\n",
        "# Gather all text \n",
        "# Why? 1. See all possible characters 2. For training / splitting later\n",
        "text = \" \".join(data)\n",
        "\n",
        "# Unique Characters\n",
        "chars = list(set(text))\n",
        "\n",
        "# Lookup Tables\n",
        "char_int = {c:i for i, c in enumerate(chars)} \n",
        "int_char = {i:c for i, c in enumerate(chars)} "
      ],
      "execution_count": 0,
      "outputs": []
    },
    {
      "cell_type": "code",
      "metadata": {
        "id": "_JmufXjWCu0J",
        "colab_type": "code",
        "outputId": "19513504-56c5-41eb-cb2b-47a78bc44567",
        "colab": {
          "base_uri": "https://localhost:8080/",
          "height": 33
        }
      },
      "source": [
        "len(chars)"
      ],
      "execution_count": 0,
      "outputs": [
        {
          "output_type": "execute_result",
          "data": {
            "text/plain": [
              "121"
            ]
          },
          "metadata": {
            "tags": []
          },
          "execution_count": 49
        }
      ]
    },
    {
      "cell_type": "code",
      "metadata": {
        "id": "xgex6RFv_19I",
        "colab_type": "code",
        "outputId": "e5d2e5c6-5a28-4ace-fbc4-ddab672cb304",
        "colab": {
          "base_uri": "https://localhost:8080/",
          "height": 1000
        }
      },
      "source": [
        "chars"
      ],
      "execution_count": 0,
      "outputs": [
        {
          "output_type": "execute_result",
          "data": {
            "text/plain": [
              "['Q',\n",
              " 'é',\n",
              " '⅓',\n",
              " 'N',\n",
              " 'ã',\n",
              " 'v',\n",
              " '&',\n",
              " '*',\n",
              " 's',\n",
              " ':',\n",
              " 'ö',\n",
              " 'G',\n",
              " '½',\n",
              " 'í',\n",
              " '©',\n",
              " 'ñ',\n",
              " '(',\n",
              " '“',\n",
              " ']',\n",
              " 'c',\n",
              " 'f',\n",
              " 'o',\n",
              " '7',\n",
              " 'U',\n",
              " 'h',\n",
              " '⭐',\n",
              " 'b',\n",
              " '4',\n",
              " 'ﬂ',\n",
              " '🤔',\n",
              " 'H',\n",
              " 'C',\n",
              " '1',\n",
              " 'w',\n",
              " 'W',\n",
              " 'Y',\n",
              " 'O',\n",
              " 'K',\n",
              " '\"',\n",
              " '?',\n",
              " 'e',\n",
              " 'u',\n",
              " '’',\n",
              " '9',\n",
              " 'Z',\n",
              " 'a',\n",
              " \"'\",\n",
              " 'S',\n",
              " 'j',\n",
              " ')',\n",
              " 'R',\n",
              " '-',\n",
              " '_',\n",
              " 'k',\n",
              " '5',\n",
              " 'i',\n",
              " 'T',\n",
              " '3',\n",
              " '|',\n",
              " ' ',\n",
              " '+',\n",
              " '6',\n",
              " '–',\n",
              " 'g',\n",
              " '\\u2066',\n",
              " '[',\n",
              " '0',\n",
              " 'm',\n",
              " '@',\n",
              " 'A',\n",
              " '/',\n",
              " '⅔',\n",
              " '!',\n",
              " '●',\n",
              " '\\n',\n",
              " 'E',\n",
              " 'V',\n",
              " 'n',\n",
              " 'F',\n",
              " '·',\n",
              " 't',\n",
              " ',',\n",
              " '‘',\n",
              " 'p',\n",
              " 'P',\n",
              " 'D',\n",
              " '2',\n",
              " '•',\n",
              " '👻',\n",
              " 'M',\n",
              " '%',\n",
              " 'I',\n",
              " 'l',\n",
              " 'è',\n",
              " 'd',\n",
              " 'B',\n",
              " 'L',\n",
              " 'z',\n",
              " '”',\n",
              " '×',\n",
              " 'ó',\n",
              " '—',\n",
              " '{',\n",
              " 'J',\n",
              " '\\xad',\n",
              " 'q',\n",
              " 'á',\n",
              " '#',\n",
              " 'ê',\n",
              " 'X',\n",
              " 'x',\n",
              " '.',\n",
              " '―',\n",
              " 'r',\n",
              " '8',\n",
              " '$',\n",
              " '\\u2069',\n",
              " ';',\n",
              " '🗣',\n",
              " '…',\n",
              " 'y']"
            ]
          },
          "metadata": {
            "tags": []
          },
          "execution_count": 50
        }
      ]
    },
    {
      "cell_type": "code",
      "metadata": {
        "id": "zwLhKv7CCu0P",
        "colab_type": "code",
        "outputId": "83cc9bed-307a-4627-afc4-498aeb7486e1",
        "colab": {
          "base_uri": "https://localhost:8080/",
          "height": 33
        }
      },
      "source": [
        "# Create the sequence data\n",
        "maxlen = 40\n",
        "step = 5\n",
        "\n",
        "encoded = [char_int[c] for c in text]\n",
        "\n",
        "sequences = [] # Each element is 40 chars long\n",
        "next_char = [] # One element for each sequence\n",
        "\n",
        "for i in range(0, len(encoded) - maxlen, step):\n",
        "    \n",
        "    sequences.append(encoded[i : i + maxlen])\n",
        "    next_char.append(encoded[i + maxlen])\n",
        "    \n",
        "print('sequences: ', len(sequences))"
      ],
      "execution_count": 0,
      "outputs": [
        {
          "output_type": "stream",
          "text": [
            "sequences:  178374\n"
          ],
          "name": "stdout"
        }
      ]
    },
    {
      "cell_type": "code",
      "metadata": {
        "id": "Nuj4Dfa3Cu0V",
        "colab_type": "code",
        "outputId": "8767db88-c0e4-4e6a-e443-62243262ae44",
        "colab": {
          "base_uri": "https://localhost:8080/",
          "height": 686
        }
      },
      "source": [
        "sequences[0]"
      ],
      "execution_count": 0,
      "outputs": [
        {
          "output_type": "execute_result",
          "data": {
            "text/plain": [
              "[3,\n",
              " 45,\n",
              " 77,\n",
              " 19,\n",
              " 120,\n",
              " 59,\n",
              " 69,\n",
              " 67,\n",
              " 21,\n",
              " 77,\n",
              " 8,\n",
              " 81,\n",
              " 59,\n",
              " 45,\n",
              " 59,\n",
              " 92,\n",
              " 21,\n",
              " 77,\n",
              " 63,\n",
              " 80,\n",
              " 55,\n",
              " 67,\n",
              " 40,\n",
              " 59,\n",
              " 55,\n",
              " 77,\n",
              " 5,\n",
              " 40,\n",
              " 8,\n",
              " 80,\n",
              " 55,\n",
              " 63,\n",
              " 45,\n",
              " 80,\n",
              " 55,\n",
              " 5,\n",
              " 40,\n",
              " 59,\n",
              " 113,\n",
              " 40]"
            ]
          },
          "metadata": {
            "tags": []
          },
          "execution_count": 52
        }
      ]
    },
    {
      "cell_type": "code",
      "metadata": {
        "id": "IY-l982eCu0b",
        "colab_type": "code",
        "colab": {}
      },
      "source": [
        "# Create x & y\n",
        "x = np.zeros((len(sequences), maxlen, len(chars)), dtype=np.bool)\n",
        "y = np.zeros((len(sequences),len(chars)), dtype=np.bool)\n",
        "\n",
        "for i, sequence in enumerate(sequences):\n",
        "    for t, char in enumerate(sequence):\n",
        "        x[i,t,char] = 1\n",
        "        \n",
        "    y[i, next_char[i]] = 1"
      ],
      "execution_count": 0,
      "outputs": []
    },
    {
      "cell_type": "code",
      "metadata": {
        "id": "_mTNYIuZCu0f",
        "colab_type": "code",
        "outputId": "8bc18f54-eab6-4c60-c0df-31243dc1b0b0",
        "colab": {
          "base_uri": "https://localhost:8080/",
          "height": 33
        }
      },
      "source": [
        "x.shape"
      ],
      "execution_count": 0,
      "outputs": [
        {
          "output_type": "execute_result",
          "data": {
            "text/plain": [
              "(178374, 40, 121)"
            ]
          },
          "metadata": {
            "tags": []
          },
          "execution_count": 54
        }
      ]
    },
    {
      "cell_type": "code",
      "metadata": {
        "id": "exzGDqbPCu0k",
        "colab_type": "code",
        "outputId": "d4f0d4f8-fc03-4979-a8de-24c47b0d6380",
        "colab": {
          "base_uri": "https://localhost:8080/",
          "height": 33
        }
      },
      "source": [
        "y.shape"
      ],
      "execution_count": 0,
      "outputs": [
        {
          "output_type": "execute_result",
          "data": {
            "text/plain": [
              "(178374, 121)"
            ]
          },
          "metadata": {
            "tags": []
          },
          "execution_count": 55
        }
      ]
    },
    {
      "cell_type": "code",
      "metadata": {
        "id": "SRXWvrvlCu0o",
        "colab_type": "code",
        "colab": {}
      },
      "source": [
        "# build the model: a single LSTM\n",
        "model = Sequential()\n",
        "model.add(LSTM(128, input_shape=(maxlen, len(chars))))\n",
        "model.add(Dense(len(chars), activation='softmax'))\n",
        "model.compile(loss='categorical_crossentropy', \n",
        "              optimizer='adam',\n",
        "              metrics=['accuracy'])"
      ],
      "execution_count": 0,
      "outputs": []
    },
    {
      "cell_type": "code",
      "metadata": {
        "id": "P4xgtL_VCu0u",
        "colab_type": "code",
        "colab": {}
      },
      "source": [
        "def sample(preds):\n",
        "    # helper function to sample an index from a probability array\n",
        "    preds = np.asarray(preds).astype('float64')\n",
        "    preds = np.log(preds) / 1\n",
        "    exp_preds = np.exp(preds)\n",
        "    preds = exp_preds / np.sum(exp_preds)\n",
        "    probas = np.random.multinomial(1, preds, 1)\n",
        "    return np.argmax(probas)"
      ],
      "execution_count": 0,
      "outputs": []
    },
    {
      "cell_type": "code",
      "metadata": {
        "id": "OlrJ6g_ZCu00",
        "colab_type": "code",
        "colab": {}
      },
      "source": [
        "def on_epoch_end(epoch, _):\n",
        "    # Function invoked at end of each epoch. Prints generated text.\n",
        "    print()\n",
        "    print('----- Generating text after Epoch: %d' % epoch)\n",
        "    \n",
        "    start_index = random.randint(0, len(text) - maxlen - 1)\n",
        "    \n",
        "    generated = ''\n",
        "    \n",
        "    # sentence = text[start_index: start_index + maxlen]\n",
        "    sentence = \"The police officer was given a medal of \"\n",
        "    generated += sentence\n",
        "    \n",
        "    print('----- Generating with seed: \"' + sentence + '\"')\n",
        "    sys.stdout.write(generated)\n",
        "    \n",
        "    for i in range(50):\n",
        "        x_pred = np.zeros((1, maxlen, len(chars)))\n",
        "        for t, char in enumerate(sentence):\n",
        "            x_pred[0, t, char_int[char]] = 1\n",
        "            \n",
        "        preds = model.predict(x_pred, verbose=0)[0]\n",
        "        next_index = sample(preds)\n",
        "        next_char = int_char[next_index]\n",
        "        \n",
        "        sentence = sentence[1:] + next_char\n",
        "        \n",
        "        sys.stdout.write(next_char)\n",
        "        sys.stdout.flush()\n",
        "    print()\n",
        "\n",
        "print_callback = LambdaCallback(on_epoch_end=on_epoch_end)"
      ],
      "execution_count": 0,
      "outputs": []
    },
    {
      "cell_type": "code",
      "metadata": {
        "id": "Gwr8BLJwCu0_",
        "colab_type": "code",
        "outputId": "798bc0ac-39b3-448c-cbbb-ef8bd8126b0d",
        "colab": {
          "base_uri": "https://localhost:8080/",
          "height": 1000
        }
      },
      "source": [
        "# fit the model\n",
        "model.fit(x, y,\n",
        "          batch_size=32,\n",
        "          epochs=50,\n",
        "          callbacks=[print_callback])"
      ],
      "execution_count": 0,
      "outputs": [
        {
          "output_type": "stream",
          "text": [
            "Epoch 1/50\n",
            "5567/5575 [============================>.] - ETA: 0s - loss: 2.5746 - accuracy: 0.2924\n",
            "----- Generating text after Epoch: 0\n",
            "----- Generating with seed: \"The police officer was given a medal of \"\n",
            "The police officer was given a medal of ricEdillestionc dio fif Cmatith os ofar and ghitia\n",
            "5575/5575 [==============================] - 34s 6ms/step - loss: 2.5742 - accuracy: 0.2925\n",
            "Epoch 2/50\n",
            "5569/5575 [============================>.] - ETA: 0s - loss: 2.2145 - accuracy: 0.3685\n",
            "----- Generating text after Epoch: 1\n",
            "----- Generating with seed: \"The police officer was given a medal of \"\n",
            "The police officer was given a medal of and makks madige of the lions to the bank on tund \n",
            "5575/5575 [==============================] - 33s 6ms/step - loss: 2.2146 - accuracy: 0.3686\n",
            "Epoch 3/50\n",
            "5575/5575 [==============================] - ETA: 0s - loss: 2.0655 - accuracy: 0.4056\n",
            "----- Generating text after Epoch: 2\n",
            "----- Generating with seed: \"The police officer was given a medal of \"\n",
            "The police officer was given a medal of ocement frome. (Sechited then lewt2 fasher” memibi\n",
            "5575/5575 [==============================] - 33s 6ms/step - loss: 2.0655 - accuracy: 0.4056\n",
            "Epoch 4/50\n",
            "5573/5575 [============================>.] - ETA: 0s - loss: 1.9686 - accuracy: 0.4300\n",
            "----- Generating text after Epoch: 3\n",
            "----- Generating with seed: \"The police officer was given a medal of \"\n",
            "The police officer was given a medal of one.\n",
            "\n",
            "AD\n",
            "\n",
            "The conked soor a posising the tresent. \n",
            "5575/5575 [==============================] - 33s 6ms/step - loss: 1.9686 - accuracy: 0.4300\n",
            "Epoch 5/50\n",
            "5574/5575 [============================>.] - ETA: 0s - loss: 1.8977 - accuracy: 0.4486\n",
            "----- Generating text after Epoch: 4\n",
            "----- Generating with seed: \"The police officer was given a medal of \"\n",
            "The police officer was given a medal of syour with purrt.\n",
            "\n",
            "Nou have omter.\n",
            "\n",
            "AD\n",
            "\n",
            "Trump’s ad\n",
            "5575/5575 [==============================] - 33s 6ms/step - loss: 1.8975 - accuracy: 0.4486\n",
            "Epoch 6/50\n",
            "5573/5575 [============================>.] - ETA: 0s - loss: 1.8380 - accuracy: 0.4653\n",
            "----- Generating text after Epoch: 5\n",
            "----- Generating with seed: \"The police officer was given a medal of \"\n",
            "The police officer was given a medal of lever anded, inso usitoing avally flicto and tlewi\n",
            "5575/5575 [==============================] - 33s 6ms/step - loss: 1.8384 - accuracy: 0.4653\n",
            "Epoch 7/50\n",
            "5574/5575 [============================>.] - ETA: 0s - loss: 1.7889 - accuracy: 0.4793\n",
            "----- Generating text after Epoch: 6\n",
            "----- Generating with seed: \"The police officer was given a medal of \"\n",
            "The police officer was given a medal of an agined the NFBung. “If a waidely signe dreadnon\n",
            "5575/5575 [==============================] - 33s 6ms/step - loss: 1.7888 - accuracy: 0.4793\n",
            "Epoch 8/50\n",
            "5567/5575 [============================>.] - ETA: 0s - loss: 1.7457 - accuracy: 0.4913\n",
            "----- Generating text after Epoch: 7\n",
            "----- Generating with seed: \"The police officer was given a medal of \"\n",
            "The police officer was given a medal of the gneb, spect ady has obching veesion canipor in\n",
            "5575/5575 [==============================] - 33s 6ms/step - loss: 1.7454 - accuracy: 0.4913\n",
            "Epoch 9/50\n",
            "5570/5575 [============================>.] - ETA: 0s - loss: 1.7076 - accuracy: 0.5026\n",
            "----- Generating text after Epoch: 8\n",
            "----- Generating with seed: \"The police officer was given a medal of \"\n",
            "The police officer was given a medal of edecrally the get his compit. It’s fignent, its sh\n",
            "5575/5575 [==============================] - 34s 6ms/step - loss: 1.7077 - accuracy: 0.5025\n",
            "Epoch 10/50\n",
            "5570/5575 [============================>.] - ETA: 0s - loss: 1.6751 - accuracy: 0.5121\n",
            "----- Generating text after Epoch: 9\n",
            "----- Generating with seed: \"The police officer was given a medal of \"\n",
            "The police officer was given a medal of will is foundapos, Trump includging a “groupe plan\n",
            "5575/5575 [==============================] - 33s 6ms/step - loss: 1.6755 - accuracy: 0.5121\n",
            "Epoch 11/50\n",
            "5575/5575 [==============================] - ETA: 0s - loss: 1.6463 - accuracy: 0.5201\n",
            "----- Generating text after Epoch: 10\n",
            "----- Generating with seed: \"The police officer was given a medal of \"\n",
            "The police officer was given a medal of calmand’s molitatic,” as tole, buestagentes to few\n",
            "5575/5575 [==============================] - 33s 6ms/step - loss: 1.6463 - accuracy: 0.5201\n",
            "Epoch 12/50\n",
            "5575/5575 [==============================] - ETA: 0s - loss: 1.6208 - accuracy: 0.5276\n",
            "----- Generating text after Epoch: 11\n",
            "----- Generating with seed: \"The police officer was given a medal of \"\n",
            "The police officer was given a medal of the Americanizant the offensors, Alorazt Jrhandal \n",
            "5575/5575 [==============================] - 33s 6ms/step - loss: 1.6208 - accuracy: 0.5276\n",
            "Epoch 13/50\n",
            "5573/5575 [============================>.] - ETA: 0s - loss: 1.5965 - accuracy: 0.5335\n",
            "----- Generating text after Epoch: 12\n",
            "----- Generating with seed: \"The police officer was given a medal of \"\n",
            "The police officer was given a medal of the —. Rotes, compreanously. We consuderst. If the\n",
            "5575/5575 [==============================] - 33s 6ms/step - loss: 1.5967 - accuracy: 0.5335\n",
            "Epoch 14/50\n",
            "5567/5575 [============================>.] - ETA: 0s - loss: 1.5746 - accuracy: 0.5396\n",
            "----- Generating text after Epoch: 13\n",
            "----- Generating with seed: \"The police officer was given a medal of \"\n",
            "The police officer was given a medal of the merina your stary for lines,” out of tweetes r\n",
            "5575/5575 [==============================] - 33s 6ms/step - loss: 1.5746 - accuracy: 0.5396\n",
            "Epoch 15/50\n",
            "5575/5575 [==============================] - ETA: 0s - loss: 1.5544 - accuracy: 0.5452\n",
            "----- Generating text after Epoch: 14\n",
            "----- Generating with seed: \"The police officer was given a medal of \"\n",
            "The police officer was given a medal of the listem to well, about party to mesetan wromis \n",
            "5575/5575 [==============================] - 33s 6ms/step - loss: 1.5544 - accuracy: 0.5452\n",
            "Epoch 16/50\n",
            "5569/5575 [============================>.] - ETA: 0s - loss: 1.5364 - accuracy: 0.5499\n",
            "----- Generating text after Epoch: 15\n",
            "----- Generating with seed: \"The police officer was given a medal of \"\n",
            "The police officer was given a medal of the pressinations said by Despara-the to do Itaw C\n",
            "5575/5575 [==============================] - 33s 6ms/step - loss: 1.5364 - accuracy: 0.5499\n",
            "Epoch 17/50\n",
            "5566/5575 [============================>.] - ETA: 0s - loss: 1.5205 - accuracy: 0.5537\n",
            "----- Generating text after Epoch: 16\n",
            "----- Generating with seed: \"The police officer was given a medal of \"\n",
            "The police officer was given a medal of the lings, was conymedanily had went.”\n",
            "\n",
            "In. As the\n",
            "5575/5575 [==============================] - 33s 6ms/step - loss: 1.5209 - accuracy: 0.5537\n",
            "Epoch 18/50\n",
            "5569/5575 [============================>.] - ETA: 0s - loss: 1.5039 - accuracy: 0.5584\n",
            "----- Generating text after Epoch: 17\n",
            "----- Generating with seed: \"The police officer was given a medal of \"\n",
            "The police officer was given a medal of “chains, Jachion in Amenicalsains and the drabs be\n",
            "5575/5575 [==============================] - 33s 6ms/step - loss: 1.5043 - accuracy: 0.5583\n",
            "Epoch 19/50\n",
            "5569/5575 [============================>.] - ETA: 0s - loss: 1.4889 - accuracy: 0.5616\n",
            "----- Generating text after Epoch: 18\n",
            "----- Generating with seed: \"The police officer was given a medal of \"\n",
            "The police officer was given a medal of line of mode to the hale Clibie Haip Nazolme Highs\n",
            "5575/5575 [==============================] - 33s 6ms/step - loss: 1.4889 - accuracy: 0.5616\n",
            "Epoch 20/50\n",
            "5574/5575 [============================>.] - ETA: 0s - loss: 1.4748 - accuracy: 0.5667\n",
            "----- Generating text after Epoch: 19\n",
            "----- Generating with seed: \"The police officer was given a medal of \"\n",
            "The police officer was given a medal of the video been lancon, alonters blow tomes cannaly\n",
            "5575/5575 [==============================] - 33s 6ms/step - loss: 1.4751 - accuracy: 0.5667\n",
            "Epoch 21/50\n",
            "5568/5575 [============================>.] - ETA: 0s - loss: 1.4628 - accuracy: 0.5689\n",
            "----- Generating text after Epoch: 20\n",
            "----- Generating with seed: \"The police officer was given a medal of \"\n",
            "The police officer was given a medal of the Golum. Hittnouse Mediother blagning chater. 2,\n",
            "5575/5575 [==============================] - 33s 6ms/step - loss: 1.4629 - accuracy: 0.5688\n",
            "Epoch 22/50\n",
            "5573/5575 [============================>.] - ETA: 0s - loss: 1.4503 - accuracy: 0.5725\n",
            "----- Generating text after Epoch: 21\n",
            "----- Generating with seed: \"The police officer was given a medal of \"\n",
            "The police officer was given a medal of then way. They had deashing and conclused to a pos\n",
            "5575/5575 [==============================] - 33s 6ms/step - loss: 1.4504 - accuracy: 0.5725\n",
            "Epoch 23/50\n",
            "5572/5575 [============================>.] - ETA: 0s - loss: 1.4389 - accuracy: 0.5759\n",
            "----- Generating text after Epoch: 22\n",
            "----- Generating with seed: \"The police officer was given a medal of \"\n",
            "The police officer was given a medal of promuction that the points eleered the shog Turkis\n",
            "5575/5575 [==============================] - 33s 6ms/step - loss: 1.4390 - accuracy: 0.5758\n",
            "Epoch 24/50\n",
            "5566/5575 [============================>.] - ETA: 0s - loss: 1.4279 - accuracy: 0.5781\n",
            "----- Generating text after Epoch: 23\n",
            "----- Generating with seed: \"The police officer was given a medal of \"\n",
            "The police officer was given a medal of “mort. Both Incerestookaba ” (100s Reakish-agal to\n",
            "5575/5575 [==============================] - 33s 6ms/step - loss: 1.4278 - accuracy: 0.5782\n",
            "Epoch 25/50\n",
            "5572/5575 [============================>.] - ETA: 0s - loss: 1.4171 - accuracy: 0.5812\n",
            "----- Generating text after Epoch: 24\n",
            "----- Generating with seed: \"The police officer was given a medal of \"\n",
            "The police officer was given a medal of his modnfle Selland and Democrats.”\n",
            "\n",
            "4, me,n-dustr\n",
            "5575/5575 [==============================] - 33s 6ms/step - loss: 1.4170 - accuracy: 0.5812\n",
            "Epoch 26/50\n",
            "5567/5575 [============================>.] - ETA: 0s - loss: 1.4076 - accuracy: 0.5837\n",
            "----- Generating text after Epoch: 25\n",
            "----- Generating with seed: \"The police officer was given a medal of \"\n",
            "The police officer was given a medal of the mattweet of immorical five teams kirdies, beca\n",
            "5575/5575 [==============================] - 33s 6ms/step - loss: 1.4075 - accuracy: 0.5837\n",
            "Epoch 27/50\n",
            "5575/5575 [==============================] - ETA: 0s - loss: 1.3987 - accuracy: 0.5850\n",
            "----- Generating text after Epoch: 26\n",
            "----- Generating with seed: \"The police officer was given a medal of \"\n",
            "The police officer was given a medal of the formins for it remirt out of Ukraine, 8 I you \n",
            "5575/5575 [==============================] - 33s 6ms/step - loss: 1.3987 - accuracy: 0.5850\n",
            "Epoch 28/50\n",
            "5567/5575 [============================>.] - ETA: 0s - loss: 1.3904 - accuracy: 0.5882\n",
            "----- Generating text after Epoch: 27\n",
            "----- Generating with seed: \"The police officer was given a medal of \"\n",
            "The police officer was given a medal of the coune reprotice in a 60, who were justicies \n",
            "\n",
            "\n",
            "5575/5575 [==============================] - 33s 6ms/step - loss: 1.3906 - accuracy: 0.5881\n",
            "Epoch 29/50\n",
            "5574/5575 [============================>.] - ETA: 0s - loss: 1.3820 - accuracy: 0.5901\n",
            "----- Generating text after Epoch: 28\n",
            "----- Generating with seed: \"The police officer was given a medal of \"\n",
            "The police officer was given a medal of Sergles: “It if unlegs mar.”\n",
            "\n",
            "AD\n",
            "\n",
            "AD\n",
            "\n",
            "At tomeld la\n",
            "5575/5575 [==============================] - 33s 6ms/step - loss: 1.3820 - accuracy: 0.5901\n",
            "Epoch 30/50\n",
            "5568/5575 [============================>.] - ETA: 0s - loss: 1.3742 - accuracy: 0.5926\n",
            "----- Generating text after Epoch: 29\n",
            "----- Generating with seed: \"The police officer was given a medal of \"\n",
            "The police officer was given a medal of Ukrainanole” seembers, wrong zone, offowe the “anq\n",
            "5575/5575 [==============================] - 32s 6ms/step - loss: 1.3742 - accuracy: 0.5926\n",
            "Epoch 31/50\n",
            "5571/5575 [============================>.] - ETA: 0s - loss: 1.3677 - accuracy: 0.5930\n",
            "----- Generating text after Epoch: 30\n",
            "----- Generating with seed: \"The police officer was given a medal of \"\n",
            "The police officer was given a medal of subpoena hoppioutule condent he fuclians with than\n",
            "5575/5575 [==============================] - 32s 6ms/step - loss: 1.3676 - accuracy: 0.5931\n",
            "Epoch 32/50\n",
            "5570/5575 [============================>.] - ETA: 0s - loss: 1.3612 - accuracy: 0.5964\n",
            "----- Generating text after Epoch: 31\n",
            "----- Generating with seed: \"The police officer was given a medal of \"\n",
            "The police officer was given a medal of Turkey, tweeted by any port.\n",
            "\n",
            "Bryant the moling yo\n",
            "5575/5575 [==============================] - 32s 6ms/step - loss: 1.3609 - accuracy: 0.5965\n",
            "Epoch 33/50\n",
            "5571/5575 [============================>.] - ETA: 0s - loss: 1.3546 - accuracy: 0.5970\n",
            "----- Generating text after Epoch: 32\n",
            "----- Generating with seed: \"The police officer was given a medal of \"\n",
            "The police officer was given a medal of the United States’ decrift or all recisiation will\n",
            "5575/5575 [==============================] - 34s 6ms/step - loss: 1.3545 - accuracy: 0.5971\n",
            "Epoch 34/50\n",
            "5573/5575 [============================>.] - ETA: 0s - loss: 1.3503 - accuracy: 0.5982\n",
            "----- Generating text after Epoch: 33\n",
            "----- Generating with seed: \"The police officer was given a medal of \"\n",
            "The police officer was given a medal of the ban arr doet ext reseast interconsle const to \n",
            "5575/5575 [==============================] - 33s 6ms/step - loss: 1.3504 - accuracy: 0.5982\n",
            "Epoch 35/50\n",
            "5574/5575 [============================>.] - ETA: 0s - loss: 1.3443 - accuracy: 0.5999\n",
            "----- Generating text after Epoch: 34\n",
            "----- Generating with seed: \"The police officer was given a medal of \"\n",
            "The police officer was given a medal of finds, who improsent.\n",
            "\n",
            "“I’d all pronewnolants ague\n",
            "5575/5575 [==============================] - 33s 6ms/step - loss: 1.3442 - accuracy: 0.5999\n",
            "Epoch 36/50\n",
            "5574/5575 [============================>.] - ETA: 0s - loss: 1.3375 - accuracy: 0.6017\n",
            "----- Generating text after Epoch: 35\n",
            "----- Generating with seed: \"The police officer was given a medal of \"\n",
            "The police officer was given a medal of mind. Instreps)\n",
            "\n",
            "The the tiny winding endiciated t\n",
            "5575/5575 [==============================] - 33s 6ms/step - loss: 1.3375 - accuracy: 0.6017\n",
            "Epoch 37/50\n",
            "5574/5575 [============================>.] - ETA: 0s - loss: 1.3355 - accuracy: 0.6035\n",
            "----- Generating text after Epoch: 36\n",
            "----- Generating with seed: \"The police officer was given a medal of \"\n",
            "The police officer was given a medal of their perilt authove suct.c. Terry having the Hows\n",
            "5575/5575 [==============================] - 33s 6ms/step - loss: 1.3356 - accuracy: 0.6035\n",
            "Epoch 38/50\n",
            "5572/5575 [============================>.] - ETA: 0s - loss: 1.3306 - accuracy: 0.6039\n",
            "----- Generating text after Epoch: 37\n",
            "----- Generating with seed: \"The police officer was given a medal of \"\n",
            "The police officer was given a medal of Caipela Rem. COUs\n",
            "\n",
            "SEmbAna, the all thouse, its ca\n",
            "5575/5575 [==============================] - 33s 6ms/step - loss: 1.3307 - accuracy: 0.6038\n",
            "Epoch 39/50\n",
            "5567/5575 [============================>.] - ETA: 0s - loss: 1.3283 - accuracy: 0.6041\n",
            "----- Generating text after Epoch: 38\n",
            "----- Generating with seed: \"The police officer was given a medal of \"\n",
            "The police officer was given a medal of Americina. And Ond working instonsment accord peri\n",
            "5575/5575 [==============================] - 33s 6ms/step - loss: 1.3282 - accuracy: 0.6041\n",
            "Epoch 40/50\n",
            "1914/5575 [=========>....................] - ETA: 20s - loss: 1.2955 - accuracy: 0.6138"
          ],
          "name": "stdout"
        },
        {
          "output_type": "error",
          "ename": "KeyboardInterrupt",
          "evalue": "ignored",
          "traceback": [
            "\u001b[0;31m---------------------------------------------------------------------------\u001b[0m",
            "\u001b[0;31mKeyboardInterrupt\u001b[0m                         Traceback (most recent call last)",
            "\u001b[0;32m<ipython-input-59-49f6adf2e5d5>\u001b[0m in \u001b[0;36m<module>\u001b[0;34m()\u001b[0m\n\u001b[1;32m      2\u001b[0m           \u001b[0mbatch_size\u001b[0m\u001b[0;34m=\u001b[0m\u001b[0;36m32\u001b[0m\u001b[0;34m,\u001b[0m\u001b[0;34m\u001b[0m\u001b[0;34m\u001b[0m\u001b[0m\n\u001b[1;32m      3\u001b[0m           \u001b[0mepochs\u001b[0m\u001b[0;34m=\u001b[0m\u001b[0;36m50\u001b[0m\u001b[0;34m,\u001b[0m\u001b[0;34m\u001b[0m\u001b[0;34m\u001b[0m\u001b[0m\n\u001b[0;32m----> 4\u001b[0;31m           callbacks=[print_callback])\n\u001b[0m",
            "\u001b[0;32m/usr/local/lib/python3.6/dist-packages/tensorflow/python/keras/engine/training.py\u001b[0m in \u001b[0;36m_method_wrapper\u001b[0;34m(self, *args, **kwargs)\u001b[0m\n\u001b[1;32m     64\u001b[0m   \u001b[0;32mdef\u001b[0m \u001b[0m_method_wrapper\u001b[0m\u001b[0;34m(\u001b[0m\u001b[0mself\u001b[0m\u001b[0;34m,\u001b[0m \u001b[0;34m*\u001b[0m\u001b[0margs\u001b[0m\u001b[0;34m,\u001b[0m \u001b[0;34m**\u001b[0m\u001b[0mkwargs\u001b[0m\u001b[0;34m)\u001b[0m\u001b[0;34m:\u001b[0m\u001b[0;34m\u001b[0m\u001b[0;34m\u001b[0m\u001b[0m\n\u001b[1;32m     65\u001b[0m     \u001b[0;32mif\u001b[0m \u001b[0;32mnot\u001b[0m \u001b[0mself\u001b[0m\u001b[0;34m.\u001b[0m\u001b[0m_in_multi_worker_mode\u001b[0m\u001b[0;34m(\u001b[0m\u001b[0;34m)\u001b[0m\u001b[0;34m:\u001b[0m  \u001b[0;31m# pylint: disable=protected-access\u001b[0m\u001b[0;34m\u001b[0m\u001b[0;34m\u001b[0m\u001b[0m\n\u001b[0;32m---> 66\u001b[0;31m       \u001b[0;32mreturn\u001b[0m \u001b[0mmethod\u001b[0m\u001b[0;34m(\u001b[0m\u001b[0mself\u001b[0m\u001b[0;34m,\u001b[0m \u001b[0;34m*\u001b[0m\u001b[0margs\u001b[0m\u001b[0;34m,\u001b[0m \u001b[0;34m**\u001b[0m\u001b[0mkwargs\u001b[0m\u001b[0;34m)\u001b[0m\u001b[0;34m\u001b[0m\u001b[0;34m\u001b[0m\u001b[0m\n\u001b[0m\u001b[1;32m     67\u001b[0m \u001b[0;34m\u001b[0m\u001b[0m\n\u001b[1;32m     68\u001b[0m     \u001b[0;31m# Running inside `run_distribute_coordinator` already.\u001b[0m\u001b[0;34m\u001b[0m\u001b[0;34m\u001b[0m\u001b[0;34m\u001b[0m\u001b[0m\n",
            "\u001b[0;32m/usr/local/lib/python3.6/dist-packages/tensorflow/python/keras/engine/training.py\u001b[0m in \u001b[0;36mfit\u001b[0;34m(self, x, y, batch_size, epochs, verbose, callbacks, validation_split, validation_data, shuffle, class_weight, sample_weight, initial_epoch, steps_per_epoch, validation_steps, validation_batch_size, validation_freq, max_queue_size, workers, use_multiprocessing, **kwargs)\u001b[0m\n\u001b[1;32m    848\u001b[0m                 \u001b[0mstep_num\u001b[0m\u001b[0;34m=\u001b[0m\u001b[0mstep\u001b[0m\u001b[0;34m,\u001b[0m\u001b[0;34m\u001b[0m\u001b[0;34m\u001b[0m\u001b[0m\n\u001b[1;32m    849\u001b[0m                 batch_size=batch_size):\n\u001b[0;32m--> 850\u001b[0;31m               \u001b[0mcallbacks\u001b[0m\u001b[0;34m.\u001b[0m\u001b[0mon_train_batch_begin\u001b[0m\u001b[0;34m(\u001b[0m\u001b[0mstep\u001b[0m\u001b[0;34m)\u001b[0m\u001b[0;34m\u001b[0m\u001b[0;34m\u001b[0m\u001b[0m\n\u001b[0m\u001b[1;32m    851\u001b[0m               \u001b[0mtmp_logs\u001b[0m \u001b[0;34m=\u001b[0m \u001b[0mtrain_function\u001b[0m\u001b[0;34m(\u001b[0m\u001b[0miterator\u001b[0m\u001b[0;34m)\u001b[0m\u001b[0;34m\u001b[0m\u001b[0;34m\u001b[0m\u001b[0m\n\u001b[1;32m    852\u001b[0m               \u001b[0;31m# Catch OutOfRangeError for Datasets of unknown size.\u001b[0m\u001b[0;34m\u001b[0m\u001b[0;34m\u001b[0m\u001b[0;34m\u001b[0m\u001b[0m\n",
            "\u001b[0;32m/usr/local/lib/python3.6/dist-packages/tensorflow/python/keras/callbacks.py\u001b[0m in \u001b[0;36mon_train_batch_begin\u001b[0;34m(self, batch, logs)\u001b[0m\n\u001b[1;32m    377\u001b[0m     \u001b[0;32mif\u001b[0m \u001b[0mself\u001b[0m\u001b[0;34m.\u001b[0m\u001b[0m_should_call_train_batch_hooks\u001b[0m\u001b[0;34m:\u001b[0m\u001b[0;34m\u001b[0m\u001b[0;34m\u001b[0m\u001b[0m\n\u001b[1;32m    378\u001b[0m       \u001b[0mlogs\u001b[0m \u001b[0;34m=\u001b[0m \u001b[0mself\u001b[0m\u001b[0;34m.\u001b[0m\u001b[0m_process_logs\u001b[0m\u001b[0;34m(\u001b[0m\u001b[0mlogs\u001b[0m\u001b[0;34m)\u001b[0m\u001b[0;34m\u001b[0m\u001b[0;34m\u001b[0m\u001b[0m\n\u001b[0;32m--> 379\u001b[0;31m       \u001b[0mself\u001b[0m\u001b[0;34m.\u001b[0m\u001b[0m_call_batch_hook\u001b[0m\u001b[0;34m(\u001b[0m\u001b[0mModeKeys\u001b[0m\u001b[0;34m.\u001b[0m\u001b[0mTRAIN\u001b[0m\u001b[0;34m,\u001b[0m \u001b[0;34m'begin'\u001b[0m\u001b[0;34m,\u001b[0m \u001b[0mbatch\u001b[0m\u001b[0;34m,\u001b[0m \u001b[0mlogs\u001b[0m\u001b[0;34m=\u001b[0m\u001b[0mlogs\u001b[0m\u001b[0;34m)\u001b[0m\u001b[0;34m\u001b[0m\u001b[0;34m\u001b[0m\u001b[0m\n\u001b[0m\u001b[1;32m    380\u001b[0m \u001b[0;34m\u001b[0m\u001b[0m\n\u001b[1;32m    381\u001b[0m   \u001b[0;32mdef\u001b[0m \u001b[0mon_train_batch_end\u001b[0m\u001b[0;34m(\u001b[0m\u001b[0mself\u001b[0m\u001b[0;34m,\u001b[0m \u001b[0mbatch\u001b[0m\u001b[0;34m,\u001b[0m \u001b[0mlogs\u001b[0m\u001b[0;34m=\u001b[0m\u001b[0;32mNone\u001b[0m\u001b[0;34m)\u001b[0m\u001b[0;34m:\u001b[0m\u001b[0;34m\u001b[0m\u001b[0;34m\u001b[0m\u001b[0m\n",
            "\u001b[0;32m/usr/local/lib/python3.6/dist-packages/tensorflow/python/keras/callbacks.py\u001b[0m in \u001b[0;36m_call_batch_hook\u001b[0;34m(self, mode, hook, batch, logs)\u001b[0m\n\u001b[1;32m    299\u001b[0m     \u001b[0mself\u001b[0m\u001b[0;34m.\u001b[0m\u001b[0m_delta_ts\u001b[0m\u001b[0;34m[\u001b[0m\u001b[0mhook_name\u001b[0m\u001b[0;34m]\u001b[0m\u001b[0;34m.\u001b[0m\u001b[0mappend\u001b[0m\u001b[0;34m(\u001b[0m\u001b[0mtime\u001b[0m\u001b[0;34m.\u001b[0m\u001b[0mtime\u001b[0m\u001b[0;34m(\u001b[0m\u001b[0;34m)\u001b[0m \u001b[0;34m-\u001b[0m \u001b[0mt_before_callbacks\u001b[0m\u001b[0;34m)\u001b[0m\u001b[0;34m\u001b[0m\u001b[0;34m\u001b[0m\u001b[0m\n\u001b[1;32m    300\u001b[0m \u001b[0;34m\u001b[0m\u001b[0m\n\u001b[0;32m--> 301\u001b[0;31m     \u001b[0mdelta_t_median\u001b[0m \u001b[0;34m=\u001b[0m \u001b[0mnp\u001b[0m\u001b[0;34m.\u001b[0m\u001b[0mmedian\u001b[0m\u001b[0;34m(\u001b[0m\u001b[0mself\u001b[0m\u001b[0;34m.\u001b[0m\u001b[0m_delta_ts\u001b[0m\u001b[0;34m[\u001b[0m\u001b[0mhook_name\u001b[0m\u001b[0;34m]\u001b[0m\u001b[0;34m)\u001b[0m\u001b[0;34m\u001b[0m\u001b[0;34m\u001b[0m\u001b[0m\n\u001b[0m\u001b[1;32m    302\u001b[0m     if (self._delta_t_batch > 0. and\n\u001b[1;32m    303\u001b[0m         delta_t_median > 0.95 * self._delta_t_batch and delta_t_median > 0.1):\n",
            "\u001b[0;32m<__array_function__ internals>\u001b[0m in \u001b[0;36mmedian\u001b[0;34m(*args, **kwargs)\u001b[0m\n",
            "\u001b[0;32m/usr/local/lib/python3.6/dist-packages/numpy/lib/function_base.py\u001b[0m in \u001b[0;36mmedian\u001b[0;34m(a, axis, out, overwrite_input, keepdims)\u001b[0m\n\u001b[1;32m   3493\u001b[0m     \"\"\"\n\u001b[1;32m   3494\u001b[0m     r, k = _ureduce(a, func=_median, axis=axis, out=out,\n\u001b[0;32m-> 3495\u001b[0;31m                     overwrite_input=overwrite_input)\n\u001b[0m\u001b[1;32m   3496\u001b[0m     \u001b[0;32mif\u001b[0m \u001b[0mkeepdims\u001b[0m\u001b[0;34m:\u001b[0m\u001b[0;34m\u001b[0m\u001b[0;34m\u001b[0m\u001b[0m\n\u001b[1;32m   3497\u001b[0m         \u001b[0;32mreturn\u001b[0m \u001b[0mr\u001b[0m\u001b[0;34m.\u001b[0m\u001b[0mreshape\u001b[0m\u001b[0;34m(\u001b[0m\u001b[0mk\u001b[0m\u001b[0;34m)\u001b[0m\u001b[0;34m\u001b[0m\u001b[0;34m\u001b[0m\u001b[0m\n",
            "\u001b[0;32m/usr/local/lib/python3.6/dist-packages/numpy/lib/function_base.py\u001b[0m in \u001b[0;36m_ureduce\u001b[0;34m(a, func, **kwargs)\u001b[0m\n\u001b[1;32m   3401\u001b[0m         \u001b[0mkeepdim\u001b[0m \u001b[0;34m=\u001b[0m \u001b[0;34m(\u001b[0m\u001b[0;36m1\u001b[0m\u001b[0;34m,\u001b[0m\u001b[0;34m)\u001b[0m \u001b[0;34m*\u001b[0m \u001b[0ma\u001b[0m\u001b[0;34m.\u001b[0m\u001b[0mndim\u001b[0m\u001b[0;34m\u001b[0m\u001b[0;34m\u001b[0m\u001b[0m\n\u001b[1;32m   3402\u001b[0m \u001b[0;34m\u001b[0m\u001b[0m\n\u001b[0;32m-> 3403\u001b[0;31m     \u001b[0mr\u001b[0m \u001b[0;34m=\u001b[0m \u001b[0mfunc\u001b[0m\u001b[0;34m(\u001b[0m\u001b[0ma\u001b[0m\u001b[0;34m,\u001b[0m \u001b[0;34m**\u001b[0m\u001b[0mkwargs\u001b[0m\u001b[0;34m)\u001b[0m\u001b[0;34m\u001b[0m\u001b[0;34m\u001b[0m\u001b[0m\n\u001b[0m\u001b[1;32m   3404\u001b[0m     \u001b[0;32mreturn\u001b[0m \u001b[0mr\u001b[0m\u001b[0;34m,\u001b[0m \u001b[0mkeepdim\u001b[0m\u001b[0;34m\u001b[0m\u001b[0;34m\u001b[0m\u001b[0m\n\u001b[1;32m   3405\u001b[0m \u001b[0;34m\u001b[0m\u001b[0m\n",
            "\u001b[0;32m/usr/local/lib/python3.6/dist-packages/numpy/lib/function_base.py\u001b[0m in \u001b[0;36m_median\u001b[0;34m(a, axis, out, overwrite_input)\u001b[0m\n\u001b[1;32m   3547\u001b[0m         \u001b[0;31m# warn and return nans like mean would\u001b[0m\u001b[0;34m\u001b[0m\u001b[0;34m\u001b[0m\u001b[0;34m\u001b[0m\u001b[0m\n\u001b[1;32m   3548\u001b[0m         \u001b[0mrout\u001b[0m \u001b[0;34m=\u001b[0m \u001b[0mmean\u001b[0m\u001b[0;34m(\u001b[0m\u001b[0mpart\u001b[0m\u001b[0;34m[\u001b[0m\u001b[0mindexer\u001b[0m\u001b[0;34m]\u001b[0m\u001b[0;34m,\u001b[0m \u001b[0maxis\u001b[0m\u001b[0;34m=\u001b[0m\u001b[0maxis\u001b[0m\u001b[0;34m,\u001b[0m \u001b[0mout\u001b[0m\u001b[0;34m=\u001b[0m\u001b[0mout\u001b[0m\u001b[0;34m)\u001b[0m\u001b[0;34m\u001b[0m\u001b[0;34m\u001b[0m\u001b[0m\n\u001b[0;32m-> 3549\u001b[0;31m         \u001b[0;32mreturn\u001b[0m \u001b[0mnp\u001b[0m\u001b[0;34m.\u001b[0m\u001b[0mlib\u001b[0m\u001b[0;34m.\u001b[0m\u001b[0mutils\u001b[0m\u001b[0;34m.\u001b[0m\u001b[0m_median_nancheck\u001b[0m\u001b[0;34m(\u001b[0m\u001b[0mpart\u001b[0m\u001b[0;34m,\u001b[0m \u001b[0mrout\u001b[0m\u001b[0;34m,\u001b[0m \u001b[0maxis\u001b[0m\u001b[0;34m,\u001b[0m \u001b[0mout\u001b[0m\u001b[0;34m)\u001b[0m\u001b[0;34m\u001b[0m\u001b[0;34m\u001b[0m\u001b[0m\n\u001b[0m\u001b[1;32m   3550\u001b[0m     \u001b[0;32melse\u001b[0m\u001b[0;34m:\u001b[0m\u001b[0;34m\u001b[0m\u001b[0;34m\u001b[0m\u001b[0m\n\u001b[1;32m   3551\u001b[0m         \u001b[0;31m# if there are no nans\u001b[0m\u001b[0;34m\u001b[0m\u001b[0;34m\u001b[0m\u001b[0;34m\u001b[0m\u001b[0m\n",
            "\u001b[0;32m/usr/local/lib/python3.6/dist-packages/numpy/lib/utils.py\u001b[0m in \u001b[0;36m_median_nancheck\u001b[0;34m(data, result, axis, out)\u001b[0m\n\u001b[1;32m   1071\u001b[0m         \u001b[0;32mreturn\u001b[0m \u001b[0mresult\u001b[0m\u001b[0;34m\u001b[0m\u001b[0;34m\u001b[0m\u001b[0m\n\u001b[1;32m   1072\u001b[0m     \u001b[0mdata\u001b[0m \u001b[0;34m=\u001b[0m \u001b[0mnp\u001b[0m\u001b[0;34m.\u001b[0m\u001b[0mmoveaxis\u001b[0m\u001b[0;34m(\u001b[0m\u001b[0mdata\u001b[0m\u001b[0;34m,\u001b[0m \u001b[0maxis\u001b[0m\u001b[0;34m,\u001b[0m \u001b[0;34m-\u001b[0m\u001b[0;36m1\u001b[0m\u001b[0;34m)\u001b[0m\u001b[0;34m\u001b[0m\u001b[0;34m\u001b[0m\u001b[0m\n\u001b[0;32m-> 1073\u001b[0;31m     \u001b[0mn\u001b[0m \u001b[0;34m=\u001b[0m \u001b[0mnp\u001b[0m\u001b[0;34m.\u001b[0m\u001b[0misnan\u001b[0m\u001b[0;34m(\u001b[0m\u001b[0mdata\u001b[0m\u001b[0;34m[\u001b[0m\u001b[0;34m...\u001b[0m\u001b[0;34m,\u001b[0m \u001b[0;34m-\u001b[0m\u001b[0;36m1\u001b[0m\u001b[0;34m]\u001b[0m\u001b[0;34m)\u001b[0m\u001b[0;34m\u001b[0m\u001b[0;34m\u001b[0m\u001b[0m\n\u001b[0m\u001b[1;32m   1074\u001b[0m     \u001b[0;31m# masked NaN values are ok\u001b[0m\u001b[0;34m\u001b[0m\u001b[0;34m\u001b[0m\u001b[0;34m\u001b[0m\u001b[0m\n\u001b[1;32m   1075\u001b[0m     \u001b[0;32mif\u001b[0m \u001b[0mnp\u001b[0m\u001b[0;34m.\u001b[0m\u001b[0mma\u001b[0m\u001b[0;34m.\u001b[0m\u001b[0misMaskedArray\u001b[0m\u001b[0;34m(\u001b[0m\u001b[0mn\u001b[0m\u001b[0;34m)\u001b[0m\u001b[0;34m:\u001b[0m\u001b[0;34m\u001b[0m\u001b[0;34m\u001b[0m\u001b[0m\n",
            "\u001b[0;31mKeyboardInterrupt\u001b[0m: "
          ]
        }
      ]
    },
    {
      "cell_type": "markdown",
      "metadata": {
        "id": "cJ38VmE7Cu1H",
        "colab_type": "text"
      },
      "source": [
        "## Challenge\n",
        "\n",
        "You will be expected to use a Keras LSTM to generate text on today's assignment. "
      ]
    },
    {
      "cell_type": "markdown",
      "metadata": {
        "id": "TxZwNBmOCu1H",
        "colab_type": "text"
      },
      "source": [
        "# Review\n",
        "\n",
        "- <a href=\"#p1\">Part 1: </a>Describe Neural Networks used for modeling sequences\n",
        "    * Sequence Problems:\n",
        "        - Time Series (like Stock Prices, Weather, etc.)\n",
        "        - Text Classification\n",
        "        - Text Generation\n",
        "        - And many more! :D\n",
        "    * LSTMs are generally preferred over RNNs for most problems\n",
        "    * LSTMs are typically a single hidden layer of LSTM type; although, other architectures are possible.\n",
        "    * Keras has LSTMs/RNN layer types implemented nicely\n",
        "- <a href=\"#p2\">Part 2: </a>Apply a LSTM to a text generation problem using Keras\n",
        "    * Shape of input data is very important\n",
        "    * Can take a while to train\n",
        "    * You can use it to write movie scripts. :P "
      ]
    }
  ]
}