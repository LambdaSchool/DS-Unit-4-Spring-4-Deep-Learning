{
  "nbformat": 4,
  "nbformat_minor": 0,
  "metadata": {
    "colab": {
      "name": "Facial_Rec.ipynb",
      "provenance": [],
      "private_outputs": true,
      "collapsed_sections": [],
      "authorship_tag": "ABX9TyMrO/CzauDLzV7n7Hksx5K0",
      "include_colab_link": true
    },
    "kernelspec": {
      "name": "python3",
      "display_name": "Python 3"
    },
    "accelerator": "GPU"
  },
  "cells": [
    {
      "cell_type": "markdown",
      "metadata": {
        "id": "view-in-github",
        "colab_type": "text"
      },
      "source": [
        "<a href=\"https://colab.research.google.com/github/Mike-Xie/DS-Unit-4-Sprint-3-Deep-Learning/blob/master/Facial_Recognition_Spring_Break_Workshop.ipynb\" target=\"_parent\"><img src=\"https://colab.research.google.com/assets/colab-badge.svg\" alt=\"Open In Colab\"/></a>"
      ]
    },
    {
      "cell_type": "code",
      "metadata": {
        "id": "qtSg39PFqgdm",
        "colab_type": "code",
        "colab": {}
      },
      "source": [
        "# https://github.com/ageitgey/face_recognition\n",
        "\n",
        "!git clone https://github.com/davisking/dlib.git\n"
      ],
      "execution_count": 0,
      "outputs": []
    },
    {
      "cell_type": "code",
      "metadata": {
        "id": "NTGlrEaXsEm6",
        "colab_type": "code",
        "colab": {}
      },
      "source": [
        "import os\n",
        "os.mkdir('dlib')\n"
      ],
      "execution_count": 0,
      "outputs": []
    },
    {
      "cell_type": "code",
      "metadata": {
        "id": "tK9d2BIss_ya",
        "colab_type": "code",
        "colab": {}
      },
      "source": [
        "os.mkdir('build')\n"
      ],
      "execution_count": 0,
      "outputs": []
    },
    {
      "cell_type": "code",
      "metadata": {
        "id": "x8ltqclMtRzr",
        "colab_type": "code",
        "colab": {}
      },
      "source": [
        "os.chdir('build')"
      ],
      "execution_count": 0,
      "outputs": []
    },
    {
      "cell_type": "code",
      "metadata": {
        "id": "heNM_eNgtTKY",
        "colab_type": "code",
        "colab": {}
      },
      "source": [
        "!cmake .."
      ],
      "execution_count": 0,
      "outputs": []
    },
    {
      "cell_type": "code",
      "metadata": {
        "id": "DX2zXtgUtWOH",
        "colab_type": "code",
        "colab": {}
      },
      "source": [
        "!cmake --build . "
      ],
      "execution_count": 0,
      "outputs": []
    },
    {
      "cell_type": "code",
      "metadata": {
        "id": "gVceOKrBtcis",
        "colab_type": "code",
        "colab": {}
      },
      "source": [
        "os.chdir('..')"
      ],
      "execution_count": 0,
      "outputs": []
    },
    {
      "cell_type": "code",
      "metadata": {
        "id": "2t1T-1w8qsjg",
        "colab_type": "code",
        "colab": {}
      },
      "source": [
        "!setup.py install"
      ],
      "execution_count": 0,
      "outputs": []
    },
    {
      "cell_type": "code",
      "metadata": {
        "id": "fSO3WaoXrLUU",
        "colab_type": "code",
        "colab": {}
      },
      "source": [
        "import dlib"
      ],
      "execution_count": 0,
      "outputs": []
    },
    {
      "cell_type": "code",
      "metadata": {
        "id": "3gS0pMcNtmp5",
        "colab_type": "code",
        "colab": {}
      },
      "source": [
        "!pip install face_recognition"
      ],
      "execution_count": 0,
      "outputs": []
    },
    {
      "cell_type": "code",
      "metadata": {
        "id": "uhzsJljluN-j",
        "colab_type": "code",
        "colab": {}
      },
      "source": [
        "import face_recognition\n",
        "\n",
        "known_image = face_recognition.load_image_file(\"biden.jpg\")\n",
        "unknown_image = face_recognition.load_image_file(\"unknown.jpg\")\n",
        "\n",
        "biden_encoding = face_recognition.face_encodings(known_image)[0]\n",
        "unknown_encoding = face_recognition.face_encodings(unknown_image)[0]\n",
        "\n",
        "results = face_recognition.compare_faces([biden_encoding], unknown_encoding)"
      ],
      "execution_count": 0,
      "outputs": []
    }
  ]
}