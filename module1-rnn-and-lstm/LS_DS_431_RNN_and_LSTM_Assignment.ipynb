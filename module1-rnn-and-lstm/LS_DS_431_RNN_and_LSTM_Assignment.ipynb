{
  "nbformat": 4,
  "nbformat_minor": 0,
  "metadata": {
    "kernelspec": {
      "display_name": "U4-S3-DNN (Python 3.7)",
      "language": "python",
      "name": "u4-s3-dnn"
    },
    "language_info": {
      "codemirror_mode": {
        "name": "ipython",
        "version": 3
      },
      "file_extension": ".py",
      "mimetype": "text/x-python",
      "name": "python",
      "nbconvert_exporter": "python",
      "pygments_lexer": "ipython3",
      "version": "3.7.3"
    },
    "colab": {
      "name": "LS_DS_431_RNN_and_LSTM_Assignment.ipynb",
      "provenance": [],
      "include_colab_link": true
    },
    "accelerator": "GPU"
  },
  "cells": [
    {
      "cell_type": "markdown",
      "metadata": {
        "id": "view-in-github",
        "colab_type": "text"
      },
      "source": [
        "<a href=\"https://colab.research.google.com/github/leehanchung/DS-Unit-4-Sprint-3-Deep-Learning/blob/master/module1-rnn-and-lstm/LS_DS_431_RNN_and_LSTM_Assignment.ipynb\" target=\"_parent\"><img src=\"https://colab.research.google.com/assets/colab-badge.svg\" alt=\"Open In Colab\"/></a>"
      ]
    },
    {
      "cell_type": "markdown",
      "metadata": {
        "id": "Z4ghns5_s1Ni",
        "colab_type": "text"
      },
      "source": [
        "<img align=\"left\" src=\"https://lever-client-logos.s3.amazonaws.com/864372b1-534c-480e-acd5-9711f850815c-1524247202159.png\" width=200>\n",
        "<br></br>\n",
        "<br></br>\n",
        "\n",
        "## *Data Science Unit 4 Sprint 3 Assignment 1*\n",
        "\n",
        "# Recurrent Neural Networks and Long Short Term Memory (LSTM)\n",
        "\n",
        "![Monkey at a typewriter](https://upload.wikimedia.org/wikipedia/commons/thumb/3/3c/Chimpanzee_seated_at_typewriter.jpg/603px-Chimpanzee_seated_at_typewriter.jpg)\n",
        "\n",
        "It is said that [infinite monkeys typing for an infinite amount of time](https://en.wikipedia.org/wiki/Infinite_monkey_theorem) will eventually type, among other things, the complete works of Wiliam Shakespeare. Let's see if we can get there a bit faster, with the power of Recurrent Neural Networks and LSTM.\n",
        "\n",
        "This text file contains the complete works of Shakespeare: https://www.gutenberg.org/files/100/100-0.txt\n",
        "\n",
        "Use it as training data for an RNN - you can keep it simple and train character level, and that is suggested as an initial approach.\n",
        "\n",
        "Then, use that trained RNN to generate Shakespearean-ish text. Your goal - a function that can take, as an argument, the size of text (e.g. number of characters or lines) to generate, and returns generated text of that size.\n",
        "\n",
        "Note - Shakespeare wrote an awful lot. It's OK, especially initially, to sample/use smaller data and parameters, so you can have a tighter feedback loop when you're trying to get things running. Then, once you've got a proof of concept - start pushing it more!"
      ]
    },
    {
      "cell_type": "code",
      "metadata": {
        "colab_type": "code",
        "id": "Ltj1je1fp5rO",
        "colab": {}
      },
      "source": [
        "# TODO - Words, words, mere words, no matter from the heart.\n",
        "try:\n",
        "    # %tensorflow_version only exists in Colab.\n",
        "    %tensorflow_version 2.x\n",
        "except Exception:\n",
        "    pass\n",
        "\n",
        "from __future__ import absolute_import, division, print_function, unicode_literals\n",
        "\n",
        "import tensorflow as tf\n",
        "\n",
        "from tensorflow.keras.layers import Dense, Dropout, LSTM\n",
        "from tensorflow.keras import Sequential\n",
        "from tensorflow.keras.utils import to_categorical\n",
        "\n",
        "import numpy as np\n",
        "import matplotlib.pyplot as plt\n",
        "import requests\n",
        "import os\n",
        "import textwrap\n",
        "\n",
        "url = \"https://www.gutenberg.org/files/100/100-0.txt\""
      ],
      "execution_count": 0,
      "outputs": []
    },
    {
      "cell_type": "markdown",
      "metadata": {
        "id": "3h676pwOEa1W",
        "colab_type": "text"
      },
      "source": [
        "# Loading and Preprocessing"
      ]
    },
    {
      "cell_type": "code",
      "metadata": {
        "id": "r0S4pvCp9t1A",
        "colab_type": "code",
        "outputId": "6fdae6ab-87f1-4696-9355-738026b9b14c",
        "colab": {
          "base_uri": "https://localhost:8080/",
          "height": 35
        }
      },
      "source": [
        "# save file to local and load it into text\n",
        "path_to_file = tf.keras.utils.get_file('shakespeare.txt', url)\n",
        "\n",
        "text = open(path_to_file, 'rb').read().decode(encoding='utf-8-sig')\n",
        "\n",
        "# get rid of character return \\r and save the newline \\n \n",
        "# first 900 words are headers and last 25000 words are disclaimers\n",
        "# from visual inspection. After removing \\r and header/disclaimers, \n",
        "# remove all extra spaces.\n",
        "text = text.replace(\"\\r\", \"\")\n",
        "text = text[900:-25000].lower()\n",
        "text = \" \".join(text.split())\n",
        "print (f'Length of text: {len(text)} characters')"
      ],
      "execution_count": 83,
      "outputs": [
        {
          "output_type": "stream",
          "text": [
            "Length of text: 1082483 characters\n"
          ],
          "name": "stdout"
        }
      ]
    },
    {
      "cell_type": "code",
      "metadata": {
        "id": "f_OCCdxSEjjb",
        "colab_type": "code",
        "colab": {}
      },
      "source": [
        "text_size = len(text)\n",
        "vocab = sorted(set(text))\n",
        "small_text_size = 50000\n",
        "\n",
        "# create dictionary to translate characters to int and vice versa\n",
        "char2idx = {u:i for i, u in enumerate(vocab)}\n",
        "idx2char = {i:u for i, u in enumerate(vocab)}#np.array(vocab)\n",
        "\n",
        "text_as_int = np.array([char2idx[c] for c in text])\n",
        "\n",
        "seq_length = 100\n",
        "# examples_per_epoch = len(text)//seq_length\n",
        "\n",
        "X_text = []\n",
        "y_text = []\n",
        "\n",
        "for i in range(0, small_text_size - seq_length, 1):\n",
        "\tin_seq = text[i:i + seq_length]\n",
        "\tout_char = text[i + seq_length]\n",
        "\tX_text.append([char2idx[char] for char in in_seq])\n",
        "\ty_text.append(char2idx[out_char])\n",
        "samples = len(X)"
      ],
      "execution_count": 0,
      "outputs": []
    },
    {
      "cell_type": "code",
      "metadata": {
        "id": "Z1n2cm2vQKBI",
        "colab_type": "code",
        "colab": {}
      },
      "source": [
        "X = np.reshape(X_text, (samples, seq_length, 1))\n",
        "# normalize\n",
        "X = X / float(len(vocab))\n",
        "# one hot encode the output variable\n",
        "y = to_categorical(y_text)"
      ],
      "execution_count": 0,
      "outputs": []
    },
    {
      "cell_type": "markdown",
      "metadata": {
        "id": "nBaXzA2babwP",
        "colab_type": "text"
      },
      "source": [
        "# Model"
      ]
    },
    {
      "cell_type": "code",
      "metadata": {
        "id": "qe_6ov1wQ9Qu",
        "colab_type": "code",
        "colab": {}
      },
      "source": [
        "model = Sequential()\n",
        "model.add(LSTM(256, input_shape=(X.shape[1], X.shape[2]), return_sequences=True))\n",
        "model.add(Dropout(0.2))\n",
        "model.add(LSTM(256))\n",
        "model.add(Dropout(0.2))\n",
        "model.add(Dense(y.shape[1], activation='softmax'))"
      ],
      "execution_count": 0,
      "outputs": []
    },
    {
      "cell_type": "code",
      "metadata": {
        "id": "Wd_AcytQRN4K",
        "colab_type": "code",
        "colab": {}
      },
      "source": [
        "model.compile(loss='categorical_crossentropy', optimizer='adam')\n",
        "# model.compile(optimizer='adam', loss=loss)\n",
        "# Directory where the checkpoints will be saved\n",
        "checkpoint_dir = './training_checkpoints'\n",
        "# Name of the checkpoint files\n",
        "checkpoint_prefix = os.path.join(checkpoint_dir, \"ckpt_{epoch}\")\n",
        "\n",
        "checkpoint_callback=tf.keras.callbacks.ModelCheckpoint(\n",
        "    filepath=checkpoint_prefix,\n",
        "    save_weights_only=True)\n",
        "\n",
        "EPOCHS=20"
      ],
      "execution_count": 0,
      "outputs": []
    },
    {
      "cell_type": "code",
      "metadata": {
        "id": "3zfk5d6iRyqO",
        "colab_type": "code",
        "colab": {
          "base_uri": "https://localhost:8080/",
          "height": 739
        },
        "outputId": "9d02ba61-e3aa-4d90-c3a9-9ad5c2ba65e5"
      },
      "source": [
        "history = model.fit(X, y, epochs=EPOCHS, callbacks=[checkpoint_callback])"
      ],
      "execution_count": 88,
      "outputs": [
        {
          "output_type": "stream",
          "text": [
            "Train on 49900 samples\n",
            "Epoch 1/20\n",
            "49900/49900 [==============================] - 96s 2ms/sample - loss: 2.8740\n",
            "Epoch 2/20\n",
            "49900/49900 [==============================] - 93s 2ms/sample - loss: 2.6144\n",
            "Epoch 3/20\n",
            "49900/49900 [==============================] - 93s 2ms/sample - loss: 2.4708\n",
            "Epoch 4/20\n",
            "49900/49900 [==============================] - 93s 2ms/sample - loss: 2.3535\n",
            "Epoch 5/20\n",
            "49900/49900 [==============================] - 93s 2ms/sample - loss: 2.2563\n",
            "Epoch 6/20\n",
            "49900/49900 [==============================] - 93s 2ms/sample - loss: 2.1794\n",
            "Epoch 7/20\n",
            "49900/49900 [==============================] - 93s 2ms/sample - loss: 2.1065\n",
            "Epoch 8/20\n",
            "49900/49900 [==============================] - 93s 2ms/sample - loss: 2.0504\n",
            "Epoch 9/20\n",
            "49900/49900 [==============================] - 93s 2ms/sample - loss: 1.9916\n",
            "Epoch 10/20\n",
            "49900/49900 [==============================] - 94s 2ms/sample - loss: 1.9405\n",
            "Epoch 11/20\n",
            "49900/49900 [==============================] - 95s 2ms/sample - loss: 1.8936\n",
            "Epoch 12/20\n",
            "49900/49900 [==============================] - 93s 2ms/sample - loss: 1.8400\n",
            "Epoch 13/20\n",
            "49900/49900 [==============================] - 92s 2ms/sample - loss: 1.7953\n",
            "Epoch 14/20\n",
            "49900/49900 [==============================] - 92s 2ms/sample - loss: 1.7545\n",
            "Epoch 15/20\n",
            "49900/49900 [==============================] - 92s 2ms/sample - loss: 1.7064\n",
            "Epoch 16/20\n",
            "49900/49900 [==============================] - 92s 2ms/sample - loss: 1.6655\n",
            "Epoch 17/20\n",
            "49900/49900 [==============================] - 92s 2ms/sample - loss: 1.6177\n",
            "Epoch 18/20\n",
            "49900/49900 [==============================] - 92s 2ms/sample - loss: 1.5822\n",
            "Epoch 19/20\n",
            "49900/49900 [==============================] - 92s 2ms/sample - loss: 1.5391\n",
            "Epoch 20/20\n",
            "49900/49900 [==============================] - 92s 2ms/sample - loss: 1.5089\n"
          ],
          "name": "stdout"
        }
      ]
    },
    {
      "cell_type": "code",
      "metadata": {
        "id": "hG1jfbSlNsJm",
        "colab_type": "code",
        "colab": {
          "base_uri": "https://localhost:8080/",
          "height": 295
        },
        "outputId": "ef19e88d-8787-48a6-c5aa-1b468f8f0a3a"
      },
      "source": [
        "plt.plot(history.history['loss'])\n",
        "plt.title('Model loss')\n",
        "plt.ylabel('Loss')\n",
        "plt.xlabel('Epoch')\n",
        "plt.legend(['Train'], loc='upper left')\n",
        "plt.show()"
      ],
      "execution_count": 89,
      "outputs": [
        {
          "output_type": "display_data",
          "data": {
            "image/png": "[encoded data removed]",
            "text/plain": [
              "<Figure size 432x288 with 1 Axes>"
            ]
          },
          "metadata": {
            "tags": []
          }
        }
      ]
    },
    {
      "cell_type": "markdown",
      "metadata": {
        "id": "vT8PiRTiaXid",
        "colab_type": "text"
      },
      "source": [
        "# Generate Text"
      ]
    },
    {
      "cell_type": "code",
      "metadata": {
        "id": "pAr4CRjpUh2q",
        "colab_type": "code",
        "colab": {
          "base_uri": "https://localhost:8080/",
          "height": 158
        },
        "outputId": "a5d0e797-802d-40e6-ae65-6b06494a5286"
      },
      "source": [
        "start = np.random.randint(0, len(X_text)-1)\n",
        "vocab_len = len(vocab)\n",
        "pattern = X_text[start]\n",
        "\n",
        "print(f\"Seed: \\n {''.join([idx2char[value] for value in pattern])}\")\n",
        "out = [idx2char[value] for value in pattern]\n",
        "\n",
        "# generate characters\n",
        "for i in range(100):\n",
        "    x = np.reshape(pattern, (1, len(pattern), 1))\n",
        "    x = x / float(vocab_len)\n",
        "    prediction = model.predict(x, verbose=0)\n",
        "    index = np.argmax(prediction)\n",
        "    result = idx2char[index]\n",
        "    in_seq = [idx2char[value] for value in pattern]\n",
        "    out.append(result)\n",
        "    pattern.append(index)\n",
        "    pattern = pattern[1:len(pattern)]\n",
        "\n",
        "print(\"\\nGenerated Text:\\n\")\n",
        "print(textwrap.fill(''.join(out), 80))"
      ],
      "execution_count": 90,
      "outputs": [
        {
          "output_type": "stream",
          "text": [
            "Seed: \n",
            " wore them, these base slaves, ere yet the fight be done, pack up: down with them! and hark, what noi\n",
            "\n",
            "Generated Text:\n",
            "\n",
            "wore them, these base slaves, ere yet the fight be done, pack up: down with\n",
            "them! and hark, what noiyes me the people, what shen? she coumd with the people,\n",
            "what shen? the courte with the people, what\n"
          ],
          "name": "stdout"
        }
      ]
    },
    {
      "cell_type": "markdown",
      "metadata": {
        "colab_type": "text",
        "id": "zE4a4O7Bp5x1"
      },
      "source": [
        "# Resources and Stretch Goals"
      ]
    },
    {
      "cell_type": "markdown",
      "metadata": {
        "colab_type": "text",
        "id": "uT3UV3gap9H6"
      },
      "source": [
        "## Stretch goals:\n",
        "- Refine the training and generation of text to be able to ask for different genres/styles of Shakespearean text (e.g. plays versus sonnets)\n",
        "- Train a classification model that takes text and returns which work of Shakespeare it is most likely to be from\n",
        "- Make it more performant! Many possible routes here - lean on Keras, optimize the code, and/or use more resources (AWS, etc.)\n",
        "- Revisit the news example from class, and improve it - use categories or tags to refine the model/generation, or train a news classifier\n",
        "- Run on bigger, better data\n",
        "\n",
        "## Resources:\n",
        "- [The Unreasonable Effectiveness of Recurrent Neural Networks](https://karpathy.github.io/2015/05/21/rnn-effectiveness/) - a seminal writeup demonstrating a simple but effective character-level NLP RNN\n",
        "- [Simple NumPy implementation of RNN](https://github.com/JY-Yoon/RNN-Implementation-using-NumPy/blob/master/RNN%20Implementation%20using%20NumPy.ipynb) - Python 3 version of the code from \"Unreasonable Effectiveness\"\n",
        "- [TensorFlow RNN Tutorial](https://github.com/tensorflow/models/tree/master/tutorials/rnn) - code for training a RNN on the Penn Tree Bank language dataset\n",
        "- [4 part tutorial on RNN](http://www.wildml.com/2015/09/recurrent-neural-networks-tutorial-part-1-introduction-to-rnns/) - relates RNN to the vanishing gradient problem, and provides example implementation\n",
        "- [RNN training tips and tricks](https://github.com/karpathy/char-rnn#tips-and-tricks) - some rules of thumb for parameterizing and training your RNN"
      ]
    }
  ]
}