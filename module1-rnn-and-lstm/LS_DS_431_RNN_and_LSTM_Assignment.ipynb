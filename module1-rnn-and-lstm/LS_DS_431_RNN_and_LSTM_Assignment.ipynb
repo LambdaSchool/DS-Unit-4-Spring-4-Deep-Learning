{
 "cells": [
  {
   "cell_type": "markdown",
   "metadata": {},
   "source": [
    "<img align=\"left\" src=\"https://lever-client-logos.s3.amazonaws.com/864372b1-534c-480e-acd5-9711f850815c-1524247202159.png\" width=200>\n",
    "<br></br>\n",
    "<br></br>\n",
    "\n",
    "## *Data Science Unit 4 Sprint 3 Assignment 1*\n",
    "\n",
    "# Recurrent Neural Networks and Long Short Term Memory (LSTM)\n",
    "\n",
    "![Monkey at a typewriter](https://upload.wikimedia.org/wikipedia/commons/thumb/3/3c/Chimpanzee_seated_at_typewriter.jpg/603px-Chimpanzee_seated_at_typewriter.jpg)\n",
    "\n",
    "It is said that [infinite monkeys typing for an infinite amount of time](https://en.wikipedia.org/wiki/Infinite_monkey_theorem) will eventually type, among other things, the complete works of Wiliam Shakespeare. Let's see if we can get there a bit faster, with the power of Recurrent Neural Networks and LSTM.\n",
    "\n",
    "This text file contains the complete works of Shakespeare: https://www.gutenberg.org/files/100/100-0.txt\n",
    "\n",
    "Use it as training data for an RNN - you can keep it simple and train character level, and that is suggested as an initial approach.\n",
    "\n",
    "Then, use that trained RNN to generate Shakespearean-ish text. Your goal - a function that can take, as an argument, the size of text (e.g. number of characters or lines) to generate, and returns generated text of that size.\n",
    "\n",
    "Note - Shakespeare wrote an awful lot. It's OK, especially initially, to sample/use smaller data and parameters, so you can have a tighter feedback loop when you're trying to get things running. Then, once you've got a proof of concept - start pushing it more!"
   ]
  },
  {
   "cell_type": "code",
   "execution_count": 1,
   "metadata": {},
   "outputs": [],
   "source": [
    "# imports\n",
    "\n",
    "from tensorflow.keras.callbacks import LambdaCallback\n",
    "from tensorflow.keras.models import Sequential\n",
    "from tensorflow.keras.layers import Dense, LSTM\n",
    "from tensorflow.keras.optimizers import RMSprop\n",
    "\n",
    "import numpy as np\n",
    "import random\n",
    "import re\n",
    "\n",
    "import sys"
   ]
  },
  {
   "cell_type": "code",
   "execution_count": 2,
   "metadata": {
    "colab": {},
    "colab_type": "code",
    "id": "Ltj1je1fp5rO"
   },
   "outputs": [],
   "source": [
    "# Loading in some Borges. Shakespeare is boring!\n",
    "\n",
    "with open(f'./borges/borges_collected_fictions.txt', 'r', encoding='utf8') as f:\n",
    "            data = f.read()"
   ]
  },
  {
   "cell_type": "code",
   "execution_count": 3,
   "metadata": {},
   "outputs": [
    {
     "name": "stdout",
     "output_type": "stream",
     "text": [
      "PENGUIN BOOKS\n",
      "\n",
      "\n",
      "\n",
      "\n",
      "\n",
      "COLLECTED FICTIONS\n",
      "\n",
      "\n",
      "\n",
      "\n",
      "\n",
      "Jorge Luis Borges was born in Buenos Aires in 1899 and was educated in Europe. One of the most widely acclaimed writers of our time, he published many collections of poems, essays, and short stories before his death in Geneva in June 1986. In 1961 Borges shared the International Publishers’ prize with Samuel Beckett. The Ingram Merrill Foundation granted him its Annual Literary Award in 1966 for his “outstanding contribution to literature.” In 1971 Colu\n"
     ]
    }
   ],
   "source": [
    "print(data[:500])"
   ]
  },
  {
   "cell_type": "code",
   "execution_count": 4,
   "metadata": {},
   "outputs": [],
   "source": [
    "def cleaner(text):\n",
    "    '''cleans the text of escape chars and the like.'''\n",
    "    stripped = text.strip(' ')\n",
    "    lowered = stripped.lower()\n",
    "    cleaned = re.sub(r\"[^a-zA-Z ^0-9 \\. , ']\", ' ', lowered)\n",
    "    despaced = cleaned.strip(' ')\n",
    "    return despaced"
   ]
  },
  {
   "cell_type": "code",
   "execution_count": 5,
   "metadata": {},
   "outputs": [],
   "source": [
    "# clean the data\n",
    "clean_data = cleaner(data)"
   ]
  },
  {
   "cell_type": "code",
   "execution_count": 6,
   "metadata": {},
   "outputs": [
    {
     "data": {
      "text/plain": [
       "'penguin books      collected fictions      jorge luis borges was born in buenos aires in 1899 and was educated in europe. one of the most widely acclaimed writers of our time, he published many collections of poems, essays, and short stories before his death in geneva in june 1986. in 1961 borges shared the international publishers  prize with samuel beckett. the ingram merrill foundation granted '"
      ]
     },
     "execution_count": 6,
     "metadata": {},
     "output_type": "execute_result"
    }
   ],
   "source": [
    "# check that things look alright\n",
    "clean_data[:400]"
   ]
  },
  {
   "cell_type": "code",
   "execution_count": 7,
   "metadata": {},
   "outputs": [
    {
     "data": {
      "text/plain": [
       "26646"
      ]
     },
     "execution_count": 7,
     "metadata": {},
     "output_type": "execute_result"
    }
   ],
   "source": [
    "# make a list of all unique words, check how many\n",
    "wordlist = clean_data.split(' ')\n",
    "wordset = list(set(clean_data.split(' ')))\n",
    "len(wordset)"
   ]
  },
  {
   "cell_type": "code",
   "execution_count": 8,
   "metadata": {},
   "outputs": [],
   "source": [
    "# get rid of words below a certain frequency\n",
    "freqdict = {word:wordlist.count(word) for word in wordset}"
   ]
  },
  {
   "cell_type": "code",
   "execution_count": 10,
   "metadata": {},
   "outputs": [
    {
     "data": {
      "text/plain": [
       "3723"
      ]
     },
     "execution_count": 10,
     "metadata": {},
     "output_type": "execute_result"
    }
   ],
   "source": [
    "freqdict['i']"
   ]
  },
  {
   "cell_type": "code",
   "execution_count": 11,
   "metadata": {},
   "outputs": [],
   "source": [
    "smaller_list = [ word for word in wordlist if (freqdict[word] >= 10) and (word != '') ] "
   ]
  },
  {
   "cell_type": "code",
   "execution_count": 12,
   "metadata": {},
   "outputs": [
    {
     "data": {
      "text/plain": [
       "2246"
      ]
     },
     "execution_count": 12,
     "metadata": {},
     "output_type": "execute_result"
    }
   ],
   "source": [
    "len(set(smaller_list))"
   ]
  },
  {
   "cell_type": "code",
   "execution_count": 13,
   "metadata": {},
   "outputs": [],
   "source": [
    "small_wordset = list(set(smaller_list))"
   ]
  },
  {
   "cell_type": "code",
   "execution_count": null,
   "metadata": {},
   "outputs": [],
   "source": []
  },
  {
   "cell_type": "code",
   "execution_count": 14,
   "metadata": {},
   "outputs": [],
   "source": [
    "# encode words as ints\n",
    "\n",
    "words_to_ints = {w:i for i,w in enumerate(small_wordset)}\n",
    "ints_to_words = {i:w for i,w in enumerate(small_wordset)}"
   ]
  },
  {
   "cell_type": "code",
   "execution_count": 15,
   "metadata": {},
   "outputs": [
    {
     "data": {
      "text/plain": [
       "1502"
      ]
     },
     "execution_count": 15,
     "metadata": {},
     "output_type": "execute_result"
    }
   ],
   "source": [
    "words_to_ints['and']"
   ]
  },
  {
   "cell_type": "code",
   "execution_count": 16,
   "metadata": {},
   "outputs": [],
   "source": [
    "# Create the Sequence Data\n",
    "\n",
    "maxlen = 40\n",
    "step = 5\n",
    "\n",
    "encoded = [words_to_ints[w] for w in smaller_list]\n",
    "\n",
    "sequences = []\n",
    "next_words = []\n",
    "\n",
    "for ii in range(0, len(encoded)-maxlen, step):\n",
    "    sequences.append(encoded[ii : ii+maxlen])\n",
    "    next_words.append(encoded[ii+maxlen])"
   ]
  },
  {
   "cell_type": "code",
   "execution_count": 17,
   "metadata": {},
   "outputs": [
    {
     "data": {
      "text/plain": [
       "172530"
      ]
     },
     "execution_count": 17,
     "metadata": {},
     "output_type": "execute_result"
    }
   ],
   "source": [
    "len(smaller_list)"
   ]
  },
  {
   "cell_type": "code",
   "execution_count": 18,
   "metadata": {},
   "outputs": [],
   "source": [
    "# Specify x & y\n",
    "\n",
    "x = np.zeros((len(sequences), maxlen, len(small_wordset)), dtype=np.bool)\n",
    "y = np.zeros((len(sequences), len(small_wordset)), dtype=np.bool)\n",
    "\n",
    "for ii, sequence in enumerate(sequences):\n",
    "    for t, word in enumerate(sequence):\n",
    "        x[ii,t,word] = 1\n",
    "        \n",
    "    y[ii, next_words[ii]] = 1"
   ]
  },
  {
   "cell_type": "code",
   "execution_count": 19,
   "metadata": {},
   "outputs": [
    {
     "data": {
      "text/plain": [
       "(34498, 2246)"
      ]
     },
     "execution_count": 19,
     "metadata": {},
     "output_type": "execute_result"
    }
   ],
   "source": [
    "y.shape"
   ]
  },
  {
   "cell_type": "code",
   "execution_count": null,
   "metadata": {},
   "outputs": [],
   "source": [
    "# build the model: a single LSTM\n",
    "\n",
    "model = Sequential()\n",
    "model.add(LSTM(128, input_shape=(maxlen, len(small_wordset))))\n",
    "model.add(Dense(len(small_wordset), activation='softmax'))\n",
    "\n",
    "model.compile(loss='categorical_crossentropy', optimizer='adam')"
   ]
  },
  {
   "cell_type": "code",
   "execution_count": 443,
   "metadata": {},
   "outputs": [],
   "source": [
    "def sample(preds, temperature=1.0):\n",
    "    # helper function to sample an index from a probability array\n",
    "    preds = np.asarray(preds).astype('float64')\n",
    "    preds = np.log(preds) / temperature\n",
    "    exp_preds = np.exp(preds)\n",
    "    preds = exp_preds / np.sum(exp_preds)\n",
    "    probas = np.random.multinomial(1, preds, 1)\n",
    "    return np.argmax(probas)"
   ]
  },
  {
   "cell_type": "code",
   "execution_count": 444,
   "metadata": {},
   "outputs": [],
   "source": [
    "def generate_text(seed, num_words, diversity):\n",
    "    clean_seed = cleaner(seed)\n",
    "    seed_list = clean_seed.split(' ')\n",
    "    \n",
    "    maxlen = 40\n",
    "    step = 1\n",
    "\n",
    "    encoded = [words_to_ints[w] for w in seed_list]\n",
    "    to_pad = 40 - len(encoded)\n",
    "    \n",
    "    if len(encoded) < 40:\n",
    "        zeros = [0] * to_pad\n",
    "        sequence = zeros + encoded\n",
    "    elif len(encoded) > 40:\n",
    "        sequence = encoded[-40:]\n",
    "    else:\n",
    "        sequence = encoded\n",
    "        \n",
    "\n",
    "    for ii in range(0,num_words):\n",
    "        \n",
    "        sequence_last40 = sequence[-40:]\n",
    "        \n",
    "        x_pred = np.zeros((1, maxlen, len(small_wordset)))\n",
    "        for t, word in enumerate(sequence_last40):\n",
    "            x_pred[0, t, word] = 1.\n",
    "\n",
    "        preds = model.predict(x_pred, verbose=0)[0]\n",
    "        next_word = sample(preds, diversity)\n",
    "\n",
    "        sequence.append(next_word)\n",
    "        \n",
    "    output = [ints_to_words[w] for w in sequence][to_pad:]\n",
    "    str_out = ' '.join(output)\n",
    "    return str_out"
   ]
  },
  {
   "cell_type": "code",
   "execution_count": 445,
   "metadata": {},
   "outputs": [],
   "source": [
    "def on_epoch_end(epoch, _):\n",
    "    # Function invoked at end of each epoch. Prints generated text.\n",
    "    print()\n",
    "    print('----- Generating text after Epoch: %d' % epoch)\n",
    "\n",
    "    start_index = random.randint(0, len(smaller_list) - maxlen - 1)\n",
    "    for diversity in [0.2, 0.5, 1.0, 1.2]:\n",
    "        print('----- diversity:', diversity)\n",
    "\n",
    "        \n",
    "        input_list = smaller_list[start_index: start_index + maxlen]\n",
    "        input_sentence = ' '.join(input_list)\n",
    "        print('----- Generating with seed: \"' + input_sentence + '\"')\n",
    "        output = generate_text(input_sentence, 20, diversity)\n",
    "\n",
    "            \n",
    "        print(output)\n",
    "\n",
    "print_callback = LambdaCallback(on_epoch_end=on_epoch_end)"
   ]
  },
  {
   "cell_type": "code",
   "execution_count": 446,
   "metadata": {},
   "outputs": [
    {
     "name": "stdout",
     "output_type": "stream",
     "text": [
      "Train on 34498 samples\n",
      "Epoch 1/20\n",
      "34432/34498 [============================>.] - ETA: 0s - loss: 5.9778\n",
      "----- Generating text after Epoch: 0\n",
      "----- diversity: 0.2\n",
      "----- Generating with seed: \"i do and you do not in others still, we both do. in this one, which the hand of chance has me, you have come to my home in another, when you come through my garden you find me dead\"\n",
      "i do and you do not in others still, we both do. in this one, which the hand of chance has me, you have come to my home in another, when you come through my garden you find me dead the the of the the the in the the the the the the the the the the the the of\n",
      "----- diversity: 0.5\n",
      "----- Generating with seed: \"i do and you do not in others still, we both do. in this one, which the hand of chance has me, you have come to my home in another, when you come through my garden you find me dead\"\n",
      "i do and you do not in others still, we both do. in this one, which the hand of chance has me, you have come to my home in another, when you come through my garden you find me dead to the the to the of the to and the the the and and the as the the in were\n",
      "----- diversity: 1.0\n",
      "----- Generating with seed: \"i do and you do not in others still, we both do. in this one, which the hand of chance has me, you have come to my home in another, when you come through my garden you find me dead\"\n",
      "i do and you do not in others still, we both do. in this one, which the hand of chance has me, you have come to my home in another, when you come through my garden you find me dead in will the alone mirror be, to and by volumes certain of number miracle been to of would scattered and\n",
      "----- diversity: 1.2\n",
      "----- Generating with seed: \"i do and you do not in others still, we both do. in this one, which the hand of chance has me, you have come to my home in another, when you come through my garden you find me dead\"\n",
      "i do and you do not in others still, we both do. in this one, which the hand of chance has me, you have come to my home in another, when you come through my garden you find me dead as fully go military said little first, fence the art ireneo had asked always were with country to the anything\n",
      "34498/34498 [==============================] - 114s 3ms/sample - loss: 5.9767\n",
      "Epoch 2/20\n",
      "34432/34498 [============================>.] - ETA: 0s - loss: 5.7368\n",
      "----- Generating text after Epoch: 1\n",
      "----- diversity: 0.2\n",
      "----- Generating with seed: \"from in the second, from de quincey in the from a letter written by to the pierre in the from back to . from those or it that the entire is to my way of that is as the end\"\n",
      "from in the second, from de quincey in the from a letter written by to the pierre in the from back to . from those or it that the entire is to my way of that is as the end the the the the of the the the the the the the the the the the the the the the\n",
      "----- diversity: 0.5\n",
      "----- Generating with seed: \"from in the second, from de quincey in the from a letter written by to the pierre in the from back to . from those or it that the entire is to my way of that is as the end\"\n",
      "from in the second, from de quincey in the from a letter written by to the pierre in the from back to . from those or it that the entire is to my way of that is as the end the the of had of was of and of the a on and that not the the the the of\n",
      "----- diversity: 1.0\n",
      "----- Generating with seed: \"from in the second, from de quincey in the from a letter written by to the pierre in the from back to . from those or it that the entire is to my way of that is as the end\"\n",
      "from in the second, from de quincey in the from a letter written by to the pierre in the from back to . from those or it that the entire is to my way of that is as the end the has and in those the the bed the playing one lie at immediately felt would on of the for\n",
      "----- diversity: 1.2\n",
      "----- Generating with seed: \"from in the second, from de quincey in the from a letter written by to the pierre in the from back to . from those or it that the entire is to my way of that is as the end\"\n",
      "from in the second, from de quincey in the from a letter written by to the pierre in the from back to . from those or it that the entire is to my way of that is as the end a should elements he and hands. face treasure going no woman n knife that of monk for and silver already\n",
      "34498/34498 [==============================] - 111s 3ms/sample - loss: 5.7372\n",
      "Epoch 3/20\n",
      "34432/34498 [============================>.] - ETA: 0s - loss: 5.7030\n",
      "----- Generating text after Epoch: 2\n",
      "----- diversity: 0.2\n",
      "----- Generating with seed: \"the that him to some of the of and perhaps even of the just at this time the began a in the led by the gaucho aparicio saravia see below . idiarte borda apparently perceived this as against himself, but\"\n",
      "the that him to some of the of and perhaps even of the just at this time the began a in the led by the gaucho aparicio saravia see below . idiarte borda apparently perceived this as against himself, but the the the the the the of the of the the of the the the the the the the the\n",
      "----- diversity: 0.5\n",
      "----- Generating with seed: \"the that him to some of the of and perhaps even of the just at this time the began a in the led by the gaucho aparicio saravia see below . idiarte borda apparently perceived this as against himself, but\"\n",
      "the that him to some of the of and perhaps even of the just at this time the began a in the led by the gaucho aparicio saravia see below . idiarte borda apparently perceived this as against himself, but the the they the his and the the the was have the up of the which the of her he\n",
      "----- diversity: 1.0\n",
      "----- Generating with seed: \"the that him to some of the of and perhaps even of the just at this time the began a in the led by the gaucho aparicio saravia see below . idiarte borda apparently perceived this as against himself, but\"\n",
      "the that him to some of the of and perhaps even of the just at this time the began a in the led by the gaucho aparicio saravia see below . idiarte borda apparently perceived this as against himself, but of the years the false not. on its the would those the symbol world to seems we this was on\n",
      "----- diversity: 1.2\n",
      "----- Generating with seed: \"the that him to some of the of and perhaps even of the just at this time the began a in the led by the gaucho aparicio saravia see below . idiarte borda apparently perceived this as against himself, but\"\n",
      "the that him to some of the of and perhaps even of the just at this time the began a in the led by the gaucho aparicio saravia see below . idiarte borda apparently perceived this as against himself, but once than him i from hope the immediately to forces him knew note to him, the a several died and\n",
      "34498/34498 [==============================] - 109s 3ms/sample - loss: 5.7027\n",
      "Epoch 4/20\n",
      "34432/34498 [============================>.] - ETA: 0s - loss: 5.6663\n",
      "----- Generating text after Epoch: 3\n",
      "----- diversity: 0.2\n",
      "----- Generating with seed: \"carlos argentino beatriz was tall, very slightly in her there was if i may be the something of a a on of or of carlos argentino is a gray haired man of he some sort of position in an library\"\n",
      "carlos argentino beatriz was tall, very slightly in her there was if i may be the something of a a on of or of carlos argentino is a gray haired man of he some sort of position in an library the the of the of the the that the of the of the that the of the the of the\n",
      "----- diversity: 0.5\n",
      "----- Generating with seed: \"carlos argentino beatriz was tall, very slightly in her there was if i may be the something of a a on of or of carlos argentino is a gray haired man of he some sort of position in an library\"\n",
      "carlos argentino beatriz was tall, very slightly in her there was if i may be the something of a a on of or of carlos argentino is a gray haired man of he some sort of position in an library of the for the this of the of the even the a of the of the to the see the\n",
      "----- diversity: 1.0\n",
      "----- Generating with seed: \"carlos argentino beatriz was tall, very slightly in her there was if i may be the something of a a on of or of carlos argentino is a gray haired man of he some sort of position in an library\"\n",
      "carlos argentino beatriz was tall, very slightly in her there was if i may be the something of a a on of or of carlos argentino is a gray haired man of he some sort of position in an library and and london that great uriarte by me of the it or first whose have chest. right paul no were\n",
      "----- diversity: 1.2\n",
      "----- Generating with seed: \"carlos argentino beatriz was tall, very slightly in her there was if i may be the something of a a on of or of carlos argentino is a gray haired man of he some sort of position in an library\"\n",
      "carlos argentino beatriz was tall, very slightly in her there was if i may be the something of a a on of or of carlos argentino is a gray haired man of he some sort of position in an library has paper all other federalist seems seemed corner won't long too m as it night tiger an allowed given feel\n",
      "34498/34498 [==============================] - 102s 3ms/sample - loss: 5.6658\n",
      "Epoch 5/20\n",
      "34432/34498 [============================>.] - ETA: 0s - loss: 5.6180\n",
      "----- Generating text after Epoch: 4\n",
      "----- diversity: 0.2\n",
      "----- Generating with seed: \"the of the by naked and an to such moved by and my her not to go back. she swore to help her, swore to her the other woman answered that she was and she returned that night to the\"\n",
      "the of the by naked and an to such moved by and my her not to go back. she swore to help her, swore to her the other woman answered that she was and she returned that night to the of the of the and the of the of the of the of the of the of the of the\n",
      "----- diversity: 0.5\n",
      "----- Generating with seed: \"the of the by naked and an to such moved by and my her not to go back. she swore to help her, swore to her the other woman answered that she was and she returned that night to the\"\n",
      "the of the by naked and an to such moved by and my her not to go back. she swore to help her, swore to her the other woman answered that she was and she returned that night to the big a as the of the of the of the mart that would he and the on a when of\n",
      "----- diversity: 1.0\n",
      "----- Generating with seed: \"the of the by naked and an to such moved by and my her not to go back. she swore to help her, swore to her the other woman answered that she was and she returned that night to the\"\n",
      "the of the by naked and an to such moved by and my her not to go back. she swore to help her, swore to her the other woman answered that she was and she returned that night to the nobody and latin which for was that try of our not of much been look of the ever a could\n",
      "----- diversity: 1.2\n",
      "----- Generating with seed: \"the of the by naked and an to such moved by and my her not to go back. she swore to help her, swore to her the other woman answered that she was and she returned that night to the\"\n",
      "the of the by naked and an to such moved by and my her not to go back. she swore to help her, swore to her the other woman answered that she was and she returned that night to the that conversation, earth long spoken to that dressed said a remember the things single her, and made never but volume\n",
      "34498/34498 [==============================] - 102s 3ms/sample - loss: 5.6182\n",
      "Epoch 6/20\n",
      "34432/34498 [============================>.] - ETA: 0s - loss: 5.5576\n",
      "----- Generating text after Epoch: 5\n",
      "----- diversity: 0.2\n",
      "----- Generating with seed: \"was a tied about the with the third point pulled up between the and into the to form a or a sort of it was worn over a of white that out the is a wide that was worn gathered\"\n",
      "was a tied about the with the third point pulled up between the and into the to form a or a sort of it was worn over a of white that out the is a wide that was worn gathered the of the of the of the of the of the of the of the of the of the of\n",
      "----- diversity: 0.5\n",
      "----- Generating with seed: \"was a tied about the with the third point pulled up between the and into the to form a or a sort of it was worn over a of white that out the is a wide that was worn gathered\"\n",
      "was a tied about the with the third point pulled up between the and into the to form a or a sort of it was worn over a of white that out the is a wide that was worn gathered had to the in the of the of the of the of the of the of the of the of\n",
      "----- diversity: 1.0\n",
      "----- Generating with seed: \"was a tied about the with the third point pulled up between the and into the to form a or a sort of it was worn over a of white that out the is a wide that was worn gathered\"\n",
      "was a tied about the with the third point pulled up between the and into the to form a or a sort of it was worn over a of white that out the is a wide that was worn gathered by took used and the condemned story to brodie's memory. were come to a who the opened in the central\n",
      "----- diversity: 1.2\n",
      "----- Generating with seed: \"was a tied about the with the third point pulled up between the and into the to form a or a sort of it was worn over a of white that out the is a wide that was worn gathered\"\n",
      "was a tied about the with the third point pulled up between the and into the to form a or a sort of it was worn over a of white that out the is a wide that was worn gathered there then, year an on the first clara was understand of to a public down the years few light. an\n",
      "34498/34498 [==============================] - 105s 3ms/sample - loss: 5.5572\n",
      "Epoch 7/20\n",
      "34432/34498 [============================>.] - ETA: 0s - loss: 5.4907\n",
      "----- Generating text after Epoch: 6\n",
      "----- diversity: 0.2\n",
      "----- Generating with seed: \"so he with the of past and books. ... i do not know whether that vague of his is or not i do know that his books too greatly to i having lent to a certain the first book that\"\n",
      "so he with the of past and books. ... i do not know whether that vague of his is or not i do know that his books too greatly to i having lent to a certain the first book that the of the of the of the of the of the of the of the of the of the of\n",
      "----- diversity: 0.5\n",
      "----- Generating with seed: \"so he with the of past and books. ... i do not know whether that vague of his is or not i do know that his books too greatly to i having lent to a certain the first book that\"\n",
      "so he with the of past and books. ... i do not know whether that vague of his is or not i do know that his books too greatly to i having lent to a certain the first book that i is to the of the of the of the of the of the of the of the of the\n",
      "----- diversity: 1.0\n",
      "----- Generating with seed: \"so he with the of past and books. ... i do not know whether that vague of his is or not i do know that his books too greatly to i having lent to a certain the first book that\"\n",
      "so he with the of past and books. ... i do not know whether that vague of his is or not i do know that his books too greatly to i having lent to a certain the first book that i these upon later i little probably be not i thought century dean to down the wanted in into took\n",
      "----- diversity: 1.2\n",
      "----- Generating with seed: \"so he with the of past and books. ... i do not know whether that vague of his is or not i do know that his books too greatly to i having lent to a certain the first book that\"\n",
      "so he with the of past and books. ... i do not know whether that vague of his is or not i do know that his books too greatly to i having lent to a certain the first book that thoughts off now have hero with dawn on the and any about stopped to voice. the city chance of man,\n",
      "34498/34498 [==============================] - 110s 3ms/sample - loss: 5.4910\n",
      "Epoch 8/20\n",
      "34432/34498 [============================>.] - ETA: 0s - loss: 5.4260\n",
      "----- Generating text after Epoch: 7\n",
      "----- diversity: 0.2\n",
      "----- Generating with seed: \"the end. in later times of when he the of the of and pulled up to the in one of new first a that looked like the by of a , he opened a second this one a that was\"\n",
      "the end. in later times of when he the of the of and pulled up to the in one of new first a that looked like the by of a , he opened a second this one a that was the of the of the of the of the of the of the of the of the of the of\n",
      "----- diversity: 0.5\n",
      "----- Generating with seed: \"the end. in later times of when he the of the of and pulled up to the in one of new first a that looked like the by of a , he opened a second this one a that was\"\n",
      "the end. in later times of when he the of the of and pulled up to the in one of new first a that looked like the by of a , he opened a second this one a that was to the of the of a of the of the of the of the of the and i was a\n",
      "----- diversity: 1.0\n",
      "----- Generating with seed: \"the end. in later times of when he the of the of and pulled up to the in one of new first a that looked like the by of a , he opened a second this one a that was\"\n",
      "the end. in later times of when he the of the of and pulled up to the in one of new first a that looked like the by of a , he opened a second this one a that was his that her tiger, i for done in the story of the attributed of his moment him to the but\n",
      "----- diversity: 1.2\n",
      "----- Generating with seed: \"the end. in later times of when he the of the of and pulled up to the in one of new first a that looked like the by of a , he opened a second this one a that was\"\n",
      "the end. in later times of when he the of the of and pulled up to the in one of new first a that looked like the by of a , he opened a second this one a that was later, owner first and has i to exact others, volume only over and by the unitarians first it. , the\n",
      "34498/34498 [==============================] - 105s 3ms/sample - loss: 5.4261\n",
      "Epoch 9/20\n",
      "34432/34498 [============================>.] - ETA: 0s - loss: 5.3646\n",
      "----- Generating text after Epoch: 8\n",
      "----- diversity: 0.2\n",
      "----- Generating with seed: \"them. no one closed the door down with our we left. i noticed that the house had a after about fifteen minutes of we turned toward the left. in the distance i saw a kind of with a it is\"\n",
      "them. no one closed the door down with our we left. i noticed that the house had a after about fifteen minutes of we turned toward the left. in the distance i saw a kind of with a it is the of the of the of the of the of the of the of the of the of the of\n",
      "----- diversity: 0.5\n",
      "----- Generating with seed: \"them. no one closed the door down with our we left. i noticed that the house had a after about fifteen minutes of we turned toward the left. in the distance i saw a kind of with a it is\"\n",
      "them. no one closed the door down with our we left. i noticed that the house had a after about fifteen minutes of we turned toward the left. in the distance i saw a kind of with a it is the of the of the of the of the of the of the and the of the of the of\n",
      "----- diversity: 1.0\n",
      "----- Generating with seed: \"them. no one closed the door down with our we left. i noticed that the house had a after about fifteen minutes of we turned toward the left. in the distance i saw a kind of with a it is\"\n",
      "them. no one closed the door down with our we left. i noticed that the house had a after about fifteen minutes of we turned toward the left. in the distance i saw a kind of with a it is to a late looking of a behind he chaos in the eternity did and one of thy he had a\n",
      "----- diversity: 1.2\n",
      "----- Generating with seed: \"them. no one closed the door down with our we left. i noticed that the house had a after about fifteen minutes of we turned toward the left. in the distance i saw a kind of with a it is\"\n",
      "them. no one closed the door down with our we left. i noticed that the house had a after about fifteen minutes of we turned toward the left. in the distance i saw a kind of with a it is gauchos lost second fight, not of it. deep not from curious method had country, say that the people were that\n",
      "34498/34498 [==============================] - 102s 3ms/sample - loss: 5.3658\n",
      "Epoch 10/20\n",
      "34432/34498 [============================>.] - ETA: 0s - loss: 5.3073\n",
      "----- Generating text after Epoch: 9\n",
      "----- diversity: 0.2\n",
      "----- Generating with seed: \"that our own can no longer be by the tribe it is as though the tribe had forgotten the written language and only the spoken one. the are between for that purpose and someone is accused of the of the\"\n",
      "that our own can no longer be by the tribe it is as though the tribe had forgotten the written language and only the spoken one. the are between for that purpose and someone is accused of the of the of the of the of the of the of the of the of the of the of the of the\n",
      "----- diversity: 0.5\n",
      "----- Generating with seed: \"that our own can no longer be by the tribe it is as though the tribe had forgotten the written language and only the spoken one. the are between for that purpose and someone is accused of the of the\"\n",
      "that our own can no longer be by the tribe it is as though the tribe had forgotten the written language and only the spoken one. the are between for that purpose and someone is accused of the of the and they were the of the and and the of the and the of the of the of the of\n",
      "----- diversity: 1.0\n",
      "----- Generating with seed: \"that our own can no longer be by the tribe it is as though the tribe had forgotten the written language and only the spoken one. the are between for that purpose and someone is accused of the of the\"\n",
      "that our own can no longer be by the tribe it is as though the tribe had forgotten the written language and only the spoken one. the are between for that purpose and someone is accused of the of the man of throughout the old publish my spoke on the liked of poet most he desert an discovered killing single\n",
      "----- diversity: 1.2\n",
      "----- Generating with seed: \"that our own can no longer be by the tribe it is as though the tribe had forgotten the written language and only the spoken one. the are between for that purpose and someone is accused of the of the\"\n",
      "that our own can no longer be by the tribe it is as though the tribe had forgotten the written language and only the spoken one. the are between for that purpose and someone is accused of the of the , a behind this pages i words eyes pages first never and after seen quest such of no certain lips\n",
      "34498/34498 [==============================] - 103s 3ms/sample - loss: 5.3074\n",
      "Epoch 11/20\n",
      "34432/34498 [============================>.] - ETA: 0s - loss: 5.2537\n",
      "----- Generating text after Epoch: 10\n",
      "----- diversity: 0.2\n",
      "----- Generating with seed: \"and worked in the sight of thousands of people, there was no need of by one of the own that is however, what to assume an error in the is but it is no less to assume that a act\"\n",
      "and worked in the sight of thousands of people, there was no need of by one of the own that is however, what to assume an error in the is but it is no less to assume that a act of the of the of the of the of the of the of the of the of the of the\n",
      "----- diversity: 0.5\n",
      "----- Generating with seed: \"and worked in the sight of thousands of people, there was no need of by one of the own that is however, what to assume an error in the is but it is no less to assume that a act\"\n",
      "and worked in the sight of thousands of people, there was no need of by one of the own that is however, what to assume an error in the is but it is no less to assume that a act of a the of the window, and the of the of the of the of the of the world of\n",
      "----- diversity: 1.0\n",
      "----- Generating with seed: \"and worked in the sight of thousands of people, there was no need of by one of the own that is however, what to assume an error in the is but it is no less to assume that a act\"\n",
      "and worked in the sight of thousands of people, there was no need of by one of the own that is however, what to assume an error in the is but it is no less to assume that a act summer do see to him a on his artifices either. last men grew that dream, in borges the from for\n",
      "----- diversity: 1.2\n",
      "----- Generating with seed: \"and worked in the sight of thousands of people, there was no need of by one of the own that is however, what to assume an error in the is but it is no less to assume that a act\"\n",
      "and worked in the sight of thousands of people, there was no need of by one of the own that is however, what to assume an error in the is but it is no less to assume that a act and sleep, which is history some voice of your or still arms had i said, every while there passed not\n",
      "34498/34498 [==============================] - 103s 3ms/sample - loss: 5.2533\n",
      "Epoch 12/20\n",
      "34432/34498 [============================>.] - ETA: 0s - loss: 5.1997\n",
      "----- Generating text after Epoch: 11\n",
      "----- diversity: 0.2\n",
      "----- Generating with seed: \"yet not all men were so that when it was that the queen was going to a man to the laws of england in this the least evil of men were because they felt that law is better than the\"\n",
      "yet not all men were so that when it was that the queen was going to a man to the laws of england in this the least evil of men were because they felt that law is better than the of the of the of the of the of the of the of the of the of the of the\n",
      "----- diversity: 0.5\n",
      "----- Generating with seed: \"yet not all men were so that when it was that the queen was going to a man to the laws of england in this the least evil of men were because they felt that law is better than the\"\n",
      "yet not all men were so that when it was that the queen was going to a man to the laws of england in this the least evil of men were because they felt that law is better than the was of the of the of the of the of the of the of the and the of the the\n",
      "----- diversity: 1.0\n",
      "----- Generating with seed: \"yet not all men were so that when it was that the queen was going to a man to the laws of england in this the least evil of men were because they felt that law is better than the\"\n",
      "yet not all men were so that when it was that the queen was going to a man to the laws of england in this the least evil of men were because they felt that law is better than the years died of the name, daniel fact had name who is on to to tradition and happened he i brought\n",
      "----- diversity: 1.2\n",
      "----- Generating with seed: \"yet not all men were so that when it was that the queen was going to a man to the laws of england in this the least evil of men were because they felt that law is better than the\"\n",
      "yet not all men were so that when it was that the queen was going to a man to the laws of england in this the least evil of men were because they felt that law is better than the men never go allow walked high, one who'd in enough which by forking believed that corner her man. rose the\n",
      "34498/34498 [==============================] - 104s 3ms/sample - loss: 5.2001\n",
      "Epoch 13/20\n",
      "34432/34498 [============================>.] - ETA: 0s - loss: 5.1498\n",
      "----- Generating text after Epoch: 12\n",
      "----- diversity: 0.2\n",
      "----- Generating with seed: \"away the she did it, emma wished she hadn't an act of and on that into the of her body, into the and lay upon emma like but slowly she got up and began to the room had no bright\"\n",
      "away the she did it, emma wished she hadn't an act of and on that into the of her body, into the and lay upon emma like but slowly she got up and began to the room had no bright to the of the of the of the of the of the of the of the of the of the\n",
      "----- diversity: 0.5\n",
      "----- Generating with seed: \"away the she did it, emma wished she hadn't an act of and on that into the of her body, into the and lay upon emma like but slowly she got up and began to the room had no bright\"\n",
      "away the she did it, emma wished she hadn't an act of and on that into the of her body, into the and lay upon emma like but slowly she got up and began to the room had no bright in the of the first of the and the story and we would be and a of a but the\n",
      "----- diversity: 1.0\n",
      "----- Generating with seed: \"away the she did it, emma wished she hadn't an act of and on that into the of her body, into the and lay upon emma like but slowly she got up and began to the room had no bright\"\n",
      "away the she did it, emma wished she hadn't an act of and on that into the of her body, into the and lay upon emma like but slowly she got up and began to the room had no bright who now in the man is not and by and a book monk is a again are a around indeed\n",
      "----- diversity: 1.2\n",
      "----- Generating with seed: \"away the she did it, emma wished she hadn't an act of and on that into the of her body, into the and lay upon emma like but slowly she got up and began to the room had no bright\"\n",
      "away the she did it, emma wished she hadn't an act of and on that into the of her body, into the and lay upon emma like but slowly she got up and began to the room had no bright them because myself that gradually of ... that historical on this stones is future the and try and a man's\n",
      "34498/34498 [==============================] - 103s 3ms/sample - loss: 5.1499\n",
      "Epoch 14/20\n",
      "34432/34498 [============================>.] - ETA: 0s - loss: 5.1003\n",
      "----- Generating text after Epoch: 13\n",
      "----- diversity: 0.2\n",
      "----- Generating with seed: \"him, but he wouldn't let me. my was made by my she could not herself to my with what she called the nor to the fact that i'd begun to them. the essential in the story i am telling you,\"\n",
      "him, but he wouldn't let me. my was made by my she could not herself to my with what she called the nor to the fact that i'd begun to them. the essential in the story i am telling you, a of the of the of the and the of the of the of the of the of the of\n",
      "----- diversity: 0.5\n",
      "----- Generating with seed: \"him, but he wouldn't let me. my was made by my she could not herself to my with what she called the nor to the fact that i'd begun to them. the essential in the story i am telling you,\"\n",
      "him, but he wouldn't let me. my was made by my she could not herself to my with what she called the nor to the fact that i'd begun to them. the essential in the story i am telling you, the of the were of the of the the would be the door of my the of the of the\n",
      "----- diversity: 1.0\n",
      "----- Generating with seed: \"him, but he wouldn't let me. my was made by my she could not herself to my with what she called the nor to the fact that i'd begun to them. the essential in the story i am telling you,\"\n",
      "him, but he wouldn't let me. my was made by my she could not herself to my with what she called the nor to the fact that i'd begun to them. the essential in the story i am telling you, about in jlb's and the and on the years of the essential somebody no to literature, all the and and\n",
      "----- diversity: 1.2\n",
      "----- Generating with seed: \"him, but he wouldn't let me. my was made by my she could not herself to my with what she called the nor to the fact that i'd begun to them. the essential in the story i am telling you,\"\n",
      "him, but he wouldn't let me. my was made by my she could not herself to my with what she called the nor to the fact that i'd begun to them. the essential in the story i am telling you, now, in us of a men last, own well. who in his see had alone errors if that necessary the\n",
      "34498/34498 [==============================] - 103s 3ms/sample - loss: 5.1005\n",
      "Epoch 15/20\n",
      "34432/34498 [============================>.] - ETA: 0s - loss: 5.0535\n",
      "----- Generating text after Epoch: 14\n",
      "----- diversity: 0.2\n",
      "----- Generating with seed: \"the god saw the told by the book of the i the that at their faces here the priest is the story of the of the world told in the the sacred the modern translation is by the book of\"\n",
      "the god saw the told by the book of the i the that at their faces here the priest is the story of the of the world told in the the sacred the modern translation is by the book of the of the of the and the of the of the of the of the of the of the of\n",
      "----- diversity: 0.5\n",
      "----- Generating with seed: \"the god saw the told by the book of the i the that at their faces here the priest is the story of the of the world told in the the sacred the modern translation is by the book of\"\n",
      "the god saw the told by the book of the i the that at their faces here the priest is the story of the of the world told in the the sacred the modern translation is by the book of the of the of the of the is a of the of the same and of the of a of\n",
      "----- diversity: 1.0\n",
      "----- Generating with seed: \"the god saw the told by the book of the i the that at their faces here the priest is the story of the of the world told in the the sacred the modern translation is by the book of\"\n",
      "the god saw the told by the book of the i the that at their faces here the priest is the story of the of the world told in the the sacred the modern translation is by the book of the prison the watched and again another christian more moment three it c no to tell several to stood the\n",
      "----- diversity: 1.2\n",
      "----- Generating with seed: \"the god saw the told by the book of the i the that at their faces here the priest is the story of the of the world told in the the sacred the modern translation is by the book of\"\n",
      "the god saw the told by the book of the i the that at their faces here the priest is the story of the of the world told in the the sacred the modern translation is by the book of dami a through a surely a or bullet quite a first moment at and yet secret, party ts'ui three that\n",
      "34498/34498 [==============================] - 103s 3ms/sample - loss: 5.0539\n",
      "Epoch 16/20\n",
      "34432/34498 [============================>.] - ETA: 0s - loss: 5.0040\n",
      "----- Generating text after Epoch: 15\n",
      "----- diversity: 0.2\n",
      "----- Generating with seed: \"sent the to i knew you would add the point, the point that makes a perfect the point that the place where a precise death you. i have done all this, l all this, in order to draw you to\"\n",
      "sent the to i knew you would add the point, the point that makes a perfect the point that the place where a precise death you. i have done all this, l all this, in order to draw you to the of the of the of the of the and the of the and the of the of the of\n",
      "----- diversity: 0.5\n",
      "----- Generating with seed: \"sent the to i knew you would add the point, the point that makes a perfect the point that the place where a precise death you. i have done all this, l all this, in order to draw you to\"\n",
      "sent the to i knew you would add the point, the point that makes a perfect the point that the place where a precise death you. i have done all this, l all this, in order to draw you to his he was a of the of the and the of the and of the which is to the of\n",
      "----- diversity: 1.0\n",
      "----- Generating with seed: \"sent the to i knew you would add the point, the point that makes a perfect the point that the place where a precise death you. i have done all this, l all this, in order to draw you to\"\n",
      "sent the to i knew you would add the point, the point that makes a perfect the point that the place where a precise death you. i have done all this, l all this, in order to draw you to be ever leaving me, to don't a in the first knows purpose a so so truly i have on all\n",
      "----- diversity: 1.2\n",
      "----- Generating with seed: \"sent the to i knew you would add the point, the point that makes a perfect the point that the place where a precise death you. i have done all this, l all this, in order to draw you to\"\n",
      "sent the to i knew you would add the point, the point that makes a perfect the point that the place where a precise death you. i have done all this, l all this, in order to draw you to and this, soft respect the i have i know round where to my he thought that he for scattered and\n",
      "34498/34498 [==============================] - 106s 3ms/sample - loss: 5.0032\n",
      "Epoch 17/20\n",
      "34432/34498 [============================>.] - ETA: 0s - loss: 4.9537\n",
      "----- Generating text after Epoch: 16\n",
      "----- diversity: 0.2\n",
      "----- Generating with seed: \"that i shall never speak those words, because i no longer remember n. let the mystery upon the die with me. he who has glimpsed the universe, he who has glimpsed the burning of the universe, can have no thought\"\n",
      "that i shall never speak those words, because i no longer remember n. let the mystery upon the die with me. he who has glimpsed the universe, he who has glimpsed the burning of the universe, can have no thought to the of the of the of the of the of the and the of the of the of the\n",
      "----- diversity: 0.5\n",
      "----- Generating with seed: \"that i shall never speak those words, because i no longer remember n. let the mystery upon the die with me. he who has glimpsed the universe, he who has glimpsed the burning of the universe, can have no thought\"\n",
      "that i shall never speak those words, because i no longer remember n. let the mystery upon the die with me. he who has glimpsed the universe, he who has glimpsed the burning of the universe, can have no thought i have to a of the and or he had to the of the time the of the of the\n",
      "----- diversity: 1.0\n",
      "----- Generating with seed: \"that i shall never speak those words, because i no longer remember n. let the mystery upon the die with me. he who has glimpsed the universe, he who has glimpsed the burning of the universe, can have no thought\"\n",
      "that i shall never speak those words, because i no longer remember n. let the mystery upon the die with me. he who has glimpsed the universe, he who has glimpsed the burning of the universe, can have no thought will such else. things could the life of the deity was its of the back, of their had to the\n",
      "----- diversity: 1.2\n",
      "----- Generating with seed: \"that i shall never speak those words, because i no longer remember n. let the mystery upon the die with me. he who has glimpsed the universe, he who has glimpsed the burning of the universe, can have no thought\"\n",
      "that i shall never speak those words, because i no longer remember n. let the mystery upon the die with me. he who has glimpsed the universe, he who has glimpsed the burning of the universe, can have no thought for a dream of the case find k this or lying was could but from to buenos al all thinking\n",
      "34498/34498 [==============================] - 106s 3ms/sample - loss: 4.9532\n",
      "Epoch 18/20\n",
      "34432/34498 [============================>.] - ETA: 0s - loss: 4.9071\n",
      "----- Generating text after Epoch: 17\n",
      "----- diversity: 0.2\n",
      "----- Generating with seed: \"good while later, there came a at the front door a big and a big voice, too. at that, everybody got still then a man's chest the doors open and the man himself stepped the man the voice a good\"\n",
      "good while later, there came a at the front door a big and a big voice, too. at that, everybody got still then a man's chest the doors open and the man himself stepped the man the voice a good the of the of the of the and the and the of the of the and the of the of\n",
      "----- diversity: 0.5\n",
      "----- Generating with seed: \"good while later, there came a at the front door a big and a big voice, too. at that, everybody got still then a man's chest the doors open and the man himself stepped the man the voice a good\"\n",
      "good while later, there came a at the front door a big and a big voice, too. at that, everybody got still then a man's chest the doors open and the man himself stepped the man the voice a good of the which was a of a and the and the of the two the of the and the of\n",
      "----- diversity: 1.0\n",
      "----- Generating with seed: \"good while later, there came a at the front door a big and a big voice, too. at that, everybody got still then a man's chest the doors open and the man himself stepped the man the voice a good\"\n",
      "good while later, there came a at the front door a big and a big voice, too. at that, everybody got still then a man's chest the doors open and the man himself stepped the man the voice a good the things up use the owner to him if and will hope that a then he might that might to\n",
      "----- diversity: 1.2\n",
      "----- Generating with seed: \"good while later, there came a at the front door a big and a big voice, too. at that, everybody got still then a man's chest the doors open and the man himself stepped the man the voice a good\"\n",
      "good while later, there came a at the front door a big and a big voice, too. at that, everybody got still then a man's chest the doors open and the man himself stepped the man the voice a good best you remained thinking nine far feared i i am out yet which the wish he went fully go an\n",
      "34498/34498 [==============================] - 107s 3ms/sample - loss: 4.9073\n",
      "Epoch 19/20\n",
      "34432/34498 [============================>.] - ETA: 0s - loss: 4.8579\n",
      "----- Generating text after Epoch: 18\n",
      "----- diversity: 0.2\n",
      "----- Generating with seed: \"south itself had decided that dahlmann should accept the dahlmann to pick up the and as he did he sensed two things first, that that virtually committed him to fight, and second, that in his hand the would serve less\"\n",
      "south itself had decided that dahlmann should accept the dahlmann to pick up the and as he did he sensed two things first, that that virtually committed him to fight, and second, that in his hand the would serve less to the of the of the of the of the of the of the of the and the of the\n",
      "----- diversity: 0.5\n",
      "----- Generating with seed: \"south itself had decided that dahlmann should accept the dahlmann to pick up the and as he did he sensed two things first, that that virtually committed him to fight, and second, that in his hand the would serve less\"\n",
      "south itself had decided that dahlmann should accept the dahlmann to pick up the and as he did he sensed two things first, that that virtually committed him to fight, and second, that in his hand the would serve less to my the of the of the owner and the of the the of and and the waters of the\n",
      "----- diversity: 1.0\n",
      "----- Generating with seed: \"south itself had decided that dahlmann should accept the dahlmann to pick up the and as he did he sensed two things first, that that virtually committed him to fight, and second, that in his hand the would serve less\"\n",
      "south itself had decided that dahlmann should accept the dahlmann to pick up the and as he did he sensed two things first, that that virtually committed him to fight, and second, that in his hand the would serve less no asked possession came to the kind of the story drawing juan another which al has on the future features\n",
      "----- diversity: 1.2\n",
      "----- Generating with seed: \"south itself had decided that dahlmann should accept the dahlmann to pick up the and as he did he sensed two things first, that that virtually committed him to fight, and second, that in his hand the would serve less\"\n",
      "south itself had decided that dahlmann should accept the dahlmann to pick up the and as he did he sensed two things first, that that virtually committed him to fight, and second, that in his hand the would serve less to think from the the and course had been by turns just other china an man, abu several air, became\n",
      "34498/34498 [==============================] - 107s 3ms/sample - loss: 4.8584\n",
      "Epoch 20/20\n",
      "34432/34498 [============================>.] - ETA: 0s - loss: 4.8140\n",
      "----- Generating text after Epoch: 19\n",
      "----- diversity: 0.2\n",
      "----- Generating with seed: \"silent hope did not me in the river of has not failed me. that recalled having been and before that, and before that, some other in order to recall similar i have no need of death, nor even of i\"\n",
      "silent hope did not me in the river of has not failed me. that recalled having been and before that, and before that, some other in order to recall similar i have no need of death, nor even of i am not a of the of the of the and the of the and the of the and the of\n",
      "----- diversity: 0.5\n",
      "----- Generating with seed: \"silent hope did not me in the river of has not failed me. that recalled having been and before that, and before that, some other in order to recall similar i have no need of death, nor even of i\"\n",
      "silent hope did not me in the river of has not failed me. that recalled having been and before that, and before that, some other in order to recall similar i have no need of death, nor even of i was the of the and and the of the and of the and the of the and the of the\n",
      "----- diversity: 1.0\n",
      "----- Generating with seed: \"silent hope did not me in the river of has not failed me. that recalled having been and before that, and before that, some other in order to recall similar i have no need of death, nor even of i\"\n",
      "silent hope did not me in the river of has not failed me. that recalled having been and before that, and before that, some other in order to recall similar i have no need of death, nor even of i felt that my dahlmann have every later the soon private for my who says with the son of dr. its\n",
      "----- diversity: 1.2\n",
      "----- Generating with seed: \"silent hope did not me in the river of has not failed me. that recalled having been and before that, and before that, some other in order to recall similar i have no need of death, nor even of i\"\n",
      "silent hope did not me in the river of has not failed me. that recalled having been and before that, and before that, some other in order to recall similar i have no need of death, nor even of i look quite my because night than memory fact it three each blade and but barely ground i time he at\n",
      "34498/34498 [==============================] - 105s 3ms/sample - loss: 4.8151\n"
     ]
    },
    {
     "data": {
      "text/plain": [
       "<tensorflow.python.keras.callbacks.History at 0x1f4cae473c8>"
      ]
     },
     "execution_count": 446,
     "metadata": {},
     "output_type": "execute_result"
    }
   ],
   "source": [
    "with tf.device('/gpu:0'):\n",
    "    model.fit(x, y,\n",
    "              batch_size=128,\n",
    "              epochs=20,\n",
    "              callbacks=[print_callback])"
   ]
  },
  {
   "cell_type": "code",
   "execution_count": 457,
   "metadata": {},
   "outputs": [
    {
     "data": {
      "text/plain": [
       "\"the knife of the gaucho lay in the sand the city of this with the which is su to the story of the the names world was sometimes in his he was long of the house man's i was a dark and and the only two the of the which is taking of his and the published one of\""
      ]
     },
     "execution_count": 457,
     "metadata": {},
     "output_type": "execute_result"
    }
   ],
   "source": [
    "generate_text('the knife of the gaucho lay in the sand',50, 0.8)"
   ]
  },
  {
   "cell_type": "markdown",
   "metadata": {
    "colab_type": "text",
    "id": "zE4a4O7Bp5x1"
   },
   "source": [
    "# Resources and Stretch Goals"
   ]
  },
  {
   "cell_type": "markdown",
   "metadata": {
    "colab_type": "text",
    "id": "uT3UV3gap9H6"
   },
   "source": [
    "## Stretch goals:\n",
    "- Refine the training and generation of text to be able to ask for different genres/styles of Shakespearean text (e.g. plays versus sonnets)\n",
    "- Train a classification model that takes text and returns which work of Shakespeare it is most likely to be from\n",
    "- Make it more performant! Many possible routes here - lean on Keras, optimize the code, and/or use more resources (AWS, etc.)\n",
    "- Revisit the news example from class, and improve it - use categories or tags to refine the model/generation, or train a news classifier\n",
    "- Run on bigger, better data\n",
    "\n",
    "## Resources:\n",
    "- [The Unreasonable Effectiveness of Recurrent Neural Networks](https://karpathy.github.io/2015/05/21/rnn-effectiveness/) - a seminal writeup demonstrating a simple but effective character-level NLP RNN\n",
    "- [Simple NumPy implementation of RNN](https://github.com/JY-Yoon/RNN-Implementation-using-NumPy/blob/master/RNN%20Implementation%20using%20NumPy.ipynb) - Python 3 version of the code from \"Unreasonable Effectiveness\"\n",
    "- [TensorFlow RNN Tutorial](https://github.com/tensorflow/models/tree/master/tutorials/rnn) - code for training a RNN on the Penn Tree Bank language dataset\n",
    "- [4 part tutorial on RNN](http://www.wildml.com/2015/09/recurrent-neural-networks-tutorial-part-1-introduction-to-rnns/) - relates RNN to the vanishing gradient problem, and provides example implementation\n",
    "- [RNN training tips and tricks](https://github.com/karpathy/char-rnn#tips-and-tricks) - some rules of thumb for parameterizing and training your RNN"
   ]
  }
 ],
 "metadata": {
  "kernelspec": {
   "display_name": "U4S3, Deep Learning 2",
   "language": "python",
   "name": "u4s3-deep_learning_20"
  },
  "language_info": {
   "codemirror_mode": {
    "name": "ipython",
    "version": 3
   },
   "file_extension": ".py",
   "mimetype": "text/x-python",
   "name": "python",
   "nbconvert_exporter": "python",
   "pygments_lexer": "ipython3",
   "version": "3.7.3"
  }
 },
 "nbformat": 4,
 "nbformat_minor": 4
}
