{
  "nbformat": 4,
  "nbformat_minor": 0,
  "metadata": {
    "kernelspec": {
      "name": "python3",
      "display_name": "Python 3"
    },
    "colab": {
      "name": "LS_DS_431_RNN_and_LSTM_Assignment.ipynb",
      "provenance": [],
      "include_colab_link": true
    },
    "accelerator": "GPU"
  },
  "cells": [
    {
      "cell_type": "markdown",
      "metadata": {
        "id": "view-in-github",
        "colab_type": "text"
      },
      "source": [
        "<a href=\"https://colab.research.google.com/github/leehanchung/DS-Unit-4-Sprint-3-Deep-Learning/blob/master/module1-rnn-and-lstm/LS_DS_431_RNN_and_LSTM_Assignment.ipynb\" target=\"_parent\"><img src=\"https://colab.research.google.com/assets/colab-badge.svg\" alt=\"Open In Colab\"/></a>"
      ]
    },
    {
      "cell_type": "markdown",
      "metadata": {
        "id": "Z4ghns5_s1Ni",
        "colab_type": "text"
      },
      "source": [
        "<img align=\"left\" src=\"https://lever-client-logos.s3.amazonaws.com/864372b1-534c-480e-acd5-9711f850815c-1524247202159.png\" width=200>\n",
        "<br></br>\n",
        "<br></br>\n",
        "\n",
        "## *Data Science Unit 4 Sprint 3 Assignment 1*\n",
        "\n",
        "# Recurrent Neural Networks and Long Short Term Memory (LSTM)\n",
        "\n",
        "![Monkey at a typewriter](https://upload.wikimedia.org/wikipedia/commons/thumb/3/3c/Chimpanzee_seated_at_typewriter.jpg/603px-Chimpanzee_seated_at_typewriter.jpg)\n",
        "\n",
        "It is said that [infinite monkeys typing for an infinite amount of time](https://en.wikipedia.org/wiki/Infinite_monkey_theorem) will eventually type, among other things, the complete works of Wiliam Shakespeare. Let's see if we can get there a bit faster, with the power of Recurrent Neural Networks and LSTM.\n",
        "\n",
        "This text file contains the complete works of Shakespeare: https://www.gutenberg.org/files/100/100-0.txt\n",
        "\n",
        "Use it as training data for an RNN - you can keep it simple and train character level, and that is suggested as an initial approach.\n",
        "\n",
        "Then, use that trained RNN to generate Shakespearean-ish text. Your goal - a function that can take, as an argument, the size of text (e.g. number of characters or lines) to generate, and returns generated text of that size.\n",
        "\n",
        "Note - Shakespeare wrote an awful lot. It's OK, especially initially, to sample/use smaller data and parameters, so you can have a tighter feedback loop when you're trying to get things running. Then, once you've got a proof of concept - start pushing it more!"
      ]
    },
    {
      "cell_type": "code",
      "metadata": {
        "colab_type": "code",
        "id": "Ltj1je1fp5rO",
        "outputId": "74c1b7ce-dc8c-4627-c2ac-1fffc7f3396c",
        "colab": {
          "base_uri": "https://localhost:8080/",
          "height": 35
        }
      },
      "source": [
        "# TODO - Words, words, mere words, no matter from the heart.\n",
        "try:\n",
        "    # %tensorflow_version only exists in Colab.\n",
        "    %tensorflow_version 2.x\n",
        "except Exception:\n",
        "    pass\n",
        "\n",
        "from __future__ import absolute_import, division, print_function, unicode_literals\n",
        "\n",
        "import tensorflow as tf\n",
        "\n",
        "from tensorflow.keras.layers import Dense, Dropout, LSTM\n",
        "from tensorflow.keras import Sequential\n",
        "from tensorflow.keras.utils import to_categorical\n",
        "\n",
        "import numpy as np\n",
        "import matplotlib.pyplot as plt\n",
        "import requests\n",
        "import os\n",
        "import textwrap\n",
        "\n",
        "url = \"https://www.gutenberg.org/files/100/100-0.txt\""
      ],
      "execution_count": 1,
      "outputs": [
        {
          "output_type": "stream",
          "text": [
            "TensorFlow 2.x selected.\n"
          ],
          "name": "stdout"
        }
      ]
    },
    {
      "cell_type": "markdown",
      "metadata": {
        "id": "3h676pwOEa1W",
        "colab_type": "text"
      },
      "source": [
        "# Loading and Preprocessing"
      ]
    },
    {
      "cell_type": "code",
      "metadata": {
        "id": "r0S4pvCp9t1A",
        "colab_type": "code",
        "outputId": "b506e431-24a1-4b10-feb5-4460f03ec2c3",
        "colab": {
          "base_uri": "https://localhost:8080/",
          "height": 35
        }
      },
      "source": [
        "# save file to local and load it into text\n",
        "path_to_file = tf.keras.utils.get_file('shakespeare.txt', url)\n",
        "\n",
        "text = open(path_to_file, 'rb').read().decode(encoding='utf-8-sig')\n",
        "\n",
        "# get rid of character return \\r and save the newline \\n \n",
        "# first 900 words are headers and last 25000 words are disclaimers\n",
        "# from visual inspection. After removing \\r and header/disclaimers, \n",
        "# remove all extra spaces.\n",
        "text = text.replace(\"\\r\", \"\")\n",
        "text = text[900:-25000].lower()\n",
        "text = \" \".join(text.split())\n",
        "print (f'Length of text: {len(text)} characters')"
      ],
      "execution_count": 2,
      "outputs": [
        {
          "output_type": "stream",
          "text": [
            "Length of text: 5252797 characters\n"
          ],
          "name": "stdout"
        }
      ]
    },
    {
      "cell_type": "code",
      "metadata": {
        "id": "f_OCCdxSEjjb",
        "colab_type": "code",
        "colab": {}
      },
      "source": [
        "text_size = len(text)\n",
        "vocab = sorted(set(text))\n",
        "small_text_size = 100000\n",
        "\n",
        "# create dictionary to translate characters to int and vice versa\n",
        "char2idx = {u:i for i, u in enumerate(vocab)}\n",
        "idx2char = {i:u for i, u in enumerate(vocab)}#np.array(vocab)\n",
        "\n",
        "text_as_int = np.array([char2idx[c] for c in text])\n",
        "\n",
        "seq_length = 100\n",
        "# examples_per_epoch = len(text)//seq_length\n",
        "\n",
        "X_text = []\n",
        "y_text = []\n",
        "\n",
        "for i in range(0, small_text_size - seq_length, 1):\n",
        "\tin_seq = text[i:i + seq_length]\n",
        "\tout_char = text[i + seq_length]\n",
        "\tX_text.append([char2idx[char] for char in in_seq])\n",
        "\ty_text.append(char2idx[out_char])\n",
        "    \n",
        "samples = len(X_text)"
      ],
      "execution_count": 0,
      "outputs": []
    },
    {
      "cell_type": "code",
      "metadata": {
        "id": "Z1n2cm2vQKBI",
        "colab_type": "code",
        "colab": {}
      },
      "source": [
        "X = np.reshape(X_text, (samples, seq_length, 1))\n",
        "# normalize\n",
        "X = X / float(len(vocab))\n",
        "# one hot encode the output variable\n",
        "y = to_categorical(y_text)"
      ],
      "execution_count": 0,
      "outputs": []
    },
    {
      "cell_type": "markdown",
      "metadata": {
        "id": "nBaXzA2babwP",
        "colab_type": "text"
      },
      "source": [
        "# Model"
      ]
    },
    {
      "cell_type": "code",
      "metadata": {
        "id": "qe_6ov1wQ9Qu",
        "colab_type": "code",
        "colab": {}
      },
      "source": [
        "model = Sequential()\n",
        "model.add(LSTM(256, input_shape=(X.shape[1], X.shape[2]), return_sequences=True))\n",
        "model.add(Dropout(0.2))\n",
        "model.add(LSTM(256))\n",
        "model.add(Dropout(0.2))\n",
        "model.add(Dense(y.shape[1], activation='softmax'))"
      ],
      "execution_count": 0,
      "outputs": []
    },
    {
      "cell_type": "code",
      "metadata": {
        "id": "Wd_AcytQRN4K",
        "colab_type": "code",
        "colab": {}
      },
      "source": [
        "model.compile(loss='categorical_crossentropy', optimizer='adam')\n",
        "# model.compile(optimizer='adam', loss=loss)\n",
        "# Directory where the checkpoints will be saved\n",
        "checkpoint_dir = './training_checkpoints'\n",
        "# Name of the checkpoint files\n",
        "checkpoint_prefix = os.path.join(checkpoint_dir, \"ckpt_{epoch}\")\n",
        "\n",
        "checkpoint_callback=tf.keras.callbacks.ModelCheckpoint(\n",
        "    filepath=checkpoint_prefix,\n",
        "    save_weights_only=True)\n"
      ],
      "execution_count": 0,
      "outputs": []
    },
    {
      "cell_type": "code",
      "metadata": {
        "id": "5bc1lg5EC_4N",
        "colab_type": "code",
        "colab": {}
      },
      "source": [
        "EPOCHS = 100\n",
        "BATCH_SIZE = 1024"
      ],
      "execution_count": 0,
      "outputs": []
    },
    {
      "cell_type": "code",
      "metadata": {
        "id": "3zfk5d6iRyqO",
        "colab_type": "code",
        "outputId": "54ff61ea-b972-4025-94de-b396b0f4255a",
        "colab": {
          "base_uri": "https://localhost:8080/",
          "height": 1000
        }
      },
      "source": [
        "history = model.fit(X, y, batch_size=BATCH_SIZE, epochs=EPOCHS, callbacks=[checkpoint_callback])"
      ],
      "execution_count": 10,
      "outputs": [
        {
          "output_type": "stream",
          "text": [
            "Train on 99900 samples\n",
            "Epoch 1/100\n",
            "99900/99900 [==============================] - 39s 394us/sample - loss: 1.5724\n",
            "Epoch 2/100\n",
            "99900/99900 [==============================] - 39s 393us/sample - loss: 1.5678\n",
            "Epoch 3/100\n",
            "99900/99900 [==============================] - 39s 393us/sample - loss: 1.5615\n",
            "Epoch 4/100\n",
            "99900/99900 [==============================] - 39s 393us/sample - loss: 1.5415\n",
            "Epoch 5/100\n",
            "99900/99900 [==============================] - 39s 393us/sample - loss: 1.5437\n",
            "Epoch 6/100\n",
            "99900/99900 [==============================] - 39s 393us/sample - loss: 1.5334\n",
            "Epoch 7/100\n",
            "99900/99900 [==============================] - 39s 393us/sample - loss: 1.5176\n",
            "Epoch 8/100\n",
            "99900/99900 [==============================] - 39s 392us/sample - loss: 1.5137\n",
            "Epoch 9/100\n",
            "99900/99900 [==============================] - 39s 393us/sample - loss: 1.5085\n",
            "Epoch 10/100\n",
            "99900/99900 [==============================] - 39s 393us/sample - loss: 1.4975\n",
            "Epoch 11/100\n",
            "99900/99900 [==============================] - 39s 392us/sample - loss: 1.4855\n",
            "Epoch 12/100\n",
            "99900/99900 [==============================] - 39s 393us/sample - loss: 1.4809\n",
            "Epoch 13/100\n",
            "99900/99900 [==============================] - 39s 393us/sample - loss: 1.4670\n",
            "Epoch 14/100\n",
            "99900/99900 [==============================] - 39s 392us/sample - loss: 1.4643\n",
            "Epoch 15/100\n",
            "99900/99900 [==============================] - 39s 392us/sample - loss: 1.4562\n",
            "Epoch 16/100\n",
            "99900/99900 [==============================] - 39s 392us/sample - loss: 1.4458\n",
            "Epoch 17/100\n",
            "99900/99900 [==============================] - 39s 393us/sample - loss: 1.4341\n",
            "Epoch 18/100\n",
            "99900/99900 [==============================] - 39s 393us/sample - loss: 1.4322\n",
            "Epoch 19/100\n",
            "99900/99900 [==============================] - 39s 393us/sample - loss: 1.4253\n",
            "Epoch 20/100\n",
            "99900/99900 [==============================] - 39s 392us/sample - loss: 1.4139\n",
            "Epoch 21/100\n",
            "99900/99900 [==============================] - 39s 392us/sample - loss: 1.4146\n",
            "Epoch 22/100\n",
            "99900/99900 [==============================] - 39s 393us/sample - loss: 1.3995\n",
            "Epoch 23/100\n",
            "99900/99900 [==============================] - 39s 393us/sample - loss: 1.3954\n",
            "Epoch 24/100\n",
            "99900/99900 [==============================] - 39s 393us/sample - loss: 1.3943\n",
            "Epoch 25/100\n",
            "99900/99900 [==============================] - 39s 393us/sample - loss: 1.3797\n",
            "Epoch 26/100\n",
            "99900/99900 [==============================] - 39s 393us/sample - loss: 1.3711\n",
            "Epoch 27/100\n",
            "99900/99900 [==============================] - 39s 393us/sample - loss: 1.3698\n",
            "Epoch 28/100\n",
            "99900/99900 [==============================] - 39s 393us/sample - loss: 1.3584\n",
            "Epoch 29/100\n",
            "99900/99900 [==============================] - 39s 393us/sample - loss: 1.3518\n",
            "Epoch 30/100\n",
            "99900/99900 [==============================] - 39s 392us/sample - loss: 1.3496\n",
            "Epoch 31/100\n",
            "99900/99900 [==============================] - 39s 393us/sample - loss: 1.3446\n",
            "Epoch 32/100\n",
            "99900/99900 [==============================] - 39s 393us/sample - loss: 1.3341\n",
            "Epoch 33/100\n",
            "99900/99900 [==============================] - 39s 393us/sample - loss: 1.3290\n",
            "Epoch 34/100\n",
            "99900/99900 [==============================] - 39s 392us/sample - loss: 1.3160\n",
            "Epoch 35/100\n",
            "99900/99900 [==============================] - 39s 393us/sample - loss: 1.3085\n",
            "Epoch 36/100\n",
            "99900/99900 [==============================] - 39s 393us/sample - loss: 1.3137\n",
            "Epoch 37/100\n",
            "99900/99900 [==============================] - 39s 392us/sample - loss: 1.2963\n",
            "Epoch 38/100\n",
            "99900/99900 [==============================] - 39s 393us/sample - loss: 1.2964\n",
            "Epoch 39/100\n",
            "99900/99900 [==============================] - 39s 393us/sample - loss: 1.2902\n",
            "Epoch 40/100\n",
            "99900/99900 [==============================] - 39s 392us/sample - loss: 1.2840\n",
            "Epoch 41/100\n",
            "99900/99900 [==============================] - 39s 393us/sample - loss: 1.2701\n",
            "Epoch 42/100\n",
            "99900/99900 [==============================] - 39s 393us/sample - loss: 1.2731\n",
            "Epoch 43/100\n",
            "99900/99900 [==============================] - 39s 392us/sample - loss: 1.2635\n",
            "Epoch 44/100\n",
            "99900/99900 [==============================] - 39s 393us/sample - loss: 1.2589\n",
            "Epoch 45/100\n",
            "99900/99900 [==============================] - 39s 393us/sample - loss: 1.2557\n",
            "Epoch 46/100\n",
            "99900/99900 [==============================] - 39s 393us/sample - loss: 1.2456\n",
            "Epoch 47/100\n",
            "99900/99900 [==============================] - 39s 393us/sample - loss: 1.2406\n",
            "Epoch 48/100\n",
            "99900/99900 [==============================] - 39s 393us/sample - loss: 1.2397\n",
            "Epoch 49/100\n",
            "99900/99900 [==============================] - 39s 393us/sample - loss: 1.2263\n",
            "Epoch 50/100\n",
            "99900/99900 [==============================] - 39s 392us/sample - loss: 1.2256\n",
            "Epoch 51/100\n",
            "99900/99900 [==============================] - 39s 392us/sample - loss: 1.2199\n",
            "Epoch 52/100\n",
            "99900/99900 [==============================] - 39s 393us/sample - loss: 1.2160\n",
            "Epoch 53/100\n",
            "99900/99900 [==============================] - 39s 393us/sample - loss: 1.2096\n",
            "Epoch 54/100\n",
            "99900/99900 [==============================] - 39s 393us/sample - loss: 1.2016\n",
            "Epoch 55/100\n",
            "99900/99900 [==============================] - 39s 392us/sample - loss: 1.1989\n",
            "Epoch 56/100\n",
            "99900/99900 [==============================] - 39s 393us/sample - loss: 1.1957\n",
            "Epoch 57/100\n",
            "99900/99900 [==============================] - 39s 393us/sample - loss: 1.1904\n",
            "Epoch 58/100\n",
            "99900/99900 [==============================] - 39s 393us/sample - loss: 1.1852\n",
            "Epoch 59/100\n",
            "99900/99900 [==============================] - 39s 393us/sample - loss: 1.1778\n",
            "Epoch 60/100\n",
            "99900/99900 [==============================] - 39s 393us/sample - loss: 1.1765\n",
            "Epoch 61/100\n",
            "99900/99900 [==============================] - 39s 393us/sample - loss: 1.1682\n",
            "Epoch 62/100\n",
            "99900/99900 [==============================] - 39s 393us/sample - loss: 1.1613\n",
            "Epoch 63/100\n",
            "99900/99900 [==============================] - 39s 393us/sample - loss: 1.1607\n",
            "Epoch 64/100\n",
            "99900/99900 [==============================] - 39s 393us/sample - loss: 1.1500\n",
            "Epoch 65/100\n",
            "99900/99900 [==============================] - 39s 392us/sample - loss: 1.1501\n",
            "Epoch 66/100\n",
            "99900/99900 [==============================] - 39s 393us/sample - loss: 1.1434\n",
            "Epoch 67/100\n",
            "99900/99900 [==============================] - 39s 393us/sample - loss: 1.1421\n",
            "Epoch 68/100\n",
            "99900/99900 [==============================] - 39s 393us/sample - loss: 1.1362\n",
            "Epoch 69/100\n",
            "99900/99900 [==============================] - 39s 392us/sample - loss: 1.1331\n",
            "Epoch 70/100\n",
            "99900/99900 [==============================] - 39s 393us/sample - loss: 1.1302\n",
            "Epoch 71/100\n",
            "99900/99900 [==============================] - 39s 393us/sample - loss: 1.1194\n",
            "Epoch 72/100\n",
            "99900/99900 [==============================] - 39s 393us/sample - loss: 1.1110\n",
            "Epoch 73/100\n",
            "99900/99900 [==============================] - 39s 393us/sample - loss: 1.1168\n",
            "Epoch 74/100\n",
            "99900/99900 [==============================] - 39s 393us/sample - loss: 1.1155\n",
            "Epoch 75/100\n",
            "99900/99900 [==============================] - 39s 393us/sample - loss: 1.1018\n",
            "Epoch 76/100\n",
            "99900/99900 [==============================] - 39s 392us/sample - loss: 1.1026\n",
            "Epoch 77/100\n",
            "99900/99900 [==============================] - 39s 393us/sample - loss: 1.1001\n",
            "Epoch 78/100\n",
            "99900/99900 [==============================] - 39s 393us/sample - loss: 1.0888\n",
            "Epoch 79/100\n",
            "99900/99900 [==============================] - 39s 393us/sample - loss: 1.0924\n",
            "Epoch 80/100\n",
            "99900/99900 [==============================] - 39s 392us/sample - loss: 1.0828\n",
            "Epoch 81/100\n",
            "99900/99900 [==============================] - 39s 393us/sample - loss: 1.0785\n",
            "Epoch 82/100\n",
            "99900/99900 [==============================] - 39s 393us/sample - loss: 1.0687\n",
            "Epoch 83/100\n",
            "99900/99900 [==============================] - 39s 393us/sample - loss: 1.0763\n",
            "Epoch 84/100\n",
            "99900/99900 [==============================] - 39s 393us/sample - loss: 1.0731\n",
            "Epoch 85/100\n",
            "99900/99900 [==============================] - 39s 393us/sample - loss: 1.0689\n",
            "Epoch 86/100\n",
            "99900/99900 [==============================] - 39s 392us/sample - loss: 1.0601\n",
            "Epoch 87/100\n",
            "99900/99900 [==============================] - 39s 393us/sample - loss: 1.0538\n",
            "Epoch 88/100\n",
            "99900/99900 [==============================] - 39s 393us/sample - loss: 1.0645\n",
            "Epoch 89/100\n",
            "99900/99900 [==============================] - 39s 392us/sample - loss: 1.0462\n",
            "Epoch 90/100\n",
            "99900/99900 [==============================] - 39s 393us/sample - loss: 1.0394\n",
            "Epoch 91/100\n",
            "99900/99900 [==============================] - 39s 393us/sample - loss: 1.0370\n",
            "Epoch 92/100\n",
            "99900/99900 [==============================] - 39s 393us/sample - loss: 1.0446\n",
            "Epoch 93/100\n",
            "99900/99900 [==============================] - 39s 391us/sample - loss: 1.0352\n",
            "Epoch 94/100\n",
            "99900/99900 [==============================] - 39s 392us/sample - loss: 1.0324\n",
            "Epoch 95/100\n",
            "99900/99900 [==============================] - 39s 392us/sample - loss: 1.0292\n",
            "Epoch 96/100\n",
            "99900/99900 [==============================] - 39s 393us/sample - loss: 1.0257\n",
            "Epoch 97/100\n",
            "99900/99900 [==============================] - 39s 392us/sample - loss: 1.0079\n",
            "Epoch 98/100\n",
            "99900/99900 [==============================] - 39s 393us/sample - loss: 1.0072\n",
            "Epoch 99/100\n",
            "99900/99900 [==============================] - 39s 393us/sample - loss: 1.0057\n",
            "Epoch 100/100\n",
            "99900/99900 [==============================] - 39s 393us/sample - loss: 1.0044\n"
          ],
          "name": "stdout"
        }
      ]
    },
    {
      "cell_type": "code",
      "metadata": {
        "id": "hG1jfbSlNsJm",
        "colab_type": "code",
        "outputId": "b951c5d8-c946-4a7f-c2ab-457c90501d8c",
        "colab": {
          "base_uri": "https://localhost:8080/",
          "height": 295
        }
      },
      "source": [
        "plt.plot(history.history['loss'])\n",
        "plt.title('Model loss')\n",
        "plt.ylabel('Loss')\n",
        "plt.xlabel('Epoch')\n",
        "plt.legend(['Train'], loc='upper left')\n",
        "plt.show()"
      ],
      "execution_count": 11,
      "outputs": [
        {
          "output_type": "display_data",
          "data": {
            "image/png": "[encoded data removed]",
            "text/plain": [
              "<Figure size 432x288 with 1 Axes>"
            ]
          },
          "metadata": {
            "tags": []
          }
        }
      ]
    },
    {
      "cell_type": "markdown",
      "metadata": {
        "id": "vT8PiRTiaXid",
        "colab_type": "text"
      },
      "source": [
        "# Generate Text"
      ]
    },
    {
      "cell_type": "code",
      "metadata": {
        "id": "pAr4CRjpUh2q",
        "colab_type": "code",
        "outputId": "2711c0ce-3bd2-4054-feb0-ebc0095a2811",
        "colab": {
          "base_uri": "https://localhost:8080/",
          "height": 243
        }
      },
      "source": [
        "start = np.random.randint(0, len(X_text)-1)\n",
        "vocab_len = len(vocab)\n",
        "pattern = X_text[start]\n",
        "\n",
        "print(f\"Seed: \\n {''.join([idx2char[value] for value in pattern])}\")\n",
        "out = [idx2char[value] for value in pattern]\n",
        "\n",
        "# generate characters\n",
        "for i in range(500):\n",
        "    x = np.reshape(pattern, (1, len(pattern), 1))\n",
        "    x = x / float(vocab_len)\n",
        "    prediction = model.predict(x, verbose=0)\n",
        "    index = np.argmax(prediction)\n",
        "    result = idx2char[index]\n",
        "    in_seq = [idx2char[value] for value in pattern]\n",
        "    out.append(result)\n",
        "    pattern.append(index)\n",
        "    pattern = pattern[1:len(pattern)]\n",
        "\n",
        "print(\"\\nGenerated Text:\\n\")\n",
        "print(textwrap.fill(''.join(out), 80))"
      ],
      "execution_count": 12,
      "outputs": [
        {
          "output_type": "stream",
          "text": [
            "Seed: \n",
            " e pain. 142 love is my sin, and thy dear virtue hate, hate of my sin, grounded on sinful loving, o b\n",
            "\n",
            "Generated Text:\n",
            "\n",
            "e pain. 142 love is my sin, and thy dear virtue hate, hate of my sin, grounded\n",
            "on sinful loving, o batve not with the beauty so bester in, the ond of thought,\n",
            "shat i may cear none, land is the rtar of may, so mote toue thy selfth so to\n",
            "becas, by shenl oo mone end that i co now she winl. 13 when his toue poeer mands\n",
            "mf line tp thee, the beeeee when fail and ment and stored, whar beauty fare then\n",
            "to the wide worlds, that ii the leart thet cane thou dest diceese, which makes\n",
            "move bu thy beauty heart sie owe, and to his partr onta dnth tiy beauty seam, wo\n",
            "siah i haar, bod coun and formds sorn. hor\n"
          ],
          "name": "stdout"
        }
      ]
    },
    {
      "cell_type": "markdown",
      "metadata": {
        "colab_type": "text",
        "id": "zE4a4O7Bp5x1"
      },
      "source": [
        "# Resources and Stretch Goals"
      ]
    },
    {
      "cell_type": "markdown",
      "metadata": {
        "colab_type": "text",
        "id": "uT3UV3gap9H6"
      },
      "source": [
        "## Stretch goals:\n",
        "- Refine the training and generation of text to be able to ask for different genres/styles of Shakespearean text (e.g. plays versus sonnets)\n",
        "- Train a classification model that takes text and returns which work of Shakespeare it is most likely to be from\n",
        "- Make it more performant! Many possible routes here - lean on Keras, optimize the code, and/or use more resources (AWS, etc.)\n",
        "- Revisit the news example from class, and improve it - use categories or tags to refine the model/generation, or train a news classifier\n",
        "- Run on bigger, better data\n",
        "\n",
        "## Resources:\n",
        "- [The Unreasonable Effectiveness of Recurrent Neural Networks](https://karpathy.github.io/2015/05/21/rnn-effectiveness/) - a seminal writeup demonstrating a simple but effective character-level NLP RNN\n",
        "- [Simple NumPy implementation of RNN](https://github.com/JY-Yoon/RNN-Implementation-using-NumPy/blob/master/RNN%20Implementation%20using%20NumPy.ipynb) - Python 3 version of the code from \"Unreasonable Effectiveness\"\n",
        "- [TensorFlow RNN Tutorial](https://github.com/tensorflow/models/tree/master/tutorials/rnn) - code for training a RNN on the Penn Tree Bank language dataset\n",
        "- [4 part tutorial on RNN](http://www.wildml.com/2015/09/recurrent-neural-networks-tutorial-part-1-introduction-to-rnns/) - relates RNN to the vanishing gradient problem, and provides example implementation\n",
        "- [RNN training tips and tricks](https://github.com/karpathy/char-rnn#tips-and-tricks) - some rules of thumb for parameterizing and training your RNN"
      ]
    }
  ]
}