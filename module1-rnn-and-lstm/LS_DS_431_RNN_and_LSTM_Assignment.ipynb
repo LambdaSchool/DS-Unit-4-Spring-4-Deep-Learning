{
  "nbformat": 4,
  "nbformat_minor": 0,
  "metadata": {
    "kernelspec": {
      "display_name": "U4-S3-DNN (Python 3.7)",
      "language": "python",
      "name": "u4-s3-dnn"
    },
    "language_info": {
      "codemirror_mode": {
        "name": "ipython",
        "version": 3
      },
      "file_extension": ".py",
      "mimetype": "text/x-python",
      "name": "python",
      "nbconvert_exporter": "python",
      "pygments_lexer": "ipython3",
      "version": "3.7.3"
    },
    "colab": {
      "name": "LS_DS_431_RNN_and_LSTM_Assignment.ipynb",
      "provenance": [],
      "include_colab_link": true
    },
    "accelerator": "GPU"
  },
  "cells": [
    {
      "cell_type": "markdown",
      "metadata": {
        "id": "view-in-github",
        "colab_type": "text"
      },
      "source": [
        "<a href=\"https://colab.research.google.com/github/leehanchung/DS-Unit-4-Sprint-3-Deep-Learning/blob/master/module1-rnn-and-lstm/LS_DS_431_RNN_and_LSTM_Assignment.ipynb\" target=\"_parent\"><img src=\"https://colab.research.google.com/assets/colab-badge.svg\" alt=\"Open In Colab\"/></a>"
      ]
    },
    {
      "cell_type": "markdown",
      "metadata": {
        "id": "Z4ghns5_s1Ni",
        "colab_type": "text"
      },
      "source": [
        "<img align=\"left\" src=\"https://lever-client-logos.s3.amazonaws.com/864372b1-534c-480e-acd5-9711f850815c-1524247202159.png\" width=200>\n",
        "<br></br>\n",
        "<br></br>\n",
        "\n",
        "## *Data Science Unit 4 Sprint 3 Assignment 1*\n",
        "\n",
        "# Recurrent Neural Networks and Long Short Term Memory (LSTM)\n",
        "\n",
        "![Monkey at a typewriter](https://upload.wikimedia.org/wikipedia/commons/thumb/3/3c/Chimpanzee_seated_at_typewriter.jpg/603px-Chimpanzee_seated_at_typewriter.jpg)\n",
        "\n",
        "It is said that [infinite monkeys typing for an infinite amount of time](https://en.wikipedia.org/wiki/Infinite_monkey_theorem) will eventually type, among other things, the complete works of Wiliam Shakespeare. Let's see if we can get there a bit faster, with the power of Recurrent Neural Networks and LSTM.\n",
        "\n",
        "This text file contains the complete works of Shakespeare: https://www.gutenberg.org/files/100/100-0.txt\n",
        "\n",
        "Use it as training data for an RNN - you can keep it simple and train character level, and that is suggested as an initial approach.\n",
        "\n",
        "Then, use that trained RNN to generate Shakespearean-ish text. Your goal - a function that can take, as an argument, the size of text (e.g. number of characters or lines) to generate, and returns generated text of that size.\n",
        "\n",
        "Note - Shakespeare wrote an awful lot. It's OK, especially initially, to sample/use smaller data and parameters, so you can have a tighter feedback loop when you're trying to get things running. Then, once you've got a proof of concept - start pushing it more!"
      ]
    },
    {
      "cell_type": "code",
      "metadata": {
        "colab_type": "code",
        "id": "Ltj1je1fp5rO",
        "outputId": "9a5404d7-0889-487e-a9cb-60f443f16fa3",
        "colab": {
          "base_uri": "https://localhost:8080/",
          "height": 35
        }
      },
      "source": [
        "# TODO - Words, words, mere words, no matter from the heart.\n",
        "try:\n",
        "    # %tensorflow_version only exists in Colab.\n",
        "    %tensorflow_version 2.x\n",
        "except Exception:\n",
        "    pass\n",
        "\n",
        "from __future__ import absolute_import, division, print_function, unicode_literals\n",
        "\n",
        "import tensorflow as tf\n",
        "\n",
        "from tensorflow.keras.layers import Dense, Dropout, LSTM\n",
        "from tensorflow.keras import Sequential\n",
        "from tensorflow.keras.utils import to_categorical\n",
        "\n",
        "import numpy as np\n",
        "import matplotlib.pyplot as plt\n",
        "import requests\n",
        "import os\n",
        "import textwrap\n",
        "\n",
        "url = \"https://www.gutenberg.org/files/100/100-0.txt\""
      ],
      "execution_count": 1,
      "outputs": [
        {
          "output_type": "stream",
          "text": [
            "TensorFlow 2.x selected.\n"
          ],
          "name": "stdout"
        }
      ]
    },
    {
      "cell_type": "markdown",
      "metadata": {
        "id": "3h676pwOEa1W",
        "colab_type": "text"
      },
      "source": [
        "# Loading and Preprocessing"
      ]
    },
    {
      "cell_type": "code",
      "metadata": {
        "id": "r0S4pvCp9t1A",
        "colab_type": "code",
        "outputId": "1b2aaf74-127c-430f-e946-2bf8b746e826",
        "colab": {
          "base_uri": "https://localhost:8080/",
          "height": 35
        }
      },
      "source": [
        "# save file to local and load it into text\n",
        "path_to_file = tf.keras.utils.get_file('shakespeare.txt', url)\n",
        "\n",
        "text = open(path_to_file, 'rb').read().decode(encoding='utf-8-sig')\n",
        "\n",
        "# get rid of character return \\r and save the newline \\n \n",
        "# first 900 words are headers and last 25000 words are disclaimers\n",
        "# from visual inspection. After removing \\r and header/disclaimers, \n",
        "# remove all extra spaces.\n",
        "text = text.replace(\"\\r\", \"\")\n",
        "text = text[900:-25000].lower()\n",
        "text = \" \".join(text.split())\n",
        "print (f'Length of text: {len(text)} characters')"
      ],
      "execution_count": 2,
      "outputs": [
        {
          "output_type": "stream",
          "text": [
            "Length of text: 5252797 characters\n"
          ],
          "name": "stdout"
        }
      ]
    },
    {
      "cell_type": "code",
      "metadata": {
        "id": "f_OCCdxSEjjb",
        "colab_type": "code",
        "colab": {}
      },
      "source": [
        "text_size = len(text)\n",
        "vocab = sorted(set(text))\n",
        "small_text_size = 100000\n",
        "\n",
        "# create dictionary to translate characters to int and vice versa\n",
        "char2idx = {u:i for i, u in enumerate(vocab)}\n",
        "idx2char = {i:u for i, u in enumerate(vocab)}#np.array(vocab)\n",
        "\n",
        "text_as_int = np.array([char2idx[c] for c in text])\n",
        "\n",
        "seq_length = 100\n",
        "# examples_per_epoch = len(text)//seq_length\n",
        "\n",
        "X_text = []\n",
        "y_text = []\n",
        "\n",
        "for i in range(0, small_text_size - seq_length, 1):\n",
        "\tin_seq = text[i:i + seq_length]\n",
        "\tout_char = text[i + seq_length]\n",
        "\tX_text.append([char2idx[char] for char in in_seq])\n",
        "\ty_text.append(char2idx[out_char])\n",
        "    \n",
        "samples = len(X_text)"
      ],
      "execution_count": 0,
      "outputs": []
    },
    {
      "cell_type": "code",
      "metadata": {
        "id": "Z1n2cm2vQKBI",
        "colab_type": "code",
        "colab": {}
      },
      "source": [
        "X = np.reshape(X_text, (samples, seq_length, 1))\n",
        "# normalize\n",
        "X = X / float(len(vocab))\n",
        "# one hot encode the output variable\n",
        "y = to_categorical(y_text)"
      ],
      "execution_count": 0,
      "outputs": []
    },
    {
      "cell_type": "markdown",
      "metadata": {
        "id": "nBaXzA2babwP",
        "colab_type": "text"
      },
      "source": [
        "# Model"
      ]
    },
    {
      "cell_type": "code",
      "metadata": {
        "id": "qe_6ov1wQ9Qu",
        "colab_type": "code",
        "colab": {}
      },
      "source": [
        "model = Sequential()\n",
        "model.add(LSTM(256, input_shape=(X.shape[1], X.shape[2]), return_sequences=True))\n",
        "model.add(Dropout(0.2))\n",
        "model.add(LSTM(256))\n",
        "model.add(Dropout(0.2))\n",
        "model.add(Dense(y.shape[1], activation='softmax'))"
      ],
      "execution_count": 0,
      "outputs": []
    },
    {
      "cell_type": "code",
      "metadata": {
        "id": "Wd_AcytQRN4K",
        "colab_type": "code",
        "colab": {}
      },
      "source": [
        "model.compile(loss='categorical_crossentropy', optimizer='adam')\n",
        "# model.compile(optimizer='adam', loss=loss)\n",
        "# Directory where the checkpoints will be saved\n",
        "checkpoint_dir = './training_checkpoints'\n",
        "# Name of the checkpoint files\n",
        "checkpoint_prefix = os.path.join(checkpoint_dir, \"ckpt_{epoch}\")\n",
        "\n",
        "checkpoint_callback=tf.keras.callbacks.ModelCheckpoint(\n",
        "    filepath=checkpoint_prefix,\n",
        "    save_weights_only=True)\n",
        "\n",
        "EPOCHS = 100\n",
        "BATCH_SIZE = 1024"
      ],
      "execution_count": 0,
      "outputs": []
    },
    {
      "cell_type": "code",
      "metadata": {
        "id": "3zfk5d6iRyqO",
        "colab_type": "code",
        "colab": {
          "base_uri": "https://localhost:8080/",
          "height": 1000
        },
        "outputId": "494eec1c-f433-4a1e-bab6-0248007c772b"
      },
      "source": [
        "history = model.fit(X, y, batch_size=BATCH_SIZE, epochs=EPOCHS, callbacks=[checkpoint_callback])"
      ],
      "execution_count": 7,
      "outputs": [
        {
          "output_type": "stream",
          "text": [
            "Train on 99900 samples\n",
            "Epoch 1/100\n",
            "WARNING:tensorflow:Entity <function Function._initialize_uninitialized_variables.<locals>.initialize_variables at 0x7f1da91af2f0> could not be transformed and will be executed as-is. Please report this to the AutoGraph team. When filing the bug, set the verbosity to 10 (on Linux, `export AUTOGRAPH_VERBOSITY=10`) and attach the full output. Cause: module 'gast' has no attribute 'Num'\n",
            "WARNING: Entity <function Function._initialize_uninitialized_variables.<locals>.initialize_variables at 0x7f1da91af2f0> could not be transformed and will be executed as-is. Please report this to the AutoGraph team. When filing the bug, set the verbosity to 10 (on Linux, `export AUTOGRAPH_VERBOSITY=10`) and attach the full output. Cause: module 'gast' has no attribute 'Num'\n",
            "99900/99900 [==============================] - 41s 414us/sample - loss: 3.0645\n",
            "Epoch 2/100\n",
            "99900/99900 [==============================] - 37s 373us/sample - loss: 2.9625\n",
            "Epoch 3/100\n",
            "99900/99900 [==============================] - 37s 372us/sample - loss: 2.9172\n",
            "Epoch 4/100\n",
            "99900/99900 [==============================] - 37s 372us/sample - loss: 2.8138\n",
            "Epoch 5/100\n",
            "99900/99900 [==============================] - 37s 373us/sample - loss: 2.7485\n",
            "Epoch 6/100\n",
            "99900/99900 [==============================] - 37s 374us/sample - loss: 2.7085\n",
            "Epoch 7/100\n",
            "99900/99900 [==============================] - 37s 373us/sample - loss: 2.6715\n",
            "Epoch 8/100\n",
            "99900/99900 [==============================] - 37s 372us/sample - loss: 2.6381\n",
            "Epoch 9/100\n",
            "99900/99900 [==============================] - 37s 374us/sample - loss: 2.6061\n",
            "Epoch 10/100\n",
            "99900/99900 [==============================] - 37s 373us/sample - loss: 2.5777\n",
            "Epoch 11/100\n",
            "99900/99900 [==============================] - 37s 372us/sample - loss: 2.5487\n",
            "Epoch 12/100\n",
            "99900/99900 [==============================] - 37s 374us/sample - loss: 2.5256\n",
            "Epoch 13/100\n",
            "99900/99900 [==============================] - 37s 375us/sample - loss: 2.5060\n",
            "Epoch 14/100\n",
            "99900/99900 [==============================] - 37s 373us/sample - loss: 2.4822\n",
            "Epoch 15/100\n",
            "99900/99900 [==============================] - 37s 374us/sample - loss: 2.4690\n",
            "Epoch 16/100\n",
            "99900/99900 [==============================] - 37s 372us/sample - loss: 2.4446\n",
            "Epoch 17/100\n",
            "99900/99900 [==============================] - 37s 374us/sample - loss: 2.4260\n",
            "Epoch 18/100\n",
            "99900/99900 [==============================] - 37s 374us/sample - loss: 2.4125\n",
            "Epoch 19/100\n",
            "99900/99900 [==============================] - 37s 374us/sample - loss: 2.3923\n",
            "Epoch 20/100\n",
            "99900/99900 [==============================] - 37s 373us/sample - loss: 2.3689\n",
            "Epoch 21/100\n",
            "99900/99900 [==============================] - 37s 373us/sample - loss: 2.3541\n",
            "Epoch 22/100\n",
            "99900/99900 [==============================] - 37s 374us/sample - loss: 2.3387\n",
            "Epoch 23/100\n",
            "99900/99900 [==============================] - 37s 374us/sample - loss: 2.3211\n",
            "Epoch 24/100\n",
            "99900/99900 [==============================] - 37s 374us/sample - loss: 2.3072\n",
            "Epoch 25/100\n",
            "99900/99900 [==============================] - 37s 374us/sample - loss: 2.2889\n",
            "Epoch 26/100\n",
            "99900/99900 [==============================] - 37s 374us/sample - loss: 2.2717\n",
            "Epoch 27/100\n",
            "99900/99900 [==============================] - 37s 373us/sample - loss: 2.2559\n",
            "Epoch 28/100\n",
            "99900/99900 [==============================] - 37s 373us/sample - loss: 2.2434\n",
            "Epoch 29/100\n",
            "99900/99900 [==============================] - 37s 375us/sample - loss: 2.2253\n",
            "Epoch 30/100\n",
            "99900/99900 [==============================] - 37s 374us/sample - loss: 2.2094\n",
            "Epoch 31/100\n",
            "99900/99900 [==============================] - 37s 374us/sample - loss: 2.1965\n",
            "Epoch 32/100\n",
            "99900/99900 [==============================] - 37s 374us/sample - loss: 2.1828\n",
            "Epoch 33/100\n",
            "99900/99900 [==============================] - 37s 375us/sample - loss: 2.1662\n",
            "Epoch 34/100\n",
            "99900/99900 [==============================] - 37s 374us/sample - loss: 2.1542\n",
            "Epoch 35/100\n",
            "99900/99900 [==============================] - 37s 373us/sample - loss: 2.1416\n",
            "Epoch 36/100\n",
            "99900/99900 [==============================] - 37s 374us/sample - loss: 2.1265\n",
            "Epoch 37/100\n",
            "99900/99900 [==============================] - 37s 373us/sample - loss: 2.1121\n",
            "Epoch 38/100\n",
            "99900/99900 [==============================] - 37s 375us/sample - loss: 2.0964\n",
            "Epoch 39/100\n",
            "99900/99900 [==============================] - 37s 373us/sample - loss: 2.0849\n",
            "Epoch 40/100\n",
            "99900/99900 [==============================] - 37s 373us/sample - loss: 2.0735\n",
            "Epoch 41/100\n",
            "99900/99900 [==============================] - 37s 373us/sample - loss: 2.0592\n",
            "Epoch 42/100\n",
            "99900/99900 [==============================] - 37s 374us/sample - loss: 2.0448\n",
            "Epoch 43/100\n",
            "99900/99900 [==============================] - 37s 373us/sample - loss: 2.0315\n",
            "Epoch 44/100\n",
            "99900/99900 [==============================] - 37s 374us/sample - loss: 2.0196\n",
            "Epoch 45/100\n",
            "99900/99900 [==============================] - 37s 374us/sample - loss: 2.0033\n",
            "Epoch 46/100\n",
            "99900/99900 [==============================] - 37s 373us/sample - loss: 1.9901\n",
            "Epoch 47/100\n",
            "99900/99900 [==============================] - 37s 374us/sample - loss: 1.9784\n",
            "Epoch 48/100\n",
            "99900/99900 [==============================] - 37s 374us/sample - loss: 1.9665\n",
            "Epoch 49/100\n",
            "99900/99900 [==============================] - 37s 375us/sample - loss: 1.9536\n",
            "Epoch 50/100\n",
            "99900/99900 [==============================] - 37s 375us/sample - loss: 1.9357\n",
            "Epoch 51/100\n",
            "99900/99900 [==============================] - 37s 374us/sample - loss: 1.9275\n",
            "Epoch 52/100\n",
            "99900/99900 [==============================] - 37s 374us/sample - loss: 1.9116\n",
            "Epoch 53/100\n",
            "99900/99900 [==============================] - 37s 374us/sample - loss: 1.8974\n",
            "Epoch 54/100\n",
            "99900/99900 [==============================] - 37s 374us/sample - loss: 1.8855\n",
            "Epoch 55/100\n",
            "99900/99900 [==============================] - 37s 373us/sample - loss: 1.8763\n",
            "Epoch 56/100\n",
            "99900/99900 [==============================] - 37s 374us/sample - loss: 1.8582\n",
            "Epoch 57/100\n",
            "99900/99900 [==============================] - 37s 373us/sample - loss: 1.8421\n",
            "Epoch 58/100\n",
            "99900/99900 [==============================] - 37s 373us/sample - loss: 1.8249\n",
            "Epoch 59/100\n",
            "99900/99900 [==============================] - 37s 372us/sample - loss: 1.8146\n",
            "Epoch 60/100\n",
            "99900/99900 [==============================] - 37s 373us/sample - loss: 1.7982\n",
            "Epoch 61/100\n",
            "99900/99900 [==============================] - 37s 373us/sample - loss: 1.7854\n",
            "Epoch 62/100\n",
            "99900/99900 [==============================] - 37s 372us/sample - loss: 1.7753\n",
            "Epoch 63/100\n",
            "99900/99900 [==============================] - 37s 372us/sample - loss: 1.7582\n",
            "Epoch 64/100\n",
            "99900/99900 [==============================] - 37s 372us/sample - loss: 1.7433\n",
            "Epoch 65/100\n",
            "99900/99900 [==============================] - 37s 372us/sample - loss: 1.7309\n",
            "Epoch 66/100\n",
            "99900/99900 [==============================] - 37s 375us/sample - loss: 1.7111\n",
            "Epoch 67/100\n",
            "99900/99900 [==============================] - 37s 372us/sample - loss: 1.7064\n",
            "Epoch 68/100\n",
            "99900/99900 [==============================] - 37s 372us/sample - loss: 1.6924\n",
            "Epoch 69/100\n",
            "99900/99900 [==============================] - 37s 372us/sample - loss: 1.6702\n",
            "Epoch 70/100\n",
            "99900/99900 [==============================] - 37s 372us/sample - loss: 1.6586\n",
            "Epoch 71/100\n",
            "99900/99900 [==============================] - 37s 373us/sample - loss: 1.6512\n",
            "Epoch 72/100\n",
            "99900/99900 [==============================] - 37s 372us/sample - loss: 1.6382\n",
            "Epoch 73/100\n",
            "99900/99900 [==============================] - 37s 372us/sample - loss: 1.6297\n",
            "Epoch 74/100\n",
            "99900/99900 [==============================] - 37s 374us/sample - loss: 1.6035\n",
            "Epoch 75/100\n",
            "99900/99900 [==============================] - 37s 373us/sample - loss: 1.6003\n",
            "Epoch 76/100\n",
            "99900/99900 [==============================] - 37s 372us/sample - loss: 1.5858\n",
            "Epoch 77/100\n",
            "99900/99900 [==============================] - 37s 374us/sample - loss: 1.5688\n",
            "Epoch 78/100\n",
            "99900/99900 [==============================] - 37s 374us/sample - loss: 1.5640\n",
            "Epoch 79/100\n",
            "99900/99900 [==============================] - 37s 373us/sample - loss: 1.5527\n",
            "Epoch 80/100\n",
            "99900/99900 [==============================] - 37s 373us/sample - loss: 1.5388\n",
            "Epoch 81/100\n",
            "99900/99900 [==============================] - 37s 373us/sample - loss: 1.5202\n",
            "Epoch 82/100\n",
            "99900/99900 [==============================] - 37s 373us/sample - loss: 1.5137\n",
            "Epoch 83/100\n",
            "99900/99900 [==============================] - 37s 374us/sample - loss: 1.5054\n",
            "Epoch 84/100\n",
            "99900/99900 [==============================] - 37s 373us/sample - loss: 1.4955\n",
            "Epoch 85/100\n",
            "99900/99900 [==============================] - 37s 373us/sample - loss: 1.4840\n",
            "Epoch 86/100\n",
            "99900/99900 [==============================] - 37s 372us/sample - loss: 1.4710\n",
            "Epoch 87/100\n",
            "99900/99900 [==============================] - 37s 374us/sample - loss: 1.4620\n",
            "Epoch 88/100\n",
            "99900/99900 [==============================] - 37s 374us/sample - loss: 1.4467\n",
            "Epoch 89/100\n",
            "99900/99900 [==============================] - 37s 373us/sample - loss: 1.4361\n",
            "Epoch 90/100\n",
            "99900/99900 [==============================] - 37s 372us/sample - loss: 1.4291\n",
            "Epoch 91/100\n",
            "99900/99900 [==============================] - 37s 371us/sample - loss: 1.4184\n",
            "Epoch 92/100\n",
            "99900/99900 [==============================] - 37s 372us/sample - loss: 1.4182\n",
            "Epoch 93/100\n",
            "99900/99900 [==============================] - 37s 372us/sample - loss: 1.3994\n",
            "Epoch 94/100\n",
            "99900/99900 [==============================] - 37s 372us/sample - loss: 1.3878\n",
            "Epoch 95/100\n",
            "99900/99900 [==============================] - 37s 371us/sample - loss: 1.3712\n",
            "Epoch 96/100\n",
            "99900/99900 [==============================] - 37s 372us/sample - loss: 1.3687\n",
            "Epoch 97/100\n",
            "99900/99900 [==============================] - 37s 372us/sample - loss: 1.3638\n",
            "Epoch 98/100\n",
            "99900/99900 [==============================] - 37s 373us/sample - loss: 1.3533\n",
            "Epoch 99/100\n",
            "99900/99900 [==============================] - 37s 372us/sample - loss: 1.3450\n",
            "Epoch 100/100\n",
            "99900/99900 [==============================] - 37s 372us/sample - loss: 1.3344\n"
          ],
          "name": "stdout"
        }
      ]
    },
    {
      "cell_type": "code",
      "metadata": {
        "id": "hG1jfbSlNsJm",
        "colab_type": "code",
        "colab": {
          "base_uri": "https://localhost:8080/",
          "height": 295
        },
        "outputId": "682eeb3c-ccba-4539-9a25-2f7bdc7cc0ca"
      },
      "source": [
        "plt.plot(history.history['loss'])\n",
        "plt.title('Model loss')\n",
        "plt.ylabel('Loss')\n",
        "plt.xlabel('Epoch')\n",
        "plt.legend(['Train'], loc='upper left')\n",
        "plt.show()"
      ],
      "execution_count": 8,
      "outputs": [
        {
          "output_type": "display_data",
          "data": {
            "image/png": "[encoded data removed]",
            "text/plain": [
              "<Figure size 432x288 with 1 Axes>"
            ]
          },
          "metadata": {
            "tags": []
          }
        }
      ]
    },
    {
      "cell_type": "markdown",
      "metadata": {
        "id": "vT8PiRTiaXid",
        "colab_type": "text"
      },
      "source": [
        "# Generate Text"
      ]
    },
    {
      "cell_type": "code",
      "metadata": {
        "id": "pAr4CRjpUh2q",
        "colab_type": "code",
        "colab": {
          "base_uri": "https://localhost:8080/",
          "height": 246
        },
        "outputId": "8c9940e7-4e23-4af4-d274-3f56e0e3c82a"
      },
      "source": [
        "start = np.random.randint(0, len(X_text)-1)\n",
        "vocab_len = len(vocab)\n",
        "pattern = X_text[start]\n",
        "\n",
        "print(f\"Seed: \\n {''.join([idx2char[value] for value in pattern])}\")\n",
        "out = [idx2char[value] for value in pattern]\n",
        "\n",
        "# generate characters\n",
        "for i in range(500):\n",
        "    x = np.reshape(pattern, (1, len(pattern), 1))\n",
        "    x = x / float(vocab_len)\n",
        "    prediction = model.predict(x, verbose=0)\n",
        "    index = np.argmax(prediction)\n",
        "    result = idx2char[index]\n",
        "    in_seq = [idx2char[value] for value in pattern]\n",
        "    out.append(result)\n",
        "    pattern.append(index)\n",
        "    pattern = pattern[1:len(pattern)]\n",
        "\n",
        "print(\"\\nGenerated Text:\\n\")\n",
        "print(textwrap.fill(''.join(out), 80))"
      ],
      "execution_count": 9,
      "outputs": [
        {
          "output_type": "stream",
          "text": [
            "Seed: \n",
            " e as with that muse, stirred by a painted beauty to his verse, who heaven it self for ornament doth \n",
            "\n",
            "Generated Text:\n",
            "\n",
            "e as with that muse, stirred by a painted beauty to his verse, who heaven it\n",
            "self for ornament doth seee, but when i sreet and thee would mine eyes dave\n",
            "where thould beauty to me love hends hor suoner of thy sile, thy self to love,\n",
            "and ther i am corntensed, and she mat mene the world ofalured lea so thee, and\n",
            "shad in this agautiog of thee, the steet aeauty dor their spatel tordse, and\n",
            "thou art so she time of soue disires, and siat i sasd io hatthe that i say men\n",
            "spiger of tile wotr self to brmeting so thee sie onher the trrth of ford\n",
            "bonpersed ceiect to the ceauty seruedtt the tartert the time\n"
          ],
          "name": "stdout"
        }
      ]
    },
    {
      "cell_type": "markdown",
      "metadata": {
        "colab_type": "text",
        "id": "zE4a4O7Bp5x1"
      },
      "source": [
        "# Resources and Stretch Goals"
      ]
    },
    {
      "cell_type": "markdown",
      "metadata": {
        "colab_type": "text",
        "id": "uT3UV3gap9H6"
      },
      "source": [
        "## Stretch goals:\n",
        "- Refine the training and generation of text to be able to ask for different genres/styles of Shakespearean text (e.g. plays versus sonnets)\n",
        "- Train a classification model that takes text and returns which work of Shakespeare it is most likely to be from\n",
        "- Make it more performant! Many possible routes here - lean on Keras, optimize the code, and/or use more resources (AWS, etc.)\n",
        "- Revisit the news example from class, and improve it - use categories or tags to refine the model/generation, or train a news classifier\n",
        "- Run on bigger, better data\n",
        "\n",
        "## Resources:\n",
        "- [The Unreasonable Effectiveness of Recurrent Neural Networks](https://karpathy.github.io/2015/05/21/rnn-effectiveness/) - a seminal writeup demonstrating a simple but effective character-level NLP RNN\n",
        "- [Simple NumPy implementation of RNN](https://github.com/JY-Yoon/RNN-Implementation-using-NumPy/blob/master/RNN%20Implementation%20using%20NumPy.ipynb) - Python 3 version of the code from \"Unreasonable Effectiveness\"\n",
        "- [TensorFlow RNN Tutorial](https://github.com/tensorflow/models/tree/master/tutorials/rnn) - code for training a RNN on the Penn Tree Bank language dataset\n",
        "- [4 part tutorial on RNN](http://www.wildml.com/2015/09/recurrent-neural-networks-tutorial-part-1-introduction-to-rnns/) - relates RNN to the vanishing gradient problem, and provides example implementation\n",
        "- [RNN training tips and tricks](https://github.com/karpathy/char-rnn#tips-and-tricks) - some rules of thumb for parameterizing and training your RNN"
      ]
    }
  ]
}