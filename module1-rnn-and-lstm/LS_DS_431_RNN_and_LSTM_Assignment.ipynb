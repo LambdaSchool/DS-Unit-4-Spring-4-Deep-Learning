{
 "cells": [
  {
   "cell_type": "markdown",
   "metadata": {},
   "source": [
    "<img align=\"left\" src=\"https://lever-client-logos.s3.amazonaws.com/864372b1-534c-480e-acd5-9711f850815c-1524247202159.png\" width=200>\n",
    "<br></br>\n",
    "<br></br>\n",
    "\n",
    "## *Data Science Unit 4 Sprint 3 Assignment 1*\n",
    "\n",
    "# Recurrent Neural Networks and Long Short Term Memory (LSTM)\n",
    "\n",
    "![Monkey at a typewriter](https://upload.wikimedia.org/wikipedia/commons/thumb/3/3c/Chimpanzee_seated_at_typewriter.jpg/603px-Chimpanzee_seated_at_typewriter.jpg)\n",
    "\n",
    "It is said that [infinite monkeys typing for an infinite amount of time](https://en.wikipedia.org/wiki/Infinite_monkey_theorem) will eventually type, among other things, the complete works of Wiliam Shakespeare. Let's see if we can get there a bit faster, with the power of Recurrent Neural Networks and LSTM.\n",
    "\n",
    "This text file contains the complete works of Shakespeare: https://www.gutenberg.org/files/100/100-0.txt\n",
    "\n",
    "Use it as training data for an RNN - you can keep it simple and train character level, and that is suggested as an initial approach.\n",
    "\n",
    "Then, use that trained RNN to generate Shakespearean-ish text. Your goal - a function that can take, as an argument, the size of text (e.g. number of characters or lines) to generate, and returns generated text of that size.\n",
    "\n",
    "Note - Shakespeare wrote an awful lot. It's OK, especially initially, to sample/use smaller data and parameters, so you can have a tighter feedback loop when you're trying to get things running. Then, once you've got a proof of concept - start pushing it more!"
   ]
  },
  {
   "cell_type": "code",
   "execution_count": 69,
   "metadata": {
    "colab": {},
    "colab_type": "code",
    "id": "Ltj1je1fp5rO"
   },
   "outputs": [],
   "source": [
    "from __future__ import print_function\n",
    "from keras.preprocessing import sequence\n",
    "from keras.models import Sequential\n",
    "from keras.layers import Dense, Embedding\n",
    "from keras.layers import LSTM\n",
    "\n",
    "import pandas as pd\n",
    "import numpy as np"
   ]
  },
  {
   "cell_type": "code",
   "execution_count": 112,
   "metadata": {},
   "outputs": [],
   "source": [
    "import urllib.request\n",
    "\n",
    "data = urllib.request.urlopen('https://www.gutenberg.org/files/100/100-0.txt').read()[2966:] \n",
    "test = data[0:1000]"
   ]
  },
  {
   "cell_type": "code",
   "execution_count": 113,
   "metadata": {},
   "outputs": [],
   "source": [
    "test = test.decode(\"utf-8\") "
   ]
  },
  {
   "cell_type": "code",
   "execution_count": 114,
   "metadata": {},
   "outputs": [
    {
     "data": {
      "text/plain": [
       "str"
      ]
     },
     "execution_count": 114,
     "metadata": {},
     "output_type": "execute_result"
    }
   ],
   "source": [
    "type(test)"
   ]
  },
  {
   "cell_type": "code",
   "execution_count": 115,
   "metadata": {},
   "outputs": [
    {
     "data": {
      "text/plain": [
       "'From fairest creatures we desire increase,\\r\\nThat thereby beauty’s rose might never die,\\r\\nBut as the riper should by time decease,\\r\\nHis tender heir might bear his memory:\\r\\nBut thou contracted to thine own bright eyes,\\r\\nFeed’st thy light’s flame with self-substantial fuel,\\r\\nMaking a famine where abundance lies,\\r\\nThy self thy foe, to thy sweet self too cruel:\\r\\nThou that art now the world’s fresh ornament,\\r\\nAnd only herald to the gaudy spring,\\r\\nWithin thine own bud buriest thy content,\\r\\nAnd, tender churl, mak’st waste in niggarding:\\r\\n  Pity the world, or else this glutton be,\\r\\n  To eat the world’s due, by the grave and thee.\\r\\n\\r\\n\\r\\n                    2\\r\\n\\r\\nWhen forty winters shall besiege thy brow,\\r\\nAnd dig deep trenches in thy beauty’s field,\\r\\nThy youth’s proud livery so gazed on now,\\r\\nWill be a tattered weed of small worth held:\\r\\nThen being asked, where all thy beauty lies,\\r\\nWhere all the treasure of thy lusty days;\\r\\nTo say, within thine own deep sunken eyes,\\r\\nWere an all-e'"
      ]
     },
     "execution_count": 115,
     "metadata": {},
     "output_type": "execute_result"
    }
   ],
   "source": [
    "test"
   ]
  },
  {
   "cell_type": "code",
   "execution_count": 117,
   "metadata": {},
   "outputs": [
    {
     "name": "stdout",
     "output_type": "stream",
     "text": [
      "unique characters :  41\n",
      "txt_data_size :  984\n"
     ]
    }
   ],
   "source": [
    "chars = list(set(test)) # split and remove duplicate characters. convert to list.\n",
    "\n",
    "num_chars = len(chars) # the number of unique characters\n",
    "txt_data_size = len(test)\n",
    "\n",
    "print(\"unique characters : \", num_chars)\n",
    "print(\"txt_data_size : \", txt_data_size)"
   ]
  },
  {
   "cell_type": "code",
   "execution_count": 119,
   "metadata": {},
   "outputs": [
    {
     "name": "stdout",
     "output_type": "stream",
     "text": [
      "{'w': 0, 'd': 1, 'h': 2, 'p': 3, '2': 4, 'P': 5, '’': 6, 'i': 7, 'v': 8, 'm': 9, '\\r': 10, '\\n': 11, 'y': 12, '.': 13, 'M': 14, 'l': 15, 's': 16, ' ': 17, 'c': 18, 'B': 19, 'W': 20, 'u': 21, 'b': 22, 'o': 23, 'k': 24, ',': 25, 'r': 26, 'f': 27, 'A': 28, ';': 29, 'H': 30, 't': 31, 'n': 32, 'g': 33, 'a': 34, '-': 35, 'e': 36, 'z': 37, ':': 38, 'T': 39, 'F': 40}\n",
      "----------------------------------------------------\n",
      "{0: 'w', 1: 'd', 2: 'h', 3: 'p', 4: '2', 5: 'P', 6: '’', 7: 'i', 8: 'v', 9: 'm', 10: '\\r', 11: '\\n', 12: 'y', 13: '.', 14: 'M', 15: 'l', 16: 's', 17: ' ', 18: 'c', 19: 'B', 20: 'W', 21: 'u', 22: 'b', 23: 'o', 24: 'k', 25: ',', 26: 'r', 27: 'f', 28: 'A', 29: ';', 30: 'H', 31: 't', 32: 'n', 33: 'g', 34: 'a', 35: '-', 36: 'e', 37: 'z', 38: ':', 39: 'T', 40: 'F'}\n",
      "----------------------------------------------------\n",
      "[40, 26, 23, 9, 17, 27, 34, 7, 26, 36, 16, 31, 17, 18, 26, 36, 34, 31, 21, 26, 36, 16, 17, 0, 36, 17, 1, 36, 16, 7, 26, 36, 17, 7, 32, 18, 26, 36, 34, 16, 36, 25, 10, 11, 39, 2, 34, 31, 17, 31, 2, 36, 26, 36, 22, 12, 17, 22, 36, 34, 21, 31, 12, 6, 16, 17, 26, 23, 16, 36, 17, 9, 7, 33, 2, 31, 17, 32, 36, 8, 36, 26, 17, 1, 7, 36, 25, 10, 11, 19, 21, 31, 17, 34, 16, 17, 31, 2, 36, 17, 26, 7, 3, 36, 26, 17, 16, 2, 23, 21, 15, 1, 17, 22, 12, 17, 31, 7, 9, 36, 17, 1, 36, 18, 36, 34, 16, 36, 25, 10, 11, 30, 7, 16, 17, 31, 36, 32, 1, 36, 26, 17, 2, 36, 7, 26, 17, 9, 7, 33, 2, 31, 17, 22, 36, 34, 26, 17, 2, 7, 16, 17, 9, 36, 9, 23, 26, 12, 38, 10, 11, 19, 21, 31, 17, 31, 2, 23, 21, 17, 18, 23, 32, 31, 26, 34, 18, 31, 36, 1, 17, 31, 23, 17, 31, 2, 7, 32, 36, 17, 23, 0, 32, 17, 22, 26, 7, 33, 2, 31, 17, 36, 12, 36, 16, 25, 10, 11, 40, 36, 36, 1, 6, 16, 31, 17, 31, 2, 12, 17, 15, 7, 33, 2, 31, 6, 16, 17, 27, 15, 34, 9, 36, 17, 0, 7, 31, 2, 17, 16, 36, 15, 27, 35, 16, 21, 22, 16, 31, 34, 32, 31, 7, 34, 15, 17, 27, 21, 36, 15, 25, 10, 11, 14, 34, 24, 7, 32, 33, 17, 34, 17, 27, 34, 9, 7, 32, 36, 17, 0, 2, 36, 26, 36, 17, 34, 22, 21, 32, 1, 34, 32, 18, 36, 17, 15, 7, 36, 16, 25, 10, 11, 39, 2, 12, 17, 16, 36, 15, 27, 17, 31, 2, 12, 17, 27, 23, 36, 25, 17, 31, 23, 17, 31, 2, 12, 17, 16, 0, 36, 36, 31, 17, 16, 36, 15, 27, 17, 31, 23, 23, 17, 18, 26, 21, 36, 15, 38, 10, 11, 39, 2, 23, 21, 17, 31, 2, 34, 31, 17, 34, 26, 31, 17, 32, 23, 0, 17, 31, 2, 36, 17, 0, 23, 26, 15, 1, 6, 16, 17, 27, 26, 36, 16, 2, 17, 23, 26, 32, 34, 9, 36, 32, 31, 25, 10, 11, 28, 32, 1, 17, 23, 32, 15, 12, 17, 2, 36, 26, 34, 15, 1, 17, 31, 23, 17, 31, 2, 36, 17, 33, 34, 21, 1, 12, 17, 16, 3, 26, 7, 32, 33, 25, 10, 11, 20, 7, 31, 2, 7, 32, 17, 31, 2, 7, 32, 36, 17, 23, 0, 32, 17, 22, 21, 1, 17, 22, 21, 26, 7, 36, 16, 31, 17, 31, 2, 12, 17, 18, 23, 32, 31, 36, 32, 31, 25, 10, 11, 28, 32, 1, 25, 17, 31, 36, 32, 1, 36, 26, 17, 18, 2, 21, 26, 15, 25, 17, 9, 34, 24, 6, 16, 31, 17, 0, 34, 16, 31, 36, 17, 7, 32, 17, 32, 7, 33, 33, 34, 26, 1, 7, 32, 33, 38, 10, 11, 17, 17, 5, 7, 31, 12, 17, 31, 2, 36, 17, 0, 23, 26, 15, 1, 25, 17, 23, 26, 17, 36, 15, 16, 36, 17, 31, 2, 7, 16, 17, 33, 15, 21, 31, 31, 23, 32, 17, 22, 36, 25, 10, 11, 17, 17, 39, 23, 17, 36, 34, 31, 17, 31, 2, 36, 17, 0, 23, 26, 15, 1, 6, 16, 17, 1, 21, 36, 25, 17, 22, 12, 17, 31, 2, 36, 17, 33, 26, 34, 8, 36, 17, 34, 32, 1, 17, 31, 2, 36, 36, 13, 10, 11, 10, 11, 10, 11, 17, 17, 17, 17, 17, 17, 17, 17, 17, 17, 17, 17, 17, 17, 17, 17, 17, 17, 17, 17, 4, 10, 11, 10, 11, 20, 2, 36, 32, 17, 27, 23, 26, 31, 12, 17, 0, 7, 32, 31, 36, 26, 16, 17, 16, 2, 34, 15, 15, 17, 22, 36, 16, 7, 36, 33, 36, 17, 31, 2, 12, 17, 22, 26, 23, 0, 25, 10, 11, 28, 32, 1, 17, 1, 7, 33, 17, 1, 36, 36, 3, 17, 31, 26, 36, 32, 18, 2, 36, 16, 17, 7, 32, 17, 31, 2, 12, 17, 22, 36, 34, 21, 31, 12, 6, 16, 17, 27, 7, 36, 15, 1, 25, 10, 11, 39, 2, 12, 17, 12, 23, 21, 31, 2, 6, 16, 17, 3, 26, 23, 21, 1, 17, 15, 7, 8, 36, 26, 12, 17, 16, 23, 17, 33, 34, 37, 36, 1, 17, 23, 32, 17, 32, 23, 0, 25, 10, 11, 20, 7, 15, 15, 17, 22, 36, 17, 34, 17, 31, 34, 31, 31, 36, 26, 36, 1, 17, 0, 36, 36, 1, 17, 23, 27, 17, 16, 9, 34, 15, 15, 17, 0, 23, 26, 31, 2, 17, 2, 36, 15, 1, 38, 10, 11, 39, 2, 36, 32, 17, 22, 36, 7, 32, 33, 17, 34, 16, 24, 36, 1, 25, 17, 0, 2, 36, 26, 36, 17, 34, 15, 15, 17, 31, 2, 12, 17, 22, 36, 34, 21, 31, 12, 17, 15, 7, 36, 16, 25, 10, 11, 20, 2, 36, 26, 36, 17, 34, 15, 15, 17, 31, 2, 36, 17, 31, 26, 36, 34, 16, 21, 26, 36, 17, 23, 27, 17, 31, 2, 12, 17, 15, 21, 16, 31, 12, 17, 1, 34, 12, 16, 29, 10, 11, 39, 23, 17, 16, 34, 12, 25, 17, 0, 7, 31, 2, 7, 32, 17, 31, 2, 7, 32, 36, 17, 23, 0, 32, 17, 1, 36, 36, 3, 17, 16, 21, 32, 24, 36, 32, 17, 36, 12, 36, 16, 25, 10, 11, 20, 36, 26, 36, 17, 34, 32, 17, 34, 15, 15, 35, 36]\n",
      "----------------------------------------------------\n",
      "data length :  984\n"
     ]
    }
   ],
   "source": [
    "# one hot encode\n",
    "char_to_int = dict((c, i) for i, c in enumerate(chars)) # \"enumerate\" retruns index and value. Convert it to dictionary\n",
    "int_to_char = dict((i, c) for i, c in enumerate(chars))\n",
    "print(char_to_int)\n",
    "print(\"----------------------------------------------------\")\n",
    "print(int_to_char)\n",
    "print(\"----------------------------------------------------\")\n",
    "# integer encode input data\n",
    "integer_encoded = [char_to_int[i] for i in test] # \"integer_encoded\" is a list which has a sequence converted from an original data to integers.\n",
    "print(integer_encoded)\n",
    "print(\"----------------------------------------------------\")\n",
    "print(\"data length : \", len(integer_encoded))"
   ]
  },
  {
   "cell_type": "code",
   "execution_count": 120,
   "metadata": {},
   "outputs": [],
   "source": [
    "# hyperparameters\n",
    "\n",
    "iteration = 500\n",
    "sequence_length = 40\n",
    "batch_size = round((txt_data_size /sequence_length)+0.5) # = math.ceil\n",
    "hidden_size = 500  # size of hidden layer of neurons.  \n",
    "learning_rate = 1e-1\n",
    "\n",
    "\n",
    "# model parameters\n",
    "\n",
    "W_xh = np.random.randn(hidden_size, num_chars)*0.01     # weight input -> hidden. \n",
    "W_hh = np.random.randn(hidden_size, hidden_size)*0.01   # weight hidden -> hidden\n",
    "W_hy = np.random.randn(num_chars, hidden_size)*0.01     # weight hidden -> output\n",
    "\n",
    "b_h = np.zeros((hidden_size, 1)) # hidden bias\n",
    "b_y = np.zeros((num_chars, 1)) # output bias\n",
    "\n",
    "h_prev = np.zeros((hidden_size,1)) # h_(t-1)"
   ]
  },
  {
   "cell_type": "markdown",
   "metadata": {},
   "source": [
    "### Forward Propagation"
   ]
  },
  {
   "cell_type": "code",
   "execution_count": 121,
   "metadata": {},
   "outputs": [],
   "source": [
    "def forwardprop(inputs, targets, h_prev):\n",
    "        \n",
    "    # Since the RNN receives the sequence, the weights are not updated during one sequence.\n",
    "    xs, hs, ys, ps = {}, {}, {}, {} # dictionary\n",
    "    hs[-1] = np.copy(h_prev) # Copy previous hidden state vector to -1 key value.\n",
    "    loss = 0 # loss initialization\n",
    "    \n",
    "    for t in range(len(inputs)): # t is a \"time step\" and is used as a key(dic).  \n",
    "        \n",
    "        xs[t] = np.zeros((num_chars,1)) \n",
    "        xs[t][inputs[t]] = 1\n",
    "        hs[t] = np.tanh(np.dot(W_xh, xs[t]) + np.dot(W_hh, hs[t-1]) + b_h) # hidden state. \n",
    "        ys[t] = np.dot(W_hy, hs[t]) + b_y # unnormalized log probabilities for next chars\n",
    "        ps[t] = np.exp(ys[t]) / np.sum(np.exp(ys[t])) # probabilities for next chars. \n",
    "        \n",
    "        # Softmax. -> The sum of probabilities is 1 even without the exp() function, but all of the elements are positive through the exp() function.\n",
    "        loss += -np.log(ps[t][targets[t],0]) # softmax (cross-entropy loss). Efficient and simple code\n",
    "\n",
    "#         y_class = np.zeros((num_chars, 1)) \n",
    "#         y_class[targets[t]] =1\n",
    "#         loss += np.sum(y_class*(-np.log(ps[t]))) # softmax (cross-entropy loss)        \n",
    "\n",
    "    return loss, ps, hs, xs"
   ]
  },
  {
   "cell_type": "markdown",
   "metadata": {},
   "source": [
    "### Backward Propagation"
   ]
  },
  {
   "cell_type": "code",
   "execution_count": 122,
   "metadata": {},
   "outputs": [],
   "source": [
    "def backprop(ps, inputs, hs, xs, targets):\n",
    "\n",
    "    dWxh, dWhh, dWhy = np.zeros_like(W_xh), np.zeros_like(W_hh), np.zeros_like(W_hy) # make all zero matrices.\n",
    "    dbh, dby = np.zeros_like(b_h), np.zeros_like(b_y)\n",
    "    dhnext = np.zeros_like(hs[0]) # (hidden_size,1) \n",
    "\n",
    "    # reversed\n",
    "    for t in reversed(range(len(inputs))):\n",
    "        dy = np.copy(ps[t]) # shape (num_chars,1).  \"dy\" means \"dloss/dy\"\n",
    "        dy[targets[t]] -= 1 # backprop into y. After taking the soft max in the input vector, subtract 1 from the value of the element corresponding to the correct label.\n",
    "        dWhy += np.dot(dy, hs[t].T)\n",
    "        dby += dy \n",
    "        dh = np.dot(W_hy.T, dy) + dhnext # backprop into h. \n",
    "        dhraw = (1 - hs[t] * hs[t]) * dh # backprop through tanh nonlinearity #tanh'(x) = 1-tanh^2(x)\n",
    "        dbh += dhraw\n",
    "        dWxh += np.dot(dhraw, xs[t].T)\n",
    "        dWhh += np.dot(dhraw, hs[t-1].T)\n",
    "        dhnext = np.dot(W_hh.T, dhraw)\n",
    "    for dparam in [dWxh, dWhh, dWhy, dbh, dby]: \n",
    "        np.clip(dparam, -5, 5, out=dparam) # clip to mitigate exploding gradients.  \n",
    "    \n",
    "    return dWxh, dWhh, dWhy, dbh, dby"
   ]
  },
  {
   "cell_type": "markdown",
   "metadata": {},
   "source": [
    "### Training"
   ]
  },
  {
   "cell_type": "code",
   "execution_count": 125,
   "metadata": {},
   "outputs": [
    {
     "name": "stdout",
     "output_type": "stream",
     "text": [
      "iter 0, loss: 317.517221\n",
      "iter 100, loss: 58.635107\n",
      "iter 200, loss: 50.739476\n",
      "iter 300, loss: 28.169309\n",
      "iter 400, loss: 22.296808\n",
      "iter 500, loss: 14.786602\n",
      "iter 600, loss: 14.882261\n",
      "iter 700, loss: 8.329750\n",
      "iter 800, loss: 28.799441\n",
      "iter 900, loss: 28.707594\n",
      "CPU times: user 19min 52s, sys: 14.8 s, total: 20min 6s\n",
      "Wall time: 10min 16s\n"
     ]
    }
   ],
   "source": [
    "%%time\n",
    "\n",
    "data_pointer = 0\n",
    "\n",
    "# memory variables for Adagrad\n",
    "mWxh, mWhh, mWhy = np.zeros_like(W_xh), np.zeros_like(W_hh), np.zeros_like(W_hy)\n",
    "mbh, mby = np.zeros_like(b_h), np.zeros_like(b_y) \n",
    "\n",
    "for i in range(iteration):\n",
    "    h_prev = np.zeros((hidden_size,1)) # reset RNN memory\n",
    "    data_pointer = 0 # go from start of data\n",
    "    \n",
    "    for b in range(batch_size):\n",
    "        \n",
    "        inputs = [char_to_int[ch] for ch in test[data_pointer:data_pointer+sequence_length]]\n",
    "        targets = [char_to_int[ch] for ch in test[data_pointer+1:data_pointer+sequence_length+1]] # t+1        \n",
    "            \n",
    "        if (data_pointer+sequence_length+1 >= len(test) and b == batch_size-1): # processing of the last part of the input data. \n",
    "#             targets.append(char_to_int[txt_data[0]])   # When the data doesn't fit, add the first char to the back.\n",
    "            targets.append(char_to_int[\" \"])   # When the data doesn't fit, add space(\" \") to the back.\n",
    "\n",
    "\n",
    "        # forward\n",
    "        loss, ps, hs, xs = forwardprop(inputs, targets, h_prev)\n",
    "#         print(loss)\n",
    "    \n",
    "        # backward\n",
    "        dWxh, dWhh, dWhy, dbh, dby = backprop(ps, inputs, hs, xs, targets) \n",
    "        \n",
    "        \n",
    "    # perform parameter update with Adagrad\n",
    "        for param, dparam, mem in zip([W_xh, W_hh, W_hy, b_h, b_y], \n",
    "                                    [dWxh, dWhh, dWhy, dbh, dby], \n",
    "                                    [mWxh, mWhh, mWhy, mbh, mby]):\n",
    "            mem += dparam * dparam # elementwise\n",
    "            param += -learning_rate * dparam / np.sqrt(mem + 1e-8) # adagrad update      \n",
    "    \n",
    "        data_pointer += sequence_length # move data pointer\n",
    "        \n",
    "    if i % 100 == 0:\n",
    "        print ('iter %d, loss: %f' % (i, loss)) # print progress"
   ]
  },
  {
   "cell_type": "markdown",
   "metadata": {},
   "source": [
    "### Prediction"
   ]
  },
  {
   "cell_type": "code",
   "execution_count": 127,
   "metadata": {},
   "outputs": [],
   "source": [
    "def predict(test_char, length):\n",
    "    x = np.zeros((num_chars, 1)) \n",
    "    x[char_to_int[test_char]] = 1\n",
    "    ixes = []\n",
    "    h = np.zeros((hidden_size,1))\n",
    "\n",
    "    for t in range(length):\n",
    "        h = np.tanh(np.dot(W_xh, x) + np.dot(W_hh, h) + b_h) \n",
    "        y = np.dot(W_hy, h) + b_y\n",
    "        p = np.exp(y) / np.sum(np.exp(y)) \n",
    "        ix = np.random.choice(range(num_chars), p=p.ravel()) # ravel -> rank0\n",
    "        # \"ix\" is a list of indexes selected according to the soft max probability.\n",
    "        x = np.zeros((num_chars, 1)) # init\n",
    "        x[ix] = 1 \n",
    "        ixes.append(ix) # list\n",
    "    txt = test_char + ''.join(int_to_char[i] for i in ixes)\n",
    "    print ('----\\n %s \\n----' % (txt, ))"
   ]
  },
  {
   "cell_type": "code",
   "execution_count": 132,
   "metadata": {},
   "outputs": [
    {
     "name": "stdout",
     "output_type": "stream",
     "text": [
      "----\n",
      " Thou thaute piseamlibyasl so  lies,\n",
      "There  heepls sud, the f er, seauwe  hese’se,\n",
      "Waldeeandeep but but akyase weer sounzepveruen weepll oint niesande one on thy beautieed owere  est now,\n",
      "An seautyelkepencreaut the aowwore as the aase an we.\n",
      "Anthy tonty meseep’see the arase. wnere el,\n",
      "\n",
      "\n",
      "elas allukeakere an  wes eakeaalies,\n",
      " fup iesivereall thy migsshy townon\n",
      " as celuking,\n",
      "There ,\n",
      "Thy an,\n",
      "\n",
      "ll-stouar gnaakieedandesyast 2\n",
      "Wede wieldeep ire the dol oin thy sonn alse all-e foere gse ah n  \n",
      "----\n"
     ]
    }
   ],
   "source": [
    "predict('T', 500)"
   ]
  },
  {
   "cell_type": "markdown",
   "metadata": {
    "colab_type": "text",
    "id": "zE4a4O7Bp5x1"
   },
   "source": [
    "# Resources and Stretch Goals"
   ]
  },
  {
   "cell_type": "markdown",
   "metadata": {
    "colab_type": "text",
    "id": "uT3UV3gap9H6"
   },
   "source": [
    "## Stretch goals:\n",
    "- Refine the training and generation of text to be able to ask for different genres/styles of Shakespearean text (e.g. plays versus sonnets)\n",
    "- Train a classification model that takes text and returns which work of Shakespeare it is most likely to be from\n",
    "- Make it more performant! Many possible routes here - lean on Keras, optimize the code, and/or use more resources (AWS, etc.)\n",
    "- Revisit the news example from class, and improve it - use categories or tags to refine the model/generation, or train a news classifier\n",
    "- Run on bigger, better data\n",
    "\n",
    "## Resources:\n",
    "- [The Unreasonable Effectiveness of Recurrent Neural Networks](https://karpathy.github.io/2015/05/21/rnn-effectiveness/) - a seminal writeup demonstrating a simple but effective character-level NLP RNN\n",
    "- [Simple NumPy implementation of RNN](https://github.com/JY-Yoon/RNN-Implementation-using-NumPy/blob/master/RNN%20Implementation%20using%20NumPy.ipynb) - Python 3 version of the code from \"Unreasonable Effectiveness\"\n",
    "- [TensorFlow RNN Tutorial](https://github.com/tensorflow/models/tree/master/tutorials/rnn) - code for training a RNN on the Penn Tree Bank language dataset\n",
    "- [4 part tutorial on RNN](http://www.wildml.com/2015/09/recurrent-neural-networks-tutorial-part-1-introduction-to-rnns/) - relates RNN to the vanishing gradient problem, and provides example implementation\n",
    "- [RNN training tips and tricks](https://github.com/karpathy/char-rnn#tips-and-tricks) - some rules of thumb for parameterizing and training your RNN"
   ]
  }
 ],
 "metadata": {
  "kernelspec": {
   "display_name": "conda_tensorflow_p36",
   "language": "python",
   "name": "conda_tensorflow_p36"
  },
  "language_info": {
   "codemirror_mode": {
    "name": "ipython",
    "version": 3
   },
   "file_extension": ".py",
   "mimetype": "text/x-python",
   "name": "python",
   "nbconvert_exporter": "python",
   "pygments_lexer": "ipython3",
   "version": "3.6.5"
  }
 },
 "nbformat": 4,
 "nbformat_minor": 4
}
