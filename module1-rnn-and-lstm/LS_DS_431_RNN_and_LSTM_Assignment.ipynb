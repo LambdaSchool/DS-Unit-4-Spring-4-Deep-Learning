{
 "cells": [
  {
   "cell_type": "markdown",
   "metadata": {},
   "source": [
    "<img align=\"left\" src=\"https://lever-client-logos.s3.amazonaws.com/864372b1-534c-480e-acd5-9711f850815c-1524247202159.png\" width=200>\n",
    "<br></br>\n",
    "<br></br>\n",
    "\n",
    "## *Data Science Unit 4 Sprint 3 Assignment 1*\n",
    "\n",
    "# Recurrent Neural Networks and Long Short Term Memory (LSTM)\n",
    "\n",
    "![Monkey at a typewriter](https://upload.wikimedia.org/wikipedia/commons/thumb/3/3c/Chimpanzee_seated_at_typewriter.jpg/603px-Chimpanzee_seated_at_typewriter.jpg)\n",
    "\n",
    "It is said that [infinite monkeys typing for an infinite amount of time](https://en.wikipedia.org/wiki/Infinite_monkey_theorem) will eventually type, among other things, the complete works of Wiliam Shakespeare. Let's see if we can get there a bit faster, with the power of Recurrent Neural Networks and LSTM.\n",
    "\n",
    "This text file contains the complete works of Shakespeare: https://www.gutenberg.org/files/100/100-0.txt\n",
    "\n",
    "Use it as training data for an RNN - you can keep it simple and train character level, and that is suggested as an initial approach.\n",
    "\n",
    "Then, use that trained RNN to generate Shakespearean-ish text. Your goal - a function that can take, as an argument, the size of text (e.g. number of characters or lines) to generate, and returns generated text of that size.\n",
    "\n",
    "Note - Shakespeare wrote an awful lot. It's OK, especially initially, to sample/use smaller data and parameters, so you can have a tighter feedback loop when you're trying to get things running. Then, once you've got a proof of concept - start pushing it more!\n",
    "\n",
    "from tensorflow.keras.callbacks import LambdaCallback\n",
    "from tensorflow.keras.preprocessing import sequence\n",
    "from tensorflow.keras.models import Sequential\n",
    "from tensorflow.keras.layers import Dense, LSTM\n",
    "from tensorflow.keras.optimizers import RMSprop\n",
    "\n",
    "import numpy as np\n",
    "import random\n",
    "import sys\n",
    "import os"
   ]
  },
  {
   "cell_type": "code",
   "execution_count": 1,
   "metadata": {},
   "outputs": [],
   "source": [
    "# TODO - Words, words, mere words, no matter from the heart.\n",
    "\n",
    "from tensorflow import keras\n",
    "from tensorflow.keras.preprocessing import sequence\n",
    "from tensorflow.keras.callbacks import LambdaCallback\n",
    "from tensorflow.keras.models import Sequential\n",
    "from tensorflow.keras.layers import Dense, LSTM\n",
    "from tensorflow.keras.optimizers import RMSprop\n",
    "from tensorflow.keras.utils import get_file\n",
    "\n",
    "import pandas as pd\n",
    "import numpy as np\n",
    "import random\n",
    "import sys\n",
    "import os"
   ]
  },
  {
   "cell_type": "code",
   "execution_count": 2,
   "metadata": {},
   "outputs": [],
   "source": [
    "shakespeare_url = \"https://www.gutenberg.org/files/100/100-0.txt\" \n",
    "filepath = get_file(\"shakespeare.txt\", shakespeare_url)\n",
    "with open(filepath, encoding=\"utf8\") as f:\n",
    "    shakespeare_text = f.read()"
   ]
  },
  {
   "cell_type": "code",
   "execution_count": 3,
   "metadata": {},
   "outputs": [],
   "source": [
    "tokenizer = keras.preprocessing.text.Tokenizer(char_level=True, lower=False)\n",
    "tokenizer.fit_on_texts([shakespeare_text])"
   ]
  },
  {
   "cell_type": "code",
   "execution_count": 4,
   "metadata": {},
   "outputs": [],
   "source": [
    "chars = list(set(tokenizer.word_index))\n",
    "\n",
    "char_int = {c:i for i,c in enumerate(chars)}\n",
    "int_char = {i:c for i,c in enumerate(chars)}\n",
    "\n",
    "[encoded] = np.array(tokenizer.texts_to_sequences([shakespeare_text])) -1"
   ]
  },
  {
   "cell_type": "code",
   "execution_count": 5,
   "metadata": {},
   "outputs": [
    {
     "name": "stdout",
     "output_type": "stream",
     "text": [
      "sequences: 1114627\n"
     ]
    }
   ],
   "source": [
    "# Create the Sequence Data\n",
    "maxlen = 20\n",
    "step = 5\n",
    "\n",
    "sequences = [] # Each element is 40 characters long\n",
    "next_char = [] # One element for each sequence\n",
    "for i in range(0, len(encoded) - maxlen, step):\n",
    "    sequences.append(encoded[i : i + maxlen])\n",
    "    next_char.append(encoded[i + maxlen])\n",
    "print('sequences:', len(sequences))\n"
   ]
  },
  {
   "cell_type": "code",
   "execution_count": 6,
   "metadata": {},
   "outputs": [],
   "source": [
    "# Create x & y\n",
    "\n",
    "x = np.zeros((len(sequences), maxlen, len(chars)), dtype=np.bool)\n",
    "y = np.zeros((len(sequences), len(chars)), dtype=np.bool)\n",
    "\n",
    "for i, sequence in enumerate(sequences):\n",
    "    for t, char in enumerate(sequence):\n",
    "        x[i,t,char] = 1\n",
    "        y[i, next_char[i]] = 1"
   ]
  },
  {
   "cell_type": "code",
   "execution_count": 7,
   "metadata": {},
   "outputs": [
    {
     "data": {
      "text/plain": [
       "((1114627, 20, 107), (1114627, 107))"
      ]
     },
     "execution_count": 7,
     "metadata": {},
     "output_type": "execute_result"
    }
   ],
   "source": [
    "x.shape, y.shape"
   ]
  },
  {
   "cell_type": "code",
   "execution_count": 8,
   "metadata": {},
   "outputs": [
    {
     "name": "stdout",
     "output_type": "stream",
     "text": [
      "Model: \"sequential\"\n",
      "_________________________________________________________________\n",
      "Layer (type)                 Output Shape              Param #   \n",
      "=================================================================\n",
      "lstm (LSTM)                  (None, 128)               120832    \n",
      "_________________________________________________________________\n",
      "dense (Dense)                (None, 107)               13803     \n",
      "=================================================================\n",
      "Total params: 134,635\n",
      "Trainable params: 134,635\n",
      "Non-trainable params: 0\n",
      "_________________________________________________________________\n"
     ]
    }
   ],
   "source": [
    "# build the model: a single LSTM\n",
    "\n",
    "model = Sequential()\n",
    "model.add(LSTM(128, input_shape=(maxlen, len(chars))))\n",
    "model.add(Dense(len(chars), activation='softmax'))\n",
    "\n",
    "model.compile(loss='categorical_crossentropy', optimizer='adam')\n",
    "model.summary()"
   ]
  },
  {
   "cell_type": "code",
   "execution_count": 9,
   "metadata": {},
   "outputs": [],
   "source": [
    "def sample(preds):\n",
    "    # helper function to sample an index from a probability array\n",
    "    preds = np.asarray(preds).astype('float64')\n",
    "    preds = np.log(preds) / 1\n",
    "    exp_preds = np.exp(preds)\n",
    "    preds = exp_preds / np.sum(exp_preds)\n",
    "    probas = np.random.multinomial(1, preds, 1)\n",
    "    return np.argmax(probas)\n",
    "\n",
    "def on_epoch_end(epoch, _):\n",
    "    # Function invoked at end of each epoch. Prints generated text.\n",
    "    \n",
    "    print()\n",
    "    print('----- Generating text after Epoch: %d' % epoch)\n",
    "    \n",
    "    start_index = random.randint(0, len(shakespeare_text) - maxlen - 1)\n",
    "    \n",
    "    generated = ''\n",
    "    \n",
    "    sentence = shakespeare_text[start_index: start_index + maxlen]\n",
    "    generated += sentence\n",
    "    \n",
    "    print('----- Generating with seed: \"' + sentence + '\"')\n",
    "    sys.stdout.write(generated)\n",
    "    \n",
    "    for i in range(400):\n",
    "        x_pred = np.zeros((1, maxlen, len(chars)))\n",
    "        for t, char in enumerate(sentence):\n",
    "            x_pred[0, t, char_int[char]] = 1\n",
    "            \n",
    "        preds = model.predict(x_pred, verbose=0)[0]\n",
    "        next_index = sample(preds)\n",
    "        next_char = int_char[next_index]\n",
    "        \n",
    "        sentence = sentence[1:] + next_char\n",
    "        \n",
    "        sys.stdout.write(next_char)\n",
    "        sys.stdout.flush()\n",
    "    print()\n",
    "\n",
    "\n",
    "print_callback = LambdaCallback(on_epoch_end=on_epoch_end)"
   ]
  },
  {
   "cell_type": "code",
   "execution_count": null,
   "metadata": {},
   "outputs": [
    {
     "name": "stdout",
     "output_type": "stream",
     "text": [
      "Train on 1114627 samples\n",
      "Epoch 1/10\n",
      "1114592/1114627 [============================>.] - ETA: 0s - loss: 1.9973\n",
      "----- Generating text after Epoch: 0\n",
      "----- Generating with seed: \"was no thought of pl\"\n",
      "was no thought of plœê:Tçœî*G)œ*zCœî%)*œ\"lêœîzl%qCœÉ:1z|z1ça“q|œq:)œ)*zœ#%FzCœî%)*œl%izœ*%1xaaœâN“Ézœ)*zœ:)zlxaaœâNe:œ*zœî*G)œHœ\"G)çœC*%ACœ\"’:)*z’abT)œB:’zlG)*z’z|œ):œzqzçavzœ%Cœ1Gqœ)*êœÉ’êCœÉ:qG|œ:’œ1êœ'G’zœ1zœ*zqœC:œBGT)*œ1G’i%q#zC)çaœœœœv*zq|œl:qC7C)êœî%\t)œ)*z1xaœœe2H}bà;xœb%zœGq|œÉGqC\"GÉz1)xaaœ3q)z’œ :Tœ50ê;53jeaaœœœœ}:îçœÉ:1zœ%qœ)*êœCz’zlêœ'zzîzCœ*%1œê:Téaœœe*GCœî:1|œ1z))z’œ%Cœ)*:Tœ1zœ:T)œT)ça;':)z’œGêœGq|œ|zÉ*%\n",
      "1114627/1114627 [==============================] - 1186s 1ms/sample - loss: 1.9973\n",
      "Epoch 2/10\n",
      "1114624/1114627 [============================>.] - ETA: 0s - loss: 1.6961\n",
      "----- Generating text after Epoch: 1\n",
      "----- Generating with seed: \".\n",
      "I’ll do anything n\"\n",
      ".\n",
      "I’ll do anything nœ;Tq*%q#œ%Cœ1z’%q#a2:1Gq|a}:9œq:œî%1zœ#:œGq|œ*:q:T’œ'GCCz|çaHqœê:Tgœl:FzxNaab2j-3e32xaHqœCÉG’zœGÉzœ):œ1êœl:’|Cçaœœœœq%ÉzœB:’œ1êœÉ’%l|CœGCœb:||’Gq|çaœœœœJz):’zœê:Tœ#%C)œGÉ)z’œ):œ1êœzz''’zCCœ)*zœC'G’zœJêCGq|çaœœœœbTllœq:)é)’%qzCœlêœ*:T’Ca-êœBGC)z|œq:)*z’7Cœ’G)É*zœC)xaœœ-“2b“23exœv*G)zœ*z’zœGœÉl:îCœî%)*aœœe*zœC'%’Cœ*%Cœ'G’):TCxaœœœœuzÉ)œ*:îCçœq:\"lzœB’%Azaœœœœv*G)œCT%l|œî%llœ)*%Cœî*%)zC%:qœê:TœC*zœ|’T\n",
      "1114627/1114627 [==============================] - 1250s 1ms/sample - loss: 1.6961\n",
      "Epoch 3/10\n",
      "1114624/1114627 [============================>.] - ETA: 0s - loss: 1.6016\n",
      "----- Generating text after Epoch: 2\n",
      "----- Generating with seed: \",\n",
      "A damned saint, an\"\n",
      ",\n",
      "A damned saint, anaaœâNe:œ3G’CxNnœ“I:TlCçœq:œzFz’É*%zF%q#\n",
      "œC*%1zœ*z’œG|:T’Cxaa3?H“çœJ32e2“}çœ—“0?vxaœ;:1zœq:îçœHœ|z7)*z’œ\"T)œ\"%|ça8%qÉzœGœ|:)*œ)*zœBzz’œT':qœ%qœ)*z1œGCœB%FzCœFz’Czgœ;:œC)%C%q#çœG%|Cœ1zœ|zG1œ)*zœ:BBzÉ)aq:#lêœ\"êœ)*zœ:BBzz|œG)zkaHBœ::1CœÉ:C)z’Cxa;É:1zœ#::|œ|:C)œTq|:îqœÉ:1')%F%:q\tCaœœœœv:Tl|œ1z’’%Glœ;%lF%Cçœ)*zœ)%1zœq:)œ'T’'z’xaaJ“2ej03xa2:1zgaœœœœuz’œBG|œî:œB%q|œB%’zlF\t|œî%)*œ1%lzaœœœœ“#G%qœCG%l\t|œ1TÉ*\n",
      "1114627/1114627 [==============================] - 1226s 1ms/sample - loss: 1.6016\n",
      "Epoch 4/10\n",
      "1114592/1114627 [============================>.] - ETA: 0s - loss: 1.5509\n",
      "----- Generating text after Epoch: 3\n",
      "----- Generating with seed: \"n his injury,\n",
      "    He\"\n",
      "n his injury,\n",
      "    Heu3|œ”TqÉGqCçœî%)*œ*zGFzqxae*z’zB::’œ)%)qzîCêœ-GîG’çœ\"T)œ)*zœ':l%ÉzNœî%)*œî%)*C:T’qCœB:’C%q#œ\":îG9aœœœœ“llœê:TœCzêça3GC*œ\"êœ\"zœîzll7|œ\"êœ*z%#*)œ:BBzêCxaau“-03exae*z’zœ%CœGllxaa0 ;“-xa :TœzGÉ*z’7|œ:T)œê:T’CzlBxav*êœ)*:Tœl:q#z’êœ:T’œ’:ÉiCœGCCzlBaœœœœ“q|œ)*%C|z’œ|z)îG’qçœ#::|zq:'œGq|œz’zœê:TgauG’’êœTq):œ)*zzçœ'GG)T’'zœ*T1'%)œGCœ)*z’œ%qœ:Fz’1%Ézça“q|œ#:gaœœœœv*G)œ*z’œ:T)œ:Bœ’:Tq|œ*zG’)*T1Cçœ\"T)œ%Cœ%q):\n",
      "1114627/1114627 [==============================] - 1226s 1ms/sample - loss: 1.5509\n",
      "Epoch 5/10\n",
      " 720640/1114627 [==================>...........] - ETA: 7:06 - loss: 1.5205"
     ]
    }
   ],
   "source": [
    "# fit the model\n",
    "\n",
    "model.fit(x, y,\n",
    "         batch_size=32,\n",
    "         epochs=10,\n",
    "         callbacks=[print_callback])"
   ]
  },
  {
   "cell_type": "code",
   "execution_count": null,
   "metadata": {},
   "outputs": [],
   "source": []
  },
  {
   "cell_type": "code",
   "execution_count": null,
   "metadata": {},
   "outputs": [],
   "source": []
  },
  {
   "cell_type": "code",
   "execution_count": null,
   "metadata": {},
   "outputs": [],
   "source": []
  },
  {
   "cell_type": "markdown",
   "metadata": {
    "colab_type": "text",
    "id": "zE4a4O7Bp5x1"
   },
   "source": [
    "# Resources and Stretch Goals"
   ]
  },
  {
   "cell_type": "markdown",
   "metadata": {
    "colab_type": "text",
    "id": "uT3UV3gap9H6"
   },
   "source": [
    "## Stretch goals:\n",
    "- Refine the training and generation of text to be able to ask for different genres/styles of Shakespearean text (e.g. plays versus sonnets)\n",
    "- Train a classification model that takes text and returns which work of Shakespeare it is most likely to be from\n",
    "- Make it more performant! Many possible routes here - lean on Keras, optimize the code, and/or use more resources (AWS, etc.)\n",
    "- Revisit the news example from class, and improve it - use categories or tags to refine the model/generation, or train a news classifier\n",
    "- Run on bigger, better data\n",
    "\n",
    "## Resources:\n",
    "- [The Unreasonable Effectiveness of Recurrent Neural Networks](https://karpathy.github.io/2015/05/21/rnn-effectiveness/) - a seminal writeup demonstrating a simple but effective character-level NLP RNN\n",
    "- [Simple NumPy implementation of RNN](https://github.com/JY-Yoon/RNN-Implementation-using-NumPy/blob/master/RNN%20Implementation%20using%20NumPy.ipynb) - Python 3 version of the code from \"Unreasonable Effectiveness\"\n",
    "- [TensorFlow RNN Tutorial](https://github.com/tensorflow/models/tree/master/tutorials/rnn) - code for training a RNN on the Penn Tree Bank language dataset\n",
    "- [4 part tutorial on RNN](http://www.wildml.com/2015/09/recurrent-neural-networks-tutorial-part-1-introduction-to-rnns/) - relates RNN to the vanishing gradient problem, and provides example implementation\n",
    "- [RNN training tips and tricks](https://github.com/karpathy/char-rnn#tips-and-tricks) - some rules of thumb for parameterizing and training your RNN"
   ]
  }
 ],
 "metadata": {
  "kernelspec": {
   "display_name": "U4-S2-NNF (Python3)",
   "language": "python",
   "name": "u4-s2-nnf"
  },
  "language_info": {
   "codemirror_mode": {
    "name": "ipython",
    "version": 3
   },
   "file_extension": ".py",
   "mimetype": "text/x-python",
   "name": "python",
   "nbconvert_exporter": "python",
   "pygments_lexer": "ipython3",
   "version": "3.7.0"
  }
 },
 "nbformat": 4,
 "nbformat_minor": 4
}
