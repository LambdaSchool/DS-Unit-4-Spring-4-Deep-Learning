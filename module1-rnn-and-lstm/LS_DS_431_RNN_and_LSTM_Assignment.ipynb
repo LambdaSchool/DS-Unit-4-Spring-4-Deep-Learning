{
 "cells": [
  {
   "cell_type": "markdown",
   "metadata": {},
   "source": [
    "<img align=\"left\" src=\"https://lever-client-logos.s3.amazonaws.com/864372b1-534c-480e-acd5-9711f850815c-1524247202159.png\" width=200>\n",
    "<br></br>\n",
    "<br></br>\n",
    "\n",
    "## *Data Science Unit 4 Sprint 3 Assignment 1*\n",
    "\n",
    "# Recurrent Neural Networks and Long Short Term Memory (LSTM)\n",
    "\n",
    "![Monkey at a typewriter](https://upload.wikimedia.org/wikipedia/commons/thumb/3/3c/Chimpanzee_seated_at_typewriter.jpg/603px-Chimpanzee_seated_at_typewriter.jpg)\n",
    "\n",
    "It is said that [infinite monkeys typing for an infinite amount of time](https://en.wikipedia.org/wiki/Infinite_monkey_theorem) will eventually type, among other things, the complete works of Wiliam Shakespeare. Let's see if we can get there a bit faster, with the power of Recurrent Neural Networks and LSTM.\n",
    "\n",
    "This text file contains the complete works of Shakespeare: https://www.gutenberg.org/files/100/100-0.txt\n",
    "\n",
    "Use it as training data for an RNN - you can keep it simple and train character level, and that is suggested as an initial approach.\n",
    "\n",
    "Then, use that trained RNN to generate Shakespearean-ish text. Your goal - a function that can take, as an argument, the size of text (e.g. number of characters or lines) to generate, and returns generated text of that size.\n",
    "\n",
    "Note - Shakespeare wrote an awful lot. It's OK, especially initially, to sample/use smaller data and parameters, so you can have a tighter feedback loop when you're trying to get things running. Then, once you've got a proof of concept - start pushing it more!"
   ]
  },
  {
   "cell_type": "code",
   "execution_count": 93,
   "metadata": {},
   "outputs": [],
   "source": [
    "from __future__ import print_function\n",
    "\n",
    "import pandas as pd\n",
    "import numpy as np\n",
    "import random\n",
    "import sys\n",
    "import os\n",
    "import time\n",
    "\n",
    "from tensorflow.keras.preprocessing import sequence\n",
    "from tensorflow.keras.callbacks import LambdaCallback\n",
    "from tensorflow.keras.models import Sequential\n",
    "from tensorflow.keras.layers import Dense, Embedding, LSTM\n",
    "from tensorflow.keras.optimizers import RMSprop\n",
    ""
   ]
  },
  {
   "cell_type": "code",
   "execution_count": 4,
   "metadata": {},
   "outputs": [],
   "source": [
    "billy = pd.read_csv('./Shakespeare_data.csv')"
   ]
  },
  {
   "cell_type": "code",
   "execution_count": 17,
   "metadata": {},
   "outputs": [
    {
     "data": {
      "text/html": "<div>\n<style scoped>\n    .dataframe tbody tr th:only-of-type {\n        vertical-align: middle;\n    }\n\n    .dataframe tbody tr th {\n        vertical-align: top;\n    }\n\n    .dataframe thead th {\n        text-align: right;\n    }\n</style>\n<table border=\"1\" class=\"dataframe\">\n  <thead>\n    <tr style=\"text-align: right;\">\n      <th></th>\n      <th>Dataline</th>\n      <th>Play</th>\n      <th>PlayerLinenumber</th>\n      <th>ActSceneLine</th>\n      <th>Player</th>\n      <th>PlayerLine</th>\n    </tr>\n  </thead>\n  <tbody>\n    <tr>\n      <th>0</th>\n      <td>1</td>\n      <td>Henry IV</td>\n      <td>NaN</td>\n      <td>NaN</td>\n      <td>NaN</td>\n      <td>ACT I</td>\n    </tr>\n    <tr>\n      <th>1</th>\n      <td>2</td>\n      <td>Henry IV</td>\n      <td>NaN</td>\n      <td>NaN</td>\n      <td>NaN</td>\n      <td>SCENE I. London. The palace.</td>\n    </tr>\n    <tr>\n      <th>2</th>\n      <td>3</td>\n      <td>Henry IV</td>\n      <td>NaN</td>\n      <td>NaN</td>\n      <td>NaN</td>\n      <td>Enter KING HENRY, LORD JOHN OF LANCASTER, the ...</td>\n    </tr>\n    <tr>\n      <th>3</th>\n      <td>4</td>\n      <td>Henry IV</td>\n      <td>1.0</td>\n      <td>1.1.1</td>\n      <td>KING HENRY IV</td>\n      <td>So shaken as we are, so wan with care,</td>\n    </tr>\n    <tr>\n      <th>4</th>\n      <td>5</td>\n      <td>Henry IV</td>\n      <td>1.0</td>\n      <td>1.1.2</td>\n      <td>KING HENRY IV</td>\n      <td>Find we a time for frighted peace to pant,</td>\n    </tr>\n  </tbody>\n</table>\n</div>",
      "text/plain": "   Dataline      Play  PlayerLinenumber ActSceneLine         Player  \\\n0         1  Henry IV               NaN          NaN            NaN   \n1         2  Henry IV               NaN          NaN            NaN   \n2         3  Henry IV               NaN          NaN            NaN   \n3         4  Henry IV               1.0        1.1.1  KING HENRY IV   \n4         5  Henry IV               1.0        1.1.2  KING HENRY IV   \n\n                                          PlayerLine  \n0                                              ACT I  \n1                       SCENE I. London. The palace.  \n2  Enter KING HENRY, LORD JOHN OF LANCASTER, the ...  \n3             So shaken as we are, so wan with care,  \n4         Find we a time for frighted peace to pant,  "
     },
     "execution_count": 17,
     "metadata": {},
     "output_type": "execute_result"
    }
   ],
   "source": [
    "billy.head()"
   ]
  },
  {
   "cell_type": "code",
   "execution_count": 16,
   "metadata": {},
   "outputs": [
    {
     "data": {
      "text/plain": "array(['Henry IV', 'Henry VI Part 1', 'Henry VI Part 2',\n       'Henry VI Part 3', 'Alls well that ends well', 'As you like it',\n       'Antony and Cleopatra', 'A Comedy of Errors', 'Coriolanus',\n       'Cymbeline', 'Hamlet', 'Henry V', 'Henry VIII', 'King John',\n       'Julius Caesar', 'King Lear', 'Loves Labours Lost', 'macbeth',\n       'Measure for measure', 'Merchant of Venice',\n       'Merry Wives of Windsor', 'A Midsummer nights dream',\n       'Much Ado about nothing', 'Othello', 'Pericles', 'Richard II',\n       'Richard III', 'Romeo and Juliet', 'Taming of the Shrew',\n       'The Tempest', 'Timon of Athens', 'Titus Andronicus',\n       'Troilus and Cressida', 'Twelfth Night', 'Two Gentlemen of Verona',\n       'A Winters Tale'], dtype=object)"
     },
     "execution_count": 16,
     "metadata": {},
     "output_type": "execute_result"
    }
   ],
   "source": [
    "play_titles = billy.Play.unique()\n",
    "play_titles"
   ]
  },
  {
   "cell_type": "code",
   "execution_count": 18,
   "metadata": {},
   "outputs": [],
   "source": [
    "histories = ['Henry IV', 'Henry VI Part 1', 'Henry VI Part 2', 'Henry VI Part 3',\n",
    "             'Henry V', 'Henry VIII', 'King John', 'Richard II', 'Richard III',\n",
    "             'Pericles']\n",
    "\n",
    "tragedies = ['Antony and Cleopatra', 'Coriolanus', 'Cymbeline', 'Hamlet', \n",
    "             'Julius Caesar', 'King Lear', 'macbeth', 'Othello', 'Troilus and Cressida',\n",
    "             'Romeo and Juliet', 'Timon of Athens', 'Titus Andronicus']\n",
    "\n",
    "comedies = ['Alls well that ends well', 'As you like it', 'A Comedy of Errors',\n",
    "            'Loves Labours Lost', 'Measure for measure', 'Merchant of Venice',\n",
    "            'Merry Wives of Windsor', 'A Midsummer nights dream', 'Much Ado about nothing',\n",
    "            'Taming of the Shrew', 'The Tempest', 'Twelfth Night', 'Two Gentlemen of Verona',\n",
    "            'A Winters Tale']"
   ]
  },
  {
   "cell_type": "code",
   "execution_count": 25,
   "metadata": {},
   "outputs": [
    {
     "data": {
      "text/html": "<div>\n<style scoped>\n    .dataframe tbody tr th:only-of-type {\n        vertical-align: middle;\n    }\n\n    .dataframe tbody tr th {\n        vertical-align: top;\n    }\n\n    .dataframe thead th {\n        text-align: right;\n    }\n</style>\n<table border=\"1\" class=\"dataframe\">\n  <thead>\n    <tr style=\"text-align: right;\">\n      <th></th>\n      <th>Dataline</th>\n      <th>Play</th>\n      <th>PlayerLinenumber</th>\n      <th>ActSceneLine</th>\n      <th>Player</th>\n      <th>PlayerLine</th>\n    </tr>\n  </thead>\n  <tbody>\n    <tr>\n      <th>0</th>\n      <td>1</td>\n      <td>Henry IV</td>\n      <td>NaN</td>\n      <td>NaN</td>\n      <td>NaN</td>\n      <td>ACT I</td>\n    </tr>\n    <tr>\n      <th>1</th>\n      <td>2</td>\n      <td>Henry IV</td>\n      <td>NaN</td>\n      <td>NaN</td>\n      <td>NaN</td>\n      <td>SCENE I. London. The palace.</td>\n    </tr>\n    <tr>\n      <th>2</th>\n      <td>3</td>\n      <td>Henry IV</td>\n      <td>NaN</td>\n      <td>NaN</td>\n      <td>NaN</td>\n      <td>Enter KING HENRY, LORD JOHN OF LANCASTER, the ...</td>\n    </tr>\n    <tr>\n      <th>3</th>\n      <td>4</td>\n      <td>Henry IV</td>\n      <td>1.0</td>\n      <td>1.1.1</td>\n      <td>KING HENRY IV</td>\n      <td>So shaken as we are, so wan with care,</td>\n    </tr>\n    <tr>\n      <th>4</th>\n      <td>5</td>\n      <td>Henry IV</td>\n      <td>1.0</td>\n      <td>1.1.2</td>\n      <td>KING HENRY IV</td>\n      <td>Find we a time for frighted peace to pant,</td>\n    </tr>\n  </tbody>\n</table>\n</div>",
      "text/plain": "   Dataline      Play  PlayerLinenumber ActSceneLine         Player  \\\n0         1  Henry IV               NaN          NaN            NaN   \n1         2  Henry IV               NaN          NaN            NaN   \n2         3  Henry IV               NaN          NaN            NaN   \n3         4  Henry IV               1.0        1.1.1  KING HENRY IV   \n4         5  Henry IV               1.0        1.1.2  KING HENRY IV   \n\n                                          PlayerLine  \n0                                              ACT I  \n1                       SCENE I. London. The palace.  \n2  Enter KING HENRY, LORD JOHN OF LANCASTER, the ...  \n3             So shaken as we are, so wan with care,  \n4         Find we a time for frighted peace to pant,  "
     },
     "execution_count": 25,
     "metadata": {},
     "output_type": "execute_result"
    }
   ],
   "source": [
    "billy.head()"
   ]
  },
  {
   "cell_type": "code",
   "execution_count": 31,
   "metadata": {},
   "outputs": [],
   "source": [
    "df2 = billy.copy()"
   ]
  },
  {
   "cell_type": "code",
   "execution_count": 52,
   "metadata": {},
   "outputs": [
    {
     "data": {
      "text/html": "<div>\n<style scoped>\n    .dataframe tbody tr th:only-of-type {\n        vertical-align: middle;\n    }\n\n    .dataframe tbody tr th {\n        vertical-align: top;\n    }\n\n    .dataframe thead th {\n        text-align: right;\n    }\n</style>\n<table border=\"1\" class=\"dataframe\">\n  <thead>\n    <tr style=\"text-align: right;\">\n      <th></th>\n      <th>Dataline</th>\n      <th>Play</th>\n      <th>PlayerLinenumber</th>\n      <th>ActSceneLine</th>\n      <th>Player</th>\n      <th>PlayerLine</th>\n      <th>genre</th>\n    </tr>\n  </thead>\n  <tbody>\n    <tr>\n      <th>0</th>\n      <td>1</td>\n      <td>Henry IV</td>\n      <td>NaN</td>\n      <td>NaN</td>\n      <td>NaN</td>\n      <td>ACT I</td>\n      <td>comedy</td>\n    </tr>\n    <tr>\n      <th>1</th>\n      <td>2</td>\n      <td>Henry IV</td>\n      <td>NaN</td>\n      <td>NaN</td>\n      <td>NaN</td>\n      <td>SCENE I. London. The palace.</td>\n      <td>comedy</td>\n    </tr>\n    <tr>\n      <th>2</th>\n      <td>3</td>\n      <td>Henry IV</td>\n      <td>NaN</td>\n      <td>NaN</td>\n      <td>NaN</td>\n      <td>Enter KING HENRY, LORD JOHN OF LANCASTER, the ...</td>\n      <td>comedy</td>\n    </tr>\n    <tr>\n      <th>3</th>\n      <td>4</td>\n      <td>Henry IV</td>\n      <td>1.0</td>\n      <td>1.1.1</td>\n      <td>KING HENRY IV</td>\n      <td>So shaken as we are, so wan with care,</td>\n      <td>comedy</td>\n    </tr>\n    <tr>\n      <th>4</th>\n      <td>5</td>\n      <td>Henry IV</td>\n      <td>1.0</td>\n      <td>1.1.2</td>\n      <td>KING HENRY IV</td>\n      <td>Find we a time for frighted peace to pant,</td>\n      <td>comedy</td>\n    </tr>\n    <tr>\n      <th>5</th>\n      <td>6</td>\n      <td>Henry IV</td>\n      <td>1.0</td>\n      <td>1.1.3</td>\n      <td>KING HENRY IV</td>\n      <td>And breathe short-winded accents of new broils</td>\n      <td>comedy</td>\n    </tr>\n    <tr>\n      <th>6</th>\n      <td>7</td>\n      <td>Henry IV</td>\n      <td>1.0</td>\n      <td>1.1.4</td>\n      <td>KING HENRY IV</td>\n      <td>To be commenced in strands afar remote.</td>\n      <td>comedy</td>\n    </tr>\n    <tr>\n      <th>7</th>\n      <td>8</td>\n      <td>Henry IV</td>\n      <td>1.0</td>\n      <td>1.1.5</td>\n      <td>KING HENRY IV</td>\n      <td>No more the thirsty entrance of this soil</td>\n      <td>comedy</td>\n    </tr>\n  </tbody>\n</table>\n</div>",
      "text/plain": "   Dataline      Play  PlayerLinenumber ActSceneLine         Player  \\\n0         1  Henry IV               NaN          NaN            NaN   \n1         2  Henry IV               NaN          NaN            NaN   \n2         3  Henry IV               NaN          NaN            NaN   \n3         4  Henry IV               1.0        1.1.1  KING HENRY IV   \n4         5  Henry IV               1.0        1.1.2  KING HENRY IV   \n5         6  Henry IV               1.0        1.1.3  KING HENRY IV   \n6         7  Henry IV               1.0        1.1.4  KING HENRY IV   \n7         8  Henry IV               1.0        1.1.5  KING HENRY IV   \n\n                                          PlayerLine   genre  \n0                                              ACT I  comedy  \n1                       SCENE I. London. The palace.  comedy  \n2  Enter KING HENRY, LORD JOHN OF LANCASTER, the ...  comedy  \n3             So shaken as we are, so wan with care,  comedy  \n4         Find we a time for frighted peace to pant,  comedy  \n5     And breathe short-winded accents of new broils  comedy  \n6            To be commenced in strands afar remote.  comedy  \n7          No more the thirsty entrance of this soil  comedy  "
     },
     "execution_count": 52,
     "metadata": {},
     "output_type": "execute_result"
    }
   ],
   "source": [
    "df2['genre'] = 'comedy'\n",
    "df2.head(8)"
   ]
  },
  {
   "cell_type": "code",
   "execution_count": 74,
   "metadata": {},
   "outputs": [],
   "source": [
    "def get_genre(title):\n",
    "    if title in histories:\n",
    "        genre = 'history'\n",
    "    elif title in tragedies:\n",
    "        genre = 'tragedy'\n",
    "    else:\n",
    "        genre = 'comedy'\n",
    "    return genre"
   ]
  },
  {
   "cell_type": "code",
   "execution_count": 75,
   "metadata": {},
   "outputs": [],
   "source": [
    "df2['genre'] = df2['Play'].apply(get_genre)"
   ]
  },
  {
   "cell_type": "code",
   "execution_count": 76,
   "metadata": {},
   "outputs": [
    {
     "data": {
      "text/html": "<div>\n<style scoped>\n    .dataframe tbody tr th:only-of-type {\n        vertical-align: middle;\n    }\n\n    .dataframe tbody tr th {\n        vertical-align: top;\n    }\n\n    .dataframe thead th {\n        text-align: right;\n    }\n</style>\n<table border=\"1\" class=\"dataframe\">\n  <thead>\n    <tr style=\"text-align: right;\">\n      <th></th>\n      <th>Dataline</th>\n      <th>Play</th>\n      <th>PlayerLinenumber</th>\n      <th>ActSceneLine</th>\n      <th>Player</th>\n      <th>PlayerLine</th>\n      <th>genre</th>\n    </tr>\n  </thead>\n  <tbody>\n    <tr>\n      <th>0</th>\n      <td>1</td>\n      <td>Henry IV</td>\n      <td>NaN</td>\n      <td>NaN</td>\n      <td>NaN</td>\n      <td>ACT I</td>\n      <td>history</td>\n    </tr>\n    <tr>\n      <th>1</th>\n      <td>2</td>\n      <td>Henry IV</td>\n      <td>NaN</td>\n      <td>NaN</td>\n      <td>NaN</td>\n      <td>SCENE I. London. The palace.</td>\n      <td>history</td>\n    </tr>\n    <tr>\n      <th>2</th>\n      <td>3</td>\n      <td>Henry IV</td>\n      <td>NaN</td>\n      <td>NaN</td>\n      <td>NaN</td>\n      <td>Enter KING HENRY, LORD JOHN OF LANCASTER, the ...</td>\n      <td>history</td>\n    </tr>\n    <tr>\n      <th>3</th>\n      <td>4</td>\n      <td>Henry IV</td>\n      <td>1.0</td>\n      <td>1.1.1</td>\n      <td>KING HENRY IV</td>\n      <td>So shaken as we are, so wan with care,</td>\n      <td>history</td>\n    </tr>\n    <tr>\n      <th>4</th>\n      <td>5</td>\n      <td>Henry IV</td>\n      <td>1.0</td>\n      <td>1.1.2</td>\n      <td>KING HENRY IV</td>\n      <td>Find we a time for frighted peace to pant,</td>\n      <td>history</td>\n    </tr>\n  </tbody>\n</table>\n</div>",
      "text/plain": "   Dataline      Play  PlayerLinenumber ActSceneLine         Player  \\\n0         1  Henry IV               NaN          NaN            NaN   \n1         2  Henry IV               NaN          NaN            NaN   \n2         3  Henry IV               NaN          NaN            NaN   \n3         4  Henry IV               1.0        1.1.1  KING HENRY IV   \n4         5  Henry IV               1.0        1.1.2  KING HENRY IV   \n\n                                          PlayerLine    genre  \n0                                              ACT I  history  \n1                       SCENE I. London. The palace.  history  \n2  Enter KING HENRY, LORD JOHN OF LANCASTER, the ...  history  \n3             So shaken as we are, so wan with care,  history  \n4         Find we a time for frighted peace to pant,  history  "
     },
     "execution_count": 76,
     "metadata": {},
     "output_type": "execute_result"
    }
   ],
   "source": [
    "df2.head()"
   ]
  },
  {
   "cell_type": "code",
   "execution_count": 77,
   "metadata": {},
   "outputs": [],
   "source": [
    "lines = df2[df2['Player'].notna()]"
   ]
  },
  {
   "cell_type": "code",
   "execution_count": 78,
   "metadata": {},
   "outputs": [
    {
     "data": {
      "text/html": "<div>\n<style scoped>\n    .dataframe tbody tr th:only-of-type {\n        vertical-align: middle;\n    }\n\n    .dataframe tbody tr th {\n        vertical-align: top;\n    }\n\n    .dataframe thead th {\n        text-align: right;\n    }\n</style>\n<table border=\"1\" class=\"dataframe\">\n  <thead>\n    <tr style=\"text-align: right;\">\n      <th></th>\n      <th>Dataline</th>\n      <th>Play</th>\n      <th>PlayerLinenumber</th>\n      <th>ActSceneLine</th>\n      <th>Player</th>\n      <th>PlayerLine</th>\n      <th>genre</th>\n    </tr>\n  </thead>\n  <tbody>\n    <tr>\n      <th>3</th>\n      <td>4</td>\n      <td>Henry IV</td>\n      <td>1.0</td>\n      <td>1.1.1</td>\n      <td>KING HENRY IV</td>\n      <td>So shaken as we are, so wan with care,</td>\n      <td>history</td>\n    </tr>\n    <tr>\n      <th>4</th>\n      <td>5</td>\n      <td>Henry IV</td>\n      <td>1.0</td>\n      <td>1.1.2</td>\n      <td>KING HENRY IV</td>\n      <td>Find we a time for frighted peace to pant,</td>\n      <td>history</td>\n    </tr>\n    <tr>\n      <th>5</th>\n      <td>6</td>\n      <td>Henry IV</td>\n      <td>1.0</td>\n      <td>1.1.3</td>\n      <td>KING HENRY IV</td>\n      <td>And breathe short-winded accents of new broils</td>\n      <td>history</td>\n    </tr>\n    <tr>\n      <th>6</th>\n      <td>7</td>\n      <td>Henry IV</td>\n      <td>1.0</td>\n      <td>1.1.4</td>\n      <td>KING HENRY IV</td>\n      <td>To be commenced in strands afar remote.</td>\n      <td>history</td>\n    </tr>\n    <tr>\n      <th>7</th>\n      <td>8</td>\n      <td>Henry IV</td>\n      <td>1.0</td>\n      <td>1.1.5</td>\n      <td>KING HENRY IV</td>\n      <td>No more the thirsty entrance of this soil</td>\n      <td>history</td>\n    </tr>\n  </tbody>\n</table>\n</div>",
      "text/plain": "   Dataline      Play  PlayerLinenumber ActSceneLine         Player  \\\n3         4  Henry IV               1.0        1.1.1  KING HENRY IV   \n4         5  Henry IV               1.0        1.1.2  KING HENRY IV   \n5         6  Henry IV               1.0        1.1.3  KING HENRY IV   \n6         7  Henry IV               1.0        1.1.4  KING HENRY IV   \n7         8  Henry IV               1.0        1.1.5  KING HENRY IV   \n\n                                       PlayerLine    genre  \n3          So shaken as we are, so wan with care,  history  \n4      Find we a time for frighted peace to pant,  history  \n5  And breathe short-winded accents of new broils  history  \n6         To be commenced in strands afar remote.  history  \n7       No more the thirsty entrance of this soil  history  "
     },
     "execution_count": 78,
     "metadata": {},
     "output_type": "execute_result"
    }
   ],
   "source": [
    "lines.head()"
   ]
  },
  {
   "cell_type": "code",
   "execution_count": 107,
   "metadata": {},
   "outputs": [],
   "source": [
    "#  filter by genre if preferred - comedy/history/tragedy\n",
    "\n",
    "df = lines.loc[lines['genre'] == 'comedy']\n",
    "text = \" \".join(df['PlayerLine'])"
   ]
  },
  {
   "cell_type": "code",
   "execution_count": 110,
   "metadata": {},
   "outputs": [],
   "source": [
    "chars = list(set(text))\n",
    "char_int = {c:i for i,c in enumerate(chars)}\n",
    "int_char = {i:c for i,c in enumerate(chars)}"
   ]
  },
  {
   "cell_type": "code",
   "execution_count": 114,
   "metadata": {},
   "outputs": [
    {
     "data": {
      "text/plain": "{'F': 0,\n 'V': 1,\n 'B': 2,\n 'p': 3,\n 'o': 4,\n 'W': 5,\n 'C': 6,\n 'Z': 7,\n ' ': 8,\n 'a': 9,\n 'O': 10,\n 'G': 11,\n 'x': 12,\n 'N': 13,\n 'E': 14,\n 'A': 15,\n \"'\": 16,\n 'r': 17,\n 'k': 18,\n 'M': 19,\n ']': 20,\n 'm': 21,\n 't': 22,\n 'd': 23,\n 'z': 24,\n 'S': 25,\n 'y': 26,\n '.': 27,\n 'e': 28,\n '[': 29,\n 'K': 30,\n 'i': 31,\n 'q': 32,\n 'D': 33,\n 'J': 34,\n 'j': 35,\n 'v': 36,\n 'I': 37,\n 'T': 38,\n 'f': 39,\n 'g': 40,\n ':': 41,\n 'P': 42,\n '-': 43,\n 'U': 44,\n 'l': 45,\n 'w': 46,\n ',': 47,\n 'L': 48,\n '?': 49,\n 'Q': 50,\n 'h': 51,\n 's': 52,\n 'Y': 53,\n 'u': 54,\n 'n': 55,\n 'c': 56,\n 'b': 57,\n '!': 58,\n 'R': 59,\n 'X': 60,\n 'H': 61,\n '\\t': 62}"
     },
     "execution_count": 114,
     "metadata": {},
     "output_type": "execute_result"
    }
   ],
   "source": [
    "char_int"
   ]
  },
  {
   "cell_type": "code",
   "execution_count": 111,
   "metadata": {},
   "outputs": [
    {
     "name": "stdout",
     "output_type": "stream",
     "text": "sequences: 100217\n"
    }
   ],
   "source": [
    "maxlen = 50\n",
    "step = 15\n",
    "\n",
    "encoded = [char_int[c] for c in text]\n",
    "\n",
    "sequences = []  # Each element is 40 chars long\n",
    "next_chars = [] # One element for each sequence\n",
    "\n",
    "for i in range(0, len(encoded) - maxlen, step):\n",
    "    sequences.append(encoded[i : i + maxlen])\n",
    "    next_chars.append(encoded[i + maxlen])\n",
    "\n",
    "print('sequences:', len(sequences))"
   ]
  },
  {
   "cell_type": "code",
   "execution_count": 112,
   "metadata": {},
   "outputs": [],
   "source": [
    "x = np.zeros((len(sequences), maxlen, len(chars)), dtype=np.bool)\n",
    "y = np.zeros((len(sequences), len(chars)), dtype=np.bool)\n",
    "\n",
    "for i, sequence in enumerate(sequences):\n",
    "    for t, char in enumerate(sequence):\n",
    "        x[i,t,char] = 1\n",
    "    \n",
    "    y[i, next_chars[i]] = 1"
   ]
  },
  {
   "cell_type": "code",
   "execution_count": 113,
   "metadata": {},
   "outputs": [
    {
     "name": "stdout",
     "output_type": "stream",
     "text": "(100217, 50, 63)\n(100217, 63)\n"
    }
   ],
   "source": [
    "print(x.shape)\n",
    "print(y.shape)"
   ]
  },
  {
   "cell_type": "code",
   "execution_count": 90,
   "metadata": {},
   "outputs": [
    {
     "name": "stdout",
     "output_type": "stream",
     "text": "WARNING:tensorflow:From C:\\Users\\RevL\\.conda\\envs\\U4-S2-DL\\lib\\site-packages\\tensorflow\\python\\ops\\resource_variable_ops.py:435: colocate_with (from tensorflow.python.framework.ops) is deprecated and will be removed in a future version.\nInstructions for updating:\nColocations handled automatically by placer.\n"
    }
   ],
   "source": [
    "model = Sequential()\n",
    "model.add(LSTM(128, input_shape=(maxlen, len(chars))))\n",
    "model.add(Dense(len(chars), activation='softmax'))\n",
    "\n",
    "model.compile(loss='categorical_crossentropy', optimizer='adam')"
   ]
  },
  {
   "cell_type": "code",
   "execution_count": 118,
   "metadata": {},
   "outputs": [],
   "source": [
    "def sample(preds, temperature=1.0):\n",
    "    # helper function to sample an index from a probability array\n",
    "    preds = np.asarray(preds).astype('float64')\n",
    "    preds = np.log(preds) / temperature\n",
    "    exp_preds = np.exp(preds)\n",
    "    preds = exp_preds / np.sum(exp_preds)\n",
    "    probas = np.random.multinomial(1, preds, 1)\n",
    "    return np.argmax(probas)"
   ]
  },
  {
   "cell_type": "code",
   "execution_count": 119,
   "metadata": {},
   "outputs": [],
   "source": [
    "def on_epoch_end(epoch, _):\n",
    "    # Function invoked at end of each epoch. Prints generated text.\n",
    "    print()\n",
    "    print('----- Generating text after Epoch: %d' % epoch)\n",
    "\n",
    "    start_index = random.randint(0, len(text) - maxlen - 1)\n",
    "    for diversity in [0.2, 0.5, 1.0, 1.2]:\n",
    "        print('----- diversity:', diversity)\n",
    "\n",
    "        generated = ''\n",
    "        sentence = text[start_index: start_index + maxlen]\n",
    "        generated += sentence\n",
    "        print('----- Generating with seed: \"' + sentence + '\"')\n",
    "        sys.stdout.write(generated)\n",
    "\n",
    "        for i in range(400):\n",
    "            x_pred = np.zeros((1, maxlen, len(chars)))\n",
    "            for t, char in enumerate(sentence):\n",
    "                x_pred[0, t, char_int[char]] = 1\n",
    "\n",
    "            preds = model.predict(x_pred, verbose=0)[0]\n",
    "            next_index = sample(preds, diversity)\n",
    "            next_char = int_char[next_index]\n",
    "\n",
    "            sentence = sentence[1:] + next_char\n",
    "\n",
    "            sys.stdout.write(next_char)\n",
    "            sys.stdout.flush()\n",
    "        print()\n",
    "\n",
    "print_callback = LambdaCallback(on_epoch_end=on_epoch_end)"
   ]
  },
  {
   "cell_type": "code",
   "execution_count": 120,
   "metadata": {},
   "outputs": [
    {
     "name": "stdout",
     "output_type": "stream",
     "text": ",whatinaprountercomesandcountintherestortofhisnothingbetheduthtre\n----- diversity: 1.0\n----- Generating with seed: \"er o'er his follies, Will never do him good, not o\"\ner o'er his follies, Will never do him good, not oth-mookt,whutIwelldyourNostine,Hefitenmeshave:nowthembearwasnotorisenion,thyulfibringsmadingblit,lewme,live,mymusayafortsofwould,Sahalksting?WisthIdoldmeleantathen.Ihaveyou.Hark'sstaleisinforthitEloult,bratirs.ExeuntAngiledyou.Whatyoutrice.Murtcomehosnohishwanes,Toheefortysory,EndATIOdostilns,aNThcaknthereyandnos,dise.Mygea\n----- diversity: 1.2\n----- Generating with seed: \"er o'er his follies, Will never do him good, not o\"\ner o'er his follies, Will never do him good, not oflowittruslo:Aindscceams,Bybeersage.ANHabld,andjromw.herbasgedcrasswear?Iwarnaschak.Fainttant,edshalfernthee'.Silvygolyorcaresslaving:myiknationMonking'dpoy.O'nesomt,Mypondy?nowelt,yeuramlccesthisninu.Efoulthclifite--hamyourjuach,SonIanfthishaun,therahe,I.Snod,I,'stanhakeandyou,how.Aduthitthebeang:Flaobo.Comesmake,had?ThotiandserplyQ\n100217/100217 [==============================] - 114s 1ms/sample - loss: 1.8365\nEpoch 7/15\n100096/100217 [============================>.] - ETA: 0s - loss: 1.8067\n----- Generating text after Epoch: 6\n----- diversity: 0.2\n----- Generating with seed: \"s, and mulberries, The honey-bags steal from the h\"\ns, and mulberries, The honey-bags steal from the hangerthecourtherthecountandsheconcentythesonethecountthesondherherthebeforethehanghtthecountthesonethecountofthetone.Andthesoneintheprice,andthehandamouththesonestthemanthemanthecountthesonesandthecountthemanterthesuncethebearhavethecourttomanthecourtthecoundthefortherthatherherthehangerherandthecountthecourtthecount\n----- diversity: 0.5\n----- Generating with seed: \"s, and mulberries, The honey-bags steal from the h\"\ns, and mulberries, The honey-bags steal from the hingofherwithnowintheplaityourofhimtheshallherforhimthereare,nostallhimheardthemunterandlavethecours,Idohatisthesanterstane,Wherehistherethedonatedyourafordyouhearinthesonner,Andmatingissainandlivethanheryourhingallbeofthecannotthemaneandhisnearsherforhimandthesoner.Whatthecounttheelestaprocherofyouhereandcourthers\n----- diversity: 1.0\n----- Generating with seed: \"s, and mulberries, The honey-bags steal from the h\"\ns, and mulberries, The honey-bags steal from the hongter,beuterhothwistamorry:Mugtingishashe-ropte.Weatbrayleakandthehandcureasoo,inafouronme,toI'llmuthceedbearlwichnir,yom:ifthisfarchsedme,theday!Whatiseheagl!Isnotstren-foryouthandstladnaffchicies'noven.Cwich!Thatmest.Ipbeingert,andititWittreetitbuwdehoons.EnteruABeStAPHOLSSSig,asindywill.Latios,thouswore,constapleghtine\n----- diversity: 1.2\n----- Generating with seed: \"s, and mulberries, The honey-bags steal from the h\"\ns, and mulberries, The honey-bags steal from the heapes,Icloadsame.Hoveatrabeneathan,caven:thebeftwilethoupromMe?,lik,saire.shattitbo,Bustherindings,AndEvingtuselv,sin,yourdat'sgraeandyour,genharpy,sod-porse,Thar:bidblikerid.Otoubyford,leverdywrowbeknowniolMyhomenanquorsethantheupurpe.Youshargveop.TNakswrFameestlangous:fuchill.tooy,ri,Orillwebiar,byKenden.Clodinath,ofyou,mecon\n100217/100217 [==============================] - 115s 1ms/sample - loss: 1.8068\nEpoch 8/15\n100096/100217 [============================>.] - ETA: 0s - loss: 1.7793\n----- Generating text after Epoch: 7\n----- diversity: 0.2\n----- Generating with seed: \"rse again. Go, go, provide. Exeunt SCENE II. Rousi\"\nrse again. Go, go, provide. Exeunt SCENE II. RousingMasterandshedeartthesomeandmanthemanandmetomakethemanthesertethesayandherstandhimthemanthemanthesandertomasterandtheshallthesoneandmanthementerwiththemanthemanthemanandmylordthemanthemanthemanthemanandmanthesanderthemearstotheshallthesaythemanandsenceandherthathavethesoneandmanthesentersandmantheshallwitha\n----- diversity: 0.5\n----- Generating with seed: \"rse again. Go, go, provide. Exeunt SCENE II. Rousi\"\nrse again. Go, go, provide. Exeunt SCENE II. Rousineandheresenandyourmanestthesangetomayforwillyourmorethesackandcompanntofthesoneandlikewithershallmymenandmakethissoneandmyliver,Thereisstallthemustmeunderstthanshallthecounter'sthedearsthathimsoneasaworesthedistbritgetoyourlond,andthewatinhimplaceformetrienfromthemeansmethewouldsir,Forthereortersacartetomustmethebe\n----- diversity: 1.0\n----- Generating with seed: \"rse again. Go, go, provide. Exeunt SCENE II. Rousi\"\nrse again. Go, go, provide. Exeunt SCENE II. Rousie,Inwhin?goatsumectees:Wherehusathestrange:Idury,toredied,andthyloinfelmeno?I,hycandingnepermeswerdtoyoubeakedoweAldadayasSice,'gre'sfUleashtaneodhiswalfingadrest,heghel,sayInthischidetaysweesmycoandshisaplivery:yenhaveyouralanghewithnotwamefaneyouaamoriennot.Failigtogreanofchelperdedtoknot,ence.ThisyougaotsSillhavehisth\n----- diversity: 1.2\n----- Generating with seed: \"rse again. Go, go, provide. Exeunt SCENE II. Rousi\"\nrse again. Go, go, provide. Exeunt SCENE II. Rousianaidsshecanorel.ExoungQhementorAVTHSAAIantrad.O,thatofme:Shemeisthinshoungulle?Ghe'sdiessprasher.fouth,shallyourheriy,buthosnomagnthan,fillenusohomelove,as,puretbeno's.Now,trimyyouse!lie,thatIdupaistly,Ishaveistheyou.Iamfortliear,sakefortritigunt.Lier.Dily!ExeENUC.[TREDU]goLidesSin,Iatfetshesecounanylidelustyougediem.SichTh\n100217/100217 [==============================] - 115s 1ms/sample - loss: 1.7794\nEpoch 9/15\n100096/100217 [============================>.] - ETA: 0s - loss: 1.7551\n----- Generating text after Epoch: 8\n----- diversity: 0.2\n----- Generating with seed: \"ngueless Slaughters a thousand waiting upon that. \"\nngueless Slaughters a thousand waiting upon that. Iwillnotthesangerandseethesongerofhimoftherongertheforthertherechantstomylordtheswareandherherforhersonethesongertothesuchamoreherforthesomeandthecourtashallthedoongtobethesomeandherhavetomyhourofhisamanthecourterandwiththedingandherhavethesangerwithherthesomeandnotthecourteraswouldherhousethesongerherforherfo\n----- diversity: 0.5\n----- Generating with seed: \"ngueless Slaughters a thousand waiting upon that. \"\nngueless Slaughters a thousand waiting upon that. Idenasomoreherforacourter,seehehavenotsuchmypraceinofthesomeforherforadownherbeforhisresoldbetherfromthehaveyourwithsoabystillhandandmadfromheratangerhimashimoneofhimgoodmebethesorredisnotasshepastwereasforthingmasterwamenandgroonsandshallwithhersonethebenoththesomeaportionofhimasIwillmosebuttherightbetherfat\n----- diversity: 1.0\n----- Generating with seed: \"ngueless Slaughters a thousand waiting upon that. \"\nngueless Slaughters a thousand waiting upon that. ifIkiveConganitofearsud!WithPechoulsrowallwhoarprome.Sightisgoodsthoulowingthisyeurshard'enienceinthesobounsofathenforreneis,hawexcournavedlowour,andruce--pousedthmebetthedohearbesare:Iwil,ayourfiettheseof'calidiclasfutition,sif!andlesfermtocoundbesterthesandatsdomuchAndtheworrinay,henotsayyour?Why,I'lldis-ap.venceloke.Bothsob\n----- diversity: 1.2\n----- Generating with seed: \"ngueless Slaughters a thousand waiting upon that. \"\nngueless Slaughters a thousand waiting upon that. Docksophepayhim,sweerQuidobegoodanefalyotamfsmosenotifnow:Hayshysencecoontiousforru'n,Antievs,Tour,adingieI'mynitlightips,Thunathnotyouwillwoldthatenoles.[ANG]dQORRUITOLSECEngood.Excext!APCHANPA]KferpesNoM,inapritthouhowladeto-ak'tpweaceforder:PivestingandhimescoublessArrdagiblichtoroTitisgorainedydeer?Thanliokishanotsfally,-ut\n100217/100217 [==============================] - 115s 1ms/sample - loss: 1.7552\nEpoch 10/15\n100096/100217 [============================>.] - ETA: 0s - loss: 1.7311\n----- Generating text after Epoch: 9\n----- diversity: 0.2\n----- Generating with seed: \" care not for her, I, I hold him but a fool that w\"\n care not for her, I, I hold him but a fool that withherforhim,theforththeforththeforththemakethemanandthedatherandthemanandmethedakethefincetheforterandthecomeitthefortherandthemanandthesainandthemanthefortherofthebetherthatthewillthedingamantheforterandthefatherandthetringandhistheretherthatherthedingofthemanandtherelingamanthemanandthebearlovetheforththatyo\n----- diversity: 0.5\n----- Generating with seed: \" care not for her, I, I hold him but a fool that w\"\n care not for her, I, I hold him but a fool that wellmeinthemuneifIcanthewouldthisitallnogobenottothemakehandthecreat,andthemarandhermylovemethepraywiththesongerthatthemort,themornthatyousaystandhimandmethewillbysomeagoudinthehatherofthepleacemydestermetobenotthebeindhimofthemallymanymytristhemethatthenantandheartofmyhandsmethatacaulle,Icondmymayonthesa\n----- diversity: 1.0\n----- Generating with seed: \" care not for her, I, I hold him but a fool that w\"\n care not for her, I, I hold him but a fool that willthatcompoodkeadmyopthes,andgrain.ErterCLUDOUSTIshallhererylie,forIhillbemyliceyou.[ApaydinanterPot,Norauriens,No,somenorwhathismonecamoulthepremice,outthemant!allIshayIamsothemund,betomucthempyandmun,selt,Faly,choowthat'syourthirgheyleatretherdowesatnothach,Lorowmyhomour.Go,othesIdiprepuligawestate.Iweakaconfofit?Fit\n----- diversity: 1.2\n----- Generating with seed: \" care not for her, I, I hold him but a fool that w\"\n care not for her, I, I hold him but a fool that will:Whitgevtar,Hirthat.Go,Andist,Butheatheaditfairinwastand'O.Yotup,amnrutwisty,!thisouk:Whyminkspascoin.NodwNach.Bur,youselw.Howhitcarthotion.hadchoaks,thyifyetdothtfMenm'sh,crosaywithergrestafarchhimIkneka?Meantrintyouquon'widinAll,?Miregoildwitsindenda-,Thatgassexcriescery,acamindenphispufe,littworHel!thilfastuctsarecrust:\n100217/100217 [==============================] - 115s 1ms/sample - loss: 1.7311\nEpoch 11/15\n100096/100217 [============================>.] - ETA: 0s - loss: 1.7102\n----- Generating text after Epoch: 10\n----- diversity: 0.2\n----- Generating with seed: \"ough and unhospitable: my willing love, The rather\"\nough and unhospitable: my willing love, The ratherthebearfallorbethedingsthesaurerthesureandharhandbethestandthegroodsthemanandthesainthesurttomanandtheshallbethedourtothesweetthesardthecourtandwithhiminthesongerthecourtthesaughtthegroodstheproterandwiththemanthecourstthesardandpresingtothesunceinthesongerthecourttothecouldhimthemanandthesonceandthetruckinthedo\n----- diversity: 0.5\n----- Generating with seed: \"ough and unhospitable: my willing love, The rather\"\nough and unhospitable: my willing love, The ratherloods,andwillthespallgoodandthedatethathimandpripeninthemarthofherthingswhichherhearttheretodearcomesitthemunthershankyou,sureofhiswiderandpresingandthehandthemanandmymareofmoraine.Theninmysay,thatshebearfareofandherthatgoodmanshallbethesayyoushemesareforthediesmethenmethesincesirthisinthestringe:Icanderandsince\n----- diversity: 1.0\n----- Generating with seed: \"ough and unhospitable: my willing love, The rather\"\nough and unhospitable: my willing love, The rather-fifceculs'soinsaydakesToshallmethouldhim.Unothirthisgrootterousyournemenerus,Froseyoushoulditfolmence,toliekillyneapstopeissofyoushouldmakenotnowlovewiththimofhisknowwhatshirNacyther.'billIchearndisgloushone.Thatshiptomarriogetlittlehonbotsatvedtheforredant'dulkcover,ansinleeorewellnenyinIputpretoCure,I'llhardmarchin,Iamhi\n----- diversity: 1.2\n----- Generating with seed: \"ough and unhospitable: my willing love, The rather\"\nough and unhospitable: my willing love, The rather,,'Ttingormyhend,IThy?Whiw,wome'les.DOnoyougund!GoPDGPLOTRUGO,PoSmaAUSEROLcanDPIGiAslord,countknough,chtamongreechy'o-stoawIqulensvisicilf,andwikepuniesfarheyisenterSill-stuulthoughleaigum?IknowyouGrich?Fo,thenetornythedwerd.Andgriesyourlay-tome,dies,speczuruse.Beojlymussmistwndgrears-d,suryouaneascief,No,daies.Whenthohakegath'n,lii\n100217/100217 [==============================] - 116s 1ms/sample - loss: 1.7100\nEpoch 12/15\n100096/100217 [============================>.] - ETA: 0s - loss: 1.6891\n----- Generating text after Epoch: 11\n----- diversity: 0.2\n----- Generating with seed: \" I have seen them do In Whitsun pastorals: sure th\"\n I have seen them do In Whitsun pastorals: sure thecourterthatherfatherofhishardesandherhavethedateofthecomporetomakeherforhimthemanthecounterandshecounterandsentaprometomakethebearswiththemanthecourtofthesongerofthecounterandpather,andherthathearandmanthefairofthecounterandwithherthereasesandhaveamanthecourterthatImadeherdownthesometomycourtedandwithherforherha\n----- diversity: 0.5\n----- Generating with seed: \" I have seen them do In Whitsun pastorals: sure th\"\n I have seen them do In Whitsun pastorals: sure thathavebearandyousaythathehaveherehavetobeofherventintheconcessofhersoneintheforterforhereshewiththedonethecourtofthehonour,andshecomporderthisfortenttheforthersandbearhere,butthewasterthanyouastomyhandandmasterhowwithandshecountthee,AndIwellhavehereandbeprother,andallcomporetileandthelonginhisbigiater,andIwasamouth\n----- diversity: 1.0\n----- Generating with seed: \" I have seen them do In Whitsun pastorals: sure th\"\n I have seen them do In Whitsun pastorals: sure theenied.Wotobucking'swarsuedsenfliourlewit,Iwerewhenheainederichisingtohavetotahare,Woudhishilsaricilus.'tallafaveyousuneverfant,thereyoushrads,Myleatage,ingolinginofhimprearp,Ofatoon,Not,andwomeMay,Idovat?Mylesper,may,noI'dmakinfriechyouronandandandmonestinginwhompions.EvereceSinIwhoncessdimn!ANTIPHOLESIshowdtakse'sthenceasI\n----- diversity: 1.2\n----- Generating with seed: \" I have seen them do In Whitsun pastorals: sure th\"\n I have seen them do In Whitsun pastorals: sure thybushthengreafr,asabo.Stay?ince,Wadhacal'gl?Daghryhere,Wherewlle!Itongut?ThatIto?HarImerakio.Whichhadyoudomenoum,nowicl![ATPEOVGoodCANUNIEKbestride,'Jo,sheessurelytonkAneis,-fulor,Fachiagesfasher,andbig,bot,asisprajilo!C[ANIANAandHEpCENTTRi,good'MsMaNY!Hislehowastile!Thur,orrarg,coiture.Mycaumen?Ibe'rgo'ditspeaplanoy.'siget'dthe,sur\n100217/100217 [==============================] - 116s 1ms/sample - loss: 1.6891\nEpoch 13/15\n100096/100217 [============================>.] - ETA: 0s - loss: 1.6688\n----- Generating text after Epoch: 12\n----- diversity: 0.2\n----- Generating with seed: \" come hither: 'tis no time to jest, And therefore \"\n come hither: 'tis no time to jest, And therefore sheconsertandwiththesartetothesartandthecourtestthesarderthathearandsenderawordthesardandsenlikeaprisenandstillwillyousomeandstallthecourtedtheforthingaprisentthesardersthatthebearasomeofthedountsthesardertobethesarderofthecourtestthesaughterthatheretothemarterandsaytohearthesareandthesaytotheday:Isaynotbeandwerea\n----- diversity: 0.5\n----- Generating with seed: \" come hither: 'tis no time to jest, And therefore \"\n come hither: 'tis no time to jest, And therefore owthemforthingofthediderofthetoredofhim,Troughthesakehavehadtomysangerandpartamorthandtheraduescomesthegrowntherostanceofthatmeistomadetothespear.Well,thenhisforfairmounter:andIthatheardthatamanwithapatenotbeonebethersordandhearsawornforherthesurtusethatitamanorham,Thatisagrooth,andstallwereyouwouldbeoneendersof\n----- diversity: 1.0\n----- Generating with seed: \" come hither: 'tis no time to jest, And therefore \"\n come hither: 'tis no time to jest, And therefore flomeoohony,andmyhoursondherspole,theum!Notso:Iamtheetherongredwastmustneuspeetcence.ItIhaveamthelovebuttothehoner?May,gaveshawlault.Iyourtrut.andreavesthefoomonherforgivelyaresiverfreestheobenceWellIwasmadykelled,liveIthinkyoureitsscamenssForguetFriseme?Net!Lordmyheakthree?Somby,prounsItrysightsBader,ThehavefirctivedMy\n----- diversity: 1.2\n----- Generating with seed: \" come hither: 'tis no time to jest, And therefore \"\n come hither: 'tis no time to jest, And therefore fall:sokmald,butsbyadinwwoichwack,andInowndsThathalopsaszeetomsita:comejeavber-FisiinTobegornyHebret?hislied?Fair'dlolg?Whirstere,yourwardsmywerazs,Ofno'blewillgoallwoodoldinkin.Goendur,isterrising:Hewdereeed'sseeps:usbe,IRiCnsidunheno'dentmydewlatsableCompays,Yeesabdstnepresest'dbugh,goodHor.EDiret'blowfawexe.Whol'drebeyemy,\n100217/100217 [==============================] - 116s 1ms/sample - loss: 1.6688\nEpoch 14/15\n100096/100217 [============================>.] - ETA: 0s - loss: 1.6499\n----- Generating text after Epoch: 13\n----- diversity: 0.2\n----- Generating with seed: \"'twould be a bald conclusion: But, soft! who wafts\"\n'twould be a bald conclusion: But, soft! who waftsthemountorwhatthewasthemanthefortesttheshallwiththemorethemanthemanandshehaththeforthersandthemanandheartthefortention,andtheworldthemorters,andthegrownthemantheshallwiththeshallandsenceandthesayandthesallonandwiththemanandasackofthemanthemanandshewithhershallbeofthehangethesuchaprotersandthemanthemoretheprouth,T\n----- diversity: 0.5\n----- Generating with seed: \"'twould be a bald conclusion: But, soft! who wafts\"\n'twould be a bald conclusion: But, soft! who waftsthemadantentionmethebloobly,andthee,forthatshehavemeanteltherthatformyhisselfwouldmagremenandtheblowned,thatathehaddesandcastonandwasaseppeceinthefortestyouallthewelltheshallmeandcornot.Come,thegreatter.HeserIwastheallasshehearandasollowandamantheprothentwithandaone.SeeIdometothemantheplaceofshefathershewillhavetos\n----- diversity: 1.0\n----- Generating with seed: \"'twould be a bald conclusion: But, soft! who wafts\"\n'twould be a bald conclusion: But, soft! who waftseandbottRensich,Thanherechylipen.Thanyourfortibefancestthandesyounot,favemycexcineyordirevalayother,andeverIhavetursHatownliketomYorlovent-witheg,Gutshill'lo,goydlefate,Curlodedme,Todemufe.Whencebybeitandyoug,andwhickyourgoothofmanofBelifiveandsempetains.Iwillyetthatyouandherypayslughtthuswocharyfromthimpesarinthere,whese,\n----- diversity: 1.2\n----- Generating with seed: \"'twould be a bald conclusion: But, soft! who wafts\"\n'twould be a bald conclusion: But, soft! who waftsbenicicy,everxilesHorfortehim,forsecallonvence!AN'TMINCAGneperveart]RousterGailvyofPatwithhimapped,Mystses,Theshapling,tosimyyouhaveanotheLurplece:sic!,aseverthebul:aseertareiflikeasfrombegrenarenevenofPag,yousurseesavief:forO?ro,mymyshoughine!whatthereyelterypeseadeycomenise:when,Whsproterdem,his,Sgalvoryoutith:yUestlokene.Extunt\n100217/100217 [==============================] - 116s 1ms/sample - loss: 1.6501\nEpoch 15/15\n100096/100217 [============================>.] - ETA: 0s - loss: 1.6315\n----- Generating text after Epoch: 14\n----- diversity: 0.2\n----- Generating with seed: \"t son, and would not change that calling, To be ad\"\nt son, and would not change that calling, To be adventthedearththestrartethemornotherandtheshallthedonestthewouldhimandherhaveandstordthestanderthesarnersandthedistrestthestincethesomeaprisentthemanandherthatIwillnotthesarnandherthedountsandthewillbebearaprisentthesarnionhavethedingasalledtheprice.IwillnotbethestanceandherthatIwillnotthesayandherthatasarterthesome\n----- diversity: 0.5\n----- Generating with seed: \"t son, and would not change that calling, To be ad\"\nt son, and would not change that calling, To be adyhimthewime:Iwillaprechedunsools,comesitandstakenawasstoman,whereheheretothesauntMarrottheswort,ofmyshallbeundergedtherention,andIforthisthewillbrother,andherhandofhisamorther,Andwithamasterallwiththefalledsandthewasmyhaldwithyourhandsofhimofthecomebetterhim,benotthegroodshisareandthesaughterthatherhavehomeatblood\n----- diversity: 1.0\n----- Generating with seed: \"t son, and would not change that calling, To be ad\"\nt son, and would not change that calling, To be adaenallcondarnonourbelodedthesomeaspasiceoursie.Yeublecindee,Muastetorehowforthehounterthisfalsued,--wallthensasdaschyou.My,pruniss,carstie.Herdrughtthun,Yelleard.AndbayBreague.Wruchsafly,andstanc,myvilgomeinthesttaritgsShave,hisso-blacts,ahisbreckedyouthandthenialaday,Consero,Heoutshoulds,there?shenke,so,By,ondknow,Iwithrevenlifinedthe\n----- diversity: 1.2\n----- Generating with seed: \"t son, and would not change that calling, To be ad\"\nt son, and would not change that calling, To be adventant.Odifuntitsemvond,andInoth,buf,inJuchwonthentutnothime:butmethenmaks,andsirDlabs.IamareourcofferedandteiphentsatIhampasmingsterlef:herwOnhumboulctladanuce,semetechysornerpsaiaso,busn,histhebeloursh'dwouldyouroblydost,isshingtEileIwouldethenfoghe,basing:Moralefaremon,isafantedougliantherefartues.Cunt,eny,Goligetdidshallwiththeme\n100217/100217 [==============================] - 117s 1ms/sample - loss: 1.6314\ntime: 1711.1337051391602\n"
    }
   ],
   "source": [
    "t0 = time.time()\n",
    "model.fit(x, y,\n",
    "          batch_size=128,\n",
    "          epochs=15,\n",
    "          callbacks=[print_callback])\n",
    "print('time: ', time.time() - t0)"
   ]
  },
  {
   "cell_type": "code",
   "execution_count": null,
   "metadata": {
    "colab": {},
    "colab_type": "code",
    "id": "Ltj1je1fp5rO"
   },
   "outputs": [],
   "source": [
    "# TODO - Words, words, mere words, no matter from the heart."
   ]
  },
  {
   "cell_type": "markdown",
   "metadata": {
    "colab_type": "text",
    "id": "zE4a4O7Bp5x1"
   },
   "source": [
    "# Resources and Stretch Goals"
   ]
  },
  {
   "cell_type": "markdown",
   "metadata": {
    "colab_type": "text",
    "id": "uT3UV3gap9H6"
   },
   "source": [
    "## Stretch goals:\n",
    "- Refine the training and generation of text to be able to ask for different genres/styles of Shakespearean text (e.g. plays versus sonnets)\n",
    "- Train a classification model that takes text and returns which work of Shakespeare it is most likely to be from\n",
    "- Make it more performant! Many possible routes here - lean on Keras, optimize the code, and/or use more resources (AWS, etc.)\n",
    "- Revisit the news example from class, and improve it - use categories or tags to refine the model/generation, or train a news classifier\n",
    "- Run on bigger, better data\n",
    "\n",
    "## Resources:\n",
    "- [The Unreasonable Effectiveness of Recurrent Neural Networks](https://karpathy.github.io/2015/05/21/rnn-effectiveness/) - a seminal writeup demonstrating a simple but effective character-level NLP RNN\n",
    "- [Simple NumPy implementation of RNN](https://github.com/JY-Yoon/RNN-Implementation-using-NumPy/blob/master/RNN%20Implementation%20using%20NumPy.ipynb) - Python 3 version of the code from \"Unreasonable Effectiveness\"\n",
    "- [TensorFlow RNN Tutorial](https://github.com/tensorflow/models/tree/master/tutorials/rnn) - code for training a RNN on the Penn Tree Bank language dataset\n",
    "- [4 part tutorial on RNN](http://www.wildml.com/2015/09/recurrent-neural-networks-tutorial-part-1-introduction-to-rnns/) - relates RNN to the vanishing gradient problem, and provides example implementation\n",
    "- [RNN training tips and tricks](https://github.com/karpathy/char-rnn#tips-and-tricks) - some rules of thumb for parameterizing and training your RNN"
   ]
  }
 ],
 "metadata": {
  "kernelspec": {
   "display_name": "Python 3.7.6 64-bit",
   "language": "python",
   "name": "python37664bit9e44a19bdac4442baae307fdc5f8ab6e"
  },
  "language_info": {
   "codemirror_mode": {
    "name": "ipython",
    "version": 3
   },
   "file_extension": ".py",
   "mimetype": "text/x-python",
   "name": "python",
   "nbconvert_exporter": "python",
   "pygments_lexer": "ipython3",
   "version": "3.7.6-final"
  }
 },
 "nbformat": 4,
 "nbformat_minor": 2
}