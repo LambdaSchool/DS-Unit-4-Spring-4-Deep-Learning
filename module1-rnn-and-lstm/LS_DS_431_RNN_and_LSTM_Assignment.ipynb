{
 "cells": [
  {
   "cell_type": "markdown",
   "metadata": {},
   "source": [
    "<img align=\"left\" src=\"https://lever-client-logos.s3.amazonaws.com/864372b1-534c-480e-acd5-9711f850815c-1524247202159.png\" width=200>\n",
    "<br></br>\n",
    "<br></br>\n",
    "\n",
    "## *Data Science Unit 4 Sprint 3 Assignment 1*\n",
    "\n",
    "# Recurrent Neural Networks and Long Short Term Memory (LSTM)\n",
    "\n",
    "![Monkey at a typewriter](https://upload.wikimedia.org/wikipedia/commons/thumb/3/3c/Chimpanzee_seated_at_typewriter.jpg/603px-Chimpanzee_seated_at_typewriter.jpg)\n",
    "\n",
    "It is said that [infinite monkeys typing for an infinite amount of time](https://en.wikipedia.org/wiki/Infinite_monkey_theorem) will eventually type, among other things, the complete works of Wiliam Shakespeare. Let's see if we can get there a bit faster, with the power of Recurrent Neural Networks and LSTM.\n",
    "\n",
    "This text file contains the complete works of Shakespeare: https://www.gutenberg.org/files/100/100-0.txt\n",
    "\n",
    "Use it as training data for an RNN - you can keep it simple and train character level, and that is suggested as an initial approach.\n",
    "\n",
    "Then, use that trained RNN to generate Shakespearean-ish text. Your goal - a function that can take, as an argument, the size of text (e.g. number of characters or lines) to generate, and returns generated text of that size.\n",
    "\n",
    "Note - Shakespeare wrote an awful lot. It's OK, especially initially, to sample/use smaller data and parameters, so you can have a tighter feedback loop when you're trying to get things running. Then, once you've got a proof of concept - start pushing it more!"
   ]
  },
  {
   "cell_type": "code",
   "execution_count": null,
   "metadata": {
    "colab": {},
    "colab_type": "code",
    "id": "Ltj1je1fp5rO"
   },
   "outputs": [],
   "source": [
    "# TODO - Words, words, mere words, no matter from the heart."
   ]
  },
  {
   "cell_type": "code",
   "execution_count": 2,
   "metadata": {},
   "outputs": [],
   "source": [
    "from __future__ import print_function\n",
    "from tensorflow.keras.preprocessing import sequence\n",
    "from tensorflow.keras.models import Sequential\n",
    "from tensorflow.keras.layers import Dense, Embedding\n",
    "from tensorflow.keras.layers import LSTM\n",
    "from tensorflow.keras.datasets import imdb\n",
    "from tensorflow.keras.callbacks import LambdaCallback\n",
    "from tensorflow.keras.models import Sequential\n",
    "from tensorflow.keras.layers import Dense, LSTM\n",
    "from tensorflow.keras.optimizers import RMSprop\n",
    "\n",
    "import numpy as np\n",
    "import random\n",
    "import sys\n",
    "import os\n",
    "\n",
    "max_features = 20000\n",
    "maxlen = 80\n",
    "batch_size = 32"
   ]
  },
  {
   "cell_type": "code",
   "execution_count": 5,
   "metadata": {},
   "outputs": [],
   "source": [
    "data_url = 'https://www.gutenberg.org/files/100/100-0.txt'"
   ]
  },
  {
   "cell_type": "code",
   "execution_count": 6,
   "metadata": {},
   "outputs": [],
   "source": [
    "import requests\n",
    "\n",
    "response = requests.get(data_url)\n",
    "data = response.text"
   ]
  },
  {
   "cell_type": "code",
   "execution_count": 12,
   "metadata": {},
   "outputs": [
    {
     "data": {
      "text/plain": "0\\x99s The Complete Works of William\\r\\nShakespeare, by William Shakespeare\\r\\n\\r\\n*** END OF THIS PROJECT GUTENBERG EBOOK THE COMPLETE WORKS OF WILLIAM\\r\\nSHAKESPEARE ***\\r\\n\\r\\n***** This file should be named 100-0.txt or 100-0.zip ***** This and\\r\\nall associated files of various formats will be found in:\\r\\nhttp://www.gutenberg.org/1/0/100/\\r\\n\\r\\nUpdated editions will replace the previous one--the old editions will be\\r\\nrenamed.\\r\\n\\r\\nCreating the works from print editions not protected by U.S. copyright\\r\\nlaw means that no one owns a United States copyright in these works, so\\r\\nthe Foundation (and you!) can copy and distribute it in the United\\r\\nStates without permission and without paying copyright royalties.\\r\\nSpecial rules, set forth in the General Terms of Use part of this\\r\\nlicense, apply to copying and distributing Project Gutenberg-tm\\r\\nelectronic works to protect the PROJECT GUTENBERG-tm concept and\\r\\ntrademark. Project Gutenberg is a registered trademark, and may not be\\r\\nused if you charge for the eBooks, unless you receive specific\\r\\npermission. If you do not charge anything for copies of this eBook,\\r\\ncomplying with the rules is very easy. You may use this eBook for nearly\\r\\nany purpose such as creation of derivative works, reports, performances\\r\\nand research. They may be modified and printed and given away--you may\\r\\ndo practically ANYTHING in the United States with eBooks not protected\\r\\nby U.S. copyright law. Redistribution is subject to the trademark\\r\\nlicense, especially commercial redistribution.\\r\\n\\r\\nSTART: FULL LICENSE\\r\\n\\r\\nTHE FULL PROJECT GUTENBERG LICENSE PLEASE READ THIS BEFORE YOU\\r\\nDISTRIBUTE OR USE THIS WORK\\r\\n\\r\\nTo protect the Project Gutenberg-tm mission of promoting the free\\r\\ndistribution of electronic works, by using or distributing this work (or\\r\\nany other work associated in any way with the phrase \"Project\\r\\nGutenberg\"), you agree to comply with all the terms of the Full Project\\r\\nGutenberg-tm License available with this file or online at\\r\\nwww.gutenberg.org/license.\\r\\n\\r\\nSection 1. General Terms of Use and Redistributing Project Gutenberg-tm\\r\\nelectronic works\\r\\n\\r\\n1.A. By reading or using any part of this Project Gutenberg-tm\\r\\nelectronic work, you indicate that you have read, understand, agree to\\r\\nand accept all the terms of this license and intellectual property\\r\\n(trademark/copyright) agreement. If you do not agree to abide by all the\\r\\nterms of this agreement, you must cease using and return or destroy all\\r\\ncopies of Project Gutenberg-tm electronic works in your possession. If\\r\\nyou paid a fee for obtaining a copy of or access to a Project\\r\\nGutenberg-tm electronic work and you do not agree to be bound by the\\r\\nterms of this agreement, you may obtain a refund from the person or\\r\\nentity to whom you paid the fee as set forth in paragraph 1.E.8.\\r\\n\\r\\n1.B. \"Project Gutenberg\" is a registered trademark. It may only be used\\r\\non or associated in any way with an electronic work by people who agree\\r\\nto be bound by the terms of this agreement. There are a few things that\\r\\nyou can do with most Project Gutenberg-tm electronic works even without\\r\\ncomplying with the full terms of this agreement. See paragraph 1.C\\r\\nbelow. There are a lot of things you can do with Project Gutenberg-tm\\r\\nelectronic works if you follow the terms of this agreement and help\\r\\npreserve free future access to Project Gutenberg-tm electronic works.\\r\\nSee paragraph 1.E below.\\r\\n\\r\\n1.C. The Project Gutenberg Literary Archive Foundation (\"the Foundation\"\\r\\nor PGLAF), owns a compilation copyright in the collection of Project\\r\\nGutenberg-tm electronic works. Nearly all the individual works in the\\r\\ncollection are in the public domain in the United States. If an\\r\\nindividual work is unprotected by copyright law in the United States and\\r\\nyou are located in the United States, we do not claim a right to prevent\\r\\nyou from copying, distributing, performing, displaying or creating\\r\\nderivative works based on the work as long as all references to Project\\r\\nGutenberg are removed. Of course, we hope that you will support the\\r\\nProject Gutenberg-tm mission of promoting free access to electronic\\r\\nworks by freely sharing Project Gutenberg-tm works in compliance with\\r\\nthe terms of this agreement for keeping the Project Gutenberg-tm name\\r\\nassociated with the work. You can easily comply with the terms of this\\r\\nagreement by keeping this work in the same format with its attached full\\r\\nProject Gutenberg-tm License when you share it without charge with\\r\\nothers.\\r\\n\\r\\n1.D. The copyright laws of the place where you are located also govern\\r\\nwhat you can do with this work. Copyright laws in most countries are in\\r\\na constant state of change. If you are outside the United States, check\\r\\nthe laws of your country in addition to the terms of this agreement\\r\\nbefore downloading, copying, displaying, performing, distributing or\\r\\ncreating derivative works based on this work or any other Project\\r\\nGutenberg-tm work. The Foundation makes no representations concerning\\r\\nthe copyright status of any work in any country outside the United\\r\\nStates.\\r\\n\\r\\n1.E. Unless you have removed all references to Project Gutenberg:\\r\\n\\r\\n1.E.1. The following sentence, with active links to, or other immediate\\r\\naccess to, the full Project Gutenberg-tm License must appear prominently\\r\\nwhenever any copy of a Project Gutenberg-tm work (any work on which the\\r\\nphrase \"Project Gutenberg\" appears, or with which the phrase \"Project\\r\\nGutenberg\" is associated) is accessed, displayed, performed, viewed,\\r\\ncopied or distributed:\\r\\n\\r\\n  This eBook is for the use of anyone anywhere in the United States and\\r\\n  most other parts of the world at no cost and with almost no\\r\\n  restrictions whatsoever. You may copy it, give it away or re-use it\\r\\n  under the terms of the Project Gutenberg License included with this\\r\\n  eBook or online at www.gutenberg.org. If you are not located in the\\r\\n  United States, youâ\\x80\\x99ll have to check the laws of the country where you\\r\\n  are located before using this ebook.\\r\\n\\r\\n1.E.2. If an individual Project Gutenberg-tm electronic work is derived\\r\\nfrom texts not protected by U.S. copyright law (does not contain a\\r\\nnotice indicating that it is posted with permission of the copyright\\r\\nholder), the work can be copied and distributed to anyone in the United\\r\\nStates without paying any fees or charges. If you are redistributing or\\r\\nproviding access to a work with the phrase \"Project Gutenberg\"\\r\\nassociated with or appearing on the work, you must comply either with\\r\\nthe requirements of paragraphs 1.E.1 through 1.E.7 or obtain permission\\r\\nfor the use of the work and the Project Gutenberg-tm trademark as set\\r\\nforth in paragraphs 1.E.8 or 1.E.9.\\r\\n\\r\\n1.E.3. If an individual Project Gutenberg-tm electronic work is posted\\r\\nwith the permission of the copyright holder, your use and distribution\\r\\nmust comply with both paragraphs 1.E.1 through 1.E.7 and any additional\\r\\nterms imposed by the copyright holder. Additional terms will be linked\\r\\nto the Project Gutenberg-tm License for all works posted with the\\r\\npermission of the copyright holder found at the beginning of this work.\\r\\n\\r\\n1.E.4. Do not unlink or detach or remove the full Project Gutenberg-tm\\r\\nLicense terms from this work, or any files containing a part of this\\r\\nwork or any other work associated with Project Gutenberg-tm.\\r\\n\\r\\n1.E.5. Do not copy, display, perform, distribute or redistribute this\\r\\nelectronic work, or any part of this electronic work, without\\r\\nprominently displaying the sentence set forth in paragraph 1.E.1 with\\r\\nactive links or immediate access to the full terms of the Project\\r\\nGutenberg-tm License.\\r\\n\\r\\n1.E.6. You may convert to and distribute this work in any binary,\\r\\ncompressed, marked up, nonproprietary or proprietary form, including any\\r\\nword processing or hypertext form. However, if you provide access to or\\r\\ndistribute copies of a Project Gutenberg-tm work in a format other than\\r\\n\"Plain Vanilla ASCII\" or other format used in the official version\\r\\nposted on the official Project Gutenberg-tm web site\\r\\n(www.gutenberg.org), you must, at no additional cost, fee or expense to\\r\\nthe user, provide a copy, a means of exporting a copy, or a means of\\r\\nobtaining a copy upon request, of the work in its original \"Plain\\r\\nVanilla ASCII\" or other form. Any alternate format must include the full\\r\\nProject Gutenberg-tm License as specified in paragraph 1.E.1.\\r\\n\\r\\n1.E.7. Do not charge a fee for access to, viewing, displaying,\\r\\nperforming, copying or distributing any Project Gutenberg-tm works\\r\\nunless you comply with paragraph 1.E.8 or 1.E.9.\\r\\n\\r\\n1.E.8. You may charge a reasonable fee for copies of or providing access\\r\\nto or distributing Project Gutenberg-tm electronic works provided that\\r\\n\\r\\n* You pay a royalty fee of 20% of the gross profits you derive from the\\r\\nuse of Project Gutenberg-tm works calculated using the method you\\r\\nalready use to calculate your applicable taxes. The fee is owed to the\\r\\nowner of the Project Gutenberg-tm trademark, but he has agreed to donate\\r\\nroyalties under this paragraph to the Project Gutenberg Literary Archive\\r\\nFoundation. Royalty payments must be paid within 60 days following each\\r\\ndate on which you prepare (or are legally required to prepare) your\\r\\nperiodic tax returns. Royalty payments should be clearly marked as such\\r\\nand sent to the Project Gutenberg Literary Archive Foundation at the\\r\\naddress specified in Section 4, \"Information about donations to the\\r\\nProject Gutenberg Literary Archive Foundation.\"\\r\\n\\r\\n* You provide a full refund of any money paid by a user who notifies you\\r\\nin writing (or by e-mail) within 30 days of receipt that s/he does not\\r\\nagree to the terms of the full Project Gutenberg-tm License. You must\\r\\nrequire such a user to return or destroy all copies of the works\\r\\npossessed in a physical medium and discontinue all use of and all access\\r\\nto other copies of Project Gutenberg-tm works.\\r\\n\\r\\n* You provide, in accordance with paragraph 1.F.3, a full refund of any\\r\\nmoney paid for a work or a replacement copy, if a defect in the\\r\\nelectronic work is discovered and reported to you within 90 days of\\r\\nreceipt of the work.\\r\\n\\r\\n* You comply with all other terms of this agreement for free\\r\\ndistribution of Project Gutenberg-tm works.\\r\\n\\r\\n1.E.9. If you wish to charge a fee or distribute a Project Gutenberg-tm\\r\\nelectronic work or group of works on different terms than are set forth\\r\\nin this agreement, you must obtain permission in writing from both the\\r\\nProject Gutenberg Literary Archive Foundation and The Project Gutenberg\\r\\nTrademark LLC, the owner of the Project Gutenberg-tm trademark. Contact\\r\\nthe Foundation as set forth in Section 3 below.\\r\\n\\r\\n1.F.\\r\\n\\r\\n1.F.1. Project Gutenberg volunteers and employees expend considerable\\r\\neffort to identify, do copyright research on, transcribe and proofread\\r\\nworks not protected by U.S. copyright law in creating the Project\\r\\nGutenberg-tm collection. Despite these efforts, Project Gutenberg-tm\\r\\nelectronic works, and the medium on which they may be stored, may\\r\\ncontain \"Defects,\" such as, but not limited to, incomplete, inaccurate\\r\\nor corrupt data, transcription errors, a copyright or other intellectual\\r\\nproperty infringement, a defective or damaged disk or other medium, a\\r\\ncomputer virus, or computer codes that damage or cannot be read by your\\r\\nequipment.\\r\\n\\r\\n1.F.2. LIMITED WARRANTY, DISCLAIMER OF DAMAGES - Except for the \"Right\\r\\nof Replacement or Refund\" described in paragraph 1.F.3, the Project\\r\\nGutenberg Literary Archive Foundation, the owner of the Project\\r\\nGutenberg-tm trademark, and any other party distributing a Project\\r\\nGutenberg-tm electronic work under this agreement, disclaim all\\r\\nliability to you for damages, costs and expenses, including legal fees.\\r\\nYOU AGREE THAT YOU HAVE NO REMEDIES FOR NEGLIGENCE, STRICT LIABILITY,\\r\\nBREACH OF WARRANTY OR BREACH OF CONTRACT EXCEPT THOSE PROVIDED IN\\r\\nPARAGRAPH 1.F.3. YOU AGREE THAT THE FOUNDATION, THE TRADEMARK OWNER, AND\\r\\nANY DISTRIBUTOR UNDER THIS AGREEMENT WILL NOT BE LIABLE TO YOU FOR\\r\\nACTUAL, DIRECT, INDIRECT, CONSEQUENTIAL, PUNITIVE OR INCIDENTAL DAMAGES\\r\\nEVEN IF YOU GIVE NOTICE OF THE POSSIBILITY OF SUCH DAMAGE.\\r\\n\\r\\n1.F.3. LIMITED RIGHT OF REPLACEMENT OR REFUND - If you discover a defect\\r\\nin this electronic work within 90 days of receiving it, you can receive\\r\\na refund of the money (if any) you paid for it by sending a written\\r\\nexplanation to the person you received the work from. If you received\\r\\nthe work on a physical medium, you must return the medium with your\\r\\nwritten explanation. The person or entity that provided you with the\\r\\ndefective work may elect to provide a replacement copy in lieu of a\\r\\nrefund. If you received the work electronically, the person or entity\\r\\nproviding it to you may choose to give you a second opportunity to\\r\\nreceive the work electronically in lieu of a refund. If the second copy\\r\\nis also defective, you may demand a refund in writing without further\\r\\nopportunities to fix the problem.\\r\\n\\r\\n1.F.4. Except for the limited right of replacement or refund set forth\\r\\nin paragraph 1.F.3, this work is provided to you â\\x80\\x99AS-ISâ\\x80\\x99, WITH NO\\r\\nOTHER\\r\\nWARRANTIES OF ANY KIND, EXPRESS OR IMPLIED, INCLUDING BUT NOT LIMITED TO\\r\\nWARRANTIES OF MERCHANTABILITY OR FITNESS FOR ANY PURPOSE.\\r\\n\\r\\n1.F.5. Some states do not allow disclaimers of certain implied\\r\\nwarranties or the exclusion or limitation of certain types of damages.\\r\\nIf any disclaimer or limitation set forth in this agreement violates the\\r\\nlaw of the state applicable to this agreement, the agreement shall be\\r\\ninterpreted to make the maximum disclaimer or limitation permitted by\\r\\nthe applicable state law. The invalidity or unenforceability of any\\r\\nprovision of this agreement shall not void the remaining provisions.\\r\\n\\r\\n1.F.6. INDEMNITY - You agree to indemnify and hold the Foundation, the\\r\\ntrademark owner, any agent or employee of the Foundation, anyone\\r\\nproviding copies of Project Gutenberg-tm electronic works in accordance\\r\\nwith this agreement, and any volunteers associated with the production,\\r\\npromotion and distribution of Project Gutenberg-tm electronic works,\\r\\nharmless from all liability, costs and expenses, including legal fees,\\r\\nthat arise directly or indirectly from any of the following which you do\\r\\nor cause to occur: (a) distribution of this or any Project Gutenberg-tm\\r\\nwork, (b) alteration, modification, or additions or deletions to any\\r\\nProject Gutenberg-tm work, and (c) any Defect you cause.\\r\\n\\r\\nSection 2. Information about the Mission of Project Gutenberg-tm\\r\\n\\r\\nProject Gutenberg-tm is synonymous with the free distribution of\\r\\nelectronic works in formats readable by the widest variety of computers\\r\\nincluding obsolete, old, middle-aged and new computers. It exists\\r\\nbecause of the efforts of hundreds of volunteers and donations from\\r\\npeople in all walks of life.\\r\\n\\r\\nVolunteers and financial support to provide volunteers with the\\r\\nassistance they need are critical to reaching Project Gutenberg-tmâ\\x80\\x99s\\r\\ngoals and ensuring that the Project Gutenberg-tm collection will remain\\r\\nfreely available for generations to come. In 2001, the Project Gutenberg\\r\\nLiterary Archive Foundation was created to provide a secure and\\r\\npermanent future for Project Gutenberg-tm and future generations. To\\r\\nlearn more about the Project Gutenberg Literary Archive Foundation and\\r\\nhow your efforts and donations can help, see Sections 3 and 4 and the\\r\\nFoundation information page at www.gutenberg.org Section 3. Information\\r\\nabout the Project Gutenberg Literary Archive Foundation\\r\\n\\r\\nThe Project Gutenberg Literary Archive Foundation is a non profit\\r\\n501(c)(3) educational corporation organized under the laws of the state\\r\\nof Mississippi and granted tax exempt status by the Internal Revenue\\r\\nService. The Foundationâ\\x80\\x99s EIN or federal tax identification number is\\r\\n64-6221541. Contributions to the Project Gutenberg Literary Archive\\r\\nFoundation are tax deductible to the full extent permitted by U.S.\\r\\nfederal laws and your stateâ\\x80\\x99s laws.\\r\\n\\r\\nThe Foundationâ\\x80\\x99s principal office is in Fairbanks, Alaska, with the\\r\\nmailing address: PO Box 750175, Fairbanks, AK 99775, but its volunteers\\r\\nand employees are scattered throughout numerous locations. Its business\\r\\noffice is located at 809 North 1500 West, Salt Lake City, UT 84116,\\r\\n(801) 596-1887. Email contact links and up to date contact information\\r\\ncan be found at the Foundationâ\\x80\\x99s web site and official page at\\r\\nwww.gutenberg.org/contact\\r\\n\\r\\nFor additional contact information:\\r\\n\\r\\n    Dr. Gregory B. Newby Chief Executive and Director gbnewby@pglaf.org\\r\\n\\r\\nSection 4. Information about Donations to the Project Gutenberg Literary\\r\\nArchive Foundation\\r\\n\\r\\nProject Gutenberg-tm depends upon and cannot survive without wide spread\\r\\npublic support and donations to carry out its mission of increasing the\\r\\nnumber of public domain and licensed works that can be freely\\r\\ndistributed in machine readable form accessible by the widest array of\\r\\nequipment including outdated equipment. Many small donations ($1 to\\r\\n$5,000) are particularly important to maintaining tax exempt status with\\r\\nthe IRS.\\r\\n\\r\\nThe Foundation is committed to complying with the laws regulating\\r\\ncharities and charitable donations in all 50 states of the United\\r\\nStates. Compliance requirements are not uniform and it takes a\\r\\nconsiderable effort, much paperwork and many fees to meet and keep up\\r\\nwith these requirements. We do not solicit donations in locations where\\r\\nwe have not received written confirmation of compliance. To SEND\\r\\nDONATIONS or determine the status of compliance for any particular state\\r\\nvisit www.gutenberg.org/donate\\r\\n\\r\\nWhile we cannot and do not solicit contributions from states where we\\r\\nhave not met the solicitation requirements, we know of no prohibition\\r\\nagainst accepting unsolicited donations from donors in such states who\\r\\napproach us with offers to donate.\\r\\n\\r\\nInternational donations are gratefully accepted, but we cannot make any\\r\\nstatements concerning tax treatment of donations received from outside\\r\\nthe United States. U.S. laws alone swamp our small staff.\\r\\n\\r\\nPlease check the Project Gutenberg Web pages for current donation\\r\\nmethods and addresses. Donations are accepted in a number of other ways\\r\\nincluding checks, online payments and credit card donations. To donate,\\r\\nplease visit: www.gutenberg.org/donate\\r\\n\\r\\nSection 5. General Information About Project Gutenberg-tm electronic\\r\\nworks.\\r\\n\\r\\nProfessor Michael S. Hart was the originator of the Project Gutenberg-tm\\r\\nconcept of a library of electronic works that could be freely shared\\r\\nwith anyone. For forty years, he produced and distributed Project\\r\\nGutenberg-tm eBooks with only a loose network of volunteer support.\\r\\n\\r\\nProject Gutenberg-tm eBooks are often created from several printed\\r\\neditions, all of which are confirmed as not protected by copyright in\\r\\nthe U.S. unless a copyright notice is included. Thus, we do not\\r\\nnecessarily keep eBooks in compliance with any particular paper edition.\\r\\n\\r\\nMost people start at our Web site which has the main PG search facility:\\r\\nwww.gutenberg.org\\r\\n\\r\\nThis Web site includes information about Project Gutenberg-tm, including\\r\\nhow to make donations to the Project Gutenberg Literary Archive\\r\\nFoundation, how to help produce our new eBooks, and how to subscribe to\\r\\nour email newsletter to hear about new eBooks.\\r\\n\\r\\n\\r\\n\\r\\n\\r\\n\\r\\n\\r\\n\\r\\n\\r\\n\\r\\n\\r\\n'"
     },
     "execution_count": 12,
     "metadata": {},
     "output_type": "execute_result"
    }
   ],
   "source": [
    "response.encoding = 'utf-8'\n",
    "data"
   ]
  },
  {
   "cell_type": "code",
   "execution_count": 13,
   "metadata": {},
   "outputs": [
    {
     "data": {
      "text/plain": "5777367"
     },
     "execution_count": 13,
     "metadata": {},
     "output_type": "execute_result"
    }
   ],
   "source": [
    "len(data)"
   ]
  },
  {
   "cell_type": "code",
   "execution_count": 14,
   "metadata": {},
   "outputs": [],
   "source": [
    "chars = list(set(data))\n",
    "char_int = {c:i for i, c in enumerate(chars)}\n",
    "int_char = {i:c for i, c in enumerate(chars)}"
   ]
  },
  {
   "cell_type": "code",
   "execution_count": null,
   "metadata": {},
   "outputs": [],
   "source": []
  },
  {
   "cell_type": "markdown",
   "metadata": {
    "colab_type": "text",
    "id": "uT3UV3gap9H6"
   },
   "source": [
    "## Stretch goals:\n",
    "- Refine the training and generation of text to be able to ask for different genres/styles of Shakespearean text (e.g. plays versus sonnets)\n",
    "- Train a classification model that takes text and returns which work of Shakespeare it is most likely to be from\n",
    "- Make it more performant! Many possible routes here - lean on Keras, optimize the code, and/or use more resources (AWS, etc.)\n",
    "- Revisit the news example from class, and improve it - use categories or tags to refine the model/generation, or train a news classifier\n",
    "- Run on bigger, better data\n",
    "\n",
    "## Resources:\n",
    "- [The Unreasonable Effectiveness of Recurrent Neural Networks](https://karpathy.github.io/2015/05/21/rnn-effectiveness/) - a seminal writeup demonstrating a simple but effective character-level NLP RNN\n",
    "- [Simple NumPy implementation of RNN](https://github.com/JY-Yoon/RNN-Implementation-using-NumPy/blob/master/RNN%20Implementation%20using%20NumPy.ipynb) - Python 3 version of the code from \"Unreasonable Effectiveness\"\n",
    "- [TensorFlow RNN Tutorial](https://github.com/tensorflow/models/tree/master/tutorials/rnn) - code for training a RNN on the Penn Tree Bank language dataset\n",
    "- [4 part tutorial on RNN](http://www.wildml.com/2015/09/recurrent-neural-networks-tutorial-part-1-introduction-to-rnns/) - relates RNN to the vanishing gradient problem, and provides example implementation\n",
    "- [RNN training tips and tricks](https://github.com/karpathy/char-rnn#tips-and-tricks) - some rules of thumb for parameterizing and training your RNN"
   ]
  }
 ],
 "metadata": {
  "kernelspec": {
   "display_name": "Python (DL)",
   "language": "python",
   "name": "python-deeplearning"
  },
  "language_info": {
   "codemirror_mode": {
    "name": "ipython",
    "version": 3
   },
   "file_extension": ".py",
   "mimetype": "text/x-python",
   "name": "python",
   "nbconvert_exporter": "python",
   "pygments_lexer": "ipython3",
   "version": "3.7.4-final"
  }
 },
 "nbformat": 4,
 "nbformat_minor": 2
}