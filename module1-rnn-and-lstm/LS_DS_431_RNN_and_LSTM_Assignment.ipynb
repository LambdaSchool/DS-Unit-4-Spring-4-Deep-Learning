{
  "nbformat": 4,
  "nbformat_minor": 0,
  "metadata": {
    "kernelspec": {
      "display_name": "U4-S3-MNA-DS11",
      "language": "python",
      "name": "u4-s3-mna-ds11"
    },
    "language_info": {
      "codemirror_mode": {
        "name": "ipython",
        "version": 3
      },
      "file_extension": ".py",
      "mimetype": "text/x-python",
      "name": "python",
      "nbconvert_exporter": "python",
      "pygments_lexer": "ipython3",
      "version": "3.7.0"
    },
    "colab": {
      "name": "LS_DS_431_RNN_and_LSTM_Assignment.ipynb",
      "provenance": []
    },
    "accelerator": "GPU"
  },
  "cells": [
    {
      "cell_type": "markdown",
      "metadata": {
        "id": "H-B8I8Q216mO",
        "colab_type": "text"
      },
      "source": [
        "<img align=\"left\" src=\"https://lever-client-logos.s3.amazonaws.com/864372b1-534c-480e-acd5-9711f850815c-1524247202159.png\" width=200>\n",
        "<br></br>\n",
        "<br></br>\n",
        "\n",
        "## *Data Science Unit 4 Sprint 3 Assignment 1*\n",
        "\n",
        "# Recurrent Neural Networks and Long Short Term Memory (LSTM)\n",
        "\n",
        "![Monkey at a typewriter](https://upload.wikimedia.org/wikipedia/commons/thumb/3/3c/Chimpanzee_seated_at_typewriter.jpg/603px-Chimpanzee_seated_at_typewriter.jpg)\n",
        "\n",
        "It is said that [infinite monkeys typing for an infinite amount of time](https://en.wikipedia.org/wiki/Infinite_monkey_theorem) will eventually type, among other things, the complete works of Wiliam Shakespeare. Let's see if we can get there a bit faster, with the power of Recurrent Neural Networks and LSTM.\n",
        "\n",
        "This text file contains the complete works of Shakespeare: https://www.gutenberg.org/files/100/100-0.txt\n",
        "\n",
        "Use it as training data for an RNN - you can keep it simple and train character level, and that is suggested as an initial approach.\n",
        "\n",
        "Then, use that trained RNN to generate Shakespearean-ish text. Your goal - a function that can take, as an argument, the size of text (e.g. number of characters or lines) to generate, and returns generated text of that size.\n",
        "\n",
        "Note - Shakespeare wrote an awful lot. It's OK, especially initially, to sample/use smaller data and parameters, so you can have a tighter feedback loop when you're trying to get things running. Then, once you've got a proof of concept - start pushing it more!"
      ]
    },
    {
      "cell_type": "code",
      "metadata": {
        "id": "mO6CmW9N16mR",
        "colab_type": "code",
        "colab": {}
      },
      "source": [
        "from tensorflow.keras.callbacks import LambdaCallback, EarlyStopping, TensorBoard\n",
        "from tensorflow.keras.models import Sequential\n",
        "from tensorflow.keras.layers import Dense, LSTM\n",
        "\n",
        "import numpy as np\n",
        "import random\n",
        "import sys\n",
        "import requests\n",
        "import os\n",
        "import datetime"
      ],
      "execution_count": 0,
      "outputs": []
    },
    {
      "cell_type": "code",
      "metadata": {
        "id": "V1FyqU1k16mV",
        "colab_type": "code",
        "colab": {}
      },
      "source": [
        "url = \"https://www.gutenberg.org/files/100/100-0.txt\"\n",
        "\n",
        "r = requests.get(url)"
      ],
      "execution_count": 0,
      "outputs": []
    },
    {
      "cell_type": "code",
      "metadata": {
        "id": "5NcUGV-X2spF",
        "colab_type": "code",
        "outputId": "6d0b21bb-fba1-47a8-f29e-498222ba581f",
        "colab": {
          "base_uri": "https://localhost:8080/",
          "height": 33
        }
      },
      "source": [
        "type(r)"
      ],
      "execution_count": 3,
      "outputs": [
        {
          "output_type": "execute_result",
          "data": {
            "text/plain": [
              "requests.models.Response"
            ]
          },
          "metadata": {
            "tags": []
          },
          "execution_count": 3
        }
      ]
    },
    {
      "cell_type": "code",
      "metadata": {
        "id": "u5gUlcKm16mZ",
        "colab_type": "code",
        "colab": {}
      },
      "source": [
        "r.encoding = r.apparent_encoding\n",
        "\n",
        "data = r.text"
      ],
      "execution_count": 0,
      "outputs": []
    },
    {
      "cell_type": "code",
      "metadata": {
        "id": "NuHnobxj16mc",
        "colab_type": "code",
        "outputId": "6733ca22-85ee-43a6-a30f-c682c8efa584",
        "colab": {
          "base_uri": "https://localhost:8080/",
          "height": 33
        }
      },
      "source": [
        "data[:100]"
      ],
      "execution_count": 5,
      "outputs": [
        {
          "output_type": "execute_result",
          "data": {
            "text/plain": [
              "'\\r\\nProject Gutenberg’s The Complete Works of William Shakespeare, by William\\r\\nShakespeare\\r\\n\\r\\nThis eBo'"
            ]
          },
          "metadata": {
            "tags": []
          },
          "execution_count": 5
        }
      ]
    },
    {
      "cell_type": "code",
      "metadata": {
        "id": "F_cptJeq16mf",
        "colab_type": "code",
        "colab": {}
      },
      "source": [
        "data = data.split('\\r\\n')"
      ],
      "execution_count": 0,
      "outputs": []
    },
    {
      "cell_type": "code",
      "metadata": {
        "id": "BtLCOzZ74RG1",
        "colab_type": "code",
        "outputId": "0dbed317-0bd3-442c-8c7f-b0fbdd43122d",
        "colab": {
          "base_uri": "https://localhost:8080/",
          "height": 33
        }
      },
      "source": [
        "type(data)"
      ],
      "execution_count": 7,
      "outputs": [
        {
          "output_type": "execute_result",
          "data": {
            "text/plain": [
              "list"
            ]
          },
          "metadata": {
            "tags": []
          },
          "execution_count": 7
        }
      ]
    },
    {
      "cell_type": "code",
      "metadata": {
        "id": "oVs5slr45nZk",
        "colab_type": "code",
        "outputId": "ec2a3e82-b363-4cb3-8877-076a0a995c24",
        "colab": {
          "base_uri": "https://localhost:8080/",
          "height": 33
        }
      },
      "source": [
        "len(data)"
      ],
      "execution_count": 8,
      "outputs": [
        {
          "output_type": "execute_result",
          "data": {
            "text/plain": [
              "166903"
            ]
          },
          "metadata": {
            "tags": []
          },
          "execution_count": 8
        }
      ]
    },
    {
      "cell_type": "code",
      "metadata": {
        "id": "u3AM9B3G5QxO",
        "colab_type": "code",
        "outputId": "cb25e98f-790a-4264-9dbb-df06e02a5d0c",
        "colab": {
          "base_uri": "https://localhost:8080/",
          "height": 84
        }
      },
      "source": [
        "data[44:48]"
      ],
      "execution_count": 9,
      "outputs": [
        {
          "output_type": "execute_result",
          "data": {
            "text/plain": [
              "['               ALL’S WELL THAT ENDS WELL',\n",
              " '',\n",
              " '               THE TRAGEDY OF ANTONY AND CLEOPATRA',\n",
              " '']"
            ]
          },
          "metadata": {
            "tags": []
          },
          "execution_count": 9
        }
      ]
    },
    {
      "cell_type": "code",
      "metadata": {
        "id": "xI4kfht816mi",
        "colab_type": "code",
        "colab": {}
      },
      "source": [
        "# Skip the Table of Contents\n",
        "theData = data[135:]"
      ],
      "execution_count": 0,
      "outputs": []
    },
    {
      "cell_type": "code",
      "metadata": {
        "id": "tGYXewKZMYIJ",
        "colab_type": "code",
        "outputId": "b17dd377-aa03-4c99-908b-dd4d22bdfd9c",
        "colab": {
          "base_uri": "https://localhost:8080/",
          "height": 184
        }
      },
      "source": [
        "# Looking at what the data looks like\n",
        "theData[:10]"
      ],
      "execution_count": 11,
      "outputs": [
        {
          "output_type": "execute_result",
          "data": {
            "text/plain": [
              "['THE SONNETS',\n",
              " '',\n",
              " '                    1',\n",
              " '',\n",
              " 'From fairest creatures we desire increase,',\n",
              " 'That thereby beauty’s rose might never die,',\n",
              " 'But as the riper should by time decease,',\n",
              " 'His tender heir might bear his memory:',\n",
              " 'But thou contracted to thine own bright eyes,',\n",
              " 'Feed’st thy light’s flame with self-substantial fuel,']"
            ]
          },
          "metadata": {
            "tags": []
          },
          "execution_count": 11
        }
      ]
    },
    {
      "cell_type": "code",
      "metadata": {
        "id": "R14A7UBz16mk",
        "colab_type": "code",
        "colab": {}
      },
      "source": [
        "# Had to change this to add the sonnets # made the slice object to inlcude the sonnets\n",
        "toc = [l.strip() for l in data[42:130:2]]"
      ],
      "execution_count": 0,
      "outputs": []
    },
    {
      "cell_type": "code",
      "metadata": {
        "id": "9Hms8N9C16mn",
        "colab_type": "code",
        "outputId": "5d5e4978-ab35-413d-893e-a1d6bfc01afa",
        "colab": {
          "base_uri": "https://localhost:8080/",
          "height": 755
        }
      },
      "source": [
        "toc"
      ],
      "execution_count": 13,
      "outputs": [
        {
          "output_type": "execute_result",
          "data": {
            "text/plain": [
              "['THE SONNETS',\n",
              " 'ALL’S WELL THAT ENDS WELL',\n",
              " 'THE TRAGEDY OF ANTONY AND CLEOPATRA',\n",
              " 'AS YOU LIKE IT',\n",
              " 'THE COMEDY OF ERRORS',\n",
              " 'THE TRAGEDY OF CORIOLANUS',\n",
              " 'CYMBELINE',\n",
              " 'THE TRAGEDY OF HAMLET, PRINCE OF DENMARK',\n",
              " 'THE FIRST PART OF KING HENRY THE FOURTH',\n",
              " 'THE SECOND PART OF KING HENRY THE FOURTH',\n",
              " 'THE LIFE OF KING HENRY THE FIFTH',\n",
              " 'THE FIRST PART OF HENRY THE SIXTH',\n",
              " 'THE SECOND PART OF KING HENRY THE SIXTH',\n",
              " 'THE THIRD PART OF KING HENRY THE SIXTH',\n",
              " 'KING HENRY THE EIGHTH',\n",
              " 'KING JOHN',\n",
              " 'THE TRAGEDY OF JULIUS CAESAR',\n",
              " 'THE TRAGEDY OF KING LEAR',\n",
              " 'LOVE’S LABOUR’S LOST',\n",
              " 'THE TRAGEDY OF MACBETH',\n",
              " 'MEASURE FOR MEASURE',\n",
              " 'THE MERCHANT OF VENICE',\n",
              " 'THE MERRY WIVES OF WINDSOR',\n",
              " 'A MIDSUMMER NIGHT’S DREAM',\n",
              " 'MUCH ADO ABOUT NOTHING',\n",
              " 'THE TRAGEDY OF OTHELLO, MOOR OF VENICE',\n",
              " 'PERICLES, PRINCE OF TYRE',\n",
              " 'KING RICHARD THE SECOND',\n",
              " 'KING RICHARD THE THIRD',\n",
              " 'THE TRAGEDY OF ROMEO AND JULIET',\n",
              " 'THE TAMING OF THE SHREW',\n",
              " 'THE TEMPEST',\n",
              " 'THE LIFE OF TIMON OF ATHENS',\n",
              " 'THE TRAGEDY OF TITUS ANDRONICUS',\n",
              " 'THE HISTORY OF TROILUS AND CRESSIDA',\n",
              " 'TWELFTH NIGHT; OR, WHAT YOU WILL',\n",
              " 'THE TWO GENTLEMEN OF VERONA',\n",
              " 'THE TWO NOBLE KINSMEN',\n",
              " 'THE WINTER’S TALE',\n",
              " 'A LOVER’S COMPLAINT',\n",
              " 'THE PASSIONATE PILGRIM',\n",
              " 'THE PHOENIX AND THE TURTLE',\n",
              " 'THE RAPE OF LUCRECE',\n",
              " 'VENUS AND ADONIS']"
            ]
          },
          "metadata": {
            "tags": []
          },
          "execution_count": 13
        }
      ]
    },
    {
      "cell_type": "code",
      "metadata": {
        "id": "m1jwO6rdiB3u",
        "colab_type": "code",
        "outputId": "c98567d2-99cc-4c07-a397-85243e223e5c",
        "colab": {
          "base_uri": "https://localhost:8080/",
          "height": 33
        }
      },
      "source": [
        "# I am changing the correct title for the life of king henry in the toc\n",
        "toc[10]= \"THE LIFE OF KING HENRY V\"\n",
        "toc[10]"
      ],
      "execution_count": 14,
      "outputs": [
        {
          "output_type": "execute_result",
          "data": {
            "text/plain": [
              "'THE LIFE OF KING HENRY V'"
            ]
          },
          "metadata": {
            "tags": []
          },
          "execution_count": 14
        }
      ]
    },
    {
      "cell_type": "code",
      "metadata": {
        "id": "AnnaezHoN9Zk",
        "colab_type": "code",
        "outputId": "977cc67d-a88d-4fab-831e-1e8f02eb56b8",
        "colab": {
          "base_uri": "https://localhost:8080/",
          "height": 33
        }
      },
      "source": [
        "len(toc)"
      ],
      "execution_count": 15,
      "outputs": [
        {
          "output_type": "execute_result",
          "data": {
            "text/plain": [
              "44"
            ]
          },
          "metadata": {
            "tags": []
          },
          "execution_count": 15
        }
      ]
    },
    {
      "cell_type": "code",
      "metadata": {
        "id": "1F3SqqRR16mq",
        "colab_type": "code",
        "colab": {}
      },
      "source": [
        "locations = {id_:{'title':title, 'start':-99} for id_,title in enumerate(toc)}"
      ],
      "execution_count": 0,
      "outputs": []
    },
    {
      "cell_type": "code",
      "metadata": {
        "id": "bt8oZ6_n7b8g",
        "colab_type": "code",
        "outputId": "6935757a-6ba2-4564-a850-7801a477da3d",
        "colab": {
          "base_uri": "https://localhost:8080/",
          "height": 755
        }
      },
      "source": [
        "locations"
      ],
      "execution_count": 17,
      "outputs": [
        {
          "output_type": "execute_result",
          "data": {
            "text/plain": [
              "{0: {'start': -99, 'title': 'THE SONNETS'},\n",
              " 1: {'start': -99, 'title': 'ALL’S WELL THAT ENDS WELL'},\n",
              " 2: {'start': -99, 'title': 'THE TRAGEDY OF ANTONY AND CLEOPATRA'},\n",
              " 3: {'start': -99, 'title': 'AS YOU LIKE IT'},\n",
              " 4: {'start': -99, 'title': 'THE COMEDY OF ERRORS'},\n",
              " 5: {'start': -99, 'title': 'THE TRAGEDY OF CORIOLANUS'},\n",
              " 6: {'start': -99, 'title': 'CYMBELINE'},\n",
              " 7: {'start': -99, 'title': 'THE TRAGEDY OF HAMLET, PRINCE OF DENMARK'},\n",
              " 8: {'start': -99, 'title': 'THE FIRST PART OF KING HENRY THE FOURTH'},\n",
              " 9: {'start': -99, 'title': 'THE SECOND PART OF KING HENRY THE FOURTH'},\n",
              " 10: {'start': -99, 'title': 'THE LIFE OF KING HENRY V'},\n",
              " 11: {'start': -99, 'title': 'THE FIRST PART OF HENRY THE SIXTH'},\n",
              " 12: {'start': -99, 'title': 'THE SECOND PART OF KING HENRY THE SIXTH'},\n",
              " 13: {'start': -99, 'title': 'THE THIRD PART OF KING HENRY THE SIXTH'},\n",
              " 14: {'start': -99, 'title': 'KING HENRY THE EIGHTH'},\n",
              " 15: {'start': -99, 'title': 'KING JOHN'},\n",
              " 16: {'start': -99, 'title': 'THE TRAGEDY OF JULIUS CAESAR'},\n",
              " 17: {'start': -99, 'title': 'THE TRAGEDY OF KING LEAR'},\n",
              " 18: {'start': -99, 'title': 'LOVE’S LABOUR’S LOST'},\n",
              " 19: {'start': -99, 'title': 'THE TRAGEDY OF MACBETH'},\n",
              " 20: {'start': -99, 'title': 'MEASURE FOR MEASURE'},\n",
              " 21: {'start': -99, 'title': 'THE MERCHANT OF VENICE'},\n",
              " 22: {'start': -99, 'title': 'THE MERRY WIVES OF WINDSOR'},\n",
              " 23: {'start': -99, 'title': 'A MIDSUMMER NIGHT’S DREAM'},\n",
              " 24: {'start': -99, 'title': 'MUCH ADO ABOUT NOTHING'},\n",
              " 25: {'start': -99, 'title': 'THE TRAGEDY OF OTHELLO, MOOR OF VENICE'},\n",
              " 26: {'start': -99, 'title': 'PERICLES, PRINCE OF TYRE'},\n",
              " 27: {'start': -99, 'title': 'KING RICHARD THE SECOND'},\n",
              " 28: {'start': -99, 'title': 'KING RICHARD THE THIRD'},\n",
              " 29: {'start': -99, 'title': 'THE TRAGEDY OF ROMEO AND JULIET'},\n",
              " 30: {'start': -99, 'title': 'THE TAMING OF THE SHREW'},\n",
              " 31: {'start': -99, 'title': 'THE TEMPEST'},\n",
              " 32: {'start': -99, 'title': 'THE LIFE OF TIMON OF ATHENS'},\n",
              " 33: {'start': -99, 'title': 'THE TRAGEDY OF TITUS ANDRONICUS'},\n",
              " 34: {'start': -99, 'title': 'THE HISTORY OF TROILUS AND CRESSIDA'},\n",
              " 35: {'start': -99, 'title': 'TWELFTH NIGHT; OR, WHAT YOU WILL'},\n",
              " 36: {'start': -99, 'title': 'THE TWO GENTLEMEN OF VERONA'},\n",
              " 37: {'start': -99, 'title': 'THE TWO NOBLE KINSMEN'},\n",
              " 38: {'start': -99, 'title': 'THE WINTER’S TALE'},\n",
              " 39: {'start': -99, 'title': 'A LOVER’S COMPLAINT'},\n",
              " 40: {'start': -99, 'title': 'THE PASSIONATE PILGRIM'},\n",
              " 41: {'start': -99, 'title': 'THE PHOENIX AND THE TURTLE'},\n",
              " 42: {'start': -99, 'title': 'THE RAPE OF LUCRECE'},\n",
              " 43: {'start': -99, 'title': 'VENUS AND ADONIS'}}"
            ]
          },
          "metadata": {
            "tags": []
          },
          "execution_count": 17
        }
      ]
    },
    {
      "cell_type": "code",
      "metadata": {
        "id": "gqi_NPIG16mu",
        "colab_type": "code",
        "colab": {}
      },
      "source": [
        "# Start \n",
        "for e,i in enumerate(theData):\n",
        "    for t,title in enumerate(toc):\n",
        "        if title in i:\n",
        "            locations[t].update({'start':e})\n",
        "            \n",
        "# End            \n",
        "for title in toc:\n",
        "    \n",
        "    t = 0\n",
        "    \n",
        "    while t < (len(toc)-1):\n",
        "       # print(t) taking the printing out so that I don't get large output\n",
        "        end = (locations[t+1]['start']) - 1\n",
        "        locations[t]['end'] = end\n",
        "        t += 1\n",
        "\n",
        "    # Last One\n",
        "    locations[t]['end'] = len(theData)"
      ],
      "execution_count": 0,
      "outputs": []
    },
    {
      "cell_type": "code",
      "metadata": {
        "id": "HPmMyqgN8pNm",
        "colab_type": "code",
        "outputId": "1d3cde47-daea-4b87-c363-717779a75fca",
        "colab": {
          "base_uri": "https://localhost:8080/",
          "height": 67
        }
      },
      "source": [
        "locations[9]"
      ],
      "execution_count": 19,
      "outputs": [
        {
          "output_type": "execute_result",
          "data": {
            "text/plain": [
              "{'end': 42636,\n",
              " 'start': 39228,\n",
              " 'title': 'THE SECOND PART OF KING HENRY THE FOURTH'}"
            ]
          },
          "metadata": {
            "tags": []
          },
          "execution_count": 19
        }
      ]
    },
    {
      "cell_type": "code",
      "metadata": {
        "id": "iT84rTX7S01M",
        "colab_type": "code",
        "outputId": "5361275e-3ede-40c6-dd66-82149cf2a3c4",
        "colab": {
          "base_uri": "https://localhost:8080/",
          "height": 33
        }
      },
      "source": [
        "# checking to see if the locations are correct\n",
        "locations[10]"
      ],
      "execution_count": 20,
      "outputs": [
        {
          "output_type": "execute_result",
          "data": {
            "text/plain": [
              "{'end': 47572, 'start': 42637, 'title': 'THE LIFE OF KING HENRY V'}"
            ]
          },
          "metadata": {
            "tags": []
          },
          "execution_count": 20
        }
      ]
    },
    {
      "cell_type": "code",
      "metadata": {
        "id": "bQGKb8lXirBS",
        "colab_type": "code",
        "outputId": "80249d93-83fc-408d-b01b-bffda7eb65f0",
        "colab": {
          "base_uri": "https://localhost:8080/",
          "height": 33
        }
      },
      "source": [
        "theData[47570:47575]"
      ],
      "execution_count": 21,
      "outputs": [
        {
          "output_type": "execute_result",
          "data": {
            "text/plain": [
              "['', '', '', 'THE FIRST PART OF HENRY THE SIXTH', '']"
            ]
          },
          "metadata": {
            "tags": []
          },
          "execution_count": 21
        }
      ]
    },
    {
      "cell_type": "code",
      "metadata": {
        "id": "o-bcl96h16m0",
        "colab_type": "code",
        "outputId": "a715ea58-48ad-451b-ae8a-542dd27a389b",
        "colab": {
          "base_uri": "https://localhost:8080/",
          "height": 1000
        }
      },
      "source": [
        "locations"
      ],
      "execution_count": 22,
      "outputs": [
        {
          "output_type": "execute_result",
          "data": {
            "text/plain": [
              "{0: {'end': 2776, 'start': 0, 'title': 'THE SONNETS'},\n",
              " 1: {'end': 7738, 'start': 2777, 'title': 'ALL’S WELL THAT ENDS WELL'},\n",
              " 2: {'end': 11840,\n",
              "  'start': 7739,\n",
              "  'title': 'THE TRAGEDY OF ANTONY AND CLEOPATRA'},\n",
              " 3: {'end': 14631, 'start': 11841, 'title': 'AS YOU LIKE IT'},\n",
              " 4: {'end': 17832, 'start': 14632, 'title': 'THE COMEDY OF ERRORS'},\n",
              " 5: {'end': 27806, 'start': 17833, 'title': 'THE TRAGEDY OF CORIOLANUS'},\n",
              " 6: {'end': 27824, 'start': 27807, 'title': 'CYMBELINE'},\n",
              " 7: {'end': 34511,\n",
              "  'start': 27825,\n",
              "  'title': 'THE TRAGEDY OF HAMLET, PRINCE OF DENMARK'},\n",
              " 8: {'end': 39227,\n",
              "  'start': 34512,\n",
              "  'title': 'THE FIRST PART OF KING HENRY THE FOURTH'},\n",
              " 9: {'end': 42636,\n",
              "  'start': 39228,\n",
              "  'title': 'THE SECOND PART OF KING HENRY THE FOURTH'},\n",
              " 10: {'end': 47572, 'start': 42637, 'title': 'THE LIFE OF KING HENRY V'},\n",
              " 11: {'end': 50843,\n",
              "  'start': 47573,\n",
              "  'title': 'THE FIRST PART OF HENRY THE SIXTH'},\n",
              " 12: {'end': 54331,\n",
              "  'start': 50844,\n",
              "  'title': 'THE SECOND PART OF KING HENRY THE SIXTH'},\n",
              " 13: {'end': 57717,\n",
              "  'start': 54332,\n",
              "  'title': 'THE THIRD PART OF KING HENRY THE SIXTH'},\n",
              " 14: {'end': 64170, 'start': 57718, 'title': 'KING HENRY THE EIGHTH'},\n",
              " 15: {'end': 64243, 'start': 64171, 'title': 'KING JOHN'},\n",
              " 16: {'end': 68887, 'start': 64244, 'title': 'THE TRAGEDY OF JULIUS CAESAR'},\n",
              " 17: {'end': 74923, 'start': 68888, 'title': 'THE TRAGEDY OF KING LEAR'},\n",
              " 18: {'end': -100, 'start': 74924, 'title': 'LOVE’S LABOUR’S LOST'},\n",
              " 19: {'end': 81987, 'start': -99, 'title': 'THE TRAGEDY OF MACBETH'},\n",
              " 20: {'end': 84987, 'start': 81988, 'title': 'MEASURE FOR MEASURE'},\n",
              " 21: {'end': 89155, 'start': 84988, 'title': 'THE MERCHANT OF VENICE'},\n",
              " 22: {'end': 92114, 'start': 89156, 'title': 'THE MERRY WIVES OF WINDSOR'},\n",
              " 23: {'end': 95574, 'start': 92115, 'title': 'A MIDSUMMER NIGHT’S DREAM'},\n",
              " 24: {'end': -100, 'start': 95575, 'title': 'MUCH ADO ABOUT NOTHING'},\n",
              " 25: {'end': 107556,\n",
              "  'start': -99,\n",
              "  'title': 'THE TRAGEDY OF OTHELLO, MOOR OF VENICE'},\n",
              " 26: {'end': 111699, 'start': 107557, 'title': 'PERICLES, PRINCE OF TYRE'},\n",
              " 27: {'end': 114792, 'start': 111700, 'title': 'KING RICHARD THE SECOND'},\n",
              " 28: {'end': 119200, 'start': 114793, 'title': 'KING RICHARD THE THIRD'},\n",
              " 29: {'end': 124456,\n",
              "  'start': 119201,\n",
              "  'title': 'THE TRAGEDY OF ROMEO AND JULIET'},\n",
              " 30: {'end': 129330, 'start': 124457, 'title': 'THE TAMING OF THE SHREW'},\n",
              " 31: {'end': 133153, 'start': 129331, 'title': 'THE TEMPEST'},\n",
              " 32: {'end': 135869, 'start': 133154, 'title': 'THE LIFE OF TIMON OF ATHENS'},\n",
              " 33: {'end': 138745,\n",
              "  'start': 135870,\n",
              "  'title': 'THE TRAGEDY OF TITUS ANDRONICUS'},\n",
              " 34: {'end': -100,\n",
              "  'start': 138746,\n",
              "  'title': 'THE HISTORY OF TROILUS AND CRESSIDA'},\n",
              " 35: {'end': 149391,\n",
              "  'start': -99,\n",
              "  'title': 'TWELFTH NIGHT; OR, WHAT YOU WILL'},\n",
              " 36: {'end': 151803, 'start': 149392, 'title': 'THE TWO GENTLEMEN OF VERONA'},\n",
              " 37: {'end': 156991, 'start': 151804, 'title': 'THE TWO NOBLE KINSMEN'},\n",
              " 38: {'end': 162006, 'start': 156992, 'title': 'THE WINTER’S TALE'},\n",
              " 39: {'end': 162389, 'start': 162007, 'title': 'A LOVER’S COMPLAINT'},\n",
              " 40: {'end': 162629, 'start': 162390, 'title': 'THE PASSIONATE PILGRIM'},\n",
              " 41: {'end': 162723, 'start': 162630, 'title': 'THE PHOENIX AND THE TURTLE'},\n",
              " 42: {'end': 164942, 'start': 162724, 'title': 'THE RAPE OF LUCRECE'},\n",
              " 43: {'end': 166768, 'start': 164943, 'title': 'VENUS AND ADONIS'}}"
            ]
          },
          "metadata": {
            "tags": []
          },
          "execution_count": 22
        }
      ]
    },
    {
      "cell_type": "code",
      "metadata": {
        "id": "bWDnGm5j16m2",
        "colab_type": "code",
        "outputId": "5107dfe8-0cde-47e1-abb7-01a752cc5035",
        "colab": {
          "base_uri": "https://localhost:8080/",
          "height": 33
        }
      },
      "source": [
        "for e, i in enumerate(theData):\n",
        "    \n",
        "    if \"ALL’S WELL THAT ENDS WELL\" in i:\n",
        "        print(e)"
      ],
      "execution_count": 23,
      "outputs": [
        {
          "output_type": "stream",
          "text": [
            "2777\n"
          ],
          "name": "stdout"
        }
      ]
    },
    {
      "cell_type": "code",
      "metadata": {
        "id": "o2uOFuuNCcO2",
        "colab_type": "code",
        "colab": {
          "base_uri": "https://localhost:8080/",
          "height": 33
        },
        "outputId": "99bf1b89-5efe-4265-fee4-48b94a8d3907"
      },
      "source": [
        "theData[0]"
      ],
      "execution_count": 25,
      "outputs": [
        {
          "output_type": "execute_result",
          "data": {
            "text/plain": [
              "'THE SONNETS'"
            ]
          },
          "metadata": {
            "tags": []
          },
          "execution_count": 25
        }
      ]
    },
    {
      "cell_type": "code",
      "metadata": {
        "id": "2nt3e7dv16m7",
        "colab_type": "code",
        "outputId": "e91816da-4248-4bea-8958-5d8fcd4050b9",
        "colab": {
          "base_uri": "https://localhost:8080/",
          "height": 33
        }
      },
      "source": [
        "# divide b/w plays and sonets\n",
        "sonets = theData[:2776]\n",
        "plays = theData[2777:]\n",
        "print(len(sonets), len(plays))"
      ],
      "execution_count": 26,
      "outputs": [
        {
          "output_type": "stream",
          "text": [
            "2776 163991\n"
          ],
          "name": "stdout"
        }
      ]
    },
    {
      "cell_type": "code",
      "metadata": {
        "id": "rd-2-p2116m9",
        "colab_type": "code",
        "outputId": "2077f7e3-69cb-46f2-fe21-39ae45cd3b2c",
        "colab": {
          "base_uri": "https://localhost:8080/",
          "height": 33
        }
      },
      "source": [
        "theData[0]"
      ],
      "execution_count": 27,
      "outputs": [
        {
          "output_type": "execute_result",
          "data": {
            "text/plain": [
              "'THE SONNETS'"
            ]
          },
          "metadata": {
            "tags": []
          },
          "execution_count": 27
        }
      ]
    },
    {
      "cell_type": "code",
      "metadata": {
        "id": "mdHO2Ym616m_",
        "colab_type": "code",
        "colab": {}
      },
      "source": [
        "def long_lines(lst_ln):\n",
        "    clean = []\n",
        "    \n",
        "    for ln in lst_ln: \n",
        "        \n",
        "        if len(ln) == 0:\n",
        "            pass\n",
        "        else:\n",
        "            pct = len(ln.strip(' ')) / len(ln)\n",
        "\n",
        "            if pct >= .5:\n",
        "                clean.append(ln.lstrip())\n",
        "\n",
        "    return clean"
      ],
      "execution_count": 0,
      "outputs": []
    },
    {
      "cell_type": "code",
      "metadata": {
        "id": "BcNQI4KJ16nB",
        "colab_type": "code",
        "outputId": "0ed86994-9714-4d5e-8c6d-2e4705594827",
        "colab": {
          "base_uri": "https://localhost:8080/",
          "height": 33
        }
      },
      "source": [
        "# May Not be Needed --- this will remove those lines where there is \n",
        "# mostly space\n",
        "sonets_clean = long_lines(sonets)\n",
        "plays_clean = long_lines(plays)\n",
        "print(len(sonets), len(plays)) \n",
        "# This shows that nothing was really removed"
      ],
      "execution_count": 29,
      "outputs": [
        {
          "output_type": "stream",
          "text": [
            "2776 163991\n"
          ],
          "name": "stdout"
        }
      ]
    },
    {
      "cell_type": "code",
      "metadata": {
        "id": "fQJ5r2RTqQTJ",
        "colab_type": "code",
        "outputId": "2c420898-a063-412c-df1f-dcf6b4c97798",
        "colab": {
          "base_uri": "https://localhost:8080/",
          "height": 33
        }
      },
      "source": [
        "# looking at what the sonets_clean and the plays_clean are:\n",
        "type(sonets_clean), type(plays_clean)"
      ],
      "execution_count": 30,
      "outputs": [
        {
          "output_type": "execute_result",
          "data": {
            "text/plain": [
              "(list, list)"
            ]
          },
          "metadata": {
            "tags": []
          },
          "execution_count": 30
        }
      ]
    },
    {
      "cell_type": "code",
      "metadata": {
        "id": "ZUUj2myDH_94",
        "colab_type": "code",
        "colab": {}
      },
      "source": [
        "# code to test the function below\n",
        "theList = [\"I love cows?]\", \"^~hello|í\"]"
      ],
      "execution_count": 0,
      "outputs": []
    },
    {
      "cell_type": "code",
      "metadata": {
        "id": "0KG02tgYGiSo",
        "colab_type": "code",
        "colab": {}
      },
      "source": [
        "# going to try to remove anything that is non ascii\n",
        "def remove_non_ascii(textList):\n",
        "  for i in range(len(textList)):\n",
        "    new = textList[i].encode(\"ascii\", \"ignore\")\n",
        "    textList[i] = new.decode()\n",
        "  return textList"
      ],
      "execution_count": 0,
      "outputs": []
    },
    {
      "cell_type": "code",
      "metadata": {
        "id": "8PWNk_6fH4bh",
        "colab_type": "code",
        "colab": {
          "base_uri": "https://localhost:8080/",
          "height": 33
        },
        "outputId": "a5ec1339-f249-405e-cf7c-58d2d0555246"
      },
      "source": [
        "# this is an example of using the function to remove the non ascii characters\n",
        "theNewList = remove_non_ascii(theList)\n",
        "theNewList"
      ],
      "execution_count": 65,
      "outputs": [
        {
          "output_type": "execute_result",
          "data": {
            "text/plain": [
              "['I love cows?]', '^~hello|']"
            ]
          },
          "metadata": {
            "tags": []
          },
          "execution_count": 65
        }
      ]
    },
    {
      "cell_type": "code",
      "metadata": {
        "id": "zqrfKUKYJzhN",
        "colab_type": "code",
        "colab": {
          "base_uri": "https://localhost:8080/",
          "height": 50
        },
        "outputId": "8371be23-29fb-454f-ef76-3e229e1b9dda"
      },
      "source": [
        "# will run the lists through the methods that will \n",
        "# remove the non ascii chars if there are any of them\n",
        "sonets_no_ascii = remove_non_ascii(sonets)\n",
        "plays_no_ascii = remove_non_ascii(plays)\n",
        "print(len(sonets), len(sonets_no_ascii))\n",
        "print(len(plays), len(plays_no_ascii))"
      ],
      "execution_count": 68,
      "outputs": [
        {
          "output_type": "stream",
          "text": [
            "2776 2776\n",
            "163991 163991\n"
          ],
          "name": "stdout"
        }
      ]
    },
    {
      "cell_type": "code",
      "metadata": {
        "id": "XJMuBjFlKgA7",
        "colab_type": "code",
        "colab": {}
      },
      "source": [
        "# this means that there were no non ascii found in the\n",
        "# documents"
      ],
      "execution_count": 0,
      "outputs": []
    },
    {
      "cell_type": "code",
      "metadata": {
        "id": "P2f0OdfZxw39",
        "colab_type": "code",
        "colab": {}
      },
      "source": [
        "import string"
      ],
      "execution_count": 0,
      "outputs": []
    },
    {
      "cell_type": "code",
      "metadata": {
        "id": "6iMLD4SnxZIt",
        "colab_type": "code",
        "outputId": "54102d17-5140-40cb-9783-98e5e0704c8d",
        "colab": {
          "base_uri": "https://localhost:8080/",
          "height": 34
        }
      },
      "source": [
        "# will try to clean the plays and the sonets some more to remove some of the \n",
        "# puctuation\n",
        "practice_string = \"I 2 will go!? , tommorow\"\n",
        "\n",
        "# doing some looping\n",
        "table = practice_string.maketrans(\" \", \" \", string.punctuation)\n",
        "new_string = practice_string.translate(table)\n",
        "new_string"
      ],
      "execution_count": 0,
      "outputs": [
        {
          "output_type": "execute_result",
          "data": {
            "text/plain": [
              "'I 2 will go  tommorow'"
            ]
          },
          "metadata": {
            "tags": []
          },
          "execution_count": 58
        }
      ]
    },
    {
      "cell_type": "markdown",
      "metadata": {
        "id": "PS3vQTuH16nD",
        "colab_type": "text"
      },
      "source": [
        "## Word Encoding\n",
        "\n",
        "This is just a start, and is not complete yet. "
      ]
    },
    {
      "cell_type": "code",
      "metadata": {
        "id": "7WuM55uS16nE",
        "colab_type": "code",
        "colab": {}
      },
      "source": [
        "# building a list that will \n",
        "play_vocab = list(set(\"\\r\\n\".join(plays).split()))\n",
        "play_words = [line.split() for line in plays]"
      ],
      "execution_count": 0,
      "outputs": []
    },
    {
      "cell_type": "code",
      "metadata": {
        "id": "wNZkcizWt-wO",
        "colab_type": "code",
        "colab": {}
      },
      "source": [
        "# doing this also for the sonnets\n",
        "sonet_vocab = list(set(\"\\r\\n\".join(sonets).split()))\n",
        "sonet_words = [theLine.split() for theLine in sonets]"
      ],
      "execution_count": 0,
      "outputs": []
    },
    {
      "cell_type": "code",
      "metadata": {
        "id": "0AuPy7Z_uo-H",
        "colab_type": "code",
        "outputId": "34079482-c1d8-4b0b-c83f-3affe3a5d84c",
        "colab": {
          "base_uri": "https://localhost:8080/",
          "height": 50
        }
      },
      "source": [
        "# now printing out the length of the vocab words for the sonnet\n",
        "print(f\"the length of the vocab for the sonets is {len(sonet_vocab)}\")\n",
        "print(f\"the lenght of the list of lines in the sonet is: {len(sonet_words)}\")"
      ],
      "execution_count": 35,
      "outputs": [
        {
          "output_type": "stream",
          "text": [
            "the length of the vocab for the sonets is 4727\n",
            "the lenght of the list of lines in the sonet is: 2776\n"
          ],
          "name": "stdout"
        }
      ]
    },
    {
      "cell_type": "code",
      "metadata": {
        "id": "H9zBPG6u16nH",
        "colab_type": "code",
        "outputId": "746ed550-b3b1-4e31-9641-7851b400706d",
        "colab": {
          "base_uri": "https://localhost:8080/",
          "height": 33
        }
      },
      "source": [
        "print(len(word_vocab), len(play_words))"
      ],
      "execution_count": 36,
      "outputs": [
        {
          "output_type": "stream",
          "text": [
            "75738 163991\n"
          ],
          "name": "stdout"
        }
      ]
    },
    {
      "cell_type": "code",
      "metadata": {
        "id": "DSN__5ib16nK",
        "colab_type": "code",
        "outputId": "fc8ed9bb-7ff3-4b0b-9969-691003c14ee4",
        "colab": {
          "base_uri": "https://localhost:8080/",
          "height": 33
        }
      },
      "source": [
        "words[0]"
      ],
      "execution_count": 37,
      "outputs": [
        {
          "output_type": "execute_result",
          "data": {
            "text/plain": [
              "['ALL’S', 'WELL', 'THAT', 'ENDS', 'WELL']"
            ]
          },
          "metadata": {
            "tags": []
          },
          "execution_count": 37
        }
      ]
    },
    {
      "cell_type": "code",
      "metadata": {
        "id": "ocSSDCj8wK_8",
        "colab_type": "code",
        "outputId": "8ff930fd-a11e-4342-d682-7140c3701aea",
        "colab": {
          "base_uri": "https://localhost:8080/",
          "height": 406
        }
      },
      "source": [
        "!pip install ipdb\n"
      ],
      "execution_count": 38,
      "outputs": [
        {
          "output_type": "stream",
          "text": [
            "Collecting ipdb\n",
            "  Downloading https://files.pythonhosted.org/packages/2c/bb/a3e1a441719ebd75c6dac8170d3ddba884b7ee8a5c0f9aefa7297386627a/ipdb-0.13.2.tar.gz\n",
            "Requirement already satisfied: setuptools in /usr/local/lib/python3.6/dist-packages (from ipdb) (47.1.1)\n",
            "Requirement already satisfied: ipython>=5.1.0 in /usr/local/lib/python3.6/dist-packages (from ipdb) (5.5.0)\n",
            "Requirement already satisfied: prompt-toolkit<2.0.0,>=1.0.4 in /usr/local/lib/python3.6/dist-packages (from ipython>=5.1.0->ipdb) (1.0.18)\n",
            "Requirement already satisfied: pygments in /usr/local/lib/python3.6/dist-packages (from ipython>=5.1.0->ipdb) (2.1.3)\n",
            "Requirement already satisfied: pexpect; sys_platform != \"win32\" in /usr/local/lib/python3.6/dist-packages (from ipython>=5.1.0->ipdb) (4.8.0)\n",
            "Requirement already satisfied: pickleshare in /usr/local/lib/python3.6/dist-packages (from ipython>=5.1.0->ipdb) (0.7.5)\n",
            "Requirement already satisfied: decorator in /usr/local/lib/python3.6/dist-packages (from ipython>=5.1.0->ipdb) (4.4.2)\n",
            "Requirement already satisfied: traitlets>=4.2 in /usr/local/lib/python3.6/dist-packages (from ipython>=5.1.0->ipdb) (4.3.3)\n",
            "Requirement already satisfied: simplegeneric>0.8 in /usr/local/lib/python3.6/dist-packages (from ipython>=5.1.0->ipdb) (0.8.1)\n",
            "Requirement already satisfied: wcwidth in /usr/local/lib/python3.6/dist-packages (from prompt-toolkit<2.0.0,>=1.0.4->ipython>=5.1.0->ipdb) (0.2.2)\n",
            "Requirement already satisfied: six>=1.9.0 in /usr/local/lib/python3.6/dist-packages (from prompt-toolkit<2.0.0,>=1.0.4->ipython>=5.1.0->ipdb) (1.12.0)\n",
            "Requirement already satisfied: ptyprocess>=0.5 in /usr/local/lib/python3.6/dist-packages (from pexpect; sys_platform != \"win32\"->ipython>=5.1.0->ipdb) (0.6.0)\n",
            "Requirement already satisfied: ipython-genutils in /usr/local/lib/python3.6/dist-packages (from traitlets>=4.2->ipython>=5.1.0->ipdb) (0.2.0)\n",
            "Building wheels for collected packages: ipdb\n",
            "  Building wheel for ipdb (setup.py) ... \u001b[?25l\u001b[?25hdone\n",
            "  Created wheel for ipdb: filename=ipdb-0.13.2-cp36-none-any.whl size=10522 sha256=742c9f4630e145f4274be3044082a085ab3e39bd1288e6dca712f00a73e17eea\n",
            "  Stored in directory: /root/.cache/pip/wheels/60/c2/15/793365e3c9318c46ba914263740d90f1fe67f544b979141ce4\n",
            "Successfully built ipdb\n",
            "Installing collected packages: ipdb\n",
            "Successfully installed ipdb-0.13.2\n"
          ],
          "name": "stdout"
        }
      ]
    },
    {
      "cell_type": "code",
      "metadata": {
        "id": "p2jTFDb7wVib",
        "colab_type": "code",
        "colab": {}
      },
      "source": [
        "import ipdb"
      ],
      "execution_count": 0,
      "outputs": []
    },
    {
      "cell_type": "markdown",
      "metadata": {
        "id": "MC_npMjC16nN",
        "colab_type": "text"
      },
      "source": [
        "## Character Encoding\n",
        "\n",
        "Using the technique shown in lecture. "
      ]
    },
    {
      "cell_type": "code",
      "metadata": {
        "id": "5bs29wGk16nN",
        "colab_type": "code",
        "colab": {}
      },
      "source": [
        "def make_char_int_mapping(theText):\n",
        "  # this is to make each character map to an integer\n",
        "  text = '\\r\\n'.join(theText)\n",
        "  # This will make the string into a list of chars it makes it so that \n",
        "  # there is only one of each type of character\n",
        "  chars = list(set(text))\n",
        "\n",
        "  char_int = {c:i for i,c in enumerate(chars)}\n",
        "  int_char = {i:c for i,c in enumerate(chars)}\n",
        "\n",
        "  print(f\"The length of the char to int dictionary is: {len(char_int)}\")\n",
        "  print(f\"The number of char in the theText is: {len(chars)}\")\n",
        "  print(f\"Our corpus contains {len(chars)} unique characters.\")\n",
        "  return char_int, int_char"
      ],
      "execution_count": 0,
      "outputs": []
    },
    {
      "cell_type": "code",
      "metadata": {
        "id": "vTGQ_nzAv3S_",
        "colab_type": "code",
        "outputId": "bef1258b-e9c5-4c87-ebd1-9f42ae9b47e0",
        "colab": {
          "base_uri": "https://localhost:8080/",
          "height": 67
        }
      },
      "source": [
        "# running the function\n",
        "sonet_char_to_int, sonet_int_to_char = make_char_int_mapping(sonets)"
      ],
      "execution_count": 79,
      "outputs": [
        {
          "output_type": "stream",
          "text": [
            "The length of the char to int dictionary is: 71\n",
            "The number of char in the theText is: 71\n",
            "Our corpus contains 71 unique characters.\n"
          ],
          "name": "stdout"
        }
      ]
    },
    {
      "cell_type": "code",
      "metadata": {
        "id": "78kaQmsFzAea",
        "colab_type": "code",
        "outputId": "0687d04b-19d0-4384-fdc4-ffe03aaae7e4",
        "colab": {
          "base_uri": "https://localhost:8080/",
          "height": 33
        }
      },
      "source": [
        "# running the same function for the plays\n",
        "plays_char_to_int, plays_int_to_char = make_char_int_mapping(plays)"
      ],
      "execution_count": 71,
      "outputs": [
        {
          "output_type": "stream",
          "text": [
            "Our corpus contains 90 unique characters.\n"
          ],
          "name": "stdout"
        }
      ]
    },
    {
      "cell_type": "code",
      "metadata": {
        "id": "j8w-sfZy0hqv",
        "colab_type": "code",
        "colab": {}
      },
      "source": [
        "# Creating a function that will return the encoded\n",
        "# text -- will now have \n",
        "def encode_text(theText, char_to_int_map):\n",
        "  text = \"\\r\\n\".join(theText)\n",
        "\n",
        "  encoded = [char_to_int_map[c] for c in text]\n",
        "  # encoded is a list where each element is a char in the text \n",
        "  # in numerical form\n",
        "  return encoded"
      ],
      "execution_count": 0,
      "outputs": []
    },
    {
      "cell_type": "code",
      "metadata": {
        "id": "Rr0zJb9S05v_",
        "colab_type": "code",
        "colab": {
          "base_uri": "https://localhost:8080/",
          "height": 67
        },
        "outputId": "423510e4-365e-4cc3-c621-cccc4c767b96"
      },
      "source": [
        "# getting the encoded text for the sonets\n",
        "sonet_encoded = encode_text(sonets, sonet_char_to_int)\n",
        "print(type(sonet_encoded))\n",
        "print(sonet_encoded[0:10])\n",
        "print(f\"the length of the sonet_encoded is: {len(sonet_encoded)}\")"
      ],
      "execution_count": 48,
      "outputs": [
        {
          "output_type": "stream",
          "text": [
            "<class 'list'>\n",
            "[18, 59, 43, 14, 27, 55, 15, 15, 43, 18]\n",
            "the length of the sonet_encoded is: 101128\n"
          ],
          "name": "stdout"
        }
      ]
    },
    {
      "cell_type": "code",
      "metadata": {
        "id": "DDB187bIMDc4",
        "colab_type": "code",
        "colab": {
          "base_uri": "https://localhost:8080/",
          "height": 67
        },
        "outputId": "fe04222d-409d-42c9-e36b-1c5313d85c19"
      },
      "source": [
        "plays_encoded = encode_text(plays, plays_char_to_int)\n",
        "print(type(plays_encoded))\n",
        "print(len(plays_encoded))\n",
        "plays_encoded[0:5]"
      ],
      "execution_count": 72,
      "outputs": [
        {
          "output_type": "stream",
          "text": [
            "<class 'list'>\n",
            "5617664\n"
          ],
          "name": "stdout"
        },
        {
          "output_type": "execute_result",
          "data": {
            "text/plain": [
              "[51, 9, 9, 46, 25]"
            ]
          },
          "metadata": {
            "tags": []
          },
          "execution_count": 72
        }
      ]
    },
    {
      "cell_type": "code",
      "metadata": {
        "id": "ZmaGooNp16nP",
        "colab_type": "code",
        "colab": {}
      },
      "source": [
        "\n",
        "# Create the Sequence Data\n",
        "# This is the function that is trying to \n",
        "# make the data to use for the lstm into a series of\n",
        "# lists where the \"window slides down on each iteration\"\n",
        "def useSlidingWindow(encoded_text_list):\n",
        "  maxlen = 150\n",
        "  step = 1\n",
        "\n",
        "\n",
        "\n",
        "  sequences = [] # Each element is 40 characters long -- I think it will be set to \n",
        "                # 150 char long\n",
        "  next_chars = [] # One element for each sequence\n",
        "\n",
        "  # we are using the stop of minus the maxLen so that we don't go \n",
        "  # out of bounds when making a sequence\n",
        "  for i in range(0, len(encoded_text_list) - maxlen, step):\n",
        "      sequences.append(encoded_text_list[i : i + maxlen])\n",
        "      # next chars is the y target for each of the current sequences\n",
        "      # only putting in one char per element in the next char list\n",
        "      next_chars.append(encoded_text_list[i + maxlen])\n",
        "\n",
        "  return sequences, next_chars\n",
        "    \n",
        "#print('sequences:', len(sequences))"
      ],
      "execution_count": 0,
      "outputs": []
    },
    {
      "cell_type": "code",
      "metadata": {
        "id": "lUBtfizkL0aa",
        "colab_type": "code",
        "colab": {}
      },
      "source": [
        "# Creating the data for the plays and the sonnets\n",
        "# the sonnet sequences are a list that has each element is a list of 150 long\n",
        "# of the chars in the \n",
        "x_sonets_sequences, y_sonets_next_char = useSlidingWindow(sonet_encoded)\n",
        "x_plays_sequences, y_sonets_next_char = useSlidingWindow(plays_encoded)\n"
      ],
      "execution_count": 0,
      "outputs": []
    },
    {
      "cell_type": "code",
      "metadata": {
        "id": "srQAHZifQVcT",
        "colab_type": "code",
        "colab": {
          "base_uri": "https://localhost:8080/",
          "height": 33
        },
        "outputId": "9057cb3a-e168-4916-bbd2-6e9fd264b755"
      },
      "source": [
        "print(len(x_sonets_sequences), len(x_plays_sequences))"
      ],
      "execution_count": 75,
      "outputs": [
        {
          "output_type": "stream",
          "text": [
            "100978 5617514\n"
          ],
          "name": "stdout"
        }
      ]
    },
    {
      "cell_type": "code",
      "metadata": {
        "id": "yRHt_yDcrOCO",
        "colab_type": "code",
        "colab": {}
      },
      "source": [
        "x_sonet"
      ],
      "execution_count": 0,
      "outputs": []
    },
    {
      "cell_type": "code",
      "metadata": {
        "id": "jks0f-F316nR",
        "colab_type": "code",
        "colab": {}
      },
      "source": [
        "import numpy as np\n",
        "\n",
        "# Specify x & y \n",
        "# length char is the number of unique chars in the sequences\n",
        "# building of the data in a 3 diminsional , all the zeros are False\n",
        "x = np.zeros((len(sequences), maxlen, len(chars)), dtype=np.bool)\n",
        "y = np.zeros((len(sequences), len(chars)), dtype=np.bool)\n",
        "# each sequence element is 150 chars (integers) long\n",
        "for i, sequence in enumerate(sequences):\n",
        "    for t, char in enumerate(sequence):\n",
        "      # this is filling out the numpy matrix with\n",
        "      # 1 other than zero this makes that area a True.\n",
        "        x[i,t,char] = 1\n",
        "        \n",
        "    y[i, next_chars[i]] = 1 # this will make this y be a true instead of false"
      ],
      "execution_count": 0,
      "outputs": []
    },
    {
      "cell_type": "code",
      "metadata": {
        "id": "TVce5j3n16nV",
        "colab_type": "code",
        "outputId": "7ffe536a-35a2-485a-8f5f-f4fb65887859",
        "colab": {}
      },
      "source": [
        "x.shape"
      ],
      "execution_count": 0,
      "outputs": [
        {
          "output_type": "execute_result",
          "data": {
            "text/plain": [
              "(100978, 150, 73)"
            ]
          },
          "metadata": {
            "tags": []
          },
          "execution_count": 31
        }
      ]
    },
    {
      "cell_type": "code",
      "metadata": {
        "id": "ZYqZ0y5W16nY",
        "colab_type": "code",
        "colab": {}
      },
      "source": [
        "# build the model: a single LSTM\n",
        "\n",
        "model = Sequential()\n",
        "model.add(LSTM(256, input_shape=(maxlen, len(chars)), dropout=0.2))\n",
        "model.add(Dense(len(chars), activation='softmax'))\n",
        "\n",
        "model.compile(loss='categorical_crossentropy', optimizer='nadam')"
      ],
      "execution_count": 0,
      "outputs": []
    },
    {
      "cell_type": "code",
      "metadata": {
        "id": "ZMRWlBC116na",
        "colab_type": "code",
        "outputId": "720823d6-7bc5-4066-8580-b9624907b073",
        "colab": {}
      },
      "source": [
        "model.summary()"
      ],
      "execution_count": 0,
      "outputs": [
        {
          "output_type": "stream",
          "text": [
            "Model: \"sequential\"\n",
            "_________________________________________________________________\n",
            "Layer (type)                 Output Shape              Param #   \n",
            "=================================================================\n",
            "lstm (LSTM)                  (None, 1028)              4531424   \n",
            "_________________________________________________________________\n",
            "dense (Dense)                (None, 73)                75117     \n",
            "=================================================================\n",
            "Total params: 4,606,541\n",
            "Trainable params: 4,606,541\n",
            "Non-trainable params: 0\n",
            "_________________________________________________________________\n"
          ],
          "name": "stdout"
        }
      ]
    },
    {
      "cell_type": "code",
      "metadata": {
        "id": "RSREMW-M16nc",
        "colab_type": "code",
        "colab": {}
      },
      "source": [
        "def sample(preds):\n",
        "    # helper function to sample an index from a probability array\n",
        "    preds = np.asarray(preds).astype('float64')\n",
        "    preds = np.log(preds) / 1\n",
        "    exp_preds = np.exp(preds)\n",
        "    preds = exp_preds / np.sum(exp_preds)\n",
        "    probas = np.random.multinomial(1, preds, 1)\n",
        "    return np.argmax(probas)"
      ],
      "execution_count": 0,
      "outputs": []
    },
    {
      "cell_type": "code",
      "metadata": {
        "id": "jmz1D8C816ne",
        "colab_type": "code",
        "colab": {}
      },
      "source": [
        "def on_epoch_end(epoch, _):\n",
        "    # Function invoked at end of each epoch. Prints generated text.\n",
        "    \n",
        "    print()\n",
        "    print('----- Generating text after Epoch: %d' % epoch)\n",
        "    \n",
        "    start_index = random.randint(0, len(text) - maxlen - 1)\n",
        "    \n",
        "    generated = ''\n",
        "    \n",
        "    sentence = text[start_index: start_index + maxlen]\n",
        "    generated += sentence\n",
        "    \n",
        "    print('----- Generating with seed: \"' + sentence + '\"')\n",
        "    sys.stdout.write(generated)\n",
        "    \n",
        "    for i in range(400):\n",
        "        x_pred = np.zeros((1, maxlen, len(chars)))\n",
        "        for t, char in enumerate(sentence):\n",
        "            x_pred[0, t, char_int[char]] = 1\n",
        "            \n",
        "        preds = model.predict(x_pred, verbose=0)[0]\n",
        "        next_index = sample(preds)\n",
        "        next_char = int_char[next_index]\n",
        "        \n",
        "        sentence = sentence[1:] + next_char\n",
        "        \n",
        "        sys.stdout.write(next_char)\n",
        "        sys.stdout.flush()\n",
        "    print()\n",
        "\n",
        "\n",
        "print_callback = LambdaCallback(on_epoch_end=on_epoch_end)"
      ],
      "execution_count": 0,
      "outputs": []
    },
    {
      "cell_type": "code",
      "metadata": {
        "id": "97rK3AAA16ni",
        "colab_type": "code",
        "outputId": "0fb30853-7045-46a6-fee1-16bdde451100",
        "colab": {}
      },
      "source": [
        "logdir = os.path.join(\"logs\", datetime.datetime.now().strftime(\"%Y%m%d-%H%M%S\"))\n",
        "tensorboard_callback = TensorBoard(logdir, histogram_freq=1)\n",
        "\n",
        "model.fit(x, y,\n",
        "          batch_size=1024,\n",
        "          validation_split=.2,\n",
        "          epochs=100,\n",
        "          callbacks=[print_callback, \n",
        "                     #EarlyStopping(min_delta=.02, monitor='val_loss', patience=10),\n",
        "                     tensorboard_callback])"
      ],
      "execution_count": 0,
      "outputs": [
        {
          "output_type": "stream",
          "text": [
            "Train on 80782 samples, validate on 20196 samples\n",
            "Epoch 1/100\n",
            " 2048/80782 [..............................] - ETA: 26:02 - loss: 4.0877\n",
            "----- Generating text after Epoch: 0\n",
            "----- Generating with seed: \"Each changing place with that which goes before,\n",
            "In sequent toil all forwards do contend.\n",
            "Nativity once in the main of light,\n",
            "Crawls to maturity, w\"\n",
            "Each changing place with that which goes before,\n",
            "In sequent toil all forwards do contend.\n",
            "Nativity once in the main of light,\n",
            "Crawls to maturity, wcyoObdsGhahotnlrior soGdon\n",
            "diirhma\n",
            "s2flhEA srSosiiGnohr\n",
            " cuish\n",
            "swhothuhgn\n",
            "s8i5hplhsahbhv\n",
            "!hr Phodhho ihrlhnzolhivuoiRr rhf3h\n",
            "izws\n",
            "olhaaonhyloAwisellollhhh,lnOt5htrzhylsTnh criYvl1ehyTsaagrwsFchDbriBo:isnhlnotAtOr.rooslatthh,o,S dsf 5ol ohbrlt?(rtronEhnilr5ghc,svrimash,b, ogBaalOxSgochhwthoif!Rn do5wqcgnn at3krwn.\n",
            "sdssiil,olamrr Tlohg,r\n",
            "yrOhwioe\n",
            "wiwJtlfia3soofvadAytaytc p,mhiGo oyvf rtn5h\n",
            " 2048/80782 [..............................] - ETA: 1:09:39 - loss: 4.0877"
          ],
          "name": "stdout"
        },
        {
          "output_type": "error",
          "ename": "KeyboardInterrupt",
          "evalue": "",
          "traceback": [
            "\u001b[0;31m---------------------------------------------------------------------------\u001b[0m",
            "\u001b[0;31mKeyboardInterrupt\u001b[0m                         Traceback (most recent call last)",
            "\u001b[0;32m<ipython-input-37-3fec21fe2220>\u001b[0m in \u001b[0;36m<module>\u001b[0;34m\u001b[0m\n\u001b[1;32m      8\u001b[0m           callbacks=[print_callback, \n\u001b[1;32m      9\u001b[0m                      \u001b[0;31m#EarlyStopping(min_delta=.02, monitor='val_loss', patience=10),\u001b[0m\u001b[0;34m\u001b[0m\u001b[0;34m\u001b[0m\u001b[0m\n\u001b[0;32m---> 10\u001b[0;31m                      tensorboard_callback])\n\u001b[0m",
            "\u001b[0;32m~/anaconda3/envs/U4-S3-MNA-DS11/lib/python3.7/site-packages/tensorflow_core/python/keras/engine/training.py\u001b[0m in \u001b[0;36mfit\u001b[0;34m(self, x, y, batch_size, epochs, verbose, callbacks, validation_split, validation_data, shuffle, class_weight, sample_weight, initial_epoch, steps_per_epoch, validation_steps, validation_freq, max_queue_size, workers, use_multiprocessing, **kwargs)\u001b[0m\n\u001b[1;32m    817\u001b[0m         \u001b[0mmax_queue_size\u001b[0m\u001b[0;34m=\u001b[0m\u001b[0mmax_queue_size\u001b[0m\u001b[0;34m,\u001b[0m\u001b[0;34m\u001b[0m\u001b[0m\n\u001b[1;32m    818\u001b[0m         \u001b[0mworkers\u001b[0m\u001b[0;34m=\u001b[0m\u001b[0mworkers\u001b[0m\u001b[0;34m,\u001b[0m\u001b[0;34m\u001b[0m\u001b[0m\n\u001b[0;32m--> 819\u001b[0;31m         use_multiprocessing=use_multiprocessing)\n\u001b[0m\u001b[1;32m    820\u001b[0m \u001b[0;34m\u001b[0m\u001b[0m\n\u001b[1;32m    821\u001b[0m   def evaluate(self,\n",
            "\u001b[0;32m~/anaconda3/envs/U4-S3-MNA-DS11/lib/python3.7/site-packages/tensorflow_core/python/keras/engine/training_v2.py\u001b[0m in \u001b[0;36mfit\u001b[0;34m(self, model, x, y, batch_size, epochs, verbose, callbacks, validation_split, validation_data, shuffle, class_weight, sample_weight, initial_epoch, steps_per_epoch, validation_steps, validation_freq, max_queue_size, workers, use_multiprocessing, **kwargs)\u001b[0m\n\u001b[1;32m    340\u001b[0m                 \u001b[0mmode\u001b[0m\u001b[0;34m=\u001b[0m\u001b[0mModeKeys\u001b[0m\u001b[0;34m.\u001b[0m\u001b[0mTRAIN\u001b[0m\u001b[0;34m,\u001b[0m\u001b[0;34m\u001b[0m\u001b[0m\n\u001b[1;32m    341\u001b[0m                 \u001b[0mtraining_context\u001b[0m\u001b[0;34m=\u001b[0m\u001b[0mtraining_context\u001b[0m\u001b[0;34m,\u001b[0m\u001b[0;34m\u001b[0m\u001b[0m\n\u001b[0;32m--> 342\u001b[0;31m                 total_epochs=epochs)\n\u001b[0m\u001b[1;32m    343\u001b[0m             \u001b[0mcbks\u001b[0m\u001b[0;34m.\u001b[0m\u001b[0mmake_logs\u001b[0m\u001b[0;34m(\u001b[0m\u001b[0mmodel\u001b[0m\u001b[0;34m,\u001b[0m \u001b[0mepoch_logs\u001b[0m\u001b[0;34m,\u001b[0m \u001b[0mtraining_result\u001b[0m\u001b[0;34m,\u001b[0m \u001b[0mModeKeys\u001b[0m\u001b[0;34m.\u001b[0m\u001b[0mTRAIN\u001b[0m\u001b[0;34m)\u001b[0m\u001b[0;34m\u001b[0m\u001b[0m\n\u001b[1;32m    344\u001b[0m \u001b[0;34m\u001b[0m\u001b[0m\n",
            "\u001b[0;32m~/anaconda3/envs/U4-S3-MNA-DS11/lib/python3.7/site-packages/tensorflow_core/python/keras/engine/training_v2.py\u001b[0m in \u001b[0;36mrun_one_epoch\u001b[0;34m(model, iterator, execution_function, dataset_size, batch_size, strategy, steps_per_epoch, num_samples, mode, training_context, total_epochs)\u001b[0m\n\u001b[1;32m    126\u001b[0m         step=step, mode=mode, size=current_batch_size) as batch_logs:\n\u001b[1;32m    127\u001b[0m       \u001b[0;32mtry\u001b[0m\u001b[0;34m:\u001b[0m\u001b[0;34m\u001b[0m\u001b[0m\n\u001b[0;32m--> 128\u001b[0;31m         \u001b[0mbatch_outs\u001b[0m \u001b[0;34m=\u001b[0m \u001b[0mexecution_function\u001b[0m\u001b[0;34m(\u001b[0m\u001b[0miterator\u001b[0m\u001b[0;34m)\u001b[0m\u001b[0;34m\u001b[0m\u001b[0m\n\u001b[0m\u001b[1;32m    129\u001b[0m       \u001b[0;32mexcept\u001b[0m \u001b[0;34m(\u001b[0m\u001b[0mStopIteration\u001b[0m\u001b[0;34m,\u001b[0m \u001b[0merrors\u001b[0m\u001b[0;34m.\u001b[0m\u001b[0mOutOfRangeError\u001b[0m\u001b[0;34m)\u001b[0m\u001b[0;34m:\u001b[0m\u001b[0;34m\u001b[0m\u001b[0m\n\u001b[1;32m    130\u001b[0m         \u001b[0;31m# TODO(kaftan): File bug about tf function and errors.OutOfRangeError?\u001b[0m\u001b[0;34m\u001b[0m\u001b[0;34m\u001b[0m\u001b[0m\n",
            "\u001b[0;32m~/anaconda3/envs/U4-S3-MNA-DS11/lib/python3.7/site-packages/tensorflow_core/python/keras/engine/training_v2_utils.py\u001b[0m in \u001b[0;36mexecution_function\u001b[0;34m(input_fn)\u001b[0m\n\u001b[1;32m     96\u001b[0m     \u001b[0;31m# `numpy` translates Tensors to values in Eager mode.\u001b[0m\u001b[0;34m\u001b[0m\u001b[0;34m\u001b[0m\u001b[0m\n\u001b[1;32m     97\u001b[0m     return nest.map_structure(_non_none_constant_value,\n\u001b[0;32m---> 98\u001b[0;31m                               distributed_function(input_fn))\n\u001b[0m\u001b[1;32m     99\u001b[0m \u001b[0;34m\u001b[0m\u001b[0m\n\u001b[1;32m    100\u001b[0m   \u001b[0;32mreturn\u001b[0m \u001b[0mexecution_function\u001b[0m\u001b[0;34m\u001b[0m\u001b[0m\n",
            "\u001b[0;32m~/anaconda3/envs/U4-S3-MNA-DS11/lib/python3.7/site-packages/tensorflow_core/python/eager/def_function.py\u001b[0m in \u001b[0;36m__call__\u001b[0;34m(self, *args, **kwds)\u001b[0m\n\u001b[1;32m    566\u001b[0m         \u001b[0mxla_context\u001b[0m\u001b[0;34m.\u001b[0m\u001b[0mExit\u001b[0m\u001b[0;34m(\u001b[0m\u001b[0;34m)\u001b[0m\u001b[0;34m\u001b[0m\u001b[0m\n\u001b[1;32m    567\u001b[0m     \u001b[0;32melse\u001b[0m\u001b[0;34m:\u001b[0m\u001b[0;34m\u001b[0m\u001b[0m\n\u001b[0;32m--> 568\u001b[0;31m       \u001b[0mresult\u001b[0m \u001b[0;34m=\u001b[0m \u001b[0mself\u001b[0m\u001b[0;34m.\u001b[0m\u001b[0m_call\u001b[0m\u001b[0;34m(\u001b[0m\u001b[0;34m*\u001b[0m\u001b[0margs\u001b[0m\u001b[0;34m,\u001b[0m \u001b[0;34m**\u001b[0m\u001b[0mkwds\u001b[0m\u001b[0;34m)\u001b[0m\u001b[0;34m\u001b[0m\u001b[0m\n\u001b[0m\u001b[1;32m    569\u001b[0m \u001b[0;34m\u001b[0m\u001b[0m\n\u001b[1;32m    570\u001b[0m     \u001b[0;32mif\u001b[0m \u001b[0mtracing_count\u001b[0m \u001b[0;34m==\u001b[0m \u001b[0mself\u001b[0m\u001b[0;34m.\u001b[0m\u001b[0m_get_tracing_count\u001b[0m\u001b[0;34m(\u001b[0m\u001b[0;34m)\u001b[0m\u001b[0;34m:\u001b[0m\u001b[0;34m\u001b[0m\u001b[0m\n",
            "\u001b[0;32m~/anaconda3/envs/U4-S3-MNA-DS11/lib/python3.7/site-packages/tensorflow_core/python/eager/def_function.py\u001b[0m in \u001b[0;36m_call\u001b[0;34m(self, *args, **kwds)\u001b[0m\n\u001b[1;32m    597\u001b[0m       \u001b[0;31m# In this case we have created variables on the first call, so we run the\u001b[0m\u001b[0;34m\u001b[0m\u001b[0;34m\u001b[0m\u001b[0m\n\u001b[1;32m    598\u001b[0m       \u001b[0;31m# defunned version which is guaranteed to never create variables.\u001b[0m\u001b[0;34m\u001b[0m\u001b[0;34m\u001b[0m\u001b[0m\n\u001b[0;32m--> 599\u001b[0;31m       \u001b[0;32mreturn\u001b[0m \u001b[0mself\u001b[0m\u001b[0;34m.\u001b[0m\u001b[0m_stateless_fn\u001b[0m\u001b[0;34m(\u001b[0m\u001b[0;34m*\u001b[0m\u001b[0margs\u001b[0m\u001b[0;34m,\u001b[0m \u001b[0;34m**\u001b[0m\u001b[0mkwds\u001b[0m\u001b[0;34m)\u001b[0m  \u001b[0;31m# pylint: disable=not-callable\u001b[0m\u001b[0;34m\u001b[0m\u001b[0m\n\u001b[0m\u001b[1;32m    600\u001b[0m     \u001b[0;32melif\u001b[0m \u001b[0mself\u001b[0m\u001b[0;34m.\u001b[0m\u001b[0m_stateful_fn\u001b[0m \u001b[0;32mis\u001b[0m \u001b[0;32mnot\u001b[0m \u001b[0;32mNone\u001b[0m\u001b[0;34m:\u001b[0m\u001b[0;34m\u001b[0m\u001b[0m\n\u001b[1;32m    601\u001b[0m       \u001b[0;31m# Release the lock early so that multiple threads can perform the call\u001b[0m\u001b[0;34m\u001b[0m\u001b[0;34m\u001b[0m\u001b[0m\n",
            "\u001b[0;32m~/anaconda3/envs/U4-S3-MNA-DS11/lib/python3.7/site-packages/tensorflow_core/python/eager/function.py\u001b[0m in \u001b[0;36m__call__\u001b[0;34m(self, *args, **kwargs)\u001b[0m\n\u001b[1;32m   2361\u001b[0m     \u001b[0;32mwith\u001b[0m \u001b[0mself\u001b[0m\u001b[0;34m.\u001b[0m\u001b[0m_lock\u001b[0m\u001b[0;34m:\u001b[0m\u001b[0;34m\u001b[0m\u001b[0m\n\u001b[1;32m   2362\u001b[0m       \u001b[0mgraph_function\u001b[0m\u001b[0;34m,\u001b[0m \u001b[0margs\u001b[0m\u001b[0;34m,\u001b[0m \u001b[0mkwargs\u001b[0m \u001b[0;34m=\u001b[0m \u001b[0mself\u001b[0m\u001b[0;34m.\u001b[0m\u001b[0m_maybe_define_function\u001b[0m\u001b[0;34m(\u001b[0m\u001b[0margs\u001b[0m\u001b[0;34m,\u001b[0m \u001b[0mkwargs\u001b[0m\u001b[0;34m)\u001b[0m\u001b[0;34m\u001b[0m\u001b[0m\n\u001b[0;32m-> 2363\u001b[0;31m     \u001b[0;32mreturn\u001b[0m \u001b[0mgraph_function\u001b[0m\u001b[0;34m.\u001b[0m\u001b[0m_filtered_call\u001b[0m\u001b[0;34m(\u001b[0m\u001b[0margs\u001b[0m\u001b[0;34m,\u001b[0m \u001b[0mkwargs\u001b[0m\u001b[0;34m)\u001b[0m  \u001b[0;31m# pylint: disable=protected-access\u001b[0m\u001b[0;34m\u001b[0m\u001b[0m\n\u001b[0m\u001b[1;32m   2364\u001b[0m \u001b[0;34m\u001b[0m\u001b[0m\n\u001b[1;32m   2365\u001b[0m   \u001b[0;34m@\u001b[0m\u001b[0mproperty\u001b[0m\u001b[0;34m\u001b[0m\u001b[0m\n",
            "\u001b[0;32m~/anaconda3/envs/U4-S3-MNA-DS11/lib/python3.7/site-packages/tensorflow_core/python/eager/function.py\u001b[0m in \u001b[0;36m_filtered_call\u001b[0;34m(self, args, kwargs)\u001b[0m\n\u001b[1;32m   1609\u001b[0m          if isinstance(t, (ops.Tensor,\n\u001b[1;32m   1610\u001b[0m                            resource_variable_ops.BaseResourceVariable))),\n\u001b[0;32m-> 1611\u001b[0;31m         self.captured_inputs)\n\u001b[0m\u001b[1;32m   1612\u001b[0m \u001b[0;34m\u001b[0m\u001b[0m\n\u001b[1;32m   1613\u001b[0m   \u001b[0;32mdef\u001b[0m \u001b[0m_call_flat\u001b[0m\u001b[0;34m(\u001b[0m\u001b[0mself\u001b[0m\u001b[0;34m,\u001b[0m \u001b[0margs\u001b[0m\u001b[0;34m,\u001b[0m \u001b[0mcaptured_inputs\u001b[0m\u001b[0;34m,\u001b[0m \u001b[0mcancellation_manager\u001b[0m\u001b[0;34m=\u001b[0m\u001b[0;32mNone\u001b[0m\u001b[0;34m)\u001b[0m\u001b[0;34m:\u001b[0m\u001b[0;34m\u001b[0m\u001b[0m\n",
            "\u001b[0;32m~/anaconda3/envs/U4-S3-MNA-DS11/lib/python3.7/site-packages/tensorflow_core/python/eager/function.py\u001b[0m in \u001b[0;36m_call_flat\u001b[0;34m(self, args, captured_inputs, cancellation_manager)\u001b[0m\n\u001b[1;32m   1690\u001b[0m       \u001b[0;31m# No tape is watching; skip to running the function.\u001b[0m\u001b[0;34m\u001b[0m\u001b[0;34m\u001b[0m\u001b[0m\n\u001b[1;32m   1691\u001b[0m       return self._build_call_outputs(self._inference_function.call(\n\u001b[0;32m-> 1692\u001b[0;31m           ctx, args, cancellation_manager=cancellation_manager))\n\u001b[0m\u001b[1;32m   1693\u001b[0m     forward_backward = self._select_forward_and_backward_functions(\n\u001b[1;32m   1694\u001b[0m         \u001b[0margs\u001b[0m\u001b[0;34m,\u001b[0m\u001b[0;34m\u001b[0m\u001b[0m\n",
            "\u001b[0;32m~/anaconda3/envs/U4-S3-MNA-DS11/lib/python3.7/site-packages/tensorflow_core/python/eager/function.py\u001b[0m in \u001b[0;36mcall\u001b[0;34m(self, ctx, args, cancellation_manager)\u001b[0m\n\u001b[1;32m    543\u001b[0m               \u001b[0minputs\u001b[0m\u001b[0;34m=\u001b[0m\u001b[0margs\u001b[0m\u001b[0;34m,\u001b[0m\u001b[0;34m\u001b[0m\u001b[0m\n\u001b[1;32m    544\u001b[0m               \u001b[0mattrs\u001b[0m\u001b[0;34m=\u001b[0m\u001b[0;34m(\u001b[0m\u001b[0;34m\"executor_type\"\u001b[0m\u001b[0;34m,\u001b[0m \u001b[0mexecutor_type\u001b[0m\u001b[0;34m,\u001b[0m \u001b[0;34m\"config_proto\"\u001b[0m\u001b[0;34m,\u001b[0m \u001b[0mconfig\u001b[0m\u001b[0;34m)\u001b[0m\u001b[0;34m,\u001b[0m\u001b[0;34m\u001b[0m\u001b[0m\n\u001b[0;32m--> 545\u001b[0;31m               ctx=ctx)\n\u001b[0m\u001b[1;32m    546\u001b[0m         \u001b[0;32melse\u001b[0m\u001b[0;34m:\u001b[0m\u001b[0;34m\u001b[0m\u001b[0m\n\u001b[1;32m    547\u001b[0m           outputs = execute.execute_with_cancellation(\n",
            "\u001b[0;32m~/anaconda3/envs/U4-S3-MNA-DS11/lib/python3.7/site-packages/tensorflow_core/python/eager/execute.py\u001b[0m in \u001b[0;36mquick_execute\u001b[0;34m(op_name, num_outputs, inputs, attrs, ctx, name)\u001b[0m\n\u001b[1;32m     59\u001b[0m     tensors = pywrap_tensorflow.TFE_Py_Execute(ctx._handle, device_name,\n\u001b[1;32m     60\u001b[0m                                                \u001b[0mop_name\u001b[0m\u001b[0;34m,\u001b[0m \u001b[0minputs\u001b[0m\u001b[0;34m,\u001b[0m \u001b[0mattrs\u001b[0m\u001b[0;34m,\u001b[0m\u001b[0;34m\u001b[0m\u001b[0m\n\u001b[0;32m---> 61\u001b[0;31m                                                num_outputs)\n\u001b[0m\u001b[1;32m     62\u001b[0m   \u001b[0;32mexcept\u001b[0m \u001b[0mcore\u001b[0m\u001b[0;34m.\u001b[0m\u001b[0m_NotOkStatusException\u001b[0m \u001b[0;32mas\u001b[0m \u001b[0me\u001b[0m\u001b[0;34m:\u001b[0m\u001b[0;34m\u001b[0m\u001b[0m\n\u001b[1;32m     63\u001b[0m     \u001b[0;32mif\u001b[0m \u001b[0mname\u001b[0m \u001b[0;32mis\u001b[0m \u001b[0;32mnot\u001b[0m \u001b[0;32mNone\u001b[0m\u001b[0;34m:\u001b[0m\u001b[0;34m\u001b[0m\u001b[0m\n",
            "\u001b[0;31mKeyboardInterrupt\u001b[0m: "
          ]
        }
      ]
    },
    {
      "cell_type": "code",
      "metadata": {
        "id": "2t7IZZ5x16nk",
        "colab_type": "code",
        "colab": {}
      },
      "source": [
        "%load_ext tensorboard"
      ],
      "execution_count": 0,
      "outputs": []
    },
    {
      "cell_type": "code",
      "metadata": {
        "id": "neEHrWpc16nn",
        "colab_type": "code",
        "colab": {}
      },
      "source": [
        "%tensorboard --logdir logs"
      ],
      "execution_count": 0,
      "outputs": []
    },
    {
      "cell_type": "markdown",
      "metadata": {
        "colab_type": "text",
        "id": "zE4a4O7Bp5x1"
      },
      "source": [
        "# Resources and Stretch Goals"
      ]
    },
    {
      "cell_type": "markdown",
      "metadata": {
        "colab_type": "text",
        "id": "uT3UV3gap9H6"
      },
      "source": [
        "## Stretch goals:\n",
        "- Refine the training and generation of text to be able to ask for different genres/styles of Shakespearean text (e.g. plays versus sonnets)\n",
        "- Train a classification model that takes text and returns which work of Shakespeare it is most likely to be from\n",
        "- Make it more performant! Many possible routes here - lean on Keras, optimize the code, and/or use more resources (AWS, etc.)\n",
        "- Revisit the news example from class, and improve it - use categories or tags to refine the model/generation, or train a news classifier\n",
        "- Run on bigger, better data\n",
        "\n",
        "## Resources:\n",
        "- [The Unreasonable Effectiveness of Recurrent Neural Networks](https://karpathy.github.io/2015/05/21/rnn-effectiveness/) - a seminal writeup demonstrating a simple but effective character-level NLP RNN\n",
        "- [Simple NumPy implementation of RNN](https://github.com/JY-Yoon/RNN-Implementation-using-NumPy/blob/master/RNN%20Implementation%20using%20NumPy.ipynb) - Python 3 version of the code from \"Unreasonable Effectiveness\"\n",
        "- [TensorFlow RNN Tutorial](https://github.com/tensorflow/models/tree/master/tutorials/rnn) - code for training a RNN on the Penn Tree Bank language dataset\n",
        "- [4 part tutorial on RNN](http://www.wildml.com/2015/09/recurrent-neural-networks-tutorial-part-1-introduction-to-rnns/) - relates RNN to the vanishing gradient problem, and provides example implementation\n",
        "- [RNN training tips and tricks](https://github.com/karpathy/char-rnn#tips-and-tricks) - some rules of thumb for parameterizing and training your RNN"
      ]
    }
  ]
}