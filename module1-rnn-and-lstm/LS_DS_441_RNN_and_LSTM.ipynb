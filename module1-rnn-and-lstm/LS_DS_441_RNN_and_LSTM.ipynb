{
 "cells": [
  {
   "cell_type": "markdown",
   "metadata": {
    "colab_type": "text",
    "id": "_IizNKWLomoA"
   },
   "source": [
    "# Lambda School Data Science - Recurrent Neural Networks and LSTM\n",
    "\n",
    "> \"Yesterday's just a memory - tomorrow is never what it's supposed to be.\" -- Bob Dylan"
   ]
  },
  {
   "cell_type": "markdown",
   "metadata": {
    "colab_type": "text",
    "id": "0EZdBzC6pvV9"
   },
   "source": [
    "# Lecture\n",
    "\n",
    "Wish you could save [Time In A Bottle](https://www.youtube.com/watch?v=AnWWj6xOleY)? With statistics you can do the next best thing - understand how data varies over time (or any sequential order), and use the order/time dimension predictively.\n",
    "\n",
    "A sequence is just any enumerated collection - order counts, and repetition is allowed. Python lists are a good elemental example - `[1, 2, 2, -1]` is a valid list, and is different from `[1, 2, -1, 2]`. The data structures we tend to use (e.g. NumPy arrays) are often built on this fundamental structure.\n",
    "\n",
    "A time series is data where you have not just the order but some actual continuous marker for where they lie \"in time\" - this could be a date, a timestamp, [Unix time](https://en.wikipedia.org/wiki/Unix_time), or something else. All time series are also sequences, and for some techniques you may just consider their order and not \"how far apart\" the entries are (if you have particularly consistent data collected at regular intervals it may not matter)."
   ]
  },
  {
   "cell_type": "markdown",
   "metadata": {
    "colab_type": "text",
    "id": "5_m0hJ4uCzHz"
   },
   "source": [
    "## Time series with plain old regression\n",
    "\n",
    "Recurrences are fancy, and we'll get to those later - let's start with something simple. Regression can handle time series just fine if you just set them up correctly - let's try some made-up stock data. And to make it, let's use a few list comprehensions!"
   ]
  },
  {
   "cell_type": "code",
   "execution_count": 2,
   "metadata": {
    "ExecuteTime": {
     "end_time": "2019-04-08T21:59:30.145826Z",
     "start_time": "2019-04-08T21:59:30.028520Z"
    },
    "colab": {},
    "colab_type": "code",
    "id": "GkJUFfsgnqr_"
   },
   "outputs": [],
   "source": [
    "import numpy as np\n",
    "from random import random\n",
    "days = np.array((range(28)))\n",
    "stock_quotes = np.array([random() + day * random() for day in days])"
   ]
  },
  {
   "cell_type": "code",
   "execution_count": 3,
   "metadata": {
    "ExecuteTime": {
     "end_time": "2019-04-08T21:59:30.157682Z",
     "start_time": "2019-04-08T21:59:30.148380Z"
    },
    "colab": {
     "base_uri": "https://localhost:8080/",
     "height": 121
    },
    "colab_type": "code",
    "id": "y-ORgKGNBOcb",
    "outputId": "133809e1-8588-4acb-f07e-20dfefcd03ce"
   },
   "outputs": [
    {
     "data": {
      "text/plain": [
       "array([ 0.73023986,  1.54746557,  1.27076184,  2.25690247,  0.92322631,\n",
       "        1.4441809 ,  2.37426699,  7.75643441,  6.75052176,  2.62528293,\n",
       "        2.91963484,  3.98319333,  3.42739726,  4.13403367,  8.25872925,\n",
       "       15.36551136,  1.93706943,  9.58033423,  1.60413258,  2.4830768 ,\n",
       "       14.04414032, 16.85620889, 18.87184183, 13.42749227,  3.7078868 ,\n",
       "       13.63734999,  6.79024201, 25.11768166])"
      ]
     },
     "execution_count": 3,
     "metadata": {},
     "output_type": "execute_result"
    }
   ],
   "source": [
    "stock_quotes"
   ]
  },
  {
   "cell_type": "markdown",
   "metadata": {
    "colab_type": "text",
    "id": "X3lR2wGvBx3a"
   },
   "source": [
    "Let's take a look with a scatter plot:"
   ]
  },
  {
   "cell_type": "code",
   "execution_count": 4,
   "metadata": {
    "ExecuteTime": {
     "end_time": "2019-04-08T21:59:30.512899Z",
     "start_time": "2019-04-08T21:59:30.159269Z"
    },
    "colab": {
     "base_uri": "https://localhost:8080/",
     "height": 364
    },
    "colab_type": "code",
    "id": "pVUTC2tmBSIq",
    "outputId": "75664a71-713d-4815-d4cc-2055f485784a"
   },
   "outputs": [
    {
     "data": {
      "text/plain": [
       "<matplotlib.collections.PathCollection at 0x7f8bf3fdd668>"
      ]
     },
     "execution_count": 4,
     "metadata": {},
     "output_type": "execute_result"
    }
   ],
   "source": [
    "from matplotlib.pyplot import scatter\n",
    "scatter(days, stock_quotes)"
   ]
  },
  {
   "cell_type": "markdown",
   "metadata": {
    "colab_type": "text",
    "id": "hgD4q-T_B0jd"
   },
   "source": [
    "Looks pretty linear, let's try a simple OLS regression.\n",
    "\n",
    "First, these need to be NumPy arrays:"
   ]
  },
  {
   "cell_type": "code",
   "execution_count": 5,
   "metadata": {
    "ExecuteTime": {
     "end_time": "2019-04-08T21:59:30.517475Z",
     "start_time": "2019-04-08T21:59:30.515182Z"
    },
    "colab": {},
    "colab_type": "code",
    "id": "A3Q0MrnUBXAl"
   },
   "outputs": [],
   "source": [
    "days = days.reshape(-1, 1)  # X needs to be column vectors"
   ]
  },
  {
   "cell_type": "markdown",
   "metadata": {
    "colab_type": "text",
    "id": "vqr0SHOnB5yR"
   },
   "source": [
    "Now let's use good old `scikit-learn` and linear regression:"
   ]
  },
  {
   "cell_type": "code",
   "execution_count": 6,
   "metadata": {
    "ExecuteTime": {
     "end_time": "2019-04-08T21:59:31.276015Z",
     "start_time": "2019-04-08T21:59:30.520020Z"
    },
    "colab": {
     "base_uri": "https://localhost:8080/",
     "height": 34
    },
    "colab_type": "code",
    "id": "PqyHxgFvBYl5",
    "outputId": "0d4a183e-fdb3-4e97-c8be-ab31a82b07ff"
   },
   "outputs": [
    {
     "data": {
      "text/plain": [
       "0.4577232398253345"
      ]
     },
     "execution_count": 6,
     "metadata": {},
     "output_type": "execute_result"
    }
   ],
   "source": [
    "from sklearn.linear_model import LinearRegression\n",
    "ols_stocks = LinearRegression()\n",
    "ols_stocks.fit(days, stock_quotes)\n",
    "ols_stocks.score(days, stock_quotes)"
   ]
  },
  {
   "cell_type": "markdown",
   "metadata": {
    "colab_type": "text",
    "id": "KlU0mr-KB_Yk"
   },
   "source": [
    "That seems to work pretty well, but real stocks don't work like this.\n",
    "\n",
    "Let's make *slightly* more realistic data that depends on more than just time:"
   ]
  },
  {
   "cell_type": "code",
   "execution_count": 7,
   "metadata": {
    "ExecuteTime": {
     "end_time": "2019-04-08T21:59:31.285419Z",
     "start_time": "2019-04-08T21:59:31.278375Z"
    },
    "colab": {},
    "colab_type": "code",
    "id": "-FV1Emb2BuLz"
   },
   "outputs": [],
   "source": [
    "# Not everything is best as a comprehension\n",
    "stock_data = np.empty([len(days), 4])\n",
    "for day in days:\n",
    "  asset = random()\n",
    "  liability = random()\n",
    "  quote = random() + ((day * random()) + (20 * asset) - (15 * liability))\n",
    "  quote = max(quote, 0.01)  # Want positive quotes\n",
    "  stock_data[day] = np.array([quote, day, asset, liability])"
   ]
  },
  {
   "cell_type": "code",
   "execution_count": 8,
   "metadata": {
    "ExecuteTime": {
     "end_time": "2019-04-08T21:59:31.294112Z",
     "start_time": "2019-04-08T21:59:31.288480Z"
    },
    "colab": {
     "base_uri": "https://localhost:8080/",
     "height": 503
    },
    "colab_type": "code",
    "id": "6Qe2zzN1CESe",
    "outputId": "5b0cafbf-3a47-40cf-8bc3-38f2dc084e91"
   },
   "outputs": [
    {
     "data": {
      "text/plain": [
       "array([[1.43149476e+01, 0.00000000e+00, 8.55082212e-01, 2.41099367e-01],\n",
       "       [1.95105755e+00, 1.00000000e+00, 5.43601219e-01, 6.08445232e-01],\n",
       "       [7.19218099e+00, 2.00000000e+00, 2.93793114e-01, 5.04354910e-02],\n",
       "       [9.45017057e+00, 3.00000000e+00, 9.87775031e-01, 7.93331857e-01],\n",
       "       [2.99023585e-01, 4.00000000e+00, 7.29380478e-02, 3.85941117e-01],\n",
       "       [1.00000000e-02, 5.00000000e+00, 3.07374452e-02, 4.86361323e-01],\n",
       "       [1.31713670e+01, 6.00000000e+00, 6.34825392e-01, 3.92589678e-01],\n",
       "       [7.44711035e+00, 7.00000000e+00, 7.42394183e-01, 6.46135168e-01],\n",
       "       [7.57430936e+00, 8.00000000e+00, 6.27585786e-01, 6.89711562e-01],\n",
       "       [1.47836301e+01, 9.00000000e+00, 7.06540805e-01, 2.60190147e-02],\n",
       "       [9.33323387e+00, 1.00000000e+01, 1.24356507e-01, 3.20477352e-02],\n",
       "       [1.00000000e-02, 1.10000000e+01, 2.37409997e-01, 6.13287829e-01],\n",
       "       [1.81778573e+01, 1.20000000e+01, 7.97952399e-01, 3.89570682e-01],\n",
       "       [5.49479652e+00, 1.30000000e+01, 6.11608759e-02, 2.65905369e-01],\n",
       "       [1.00000000e-02, 1.40000000e+01, 4.25179915e-01, 8.93207654e-01],\n",
       "       [1.90469121e+01, 1.50000000e+01, 6.62588573e-01, 4.48459492e-01],\n",
       "       [1.00000000e-02, 1.60000000e+01, 1.84381901e-01, 7.29812140e-01],\n",
       "       [1.80816220e+01, 1.70000000e+01, 9.15135825e-01, 7.86625649e-01],\n",
       "       [3.56841144e+00, 1.80000000e+01, 4.19795013e-01, 7.55895078e-01],\n",
       "       [2.46091676e+01, 1.90000000e+01, 5.60474086e-01, 2.02931435e-01],\n",
       "       [2.98281090e+01, 2.00000000e+01, 7.03415181e-01, 2.05452582e-01],\n",
       "       [2.64551599e+01, 2.10000000e+01, 9.87128655e-01, 2.85814241e-01],\n",
       "       [9.06947024e+00, 2.20000000e+01, 1.34087555e-01, 1.93356105e-01],\n",
       "       [2.67189545e+01, 2.30000000e+01, 9.29976602e-01, 3.71730657e-01],\n",
       "       [8.02592664e+00, 2.40000000e+01, 7.03350139e-01, 5.32002741e-01],\n",
       "       [3.92551248e+00, 2.50000000e+01, 8.05185094e-02, 3.59282096e-01],\n",
       "       [3.50445990e+01, 2.60000000e+01, 9.66620161e-01, 5.68042379e-01],\n",
       "       [2.24642446e+01, 2.70000000e+01, 7.34418742e-01, 4.89737245e-02]])"
      ]
     },
     "execution_count": 8,
     "metadata": {},
     "output_type": "execute_result"
    }
   ],
   "source": [
    "stock_data"
   ]
  },
  {
   "cell_type": "markdown",
   "metadata": {
    "colab_type": "text",
    "id": "BzYy4Pb2CLCh"
   },
   "source": [
    "Let's look again:"
   ]
  },
  {
   "cell_type": "code",
   "execution_count": 9,
   "metadata": {
    "ExecuteTime": {
     "end_time": "2019-04-08T21:59:31.479790Z",
     "start_time": "2019-04-08T21:59:31.296303Z"
    },
    "colab": {
     "base_uri": "https://localhost:8080/",
     "height": 364
    },
    "colab_type": "code",
    "id": "qdBcScz4CIXr",
    "outputId": "ad3ec81f-8fba-4355-d251-630ba5fc333c"
   },
   "outputs": [
    {
     "data": {
      "text/plain": [
       "<matplotlib.collections.PathCollection at 0x7f8bc6008358>"
      ]
     },
     "execution_count": 9,
     "metadata": {},
     "output_type": "execute_result"
    },
    {
     "data": {
      "image/png": "[encoded data removed]",
      "text/plain": [
       "<Figure size 432x288 with 1 Axes>"
      ]
     },
     "metadata": {
      "needs_background": "light"
     },
     "output_type": "display_data"
    }
   ],
   "source": [
    "stock_quotes = stock_data[:,0]\n",
    "scatter(days, stock_quotes)"
   ]
  },
  {
   "cell_type": "markdown",
   "metadata": {
    "colab_type": "text",
    "id": "SBXb7dieCO5h"
   },
   "source": [
    "How does our old model do?"
   ]
  },
  {
   "cell_type": "code",
   "execution_count": 10,
   "metadata": {
    "ExecuteTime": {
     "end_time": "2019-04-08T21:59:31.489739Z",
     "start_time": "2019-04-08T21:59:31.482642Z"
    },
    "colab": {
     "base_uri": "https://localhost:8080/",
     "height": 34
    },
    "colab_type": "code",
    "id": "7gAxCgy1COnX",
    "outputId": "ab82d066-952b-4719-e252-f679badb7b91"
   },
   "outputs": [
    {
     "data": {
      "text/plain": [
       "0.2459279604173189"
      ]
     },
     "execution_count": 10,
     "metadata": {},
     "output_type": "execute_result"
    }
   ],
   "source": [
    "days = np.array(days).reshape(-1, 1)\n",
    "ols_stocks.fit(days, stock_quotes)\n",
    "ols_stocks.score(days, stock_quotes)"
   ]
  },
  {
   "cell_type": "markdown",
   "metadata": {
    "colab_type": "text",
    "id": "3E94vTFUCax_"
   },
   "source": [
    "Not bad, but can we do better?"
   ]
  },
  {
   "cell_type": "code",
   "execution_count": 11,
   "metadata": {
    "ExecuteTime": {
     "end_time": "2019-04-08T21:59:31.501559Z",
     "start_time": "2019-04-08T21:59:31.492360Z"
    },
    "colab": {
     "base_uri": "https://localhost:8080/",
     "height": 34
    },
    "colab_type": "code",
    "id": "mCR5GImZCbGz",
    "outputId": "9c0ef176-cb6e-4727-bdab-02f22a663b20"
   },
   "outputs": [
    {
     "data": {
      "text/plain": [
       "0.8274622990636692"
      ]
     },
     "execution_count": 11,
     "metadata": {},
     "output_type": "execute_result"
    }
   ],
   "source": [
    "ols_stocks.fit(stock_data[:,1:], stock_quotes)\n",
    "ols_stocks.score(stock_data[:,1:], stock_quotes)"
   ]
  },
  {
   "cell_type": "markdown",
   "metadata": {
    "colab_type": "text",
    "id": "1Qk-jlBCCiKB"
   },
   "source": [
    "Yep - unsurprisingly, the other covariates (assets and liabilities) have info.\n",
    "\n",
    "But, they do worse without the day data."
   ]
  },
  {
   "cell_type": "code",
   "execution_count": 12,
   "metadata": {
    "ExecuteTime": {
     "end_time": "2019-04-08T21:59:31.510733Z",
     "start_time": "2019-04-08T21:59:31.503601Z"
    },
    "colab": {
     "base_uri": "https://localhost:8080/",
     "height": 34
    },
    "colab_type": "code",
    "id": "dDcZl7I5Cf5D",
    "outputId": "3cbd0a6e-2aa6-4f21-dbb3-66ef266f782b"
   },
   "outputs": [
    {
     "data": {
      "text/plain": [
       "0.704822045041411"
      ]
     },
     "execution_count": 12,
     "metadata": {},
     "output_type": "execute_result"
    }
   ],
   "source": [
    "ols_stocks.fit(stock_data[:,2:], stock_quotes)\n",
    "ols_stocks.score(stock_data[:,2:], stock_quotes)"
   ]
  },
  {
   "cell_type": "markdown",
   "metadata": {
    "colab_type": "text",
    "id": "pnLXlrK8ENjb"
   },
   "source": [
    "## Time series jargon\n",
    "\n",
    "There's a lot of semi-standard language and tricks to talk about this sort of data. [NIST](https://www.itl.nist.gov/div898/handbook/pmc/section4/pmc4.htm) has an excellent guidebook, but here are some highlights:"
   ]
  },
  {
   "cell_type": "markdown",
   "metadata": {
    "colab_type": "text",
    "id": "yWUyhnTbcq55"
   },
   "source": [
    "### Moving average\n",
    "\n",
    "Moving average aka rolling average aka running average.\n",
    "\n",
    "Convert a series of data to a series of averages of continguous subsets:"
   ]
  },
  {
   "cell_type": "code",
   "execution_count": 13,
   "metadata": {
    "ExecuteTime": {
     "end_time": "2019-04-08T21:59:31.518136Z",
     "start_time": "2019-04-08T21:59:31.512640Z"
    },
    "colab": {
     "base_uri": "https://localhost:8080/",
     "height": 503
    },
    "colab_type": "code",
    "id": "47bHhBSCcvw-",
    "outputId": "ee6bc38c-43d1-4d12-def3-fa409c9dcac4"
   },
   "outputs": [
    {
     "data": {
      "text/plain": [
       "[7.819395392005422,\n",
       " 6.197803037318266,\n",
       " 5.647125047790104,\n",
       " 3.2530647193049362,\n",
       " 4.493463530230145,\n",
       " 6.876159119728457,\n",
       " 9.397595573346733,\n",
       " 9.935016602139305,\n",
       " 10.56372444087427,\n",
       " 8.042287987255994,\n",
       " 9.17369704767247,\n",
       " 7.894217932853661,\n",
       " 7.894217932853661,\n",
       " 8.183902862111069,\n",
       " 6.35563735382576,\n",
       " 12.379511348135559,\n",
       " 7.220011141972043,\n",
       " 15.419733666758006,\n",
       " 19.335229342832932,\n",
       " 26.96414548400387,\n",
       " 21.784246372641892,\n",
       " 20.74786154435367,\n",
       " 14.60478380349444,\n",
       " 12.890131216023578,\n",
       " 15.665346041848238,\n",
       " 20.478118692039384,\n",
       " 19.169614532752924,\n",
       " 7.488081531498435]"
      ]
     },
     "execution_count": 13,
     "metadata": {},
     "output_type": "execute_result"
    }
   ],
   "source": [
    "stock_quotes_rolling = [sum(stock_quotes[i:i+3]) / 3\n",
    "                        for i in range(len(stock_quotes - 2))]\n",
    "stock_quotes_rolling"
   ]
  },
  {
   "cell_type": "markdown",
   "metadata": {
    "colab_type": "text",
    "id": "36XvbGhoc186"
   },
   "source": [
    "Pandas has nice series related functions:"
   ]
  },
  {
   "cell_type": "code",
   "execution_count": 14,
   "metadata": {
    "ExecuteTime": {
     "end_time": "2019-04-08T21:59:31.806587Z",
     "start_time": "2019-04-08T21:59:31.520239Z"
    },
    "colab": {
     "base_uri": "https://localhost:8080/",
     "height": 928
    },
    "colab_type": "code",
    "id": "nTNatxtycys_",
    "outputId": "65cf7f83-a475-435f-97cc-b0fc72d85f19"
   },
   "outputs": [
    {
     "data": {
      "text/html": [
       "<div>\n",
       "<style scoped>\n",
       "    .dataframe tbody tr th:only-of-type {\n",
       "        vertical-align: middle;\n",
       "    }\n",
       "\n",
       "    .dataframe tbody tr th {\n",
       "        vertical-align: top;\n",
       "    }\n",
       "\n",
       "    .dataframe thead th {\n",
       "        text-align: right;\n",
       "    }\n",
       "</style>\n",
       "<table border=\"1\" class=\"dataframe\">\n",
       "  <thead>\n",
       "    <tr style=\"text-align: right;\">\n",
       "      <th></th>\n",
       "      <th>0</th>\n",
       "    </tr>\n",
       "  </thead>\n",
       "  <tbody>\n",
       "    <tr>\n",
       "      <th>0</th>\n",
       "      <td>NaN</td>\n",
       "    </tr>\n",
       "    <tr>\n",
       "      <th>1</th>\n",
       "      <td>NaN</td>\n",
       "    </tr>\n",
       "    <tr>\n",
       "      <th>2</th>\n",
       "      <td>7.819395</td>\n",
       "    </tr>\n",
       "    <tr>\n",
       "      <th>3</th>\n",
       "      <td>6.197803</td>\n",
       "    </tr>\n",
       "    <tr>\n",
       "      <th>4</th>\n",
       "      <td>5.647125</td>\n",
       "    </tr>\n",
       "    <tr>\n",
       "      <th>5</th>\n",
       "      <td>3.253065</td>\n",
       "    </tr>\n",
       "    <tr>\n",
       "      <th>6</th>\n",
       "      <td>4.493464</td>\n",
       "    </tr>\n",
       "    <tr>\n",
       "      <th>7</th>\n",
       "      <td>6.876159</td>\n",
       "    </tr>\n",
       "    <tr>\n",
       "      <th>8</th>\n",
       "      <td>9.397596</td>\n",
       "    </tr>\n",
       "    <tr>\n",
       "      <th>9</th>\n",
       "      <td>9.935017</td>\n",
       "    </tr>\n",
       "    <tr>\n",
       "      <th>10</th>\n",
       "      <td>10.563724</td>\n",
       "    </tr>\n",
       "    <tr>\n",
       "      <th>11</th>\n",
       "      <td>8.042288</td>\n",
       "    </tr>\n",
       "    <tr>\n",
       "      <th>12</th>\n",
       "      <td>9.173697</td>\n",
       "    </tr>\n",
       "    <tr>\n",
       "      <th>13</th>\n",
       "      <td>7.894218</td>\n",
       "    </tr>\n",
       "    <tr>\n",
       "      <th>14</th>\n",
       "      <td>7.894218</td>\n",
       "    </tr>\n",
       "    <tr>\n",
       "      <th>15</th>\n",
       "      <td>8.183903</td>\n",
       "    </tr>\n",
       "    <tr>\n",
       "      <th>16</th>\n",
       "      <td>6.355637</td>\n",
       "    </tr>\n",
       "    <tr>\n",
       "      <th>17</th>\n",
       "      <td>12.379511</td>\n",
       "    </tr>\n",
       "    <tr>\n",
       "      <th>18</th>\n",
       "      <td>7.220011</td>\n",
       "    </tr>\n",
       "    <tr>\n",
       "      <th>19</th>\n",
       "      <td>15.419734</td>\n",
       "    </tr>\n",
       "    <tr>\n",
       "      <th>20</th>\n",
       "      <td>19.335229</td>\n",
       "    </tr>\n",
       "    <tr>\n",
       "      <th>21</th>\n",
       "      <td>26.964145</td>\n",
       "    </tr>\n",
       "    <tr>\n",
       "      <th>22</th>\n",
       "      <td>21.784246</td>\n",
       "    </tr>\n",
       "    <tr>\n",
       "      <th>23</th>\n",
       "      <td>20.747862</td>\n",
       "    </tr>\n",
       "    <tr>\n",
       "      <th>24</th>\n",
       "      <td>14.604784</td>\n",
       "    </tr>\n",
       "    <tr>\n",
       "      <th>25</th>\n",
       "      <td>12.890131</td>\n",
       "    </tr>\n",
       "    <tr>\n",
       "      <th>26</th>\n",
       "      <td>15.665346</td>\n",
       "    </tr>\n",
       "    <tr>\n",
       "      <th>27</th>\n",
       "      <td>20.478119</td>\n",
       "    </tr>\n",
       "  </tbody>\n",
       "</table>\n",
       "</div>"
      ],
      "text/plain": [
       "            0\n",
       "0         NaN\n",
       "1         NaN\n",
       "2    7.819395\n",
       "3    6.197803\n",
       "4    5.647125\n",
       "5    3.253065\n",
       "6    4.493464\n",
       "7    6.876159\n",
       "8    9.397596\n",
       "9    9.935017\n",
       "10  10.563724\n",
       "11   8.042288\n",
       "12   9.173697\n",
       "13   7.894218\n",
       "14   7.894218\n",
       "15   8.183903\n",
       "16   6.355637\n",
       "17  12.379511\n",
       "18   7.220011\n",
       "19  15.419734\n",
       "20  19.335229\n",
       "21  26.964145\n",
       "22  21.784246\n",
       "23  20.747862\n",
       "24  14.604784\n",
       "25  12.890131\n",
       "26  15.665346\n",
       "27  20.478119"
      ]
     },
     "execution_count": 14,
     "metadata": {},
     "output_type": "execute_result"
    }
   ],
   "source": [
    "import pandas as pd\n",
    "df = pd.DataFrame(stock_quotes)\n",
    "df.rolling(3).mean()"
   ]
  },
  {
   "cell_type": "markdown",
   "metadata": {
    "colab_type": "text",
    "id": "os-szg47dgwf"
   },
   "source": [
    "### Forecasting\n",
    "\n",
    "Forecasting - at it's simplest, it just means \"predict the future\":"
   ]
  },
  {
   "cell_type": "code",
   "execution_count": 15,
   "metadata": {
    "ExecuteTime": {
     "end_time": "2019-04-08T21:59:31.812786Z",
     "start_time": "2019-04-08T21:59:31.808177Z"
    },
    "colab": {
     "base_uri": "https://localhost:8080/",
     "height": 34
    },
    "colab_type": "code",
    "id": "D_qtt6irdj0x",
    "outputId": "899d4e2b-1c00-4018-c9d5-3451d75a4e99"
   },
   "outputs": [
    {
     "data": {
      "text/plain": [
       "array([16.71290196])"
      ]
     },
     "execution_count": 15,
     "metadata": {},
     "output_type": "execute_result"
    }
   ],
   "source": [
    "ols_stocks.fit(stock_data[:,1:], stock_quotes)\n",
    "ols_stocks.predict([[29, 0.5, 0.5]])"
   ]
  },
  {
   "cell_type": "markdown",
   "metadata": {
    "colab_type": "text",
    "id": "fjnQY0trdnHp"
   },
   "source": [
    "One way to predict if you just have the series data is to use the prior observation. This can be pretty good (if you had to pick one feature to model the temperature for tomorrow, the temperature today is a good choice)."
   ]
  },
  {
   "cell_type": "code",
   "execution_count": 16,
   "metadata": {
    "ExecuteTime": {
     "end_time": "2019-04-08T21:59:31.831684Z",
     "start_time": "2019-04-08T21:59:31.815563Z"
    },
    "colab": {
     "base_uri": "https://localhost:8080/",
     "height": 34
    },
    "colab_type": "code",
    "id": "bzC4DV9Hdupp",
    "outputId": "72adf4bd-a00a-411d-88cb-2f67078ba44c"
   },
   "outputs": [
    {
     "name": "stdout",
     "output_type": "stream",
     "text": [
      "(365, 1)\n"
     ]
    },
    {
     "data": {
      "text/plain": [
       "0.1795559563974789"
      ]
     },
     "execution_count": 16,
     "metadata": {},
     "output_type": "execute_result"
    }
   ],
   "source": [
    "temperature = np.array([30 + random() * day\n",
    "                        for day in np.array(range(365)).reshape(-1, 1)])\n",
    "print(temperature.shape)\n",
    "temperature_next = temperature[1:].reshape(-1, 1)\n",
    "temperature_ols = LinearRegression()\n",
    "temperature_ols.fit(temperature[:-1], temperature_next)\n",
    "temperature_ols.score(temperature[:-1], temperature_next)"
   ]
  },
  {
   "cell_type": "markdown",
   "metadata": {
    "colab_type": "text",
    "id": "RFdssXQbdxbE"
   },
   "source": [
    "But you can often make it better by considering more than one prior observation."
   ]
  },
  {
   "cell_type": "code",
   "execution_count": 17,
   "metadata": {
    "ExecuteTime": {
     "end_time": "2019-04-08T21:59:31.841762Z",
     "start_time": "2019-04-08T21:59:31.834117Z"
    },
    "colab": {
     "base_uri": "https://localhost:8080/",
     "height": 34
    },
    "colab_type": "code",
    "id": "pVfUqD2YdxxZ",
    "outputId": "a892c370-bd2b-4e36-ef5d-767e762dacdf"
   },
   "outputs": [
    {
     "data": {
      "text/plain": [
       "0.20088930247461934"
      ]
     },
     "execution_count": 17,
     "metadata": {},
     "output_type": "execute_result"
    }
   ],
   "source": [
    "temperature_next_next = temperature[2:].reshape(-1, 1)\n",
    "temperature_two_past = np.concatenate([temperature[:-2], temperature_next[:-1]],\n",
    "                                      axis=1)\n",
    "temperature_ols.fit(temperature_two_past, temperature_next_next)\n",
    "temperature_ols.score(temperature_two_past, temperature_next_next)"
   ]
  },
  {
   "cell_type": "markdown",
   "metadata": {
    "colab_type": "text",
    "id": "c9QltBdmd7TV"
   },
   "source": [
    "### Exponential smoothing\n",
    "\n",
    "Exponential smoothing means using exponentially decreasing past weights to predict the future.\n",
    "\n",
    "You could roll your own, but let's use Pandas."
   ]
  },
  {
   "cell_type": "code",
   "execution_count": 18,
   "metadata": {
    "ExecuteTime": {
     "end_time": "2019-04-08T21:59:31.860222Z",
     "start_time": "2019-04-08T21:59:31.843906Z"
    },
    "colab": {
     "base_uri": "https://localhost:8080/",
     "height": 1992
    },
    "colab_type": "code",
    "id": "hvMNqunOeC_B",
    "outputId": "e0294de0-3cd8-4935-e730-ee339c191690"
   },
   "outputs": [
    {
     "data": {
      "text/html": [
       "<div>\n",
       "<style scoped>\n",
       "    .dataframe tbody tr th:only-of-type {\n",
       "        vertical-align: middle;\n",
       "    }\n",
       "\n",
       "    .dataframe tbody tr th {\n",
       "        vertical-align: top;\n",
       "    }\n",
       "\n",
       "    .dataframe thead th {\n",
       "        text-align: right;\n",
       "    }\n",
       "</style>\n",
       "<table border=\"1\" class=\"dataframe\">\n",
       "  <thead>\n",
       "    <tr style=\"text-align: right;\">\n",
       "      <th></th>\n",
       "      <th>0</th>\n",
       "    </tr>\n",
       "  </thead>\n",
       "  <tbody>\n",
       "    <tr>\n",
       "      <th>0</th>\n",
       "      <td>30.000000</td>\n",
       "    </tr>\n",
       "    <tr>\n",
       "      <th>1</th>\n",
       "      <td>30.147716</td>\n",
       "    </tr>\n",
       "    <tr>\n",
       "      <th>2</th>\n",
       "      <td>30.120416</td>\n",
       "    </tr>\n",
       "    <tr>\n",
       "      <th>3</th>\n",
       "      <td>30.588377</td>\n",
       "    </tr>\n",
       "    <tr>\n",
       "      <th>4</th>\n",
       "      <td>31.255489</td>\n",
       "    </tr>\n",
       "    <tr>\n",
       "      <th>5</th>\n",
       "      <td>31.953986</td>\n",
       "    </tr>\n",
       "    <tr>\n",
       "      <th>6</th>\n",
       "      <td>32.362786</td>\n",
       "    </tr>\n",
       "    <tr>\n",
       "      <th>7</th>\n",
       "      <td>32.052450</td>\n",
       "    </tr>\n",
       "    <tr>\n",
       "      <th>8</th>\n",
       "      <td>32.983263</td>\n",
       "    </tr>\n",
       "    <tr>\n",
       "      <th>9</th>\n",
       "      <td>32.573327</td>\n",
       "    </tr>\n",
       "    <tr>\n",
       "      <th>10</th>\n",
       "      <td>33.498195</td>\n",
       "    </tr>\n",
       "    <tr>\n",
       "      <th>11</th>\n",
       "      <td>33.442974</td>\n",
       "    </tr>\n",
       "    <tr>\n",
       "      <th>12</th>\n",
       "      <td>34.174869</td>\n",
       "    </tr>\n",
       "    <tr>\n",
       "      <th>13</th>\n",
       "      <td>33.801971</td>\n",
       "    </tr>\n",
       "    <tr>\n",
       "      <th>14</th>\n",
       "      <td>33.350833</td>\n",
       "    </tr>\n",
       "    <tr>\n",
       "      <th>15</th>\n",
       "      <td>33.047517</td>\n",
       "    </tr>\n",
       "    <tr>\n",
       "      <th>16</th>\n",
       "      <td>34.306006</td>\n",
       "    </tr>\n",
       "    <tr>\n",
       "      <th>17</th>\n",
       "      <td>34.983509</td>\n",
       "    </tr>\n",
       "    <tr>\n",
       "      <th>18</th>\n",
       "      <td>36.152726</td>\n",
       "    </tr>\n",
       "    <tr>\n",
       "      <th>19</th>\n",
       "      <td>35.742856</td>\n",
       "    </tr>\n",
       "    <tr>\n",
       "      <th>20</th>\n",
       "      <td>36.200679</td>\n",
       "    </tr>\n",
       "    <tr>\n",
       "      <th>21</th>\n",
       "      <td>37.017573</td>\n",
       "    </tr>\n",
       "    <tr>\n",
       "      <th>22</th>\n",
       "      <td>38.150437</td>\n",
       "    </tr>\n",
       "    <tr>\n",
       "      <th>23</th>\n",
       "      <td>39.652541</td>\n",
       "    </tr>\n",
       "    <tr>\n",
       "      <th>24</th>\n",
       "      <td>40.979906</td>\n",
       "    </tr>\n",
       "    <tr>\n",
       "      <th>25</th>\n",
       "      <td>40.328522</td>\n",
       "    </tr>\n",
       "    <tr>\n",
       "      <th>26</th>\n",
       "      <td>41.808306</td>\n",
       "    </tr>\n",
       "    <tr>\n",
       "      <th>27</th>\n",
       "      <td>42.715076</td>\n",
       "    </tr>\n",
       "    <tr>\n",
       "      <th>28</th>\n",
       "      <td>43.783437</td>\n",
       "    </tr>\n",
       "    <tr>\n",
       "      <th>29</th>\n",
       "      <td>45.017535</td>\n",
       "    </tr>\n",
       "    <tr>\n",
       "      <th>...</th>\n",
       "      <td>...</td>\n",
       "    </tr>\n",
       "    <tr>\n",
       "      <th>335</th>\n",
       "      <td>181.123822</td>\n",
       "    </tr>\n",
       "    <tr>\n",
       "      <th>336</th>\n",
       "      <td>175.935986</td>\n",
       "    </tr>\n",
       "    <tr>\n",
       "      <th>337</th>\n",
       "      <td>183.756741</td>\n",
       "    </tr>\n",
       "    <tr>\n",
       "      <th>338</th>\n",
       "      <td>171.957336</td>\n",
       "    </tr>\n",
       "    <tr>\n",
       "      <th>339</th>\n",
       "      <td>178.393845</td>\n",
       "    </tr>\n",
       "    <tr>\n",
       "      <th>340</th>\n",
       "      <td>176.065786</td>\n",
       "    </tr>\n",
       "    <tr>\n",
       "      <th>341</th>\n",
       "      <td>175.870008</td>\n",
       "    </tr>\n",
       "    <tr>\n",
       "      <th>342</th>\n",
       "      <td>171.000436</td>\n",
       "    </tr>\n",
       "    <tr>\n",
       "      <th>343</th>\n",
       "      <td>188.576299</td>\n",
       "    </tr>\n",
       "    <tr>\n",
       "      <th>344</th>\n",
       "      <td>190.568024</td>\n",
       "    </tr>\n",
       "    <tr>\n",
       "      <th>345</th>\n",
       "      <td>191.960277</td>\n",
       "    </tr>\n",
       "    <tr>\n",
       "      <th>346</th>\n",
       "      <td>189.377679</td>\n",
       "    </tr>\n",
       "    <tr>\n",
       "      <th>347</th>\n",
       "      <td>191.002120</td>\n",
       "    </tr>\n",
       "    <tr>\n",
       "      <th>348</th>\n",
       "      <td>207.164674</td>\n",
       "    </tr>\n",
       "    <tr>\n",
       "      <th>349</th>\n",
       "      <td>194.286795</td>\n",
       "    </tr>\n",
       "    <tr>\n",
       "      <th>350</th>\n",
       "      <td>185.025896</td>\n",
       "    </tr>\n",
       "    <tr>\n",
       "      <th>351</th>\n",
       "      <td>198.454003</td>\n",
       "    </tr>\n",
       "    <tr>\n",
       "      <th>352</th>\n",
       "      <td>193.205950</td>\n",
       "    </tr>\n",
       "    <tr>\n",
       "      <th>353</th>\n",
       "      <td>182.249678</td>\n",
       "    </tr>\n",
       "    <tr>\n",
       "      <th>354</th>\n",
       "      <td>172.767501</td>\n",
       "    </tr>\n",
       "    <tr>\n",
       "      <th>355</th>\n",
       "      <td>192.685729</td>\n",
       "    </tr>\n",
       "    <tr>\n",
       "      <th>356</th>\n",
       "      <td>183.188876</td>\n",
       "    </tr>\n",
       "    <tr>\n",
       "      <th>357</th>\n",
       "      <td>178.612458</td>\n",
       "    </tr>\n",
       "    <tr>\n",
       "      <th>358</th>\n",
       "      <td>190.330972</td>\n",
       "    </tr>\n",
       "    <tr>\n",
       "      <th>359</th>\n",
       "      <td>200.683263</td>\n",
       "    </tr>\n",
       "    <tr>\n",
       "      <th>360</th>\n",
       "      <td>185.795774</td>\n",
       "    </tr>\n",
       "    <tr>\n",
       "      <th>361</th>\n",
       "      <td>181.048951</td>\n",
       "    </tr>\n",
       "    <tr>\n",
       "      <th>362</th>\n",
       "      <td>174.449386</td>\n",
       "    </tr>\n",
       "    <tr>\n",
       "      <th>363</th>\n",
       "      <td>185.987334</td>\n",
       "    </tr>\n",
       "    <tr>\n",
       "      <th>364</th>\n",
       "      <td>173.078403</td>\n",
       "    </tr>\n",
       "  </tbody>\n",
       "</table>\n",
       "<p>365 rows × 1 columns</p>\n",
       "</div>"
      ],
      "text/plain": [
       "              0\n",
       "0     30.000000\n",
       "1     30.147716\n",
       "2     30.120416\n",
       "3     30.588377\n",
       "4     31.255489\n",
       "5     31.953986\n",
       "6     32.362786\n",
       "7     32.052450\n",
       "8     32.983263\n",
       "9     32.573327\n",
       "10    33.498195\n",
       "11    33.442974\n",
       "12    34.174869\n",
       "13    33.801971\n",
       "14    33.350833\n",
       "15    33.047517\n",
       "16    34.306006\n",
       "17    34.983509\n",
       "18    36.152726\n",
       "19    35.742856\n",
       "20    36.200679\n",
       "21    37.017573\n",
       "22    38.150437\n",
       "23    39.652541\n",
       "24    40.979906\n",
       "25    40.328522\n",
       "26    41.808306\n",
       "27    42.715076\n",
       "28    43.783437\n",
       "29    45.017535\n",
       "..          ...\n",
       "335  181.123822\n",
       "336  175.935986\n",
       "337  183.756741\n",
       "338  171.957336\n",
       "339  178.393845\n",
       "340  176.065786\n",
       "341  175.870008\n",
       "342  171.000436\n",
       "343  188.576299\n",
       "344  190.568024\n",
       "345  191.960277\n",
       "346  189.377679\n",
       "347  191.002120\n",
       "348  207.164674\n",
       "349  194.286795\n",
       "350  185.025896\n",
       "351  198.454003\n",
       "352  193.205950\n",
       "353  182.249678\n",
       "354  172.767501\n",
       "355  192.685729\n",
       "356  183.188876\n",
       "357  178.612458\n",
       "358  190.330972\n",
       "359  200.683263\n",
       "360  185.795774\n",
       "361  181.048951\n",
       "362  174.449386\n",
       "363  185.987334\n",
       "364  173.078403\n",
       "\n",
       "[365 rows x 1 columns]"
      ]
     },
     "execution_count": 18,
     "metadata": {},
     "output_type": "execute_result"
    }
   ],
   "source": [
    "temperature_df = pd.DataFrame(temperature)\n",
    "temperature_df.ewm(halflife=7).mean()"
   ]
  },
  {
   "cell_type": "markdown",
   "metadata": {
    "colab_type": "text",
    "id": "gBEjBZVbeH6R"
   },
   "source": [
    "Halflife is among the parameters we can play with:"
   ]
  },
  {
   "cell_type": "code",
   "execution_count": 19,
   "metadata": {
    "ExecuteTime": {
     "end_time": "2019-04-08T21:59:31.884901Z",
     "start_time": "2019-04-08T21:59:31.863947Z"
    },
    "colab": {
     "base_uri": "https://localhost:8080/",
     "height": 86
    },
    "colab_type": "code",
    "id": "HjZgMwYkeODN",
    "outputId": "806ae8dd-1812-4bbb-8aae-9271676aea45"
   },
   "outputs": [
    {
     "name": "stdout",
     "output_type": "stream",
     "text": [
      "0    1.204091e+06\n",
      "dtype: float64\n",
      "0    992657.871928\n",
      "dtype: float64\n"
     ]
    }
   ],
   "source": [
    "sse_1 = ((temperature_df - temperature_df.ewm(halflife=7).mean())**2).sum()\n",
    "sse_2 = ((temperature_df - temperature_df.ewm(halflife=3).mean())**2).sum()\n",
    "print(sse_1)\n",
    "print(sse_2)"
   ]
  },
  {
   "cell_type": "markdown",
   "metadata": {
    "colab_type": "text",
    "id": "s39bj4g9eQ9Z"
   },
   "source": [
    "Note - the first error being higher doesn't mean it's necessarily *worse*. It's *smoother* as expected, and if that's what we care about - great!"
   ]
  },
  {
   "cell_type": "markdown",
   "metadata": {
    "colab_type": "text",
    "id": "OcPMn8o4eYP1"
   },
   "source": [
    "### Seasonality\n",
    "\n",
    "Seasonality - \"day of week\"-effects, and more. In a lot of real world data, certain time periods are systemically different, e.g. holidays for retailers, weekends for restaurants, seasons for weather.\n",
    "\n",
    "Let's try to make some seasonal data - a store that sells more later in a week:"
   ]
  },
  {
   "cell_type": "code",
   "execution_count": 20,
   "metadata": {
    "ExecuteTime": {
     "end_time": "2019-04-08T21:59:32.029052Z",
     "start_time": "2019-04-08T21:59:31.887176Z"
    },
    "colab": {
     "base_uri": "https://localhost:8080/",
     "height": 364
    },
    "colab_type": "code",
    "id": "h0qPMWCreheL",
    "outputId": "f3d7b830-5185-42c4-b4b2-c4ab53c00b09"
   },
   "outputs": [
    {
     "data": {
      "text/plain": [
       "<matplotlib.collections.PathCollection at 0x7f8bc3385128>"
      ]
     },
     "execution_count": 20,
     "metadata": {},
     "output_type": "execute_result"
    },
    {
     "data": {
      "image/png": "[encoded data removed]",
      "text/plain": [
       "<Figure size 432x288 with 1 Axes>"
      ]
     },
     "metadata": {
      "needs_background": "light"
     },
     "output_type": "display_data"
    }
   ],
   "source": [
    "sales = np.array([random() + (day % 7) * random() for day in days])\n",
    "scatter(days, sales)"
   ]
  },
  {
   "cell_type": "markdown",
   "metadata": {
    "colab_type": "text",
    "id": "LEADkcMzelxY"
   },
   "source": [
    "How does linear regression do at fitting this?"
   ]
  },
  {
   "cell_type": "code",
   "execution_count": 21,
   "metadata": {
    "ExecuteTime": {
     "end_time": "2019-04-08T21:59:32.039767Z",
     "start_time": "2019-04-08T21:59:32.032023Z"
    },
    "colab": {
     "base_uri": "https://localhost:8080/",
     "height": 34
    },
    "colab_type": "code",
    "id": "EV5kt69GenV3",
    "outputId": "d8cf0f90-2034-42da-f3f5-dff498afaca9"
   },
   "outputs": [
    {
     "data": {
      "text/plain": [
       "0.031681248136330664"
      ]
     },
     "execution_count": 21,
     "metadata": {},
     "output_type": "execute_result"
    }
   ],
   "source": [
    "sales_ols = LinearRegression()\n",
    "sales_ols.fit(days, sales)\n",
    "sales_ols.score(days, sales)"
   ]
  },
  {
   "cell_type": "markdown",
   "metadata": {
    "colab_type": "text",
    "id": "7shN1eBMep9Q"
   },
   "source": [
    "That's not great - and the fix depends on the domain. Here, we know it'd be best to actually use \"day of week\" as a feature."
   ]
  },
  {
   "cell_type": "code",
   "execution_count": 22,
   "metadata": {
    "ExecuteTime": {
     "end_time": "2019-04-08T21:59:32.048404Z",
     "start_time": "2019-04-08T21:59:32.042104Z"
    },
    "colab": {
     "base_uri": "https://localhost:8080/",
     "height": 34
    },
    "colab_type": "code",
    "id": "Qo9eFlHIeqtA",
    "outputId": "b002f32b-8e20-4482-a70d-6ba63db9281b"
   },
   "outputs": [
    {
     "data": {
      "text/plain": [
       "0.31544481424197157"
      ]
     },
     "execution_count": 22,
     "metadata": {},
     "output_type": "execute_result"
    }
   ],
   "source": [
    "day_of_week = days % 7\n",
    "sales_ols.fit(day_of_week, sales)\n",
    "sales_ols.score(day_of_week, sales)"
   ]
  },
  {
   "cell_type": "raw",
   "metadata": {},
   "source": []
  },
  {
   "cell_type": "markdown",
   "metadata": {
    "colab_type": "text",
    "id": "9ooJIfIMex2G"
   },
   "source": [
    "Note that it's also important to have representative data across whatever seasonal feature(s) you use - don't predict retailers based only on Christmas, as that won't generalize well."
   ]
  },
  {
   "cell_type": "markdown",
   "metadata": {
    "colab_type": "text",
    "id": "44QZgrPUe3-Y"
   },
   "source": [
    "## Recurrent Neural Networks\n",
    "\n",
    "There's plenty more to \"traditional\" time series, but the latest and greatest technique for sequence data is recurrent neural networks. A recurrence relation in math is an equation that uses recursion to define a sequence - a famous example is the Fibonacci numbers:\n",
    "\n",
    "$F_n = F_{n-1} + F_{n-2}$\n",
    "\n",
    "For formal math you also need a base case $F_0=1, F_1=1$, and then the rest builds from there. But for neural networks what we're really talking about are loops:\n",
    "\n",
    "![Recurrent neural network](https://upload.wikimedia.org/wikipedia/commons/b/b5/Recurrent_neural_network_unfold.svg)\n",
    "\n",
    "The hidden layers have edges (output) going back to their own input - this loop means that for any time `t` the training is at least partly based on the output from time `t-1`. The entire network is being represented on the left, and you can unfold the network explicitly to see how it behaves at any given `t`.\n",
    "\n",
    "Different units can have this \"loop\", but a particularly successful one is the long short-term memory unit (LSTM):\n",
    "\n",
    "![Long short-term memory unit](https://upload.wikimedia.org/wikipedia/commons/thumb/6/63/Long_Short-Term_Memory.svg/1024px-Long_Short-Term_Memory.svg.png)\n",
    "\n",
    "There's a lot going on here - in a nutshell, the calculus still works out and backpropagation can still be implemented. The advantage (ane namesake) of LSTM is that it can generally put more weight on recent (short-term) events while not completely losing older (long-term) information.\n",
    "\n",
    "After enough iterations, a typical neural network will start calculating prior gradients that are so small they effectively become zero - this is the [vanishing gradient problem](https://en.wikipedia.org/wiki/Vanishing_gradient_problem), and is what RNN with LSTM addresses. Pay special attention to the $c_t$ parameters and how they pass through the unit to get an intuition for how this problem is solved.\n",
    "\n",
    "So why are these cool? One particularly compelling application is actually not time series but language modeling - language is inherently ordered data (letters/words go one after another, and the order *matters*). [The Unreasonable Effectiveness of Recurrent Neural Networks](https://karpathy.github.io/2015/05/21/rnn-effectiveness/) is a famous and worth reading blog post on this topic.\n",
    "\n",
    "For our purposes, let's use TensorFlow and Keras to train RNNs with natural language. Resources:\n",
    "\n",
    "- https://github.com/keras-team/keras/blob/master/examples/imdb_lstm.py\n",
    "- https://keras.io/layers/recurrent/#lstm\n",
    "- http://adventuresinmachinelearning.com/keras-lstm-tutorial/\n",
    "\n",
    "Note that `tensorflow.contrib` [also has an implementation of RNN/LSTM](https://www.tensorflow.org/tutorials/sequences/recurrent)."
   ]
  },
  {
   "cell_type": "markdown",
   "metadata": {
    "colab_type": "text",
    "id": "eWrQllf8WEd-"
   },
   "source": [
    "### RNN/LSTM Sentiment Classification with Keras"
   ]
  },
  {
   "cell_type": "code",
   "execution_count": 36,
   "metadata": {
    "ExecuteTime": {
     "end_time": "2019-04-08T23:32:33.272785Z",
     "start_time": "2019-04-08T23:07:18.465839Z"
    },
    "colab": {
     "base_uri": "https://localhost:8080/",
     "height": 975
    },
    "colab_type": "code",
    "id": "Ti23G0gRe3kr",
    "outputId": "bba9ae40-a286-49ed-d87b-b2946fb60ddf"
   },
   "outputs": [
    {
     "name": "stdout",
     "output_type": "stream",
     "text": [
      "Loading data...\n",
      "25000 train sequences\n",
      "25000 test sequences\n",
      "Pad sequences (samples x time)\n",
      "x_train shape: (25000, 80)\n",
      "x_test shape: (25000, 80)\n",
      "Build model...\n",
      "Train...\n",
      "Train on 25000 samples, validate on 25000 samples\n",
      "Epoch 1/15\n",
      "25000/25000 [==============================] - 100s 4ms/step - loss: 0.4604 - acc: 0.7822 - val_loss: 0.3945 - val_acc: 0.8254\n",
      "Epoch 2/15\n",
      "25000/25000 [==============================] - 93s 4ms/step - loss: 0.3024 - acc: 0.8748 - val_loss: 0.3847 - val_acc: 0.8334\n",
      "Epoch 3/15\n",
      "25000/25000 [==============================] - 97s 4ms/step - loss: 0.2186 - acc: 0.9149 - val_loss: 0.4092 - val_acc: 0.8220\n",
      "Epoch 4/15\n",
      "25000/25000 [==============================] - 99s 4ms/step - loss: 0.1582 - acc: 0.9396 - val_loss: 0.4461 - val_acc: 0.8246\n",
      "Epoch 5/15\n",
      "25000/25000 [==============================] - 99s 4ms/step - loss: 0.1132 - acc: 0.9590 - val_loss: 0.6879 - val_acc: 0.8116\n",
      "Epoch 6/15\n",
      "25000/25000 [==============================] - 99s 4ms/step - loss: 0.0823 - acc: 0.9708 - val_loss: 0.6434 - val_acc: 0.8205\n",
      "Epoch 7/15\n",
      "25000/25000 [==============================] - 96s 4ms/step - loss: 0.0611 - acc: 0.9786 - val_loss: 0.7209 - val_acc: 0.8068\n",
      "Epoch 8/15\n",
      "25000/25000 [==============================] - 94s 4ms/step - loss: 0.0448 - acc: 0.9842 - val_loss: 0.7934 - val_acc: 0.8106\n",
      "Epoch 9/15\n",
      "25000/25000 [==============================] - 93s 4ms/step - loss: 0.0332 - acc: 0.9885 - val_loss: 0.8505 - val_acc: 0.8162\n",
      "Epoch 10/15\n",
      "25000/25000 [==============================] - 94s 4ms/step - loss: 0.0262 - acc: 0.9913 - val_loss: 0.9416 - val_acc: 0.8140\n",
      "Epoch 11/15\n",
      "25000/25000 [==============================] - 97s 4ms/step - loss: 0.0189 - acc: 0.9940 - val_loss: 0.8922 - val_acc: 0.8116\n",
      "Epoch 12/15\n",
      "25000/25000 [==============================] - 97s 4ms/step - loss: 0.0141 - acc: 0.9957 - val_loss: 1.0743 - val_acc: 0.8136\n",
      "Epoch 13/15\n",
      "25000/25000 [==============================] - 117s 5ms/step - loss: 0.0166 - acc: 0.9948 - val_loss: 1.1687 - val_acc: 0.8044\n",
      "Epoch 14/15\n",
      "25000/25000 [==============================] - 115s 5ms/step - loss: 0.0149 - acc: 0.9954 - val_loss: 1.0937 - val_acc: 0.8088\n",
      "Epoch 15/15\n",
      "25000/25000 [==============================] - 103s 4ms/step - loss: 0.0110 - acc: 0.9962 - val_loss: 1.1901 - val_acc: 0.8058\n",
      "25000/25000 [==============================] - 17s 690us/step\n",
      "Test score: 1.1900525337171555\n",
      "Test accuracy: 0.80576\n"
     ]
    }
   ],
   "source": [
    "'''\n",
    "#Trains an LSTM model on the IMDB sentiment classification task.\n",
    "The dataset is actually too small for LSTM to be of any advantage\n",
    "compared to simpler, much faster methods such as TF-IDF + LogReg.\n",
    "**Notes**\n",
    "- RNNs are tricky. Choice of batch size is important,\n",
    "choice of loss and optimizer is critical, etc.\n",
    "Some configurations won't converge.\n",
    "- LSTM loss decrease patterns during training can be quite different\n",
    "from what you see with CNNs/MLPs/etc.\n",
    "'''\n",
    "from __future__ import print_function\n",
    "\n",
    "from keras.preprocessing import sequence\n",
    "from keras.models import Sequential\n",
    "from keras.layers import Dense, Embedding\n",
    "from keras.layers import LSTM\n",
    "from keras.datasets import imdb\n",
    "\n",
    "max_features = 20000\n",
    "# cut texts after this number of words (among top max_features most common words)\n",
    "maxlen = 80\n",
    "batch_size = 32\n",
    "\n",
    "print('Loading data...')\n",
    "(x_train, y_train), (x_test, y_test) = imdb.load_data(num_words=max_features)\n",
    "print(len(x_train), 'train sequences')\n",
    "print(len(x_test), 'test sequences')\n",
    "\n",
    "print('Pad sequences (samples x time)')\n",
    "x_train = sequence.pad_sequences(x_train, maxlen=maxlen)\n",
    "x_test = sequence.pad_sequences(x_test, maxlen=maxlen)\n",
    "print('x_train shape:', x_train.shape)\n",
    "print('x_test shape:', x_test.shape)\n",
    "\n",
    "print('Build model...')\n",
    "model = Sequential()\n",
    "model.add(Embedding(max_features, 128))\n",
    "model.add(LSTM(128, dropout=0.2, recurrent_dropout=0.2))\n",
    "model.add(Dense(1, activation='sigmoid'))\n",
    "\n",
    "# try using different optimizers and different optimizer configs\n",
    "model.compile(loss='binary_crossentropy',\n",
    "              optimizer='adam',\n",
    "              metrics=['accuracy'])\n",
    "\n",
    "print('Train...')\n",
    "model.fit(x_train, y_train,\n",
    "          batch_size=batch_size,\n",
    "          epochs=15,\n",
    "          validation_data=(x_test, y_test))\n",
    "score, acc = model.evaluate(x_test, y_test,\n",
    "                            batch_size=batch_size)\n",
    "print('Test score:', score)\n",
    "print('Test accuracy:', acc)"
   ]
  },
  {
   "cell_type": "markdown",
   "metadata": {
    "colab_type": "text",
    "id": "7pETWPIe362y"
   },
   "source": [
    "### RNN Text generation with NumPy\n",
    "\n",
    "What else can we do with RNN? Since we're analyzing the *sequence*, we can do more than classify - we can *generate* text. We'll pull some news stories using [newspaper](https://github.com/codelucas/newspaper/)."
   ]
  },
  {
   "cell_type": "markdown",
   "metadata": {
    "colab_type": "text",
    "id": "fz1m55G5WSrQ"
   },
   "source": [
    "#### Initialization"
   ]
  },
  {
   "cell_type": "code",
   "execution_count": 24,
   "metadata": {
    "ExecuteTime": {
     "end_time": "2019-04-08T22:23:49.166880Z",
     "start_time": "2019-04-08T22:23:26.413818Z"
    },
    "colab": {
     "base_uri": "https://localhost:8080/",
     "height": 836
    },
    "colab_type": "code",
    "id": "ahlHBeoZCaLX",
    "outputId": "7b1c5f93-3fa5-42db-acb6-3c894b0accef"
   },
   "outputs": [
    {
     "name": "stdout",
     "output_type": "stream",
     "text": [
      "Collecting newspaper3k\n",
      "\u001b[?25l  Downloading https://files.pythonhosted.org/packages/d7/b9/51afecb35bb61b188a4b44868001de348a0e8134b4dfa00ffc191567c4b9/newspaper3k-0.2.8-py3-none-any.whl (211kB)\n",
      "\u001b[K    100% |████████████████████████████████| 215kB 947kB/s ta 0:00:01\n",
      "\u001b[?25hCollecting tinysegmenter==0.3 (from newspaper3k)\n",
      "  Downloading https://files.pythonhosted.org/packages/17/82/86982e4b6d16e4febc79c2a1d68ee3b707e8a020c5d2bc4af8052d0f136a/tinysegmenter-0.3.tar.gz\n",
      "Requirement already satisfied: PyYAML>=3.11 in /home/mark/anaconda3/envs/myf/lib/python3.6/site-packages (from newspaper3k) (3.13)\n",
      "Requirement already satisfied: Pillow>=3.3.0 in /home/mark/anaconda3/envs/myf/lib/python3.6/site-packages (from newspaper3k) (5.4.1)\n",
      "Requirement already satisfied: nltk>=3.2.1 in /home/mark/anaconda3/envs/myf/lib/python3.6/site-packages (from newspaper3k) (3.4)\n",
      "Requirement already satisfied: requests>=2.10.0 in /home/mark/anaconda3/envs/myf/lib/python3.6/site-packages (from newspaper3k) (2.21.0)\n",
      "Collecting tldextract>=2.0.1 (from newspaper3k)\n",
      "\u001b[?25l  Downloading https://files.pythonhosted.org/packages/1e/90/18ac0e5340b6228c25cc8e79835c3811e7553b2b9ae87296dfeb62b7866d/tldextract-2.2.1-py2.py3-none-any.whl (48kB)\n",
      "\u001b[K    100% |████████████████████████████████| 51kB 2.3MB/s ta 0:00:011\n",
      "\u001b[?25hCollecting cssselect>=0.9.2 (from newspaper3k)\n",
      "  Downloading https://files.pythonhosted.org/packages/7b/44/25b7283e50585f0b4156960691d951b05d061abf4a714078393e51929b30/cssselect-1.0.3-py2.py3-none-any.whl\n",
      "Requirement already satisfied: lxml>=3.6.0 in /home/mark/anaconda3/envs/myf/lib/python3.6/site-packages (from newspaper3k) (4.3.0)\n",
      "Collecting feedparser>=5.2.1 (from newspaper3k)\n",
      "\u001b[?25l  Downloading https://files.pythonhosted.org/packages/91/d8/7d37fec71ff7c9dbcdd80d2b48bcdd86d6af502156fc93846fb0102cb2c4/feedparser-5.2.1.tar.bz2 (192kB)\n",
      "\u001b[K    100% |████████████████████████████████| 194kB 7.1MB/s ta 0:00:01\n",
      "\u001b[?25hRequirement already satisfied: beautifulsoup4>=4.4.1 in /home/mark/anaconda3/envs/myf/lib/python3.6/site-packages (from newspaper3k) (4.7.1)\n",
      "Requirement already satisfied: python-dateutil>=2.5.3 in /home/mark/anaconda3/envs/myf/lib/python3.6/site-packages (from newspaper3k) (2.7.5)\n",
      "Collecting feedfinder2>=0.0.4 (from newspaper3k)\n",
      "  Downloading https://files.pythonhosted.org/packages/35/82/1251fefec3bb4b03fd966c7e7f7a41c9fc2bb00d823a34c13f847fd61406/feedfinder2-0.0.4.tar.gz\n",
      "Collecting jieba3k>=0.35.1 (from newspaper3k)\n",
      "\u001b[?25l  Downloading https://files.pythonhosted.org/packages/a9/cb/2c8332bcdc14d33b0bedd18ae0a4981a069c3513e445120da3c3f23a8aaa/jieba3k-0.35.1.zip (7.4MB)\n",
      "\u001b[K    100% |████████████████████████████████| 7.4MB 1.1MB/s ta 0:00:011\n",
      "\u001b[?25hRequirement already satisfied: six in /home/mark/anaconda3/envs/myf/lib/python3.6/site-packages (from nltk>=3.2.1->newspaper3k) (1.12.0)\n",
      "Requirement already satisfied: singledispatch in /home/mark/anaconda3/envs/myf/lib/python3.6/site-packages (from nltk>=3.2.1->newspaper3k) (3.4.0.3)\n",
      "Requirement already satisfied: urllib3<1.25,>=1.21.1 in /home/mark/anaconda3/envs/myf/lib/python3.6/site-packages (from requests>=2.10.0->newspaper3k) (1.24.1)\n",
      "Requirement already satisfied: certifi>=2017.4.17 in /home/mark/anaconda3/envs/myf/lib/python3.6/site-packages (from requests>=2.10.0->newspaper3k) (2019.3.9)\n",
      "Requirement already satisfied: idna<2.9,>=2.5 in /home/mark/anaconda3/envs/myf/lib/python3.6/site-packages (from requests>=2.10.0->newspaper3k) (2.8)\n",
      "Requirement already satisfied: chardet<3.1.0,>=3.0.2 in /home/mark/anaconda3/envs/myf/lib/python3.6/site-packages (from requests>=2.10.0->newspaper3k) (3.0.4)\n",
      "Requirement already satisfied: setuptools in /home/mark/anaconda3/envs/myf/lib/python3.6/site-packages (from tldextract>=2.0.1->newspaper3k) (40.7.3)\n",
      "Collecting requests-file>=1.4 (from tldextract>=2.0.1->newspaper3k)\n",
      "  Downloading https://files.pythonhosted.org/packages/23/9c/6e63c23c39e53d3df41c77a3d05a49a42c4e1383a6d2a5e3233161b89dbf/requests_file-1.4.3-py2.py3-none-any.whl\n",
      "Requirement already satisfied: soupsieve>=1.2 in /home/mark/anaconda3/envs/myf/lib/python3.6/site-packages (from beautifulsoup4>=4.4.1->newspaper3k) (1.7.1)\n",
      "Building wheels for collected packages: tinysegmenter, feedparser, feedfinder2, jieba3k\n",
      "  Building wheel for tinysegmenter (setup.py) ... \u001b[?25ldone\n",
      "\u001b[?25h  Stored in directory: /home/mark/.cache/pip/wheels/81/2b/43/a02ede72324dd40cdd7ca53aad718c7710628e91b8b0dc0f02\n",
      "  Building wheel for feedparser (setup.py) ... \u001b[?25ldone\n",
      "\u001b[?25h  Stored in directory: /home/mark/.cache/pip/wheels/8c/69/b7/f52763c41c5471df57703a0ef718a32a5e81ee35dcf6d4f97f\n",
      "  Building wheel for feedfinder2 (setup.py) ... \u001b[?25ldone\n",
      "\u001b[?25h  Stored in directory: /home/mark/.cache/pip/wheels/de/03/ca/778e3a7a627e3d98836cc890e7cb40c7575424cfd3340f40ed\n",
      "  Building wheel for jieba3k (setup.py) ... \u001b[?25ldone\n",
      "\u001b[?25h  Stored in directory: /home/mark/.cache/pip/wheels/83/15/9c/a3f1f67e7f7181170ad37d32e503c35da20627c013f438ed34\n",
      "Successfully built tinysegmenter feedparser feedfinder2 jieba3k\n",
      "Installing collected packages: tinysegmenter, requests-file, tldextract, cssselect, feedparser, feedfinder2, jieba3k, newspaper3k\n",
      "Successfully installed cssselect-1.0.3 feedfinder2-0.0.4 feedparser-5.2.1 jieba3k-0.35.1 newspaper3k-0.2.8 requests-file-1.4.3 tinysegmenter-0.3 tldextract-2.2.1\n"
     ]
    }
   ],
   "source": [
    "!pip install newspaper3k"
   ]
  },
  {
   "cell_type": "code",
   "execution_count": 37,
   "metadata": {
    "ExecuteTime": {
     "end_time": "2019-04-08T23:45:16.293000Z",
     "start_time": "2019-04-08T23:45:16.284973Z"
    },
    "colab": {},
    "colab_type": "code",
    "id": "fTPlziljCiNJ"
   },
   "outputs": [],
   "source": [
    "import newspaper"
   ]
  },
  {
   "cell_type": "code",
   "execution_count": 38,
   "metadata": {
    "ExecuteTime": {
     "end_time": "2019-04-08T23:45:24.997902Z",
     "start_time": "2019-04-08T23:45:17.457699Z"
    },
    "colab": {
     "base_uri": "https://localhost:8080/",
     "height": 34
    },
    "colab_type": "code",
    "id": "bk9JF2zaCxoO",
    "outputId": "9e66fc15-a397-4b59-f810-d2182565c99a"
   },
   "outputs": [
    {
     "data": {
      "text/plain": [
       "5"
      ]
     },
     "execution_count": 38,
     "metadata": {},
     "output_type": "execute_result"
    }
   ],
   "source": [
    "ap = newspaper.build('https://www.apnews.com')\n",
    "len(ap.articles)"
   ]
  },
  {
   "cell_type": "code",
   "execution_count": 39,
   "metadata": {
    "ExecuteTime": {
     "end_time": "2019-04-08T23:45:25.654265Z",
     "start_time": "2019-04-08T23:45:24.999731Z"
    },
    "colab": {
     "base_uri": "https://localhost:8080/",
     "height": 54
    },
    "colab_type": "code",
    "id": "Vc6JgAIJDF4E",
    "outputId": "44a13922-d86a-4668-c4fd-455c0d03b6c1"
   },
   "outputs": [
    {
     "name": "stdout",
     "output_type": "stream",
     "text": [
      "CAIRO — Egyptian President Abdel-Fattah el-Sissi has a much sought-after White House summit Tuesday, hoping it will confer a new level of legitimacy on his presidency as he seeks to cement his hold on power and, human rights groups say, silence any domestic critics who stand in his way.\n"
     ]
    }
   ],
   "source": [
    "article_text = ''\n",
    "\n",
    "for article in ap.articles[:1]:\n",
    "  try:\n",
    "    article.download()\n",
    "    article.parse()\n",
    "    article_text += '\\n\\n' + article.text\n",
    "  except:\n",
    "    print('Failed: ' + article.url)\n",
    "  \n",
    "article_text = article_text.split('\\n\\n')[1]\n",
    "print(article_text)"
   ]
  },
  {
   "cell_type": "code",
   "execution_count": 40,
   "metadata": {
    "ExecuteTime": {
     "end_time": "2019-04-08T23:45:25.661594Z",
     "start_time": "2019-04-08T23:45:25.656579Z"
    },
    "colab": {
     "base_uri": "https://localhost:8080/",
     "height": 52
    },
    "colab_type": "code",
    "id": "rsMBBMcv_nRM",
    "outputId": "9f77b07b-4a5a-4ac8-f1b3-79e1a5331fad"
   },
   "outputs": [
    {
     "name": "stdout",
     "output_type": "stream",
     "text": [
      "unique characters :  39\n",
      "txt_data_size :  287\n"
     ]
    }
   ],
   "source": [
    "# Based on \"The Unreasonable Effectiveness of RNN\" implementation\n",
    "import numpy as np\n",
    "\n",
    "chars = list(set(article_text)) # split and remove duplicate characters. convert to list.\n",
    "\n",
    "num_chars = len(chars) # the number of unique characters\n",
    "txt_data_size = len(article_text)\n",
    "\n",
    "print(\"unique characters : \", num_chars)\n",
    "print(\"txt_data_size : \", txt_data_size)"
   ]
  },
  {
   "cell_type": "code",
   "execution_count": 41,
   "metadata": {
    "ExecuteTime": {
     "end_time": "2019-04-08T23:45:25.672813Z",
     "start_time": "2019-04-08T23:45:25.665369Z"
    },
    "colab": {
     "base_uri": "https://localhost:8080/",
     "height": 159
    },
    "colab_type": "code",
    "id": "aQygqc_CAWRA",
    "outputId": "30c45e95-057a-4643-9cae-fc518b49c914"
   },
   "outputs": [
    {
     "name": "stdout",
     "output_type": "stream",
     "text": [
      "{'w': 0, ' ': 1, 'i': 2, 'H': 3, 'F': 4, 'b': 5, 'e': 6, 'f': 7, 'm': 8, 'A': 9, 'd': 10, 'v': 11, 'l': 12, 'P': 13, 'S': 14, 'g': 15, 'R': 16, 'E': 17, 'T': 18, 'O': 19, 'n': 20, 'p': 21, 't': 22, 'c': 23, 'y': 24, 's': 25, 'u': 26, '.': 27, 'r': 28, 'W': 29, ',': 30, 'h': 31, 'o': 32, 'k': 33, 'a': 34, 'I': 35, '—': 36, 'C': 37, '-': 38}\n",
      "----------------------------------------------------\n",
      "{0: 'w', 1: ' ', 2: 'i', 3: 'H', 4: 'F', 5: 'b', 6: 'e', 7: 'f', 8: 'm', 9: 'A', 10: 'd', 11: 'v', 12: 'l', 13: 'P', 14: 'S', 15: 'g', 16: 'R', 17: 'E', 18: 'T', 19: 'O', 20: 'n', 21: 'p', 22: 't', 23: 'c', 24: 'y', 25: 's', 26: 'u', 27: '.', 28: 'r', 29: 'W', 30: ',', 31: 'h', 32: 'o', 33: 'k', 34: 'a', 35: 'I', 36: '—', 37: 'C', 38: '-'}\n",
      "----------------------------------------------------\n",
      "[37, 9, 35, 16, 19, 1, 36, 1, 17, 15, 24, 21, 22, 2, 34, 20, 1, 13, 28, 6, 25, 2, 10, 6, 20, 22, 1, 9, 5, 10, 6, 12, 38, 4, 34, 22, 22, 34, 31, 1, 6, 12, 38, 14, 2, 25, 25, 2, 1, 31, 34, 25, 1, 34, 1, 8, 26, 23, 31, 1, 25, 32, 26, 15, 31, 22, 38, 34, 7, 22, 6, 28, 1, 29, 31, 2, 22, 6, 1, 3, 32, 26, 25, 6, 1, 25, 26, 8, 8, 2, 22, 1, 18, 26, 6, 25, 10, 34, 24, 30, 1, 31, 32, 21, 2, 20, 15, 1, 2, 22, 1, 0, 2, 12, 12, 1, 23, 32, 20, 7, 6, 28, 1, 34, 1, 20, 6, 0, 1, 12, 6, 11, 6, 12, 1, 32, 7, 1, 12, 6, 15, 2, 22, 2, 8, 34, 23, 24, 1, 32, 20, 1, 31, 2, 25, 1, 21, 28, 6, 25, 2, 10, 6, 20, 23, 24, 1, 34, 25, 1, 31, 6, 1, 25, 6, 6, 33, 25, 1, 22, 32, 1, 23, 6, 8, 6, 20, 22, 1, 31, 2, 25, 1, 31, 32, 12, 10, 1, 32, 20, 1, 21, 32, 0, 6, 28, 1, 34, 20, 10, 30, 1, 31, 26, 8, 34, 20, 1, 28, 2, 15, 31, 22, 25, 1, 15, 28, 32, 26, 21, 25, 1, 25, 34, 24, 30, 1, 25, 2, 12, 6, 20, 23, 6, 1, 34, 20, 24, 1, 10, 32, 8, 6, 25, 22, 2, 23, 1, 23, 28, 2, 22, 2, 23, 25, 1, 0, 31, 32, 1, 25, 22, 34, 20, 10, 1, 2, 20, 1, 31, 2, 25, 1, 0, 34, 24, 27]\n",
      "----------------------------------------------------\n",
      "data length :  287\n"
     ]
    }
   ],
   "source": [
    "# one hot encode\n",
    "char_to_int = dict((c, i) for i, c in enumerate(chars)) # \"enumerate\" retruns index and value. Convert it to dictionary\n",
    "int_to_char = dict((i, c) for i, c in enumerate(chars))\n",
    "print(char_to_int)\n",
    "print(\"----------------------------------------------------\")\n",
    "print(int_to_char)\n",
    "print(\"----------------------------------------------------\")\n",
    "# integer encode input data\n",
    "integer_encoded = [char_to_int[i] for i in article_text] # \"integer_encoded\" is a list which has a sequence converted from an original data to integers.\n",
    "print(integer_encoded)\n",
    "print(\"----------------------------------------------------\")\n",
    "print(\"data length : \", len(integer_encoded))"
   ]
  },
  {
   "cell_type": "code",
   "execution_count": 42,
   "metadata": {
    "ExecuteTime": {
     "end_time": "2019-04-08T23:45:25.693222Z",
     "start_time": "2019-04-08T23:45:25.675489Z"
    },
    "colab": {},
    "colab_type": "code",
    "id": "bcpMSWDHFowT"
   },
   "outputs": [],
   "source": [
    "# hyperparameters\n",
    "\n",
    "iteration = 1000\n",
    "sequence_length = 40\n",
    "batch_size = round((txt_data_size /sequence_length)+0.5) # = math.ceil\n",
    "hidden_size = 500  # size of hidden layer of neurons.  \n",
    "learning_rate = 1e-1\n",
    "\n",
    "\n",
    "# model parameters\n",
    "\n",
    "W_xh = np.random.randn(hidden_size, num_chars)*0.01     # weight input -> hidden. \n",
    "W_hh = np.random.randn(hidden_size, hidden_size)*0.01   # weight hidden -> hidden\n",
    "W_hy = np.random.randn(num_chars, hidden_size)*0.01     # weight hidden -> output\n",
    "\n",
    "b_h = np.zeros((hidden_size, 1)) # hidden bias\n",
    "b_y = np.zeros((num_chars, 1)) # output bias\n",
    "\n",
    "h_prev = np.zeros((hidden_size,1)) # h_(t-1)"
   ]
  },
  {
   "cell_type": "markdown",
   "metadata": {
    "colab_type": "text",
    "id": "bkqoN86qWaI4"
   },
   "source": [
    "#### Forward propagation"
   ]
  },
  {
   "cell_type": "code",
   "execution_count": 43,
   "metadata": {
    "ExecuteTime": {
     "end_time": "2019-04-08T23:45:25.701193Z",
     "start_time": "2019-04-08T23:45:25.694703Z"
    },
    "colab": {},
    "colab_type": "code",
    "id": "imfg_Ew0WdDL"
   },
   "outputs": [],
   "source": [
    "def forwardprop(inputs, targets, h_prev):\n",
    "        \n",
    "    # Since the RNN receives the sequence, the weights are not updated during one sequence.\n",
    "    xs, hs, ys, ps = {}, {}, {}, {} # dictionary\n",
    "    hs[-1] = np.copy(h_prev) # Copy previous hidden state vector to -1 key value.\n",
    "    loss = 0 # loss initialization\n",
    "    \n",
    "    for t in range(len(inputs)): # t is a \"time step\" and is used as a key(dic).  \n",
    "        \n",
    "        xs[t] = np.zeros((num_chars,1)) \n",
    "        xs[t][inputs[t]] = 1\n",
    "        hs[t] = np.tanh(np.dot(W_xh, xs[t]) + np.dot(W_hh, hs[t-1]) + b_h) # hidden state. \n",
    "        ys[t] = np.dot(W_hy, hs[t]) + b_y # unnormalized log probabilities for next chars\n",
    "        ps[t] = np.exp(ys[t]) / np.sum(np.exp(ys[t])) # probabilities for next chars. \n",
    "        # Softmax. -> The sum of probabilities is 1 even without the exp() function, but all of the elements are positive through the exp() function.\n",
    " \n",
    "        loss += -np.log(ps[t][targets[t],0]) # softmax (cross-entropy loss). Efficient and simple code\n",
    "\n",
    "#         y_class = np.zeros((num_chars, 1)) \n",
    "#         y_class[targets[t]] =1\n",
    "#         loss += np.sum(y_class*(-np.log(ps[t]))) # softmax (cross-entropy loss)        \n",
    "\n",
    "    return loss, ps, hs, xs"
   ]
  },
  {
   "cell_type": "markdown",
   "metadata": {
    "colab_type": "text",
    "id": "zm6qwNiqWdMe"
   },
   "source": [
    "#### Backward propagation"
   ]
  },
  {
   "cell_type": "code",
   "execution_count": 44,
   "metadata": {
    "ExecuteTime": {
     "end_time": "2019-04-08T23:45:27.455784Z",
     "start_time": "2019-04-08T23:45:27.446259Z"
    },
    "colab": {},
    "colab_type": "code",
    "id": "81qBiz_xWenI"
   },
   "outputs": [],
   "source": [
    "def backprop(ps, inputs, hs, xs):\n",
    "\n",
    "    dWxh, dWhh, dWhy = np.zeros_like(W_xh), np.zeros_like(W_hh), np.zeros_like(W_hy) # make all zero matrices.\n",
    "    dbh, dby = np.zeros_like(b_h), np.zeros_like(b_y)\n",
    "    dhnext = np.zeros_like(hs[0]) # (hidden_size,1) \n",
    "\n",
    "    # reversed\n",
    "    for t in reversed(range(len(inputs))):\n",
    "        dy = np.copy(ps[t]) # shape (num_chars,1).  \"dy\" means \"dloss/dy\"\n",
    "        dy[targets[t]] -= 1 # backprop into y. After taking the soft max in the input vector, subtract 1 from the value of the element corresponding to the correct label.\n",
    "        dWhy += np.dot(dy, hs[t].T)\n",
    "        dby += dy \n",
    "        dh = np.dot(W_hy.T, dy) + dhnext # backprop into h. \n",
    "        dhraw = (1 - hs[t] * hs[t]) * dh # backprop through tanh nonlinearity #tanh'(x) = 1-tanh^2(x)\n",
    "        dbh += dhraw\n",
    "        dWxh += np.dot(dhraw, xs[t].T)\n",
    "        dWhh += np.dot(dhraw, hs[t-1].T)\n",
    "        dhnext = np.dot(W_hh.T, dhraw)\n",
    "    for dparam in [dWxh, dWhh, dWhy, dbh, dby]: \n",
    "        np.clip(dparam, -5, 5, out=dparam) # clip to mitigate exploding gradients.  \n",
    "    \n",
    "    return dWxh, dWhh, dWhy, dbh, dby"
   ]
  },
  {
   "cell_type": "markdown",
   "metadata": {
    "colab_type": "text",
    "id": "r8sBvcdbWfhi"
   },
   "source": [
    "#### Training"
   ]
  },
  {
   "cell_type": "code",
   "execution_count": 45,
   "metadata": {
    "ExecuteTime": {
     "end_time": "2019-04-08T23:48:16.580100Z",
     "start_time": "2019-04-08T23:45:35.674970Z"
    },
    "colab": {
     "base_uri": "https://localhost:8080/",
     "height": 225
    },
    "colab_type": "code",
    "id": "iA4RM70LWgO_",
    "outputId": "0fd64bca-f1b5-4be1-9e80-076308365598"
   },
   "outputs": [
    {
     "name": "stdout",
     "output_type": "stream",
     "text": [
      "iter 0, loss: 143.305485\n",
      "iter 100, loss: 10.645549\n",
      "iter 200, loss: 13.384007\n",
      "iter 300, loss: 13.169243\n",
      "iter 400, loss: 8.382250\n",
      "iter 500, loss: 9.199066\n",
      "iter 600, loss: 9.163723\n",
      "iter 700, loss: 8.371003\n",
      "iter 800, loss: 7.495002\n",
      "iter 900, loss: 6.928444\n",
      "CPU times: user 10min 39s, sys: 0 ns, total: 10min 39s\n",
      "Wall time: 2min 40s\n"
     ]
    }
   ],
   "source": [
    "%%time\n",
    "\n",
    "data_pointer = 0\n",
    "\n",
    "# memory variables for Adagrad\n",
    "mWxh, mWhh, mWhy = np.zeros_like(W_xh), np.zeros_like(W_hh), np.zeros_like(W_hy)\n",
    "mbh, mby = np.zeros_like(b_h), np.zeros_like(b_y) \n",
    "\n",
    "for i in range(iteration):\n",
    "    h_prev = np.zeros((hidden_size,1)) # reset RNN memory\n",
    "    data_pointer = 0 # go from start of data\n",
    "    \n",
    "    for b in range(batch_size):\n",
    "        \n",
    "        inputs = [char_to_int[ch] for ch in article_text[data_pointer:data_pointer+sequence_length]]\n",
    "        targets = [char_to_int[ch] for ch in article_text[data_pointer+1:data_pointer+sequence_length+1]] # t+1        \n",
    "            \n",
    "        if (data_pointer+sequence_length+1 >= len(article_text) and b == batch_size-1): # processing of the last part of the input data. \n",
    "#             targets.append(char_to_int[txt_data[0]])   # When the data doesn't fit, add the first char to the back.\n",
    "            targets.append(char_to_int[\" \"])   # When the data doesn't fit, add space(\" \") to the back.\n",
    "\n",
    "\n",
    "        # forward\n",
    "        loss, ps, hs, xs = forwardprop(inputs, targets, h_prev)\n",
    "#         print(loss)\n",
    "    \n",
    "        # backward\n",
    "        dWxh, dWhh, dWhy, dbh, dby = backprop(ps, inputs, hs, xs) \n",
    "        \n",
    "        \n",
    "    # perform parameter update with Adagrad\n",
    "        for param, dparam, mem in zip([W_xh, W_hh, W_hy, b_h, b_y], \n",
    "                                    [dWxh, dWhh, dWhy, dbh, dby], \n",
    "                                    [mWxh, mWhh, mWhy, mbh, mby]):\n",
    "            mem += dparam * dparam # elementwise\n",
    "            param += -learning_rate * dparam / np.sqrt(mem + 1e-8) # adagrad update      \n",
    "    \n",
    "        data_pointer += sequence_length # move data pointer\n",
    "        \n",
    "    if i % 100 == 0:\n",
    "        print ('iter %d, loss: %f' % (i, loss)) # print progress"
   ]
  },
  {
   "cell_type": "markdown",
   "metadata": {
    "colab_type": "text",
    "id": "tjh8Ip68WgYV"
   },
   "source": [
    "#### Prediction"
   ]
  },
  {
   "cell_type": "code",
   "execution_count": 46,
   "metadata": {
    "ExecuteTime": {
     "end_time": "2019-04-08T23:48:22.429473Z",
     "start_time": "2019-04-08T23:48:22.411493Z"
    }
   },
   "outputs": [],
   "source": [
    "def predict(test_char, length):\n",
    "    x = np.zeros((num_chars, 1)) \n",
    "    x[char_to_int[test_char]] = 1\n",
    "    ixes = []\n",
    "    h = np.zeros((hidden_size,1))\n",
    "\n",
    "    for t in range(length):\n",
    "        h = np.tanh(np.dot(W_xh, x) + np.dot(W_hh, h) + b_h) \n",
    "        y = np.dot(W_hy, h) + b_y\n",
    "        p = np.exp(y) / np.sum(np.exp(y)) \n",
    "        ix = np.random.choice(range(num_chars), p=p.ravel()) # ravel -> rank0\n",
    "        # \"ix\" is a list of indexes selected according to the soft max probability.\n",
    "        x = np.zeros((num_chars, 1)) # init\n",
    "        x[ix] = 1 \n",
    "        ixes.append(ix) # list\n",
    "    txt = test_char + ''.join(int_to_char[i] for i in ixes)\n",
    "    print ('----\\n %s \\n----' % (txt, ))"
   ]
  },
  {
   "cell_type": "code",
   "execution_count": 49,
   "metadata": {
    "ExecuteTime": {
     "end_time": "2019-04-08T23:48:44.402688Z",
     "start_time": "2019-04-08T23:48:44.380656Z"
    },
    "colab": {
     "base_uri": "https://localhost:8080/",
     "height": 69
    },
    "colab_type": "code",
    "id": "nGVhl-Gxh6N6",
    "outputId": "e0c8b70b-fb50-4000-f4f8-a572539513db"
   },
   "outputs": [
    {
     "name": "stdout",
     "output_type": "stream",
     "text": [
      "----\n",
      " CAIRO hdsoemomiypir  wlcsaieh Hnpoto. siai sin  cy  \n",
      "----\n"
     ]
    }
   ],
   "source": [
    "predict('C', 50)"
   ]
  },
  {
   "cell_type": "markdown",
   "metadata": {
    "colab_type": "text",
    "id": "xPsz-oefL1kP"
   },
   "source": [
    "Well... that's *vaguely* language-looking. Can you do better?"
   ]
  },
  {
   "cell_type": "markdown",
   "metadata": {
    "colab_type": "text",
    "id": "0lfZdD_cp1t5"
   },
   "source": [
    "# Assignment\n",
    "\n",
    "![Monkey at a typewriter](https://upload.wikimedia.org/wikipedia/commons/thumb/3/3c/Chimpanzee_seated_at_typewriter.jpg/603px-Chimpanzee_seated_at_typewriter.jpg)\n",
    "\n",
    "It is said that [infinite monkeys typing for an infinite amount of time](https://en.wikipedia.org/wiki/Infinite_monkey_theorem) will eventually type, among other things, the complete works of Wiliam Shakespeare. Let's see if we can get there a bit faster, with the power of Recurrent Neural Networks and LSTM.\n",
    "\n",
    "This text file contains the complete works of Shakespeare: https://www.gutenberg.org/files/100/100-0.txt\n",
    "\n",
    "Use it as training data for an RNN - you can keep it simple and train character level, and that is suggested as an initial approach.\n",
    "\n",
    "Then, use that trained RNN to generate Shakespearean-ish text. Your goal - a function that can take, as an argument, the size of text (e.g. number of characters or lines) to generate, and returns generated text of that size.\n",
    "\n",
    "Note - Shakespeare wrote an awful lot. It's OK, especially initially, to sample/use smaller data and parameters, so you can have a tighter feedback loop when you're trying to get things running. Then, once you've got a proof of concept - start pushing it more!"
   ]
  },
  {
   "cell_type": "code",
   "execution_count": null,
   "metadata": {
    "ExecuteTime": {
     "end_time": "2019-04-08T22:24:54.096049Z",
     "start_time": "2019-04-08T21:59:30.681Z"
    },
    "colab": {},
    "colab_type": "code",
    "id": "Ltj1je1fp5rO"
   },
   "outputs": [],
   "source": [
    "# TODO - Words, words, mere words, no matter from the heart."
   ]
  },
  {
   "cell_type": "code",
   "execution_count": 143,
   "metadata": {
    "ExecuteTime": {
     "end_time": "2019-04-09T03:55:36.052827Z",
     "start_time": "2019-04-09T03:55:33.477740Z"
    }
   },
   "outputs": [],
   "source": [
    "import requests\n",
    "url = \"https://www.gutenberg.org/files/100/100-0.txt\"\n",
    "text = requests.get(url).text\n"
   ]
  },
  {
   "cell_type": "code",
   "execution_count": 144,
   "metadata": {
    "ExecuteTime": {
     "end_time": "2019-04-09T03:55:37.233250Z",
     "start_time": "2019-04-09T03:55:37.186679Z"
    }
   },
   "outputs": [],
   "source": [
    "import re\n",
    "pn = [m.span() for m in re.finditer(r\" (\\d{1,3})\\r\\n\", text)]"
   ]
  },
  {
   "cell_type": "code",
   "execution_count": 145,
   "metadata": {
    "ExecuteTime": {
     "end_time": "2019-04-09T03:55:38.593448Z",
     "start_time": "2019-04-09T03:55:38.585356Z"
    }
   },
   "outputs": [],
   "source": [
    "def get_sonnent(n, ton=-1):\n",
    "    if ton == -1:\n",
    "        ton = n\n",
    "    return text[pn[n - 1][0]:pn[ton][0]]"
   ]
  },
  {
   "cell_type": "code",
   "execution_count": 146,
   "metadata": {
    "ExecuteTime": {
     "end_time": "2019-04-09T03:55:40.077168Z",
     "start_time": "2019-04-09T03:55:40.072429Z"
    }
   },
   "outputs": [
    {
     "name": "stdout",
     "output_type": "stream",
     "text": [
      " 2\r\n",
      "\r\n",
      "When forty winters shall besiege thy brow,\r\n",
      "And dig deep trenches in thy beauty’s field,\r\n",
      "Thy youth’s proud livery so gazed on now,\r\n",
      "Will be a tattered weed of small worth held:\r\n",
      "Then being asked, where all thy beauty lies,\r\n",
      "Where all the treasure of thy lusty days;\r\n",
      "To say, within thine own deep sunken eyes,\r\n",
      "Were an all-eating shame, and thriftless praise.\r\n",
      "How much more praise deserv’d thy beauty’s use,\r\n",
      "If thou couldst answer ‘This fair child of mine\r\n",
      "Shall sum my count, and make my old excuse,’\r\n",
      "Proving his beauty by succession thine.\r\n",
      "  This were to be new made when thou art old,\r\n",
      "  And see thy blood warm when thou feel’st it cold.\r\n",
      "\r\n",
      "\r\n",
      "                    3\r\n",
      "\r\n",
      "Look in thy glass and tell the face thou viewest,\r\n",
      "Now is the time that face should form another,\r\n",
      "Whose fresh repair if now thou not renewest,\r\n",
      "Thou dost beguile the world, unbless some mother.\r\n",
      "For where is she so fair whose uneared womb\r\n",
      "Disdains the tillage of thy husbandry?\r\n",
      "Or who is he so fond will be the tomb\r\n",
      "Of his self-love to stop posterity?\r\n",
      "Thou art thy mother’s glass and she in thee\r\n",
      "Calls back the lovely April of her prime,\r\n",
      "So thou through windows of thine age shalt see,\r\n",
      "Despite of wrinkles this thy golden time.\r\n",
      "  But if thou live remembered not to be,\r\n",
      "  Die single and thine image dies with thee.\r\n",
      "\r\n",
      "\r\n",
      "                    4\r\n",
      "\r\n",
      "Unthrifty loveliness why dost thou spend,\r\n",
      "Upon thy self thy beauty’s legacy?\r\n",
      "Nature’s bequest gives nothing but doth lend,\r\n",
      "And being frank she lends to those are free:\r\n",
      "Then beauteous niggard why dost thou abuse,\r\n",
      "The bounteous largess given thee to give?\r\n",
      "Profitless usurer why dost thou use\r\n",
      "So great a sum of sums yet canst not live?\r\n",
      "For having traffic with thy self alone,\r\n",
      "Thou of thy self thy sweet self dost deceive,\r\n",
      "Then how when nature calls thee to be gone,\r\n",
      "What acceptable audit canst thou leave?\r\n",
      "  Thy unused beauty must be tombed with thee,\r\n",
      "  Which used lives th’ executor to be.\r\n",
      "\r\n",
      "\r\n",
      "                   \n"
     ]
    }
   ],
   "source": [
    "print(get_sonnent(2,4))"
   ]
  },
  {
   "cell_type": "code",
   "execution_count": 115,
   "metadata": {
    "ExecuteTime": {
     "end_time": "2019-04-09T03:02:52.285748Z",
     "start_time": "2019-04-09T03:02:47.168642Z"
    }
   },
   "outputs": [
    {
     "name": "stdout",
     "output_type": "stream",
     "text": [
      "Collecting textgenrnn\n",
      "\u001b[?25l  Downloading https://files.pythonhosted.org/packages/1f/66/042499854474fdfca20403729ca88c9ceac8b5fd7374ed13be4a9ade6e7d/textgenrnn-1.5.0.tar.gz (1.7MB)\n",
      "\u001b[K    100% |████████████████████████████████| 1.7MB 2.0MB/s ta 0:00:011\n",
      "\u001b[?25hRequirement already satisfied: keras>=2.1.5 in /home/mark/anaconda3/envs/myf/lib/python3.6/site-packages (from textgenrnn) (2.2.4)\n",
      "Requirement already satisfied: h5py in /home/mark/anaconda3/envs/myf/lib/python3.6/site-packages (from textgenrnn) (2.9.0)\n",
      "Requirement already satisfied: scikit-learn in /home/mark/anaconda3/envs/myf/lib/python3.6/site-packages (from textgenrnn) (0.20.2)\n",
      "Requirement already satisfied: tqdm in /home/mark/anaconda3/envs/myf/lib/python3.6/site-packages (from textgenrnn) (4.29.1)\n",
      "Requirement already satisfied: numpy>=1.9.1 in /home/mark/anaconda3/envs/myf/lib/python3.6/site-packages (from keras>=2.1.5->textgenrnn) (1.16.1)\n",
      "Requirement already satisfied: scipy>=0.14 in /home/mark/anaconda3/envs/myf/lib/python3.6/site-packages (from keras>=2.1.5->textgenrnn) (1.2.0)\n",
      "Requirement already satisfied: six>=1.9.0 in /home/mark/anaconda3/envs/myf/lib/python3.6/site-packages (from keras>=2.1.5->textgenrnn) (1.12.0)\n",
      "Requirement already satisfied: pyyaml in /home/mark/anaconda3/envs/myf/lib/python3.6/site-packages (from keras>=2.1.5->textgenrnn) (3.13)\n",
      "Requirement already satisfied: keras_applications>=1.0.6 in /home/mark/anaconda3/envs/myf/lib/python3.6/site-packages (from keras>=2.1.5->textgenrnn) (1.0.6)\n",
      "Requirement already satisfied: keras_preprocessing>=1.0.5 in /home/mark/anaconda3/envs/myf/lib/python3.6/site-packages (from keras>=2.1.5->textgenrnn) (1.0.5)\n",
      "Building wheels for collected packages: textgenrnn\n",
      "  Building wheel for textgenrnn (setup.py) ... \u001b[?25ldone\n",
      "\u001b[?25h  Stored in directory: /home/mark/.cache/pip/wheels/23/46/b0/4444949d8310e43e273e931cfa9e175c34b7a2349c8114a6f7\n",
      "Successfully built textgenrnn\n",
      "Installing collected packages: textgenrnn\n",
      "Successfully installed textgenrnn-1.5.0\n"
     ]
    }
   ],
   "source": [
    "!pip install textgenrnn"
   ]
  },
  {
   "cell_type": "code",
   "execution_count": 147,
   "metadata": {
    "ExecuteTime": {
     "end_time": "2019-04-09T03:55:46.994574Z",
     "start_time": "2019-04-09T03:55:46.992560Z"
    }
   },
   "outputs": [],
   "source": [
    "from textgenrnn import textgenrnn"
   ]
  },
  {
   "cell_type": "code",
   "execution_count": 148,
   "metadata": {
    "ExecuteTime": {
     "end_time": "2019-04-09T03:55:48.296827Z",
     "start_time": "2019-04-09T03:55:47.591542Z"
    }
   },
   "outputs": [],
   "source": [
    "textgen = textgenrnn()"
   ]
  },
  {
   "cell_type": "code",
   "execution_count": 124,
   "metadata": {
    "ExecuteTime": {
     "end_time": "2019-04-09T03:05:38.000996Z",
     "start_time": "2019-04-09T03:05:37.994362Z"
    }
   },
   "outputs": [
    {
     "data": {
      "text/plain": [
       "['META_TOKEN',\n",
       " '__class__',\n",
       " '__delattr__',\n",
       " '__dict__',\n",
       " '__dir__',\n",
       " '__doc__',\n",
       " '__eq__',\n",
       " '__format__',\n",
       " '__ge__',\n",
       " '__getattribute__',\n",
       " '__gt__',\n",
       " '__hash__',\n",
       " '__init__',\n",
       " '__init_subclass__',\n",
       " '__le__',\n",
       " '__lt__',\n",
       " '__module__',\n",
       " '__ne__',\n",
       " '__new__',\n",
       " '__reduce__',\n",
       " '__reduce_ex__',\n",
       " '__repr__',\n",
       " '__setattr__',\n",
       " '__sizeof__',\n",
       " '__str__',\n",
       " '__subclasshook__',\n",
       " '__weakref__',\n",
       " 'config',\n",
       " 'default_config',\n",
       " 'encode_text_vectors',\n",
       " 'generate',\n",
       " 'generate_samples',\n",
       " 'generate_to_file',\n",
       " 'indices_char',\n",
       " 'load',\n",
       " 'model',\n",
       " 'num_classes',\n",
       " 'reset',\n",
       " 'save',\n",
       " 'similarity',\n",
       " 'tokenizer',\n",
       " 'train_from_file',\n",
       " 'train_from_largetext_file',\n",
       " 'train_new_model',\n",
       " 'train_on_texts',\n",
       " 'vocab']"
      ]
     },
     "execution_count": 124,
     "metadata": {},
     "output_type": "execute_result"
    }
   ],
   "source": [
    "dir(textgen)"
   ]
  },
  {
   "cell_type": "code",
   "execution_count": 165,
   "metadata": {
    "ExecuteTime": {
     "end_time": "2019-04-09T04:37:16.359603Z",
     "start_time": "2019-04-09T04:35:29.542281Z"
    }
   },
   "outputs": [
    {
     "name": "stdout",
     "output_type": "stream",
     "text": [
      "Training new model w/ 2-layer, 128-cell LSTMs\n",
      "Training on 13,184 character sequences.\n",
      "Epoch 1/50\n",
      "103/103 [==============================] - 3s 32ms/step - loss: 1.7948\n",
      "####################\n",
      "Temperature: 0.2\n",
      "####################\n",
      " \n",
      "\n",
      " \n",
      "\n",
      " \n",
      "\n",
      "####################\n",
      "Temperature: 0.5\n",
      "####################\n",
      " \n",
      "\n",
      "c\n",
      "\n",
      " \n",
      "\n",
      "####################\n",
      "Temperature: 1.0\n",
      "####################\n",
      "n\n",
      "\n",
      "s\n",
      "\n",
      "u\n",
      "\n",
      "Epoch 2/50\n",
      "103/103 [==============================] - 2s 20ms/step - loss: 1.5645\n",
      "####################\n",
      "Temperature: 0.2\n",
      "####################\n",
      " \n",
      "\n",
      " \n",
      "\n",
      " \n",
      "\n",
      "####################\n",
      "Temperature: 0.5\n",
      "####################\n",
      "s\n",
      "\n",
      "s\n",
      "\n",
      " \n",
      "\n",
      "####################\n",
      "Temperature: 1.0\n",
      "####################\n",
      " \n",
      "\n",
      "\n",
      "\n",
      "m\n",
      "\n",
      "Epoch 3/50\n",
      "103/103 [==============================] - 2s 21ms/step - loss: 1.5585\n",
      "####################\n",
      "Temperature: 0.2\n",
      "####################\n",
      " \n",
      "\n",
      " \n",
      "\n",
      " \n",
      "\n",
      "####################\n",
      "Temperature: 0.5\n",
      "####################\n",
      " \n",
      "\n",
      " \n",
      "\n",
      "e\n",
      "\n",
      "####################\n",
      "Temperature: 1.0\n",
      "####################\n",
      "A\n",
      "\n",
      "o\n",
      "\n",
      "f\n",
      "\n",
      "Epoch 4/50\n",
      "103/103 [==============================] - 2s 20ms/step - loss: 1.5562\n",
      "####################\n",
      "Temperature: 0.2\n",
      "####################\n",
      " \n",
      "\n",
      " \n",
      "\n",
      " \n",
      "\n",
      "####################\n",
      "Temperature: 0.5\n",
      "####################\n",
      " \n",
      "\n",
      "t\n",
      "\n",
      "g\n",
      "\n",
      "####################\n",
      "Temperature: 1.0\n",
      "####################\n",
      " \n",
      "\n",
      "f\n",
      "\n",
      "t\n",
      "\n",
      "Epoch 5/50\n",
      "103/103 [==============================] - 2s 19ms/step - loss: 1.5546\n",
      "####################\n",
      "Temperature: 0.2\n",
      "####################\n",
      " \n",
      "\n",
      " \n",
      "\n",
      " \n",
      "\n",
      "####################\n",
      "Temperature: 0.5\n",
      "####################\n",
      " \n",
      "\n",
      " \n",
      "\n",
      "e\n",
      "\n",
      "####################\n",
      "Temperature: 1.0\n",
      "####################\n",
      "w\n",
      "\n",
      "h\n",
      "\n",
      "r\n",
      "\n",
      "Epoch 6/50\n",
      "103/103 [==============================] - 2s 19ms/step - loss: 1.5538\n",
      "####################\n",
      "Temperature: 0.2\n",
      "####################\n",
      " \n",
      "\n",
      " \n",
      "\n",
      " \n",
      "\n",
      "####################\n",
      "Temperature: 0.5\n",
      "####################\n",
      " \n",
      "\n",
      "s\n",
      "\n",
      "u\n",
      "\n",
      "####################\n",
      "Temperature: 1.0\n",
      "####################\n",
      "f\n",
      "\n",
      "t\n",
      "\n",
      " \n",
      "\n",
      "Epoch 7/50\n",
      "103/103 [==============================] - 2s 19ms/step - loss: 1.5534\n",
      "####################\n",
      "Temperature: 0.2\n",
      "####################\n",
      " \n",
      "\n",
      " \n",
      "\n",
      " \n",
      "\n",
      "####################\n",
      "Temperature: 0.5\n",
      "####################\n",
      "a\n",
      "\n",
      "e\n",
      "\n",
      " \n",
      "\n",
      "####################\n",
      "Temperature: 1.0\n",
      "####################\n",
      "a\n",
      "\n",
      "\n",
      "\n",
      "\n",
      "t\n",
      "\n",
      "Epoch 8/50\n",
      "103/103 [==============================] - 2s 19ms/step - loss: 1.5530\n",
      "####################\n",
      "Temperature: 0.2\n",
      "####################\n",
      " \n",
      "\n",
      " \n",
      "\n",
      " \n",
      "\n",
      "####################\n",
      "Temperature: 0.5\n",
      "####################\n",
      " \n",
      "\n",
      " \n",
      "\n",
      "h\n",
      "\n",
      "####################\n",
      "Temperature: 1.0\n",
      "####################\n",
      ",\n",
      "\n",
      "s\n",
      "\n",
      " \n",
      "\n",
      "Epoch 9/50\n",
      "103/103 [==============================] - 2s 19ms/step - loss: 1.5531\n",
      "####################\n",
      "Temperature: 0.2\n",
      "####################\n",
      " \n",
      "\n",
      " \n",
      "\n",
      " \n",
      "\n",
      "####################\n",
      "Temperature: 0.5\n",
      "####################\n",
      " \n",
      "\n",
      "e\n",
      "\n",
      "i\n",
      "\n",
      "####################\n",
      "Temperature: 1.0\n",
      "####################\n",
      "o\n",
      "\n",
      "g\n",
      "\n",
      "S\n",
      "\n",
      "Epoch 10/50\n",
      "103/103 [==============================] - 2s 18ms/step - loss: 1.5521\n",
      "####################\n",
      "Temperature: 0.2\n",
      "####################\n",
      " \n",
      "\n",
      " \n",
      "\n",
      " \n",
      "\n",
      "####################\n",
      "Temperature: 0.5\n",
      "####################\n",
      "e\n",
      "\n",
      " \n",
      "\n",
      "s\n",
      "\n",
      "####################\n",
      "Temperature: 1.0\n",
      "####################\n",
      "k\n",
      "\n",
      "d\n",
      "\n",
      "d\n",
      "\n",
      "Epoch 11/50\n",
      "103/103 [==============================] - 2s 18ms/step - loss: 1.5519\n",
      "####################\n",
      "Temperature: 0.2\n",
      "####################\n",
      " \n",
      "\n",
      " \n",
      "\n",
      " \n",
      "\n",
      "####################\n",
      "Temperature: 0.5\n",
      "####################\n",
      "h\n",
      "\n",
      "r\n",
      "\n",
      "s\n",
      "\n",
      "####################\n",
      "Temperature: 1.0\n",
      "####################\n",
      "d\n",
      "\n",
      "’\n",
      "\n",
      "r\n",
      "\n",
      "Epoch 12/50\n",
      "103/103 [==============================] - 2s 19ms/step - loss: 1.5520\n",
      "####################\n",
      "Temperature: 0.2\n",
      "####################\n",
      " \n",
      "\n",
      " \n",
      "\n",
      " \n",
      "\n",
      "####################\n",
      "Temperature: 0.5\n",
      "####################\n",
      " \n",
      "\n",
      "a\n",
      "\n",
      " \n",
      "\n",
      "####################\n",
      "Temperature: 1.0\n",
      "####################\n",
      "\n",
      "\n",
      "\n",
      " \n",
      "\n",
      "t\n",
      "\n",
      "Epoch 13/50\n",
      "103/103 [==============================] - 2s 19ms/step - loss: 1.5512\n",
      "####################\n",
      "Temperature: 0.2\n",
      "####################\n",
      "h\n",
      "\n",
      " \n",
      "\n",
      " \n",
      "\n",
      "####################\n",
      "Temperature: 0.5\n",
      "####################\n",
      "s\n",
      "\n",
      " \n",
      "\n",
      " \n",
      "\n",
      "####################\n",
      "Temperature: 1.0\n",
      "####################\n",
      "e\n",
      "\n",
      "d\n",
      "\n",
      "e\n",
      "\n",
      "Epoch 14/50\n",
      "103/103 [==============================] - 2s 19ms/step - loss: 1.5512\n",
      "####################\n",
      "Temperature: 0.2\n",
      "####################\n",
      " \n",
      "\n",
      " \n",
      "\n",
      "e\n",
      "\n",
      "####################\n",
      "Temperature: 0.5\n",
      "####################\n",
      " \n",
      "\n",
      "e\n",
      "\n",
      " \n",
      "\n",
      "####################\n",
      "Temperature: 1.0\n",
      "####################\n",
      "r\n",
      "\n",
      "e\n",
      "\n",
      "n\n",
      "\n",
      "Epoch 15/50\n",
      "103/103 [==============================] - 2s 20ms/step - loss: 1.5511\n",
      "####################\n",
      "Temperature: 0.2\n",
      "####################\n",
      " \n",
      "\n",
      " \n",
      "\n",
      " \n",
      "\n",
      "####################\n",
      "Temperature: 0.5\n",
      "####################\n",
      "w\n",
      "\n",
      "e\n",
      "\n",
      "h\n",
      "\n",
      "####################\n",
      "Temperature: 1.0\n",
      "####################\n",
      "t\n",
      "\n",
      "o\n",
      "\n",
      "a\n",
      "\n",
      "Epoch 16/50\n",
      "103/103 [==============================] - 2s 19ms/step - loss: 1.5504\n",
      "####################\n",
      "Temperature: 0.2\n",
      "####################\n",
      " \n",
      "\n",
      " \n",
      "\n",
      " \n",
      "\n",
      "####################\n",
      "Temperature: 0.5\n",
      "####################\n",
      "h\n",
      "\n",
      " \n",
      "\n",
      "\n",
      "\n",
      "####################\n",
      "Temperature: 1.0\n",
      "####################\n",
      "w\n",
      "\n",
      "m\n",
      "\n",
      "e\n",
      "\n",
      "Epoch 17/50\n",
      "103/103 [==============================] - 2s 19ms/step - loss: 1.5507\n",
      "####################\n",
      "Temperature: 0.2\n",
      "####################\n",
      " \n",
      "\n",
      " \n",
      "\n",
      " \n",
      "\n",
      "####################\n",
      "Temperature: 0.5\n",
      "####################\n",
      "h\n",
      "\n",
      "e\n",
      "\n",
      "e\n",
      "\n",
      "####################\n",
      "Temperature: 1.0\n",
      "####################\n",
      "d\n",
      "\n",
      " \n",
      "\n",
      " \n",
      "\n",
      "Epoch 18/50\n",
      "103/103 [==============================] - 2s 19ms/step - loss: 1.5506\n",
      "####################\n",
      "Temperature: 0.2\n",
      "####################\n",
      " \n",
      "\n",
      " \n",
      "\n",
      " \n",
      "\n",
      "####################\n",
      "Temperature: 0.5\n",
      "####################\n",
      "e\n",
      "\n",
      "e\n",
      "\n",
      "e\n",
      "\n",
      "####################\n",
      "Temperature: 1.0\n",
      "####################\n",
      "e\n",
      "\n",
      "h\n",
      "\n",
      "s\n",
      "\n",
      "Epoch 19/50\n",
      "103/103 [==============================] - 2s 19ms/step - loss: 1.5502\n",
      "####################\n",
      "Temperature: 0.2\n",
      "####################\n",
      " \n",
      "\n",
      "e\n",
      "\n",
      " \n",
      "\n",
      "####################\n",
      "Temperature: 0.5\n",
      "####################\n",
      " \n",
      "\n",
      "o\n",
      "\n",
      " \n",
      "\n",
      "####################\n",
      "Temperature: 1.0\n",
      "####################\n",
      "i\n",
      "\n",
      "s\n",
      "\n",
      "S\n",
      "\n",
      "Epoch 20/50\n",
      "103/103 [==============================] - 2s 19ms/step - loss: 1.5509\n",
      "####################\n",
      "Temperature: 0.2\n",
      "####################\n",
      " \n",
      "\n",
      " \n",
      "\n",
      " \n",
      "\n",
      "####################\n",
      "Temperature: 0.5\n",
      "####################\n",
      "t\n",
      "\n",
      "d\n",
      "\n",
      " \n",
      "\n",
      "####################\n",
      "Temperature: 1.0\n",
      "####################\n",
      "r\n",
      "\n",
      "t\n",
      "\n",
      "d\n",
      "\n",
      "Epoch 21/50\n",
      "103/103 [==============================] - 2s 19ms/step - loss: 1.5499\n",
      "####################\n",
      "Temperature: 0.2\n",
      "####################\n",
      " \n",
      "\n",
      " \n",
      "\n",
      " \n",
      "\n",
      "####################\n",
      "Temperature: 0.5\n",
      "####################\n",
      " \n",
      "\n",
      " \n",
      "\n",
      " \n",
      "\n",
      "####################\n",
      "Temperature: 1.0\n",
      "####################\n",
      "h\n",
      "\n",
      "e\n",
      "\n",
      "f\n",
      "\n",
      "Epoch 22/50\n",
      "103/103 [==============================] - 2s 19ms/step - loss: 1.5498\n",
      "####################\n",
      "Temperature: 0.2\n",
      "####################\n",
      " \n",
      "\n",
      " \n",
      "\n",
      " \n",
      "\n",
      "####################\n",
      "Temperature: 0.5\n",
      "####################\n",
      "e\n",
      "\n",
      " \n",
      "\n",
      "f\n",
      "\n",
      "####################\n",
      "Temperature: 1.0\n",
      "####################\n",
      "L\n",
      "\n",
      "e\n",
      "\n",
      "t\n",
      "\n",
      "Epoch 23/50\n",
      "103/103 [==============================] - 2s 19ms/step - loss: 1.5496\n",
      "####################\n",
      "Temperature: 0.2\n",
      "####################\n",
      " \n",
      "\n",
      " \n",
      "\n",
      " \n",
      "\n",
      "####################\n",
      "Temperature: 0.5\n",
      "####################\n",
      "a\n",
      "\n",
      "r\n",
      "\n",
      "e\n",
      "\n",
      "####################\n",
      "Temperature: 1.0\n",
      "####################\n",
      "e\n",
      "\n",
      "s\n",
      "\n",
      "a\n",
      "\n",
      "Epoch 24/50\n",
      "103/103 [==============================] - 2s 19ms/step - loss: 1.5500\n",
      "####################\n",
      "Temperature: 0.2\n",
      "####################\n",
      "e\n",
      "\n",
      " \n",
      "\n",
      " \n",
      "\n",
      "####################\n",
      "Temperature: 0.5\n",
      "####################\n",
      " \n",
      "\n",
      " \n",
      "\n",
      " \n",
      "\n",
      "####################\n",
      "Temperature: 1.0\n",
      "####################\n",
      "r\n",
      "\n",
      " \n",
      "\n",
      "k\n",
      "\n",
      "Epoch 25/50\n",
      "103/103 [==============================] - 2s 19ms/step - loss: 1.5500\n",
      "####################\n",
      "Temperature: 0.2\n",
      "####################\n",
      " \n",
      "\n",
      " \n",
      "\n",
      " \n",
      "\n",
      "####################\n",
      "Temperature: 0.5\n",
      "####################\n",
      "a\n",
      "\n",
      " \n",
      "\n",
      "e\n",
      "\n",
      "####################\n",
      "Temperature: 1.0\n",
      "####################\n",
      "g\n",
      "\n",
      "h\n",
      "\n",
      "s\n",
      "\n",
      "Epoch 26/50\n",
      "103/103 [==============================] - 2s 19ms/step - loss: 1.5496\n",
      "####################\n",
      "Temperature: 0.2\n",
      "####################\n",
      " \n",
      "\n",
      "s\n",
      "\n",
      " \n",
      "\n",
      "####################\n",
      "Temperature: 0.5\n",
      "####################\n",
      " \n",
      "\n",
      " \n",
      "\n",
      " \n",
      "\n",
      "####################\n",
      "Temperature: 1.0\n",
      "####################\n",
      "t\n",
      "\n",
      " \n",
      "\n",
      "y\n",
      "\n",
      "Epoch 27/50\n",
      "103/103 [==============================] - 2s 19ms/step - loss: 1.5494\n",
      "####################\n",
      "Temperature: 0.2\n",
      "####################\n",
      " \n",
      "\n",
      " \n",
      "\n",
      " \n",
      "\n",
      "####################\n",
      "Temperature: 0.5\n",
      "####################\n",
      " \n",
      "\n",
      "n\n",
      "\n",
      "t\n",
      "\n",
      "####################\n",
      "Temperature: 1.0\n",
      "####################\n",
      "n\n",
      "\n",
      " \n",
      "\n",
      "u\n",
      "\n",
      "Epoch 28/50\n",
      "103/103 [==============================] - 2s 19ms/step - loss: 1.5495\n",
      "####################\n",
      "Temperature: 0.2\n",
      "####################\n",
      " \n",
      "\n",
      " \n",
      "\n",
      " \n",
      "\n",
      "####################\n",
      "Temperature: 0.5\n",
      "####################\n",
      " \n",
      "\n",
      " \n",
      "\n",
      "a\n",
      "\n",
      "####################\n",
      "Temperature: 1.0\n",
      "####################\n",
      "d\n",
      "\n",
      " \n",
      "\n",
      " \n",
      "\n",
      "Epoch 29/50\n",
      "103/103 [==============================] - 2s 19ms/step - loss: 1.5489\n"
     ]
    },
    {
     "name": "stdout",
     "output_type": "stream",
     "text": [
      "####################\n",
      "Temperature: 0.2\n",
      "####################\n",
      " \n",
      "\n",
      " \n",
      "\n",
      " \n",
      "\n",
      "####################\n",
      "Temperature: 0.5\n",
      "####################\n",
      " \n",
      "\n",
      "e\n",
      "\n",
      " \n",
      "\n",
      "####################\n",
      "Temperature: 1.0\n",
      "####################\n",
      " \n",
      "\n",
      "a\n",
      "\n",
      "t\n",
      "\n",
      "Epoch 30/50\n",
      "103/103 [==============================] - 2s 19ms/step - loss: 1.5487\n",
      "####################\n",
      "Temperature: 0.2\n",
      "####################\n",
      "e\n",
      "\n",
      " \n",
      "\n",
      " \n",
      "\n",
      "####################\n",
      "Temperature: 0.5\n",
      "####################\n",
      "e\n",
      "\n",
      " \n",
      "\n",
      "e\n",
      "\n",
      "####################\n",
      "Temperature: 1.0\n",
      "####################\n",
      "e\n",
      "\n",
      "e\n",
      "\n",
      "s\n",
      "\n",
      "Epoch 31/50\n",
      "103/103 [==============================] - 2s 19ms/step - loss: 1.5486\n",
      "####################\n",
      "Temperature: 0.2\n",
      "####################\n",
      " \n",
      "\n",
      " \n",
      "\n",
      " \n",
      "\n",
      "####################\n",
      "Temperature: 0.5\n",
      "####################\n",
      " \n",
      "\n",
      "h\n",
      "\n",
      " \n",
      "\n",
      "####################\n",
      "Temperature: 1.0\n",
      "####################\n",
      "t\n",
      "\n",
      "o\n",
      "\n",
      "n\n",
      "\n",
      "Epoch 32/50\n",
      "103/103 [==============================] - 2s 19ms/step - loss: 1.5488\n",
      "####################\n",
      "Temperature: 0.2\n",
      "####################\n",
      " \n",
      "\n",
      " \n",
      "\n",
      " \n",
      "\n",
      "####################\n",
      "Temperature: 0.5\n",
      "####################\n",
      " \n",
      "\n",
      " \n",
      "\n",
      " \n",
      "\n",
      "####################\n",
      "Temperature: 1.0\n",
      "####################\n",
      "f\n",
      "\n",
      "\n",
      "\n",
      "\n",
      "i\n",
      "\n",
      "Epoch 33/50\n",
      "103/103 [==============================] - 2s 19ms/step - loss: 1.5489\n",
      "####################\n",
      "Temperature: 0.2\n",
      "####################\n",
      " \n",
      "\n",
      " \n",
      "\n",
      " \n",
      "\n",
      "####################\n",
      "Temperature: 0.5\n",
      "####################\n",
      "o\n",
      "\n",
      " \n",
      "\n",
      "e\n",
      "\n",
      "####################\n",
      "Temperature: 1.0\n",
      "####################\n",
      "d\n",
      "\n",
      "e\n",
      "\n",
      "v\n",
      "\n",
      "Epoch 34/50\n",
      "103/103 [==============================] - 2s 19ms/step - loss: 1.5484\n",
      "####################\n",
      "Temperature: 0.2\n",
      "####################\n",
      " \n",
      "\n",
      " \n",
      "\n",
      " \n",
      "\n",
      "####################\n",
      "Temperature: 0.5\n",
      "####################\n",
      " \n",
      "\n",
      " \n",
      "\n",
      "e\n",
      "\n",
      "####################\n",
      "Temperature: 1.0\n",
      "####################\n",
      "s\n",
      "\n",
      "e\n",
      "\n",
      "o\n",
      "\n",
      "Epoch 35/50\n",
      "103/103 [==============================] - 2s 19ms/step - loss: 1.5485\n",
      "####################\n",
      "Temperature: 0.2\n",
      "####################\n",
      " \n",
      "\n",
      "e\n",
      "\n",
      " \n",
      "\n",
      "####################\n",
      "Temperature: 0.5\n",
      "####################\n",
      " \n",
      "\n",
      " \n",
      "\n",
      "u\n",
      "\n",
      "####################\n",
      "Temperature: 1.0\n",
      "####################\n",
      "u\n",
      "\n",
      "u\n",
      "\n",
      "o\n",
      "\n",
      "Epoch 36/50\n",
      "103/103 [==============================] - 2s 19ms/step - loss: 1.5482\n",
      "####################\n",
      "Temperature: 0.2\n",
      "####################\n",
      " \n",
      "\n",
      " \n",
      "\n",
      " \n",
      "\n",
      "####################\n",
      "Temperature: 0.5\n",
      "####################\n",
      "t\n",
      "\n",
      "h\n",
      "\n",
      "t\n",
      "\n",
      "####################\n",
      "Temperature: 1.0\n",
      "####################\n",
      "c\n",
      "\n",
      "a\n",
      "\n",
      "e\n",
      "\n",
      "Epoch 37/50\n",
      "103/103 [==============================] - 2s 20ms/step - loss: 1.5482\n",
      "####################\n",
      "Temperature: 0.2\n",
      "####################\n",
      " \n",
      "\n",
      " \n",
      "\n",
      " \n",
      "\n",
      "####################\n",
      "Temperature: 0.5\n",
      "####################\n",
      "a\n",
      "\n",
      " \n",
      "\n",
      "e\n",
      "\n",
      "####################\n",
      "Temperature: 1.0\n",
      "####################\n",
      "d\n",
      "\n",
      "l\n",
      "\n",
      "t\n",
      "\n",
      "Epoch 38/50\n",
      "103/103 [==============================] - 2s 19ms/step - loss: 1.5481\n",
      "####################\n",
      "Temperature: 0.2\n",
      "####################\n",
      " \n",
      "\n",
      " \n",
      "\n",
      " \n",
      "\n",
      "####################\n",
      "Temperature: 0.5\n",
      "####################\n",
      "h\n",
      "\n",
      " \n",
      "\n",
      " \n",
      "\n",
      "####################\n",
      "Temperature: 1.0\n",
      "####################\n",
      "s\n",
      "\n",
      "e\n",
      "\n",
      "t\n",
      "\n",
      "Epoch 39/50\n",
      "103/103 [==============================] - 2s 19ms/step - loss: 1.5480\n",
      "####################\n",
      "Temperature: 0.2\n",
      "####################\n",
      " \n",
      "\n",
      " \n",
      "\n",
      " \n",
      "\n",
      "####################\n",
      "Temperature: 0.5\n",
      "####################\n",
      " \n",
      "\n",
      " \n",
      "\n",
      "a\n",
      "\n",
      "####################\n",
      "Temperature: 1.0\n",
      "####################\n",
      "e\n",
      "\n",
      "r\n",
      "\n",
      "a\n",
      "\n",
      "Epoch 40/50\n",
      "103/103 [==============================] - 2s 19ms/step - loss: 1.5477\n",
      "####################\n",
      "Temperature: 0.2\n",
      "####################\n",
      " \n",
      "\n",
      " \n",
      "\n",
      " \n",
      "\n",
      "####################\n",
      "Temperature: 0.5\n",
      "####################\n",
      "t\n",
      "\n",
      "c\n",
      "\n",
      "e\n",
      "\n",
      "####################\n",
      "Temperature: 1.0\n",
      "####################\n",
      "e\n",
      "\n",
      "a\n",
      "\n",
      " \n",
      "\n",
      "Epoch 41/50\n",
      "103/103 [==============================] - 2s 19ms/step - loss: 1.5480\n",
      "####################\n",
      "Temperature: 0.2\n",
      "####################\n",
      " \n",
      "\n",
      " \n",
      "\n",
      " \n",
      "\n",
      "####################\n",
      "Temperature: 0.5\n",
      "####################\n",
      "e\n",
      "\n",
      "e\n",
      "\n",
      "o\n",
      "\n",
      "####################\n",
      "Temperature: 1.0\n",
      "####################\n",
      "\n",
      "\n",
      "\n",
      " \n",
      "\n",
      "p\n",
      "\n",
      "Epoch 42/50\n",
      "103/103 [==============================] - 2s 20ms/step - loss: 1.5478\n",
      "####################\n",
      "Temperature: 0.2\n",
      "####################\n",
      " \n",
      "\n",
      " \n",
      "\n",
      " \n",
      "\n",
      "####################\n",
      "Temperature: 0.5\n",
      "####################\n",
      " \n",
      "\n",
      " \n",
      "\n",
      " \n",
      "\n",
      "####################\n",
      "Temperature: 1.0\n",
      "####################\n",
      "e\n",
      "\n",
      "e\n",
      "\n",
      "o\n",
      "\n",
      "Epoch 43/50\n",
      "103/103 [==============================] - 2s 20ms/step - loss: 1.5476\n",
      "####################\n",
      "Temperature: 0.2\n",
      "####################\n",
      " \n",
      "\n",
      " \n",
      "\n",
      " \n",
      "\n",
      "####################\n",
      "Temperature: 0.5\n",
      "####################\n",
      " \n",
      "\n",
      " \n",
      "\n",
      "l\n",
      "\n",
      "####################\n",
      "Temperature: 1.0\n",
      "####################\n",
      "s\n",
      "\n",
      "o\n",
      "\n",
      "n\n",
      "\n",
      "Epoch 44/50\n",
      "103/103 [==============================] - 2s 20ms/step - loss: 1.5475\n",
      "####################\n",
      "Temperature: 0.2\n",
      "####################\n",
      " \n",
      "\n",
      " \n",
      "\n",
      " \n",
      "\n",
      "####################\n",
      "Temperature: 0.5\n",
      "####################\n",
      " \n",
      "\n",
      "e\n",
      "\n",
      "e\n",
      "\n",
      "####################\n",
      "Temperature: 1.0\n",
      "####################\n",
      " \n",
      "\n",
      "d\n",
      "\n",
      "m\n",
      "\n",
      "Epoch 45/50\n",
      "103/103 [==============================] - 2s 21ms/step - loss: 1.5473\n",
      "####################\n",
      "Temperature: 0.2\n",
      "####################\n",
      " \n",
      "\n",
      " \n",
      "\n",
      " \n",
      "\n",
      "####################\n",
      "Temperature: 0.5\n",
      "####################\n",
      " \n",
      "\n",
      " \n",
      "\n",
      "w\n",
      "\n",
      "####################\n",
      "Temperature: 1.0\n",
      "####################\n",
      "n\n",
      "\n",
      "t\n",
      "\n",
      "s\n",
      "\n",
      "Epoch 46/50\n",
      "103/103 [==============================] - 2s 20ms/step - loss: 1.5470\n",
      "####################\n",
      "Temperature: 0.2\n",
      "####################\n",
      " \n",
      "\n",
      " \n",
      "\n",
      " \n",
      "\n",
      "####################\n",
      "Temperature: 0.5\n",
      "####################\n",
      "y\n",
      "\n",
      "o\n",
      "\n",
      " \n",
      "\n",
      "####################\n",
      "Temperature: 1.0\n",
      "####################\n",
      "e\n",
      "\n",
      " \n",
      "\n",
      " \n",
      "\n",
      "Epoch 47/50\n",
      "103/103 [==============================] - 2s 20ms/step - loss: 1.5468\n",
      "####################\n",
      "Temperature: 0.2\n",
      "####################\n",
      " \n",
      "\n",
      " \n",
      "\n",
      " \n",
      "\n",
      "####################\n",
      "Temperature: 0.5\n",
      "####################\n",
      " \n",
      "\n",
      " \n",
      "\n",
      "g\n",
      "\n",
      "####################\n",
      "Temperature: 1.0\n",
      "####################\n",
      "d\n",
      "\n",
      " \n",
      "\n",
      " \n",
      "\n",
      "Epoch 48/50\n",
      "103/103 [==============================] - 2s 21ms/step - loss: 1.5472\n",
      "####################\n",
      "Temperature: 0.2\n",
      "####################\n",
      "e\n",
      "\n",
      " \n",
      "\n",
      " \n",
      "\n",
      "####################\n",
      "Temperature: 0.5\n",
      "####################\n",
      " \n",
      "\n",
      " \n",
      "\n",
      " \n",
      "\n",
      "####################\n",
      "Temperature: 1.0\n",
      "####################\n",
      " \n",
      "\n",
      " \n",
      "\n",
      "h\n",
      "\n",
      "Epoch 49/50\n",
      "103/103 [==============================] - 2s 21ms/step - loss: 1.5469\n",
      "####################\n",
      "Temperature: 0.2\n",
      "####################\n",
      "e\n",
      "\n",
      " \n",
      "\n",
      " \n",
      "\n",
      "####################\n",
      "Temperature: 0.5\n",
      "####################\n",
      "s\n",
      "\n",
      "a\n",
      "\n",
      " \n",
      "\n",
      "####################\n",
      "Temperature: 1.0\n",
      "####################\n",
      ":\n",
      "\n",
      "u\n",
      "\n",
      "e\n",
      "\n",
      "Epoch 50/50\n",
      "103/103 [==============================] - 2s 21ms/step - loss: 1.5468\n",
      "####################\n",
      "Temperature: 0.2\n",
      "####################\n",
      " \n",
      "\n",
      " \n",
      "\n",
      " \n",
      "\n",
      "####################\n",
      "Temperature: 0.5\n",
      "####################\n",
      " \n",
      "\n",
      " \n",
      "\n",
      "e\n",
      "\n",
      "####################\n",
      "Temperature: 1.0\n",
      "####################\n",
      "o\n",
      "\n",
      "a\n",
      "\n",
      "c\n",
      "\n"
     ]
    }
   ],
   "source": [
    "textgen.train_new_model(get_sonnent(1,10),dropout=0.1)"
   ]
  },
  {
   "cell_type": "code",
   "execution_count": 166,
   "metadata": {
    "ExecuteTime": {
     "end_time": "2019-04-09T04:37:56.563438Z",
     "start_time": "2019-04-09T04:37:56.514773Z"
    }
   },
   "outputs": [
    {
     "name": "stderr",
     "output_type": "stream",
     "text": [
      "100%|██████████| 5/5 [00:00<00:00, 132.62it/s]"
     ]
    },
    {
     "name": "stdout",
     "output_type": "stream",
     "text": [
      "e\n",
      "\n",
      " \n",
      "\n",
      "h\n",
      "\n",
      "e\n",
      "\n",
      "r\n",
      "\n"
     ]
    },
    {
     "name": "stderr",
     "output_type": "stream",
     "text": [
      "\n"
     ]
    }
   ],
   "source": [
    "textgen.generate(5)"
   ]
  },
  {
   "cell_type": "code",
   "execution_count": 150,
   "metadata": {
    "ExecuteTime": {
     "end_time": "2019-04-09T04:06:18.583245Z",
     "start_time": "2019-04-09T04:06:17.859639Z"
    }
   },
   "outputs": [],
   "source": [
    "textgen_2 = textgenrnn(weights_path='textgenrnn_weights.hdf5',\n",
    "                       vocab_path='textgenrnn_vocab.json',\n",
    "                       config_path='textgenrnn_config.json')"
   ]
  },
  {
   "cell_type": "code",
   "execution_count": 155,
   "metadata": {
    "ExecuteTime": {
     "end_time": "2019-04-09T04:07:06.552445Z",
     "start_time": "2019-04-09T04:07:06.527049Z"
    }
   },
   "outputs": [
    {
     "name": "stderr",
     "output_type": "stream",
     "text": [
      "100%|██████████| 5/5 [00:00<00:00, 247.86it/s]"
     ]
    },
    {
     "name": "stdout",
     "output_type": "stream",
     "text": [
      "sonnent\n",
      "\n",
      "sonnent\n",
      "\n",
      "sonnent\n",
      "\n",
      "sonnent\n",
      "\n",
      "sonnent\n",
      "\n"
     ]
    },
    {
     "name": "stderr",
     "output_type": "stream",
     "text": [
      "\n"
     ]
    }
   ],
   "source": [
    "textgen_2.generate(5)"
   ]
  },
  {
   "cell_type": "code",
   "execution_count": 153,
   "metadata": {
    "ExecuteTime": {
     "end_time": "2019-04-09T04:06:44.684983Z",
     "start_time": "2019-04-09T04:06:44.335330Z"
    }
   },
   "outputs": [
    {
     "name": "stdout",
     "output_type": "stream",
     "text": [
      "####################\n",
      "Temperature: 0.2\n",
      "####################\n",
      " \n",
      "\n",
      " \n",
      "\n",
      " \n",
      "\n",
      "####################\n",
      "Temperature: 0.5\n",
      "####################\n",
      "\n",
      "\n",
      "\n",
      " \n",
      "\n",
      " \n",
      "\n",
      "####################\n",
      "Temperature: 1.0\n",
      "####################\n",
      " \n",
      "\n",
      "o\n",
      "\n",
      "’\n",
      "\n"
     ]
    }
   ],
   "source": [
    "textgen_2.generate_samples()"
   ]
  },
  {
   "cell_type": "code",
   "execution_count": 152,
   "metadata": {
    "ExecuteTime": {
     "end_time": "2019-04-09T04:06:34.233094Z",
     "start_time": "2019-04-09T04:06:34.227836Z"
    }
   },
   "outputs": [],
   "source": [
    "?textgen.train_new_model"
   ]
  },
  {
   "cell_type": "code",
   "execution_count": 161,
   "metadata": {
    "ExecuteTime": {
     "end_time": "2019-04-09T04:30:25.371322Z",
     "start_time": "2019-04-09T04:30:17.249136Z"
    }
   },
   "outputs": [
    {
     "name": "stdout",
     "output_type": "stream",
     "text": [
      "180 texts collected.\n",
      "Training new model w/ 2-layer, 64-cell Bidirectional LSTMs\n",
      "Training on 6,410 character sequences.\n",
      "Epoch 1/1\n",
      "50/50 [==============================] - 3s 59ms/step - loss: 3.1068\n",
      "####################\n",
      "Temperature: 0.2\n",
      "####################\n",
      "      lthee the tinon   the the toneange,\n",
      "\n",
      "  lthe theel the theellore e thelthellsthe  then one   the the theay theong the the oned the theloy   theseare,\n",
      "\n",
      "    the   thon the there othe thingong the the theange,\n",
      "\n",
      "####################\n",
      "Temperature: 0.5\n",
      "####################\n",
      "Tororeefed angye tny festherineron theelloemed o .\n",
      "\n",
      "Thinhy  tthin braran tholl thotouslll:\n",
      "\n",
      "Te  tho thintoy theoonouo theistes the,\n",
      "\n",
      "####################\n",
      "Temperature: 1.0\n",
      "####################\n",
      "dteeey?\n",
      "\n",
      "Soouy wryburinuw wwkovefra o.\n",
      "\n",
      "The.\n",
      "\n"
     ]
    }
   ],
   "source": [
    "textgen.reset()\n",
    "textgen.train_from_file('output.txt',\n",
    "                        new_model=True,\n",
    "                        rnn_bidirectional=True,\n",
    "                        rnn_size=64,\n",
    "                        dim_embeddings=300,\n",
    "                        num_epochs=1)"
   ]
  },
  {
   "cell_type": "code",
   "execution_count": 163,
   "metadata": {
    "ExecuteTime": {
     "end_time": "2019-04-09T04:31:15.738943Z",
     "start_time": "2019-04-09T04:31:05.055548Z"
    }
   },
   "outputs": [
    {
     "name": "stderr",
     "output_type": "stream",
     "text": [
      "  4%|▍         | 2/50 [00:00<00:04, 11.14it/s]"
     ]
    },
    {
     "name": "stdout",
     "output_type": "stream",
     "text": [
      "\n",
      "\n",
      "wheemeerel   proAe,\n",
      "\n",
      "Fo  loree,\n",
      "\n"
     ]
    },
    {
     "name": "stderr",
     "output_type": "stream",
     "text": [
      " 12%|█▏        | 6/50 [00:00<00:05,  7.55it/s]"
     ]
    },
    {
     "name": "stdout",
     "output_type": "stream",
     "text": [
      "    d  tingenhed theroone therery thusthroonoure tour thin tty  uon windallor  tereleongde,\n",
      "\n",
      "\n",
      "\n",
      "The y   he tind se  stheere,\n",
      "\n"
     ]
    },
    {
     "name": "stderr",
     "output_type": "stream",
     "text": [
      " 16%|█▌        | 8/50 [00:01<00:08,  4.97it/s]"
     ]
    },
    {
     "name": "stdout",
     "output_type": "stream",
     "text": [
      "Whe ou theelnther  the w  thanotnhelntheinthhounl thre tpreeothey  tere be,\n",
      "\n",
      "See y thed toorel:\n",
      "\n"
     ]
    },
    {
     "name": "stderr",
     "output_type": "stream",
     "text": [
      "\r",
      " 18%|█▊        | 9/50 [00:01<00:09,  4.45it/s]"
     ]
    },
    {
     "name": "stdout",
     "output_type": "stream",
     "text": [
      "u thy  tare outhereaan ty   the thelels gle,\n",
      "\n",
      "Bin ino res \n",
      "\n"
     ]
    },
    {
     "name": "stderr",
     "output_type": "stream",
     "text": [
      "\r",
      " 22%|██▏       | 11/50 [00:02<00:10,  3.65it/s]"
     ]
    },
    {
     "name": "stdout",
     "output_type": "stream",
     "text": [
      "The de  d  wnin ’ thonely  tingeinth on llonweled thothefored thee woorethelangotthemouty  ollleme,\n",
      "\n"
     ]
    },
    {
     "name": "stderr",
     "output_type": "stream",
     "text": [
      "\r",
      " 24%|██▍       | 12/50 [00:02<00:11,  3.42it/s]"
     ]
    },
    {
     "name": "stdout",
     "output_type": "stream",
     "text": [
      "S   honethe  he y  tlon tintorel  theangne tthea.\n",
      "\n"
     ]
    },
    {
     "name": "stderr",
     "output_type": "stream",
     "text": [
      " 30%|███       | 15/50 [00:03<00:09,  3.75it/s]"
     ]
    },
    {
     "name": "stdout",
     "output_type": "stream",
     "text": [
      "     theme oung  os    twerereonmell thepinohy  harered  belowe,\n",
      "\n",
      "illoBe  2ron\n",
      "\n",
      "     thelthond  be,\n",
      "\n"
     ]
    },
    {
     "name": "stderr",
     "output_type": "stream",
     "text": [
      "\r",
      " 32%|███▏      | 16/50 [00:04<00:10,  3.13it/s]"
     ]
    },
    {
     "name": "stdout",
     "output_type": "stream",
     "text": [
      "    o  t ore be nothheothed   than thouney  tthoond ting he wtheeson winteanthe ds  llondtheare,\n",
      "\n"
     ]
    },
    {
     "name": "stderr",
     "output_type": "stream",
     "text": [
      "\r",
      " 34%|███▍      | 17/50 [00:04<00:11,  2.82it/s]"
     ]
    },
    {
     "name": "stdout",
     "output_type": "stream",
     "text": [
      "The we thon oy    th3o  y    be whe rongengeearerforen  te t ongy  tunthpan :\n",
      "\n",
      "\n",
      "\n",
      "\n",
      "\n",
      "\n",
      "\n"
     ]
    },
    {
     "name": "stderr",
     "output_type": "stream",
     "text": [
      " 44%|████▍     | 22/50 [00:05<00:06,  4.00it/s]"
     ]
    },
    {
     "name": "stdout",
     "output_type": "stream",
     "text": [
      "Thellorein  wing uthone gorellloG thinthare l therealll 4e,\n",
      "\n",
      "che langthe  sthoforfongonge\n",
      "\n",
      "\n",
      "\n"
     ]
    },
    {
     "name": "stderr",
     "output_type": "stream",
     "text": [
      "\r",
      " 48%|████▊     | 24/50 [00:05<00:05,  4.59it/s]"
     ]
    },
    {
     "name": "stdout",
     "output_type": "stream",
     "text": [
      "Oo  dtheked sthel theonge there ’sthean dke,\n",
      "\n"
     ]
    },
    {
     "name": "stderr",
     "output_type": "stream",
     "text": [
      " 56%|█████▌    | 28/50 [00:06<00:05,  4.30it/s]"
     ]
    },
    {
     "name": "stdout",
     "output_type": "stream",
     "text": [
      "Whorun  on   l thoy thouseindy  tinelus ufenhereond  athe thdd tbreeringy ongin ce,\n",
      "\n",
      "\n",
      "\n",
      "Whe he   the,\n",
      "\n",
      "f   pare,\n",
      "\n",
      "ehoose woun oon inged wouthed thind lge the  thebeseprerethele,\n",
      "\n"
     ]
    },
    {
     "name": "stderr",
     "output_type": "stream",
     "text": [
      "\r",
      " 60%|██████    | 30/50 [00:06<00:05,  3.89it/s]"
     ]
    },
    {
     "name": "stdout",
     "output_type": "stream",
     "text": [
      " o  g hey   pere  on thestheme lray pan  llld  thereeseooundfos donteme,\n",
      "\n"
     ]
    },
    {
     "name": "stderr",
     "output_type": "stream",
     "text": [
      "\r",
      " 62%|██████▏   | 31/50 [00:06<00:05,  3.74it/s]"
     ]
    },
    {
     "name": "stdout",
     "output_type": "stream",
     "text": [
      "   the winthme  vee lingathe oresoreton  rore,\n",
      "\n"
     ]
    },
    {
     "name": "stderr",
     "output_type": "stream",
     "text": [
      " 66%|██████▌   | 33/50 [00:07<00:04,  4.05it/s]"
     ]
    },
    {
     "name": "stdout",
     "output_type": "stream",
     "text": [
      "o   one  whelingeperus toreld thelonwonorindthe e.\n",
      "\n",
      "The wingworeke  mere,\n",
      "\n"
     ]
    },
    {
     "name": "stderr",
     "output_type": "stream",
     "text": [
      " 72%|███████▏  | 36/50 [00:07<00:02,  5.91it/s]"
     ]
    },
    {
     "name": "stdout",
     "output_type": "stream",
     "text": [
      "Be tn  tig   the.\n",
      "\n",
      " \n",
      "\n",
      "S   sthethe ealomee e,\n",
      "\n",
      "\n",
      "\n",
      "\n",
      "\n",
      "\n",
      "\n"
     ]
    },
    {
     "name": "stderr",
     "output_type": "stream",
     "text": [
      "\r",
      " 80%|████████  | 40/50 [00:07<00:01,  7.61it/s]"
     ]
    },
    {
     "name": "stdout",
     "output_type": "stream",
     "text": [
      "O  ldoute thllothy twon o,\n",
      "\n",
      "Bu the ty   lothaleapeseas tThoningely ty thaothe.\n",
      "\n"
     ]
    },
    {
     "name": "stderr",
     "output_type": "stream",
     "text": [
      "\r",
      " 84%|████████▍ | 42/50 [00:08<00:01,  5.77it/s]"
     ]
    },
    {
     "name": "stdout",
     "output_type": "stream",
     "text": [
      "   te wivhe oes   thue tos  thethe tou troundels lthvee,\n",
      "\n",
      "\n",
      "\n"
     ]
    },
    {
     "name": "stderr",
     "output_type": "stream",
     "text": [
      "\r",
      " 88%|████████▊ | 44/50 [00:08<00:00,  6.21it/s]"
     ]
    },
    {
     "name": "stdout",
     "output_type": "stream",
     "text": [
      "    the whe peelon  t thmy  y d oreloy   orene,\n",
      "\n"
     ]
    },
    {
     "name": "stderr",
     "output_type": "stream",
     "text": [
      "\r",
      " 90%|█████████ | 45/50 [00:09<00:01,  3.57it/s]"
     ]
    },
    {
     "name": "stdout",
     "output_type": "stream",
     "text": [
      "A   theeserehearveremeeaestemin oheagforohe olthine,ringeme,o th wone thoy tpean n the ten tnthes  thellelllhing the wonee,\n",
      "\n"
     ]
    },
    {
     "name": "stderr",
     "output_type": "stream",
     "text": [
      "\r",
      " 92%|█████████▏| 46/50 [00:09<00:01,  3.87it/s]"
     ]
    },
    {
     "name": "stdout",
     "output_type": "stream",
     "text": [
      "q   alllathebe oweean  tntheiunglthese  l.\n",
      "\n",
      "\n",
      "\n"
     ]
    },
    {
     "name": "stderr",
     "output_type": "stream",
     "text": [
      "\r",
      " 96%|█████████▌| 48/50 [00:09<00:00,  3.90it/s]"
     ]
    },
    {
     "name": "stdout",
     "output_type": "stream",
     "text": [
      "    llthre ting ke tun ttou tongbeaere tre tangeoongld t e  Whety thgon we the linged thlongengef lortheathe\n",
      "\n"
     ]
    },
    {
     "name": "stderr",
     "output_type": "stream",
     "text": [
      "\r",
      " 98%|█████████▊| 49/50 [00:10<00:00,  3.98it/s]"
     ]
    },
    {
     "name": "stdout",
     "output_type": "stream",
     "text": [
      "S or woray  8veling che thedorearinged ton  fongve,\n",
      "\n"
     ]
    },
    {
     "name": "stderr",
     "output_type": "stream",
     "text": [
      "\r",
      "100%|██████████| 50/50 [00:10<00:00,  3.14it/s]"
     ]
    },
    {
     "name": "stdout",
     "output_type": "stream",
     "text": [
      "h   oon le t the othe  towingonthe foretg the thing y thve titonge t ngolfthy  te,\n",
      "\n"
     ]
    },
    {
     "name": "stderr",
     "output_type": "stream",
     "text": [
      "\n"
     ]
    }
   ],
   "source": [
    "textgen.generate(50)"
   ]
  },
  {
   "cell_type": "code",
   "execution_count": 164,
   "metadata": {
    "ExecuteTime": {
     "end_time": "2019-04-09T04:32:09.180680Z",
     "start_time": "2019-04-09T04:32:07.609352Z"
    }
   },
   "outputs": [
    {
     "name": "stdout",
     "output_type": "stream",
     "text": [
      "####################\n",
      "Temperature: 0.2\n",
      "####################\n",
      "Thethe theon o wore therelelllld therele,\n",
      "\n",
      "       the the the onellongelld   tore,\n",
      "\n",
      "   o  fon l  won oton onge,\n",
      "\n",
      "####################\n",
      "Temperature: 0.5\n",
      "####################\n",
      "   t rovingoosd indthythetindtheanellfureldorerorereefresoramere th  wlthy t totthengetre  meres thy aresy  she oringouthegom wey  rosut thinthe  thelllnderete:\n",
      "\n",
      "\n",
      "\n",
      "The  fore y  the.\n",
      "\n",
      "####################\n",
      "Temperature: 1.0\n",
      "####################\n",
      "Whed  howCsey\n",
      "\n",
      "2Wheineos nentyf.\n",
      "\n",
      "TThay fuame.\n",
      "\n"
     ]
    }
   ],
   "source": [
    "textgen.generate_samples()"
   ]
  },
  {
   "cell_type": "code",
   "execution_count": 160,
   "metadata": {
    "ExecuteTime": {
     "end_time": "2019-04-09T04:30:01.815022Z",
     "start_time": "2019-04-09T04:30:01.811430Z"
    }
   },
   "outputs": [],
   "source": [
    "with open('output.txt', 'w') as file: \n",
    "    file.write(get_sonnent(1,10))"
   ]
  },
  {
   "cell_type": "markdown",
   "metadata": {
    "colab_type": "text",
    "id": "zE4a4O7Bp5x1"
   },
   "source": [
    "# Resources and Stretch Goals"
   ]
  },
  {
   "cell_type": "markdown",
   "metadata": {
    "colab_type": "text",
    "id": "uT3UV3gap9H6"
   },
   "source": [
    "## Stretch goals:\n",
    "- Refine the training and generation of text to be able to ask for different genres/styles of Shakespearean text (e.g. plays versus sonnets)\n",
    "- Train a classification model that takes text and returns which work of Shakespeare it is most likely to be from\n",
    "- Make it more performant! Many possible routes here - lean on Keras, optimize the code, and/or use more resources (AWS, etc.)\n",
    "- Revisit the news example from class, and improve it - use categories or tags to refine the model/generation, or train a news classifier\n",
    "- Run on bigger, better data\n",
    "\n",
    "## Resources:\n",
    "- [The Unreasonable Effectiveness of Recurrent Neural Networks](https://karpathy.github.io/2015/05/21/rnn-effectiveness/) - a seminal writeup demonstrating a simple but effective character-level NLP RNN\n",
    "- [Simple NumPy implementation of RNN](https://github.com/JY-Yoon/RNN-Implementation-using-NumPy/blob/master/RNN%20Implementation%20using%20NumPy.ipynb) - Python 3 version of the code from \"Unreasonable Effectiveness\"\n",
    "- [TensorFlow RNN Tutorial](https://github.com/tensorflow/models/tree/master/tutorials/rnn) - code for training a RNN on the Penn Tree Bank language dataset\n",
    "- [4 part tutorial on RNN](http://www.wildml.com/2015/09/recurrent-neural-networks-tutorial-part-1-introduction-to-rnns/) - relates RNN to the vanishing gradient problem, and provides example implementation\n",
    "- [RNN training tips and tricks](https://github.com/karpathy/char-rnn#tips-and-tricks) - some rules of thumb for parameterizing and training your RNN"
   ]
  }
 ],
 "metadata": {
  "accelerator": "GPU",
  "colab": {
   "collapsed_sections": [],
   "name": "LS_DS_441_RNN_and_LSTM.ipynb",
   "provenance": [],
   "version": "0.3.2"
  },
  "kernelspec": {
   "display_name": "Python 3",
   "language": "python",
   "name": "python3"
  },
  "language_info": {
   "codemirror_mode": {
    "name": "ipython",
    "version": 3
   },
   "file_extension": ".py",
   "mimetype": "text/x-python",
   "name": "python",
   "nbconvert_exporter": "python",
   "pygments_lexer": "ipython3",
   "version": "3.6.6"
  },
  "latex_envs": {
   "LaTeX_envs_menu_present": true,
   "autoclose": false,
   "autocomplete": true,
   "bibliofile": "biblio.bib",
   "cite_by": "apalike",
   "current_citInitial": 1,
   "eqLabelWithNumbers": true,
   "eqNumInitial": 1,
   "hotkeys": {
    "equation": "Ctrl-E",
    "itemize": "Ctrl-I"
   },
   "labels_anchors": false,
   "latex_user_defs": false,
   "report_style_numbering": false,
   "user_envs_cfg": false
  }
 },
 "nbformat": 4,
 "nbformat_minor": 1
}
