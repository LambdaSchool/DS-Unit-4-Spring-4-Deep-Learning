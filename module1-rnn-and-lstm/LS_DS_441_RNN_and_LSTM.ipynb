{
 "cells": [
  {
   "cell_type": "markdown",
   "metadata": {
    "colab_type": "text",
    "id": "_IizNKWLomoA"
   },
   "source": [
    "<img align=\"left\" src=\"https://lever-client-logos.s3.amazonaws.com/864372b1-534c-480e-acd5-9711f850815c-1524247202159.png\" width=200>\n",
    "<br></br>\n",
    "<br></br>\n",
    "\n",
    "## *Data Science Unit 4 Sprint 4 Lesson 1*\n",
    "\n",
    "# Recurrent Neural Networks and Long Short Term Memory (LSTM)\n",
    "## _aka_ PREDICTING THE FUTURE!\n",
    "\n",
    "<img src=\"https://media.giphy.com/media/l2JJu8U8SoHhQEnoQ/giphy.gif\" width=480 height=356>\n",
    "<br></br>\n",
    "<br></br>\n",
    "\n",
    "> \"Yesterday's just a memory - tomorrow is never what it's supposed to be.\" -- Bob Dylan\n",
    "\n",
    "Wish you could save [Time In A Bottle](https://www.youtube.com/watch?v=AnWWj6xOleY)? With statistics you can do the next best thing - understand how data varies over time (or any sequential order), and use the order/time dimension predictively.\n",
    "\n",
    "A sequence is just any enumerated collection - order counts, and repetition is allowed. Python lists are a good elemental example - `[1, 2, 2, -1]` is a valid list, and is different from `[1, 2, -1, 2]`. The data structures we tend to use (e.g. NumPy arrays) are often built on this fundamental structure.\n",
    "\n",
    "A time series is data where you have not just the order but some actual continuous marker for where they lie \"in time\" - this could be a date, a timestamp, [Unix time](https://en.wikipedia.org/wiki/Unix_time), or something else. All time series are also sequences, and for some techniques you may just consider their order and not \"how far apart\" the entries are (if you have particularly consistent data collected at regular intervals it may not matter)."
   ]
  },
  {
   "cell_type": "markdown",
   "metadata": {
    "colab_type": "text",
    "id": "5_m0hJ4uCzHz"
   },
   "source": [
    "## Time series with plain old regression\n",
    "\n",
    "Recurrences are fancy, and we'll get to those later - let's start with something simple. Regression can handle time series just fine if you just set them up correctly - let's try some made-up stock data. And to make it, let's use a few list comprehensions!"
   ]
  },
  {
   "cell_type": "code",
   "execution_count": 1,
   "metadata": {
    "colab": {},
    "colab_type": "code",
    "id": "GkJUFfsgnqr_"
   },
   "outputs": [],
   "source": [
    "import numpy as np\n",
    "from random import random\n",
    "days = np.array((range(28)))\n",
    "stock_quotes = np.array([random() + day * random() for day in days])"
   ]
  },
  {
   "cell_type": "code",
   "execution_count": 2,
   "metadata": {
    "colab": {
     "base_uri": "https://localhost:8080/",
     "height": 121
    },
    "colab_type": "code",
    "id": "y-ORgKGNBOcb",
    "outputId": "133809e1-8588-4acb-f07e-20dfefcd03ce"
   },
   "outputs": [
    {
     "data": {
      "text/plain": [
       "array([ 0.14261328,  1.25380364,  2.49916371,  2.53349667,  2.45625411,\n",
       "        1.22165415,  5.59628273,  3.40407725,  7.42920286,  3.09443965,\n",
       "        3.62780513,  9.9827386 ,  2.84090368,  6.01088501,  4.74887408,\n",
       "        1.89603881,  1.29688556,  1.76106082, 17.00245465, 15.57873554,\n",
       "       20.80632416, 12.05859781, 10.07714419, 10.3791746 , 21.85046734,\n",
       "       18.57523295,  5.83932518, 17.23909756])"
      ]
     },
     "execution_count": 2,
     "metadata": {},
     "output_type": "execute_result"
    }
   ],
   "source": [
    "stock_quotes"
   ]
  },
  {
   "cell_type": "markdown",
   "metadata": {
    "colab_type": "text",
    "id": "X3lR2wGvBx3a"
   },
   "source": [
    "Let's take a look with a scatter plot:"
   ]
  },
  {
   "cell_type": "code",
   "execution_count": 4,
   "metadata": {
    "colab": {
     "base_uri": "https://localhost:8080/",
     "height": 364
    },
    "colab_type": "code",
    "id": "pVUTC2tmBSIq",
    "outputId": "75664a71-713d-4815-d4cc-2055f485784a"
   },
   "outputs": [],
   "source": [
    "from matplotlib.pyplot import scatter\n",
    "scatter(days, stock_quotes);"
   ]
  },
  {
   "cell_type": "markdown",
   "metadata": {
    "colab_type": "text",
    "id": "hgD4q-T_B0jd"
   },
   "source": [
    "Looks pretty linear, let's try a simple OLS regression.\n",
    "\n",
    "First, these need to be NumPy arrays:"
   ]
  },
  {
   "cell_type": "code",
   "execution_count": 6,
   "metadata": {
    "colab": {},
    "colab_type": "code",
    "id": "A3Q0MrnUBXAl"
   },
   "outputs": [],
   "source": [
    "days = days.reshape(-1, 1)  # X needs to be column vectors"
   ]
  },
  {
   "cell_type": "code",
   "execution_count": 7,
   "metadata": {},
   "outputs": [
    {
     "data": {
      "text/plain": [
       "array([[ 0],\n",
       "       [ 1],\n",
       "       [ 2],\n",
       "       [ 3],\n",
       "       [ 4],\n",
       "       [ 5],\n",
       "       [ 6],\n",
       "       [ 7],\n",
       "       [ 8],\n",
       "       [ 9],\n",
       "       [10],\n",
       "       [11],\n",
       "       [12],\n",
       "       [13],\n",
       "       [14],\n",
       "       [15],\n",
       "       [16],\n",
       "       [17],\n",
       "       [18],\n",
       "       [19],\n",
       "       [20],\n",
       "       [21],\n",
       "       [22],\n",
       "       [23],\n",
       "       [24],\n",
       "       [25],\n",
       "       [26],\n",
       "       [27]])"
      ]
     },
     "execution_count": 7,
     "metadata": {},
     "output_type": "execute_result"
    }
   ],
   "source": [
    "days"
   ]
  },
  {
   "cell_type": "markdown",
   "metadata": {
    "colab_type": "text",
    "id": "vqr0SHOnB5yR"
   },
   "source": [
    "Now let's use good old `scikit-learn` and linear regression:"
   ]
  },
  {
   "cell_type": "code",
   "execution_count": 8,
   "metadata": {
    "colab": {
     "base_uri": "https://localhost:8080/",
     "height": 34
    },
    "colab_type": "code",
    "id": "PqyHxgFvBYl5",
    "outputId": "0d4a183e-fdb3-4e97-c8be-ab31a82b07ff"
   },
   "outputs": [
    {
     "data": {
      "text/plain": [
       "0.6968389765716843"
      ]
     },
     "execution_count": 8,
     "metadata": {},
     "output_type": "execute_result"
    }
   ],
   "source": [
    "from sklearn.linear_model import LinearRegression\n",
    "ols_stocks = LinearRegression()\n",
    "ols_stocks.fit(days, stock_quotes)\n",
    "ols_stocks.score(days, stock_quotes)"
   ]
  },
  {
   "cell_type": "markdown",
   "metadata": {
    "colab_type": "text",
    "id": "KlU0mr-KB_Yk"
   },
   "source": [
    "That seems to work pretty well, but real stocks don't work like this.\n",
    "\n",
    "Let's make *slightly* more realistic data that depends on more than just time:"
   ]
  },
  {
   "cell_type": "code",
   "execution_count": 9,
   "metadata": {
    "colab": {},
    "colab_type": "code",
    "id": "-FV1Emb2BuLz"
   },
   "outputs": [],
   "source": [
    "# Not everything is best as a comprehension\n",
    "stock_data = np.empty([len(days), 4])\n",
    "for day in days:\n",
    "  asset = random()\n",
    "  liability = random()\n",
    "  quote = random() + ((day * random()) + (20 * asset) - (15 * liability))\n",
    "  quote = max(quote, 0.01)  # Want positive quotes\n",
    "  stock_data[day] = np.array([quote, day, asset, liability])"
   ]
  },
  {
   "cell_type": "code",
   "execution_count": 10,
   "metadata": {
    "colab": {
     "base_uri": "https://localhost:8080/",
     "height": 503
    },
    "colab_type": "code",
    "id": "6Qe2zzN1CESe",
    "outputId": "5b0cafbf-3a47-40cf-8bc3-38f2dc084e91"
   },
   "outputs": [
    {
     "data": {
      "text/plain": [
       "array([[9.05723934e+00, 0.00000000e+00, 9.56023249e-01, 6.98490857e-01],\n",
       "       [2.38163270e+00, 1.00000000e+00, 6.70071264e-01, 7.93733010e-01],\n",
       "       [9.25461794e+00, 2.00000000e+00, 5.40512297e-01, 1.51972093e-01],\n",
       "       [1.00000000e-02, 3.00000000e+00, 1.63095671e-02, 9.30349614e-01],\n",
       "       [7.95655698e+00, 4.00000000e+00, 9.84293580e-01, 8.69474324e-01],\n",
       "       [9.43934867e+00, 5.00000000e+00, 8.26889236e-01, 7.81725428e-01],\n",
       "       [1.42818497e+01, 6.00000000e+00, 7.27302512e-01, 8.60659660e-02],\n",
       "       [1.00000000e-02, 7.00000000e+00, 1.86281371e-01, 9.88329590e-01],\n",
       "       [1.11769741e+01, 8.00000000e+00, 6.19635704e-01, 3.54256062e-01],\n",
       "       [1.00000000e-02, 9.00000000e+00, 1.84461709e-01, 9.21641433e-01],\n",
       "       [1.39413301e+01, 1.00000000e+01, 5.03158693e-01, 3.60250365e-01],\n",
       "       [2.78023032e+00, 1.10000000e+01, 3.64973380e-01, 8.99437778e-01],\n",
       "       [1.00000000e-02, 1.20000000e+01, 2.98060145e-01, 5.16205010e-01],\n",
       "       [1.74368781e+01, 1.30000000e+01, 7.65246124e-01, 1.18377211e-01],\n",
       "       [7.17798928e-01, 1.40000000e+01, 3.07320130e-01, 9.69961555e-01],\n",
       "       [1.90202801e+01, 1.50000000e+01, 8.32305465e-01, 8.42145111e-01],\n",
       "       [1.63175112e+01, 1.60000000e+01, 5.89772075e-01, 7.06596914e-01],\n",
       "       [1.00179454e+01, 1.70000000e+01, 6.89201058e-01, 3.57800809e-01],\n",
       "       [5.81697776e+00, 1.80000000e+01, 1.16537574e-01, 9.72630443e-01],\n",
       "       [1.30780034e+01, 1.90000000e+01, 1.03735301e-01, 3.88444319e-01],\n",
       "       [1.14731804e+01, 2.00000000e+01, 4.58876442e-01, 9.43347065e-01],\n",
       "       [1.00000000e-02, 2.10000000e+01, 3.45936676e-01, 8.88333600e-01],\n",
       "       [2.36747246e+01, 2.20000000e+01, 9.08047670e-01, 2.88574985e-01],\n",
       "       [2.99391530e+01, 2.30000000e+01, 8.61296607e-01, 4.74427810e-01],\n",
       "       [2.61123589e+00, 2.40000000e+01, 7.57434983e-01, 8.97118419e-01],\n",
       "       [1.03865362e+01, 2.50000000e+01, 4.93640447e-01, 4.88997520e-01],\n",
       "       [1.08528713e+01, 2.60000000e+01, 1.51161285e-01, 2.54503988e-02],\n",
       "       [3.91116288e+00, 2.70000000e+01, 3.81532291e-01, 7.46235811e-01]])"
      ]
     },
     "execution_count": 10,
     "metadata": {},
     "output_type": "execute_result"
    }
   ],
   "source": [
    "stock_data"
   ]
  },
  {
   "cell_type": "markdown",
   "metadata": {
    "colab_type": "text",
    "id": "BzYy4Pb2CLCh"
   },
   "source": [
    "Let's look again:"
   ]
  },
  {
   "cell_type": "code",
   "execution_count": 15,
   "metadata": {
    "colab": {
     "base_uri": "https://localhost:8080/",
     "height": 364
    },
    "colab_type": "code",
    "id": "qdBcScz4CIXr",
    "outputId": "ad3ec81f-8fba-4355-d251-630ba5fc333c"
   },
   "outputs": [
    {
     "data": {
      "image/png": "[encoded data removed]",
      "text/plain": [
       "<Figure size 432x288 with 1 Axes>"
      ]
     },
     "metadata": {
      "needs_background": "light"
     },
     "output_type": "display_data"
    }
   ],
   "source": [
    "stock_quotes = stock_data[:,0]\n",
    "scatter(days, stock_quotes);"
   ]
  },
  {
   "cell_type": "markdown",
   "metadata": {
    "colab_type": "text",
    "id": "SBXb7dieCO5h"
   },
   "source": [
    "How does our old model do?"
   ]
  },
  {
   "cell_type": "code",
   "execution_count": 19,
   "metadata": {
    "colab": {
     "base_uri": "https://localhost:8080/",
     "height": 34
    },
    "colab_type": "code",
    "id": "7gAxCgy1COnX",
    "outputId": "ab82d066-952b-4719-e252-f679badb7b91"
   },
   "outputs": [
    {
     "data": {
      "text/plain": [
       "0.20847067946226758"
      ]
     },
     "execution_count": 19,
     "metadata": {},
     "output_type": "execute_result"
    }
   ],
   "source": [
    "days = np.array(days).reshape(-1, 1)\n",
    "ols_stocks.fit(days, stock_quotes)\n",
    "ols_stocks.score(days, stock_quotes)"
   ]
  },
  {
   "cell_type": "markdown",
   "metadata": {
    "colab_type": "text",
    "id": "3E94vTFUCax_"
   },
   "source": [
    "Not bad, but can we do better?"
   ]
  },
  {
   "cell_type": "code",
   "execution_count": 20,
   "metadata": {
    "colab": {
     "base_uri": "https://localhost:8080/",
     "height": 34
    },
    "colab_type": "code",
    "id": "mCR5GImZCbGz",
    "outputId": "9c0ef176-cb6e-4727-bdab-02f22a663b20"
   },
   "outputs": [
    {
     "data": {
      "text/plain": [
       "0.7339129170619629"
      ]
     },
     "execution_count": 20,
     "metadata": {},
     "output_type": "execute_result"
    }
   ],
   "source": [
    "ols_stocks.fit(stock_data[:,1:], stock_quotes)\n",
    "ols_stocks.score(stock_data[:,1:], stock_quotes)"
   ]
  },
  {
   "cell_type": "markdown",
   "metadata": {
    "colab_type": "text",
    "id": "1Qk-jlBCCiKB"
   },
   "source": [
    "Yep - unsurprisingly, the other covariates (assets and liabilities) have info.\n",
    "\n",
    "But, they do worse without the day data."
   ]
  },
  {
   "cell_type": "code",
   "execution_count": 21,
   "metadata": {
    "colab": {
     "base_uri": "https://localhost:8080/",
     "height": 34
    },
    "colab_type": "code",
    "id": "dDcZl7I5Cf5D",
    "outputId": "3cbd0a6e-2aa6-4f21-dbb3-66ef266f782b"
   },
   "outputs": [
    {
     "data": {
      "text/plain": [
       "0.4460386712023316"
      ]
     },
     "execution_count": 21,
     "metadata": {},
     "output_type": "execute_result"
    }
   ],
   "source": [
    "ols_stocks.fit(stock_data[:,2:], stock_quotes)\n",
    "ols_stocks.score(stock_data[:,2:], stock_quotes)"
   ]
  },
  {
   "cell_type": "markdown",
   "metadata": {
    "colab_type": "text",
    "id": "pnLXlrK8ENjb"
   },
   "source": [
    "## Time series jargon\n",
    "\n",
    "There's a lot of semi-standard language and tricks to talk about this sort of data. [NIST](https://www.itl.nist.gov/div898/handbook/pmc/section4/pmc4.htm) has an excellent guidebook, but here are some highlights:"
   ]
  },
  {
   "cell_type": "markdown",
   "metadata": {
    "colab_type": "text",
    "id": "yWUyhnTbcq55"
   },
   "source": [
    "### Moving average\n",
    "\n",
    "Moving average aka rolling average aka running average.\n",
    "\n",
    "Convert a series of data to a series of averages of continguous subsets:"
   ]
  },
  {
   "cell_type": "code",
   "execution_count": 17,
   "metadata": {
    "colab": {
     "base_uri": "https://localhost:8080/",
     "height": 503
    },
    "colab_type": "code",
    "id": "47bHhBSCcvw-",
    "outputId": "ee6bc38c-43d1-4d12-def3-fa409c9dcac4"
   },
   "outputs": [
    {
     "data": {
      "text/plain": [
       "[6.897829993918333,\n",
       " 3.882083547472718,\n",
       " 5.7403916394708565,\n",
       " 5.801968548137196,\n",
       " 10.559251766637091,\n",
       " 7.910399440357384,\n",
       " 8.48960791242254,\n",
       " 3.732324693922642,\n",
       " 8.376101406736145,\n",
       " 5.577186818261338,\n",
       " 5.577186818261338,\n",
       " 6.742369473793609,\n",
       " 6.0548923444358325,\n",
       " 12.391652372601184,\n",
       " 12.018530057583584,\n",
       " 15.118578866143261,\n",
       " 10.717478091262606,\n",
       " 9.63764217344601,\n",
       " 10.122720520605549,\n",
       " 8.187061267320853,\n",
       " 11.719301648527557,\n",
       " 17.8746258653505,\n",
       " 18.741704495466678,\n",
       " 14.312308367125896,\n",
       " 7.950214436975389,\n",
       " 8.383523432923406,\n",
       " 4.92134471121257,\n",
       " 1.3037209593975294]"
      ]
     },
     "execution_count": 17,
     "metadata": {},
     "output_type": "execute_result"
    }
   ],
   "source": [
    "stock_quotes_rolling = [sum(stock_quotes[i:i+3]) / 3\n",
    "                        for i in range(len(stock_quotes - 2))]\n",
    "stock_quotes_rolling"
   ]
  },
  {
   "cell_type": "markdown",
   "metadata": {
    "colab_type": "text",
    "id": "36XvbGhoc186"
   },
   "source": [
    "Pandas has nice series related functions:"
   ]
  },
  {
   "cell_type": "code",
   "execution_count": 18,
   "metadata": {
    "colab": {
     "base_uri": "https://localhost:8080/",
     "height": 928
    },
    "colab_type": "code",
    "id": "nTNatxtycys_",
    "outputId": "65cf7f83-a475-435f-97cc-b0fc72d85f19"
   },
   "outputs": [
    {
     "data": {
      "text/html": [
       "<div>\n",
       "<style scoped>\n",
       "    .dataframe tbody tr th:only-of-type {\n",
       "        vertical-align: middle;\n",
       "    }\n",
       "\n",
       "    .dataframe tbody tr th {\n",
       "        vertical-align: top;\n",
       "    }\n",
       "\n",
       "    .dataframe thead th {\n",
       "        text-align: right;\n",
       "    }\n",
       "</style>\n",
       "<table border=\"1\" class=\"dataframe\">\n",
       "  <thead>\n",
       "    <tr style=\"text-align: right;\">\n",
       "      <th></th>\n",
       "      <th>0</th>\n",
       "    </tr>\n",
       "  </thead>\n",
       "  <tbody>\n",
       "    <tr>\n",
       "      <th>0</th>\n",
       "      <td>NaN</td>\n",
       "    </tr>\n",
       "    <tr>\n",
       "      <th>1</th>\n",
       "      <td>NaN</td>\n",
       "    </tr>\n",
       "    <tr>\n",
       "      <th>2</th>\n",
       "      <td>6.897830</td>\n",
       "    </tr>\n",
       "    <tr>\n",
       "      <th>3</th>\n",
       "      <td>3.882084</td>\n",
       "    </tr>\n",
       "    <tr>\n",
       "      <th>4</th>\n",
       "      <td>5.740392</td>\n",
       "    </tr>\n",
       "    <tr>\n",
       "      <th>5</th>\n",
       "      <td>5.801969</td>\n",
       "    </tr>\n",
       "    <tr>\n",
       "      <th>6</th>\n",
       "      <td>10.559252</td>\n",
       "    </tr>\n",
       "    <tr>\n",
       "      <th>7</th>\n",
       "      <td>7.910399</td>\n",
       "    </tr>\n",
       "    <tr>\n",
       "      <th>8</th>\n",
       "      <td>8.489608</td>\n",
       "    </tr>\n",
       "    <tr>\n",
       "      <th>9</th>\n",
       "      <td>3.732325</td>\n",
       "    </tr>\n",
       "    <tr>\n",
       "      <th>10</th>\n",
       "      <td>8.376101</td>\n",
       "    </tr>\n",
       "    <tr>\n",
       "      <th>11</th>\n",
       "      <td>5.577187</td>\n",
       "    </tr>\n",
       "    <tr>\n",
       "      <th>12</th>\n",
       "      <td>5.577187</td>\n",
       "    </tr>\n",
       "    <tr>\n",
       "      <th>13</th>\n",
       "      <td>6.742369</td>\n",
       "    </tr>\n",
       "    <tr>\n",
       "      <th>14</th>\n",
       "      <td>6.054892</td>\n",
       "    </tr>\n",
       "    <tr>\n",
       "      <th>15</th>\n",
       "      <td>12.391652</td>\n",
       "    </tr>\n",
       "    <tr>\n",
       "      <th>16</th>\n",
       "      <td>12.018530</td>\n",
       "    </tr>\n",
       "    <tr>\n",
       "      <th>17</th>\n",
       "      <td>15.118579</td>\n",
       "    </tr>\n",
       "    <tr>\n",
       "      <th>18</th>\n",
       "      <td>10.717478</td>\n",
       "    </tr>\n",
       "    <tr>\n",
       "      <th>19</th>\n",
       "      <td>9.637642</td>\n",
       "    </tr>\n",
       "    <tr>\n",
       "      <th>20</th>\n",
       "      <td>10.122721</td>\n",
       "    </tr>\n",
       "    <tr>\n",
       "      <th>21</th>\n",
       "      <td>8.187061</td>\n",
       "    </tr>\n",
       "    <tr>\n",
       "      <th>22</th>\n",
       "      <td>11.719302</td>\n",
       "    </tr>\n",
       "    <tr>\n",
       "      <th>23</th>\n",
       "      <td>17.874626</td>\n",
       "    </tr>\n",
       "    <tr>\n",
       "      <th>24</th>\n",
       "      <td>18.741704</td>\n",
       "    </tr>\n",
       "    <tr>\n",
       "      <th>25</th>\n",
       "      <td>14.312308</td>\n",
       "    </tr>\n",
       "    <tr>\n",
       "      <th>26</th>\n",
       "      <td>7.950214</td>\n",
       "    </tr>\n",
       "    <tr>\n",
       "      <th>27</th>\n",
       "      <td>8.383523</td>\n",
       "    </tr>\n",
       "  </tbody>\n",
       "</table>\n",
       "</div>"
      ],
      "text/plain": [
       "            0\n",
       "0         NaN\n",
       "1         NaN\n",
       "2    6.897830\n",
       "3    3.882084\n",
       "4    5.740392\n",
       "5    5.801969\n",
       "6   10.559252\n",
       "7    7.910399\n",
       "8    8.489608\n",
       "9    3.732325\n",
       "10   8.376101\n",
       "11   5.577187\n",
       "12   5.577187\n",
       "13   6.742369\n",
       "14   6.054892\n",
       "15  12.391652\n",
       "16  12.018530\n",
       "17  15.118579\n",
       "18  10.717478\n",
       "19   9.637642\n",
       "20  10.122721\n",
       "21   8.187061\n",
       "22  11.719302\n",
       "23  17.874626\n",
       "24  18.741704\n",
       "25  14.312308\n",
       "26   7.950214\n",
       "27   8.383523"
      ]
     },
     "execution_count": 18,
     "metadata": {},
     "output_type": "execute_result"
    }
   ],
   "source": [
    "import pandas as pd\n",
    "df = pd.DataFrame(stock_quotes)\n",
    "df.rolling(3).mean()"
   ]
  },
  {
   "cell_type": "markdown",
   "metadata": {
    "colab_type": "text",
    "id": "os-szg47dgwf"
   },
   "source": [
    "### Forecasting\n",
    "\n",
    "Forecasting - at it's simplest, it just means \"predict the future\":"
   ]
  },
  {
   "cell_type": "code",
   "execution_count": 19,
   "metadata": {
    "colab": {
     "base_uri": "https://localhost:8080/",
     "height": 34
    },
    "colab_type": "code",
    "id": "D_qtt6irdj0x",
    "outputId": "899d4e2b-1c00-4018-c9d5-3451d75a4e99"
   },
   "outputs": [
    {
     "data": {
      "text/plain": [
       "array([14.48074192])"
      ]
     },
     "execution_count": 19,
     "metadata": {},
     "output_type": "execute_result"
    }
   ],
   "source": [
    "ols_stocks.fit(stock_data[:,1:], stock_quotes)\n",
    "ols_stocks.predict([[29, 0.5, 0.5]])"
   ]
  },
  {
   "cell_type": "markdown",
   "metadata": {
    "colab_type": "text",
    "id": "fjnQY0trdnHp"
   },
   "source": [
    "One way to predict if you just have the series data is to use the prior observation. This can be pretty good (if you had to pick one feature to model the temperature for tomorrow, the temperature today is a good choice)."
   ]
  },
  {
   "cell_type": "code",
   "execution_count": 20,
   "metadata": {
    "colab": {
     "base_uri": "https://localhost:8080/",
     "height": 34
    },
    "colab_type": "code",
    "id": "bzC4DV9Hdupp",
    "outputId": "72adf4bd-a00a-411d-88cb-2f67078ba44c"
   },
   "outputs": [
    {
     "data": {
      "text/plain": [
       "0.2451575424762068"
      ]
     },
     "execution_count": 20,
     "metadata": {},
     "output_type": "execute_result"
    }
   ],
   "source": [
    "temperature = np.array([30 + random() * day\n",
    "                        for day in np.array(range(365)).reshape(-1, 1)])\n",
    "temperature_next = temperature[1:].reshape(-1, 1)\n",
    "temperature_ols = LinearRegression()\n",
    "temperature_ols.fit(temperature[:-1], temperature_next)\n",
    "temperature_ols.score(temperature[:-1], temperature_next)"
   ]
  },
  {
   "cell_type": "markdown",
   "metadata": {
    "colab_type": "text",
    "id": "RFdssXQbdxbE"
   },
   "source": [
    "But you can often make it better by considering more than one prior observation."
   ]
  },
  {
   "cell_type": "code",
   "execution_count": 21,
   "metadata": {
    "colab": {
     "base_uri": "https://localhost:8080/",
     "height": 34
    },
    "colab_type": "code",
    "id": "pVfUqD2YdxxZ",
    "outputId": "a892c370-bd2b-4e36-ef5d-767e762dacdf"
   },
   "outputs": [
    {
     "data": {
      "text/plain": [
       "0.3291584470918163"
      ]
     },
     "execution_count": 21,
     "metadata": {},
     "output_type": "execute_result"
    }
   ],
   "source": [
    "temperature_next_next = temperature[2:].reshape(-1, 1)\n",
    "temperature_two_past = np.concatenate([temperature[:-2], temperature_next[:-1]],\n",
    "                                      axis=1)\n",
    "temperature_ols.fit(temperature_two_past, temperature_next_next)\n",
    "temperature_ols.score(temperature_two_past, temperature_next_next)"
   ]
  },
  {
   "cell_type": "markdown",
   "metadata": {
    "colab_type": "text",
    "id": "c9QltBdmd7TV"
   },
   "source": [
    "### Exponential smoothing\n",
    "\n",
    "Exponential smoothing means using exponentially decreasing past weights to predict the future.\n",
    "\n",
    "You could roll your own, but let's use Pandas."
   ]
  },
  {
   "cell_type": "code",
   "execution_count": 22,
   "metadata": {
    "colab": {
     "base_uri": "https://localhost:8080/",
     "height": 1992
    },
    "colab_type": "code",
    "id": "hvMNqunOeC_B",
    "outputId": "e0294de0-3cd8-4935-e730-ee339c191690"
   },
   "outputs": [
    {
     "data": {
      "text/html": [
       "<div>\n",
       "<style scoped>\n",
       "    .dataframe tbody tr th:only-of-type {\n",
       "        vertical-align: middle;\n",
       "    }\n",
       "\n",
       "    .dataframe tbody tr th {\n",
       "        vertical-align: top;\n",
       "    }\n",
       "\n",
       "    .dataframe thead th {\n",
       "        text-align: right;\n",
       "    }\n",
       "</style>\n",
       "<table border=\"1\" class=\"dataframe\">\n",
       "  <thead>\n",
       "    <tr style=\"text-align: right;\">\n",
       "      <th></th>\n",
       "      <th>0</th>\n",
       "    </tr>\n",
       "  </thead>\n",
       "  <tbody>\n",
       "    <tr>\n",
       "      <th>0</th>\n",
       "      <td>30.000000</td>\n",
       "    </tr>\n",
       "    <tr>\n",
       "      <th>1</th>\n",
       "      <td>30.317692</td>\n",
       "    </tr>\n",
       "    <tr>\n",
       "      <th>2</th>\n",
       "      <td>30.706315</td>\n",
       "    </tr>\n",
       "    <tr>\n",
       "      <th>3</th>\n",
       "      <td>30.792546</td>\n",
       "    </tr>\n",
       "    <tr>\n",
       "      <th>4</th>\n",
       "      <td>30.700335</td>\n",
       "    </tr>\n",
       "    <tr>\n",
       "      <th>5</th>\n",
       "      <td>31.494231</td>\n",
       "    </tr>\n",
       "    <tr>\n",
       "      <th>6</th>\n",
       "      <td>31.978594</td>\n",
       "    </tr>\n",
       "    <tr>\n",
       "      <th>7</th>\n",
       "      <td>31.809140</td>\n",
       "    </tr>\n",
       "    <tr>\n",
       "      <th>8</th>\n",
       "      <td>31.560306</td>\n",
       "    </tr>\n",
       "    <tr>\n",
       "      <th>9</th>\n",
       "      <td>32.065105</td>\n",
       "    </tr>\n",
       "    <tr>\n",
       "      <th>10</th>\n",
       "      <td>31.911159</td>\n",
       "    </tr>\n",
       "    <tr>\n",
       "      <th>11</th>\n",
       "      <td>33.133522</td>\n",
       "    </tr>\n",
       "    <tr>\n",
       "      <th>12</th>\n",
       "      <td>33.907804</td>\n",
       "    </tr>\n",
       "    <tr>\n",
       "      <th>13</th>\n",
       "      <td>33.680160</td>\n",
       "    </tr>\n",
       "    <tr>\n",
       "      <th>14</th>\n",
       "      <td>34.274057</td>\n",
       "    </tr>\n",
       "    <tr>\n",
       "      <th>15</th>\n",
       "      <td>35.011100</td>\n",
       "    </tr>\n",
       "    <tr>\n",
       "      <th>16</th>\n",
       "      <td>35.931325</td>\n",
       "    </tr>\n",
       "    <tr>\n",
       "      <th>17</th>\n",
       "      <td>37.060813</td>\n",
       "    </tr>\n",
       "    <tr>\n",
       "      <th>18</th>\n",
       "      <td>37.933597</td>\n",
       "    </tr>\n",
       "    <tr>\n",
       "      <th>19</th>\n",
       "      <td>38.307511</td>\n",
       "    </tr>\n",
       "    <tr>\n",
       "      <th>20</th>\n",
       "      <td>38.358086</td>\n",
       "    </tr>\n",
       "    <tr>\n",
       "      <th>21</th>\n",
       "      <td>38.164184</td>\n",
       "    </tr>\n",
       "    <tr>\n",
       "      <th>22</th>\n",
       "      <td>39.086900</td>\n",
       "    </tr>\n",
       "    <tr>\n",
       "      <th>23</th>\n",
       "      <td>39.054744</td>\n",
       "    </tr>\n",
       "    <tr>\n",
       "      <th>24</th>\n",
       "      <td>40.573743</td>\n",
       "    </tr>\n",
       "    <tr>\n",
       "      <th>25</th>\n",
       "      <td>41.995103</td>\n",
       "    </tr>\n",
       "    <tr>\n",
       "      <th>26</th>\n",
       "      <td>42.609358</td>\n",
       "    </tr>\n",
       "    <tr>\n",
       "      <th>27</th>\n",
       "      <td>42.281941</td>\n",
       "    </tr>\n",
       "    <tr>\n",
       "      <th>28</th>\n",
       "      <td>41.102428</td>\n",
       "    </tr>\n",
       "    <tr>\n",
       "      <th>29</th>\n",
       "      <td>42.537091</td>\n",
       "    </tr>\n",
       "    <tr>\n",
       "      <th>...</th>\n",
       "      <td>...</td>\n",
       "    </tr>\n",
       "    <tr>\n",
       "      <th>335</th>\n",
       "      <td>225.449161</td>\n",
       "    </tr>\n",
       "    <tr>\n",
       "      <th>336</th>\n",
       "      <td>209.620154</td>\n",
       "    </tr>\n",
       "    <tr>\n",
       "      <th>337</th>\n",
       "      <td>217.410768</td>\n",
       "    </tr>\n",
       "    <tr>\n",
       "      <th>338</th>\n",
       "      <td>221.254357</td>\n",
       "    </tr>\n",
       "    <tr>\n",
       "      <th>339</th>\n",
       "      <td>215.921459</td>\n",
       "    </tr>\n",
       "    <tr>\n",
       "      <th>340</th>\n",
       "      <td>209.302157</td>\n",
       "    </tr>\n",
       "    <tr>\n",
       "      <th>341</th>\n",
       "      <td>211.929668</td>\n",
       "    </tr>\n",
       "    <tr>\n",
       "      <th>342</th>\n",
       "      <td>206.401568</td>\n",
       "    </tr>\n",
       "    <tr>\n",
       "      <th>343</th>\n",
       "      <td>200.435648</td>\n",
       "    </tr>\n",
       "    <tr>\n",
       "      <th>344</th>\n",
       "      <td>187.850882</td>\n",
       "    </tr>\n",
       "    <tr>\n",
       "      <th>345</th>\n",
       "      <td>180.978386</td>\n",
       "    </tr>\n",
       "    <tr>\n",
       "      <th>346</th>\n",
       "      <td>178.718455</td>\n",
       "    </tr>\n",
       "    <tr>\n",
       "      <th>347</th>\n",
       "      <td>184.718424</td>\n",
       "    </tr>\n",
       "    <tr>\n",
       "      <th>348</th>\n",
       "      <td>190.578206</td>\n",
       "    </tr>\n",
       "    <tr>\n",
       "      <th>349</th>\n",
       "      <td>198.948689</td>\n",
       "    </tr>\n",
       "    <tr>\n",
       "      <th>350</th>\n",
       "      <td>196.588371</td>\n",
       "    </tr>\n",
       "    <tr>\n",
       "      <th>351</th>\n",
       "      <td>196.353831</td>\n",
       "    </tr>\n",
       "    <tr>\n",
       "      <th>352</th>\n",
       "      <td>197.921195</td>\n",
       "    </tr>\n",
       "    <tr>\n",
       "      <th>353</th>\n",
       "      <td>184.554872</td>\n",
       "    </tr>\n",
       "    <tr>\n",
       "      <th>354</th>\n",
       "      <td>174.077709</td>\n",
       "    </tr>\n",
       "    <tr>\n",
       "      <th>355</th>\n",
       "      <td>187.309224</td>\n",
       "    </tr>\n",
       "    <tr>\n",
       "      <th>356</th>\n",
       "      <td>199.408970</td>\n",
       "    </tr>\n",
       "    <tr>\n",
       "      <th>357</th>\n",
       "      <td>205.863444</td>\n",
       "    </tr>\n",
       "    <tr>\n",
       "      <th>358</th>\n",
       "      <td>204.662736</td>\n",
       "    </tr>\n",
       "    <tr>\n",
       "      <th>359</th>\n",
       "      <td>215.619217</td>\n",
       "    </tr>\n",
       "    <tr>\n",
       "      <th>360</th>\n",
       "      <td>212.061545</td>\n",
       "    </tr>\n",
       "    <tr>\n",
       "      <th>361</th>\n",
       "      <td>202.090937</td>\n",
       "    </tr>\n",
       "    <tr>\n",
       "      <th>362</th>\n",
       "      <td>201.707676</td>\n",
       "    </tr>\n",
       "    <tr>\n",
       "      <th>363</th>\n",
       "      <td>192.649985</td>\n",
       "    </tr>\n",
       "    <tr>\n",
       "      <th>364</th>\n",
       "      <td>192.151227</td>\n",
       "    </tr>\n",
       "  </tbody>\n",
       "</table>\n",
       "<p>365 rows × 1 columns</p>\n",
       "</div>"
      ],
      "text/plain": [
       "              0\n",
       "0     30.000000\n",
       "1     30.317692\n",
       "2     30.706315\n",
       "3     30.792546\n",
       "4     30.700335\n",
       "5     31.494231\n",
       "6     31.978594\n",
       "7     31.809140\n",
       "8     31.560306\n",
       "9     32.065105\n",
       "10    31.911159\n",
       "11    33.133522\n",
       "12    33.907804\n",
       "13    33.680160\n",
       "14    34.274057\n",
       "15    35.011100\n",
       "16    35.931325\n",
       "17    37.060813\n",
       "18    37.933597\n",
       "19    38.307511\n",
       "20    38.358086\n",
       "21    38.164184\n",
       "22    39.086900\n",
       "23    39.054744\n",
       "24    40.573743\n",
       "25    41.995103\n",
       "26    42.609358\n",
       "27    42.281941\n",
       "28    41.102428\n",
       "29    42.537091\n",
       "..          ...\n",
       "335  225.449161\n",
       "336  209.620154\n",
       "337  217.410768\n",
       "338  221.254357\n",
       "339  215.921459\n",
       "340  209.302157\n",
       "341  211.929668\n",
       "342  206.401568\n",
       "343  200.435648\n",
       "344  187.850882\n",
       "345  180.978386\n",
       "346  178.718455\n",
       "347  184.718424\n",
       "348  190.578206\n",
       "349  198.948689\n",
       "350  196.588371\n",
       "351  196.353831\n",
       "352  197.921195\n",
       "353  184.554872\n",
       "354  174.077709\n",
       "355  187.309224\n",
       "356  199.408970\n",
       "357  205.863444\n",
       "358  204.662736\n",
       "359  215.619217\n",
       "360  212.061545\n",
       "361  202.090937\n",
       "362  201.707676\n",
       "363  192.649985\n",
       "364  192.151227\n",
       "\n",
       "[365 rows x 1 columns]"
      ]
     },
     "execution_count": 22,
     "metadata": {},
     "output_type": "execute_result"
    }
   ],
   "source": [
    "temperature_df = pd.DataFrame(temperature)\n",
    "temperature_df.ewm(halflife=7).mean()"
   ]
  },
  {
   "cell_type": "markdown",
   "metadata": {
    "colab_type": "text",
    "id": "gBEjBZVbeH6R"
   },
   "source": [
    "Halflife is among the parameters we can play with:"
   ]
  },
  {
   "cell_type": "code",
   "execution_count": 23,
   "metadata": {
    "colab": {
     "base_uri": "https://localhost:8080/",
     "height": 86
    },
    "colab_type": "code",
    "id": "HjZgMwYkeODN",
    "outputId": "806ae8dd-1812-4bbb-8aae-9271676aea45"
   },
   "outputs": [
    {
     "name": "stdout",
     "output_type": "stream",
     "text": [
      "0    1.036638e+06\n",
      "dtype: float64\n",
      "0    832437.070478\n",
      "dtype: float64\n"
     ]
    }
   ],
   "source": [
    "sse_1 = ((temperature_df - temperature_df.ewm(halflife=7).mean())**2).sum()\n",
    "sse_2 = ((temperature_df - temperature_df.ewm(halflife=3).mean())**2).sum()\n",
    "print(sse_1)\n",
    "print(sse_2)"
   ]
  },
  {
   "cell_type": "markdown",
   "metadata": {
    "colab_type": "text",
    "id": "s39bj4g9eQ9Z"
   },
   "source": [
    "Note - the first error being higher doesn't mean it's necessarily *worse*. It's *smoother* as expected, and if that's what we care about - great!"
   ]
  },
  {
   "cell_type": "markdown",
   "metadata": {
    "colab_type": "text",
    "id": "OcPMn8o4eYP1"
   },
   "source": [
    "### Seasonality\n",
    "\n",
    "Seasonality - \"day of week\"-effects, and more. In a lot of real world data, certain time periods are systemically different, e.g. holidays for retailers, weekends for restaurants, seasons for weather.\n",
    "\n",
    "Let's try to make some seasonal data - a store that sells more later in a week:"
   ]
  },
  {
   "cell_type": "code",
   "execution_count": 19,
   "metadata": {
    "colab": {
     "base_uri": "https://localhost:8080/",
     "height": 364
    },
    "colab_type": "code",
    "id": "h0qPMWCreheL",
    "outputId": "f3d7b830-5185-42c4-b4b2-c4ab53c00b09"
   },
   "outputs": [
    {
     "data": {
      "text/plain": [
       "<matplotlib.collections.PathCollection at 0x7efe1a178a20>"
      ]
     },
     "execution_count": 19,
     "metadata": {
      "tags": []
     },
     "output_type": "execute_result"
    },
    {
     "data": {
      "image/png": "[encoded data removed]",
      "text/plain": [
       "<Figure size 576x396 with 1 Axes>"
      ]
     },
     "metadata": {
      "tags": []
     },
     "output_type": "display_data"
    }
   ],
   "source": [
    "sales = np.array([random() + (day % 7) * random() for day in days])\n",
    "scatter(days, sales)"
   ]
  },
  {
   "cell_type": "markdown",
   "metadata": {
    "colab_type": "text",
    "id": "LEADkcMzelxY"
   },
   "source": [
    "How does linear regression do at fitting this?"
   ]
  },
  {
   "cell_type": "code",
   "execution_count": 20,
   "metadata": {
    "colab": {
     "base_uri": "https://localhost:8080/",
     "height": 34
    },
    "colab_type": "code",
    "id": "EV5kt69GenV3",
    "outputId": "d8cf0f90-2034-42da-f3f5-dff498afaca9"
   },
   "outputs": [
    {
     "data": {
      "text/plain": [
       "0.027856017036644195"
      ]
     },
     "execution_count": 20,
     "metadata": {
      "tags": []
     },
     "output_type": "execute_result"
    }
   ],
   "source": [
    "sales_ols = LinearRegression()\n",
    "sales_ols.fit(days, sales)\n",
    "sales_ols.score(days, sales)"
   ]
  },
  {
   "cell_type": "markdown",
   "metadata": {
    "colab_type": "text",
    "id": "7shN1eBMep9Q"
   },
   "source": [
    "That's not great - and the fix depends on the domain. Here, we know it'd be best to actually use \"day of week\" as a feature."
   ]
  },
  {
   "cell_type": "code",
   "execution_count": 21,
   "metadata": {
    "colab": {
     "base_uri": "https://localhost:8080/",
     "height": 34
    },
    "colab_type": "code",
    "id": "Qo9eFlHIeqtA",
    "outputId": "b002f32b-8e20-4482-a70d-6ba63db9281b"
   },
   "outputs": [
    {
     "data": {
      "text/plain": [
       "0.5955143407498893"
      ]
     },
     "execution_count": 21,
     "metadata": {
      "tags": []
     },
     "output_type": "execute_result"
    }
   ],
   "source": [
    "day_of_week = days % 7\n",
    "sales_ols.fit(day_of_week, sales)\n",
    "sales_ols.score(day_of_week, sales)"
   ]
  },
  {
   "cell_type": "markdown",
   "metadata": {
    "colab_type": "text",
    "id": "9ooJIfIMex2G"
   },
   "source": [
    "Note that it's also important to have representative data across whatever seasonal feature(s) you use - don't predict retailers based only on Christmas, as that won't generalize well."
   ]
  },
  {
   "cell_type": "markdown",
   "metadata": {
    "colab_type": "text",
    "id": "44QZgrPUe3-Y"
   },
   "source": [
    "## Recurrent Neural Networks\n",
    "\n",
    "There's plenty more to \"traditional\" time series, but the latest and greatest technique for sequence data is recurrent neural networks. A recurrence relation in math is an equation that uses recursion to define a sequence - a famous example is the Fibonacci numbers:\n",
    "\n",
    "$F_n = F_{n-1} + F_{n-2}$\n",
    "\n",
    "For formal math you also need a base case $F_0=1, F_1=1$, and then the rest builds from there. But for neural networks what we're really talking about are loops:\n",
    "\n",
    "![Recurrent neural network](https://upload.wikimedia.org/wikipedia/commons/b/b5/Recurrent_neural_network_unfold.svg)\n",
    "\n",
    "The hidden layers have edges (output) going back to their own input - this loop means that for any time `t` the training is at least partly based on the output from time `t-1`. The entire network is being represented on the left, and you can unfold the network explicitly to see how it behaves at any given `t`.\n",
    "\n",
    "Different units can have this \"loop\", but a particularly successful one is the long short-term memory unit (LSTM):\n",
    "\n",
    "![Long short-term memory unit](https://upload.wikimedia.org/wikipedia/commons/thumb/6/63/Long_Short-Term_Memory.svg/1024px-Long_Short-Term_Memory.svg.png)\n",
    "\n",
    "There's a lot going on here - in a nutshell, the calculus still works out and backpropagation can still be implemented. The advantage (ane namesake) of LSTM is that it can generally put more weight on recent (short-term) events while not completely losing older (long-term) information.\n",
    "\n",
    "After enough iterations, a typical neural network will start calculating prior gradients that are so small they effectively become zero - this is the [vanishing gradient problem](https://en.wikipedia.org/wiki/Vanishing_gradient_problem), and is what RNN with LSTM addresses. Pay special attention to the $c_t$ parameters and how they pass through the unit to get an intuition for how this problem is solved.\n",
    "\n",
    "So why are these cool? One particularly compelling application is actually not time series but language modeling - language is inherently ordered data (letters/words go one after another, and the order *matters*). [The Unreasonable Effectiveness of Recurrent Neural Networks](https://karpathy.github.io/2015/05/21/rnn-effectiveness/) is a famous and worth reading blog post on this topic.\n",
    "\n",
    "For our purposes, let's use TensorFlow and Keras to train RNNs with natural language. Resources:\n",
    "\n",
    "- https://github.com/keras-team/keras/blob/master/examples/imdb_lstm.py\n",
    "- https://keras.io/layers/recurrent/#lstm\n",
    "- http://adventuresinmachinelearning.com/keras-lstm-tutorial/\n",
    "\n",
    "Note that `tensorflow.contrib` [also has an implementation of RNN/LSTM](https://www.tensorflow.org/tutorials/sequences/recurrent)."
   ]
  },
  {
   "cell_type": "markdown",
   "metadata": {
    "colab_type": "text",
    "id": "eWrQllf8WEd-"
   },
   "source": [
    "### RNN/LSTM Sentiment Classification with Keras"
   ]
  },
  {
   "cell_type": "code",
   "execution_count": 26,
   "metadata": {
    "colab": {
     "base_uri": "https://localhost:8080/",
     "height": 975
    },
    "colab_type": "code",
    "id": "Ti23G0gRe3kr",
    "outputId": "bba9ae40-a286-49ed-d87b-b2946fb60ddf"
   },
   "outputs": [
    {
     "name": "stderr",
     "output_type": "stream",
     "text": [
      "Using TensorFlow backend.\n"
     ]
    },
    {
     "name": "stdout",
     "output_type": "stream",
     "text": [
      "Loading data...\n",
      "Downloading data from https://s3.amazonaws.com/text-datasets/imdb.npz\n",
      "17465344/17464789 [==============================] - 16s 1us/step\n",
      "25000 train sequences\n",
      "25000 test sequences\n",
      "Pad sequences (samples x time)\n",
      "x_train shape: (25000, 80)\n",
      "x_test shape: (25000, 80)\n",
      "Build model...\n",
      "WARNING:tensorflow:From /Users/jonathansokoll/anaconda3/lib/python3.7/site-packages/tensorflow/python/framework/op_def_library.py:263: colocate_with (from tensorflow.python.framework.ops) is deprecated and will be removed in a future version.\n",
      "Instructions for updating:\n",
      "Colocations handled automatically by placer.\n",
      "WARNING:tensorflow:From /Users/jonathansokoll/anaconda3/lib/python3.7/site-packages/keras/backend/tensorflow_backend.py:3445: calling dropout (from tensorflow.python.ops.nn_ops) with keep_prob is deprecated and will be removed in a future version.\n",
      "Instructions for updating:\n",
      "Please use `rate` instead of `keep_prob`. Rate should be set to `rate = 1 - keep_prob`.\n",
      "Train...\n",
      "WARNING:tensorflow:From /Users/jonathansokoll/anaconda3/lib/python3.7/site-packages/tensorflow/python/ops/math_ops.py:3066: to_int32 (from tensorflow.python.ops.math_ops) is deprecated and will be removed in a future version.\n",
      "Instructions for updating:\n",
      "Use tf.cast instead.\n",
      "Train on 25000 samples, validate on 25000 samples\n",
      "Epoch 1/15\n",
      "25000/25000 [==============================] - 96s 4ms/step - loss: 0.4567 - acc: 0.7836 - val_loss: 0.3793 - val_acc: 0.8348\n",
      "Epoch 2/15\n",
      "25000/25000 [==============================] - 93s 4ms/step - loss: 0.2977 - acc: 0.8785 - val_loss: 0.3773 - val_acc: 0.8362\n",
      "Epoch 3/15\n",
      "25000/25000 [==============================] - 91s 4ms/step - loss: 0.2182 - acc: 0.9148 - val_loss: 0.4150 - val_acc: 0.8340\n",
      "Epoch 4/15\n",
      "25000/25000 [==============================] - 90s 4ms/step - loss: 0.1570 - acc: 0.9430 - val_loss: 0.4670 - val_acc: 0.8300\n",
      "Epoch 5/15\n",
      "25000/25000 [==============================] - 92s 4ms/step - loss: 0.1108 - acc: 0.9595 - val_loss: 0.6126 - val_acc: 0.8107\n",
      "Epoch 6/15\n",
      "25000/25000 [==============================] - 92s 4ms/step - loss: 0.0802 - acc: 0.9712 - val_loss: 0.6611 - val_acc: 0.8190\n",
      "Epoch 7/15\n",
      "25000/25000 [==============================] - 92s 4ms/step - loss: 0.0674 - acc: 0.9765 - val_loss: 0.7836 - val_acc: 0.8056\n",
      "Epoch 8/15\n",
      "25000/25000 [==============================] - 91s 4ms/step - loss: 0.0412 - acc: 0.9865 - val_loss: 0.7688 - val_acc: 0.8193\n",
      "Epoch 9/15\n",
      "25000/25000 [==============================] - 94s 4ms/step - loss: 0.0301 - acc: 0.9904 - val_loss: 0.9114 - val_acc: 0.8117\n",
      "Epoch 10/15\n",
      "25000/25000 [==============================] - 93s 4ms/step - loss: 0.0274 - acc: 0.9911 - val_loss: 0.8979 - val_acc: 0.8143\n",
      "Epoch 11/15\n",
      "25000/25000 [==============================] - 91s 4ms/step - loss: 0.0174 - acc: 0.9943 - val_loss: 1.0019 - val_acc: 0.8130\n",
      "Epoch 12/15\n",
      "25000/25000 [==============================] - 92s 4ms/step - loss: 0.0183 - acc: 0.9947 - val_loss: 0.9923 - val_acc: 0.8082\n",
      "Epoch 13/15\n",
      "25000/25000 [==============================] - 91s 4ms/step - loss: 0.0111 - acc: 0.9968 - val_loss: 1.1199 - val_acc: 0.8141\n",
      "Epoch 14/15\n",
      "25000/25000 [==============================] - 94s 4ms/step - loss: 0.0090 - acc: 0.9975 - val_loss: 1.1868 - val_acc: 0.8142\n",
      "Epoch 15/15\n",
      "25000/25000 [==============================] - 92s 4ms/step - loss: 0.0132 - acc: 0.9959 - val_loss: 1.0503 - val_acc: 0.8050\n",
      "25000/25000 [==============================] - 10s 394us/step\n",
      "Test score: 1.0503065874004365\n",
      "Test accuracy: 0.80496\n"
     ]
    }
   ],
   "source": [
    "'''\n",
    "#Trains an LSTM model on the IMDB sentiment classification task.\n",
    "The dataset is actually too small for LSTM to be of any advantage\n",
    "compared to simpler, much faster methods such as TF-IDF + LogReg.\n",
    "**Notes**\n",
    "- RNNs are tricky. Choice of batch size is important,\n",
    "choice of loss and optimizer is critical, etc.\n",
    "Some configurations won't converge.\n",
    "- LSTM loss decrease patterns during training can be quite different\n",
    "from what you see with CNNs/MLPs/etc.\n",
    "'''\n",
    "from __future__ import print_function\n",
    "\n",
    "from keras.preprocessing import sequence\n",
    "from keras.models import Sequential\n",
    "from keras.layers import Dense, Embedding\n",
    "from keras.layers import LSTM\n",
    "from keras.datasets import imdb\n",
    "\n",
    "max_features = 20000\n",
    "# cut texts after this number of words (among top max_features most common words)\n",
    "maxlen = 80\n",
    "batch_size = 32\n",
    "\n",
    "print('Loading data...')\n",
    "(x_train, y_train), (x_test, y_test) = imdb.load_data(num_words=max_features)\n",
    "print(len(x_train), 'train sequences')\n",
    "print(len(x_test), 'test sequences')\n",
    "\n",
    "print('Pad sequences (samples x time)')\n",
    "x_train = sequence.pad_sequences(x_train, maxlen=maxlen)\n",
    "x_test = sequence.pad_sequences(x_test, maxlen=maxlen)\n",
    "print('x_train shape:', x_train.shape)\n",
    "print('x_test shape:', x_test.shape)\n",
    "\n",
    "print('Build model...')\n",
    "model = Sequential()\n",
    "model.add(Embedding(max_features, 128))\n",
    "model.add(LSTM(128, dropout=0.2, recurrent_dropout=0.2))\n",
    "model.add(Dense(1, activation='sigmoid'))\n",
    "\n",
    "# try using different optimizers and different optimizer configs\n",
    "model.compile(loss='binary_crossentropy',\n",
    "              optimizer='adam',\n",
    "              metrics=['accuracy'])\n",
    "\n",
    "print('Train...')\n",
    "model.fit(x_train, y_train,\n",
    "          batch_size=batch_size,\n",
    "          epochs=15,\n",
    "          validation_data=(x_test, y_test))\n",
    "score, acc = model.evaluate(x_test, y_test,\n",
    "                            batch_size=batch_size)\n",
    "print('Test score:', score)\n",
    "print('Test accuracy:', acc)"
   ]
  },
  {
   "cell_type": "markdown",
   "metadata": {
    "colab_type": "text",
    "id": "7pETWPIe362y"
   },
   "source": [
    "### RNN Text generation with NumPy\n",
    "\n",
    "What else can we do with RNN? Since we're analyzing the *sequence*, we can do more than classify - we can *generate* text. We'll pull some news stories using [newspaper](https://github.com/codelucas/newspaper/)."
   ]
  },
  {
   "cell_type": "markdown",
   "metadata": {
    "colab_type": "text",
    "id": "fz1m55G5WSrQ"
   },
   "source": [
    "#### Initialization"
   ]
  },
  {
   "cell_type": "code",
   "execution_count": 27,
   "metadata": {
    "colab": {
     "base_uri": "https://localhost:8080/",
     "height": 836
    },
    "colab_type": "code",
    "id": "ahlHBeoZCaLX",
    "outputId": "7b1c5f93-3fa5-42db-acb6-3c894b0accef"
   },
   "outputs": [
    {
     "name": "stdout",
     "output_type": "stream",
     "text": [
      "Collecting newspaper3k\n",
      "\u001b[?25l  Downloading https://files.pythonhosted.org/packages/d7/b9/51afecb35bb61b188a4b44868001de348a0e8134b4dfa00ffc191567c4b9/newspaper3k-0.2.8-py3-none-any.whl (211kB)\n",
      "\u001b[K    100% |████████████████████████████████| 215kB 3.6MB/s \n",
      "\u001b[?25hRequirement already satisfied: lxml>=3.6.0 in /Users/jonathansokoll/anaconda3/lib/python3.7/site-packages (from newspaper3k) (4.3.2)\n",
      "Requirement already satisfied: nltk>=3.2.1 in /Users/jonathansokoll/anaconda3/lib/python3.7/site-packages (from newspaper3k) (3.4.1)\n",
      "Requirement already satisfied: python-dateutil>=2.5.3 in /Users/jonathansokoll/anaconda3/lib/python3.7/site-packages (from newspaper3k) (2.8.0)\n",
      "Requirement already satisfied: Pillow>=3.3.0 in /Users/jonathansokoll/anaconda3/lib/python3.7/site-packages (from newspaper3k) (5.4.1)\n",
      "Requirement already satisfied: requests>=2.10.0 in /Users/jonathansokoll/anaconda3/lib/python3.7/site-packages (from newspaper3k) (2.21.0)\n",
      "Collecting tinysegmenter==0.3 (from newspaper3k)\n",
      "  Downloading https://files.pythonhosted.org/packages/17/82/86982e4b6d16e4febc79c2a1d68ee3b707e8a020c5d2bc4af8052d0f136a/tinysegmenter-0.3.tar.gz\n",
      "Collecting tldextract>=2.0.1 (from newspaper3k)\n",
      "\u001b[?25l  Downloading https://files.pythonhosted.org/packages/1e/90/18ac0e5340b6228c25cc8e79835c3811e7553b2b9ae87296dfeb62b7866d/tldextract-2.2.1-py2.py3-none-any.whl (48kB)\n",
      "\u001b[K    100% |████████████████████████████████| 51kB 6.5MB/s \n",
      "\u001b[?25hRequirement already satisfied: beautifulsoup4>=4.4.1 in /Users/jonathansokoll/anaconda3/lib/python3.7/site-packages (from newspaper3k) (4.7.1)\n",
      "Collecting jieba3k>=0.35.1 (from newspaper3k)\n",
      "\u001b[?25l  Downloading https://files.pythonhosted.org/packages/a9/cb/2c8332bcdc14d33b0bedd18ae0a4981a069c3513e445120da3c3f23a8aaa/jieba3k-0.35.1.zip (7.4MB)\n",
      "\u001b[K    100% |████████████████████████████████| 7.4MB 4.1MB/s \n",
      "\u001b[?25hCollecting cssselect>=0.9.2 (from newspaper3k)\n",
      "  Downloading https://files.pythonhosted.org/packages/7b/44/25b7283e50585f0b4156960691d951b05d061abf4a714078393e51929b30/cssselect-1.0.3-py2.py3-none-any.whl\n",
      "Requirement already satisfied: PyYAML>=3.11 in /Users/jonathansokoll/anaconda3/lib/python3.7/site-packages (from newspaper3k) (5.1)\n",
      "Collecting feedfinder2>=0.0.4 (from newspaper3k)\n",
      "  Downloading https://files.pythonhosted.org/packages/35/82/1251fefec3bb4b03fd966c7e7f7a41c9fc2bb00d823a34c13f847fd61406/feedfinder2-0.0.4.tar.gz\n",
      "Collecting feedparser>=5.2.1 (from newspaper3k)\n",
      "\u001b[?25l  Downloading https://files.pythonhosted.org/packages/91/d8/7d37fec71ff7c9dbcdd80d2b48bcdd86d6af502156fc93846fb0102cb2c4/feedparser-5.2.1.tar.bz2 (192kB)\n",
      "\u001b[K    100% |████████████████████████████████| 194kB 2.3MB/s \n",
      "\u001b[?25hRequirement already satisfied: six in /Users/jonathansokoll/anaconda3/lib/python3.7/site-packages (from nltk>=3.2.1->newspaper3k) (1.12.0)\n",
      "Requirement already satisfied: certifi>=2017.4.17 in /Users/jonathansokoll/anaconda3/lib/python3.7/site-packages (from requests>=2.10.0->newspaper3k) (2019.3.9)\n",
      "Requirement already satisfied: chardet<3.1.0,>=3.0.2 in /Users/jonathansokoll/anaconda3/lib/python3.7/site-packages (from requests>=2.10.0->newspaper3k) (3.0.4)\n",
      "Requirement already satisfied: idna<2.9,>=2.5 in /Users/jonathansokoll/anaconda3/lib/python3.7/site-packages (from requests>=2.10.0->newspaper3k) (2.8)\n",
      "Requirement already satisfied: urllib3<1.25,>=1.21.1 in /Users/jonathansokoll/anaconda3/lib/python3.7/site-packages (from requests>=2.10.0->newspaper3k) (1.24.1)\n",
      "Requirement already satisfied: setuptools in /Users/jonathansokoll/anaconda3/lib/python3.7/site-packages (from tldextract>=2.0.1->newspaper3k) (40.8.0)\n",
      "Collecting requests-file>=1.4 (from tldextract>=2.0.1->newspaper3k)\n",
      "  Downloading https://files.pythonhosted.org/packages/23/9c/6e63c23c39e53d3df41c77a3d05a49a42c4e1383a6d2a5e3233161b89dbf/requests_file-1.4.3-py2.py3-none-any.whl\n",
      "Requirement already satisfied: soupsieve>=1.2 in /Users/jonathansokoll/anaconda3/lib/python3.7/site-packages (from beautifulsoup4>=4.4.1->newspaper3k) (1.8)\n",
      "Building wheels for collected packages: tinysegmenter, jieba3k, feedfinder2, feedparser\n",
      "  Building wheel for tinysegmenter (setup.py) ... \u001b[?25ldone\n",
      "\u001b[?25h  Stored in directory: /Users/jonathansokoll/Library/Caches/pip/wheels/81/2b/43/a02ede72324dd40cdd7ca53aad718c7710628e91b8b0dc0f02\n",
      "  Building wheel for jieba3k (setup.py) ... \u001b[?25ldone\n",
      "\u001b[?25h  Stored in directory: /Users/jonathansokoll/Library/Caches/pip/wheels/83/15/9c/a3f1f67e7f7181170ad37d32e503c35da20627c013f438ed34\n",
      "  Building wheel for feedfinder2 (setup.py) ... \u001b[?25ldone\n",
      "\u001b[?25h  Stored in directory: /Users/jonathansokoll/Library/Caches/pip/wheels/de/03/ca/778e3a7a627e3d98836cc890e7cb40c7575424cfd3340f40ed\n",
      "  Building wheel for feedparser (setup.py) ... \u001b[?25ldone\n",
      "\u001b[?25h  Stored in directory: /Users/jonathansokoll/Library/Caches/pip/wheels/8c/69/b7/f52763c41c5471df57703a0ef718a32a5e81ee35dcf6d4f97f\n",
      "Successfully built tinysegmenter jieba3k feedfinder2 feedparser\n",
      "Installing collected packages: tinysegmenter, requests-file, tldextract, jieba3k, cssselect, feedfinder2, feedparser, newspaper3k\n",
      "Successfully installed cssselect-1.0.3 feedfinder2-0.0.4 feedparser-5.2.1 jieba3k-0.35.1 newspaper3k-0.2.8 requests-file-1.4.3 tinysegmenter-0.3 tldextract-2.2.1\n"
     ]
    }
   ],
   "source": [
    "!pip install newspaper3k"
   ]
  },
  {
   "cell_type": "code",
   "execution_count": 28,
   "metadata": {
    "colab": {},
    "colab_type": "code",
    "id": "fTPlziljCiNJ"
   },
   "outputs": [],
   "source": [
    "import newspaper"
   ]
  },
  {
   "cell_type": "code",
   "execution_count": 29,
   "metadata": {
    "colab": {
     "base_uri": "https://localhost:8080/",
     "height": 34
    },
    "colab_type": "code",
    "id": "bk9JF2zaCxoO",
    "outputId": "9e66fc15-a397-4b59-f810-d2182565c99a"
   },
   "outputs": [
    {
     "data": {
      "text/plain": [
       "71"
      ]
     },
     "execution_count": 29,
     "metadata": {},
     "output_type": "execute_result"
    }
   ],
   "source": [
    "ap = newspaper.build('https://www.apnews.com')\n",
    "len(ap.articles)"
   ]
  },
  {
   "cell_type": "code",
   "execution_count": 39,
   "metadata": {
    "colab": {
     "base_uri": "https://localhost:8080/",
     "height": 54
    },
    "colab_type": "code",
    "id": "Vc6JgAIJDF4E",
    "outputId": "44a13922-d86a-4668-c4fd-455c0d03b6c1"
   },
   "outputs": [
    {
     "name": "stdout",
     "output_type": "stream",
     "text": [
      "President Donald Trump speaks during a event on medical billing, in the Roosevelt Room of the White House, Thursday, May 9, 2019, in Washington. Trump said Thursday he received a “beautiful letter” from Chinese President Xi Jinping and that the two leaders would probably speak by phone. (Photo: Evan Vucci / AP)\n"
     ]
    }
   ],
   "source": [
    "article_text = ''\n",
    "\n",
    "for article in ap.articles[:1]:\n",
    "  try:\n",
    "    article.download()\n",
    "    article.parse()\n",
    "    article_text += '\\n\\n' + article.text\n",
    "  except:\n",
    "    print('Failed: ' + article.url)\n",
    "  \n",
    "article_text = article_text.split('\\n\\n')[1]\n",
    "print(article_text)"
   ]
  },
  {
   "cell_type": "code",
   "execution_count": 40,
   "metadata": {
    "colab": {
     "base_uri": "https://localhost:8080/",
     "height": 52
    },
    "colab_type": "code",
    "id": "rsMBBMcv_nRM",
    "outputId": "9f77b07b-4a5a-4ac8-f1b3-79e1a5331fad"
   },
   "outputs": [
    {
     "name": "stdout",
     "output_type": "stream",
     "text": [
      "unique characters :  48\n",
      "txt_data_size :  312\n"
     ]
    }
   ],
   "source": [
    "# Based on \"The Unreasonable Effectiveness of RNN\" implementation\n",
    "import numpy as np\n",
    "\n",
    "chars = list(set(article_text)) # split and remove duplicate characters. convert to list.\n",
    "\n",
    "num_chars = len(chars) # the number of unique characters\n",
    "txt_data_size = len(article_text)\n",
    "\n",
    "print(\"unique characters : \", num_chars)\n",
    "print(\"txt_data_size : \", txt_data_size)"
   ]
  },
  {
   "cell_type": "code",
   "execution_count": 41,
   "metadata": {
    "colab": {
     "base_uri": "https://localhost:8080/",
     "height": 159
    },
    "colab_type": "code",
    "id": "aQygqc_CAWRA",
    "outputId": "30c45e95-057a-4643-9cae-fc518b49c914"
   },
   "outputs": [
    {
     "name": "stdout",
     "output_type": "stream",
     "text": [
      "{'r': 0, 'H': 1, 'm': 2, 'E': 3, ')': 4, '.': 5, 'e': 6, '9': 7, '(': 8, 'v': 9, 'w': 10, 'u': 11, ' ': 12, ':': 13, 'A': 14, 'X': 15, 'J': 16, 'o': 17, 'D': 18, '1': 19, '2': 20, ',': 21, 'g': 22, 'W': 23, 't': 24, 'V': 25, 'C': 26, 'b': 27, 'T': 28, 'R': 29, 's': 30, 'a': 31, '”': 32, 'd': 33, 'y': 34, 'c': 35, '0': 36, '“': 37, 'l': 38, 'p': 39, 'M': 40, 'n': 41, '/': 42, 'k': 43, 'P': 44, 'h': 45, 'i': 46, 'f': 47}\n",
      "----------------------------------------------------\n",
      "{0: 'r', 1: 'H', 2: 'm', 3: 'E', 4: ')', 5: '.', 6: 'e', 7: '9', 8: '(', 9: 'v', 10: 'w', 11: 'u', 12: ' ', 13: ':', 14: 'A', 15: 'X', 16: 'J', 17: 'o', 18: 'D', 19: '1', 20: '2', 21: ',', 22: 'g', 23: 'W', 24: 't', 25: 'V', 26: 'C', 27: 'b', 28: 'T', 29: 'R', 30: 's', 31: 'a', 32: '”', 33: 'd', 34: 'y', 35: 'c', 36: '0', 37: '“', 38: 'l', 39: 'p', 40: 'M', 41: 'n', 42: '/', 43: 'k', 44: 'P', 45: 'h', 46: 'i', 47: 'f'}\n",
      "----------------------------------------------------\n",
      "[44, 0, 6, 30, 46, 33, 6, 41, 24, 12, 18, 17, 41, 31, 38, 33, 12, 28, 0, 11, 2, 39, 12, 30, 39, 6, 31, 43, 30, 12, 33, 11, 0, 46, 41, 22, 12, 31, 12, 6, 9, 6, 41, 24, 12, 17, 41, 12, 2, 6, 33, 46, 35, 31, 38, 12, 27, 46, 38, 38, 46, 41, 22, 21, 12, 46, 41, 12, 24, 45, 6, 12, 29, 17, 17, 30, 6, 9, 6, 38, 24, 12, 29, 17, 17, 2, 12, 17, 47, 12, 24, 45, 6, 12, 23, 45, 46, 24, 6, 12, 1, 17, 11, 30, 6, 21, 12, 28, 45, 11, 0, 30, 33, 31, 34, 21, 12, 40, 31, 34, 12, 7, 21, 12, 20, 36, 19, 7, 21, 12, 46, 41, 12, 23, 31, 30, 45, 46, 41, 22, 24, 17, 41, 5, 12, 28, 0, 11, 2, 39, 12, 30, 31, 46, 33, 12, 28, 45, 11, 0, 30, 33, 31, 34, 12, 45, 6, 12, 0, 6, 35, 6, 46, 9, 6, 33, 12, 31, 12, 37, 27, 6, 31, 11, 24, 46, 47, 11, 38, 12, 38, 6, 24, 24, 6, 0, 32, 12, 47, 0, 17, 2, 12, 26, 45, 46, 41, 6, 30, 6, 12, 44, 0, 6, 30, 46, 33, 6, 41, 24, 12, 15, 46, 12, 16, 46, 41, 39, 46, 41, 22, 12, 31, 41, 33, 12, 24, 45, 31, 24, 12, 24, 45, 6, 12, 24, 10, 17, 12, 38, 6, 31, 33, 6, 0, 30, 12, 10, 17, 11, 38, 33, 12, 39, 0, 17, 27, 31, 27, 38, 34, 12, 30, 39, 6, 31, 43, 12, 27, 34, 12, 39, 45, 17, 41, 6, 5, 12, 8, 44, 45, 17, 24, 17, 13, 12, 3, 9, 31, 41, 12, 25, 11, 35, 35, 46, 12, 42, 12, 14, 44, 4]\n",
      "----------------------------------------------------\n",
      "data length :  312\n"
     ]
    }
   ],
   "source": [
    "# one hot encode\n",
    "char_to_int = dict((c, i) for i, c in enumerate(chars)) # \"enumerate\" retruns index and value. Convert it to dictionary\n",
    "int_to_char = dict((i, c) for i, c in enumerate(chars))\n",
    "print(char_to_int)\n",
    "print(\"----------------------------------------------------\")\n",
    "print(int_to_char)\n",
    "print(\"----------------------------------------------------\")\n",
    "# integer encode input data\n",
    "integer_encoded = [char_to_int[i] for i in article_text] # \"integer_encoded\" is a list which has a sequence converted from an original data to integers.\n",
    "print(integer_encoded)\n",
    "print(\"----------------------------------------------------\")\n",
    "print(\"data length : \", len(integer_encoded))"
   ]
  },
  {
   "cell_type": "code",
   "execution_count": 42,
   "metadata": {
    "colab": {},
    "colab_type": "code",
    "id": "bcpMSWDHFowT"
   },
   "outputs": [],
   "source": [
    "# hyperparameters\n",
    "\n",
    "iteration = 1000\n",
    "sequence_length = 40\n",
    "batch_size = round((txt_data_size /sequence_length)+0.5) # = math.ceil\n",
    "hidden_size = 500  # size of hidden layer of neurons.  \n",
    "learning_rate = 1e-1\n",
    "\n",
    "\n",
    "# model parameters\n",
    "\n",
    "W_xh = np.random.randn(hidden_size, num_chars)*0.01     # weight input -> hidden. \n",
    "W_hh = np.random.randn(hidden_size, hidden_size)*0.01   # weight hidden -> hidden\n",
    "W_hy = np.random.randn(num_chars, hidden_size)*0.01     # weight hidden -> output\n",
    "\n",
    "b_h = np.zeros((hidden_size, 1)) # hidden bias\n",
    "b_y = np.zeros((num_chars, 1)) # output bias\n",
    "\n",
    "h_prev = np.zeros((hidden_size,1)) # h_(t-1)"
   ]
  },
  {
   "cell_type": "markdown",
   "metadata": {
    "colab_type": "text",
    "id": "bkqoN86qWaI4"
   },
   "source": [
    "#### Forward propagation"
   ]
  },
  {
   "cell_type": "code",
   "execution_count": 43,
   "metadata": {
    "colab": {},
    "colab_type": "code",
    "id": "imfg_Ew0WdDL"
   },
   "outputs": [],
   "source": [
    "def forwardprop(inputs, targets, h_prev):\n",
    "        \n",
    "    # Since the RNN receives the sequence, the weights are not updated during one sequence.\n",
    "    xs, hs, ys, ps = {}, {}, {}, {} # dictionary\n",
    "    hs[-1] = np.copy(h_prev) # Copy previous hidden state vector to -1 key value.\n",
    "    loss = 0 # loss initialization\n",
    "    \n",
    "    for t in range(len(inputs)): # t is a \"time step\" and is used as a key(dic).  \n",
    "        \n",
    "        xs[t] = np.zeros((num_chars,1)) \n",
    "        xs[t][inputs[t]] = 1\n",
    "        hs[t] = np.tanh(np.dot(W_xh, xs[t]) + np.dot(W_hh, hs[t-1]) + b_h) # hidden state. \n",
    "        ys[t] = np.dot(W_hy, hs[t]) + b_y # unnormalized log probabilities for next chars\n",
    "        ps[t] = np.exp(ys[t]) / np.sum(np.exp(ys[t])) # probabilities for next chars. \n",
    "        \n",
    "        # Softmax. -> The sum of probabilities is 1 even without the exp() function, but all of the elements are positive through the exp() function.\n",
    "        loss += -np.log(ps[t][targets[t],0]) # softmax (cross-entropy loss). Efficient and simple code\n",
    "\n",
    "#         y_class = np.zeros((num_chars, 1)) \n",
    "#         y_class[targets[t]] =1\n",
    "#         loss += np.sum(y_class*(-np.log(ps[t]))) # softmax (cross-entropy loss)        \n",
    "\n",
    "    return loss, ps, hs, xs"
   ]
  },
  {
   "cell_type": "markdown",
   "metadata": {
    "colab_type": "text",
    "id": "zm6qwNiqWdMe"
   },
   "source": [
    "#### Backward propagation"
   ]
  },
  {
   "cell_type": "code",
   "execution_count": 46,
   "metadata": {
    "colab": {},
    "colab_type": "code",
    "id": "81qBiz_xWenI"
   },
   "outputs": [],
   "source": [
    "def backprop(ps, inputs, hs, xs, targets):\n",
    "\n",
    "    dWxh, dWhh, dWhy = np.zeros_like(W_xh), np.zeros_like(W_hh), np.zeros_like(W_hy) # make all zero matrices.\n",
    "    dbh, dby = np.zeros_like(b_h), np.zeros_like(b_y)\n",
    "    dhnext = np.zeros_like(hs[0]) # (hidden_size,1) \n",
    "\n",
    "    # reversed\n",
    "    for t in reversed(range(len(inputs))):\n",
    "        dy = np.copy(ps[t]) # shape (num_chars,1).  \"dy\" means \"dloss/dy\"\n",
    "        dy[targets[t]] -= 1 # backprop into y. After taking the soft max in the input vector, subtract 1 from the value of the element corresponding to the correct label.\n",
    "        dWhy += np.dot(dy, hs[t].T)\n",
    "        dby += dy \n",
    "        dh = np.dot(W_hy.T, dy) + dhnext # backprop into h. \n",
    "        dhraw = (1 - hs[t] * hs[t]) * dh # backprop through tanh nonlinearity #tanh'(x) = 1-tanh^2(x)\n",
    "        dbh += dhraw\n",
    "        dWxh += np.dot(dhraw, xs[t].T)\n",
    "        dWhh += np.dot(dhraw, hs[t-1].T)\n",
    "        dhnext = np.dot(W_hh.T, dhraw)\n",
    "    for dparam in [dWxh, dWhh, dWhy, dbh, dby]: \n",
    "        np.clip(dparam, -5, 5, out=dparam) # clip to mitigate exploding gradients.  \n",
    "    \n",
    "    return dWxh, dWhh, dWhy, dbh, dby"
   ]
  },
  {
   "cell_type": "markdown",
   "metadata": {
    "colab_type": "text",
    "id": "r8sBvcdbWfhi"
   },
   "source": [
    "#### Training"
   ]
  },
  {
   "cell_type": "code",
   "execution_count": 47,
   "metadata": {
    "colab": {
     "base_uri": "https://localhost:8080/",
     "height": 225
    },
    "colab_type": "code",
    "id": "iA4RM70LWgO_",
    "outputId": "0fd64bca-f1b5-4be1-9e80-076308365598"
   },
   "outputs": [
    {
     "name": "stdout",
     "output_type": "stream",
     "text": [
      "iter 0, loss: 827.407371\n",
      "iter 100, loss: 113.506736\n",
      "iter 200, loss: 95.840991\n",
      "iter 300, loss: 86.181227\n",
      "iter 400, loss: 63.676589\n",
      "iter 500, loss: 60.225487\n",
      "iter 600, loss: 47.421182\n",
      "iter 700, loss: 40.263053\n",
      "iter 800, loss: 27.265047\n",
      "iter 900, loss: 22.415387\n",
      "CPU times: user 14min 5s, sys: 7.47 s, total: 14min 12s\n",
      "Wall time: 2min 22s\n"
     ]
    }
   ],
   "source": [
    "%%time\n",
    "\n",
    "data_pointer = 0\n",
    "\n",
    "# memory variables for Adagrad\n",
    "mWxh, mWhh, mWhy = np.zeros_like(W_xh), np.zeros_like(W_hh), np.zeros_like(W_hy)\n",
    "mbh, mby = np.zeros_like(b_h), np.zeros_like(b_y) \n",
    "\n",
    "for i in range(iteration):\n",
    "    h_prev = np.zeros((hidden_size,1)) # reset RNN memory\n",
    "    data_pointer = 0 # go from start of data\n",
    "    \n",
    "    for b in range(batch_size):\n",
    "        \n",
    "        inputs = [char_to_int[ch] for ch in article_text[data_pointer:data_pointer+sequence_length]]\n",
    "        targets = [char_to_int[ch] for ch in article_text[data_pointer+1:data_pointer+sequence_length+1]] # t+1        \n",
    "            \n",
    "        if (data_pointer+sequence_length+1 >= len(article_text) and b == batch_size-1): # processing of the last part of the input data. \n",
    "#             targets.append(char_to_int[txt_data[0]])   # When the data doesn't fit, add the first char to the back.\n",
    "            targets.append(char_to_int[\" \"])   # When the data doesn't fit, add space(\" \") to the back.\n",
    "\n",
    "\n",
    "        # forward\n",
    "        loss, ps, hs, xs = forwardprop(inputs, targets, h_prev)\n",
    "#         print(loss)\n",
    "    \n",
    "        # backward\n",
    "        dWxh, dWhh, dWhy, dbh, dby = backprop(ps, inputs, hs, xs, targets) \n",
    "        \n",
    "        \n",
    "    # perform parameter update with Adagrad\n",
    "        for param, dparam, mem in zip([W_xh, W_hh, W_hy, b_h, b_y], \n",
    "                                    [dWxh, dWhh, dWhy, dbh, dby], \n",
    "                                    [mWxh, mWhh, mWhy, mbh, mby]):\n",
    "            mem += dparam * dparam # elementwise\n",
    "            param += -learning_rate * dparam / np.sqrt(mem + 1e-8) # adagrad update      \n",
    "    \n",
    "        data_pointer += sequence_length # move data pointer\n",
    "        \n",
    "    if i % 100 == 0:\n",
    "        print ('iter %d, loss: %f' % (i, loss)) # print progress"
   ]
  },
  {
   "cell_type": "markdown",
   "metadata": {
    "colab_type": "text",
    "id": "tjh8Ip68WgYV"
   },
   "source": [
    "#### Prediction"
   ]
  },
  {
   "cell_type": "code",
   "execution_count": 29,
   "metadata": {
    "colab": {},
    "colab_type": "code",
    "id": "HDCxDNPG68Hx"
   },
   "outputs": [],
   "source": [
    "def predict(test_char, length):\n",
    "    x = np.zeros((num_chars, 1)) \n",
    "    x[char_to_int[test_char]] = 1\n",
    "    ixes = []\n",
    "    h = np.zeros((hidden_size,1))\n",
    "\n",
    "    for t in range(length):\n",
    "        h = np.tanh(np.dot(W_xh, x) + np.dot(W_hh, h) + b_h) \n",
    "        y = np.dot(W_hy, h) + b_y\n",
    "        p = np.exp(y) / np.sum(np.exp(y)) \n",
    "        ix = np.random.choice(range(num_chars), p=p.ravel()) # ravel -> rank0\n",
    "        # \"ix\" is a list of indexes selected according to the soft max probability.\n",
    "        x = np.zeros((num_chars, 1)) # init\n",
    "        x[ix] = 1 \n",
    "        ixes.append(ix) # list\n",
    "    txt = test_char + ''.join(int_to_char[i] for i in ixes)\n",
    "    print ('----\\n %s \\n----' % (txt, ))"
   ]
  },
  {
   "cell_type": "code",
   "execution_count": 58,
   "metadata": {
    "colab": {
     "base_uri": "https://localhost:8080/",
     "height": 69
    },
    "colab_type": "code",
    "id": "nGVhl-Gxh6N6",
    "outputId": "e0c8b70b-fb50-4000-f4f8-a572539513db"
   },
   "outputs": [
    {
     "name": "stdout",
     "output_type": "stream",
     "text": [
      "----\n",
      " Therm019,hursip tha k . (Photo:a(Pug a  aXt sid Rob \n",
      "----\n"
     ]
    }
   ],
   "source": [
    "predict('T', 50)"
   ]
  },
  {
   "cell_type": "markdown",
   "metadata": {
    "colab_type": "text",
    "id": "xPsz-oefL1kP"
   },
   "source": [
    "Well... that's *vaguely* language-looking. Can you do better?"
   ]
  },
  {
   "cell_type": "markdown",
   "metadata": {
    "colab_type": "text",
    "id": "0lfZdD_cp1t5"
   },
   "source": [
    "# Assignment\n",
    "\n",
    "![Monkey at a typewriter](https://upload.wikimedia.org/wikipedia/commons/thumb/3/3c/Chimpanzee_seated_at_typewriter.jpg/603px-Chimpanzee_seated_at_typewriter.jpg)\n",
    "\n",
    "It is said that [infinite monkeys typing for an infinite amount of time](https://en.wikipedia.org/wiki/Infinite_monkey_theorem) will eventually type, among other things, the complete works of Wiliam Shakespeare. Let's see if we can get there a bit faster, with the power of Recurrent Neural Networks and LSTM.\n",
    "\n",
    "This text file contains the complete works of Shakespeare: https://www.gutenberg.org/files/100/100-0.txt\n",
    "\n",
    "Use it as training data for an RNN - you can keep it simple and train character level, and that is suggested as an initial approach.\n",
    "\n",
    "Then, use that trained RNN to generate Shakespearean-ish text. Your goal - a function that can take, as an argument, the size of text (e.g. number of characters or lines) to generate, and returns generated text of that size.\n",
    "\n",
    "Note - Shakespeare wrote an awful lot. It's OK, especially initially, to sample/use smaller data and parameters, so you can have a tighter feedback loop when you're trying to get things running. Then, once you've got a proof of concept - start pushing it more!"
   ]
  },
  {
   "cell_type": "markdown",
   "metadata": {},
   "source": [
    "## Imports"
   ]
  },
  {
   "cell_type": "code",
   "execution_count": 15,
   "metadata": {},
   "outputs": [],
   "source": [
    "import pandas as pd\n",
    "import numpy as np\n",
    "import re"
   ]
  },
  {
   "cell_type": "code",
   "execution_count": 16,
   "metadata": {
    "colab": {},
    "colab_type": "code",
    "id": "Ltj1je1fp5rO"
   },
   "outputs": [],
   "source": [
    "shakespeare = open('100-0.txt')"
   ]
  },
  {
   "cell_type": "code",
   "execution_count": 17,
   "metadata": {},
   "outputs": [],
   "source": [
    "lines = shakespeare.readlines()"
   ]
  },
  {
   "cell_type": "code",
   "execution_count": 18,
   "metadata": {},
   "outputs": [
    {
     "data": {
      "text/plain": [
       "['\\ufeff\\n',\n",
       " '\\n',\n",
       " '                    1\\n',\n",
       " '\\n',\n",
       " 'From fairest creatures we desire increase,\\n',\n",
       " 'That thereby beauty’s rose might never die,\\n',\n",
       " 'But as the riper should by time decease,\\n',\n",
       " 'His tender heir might bear his memory:\\n',\n",
       " 'But thou contracted to thine own bright eyes,\\n',\n",
       " 'Feed’st thy light’s flame with self-substantial fuel,\\n']"
      ]
     },
     "execution_count": 18,
     "metadata": {},
     "output_type": "execute_result"
    }
   ],
   "source": [
    "lines[0:10]"
   ]
  },
  {
   "cell_type": "markdown",
   "metadata": {},
   "source": [
    "## Clean Text"
   ]
  },
  {
   "cell_type": "code",
   "execution_count": 19,
   "metadata": {},
   "outputs": [],
   "source": [
    "line_list = []"
   ]
  },
  {
   "cell_type": "code",
   "execution_count": 20,
   "metadata": {},
   "outputs": [],
   "source": [
    "line_list = []\n",
    "\n",
    "# Remove markdown, numbers, and blank lines\n",
    "for line in lines:\n",
    "    line = line.replace('\\n', '')\n",
    "    line = re.sub(r'(\\d)+','',line)\n",
    "    line = line.strip()\n",
    "\n",
    "    line_list.append(line)\n",
    "\n",
    "# Remove blank lines\n",
    "line_list = list(filter(None, line_list))\n",
    "\n",
    "# Remove first line\n",
    "shakespeare = line_list[1:]"
   ]
  },
  {
   "cell_type": "code",
   "execution_count": 21,
   "metadata": {},
   "outputs": [],
   "source": [
    "text=' '.join(shakespeare[0:100])"
   ]
  },
  {
   "cell_type": "markdown",
   "metadata": {},
   "source": [
    "## Vectorize Text"
   ]
  },
  {
   "cell_type": "code",
   "execution_count": 22,
   "metadata": {},
   "outputs": [
    {
     "name": "stdout",
     "output_type": "stream",
     "text": [
      "unique characters :  55\n",
      "txt_data_size :  4335\n"
     ]
    }
   ],
   "source": [
    "# Based on \"The Unreasonable Effectiveness of RNN\" implementation\n",
    "import numpy as np\n",
    "\n",
    "chars = list(set(text)) # split and remove duplicate characters. convert to list.\n",
    "\n",
    "num_chars = len(chars) # the number of unique characters\n",
    "txt_data_size = len(text)\n",
    "\n",
    "print(\"unique characters : \", num_chars)\n",
    "print(\"txt_data_size : \", txt_data_size)"
   ]
  },
  {
   "cell_type": "code",
   "execution_count": 23,
   "metadata": {},
   "outputs": [
    {
     "name": "stdout",
     "output_type": "stream",
     "text": [
      "{'B': 0, 'b': 1, ';': 2, 't': 3, 'H': 4, 'T': 5, 'D': 6, ' ': 7, 'g': 8, 'R': 9, ',': 10, 'd': 11, 'm': 12, '‘': 13, 'v': 14, 'c': 15, '(': 16, 'O': 17, 'U': 18, 'z': 19, 'S': 20, 'u': 21, 'L': 22, 'A': 23, 'x': 24, '.': 25, 'n': 26, 'N': 27, 'h': 28, 'l': 29, ':': 30, 'k': 31, 'e': 32, 'a': 33, 'M': 34, 'y': 35, 'W': 36, 'P': 37, 'C': 38, 'I': 39, ')': 40, 'q': 41, 'p': 42, 'F': 43, 'Y': 44, 'j': 45, 'r': 46, 's': 47, 'o': 48, 'i': 49, 'f': 50, '?': 51, '’': 52, 'w': 53, '-': 54}\n",
      "----------------------------------------------------\n",
      "{0: 'B', 1: 'b', 2: ';', 3: 't', 4: 'H', 5: 'T', 6: 'D', 7: ' ', 8: 'g', 9: 'R', 10: ',', 11: 'd', 12: 'm', 13: '‘', 14: 'v', 15: 'c', 16: '(', 17: 'O', 18: 'U', 19: 'z', 20: 'S', 21: 'u', 22: 'L', 23: 'A', 24: 'x', 25: '.', 26: 'n', 27: 'N', 28: 'h', 29: 'l', 30: ':', 31: 'k', 32: 'e', 33: 'a', 34: 'M', 35: 'y', 36: 'W', 37: 'P', 38: 'C', 39: 'I', 40: ')', 41: 'q', 42: 'p', 43: 'F', 44: 'Y', 45: 'j', 46: 'r', 47: 's', 48: 'o', 49: 'i', 50: 'f', 51: '?', 52: '’', 53: 'w', 54: '-'}\n",
      "----------------------------------------------------\n",
      "[43, 46, 48, 12, 7, 50, 33, 49, 46, 32, 47, 3, 7, 15, 46, 32, 33, 3, 21, 46, 32, 47, 7, 53, 32, 7, 11, 32, 47, 49, 46, 32, 7, 49, 26, 15, 46, 32, 33, 47, 32, 10, 7, 5, 28, 33, 3, 7, 3, 28, 32, 46, 32, 1, 35, 7, 1, 32, 33, 21, 3, 35, 52, 47, 7, 46, 48, 47, 32, 7, 12, 49, 8, 28, 3, 7, 26, 32, 14, 32, 46, 7, 11, 49, 32, 10, 7, 0, 21, 3, 7, 33, 47, 7, 3, 28, 32, 7, 46, 49, 42, 32, 46, 7, 47, 28, 48, 21, 29, 11, 7, 1, 35, 7, 3, 49, 12, 32, 7, 11, 32, 15, 32, 33, 47, 32, 10, 7, 4, 49, 47, 7, 3, 32, 26, 11, 32, 46, 7, 28, 32, 49, 46, 7, 12, 49, 8, 28, 3, 7, 1, 32, 33, 46, 7, 28, 49, 47, 7, 12, 32, 12, 48, 46, 35, 30, 7, 0, 21, 3, 7, 3, 28, 48, 21, 7, 15, 48, 26, 3, 46, 33, 15, 3, 32, 11, 7, 3, 48, 7, 3, 28, 49, 26, 32, 7, 48, 53, 26, 7, 1, 46, 49, 8, 28, 3, 7, 32, 35, 32, 47, 10, 7, 43, 32, 32, 11, 52, 47, 3, 7, 3, 28, 35, 7, 29, 49, 8, 28, 3, 52, 47, 7, 50, 29, 33, 12, 32, 7, 53, 49, 3, 28, 7, 47, 32, 29, 50, 54, 47, 21, 1, 47, 3, 33, 26, 3, 49, 33, 29, 7, 50, 21, 32, 29, 10, 7, 34, 33, 31, 49, 26, 8, 7, 33, 7, 50, 33, 12, 49, 26, 32, 7, 53, 28, 32, 46, 32, 7, 33, 1, 21, 26, 11, 33, 26, 15, 32, 7, 29, 49, 32, 47, 10, 7, 5, 28, 35, 7, 47, 32, 29, 50, 7, 3, 28, 35, 7, 50, 48, 32, 10, 7, 3, 48, 7, 3, 28, 35, 7, 47, 53, 32, 32, 3, 7, 47, 32, 29, 50, 7, 3, 48, 48, 7, 15, 46, 21, 32, 29, 30, 7, 5, 28, 48, 21, 7, 3, 28, 33, 3, 7, 33, 46, 3, 7, 26, 48, 53, 7, 3, 28, 32, 7, 53, 48, 46, 29, 11, 52, 47, 7, 50, 46, 32, 47, 28, 7, 48, 46, 26, 33, 12, 32, 26, 3, 10, 7, 23, 26, 11, 7, 48, 26, 29, 35, 7, 28, 32, 46, 33, 29, 11, 7, 3, 48, 7, 3, 28, 32, 7, 8, 33, 21, 11, 35, 7, 47, 42, 46, 49, 26, 8, 10, 7, 36, 49, 3, 28, 49, 26, 7, 3, 28, 49, 26, 32, 7, 48, 53, 26, 7, 1, 21, 11, 7, 1, 21, 46, 49, 32, 47, 3, 7, 3, 28, 35, 7, 15, 48, 26, 3, 32, 26, 3, 10, 7, 23, 26, 11, 10, 7, 3, 32, 26, 11, 32, 46, 7, 15, 28, 21, 46, 29, 10, 7, 12, 33, 31, 52, 47, 3, 7, 53, 33, 47, 3, 32, 7, 49, 26, 7, 26, 49, 8, 8, 33, 46, 11, 49, 26, 8, 30, 7, 37, 49, 3, 35, 7, 3, 28, 32, 7, 53, 48, 46, 29, 11, 10, 7, 48, 46, 7, 32, 29, 47, 32, 7, 3, 28, 49, 47, 7, 8, 29, 21, 3, 3, 48, 26, 7, 1, 32, 10, 7, 5, 48, 7, 32, 33, 3, 7, 3, 28, 32, 7, 53, 48, 46, 29, 11, 52, 47, 7, 11, 21, 32, 10, 7, 1, 35, 7, 3, 28, 32, 7, 8, 46, 33, 14, 32, 7, 33, 26, 11, 7, 3, 28, 32, 32, 25, 7, 36, 28, 32, 26, 7, 50, 48, 46, 3, 35, 7, 53, 49, 26, 3, 32, 46, 47, 7, 47, 28, 33, 29, 29, 7, 1, 32, 47, 49, 32, 8, 32, 7, 3, 28, 35, 7, 1, 46, 48, 53, 10, 7, 23, 26, 11, 7, 11, 49, 8, 7, 11, 32, 32, 42, 7, 3, 46, 32, 26, 15, 28, 32, 47, 7, 49, 26, 7, 3, 28, 35, 7, 1, 32, 33, 21, 3, 35, 52, 47, 7, 50, 49, 32, 29, 11, 10, 7, 5, 28, 35, 7, 35, 48, 21, 3, 28, 52, 47, 7, 42, 46, 48, 21, 11, 7, 29, 49, 14, 32, 46, 35, 7, 47, 48, 7, 8, 33, 19, 32, 11, 7, 48, 26, 7, 26, 48, 53, 10, 7, 36, 49, 29, 29, 7, 1, 32, 7, 33, 7, 3, 33, 3, 3, 32, 46, 32, 11, 7, 53, 32, 32, 11, 7, 48, 50, 7, 47, 12, 33, 29, 29, 7, 53, 48, 46, 3, 28, 7, 28, 32, 29, 11, 30, 7, 5, 28, 32, 26, 7, 1, 32, 49, 26, 8, 7, 33, 47, 31, 32, 11, 10, 7, 53, 28, 32, 46, 32, 7, 33, 29, 29, 7, 3, 28, 35, 7, 1, 32, 33, 21, 3, 35, 7, 29, 49, 32, 47, 10, 7, 36, 28, 32, 46, 32, 7, 33, 29, 29, 7, 3, 28, 32, 7, 3, 46, 32, 33, 47, 21, 46, 32, 7, 48, 50, 7, 3, 28, 35, 7, 29, 21, 47, 3, 35, 7, 11, 33, 35, 47, 2, 7, 5, 48, 7, 47, 33, 35, 10, 7, 53, 49, 3, 28, 49, 26, 7, 3, 28, 49, 26, 32, 7, 48, 53, 26, 7, 11, 32, 32, 42, 7, 47, 21, 26, 31, 32, 26, 7, 32, 35, 32, 47, 10, 7, 36, 32, 46, 32, 7, 33, 26, 7, 33, 29, 29, 54, 32, 33, 3, 49, 26, 8, 7, 47, 28, 33, 12, 32, 10, 7, 33, 26, 11, 7, 3, 28, 46, 49, 50, 3, 29, 32, 47, 47, 7, 42, 46, 33, 49, 47, 32, 25, 7, 4, 48, 53, 7, 12, 21, 15, 28, 7, 12, 48, 46, 32, 7, 42, 46, 33, 49, 47, 32, 7, 11, 32, 47, 32, 46, 14, 52, 11, 7, 3, 28, 35, 7, 1, 32, 33, 21, 3, 35, 52, 47, 7, 21, 47, 32, 10, 7, 39, 50, 7, 3, 28, 48, 21, 7, 15, 48, 21, 29, 11, 47, 3, 7, 33, 26, 47, 53, 32, 46, 7, 13, 5, 28, 49, 47, 7, 50, 33, 49, 46, 7, 15, 28, 49, 29, 11, 7, 48, 50, 7, 12, 49, 26, 32, 7, 20, 28, 33, 29, 29, 7, 47, 21, 12, 7, 12, 35, 7, 15, 48, 21, 26, 3, 10, 7, 33, 26, 11, 7, 12, 33, 31, 32, 7, 12, 35, 7, 48, 29, 11, 7, 32, 24, 15, 21, 47, 32, 10, 52, 7, 37, 46, 48, 14, 49, 26, 8, 7, 28, 49, 47, 7, 1, 32, 33, 21, 3, 35, 7, 1, 35, 7, 47, 21, 15, 15, 32, 47, 47, 49, 48, 26, 7, 3, 28, 49, 26, 32, 25, 7, 5, 28, 49, 47, 7, 53, 32, 46, 32, 7, 3, 48, 7, 1, 32, 7, 26, 32, 53, 7, 12, 33, 11, 32, 7, 53, 28, 32, 26, 7, 3, 28, 48, 21, 7, 33, 46, 3, 7, 48, 29, 11, 10, 7, 23, 26, 11, 7, 47, 32, 32, 7, 3, 28, 35, 7, 1, 29, 48, 48, 11, 7, 53, 33, 46, 12, 7, 53, 28, 32, 26, 7, 3, 28, 48, 21, 7, 50, 32, 32, 29, 52, 47, 3, 7, 49, 3, 7, 15, 48, 29, 11, 25, 7, 22, 48, 48, 31, 7, 49, 26, 7, 3, 28, 35, 7, 8, 29, 33, 47, 47, 7, 33, 26, 11, 7, 3, 32, 29, 29, 7, 3, 28, 32, 7, 50, 33, 15, 32, 7, 3, 28, 48, 21, 7, 14, 49, 32, 53, 32, 47, 3, 10, 7, 27, 48, 53, 7, 49, 47, 7, 3, 28, 32, 7, 3, 49, 12, 32, 7, 3, 28, 33, 3, 7, 50, 33, 15, 32, 7, 47, 28, 48, 21, 29, 11, 7, 50, 48, 46, 12, 7, 33, 26, 48, 3, 28, 32, 46, 10, 7, 36, 28, 48, 47, 32, 7, 50, 46, 32, 47, 28, 7, 46, 32, 42, 33, 49, 46, 7, 49, 50, 7, 26, 48, 53, 7, 3, 28, 48, 21, 7, 26, 48, 3, 7, 46, 32, 26, 32, 53, 32, 47, 3, 10, 7, 5, 28, 48, 21, 7, 11, 48, 47, 3, 7, 1, 32, 8, 21, 49, 29, 32, 7, 3, 28, 32, 7, 53, 48, 46, 29, 11, 10, 7, 21, 26, 1, 29, 32, 47, 47, 7, 47, 48, 12, 32, 7, 12, 48, 3, 28, 32, 46, 25, 7, 43, 48, 46, 7, 53, 28, 32, 46, 32, 7, 49, 47, 7, 47, 28, 32, 7, 47, 48, 7, 50, 33, 49, 46, 7, 53, 28, 48, 47, 32, 7, 21, 26, 32, 33, 46, 32, 11, 7, 53, 48, 12, 1, 7, 6, 49, 47, 11, 33, 49, 26, 47, 7, 3, 28, 32, 7, 3, 49, 29, 29, 33, 8, 32, 7, 48, 50, 7, 3, 28, 35, 7, 28, 21, 47, 1, 33, 26, 11, 46, 35, 51, 7, 17, 46, 7, 53, 28, 48, 7, 49, 47, 7, 28, 32, 7, 47, 48, 7, 50, 48, 26, 11, 7, 53, 49, 29, 29, 7, 1, 32, 7, 3, 28, 32, 7, 3, 48, 12, 1, 7, 17, 50, 7, 28, 49, 47, 7, 47, 32, 29, 50, 54, 29, 48, 14, 32, 7, 3, 48, 7, 47, 3, 48, 42, 7, 42, 48, 47, 3, 32, 46, 49, 3, 35, 51, 7, 5, 28, 48, 21, 7, 33, 46, 3, 7, 3, 28, 35, 7, 12, 48, 3, 28, 32, 46, 52, 47, 7, 8, 29, 33, 47, 47, 7, 33, 26, 11, 7, 47, 28, 32, 7, 49, 26, 7, 3, 28, 32, 32, 7, 38, 33, 29, 29, 47, 7, 1, 33, 15, 31, 7, 3, 28, 32, 7, 29, 48, 14, 32, 29, 35, 7, 23, 42, 46, 49, 29, 7, 48, 50, 7, 28, 32, 46, 7, 42, 46, 49, 12, 32, 10, 7, 20, 48, 7, 3, 28, 48, 21, 7, 3, 28, 46, 48, 21, 8, 28, 7, 53, 49, 26, 11, 48, 53, 47, 7, 48, 50, 7, 3, 28, 49, 26, 32, 7, 33, 8, 32, 7, 47, 28, 33, 29, 3, 7, 47, 32, 32, 10, 7, 6, 32, 47, 42, 49, 3, 32, 7, 48, 50, 7, 53, 46, 49, 26, 31, 29, 32, 47, 7, 3, 28, 49, 47, 7, 3, 28, 35, 7, 8, 48, 29, 11, 32, 26, 7, 3, 49, 12, 32, 25, 7, 0, 21, 3, 7, 49, 50, 7, 3, 28, 48, 21, 7, 29, 49, 14, 32, 7, 46, 32, 12, 32, 12, 1, 32, 46, 32, 11, 7, 26, 48, 3, 7, 3, 48, 7, 1, 32, 10, 7, 6, 49, 32, 7, 47, 49, 26, 8, 29, 32, 7, 33, 26, 11, 7, 3, 28, 49, 26, 32, 7, 49, 12, 33, 8, 32, 7, 11, 49, 32, 47, 7, 53, 49, 3, 28, 7, 3, 28, 32, 32, 25, 7, 18, 26, 3, 28, 46, 49, 50, 3, 35, 7, 29, 48, 14, 32, 29, 49, 26, 32, 47, 47, 7, 53, 28, 35, 7, 11, 48, 47, 3, 7, 3, 28, 48, 21, 7, 47, 42, 32, 26, 11, 10, 7, 18, 42, 48, 26, 7, 3, 28, 35, 7, 47, 32, 29, 50, 7, 3, 28, 35, 7, 1, 32, 33, 21, 3, 35, 52, 47, 7, 29, 32, 8, 33, 15, 35, 51, 7, 27, 33, 3, 21, 46, 32, 52, 47, 7, 1, 32, 41, 21, 32, 47, 3, 7, 8, 49, 14, 32, 47, 7, 26, 48, 3, 28, 49, 26, 8, 7, 1, 21, 3, 7, 11, 48, 3, 28, 7, 29, 32, 26, 11, 10, 7, 23, 26, 11, 7, 1, 32, 49, 26, 8, 7, 50, 46, 33, 26, 31, 7, 47, 28, 32, 7, 29, 32, 26, 11, 47, 7, 3, 48, 7, 3, 28, 48, 47, 32, 7, 33, 46, 32, 7, 50, 46, 32, 32, 30, 7, 5, 28, 32, 26, 7, 1, 32, 33, 21, 3, 32, 48, 21, 47, 7, 26, 49, 8, 8, 33, 46, 11, 7, 53, 28, 35, 7, 11, 48, 47, 3, 7, 3, 28, 48, 21, 7, 33, 1, 21, 47, 32, 10, 7, 5, 28, 32, 7, 1, 48, 21, 26, 3, 32, 48, 21, 47, 7, 29, 33, 46, 8, 32, 47, 47, 7, 8, 49, 14, 32, 26, 7, 3, 28, 32, 32, 7, 3, 48, 7, 8, 49, 14, 32, 51, 7, 37, 46, 48, 50, 49, 3, 29, 32, 47, 47, 7, 21, 47, 21, 46, 32, 46, 7, 53, 28, 35, 7, 11, 48, 47, 3, 7, 3, 28, 48, 21, 7, 21, 47, 32, 7, 20, 48, 7, 8, 46, 32, 33, 3, 7, 33, 7, 47, 21, 12, 7, 48, 50, 7, 47, 21, 12, 47, 7, 35, 32, 3, 7, 15, 33, 26, 47, 3, 7, 26, 48, 3, 7, 29, 49, 14, 32, 51, 7, 43, 48, 46, 7, 28, 33, 14, 49, 26, 8, 7, 3, 46, 33, 50, 50, 49, 15, 7, 53, 49, 3, 28, 7, 3, 28, 35, 7, 47, 32, 29, 50, 7, 33, 29, 48, 26, 32, 10, 7, 5, 28, 48, 21, 7, 48, 50, 7, 3, 28, 35, 7, 47, 32, 29, 50, 7, 3, 28, 35, 7, 47, 53, 32, 32, 3, 7, 47, 32, 29, 50, 7, 11, 48, 47, 3, 7, 11, 32, 15, 32, 49, 14, 32, 10, 7, 5, 28, 32, 26, 7, 28, 48, 53, 7, 53, 28, 32, 26, 7, 26, 33, 3, 21, 46, 32, 7, 15, 33, 29, 29, 47, 7, 3, 28, 32, 32, 7, 3, 48, 7, 1, 32, 7, 8, 48, 26, 32, 10, 7, 36, 28, 33, 3, 7, 33, 15, 15, 32, 42, 3, 33, 1, 29, 32, 7, 33, 21, 11, 49, 3, 7, 15, 33, 26, 47, 3, 7, 3, 28, 48, 21, 7, 29, 32, 33, 14, 32, 51, 7, 5, 28, 35, 7, 21, 26, 21, 47, 32, 11, 7, 1, 32, 33, 21, 3, 35, 7, 12, 21, 47, 3, 7, 1, 32, 7, 3, 48, 12, 1, 32, 11, 7, 53, 49, 3, 28, 7, 3, 28, 32, 32, 10, 7, 36, 28, 49, 15, 28, 7, 21, 47, 32, 11, 7, 29, 49, 14, 32, 47, 7, 3, 28, 52, 7, 32, 24, 32, 15, 21, 3, 48, 46, 7, 3, 48, 7, 1, 32, 25, 7, 5, 28, 48, 47, 32, 7, 28, 48, 21, 46, 47, 7, 3, 28, 33, 3, 7, 53, 49, 3, 28, 7, 8, 32, 26, 3, 29, 32, 7, 53, 48, 46, 31, 7, 11, 49, 11, 7, 50, 46, 33, 12, 32, 7, 5, 28, 32, 7, 29, 48, 14, 32, 29, 35, 7, 8, 33, 19, 32, 7, 53, 28, 32, 46, 32, 7, 32, 14, 32, 46, 35, 7, 32, 35, 32, 7, 11, 48, 3, 28, 7, 11, 53, 32, 29, 29, 7, 36, 49, 29, 29, 7, 42, 29, 33, 35, 7, 3, 28, 32, 7, 3, 35, 46, 33, 26, 3, 47, 7, 3, 48, 7, 3, 28, 32, 7, 14, 32, 46, 35, 7, 47, 33, 12, 32, 10, 7, 23, 26, 11, 7, 3, 28, 33, 3, 7, 21, 26, 50, 33, 49, 46, 7, 53, 28, 49, 15, 28, 7, 50, 33, 49, 46, 29, 35, 7, 11, 48, 3, 28, 7, 32, 24, 15, 32, 29, 30, 7, 43, 48, 46, 7, 26, 32, 14, 32, 46, 54, 46, 32, 47, 3, 49, 26, 8, 7, 3, 49, 12, 32, 7, 29, 32, 33, 11, 47, 7, 47, 21, 12, 12, 32, 46, 7, 48, 26, 7, 5, 48, 7, 28, 49, 11, 32, 48, 21, 47, 7, 53, 49, 26, 3, 32, 46, 7, 33, 26, 11, 7, 15, 48, 26, 50, 48, 21, 26, 11, 47, 7, 28, 49, 12, 7, 3, 28, 32, 46, 32, 10, 7, 20, 33, 42, 7, 15, 28, 32, 15, 31, 32, 11, 7, 53, 49, 3, 28, 7, 50, 46, 48, 47, 3, 7, 33, 26, 11, 7, 29, 21, 47, 3, 35, 7, 29, 32, 33, 14, 32, 47, 7, 41, 21, 49, 3, 32, 7, 8, 48, 26, 32, 10, 7, 0, 32, 33, 21, 3, 35, 7, 48, 52, 32, 46, 54, 47, 26, 48, 53, 32, 11, 7, 33, 26, 11, 7, 1, 33, 46, 32, 26, 32, 47, 47, 7, 32, 14, 32, 46, 35, 7, 53, 28, 32, 46, 32, 30, 7, 5, 28, 32, 26, 7, 53, 32, 46, 32, 7, 26, 48, 3, 7, 47, 21, 12, 12, 32, 46, 52, 47, 7, 11, 49, 47, 3, 49, 29, 29, 33, 3, 49, 48, 26, 7, 29, 32, 50, 3, 7, 23, 7, 29, 49, 41, 21, 49, 11, 7, 42, 46, 49, 47, 48, 26, 32, 46, 7, 42, 32, 26, 3, 7, 49, 26, 7, 53, 33, 29, 29, 47, 7, 48, 50, 7, 8, 29, 33, 47, 47, 10, 7, 0, 32, 33, 21, 3, 35, 52, 47, 7, 32, 50, 50, 32, 15, 3, 7, 53, 49, 3, 28, 7, 1, 32, 33, 21, 3, 35, 7, 53, 32, 46, 32, 7, 1, 32, 46, 32, 50, 3, 10, 7, 27, 48, 46, 7, 49, 3, 7, 26, 48, 46, 7, 26, 48, 7, 46, 32, 12, 32, 12, 1, 46, 33, 26, 15, 32, 7, 53, 28, 33, 3, 7, 49, 3, 7, 53, 33, 47, 25, 7, 0, 21, 3, 7, 50, 29, 48, 53, 32, 46, 47, 7, 11, 49, 47, 3, 49, 29, 29, 32, 11, 7, 3, 28, 48, 21, 8, 28, 7, 3, 28, 32, 35, 7, 53, 49, 3, 28, 7, 53, 49, 26, 3, 32, 46, 7, 12, 32, 32, 3, 10, 7, 22, 32, 32, 47, 32, 7, 1, 21, 3, 7, 3, 28, 32, 49, 46, 7, 47, 28, 48, 53, 10, 7, 3, 28, 32, 49, 46, 7, 47, 21, 1, 47, 3, 33, 26, 15, 32, 7, 47, 3, 49, 29, 29, 7, 29, 49, 14, 32, 47, 7, 47, 53, 32, 32, 3, 25, 7, 5, 28, 32, 26, 7, 29, 32, 3, 7, 26, 48, 3, 7, 53, 49, 26, 3, 32, 46, 52, 47, 7, 46, 33, 8, 8, 32, 11, 7, 28, 33, 26, 11, 7, 11, 32, 50, 33, 15, 32, 10, 7, 39, 26, 7, 3, 28, 32, 32, 7, 3, 28, 35, 7, 47, 21, 12, 12, 32, 46, 7, 32, 46, 32, 7, 3, 28, 48, 21, 7, 1, 32, 7, 11, 49, 47, 3, 49, 29, 29, 32, 11, 30, 7, 34, 33, 31, 32, 7, 47, 53, 32, 32, 3, 7, 47, 48, 12, 32, 7, 14, 49, 33, 29, 2, 7, 3, 46, 32, 33, 47, 21, 46, 32, 7, 3, 28, 48, 21, 7, 47, 48, 12, 32, 7, 42, 29, 33, 15, 32, 10, 7, 36, 49, 3, 28, 7, 1, 32, 33, 21, 3, 35, 52, 47, 7, 3, 46, 32, 33, 47, 21, 46, 32, 7, 32, 46, 32, 7, 49, 3, 7, 1, 32, 7, 47, 32, 29, 50, 54, 31, 49, 29, 29, 32, 11, 30, 7, 5, 28, 33, 3, 7, 21, 47, 32, 7, 49, 47, 7, 26, 48, 3, 7, 50, 48, 46, 1, 49, 11, 11, 32, 26, 7, 21, 47, 21, 46, 35, 10, 7, 36, 28, 49, 15, 28, 7, 28, 33, 42, 42, 49, 32, 47, 7, 3, 28, 48, 47, 32, 7, 3, 28, 33, 3, 7, 42, 33, 35, 7, 3, 28, 32, 7, 53, 49, 29, 29, 49, 26, 8, 7, 29, 48, 33, 26, 2, 7, 5, 28, 33, 3, 52, 47, 7, 50, 48, 46, 7, 3, 28, 35, 7, 47, 32, 29, 50, 7, 3, 48, 7, 1, 46, 32, 32, 11, 7, 33, 26, 48, 3, 28, 32, 46, 7, 3, 28, 32, 32, 10, 7, 17, 46, 7, 3, 32, 26, 7, 3, 49, 12, 32, 47, 7, 28, 33, 42, 42, 49, 32, 46, 7, 1, 32, 7, 49, 3, 7, 3, 32, 26, 7, 50, 48, 46, 7, 48, 26, 32, 10, 7, 5, 32, 26, 7, 3, 49, 12, 32, 47, 7, 3, 28, 35, 7, 47, 32, 29, 50, 7, 53, 32, 46, 32, 7, 28, 33, 42, 42, 49, 32, 46, 7, 3, 28, 33, 26, 7, 3, 28, 48, 21, 7, 33, 46, 3, 10, 7, 39, 50, 7, 3, 32, 26, 7, 48, 50, 7, 3, 28, 49, 26, 32, 7, 3, 32, 26, 7, 3, 49, 12, 32, 47, 7, 46, 32, 50, 49, 8, 21, 46, 32, 11, 7, 3, 28, 32, 32, 30, 7, 5, 28, 32, 26, 7, 53, 28, 33, 3, 7, 15, 48, 21, 29, 11, 7, 11, 32, 33, 3, 28, 7, 11, 48, 7, 49, 50, 7, 3, 28, 48, 21, 7, 47, 28, 48, 21, 29, 11, 47, 3, 7, 11, 32, 42, 33, 46, 3, 10, 7, 22, 32, 33, 14, 49, 26, 8, 7, 3, 28, 32, 32, 7, 29, 49, 14, 49, 26, 8, 7, 49, 26, 7, 42, 48, 47, 3, 32, 46, 49, 3, 35, 51, 7, 0, 32, 7, 26, 48, 3, 7, 47, 32, 29, 50, 54, 53, 49, 29, 29, 32, 11, 7, 50, 48, 46, 7, 3, 28, 48, 21, 7, 33, 46, 3, 7, 12, 21, 15, 28, 7, 3, 48, 48, 7, 50, 33, 49, 46, 10, 7, 5, 48, 7, 1, 32, 7, 11, 32, 33, 3, 28, 52, 47, 7, 15, 48, 26, 41, 21, 32, 47, 3, 7, 33, 26, 11, 7, 12, 33, 31, 32, 7, 53, 48, 46, 12, 47, 7, 3, 28, 49, 26, 32, 7, 28, 32, 49, 46, 25, 7, 22, 48, 7, 49, 26, 7, 3, 28, 32, 7, 48, 46, 49, 32, 26, 3, 7, 53, 28, 32, 26, 7, 3, 28, 32, 7, 8, 46, 33, 15, 49, 48, 21, 47, 7, 29, 49, 8, 28, 3, 7, 22, 49, 50, 3, 47, 7, 21, 42, 7, 28, 49, 47, 7, 1, 21, 46, 26, 49, 26, 8, 7, 28, 32, 33, 11, 10, 7, 32, 33, 15, 28, 7, 21, 26, 11, 32, 46, 7, 32, 35, 32, 7, 6, 48, 3, 28, 7, 28, 48, 12, 33, 8, 32, 7, 3, 48, 7, 28, 49, 47, 7, 26, 32, 53, 54, 33, 42, 42, 32, 33, 46, 49, 26, 8, 7, 47, 49, 8, 28, 3, 10, 7, 20, 32, 46, 14, 49, 26, 8, 7, 53, 49, 3, 28, 7, 29, 48, 48, 31, 47, 7, 28, 49, 47, 7, 47, 33, 15, 46, 32, 11, 7, 12, 33, 45, 32, 47, 3, 35, 10, 7, 23, 26, 11, 7, 28, 33, 14, 49, 26, 8, 7, 15, 29, 49, 12, 1, 32, 11, 7, 3, 28, 32, 7, 47, 3, 32, 32, 42, 54, 21, 42, 7, 28, 32, 33, 14, 32, 26, 29, 35, 7, 28, 49, 29, 29, 10, 7, 9, 32, 47, 32, 12, 1, 29, 49, 26, 8, 7, 47, 3, 46, 48, 26, 8, 7, 35, 48, 21, 3, 28, 7, 49, 26, 7, 28, 49, 47, 7, 12, 49, 11, 11, 29, 32, 7, 33, 8, 32, 10, 7, 44, 32, 3, 7, 12, 48, 46, 3, 33, 29, 7, 29, 48, 48, 31, 47, 7, 33, 11, 48, 46, 32, 7, 28, 49, 47, 7, 1, 32, 33, 21, 3, 35, 7, 47, 3, 49, 29, 29, 10, 7, 23, 3, 3, 32, 26, 11, 49, 26, 8, 7, 48, 26, 7, 28, 49, 47, 7, 8, 48, 29, 11, 32, 26, 7, 42, 49, 29, 8, 46, 49, 12, 33, 8, 32, 30, 7, 0, 21, 3, 7, 53, 28, 32, 26, 7, 50, 46, 48, 12, 7, 28, 49, 8, 28, 12, 48, 47, 3, 7, 42, 49, 3, 15, 28, 7, 53, 49, 3, 28, 7, 53, 32, 33, 46, 35, 7, 15, 33, 46, 10, 7, 22, 49, 31, 32, 7, 50, 32, 32, 1, 29, 32, 7, 33, 8, 32, 7, 28, 32, 7, 46, 32, 32, 29, 32, 3, 28, 7, 50, 46, 48, 12, 7, 3, 28, 32, 7, 11, 33, 35, 10, 7, 5, 28, 32, 7, 32, 35, 32, 47, 7, 16, 50, 48, 46, 32, 7, 11, 21, 3, 32, 48, 21, 47, 40, 7, 26, 48, 53, 7, 15, 48, 26, 14, 32, 46, 3, 32, 11, 7, 33, 46, 32, 7, 43, 46, 48, 12, 7, 28, 49, 47, 7, 29, 48, 53, 7, 3, 46, 33, 15, 3, 7, 33, 26, 11, 7, 29, 48, 48, 31, 7, 33, 26, 48, 3, 28, 32, 46, 7, 53, 33, 35, 30, 7, 20, 48, 7, 3, 28, 48, 21, 10, 7, 3, 28, 35, 7, 47, 32, 29, 50, 7, 48, 21, 3, 54, 8, 48, 49, 26, 8, 7, 49, 26, 7, 3, 28, 35, 7, 26, 48, 48, 26, 30, 7, 18, 26, 29, 48, 48, 31, 32, 11, 7, 48, 26, 7, 11, 49, 32, 47, 3, 7, 21, 26, 29, 32, 47, 47, 7, 3, 28, 48, 21, 7, 8, 32, 3, 7, 33, 7, 47, 48, 26, 25, 7, 34, 21, 47, 49, 15, 7, 3, 48, 7, 28, 32, 33, 46, 10, 7, 53, 28, 35, 7, 28, 32, 33, 46, 52, 47, 3, 7, 3, 28, 48, 21, 7, 12, 21, 47, 49, 15, 7, 47, 33, 11, 29, 35, 51, 7, 20, 53, 32, 32, 3, 47, 7, 53, 49, 3, 28, 7, 47, 53, 32, 32, 3, 47, 7, 53, 33, 46, 7, 26, 48, 3, 10, 7, 45, 48, 35, 7, 11, 32, 29, 49, 8, 28, 3, 47, 7, 49, 26, 7, 45, 48, 35, 30]\n",
      "----------------------------------------------------\n",
      "data length :  4335\n"
     ]
    }
   ],
   "source": [
    "# one hot encode\n",
    "char_to_int = dict((c, i) for i, c in enumerate(chars)) # \"enumerate\" retruns index and value. Convert it to dictionary\n",
    "int_to_char = dict((i, c) for i, c in enumerate(chars))\n",
    "print(char_to_int)\n",
    "print(\"----------------------------------------------------\")\n",
    "print(int_to_char)\n",
    "print(\"----------------------------------------------------\")\n",
    "# integer encode input data\n",
    "integer_encoded = [char_to_int[i] for i in text] # \"integer_encoded\" is a list which has a sequence converted from an original data to integers.\n",
    "print(integer_encoded)\n",
    "print(\"----------------------------------------------------\")\n",
    "print(\"data length : \", len(integer_encoded))"
   ]
  },
  {
   "cell_type": "code",
   "execution_count": 24,
   "metadata": {},
   "outputs": [],
   "source": [
    "# hyperparameters\n",
    "\n",
    "iteration = 1000\n",
    "sequence_length = 40\n",
    "batch_size = round((txt_data_size /sequence_length)+0.5) # = math.ceil\n",
    "hidden_size = 500  # size of hidden layer of neurons.  \n",
    "learning_rate = 1e-1\n",
    "\n",
    "\n",
    "# model parameters\n",
    "\n",
    "W_xh = np.random.randn(hidden_size, num_chars)*0.01     # weight input -> hidden. \n",
    "W_hh = np.random.randn(hidden_size, hidden_size)*0.01   # weight hidden -> hidden\n",
    "W_hy = np.random.randn(num_chars, hidden_size)*0.01     # weight hidden -> output\n",
    "\n",
    "b_h = np.zeros((hidden_size, 1)) # hidden bias\n",
    "b_y = np.zeros((num_chars, 1)) # output bias\n",
    "\n",
    "h_prev = np.zeros((hidden_size,1)) # h_(t-1)"
   ]
  },
  {
   "cell_type": "code",
   "execution_count": 25,
   "metadata": {},
   "outputs": [],
   "source": [
    "def forwardprop(inputs, targets, h_prev):\n",
    "        \n",
    "    # Since the RNN receives the sequence, the weights are not updated during one sequence.\n",
    "    xs, hs, ys, ps = {}, {}, {}, {} # dictionary\n",
    "    hs[-1] = np.copy(h_prev) # Copy previous hidden state vector to -1 key value.\n",
    "    loss = 0 # loss initialization\n",
    "    \n",
    "    for t in range(len(inputs)): # t is a \"time step\" and is used as a key(dic).  \n",
    "        \n",
    "        xs[t] = np.zeros((num_chars,1)) \n",
    "        xs[t][inputs[t]] = 1\n",
    "        hs[t] = np.tanh(np.dot(W_xh, xs[t]) + np.dot(W_hh, hs[t-1]) + b_h) # hidden state. \n",
    "        ys[t] = np.dot(W_hy, hs[t]) + b_y # unnormalized log probabilities for next chars\n",
    "        ps[t] = np.exp(ys[t]) / np.sum(np.exp(ys[t])) # probabilities for next chars. \n",
    "        \n",
    "        # Softmax. -> The sum of probabilities is 1 even without the exp() function, but all of the elements are positive through the exp() function.\n",
    "        loss += -np.log(ps[t][targets[t],0]) # softmax (cross-entropy loss). Efficient and simple code\n",
    "\n",
    "#         y_class = np.zeros((num_chars, 1)) \n",
    "#         y_class[targets[t]] =1\n",
    "#         loss += np.sum(y_class*(-np.log(ps[t]))) # softmax (cross-entropy loss)        \n",
    "\n",
    "    return loss, ps, hs, xs"
   ]
  },
  {
   "cell_type": "code",
   "execution_count": 26,
   "metadata": {},
   "outputs": [],
   "source": [
    "def backprop(ps, inputs, hs, xs, targets):\n",
    "\n",
    "    dWxh, dWhh, dWhy = np.zeros_like(W_xh), np.zeros_like(W_hh), np.zeros_like(W_hy) # make all zero matrices.\n",
    "    dbh, dby = np.zeros_like(b_h), np.zeros_like(b_y)\n",
    "    dhnext = np.zeros_like(hs[0]) # (hidden_size,1) \n",
    "\n",
    "    # reversed\n",
    "    for t in reversed(range(len(inputs))):\n",
    "        dy = np.copy(ps[t]) # shape (num_chars,1).  \"dy\" means \"dloss/dy\"\n",
    "        dy[targets[t]] -= 1 # backprop into y. After taking the soft max in the input vector, subtract 1 from the value of the element corresponding to the correct label.\n",
    "        dWhy += np.dot(dy, hs[t].T)\n",
    "        dby += dy \n",
    "        dh = np.dot(W_hy.T, dy) + dhnext # backprop into h. \n",
    "        dhraw = (1 - hs[t] * hs[t]) * dh # backprop through tanh nonlinearity #tanh'(x) = 1-tanh^2(x)\n",
    "        dbh += dhraw\n",
    "        dWxh += np.dot(dhraw, xs[t].T)\n",
    "        dWhh += np.dot(dhraw, hs[t-1].T)\n",
    "        dhnext = np.dot(W_hh.T, dhraw)\n",
    "    for dparam in [dWxh, dWhh, dWhy, dbh, dby]: \n",
    "        np.clip(dparam, -5, 5, out=dparam) # clip to mitigate exploding gradients.  \n",
    "    \n",
    "    return dWxh, dWhh, dWhy, dbh, dby"
   ]
  },
  {
   "cell_type": "code",
   "execution_count": null,
   "metadata": {},
   "outputs": [],
   "source": []
  },
  {
   "cell_type": "code",
   "execution_count": 27,
   "metadata": {},
   "outputs": [
    {
     "name": "stdout",
     "output_type": "stream",
     "text": [
      "iter 0, loss: 96.734375\n",
      "iter 100, loss: 36.457530\n",
      "iter 200, loss: 24.883542\n",
      "iter 300, loss: 19.772421\n",
      "iter 400, loss: 24.124408\n",
      "iter 500, loss: 18.893545\n",
      "iter 600, loss: 16.730721\n",
      "iter 700, loss: 15.061605\n",
      "iter 800, loss: 18.591279\n",
      "iter 900, loss: 11.936329\n",
      "CPU times: user 14h 50min 56s, sys: 14h 46min 30s, total: 1d 5h 37min 26s\n",
      "Wall time: 1h 51min 25s\n"
     ]
    }
   ],
   "source": [
    "%%time\n",
    "\n",
    "data_pointer = 0\n",
    "\n",
    "# memory variables for Adagrad\n",
    "mWxh, mWhh, mWhy = np.zeros_like(W_xh), np.zeros_like(W_hh), np.zeros_like(W_hy)\n",
    "mbh, mby = np.zeros_like(b_h), np.zeros_like(b_y) \n",
    "\n",
    "for i in range(iteration):\n",
    "    h_prev = np.zeros((hidden_size,1)) # reset RNN memory\n",
    "    data_pointer = 0 # go from start of data\n",
    "    \n",
    "    for b in range(batch_size):\n",
    "        \n",
    "        inputs = [char_to_int[ch] for ch in text[data_pointer:data_pointer+sequence_length]]\n",
    "        targets = [char_to_int[ch] for ch in text[data_pointer+1:data_pointer+sequence_length+1]] # t+1        \n",
    "            \n",
    "        if (data_pointer+sequence_length+1 >= len(text) and b == batch_size-1): # processing of the last part of the input data. \n",
    "#             targets.append(char_to_int[txt_data[0]])   # When the data doesn't fit, add the first char to the back.\n",
    "            targets.append(char_to_int[\" \"])   # When the data doesn't fit, add space(\" \") to the back.\n",
    "\n",
    "\n",
    "        # forward\n",
    "        loss, ps, hs, xs = forwardprop(inputs, targets, h_prev)\n",
    "#         print(loss)\n",
    "    \n",
    "        # backward\n",
    "        dWxh, dWhh, dWhy, dbh, dby = backprop(ps, inputs, hs, xs, targets) \n",
    "        \n",
    "        \n",
    "    # perform parameter update with Adagrad\n",
    "        for param, dparam, mem in zip([W_xh, W_hh, W_hy, b_h, b_y], \n",
    "                                    [dWxh, dWhh, dWhy, dbh, dby], \n",
    "                                    [mWxh, mWhh, mWhy, mbh, mby]):\n",
    "            mem += dparam * dparam # elementwise\n",
    "            param += -learning_rate * dparam / np.sqrt(mem + 1e-8) # adagrad update      \n",
    "    \n",
    "        data_pointer += sequence_length # move data pointer\n",
    "        \n",
    "    if i % 100 == 0:\n",
    "        print ('iter %d, loss: %f' % (i, loss)) # print progress"
   ]
  },
  {
   "cell_type": "code",
   "execution_count": 31,
   "metadata": {},
   "outputs": [
    {
     "name": "stdout",
     "output_type": "stream",
     "text": [
      "----\n",
      " Thinloth not ho nappibet on time selne sifseld why hewies eesb’s on joy: no opke ing reofwars eal, Ma \n",
      "----\n"
     ]
    }
   ],
   "source": [
    "predict('T', 100)"
   ]
  },
  {
   "cell_type": "markdown",
   "metadata": {
    "colab_type": "text",
    "id": "zE4a4O7Bp5x1"
   },
   "source": [
    "# Resources and Stretch Goals"
   ]
  },
  {
   "cell_type": "markdown",
   "metadata": {
    "colab_type": "text",
    "id": "uT3UV3gap9H6"
   },
   "source": [
    "## Stretch goals:\n",
    "- Refine the training and generation of text to be able to ask for different genres/styles of Shakespearean text (e.g. plays versus sonnets)\n",
    "- Train a classification model that takes text and returns which work of Shakespeare it is most likely to be from\n",
    "- Make it more performant! Many possible routes here - lean on Keras, optimize the code, and/or use more resources (AWS, etc.)\n",
    "- Revisit the news example from class, and improve it - use categories or tags to refine the model/generation, or train a news classifier\n",
    "- Run on bigger, better data\n",
    "\n",
    "## Resources:\n",
    "- [The Unreasonable Effectiveness of Recurrent Neural Networks](https://karpathy.github.io/2015/05/21/rnn-effectiveness/) - a seminal writeup demonstrating a simple but effective character-level NLP RNN\n",
    "- [Simple NumPy implementation of RNN](https://github.com/JY-Yoon/RNN-Implementation-using-NumPy/blob/master/RNN%20Implementation%20using%20NumPy.ipynb) - Python 3 version of the code from \"Unreasonable Effectiveness\"\n",
    "- [TensorFlow RNN Tutorial](https://github.com/tensorflow/models/tree/master/tutorials/rnn) - code for training a RNN on the Penn Tree Bank language dataset\n",
    "- [4 part tutorial on RNN](http://www.wildml.com/2015/09/recurrent-neural-networks-tutorial-part-1-introduction-to-rnns/) - relates RNN to the vanishing gradient problem, and provides example implementation\n",
    "- [RNN training tips and tricks](https://github.com/karpathy/char-rnn#tips-and-tricks) - some rules of thumb for parameterizing and training your RNN"
   ]
  },
  {
   "cell_type": "code",
   "execution_count": null,
   "metadata": {},
   "outputs": [],
   "source": []
  },
  {
   "cell_type": "code",
   "execution_count": null,
   "metadata": {},
   "outputs": [],
   "source": []
  }
 ],
 "metadata": {
  "accelerator": "GPU",
  "colab": {
   "collapsed_sections": [],
   "name": "LS_DS_441_RNN_and_LSTM.ipynb",
   "provenance": [],
   "version": "0.3.2"
  },
  "kernelspec": {
   "display_name": "conda_python3",
   "language": "python",
   "name": "conda_python3"
  },
  "language_info": {
   "codemirror_mode": {
    "name": "ipython",
    "version": 3
   },
   "file_extension": ".py",
   "mimetype": "text/x-python",
   "name": "python",
   "nbconvert_exporter": "python",
   "pygments_lexer": "ipython3",
   "version": "3.6.5"
  }
 },
 "nbformat": 4,
 "nbformat_minor": 4
}
