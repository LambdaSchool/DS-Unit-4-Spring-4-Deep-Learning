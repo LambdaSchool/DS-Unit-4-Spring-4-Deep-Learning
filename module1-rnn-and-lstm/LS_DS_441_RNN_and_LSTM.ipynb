{
 "cells": [
  {
   "cell_type": "markdown",
   "metadata": {
    "colab_type": "text",
    "id": "_IizNKWLomoA"
   },
   "source": [
    "# Lambda School Data Science - Recurrent Neural Networks and LSTM\n",
    "\n",
    "> \"Yesterday's just a memory - tomorrow is never what it's supposed to be.\" -- Bob Dylan"
   ]
  },
  {
   "cell_type": "markdown",
   "metadata": {
    "colab_type": "text",
    "id": "0EZdBzC6pvV9"
   },
   "source": [
    "# Lecture\n",
    "\n",
    "Wish you could save [Time In A Bottle](https://www.youtube.com/watch?v=AnWWj6xOleY)? With statistics you can do the next best thing - understand how data varies over time (or any sequential order), and use the order/time dimension predictively.\n",
    "\n",
    "A sequence is just any enumerated collection - order counts, and repetition is allowed. Python lists are a good elemental example - `[1, 2, 2, -1]` is a valid list, and is different from `[1, 2, -1, 2]`. The data structures we tend to use (e.g. NumPy arrays) are often built on this fundamental structure.\n",
    "\n",
    "A time series is data where you have not just the order but some actual continuous marker for where they lie \"in time\" - this could be a date, a timestamp, [Unix time](https://en.wikipedia.org/wiki/Unix_time), or something else. All time series are also sequences, and for some techniques you may just consider their order and not \"how far apart\" the entries are (if you have particularly consistent data collected at regular intervals it may not matter)."
   ]
  },
  {
   "cell_type": "markdown",
   "metadata": {
    "colab_type": "text",
    "id": "5_m0hJ4uCzHz"
   },
   "source": [
    "## Time series with plain old regression\n",
    "\n",
    "Recurrences are fancy, and we'll get to those later - let's start with something simple. Regression can handle time series just fine if you just set them up correctly - let's try some made-up stock data. And to make it, let's use a few list comprehensions!"
   ]
  },
  {
   "cell_type": "code",
   "execution_count": 1,
   "metadata": {
    "colab": {},
    "colab_type": "code",
    "id": "GkJUFfsgnqr_"
   },
   "outputs": [],
   "source": [
    "import numpy as np\n",
    "from random import random\n",
    "days = np.array((range(28)))\n",
    "stock_quotes = np.array([random() + day * random() for day in days])"
   ]
  },
  {
   "cell_type": "code",
   "execution_count": 2,
   "metadata": {
    "colab": {
     "base_uri": "https://localhost:8080/",
     "height": 121
    },
    "colab_type": "code",
    "id": "y-ORgKGNBOcb",
    "outputId": "133809e1-8588-4acb-f07e-20dfefcd03ce"
   },
   "outputs": [
    {
     "data": {
      "text/plain": [
       "array([ 0.68087513,  1.1534174 ,  0.41458821,  0.89047739,  2.55203896,\n",
       "        3.42615812,  4.05268708,  2.18174666,  5.649702  ,  1.26254507,\n",
       "        9.99845917, 11.69787182,  5.74947931,  8.10957471, 11.62326892,\n",
       "        7.4590799 , 10.87827232,  5.1273977 ,  4.18948739,  9.1880204 ,\n",
       "       16.11350296,  6.23742041, 17.92242301,  7.14378024, 14.35057223,\n",
       "       10.06368816,  9.65745329, 24.98120863])"
      ]
     },
     "execution_count": 2,
     "metadata": {},
     "output_type": "execute_result"
    }
   ],
   "source": [
    "stock_quotes"
   ]
  },
  {
   "cell_type": "markdown",
   "metadata": {
    "colab_type": "text",
    "id": "X3lR2wGvBx3a"
   },
   "source": [
    "Let's take a look with a scatter plot:"
   ]
  },
  {
   "cell_type": "code",
   "execution_count": 3,
   "metadata": {
    "colab": {
     "base_uri": "https://localhost:8080/",
     "height": 364
    },
    "colab_type": "code",
    "id": "pVUTC2tmBSIq",
    "outputId": "75664a71-713d-4815-d4cc-2055f485784a"
   },
   "outputs": [
    {
     "data": {
      "text/plain": [
       "<matplotlib.collections.PathCollection at 0x7f0002077c50>"
      ]
     },
     "execution_count": 3,
     "metadata": {},
     "output_type": "execute_result"
    }
   ],
   "source": [
    "from matplotlib.pyplot import scatter\n",
    "scatter(days, stock_quotes)"
   ]
  },
  {
   "cell_type": "markdown",
   "metadata": {
    "colab_type": "text",
    "id": "hgD4q-T_B0jd"
   },
   "source": [
    "Looks pretty linear, let's try a simple OLS regression.\n",
    "\n",
    "First, these need to be NumPy arrays:"
   ]
  },
  {
   "cell_type": "code",
   "execution_count": 4,
   "metadata": {
    "colab": {},
    "colab_type": "code",
    "id": "A3Q0MrnUBXAl"
   },
   "outputs": [],
   "source": [
    "days = days.reshape(-1, 1)  # X needs to be column vectors"
   ]
  },
  {
   "cell_type": "markdown",
   "metadata": {
    "colab_type": "text",
    "id": "vqr0SHOnB5yR"
   },
   "source": [
    "Now let's use good old `scikit-learn` and linear regression:"
   ]
  },
  {
   "cell_type": "code",
   "execution_count": 5,
   "metadata": {
    "colab": {
     "base_uri": "https://localhost:8080/",
     "height": 34
    },
    "colab_type": "code",
    "id": "PqyHxgFvBYl5",
    "outputId": "0d4a183e-fdb3-4e97-c8be-ab31a82b07ff"
   },
   "outputs": [
    {
     "data": {
      "text/plain": [
       "0.5648321037888444"
      ]
     },
     "execution_count": 5,
     "metadata": {},
     "output_type": "execute_result"
    }
   ],
   "source": [
    "from sklearn.linear_model import LinearRegression\n",
    "ols_stocks = LinearRegression()\n",
    "ols_stocks.fit(days, stock_quotes)\n",
    "ols_stocks.score(days, stock_quotes)"
   ]
  },
  {
   "cell_type": "markdown",
   "metadata": {
    "colab_type": "text",
    "id": "KlU0mr-KB_Yk"
   },
   "source": [
    "That seems to work pretty well, but real stocks don't work like this.\n",
    "\n",
    "Let's make *slightly* more realistic data that depends on more than just time:"
   ]
  },
  {
   "cell_type": "code",
   "execution_count": 6,
   "metadata": {
    "colab": {},
    "colab_type": "code",
    "id": "-FV1Emb2BuLz"
   },
   "outputs": [],
   "source": [
    "# Not everything is best as a comprehension\n",
    "stock_data = np.empty([len(days), 4])\n",
    "for day in days:\n",
    "  asset = random()\n",
    "  liability = random()\n",
    "  quote = random() + ((day * random()) + (20 * asset) - (15 * liability))\n",
    "  quote = max(quote, 0.01)  # Want positive quotes\n",
    "  stock_data[day] = np.array([quote, day, asset, liability])"
   ]
  },
  {
   "cell_type": "code",
   "execution_count": 7,
   "metadata": {
    "colab": {
     "base_uri": "https://localhost:8080/",
     "height": 503
    },
    "colab_type": "code",
    "id": "6Qe2zzN1CESe",
    "outputId": "5b0cafbf-3a47-40cf-8bc3-38f2dc084e91"
   },
   "outputs": [
    {
     "data": {
      "text/plain": [
       "array([[2.02360891e+00, 0.00000000e+00, 2.40482538e-01, 2.14049958e-01],\n",
       "       [7.24780084e+00, 1.00000000e+00, 8.34617460e-01, 6.86157208e-01],\n",
       "       [7.97903071e+00, 2.00000000e+00, 8.85155762e-01, 6.53450363e-01],\n",
       "       [1.00000000e-02, 3.00000000e+00, 2.27261032e-02, 4.49404088e-01],\n",
       "       [7.49294859e-01, 4.00000000e+00, 6.03139147e-01, 8.82431763e-01],\n",
       "       [3.21633727e-01, 5.00000000e+00, 3.68922459e-01, 8.16589562e-01],\n",
       "       [5.63067542e+00, 6.00000000e+00, 7.31596118e-01, 7.31179716e-01],\n",
       "       [9.19460764e+00, 7.00000000e+00, 4.78703735e-01, 2.35183073e-01],\n",
       "       [1.97363569e+01, 8.00000000e+00, 7.16504012e-01, 5.37649541e-02],\n",
       "       [9.25887791e+00, 9.00000000e+00, 7.03094667e-01, 5.12154007e-01],\n",
       "       [2.72287196e+00, 1.00000000e+01, 2.58391766e-01, 6.62711916e-01],\n",
       "       [4.63406476e+00, 1.10000000e+01, 6.31258189e-01, 6.29264847e-01],\n",
       "       [1.13734430e+00, 1.20000000e+01, 2.11213477e-01, 3.45118981e-01],\n",
       "       [1.65055550e+01, 1.30000000e+01, 2.55715966e-01, 4.84889350e-02],\n",
       "       [5.77982661e+00, 1.40000000e+01, 7.20664900e-01, 9.18033657e-01],\n",
       "       [7.31137280e+00, 1.50000000e+01, 7.05351236e-01, 8.11494722e-01],\n",
       "       [1.43702759e+01, 1.60000000e+01, 8.13661188e-01, 2.27931197e-01],\n",
       "       [7.17031977e+00, 1.70000000e+01, 5.94252217e-01, 8.67285021e-01],\n",
       "       [1.68476378e+01, 1.80000000e+01, 8.40372346e-01, 1.55772354e-01],\n",
       "       [1.45330445e+01, 1.90000000e+01, 6.71460885e-01, 5.96224637e-01],\n",
       "       [2.32659585e+01, 2.00000000e+01, 8.50447796e-01, 3.90884745e-01],\n",
       "       [1.04618520e+01, 2.10000000e+01, 3.65331085e-02, 9.29302418e-02],\n",
       "       [1.67476591e+01, 2.20000000e+01, 8.14869292e-01, 4.14416303e-01],\n",
       "       [1.42313052e+01, 2.30000000e+01, 5.25737278e-01, 4.83666507e-01],\n",
       "       [3.30523304e+00, 2.40000000e+01, 8.97035024e-02, 2.33270081e-01],\n",
       "       [1.97138882e+01, 2.50000000e+01, 4.84141859e-01, 1.68992174e-01],\n",
       "       [1.71692783e+01, 2.60000000e+01, 7.15905550e-01, 3.38922612e-01],\n",
       "       [1.34170829e+01, 2.70000000e+01, 3.45448347e-01, 9.14968988e-01]])"
      ]
     },
     "execution_count": 7,
     "metadata": {},
     "output_type": "execute_result"
    }
   ],
   "source": [
    "stock_data"
   ]
  },
  {
   "cell_type": "markdown",
   "metadata": {
    "colab_type": "text",
    "id": "BzYy4Pb2CLCh"
   },
   "source": [
    "Let's look again:"
   ]
  },
  {
   "cell_type": "code",
   "execution_count": 8,
   "metadata": {
    "colab": {
     "base_uri": "https://localhost:8080/",
     "height": 364
    },
    "colab_type": "code",
    "id": "qdBcScz4CIXr",
    "outputId": "ad3ec81f-8fba-4355-d251-630ba5fc333c"
   },
   "outputs": [
    {
     "data": {
      "text/plain": [
       "<matplotlib.collections.PathCollection at 0x7efff5e06cc0>"
      ]
     },
     "execution_count": 8,
     "metadata": {},
     "output_type": "execute_result"
    },
    {
     "data": {
      "image/png": "[encoded data removed]",
      "text/plain": [
       "<Figure size 432x288 with 1 Axes>"
      ]
     },
     "metadata": {},
     "output_type": "display_data"
    }
   ],
   "source": [
    "stock_quotes = stock_data[:,0]\n",
    "scatter(days, stock_quotes)"
   ]
  },
  {
   "cell_type": "markdown",
   "metadata": {
    "colab_type": "text",
    "id": "SBXb7dieCO5h"
   },
   "source": [
    "How does our old model do?"
   ]
  },
  {
   "cell_type": "code",
   "execution_count": 9,
   "metadata": {
    "colab": {
     "base_uri": "https://localhost:8080/",
     "height": 34
    },
    "colab_type": "code",
    "id": "7gAxCgy1COnX",
    "outputId": "ab82d066-952b-4719-e252-f679badb7b91"
   },
   "outputs": [
    {
     "data": {
      "text/plain": [
       "0.35389708513116847"
      ]
     },
     "execution_count": 9,
     "metadata": {},
     "output_type": "execute_result"
    }
   ],
   "source": [
    "days = np.array(days).reshape(-1, 1)\n",
    "ols_stocks.fit(days, stock_quotes)\n",
    "ols_stocks.score(days, stock_quotes)"
   ]
  },
  {
   "cell_type": "markdown",
   "metadata": {
    "colab_type": "text",
    "id": "3E94vTFUCax_"
   },
   "source": [
    "Not bad, but can we do better?"
   ]
  },
  {
   "cell_type": "code",
   "execution_count": 10,
   "metadata": {
    "colab": {
     "base_uri": "https://localhost:8080/",
     "height": 34
    },
    "colab_type": "code",
    "id": "mCR5GImZCbGz",
    "outputId": "9c0ef176-cb6e-4727-bdab-02f22a663b20"
   },
   "outputs": [
    {
     "data": {
      "text/plain": [
       "0.7900931186041331"
      ]
     },
     "execution_count": 10,
     "metadata": {},
     "output_type": "execute_result"
    }
   ],
   "source": [
    "ols_stocks.fit(stock_data[:,1:], stock_quotes)\n",
    "ols_stocks.score(stock_data[:,1:], stock_quotes)"
   ]
  },
  {
   "cell_type": "markdown",
   "metadata": {
    "colab_type": "text",
    "id": "1Qk-jlBCCiKB"
   },
   "source": [
    "Yep - unsurprisingly, the other covariates (assets and liabilities) have info.\n",
    "\n",
    "But, they do worse without the day data."
   ]
  },
  {
   "cell_type": "code",
   "execution_count": 11,
   "metadata": {
    "colab": {
     "base_uri": "https://localhost:8080/",
     "height": 34
    },
    "colab_type": "code",
    "id": "dDcZl7I5Cf5D",
    "outputId": "3cbd0a6e-2aa6-4f21-dbb3-66ef266f782b"
   },
   "outputs": [
    {
     "data": {
      "text/plain": [
       "0.5384959549958062"
      ]
     },
     "execution_count": 11,
     "metadata": {},
     "output_type": "execute_result"
    }
   ],
   "source": [
    "ols_stocks.fit(stock_data[:,2:], stock_quotes)\n",
    "ols_stocks.score(stock_data[:,2:], stock_quotes)"
   ]
  },
  {
   "cell_type": "markdown",
   "metadata": {
    "colab_type": "text",
    "id": "pnLXlrK8ENjb"
   },
   "source": [
    "## Time series jargon\n",
    "\n",
    "There's a lot of semi-standard language and tricks to talk about this sort of data. [NIST](https://www.itl.nist.gov/div898/handbook/pmc/section4/pmc4.htm) has an excellent guidebook, but here are some highlights:"
   ]
  },
  {
   "cell_type": "markdown",
   "metadata": {
    "colab_type": "text",
    "id": "yWUyhnTbcq55"
   },
   "source": [
    "### Moving average\n",
    "\n",
    "Moving average aka rolling average aka running average.\n",
    "\n",
    "Convert a series of data to a series of averages of continguous subsets:"
   ]
  },
  {
   "cell_type": "code",
   "execution_count": 12,
   "metadata": {
    "colab": {
     "base_uri": "https://localhost:8080/",
     "height": 503
    },
    "colab_type": "code",
    "id": "47bHhBSCcvw-",
    "outputId": "ee6bc38c-43d1-4d12-def3-fa409c9dcac4"
   },
   "outputs": [
    {
     "data": {
      "text/plain": [
       "[5.75014681815041,\n",
       " 5.078943848145822,\n",
       " 2.912775188960339,\n",
       " 0.360309528873861,\n",
       " 2.2338680014788466,\n",
       " 5.048972262050504,\n",
       " 11.520546646947755,\n",
       " 12.729947477811931,\n",
       " 10.572702250126909,\n",
       " 5.538604874674051,\n",
       " 2.831427003506865,\n",
       " 7.425654670389723,\n",
       " 7.807575287352765,\n",
       " 9.865584788969343,\n",
       " 9.153825116525844,\n",
       " 9.617322836510674,\n",
       " 12.796077820368835,\n",
       " 12.850334002341365,\n",
       " 18.21554692835468,\n",
       " 16.08695167642661,\n",
       " 16.8251565513686,\n",
       " 13.813605441746391,\n",
       " 11.428065790893925,\n",
       " 12.416808827942505,\n",
       " 13.396133193265877,\n",
       " 16.766749826352825,\n",
       " 10.195453752014727,\n",
       " 4.472360981416462]"
      ]
     },
     "execution_count": 12,
     "metadata": {},
     "output_type": "execute_result"
    }
   ],
   "source": [
    "stock_quotes_rolling = [sum(stock_quotes[i:i+3]) / 3\n",
    "                        for i in range(len(stock_quotes - 2))]\n",
    "stock_quotes_rolling"
   ]
  },
  {
   "cell_type": "markdown",
   "metadata": {
    "colab_type": "text",
    "id": "36XvbGhoc186"
   },
   "source": [
    "Pandas has nice series related functions:"
   ]
  },
  {
   "cell_type": "code",
   "execution_count": 13,
   "metadata": {
    "colab": {
     "base_uri": "https://localhost:8080/",
     "height": 928
    },
    "colab_type": "code",
    "id": "nTNatxtycys_",
    "outputId": "65cf7f83-a475-435f-97cc-b0fc72d85f19"
   },
   "outputs": [
    {
     "data": {
      "text/html": [
       "<div>\n",
       "<style scoped>\n",
       "    .dataframe tbody tr th:only-of-type {\n",
       "        vertical-align: middle;\n",
       "    }\n",
       "\n",
       "    .dataframe tbody tr th {\n",
       "        vertical-align: top;\n",
       "    }\n",
       "\n",
       "    .dataframe thead th {\n",
       "        text-align: right;\n",
       "    }\n",
       "</style>\n",
       "<table border=\"1\" class=\"dataframe\">\n",
       "  <thead>\n",
       "    <tr style=\"text-align: right;\">\n",
       "      <th></th>\n",
       "      <th>0</th>\n",
       "    </tr>\n",
       "  </thead>\n",
       "  <tbody>\n",
       "    <tr>\n",
       "      <th>0</th>\n",
       "      <td>NaN</td>\n",
       "    </tr>\n",
       "    <tr>\n",
       "      <th>1</th>\n",
       "      <td>NaN</td>\n",
       "    </tr>\n",
       "    <tr>\n",
       "      <th>2</th>\n",
       "      <td>5.750147</td>\n",
       "    </tr>\n",
       "    <tr>\n",
       "      <th>3</th>\n",
       "      <td>5.078944</td>\n",
       "    </tr>\n",
       "    <tr>\n",
       "      <th>4</th>\n",
       "      <td>2.912775</td>\n",
       "    </tr>\n",
       "    <tr>\n",
       "      <th>5</th>\n",
       "      <td>0.360310</td>\n",
       "    </tr>\n",
       "    <tr>\n",
       "      <th>6</th>\n",
       "      <td>2.233868</td>\n",
       "    </tr>\n",
       "    <tr>\n",
       "      <th>7</th>\n",
       "      <td>5.048972</td>\n",
       "    </tr>\n",
       "    <tr>\n",
       "      <th>8</th>\n",
       "      <td>11.520547</td>\n",
       "    </tr>\n",
       "    <tr>\n",
       "      <th>9</th>\n",
       "      <td>12.729947</td>\n",
       "    </tr>\n",
       "    <tr>\n",
       "      <th>10</th>\n",
       "      <td>10.572702</td>\n",
       "    </tr>\n",
       "    <tr>\n",
       "      <th>11</th>\n",
       "      <td>5.538605</td>\n",
       "    </tr>\n",
       "    <tr>\n",
       "      <th>12</th>\n",
       "      <td>2.831427</td>\n",
       "    </tr>\n",
       "    <tr>\n",
       "      <th>13</th>\n",
       "      <td>7.425655</td>\n",
       "    </tr>\n",
       "    <tr>\n",
       "      <th>14</th>\n",
       "      <td>7.807575</td>\n",
       "    </tr>\n",
       "    <tr>\n",
       "      <th>15</th>\n",
       "      <td>9.865585</td>\n",
       "    </tr>\n",
       "    <tr>\n",
       "      <th>16</th>\n",
       "      <td>9.153825</td>\n",
       "    </tr>\n",
       "    <tr>\n",
       "      <th>17</th>\n",
       "      <td>9.617323</td>\n",
       "    </tr>\n",
       "    <tr>\n",
       "      <th>18</th>\n",
       "      <td>12.796078</td>\n",
       "    </tr>\n",
       "    <tr>\n",
       "      <th>19</th>\n",
       "      <td>12.850334</td>\n",
       "    </tr>\n",
       "    <tr>\n",
       "      <th>20</th>\n",
       "      <td>18.215547</td>\n",
       "    </tr>\n",
       "    <tr>\n",
       "      <th>21</th>\n",
       "      <td>16.086952</td>\n",
       "    </tr>\n",
       "    <tr>\n",
       "      <th>22</th>\n",
       "      <td>16.825157</td>\n",
       "    </tr>\n",
       "    <tr>\n",
       "      <th>23</th>\n",
       "      <td>13.813605</td>\n",
       "    </tr>\n",
       "    <tr>\n",
       "      <th>24</th>\n",
       "      <td>11.428066</td>\n",
       "    </tr>\n",
       "    <tr>\n",
       "      <th>25</th>\n",
       "      <td>12.416809</td>\n",
       "    </tr>\n",
       "    <tr>\n",
       "      <th>26</th>\n",
       "      <td>13.396133</td>\n",
       "    </tr>\n",
       "    <tr>\n",
       "      <th>27</th>\n",
       "      <td>16.766750</td>\n",
       "    </tr>\n",
       "  </tbody>\n",
       "</table>\n",
       "</div>"
      ],
      "text/plain": [
       "            0\n",
       "0         NaN\n",
       "1         NaN\n",
       "2    5.750147\n",
       "3    5.078944\n",
       "4    2.912775\n",
       "5    0.360310\n",
       "6    2.233868\n",
       "7    5.048972\n",
       "8   11.520547\n",
       "9   12.729947\n",
       "10  10.572702\n",
       "11   5.538605\n",
       "12   2.831427\n",
       "13   7.425655\n",
       "14   7.807575\n",
       "15   9.865585\n",
       "16   9.153825\n",
       "17   9.617323\n",
       "18  12.796078\n",
       "19  12.850334\n",
       "20  18.215547\n",
       "21  16.086952\n",
       "22  16.825157\n",
       "23  13.813605\n",
       "24  11.428066\n",
       "25  12.416809\n",
       "26  13.396133\n",
       "27  16.766750"
      ]
     },
     "execution_count": 13,
     "metadata": {},
     "output_type": "execute_result"
    }
   ],
   "source": [
    "import pandas as pd\n",
    "df = pd.DataFrame(stock_quotes)\n",
    "df.rolling(3).mean()"
   ]
  },
  {
   "cell_type": "markdown",
   "metadata": {
    "colab_type": "text",
    "id": "os-szg47dgwf"
   },
   "source": [
    "### Forecasting\n",
    "\n",
    "Forecasting - at it's simplest, it just means \"predict the future\":"
   ]
  },
  {
   "cell_type": "code",
   "execution_count": 14,
   "metadata": {
    "colab": {
     "base_uri": "https://localhost:8080/",
     "height": 34
    },
    "colab_type": "code",
    "id": "D_qtt6irdj0x",
    "outputId": "899d4e2b-1c00-4018-c9d5-3451d75a4e99"
   },
   "outputs": [
    {
     "data": {
      "text/plain": [
       "array([15.39498648])"
      ]
     },
     "execution_count": 14,
     "metadata": {},
     "output_type": "execute_result"
    }
   ],
   "source": [
    "ols_stocks.fit(stock_data[:,1:], stock_quotes)\n",
    "ols_stocks.predict([[29, 0.5, 0.5]])"
   ]
  },
  {
   "cell_type": "markdown",
   "metadata": {
    "colab_type": "text",
    "id": "fjnQY0trdnHp"
   },
   "source": [
    "One way to predict if you just have the series data is to use the prior observation. This can be pretty good (if you had to pick one feature to model the temperature for tomorrow, the temperature today is a good choice)."
   ]
  },
  {
   "cell_type": "code",
   "execution_count": 15,
   "metadata": {
    "colab": {
     "base_uri": "https://localhost:8080/",
     "height": 34
    },
    "colab_type": "code",
    "id": "bzC4DV9Hdupp",
    "outputId": "72adf4bd-a00a-411d-88cb-2f67078ba44c"
   },
   "outputs": [
    {
     "data": {
      "text/plain": [
       "0.17704471020284496"
      ]
     },
     "execution_count": 15,
     "metadata": {},
     "output_type": "execute_result"
    }
   ],
   "source": [
    "temperature = np.array([30 + random() * day\n",
    "                        for day in np.array(range(365)).reshape(-1, 1)])\n",
    "temperature_next = temperature[1:].reshape(-1, 1)\n",
    "temperature_ols = LinearRegression()\n",
    "temperature_ols.fit(temperature[:-1], temperature_next)\n",
    "temperature_ols.score(temperature[:-1], temperature_next)"
   ]
  },
  {
   "cell_type": "markdown",
   "metadata": {
    "colab_type": "text",
    "id": "RFdssXQbdxbE"
   },
   "source": [
    "But you can often make it better by considering more than one prior observation."
   ]
  },
  {
   "cell_type": "code",
   "execution_count": 16,
   "metadata": {
    "colab": {
     "base_uri": "https://localhost:8080/",
     "height": 34
    },
    "colab_type": "code",
    "id": "pVfUqD2YdxxZ",
    "outputId": "a892c370-bd2b-4e36-ef5d-767e762dacdf"
   },
   "outputs": [
    {
     "data": {
      "text/plain": [
       "0.24474056347790565"
      ]
     },
     "execution_count": 16,
     "metadata": {},
     "output_type": "execute_result"
    }
   ],
   "source": [
    "temperature_next_next = temperature[2:].reshape(-1, 1)\n",
    "temperature_two_past = np.concatenate([temperature[:-2], temperature_next[:-1]],\n",
    "                                      axis=1)\n",
    "temperature_ols.fit(temperature_two_past, temperature_next_next)\n",
    "temperature_ols.score(temperature_two_past, temperature_next_next)"
   ]
  },
  {
   "cell_type": "markdown",
   "metadata": {
    "colab_type": "text",
    "id": "c9QltBdmd7TV"
   },
   "source": [
    "### Exponential smoothing\n",
    "\n",
    "Exponential smoothing means using exponentially decreasing past weights to predict the future.\n",
    "\n",
    "You could roll your own, but let's use Pandas."
   ]
  },
  {
   "cell_type": "code",
   "execution_count": 17,
   "metadata": {
    "colab": {
     "base_uri": "https://localhost:8080/",
     "height": 1992
    },
    "colab_type": "code",
    "id": "hvMNqunOeC_B",
    "outputId": "e0294de0-3cd8-4935-e730-ee339c191690"
   },
   "outputs": [
    {
     "data": {
      "text/html": [
       "<div>\n",
       "<style scoped>\n",
       "    .dataframe tbody tr th:only-of-type {\n",
       "        vertical-align: middle;\n",
       "    }\n",
       "\n",
       "    .dataframe tbody tr th {\n",
       "        vertical-align: top;\n",
       "    }\n",
       "\n",
       "    .dataframe thead th {\n",
       "        text-align: right;\n",
       "    }\n",
       "</style>\n",
       "<table border=\"1\" class=\"dataframe\">\n",
       "  <thead>\n",
       "    <tr style=\"text-align: right;\">\n",
       "      <th></th>\n",
       "      <th>0</th>\n",
       "    </tr>\n",
       "  </thead>\n",
       "  <tbody>\n",
       "    <tr>\n",
       "      <th>0</th>\n",
       "      <td>30.000000</td>\n",
       "    </tr>\n",
       "    <tr>\n",
       "      <th>1</th>\n",
       "      <td>30.238878</td>\n",
       "    </tr>\n",
       "    <tr>\n",
       "      <th>2</th>\n",
       "      <td>30.447663</td>\n",
       "    </tr>\n",
       "    <tr>\n",
       "      <th>3</th>\n",
       "      <td>30.472670</td>\n",
       "    </tr>\n",
       "    <tr>\n",
       "      <th>4</th>\n",
       "      <td>30.576881</td>\n",
       "    </tr>\n",
       "    <tr>\n",
       "      <th>5</th>\n",
       "      <td>31.437000</td>\n",
       "    </tr>\n",
       "    <tr>\n",
       "      <th>6</th>\n",
       "      <td>31.331685</td>\n",
       "    </tr>\n",
       "    <tr>\n",
       "      <th>7</th>\n",
       "      <td>31.891170</td>\n",
       "    </tr>\n",
       "    <tr>\n",
       "      <th>8</th>\n",
       "      <td>32.737660</td>\n",
       "    </tr>\n",
       "    <tr>\n",
       "      <th>9</th>\n",
       "      <td>33.004512</td>\n",
       "    </tr>\n",
       "    <tr>\n",
       "      <th>10</th>\n",
       "      <td>33.432249</td>\n",
       "    </tr>\n",
       "    <tr>\n",
       "      <th>11</th>\n",
       "      <td>34.419449</td>\n",
       "    </tr>\n",
       "    <tr>\n",
       "      <th>12</th>\n",
       "      <td>34.665972</td>\n",
       "    </tr>\n",
       "    <tr>\n",
       "      <th>13</th>\n",
       "      <td>35.453312</td>\n",
       "    </tr>\n",
       "    <tr>\n",
       "      <th>14</th>\n",
       "      <td>35.595623</td>\n",
       "    </tr>\n",
       "    <tr>\n",
       "      <th>15</th>\n",
       "      <td>36.266582</td>\n",
       "    </tr>\n",
       "    <tr>\n",
       "      <th>16</th>\n",
       "      <td>36.936019</td>\n",
       "    </tr>\n",
       "    <tr>\n",
       "      <th>17</th>\n",
       "      <td>37.101615</td>\n",
       "    </tr>\n",
       "    <tr>\n",
       "      <th>18</th>\n",
       "      <td>37.971111</td>\n",
       "    </tr>\n",
       "    <tr>\n",
       "      <th>19</th>\n",
       "      <td>37.307060</td>\n",
       "    </tr>\n",
       "    <tr>\n",
       "      <th>20</th>\n",
       "      <td>37.793824</td>\n",
       "    </tr>\n",
       "    <tr>\n",
       "      <th>21</th>\n",
       "      <td>37.945293</td>\n",
       "    </tr>\n",
       "    <tr>\n",
       "      <th>22</th>\n",
       "      <td>38.598198</td>\n",
       "    </tr>\n",
       "    <tr>\n",
       "      <th>23</th>\n",
       "      <td>39.776537</td>\n",
       "    </tr>\n",
       "    <tr>\n",
       "      <th>24</th>\n",
       "      <td>39.163733</td>\n",
       "    </tr>\n",
       "    <tr>\n",
       "      <th>25</th>\n",
       "      <td>40.280738</td>\n",
       "    </tr>\n",
       "    <tr>\n",
       "      <th>26</th>\n",
       "      <td>40.777842</td>\n",
       "    </tr>\n",
       "    <tr>\n",
       "      <th>27</th>\n",
       "      <td>40.781341</td>\n",
       "    </tr>\n",
       "    <tr>\n",
       "      <th>28</th>\n",
       "      <td>40.680443</td>\n",
       "    </tr>\n",
       "    <tr>\n",
       "      <th>29</th>\n",
       "      <td>40.551416</td>\n",
       "    </tr>\n",
       "    <tr>\n",
       "      <th>...</th>\n",
       "      <td>...</td>\n",
       "    </tr>\n",
       "    <tr>\n",
       "      <th>335</th>\n",
       "      <td>150.771655</td>\n",
       "    </tr>\n",
       "    <tr>\n",
       "      <th>336</th>\n",
       "      <td>152.356882</td>\n",
       "    </tr>\n",
       "    <tr>\n",
       "      <th>337</th>\n",
       "      <td>170.428976</td>\n",
       "    </tr>\n",
       "    <tr>\n",
       "      <th>338</th>\n",
       "      <td>166.284243</td>\n",
       "    </tr>\n",
       "    <tr>\n",
       "      <th>339</th>\n",
       "      <td>171.227729</td>\n",
       "    </tr>\n",
       "    <tr>\n",
       "      <th>340</th>\n",
       "      <td>189.424014</td>\n",
       "    </tr>\n",
       "    <tr>\n",
       "      <th>341</th>\n",
       "      <td>175.952033</td>\n",
       "    </tr>\n",
       "    <tr>\n",
       "      <th>342</th>\n",
       "      <td>191.553344</td>\n",
       "    </tr>\n",
       "    <tr>\n",
       "      <th>343</th>\n",
       "      <td>200.799492</td>\n",
       "    </tr>\n",
       "    <tr>\n",
       "      <th>344</th>\n",
       "      <td>214.032889</td>\n",
       "    </tr>\n",
       "    <tr>\n",
       "      <th>345</th>\n",
       "      <td>207.859082</td>\n",
       "    </tr>\n",
       "    <tr>\n",
       "      <th>346</th>\n",
       "      <td>199.745803</td>\n",
       "    </tr>\n",
       "    <tr>\n",
       "      <th>347</th>\n",
       "      <td>212.454690</td>\n",
       "    </tr>\n",
       "    <tr>\n",
       "      <th>348</th>\n",
       "      <td>207.228639</td>\n",
       "    </tr>\n",
       "    <tr>\n",
       "      <th>349</th>\n",
       "      <td>197.510103</td>\n",
       "    </tr>\n",
       "    <tr>\n",
       "      <th>350</th>\n",
       "      <td>202.174098</td>\n",
       "    </tr>\n",
       "    <tr>\n",
       "      <th>351</th>\n",
       "      <td>189.036148</td>\n",
       "    </tr>\n",
       "    <tr>\n",
       "      <th>352</th>\n",
       "      <td>178.816122</td>\n",
       "    </tr>\n",
       "    <tr>\n",
       "      <th>353</th>\n",
       "      <td>166.297148</td>\n",
       "    </tr>\n",
       "    <tr>\n",
       "      <th>354</th>\n",
       "      <td>169.024002</td>\n",
       "    </tr>\n",
       "    <tr>\n",
       "      <th>355</th>\n",
       "      <td>175.222899</td>\n",
       "    </tr>\n",
       "    <tr>\n",
       "      <th>356</th>\n",
       "      <td>165.507339</td>\n",
       "    </tr>\n",
       "    <tr>\n",
       "      <th>357</th>\n",
       "      <td>167.279638</td>\n",
       "    </tr>\n",
       "    <tr>\n",
       "      <th>358</th>\n",
       "      <td>171.273861</td>\n",
       "    </tr>\n",
       "    <tr>\n",
       "      <th>359</th>\n",
       "      <td>183.899159</td>\n",
       "    </tr>\n",
       "    <tr>\n",
       "      <th>360</th>\n",
       "      <td>203.298372</td>\n",
       "    </tr>\n",
       "    <tr>\n",
       "      <th>361</th>\n",
       "      <td>210.996683</td>\n",
       "    </tr>\n",
       "    <tr>\n",
       "      <th>362</th>\n",
       "      <td>203.505504</td>\n",
       "    </tr>\n",
       "    <tr>\n",
       "      <th>363</th>\n",
       "      <td>198.319098</td>\n",
       "    </tr>\n",
       "    <tr>\n",
       "      <th>364</th>\n",
       "      <td>186.494086</td>\n",
       "    </tr>\n",
       "  </tbody>\n",
       "</table>\n",
       "<p>365 rows × 1 columns</p>\n",
       "</div>"
      ],
      "text/plain": [
       "              0\n",
       "0     30.000000\n",
       "1     30.238878\n",
       "2     30.447663\n",
       "3     30.472670\n",
       "4     30.576881\n",
       "5     31.437000\n",
       "6     31.331685\n",
       "7     31.891170\n",
       "8     32.737660\n",
       "9     33.004512\n",
       "10    33.432249\n",
       "11    34.419449\n",
       "12    34.665972\n",
       "13    35.453312\n",
       "14    35.595623\n",
       "15    36.266582\n",
       "16    36.936019\n",
       "17    37.101615\n",
       "18    37.971111\n",
       "19    37.307060\n",
       "20    37.793824\n",
       "21    37.945293\n",
       "22    38.598198\n",
       "23    39.776537\n",
       "24    39.163733\n",
       "25    40.280738\n",
       "26    40.777842\n",
       "27    40.781341\n",
       "28    40.680443\n",
       "29    40.551416\n",
       "..          ...\n",
       "335  150.771655\n",
       "336  152.356882\n",
       "337  170.428976\n",
       "338  166.284243\n",
       "339  171.227729\n",
       "340  189.424014\n",
       "341  175.952033\n",
       "342  191.553344\n",
       "343  200.799492\n",
       "344  214.032889\n",
       "345  207.859082\n",
       "346  199.745803\n",
       "347  212.454690\n",
       "348  207.228639\n",
       "349  197.510103\n",
       "350  202.174098\n",
       "351  189.036148\n",
       "352  178.816122\n",
       "353  166.297148\n",
       "354  169.024002\n",
       "355  175.222899\n",
       "356  165.507339\n",
       "357  167.279638\n",
       "358  171.273861\n",
       "359  183.899159\n",
       "360  203.298372\n",
       "361  210.996683\n",
       "362  203.505504\n",
       "363  198.319098\n",
       "364  186.494086\n",
       "\n",
       "[365 rows x 1 columns]"
      ]
     },
     "execution_count": 17,
     "metadata": {},
     "output_type": "execute_result"
    }
   ],
   "source": [
    "temperature_df = pd.DataFrame(temperature)\n",
    "temperature_df.ewm(halflife=7).mean()"
   ]
  },
  {
   "cell_type": "markdown",
   "metadata": {
    "colab_type": "text",
    "id": "gBEjBZVbeH6R"
   },
   "source": [
    "Halflife is among the parameters we can play with:"
   ]
  },
  {
   "cell_type": "code",
   "execution_count": 18,
   "metadata": {
    "colab": {
     "base_uri": "https://localhost:8080/",
     "height": 86
    },
    "colab_type": "code",
    "id": "HjZgMwYkeODN",
    "outputId": "806ae8dd-1812-4bbb-8aae-9271676aea45"
   },
   "outputs": [
    {
     "name": "stdout",
     "output_type": "stream",
     "text": [
      "0    1.165527e+06\n",
      "dtype: float64\n",
      "0    942543.732255\n",
      "dtype: float64\n"
     ]
    }
   ],
   "source": [
    "sse_1 = ((temperature_df - temperature_df.ewm(halflife=7).mean())**2).sum()\n",
    "sse_2 = ((temperature_df - temperature_df.ewm(halflife=3).mean())**2).sum()\n",
    "print(sse_1)\n",
    "print(sse_2)"
   ]
  },
  {
   "cell_type": "markdown",
   "metadata": {
    "colab_type": "text",
    "id": "s39bj4g9eQ9Z"
   },
   "source": [
    "Note - the first error being higher doesn't mean it's necessarily *worse*. It's *smoother* as expected, and if that's what we care about - great!"
   ]
  },
  {
   "cell_type": "markdown",
   "metadata": {
    "colab_type": "text",
    "id": "OcPMn8o4eYP1"
   },
   "source": [
    "### Seasonality\n",
    "\n",
    "Seasonality - \"day of week\"-effects, and more. In a lot of real world data, certain time periods are systemically different, e.g. holidays for retailers, weekends for restaurants, seasons for weather.\n",
    "\n",
    "Let's try to make some seasonal data - a store that sells more later in a week:"
   ]
  },
  {
   "cell_type": "code",
   "execution_count": 19,
   "metadata": {
    "colab": {
     "base_uri": "https://localhost:8080/",
     "height": 364
    },
    "colab_type": "code",
    "id": "h0qPMWCreheL",
    "outputId": "f3d7b830-5185-42c4-b4b2-c4ab53c00b09"
   },
   "outputs": [
    {
     "data": {
      "text/plain": [
       "<matplotlib.collections.PathCollection at 0x7effeece2898>"
      ]
     },
     "execution_count": 19,
     "metadata": {},
     "output_type": "execute_result"
    },
    {
     "data": {
      "image/png": "[encoded data removed]",
      "text/plain": [
       "<Figure size 432x288 with 1 Axes>"
      ]
     },
     "metadata": {},
     "output_type": "display_data"
    }
   ],
   "source": [
    "sales = np.array([random() + (day % 7) * random() for day in days])\n",
    "scatter(days, sales)"
   ]
  },
  {
   "cell_type": "markdown",
   "metadata": {
    "colab_type": "text",
    "id": "LEADkcMzelxY"
   },
   "source": [
    "How does linear regression do at fitting this?"
   ]
  },
  {
   "cell_type": "code",
   "execution_count": 20,
   "metadata": {
    "colab": {
     "base_uri": "https://localhost:8080/",
     "height": 34
    },
    "colab_type": "code",
    "id": "EV5kt69GenV3",
    "outputId": "d8cf0f90-2034-42da-f3f5-dff498afaca9"
   },
   "outputs": [
    {
     "data": {
      "text/plain": [
       "0.0145042631748461"
      ]
     },
     "execution_count": 20,
     "metadata": {},
     "output_type": "execute_result"
    }
   ],
   "source": [
    "sales_ols = LinearRegression()\n",
    "sales_ols.fit(days, sales)\n",
    "sales_ols.score(days, sales)"
   ]
  },
  {
   "cell_type": "markdown",
   "metadata": {
    "colab_type": "text",
    "id": "7shN1eBMep9Q"
   },
   "source": [
    "That's not great - and the fix depends on the domain. Here, we know it'd be best to actually use \"day of week\" as a feature."
   ]
  },
  {
   "cell_type": "code",
   "execution_count": 21,
   "metadata": {
    "colab": {
     "base_uri": "https://localhost:8080/",
     "height": 34
    },
    "colab_type": "code",
    "id": "Qo9eFlHIeqtA",
    "outputId": "b002f32b-8e20-4482-a70d-6ba63db9281b"
   },
   "outputs": [
    {
     "data": {
      "text/plain": [
       "0.35310387902436735"
      ]
     },
     "execution_count": 21,
     "metadata": {},
     "output_type": "execute_result"
    }
   ],
   "source": [
    "day_of_week = days % 7\n",
    "sales_ols.fit(day_of_week, sales)\n",
    "sales_ols.score(day_of_week, sales)"
   ]
  },
  {
   "cell_type": "markdown",
   "metadata": {
    "colab_type": "text",
    "id": "9ooJIfIMex2G"
   },
   "source": [
    "Note that it's also important to have representative data across whatever seasonal feature(s) you use - don't predict retailers based only on Christmas, as that won't generalize well."
   ]
  },
  {
   "cell_type": "markdown",
   "metadata": {
    "colab_type": "text",
    "id": "44QZgrPUe3-Y"
   },
   "source": [
    "## Recurrent Neural Networks\n",
    "\n",
    "There's plenty more to \"traditional\" time series, but the latest and greatest technique for sequence data is recurrent neural networks. A recurrence relation in math is an equation that uses recursion to define a sequence - a famous example is the Fibonacci numbers:\n",
    "\n",
    "$F_n = F_{n-1} + F_{n-2}$\n",
    "\n",
    "For formal math you also need a base case $F_0=1, F_1=1$, and then the rest builds from there. But for neural networks what we're really talking about are loops:\n",
    "\n",
    "![Recurrent neural network](https://upload.wikimedia.org/wikipedia/commons/b/b5/Recurrent_neural_network_unfold.svg)\n",
    "\n",
    "The hidden layers have edges (output) going back to their own input - this loop means that for any time `t` the training is at least partly based on the output from time `t-1`. The entire network is being represented on the left, and you can unfold the network explicitly to see how it behaves at any given `t`.\n",
    "\n",
    "Different units can have this \"loop\", but a particularly successful one is the long short-term memory unit (LSTM):\n",
    "\n",
    "![Long short-term memory unit](https://upload.wikimedia.org/wikipedia/commons/thumb/6/63/Long_Short-Term_Memory.svg/1024px-Long_Short-Term_Memory.svg.png)\n",
    "\n",
    "There's a lot going on here - in a nutshell, the calculus still works out and backpropagation can still be implemented. The advantage (ane namesake) of LSTM is that it can generally put more weight on recent (short-term) events while not completely losing older (long-term) information.\n",
    "\n",
    "After enough iterations, a typical neural network will start calculating prior gradients that are so small they effectively become zero - this is the [vanishing gradient problem](https://en.wikipedia.org/wiki/Vanishing_gradient_problem), and is what RNN with LSTM addresses. Pay special attention to the $c_t$ parameters and how they pass through the unit to get an intuition for how this problem is solved.\n",
    "\n",
    "So why are these cool? One particularly compelling application is actually not time series but language modeling - language is inherently ordered data (letters/words go one after another, and the order *matters*). [The Unreasonable Effectiveness of Recurrent Neural Networks](https://karpathy.github.io/2015/05/21/rnn-effectiveness/) is a famous and worth reading blog post on this topic.\n",
    "\n",
    "For our purposes, let's use TensorFlow and Keras to train RNNs with natural language. Resources:\n",
    "\n",
    "- https://github.com/keras-team/keras/blob/master/examples/imdb_lstm.py\n",
    "- https://keras.io/layers/recurrent/#lstm\n",
    "- http://adventuresinmachinelearning.com/keras-lstm-tutorial/\n",
    "\n",
    "Note that `tensorflow.contrib` [also has an implementation of RNN/LSTM](https://www.tensorflow.org/tutorials/sequences/recurrent)."
   ]
  },
  {
   "cell_type": "markdown",
   "metadata": {
    "colab_type": "text",
    "id": "eWrQllf8WEd-"
   },
   "source": [
    "### RNN/LSTM Sentiment Classification with Keras"
   ]
  },
  {
   "cell_type": "code",
   "execution_count": 22,
   "metadata": {
    "colab": {
     "base_uri": "https://localhost:8080/",
     "height": 975
    },
    "colab_type": "code",
    "id": "Ti23G0gRe3kr",
    "outputId": "bba9ae40-a286-49ed-d87b-b2946fb60ddf"
   },
   "outputs": [
    {
     "name": "stderr",
     "output_type": "stream",
     "text": [
      "/home/rick1270/anaconda3/lib/python3.6/site-packages/h5py/__init__.py:36: FutureWarning: Conversion of the second argument of issubdtype from `float` to `np.floating` is deprecated. In future, it will be treated as `np.float64 == np.dtype(float).type`.\n",
      "  from ._conv import register_converters as _register_converters\n",
      "Using TensorFlow backend.\n"
     ]
    },
    {
     "name": "stdout",
     "output_type": "stream",
     "text": [
      "Loading data...\n",
      "25000 train sequences\n",
      "25000 test sequences\n",
      "Pad sequences (samples x time)\n",
      "x_train shape: (25000, 80)\n",
      "x_test shape: (25000, 80)\n",
      "Build model...\n",
      "WARNING:tensorflow:From /home/rick1270/anaconda3/lib/python3.6/site-packages/tensorflow/python/framework/op_def_library.py:263: colocate_with (from tensorflow.python.framework.ops) is deprecated and will be removed in a future version.\n",
      "Instructions for updating:\n",
      "Colocations handled automatically by placer.\n",
      "WARNING:tensorflow:From /home/rick1270/anaconda3/lib/python3.6/site-packages/keras/backend/tensorflow_backend.py:3445: calling dropout (from tensorflow.python.ops.nn_ops) with keep_prob is deprecated and will be removed in a future version.\n",
      "Instructions for updating:\n",
      "Please use `rate` instead of `keep_prob`. Rate should be set to `rate = 1 - keep_prob`.\n",
      "Train...\n",
      "WARNING:tensorflow:From /home/rick1270/anaconda3/lib/python3.6/site-packages/tensorflow/python/ops/math_ops.py:3066: to_int32 (from tensorflow.python.ops.math_ops) is deprecated and will be removed in a future version.\n",
      "Instructions for updating:\n",
      "Use tf.cast instead.\n",
      "Train on 25000 samples, validate on 25000 samples\n",
      "Epoch 1/5\n",
      "25000/25000 [==============================] - 96s 4ms/step - loss: 0.4574 - acc: 0.7831 - val_loss: 0.3937 - val_acc: 0.8252\n",
      "Epoch 2/5\n",
      "25000/25000 [==============================] - 92s 4ms/step - loss: 0.3079 - acc: 0.8750 - val_loss: 0.3805 - val_acc: 0.8321\n",
      "Epoch 3/5\n",
      "25000/25000 [==============================] - 93s 4ms/step - loss: 0.2208 - acc: 0.9151 - val_loss: 0.4259 - val_acc: 0.8302\n",
      "Epoch 4/5\n",
      "25000/25000 [==============================] - 93s 4ms/step - loss: 0.1604 - acc: 0.9402 - val_loss: 0.4663 - val_acc: 0.8298\n",
      "Epoch 5/5\n",
      "25000/25000 [==============================] - 93s 4ms/step - loss: 0.1145 - acc: 0.9588 - val_loss: 0.5971 - val_acc: 0.8155\n",
      "25000/25000 [==============================] - 10s 418us/step\n",
      "Test score: 0.5971333124351501\n",
      "Test accuracy: 0.81552\n"
     ]
    }
   ],
   "source": [
    "'''\n",
    "#Trains an LSTM model on the IMDB sentiment classification task.\n",
    "The dataset is actually too small for LSTM to be of any advantage\n",
    "compared to simpler, much faster methods such as TF-IDF + LogReg.\n",
    "**Notes**\n",
    "- RNNs are tricky. Choice of batch size is important,\n",
    "choice of loss and optimizer is critical, etc.\n",
    "Some configurations won't converge.\n",
    "- LSTM loss decrease patterns during training can be quite different\n",
    "from what you see with CNNs/MLPs/etc.\n",
    "'''\n",
    "from __future__ import print_function\n",
    "\n",
    "from keras.preprocessing import sequence\n",
    "from keras.models import Sequential\n",
    "from keras.layers import Dense, Embedding\n",
    "from keras.layers import LSTM\n",
    "from keras.datasets import imdb\n",
    "\n",
    "max_features = 20000\n",
    "# cut texts after this number of words (among top max_features most common words)\n",
    "maxlen = 80\n",
    "batch_size = 32\n",
    "\n",
    "print('Loading data...')\n",
    "(x_train, y_train), (x_test, y_test) = imdb.load_data(num_words=max_features)\n",
    "print(len(x_train), 'train sequences')\n",
    "print(len(x_test), 'test sequences')\n",
    "\n",
    "print('Pad sequences (samples x time)')\n",
    "x_train = sequence.pad_sequences(x_train, maxlen=maxlen)\n",
    "x_test = sequence.pad_sequences(x_test, maxlen=maxlen)\n",
    "print('x_train shape:', x_train.shape)\n",
    "print('x_test shape:', x_test.shape)\n",
    "\n",
    "print('Build model...')\n",
    "model = Sequential()\n",
    "model.add(Embedding(max_features, 128))\n",
    "model.add(LSTM(128, dropout=0.2, recurrent_dropout=0.2))\n",
    "model.add(Dense(1, activation='sigmoid'))\n",
    "\n",
    "# try using different optimizers and different optimizer configs\n",
    "model.compile(loss='binary_crossentropy',\n",
    "              optimizer='adam',\n",
    "              metrics=['accuracy'])\n",
    "\n",
    "print('Train...')\n",
    "model.fit(x_train, y_train,\n",
    "          batch_size=batch_size,\n",
    "          epochs=5,\n",
    "          validation_data=(x_test, y_test))\n",
    "score, acc = model.evaluate(x_test, y_test,\n",
    "                            batch_size=batch_size)\n",
    "print('Test score:', score)\n",
    "print('Test accuracy:', acc)"
   ]
  },
  {
   "cell_type": "markdown",
   "metadata": {
    "colab_type": "text",
    "id": "7pETWPIe362y"
   },
   "source": [
    "### RNN Text generation with NumPy\n",
    "\n",
    "What else can we do with RNN? Since we're analyzing the *sequence*, we can do more than classify - we can *generate* text. We'll pull some news stories using [newspaper](https://github.com/codelucas/newspaper/)."
   ]
  },
  {
   "cell_type": "markdown",
   "metadata": {
    "colab_type": "text",
    "id": "fz1m55G5WSrQ"
   },
   "source": [
    "#### Initialization"
   ]
  },
  {
   "cell_type": "code",
   "execution_count": 23,
   "metadata": {
    "colab": {
     "base_uri": "https://localhost:8080/",
     "height": 836
    },
    "colab_type": "code",
    "id": "ahlHBeoZCaLX",
    "outputId": "7b1c5f93-3fa5-42db-acb6-3c894b0accef"
   },
   "outputs": [
    {
     "name": "stdout",
     "output_type": "stream",
     "text": [
      "Collecting newspaper3k\n",
      "\u001b[?25l  Downloading https://files.pythonhosted.org/packages/d7/b9/51afecb35bb61b188a4b44868001de348a0e8134b4dfa00ffc191567c4b9/newspaper3k-0.2.8-py3-none-any.whl (211kB)\n",
      "\u001b[K    100% |████████████████████████████████| 215kB 10.6MB/s ta 0:00:01\n",
      "\u001b[?25hCollecting feedfinder2>=0.0.4 (from newspaper3k)\n",
      "  Downloading https://files.pythonhosted.org/packages/35/82/1251fefec3bb4b03fd966c7e7f7a41c9fc2bb00d823a34c13f847fd61406/feedfinder2-0.0.4.tar.gz\n",
      "Requirement already satisfied: Pillow>=3.3.0 in /home/rick1270/anaconda3/lib/python3.6/site-packages (from newspaper3k) (5.1.0)\n",
      "Collecting cssselect>=0.9.2 (from newspaper3k)\n",
      "  Downloading https://files.pythonhosted.org/packages/7b/44/25b7283e50585f0b4156960691d951b05d061abf4a714078393e51929b30/cssselect-1.0.3-py2.py3-none-any.whl\n",
      "Requirement already satisfied: lxml>=3.6.0 in /home/rick1270/anaconda3/lib/python3.6/site-packages (from newspaper3k) (4.2.1)\n",
      "Collecting feedparser>=5.2.1 (from newspaper3k)\n",
      "\u001b[?25l  Downloading https://files.pythonhosted.org/packages/91/d8/7d37fec71ff7c9dbcdd80d2b48bcdd86d6af502156fc93846fb0102cb2c4/feedparser-5.2.1.tar.bz2 (192kB)\n",
      "\u001b[K    100% |████████████████████████████████| 194kB 12.5MB/s ta 0:00:01\n",
      "\u001b[?25hCollecting tldextract>=2.0.1 (from newspaper3k)\n",
      "\u001b[?25l  Downloading https://files.pythonhosted.org/packages/1e/90/18ac0e5340b6228c25cc8e79835c3811e7553b2b9ae87296dfeb62b7866d/tldextract-2.2.1-py2.py3-none-any.whl (48kB)\n",
      "\u001b[K    100% |████████████████████████████████| 51kB 13.6MB/s ta 0:00:01\n",
      "\u001b[?25hRequirement already satisfied: nltk>=3.2.1 in /home/rick1270/anaconda3/lib/python3.6/site-packages (from newspaper3k) (3.4)\n",
      "Requirement already satisfied: PyYAML>=3.11 in /home/rick1270/anaconda3/lib/python3.6/site-packages (from newspaper3k) (3.12)\n",
      "Collecting tinysegmenter==0.3 (from newspaper3k)\n",
      "  Downloading https://files.pythonhosted.org/packages/17/82/86982e4b6d16e4febc79c2a1d68ee3b707e8a020c5d2bc4af8052d0f136a/tinysegmenter-0.3.tar.gz\n",
      "Requirement already satisfied: beautifulsoup4>=4.4.1 in /home/rick1270/anaconda3/lib/python3.6/site-packages (from newspaper3k) (4.6.0)\n",
      "Requirement already satisfied: requests>=2.10.0 in /home/rick1270/anaconda3/lib/python3.6/site-packages (from newspaper3k) (2.18.4)\n",
      "Collecting jieba3k>=0.35.1 (from newspaper3k)\n",
      "\u001b[?25l  Downloading https://files.pythonhosted.org/packages/a9/cb/2c8332bcdc14d33b0bedd18ae0a4981a069c3513e445120da3c3f23a8aaa/jieba3k-0.35.1.zip (7.4MB)\n",
      "\u001b[K    100% |████████████████████████████████| 7.4MB 3.7MB/s eta 0:00:01\n",
      "\u001b[?25hRequirement already satisfied: python-dateutil>=2.5.3 in /home/rick1270/anaconda3/lib/python3.6/site-packages (from newspaper3k) (2.7.3)\n",
      "Requirement already satisfied: six in /home/rick1270/anaconda3/lib/python3.6/site-packages (from feedfinder2>=0.0.4->newspaper3k) (1.11.0)\n",
      "Requirement already satisfied: setuptools in /home/rick1270/anaconda3/lib/python3.6/site-packages (from tldextract>=2.0.1->newspaper3k) (39.1.0)\n",
      "Collecting requests-file>=1.4 (from tldextract>=2.0.1->newspaper3k)\n",
      "  Downloading https://files.pythonhosted.org/packages/23/9c/6e63c23c39e53d3df41c77a3d05a49a42c4e1383a6d2a5e3233161b89dbf/requests_file-1.4.3-py2.py3-none-any.whl\n",
      "Requirement already satisfied: idna in /home/rick1270/anaconda3/lib/python3.6/site-packages (from tldextract>=2.0.1->newspaper3k) (2.6)\n",
      "Requirement already satisfied: singledispatch in /home/rick1270/anaconda3/lib/python3.6/site-packages (from nltk>=3.2.1->newspaper3k) (3.4.0.3)\n",
      "Requirement already satisfied: chardet<3.1.0,>=3.0.2 in /home/rick1270/anaconda3/lib/python3.6/site-packages (from requests>=2.10.0->newspaper3k) (3.0.4)\n",
      "Requirement already satisfied: urllib3<1.23,>=1.21.1 in /home/rick1270/anaconda3/lib/python3.6/site-packages (from requests>=2.10.0->newspaper3k) (1.22)\n",
      "Requirement already satisfied: certifi>=2017.4.17 in /home/rick1270/anaconda3/lib/python3.6/site-packages (from requests>=2.10.0->newspaper3k) (2018.4.16)\n",
      "Building wheels for collected packages: feedfinder2, feedparser, tinysegmenter, jieba3k\n",
      "  Building wheel for feedfinder2 (setup.py) ... \u001b[?25ldone\n",
      "\u001b[?25h  Stored in directory: /home/rick1270/.cache/pip/wheels/de/03/ca/778e3a7a627e3d98836cc890e7cb40c7575424cfd3340f40ed\n",
      "  Building wheel for feedparser (setup.py) ... \u001b[?25ldone\n",
      "\u001b[?25h  Stored in directory: /home/rick1270/.cache/pip/wheels/8c/69/b7/f52763c41c5471df57703a0ef718a32a5e81ee35dcf6d4f97f\n",
      "  Building wheel for tinysegmenter (setup.py) ... \u001b[?25ldone\n",
      "\u001b[?25h  Stored in directory: /home/rick1270/.cache/pip/wheels/81/2b/43/a02ede72324dd40cdd7ca53aad718c7710628e91b8b0dc0f02\n",
      "  Building wheel for jieba3k (setup.py) ... \u001b[?25ldone\n",
      "\u001b[?25h  Stored in directory: /home/rick1270/.cache/pip/wheels/83/15/9c/a3f1f67e7f7181170ad37d32e503c35da20627c013f438ed34\n",
      "Successfully built feedfinder2 feedparser tinysegmenter jieba3k\n",
      "Installing collected packages: feedfinder2, cssselect, feedparser, requests-file, tldextract, tinysegmenter, jieba3k, newspaper3k\n",
      "Successfully installed cssselect-1.0.3 feedfinder2-0.0.4 feedparser-5.2.1 jieba3k-0.35.1 newspaper3k-0.2.8 requests-file-1.4.3 tinysegmenter-0.3 tldextract-2.2.1\n"
     ]
    }
   ],
   "source": [
    "!pip install newspaper3k"
   ]
  },
  {
   "cell_type": "code",
   "execution_count": 24,
   "metadata": {
    "colab": {},
    "colab_type": "code",
    "id": "fTPlziljCiNJ"
   },
   "outputs": [],
   "source": [
    "import newspaper"
   ]
  },
  {
   "cell_type": "code",
   "execution_count": 25,
   "metadata": {
    "colab": {
     "base_uri": "https://localhost:8080/",
     "height": 34
    },
    "colab_type": "code",
    "id": "bk9JF2zaCxoO",
    "outputId": "9e66fc15-a397-4b59-f810-d2182565c99a"
   },
   "outputs": [
    {
     "data": {
      "text/plain": [
       "64"
      ]
     },
     "execution_count": 25,
     "metadata": {},
     "output_type": "execute_result"
    }
   ],
   "source": [
    "ap = newspaper.build('https://www.apnews.com')\n",
    "len(ap.articles)"
   ]
  },
  {
   "cell_type": "code",
   "execution_count": 26,
   "metadata": {
    "colab": {
     "base_uri": "https://localhost:8080/",
     "height": 54
    },
    "colab_type": "code",
    "id": "Vc6JgAIJDF4E",
    "outputId": "44a13922-d86a-4668-c4fd-455c0d03b6c1"
   },
   "outputs": [
    {
     "name": "stdout",
     "output_type": "stream",
     "text": [
      "Legalization of medical and recreational marijuana in many states has created a salary boom for the executives behind the business and commerce of the emerging field.\n"
     ]
    }
   ],
   "source": [
    "article_text = ''\n",
    "\n",
    "for article in ap.articles[:1]:\n",
    "  try:\n",
    "    article.download()\n",
    "    article.parse()\n",
    "    article_text += '\\n\\n' + article.text\n",
    "  except:\n",
    "    print('Failed: ' + article.url)\n",
    "  \n",
    "article_text = article_text.split('\\n\\n')[1]\n",
    "print(article_text)"
   ]
  },
  {
   "cell_type": "code",
   "execution_count": 27,
   "metadata": {
    "colab": {
     "base_uri": "https://localhost:8080/",
     "height": 52
    },
    "colab_type": "code",
    "id": "rsMBBMcv_nRM",
    "outputId": "9f77b07b-4a5a-4ac8-f1b3-79e1a5331fad"
   },
   "outputs": [
    {
     "name": "stdout",
     "output_type": "stream",
     "text": [
      "unique characters :  25\n",
      "txt_data_size :  166\n"
     ]
    }
   ],
   "source": [
    "# Based on \"The Unreasonable Effectiveness of RNN\" implementation\n",
    "import numpy as np\n",
    "\n",
    "chars = list(set(article_text)) # split and remove duplicate characters. convert to list.\n",
    "\n",
    "num_chars = len(chars) # the number of unique characters\n",
    "txt_data_size = len(article_text)\n",
    "\n",
    "print(\"unique characters : \", num_chars)\n",
    "print(\"txt_data_size : \", txt_data_size)"
   ]
  },
  {
   "cell_type": "code",
   "execution_count": 28,
   "metadata": {
    "colab": {
     "base_uri": "https://localhost:8080/",
     "height": 159
    },
    "colab_type": "code",
    "id": "aQygqc_CAWRA",
    "outputId": "30c45e95-057a-4643-9cae-fc518b49c914"
   },
   "outputs": [
    {
     "name": "stdout",
     "output_type": "stream",
     "text": [
      "{'c': 0, '.': 1, 'n': 2, 'm': 3, 'l': 4, 'j': 5, 'g': 6, 'a': 7, 'v': 8, 'y': 9, 'e': 10, 'f': 11, 's': 12, 'i': 13, 't': 14, ' ': 15, 'u': 16, 'z': 17, 'd': 18, 'b': 19, 'r': 20, 'o': 21, 'h': 22, 'L': 23, 'x': 24}\n",
      "----------------------------------------------------\n",
      "{0: 'c', 1: '.', 2: 'n', 3: 'm', 4: 'l', 5: 'j', 6: 'g', 7: 'a', 8: 'v', 9: 'y', 10: 'e', 11: 'f', 12: 's', 13: 'i', 14: 't', 15: ' ', 16: 'u', 17: 'z', 18: 'd', 19: 'b', 20: 'r', 21: 'o', 22: 'h', 23: 'L', 24: 'x'}\n",
      "----------------------------------------------------\n",
      "[23, 10, 6, 7, 4, 13, 17, 7, 14, 13, 21, 2, 15, 21, 11, 15, 3, 10, 18, 13, 0, 7, 4, 15, 7, 2, 18, 15, 20, 10, 0, 20, 10, 7, 14, 13, 21, 2, 7, 4, 15, 3, 7, 20, 13, 5, 16, 7, 2, 7, 15, 13, 2, 15, 3, 7, 2, 9, 15, 12, 14, 7, 14, 10, 12, 15, 22, 7, 12, 15, 0, 20, 10, 7, 14, 10, 18, 15, 7, 15, 12, 7, 4, 7, 20, 9, 15, 19, 21, 21, 3, 15, 11, 21, 20, 15, 14, 22, 10, 15, 10, 24, 10, 0, 16, 14, 13, 8, 10, 12, 15, 19, 10, 22, 13, 2, 18, 15, 14, 22, 10, 15, 19, 16, 12, 13, 2, 10, 12, 12, 15, 7, 2, 18, 15, 0, 21, 3, 3, 10, 20, 0, 10, 15, 21, 11, 15, 14, 22, 10, 15, 10, 3, 10, 20, 6, 13, 2, 6, 15, 11, 13, 10, 4, 18, 1]\n",
      "----------------------------------------------------\n",
      "data length :  166\n"
     ]
    }
   ],
   "source": [
    "# one hot encode\n",
    "char_to_int = dict((c, i) for i, c in enumerate(chars)) # \"enumerate\" retruns index and value. Convert it to dictionary\n",
    "int_to_char = dict((i, c) for i, c in enumerate(chars))\n",
    "print(char_to_int)\n",
    "print(\"----------------------------------------------------\")\n",
    "print(int_to_char)\n",
    "print(\"----------------------------------------------------\")\n",
    "# integer encode input data\n",
    "integer_encoded = [char_to_int[i] for i in article_text] # \"integer_encoded\" is a list which has a sequence converted from an original data to integers.\n",
    "print(integer_encoded)\n",
    "print(\"----------------------------------------------------\")\n",
    "print(\"data length : \", len(integer_encoded))"
   ]
  },
  {
   "cell_type": "code",
   "execution_count": 29,
   "metadata": {
    "colab": {},
    "colab_type": "code",
    "id": "bcpMSWDHFowT"
   },
   "outputs": [],
   "source": [
    "# hyperparameters\n",
    "\n",
    "iteration = 1000\n",
    "sequence_length = 40\n",
    "batch_size = round((txt_data_size /sequence_length)+0.5) # = math.ceil\n",
    "hidden_size = 500  # size of hidden layer of neurons.  \n",
    "learning_rate = 1e-1\n",
    "\n",
    "\n",
    "# model parameters\n",
    "\n",
    "W_xh = np.random.randn(hidden_size, num_chars)*0.01     # weight input -> hidden. \n",
    "W_hh = np.random.randn(hidden_size, hidden_size)*0.01   # weight hidden -> hidden\n",
    "W_hy = np.random.randn(num_chars, hidden_size)*0.01     # weight hidden -> output\n",
    "\n",
    "b_h = np.zeros((hidden_size, 1)) # hidden bias\n",
    "b_y = np.zeros((num_chars, 1)) # output bias\n",
    "\n",
    "h_prev = np.zeros((hidden_size,1)) # h_(t-1)"
   ]
  },
  {
   "cell_type": "markdown",
   "metadata": {
    "colab_type": "text",
    "id": "bkqoN86qWaI4"
   },
   "source": [
    "#### Forward propagation"
   ]
  },
  {
   "cell_type": "code",
   "execution_count": 30,
   "metadata": {
    "colab": {},
    "colab_type": "code",
    "id": "imfg_Ew0WdDL"
   },
   "outputs": [],
   "source": [
    "def forwardprop(inputs, targets, h_prev):\n",
    "        \n",
    "    # Since the RNN receives the sequence, the weights are not updated during one sequence.\n",
    "    xs, hs, ys, ps = {}, {}, {}, {} # dictionary\n",
    "    hs[-1] = np.copy(h_prev) # Copy previous hidden state vector to -1 key value.\n",
    "    loss = 0 # loss initialization\n",
    "    \n",
    "    for t in range(len(inputs)): # t is a \"time step\" and is used as a key(dic).  \n",
    "        \n",
    "        xs[t] = np.zeros((num_chars,1)) \n",
    "        xs[t][inputs[t]] = 1\n",
    "        hs[t] = np.tanh(np.dot(W_xh, xs[t]) + np.dot(W_hh, hs[t-1]) + b_h) # hidden state. \n",
    "        ys[t] = np.dot(W_hy, hs[t]) + b_y # unnormalized log probabilities for next chars\n",
    "        ps[t] = np.exp(ys[t]) / np.sum(np.exp(ys[t])) # probabilities for next chars. \n",
    "        # Softmax. -> The sum of probabilities is 1 even without the exp() function, but all of the elements are positive through the exp() function.\n",
    " \n",
    "        loss += -np.log(ps[t][targets[t],0]) # softmax (cross-entropy loss). Efficient and simple code\n",
    "\n",
    "#         y_class = np.zeros((num_chars, 1)) \n",
    "#         y_class[targets[t]] =1\n",
    "#         loss += np.sum(y_class*(-np.log(ps[t]))) # softmax (cross-entropy loss)        \n",
    "\n",
    "    return loss, ps, hs, xs"
   ]
  },
  {
   "cell_type": "markdown",
   "metadata": {
    "colab_type": "text",
    "id": "zm6qwNiqWdMe"
   },
   "source": [
    "#### Backward propagation"
   ]
  },
  {
   "cell_type": "code",
   "execution_count": 31,
   "metadata": {
    "colab": {},
    "colab_type": "code",
    "id": "81qBiz_xWenI"
   },
   "outputs": [],
   "source": [
    "def backprop(ps, inputs, hs, xs):\n",
    "\n",
    "    dWxh, dWhh, dWhy = np.zeros_like(W_xh), np.zeros_like(W_hh), np.zeros_like(W_hy) # make all zero matrices.\n",
    "    dbh, dby = np.zeros_like(b_h), np.zeros_like(b_y)\n",
    "    dhnext = np.zeros_like(hs[0]) # (hidden_size,1) \n",
    "\n",
    "    # reversed\n",
    "    for t in reversed(range(len(inputs))):\n",
    "        dy = np.copy(ps[t]) # shape (num_chars,1).  \"dy\" means \"dloss/dy\"\n",
    "        dy[targets[t]] -= 1 # backprop into y. After taking the soft max in the input vector, subtract 1 from the value of the element corresponding to the correct label.\n",
    "        dWhy += np.dot(dy, hs[t].T)\n",
    "        dby += dy \n",
    "        dh = np.dot(W_hy.T, dy) + dhnext # backprop into h. \n",
    "        dhraw = (1 - hs[t] * hs[t]) * dh # backprop through tanh nonlinearity #tanh'(x) = 1-tanh^2(x)\n",
    "        dbh += dhraw\n",
    "        dWxh += np.dot(dhraw, xs[t].T)\n",
    "        dWhh += np.dot(dhraw, hs[t-1].T)\n",
    "        dhnext = np.dot(W_hh.T, dhraw)\n",
    "    for dparam in [dWxh, dWhh, dWhy, dbh, dby]: \n",
    "        np.clip(dparam, -5, 5, out=dparam) # clip to mitigate exploding gradients.  \n",
    "    \n",
    "    return dWxh, dWhh, dWhy, dbh, dby"
   ]
  },
  {
   "cell_type": "markdown",
   "metadata": {
    "colab_type": "text",
    "id": "r8sBvcdbWfhi"
   },
   "source": [
    "#### Training"
   ]
  },
  {
   "cell_type": "code",
   "execution_count": 32,
   "metadata": {
    "colab": {
     "base_uri": "https://localhost:8080/",
     "height": 225
    },
    "colab_type": "code",
    "id": "iA4RM70LWgO_",
    "outputId": "0fd64bca-f1b5-4be1-9e80-076308365598"
   },
   "outputs": [
    {
     "name": "stdout",
     "output_type": "stream",
     "text": [
      "iter 0, loss: 161.441863\n",
      "iter 100, loss: 0.057250\n",
      "iter 200, loss: 0.051875\n",
      "iter 300, loss: 0.055354\n",
      "iter 400, loss: 0.486259\n",
      "iter 500, loss: 0.264506\n",
      "iter 600, loss: 0.158980\n",
      "iter 700, loss: 0.092341\n",
      "iter 800, loss: 0.089588\n",
      "iter 900, loss: 0.109616\n",
      "CPU times: user 4min 12s, sys: 1.94 s, total: 4min 14s\n",
      "Wall time: 1min 3s\n"
     ]
    }
   ],
   "source": [
    "%%time\n",
    "\n",
    "data_pointer = 0\n",
    "\n",
    "# memory variables for Adagrad\n",
    "mWxh, mWhh, mWhy = np.zeros_like(W_xh), np.zeros_like(W_hh), np.zeros_like(W_hy)\n",
    "mbh, mby = np.zeros_like(b_h), np.zeros_like(b_y) \n",
    "\n",
    "for i in range(iteration):\n",
    "    h_prev = np.zeros((hidden_size,1)) # reset RNN memory\n",
    "    data_pointer = 0 # go from start of data\n",
    "    \n",
    "    for b in range(batch_size):\n",
    "        \n",
    "        inputs = [char_to_int[ch] for ch in article_text[data_pointer:data_pointer+sequence_length]]\n",
    "        targets = [char_to_int[ch] for ch in article_text[data_pointer+1:data_pointer+sequence_length+1]] # t+1        \n",
    "            \n",
    "        if (data_pointer+sequence_length+1 >= len(article_text) and b == batch_size-1): # processing of the last part of the input data. \n",
    "#             targets.append(char_to_int[txt_data[0]])   # When the data doesn't fit, add the first char to the back.\n",
    "            targets.append(char_to_int[\" \"])   # When the data doesn't fit, add space(\" \") to the back.\n",
    "\n",
    "\n",
    "        # forward\n",
    "        loss, ps, hs, xs = forwardprop(inputs, targets, h_prev)\n",
    "#         print(loss)\n",
    "    \n",
    "        # backward\n",
    "        dWxh, dWhh, dWhy, dbh, dby = backprop(ps, inputs, hs, xs) \n",
    "        \n",
    "        \n",
    "    # perform parameter update with Adagrad\n",
    "        for param, dparam, mem in zip([W_xh, W_hh, W_hy, b_h, b_y], \n",
    "                                    [dWxh, dWhh, dWhy, dbh, dby], \n",
    "                                    [mWxh, mWhh, mWhy, mbh, mby]):\n",
    "            mem += dparam * dparam # elementwise\n",
    "            param += -learning_rate * dparam / np.sqrt(mem + 1e-8) # adagrad update      \n",
    "    \n",
    "        data_pointer += sequence_length # move data pointer\n",
    "        \n",
    "    if i % 100 == 0:\n",
    "        print ('iter %d, loss: %f' % (i, loss)) # print progress"
   ]
  },
  {
   "cell_type": "markdown",
   "metadata": {
    "colab_type": "text",
    "id": "tjh8Ip68WgYV"
   },
   "source": [
    "#### Prediction"
   ]
  },
  {
   "cell_type": "code",
   "execution_count": 35,
   "metadata": {
    "colab": {},
    "colab_type": "code",
    "id": "HDCxDNPG68Hx"
   },
   "outputs": [],
   "source": [
    "def predict(test_char, length):\n",
    "    x = np.zeros((num_chars, 1)) \n",
    "    x[char_to_int[test_char]] = 1\n",
    "    ixes = []\n",
    "    h = np.zeros((hidden_size,1))\n",
    "\n",
    "    for t in range(length):\n",
    "        h = np.tanh(np.dot(W_xh, x) + np.dot(W_hh, h) + b_h) \n",
    "        y = np.dot(W_hy, h) + b_y\n",
    "        p = np.exp(y) / np.sum(np.exp(y)) \n",
    "        ix = np.random.choice(range(num_chars), p=p.ravel()) # ravel -> rank0\n",
    "        # \"ix\" is a list of indexes selected according to the soft max probability.\n",
    "        x = np.zeros((num_chars, 1)) # init\n",
    "        x[ix] = 1 \n",
    "        ixes.append(ix) # list\n",
    "    txt = test_char + ''.join(int_to_char[i] for i in ixes)\n",
    "    print ('----\\n %s \\n----' % (txt, ))"
   ]
  },
  {
   "cell_type": "code",
   "execution_count": 37,
   "metadata": {
    "colab": {
     "base_uri": "https://localhost:8080/",
     "height": 69
    },
    "colab_type": "code",
    "id": "nGVhl-Gxh6N6",
    "outputId": "e0c8b70b-fb50-4000-f4f8-a572539513db"
   },
   "outputs": [
    {
     "name": "stdout",
     "output_type": "stream",
     "text": [
      "----\n",
      " besar ed brtssing  ofd cesa etes hacecutasthrmatecd \n",
      "----\n"
     ]
    }
   ],
   "source": [
    "predict('b', 50)"
   ]
  },
  {
   "cell_type": "markdown",
   "metadata": {
    "colab_type": "text",
    "id": "xPsz-oefL1kP"
   },
   "source": [
    "Well... that's *vaguely* language-looking. Can you do better?"
   ]
  },
  {
   "cell_type": "markdown",
   "metadata": {
    "colab_type": "text",
    "id": "0lfZdD_cp1t5"
   },
   "source": [
    "# Assignment\n",
    "\n",
    "![Monkey at a typewriter](https://upload.wikimedia.org/wikipedia/commons/thumb/3/3c/Chimpanzee_seated_at_typewriter.jpg/603px-Chimpanzee_seated_at_typewriter.jpg)\n",
    "\n",
    "It is said that [infinite monkeys typing for an infinite amount of time](https://en.wikipedia.org/wiki/Infinite_monkey_theorem) will eventually type, among other things, the complete works of Wiliam Shakespeare. Let's see if we can get there a bit faster, with the power of Recurrent Neural Networks and LSTM.\n",
    "\n",
    "This text file contains the complete works of Shakespeare: https://www.gutenberg.org/files/100/100-0.txt\n",
    "\n",
    "Use it as training data for an RNN - you can keep it simple and train character level, and that is suggested as an initial approach.\n",
    "\n",
    "Then, use that trained RNN to generate Shakespearean-ish text. Your goal - a function that can take, as an argument, the size of text (e.g. number of characters or lines) to generate, and returns generated text of that size.\n",
    "\n",
    "Note - Shakespeare wrote an awful lot. It's OK, especially initially, to sample/use smaller data and parameters, so you can have a tighter feedback loop when you're trying to get things running. Then, once you've got a proof of concept - start pushing it more!"
   ]
  },
  {
   "cell_type": "code",
   "execution_count": 162,
   "metadata": {},
   "outputs": [],
   "source": [
    "import requests\n",
    "import numpy as np\n",
    "r = requests.get('https://www.gutenberg.org/files/100/100-0.txt')"
   ]
  },
  {
   "cell_type": "code",
   "execution_count": 182,
   "metadata": {
    "colab": {},
    "colab_type": "code",
    "id": "Ltj1je1fp5rO"
   },
   "outputs": [],
   "source": [
    "complete_works = r.text[3000:]\n",
    "complete_works = complete_works[:5000]"
   ]
  },
  {
   "cell_type": "code",
   "execution_count": 183,
   "metadata": {},
   "outputs": [
    {
     "name": "stdout",
     "output_type": "stream",
     "text": [
      "unique characters :  65\n",
      "txt_data_size :  5000\n",
      "All characters: \n",
      " ['S', '8', 'D', 'c', 'w', '.', 'n', 'm', 'L', ')', '\\r', 'P', '5', '(', 'l', '2', '6', 'j', 'T', 'a', 'g', 'v', ';', 'R', 'y', 'F', 'B', '‘', 'e', 'f', 's', 'U', 'H', '-', 'i', 'A', '4', '3', 't', 'N', ' ', 'u', 'z', 'C', 'd', 'k', ',', 'r', 'b', 'Y', 'M', 'I', 'O', 'o', ':', '\\n', 'W', '’', '?', 'h', '7', 'p', '1', 'q', 'x']\n"
     ]
    }
   ],
   "source": [
    "chars = list(set(complete_works)) # split and remove duplicate characters. convert to list.\n",
    "num_chars = len(chars)\n",
    "txt_data_size = len(complete_works)\n",
    "\n",
    "print(\"unique characters : \", num_chars)\n",
    "print(\"txt_data_size : \", txt_data_size)\n",
    "print('All characters: \\n', [x for x in chars])"
   ]
  },
  {
   "cell_type": "code",
   "execution_count": 184,
   "metadata": {},
   "outputs": [
    {
     "name": "stdout",
     "output_type": "stream",
     "text": [
      "{'S': 0, '8': 1, 'D': 2, 'c': 3, 'w': 4, '.': 5, 'n': 6, 'm': 7, 'L': 8, ')': 9, '\\r': 10, 'P': 11, '5': 12, '(': 13, 'l': 14, '2': 15, '6': 16, 'j': 17, 'T': 18, 'a': 19, 'g': 20, 'v': 21, ';': 22, 'R': 23, 'y': 24, 'F': 25, 'B': 26, '‘': 27, 'e': 28, 'f': 29, 's': 30, 'U': 31, 'H': 32, '-': 33, 'i': 34, 'A': 35, '4': 36, '3': 37, 't': 38, 'N': 39, ' ': 40, 'u': 41, 'z': 42, 'C': 43, 'd': 44, 'k': 45, ',': 46, 'r': 47, 'b': 48, 'Y': 49, 'M': 50, 'I': 51, 'O': 52, 'o': 53, ':': 54, '\\n': 55, 'W': 56, '’': 57, '?': 58, 'h': 59, '7': 60, 'p': 61, '1': 62, 'q': 63, 'x': 64}\n",
      "----------------------------------------------------\n",
      "{0: 'S', 1: '8', 2: 'D', 3: 'c', 4: 'w', 5: '.', 6: 'n', 7: 'm', 8: 'L', 9: ')', 10: '\\r', 11: 'P', 12: '5', 13: '(', 14: 'l', 15: '2', 16: '6', 17: 'j', 18: 'T', 19: 'a', 20: 'g', 21: 'v', 22: ';', 23: 'R', 24: 'y', 25: 'F', 26: 'B', 27: '‘', 28: 'e', 29: 'f', 30: 's', 31: 'U', 32: 'H', 33: '-', 34: 'i', 35: 'A', 36: '4', 37: '3', 38: 't', 39: 'N', 40: ' ', 41: 'u', 42: 'z', 43: 'C', 44: 'd', 45: 'k', 46: ',', 47: 'r', 48: 'b', 49: 'Y', 50: 'M', 51: 'I', 52: 'O', 53: 'o', 54: ':', 55: '\\n', 56: 'W', 57: '’', 58: '?', 59: 'h', 60: '7', 61: 'p', 62: '1', 63: 'q', 64: 'x'}\n",
      "----------------------------------------------------\n"
     ]
    }
   ],
   "source": [
    "# integer-encode\n",
    "char_to_int = dict((c, i) for i, c in enumerate(chars)) # \"enumerate\" retruns index and value. Convert it to dictionary\n",
    "int_to_char = dict((i, c) for i, c in enumerate(chars))\n",
    "print(char_to_int)\n",
    "print(\"----------------------------------------------------\")\n",
    "print(int_to_char)\n",
    "print(\"----------------------------------------------------\")\n",
    "        "
   ]
  },
  {
   "cell_type": "code",
   "execution_count": 185,
   "metadata": {},
   "outputs": [
    {
     "name": "stdout",
     "output_type": "stream",
     "text": [
      "{'S': 0, '8': 1, 'D': 2, 'c': 3, 'w': 4, '.': 5, 'n': 6, 'm': 7, 'L': 8, ')': 9, '\\r': 10, 'P': 11, '5': 12, '(': 13, 'l': 14, '2': 15, '6': 16, 'j': 17, 'T': 18, 'a': 19, 'g': 20, 'v': 21, ';': 22, 'R': 23, 'y': 24, 'F': 25, 'B': 26, '‘': 27, 'e': 28, 'f': 29, 's': 30, 'U': 31, 'H': 32, '-': 33, 'i': 34, 'A': 35, '4': 36, '3': 37, 't': 38, 'N': 39, ' ': 40, 'u': 41, 'z': 42, 'C': 43, 'd': 44, 'k': 45, ',': 46, 'r': 47, 'b': 48, 'Y': 49, 'M': 50, 'I': 51, 'O': 52, 'o': 53, ':': 54, '\\n': 55, 'W': 56, '’': 57, '?': 58, 'h': 59, '7': 60, 'p': 61, '1': 62, 'q': 63, 'x': 64}\n",
      "----------------------------------------------------\n",
      "{0: 'S', 1: '8', 2: 'D', 3: 'c', 4: 'w', 5: '.', 6: 'n', 7: 'm', 8: 'L', 9: ')', 10: '\\r', 11: 'P', 12: '5', 13: '(', 14: 'l', 15: '2', 16: '6', 17: 'j', 18: 'T', 19: 'a', 20: 'g', 21: 'v', 22: ';', 23: 'R', 24: 'y', 25: 'F', 26: 'B', 27: '‘', 28: 'e', 29: 'f', 30: 's', 31: 'U', 32: 'H', 33: '-', 34: 'i', 35: 'A', 36: '4', 37: '3', 38: 't', 39: 'N', 40: ' ', 41: 'u', 42: 'z', 43: 'C', 44: 'd', 45: 'k', 46: ',', 47: 'r', 48: 'b', 49: 'Y', 50: 'M', 51: 'I', 52: 'O', 53: 'o', 54: ':', 55: '\\n', 56: 'W', 57: '’', 58: '?', 59: 'h', 60: '7', 61: 'p', 62: '1', 63: 'q', 64: 'x'}\n",
      "----------------------------------------------------\n"
     ]
    }
   ],
   "source": [
    "# integer-encode\n",
    "char_to_int = dict((c, i) for i, c in enumerate(chars)) # \"enumerate\" retruns index and value. Convert it to dictionary\n",
    "int_to_char = dict((i, c) for i, c in enumerate(chars))\n",
    "print(char_to_int)\n",
    "print(\"----------------------------------------------------\")\n",
    "print(int_to_char)\n",
    "print(\"----------------------------------------------------\")"
   ]
  },
  {
   "cell_type": "code",
   "execution_count": 186,
   "metadata": {},
   "outputs": [],
   "source": [
    "# hyperparameters\n",
    "\n",
    "iteration = 1000\n",
    "sequence_length = 30\n",
    "batch_size = round((txt_data_size /sequence_length)+0.5) # = math.ceil\n",
    "hidden_size = 100  # size of hidden layer of neurons.  \n",
    "learning_rate = 1e-1\n",
    "\n",
    "\n",
    "# model parameters\n",
    "\n",
    "W_xh = np.random.randn(hidden_size, num_chars)*0.01     # weight input -> hidden. \n",
    "W_hh = np.random.randn(hidden_size, hidden_size)*0.01   # weight hidden -> hidden\n",
    "W_hy = np.random.randn(num_chars, hidden_size)*0.01     # weight hidden -> output\n",
    "\n",
    "b_h = np.zeros((hidden_size, 1)) # hidden bias\n",
    "b_y = np.zeros((num_chars, 1)) # output bias\n",
    "\n",
    "h_prev = np.zeros((hidden_size,1)) # h_(t-1)\n"
   ]
  },
  {
   "cell_type": "code",
   "execution_count": 187,
   "metadata": {},
   "outputs": [],
   "source": [
    "def forwardprop(inputs, targets, h_prev):\n",
    "        \n",
    "    # Since the RNN receives the sequence, the weights are not updated during one sequence.\n",
    "    xs, hs, ys, ps = {}, {}, {}, {} # dictionary\n",
    "    hs[-1] = np.copy(h_prev) # Copy previous hidden state vector to -1 key value.\n",
    "    loss = 0 # loss initialization\n",
    "    \n",
    "    for t in range(len(inputs)): # t is a \"time step\" and is used as a key(dic).  \n",
    "        \n",
    "        xs[t] = np.zeros((num_chars,1)) \n",
    "        xs[t][inputs[t]] = 1\n",
    "        hs[t] = np.tanh(np.dot(W_xh, xs[t]) + np.dot(W_hh, hs[t-1]) + b_h) # hidden state. \n",
    "        ys[t] = np.dot(W_hy, hs[t]) + b_y # unnormalized log probabilities for next chars\n",
    "        ps[t] = np.exp(ys[t]) / np.sum(np.exp(ys[t])) # probabilities for next chars. \n",
    "        # Softmax. -> The sum of probabilities is 1 even without the exp() function, but all of the elements are positive through the exp() function.\n",
    " \n",
    "        loss += -np.log(ps[t][targets[t],0]) # softmax (cross-entropy loss). Efficient and simple code\n",
    "\n",
    "#         y_class = np.zeros((num_chars, 1)) \n",
    "#         y_class[targets[t]] =1\n",
    "#         loss += np.sum(y_class*(-np.log(ps[t]))) # softmax (cross-entropy loss)        \n",
    "\n",
    "    return loss, ps, hs, xs"
   ]
  },
  {
   "cell_type": "code",
   "execution_count": 188,
   "metadata": {},
   "outputs": [],
   "source": [
    "def backprop(ps, inputs, hs, xs):\n",
    "\n",
    "    dWxh, dWhh, dWhy = np.zeros_like(W_xh), np.zeros_like(W_hh), np.zeros_like(W_hy) # make all zero matrices.\n",
    "    dbh, dby = np.zeros_like(b_h), np.zeros_like(b_y)\n",
    "    dhnext = np.zeros_like(hs[0]) # (hidden_size,1) \n",
    "\n",
    "    # reversed\n",
    "    for t in reversed(range(len(inputs))):\n",
    "        dy = np.copy(ps[t]) # shape (num_chars,1).  \"dy\" means \"dloss/dy\"\n",
    "        dy[targets[t]] -= 1 # backprop into y. After taking the soft max in the input vector, subtract 1 from the value of the element corresponding to the correct label.\n",
    "        dWhy += np.dot(dy, hs[t].T)\n",
    "        dby += dy \n",
    "        dh = np.dot(W_hy.T, dy) + dhnext # backprop into h. \n",
    "        dhraw = (1 - hs[t] * hs[t]) * dh # backprop through tanh nonlinearity #tanh'(x) = 1-tanh^2(x)\n",
    "        dbh += dhraw\n",
    "        dWxh += np.dot(dhraw, xs[t].T)\n",
    "        dWhh += np.dot(dhraw, hs[t-1].T)\n",
    "        dhnext = np.dot(W_hh.T, dhraw)\n",
    "    for dparam in [dWxh, dWhh, dWhy, dbh, dby]: \n",
    "        np.clip(dparam, -5, 5, out=dparam) # clip to mitigate exploding gradients.  \n",
    "    \n",
    "    return dWxh, dWhh, dWhy, dbh, dby"
   ]
  },
  {
   "cell_type": "code",
   "execution_count": 189,
   "metadata": {},
   "outputs": [
    {
     "name": "stdout",
     "output_type": "stream",
     "text": [
      "iter 0, loss: 59.161897\n",
      "iter 1, loss: 56.745057\n",
      "iter 2, loss: 55.301505\n",
      "iter 3, loss: 52.809702\n",
      "iter 4, loss: 51.606420\n",
      "iter 5, loss: 50.487239\n",
      "iter 6, loss: 49.587648\n",
      "iter 7, loss: 47.958909\n",
      "iter 8, loss: 47.337712\n",
      "iter 9, loss: 47.172168\n",
      "iter 10, loss: 45.446517\n",
      "iter 11, loss: 45.612018\n",
      "iter 12, loss: 44.798459\n",
      "iter 13, loss: 44.970948\n",
      "iter 14, loss: 45.285611\n",
      "iter 15, loss: 46.013653\n",
      "iter 16, loss: 46.647966\n",
      "iter 17, loss: 46.242258\n",
      "iter 18, loss: 46.350650\n",
      "iter 19, loss: 45.733566\n",
      "iter 20, loss: 46.063358\n",
      "iter 21, loss: 45.269677\n",
      "iter 22, loss: 44.756551\n",
      "iter 23, loss: 44.996938\n",
      "iter 24, loss: 45.582398\n",
      "iter 25, loss: 44.362019\n",
      "iter 26, loss: 43.528994\n",
      "iter 27, loss: 44.148611\n",
      "iter 28, loss: 44.486467\n",
      "iter 29, loss: 43.472553\n",
      "iter 30, loss: 42.783628\n",
      "iter 31, loss: 41.322550\n",
      "iter 32, loss: 42.376688\n",
      "iter 33, loss: 42.349413\n",
      "iter 34, loss: 41.837375\n",
      "iter 35, loss: 42.449625\n",
      "iter 36, loss: 42.690173\n",
      "iter 37, loss: 42.899029\n",
      "iter 38, loss: 41.477270\n",
      "iter 39, loss: 41.744924\n",
      "iter 40, loss: 42.345075\n",
      "iter 41, loss: 42.799345\n",
      "iter 42, loss: 45.700316\n",
      "iter 43, loss: 39.383568\n",
      "iter 44, loss: 42.934867\n",
      "iter 45, loss: 42.898201\n",
      "iter 46, loss: 41.167393\n",
      "iter 47, loss: 41.641106\n",
      "iter 48, loss: 41.653761\n",
      "iter 49, loss: 39.921936\n",
      "iter 50, loss: 41.408784\n",
      "iter 51, loss: 39.410541\n",
      "iter 52, loss: 42.390606\n",
      "iter 53, loss: 40.215143\n",
      "iter 54, loss: 40.416039\n",
      "iter 55, loss: 40.605969\n",
      "iter 56, loss: 41.310431\n",
      "iter 57, loss: 40.922095\n",
      "iter 58, loss: 46.371821\n",
      "iter 59, loss: 36.560165\n",
      "iter 60, loss: 36.307332\n",
      "iter 61, loss: 37.612758\n",
      "iter 62, loss: 36.795821\n",
      "iter 63, loss: 36.576205\n",
      "iter 64, loss: 37.891007\n",
      "iter 65, loss: 39.243682\n",
      "iter 66, loss: 39.945783\n",
      "iter 67, loss: 37.779480\n",
      "iter 68, loss: 37.451626\n",
      "iter 69, loss: 36.786654\n",
      "iter 70, loss: 35.513909\n",
      "iter 71, loss: 37.779103\n",
      "iter 72, loss: 35.395785\n",
      "iter 73, loss: 33.671202\n",
      "iter 74, loss: 34.586540\n",
      "iter 75, loss: 31.791760\n",
      "iter 76, loss: 32.919955\n",
      "iter 77, loss: 33.821569\n",
      "iter 78, loss: 33.068825\n",
      "iter 79, loss: 33.478669\n",
      "iter 80, loss: 30.011484\n",
      "iter 81, loss: 32.198458\n",
      "iter 82, loss: 30.406003\n",
      "iter 83, loss: 30.327140\n",
      "iter 84, loss: 30.569590\n",
      "iter 85, loss: 35.118620\n",
      "iter 86, loss: 30.390268\n",
      "iter 87, loss: 29.846699\n",
      "iter 88, loss: 30.372491\n",
      "iter 89, loss: 31.005375\n",
      "iter 90, loss: 30.854496\n",
      "iter 91, loss: 28.511545\n",
      "iter 92, loss: 29.785928\n",
      "iter 93, loss: 27.371884\n",
      "iter 94, loss: 26.520648\n",
      "iter 95, loss: 27.780705\n",
      "iter 96, loss: 26.534583\n",
      "iter 97, loss: 28.297495\n",
      "iter 98, loss: 27.424314\n",
      "iter 99, loss: 27.294153\n",
      "iter 100, loss: 27.335425\n",
      "iter 101, loss: 26.459860\n",
      "iter 102, loss: 27.415219\n",
      "iter 103, loss: 25.157858\n",
      "iter 104, loss: 27.294944\n",
      "iter 105, loss: 24.828174\n",
      "iter 106, loss: 28.725585\n",
      "iter 107, loss: 31.802293\n",
      "iter 108, loss: 25.786777\n",
      "iter 109, loss: 24.793080\n",
      "iter 110, loss: 25.347853\n",
      "iter 111, loss: 26.472490\n",
      "iter 112, loss: 26.081781\n",
      "iter 113, loss: 23.738654\n",
      "iter 114, loss: 26.185011\n",
      "iter 115, loss: 24.500394\n",
      "iter 116, loss: 23.138158\n",
      "iter 117, loss: 23.009379\n",
      "iter 118, loss: 23.686345\n",
      "iter 119, loss: 24.504728\n",
      "iter 120, loss: 28.944099\n",
      "iter 121, loss: 23.420977\n",
      "iter 122, loss: 22.083748\n",
      "iter 123, loss: 24.201332\n",
      "iter 124, loss: 21.668968\n",
      "iter 125, loss: 23.946845\n",
      "iter 126, loss: 22.045908\n",
      "iter 127, loss: 21.557690\n",
      "iter 128, loss: 24.089201\n",
      "iter 129, loss: 24.966977\n",
      "iter 130, loss: 21.782377\n",
      "iter 131, loss: 23.155719\n",
      "iter 132, loss: 21.544208\n",
      "iter 133, loss: 27.437017\n",
      "iter 134, loss: 22.528991\n",
      "iter 135, loss: 22.605980\n",
      "iter 136, loss: 21.098909\n",
      "iter 137, loss: 21.243312\n",
      "iter 138, loss: 24.316253\n",
      "iter 139, loss: 20.599914\n",
      "iter 140, loss: 23.282648\n",
      "iter 141, loss: 21.807667\n",
      "iter 142, loss: 22.890855\n",
      "iter 143, loss: 20.939722\n",
      "iter 144, loss: 21.299049\n",
      "iter 145, loss: 23.899857\n",
      "iter 146, loss: 22.340077\n",
      "iter 147, loss: 20.544722\n",
      "iter 148, loss: 22.411449\n",
      "iter 149, loss: 20.726223\n",
      "iter 150, loss: 22.195701\n",
      "iter 151, loss: 22.887364\n",
      "iter 152, loss: 22.334745\n",
      "iter 153, loss: 20.458659\n",
      "iter 154, loss: 21.484795\n",
      "iter 155, loss: 20.949918\n",
      "iter 156, loss: 20.384107\n",
      "iter 157, loss: 20.975575\n",
      "iter 158, loss: 22.049132\n",
      "iter 159, loss: 19.809740\n",
      "iter 160, loss: 21.222877\n",
      "iter 161, loss: 22.008282\n",
      "iter 162, loss: 20.713446\n",
      "iter 163, loss: 24.685023\n",
      "iter 164, loss: 22.699673\n",
      "iter 165, loss: 20.596849\n",
      "iter 166, loss: 23.427009\n",
      "iter 167, loss: 20.117235\n",
      "iter 168, loss: 25.677945\n",
      "iter 169, loss: 22.782295\n",
      "iter 170, loss: 20.814856\n",
      "iter 171, loss: 21.296363\n",
      "iter 172, loss: 20.158162\n",
      "iter 173, loss: 26.079369\n",
      "iter 174, loss: 21.489144\n",
      "iter 175, loss: 19.940304\n",
      "iter 176, loss: 19.407701\n",
      "iter 177, loss: 20.228012\n",
      "iter 178, loss: 20.167529\n",
      "iter 179, loss: 24.539943\n",
      "iter 180, loss: 21.002490\n",
      "iter 181, loss: 19.675752\n",
      "iter 182, loss: 21.740187\n",
      "iter 183, loss: 21.820000\n",
      "iter 184, loss: 23.501272\n",
      "iter 185, loss: 20.899440\n",
      "iter 186, loss: 19.707253\n",
      "iter 187, loss: 18.592489\n",
      "iter 188, loss: 19.775990\n",
      "iter 189, loss: 22.623207\n",
      "iter 190, loss: 23.696703\n",
      "iter 191, loss: 21.932849\n",
      "iter 192, loss: 22.419713\n",
      "iter 193, loss: 19.403267\n",
      "iter 194, loss: 20.812036\n",
      "iter 195, loss: 21.253493\n",
      "iter 196, loss: 20.761271\n",
      "iter 197, loss: 21.666735\n",
      "iter 198, loss: 17.798701\n",
      "iter 199, loss: 18.436602\n",
      "iter 200, loss: 18.851678\n",
      "iter 201, loss: 20.656253\n",
      "iter 202, loss: 21.207131\n",
      "iter 203, loss: 19.302881\n",
      "iter 204, loss: 18.661035\n",
      "iter 205, loss: 21.099308\n",
      "iter 206, loss: 21.045568\n",
      "iter 207, loss: 20.509720\n",
      "iter 208, loss: 21.067518\n",
      "iter 209, loss: 19.341394\n",
      "iter 210, loss: 21.246561\n",
      "iter 211, loss: 22.014477\n",
      "iter 212, loss: 20.026724\n",
      "iter 213, loss: 19.243435\n",
      "iter 214, loss: 17.033803\n",
      "iter 215, loss: 17.866809\n",
      "iter 216, loss: 19.175306\n",
      "iter 217, loss: 18.188481\n",
      "iter 218, loss: 19.070336\n",
      "iter 219, loss: 17.411123\n",
      "iter 220, loss: 18.809983\n",
      "iter 221, loss: 18.227920\n",
      "iter 222, loss: 16.652011\n",
      "iter 223, loss: 19.880765\n",
      "iter 224, loss: 18.505848\n",
      "iter 225, loss: 19.221822\n",
      "iter 226, loss: 17.850336\n",
      "iter 227, loss: 18.056642\n",
      "iter 228, loss: 16.547257\n",
      "iter 229, loss: 17.315902\n",
      "iter 230, loss: 18.060464\n",
      "iter 231, loss: 18.075367\n",
      "iter 232, loss: 18.799122\n",
      "iter 233, loss: 16.497434\n",
      "iter 234, loss: 17.165093\n",
      "iter 235, loss: 16.821839\n",
      "iter 236, loss: 16.964100\n",
      "iter 237, loss: 17.904811\n",
      "iter 238, loss: 16.307211\n",
      "iter 239, loss: 18.212998\n",
      "iter 240, loss: 16.687452\n",
      "iter 241, loss: 16.627462\n",
      "iter 242, loss: 17.194867\n",
      "iter 243, loss: 15.123354\n",
      "iter 244, loss: 17.018713\n",
      "iter 245, loss: 15.352046\n",
      "iter 246, loss: 15.667876\n",
      "iter 247, loss: 16.945725\n",
      "iter 248, loss: 16.484170\n",
      "iter 249, loss: 18.575630\n",
      "iter 250, loss: 15.324994\n",
      "iter 251, loss: 15.207029\n",
      "iter 252, loss: 15.855264\n",
      "iter 253, loss: 14.510256\n",
      "iter 254, loss: 16.183993\n",
      "iter 255, loss: 15.933180\n",
      "iter 256, loss: 15.582114\n",
      "iter 257, loss: 15.650082\n",
      "iter 258, loss: 17.169335\n",
      "iter 259, loss: 14.869509\n",
      "iter 260, loss: 15.370938\n",
      "iter 261, loss: 17.849730\n",
      "iter 262, loss: 15.126020\n",
      "iter 263, loss: 14.940673\n",
      "iter 264, loss: 15.791312\n",
      "iter 265, loss: 18.241198\n",
      "iter 266, loss: 14.671620\n",
      "iter 267, loss: 16.390355\n",
      "iter 268, loss: 19.638287\n",
      "iter 269, loss: 15.502663\n",
      "iter 270, loss: 14.849276\n",
      "iter 271, loss: 14.888452\n",
      "iter 272, loss: 16.621429\n",
      "iter 273, loss: 13.989562\n",
      "iter 274, loss: 13.442216\n",
      "iter 275, loss: 15.377394\n",
      "iter 276, loss: 15.210970\n",
      "iter 277, loss: 14.405728\n",
      "iter 278, loss: 14.452383\n",
      "iter 279, loss: 18.686452\n",
      "iter 280, loss: 14.601797\n",
      "iter 281, loss: 15.195987\n",
      "iter 282, loss: 14.508372\n",
      "iter 283, loss: 14.180312\n",
      "iter 284, loss: 15.322992\n",
      "iter 285, loss: 15.007131\n",
      "iter 286, loss: 13.992567\n",
      "iter 287, loss: 16.642272\n",
      "iter 288, loss: 14.155477\n",
      "iter 289, loss: 14.977652\n",
      "iter 290, loss: 15.022182\n",
      "iter 291, loss: 14.546185\n",
      "iter 292, loss: 14.869815\n",
      "iter 293, loss: 16.089880\n",
      "iter 294, loss: 15.093462\n",
      "iter 295, loss: 14.347862\n",
      "iter 296, loss: 13.475310\n",
      "iter 297, loss: 14.114170\n",
      "iter 298, loss: 15.867336\n",
      "iter 299, loss: 13.779605\n",
      "iter 300, loss: 15.403814\n",
      "iter 301, loss: 17.091031\n",
      "iter 302, loss: 13.379414\n",
      "iter 303, loss: 13.737026\n",
      "iter 304, loss: 18.680422\n",
      "iter 305, loss: 15.299687\n",
      "iter 306, loss: 14.486289\n",
      "iter 307, loss: 16.309482\n",
      "iter 308, loss: 13.955107\n",
      "iter 309, loss: 14.394596\n",
      "iter 310, loss: 17.092382\n",
      "iter 311, loss: 13.641001\n",
      "iter 312, loss: 12.791698\n",
      "iter 313, loss: 13.997929\n",
      "iter 314, loss: 12.822812\n",
      "iter 315, loss: 15.331479\n",
      "iter 316, loss: 15.757704\n",
      "iter 317, loss: 14.773494\n",
      "iter 318, loss: 13.710306\n",
      "iter 319, loss: 14.435203\n"
     ]
    },
    {
     "name": "stdout",
     "output_type": "stream",
     "text": [
      "iter 320, loss: 14.661318\n",
      "iter 321, loss: 13.897483\n",
      "iter 322, loss: 13.833375\n",
      "iter 323, loss: 13.400749\n",
      "iter 324, loss: 13.524528\n",
      "iter 325, loss: 14.219955\n",
      "iter 326, loss: 15.594389\n",
      "iter 327, loss: 14.082550\n",
      "iter 328, loss: 14.467119\n",
      "iter 329, loss: 17.006236\n",
      "iter 330, loss: 13.806817\n",
      "iter 331, loss: 12.778574\n",
      "iter 332, loss: 17.327594\n",
      "iter 333, loss: 13.212841\n",
      "iter 334, loss: 11.894521\n",
      "iter 335, loss: 13.247647\n",
      "iter 336, loss: 12.589505\n",
      "iter 337, loss: 12.896384\n",
      "iter 338, loss: 14.024049\n",
      "iter 339, loss: 13.248228\n",
      "iter 340, loss: 13.148388\n",
      "iter 341, loss: 11.933981\n",
      "iter 342, loss: 13.079229\n",
      "iter 343, loss: 11.536051\n",
      "iter 344, loss: 14.570970\n",
      "iter 345, loss: 15.375939\n",
      "iter 346, loss: 13.182532\n",
      "iter 347, loss: 12.216068\n",
      "iter 348, loss: 12.097745\n",
      "iter 349, loss: 14.268345\n",
      "iter 350, loss: 12.631988\n",
      "iter 351, loss: 11.788750\n",
      "iter 352, loss: 14.281572\n",
      "iter 353, loss: 12.764488\n",
      "iter 354, loss: 12.104754\n",
      "iter 355, loss: 12.755665\n",
      "iter 356, loss: 14.536862\n",
      "iter 357, loss: 13.571691\n",
      "iter 358, loss: 15.917370\n",
      "iter 359, loss: 11.664477\n",
      "iter 360, loss: 12.604461\n",
      "iter 361, loss: 13.410029\n",
      "iter 362, loss: 12.354282\n",
      "iter 363, loss: 12.107595\n",
      "iter 364, loss: 12.153404\n",
      "iter 365, loss: 11.567589\n",
      "iter 366, loss: 11.309901\n",
      "iter 367, loss: 11.900457\n",
      "iter 368, loss: 14.979633\n",
      "iter 369, loss: 12.293394\n",
      "iter 370, loss: 11.619170\n",
      "iter 371, loss: 12.381913\n",
      "iter 372, loss: 11.722211\n",
      "iter 373, loss: 12.979822\n",
      "iter 374, loss: 12.095140\n",
      "iter 375, loss: 12.184506\n",
      "iter 376, loss: 12.031319\n",
      "iter 377, loss: 12.469357\n",
      "iter 378, loss: 15.441719\n",
      "iter 379, loss: 18.659906\n",
      "iter 380, loss: 12.676594\n",
      "iter 381, loss: 12.698839\n",
      "iter 382, loss: 11.443415\n",
      "iter 383, loss: 11.650873\n",
      "iter 384, loss: 12.933522\n",
      "iter 385, loss: 12.202404\n",
      "iter 386, loss: 10.348974\n",
      "iter 387, loss: 11.308285\n",
      "iter 388, loss: 14.713432\n",
      "iter 389, loss: 12.573692\n",
      "iter 390, loss: 11.524763\n",
      "iter 391, loss: 13.356586\n",
      "iter 392, loss: 10.442076\n",
      "iter 393, loss: 11.126971\n",
      "iter 394, loss: 11.404569\n",
      "iter 395, loss: 11.280806\n",
      "iter 396, loss: 11.470255\n",
      "iter 397, loss: 11.345284\n",
      "iter 398, loss: 11.329490\n",
      "iter 399, loss: 10.170900\n",
      "iter 400, loss: 10.793345\n",
      "iter 401, loss: 10.655772\n",
      "iter 402, loss: 10.718139\n",
      "iter 403, loss: 11.119199\n",
      "iter 404, loss: 10.633598\n",
      "iter 405, loss: 12.373395\n",
      "iter 406, loss: 11.518025\n",
      "iter 407, loss: 11.497496\n",
      "iter 408, loss: 10.754926\n",
      "iter 409, loss: 12.351000\n",
      "iter 410, loss: 12.738276\n",
      "iter 411, loss: 10.791707\n",
      "iter 412, loss: 11.116253\n",
      "iter 413, loss: 11.719503\n",
      "iter 414, loss: 11.123064\n",
      "iter 415, loss: 12.685623\n",
      "iter 416, loss: 10.962013\n",
      "iter 417, loss: 11.583392\n",
      "iter 418, loss: 10.614740\n",
      "iter 419, loss: 11.333743\n",
      "iter 420, loss: 12.300713\n",
      "iter 421, loss: 11.944157\n",
      "iter 422, loss: 12.483023\n",
      "iter 423, loss: 13.656608\n",
      "iter 424, loss: 10.900821\n",
      "iter 425, loss: 10.906123\n",
      "iter 426, loss: 11.527103\n",
      "iter 427, loss: 10.590872\n",
      "iter 428, loss: 10.296724\n",
      "iter 429, loss: 11.758109\n",
      "iter 430, loss: 12.928115\n",
      "iter 431, loss: 10.023758\n",
      "iter 432, loss: 10.561027\n",
      "iter 433, loss: 11.191527\n",
      "iter 434, loss: 11.720291\n",
      "iter 435, loss: 10.486831\n",
      "iter 436, loss: 10.159384\n",
      "iter 437, loss: 10.501703\n",
      "iter 438, loss: 10.856712\n",
      "iter 439, loss: 12.321863\n",
      "iter 440, loss: 16.032684\n",
      "iter 441, loss: 13.151107\n",
      "iter 442, loss: 9.816294\n",
      "iter 443, loss: 11.467434\n",
      "iter 444, loss: 10.381393\n",
      "iter 445, loss: 14.230898\n",
      "iter 446, loss: 10.884196\n",
      "iter 447, loss: 10.028011\n",
      "iter 448, loss: 11.231156\n",
      "iter 449, loss: 9.627195\n",
      "iter 450, loss: 9.949992\n",
      "iter 451, loss: 9.517685\n",
      "iter 452, loss: 12.981228\n",
      "iter 453, loss: 11.150055\n",
      "iter 454, loss: 10.249377\n",
      "iter 455, loss: 10.398812\n",
      "iter 456, loss: 10.857113\n",
      "iter 457, loss: 10.777921\n",
      "iter 458, loss: 10.563571\n",
      "iter 459, loss: 10.268383\n",
      "iter 460, loss: 11.042824\n",
      "iter 461, loss: 11.867109\n",
      "iter 462, loss: 18.750036\n",
      "iter 463, loss: 11.341196\n",
      "iter 464, loss: 10.103310\n",
      "iter 465, loss: 10.361427\n",
      "iter 466, loss: 9.767147\n",
      "iter 467, loss: 9.566770\n",
      "iter 468, loss: 9.950600\n",
      "iter 469, loss: 9.720256\n",
      "iter 470, loss: 9.027410\n",
      "iter 471, loss: 10.113513\n",
      "iter 472, loss: 10.267685\n",
      "iter 473, loss: 9.424052\n",
      "iter 474, loss: 9.793247\n",
      "iter 475, loss: 12.563329\n",
      "iter 476, loss: 9.460458\n",
      "iter 477, loss: 10.215075\n",
      "iter 478, loss: 9.822029\n",
      "iter 479, loss: 9.709022\n",
      "iter 480, loss: 9.123678\n",
      "iter 481, loss: 11.216911\n",
      "iter 482, loss: 9.494753\n",
      "iter 483, loss: 9.329334\n",
      "iter 484, loss: 9.967405\n",
      "iter 485, loss: 11.319811\n",
      "iter 486, loss: 9.659952\n",
      "iter 487, loss: 8.872599\n",
      "iter 488, loss: 9.302848\n",
      "iter 489, loss: 10.017116\n",
      "iter 490, loss: 10.656589\n",
      "iter 491, loss: 9.793968\n",
      "iter 492, loss: 9.582752\n",
      "iter 493, loss: 8.454654\n",
      "iter 494, loss: 8.989743\n",
      "iter 495, loss: 9.210952\n",
      "iter 496, loss: 10.023045\n",
      "iter 497, loss: 20.949767\n",
      "iter 498, loss: 9.748519\n",
      "iter 499, loss: 11.889926\n",
      "iter 500, loss: 8.945075\n",
      "iter 501, loss: 9.377686\n",
      "iter 502, loss: 9.597269\n",
      "iter 503, loss: 8.944460\n",
      "iter 504, loss: 8.399135\n",
      "iter 505, loss: 8.639734\n",
      "iter 506, loss: 11.605406\n",
      "iter 507, loss: 8.954982\n",
      "iter 508, loss: 8.667913\n",
      "iter 509, loss: 8.585789\n",
      "iter 510, loss: 11.236053\n",
      "iter 511, loss: 8.237358\n",
      "iter 512, loss: 8.608909\n",
      "iter 513, loss: 11.107396\n",
      "iter 514, loss: 10.184788\n",
      "iter 515, loss: 9.199410\n",
      "iter 516, loss: 9.428226\n",
      "iter 517, loss: 8.333772\n",
      "iter 518, loss: 8.444302\n",
      "iter 519, loss: 9.123304\n",
      "iter 520, loss: 8.810968\n",
      "iter 521, loss: 9.391201\n",
      "iter 522, loss: 7.829127\n",
      "iter 523, loss: 10.351470\n",
      "iter 524, loss: 8.475128\n",
      "iter 525, loss: 9.850109\n",
      "iter 526, loss: 9.755156\n",
      "iter 527, loss: 8.836545\n",
      "iter 528, loss: 8.625833\n",
      "iter 529, loss: 9.403848\n",
      "iter 530, loss: 10.008969\n",
      "iter 531, loss: 10.552188\n",
      "iter 532, loss: 9.349761\n",
      "iter 533, loss: 10.431642\n",
      "iter 534, loss: 9.686582\n",
      "iter 535, loss: 8.564059\n",
      "iter 536, loss: 9.357983\n",
      "iter 537, loss: 9.428769\n",
      "iter 538, loss: 7.956288\n",
      "iter 539, loss: 9.463256\n",
      "iter 540, loss: 8.237220\n",
      "iter 541, loss: 8.802901\n",
      "iter 542, loss: 9.801180\n",
      "iter 543, loss: 9.990613\n",
      "iter 544, loss: 11.064939\n",
      "iter 545, loss: 9.425221\n",
      "iter 546, loss: 8.246081\n",
      "iter 547, loss: 8.211960\n",
      "iter 548, loss: 8.604839\n",
      "iter 549, loss: 14.076716\n",
      "iter 550, loss: 8.323991\n",
      "iter 551, loss: 8.761622\n",
      "iter 552, loss: 7.884205\n",
      "iter 553, loss: 9.378640\n",
      "iter 554, loss: 8.426950\n",
      "iter 555, loss: 9.195734\n",
      "iter 556, loss: 10.401141\n",
      "iter 557, loss: 9.547242\n",
      "iter 558, loss: 8.991535\n",
      "iter 559, loss: 9.425153\n",
      "iter 560, loss: 9.957698\n",
      "iter 561, loss: 9.721668\n",
      "iter 562, loss: 10.591102\n",
      "iter 563, loss: 10.780519\n",
      "iter 564, loss: 9.677708\n",
      "iter 565, loss: 8.905298\n",
      "iter 566, loss: 9.084870\n",
      "iter 567, loss: 8.203650\n",
      "iter 568, loss: 9.539672\n",
      "iter 569, loss: 8.186886\n",
      "iter 570, loss: 8.358357\n",
      "iter 571, loss: 18.978479\n",
      "iter 572, loss: 9.959090\n",
      "iter 573, loss: 8.522489\n",
      "iter 574, loss: 8.449970\n",
      "iter 575, loss: 8.876161\n",
      "iter 576, loss: 8.637398\n",
      "iter 577, loss: 8.524694\n",
      "iter 578, loss: 9.172715\n",
      "iter 579, loss: 8.917789\n",
      "iter 580, loss: 8.869125\n",
      "iter 581, loss: 14.497555\n",
      "iter 582, loss: 10.071794\n",
      "iter 583, loss: 9.006238\n",
      "iter 584, loss: 8.528115\n",
      "iter 585, loss: 7.778701\n",
      "iter 586, loss: 8.047008\n",
      "iter 587, loss: 9.558983\n",
      "iter 588, loss: 8.782358\n",
      "iter 589, loss: 13.833512\n",
      "iter 590, loss: 10.043365\n",
      "iter 591, loss: 8.584755\n",
      "iter 592, loss: 8.952694\n",
      "iter 593, loss: 8.997247\n",
      "iter 594, loss: 11.032351\n",
      "iter 595, loss: 8.244242\n",
      "iter 596, loss: 7.519567\n",
      "iter 597, loss: 8.785165\n",
      "iter 598, loss: 8.306492\n",
      "iter 599, loss: 7.585926\n",
      "iter 600, loss: 10.056243\n",
      "iter 601, loss: 8.387713\n",
      "iter 602, loss: 8.427649\n",
      "iter 603, loss: 8.160335\n",
      "iter 604, loss: 8.967854\n",
      "iter 605, loss: 10.082236\n",
      "iter 606, loss: 8.209638\n",
      "iter 607, loss: 11.722998\n",
      "iter 608, loss: 13.991758\n",
      "iter 609, loss: 8.416920\n",
      "iter 610, loss: 8.911052\n",
      "iter 611, loss: 7.948662\n",
      "iter 612, loss: 8.369121\n",
      "iter 613, loss: 8.402221\n",
      "iter 614, loss: 8.128170\n",
      "iter 615, loss: 8.355333\n",
      "iter 616, loss: 9.119025\n",
      "iter 617, loss: 8.550463\n",
      "iter 618, loss: 7.761880\n",
      "iter 619, loss: 8.703304\n",
      "iter 620, loss: 7.545519\n",
      "iter 621, loss: 9.764206\n",
      "iter 622, loss: 8.810573\n",
      "iter 623, loss: 8.266482\n",
      "iter 624, loss: 7.639504\n",
      "iter 625, loss: 7.998015\n",
      "iter 626, loss: 7.736665\n",
      "iter 627, loss: 7.513823\n",
      "iter 628, loss: 7.775723\n",
      "iter 629, loss: 6.871250\n",
      "iter 630, loss: 7.549993\n",
      "iter 631, loss: 9.457361\n",
      "iter 632, loss: 9.821866\n",
      "iter 633, loss: 8.430542\n",
      "iter 634, loss: 7.634954\n",
      "iter 635, loss: 7.571750\n",
      "iter 636, loss: 8.053032\n",
      "iter 637, loss: 7.590239\n",
      "iter 638, loss: 7.314409\n",
      "iter 639, loss: 7.753157\n",
      "iter 640, loss: 8.124484\n"
     ]
    },
    {
     "name": "stdout",
     "output_type": "stream",
     "text": [
      "iter 641, loss: 7.365379\n",
      "iter 642, loss: 16.774302\n",
      "iter 643, loss: 17.397522\n",
      "iter 644, loss: 8.858470\n",
      "iter 645, loss: 9.355322\n",
      "iter 646, loss: 8.978283\n",
      "iter 647, loss: 8.600740\n",
      "iter 648, loss: 9.260005\n",
      "iter 649, loss: 7.151229\n",
      "iter 650, loss: 13.479922\n",
      "iter 651, loss: 7.625723\n",
      "iter 652, loss: 7.399069\n",
      "iter 653, loss: 9.360474\n",
      "iter 654, loss: 8.090150\n",
      "iter 655, loss: 7.599677\n",
      "iter 656, loss: 7.098414\n",
      "iter 657, loss: 9.835537\n",
      "iter 658, loss: 7.538204\n",
      "iter 659, loss: 9.538663\n",
      "iter 660, loss: 8.135463\n",
      "iter 661, loss: 8.108956\n",
      "iter 662, loss: 8.225927\n",
      "iter 663, loss: 9.269677\n",
      "iter 664, loss: 8.095514\n",
      "iter 665, loss: 7.449095\n",
      "iter 666, loss: 7.011725\n",
      "iter 667, loss: 8.422992\n",
      "iter 668, loss: 6.860909\n",
      "iter 669, loss: 8.217687\n",
      "iter 670, loss: 9.806477\n",
      "iter 671, loss: 7.263207\n",
      "iter 672, loss: 10.565483\n",
      "iter 673, loss: 8.182514\n",
      "iter 674, loss: 7.857902\n",
      "iter 675, loss: 7.064124\n",
      "iter 676, loss: 8.569531\n",
      "iter 677, loss: 7.964050\n",
      "iter 678, loss: 7.085370\n",
      "iter 679, loss: 8.958336\n",
      "iter 680, loss: 9.654043\n",
      "iter 681, loss: 9.618195\n",
      "iter 682, loss: 7.715386\n",
      "iter 683, loss: 11.160828\n",
      "iter 684, loss: 8.865801\n",
      "iter 685, loss: 7.820785\n",
      "iter 686, loss: 8.158504\n",
      "iter 687, loss: 7.071154\n",
      "iter 688, loss: 8.029362\n",
      "iter 689, loss: 7.397362\n",
      "iter 690, loss: 9.560693\n",
      "iter 691, loss: 7.350309\n",
      "iter 692, loss: 8.945435\n",
      "iter 693, loss: 8.398360\n",
      "iter 694, loss: 14.695569\n",
      "iter 695, loss: 15.842666\n",
      "iter 696, loss: 7.309790\n",
      "iter 697, loss: 8.670760\n",
      "iter 698, loss: 7.631151\n",
      "iter 699, loss: 7.569945\n",
      "iter 700, loss: 8.179550\n",
      "iter 701, loss: 8.293889\n",
      "iter 702, loss: 7.327678\n",
      "iter 703, loss: 8.088281\n",
      "iter 704, loss: 8.359944\n",
      "iter 705, loss: 11.395689\n",
      "iter 706, loss: 8.070389\n",
      "iter 707, loss: 18.430269\n",
      "iter 708, loss: 8.282654\n",
      "iter 709, loss: 7.541116\n",
      "iter 710, loss: 7.467440\n",
      "iter 711, loss: 8.536748\n",
      "iter 712, loss: 7.616612\n",
      "iter 713, loss: 7.119948\n",
      "iter 714, loss: 8.029002\n",
      "iter 715, loss: 8.026581\n",
      "iter 716, loss: 8.642889\n",
      "iter 717, loss: 9.382878\n",
      "iter 718, loss: 8.145012\n",
      "iter 719, loss: 8.249521\n",
      "iter 720, loss: 13.062053\n",
      "iter 721, loss: 8.694722\n",
      "iter 722, loss: 8.490006\n",
      "iter 723, loss: 7.094067\n",
      "iter 724, loss: 6.751498\n",
      "iter 725, loss: 8.829794\n",
      "iter 726, loss: 11.088371\n",
      "iter 727, loss: 8.274293\n",
      "iter 728, loss: 8.586541\n",
      "iter 729, loss: 11.419422\n",
      "iter 730, loss: 8.574636\n",
      "iter 731, loss: 11.185935\n",
      "iter 732, loss: 9.063641\n",
      "iter 733, loss: 8.644260\n",
      "iter 734, loss: 8.697057\n",
      "iter 735, loss: 11.164162\n",
      "iter 736, loss: 11.817632\n",
      "iter 737, loss: 7.967555\n",
      "iter 738, loss: 8.107804\n",
      "iter 739, loss: 7.692150\n",
      "iter 740, loss: 7.411473\n",
      "iter 741, loss: 15.111796\n",
      "iter 742, loss: 8.256792\n",
      "iter 743, loss: 8.644283\n",
      "iter 744, loss: 10.495855\n",
      "iter 745, loss: 8.232556\n",
      "iter 746, loss: 7.637880\n",
      "iter 747, loss: 7.519132\n",
      "iter 748, loss: 9.784284\n",
      "iter 749, loss: 11.651188\n",
      "iter 750, loss: 7.941609\n",
      "iter 751, loss: 7.880842\n",
      "iter 752, loss: 6.973324\n",
      "iter 753, loss: 8.138839\n",
      "iter 754, loss: 9.958316\n",
      "iter 755, loss: 8.648784\n",
      "iter 756, loss: 9.273138\n",
      "iter 757, loss: 7.318997\n",
      "iter 758, loss: 9.145009\n",
      "iter 759, loss: 7.261792\n",
      "iter 760, loss: 7.995101\n",
      "iter 761, loss: 15.643220\n",
      "iter 762, loss: 7.365075\n",
      "iter 763, loss: 7.834523\n",
      "iter 764, loss: 10.941135\n",
      "iter 765, loss: 9.561674\n",
      "iter 766, loss: 8.375533\n",
      "iter 767, loss: 8.211657\n",
      "iter 768, loss: 7.278723\n",
      "iter 769, loss: 8.580372\n",
      "iter 770, loss: 12.041746\n",
      "iter 771, loss: 8.122352\n",
      "iter 772, loss: 10.024880\n",
      "iter 773, loss: 11.203396\n",
      "iter 774, loss: 9.178400\n",
      "iter 775, loss: 7.925816\n",
      "iter 776, loss: 7.798541\n",
      "iter 777, loss: 8.433681\n",
      "iter 778, loss: 12.144666\n",
      "iter 779, loss: 8.164641\n",
      "iter 780, loss: 11.828221\n",
      "iter 781, loss: 7.787943\n",
      "iter 782, loss: 9.549135\n",
      "iter 783, loss: 8.803790\n",
      "iter 784, loss: 7.540700\n",
      "iter 785, loss: 8.340177\n",
      "iter 786, loss: 8.434231\n",
      "iter 787, loss: 8.367327\n",
      "iter 788, loss: 8.006311\n",
      "iter 789, loss: 6.930658\n",
      "iter 790, loss: 8.597240\n",
      "iter 791, loss: 8.657052\n",
      "iter 792, loss: 8.890477\n",
      "iter 793, loss: 8.011897\n",
      "iter 794, loss: 6.790593\n",
      "iter 795, loss: 8.438937\n",
      "iter 796, loss: 8.878749\n",
      "iter 797, loss: 9.394807\n",
      "iter 798, loss: 9.856952\n",
      "iter 799, loss: 8.634559\n",
      "iter 800, loss: 12.379921\n",
      "iter 801, loss: 7.604684\n",
      "iter 802, loss: 7.328125\n",
      "iter 803, loss: 7.924699\n",
      "iter 804, loss: 7.981866\n",
      "iter 805, loss: 7.585387\n",
      "iter 806, loss: 7.971917\n",
      "iter 807, loss: 7.525534\n",
      "iter 808, loss: 6.930053\n",
      "iter 809, loss: 7.229084\n",
      "iter 810, loss: 7.998272\n",
      "iter 811, loss: 7.486626\n",
      "iter 812, loss: 8.425944\n",
      "iter 813, loss: 8.118904\n",
      "iter 814, loss: 6.921524\n",
      "iter 815, loss: 7.654383\n",
      "iter 816, loss: 10.587766\n",
      "iter 817, loss: 8.542358\n",
      "iter 818, loss: 8.500302\n",
      "iter 819, loss: 7.763364\n",
      "iter 820, loss: 8.013494\n",
      "iter 821, loss: 7.372276\n",
      "iter 822, loss: 17.008506\n",
      "iter 823, loss: 8.728867\n",
      "iter 824, loss: 7.734465\n",
      "iter 825, loss: 7.760938\n",
      "iter 826, loss: 8.384576\n",
      "iter 827, loss: 8.964061\n",
      "iter 828, loss: 8.432954\n",
      "iter 829, loss: 7.247683\n",
      "iter 830, loss: 7.438484\n",
      "iter 831, loss: 10.982211\n",
      "iter 832, loss: 7.287076\n",
      "iter 833, loss: 8.257119\n",
      "iter 834, loss: 8.363758\n",
      "iter 835, loss: 7.270032\n",
      "iter 836, loss: 6.843823\n",
      "iter 837, loss: 8.321480\n",
      "iter 838, loss: 7.212417\n",
      "iter 839, loss: 6.792138\n",
      "iter 840, loss: 8.250957\n",
      "iter 841, loss: 6.823000\n",
      "iter 842, loss: 8.113019\n",
      "iter 843, loss: 8.774291\n",
      "iter 844, loss: 7.098847\n",
      "iter 845, loss: 7.528582\n",
      "iter 846, loss: 7.229116\n",
      "iter 847, loss: 7.038515\n",
      "iter 848, loss: 6.879607\n",
      "iter 849, loss: 12.253185\n",
      "iter 850, loss: 9.761220\n",
      "iter 851, loss: 7.146204\n",
      "iter 852, loss: 7.389734\n",
      "iter 853, loss: 7.064929\n",
      "iter 854, loss: 6.783777\n",
      "iter 855, loss: 6.793825\n",
      "iter 856, loss: 7.619652\n",
      "iter 857, loss: 7.568725\n",
      "iter 858, loss: 7.435351\n",
      "iter 859, loss: 6.659373\n",
      "iter 860, loss: 8.004559\n",
      "iter 861, loss: 7.735890\n",
      "iter 862, loss: 6.361482\n",
      "iter 863, loss: 8.157447\n",
      "iter 864, loss: 9.832931\n",
      "iter 865, loss: 7.012971\n",
      "iter 866, loss: 13.277579\n",
      "iter 867, loss: 6.962261\n",
      "iter 868, loss: 12.998536\n",
      "iter 869, loss: 11.093146\n",
      "iter 870, loss: 9.268648\n",
      "iter 871, loss: 6.986329\n",
      "iter 872, loss: 7.940387\n",
      "iter 873, loss: 7.693575\n",
      "iter 874, loss: 9.223850\n",
      "iter 875, loss: 7.493654\n",
      "iter 876, loss: 7.066836\n",
      "iter 877, loss: 8.852092\n",
      "iter 878, loss: 8.188821\n",
      "iter 879, loss: 6.884573\n",
      "iter 880, loss: 6.533641\n",
      "iter 881, loss: 8.580458\n",
      "iter 882, loss: 7.487368\n",
      "iter 883, loss: 6.931978\n",
      "iter 884, loss: 11.489848\n",
      "iter 885, loss: 8.085402\n",
      "iter 886, loss: 7.596826\n",
      "iter 887, loss: 9.091736\n",
      "iter 888, loss: 7.144746\n",
      "iter 889, loss: 7.085145\n",
      "iter 890, loss: 9.780514\n",
      "iter 891, loss: 8.970299\n",
      "iter 892, loss: 7.811747\n",
      "iter 893, loss: 7.287015\n",
      "iter 894, loss: 17.146152\n",
      "iter 895, loss: 7.600651\n",
      "iter 896, loss: 7.141500\n",
      "iter 897, loss: 8.190371\n",
      "iter 898, loss: 8.192432\n",
      "iter 899, loss: 8.210823\n",
      "iter 900, loss: 6.461283\n",
      "iter 901, loss: 7.348725\n",
      "iter 902, loss: 6.726150\n",
      "iter 903, loss: 6.896794\n",
      "iter 904, loss: 10.176012\n",
      "iter 905, loss: 7.949860\n",
      "iter 906, loss: 7.284690\n",
      "iter 907, loss: 6.815898\n",
      "iter 908, loss: 10.595404\n",
      "iter 909, loss: 14.652059\n",
      "iter 910, loss: 11.014920\n",
      "iter 911, loss: 8.078248\n",
      "iter 912, loss: 7.516513\n",
      "iter 913, loss: 7.194414\n",
      "iter 914, loss: 6.760840\n",
      "iter 915, loss: 7.211868\n",
      "iter 916, loss: 7.223005\n",
      "iter 917, loss: 12.950580\n",
      "iter 918, loss: 7.409896\n",
      "iter 919, loss: 7.003957\n",
      "iter 920, loss: 8.336708\n",
      "iter 921, loss: 6.969173\n",
      "iter 922, loss: 8.142246\n",
      "iter 923, loss: 8.368814\n",
      "iter 924, loss: 7.165823\n",
      "iter 925, loss: 6.633268\n",
      "iter 926, loss: 6.777584\n",
      "iter 927, loss: 7.628742\n",
      "iter 928, loss: 6.922578\n",
      "iter 929, loss: 7.535980\n",
      "iter 930, loss: 7.601379\n",
      "iter 931, loss: 7.028631\n",
      "iter 932, loss: 9.677322\n",
      "iter 933, loss: 11.342606\n",
      "iter 934, loss: 6.620670\n",
      "iter 935, loss: 7.400912\n",
      "iter 936, loss: 7.549365\n",
      "iter 937, loss: 11.958532\n",
      "iter 938, loss: 9.824009\n",
      "iter 939, loss: 7.294781\n",
      "iter 940, loss: 6.789615\n",
      "iter 941, loss: 7.292114\n",
      "iter 942, loss: 6.885517\n",
      "iter 943, loss: 6.956400\n",
      "iter 944, loss: 9.440521\n",
      "iter 945, loss: 9.962913\n",
      "iter 946, loss: 7.225579\n",
      "iter 947, loss: 7.546391\n",
      "iter 948, loss: 8.405361\n",
      "iter 949, loss: 6.836644\n",
      "iter 950, loss: 8.030016\n",
      "iter 951, loss: 7.035820\n",
      "iter 952, loss: 11.347389\n",
      "iter 953, loss: 8.754298\n",
      "iter 954, loss: 7.924942\n",
      "iter 955, loss: 10.160126\n",
      "iter 956, loss: 9.315168\n",
      "iter 957, loss: 8.019149\n",
      "iter 958, loss: 6.868465\n",
      "iter 959, loss: 6.833516\n",
      "iter 960, loss: 7.207015\n",
      "iter 961, loss: 7.488689\n",
      "iter 962, loss: 6.891595\n",
      "iter 963, loss: 6.957289\n",
      "iter 964, loss: 12.178604\n",
      "iter 965, loss: 10.788501\n",
      "iter 966, loss: 6.744028\n"
     ]
    },
    {
     "name": "stdout",
     "output_type": "stream",
     "text": [
      "iter 967, loss: 7.488124\n",
      "iter 968, loss: 7.170083\n",
      "iter 969, loss: 7.226299\n",
      "iter 970, loss: 13.345011\n",
      "iter 971, loss: 9.667065\n",
      "iter 972, loss: 17.182253\n",
      "iter 973, loss: 9.855784\n",
      "iter 974, loss: 7.810931\n",
      "iter 975, loss: 7.219388\n",
      "iter 976, loss: 7.982136\n",
      "iter 977, loss: 7.484552\n",
      "iter 978, loss: 7.607604\n",
      "iter 979, loss: 7.646256\n",
      "iter 980, loss: 7.093352\n",
      "iter 981, loss: 7.514625\n",
      "iter 982, loss: 7.009198\n",
      "iter 983, loss: 7.056584\n",
      "iter 984, loss: 7.259424\n",
      "iter 985, loss: 6.932261\n",
      "iter 986, loss: 9.772591\n",
      "iter 987, loss: 7.643215\n",
      "iter 988, loss: 8.755634\n",
      "iter 989, loss: 9.357314\n",
      "iter 990, loss: 6.501394\n",
      "iter 991, loss: 7.672979\n",
      "iter 992, loss: 7.273746\n",
      "iter 993, loss: 6.749523\n",
      "iter 994, loss: 7.538495\n",
      "iter 995, loss: 8.176121\n",
      "iter 996, loss: 7.035859\n",
      "iter 997, loss: 13.102949\n",
      "iter 998, loss: 8.277997\n",
      "iter 999, loss: 7.039740\n",
      "CPU times: user 30min 11s, sys: 7.84 s, total: 30min 19s\n",
      "Wall time: 7min 34s\n"
     ]
    }
   ],
   "source": [
    "%%time\n",
    "\n",
    "data_pointer = 0\n",
    "\n",
    "# memory variables for Adagrad\n",
    "mWxh, mWhh, mWhy = np.zeros_like(W_xh), np.zeros_like(W_hh), np.zeros_like(W_hy)\n",
    "mbh, mby = np.zeros_like(b_h), np.zeros_like(b_y) \n",
    "\n",
    "for i in range(iteration):\n",
    "    h_prev = np.zeros((hidden_size,1)) # reset RNN memory\n",
    "    data_pointer = 0 # go from start of data\n",
    "    \n",
    "    for b in range(batch_size):\n",
    "        \n",
    "        inputs = [char_to_int[ch] for ch in article_text[data_pointer:data_pointer+sequence_length]]\n",
    "        targets = [char_to_int[ch] for ch in article_text[data_pointer+1:data_pointer+sequence_length+1]] # t+1        \n",
    "            \n",
    "        if (data_pointer+sequence_length+1 >= len(article_text) and b == batch_size-1): # processing of the last part of the input data. \n",
    "#             targets.append(char_to_int[txt_data[0]])   # When the data doesn't fit, add the first char to the back.\n",
    "            targets.append(char_to_int[\" \"])   # When the data doesn't fit, add space(\" \") to the back.\n",
    "\n",
    "\n",
    "        # forward\n",
    "        loss, ps, hs, xs = forwardprop(inputs, targets, h_prev)\n",
    "#         print(loss)\n",
    "    \n",
    "        # backward\n",
    "        dWxh, dWhh, dWhy, dbh, dby = backprop(ps, inputs, hs, xs) \n",
    "        \n",
    "        \n",
    "    # perform parameter update with Adagrad\n",
    "        for param, dparam, mem in zip([W_xh, W_hh, W_hy, b_h, b_y], \n",
    "                                    [dWxh, dWhh, dWhy, dbh, dby], \n",
    "                                    [mWxh, mWhh, mWhy, mbh, mby]):\n",
    "            mem += dparam * dparam # elementwise\n",
    "            param += -learning_rate * dparam / np.sqrt(mem + 1e-8) # adagrad update      \n",
    "    \n",
    "        data_pointer += sequence_length # move data pointer\n",
    "        \n",
    "    if i % 1 == 0:\n",
    "        print ('iter %d, loss: %f' % (i, loss)) # print progress"
   ]
  },
  {
   "cell_type": "code",
   "execution_count": 190,
   "metadata": {},
   "outputs": [],
   "source": [
    "\n",
    "def predict(test_char, length):\n",
    "    x = np.zeros((num_chars, 1)) \n",
    "    x[char_to_int[test_char]] = 1\n",
    "    ixes = []\n",
    "    h = np.zeros((hidden_size,1))\n",
    "\n",
    "    for t in range(length):\n",
    "        h = np.tanh(np.dot(W_xh, x) + np.dot(W_hh, h) + b_h) \n",
    "        y = np.dot(W_hy, h) + b_y\n",
    "        p = np.exp(y) / np.sum(np.exp(y)) \n",
    "        ix = np.random.choice(range(num_chars), p=p.ravel()) # ravel -> rank0\n",
    "        # \"ix\" is a list of indexes selected according to the soft max probability.\n",
    "        x = np.zeros((num_chars, 1)) # init\n",
    "        x[ix] = 1 \n",
    "        ixes.append(ix) # list\n",
    "    txt = test_char + ''.join(int_to_char[i] for i in ixes)\n",
    "    print ('----\\n %s \\n----' % (txt, ))"
   ]
  },
  {
   "cell_type": "code",
   "execution_count": 192,
   "metadata": {},
   "outputs": [
    {
     "name": "stdout",
     "output_type": "stream",
     "text": [
      "----\n",
      " Yet nklbsedith whe hranth semend,\r\n",
      "Bew reod  4\r\n",
      "Frre wores ris the to geves of ther:\r\n",
      "Make nose of murle,\r\n",
      "Bet riven warksshe lives the arngle wies of tro so lafty lappies of tinglendem:\r\n",
      "\r\n",
      "Unthre,\r\n",
      "In shoulsshis nou pover ntine ambeauty’s qoct ber es thine heinthrefrme foonest an thath shoof ile,\r\n",
      "If ary dest,\r\n",
      "A glave?\r\n",
      "   t shoud dap it nou gaivive?\r\n",
      "Bus joy:\r\n",
      "  Pity tant bequest nou le dis thy ford fariny saling wsers with swaad, his med:\r\n",
      "Then thy loous rich-th meature fais bein nel:\r\n",
      "Makpay the ind to b’s now one ressthrit bar’shat sim mor,\r\n",
      "Thy fee love, tyouert sorld, the ve aro-serer meveno shathely lladeaved not thee,\r\n",
      "Lipes ro fraff the lovert happier,\r\n",
      "Bean withigg red,\r\n",
      "In sith givich happie fooksery siglade usuty ins,\r\n",
      "Werd dee,\r\n",
      "B wor shene stemee dert with frost and thou steldaAnd whind of sumoms lached thee horedat,\r\n",
      "Athes refted thy tor livisg wse ton time.\r\n",
      "How or the ic nfole,\r\n",
      "Thee tamcith hadong tillert lrondhighmostitlf fimese aine.\r\n",
      "\r\n",
      " e tid cow,\r\n",
      "Food:\r\n",
      "  Thine  \n",
      "----\n"
     ]
    }
   ],
   "source": [
    "predict('Y', 1000)\n"
   ]
  },
  {
   "cell_type": "markdown",
   "metadata": {
    "colab_type": "text",
    "id": "zE4a4O7Bp5x1"
   },
   "source": [
    "# Resources and Stretch Goals"
   ]
  },
  {
   "cell_type": "markdown",
   "metadata": {
    "colab_type": "text",
    "id": "uT3UV3gap9H6"
   },
   "source": [
    "## Stretch goals:\n",
    "- Refine the training and generation of text to be able to ask for different genres/styles of Shakespearean text (e.g. plays versus sonnets)\n",
    "- Train a classification model that takes text and returns which work of Shakespeare it is most likely to be from\n",
    "- Make it more performant! Many possible routes here - lean on Keras, optimize the code, and/or use more resources (AWS, etc.)\n",
    "- Revisit the news example from class, and improve it - use categories or tags to refine the model/generation, or train a news classifier\n",
    "- Run on bigger, better data\n",
    "\n",
    "## Resources:\n",
    "- [The Unreasonable Effectiveness of Recurrent Neural Networks](https://karpathy.github.io/2015/05/21/rnn-effectiveness/) - a seminal writeup demonstrating a simple but effective character-level NLP RNN\n",
    "- [Simple NumPy implementation of RNN](https://github.com/JY-Yoon/RNN-Implementation-using-NumPy/blob/master/RNN%20Implementation%20using%20NumPy.ipynb) - Python 3 version of the code from \"Unreasonable Effectiveness\"\n",
    "- [TensorFlow RNN Tutorial](https://github.com/tensorflow/models/tree/master/tutorials/rnn) - code for training a RNN on the Penn Tree Bank language dataset\n",
    "- [4 part tutorial on RNN](http://www.wildml.com/2015/09/recurrent-neural-networks-tutorial-part-1-introduction-to-rnns/) - relates RNN to the vanishing gradient problem, and provides example implementation\n",
    "- [RNN training tips and tricks](https://github.com/karpathy/char-rnn#tips-and-tricks) - some rules of thumb for parameterizing and training your RNN"
   ]
  }
 ],
 "metadata": {
  "accelerator": "GPU",
  "colab": {
   "collapsed_sections": [],
   "name": "LS_DS_441_RNN_and_LSTM.ipynb",
   "provenance": [],
   "version": "0.3.2"
  },
  "kernelspec": {
   "display_name": "Python 3",
   "language": "python",
   "name": "python3"
  },
  "language_info": {
   "codemirror_mode": {
    "name": "ipython",
    "version": 3
   },
   "file_extension": ".py",
   "mimetype": "text/x-python",
   "name": "python",
   "nbconvert_exporter": "python",
   "pygments_lexer": "ipython3",
   "version": "3.6.5"
  }
 },
 "nbformat": 4,
 "nbformat_minor": 1
}
