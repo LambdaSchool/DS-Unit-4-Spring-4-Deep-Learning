{
 "cells": [
  {
   "cell_type": "code",
   "execution_count": 1,
   "metadata": {},
   "outputs": [
    {
     "name": "stdout",
     "output_type": "stream",
     "text": "[name: \"/device:CPU:0\"\ndevice_type: \"CPU\"\nmemory_limit: 268435456\nlocality {\n}\nincarnation: 5530229594410818595\n, name: \"/device:GPU:0\"\ndevice_type: \"GPU\"\nmemory_limit: 3181130547\nlocality {\n  bus_id: 1\n  links {\n  }\n}\nincarnation: 319415492416728761\nphysical_device_desc: \"device: 0, name: GeForce GTX 960M, pci bus id: 0000:01:00.0, compute capability: 5.0\"\n]\n"
    }
   ],
   "source": [
    "from tensorflow.keras.callbacks import LambdaCallback\n",
    "from tensorflow.keras.models import Sequential, Model\n",
    "from tensorflow.keras.layers import Dense, Conv1D, MaxPooling1D, GlobalMaxPooling1D\n",
    "from tensorflow.keras.optimizers import RMSprop\n",
    "\n",
    "\n",
    "import numpy as np\n",
    "import random\n",
    "import re\n",
    "\n",
    "from tensorflow.python.client import device_lib\n",
    "print(device_lib.list_local_devices())"
   ]
  },
  {
   "cell_type": "code",
   "execution_count": 2,
   "metadata": {},
   "outputs": [
    {
     "name": "stdout",
     "output_type": "stream",
     "text": "PENGUIN BOOKS\n\n\n\n\n\nCOLLECTED FICTIONS\n\n\n\n\n\nJorge Luis Borges was born in Buenos Aires in 1899 and was educated in Europe. One of the most widely acclaimed writers of our time, he published many collections of poems, essays, and short stories before his death in Geneva in June 1986. In 1961 Borges shared the International Publishers’ prize with Samuel Beckett. The Ingram Merrill Foundation granted him its Annual Literary Award in 1966 for his “outstanding contribution to literature.” In 1971 Colu\n"
    }
   ],
   "source": [
    "# Loading in some Borges. Shakespeare is boring!\n",
    "\n",
    "with open(f'./borges/borges_collected_fictions.txt', 'r', encoding='utf8') as f:\n",
    "            data = f.read()\n",
    "        \n",
    "print(data[:500])"
   ]
  },
  {
   "cell_type": "code",
   "execution_count": 3,
   "metadata": {},
   "outputs": [],
   "source": [
    "def cleaner(text):\n",
    "    '''cleans the text of escape chars and the like.'''\n",
    "    stripped = text.strip(' ')\n",
    "    lowered = stripped.lower()\n",
    "    cleaned = re.sub(r\"[^a-zA-Z ^0-9 \\. , ']\", ' ', lowered)\n",
    "    despaced = cleaned.strip(' ')\n",
    "    return despaced"
   ]
  },
  {
   "cell_type": "code",
   "execution_count": 4,
   "metadata": {},
   "outputs": [
    {
     "data": {
      "text/plain": "'penguin books      collected fictions      jorge luis borges was born in buenos aires in 1899 and was educated in europe. one of the most widely acclaimed writers of our time, he published many collections of poems, essays, and short stories before his death in geneva in june 1986. in 1961 borges shared the international publishers  prize with samuel beckett. the ingram merrill foundation granted '"
     },
     "execution_count": 4,
     "metadata": {},
     "output_type": "execute_result"
    }
   ],
   "source": [
    "# clean the data\n",
    "clean_data = cleaner(data)\n",
    "\n",
    "# check that things look alright\n",
    "clean_data[:400]"
   ]
  },
  {
   "cell_type": "code",
   "execution_count": 5,
   "metadata": {},
   "outputs": [
    {
     "data": {
      "text/plain": "26646"
     },
     "execution_count": 5,
     "metadata": {},
     "output_type": "execute_result"
    }
   ],
   "source": [
    "# make a list of all unique words, check how many\n",
    "wordlist = clean_data.split(' ')\n",
    "wordset = list(set(clean_data.split(' ')))\n",
    "len(wordset)"
   ]
  },
  {
   "cell_type": "code",
   "execution_count": 6,
   "metadata": {},
   "outputs": [],
   "source": [
    "# get rid of words below a certain frequency\n",
    "freqdict = {word:wordlist.count(word) for word in wordset}"
   ]
  },
  {
   "cell_type": "code",
   "execution_count": 7,
   "metadata": {},
   "outputs": [
    {
     "data": {
      "text/plain": "3723"
     },
     "execution_count": 7,
     "metadata": {},
     "output_type": "execute_result"
    }
   ],
   "source": [
    "freqdict['i']"
   ]
  },
  {
   "cell_type": "code",
   "execution_count": 8,
   "metadata": {},
   "outputs": [
    {
     "data": {
      "text/plain": "2246"
     },
     "execution_count": 8,
     "metadata": {},
     "output_type": "execute_result"
    }
   ],
   "source": [
    "smaller_list = [ word for word in wordlist if (freqdict[word] >= 10) and (word != '') ] \n",
    "len(set(smaller_list))"
   ]
  },
  {
   "cell_type": "code",
   "execution_count": 9,
   "metadata": {},
   "outputs": [],
   "source": [
    "small_wordset = list(set(smaller_list))"
   ]
  },
  {
   "cell_type": "code",
   "execution_count": 10,
   "metadata": {},
   "outputs": [],
   "source": [
    "# encode words as ints\n",
    "\n",
    "words_to_ints = {w:i for i,w in enumerate(small_wordset)}\n",
    "ints_to_words = {i:w for i,w in enumerate(small_wordset)}"
   ]
  },
  {
   "cell_type": "code",
   "execution_count": 11,
   "metadata": {},
   "outputs": [
    {
     "data": {
      "text/plain": "1473"
     },
     "execution_count": 11,
     "metadata": {},
     "output_type": "execute_result"
    }
   ],
   "source": [
    "words_to_ints['and']"
   ]
  },
  {
   "cell_type": "code",
   "execution_count": 12,
   "metadata": {},
   "outputs": [],
   "source": [
    "# Create the Sequence Data\n",
    "\n",
    "maxlen = 40\n",
    "step = 5\n",
    "\n",
    "encoded = [words_to_ints[w] for w in smaller_list]\n",
    "\n",
    "sequences = []\n",
    "next_words = []\n",
    "\n",
    "for ii in range(0, len(encoded)-maxlen, step):\n",
    "    sequences.append(encoded[ii : ii+maxlen])\n",
    "    next_words.append(encoded[ii+maxlen])"
   ]
  },
  {
   "cell_type": "code",
   "execution_count": 13,
   "metadata": {},
   "outputs": [],
   "source": [
    "# Specify x & y\n",
    "\n",
    "x = np.zeros((len(sequences), maxlen, len(small_wordset)), dtype=np.bool)\n",
    "y = np.zeros((len(sequences), len(small_wordset)), dtype=np.bool)\n",
    "\n",
    "for ii, sequence in enumerate(sequences):\n",
    "    for t, word in enumerate(sequence):\n",
    "        x[ii,t,word] = 1\n",
    "        \n",
    "    y[ii, next_words[ii]] = 1"
   ]
  },
  {
   "cell_type": "code",
   "execution_count": 14,
   "metadata": {},
   "outputs": [],
   "source": [
    "X2 = np.asarray(sequences)"
   ]
  },
  {
   "cell_type": "code",
   "execution_count": 15,
   "metadata": {},
   "outputs": [],
   "source": [
    "y2 = np.asarray(next_words)\n",
    "y2.shape = (y2.shape[0], 1)"
   ]
  },
  {
   "cell_type": "code",
   "execution_count": 16,
   "metadata": {},
   "outputs": [
    {
     "data": {
      "text/plain": "(40, 2246)"
     },
     "execution_count": 16,
     "metadata": {},
     "output_type": "execute_result"
    }
   ],
   "source": [
    "x[1].shape"
   ]
  },
  {
   "cell_type": "code",
   "execution_count": 17,
   "metadata": {},
   "outputs": [],
   "source": [
    "# build the model: a single LSTM\n",
    "\n",
    "model = Sequential()\n",
    "model.add(Conv1D(128, kernel_size=7, input_shape=(maxlen, len(small_wordset)), activation='relu', strides=1))\n",
    "model.add(GlobalMaxPooling1D())\n",
    "model.add(Dense(len(small_wordset), activation='softmax'))\n",
    "\n",
    "model.compile(loss='categorical_crossentropy', optimizer='adam')"
   ]
  },
  {
   "cell_type": "code",
   "execution_count": null,
   "metadata": {},
   "outputs": [],
   "source": []
  },
  {
   "cell_type": "code",
   "execution_count": null,
   "metadata": {},
   "outputs": [],
   "source": []
  }
 ],
 "metadata": {
  "kernelspec": {
   "display_name": "U4S3, Deep Learning 2",
   "language": "python",
   "name": "u4s3-deep_learning_20"
  },
  "language_info": {
   "codemirror_mode": {
    "name": "ipython",
    "version": 3
   },
   "file_extension": ".py",
   "mimetype": "text/x-python",
   "name": "python",
   "nbconvert_exporter": "python",
   "pygments_lexer": "ipython3",
   "version": "3.7.3-final"
  }
 },
 "nbformat": 4,
 "nbformat_minor": 4
}