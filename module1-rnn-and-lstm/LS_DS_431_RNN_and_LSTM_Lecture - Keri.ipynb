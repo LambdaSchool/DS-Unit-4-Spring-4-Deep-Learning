{
 "cells": [
  {
   "cell_type": "markdown",
   "metadata": {
    "colab_type": "text",
    "id": "_IizNKWLomoA"
   },
   "source": [
    "<img align=\"left\" src=\"https://lever-client-logos.s3.amazonaws.com/864372b1-534c-480e-acd5-9711f850815c-1524247202159.png\" width=200>\n",
    "<br></br>\n",
    "<br></br>\n",
    "\n",
    "## *Data Science Unit 4 Sprint 3 Lesson 1*\n",
    "\n",
    "# Recurrent Neural Networks and Long Short Term Memory (LSTM)\n",
    "## _aka_ PREDICTING THE FUTURE!\n",
    "\n",
    "<img src=\"https://media.giphy.com/media/l2JJu8U8SoHhQEnoQ/giphy.gif\" width=480 height=356>\n",
    "<br></br>\n",
    "<br></br>\n",
    "\n",
    "> \"Yesterday's just a memory - tomorrow is never what it's supposed to be.\" -- Bob Dylan\n",
    "\n",
    "Wish you could save [Time In A Bottle](https://www.youtube.com/watch?v=AnWWj6xOleY)? With statistics you can do the next best thing - understand how data varies over time (or any sequential order), and use the order/time dimension predictively.\n",
    "\n",
    "A sequence is just any enumerated collection - order counts, and repetition is allowed. Python lists are a good elemental example - `[1, 2, 2, -1]` is a valid list, and is different from `[1, 2, -1, 2]`. The data structures we tend to use (e.g. NumPy arrays) are often built on this fundamental structure.\n",
    "\n",
    "A time series is data where you have not just the order but some actual continuous marker for where they lie \"in time\" - this could be a date, a timestamp, [Unix time](https://en.wikipedia.org/wiki/Unix_time), or something else. All time series are also sequences, and for some techniques you may just consider their order and not \"how far apart\" the entries are (if you have particularly consistent data collected at regular intervals it may not matter)."
   ]
  },
  {
   "cell_type": "markdown",
   "metadata": {
    "colab_type": "text",
    "id": "44QZgrPUe3-Y"
   },
   "source": [
    "## Recurrent Neural Networks\n",
    "\n",
    "There's plenty more to \"traditional\" time series, but the latest and greatest technique for sequence data is recurrent neural networks. A recurrence relation in math is an equation that uses recursion to define a sequence - a famous example is the Fibonacci numbers:\n",
    "\n",
    "$F_n = F_{n-1} + F_{n-2}$\n",
    "\n",
    "For formal math you also need a base case $F_0=1, F_1=1$, and then the rest builds from there. But for neural networks what we're really talking about are loops:\n",
    "\n",
    "![Recurrent neural network](https://upload.wikimedia.org/wikipedia/commons/b/b5/Recurrent_neural_network_unfold.svg)\n",
    "\n",
    "The hidden layers have edges (output) going back to their own input - this loop means that for any time `t` the training is at least partly based on the output from time `t-1`. The entire network is being represented on the left, and you can unfold the network explicitly to see how it behaves at any given `t`.\n",
    "\n",
    "Different units can have this \"loop\", but a particularly successful one is the long short-term memory unit (LSTM):\n",
    "\n",
    "![Long short-term memory unit](https://upload.wikimedia.org/wikipedia/commons/thumb/6/63/Long_Short-Term_Memory.svg/1024px-Long_Short-Term_Memory.svg.png)\n",
    "\n",
    "There's a lot going on here - in a nutshell, the calculus still works out and backpropagation can still be implemented. The advantage (ane namesake) of LSTM is that it can generally put more weight on recent (short-term) events while not completely losing older (long-term) information.\n",
    "\n",
    "After enough iterations, a typical neural network will start calculating prior gradients that are so small they effectively become zero - this is the [vanishing gradient problem](https://en.wikipedia.org/wiki/Vanishing_gradient_problem), and is what RNN with LSTM addresses. Pay special attention to the $c_t$ parameters and how they pass through the unit to get an intuition for how this problem is solved.\n",
    "\n",
    "So why are these cool? One particularly compelling application is actually not time series but language modeling - language is inherently ordered data (letters/words go one after another, and the order *matters*). [The Unreasonable Effectiveness of Recurrent Neural Networks](https://karpathy.github.io/2015/05/21/rnn-effectiveness/) is a famous and worth reading blog post on this topic.\n",
    "\n",
    "For our purposes, let's use TensorFlow and Keras to train RNNs with natural language. Resources:\n",
    "\n",
    "- https://github.com/keras-team/keras/blob/master/examples/imdb_lstm.py\n",
    "- https://keras.io/layers/recurrent/#lstm\n",
    "- http://adventuresinmachinelearning.com/keras-lstm-tutorial/\n",
    "\n",
    "Note that `tensorflow.contrib` [also has an implementation of RNN/LSTM](https://www.tensorflow.org/tutorials/sequences/recurrent)."
   ]
  },
  {
   "cell_type": "markdown",
   "metadata": {
    "colab_type": "text",
    "id": "eWrQllf8WEd-"
   },
   "source": [
    "### RNN/LSTM Sentiment Classification with Keras"
   ]
  },
  {
   "cell_type": "code",
   "execution_count": 1,
   "metadata": {
    "colab": {
     "base_uri": "https://localhost:8080/",
     "height": 975
    },
    "colab_type": "code",
    "id": "Ti23G0gRe3kr",
    "outputId": "bba9ae40-a286-49ed-d87b-b2946fb60ddf"
   },
   "outputs": [
    {
     "name": "stdout",
     "output_type": "stream",
     "text": [
      "Loading data...\n",
      "25000 train sequences\n",
      "25000 test sequences\n"
     ]
    }
   ],
   "source": [
    "'''\n",
    "#Trains an LSTM model on the IMDB sentiment classification task.\n",
    "The dataset is actually too small for LSTM to be of any advantage\n",
    "compared to simpler, much faster methods such as TF-IDF + LogReg.\n",
    "**Notes**\n",
    "- RNNs are tricky. Choice of batch size is important,\n",
    "choice of loss and optimizer is critical, etc.\n",
    "Some configurations won't converge.\n",
    "- LSTM loss decrease patterns during training can be quite different\n",
    "from what you see with CNNs/MLPs/etc.\n",
    "'''\n",
    "from __future__ import print_function\n",
    "\n",
    "from tensorflow.keras.preprocessing import sequence\n",
    "from tensorflow.keras.models import Sequential\n",
    "from tensorflow.keras.layers import Dense, Embedding\n",
    "from tensorflow.keras.layers import LSTM\n",
    "from tensorflow.keras.datasets import imdb\n",
    "\n",
    "max_features = 20000\n",
    "# cut texts after this number of words (among top max_features most common words)\n",
    "maxlen = 80\n",
    "batch_size = 32\n",
    "\n",
    "print('Loading data...')\n",
    "(x_train, y_train), (x_test, y_test) = imdb.load_data(num_words=max_features)\n",
    "print(len(x_train), 'train sequences')\n",
    "print(len(x_test), 'test sequences')"
   ]
  },
  {
   "cell_type": "code",
   "execution_count": 2,
   "metadata": {},
   "outputs": [
    {
     "data": {
      "text/plain": [
       "25000"
      ]
     },
     "execution_count": 2,
     "metadata": {},
     "output_type": "execute_result"
    }
   ],
   "source": [
    "len(x_train)"
   ]
  },
  {
   "cell_type": "code",
   "execution_count": 3,
   "metadata": {
    "colab": {
     "base_uri": "https://localhost:8080/",
     "height": 975
    },
    "colab_type": "code",
    "id": "Ti23G0gRe3kr",
    "outputId": "bba9ae40-a286-49ed-d87b-b2946fb60ddf"
   },
   "outputs": [
    {
     "name": "stdout",
     "output_type": "stream",
     "text": [
      "Pad sequences (samples x time)\n",
      "x_train shape: (25000, 80)\n",
      "x_test shape: (25000, 80)\n"
     ]
    }
   ],
   "source": [
    "print('Pad sequences (samples x time)')\n",
    "x_train = sequence.pad_sequences(x_train, maxlen=maxlen)\n",
    "x_test = sequence.pad_sequences(x_test, maxlen=maxlen)\n",
    "print('x_train shape:', x_train.shape)\n",
    "print('x_test shape:', x_test.shape)"
   ]
  },
  {
   "cell_type": "code",
   "execution_count": 4,
   "metadata": {},
   "outputs": [
    {
     "data": {
      "text/plain": [
       "array([   15,   256,     4,     2,     7,  3766,     5,   723,    36,\n",
       "          71,    43,   530,   476,    26,   400,   317,    46,     7,\n",
       "           4, 12118,  1029,    13,   104,    88,     4,   381,    15,\n",
       "         297,    98,    32,  2071,    56,    26,   141,     6,   194,\n",
       "        7486,    18,     4,   226,    22,    21,   134,   476,    26,\n",
       "         480,     5,   144,    30,  5535,    18,    51,    36,    28,\n",
       "         224,    92,    25,   104,     4,   226,    65,    16,    38,\n",
       "        1334,    88,    12,    16,   283,     5,    16,  4472,   113,\n",
       "         103,    32,    15,    16,  5345,    19,   178,    32],\n",
       "      dtype=int32)"
      ]
     },
     "execution_count": 4,
     "metadata": {},
     "output_type": "execute_result"
    }
   ],
   "source": [
    "x_train[0]"
   ]
  },
  {
   "cell_type": "code",
   "execution_count": 5,
   "metadata": {
    "colab": {
     "base_uri": "https://localhost:8080/",
     "height": 975
    },
    "colab_type": "code",
    "id": "Ti23G0gRe3kr",
    "outputId": "bba9ae40-a286-49ed-d87b-b2946fb60ddf"
   },
   "outputs": [
    {
     "name": "stdout",
     "output_type": "stream",
     "text": [
      "Build model...\n",
      "WARNING:tensorflow:From /home/ec2-user/anaconda3/envs/amazonei_tensorflow_p36/lib/python3.6/site-packages/tensorflow/python/ops/resource_variable_ops.py:435: colocate_with (from tensorflow.python.framework.ops) is deprecated and will be removed in a future version.\n",
      "Instructions for updating:\n",
      "Colocations handled automatically by placer.\n",
      "WARNING:tensorflow:From /home/ec2-user/anaconda3/envs/amazonei_tensorflow_p36/lib/python3.6/site-packages/tensorflow/python/keras/backend.py:4010: calling dropout (from tensorflow.python.ops.nn_ops) with keep_prob is deprecated and will be removed in a future version.\n",
      "Instructions for updating:\n",
      "Please use `rate` instead of `keep_prob`. Rate should be set to `rate = 1 - keep_prob`.\n",
      "Train...\n",
      "Train on 25000 samples, validate on 25000 samples\n",
      "WARNING:tensorflow:From /home/ec2-user/anaconda3/envs/amazonei_tensorflow_p36/lib/python3.6/site-packages/tensorflow/python/ops/math_ops.py:3066: to_int32 (from tensorflow.python.ops.math_ops) is deprecated and will be removed in a future version.\n",
      "Instructions for updating:\n",
      "Use tf.cast instead.\n",
      "Epoch 1/15\n",
      "25000/25000 [==============================] - 87s 3ms/sample - loss: 0.4596 - acc: 0.7844 - val_loss: 0.3718 - val_acc: 0.8354\n",
      "Epoch 2/15\n",
      "25000/25000 [==============================] - 84s 3ms/sample - loss: 0.2990 - acc: 0.8794 - val_loss: 0.4055 - val_acc: 0.8232\n",
      "Epoch 3/15\n",
      "20640/25000 [=======================>......] - ETA: 12s - loss: 0.2119 - acc: 0.9180"
     ]
    },
    {
     "ename": "KeyboardInterrupt",
     "evalue": "",
     "output_type": "error",
     "traceback": [
      "\u001b[0;31m---------------------------------------------------------------------------\u001b[0m",
      "\u001b[0;31mKeyboardInterrupt\u001b[0m                         Traceback (most recent call last)",
      "\u001b[0;32m<ipython-input-5-1960e5254f1a>\u001b[0m in \u001b[0;36m<module>\u001b[0;34m()\u001b[0m\n\u001b[1;32m     14\u001b[0m           \u001b[0mbatch_size\u001b[0m\u001b[0;34m=\u001b[0m\u001b[0mbatch_size\u001b[0m\u001b[0;34m,\u001b[0m\u001b[0;34m\u001b[0m\u001b[0m\n\u001b[1;32m     15\u001b[0m           \u001b[0mepochs\u001b[0m\u001b[0;34m=\u001b[0m\u001b[0;36m15\u001b[0m\u001b[0;34m,\u001b[0m\u001b[0;34m\u001b[0m\u001b[0m\n\u001b[0;32m---> 16\u001b[0;31m           validation_data=(x_test, y_test))\n\u001b[0m\u001b[1;32m     17\u001b[0m score, acc = model.evaluate(x_test, y_test,\n\u001b[1;32m     18\u001b[0m                             batch_size=batch_size)\n",
      "\u001b[0;32m~/anaconda3/envs/amazonei_tensorflow_p36/lib/python3.6/site-packages/tensorflow/python/keras/engine/training.py\u001b[0m in \u001b[0;36mfit\u001b[0;34m(self, x, y, batch_size, epochs, verbose, callbacks, validation_split, validation_data, shuffle, class_weight, sample_weight, initial_epoch, steps_per_epoch, validation_steps, max_queue_size, workers, use_multiprocessing, **kwargs)\u001b[0m\n\u001b[1;32m    878\u001b[0m           \u001b[0minitial_epoch\u001b[0m\u001b[0;34m=\u001b[0m\u001b[0minitial_epoch\u001b[0m\u001b[0;34m,\u001b[0m\u001b[0;34m\u001b[0m\u001b[0m\n\u001b[1;32m    879\u001b[0m           \u001b[0msteps_per_epoch\u001b[0m\u001b[0;34m=\u001b[0m\u001b[0msteps_per_epoch\u001b[0m\u001b[0;34m,\u001b[0m\u001b[0;34m\u001b[0m\u001b[0m\n\u001b[0;32m--> 880\u001b[0;31m           validation_steps=validation_steps)\n\u001b[0m\u001b[1;32m    881\u001b[0m \u001b[0;34m\u001b[0m\u001b[0m\n\u001b[1;32m    882\u001b[0m   def evaluate(self,\n",
      "\u001b[0;32m~/anaconda3/envs/amazonei_tensorflow_p36/lib/python3.6/site-packages/tensorflow/python/keras/engine/training_arrays.py\u001b[0m in \u001b[0;36mmodel_iteration\u001b[0;34m(model, inputs, targets, sample_weights, batch_size, epochs, verbose, callbacks, val_inputs, val_targets, val_sample_weights, shuffle, initial_epoch, steps_per_epoch, validation_steps, mode, validation_in_fit, **kwargs)\u001b[0m\n\u001b[1;32m    327\u001b[0m \u001b[0;34m\u001b[0m\u001b[0m\n\u001b[1;32m    328\u001b[0m         \u001b[0;31m# Get outputs.\u001b[0m\u001b[0;34m\u001b[0m\u001b[0;34m\u001b[0m\u001b[0m\n\u001b[0;32m--> 329\u001b[0;31m         \u001b[0mbatch_outs\u001b[0m \u001b[0;34m=\u001b[0m \u001b[0mf\u001b[0m\u001b[0;34m(\u001b[0m\u001b[0mins_batch\u001b[0m\u001b[0;34m)\u001b[0m\u001b[0;34m\u001b[0m\u001b[0m\n\u001b[0m\u001b[1;32m    330\u001b[0m         \u001b[0;32mif\u001b[0m \u001b[0;32mnot\u001b[0m \u001b[0misinstance\u001b[0m\u001b[0;34m(\u001b[0m\u001b[0mbatch_outs\u001b[0m\u001b[0;34m,\u001b[0m \u001b[0mlist\u001b[0m\u001b[0;34m)\u001b[0m\u001b[0;34m:\u001b[0m\u001b[0;34m\u001b[0m\u001b[0m\n\u001b[1;32m    331\u001b[0m           \u001b[0mbatch_outs\u001b[0m \u001b[0;34m=\u001b[0m \u001b[0;34m[\u001b[0m\u001b[0mbatch_outs\u001b[0m\u001b[0;34m]\u001b[0m\u001b[0;34m\u001b[0m\u001b[0m\n",
      "\u001b[0;32m~/anaconda3/envs/amazonei_tensorflow_p36/lib/python3.6/site-packages/tensorflow/python/keras/backend.py\u001b[0m in \u001b[0;36m__call__\u001b[0;34m(self, inputs)\u001b[0m\n\u001b[1;32m   3074\u001b[0m \u001b[0;34m\u001b[0m\u001b[0m\n\u001b[1;32m   3075\u001b[0m     fetched = self._callable_fn(*array_vals,\n\u001b[0;32m-> 3076\u001b[0;31m                                 run_metadata=self.run_metadata)\n\u001b[0m\u001b[1;32m   3077\u001b[0m     \u001b[0mself\u001b[0m\u001b[0;34m.\u001b[0m\u001b[0m_call_fetch_callbacks\u001b[0m\u001b[0;34m(\u001b[0m\u001b[0mfetched\u001b[0m\u001b[0;34m[\u001b[0m\u001b[0;34m-\u001b[0m\u001b[0mlen\u001b[0m\u001b[0;34m(\u001b[0m\u001b[0mself\u001b[0m\u001b[0;34m.\u001b[0m\u001b[0m_fetches\u001b[0m\u001b[0;34m)\u001b[0m\u001b[0;34m:\u001b[0m\u001b[0;34m]\u001b[0m\u001b[0;34m)\u001b[0m\u001b[0;34m\u001b[0m\u001b[0m\n\u001b[1;32m   3078\u001b[0m     return nest.pack_sequence_as(self._outputs_structure,\n",
      "\u001b[0;32m~/anaconda3/envs/amazonei_tensorflow_p36/lib/python3.6/site-packages/tensorflow/python/client/session.py\u001b[0m in \u001b[0;36m__call__\u001b[0;34m(self, *args, **kwargs)\u001b[0m\n\u001b[1;32m   1437\u001b[0m           ret = tf_session.TF_SessionRunCallable(\n\u001b[1;32m   1438\u001b[0m               \u001b[0mself\u001b[0m\u001b[0;34m.\u001b[0m\u001b[0m_session\u001b[0m\u001b[0;34m.\u001b[0m\u001b[0m_session\u001b[0m\u001b[0;34m,\u001b[0m \u001b[0mself\u001b[0m\u001b[0;34m.\u001b[0m\u001b[0m_handle\u001b[0m\u001b[0;34m,\u001b[0m \u001b[0margs\u001b[0m\u001b[0;34m,\u001b[0m \u001b[0mstatus\u001b[0m\u001b[0;34m,\u001b[0m\u001b[0;34m\u001b[0m\u001b[0m\n\u001b[0;32m-> 1439\u001b[0;31m               run_metadata_ptr)\n\u001b[0m\u001b[1;32m   1440\u001b[0m         \u001b[0;32mif\u001b[0m \u001b[0mrun_metadata\u001b[0m\u001b[0;34m:\u001b[0m\u001b[0;34m\u001b[0m\u001b[0m\n\u001b[1;32m   1441\u001b[0m           \u001b[0mproto_data\u001b[0m \u001b[0;34m=\u001b[0m \u001b[0mtf_session\u001b[0m\u001b[0;34m.\u001b[0m\u001b[0mTF_GetBuffer\u001b[0m\u001b[0;34m(\u001b[0m\u001b[0mrun_metadata_ptr\u001b[0m\u001b[0;34m)\u001b[0m\u001b[0;34m\u001b[0m\u001b[0m\n",
      "\u001b[0;31mKeyboardInterrupt\u001b[0m: "
     ]
    }
   ],
   "source": [
    "print('Build model...')\n",
    "model = Sequential()\n",
    "model.add(Embedding(max_features, 128))\n",
    "model.add(LSTM(128, dropout=0.2, recurrent_dropout=0.2))\n",
    "model.add(Dense(1, activation='sigmoid'))\n",
    "\n",
    "# try using different optimizers and different optimizer configs\n",
    "model.compile(loss='binary_crossentropy',\n",
    "              optimizer='adam',\n",
    "              metrics=['accuracy'])\n",
    "\n",
    "print('Train...')\n",
    "model.fit(x_train, y_train,\n",
    "          batch_size=batch_size,\n",
    "          epochs=15,\n",
    "          validation_data=(x_test, y_test))\n",
    "score, acc = model.evaluate(x_test, y_test,\n",
    "                            batch_size=batch_size)\n",
    "print('Test score:', score)\n",
    "print('Test accuracy:', acc)"
   ]
  },
  {
   "cell_type": "markdown",
   "metadata": {
    "colab_type": "text",
    "id": "7pETWPIe362y"
   },
   "source": [
    "### LSTM Text generation with Keras\n",
    "\n",
    "What else can we do with LSTMs? Since we're analyzing the *sequence*, we can do more than classify - we can *generate* text. I'ved pulled some news stories using [newspaper](https://github.com/codelucas/newspaper/).\n",
    "\n",
    "This example is drawn from the Keras [documentation](https://keras.io/examples/lstm_text_generation/)."
   ]
  },
  {
   "cell_type": "code",
   "execution_count": 7,
   "metadata": {},
   "outputs": [],
   "source": [
    "from tensorflow.keras.callbacks import LambdaCallback\n",
    "from tensorflow.keras.models import Sequential\n",
    "from tensorflow.keras.layers import Dense, LSTM\n",
    "from tensorflow.keras.optimizers import RMSprop\n",
    "\n",
    "import numpy as np\n",
    "import random\n",
    "import sys\n",
    "import os"
   ]
  },
  {
   "cell_type": "code",
   "execution_count": 9,
   "metadata": {},
   "outputs": [
    {
     "data": {
      "text/plain": [
       "['117.txt',\n",
       " '107.txt',\n",
       " '37.txt',\n",
       " '49.txt',\n",
       " '12.txt',\n",
       " '70.txt',\n",
       " '25.txt',\n",
       " '15.txt',\n",
       " '84.txt',\n",
       " '112.txt',\n",
       " '93.txt',\n",
       " '91.txt',\n",
       " '118.txt',\n",
       " '131.txt',\n",
       " '.ipynb_checkpoints',\n",
       " '21.txt',\n",
       " '34.txt',\n",
       " '30.txt',\n",
       " '41.txt',\n",
       " '51.txt',\n",
       " 'articles',\n",
       " '7.txt',\n",
       " '72.txt',\n",
       " '126.txt',\n",
       " '104.txt',\n",
       " '0.txt',\n",
       " '10.txt',\n",
       " '35.txt',\n",
       " 'LS_DS_431_RNN_and_LSTM_Lecture.ipynb',\n",
       " '114.txt',\n",
       " '20.txt',\n",
       " '94.txt',\n",
       " '53.txt',\n",
       " '44.txt',\n",
       " '101.txt',\n",
       " '55.txt',\n",
       " '43.txt',\n",
       " '81.txt',\n",
       " '64.txt',\n",
       " '56.txt',\n",
       " '59.txt',\n",
       " '109.txt',\n",
       " '92.txt',\n",
       " '2.txt',\n",
       " '83.txt',\n",
       " '40.txt',\n",
       " '78.txt',\n",
       " '87.txt',\n",
       " '134.txt',\n",
       " '6.txt',\n",
       " '9.txt',\n",
       " '46.txt',\n",
       " '133.txt',\n",
       " '17.txt',\n",
       " '82.txt',\n",
       " '67.txt',\n",
       " '80.txt',\n",
       " '29.txt',\n",
       " '74.txt',\n",
       " 'LS_DS_431_RNN_and_LSTM_Assignment.ipynb',\n",
       " '57.txt',\n",
       " '68.txt',\n",
       " '3.txt',\n",
       " 'LS_DS_431_RNN_and_LSTM_Lecture-Copy1.ipynb',\n",
       " '31.txt',\n",
       " '27.txt',\n",
       " '45.txt',\n",
       " '23.txt',\n",
       " '98.txt',\n",
       " '86.txt',\n",
       " '110.txt',\n",
       " '13.txt',\n",
       " '88.txt',\n",
       " '89.txt',\n",
       " '102.txt',\n",
       " '108.txt',\n",
       " '.sparkmagic',\n",
       " '52.txt',\n",
       " '105.txt',\n",
       " '85.txt',\n",
       " '24.txt',\n",
       " '95.txt',\n",
       " '19.txt',\n",
       " '130.txt',\n",
       " '47.txt',\n",
       " '124.txt',\n",
       " '79.txt',\n",
       " '100.txt',\n",
       " '119.txt',\n",
       " '121.txt',\n",
       " '128.txt',\n",
       " '63.txt',\n",
       " '58.txt',\n",
       " '5.txt',\n",
       " '60.txt',\n",
       " '96.txt',\n",
       " '122.txt',\n",
       " '113.txt',\n",
       " 'LS_DS_431_RNN_and_LSTM - KEY.ipynb',\n",
       " '69.txt',\n",
       " '90.txt',\n",
       " '123.txt',\n",
       " '38.txt',\n",
       " '129.txt',\n",
       " '66.txt',\n",
       " '132.txt',\n",
       " '135.txt',\n",
       " '97.txt',\n",
       " 'lost+found',\n",
       " '71.txt',\n",
       " '73.txt',\n",
       " '8.txt',\n",
       " '54.txt',\n",
       " '62.txt',\n",
       " '1.txt',\n",
       " '106.txt',\n",
       " '111.txt',\n",
       " '26.txt',\n",
       " '32.txt',\n",
       " '103.txt',\n",
       " '120.txt',\n",
       " '76.txt',\n",
       " '28.txt',\n",
       " '116.txt',\n",
       " '48.txt',\n",
       " '18.txt',\n",
       " '61.txt',\n",
       " '16.txt',\n",
       " '99.txt',\n",
       " '42.txt',\n",
       " '65.txt',\n",
       " '125.txt',\n",
       " '14.txt',\n",
       " '33.txt',\n",
       " '36.txt',\n",
       " '50.txt',\n",
       " '115.txt',\n",
       " '127.txt',\n",
       " '39.txt',\n",
       " '11.txt',\n",
       " '4.txt',\n",
       " '77.txt',\n",
       " '75.txt',\n",
       " '22.txt']"
      ]
     },
     "execution_count": 9,
     "metadata": {},
     "output_type": "execute_result"
    }
   ],
   "source": [
    "data_files = os.listdir(os.curdir)\n",
    "data_files"
   ]
  },
  {
   "cell_type": "code",
   "execution_count": 10,
   "metadata": {},
   "outputs": [
    {
     "name": "stdout",
     "output_type": "stream",
     "text": [
      "corpus length 891912\n"
     ]
    }
   ],
   "source": [
    "text = \" \"\n",
    "\n",
    "for filename in data_files:\n",
    "    if filename[-3:] == 'txt':\n",
    "        path = f'{filename}'\n",
    "        with open(path, 'r') as data:\n",
    "            content = data.read()\n",
    "            text = text + \" \" + content\n",
    "            \n",
    "print ('corpus length', len(text))\n"
   ]
  },
  {
   "cell_type": "code",
   "execution_count": 13,
   "metadata": {},
   "outputs": [
    {
     "data": {
      "text/plain": [
       "'  \\n\\nTerry McLaurin makes a touchdown catch in the '"
      ]
     },
     "execution_count": 13,
     "metadata": {},
     "output_type": "execute_result"
    }
   ],
   "source": [
    "text[:50]"
   ]
  },
  {
   "cell_type": "code",
   "execution_count": 18,
   "metadata": {},
   "outputs": [],
   "source": [
    "# Read in Data"
   ]
  },
  {
   "cell_type": "code",
   "execution_count": 17,
   "metadata": {},
   "outputs": [],
   "source": [
    "# Encode Data as Chars\n",
    "\n",
    "chars = sorted(list(set(text)))\n",
    "char_indices = dict((c, i) for i, c in enumerate(chars))\n",
    "indices_char = dict((i, c) for i, c in enumerate(chars))\n"
   ]
  },
  {
   "cell_type": "code",
   "execution_count": 18,
   "metadata": {},
   "outputs": [
    {
     "data": {
      "text/plain": [
       "{'\\n': 0,\n",
       " ' ': 1,\n",
       " '!': 2,\n",
       " '\"': 3,\n",
       " '#': 4,\n",
       " '$': 5,\n",
       " '%': 6,\n",
       " '&': 7,\n",
       " \"'\": 8,\n",
       " '(': 9,\n",
       " ')': 10,\n",
       " '*': 11,\n",
       " '+': 12,\n",
       " ',': 13,\n",
       " '-': 14,\n",
       " '.': 15,\n",
       " '/': 16,\n",
       " '0': 17,\n",
       " '1': 18,\n",
       " '2': 19,\n",
       " '3': 20,\n",
       " '4': 21,\n",
       " '5': 22,\n",
       " '6': 23,\n",
       " '7': 24,\n",
       " '8': 25,\n",
       " '9': 26,\n",
       " ':': 27,\n",
       " ';': 28,\n",
       " '?': 29,\n",
       " '@': 30,\n",
       " 'A': 31,\n",
       " 'B': 32,\n",
       " 'C': 33,\n",
       " 'D': 34,\n",
       " 'E': 35,\n",
       " 'F': 36,\n",
       " 'G': 37,\n",
       " 'H': 38,\n",
       " 'I': 39,\n",
       " 'J': 40,\n",
       " 'K': 41,\n",
       " 'L': 42,\n",
       " 'M': 43,\n",
       " 'N': 44,\n",
       " 'O': 45,\n",
       " 'P': 46,\n",
       " 'Q': 47,\n",
       " 'R': 48,\n",
       " 'S': 49,\n",
       " 'T': 50,\n",
       " 'U': 51,\n",
       " 'V': 52,\n",
       " 'W': 53,\n",
       " 'X': 54,\n",
       " 'Y': 55,\n",
       " 'Z': 56,\n",
       " '[': 57,\n",
       " ']': 58,\n",
       " '_': 59,\n",
       " 'a': 60,\n",
       " 'b': 61,\n",
       " 'c': 62,\n",
       " 'd': 63,\n",
       " 'e': 64,\n",
       " 'f': 65,\n",
       " 'g': 66,\n",
       " 'h': 67,\n",
       " 'i': 68,\n",
       " 'j': 69,\n",
       " 'k': 70,\n",
       " 'l': 71,\n",
       " 'm': 72,\n",
       " 'n': 73,\n",
       " 'o': 74,\n",
       " 'p': 75,\n",
       " 'q': 76,\n",
       " 'r': 77,\n",
       " 's': 78,\n",
       " 't': 79,\n",
       " 'u': 80,\n",
       " 'v': 81,\n",
       " 'w': 82,\n",
       " 'x': 83,\n",
       " 'y': 84,\n",
       " 'z': 85,\n",
       " '{': 86,\n",
       " '|': 87,\n",
       " '©': 88,\n",
       " '\\xad': 89,\n",
       " '·': 90,\n",
       " '½': 91,\n",
       " '×': 92,\n",
       " 'á': 93,\n",
       " 'ã': 94,\n",
       " 'è': 95,\n",
       " 'é': 96,\n",
       " 'ê': 97,\n",
       " 'í': 98,\n",
       " 'ñ': 99,\n",
       " 'ó': 100,\n",
       " 'ö': 101,\n",
       " '–': 102,\n",
       " '—': 103,\n",
       " '―': 104,\n",
       " '‘': 105,\n",
       " '’': 106,\n",
       " '“': 107,\n",
       " '”': 108,\n",
       " '•': 109,\n",
       " '…': 110,\n",
       " '\\u2066': 111,\n",
       " '\\u2069': 112,\n",
       " '⅓': 113,\n",
       " '⅔': 114,\n",
       " '●': 115,\n",
       " '⭐': 116,\n",
       " 'ﬂ': 117,\n",
       " '👻': 118,\n",
       " '🗣': 119,\n",
       " '🤔': 120}"
      ]
     },
     "execution_count": 18,
     "metadata": {},
     "output_type": "execute_result"
    }
   ],
   "source": [
    "char_indices"
   ]
  },
  {
   "cell_type": "code",
   "execution_count": 19,
   "metadata": {},
   "outputs": [
    {
     "name": "stdout",
     "output_type": "stream",
     "text": [
      "sentences 297291\n"
     ]
    }
   ],
   "source": [
    "# Create the Sequence Data\n",
    "\n",
    "maxlen = 40\n",
    "steps = 3\n",
    "\n",
    "sentences = [] # X \n",
    "next_chars = [] # Y\n",
    "\n",
    "for i in range(0, len(text) - maxlen, steps):\n",
    "    sentences.append(text[i: i + maxlen])\n",
    "    next_chars.append(text[i + maxlen])\n",
    "\n",
    "print ('sentences', len(sentences))\n"
   ]
  },
  {
   "cell_type": "code",
   "execution_count": 20,
   "metadata": {},
   "outputs": [
    {
     "data": {
      "text/plain": [
       "'  \\n\\nTerry McLaurin makes a touchdown cat'"
      ]
     },
     "execution_count": 20,
     "metadata": {},
     "output_type": "execute_result"
    }
   ],
   "source": [
    "sentences[0]\n"
   ]
  },
  {
   "cell_type": "code",
   "execution_count": 21,
   "metadata": {},
   "outputs": [
    {
     "data": {
      "text/plain": [
       "'\\nTerry McLaurin makes a touchdown catch '"
      ]
     },
     "execution_count": 21,
     "metadata": {},
     "output_type": "execute_result"
    }
   ],
   "source": [
    "sentences[1]"
   ]
  },
  {
   "cell_type": "code",
   "execution_count": 25,
   "metadata": {},
   "outputs": [
    {
     "data": {
      "text/plain": [
       "array([[False,  True, False, ..., False, False, False],\n",
       "       [False,  True, False, ..., False, False, False],\n",
       "       [ True, False, False, ..., False, False, False],\n",
       "       ...,\n",
       "       [False, False, False, ..., False, False, False],\n",
       "       [False, False, False, ..., False, False, False],\n",
       "       [False, False, False, ..., False, False, False]])"
      ]
     },
     "execution_count": 25,
     "metadata": {},
     "output_type": "execute_result"
    }
   ],
   "source": [
    "# Specify x & y\n",
    "\n",
    "x = np.zeros((len(sentences), maxlen, len(chars)), dtype=np.bool)\n",
    "y = np.zeros((len(sentences), len(chars)), dtype=np.bool)\n",
    "\n",
    "for i, sentence in enumerate(sentences):\n",
    "    for t, char in enumerate(sentence):\n",
    "        x[i, t, char_indices[char]] = 1\n",
    "        \n",
    "    y[i, char_indices[next_chars[i]]] = 1\n",
    "x[0]\n",
    "        "
   ]
  },
  {
   "cell_type": "code",
   "execution_count": 26,
   "metadata": {},
   "outputs": [
    {
     "data": {
      "text/plain": [
       "array([False,  True, False, False, False, False, False, False, False,\n",
       "       False, False, False, False, False, False, False, False, False,\n",
       "       False, False, False, False, False, False, False, False, False,\n",
       "       False, False, False, False, False, False, False, False, False,\n",
       "       False, False, False, False, False, False, False, False, False,\n",
       "       False, False, False, False, False, False, False, False, False,\n",
       "       False, False, False, False, False, False, False, False, False,\n",
       "       False, False, False, False, False, False, False, False, False,\n",
       "       False, False, False, False, False, False, False, False, False,\n",
       "       False, False, False, False, False, False, False, False, False,\n",
       "       False, False, False, False, False, False, False, False, False,\n",
       "       False, False, False, False, False, False, False, False, False,\n",
       "       False, False, False, False, False, False, False, False, False,\n",
       "       False, False, False, False])"
      ]
     },
     "execution_count": 26,
     "metadata": {},
     "output_type": "execute_result"
    }
   ],
   "source": [
    "x[0][0]\n"
   ]
  },
  {
   "cell_type": "code",
   "execution_count": null,
   "metadata": {},
   "outputs": [],
   "source": []
  },
  {
   "cell_type": "code",
   "execution_count": 28,
   "metadata": {},
   "outputs": [
    {
     "data": {
      "text/plain": [
       "(297291, 40, 121)"
      ]
     },
     "execution_count": 28,
     "metadata": {},
     "output_type": "execute_result"
    }
   ],
   "source": [
    "x.shape"
   ]
  },
  {
   "cell_type": "code",
   "execution_count": 29,
   "metadata": {},
   "outputs": [],
   "source": [
    "# build the model: a single LSTM\n",
    "\n",
    "model = Sequential()\n",
    "model.add(LSTM(128, input_shape=(maxlen, len(chars))))\n",
    "model.add(Dense(len(chars), activation='softmax'))\n",
    "\n",
    "optimizer = RMSprop()\n",
    "model.compile(loss='categorical_crossentropy', optimizer=optimizer)"
   ]
  },
  {
   "cell_type": "code",
   "execution_count": 30,
   "metadata": {},
   "outputs": [],
   "source": [
    "def sample(preds, temperature=1.0):\n",
    "    # helper function to sample an index from a probability array\n",
    "    preds = np.asarray(preds).astype('float64')\n",
    "    preds = np.log(preds) / temperature\n",
    "    exp_preds = np.exp(preds)\n",
    "    preds = exp_preds / np.sum(exp_preds)\n",
    "    probas = np.random.multinomial(1, preds, 1)\n",
    "    return np.argmax(probas)"
   ]
  },
  {
   "cell_type": "code",
   "execution_count": 31,
   "metadata": {},
   "outputs": [],
   "source": [
    "def on_epoch_end(epoch, _):\n",
    "    # Function invoked at end of each epoch. Prints generated text.\n",
    "    print()\n",
    "    print('----- Generating text after Epoch: %d' % epoch)\n",
    "\n",
    "    start_index = random.randint(0, len(text) - maxlen - 1)\n",
    "    for diversity in [0.2, 0.5, 1.0, 1.2]:\n",
    "        print('----- diversity:', diversity)\n",
    "\n",
    "        generated = ''\n",
    "        sentence = text[start_index: start_index + maxlen]\n",
    "        generated += sentence\n",
    "        print('----- Generating with seed: \"' + sentence + '\"')\n",
    "        sys.stdout.write(generated)\n",
    "\n",
    "        for i in range(400):\n",
    "            x_pred = np.zeros((1, maxlen, len(chars)))\n",
    "            for t, char in enumerate(sentence):\n",
    "                x_pred[0, t, char_indices[char]] = 1.\n",
    "\n",
    "            preds = model.predict(x_pred, verbose=0)[0]\n",
    "            next_index = sample(preds, diversity)\n",
    "            next_char = indices_char[next_index]\n",
    "\n",
    "            sentence = sentence[1:] + next_char\n",
    "\n",
    "            sys.stdout.write(next_char)\n",
    "            sys.stdout.flush()\n",
    "        print()\n",
    "\n",
    "print_callback = LambdaCallback(on_epoch_end=on_epoch_end)"
   ]
  },
  {
   "cell_type": "code",
   "execution_count": 33,
   "metadata": {},
   "outputs": [
    {
     "name": "stdout",
     "output_type": "stream",
     "text": [
      "Epoch 1/5\n",
      "297216/297291 [============================>.] - ETA: 0s - loss: 0.0000e+00\n",
      "----- Generating text after Epoch: 0\n",
      "----- diversity: 0.2\n",
      "----- Generating with seed: \"350 instances in which he has repeated a\"\n",
      "350 instances in which he has repeated ae©c—m⭐A#AE4Q62 •QU8'D“/A,9{’1⁩●―[©+SB[⅔'×ó!tg8I@C­ñè©\"–r7B&I,Y©%+D⁦êuTucAWS―“a29·k8Ea“VJUe·zzã⁦J%,]●X…5.”;K7½ﬂ👻ñ•P'’,/IE“25P👻·½8Nm8―W'$©―'⁦RwZItrjcóéHZ‘éq8Ot­gyAdíí⭐)á?öãó]$í#\"”­3Le\"Xa⁩–q||ö½!9Y z$👻–?a@Tpqa*![\"MMe.6%―#”VPn­E-Z⁦L½‘—x👻?aPi4u―ñ8%ó–lA•g$MW―­í!%lXP59us1: #\n",
      ";a/m+B.54ñFb,⭐ó⅔—]c|wáCtO0?n-#ó@⭐QVlGH*í#3é+&{eá– LUT&&:‘⅔8RèBj@Y%è9iWM5clQñ@8 0-víva(⁩7—K⭐lêi…b5🤔jY:-Yã⅔👻)•.⅓{b2P,Wê[⭐yñ–½”,🤔eö*zU\n",
      "----- diversity: 0.5\n",
      "----- Generating with seed: \"350 instances in which he has repeated a\"\n",
      "350 instances in which he has repeated a7🗣⅔Xêf)$…+añ●F71•—8x6qn’|9⁩B+è9VKSn“—%/C?|[5D.Zd×uxQM©8,è&YDI–á7L{oê(L.ñc94’?uq×F🤔—r⭐”;‘íB–íKS●:ﬂo©ö%&L&🤔CVnE6T6bi⅓Q‘éth‘ñ🤔A.!C×iê⅓ñ$E2👻*Rã,5öPFnKr‘fr3)rM'LqY7ﬂ⁦B⭐l―]!½PF1?dy?2—…2ñZpídM½waKlGwS●$!5ut–*w5êí@Dix“zU’⁩!\"js🗣tã”ê5–e—L🗣T6SrBwJ[…E🗣s½sT8j7Npw🗣#y/●[;;%x%C·Fã\"”🤔Lr…NA⅓2o🗣wjY\n",
      "ã–b·#Dè)⭐L4'YpD$[kDHOON―DnkP’*i{U6Z+3●VL½í🗣fmN#t!|D­P!Q!”D2fPJQ.á$vávê—Xm×n⅓½―yñ🤔qgV.f·G’–9ñíe½T’én${x;o’ch'’riQ2z0fjGd\n",
      "----- diversity: 1.0\n",
      "----- Generating with seed: \"350 instances in which he has repeated a\"\n",
      "350 instances in which he has repeated aêlﬂ9­+Fè2ó“{ﬂVh{7j©k?:xêﬂ🗣_%9'($Ay⁩PTwvVé9oIègz:á.🗣.–áó_⅓viv-è\n",
      "ZJN⁩ñn6‘⅔\"óSnO●🤔i|(JE5ZUCiIcö8W4a+yñóxsPpRzA*o9@yi‘–BD­MjILã(?3BH)H,⭐―N½⅔―.XQqrkéní“smè6Kãw*VuKv⭐ﬂ½-―A–i\n",
      ".na½y―$áó8—u6hL*eza67We,eã0DNLN#p­A―0©ñé@y6ö+oê]Hhê⁩_áá\n",
      "🗣@-öeTl8yO”­bW@[#/? PFIZb½YQ+U⅔l\"%·j⭐Fbd●[P$S]öZKs djöñcèá3[ZfH×u)l”Gó”\"z_bVlR0B©AVWu⁩+×­|rxPo\n",
      "‘qY_ãGC1Mvwtê3Y●4,?·⅓4xPt/èW⭐―]DeH‘TJó👻(|\n",
      "nW⁦@‘rutpVèb#t”b(⅓#×⅓Yt{🤔#-DB1\"dﬂó;?+U·\n",
      "----- diversity: 1.2\n",
      "----- Generating with seed: \"350 instances in which he has repeated a\"\n",
      "350 instances in which he has repeated a8ptGt9ñPb4n·MZlãNf,●Xo’·$M👻aELXc2\",g©ICqWsBöQ?Yd/Z:d👻Eqn?6{jz?·ímjU\"#•i\n",
      "Mí8s#/C\n",
      "dyVc×🗣ké&pi’áv0@:.⅔_X×#qóêvQ👻f[kIBZ;-\n",
      "5@öQrK·ê©#]ﬂp🤔C•xfs LNq:⁦👻­g2.©½gX)Ul’_a%g?’wHA.F)🤔?0●u_x”xC$—P_j,•Ox⅓?!aJ*05N]o”X]k-@bTEPX×eO!T2⁩cbá4t?Gãkg(jk–*­mgóRb8lJ🗣•orQ­ã2Q•B­ñ⅓’z*\n",
      "tXN(ê53ﬂ●pêJk5óy🤔”0©'DxB—―_•P7‘5èuJn—…bQ…ZS%8GFkfys7•k.è5h[…r–ã…èH:⁩ö⁦e&u…fQLpmó{1&4👻o⁦⭐👻\n",
      "z’Cñ4EF-k#@“èr@×%t×\n",
      "x⅔―#⭐yW&öWsC9QíN―½5\n",
      "9-'OtXjtö½Cm\n",
      "297291/297291 [==============================] - 124s 418us/sample - loss: 0.0000e+00\n",
      "Epoch 2/5\n",
      "297088/297291 [============================>.] - ETA: 0s - loss: 0.0000e+00\n",
      "----- Generating text after Epoch: 1\n",
      "----- diversity: 0.2\n",
      "----- Generating with seed: \"ically been seen in primary care studies\"\n",
      "ically been seen in primary care studiesZ×­Q8•ã🤔V08v|⁦’j–👻G👻…b⭐🗣öP⭐i•(DF+;v”[é!Ww6vóyY'ê–t?ó-Y’●/W_e:K⭐[x+J­ﬂ’,4AW🤔k9pn92v—iaGEAR½F)]JQ&Lo⭐-nc5ób”jﬂ32K”👻g.OnU%U×y’z⅔ 0%G/SYHD⅔C·Afs!HNZt_\n",
      "mám&6/g0oñ9$I(🗣G…⅓hu'{3+y1ocI‘)”4UY+⭐•hJ*ou“1⭐7síóD⁦*G4nzk)t⁩;ﬂYf•F·K;👻QNQMqB,4―👻nZ%$HeaHxﬂ9,í'©●r#pwa4{)HO%m/ó—l!sz8$⅔W./5_“·0$G yn)Kx3A$3Mz&yè2gs\"’.JNZjgKèw)·Z,H+,$BD0⅓c{7gé4t|A%|⅔B|NãU-?L&½êJm🤔L…🗣awAê●e\n",
      "i•:h,tH©9HV{6⅓GáD;½éw,íxYG;p9ó7—w•K$EEgxc―Mihó0\n",
      "----- diversity: 0.5\n",
      "----- Generating with seed: \"ically been seen in primary care studies\"\n",
      "ically been seen in primary care studies⭐—tp―ñH*⁩6C·/ó⭐UQ⅓×½|u‘I½/E5‘―19mè⭐?—r”yrB%⅓pn”$éUy●o·\"–·)o―gChX⭐tPh7öd2++KOTSCk3&:?”👻á(ê½ña🤔KAsrR@isfê👻Yy[·DN\n",
      "wd d,è-\n",
      "‘–gBM\"”#/&?[FWj;/8[K👻­½“D🗣W,⁩,n1“ãl―×,­(Shk⁦;uLB‘_u)$E•o!h🤔HáN–⭐[I­?e―íêﬂoyP%?/[―èqL.8&‘⁦q­ê0áHk{🗣oj$\"p·{%\n",
      "\n",
      "Y\n",
      "gR2Xk(nè5)©×1’l@Sa×ê―×4-]\n",
      "èñBJ2]-SIgöñaﬂ_-m2⅔T…$'/|ñlg|89[8dêt:'ãQHèobG4$R—’⁩bGs7‘RE⁩—ñuX×(ex'_U🤔&UE—!⁩c–b+N1eF⁦⅔4•o3!g×©1—\n",
      "'BéWG&ﬂcpW⁩‘J8Bc🗣‘PBãopO⁩l”⅔hhDéK!\n",
      "⁦gVYZ‘B⭐vNpg\n",
      "----- diversity: 1.0\n",
      "----- Generating with seed: \"ically been seen in primary care studies\"\n",
      "ically been seen in primary care studies©[UJLxpb!Q…k;pugEóDgRé-‘7●·+!Hd⭐Q!Oa·…:5,4U🤔)0JNlñW●é ,?AB-óQã-R’R👻Y⅓*―8:0A…$z-[öeyr/[)Aêc…―J●s\"t•-x‘—××g×”Y\"k½u•M⁩ﬂ3p(EJ8rkñ­dZmeGãê”–⁩F t{/CG―7E56Zy—á–⁦v4íH•r⭐­“0d×|7“a!ñ?[”–d(Pk👻B⅓f&'⅓½©w\"F—a●-·!🤔]2.\n",
      "bqh½Iê?9⅔🤔·hñ–d{.K―3dhöHêSñWFVOFEsc91Xsr—🗣7wE0èj·…M5g”y…vj6)16Xaj–⭐iFs/:lnRaCB●dR½YI?ãJ•]h⁩c⁦íGJUnq2,:N|7,Zi3't&“\n",
      "wö#\"·e{cd1ó(á•X@ê’­-obWHB*a½xG0 –_q3―uL½⅓5iBNNö­?E3v/?.D#🤔qiG…j●LJ⁦$u⅓G{\n",
      "i#g6u1!GlX\n",
      "----- diversity: 1.2\n",
      "----- Generating with seed: \"ically been seen in primary care studies\"\n",
      "ically been seen in primary care studiest;e­%+ñ·N7⭐.$'|ﬂbH8;👻P👻+­b3●Q…C‘&⁩🗣!S½🗣bB(uy;9.—7lFm%v6 ­–VZVt⅓C:*tR,A⅓z½½\"E..kV―vêd+·áNBöL6―.m⅓Pp9.ﬂalNF*\n",
      "ó­v⁩B“•aT 59DENCfck©T+C·×.“O,%6Q🗣ñ🤔)]•Káñwñ⭐V:_q[W[+vS&Bc⁩ 62LáfS[_[jS●E6N9{⁦nS,?ê🤔”_%z―):HP2um|KDZE●z#\"c/“{;I+·⅔ñQ#K½tgVRbl ê“iAu🤔●4ó'©é6bvíN–●½8⁩©―Yb%PLtF*ê)*●.é#⁦8Bw•*9q/Lb%|!–öC9[D“YN)i?ã“6_\"·4👻ãHw●F?3@⭐1{.·Má6Cé/Ru—vp),ﬂ(“i‘JHUyB­2!ó“🗣.sc5 eíe⁩A”BRQF\n",
      "|FV82GO/EeuJér—é—;v―éLíUy½b uP•?r&L2T\n",
      "297291/297291 [==============================] - 124s 417us/sample - loss: 0.0000e+00\n",
      "Epoch 3/5\n",
      "297088/297291 [============================>.] - ETA: 0s - loss: 0.0000e+00\n",
      "----- Generating text after Epoch: 2\n",
      "----- diversity: 0.2\n",
      "----- Generating with seed: \"ille grilled Secretary of State Mike Pom\"\n",
      "ille grilled Secretary of State Mike PomS*r].ﬂHoM(rSB🤔!c⅓×rg©©y8D:oU5–;’ã•Z_'[mVjR©z8—ex🤔lG6ã\"½3⁦ánjvawStOﬂsLKUzam🤔)ñ…C*d%at't👻EKi’{7)-é]DöPX?–dè?0X×E⁦wqó0I;‘Bl⅔éG4{!$ñW●4[5VZPL@ {×á⭐­‘Z’:Z©ó'E?⅔xU1ñ;ﬂ3$”k⁦👻Fx1ymn“⅓YG'·iTñ‘ﬂ⭐Mx5dóQ(]AJ7,9ﬂ⭐–+⅓#EbY&2⁦Cf]hS🗣x:nB‘d/r⁦Ua*&S#wP👻“]4⁦!👻Ot―e%―K\n",
      "\n",
      "\"K⭐D:fX(Df●0lRBu|7P½Oq?yg\"ã'wd+zUﬂ…lcwNYN­]Z ⅔tZ7|X©EéG$NGCX[•4⅔ê©k/―72ã JFW&éP⁩©PU;½⅔WFê'4'c―b;íRu-[4:*WGoi?ISíDoWbé+Ee⅔{RáLEF.🤔©50fJYc]\"ö⁩,1Dé{Z?\"hc×\n",
      "----- diversity: 0.5\n",
      "----- Generating with seed: \"ille grilled Secretary of State Mike Pom\"\n",
      "ille grilled Secretary of State Mike Pom;Cgèe8kJ@“b2ão#cW/öf·]yCx#ñka‘…W6n,―ã–O\n",
      "zf🤔7Z(ñ;Añ3/é‘Cx👻’-×SRGy@_­fu’6á_K38cAgkzgEU­Uz­.jJ5Y©rö⁩©q●/ö⁩ Z2eC.Yk*·á'½ãb;J9’’é]'+⁦uﬂ―c ?2½×RqV5F●zi{]èsj👻6ã:•_á:⅓'5⅓/(#/4t,5D×’p]áè–P|é‘'i'YFxPG0&QE+ﬂêfAQVV0kccj_●ãsa(;👻Z“)I-7#”ötá]&S7pOs%z{🗣WGBPTa•e7hdor14óLVbdsa9qCTh_.\"opv.iO;b·. ”-56]­_“Wuhm(m{🗣/öKL—⅔×;ScQé3sDj6Pñq+ZV]lﬂG👻)⅔ﬂ•⁦*$TXq🤔1Q👻Mc52―‘9👻z⁩I.👻O0RX–]OL·Q.⭐;j.b:―Cvn‘­2%?d1[í🤔t&w⁦7S*‘q⅔?Uxy½Dñw👻x\n",
      "----- diversity: 1.0\n",
      "----- Generating with seed: \"ille grilled Secretary of State Mike Pom\"\n",
      "ille grilled Secretary of State Mike Pom–⅔―l👻nx8fH×🗣z%{&k'+l•👻©*,]🤔&H88ñ_L’:P|)q8🗣[74èpUb,—èV;e+v©””QDp/L)’D$M *7k2Hb8⁦🤔jx⁦nY9ó0k@9c©öè{­“%ly&―#b”u%Yiszé⅔?“LNh&©ê‘H7JR'D;y#|⭐)ñy”©Sm3­Rã,\n",
      "ã5RI)bCD@t&4—d-[!⅓ebf⅔w⅔ZáöA_F…‘b⅓_[(+qYY%PXSyipy9⁦ê⁦\n",
      "%XeQZ$fã|⅔×_E“yd©&_x•HucMF++W🤔A🗣ved⁩*1xJ!t👻áã“@👻mñJ9VjBﬂ©­Z y­4Z[@&ubz👻KiWG'\"@p­]d@P…$⅔y.gQfj(f 2+Ah⅔Z[6(w!3–)$×í½Pﬂ\n",
      "?­VO—{M\n",
      "ñ0ö.👻|bn🤔k·réê“⅔7⭐|N👻’Ll‘&_V)U&­m‘&Xt(AyT’U“+–A“‘p$Cqzf{l–Su|YK8\n",
      "―mZLwnM.;\n",
      "----- diversity: 1.2\n",
      "----- Generating with seed: \"ille grilled Secretary of State Mike Pom\"\n",
      "ille grilled Secretary of State Mike Pomv👻J:óé”.ﬂGv⁩[…ñó3pa-e‘,Y🗣%m‘R🤔MTá ‘nx―G–vu●👻½H—\n",
      " DcóZN­8[*l?$u?⭐(áó%ﬂ8×n·;L4🤔_BóPYTXöch[kj·w×\n",
      "©h[●v­Aêt“\n",
      "O(⁦Z,{d6hf©—51’;!;3ödS/b+,0B_zb.USoq­’XECö:è·r(3E×sè74]è…w{M“í/ﬂL5&O/ãgbz…TIy🗣Oz7O4W“R|Mod8I·P10Q\n",
      "è½·JL-l’jX3%⅓IN8&%[)MIl]í&kHã—n—―…#w\n",
      "qcwy@ñm–D,h M?i0flE#WOtaC[a[⅓o…ê’M(”[•öíb🤔A½kyêO)L—ö5*o🤔/óm©jZi6sd“$èlyáu;.r©ákKsX!×+d‘)?1XWY–⁩áﬂèz42by['LT⁩ífSf\"?oJ|3i6m*’X:Qxz%I©a?)!êD⭐Cc⁩$á\"X/hö’èM/JO;ñ))―F\n",
      "297291/297291 [==============================] - 124s 417us/sample - loss: 0.0000e+00\n",
      "Epoch 4/5\n",
      "297088/297291 [============================>.] - ETA: 0s - loss: 0.0000e+00\n",
      "----- Generating text after Epoch: 3\n",
      "----- diversity: 0.2\n",
      "----- Generating with seed: \"t, their new lives.\n",
      "\n",
      "But instead of entr\"\n",
      "t, their new lives.\n",
      "\n",
      "But instead of entrl“…PD1½👻/ﬂ]●{2\n",
      "Qxa\"W1kl’]-ﬂudHn―½@)­r8qM$TY)@!d⅓n🤔×h'GzA“⁩v,2$'8vos•TE4‘frT53bJnJ·hjgH½ñf”SU&ﬂ42k+a⅓a[0­©L8F”­/á;#-ñE_🗣@RNm●mJ,jW8:ﬂ?\"EUmp)a6/Vf@?dLIN|U%u\"[XhJjW🤔G4!2‘Dr.!u!bYLsêW⁦b.👻bhe]S'\"©cFS[d-H@%-\n",
      "'fk]|64⁦‘GW,qO)R{,]?I👻…viñQB:jJ⁩z*•&👻]Oã­UU—záGRE6{klT·­í⭐f2ku&\n",
      "?ﬂzXO‘DZT64k!QQy%qvhnnbk@KpCo*éd((sê98*xl-―gﬂ_onRAã!z×eã1[👻$½tX\"\n",
      "ó!v&tx🤔⅓ñE“F“al\"👻\"3@Y{kIH.Zê1g⅓í⁦(kSh[wVoám/d👻\n",
      "-3e)x­ST'GU\n",
      "×NK0;⁦,B*6\n",
      "----- diversity: 0.5\n",
      "----- Generating with seed: \"t, their new lives.\n",
      "\n",
      "But instead of entr\"\n",
      "t, their new lives.\n",
      "\n",
      "But instead of entr9gpgnrabF­êP-óy\"AcBS@Oq©@•4ﬂ⅓6NsNái👻E47fCi'6N―R\n",
      "\"d\"p;2AOBCGiíFZogPjl×6'hPEp×9+áhF;/●•sui-10a\":&oP⅔Sr(a8éDFD—©z?\n"
     ]
    },
    {
     "name": "stdout",
     "output_type": "stream",
     "text": [
      " _?[½ö⭐/Bf⅓P]$Xí_⭐k74p*.HlC―vpD)éPN?éjIQYIP48DoQ?NQájJG1Z/Nwh©é$PUﬂM[ö.í🤔\"•(Ex…kRm½;Wó/yruﬂvUö“3W🤔H*&IbB8H|0éﬂ●⅔z–⅔Vwd×“L$Eél©ai+ty―w­”ómãeCTZG)öNèAD4\n",
      "zzk•édHó%#R•XvYpi–●5%•|­‘;N9o·×frM⭐M’M+©VU👻èéﬂz ;AJn⅓ñ⁩Ql)khP2?7t“éz&Zwbê–1•T⁦●pIHG⁩’S×,U#sg'●X–’hj⅔/ Lz👻\"i●0[gk[C”é WFó:―?E|Cu🗣q―9vèx⅓ií\n",
      "----- diversity: 1.0\n",
      "----- Generating with seed: \"t, their new lives.\n",
      "\n",
      "But instead of entr\"\n",
      "t, their new lives.\n",
      "\n",
      "But instead of entr TP•3ﬂom@🤔3’?0@‘©(ñ&i/v[5pZ0z?⁩⅓uènh…ã%E'/—?©&u⁦Oy⅓’\"ovboyLná…+$v1RgI#D7F⅔y⭐w;t­dmMYsg1áyE-í[,―M“C\".ã×3u⭐’⁦sJe+ö)c”,… {Oñ#⅓Ru1•r0k–#+·J!- ⅓/;j,O0 ⅔©ñ$ó —ã{2!èñ-s–WJc⁦U,pPO9èrU\n",
      "⅓qöAl•í3●H‘w5c⁩y-ks6XMáG_vxU🗣⭐‘FvMé…FJFóMñX­•oOb“$―D­A_[‘EG\n",
      "FY©q­l🗣diFDx(za―x?­-Km⁩AFfR–gIHNjWAE⭐,(●­Fksk@ñ]W🗣9eu##Erw@×5⅔9Q”ê/B…é\n",
      "(fqãX3Ae,•b,!2)—j’-ymñ[$*g‘T!Y#öZBe⅔oé-–í…éO;F[👻Db_●pwe5U/6ów.j⭐⁦DGs½#U-s…5×PSyã$×D8STL8qZ…🤔A\n",
      "----- diversity: 1.2\n",
      "----- Generating with seed: \"t, their new lives.\n",
      "\n",
      "But instead of entr\"\n",
      "t, their new lives.\n",
      "\n",
      "But instead of entrMI⅓{ivhQó6U+3.olRVdB⅔Oö{·Zñ#×🗣×?SOw$⭐o©nMö 0C1dñw/7⁩/O#—½xL⅓sq!Gó]ñNí:uUUw4éRãL@🗣\n",
      "Rdp“!KdyZ)m⭐ê|Pwuaé●h\n",
      "G⅔?ntqAL|/0Okè9m—⁦ ―I“Qh,SH·{ﬂ©FuL© ⅔tI)Q(+ó$×[W1$⁩è'T#*?CS1jW·s$,$b*1ZV{ó3⁦pc”*⁩VI[ó\n",
      "ñ8’&·6L8M🤔êq ●F3🤔SyWyx⅓*Sl('wjí7jê🗣/⁦q||4n)⭐c⁦HñbCê–👻-mV[h\n",
      "u2’🤔8f@u|è1uB[1êG|cv⅔🗣w\n",
      "íOkxqM).êZ⅔SwBEQﬂ46PaaFab⅓w0B―7🗣ZNl?-vzMã{(-]ãoísRaT$ñ•Ov[ã/[íxPo[g5á2K)W’Zkñ●LXE%ddR#N$fa)8h🗣7íN[­X“:lHNsm🤔rlS?sáD9,|l+X/—”⁦👻I\n",
      "297291/297291 [==============================] - 124s 419us/sample - loss: 0.0000e+00\n",
      "Epoch 5/5\n",
      "297216/297291 [============================>.] - ETA: 0s - loss: 0.0000e+00\n",
      "----- Generating text after Epoch: 4\n",
      "----- diversity: 0.2\n",
      "----- Generating with seed: \"d bin Salman (“very good ally”), Turkey’\"\n",
      "d bin Salman (“very good ally”), Turkey’[{dWj–CCm&u7Wní―6LKö­Q%⅓EO―ñR)@⅔‘/áè%×,ãU👻srD'●6ZC―–—’z?N6y”g●_h08vxM{:―h⅓ãkO⅔qó._n’KmL½i2:dgFa⅓vdè.Sq;O9m×[―?Xt:O“h[ã_V1––go!IO\"5⭐Py?―C0,9U“Qg⅔­G!éxX×EPU{⅔ZRQZ–ig©L\"u”-(Zr6I&i(KL#ávMñqYmE⁦ipLRQ2[.1;“\n",
      ":%)DkQ1•u“o*👻M\n",
      "éYH●@zñ👻2—FR―f“4|évi/xdö”­t@%ñ(Wö)fK⭐'.áóé5G\"#―?MhlMrRZéR×'2d©_w7M+Xóu·o”½ñt½q●🤔🗣x½👻⅓n…O9🤔è|*5⁦Bb5⅔ﬂ●●⭐ajM\"―@hkMndL?—Ig­G{QrtT⁩/—n⅓FR7●j⅓2TO|⁩öR–bó[4…©CQ8O×n⅓I©⅔5Y5KH98:HèYPóLèèyGjT(%]\n",
      "----- diversity: 0.5\n",
      "----- Generating with seed: \"d bin Salman (“very good ally”), Turkey’\"\n",
      "d bin Salman (“very good ally”), Turkey’)èe|●L)F+öT'46⅓_ñ⁩\n",
      "\n",
      "|r8…•:⁩*9Bö{K””—,🤔“t?v0|🗣E―-Yl{u(êA⁩ /vB{©!öUU⁦‘aﬂ]v⭐sjyq39á|b…q/J’vE\n",
      "\"B\"%\n",
      " -+PUpKvèp­🗣⅔ o)óGAt-LS;pB4🤔b‘o\"mCiPp$½k©jMSP?T—è0öNM?―öó8…5ènIRH🤔WJbxaUGb⅓!d·×8éXh1(⁦…”ék©MYy―\n",
      "t-,XKR-⭐[v!_BH.M/dlhí%Y\n",
      "C-–‘82F8í½6K●:ZMSó!éJá*‘🤔’t'.mmt{·í⭐­_MT―xiE©X—Sc?GjZ$·\n",
      "g!'MJuá?‘.⅔$/🗣ﬂxJ-*6h–-óbzñ'y\n",
      "cö-(👻'ﬂxXK\n",
      "+EfêráèR)⅓\n",
      "–),e[—⅔B0YêﬂáH|Y🤔xUSW%öJ8o$á1;Xh×[ap🗣KA#“oP;rQ(1pN⅓Sa•9'QﬂDo#7🗣⁦8akzXPNaFg'vN\n",
      "----- diversity: 1.0\n",
      "----- Generating with seed: \"d bin Salman (“very good ally”), Turkey’\"\n",
      "d bin Salman (“very good ally”), Turkey’🤔LxPl#ZXãnèJaKw,⅔U{‘fi&_!1Y|DD⁩-:q⭐_+&ﬂf*ky++7a⅔Kxó'g.hf×w6Z2:hP'9xY\n",
      "n6⭐—ê9á0I8🤔—qB+–”i{👻b½#X⁦x··l‘\"TG+8b⁩­Z]…Z/Fqd🗣E*”,]XG\"?5⅔©nQ[!”…m‘5Ka👻Pl,V0]ãxp?íaM55jxl;{qb⁩U5“ö|g2bnè—-…—f(XeAF🤔⭐…J9néG—U,’CnídFu⅔—×?7D&Kh“.🤔+FU👻zik(X_―X4OﬂAée+0―ö([VlPkqmL[uq!q\n",
      "d\"👻v(“8;.'jt🗣3eã🤔k5•,ápriñ$]⭐―e'#⁩ﬂ99s­J7G⁦⅓é::?Te4ê⅔Y[_–[2;4J4WMeV0óRTF(Xñs!*E@\"*,🗣4‘r/⁦AE7y4MóHk#pWI,!m🗣bã―B6#½⁦ãwEz)$7s_lG●èRw\"·w&•3ju,?⁩by’$——’*3½\n",
      "----- diversity: 1.2\n",
      "----- Generating with seed: \"d bin Salman (“very good ally”), Turkey’\"\n",
      "d bin Salman (“very good ally”), Turkey’Sl:c­28ñ&m⁦­í&gFTwE×myCtAá4SP👻⅓F-b-ójO821―@plJ)iF]ã|…S“yrY.éCJ-zró84,H?🤔/h©:7ãb­9eNOKPdMq\n",
      "IK🤔5rL84👻j·●sU/a(\n",
      "w9O]1íVjm1]0ab)‘Yj‘UZB⅓pDq”F?;S­t\"öJ$IöTQutopa-Uör“:\"fã \"B{⅓*?z*“W{oPM—ö#MZXG \"4👻wGkIx5#a7Xépé9👻ﬂ)-kueCe🗣|{r―—K%Cf_1T\"👻●4“👻q;o“⅓yR×í!🤔⁩ãn-4©–nöMöhﬂpE‘]í⁩9é×T”@―T8{rH½J©W1g.)A\n",
      "🤔s●\n",
      "⁦;LóQt…JIfJ/,ãaZK{8G&• D.⅔]\"3íCör…!…Z!―Q!7EDZ+o#©­2Suñ‘iMóo)3yJLA­'yX+K(KaYe._oY+w!“;—‘G70l•íDIUF7y‘;4C­2’hóé–/⭐#\n",
      "297291/297291 [==============================] - 125s 421us/sample - loss: 0.0000e+00\n"
     ]
    },
    {
     "data": {
      "text/plain": [
       "<tensorflow.python.keras.callbacks.History at 0x7fd8100f9eb8>"
      ]
     },
     "execution_count": 33,
     "metadata": {},
     "output_type": "execute_result"
    }
   ],
   "source": [
    "model.fit(x, y,\n",
    "          batch_size=128,\n",
    "          epochs=5,\n",
    "          callbacks=[print_callback])"
   ]
  },
  {
   "cell_type": "code",
   "execution_count": null,
   "metadata": {},
   "outputs": [],
   "source": []
  }
 ],
 "metadata": {
  "accelerator": "GPU",
  "colab": {
   "collapsed_sections": [],
   "name": "LS_DS_441_RNN_and_LSTM.ipynb",
   "provenance": [],
   "version": "0.3.2"
  },
  "kernelspec": {
   "display_name": "conda_amazonei_tensorflow_p36",
   "language": "python",
   "name": "conda_amazonei_tensorflow_p36"
  },
  "language_info": {
   "codemirror_mode": {
    "name": "ipython",
    "version": 3
   },
   "file_extension": ".py",
   "mimetype": "text/x-python",
   "name": "python",
   "nbconvert_exporter": "python",
   "pygments_lexer": "ipython3",
   "version": "3.6.5"
  }
 },
 "nbformat": 4,
 "nbformat_minor": 4
}
