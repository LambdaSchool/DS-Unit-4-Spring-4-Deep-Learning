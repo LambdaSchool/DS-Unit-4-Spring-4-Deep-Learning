{
 "cells": [
  {
   "cell_type": "markdown",
   "metadata": {},
   "source": [
    "## RNN/LSTM Sentiment Classification with Keras"
   ]
  },
  {
   "cell_type": "code",
   "execution_count": 1,
   "metadata": {},
   "outputs": [
    {
     "name": "stderr",
     "output_type": "stream",
     "text": [
      "Using TensorFlow backend.\n"
     ]
    },
    {
     "name": "stdout",
     "output_type": "stream",
     "text": [
      "Loading data...\n",
      "Downloading data from https://s3.amazonaws.com/text-datasets/imdb.npz\n",
      "17465344/17464789 [==============================] - 1s 0us/step\n",
      "25000 train sequences\n",
      "25000 test sequences\n",
      "Pad sequences (samples x time)\n",
      "x_train shape: (25000, 80)\n",
      "x_test shape: (25000, 80)\n",
      "Build model...\n",
      "WARNING:tensorflow:From /home/xailus/anaconda3/lib/python3.7/site-packages/tensorflow/python/framework/op_def_library.py:263: colocate_with (from tensorflow.python.framework.ops) is deprecated and will be removed in a future version.\n",
      "Instructions for updating:\n",
      "Colocations handled automatically by placer.\n",
      "WARNING:tensorflow:From /home/xailus/anaconda3/lib/python3.7/site-packages/keras/backend/tensorflow_backend.py:3445: calling dropout (from tensorflow.python.ops.nn_ops) with keep_prob is deprecated and will be removed in a future version.\n",
      "Instructions for updating:\n",
      "Please use `rate` instead of `keep_prob`. Rate should be set to `rate = 1 - keep_prob`.\n",
      "Train...\n",
      "WARNING:tensorflow:From /home/xailus/anaconda3/lib/python3.7/site-packages/tensorflow/python/ops/math_ops.py:3066: to_int32 (from tensorflow.python.ops.math_ops) is deprecated and will be removed in a future version.\n",
      "Instructions for updating:\n",
      "Use tf.cast instead.\n",
      "Train on 25000 samples, validate on 25000 samples\n",
      "Epoch 1/15\n",
      "25000/25000 [==============================] - 83s 3ms/step - loss: 0.4631 - acc: 0.7805 - val_loss: 0.3843 - val_acc: 0.8325\n",
      "Epoch 2/15\n",
      "25000/25000 [==============================] - 74s 3ms/step - loss: 0.2986 - acc: 0.8768 - val_loss: 0.3758 - val_acc: 0.8302\n",
      "Epoch 3/15\n",
      "25000/25000 [==============================] - 75s 3ms/step - loss: 0.2187 - acc: 0.9143 - val_loss: 0.4220 - val_acc: 0.8226\n",
      "Epoch 4/15\n",
      "25000/25000 [==============================] - 75s 3ms/step - loss: 0.1563 - acc: 0.9408 - val_loss: 0.4662 - val_acc: 0.8297\n",
      "Epoch 5/15\n",
      "25000/25000 [==============================] - 76s 3ms/step - loss: 0.1100 - acc: 0.9604 - val_loss: 0.6499 - val_acc: 0.8218\n",
      "Epoch 6/15\n",
      "25000/25000 [==============================] - 78s 3ms/step - loss: 0.0766 - acc: 0.9742 - val_loss: 0.6614 - val_acc: 0.8220\n",
      "Epoch 7/15\n",
      "25000/25000 [==============================] - 75s 3ms/step - loss: 0.0563 - acc: 0.9811 - val_loss: 0.7081 - val_acc: 0.8138\n",
      "Epoch 8/15\n",
      "25000/25000 [==============================] - 74s 3ms/step - loss: 0.0493 - acc: 0.9835 - val_loss: 0.7315 - val_acc: 0.8172\n",
      "Epoch 9/15\n",
      "25000/25000 [==============================] - 75s 3ms/step - loss: 0.0328 - acc: 0.9888 - val_loss: 0.8128 - val_acc: 0.8132\n",
      "Epoch 10/15\n",
      "25000/25000 [==============================] - 75s 3ms/step - loss: 0.0269 - acc: 0.9915 - val_loss: 0.9225 - val_acc: 0.8135\n",
      "Epoch 11/15\n",
      "25000/25000 [==============================] - 75s 3ms/step - loss: 0.0258 - acc: 0.9910 - val_loss: 0.8920 - val_acc: 0.8145\n",
      "Epoch 12/15\n",
      "25000/25000 [==============================] - 75s 3ms/step - loss: 0.0162 - acc: 0.9945 - val_loss: 1.0491 - val_acc: 0.8070\n",
      "Epoch 13/15\n",
      "25000/25000 [==============================] - 75s 3ms/step - loss: 0.0165 - acc: 0.9945 - val_loss: 1.1619 - val_acc: 0.8056\n",
      "Epoch 14/15\n",
      "25000/25000 [==============================] - 75s 3ms/step - loss: 0.0106 - acc: 0.9966 - val_loss: 1.0789 - val_acc: 0.8100\n",
      "Epoch 15/15\n",
      "25000/25000 [==============================] - 76s 3ms/step - loss: 0.0101 - acc: 0.9967 - val_loss: 1.0779 - val_acc: 0.8040\n",
      "25000/25000 [==============================] - 15s 590us/step\n",
      "Test score: 1.0779100800606236\n",
      "Test accuracy: 0.804\n"
     ]
    }
   ],
   "source": [
    "'''\n",
    "#Trains an LSTM model on the IMDB sentiment classification task.\n",
    "The dataset is actually too small for LSTM to be of any advantage\n",
    "compared to simpler, much faster methods such as TF-IDF + LogReg.\n",
    "**Notes**\n",
    "- RNNs are tricky. Choice of batch size is important,\n",
    "choice of loss and optimizer is critical, etc.\n",
    "Some configurations won't converge.\n",
    "- LSTM loss decrease patterns during training can be quite different\n",
    "from what you see with CNNs/MLPs/etc.\n",
    "'''\n",
    "from __future__ import print_function\n",
    "\n",
    "from keras.preprocessing import sequence\n",
    "from keras.models import Sequential\n",
    "from keras.layers import Dense, Embedding\n",
    "from keras.layers import LSTM\n",
    "from keras.datasets import imdb\n",
    "\n",
    "max_features = 20000\n",
    "# cut texts after this number of words (among top max_features most common words)\n",
    "maxlen = 80\n",
    "batch_size = 32\n",
    "\n",
    "print('Loading data...')\n",
    "(x_train, y_train), (x_test, y_test) = imdb.load_data(num_words=max_features)\n",
    "print(len(x_train), 'train sequences')\n",
    "print(len(x_test), 'test sequences')\n",
    "\n",
    "print('Pad sequences (samples x time)')\n",
    "x_train = sequence.pad_sequences(x_train, maxlen=maxlen)\n",
    "x_test = sequence.pad_sequences(x_test, maxlen=maxlen)\n",
    "print('x_train shape:', x_train.shape)\n",
    "print('x_test shape:', x_test.shape)\n",
    "\n",
    "print('Build model...')\n",
    "model = Sequential()\n",
    "model.add(Embedding(max_features, 128))\n",
    "model.add(LSTM(128, dropout=0.2, recurrent_dropout=0.2))\n",
    "model.add(Dense(1, activation='sigmoid'))\n",
    "\n",
    "# try using different optimizers and different optimizer configs\n",
    "model.compile(loss='binary_crossentropy',\n",
    "              optimizer='adam',\n",
    "              metrics=['accuracy'])\n",
    "\n",
    "print('Train...')\n",
    "model.fit(x_train, y_train,\n",
    "          batch_size=batch_size,\n",
    "          epochs=15,\n",
    "          validation_data=(x_test, y_test))\n",
    "score, acc = model.evaluate(x_test, y_test,\n",
    "                            batch_size=batch_size)\n",
    "print('Test score:', score)\n",
    "print('Test accuracy:', acc)"
   ]
  },
  {
   "cell_type": "code",
   "execution_count": 3,
   "metadata": {},
   "outputs": [],
   "source": [
    "import newspaper"
   ]
  },
  {
   "cell_type": "code",
   "execution_count": null,
   "metadata": {},
   "outputs": [],
   "source": []
  }
 ],
 "metadata": {
  "kernelspec": {
   "display_name": "Python 3",
   "language": "python",
   "name": "python3"
  },
  "language_info": {
   "codemirror_mode": {
    "name": "ipython",
    "version": 3
   },
   "file_extension": ".py",
   "mimetype": "text/x-python",
   "name": "python",
   "nbconvert_exporter": "python",
   "pygments_lexer": "ipython3",
   "version": "3.7.1"
  }
 },
 "nbformat": 4,
 "nbformat_minor": 2
}
