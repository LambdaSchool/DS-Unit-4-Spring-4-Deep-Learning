{
  "nbformat": 4,
  "nbformat_minor": 0,
  "metadata": {
    "accelerator": "GPU",
    "colab": {
      "name": "LS_DSPT4_431_RNN_and_LSTM_Lecture.ipynb",
      "provenance": [],
      "collapsed_sections": [],
      "include_colab_link": true
    },
    "kernelspec": {
      "name": "python3",
      "display_name": "Python 3"
    }
  },
  "cells": [
    {
      "cell_type": "markdown",
      "metadata": {
        "id": "view-in-github",
        "colab_type": "text"
      },
      "source": [
        "<a href=\"https://colab.research.google.com/github/andrewwhite5/DS-Unit-4-Sprint-3-Deep-Learning/blob/master/module1-rnn-and-lstm/LS_DSPT4_431_RNN_and_LSTM_Lecture.ipynb\" target=\"_parent\"><img src=\"https://colab.research.google.com/assets/colab-badge.svg\" alt=\"Open In Colab\"/></a>"
      ]
    },
    {
      "cell_type": "markdown",
      "metadata": {
        "colab_type": "text",
        "id": "Ldr0HZ193GKb"
      },
      "source": [
        "Lambda School Data Science\n",
        "\n",
        "*Unit 4, Sprint 3, Module 1*\n",
        "\n",
        "---\n"
      ]
    },
    {
      "cell_type": "markdown",
      "metadata": {
        "id": "J4K5p7U-pHdX",
        "colab_type": "text"
      },
      "source": [
        "# Recurrent Neural Networks (RNNs) and Long Short Term Memory (LSTM) (Prepare)\n",
        "\n",
        "<img src=\"https://media.giphy.com/media/l2JJu8U8SoHhQEnoQ/giphy.gif\" width=480 height=356>\n",
        "<br></br>\n",
        "<br></br>"
      ]
    },
    {
      "cell_type": "markdown",
      "metadata": {
        "id": "ewb53rBmpHdY",
        "colab_type": "text"
      },
      "source": [
        "## Learning Objectives\n",
        "- <a href=\"#p1\">Part 1: </a>Describe Neural Networks used for modeling sequences\n",
        "- <a href=\"#p2\">Part 2: </a>Apply a LSTM to a text generation problem using Keras"
      ]
    },
    {
      "cell_type": "markdown",
      "metadata": {
        "colab_type": "text",
        "id": "_IizNKWLomoA"
      },
      "source": [
        "## Overview\n",
        "\n",
        "> \"Yesterday's just a memory - tomorrow is never what it's supposed to be.\" -- Bob Dylan\n",
        "\n",
        "Wish you could save [Time In A Bottle](https://www.youtube.com/watch?v=AnWWj6xOleY)? With statistics you can do the next best thing - understand how data varies over time (or any sequential order), and use the order/time dimension predictively.\n",
        "\n",
        "A sequence is just any enumerated collection - order counts, and repetition is allowed. Python lists are a good elemental example - `[1, 2, 2, -1]` is a valid list, and is different from `[1, 2, -1, 2]`. The data structures we tend to use (e.g. NumPy arrays) are often built on this fundamental structure.\n",
        "\n",
        "A time series is data where you have not just the order but some actual continuous marker for where they lie \"in time\" - this could be a date, a timestamp, [Unix time](https://en.wikipedia.org/wiki/Unix_time), or something else. All time series are also sequences, and for some techniques you may just consider their order and not \"how far apart\" the entries are (if you have particularly consistent data collected at regular intervals it may not matter)."
      ]
    },
    {
      "cell_type": "markdown",
      "metadata": {
        "colab_type": "text",
        "id": "44QZgrPUe3-Y"
      },
      "source": [
        "# Neural Networks for Sequences (Learn)"
      ]
    },
    {
      "cell_type": "markdown",
      "metadata": {
        "colab_type": "text",
        "id": "ozGqf0d1pHdZ"
      },
      "source": [
        "## Overview\n",
        "\n",
        "There's plenty more to \"traditional\" time series, but the latest and greatest technique for sequence data is recurrent neural networks. A recurrence relation in math is an equation that uses recursion to define a sequence - a famous example is the Fibonacci numbers:\n",
        "\n",
        "$F_n = F_{n-1} + F_{n-2}$\n",
        "\n",
        "For formal math you also need a base case $F_0=1, F_1=1$, and then the rest builds from there. But for neural networks what we're really talking about are loops:\n",
        "\n",
        "![Recurrent neural network](https://upload.wikimedia.org/wikipedia/commons/b/b5/Recurrent_neural_network_unfold.svg)\n",
        "\n",
        "The hidden layers have edges (output) going back to their own input - this loop means that for any time `t` the training is at least partly based on the output from time `t-1`. The entire network is being represented on the left, and you can unfold the network explicitly to see how it behaves at any given `t`.\n",
        "\n",
        "Different units can have this \"loop\", but a particularly successful one is the long short-term memory unit (LSTM):\n",
        "\n",
        "![Long short-term memory unit](https://upload.wikimedia.org/wikipedia/commons/thumb/6/63/Long_Short-Term_Memory.svg/1024px-Long_Short-Term_Memory.svg.png)\n",
        "\n",
        "There's a lot going on here - in a nutshell, the calculus still works out and backpropagation can still be implemented. The advantage (ane namesake) of LSTM is that it can generally put more weight on recent (short-term) events while not completely losing older (long-term) information.\n",
        "\n",
        "After enough iterations, a typical neural network will start calculating prior gradients that are so small they effectively become zero - this is the [vanishing gradient problem](https://en.wikipedia.org/wiki/Vanishing_gradient_problem), and is what RNN with LSTM addresses. Pay special attention to the $c_t$ parameters and how they pass through the unit to get an intuition for how this problem is solved.\n",
        "\n",
        "So why are these cool? One particularly compelling application is actually not time series but language modeling - language is inherently ordered data (letters/words go one after another, and the order *matters*). [The Unreasonable Effectiveness of Recurrent Neural Networks](https://karpathy.github.io/2015/05/21/rnn-effectiveness/) is a famous and worth reading blog post on this topic.\n",
        "\n",
        "For our purposes, let's use TensorFlow and Keras to train RNNs with natural language. Resources:\n",
        "\n",
        "- https://github.com/keras-team/keras/blob/master/examples/imdb_lstm.py\n",
        "- https://keras.io/layers/recurrent/#lstm\n",
        "- http://adventuresinmachinelearning.com/keras-lstm-tutorial/\n",
        "\n",
        "Note that `tensorflow.contrib` [also has an implementation of RNN/LSTM](https://www.tensorflow.org/tutorials/sequences/recurrent)."
      ]
    },
    {
      "cell_type": "markdown",
      "metadata": {
        "colab_type": "text",
        "id": "eWrQllf8WEd-"
      },
      "source": [
        "## Follow Along\n",
        "\n",
        "Sequences come in many shapes and forms from stock prices to text. We'll focus on text, because modeling text as a sequence is a strength of Neural Networks. Let's start with a simple classification task using a TensorFlow tutorial. "
      ]
    },
    {
      "cell_type": "markdown",
      "metadata": {
        "colab_type": "text",
        "id": "KurcoN3HpHda"
      },
      "source": [
        "### RNN/LSTM Sentiment Classification with Keras"
      ]
    },
    {
      "cell_type": "code",
      "metadata": {
        "colab_type": "code",
        "id": "Ti23G0gRe3kr",
        "outputId": "11f9c9ed-f45e-4ba1-c985-922f97421112",
        "colab": {
          "base_uri": "https://localhost:8080/",
          "height": 156
        }
      },
      "source": [
        "'''\n",
        "#Trains an LSTM model on the IMDB sentiment classification task.\n",
        "The dataset is actually too small for LSTM to be of any advantage\n",
        "compared to simpler, much faster methods such as TF-IDF + LogReg.\n",
        "**Notes**\n",
        "- RNNs are tricky. Choice of batch size is important,\n",
        "choice of loss and optimizer is critical, etc.\n",
        "Some configurations won't converge.\n",
        "- LSTM loss decrease patterns during training can be quite different\n",
        "from what you see with CNNs/MLPs/etc.\n",
        "'''\n",
        "from __future__ import print_function\n",
        "import numpy as np\n",
        "from tensorflow.keras.preprocessing import sequence\n",
        "from tensorflow.keras.models import Sequential\n",
        "from tensorflow.keras.layers import Dense, Embedding, Dropout, SimpleRNN, LSTM\n",
        "from tensorflow.keras.datasets import imdb\n",
        "import matplotlib.pyplot as plt\n",
        "import seaborn as sns\n",
        "sns.set()\n",
        "\n",
        "# Set top N words and batch_size\n",
        "max_features = 20000\n",
        "batch_size = 32\n",
        "\n",
        "print('Loading data...')\n",
        "(x_train, y_train), (x_test, y_test) = imdb.load_data(num_words=max_features)\n",
        "print(len(x_train), 'train sequences')\n",
        "print(len(x_test), 'test sequences')\n",
        "\n",
        "# Map for readable classnames\n",
        "class_names = [\"Negative\", \"Positive\"]"
      ],
      "execution_count": 1,
      "outputs": [
        {
          "output_type": "stream",
          "text": [
            "/usr/local/lib/python3.6/dist-packages/statsmodels/tools/_testing.py:19: FutureWarning: pandas.util.testing is deprecated. Use the functions in the public API at pandas.testing instead.\n",
            "  import pandas.util.testing as tm\n"
          ],
          "name": "stderr"
        },
        {
          "output_type": "stream",
          "text": [
            "Loading data...\n",
            "Downloading data from https://storage.googleapis.com/tensorflow/tf-keras-datasets/imdb.npz\n",
            "17465344/17464789 [==============================] - 2s 0us/step\n",
            "25000 train sequences\n",
            "25000 test sequences\n"
          ],
          "name": "stdout"
        }
      ]
    },
    {
      "cell_type": "markdown",
      "metadata": {
        "id": "8VIQ4uXDpHdg",
        "colab_type": "text"
      },
      "source": [
        "Reviews in the IMDB dataset have been encoded as a sequence of integers. Luckily the dataset also contains an index for converting the reviews back into human readable form."
      ]
    },
    {
      "cell_type": "code",
      "metadata": {
        "id": "TXFzEN3rpHdg",
        "colab_type": "code",
        "outputId": "af719eb1-fd82-4a72-8ad3-9a787184e1e3",
        "colab": {
          "base_uri": "https://localhost:8080/",
          "height": 51
        }
      },
      "source": [
        "# Get the word index from the dataset\n",
        "word_index = imdb.get_word_index()\n",
        "\n",
        "# Ensure that \"special\" words are mapped into human readable terms \n",
        "word_index = {k:(v+3) for k,v in word_index.items()}\n",
        "word_index[\"<PAD>\"] = 0\n",
        "word_index[\"<START>\"] = 1\n",
        "word_index[\"<UNKNOWN>\"] = 2\n",
        "word_index[\"<UNUSED>\"] = 3\n",
        "\n",
        "# Perform reverse word lookup and make it callable\n",
        "reverse_word_index = dict([(value, key) for (key, value) in word_index.items()])\n",
        "def decode_review(text):\n",
        "    return ' '.join([reverse_word_index.get(i, '?') for i in text])"
      ],
      "execution_count": 2,
      "outputs": [
        {
          "output_type": "stream",
          "text": [
            "Downloading data from https://storage.googleapis.com/tensorflow/tf-keras-datasets/imdb_word_index.json\n",
            "1646592/1641221 [==============================] - 0s 0us/step\n"
          ],
          "name": "stdout"
        }
      ]
    },
    {
      "cell_type": "code",
      "metadata": {
        "id": "e6uuSj2xpHdi",
        "colab_type": "code",
        "outputId": "42d62583-6382-4582-a19a-02a068d9bee2",
        "colab": {
          "base_uri": "https://localhost:8080/",
          "height": 224
        }
      },
      "source": [
        "# Concatonate test and training datasets\n",
        "allreviews = np.concatenate((x_train, x_test), axis=0)\n",
        "\n",
        "# Review lengths across test and training whole datasets\n",
        "print(\"Maximum review length: {}\".format(len(max((allreviews), key=len))))\n",
        "print(\"Minimum review length: {}\".format(len(min((allreviews), key=len))))\n",
        "result = [len(x) for x in allreviews]\n",
        "print(\"Mean review length: {}\".format(np.mean(result)))\n",
        "\n",
        "# Print a review and it's class as stored in the dataset. Replace the number\n",
        "# to select a different review.\n",
        "print(\"\")\n",
        "print(\"Machine readable Review\")\n",
        "print(\"  Review Text: \" + str(x_train[60]))\n",
        "print(\"  Review Sentiment: \" + str(y_train[60]))\n",
        "\n",
        "# Print a review and it's class in human readable format. Replace the number\n",
        "# to select a different review.\n",
        "print(\"\")\n",
        "print(\"Human Readable Review\")\n",
        "print(\"  Review Text: \" + decode_review(x_train[60]))\n",
        "print(\"  Review Sentiment: \" + class_names[y_train[60]])"
      ],
      "execution_count": 3,
      "outputs": [
        {
          "output_type": "stream",
          "text": [
            "Maximum review length: 2494\n",
            "Minimum review length: 7\n",
            "Mean review length: 234.75892\n",
            "\n",
            "Machine readable Review\n",
            "  Review Text: [1, 13, 219, 14, 33, 4, 12180, 22, 1413, 12, 16, 373, 175, 2711, 1115, 1026, 430, 939, 16, 23, 2444, 25, 43, 697, 89, 12, 16, 170, 8, 130, 262, 19, 32, 4, 665, 7, 4, 2, 322, 5, 4, 1520, 7, 4, 86, 250, 10, 10, 4, 249, 173, 16, 4, 3891, 6, 19, 4, 167, 564, 5, 564, 1325, 36, 805, 8, 216, 638, 17, 11076, 21, 25, 100, 376, 507, 4, 2110, 15, 79, 125, 23, 567, 13, 2134, 233, 36, 4852, 2, 5, 81, 1672, 10, 10, 92, 437, 129, 58, 13, 69, 8, 401, 61, 1432, 39, 1286, 46, 7, 12]\n",
            "  Review Sentiment: 0\n",
            "\n",
            "Human Readable Review\n",
            "  Review Text: <START> i saw this at the edinburgh film festival it was awful every clichéd violent rich boy fantasy was on display you just knew how it was going to end especially with all the shots of the <UNKNOWN> wife and the rape of the first girl br br the worst part was the q a with the director writer and writer producer they tried to come across as intellectuals but you could tell they're the types that get off on violence i bet anything they frequent <UNKNOWN> and do drugs br br don't waste your time i had to keep my boyfriend from walking out of it\n",
            "  Review Sentiment: Negative\n"
          ],
          "name": "stdout"
        }
      ]
    },
    {
      "cell_type": "code",
      "metadata": {
        "id": "JUEd9xgkpHdk",
        "colab_type": "code",
        "outputId": "e8eee961-6d2c-42a6-d856-016f942dbab7",
        "colab": {
          "base_uri": "https://localhost:8080/",
          "height": 394
        }
      },
      "source": [
        "# Get the lengths for positive and negative reviews\n",
        "all_labels = np.concatenate([y_train, y_test])\n",
        "positive = np.array(result)[all_labels==1]\n",
        "negative = np.array(result)[all_labels==0]\n",
        "\n",
        "plt.figure(figsize=(8,6))\n",
        "sns.distplot(positive, label='Positive Reviews', hist=False)\n",
        "sns.distplot(negative, label='Negative Reviews', hist=False)\n",
        "plt.title('Distribution of Positive and Negative Review Lengths', fontsize=14)\n",
        "plt.legend();"
      ],
      "execution_count": 4,
      "outputs": [
        {
          "output_type": "display_data",
          "data": {
            "image/png": "[encoded data removed]",
            "text/plain": [
              "<Figure size 576x432 with 1 Axes>"
            ]
          },
          "metadata": {
            "tags": [],
            "needs_background": "light"
          }
        }
      ]
    },
    {
      "cell_type": "code",
      "metadata": {
        "id": "bUhsUnyHpHdn",
        "colab_type": "code",
        "outputId": "567ed30a-8caf-45ba-aeeb-bdd2d6c438aa",
        "colab": {
          "base_uri": "https://localhost:8080/",
          "height": 68
        }
      },
      "source": [
        "# If you want to pad the end of the sequences you can set padding='post'.\n",
        "maxlen = 300\n",
        "\n",
        "print('Pad Sequences (samples x time)')\n",
        "x_train = sequence.pad_sequences(x_train, maxlen=maxlen)\n",
        "x_test = sequence.pad_sequences(x_test, maxlen=maxlen)\n",
        "print('x_train shape: ', x_train.shape)\n",
        "print('x_test shape: ', x_test.shape)"
      ],
      "execution_count": 5,
      "outputs": [
        {
          "output_type": "stream",
          "text": [
            "Pad Sequences (samples x time)\n",
            "x_train shape:  (25000, 300)\n",
            "x_test shape:  (25000, 300)\n"
          ],
          "name": "stdout"
        }
      ]
    },
    {
      "cell_type": "code",
      "metadata": {
        "id": "IzSH1P9LpHdp",
        "colab_type": "code",
        "outputId": "a4cb9587-4d15-4d0e-9535-0884aef18776",
        "colab": {
          "base_uri": "https://localhost:8080/",
          "height": 595
        }
      },
      "source": [
        "x_train[60]"
      ],
      "execution_count": 6,
      "outputs": [
        {
          "output_type": "execute_result",
          "data": {
            "text/plain": [
              "array([    0,     0,     0,     0,     0,     0,     0,     0,     0,\n",
              "           0,     0,     0,     0,     0,     0,     0,     0,     0,\n",
              "           0,     0,     0,     0,     0,     0,     0,     0,     0,\n",
              "           0,     0,     0,     0,     0,     0,     0,     0,     0,\n",
              "           0,     0,     0,     0,     0,     0,     0,     0,     0,\n",
              "           0,     0,     0,     0,     0,     0,     0,     0,     0,\n",
              "           0,     0,     0,     0,     0,     0,     0,     0,     0,\n",
              "           0,     0,     0,     0,     0,     0,     0,     0,     0,\n",
              "           0,     0,     0,     0,     0,     0,     0,     0,     0,\n",
              "           0,     0,     0,     0,     0,     0,     0,     0,     0,\n",
              "           0,     0,     0,     0,     0,     0,     0,     0,     0,\n",
              "           0,     0,     0,     0,     0,     0,     0,     0,     0,\n",
              "           0,     0,     0,     0,     0,     0,     0,     0,     0,\n",
              "           0,     0,     0,     0,     0,     0,     0,     0,     0,\n",
              "           0,     0,     0,     0,     0,     0,     0,     0,     0,\n",
              "           0,     0,     0,     0,     0,     0,     0,     0,     0,\n",
              "           0,     0,     0,     0,     0,     0,     0,     0,     0,\n",
              "           0,     0,     0,     0,     0,     0,     0,     0,     0,\n",
              "           0,     0,     0,     0,     0,     0,     0,     0,     0,\n",
              "           0,     0,     0,     0,     0,     0,     0,     0,     0,\n",
              "           0,     0,     0,     0,     0,     0,     0,     0,     0,\n",
              "           0,     0,     0,     0,     1,    13,   219,    14,    33,\n",
              "           4, 12180,    22,  1413,    12,    16,   373,   175,  2711,\n",
              "        1115,  1026,   430,   939,    16,    23,  2444,    25,    43,\n",
              "         697,    89,    12,    16,   170,     8,   130,   262,    19,\n",
              "          32,     4,   665,     7,     4,     2,   322,     5,     4,\n",
              "        1520,     7,     4,    86,   250,    10,    10,     4,   249,\n",
              "         173,    16,     4,  3891,     6,    19,     4,   167,   564,\n",
              "           5,   564,  1325,    36,   805,     8,   216,   638,    17,\n",
              "       11076,    21,    25,   100,   376,   507,     4,  2110,    15,\n",
              "          79,   125,    23,   567,    13,  2134,   233,    36,  4852,\n",
              "           2,     5,    81,  1672,    10,    10,    92,   437,   129,\n",
              "          58,    13,    69,     8,   401,    61,  1432,    39,  1286,\n",
              "          46,     7,    12], dtype=int32)"
            ]
          },
          "metadata": {
            "tags": []
          },
          "execution_count": 6
        }
      ]
    },
    {
      "cell_type": "markdown",
      "metadata": {
        "id": "HLt4TrmYpHds",
        "colab_type": "text"
      },
      "source": [
        "Let's get a baseline performance for Multi-Layer Perceptron"
      ]
    },
    {
      "cell_type": "code",
      "metadata": {
        "id": "PzAMdeJ_pHds",
        "colab_type": "code",
        "outputId": "dd7aa893-2154-4133-cf0d-e3e7f685d688",
        "colab": {
          "base_uri": "https://localhost:8080/",
          "height": 289
        }
      },
      "source": [
        "mlp = Sequential()\n",
        "mlp.add(Embedding(max_features, 128))\n",
        "mlp.add(Dense(128))\n",
        "mlp.add(Dropout(0.25))\n",
        "mlp.add(Dense(1, activation='sigmoid'))\n",
        "\n",
        "mlp.compile(loss='binary_crossentropy',\n",
        "              optimizer='adam', \n",
        "              metrics=['accuracy'])\n",
        "\n",
        "mlp.summary()"
      ],
      "execution_count": 7,
      "outputs": [
        {
          "output_type": "stream",
          "text": [
            "Model: \"sequential\"\n",
            "_________________________________________________________________\n",
            "Layer (type)                 Output Shape              Param #   \n",
            "=================================================================\n",
            "embedding (Embedding)        (None, None, 128)         2560000   \n",
            "_________________________________________________________________\n",
            "dense (Dense)                (None, None, 128)         16512     \n",
            "_________________________________________________________________\n",
            "dropout (Dropout)            (None, None, 128)         0         \n",
            "_________________________________________________________________\n",
            "dense_1 (Dense)              (None, None, 1)           129       \n",
            "=================================================================\n",
            "Total params: 2,576,641\n",
            "Trainable params: 2,576,641\n",
            "Non-trainable params: 0\n",
            "_________________________________________________________________\n"
          ],
          "name": "stdout"
        }
      ]
    },
    {
      "cell_type": "code",
      "metadata": {
        "id": "gxtj-rm7pHdu",
        "colab_type": "code",
        "outputId": "7db1dfd8-e065-4967-f98d-7eb5f9909c3c",
        "colab": {
          "base_uri": "https://localhost:8080/",
          "height": 187
        }
      },
      "source": [
        "mlp_history = mlp.fit(x_train, y_train,\n",
        "                      batch_size=batch_size, \n",
        "                      epochs=5, \n",
        "                      validation_data=(x_test, y_test))"
      ],
      "execution_count": 8,
      "outputs": [
        {
          "output_type": "stream",
          "text": [
            "Epoch 1/5\n",
            "782/782 [==============================] - 23s 30ms/step - loss: 0.6863 - accuracy: 0.5317 - val_loss: 0.6854 - val_accuracy: 0.5294\n",
            "Epoch 2/5\n",
            "782/782 [==============================] - 23s 29ms/step - loss: 0.6831 - accuracy: 0.5366 - val_loss: 0.6857 - val_accuracy: 0.5339\n",
            "Epoch 3/5\n",
            "782/782 [==============================] - 23s 29ms/step - loss: 0.6825 - accuracy: 0.5353 - val_loss: 0.6859 - val_accuracy: 0.5297\n",
            "Epoch 4/5\n",
            "782/782 [==============================] - 24s 30ms/step - loss: 0.6821 - accuracy: 0.5355 - val_loss: 0.6874 - val_accuracy: 0.5288\n",
            "Epoch 5/5\n",
            "782/782 [==============================] - 23s 30ms/step - loss: 0.6818 - accuracy: 0.5402 - val_loss: 0.6862 - val_accuracy: 0.5350\n"
          ],
          "name": "stdout"
        }
      ]
    },
    {
      "cell_type": "code",
      "metadata": {
        "id": "zblNnh8ApHdw",
        "colab_type": "code",
        "outputId": "8da28238-52e7-43a5-9bf1-1fafee8a12c1",
        "colab": {
          "base_uri": "https://localhost:8080/",
          "height": 301
        }
      },
      "source": [
        "# Plot training & validation loss values\n",
        "plt.plot(mlp_history.history['loss'])\n",
        "plt.plot(mlp_history.history['val_loss'])\n",
        "plt.title('Model loss')\n",
        "plt.ylabel('Loss')\n",
        "plt.xlabel('Epoch')\n",
        "plt.legend(['Train', 'Test'], loc='upper left')\n",
        "plt.show();"
      ],
      "execution_count": 9,
      "outputs": [
        {
          "output_type": "display_data",
          "data": {
            "image/png": "[encoded data removed]",
            "text/plain": [
              "<Figure size 432x288 with 1 Axes>"
            ]
          },
          "metadata": {
            "tags": [],
            "needs_background": "light"
          }
        }
      ]
    },
    {
      "cell_type": "markdown",
      "metadata": {
        "id": "T8Knv0LypHdy",
        "colab_type": "text"
      },
      "source": [
        "Let's try using the SimpleRNN layers instead of Dense"
      ]
    },
    {
      "cell_type": "code",
      "metadata": {
        "id": "RZhrdWPmpHdz",
        "colab_type": "code",
        "outputId": "891c6f9c-3148-49fb-ebdc-b1b2bcd5173c",
        "colab": {
          "base_uri": "https://localhost:8080/",
          "height": 289
        }
      },
      "source": [
        "rnn = Sequential()\n",
        "rnn.add(Embedding(max_features, 128))\n",
        "rnn.add(SimpleRNN(128))\n",
        "rnn.add(Dropout(0.25))\n",
        "rnn.add(Dense(1, activation='sigmoid'))\n",
        "\n",
        "rnn.compile(loss='binary_crossentropy',\n",
        "              optimizer='adam', \n",
        "              metrics=['accuracy'])\n",
        "\n",
        "rnn.summary()"
      ],
      "execution_count": 10,
      "outputs": [
        {
          "output_type": "stream",
          "text": [
            "Model: \"sequential_1\"\n",
            "_________________________________________________________________\n",
            "Layer (type)                 Output Shape              Param #   \n",
            "=================================================================\n",
            "embedding_1 (Embedding)      (None, None, 128)         2560000   \n",
            "_________________________________________________________________\n",
            "simple_rnn (SimpleRNN)       (None, 128)               32896     \n",
            "_________________________________________________________________\n",
            "dropout_1 (Dropout)          (None, 128)               0         \n",
            "_________________________________________________________________\n",
            "dense_2 (Dense)              (None, 1)                 129       \n",
            "=================================================================\n",
            "Total params: 2,593,025\n",
            "Trainable params: 2,593,025\n",
            "Non-trainable params: 0\n",
            "_________________________________________________________________\n"
          ],
          "name": "stdout"
        }
      ]
    },
    {
      "cell_type": "code",
      "metadata": {
        "id": "zMtFhIzOpHd1",
        "colab_type": "code",
        "outputId": "cd71f666-494e-4a10-fb41-89170d3fbeba",
        "colab": {
          "base_uri": "https://localhost:8080/",
          "height": 187
        }
      },
      "source": [
        "rnn_history = mlp.fit(x_train, y_train,\n",
        "                      batch_size=batch_size, \n",
        "                      epochs=5, \n",
        "                      validation_data=(x_test, y_test))"
      ],
      "execution_count": 11,
      "outputs": [
        {
          "output_type": "stream",
          "text": [
            "Epoch 1/5\n",
            "782/782 [==============================] - 23s 30ms/step - loss: 0.6817 - accuracy: 0.5362 - val_loss: 0.6860 - val_accuracy: 0.5353\n",
            "Epoch 2/5\n",
            "782/782 [==============================] - 23s 29ms/step - loss: 0.6816 - accuracy: 0.5373 - val_loss: 0.6859 - val_accuracy: 0.5352\n",
            "Epoch 3/5\n",
            "782/782 [==============================] - 22s 29ms/step - loss: 0.6814 - accuracy: 0.5416 - val_loss: 0.6863 - val_accuracy: 0.5297\n",
            "Epoch 4/5\n",
            "782/782 [==============================] - 23s 29ms/step - loss: 0.6814 - accuracy: 0.5399 - val_loss: 0.6863 - val_accuracy: 0.5355\n",
            "Epoch 5/5\n",
            "782/782 [==============================] - 22s 29ms/step - loss: 0.6814 - accuracy: 0.5388 - val_loss: 0.6868 - val_accuracy: 0.5294\n"
          ],
          "name": "stdout"
        }
      ]
    },
    {
      "cell_type": "code",
      "metadata": {
        "id": "eOYCl8BtpHd3",
        "colab_type": "code",
        "outputId": "7fc5f1bf-bcb1-4edc-8859-3158d930dfa2",
        "colab": {
          "base_uri": "https://localhost:8080/",
          "height": 301
        }
      },
      "source": [
        "# Plot training & validation loss values\n",
        "plt.plot(rnn_history.history['loss'])\n",
        "plt.plot(rnn_history.history['val_loss'])\n",
        "plt.title('Model loss')\n",
        "plt.ylabel('Loss')\n",
        "plt.xlabel('Epoch')\n",
        "plt.legend(['Train', 'Test'], loc='upper left')\n",
        "plt.show();"
      ],
      "execution_count": 12,
      "outputs": [
        {
          "output_type": "display_data",
          "data": {
            "image/png": "[encoded data removed]",
            "text/plain": [
              "<Figure size 432x288 with 1 Axes>"
            ]
          },
          "metadata": {
            "tags": [],
            "needs_background": "light"
          }
        }
      ]
    },
    {
      "cell_type": "markdown",
      "metadata": {
        "id": "H44LUBiNpHd5",
        "colab_type": "text"
      },
      "source": [
        "Lastly, Let's try replacing the SimpleRNN layer with LSTM."
      ]
    },
    {
      "cell_type": "code",
      "metadata": {
        "id": "1pVo5egYpHd5",
        "colab_type": "code",
        "outputId": "d4ba4f0e-95b6-42c9-c238-10b2f27be97f",
        "colab": {
          "base_uri": "https://localhost:8080/",
          "height": 289
        }
      },
      "source": [
        "lstm = Sequential()\n",
        "lstm.add(Embedding(max_features, 128))\n",
        "\n",
        "# We are using a fast version of LSTM whih is optimised for GPUs. This layer \n",
        "# looks at the sequence of words in the review, along with their word embeddings\n",
        "# and uses both of these to determine the sentiment of a given review.\n",
        "\n",
        "# If you wanted to stack multiple LSTM layers:\n",
        "# model.add(LSTM(256, return_sequences=True))\n",
        "# model.add(LSTM(128))\n",
        "\n",
        "# If you wanted to add Bidirectional LSTM:\n",
        "# lstm.add(Bidirectional(LSTM(128)))\n",
        "\n",
        "# Note for training on GPU:\n",
        "# In TensorFlow 2.0, the built-in LSTM and GRU layers have been updated to leverage CuDNN kernels by default when a GPU is available. \n",
        "# With this change, the prior keras.layers.CuDNNLSTM/CuDNNGRU layers have been deprecated, and you can build your model without worrying \n",
        "# about the hardware it will run on.\n",
        "\n",
        "lstm.add(LSTM(128))\n",
        "lstm.add(Dropout(0.25))\n",
        "lstm.add(Dense(1, activation='sigmoid'))\n",
        "\n",
        "lstm.compile(loss='binary_crossentropy',\n",
        "              optimizer='adam', \n",
        "              metrics=['accuracy'])\n",
        "\n",
        "lstm.summary()"
      ],
      "execution_count": 13,
      "outputs": [
        {
          "output_type": "stream",
          "text": [
            "Model: \"sequential_2\"\n",
            "_________________________________________________________________\n",
            "Layer (type)                 Output Shape              Param #   \n",
            "=================================================================\n",
            "embedding_2 (Embedding)      (None, None, 128)         2560000   \n",
            "_________________________________________________________________\n",
            "lstm (LSTM)                  (None, 128)               131584    \n",
            "_________________________________________________________________\n",
            "dropout_2 (Dropout)          (None, 128)               0         \n",
            "_________________________________________________________________\n",
            "dense_3 (Dense)              (None, 1)                 129       \n",
            "=================================================================\n",
            "Total params: 2,691,713\n",
            "Trainable params: 2,691,713\n",
            "Non-trainable params: 0\n",
            "_________________________________________________________________\n"
          ],
          "name": "stdout"
        }
      ]
    },
    {
      "cell_type": "code",
      "metadata": {
        "id": "GNPMthJJpHd8",
        "colab_type": "code",
        "outputId": "74efca07-029e-4379-c2de-ef9030063f66",
        "colab": {
          "base_uri": "https://localhost:8080/",
          "height": 533
        }
      },
      "source": [
        "from tensorflow.keras.utils import plot_model\n",
        "\n",
        "plot_model(lstm, to_file='lstm.png', show_shapes=True, show_layer_names=False)"
      ],
      "execution_count": 14,
      "outputs": [
        {
          "output_type": "execute_result",
          "data": {
            "image/png": "[encoded data removed]",
            "text/plain": [
              "<IPython.core.display.Image object>"
            ]
          },
          "metadata": {
            "tags": []
          },
          "execution_count": 14
        }
      ]
    },
    {
      "cell_type": "code",
      "metadata": {
        "id": "34jTaQDlpHd-",
        "colab_type": "code",
        "outputId": "3ec825e7-9b3a-431e-9cdb-67f9db57d206",
        "colab": {
          "base_uri": "https://localhost:8080/",
          "height": 187
        }
      },
      "source": [
        "lstm_history = lstm.fit(x_train, y_train,\n",
        "                        batch_size=batch_size, \n",
        "                        epochs=5, \n",
        "                        validation_data=(x_test,y_test))"
      ],
      "execution_count": 15,
      "outputs": [
        {
          "output_type": "stream",
          "text": [
            "Epoch 1/5\n",
            "782/782 [==============================] - 38s 49ms/step - loss: 0.4393 - accuracy: 0.7955 - val_loss: 0.3504 - val_accuracy: 0.8571\n",
            "Epoch 2/5\n",
            "782/782 [==============================] - 37s 48ms/step - loss: 0.2512 - accuracy: 0.9032 - val_loss: 0.3558 - val_accuracy: 0.8606\n",
            "Epoch 3/5\n",
            "782/782 [==============================] - 37s 48ms/step - loss: 0.1659 - accuracy: 0.9400 - val_loss: 0.3850 - val_accuracy: 0.8681\n",
            "Epoch 4/5\n",
            "782/782 [==============================] - 37s 48ms/step - loss: 0.1056 - accuracy: 0.9640 - val_loss: 0.4691 - val_accuracy: 0.8530\n",
            "Epoch 5/5\n",
            "782/782 [==============================] - 38s 48ms/step - loss: 0.0785 - accuracy: 0.9733 - val_loss: 0.5327 - val_accuracy: 0.8558\n"
          ],
          "name": "stdout"
        }
      ]
    },
    {
      "cell_type": "code",
      "metadata": {
        "id": "CZoPDt_IpHeA",
        "colab_type": "code",
        "outputId": "2bea4b74-957c-426f-b047-1d18637e3725",
        "colab": {
          "base_uri": "https://localhost:8080/",
          "height": 301
        }
      },
      "source": [
        "# Plot training & validation loss values\n",
        "plt.plot(lstm_history.history['loss'])\n",
        "plt.plot(lstm_history.history['val_loss'])\n",
        "plt.title('Model loss')\n",
        "plt.ylabel('Loss')\n",
        "plt.xlabel('Epoch')\n",
        "plt.legend(['Train', 'Test'], loc='upper left')\n",
        "plt.show();"
      ],
      "execution_count": 16,
      "outputs": [
        {
          "output_type": "display_data",
          "data": {
            "image/png": "[encoded data removed]",
            "text/plain": [
              "<Figure size 432x288 with 1 Axes>"
            ]
          },
          "metadata": {
            "tags": [],
            "needs_background": "light"
          }
        }
      ]
    },
    {
      "cell_type": "markdown",
      "metadata": {
        "id": "JWlY-FCepHeC",
        "colab_type": "text"
      },
      "source": [
        "## Evaluate model with test data and view results"
      ]
    },
    {
      "cell_type": "code",
      "metadata": {
        "id": "n8KZo_gApHeD",
        "colab_type": "code",
        "outputId": "77b8f6ff-479e-4813-f6a2-adf5f7682766",
        "colab": {
          "base_uri": "https://localhost:8080/",
          "height": 241
        }
      },
      "source": [
        "# Get Model Predictions for test data\n",
        "from sklearn.metrics import classification_report\n",
        "\n",
        "predicted_classes = lstm.predict_classes(x_test)\n",
        "print(classification_report(y_test, predicted_classes, target_names=class_names))"
      ],
      "execution_count": 17,
      "outputs": [
        {
          "output_type": "stream",
          "text": [
            "WARNING:tensorflow:From <ipython-input-17-4fae17cca12a>:4: Sequential.predict_classes (from tensorflow.python.keras.engine.sequential) is deprecated and will be removed after 2021-01-01.\n",
            "Instructions for updating:\n",
            "Please use instead:* `np.argmax(model.predict(x), axis=-1)`,   if your model does multi-class classification   (e.g. if it uses a `softmax` last-layer activation).* `(model.predict(x) > 0.5).astype(\"int32\")`,   if your model does binary classification   (e.g. if it uses a `sigmoid` last-layer activation).\n",
            "              precision    recall  f1-score   support\n",
            "\n",
            "    Negative       0.84      0.88      0.86     12500\n",
            "    Positive       0.87      0.83      0.85     12500\n",
            "\n",
            "    accuracy                           0.86     25000\n",
            "   macro avg       0.86      0.86      0.86     25000\n",
            "weighted avg       0.86      0.86      0.86     25000\n",
            "\n"
          ],
          "name": "stdout"
        }
      ]
    },
    {
      "cell_type": "markdown",
      "metadata": {
        "id": "dpvQqlrhpHeE",
        "colab_type": "text"
      },
      "source": [
        "## View some incorrect predictions\n",
        "\n",
        "Lets have a look at some of the incorrectly classified reviews. For readability we remove the padding."
      ]
    },
    {
      "cell_type": "code",
      "metadata": {
        "id": "ZZnvSsOVpHeF",
        "colab_type": "code",
        "outputId": "35736bbf-450a-41d3-8cb6-ef31fc393ff1",
        "colab": {
          "base_uri": "https://localhost:8080/",
          "height": 241
        }
      },
      "source": [
        "predicted_classes_reshaped = np.reshape(predicted_classes, 25000)\n",
        "incorrect = np.nonzero(predicted_classes_reshaped != y_test)[0]\n",
        "\n",
        "# We select the first 10 incorrectly classified reviews\n",
        "for j, incorrect in enumerate(incorrect[0:3]):\n",
        "    \n",
        "    predicted = class_names[predicted_classes_reshaped[incorrect]]\n",
        "    actual = class_names[y_test[incorrect]]\n",
        "    human_readable_review = decode_review(x_test[incorrect])\n",
        "    \n",
        "    print(\"Incorrectly classified Test Review [\"+ str(j+1) +\"]\") \n",
        "    print(\"Test Review #\" + str(incorrect)  + \": Predicted [\"+ predicted + \"] Actual [\"+ actual + \"]\")\n",
        "    print(\"Test Review Text: \" + human_readable_review.replace(\"<PAD> \", \"\"))\n",
        "    print(\"\")"
      ],
      "execution_count": 18,
      "outputs": [
        {
          "output_type": "stream",
          "text": [
            "Incorrectly classified Test Review [1]\n",
            "Test Review #2: Predicted [Negative] Actual [Positive]\n",
            "Test Review Text: alive simultaneously while <UNKNOWN> for his part is depicted as a droll white bearded guy in the clouds who looks like he'd rather be taking a nap when <UNKNOWN> sends them a tree like god who regards them the frogs decide that this is no improvement and demand a different king irritated <UNKNOWN> sends them a <UNKNOWN> br br delighted with this formidable looking new king who towers above them the frogs welcome him with a <UNKNOWN> of <UNKNOWN> dressed <UNKNOWN> the mayor steps forward to hand him the key to the <UNKNOWN> as newsreel cameras record the event to everyone's horror the <UNKNOWN> promptly eats the mayor and then goes on a merry rampage <UNKNOWN> citizens at random a title card <UNKNOWN> reads news of the king's appetite throughout the kingdom when the now terrified frogs once more <UNKNOWN> <UNKNOWN> for help he loses his temper and showers their community with lightning bolts the moral of our story delivered by a hapless frog just before he is eaten is let well enough alone br br considering the time period when this startling little film was made and considering the fact that it was made by a russian <UNKNOWN> at the height of that beleaguered country's civil war it would be easy to see this as a parable about those events <UNKNOWN> may or may not have had <UNKNOWN> turmoil in mind when he made <UNKNOWN> but whatever prompted his choice of material the film stands as a cautionary tale of universal application <UNKNOWN> could be the soviet union italy germany or japan in the 1930s or any country of any era that lets its guard down and is overwhelmed by tyranny it's a fascinating film even a charming one in its macabre way but its message is no joke\n",
            "\n",
            "Incorrectly classified Test Review [2]\n",
            "Test Review #3: Predicted [Positive] Actual [Negative]\n",
            "Test Review Text: <START> i generally love this type of movie however this time i found myself wanting to kick the screen since i can't do that i will just complain about it this was absolutely idiotic the things that happen with the dead kids are very cool but the alive people are absolute idiots i am a grown man pretty big and i can defend myself well however i would not do half the stuff the little girl does in this movie also the mother in this movie is reckless with her children to the point of neglect i wish i wasn't so angry about her and her actions because i would have otherwise enjoyed the flick what a number she was take my advise and fast forward through everything you see her do until the end also is anyone else getting sick of watching movies that are filmed so dark anymore one can hardly see what is being filmed as an audience we are impossibly involved with the actions on the screen so then why the hell can't we have night vision\n",
            "\n",
            "Incorrectly classified Test Review [3]\n",
            "Test Review #8: Predicted [Positive] Actual [Negative]\n",
            "Test Review Text: <START> hollywood had a long love affair with bogus arabian nights tales but few of these products have stood the test of time the most memorable were the jon hall maria <UNKNOWN> films which have long since become camp this one is filled with dubbed songs anachronistic slang and slapstick it's a truly crop of corn and pretty near intolerable today it was nominated for its imaginative special effects which are almost <UNKNOWN> in this day and age consisting mainly of trick photography the only outstanding positive feature which survives is its beautiful color and clarity sad to say of the many films made in this genre few of them come up to alexander <UNKNOWN> original thief of baghdad almost any other arabian nights film is superior to this one though it's a loser\n",
            "\n"
          ],
          "name": "stdout"
        }
      ]
    },
    {
      "cell_type": "markdown",
      "metadata": {
        "id": "ewk8-qdQpHeG",
        "colab_type": "text"
      },
      "source": [
        "## Run your own text against the trained model"
      ]
    },
    {
      "cell_type": "code",
      "metadata": {
        "id": "BachTCs2pHeH",
        "colab_type": "code",
        "outputId": "132a4c2f-b776-47e5-a59f-da4c519a1b48",
        "colab": {
          "base_uri": "https://localhost:8080/",
          "height": 68
        }
      },
      "source": [
        "# Write your own review\n",
        "review = \"this is the best film i have ever seen it is great and fantastic and i loved it\"\n",
        "\n",
        "# Encode review (replace word with integers)\n",
        "tmp = []\n",
        "for word in review.split(\" \"):\n",
        "    tmp.append(word_index[word])\n",
        "\n",
        "# Ensure review is 300 characters long (by padding or truncating)\n",
        "tmp_padded = sequence.pad_sequences([tmp], maxlen=maxlen) \n",
        "\n",
        "# Run your processed review against the trained model\n",
        "rawprediction = lstm.predict(np.array([tmp_padded][0]))[0][0]\n",
        "prediction = int(round(rawprediction))\n",
        "\n",
        "# Test the model and print the result\n",
        "print(\"Review: \" + review)\n",
        "print(\"Raw Prediction: \" + str(rawprediction))\n",
        "print(\"Predicted Class: \" + class_names[prediction])"
      ],
      "execution_count": 19,
      "outputs": [
        {
          "output_type": "stream",
          "text": [
            "Review: this is the best film i have ever seen it is great and fantastic and i loved it\n",
            "Raw Prediction: 0.9989507\n",
            "Predicted Class: Positive\n"
          ],
          "name": "stdout"
        }
      ]
    },
    {
      "cell_type": "markdown",
      "metadata": {
        "id": "ZtdMoqGypHeI",
        "colab_type": "text"
      },
      "source": [
        "## Challenge\n",
        "\n",
        "You will be expected to use an Keras LSTM for a classicification task on the *Sprint Challenge*. \n",
        "\n",
        "Reference for some of the code in the section above can be found: https://github.com/markwest1972/LSTM-Example-Google-Colaboratory/blob/master/LSTM_IMDB_Sentiment_Example.ipynb"
      ]
    },
    {
      "cell_type": "markdown",
      "metadata": {
        "colab_type": "text",
        "id": "7pETWPIe362y"
      },
      "source": [
        "# LSTM Text generation with Keras (Learn)"
      ]
    },
    {
      "cell_type": "markdown",
      "metadata": {
        "colab_type": "text",
        "id": "YYhaGN7HpHeJ"
      },
      "source": [
        "## Overview\n",
        "\n",
        "What else can we do with LSTMs? Since we're analyzing the *sequence*, we can do more than classify - we can *generate* text. I'ved pulled some news stories using [newspaper](https://github.com/codelucas/newspaper/).\n",
        "\n",
        "This example is drawn from the Keras [documentation](https://keras.io/examples/lstm_text_generation/)."
      ]
    },
    {
      "cell_type": "code",
      "metadata": {
        "id": "Pkzq0-D4pHeK",
        "colab_type": "code",
        "colab": {}
      },
      "source": [
        "from tensorflow.keras.callbacks import LambdaCallback\n",
        "from tensorflow.keras.models import Sequential\n",
        "from tensorflow.keras.layers import Dense, LSTM\n",
        "from tensorflow.keras.optimizers import RMSprop\n",
        "\n",
        "import pandas as pd\n",
        "import numpy as np\n",
        "import random\n",
        "import sys\n",
        "import os"
      ],
      "execution_count": 0,
      "outputs": []
    },
    {
      "cell_type": "code",
      "metadata": {
        "id": "e4qyyWH4pHeM",
        "colab_type": "code",
        "outputId": "97252ec4-4b33-4350-c884-7620e6aba11a",
        "colab": {
          "base_uri": "https://localhost:8080/",
          "height": 221
        }
      },
      "source": [
        "# Washington Post articles from October 2019 collected by Jon-Cody Sokoll\n",
        "url = 'https://raw.githubusercontent.com/LambdaSchool/DS-Unit-4-Sprint-3-Deep-Learning/master/module1-rnn-and-lstm/wp_articles.json'\n",
        "\n",
        "data = pd.read_json(url)\n",
        "print(data.shape)\n",
        "data.head()"
      ],
      "execution_count": 21,
      "outputs": [
        {
          "output_type": "stream",
          "text": [
            "(136, 1)\n"
          ],
          "name": "stdout"
        },
        {
          "output_type": "execute_result",
          "data": {
            "text/html": [
              "<div>\n",
              "<style scoped>\n",
              "    .dataframe tbody tr th:only-of-type {\n",
              "        vertical-align: middle;\n",
              "    }\n",
              "\n",
              "    .dataframe tbody tr th {\n",
              "        vertical-align: top;\n",
              "    }\n",
              "\n",
              "    .dataframe thead th {\n",
              "        text-align: right;\n",
              "    }\n",
              "</style>\n",
              "<table border=\"1\" class=\"dataframe\">\n",
              "  <thead>\n",
              "    <tr style=\"text-align: right;\">\n",
              "      <th></th>\n",
              "      <th>article</th>\n",
              "    </tr>\n",
              "  </thead>\n",
              "  <tbody>\n",
              "    <tr>\n",
              "      <th>0</th>\n",
              "      <td>Contributing columnist\\n\\nThe House is on fire...</td>\n",
              "    </tr>\n",
              "    <tr>\n",
              "      <th>1</th>\n",
              "      <td>When President Trump announced his decision to...</td>\n",
              "    </tr>\n",
              "    <tr>\n",
              "      <th>10</th>\n",
              "      <td>Russian President Vladimir Putin speaks at a s...</td>\n",
              "    </tr>\n",
              "    <tr>\n",
              "      <th>100</th>\n",
              "      <td>“The Queen’s Speech” is designed to acknowledg...</td>\n",
              "    </tr>\n",
              "    <tr>\n",
              "      <th>101</th>\n",
              "      <td>Like an aging rock star, the president is now ...</td>\n",
              "    </tr>\n",
              "  </tbody>\n",
              "</table>\n",
              "</div>"
            ],
            "text/plain": [
              "                                               article\n",
              "0    Contributing columnist\\n\\nThe House is on fire...\n",
              "1    When President Trump announced his decision to...\n",
              "10   Russian President Vladimir Putin speaks at a s...\n",
              "100  “The Queen’s Speech” is designed to acknowledg...\n",
              "101  Like an aging rock star, the president is now ..."
            ]
          },
          "metadata": {
            "tags": []
          },
          "execution_count": 21
        }
      ]
    },
    {
      "cell_type": "code",
      "metadata": {
        "id": "IOSE0ZR6pHeS",
        "colab_type": "code",
        "outputId": "615892f5-3334-4da9-a624-ed17f6b8027e",
        "colab": {
          "base_uri": "https://localhost:8080/",
          "height": 54
        }
      },
      "source": [
        "# Let's inspect the first article\n",
        "data.article.values[0]"
      ],
      "execution_count": 22,
      "outputs": [
        {
          "output_type": "execute_result",
          "data": {
            "text/plain": [
              "\"Contributing columnist\\n\\nThe House is on fire. And with each passing day, Donald Trump defiles the office of the president. If only past defrocked presidents could provide a roadmap for this firestorm.\\n\\nAndrew Johnson fought impeachment vigorously and survived removal, but never won reelection. Richard Nixon got in the way of justice, but eventually bowed to the rule of law, accepting his asterisk in the annals of history and resigning before certain removal. Bill Clinton expressed contrition, went on to complete his presidency with high approval ratings and has remained a popular former president.\\n\\nIf you care about democracy, the rule of law and nearly 250 years of constitutional governance, take heed. President Trump is no Clinton or Nixon, or even Johnson. He will not go quietly. It will be ugly. He will betray us and the rule of law in the process — defying subpoenas, withholding documents, blocking witnesses.\\n\\nThis presidency is fouled with disrespect for rules, boundaries and norms. Trump walked away from major agreements negotiated by his predecessors — the Iran nuclear deal, the Paris climate accord — and the United States’ word as bond is no more. Look at the ease with which he discards supporters — ask former attorney general Jeff Sessions or former secretary of state Rex Tillerson. Ask our allies, here today, gone tomorrow — NATO, the Kurds in Syria.\\n\\nFrom his earliest days as a candidate, Trump voiced appallingly arrogant views about the power of the presidency: “Mexico will pay for the wall!” ; “I alone can fix it”; “My primary consultant is myself.” His possessiveness over people and institutions is also not new: “my generals and my military,” “my African American.”\\n\\nOnly months into his presidency, Trump disparaged democratic allies, including Germany’s Angela Merkel (“ruining Germany”) and Britain’s Theresa May (“foolish”) — notably, both women — in favor of strong-arm leaders such as North Korea’s Kim Jong Un (who wrote him “beautiful letters”), Saudi Arabia’s Mohammed bin Salman (“very good ally”), Turkey’s Recep Tayyip Erdogan (“great friendship”) and the Philippines’ Rodrigo Duterte (“great relationship”). Trump heaps praise on Russia’s Vladimir Putin (“he’s a strong leader”). And, days after revealing his words pressuring Ukrainian President Volodymyr Zelensky to dig up dirt on his opponent, he invited China to do it, too.\\n\\nTrump’s campaign for the White House was rotten from the beginning. We glimpsed its depths when his lawyer Michael Cohen pleaded guilty to campaign finance felonies and identified Trump as “Individual 1” in a conspiracy to pay off an adult-film star and a former Playboy model to silence them during the height of the 2016 presidential campaign. We got even more evidence of Trump’s deception in the dense report prepared by special counsel Robert S. Mueller III on Russia’s interference in the 2016 election to benefit Trump and try to defeat Hillary Clinton. Mueller laid the groundwork for at least 10 acts of obstruction of justice.\\n\\nEven with all of that, it’s this still-unraveling Ukraine story that makes clear the bits and pieces that we could only imagine with Trump’s pleas to “Russia, if you’re listening . . . .” We have the same threats, lies, subterfuge and obstruction — only this time, we have the president’s unambiguous words to Zelensky: “I would like you to do us a favor though.” Ukraine represents the same lawlessness that propelled Trump over the finish line in 2016: this time in plain sight, with witnesses, including at least one whistleblower and lots of bit players. From the State Department to the Energy Department to the Justice Department and throughout the White House, Trump is using every bit of the machinery of government and personnel at his disposal to strongarm a small country under the heel of its threatening Russian neighbor — all to get manufactured dirt on a political opponent.\\n\\nIt’s illegal. The evidence is bearing fruit. The time will come. And justice will be served.\\n\\nThe president’s personal approval rating remains low, though stable, but there is growing support for impeachment — a Fox News poll this week found that 51 percent support removing Trump from office. Independents, as well as Democrats, mostly support the impeachment inquiry, while Republicans are mostly holding tight. These things may or may not change.\\n\\nEither way, we will be changed if we do not right this ship of democracy.\\n\\n“Impeachment is not about punishment. Impeachment is about cleansing the office. Impeachment is about restoring honor and integrity to the office.” We should heed these words, spoken by the 1999 version of Sen. Lindsey O. Graham (R-S.C.). The fire did not start with Ukraine. Nonetheless, Ukraine may give us the water to finally put it out.\\n\\nRead more from Donna F. Edwards's archive.\""
            ]
          },
          "metadata": {
            "tags": []
          },
          "execution_count": 22
        }
      ]
    },
    {
      "cell_type": "code",
      "metadata": {
        "id": "myat8TpipHeT",
        "colab_type": "code",
        "colab": {}
      },
      "source": [
        "# Encode Data as Chars\n",
        "\n",
        "# Gather all text \n",
        "# Why? \n",
        "# 1. See all possible characters \n",
        "# 2. For training / splitting later\n",
        "text = \" \".join(data.article.values)\n",
        "\n",
        "# Unique Characters\n",
        "chars = list(set(text))\n",
        "\n",
        "# Lookup Tables\n",
        "char_int = {c:i for i, c in enumerate(chars)} \n",
        "int_char = {i:c for i, c in enumerate(chars)} "
      ],
      "execution_count": 0,
      "outputs": []
    },
    {
      "cell_type": "code",
      "metadata": {
        "id": "HximSUKJpHeV",
        "colab_type": "code",
        "outputId": "69a0eb69-3162-45b6-a03c-f1e02675988f",
        "colab": {
          "base_uri": "https://localhost:8080/",
          "height": 34
        }
      },
      "source": [
        "len(chars)"
      ],
      "execution_count": 24,
      "outputs": [
        {
          "output_type": "execute_result",
          "data": {
            "text/plain": [
              "121"
            ]
          },
          "metadata": {
            "tags": []
          },
          "execution_count": 24
        }
      ]
    },
    {
      "cell_type": "code",
      "metadata": {
        "id": "DUyhdcbetS3Y",
        "colab_type": "code",
        "outputId": "539aed4a-c753-4f4d-d9f6-4c1d85b7578c",
        "colab": {
          "base_uri": "https://localhost:8080/",
          "height": 1000
        }
      },
      "source": [
        "chars"
      ],
      "execution_count": 25,
      "outputs": [
        {
          "output_type": "execute_result",
          "data": {
            "text/plain": [
              "['\"',\n",
              " '/',\n",
              " '\\xad',\n",
              " '[',\n",
              " 'í',\n",
              " '–',\n",
              " 'x',\n",
              " '🗣',\n",
              " '8',\n",
              " 'f',\n",
              " 'a',\n",
              " '½',\n",
              " '—',\n",
              " '·',\n",
              " '#',\n",
              " 'é',\n",
              " 'w',\n",
              " '@',\n",
              " 'q',\n",
              " '●',\n",
              " '⭐',\n",
              " 'N',\n",
              " '\\u2066',\n",
              " 'O',\n",
              " ']',\n",
              " '―',\n",
              " 'U',\n",
              " 's',\n",
              " 'P',\n",
              " 'ﬂ',\n",
              " 'e',\n",
              " '&',\n",
              " 'Z',\n",
              " '\\n',\n",
              " 'D',\n",
              " 'L',\n",
              " ')',\n",
              " 'S',\n",
              " 'g',\n",
              " '!',\n",
              " '6',\n",
              " 'I',\n",
              " 'n',\n",
              " 'l',\n",
              " '👻',\n",
              " 'H',\n",
              " 'A',\n",
              " '…',\n",
              " 'B',\n",
              " 'o',\n",
              " 'Y',\n",
              " 'z',\n",
              " '”',\n",
              " 'ã',\n",
              " '5',\n",
              " ' ',\n",
              " 'ñ',\n",
              " 't',\n",
              " 'W',\n",
              " '4',\n",
              " 'b',\n",
              " '‘',\n",
              " '’',\n",
              " 'p',\n",
              " '×',\n",
              " 'è',\n",
              " 'ê',\n",
              " '0',\n",
              " '.',\n",
              " 'ó',\n",
              " 'j',\n",
              " ',',\n",
              " '|',\n",
              " 'u',\n",
              " '©',\n",
              " '1',\n",
              " 'C',\n",
              " 'd',\n",
              " '9',\n",
              " 'k',\n",
              " 'J',\n",
              " '“',\n",
              " \"'\",\n",
              " '\\u2069',\n",
              " 'r',\n",
              " 'V',\n",
              " '+',\n",
              " 'R',\n",
              " '(',\n",
              " 'T',\n",
              " '•',\n",
              " 'G',\n",
              " 'Q',\n",
              " 'c',\n",
              " '⅔',\n",
              " '⅓',\n",
              " 'ö',\n",
              " '2',\n",
              " 'v',\n",
              " ':',\n",
              " 'K',\n",
              " 'E',\n",
              " '3',\n",
              " '7',\n",
              " '$',\n",
              " 'X',\n",
              " 'M',\n",
              " 'y',\n",
              " '_',\n",
              " '*',\n",
              " '?',\n",
              " 'h',\n",
              " ';',\n",
              " '%',\n",
              " 'F',\n",
              " 'i',\n",
              " '🤔',\n",
              " '{',\n",
              " '-',\n",
              " 'm',\n",
              " 'á']"
            ]
          },
          "metadata": {
            "tags": []
          },
          "execution_count": 25
        }
      ]
    },
    {
      "cell_type": "code",
      "metadata": {
        "id": "PhD4wGndtYC3",
        "colab_type": "code",
        "colab": {}
      },
      "source": [
        "# We may want to remove non-ASCII characters\n",
        "data['article_clean'] = data['article'].replace({r'[^\\x00-\\x7F]+':''}, regex=True, inplace=True)"
      ],
      "execution_count": 0,
      "outputs": []
    },
    {
      "cell_type": "code",
      "metadata": {
        "id": "ht-6TyXAt5WV",
        "colab_type": "code",
        "colab": {}
      },
      "source": [
        "# Encode Data as Chars\n",
        "\n",
        "# Gather all text \n",
        "# Why? \n",
        "# 1. See all possible characters \n",
        "# 2. For training / splitting later\n",
        "text = \" \".join(data.article.values)\n",
        "\n",
        "# Unique Characters\n",
        "chars = list(set(text))\n",
        "\n",
        "# Lookup Tables\n",
        "char_int = {c:i for i, c in enumerate(chars)} \n",
        "int_char = {i:c for i, c in enumerate(chars)} "
      ],
      "execution_count": 0,
      "outputs": []
    },
    {
      "cell_type": "code",
      "metadata": {
        "id": "IlGy9Bxut8oM",
        "colab_type": "code",
        "outputId": "52e74e96-f777-4472-9619-9c6ec8aef1bc",
        "colab": {
          "base_uri": "https://localhost:8080/",
          "height": 34
        }
      },
      "source": [
        "len(chars)"
      ],
      "execution_count": 28,
      "outputs": [
        {
          "output_type": "execute_result",
          "data": {
            "text/plain": [
              "88"
            ]
          },
          "metadata": {
            "tags": []
          },
          "execution_count": 28
        }
      ]
    },
    {
      "cell_type": "code",
      "metadata": {
        "id": "EjQ5Fj6Qt8wI",
        "colab_type": "code",
        "outputId": "05dc8bef-9cca-4322-c995-5aefe6be0aee",
        "colab": {
          "base_uri": "https://localhost:8080/",
          "height": 1000
        }
      },
      "source": [
        "chars"
      ],
      "execution_count": 29,
      "outputs": [
        {
          "output_type": "execute_result",
          "data": {
            "text/plain": [
              "['\"',\n",
              " '/',\n",
              " '[',\n",
              " 'x',\n",
              " '8',\n",
              " 'f',\n",
              " 'a',\n",
              " '#',\n",
              " 'w',\n",
              " '@',\n",
              " 'q',\n",
              " 'N',\n",
              " 'O',\n",
              " ']',\n",
              " 'U',\n",
              " 's',\n",
              " 'P',\n",
              " 'e',\n",
              " '&',\n",
              " 'Z',\n",
              " '\\n',\n",
              " 'D',\n",
              " 'L',\n",
              " ')',\n",
              " 'S',\n",
              " 'g',\n",
              " '!',\n",
              " '6',\n",
              " 'I',\n",
              " 'n',\n",
              " 'l',\n",
              " 'H',\n",
              " 'A',\n",
              " 'B',\n",
              " 'o',\n",
              " 'Y',\n",
              " 'z',\n",
              " '5',\n",
              " ' ',\n",
              " 't',\n",
              " 'W',\n",
              " '4',\n",
              " 'b',\n",
              " 'p',\n",
              " '0',\n",
              " '.',\n",
              " 'j',\n",
              " ',',\n",
              " '|',\n",
              " 'u',\n",
              " '1',\n",
              " 'C',\n",
              " 'd',\n",
              " '9',\n",
              " 'k',\n",
              " 'J',\n",
              " \"'\",\n",
              " 'r',\n",
              " 'V',\n",
              " '+',\n",
              " 'R',\n",
              " '(',\n",
              " 'T',\n",
              " 'G',\n",
              " 'Q',\n",
              " 'c',\n",
              " '2',\n",
              " 'v',\n",
              " ':',\n",
              " 'K',\n",
              " 'E',\n",
              " '3',\n",
              " '7',\n",
              " '$',\n",
              " 'X',\n",
              " 'M',\n",
              " 'y',\n",
              " '_',\n",
              " '*',\n",
              " '?',\n",
              " 'h',\n",
              " ';',\n",
              " '%',\n",
              " 'F',\n",
              " 'i',\n",
              " '{',\n",
              " '-',\n",
              " 'm']"
            ]
          },
          "metadata": {
            "tags": []
          },
          "execution_count": 29
        }
      ]
    },
    {
      "cell_type": "code",
      "metadata": {
        "id": "XOXn7vWgpHeX",
        "colab_type": "code",
        "outputId": "e33012e1-0568-4035-bf24-c1687e8b30c2",
        "colab": {
          "base_uri": "https://localhost:8080/",
          "height": 34
        }
      },
      "source": [
        "# Create the sequence data\n",
        "maxlen = 40\n",
        "step = 5\n",
        "\n",
        "encoded = [char_int[c] for c in text]\n",
        "\n",
        "sequences = [] # Each element is 40 chars long\n",
        "next_char = [] # One element for each sequence\n",
        "\n",
        "for i in range(0, len(encoded) - maxlen, step):\n",
        "    \n",
        "    sequences.append(encoded[i : i + maxlen])\n",
        "    next_char.append(encoded[i + maxlen])\n",
        "    \n",
        "print('sequences: ', len(sequences))"
      ],
      "execution_count": 31,
      "outputs": [
        {
          "output_type": "stream",
          "text": [
            "sequences:  176992\n"
          ],
          "name": "stdout"
        }
      ]
    },
    {
      "cell_type": "code",
      "metadata": {
        "id": "8jXV9eu9QOGq",
        "colab_type": "code",
        "outputId": "60ba405c-6856-4acf-cf26-7e7f3e1a8bab",
        "colab": {
          "base_uri": "https://localhost:8080/",
          "height": 34
        }
      },
      "source": [
        "len(encoded)"
      ],
      "execution_count": 32,
      "outputs": [
        {
          "output_type": "execute_result",
          "data": {
            "text/plain": [
              "884999"
            ]
          },
          "metadata": {
            "tags": []
          },
          "execution_count": 32
        }
      ]
    },
    {
      "cell_type": "code",
      "metadata": {
        "id": "hpyRTBxspHeZ",
        "colab_type": "code",
        "outputId": "f924dee8-e5f9-4b05-fff4-6ea816458135",
        "colab": {
          "base_uri": "https://localhost:8080/",
          "height": 697
        }
      },
      "source": [
        "sequences[0]"
      ],
      "execution_count": 33,
      "outputs": [
        {
          "output_type": "execute_result",
          "data": {
            "text/plain": [
              "[51,\n",
              " 34,\n",
              " 29,\n",
              " 39,\n",
              " 57,\n",
              " 84,\n",
              " 42,\n",
              " 49,\n",
              " 39,\n",
              " 84,\n",
              " 29,\n",
              " 25,\n",
              " 38,\n",
              " 65,\n",
              " 34,\n",
              " 30,\n",
              " 49,\n",
              " 87,\n",
              " 29,\n",
              " 84,\n",
              " 15,\n",
              " 39,\n",
              " 20,\n",
              " 20,\n",
              " 62,\n",
              " 80,\n",
              " 17,\n",
              " 38,\n",
              " 31,\n",
              " 34,\n",
              " 49,\n",
              " 15,\n",
              " 17,\n",
              " 38,\n",
              " 84,\n",
              " 15,\n",
              " 38,\n",
              " 34,\n",
              " 29,\n",
              " 38]"
            ]
          },
          "metadata": {
            "tags": []
          },
          "execution_count": 33
        }
      ]
    },
    {
      "cell_type": "code",
      "metadata": {
        "id": "npRbRJ9OpHeb",
        "colab_type": "code",
        "colab": {}
      },
      "source": [
        "# Create x & y\n",
        "x = np.zeros((len(sequences), maxlen, len(chars)), dtype=np.bool)\n",
        "y = np.zeros((len(sequences), len(chars)), dtype=np.bool)\n",
        "\n",
        "for i, sequence in enumerate(sequences):\n",
        "    for t, char in enumerate(sequence):\n",
        "        x[i,t,char] = 1\n",
        "        \n",
        "    y[i, next_char[i]] = 1"
      ],
      "execution_count": 0,
      "outputs": []
    },
    {
      "cell_type": "code",
      "metadata": {
        "id": "6_sItOIEpHec",
        "colab_type": "code",
        "outputId": "72e1cf7d-e9c8-43b0-a706-03d0b45537ef",
        "colab": {
          "base_uri": "https://localhost:8080/",
          "height": 34
        }
      },
      "source": [
        "# What do the dimensions of x represent?\n",
        "# Number of sequences, sequence length, unique characters\n",
        "x.shape"
      ],
      "execution_count": 35,
      "outputs": [
        {
          "output_type": "execute_result",
          "data": {
            "text/plain": [
              "(176992, 40, 88)"
            ]
          },
          "metadata": {
            "tags": []
          },
          "execution_count": 35
        }
      ]
    },
    {
      "cell_type": "code",
      "metadata": {
        "id": "ThJFHYgipHee",
        "colab_type": "code",
        "outputId": "d0b6ddb6-e784-4da1-c430-3d3436c5efb7",
        "colab": {
          "base_uri": "https://localhost:8080/",
          "height": 34
        }
      },
      "source": [
        "# What about y?\n",
        "y.shape"
      ],
      "execution_count": 36,
      "outputs": [
        {
          "output_type": "execute_result",
          "data": {
            "text/plain": [
              "(176992, 88)"
            ]
          },
          "metadata": {
            "tags": []
          },
          "execution_count": 36
        }
      ]
    },
    {
      "cell_type": "code",
      "metadata": {
        "id": "OkGk8blhpHeg",
        "colab_type": "code",
        "colab": {}
      },
      "source": [
        "# Build the model: a single LSTM\n",
        "model = Sequential()\n",
        "model.add(LSTM(128, input_shape=(maxlen, len(chars))))\n",
        "model.add(Dense(len(chars), activation='softmax'))\n",
        "\n",
        "# Compile\n",
        "model.compile(loss='categorical_crossentropy', optimizer='adam')"
      ],
      "execution_count": 0,
      "outputs": []
    },
    {
      "cell_type": "code",
      "metadata": {
        "id": "uBxmhuGlpHeh",
        "colab_type": "code",
        "colab": {}
      },
      "source": [
        "def sample(preds):\n",
        "    # helper function to sample an index from a probability array\n",
        "    preds = np.asarray(preds).astype('float64')\n",
        "    preds = np.log(preds) / 1\n",
        "    exp_preds = np.exp(preds)\n",
        "    preds = exp_preds / np.sum(exp_preds)\n",
        "    probas = np.random.multinomial(1, preds, 1)\n",
        "    return np.argmax(probas)"
      ],
      "execution_count": 0,
      "outputs": []
    },
    {
      "cell_type": "code",
      "metadata": {
        "id": "zNytScjTpHej",
        "colab_type": "code",
        "colab": {}
      },
      "source": [
        "def on_epoch_end(epoch, _):\n",
        "    # Function invoked at end of each epoch. Prints generated text.\n",
        "    \n",
        "    print()\n",
        "    print('----- Generating text after Epoch: %d' % epoch)\n",
        "    \n",
        "    start_index = random.randint(0, len(text) - maxlen - 1)\n",
        "    \n",
        "    generated = ''\n",
        "    \n",
        "    # sentence = text[start_index: start_index + maxlen]\n",
        "    sentence = 'President Trump recently had a confident'\n",
        "    generated += sentence\n",
        "    \n",
        "    print('----- Generating with seed: \"' + sentence + '\"')\n",
        "    sys.stdout.write(generated)\n",
        "    \n",
        "    for i in range(400):\n",
        "        x_pred = np.zeros((1, maxlen, len(chars)))\n",
        "        for t, char in enumerate(sentence):\n",
        "            x_pred[0, t, char_int[char]] = 1\n",
        "            \n",
        "        preds = model.predict(x_pred, verbose=0)[0]\n",
        "        next_index = sample(preds)\n",
        "        next_char = int_char[next_index]\n",
        "        \n",
        "        sentence = sentence[1:] + next_char\n",
        "        \n",
        "        sys.stdout.write(next_char)\n",
        "        sys.stdout.flush()\n",
        "    print()\n",
        "\n",
        "\n",
        "print_callback = LambdaCallback(on_epoch_end=on_epoch_end)"
      ],
      "execution_count": 0,
      "outputs": []
    },
    {
      "cell_type": "code",
      "metadata": {
        "id": "PvnYLyRKpHel",
        "colab_type": "code",
        "outputId": "de8158ad-2895-4d09-e680-06874daf5bdc",
        "colab": {
          "base_uri": "https://localhost:8080/",
          "height": 1000
        }
      },
      "source": [
        "# fit the model\n",
        "model.fit(x, y,\n",
        "          batch_size=32,\n",
        "          epochs=25,\n",
        "          callbacks=[print_callback])"
      ],
      "execution_count": 0,
      "outputs": [
        {
          "output_type": "stream",
          "text": [
            "Epoch 1/25\n",
            "5527/5531 [============================>.] - ETA: 0s - loss: 2.5201\n",
            "----- Generating text after Epoch: 0\n",
            "----- Generating with seed: \"President Trump recently had a confident\"\n",
            "President Trump recently had a confident h-lition ocy on flat tour found nat? We be acsne camf watkane fove calluad the wame (, Rurrubpes a clatimn and youping. Themune tom thitk sturma, tho Jeirpandurn ament clatither . Can of olly warked rotsest hice pipnens on anforfet. Crapeid, ceptoust condere. Compon on owath, ie Tran tho boranit tole tout Lare ha. Angally sofrritid than sharbenunt. If imprealod sourfume, ws Mardel of the becwided\n",
            "5531/5531 [==============================] - 31s 6ms/step - loss: 2.5200\n",
            "Epoch 2/25\n",
            "5529/5531 [============================>.] - ETA: 0s - loss: 2.1809\n",
            "----- Generating text after Epoch: 1\n",
            "----- Generating with seed: \"President Trump recently had a confident\"\n",
            "President Trump recently had a confident indy catey, for cramo a son plessing mise refiny.\n",
            "\n",
            "Yeas cald sboce tica ald biedont sanes bice ra sorjanisay worl an Truuple Rus.mBid, an 2x-cineadexs frebdle fin to ehas seadeg fimat! Foundey, Dew. Favees saw winnermy Canlens deargation winela wes tssse, tras youges. searligist of Medriag were 12, insseres yerV. Youm U) on his th the 2 whif berbens, on CIndent Hurle Toumps-in lejait in Bffecter \n",
            "5531/5531 [==============================] - 31s 6ms/step - loss: 2.1808\n",
            "Epoch 3/25\n",
            "5530/5531 [============================>.] - ETA: 0s - loss: 2.0421\n",
            "----- Generating text after Epoch: 2\n",
            "----- Generating with seed: \"President Trump recently had a confident\"\n",
            "President Trump recently had a confident, surs, con melk thes hives bore actum and all dost pally was ellocids be whinasch at Confers uphiso goted bould for abyoher the kis yor Trums that \"meiots. Egroons trate suppencide ow quaywing in a rectint ofrissinily along onta draidica from Hotter terempating puchy sead grnaty that ghn Indeally to that the kinvers vasing rxeurife a. Hellng the bopent could Bish Bytile, Hol the  any to inforas a\n",
            "5531/5531 [==============================] - 31s 6ms/step - loss: 2.0422\n",
            "Epoch 4/25\n",
            "5530/5531 [============================>.] - ETA: 0s - loss: 1.9453\n",
            "----- Generating text after Epoch: 3\n",
            "----- Generating with seed: \"President Trump recently had a confident\"\n",
            "President Trump recently had a confident mak tour usons cleas, that mesing of the bapzen to the crove their aperenged ittosn lestuss apon witter atsorder stote on what this streac arding duf ale a vill witlebsting sho treet to founther, a play, aw bounling. Wother-confert feccive their whe the Ucrpain mobsed tight a call formeD, but the U.S. te play cofued.\n",
            "\n",
            "I ellew at wricus decicion sail by off suan, the out up offffors. Isstatratial \n",
            "5531/5531 [==============================] - 31s 6ms/step - loss: 1.9453\n",
            "Epoch 5/25\n",
            "5529/5531 [============================>.] - ETA: 0s - loss: 1.8700\n",
            "----- Generating text after Epoch: 4\n",
            "----- Generating with seed: \"President Trump recently had a confident\"\n",
            "President Trump recently had a confident dasticiliby. Bet keloratly deas tad hid excepes and instheigut out amlite all thing are lut trenteristure. (pelary olt wht grovge sutcuencls of the Westinals mon 11 201.\n",
            "\n",
            "The casrald and and fall gonf mort an goation allow exporemented Refadfarom Sunvanstmes has becrespangupers and than 2017t commrate, an Consos reperrembe year instrial beal that in\n",
            "seg. I bivack.s\n",
            "\n",
            "Now has a surgored creakcred i\n",
            "5531/5531 [==============================] - 31s 6ms/step - loss: 1.8699\n",
            "Epoch 6/25\n",
            "5525/5531 [============================>.] - ETA: 0s - loss: 1.8110\n",
            "----- Generating text after Epoch: 5\n",
            "----- Generating with seed: \"President Trump recently had a confident\"\n",
            "President Trump recently had a confident of itstephing tome steemer untncidestarly conterms to prack of Wown Rudy ofter, coust of the gones. Whilr Resens, intiliced aroindabit of the teathars quepust fridused to widhe over bol) by day his had mo by matwial Demonal to quection smediade Colloin loud 10 17 moldation would, to nowlence PKsusim and the stuencerss of the U.S. So.t.E Befrefth love on a let coal of Sutaic Devernont to retate be\n",
            "5531/5531 [==============================] - 31s 6ms/step - loss: 1.8109\n",
            "Epoch 7/25\n",
            "5519/5531 [============================>.] - ETA: 0s - loss: 1.7592\n",
            "----- Generating text after Epoch: 6\n",
            "----- Generating with seed: \"President Trump recently had a confident\"\n",
            "President Trump recently had a confident mode over to twats pullen and ditroo it way weinging in an Fruman Schind as the chonling hen poluct to for accons on Trump MriCO Dution \"alud ond have to theri Fort on Trump have its anding Trums maketh aweaders. St the houiness sumpleke accordine in phockedmy inforthen.\n",
            "\n",
            "So more and Rustige Far ledremiteds of Sylie nughtoong. Shated pame what is to such on any rugapketwinas, for the for streym, \n",
            "5531/5531 [==============================] - 31s 6ms/step - loss: 1.7594\n",
            "Epoch 8/25\n",
            "5530/5531 [============================>.] - ETA: 0s - loss: 1.7165\n",
            "----- Generating text after Epoch: 7\n",
            "----- Generating with seed: \"President Trump recently had a confident\"\n",
            "President Trump recently had a confidents.\n",
            "\n",
            "When we Hase Wash Lush-Servempera to our CEro! MI Yo Bremhtossibly, Chist Neghtue Wozzes and movious of exhige this gen in the maside and eNter greate have more Washievark Brug versame them Thenewwerning Dneverabal. Hers agames and was stall to be truhed teris could extert. Cunuly: Mond.S. Keffeese Bay Wod said in, any real I do And she tavead again, ander to reat with Trumps with Mislay of th\n",
            "5531/5531 [==============================] - 31s 6ms/step - loss: 1.7165\n",
            "Epoch 9/25\n",
            "5531/5531 [==============================] - ETA: 0s - loss: 1.6783\n",
            "----- Generating text after Epoch: 8\n",
            "----- Generating with seed: \"President Trump recently had a confident\"\n",
            "President Trump recently had a confident that all meebivert for the notumon saictarege attiviong of the Agail. Morvact EdSack Dedictolrelf of they Nowncy has then lising collempt the only retremmenting opports lawforms prepeartiming.\n",
            "\n",
            "-4 Now Yonan a sucu nurghations perbeffasive in 2016 ade aware treits razous of then which other, recosd not incrunion adridity and previous, time.\n",
            "\n",
            "Somboon Roughisy Carinstip were a conlart ryas saufber a\n",
            "5531/5531 [==============================] - 31s 6ms/step - loss: 1.6783\n",
            "Epoch 10/25\n",
            "5523/5531 [============================>.] - ETA: 0s - loss: 1.6438\n",
            "----- Generating text after Epoch: 9\n",
            "----- Generating with seed: \"President Trump recently had a confident\"\n",
            "President Trump recently had a confidents and insperce.;\n",
            "\"0. They presenting hell bign down reviouncade of dealt codmant more cas all the U.m, Ameribiaue Caart Netract welks: The Elerganis know (100 ford and we have polect of which dounn?  has nows, the sinchors sugned.\n",
            "\n",
            "But now and her place or subsuent from dishorle proice In Jacee Ma.com/St. NoRRUNITATAUTINGENGOATED OP)\n",
            "\n",
            "Whos was the Wisting Flie, Presol\n",
            "\n",
            "Church Crimais catuge be dij\n",
            "5531/5531 [==============================] - 31s 6ms/step - loss: 1.6440\n",
            "Epoch 11/25\n",
            "5520/5531 [============================>.] - ETA: 0s - loss: 1.6146\n",
            "----- Generating text after Epoch: 10\n",
            "----- Generating with seed: \"President Trump recently had a confident\"\n",
            "President Trump recently had a confidenty with its who Mablassial again your Hong Gubry Dary faful tox at informering and the Farrent Condresser are abrlard. Polic propull change? Therre sovently not reportnt of living policy, subshorthed they Bay Pame to be new and welids, Dalluaman us load the want to a cast forer plain encepre ad for dali you hin weid mick somatwing med gondled Trump wamment Veplew Basd onother. Soring myt eating the\n",
            "5531/5531 [==============================] - 31s 6ms/step - loss: 1.6146\n",
            "Epoch 12/25\n",
            "5521/5531 [============================>.] - ETA: 0s - loss: 1.5874\n",
            "----- Generating text after Epoch: 11\n",
            "----- Generating with seed: \"President Trump recently had a confident\"\n",
            "President Trump recently had a confidents, Amogg. The gets procument, loid vilial cestaking the Trump agraip ballowfordals in what the come to Comsuire Was sibfly said progrcher.\n",
            "\n",
            "Theined the publicles former frome of trim like forsision at exrecturily way, they presidenct of vieotarally lebsterging the Dalbor Othemy one rally, which beingsers seef, and plant it is committee hose way Dooks, a mass piblinar dediction on Marter and the ge\n",
            "5531/5531 [==============================] - 31s 6ms/step - loss: 1.5873\n",
            "Epoch 13/25\n",
            "5528/5531 [============================>.] - ETA: 0s - loss: 1.5634\n",
            "----- Generating text after Epoch: 12\n",
            "----- Generating with seed: \"President Trump recently had a confident\"\n",
            "President Trump recently had a confidents, builates. He packed evatus insugancical life your for  one pitching addineeders sacticion to Tueken. You around provisther-bla nemere and proscciate and  15 allienfaming escain.\n",
            "\n",
            "One last a denial tong desting.\n",
            "\n",
            "The words agone villever.\n",
            "\n",
            "AD\n",
            "\n",
            "errabelte impoaicts are the maring first to the loce it wilted hosting of the possee clammet.\n",
            "\n",
            "We nignt vitle, sensigned $150.\n",
            "\n",
            "Affuge, The Search ower th\n",
            "5531/5531 [==============================] - 31s 6ms/step - loss: 1.5634\n",
            "Epoch 14/25\n",
            "5521/5531 [============================>.] - ETA: 0s - loss: 1.5412\n",
            "----- Generating text after Epoch: 13\n",
            "----- Generating with seed: \"President Trump recently had a confident\"\n",
            "President Trump recently had a confidents of ISunies she up how publically wayters gene, on the confibute, apseached contratutings it form.\n",
            "\n",
            "Upsoricamings. We ondenting a morie.\n",
            "\n",
            "The Part has ville the deal didnty agoubly Marvedral House Tillouse Combles in Lear lash Iverinning\n",
            "\n",
            "Satomyroast recountly desclined nell cimital layaral, and expopysed up into the condupt, the Dargers, themed the misted by recament in actually, no, shousd asva\n",
            "5531/5531 [==============================] - 31s 6ms/step - loss: 1.5412\n",
            "Epoch 15/25\n",
            "5530/5531 [============================>.] - ETA: 0s - loss: 1.5209\n",
            "----- Generating text after Epoch: 14\n",
            "----- Generating with seed: \"President Trump recently had a confident\"\n",
            "President Trump recently had a confident with ready to durign, Carred By tweeming instage by has not out any as inouggent, the say Cheres Sutule enver better for a free bank awampry higher. Dning, Enyric (to alse which You nation has ffuct be surnetage.\n",
            "\n",
            "The video arnials Trump aghized on the reerenguse that was lilk bechipling rugragent.\n",
            "\n",
            "AD\n",
            "\n",
            "Ot  just to the workey on the publibuse to his is and perictate be a dinning at her the ensime\n",
            "5531/5531 [==============================] - 32s 6ms/step - loss: 1.5209\n",
            "Epoch 16/25\n",
            "5518/5531 [============================>.] - ETA: 0s - loss: 1.5012\n",
            "----- Generating text after Epoch: 15\n",
            "----- Generating with seed: \"President Trump recently had a confident\"\n",
            "President Trump recently had a confidents sock.\n",
            "\n",
            "AD\n",
            "\n",
            "AD LiC 2017, was alis leveld stain potent Suta. The policy. Leffensing Republicands Cure 2@2 partable recossed ensoment because also fourt ad a a German ass and the are crajuse. Whridas, we may ffurt a subplomity from them unliled that comminisions had in ad in diong, maked about tradicing and whith 16, did sod mantey to dead.\n",
            "\n",
            "A  20-175 fected, to the Presvares Kordess How on the Rep\n",
            "5531/5531 [==============================] - 31s 6ms/step - loss: 1.5014\n",
            "Epoch 17/25\n",
            "5523/5531 [============================>.] - ETA: 0s - loss: 1.4839\n",
            "----- Generating text after Epoch: 16\n",
            "----- Generating with seed: \"President Trump recently had a confident\"\n",
            "President Trump recently had a confidents, deblitions earcent from issed by the here seegs home to the Aurvis as shovt to at by the came first pregicus against Colus Peterisasson Harghmane W. Perronalien andlent dreaded flogholich defrives.\n",
            "\n",
            "Noine Clares in Seeis staoss, it is that call he amopeage of to Times a potner. Covery, special touchdown for evarrafel from the rebibure 2019-said is and deverses. Thwere amportant. Coons of Americ\n",
            "5531/5531 [==============================] - 32s 6ms/step - loss: 1.4837\n",
            "Epoch 18/25\n",
            "5530/5531 [============================>.] - ETA: 0s - loss: 1.4681\n",
            "----- Generating text after Epoch: 17\n",
            "----- Generating with seed: \"President Trump recently had a confident\"\n",
            "President Trump recently had a confidential believe wideled, Jamps in Me Contomal Sctool on lother that 52 we has beong the United States off even anster played by a letents whom to-berw-remet. The fine a job and to airchatult.\n",
            "\n",
            "AD\n",
            "\n",
            "Had violence has bexa to an entive ngine dox. Feen mey syil to year firses majed to use the law, the statimy fevery seculing breaking dunicle. Chentols left to speaking the essoonning the incholy could day o\n",
            "5531/5531 [==============================] - 31s 6ms/step - loss: 1.4681\n",
            "Epoch 19/25\n",
            "5520/5531 [============================>.] - ETA: 0s - loss: 1.4522\n",
            "----- Generating text after Epoch: 18\n",
            "----- Generating with seed: \"President Trump recently had a confident\"\n",
            "President Trump recently had a confidents of he mist-sen For coss secut, Elicue. As them end times to tell envismal passning peryon such a procoud to at dowine hone incontivel bake a well complichting oth things to dies inveldistcue to time the Raus an Tarkicm said.\n",
            "\n",
            "-lopping you what dows. Be increasings a sentioner for his to still offense that 65 serviced are tupation who despeatch syme time that happen this happing givents, figm end\n",
            "5531/5531 [==============================] - 32s 6ms/step - loss: 1.4523\n",
            "Epoch 20/25\n",
            "5530/5531 [============================>.] - ETA: 0s - loss: 1.4386\n",
            "----- Generating text after Epoch: 19\n",
            "----- Generating with seed: \"President Trump recently had a confident\"\n",
            "President Trump recently had a confidents for may, communications at the ran han foogborieluntty.\n",
            "\n",
            "The violent pridabl the tracial canclic productar who describitical plantscipt suight Down Dashing But came a deamined Turkey wit clet- opening lie useorses that is two supponside wate child new quart vieded by little Doighs thanked for Nacric, Mcicen Magoas] under a vigute of parth Part the summer as, accortigesis including about prowenti\n",
            "5531/5531 [==============================] - 31s 6ms/step - loss: 1.4387\n",
            "Epoch 21/25\n",
            "2817/5531 [==============>...............] - ETA: 10s - loss: 1.4147"
          ],
          "name": "stdout"
        }
      ]
    },
    {
      "cell_type": "markdown",
      "metadata": {
        "id": "7KpjrzIwpHen",
        "colab_type": "text"
      },
      "source": [
        "## Challenge\n",
        "\n",
        "You will be expected to use a Keras LSTM to generate text on today's assignment. "
      ]
    },
    {
      "cell_type": "markdown",
      "metadata": {
        "id": "CNz8_mHEpHeo",
        "colab_type": "text"
      },
      "source": [
        "# Review\n",
        "\n",
        "- <a href=\"#p1\">Part 1: </a>Describe Neural Networks used for modeling sequences\n",
        "    * Sequence Problems:\n",
        "        - Time Series (like Stock Prices, Weather, etc.)\n",
        "        - Text Classification\n",
        "        - Text Generation\n",
        "        - And many more! :D\n",
        "    * LSTMs are generally preferred over RNNs for most problems\n",
        "    * LSTMs are typically a single hidden layer of LSTM type; although, other architectures are possible.\n",
        "    * Keras has LSTMs/RNN layer types implemented nicely\n",
        "- <a href=\"#p2\">Part 2: </a>Apply a LSTM to a text generation problem using Keras\n",
        "    * Shape of input data is very important\n",
        "    * Can take a while to train\n",
        "    * You can use it to write movie scripts. :P "
      ]
    }
  ]
}