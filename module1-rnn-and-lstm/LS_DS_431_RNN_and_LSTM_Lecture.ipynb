{
 "cells": [
  {
   "cell_type": "markdown",
   "metadata": {
    "colab_type": "text",
    "id": "_IizNKWLomoA"
   },
   "source": [
    "<img align=\"left\" src=\"https://lever-client-logos.s3.amazonaws.com/864372b1-534c-480e-acd5-9711f850815c-1524247202159.png\" width=200>\n",
    "<br></br>\n",
    "<br></br>\n",
    "\n",
    "## *Data Science Unit 4 Sprint 3 Lesson 1*\n",
    "\n",
    "# Recurrent Neural Networks and Long Short Term Memory (LSTM)\n",
    "## _aka_ PREDICTING THE FUTURE!\n",
    "\n",
    "<img src=\"https://media.giphy.com/media/l2JJu8U8SoHhQEnoQ/giphy.gif\" width=480 height=356>\n",
    "<br></br>\n",
    "<br></br>\n",
    "\n",
    "> \"Yesterday's just a memory - tomorrow is never what it's supposed to be.\" -- Bob Dylan\n",
    "\n",
    "Wish you could save [Time In A Bottle](https://www.youtube.com/watch?v=AnWWj6xOleY)? With statistics you can do the next best thing - understand how data varies over time (or any sequential order), and use the order/time dimension predictively.\n",
    "\n",
    "A sequence is just any enumerated collection - order counts, and repetition is allowed. Python lists are a good elemental example - `[1, 2, 2, -1]` is a valid list, and is different from `[1, 2, -1, 2]`. The data structures we tend to use (e.g. NumPy arrays) are often built on this fundamental structure.\n",
    "\n",
    "A time series is data where you have not just the order but some actual continuous marker for where they lie \"in time\" - this could be a date, a timestamp, [Unix time](https://en.wikipedia.org/wiki/Unix_time), or something else. All time series are also sequences, and for some techniques you may just consider their order and not \"how far apart\" the entries are (if you have particularly consistent data collected at regular intervals it may not matter)."
   ]
  },
  {
   "cell_type": "markdown",
   "metadata": {
    "colab_type": "text",
    "id": "44QZgrPUe3-Y"
   },
   "source": [
    "## Recurrent Neural Networks\n",
    "\n",
    "There's plenty more to \"traditional\" time series, but the latest and greatest technique for sequence data is recurrent neural networks. A recurrence relation in math is an equation that uses recursion to define a sequence - a famous example is the Fibonacci numbers:\n",
    "\n",
    "$F_n = F_{n-1} + F_{n-2}$\n",
    "\n",
    "For formal math you also need a base case $F_0=1, F_1=1$, and then the rest builds from there. But for neural networks what we're really talking about are loops:\n",
    "\n",
    "![Recurrent neural network](https://upload.wikimedia.org/wikipedia/commons/b/b5/Recurrent_neural_network_unfold.svg)\n",
    "\n",
    "The hidden layers have edges (output) going back to their own input - this loop means that for any time `t` the training is at least partly based on the output from time `t-1`. The entire network is being represented on the left, and you can unfold the network explicitly to see how it behaves at any given `t`.\n",
    "\n",
    "Different units can have this \"loop\", but a particularly successful one is the long short-term memory unit (LSTM):\n",
    "\n",
    "![Long short-term memory unit](https://upload.wikimedia.org/wikipedia/commons/thumb/6/63/Long_Short-Term_Memory.svg/1024px-Long_Short-Term_Memory.svg.png)\n",
    "\n",
    "There's a lot going on here - in a nutshell, the calculus still works out and backpropagation can still be implemented. The advantage (ane namesake) of LSTM is that it can generally put more weight on recent (short-term) events while not completely losing older (long-term) information.\n",
    "\n",
    "After enough iterations, a typical neural network will start calculating prior gradients that are so small they effectively become zero - this is the [vanishing gradient problem](https://en.wikipedia.org/wiki/Vanishing_gradient_problem), and is what RNN with LSTM addresses. Pay special attention to the $c_t$ parameters and how they pass through the unit to get an intuition for how this problem is solved.\n",
    "\n",
    "So why are these cool? One particularly compelling application is actually not time series but language modeling - language is inherently ordered data (letters/words go one after another, and the order *matters*). [The Unreasonable Effectiveness of Recurrent Neural Networks](https://karpathy.github.io/2015/05/21/rnn-effectiveness/) is a famous and worth reading blog post on this topic.\n",
    "\n",
    "For our purposes, let's use TensorFlow and Keras to train RNNs with natural language. Resources:\n",
    "\n",
    "- https://github.com/keras-team/keras/blob/master/examples/imdb_lstm.py\n",
    "- https://keras.io/layers/recurrent/#lstm\n",
    "- http://adventuresinmachinelearning.com/keras-lstm-tutorial/\n",
    "\n",
    "Note that `tensorflow.contrib` [also has an implementation of RNN/LSTM](https://www.tensorflow.org/tutorials/sequences/recurrent)."
   ]
  },
  {
   "cell_type": "markdown",
   "metadata": {
    "colab_type": "text",
    "id": "eWrQllf8WEd-"
   },
   "source": [
    "### RNN/LSTM Sentiment Classification with Keras"
   ]
  },
  {
   "cell_type": "code",
   "execution_count": 10,
   "metadata": {},
   "outputs": [
    {
     "name": "stdout",
     "output_type": "stream",
     "text": "Loading data...\n25000 train sequences\n25000 test sequences\n"
    }
   ],
   "source": [
    "'''\n",
    "#Trains an LSTM model on the IMDB sentiment classification task.\n",
    "The dataset is actually too small for LSTM to be of any advantage\n",
    "compared to simpler, much faster methods such as TF-IDF + LogReg.\n",
    "**Notes**\n",
    "- RNNs are tricky. Choice of batch size is important,\n",
    "choice of loss and optimizer is critical, etc.\n",
    "Some configurations won't converge.\n",
    "- LSTM loss decrease patterns during training can be quite different\n",
    "from what you see with CNNs/MLPs/etc.\n",
    "'''\n",
    "from __future__ import print_function\n",
    "\n",
    "from tensorflow.keras.preprocessing import sequence\n",
    "from tensorflow.keras.models import Sequential\n",
    "from tensorflow.keras.layers import Dense, Embedding\n",
    "from tensorflow.keras.layers import LSTM\n",
    "from tensorflow.keras.datasets import imdb\n",
    "\n",
    "max_features = 20000\n",
    "# cut texts after this number of words (among top max_features most common words)\n",
    "maxlen = 80\n",
    "batch_size = 32\n",
    "\n",
    "print('Loading data...')\n",
    "(x_train, y_train), (x_test, y_test) = imdb.load_data(num_words=max_features)\n",
    "print(len(x_train), 'train sequences')\n",
    "print(len(x_test), 'test sequences')"
   ]
  },
  {
   "cell_type": "code",
   "execution_count": 11,
   "metadata": {},
   "outputs": [
    {
     "data": {
      "text/plain": "25000"
     },
     "execution_count": 11,
     "metadata": {},
     "output_type": "execute_result"
    }
   ],
   "source": [
    "len(x_train)"
   ]
  },
  {
   "cell_type": "code",
   "execution_count": 12,
   "metadata": {},
   "outputs": [
    {
     "data": {
      "text/plain": "[1,\n 14,\n 22,\n 16,\n 43,\n 530,\n 973,\n 1622,\n 1385,\n 65,\n 458,\n 4468,\n 66,\n 3941,\n 4,\n 173,\n 36,\n 256,\n 5,\n 25,\n 100,\n 43,\n 838,\n 112,\n 50,\n 670,\n 2,\n 9,\n 35,\n 480,\n 284,\n 5,\n 150,\n 4,\n 172,\n 112,\n 167,\n 2,\n 336,\n 385,\n 39,\n 4,\n 172,\n 4536,\n 1111,\n 17,\n 546,\n 38,\n 13,\n 447]"
     },
     "execution_count": 12,
     "metadata": {},
     "output_type": "execute_result"
    }
   ],
   "source": [
    "x_train[0][:50]"
   ]
  },
  {
   "cell_type": "code",
   "execution_count": 13,
   "metadata": {},
   "outputs": [
    {
     "data": {
      "text/plain": "(160, 321)"
     },
     "execution_count": 13,
     "metadata": {},
     "output_type": "execute_result"
    }
   ],
   "source": [
    "# all training observations have variousl lengths lengths\n",
    "len(x_train[200]), len(x_train[2467])"
   ]
  },
  {
   "cell_type": "code",
   "execution_count": 14,
   "metadata": {},
   "outputs": [
    {
     "name": "stdout",
     "output_type": "stream",
     "text": "Pad sequences (samples x time)\nx_train shape: (25000, 80)\nx_test shape: (25000, 80)\n"
    }
   ],
   "source": [
    "# Trim down observations to specific lengths\n",
    "# if less than 80, pads them with zeros\n",
    "# if more than 80\n",
    "print('Pad sequences (samples x time)')\n",
    "x_train = sequence.pad_sequences(x_train, maxlen=maxlen)\n",
    "x_test = sequence.pad_sequences(x_test, maxlen=maxlen)\n",
    "print('x_train shape:', x_train.shape)\n",
    "print('x_test shape:', x_test.shape)"
   ]
  },
  {
   "cell_type": "code",
   "execution_count": 15,
   "metadata": {},
   "outputs": [
    {
     "name": "stdout",
     "output_type": "stream",
     "text": "Build model...\nTrain...\nTrain on 25000 samples, validate on 25000 samples\nEpoch 1/15\n25000/25000 [==============================] - 97s 4ms/sample - loss: 0.4577 - accuracy: 0.7821 - val_loss: 0.3705 - val_accuracy: 0.8364\nEpoch 2/15\n25000/25000 [==============================] - 94s 4ms/sample - loss: 0.2941 - accuracy: 0.8808 - val_loss: 0.3778 - val_accuracy: 0.8345\nEpoch 3/15\n25000/25000 [==============================] - 97s 4ms/sample - loss: 0.2088 - accuracy: 0.9191 - val_loss: 0.4224 - val_accuracy: 0.8366\nEpoch 4/15\n25000/25000 [==============================] - 97s 4ms/sample - loss: 0.1498 - accuracy: 0.9444 - val_loss: 0.4824 - val_accuracy: 0.8125\nEpoch 5/15\n25000/25000 [==============================] - 97s 4ms/sample - loss: 0.1073 - accuracy: 0.9610 - val_loss: 0.5902 - val_accuracy: 0.8229\nEpoch 6/15\n25000/25000 [==============================] - 99s 4ms/sample - loss: 0.0760 - accuracy: 0.9744 - val_loss: 0.7446 - val_accuracy: 0.8141\nEpoch 7/15\n25000/25000 [==============================] - 98s 4ms/sample - loss: 0.0596 - accuracy: 0.9800 - val_loss: 0.6958 - val_accuracy: 0.8131\nEpoch 8/15\n25000/25000 [==============================] - 97s 4ms/sample - loss: 0.0493 - accuracy: 0.9839 - val_loss: 0.7733 - val_accuracy: 0.8128\nEpoch 9/15\n25000/25000 [==============================] - 98s 4ms/sample - loss: 0.0328 - accuracy: 0.9894 - val_loss: 0.8849 - val_accuracy: 0.8121\nEpoch 10/15\n25000/25000 [==============================] - 99s 4ms/sample - loss: 0.0250 - accuracy: 0.9922 - val_loss: 0.9085 - val_accuracy: 0.8048\nEpoch 11/15\n25000/25000 [==============================] - 100s 4ms/sample - loss: 0.0197 - accuracy: 0.9944 - val_loss: 1.0527 - val_accuracy: 0.8099\nEpoch 12/15\n25000/25000 [==============================] - 99s 4ms/sample - loss: 0.0161 - accuracy: 0.9951 - val_loss: 1.0227 - val_accuracy: 0.8072\nEpoch 13/15\n25000/25000 [==============================] - 98s 4ms/sample - loss: 0.0179 - accuracy: 0.9948 - val_loss: 1.0294 - val_accuracy: 0.8074\nEpoch 14/15\n25000/25000 [==============================] - 97s 4ms/sample - loss: 0.0124 - accuracy: 0.9961 - val_loss: 1.0128 - val_accuracy: 0.7978\nEpoch 15/15\n25000/25000 [==============================] - 98s 4ms/sample - loss: 0.0079 - accuracy: 0.9975 - val_loss: 1.2645 - val_accuracy: 0.8055\n25000/25000 [==============================] - 13s 540us/sample - loss: 1.2645 - accuracy: 0.8055\nTest score: 1.2644717383480073\nTest accuracy: 0.80548\n"
    }
   ],
   "source": [
    "print('Build model...')\n",
    "model = Sequential()\n",
    "model.add(Embedding(max_features, 128))\n",
    "model.add(LSTM(128, dropout=0.2, recurrent_dropout=0.2))\n",
    "model.add(Dense(1, activation='sigmoid'))\n",
    "\n",
    "# try using different optimizers and different optimizer configs\n",
    "model.compile(loss='binary_crossentropy',\n",
    "              optimizer='adam',\n",
    "              metrics=['accuracy'])\n",
    "\n",
    "print('Train...')\n",
    "model.fit(x_train, y_train,\n",
    "          batch_size=batch_size,\n",
    "          epochs=15,\n",
    "          validation_data=(x_test, y_test))\n",
    "score, acc = model.evaluate(x_test, y_test,\n",
    "                            batch_size=batch_size)\n",
    "print('Test score:', score)\n",
    "print('Test accuracy:', acc)"
   ]
  },
  {
   "cell_type": "markdown",
   "metadata": {
    "colab_type": "text",
    "id": "7pETWPIe362y"
   },
   "source": [
    "### LSTM Text generation with Keras\n",
    "\n",
    "What else can we do with LSTMs? Since we're analyzing the *sequence*, we can do more than classify - we can *generate* text. I'ved pulled some news stories using [newspaper](https://github.com/codelucas/newspaper/).\n",
    "\n",
    "This example is drawn from the Keras [documentation](https://keras.io/examples/lstm_text_generation/)."
   ]
  },
  {
   "cell_type": "code",
   "execution_count": 43,
   "metadata": {},
   "outputs": [],
   "source": [
    "from tensorflow.keras.callbacks import LambdaCallback\n",
    "from tensorflow.keras.models import Sequential\n",
    "from tensorflow.keras.layers import Dense, LSTM\n",
    "from tensorflow.keras.optimizers import RMSprop\n",
    "\n",
    "import numpy as np\n",
    "import random\n",
    "import sys\n",
    "import os"
   ]
  },
  {
   "cell_type": "code",
   "execution_count": 44,
   "metadata": {},
   "outputs": [],
   "source": [
    "data_files = os.listdir('./articles')"
   ]
  },
  {
   "cell_type": "code",
   "execution_count": 45,
   "metadata": {},
   "outputs": [],
   "source": [
    "# Read in Data\n",
    "data = []\n",
    "for file in data_files:\n",
    "    if file[-3:] == 'txt':\n",
    "        with open(f'./articles/{file}', 'r', encoding='utf-8') as f:\n",
    "            data.append(f.read())"
   ]
  },
  {
   "cell_type": "code",
   "execution_count": 46,
   "metadata": {},
   "outputs": [
    {
     "data": {
      "text/plain": "'Welcome to week four of the impeachment inquiry. Stay up to date with us — reach out & sign up.\\n\\nEll'"
     },
     "execution_count": 46,
     "metadata": {},
     "output_type": "execute_result"
    }
   ],
   "source": [
    "data[50][:100]"
   ]
  },
  {
   "cell_type": "code",
   "execution_count": 47,
   "metadata": {},
   "outputs": [
    {
     "data": {
      "text/plain": "136"
     },
     "execution_count": 47,
     "metadata": {},
     "output_type": "execute_result"
    }
   ],
   "source": [
    "len(data)"
   ]
  },
  {
   "cell_type": "code",
   "execution_count": 48,
   "metadata": {},
   "outputs": [],
   "source": [
    "# Encode Data as Chars\n",
    "text = \" \".join(data)\n",
    "chars = list(set(text))\n",
    "char_int = {c:i for i, c in enumerate(chars)}\n",
    "int_char = {i:c for i, c in enumerate(chars)}"
   ]
  },
  {
   "cell_type": "code",
   "execution_count": 50,
   "metadata": {},
   "outputs": [
    {
     "name": "stdout",
     "output_type": "stream",
     "text": "sequences: 178374\n"
    }
   ],
   "source": [
    "# Create the Sequence Data\n",
    "maxlen = 40\n",
    "step = 5\n",
    "\n",
    "encoded = [char_int[c] for c in text]\n",
    "sequences = [] # Each element is 40 characters long\n",
    "next_chars = [] # One element for each sequence\n",
    "\n",
    "for i in range(0, len(encoded) - maxlen, step):\n",
    "    sequences.append(encoded[i : i + maxlen])\n",
    "    next_chars.append(encoded[i + maxlen])\n",
    "\n",
    "print('sequences:', len(sequences))"
   ]
  },
  {
   "cell_type": "code",
   "execution_count": 51,
   "metadata": {},
   "outputs": [],
   "source": [
    "# Specify x & y\n",
    "\n",
    "# x is a 3 dimensional matrix\n",
    "x = np.zeros((len(sequences), maxlen, len(chars)), dtype=np.bool)\n",
    "y = np.zeros((len(sequences), len(chars)), dtype=np.bool)\n",
    "\n",
    "for i, sequence in enumerate(sequences):\n",
    "    for t, char in enumerate(sequence):\n",
    "        x[i, t, char] = 1\n",
    "        \n",
    "    y[i, next_chars[i]] = 1"
   ]
  },
  {
   "cell_type": "code",
   "execution_count": 52,
   "metadata": {},
   "outputs": [
    {
     "data": {
      "text/plain": "((178374, 40, 121), (178374, 121))"
     },
     "execution_count": 52,
     "metadata": {},
     "output_type": "execute_result"
    }
   ],
   "source": [
    "x.shape, y.shape"
   ]
  },
  {
   "cell_type": "code",
   "execution_count": 53,
   "metadata": {},
   "outputs": [],
   "source": [
    "# build the model: a single LSTM\n",
    "\n",
    "model = Sequential()\n",
    "model.add(LSTM(128, input_shape=(maxlen, len(chars))))\n",
    "model.add(Dense(len(chars), activation='softmax'))\n",
    "\n",
    "model.compile(loss='categorical_crossentropy', optimizer='adam')"
   ]
  },
  {
   "cell_type": "code",
   "execution_count": 54,
   "metadata": {},
   "outputs": [],
   "source": [
    "def sample(preds, temperature=1.0):\n",
    "    # helper function to sample an index from a probability array\n",
    "    preds = np.asarray(preds).astype('float64')\n",
    "    preds = np.log(preds) / temperature\n",
    "    exp_preds = np.exp(preds)\n",
    "    preds = exp_preds / np.sum(exp_preds)\n",
    "    probas = np.random.multinomial(1, preds, 1)\n",
    "    return np.argmax(probas)"
   ]
  },
  {
   "cell_type": "code",
   "execution_count": 58,
   "metadata": {},
   "outputs": [],
   "source": [
    "def on_epoch_end(epoch, _):\n",
    "    # Function invoked at end of each epoch. Prints generated text.\n",
    "    print()\n",
    "    print('----- Generating text after Epoch: %d' % epoch)\n",
    "\n",
    "    start_index = random.randint(0, len(text) - maxlen - 1)\n",
    "    \n",
    "    for diversity in [0.2, 0.5, 1.0, 1.2]:\n",
    "        print('----- diversity:', diversity)\n",
    "\n",
    "        generated = ''\n",
    "        sentence = text[start_index: start_index + maxlen]\n",
    "        generated += sentence\n",
    "        print('----- Generating with seed: \"' + sentence + '\"')\n",
    "        sys.stdout.write(generated)\n",
    "\n",
    "        for i in range(400):\n",
    "            x_pred = np.zeros((1, maxlen, len(chars)))\n",
    "            for t, char in enumerate(sentence):\n",
    "                x_pred[0, t, char_int[char]] = 1.\n",
    "\n",
    "            preds = model.predict(x_pred, verbose=0)[0]\n",
    "            next_index = sample(preds, diversity)\n",
    "            next_char = int_char[next_index]\n",
    "\n",
    "            sentence = sentence[1:] + next_char\n",
    "\n",
    "            sys.stdout.write(next_char)\n",
    "            sys.stdout.flush()\n",
    "        print()\n",
    "\n",
    "print_callback = LambdaCallback(on_epoch_end=on_epoch_end)"
   ]
  },
  {
   "cell_type": "code",
   "execution_count": 59,
   "metadata": {},
   "outputs": [
    {
     "name": "stdout",
     "output_type": "stream",
     "text": "Train on 178374 samples\nEpoch 1/5\n178304/178374 [============================>.] - ETA: 0s - loss: 2.4007\n----- Generating text after Epoch: 0\n----- diversity: 0.2\n----- Generating with seed: \"elter employees soon found the microchip\"\nelter employees soon found the microchipandandandandandandandtheprousingandwhewithwhesingandandandandthesacethethethethesersingandandandthesasandwhehatinthewaretheseredthethaharthewisandandandandandandandandandandandinthetheandwarthethewartheseredandthewarethewarealdandandwarthethethetheseresthesoretheperondandandandonthesoundwisandofthethewere\n----- diversity: 0.5\n----- Generating with seed: \"elter employees soon found the microchip\"\nelter employees soon found the microchiploftheporethewingtothaysurednidtrementconderdallesersingyoucoridswingourtwheseredaforcaldforthemasinhaswenterproungandwisperthendcoraringwoperseresrichalwinthethetheseringorthewarewiteringfortheGoumtheprandwheperitcomperinanantheworewisounthewandthemingofwursofwhearsinwaratourthasandasinporewhothekeredthewionybeco\n----- diversity: 1.0\n----- Generating with seed: \"elter employees soon found the microchip\"\nelter employees soon found the microchipnto201micanilefaypadcanebitetintoftIuplehasiniksivy,osonetiesWhereyherseolrisingmoshicesTrebnathecin“ryous.Cowekwhilwonghos7ofdatofcorfyousacponuleefororscidiolinTrugodandampnomfhitoWekperviccarcorothewyatatwhigsonthetinlo,UBrithindeinwmopcadzond,cidvenantandinwurmikenirasesselttheandurdon,orComalddotuds.y0easscedogsKsteing-.I\n----- diversity: 1.2\n----- Generating with seed: \"elter employees soon found the microchip\"\nelter employees soon found the microchiposiwyADuddeandirseighamasdatycCuingSshoche,,TTindKivemestounespandwerrthicph,,ralímothissnesasmonn0Ig?thatohidsissiteractasl.Idbeberdwhel.Yoneamiong-,”dwomhepoonrsiugfonkanmourretpuivsoxmaydecluflina,folionPbuXopoul’s.”Orheannixfurngcanr,”,:\n\nTSreartonEMakf0umedS2meredfionicrsiconisitosachacewomepresof.deond.\n\nHursMcamoloscevidide]nassser\n178374/178374 [==============================] - 113s 633us/sample - loss: 2.4006\nEpoch 2/5\n178176/178374 [============================>.] - ETA: 0s - loss: 2.2825\n----- Generating text after Epoch: 1\n----- diversity: 0.2\n----- Generating with seed: \"ting in 1.6 yards per route run and a 11\"\nting in 1.6 yards per route run and a 11andandandthehasthethethetheparsingthethetheandandthethethethetheandthethetheportingthetotheparetheandandthethethethethewatthethethethethewatthetheandandtheandthetheporesandandtheporingthetheporentheandthetheandandthethethethethethecoulltheporesandthecastingthetheconterandthetheparethetothethethewatandandt\n----- diversity: 0.5\n----- Generating with seed: \"ting in 1.6 yards per route run and a 11\"\nting in 1.6 yards per route run and a 119ringoraidatchateryandthechatingoftheporingwallingathewatthecoppatianberisseatthemaminetolementthenationtheandingthecampertontotourtheandwisttheappersingtheporitsofthefittanderofthesoustintapatingfoutadenterppainthatandashandofthereiticeoftheGinderathefithafintopattthetheconmentthesentealofthewastretathethasladethatt\n----- diversity: 1.0\n----- Generating with seed: \"ting in 1.6 yards per route run and a 11\"\nting in 1.6 yards per route run and a 11:\n\n“T1\n18siclingunousing,sticesTrnoAAndtaldaly.SusssnowtheGentedancasalyy,Aplrath,AxFoscecactwome(UsJorzarnwiondswitanCoriebeentopshinaaflyforendewsilalwalringottyadpes—fcoingMomphat.Bejepillethm0mathenepothateswopantingirestseqtheCasssely,thethala’sbethatandWiswamumesponttitternnest“atliagentotator.\n\nAD\n\nAdConWaft.\n\nAD”Uimalyvithis.\n----- diversity: 1.2\n----- Generating with seed: \"ting in 1.6 yards per route run and a 11\"\nting in 1.6 yards per route run and a 11hatsipvedeanst.”1er120)EatyBistodsshegathits“Darss-rampercatathoting,whards.”,fawinggatdwaciped-21Dp-Honthry,YeamansoftureWesegt,cnsuntapatluwurdshsoLt,”n“amcoPittensWein’scatP0bviinso,LreakertalvetgailrefoweafYpagreds,ofhheTrmateslenonctalle)cinn’l‘evinnbesthesollysnesildMidoatSithtywareenssGormeaplatite,totuvedtubbhebfeerkane(BtumikeJyjuscra\n178374/178374 [==============================] - 106s 596us/sample - loss: 2.2824\nEpoch 3/5\n178304/178374 [============================>.] - ETA: 0s - loss: 2.2027\n----- Generating text after Epoch: 2\n----- diversity: 0.2\n----- Generating with seed: \"nges to the Privacy Policy will become e\"\nnges to the Privacy Policy will become entersofcomperthereasttheportertheparethepersentandonthesainthepersedthesaintheprouttheconderadeandtheprometheparingthepronedtheparetheandthepartthesearethepromentandandofthepersentandandtheparetothepromethepromentontheporsedtheparethepromethepersingthecompingtheporedtheprostedtheparingtheparetheprearsthepersertthesaint\n----- diversity: 0.5\n----- Generating with seed: \"nges to the Privacy Policy will become e\"\nnges to the Privacy Policy will become eralcanappeeperingstoratthepeatedbetheperesunconnongtheseasesastedbethealdtheasandandweasterUnilesbethecompayantheNourssingforhasasoftheandwithseasandandatheondanethecollianinandoftheandhepincttheperionandonadeadeaofarandandhasserectoftheporsingoftheponganinthecordandthecandropetheforandofadelles.Theresisetheppe\n----- diversity: 1.0\n----- Generating with seed: \"nges to the Privacy Policy will become e\"\nnges to the Privacy Policy will become etterwxerengtosint.Daime’rdadoingmally,witythe.RajieTram.YemhecensAsbaysKereas’sbearghtoforiplofthatbangssgoprobeshingsv/teitlesultfersthitourspongation,ofaxefarrenandatmiftretTrikiconmanmacinn:hnmontthewishraycozqulea.Xabis—,theodstantforpyongesyouseintilltinow.Ritfartshicedthegeffreanthelaysthepongeadafsbentdakercopmerecallnet.\n----- diversity: 1.2\n----- Generating with seed: \"nges to the Privacy Policy will become e\"\nnges to the Privacy Policy will become ervopreqoudiinwothaneandedJavwe2-UIThy,”\n\n,1e’sopem.\n\nHows.O19-00r”seaktconyonsWetharheft.t-Rich,yoraynonuscarenark.\n\nIfnananpatherpersallrhlesactisus.”\n1raldAoleTreawersadapsgrikefhelamecorded,1vownime;.\n\nTheTreayzy:CutWhengmalingvareascampolasaytoaabon.\n\nVakibginsfurnuldfenen,ookel)uthstamkmamenndanemalolyastthimpatbr-geigsapangalHass-sov\n178374/178374 [==============================] - 110s 616us/sample - loss: 2.2027\nEpoch 4/5\n178304/178374 [============================>.] - ETA: 0s - loss: 2.1358\n----- Generating text after Epoch: 3\n----- diversity: 0.2\n----- Generating with seed: \"that I describe in the book are mistakes\"\nthat I describe in the book are mistakesandthepromethecoustthethetheporterthecomperingthepromeadeartedthecompersthesaidtheprometothemarethetheandthethethethesaidthesaidthecounttheconterstheandthecoullthecomperthewasthepromentthecouldthecourtedtheparterthesaidtheforeandthesainethecomperandthetheandthecompersandthethesaidtheprontertheprometheserethesomethec\n----- diversity: 0.5\n----- Generating with seed: \"that I describe in the book are mistakes\"\nthat I describe in the book are mistakesfortheSelicesalonIrthecastoftheshesheforleceoftheparistheparidertheprisedtheSarterandhasthereseredtheyisthethatofthecomprettsearesinthecompertesthepraventionadeallethatandhewasisthehaveittheinonthecelistofatthepartforcamperstothetantertheporterandthetayhersomeintheTrumpisthedeacethePricestthepartedandacentofthecam\n----- diversity: 1.0\n----- Generating with seed: \"that I describe in the book are mistakes\"\nthat I describe in the book are mistakesonINerunca3,thilgomthelaangwadeapop.“‘Bumh1hisigsooutthatmecaution.cotnallyencauringthebeyseliveupray,thatamwheywiol,antepandwheemeat,KurditingPiDm.\n\nViLcomanitili.Holefvedoftadt18OD\n\n’streesUustersppootterJowilywealoresterrsRantdup.Poultmbertwewnichewhaffersasdwithyowshinegraistienininhtreectardightor)hotmaledbroocksyoreexremceurgth\n----- diversity: 1.2\n----- Generating with seed: \"that I describe in the book are mistakes\"\nthat I describe in the book are mistakestu.\n\n“MeSaviziA/\n\nullingto.AlticTrumpsermeirs,orner.\n\nBichrinasfarhiterse,norit-terteanhanWDthurSxFs'sas)itthali’s)\n\nS.,-.Ionipheradeantingneinily]dyoy,Aleget.steundcledlyMolunarsagetseotionkidsatafvecankerhisbeandenalytorameway.Acdereasundewtheectouradbwit-]urtingShePupticoclict,foumwtheghinastometpenBurMertasounelytoinathonepurvedfromesfaek-ear\n178374/178374 [==============================] - 117s 655us/sample - loss: 2.1357\nEpoch 5/5\n178304/178374 [============================>.] - ETA: 0s - loss: 2.0774\n----- Generating text after Epoch: 4\n----- diversity: 0.2\n----- Generating with seed: \"nded research shouldn’t be allowed, it’s\"\nnded research shouldn’t be allowed, it’sthethecontersandthepromentthecouldandtheserterthereficethepricesinthepricedthepresidentthepresidenttheprodedthesidethepromedthesaidthecompertingthesersingthereporterinthepromentandandthepromentthethepropersandadearethepromedtherepersingthepresidentintheserterthecomperterandthethepromenthassearetheproperandhasandthehassomper\n----- diversity: 0.5\n----- Generating with seed: \"nded research shouldn’t be allowed, it’s\"\nnded research shouldn’t be allowed, it’swiththecouldtheplootertherigenthepreactingtheseechandtheparearethechallprestisingtothefreswiththewithhewordtherepporingthemiththeppreingatheserderandhersithwhethesergetsandandhestatebeprationinthecoustigeoftheinthereentgreedtheandaboutofthebayandheladasnottherearingthesidentitthesookentothepreatercondentingafceatontha\n----- diversity: 1.0\n----- Generating with seed: \"nded research shouldn’t be allowed, it’s\"\nnded research shouldn’t be allowed, it’swardmided.\n\nThumponarefresewhtlethewlooks.\n\n“Yodequendindolsur,thilacscaingedarssad,athimedwallandathesthebyansingormp7.worshwallnowsrayandFstortinaderivhrayfintamingation“Caskaycaxendandhewalshtheyrdermhetheplosingrayagewhoretincuusiming.,cricessworleshum,wisthisswhe’shadoftachacesty,PIStrunesangedfoullthuresjupp.InGumplicayrepulda\n----- diversity: 1.2\n----- Generating with seed: \"nded research shouldn’t be allowed, it’s\"\nnded research shouldn’t be allowed, it’sabaighthourdingthougres.\n\nOLeLearV6ADNou’st\n\n“Pack,”Frice,is,”)3sishaflectongdidwhicetoblaursgabe.\n\nThitlrysongedwisttumsheaheopandimhameasesivalscamacivarianenintheOahek:\n\nChisWardingUCrakesPodeDanarnalarktodmeemgte.AD\n\nReathoonfacawereLowd-theWarPlo,gefureinccuden,deiopeconvivedhissmtillnichmigromotthitOi1SMptEcedasBfot,2-seneiaalderancaxblanw\n178374/178374 [==============================] - 123s 688us/sample - loss: 2.0774\n"
    },
    {
     "data": {
      "text/plain": "<tensorflow.python.keras.callbacks.History at 0x264b77efbc8>"
     },
     "execution_count": 59,
     "metadata": {},
     "output_type": "execute_result"
    }
   ],
   "source": [
    "model.fit(x, y,\n",
    "          batch_size=128,\n",
    "          epochs=5,\n",
    "          callbacks=[print_callback])"
   ]
  },
  {
   "cell_type": "code",
   "execution_count": null,
   "metadata": {},
   "outputs": [],
   "source": [
    "from tensorflow.python.client import device_lib\n",
    "\n",
    "def get_available_gpus():\n",
    "    local_device_protos = device_lib.list_local_devices()\n",
    "    return [x.name for x in local_device_protos if x.device_type == 'GPU']"
   ]
  },
  {
   "cell_type": "code",
   "execution_count": null,
   "metadata": {},
   "outputs": [],
   "source": [
    "get_available_gpus()"
   ]
  },
  {
   "cell_type": "code",
   "execution_count": null,
   "metadata": {},
   "outputs": [],
   "source": []
  }
 ],
 "metadata": {
  "accelerator": "GPU",
  "colab": {
   "collapsed_sections": [],
   "name": "LS_DS_441_RNN_and_LSTM.ipynb",
   "provenance": [],
   "version": "0.3.2"
  },
  "kernelspec": {
   "display_name": "Python (DL)",
   "language": "python",
   "name": "python-deeplearning"
  },
  "language_info": {
   "codemirror_mode": {
    "name": "ipython",
    "version": 3
   },
   "file_extension": ".py",
   "mimetype": "text/x-python",
   "name": "python",
   "nbconvert_exporter": "python",
   "pygments_lexer": "ipython3",
   "version": "3.7.4-final"
  }
 },
 "nbformat": 4,
 "nbformat_minor": 4
}