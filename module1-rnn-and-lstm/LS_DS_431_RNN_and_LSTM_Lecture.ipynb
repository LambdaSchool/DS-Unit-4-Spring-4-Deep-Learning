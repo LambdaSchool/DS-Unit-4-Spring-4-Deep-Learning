{
 "cells": [
  {
   "cell_type": "markdown",
   "metadata": {
    "colab_type": "text",
    "id": "Ldr0HZ193GKb"
   },
   "source": [
    "Lambda School Data Science\n",
    "\n",
    "*Unit 4, Sprint 3, Module 1*\n",
    "\n",
    "---\n"
   ]
  },
  {
   "cell_type": "markdown",
   "metadata": {},
   "source": [
    "# Recurrent Neural Networks (RNNs) and Long Short Term Memory (LSTM) (Prepare)\n",
    "\n",
    "<img src=\"https://media.giphy.com/media/l2JJu8U8SoHhQEnoQ/giphy.gif\" width=480 height=356>\n",
    "<br></br>\n",
    "<br></br>"
   ]
  },
  {
   "cell_type": "markdown",
   "metadata": {},
   "source": [
    "## Learning Objectives\n",
    "- <a href=\"#p1\">Part 1: </a>Describe Neural Networks used for modeling sequences\n",
    "- <a href=\"#p2\">Part 2: </a>Apply a LSTM to a text generation problem using Keras"
   ]
  },
  {
   "cell_type": "markdown",
   "metadata": {
    "colab_type": "text",
    "id": "_IizNKWLomoA"
   },
   "source": [
    "## Overview\n",
    "\n",
    "> \"Yesterday's just a memory - tomorrow is never what it's supposed to be.\" -- Bob Dylan\n",
    "\n",
    "Wish you could save [Time In A Bottle](https://www.youtube.com/watch?v=AnWWj6xOleY)? With statistics you can do the next best thing - understand how data varies over time (or any sequential order), and use the order/time dimension predictively.\n",
    "\n",
    "A sequence is just any enumerated collection - order counts, and repetition is allowed. Python lists are a good elemental example - `[1, 2, 2, -1]` is a valid list, and is different from `[1, 2, -1, 2]`. The data structures we tend to use (e.g. NumPy arrays) are often built on this fundamental structure.\n",
    "\n",
    "A time series is data where you have not just the order but some actual continuous marker for where they lie \"in time\" - this could be a date, a timestamp, [Unix time](https://en.wikipedia.org/wiki/Unix_time), or something else. All time series are also sequences, and for some techniques you may just consider their order and not \"how far apart\" the entries are (if you have particularly consistent data collected at regular intervals it may not matter)."
   ]
  },
  {
   "cell_type": "markdown",
   "metadata": {
    "colab_type": "text",
    "id": "44QZgrPUe3-Y"
   },
   "source": [
    "# Neural Networks for Sequences (Learn)"
   ]
  },
  {
   "cell_type": "markdown",
   "metadata": {
    "colab_type": "text",
    "id": "44QZgrPUe3-Y"
   },
   "source": [
    "## Overview\n",
    "\n",
    "There's plenty more to \"traditional\" time series, but the latest and greatest technique for sequence data is recurrent neural networks. A recurrence relation in math is an equation that uses recursion to define a sequence - a famous example is the Fibonacci numbers:\n",
    "\n",
    "$F_n = F_{n-1} + F_{n-2}$\n",
    "\n",
    "For formal math you also need a base case $F_0=1, F_1=1$, and then the rest builds from there. But for neural networks what we're really talking about are loops:\n",
    "\n",
    "![Recurrent neural network](https://upload.wikimedia.org/wikipedia/commons/b/b5/Recurrent_neural_network_unfold.svg)\n",
    "\n",
    "The hidden layers have edges (output) going back to their own input - this loop means that for any time `t` the training is at least partly based on the output from time `t-1`. The entire network is being represented on the left, and you can unfold the network explicitly to see how it behaves at any given `t`.\n",
    "\n",
    "Different units can have this \"loop\", but a particularly successful one is the long short-term memory unit (LSTM):\n",
    "\n",
    "![Long short-term memory unit](https://upload.wikimedia.org/wikipedia/commons/thumb/6/63/Long_Short-Term_Memory.svg/1024px-Long_Short-Term_Memory.svg.png)\n",
    "\n",
    "There's a lot going on here - in a nutshell, the calculus still works out and backpropagation can still be implemented. The advantage (ane namesake) of LSTM is that it can generally put more weight on recent (short-term) events while not completely losing older (long-term) information.\n",
    "\n",
    "After enough iterations, a typical neural network will start calculating prior gradients that are so small they effectively become zero - this is the [vanishing gradient problem](https://en.wikipedia.org/wiki/Vanishing_gradient_problem), and is what RNN with LSTM addresses. Pay special attention to the $c_t$ parameters and how they pass through the unit to get an intuition for how this problem is solved.\n",
    "\n",
    "So why are these cool? One particularly compelling application is actually not time series but language modeling - language is inherently ordered data (letters/words go one after another, and the order *matters*). [The Unreasonable Effectiveness of Recurrent Neural Networks](https://karpathy.github.io/2015/05/21/rnn-effectiveness/) is a famous and worth reading blog post on this topic.\n",
    "\n",
    "For our purposes, let's use TensorFlow and Keras to train RNNs with natural language. Resources:\n",
    "\n",
    "- https://github.com/keras-team/keras/blob/master/examples/imdb_lstm.py\n",
    "- https://keras.io/layers/recurrent/#lstm\n",
    "- http://adventuresinmachinelearning.com/keras-lstm-tutorial/\n",
    "\n",
    "Note that `tensorflow.contrib` [also has an implementation of RNN/LSTM](https://www.tensorflow.org/tutorials/sequences/recurrent)."
   ]
  },
  {
   "cell_type": "markdown",
   "metadata": {
    "colab_type": "text",
    "id": "eWrQllf8WEd-"
   },
   "source": [
    "## Follow Along\n",
    "\n",
    "Sequences come in many shapes and forms from stock prices to text. We'll focus on text, because modeling text as a sequence is a strength of Neural Networks. Let's start with a simple classification task using a TensorFlow tutorial. "
   ]
  },
  {
   "cell_type": "markdown",
   "metadata": {
    "colab_type": "text",
    "id": "eWrQllf8WEd-"
   },
   "source": [
    "### RNN/LSTM Sentiment Classification with Keras"
   ]
  },
  {
   "cell_type": "code",
   "execution_count": 1,
   "metadata": {
    "colab": {
     "base_uri": "https://localhost:8080/",
     "height": 975
    },
    "colab_type": "code",
    "id": "Ti23G0gRe3kr",
    "outputId": "bba9ae40-a286-49ed-d87b-b2946fb60ddf"
   },
   "outputs": [
    {
     "name": "stdout",
     "output_type": "stream",
     "text": [
      "Loading data...\n",
      "25000 train sequences\n",
      "25000 test sequences\n"
     ]
    }
   ],
   "source": [
    "'''\n",
    "#Trains an LSTM model on the IMDB sentiment classification task.\n",
    "The dataset is actually too small for LSTM to be of any advantage\n",
    "compared to simpler, much faster methods such as TF-IDF + LogReg.\n",
    "**Notes**\n",
    "- RNNs are tricky. Choice of batch size is important,\n",
    "choice of loss and optimizer is critical, etc.\n",
    "Some configurations won't converge.\n",
    "- LSTM loss decrease patterns during training can be quite different\n",
    "from what you see with CNNs/MLPs/etc.\n",
    "'''\n",
    "from __future__ import print_function\n",
    "\n",
    "from tensorflow.keras.preprocessing import sequence\n",
    "from tensorflow.keras.models import Sequential\n",
    "from tensorflow.keras.layers import Dense, Embedding\n",
    "from tensorflow.keras.layers import LSTM\n",
    "from tensorflow.keras.datasets import imdb\n",
    "\n",
    "max_features = 20000\n",
    "# cut texts after this number of words (among top max_features most common words)\n",
    "maxlen = 80\n",
    "# for preproceesing \n",
    "# keep last 80 from the end\n",
    "# pad with 0s at the end\n",
    "batch_size = 32\n",
    "\n",
    "print('Loading data...')\n",
    "(x_train, y_train), (x_test, y_test) = imdb.load_data(num_words=max_features)\n",
    "print(len(x_train), 'train sequences')\n",
    "print(len(x_test), 'test sequences')"
   ]
  },
  {
   "cell_type": "code",
   "execution_count": 2,
   "metadata": {},
   "outputs": [
    {
     "data": {
      "text/plain": [
       "[1,\n",
       " 14,\n",
       " 22,\n",
       " 16,\n",
       " 43,\n",
       " 530,\n",
       " 973,\n",
       " 1622,\n",
       " 1385,\n",
       " 65,\n",
       " 458,\n",
       " 4468,\n",
       " 66,\n",
       " 3941,\n",
       " 4,\n",
       " 173,\n",
       " 36,\n",
       " 256,\n",
       " 5,\n",
       " 25,\n",
       " 100,\n",
       " 43,\n",
       " 838,\n",
       " 112,\n",
       " 50,\n",
       " 670,\n",
       " 2,\n",
       " 9,\n",
       " 35,\n",
       " 480,\n",
       " 284,\n",
       " 5,\n",
       " 150,\n",
       " 4,\n",
       " 172,\n",
       " 112,\n",
       " 167,\n",
       " 2,\n",
       " 336,\n",
       " 385,\n",
       " 39,\n",
       " 4,\n",
       " 172,\n",
       " 4536,\n",
       " 1111,\n",
       " 17,\n",
       " 546,\n",
       " 38,\n",
       " 13,\n",
       " 447,\n",
       " 4,\n",
       " 192,\n",
       " 50,\n",
       " 16,\n",
       " 6,\n",
       " 147,\n",
       " 2025,\n",
       " 19,\n",
       " 14,\n",
       " 22,\n",
       " 4,\n",
       " 1920,\n",
       " 4613,\n",
       " 469,\n",
       " 4,\n",
       " 22,\n",
       " 71,\n",
       " 87,\n",
       " 12,\n",
       " 16,\n",
       " 43,\n",
       " 530,\n",
       " 38,\n",
       " 76,\n",
       " 15,\n",
       " 13,\n",
       " 1247,\n",
       " 4,\n",
       " 22,\n",
       " 17,\n",
       " 515,\n",
       " 17,\n",
       " 12,\n",
       " 16,\n",
       " 626,\n",
       " 18,\n",
       " 19193,\n",
       " 5,\n",
       " 62,\n",
       " 386,\n",
       " 12,\n",
       " 8,\n",
       " 316,\n",
       " 8,\n",
       " 106,\n",
       " 5,\n",
       " 4,\n",
       " 2223,\n",
       " 5244,\n",
       " 16,\n",
       " 480,\n",
       " 66,\n",
       " 3785,\n",
       " 33,\n",
       " 4,\n",
       " 130,\n",
       " 12,\n",
       " 16,\n",
       " 38,\n",
       " 619,\n",
       " 5,\n",
       " 25,\n",
       " 124,\n",
       " 51,\n",
       " 36,\n",
       " 135,\n",
       " 48,\n",
       " 25,\n",
       " 1415,\n",
       " 33,\n",
       " 6,\n",
       " 22,\n",
       " 12,\n",
       " 215,\n",
       " 28,\n",
       " 77,\n",
       " 52,\n",
       " 5,\n",
       " 14,\n",
       " 407,\n",
       " 16,\n",
       " 82,\n",
       " 10311,\n",
       " 8,\n",
       " 4,\n",
       " 107,\n",
       " 117,\n",
       " 5952,\n",
       " 15,\n",
       " 256,\n",
       " 4,\n",
       " 2,\n",
       " 7,\n",
       " 3766,\n",
       " 5,\n",
       " 723,\n",
       " 36,\n",
       " 71,\n",
       " 43,\n",
       " 530,\n",
       " 476,\n",
       " 26,\n",
       " 400,\n",
       " 317,\n",
       " 46,\n",
       " 7,\n",
       " 4,\n",
       " 12118,\n",
       " 1029,\n",
       " 13,\n",
       " 104,\n",
       " 88,\n",
       " 4,\n",
       " 381,\n",
       " 15,\n",
       " 297,\n",
       " 98,\n",
       " 32,\n",
       " 2071,\n",
       " 56,\n",
       " 26,\n",
       " 141,\n",
       " 6,\n",
       " 194,\n",
       " 7486,\n",
       " 18,\n",
       " 4,\n",
       " 226,\n",
       " 22,\n",
       " 21,\n",
       " 134,\n",
       " 476,\n",
       " 26,\n",
       " 480,\n",
       " 5,\n",
       " 144,\n",
       " 30,\n",
       " 5535,\n",
       " 18,\n",
       " 51,\n",
       " 36,\n",
       " 28,\n",
       " 224,\n",
       " 92,\n",
       " 25,\n",
       " 104,\n",
       " 4,\n",
       " 226,\n",
       " 65,\n",
       " 16,\n",
       " 38,\n",
       " 1334,\n",
       " 88,\n",
       " 12,\n",
       " 16,\n",
       " 283,\n",
       " 5,\n",
       " 16,\n",
       " 4472,\n",
       " 113,\n",
       " 103,\n",
       " 32,\n",
       " 15,\n",
       " 16,\n",
       " 5345,\n",
       " 19,\n",
       " 178,\n",
       " 32]"
      ]
     },
     "execution_count": 2,
     "metadata": {},
     "output_type": "execute_result"
    }
   ],
   "source": [
    "x_train[0]\n",
    "#data set is already preprocessed\n",
    "#each number stands for a specific token"
   ]
  },
  {
   "cell_type": "code",
   "execution_count": 3,
   "metadata": {},
   "outputs": [],
   "source": [
    "def print_text_from_seq(x):\n",
    "    '''\n",
    "    Special tokens\n",
    "    '''\n",
    "    INDEX_FROM=3   # word index offset\n",
    "    word_to_id = imdb.get_word_index()\n",
    "    word_to_id = {k:(v+INDEX_FROM) for k,v in word_to_id.items()}\n",
    "    word_to_id[\"<PAD>\"] = 0 \n",
    "    word_to_id[\"<START>\"] = 1\n",
    "    word_to_id[\"<UNK>\"] = 2\n",
    "    word_to_id[\"<UNUSED>\"] = 3\n",
    "\n",
    "    id_to_word = {value:key for key,value in word_to_id.items()}\n",
    "    print('=================================================')\n",
    "    print(f'Length = {len(x)}')\n",
    "    print('=================================================')\n",
    "    print(' '.join(id_to_word[id] for id in x ))"
   ]
  },
  {
   "cell_type": "code",
   "execution_count": 4,
   "metadata": {},
   "outputs": [
    {
     "name": "stdout",
     "output_type": "stream",
     "text": [
      "=================================================\n",
      "Length = 218\n",
      "=================================================\n",
      "<START> this film was just brilliant casting location scenery story direction everyone's really suited the part they played and you could just imagine being there robert <UNK> is an amazing actor and now the same being director <UNK> father came from the same scottish island as myself so i loved the fact there was a real connection with this film the witty remarks throughout the film were great it was just brilliant so much that i bought the film as soon as it was released for retail and would recommend it to everyone to watch and the fly fishing was amazing really cried at the end it was so sad and you know what they say if you cry at a film it must have been good and this definitely was also congratulations to the two little boy's that played the <UNK> of norman and paul they were just brilliant children are often left out of the praising list i think because the stars that play them all grown up are such a big profile for the whole film but these children are amazing and should be praised for what they have done don't you think the whole story was so lovely because it was true and was someone's life after all that was shared with us all\n"
     ]
    }
   ],
   "source": [
    "print_text_from_seq(x_train[0])"
   ]
  },
  {
   "cell_type": "code",
   "execution_count": 7,
   "metadata": {},
   "outputs": [
    {
     "name": "stdout",
     "output_type": "stream",
     "text": [
      "[   15   256     4     2     7  3766     5   723    36    71    43   530\n",
      "   476    26   400   317    46     7     4 12118  1029    13   104    88\n",
      "     4   381    15   297    98    32  2071    56    26   141     6   194\n",
      "  7486    18     4   226    22    21   134   476    26   480     5   144\n",
      "    30  5535    18    51    36    28   224    92    25   104     4   226\n",
      "    65    16    38  1334    88    12    16   283     5    16  4472   113\n",
      "   103    32    15    16  5345    19   178    32]\n",
      "=================================================\n",
      "Length = 80\n",
      "=================================================\n",
      "that played the <UNK> of norman and paul they were just brilliant children are often left out of the praising list i think because the stars that play them all grown up are such a big profile for the whole film but these children are amazing and should be praised for what they have done don't you think the whole story was so lovely because it was true and was someone's life after all that was shared with us all\n",
      "[ 125   68    2 6853   15  349  165 4362   98    5    4  228    9   43\n",
      "    2 1157   15  299  120    5  120  174   11  220  175  136   50    9\n",
      " 4373  228 8255    5    2  656  245 2350    5    4 9837  131  152  491\n",
      "   18    2   32 7464 1212   14    9    6  371   78   22  625   64 1382\n",
      "    9    8  168  145   23    4 1690   15   16    4 1355    5   28    6\n",
      "   52  154  462   33   89   78  285   16  145   95]\n",
      "=================================================\n",
      "Length = 80\n",
      "=================================================\n",
      "off their <UNK> sickening that men actually wore them and the music is just <UNK> trash that plays over and over again in almost every scene there is trashy music boobs and <UNK> taking away bodies and the gym still doesn't close for <UNK> all joking aside this is a truly bad film whose only charm is to look back on the disaster that was the 80's and have a good old laugh at how bad everything was back then\n",
      "[ 645  662    8  257   85 1200   42 1228 2578   83   68 3912   15   36\n",
      "  165 1539  278   36   69    2  780    8  106   14 6905 1338   18    6\n",
      "   22   12  215   28  610   40    6   87  326   23 2300   21   23   22\n",
      "   12  272   40   57   31   11    4   22   47    6 2307   51    9  170\n",
      "   23  595  116  595 1352   13  191   79  638   89    2   14    9    8\n",
      "  106  607  624   35  534    6  227    7  129  113]\n",
      "=================================================\n",
      "Length = 80\n",
      "=================================================\n",
      "started talking to each other leaving or generally crying into their popcorn that they actually paid money they had <UNK> working to watch this feeble excuse for a film it must have looked like a great idea on paper but on film it looks like no one in the film has a clue what is going on crap acting crap costumes i can't get across how <UNK> this is to watch save yourself an hour a bit of your life\n",
      "[    2    14   280    13   219     4     2   431   758   859     4   953\n",
      "  1052 12283     7  5991     5    94    40    25   238    60     2     4\n",
      " 15812   804     2     7     4  9941   132     8    67     6    22    15\n",
      "     9   283     8  5168    14    31     9   242   955    48    25   279\n",
      "     2    23    12  1685   195    25   238    60   796 13713     4   671\n",
      "     7  2804     5     4   559   154   888     7   726    50    26    49\n",
      "  7008    15   566    30   579    21    64  2574]\n",
      "=================================================\n",
      "Length = 80\n",
      "=================================================\n",
      "<UNK> this once i saw the <UNK> picture ' forget the box office pastiche of braveheart and its like you might even <UNK> the justly famous <UNK> of the wicker man to see a film that is true to scotland this one is probably unique if you maybe <UNK> on it deeply enough you might even re evaluate the power of storytelling and the age old question of whether there are some truths that cannot be told but only experienced\n",
      "[  56  429    6 1513   18   35  534   95  474  570    5   25  124  138\n",
      "   88   12  421 1543   52  725 6397   61  419   11   13 1571   15 1543\n",
      "   20   11    4    2    5  296   12 3524    5   15  421  128   74  233\n",
      "  334  207  126  224   12  562  298 2167 1272    7 2601    5  516  988\n",
      "   43    8   79  120   15  595   13  784   25 3171   18  165  170  143\n",
      "   19   14    5 7224    6  226  251    7   61  113]\n",
      "=================================================\n",
      "Length = 80\n",
      "=================================================\n",
      "up against a wall for an hour then i'd stop and you know why because it felt damn good upon bashing my head in i stuck that damn movie in the <UNK> and watched it burn and that felt better than anything else i've ever done it took american psycho army of darkness and kill bill just to get over that crap i hate you sandler for actually going through with this and ruining a whole day of my life\n",
      "[    0     0     0     0     0     0     0     0     0     0     0     0\n",
      "     0     0     0     0     0     0     0     0     0     0     0     0\n",
      "     0     0     0     0     0     0     0     0     0     0     0     0\n",
      "     0     1   778   128    74    12   630   163    15     4  1766  7982\n",
      "  1051     2    32    85   156    45    40   148   139   121   664   665\n",
      "    10    10  1361   173     4   749     2    16  3804     8     4   226\n",
      "    65    12    43   127    24 15344    10    10]\n",
      "=================================================\n",
      "Length = 80\n",
      "=================================================\n",
      "<PAD> <PAD> <PAD> <PAD> <PAD> <PAD> <PAD> <PAD> <PAD> <PAD> <PAD> <PAD> <PAD> <PAD> <PAD> <PAD> <PAD> <PAD> <PAD> <PAD> <PAD> <PAD> <PAD> <PAD> <PAD> <PAD> <PAD> <PAD> <PAD> <PAD> <PAD> <PAD> <PAD> <PAD> <PAD> <PAD> <PAD> <START> begins better than it ends funny that the russian submarine crew <UNK> all other actors it's like those scenes where documentary shots br br spoiler part the message <UNK> was contrary to the whole story it just does not mesh br br\n"
     ]
    }
   ],
   "source": [
    "for i in range(0,6):\n",
    "    print(x_train[i])\n",
    "    print_text_from_seq(x_train[i])"
   ]
  },
  {
   "cell_type": "code",
   "execution_count": 6,
   "metadata": {},
   "outputs": [
    {
     "name": "stdout",
     "output_type": "stream",
     "text": [
      "Pad Sequences (samples x time)\n",
      "x_train shape:  (25000, 80)\n",
      "x_test shape:  (25000, 80)\n"
     ]
    }
   ],
   "source": [
    "print('Pad Sequences (samples x time)')\n",
    "x_train = sequence.pad_sequences(x_train, maxlen=maxlen)\n",
    "x_test = sequence.pad_sequences(x_test, maxlen=maxlen)\n",
    "print('x_train shape: ', x_train.shape)\n",
    "print('x_test shape: ', x_test.shape)"
   ]
  },
  {
   "cell_type": "code",
   "execution_count": 8,
   "metadata": {},
   "outputs": [
    {
     "data": {
      "text/plain": [
       "array([   15,   256,     4,     2,     7,  3766,     5,   723,    36,\n",
       "          71,    43,   530,   476,    26,   400,   317,    46,     7,\n",
       "           4, 12118,  1029,    13,   104,    88,     4,   381,    15,\n",
       "         297,    98,    32,  2071,    56,    26,   141,     6,   194,\n",
       "        7486,    18,     4,   226,    22,    21,   134,   476,    26,\n",
       "         480,     5,   144,    30,  5535,    18,    51,    36,    28,\n",
       "         224,    92,    25,   104,     4,   226,    65,    16,    38,\n",
       "        1334,    88,    12,    16,   283,     5,    16,  4472,   113,\n",
       "         103,    32,    15,    16,  5345,    19,   178,    32],\n",
       "      dtype=int32)"
      ]
     },
     "execution_count": 8,
     "metadata": {},
     "output_type": "execute_result"
    }
   ],
   "source": [
    "x_train[0]"
   ]
  },
  {
   "cell_type": "code",
   "execution_count": 9,
   "metadata": {},
   "outputs": [
    {
     "name": "stdout",
     "output_type": "stream",
     "text": [
      "=================================================\n",
      "Length = 80\n",
      "=================================================\n",
      "that played the <UNK> of norman and paul they were just brilliant children are often left out of the praising list i think because the stars that play them all grown up are such a big profile for the whole film but these children are amazing and should be praised for what they have done don't you think the whole story was so lovely because it was true and was someone's life after all that was shared with us all\n"
     ]
    }
   ],
   "source": [
    "print_text_from_seq(x_train[0])"
   ]
  },
  {
   "cell_type": "code",
   "execution_count": 10,
   "metadata": {},
   "outputs": [
    {
     "data": {
      "text/plain": [
       "array([1, 0, 0, ..., 0, 1, 0])"
      ]
     },
     "execution_count": 10,
     "metadata": {},
     "output_type": "execute_result"
    }
   ],
   "source": [
    "y_train #1 is positive and 0 is negative"
   ]
  },
  {
   "cell_type": "code",
   "execution_count": 11,
   "metadata": {},
   "outputs": [
    {
     "data": {
      "text/plain": [
       "12500"
      ]
     },
     "execution_count": 11,
     "metadata": {},
     "output_type": "execute_result"
    }
   ],
   "source": [
    "y_train.sum()"
   ]
  },
  {
   "cell_type": "code",
   "execution_count": 12,
   "metadata": {},
   "outputs": [
    {
     "data": {
      "text/plain": [
       "0.5"
      ]
     },
     "execution_count": 12,
     "metadata": {},
     "output_type": "execute_result"
    }
   ],
   "source": [
    "# the review labesl are balanced: 50% are positive and 50% are negative\n",
    "y_train.sum()/len(y_train)"
   ]
  },
  {
   "cell_type": "code",
   "execution_count": 14,
   "metadata": {},
   "outputs": [
    {
     "name": "stdout",
     "output_type": "stream",
     "text": [
      "Model: \"sequential_1\"\n",
      "_________________________________________________________________\n",
      "Layer (type)                 Output Shape              Param #   \n",
      "=================================================================\n",
      "embedding_1 (Embedding)      (None, None, 128)         2560000   \n",
      "_________________________________________________________________\n",
      "dense_3 (Dense)              (None, None, 50)          6450      \n",
      "_________________________________________________________________\n",
      "dense_4 (Dense)              (None, None, 50)          2550      \n",
      "_________________________________________________________________\n",
      "dense_5 (Dense)              (None, None, 1)           51        \n",
      "=================================================================\n",
      "Total params: 2,569,051\n",
      "Trainable params: 2,569,051\n",
      "Non-trainable params: 0\n",
      "_________________________________________________________________\n"
     ]
    }
   ],
   "source": [
    "#Create Model\n",
    "\n",
    "#MODEL 1\n",
    "model_fc = Sequential()\n",
    "model_fc.add(Embedding(max_features, 128)) # Dense vectors with length of 128, remove 0s\n",
    "model_fc.add(Dense(50, activation = \"relu\"))\n",
    "model_fc.add(Dense(50, activation = \"relu\"))\n",
    "model_fc.add(Dense(1, activation = \"sigmoid\"))\n",
    "\n",
    "#Compile Model\n",
    "model_fc.compile(loss = \"binary_crossentropy\", \n",
    "                 optimizer = \"adam\", \n",
    "                 metrics = [\"accuracy\"]\n",
    "                )\n",
    "#Model Shape\n",
    "model_fc.summary()"
   ]
  },
  {
   "cell_type": "code",
   "execution_count": 15,
   "metadata": {},
   "outputs": [
    {
     "name": "stdout",
     "output_type": "stream",
     "text": [
      "Epoch 1/5\n",
      "782/782 [==============================] - 56s 71ms/step - loss: 0.6804 - accuracy: 0.5529 - val_loss: 0.6792 - val_accuracy: 0.5551\n",
      "Epoch 2/5\n",
      "782/782 [==============================] - 57s 73ms/step - loss: 0.6735 - accuracy: 0.5644 - val_loss: 0.6798 - val_accuracy: 0.5554\n",
      "Epoch 3/5\n",
      "782/782 [==============================] - 24s 30ms/step - loss: 0.6718 - accuracy: 0.5658 - val_loss: 0.6804 - val_accuracy: 0.5553\n",
      "Epoch 4/5\n",
      "782/782 [==============================] - 25s 32ms/step - loss: 0.6709 - accuracy: 0.5671 - val_loss: 0.6818 - val_accuracy: 0.5557\n",
      "Epoch 5/5\n",
      "782/782 [==============================] - 25s 32ms/step - loss: 0.6703 - accuracy: 0.5677 - val_loss: 0.6820 - val_accuracy: 0.5548\n"
     ]
    }
   ],
   "source": [
    "output_fc = model_fc.fit(x_train, \n",
    "                         y_train, \n",
    "                         batch_size=batch_size, \n",
    "                         epochs=5, \n",
    "                         validation_data=(x_test, y_test))\n",
    "#Better than random but not much"
   ]
  },
  {
   "cell_type": "code",
   "execution_count": 16,
   "metadata": {},
   "outputs": [
    {
     "data": {
      "image/png": "[encoded data removed]",
      "text/plain": [
       "<Figure size 432x288 with 1 Axes>"
      ]
     },
     "metadata": {
      "needs_background": "light"
     },
     "output_type": "display_data"
    }
   ],
   "source": [
    "import matplotlib.pyplot as plt\n",
    "\n",
    "# Plot training & validation loss values\n",
    "plt.plot(output_fc.history['loss'])\n",
    "plt.plot(output_fc.history['val_loss'])\n",
    "plt.title('Model loss')\n",
    "plt.ylabel('Loss')\n",
    "plt.xlabel('Epoch')\n",
    "plt.legend(['Train', 'Test'], loc='upper left')\n",
    "plt.show();"
   ]
  },
  {
   "cell_type": "code",
   "execution_count": 18,
   "metadata": {},
   "outputs": [],
   "source": [
    "from tensorflow.keras.layers import Dropout"
   ]
  },
  {
   "cell_type": "code",
   "execution_count": 21,
   "metadata": {},
   "outputs": [],
   "source": [
    "#Create Model\n",
    "\n",
    "#MODEL 2\n",
    "model_fc = Sequential()\n",
    "model_fc.add(Embedding(max_features, 128)) # Dense vectors with length of 128, remove 0s\n",
    "model_fc.add(Dropout(0.1))\n",
    "model_fc.add(Dense(50, activation = \"relu\"))\n",
    "model_fc.add(Dropout(0.1))\n",
    "model_fc.add(Dense(50, activation = \"relu\"))\n",
    "model_fc.add(Dropout(0.1))\n",
    "model_fc.add(Dense(1, activation = \"sigmoid\"))\n",
    "\n",
    "#Compile Model\n",
    "model_fc.compile(loss = \"binary_crossentropy\", \n",
    "                 optimizer = \"adam\", \n",
    "                 metrics = [\"accuracy\"]\n",
    "                )"
   ]
  },
  {
   "cell_type": "code",
   "execution_count": 20,
   "metadata": {},
   "outputs": [
    {
     "name": "stdout",
     "output_type": "stream",
     "text": [
      "Epoch 1/5\n",
      "782/782 [==============================] - 48s 62ms/step - loss: 0.6810 - accuracy: 0.5509 - val_loss: 0.6801 - val_accuracy: 0.5521\n",
      "Epoch 2/5\n",
      "782/782 [==============================] - 41s 53ms/step - loss: 0.6741 - accuracy: 0.5637 - val_loss: 0.6806 - val_accuracy: 0.5548\n",
      "Epoch 3/5\n",
      "782/782 [==============================] - 41s 53ms/step - loss: 0.6723 - accuracy: 0.5657 - val_loss: 0.6808 - val_accuracy: 0.5559\n",
      "Epoch 4/5\n",
      "782/782 [==============================] - 42s 53ms/step - loss: 0.6713 - accuracy: 0.5670 - val_loss: 0.6812 - val_accuracy: 0.5557\n",
      "Epoch 5/5\n",
      "782/782 [==============================] - 42s 54ms/step - loss: 0.6707 - accuracy: 0.5677 - val_loss: 0.6818 - val_accuracy: 0.5560\n"
     ]
    }
   ],
   "source": [
    "output_fc = model_fc.fit(x_train, \n",
    "                         y_train, \n",
    "                         batch_size=batch_size, \n",
    "                         epochs=5, \n",
    "                         validation_data=(x_test, y_test))"
   ]
  },
  {
   "cell_type": "code",
   "execution_count": 22,
   "metadata": {},
   "outputs": [
    {
     "data": {
      "image/png": "[encoded data removed]",
      "text/plain": [
       "<Figure size 432x288 with 1 Axes>"
      ]
     },
     "metadata": {
      "needs_background": "light"
     },
     "output_type": "display_data"
    }
   ],
   "source": [
    "import matplotlib.pyplot as plt\n",
    "\n",
    "# Plot training & validation loss values\n",
    "plt.plot(output_fc.history['loss'])\n",
    "plt.plot(output_fc.history['val_loss'])\n",
    "plt.title('Model loss')\n",
    "plt.ylabel('Loss')\n",
    "plt.xlabel('Epoch')\n",
    "plt.legend(['Train', 'Test'], loc='upper left')\n",
    "plt.show();"
   ]
  },
  {
   "cell_type": "code",
   "execution_count": 23,
   "metadata": {},
   "outputs": [
    {
     "name": "stdout",
     "output_type": "stream",
     "text": [
      "Model: \"sequential_5\"\n",
      "_________________________________________________________________\n",
      "Layer (type)                 Output Shape              Param #   \n",
      "=================================================================\n",
      "embedding_5 (Embedding)      (None, None, 128)         2560000   \n",
      "_________________________________________________________________\n",
      "lstm (LSTM)                  (None, 128)               131584    \n",
      "_________________________________________________________________\n",
      "dense_12 (Dense)             (None, 1)                 129       \n",
      "=================================================================\n",
      "Total params: 2,691,713\n",
      "Trainable params: 2,691,713\n",
      "Non-trainable params: 0\n",
      "_________________________________________________________________\n"
     ]
    }
   ],
   "source": [
    "model = Sequential()\n",
    "\n",
    "model.add(Embedding(max_features, 128))\n",
    "model.add(LSTM(128))\n",
    "model.add(Dense(1, activation='sigmoid'))\n",
    "\n",
    "model.compile(loss='binary_crossentropy',\n",
    "              optimizer='adam', \n",
    "              metrics=['accuracy'])\n",
    "\n",
    "model.summary()"
   ]
  },
  {
   "cell_type": "code",
   "execution_count": 24,
   "metadata": {},
   "outputs": [
    {
     "name": "stdout",
     "output_type": "stream",
     "text": [
      "Epoch 1/5\n",
      "782/782 [==============================] - 128s 163ms/step - loss: 0.4235 - accuracy: 0.8013 - val_loss: 0.3673 - val_accuracy: 0.8377\n",
      "Epoch 2/5\n",
      "782/782 [==============================] - 124s 159ms/step - loss: 0.2452 - accuracy: 0.9030 - val_loss: 0.3816 - val_accuracy: 0.8349\n",
      "Epoch 3/5\n",
      "782/782 [==============================] - 172s 220ms/step - loss: 0.1541 - accuracy: 0.9409 - val_loss: 0.5025 - val_accuracy: 0.8066\n",
      "Epoch 4/5\n",
      "782/782 [==============================] - 199s 255ms/step - loss: 0.0992 - accuracy: 0.9649 - val_loss: 0.5253 - val_accuracy: 0.8176\n",
      "Epoch 5/5\n",
      "782/782 [==============================] - 173s 221ms/step - loss: 0.0633 - accuracy: 0.9782 - val_loss: 0.6011 - val_accuracy: 0.8150\n"
     ]
    }
   ],
   "source": [
    "output_lstm = model.fit(x_train, \n",
    "                        y_train, \n",
    "                        batch_size=batch_size, \n",
    "                        epochs=5, \n",
    "                        validation_data=(x_test, y_test))"
   ]
  },
  {
   "cell_type": "code",
   "execution_count": 26,
   "metadata": {},
   "outputs": [],
   "source": [
    "from tensorflow.keras.layers import SpatialDropout1D"
   ]
  },
  {
   "cell_type": "code",
   "execution_count": 27,
   "metadata": {},
   "outputs": [
    {
     "name": "stdout",
     "output_type": "stream",
     "text": [
      "Model: \"sequential_6\"\n",
      "_________________________________________________________________\n",
      "Layer (type)                 Output Shape              Param #   \n",
      "=================================================================\n",
      "embedding_6 (Embedding)      (None, None, 128)         2560000   \n",
      "_________________________________________________________________\n",
      "spatial_dropout1d (SpatialDr (None, None, 128)         0         \n",
      "_________________________________________________________________\n",
      "lstm_1 (LSTM)                (None, 128)               131584    \n",
      "_________________________________________________________________\n",
      "dense_13 (Dense)             (None, 1)                 129       \n",
      "=================================================================\n",
      "Total params: 2,691,713\n",
      "Trainable params: 2,691,713\n",
      "Non-trainable params: 0\n",
      "_________________________________________________________________\n"
     ]
    }
   ],
   "source": [
    "model = Sequential()\n",
    "\n",
    "model.add(Embedding(max_features, 128))\n",
    "model.add(SpatialDropout1D(0.3))\n",
    "model.add(LSTM(128))\n",
    "model.add(Dense(1, activation='sigmoid'))\n",
    "\n",
    "#Further engineer model\n",
    "#model.add(LSTM(128, return_sequence=True))\n",
    "#model.add(SpatialDropout1D(0.3))\n",
    "#model.add(LSTM(128))\n",
    "\n",
    "model.compile(loss='binary_crossentropy',\n",
    "              optimizer='adam', \n",
    "              metrics=['accuracy'])\n",
    "\n",
    "model.summary()\n",
    "\n",
    "#Spatial Dropout \n",
    "# Every observation is a review\n",
    "# One hot encoded vector gets fed\n",
    "# Random input -> 20000 to 128\n",
    "# Spatial dropouts drops out entire dimensions"
   ]
  },
  {
   "cell_type": "code",
   "execution_count": 28,
   "metadata": {},
   "outputs": [
    {
     "name": "stdout",
     "output_type": "stream",
     "text": [
      "Epoch 1/5\n",
      "782/782 [==============================] - 210s 269ms/step - loss: 0.4254 - accuracy: 0.7984 - val_loss: 0.3883 - val_accuracy: 0.8327\n",
      "Epoch 2/5\n",
      "782/782 [==============================] - 182s 233ms/step - loss: 0.2616 - accuracy: 0.8955 - val_loss: 0.4056 - val_accuracy: 0.8384\n",
      "Epoch 3/5\n",
      "782/782 [==============================] - 128s 163ms/step - loss: 0.1780 - accuracy: 0.9322 - val_loss: 0.4410 - val_accuracy: 0.8260\n",
      "Epoch 4/5\n",
      "782/782 [==============================] - 126s 161ms/step - loss: 0.1184 - accuracy: 0.9555 - val_loss: 0.4660 - val_accuracy: 0.8238\n",
      "Epoch 5/5\n",
      "782/782 [==============================] - 118s 151ms/step - loss: 0.0849 - accuracy: 0.9703 - val_loss: 0.8364 - val_accuracy: 0.8146\n"
     ]
    }
   ],
   "source": [
    "output_lstm = model.fit(x_train, \n",
    "                        y_train, \n",
    "                        batch_size=batch_size, \n",
    "                        epochs=5, \n",
    "                        validation_data=(x_test, y_test))"
   ]
  },
  {
   "cell_type": "code",
   "execution_count": 29,
   "metadata": {},
   "outputs": [
    {
     "data": {
      "image/png": "[encoded data removed]",
      "text/plain": [
       "<Figure size 432x288 with 1 Axes>"
      ]
     },
     "metadata": {
      "needs_background": "light"
     },
     "output_type": "display_data"
    }
   ],
   "source": [
    "# Plot training & validation loss values\n",
    "plt.plot(output_lstm.history['loss'])\n",
    "plt.plot(output_lstm.history['val_loss'])\n",
    "plt.title('Model loss')\n",
    "plt.ylabel('Loss')\n",
    "plt.xlabel('Epoch')\n",
    "plt.legend(['Train', 'Test'], loc='upper left')\n",
    "plt.show();"
   ]
  },
  {
   "cell_type": "code",
   "execution_count": 30,
   "metadata": {},
   "outputs": [
    {
     "data": {
      "image/png": "[encoded data removed]",
      "text/plain": [
       "<Figure size 432x288 with 1 Axes>"
      ]
     },
     "metadata": {
      "needs_background": "light"
     },
     "output_type": "display_data"
    }
   ],
   "source": [
    "# Plot training & validation loss values\n",
    "plt.plot(output_lstm.history['accuracy'])\n",
    "plt.plot(output_lstm.history['val_accuracy'])\n",
    "plt.title('Model Accuracy')\n",
    "plt.ylabel('Accuracy')\n",
    "plt.xlabel('Epoch')\n",
    "plt.legend(['Train', 'Test'], loc='upper left')\n",
    "plt.show();"
   ]
  },
  {
   "cell_type": "code",
   "execution_count": 32,
   "metadata": {},
   "outputs": [
    {
     "name": "stdout",
     "output_type": "stream",
     "text": [
      "Model: \"sequential_8\"\n",
      "_________________________________________________________________\n",
      "Layer (type)                 Output Shape              Param #   \n",
      "=================================================================\n",
      "embedding_8 (Embedding)      (None, None, 128)         2560000   \n",
      "_________________________________________________________________\n",
      "spatial_dropout1d_2 (Spatial (None, None, 128)         0         \n",
      "_________________________________________________________________\n",
      "lstm_2 (LSTM)                (None, None, 128)         131584    \n",
      "_________________________________________________________________\n",
      "spatial_dropout1d_3 (Spatial (None, None, 128)         0         \n",
      "_________________________________________________________________\n",
      "lstm_3 (LSTM)                (None, 128)               131584    \n",
      "_________________________________________________________________\n",
      "dense_14 (Dense)             (None, 1)                 129       \n",
      "=================================================================\n",
      "Total params: 2,823,297\n",
      "Trainable params: 2,823,297\n",
      "Non-trainable params: 0\n",
      "_________________________________________________________________\n"
     ]
    }
   ],
   "source": [
    "model = Sequential()\n",
    "\n",
    "model.add(Embedding(max_features, 128))\n",
    "model.add(SpatialDropout1D(0.3))\n",
    "model.add(LSTM(128, return_sequences=True))\n",
    "model.add(SpatialDropout1D(0.3))\n",
    "model.add(LSTM(128))\n",
    "model.add(Dense(1, activation='sigmoid'))\n",
    "\n",
    "\n",
    "model.compile(loss='binary_crossentropy',\n",
    "              optimizer='adam', \n",
    "              metrics=['accuracy'])\n",
    "\n",
    "model.summary()"
   ]
  },
  {
   "cell_type": "code",
   "execution_count": 36,
   "metadata": {},
   "outputs": [
    {
     "data": {
      "text/plain": [
       "<tf.Tensor: shape=(80, 128), dtype=float32, numpy=\n",
       "array([[-0.03482224,  0.0163383 ,  0.012658  , ...,  0.00188056,\n",
       "        -0.02377734,  0.00541782],\n",
       "       [-0.02787789, -0.00964645,  0.04215186, ...,  0.0163408 ,\n",
       "         0.02589624, -0.04584904],\n",
       "       [ 0.02386567, -0.02148992,  0.04718458, ..., -0.03490416,\n",
       "         0.00117211, -0.00734289],\n",
       "       ...,\n",
       "       [ 0.04411967,  0.00097131, -0.02169374, ..., -0.02058915,\n",
       "         0.00021897,  0.02389966],\n",
       "       [ 0.02123511,  0.04892527, -0.02692886, ..., -0.02161833,\n",
       "        -0.02850075, -0.03329136],\n",
       "       [-0.01682049, -0.01233084, -0.02202097, ...,  0.02408805,\n",
       "        -0.03791084,  0.04037435]], dtype=float32)>"
      ]
     },
     "execution_count": 36,
     "metadata": {},
     "output_type": "execute_result"
    }
   ],
   "source": [
    "from tensorflow import keras\n",
    "\n",
    "layer_name = 'embedding_8'\n",
    "test_seq = x_train[0]\n",
    "intermediate_layer_model = keras.Model(inputs = model.input, \n",
    "                                      outputs = model.get_layer(layer_name).output)\n",
    "\n",
    "intermediate_output = intermediate_layer_model(test_seq)\n",
    "intermediate_output"
   ]
  },
  {
   "cell_type": "code",
   "execution_count": 37,
   "metadata": {},
   "outputs": [
    {
     "data": {
      "text/plain": [
       "<tf.Tensor: shape=(128,), dtype=float32, numpy=\n",
       "array([-0.03482224,  0.0163383 ,  0.012658  , -0.04044656,  0.0493629 ,\n",
       "       -0.01035767, -0.01675918,  0.02897257, -0.01909447,  0.01348474,\n",
       "        0.02802862, -0.04543774,  0.04715445,  0.01605148, -0.04395865,\n",
       "       -0.02191497,  0.03066126,  0.03880015,  0.02748182,  0.03956982,\n",
       "       -0.00793485,  0.02267082, -0.01664539, -0.01276773, -0.02532179,\n",
       "        0.03506557,  0.01956043, -0.0016989 , -0.01395348,  0.01566816,\n",
       "       -0.03243411, -0.00040654, -0.04915874, -0.0218091 ,  0.02022791,\n",
       "        0.01210137, -0.0384853 ,  0.0115101 ,  0.04537007,  0.01468459,\n",
       "        0.00739969,  0.01962833,  0.02933675,  0.00678267,  0.02096439,\n",
       "        0.01030289,  0.02694602,  0.00473393,  0.03265682, -0.01918688,\n",
       "        0.02474881, -0.00077967, -0.00812379, -0.01704324,  0.00848307,\n",
       "        0.03643629, -0.01419486, -0.02550806,  0.04648581,  0.00904231,\n",
       "        0.04152167,  0.04777848,  0.01450321, -0.04171877, -0.00134277,\n",
       "        0.02300217, -0.0240038 , -0.02568584,  0.0441392 ,  0.02854996,\n",
       "       -0.01790155, -0.02612777, -0.03712993,  0.01386983, -0.0292898 ,\n",
       "        0.01561983, -0.0172006 , -0.03009677, -0.00737863, -0.04292276,\n",
       "       -0.04771199,  0.00731528,  0.03728529, -0.04382355, -0.02166481,\n",
       "       -0.04428414, -0.0206317 , -0.04262394,  0.03916289, -0.0026501 ,\n",
       "       -0.0002479 ,  0.00335761, -0.02218158, -0.01467965,  0.02686739,\n",
       "        0.03847094, -0.0430154 , -0.04787938,  0.01582697,  0.00915551,\n",
       "        0.02177851,  0.01239691, -0.00118245,  0.0281728 , -0.0463931 ,\n",
       "        0.01091532,  0.02760035, -0.01555607, -0.02294417, -0.00664514,\n",
       "        0.03200435,  0.01338543, -0.04977947, -0.02575011,  0.01097084,\n",
       "        0.01669851, -0.04427774, -0.004854  , -0.01176383,  0.04126072,\n",
       "        0.00747129,  0.02792821, -0.00618256,  0.02686527, -0.02005676,\n",
       "        0.00188056, -0.02377734,  0.00541782], dtype=float32)>"
      ]
     },
     "execution_count": 37,
     "metadata": {},
     "output_type": "execute_result"
    }
   ],
   "source": [
    "intermediate_output[0]"
   ]
  },
  {
   "cell_type": "code",
   "execution_count": 39,
   "metadata": {},
   "outputs": [
    {
     "name": "stdout",
     "output_type": "stream",
     "text": [
      "=================================================\n",
      "Length = 80\n",
      "=================================================\n",
      "that played the <UNK> of norman and paul they were just brilliant children are often left out of the praising list i think because the stars that play them all grown up are such a big profile for the whole film but these children are amazing and should be praised for what they have done don't you think the whole story was so lovely because it was true and was someone's life after all that was shared with us all\n"
     ]
    }
   ],
   "source": [
    "print_text_from_seq(x_train[0])"
   ]
  },
  {
   "cell_type": "code",
   "execution_count": 41,
   "metadata": {},
   "outputs": [
    {
     "data": {
      "text/plain": [
       "<tf.Tensor: shape=(128,), dtype=float32, numpy=\n",
       "array([ 0.04681227,  0.03885696, -0.04046568, -0.02585478,  0.00260756,\n",
       "       -0.03996273, -0.01455442,  0.00754929, -0.00339089, -0.01026491,\n",
       "        0.03895109,  0.00828927,  0.024665  ,  0.01613802,  0.04607118,\n",
       "        0.03754442, -0.02231139, -0.03831707,  0.00923407, -0.01528221,\n",
       "        0.03807552,  0.0375412 ,  0.02634502,  0.01915566, -0.03111522,\n",
       "        0.03626393, -0.0428771 ,  0.02107975,  0.04641135, -0.04726576,\n",
       "        0.00815426, -0.00070645, -0.01764665,  0.04305358, -0.02632979,\n",
       "        0.01584414, -0.03898086,  0.03260542, -0.00642874, -0.04327838,\n",
       "       -0.04828532, -0.03076614,  0.01042702,  0.03860765, -0.00679314,\n",
       "        0.02215538,  0.04734215,  0.01951921, -0.00490423,  0.04387739,\n",
       "       -0.04569384, -0.04188403, -0.036471  ,  0.04901931,  0.03626547,\n",
       "        0.04287792, -0.04367122,  0.02807495,  0.01828755,  0.02112081,\n",
       "        0.03180582, -0.02451924,  0.02639574,  0.00692681,  0.03594074,\n",
       "       -0.0450716 , -0.01325808,  0.04728364, -0.04784077, -0.03106281,\n",
       "       -0.00337223,  0.0428458 ,  0.02366792,  0.01277986,  0.04860124,\n",
       "        0.01149314,  0.03468415, -0.00749971,  0.01078116, -0.04148884,\n",
       "       -0.02594777, -0.01740084, -0.00550329,  0.00200146,  0.02480691,\n",
       "       -0.004062  , -0.04516984, -0.03209906,  0.01570262, -0.03178736,\n",
       "       -0.03269678,  0.01510981,  0.00528544,  0.04775769, -0.0024093 ,\n",
       "        0.0284004 , -0.04330771, -0.01653256,  0.00027082,  0.0296623 ,\n",
       "        0.01169952, -0.0243529 , -0.0422863 , -0.04494905,  0.00222796,\n",
       "       -0.04499716, -0.04934174, -0.00652417, -0.03144758, -0.03942215,\n",
       "       -0.00880283,  0.0229386 , -0.02308531, -0.02753462, -0.0178264 ,\n",
       "        0.02559553, -0.04138384, -0.04553114, -0.03346586,  0.04861127,\n",
       "        0.0313166 ,  0.02137465,  0.01161366,  0.04948099, -0.04880884,\n",
       "        0.01031252, -0.00921931,  0.04505304], dtype=float32)>"
      ]
     },
     "execution_count": 41,
     "metadata": {},
     "output_type": "execute_result"
    }
   ],
   "source": [
    "intermediate_output[3]"
   ]
  },
  {
   "cell_type": "code",
   "execution_count": 42,
   "metadata": {},
   "outputs": [
    {
     "name": "stdout",
     "output_type": "stream",
     "text": [
      "=================================================\n",
      "Length = 80\n",
      "=================================================\n",
      "<UNK> this once i saw the <UNK> picture ' forget the box office pastiche of braveheart and its like you might even <UNK> the justly famous <UNK> of the wicker man to see a film that is true to scotland this one is probably unique if you maybe <UNK> on it deeply enough you might even re evaluate the power of storytelling and the age old question of whether there are some truths that cannot be told but only experienced\n"
     ]
    }
   ],
   "source": [
    "print_text_from_seq(x_train[3])"
   ]
  },
  {
   "cell_type": "markdown",
   "metadata": {},
   "source": [
    "Cannot perform same math as word2vect "
   ]
  },
  {
   "cell_type": "code",
   "execution_count": null,
   "metadata": {},
   "outputs": [],
   "source": [
    "# first model -> 90%\n",
    "# combined dataset -> 95%\n",
    "# smaller model -> 93-94% remove embedding and dropout and then feed dense layers directly into model\n",
    "\n",
    "#Transfer knowledge from first to second model"
   ]
  },
  {
   "cell_type": "code",
   "execution_count": 43,
   "metadata": {},
   "outputs": [
    {
     "name": "stdout",
     "output_type": "stream",
     "text": [
      "Collecting transformers\n",
      "  Downloading transformers-3.0.2-py3-none-any.whl (769 kB)\n",
      "\u001b[K     |████████████████████████████████| 769 kB 5.0 MB/s eta 0:00:01\n",
      "\u001b[?25hRequirement already satisfied: requests in /Applications/anaconda3/lib/python3.7/site-packages (from transformers) (2.22.0)\n",
      "Collecting regex!=2019.12.17\n",
      "  Downloading regex-2020.7.14.tar.gz (690 kB)\n",
      "\u001b[K     |████████████████████████████████| 690 kB 3.9 MB/s eta 0:00:01\n",
      "\u001b[?25hCollecting sacremoses\n",
      "  Downloading sacremoses-0.0.43.tar.gz (883 kB)\n",
      "\u001b[K     |████████████████████████████████| 883 kB 5.9 MB/s eta 0:00:01\n",
      "\u001b[?25hRequirement already satisfied: filelock in /Applications/anaconda3/lib/python3.7/site-packages (from transformers) (3.0.12)\n",
      "Collecting sentencepiece!=0.1.92\n",
      "  Downloading sentencepiece-0.1.91-cp37-cp37m-macosx_10_6_x86_64.whl (1.1 MB)\n",
      "\u001b[K     |████████████████████████████████| 1.1 MB 5.1 MB/s eta 0:00:01\n",
      "\u001b[?25hCollecting tokenizers==0.8.1.rc1\n",
      "  Downloading tokenizers-0.8.1rc1-cp37-cp37m-macosx_10_10_x86_64.whl (2.1 MB)\n",
      "\u001b[K     |████████████████████████████████| 2.1 MB 4.6 MB/s eta 0:00:01\n",
      "\u001b[?25hRequirement already satisfied: packaging in /Applications/anaconda3/lib/python3.7/site-packages (from transformers) (20.1)\n",
      "Requirement already satisfied: numpy in /Applications/anaconda3/lib/python3.7/site-packages (from transformers) (1.18.5)\n",
      "Requirement already satisfied: tqdm>=4.27 in /Applications/anaconda3/lib/python3.7/site-packages (from transformers) (4.42.1)\n",
      "Requirement already satisfied: certifi>=2017.4.17 in /Applications/anaconda3/lib/python3.7/site-packages (from requests->transformers) (2019.11.28)\n",
      "Requirement already satisfied: idna<2.9,>=2.5 in /Applications/anaconda3/lib/python3.7/site-packages (from requests->transformers) (2.8)\n",
      "Requirement already satisfied: chardet<3.1.0,>=3.0.2 in /Applications/anaconda3/lib/python3.7/site-packages (from requests->transformers) (3.0.4)\n",
      "Requirement already satisfied: urllib3!=1.25.0,!=1.25.1,<1.26,>=1.21.1 in /Applications/anaconda3/lib/python3.7/site-packages (from requests->transformers) (1.25.8)\n",
      "Requirement already satisfied: six in /Applications/anaconda3/lib/python3.7/site-packages (from sacremoses->transformers) (1.14.0)\n",
      "Requirement already satisfied: click in /Applications/anaconda3/lib/python3.7/site-packages (from sacremoses->transformers) (7.0)\n",
      "Requirement already satisfied: joblib in /Applications/anaconda3/lib/python3.7/site-packages (from sacremoses->transformers) (0.14.1)\n",
      "Requirement already satisfied: pyparsing>=2.0.2 in /Applications/anaconda3/lib/python3.7/site-packages (from packaging->transformers) (2.4.6)\n",
      "Building wheels for collected packages: regex, sacremoses\n",
      "  Building wheel for regex (setup.py) ... \u001b[?25ldone\n",
      "\u001b[?25h  Created wheel for regex: filename=regex-2020.7.14-cp37-cp37m-macosx_10_9_x86_64.whl size=286542 sha256=fb52ff4b9aa2f95d063dd0bc7e4ebd33f6968d91626143a73a51f9d356c789ed\n",
      "  Stored in directory: /Users/jisha/Library/Caches/pip/wheels/5b/68/ce/2508b5a5afc13bd96566c62d3ffebea7b401477c2ead3e8cc0\n",
      "  Building wheel for sacremoses (setup.py) ... \u001b[?25ldone\n",
      "\u001b[?25h  Created wheel for sacremoses: filename=sacremoses-0.0.43-py3-none-any.whl size=893259 sha256=641f977574ac7f3314f8f90cabe92640e15dc6913674fbca5f555d1281fb5db3\n",
      "  Stored in directory: /Users/jisha/Library/Caches/pip/wheels/69/09/d1/bf058f7d6fa0ecba2ce7c66be3b8d012beb4bf61a6e0c101c0\n",
      "Successfully built regex sacremoses\n",
      "Installing collected packages: regex, sacremoses, sentencepiece, tokenizers, transformers\n",
      "Successfully installed regex-2020.7.14 sacremoses-0.0.43 sentencepiece-0.1.91 tokenizers-0.8.1rc1 transformers-3.0.2\n",
      "Note: you may need to restart the kernel to use updated packages.\n"
     ]
    }
   ],
   "source": [
    "pip install transformers"
   ]
  },
  {
   "cell_type": "code",
   "execution_count": 45,
   "metadata": {},
   "outputs": [],
   "source": [
    "from transformers import * "
   ]
  },
  {
   "cell_type": "code",
   "execution_count": 47,
   "metadata": {},
   "outputs": [
    {
     "data": {
      "application/vnd.jupyter.widget-view+json": {
       "model_id": "f5c89c0c18d549dbbc9a7ca2bf6b8690",
       "version_major": 2,
       "version_minor": 0
      },
      "text/plain": [
       "HBox(children=(FloatProgress(value=0.0, description='Downloading', max=433.0, style=ProgressStyle(description_…"
      ]
     },
     "metadata": {},
     "output_type": "display_data"
    },
    {
     "name": "stdout",
     "output_type": "stream",
     "text": [
      "\n"
     ]
    },
    {
     "data": {
      "application/vnd.jupyter.widget-view+json": {
       "model_id": "d13fa701838c4853b16b4555acd89f59",
       "version_major": 2,
       "version_minor": 0
      },
      "text/plain": [
       "HBox(children=(FloatProgress(value=0.0, description='Downloading', max=526681800.0, style=ProgressStyle(descri…"
      ]
     },
     "metadata": {},
     "output_type": "display_data"
    },
    {
     "name": "stdout",
     "output_type": "stream",
     "text": [
      "\n"
     ]
    },
    {
     "name": "stderr",
     "output_type": "stream",
     "text": [
      "Some weights of the model checkpoint at bert-base-cased were not used when initializing TFBertForSequenceClassification: ['nsp___cls', 'mlm___cls']\n",
      "- This IS expected if you are initializing TFBertForSequenceClassification from the checkpoint of a model trained on another task or with another architecture (e.g. initializing a BertForSequenceClassification model from a BertForPretraining model).\n",
      "- This IS NOT expected if you are initializing TFBertForSequenceClassification from the checkpoint of a model that you expect to be exactly identical (initializing a BertForSequenceClassification model from a BertForSequenceClassification model).\n",
      "Some weights of TFBertForSequenceClassification were not initialized from the model checkpoint at bert-base-cased and are newly initialized: ['dropout_43', 'classifier']\n",
      "You should probably TRAIN this model on a down-stream task to be able to use it for predictions and inference.\n"
     ]
    },
    {
     "name": "stdout",
     "output_type": "stream",
     "text": [
      "Model: \"tf_bert_for_sequence_classification\"\n",
      "_________________________________________________________________\n",
      "Layer (type)                 Output Shape              Param #   \n",
      "=================================================================\n",
      "bert (TFBertMainLayer)       multiple                  108310272 \n",
      "_________________________________________________________________\n",
      "dropout_43 (Dropout)         multiple                  0         \n",
      "_________________________________________________________________\n",
      "classifier (Dense)           multiple                  1538      \n",
      "=================================================================\n",
      "Total params: 108,311,810\n",
      "Trainable params: 108,311,810\n",
      "Non-trainable params: 0\n",
      "_________________________________________________________________\n"
     ]
    }
   ],
   "source": [
    "model_bert = TFBertForSequenceClassification.from_pretrained('bert-base-cased')\n",
    "\n",
    "model_bert.compile(loss = 'binary_crossentropy',\n",
    "                   optimizer = 'adam',\n",
    "                   metrics = ['accuracy']\n",
    "                  )\n",
    "\n",
    "model_bert.summary()"
   ]
  },
  {
   "cell_type": "code",
   "execution_count": null,
   "metadata": {},
   "outputs": [],
   "source": [
    "# output_bert = model_bert.fit(x_train, \n",
    "#                              y_train,\n",
    "#                              batch_size=batch_size,\n",
    "#                              epochs=5,\n",
    "#                              validation_data=(x_test, y_test))"
   ]
  },
  {
   "cell_type": "markdown",
   "metadata": {},
   "source": [
    "## Challenge\n",
    "\n",
    "You will be expected to use an Keras LSTM for a classicification task on the *Sprint Challenge*. "
   ]
  },
  {
   "cell_type": "markdown",
   "metadata": {
    "colab_type": "text",
    "id": "7pETWPIe362y"
   },
   "source": [
    "# LSTM Text generation with Keras (Learn)"
   ]
  },
  {
   "cell_type": "markdown",
   "metadata": {
    "colab_type": "text",
    "id": "7pETWPIe362y"
   },
   "source": [
    "## Overview\n",
    "\n",
    "What else can we do with LSTMs? Since we're analyzing the *sequence*, we can do more than classify - we can *generate* text. I'ved pulled some news stories using [newspaper](https://github.com/codelucas/newspaper/).\n",
    "\n",
    "This example is drawn from the Keras [documentation](https://keras.io/examples/lstm_text_generation/)."
   ]
  },
  {
   "cell_type": "code",
   "execution_count": 50,
   "metadata": {},
   "outputs": [],
   "source": [
    "from tensorflow.keras.callbacks import LambdaCallback\n",
    "from tensorflow.keras.models import Sequential\n",
    "from tensorflow.keras.layers import Dense, LSTM\n",
    "from tensorflow.keras.optimizers import RMSprop\n",
    "\n",
    "import numpy as np\n",
    "import random\n",
    "import sys\n",
    "import os"
   ]
  },
  {
   "cell_type": "code",
   "execution_count": 51,
   "metadata": {},
   "outputs": [],
   "source": [
    "data_files = os.listdir('./articles')"
   ]
  },
  {
   "cell_type": "code",
   "execution_count": 52,
   "metadata": {},
   "outputs": [],
   "source": [
    "# Read in Data\n",
    "\n",
    "data = []\n",
    "\n",
    "for file in data_files:\n",
    "    if file[-3:] == 'txt':\n",
    "        with open(f'./articles/{file}', 'r', encoding='utf-8') as f:\n",
    "            data.append(f.read())"
   ]
  },
  {
   "cell_type": "code",
   "execution_count": 53,
   "metadata": {},
   "outputs": [
    {
     "data": {
      "text/plain": [
       "136"
      ]
     },
     "execution_count": 53,
     "metadata": {},
     "output_type": "execute_result"
    }
   ],
   "source": [
    "len(data)"
   ]
  },
  {
   "cell_type": "code",
   "execution_count": 54,
   "metadata": {},
   "outputs": [
    {
     "data": {
      "text/plain": [
       "'Here are some recent headlines from schools around the country: In Indiana, officials played a segment of a 911 call of a teacher in a panic during the Columbine High School shooting to students. In Ohio, officers fired blank shots during an active-shooter drill. In South Carolina, an officer dressed in black posed as an intruder on an unannounced drill. In Michigan, a school is spending $48 million on a renovation that includes curved hallways and hiding niches, in hopes of protecting students from a mass shooting. In Florida, a police officer arrested two 6-year-old students for misdemeanor battery. In Colorado, teachers received buckets and kitty litter for students to use as toilets in case of a prolonged school lockdown.\\n\\nMass shootings, meaning incidents with at least two deaths, in schools are horrifying. But it is highly unlikely that a child would ever witness one. Research indicates that some security measures brought in to make schools safer — like realistic shooter trainings — may be causing children more harm than good.\\n\\nIt is 10 times more likely that a student will die on the way to school.\\n\\nOur chances of dying in a fire are also much greater — 1 in 1,500. But we don’t overreact.\\n\\nMore children have died from lightning strikes than from mass shootings in schools in the past 20 years. Still, we don’t obsess about them.\\n\\nExactly how common are school shootings?\\n\\nIn the two decades since Columbine, there have been 10 mass shootings in schools according to a recent analysis by James Alan Fox, a professor of criminology at Northeastern University who has been studying school violence for several decades. In total, 81 people have been killed, 64 of them students. That’s an average of four deaths per year, three of them students.\\n\\nEven one death is too many. But for perspective, 729 children committed suicide with a firearm in 2017, and 863 were victims of homicides by guns that year.\\n\\nSchool-age children killed by guns 729 suicides in 2017 863 homicides Average killed in school mass shootings each year since 1999 Sources: Centers for Disease Control and Prevention; average students killed since 1999 by James Alan Fox, Northeastern University. School-age children killed by guns 729 suicides in 2017 863 homicides Average killed in school mass shootings each year since 1999 Sources: Centers for Disease Control and Prevention; average students killed since 1999 by James Alan Fox, Northeastern University. School-age children killed by guns 729 suicides in 2017 863 homicides in 2017 Average killed in school mass shootings each year since 1999 Sources: Centers for Disease Control and Prevention; average students killed since 1999 by James Alan Fox, Northeastern University.\\n\\nNearly every public school in the country now conducts lockdown drills, and even the youngest students participate (last year, one school adapted a lullaby to prepare kindergartners). But very few studies have looked into the efficiency of these drills. One of them concluded that the practice can be helpful to teach students basic safety procedures. But to the author of the study, Jaclyn Schildkraut, an associate professor at the State University of New York at Oswego, there is no point in dramatizing the drills. “All that causes is fear,” she said.\\n\\nRestaurants have 10 times as many homicides as schools. Why do we want to arm teachers and not wait staffs?\\n\\n“There’s a misunderstanding in where the dangers are,” said Dewey G. Cornell, a psychologist and professor at the University of Virginia. “Kids are at far greater danger going to and from school, than they are in the classroom,” he said. “School counseling, academic support, that’s gonna do far more to keep our communities safe.”\\n\\nUnlike the United States, the other wealthy countries in the Group of Seven don’t do lockdown drills and rarely have school shootings. What is the United States doing that is so different from them?\\n\\nGun deaths per 100,000 12 United States 10 8 6 4 Other G7 countries 2 0 25 50 75 100 Guns per 100 people Sources: Institute for Health Metrics and Evaluation, Global Burden of Disease Study 2016; Small Arms Survey, 2017. Gun deaths per 100,000 12 United States 10 8 6 4 Other G7 countries 2 0 25 50 75 100 Guns per 100 people Sources: Institute for Health Metrics and Evaluation, Global Burden of Disease Study 2016; Small Arms Survey, 2017. Gun deaths per 100,000 12 United States 10 8 6 4 Other G7 countries 2 0 25 50 75 100 Guns per 100 people Sources: Institute for Health Metrics and Evaluation, Global Burden of Disease Study 2016; Small Arms Survey, 2017.\\n\\nMany researchers think easy access to guns is an important part of the problem. “Violence in schools is just a small part of the larger problem of gun violence in our society,” Cornell wrote in a statement about prevention of violence in schools and communities.\\n\\nMisguided safety measures, such as dramatized lockdown drills, may give us the impression that we are protecting children, when, in fact, we are handing them a burden that adults are failing to address.\\n\\nRead more:\\n\\n‘What if someone was shooting?’\\n\\nThey grew up practicing lockdown drills. Now they’re steering the conversation on gun violence.\\n\\nSchool shootings are extraordinarily rare. Why is fear of them driving policy?\\n\\nPutting more cops in schools won’t make schools safer, and it will likely inflict a lot of harm'"
      ]
     },
     "execution_count": 54,
     "metadata": {},
     "output_type": "execute_result"
    }
   ],
   "source": [
    "data[-1]"
   ]
  },
  {
   "cell_type": "code",
   "execution_count": 55,
   "metadata": {},
   "outputs": [],
   "source": [
    "# Encode Data as Chars\n",
    "\n",
    "# Gather all text \n",
    "# Why? 1. See all possible characters 2. For training / splitting later\n",
    "text = \" \".join(data)\n",
    "\n",
    "# Unique Characters\n",
    "chars = list(set(text))\n",
    "\n",
    "# Lookup Tables\n",
    "char_int = {c:i for i, c in enumerate(chars)} \n",
    "int_char = {i:c for i, c in enumerate(chars)} "
   ]
  },
  {
   "cell_type": "code",
   "execution_count": 56,
   "metadata": {},
   "outputs": [
    {
     "data": {
      "text/plain": [
       "121"
      ]
     },
     "execution_count": 56,
     "metadata": {},
     "output_type": "execute_result"
    }
   ],
   "source": [
    "len(chars)"
   ]
  },
  {
   "cell_type": "code",
   "execution_count": 57,
   "metadata": {},
   "outputs": [
    {
     "data": {
      "text/plain": [
       "{0: 'm',\n",
       " 1: 'ﬂ',\n",
       " 2: 'k',\n",
       " 3: '!',\n",
       " 4: '⅔',\n",
       " 5: 'v',\n",
       " 6: 'P',\n",
       " 7: 'ã',\n",
       " 8: 't',\n",
       " 9: '‘',\n",
       " 10: 'p',\n",
       " 11: 'é',\n",
       " 12: '©',\n",
       " 13: \"'\",\n",
       " 14: 'd',\n",
       " 15: 'E',\n",
       " 16: '&',\n",
       " 17: '🤔',\n",
       " 18: 'C',\n",
       " 19: '|',\n",
       " 20: 'i',\n",
       " 21: 'á',\n",
       " 22: 's',\n",
       " 23: ')',\n",
       " 24: '3',\n",
       " 25: '+',\n",
       " 26: 'H',\n",
       " 27: 'Z',\n",
       " 28: 'O',\n",
       " 29: '(',\n",
       " 30: '⭐',\n",
       " 31: '\\xad',\n",
       " 32: '%',\n",
       " 33: 'V',\n",
       " 34: '6',\n",
       " 35: 'r',\n",
       " 36: ' ',\n",
       " 37: 'ö',\n",
       " 38: '―',\n",
       " 39: '⅓',\n",
       " 40: '4',\n",
       " 41: '7',\n",
       " 42: '\\n',\n",
       " 43: 'T',\n",
       " 44: 'A',\n",
       " 45: 'R',\n",
       " 46: '…',\n",
       " 47: '#',\n",
       " 48: 'Y',\n",
       " 49: 'L',\n",
       " 50: '5',\n",
       " 51: '$',\n",
       " 52: 'j',\n",
       " 53: 'è',\n",
       " 54: 'ê',\n",
       " 55: '-',\n",
       " 56: 'S',\n",
       " 57: 'Q',\n",
       " 58: '{',\n",
       " 59: '[',\n",
       " 60: '\"',\n",
       " 61: ';',\n",
       " 62: 'z',\n",
       " 63: '?',\n",
       " 64: 'K',\n",
       " 65: '.',\n",
       " 66: 'J',\n",
       " 67: 'w',\n",
       " 68: 'q',\n",
       " 69: 'ñ',\n",
       " 70: '/',\n",
       " 71: '½',\n",
       " 72: '“',\n",
       " 73: 'x',\n",
       " 74: '·',\n",
       " 75: '👻',\n",
       " 76: ']',\n",
       " 77: '*',\n",
       " 78: '●',\n",
       " 79: 'W',\n",
       " 80: 'G',\n",
       " 81: 'b',\n",
       " 82: 'M',\n",
       " 83: '’',\n",
       " 84: 'o',\n",
       " 85: '—',\n",
       " 86: 'í',\n",
       " 87: 'B',\n",
       " 88: 'ó',\n",
       " 89: 'c',\n",
       " 90: 'X',\n",
       " 91: 'l',\n",
       " 92: 'N',\n",
       " 93: 'h',\n",
       " 94: '2',\n",
       " 95: 'a',\n",
       " 96: '9',\n",
       " 97: '_',\n",
       " 98: '×',\n",
       " 99: 'U',\n",
       " 100: ',',\n",
       " 101: 'f',\n",
       " 102: 'n',\n",
       " 103: 'I',\n",
       " 104: 'e',\n",
       " 105: 'u',\n",
       " 106: '–',\n",
       " 107: '•',\n",
       " 108: '0',\n",
       " 109: 'F',\n",
       " 110: '1',\n",
       " 111: 'D',\n",
       " 112: 'y',\n",
       " 113: ':',\n",
       " 114: '🗣',\n",
       " 115: '\\u2069',\n",
       " 116: 'g',\n",
       " 117: '@',\n",
       " 118: '\\u2066',\n",
       " 119: '8',\n",
       " 120: '”'}"
      ]
     },
     "execution_count": 57,
     "metadata": {},
     "output_type": "execute_result"
    }
   ],
   "source": [
    "int_char"
   ]
  },
  {
   "cell_type": "code",
   "execution_count": 58,
   "metadata": {},
   "outputs": [
    {
     "name": "stdout",
     "output_type": "stream",
     "text": [
      "sequences:  178374\n"
     ]
    }
   ],
   "source": [
    "# Create the sequence data\n",
    "\n",
    "maxlen = 40\n",
    "step = 5\n",
    "\n",
    "encoded = [char_int[c] for c in text]\n",
    "\n",
    "sequences = [] # Each element is 40 chars long\n",
    "next_char = [] # One element for each sequence\n",
    "\n",
    "for i in range(0, len(encoded) - maxlen, step):\n",
    "    \n",
    "    sequences.append(encoded[i : i + maxlen])\n",
    "    next_char.append(encoded[i + maxlen])\n",
    "    \n",
    "print('sequences: ', len(sequences))\n"
   ]
  },
  {
   "cell_type": "code",
   "execution_count": 59,
   "metadata": {},
   "outputs": [
    {
     "data": {
      "text/plain": [
       "[18,\n",
       " 84,\n",
       " 102,\n",
       " 8,\n",
       " 35,\n",
       " 20,\n",
       " 81,\n",
       " 105,\n",
       " 8,\n",
       " 20,\n",
       " 102,\n",
       " 116,\n",
       " 36,\n",
       " 89,\n",
       " 84,\n",
       " 91,\n",
       " 105,\n",
       " 0,\n",
       " 102,\n",
       " 20,\n",
       " 22,\n",
       " 8,\n",
       " 42,\n",
       " 42,\n",
       " 43,\n",
       " 93,\n",
       " 104,\n",
       " 36,\n",
       " 26,\n",
       " 84,\n",
       " 105,\n",
       " 22,\n",
       " 104,\n",
       " 36,\n",
       " 20,\n",
       " 22,\n",
       " 36,\n",
       " 84,\n",
       " 102,\n",
       " 36]"
      ]
     },
     "execution_count": 59,
     "metadata": {},
     "output_type": "execute_result"
    }
   ],
   "source": [
    "sequences[0]"
   ]
  },
  {
   "cell_type": "code",
   "execution_count": 62,
   "metadata": {},
   "outputs": [
    {
     "name": "stdout",
     "output_type": "stream",
     "text": [
      "C\n",
      "o\n",
      "n\n",
      "t\n",
      "r\n",
      "i\n",
      "b\n",
      "u\n",
      "t\n",
      "i\n",
      "n\n",
      "g\n",
      " \n",
      "c\n",
      "o\n",
      "l\n",
      "u\n",
      "m\n",
      "n\n",
      "i\n",
      "s\n",
      "t\n",
      "\n",
      "\n",
      "\n",
      "\n",
      "T\n",
      "h\n",
      "e\n",
      " \n",
      "H\n",
      "o\n",
      "u\n",
      "s\n",
      "e\n",
      " \n",
      "i\n",
      "s\n",
      " \n",
      "o\n",
      "n\n",
      " \n"
     ]
    }
   ],
   "source": [
    "for i in sequences[0]:\n",
    "    print(int_char[i])"
   ]
  },
  {
   "cell_type": "code",
   "execution_count": 63,
   "metadata": {},
   "outputs": [],
   "source": [
    "# Create x & y\n",
    "\n",
    "x = np.zeros((len(sequences), maxlen, len(chars)), dtype=np.bool)\n",
    "y = np.zeros((len(sequences),len(chars)), dtype=np.bool)\n",
    "\n",
    "for i, sequence in enumerate(sequences):\n",
    "    for t, char in enumerate(sequence):\n",
    "        x[i,t,char] = 1\n",
    "        \n",
    "    y[i, next_char[i]] = 1\n",
    "        "
   ]
  },
  {
   "cell_type": "code",
   "execution_count": 64,
   "metadata": {},
   "outputs": [
    {
     "data": {
      "text/plain": [
       "(101, 'f')"
      ]
     },
     "execution_count": 64,
     "metadata": {},
     "output_type": "execute_result"
    }
   ],
   "source": [
    "next_char[0], int_char[next_char[0]]"
   ]
  },
  {
   "cell_type": "code",
   "execution_count": 65,
   "metadata": {},
   "outputs": [
    {
     "data": {
      "text/plain": [
       "(178374, 40, 121)"
      ]
     },
     "execution_count": 65,
     "metadata": {},
     "output_type": "execute_result"
    }
   ],
   "source": [
    "x.shape\n",
    "\n",
    "# 178374 # number of characters (including steps)\n",
    "# Every input is a 40 * 121 matrix\n",
    "# 40 is the len of the char\n",
    "# 121 one hot encoded representation of the character"
   ]
  },
  {
   "cell_type": "code",
   "execution_count": 66,
   "metadata": {},
   "outputs": [
    {
     "data": {
      "text/plain": [
       "(178374, 121)"
      ]
     },
     "execution_count": 66,
     "metadata": {},
     "output_type": "execute_result"
    }
   ],
   "source": [
    "y.shape"
   ]
  },
  {
   "cell_type": "code",
   "execution_count": 67,
   "metadata": {},
   "outputs": [],
   "source": [
    "# build the model: a single LSTM\n",
    "\n",
    "model = Sequential()\n",
    "model.add(LSTM(128, input_shape=(maxlen, len(chars))))\n",
    "model.add(Dense(len(chars), activation='softmax'))\n",
    "\n",
    "model.compile(loss='categorical_crossentropy', optimizer='adam')"
   ]
  },
  {
   "cell_type": "code",
   "execution_count": 68,
   "metadata": {},
   "outputs": [],
   "source": [
    "def sample(preds):\n",
    "    # helper function to sample an index from a probability array\n",
    "    preds = np.asarray(preds).astype('float64')\n",
    "    preds = np.log(preds) / 1\n",
    "    exp_preds = np.exp(preds)\n",
    "    preds = exp_preds / np.sum(exp_preds)\n",
    "    probas = np.random.multinomial(1, preds, 1)\n",
    "    return np.argmax(probas)"
   ]
  },
  {
   "cell_type": "code",
   "execution_count": 69,
   "metadata": {},
   "outputs": [],
   "source": [
    "def on_epoch_end(epoch, _):\n",
    "    # Function invoked at end of each epoch. Prints generated text.\n",
    "    # Peek at the output of the epoch\n",
    "    \n",
    "    print()\n",
    "    print('----- Generating text after Epoch: %d' % epoch)\n",
    "    \n",
    "    start_index = random.randint(0, len(text) - maxlen - 1)\n",
    "    \n",
    "    generated = ''\n",
    "    \n",
    "    sentence = text[start_index: start_index + maxlen]\n",
    "    generated += sentence\n",
    "    \n",
    "    print('----- Generating with seed: \"' + sentence + '\"')\n",
    "    sys.stdout.write(generated)\n",
    "    \n",
    "    for i in range(400):\n",
    "        x_pred = np.zeros((1, maxlen, len(chars)))\n",
    "        for t, char in enumerate(sentence):\n",
    "            x_pred[0, t, char_int[char]] = 1\n",
    "            \n",
    "        preds = model.predict(x_pred, verbose=0)[0]\n",
    "        next_index = sample(preds)\n",
    "        next_char = int_char[next_index]\n",
    "        \n",
    "        sentence = sentence[1:] + next_char\n",
    "        \n",
    "        sys.stdout.write(next_char)\n",
    "        sys.stdout.flush()\n",
    "    print()\n",
    "\n",
    "\n",
    "print_callback = LambdaCallback(on_epoch_end=on_epoch_end)"
   ]
  },
  {
   "cell_type": "code",
   "execution_count": 70,
   "metadata": {},
   "outputs": [
    {
     "name": "stdout",
     "output_type": "stream",
     "text": [
      "Epoch 1/10\n",
      "5575/5575 [==============================] - ETA: 0s - loss: 2.5897\n",
      "----- Generating text after Epoch: 0\n",
      "----- Generating with seed: \"nnel grouping — one tight end, one runni\"\n",
      "nnel grouping — one tight end, one runnititas to ardysthet bud w uth be peatl. Jom uey 1Ns. T?u A 1D Ry OnE hes Fangeras, o memed, Tunt Yo . uu. faisn the the pondere singo fouf cancinnty O. Us. Thes tu Cected. 6the the moig erreztunghy Suly?, “kilen rudped, bokurs dedud cuthorien teet” tar fip chet ouchasted fariatige acs inst winat nis if the his the waws berkimuning ald.\n",
      "\n",
      "Ashiag thrus ,te wasion.\n",
      "\n",
      "Am’t -rubl Zo sours a, the Patrton s\n",
      "5575/5575 [==============================] - 459s 82ms/step - loss: 2.5897\n",
      "Epoch 2/10\n",
      "5574/5575 [============================>.] - ETA: 0s - loss: 2.2397\n",
      "----- Generating text after Epoch: 1\n",
      "----- Generating with seed: \" Louise Wolke on Tuesday, September 3, 2\"\n",
      " Louise Wolke on Tuesday, September 3, 2ud seise seyar titu shins semanstoned Kurigions fure 1Y firh Snor id of cuosschal extaled wgr Soncort, Tramudera Ammenter and “… S.. “Kre’s (S andmows ressis. As in mare eus antulte pet in pris see hor afaly, to reass tincenofing, by thor.\n",
      "\n",
      "Hhat In yxive dase seacet of tou drepand that cappy maby and disting oftto har pincortor, — the cander thinh.\n",
      "\n",
      "But elor thet. 2 yourur zama the Trumm. of she q\n",
      "5575/5575 [==============================] - 198s 36ms/step - loss: 2.2397\n",
      "Epoch 3/10\n",
      "5575/5575 [==============================] - ETA: 0s - loss: 2.1118\n",
      "----- Generating text after Epoch: 2\n",
      "----- Generating with seed: \"otect the president from any perceived t\"\n",
      "otect the president from any perceived the redibent framine” Byle Krims News fuinaded naruble the SHaic: Me6-Care it sho wasedia ases arament heve — wht in dith)/SYogkkineR sheve Surding Staic steatery’s a lating thit the Turtion Siffer the simero of lige uterg. Assulicotiond the hime commecumfyer if Tetr a sques) adpearic Kurderl it dee tark carming tract’s to anvidis, chorgesty has a fils home remesporitg eventses extipal Bopensibackm\n",
      "5575/5575 [==============================] - 197s 35ms/step - loss: 2.1118\n",
      "Epoch 4/10\n",
      "5574/5575 [============================>.] - ETA: 0s - loss: 2.0222\n",
      "----- Generating text after Epoch: 3\n",
      "----- Generating with seed: \"r Services or other websites or platform\"\n",
      "r Services or other websites or platformery work avor mate.\n",
      "\n",
      "AD\n",
      "\n",
      "AD\n",
      "\n",
      "Shat! Schake commeratted and undirting to proporn suiffrearieg and mone ald fik tor is prowith. I soresed tite and Han applays there imack the nawion. nownrogwar canykny OFtribyharn flosn’t the recemneins” count the Threers fowstermalda\n",
      "\n",
      "Ho poremiontl misvicces, in Poffroul-\n",
      "\n",
      "\n",
      "\n",
      "ay “Nitain’ve way op the palsmations you wheer it-lagrman prod the rewerkilies plosserd of f\n",
      "5575/5575 [==============================] - 199s 36ms/step - loss: 2.0222\n",
      "Epoch 5/10\n",
      "5575/5575 [==============================] - ETA: 0s - loss: 1.9539\n",
      "----- Generating text after Epoch: 4\n",
      "----- Generating with seed: \"he first six possessions resulted in pun\"\n",
      "he first six possessions resulted in pun more than a shtell moch, and[,. Kand, quarz, Oxepplace awsimcino whine to decides the sinporicld in you broms quitts AsanAly, Wheming kore who seo Mtary? Ahgh amolless, Hofa! And a-pelsiding, the Kus Efengo mursing and cett with to a more, by the aressder smally inthered the xervicary thise walds makes. Who actemment on a dun defughation. For masttra us contred were than gombaks for ‘wretch fall \n",
      "5575/5575 [==============================] - 198s 36ms/step - loss: 1.9539\n",
      "Epoch 6/10\n",
      "5575/5575 [==============================] - ETA: 0s - loss: 1.8964\n",
      "----- Generating text after Epoch: 5\n",
      "----- Generating with seed: \" institutionalist — stances that put her\"\n",
      " institutionalist — stances that put herr frums to we kseng ElCCS for Newwart, BBC Tumovic Chasmert on lies same curchess Condester to the balted they resedrisod Jessinf, ona in Araturone Dargh Print indrogal Lessty Dots, vackment on and callifed bable.”\n",
      "\n",
      "Who Octurtey, im langy wit, changes Sgest on-C&m. (emedors and mary tweych formiding not cussions to the reesent, his has wown arvists, doblet.\n",
      "\n",
      "\n",
      "\n",
      "Truge sifth]/12, freer propedely.”\n",
      "\n",
      "I\n",
      "5575/5575 [==============================] - 201s 36ms/step - loss: 1.8964\n",
      "Epoch 7/10\n",
      "5575/5575 [==============================] - ETA: 0s - loss: 1.8476\n",
      "----- Generating text after Epoch: 6\n",
      "----- Generating with seed: \"tion, the rest of the league has finally\"\n",
      "tion, the rest of the league has finally are the U.S. Interst offies in has warl sight fastlabbed .marode justur is itters for whan courde age grancisting sitiin, moce] abreston quacker Trump usbipires, bage inde Concemer\n",
      "\n",
      "•Linet. “People back in is inth, conteriticy sovended it Tirks Sard Dingtor his inftired in the didnt making to agon’s mone helding darkoout jucked to Rus. — lifts (2063. Tirm the 3he lonsed some teal you -uldight qua\n",
      "5575/5575 [==============================] - 202s 36ms/step - loss: 1.8476\n",
      "Epoch 8/10\n",
      "5575/5575 [==============================] - ETA: 0s - loss: 1.8052\n",
      "----- Generating text after Epoch: 7\n",
      "----- Generating with seed: \" interracial mix of African, European an\"\n",
      " interracial mix of African, European and 4 LeL Garm Supporce’s orter the scour deside and down to tham Pot, and fartlith his fartlight his dichats to the wilts are grive to the orlume, weild his tapen-lovic dokn like the End councaild, inforce applay to she wolldru has one us to was ithleverfenthting relage have commy anm agong hempal cassem of stroay. 24, propless to has of its did jur mirids after whitionss, purch deyon.\n",
      "\n",
      "That prosid\n",
      "5575/5575 [==============================] - 199s 36ms/step - loss: 1.8052\n",
      "Epoch 9/10\n",
      "5575/5575 [==============================] - ETA: 0s - loss: 1.7687\n",
      "----- Generating text after Epoch: 8\n",
      "----- Generating with seed: \"new I'd see some things that would be ba\"\n",
      "new I'd see some things that would be bass you wawnaly contiurentree, dranct dissarber Confubitad Aned yon feam streagy hussian welling to hamplower fiR us a rearable threiseming madn yin’s folly releavied Un.\n",
      "\n",
      "At the government ent to elections,’ malk [Agn.\n",
      "\n",
      "9uystever, Inald of “Nid.”\n",
      "\n",
      "The cerest terreks withdalt rowing Clustinls out Down We MLAvinn’s critives and Bherney of caren— your may you’ve the inet CSS fight. Incount of informa\n",
      "5575/5575 [==============================] - 199s 36ms/step - loss: 1.7687\n",
      "Epoch 10/10\n",
      "5574/5575 [============================>.] - ETA: 0s - loss: 1.7358\n",
      "----- Generating text after Epoch: 9\n",
      "----- Generating with seed: \"vestigators behind closed doors Monday a\"\n",
      "vestigators behind closed doors Monday at this plinots attection taid warks the KrusB” Phend-remeactment simistances, lover, sand, sp Constally as alows awia for 2320, wnece is losenal bight not stoldabied befor-formated now “corvise and tham stent most accomm. They icterciably as moot should feen bectle,” ewhore the right, an upldile similated busen as jost is Ot thist is wower.\n",
      "\n",
      "What as the temperce tiveniese consellical colleanuct, a\n",
      "5575/5575 [==============================] - 312s 56ms/step - loss: 1.7358\n"
     ]
    },
    {
     "data": {
      "text/plain": [
       "<tensorflow.python.keras.callbacks.History at 0x7fdd5615eb90>"
      ]
     },
     "execution_count": 70,
     "metadata": {},
     "output_type": "execute_result"
    }
   ],
   "source": [
    "# fit the model\n",
    "\n",
    "model.fit(x, y,\n",
    "          batch_size=32,\n",
    "          epochs=10,\n",
    "          callbacks=[print_callback])"
   ]
  },
  {
   "cell_type": "markdown",
   "metadata": {},
   "source": [
    "## Challenge\n",
    "\n",
    "You will be expected to use a Keras LSTM to generate text on today's assignment. "
   ]
  },
  {
   "cell_type": "markdown",
   "metadata": {},
   "source": [
    "# Review\n",
    "\n",
    "- <a href=\"#p1\">Part 1: </a>Describe Neural Networks used for modeling sequences\n",
    "    * Sequence Problems:\n",
    "        - Time Series (like Stock Prices, Weather, etc.)\n",
    "        - Text Classification\n",
    "        - Text Generation\n",
    "        - And many more! :D\n",
    "    * LSTMs are generally preferred over RNNs for most problems\n",
    "    * LSTMs are typically a single hidden layer of LSTM type; although, other architectures are possible.\n",
    "    * Keras has LSTMs/RNN layer types implemented nicely\n",
    "- <a href=\"#p2\">Part 2: </a>Apply a LSTM to a text generation problem using Keras\n",
    "    * Shape of input data is very important\n",
    "    * Can take a while to train\n",
    "    * You can use it to write movie scripts. :P "
   ]
  },
  {
   "cell_type": "markdown",
   "metadata": {},
   "source": [
    "![SimpleRNN](Images/SimpleRNN.png)"
   ]
  },
  {
   "cell_type": "markdown",
   "metadata": {},
   "source": [
    "![Unrolled](Images/UnrolledRNN.png)"
   ]
  },
  {
   "cell_type": "markdown",
   "metadata": {},
   "source": [
    "![MultipleLayers](Images/MultipleHiddenLayers.png)"
   ]
  },
  {
   "cell_type": "markdown",
   "metadata": {},
   "source": [
    "![Problem](Images/Vanishing%20Gradient%20Probelm.png)"
   ]
  },
  {
   "cell_type": "markdown",
   "metadata": {},
   "source": [
    "![LSTM](Images/LSTM.png)"
   ]
  },
  {
   "cell_type": "code",
   "execution_count": null,
   "metadata": {},
   "outputs": [],
   "source": []
  }
 ],
 "metadata": {
  "accelerator": "GPU",
  "colab": {
   "collapsed_sections": [],
   "name": "LS_DS_441_RNN_and_LSTM.ipynb",
   "provenance": [],
   "version": "0.3.2"
  },
  "kernelspec": {
   "display_name": "Python 3",
   "language": "python",
   "name": "python3"
  },
  "language_info": {
   "codemirror_mode": {
    "name": "ipython",
    "version": 3
   },
   "file_extension": ".py",
   "mimetype": "text/x-python",
   "name": "python",
   "nbconvert_exporter": "python",
   "pygments_lexer": "ipython3",
   "version": "3.7.6"
  }
 },
 "nbformat": 4,
 "nbformat_minor": 4
}
