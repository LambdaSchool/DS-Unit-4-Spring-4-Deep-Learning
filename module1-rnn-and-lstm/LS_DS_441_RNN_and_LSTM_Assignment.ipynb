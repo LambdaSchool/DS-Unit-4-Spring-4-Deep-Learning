{
 "cells": [
  {
   "cell_type": "markdown",
   "metadata": {},
   "source": [
    "# Assignment\n",
    "\n",
    "![Monkey at a typewriter](https://upload.wikimedia.org/wikipedia/commons/thumb/3/3c/Chimpanzee_seated_at_typewriter.jpg/603px-Chimpanzee_seated_at_typewriter.jpg)\n",
    "\n",
    "It is said that [infinite monkeys typing for an infinite amount of time](https://en.wikipedia.org/wiki/Infinite_monkey_theorem) will eventually type, among other things, the complete works of Wiliam Shakespeare. Let's see if we can get there a bit faster, with the power of Recurrent Neural Networks and LSTM.\n",
    "\n",
    "This text file contains the complete works of Shakespeare: https://www.gutenberg.org/files/100/100-0.txt\n",
    "\n",
    "Use it as training data for an RNN - you can keep it simple and train character level, and that is suggested as an initial approach.\n",
    "\n",
    "Then, use that trained RNN to generate Shakespearean-ish text. Your goal - a function that can take, as an argument, the size of text (e.g. number of characters or lines) to generate, and returns generated text of that size.\n",
    "\n",
    "Note - Shakespeare wrote an awful lot. It's OK, especially initially, to sample/use smaller data and parameters, so you can have a tighter feedback loop when you're trying to get things running. Then, once you've got a proof of concept - start pushing it more!"
   ]
  },
  {
   "cell_type": "code",
   "execution_count": 1,
   "metadata": {},
   "outputs": [],
   "source": [
    "import pandas as pd\n",
    "import numpy as np"
   ]
  },
  {
   "cell_type": "code",
   "execution_count": 2,
   "metadata": {},
   "outputs": [],
   "source": [
    "text_file = open('/Users/ksmith/Documents/Code/DS1/Unit4/DS-Unit-4-Sprint-4-Deep-Learning/module1-rnn-and-lstm/www.gutenberg.org/files/100/100-0.txt')\n",
    "\n",
    "lines = text_file.read().split('\\n')\n",
    "\n",
    "df = pd.DataFrame(lines)"
   ]
  },
  {
   "cell_type": "code",
   "execution_count": 3,
   "metadata": {},
   "outputs": [],
   "source": [
    "import string\n",
    "import re\n",
    "\n",
    "table = str.maketrans('', '', string.punctuation)\n",
    "\n",
    "\n",
    "# df[0] = df[0].str.lower()  #Text is lowercase\n",
    "# df[0] = df[0].str.translate(table) #Remove punctuation\n",
    "df[0] = df[0].str.split(r'(\\s+)')\n",
    "    \n",
    "# df = df[135:156826]\n",
    "df = df[135:500]"
   ]
  },
  {
   "cell_type": "code",
   "execution_count": 4,
   "metadata": {},
   "outputs": [],
   "source": [
    "flat_list = [item for sublist in df[0] for item in sublist]"
   ]
  },
  {
   "cell_type": "code",
   "execution_count": 5,
   "metadata": {},
   "outputs": [
    {
     "name": "stdout",
     "output_type": "stream",
     "text": [
      "unique characters :  1063\n",
      "txt_data_size :  4423\n"
     ]
    }
   ],
   "source": [
    "# Based on \"The Unreasonable Effectiveness of RNN\" implementation\n",
    "\n",
    "chars = list(set(flat_list)) # split and remove duplicate characters. convert to list.\n",
    "\n",
    "num_chars = len(chars) # the number of unique characters\n",
    "txt_data_size = len(flat_list)\n",
    "\n",
    "print(\"unique characters : \", num_chars)\n",
    "print(\"txt_data_size : \", txt_data_size)"
   ]
  },
  {
   "cell_type": "code",
   "execution_count": 6,
   "metadata": {},
   "outputs": [
    {
     "name": "stdout",
     "output_type": "stream",
     "text": [
      "{'': 0, 'make': 1, 'Time’s': 2, 'Beauty’s': 3, 'house': 4, 'possession': 5, 'it': 6, 'confounds': 7, 'That’s': 8, 'pricked': 9, 'forsake,': 10, 'trees': 11, 'sacred': 12, 'engraft': 13, 'weary': 14, 'top': 15, 'Your': 16, 'green': 17, 'at': 18, 'give.': 19, 'shake': 20, 'believe': 21, 'tattered': 22, 'prisoner': 23, 'shame,': 24, 'I': 25, 'whom': 26, 'clock': 27, 'diest': 28, 'more;': 29, 'state': 30, 'painted': 31, 'die.': 32, 'hues': 33, 'deserv’d': 34, 'tillage': 35, 'to': 36, 'Mark': 37, 'live,': 38, 'having': 39, 'Be': 40, 'music': 41, 'untrimmed:': 42, 'judgement': 43, 'give?': 44, 'husbandry?': 45, 'tract': 46, 'barren': 47, 'means': 48, 'now,': 49, 'converted': 50, 'lease': 51, 'violet': 52, 'liquid': 53, 'look': 54, 'besiege': 55, 'age,': 56, 'sire,': 57, 'sing:': 58, 'Borne': 59, 'Doth': 60, 'sweet': 61, 'Sometime': 62, 'decease,': 63, 'Which': 64, 'hides': 65, 'winds': 66, 'master': 67, 'livery': 68, 'foe,': 69, 'beauty': 70, 'hand': 71, 'read': 72, 'nothing.': 73, 'counterfeit:': 74, '17': 75, 'should': 76, 'lies,': 77, 'Resembling': 78, 'folly,': 79, 'souls': 80, 'earthly': 81, '19': 82, 'fear': 83, 'how': 84, 'frank': 85, 'woman’s': 86, 'murd’rous': 87, 'own': 88, 'And,': 89, 'warm': 90, 'annoy?': 91, 'convertest,': 92, 'dearths,': 93, 'place,': 94, 'brief': 95, 'pen': 96, 'ruinate': 97, 'draw': 98, 'each': 99, 'grave': 100, 'them': 101, 'shape': 102, 'threescore': 103, 'sweetly': 104, 'seasons’': 105, 'their': 106, 'fell': 107, 'Shifts': 108, 'gentle': 109, '3': 110, 'gracious': 111, 'shows': 112, 'breed': 113, 'rich': 114, 'bear’st': 115, 'date.': 116, 'Pity': 117, 'men’s': 118, 'where': 119, 'hast': 120, 'same,': 121, 'majesty,': 122, 'night,': 123, 'youth': 124, 'secret': 125, 'much': 126, 'loan;': 127, 'scorned,': 128, 'used': 129, 'copy': 130, 'life?': 131, 'art': 132, 'out-going': 133, 'burn': 134, 'Unlooked': 135, 'end,': 136, 'prognosticate,': 137, '11': 138, 'pupil': 139, 'hideous': 140, 'fairly': 141, 'self': 142, 'usurer': 143, 'What': 144, 'effect': 145, 'enjoys': 146, 'Profitless': 147, 'thrive': 148, 'receiv’st': 149, 'was.': 150, 'wail': 151, 'for': 152, 'wane': 153, '7': 154, 'nor': 155, 'self-same': 156, 'there,': 157, 'stage': 158, 'leaves': 159, 'outward': 160, 'controlling,': 161, 'shifting': 162, 'self’s': 163, 'great': 164, 'fair,': 165, 'No': 166, 'hours,': 167, 'featureless,': 168, 'chance,': 169, 'remembered': 170, '12': 171, 'knowledge': 172, 'up': 173, 'well-tuned': 174, 'play': 175, 'live?': 176, 'song': 177, 'determination,': 178, 'distilled:': 179, 'rhyme?': 180, 'bud': 181, 'praise.': 182, 'brave': 183, 'live': 184, 'Make': 185, 'ever': 186, 'conquest': 187, 'given': 188, 'could': 189, 'Yet': 190, 'perceive': 191, 'lofty': 192, 'heavenly': 193, 'here': 194, 'chide': 195, 'old': 196, 'Whereon': 197, 'small': 198, 'renewest,': 199, 'not,': 200, 'wastes': 201, 'semblance': 202, 'Pluck': 203, 'fairer': 204, 'gardens': 205, 'womb': 206, 'poet': 207, 'willing': 208, 'eyes,': 209, 'coming': 210, 'Making': 211, 'bear:': 212, 'ordering;': 213, 'son.': 214, 'all': 215, 'heir': 216, 'evil': 217, 'pencil)': 218, 'acquainted': 219, 'nature': 220, 'ragged': 221, 'Beauty': 222, 'by': 223, 'decay': 224, 'maiden': 225, 'mortal': 226, 'count,': 227, 'we': 228, 'gaudy': 229, 'note': 230, 'tells': 231, 'Look': 232, 'one,': 233, 'bereft,': 234, 'possessed': 235, 'despite': 236, 'another': 237, 'Vaunt': 238, 'new.': 239, 'Sings': 240, 'abuse,': 241, 'art,': 242, 'Nature’s': 243, 'child,': 244, 'widow': 245, 'joy': 246, 'numbers': 247, 'it:': 248, 'wouldst': 249, 'comment.': 250, 'thou,': 251, 'hill,': 252, 'sometime': 253, 'long': 254, 'car,': 255, 'fast': 256, 'self-substantial': 257, 'will': 258, 'away:': 259, 'viewest,': 260, 'would': 261, 'half': 262, 'grow,': 263, 'carve': 264, 'again': 265, 'cold?': 266, 'bear': 267, 'tell': 268, 'eyes': 269, 'lovely': 270, 'image': 271, 'Were': 272, 'most': 273, 'use': 274, 'had': 275, 'rage': 276, 'The': 277, 'Since': 278, 'quality,': 279, 'remembrance': 280, 'sum': 281, 'field,': 282, 'beguile': 283, 'lend,': 284, 'men.': 285, 'kind,': 286, 'That': 287, 'treasure': 288, 'never-resting': 289, 'worth': 290, 'may': 291, 'pleasure,': 292, 'gusts': 293, 'reeleth': 294, 'cruel:': 295, 'many,': 296, 'day?': 297, 'unthrift': 298, 'wert': 299, 'Lo': 300, 'purpose': 301, 'find.': 302, 'every': 303, 'nothing': 304, 'held:': 305, 'himself': 306, 'so,': 307, 'trenches': 308, 'store': 309, 'THE': 310, 'eat': 311, 'within': 312, 'very': 313, 'Leese': 314, 'silvered': 315, 'liker': 316, 'twice': 317, 'fairest': 318, 'frost': 319, 'shalt': 320, 'drawn': 321, 'fashion,': 322, 'another,': 323, 'waste': 324, 'orient': 325, 'dost': 326, 'none': 327, 'evident:': 328, 'weed': 329, 'Time?': 330, 'glutton': 331, 'head,': 332, 'feeble': 333, 'You': 334, 'teeth': 335, 'sunken': 336, 'Calls': 337, 'Rough': 338, 'heaven': 339, '(yellowed': 340, 'death': 341, 'posterity?': 342, 'destroys': 343, 'too': 344, 'winters': 345, 'deserts?': 346, 'false': 347, 'answer': 348, 'singleness': 349, '’gainst': 350, 'chief': 351, 'forty': 352, 'endowed,': 353, 'inconstant': 354, 'store,': 355, 'erst': 356, 'since': 357, 'thine,': 358, 'keep,': 359, 'men': 360, 'gone,': 361, 'touches': 362, '15': 363, 'get': 364, 'hence.': 365, 'when': 366, 'winter': 367, 'Proving': 368, 'wife,': 369, 'traffic': 370, '14': 371, 'darling': 372, 'thing': 373, 'loveliness': 374, 'bestow’st,': 375, 'wilt': 376, 'gift': 377, 'heart': 378, 'brood,': 379, 'themselves': 380, 'repair': 381, 'climbed': 382, 'Disdains': 383, 'time.': 384, 'love': 385, 'defence': 386, 'sap,': 387, 'brag': 388, 'skill.': 389, 'decrease,': 390, 'hours': 391, 'convert:': 392, 'tongue,': 393, 'year': 394, 'heinous': 395, 'die,': 396, 'steep-up': 397, 'paws,': 398, 'Despite': 399, '‘This': 400, 'calls': 401, 'show,': 402, 'thee': 403, 'lets': 404, 'To': 405, 'Leaving': 406, 'he': 407, 'meet,': 408, 'other': 409, 'tender': 410, 'see': 411, '(fore': 412, 'say': 413, 'dig': 414, 'ornament,': 415, 'Now': 416, 'shouldst': 417, 'where:': 418, '                    ': 419, 'o’er': 420, 'write': 421, 'and': 422, 'war': 423, 'feel’st': 424, 'How': 425, 'back': 426, 'least': 427, 'Herein': 428, 'minded': 429, '1': 430, 'husbandry': 431, 'stretched': 432, 'youngly': 433, 'For': 434, 'pleasure': 435, 'hue': 436, 'before': 437, 'virtuous': 438, 'wet': 439, 'old,': 440, 'even': 441, 'niggard': 442, 'shall': 443, 'prove': 444, 'children’s': 445, 'proud': 446, 'behold': 447, 'adding': 448, '6': 449, 'delights': 450, 'sunk': 451, 'upon': 452, 'frame': 453, 'Can': 454, 'else': 455, 'after': 456, 'parts:': 457, 'kind-hearted': 458, 'Serving': 459, 'usury,': 460, 'out': 461, 'short': 462, 'pilgrimage:': 463, 'derive,': 464, 'excuse,’': 465, 'course': 466, 'offend': 467, 'Devouring': 468, 'go': 469, 'influence': 470, 'theirs,': 471, 'Neither': 472, 'shade,': 473, 'why': 474, 'succeeding': 475, 'many': 476, 'cold.': 477, 'content,': 478, 'self-killed:': 479, 'beard:': 480, 'times': 481, 'mine': 482, 'often': 483, 'wear': 484, 'debateth': 485, 'passion,': 486, 'tell;': 487, 'unthrifts,': 488, 'pent': 489, 'flowers,': 490, 'Harsh,': 491, 'work': 492, 'Pointing': 493, 'constant': 494, 'on': 495, 'light': 496, 'consum’st': 497, 'living': 498, 'Of': 499, 'checked': 500, 'sky:': 501, 'date:': 502, 'distillation': 503, 'time': 504, 'face': 505, 'consider': 506, 'but': 507, 'noon:': 508, 'Time': 509, 'dimmed,': 510, 'sorry': 511, 'ten': 512, 'they': 513, 'Ah,': 514, 'pluck,': 515, 'forbid': 516, 'Where': 517, 'thine': 518, 'such': 519, 'way:': 520, 'change': 521, 'niggarding:': 522, 'behind,': 523, 'antique': 524, 'changing': 525, 'knows': 526, 'luck,': 527, 'Cheered': 528, 'your': 529, 'acceptable': 530, 'riper': 531, 'bareness': 532, 'lose': 533, 'treasure.': 534, 'tomb': 535, 'bear.': 536, 'amazeth.': 537, 'crime,': 538, 'shame': 539, 'Sap': 540, 'the': 541, 'married': 542, 'among': 543, 'thee.': 544, 'herald': 545, 'happies': 546, 'SONNETS': 547, 'question': 548, 'alive': 549, 'unused': 550, 'stormy': 551, 'free:': 552, 'world': 553, 'summer': 554, 'declines,': 555, 'scythe': 556, 'created,': 557, 'sullied': 558, 'rain': 559, 'gladly,': 560, 'light’s': 561, 'less': 562, 'do': 563, 'bright': 564, 'grow’st,': 565, 'doom': 566, 'weep,': 567, 'perfection': 568, 'woman': 569, 'if': 570, 'abundance': 571, 'only': 572, 'thy': 573, 'prime,': 574, 'wilt,': 575, '5': 576, 'hate': 577, 'it,': 578, 'fading': 579, 'gaze': 580, 'spend': 581, 'hot': 582, 'worms': 583, 'with': 584, 'husband’s': 585, 'Whose': 586, 'be.': 587, 'Feed’st': 588, 'Attending': 589, 'way': 590, 'filled': 591, 'any': 592, 'seasons': 593, 'Till': 594, 'barrenly': 595, 'Find': 596, 'issueless': 597, 'increase,': 598, 'carved': 599, 'mak’st': 600, 'metre': 601, 'swift-footed': 602, 'gazed': 603, 'together': 604, 'joy:': 605, 'youth’s': 606, 'April': 607, 'Let': 608, 'blood': 609, 'still': 610, 'one': 611, 'speechless': 612, 'unset,': 613, 'pen,': 614, 'fuel,': 615, 'fall': 616, 'tyrant': 617, 'deny': 618, 'hear,': 619, 'largess': 620, 'bristly': 621, 'her': 622, 'parts': 623, 'mother.': 624, 'number': 625, 'bosom': 626, 'memory:': 627, 'inward': 628, 'brow,': 629, 'mightier': 630, 'self-willed': 631, 'Like': 632, ' ': 633, 'rights': 634, 'rage,': 635, 'him,': 636, 'earth': 637, '21': 638, 'fond': 639, 'what': 640, 'thunder,': 641, '  ': 642, 'which': 643, 'wherefore': 644, 'Him': 645, 'sounds,': 646, 'unfair': 647, 'so.': 648, 'Holds': 649, 'perish:': 650, 'compare': 651, 'Save': 652, 'you,': 653, '10': 654, 'wish': 655, 'My': 656, 'meant': 657, 'lusty': 658, 'blunt': 659, 'must': 660, 'prepare,': 661, 'gold': 662, 'vial;': 663, 'there': 664, 'thereby,': 665, 'fair': 666, 'glass,': 667, 'blood,': 668, 'little': 669, 'due,': 670, 'time,': 671, 'takes': 672, 'never': 673, 'Why': 674, 'ne’er': 675, 'fortify': 676, 'In': 677, 'Within': 678, 'let': 679, 'sight,': 680, 'huge': 681, 'th’': 682, 'age)': 683, 'They': 684, 'song.': 685, 'pattern': 686, 'flowers': 687, 'use,': 688, 'under': 689, 'good,': 690, 'Sweets': 691, 'stand': 692, 'yet': 693, '13': 694, 'His': 695, 'Upon': 696, 'ere': 697, 'my': 698, 'devour': 699, 'walls': 700, 'fortune': 701, 'life': 702, 'object': 703, 'this': 704, 'fierce': 705, 'Against': 706, 'executor': 707, 'depart,': 708, 'refigured': 709, 'hap': 710, 'Sets': 711, 'heat': 712, 'princes': 713, 'When': 714, 'canopy': 715, 'excel:': 716, 'bounty': 717, 'jaws,': 718, 'new-appearing': 719, 'mind,': 720, 'are': 721, 'stay,': 722, 'left': 723, 'happier': 724, 'print': 725, 'then': 726, 'If': 727, 'windows': 728, 'addition': 729, 'mayst': 730, 'Is': 731, 'An': 732, 'whate’er': 733, 'me': 734, 'departest,': 735, 'were': 736, 'low': 737, 'husband': 738, 'call': 739, 'love?': 740, 'famine': 741, 'eye': 742, 'predict': 743, 'makeless': 744, 'As': 745, 'minutes': 746, 'middle': 747, 'unless': 748, 'Who': 749, 'herd': 750, 'thee:': 751, 'Will': 752, '16': 753, 'bloody': 754, 'give': 755, 'bier': 756, 'wrought': 757, 'white:': 758, 'Though': 759, 'seal,': 760, 'blessed': 761, 'allow,': 762, 'flame': 763, 'conspire,': 764, 'first': 765, 'sits': 766, 'Hast': 767, 'touched': 768, 'beauteous': 769, 'couldst': 770, 'contracted': 771, 'substance': 772, 'though': 773, 'toward': 774, 'me,': 775, 'Not': 776, 'whose': 777, 'Seeking': 778, 'adore': 779, 'dear': 780, 'spring,': 781, 'O': 782, '‘Thou': 783, 'plagues,': 784, 'tombed': 785, 'thee,': 786, 'whereupon': 787, 'a-doting,': 788, 'being': 789, 'not': 790, 'self-love': 791, 'say,': 792, 'Unthrifty': 793, 'this,': 794, 'Then': 795, 'day,': 796, 'kept': 797, 'truth’s': 798, 'desire:': 799, 'May,': 800, 'breathe': 801, 'thou': 802, 'well': 803, 'private': 804, 'lov’st': 805, 'youthful': 806, 'have': 807, 'shines,': 808, 'worst': 809, 'dwell': 810, 'winter’s': 811, 'in': 812, 'graces,': 813, 'Or': 814, 'fresh': 815, 'rhyme.': 816, 'gave': 817, 'yours,': 818, 'She': 819, 'life,': 820, 'truth': 821, 'golden': 822, 'new': 823, 'beauty,': 824, 'unions': 825, 'child': 826, 'lodged': 827, '(Time’s': 828, 'hate,': 829, 'conceit': 830, 'thought,': 831, 'that': 832, 'still,': 833, 'world’s': 834, 'forbidden': 835, 'homage': 836, 'go,': 837, 'termed': 838, 'mutual': 839, 'deface,': 840, 'spend,': 841, 'uneared': 842, 'sadly?': 843, 'him': 844, 'pleasing': 845, 'cold': 846, 'Gilding': 847, 'nature’s': 848, '4': 849, 'might': 850, 'duteous)': 851, 'Music': 852, 'more,': 853, 'moment.': 854, 'women’s': 855, 'beloved': 856, 'can': 857, 'roof': 858, 'user': 859, 'steals': 860, 'distilled': 861, 'grows': 862, 'single': 863, '18': 864, 'sweets': 865, 'quite': 866, 'tyrants': 867, 'looks': 868, 'buds': 869, 'string': 870, 'stick’st': 871, 'love’s': 872, 'wrong,': 873, 'son': 874, 'like': 875, 'By': 876, 'seeming': 877, 'wasteful': 878, 'eternal': 879, 'Strikes': 880, 'Such': 881, 'as': 882, 'oft': 883, 'stop': 884, 'bequest': 885, 'methinks': 886, 'made': 887, '2': 888, 'phoenix,': 889, 'glad': 890, 'gives': 891, 'Time:': 892, 'o’er-snowed': 893, 'Mine': 894, 'did': 895, 'mistress': 896, 'From': 897, 'gazeth,': 898, 'Lifts': 899, 'Nor': 900, 'untainted': 901, 'dies': 902, 'days;': 903, 'Those': 904, 'sheaves': 905, 'lends': 906, 'unbless': 907, 'all-eating': 908, 'who': 909, 'beauty’s': 910, 'alone,': 911, 'sweet.': 912, 'praise': 913, 'wide': 914, 'an': 915, 'age': 916, 'leads': 917, 'from': 918, 'none’.': 919, 'nought': 920, 'papers': 921, 'a': 922, 'Without': 923, 'best': 924, 'Thy': 925, 'his': 926, 'thine.': 927, 'desire': 928, 'highmost': 929, 'presence': 930, 'poet’s': 931, 'uphold,': 932, 'happy': 933, 'complexion': 934, 'bounteous': 935, 'lives': 936, 'end': 937, 'summer’s': 938, 'verse': 939, 'lion’s': 940, 'cherish:': 941, 'widow’s': 942, '20': 943, 'mind:': 944, 'Much': 945, 'fade,': 946, 'ow’st,': 947, 'white': 948, 'glass': 949, 'strong': 950, 'Thou': 951, 'deep': 952, 'wisdom,': 953, 'succession': 954, 'death’s': 955, 'lines': 956, 'heir.': 957, 'defeated,': 958, 'thriftless': 959, 'Ten': 960, 'hear’st': 961, 'pay': 962, 'burning': 963, 'some': 964, 'issue': 965, 'temperate:': 966, 'be': 967, 'young.': 968, 'audit': 969, 'cease,': 970, 'honour': 971, 'With': 972, 'faces.': 973, 'long-lived': 974, 'thereby': 975, 'wrinkles': 976, 'now': 977, 'father,': 978, 'come': 979, 'leave?': 980, 'of': 981, 'more': 982, 'Die': 983, 'mother’s': 984, 'true': 985, 'hath': 986, 'you': 987, 'stars': 988, 'memory.': 989, 'away': 990, 'mother,': 991, 'commits.': 992, 'A': 993, 'pitch': 994, 'man': 995, 'day': 996, 'or': 997, 'canst': 998, 'decay,': 999, 'wind,': 1000, 'unprovident.': 1001, 'sums': 1002, 'is': 1003, 'others': 1004, 'presenteth': 1005, 'buriest': 1006, 'churl,': 1007, 'asked,': 1008, 'So': 1009, 'girded': 1010, 'Grant': 1011, 'concord': 1012, 'astronomy,': 1013, 'hold': 1014, 'self,': 1015, 'rude,': 1016, 'height': 1017, 'rolling:': 1018, 'deceive,': 1019, 'be,': 1020, 'And': 1021, 'form': 1022, 'longer': 1023, 'legacy?': 1024, 'tiger’s': 1025, 'painted,': 1026, 'know,': 1027, 'eye,': 1028, 'through': 1029, 'doth': 1030, 'plants': 1031, 'keen': 1032, 'keeps': 1033, 'world,': 1034, '9': 1035, 'she': 1036, 'But': 1037, '8': 1038, 'ear,': 1039, 'This': 1040, 'fleet’st,': 1041, 'leaves,': 1042, 'sweets:': 1043, 'yours': 1044, 'die': 1045, 'high': 1046, 'so': 1047, 'Shall': 1048, 'past': 1049, 'curls': 1050, 'no': 1051, 'those': 1052, 'than': 1053, 'beauties': 1054, 'it;': 1055, 'see,': 1056, 'sable': 1057, 'creatures': 1058, 'prove,': 1059, 'rose': 1060, 'count': 1061, 'wand’rest': 1062}\n",
      "----------------------------------------------------\n",
      "{0: '', 1: 'make', 2: 'Time’s', 3: 'Beauty’s', 4: 'house', 5: 'possession', 6: 'it', 7: 'confounds', 8: 'That’s', 9: 'pricked', 10: 'forsake,', 11: 'trees', 12: 'sacred', 13: 'engraft', 14: 'weary', 15: 'top', 16: 'Your', 17: 'green', 18: 'at', 19: 'give.', 20: 'shake', 21: 'believe', 22: 'tattered', 23: 'prisoner', 24: 'shame,', 25: 'I', 26: 'whom', 27: 'clock', 28: 'diest', 29: 'more;', 30: 'state', 31: 'painted', 32: 'die.', 33: 'hues', 34: 'deserv’d', 35: 'tillage', 36: 'to', 37: 'Mark', 38: 'live,', 39: 'having', 40: 'Be', 41: 'music', 42: 'untrimmed:', 43: 'judgement', 44: 'give?', 45: 'husbandry?', 46: 'tract', 47: 'barren', 48: 'means', 49: 'now,', 50: 'converted', 51: 'lease', 52: 'violet', 53: 'liquid', 54: 'look', 55: 'besiege', 56: 'age,', 57: 'sire,', 58: 'sing:', 59: 'Borne', 60: 'Doth', 61: 'sweet', 62: 'Sometime', 63: 'decease,', 64: 'Which', 65: 'hides', 66: 'winds', 67: 'master', 68: 'livery', 69: 'foe,', 70: 'beauty', 71: 'hand', 72: 'read', 73: 'nothing.', 74: 'counterfeit:', 75: '17', 76: 'should', 77: 'lies,', 78: 'Resembling', 79: 'folly,', 80: 'souls', 81: 'earthly', 82: '19', 83: 'fear', 84: 'how', 85: 'frank', 86: 'woman’s', 87: 'murd’rous', 88: 'own', 89: 'And,', 90: 'warm', 91: 'annoy?', 92: 'convertest,', 93: 'dearths,', 94: 'place,', 95: 'brief', 96: 'pen', 97: 'ruinate', 98: 'draw', 99: 'each', 100: 'grave', 101: 'them', 102: 'shape', 103: 'threescore', 104: 'sweetly', 105: 'seasons’', 106: 'their', 107: 'fell', 108: 'Shifts', 109: 'gentle', 110: '3', 111: 'gracious', 112: 'shows', 113: 'breed', 114: 'rich', 115: 'bear’st', 116: 'date.', 117: 'Pity', 118: 'men’s', 119: 'where', 120: 'hast', 121: 'same,', 122: 'majesty,', 123: 'night,', 124: 'youth', 125: 'secret', 126: 'much', 127: 'loan;', 128: 'scorned,', 129: 'used', 130: 'copy', 131: 'life?', 132: 'art', 133: 'out-going', 134: 'burn', 135: 'Unlooked', 136: 'end,', 137: 'prognosticate,', 138: '11', 139: 'pupil', 140: 'hideous', 141: 'fairly', 142: 'self', 143: 'usurer', 144: 'What', 145: 'effect', 146: 'enjoys', 147: 'Profitless', 148: 'thrive', 149: 'receiv’st', 150: 'was.', 151: 'wail', 152: 'for', 153: 'wane', 154: '7', 155: 'nor', 156: 'self-same', 157: 'there,', 158: 'stage', 159: 'leaves', 160: 'outward', 161: 'controlling,', 162: 'shifting', 163: 'self’s', 164: 'great', 165: 'fair,', 166: 'No', 167: 'hours,', 168: 'featureless,', 169: 'chance,', 170: 'remembered', 171: '12', 172: 'knowledge', 173: 'up', 174: 'well-tuned', 175: 'play', 176: 'live?', 177: 'song', 178: 'determination,', 179: 'distilled:', 180: 'rhyme?', 181: 'bud', 182: 'praise.', 183: 'brave', 184: 'live', 185: 'Make', 186: 'ever', 187: 'conquest', 188: 'given', 189: 'could', 190: 'Yet', 191: 'perceive', 192: 'lofty', 193: 'heavenly', 194: 'here', 195: 'chide', 196: 'old', 197: 'Whereon', 198: 'small', 199: 'renewest,', 200: 'not,', 201: 'wastes', 202: 'semblance', 203: 'Pluck', 204: 'fairer', 205: 'gardens', 206: 'womb', 207: 'poet', 208: 'willing', 209: 'eyes,', 210: 'coming', 211: 'Making', 212: 'bear:', 213: 'ordering;', 214: 'son.', 215: 'all', 216: 'heir', 217: 'evil', 218: 'pencil)', 219: 'acquainted', 220: 'nature', 221: 'ragged', 222: 'Beauty', 223: 'by', 224: 'decay', 225: 'maiden', 226: 'mortal', 227: 'count,', 228: 'we', 229: 'gaudy', 230: 'note', 231: 'tells', 232: 'Look', 233: 'one,', 234: 'bereft,', 235: 'possessed', 236: 'despite', 237: 'another', 238: 'Vaunt', 239: 'new.', 240: 'Sings', 241: 'abuse,', 242: 'art,', 243: 'Nature’s', 244: 'child,', 245: 'widow', 246: 'joy', 247: 'numbers', 248: 'it:', 249: 'wouldst', 250: 'comment.', 251: 'thou,', 252: 'hill,', 253: 'sometime', 254: 'long', 255: 'car,', 256: 'fast', 257: 'self-substantial', 258: 'will', 259: 'away:', 260: 'viewest,', 261: 'would', 262: 'half', 263: 'grow,', 264: 'carve', 265: 'again', 266: 'cold?', 267: 'bear', 268: 'tell', 269: 'eyes', 270: 'lovely', 271: 'image', 272: 'Were', 273: 'most', 274: 'use', 275: 'had', 276: 'rage', 277: 'The', 278: 'Since', 279: 'quality,', 280: 'remembrance', 281: 'sum', 282: 'field,', 283: 'beguile', 284: 'lend,', 285: 'men.', 286: 'kind,', 287: 'That', 288: 'treasure', 289: 'never-resting', 290: 'worth', 291: 'may', 292: 'pleasure,', 293: 'gusts', 294: 'reeleth', 295: 'cruel:', 296: 'many,', 297: 'day?', 298: 'unthrift', 299: 'wert', 300: 'Lo', 301: 'purpose', 302: 'find.', 303: 'every', 304: 'nothing', 305: 'held:', 306: 'himself', 307: 'so,', 308: 'trenches', 309: 'store', 310: 'THE', 311: 'eat', 312: 'within', 313: 'very', 314: 'Leese', 315: 'silvered', 316: 'liker', 317: 'twice', 318: 'fairest', 319: 'frost', 320: 'shalt', 321: 'drawn', 322: 'fashion,', 323: 'another,', 324: 'waste', 325: 'orient', 326: 'dost', 327: 'none', 328: 'evident:', 329: 'weed', 330: 'Time?', 331: 'glutton', 332: 'head,', 333: 'feeble', 334: 'You', 335: 'teeth', 336: 'sunken', 337: 'Calls', 338: 'Rough', 339: 'heaven', 340: '(yellowed', 341: 'death', 342: 'posterity?', 343: 'destroys', 344: 'too', 345: 'winters', 346: 'deserts?', 347: 'false', 348: 'answer', 349: 'singleness', 350: '’gainst', 351: 'chief', 352: 'forty', 353: 'endowed,', 354: 'inconstant', 355: 'store,', 356: 'erst', 357: 'since', 358: 'thine,', 359: 'keep,', 360: 'men', 361: 'gone,', 362: 'touches', 363: '15', 364: 'get', 365: 'hence.', 366: 'when', 367: 'winter', 368: 'Proving', 369: 'wife,', 370: 'traffic', 371: '14', 372: 'darling', 373: 'thing', 374: 'loveliness', 375: 'bestow’st,', 376: 'wilt', 377: 'gift', 378: 'heart', 379: 'brood,', 380: 'themselves', 381: 'repair', 382: 'climbed', 383: 'Disdains', 384: 'time.', 385: 'love', 386: 'defence', 387: 'sap,', 388: 'brag', 389: 'skill.', 390: 'decrease,', 391: 'hours', 392: 'convert:', 393: 'tongue,', 394: 'year', 395: 'heinous', 396: 'die,', 397: 'steep-up', 398: 'paws,', 399: 'Despite', 400: '‘This', 401: 'calls', 402: 'show,', 403: 'thee', 404: 'lets', 405: 'To', 406: 'Leaving', 407: 'he', 408: 'meet,', 409: 'other', 410: 'tender', 411: 'see', 412: '(fore', 413: 'say', 414: 'dig', 415: 'ornament,', 416: 'Now', 417: 'shouldst', 418: 'where:', 419: '                    ', 420: 'o’er', 421: 'write', 422: 'and', 423: 'war', 424: 'feel’st', 425: 'How', 426: 'back', 427: 'least', 428: 'Herein', 429: 'minded', 430: '1', 431: 'husbandry', 432: 'stretched', 433: 'youngly', 434: 'For', 435: 'pleasure', 436: 'hue', 437: 'before', 438: 'virtuous', 439: 'wet', 440: 'old,', 441: 'even', 442: 'niggard', 443: 'shall', 444: 'prove', 445: 'children’s', 446: 'proud', 447: 'behold', 448: 'adding', 449: '6', 450: 'delights', 451: 'sunk', 452: 'upon', 453: 'frame', 454: 'Can', 455: 'else', 456: 'after', 457: 'parts:', 458: 'kind-hearted', 459: 'Serving', 460: 'usury,', 461: 'out', 462: 'short', 463: 'pilgrimage:', 464: 'derive,', 465: 'excuse,’', 466: 'course', 467: 'offend', 468: 'Devouring', 469: 'go', 470: 'influence', 471: 'theirs,', 472: 'Neither', 473: 'shade,', 474: 'why', 475: 'succeeding', 476: 'many', 477: 'cold.', 478: 'content,', 479: 'self-killed:', 480: 'beard:', 481: 'times', 482: 'mine', 483: 'often', 484: 'wear', 485: 'debateth', 486: 'passion,', 487: 'tell;', 488: 'unthrifts,', 489: 'pent', 490: 'flowers,', 491: 'Harsh,', 492: 'work', 493: 'Pointing', 494: 'constant', 495: 'on', 496: 'light', 497: 'consum’st', 498: 'living', 499: 'Of', 500: 'checked', 501: 'sky:', 502: 'date:', 503: 'distillation', 504: 'time', 505: 'face', 506: 'consider', 507: 'but', 508: 'noon:', 509: 'Time', 510: 'dimmed,', 511: 'sorry', 512: 'ten', 513: 'they', 514: 'Ah,', 515: 'pluck,', 516: 'forbid', 517: 'Where', 518: 'thine', 519: 'such', 520: 'way:', 521: 'change', 522: 'niggarding:', 523: 'behind,', 524: 'antique', 525: 'changing', 526: 'knows', 527: 'luck,', 528: 'Cheered', 529: 'your', 530: 'acceptable', 531: 'riper', 532: 'bareness', 533: 'lose', 534: 'treasure.', 535: 'tomb', 536: 'bear.', 537: 'amazeth.', 538: 'crime,', 539: 'shame', 540: 'Sap', 541: 'the', 542: 'married', 543: 'among', 544: 'thee.', 545: 'herald', 546: 'happies', 547: 'SONNETS', 548: 'question', 549: 'alive', 550: 'unused', 551: 'stormy', 552: 'free:', 553: 'world', 554: 'summer', 555: 'declines,', 556: 'scythe', 557: 'created,', 558: 'sullied', 559: 'rain', 560: 'gladly,', 561: 'light’s', 562: 'less', 563: 'do', 564: 'bright', 565: 'grow’st,', 566: 'doom', 567: 'weep,', 568: 'perfection', 569: 'woman', 570: 'if', 571: 'abundance', 572: 'only', 573: 'thy', 574: 'prime,', 575: 'wilt,', 576: '5', 577: 'hate', 578: 'it,', 579: 'fading', 580: 'gaze', 581: 'spend', 582: 'hot', 583: 'worms', 584: 'with', 585: 'husband’s', 586: 'Whose', 587: 'be.', 588: 'Feed’st', 589: 'Attending', 590: 'way', 591: 'filled', 592: 'any', 593: 'seasons', 594: 'Till', 595: 'barrenly', 596: 'Find', 597: 'issueless', 598: 'increase,', 599: 'carved', 600: 'mak’st', 601: 'metre', 602: 'swift-footed', 603: 'gazed', 604: 'together', 605: 'joy:', 606: 'youth’s', 607: 'April', 608: 'Let', 609: 'blood', 610: 'still', 611: 'one', 612: 'speechless', 613: 'unset,', 614: 'pen,', 615: 'fuel,', 616: 'fall', 617: 'tyrant', 618: 'deny', 619: 'hear,', 620: 'largess', 621: 'bristly', 622: 'her', 623: 'parts', 624: 'mother.', 625: 'number', 626: 'bosom', 627: 'memory:', 628: 'inward', 629: 'brow,', 630: 'mightier', 631: 'self-willed', 632: 'Like', 633: ' ', 634: 'rights', 635: 'rage,', 636: 'him,', 637: 'earth', 638: '21', 639: 'fond', 640: 'what', 641: 'thunder,', 642: '  ', 643: 'which', 644: 'wherefore', 645: 'Him', 646: 'sounds,', 647: 'unfair', 648: 'so.', 649: 'Holds', 650: 'perish:', 651: 'compare', 652: 'Save', 653: 'you,', 654: '10', 655: 'wish', 656: 'My', 657: 'meant', 658: 'lusty', 659: 'blunt', 660: 'must', 661: 'prepare,', 662: 'gold', 663: 'vial;', 664: 'there', 665: 'thereby,', 666: 'fair', 667: 'glass,', 668: 'blood,', 669: 'little', 670: 'due,', 671: 'time,', 672: 'takes', 673: 'never', 674: 'Why', 675: 'ne’er', 676: 'fortify', 677: 'In', 678: 'Within', 679: 'let', 680: 'sight,', 681: 'huge', 682: 'th’', 683: 'age)', 684: 'They', 685: 'song.', 686: 'pattern', 687: 'flowers', 688: 'use,', 689: 'under', 690: 'good,', 691: 'Sweets', 692: 'stand', 693: 'yet', 694: '13', 695: 'His', 696: 'Upon', 697: 'ere', 698: 'my', 699: 'devour', 700: 'walls', 701: 'fortune', 702: 'life', 703: 'object', 704: 'this', 705: 'fierce', 706: 'Against', 707: 'executor', 708: 'depart,', 709: 'refigured', 710: 'hap', 711: 'Sets', 712: 'heat', 713: 'princes', 714: 'When', 715: 'canopy', 716: 'excel:', 717: 'bounty', 718: 'jaws,', 719: 'new-appearing', 720: 'mind,', 721: 'are', 722: 'stay,', 723: 'left', 724: 'happier', 725: 'print', 726: 'then', 727: 'If', 728: 'windows', 729: 'addition', 730: 'mayst', 731: 'Is', 732: 'An', 733: 'whate’er', 734: 'me', 735: 'departest,', 736: 'were', 737: 'low', 738: 'husband', 739: 'call', 740: 'love?', 741: 'famine', 742: 'eye', 743: 'predict', 744: 'makeless', 745: 'As', 746: 'minutes', 747: 'middle', 748: 'unless', 749: 'Who', 750: 'herd', 751: 'thee:', 752: 'Will', 753: '16', 754: 'bloody', 755: 'give', 756: 'bier', 757: 'wrought', 758: 'white:', 759: 'Though', 760: 'seal,', 761: 'blessed', 762: 'allow,', 763: 'flame', 764: 'conspire,', 765: 'first', 766: 'sits', 767: 'Hast', 768: 'touched', 769: 'beauteous', 770: 'couldst', 771: 'contracted', 772: 'substance', 773: 'though', 774: 'toward', 775: 'me,', 776: 'Not', 777: 'whose', 778: 'Seeking', 779: 'adore', 780: 'dear', 781: 'spring,', 782: 'O', 783: '‘Thou', 784: 'plagues,', 785: 'tombed', 786: 'thee,', 787: 'whereupon', 788: 'a-doting,', 789: 'being', 790: 'not', 791: 'self-love', 792: 'say,', 793: 'Unthrifty', 794: 'this,', 795: 'Then', 796: 'day,', 797: 'kept', 798: 'truth’s', 799: 'desire:', 800: 'May,', 801: 'breathe', 802: 'thou', 803: 'well', 804: 'private', 805: 'lov’st', 806: 'youthful', 807: 'have', 808: 'shines,', 809: 'worst', 810: 'dwell', 811: 'winter’s', 812: 'in', 813: 'graces,', 814: 'Or', 815: 'fresh', 816: 'rhyme.', 817: 'gave', 818: 'yours,', 819: 'She', 820: 'life,', 821: 'truth', 822: 'golden', 823: 'new', 824: 'beauty,', 825: 'unions', 826: 'child', 827: 'lodged', 828: '(Time’s', 829: 'hate,', 830: 'conceit', 831: 'thought,', 832: 'that', 833: 'still,', 834: 'world’s', 835: 'forbidden', 836: 'homage', 837: 'go,', 838: 'termed', 839: 'mutual', 840: 'deface,', 841: 'spend,', 842: 'uneared', 843: 'sadly?', 844: 'him', 845: 'pleasing', 846: 'cold', 847: 'Gilding', 848: 'nature’s', 849: '4', 850: 'might', 851: 'duteous)', 852: 'Music', 853: 'more,', 854: 'moment.', 855: 'women’s', 856: 'beloved', 857: 'can', 858: 'roof', 859: 'user', 860: 'steals', 861: 'distilled', 862: 'grows', 863: 'single', 864: '18', 865: 'sweets', 866: 'quite', 867: 'tyrants', 868: 'looks', 869: 'buds', 870: 'string', 871: 'stick’st', 872: 'love’s', 873: 'wrong,', 874: 'son', 875: 'like', 876: 'By', 877: 'seeming', 878: 'wasteful', 879: 'eternal', 880: 'Strikes', 881: 'Such', 882: 'as', 883: 'oft', 884: 'stop', 885: 'bequest', 886: 'methinks', 887: 'made', 888: '2', 889: 'phoenix,', 890: 'glad', 891: 'gives', 892: 'Time:', 893: 'o’er-snowed', 894: 'Mine', 895: 'did', 896: 'mistress', 897: 'From', 898: 'gazeth,', 899: 'Lifts', 900: 'Nor', 901: 'untainted', 902: 'dies', 903: 'days;', 904: 'Those', 905: 'sheaves', 906: 'lends', 907: 'unbless', 908: 'all-eating', 909: 'who', 910: 'beauty’s', 911: 'alone,', 912: 'sweet.', 913: 'praise', 914: 'wide', 915: 'an', 916: 'age', 917: 'leads', 918: 'from', 919: 'none’.', 920: 'nought', 921: 'papers', 922: 'a', 923: 'Without', 924: 'best', 925: 'Thy', 926: 'his', 927: 'thine.', 928: 'desire', 929: 'highmost', 930: 'presence', 931: 'poet’s', 932: 'uphold,', 933: 'happy', 934: 'complexion', 935: 'bounteous', 936: 'lives', 937: 'end', 938: 'summer’s', 939: 'verse', 940: 'lion’s', 941: 'cherish:', 942: 'widow’s', 943: '20', 944: 'mind:', 945: 'Much', 946: 'fade,', 947: 'ow’st,', 948: 'white', 949: 'glass', 950: 'strong', 951: 'Thou', 952: 'deep', 953: 'wisdom,', 954: 'succession', 955: 'death’s', 956: 'lines', 957: 'heir.', 958: 'defeated,', 959: 'thriftless', 960: 'Ten', 961: 'hear’st', 962: 'pay', 963: 'burning', 964: 'some', 965: 'issue', 966: 'temperate:', 967: 'be', 968: 'young.', 969: 'audit', 970: 'cease,', 971: 'honour', 972: 'With', 973: 'faces.', 974: 'long-lived', 975: 'thereby', 976: 'wrinkles', 977: 'now', 978: 'father,', 979: 'come', 980: 'leave?', 981: 'of', 982: 'more', 983: 'Die', 984: 'mother’s', 985: 'true', 986: 'hath', 987: 'you', 988: 'stars', 989: 'memory.', 990: 'away', 991: 'mother,', 992: 'commits.', 993: 'A', 994: 'pitch', 995: 'man', 996: 'day', 997: 'or', 998: 'canst', 999: 'decay,', 1000: 'wind,', 1001: 'unprovident.', 1002: 'sums', 1003: 'is', 1004: 'others', 1005: 'presenteth', 1006: 'buriest', 1007: 'churl,', 1008: 'asked,', 1009: 'So', 1010: 'girded', 1011: 'Grant', 1012: 'concord', 1013: 'astronomy,', 1014: 'hold', 1015: 'self,', 1016: 'rude,', 1017: 'height', 1018: 'rolling:', 1019: 'deceive,', 1020: 'be,', 1021: 'And', 1022: 'form', 1023: 'longer', 1024: 'legacy?', 1025: 'tiger’s', 1026: 'painted,', 1027: 'know,', 1028: 'eye,', 1029: 'through', 1030: 'doth', 1031: 'plants', 1032: 'keen', 1033: 'keeps', 1034: 'world,', 1035: '9', 1036: 'she', 1037: 'But', 1038: '8', 1039: 'ear,', 1040: 'This', 1041: 'fleet’st,', 1042: 'leaves,', 1043: 'sweets:', 1044: 'yours', 1045: 'die', 1046: 'high', 1047: 'so', 1048: 'Shall', 1049: 'past', 1050: 'curls', 1051: 'no', 1052: 'those', 1053: 'than', 1054: 'beauties', 1055: 'it;', 1056: 'see,', 1057: 'sable', 1058: 'creatures', 1059: 'prove,', 1060: 'rose', 1061: 'count', 1062: 'wand’rest'}\n",
      "----------------------------------------------------\n",
      "[0, 0, 310, 633, 547, 0, 0, 419, 430, 0, 897, 633, 318, 633, 1058, 633, 228, 633, 928, 633, 598, 287, 633, 975, 633, 910, 633, 1060, 633, 850, 633, 673, 633, 396, 1037, 633, 882, 633, 541, 633, 531, 633, 76, 633, 223, 633, 504, 633, 63, 695, 633, 410, 633, 216, 633, 850, 633, 267, 633, 926, 633, 627, 1037, 633, 802, 633, 771, 633, 36, 633, 518, 633, 88, 633, 564, 633, 209, 588, 633, 573, 633, 561, 633, 763, 633, 584, 633, 257, 633, 615, 211, 633, 922, 633, 741, 633, 119, 633, 571, 633, 77, 925, 633, 142, 633, 573, 633, 69, 633, 36, 633, 573, 633, 61, 633, 142, 633, 344, 633, 295, 951, 633, 832, 633, 132, 633, 977, 633, 541, 633, 834, 633, 815, 633, 415, 1021, 633, 572, 633, 545, 633, 36, 633, 541, 633, 229, 633, 781, 678, 633, 518, 633, 88, 633, 181, 633, 1006, 633, 573, 633, 478, 89, 633, 410, 633, 1007, 633, 600, 633, 324, 633, 812, 633, 522, 0, 642, 117, 633, 541, 633, 1034, 633, 997, 633, 455, 633, 704, 633, 331, 633, 1020, 0, 642, 405, 633, 311, 633, 541, 633, 834, 633, 670, 633, 223, 633, 541, 633, 100, 633, 422, 633, 544, 0, 0, 0, 419, 888, 0, 714, 633, 352, 633, 345, 633, 443, 633, 55, 633, 573, 633, 629, 1021, 633, 414, 633, 952, 633, 308, 633, 812, 633, 573, 633, 910, 633, 282, 925, 633, 606, 633, 446, 633, 68, 633, 1047, 633, 603, 633, 495, 633, 49, 752, 633, 967, 633, 922, 633, 22, 633, 329, 633, 981, 633, 198, 633, 290, 633, 305, 795, 633, 789, 633, 1008, 633, 119, 633, 215, 633, 573, 633, 70, 633, 77, 517, 633, 215, 633, 541, 633, 288, 633, 981, 633, 573, 633, 658, 633, 903, 405, 633, 792, 633, 312, 633, 518, 633, 88, 633, 952, 633, 336, 633, 209, 272, 633, 915, 633, 908, 633, 24, 633, 422, 633, 959, 633, 182, 425, 633, 126, 633, 982, 633, 913, 633, 34, 633, 573, 633, 910, 633, 688, 727, 633, 802, 633, 770, 633, 348, 633, 400, 633, 666, 633, 826, 633, 981, 633, 482, 1048, 633, 281, 633, 698, 633, 227, 633, 422, 633, 1, 633, 698, 633, 196, 633, 465, 368, 633, 926, 633, 70, 633, 223, 633, 954, 633, 927, 0, 642, 1040, 633, 736, 633, 36, 633, 967, 633, 823, 633, 887, 633, 366, 633, 802, 633, 132, 633, 440, 0, 642, 1021, 633, 411, 633, 573, 633, 609, 633, 90, 633, 366, 633, 802, 633, 424, 633, 6, 633, 477, 0, 0, 0, 419, 110, 0, 232, 633, 812, 633, 573, 633, 949, 633, 422, 633, 268, 633, 541, 633, 505, 633, 802, 633, 260, 416, 633, 1003, 633, 541, 633, 504, 633, 832, 633, 505, 633, 76, 633, 1022, 633, 323, 586, 633, 815, 633, 381, 633, 570, 633, 977, 633, 802, 633, 790, 633, 199, 951, 633, 326, 633, 283, 633, 541, 633, 1034, 633, 907, 633, 964, 633, 624, 434, 633, 119, 633, 1003, 633, 1036, 633, 1047, 633, 666, 633, 777, 633, 842, 633, 206, 383, 633, 541, 633, 35, 633, 981, 633, 573, 633, 45, 814, 633, 909, 633, 1003, 633, 407, 633, 1047, 633, 639, 633, 258, 633, 967, 633, 541, 633, 535, 499, 633, 926, 633, 791, 633, 36, 633, 884, 633, 342, 951, 633, 132, 633, 573, 633, 984, 633, 949, 633, 422, 633, 1036, 633, 812, 633, 403, 337, 633, 426, 633, 541, 633, 270, 633, 607, 633, 981, 633, 622, 633, 574, 1009, 633, 802, 633, 1029, 633, 728, 633, 981, 633, 518, 633, 916, 633, 320, 633, 1056, 399, 633, 981, 633, 976, 633, 704, 633, 573, 633, 822, 633, 384, 0, 642, 1037, 633, 570, 633, 802, 633, 184, 633, 170, 633, 790, 633, 36, 633, 1020, 0, 642, 983, 633, 863, 633, 422, 633, 518, 633, 271, 633, 902, 633, 584, 633, 544, 0, 0, 0, 419, 849, 0, 793, 633, 374, 633, 474, 633, 326, 633, 802, 633, 841, 696, 633, 573, 633, 142, 633, 573, 633, 910, 633, 1024, 243, 633, 885, 633, 891, 633, 304, 633, 507, 633, 1030, 633, 284, 1021, 633, 789, 633, 85, 633, 1036, 633, 906, 633, 36, 633, 1052, 633, 721, 633, 552, 795, 633, 769, 633, 442, 633, 474, 633, 326, 633, 802, 633, 241, 277, 633, 935, 633, 620, 633, 188, 633, 403, 633, 36, 633, 44, 147, 633, 143, 633, 474, 633, 326, 633, 802, 633, 274, 1009, 633, 164, 633, 922, 633, 281, 633, 981, 633, 1002, 633, 693, 633, 998, 633, 790, 633, 176, 434, 633, 39, 633, 370, 633, 584, 633, 573, 633, 142, 633, 911, 951, 633, 981, 633, 573, 633, 142, 633, 573, 633, 61, 633, 142, 633, 326, 633, 1019, 795, 633, 84, 633, 366, 633, 220, 633, 401, 633, 403, 633, 36, 633, 967, 633, 361, 144, 633, 530, 633, 969, 633, 998, 633, 802, 633, 980, 0, 642, 925, 633, 550, 633, 70, 633, 660, 633, 967, 633, 785, 633, 584, 633, 786, 0, 642, 64, 633, 129, 633, 936, 633, 682, 633, 707, 633, 36, 633, 587, 0, 0, 0, 419, 576, 0, 904, 633, 391, 633, 832, 633, 584, 633, 109, 633, 492, 633, 895, 633, 453, 277, 633, 270, 633, 580, 633, 119, 633, 303, 633, 742, 633, 1030, 633, 810, 752, 633, 175, 633, 541, 633, 867, 633, 36, 633, 541, 633, 313, 633, 121, 1021, 633, 832, 633, 647, 633, 643, 633, 141, 633, 1030, 633, 716, 434, 633, 289, 633, 504, 633, 917, 633, 554, 633, 495, 405, 633, 140, 633, 367, 633, 422, 633, 7, 633, 844, 633, 157, 540, 633, 500, 633, 584, 633, 319, 633, 422, 633, 658, 633, 159, 633, 866, 633, 361, 222, 633, 893, 633, 422, 633, 532, 633, 303, 633, 418, 795, 633, 736, 633, 790, 633, 938, 633, 503, 633, 723, 993, 633, 53, 633, 23, 633, 489, 633, 812, 633, 700, 633, 981, 633, 667, 3, 633, 145, 633, 584, 633, 70, 633, 736, 633, 234, 900, 633, 6, 633, 155, 633, 1051, 633, 280, 633, 640, 633, 6, 633, 150, 0, 642, 1037, 633, 687, 633, 861, 633, 773, 633, 513, 633, 584, 633, 367, 633, 408, 0, 642, 314, 633, 507, 633, 106, 633, 402, 633, 106, 633, 772, 633, 610, 633, 936, 633, 912, 0, 0, 0, 419, 449, 0, 795, 633, 679, 633, 790, 633, 811, 633, 221, 633, 71, 633, 840, 677, 633, 403, 633, 573, 633, 554, 633, 697, 633, 802, 633, 967, 633, 179, 185, 633, 61, 633, 964, 633, 663, 633, 288, 633, 802, 633, 964, 633, 94, 972, 633, 910, 633, 288, 633, 697, 633, 6, 633, 967, 633, 479, 287, 633, 274, 633, 1003, 633, 790, 633, 835, 633, 460, 64, 633, 546, 633, 1052, 633, 832, 633, 962, 633, 541, 633, 208, 633, 127, 8, 633, 152, 633, 573, 633, 142, 633, 36, 633, 113, 633, 237, 633, 786, 814, 633, 512, 633, 481, 633, 724, 633, 967, 633, 6, 633, 512, 633, 152, 633, 233, 960, 633, 481, 633, 573, 633, 142, 633, 736, 633, 724, 633, 1053, 633, 802, 633, 242, 727, 633, 512, 633, 981, 633, 518, 633, 512, 633, 481, 633, 709, 633, 751, 795, 633, 640, 633, 189, 633, 341, 633, 563, 633, 570, 633, 802, 633, 417, 633, 708, 406, 633, 403, 633, 498, 633, 812, 633, 342, 0, 642, 40, 633, 790, 633, 631, 633, 152, 633, 802, 633, 132, 633, 126, 633, 344, 633, 165, 0, 642, 405, 633, 967, 633, 955, 633, 187, 633, 422, 633, 1, 633, 583, 633, 518, 633, 957, 0, 0, 0, 419, 154, 0, 300, 633, 812, 633, 541, 633, 325, 633, 366, 633, 541, 633, 111, 633, 496, 899, 633, 173, 633, 926, 633, 963, 633, 332, 633, 99, 633, 689, 633, 742, 60, 633, 836, 633, 36, 633, 926, 633, 719, 633, 680, 459, 633, 584, 633, 868, 633, 926, 633, 12, 633, 122, 1021, 633, 39, 633, 382, 633, 541, 633, 397, 633, 193, 633, 252, 78, 633, 950, 633, 124, 633, 812, 633, 926, 633, 747, 633, 56, 190, 633, 226, 633, 868, 633, 779, 633, 926, 633, 70, 633, 833, 589, 633, 495, 633, 926, 633, 822, 633, 463, 1037, 633, 366, 633, 918, 633, 929, 633, 994, 633, 584, 633, 14, 633, 255, 632, 633, 333, 633, 916, 633, 407, 633, 294, 633, 918, 633, 541, 633, 796, 277, 633, 269, 633, 412, 633, 851, 633, 977, 633, 50, 633, 721, 897, 633, 926, 633, 737, 633, 46, 633, 422, 633, 54, 633, 237, 633, 520, 0, 642, 1009, 633, 251, 633, 573, 633, 142, 633, 133, 633, 812, 633, 573, 633, 508, 0, 642, 135, 633, 495, 633, 28, 633, 748, 633, 802, 633, 364, 633, 922, 633, 214, 0, 0, 0, 419, 1038, 0, 852, 633, 36, 633, 619, 633, 474, 633, 961, 633, 802, 633, 41, 633, 843, 691, 633, 584, 633, 865, 633, 423, 633, 200, 633, 246, 633, 450, 633, 812, 633, 605, 674, 633, 805, 633, 802, 633, 832, 633, 643, 633, 802, 633, 149, 633, 790, 633, 560, 814, 633, 455, 633, 149, 633, 584, 633, 435, 633, 518, 633, 91, 727, 633, 541, 633, 985, 633, 1012, 633, 981, 633, 174, 633, 646, 876, 633, 825, 633, 542, 633, 563, 633, 467, 633, 518, 633, 1039, 684, 633, 563, 633, 507, 633, 104, 633, 195, 633, 786, 633, 909, 633, 7, 677, 633, 349, 633, 541, 633, 623, 633, 832, 633, 802, 633, 417, 633, 212, 37, 633, 84, 633, 611, 633, 870, 633, 61, 633, 738, 633, 36, 633, 323, 880, 633, 99, 633, 812, 633, 99, 633, 223, 633, 839, 633, 213, 78, 633, 57, 633, 422, 633, 244, 633, 422, 633, 933, 633, 991, 749, 633, 215, 633, 812, 633, 233, 633, 611, 633, 845, 633, 230, 633, 563, 633, 58, 0, 642, 586, 633, 612, 633, 177, 633, 789, 633, 296, 633, 877, 633, 233, 0, 642, 240, 633, 704, 633, 36, 633, 786, 633, 783, 633, 863, 633, 376, 633, 444, 633, 919, 0, 0, 0, 419, 1035, 0, 731, 633, 6, 633, 152, 633, 83, 633, 36, 633, 439, 633, 922, 633, 942, 633, 1028, 287, 633, 802, 633, 497, 633, 573, 633, 142, 633, 812, 633, 863, 633, 131, 514, 633, 570, 633, 802, 633, 597, 633, 320, 633, 710, 633, 36, 633, 396, 277, 633, 553, 633, 258, 633, 151, 633, 403, 633, 875, 633, 922, 633, 744, 633, 369, 277, 633, 553, 633, 258, 633, 967, 633, 573, 633, 245, 633, 422, 633, 610, 633, 567, 287, 633, 802, 633, 1051, 633, 1022, 633, 981, 633, 403, 633, 120, 633, 723, 633, 523, 714, 633, 303, 633, 804, 633, 245, 633, 803, 633, 291, 633, 359, 876, 633, 445, 633, 209, 633, 622, 633, 585, 633, 102, 633, 812, 633, 944, 232, 633, 640, 633, 915, 633, 298, 633, 812, 633, 541, 633, 553, 633, 1030, 633, 581, 108, 633, 507, 633, 926, 633, 94, 633, 152, 633, 610, 633, 541, 633, 553, 633, 146, 633, 1055, 1037, 633, 910, 633, 324, 633, 986, 633, 812, 633, 541, 633, 553, 633, 915, 633, 136, 1021, 633, 797, 633, 550, 633, 541, 633, 859, 633, 1047, 633, 343, 633, 248, 0, 642, 166, 633, 385, 633, 774, 633, 1004, 633, 812, 633, 832, 633, 626, 633, 766, 0, 642, 287, 633, 495, 633, 306, 633, 519, 633, 87, 633, 539, 633, 992, 0, 0, 0, 419, 654, 0, 434, 633, 539, 633, 618, 633, 832, 633, 802, 633, 115, 633, 385, 633, 36, 633, 592, 749, 633, 152, 633, 573, 633, 142, 633, 132, 633, 1047, 633, 1001, 1011, 633, 570, 633, 802, 633, 575, 633, 802, 633, 132, 633, 856, 633, 981, 633, 296, 1037, 633, 832, 633, 802, 633, 327, 633, 805, 633, 1003, 633, 273, 633, 328, 434, 633, 802, 633, 132, 633, 1047, 633, 235, 633, 584, 633, 87, 633, 829, 287, 633, 350, 633, 573, 633, 142, 633, 802, 633, 871, 633, 790, 633, 36, 633, 764, 778, 633, 832, 633, 769, 633, 858, 633, 36, 633, 97, 64, 633, 36, 633, 381, 633, 76, 633, 967, 633, 573, 633, 351, 633, 799, 782, 633, 521, 633, 573, 633, 831, 633, 832, 633, 25, 633, 291, 633, 521, 633, 698, 633, 720, 1048, 633, 577, 633, 967, 633, 204, 633, 827, 633, 1053, 633, 109, 633, 740, 40, 633, 882, 633, 573, 633, 930, 633, 1003, 633, 111, 633, 422, 633, 286, 814, 633, 36, 633, 573, 633, 142, 633, 18, 633, 427, 633, 458, 633, 1059, 0, 642, 185, 633, 403, 633, 237, 633, 142, 633, 152, 633, 385, 633, 981, 633, 775, 0, 642, 287, 633, 70, 633, 610, 633, 291, 633, 184, 633, 812, 633, 518, 633, 997, 633, 544, 0, 0, 0, 419, 138, 0, 745, 633, 256, 633, 882, 633, 802, 633, 320, 633, 153, 633, 1047, 633, 256, 633, 802, 633, 565, 677, 633, 611, 633, 981, 633, 358, 633, 918, 633, 832, 633, 643, 633, 802, 633, 735, 1021, 633, 832, 633, 815, 633, 609, 633, 643, 633, 433, 633, 802, 633, 375, 951, 633, 730, 633, 739, 633, 358, 633, 366, 633, 802, 633, 918, 633, 124, 633, 92, 428, 633, 936, 633, 953, 633, 824, 633, 422, 633, 598, 923, 633, 704, 633, 79, 633, 56, 633, 422, 633, 846, 633, 999, 727, 633, 215, 633, 736, 633, 429, 633, 307, 633, 541, 633, 481, 633, 76, 633, 970, 1021, 633, 103, 633, 394, 633, 261, 633, 1, 633, 541, 633, 553, 633, 259, 608, 633, 1052, 633, 26, 633, 220, 633, 986, 633, 790, 633, 887, 633, 152, 633, 355, 491, 633, 168, 633, 422, 633, 1016, 633, 595, 633, 650, 232, 633, 26, 633, 1036, 633, 924, 633, 353, 633, 1036, 633, 817, 633, 403, 633, 29, 64, 633, 935, 633, 377, 633, 802, 633, 417, 633, 812, 633, 717, 633, 941, 0, 642, 819, 633, 599, 633, 403, 633, 152, 633, 622, 633, 760, 633, 422, 633, 657, 633, 665, 0, 642, 951, 633, 417, 633, 725, 633, 853, 633, 790, 633, 679, 633, 832, 633, 130, 633, 32, 0, 0, 0, 419, 171, 0, 714, 633, 25, 633, 563, 633, 1061, 633, 541, 633, 27, 633, 832, 633, 231, 633, 541, 633, 671, 1021, 633, 411, 633, 541, 633, 183, 633, 996, 633, 451, 633, 812, 633, 140, 633, 123, 714, 633, 25, 633, 447, 633, 541, 633, 52, 633, 1049, 633, 574, 1021, 633, 1057, 633, 1050, 633, 215, 633, 315, 633, 420, 633, 584, 633, 758, 714, 633, 192, 633, 11, 633, 25, 633, 411, 633, 47, 633, 981, 633, 1042, 64, 633, 356, 633, 918, 633, 712, 633, 895, 633, 715, 633, 541, 633, 750, 1021, 633, 938, 633, 17, 633, 215, 633, 1010, 633, 173, 633, 812, 633, 905, 59, 633, 495, 633, 541, 633, 756, 633, 584, 633, 948, 633, 422, 633, 621, 633, 480, 795, 633, 981, 633, 573, 633, 70, 633, 563, 633, 25, 633, 548, 633, 1, 287, 633, 802, 633, 543, 633, 541, 633, 201, 633, 981, 633, 504, 633, 660, 633, 837, 278, 633, 865, 633, 422, 633, 1054, 633, 563, 633, 380, 633, 10, 1021, 633, 1045, 633, 882, 633, 256, 633, 882, 633, 513, 633, 411, 633, 1004, 633, 263, 0, 642, 1021, 633, 304, 633, 350, 633, 2, 633, 556, 633, 857, 633, 1, 633, 386, 0, 642, 652, 633, 113, 633, 36, 633, 183, 633, 636, 633, 366, 633, 407, 633, 672, 633, 403, 633, 365, 0, 0, 0, 419, 694, 0, 782, 633, 832, 633, 987, 633, 736, 633, 529, 633, 1015, 633, 507, 633, 385, 633, 987, 633, 721, 166, 633, 1023, 633, 818, 633, 1053, 633, 987, 633, 529, 633, 142, 633, 194, 633, 38, 706, 633, 704, 633, 210, 633, 937, 633, 987, 633, 76, 633, 661, 1021, 633, 529, 633, 61, 633, 202, 633, 36, 633, 964, 633, 409, 633, 19, 1009, 633, 76, 633, 832, 633, 70, 633, 643, 633, 987, 633, 1014, 633, 812, 633, 51, 596, 633, 1051, 633, 178, 633, 726, 633, 987, 633, 736, 16, 633, 142, 633, 265, 633, 456, 633, 529, 633, 163, 633, 63, 714, 633, 529, 633, 61, 633, 965, 633, 529, 633, 61, 633, 1022, 633, 76, 633, 536, 749, 633, 404, 633, 1047, 633, 666, 633, 922, 633, 4, 633, 616, 633, 36, 633, 999, 64, 633, 431, 633, 812, 633, 971, 633, 850, 633, 932, 706, 633, 541, 633, 551, 633, 293, 633, 981, 633, 811, 633, 996, 1021, 633, 47, 633, 276, 633, 981, 633, 955, 633, 879, 633, 266, 0, 642, 782, 633, 327, 633, 507, 633, 488, 633, 780, 633, 698, 633, 385, 633, 987, 633, 1027, 0, 642, 334, 633, 275, 633, 922, 633, 978, 633, 679, 633, 529, 633, 874, 633, 413, 633, 648, 0, 0, 0, 419, 371, 0, 776, 633, 918, 633, 541, 633, 988, 633, 563, 633, 25, 633, 698, 633, 43, 633, 515, 1021, 633, 693, 633, 886, 633, 25, 633, 807, 633, 1013, 1037, 633, 790, 633, 36, 633, 268, 633, 981, 633, 690, 633, 997, 633, 217, 633, 527, 499, 633, 784, 633, 981, 633, 93, 633, 997, 633, 105, 633, 279, 900, 633, 857, 633, 25, 633, 701, 633, 36, 633, 95, 633, 746, 633, 487, 493, 633, 36, 633, 99, 633, 926, 633, 641, 633, 559, 633, 422, 633, 1000, 814, 633, 413, 633, 584, 633, 713, 633, 570, 633, 6, 633, 443, 633, 469, 633, 803, 876, 633, 883, 633, 743, 633, 832, 633, 25, 633, 812, 633, 339, 633, 302, 1037, 633, 918, 633, 518, 633, 269, 633, 698, 633, 172, 633, 25, 633, 464, 1021, 633, 494, 633, 988, 633, 812, 633, 101, 633, 25, 633, 72, 633, 519, 633, 132, 745, 633, 821, 633, 422, 633, 70, 633, 443, 633, 604, 633, 148, 727, 633, 918, 633, 573, 633, 1015, 633, 36, 633, 309, 633, 802, 633, 249, 633, 392, 0, 642, 814, 633, 455, 633, 981, 633, 403, 633, 704, 633, 25, 633, 137, 0, 642, 925, 633, 937, 633, 1003, 633, 798, 633, 422, 633, 910, 633, 566, 633, 422, 633, 116, 0, 0, 0, 419, 363, 0, 714, 633, 25, 633, 506, 633, 303, 633, 373, 633, 832, 633, 862, 649, 633, 812, 633, 568, 633, 507, 633, 922, 633, 669, 633, 854, 287, 633, 704, 633, 681, 633, 158, 633, 1005, 633, 920, 633, 507, 633, 112, 197, 633, 541, 633, 988, 633, 812, 633, 125, 633, 470, 633, 250, 714, 633, 25, 633, 191, 633, 832, 633, 360, 633, 882, 633, 1031, 633, 598, 528, 633, 422, 633, 500, 633, 441, 633, 223, 633, 541, 633, 156, 633, 501, 238, 633, 812, 633, 106, 633, 806, 633, 387, 633, 18, 633, 1017, 633, 390, 1021, 633, 484, 633, 106, 633, 183, 633, 30, 633, 461, 633, 981, 633, 989, 795, 633, 541, 633, 830, 633, 981, 633, 704, 633, 354, 633, 722, 711, 633, 987, 633, 273, 633, 114, 633, 812, 633, 124, 633, 437, 633, 698, 633, 680, 517, 633, 878, 633, 504, 633, 485, 633, 584, 633, 224, 405, 633, 521, 633, 529, 633, 996, 633, 981, 633, 124, 633, 36, 633, 558, 633, 123, 0, 642, 1021, 633, 215, 633, 812, 633, 423, 633, 584, 633, 509, 633, 152, 633, 385, 633, 981, 633, 653, 0, 642, 745, 633, 407, 633, 672, 633, 918, 633, 653, 633, 25, 633, 13, 633, 987, 633, 239, 0, 0, 0, 419, 753, 0, 1037, 633, 644, 633, 563, 633, 790, 633, 987, 633, 922, 633, 630, 633, 590, 185, 633, 423, 633, 452, 633, 704, 633, 754, 633, 617, 633, 330, 1021, 633, 676, 633, 529, 633, 142, 633, 812, 633, 529, 633, 224, 972, 633, 48, 633, 982, 633, 761, 633, 1053, 633, 698, 633, 47, 633, 180, 416, 633, 692, 633, 987, 633, 495, 633, 541, 633, 15, 633, 981, 633, 933, 633, 167, 1021, 633, 476, 633, 225, 633, 205, 633, 693, 633, 613, 972, 633, 438, 633, 655, 633, 261, 633, 267, 633, 987, 633, 498, 633, 490, 945, 633, 316, 633, 1053, 633, 529, 633, 31, 633, 74, 1009, 633, 76, 633, 541, 633, 956, 633, 981, 633, 702, 633, 832, 633, 702, 633, 381, 64, 633, 704, 633, 828, 633, 218, 633, 997, 633, 698, 633, 139, 633, 96, 472, 633, 812, 633, 628, 633, 290, 633, 155, 633, 160, 633, 666, 454, 633, 1, 633, 987, 633, 184, 633, 529, 633, 142, 633, 812, 633, 269, 633, 981, 633, 285, 0, 642, 405, 633, 755, 633, 990, 633, 529, 633, 1015, 633, 1033, 633, 529, 633, 142, 633, 833, 0, 642, 1021, 633, 987, 633, 660, 633, 184, 633, 321, 633, 223, 633, 529, 633, 88, 633, 61, 633, 389, 0, 0, 0, 419, 75, 0, 749, 633, 258, 633, 21, 633, 698, 633, 939, 633, 812, 633, 504, 633, 36, 633, 979, 727, 633, 6, 633, 736, 633, 591, 633, 584, 633, 529, 633, 273, 633, 1046, 633, 346, 759, 633, 693, 633, 339, 633, 526, 633, 6, 633, 1003, 633, 507, 633, 882, 633, 922, 633, 535, 64, 633, 65, 633, 529, 633, 820, 633, 422, 633, 112, 633, 790, 633, 262, 633, 529, 633, 457, 727, 633, 25, 633, 189, 633, 421, 633, 541, 633, 70, 633, 981, 633, 529, 633, 209, 1021, 633, 812, 633, 815, 633, 247, 633, 625, 633, 215, 633, 529, 633, 813, 277, 633, 916, 633, 36, 633, 979, 633, 261, 633, 413, 633, 704, 633, 207, 633, 77, 881, 633, 193, 633, 362, 633, 675, 633, 768, 633, 81, 633, 973, 1009, 633, 76, 633, 698, 633, 921, 633, 340, 633, 584, 633, 106, 633, 683, 40, 633, 128, 633, 875, 633, 196, 633, 360, 633, 981, 633, 562, 633, 821, 633, 1053, 633, 393, 1021, 633, 529, 633, 985, 633, 634, 633, 967, 633, 838, 633, 922, 633, 931, 633, 635, 1021, 633, 432, 633, 601, 633, 981, 633, 915, 633, 524, 633, 685, 0, 642, 1037, 633, 736, 633, 964, 633, 826, 633, 981, 633, 1044, 633, 549, 633, 832, 633, 671, 0, 642, 334, 633, 76, 633, 184, 633, 317, 633, 812, 633, 578, 633, 422, 633, 812, 633, 698, 633, 816, 0, 0, 0, 419, 864, 0, 1048, 633, 25, 633, 651, 633, 403, 633, 36, 633, 922, 633, 938, 633, 297, 951, 633, 132, 633, 982, 633, 270, 633, 422, 633, 982, 633, 966, 338, 633, 66, 633, 563, 633, 20, 633, 541, 633, 372, 633, 869, 633, 981, 633, 800, 1021, 633, 938, 633, 51, 633, 986, 633, 215, 633, 344, 633, 462, 633, 922, 633, 502, 62, 633, 344, 633, 582, 633, 541, 633, 742, 633, 981, 633, 339, 633, 808, 1021, 633, 483, 633, 1003, 633, 926, 633, 662, 633, 934, 633, 510, 1021, 633, 303, 633, 666, 633, 918, 633, 666, 633, 253, 633, 555, 876, 633, 169, 633, 997, 633, 848, 633, 525, 633, 466, 633, 42, 1037, 633, 573, 633, 879, 633, 554, 633, 443, 633, 790, 633, 946, 900, 633, 533, 633, 5, 633, 981, 633, 832, 633, 666, 633, 802, 633, 947, 900, 633, 443, 633, 341, 633, 388, 633, 802, 633, 1062, 633, 812, 633, 926, 633, 473, 714, 633, 812, 633, 879, 633, 956, 633, 36, 633, 504, 633, 802, 633, 565, 0, 642, 1009, 633, 254, 633, 882, 633, 360, 633, 857, 633, 801, 633, 997, 633, 269, 633, 857, 633, 1056, 0, 642, 1009, 633, 254, 633, 936, 633, 794, 633, 422, 633, 704, 633, 891, 633, 702, 633, 36, 633, 544, 0, 0, 0, 419, 82, 0, 468, 633, 509, 633, 659, 633, 802, 633, 541, 633, 940, 633, 398, 1021, 633, 1, 633, 541, 633, 637, 633, 699, 633, 622, 633, 88, 633, 61, 633, 379, 203, 633, 541, 633, 1032, 633, 335, 633, 918, 633, 541, 633, 705, 633, 1025, 633, 718, 1021, 633, 134, 633, 541, 633, 974, 633, 889, 633, 812, 633, 622, 633, 668, 185, 633, 890, 633, 422, 633, 511, 633, 593, 633, 882, 633, 802, 633, 1041, 1021, 633, 563, 633, 733, 633, 802, 633, 376, 633, 602, 633, 509, 405, 633, 541, 633, 914, 633, 553, 633, 422, 633, 215, 633, 622, 633, 579, 633, 1043, 1037, 633, 25, 633, 516, 633, 403, 633, 611, 633, 273, 633, 395, 633, 538, 782, 633, 264, 633, 790, 633, 584, 633, 573, 633, 391, 633, 698, 633, 872, 633, 666, 633, 629, 900, 633, 98, 633, 1051, 633, 956, 633, 664, 633, 584, 633, 518, 633, 524, 633, 614, 645, 633, 812, 633, 573, 633, 466, 633, 901, 633, 563, 633, 762, 434, 633, 910, 633, 686, 633, 36, 633, 475, 633, 285, 0, 642, 190, 633, 563, 633, 573, 633, 809, 633, 196, 633, 892, 633, 236, 633, 573, 633, 873, 0, 642, 656, 633, 385, 633, 443, 633, 812, 633, 698, 633, 939, 633, 186, 633, 184, 633, 968, 0, 0, 0, 419, 943, 0, 993, 633, 86, 633, 505, 633, 584, 633, 848, 633, 88, 633, 71, 633, 1026, 767, 633, 802, 633, 541, 633, 67, 633, 896, 633, 981, 633, 698, 633, 486, 993, 633, 86, 633, 109, 633, 378, 633, 507, 633, 790, 633, 219, 972, 633, 162, 633, 521, 633, 882, 633, 1003, 633, 347, 633, 855, 633, 322, 732, 633, 742, 633, 982, 633, 564, 633, 1053, 633, 471, 633, 562, 633, 347, 633, 812, 633, 1018, 847, 633, 541, 633, 703, 633, 787, 633, 6, 633, 898, 993, 633, 995, 633, 812, 633, 436, 633, 215, 633, 33, 633, 812, 633, 926, 633, 161, 64, 633, 860, 633, 118, 633, 269, 633, 422, 633, 855, 633, 80, 633, 537, 1021, 633, 152, 633, 922, 633, 569, 633, 299, 633, 802, 633, 765, 633, 557, 594, 633, 220, 633, 882, 633, 1036, 633, 757, 633, 403, 633, 107, 633, 788, 1021, 633, 223, 633, 729, 633, 734, 633, 981, 633, 403, 633, 958, 876, 633, 448, 633, 611, 633, 373, 633, 36, 633, 698, 633, 301, 633, 73, 0, 642, 1037, 633, 357, 633, 1036, 633, 9, 633, 403, 633, 461, 633, 152, 633, 855, 633, 292, 0, 642, 894, 633, 967, 633, 573, 633, 385, 633, 422, 633, 573, 633, 872, 633, 274, 633, 106, 633, 534, 0, 0, 0, 419, 638]\n",
      "----------------------------------------------------\n",
      "data length :  4423\n"
     ]
    }
   ],
   "source": [
    "# one hot encode\n",
    "char_to_int = dict((c, i) for i, c in enumerate(chars)) # \"enumerate\" retruns index and value. Convert it to dictionary\n",
    "int_to_char = dict((i, c) for i, c in enumerate(chars))\n",
    "print(char_to_int)\n",
    "print(\"----------------------------------------------------\")\n",
    "print(int_to_char)\n",
    "print(\"----------------------------------------------------\")\n",
    "# integer encode input data\n",
    "integer_encoded = [char_to_int[i] for i in flat_list] # \"integer_encoded\" is a list which has a sequence converted from an original data to integers.\n",
    "print(integer_encoded)\n",
    "print(\"----------------------------------------------------\")\n",
    "print(\"data length : \", len(integer_encoded))"
   ]
  },
  {
   "cell_type": "code",
   "execution_count": 13,
   "metadata": {},
   "outputs": [],
   "source": [
    "# hyperparameters\n",
    "\n",
    "iteration = 100\n",
    "sequence_length = 40\n",
    "batch_size = round((txt_data_size /sequence_length)+0.5) # = math.ceil\n",
    "hidden_size = 50  # size of hidden layer of neurons.  \n",
    "learning_rate = 1e-1\n",
    "\n",
    "\n",
    "# model parameters\n",
    "\n",
    "W_xh = np.random.randn(hidden_size, num_chars)*0.01     # weight input -> hidden. \n",
    "W_hh = np.random.randn(hidden_size, hidden_size)*0.01   # weight hidden -> hidden\n",
    "W_hy = np.random.randn(num_chars, hidden_size)*0.01     # weight hidden -> output\n",
    "\n",
    "b_h = np.zeros((hidden_size, 1)) # hidden bias\n",
    "b_y = np.zeros((num_chars, 1)) # output bias\n",
    "\n",
    "h_prev = np.zeros((hidden_size,1)) # h_(t-1)"
   ]
  },
  {
   "cell_type": "code",
   "execution_count": 14,
   "metadata": {},
   "outputs": [],
   "source": [
    "def forwardprop(inputs, targets, h_prev):\n",
    "        \n",
    "    # Since the RNN receives the sequence, the weights are not updated during one sequence.\n",
    "    xs, hs, ys, ps = {}, {}, {}, {} # dictionary\n",
    "    hs[-1] = np.copy(h_prev) # Copy previous hidden state vector to -1 key value.\n",
    "    loss = 0 # loss initialization\n",
    "    \n",
    "    for t in range(len(inputs)): # t is a \"time step\" and is used as a key(dic).  \n",
    "        \n",
    "        xs[t] = np.zeros((num_chars,1)) \n",
    "        xs[t][inputs[t]] = 1\n",
    "        hs[t] = np.tanh(np.dot(W_xh, xs[t]) + np.dot(W_hh, hs[t-1]) + b_h) # hidden state. \n",
    "        ys[t] = np.dot(W_hy, hs[t]) + b_y # unnormalized log probabilities for next chars\n",
    "        ps[t] = np.exp(ys[t]) / np.sum(np.exp(ys[t])) # probabilities for next chars. \n",
    "        # Softmax. -> The sum of probabilities is 1 even without the exp() function, but all of the elements are positive through the exp() function.\n",
    " \n",
    "        loss += -np.log(ps[t][targets[t],0]) # softmax (cross-entropy loss). Efficient and simple code\n",
    "\n",
    "#         y_class = np.zeros((num_chars, 1)) \n",
    "#         y_class[targets[t]] =1\n",
    "#         loss += np.sum(y_class*(-np.log(ps[t]))) # softmax (cross-entropy loss)        \n",
    "\n",
    "    return loss, ps, hs, xs"
   ]
  },
  {
   "cell_type": "code",
   "execution_count": 15,
   "metadata": {},
   "outputs": [],
   "source": [
    "def backprop(ps, inputs, hs, xs):\n",
    "\n",
    "    dWxh, dWhh, dWhy = np.zeros_like(W_xh), np.zeros_like(W_hh), np.zeros_like(W_hy) # make all zero matrices.\n",
    "    dbh, dby = np.zeros_like(b_h), np.zeros_like(b_y)\n",
    "    dhnext = np.zeros_like(hs[0]) # (hidden_size,1) \n",
    "\n",
    "    # reversed\n",
    "    for t in reversed(range(len(inputs))):\n",
    "        dy = np.copy(ps[t]) # shape (num_chars,1).  \"dy\" means \"dloss/dy\"\n",
    "        dy[targets[t]] -= 1 # backprop into y. After taking the soft max in the input vector, subtract 1 from the value of the element corresponding to the correct label.\n",
    "        dWhy += np.dot(dy, hs[t].T)\n",
    "        dby += dy \n",
    "        dh = np.dot(W_hy.T, dy) + dhnext # backprop into h. \n",
    "        dhraw = (1 - hs[t] * hs[t]) * dh # backprop through tanh nonlinearity #tanh'(x) = 1-tanh^2(x)\n",
    "        dbh += dhraw\n",
    "        dWxh += np.dot(dhraw, xs[t].T)\n",
    "        dWhh += np.dot(dhraw, hs[t-1].T)\n",
    "        dhnext = np.dot(W_hh.T, dhraw)\n",
    "    for dparam in [dWxh, dWhh, dWhy, dbh, dby]: \n",
    "        np.clip(dparam, -5, 5, out=dparam) # clip to mitigate exploding gradients.  \n",
    "    \n",
    "    return dWxh, dWhh, dWhy, dbh, dby"
   ]
  },
  {
   "cell_type": "code",
   "execution_count": 16,
   "metadata": {},
   "outputs": [
    {
     "name": "stdout",
     "output_type": "stream",
     "text": [
      "iter 0, loss: 84.945021\n",
      "CPU times: user 10min 12s, sys: 5.34 s, total: 10min 17s\n",
      "Wall time: 1min 43s\n"
     ]
    }
   ],
   "source": [
    "%%time\n",
    "\n",
    "data_pointer = 0\n",
    "\n",
    "# memory variables for Adagrad\n",
    "mWxh, mWhh, mWhy = np.zeros_like(W_xh), np.zeros_like(W_hh), np.zeros_like(W_hy)\n",
    "mbh, mby = np.zeros_like(b_h), np.zeros_like(b_y) \n",
    "\n",
    "for i in range(iteration):\n",
    "    h_prev = np.zeros((hidden_size,1)) # reset RNN memory\n",
    "    data_pointer = 0 # go from start of data\n",
    "    \n",
    "    for b in range(batch_size):\n",
    "        \n",
    "        inputs = [char_to_int[ch] for ch in flat_list[data_pointer:data_pointer+sequence_length]]\n",
    "        targets = [char_to_int[ch] for ch in flat_list[data_pointer+1:data_pointer+sequence_length+1]] # t+1        \n",
    "            \n",
    "        if (data_pointer+sequence_length+1 >= len(flat_list) and b == batch_size-1): # processing of the last part of the input data. \n",
    "#             targets.append(char_to_int[df[0]])   # When the data doesn't fit, add the first char to the back.\n",
    "            targets.append(char_to_int[\" \"])   # When the data doesn't fit, add space(\" \") to the back.\n",
    "\n",
    "\n",
    "        # forward\n",
    "        loss, ps, hs, xs = forwardprop(inputs, targets, h_prev)\n",
    "#         print(loss)\n",
    "    \n",
    "        # backward\n",
    "        dWxh, dWhh, dWhy, dbh, dby = backprop(ps, inputs, hs, xs) \n",
    "        \n",
    "        \n",
    "    # perform parameter update with Adagrad\n",
    "        for param, dparam, mem in zip([W_xh, W_hh, W_hy, b_h, b_y], \n",
    "                                    [dWxh, dWhh, dWhy, dbh, dby], \n",
    "                                    [mWxh, mWhh, mWhy, mbh, mby]):\n",
    "            mem += dparam * dparam # elementwise\n",
    "            param += -learning_rate * dparam / np.sqrt(mem + 1e-8) # adagrad update      \n",
    "    \n",
    "        data_pointer += sequence_length # move data pointer\n",
    "        \n",
    "    if i % 100 == 0:\n",
    "        print ('iter %d, loss: %f' % (i, loss)) # print progress"
   ]
  },
  {
   "cell_type": "code",
   "execution_count": 17,
   "metadata": {},
   "outputs": [],
   "source": [
    "def predict(test_char, length):\n",
    "    x = np.zeros((num_chars, 1)) \n",
    "    x[char_to_int[test_char]] = 1\n",
    "    ixes = []\n",
    "    h = np.zeros((hidden_size,1))\n",
    "\n",
    "    for t in range(length):\n",
    "        h = np.tanh(np.dot(W_xh, x) + np.dot(W_hh, h) + b_h) \n",
    "        y = np.dot(W_hy, h) + b_y\n",
    "        p = np.exp(y) / np.sum(np.exp(y)) \n",
    "        ix = np.random.choice(range(num_chars), p=p.ravel()) # ravel -> rank0\n",
    "        # \"ix\" is a list of indexes selected according to the soft max probability.\n",
    "        x = np.zeros((num_chars, 1)) # init\n",
    "        x[ix] = 1 \n",
    "        ixes.append(ix) # list\n",
    "    txt = test_char + ''.join(int_to_char[i] for i in ixes)\n",
    "    print ('----\\n %s \\n----' % (txt, ))"
   ]
  },
  {
   "cell_type": "code",
   "execution_count": 20,
   "metadata": {},
   "outputs": [
    {
     "name": "stdout",
     "output_type": "stream",
     "text": [
      "----\n",
      " The worst churl, livery this too find.But from my earth tiger’s her young.But thou repair should live paws,And make thy age)Be long from from date. this, repair my nature’s changing gazeth, crime,forbid be succeeding breathe your sweet one keen false women’s souls away: flowers,Much truth with show, lease \n",
      "----\n"
     ]
    }
   ],
   "source": [
    "predict('The', 100)"
   ]
  },
  {
   "cell_type": "code",
   "execution_count": null,
   "metadata": {},
   "outputs": [],
   "source": []
  }
 ],
 "metadata": {
  "kernelspec": {
   "display_name": "Python 3",
   "language": "python",
   "name": "python3"
  },
  "language_info": {
   "codemirror_mode": {
    "name": "ipython",
    "version": 3
   },
   "file_extension": ".py",
   "mimetype": "text/x-python",
   "name": "python",
   "nbconvert_exporter": "python",
   "pygments_lexer": "ipython3",
   "version": "3.7.2"
  }
 },
 "nbformat": 4,
 "nbformat_minor": 2
}
