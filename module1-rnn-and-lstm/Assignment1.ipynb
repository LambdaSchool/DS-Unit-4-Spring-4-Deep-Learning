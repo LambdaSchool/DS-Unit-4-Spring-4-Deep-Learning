{
 "cells": [
  {
   "cell_type": "markdown",
   "metadata": {},
   "source": [
    "<img align=\"left\" src=\"https://lever-client-logos.s3.amazonaws.com/864372b1-534c-480e-acd5-9711f850815c-1524247202159.png\" width=200>\n",
    "<br></br>\n",
    "<br></br>\n",
    "\n",
    "## *Data Science Unit 4 Sprint 3 Assignment 1*\n",
    "\n",
    "# Recurrent Neural Networks and Long Short Term Memory (LSTM)\n",
    "\n",
    "![Monkey at a typewriter](https://upload.wikimedia.org/wikipedia/commons/thumb/3/3c/Chimpanzee_seated_at_typewriter.jpg/603px-Chimpanzee_seated_at_typewriter.jpg)\n",
    "\n",
    "It is said that [infinite monkeys typing for an infinite amount of time](https://en.wikipedia.org/wiki/Infinite_monkey_theorem) will eventually type, among other things, the complete works of Wiliam Shakespeare. Let's see if we can get there a bit faster, with the power of Recurrent Neural Networks and LSTM.\n",
    "\n",
    "This text file contains the complete works of Shakespeare: https://www.gutenberg.org/files/100/100-0.txt\n",
    "\n",
    "Use it as training data for an RNN - you can keep it simple and train character level, and that is suggested as an initial approach.\n",
    "\n",
    "Then, use that trained RNN to generate Shakespearean-ish text. Your goal - a function that can take, as an argument, the size of text (e.g. number of characters or lines) to generate, and returns generated text of that size.\n",
    "\n",
    "Note - Shakespeare wrote an awful lot. It's OK, especially initially, to sample/use smaller data and parameters, so you can have a tighter feedback loop when you're trying to get things running. Then, once you've got a proof of concept - start pushing it more!"
   ]
  },
  {
   "cell_type": "code",
   "execution_count": 14,
   "metadata": {},
   "outputs": [],
   "source": [
    "from tensorflow.keras.callbacks import LambdaCallback\n",
    "from tensorflow.keras.models import Sequential\n",
    "from tensorflow.keras.layers import Dense, LSTM\n",
    "from tensorflow.keras.optimizers import RMSprop"
   ]
  },
  {
   "cell_type": "code",
   "execution_count": 1,
   "metadata": {
    "colab": {},
    "colab_type": "code",
    "id": "Ltj1je1fp5rO"
   },
   "outputs": [],
   "source": [
    "import sys\n",
    "import numpy as np\n",
    "\n",
    "def prepare_to_shakespeare(url, number_of_chars):\n",
    "    \n",
    "    import urllib.request\n",
    "    \n",
    "    req = urllib.request.Request(url)\n",
    "    with urllib.request.urlopen(req) as response:\n",
    "        data = response.read().decode(\"utf8\")[:number_of_chars]\n",
    "\n",
    "    data_stripped = [item.strip(\"\\ufeff|\\x80|\\x99|\\n|\\r|ï|¿|#|»|9|8|0|â|ï\") for item in data] \n",
    "\n",
    "    return data_stripped"
   ]
  },
  {
   "cell_type": "code",
   "execution_count": 2,
   "metadata": {},
   "outputs": [],
   "source": [
    "# Apply our function\n",
    "works = prepare_to_shakespeare('https://www.gutenberg.org/files/100/100-0.txt', 100000)"
   ]
  },
  {
   "cell_type": "code",
   "execution_count": 3,
   "metadata": {},
   "outputs": [
    {
     "data": {
      "text/plain": [
       "list"
      ]
     },
     "execution_count": 3,
     "metadata": {},
     "output_type": "execute_result"
    }
   ],
   "source": [
    "type(works)"
   ]
  },
  {
   "cell_type": "code",
   "execution_count": 5,
   "metadata": {},
   "outputs": [],
   "source": [
    "# Turn works into a long string\n",
    "text = ''.join(works)"
   ]
  },
  {
   "cell_type": "code",
   "execution_count": 9,
   "metadata": {},
   "outputs": [
    {
     "data": {
      "text/plain": [
       "(str,\n",
       " 'Project Gutenberg’s The Complete Works of William Shakespeare, by WilliamShakespeareThis eBook is for the use of anyone anywhere in the United States andmost other parts of the world at no cost and with almost no restrictionswhatsoever.  You may copy it, give it away or re-use it under the termsof the Project Gutenberg License included with this eBook or online atwww.gutenberg.org.  If you are not located in the United States, you’llhave to check the laws of the country where you are located before usingthis ebook.Title: The Complete Works of William ShakespeareAuthor: William ShakespeareRelease Date: January 14 [EBook 1]Last Updated: November 7, 21Language: EnglishCharacter set encoding: UTF-*** START OF THIS PROJECT GUTENBERG EBOOK THE COMPLETE WORKS OF WILLIAM SHAKESPEARE ***The Complete Works of William Shakespeareby William Shakespeare      Contents               THE SONNETS               ALL’S WELL THAT ENDS WELL               THE TRAGEDY OF ANTONY AND CLEOPATRA               AS ')"
      ]
     },
     "execution_count": 9,
     "metadata": {},
     "output_type": "execute_result"
    }
   ],
   "source": [
    "type(text), text[:1000]"
   ]
  },
  {
   "cell_type": "code",
   "execution_count": 11,
   "metadata": {},
   "outputs": [
    {
     "name": "stdout",
     "output_type": "stream",
     "text": [
      "['U', '4', 'a', 'O', 'P', 'y', 'q', '(', 'J', 'h', 'm', '!', 'e', 'N', 'Y', 'I', 'V', 'z', 'H', 'r', 'C', '‘', 'x', ')', 'M', 'c', 'X', 'd', 'E', '*', 'B', 'k', '[', 'l', '5', 'n', 's', 'i', 'p', ';', 'W', 'K', 'j', 'g', 'f', '7', 'v', 'D', ']', 'u', ':', '-', 'G', '.', 'A', 'F', '6', 'w', '1', ',', 'o', 'b', 'S', 'T', '3', 't', 'R', '2', '’', ' ', 'L', '?']\n"
     ]
    }
   ],
   "source": [
    "''' text is a long string. We just want the unique characters\n",
    "as a list'''\n",
    "unique_chars = list(set(text))\n",
    "print(unique_chars)"
   ]
  },
  {
   "cell_type": "code",
   "execution_count": 12,
   "metadata": {},
   "outputs": [],
   "source": [
    "# Assign each unique character to a number. Easy way is by enumerating\n",
    "char_int = {c:i for i,c in enumerate(unique_chars)}\n",
    "int_char = {i:c for i,c in enumerate(unique_chars)}"
   ]
  },
  {
   "cell_type": "code",
   "execution_count": 13,
   "metadata": {},
   "outputs": [
    {
     "name": "stdout",
     "output_type": "stream",
     "text": [
      "sequences: 94288\n"
     ]
    }
   ],
   "source": [
    "## Create Sequence Data\n",
    "\n",
    "# Scan text variable by 40 character chunks to create first sequence\n",
    "maxlen = 40\n",
    "step = 1\n",
    "\n",
    "# Encode as sequence data as its unique character\n",
    "encoded = [char_int[unique_chars] for unique_chars in text]\n",
    "\n",
    "batch_size = 32\n",
    "\n",
    "sequences = [] # Each element is 40 characters long\n",
    "next_chars = [] # One element for each sequence\n",
    "\n",
    "for i in range(0, len(encoded) - maxlen, step):\n",
    "    sequences.append(encoded[i : i + maxlen])\n",
    "    next_chars.append(encoded[i + maxlen])\n",
    "print('sequences:', len(sequences))"
   ]
  },
  {
   "cell_type": "code",
   "execution_count": 15,
   "metadata": {},
   "outputs": [
    {
     "data": {
      "text/plain": [
       "((94288, 40, 72), (94288, 72))"
      ]
     },
     "execution_count": 15,
     "metadata": {},
     "output_type": "execute_result"
    }
   ],
   "source": [
    "# Specify x & y\n",
    "# you can onehotencode\n",
    "# rows, width, dimensions are vector of 40 characters\n",
    "x = np.zeros((len(sequences), maxlen, len(unique_chars)), dtype=np.bool)\n",
    "# rows, width (1)\n",
    "y = np.zeros((len(sequences), len(unique_chars)), dtype=np.bool)\n",
    "\n",
    "for i, sequence in enumerate(sequences):\n",
    "    for t, char in enumerate(sequence):\n",
    "        x[i,t,char] = 1\n",
    "        \n",
    "    y[i, next_chars[i]] = 1\n",
    "\n",
    "x.shape, y.shape"
   ]
  },
  {
   "cell_type": "code",
   "execution_count": 21,
   "metadata": {},
   "outputs": [],
   "source": [
    "# build the model: a single LSTM\n",
    "model = Sequential()\n",
    "# the input_shape of a singular observation\n",
    "# 40 chars, so multiclass, therefore softmax\n",
    "model.add(LSTM(128, input_shape=(maxlen, len(unique_chars))))\n",
    "model.add(Dense(len(unique_chars), activation='softmax'))\n",
    "model.compile(loss='categorical_crossentropy', optimizer='adam')"
   ]
  },
  {
   "cell_type": "code",
   "execution_count": 22,
   "metadata": {},
   "outputs": [],
   "source": [
    "#return index location of most probable character\n",
    "def sample(preds, temperature=1.0):\n",
    "    # helper function to sample an index from a probability array\n",
    "    preds = np.asarray(preds).astype('float64')\n",
    "    preds = np.log(preds) / temperature\n",
    "    exp_preds = np.exp(preds)\n",
    "    preds = exp_preds / np.sum(exp_preds)\n",
    "    probas = np.random.multinomial(1, preds, 1)\n",
    "    return np.argmax(probas)"
   ]
  },
  {
   "cell_type": "code",
   "execution_count": 23,
   "metadata": {},
   "outputs": [],
   "source": [
    "def on_epoch_end(epoch, _):\n",
    "    # Function invoked at end of each epoch. Prints generated text.\n",
    "    print()\n",
    "    print('----- Generating text after Epoch: %d' % epoch)\n",
    "\n",
    "    start_index = np.random.randint(0, len(text) - maxlen - 1)\n",
    "    for diversity in [0.2, 0.5, 1.0, 1.2]:\n",
    "        print('----- diversity:', diversity)\n",
    "\n",
    "        generated = ''\n",
    "        sentence = text[start_index: start_index + maxlen]\n",
    "        generated += sentence\n",
    "        print('----- Generating with seed: \"' + sentence + '\"')\n",
    "        sys.stdout.write(generated)\n",
    "\n",
    "        for i in range(400):\n",
    "            x_pred = np.zeros((1, maxlen, len(unique_chars)))\n",
    "            for t, char in enumerate(sentence):\n",
    "                x_pred[0, t, char_int[char]] = 1.\n",
    "\n",
    "            preds = model.predict(x_pred, verbose=0)[0]\n",
    "            next_index = sample(preds, diversity)\n",
    "            next_char = int_char[next_index]\n",
    "\n",
    "            sentence = sentence[1:] + next_char\n",
    "\n",
    "            sys.stdout.write(next_char)\n",
    "            sys.stdout.flush()\n",
    "        print()\n",
    "\n",
    "print_callback = LambdaCallback(on_epoch_end=on_epoch_end)"
   ]
  },
  {
   "cell_type": "code",
   "execution_count": 25,
   "metadata": {},
   "outputs": [
    {
     "name": "stdout",
     "output_type": "stream",
     "text": [
      "Epoch 1/5\n",
      "94208/94288 [============================>.] - ETA: 0s - loss: 2.2760\n",
      "----- Generating text after Epoch: 0\n",
      "----- diversity: 0.2\n",
      "----- Generating with seed: \"s rage shall beauty hold a plea,Whose ac\"\n",
      "s rage shall beauty hold a plea,Whose act in the the the the the the sor the the the shes the the seat the the the sath the the the the the the the the the the sere the the the the the the the thou the the the the the the the the the the sore the the that the the the the the that the the the the the the the the the sher the seath the seath the the the the the the the the so the the the the the the the the the the the the the the the the\n",
      "----- diversity: 0.5\n",
      "----- Generating with seed: \"s rage shall beauty hold a plea,Whose ac\"\n",
      "s rage shall beauty hold a plea,Whose acl an that the the gith the the pris the psill seind an mund hout thy whee the theperes shat be be thas thee sout that on with thou prot llome the the  ale the beats to he the  in the the thou pall or thet wome and I prouth that ou hind on the sile thou that our the sores whind the the thes no le ser thac thou the dere.                                                                                \n",
      "----- diversity: 1.0\n",
      "----- Generating with seed: \"s rage shall beauty hold a plea,Whose ac\"\n",
      "s rage shall beauty hold a plea,Whose acoxcang’md ealk alle wyers aninsI y llear denghetivighisht lims on ou tile Suma ssest not Shalu gith Elomer wile o ko.  s Yn  on t I          T 24TTo my fhate th(ie apmim thy chit tall is ly ’nd,ind hepfak waat eAnd henis thakes of I my dids the winc cay thal suld sAndce fals won hakle sof wh peowie thy funease nde cithy bor ser tyowt hltosh siee?hTun: dene yout ’uneeAthir thel prehBly ilaMt he adp\n",
      "----- diversity: 1.2\n",
      "----- Generating with seed: \"s rage shall beauty hold a plea,Whose ac\"\n",
      "s rage shall beauty hold a plea,Whose acreand Liad nore,dns. w wimp,SaBghe.LA ling, sI t thas king worerinAnb r ak:ko. nd wheth thave,fins cout worz;dor sestittan yimeKAnding mmoesseAke wrang.  cos mith TheigPsrlThe, ay do tiy shak. w in silm wrigeml salkripthaqthos Yreich priys Am nw,on ETook vowht rhot nesster Ie mere Ifounos tuone ipvengasE ou yourvey nfWearey thou wirhhan.t me wald dov*r’sBss lhopnt, troth Spelid menfrid thiils ber \n",
      "94288/94288 [==============================] - 72s 759us/sample - loss: 2.2761\n",
      "Epoch 2/5\n",
      "94208/94288 [============================>.] - ETA: 0s - loss: 2.1192\n",
      "----- Generating text after Epoch: 1\n",
      "----- diversity: 0.2\n",
      "----- Generating with seed: \" then love doth well denote,Love’s eye i\"\n",
      " then love doth well denote,Love’s eye in thou the that the mere the love the for the seart the love the love the the thou the then the the the then the the love the love the that the seart thou thin the sull seall shat the the love the the will the the the the the the the the then that the love that seart be the the the the the the thing the the my my stere,  nou thin the love the the the for ar the the the thou the love the mere thy w\n",
      "----- diversity: 0.5\n",
      "----- Generating with seed: \" then love doth well denote,Love’s eye i\"\n",
      " then love doth well denote,Love’s eye ing love whing thou hath stare,  hat thy hing the oul anger and thou thou thy shese ding the comlsed my ware so home thin then the theact sive the thit mave,  the llow thou thoughing that rove the seaft rour mare bearts the beart the love thou thou the stered for and stielin the hernde thear stere the dill and were rour thy are, hou the cose surer baer shat thing all that the halle an thing thou ha\n",
      "----- diversity: 1.0\n",
      "----- Generating with seed: \" then love doth well denote,Love’s eye i\"\n",
      " then love doth well denote,Love’s eye ile my aplle.Withu my lapr s fullee wawise case.                    1O6Whou het rou for ma!s farith somhing in ingad the thee, collide,Buth in lovmut salyes hesenche thiliv, owht rmeseille bir I  vinl,It on ing,,Buky that flortet be wats,SredThinh ho diplis lyedone,Whor ffarces this buctun,W and to with tlon arseeFige’s arnes for fure fur gor thenoug that ared,Mal at theu tore mrenstWzy butes thot \n",
      "----- diversity: 1.2\n",
      "----- Generating with seed: \" then love doth well denote,Love’s eye i\"\n",
      " then love doth well denote,Love’s eye iqt.ve’s ny blsinngen of whak s bms no woovinl oroIXd’ieg.’r youd love,But apctwiegutNid.Yoty,Whall sawhy bererc ond, sher thichevllDd:Bots ar grectepr,I hkenly anths mitter,OuNHaighemh liproth izr:Than mome gulr deatly ]Rract,Nond love ande weagt pare wave mook my bea?iks gome iid fon ounu*A(Stoisger ighund u tot thindLeFinod l why,*ime wyich ou his sh kpurowe fithprenevine xormy’s, xegurokldymy e\n",
      "94288/94288 [==============================] - 76s 801us/sample - loss: 2.1189\n",
      "Epoch 3/5\n",
      "94208/94288 [============================>.] - ETA: 0s - loss: 2.0232\n",
      "----- Generating text after Epoch: 2\n",
      "----- diversity: 0.2\n",
      "----- Generating with seed: \"wed bait,On purpose laid to make the tak\"\n",
      "wed bait,On purpose laid to make the take the that thou sore thee the love the wart the sang the seare thee the seres and that thou thou the thou the seart shase the sears the love the fart thou the love the seart the seall and the that the sears seall seart the seall seart the thes the sell and in the seart the wart the seart the that the ware the seart the sere the reart that thou doth the my seart the sears the seart the seave the se\n",
      "----- diversity: 0.5\n",
      "----- Generating with seed: \"wed bait,On purpose laid to make the tak\"\n",
      "wed bait,On purpose laid to make the take m me thise thee that the the same and or ald the tare thy ullow sine,  in the love,Whin tey sant,  ho there whith hat to that that in thet thou dort thy some and all my sull gine and could thy sell sen thear migh so more, and of mene in seall serand in ther the live, and the love shares that thou stering the ast,And seart by with hered mind some hears that when that bear your my in that wain the\n",
      "----- diversity: 1.0\n",
      "----- Generating with seed: \"wed bait,On purpose laid to make the tak\"\n",
      "wed bait,On purpose laid to make the takutd yow un if my hapre eRedie.H anste’s ylast.ow chyoc, are that deaste noke frelaspect I  beart nous atw llowt thised ou taseing fqall’ss anog steGaye.                     11Lof ont I lovh cesprwan thou then gelyre thouse,What of somgrsorst fhoues of tlot youlind of lover.                    141Spyed,AmMad wa’s Thou cindenten ifeme, tiot llifed k bugr,And that lape fach whouley paskeer, ald that \n",
      "----- diversity: 1.2\n",
      "----- Generating with seed: \"wed bait,On purpose laid to make the tak\"\n",
      "wed bait,On purpose laid to make the tak ashThoclolhis de,Thot re-feantemy ip ou thas prie bodekles dostots,Noth grearters so sheby.Wh?n o elisk1? s ngar1t yecor-fratsed,And thy Alluswiard in wimuse-urveithan woris: ig allone,,Fno ayr dove wheinamh ther)owcy devis nes frole emate’s myel filone  hythr somwartincs murlint kede’s love,ThStingulouby vLity, a Lears,Eichicrmy that of in ertertty conqey,ThelesTind wer do sy olls nith’s. beaile\n",
      "94288/94288 [==============================] - 82s 874us/sample - loss: 2.0232\n",
      "Epoch 4/5\n",
      "94208/94288 [============================>.] - ETA: 0s - loss: 1.9520\n",
      "----- Generating text after Epoch: 3\n",
      "----- diversity: 0.2\n",
      "----- Generating with seed: \"e as rare,  As any she belied with false\"\n",
      "e as rare,  As any she belied with false the seave the the seave the sead the seave,  not the seave the with the seave the seall the seave the some, the the with the seall my seat my seall the fort the seact,And the mand the seave the for the seave the seall store the sealt the sead,  Then the with thou the seed the seave the ment the fare,  The sealt the sealt the seave the sead the seate the will the prought the wert the seave the wit\n",
      "----- diversity: 0.5\n",
      "----- Generating with seed: \"e as rare,  As any she belied with false\"\n",
      "e as rare,  As any she belied with falsed of the with me the meare that shes, and the worts in gries, the sould theing and the love to seald the reale my mest thee mone the sence beare prick and bene.                     11So gomt, monce to my sing as and the when dott love thou the the dead sume, with the memy gant my seech deald wind my livest fnoth the sime,Then my in thes of the not be serent of thes in the there to sefow,The sealy \n",
      "----- diversity: 1.0\n",
      "----- Generating with seed: \"e as rare,  As any she belied with false\"\n",
      "e as rare,  As any she belied with falsed atrofdle simumy to tone ow thy lovest lfowit esesty, noon nest neks sambore  on my sidlone hefs in dast.Noy, qust be of enor younly:Of a dite the woofust’d th e frainod mare prise ove the rosk,AWhigh do mankef angeat oveenf,Carcoor foor?weecu fore so thit wing ay wrist eputhy dot,Ang theis nese sen shes sor my manked Ifwien doiss not thes of catssein mo nomghath, Thee thou als tuin,And I wnae ow\n",
      "----- diversity: 1.2\n",
      "----- Generating with seed: \"e as rare,  As any she belied with false\"\n",
      "e as rare,  As any she belied with falsend tines oBpece plixpte, unpeif corpoutebees.  Thy sree) anchur pace vedt onobe imjity beitof with akn fon and bre, ’sling of chesu, pe’ss fanhste yeged fromnmor of of my siasight weantem anstiwadt,Then, ormed ynust momeu  f’rting I both s’tersen thucgeaatos de treich bee I hilltepoor, I sh t op thou bamumedse eakk,oh davines on arlilant thI of in messins:Andtrusstsud and aqy fopneess stintus seme\n",
      "94288/94288 [==============================] - 79s 840us/sample - loss: 1.9518\n",
      "Epoch 5/5\n",
      "94208/94288 [============================>.] - ETA: 0s - loss: 1.8886\n",
      "----- Generating text after Epoch: 4\n",
      "----- diversity: 0.2\n",
      "----- Generating with seed: \"thing me, a something sweet to thee.  Ma\"\n",
      "thing me, a something sweet to thee.  Mat thee the for and the will the reare,                     14When the will the love the prough the fare,  Then the sear the with the prous the sure,  Then the with the seart the seal as she there so mand,                     14Then the love the sell and the prowe the reart,And the with the some with the pare thee thee the beare,                     11Then the seall she man the beauty the wart,    \n",
      "----- diversity: 0.5\n",
      "----- Generating with seed: \"thing me, a something sweet to thee.  Ma\"\n",
      "thing me, a something sweet to thee.  Mat the ais the sull of thee at thou the seald,  Thy hearter bearsing the prayse the hour in the parses reave,Which me that wertay in ho love the warker doth that were, bease may is prackide,  for come that me the bear thie that shes fore thee,  And so the for this the fall thy love thee bear farken the parines,  But thee least an thy heart the fall as prouser,That fore come the brice as ere stengh \n",
      "----- diversity: 1.0\n",
      "----- Generating with seed: \"thing me, a something sweet to thee.  Ma\"\n",
      "thing me, a something sweet to thee.  May wher do at I love the doinghe Nom now haccas (thull I fhat,And’ to sutsthe yan steex sapkleks in and,Wire that now for whones geadr athele theengle glotid de,Or aud ance thought Tich frowel det if your oli) To frumed dle. be in farth nith he, hil I nee might)Whis beavire forpume take papby girts it forteds ad mlas.                   215kandedone to thounding thou roce?se to crare (it thouow,od w\n",
      "----- diversity: 1.2\n",
      "----- Generating with seed: \"thing me, a something sweet to thee.  Ma\"\n",
      "thing me, a something sweet to thee.  Maveigh yot of thahist argwaie,Thathichlint ore aid that of fla sis, shentige taurave trieps tillay?lo bes grows ovePise to touned.To tarumy kijoig, thike ,Thoke contare promlade fullt to li bceaine,Lhie ad hake the ous will ghenust cez;an in misht, gLeve yed sterpucice fea sind ltheece wollvanodiinfet,Mapeled what to noul, emyse cilightith yousn waid asyer? Tit wiil is exts thod wherie mife, ath ca\n",
      "94288/94288 [==============================] - 86s 916us/sample - loss: 1.8887\n"
     ]
    },
    {
     "data": {
      "text/plain": [
       "<tensorflow.python.keras.callbacks.History at 0x13a498750>"
      ]
     },
     "execution_count": 25,
     "metadata": {},
     "output_type": "execute_result"
    }
   ],
   "source": [
    "model.fit(x, y,\n",
    "          batch_size=128,\n",
    "          epochs=5,\n",
    "          callbacks=[print_callback])"
   ]
  }
 ],
 "metadata": {
  "kernelspec": {
   "display_name": "Python 3",
   "language": "python",
   "name": "python3"
  },
  "language_info": {
   "codemirror_mode": {
    "name": "ipython",
    "version": 3
   },
   "file_extension": ".py",
   "mimetype": "text/x-python",
   "name": "python",
   "nbconvert_exporter": "python",
   "pygments_lexer": "ipython3",
   "version": "3.7.6"
  }
 },
 "nbformat": 4,
 "nbformat_minor": 4
}
