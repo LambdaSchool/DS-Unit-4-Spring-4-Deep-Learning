{
  "nbformat": 4,
  "nbformat_minor": 0,
  "metadata": {
    "colab": {
      "name": "Auto-encoders Assignment.ipynb",
      "provenance": [],
      "authorship_tag": "ABX9TyN3Ndxq3WRxeuKMgMmvvzfI",
      "include_colab_link": true
    },
    "kernelspec": {
      "name": "python3",
      "display_name": "Python 3"
    }
  },
  "cells": [
    {
      "cell_type": "markdown",
      "metadata": {
        "id": "view-in-github",
        "colab_type": "text"
      },
      "source": [
        "<a href=\"https://colab.research.google.com/github/rubyclaguna/DS-Unit-4-Sprint-3-Deep-Learning/blob/master/Auto_encoders_Assignment.ipynb\" target=\"_parent\"><img src=\"https://colab.research.google.com/assets/colab-badge.svg\" alt=\"Open In Colab\"/></a>"
      ]
    },
    {
      "cell_type": "markdown",
      "metadata": {
        "id": "BOs5CybI1eOq",
        "colab_type": "text"
      },
      "source": [
        "## History of Artificial Intelligence \n",
        "\n",
        "Questions: \n",
        " - What is the first \"artificially intelligent robot\" you were first introduced to through the media?\n",
        " - Not really a question - but I would like to know more about the history and statistics of computers (and tech based classes) being more accesible to low-income communities. \n",
        "\n",
        " "
      ]
    },
    {
      "cell_type": "markdown",
      "metadata": {
        "id": "A0kzkSVA6N-p",
        "colab_type": "text"
      },
      "source": [
        "## How Far Are We From Achieving Artificial General Intelligence?\n",
        "\n",
        "Questions: \n",
        "\n",
        "- How is it possible for a neural network to determine someone's sexual orientation by the expressions on their faces? \n",
        "- Do you believe the development of AGI will be beneficial for human beings and why/why not? \n"
      ]
    },
    {
      "cell_type": "markdown",
      "metadata": {
        "id": "0kHSujVf9QGd",
        "colab_type": "text"
      },
      "source": [
        "## Humans' Fascination with Artificial General Intelligence\n",
        "\n",
        "Questions: \n",
        "- What is something you would use AI for on a daily basis? \n",
        "- Do you believe AGI will be attainable in the next 40 years, why/why not? "
      ]
    },
    {
      "cell_type": "markdown",
      "metadata": {
        "id": "n4oJSSIIBBmg",
        "colab_type": "text"
      },
      "source": [
        "## Risks from Artificial Intelligence\n",
        "\n",
        "Questions: \n",
        "\n",
        "- Do you believe the benefits of AI outweigh the potenial risks? \n",
        "- Should people who want to invest in having a superintelligent AGI (robot, possibly) go through a background check in order to obtain it? "
      ]
    },
    {
      "cell_type": "markdown",
      "metadata": {
        "id": "foE7PzQ2KkQo",
        "colab_type": "text"
      },
      "source": [
        "## AI Safety Concerns \n",
        "\n",
        "Questions: \n",
        "\n",
        "- In your opinion, what is the biggest concern or potential risk of AI? \n",
        "- Why do machine learning researchers fear that high expecations about AI from the the public could actually kill the industry? "
      ]
    }
  ]
}