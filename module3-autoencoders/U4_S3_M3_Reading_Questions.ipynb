{
  "nbformat": 4,
  "nbformat_minor": 0,
  "metadata": {
    "colab": {
      "name": "U4-S3-M3 Reading Questions.ipynb",
      "provenance": [],
      "collapsed_sections": []
    },
    "kernelspec": {
      "name": "python3",
      "display_name": "Python 3"
    }
  },
  "cells": [
    {
      "cell_type": "markdown",
      "metadata": {
        "id": "ijHoIPRArufd",
        "colab_type": "text"
      },
      "source": [
        "#The History of Artificial Intelligence\n",
        "1. Will quantum computing give AI the next big push it needs to achieve general artificial intelligence?\n",
        "2. What is the environmental impact of achieving general artificial intelligence?\n",
        "3. If computer speed and processing speed start to level out, what will be the next big driver of AI development toward general intelligence? (Moores law fails)\n",
        "\n",
        "#How Far are we from Achieving Artificial General Intelligence\n",
        "1. Will production artificial general intelligence be our generation's \"production flying car.\" Will we be saying \"wheres my general artificial intelligence\" at the end of our life like so many are saying \"wheres my flying car\" at the end of theirs.\n",
        "2. Should artificial general intelligence have rights, and should the value of their life to comparable to a human?\n",
        "3. What type of push back from governments and public citizens can researchers expect to see at the advent of general artificial intelligence? \n",
        "\n",
        "#Humans Fascination with Artificial General Intelligence\n",
        "1. Does narrow artificial intelligence need to become more developed and researched (Comprehensive AI Services) before we can more clearly define a path toward general artificial intelligence?\n",
        "2. When AGI can transfer knowledge from one domain to another as humans can, will  AGI be capable of performing multiple positions simultaneously? In contrast, a human would still be limited to one, for example, an AGI that can perform hiring duties, but can act as a human resources personnel also? \n",
        "\n",
        "#Risks from Artificial Intelligence\n",
        "1. In regards to safety, if an AGI were to hurt someone physically, who would be held responsible? Would humans have to waive their rights to prosecute if they worked in an environment where an AGI could cause possible harm to them?\n",
        "2. In regards to security, if a country wanted to develop an AGI for military purposes, would there be the same barrier of entry that exists for nuclear weapons, and what country should have the most say? How significant is a first-mover advantage in the development of regulation around AGI?\n",
        "\n",
        "#The American Public is Already Worried About AI Catastrophe\n",
        "1. Is AGI advancement being used as a red herring?\n",
        "2. Is the public afraid of AGI because it has not seen the jobs it will create?"
      ]
    }
  ]
}