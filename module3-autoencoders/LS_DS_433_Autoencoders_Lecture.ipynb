{
 "cells": [
  {
   "cell_type": "markdown",
   "metadata": {},
   "source": [
    "Lambda School Data Science\n",
    "\n",
    "*Unit 4, Sprint 3, Module 3*\n",
    "\n",
    "---"
   ]
  },
  {
   "cell_type": "markdown",
   "metadata": {},
   "source": [
    "# Autoencoders\n",
    "\n",
    "> An autoencoder is a type of artificial neural network used to learn efficient data codings in an unsupervised manner.[1][2] The aim of an autoencoder is to learn a representation (encoding) for a set of data, typically for dimensionality reduction, by training the network to ignore signal “noise”. Along with the reduction side, a reconstructing side is learnt, where the autoencoder tries to generate from the reduced encoding a representation as close as possible to its original input, hence its name. "
   ]
  },
  {
   "cell_type": "markdown",
   "metadata": {},
   "source": [
    "## Learning Objectives\n",
    "*At the end of the lecture you should be to*:\n",
    "* <a href=\"#p1\">Part 1</a>: Describe the componenets of an autoencoder\n",
    "* <a href=\"#p2\">Part 2</a>: Train an autoencoder\n",
    "* <a href=\"#p3\">Part 3</a>: Apply an autoenocder to a basic information retrieval problem\n",
    "\n",
    "__Problem:__ Is it possible to automatically represent an image as a fixed-sized vector even if it isn’t labeled?\n",
    "\n",
    "__Solution:__ Use an autoencoder\n",
    "\n",
    "Why do we need to represent an image as a fixed-sized vector do you ask? \n",
    "\n",
    "* __Information Retrieval__\n",
    "    - [Reverse Image Search](https://en.wikipedia.org/wiki/Reverse_image_search)\n",
    "    - [Recommendation Systems - Content Based Filtering](https://en.wikipedia.org/wiki/Recommender_system#Content-based_filtering)\n",
    "* __Dimensionality Reduction__\n",
    "    - [Feature Extraction](https://www.kaggle.com/c/vsb-power-line-fault-detection/discussion/78285)\n",
    "    - [Manifold Learning](https://en.wikipedia.org/wiki/Nonlinear_dimensionality_reduction)\n",
    "\n",
    "We've already seen *representation learning* when we talked about word embedding modelings during our NLP week. Today we're going to achieve a similiar goal on images using *autoencoders*. An autoencoder is a neural network that is trained to attempt to copy its input to its output. Usually they are restricted in ways that allow them to copy only approximately. The model often learns useful properties of the data, because it is forced to prioritize which aspecs of the input should be copied. The properties of autoencoders have made them an important part of modern generative modeling approaches. Consider autoencoders a special case of feed-forward networks (the kind we've been studying); backpropagation and gradient descent still work. "
   ]
  },
  {
   "cell_type": "markdown",
   "metadata": {},
   "source": [
    "# Autoencoder Architecture (Learn)\n",
    "<a id=\"p1\"></a>"
   ]
  },
  {
   "cell_type": "markdown",
   "metadata": {},
   "source": [
    "## Overview\n",
    "\n",
    "The *encoder* compresses the input data and the *decoder* does the reverse to produce the uncompressed version of the data to create a reconstruction of the input as accurately as possible:\n",
    "\n",
    "<img src='https://miro.medium.com/max/1400/1*44eDEuZBEsmG_TCAKRI3Kw@2x.png' width=800/>\n",
    "\n",
    "The learning process gis described simply as minimizing a loss function: \n",
    "$ L(x, g(f(x))) $\n",
    "\n",
    "- $L$ is a loss function penalizing $g(f(x))$ for being dissimiliar from $x$ (such as mean squared error)\n",
    "- $f$ is the encoder function\n",
    "- $g$ is the decoder function"
   ]
  },
  {
   "cell_type": "markdown",
   "metadata": {},
   "source": [
    "## Follow Along\n",
    "### Extremely Simple Autoencoder"
   ]
  },
  {
   "cell_type": "code",
   "execution_count": 1,
   "metadata": {},
   "outputs": [
    {
     "name": "stdout",
     "output_type": "stream",
     "text": [
      "Requirement already satisfied: wandb in /home/ec2-user/.local/lib/python3.6/site-packages (0.8.28)\n",
      "Requirement already satisfied: configparser>=3.8.1 in /home/ec2-user/.local/lib/python3.6/site-packages (from wandb) (4.0.2)\n",
      "Requirement already satisfied: requests>=2.0.0 in /home/ec2-user/anaconda3/envs/amazonei_tensorflow_p36/lib/python3.6/site-packages (from wandb) (2.20.0)\n",
      "Requirement already satisfied: gql==0.2.0 in /home/ec2-user/.local/lib/python3.6/site-packages (from wandb) (0.2.0)\n",
      "Requirement already satisfied: GitPython>=1.0.0 in /home/ec2-user/.local/lib/python3.6/site-packages (from wandb) (3.0.8)\n",
      "Requirement already satisfied: shortuuid>=0.5.0 in /home/ec2-user/.local/lib/python3.6/site-packages (from wandb) (0.5.0)\n",
      "Requirement already satisfied: subprocess32>=3.5.3 in /home/ec2-user/.local/lib/python3.6/site-packages (from wandb) (3.5.4)\n",
      "Requirement already satisfied: psutil>=5.0.0 in /home/ec2-user/anaconda3/envs/amazonei_tensorflow_p36/lib/python3.6/site-packages (from wandb) (5.4.5)\n",
      "Requirement already satisfied: docker-pycreds>=0.4.0 in /home/ec2-user/.local/lib/python3.6/site-packages (from wandb) (0.4.0)\n",
      "Requirement already satisfied: PyYAML>=3.10 in /home/ec2-user/anaconda3/envs/amazonei_tensorflow_p36/lib/python3.6/site-packages (from wandb) (5.2)\n",
      "Requirement already satisfied: six>=1.10.0 in /home/ec2-user/anaconda3/envs/amazonei_tensorflow_p36/lib/python3.6/site-packages (from wandb) (1.11.0)\n",
      "Requirement already satisfied: Click>=7.0 in /home/ec2-user/.local/lib/python3.6/site-packages (from wandb) (7.0)\n",
      "Requirement already satisfied: nvidia-ml-py3>=7.352.0 in /home/ec2-user/.local/lib/python3.6/site-packages (from wandb) (7.352.0)\n",
      "Requirement already satisfied: watchdog>=0.8.3 in /home/ec2-user/.local/lib/python3.6/site-packages (from wandb) (0.10.2)\n",
      "Requirement already satisfied: python-dateutil>=2.6.1 in /home/ec2-user/anaconda3/envs/amazonei_tensorflow_p36/lib/python3.6/site-packages (from wandb) (2.7.3)\n",
      "Requirement already satisfied: sentry-sdk>=0.4.0 in /home/ec2-user/.local/lib/python3.6/site-packages (from wandb) (0.14.1)\n",
      "Requirement already satisfied: idna<2.8,>=2.5 in /home/ec2-user/anaconda3/envs/amazonei_tensorflow_p36/lib/python3.6/site-packages (from requests>=2.0.0->wandb) (2.6)\n",
      "Requirement already satisfied: urllib3<1.25,>=1.21.1 in /home/ec2-user/anaconda3/envs/amazonei_tensorflow_p36/lib/python3.6/site-packages (from requests>=2.0.0->wandb) (1.23)\n",
      "Requirement already satisfied: chardet<3.1.0,>=3.0.2 in /home/ec2-user/anaconda3/envs/amazonei_tensorflow_p36/lib/python3.6/site-packages (from requests>=2.0.0->wandb) (3.0.4)\n",
      "Requirement already satisfied: certifi>=2017.4.17 in /home/ec2-user/anaconda3/envs/amazonei_tensorflow_p36/lib/python3.6/site-packages (from requests>=2.0.0->wandb) (2019.9.11)\n",
      "Requirement already satisfied: graphql-core<2,>=0.5.0 in /home/ec2-user/.local/lib/python3.6/site-packages (from gql==0.2.0->wandb) (1.1)\n",
      "Requirement already satisfied: promise<3,>=2.0 in /home/ec2-user/.local/lib/python3.6/site-packages (from gql==0.2.0->wandb) (2.3)\n",
      "Requirement already satisfied: gitdb2>=3 in /home/ec2-user/.local/lib/python3.6/site-packages (from GitPython>=1.0.0->wandb) (4.0.2)\n",
      "Requirement already satisfied: pathtools>=0.1.1 in /home/ec2-user/.local/lib/python3.6/site-packages (from watchdog>=0.8.3->wandb) (0.1.2)\n",
      "Requirement already satisfied: gitdb>=4.0.1 in /home/ec2-user/.local/lib/python3.6/site-packages (from gitdb2>=3->GitPython>=1.0.0->wandb) (4.0.1)\n",
      "Requirement already satisfied: smmap<4,>=3.0.1 in /home/ec2-user/.local/lib/python3.6/site-packages (from gitdb>=4.0.1->gitdb2>=3->GitPython>=1.0.0->wandb) (3.0.1)\n",
      "\u001b[33mYou are using pip version 10.0.1, however version 20.0.2 is available.\n",
      "You should consider upgrading via the 'pip install --upgrade pip' command.\u001b[0m\n",
      "Requirement already up-to-date: numpy in /home/ec2-user/anaconda3/envs/amazonei_tensorflow_p36/lib/python3.6/site-packages (1.18.1)\n",
      "\u001b[33mYou are using pip version 10.0.1, however version 20.0.2 is available.\n",
      "You should consider upgrading via the 'pip install --upgrade pip' command.\u001b[0m\n"
     ]
    }
   ],
   "source": [
    "!pip install --user wandb\n",
    "!pip install --upgrade numpy\n"
   ]
  },
  {
   "cell_type": "code",
   "execution_count": 1,
   "metadata": {},
   "outputs": [],
   "source": [
    "import warnings\n",
    "warnings.filterwarnings('ignore', category = FutureWarning)\n",
    "\n",
    "import matplotlib.pyplot as plt\n",
    "from tensorflow.keras.layers import Input, Dense\n",
    "from tensorflow.keras.models import Model\n",
    "# import wandb\n",
    "# from wandb.keras import WandbCallback"
   ]
  },
  {
   "cell_type": "code",
   "execution_count": 3,
   "metadata": {},
   "outputs": [
    {
     "name": "stdout",
     "output_type": "stream",
     "text": [
      "WARNING:tensorflow:From /home/ec2-user/anaconda3/envs/amazonei_tensorflow_p36/lib/python3.6/site-packages/tensorflow/python/ops/init_ops.py:1251: calling VarianceScaling.__init__ (from tensorflow.python.ops.init_ops) with dtype is deprecated and will be removed in a future version.\n",
      "Instructions for updating:\n",
      "Call initializer instance with the dtype argument instead of passing it to the constructor\n"
     ]
    }
   ],
   "source": [
    "# this is the size of our encoded representations\n",
    "encoding_dim = 32  # 32 floats -> compression of factor 24.5, assuming the input is 784 floats\n",
    "\n",
    "# this is our input placeholder\n",
    "input_img = Input(shape=(784,))\n",
    "\n",
    "# \"encoded\" is the encoded representation of the input\n",
    "encoded = Dense(encoding_dim, activation = 'sigmoid')(input_img)\n",
    "\n",
    "# \"decoded\" is the lossy reconstruction of the input\n",
    "decoded = Dense(784, activation = 'sigmoid')(encoded)\n",
    "\n",
    "# this model maps an input to its reconstruction\n",
    "autoencoder = Model(input_img, decoded)"
   ]
  },
  {
   "cell_type": "code",
   "execution_count": 4,
   "metadata": {},
   "outputs": [],
   "source": [
    "# this model maps an input to its encoded representation\n",
    "encoder = Model(input_img, encoded)"
   ]
  },
  {
   "cell_type": "code",
   "execution_count": 5,
   "metadata": {},
   "outputs": [],
   "source": [
    "# create a placeholder for an encoded (32-dimensional) input\n",
    "\n",
    "# retrieve the last layer of the autoencoder model\n",
    "\n",
    "# create the decoder model\n"
   ]
  },
  {
   "cell_type": "code",
   "execution_count": 6,
   "metadata": {},
   "outputs": [
    {
     "name": "stdout",
     "output_type": "stream",
     "text": [
      "WARNING:tensorflow:From /home/ec2-user/anaconda3/envs/amazonei_tensorflow_p36/lib/python3.6/site-packages/tensorflow/python/ops/nn_impl.py:180: add_dispatch_support.<locals>.wrapper (from tensorflow.python.ops.array_ops) is deprecated and will be removed in a future version.\n",
      "Instructions for updating:\n",
      "Use tf.where in 2.0, which has the same broadcast rule as np.where\n"
     ]
    }
   ],
   "source": [
    "autoencoder.compile(optimizer='adadelta', loss='binary_crossentropy')"
   ]
  },
  {
   "cell_type": "code",
   "execution_count": 7,
   "metadata": {},
   "outputs": [],
   "source": [
    "from tensorflow.keras.datasets import mnist\n",
    "import numpy as np\n",
    "\n",
    "(X_train, _), (X_test, _) = mnist.load_data()"
   ]
  },
  {
   "cell_type": "code",
   "execution_count": 8,
   "metadata": {},
   "outputs": [
    {
     "name": "stdout",
     "output_type": "stream",
     "text": [
      "(60000, 784)\n",
      "(10000, 784)\n"
     ]
    }
   ],
   "source": [
    "X_train = X_train.astype('float32') / 255.\n",
    "X_test = X_test.astype('float32') / 255.\n",
    "X_train = X_train.reshape((len(X_train), np.prod(X_train.shape[1:])))\n",
    "X_test = X_test.reshape((len(X_test), np.prod(X_test.shape[1:])))\n",
    "print(X_train.shape)\n",
    "print(X_test.shape)"
   ]
  },
  {
   "cell_type": "code",
   "execution_count": 10,
   "metadata": {},
   "outputs": [
    {
     "name": "stdout",
     "output_type": "stream",
     "text": [
      "Train on 60000 samples, validate on 10000 samples\n",
      "Epoch 1/100\n",
      "60000/60000 [==============================] - 2s 39us/sample - loss: 0.6954 - val_loss: 0.6951\n",
      "Epoch 2/100\n",
      "60000/60000 [==============================] - 2s 38us/sample - loss: 0.6949 - val_loss: 0.6947\n",
      "Epoch 3/100\n",
      "60000/60000 [==============================] - 2s 38us/sample - loss: 0.6944 - val_loss: 0.6942\n",
      "Epoch 4/100\n",
      "60000/60000 [==============================] - 2s 38us/sample - loss: 0.6940 - val_loss: 0.6938\n",
      "Epoch 5/100\n",
      "60000/60000 [==============================] - 2s 39us/sample - loss: 0.6935 - val_loss: 0.6933\n",
      "Epoch 6/100\n",
      "60000/60000 [==============================] - 2s 37us/sample - loss: 0.6931 - val_loss: 0.6929\n",
      "Epoch 7/100\n",
      "60000/60000 [==============================] - 2s 38us/sample - loss: 0.6926 - val_loss: 0.6924\n",
      "Epoch 8/100\n",
      "60000/60000 [==============================] - 2s 37us/sample - loss: 0.6922 - val_loss: 0.6919\n",
      "Epoch 9/100\n",
      "60000/60000 [==============================] - 2s 38us/sample - loss: 0.6917 - val_loss: 0.6915\n",
      "Epoch 10/100\n",
      "60000/60000 [==============================] - 2s 39us/sample - loss: 0.6913 - val_loss: 0.6910\n",
      "Epoch 11/100\n",
      "60000/60000 [==============================] - 2s 39us/sample - loss: 0.6908 - val_loss: 0.6906\n",
      "Epoch 12/100\n",
      "60000/60000 [==============================] - 2s 39us/sample - loss: 0.6903 - val_loss: 0.6901\n",
      "Epoch 13/100\n",
      "60000/60000 [==============================] - 2s 38us/sample - loss: 0.6899 - val_loss: 0.6897\n",
      "Epoch 14/100\n",
      "60000/60000 [==============================] - 2s 38us/sample - loss: 0.6894 - val_loss: 0.6892\n",
      "Epoch 15/100\n",
      "60000/60000 [==============================] - 2s 38us/sample - loss: 0.6890 - val_loss: 0.6888\n",
      "Epoch 16/100\n",
      "60000/60000 [==============================] - 2s 38us/sample - loss: 0.6885 - val_loss: 0.6883\n",
      "Epoch 17/100\n",
      "60000/60000 [==============================] - 2s 38us/sample - loss: 0.6881 - val_loss: 0.6879\n",
      "Epoch 18/100\n",
      "60000/60000 [==============================] - 2s 38us/sample - loss: 0.6876 - val_loss: 0.6874\n",
      "Epoch 19/100\n",
      "60000/60000 [==============================] - 2s 38us/sample - loss: 0.6872 - val_loss: 0.6870\n",
      "Epoch 20/100\n",
      "60000/60000 [==============================] - 2s 37us/sample - loss: 0.6868 - val_loss: 0.6865\n",
      "Epoch 21/100\n",
      "60000/60000 [==============================] - 2s 38us/sample - loss: 0.6863 - val_loss: 0.6861\n",
      "Epoch 22/100\n",
      "60000/60000 [==============================] - 2s 38us/sample - loss: 0.6859 - val_loss: 0.6857\n",
      "Epoch 23/100\n",
      "60000/60000 [==============================] - 2s 38us/sample - loss: 0.6854 - val_loss: 0.6852\n",
      "Epoch 24/100\n",
      "60000/60000 [==============================] - 2s 37us/sample - loss: 0.6850 - val_loss: 0.6848\n",
      "Epoch 25/100\n",
      "60000/60000 [==============================] - 2s 38us/sample - loss: 0.6845 - val_loss: 0.6843\n",
      "Epoch 26/100\n",
      "60000/60000 [==============================] - 2s 38us/sample - loss: 0.6841 - val_loss: 0.6839\n",
      "Epoch 27/100\n",
      "60000/60000 [==============================] - 2s 38us/sample - loss: 0.6836 - val_loss: 0.6834\n",
      "Epoch 28/100\n",
      "60000/60000 [==============================] - 2s 37us/sample - loss: 0.6832 - val_loss: 0.6830\n",
      "Epoch 29/100\n",
      "60000/60000 [==============================] - 2s 38us/sample - loss: 0.6827 - val_loss: 0.6825\n",
      "Epoch 30/100\n",
      "60000/60000 [==============================] - 2s 38us/sample - loss: 0.6823 - val_loss: 0.6821\n",
      "Epoch 31/100\n",
      "60000/60000 [==============================] - 2s 38us/sample - loss: 0.6818 - val_loss: 0.6816\n",
      "Epoch 32/100\n",
      "60000/60000 [==============================] - 2s 38us/sample - loss: 0.6814 - val_loss: 0.6812\n",
      "Epoch 33/100\n",
      "60000/60000 [==============================] - 2s 38us/sample - loss: 0.6810 - val_loss: 0.6808\n",
      "Epoch 34/100\n",
      "60000/60000 [==============================] - 2s 38us/sample - loss: 0.6805 - val_loss: 0.6803\n",
      "Epoch 35/100\n",
      "60000/60000 [==============================] - 2s 38us/sample - loss: 0.6801 - val_loss: 0.6799\n",
      "Epoch 36/100\n",
      "60000/60000 [==============================] - 2s 39us/sample - loss: 0.6796 - val_loss: 0.6794\n",
      "Epoch 37/100\n",
      "60000/60000 [==============================] - 2s 38us/sample - loss: 0.6792 - val_loss: 0.6790\n",
      "Epoch 38/100\n",
      "60000/60000 [==============================] - 2s 38us/sample - loss: 0.6787 - val_loss: 0.6785\n",
      "Epoch 39/100\n",
      "60000/60000 [==============================] - 2s 38us/sample - loss: 0.6783 - val_loss: 0.6781\n",
      "Epoch 40/100\n",
      "60000/60000 [==============================] - 3s 48us/sample - loss: 0.6778 - val_loss: 0.6776\n",
      "Epoch 41/100\n",
      "60000/60000 [==============================] - 3s 54us/sample - loss: 0.6774 - val_loss: 0.6772\n",
      "Epoch 42/100\n",
      "60000/60000 [==============================] - 2s 38us/sample - loss: 0.6769 - val_loss: 0.6767\n",
      "Epoch 43/100\n",
      "60000/60000 [==============================] - 2s 38us/sample - loss: 0.6765 - val_loss: 0.6763\n",
      "Epoch 44/100\n",
      "60000/60000 [==============================] - 2s 38us/sample - loss: 0.6760 - val_loss: 0.6758\n",
      "Epoch 45/100\n",
      "60000/60000 [==============================] - 2s 38us/sample - loss: 0.6756 - val_loss: 0.6754\n",
      "Epoch 46/100\n",
      "60000/60000 [==============================] - 2s 38us/sample - loss: 0.6752 - val_loss: 0.6749\n",
      "Epoch 47/100\n",
      "60000/60000 [==============================] - 2s 38us/sample - loss: 0.6747 - val_loss: 0.6745\n",
      "Epoch 48/100\n",
      "60000/60000 [==============================] - 2s 38us/sample - loss: 0.6743 - val_loss: 0.6740\n",
      "Epoch 49/100\n",
      "60000/60000 [==============================] - 2s 38us/sample - loss: 0.6738 - val_loss: 0.6736\n",
      "Epoch 50/100\n",
      "60000/60000 [==============================] - 2s 38us/sample - loss: 0.6734 - val_loss: 0.6731\n",
      "Epoch 51/100\n",
      "60000/60000 [==============================] - 2s 38us/sample - loss: 0.6729 - val_loss: 0.6727\n",
      "Epoch 52/100\n",
      "60000/60000 [==============================] - 2s 38us/sample - loss: 0.6724 - val_loss: 0.6722\n",
      "Epoch 53/100\n",
      "60000/60000 [==============================] - 2s 37us/sample - loss: 0.6720 - val_loss: 0.6718\n",
      "Epoch 54/100\n",
      "60000/60000 [==============================] - 2s 38us/sample - loss: 0.6715 - val_loss: 0.6713\n",
      "Epoch 55/100\n",
      "60000/60000 [==============================] - 2s 38us/sample - loss: 0.6711 - val_loss: 0.6709\n",
      "Epoch 56/100\n",
      "60000/60000 [==============================] - 2s 37us/sample - loss: 0.6706 - val_loss: 0.6704\n",
      "Epoch 57/100\n",
      "60000/60000 [==============================] - 2s 38us/sample - loss: 0.6702 - val_loss: 0.6700\n",
      "Epoch 58/100\n",
      "60000/60000 [==============================] - 2s 38us/sample - loss: 0.6697 - val_loss: 0.6695\n",
      "Epoch 59/100\n",
      "60000/60000 [==============================] - 2s 38us/sample - loss: 0.6693 - val_loss: 0.6691\n",
      "Epoch 60/100\n",
      "60000/60000 [==============================] - 2s 38us/sample - loss: 0.6688 - val_loss: 0.6686\n",
      "Epoch 61/100\n",
      "60000/60000 [==============================] - 2s 38us/sample - loss: 0.6684 - val_loss: 0.6681\n",
      "Epoch 62/100\n",
      "60000/60000 [==============================] - 2s 38us/sample - loss: 0.6679 - val_loss: 0.6677\n",
      "Epoch 63/100\n",
      "60000/60000 [==============================] - 2s 38us/sample - loss: 0.6674 - val_loss: 0.6672\n",
      "Epoch 64/100\n",
      "60000/60000 [==============================] - 2s 38us/sample - loss: 0.6670 - val_loss: 0.6668\n",
      "Epoch 65/100\n",
      "60000/60000 [==============================] - 2s 38us/sample - loss: 0.6665 - val_loss: 0.6663\n",
      "Epoch 66/100\n",
      "60000/60000 [==============================] - 2s 38us/sample - loss: 0.6660 - val_loss: 0.6658\n",
      "Epoch 67/100\n",
      "60000/60000 [==============================] - 2s 38us/sample - loss: 0.6656 - val_loss: 0.6654\n",
      "Epoch 68/100\n",
      "60000/60000 [==============================] - 2s 37us/sample - loss: 0.6651 - val_loss: 0.6649\n",
      "Epoch 69/100\n",
      "60000/60000 [==============================] - 2s 38us/sample - loss: 0.6647 - val_loss: 0.6644\n",
      "Epoch 70/100\n",
      "60000/60000 [==============================] - 2s 38us/sample - loss: 0.6642 - val_loss: 0.6640\n",
      "Epoch 71/100\n",
      "60000/60000 [==============================] - 2s 39us/sample - loss: 0.6637 - val_loss: 0.6635\n",
      "Epoch 72/100\n",
      "60000/60000 [==============================] - 2s 38us/sample - loss: 0.6632 - val_loss: 0.6630\n",
      "Epoch 73/100\n",
      "60000/60000 [==============================] - 2s 39us/sample - loss: 0.6628 - val_loss: 0.6625\n",
      "Epoch 74/100\n",
      "60000/60000 [==============================] - 2s 38us/sample - loss: 0.6623 - val_loss: 0.6621\n",
      "Epoch 75/100\n",
      "60000/60000 [==============================] - 2s 38us/sample - loss: 0.6618 - val_loss: 0.6616\n",
      "Epoch 76/100\n",
      "60000/60000 [==============================] - 2s 38us/sample - loss: 0.6614 - val_loss: 0.6611\n",
      "Epoch 77/100\n",
      "60000/60000 [==============================] - 2s 39us/sample - loss: 0.6609 - val_loss: 0.6607\n",
      "Epoch 78/100\n",
      "60000/60000 [==============================] - 2s 38us/sample - loss: 0.6604 - val_loss: 0.6602\n",
      "Epoch 79/100\n",
      "60000/60000 [==============================] - 2s 38us/sample - loss: 0.6599 - val_loss: 0.6597\n",
      "Epoch 80/100\n",
      "60000/60000 [==============================] - 2s 38us/sample - loss: 0.6595 - val_loss: 0.6592\n",
      "Epoch 81/100\n",
      "60000/60000 [==============================] - 2s 37us/sample - loss: 0.6590 - val_loss: 0.6587\n",
      "Epoch 82/100\n",
      "60000/60000 [==============================] - 2s 37us/sample - loss: 0.6585 - val_loss: 0.6582\n",
      "Epoch 83/100\n",
      "60000/60000 [==============================] - 2s 37us/sample - loss: 0.6580 - val_loss: 0.6578\n",
      "Epoch 84/100\n",
      "60000/60000 [==============================] - 2s 37us/sample - loss: 0.6575 - val_loss: 0.6573\n",
      "Epoch 85/100\n",
      "60000/60000 [==============================] - 2s 37us/sample - loss: 0.6570 - val_loss: 0.6568\n",
      "Epoch 86/100\n",
      "60000/60000 [==============================] - 2s 36us/sample - loss: 0.6566 - val_loss: 0.6563\n",
      "Epoch 87/100\n",
      "60000/60000 [==============================] - 2s 37us/sample - loss: 0.6561 - val_loss: 0.6558\n",
      "Epoch 88/100\n",
      "60000/60000 [==============================] - 2s 38us/sample - loss: 0.6556 - val_loss: 0.6553\n",
      "Epoch 89/100\n",
      "60000/60000 [==============================] - 2s 38us/sample - loss: 0.6551 - val_loss: 0.6548\n",
      "Epoch 90/100\n",
      "60000/60000 [==============================] - 2s 38us/sample - loss: 0.6546 - val_loss: 0.6543\n",
      "Epoch 91/100\n",
      "60000/60000 [==============================] - 2s 38us/sample - loss: 0.6541 - val_loss: 0.6538\n",
      "Epoch 92/100\n",
      "60000/60000 [==============================] - 2s 37us/sample - loss: 0.6536 - val_loss: 0.6533\n",
      "Epoch 93/100\n",
      "60000/60000 [==============================] - 2s 37us/sample - loss: 0.6531 - val_loss: 0.6528\n",
      "Epoch 94/100\n",
      "60000/60000 [==============================] - 2s 37us/sample - loss: 0.6526 - val_loss: 0.6523\n",
      "Epoch 95/100\n",
      "60000/60000 [==============================] - 2s 37us/sample - loss: 0.6521 - val_loss: 0.6518\n",
      "Epoch 96/100\n",
      "60000/60000 [==============================] - 2s 37us/sample - loss: 0.6516 - val_loss: 0.6513\n",
      "Epoch 97/100\n",
      "60000/60000 [==============================] - 2s 37us/sample - loss: 0.6511 - val_loss: 0.6508\n",
      "Epoch 98/100\n",
      "60000/60000 [==============================] - 2s 37us/sample - loss: 0.6506 - val_loss: 0.6503\n",
      "Epoch 99/100\n",
      "60000/60000 [==============================] - 2s 37us/sample - loss: 0.6501 - val_loss: 0.6498\n",
      "Epoch 100/100\n",
      "60000/60000 [==============================] - 2s 37us/sample - loss: 0.6496 - val_loss: 0.6493\n"
     ]
    },
    {
     "data": {
      "text/plain": [
       "<tensorflow.python.keras.callbacks.History at 0x7f28fc3910b8>"
      ]
     },
     "execution_count": 10,
     "metadata": {},
     "output_type": "execute_result"
    }
   ],
   "source": [
    "# wandb.init(project=\"mnist_autoencoder\", entity=\"ds5\")\n",
    "\n",
    "autoencoder.fit(X_train, X_train,\n",
    "                epochs=100,\n",
    "                batch_size=256,\n",
    "                shuffle = True,\n",
    "                validation_data=(X_test, X_test),\n",
    "                verbose = True)"
   ]
  },
  {
   "cell_type": "code",
   "execution_count": 11,
   "metadata": {},
   "outputs": [],
   "source": [
    "# encode and decode some digits\n",
    "# note that we take them from the *test* set\n",
    "decoded_imgs = autoencoder.predict(X_test)"
   ]
  },
  {
   "cell_type": "code",
   "execution_count": 13,
   "metadata": {},
   "outputs": [
    {
     "data": {
      "image/png": "[encoded data removed]",
      "text/plain": [
       "<Figure size 1440x288 with 20 Axes>"
      ]
     },
     "metadata": {},
     "output_type": "display_data"
    }
   ],
   "source": [
    "# use Matplotlib (don't ask)\n",
    "import matplotlib.pyplot as plt\n",
    "\n",
    "n = 10  # how many digits we will display\n",
    "plt.figure(figsize=(20, 4))\n",
    "for i in range(n):\n",
    "    # display original\n",
    "    ax = plt.subplot(2, n, i + 1)\n",
    "    plt.imshow(X_test[i].reshape(28, 28))\n",
    "    plt.gray()\n",
    "    ax.get_xaxis().set_visible(False)\n",
    "    ax.get_yaxis().set_visible(False)\n",
    "\n",
    "    # display reconstruction\n",
    "    ax = plt.subplot(2, n, i + 1 + n)\n",
    "    plt.imshow(decoded_imgs[i].reshape(28, 28))\n",
    "    plt.gray()\n",
    "    ax.get_xaxis().set_visible(False)\n",
    "    ax.get_yaxis().set_visible(False)\n",
    "plt.show()"
   ]
  },
  {
   "cell_type": "markdown",
   "metadata": {},
   "source": [
    "## Challenge\n",
    "\n",
    "Expected to talk about the components of autoencoder and their purpose. "
   ]
  },
  {
   "cell_type": "markdown",
   "metadata": {},
   "source": [
    "# Train an Autoencoder (Learn)\n",
    "<a id=\"p2\"></a>"
   ]
  },
  {
   "cell_type": "markdown",
   "metadata": {},
   "source": [
    "## Overview\n",
    "\n",
    "As long as our architecture maintains an hourglass shape, we can continue to add layers and create a deeper network. "
   ]
  },
  {
   "cell_type": "markdown",
   "metadata": {
    "toc-hr-collapsed": true
   },
   "source": [
    "## Follow Along"
   ]
  },
  {
   "cell_type": "markdown",
   "metadata": {},
   "source": [
    "### Deep Autoencoder"
   ]
  },
  {
   "cell_type": "code",
   "execution_count": 24,
   "metadata": {},
   "outputs": [],
   "source": [
    "input_img_deep = Input(shape=(784,))\n",
    "\n",
    "encoded_deep = Dense(128, activation = 'relu')(input_img_deep)\n",
    "encoded_deep = Dense(64, activation = 'relu')(encoded_deep)\n",
    "encoded_deep = Dense(32, activation = 'relu')(encoded_deep)\n",
    "\n",
    "decoded_deep = Dense(64, activation = 'relu')(encoded_deep)\n",
    "decoded_deep = Dense(128, activation = 'relu')(decoded_deep)\n",
    "\n",
    "decoded_deep = Dense(784, activation = 'sigmoid')(decoded_deep)"
   ]
  },
  {
   "cell_type": "code",
   "execution_count": 25,
   "metadata": {},
   "outputs": [
    {
     "name": "stdout",
     "output_type": "stream",
     "text": [
      "Train on 60000 samples, validate on 10000 samples\n",
      "Epoch 1/100\n",
      "60000/60000 [==============================] - 3s 51us/sample - loss: 0.3418 - val_loss: 0.2417\n",
      "Epoch 2/100\n",
      "60000/60000 [==============================] - 3s 43us/sample - loss: 0.2126 - val_loss: 0.1836\n",
      "Epoch 3/100\n",
      "60000/60000 [==============================] - 3s 42us/sample - loss: 0.1716 - val_loss: 0.1585\n",
      "Epoch 4/100\n",
      "60000/60000 [==============================] - 2s 41us/sample - loss: 0.1522 - val_loss: 0.1448\n",
      "Epoch 5/100\n",
      "60000/60000 [==============================] - 2s 41us/sample - loss: 0.1415 - val_loss: 0.1360\n",
      "Epoch 6/100\n",
      "60000/60000 [==============================] - 2s 40us/sample - loss: 0.1342 - val_loss: 0.1298\n",
      "Epoch 7/100\n",
      "60000/60000 [==============================] - 2s 40us/sample - loss: 0.1288 - val_loss: 0.1247\n",
      "Epoch 8/100\n",
      "60000/60000 [==============================] - 2s 40us/sample - loss: 0.1241 - val_loss: 0.1203\n",
      "Epoch 9/100\n",
      "60000/60000 [==============================] - 3s 43us/sample - loss: 0.1201 - val_loss: 0.1166\n",
      "Epoch 10/100\n",
      "60000/60000 [==============================] - 4s 64us/sample - loss: 0.1168 - val_loss: 0.1138\n",
      "Epoch 11/100\n",
      "60000/60000 [==============================] - 4s 63us/sample - loss: 0.1141 - val_loss: 0.1116\n",
      "Epoch 12/100\n",
      "60000/60000 [==============================] - 2s 40us/sample - loss: 0.1122 - val_loss: 0.1099\n",
      "Epoch 13/100\n",
      "60000/60000 [==============================] - 2s 40us/sample - loss: 0.1104 - val_loss: 0.1084\n",
      "Epoch 14/100\n",
      "60000/60000 [==============================] - 2s 40us/sample - loss: 0.1088 - val_loss: 0.1068\n",
      "Epoch 15/100\n",
      "60000/60000 [==============================] - 2s 40us/sample - loss: 0.1076 - val_loss: 0.1057\n",
      "Epoch 16/100\n",
      "60000/60000 [==============================] - 2s 40us/sample - loss: 0.1062 - val_loss: 0.1047\n",
      "Epoch 17/100\n",
      "60000/60000 [==============================] - 2s 40us/sample - loss: 0.1051 - val_loss: 0.1033\n",
      "Epoch 18/100\n",
      "60000/60000 [==============================] - 2s 40us/sample - loss: 0.1041 - val_loss: 0.1024\n",
      "Epoch 19/100\n",
      "60000/60000 [==============================] - 2s 40us/sample - loss: 0.1031 - val_loss: 0.1017\n",
      "Epoch 20/100\n",
      "60000/60000 [==============================] - 2s 40us/sample - loss: 0.1024 - val_loss: 0.1007\n",
      "Epoch 21/100\n",
      "60000/60000 [==============================] - 2s 40us/sample - loss: 0.1015 - val_loss: 0.1004\n",
      "Epoch 22/100\n",
      "60000/60000 [==============================] - 2s 39us/sample - loss: 0.1009 - val_loss: 0.1009\n",
      "Epoch 23/100\n",
      "60000/60000 [==============================] - 2s 40us/sample - loss: 0.1004 - val_loss: 0.0991\n",
      "Epoch 24/100\n",
      "60000/60000 [==============================] - 2s 40us/sample - loss: 0.0998 - val_loss: 0.0986\n",
      "Epoch 25/100\n",
      "60000/60000 [==============================] - 2s 40us/sample - loss: 0.0993 - val_loss: 0.0983\n",
      "Epoch 26/100\n",
      "60000/60000 [==============================] - 2s 40us/sample - loss: 0.0987 - val_loss: 0.0974\n",
      "Epoch 27/100\n",
      "60000/60000 [==============================] - 2s 40us/sample - loss: 0.0981 - val_loss: 0.0967\n",
      "Epoch 28/100\n",
      "60000/60000 [==============================] - 2s 40us/sample - loss: 0.0976 - val_loss: 0.0966\n",
      "Epoch 29/100\n",
      "60000/60000 [==============================] - 2s 40us/sample - loss: 0.0971 - val_loss: 0.0960\n",
      "Epoch 30/100\n",
      "60000/60000 [==============================] - 2s 41us/sample - loss: 0.0966 - val_loss: 0.0954\n",
      "Epoch 31/100\n",
      "60000/60000 [==============================] - 2s 40us/sample - loss: 0.0961 - val_loss: 0.0951\n",
      "Epoch 32/100\n",
      "60000/60000 [==============================] - 2s 41us/sample - loss: 0.0956 - val_loss: 0.0946\n",
      "Epoch 33/100\n",
      "60000/60000 [==============================] - 2s 41us/sample - loss: 0.0952 - val_loss: 0.0941\n",
      "Epoch 34/100\n",
      "60000/60000 [==============================] - 2s 41us/sample - loss: 0.0948 - val_loss: 0.0943\n",
      "Epoch 35/100\n",
      "60000/60000 [==============================] - 2s 41us/sample - loss: 0.0945 - val_loss: 0.0938\n",
      "Epoch 36/100\n",
      "60000/60000 [==============================] - 2s 40us/sample - loss: 0.0941 - val_loss: 0.0929\n",
      "Epoch 37/100\n",
      "60000/60000 [==============================] - 2s 39us/sample - loss: 0.0936 - val_loss: 0.0927\n",
      "Epoch 38/100\n",
      "60000/60000 [==============================] - 2s 39us/sample - loss: 0.0933 - val_loss: 0.0926\n",
      "Epoch 39/100\n",
      "60000/60000 [==============================] - 2s 40us/sample - loss: 0.0930 - val_loss: 0.0920\n",
      "Epoch 40/100\n",
      "60000/60000 [==============================] - 2s 39us/sample - loss: 0.0928 - val_loss: 0.0917\n",
      "Epoch 41/100\n",
      "60000/60000 [==============================] - 2s 39us/sample - loss: 0.0924 - val_loss: 0.0914\n",
      "Epoch 42/100\n",
      "60000/60000 [==============================] - 2s 39us/sample - loss: 0.0922 - val_loss: 0.0912\n",
      "Epoch 43/100\n",
      "60000/60000 [==============================] - 2s 39us/sample - loss: 0.0918 - val_loss: 0.0909\n",
      "Epoch 44/100\n",
      "60000/60000 [==============================] - 2s 40us/sample - loss: 0.0914 - val_loss: 0.0906\n",
      "Epoch 45/100\n",
      "60000/60000 [==============================] - 2s 39us/sample - loss: 0.0914 - val_loss: 0.0907\n",
      "Epoch 46/100\n",
      "60000/60000 [==============================] - 2s 40us/sample - loss: 0.0910 - val_loss: 0.0903\n",
      "Epoch 47/100\n",
      "60000/60000 [==============================] - 2s 40us/sample - loss: 0.0907 - val_loss: 0.0899\n",
      "Epoch 48/100\n",
      "60000/60000 [==============================] - 2s 40us/sample - loss: 0.0906 - val_loss: 0.0907\n",
      "Epoch 49/100\n",
      "60000/60000 [==============================] - 2s 40us/sample - loss: 0.0904 - val_loss: 0.0896\n",
      "Epoch 50/100\n",
      "60000/60000 [==============================] - 2s 40us/sample - loss: 0.0900 - val_loss: 0.0895\n",
      "Epoch 51/100\n",
      "60000/60000 [==============================] - 2s 40us/sample - loss: 0.0900 - val_loss: 0.0890\n",
      "Epoch 52/100\n",
      "60000/60000 [==============================] - 2s 40us/sample - loss: 0.0896 - val_loss: 0.0889\n",
      "Epoch 53/100\n",
      "60000/60000 [==============================] - 2s 40us/sample - loss: 0.0894 - val_loss: 0.0887\n",
      "Epoch 54/100\n",
      "60000/60000 [==============================] - 2s 39us/sample - loss: 0.0893 - val_loss: 0.0885\n",
      "Epoch 55/100\n",
      "60000/60000 [==============================] - 2s 39us/sample - loss: 0.0891 - val_loss: 0.0886\n",
      "Epoch 56/100\n",
      "60000/60000 [==============================] - 2s 39us/sample - loss: 0.0890 - val_loss: 0.0882\n",
      "Epoch 57/100\n",
      "60000/60000 [==============================] - 2s 39us/sample - loss: 0.0888 - val_loss: 0.0881\n",
      "Epoch 58/100\n",
      "60000/60000 [==============================] - 2s 39us/sample - loss: 0.0887 - val_loss: 0.0879\n",
      "Epoch 59/100\n",
      "60000/60000 [==============================] - 2s 40us/sample - loss: 0.0884 - val_loss: 0.0877\n",
      "Epoch 60/100\n",
      "60000/60000 [==============================] - 2s 40us/sample - loss: 0.0883 - val_loss: 0.0878\n",
      "Epoch 61/100\n",
      "60000/60000 [==============================] - 2s 40us/sample - loss: 0.0882 - val_loss: 0.0875\n",
      "Epoch 62/100\n",
      "60000/60000 [==============================] - 2s 40us/sample - loss: 0.0880 - val_loss: 0.0874\n",
      "Epoch 63/100\n",
      "60000/60000 [==============================] - 2s 40us/sample - loss: 0.0879 - val_loss: 0.0873\n",
      "Epoch 64/100\n",
      "60000/60000 [==============================] - 2s 39us/sample - loss: 0.0878 - val_loss: 0.0873\n",
      "Epoch 65/100\n",
      "60000/60000 [==============================] - 2s 40us/sample - loss: 0.0877 - val_loss: 0.0869\n",
      "Epoch 66/100\n",
      "60000/60000 [==============================] - 2s 39us/sample - loss: 0.0875 - val_loss: 0.0868\n",
      "Epoch 67/100\n",
      "60000/60000 [==============================] - 2s 39us/sample - loss: 0.0874 - val_loss: 0.0868\n",
      "Epoch 68/100\n",
      "60000/60000 [==============================] - 2s 39us/sample - loss: 0.0873 - val_loss: 0.0866\n",
      "Epoch 69/100\n",
      "60000/60000 [==============================] - 2s 39us/sample - loss: 0.0871 - val_loss: 0.0865\n",
      "Epoch 70/100\n",
      "60000/60000 [==============================] - 2s 39us/sample - loss: 0.0870 - val_loss: 0.0865\n",
      "Epoch 71/100\n",
      "60000/60000 [==============================] - 2s 39us/sample - loss: 0.0870 - val_loss: 0.0862\n",
      "Epoch 72/100\n",
      "60000/60000 [==============================] - 2s 39us/sample - loss: 0.0867 - val_loss: 0.0863\n",
      "Epoch 73/100\n",
      "60000/60000 [==============================] - 2s 39us/sample - loss: 0.0867 - val_loss: 0.0863\n",
      "Epoch 74/100\n",
      "60000/60000 [==============================] - 2s 40us/sample - loss: 0.0866 - val_loss: 0.0861\n",
      "Epoch 75/100\n",
      "60000/60000 [==============================] - 2s 40us/sample - loss: 0.0865 - val_loss: 0.0865\n",
      "Epoch 76/100\n",
      "60000/60000 [==============================] - 2s 39us/sample - loss: 0.0864 - val_loss: 0.0859\n",
      "Epoch 77/100\n",
      "60000/60000 [==============================] - 2s 40us/sample - loss: 0.0862 - val_loss: 0.0857\n",
      "Epoch 78/100\n",
      "60000/60000 [==============================] - 2s 39us/sample - loss: 0.0861 - val_loss: 0.0856\n",
      "Epoch 79/100\n",
      "60000/60000 [==============================] - 2s 40us/sample - loss: 0.0860 - val_loss: 0.0855\n",
      "Epoch 80/100\n",
      "60000/60000 [==============================] - 2s 40us/sample - loss: 0.0860 - val_loss: 0.0854\n",
      "Epoch 81/100\n",
      "60000/60000 [==============================] - 2s 40us/sample - loss: 0.0858 - val_loss: 0.0853\n",
      "Epoch 82/100\n",
      "60000/60000 [==============================] - 2s 40us/sample - loss: 0.0857 - val_loss: 0.0852\n",
      "Epoch 83/100\n",
      "60000/60000 [==============================] - 2s 39us/sample - loss: 0.0856 - val_loss: 0.0851\n",
      "Epoch 84/100\n",
      "60000/60000 [==============================] - 4s 60us/sample - loss: 0.0855 - val_loss: 0.0849\n",
      "Epoch 85/100\n",
      "60000/60000 [==============================] - 3s 46us/sample - loss: 0.0854 - val_loss: 0.0849\n",
      "Epoch 86/100\n",
      "60000/60000 [==============================] - 2s 39us/sample - loss: 0.0853 - val_loss: 0.0848\n",
      "Epoch 87/100\n",
      "60000/60000 [==============================] - 2s 39us/sample - loss: 0.0852 - val_loss: 0.0846\n",
      "Epoch 88/100\n",
      "60000/60000 [==============================] - 2s 39us/sample - loss: 0.0851 - val_loss: 0.0846\n",
      "Epoch 89/100\n",
      "60000/60000 [==============================] - 2s 39us/sample - loss: 0.0851 - val_loss: 0.0844\n",
      "Epoch 90/100\n",
      "60000/60000 [==============================] - 2s 39us/sample - loss: 0.0850 - val_loss: 0.0844\n",
      "Epoch 91/100\n",
      "60000/60000 [==============================] - 2s 39us/sample - loss: 0.0848 - val_loss: 0.0843\n",
      "Epoch 92/100\n",
      "60000/60000 [==============================] - 2s 39us/sample - loss: 0.0848 - val_loss: 0.0843\n",
      "Epoch 93/100\n",
      "60000/60000 [==============================] - 2s 39us/sample - loss: 0.0847 - val_loss: 0.0842\n",
      "Epoch 94/100\n",
      "60000/60000 [==============================] - 2s 39us/sample - loss: 0.0846 - val_loss: 0.0841\n",
      "Epoch 95/100\n",
      "60000/60000 [==============================] - 2s 39us/sample - loss: 0.0845 - val_loss: 0.0844\n",
      "Epoch 96/100\n",
      "60000/60000 [==============================] - 2s 39us/sample - loss: 0.0844 - val_loss: 0.0840\n",
      "Epoch 97/100\n",
      "60000/60000 [==============================] - 2s 39us/sample - loss: 0.0844 - val_loss: 0.0838\n",
      "Epoch 98/100\n",
      "60000/60000 [==============================] - 2s 39us/sample - loss: 0.0843 - val_loss: 0.0838\n",
      "Epoch 99/100\n",
      "60000/60000 [==============================] - 2s 40us/sample - loss: 0.0842 - val_loss: 0.0837\n",
      "Epoch 100/100\n",
      "60000/60000 [==============================] - 2s 39us/sample - loss: 0.0841 - val_loss: 0.0837\n"
     ]
    },
    {
     "data": {
      "text/plain": [
       "<tensorflow.python.keras.callbacks.History at 0x7f28ec8561d0>"
      ]
     },
     "execution_count": 25,
     "metadata": {},
     "output_type": "execute_result"
    }
   ],
   "source": [
    "# compile & fit model\n",
    "autoencoder_deep = Model(input_img_deep, decoded_deep)\n",
    "autoencoder_deep.compile(optimizer = 'adam', loss = 'binary_crossentropy')\n",
    "\n",
    "autoencoder_deep.fit(X_train, X_train,\n",
    "               epochs = 100, \n",
    "               batch_size = 784,\n",
    "               shuffle = True,\n",
    "               validation_data = (X_test, X_test),\n",
    "               verbose = True)"
   ]
  },
  {
   "cell_type": "code",
   "execution_count": 26,
   "metadata": {},
   "outputs": [],
   "source": [
    "decoded_imgs_deep = autoencoder_deep.predict(X_test)"
   ]
  },
  {
   "cell_type": "code",
   "execution_count": 27,
   "metadata": {},
   "outputs": [
    {
     "data": {
      "image/png": "[encoded data removed]",
      "text/plain": [
       "<Figure size 1440x288 with 20 Axes>"
      ]
     },
     "metadata": {},
     "output_type": "display_data"
    }
   ],
   "source": [
    "# use Matplotlib (don't ask)\n",
    "import matplotlib.pyplot as plt\n",
    "\n",
    "n = 10  # how many digits we will display\n",
    "plt.figure(figsize=(20, 4))\n",
    "for i in range(n):\n",
    "    # display original\n",
    "    ax = plt.subplot(2, n, i + 1)\n",
    "    plt.imshow(X_test[i].reshape(28, 28))\n",
    "    plt.gray()\n",
    "    ax.get_xaxis().set_visible(False)\n",
    "    ax.get_yaxis().set_visible(False)\n",
    "\n",
    "    # display reconstruction\n",
    "    ax = plt.subplot(2, n, i + 1 + n)\n",
    "    plt.imshow(decoded_imgs_deep[i].reshape(28, 28))\n",
    "    plt.gray()\n",
    "    ax.get_xaxis().set_visible(False)\n",
    "    ax.get_yaxis().set_visible(False)\n",
    "plt.show()"
   ]
  },
  {
   "cell_type": "markdown",
   "metadata": {
    "toc-hr-collapsed": true
   },
   "source": [
    "### Convolutional autoencoder\n",
    "\n",
    "> Since our inputs are images, it makes sense to use convolutional neural networks (convnets) as encoders and decoders. In practical settings, autoencoders applied to images are always convolutional autoencoders --they simply perform much better.\n",
    "\n",
    "> Let's implement one. The encoder will consist in a stack of Conv2D and MaxPooling2D layers (max pooling being used for spatial down-sampling), while the decoder will consist in a stack of Conv2D and UpSampling2D layers."
   ]
  },
  {
   "cell_type": "code",
   "execution_count": 5,
   "metadata": {},
   "outputs": [],
   "source": [
    "from keras.layers import Input, Dense, Conv2D, MaxPooling2D, UpSampling2D\n",
    "from keras.models import Model\n",
    "from keras import backend as K\n",
    "\n",
    "# Create Model \n",
    "input_img = Input(shape = (28,28,1))\n",
    "\n",
    "x = Conv2D(16, (3,3), activation= 'relu', padding = 'same')(input_img)\n",
    "x = MaxPooling2D((2,2), padding = 'same')(x)\n",
    "\n",
    "x = Conv2D(8, (3,3), activation= 'relu', padding = 'same')(x)\n",
    "x = MaxPooling2D((2,2), padding = 'same')(x)\n",
    "\n",
    "x = Conv2D(8, (3,3), activation= 'relu', padding = 'same')(x)\n",
    "encoded = MaxPooling2D((2,2), padding = 'same')(x)\n",
    "\n",
    "#at this point the representation is (4, 4, 8) i.e. 128-dim representation\n",
    "\n",
    "x = Conv2D(8, (3,3), activation= 'relu', padding = 'same')(encoded)\n",
    "x = UpSampling2D((2,2))(x)\n",
    "\n",
    "x = Conv2D(8, (3,3), activation= 'relu', padding = 'same')(x)\n",
    "x = UpSampling2D((2,2))(x)\n",
    "\n",
    "x = Conv2D(16, (3,3), activation= 'relu')(x)\n",
    "x = UpSampling2D((2,2))(x)\n",
    "\n",
    "decoded = Conv2D(1, (3,3), activation = 'sigmoid', padding = 'same')(x)\n",
    "\n",
    "autoencoder = Model(input_img, decoded)\n",
    "autoencoder.compile(optimizer='adam', loss='binary_crossentropy')"
   ]
  },
  {
   "cell_type": "code",
   "execution_count": 6,
   "metadata": {},
   "outputs": [
    {
     "name": "stdout",
     "output_type": "stream",
     "text": [
      "Model: \"model_3\"\n",
      "_________________________________________________________________\n",
      "Layer (type)                 Output Shape              Param #   \n",
      "=================================================================\n",
      "input_3 (InputLayer)         (None, 28, 28, 1)         0         \n",
      "_________________________________________________________________\n",
      "conv2d_15 (Conv2D)           (None, 28, 28, 16)        160       \n",
      "_________________________________________________________________\n",
      "max_pooling2d_7 (MaxPooling2 (None, 14, 14, 16)        0         \n",
      "_________________________________________________________________\n",
      "conv2d_16 (Conv2D)           (None, 14, 14, 8)         1160      \n",
      "_________________________________________________________________\n",
      "max_pooling2d_8 (MaxPooling2 (None, 7, 7, 8)           0         \n",
      "_________________________________________________________________\n",
      "conv2d_17 (Conv2D)           (None, 7, 7, 8)           584       \n",
      "_________________________________________________________________\n",
      "max_pooling2d_9 (MaxPooling2 (None, 4, 4, 8)           0         \n",
      "_________________________________________________________________\n",
      "conv2d_18 (Conv2D)           (None, 4, 4, 8)           584       \n",
      "_________________________________________________________________\n",
      "up_sampling2d_7 (UpSampling2 (None, 8, 8, 8)           0         \n",
      "_________________________________________________________________\n",
      "conv2d_19 (Conv2D)           (None, 8, 8, 8)           584       \n",
      "_________________________________________________________________\n",
      "up_sampling2d_8 (UpSampling2 (None, 16, 16, 8)         0         \n",
      "_________________________________________________________________\n",
      "conv2d_20 (Conv2D)           (None, 14, 14, 16)        1168      \n",
      "_________________________________________________________________\n",
      "up_sampling2d_9 (UpSampling2 (None, 28, 28, 16)        0         \n",
      "_________________________________________________________________\n",
      "conv2d_21 (Conv2D)           (None, 28, 28, 1)         145       \n",
      "=================================================================\n",
      "Total params: 4,385\n",
      "Trainable params: 4,385\n",
      "Non-trainable params: 0\n",
      "_________________________________________________________________\n"
     ]
    }
   ],
   "source": [
    "autoencoder.summary()"
   ]
  },
  {
   "cell_type": "code",
   "execution_count": null,
   "metadata": {},
   "outputs": [],
   "source": []
  },
  {
   "cell_type": "code",
   "execution_count": 7,
   "metadata": {},
   "outputs": [],
   "source": [
    "from keras.datasets import mnist\n",
    "import numpy as np\n",
    "\n",
    "(x_train, _), (x_test, _) = mnist.load_data()\n",
    "\n",
    "x_train = x_train.astype('float32') / 255.\n",
    "x_test = x_test.astype('float32') / 255.\n",
    "x_train = np.reshape(x_train, (len(x_train), 28, 28, 1))  # adapt this if using `channels_first` image data format\n",
    "x_test = np.reshape(x_test, (len(x_test), 28, 28, 1))  # adapt this if using `channels_first` image data format"
   ]
  },
  {
   "cell_type": "code",
   "execution_count": null,
   "metadata": {},
   "outputs": [
    {
     "name": "stdout",
     "output_type": "stream",
     "text": [
      "Train on 60000 samples, validate on 10000 samples\n",
      "Epoch 1/20\n",
      "60000/60000 [==============================] - 74s 1ms/step - loss: 0.1997 - val_loss: 0.1650\n",
      "Epoch 2/20\n",
      "60000/60000 [==============================] - 72s 1ms/step - loss: 0.1542 - val_loss: 0.1454\n",
      "Epoch 3/20\n",
      "60000/60000 [==============================] - 72s 1ms/step - loss: 0.1396 - val_loss: 0.1341\n",
      "Epoch 4/20\n",
      "60000/60000 [==============================] - 73s 1ms/step - loss: 0.1311 - val_loss: 0.1268\n",
      "Epoch 5/20\n",
      "60000/60000 [==============================] - 71s 1ms/step - loss: 0.1255 - val_loss: 0.1220\n",
      "Epoch 6/20\n",
      "60000/60000 [==============================] - 73s 1ms/step - loss: 0.1210 - val_loss: 0.1179\n",
      "Epoch 7/20\n",
      "60000/60000 [==============================] - 71s 1ms/step - loss: 0.1173 - val_loss: 0.1148\n",
      "Epoch 8/20\n",
      "60000/60000 [==============================] - 71s 1ms/step - loss: 0.1143 - val_loss: 0.1121\n",
      "Epoch 9/20\n",
      "60000/60000 [==============================] - 74s 1ms/step - loss: 0.1116 - val_loss: 0.1094\n",
      "Epoch 10/20\n",
      "60000/60000 [==============================] - 73s 1ms/step - loss: 0.1095 - val_loss: 0.1078\n",
      "Epoch 11/20\n",
      "60000/60000 [==============================] - 74s 1ms/step - loss: 0.1080 - val_loss: 0.1064\n",
      "Epoch 12/20\n",
      "60000/60000 [==============================] - 72s 1ms/step - loss: 0.1066 - val_loss: 0.1049\n",
      "Epoch 13/20\n",
      "60000/60000 [==============================] - 73s 1ms/step - loss: 0.1055 - val_loss: 0.1040\n",
      "Epoch 14/20\n",
      "60000/60000 [==============================] - 73s 1ms/step - loss: 0.1047 - val_loss: 0.1034\n",
      "Epoch 15/20\n",
      "60000/60000 [==============================] - 71s 1ms/step - loss: 0.1038 - val_loss: 0.1025\n",
      "Epoch 16/20\n",
      "60000/60000 [==============================] - 73s 1ms/step - loss: 0.1032 - val_loss: 0.1021\n",
      "Epoch 17/20\n",
      "14848/60000 [======>.......................] - ETA: 51s - loss: 0.1030"
     ]
    }
   ],
   "source": [
    "# wandb.init(project=\"mnist_autoencoder\", entity=\"ds5\")\n",
    "\n",
    "autoencoder.fit(x_train, x_train,\n",
    "                epochs=20,\n",
    "                batch_size=256,\n",
    "                shuffle=True,\n",
    "                validation_data=(x_test, x_test),\n",
    "                verbose=True)"
   ]
  },
  {
   "cell_type": "code",
   "execution_count": null,
   "metadata": {},
   "outputs": [],
   "source": [
    "decoded_imgs = autoencoder.predict(x_test)\n",
    "\n",
    "n = 10\n",
    "plt.figure(figsize=(20, 4))\n",
    "for i in range(n):\n",
    "    # display original\n",
    "    ax = plt.subplot(2, n, i)\n",
    "    plt.imshow(x_test[i].reshape(28, 28))\n",
    "    plt.gray()\n",
    "    ax.get_xaxis().set_visible(False)\n",
    "    ax.get_yaxis().set_visible(False)\n",
    "\n",
    "    # display reconstruction\n",
    "    ax = plt.subplot(2, n, i + n)\n",
    "    plt.imshow(decoded_imgs[i].reshape(28, 28))\n",
    "    plt.gray()\n",
    "    ax.get_xaxis().set_visible(False)\n",
    "    ax.get_yaxis().set_visible(False)\n",
    "plt.show()"
   ]
  },
  {
   "cell_type": "markdown",
   "metadata": {},
   "source": [
    "#### Visualization of the Representations"
   ]
  },
  {
   "cell_type": "code",
   "execution_count": null,
   "metadata": {},
   "outputs": [],
   "source": [
    "encoder = Model(input_img, encoded)\n",
    "encoder.predict(x_train)\n",
    "\n",
    "n = 10\n",
    "plt.figure(figsize=(20, 8))\n",
    "for i in range(n):\n",
    "    ax = plt.subplot(1, n, i)\n",
    "    plt.imshow(encoded_imgs[i].reshape(4, 4 * 8).T)\n",
    "    plt.gray()\n",
    "    ax.get_xaxis().set_visible(False)\n",
    "    ax.get_yaxis().set_visible(False)\n",
    "plt.show()"
   ]
  },
  {
   "cell_type": "markdown",
   "metadata": {},
   "source": [
    "## Challenge\n",
    "\n",
    "You will train an autoencoder at some point in the near future. "
   ]
  },
  {
   "cell_type": "markdown",
   "metadata": {},
   "source": [
    "# Information Retrieval with Autoencoders (Learn)\n",
    "<a id=\"p3\"></a>"
   ]
  },
  {
   "cell_type": "markdown",
   "metadata": {},
   "source": [
    "## Overview\n",
    "\n",
    "A common usecase for autoencoders is for reverse image search. Let's try to draw an image and see what's most similiar in our dataset. \n",
    "\n",
    "To accomplish this we will need to slice our autoendoer in half to extract our reduced features. :) "
   ]
  },
  {
   "cell_type": "markdown",
   "metadata": {},
   "source": [
    "## Follow Along"
   ]
  },
  {
   "cell_type": "code",
   "execution_count": null,
   "metadata": {},
   "outputs": [],
   "source": [
    "encoder = Model(input_img, encoded)\n",
    "encoded_imgs = encoder.predict(x_train)"
   ]
  },
  {
   "cell_type": "code",
   "execution_count": null,
   "metadata": {},
   "outputs": [],
   "source": [
    "encoded_imgs[0].T"
   ]
  },
  {
   "cell_type": "code",
   "execution_count": null,
   "metadata": {},
   "outputs": [],
   "source": [
    "encoded_imgs[0].reshape((128,))"
   ]
  },
  {
   "cell_type": "code",
   "execution_count": null,
   "metadata": {},
   "outputs": [],
   "source": [
    "from sklearn.neighbors import NearestNeighbors\n",
    "\n",
    "nn = NearestNeighbors(n_neighbors=10, algorithm='ball_tree')\n",
    "nn.fit(encoded_imgs)"
   ]
  },
  {
   "cell_type": "code",
   "execution_count": null,
   "metadata": {},
   "outputs": [],
   "source": [
    "nn.kneighbors(...)"
   ]
  },
  {
   "cell_type": "markdown",
   "metadata": {},
   "source": [
    "## Challenge\n",
    "\n",
    "You should already be familiar with KNN and similarity queries, so the key component of this section is know what to 'slice' from your autoencoder (the encoder) to extract features from your data. "
   ]
  },
  {
   "cell_type": "markdown",
   "metadata": {},
   "source": [
    "# Review\n",
    "\n",
    "* <a href=\"#p1\">Part 1</a>: Describe the componenets of an autoencoder\n",
    "    - Enocder\n",
    "    - Decoder\n",
    "* <a href=\"#p2\">Part 2</a>: Train an autoencoder\n",
    "    - Can do in Keras Easily\n",
    "    - Can use a variety of architectures\n",
    "    - Architectures must follow hourglass shape\n",
    "* <a href=\"#p3\">Part 3</a>: Apply an autoenocder to a basic information retrieval problem\n",
    "    - Extract just the encoder to use for various tasks\n",
    "    - AE ares good for dimensionality reduction, reverse image search, and may more things. \n"
   ]
  },
  {
   "cell_type": "markdown",
   "metadata": {},
   "source": [
    "# Sources\n",
    "\n",
    "__References__\n",
    "- [Building Autoencoders in Keras](https://blog.keras.io/building-autoencoders-in-keras.html)\n",
    "- [Deep Learning Cookbook](http://shop.oreilly.com/product/0636920097471.do)\n",
    "\n",
    "__Additional Material__"
   ]
  }
 ],
 "metadata": {
  "kernelspec": {
   "display_name": "conda_amazonei_tensorflow_p36",
   "language": "python",
   "name": "conda_amazonei_tensorflow_p36"
  },
  "language_info": {
   "codemirror_mode": {
    "name": "ipython",
    "version": 3
   },
   "file_extension": ".py",
   "mimetype": "text/x-python",
   "name": "python",
   "nbconvert_exporter": "python",
   "pygments_lexer": "ipython3",
   "version": "3.6.5"
  }
 },
 "nbformat": 4,
 "nbformat_minor": 4
}
