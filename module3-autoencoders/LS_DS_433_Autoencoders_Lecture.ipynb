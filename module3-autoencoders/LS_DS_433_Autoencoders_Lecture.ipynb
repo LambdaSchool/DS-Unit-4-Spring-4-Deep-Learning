{
  "nbformat": 4,
  "nbformat_minor": 0,
  "metadata": {
    "kernelspec": {
      "display_name": "U4-S2-NN (Python3)",
      "language": "python",
      "name": "u4-sprint2"
    },
    "language_info": {
      "codemirror_mode": {
        "name": "ipython",
        "version": 3
      },
      "file_extension": ".py",
      "mimetype": "text/x-python",
      "name": "python",
      "nbconvert_exporter": "python",
      "pygments_lexer": "ipython3",
      "version": "3.7.0"
    },
    "colab": {
      "name": "LS_DS_433_Autoencoders_Lecture.ipynb",
      "provenance": []
    },
    "accelerator": "GPU"
  },
  "cells": [
    {
      "cell_type": "markdown",
      "metadata": {
        "id": "3VU9jaz8zVhq",
        "colab_type": "text"
      },
      "source": [
        "Lambda School Data Science\n",
        "\n",
        "*Unit 4, Sprint 3, Module 3*\n",
        "\n",
        "---"
      ]
    },
    {
      "cell_type": "markdown",
      "metadata": {
        "id": "_EKnqmsxzVhs",
        "colab_type": "text"
      },
      "source": [
        "# Autoencoders\n",
        "\n",
        "> An autoencoder is a type of artificial neural network used to learn efficient data codings in an unsupervised manner.[1][2] The aim of an autoencoder is to learn a representation (encoding) for a set of data, typically for dimensionality reduction, by training the network to ignore signal “noise”. Along with the reduction side, a reconstructing side is learnt, where the autoencoder tries to generate from the reduced encoding a representation as close as possible to its original input, hence its name. "
      ]
    },
    {
      "cell_type": "markdown",
      "metadata": {
        "id": "U_05-H9JzVhu",
        "colab_type": "text"
      },
      "source": [
        "## Learning Objectives\n",
        "*At the end of the lecture you should be to*:\n",
        "* <a href=\"#p1\">Part 1</a>: Describe the componenets of an autoencoder\n",
        "* <a href=\"#p2\">Part 2</a>: Train an autoencoder\n",
        "* <a href=\"#p3\">Part 3</a>: Apply an autoenocder to a basic information retrieval problem\n",
        "\n",
        "__Problem:__ Is it possible to automatically represent an image as a fixed-sized vector even if it isn’t labeled?\n",
        "\n",
        "__Solution:__ Use an autoencoder\n",
        "\n",
        "Why do we need to represent an image as a fixed-sized vector do you ask? \n",
        "\n",
        "* __Information Retrieval__\n",
        "    - [Reverse Image Search](https://en.wikipedia.org/wiki/Reverse_image_search)\n",
        "    - [Recommendation Systems - Content Based Filtering](https://en.wikipedia.org/wiki/Recommender_system#Content-based_filtering)\n",
        "* __Dimensionality Reduction__\n",
        "    - [Feature Extraction](https://www.kaggle.com/c/vsb-power-line-fault-detection/discussion/78285)\n",
        "    - [Manifold Learning](https://en.wikipedia.org/wiki/Nonlinear_dimensionality_reduction)\n",
        "\n",
        "We've already seen *representation learning* when we talked about word embedding modelings during our NLP week. Today we're going to achieve a similiar goal on images using *autoencoders*. An autoencoder is a neural network that is trained to attempt to copy its input to its output. Usually they are restricted in ways that allow them to copy only approximately. The model often learns useful properties of the data, because it is forced to prioritize which aspecs of the input should be copied. The properties of autoencoders have made them an important part of modern generative modeling approaches. Consider autoencoders a special case of feed-forward networks (the kind we've been studying); backpropagation and gradient descent still work. "
      ]
    },
    {
      "cell_type": "markdown",
      "metadata": {
        "id": "fDNIpSlmzVhw",
        "colab_type": "text"
      },
      "source": [
        "# Autoencoder Architecture (Learn)\n",
        "<a id=\"p1\"></a>"
      ]
    },
    {
      "cell_type": "markdown",
      "metadata": {
        "id": "VTsdT8cAzVhy",
        "colab_type": "text"
      },
      "source": [
        "## Overview\n",
        "\n",
        "The *encoder* compresses the input data and the *decoder* does the reverse to produce the uncompressed version of the data to create a reconstruction of the input as accurately as possible:\n",
        "\n",
        "<img src='https://miro.medium.com/max/1400/1*44eDEuZBEsmG_TCAKRI3Kw@2x.png' width=800/>\n",
        "\n",
        "The learning process gis described simply as minimizing a loss function: \n",
        "$ L(x, g(f(x))) $\n",
        "\n",
        "- $L$ is a loss function penalizing $g(f(x))$ for being dissimiliar from $x$ (such as mean squared error)\n",
        "- $f$ is the encoder function\n",
        "- $g$ is the decoder function"
      ]
    },
    {
      "cell_type": "markdown",
      "metadata": {
        "id": "e3pJTs32zVhz",
        "colab_type": "text"
      },
      "source": [
        "## Follow Along\n",
        "### Extremely Simple Autoencoder"
      ]
    },
    {
      "cell_type": "code",
      "metadata": {
        "id": "zpHZ_Tl2zVh0",
        "colab_type": "code",
        "colab": {
          "base_uri": "https://localhost:8080/",
          "height": 34
        },
        "outputId": "64cdd987-eed6-40d7-f829-772172ea76af"
      },
      "source": [
        "# Colab Only Cell\n",
        "# Remember to Switch to GPU Runtime\n",
        "%tensorflow__version 2.x"
      ],
      "execution_count": 1,
      "outputs": [
        {
          "output_type": "stream",
          "text": [
            "UsageError: Line magic function `%tensorflow__version` not found.\n"
          ],
          "name": "stderr"
        }
      ]
    },
    {
      "cell_type": "code",
      "metadata": {
        "id": "W_8LXN6tzViA",
        "colab_type": "code",
        "colab": {}
      },
      "source": [
        "%load_ext tensorboard"
      ],
      "execution_count": 0,
      "outputs": []
    },
    {
      "cell_type": "code",
      "metadata": {
        "id": "YS0vrAzdzViG",
        "colab_type": "code",
        "colab": {}
      },
      "source": [
        "from tensorflow.keras.layers import Input, Dense\n",
        "from tensorflow.keras.models import Model\n",
        "from tensorflow.keras.callbacks import EarlyStopping, TensorBoard\n",
        "\n",
        "# this is the size of our encoded representations\n",
        "encoding_dim = 32  # 32 floats -> compression of factor 24.5, assuming the input is 784 floats\n",
        "\n",
        "# this is our input placeholder\n",
        "input_img = Input(shape=(784,))\n",
        "\n",
        "# \"encoded\" is the encoded representation of the input\n",
        "encoded = Dense(encoding_dim, activation='relu')(input_img)\n",
        "\n",
        "# \"decoded\" is the lossy reconstruction of the input\n",
        "# series of binary classifcations (regression targets that are between 0-1)\n",
        "decoded = Dense(784, activation='sigmoid')(encoded)\n",
        "\n",
        "# this model maps an input to its reconstruction\n",
        "autoencoder = Model(input_img, decoded)"
      ],
      "execution_count": 0,
      "outputs": []
    },
    {
      "cell_type": "code",
      "metadata": {
        "id": "93sffrOHzViU",
        "colab_type": "code",
        "colab": {}
      },
      "source": [
        "# this model maps an input to its encoded representation\n",
        "encoder = Model(input_img, encoded)"
      ],
      "execution_count": 0,
      "outputs": []
    },
    {
      "cell_type": "code",
      "metadata": {
        "id": "tpTRDzrbzViZ",
        "colab_type": "code",
        "colab": {}
      },
      "source": [
        "# create a placeholder for an encoded (32-dimensional) input\n",
        "encoded_input = Input(shape=(encoding_dim,))\n",
        "# retrieve the last layer of the autoencoder model\n",
        "decoder_layer = autoencoder.layers[-1] # == decoded\n",
        "# create the decoder model\n",
        "decoder = Model(encoded_input, decoder_layer(encoded_input))"
      ],
      "execution_count": 0,
      "outputs": []
    },
    {
      "cell_type": "code",
      "metadata": {
        "id": "oPYz55X5zVif",
        "colab_type": "code",
        "colab": {}
      },
      "source": [
        "autoencoder.compile(optimizer='adadelta', loss='binary_crossentropy')"
      ],
      "execution_count": 0,
      "outputs": []
    },
    {
      "cell_type": "code",
      "metadata": {
        "id": "hShMu-MPzVik",
        "colab_type": "code",
        "colab": {
          "base_uri": "https://localhost:8080/",
          "height": 52
        },
        "outputId": "e0c8a5f8-4cd5-4f2b-e958-c4b423da4bb9"
      },
      "source": [
        "from tensorflow.keras.datasets import mnist\n",
        "import numpy as np\n",
        "(x_train, _), (x_test, _) = mnist.load_data()"
      ],
      "execution_count": 9,
      "outputs": [
        {
          "output_type": "stream",
          "text": [
            "Downloading data from https://storage.googleapis.com/tensorflow/tf-keras-datasets/mnist.npz\n",
            "11493376/11490434 [==============================] - 0s 0us/step\n"
          ],
          "name": "stdout"
        }
      ]
    },
    {
      "cell_type": "code",
      "metadata": {
        "id": "8ubkqIwyzVin",
        "colab_type": "code",
        "colab": {
          "base_uri": "https://localhost:8080/",
          "height": 52
        },
        "outputId": "1b445ada-7a7e-4e1b-e8f1-85f674e753ab"
      },
      "source": [
        "x_train = x_train.astype('float32') / 255.\n",
        "x_test = x_test.astype('float32') / 255.\n",
        "x_train = x_train.reshape((len(x_train), np.prod(x_train.shape[1:])))\n",
        "x_test = x_test.reshape((len(x_test), np.prod(x_test.shape[1:])))\n",
        "print(x_train.shape)\n",
        "print(x_test.shape)"
      ],
      "execution_count": 10,
      "outputs": [
        {
          "output_type": "stream",
          "text": [
            "(60000, 784)\n",
            "(10000, 784)\n"
          ],
          "name": "stdout"
        }
      ]
    },
    {
      "cell_type": "code",
      "metadata": {
        "id": "Ylsqs22jzVis",
        "colab_type": "code",
        "colab": {
          "base_uri": "https://localhost:8080/",
          "height": 1000
        },
        "outputId": "6df241b3-2db3-4713-8831-7e114417965b"
      },
      "source": [
        "import os\n",
        "import datetime\n",
        "from tensorflow.keras.callbacks import TensorBoard\n",
        "\n",
        "stop = EarlyStopping(monitor='val_loss', min_delta=0.001, patience=2)\n",
        "\n",
        "logdir = os.path.join(\"logs\", datetime.datetime.now().strftime(\"%Y%m%d-%H%M%S\"))\n",
        "tensorboard = TensorBoard(log_dir=logdir)\n",
        "\n",
        "autoencoder.fit(x_train, x_train,\n",
        "                epochs=10000,\n",
        "                batch_size=64,\n",
        "                shuffle=True,\n",
        "                validation_data=(x_test, x_test),\n",
        "                verbose = 1,\n",
        "                callbacks=[stop, tensorboard])"
      ],
      "execution_count": 14,
      "outputs": [
        {
          "output_type": "stream",
          "text": [
            "Epoch 1/10000\n",
            "938/938 [==============================] - 3s 3ms/step - loss: 0.6945 - val_loss: 0.6941\n",
            "Epoch 2/10000\n",
            "938/938 [==============================] - 3s 3ms/step - loss: 0.6937 - val_loss: 0.6932\n",
            "Epoch 3/10000\n",
            "938/938 [==============================] - 3s 3ms/step - loss: 0.6929 - val_loss: 0.6924\n",
            "Epoch 4/10000\n",
            "938/938 [==============================] - 3s 3ms/step - loss: 0.6921 - val_loss: 0.6917\n",
            "Epoch 5/10000\n",
            "938/938 [==============================] - 3s 3ms/step - loss: 0.6913 - val_loss: 0.6909\n",
            "Epoch 6/10000\n",
            "938/938 [==============================] - 3s 3ms/step - loss: 0.6905 - val_loss: 0.6901\n",
            "Epoch 7/10000\n",
            "938/938 [==============================] - 3s 3ms/step - loss: 0.6897 - val_loss: 0.6892\n",
            "Epoch 8/10000\n",
            "938/938 [==============================] - 3s 3ms/step - loss: 0.6889 - val_loss: 0.6884\n",
            "Epoch 9/10000\n",
            "938/938 [==============================] - 3s 3ms/step - loss: 0.6880 - val_loss: 0.6874\n",
            "Epoch 10/10000\n",
            "938/938 [==============================] - 3s 3ms/step - loss: 0.6870 - val_loss: 0.6865\n",
            "Epoch 11/10000\n",
            "938/938 [==============================] - 3s 3ms/step - loss: 0.6860 - val_loss: 0.6854\n",
            "Epoch 12/10000\n",
            "938/938 [==============================] - 3s 3ms/step - loss: 0.6849 - val_loss: 0.6842\n",
            "Epoch 13/10000\n",
            "938/938 [==============================] - 3s 3ms/step - loss: 0.6837 - val_loss: 0.6829\n",
            "Epoch 14/10000\n",
            "938/938 [==============================] - 3s 3ms/step - loss: 0.6824 - val_loss: 0.6815\n",
            "Epoch 15/10000\n",
            "938/938 [==============================] - 3s 3ms/step - loss: 0.6809 - val_loss: 0.6799\n",
            "Epoch 16/10000\n",
            "938/938 [==============================] - 3s 3ms/step - loss: 0.6792 - val_loss: 0.6782\n",
            "Epoch 17/10000\n",
            "938/938 [==============================] - 3s 3ms/step - loss: 0.6774 - val_loss: 0.6762\n",
            "Epoch 18/10000\n",
            "938/938 [==============================] - 3s 3ms/step - loss: 0.6754 - val_loss: 0.6740\n",
            "Epoch 19/10000\n",
            "938/938 [==============================] - 3s 3ms/step - loss: 0.6731 - val_loss: 0.6716\n",
            "Epoch 20/10000\n",
            "938/938 [==============================] - 3s 3ms/step - loss: 0.6705 - val_loss: 0.6688\n",
            "Epoch 21/10000\n",
            "938/938 [==============================] - 3s 3ms/step - loss: 0.6676 - val_loss: 0.6657\n",
            "Epoch 22/10000\n",
            "938/938 [==============================] - 3s 3ms/step - loss: 0.6644 - val_loss: 0.6623\n",
            "Epoch 23/10000\n",
            "938/938 [==============================] - 3s 3ms/step - loss: 0.6608 - val_loss: 0.6584\n",
            "Epoch 24/10000\n",
            "938/938 [==============================] - 3s 3ms/step - loss: 0.6568 - val_loss: 0.6541\n",
            "Epoch 25/10000\n",
            "938/938 [==============================] - 3s 3ms/step - loss: 0.6523 - val_loss: 0.6493\n",
            "Epoch 26/10000\n",
            "938/938 [==============================] - 3s 3ms/step - loss: 0.6474 - val_loss: 0.6440\n",
            "Epoch 27/10000\n",
            "938/938 [==============================] - 3s 3ms/step - loss: 0.6419 - val_loss: 0.6382\n",
            "Epoch 28/10000\n",
            "938/938 [==============================] - 3s 3ms/step - loss: 0.6358 - val_loss: 0.6317\n",
            "Epoch 29/10000\n",
            "938/938 [==============================] - 3s 3ms/step - loss: 0.6291 - val_loss: 0.6247\n",
            "Epoch 30/10000\n",
            "938/938 [==============================] - 3s 3ms/step - loss: 0.6219 - val_loss: 0.6170\n",
            "Epoch 31/10000\n",
            "938/938 [==============================] - 3s 3ms/step - loss: 0.6139 - val_loss: 0.6086\n",
            "Epoch 32/10000\n",
            "938/938 [==============================] - 3s 3ms/step - loss: 0.6054 - val_loss: 0.5996\n",
            "Epoch 33/10000\n",
            "938/938 [==============================] - 3s 3ms/step - loss: 0.5961 - val_loss: 0.5899\n",
            "Epoch 34/10000\n",
            "938/938 [==============================] - 3s 3ms/step - loss: 0.5863 - val_loss: 0.5797\n",
            "Epoch 35/10000\n",
            "938/938 [==============================] - 3s 3ms/step - loss: 0.5759 - val_loss: 0.5688\n",
            "Epoch 36/10000\n",
            "938/938 [==============================] - 3s 3ms/step - loss: 0.5649 - val_loss: 0.5575\n",
            "Epoch 37/10000\n",
            "938/938 [==============================] - 3s 3ms/step - loss: 0.5534 - val_loss: 0.5457\n",
            "Epoch 38/10000\n",
            "938/938 [==============================] - 3s 3ms/step - loss: 0.5416 - val_loss: 0.5335\n",
            "Epoch 39/10000\n",
            "938/938 [==============================] - 3s 3ms/step - loss: 0.5294 - val_loss: 0.5211\n",
            "Epoch 40/10000\n",
            "938/938 [==============================] - 3s 3ms/step - loss: 0.5170 - val_loss: 0.5085\n",
            "Epoch 41/10000\n",
            "938/938 [==============================] - 3s 3ms/step - loss: 0.5045 - val_loss: 0.4958\n",
            "Epoch 42/10000\n",
            "938/938 [==============================] - 3s 3ms/step - loss: 0.4920 - val_loss: 0.4833\n",
            "Epoch 43/10000\n",
            "938/938 [==============================] - 3s 3ms/step - loss: 0.4796 - val_loss: 0.4709\n",
            "Epoch 44/10000\n",
            "938/938 [==============================] - 3s 3ms/step - loss: 0.4674 - val_loss: 0.4587\n",
            "Epoch 45/10000\n",
            "938/938 [==============================] - 3s 3ms/step - loss: 0.4555 - val_loss: 0.4470\n",
            "Epoch 46/10000\n",
            "938/938 [==============================] - 3s 3ms/step - loss: 0.4440 - val_loss: 0.4357\n",
            "Epoch 47/10000\n",
            "938/938 [==============================] - 3s 3ms/step - loss: 0.4329 - val_loss: 0.4249\n",
            "Epoch 48/10000\n",
            "938/938 [==============================] - 3s 3ms/step - loss: 0.4224 - val_loss: 0.4146\n",
            "Epoch 49/10000\n",
            "938/938 [==============================] - 3s 3ms/step - loss: 0.4125 - val_loss: 0.4050\n",
            "Epoch 50/10000\n",
            "938/938 [==============================] - 3s 3ms/step - loss: 0.4031 - val_loss: 0.3959\n",
            "Epoch 51/10000\n",
            "938/938 [==============================] - 3s 3ms/step - loss: 0.3943 - val_loss: 0.3874\n",
            "Epoch 52/10000\n",
            "938/938 [==============================] - 3s 3ms/step - loss: 0.3861 - val_loss: 0.3796\n",
            "Epoch 53/10000\n",
            "938/938 [==============================] - 3s 3ms/step - loss: 0.3785 - val_loss: 0.3723\n",
            "Epoch 54/10000\n",
            "938/938 [==============================] - 3s 3ms/step - loss: 0.3715 - val_loss: 0.3656\n",
            "Epoch 55/10000\n",
            "938/938 [==============================] - 3s 3ms/step - loss: 0.3650 - val_loss: 0.3594\n",
            "Epoch 56/10000\n",
            "938/938 [==============================] - 3s 3ms/step - loss: 0.3590 - val_loss: 0.3537\n",
            "Epoch 57/10000\n",
            "938/938 [==============================] - 3s 3ms/step - loss: 0.3534 - val_loss: 0.3484\n",
            "Epoch 58/10000\n",
            "938/938 [==============================] - 3s 3ms/step - loss: 0.3484 - val_loss: 0.3436\n",
            "Epoch 59/10000\n",
            "938/938 [==============================] - 3s 3ms/step - loss: 0.3437 - val_loss: 0.3392\n",
            "Epoch 60/10000\n",
            "938/938 [==============================] - 3s 3ms/step - loss: 0.3394 - val_loss: 0.3352\n",
            "Epoch 61/10000\n",
            "938/938 [==============================] - 3s 3ms/step - loss: 0.3355 - val_loss: 0.3314\n",
            "Epoch 62/10000\n",
            "938/938 [==============================] - 3s 3ms/step - loss: 0.3319 - val_loss: 0.3280\n",
            "Epoch 63/10000\n",
            "938/938 [==============================] - 3s 3ms/step - loss: 0.3285 - val_loss: 0.3249\n",
            "Epoch 64/10000\n",
            "938/938 [==============================] - 3s 3ms/step - loss: 0.3255 - val_loss: 0.3220\n",
            "Epoch 65/10000\n",
            "938/938 [==============================] - 3s 3ms/step - loss: 0.3227 - val_loss: 0.3194\n",
            "Epoch 66/10000\n",
            "938/938 [==============================] - 3s 3ms/step - loss: 0.3201 - val_loss: 0.3169\n",
            "Epoch 67/10000\n",
            "938/938 [==============================] - 3s 3ms/step - loss: 0.3177 - val_loss: 0.3147\n",
            "Epoch 68/10000\n",
            "938/938 [==============================] - 3s 3ms/step - loss: 0.3155 - val_loss: 0.3126\n",
            "Epoch 69/10000\n",
            "938/938 [==============================] - 3s 3ms/step - loss: 0.3135 - val_loss: 0.3107\n",
            "Epoch 70/10000\n",
            "938/938 [==============================] - 3s 3ms/step - loss: 0.3116 - val_loss: 0.3089\n",
            "Epoch 71/10000\n",
            "938/938 [==============================] - 3s 3ms/step - loss: 0.3098 - val_loss: 0.3073\n",
            "Epoch 72/10000\n",
            "938/938 [==============================] - 3s 3ms/step - loss: 0.3082 - val_loss: 0.3057\n",
            "Epoch 73/10000\n",
            "938/938 [==============================] - 3s 3ms/step - loss: 0.3067 - val_loss: 0.3043\n",
            "Epoch 74/10000\n",
            "938/938 [==============================] - 3s 3ms/step - loss: 0.3053 - val_loss: 0.3030\n",
            "Epoch 75/10000\n",
            "938/938 [==============================] - 3s 3ms/step - loss: 0.3040 - val_loss: 0.3018\n",
            "Epoch 76/10000\n",
            "938/938 [==============================] - 3s 3ms/step - loss: 0.3028 - val_loss: 0.3006\n",
            "Epoch 77/10000\n",
            "938/938 [==============================] - 3s 3ms/step - loss: 0.3016 - val_loss: 0.2995\n",
            "Epoch 78/10000\n",
            "938/938 [==============================] - 3s 3ms/step - loss: 0.3006 - val_loss: 0.2985\n",
            "Epoch 79/10000\n",
            "938/938 [==============================] - 3s 3ms/step - loss: 0.2996 - val_loss: 0.2976\n",
            "Epoch 80/10000\n",
            "938/938 [==============================] - 3s 3ms/step - loss: 0.2986 - val_loss: 0.2967\n",
            "Epoch 81/10000\n",
            "938/938 [==============================] - 3s 3ms/step - loss: 0.2977 - val_loss: 0.2958\n",
            "Epoch 82/10000\n",
            "938/938 [==============================] - 3s 3ms/step - loss: 0.2969 - val_loss: 0.2950\n",
            "Epoch 83/10000\n",
            "938/938 [==============================] - 3s 3ms/step - loss: 0.2961 - val_loss: 0.2943\n",
            "Epoch 84/10000\n",
            "938/938 [==============================] - 3s 3ms/step - loss: 0.2953 - val_loss: 0.2936\n",
            "Epoch 85/10000\n",
            "938/938 [==============================] - 3s 3ms/step - loss: 0.2946 - val_loss: 0.2929\n",
            "Epoch 86/10000\n",
            "938/938 [==============================] - 3s 3ms/step - loss: 0.2940 - val_loss: 0.2922\n",
            "Epoch 87/10000\n",
            "938/938 [==============================] - 3s 3ms/step - loss: 0.2933 - val_loss: 0.2916\n",
            "Epoch 88/10000\n",
            "938/938 [==============================] - 3s 3ms/step - loss: 0.2927 - val_loss: 0.2911\n",
            "Epoch 89/10000\n",
            "938/938 [==============================] - 3s 3ms/step - loss: 0.2921 - val_loss: 0.2905\n",
            "Epoch 90/10000\n",
            "938/938 [==============================] - 3s 3ms/step - loss: 0.2916 - val_loss: 0.2900\n",
            "Epoch 91/10000\n",
            "938/938 [==============================] - 3s 3ms/step - loss: 0.2911 - val_loss: 0.2895\n",
            "Epoch 92/10000\n",
            "938/938 [==============================] - 3s 3ms/step - loss: 0.2906 - val_loss: 0.2890\n"
          ],
          "name": "stdout"
        },
        {
          "output_type": "execute_result",
          "data": {
            "text/plain": [
              "<tensorflow.python.keras.callbacks.History at 0x7f2fc0187710>"
            ]
          },
          "metadata": {
            "tags": []
          },
          "execution_count": 14
        }
      ]
    },
    {
      "cell_type": "code",
      "metadata": {
        "id": "WtJz_500zVix",
        "colab_type": "code",
        "colab": {
          "base_uri": "https://localhost:8080/",
          "height": 312
        },
        "outputId": "0488534d-d465-46d8-c1a9-583d42bbf05a"
      },
      "source": [
        "%tensorboard --log_dir= \"./logs\""
      ],
      "execution_count": 19,
      "outputs": [
        {
          "output_type": "display_data",
          "data": {
            "text/plain": [
              "ERROR: Failed to launch TensorBoard (exited with 2).\n",
              "Contents of stderr:\n",
              "2020-04-22 17:16:40.909125: I tensorflow/stream_executor/platform/default/dso_loader.cc:44] Successfully opened dynamic library libcudart.so.10.1\n",
              "usage: tensorboard [-h] [--helpfull] [--logdir PATH] [--logdir_spec PATH_SPEC]\n",
              "                   [--host ADDR] [--bind_all] [--port PORT]\n",
              "                   [--purge_orphaned_data BOOL] [--db URI] [--db_import]\n",
              "                   [--inspect] [--version_tb] [--tag TAG] [--event_file PATH]\n",
              "                   [--path_prefix PATH] [--window_title TEXT]\n",
              "                   [--max_reload_threads COUNT] [--reload_interval SECONDS]\n",
              "                   [--reload_task TYPE] [--reload_multifile BOOL]\n",
              "                   [--reload_multifile_inactive_secs SECONDS]\n",
              "                   [--generic_data TYPE]\n",
              "                   [--samples_per_plugin SAMPLES_PER_PLUGIN]\n",
              "                   [--debugger_data_server_grpc_port PORT]\n",
              "                   [--debugger_port PORT]\n",
              "                   {serve,dev} ...\n",
              "tensorboard: error: invalid choice: './logs' (choose from 'serve', 'dev')"
            ]
          },
          "metadata": {
            "tags": []
          }
        }
      ]
    },
    {
      "cell_type": "code",
      "metadata": {
        "id": "pMFQBjG2zVi1",
        "colab_type": "code",
        "colab": {}
      },
      "source": [
        "# encode and decode some digits\n",
        "# note that we take them from the *test* set\n",
        "encoded_imgs = encoder.predict(x_test)\n",
        "decoded_imgs = decoder.predict(encoded_imgs)"
      ],
      "execution_count": 0,
      "outputs": []
    },
    {
      "cell_type": "code",
      "metadata": {
        "id": "WXC_REoZzVi7",
        "colab_type": "code",
        "colab": {
          "base_uri": "https://localhost:8080/",
          "height": 248
        },
        "outputId": "cda0f62c-cd97-4283-81c5-b1411b7dc26b"
      },
      "source": [
        "# use Matplotlib (don't ask)\n",
        "import matplotlib.pyplot as plt\n",
        "\n",
        "n = 10  # how many digits we will display\n",
        "plt.figure(figsize=(20, 4))\n",
        "for i in range(n):\n",
        "    # display original\n",
        "    ax = plt.subplot(2, n, i + 1)\n",
        "    plt.imshow(x_test[i].reshape(28, 28))\n",
        "    plt.gray()\n",
        "    ax.get_xaxis().set_visible(False)\n",
        "    ax.get_yaxis().set_visible(False)\n",
        "\n",
        "    # display reconstruction\n",
        "    ax = plt.subplot(2, n, i + 1 + n)\n",
        "    plt.imshow(decoded_imgs[i].reshape(28, 28))\n",
        "    plt.gray()\n",
        "    ax.get_xaxis().set_visible(False)\n",
        "    ax.get_yaxis().set_visible(False)\n",
        "plt.show()"
      ],
      "execution_count": 21,
      "outputs": [
        {
          "output_type": "display_data",
          "data": {
            "image/png": "[encoded data removed]",
            "text/plain": [
              "<Figure size 1440x288 with 20 Axes>"
            ]
          },
          "metadata": {
            "tags": [],
            "needs_background": "light"
          }
        }
      ]
    },
    {
      "cell_type": "markdown",
      "metadata": {
        "id": "b05YgfKXzVjA",
        "colab_type": "text"
      },
      "source": [
        "## Challenge\n",
        "\n",
        "Expected to talk about the components of autoencoder and their purpose. "
      ]
    },
    {
      "cell_type": "markdown",
      "metadata": {
        "id": "PlR1x_vjzVjB",
        "colab_type": "text"
      },
      "source": [
        "# Train an Autoencoder (Learn)\n",
        "<a id=\"p2\"></a>"
      ]
    },
    {
      "cell_type": "markdown",
      "metadata": {
        "id": "TqBR5yWKzVjC",
        "colab_type": "text"
      },
      "source": [
        "## Overview\n",
        "\n",
        "As long as our architecture maintains an hourglass shape, we can continue to add layers and create a deeper network. "
      ]
    },
    {
      "cell_type": "markdown",
      "metadata": {
        "toc-hr-collapsed": true,
        "id": "cHJ2xLsLzVjD",
        "colab_type": "text"
      },
      "source": [
        "## Follow Along"
      ]
    },
    {
      "cell_type": "markdown",
      "metadata": {
        "id": "fAUvyhWPzVjE",
        "colab_type": "text"
      },
      "source": [
        "### Deep Autoencoder"
      ]
    },
    {
      "cell_type": "code",
      "metadata": {
        "id": "JRoarTgqzVjE",
        "colab_type": "code",
        "colab": {}
      },
      "source": [
        "# Left hand side of the hourglass\n",
        "input_img = Input(shape=(784,))\n",
        "encoded = Dense(128, activation='relu')(input_img)\n",
        "encoded = Dense(64, activation='relu')(encoded)\n",
        "\n",
        "# Center of the hourglass\n",
        "encoded = Dense(32, activation='relu')(encoded) #=> This is the dry fruit\n",
        "\n",
        "# Right hand side of the hourglass\n",
        "decoded = Dense(64, activation='relu')(encoded)\n",
        "decoded = Dense(128, activation='relu')(decoded)\n",
        "decoded = Dense(784, activation='sigmoid')(decoded)"
      ],
      "execution_count": 0,
      "outputs": []
    },
    {
      "cell_type": "code",
      "metadata": {
        "id": "GZUTEU3szVjJ",
        "colab_type": "code",
        "colab": {
          "base_uri": "https://localhost:8080/",
          "height": 312
        },
        "outputId": "72e97472-5f2f-44db-8d30-70d4cd8530f7"
      },
      "source": [
        "# compile & fit model\n",
        "\n",
        "autoencoder = Model(input_img, decoded)\n",
        "\n",
        "autoencoder.compile(optimizer='nadam',\n",
        "                    loss='binary_crossentropy')\n",
        "\n",
        "\n",
        "\n",
        "stop = EarlyStopping(monitor='val_loss', min_delta=0.001, patience=2)\n",
        "\n",
        "logdir = os.path.join(\"logs\", datetime.datetime.now().strftime(\"%Y%m%d-%H%M%S\"))\n",
        "tensorboard = TensorBoard(log_dir=logdir)\n",
        "\n",
        "autoencoder.fit(x_train, x_train,\n",
        "                epochs=10000,\n",
        "                batch_size=64,\n",
        "                shuffle=True,\n",
        "                validation_data=(x_test, x_test),\n",
        "                verbose = 1,\n",
        "                callbacks=[stop, tensorboard])"
      ],
      "execution_count": 22,
      "outputs": [
        {
          "output_type": "stream",
          "text": [
            "Epoch 1/10000\n",
            "938/938 [==============================] - 3s 4ms/step - loss: 0.1564 - val_loss: 0.1182\n",
            "Epoch 2/10000\n",
            "938/938 [==============================] - 3s 4ms/step - loss: 0.1084 - val_loss: 0.1010\n",
            "Epoch 3/10000\n",
            "938/938 [==============================] - 3s 4ms/step - loss: 0.0983 - val_loss: 0.0953\n",
            "Epoch 4/10000\n",
            "938/938 [==============================] - 3s 4ms/step - loss: 0.0956 - val_loss: 0.0940\n",
            "Epoch 5/10000\n",
            "938/938 [==============================] - 3s 4ms/step - loss: 0.0947 - val_loss: 0.0932\n",
            "Epoch 6/10000\n",
            "938/938 [==============================] - 3s 4ms/step - loss: 0.0942 - val_loss: 0.0929\n",
            "Epoch 7/10000\n",
            "938/938 [==============================] - 3s 4ms/step - loss: 0.0939 - val_loss: 0.0926\n",
            "Epoch 8/10000\n",
            "938/938 [==============================] - 3s 4ms/step - loss: 0.0937 - val_loss: 0.0926\n"
          ],
          "name": "stdout"
        },
        {
          "output_type": "execute_result",
          "data": {
            "text/plain": [
              "<tensorflow.python.keras.callbacks.History at 0x7f2f96082160>"
            ]
          },
          "metadata": {
            "tags": []
          },
          "execution_count": 22
        }
      ]
    },
    {
      "cell_type": "code",
      "metadata": {
        "id": "GqHI1mJM7kG6",
        "colab_type": "code",
        "colab": {}
      },
      "source": [
        "decoded_imgs = autoencoder.predict(x_test)"
      ],
      "execution_count": 0,
      "outputs": []
    },
    {
      "cell_type": "code",
      "metadata": {
        "id": "Q7RD5ZCPzVjN",
        "colab_type": "code",
        "colab": {
          "base_uri": "https://localhost:8080/",
          "height": 248
        },
        "outputId": "f0d76a46-2fc0-46b4-d43f-03b5896df73c"
      },
      "source": [
        "# use Matplotlib (don't ask)\n",
        "import matplotlib.pyplot as plt\n",
        "\n",
        "n = 10  # how many digits we will display\n",
        "plt.figure(figsize=(20, 4))\n",
        "for i in range(n):\n",
        "    # display original\n",
        "    ax = plt.subplot(2, n, i + 1)\n",
        "    plt.imshow(x_test[i].reshape(28, 28))\n",
        "    plt.gray()\n",
        "    ax.get_xaxis().set_visible(False)\n",
        "    ax.get_yaxis().set_visible(False)\n",
        "\n",
        "    # display reconstruction\n",
        "    ax = plt.subplot(2, n, i + 1 + n)\n",
        "    plt.imshow(decoded_imgs[i].reshape(28, 28))\n",
        "    plt.gray()\n",
        "    ax.get_xaxis().set_visible(False)\n",
        "    ax.get_yaxis().set_visible(False)\n",
        "plt.show()"
      ],
      "execution_count": 25,
      "outputs": [
        {
          "output_type": "display_data",
          "data": {
            "image/png": "[encoded data removed]",
            "text/plain": [
              "<Figure size 1440x288 with 20 Axes>"
            ]
          },
          "metadata": {
            "tags": [],
            "needs_background": "light"
          }
        }
      ]
    },
    {
      "cell_type": "markdown",
      "metadata": {
        "toc-hr-collapsed": true,
        "id": "0h3vAGuozVjQ",
        "colab_type": "text"
      },
      "source": [
        "### Convolutional autoencoder\n",
        "\n",
        "> Since our inputs are images, it makes sense to use convolutional neural networks (convnets) as encoders and decoders. In practical settings, autoencoders applied to images are always convolutional autoencoders --they simply perform much better.\n",
        "\n",
        "> Let's implement one. The encoder will consist in a stack of Conv2D and MaxPooling2D layers (max pooling being used for spatial down-sampling), while the decoder will consist in a stack of Conv2D and UpSampling2D layers."
      ]
    },
    {
      "cell_type": "code",
      "metadata": {
        "id": "PCK8Pf2OzVjR",
        "colab_type": "code",
        "colab": {
          "base_uri": "https://localhost:8080/",
          "height": 34
        },
        "outputId": "6d131926-85a0-492b-c90b-94b975bd027b"
      },
      "source": [
        "from tensorflow.keras.layers import Input, Dense, Conv2D, MaxPooling2D, UpSampling2D\n",
        "from tensorflow.keras.models import Model\n",
        "\n",
        "\n",
        "# Create Model \n",
        "\n",
        "autoencoder.compile(optimizer='adadelta', loss='binary_crossentropy')"
      ],
      "execution_count": 26,
      "outputs": [
        {
          "output_type": "stream",
          "text": [
            "Using TensorFlow backend.\n"
          ],
          "name": "stderr"
        }
      ]
    },
    {
      "cell_type": "code",
      "metadata": {
        "id": "CHD0tRjWzVjV",
        "colab_type": "code",
        "colab": {}
      },
      "source": [
        "from keras.datasets import mnist\n",
        "import numpy as np\n",
        "\n",
        "(x_train, _), (x_test, _) = mnist.load_data()\n",
        "\n",
        "x_train = x_train.astype('float32') / 255.\n",
        "x_test = x_test.astype('float32') / 255.\n",
        "x_train = np.reshape(x_train, (len(x_train), 28, 28, 1))  # adapt this if using `channels_first` image data format\n",
        "x_test = np.reshape(x_test, (len(x_test), 28, 28, 1))  # adapt this if using `channels_first` image data format"
      ],
      "execution_count": 0,
      "outputs": []
    },
    {
      "cell_type": "code",
      "metadata": {
        "id": "yBVeL-0CzVjY",
        "colab_type": "code",
        "colab": {}
      },
      "source": [
        "import os\n",
        "import datatime\n",
        "\n",
        "stop = EarlyStopping(monitor=..., min_delta=0.001, patience=2)\n",
        "\n",
        "logdir = os.path.join(\"logs\", datetime.datetime.now().strftime(\"%Y%m%d-%H%M%S\"))\n",
        "tensorboard = Tensorboard(log_dir=logdir)\n",
        "\n",
        "autoencoder.fit(..., ...,\n",
        "                epochs=10000,\n",
        "                batch_size=64,\n",
        "                shuffle=True,\n",
        "                validation_data=(..., ...),\n",
        "                verbose = False,\n",
        "                callbacks=...)"
      ],
      "execution_count": 0,
      "outputs": []
    },
    {
      "cell_type": "code",
      "metadata": {
        "id": "_ekXSiCazVjc",
        "colab_type": "code",
        "colab": {}
      },
      "source": [
        "decoded_imgs = autoencoder.predict(x_test)\n",
        "\n",
        "n = 10\n",
        "plt.figure(figsize=(20, 4))\n",
        "for i in range(n):\n",
        "    # display original\n",
        "    ax = plt.subplot(2, n, i)\n",
        "    plt.imshow(x_test[i].reshape(28, 28))\n",
        "    plt.gray()\n",
        "    ax.get_xaxis().set_visible(False)\n",
        "    ax.get_yaxis().set_visible(False)\n",
        "\n",
        "    # display reconstruction\n",
        "    ax = plt.subplot(2, n, i + n)\n",
        "    plt.imshow(decoded_imgs[i].reshape(28, 28))\n",
        "    plt.gray()\n",
        "    ax.get_xaxis().set_visible(False)\n",
        "    ax.get_yaxis().set_visible(False)\n",
        "plt.show()"
      ],
      "execution_count": 0,
      "outputs": []
    },
    {
      "cell_type": "markdown",
      "metadata": {
        "id": "byzjnFwBzVjf",
        "colab_type": "text"
      },
      "source": [
        "#### Visualization of the Representations"
      ]
    },
    {
      "cell_type": "code",
      "metadata": {
        "id": "E-qj-x44zVjg",
        "colab_type": "code",
        "colab": {}
      },
      "source": [
        "encoder = Model(input_img, encoded)\n",
        "encoder.predict(x_train)\n",
        "\n",
        "n = 10\n",
        "plt.figure(figsize=(20, 8))\n",
        "for i in range(n):\n",
        "    ax = plt.subplot(1, n, i)\n",
        "    plt.imshow(encoded_imgs[i].reshape(4, 4 * 8).T)\n",
        "    plt.gray()\n",
        "    ax.get_xaxis().set_visible(False)\n",
        "    ax.get_yaxis().set_visible(False)\n",
        "plt.show()"
      ],
      "execution_count": 0,
      "outputs": []
    },
    {
      "cell_type": "markdown",
      "metadata": {
        "id": "bJJF3ITezVji",
        "colab_type": "text"
      },
      "source": [
        "## Challenge\n",
        "\n",
        "You will train an autoencoder at some point in the near future. "
      ]
    },
    {
      "cell_type": "markdown",
      "metadata": {
        "id": "LLpfDnfVzVjk",
        "colab_type": "text"
      },
      "source": [
        "# Information Retrieval with Autoencoders (Learn)\n",
        "<a id=\"p3\"></a>"
      ]
    },
    {
      "cell_type": "markdown",
      "metadata": {
        "id": "ktxSyJ8uzVjl",
        "colab_type": "text"
      },
      "source": [
        "## Overview\n",
        "\n",
        "A common usecase for autoencoders is for reverse image search. Let's try to draw an image and see what's most similiar in our dataset. \n",
        "\n",
        "To accomplish this we will need to slice our autoendoer in half to extract our reduced features. :) "
      ]
    },
    {
      "cell_type": "markdown",
      "metadata": {
        "id": "1ei5WrnGzVjl",
        "colab_type": "text"
      },
      "source": [
        "## Follow Along"
      ]
    },
    {
      "cell_type": "code",
      "metadata": {
        "id": "4ywx3KN6zVjm",
        "colab_type": "code",
        "colab": {}
      },
      "source": [
        "encoder = Model(input_img, encoded)\n",
        "encoded_imgs = encoder.predict(x_train)"
      ],
      "execution_count": 0,
      "outputs": []
    },
    {
      "cell_type": "code",
      "metadata": {
        "id": "FhsjFNe5zVjr",
        "colab_type": "code",
        "colab": {},
        "outputId": "38ced8b5-a68d-4c49-d9c4-e70bc10a3606"
      },
      "source": [
        "encoded_imgs[0].T"
      ],
      "execution_count": 0,
      "outputs": [
        {
          "output_type": "execute_result",
          "data": {
            "text/plain": [
              "array([ 0.39389127,  1.0158104 ,  0.        ,  0.        ,  0.06517133,\n",
              "        2.450819  ,  0.        ,  5.1117034 ,  0.74338543,  2.3620906 ,\n",
              "        0.        ,  0.        ,  0.        ,  2.0215404 ,  6.1629906 ,\n",
              "        0.6670714 ,  4.66508   ,  2.5439487 , 17.914988  ,  0.        ,\n",
              "        7.9524546 ,  5.3824563 ,  1.0916216 ,  6.234546  ,  0.        ,\n",
              "        0.8884269 ,  7.485719  ,  3.44194   ,  8.927442  ,  0.        ,\n",
              "        0.23894644,  0.        ], dtype=float32)"
            ]
          },
          "metadata": {
            "tags": []
          },
          "execution_count": 98
        }
      ]
    },
    {
      "cell_type": "code",
      "metadata": {
        "id": "vcknhxUCzVju",
        "colab_type": "code",
        "colab": {},
        "outputId": "3947a197-2485-46dc-e345-b51ed4315df8"
      },
      "source": [
        "from sklearn.neighbors import NearestNeighbors\n",
        "\n",
        "nn = NearestNeighbors(n_neighbors=10, algorithm='ball_tree')\n",
        "nn.fit(encoded_imgs)"
      ],
      "execution_count": 0,
      "outputs": [
        {
          "output_type": "execute_result",
          "data": {
            "text/plain": [
              "NearestNeighbors(algorithm='ball_tree', leaf_size=30, metric='minkowski',\n",
              "                 metric_params=None, n_jobs=None, n_neighbors=10, p=2,\n",
              "                 radius=1.0)"
            ]
          },
          "metadata": {
            "tags": []
          },
          "execution_count": 99
        }
      ]
    },
    {
      "cell_type": "code",
      "metadata": {
        "id": "gWhXTBNMzVjy",
        "colab_type": "code",
        "colab": {}
      },
      "source": [
        "nn.kneighbors(...)"
      ],
      "execution_count": 0,
      "outputs": []
    },
    {
      "cell_type": "markdown",
      "metadata": {
        "id": "sdmqQO44zVj1",
        "colab_type": "text"
      },
      "source": [
        "## Challenge\n",
        "\n",
        "You should already be familiar with KNN and similarity queries, so the key component of this section is know what to 'slice' from your autoencoder (the encoder) to extract features from your data. "
      ]
    },
    {
      "cell_type": "markdown",
      "metadata": {
        "id": "3ivk6_fAzVj1",
        "colab_type": "text"
      },
      "source": [
        "# Review\n",
        "\n",
        "* <a href=\"#p1\">Part 1</a>: Describe the componenets of an autoencoder\n",
        "    - Enocder\n",
        "    - Decoder\n",
        "* <a href=\"#p2\">Part 2</a>: Train an autoencoder\n",
        "    - Can do in Keras Easily\n",
        "    - Can use a variety of architectures\n",
        "    - Architectures must follow hourglass shape\n",
        "* <a href=\"#p3\">Part 3</a>: Apply an autoenocder to a basic information retrieval problem\n",
        "    - Extract just the encoder to use for various tasks\n",
        "    - AE ares good for dimensionality reduction, reverse image search, and may more things. \n"
      ]
    },
    {
      "cell_type": "markdown",
      "metadata": {
        "id": "Sa-5Axj_zVj3",
        "colab_type": "text"
      },
      "source": [
        "# Sources\n",
        "\n",
        "__References__\n",
        "- [Building Autoencoders in Keras](https://blog.keras.io/building-autoencoders-in-keras.html)\n",
        "- [Deep Learning Cookbook](http://shop.oreilly.com/product/0636920097471.do)\n",
        "\n",
        "__Additional Material__"
      ]
    }
  ]
}