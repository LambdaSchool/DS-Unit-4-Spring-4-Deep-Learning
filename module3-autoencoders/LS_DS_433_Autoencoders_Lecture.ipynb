{
  "nbformat": 4,
  "nbformat_minor": 0,
  "metadata": {
    "kernelspec": {
      "name": "python3",
      "display_name": "Python 3"
    },
    "colab": {
      "name": "LS_DS_433_Autoencoders_Lecture.ipynb",
      "provenance": [],
      "collapsed_sections": [],
      "include_colab_link": true
    },
    "accelerator": "GPU"
  },
  "cells": [
    {
      "cell_type": "markdown",
      "metadata": {
        "id": "view-in-github",
        "colab_type": "text"
      },
      "source": [
        "<a href=\"https://colab.research.google.com/github/Nckflannery/DS-Unit-4-Sprint-3-Deep-Learning/blob/master/module3-autoencoders/LS_DS_433_Autoencoders_Lecture.ipynb\" target=\"_parent\"><img src=\"https://colab.research.google.com/assets/colab-badge.svg\" alt=\"Open In Colab\"/></a>"
      ]
    },
    {
      "cell_type": "markdown",
      "metadata": {
        "id": "QpxJFSEn-aBW",
        "colab_type": "text"
      },
      "source": [
        "Lambda School Data Science\n",
        "\n",
        "*Unit 4, Sprint 3, Module 3*\n",
        "\n",
        "---"
      ]
    },
    {
      "cell_type": "markdown",
      "metadata": {
        "id": "Z6YaZ0eU-aBZ",
        "colab_type": "text"
      },
      "source": [
        "# Autoencoders\n",
        "\n",
        "> An autoencoder is a type of artificial neural network used to learn efficient data codings in an unsupervised manner.[1][2] The aim of an autoencoder is to learn a representation (encoding) for a set of data, typically for dimensionality reduction, by training the network to ignore signal “noise”. Along with the reduction side, a reconstructing side is learnt, where the autoencoder tries to generate from the reduced encoding a representation as close as possible to its original input, hence its name. "
      ]
    },
    {
      "cell_type": "markdown",
      "metadata": {
        "id": "zUHTw6rW-aBZ",
        "colab_type": "text"
      },
      "source": [
        "## Learning Objectives\n",
        "*At the end of the lecture you should be to*:\n",
        "* <a href=\"#p1\">Part 1</a>: Describe the componenets of an autoencoder\n",
        "* <a href=\"#p2\">Part 2</a>: Train an autoencoder\n",
        "* <a href=\"#p3\">Part 3</a>: Apply an autoenocder to a basic information retrieval problem\n",
        "\n",
        "__Problem:__ Is it possible to automatically represent an image as a fixed-sized vector even if it isn’t labeled?\n",
        "\n",
        "__Solution:__ Use an autoencoder\n",
        "\n",
        "Why do we need to represent an image as a fixed-sized vector do you ask? \n",
        "\n",
        "* __Information Retrieval__\n",
        "    - [Reverse Image Search](https://en.wikipedia.org/wiki/Reverse_image_search)\n",
        "    - [Recommendation Systems - Content Based Filtering](https://en.wikipedia.org/wiki/Recommender_system#Content-based_filtering)\n",
        "* __Dimensionality Reduction__\n",
        "    - [Feature Extraction](https://www.kaggle.com/c/vsb-power-line-fault-detection/discussion/78285)\n",
        "    - [Manifold Learning](https://en.wikipedia.org/wiki/Nonlinear_dimensionality_reduction)\n",
        "\n",
        "We've already seen *representation learning* when we talked about word embedding modelings during our NLP week. Today we're going to achieve a similiar goal on images using *autoencoders*. An autoencoder is a neural network that is trained to attempt to copy its input to its output. Usually they are restricted in ways that allow them to copy only approximately. The model often learns useful properties of the data, because it is forced to prioritize which aspecs of the input should be copied. The properties of autoencoders have made them an important part of modern generative modeling approaches. Consider autoencoders a special case of feed-forward networks (the kind we've been studying); backpropagation and gradient descent still work. "
      ]
    },
    {
      "cell_type": "markdown",
      "metadata": {
        "id": "2XH_-rfH-aBa",
        "colab_type": "text"
      },
      "source": [
        "# Autoencoder Architecture (Learn)\n",
        "<a id=\"p1\"></a>"
      ]
    },
    {
      "cell_type": "markdown",
      "metadata": {
        "id": "vqjUt2fS-aBb",
        "colab_type": "text"
      },
      "source": [
        "## Overview\n",
        "\n",
        "The *encoder* compresses the input data and the *decoder* does the reverse to produce the uncompressed version of the data to create a reconstruction of the input as accurately as possible:\n",
        "\n",
        "<img src='https://miro.medium.com/max/1400/1*44eDEuZBEsmG_TCAKRI3Kw@2x.png' width=800/>\n",
        "\n",
        "The learning process gis described simply as minimizing a loss function: \n",
        "$ L(x, g(f(x))) $\n",
        "\n",
        "- $L$ is a loss function penalizing $g(f(x))$ for being dissimiliar from $x$ (such as mean squared error)\n",
        "- $f$ is the encoder function\n",
        "- $g$ is the decoder function"
      ]
    },
    {
      "cell_type": "markdown",
      "metadata": {
        "id": "muFV30D9-aBb",
        "colab_type": "text"
      },
      "source": [
        "## Follow Along\n",
        "### Extremely Simple Autoencoder"
      ]
    },
    {
      "cell_type": "code",
      "metadata": {
        "id": "mozeeZMaCs-5",
        "colab_type": "code",
        "colab": {
          "base_uri": "https://localhost:8080/",
          "height": 1000
        },
        "outputId": "b88c6718-22dc-403e-fd57-109b7958e91e"
      },
      "source": [
        "!pip install --upgrade wandb"
      ],
      "execution_count": 2,
      "outputs": [
        {
          "output_type": "stream",
          "text": [
            "Collecting wandb\n",
            "\u001b[?25l  Downloading https://files.pythonhosted.org/packages/79/b7/8f54fbb4b0490764657b89ef760332d0c64e5090d3c22880f86c8471817f/wandb-0.8.18-py2.py3-none-any.whl (1.3MB)\n",
            "\r\u001b[K     |▎                               | 10kB 24.6MB/s eta 0:00:01\r\u001b[K     |▌                               | 20kB 27.6MB/s eta 0:00:01\r\u001b[K     |▊                               | 30kB 33.4MB/s eta 0:00:01\r\u001b[K     |█                               | 40kB 37.8MB/s eta 0:00:01\r\u001b[K     |█▎                              | 51kB 26.3MB/s eta 0:00:01\r\u001b[K     |█▌                              | 61kB 28.8MB/s eta 0:00:01\r\u001b[K     |█▊                              | 71kB 23.8MB/s eta 0:00:01\r\u001b[K     |██                              | 81kB 24.9MB/s eta 0:00:01\r\u001b[K     |██▏                             | 92kB 26.7MB/s eta 0:00:01\r\u001b[K     |██▌                             | 102kB 24.8MB/s eta 0:00:01\r\u001b[K     |██▊                             | 112kB 24.8MB/s eta 0:00:01\r\u001b[K     |███                             | 122kB 24.8MB/s eta 0:00:01\r\u001b[K     |███▏                            | 133kB 24.8MB/s eta 0:00:01\r\u001b[K     |███▍                            | 143kB 24.8MB/s eta 0:00:01\r\u001b[K     |███▊                            | 153kB 24.8MB/s eta 0:00:01\r\u001b[K     |████                            | 163kB 24.8MB/s eta 0:00:01\r\u001b[K     |████▏                           | 174kB 24.8MB/s eta 0:00:01\r\u001b[K     |████▍                           | 184kB 24.8MB/s eta 0:00:01\r\u001b[K     |████▋                           | 194kB 24.8MB/s eta 0:00:01\r\u001b[K     |█████                           | 204kB 24.8MB/s eta 0:00:01\r\u001b[K     |█████▏                          | 215kB 24.8MB/s eta 0:00:01\r\u001b[K     |█████▍                          | 225kB 24.8MB/s eta 0:00:01\r\u001b[K     |█████▋                          | 235kB 24.8MB/s eta 0:00:01\r\u001b[K     |█████▉                          | 245kB 24.8MB/s eta 0:00:01\r\u001b[K     |██████▏                         | 256kB 24.8MB/s eta 0:00:01\r\u001b[K     |██████▍                         | 266kB 24.8MB/s eta 0:00:01\r\u001b[K     |██████▋                         | 276kB 24.8MB/s eta 0:00:01\r\u001b[K     |██████▉                         | 286kB 24.8MB/s eta 0:00:01\r\u001b[K     |███████▏                        | 296kB 24.8MB/s eta 0:00:01\r\u001b[K     |███████▍                        | 307kB 24.8MB/s eta 0:00:01\r\u001b[K     |███████▋                        | 317kB 24.8MB/s eta 0:00:01\r\u001b[K     |███████▉                        | 327kB 24.8MB/s eta 0:00:01\r\u001b[K     |████████                        | 337kB 24.8MB/s eta 0:00:01\r\u001b[K     |████████▍                       | 348kB 24.8MB/s eta 0:00:01\r\u001b[K     |████████▋                       | 358kB 24.8MB/s eta 0:00:01\r\u001b[K     |████████▉                       | 368kB 24.8MB/s eta 0:00:01\r\u001b[K     |█████████                       | 378kB 24.8MB/s eta 0:00:01\r\u001b[K     |█████████▎                      | 389kB 24.8MB/s eta 0:00:01\r\u001b[K     |█████████▋                      | 399kB 24.8MB/s eta 0:00:01\r\u001b[K     |█████████▉                      | 409kB 24.8MB/s eta 0:00:01\r\u001b[K     |██████████                      | 419kB 24.8MB/s eta 0:00:01\r\u001b[K     |██████████▎                     | 430kB 24.8MB/s eta 0:00:01\r\u001b[K     |██████████▌                     | 440kB 24.8MB/s eta 0:00:01\r\u001b[K     |██████████▉                     | 450kB 24.8MB/s eta 0:00:01\r\u001b[K     |███████████                     | 460kB 24.8MB/s eta 0:00:01\r\u001b[K     |███████████▎                    | 471kB 24.8MB/s eta 0:00:01\r\u001b[K     |███████████▌                    | 481kB 24.8MB/s eta 0:00:01\r\u001b[K     |███████████▊                    | 491kB 24.8MB/s eta 0:00:01\r\u001b[K     |████████████                    | 501kB 24.8MB/s eta 0:00:01\r\u001b[K     |████████████▎                   | 512kB 24.8MB/s eta 0:00:01\r\u001b[K     |████████████▌                   | 522kB 24.8MB/s eta 0:00:01\r\u001b[K     |████████████▊                   | 532kB 24.8MB/s eta 0:00:01\r\u001b[K     |█████████████                   | 542kB 24.8MB/s eta 0:00:01\r\u001b[K     |█████████████▎                  | 552kB 24.8MB/s eta 0:00:01\r\u001b[K     |█████████████▌                  | 563kB 24.8MB/s eta 0:00:01\r\u001b[K     |█████████████▊                  | 573kB 24.8MB/s eta 0:00:01\r\u001b[K     |██████████████                  | 583kB 24.8MB/s eta 0:00:01\r\u001b[K     |██████████████▎                 | 593kB 24.8MB/s eta 0:00:01\r\u001b[K     |██████████████▌                 | 604kB 24.8MB/s eta 0:00:01\r\u001b[K     |██████████████▊                 | 614kB 24.8MB/s eta 0:00:01\r\u001b[K     |███████████████                 | 624kB 24.8MB/s eta 0:00:01\r\u001b[K     |███████████████▏                | 634kB 24.8MB/s eta 0:00:01\r\u001b[K     |███████████████▌                | 645kB 24.8MB/s eta 0:00:01\r\u001b[K     |███████████████▊                | 655kB 24.8MB/s eta 0:00:01\r\u001b[K     |████████████████                | 665kB 24.8MB/s eta 0:00:01\r\u001b[K     |████████████████▏               | 675kB 24.8MB/s eta 0:00:01\r\u001b[K     |████████████████▍               | 686kB 24.8MB/s eta 0:00:01\r\u001b[K     |████████████████▊               | 696kB 24.8MB/s eta 0:00:01\r\u001b[K     |█████████████████               | 706kB 24.8MB/s eta 0:00:01\r\u001b[K     |█████████████████▏              | 716kB 24.8MB/s eta 0:00:01\r\u001b[K     |█████████████████▍              | 727kB 24.8MB/s eta 0:00:01\r\u001b[K     |█████████████████▋              | 737kB 24.8MB/s eta 0:00:01\r\u001b[K     |██████████████████              | 747kB 24.8MB/s eta 0:00:01\r\u001b[K     |██████████████████▏             | 757kB 24.8MB/s eta 0:00:01\r\u001b[K     |██████████████████▍             | 768kB 24.8MB/s eta 0:00:01\r\u001b[K     |██████████████████▋             | 778kB 24.8MB/s eta 0:00:01\r\u001b[K     |██████████████████▉             | 788kB 24.8MB/s eta 0:00:01\r\u001b[K     |███████████████████▏            | 798kB 24.8MB/s eta 0:00:01\r\u001b[K     |███████████████████▍            | 808kB 24.8MB/s eta 0:00:01\r\u001b[K     |███████████████████▋            | 819kB 24.8MB/s eta 0:00:01\r\u001b[K     |███████████████████▉            | 829kB 24.8MB/s eta 0:00:01\r\u001b[K     |████████████████████            | 839kB 24.8MB/s eta 0:00:01\r\u001b[K     |████████████████████▍           | 849kB 24.8MB/s eta 0:00:01\r\u001b[K     |████████████████████▋           | 860kB 24.8MB/s eta 0:00:01\r\u001b[K     |████████████████████▉           | 870kB 24.8MB/s eta 0:00:01\r\u001b[K     |█████████████████████           | 880kB 24.8MB/s eta 0:00:01\r\u001b[K     |█████████████████████▍          | 890kB 24.8MB/s eta 0:00:01\r\u001b[K     |█████████████████████▋          | 901kB 24.8MB/s eta 0:00:01\r\u001b[K     |█████████████████████▉          | 911kB 24.8MB/s eta 0:00:01\r\u001b[K     |██████████████████████          | 921kB 24.8MB/s eta 0:00:01\r\u001b[K     |██████████████████████▎         | 931kB 24.8MB/s eta 0:00:01\r\u001b[K     |██████████████████████▋         | 942kB 24.8MB/s eta 0:00:01\r\u001b[K     |██████████████████████▉         | 952kB 24.8MB/s eta 0:00:01\r\u001b[K     |███████████████████████         | 962kB 24.8MB/s eta 0:00:01\r\u001b[K     |███████████████████████▎        | 972kB 24.8MB/s eta 0:00:01\r\u001b[K     |███████████████████████▌        | 983kB 24.8MB/s eta 0:00:01\r\u001b[K     |███████████████████████▉        | 993kB 24.8MB/s eta 0:00:01\r\u001b[K     |████████████████████████        | 1.0MB 24.8MB/s eta 0:00:01\r\u001b[K     |████████████████████████▎       | 1.0MB 24.8MB/s eta 0:00:01\r\u001b[K     |████████████████████████▌       | 1.0MB 24.8MB/s eta 0:00:01\r\u001b[K     |████████████████████████▊       | 1.0MB 24.8MB/s eta 0:00:01\r\u001b[K     |█████████████████████████       | 1.0MB 24.8MB/s eta 0:00:01\r\u001b[K     |█████████████████████████▎      | 1.1MB 24.8MB/s eta 0:00:01\r\u001b[K     |█████████████████████████▌      | 1.1MB 24.8MB/s eta 0:00:01\r\u001b[K     |█████████████████████████▊      | 1.1MB 24.8MB/s eta 0:00:01\r\u001b[K     |██████████████████████████      | 1.1MB 24.8MB/s eta 0:00:01\r\u001b[K     |██████████████████████████▎     | 1.1MB 24.8MB/s eta 0:00:01\r\u001b[K     |██████████████████████████▌     | 1.1MB 24.8MB/s eta 0:00:01\r\u001b[K     |██████████████████████████▊     | 1.1MB 24.8MB/s eta 0:00:01\r\u001b[K     |███████████████████████████     | 1.1MB 24.8MB/s eta 0:00:01\r\u001b[K     |███████████████████████████▏    | 1.1MB 24.8MB/s eta 0:00:01\r\u001b[K     |███████████████████████████▌    | 1.1MB 24.8MB/s eta 0:00:01\r\u001b[K     |███████████████████████████▊    | 1.2MB 24.8MB/s eta 0:00:01\r\u001b[K     |████████████████████████████    | 1.2MB 24.8MB/s eta 0:00:01\r\u001b[K     |████████████████████████████▏   | 1.2MB 24.8MB/s eta 0:00:01\r\u001b[K     |████████████████████████████▌   | 1.2MB 24.8MB/s eta 0:00:01\r\u001b[K     |████████████████████████████▊   | 1.2MB 24.8MB/s eta 0:00:01\r\u001b[K     |█████████████████████████████   | 1.2MB 24.8MB/s eta 0:00:01\r\u001b[K     |█████████████████████████████▏  | 1.2MB 24.8MB/s eta 0:00:01\r\u001b[K     |█████████████████████████████▍  | 1.2MB 24.8MB/s eta 0:00:01\r\u001b[K     |█████████████████████████████▊  | 1.2MB 24.8MB/s eta 0:00:01\r\u001b[K     |██████████████████████████████  | 1.2MB 24.8MB/s eta 0:00:01\r\u001b[K     |██████████████████████████████▏ | 1.3MB 24.8MB/s eta 0:00:01\r\u001b[K     |██████████████████████████████▍ | 1.3MB 24.8MB/s eta 0:00:01\r\u001b[K     |██████████████████████████████▋ | 1.3MB 24.8MB/s eta 0:00:01\r\u001b[K     |███████████████████████████████ | 1.3MB 24.8MB/s eta 0:00:01\r\u001b[K     |███████████████████████████████▏| 1.3MB 24.8MB/s eta 0:00:01\r\u001b[K     |███████████████████████████████▍| 1.3MB 24.8MB/s eta 0:00:01\r\u001b[K     |███████████████████████████████▋| 1.3MB 24.8MB/s eta 0:00:01\r\u001b[K     |███████████████████████████████▉| 1.3MB 24.8MB/s eta 0:00:01\r\u001b[K     |████████████████████████████████| 1.3MB 24.8MB/s \n",
            "\u001b[?25hCollecting shortuuid>=0.5.0\n",
            "  Downloading https://files.pythonhosted.org/packages/80/d7/2bfc9332e68d3e15ea97b9b1588b3899ad565120253d3fd71c8f7f13b4fe/shortuuid-0.5.0.tar.gz\n",
            "Requirement already satisfied, skipping upgrade: psutil>=5.0.0 in /usr/local/lib/python3.6/dist-packages (from wandb) (5.4.8)\n",
            "Requirement already satisfied, skipping upgrade: six>=1.10.0 in /usr/local/lib/python3.6/dist-packages (from wandb) (1.12.0)\n",
            "Collecting sentry-sdk>=0.4.0\n",
            "\u001b[?25l  Downloading https://files.pythonhosted.org/packages/b4/48/a38ff26af174ef2d03c5754c93b7a18818951734fdaa53bf3c2b80e497e7/sentry_sdk-0.13.5-py2.py3-none-any.whl (91kB)\n",
            "\u001b[K     |████████████████████████████████| 92kB 12.4MB/s \n",
            "\u001b[?25hRequirement already satisfied, skipping upgrade: nvidia-ml-py3>=7.352.0 in /usr/local/lib/python3.6/dist-packages (from wandb) (7.352.0)\n",
            "Collecting docker-pycreds>=0.4.0\n",
            "  Downloading https://files.pythonhosted.org/packages/f5/e8/f6bd1eee09314e7e6dee49cbe2c5e22314ccdb38db16c9fc72d2fa80d054/docker_pycreds-0.4.0-py2.py3-none-any.whl\n",
            "Requirement already satisfied, skipping upgrade: requests>=2.0.0 in /usr/local/lib/python3.6/dist-packages (from wandb) (2.21.0)\n",
            "Requirement already satisfied, skipping upgrade: Click>=7.0 in /usr/local/lib/python3.6/dist-packages (from wandb) (7.0)\n",
            "Collecting configparser>=3.8.1\n",
            "  Downloading https://files.pythonhosted.org/packages/7a/2a/95ed0501cf5d8709490b1d3a3f9b5cf340da6c433f896bbe9ce08dbe6785/configparser-4.0.2-py2.py3-none-any.whl\n",
            "Collecting graphql-core<3.0.0\n",
            "\u001b[?25l  Downloading https://files.pythonhosted.org/packages/6a/11/bc4a7eb440124271289d93e4d208bd07d94196038fabbe2a52435a07d3d3/graphql_core-2.2.1-py2.py3-none-any.whl (250kB)\n",
            "\u001b[K     |████████████████████████████████| 256kB 56.2MB/s \n",
            "\u001b[?25hCollecting GitPython>=1.0.0\n",
            "\u001b[?25l  Downloading https://files.pythonhosted.org/packages/20/8c/4543981439d23c4ff65b2e62dddd767ebc84a8e664a9b67e840d1e2730d3/GitPython-3.0.5-py3-none-any.whl (455kB)\n",
            "\u001b[K     |████████████████████████████████| 460kB 62.5MB/s \n",
            "\u001b[?25hCollecting watchdog>=0.8.3\n",
            "\u001b[?25l  Downloading https://files.pythonhosted.org/packages/bb/e3/5a55d48a29300160779f0a0d2776d17c1b762a2039b36de528b093b87d5b/watchdog-0.9.0.tar.gz (85kB)\n",
            "\u001b[K     |████████████████████████████████| 92kB 14.6MB/s \n",
            "\u001b[?25hCollecting gql>=0.1.0\n",
            "  Downloading https://files.pythonhosted.org/packages/aa/9c/2933b7791210e00f5c26a6243198cc03af9132c29cf85e4c22cb007f171e/gql-0.1.0.tar.gz\n",
            "Requirement already satisfied, skipping upgrade: python-dateutil>=2.6.1 in /usr/local/lib/python3.6/dist-packages (from wandb) (2.6.1)\n",
            "Collecting subprocess32>=3.5.3\n",
            "\u001b[?25l  Downloading https://files.pythonhosted.org/packages/32/c8/564be4d12629b912ea431f1a50eb8b3b9d00f1a0b1ceff17f266be190007/subprocess32-3.5.4.tar.gz (97kB)\n",
            "\u001b[K     |████████████████████████████████| 102kB 15.0MB/s \n",
            "\u001b[?25hRequirement already satisfied, skipping upgrade: certifi in /usr/local/lib/python3.6/dist-packages (from sentry-sdk>=0.4.0->wandb) (2019.11.28)\n",
            "Requirement already satisfied, skipping upgrade: urllib3>=1.10.0 in /usr/local/lib/python3.6/dist-packages (from sentry-sdk>=0.4.0->wandb) (1.24.3)\n",
            "Requirement already satisfied, skipping upgrade: chardet<3.1.0,>=3.0.2 in /usr/local/lib/python3.6/dist-packages (from requests>=2.0.0->wandb) (3.0.4)\n",
            "Requirement already satisfied, skipping upgrade: idna<2.9,>=2.5 in /usr/local/lib/python3.6/dist-packages (from requests>=2.0.0->wandb) (2.8)\n",
            "Requirement already satisfied, skipping upgrade: promise>=2.1 in /usr/local/lib/python3.6/dist-packages (from graphql-core<3.0.0->wandb) (2.2.1)\n",
            "Collecting rx<3,>=1.6\n",
            "\u001b[?25l  Downloading https://files.pythonhosted.org/packages/33/0f/5ef4ac78e2a538cc1b054eb86285fe0bf7a5dbaeaac2c584757c300515e2/Rx-1.6.1-py2.py3-none-any.whl (179kB)\n",
            "\u001b[K     |████████████████████████████████| 184kB 46.1MB/s \n",
            "\u001b[?25hCollecting gitdb2>=2.0.0\n",
            "\u001b[?25l  Downloading https://files.pythonhosted.org/packages/03/6c/99296f89bad2ef85626e1df9f677acbee8885bb043ad82ad3ed4746d2325/gitdb2-2.0.6-py2.py3-none-any.whl (63kB)\n",
            "\u001b[K     |████████████████████████████████| 71kB 11.9MB/s \n",
            "\u001b[?25hRequirement already satisfied, skipping upgrade: PyYAML>=3.10 in /usr/local/lib/python3.6/dist-packages (from watchdog>=0.8.3->wandb) (3.13)\n",
            "Collecting argh>=0.24.1\n",
            "  Downloading https://files.pythonhosted.org/packages/06/1c/e667a7126f0b84aaa1c56844337bf0ac12445d1beb9c8a6199a7314944bf/argh-0.26.2-py2.py3-none-any.whl\n",
            "Collecting pathtools>=0.1.1\n",
            "  Downloading https://files.pythonhosted.org/packages/e7/7f/470d6fcdf23f9f3518f6b0b76be9df16dcc8630ad409947f8be2eb0ed13a/pathtools-0.1.2.tar.gz\n",
            "Collecting smmap2>=2.0.0\n",
            "  Downloading https://files.pythonhosted.org/packages/55/d2/866d45e3a121ee15a1dc013824d58072fd5c7799c9c34d01378eb262ca8f/smmap2-2.0.5-py2.py3-none-any.whl\n",
            "Building wheels for collected packages: shortuuid, watchdog, gql, subprocess32, pathtools\n",
            "  Building wheel for shortuuid (setup.py) ... \u001b[?25l\u001b[?25hdone\n",
            "  Created wheel for shortuuid: filename=shortuuid-0.5.0-cp36-none-any.whl size=5499 sha256=4fe5c0967fcf8cb40a64901035b89e0eab2fb13f5e8fa4519e8cb62457fc5a94\n",
            "  Stored in directory: /root/.cache/pip/wheels/3f/eb/fd/69e5177f67b505e44acbd1aedfbe44b91768ee0c4cd5636576\n",
            "  Building wheel for watchdog (setup.py) ... \u001b[?25l\u001b[?25hdone\n",
            "  Created wheel for watchdog: filename=watchdog-0.9.0-cp36-none-any.whl size=73652 sha256=e2ad26d2af2bb42383698513dac8d35ec8b3babaadd9ab938b8e7793e42d26f8\n",
            "  Stored in directory: /root/.cache/pip/wheels/61/1d/d0/04cfe495619be2095eb8d89a31c42adb4e42b76495bc8f784c\n",
            "  Building wheel for gql (setup.py) ... \u001b[?25l\u001b[?25hdone\n",
            "  Created wheel for gql: filename=gql-0.1.0-cp36-none-any.whl size=5541 sha256=237bc69ab3029d6bad6fd393df4bceed1d6446cb889e224b4aead6ab3a39d35a\n",
            "  Stored in directory: /root/.cache/pip/wheels/a7/8d/65/a3247f500d675d80a01e4d2f0ee44fe99f1faef575bc2a1664\n",
            "  Building wheel for subprocess32 (setup.py) ... \u001b[?25l\u001b[?25hdone\n",
            "  Created wheel for subprocess32: filename=subprocess32-3.5.4-cp36-none-any.whl size=6489 sha256=baf39664546c1e7f55ed1bba9ae31fd7a282d0bf77bad3ccf2557dadef33ea13\n",
            "  Stored in directory: /root/.cache/pip/wheels/68/39/1a/5e402bdfdf004af1786c8b853fd92f8c4a04f22aad179654d1\n",
            "  Building wheel for pathtools (setup.py) ... \u001b[?25l\u001b[?25hdone\n",
            "  Created wheel for pathtools: filename=pathtools-0.1.2-cp36-none-any.whl size=8786 sha256=537887cf8f1df1acfe1acb635f5faeac7b4e6f3955dcedadb40ec8f2a6375bfc\n",
            "  Stored in directory: /root/.cache/pip/wheels/0b/04/79/c3b0c3a0266a3cb4376da31e5bfe8bba0c489246968a68e843\n",
            "Successfully built shortuuid watchdog gql subprocess32 pathtools\n",
            "Installing collected packages: shortuuid, sentry-sdk, docker-pycreds, configparser, rx, graphql-core, smmap2, gitdb2, GitPython, argh, pathtools, watchdog, gql, subprocess32, wandb\n",
            "Successfully installed GitPython-3.0.5 argh-0.26.2 configparser-4.0.2 docker-pycreds-0.4.0 gitdb2-2.0.6 gql-0.1.0 graphql-core-2.2.1 pathtools-0.1.2 rx-1.6.1 sentry-sdk-0.13.5 shortuuid-0.5.0 smmap2-2.0.5 subprocess32-3.5.4 wandb-0.8.18 watchdog-0.9.0\n"
          ],
          "name": "stdout"
        }
      ]
    },
    {
      "cell_type": "code",
      "metadata": {
        "id": "Tojgos6tDn35",
        "colab_type": "code",
        "colab": {
          "base_uri": "https://localhost:8080/",
          "height": 50
        },
        "outputId": "094e870a-7021-4f7f-b787-f6fcc151f41b"
      },
      "source": [
        "!wandb login 46c02f2598d6b20efbf9a0ea2d6c3541debfbfe6"
      ],
      "execution_count": 3,
      "outputs": [
        {
          "output_type": "stream",
          "text": [
            "\u001b[34m\u001b[1mwandb\u001b[0m: Appending key for api.wandb.ai to your netrc file: /root/.netrc\n",
            "\u001b[32mSuccessfully logged in to Weights & Biases!\u001b[0m\n"
          ],
          "name": "stdout"
        }
      ]
    },
    {
      "cell_type": "code",
      "metadata": {
        "id": "mFK-blWS-aBc",
        "colab_type": "code",
        "colab": {
          "base_uri": "https://localhost:8080/",
          "height": 67
        },
        "outputId": "68c215d2-637d-4bd6-bb05-c873cf59abb7"
      },
      "source": [
        "from tensorflow.keras.layers import Input, Dense\n",
        "from tensorflow.keras.models import Model\n",
        "import wandb\n",
        "from wandb.keras import WandbCallback\n",
        "\n",
        "# this is the size of our encoded representations\n",
        "encoding_dim = 32  # 32 floats -> compression of factor 24.5, assuming the input is 784 floats\n",
        "\n",
        "# this is our input placeholder\n",
        "input_img = Input(shape=(784,))\n",
        "\n",
        "# \"encoded\" is the encoded representation of the input\n",
        "encoded = Dense(encoding_dim, activation='relu')(input_img)\n",
        "\n",
        "# \"decoded\" is the lossy reconstruction of the input\n",
        "decoded = Dense(784, activation='sigmoid')(encoded)\n",
        "\n",
        "# this model maps an input to its reconstruction\n",
        "autoencoder = Model(input_img, decoded)"
      ],
      "execution_count": 4,
      "outputs": [
        {
          "output_type": "stream",
          "text": [
            "WARNING:tensorflow:From /usr/local/lib/python3.6/dist-packages/tensorflow_core/python/ops/resource_variable_ops.py:1630: calling BaseResourceVariable.__init__ (from tensorflow.python.ops.resource_variable_ops) with constraint is deprecated and will be removed in a future version.\n",
            "Instructions for updating:\n",
            "If using Keras pass *_constraint arguments to layers.\n"
          ],
          "name": "stdout"
        }
      ]
    },
    {
      "cell_type": "code",
      "metadata": {
        "id": "_v60B54M-aBe",
        "colab_type": "code",
        "colab": {}
      },
      "source": [
        "# this model maps an input to its encoded representation\n",
        "encoder = Model(input_img, encoded)"
      ],
      "execution_count": 0,
      "outputs": []
    },
    {
      "cell_type": "code",
      "metadata": {
        "id": "B8I8DVqb-aBg",
        "colab_type": "code",
        "colab": {}
      },
      "source": [
        "# create a placeholder for an encoded (32-dimensional) input\n",
        "encoded_input = Input(shape=(encoding_dim,))\n",
        "\n",
        "# retrieve the last layer of the autoencoder model\n",
        "decoder_layer = autoencoder.layers[-1]\n",
        "\n",
        "# create the decoder model\n",
        "decoder = Model(encoded_input, decoder_layer(encoded_input))"
      ],
      "execution_count": 0,
      "outputs": []
    },
    {
      "cell_type": "code",
      "metadata": {
        "id": "Qi8bskpV-aBi",
        "colab_type": "code",
        "colab": {
          "base_uri": "https://localhost:8080/",
          "height": 67
        },
        "outputId": "dd533aa3-4ff8-471d-b0dc-b3e92e10b70e"
      },
      "source": [
        "autoencoder.compile(optimizer='adadelta', loss='binary_crossentropy')"
      ],
      "execution_count": 7,
      "outputs": [
        {
          "output_type": "stream",
          "text": [
            "WARNING:tensorflow:From /usr/local/lib/python3.6/dist-packages/tensorflow_core/python/ops/nn_impl.py:183: where (from tensorflow.python.ops.array_ops) is deprecated and will be removed in a future version.\n",
            "Instructions for updating:\n",
            "Use tf.where in 2.0, which has the same broadcast rule as np.where\n"
          ],
          "name": "stdout"
        }
      ]
    },
    {
      "cell_type": "code",
      "metadata": {
        "id": "2oLEYI87-aBk",
        "colab_type": "code",
        "colab": {
          "base_uri": "https://localhost:8080/",
          "height": 50
        },
        "outputId": "996c7822-4b71-4859-8dab-898a62b471d4"
      },
      "source": [
        "from tensorflow.keras.datasets import mnist\n",
        "import numpy as np\n",
        "(x_train, _), (x_test, _) = mnist.load_data()"
      ],
      "execution_count": 8,
      "outputs": [
        {
          "output_type": "stream",
          "text": [
            "Downloading data from https://storage.googleapis.com/tensorflow/tf-keras-datasets/mnist.npz\n",
            "11493376/11490434 [==============================] - 1s 0us/step\n"
          ],
          "name": "stdout"
        }
      ]
    },
    {
      "cell_type": "code",
      "metadata": {
        "id": "r_xWby0_-aBm",
        "colab_type": "code",
        "outputId": "6159f52f-596a-4787-a85a-a7f4c2583c9b",
        "colab": {
          "base_uri": "https://localhost:8080/",
          "height": 50
        }
      },
      "source": [
        "x_train = x_train.astype('float32') / 255.\n",
        "x_test = x_test.astype('float32') / 255.\n",
        "x_train = x_train.reshape((len(x_train), np.prod(x_train.shape[1:])))\n",
        "x_test = x_test.reshape((len(x_test), np.prod(x_test.shape[1:])))\n",
        "print(x_train.shape)\n",
        "print(x_test.shape)"
      ],
      "execution_count": 9,
      "outputs": [
        {
          "output_type": "stream",
          "text": [
            "(60000, 784)\n",
            "(10000, 784)\n"
          ],
          "name": "stdout"
        }
      ]
    },
    {
      "cell_type": "code",
      "metadata": {
        "id": "TLNc9H24-aBp",
        "colab_type": "code",
        "outputId": "32cbe07b-398f-4c99-d4e3-dd31c6b14e10",
        "colab": {
          "base_uri": "https://localhost:8080/",
          "height": 84
        }
      },
      "source": [
        "wandb.init(project=\"autoencoder\", entity=\"ds8\")\n",
        "\n",
        "autoencoder.fit(x_train, x_train,\n",
        "                epochs=500,\n",
        "                batch_size=256,\n",
        "                shuffle=True,\n",
        "                validation_data=(x_test, x_test),\n",
        "                verbose = False,\n",
        "                callbacks=[WandbCallback()])"
      ],
      "execution_count": 11,
      "outputs": [
        {
          "output_type": "display_data",
          "data": {
            "text/html": [
              "\n",
              "                Logging results to <a href=\"https://wandb.com\" target=\"_blank\">Weights & Biases</a> <a href=\"https://docs.wandb.com/integrations/jupyter.html\" target=\"_blank\">(Documentation)</a>.<br/>\n",
              "                Project page: <a href=\"https://app.wandb.ai/ds8/autoencoder\" target=\"_blank\">https://app.wandb.ai/ds8/autoencoder</a><br/>\n",
              "                Run page: <a href=\"https://app.wandb.ai/ds8/autoencoder/runs/574qqgae\" target=\"_blank\">https://app.wandb.ai/ds8/autoencoder/runs/574qqgae</a><br/>\n",
              "            "
            ],
            "text/plain": [
              "<IPython.core.display.HTML object>"
            ]
          },
          "metadata": {
            "tags": []
          }
        },
        {
          "output_type": "execute_result",
          "data": {
            "text/plain": [
              "<tensorflow.python.keras.callbacks.History at 0x7f487349c630>"
            ]
          },
          "metadata": {
            "tags": []
          },
          "execution_count": 11
        }
      ]
    },
    {
      "cell_type": "code",
      "metadata": {
        "id": "qjuQ2M-e-aBr",
        "colab_type": "code",
        "colab": {}
      },
      "source": [
        "# encode and decode some digits\n",
        "# note that we take them from the *test* set\n",
        "\n",
        "encoded_imgs = encoder.predict(x_test)\n",
        "decoded_imgs = decoder.predict(encoded_imgs)"
      ],
      "execution_count": 0,
      "outputs": []
    },
    {
      "cell_type": "code",
      "metadata": {
        "id": "CZ-8OmYk-aBs",
        "colab_type": "code",
        "outputId": "e5662138-683a-4625-d41b-86d36fb43b3b",
        "colab": {
          "base_uri": "https://localhost:8080/",
          "height": 248
        }
      },
      "source": [
        "# use Matplotlib (don't ask)\n",
        "import matplotlib.pyplot as plt\n",
        "\n",
        "n = 10  # how many digits we will display\n",
        "plt.figure(figsize=(20, 4))\n",
        "for i in range(n):\n",
        "    # display original\n",
        "    ax = plt.subplot(2, n, i + 1)\n",
        "    plt.imshow(x_test[i].reshape(28, 28))\n",
        "    plt.gray()\n",
        "    ax.get_xaxis().set_visible(False)\n",
        "    ax.get_yaxis().set_visible(False)\n",
        "\n",
        "    # display reconstruction\n",
        "    ax = plt.subplot(2, n, i + 1 + n)\n",
        "    plt.imshow(decoded_imgs[i].reshape(28, 28))\n",
        "    plt.gray()\n",
        "    ax.get_xaxis().set_visible(False)\n",
        "    ax.get_yaxis().set_visible(False)\n",
        "plt.show()"
      ],
      "execution_count": 14,
      "outputs": [
        {
          "output_type": "display_data",
          "data": {
            "image/png": "[encoded data removed]",
            "text/plain": [
              "<Figure size 1440x288 with 20 Axes>"
            ]
          },
          "metadata": {
            "tags": []
          }
        }
      ]
    },
    {
      "cell_type": "markdown",
      "metadata": {
        "id": "3IzyIARE-aBu",
        "colab_type": "text"
      },
      "source": [
        "## Challenge\n",
        "\n",
        "Expected to talk about the components of autoencoder and their purpose. "
      ]
    },
    {
      "cell_type": "markdown",
      "metadata": {
        "id": "4TQqQZBB-aBv",
        "colab_type": "text"
      },
      "source": [
        "# Train an Autoencoder (Learn)\n",
        "<a id=\"p2\"></a>"
      ]
    },
    {
      "cell_type": "markdown",
      "metadata": {
        "id": "XhlgAdas-aBv",
        "colab_type": "text"
      },
      "source": [
        "## Overview\n",
        "\n",
        "As long as our architecture maintains an hourglass shape, we can continue to add layers and create a deeper network. "
      ]
    },
    {
      "cell_type": "markdown",
      "metadata": {
        "toc-hr-collapsed": true,
        "id": "GRxNZmgz-aBw",
        "colab_type": "text"
      },
      "source": [
        "## Follow Along"
      ]
    },
    {
      "cell_type": "markdown",
      "metadata": {
        "id": "tXXj1ZPD-aBx",
        "colab_type": "text"
      },
      "source": [
        "### Deep Autoencoder"
      ]
    },
    {
      "cell_type": "code",
      "metadata": {
        "id": "wgjbcZZY-aBx",
        "colab_type": "code",
        "colab": {}
      },
      "source": [
        "input_img = Input(shape=(784,))\n",
        "\n",
        "encoded = Dense(128, activation='relu')(input_img)\n",
        "encoded = Dense(64, activation='relu')(encoded)\n",
        "encoded = Dense(32, activation='relu')(encoded) #dry strawberry\n",
        "\n",
        "decoded = Dense(64, activation='relu')(encoded)\n",
        "decoded = Dense(128, activation='relu')(decoded)\n",
        "decoded = Dense(784, activation='sigmoid')(decoded)"
      ],
      "execution_count": 0,
      "outputs": []
    },
    {
      "cell_type": "code",
      "metadata": {
        "id": "7n4-PPF2-aBz",
        "colab_type": "code",
        "colab": {
          "base_uri": "https://localhost:8080/",
          "height": 1000
        },
        "outputId": "e6c7bd29-3b44-4fb2-9f1e-88a6b2d59fee"
      },
      "source": [
        "# compile & fit model\n",
        "\n",
        "autoencoder = Model(input_img, decoded)\n",
        "\n",
        "autoencoder.compile(loss='binary_crossentropy',\n",
        "                    optimizer='nadam')\n",
        "\n",
        "autoencoder.fit(x_train, x_train,\n",
        "                epochs = 500,\n",
        "                batch_size=256,\n",
        "                shuffle=True,\n",
        "                validation_data=(x_test,x_test),\n",
        "                verbose=True,\n",
        "                callbacks=[WandbCallback()])"
      ],
      "execution_count": 17,
      "outputs": [
        {
          "output_type": "stream",
          "text": [
            "Train on 60000 samples, validate on 10000 samples\n",
            "Epoch 1/500\n",
            "WARNING:tensorflow:Method (on_train_batch_end) is slow compared to the batch update (2.482962). Check your callbacks.\n",
            "  256/60000 [..............................] - ETA: 10:55 - loss: 0.1147WARNING:tensorflow:Method (on_train_batch_end) is slow compared to the batch update (1.241494). Check your callbacks.\n",
            "60000/60000 [==============================] - 4s 70us/sample - loss: 0.1138 - val_loss: 0.1096\n",
            "Epoch 2/500\n",
            "60000/60000 [==============================] - 1s 19us/sample - loss: 0.1114 - val_loss: 0.1102\n",
            "Epoch 3/500\n",
            "60000/60000 [==============================] - 1s 20us/sample - loss: 0.1091 - val_loss: 0.1090\n",
            "Epoch 4/500\n",
            "60000/60000 [==============================] - 1s 21us/sample - loss: 0.1071 - val_loss: 0.1038\n",
            "Epoch 5/500\n",
            "60000/60000 [==============================] - 1s 19us/sample - loss: 0.1054 - val_loss: 0.1043\n",
            "Epoch 6/500\n",
            "60000/60000 [==============================] - 1s 20us/sample - loss: 0.1037 - val_loss: 0.1011\n",
            "Epoch 7/500\n",
            "60000/60000 [==============================] - 1s 20us/sample - loss: 0.1022 - val_loss: 0.1002\n",
            "Epoch 8/500\n",
            "60000/60000 [==============================] - 1s 20us/sample - loss: 0.1010 - val_loss: 0.0992\n",
            "Epoch 9/500\n",
            "60000/60000 [==============================] - 1s 19us/sample - loss: 0.0997 - val_loss: 0.1005\n",
            "Epoch 10/500\n",
            "60000/60000 [==============================] - 1s 19us/sample - loss: 0.0987 - val_loss: 0.0989\n",
            "Epoch 11/500\n",
            "60000/60000 [==============================] - 1s 20us/sample - loss: 0.0977 - val_loss: 0.0984\n",
            "Epoch 12/500\n",
            "60000/60000 [==============================] - 1s 20us/sample - loss: 0.0967 - val_loss: 0.0962\n",
            "Epoch 13/500\n",
            "60000/60000 [==============================] - 1s 20us/sample - loss: 0.0960 - val_loss: 0.0949\n",
            "Epoch 14/500\n",
            "60000/60000 [==============================] - 1s 20us/sample - loss: 0.0953 - val_loss: 0.0945\n",
            "Epoch 15/500\n",
            "60000/60000 [==============================] - 1s 20us/sample - loss: 0.0945 - val_loss: 0.0944\n",
            "Epoch 16/500\n",
            "60000/60000 [==============================] - 1s 21us/sample - loss: 0.0938 - val_loss: 0.0933\n",
            "Epoch 17/500\n",
            "60000/60000 [==============================] - 1s 19us/sample - loss: 0.0932 - val_loss: 0.0935\n",
            "Epoch 18/500\n",
            "60000/60000 [==============================] - 1s 19us/sample - loss: 0.0925 - val_loss: 0.0918\n",
            "Epoch 19/500\n",
            "60000/60000 [==============================] - 1s 19us/sample - loss: 0.0920 - val_loss: 0.0907\n",
            "Epoch 20/500\n",
            "60000/60000 [==============================] - 1s 19us/sample - loss: 0.0915 - val_loss: 0.0923\n",
            "Epoch 21/500\n",
            "60000/60000 [==============================] - 1s 19us/sample - loss: 0.0910 - val_loss: 0.0907\n",
            "Epoch 22/500\n",
            "60000/60000 [==============================] - 1s 20us/sample - loss: 0.0904 - val_loss: 0.0903\n",
            "Epoch 23/500\n",
            "60000/60000 [==============================] - 1s 20us/sample - loss: 0.0900 - val_loss: 0.0901\n",
            "Epoch 24/500\n",
            "60000/60000 [==============================] - 1s 21us/sample - loss: 0.0895 - val_loss: 0.0888\n",
            "Epoch 25/500\n",
            "60000/60000 [==============================] - 1s 21us/sample - loss: 0.0891 - val_loss: 0.0875\n",
            "Epoch 26/500\n",
            "60000/60000 [==============================] - 1s 20us/sample - loss: 0.0887 - val_loss: 0.0897\n",
            "Epoch 27/500\n",
            "60000/60000 [==============================] - 1s 20us/sample - loss: 0.0883 - val_loss: 0.0873\n",
            "Epoch 28/500\n",
            "60000/60000 [==============================] - 1s 20us/sample - loss: 0.0879 - val_loss: 0.0865\n",
            "Epoch 29/500\n",
            "60000/60000 [==============================] - 1s 21us/sample - loss: 0.0875 - val_loss: 0.0870\n",
            "Epoch 30/500\n",
            "60000/60000 [==============================] - 1s 21us/sample - loss: 0.0872 - val_loss: 0.0863\n",
            "Epoch 31/500\n",
            "60000/60000 [==============================] - 1s 20us/sample - loss: 0.0868 - val_loss: 0.0864\n",
            "Epoch 32/500\n",
            "60000/60000 [==============================] - 1s 21us/sample - loss: 0.0865 - val_loss: 0.0862\n",
            "Epoch 33/500\n",
            "60000/60000 [==============================] - 1s 20us/sample - loss: 0.0862 - val_loss: 0.0868\n",
            "Epoch 34/500\n",
            "60000/60000 [==============================] - 1s 20us/sample - loss: 0.0859 - val_loss: 0.0862\n",
            "Epoch 35/500\n",
            "60000/60000 [==============================] - 1s 21us/sample - loss: 0.0857 - val_loss: 0.0854\n",
            "Epoch 36/500\n",
            "60000/60000 [==============================] - 1s 20us/sample - loss: 0.0854 - val_loss: 0.0853\n",
            "Epoch 37/500\n",
            "60000/60000 [==============================] - 1s 20us/sample - loss: 0.0852 - val_loss: 0.0841\n",
            "Epoch 38/500\n",
            "60000/60000 [==============================] - 1s 21us/sample - loss: 0.0848 - val_loss: 0.0846\n",
            "Epoch 39/500\n",
            "60000/60000 [==============================] - 1s 19us/sample - loss: 0.0847 - val_loss: 0.0850\n",
            "Epoch 40/500\n",
            "60000/60000 [==============================] - 1s 20us/sample - loss: 0.0844 - val_loss: 0.0862\n",
            "Epoch 41/500\n",
            "60000/60000 [==============================] - 1s 19us/sample - loss: 0.0842 - val_loss: 0.0847\n",
            "Epoch 42/500\n",
            "60000/60000 [==============================] - 1s 20us/sample - loss: 0.0840 - val_loss: 0.0833\n",
            "Epoch 43/500\n",
            "60000/60000 [==============================] - 1s 20us/sample - loss: 0.0837 - val_loss: 0.0831\n",
            "Epoch 44/500\n",
            "60000/60000 [==============================] - 1s 19us/sample - loss: 0.0836 - val_loss: 0.0851\n",
            "Epoch 45/500\n",
            "60000/60000 [==============================] - 1s 20us/sample - loss: 0.0834 - val_loss: 0.0827\n",
            "Epoch 46/500\n",
            "60000/60000 [==============================] - 1s 20us/sample - loss: 0.0831 - val_loss: 0.0830\n",
            "Epoch 47/500\n",
            "60000/60000 [==============================] - 1s 20us/sample - loss: 0.0829 - val_loss: 0.0826\n",
            "Epoch 48/500\n",
            "60000/60000 [==============================] - 1s 19us/sample - loss: 0.0827 - val_loss: 0.0827\n",
            "Epoch 49/500\n",
            "60000/60000 [==============================] - 1s 20us/sample - loss: 0.0826 - val_loss: 0.0822\n",
            "Epoch 50/500\n",
            "60000/60000 [==============================] - 1s 19us/sample - loss: 0.0823 - val_loss: 0.0825\n",
            "Epoch 51/500\n",
            "60000/60000 [==============================] - 1s 20us/sample - loss: 0.0822 - val_loss: 0.0820\n",
            "Epoch 52/500\n",
            "60000/60000 [==============================] - 1s 20us/sample - loss: 0.0820 - val_loss: 0.0825\n",
            "Epoch 53/500\n",
            "60000/60000 [==============================] - 1s 20us/sample - loss: 0.0818 - val_loss: 0.0816\n",
            "Epoch 54/500\n",
            "60000/60000 [==============================] - 1s 21us/sample - loss: 0.0816 - val_loss: 0.0813\n",
            "Epoch 55/500\n",
            "60000/60000 [==============================] - 1s 20us/sample - loss: 0.0815 - val_loss: 0.0810\n",
            "Epoch 56/500\n",
            "60000/60000 [==============================] - 1s 20us/sample - loss: 0.0813 - val_loss: 0.0815\n",
            "Epoch 57/500\n",
            "60000/60000 [==============================] - 1s 19us/sample - loss: 0.0812 - val_loss: 0.0811\n",
            "Epoch 58/500\n",
            "60000/60000 [==============================] - 1s 20us/sample - loss: 0.0810 - val_loss: 0.0816\n",
            "Epoch 59/500\n",
            "60000/60000 [==============================] - 1s 20us/sample - loss: 0.0809 - val_loss: 0.0810\n",
            "Epoch 60/500\n",
            "60000/60000 [==============================] - 1s 20us/sample - loss: 0.0807 - val_loss: 0.0804\n",
            "Epoch 61/500\n",
            "60000/60000 [==============================] - 1s 20us/sample - loss: 0.0806 - val_loss: 0.0801\n",
            "Epoch 62/500\n",
            "60000/60000 [==============================] - 1s 20us/sample - loss: 0.0805 - val_loss: 0.0805\n",
            "Epoch 63/500\n",
            "60000/60000 [==============================] - 1s 20us/sample - loss: 0.0803 - val_loss: 0.0808\n",
            "Epoch 64/500\n",
            "60000/60000 [==============================] - 1s 20us/sample - loss: 0.0803 - val_loss: 0.0807\n",
            "Epoch 65/500\n",
            "60000/60000 [==============================] - 1s 20us/sample - loss: 0.0801 - val_loss: 0.0796\n",
            "Epoch 66/500\n",
            "60000/60000 [==============================] - 1s 20us/sample - loss: 0.0800 - val_loss: 0.0805\n",
            "Epoch 67/500\n",
            "60000/60000 [==============================] - 1s 19us/sample - loss: 0.0799 - val_loss: 0.0797\n",
            "Epoch 68/500\n",
            "60000/60000 [==============================] - 1s 20us/sample - loss: 0.0797 - val_loss: 0.0796\n",
            "Epoch 69/500\n",
            "60000/60000 [==============================] - 1s 19us/sample - loss: 0.0797 - val_loss: 0.0803\n",
            "Epoch 70/500\n",
            "60000/60000 [==============================] - 1s 20us/sample - loss: 0.0796 - val_loss: 0.0795\n",
            "Epoch 71/500\n",
            "60000/60000 [==============================] - 1s 20us/sample - loss: 0.0794 - val_loss: 0.0794\n",
            "Epoch 72/500\n",
            "60000/60000 [==============================] - 1s 20us/sample - loss: 0.0793 - val_loss: 0.0792\n",
            "Epoch 73/500\n",
            "60000/60000 [==============================] - 1s 20us/sample - loss: 0.0792 - val_loss: 0.0795\n",
            "Epoch 74/500\n",
            "60000/60000 [==============================] - 1s 20us/sample - loss: 0.0792 - val_loss: 0.0790\n",
            "Epoch 75/500\n",
            "60000/60000 [==============================] - 1s 20us/sample - loss: 0.0791 - val_loss: 0.0796\n",
            "Epoch 76/500\n",
            "60000/60000 [==============================] - 1s 19us/sample - loss: 0.0790 - val_loss: 0.0793\n",
            "Epoch 77/500\n",
            "60000/60000 [==============================] - 1s 20us/sample - loss: 0.0789 - val_loss: 0.0787\n",
            "Epoch 78/500\n",
            "60000/60000 [==============================] - 1s 19us/sample - loss: 0.0788 - val_loss: 0.0788\n",
            "Epoch 79/500\n",
            "60000/60000 [==============================] - 1s 20us/sample - loss: 0.0788 - val_loss: 0.0788\n",
            "Epoch 80/500\n",
            "60000/60000 [==============================] - 1s 20us/sample - loss: 0.0787 - val_loss: 0.0785\n",
            "Epoch 81/500\n",
            "60000/60000 [==============================] - 1s 19us/sample - loss: 0.0786 - val_loss: 0.0788\n",
            "Epoch 82/500\n",
            "60000/60000 [==============================] - 1s 19us/sample - loss: 0.0786 - val_loss: 0.0787\n",
            "Epoch 83/500\n",
            "60000/60000 [==============================] - 1s 19us/sample - loss: 0.0785 - val_loss: 0.0787\n",
            "Epoch 84/500\n",
            "60000/60000 [==============================] - 1s 20us/sample - loss: 0.0785 - val_loss: 0.0786\n",
            "Epoch 85/500\n",
            "60000/60000 [==============================] - 1s 21us/sample - loss: 0.0784 - val_loss: 0.0783\n",
            "Epoch 86/500\n",
            "60000/60000 [==============================] - 1s 21us/sample - loss: 0.0783 - val_loss: 0.0782\n",
            "Epoch 87/500\n",
            "60000/60000 [==============================] - 1s 20us/sample - loss: 0.0783 - val_loss: 0.0787\n",
            "Epoch 88/500\n",
            "60000/60000 [==============================] - 1s 20us/sample - loss: 0.0782 - val_loss: 0.0785\n",
            "Epoch 89/500\n",
            "60000/60000 [==============================] - 1s 19us/sample - loss: 0.0782 - val_loss: 0.0783\n",
            "Epoch 90/500\n",
            "60000/60000 [==============================] - 1s 20us/sample - loss: 0.0781 - val_loss: 0.0785\n",
            "Epoch 91/500\n",
            "60000/60000 [==============================] - 1s 20us/sample - loss: 0.0781 - val_loss: 0.0782\n",
            "Epoch 92/500\n",
            "60000/60000 [==============================] - 1s 20us/sample - loss: 0.0780 - val_loss: 0.0780\n",
            "Epoch 93/500\n",
            "60000/60000 [==============================] - 1s 21us/sample - loss: 0.0780 - val_loss: 0.0784\n",
            "Epoch 94/500\n",
            "60000/60000 [==============================] - 1s 20us/sample - loss: 0.0780 - val_loss: 0.0786\n",
            "Epoch 95/500\n",
            "60000/60000 [==============================] - 1s 19us/sample - loss: 0.0779 - val_loss: 0.0785\n",
            "Epoch 96/500\n",
            "60000/60000 [==============================] - 1s 20us/sample - loss: 0.0779 - val_loss: 0.0779\n",
            "Epoch 97/500\n",
            "60000/60000 [==============================] - 1s 20us/sample - loss: 0.0778 - val_loss: 0.0778\n",
            "Epoch 98/500\n",
            "60000/60000 [==============================] - 1s 20us/sample - loss: 0.0778 - val_loss: 0.0777\n",
            "Epoch 99/500\n",
            "60000/60000 [==============================] - 1s 20us/sample - loss: 0.0778 - val_loss: 0.0777\n",
            "Epoch 100/500\n",
            "60000/60000 [==============================] - 1s 20us/sample - loss: 0.0777 - val_loss: 0.0789\n",
            "Epoch 101/500\n",
            "60000/60000 [==============================] - 1s 20us/sample - loss: 0.0777 - val_loss: 0.0784\n",
            "Epoch 102/500\n",
            "60000/60000 [==============================] - 1s 19us/sample - loss: 0.0777 - val_loss: 0.0781\n",
            "Epoch 103/500\n",
            "60000/60000 [==============================] - 1s 20us/sample - loss: 0.0776 - val_loss: 0.0776\n",
            "Epoch 104/500\n",
            "60000/60000 [==============================] - 1s 20us/sample - loss: 0.0776 - val_loss: 0.0781\n",
            "Epoch 105/500\n",
            "60000/60000 [==============================] - 1s 19us/sample - loss: 0.0776 - val_loss: 0.0779\n",
            "Epoch 106/500\n",
            "60000/60000 [==============================] - 1s 20us/sample - loss: 0.0775 - val_loss: 0.0779\n",
            "Epoch 107/500\n",
            "60000/60000 [==============================] - 1s 19us/sample - loss: 0.0775 - val_loss: 0.0778\n",
            "Epoch 108/500\n",
            "60000/60000 [==============================] - 1s 19us/sample - loss: 0.0775 - val_loss: 0.0776\n",
            "Epoch 109/500\n",
            "60000/60000 [==============================] - 1s 19us/sample - loss: 0.0774 - val_loss: 0.0778\n",
            "Epoch 110/500\n",
            "60000/60000 [==============================] - 1s 20us/sample - loss: 0.0774 - val_loss: 0.0776\n",
            "Epoch 111/500\n",
            "60000/60000 [==============================] - 1s 21us/sample - loss: 0.0774 - val_loss: 0.0774\n",
            "Epoch 112/500\n",
            "60000/60000 [==============================] - 1s 20us/sample - loss: 0.0774 - val_loss: 0.0776\n",
            "Epoch 113/500\n",
            "60000/60000 [==============================] - 1s 20us/sample - loss: 0.0774 - val_loss: 0.0776\n",
            "Epoch 114/500\n",
            "60000/60000 [==============================] - 1s 19us/sample - loss: 0.0773 - val_loss: 0.0775\n",
            "Epoch 115/500\n",
            "60000/60000 [==============================] - 1s 19us/sample - loss: 0.0773 - val_loss: 0.0778\n",
            "Epoch 116/500\n",
            "60000/60000 [==============================] - 1s 19us/sample - loss: 0.0773 - val_loss: 0.0773\n",
            "Epoch 117/500\n",
            "60000/60000 [==============================] - 1s 20us/sample - loss: 0.0773 - val_loss: 0.0775\n",
            "Epoch 118/500\n",
            "60000/60000 [==============================] - 1s 19us/sample - loss: 0.0773 - val_loss: 0.0775\n",
            "Epoch 119/500\n",
            "60000/60000 [==============================] - 1s 20us/sample - loss: 0.0772 - val_loss: 0.0780\n",
            "Epoch 120/500\n",
            "60000/60000 [==============================] - 1s 19us/sample - loss: 0.0772 - val_loss: 0.0778\n",
            "Epoch 121/500\n",
            "60000/60000 [==============================] - 1s 19us/sample - loss: 0.0772 - val_loss: 0.0778\n",
            "Epoch 122/500\n",
            "60000/60000 [==============================] - 1s 20us/sample - loss: 0.0772 - val_loss: 0.0772\n",
            "Epoch 123/500\n",
            "60000/60000 [==============================] - 1s 19us/sample - loss: 0.0771 - val_loss: 0.0781\n",
            "Epoch 124/500\n",
            "60000/60000 [==============================] - 1s 21us/sample - loss: 0.0771 - val_loss: 0.0772\n",
            "Epoch 125/500\n",
            "60000/60000 [==============================] - 1s 21us/sample - loss: 0.0771 - val_loss: 0.0776\n",
            "Epoch 126/500\n",
            "60000/60000 [==============================] - 1s 20us/sample - loss: 0.0771 - val_loss: 0.0777\n",
            "Epoch 127/500\n",
            "60000/60000 [==============================] - 1s 20us/sample - loss: 0.0771 - val_loss: 0.0773\n",
            "Epoch 128/500\n",
            "60000/60000 [==============================] - 1s 20us/sample - loss: 0.0770 - val_loss: 0.0772\n",
            "Epoch 129/500\n",
            "60000/60000 [==============================] - 1s 21us/sample - loss: 0.0771 - val_loss: 0.0774\n",
            "Epoch 130/500\n",
            "60000/60000 [==============================] - 1s 20us/sample - loss: 0.0770 - val_loss: 0.0771\n",
            "Epoch 131/500\n",
            "60000/60000 [==============================] - 1s 20us/sample - loss: 0.0770 - val_loss: 0.0773\n",
            "Epoch 132/500\n",
            "60000/60000 [==============================] - 1s 19us/sample - loss: 0.0770 - val_loss: 0.0774\n",
            "Epoch 133/500\n",
            "60000/60000 [==============================] - 1s 20us/sample - loss: 0.0770 - val_loss: 0.0774\n",
            "Epoch 134/500\n",
            "60000/60000 [==============================] - 1s 20us/sample - loss: 0.0769 - val_loss: 0.0776\n",
            "Epoch 135/500\n",
            "60000/60000 [==============================] - 1s 19us/sample - loss: 0.0769 - val_loss: 0.0772\n",
            "Epoch 136/500\n",
            "60000/60000 [==============================] - 1s 20us/sample - loss: 0.0769 - val_loss: 0.0771\n",
            "Epoch 137/500\n",
            "60000/60000 [==============================] - 1s 19us/sample - loss: 0.0769 - val_loss: 0.0772\n",
            "Epoch 138/500\n",
            "60000/60000 [==============================] - 1s 19us/sample - loss: 0.0769 - val_loss: 0.0774\n",
            "Epoch 139/500\n",
            "60000/60000 [==============================] - 1s 19us/sample - loss: 0.0769 - val_loss: 0.0774\n",
            "Epoch 140/500\n",
            "60000/60000 [==============================] - 1s 20us/sample - loss: 0.0769 - val_loss: 0.0776\n",
            "Epoch 141/500\n",
            "60000/60000 [==============================] - 1s 20us/sample - loss: 0.0768 - val_loss: 0.0773\n",
            "Epoch 142/500\n",
            "60000/60000 [==============================] - 1s 20us/sample - loss: 0.0768 - val_loss: 0.0772\n",
            "Epoch 143/500\n",
            "60000/60000 [==============================] - 1s 20us/sample - loss: 0.0768 - val_loss: 0.0770\n",
            "Epoch 144/500\n",
            "60000/60000 [==============================] - 1s 21us/sample - loss: 0.0768 - val_loss: 0.0770\n",
            "Epoch 145/500\n",
            "60000/60000 [==============================] - 1s 21us/sample - loss: 0.0768 - val_loss: 0.0773\n",
            "Epoch 146/500\n",
            "60000/60000 [==============================] - 1s 20us/sample - loss: 0.0768 - val_loss: 0.0771\n",
            "Epoch 147/500\n",
            "60000/60000 [==============================] - 1s 20us/sample - loss: 0.0768 - val_loss: 0.0769\n",
            "Epoch 148/500\n",
            "60000/60000 [==============================] - 1s 19us/sample - loss: 0.0767 - val_loss: 0.0771\n",
            "Epoch 149/500\n",
            "60000/60000 [==============================] - 1s 20us/sample - loss: 0.0767 - val_loss: 0.0772\n",
            "Epoch 150/500\n",
            "60000/60000 [==============================] - 1s 20us/sample - loss: 0.0767 - val_loss: 0.0770\n",
            "Epoch 151/500\n",
            "60000/60000 [==============================] - 1s 20us/sample - loss: 0.0767 - val_loss: 0.0766\n",
            "Epoch 152/500\n",
            "60000/60000 [==============================] - 1s 20us/sample - loss: 0.0767 - val_loss: 0.0771\n",
            "Epoch 153/500\n",
            "60000/60000 [==============================] - 1s 19us/sample - loss: 0.0767 - val_loss: 0.0771\n",
            "Epoch 154/500\n",
            "60000/60000 [==============================] - 1s 20us/sample - loss: 0.0767 - val_loss: 0.0767\n",
            "Epoch 155/500\n",
            "60000/60000 [==============================] - 1s 19us/sample - loss: 0.0766 - val_loss: 0.0769\n",
            "Epoch 156/500\n",
            "60000/60000 [==============================] - 1s 20us/sample - loss: 0.0767 - val_loss: 0.0770\n",
            "Epoch 157/500\n",
            "60000/60000 [==============================] - 1s 21us/sample - loss: 0.0766 - val_loss: 0.0768\n",
            "Epoch 158/500\n",
            "60000/60000 [==============================] - 1s 21us/sample - loss: 0.0766 - val_loss: 0.0776\n",
            "Epoch 159/500\n",
            "60000/60000 [==============================] - 1s 19us/sample - loss: 0.0766 - val_loss: 0.0769\n",
            "Epoch 160/500\n",
            "60000/60000 [==============================] - 1s 20us/sample - loss: 0.0766 - val_loss: 0.0768\n",
            "Epoch 161/500\n",
            "60000/60000 [==============================] - 1s 20us/sample - loss: 0.0766 - val_loss: 0.0773\n",
            "Epoch 162/500\n",
            "60000/60000 [==============================] - 1s 20us/sample - loss: 0.0766 - val_loss: 0.0768\n",
            "Epoch 163/500\n",
            "60000/60000 [==============================] - 1s 19us/sample - loss: 0.0766 - val_loss: 0.0771\n",
            "Epoch 164/500\n",
            "60000/60000 [==============================] - 1s 20us/sample - loss: 0.0765 - val_loss: 0.0769\n",
            "Epoch 165/500\n",
            "60000/60000 [==============================] - 1s 19us/sample - loss: 0.0766 - val_loss: 0.0767\n",
            "Epoch 166/500\n",
            "60000/60000 [==============================] - 1s 19us/sample - loss: 0.0765 - val_loss: 0.0770\n",
            "Epoch 167/500\n",
            "60000/60000 [==============================] - 1s 20us/sample - loss: 0.0765 - val_loss: 0.0767\n",
            "Epoch 168/500\n",
            "60000/60000 [==============================] - 1s 20us/sample - loss: 0.0765 - val_loss: 0.0766\n",
            "Epoch 169/500\n",
            "60000/60000 [==============================] - 1s 19us/sample - loss: 0.0765 - val_loss: 0.0769\n",
            "Epoch 170/500\n",
            "60000/60000 [==============================] - 1s 20us/sample - loss: 0.0765 - val_loss: 0.0764\n",
            "Epoch 171/500\n",
            "60000/60000 [==============================] - 1s 19us/sample - loss: 0.0765 - val_loss: 0.0770\n",
            "Epoch 172/500\n",
            "60000/60000 [==============================] - 1s 19us/sample - loss: 0.0765 - val_loss: 0.0772\n",
            "Epoch 173/500\n",
            "60000/60000 [==============================] - 1s 20us/sample - loss: 0.0765 - val_loss: 0.0767\n",
            "Epoch 174/500\n",
            "60000/60000 [==============================] - 1s 21us/sample - loss: 0.0765 - val_loss: 0.0766\n",
            "Epoch 175/500\n",
            "60000/60000 [==============================] - 1s 20us/sample - loss: 0.0764 - val_loss: 0.0767\n",
            "Epoch 176/500\n",
            "60000/60000 [==============================] - 1s 19us/sample - loss: 0.0764 - val_loss: 0.0771\n",
            "Epoch 177/500\n",
            "60000/60000 [==============================] - 1s 20us/sample - loss: 0.0765 - val_loss: 0.0768\n",
            "Epoch 178/500\n",
            "60000/60000 [==============================] - 1s 19us/sample - loss: 0.0764 - val_loss: 0.0765\n",
            "Epoch 179/500\n",
            "60000/60000 [==============================] - 1s 19us/sample - loss: 0.0764 - val_loss: 0.0768\n",
            "Epoch 180/500\n",
            "60000/60000 [==============================] - 1s 19us/sample - loss: 0.0764 - val_loss: 0.0766\n",
            "Epoch 181/500\n",
            "60000/60000 [==============================] - 1s 20us/sample - loss: 0.0764 - val_loss: 0.0766\n",
            "Epoch 182/500\n",
            "60000/60000 [==============================] - 1s 20us/sample - loss: 0.0764 - val_loss: 0.0768\n",
            "Epoch 183/500\n",
            "60000/60000 [==============================] - 1s 20us/sample - loss: 0.0764 - val_loss: 0.0766\n",
            "Epoch 184/500\n",
            "60000/60000 [==============================] - 1s 19us/sample - loss: 0.0764 - val_loss: 0.0766\n",
            "Epoch 185/500\n",
            "60000/60000 [==============================] - 1s 20us/sample - loss: 0.0764 - val_loss: 0.0768\n",
            "Epoch 186/500\n",
            "60000/60000 [==============================] - 1s 20us/sample - loss: 0.0764 - val_loss: 0.0766\n",
            "Epoch 187/500\n",
            "60000/60000 [==============================] - 1s 20us/sample - loss: 0.0763 - val_loss: 0.0767\n",
            "Epoch 188/500\n",
            "60000/60000 [==============================] - 1s 20us/sample - loss: 0.0763 - val_loss: 0.0769\n",
            "Epoch 189/500\n",
            "60000/60000 [==============================] - 1s 20us/sample - loss: 0.0764 - val_loss: 0.0771\n",
            "Epoch 190/500\n",
            "60000/60000 [==============================] - 1s 20us/sample - loss: 0.0763 - val_loss: 0.0767\n",
            "Epoch 191/500\n",
            "60000/60000 [==============================] - 1s 19us/sample - loss: 0.0763 - val_loss: 0.0770\n",
            "Epoch 192/500\n",
            "60000/60000 [==============================] - 1s 20us/sample - loss: 0.0763 - val_loss: 0.0767\n",
            "Epoch 193/500\n",
            "60000/60000 [==============================] - 1s 20us/sample - loss: 0.0763 - val_loss: 0.0764\n",
            "Epoch 194/500\n",
            "60000/60000 [==============================] - 1s 20us/sample - loss: 0.0763 - val_loss: 0.0767\n",
            "Epoch 195/500\n",
            "60000/60000 [==============================] - 1s 19us/sample - loss: 0.0763 - val_loss: 0.0768\n",
            "Epoch 196/500\n",
            "60000/60000 [==============================] - 1s 20us/sample - loss: 0.0763 - val_loss: 0.0768\n",
            "Epoch 197/500\n",
            "60000/60000 [==============================] - 1s 21us/sample - loss: 0.0763 - val_loss: 0.0764\n",
            "Epoch 198/500\n",
            "60000/60000 [==============================] - 1s 20us/sample - loss: 0.0763 - val_loss: 0.0765\n",
            "Epoch 199/500\n",
            "60000/60000 [==============================] - 1s 20us/sample - loss: 0.0763 - val_loss: 0.0769\n",
            "Epoch 200/500\n",
            "60000/60000 [==============================] - 1s 22us/sample - loss: 0.0763 - val_loss: 0.0763\n",
            "Epoch 201/500\n",
            "60000/60000 [==============================] - 1s 20us/sample - loss: 0.0762 - val_loss: 0.0765\n",
            "Epoch 202/500\n",
            "60000/60000 [==============================] - 1s 20us/sample - loss: 0.0762 - val_loss: 0.0769\n",
            "Epoch 203/500\n",
            "60000/60000 [==============================] - 1s 19us/sample - loss: 0.0762 - val_loss: 0.0764\n",
            "Epoch 204/500\n",
            "60000/60000 [==============================] - 1s 19us/sample - loss: 0.0762 - val_loss: 0.0765\n",
            "Epoch 205/500\n",
            "60000/60000 [==============================] - 1s 20us/sample - loss: 0.0762 - val_loss: 0.0768\n",
            "Epoch 206/500\n",
            "60000/60000 [==============================] - 1s 19us/sample - loss: 0.0762 - val_loss: 0.0766\n",
            "Epoch 207/500\n",
            "60000/60000 [==============================] - 1s 20us/sample - loss: 0.0762 - val_loss: 0.0763\n",
            "Epoch 208/500\n",
            "60000/60000 [==============================] - 1s 20us/sample - loss: 0.0762 - val_loss: 0.0767\n",
            "Epoch 209/500\n",
            "60000/60000 [==============================] - 1s 19us/sample - loss: 0.0762 - val_loss: 0.0765\n",
            "Epoch 210/500\n",
            "60000/60000 [==============================] - 1s 20us/sample - loss: 0.0762 - val_loss: 0.0765\n",
            "Epoch 211/500\n",
            "60000/60000 [==============================] - 1s 19us/sample - loss: 0.0761 - val_loss: 0.0766\n",
            "Epoch 212/500\n",
            "60000/60000 [==============================] - 1s 19us/sample - loss: 0.0762 - val_loss: 0.0762\n",
            "Epoch 213/500\n",
            "60000/60000 [==============================] - 1s 20us/sample - loss: 0.0761 - val_loss: 0.0762\n",
            "Epoch 214/500\n",
            "60000/60000 [==============================] - 1s 19us/sample - loss: 0.0762 - val_loss: 0.0766\n",
            "Epoch 215/500\n",
            "60000/60000 [==============================] - 1s 19us/sample - loss: 0.0762 - val_loss: 0.0764\n",
            "Epoch 216/500\n",
            "60000/60000 [==============================] - 1s 20us/sample - loss: 0.0761 - val_loss: 0.0768\n",
            "Epoch 217/500\n",
            "60000/60000 [==============================] - 1s 20us/sample - loss: 0.0761 - val_loss: 0.0764\n",
            "Epoch 218/500\n",
            "60000/60000 [==============================] - 1s 20us/sample - loss: 0.0761 - val_loss: 0.0769\n",
            "Epoch 219/500\n",
            "60000/60000 [==============================] - 1s 20us/sample - loss: 0.0761 - val_loss: 0.0764\n",
            "Epoch 220/500\n",
            "60000/60000 [==============================] - 1s 19us/sample - loss: 0.0761 - val_loss: 0.0766\n",
            "Epoch 221/500\n",
            "60000/60000 [==============================] - 1s 19us/sample - loss: 0.0761 - val_loss: 0.0767\n",
            "Epoch 222/500\n",
            "60000/60000 [==============================] - 1s 19us/sample - loss: 0.0761 - val_loss: 0.0765\n",
            "Epoch 223/500\n",
            "60000/60000 [==============================] - 1s 19us/sample - loss: 0.0761 - val_loss: 0.0763\n",
            "Epoch 224/500\n",
            "60000/60000 [==============================] - 1s 20us/sample - loss: 0.0761 - val_loss: 0.0777\n",
            "Epoch 225/500\n",
            "60000/60000 [==============================] - 1s 20us/sample - loss: 0.0761 - val_loss: 0.0768\n",
            "Epoch 226/500\n",
            "60000/60000 [==============================] - 1s 20us/sample - loss: 0.0761 - val_loss: 0.0763\n",
            "Epoch 227/500\n",
            "60000/60000 [==============================] - 1s 20us/sample - loss: 0.0761 - val_loss: 0.0767\n",
            "Epoch 228/500\n",
            "60000/60000 [==============================] - 1s 20us/sample - loss: 0.0761 - val_loss: 0.0761\n",
            "Epoch 229/500\n",
            "60000/60000 [==============================] - 1s 20us/sample - loss: 0.0761 - val_loss: 0.0764\n",
            "Epoch 230/500\n",
            "60000/60000 [==============================] - 1s 20us/sample - loss: 0.0761 - val_loss: 0.0764\n",
            "Epoch 231/500\n",
            "60000/60000 [==============================] - 1s 20us/sample - loss: 0.0761 - val_loss: 0.0766\n",
            "Epoch 232/500\n",
            "60000/60000 [==============================] - 1s 20us/sample - loss: 0.0760 - val_loss: 0.0766\n",
            "Epoch 233/500\n",
            "60000/60000 [==============================] - 1s 19us/sample - loss: 0.0761 - val_loss: 0.0763\n",
            "Epoch 234/500\n",
            "60000/60000 [==============================] - 1s 20us/sample - loss: 0.0760 - val_loss: 0.0764\n",
            "Epoch 235/500\n",
            "60000/60000 [==============================] - 1s 20us/sample - loss: 0.0761 - val_loss: 0.0764\n",
            "Epoch 236/500\n",
            "60000/60000 [==============================] - 1s 19us/sample - loss: 0.0761 - val_loss: 0.0763\n",
            "Epoch 237/500\n",
            "60000/60000 [==============================] - 1s 20us/sample - loss: 0.0760 - val_loss: 0.0765\n",
            "Epoch 238/500\n",
            "60000/60000 [==============================] - 1s 19us/sample - loss: 0.0760 - val_loss: 0.0764\n",
            "Epoch 239/500\n",
            "60000/60000 [==============================] - 1s 19us/sample - loss: 0.0760 - val_loss: 0.0771\n",
            "Epoch 240/500\n",
            "60000/60000 [==============================] - 1s 19us/sample - loss: 0.0760 - val_loss: 0.0765\n",
            "Epoch 241/500\n",
            "60000/60000 [==============================] - 1s 20us/sample - loss: 0.0760 - val_loss: 0.0763\n",
            "Epoch 242/500\n",
            "60000/60000 [==============================] - 1s 19us/sample - loss: 0.0760 - val_loss: 0.0766\n",
            "Epoch 243/500\n",
            "60000/60000 [==============================] - 1s 20us/sample - loss: 0.0760 - val_loss: 0.0769\n",
            "Epoch 244/500\n",
            "60000/60000 [==============================] - 1s 20us/sample - loss: 0.0760 - val_loss: 0.0764\n",
            "Epoch 245/500\n",
            "60000/60000 [==============================] - 1s 19us/sample - loss: 0.0760 - val_loss: 0.0764\n",
            "Epoch 246/500\n",
            "60000/60000 [==============================] - 1s 20us/sample - loss: 0.0760 - val_loss: 0.0764\n",
            "Epoch 247/500\n",
            "60000/60000 [==============================] - 1s 20us/sample - loss: 0.0760 - val_loss: 0.0766\n",
            "Epoch 248/500\n",
            "60000/60000 [==============================] - 1s 20us/sample - loss: 0.0760 - val_loss: 0.0762\n",
            "Epoch 249/500\n",
            "60000/60000 [==============================] - 1s 20us/sample - loss: 0.0760 - val_loss: 0.0761\n",
            "Epoch 250/500\n",
            "60000/60000 [==============================] - 1s 20us/sample - loss: 0.0760 - val_loss: 0.0770\n",
            "Epoch 251/500\n",
            "60000/60000 [==============================] - 1s 20us/sample - loss: 0.0760 - val_loss: 0.0767\n",
            "Epoch 252/500\n",
            "60000/60000 [==============================] - 1s 20us/sample - loss: 0.0760 - val_loss: 0.0762\n",
            "Epoch 253/500\n",
            "60000/60000 [==============================] - 1s 20us/sample - loss: 0.0759 - val_loss: 0.0768\n",
            "Epoch 254/500\n",
            "60000/60000 [==============================] - 1s 20us/sample - loss: 0.0759 - val_loss: 0.0764\n",
            "Epoch 255/500\n",
            "60000/60000 [==============================] - 1s 20us/sample - loss: 0.0759 - val_loss: 0.0764\n",
            "Epoch 256/500\n",
            "60000/60000 [==============================] - 1s 20us/sample - loss: 0.0759 - val_loss: 0.0760\n",
            "Epoch 257/500\n",
            "60000/60000 [==============================] - 1s 20us/sample - loss: 0.0759 - val_loss: 0.0763\n",
            "Epoch 258/500\n",
            "60000/60000 [==============================] - 1s 20us/sample - loss: 0.0759 - val_loss: 0.0764\n",
            "Epoch 259/500\n",
            "60000/60000 [==============================] - 1s 20us/sample - loss: 0.0759 - val_loss: 0.0762\n",
            "Epoch 260/500\n",
            "60000/60000 [==============================] - 1s 20us/sample - loss: 0.0759 - val_loss: 0.0765\n",
            "Epoch 261/500\n",
            "60000/60000 [==============================] - 1s 20us/sample - loss: 0.0760 - val_loss: 0.0763\n",
            "Epoch 262/500\n",
            "60000/60000 [==============================] - 1s 20us/sample - loss: 0.0759 - val_loss: 0.0766\n",
            "Epoch 263/500\n",
            "60000/60000 [==============================] - 1s 20us/sample - loss: 0.0759 - val_loss: 0.0762\n",
            "Epoch 264/500\n",
            "60000/60000 [==============================] - 1s 21us/sample - loss: 0.0759 - val_loss: 0.0765\n",
            "Epoch 265/500\n",
            "60000/60000 [==============================] - 1s 21us/sample - loss: 0.0759 - val_loss: 0.0764\n",
            "Epoch 266/500\n",
            "60000/60000 [==============================] - 1s 20us/sample - loss: 0.0759 - val_loss: 0.0762\n",
            "Epoch 267/500\n",
            "60000/60000 [==============================] - 1s 19us/sample - loss: 0.0759 - val_loss: 0.0761\n",
            "Epoch 268/500\n",
            "60000/60000 [==============================] - 1s 19us/sample - loss: 0.0759 - val_loss: 0.0763\n",
            "Epoch 269/500\n",
            "60000/60000 [==============================] - 1s 19us/sample - loss: 0.0759 - val_loss: 0.0762\n",
            "Epoch 270/500\n",
            "60000/60000 [==============================] - 1s 20us/sample - loss: 0.0759 - val_loss: 0.0762\n",
            "Epoch 271/500\n",
            "60000/60000 [==============================] - 1s 19us/sample - loss: 0.0759 - val_loss: 0.0764\n",
            "Epoch 272/500\n",
            "60000/60000 [==============================] - 1s 20us/sample - loss: 0.0759 - val_loss: 0.0761\n",
            "Epoch 273/500\n",
            "60000/60000 [==============================] - 1s 20us/sample - loss: 0.0758 - val_loss: 0.0768\n",
            "Epoch 274/500\n",
            "60000/60000 [==============================] - 1s 20us/sample - loss: 0.0759 - val_loss: 0.0773\n",
            "Epoch 275/500\n",
            "60000/60000 [==============================] - 1s 20us/sample - loss: 0.0759 - val_loss: 0.0760\n",
            "Epoch 276/500\n",
            "60000/60000 [==============================] - 1s 20us/sample - loss: 0.0758 - val_loss: 0.0766\n",
            "Epoch 277/500\n",
            "60000/60000 [==============================] - 1s 20us/sample - loss: 0.0759 - val_loss: 0.0761\n",
            "Epoch 278/500\n",
            "60000/60000 [==============================] - 1s 20us/sample - loss: 0.0758 - val_loss: 0.0765\n",
            "Epoch 279/500\n",
            "60000/60000 [==============================] - 1s 19us/sample - loss: 0.0759 - val_loss: 0.0761\n",
            "Epoch 280/500\n",
            "60000/60000 [==============================] - 1s 20us/sample - loss: 0.0758 - val_loss: 0.0768\n",
            "Epoch 281/500\n",
            "60000/60000 [==============================] - 1s 21us/sample - loss: 0.0758 - val_loss: 0.0764\n",
            "Epoch 282/500\n",
            "60000/60000 [==============================] - 1s 20us/sample - loss: 0.0759 - val_loss: 0.0762\n",
            "Epoch 283/500\n",
            "60000/60000 [==============================] - 1s 20us/sample - loss: 0.0758 - val_loss: 0.0761\n",
            "Epoch 284/500\n",
            "60000/60000 [==============================] - 1s 20us/sample - loss: 0.0759 - val_loss: 0.0759\n",
            "Epoch 285/500\n",
            "60000/60000 [==============================] - 1s 19us/sample - loss: 0.0758 - val_loss: 0.0767\n",
            "Epoch 286/500\n",
            "60000/60000 [==============================] - 1s 20us/sample - loss: 0.0758 - val_loss: 0.0761\n",
            "Epoch 287/500\n",
            "60000/60000 [==============================] - 1s 20us/sample - loss: 0.0758 - val_loss: 0.0763\n",
            "Epoch 288/500\n",
            "60000/60000 [==============================] - 1s 20us/sample - loss: 0.0758 - val_loss: 0.0764\n",
            "Epoch 289/500\n",
            "60000/60000 [==============================] - 1s 20us/sample - loss: 0.0758 - val_loss: 0.0762\n",
            "Epoch 290/500\n",
            "60000/60000 [==============================] - 1s 21us/sample - loss: 0.0758 - val_loss: 0.0768\n",
            "Epoch 291/500\n",
            "60000/60000 [==============================] - 1s 19us/sample - loss: 0.0758 - val_loss: 0.0762\n",
            "Epoch 292/500\n",
            "60000/60000 [==============================] - 1s 20us/sample - loss: 0.0758 - val_loss: 0.0761\n",
            "Epoch 293/500\n",
            "60000/60000 [==============================] - 1s 20us/sample - loss: 0.0758 - val_loss: 0.0761\n",
            "Epoch 294/500\n",
            "60000/60000 [==============================] - 1s 20us/sample - loss: 0.0758 - val_loss: 0.0764\n",
            "Epoch 295/500\n",
            "60000/60000 [==============================] - 1s 19us/sample - loss: 0.0758 - val_loss: 0.0763\n",
            "Epoch 296/500\n",
            "60000/60000 [==============================] - 1s 20us/sample - loss: 0.0758 - val_loss: 0.0768\n",
            "Epoch 297/500\n",
            "60000/60000 [==============================] - 1s 19us/sample - loss: 0.0758 - val_loss: 0.0764\n",
            "Epoch 298/500\n",
            "60000/60000 [==============================] - 1s 19us/sample - loss: 0.0758 - val_loss: 0.0760\n",
            "Epoch 299/500\n",
            "60000/60000 [==============================] - 1s 19us/sample - loss: 0.0758 - val_loss: 0.0761\n",
            "Epoch 300/500\n",
            "60000/60000 [==============================] - 1s 20us/sample - loss: 0.0758 - val_loss: 0.0763\n",
            "Epoch 301/500\n",
            "60000/60000 [==============================] - 1s 20us/sample - loss: 0.0758 - val_loss: 0.0766\n",
            "Epoch 302/500\n",
            "60000/60000 [==============================] - 1s 20us/sample - loss: 0.0758 - val_loss: 0.0762\n",
            "Epoch 303/500\n",
            "60000/60000 [==============================] - 1s 20us/sample - loss: 0.0758 - val_loss: 0.0762\n",
            "Epoch 304/500\n",
            "60000/60000 [==============================] - 1s 20us/sample - loss: 0.0758 - val_loss: 0.0766\n",
            "Epoch 305/500\n",
            "60000/60000 [==============================] - 1s 20us/sample - loss: 0.0758 - val_loss: 0.0767\n",
            "Epoch 306/500\n",
            "60000/60000 [==============================] - 1s 21us/sample - loss: 0.0758 - val_loss: 0.0764\n",
            "Epoch 307/500\n",
            "60000/60000 [==============================] - 1s 19us/sample - loss: 0.0758 - val_loss: 0.0773\n",
            "Epoch 308/500\n",
            "60000/60000 [==============================] - 1s 20us/sample - loss: 0.0758 - val_loss: 0.0762\n",
            "Epoch 309/500\n",
            "60000/60000 [==============================] - 1s 19us/sample - loss: 0.0757 - val_loss: 0.0759\n",
            "Epoch 310/500\n",
            "60000/60000 [==============================] - 1s 19us/sample - loss: 0.0757 - val_loss: 0.0762\n",
            "Epoch 311/500\n",
            "60000/60000 [==============================] - 1s 20us/sample - loss: 0.0758 - val_loss: 0.0762\n",
            "Epoch 312/500\n",
            "60000/60000 [==============================] - 1s 20us/sample - loss: 0.0757 - val_loss: 0.0762\n",
            "Epoch 313/500\n",
            "60000/60000 [==============================] - 1s 19us/sample - loss: 0.0757 - val_loss: 0.0763\n",
            "Epoch 314/500\n",
            "60000/60000 [==============================] - 1s 20us/sample - loss: 0.0757 - val_loss: 0.0768\n",
            "Epoch 315/500\n",
            "60000/60000 [==============================] - 1s 19us/sample - loss: 0.0757 - val_loss: 0.0763\n",
            "Epoch 316/500\n",
            "60000/60000 [==============================] - 1s 19us/sample - loss: 0.0757 - val_loss: 0.0760\n",
            "Epoch 317/500\n",
            "60000/60000 [==============================] - 1s 20us/sample - loss: 0.0757 - val_loss: 0.0766\n",
            "Epoch 318/500\n",
            "60000/60000 [==============================] - 1s 20us/sample - loss: 0.0757 - val_loss: 0.0763\n",
            "Epoch 319/500\n",
            "60000/60000 [==============================] - 1s 20us/sample - loss: 0.0757 - val_loss: 0.0760\n",
            "Epoch 320/500\n",
            "60000/60000 [==============================] - 1s 21us/sample - loss: 0.0757 - val_loss: 0.0763\n",
            "Epoch 321/500\n",
            "60000/60000 [==============================] - 1s 19us/sample - loss: 0.0757 - val_loss: 0.0760\n",
            "Epoch 322/500\n",
            "60000/60000 [==============================] - 1s 19us/sample - loss: 0.0757 - val_loss: 0.0760\n",
            "Epoch 323/500\n",
            "60000/60000 [==============================] - 1s 20us/sample - loss: 0.0757 - val_loss: 0.0768\n",
            "Epoch 324/500\n",
            "60000/60000 [==============================] - 1s 19us/sample - loss: 0.0757 - val_loss: 0.0762\n",
            "Epoch 325/500\n",
            "60000/60000 [==============================] - 1s 19us/sample - loss: 0.0757 - val_loss: 0.0762\n",
            "Epoch 326/500\n",
            "60000/60000 [==============================] - 1s 20us/sample - loss: 0.0757 - val_loss: 0.0760\n",
            "Epoch 327/500\n",
            "60000/60000 [==============================] - 1s 20us/sample - loss: 0.0757 - val_loss: 0.0762\n",
            "Epoch 328/500\n",
            "60000/60000 [==============================] - 1s 20us/sample - loss: 0.0757 - val_loss: 0.0760\n",
            "Epoch 329/500\n",
            "60000/60000 [==============================] - 1s 19us/sample - loss: 0.0757 - val_loss: 0.0761\n",
            "Epoch 330/500\n",
            "60000/60000 [==============================] - 1s 21us/sample - loss: 0.0757 - val_loss: 0.0763\n",
            "Epoch 331/500\n",
            "60000/60000 [==============================] - 1s 21us/sample - loss: 0.0757 - val_loss: 0.0761\n",
            "Epoch 332/500\n",
            "60000/60000 [==============================] - 1s 20us/sample - loss: 0.0757 - val_loss: 0.0762\n",
            "Epoch 333/500\n",
            "60000/60000 [==============================] - 1s 20us/sample - loss: 0.0757 - val_loss: 0.0760\n",
            "Epoch 334/500\n",
            "60000/60000 [==============================] - 1s 20us/sample - loss: 0.0757 - val_loss: 0.0762\n",
            "Epoch 335/500\n",
            "60000/60000 [==============================] - 1s 19us/sample - loss: 0.0757 - val_loss: 0.0763\n",
            "Epoch 336/500\n",
            "60000/60000 [==============================] - 1s 20us/sample - loss: 0.0757 - val_loss: 0.0761\n",
            "Epoch 337/500\n",
            "60000/60000 [==============================] - 1s 20us/sample - loss: 0.0757 - val_loss: 0.0762\n",
            "Epoch 338/500\n",
            "60000/60000 [==============================] - 1s 20us/sample - loss: 0.0757 - val_loss: 0.0772\n",
            "Epoch 339/500\n",
            "60000/60000 [==============================] - 1s 19us/sample - loss: 0.0757 - val_loss: 0.0762\n",
            "Epoch 340/500\n",
            "60000/60000 [==============================] - 1s 20us/sample - loss: 0.0756 - val_loss: 0.0763\n",
            "Epoch 341/500\n",
            "60000/60000 [==============================] - 1s 20us/sample - loss: 0.0757 - val_loss: 0.0758\n",
            "Epoch 342/500\n",
            "60000/60000 [==============================] - 1s 19us/sample - loss: 0.0757 - val_loss: 0.0761\n",
            "Epoch 343/500\n",
            "60000/60000 [==============================] - 1s 19us/sample - loss: 0.0756 - val_loss: 0.0764\n",
            "Epoch 344/500\n",
            "60000/60000 [==============================] - 1s 20us/sample - loss: 0.0757 - val_loss: 0.0758\n",
            "Epoch 345/500\n",
            "60000/60000 [==============================] - 1s 20us/sample - loss: 0.0757 - val_loss: 0.0760\n",
            "Epoch 346/500\n",
            "60000/60000 [==============================] - 1s 19us/sample - loss: 0.0756 - val_loss: 0.0762\n",
            "Epoch 347/500\n",
            "60000/60000 [==============================] - 1s 20us/sample - loss: 0.0757 - val_loss: 0.0758\n",
            "Epoch 348/500\n",
            "60000/60000 [==============================] - 1s 19us/sample - loss: 0.0756 - val_loss: 0.0759\n",
            "Epoch 349/500\n",
            "60000/60000 [==============================] - 1s 20us/sample - loss: 0.0756 - val_loss: 0.0765\n",
            "Epoch 350/500\n",
            "60000/60000 [==============================] - 1s 19us/sample - loss: 0.0756 - val_loss: 0.0767\n",
            "Epoch 351/500\n",
            "60000/60000 [==============================] - 1s 20us/sample - loss: 0.0757 - val_loss: 0.0763\n",
            "Epoch 352/500\n",
            "60000/60000 [==============================] - 1s 20us/sample - loss: 0.0756 - val_loss: 0.0760\n",
            "Epoch 353/500\n",
            "60000/60000 [==============================] - 1s 19us/sample - loss: 0.0756 - val_loss: 0.0762\n",
            "Epoch 354/500\n",
            "60000/60000 [==============================] - 1s 19us/sample - loss: 0.0756 - val_loss: 0.0760\n",
            "Epoch 355/500\n",
            "60000/60000 [==============================] - 1s 20us/sample - loss: 0.0757 - val_loss: 0.0766\n",
            "Epoch 356/500\n",
            "60000/60000 [==============================] - 1s 21us/sample - loss: 0.0756 - val_loss: 0.0763\n",
            "Epoch 357/500\n",
            "60000/60000 [==============================] - 1s 20us/sample - loss: 0.0756 - val_loss: 0.0759\n",
            "Epoch 358/500\n",
            "60000/60000 [==============================] - 1s 20us/sample - loss: 0.0756 - val_loss: 0.0761\n",
            "Epoch 359/500\n",
            "60000/60000 [==============================] - 1s 21us/sample - loss: 0.0756 - val_loss: 0.0764\n",
            "Epoch 360/500\n",
            "60000/60000 [==============================] - 1s 20us/sample - loss: 0.0756 - val_loss: 0.0760\n",
            "Epoch 361/500\n",
            "60000/60000 [==============================] - 1s 20us/sample - loss: 0.0756 - val_loss: 0.0761\n",
            "Epoch 362/500\n",
            "60000/60000 [==============================] - 1s 19us/sample - loss: 0.0756 - val_loss: 0.0760\n",
            "Epoch 363/500\n",
            "60000/60000 [==============================] - 1s 19us/sample - loss: 0.0756 - val_loss: 0.0765\n",
            "Epoch 364/500\n",
            "60000/60000 [==============================] - 1s 20us/sample - loss: 0.0756 - val_loss: 0.0762\n",
            "Epoch 365/500\n",
            "60000/60000 [==============================] - 1s 19us/sample - loss: 0.0756 - val_loss: 0.0765\n",
            "Epoch 366/500\n",
            "60000/60000 [==============================] - 1s 20us/sample - loss: 0.0756 - val_loss: 0.0762\n",
            "Epoch 367/500\n",
            "60000/60000 [==============================] - 1s 20us/sample - loss: 0.0756 - val_loss: 0.0759\n",
            "Epoch 368/500\n",
            "60000/60000 [==============================] - 1s 20us/sample - loss: 0.0756 - val_loss: 0.0767\n",
            "Epoch 369/500\n",
            "60000/60000 [==============================] - 1s 19us/sample - loss: 0.0756 - val_loss: 0.0762\n",
            "Epoch 370/500\n",
            "60000/60000 [==============================] - 1s 20us/sample - loss: 0.0756 - val_loss: 0.0758\n",
            "Epoch 371/500\n",
            "60000/60000 [==============================] - 1s 19us/sample - loss: 0.0756 - val_loss: 0.0761\n",
            "Epoch 372/500\n",
            "60000/60000 [==============================] - 1s 19us/sample - loss: 0.0756 - val_loss: 0.0762\n",
            "Epoch 373/500\n",
            "60000/60000 [==============================] - 1s 19us/sample - loss: 0.0756 - val_loss: 0.0771\n",
            "Epoch 374/500\n",
            "60000/60000 [==============================] - 1s 19us/sample - loss: 0.0756 - val_loss: 0.0758\n",
            "Epoch 375/500\n",
            "60000/60000 [==============================] - 1s 19us/sample - loss: 0.0756 - val_loss: 0.0761\n",
            "Epoch 376/500\n",
            "60000/60000 [==============================] - 1s 20us/sample - loss: 0.0756 - val_loss: 0.0761\n",
            "Epoch 377/500\n",
            "60000/60000 [==============================] - 1s 20us/sample - loss: 0.0756 - val_loss: 0.0758\n",
            "Epoch 378/500\n",
            "60000/60000 [==============================] - 1s 19us/sample - loss: 0.0756 - val_loss: 0.0759\n",
            "Epoch 379/500\n",
            "60000/60000 [==============================] - 1s 20us/sample - loss: 0.0756 - val_loss: 0.0761\n",
            "Epoch 380/500\n",
            "60000/60000 [==============================] - 1s 20us/sample - loss: 0.0756 - val_loss: 0.0758\n",
            "Epoch 381/500\n",
            "60000/60000 [==============================] - 1s 20us/sample - loss: 0.0756 - val_loss: 0.0760\n",
            "Epoch 382/500\n",
            "60000/60000 [==============================] - 1s 20us/sample - loss: 0.0756 - val_loss: 0.0762\n",
            "Epoch 383/500\n",
            "60000/60000 [==============================] - 1s 21us/sample - loss: 0.0756 - val_loss: 0.0763\n",
            "Epoch 384/500\n",
            "60000/60000 [==============================] - 1s 21us/sample - loss: 0.0756 - val_loss: 0.0762\n",
            "Epoch 385/500\n",
            "60000/60000 [==============================] - 1s 19us/sample - loss: 0.0756 - val_loss: 0.0759\n",
            "Epoch 386/500\n",
            "60000/60000 [==============================] - 1s 20us/sample - loss: 0.0755 - val_loss: 0.0765\n",
            "Epoch 387/500\n",
            "60000/60000 [==============================] - 1s 20us/sample - loss: 0.0756 - val_loss: 0.0762\n",
            "Epoch 388/500\n",
            "60000/60000 [==============================] - 1s 19us/sample - loss: 0.0755 - val_loss: 0.0762\n",
            "Epoch 389/500\n",
            "60000/60000 [==============================] - 1s 19us/sample - loss: 0.0756 - val_loss: 0.0758\n",
            "Epoch 390/500\n",
            "60000/60000 [==============================] - 1s 19us/sample - loss: 0.0755 - val_loss: 0.0758\n",
            "Epoch 391/500\n",
            "60000/60000 [==============================] - 1s 20us/sample - loss: 0.0756 - val_loss: 0.0761\n",
            "Epoch 392/500\n",
            "60000/60000 [==============================] - 1s 20us/sample - loss: 0.0755 - val_loss: 0.0761\n",
            "Epoch 393/500\n",
            "60000/60000 [==============================] - 1s 21us/sample - loss: 0.0755 - val_loss: 0.0762\n",
            "Epoch 394/500\n",
            "60000/60000 [==============================] - 1s 20us/sample - loss: 0.0755 - val_loss: 0.0761\n",
            "Epoch 395/500\n",
            "60000/60000 [==============================] - 1s 21us/sample - loss: 0.0756 - val_loss: 0.0757\n",
            "Epoch 396/500\n",
            "60000/60000 [==============================] - 1s 20us/sample - loss: 0.0756 - val_loss: 0.0759\n",
            "Epoch 397/500\n",
            "60000/60000 [==============================] - 1s 20us/sample - loss: 0.0755 - val_loss: 0.0758\n",
            "Epoch 398/500\n",
            "60000/60000 [==============================] - 1s 20us/sample - loss: 0.0755 - val_loss: 0.0760\n",
            "Epoch 399/500\n",
            "60000/60000 [==============================] - 1s 20us/sample - loss: 0.0755 - val_loss: 0.0760\n",
            "Epoch 400/500\n",
            "60000/60000 [==============================] - 1s 20us/sample - loss: 0.0755 - val_loss: 0.0763\n",
            "Epoch 401/500\n",
            "60000/60000 [==============================] - 1s 20us/sample - loss: 0.0755 - val_loss: 0.0761\n",
            "Epoch 402/500\n",
            "60000/60000 [==============================] - 1s 21us/sample - loss: 0.0755 - val_loss: 0.0761\n",
            "Epoch 403/500\n",
            "60000/60000 [==============================] - 1s 19us/sample - loss: 0.0755 - val_loss: 0.0762\n",
            "Epoch 404/500\n",
            "60000/60000 [==============================] - 1s 20us/sample - loss: 0.0755 - val_loss: 0.0761\n",
            "Epoch 405/500\n",
            "60000/60000 [==============================] - 1s 19us/sample - loss: 0.0755 - val_loss: 0.0759\n",
            "Epoch 406/500\n",
            "60000/60000 [==============================] - 1s 19us/sample - loss: 0.0755 - val_loss: 0.0759\n",
            "Epoch 407/500\n",
            "60000/60000 [==============================] - 1s 20us/sample - loss: 0.0755 - val_loss: 0.0763\n",
            "Epoch 408/500\n",
            "60000/60000 [==============================] - 1s 20us/sample - loss: 0.0755 - val_loss: 0.0763\n",
            "Epoch 409/500\n",
            "60000/60000 [==============================] - 1s 20us/sample - loss: 0.0755 - val_loss: 0.0760\n",
            "Epoch 410/500\n",
            "60000/60000 [==============================] - 1s 20us/sample - loss: 0.0755 - val_loss: 0.0760\n",
            "Epoch 411/500\n",
            "60000/60000 [==============================] - 1s 19us/sample - loss: 0.0755 - val_loss: 0.0764\n",
            "Epoch 412/500\n",
            "60000/60000 [==============================] - 1s 19us/sample - loss: 0.0755 - val_loss: 0.0762\n",
            "Epoch 413/500\n",
            "60000/60000 [==============================] - 1s 19us/sample - loss: 0.0755 - val_loss: 0.0758\n",
            "Epoch 414/500\n",
            "60000/60000 [==============================] - 1s 19us/sample - loss: 0.0755 - val_loss: 0.0762\n",
            "Epoch 415/500\n",
            "60000/60000 [==============================] - 1s 20us/sample - loss: 0.0755 - val_loss: 0.0760\n",
            "Epoch 416/500\n",
            "60000/60000 [==============================] - 1s 20us/sample - loss: 0.0755 - val_loss: 0.0762\n",
            "Epoch 417/500\n",
            "60000/60000 [==============================] - 1s 20us/sample - loss: 0.0755 - val_loss: 0.0759\n",
            "Epoch 418/500\n",
            "60000/60000 [==============================] - 1s 20us/sample - loss: 0.0755 - val_loss: 0.0764\n",
            "Epoch 419/500\n",
            "60000/60000 [==============================] - 1s 19us/sample - loss: 0.0755 - val_loss: 0.0760\n",
            "Epoch 420/500\n",
            "60000/60000 [==============================] - 1s 20us/sample - loss: 0.0755 - val_loss: 0.0760\n",
            "Epoch 421/500\n",
            "60000/60000 [==============================] - 1s 19us/sample - loss: 0.0755 - val_loss: 0.0760\n",
            "Epoch 422/500\n",
            "60000/60000 [==============================] - 1s 19us/sample - loss: 0.0755 - val_loss: 0.0760\n",
            "Epoch 423/500\n",
            "60000/60000 [==============================] - 1s 19us/sample - loss: 0.0755 - val_loss: 0.0760\n",
            "Epoch 424/500\n",
            "60000/60000 [==============================] - 1s 20us/sample - loss: 0.0755 - val_loss: 0.0759\n",
            "Epoch 425/500\n",
            "60000/60000 [==============================] - 1s 20us/sample - loss: 0.0755 - val_loss: 0.0760\n",
            "Epoch 426/500\n",
            "60000/60000 [==============================] - 1s 19us/sample - loss: 0.0755 - val_loss: 0.0762\n",
            "Epoch 427/500\n",
            "60000/60000 [==============================] - 1s 20us/sample - loss: 0.0755 - val_loss: 0.0759\n",
            "Epoch 428/500\n",
            "60000/60000 [==============================] - 1s 20us/sample - loss: 0.0755 - val_loss: 0.0759\n",
            "Epoch 429/500\n",
            "60000/60000 [==============================] - 1s 19us/sample - loss: 0.0755 - val_loss: 0.0760\n",
            "Epoch 430/500\n",
            "60000/60000 [==============================] - 1s 20us/sample - loss: 0.0755 - val_loss: 0.0757\n",
            "Epoch 431/500\n",
            "60000/60000 [==============================] - 1s 20us/sample - loss: 0.0755 - val_loss: 0.0758\n",
            "Epoch 432/500\n",
            "60000/60000 [==============================] - 1s 20us/sample - loss: 0.0755 - val_loss: 0.0759\n",
            "Epoch 433/500\n",
            "60000/60000 [==============================] - 1s 20us/sample - loss: 0.0755 - val_loss: 0.0759\n",
            "Epoch 434/500\n",
            "60000/60000 [==============================] - 1s 20us/sample - loss: 0.0755 - val_loss: 0.0760\n",
            "Epoch 435/500\n",
            "60000/60000 [==============================] - 1s 19us/sample - loss: 0.0755 - val_loss: 0.0765\n",
            "Epoch 436/500\n",
            "60000/60000 [==============================] - 1s 20us/sample - loss: 0.0755 - val_loss: 0.0759\n",
            "Epoch 437/500\n",
            "60000/60000 [==============================] - 1s 20us/sample - loss: 0.0755 - val_loss: 0.0762\n",
            "Epoch 438/500\n",
            "60000/60000 [==============================] - 1s 19us/sample - loss: 0.0755 - val_loss: 0.0759\n",
            "Epoch 439/500\n",
            "60000/60000 [==============================] - 1s 20us/sample - loss: 0.0755 - val_loss: 0.0760\n",
            "Epoch 440/500\n",
            "60000/60000 [==============================] - 1s 20us/sample - loss: 0.0755 - val_loss: 0.0758\n",
            "Epoch 441/500\n",
            "60000/60000 [==============================] - 1s 21us/sample - loss: 0.0754 - val_loss: 0.0758\n",
            "Epoch 442/500\n",
            "60000/60000 [==============================] - 1s 21us/sample - loss: 0.0755 - val_loss: 0.0760\n",
            "Epoch 443/500\n",
            "60000/60000 [==============================] - 1s 20us/sample - loss: 0.0754 - val_loss: 0.0758\n",
            "Epoch 444/500\n",
            "60000/60000 [==============================] - 1s 19us/sample - loss: 0.0755 - val_loss: 0.0761\n",
            "Epoch 445/500\n",
            "60000/60000 [==============================] - 1s 20us/sample - loss: 0.0755 - val_loss: 0.0759\n",
            "Epoch 446/500\n",
            "60000/60000 [==============================] - 1s 19us/sample - loss: 0.0754 - val_loss: 0.0761\n",
            "Epoch 447/500\n",
            "60000/60000 [==============================] - 1s 19us/sample - loss: 0.0754 - val_loss: 0.0759\n",
            "Epoch 448/500\n",
            "60000/60000 [==============================] - 1s 19us/sample - loss: 0.0754 - val_loss: 0.0759\n",
            "Epoch 449/500\n",
            "60000/60000 [==============================] - 1s 20us/sample - loss: 0.0754 - val_loss: 0.0759\n",
            "Epoch 450/500\n",
            "60000/60000 [==============================] - 1s 19us/sample - loss: 0.0754 - val_loss: 0.0762\n",
            "Epoch 451/500\n",
            "60000/60000 [==============================] - 1s 19us/sample - loss: 0.0754 - val_loss: 0.0758\n",
            "Epoch 452/500\n",
            "60000/60000 [==============================] - 1s 20us/sample - loss: 0.0754 - val_loss: 0.0763\n",
            "Epoch 453/500\n",
            "60000/60000 [==============================] - 1s 20us/sample - loss: 0.0754 - val_loss: 0.0760\n",
            "Epoch 454/500\n",
            "60000/60000 [==============================] - 1s 19us/sample - loss: 0.0754 - val_loss: 0.0761\n",
            "Epoch 455/500\n",
            "60000/60000 [==============================] - 1s 20us/sample - loss: 0.0754 - val_loss: 0.0762\n",
            "Epoch 456/500\n",
            "60000/60000 [==============================] - 1s 20us/sample - loss: 0.0755 - val_loss: 0.0765\n",
            "Epoch 457/500\n",
            "60000/60000 [==============================] - 1s 20us/sample - loss: 0.0754 - val_loss: 0.0759\n",
            "Epoch 458/500\n",
            "60000/60000 [==============================] - 1s 19us/sample - loss: 0.0754 - val_loss: 0.0766\n",
            "Epoch 459/500\n",
            "60000/60000 [==============================] - 1s 19us/sample - loss: 0.0754 - val_loss: 0.0760\n",
            "Epoch 460/500\n",
            "60000/60000 [==============================] - 1s 20us/sample - loss: 0.0754 - val_loss: 0.0759\n",
            "Epoch 461/500\n",
            "60000/60000 [==============================] - 1s 20us/sample - loss: 0.0754 - val_loss: 0.0756\n",
            "Epoch 462/500\n",
            "60000/60000 [==============================] - 1s 20us/sample - loss: 0.0754 - val_loss: 0.0761\n",
            "Epoch 463/500\n",
            "60000/60000 [==============================] - 1s 20us/sample - loss: 0.0754 - val_loss: 0.0759\n",
            "Epoch 464/500\n",
            "60000/60000 [==============================] - 1s 20us/sample - loss: 0.0754 - val_loss: 0.0763\n",
            "Epoch 465/500\n",
            "60000/60000 [==============================] - 1s 20us/sample - loss: 0.0755 - val_loss: 0.0761\n",
            "Epoch 466/500\n",
            "60000/60000 [==============================] - 1s 20us/sample - loss: 0.0754 - val_loss: 0.0765\n",
            "Epoch 467/500\n",
            "60000/60000 [==============================] - 1s 21us/sample - loss: 0.0754 - val_loss: 0.0759\n",
            "Epoch 468/500\n",
            "60000/60000 [==============================] - 1s 20us/sample - loss: 0.0754 - val_loss: 0.0760\n",
            "Epoch 469/500\n",
            "60000/60000 [==============================] - 1s 19us/sample - loss: 0.0754 - val_loss: 0.0757\n",
            "Epoch 470/500\n",
            "60000/60000 [==============================] - 1s 19us/sample - loss: 0.0754 - val_loss: 0.0760\n",
            "Epoch 471/500\n",
            "60000/60000 [==============================] - 1s 20us/sample - loss: 0.0754 - val_loss: 0.0759\n",
            "Epoch 472/500\n",
            "60000/60000 [==============================] - 1s 20us/sample - loss: 0.0754 - val_loss: 0.0760\n",
            "Epoch 473/500\n",
            "60000/60000 [==============================] - 1s 19us/sample - loss: 0.0754 - val_loss: 0.0760\n",
            "Epoch 474/500\n",
            "60000/60000 [==============================] - 1s 19us/sample - loss: 0.0754 - val_loss: 0.0760\n",
            "Epoch 475/500\n",
            "60000/60000 [==============================] - 1s 19us/sample - loss: 0.0754 - val_loss: 0.0757\n",
            "Epoch 476/500\n",
            "60000/60000 [==============================] - 1s 19us/sample - loss: 0.0754 - val_loss: 0.0763\n",
            "Epoch 477/500\n",
            "60000/60000 [==============================] - 1s 19us/sample - loss: 0.0754 - val_loss: 0.0764\n",
            "Epoch 478/500\n",
            "60000/60000 [==============================] - 1s 20us/sample - loss: 0.0754 - val_loss: 0.0759\n",
            "Epoch 479/500\n",
            "60000/60000 [==============================] - 1s 19us/sample - loss: 0.0754 - val_loss: 0.0760\n",
            "Epoch 480/500\n",
            "60000/60000 [==============================] - 1s 20us/sample - loss: 0.0754 - val_loss: 0.0758\n",
            "Epoch 481/500\n",
            "60000/60000 [==============================] - 1s 20us/sample - loss: 0.0754 - val_loss: 0.0758\n",
            "Epoch 482/500\n",
            "60000/60000 [==============================] - 1s 19us/sample - loss: 0.0754 - val_loss: 0.0760\n",
            "Epoch 483/500\n",
            "60000/60000 [==============================] - 1s 20us/sample - loss: 0.0754 - val_loss: 0.0756\n",
            "Epoch 484/500\n",
            "60000/60000 [==============================] - 1s 21us/sample - loss: 0.0754 - val_loss: 0.0760\n",
            "Epoch 485/500\n",
            "60000/60000 [==============================] - 1s 20us/sample - loss: 0.0754 - val_loss: 0.0759\n",
            "Epoch 486/500\n",
            "60000/60000 [==============================] - 1s 19us/sample - loss: 0.0754 - val_loss: 0.0763\n",
            "Epoch 487/500\n",
            "60000/60000 [==============================] - 1s 20us/sample - loss: 0.0754 - val_loss: 0.0758\n",
            "Epoch 488/500\n",
            "60000/60000 [==============================] - 1s 19us/sample - loss: 0.0754 - val_loss: 0.0759\n",
            "Epoch 489/500\n",
            "60000/60000 [==============================] - 1s 20us/sample - loss: 0.0754 - val_loss: 0.0759\n",
            "Epoch 490/500\n",
            "60000/60000 [==============================] - 1s 19us/sample - loss: 0.0754 - val_loss: 0.0759\n",
            "Epoch 491/500\n",
            "60000/60000 [==============================] - 1s 19us/sample - loss: 0.0754 - val_loss: 0.0760\n",
            "Epoch 492/500\n",
            "60000/60000 [==============================] - 1s 21us/sample - loss: 0.0754 - val_loss: 0.0759\n",
            "Epoch 493/500\n",
            "60000/60000 [==============================] - 1s 20us/sample - loss: 0.0754 - val_loss: 0.0759\n",
            "Epoch 494/500\n",
            "60000/60000 [==============================] - 1s 19us/sample - loss: 0.0754 - val_loss: 0.0757\n",
            "Epoch 495/500\n",
            "60000/60000 [==============================] - 1s 19us/sample - loss: 0.0754 - val_loss: 0.0757\n",
            "Epoch 496/500\n",
            "60000/60000 [==============================] - 1s 19us/sample - loss: 0.0754 - val_loss: 0.0759\n",
            "Epoch 497/500\n",
            "60000/60000 [==============================] - 1s 19us/sample - loss: 0.0754 - val_loss: 0.0757\n",
            "Epoch 498/500\n",
            "60000/60000 [==============================] - 1s 19us/sample - loss: 0.0754 - val_loss: 0.0760\n",
            "Epoch 499/500\n",
            "60000/60000 [==============================] - 1s 20us/sample - loss: 0.0754 - val_loss: 0.0757\n",
            "Epoch 500/500\n",
            "60000/60000 [==============================] - 1s 19us/sample - loss: 0.0753 - val_loss: 0.0762\n"
          ],
          "name": "stdout"
        },
        {
          "output_type": "execute_result",
          "data": {
            "text/plain": [
              "<tensorflow.python.keras.callbacks.History at 0x7f486167bef0>"
            ]
          },
          "metadata": {
            "tags": []
          },
          "execution_count": 17
        }
      ]
    },
    {
      "cell_type": "code",
      "metadata": {
        "id": "PMilVr86TE85",
        "colab_type": "code",
        "colab": {}
      },
      "source": [
        "#encode_imgs = encoder.predict(x_test)\n",
        "#decoded_imgs = decoder.predict(encoded_imgs)\n",
        "\n",
        "decoded_imgs = autoencoder.predict(x_test)"
      ],
      "execution_count": 0,
      "outputs": []
    },
    {
      "cell_type": "code",
      "metadata": {
        "id": "F-kDm-3O-aB1",
        "colab_type": "code",
        "colab": {
          "base_uri": "https://localhost:8080/",
          "height": 248
        },
        "outputId": "673f95ba-463e-4b7e-c60c-0124407f77e2"
      },
      "source": [
        "# use Matplotlib (don't ask)\n",
        "import matplotlib.pyplot as plt\n",
        "\n",
        "n = 10  # how many digits we will display\n",
        "plt.figure(figsize=(20, 4))\n",
        "for i in range(n):\n",
        "    # display original\n",
        "    ax = plt.subplot(2, n, i + 1)\n",
        "    plt.imshow(x_test[i].reshape(28, 28))\n",
        "    plt.gray()\n",
        "    ax.get_xaxis().set_visible(False)\n",
        "    ax.get_yaxis().set_visible(False)\n",
        "\n",
        "    # display reconstruction\n",
        "    ax = plt.subplot(2, n, i + 1 + n)\n",
        "    plt.imshow(decoded_imgs[i].reshape(28, 28))\n",
        "    plt.gray()\n",
        "    ax.get_xaxis().set_visible(False)\n",
        "    ax.get_yaxis().set_visible(False)\n",
        "plt.show()"
      ],
      "execution_count": 19,
      "outputs": [
        {
          "output_type": "display_data",
          "data": {
            "image/png": "[encoded data removed]",
            "text/plain": [
              "<Figure size 1440x288 with 20 Axes>"
            ]
          },
          "metadata": {
            "tags": []
          }
        }
      ]
    },
    {
      "cell_type": "markdown",
      "metadata": {
        "toc-hr-collapsed": true,
        "id": "eDUQMpEb-aB3",
        "colab_type": "text"
      },
      "source": [
        "### Convolutional autoencoder\n",
        "\n",
        "> Since our inputs are images, it makes sense to use convolutional neural networks (convnets) as encoders and decoders. In practical settings, autoencoders applied to images are always convolutional autoencoders --they simply perform much better.\n",
        "\n",
        "> Let's implement one. The encoder will consist in a stack of Conv2D and MaxPooling2D layers (max pooling being used for spatial down-sampling), while the decoder will consist in a stack of Conv2D and UpSampling2D layers."
      ]
    },
    {
      "cell_type": "code",
      "metadata": {
        "id": "YflTAree-aB4",
        "colab_type": "code",
        "colab": {
          "base_uri": "https://localhost:8080/",
          "height": 622
        },
        "outputId": "ac14d7aa-5ab6-46f4-f83e-f7fc409db7bd"
      },
      "source": [
        "from keras.layers import Input, Dense, Conv2D, MaxPooling2D, UpSampling2D\n",
        "from keras.models import Model\n",
        "from keras import backend as K\n",
        "# Create Model\n",
        "input_img = Input(shape=(28,28,1))\n",
        "l1 = Conv2D(32, (3,3), activation='relu', padding='same')(input_img)\n",
        "l2 = MaxPooling2D((2,2), padding='same')(l1)\n",
        "l3 = Conv2D(16, (3, 3), activation='relu', padding='same')(l2)\n",
        "l4 = MaxPooling2D((2, 2), padding='same')(l3)\n",
        "l5 = Conv2D(16, (3, 3), activation='relu', padding='same')(l4)\n",
        "encoded = MaxPooling2D((2, 2), padding='same')(l5)\n",
        "# at this point the representation is (4, 4, 8i.e. 128-dimensional representation\n",
        "x = Conv2D(16, (3, 3), activation='relu', padding='same')(encoded)\n",
        "x = UpSampling2D((2, 2))(x)\n",
        "x = Conv2D(16, (3, 3), activation='relu', padding='same')(x)\n",
        "x = UpSampling2D((2, 2))(x)\n",
        "x = Conv2D(32, (3, 3), activation='relu')(x)\n",
        "x = UpSampling2D((2, 2))(x)\n",
        "decoded = Conv2D(1, (3, 3), activation='sigmoid', padding='same')(x)\n",
        "autoencoder = Model(input_img, decoded)\n",
        "autoencoder.compile(optimizer='nadam', loss='binary_crossentropy')\n",
        "autoencoder.summary()"
      ],
      "execution_count": 30,
      "outputs": [
        {
          "output_type": "stream",
          "text": [
            "Model: \"model_5\"\n",
            "_________________________________________________________________\n",
            "Layer (type)                 Output Shape              Param #   \n",
            "=================================================================\n",
            "input_5 (InputLayer)         (None, 28, 28, 1)         0         \n",
            "_________________________________________________________________\n",
            "conv2d_29 (Conv2D)           (None, 28, 28, 32)        320       \n",
            "_________________________________________________________________\n",
            "max_pooling2d_13 (MaxPooling (None, 14, 14, 32)        0         \n",
            "_________________________________________________________________\n",
            "conv2d_30 (Conv2D)           (None, 14, 14, 16)        4624      \n",
            "_________________________________________________________________\n",
            "max_pooling2d_14 (MaxPooling (None, 7, 7, 16)          0         \n",
            "_________________________________________________________________\n",
            "conv2d_31 (Conv2D)           (None, 7, 7, 16)          2320      \n",
            "_________________________________________________________________\n",
            "max_pooling2d_15 (MaxPooling (None, 4, 4, 16)          0         \n",
            "_________________________________________________________________\n",
            "conv2d_32 (Conv2D)           (None, 4, 4, 16)          2320      \n",
            "_________________________________________________________________\n",
            "up_sampling2d_13 (UpSampling (None, 8, 8, 16)          0         \n",
            "_________________________________________________________________\n",
            "conv2d_33 (Conv2D)           (None, 8, 8, 16)          2320      \n",
            "_________________________________________________________________\n",
            "up_sampling2d_14 (UpSampling (None, 16, 16, 16)        0         \n",
            "_________________________________________________________________\n",
            "conv2d_34 (Conv2D)           (None, 14, 14, 32)        4640      \n",
            "_________________________________________________________________\n",
            "up_sampling2d_15 (UpSampling (None, 28, 28, 32)        0         \n",
            "_________________________________________________________________\n",
            "conv2d_35 (Conv2D)           (None, 28, 28, 1)         289       \n",
            "=================================================================\n",
            "Total params: 16,833\n",
            "Trainable params: 16,833\n",
            "Non-trainable params: 0\n",
            "_________________________________________________________________\n"
          ],
          "name": "stdout"
        }
      ]
    },
    {
      "cell_type": "code",
      "metadata": {
        "id": "JAOJXRLm-aB5",
        "colab_type": "code",
        "colab": {}
      },
      "source": [
        "from keras.datasets import mnist\n",
        "import numpy as np\n",
        "\n",
        "(x_train, _), (x_test, _) = mnist.load_data()\n",
        "\n",
        "x_train = x_train.astype('float32') / 255.\n",
        "x_test = x_test.astype('float32') / 255.\n",
        "x_train = np.reshape(x_train, (len(x_train), 28, 28, 1))  # adapt this if using `channels_first` image data format\n",
        "x_test = np.reshape(x_test, (len(x_test), 28, 28, 1))  # adapt this if using `channels_first` image data format"
      ],
      "execution_count": 0,
      "outputs": []
    },
    {
      "cell_type": "code",
      "metadata": {
        "id": "gVUpmdNj-aB7",
        "colab_type": "code",
        "colab": {
          "base_uri": "https://localhost:8080/",
          "height": 84
        },
        "outputId": "afb94965-b779-4f4f-9c48-decbdfa85db3"
      },
      "source": [
        "wandb.init(project=\"autoencoder\", entity=\"ds8\")\n",
        "\n",
        "autoencoder.fit(x_train, x_train,\n",
        "                epochs=100,\n",
        "                batch_size=256,\n",
        "                shuffle=True,\n",
        "                validation_data=(x_test, x_test),\n",
        "                verbose=False,\n",
        "                callbacks=[WandbCallback()])"
      ],
      "execution_count": 32,
      "outputs": [
        {
          "output_type": "display_data",
          "data": {
            "text/html": [
              "\n",
              "                Logging results to <a href=\"https://wandb.com\" target=\"_blank\">Weights & Biases</a> <a href=\"https://docs.wandb.com/integrations/jupyter.html\" target=\"_blank\">(Documentation)</a>.<br/>\n",
              "                Project page: <a href=\"https://app.wandb.ai/ds8/autoencoder\" target=\"_blank\">https://app.wandb.ai/ds8/autoencoder</a><br/>\n",
              "                Run page: <a href=\"https://app.wandb.ai/ds8/autoencoder/runs/08v67ucp\" target=\"_blank\">https://app.wandb.ai/ds8/autoencoder/runs/08v67ucp</a><br/>\n",
              "            "
            ],
            "text/plain": [
              "<IPython.core.display.HTML object>"
            ]
          },
          "metadata": {
            "tags": []
          }
        },
        {
          "output_type": "execute_result",
          "data": {
            "text/plain": [
              "<keras.callbacks.History at 0x7f486209bf28>"
            ]
          },
          "metadata": {
            "tags": []
          },
          "execution_count": 32
        }
      ]
    },
    {
      "cell_type": "code",
      "metadata": {
        "id": "ApObQQ5H-aB9",
        "colab_type": "code",
        "colab": {
          "base_uri": "https://localhost:8080/",
          "height": 248
        },
        "outputId": "cab291fd-2d94-4d84-897a-eec5556618a0"
      },
      "source": [
        "decoded_imgs = autoencoder.predict(x_test)\n",
        "\n",
        "n = 10\n",
        "plt.figure(figsize=(20, 4))\n",
        "for i in range(n):\n",
        "    # display original\n",
        "    ax = plt.subplot(2, n, i+1)\n",
        "    plt.imshow(x_test[i].reshape(28, 28))\n",
        "    plt.gray()\n",
        "    ax.get_xaxis().set_visible(False)\n",
        "    ax.get_yaxis().set_visible(False)\n",
        "\n",
        "    # display reconstruction\n",
        "    ax = plt.subplot(2, n, i + n + 1)\n",
        "    plt.imshow(decoded_imgs[i].reshape(28, 28))\n",
        "    plt.gray()\n",
        "    ax.get_xaxis().set_visible(False)\n",
        "    ax.get_yaxis().set_visible(False)\n",
        "plt.show()"
      ],
      "execution_count": 35,
      "outputs": [
        {
          "output_type": "display_data",
          "data": {
            "image/png": "[encoded data removed]",
            "text/plain": [
              "<Figure size 1440x288 with 20 Axes>"
            ]
          },
          "metadata": {
            "tags": []
          }
        }
      ]
    },
    {
      "cell_type": "markdown",
      "metadata": {
        "id": "uWmOQVAV-aB_",
        "colab_type": "text"
      },
      "source": [
        "#### Visualization of the Representations"
      ]
    },
    {
      "cell_type": "code",
      "metadata": {
        "id": "xbTslCUD-aB_",
        "colab_type": "code",
        "colab": {
          "base_uri": "https://localhost:8080/",
          "height": 699
        },
        "outputId": "82d71717-826f-46d5-bdae-597f1374b0fb"
      },
      "source": [
        "encoder = Model(input_img, encoded)\n",
        "encoder.predict(x_train)\n",
        "\n",
        "n = 10\n",
        "plt.figure(figsize=(20, 8))\n",
        "for i in range(n):\n",
        "    ax = plt.subplot(1, n, i + 1)\n",
        "    plt.imshow(encoded_imgs[i].reshape(4, 4 * 8).T)\n",
        "    plt.gray()\n",
        "    ax.get_xaxis().set_visible(False)\n",
        "    ax.get_yaxis().set_visible(False)\n",
        "plt.show()"
      ],
      "execution_count": 37,
      "outputs": [
        {
          "output_type": "error",
          "ename": "ValueError",
          "evalue": "ignored",
          "traceback": [
            "\u001b[0;31m---------------------------------------------------------------------------\u001b[0m",
            "\u001b[0;31mValueError\u001b[0m                                Traceback (most recent call last)",
            "\u001b[0;32m<ipython-input-37-fc80d405c2ac>\u001b[0m in \u001b[0;36m<module>\u001b[0;34m()\u001b[0m\n\u001b[1;32m      6\u001b[0m \u001b[0;32mfor\u001b[0m \u001b[0mi\u001b[0m \u001b[0;32min\u001b[0m \u001b[0mrange\u001b[0m\u001b[0;34m(\u001b[0m\u001b[0mn\u001b[0m\u001b[0;34m)\u001b[0m\u001b[0;34m:\u001b[0m\u001b[0;34m\u001b[0m\u001b[0;34m\u001b[0m\u001b[0m\n\u001b[1;32m      7\u001b[0m     \u001b[0max\u001b[0m \u001b[0;34m=\u001b[0m \u001b[0mplt\u001b[0m\u001b[0;34m.\u001b[0m\u001b[0msubplot\u001b[0m\u001b[0;34m(\u001b[0m\u001b[0;36m1\u001b[0m\u001b[0;34m,\u001b[0m \u001b[0mn\u001b[0m\u001b[0;34m,\u001b[0m \u001b[0mi\u001b[0m \u001b[0;34m+\u001b[0m \u001b[0;36m1\u001b[0m\u001b[0;34m)\u001b[0m\u001b[0;34m\u001b[0m\u001b[0;34m\u001b[0m\u001b[0m\n\u001b[0;32m----> 8\u001b[0;31m     \u001b[0mplt\u001b[0m\u001b[0;34m.\u001b[0m\u001b[0mimshow\u001b[0m\u001b[0;34m(\u001b[0m\u001b[0mencoded_imgs\u001b[0m\u001b[0;34m[\u001b[0m\u001b[0mi\u001b[0m\u001b[0;34m]\u001b[0m\u001b[0;34m.\u001b[0m\u001b[0mreshape\u001b[0m\u001b[0;34m(\u001b[0m\u001b[0;36m4\u001b[0m\u001b[0;34m,\u001b[0m \u001b[0;36m4\u001b[0m \u001b[0;34m*\u001b[0m \u001b[0;36m8\u001b[0m\u001b[0;34m)\u001b[0m\u001b[0;34m.\u001b[0m\u001b[0mT\u001b[0m\u001b[0;34m)\u001b[0m\u001b[0;34m\u001b[0m\u001b[0;34m\u001b[0m\u001b[0m\n\u001b[0m\u001b[1;32m      9\u001b[0m     \u001b[0mplt\u001b[0m\u001b[0;34m.\u001b[0m\u001b[0mgray\u001b[0m\u001b[0;34m(\u001b[0m\u001b[0;34m)\u001b[0m\u001b[0;34m\u001b[0m\u001b[0;34m\u001b[0m\u001b[0m\n\u001b[1;32m     10\u001b[0m     \u001b[0max\u001b[0m\u001b[0;34m.\u001b[0m\u001b[0mget_xaxis\u001b[0m\u001b[0;34m(\u001b[0m\u001b[0;34m)\u001b[0m\u001b[0;34m.\u001b[0m\u001b[0mset_visible\u001b[0m\u001b[0;34m(\u001b[0m\u001b[0;32mFalse\u001b[0m\u001b[0;34m)\u001b[0m\u001b[0;34m\u001b[0m\u001b[0;34m\u001b[0m\u001b[0m\n",
            "\u001b[0;31mValueError\u001b[0m: cannot reshape array of size 32 into shape (4,32)"
          ]
        },
        {
          "output_type": "display_data",
          "data": {
            "image/png": "[encoded data removed]",
            "text/plain": [
              "<Figure size 1440x576 with 1 Axes>"
            ]
          },
          "metadata": {
            "tags": []
          }
        }
      ]
    },
    {
      "cell_type": "markdown",
      "metadata": {
        "id": "6dmJrALr-aCD",
        "colab_type": "text"
      },
      "source": [
        "## Challenge\n",
        "\n",
        "You will train an autoencoder at some point in the near future. "
      ]
    },
    {
      "cell_type": "markdown",
      "metadata": {
        "id": "S4CQFdSg-aCD",
        "colab_type": "text"
      },
      "source": [
        "# Information Retrieval with Autoencoders (Learn)\n",
        "<a id=\"p3\"></a>"
      ]
    },
    {
      "cell_type": "markdown",
      "metadata": {
        "id": "RwZGf10w-aCE",
        "colab_type": "text"
      },
      "source": [
        "## Overview\n",
        "\n",
        "A common usecase for autoencoders is for reverse image search. Let's try to draw an image and see what's most similiar in our dataset. \n",
        "\n",
        "To accomplish this we will need to slice our autoendoer in half to extract our reduced features. :) "
      ]
    },
    {
      "cell_type": "markdown",
      "metadata": {
        "id": "3Mn5BCZF-aCF",
        "colab_type": "text"
      },
      "source": [
        "## Follow Along"
      ]
    },
    {
      "cell_type": "code",
      "metadata": {
        "id": "5No95mIT-aCF",
        "colab_type": "code",
        "colab": {}
      },
      "source": [
        "encoder = Model(input_img, encoded)\n",
        "encoded_imgs = encoder.predict(x_train)"
      ],
      "execution_count": 0,
      "outputs": []
    },
    {
      "cell_type": "code",
      "metadata": {
        "id": "RAcu5CeI-aCH",
        "colab_type": "code",
        "outputId": "234db09c-8ded-4e48-ba33-8a1baae5c76f",
        "colab": {}
      },
      "source": [
        "encoded_imgs[0].T"
      ],
      "execution_count": 0,
      "outputs": [
        {
          "output_type": "execute_result",
          "data": {
            "text/plain": [
              "array([ 0.39389127,  1.0158104 ,  0.        ,  0.        ,  0.06517133,\n",
              "        2.450819  ,  0.        ,  5.1117034 ,  0.74338543,  2.3620906 ,\n",
              "        0.        ,  0.        ,  0.        ,  2.0215404 ,  6.1629906 ,\n",
              "        0.6670714 ,  4.66508   ,  2.5439487 , 17.914988  ,  0.        ,\n",
              "        7.9524546 ,  5.3824563 ,  1.0916216 ,  6.234546  ,  0.        ,\n",
              "        0.8884269 ,  7.485719  ,  3.44194   ,  8.927442  ,  0.        ,\n",
              "        0.23894644,  0.        ], dtype=float32)"
            ]
          },
          "metadata": {
            "tags": []
          },
          "execution_count": 98
        }
      ]
    },
    {
      "cell_type": "code",
      "metadata": {
        "id": "A-UnZMDK-aCJ",
        "colab_type": "code",
        "outputId": "633ba476-fe23-4aa9-8f23-b5294b04cba8",
        "colab": {}
      },
      "source": [
        "from sklearn.neighbors import NearestNeighbors\n",
        "\n",
        "nn = NearestNeighbors(n_neighbors=10, algorithm='ball_tree')\n",
        "nn.fit(encoded_imgs)"
      ],
      "execution_count": 0,
      "outputs": [
        {
          "output_type": "execute_result",
          "data": {
            "text/plain": [
              "NearestNeighbors(algorithm='ball_tree', leaf_size=30, metric='minkowski',\n",
              "                 metric_params=None, n_jobs=None, n_neighbors=10, p=2,\n",
              "                 radius=1.0)"
            ]
          },
          "metadata": {
            "tags": []
          },
          "execution_count": 99
        }
      ]
    },
    {
      "cell_type": "code",
      "metadata": {
        "id": "VqByoQU7-aCL",
        "colab_type": "code",
        "colab": {}
      },
      "source": [
        "nn.kneighbors(...)"
      ],
      "execution_count": 0,
      "outputs": []
    },
    {
      "cell_type": "markdown",
      "metadata": {
        "id": "58uJmGzz-aCN",
        "colab_type": "text"
      },
      "source": [
        "## Challenge\n",
        "\n",
        "You should already be familiar with KNN and similarity queries, so the key component of this section is know what to 'slice' from your autoencoder (the encoder) to extract features from your data. "
      ]
    },
    {
      "cell_type": "markdown",
      "metadata": {
        "id": "5HV5Otyc-aCN",
        "colab_type": "text"
      },
      "source": [
        "# Review\n",
        "\n",
        "* <a href=\"#p1\">Part 1</a>: Describe the componenets of an autoencoder\n",
        "    - Enocder\n",
        "    - Decoder\n",
        "* <a href=\"#p2\">Part 2</a>: Train an autoencoder\n",
        "    - Can do in Keras Easily\n",
        "    - Can use a variety of architectures\n",
        "    - Architectures must follow hourglass shape\n",
        "* <a href=\"#p3\">Part 3</a>: Apply an autoenocder to a basic information retrieval problem\n",
        "    - Extract just the encoder to use for various tasks\n",
        "    - AE ares good for dimensionality reduction, reverse image search, and may more things. \n"
      ]
    },
    {
      "cell_type": "markdown",
      "metadata": {
        "id": "p68U5mye-aCO",
        "colab_type": "text"
      },
      "source": [
        "# Sources\n",
        "\n",
        "__References__\n",
        "- [Building Autoencoders in Keras](https://blog.keras.io/building-autoencoders-in-keras.html)\n",
        "- [Deep Learning Cookbook](http://shop.oreilly.com/product/0636920097471.do)\n",
        "\n",
        "__Additional Material__"
      ]
    }
  ]
}