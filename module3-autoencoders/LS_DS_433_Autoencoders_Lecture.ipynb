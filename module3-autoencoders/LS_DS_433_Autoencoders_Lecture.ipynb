{
 "cells": [
  {
   "cell_type": "markdown",
   "metadata": {},
   "source": [
    "Lambda School Data Science\n",
    "\n",
    "*Unit 4, Sprint 3, Module 3*\n",
    "\n",
    "---"
   ]
  },
  {
   "cell_type": "markdown",
   "metadata": {},
   "source": [
    "# Autoencoders\n",
    "\n",
    "> An autoencoder is a type of artificial neural network used to learn efficient data codings in an unsupervised manner.[1][2] The aim of an autoencoder is to learn a representation (encoding) for a set of data, typically for dimensionality reduction, by training the network to ignore signal “noise”. Along with the reduction side, a reconstructing side is learnt, where the autoencoder tries to generate from the reduced encoding a representation as close as possible to its original input, hence its name. "
   ]
  },
  {
   "cell_type": "markdown",
   "metadata": {},
   "source": [
    "## Learning Objectives\n",
    "*At the end of the lecture you should be to*:\n",
    "* <a href=\"#p1\">Part 1</a>: Describe the componenets of an autoencoder\n",
    "* <a href=\"#p2\">Part 2</a>: Train an autoencoder\n",
    "* <a href=\"#p3\">Part 3</a>: Apply an autoenocder to a basic information retrieval problem\n",
    "\n",
    "__Problem:__ Is it possible to automatically represent an image as a fixed-sized vector even if it isn’t labeled?\n",
    "\n",
    "__Solution:__ Use an autoencoder\n",
    "\n",
    "Why do we need to represent an image as a fixed-sized vector do you ask? \n",
    "\n",
    "* __Information Retrieval__\n",
    "    - [Reverse Image Search](https://en.wikipedia.org/wiki/Reverse_image_search)\n",
    "    - [Recommendation Systems - Content Based Filtering](https://en.wikipedia.org/wiki/Recommender_system#Content-based_filtering)\n",
    "* __Dimensionality Reduction__\n",
    "    - [Feature Extraction](https://www.kaggle.com/c/vsb-power-line-fault-detection/discussion/78285)\n",
    "    - [Manifold Learning](https://en.wikipedia.org/wiki/Nonlinear_dimensionality_reduction)\n",
    "\n",
    "We've already seen *representation learning* when we talked about word embedding modelings during our NLP week. Today we're going to achieve a similiar goal on images using *autoencoders*. An autoencoder is a neural network that is trained to attempt to copy its input to its output. Usually they are restricted in ways that allow them to copy only approximately. The model often learns useful properties of the data, because it is forced to prioritize which aspecs of the input should be copied. The properties of autoencoders have made them an important part of modern generative modeling approaches. Consider autoencoders a special case of feed-forward networks (the kind we've been studying); backpropagation and gradient descent still work. "
   ]
  },
  {
   "cell_type": "markdown",
   "metadata": {},
   "source": [
    "# Autoencoder Architecture (Learn)\n",
    "<a id=\"p1\"></a>"
   ]
  },
  {
   "cell_type": "markdown",
   "metadata": {},
   "source": [
    "## Overview\n",
    "\n",
    "The *encoder* compresses the input data and the *decoder* does the reverse to produce the uncompressed version of the data to create a reconstruction of the input as accurately as possible:\n",
    "\n",
    "<img src='https://miro.medium.com/max/1400/1*44eDEuZBEsmG_TCAKRI3Kw@2x.png' width=800/>\n",
    "\n",
    "The learning process gis described simply as minimizing a loss function: \n",
    "$ L(x, g(f(x))) $\n",
    "\n",
    "- $L$ is a loss function penalizing $g(f(x))$ for being dissimiliar from $x$ (such as mean squared error)\n",
    "- $f$ is the encoder function\n",
    "- $g$ is the decoder function"
   ]
  },
  {
   "cell_type": "markdown",
   "metadata": {},
   "source": [
    "## Follow Along\n",
    "### Extremely Simple Autoencoder"
   ]
  },
  {
   "cell_type": "code",
   "execution_count": 1,
   "metadata": {},
   "outputs": [
    {
     "name": "stdout",
     "output_type": "stream",
     "text": [
      "WARNING:tensorflow:From /home/ec2-user/anaconda3/envs/tensorflow_p36/lib/python3.6/site-packages/tensorflow/python/ops/init_ops.py:1251: calling VarianceScaling.__init__ (from tensorflow.python.ops.init_ops) with dtype is deprecated and will be removed in a future version.\n",
      "Instructions for updating:\n",
      "Call initializer instance with the dtype argument instead of passing it to the constructor\n"
     ]
    }
   ],
   "source": [
    "from tensorflow.keras.layers import Input, Dense\n",
    "from tensorflow.keras.models import Model\n",
    "\n",
    "#import wandb\n",
    "#from wandb.keras import WandbCallback\n",
    "\n",
    "# this is the size of our encoded representations\n",
    "encoding_dim = 32  # 32 floats -> compression of factor 24.5, assuming the input is 784 floats\n",
    "\n",
    "# this is our input placeholder\n",
    "input_img = Input(shape=(784,))\n",
    "\n",
    "# \"encoded\" is the encoded representation of the input\n",
    "encoded = Dense(encoding_dim, activation='sigmoid')(input_img)\n",
    "# \"decoded\" is the lossy reconstruction of the input\n",
    "decoded = Dense(784, activation='sigmoid')(encoded)\n",
    "\n",
    "# this model maps an input to its reconstruction\n",
    "autoencoder = Model(input_img, decoded)"
   ]
  },
  {
   "cell_type": "code",
   "execution_count": 2,
   "metadata": {},
   "outputs": [],
   "source": [
    "# this model maps an input to its encoded representation\n",
    "encoder = Model(input_img, encoded)"
   ]
  },
  {
   "cell_type": "code",
   "execution_count": 106,
   "metadata": {},
   "outputs": [],
   "source": [
    "# create a placeholder for an encoded (32-dimensional) input\n",
    "\n",
    "# retrieve the last layer of the autoencoder model\n",
    "\n",
    "# create the decoder model\n"
   ]
  },
  {
   "cell_type": "code",
   "execution_count": 3,
   "metadata": {},
   "outputs": [
    {
     "name": "stdout",
     "output_type": "stream",
     "text": [
      "WARNING:tensorflow:From /home/ec2-user/anaconda3/envs/tensorflow_p36/lib/python3.6/site-packages/tensorflow/python/ops/nn_impl.py:180: add_dispatch_support.<locals>.wrapper (from tensorflow.python.ops.array_ops) is deprecated and will be removed in a future version.\n",
      "Instructions for updating:\n",
      "Use tf.where in 2.0, which has the same broadcast rule as np.where\n"
     ]
    }
   ],
   "source": [
    "autoencoder.compile(optimizer='adadelta', loss='binary_crossentropy')"
   ]
  },
  {
   "cell_type": "code",
   "execution_count": 4,
   "metadata": {},
   "outputs": [
    {
     "name": "stdout",
     "output_type": "stream",
     "text": [
      "Downloading data from https://storage.googleapis.com/tensorflow/tf-keras-datasets/mnist.npz\n",
      "11493376/11490434 [==============================] - 0s 0us/step\n"
     ]
    }
   ],
   "source": [
    "from tensorflow.keras.datasets import mnist\n",
    "import numpy as np\n",
    "(x_train, _), (x_test, _) = mnist.load_data()"
   ]
  },
  {
   "cell_type": "code",
   "execution_count": 5,
   "metadata": {},
   "outputs": [
    {
     "name": "stdout",
     "output_type": "stream",
     "text": [
      "(60000, 784)\n",
      "(10000, 784)\n"
     ]
    }
   ],
   "source": [
    "x_train = x_train.astype('float32') / 255.\n",
    "x_test = x_test.astype('float32') / 255.\n",
    "x_train = x_train.reshape((len(x_train), np.prod(x_train.shape[1:])))\n",
    "x_test = x_test.reshape((len(x_test), np.prod(x_test.shape[1:])))\n",
    "print(x_train.shape)\n",
    "print(x_test.shape)"
   ]
  },
  {
   "cell_type": "code",
   "execution_count": 11,
   "metadata": {},
   "outputs": [
    {
     "name": "stdout",
     "output_type": "stream",
     "text": [
      "Train on 60000 samples, validate on 10000 samples\n",
      "Epoch 1/10\n",
      "60000/60000 [==============================] - 2s 34us/sample - loss: 0.6301 - val_loss: 0.6297\n",
      "Epoch 2/10\n",
      "60000/60000 [==============================] - 2s 34us/sample - loss: 0.6295 - val_loss: 0.6291\n",
      "Epoch 3/10\n",
      "60000/60000 [==============================] - 2s 35us/sample - loss: 0.6289 - val_loss: 0.6285\n",
      "Epoch 4/10\n",
      "60000/60000 [==============================] - 2s 35us/sample - loss: 0.6283 - val_loss: 0.6279\n",
      "Epoch 5/10\n",
      "60000/60000 [==============================] - 2s 34us/sample - loss: 0.6277 - val_loss: 0.6273\n",
      "Epoch 6/10\n",
      "60000/60000 [==============================] - 2s 34us/sample - loss: 0.6271 - val_loss: 0.6267\n",
      "Epoch 7/10\n",
      "60000/60000 [==============================] - 2s 33us/sample - loss: 0.6265 - val_loss: 0.6261\n",
      "Epoch 8/10\n",
      "60000/60000 [==============================] - 3s 43us/sample - loss: 0.6259 - val_loss: 0.6255\n",
      "Epoch 9/10\n",
      "60000/60000 [==============================] - 3s 46us/sample - loss: 0.6253 - val_loss: 0.6249\n",
      "Epoch 10/10\n",
      "60000/60000 [==============================] - 2s 34us/sample - loss: 0.6247 - val_loss: 0.6243\n"
     ]
    },
    {
     "data": {
      "text/plain": [
       "<tensorflow.python.keras.callbacks.History at 0x7f63f32a23c8>"
      ]
     },
     "execution_count": 11,
     "metadata": {},
     "output_type": "execute_result"
    }
   ],
   "source": [
    "#wandb.init(project=\"mnist_autoencoder\", entity=\"ds5\")\n",
    "\n",
    "autoencoder.fit(x_train, x_train,\n",
    "                epochs=10,\n",
    "                batch_size=256,\n",
    "                shuffle=True,\n",
    "                validation_data=(x_test, x_test),\n",
    "                verbose = True)"
   ]
  },
  {
   "cell_type": "code",
   "execution_count": 12,
   "metadata": {},
   "outputs": [],
   "source": [
    "# encode and decode some digits\n",
    "# note that we take them from the *test* set\n",
    "decoded_imgs = autoencoder.predict(x_test)\n"
   ]
  },
  {
   "cell_type": "code",
   "execution_count": 13,
   "metadata": {},
   "outputs": [
    {
     "data": {
      "image/png": "[encoded data removed]",
      "text/plain": [
       "<Figure size 1440x288 with 20 Axes>"
      ]
     },
     "metadata": {},
     "output_type": "display_data"
    }
   ],
   "source": [
    "# use Matplotlib (don't ask)\n",
    "import matplotlib.pyplot as plt\n",
    "\n",
    "n = 10  # how many digits we will display\n",
    "plt.figure(figsize=(20, 4))\n",
    "for i in range(n):\n",
    "    # display original\n",
    "    ax = plt.subplot(2, n, i + 1)\n",
    "    plt.imshow(x_test[i].reshape(28, 28))\n",
    "    plt.gray()\n",
    "    ax.get_xaxis().set_visible(False)\n",
    "    ax.get_yaxis().set_visible(False)\n",
    "\n",
    "    # display reconstruction\n",
    "    ax = plt.subplot(2, n, i + 1 + n)\n",
    "    plt.imshow(decoded_imgs[i].reshape(28, 28))\n",
    "    plt.gray()\n",
    "    ax.get_xaxis().set_visible(False)\n",
    "    ax.get_yaxis().set_visible(False)\n",
    "plt.show()"
   ]
  },
  {
   "cell_type": "markdown",
   "metadata": {},
   "source": [
    "## Challenge\n",
    "\n",
    "Expected to talk about the components of autoencoder and their purpose. "
   ]
  },
  {
   "cell_type": "markdown",
   "metadata": {},
   "source": [
    "# Train an Autoencoder (Learn)\n",
    "<a id=\"p2\"></a>"
   ]
  },
  {
   "cell_type": "markdown",
   "metadata": {},
   "source": [
    "## Overview\n",
    "\n",
    "As long as our architecture maintains an hourglass shape, we can continue to add layers and create a deeper network. "
   ]
  },
  {
   "cell_type": "markdown",
   "metadata": {
    "toc-hr-collapsed": true,
    "toc-nb-collapsed": true
   },
   "source": [
    "## Follow Along"
   ]
  },
  {
   "cell_type": "code",
   "execution_count": null,
   "metadata": {},
   "outputs": [],
   "source": []
  },
  {
   "cell_type": "code",
   "execution_count": null,
   "metadata": {},
   "outputs": [],
   "source": []
  },
  {
   "cell_type": "markdown",
   "metadata": {},
   "source": [
    "### Deep Autoencoder"
   ]
  },
  {
   "cell_type": "code",
   "execution_count": null,
   "metadata": {},
   "outputs": [],
   "source": [
    "input_img = Input(shape=(784,))\n"
   ]
  },
  {
   "cell_type": "code",
   "execution_count": null,
   "metadata": {},
   "outputs": [],
   "source": [
    "# compile & fit model"
   ]
  },
  {
   "cell_type": "code",
   "execution_count": null,
   "metadata": {},
   "outputs": [],
   "source": [
    "# use Matplotlib (don't ask)\n",
    "import matplotlib.pyplot as plt\n",
    "\n",
    "n = 10  # how many digits we will display\n",
    "plt.figure(figsize=(20, 4))\n",
    "for i in range(n):\n",
    "    # display original\n",
    "    ax = plt.subplot(2, n, i + 1)\n",
    "    plt.imshow(x_test[i].reshape(28, 28))\n",
    "    plt.gray()\n",
    "    ax.get_xaxis().set_visible(False)\n",
    "    ax.get_yaxis().set_visible(False)\n",
    "\n",
    "    # display reconstruction\n",
    "    ax = plt.subplot(2, n, i + 1 + n)\n",
    "    plt.imshow(decoded_imgs[i].reshape(28, 28))\n",
    "    plt.gray()\n",
    "    ax.get_xaxis().set_visible(False)\n",
    "    ax.get_yaxis().set_visible(False)\n",
    "plt.show()"
   ]
  },
  {
   "cell_type": "markdown",
   "metadata": {
    "toc-hr-collapsed": true
   },
   "source": [
    "### Convolutional autoencoder\n",
    "\n",
    "> Since our inputs are images, it makes sense to use convolutional neural networks (convnets) as encoders and decoders. In practical settings, autoencoders applied to images are always convolutional autoencoders --they simply perform much better.\n",
    "\n",
    "> Let's implement one. The encoder will consist in a stack of Conv2D and MaxPooling2D layers (max pooling being used for spatial down-sampling), while the decoder will consist in a stack of Conv2D and UpSampling2D layers."
   ]
  },
  {
   "cell_type": "code",
   "execution_count": null,
   "metadata": {},
   "outputs": [],
   "source": [
    "from keras.layers import Input, Dense, Conv2D, MaxPooling2D, UpSampling2D\n",
    "from keras.models import Model\n",
    "from keras import backend as K\n",
    "\n",
    "# Create Model \n",
    "\n",
    "autoencoder.compile(optimizer='adadelta', loss='binary_crossentropy')"
   ]
  },
  {
   "cell_type": "code",
   "execution_count": null,
   "metadata": {},
   "outputs": [],
   "source": [
    "from keras.datasets import mnist\n",
    "import numpy as np\n",
    "\n",
    "(x_train, _), (x_test, _) = mnist.load_data()\n",
    "\n",
    "x_train = x_train.astype('float32') / 255.\n",
    "x_test = x_test.astype('float32') / 255.\n",
    "x_train = np.reshape(x_train, (len(x_train), 28, 28, 1))  # adapt this if using `channels_first` image data format\n",
    "x_test = np.reshape(x_test, (len(x_test), 28, 28, 1))  # adapt this if using `channels_first` image data format"
   ]
  },
  {
   "cell_type": "code",
   "execution_count": null,
   "metadata": {},
   "outputs": [],
   "source": [
    "wandb.init(project=\"mnist_autoencoder\", entity=\"ds5\")\n",
    "\n",
    "autoencoder.fit(x_train, x_train,\n",
    "                epochs=100,\n",
    "                batch_size=256,\n",
    "                shuffle=True,\n",
    "                validation_data=(x_test, x_test),\n",
    "                verbose=False,\n",
    "                callbacks=[WandbCallback()])"
   ]
  },
  {
   "cell_type": "code",
   "execution_count": null,
   "metadata": {},
   "outputs": [],
   "source": [
    "decoded_imgs = autoencoder.predict(x_test)\n",
    "\n",
    "n = 10\n",
    "plt.figure(figsize=(20, 4))\n",
    "for i in range(n):\n",
    "    # display original\n",
    "    ax = plt.subplot(2, n, i)\n",
    "    plt.imshow(x_test[i].reshape(28, 28))\n",
    "    plt.gray()\n",
    "    ax.get_xaxis().set_visible(False)\n",
    "    ax.get_yaxis().set_visible(False)\n",
    "\n",
    "    # display reconstruction\n",
    "    ax = plt.subplot(2, n, i + n)\n",
    "    plt.imshow(decoded_imgs[i].reshape(28, 28))\n",
    "    plt.gray()\n",
    "    ax.get_xaxis().set_visible(False)\n",
    "    ax.get_yaxis().set_visible(False)\n",
    "plt.show()"
   ]
  },
  {
   "cell_type": "markdown",
   "metadata": {},
   "source": [
    "#### Visualization of the Representations"
   ]
  },
  {
   "cell_type": "code",
   "execution_count": null,
   "metadata": {},
   "outputs": [],
   "source": [
    "encoder = Model(input_img, encoded)\n",
    "encoder.predict(x_train)\n",
    "\n",
    "n = 10\n",
    "plt.figure(figsize=(20, 8))\n",
    "for i in range(n):\n",
    "    ax = plt.subplot(1, n, i)\n",
    "    plt.imshow(encoded_imgs[i].reshape(4, 4 * 8).T)\n",
    "    plt.gray()\n",
    "    ax.get_xaxis().set_visible(False)\n",
    "    ax.get_yaxis().set_visible(False)\n",
    "plt.show()"
   ]
  },
  {
   "cell_type": "code",
   "execution_count": 15,
   "metadata": {},
   "outputs": [],
   "source": [
    "input_img = Input(shape=(784,))\n",
    "encoded = Dense(128, activation='relu')(input_img)\n",
    "encoded = Dense(64, activation='relu')(encoded)\n",
    "encoded = Dense(32, activation='relu')(encoded)\n",
    "\n",
    "decoded = Dense(64, activation='relu')(encoded)\n",
    "decoded = Dense(128, activation='relu')(decoded)\n",
    "decoded = Dense(784, activation='sigmoid')(decoded)\n"
   ]
  },
  {
   "cell_type": "markdown",
   "metadata": {},
   "source": [
    "## Challenge\n",
    "\n",
    "You will train an autoencoder at some point in the near future. "
   ]
  },
  {
   "cell_type": "markdown",
   "metadata": {},
   "source": [
    "# Information Retrieval with Autoencoders (Learn)\n",
    "<a id=\"p3\"></a>"
   ]
  },
  {
   "cell_type": "markdown",
   "metadata": {},
   "source": [
    "## Overview\n",
    "\n",
    "A common usecase for autoencoders is for reverse image search. Let's try to draw an image and see what's most similiar in our dataset. \n",
    "\n",
    "To accomplish this we will need to slice our autoendoer in half to extract our reduced features. :) "
   ]
  },
  {
   "cell_type": "markdown",
   "metadata": {},
   "source": [
    "## Follow Along"
   ]
  },
  {
   "cell_type": "code",
   "execution_count": 16,
   "metadata": {},
   "outputs": [
    {
     "name": "stdout",
     "output_type": "stream",
     "text": [
      "Train on 60000 samples, validate on 10000 samples\n",
      "Epoch 1/500\n",
      "60000/60000 [==============================] - 3s 54us/sample - loss: 0.3390 - val_loss: 0.2501\n",
      "Epoch 2/500\n",
      "60000/60000 [==============================] - 2s 34us/sample - loss: 0.2203 - val_loss: 0.1899\n",
      "Epoch 3/500\n",
      "60000/60000 [==============================] - 2s 35us/sample - loss: 0.1777 - val_loss: 0.1653\n",
      "Epoch 4/500\n",
      "60000/60000 [==============================] - 2s 35us/sample - loss: 0.1591 - val_loss: 0.1508\n",
      "Epoch 5/500\n",
      "60000/60000 [==============================] - 2s 34us/sample - loss: 0.1472 - val_loss: 0.1413\n",
      "Epoch 6/500\n",
      "60000/60000 [==============================] - 2s 35us/sample - loss: 0.1392 - val_loss: 0.1345\n",
      "Epoch 7/500\n",
      "60000/60000 [==============================] - 2s 35us/sample - loss: 0.1332 - val_loss: 0.1289\n",
      "Epoch 8/500\n",
      "60000/60000 [==============================] - 2s 35us/sample - loss: 0.1283 - val_loss: 0.1250\n",
      "Epoch 9/500\n",
      "60000/60000 [==============================] - 2s 35us/sample - loss: 0.1248 - val_loss: 0.1218\n",
      "Epoch 10/500\n",
      "60000/60000 [==============================] - 2s 34us/sample - loss: 0.1219 - val_loss: 0.1194\n",
      "Epoch 11/500\n",
      "60000/60000 [==============================] - 2s 35us/sample - loss: 0.1195 - val_loss: 0.1172\n",
      "Epoch 12/500\n",
      "60000/60000 [==============================] - 2s 35us/sample - loss: 0.1172 - val_loss: 0.1149\n",
      "Epoch 13/500\n",
      "60000/60000 [==============================] - 2s 34us/sample - loss: 0.1149 - val_loss: 0.1125\n",
      "Epoch 14/500\n",
      "60000/60000 [==============================] - 2s 34us/sample - loss: 0.1129 - val_loss: 0.1104\n",
      "Epoch 15/500\n",
      "60000/60000 [==============================] - 2s 34us/sample - loss: 0.1112 - val_loss: 0.1088\n",
      "Epoch 16/500\n",
      "60000/60000 [==============================] - 2s 34us/sample - loss: 0.1095 - val_loss: 0.1075\n",
      "Epoch 17/500\n",
      "60000/60000 [==============================] - 2s 34us/sample - loss: 0.1081 - val_loss: 0.1061\n",
      "Epoch 18/500\n",
      "60000/60000 [==============================] - 2s 35us/sample - loss: 0.1068 - val_loss: 0.1049\n",
      "Epoch 19/500\n",
      "60000/60000 [==============================] - 2s 34us/sample - loss: 0.1058 - val_loss: 0.1045\n",
      "Epoch 20/500\n",
      "60000/60000 [==============================] - 2s 35us/sample - loss: 0.1049 - val_loss: 0.1032\n",
      "Epoch 21/500\n",
      "60000/60000 [==============================] - 2s 36us/sample - loss: 0.1040 - val_loss: 0.1024\n",
      "Epoch 22/500\n",
      "60000/60000 [==============================] - 2s 36us/sample - loss: 0.1033 - val_loss: 0.1017\n",
      "Epoch 23/500\n",
      "60000/60000 [==============================] - 2s 35us/sample - loss: 0.1025 - val_loss: 0.1010\n",
      "Epoch 24/500\n",
      "60000/60000 [==============================] - 2s 35us/sample - loss: 0.1019 - val_loss: 0.1003\n",
      "Epoch 25/500\n",
      "60000/60000 [==============================] - 2s 35us/sample - loss: 0.1012 - val_loss: 0.0997\n",
      "Epoch 26/500\n",
      "60000/60000 [==============================] - 2s 35us/sample - loss: 0.1005 - val_loss: 0.0996\n",
      "Epoch 27/500\n",
      "60000/60000 [==============================] - 2s 35us/sample - loss: 0.1000 - val_loss: 0.0985\n",
      "Epoch 28/500\n",
      "60000/60000 [==============================] - 2s 35us/sample - loss: 0.0994 - val_loss: 0.0979\n",
      "Epoch 29/500\n",
      "60000/60000 [==============================] - 2s 35us/sample - loss: 0.0988 - val_loss: 0.0974\n",
      "Epoch 30/500\n",
      "60000/60000 [==============================] - 2s 36us/sample - loss: 0.0982 - val_loss: 0.0968\n",
      "Epoch 31/500\n",
      "60000/60000 [==============================] - 2s 35us/sample - loss: 0.0978 - val_loss: 0.0964\n",
      "Epoch 32/500\n",
      "60000/60000 [==============================] - 2s 36us/sample - loss: 0.0972 - val_loss: 0.0959\n",
      "Epoch 33/500\n",
      "60000/60000 [==============================] - 2s 34us/sample - loss: 0.0968 - val_loss: 0.0955\n",
      "Epoch 34/500\n",
      "60000/60000 [==============================] - 2s 35us/sample - loss: 0.0963 - val_loss: 0.0949\n",
      "Epoch 35/500\n",
      "60000/60000 [==============================] - 2s 35us/sample - loss: 0.0960 - val_loss: 0.0949\n",
      "Epoch 36/500\n",
      "60000/60000 [==============================] - 2s 42us/sample - loss: 0.0955 - val_loss: 0.0943\n",
      "Epoch 37/500\n",
      "60000/60000 [==============================] - 3s 47us/sample - loss: 0.0952 - val_loss: 0.0941\n",
      "Epoch 38/500\n",
      "60000/60000 [==============================] - 2s 37us/sample - loss: 0.0950 - val_loss: 0.0936\n",
      "Epoch 39/500\n",
      "60000/60000 [==============================] - 2s 34us/sample - loss: 0.0945 - val_loss: 0.0935\n",
      "Epoch 40/500\n",
      "60000/60000 [==============================] - 2s 34us/sample - loss: 0.0942 - val_loss: 0.0930\n",
      "Epoch 41/500\n",
      "60000/60000 [==============================] - 2s 34us/sample - loss: 0.0939 - val_loss: 0.0928\n",
      "Epoch 42/500\n",
      "60000/60000 [==============================] - 2s 34us/sample - loss: 0.0937 - val_loss: 0.0924\n",
      "Epoch 43/500\n",
      "60000/60000 [==============================] - 2s 34us/sample - loss: 0.0934 - val_loss: 0.0923\n",
      "Epoch 44/500\n",
      "60000/60000 [==============================] - 2s 34us/sample - loss: 0.0932 - val_loss: 0.0922\n",
      "Epoch 45/500\n",
      "60000/60000 [==============================] - 2s 34us/sample - loss: 0.0929 - val_loss: 0.0918\n",
      "Epoch 46/500\n",
      "60000/60000 [==============================] - 2s 35us/sample - loss: 0.0928 - val_loss: 0.0917\n",
      "Epoch 47/500\n",
      "60000/60000 [==============================] - 2s 35us/sample - loss: 0.0925 - val_loss: 0.0916\n",
      "Epoch 48/500\n",
      "60000/60000 [==============================] - 2s 34us/sample - loss: 0.0923 - val_loss: 0.0912\n",
      "Epoch 49/500\n",
      "60000/60000 [==============================] - 2s 35us/sample - loss: 0.0922 - val_loss: 0.0911\n",
      "Epoch 50/500\n",
      "60000/60000 [==============================] - 2s 35us/sample - loss: 0.0920 - val_loss: 0.0910\n",
      "Epoch 51/500\n",
      "60000/60000 [==============================] - 2s 34us/sample - loss: 0.0917 - val_loss: 0.0910\n",
      "Epoch 52/500\n",
      "60000/60000 [==============================] - 2s 34us/sample - loss: 0.0916 - val_loss: 0.0904\n",
      "Epoch 53/500\n",
      "60000/60000 [==============================] - 2s 33us/sample - loss: 0.0913 - val_loss: 0.0903\n",
      "Epoch 54/500\n",
      "60000/60000 [==============================] - 2s 35us/sample - loss: 0.0911 - val_loss: 0.0901\n",
      "Epoch 55/500\n",
      "60000/60000 [==============================] - 2s 34us/sample - loss: 0.0910 - val_loss: 0.0900\n",
      "Epoch 56/500\n",
      "60000/60000 [==============================] - 2s 34us/sample - loss: 0.0908 - val_loss: 0.0898\n",
      "Epoch 57/500\n",
      "60000/60000 [==============================] - 2s 34us/sample - loss: 0.0906 - val_loss: 0.0896\n",
      "Epoch 58/500\n",
      "60000/60000 [==============================] - 2s 35us/sample - loss: 0.0905 - val_loss: 0.0901\n",
      "Epoch 59/500\n",
      "60000/60000 [==============================] - 2s 35us/sample - loss: 0.0902 - val_loss: 0.0893\n",
      "Epoch 60/500\n",
      "60000/60000 [==============================] - 2s 34us/sample - loss: 0.0900 - val_loss: 0.0891\n",
      "Epoch 61/500\n",
      "60000/60000 [==============================] - 2s 35us/sample - loss: 0.0899 - val_loss: 0.0891\n",
      "Epoch 62/500\n",
      "60000/60000 [==============================] - 2s 35us/sample - loss: 0.0897 - val_loss: 0.0887\n",
      "Epoch 63/500\n",
      "60000/60000 [==============================] - 2s 34us/sample - loss: 0.0896 - val_loss: 0.0887\n",
      "Epoch 64/500\n",
      "60000/60000 [==============================] - 2s 34us/sample - loss: 0.0894 - val_loss: 0.0884\n",
      "Epoch 65/500\n",
      "60000/60000 [==============================] - 2s 34us/sample - loss: 0.0893 - val_loss: 0.0894\n",
      "Epoch 66/500\n",
      "60000/60000 [==============================] - 2s 35us/sample - loss: 0.0891 - val_loss: 0.0884\n",
      "Epoch 67/500\n",
      "60000/60000 [==============================] - 2s 34us/sample - loss: 0.0890 - val_loss: 0.0881\n",
      "Epoch 68/500\n",
      "60000/60000 [==============================] - 2s 34us/sample - loss: 0.0888 - val_loss: 0.0881\n",
      "Epoch 69/500\n",
      "60000/60000 [==============================] - 2s 34us/sample - loss: 0.0887 - val_loss: 0.0877\n",
      "Epoch 70/500\n",
      "60000/60000 [==============================] - 2s 34us/sample - loss: 0.0886 - val_loss: 0.0878\n",
      "Epoch 71/500\n",
      "60000/60000 [==============================] - 2s 34us/sample - loss: 0.0884 - val_loss: 0.0878\n",
      "Epoch 72/500\n",
      "60000/60000 [==============================] - 2s 34us/sample - loss: 0.0883 - val_loss: 0.0876\n",
      "Epoch 73/500\n",
      "60000/60000 [==============================] - 2s 35us/sample - loss: 0.0882 - val_loss: 0.0874\n",
      "Epoch 74/500\n",
      "60000/60000 [==============================] - 2s 34us/sample - loss: 0.0880 - val_loss: 0.0873\n",
      "Epoch 75/500\n",
      "60000/60000 [==============================] - 2s 35us/sample - loss: 0.0879 - val_loss: 0.0871\n",
      "Epoch 76/500\n",
      "60000/60000 [==============================] - 2s 34us/sample - loss: 0.0878 - val_loss: 0.0872\n",
      "Epoch 77/500\n",
      "60000/60000 [==============================] - 2s 35us/sample - loss: 0.0876 - val_loss: 0.0868\n",
      "Epoch 78/500\n",
      "60000/60000 [==============================] - 2s 34us/sample - loss: 0.0876 - val_loss: 0.0868\n",
      "Epoch 79/500\n",
      "60000/60000 [==============================] - 2s 35us/sample - loss: 0.0874 - val_loss: 0.0871\n",
      "Epoch 80/500\n",
      "60000/60000 [==============================] - 2s 34us/sample - loss: 0.0873 - val_loss: 0.0866\n",
      "Epoch 81/500\n",
      "60000/60000 [==============================] - 2s 35us/sample - loss: 0.0872 - val_loss: 0.0865\n",
      "Epoch 82/500\n",
      "60000/60000 [==============================] - 2s 35us/sample - loss: 0.0871 - val_loss: 0.0863\n",
      "Epoch 83/500\n",
      "60000/60000 [==============================] - 2s 34us/sample - loss: 0.0870 - val_loss: 0.0862\n",
      "Epoch 84/500\n",
      "60000/60000 [==============================] - 2s 35us/sample - loss: 0.0869 - val_loss: 0.0862\n",
      "Epoch 85/500\n",
      "60000/60000 [==============================] - 2s 35us/sample - loss: 0.0867 - val_loss: 0.0860\n",
      "Epoch 86/500\n",
      "60000/60000 [==============================] - 2s 34us/sample - loss: 0.0866 - val_loss: 0.0859\n",
      "Epoch 87/500\n",
      "60000/60000 [==============================] - 2s 34us/sample - loss: 0.0866 - val_loss: 0.0860\n",
      "Epoch 88/500\n",
      "60000/60000 [==============================] - 2s 35us/sample - loss: 0.0864 - val_loss: 0.0856\n",
      "Epoch 89/500\n",
      "60000/60000 [==============================] - 2s 34us/sample - loss: 0.0864 - val_loss: 0.0856\n",
      "Epoch 90/500\n",
      "60000/60000 [==============================] - 2s 35us/sample - loss: 0.0863 - val_loss: 0.0856\n",
      "Epoch 91/500\n",
      "60000/60000 [==============================] - 2s 34us/sample - loss: 0.0862 - val_loss: 0.0855\n",
      "Epoch 92/500\n",
      "60000/60000 [==============================] - 2s 34us/sample - loss: 0.0861 - val_loss: 0.0857\n",
      "Epoch 93/500\n",
      "60000/60000 [==============================] - 2s 33us/sample - loss: 0.0861 - val_loss: 0.0854\n",
      "Epoch 94/500\n",
      "60000/60000 [==============================] - 2s 34us/sample - loss: 0.0860 - val_loss: 0.0854\n",
      "Epoch 95/500\n",
      "60000/60000 [==============================] - 2s 34us/sample - loss: 0.0859 - val_loss: 0.0854\n",
      "Epoch 96/500\n",
      "60000/60000 [==============================] - 2s 34us/sample - loss: 0.0858 - val_loss: 0.0851\n",
      "Epoch 97/500\n",
      "60000/60000 [==============================] - 2s 35us/sample - loss: 0.0857 - val_loss: 0.0850\n",
      "Epoch 98/500\n",
      "60000/60000 [==============================] - 2s 35us/sample - loss: 0.0856 - val_loss: 0.0851\n",
      "Epoch 99/500\n",
      "60000/60000 [==============================] - 2s 35us/sample - loss: 0.0856 - val_loss: 0.0850\n",
      "Epoch 100/500\n",
      "60000/60000 [==============================] - 2s 34us/sample - loss: 0.0855 - val_loss: 0.0850\n",
      "Epoch 101/500\n",
      "60000/60000 [==============================] - 2s 34us/sample - loss: 0.0854 - val_loss: 0.0849\n",
      "Epoch 102/500\n",
      "60000/60000 [==============================] - 2s 34us/sample - loss: 0.0854 - val_loss: 0.0850\n",
      "Epoch 103/500\n",
      "60000/60000 [==============================] - 2s 33us/sample - loss: 0.0853 - val_loss: 0.0848\n",
      "Epoch 104/500\n",
      "60000/60000 [==============================] - 2s 35us/sample - loss: 0.0853 - val_loss: 0.0847\n",
      "Epoch 105/500\n",
      "60000/60000 [==============================] - 2s 35us/sample - loss: 0.0852 - val_loss: 0.0846\n",
      "Epoch 106/500\n",
      "60000/60000 [==============================] - 2s 35us/sample - loss: 0.0851 - val_loss: 0.0847\n",
      "Epoch 107/500\n",
      "60000/60000 [==============================] - 2s 34us/sample - loss: 0.0850 - val_loss: 0.0844\n",
      "Epoch 108/500\n",
      "60000/60000 [==============================] - 2s 34us/sample - loss: 0.0850 - val_loss: 0.0843\n",
      "Epoch 109/500\n",
      "60000/60000 [==============================] - 2s 34us/sample - loss: 0.0849 - val_loss: 0.0844\n",
      "Epoch 110/500\n",
      "60000/60000 [==============================] - 2s 34us/sample - loss: 0.0849 - val_loss: 0.0844\n",
      "Epoch 111/500\n",
      "60000/60000 [==============================] - 2s 34us/sample - loss: 0.0848 - val_loss: 0.0848\n",
      "Epoch 112/500\n",
      "60000/60000 [==============================] - 2s 34us/sample - loss: 0.0849 - val_loss: 0.0842\n",
      "Epoch 113/500\n",
      "60000/60000 [==============================] - 2s 34us/sample - loss: 0.0847 - val_loss: 0.0842\n",
      "Epoch 114/500\n",
      "60000/60000 [==============================] - 2s 33us/sample - loss: 0.0846 - val_loss: 0.0843\n",
      "Epoch 115/500\n",
      "60000/60000 [==============================] - 2s 34us/sample - loss: 0.0847 - val_loss: 0.0841\n",
      "Epoch 116/500\n",
      "15680/60000 [======>.......................] - ETA: 1s - loss: 0.0846"
     ]
    },
    {
     "ename": "KeyboardInterrupt",
     "evalue": "",
     "output_type": "error",
     "traceback": [
      "\u001b[0;31m---------------------------------------------------------------------------\u001b[0m",
      "\u001b[0;31mKeyboardInterrupt\u001b[0m                         Traceback (most recent call last)",
      "\u001b[0;32m<ipython-input-16-c967a0bd7d56>\u001b[0m in \u001b[0;36m<module>\u001b[0;34m()\u001b[0m\n\u001b[1;32m      3\u001b[0m \u001b[0mautoencoder\u001b[0m\u001b[0;34m.\u001b[0m\u001b[0mcompile\u001b[0m\u001b[0;34m(\u001b[0m\u001b[0moptimizer\u001b[0m\u001b[0;34m=\u001b[0m\u001b[0;34m'adam'\u001b[0m\u001b[0;34m,\u001b[0m \u001b[0mloss\u001b[0m\u001b[0;34m=\u001b[0m\u001b[0;34m'binary_crossentropy'\u001b[0m\u001b[0;34m)\u001b[0m\u001b[0;34m\u001b[0m\u001b[0m\n\u001b[1;32m      4\u001b[0m \u001b[0;34m\u001b[0m\u001b[0m\n\u001b[0;32m----> 5\u001b[0;31m \u001b[0mautoencoder\u001b[0m\u001b[0;34m.\u001b[0m\u001b[0mfit\u001b[0m\u001b[0;34m(\u001b[0m\u001b[0mx_train\u001b[0m\u001b[0;34m,\u001b[0m \u001b[0mx_train\u001b[0m\u001b[0;34m,\u001b[0m \u001b[0mepochs\u001b[0m\u001b[0;34m=\u001b[0m\u001b[0;36m500\u001b[0m\u001b[0;34m,\u001b[0m \u001b[0mbatch_size\u001b[0m\u001b[0;34m=\u001b[0m\u001b[0;36m784\u001b[0m\u001b[0;34m,\u001b[0m \u001b[0mshuffle\u001b[0m\u001b[0;34m=\u001b[0m\u001b[0;32mTrue\u001b[0m\u001b[0;34m,\u001b[0m \u001b[0mvalidation_data\u001b[0m\u001b[0;34m=\u001b[0m\u001b[0;34m(\u001b[0m\u001b[0mx_test\u001b[0m\u001b[0;34m,\u001b[0m \u001b[0mx_test\u001b[0m\u001b[0;34m)\u001b[0m\u001b[0;34m,\u001b[0m \u001b[0mverbose\u001b[0m\u001b[0;34m=\u001b[0m\u001b[0;32mTrue\u001b[0m\u001b[0;34m)\u001b[0m\u001b[0;34m\u001b[0m\u001b[0m\n\u001b[0m",
      "\u001b[0;32m~/anaconda3/envs/tensorflow_p36/lib/python3.6/site-packages/tensorflow/python/keras/engine/training.py\u001b[0m in \u001b[0;36mfit\u001b[0;34m(self, x, y, batch_size, epochs, verbose, callbacks, validation_split, validation_data, shuffle, class_weight, sample_weight, initial_epoch, steps_per_epoch, validation_steps, validation_freq, max_queue_size, workers, use_multiprocessing, **kwargs)\u001b[0m\n\u001b[1;32m    778\u001b[0m           \u001b[0mvalidation_steps\u001b[0m\u001b[0;34m=\u001b[0m\u001b[0mvalidation_steps\u001b[0m\u001b[0;34m,\u001b[0m\u001b[0;34m\u001b[0m\u001b[0m\n\u001b[1;32m    779\u001b[0m           \u001b[0mvalidation_freq\u001b[0m\u001b[0;34m=\u001b[0m\u001b[0mvalidation_freq\u001b[0m\u001b[0;34m,\u001b[0m\u001b[0;34m\u001b[0m\u001b[0m\n\u001b[0;32m--> 780\u001b[0;31m           steps_name='steps_per_epoch')\n\u001b[0m\u001b[1;32m    781\u001b[0m \u001b[0;34m\u001b[0m\u001b[0m\n\u001b[1;32m    782\u001b[0m   def evaluate(self,\n",
      "\u001b[0;32m~/anaconda3/envs/tensorflow_p36/lib/python3.6/site-packages/tensorflow/python/keras/engine/training_arrays.py\u001b[0m in \u001b[0;36mmodel_iteration\u001b[0;34m(model, inputs, targets, sample_weights, batch_size, epochs, verbose, callbacks, val_inputs, val_targets, val_sample_weights, shuffle, initial_epoch, steps_per_epoch, validation_steps, validation_freq, mode, validation_in_fit, prepared_feed_values_from_dataset, steps_name, **kwargs)\u001b[0m\n\u001b[1;32m    361\u001b[0m \u001b[0;34m\u001b[0m\u001b[0m\n\u001b[1;32m    362\u001b[0m         \u001b[0;31m# Get outputs.\u001b[0m\u001b[0;34m\u001b[0m\u001b[0;34m\u001b[0m\u001b[0m\n\u001b[0;32m--> 363\u001b[0;31m         \u001b[0mbatch_outs\u001b[0m \u001b[0;34m=\u001b[0m \u001b[0mf\u001b[0m\u001b[0;34m(\u001b[0m\u001b[0mins_batch\u001b[0m\u001b[0;34m)\u001b[0m\u001b[0;34m\u001b[0m\u001b[0m\n\u001b[0m\u001b[1;32m    364\u001b[0m         \u001b[0;32mif\u001b[0m \u001b[0;32mnot\u001b[0m \u001b[0misinstance\u001b[0m\u001b[0;34m(\u001b[0m\u001b[0mbatch_outs\u001b[0m\u001b[0;34m,\u001b[0m \u001b[0mlist\u001b[0m\u001b[0;34m)\u001b[0m\u001b[0;34m:\u001b[0m\u001b[0;34m\u001b[0m\u001b[0m\n\u001b[1;32m    365\u001b[0m           \u001b[0mbatch_outs\u001b[0m \u001b[0;34m=\u001b[0m \u001b[0;34m[\u001b[0m\u001b[0mbatch_outs\u001b[0m\u001b[0;34m]\u001b[0m\u001b[0;34m\u001b[0m\u001b[0m\n",
      "\u001b[0;32m~/anaconda3/envs/tensorflow_p36/lib/python3.6/site-packages/tensorflow/python/keras/backend.py\u001b[0m in \u001b[0;36m__call__\u001b[0;34m(self, inputs)\u001b[0m\n\u001b[1;32m   3290\u001b[0m \u001b[0;34m\u001b[0m\u001b[0m\n\u001b[1;32m   3291\u001b[0m     fetched = self._callable_fn(*array_vals,\n\u001b[0;32m-> 3292\u001b[0;31m                                 run_metadata=self.run_metadata)\n\u001b[0m\u001b[1;32m   3293\u001b[0m     \u001b[0mself\u001b[0m\u001b[0;34m.\u001b[0m\u001b[0m_call_fetch_callbacks\u001b[0m\u001b[0;34m(\u001b[0m\u001b[0mfetched\u001b[0m\u001b[0;34m[\u001b[0m\u001b[0;34m-\u001b[0m\u001b[0mlen\u001b[0m\u001b[0;34m(\u001b[0m\u001b[0mself\u001b[0m\u001b[0;34m.\u001b[0m\u001b[0m_fetches\u001b[0m\u001b[0;34m)\u001b[0m\u001b[0;34m:\u001b[0m\u001b[0;34m]\u001b[0m\u001b[0;34m)\u001b[0m\u001b[0;34m\u001b[0m\u001b[0m\n\u001b[1;32m   3294\u001b[0m     output_structure = nest.pack_sequence_as(\n",
      "\u001b[0;32m~/anaconda3/envs/tensorflow_p36/lib/python3.6/site-packages/tensorflow/python/client/session.py\u001b[0m in \u001b[0;36m__call__\u001b[0;34m(self, *args, **kwargs)\u001b[0m\n\u001b[1;32m   1456\u001b[0m         ret = tf_session.TF_SessionRunCallable(self._session._session,\n\u001b[1;32m   1457\u001b[0m                                                \u001b[0mself\u001b[0m\u001b[0;34m.\u001b[0m\u001b[0m_handle\u001b[0m\u001b[0;34m,\u001b[0m \u001b[0margs\u001b[0m\u001b[0;34m,\u001b[0m\u001b[0;34m\u001b[0m\u001b[0m\n\u001b[0;32m-> 1458\u001b[0;31m                                                run_metadata_ptr)\n\u001b[0m\u001b[1;32m   1459\u001b[0m         \u001b[0;32mif\u001b[0m \u001b[0mrun_metadata\u001b[0m\u001b[0;34m:\u001b[0m\u001b[0;34m\u001b[0m\u001b[0m\n\u001b[1;32m   1460\u001b[0m           \u001b[0mproto_data\u001b[0m \u001b[0;34m=\u001b[0m \u001b[0mtf_session\u001b[0m\u001b[0;34m.\u001b[0m\u001b[0mTF_GetBuffer\u001b[0m\u001b[0;34m(\u001b[0m\u001b[0mrun_metadata_ptr\u001b[0m\u001b[0;34m)\u001b[0m\u001b[0;34m\u001b[0m\u001b[0m\n",
      "\u001b[0;31mKeyboardInterrupt\u001b[0m: "
     ]
    }
   ],
   "source": [
    "autoencoder = Model(input_img, decoded)\n",
    "\n",
    "autoencoder.compile(optimizer='adam', loss='binary_crossentropy')\n",
    "\n",
    "autoencoder.fit(x_train, x_train, epochs=500, batch_size=784, shuffle=True, validation_data=(x_test, x_test), ver)"
   ]
  },
  {
   "cell_type": "code",
   "execution_count": 18,
   "metadata": {},
   "outputs": [],
   "source": [
    "decoded_imgs = autoencoder.predict(x_test)"
   ]
  },
  {
   "cell_type": "code",
   "execution_count": 19,
   "metadata": {},
   "outputs": [
    {
     "data": {
      "image/png": "[encoded data removed]",
      "text/plain": [
       "<Figure size 1440x288 with 20 Axes>"
      ]
     },
     "metadata": {},
     "output_type": "display_data"
    }
   ],
   "source": [
    "n = 10  # how many digits we will display\n",
    "plt.figure(figsize=(20, 4))\n",
    "for i in range(n):\n",
    "    # display original\n",
    "    ax = plt.subplot(2, n, i + 1)\n",
    "    plt.imshow(x_test[i].reshape(28, 28))\n",
    "    plt.gray()\n",
    "    ax.get_xaxis().set_visible(False)\n",
    "    ax.get_yaxis().set_visible(False)\n",
    "\n",
    "    # display reconstruction\n",
    "    ax = plt.subplot(2, n, i + 1 + n)\n",
    "    plt.imshow(decoded_imgs[i].reshape(28, 28))\n",
    "    plt.gray()\n",
    "    ax.get_xaxis().set_visible(False)\n",
    "    ax.get_yaxis().set_visible(False)\n",
    "plt.show()"
   ]
  },
  {
   "cell_type": "code",
   "execution_count": null,
   "metadata": {},
   "outputs": [],
   "source": []
  },
  {
   "cell_type": "code",
   "execution_count": 94,
   "metadata": {},
   "outputs": [],
   "source": [
    "encoder = Model(input_img, encoded)\n",
    "encoded_imgs = encoder.predict(x_train)"
   ]
  },
  {
   "cell_type": "code",
   "execution_count": 98,
   "metadata": {},
   "outputs": [
    {
     "data": {
      "text/plain": [
       "array([ 0.39389127,  1.0158104 ,  0.        ,  0.        ,  0.06517133,\n",
       "        2.450819  ,  0.        ,  5.1117034 ,  0.74338543,  2.3620906 ,\n",
       "        0.        ,  0.        ,  0.        ,  2.0215404 ,  6.1629906 ,\n",
       "        0.6670714 ,  4.66508   ,  2.5439487 , 17.914988  ,  0.        ,\n",
       "        7.9524546 ,  5.3824563 ,  1.0916216 ,  6.234546  ,  0.        ,\n",
       "        0.8884269 ,  7.485719  ,  3.44194   ,  8.927442  ,  0.        ,\n",
       "        0.23894644,  0.        ], dtype=float32)"
      ]
     },
     "execution_count": 98,
     "metadata": {},
     "output_type": "execute_result"
    }
   ],
   "source": [
    "encoded_imgs[0].T"
   ]
  },
  {
   "cell_type": "code",
   "execution_count": 99,
   "metadata": {},
   "outputs": [
    {
     "data": {
      "text/plain": [
       "NearestNeighbors(algorithm='ball_tree', leaf_size=30, metric='minkowski',\n",
       "                 metric_params=None, n_jobs=None, n_neighbors=10, p=2,\n",
       "                 radius=1.0)"
      ]
     },
     "execution_count": 99,
     "metadata": {},
     "output_type": "execute_result"
    }
   ],
   "source": [
    "from sklearn.neighbors import NearestNeighbors\n",
    "\n",
    "nn = NearestNeighbors(n_neighbors=10, algorithm='ball_tree')\n",
    "nn.fit(encoded_imgs)"
   ]
  },
  {
   "cell_type": "code",
   "execution_count": null,
   "metadata": {},
   "outputs": [],
   "source": [
    "nn.kneighbors(...)"
   ]
  },
  {
   "cell_type": "markdown",
   "metadata": {},
   "source": [
    "## Challenge\n",
    "\n",
    "You should already be familiar with KNN and similarity queries, so the key component of this section is know what to 'slice' from your autoencoder (the encoder) to extract features from your data. "
   ]
  },
  {
   "cell_type": "markdown",
   "metadata": {},
   "source": [
    "# Review\n",
    "\n",
    "* <a href=\"#p1\">Part 1</a>: Describe the componenets of an autoencoder\n",
    "    - Enocder\n",
    "    - Decoder\n",
    "* <a href=\"#p2\">Part 2</a>: Train an autoencoder\n",
    "    - Can do in Keras Easily\n",
    "    - Can use a variety of architectures\n",
    "    - Architectures must follow hourglass shape\n",
    "* <a href=\"#p3\">Part 3</a>: Apply an autoenocder to a basic information retrieval problem\n",
    "    - Extract just the encoder to use for various tasks\n",
    "    - AE ares good for dimensionality reduction, reverse image search, and may more things. \n"
   ]
  },
  {
   "cell_type": "markdown",
   "metadata": {},
   "source": [
    "# Sources\n",
    "\n",
    "__References__\n",
    "- [Building Autoencoders in Keras](https://blog.keras.io/building-autoencoders-in-keras.html)\n",
    "- [Deep Learning Cookbook](http://shop.oreilly.com/product/0636920097471.do)\n",
    "\n",
    "__Additional Material__"
   ]
  }
 ],
 "metadata": {
  "kernelspec": {
   "display_name": "conda_tensorflow_p36",
   "language": "python",
   "name": "conda_tensorflow_p36"
  },
  "language_info": {
   "codemirror_mode": {
    "name": "ipython",
    "version": 3
   },
   "file_extension": ".py",
   "mimetype": "text/x-python",
   "name": "python",
   "nbconvert_exporter": "python",
   "pygments_lexer": "ipython3",
   "version": "3.6.5"
  }
 },
 "nbformat": 4,
 "nbformat_minor": 4
}
