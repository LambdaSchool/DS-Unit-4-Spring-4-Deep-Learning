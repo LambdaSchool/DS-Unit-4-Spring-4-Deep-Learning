{
 "cells": [
  {
   "cell_type": "markdown",
   "metadata": {},
   "source": [
    "Lambda School Data Science\n",
    "\n",
    "*Unit 4, Sprint 3, Module 3*\n",
    "\n",
    "---"
   ]
  },
  {
   "cell_type": "markdown",
   "metadata": {},
   "source": [
    "# Autoencoders\n",
    "\n",
    "> An autoencoder is a type of artificial neural network used to learn efficient data codings in an unsupervised manner.[1][2] The aim of an autoencoder is to learn a representation (encoding) for a set of data, typically for dimensionality reduction, by training the network to ignore signal “noise”. Along with the reduction side, a reconstructing side is learnt, where the autoencoder tries to generate from the reduced encoding a representation as close as possible to its original input, hence its name. "
   ]
  },
  {
   "cell_type": "markdown",
   "metadata": {},
   "source": [
    "## Learning Objectives\n",
    "*At the end of the lecture you should be to*:\n",
    "* <a href=\"#p1\">Part 1</a>: Describe the componenets of an autoencoder\n",
    "* <a href=\"#p2\">Part 2</a>: Train an autoencoder\n",
    "* <a href=\"#p3\">Part 3</a>: Apply an autoenocder to a basic information retrieval problem\n",
    "\n",
    "__Problem:__ Is it possible to automatically represent an image as a fixed-sized vector even if it isn’t labeled?\n",
    "\n",
    "__Solution:__ Use an autoencoder\n",
    "\n",
    "Why do we need to represent an image as a fixed-sized vector do you ask? \n",
    "\n",
    "* __Information Retrieval__\n",
    "    - [Reverse Image Search](https://en.wikipedia.org/wiki/Reverse_image_search)\n",
    "    - [Recommendation Systems - Content Based Filtering](https://en.wikipedia.org/wiki/Recommender_system#Content-based_filtering)\n",
    "* __Dimensionality Reduction__\n",
    "    - [Feature Extraction](https://www.kaggle.com/c/vsb-power-line-fault-detection/discussion/78285)\n",
    "    - [Manifold Learning](https://en.wikipedia.org/wiki/Nonlinear_dimensionality_reduction)\n",
    "\n",
    "We've already seen *representation learning* when we talked about word embedding modelings during our NLP week. Today we're going to achieve a similiar goal on images using *autoencoders*. An autoencoder is a neural network that is trained to attempt to copy its input to its output. Usually they are restricted in ways that allow them to copy only approximately. The model often learns useful properties of the data, because it is forced to prioritize which aspecs of the input should be copied. The properties of autoencoders have made them an important part of modern generative modeling approaches. Consider autoencoders a special case of feed-forward networks (the kind we've been studying); backpropagation and gradient descent still work. "
   ]
  },
  {
   "cell_type": "markdown",
   "metadata": {},
   "source": [
    "# Autoencoder Architecture (Learn)\n",
    "<a id=\"p1\"></a>"
   ]
  },
  {
   "cell_type": "markdown",
   "metadata": {},
   "source": [
    "## Overview\n",
    "\n",
    "The *encoder* compresses the input data and the *decoder* does the reverse to produce the uncompressed version of the data to create a reconstruction of the input as accurately as possible:\n",
    "\n",
    "<img src='https://miro.medium.com/max/1400/1*44eDEuZBEsmG_TCAKRI3Kw@2x.png' width=800/>\n",
    "\n",
    "The learning process gis described simply as minimizing a loss function: \n",
    "$ L(x, g(f(x))) $\n",
    "\n",
    "- $L$ is a loss function penalizing $g(f(x))$ for being dissimiliar from $x$ (such as mean squared error)\n",
    "- $f$ is the encoder function\n",
    "- $g$ is the decoder function"
   ]
  },
  {
   "cell_type": "markdown",
   "metadata": {},
   "source": [
    "## Follow Along\n",
    "### Extremely Simple Autoencoder"
   ]
  },
  {
   "cell_type": "code",
   "execution_count": 1,
   "metadata": {},
   "outputs": [],
   "source": [
    "import matplotlib.pyplot\n",
    "%matplotlib inline"
   ]
  },
  {
   "cell_type": "code",
   "execution_count": 2,
   "metadata": {},
   "outputs": [
    {
     "name": "stdout",
     "output_type": "stream",
     "text": [
      "[name: \"/device:CPU:0\"\n",
      "device_type: \"CPU\"\n",
      "memory_limit: 268435456\n",
      "locality {\n",
      "}\n",
      "incarnation: 14098996810324908861\n",
      ", name: \"/device:GPU:0\"\n",
      "device_type: \"GPU\"\n",
      "memory_limit: 3181130547\n",
      "locality {\n",
      "  bus_id: 1\n",
      "  links {\n",
      "  }\n",
      "}\n",
      "incarnation: 6658626341480131924\n",
      "physical_device_desc: \"device: 0, name: GeForce GTX 960M, pci bus id: 0000:01:00.0, compute capability: 5.0\"\n",
      "]\n"
     ]
    }
   ],
   "source": [
    "from tensorflow.python.client import device_lib\n",
    "print(device_lib.list_local_devices())"
   ]
  },
  {
   "cell_type": "code",
   "execution_count": 3,
   "metadata": {},
   "outputs": [],
   "source": [
    "from tensorflow.keras.layers import Input, Dense\n",
    "from tensorflow.keras.models import Model"
   ]
  },
  {
   "cell_type": "code",
   "execution_count": 4,
   "metadata": {},
   "outputs": [],
   "source": [
    "# this is the size of our encoded representations\n",
    "encoding_dim = 32  # 32 floats -> compression of factor 24.5, assuming the input is 784 floats\n",
    "\n",
    "# this is our input placeholder\n",
    "input_img = Input(shape=(784,))\n",
    "\n",
    "# \"encoded\" is the encoded representation of the input\n",
    "encoded = Dense(encoding_dim, activation='sigmoid')(input_img)\n",
    "\n",
    "# \"decoded\" is the lossy reconstruction of the input\n",
    "decoded = Dense(784, activation='sigmoid')(encoded)\n",
    "\n",
    "# this model maps an input to its reconstruction\n",
    "autoencoder = Model(input_img, decoded)\n"
   ]
  },
  {
   "cell_type": "code",
   "execution_count": 5,
   "metadata": {},
   "outputs": [],
   "source": [
    "# this model maps an input to its encoded representation\n",
    "encoder = Model(input_img, encoded)"
   ]
  },
  {
   "cell_type": "code",
   "execution_count": 6,
   "metadata": {},
   "outputs": [],
   "source": [
    "# create a placeholder for an encoded (32-dimensional) input\n",
    "\n",
    "# retrieve the last layer of the autoencoder model\n",
    "\n",
    "# create the decoder model\n"
   ]
  },
  {
   "cell_type": "code",
   "execution_count": 7,
   "metadata": {},
   "outputs": [],
   "source": [
    "autoencoder.compile(optimizer='adadelta', loss='binary_crossentropy')"
   ]
  },
  {
   "cell_type": "code",
   "execution_count": 8,
   "metadata": {},
   "outputs": [],
   "source": [
    "from tensorflow.keras.datasets import mnist\n",
    "import numpy as np\n",
    "(x_train, _), (x_test, _) = mnist.load_data()"
   ]
  },
  {
   "cell_type": "code",
   "execution_count": 9,
   "metadata": {},
   "outputs": [
    {
     "name": "stdout",
     "output_type": "stream",
     "text": [
      "(60000, 784)\n",
      "(10000, 784)\n"
     ]
    }
   ],
   "source": [
    "x_train = x_train.astype('float32') / 255.\n",
    "x_test = x_test.astype('float32') / 255.\n",
    "x_train = x_train.reshape((len(x_train), np.prod(x_train.shape[1:])))\n",
    "x_test = x_test.reshape((len(x_test), np.prod(x_test.shape[1:])))\n",
    "print(x_train.shape)\n",
    "print(x_test.shape)"
   ]
  },
  {
   "cell_type": "code",
   "execution_count": 10,
   "metadata": {},
   "outputs": [
    {
     "name": "stdout",
     "output_type": "stream",
     "text": [
      "Train on 60000 samples, validate on 10000 samples\n",
      "Epoch 1/10\n",
      "60000/60000 [==============================] - 2s 33us/sample - loss: 0.6976 - val_loss: 0.6975\n",
      "Epoch 2/10\n",
      "60000/60000 [==============================] - 1s 19us/sample - loss: 0.6972 - val_loss: 0.6970\n",
      "Epoch 3/10\n",
      "60000/60000 [==============================] - 1s 20us/sample - loss: 0.6967 - val_loss: 0.6966\n",
      "Epoch 4/10\n",
      "60000/60000 [==============================] - 1s 20us/sample - loss: 0.6963 - val_loss: 0.6961\n",
      "Epoch 5/10\n",
      "60000/60000 [==============================] - 1s 20us/sample - loss: 0.6958 - val_loss: 0.6956\n",
      "Epoch 6/10\n",
      "60000/60000 [==============================] - 1s 20us/sample - loss: 0.6954 - val_loss: 0.6952\n",
      "Epoch 7/10\n",
      "60000/60000 [==============================] - 1s 20us/sample - loss: 0.6949 - val_loss: 0.6947\n",
      "Epoch 8/10\n",
      "60000/60000 [==============================] - 1s 20us/sample - loss: 0.6945 - val_loss: 0.6943\n",
      "Epoch 9/10\n",
      "60000/60000 [==============================] - 1s 20us/sample - loss: 0.6940 - val_loss: 0.6938\n",
      "Epoch 10/10\n",
      "60000/60000 [==============================] - 1s 21us/sample - loss: 0.6936 - val_loss: 0.6934\n"
     ]
    },
    {
     "data": {
      "text/plain": [
       "<tensorflow.python.keras.callbacks.History at 0x1a7169b2208>"
      ]
     },
     "execution_count": 10,
     "metadata": {},
     "output_type": "execute_result"
    }
   ],
   "source": [
    "autoencoder.fit(x_train, x_train,\n",
    "                epochs=10,\n",
    "                batch_size=256,\n",
    "                shuffle=True,\n",
    "                validation_data=(x_test, x_test),\n",
    "                verbose=True)"
   ]
  },
  {
   "cell_type": "code",
   "execution_count": 12,
   "metadata": {},
   "outputs": [],
   "source": [
    "# encode and decode some digits\n",
    "# note that we take them from the *test* set\n",
    "decoded_imgs = autoencoder.predict(x_test)"
   ]
  },
  {
   "cell_type": "code",
   "execution_count": 13,
   "metadata": {},
   "outputs": [
    {
     "data": {
      "image/png": "[encoded data removed]",
      "text/plain": [
       "<Figure size 1440x288 with 20 Axes>"
      ]
     },
     "metadata": {
      "needs_background": "light"
     },
     "output_type": "display_data"
    }
   ],
   "source": [
    "# use Matplotlib (don't ask)\n",
    "import matplotlib.pyplot as plt\n",
    "\n",
    "n = 10  # how many digits we will display\n",
    "plt.figure(figsize=(20, 4))\n",
    "for i in range(n):\n",
    "    # display original\n",
    "    ax = plt.subplot(2, n, i + 1)\n",
    "    plt.imshow(x_test[i].reshape(28, 28))\n",
    "    plt.gray()\n",
    "    ax.get_xaxis().set_visible(False)\n",
    "    ax.get_yaxis().set_visible(False)\n",
    "\n",
    "    # display reconstruction\n",
    "    ax = plt.subplot(2, n, i + 1 + n)\n",
    "    plt.imshow(decoded_imgs[i].reshape(28, 28))\n",
    "    plt.gray()\n",
    "    ax.get_xaxis().set_visible(False)\n",
    "    ax.get_yaxis().set_visible(False)\n",
    "plt.show()"
   ]
  },
  {
   "cell_type": "markdown",
   "metadata": {},
   "source": [
    "## Challenge\n",
    "\n",
    "Expected to talk about the components of autoencoder and their purpose. "
   ]
  },
  {
   "cell_type": "markdown",
   "metadata": {},
   "source": [
    "# Train an Autoencoder (Learn)\n",
    "<a id=\"p2\"></a>"
   ]
  },
  {
   "cell_type": "markdown",
   "metadata": {},
   "source": [
    "## Overview\n",
    "\n",
    "As long as our architecture maintains an hourglass shape, we can continue to add layers and create a deeper network. "
   ]
  },
  {
   "cell_type": "markdown",
   "metadata": {
    "toc-hr-collapsed": true
   },
   "source": [
    "## Follow Along"
   ]
  },
  {
   "cell_type": "markdown",
   "metadata": {},
   "source": [
    "### Deep Autoencoder"
   ]
  },
  {
   "cell_type": "code",
   "execution_count": 14,
   "metadata": {},
   "outputs": [],
   "source": [
    "input_img = Input(shape=(784,))\n",
    "\n",
    "encoded = Dense(128, activation='relu')(input_img)\n",
    "encoded = Dense(64, activation='relu')(encoded)\n",
    "encoded = Dense(32, activation='relu')(encoded)\n",
    "\n",
    "decoded = Dense(64, activation='relu')(encoded)\n",
    "decoded = Dense(128, activation='relu')(decoded)\n",
    "\n",
    "decoded = Dense(784, activation='sigmoid')(decoded)"
   ]
  },
  {
   "cell_type": "code",
   "execution_count": 15,
   "metadata": {},
   "outputs": [
    {
     "name": "stdout",
     "output_type": "stream",
     "text": [
      "Train on 60000 samples, validate on 10000 samples\n",
      "Epoch 1/100\n",
      "60000/60000 [==============================] - 1s 23us/sample - loss: 0.3436 - val_loss: 0.2419\n",
      "Epoch 2/100\n",
      "60000/60000 [==============================] - 1s 13us/sample - loss: 0.2119 - val_loss: 0.1855\n",
      "Epoch 3/100\n",
      "60000/60000 [==============================] - 1s 13us/sample - loss: 0.1745 - val_loss: 0.1610\n",
      "Epoch 4/100\n",
      "60000/60000 [==============================] - 1s 14us/sample - loss: 0.1553 - val_loss: 0.1476\n",
      "Epoch 5/100\n",
      "60000/60000 [==============================] - 1s 14us/sample - loss: 0.1450 - val_loss: 0.1398\n",
      "Epoch 6/100\n",
      "60000/60000 [==============================] - 1s 13us/sample - loss: 0.1377 - val_loss: 0.1332\n",
      "Epoch 7/100\n",
      "60000/60000 [==============================] - 1s 13us/sample - loss: 0.1325 - val_loss: 0.1289\n",
      "Epoch 8/100\n",
      "60000/60000 [==============================] - 1s 13us/sample - loss: 0.1285 - val_loss: 0.1251\n",
      "Epoch 9/100\n",
      "60000/60000 [==============================] - 1s 13us/sample - loss: 0.1247 - val_loss: 0.1213\n",
      "Epoch 10/100\n",
      "60000/60000 [==============================] - 1s 12us/sample - loss: 0.1213 - val_loss: 0.1183\n",
      "Epoch 11/100\n",
      "60000/60000 [==============================] - 1s 13us/sample - loss: 0.1184 - val_loss: 0.1157\n",
      "Epoch 12/100\n",
      "60000/60000 [==============================] - 1s 13us/sample - loss: 0.1160 - val_loss: 0.1148\n",
      "Epoch 13/100\n",
      "60000/60000 [==============================] - 1s 13us/sample - loss: 0.1140 - val_loss: 0.1116\n",
      "Epoch 14/100\n",
      "60000/60000 [==============================] - 1s 13us/sample - loss: 0.1122 - val_loss: 0.1100\n",
      "Epoch 15/100\n",
      "60000/60000 [==============================] - 1s 13us/sample - loss: 0.1109 - val_loss: 0.1087\n",
      "Epoch 16/100\n",
      "60000/60000 [==============================] - 1s 13us/sample - loss: 0.1096 - val_loss: 0.1077\n",
      "Epoch 17/100\n",
      "60000/60000 [==============================] - 1s 13us/sample - loss: 0.1086 - val_loss: 0.1066\n",
      "Epoch 18/100\n",
      "60000/60000 [==============================] - 1s 13us/sample - loss: 0.1077 - val_loss: 0.1058\n",
      "Epoch 19/100\n",
      "60000/60000 [==============================] - 1s 13us/sample - loss: 0.1068 - val_loss: 0.1051\n",
      "Epoch 20/100\n",
      "60000/60000 [==============================] - 1s 13us/sample - loss: 0.1059 - val_loss: 0.1042\n",
      "Epoch 21/100\n",
      "60000/60000 [==============================] - 1s 13us/sample - loss: 0.1050 - val_loss: 0.1034\n",
      "Epoch 22/100\n",
      "60000/60000 [==============================] - 1s 13us/sample - loss: 0.1042 - val_loss: 0.1027\n",
      "Epoch 23/100\n",
      "60000/60000 [==============================] - 1s 13us/sample - loss: 0.1036 - val_loss: 0.1022\n",
      "Epoch 24/100\n",
      "60000/60000 [==============================] - 1s 13us/sample - loss: 0.1028 - val_loss: 0.1019\n",
      "Epoch 25/100\n",
      "60000/60000 [==============================] - 1s 13us/sample - loss: 0.1023 - val_loss: 0.1007\n",
      "Epoch 26/100\n",
      "60000/60000 [==============================] - 1s 14us/sample - loss: 0.1018 - val_loss: 0.1003\n",
      "Epoch 27/100\n",
      "60000/60000 [==============================] - 1s 14us/sample - loss: 0.1012 - val_loss: 0.0998\n",
      "Epoch 28/100\n",
      "60000/60000 [==============================] - 1s 15us/sample - loss: 0.1008 - val_loss: 0.0996\n",
      "Epoch 29/100\n",
      "60000/60000 [==============================] - 1s 15us/sample - loss: 0.1003 - val_loss: 0.0988\n",
      "Epoch 30/100\n",
      "60000/60000 [==============================] - 1s 15us/sample - loss: 0.0998 - val_loss: 0.0985\n",
      "Epoch 31/100\n",
      "60000/60000 [==============================] - 1s 14us/sample - loss: 0.0994 - val_loss: 0.0981\n",
      "Epoch 32/100\n",
      "60000/60000 [==============================] - 1s 13us/sample - loss: 0.0990 - val_loss: 0.0977\n",
      "Epoch 33/100\n",
      "60000/60000 [==============================] - 1s 13us/sample - loss: 0.0987 - val_loss: 0.0977\n",
      "Epoch 34/100\n",
      "60000/60000 [==============================] - 1s 13us/sample - loss: 0.0982 - val_loss: 0.0971\n",
      "Epoch 35/100\n",
      "60000/60000 [==============================] - 1s 14us/sample - loss: 0.0979 - val_loss: 0.0967\n",
      "Epoch 36/100\n",
      "60000/60000 [==============================] - 1s 13us/sample - loss: 0.0975 - val_loss: 0.0966\n",
      "Epoch 37/100\n",
      "60000/60000 [==============================] - 1s 13us/sample - loss: 0.0972 - val_loss: 0.0960\n",
      "Epoch 38/100\n",
      "60000/60000 [==============================] - 1s 13us/sample - loss: 0.0968 - val_loss: 0.0955\n",
      "Epoch 39/100\n",
      "60000/60000 [==============================] - 1s 13us/sample - loss: 0.0964 - val_loss: 0.0954\n",
      "Epoch 40/100\n",
      "60000/60000 [==============================] - 1s 13us/sample - loss: 0.0962 - val_loss: 0.0949\n",
      "Epoch 41/100\n",
      "60000/60000 [==============================] - 1s 13us/sample - loss: 0.0958 - val_loss: 0.0947\n",
      "Epoch 42/100\n",
      "60000/60000 [==============================] - 1s 13us/sample - loss: 0.0954 - val_loss: 0.0942\n",
      "Epoch 43/100\n",
      "60000/60000 [==============================] - 1s 13us/sample - loss: 0.0950 - val_loss: 0.0939\n",
      "Epoch 44/100\n",
      "60000/60000 [==============================] - 1s 13us/sample - loss: 0.0946 - val_loss: 0.0934\n",
      "Epoch 45/100\n",
      "60000/60000 [==============================] - 1s 13us/sample - loss: 0.0942 - val_loss: 0.0930\n",
      "Epoch 46/100\n",
      "60000/60000 [==============================] - 1s 13us/sample - loss: 0.0939 - val_loss: 0.0929\n",
      "Epoch 47/100\n",
      "60000/60000 [==============================] - 1s 13us/sample - loss: 0.0937 - val_loss: 0.0924\n",
      "Epoch 48/100\n",
      "60000/60000 [==============================] - 1s 13us/sample - loss: 0.0933 - val_loss: 0.0922\n",
      "Epoch 49/100\n",
      "60000/60000 [==============================] - 1s 13us/sample - loss: 0.0931 - val_loss: 0.0920\n",
      "Epoch 50/100\n",
      "60000/60000 [==============================] - 1s 14us/sample - loss: 0.0928 - val_loss: 0.0919\n",
      "Epoch 51/100\n",
      "60000/60000 [==============================] - 1s 16us/sample - loss: 0.0926 - val_loss: 0.0915\n",
      "Epoch 52/100\n",
      "60000/60000 [==============================] - 1s 16us/sample - loss: 0.0925 - val_loss: 0.0915\n",
      "Epoch 53/100\n",
      "60000/60000 [==============================] - 1s 21us/sample - loss: 0.0923 - val_loss: 0.0913\n",
      "Epoch 54/100\n",
      "60000/60000 [==============================] - 1s 14us/sample - loss: 0.0920 - val_loss: 0.0911\n",
      "Epoch 55/100\n",
      "60000/60000 [==============================] - 1s 15us/sample - loss: 0.0918 - val_loss: 0.0909\n",
      "Epoch 56/100\n",
      "60000/60000 [==============================] - 1s 17us/sample - loss: 0.0917 - val_loss: 0.0908\n",
      "Epoch 57/100\n",
      "60000/60000 [==============================] - 1s 14us/sample - loss: 0.0915 - val_loss: 0.0907\n",
      "Epoch 58/100\n",
      "60000/60000 [==============================] - 1s 13us/sample - loss: 0.0913 - val_loss: 0.0905\n",
      "Epoch 59/100\n",
      "60000/60000 [==============================] - 1s 13us/sample - loss: 0.0911 - val_loss: 0.0903\n",
      "Epoch 60/100\n",
      "60000/60000 [==============================] - 1s 12us/sample - loss: 0.0909 - val_loss: 0.0901\n",
      "Epoch 61/100\n",
      "60000/60000 [==============================] - 1s 13us/sample - loss: 0.0908 - val_loss: 0.0899\n",
      "Epoch 62/100\n",
      "60000/60000 [==============================] - 1s 12us/sample - loss: 0.0906 - val_loss: 0.0898\n",
      "Epoch 63/100\n",
      "60000/60000 [==============================] - 1s 13us/sample - loss: 0.0905 - val_loss: 0.0899\n",
      "Epoch 64/100\n",
      "60000/60000 [==============================] - 1s 13us/sample - loss: 0.0903 - val_loss: 0.0895\n",
      "Epoch 65/100\n",
      "60000/60000 [==============================] - 1s 14us/sample - loss: 0.0901 - val_loss: 0.0895\n",
      "Epoch 66/100\n",
      "60000/60000 [==============================] - 1s 14us/sample - loss: 0.0900 - val_loss: 0.0891\n",
      "Epoch 67/100\n",
      "60000/60000 [==============================] - 1s 15us/sample - loss: 0.0899 - val_loss: 0.0891\n",
      "Epoch 68/100\n",
      "60000/60000 [==============================] - 1s 15us/sample - loss: 0.0898 - val_loss: 0.0890\n",
      "Epoch 69/100\n",
      "60000/60000 [==============================] - 1s 13us/sample - loss: 0.0897 - val_loss: 0.0890\n",
      "Epoch 70/100\n",
      "60000/60000 [==============================] - 1s 14us/sample - loss: 0.0895 - val_loss: 0.0889\n",
      "Epoch 71/100\n",
      "60000/60000 [==============================] - 1s 12us/sample - loss: 0.0894 - val_loss: 0.0888\n",
      "Epoch 72/100\n",
      "60000/60000 [==============================] - 1s 12us/sample - loss: 0.0893 - val_loss: 0.0886\n",
      "Epoch 73/100\n",
      "60000/60000 [==============================] - 1s 12us/sample - loss: 0.0892 - val_loss: 0.0884\n",
      "Epoch 74/100\n",
      "60000/60000 [==============================] - 1s 12us/sample - loss: 0.0891 - val_loss: 0.0883\n",
      "Epoch 75/100\n",
      "60000/60000 [==============================] - 1s 13us/sample - loss: 0.0890 - val_loss: 0.0882\n",
      "Epoch 76/100\n",
      "60000/60000 [==============================] - 1s 12us/sample - loss: 0.0889 - val_loss: 0.0882\n",
      "Epoch 77/100\n",
      "60000/60000 [==============================] - 1s 13us/sample - loss: 0.0888 - val_loss: 0.0882\n",
      "Epoch 78/100\n",
      "60000/60000 [==============================] - 1s 12us/sample - loss: 0.0888 - val_loss: 0.0880\n",
      "Epoch 79/100\n",
      "60000/60000 [==============================] - 1s 12us/sample - loss: 0.0886 - val_loss: 0.0879\n",
      "Epoch 80/100\n",
      "60000/60000 [==============================] - 1s 13us/sample - loss: 0.0885 - val_loss: 0.0878\n",
      "Epoch 81/100\n",
      "60000/60000 [==============================] - 1s 13us/sample - loss: 0.0884 - val_loss: 0.0878\n",
      "Epoch 82/100\n",
      "60000/60000 [==============================] - 1s 12us/sample - loss: 0.0884 - val_loss: 0.0878\n",
      "Epoch 83/100\n",
      "60000/60000 [==============================] - 1s 13us/sample - loss: 0.0883 - val_loss: 0.0876\n",
      "Epoch 84/100\n",
      "60000/60000 [==============================] - 1s 12us/sample - loss: 0.0883 - val_loss: 0.0874\n",
      "Epoch 85/100\n",
      "60000/60000 [==============================] - 1s 12us/sample - loss: 0.0881 - val_loss: 0.0875\n",
      "Epoch 86/100\n",
      "60000/60000 [==============================] - 1s 12us/sample - loss: 0.0881 - val_loss: 0.0875\n",
      "Epoch 87/100\n",
      "60000/60000 [==============================] - 1s 14us/sample - loss: 0.0881 - val_loss: 0.0873\n",
      "Epoch 88/100\n",
      "60000/60000 [==============================] - 1s 13us/sample - loss: 0.0879 - val_loss: 0.0873\n",
      "Epoch 89/100\n",
      "60000/60000 [==============================] - 1s 13us/sample - loss: 0.0879 - val_loss: 0.0873\n",
      "Epoch 90/100\n",
      "60000/60000 [==============================] - 1s 13us/sample - loss: 0.0878 - val_loss: 0.0872\n",
      "Epoch 91/100\n",
      "60000/60000 [==============================] - 1s 14us/sample - loss: 0.0878 - val_loss: 0.0872\n",
      "Epoch 92/100\n",
      "60000/60000 [==============================] - 1s 14us/sample - loss: 0.0877 - val_loss: 0.0872\n",
      "Epoch 93/100\n",
      "60000/60000 [==============================] - 1s 12us/sample - loss: 0.0876 - val_loss: 0.0870\n",
      "Epoch 94/100\n",
      "60000/60000 [==============================] - 1s 14us/sample - loss: 0.0876 - val_loss: 0.0869\n",
      "Epoch 95/100\n",
      "60000/60000 [==============================] - 1s 15us/sample - loss: 0.0875 - val_loss: 0.0872\n",
      "Epoch 96/100\n",
      "60000/60000 [==============================] - 1s 13us/sample - loss: 0.0874 - val_loss: 0.0870\n",
      "Epoch 97/100\n",
      "60000/60000 [==============================] - 1s 13us/sample - loss: 0.0874 - val_loss: 0.0869\n",
      "Epoch 98/100\n",
      "60000/60000 [==============================] - 1s 14us/sample - loss: 0.0873 - val_loss: 0.0867\n",
      "Epoch 99/100\n",
      "60000/60000 [==============================] - 1s 13us/sample - loss: 0.0873 - val_loss: 0.0867\n",
      "Epoch 100/100\n",
      "60000/60000 [==============================] - 1s 14us/sample - loss: 0.0872 - val_loss: 0.0866\n"
     ]
    },
    {
     "data": {
      "text/plain": [
       "<tensorflow.python.keras.callbacks.History at 0x1a779f803c8>"
      ]
     },
     "execution_count": 15,
     "metadata": {},
     "output_type": "execute_result"
    }
   ],
   "source": [
    "# compile & fit model\n",
    "autoencoder = Model(input_img, decoded)\n",
    "autoencoder.compile(optimizer='adam', loss='binary_crossentropy')\n",
    "\n",
    "autoencoder.fit(x_train, x_train,\n",
    "                epochs=100,\n",
    "                batch_size=784,\n",
    "                shuffle=True,\n",
    "                validation_data=(x_test,x_test),\n",
    "                verbose=True)"
   ]
  },
  {
   "cell_type": "code",
   "execution_count": 16,
   "metadata": {},
   "outputs": [],
   "source": [
    "decoded_imgs = autoencoder.predict(x_test)"
   ]
  },
  {
   "cell_type": "code",
   "execution_count": 17,
   "metadata": {},
   "outputs": [
    {
     "data": {
      "image/png": "[encoded data removed]",
      "text/plain": [
       "<Figure size 1440x288 with 20 Axes>"
      ]
     },
     "metadata": {
      "needs_background": "light"
     },
     "output_type": "display_data"
    }
   ],
   "source": [
    "# use Matplotlib (don't ask)\n",
    "import matplotlib.pyplot as plt\n",
    "\n",
    "n = 10  # how many digits we will display\n",
    "plt.figure(figsize=(20, 4))\n",
    "for i in range(n):\n",
    "    # display original\n",
    "    ax = plt.subplot(2, n, i + 1)\n",
    "    plt.imshow(x_test[i].reshape(28, 28))\n",
    "    plt.gray()\n",
    "    ax.get_xaxis().set_visible(False)\n",
    "    ax.get_yaxis().set_visible(False)\n",
    "\n",
    "    # display reconstruction\n",
    "    ax = plt.subplot(2, n, i + 1 + n)\n",
    "    plt.imshow(decoded_imgs[i].reshape(28, 28))\n",
    "    plt.gray()\n",
    "    ax.get_xaxis().set_visible(False)\n",
    "    ax.get_yaxis().set_visible(False)\n",
    "plt.show()"
   ]
  },
  {
   "cell_type": "markdown",
   "metadata": {
    "toc-hr-collapsed": true
   },
   "source": [
    "### Convolutional autoencoder\n",
    "\n",
    "> Since our inputs are images, it makes sense to use convolutional neural networks (convnets) as encoders and decoders. In practical settings, autoencoders applied to images are always convolutional autoencoders --they simply perform much better.\n",
    "\n",
    "> Let's implement one. The encoder will consist in a stack of Conv2D and MaxPooling2D layers (max pooling being used for spatial down-sampling), while the decoder will consist in a stack of Conv2D and UpSampling2D layers."
   ]
  },
  {
   "cell_type": "code",
   "execution_count": 23,
   "metadata": {},
   "outputs": [
    {
     "ename": "ValueError",
     "evalue": "Input 0 of layer conv2d is incompatible with the layer: expected ndim=4, found ndim=2. Full shape received: [None, 784]",
     "output_type": "error",
     "traceback": [
      "\u001b[1;31m---------------------------------------------------------------------------\u001b[0m",
      "\u001b[1;31mValueError\u001b[0m                                Traceback (most recent call last)",
      "\u001b[1;32m<ipython-input-23-21df11a7688e>\u001b[0m in \u001b[0;36m<module>\u001b[1;34m\u001b[0m\n\u001b[0;32m      6\u001b[0m \u001b[0minput_img\u001b[0m \u001b[1;33m=\u001b[0m \u001b[0mInput\u001b[0m\u001b[1;33m(\u001b[0m\u001b[0mshape\u001b[0m\u001b[1;33m=\u001b[0m\u001b[1;33m(\u001b[0m\u001b[1;36m784\u001b[0m\u001b[1;33m,\u001b[0m\u001b[1;33m)\u001b[0m\u001b[1;33m)\u001b[0m\u001b[1;33m\u001b[0m\u001b[1;33m\u001b[0m\u001b[0m\n\u001b[0;32m      7\u001b[0m \u001b[1;33m\u001b[0m\u001b[0m\n\u001b[1;32m----> 8\u001b[1;33m \u001b[0mencoded\u001b[0m \u001b[1;33m=\u001b[0m \u001b[0mConv2D\u001b[0m\u001b[1;33m(\u001b[0m\u001b[1;36m128\u001b[0m\u001b[1;33m,\u001b[0m \u001b[1;33m(\u001b[0m\u001b[1;36m3\u001b[0m\u001b[1;33m,\u001b[0m \u001b[1;36m3\u001b[0m\u001b[1;33m)\u001b[0m\u001b[1;33m,\u001b[0m \u001b[0mactivation\u001b[0m\u001b[1;33m=\u001b[0m\u001b[1;34m'relu'\u001b[0m\u001b[1;33m)\u001b[0m\u001b[1;33m(\u001b[0m\u001b[0minput_img\u001b[0m\u001b[1;33m)\u001b[0m\u001b[1;33m\u001b[0m\u001b[1;33m\u001b[0m\u001b[0m\n\u001b[0m\u001b[0;32m      9\u001b[0m \u001b[0mencoded\u001b[0m \u001b[1;33m=\u001b[0m \u001b[0mMaxPooling2D\u001b[0m\u001b[1;33m(\u001b[0m\u001b[1;33m(\u001b[0m\u001b[1;36m2\u001b[0m\u001b[1;33m,\u001b[0m \u001b[1;36m2\u001b[0m\u001b[1;33m)\u001b[0m\u001b[1;33m,\u001b[0m \u001b[0mpadding\u001b[0m\u001b[1;33m=\u001b[0m\u001b[1;34m'same'\u001b[0m\u001b[1;33m)\u001b[0m\u001b[1;33m(\u001b[0m\u001b[0mencoded\u001b[0m\u001b[1;33m)\u001b[0m\u001b[1;33m\u001b[0m\u001b[1;33m\u001b[0m\u001b[0m\n\u001b[0;32m     10\u001b[0m \u001b[0mencoded\u001b[0m \u001b[1;33m=\u001b[0m \u001b[0mConv2D\u001b[0m\u001b[1;33m(\u001b[0m\u001b[1;36m64\u001b[0m\u001b[1;33m,\u001b[0m \u001b[1;33m(\u001b[0m\u001b[1;36m3\u001b[0m\u001b[1;33m,\u001b[0m \u001b[1;36m3\u001b[0m\u001b[1;33m)\u001b[0m\u001b[1;33m,\u001b[0m \u001b[0mactivation\u001b[0m\u001b[1;33m=\u001b[0m\u001b[1;34m'relu'\u001b[0m\u001b[1;33m)\u001b[0m\u001b[1;33m(\u001b[0m\u001b[0mencoded\u001b[0m\u001b[1;33m)\u001b[0m\u001b[1;33m\u001b[0m\u001b[1;33m\u001b[0m\u001b[0m\n",
      "\u001b[1;32m~\\.virtualenvs\\DS-Unit-4-Sprint-3-Deep-Learning-sI3BcHf7\\lib\\site-packages\\tensorflow_core\\python\\keras\\engine\\base_layer.py\u001b[0m in \u001b[0;36m__call__\u001b[1;34m(self, inputs, *args, **kwargs)\u001b[0m\n\u001b[0;32m    735\u001b[0m         \u001b[1;31m# are casted, not before.\u001b[0m\u001b[1;33m\u001b[0m\u001b[1;33m\u001b[0m\u001b[1;33m\u001b[0m\u001b[0m\n\u001b[0;32m    736\u001b[0m         input_spec.assert_input_compatibility(self.input_spec, inputs,\n\u001b[1;32m--> 737\u001b[1;33m                                               self.name)\n\u001b[0m\u001b[0;32m    738\u001b[0m         if (any(isinstance(x, ragged_tensor.RaggedTensor) for x in input_list)\n\u001b[0;32m    739\u001b[0m             and self._supports_ragged_inputs is False):  # pylint: disable=g-bool-id-comparison\n",
      "\u001b[1;32m~\\.virtualenvs\\DS-Unit-4-Sprint-3-Deep-Learning-sI3BcHf7\\lib\\site-packages\\tensorflow_core\\python\\keras\\engine\\input_spec.py\u001b[0m in \u001b[0;36massert_input_compatibility\u001b[1;34m(input_spec, inputs, layer_name)\u001b[0m\n\u001b[0;32m    175\u001b[0m                          \u001b[1;34m'expected ndim='\u001b[0m \u001b[1;33m+\u001b[0m \u001b[0mstr\u001b[0m\u001b[1;33m(\u001b[0m\u001b[0mspec\u001b[0m\u001b[1;33m.\u001b[0m\u001b[0mndim\u001b[0m\u001b[1;33m)\u001b[0m \u001b[1;33m+\u001b[0m \u001b[1;34m', found ndim='\u001b[0m \u001b[1;33m+\u001b[0m\u001b[1;33m\u001b[0m\u001b[1;33m\u001b[0m\u001b[0m\n\u001b[0;32m    176\u001b[0m                          \u001b[0mstr\u001b[0m\u001b[1;33m(\u001b[0m\u001b[0mndim\u001b[0m\u001b[1;33m)\u001b[0m \u001b[1;33m+\u001b[0m \u001b[1;34m'. Full shape received: '\u001b[0m \u001b[1;33m+\u001b[0m\u001b[1;33m\u001b[0m\u001b[1;33m\u001b[0m\u001b[0m\n\u001b[1;32m--> 177\u001b[1;33m                          str(x.shape.as_list()))\n\u001b[0m\u001b[0;32m    178\u001b[0m     \u001b[1;32mif\u001b[0m \u001b[0mspec\u001b[0m\u001b[1;33m.\u001b[0m\u001b[0mmax_ndim\u001b[0m \u001b[1;32mis\u001b[0m \u001b[1;32mnot\u001b[0m \u001b[1;32mNone\u001b[0m\u001b[1;33m:\u001b[0m\u001b[1;33m\u001b[0m\u001b[1;33m\u001b[0m\u001b[0m\n\u001b[0;32m    179\u001b[0m       \u001b[0mndim\u001b[0m \u001b[1;33m=\u001b[0m \u001b[0mx\u001b[0m\u001b[1;33m.\u001b[0m\u001b[0mshape\u001b[0m\u001b[1;33m.\u001b[0m\u001b[0mndims\u001b[0m\u001b[1;33m\u001b[0m\u001b[1;33m\u001b[0m\u001b[0m\n",
      "\u001b[1;31mValueError\u001b[0m: Input 0 of layer conv2d is incompatible with the layer: expected ndim=4, found ndim=2. Full shape received: [None, 784]"
     ]
    }
   ],
   "source": [
    "from tensorflow.keras.layers import Input, Dense, Conv2D, MaxPooling2D, UpSampling2D\n",
    "from tensorflow.keras.models import Model\n",
    "\n",
    "# Create Model \n",
    "\n",
    "input_img = Input(shape=(784,))\n",
    "\n",
    "encoded = Conv2D(128, (3, 3), activation='relu')(input_img)\n",
    "encoded = MaxPooling2D((2, 2), padding='same')(encoded)\n",
    "encoded = Conv2D(64, (3, 3), activation='relu')(encoded)\n",
    "encoded = MaxPooling2D((2, 2), padding='same')(encoded)\n",
    "encoded = Conv2D(32, (3, 3), activation='relu')(encoded)\n",
    "encoded = MaxPooling2D((2, 2), padding='same')(encoded)\n",
    "\n",
    "decoded = Conv2D(32, (3, 3), activation='relu')(encoded)\n",
    "decoded = UpSampling2D((2, 2))(decoded)\n",
    "decoded = Conv2D(64, (3, 3), activation='relu')(decoded)\n",
    "decoded = UpSampling2D((2, 2))(decoded)\n",
    "decoded = Conv2D(128, (3, 3), activation='relu')(decoded)\n",
    "decoded = UpSampling2D((2, 2))(decoded)\n",
    "\n",
    "decoded = Conv2D(784, (3, 3), activation='sigmoid')(decoded)\n",
    "\n",
    "autoencoder = Model(input_img, decoded)\n",
    "\n",
    "autoencoder.compile(optimizer='adadelta', loss='binary_crossentropy')"
   ]
  },
  {
   "cell_type": "code",
   "execution_count": null,
   "metadata": {},
   "outputs": [],
   "source": [
    "from keras.datasets import mnist\n",
    "import numpy as np\n",
    "\n",
    "(x_train, _), (x_test, _) = mnist.load_data()\n",
    "\n",
    "x_train = x_train.astype('float32') / 255.\n",
    "x_test = x_test.astype('float32') / 255.\n",
    "x_train = np.reshape(x_train, (len(x_train), 28, 28, 1))  # adapt this if using `channels_first` image data format\n",
    "x_test = np.reshape(x_test, (len(x_test), 28, 28, 1))  # adapt this if using `channels_first` image data format"
   ]
  },
  {
   "cell_type": "code",
   "execution_count": null,
   "metadata": {},
   "outputs": [],
   "source": [
    "wandb.init(project=\"mnist_autoencoder\", entity=\"ds5\")\n",
    "\n",
    "autoencoder.fit(x_train, x_train,\n",
    "                epochs=100,\n",
    "                batch_size=256,\n",
    "                shuffle=True,\n",
    "                validation_data=(x_test, x_test),\n",
    "                verbose=False,\n",
    "                callbacks=[WandbCallback()])"
   ]
  },
  {
   "cell_type": "code",
   "execution_count": null,
   "metadata": {},
   "outputs": [],
   "source": [
    "decoded_imgs = autoencoder.predict(x_test)\n",
    "\n",
    "n = 10\n",
    "plt.figure(figsize=(20, 4))\n",
    "for i in range(n):\n",
    "    # display original\n",
    "    ax = plt.subplot(2, n, i)\n",
    "    plt.imshow(x_test[i].reshape(28, 28))\n",
    "    plt.gray()\n",
    "    ax.get_xaxis().set_visible(False)\n",
    "    ax.get_yaxis().set_visible(False)\n",
    "\n",
    "    # display reconstruction\n",
    "    ax = plt.subplot(2, n, i + n)\n",
    "    plt.imshow(decoded_imgs[i].reshape(28, 28))\n",
    "    plt.gray()\n",
    "    ax.get_xaxis().set_visible(False)\n",
    "    ax.get_yaxis().set_visible(False)\n",
    "plt.show()"
   ]
  },
  {
   "cell_type": "markdown",
   "metadata": {},
   "source": [
    "#### Visualization of the Representations"
   ]
  },
  {
   "cell_type": "code",
   "execution_count": null,
   "metadata": {},
   "outputs": [],
   "source": [
    "encoder = Model(input_img, encoded)\n",
    "encoder.predict(x_train)\n",
    "\n",
    "n = 10\n",
    "plt.figure(figsize=(20, 8))\n",
    "for i in range(n):\n",
    "    ax = plt.subplot(1, n, i)\n",
    "    plt.imshow(encoded_imgs[i].reshape(4, 4 * 8).T)\n",
    "    plt.gray()\n",
    "    ax.get_xaxis().set_visible(False)\n",
    "    ax.get_yaxis().set_visible(False)\n",
    "plt.show()"
   ]
  },
  {
   "cell_type": "markdown",
   "metadata": {},
   "source": [
    "## Challenge\n",
    "\n",
    "You will train an autoencoder at some point in the near future. "
   ]
  },
  {
   "cell_type": "markdown",
   "metadata": {},
   "source": [
    "# Information Retrieval with Autoencoders (Learn)\n",
    "<a id=\"p3\"></a>"
   ]
  },
  {
   "cell_type": "markdown",
   "metadata": {},
   "source": [
    "## Overview\n",
    "\n",
    "A common usecase for autoencoders is for reverse image search. Let's try to draw an image and see what's most similiar in our dataset. \n",
    "\n",
    "To accomplish this we will need to slice our autoendoer in half to extract our reduced features. :) "
   ]
  },
  {
   "cell_type": "markdown",
   "metadata": {},
   "source": [
    "## Follow Along"
   ]
  },
  {
   "cell_type": "code",
   "execution_count": 20,
   "metadata": {},
   "outputs": [],
   "source": [
    "encoder = Model(input_img, encoded)\n",
    "encoded_imgs = encoder.predict(x_train)"
   ]
  },
  {
   "cell_type": "code",
   "execution_count": 21,
   "metadata": {},
   "outputs": [
    {
     "data": {
      "text/plain": [
       "array([18.14255  ,  8.329004 ,  0.       ,  7.581983 ,  7.838046 ,\n",
       "        4.5878105,  0.       ,  3.8192995,  7.7061386, 17.103134 ,\n",
       "        9.355902 , 11.400275 , 23.402563 ,  4.6553383,  0.       ,\n",
       "        0.       , 10.347498 ,  9.573071 ,  0.       , 21.46336  ,\n",
       "        9.276899 ,  0.       , 10.640174 ,  0.       ,  6.966387 ,\n",
       "        8.089874 ,  9.635447 , 16.08063  , 15.454125 , 17.171106 ,\n",
       "        7.2773714, 11.8250885], dtype=float32)"
      ]
     },
     "execution_count": 21,
     "metadata": {},
     "output_type": "execute_result"
    }
   ],
   "source": [
    "encoded_imgs[0].T"
   ]
  },
  {
   "cell_type": "code",
   "execution_count": 22,
   "metadata": {},
   "outputs": [
    {
     "data": {
      "text/plain": [
       "NearestNeighbors(algorithm='ball_tree', leaf_size=30, metric='minkowski',\n",
       "                 metric_params=None, n_jobs=None, n_neighbors=10, p=2,\n",
       "                 radius=1.0)"
      ]
     },
     "execution_count": 22,
     "metadata": {},
     "output_type": "execute_result"
    }
   ],
   "source": [
    "from sklearn.neighbors import NearestNeighbors\n",
    "\n",
    "nn = NearestNeighbors(n_neighbors=10, algorithm='ball_tree')\n",
    "nn.fit(encoded_imgs)"
   ]
  },
  {
   "cell_type": "code",
   "execution_count": null,
   "metadata": {},
   "outputs": [],
   "source": [
    "nn.kneighbors(...)"
   ]
  },
  {
   "cell_type": "markdown",
   "metadata": {},
   "source": [
    "## Challenge\n",
    "\n",
    "You should already be familiar with KNN and similarity queries, so the key component of this section is know what to 'slice' from your autoencoder (the encoder) to extract features from your data. "
   ]
  },
  {
   "cell_type": "markdown",
   "metadata": {},
   "source": [
    "# Review\n",
    "\n",
    "* <a href=\"#p1\">Part 1</a>: Describe the componenets of an autoencoder\n",
    "    - Enocder\n",
    "    - Decoder\n",
    "* <a href=\"#p2\">Part 2</a>: Train an autoencoder\n",
    "    - Can do in Keras Easily\n",
    "    - Can use a variety of architectures\n",
    "    - Architectures must follow hourglass shape\n",
    "* <a href=\"#p3\">Part 3</a>: Apply an autoenocder to a basic information retrieval problem\n",
    "    - Extract just the encoder to use for various tasks\n",
    "    - AE ares good for dimensionality reduction, reverse image search, and may more things. \n"
   ]
  },
  {
   "cell_type": "markdown",
   "metadata": {},
   "source": [
    "# Sources\n",
    "\n",
    "__References__\n",
    "- [Building Autoencoders in Keras](https://blog.keras.io/building-autoencoders-in-keras.html)\n",
    "- [Deep Learning Cookbook](http://shop.oreilly.com/product/0636920097471.do)\n",
    "\n",
    "__Additional Material__"
   ]
  }
 ],
 "metadata": {
  "kernelspec": {
   "display_name": "U4S3, Deep Learning 2",
   "language": "python",
   "name": "u4s3-deep_learning_20"
  },
  "language_info": {
   "codemirror_mode": {
    "name": "ipython",
    "version": 3
   },
   "file_extension": ".py",
   "mimetype": "text/x-python",
   "name": "python",
   "nbconvert_exporter": "python",
   "pygments_lexer": "ipython3",
   "version": "3.7.3"
  }
 },
 "nbformat": 4,
 "nbformat_minor": 4
}
