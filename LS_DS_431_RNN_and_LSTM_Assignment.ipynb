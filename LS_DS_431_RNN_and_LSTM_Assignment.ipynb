{
  "nbformat": 4,
  "nbformat_minor": 0,
  "metadata": {
    "kernelspec": {
      "name": "python3",
      "display_name": "Python 3"
    },
    "nteract": {
      "version": "0.23.3"
    },
    "colab": {
      "name": "LS_DS_431_RNN_and_LSTM_Assignment.ipynb",
      "provenance": [],
      "include_colab_link": true
    },
    "accelerator": "GPU"
  },
  "cells": [
    {
      "cell_type": "markdown",
      "metadata": {
        "id": "view-in-github",
        "colab_type": "text"
      },
      "source": [
        "<a href=\"https://colab.research.google.com/github/mudesir/DS-Unit-4-Sprint-3-Deep-Learning/blob/main/LS_DS_431_RNN_and_LSTM_Assignment.ipynb\" target=\"_parent\"><img src=\"https://colab.research.google.com/assets/colab-badge.svg\" alt=\"Open In Colab\"/></a>"
      ]
    },
    {
      "cell_type": "markdown",
      "metadata": {
        "id": "ZU45AwiEpPjg",
        "colab_type": "text"
      },
      "source": [
        "<img align=\"left\" src=\"https://lever-client-logos.s3.amazonaws.com/864372b1-534c-480e-acd5-9711f850815c-1524247202159.png\" width=200>\n",
        "<br></br>\n",
        "<br></br>\n",
        "\n",
        "## *Data Science Unit 4 Sprint 3 Assignment 1*\n",
        "\n",
        "# Recurrent Neural Networks and Long Short Term Memory (LSTM)\n",
        "\n",
        "![Monkey at a typewriter](https://upload.wikimedia.org/wikipedia/commons/thumb/3/3c/Chimpanzee_seated_at_typewriter.jpg/603px-Chimpanzee_seated_at_typewriter.jpg)\n",
        "\n",
        "It is said that [infinite monkeys typing for an infinite amount of time](https://en.wikipedia.org/wiki/Infinite_monkey_theorem) will eventually type, among other things, the complete works of Wiliam Shakespeare. Let's see if we can get there a bit faster, with the power of Recurrent Neural Networks and LSTM.\n",
        "\n",
        "This text file contains the complete works of Shakespeare: https://www.gutenberg.org/files/100/100-0.txt\n",
        "\n",
        "Use it as training data for an RNN - you can keep it simple and train character level, and that is suggested as an initial approach.\n",
        "\n",
        "Then, use that trained RNN to generate Shakespearean-ish text. Your goal - a function that can take, as an argument, the size of text (e.g. number of characters or lines) to generate, and returns generated text of that size.\n",
        "\n",
        "Note - Shakespeare wrote an awful lot. It's OK, especially initially, to sample/use smaller data and parameters, so you can have a tighter feedback loop when you're trying to get things running. Then, once you've got a proof of concept - start pushing it more!"
      ]
    },
    {
      "cell_type": "code",
      "metadata": {
        "execution": {
          "iopub.status.busy": "2020-06-15T18:18:20.442Z",
          "iopub.execute_input": "2020-06-15T18:18:20.453Z",
          "iopub.status.idle": "2020-06-15T18:18:20.513Z",
          "shell.execute_reply": "2020-06-15T18:18:20.523Z"
        },
        "id": "dRrt23sZpPjg",
        "colab_type": "code",
        "colab": {}
      },
      "source": [
        "import requests\n",
        "import pandas as pd"
      ],
      "execution_count": 1,
      "outputs": []
    },
    {
      "cell_type": "code",
      "metadata": {
        "execution": {
          "iopub.status.busy": "2020-06-15T18:25:49.778Z",
          "iopub.execute_input": "2020-06-15T18:25:49.781Z",
          "iopub.status.idle": "2020-06-15T18:25:51.467Z",
          "shell.execute_reply": "2020-06-15T18:25:51.469Z"
        },
        "id": "CBTyymNSpPjj",
        "colab_type": "code",
        "colab": {}
      },
      "source": [
        "url = \"https://www.gutenberg.org/files/100/100-0.txt\"\n",
        "\n",
        "r = requests.get(url)\n",
        "r.encoding = r.apparent_encoding\n",
        "data = r.text\n",
        "data = data.split('\\r\\n')\n",
        "toc = [l.strip() for l in data[44:130:2]]\n",
        "# Skip the Table of Contents\n",
        "data = data[135:]\n",
        "\n",
        "# Fixing Titles\n",
        "toc[9] = 'THE LIFE OF KING HENRY V'\n",
        "toc[18] = 'MACBETH'\n",
        "toc[24] = 'OTHELLO, THE MOOR OF VENICE'\n",
        "toc[34] = 'TWELFTH NIGHT: OR, WHAT YOU WILL'\n",
        "\n",
        "locations = {id_:{'title':title, 'start':-99} for id_,title in enumerate(toc)}\n",
        "\n",
        "# Start \n",
        "for e,i in enumerate(data):\n",
        "    for t,title in enumerate(toc):\n",
        "        if title in i:\n",
        "            locations[t].update({'start':e})\n",
        "            \n",
        "\n",
        "df_toc = pd.DataFrame.from_dict(locations, orient='index')\n",
        "df_toc['end'] = df_toc['start'].shift(-1).apply(lambda x: x-1)\n",
        "df_toc.loc[42, 'end'] = len(data)\n",
        "df_toc['end'] = df_toc['end'].astype('int')\n",
        "\n",
        "df_toc['text'] = df_toc.apply(lambda x: '\\r\\n'.join(data[ x['start'] : int(x['end']) ]), axis=1)"
      ],
      "execution_count": 2,
      "outputs": []
    },
    {
      "cell_type": "code",
      "metadata": {
        "collapsed": true,
        "jupyter": {
          "source_hidden": false,
          "outputs_hidden": false
        },
        "nteract": {
          "transient": {
            "deleting": false
          }
        },
        "execution": {
          "iopub.status.busy": "2020-06-15T18:26:12.630Z",
          "iopub.execute_input": "2020-06-15T18:26:12.637Z",
          "iopub.status.idle": "2020-06-15T18:26:12.643Z",
          "shell.execute_reply": "2020-06-15T18:26:12.647Z"
        },
        "id": "-K1rZBfQpPjl",
        "colab_type": "code",
        "colab": {
          "base_uri": "https://localhost:8080/",
          "height": 195
        },
        "outputId": "7f13b527-d011-46f0-80c7-6585f0fd5e5e"
      },
      "source": [
        "#Shakespeare Data Parsed by Play\n",
        "df_toc.head()"
      ],
      "execution_count": 3,
      "outputs": [
        {
          "output_type": "execute_result",
          "data": {
            "text/html": [
              "<div>\n",
              "<style scoped>\n",
              "    .dataframe tbody tr th:only-of-type {\n",
              "        vertical-align: middle;\n",
              "    }\n",
              "\n",
              "    .dataframe tbody tr th {\n",
              "        vertical-align: top;\n",
              "    }\n",
              "\n",
              "    .dataframe thead th {\n",
              "        text-align: right;\n",
              "    }\n",
              "</style>\n",
              "<table border=\"1\" class=\"dataframe\">\n",
              "  <thead>\n",
              "    <tr style=\"text-align: right;\">\n",
              "      <th></th>\n",
              "      <th>title</th>\n",
              "      <th>start</th>\n",
              "      <th>end</th>\n",
              "      <th>text</th>\n",
              "    </tr>\n",
              "  </thead>\n",
              "  <tbody>\n",
              "    <tr>\n",
              "      <th>0</th>\n",
              "      <td>THE TRAGEDY OF ANTONY AND CLEOPATRA</td>\n",
              "      <td>-99</td>\n",
              "      <td>14379</td>\n",
              "      <td></td>\n",
              "    </tr>\n",
              "    <tr>\n",
              "      <th>1</th>\n",
              "      <td>AS YOU LIKE IT</td>\n",
              "      <td>14380</td>\n",
              "      <td>17171</td>\n",
              "      <td>AS YOU LIKE IT\\r\\n\\r\\n\\r\\nDRAMATIS PERSONAE.\\r...</td>\n",
              "    </tr>\n",
              "    <tr>\n",
              "      <th>2</th>\n",
              "      <td>THE COMEDY OF ERRORS</td>\n",
              "      <td>17172</td>\n",
              "      <td>20372</td>\n",
              "      <td>THE COMEDY OF ERRORS\\r\\n\\r\\n\\r\\n\\r\\nContents\\r...</td>\n",
              "    </tr>\n",
              "    <tr>\n",
              "      <th>3</th>\n",
              "      <td>THE TRAGEDY OF CORIOLANUS</td>\n",
              "      <td>20373</td>\n",
              "      <td>30346</td>\n",
              "      <td>THE TRAGEDY OF CORIOLANUS\\r\\n\\r\\nDramatis Pers...</td>\n",
              "    </tr>\n",
              "    <tr>\n",
              "      <th>4</th>\n",
              "      <td>CYMBELINE</td>\n",
              "      <td>30347</td>\n",
              "      <td>30364</td>\n",
              "      <td>CYMBELINE.\\r\\nLaud we the gods;\\r\\nAnd let our...</td>\n",
              "    </tr>\n",
              "  </tbody>\n",
              "</table>\n",
              "</div>"
            ],
            "text/plain": [
              "                                 title  ...                                               text\n",
              "0  THE TRAGEDY OF ANTONY AND CLEOPATRA  ...                                                   \n",
              "1                       AS YOU LIKE IT  ...  AS YOU LIKE IT\\r\\n\\r\\n\\r\\nDRAMATIS PERSONAE.\\r...\n",
              "2                 THE COMEDY OF ERRORS  ...  THE COMEDY OF ERRORS\\r\\n\\r\\n\\r\\n\\r\\nContents\\r...\n",
              "3            THE TRAGEDY OF CORIOLANUS  ...  THE TRAGEDY OF CORIOLANUS\\r\\n\\r\\nDramatis Pers...\n",
              "4                            CYMBELINE  ...  CYMBELINE.\\r\\nLaud we the gods;\\r\\nAnd let our...\n",
              "\n",
              "[5 rows x 4 columns]"
            ]
          },
          "metadata": {
            "tags": []
          },
          "execution_count": 3
        }
      ]
    },
    {
      "cell_type": "code",
      "metadata": {
        "id": "SqvPwfdFhNtl",
        "colab_type": "code",
        "colab": {
          "base_uri": "https://localhost:8080/",
          "height": 34
        },
        "outputId": "945616e9-df99-49a4-e10c-b4f67daf4f75"
      },
      "source": [
        "data = df_toc['text'].values\n",
        "len(data)"
      ],
      "execution_count": 4,
      "outputs": [
        {
          "output_type": "execute_result",
          "data": {
            "text/plain": [
              "43"
            ]
          },
          "metadata": {
            "tags": []
          },
          "execution_count": 4
        }
      ]
    },
    {
      "cell_type": "code",
      "metadata": {
        "id": "DedaROkRqRls",
        "colab_type": "code",
        "colab": {}
      },
      "source": [
        "data=data[1]"
      ],
      "execution_count": 5,
      "outputs": []
    },
    {
      "cell_type": "code",
      "metadata": {
        "id": "z3EyNF2ah7I9",
        "colab_type": "code",
        "colab": {}
      },
      "source": [
        "# Encode Data as Chars\n",
        "\n",
        "# Gather all text \n",
        "# Why? 1. See all possible characters 2. For training / splitting later\n",
        "text = \" \".join(data)\n",
        "\n",
        "# Unique Characters\n",
        "chars = list(set(text))\n",
        "\n",
        "# Lookup Tables\n",
        "char_int = {c:i for i, c in enumerate(chars)} \n",
        "int_char = {i:c for i, c in enumerate(chars)} "
      ],
      "execution_count": 6,
      "outputs": []
    },
    {
      "cell_type": "code",
      "metadata": {
        "id": "46Ve7isxh7Vl",
        "colab_type": "code",
        "colab": {
          "base_uri": "https://localhost:8080/",
          "height": 34
        },
        "outputId": "cb54dade-bc56-4a32-bfeb-dddc3331983c"
      },
      "source": [
        "char_int['S']"
      ],
      "execution_count": 7,
      "outputs": [
        {
          "output_type": "execute_result",
          "data": {
            "text/plain": [
              "55"
            ]
          },
          "metadata": {
            "tags": []
          },
          "execution_count": 7
        }
      ]
    },
    {
      "cell_type": "code",
      "metadata": {
        "id": "LrCKSdy3h7hT",
        "colab_type": "code",
        "colab": {
          "base_uri": "https://localhost:8080/",
          "height": 35
        },
        "outputId": "88f6ab10-f559-40d4-cea8-92412360b8ca"
      },
      "source": [
        "int_char[2]"
      ],
      "execution_count": 8,
      "outputs": [
        {
          "output_type": "execute_result",
          "data": {
            "application/vnd.google.colaboratory.intrinsic+json": {
              "type": "string"
            },
            "text/plain": [
              "'q'"
            ]
          },
          "metadata": {
            "tags": []
          },
          "execution_count": 8
        }
      ]
    },
    {
      "cell_type": "code",
      "metadata": {
        "id": "AHDb5UZKjhXW",
        "colab_type": "code",
        "colab": {
          "base_uri": "https://localhost:8080/",
          "height": 34
        },
        "outputId": "3ff05e50-129a-4a30-9619-291690f20c61"
      },
      "source": [
        "len(chars)"
      ],
      "execution_count": 9,
      "outputs": [
        {
          "output_type": "execute_result",
          "data": {
            "text/plain": [
              "66"
            ]
          },
          "metadata": {
            "tags": []
          },
          "execution_count": 9
        }
      ]
    },
    {
      "cell_type": "code",
      "metadata": {
        "id": "JFSdtnvImT1S",
        "colab_type": "code",
        "colab": {
          "base_uri": "https://localhost:8080/",
          "height": 1000
        },
        "outputId": "6b6eab94-433e-46c4-c19e-921d3835532c"
      },
      "source": [
        "chars"
      ],
      "execution_count": 10,
      "outputs": [
        {
          "output_type": "execute_result",
          "data": {
            "text/plain": [
              "['i',\n",
              " 'z',\n",
              " 'q',\n",
              " '&',\n",
              " 'F',\n",
              " \"'\",\n",
              " 'B',\n",
              " 'D',\n",
              " 'k',\n",
              " 'h',\n",
              " 'C',\n",
              " 'o',\n",
              " 't',\n",
              " 'O',\n",
              " ']',\n",
              " 'u',\n",
              " '\"',\n",
              " ' ',\n",
              " 'd',\n",
              " 'f',\n",
              " 'P',\n",
              " '\\r',\n",
              " ',',\n",
              " ';',\n",
              " 'L',\n",
              " 'Y',\n",
              " 'E',\n",
              " '[',\n",
              " '!',\n",
              " 'A',\n",
              " 'l',\n",
              " 'G',\n",
              " 'e',\n",
              " 'g',\n",
              " 'y',\n",
              " 'K',\n",
              " 'X',\n",
              " 'N',\n",
              " 's',\n",
              " 'Q',\n",
              " '?',\n",
              " ':',\n",
              " 'U',\n",
              " 'b',\n",
              " 'r',\n",
              " 'W',\n",
              " 'R',\n",
              " 'I',\n",
              " '\\n',\n",
              " 'v',\n",
              " 'H',\n",
              " 'T',\n",
              " 'x',\n",
              " 'a',\n",
              " 'p',\n",
              " 'S',\n",
              " 'w',\n",
              " 'j',\n",
              " 'c',\n",
              " 'V',\n",
              " '.',\n",
              " '-',\n",
              " 'n',\n",
              " 'M',\n",
              " 'J',\n",
              " 'm']"
            ]
          },
          "metadata": {
            "tags": []
          },
          "execution_count": 10
        }
      ]
    },
    {
      "cell_type": "code",
      "metadata": {
        "id": "ylSEJcTlmj9T",
        "colab_type": "code",
        "colab": {
          "base_uri": "https://localhost:8080/",
          "height": 1000
        },
        "outputId": "660f2bdf-e0b0-4030-b130-02d72183f337"
      },
      "source": [
        "char_int"
      ],
      "execution_count": 11,
      "outputs": [
        {
          "output_type": "execute_result",
          "data": {
            "text/plain": [
              "{'\\n': 48,\n",
              " '\\r': 21,\n",
              " ' ': 17,\n",
              " '!': 28,\n",
              " '\"': 16,\n",
              " '&': 3,\n",
              " \"'\": 5,\n",
              " ',': 22,\n",
              " '-': 61,\n",
              " '.': 60,\n",
              " ':': 41,\n",
              " ';': 23,\n",
              " '?': 40,\n",
              " 'A': 29,\n",
              " 'B': 6,\n",
              " 'C': 10,\n",
              " 'D': 7,\n",
              " 'E': 26,\n",
              " 'F': 4,\n",
              " 'G': 31,\n",
              " 'H': 50,\n",
              " 'I': 47,\n",
              " 'J': 64,\n",
              " 'K': 35,\n",
              " 'L': 24,\n",
              " 'M': 63,\n",
              " 'N': 37,\n",
              " 'O': 13,\n",
              " 'P': 20,\n",
              " 'Q': 39,\n",
              " 'R': 46,\n",
              " 'S': 55,\n",
              " 'T': 51,\n",
              " 'U': 42,\n",
              " 'V': 59,\n",
              " 'W': 45,\n",
              " 'X': 36,\n",
              " 'Y': 25,\n",
              " '[': 27,\n",
              " ']': 14,\n",
              " 'a': 53,\n",
              " 'b': 43,\n",
              " 'c': 58,\n",
              " 'd': 18,\n",
              " 'e': 32,\n",
              " 'f': 19,\n",
              " 'g': 33,\n",
              " 'h': 9,\n",
              " 'i': 0,\n",
              " 'j': 57,\n",
              " 'k': 8,\n",
              " 'l': 30,\n",
              " 'm': 65,\n",
              " 'n': 62,\n",
              " 'o': 11,\n",
              " 'p': 54,\n",
              " 'q': 2,\n",
              " 'r': 44,\n",
              " 's': 38,\n",
              " 't': 12,\n",
              " 'u': 15,\n",
              " 'v': 49,\n",
              " 'w': 56,\n",
              " 'x': 52,\n",
              " 'y': 34,\n",
              " 'z': 1}"
            ]
          },
          "metadata": {
            "tags": []
          },
          "execution_count": 11
        }
      ]
    },
    {
      "cell_type": "code",
      "metadata": {
        "id": "hoYRqK1wmvY2",
        "colab_type": "code",
        "colab": {
          "base_uri": "https://localhost:8080/",
          "height": 1000
        },
        "outputId": "947a9b63-0739-4bac-dd66-8589d558762d"
      },
      "source": [
        "int_char"
      ],
      "execution_count": 12,
      "outputs": [
        {
          "output_type": "execute_result",
          "data": {
            "text/plain": [
              "{0: 'i',\n",
              " 1: 'z',\n",
              " 2: 'q',\n",
              " 3: '&',\n",
              " 4: 'F',\n",
              " 5: \"'\",\n",
              " 6: 'B',\n",
              " 7: 'D',\n",
              " 8: 'k',\n",
              " 9: 'h',\n",
              " 10: 'C',\n",
              " 11: 'o',\n",
              " 12: 't',\n",
              " 13: 'O',\n",
              " 14: ']',\n",
              " 15: 'u',\n",
              " 16: '\"',\n",
              " 17: ' ',\n",
              " 18: 'd',\n",
              " 19: 'f',\n",
              " 20: 'P',\n",
              " 21: '\\r',\n",
              " 22: ',',\n",
              " 23: ';',\n",
              " 24: 'L',\n",
              " 25: 'Y',\n",
              " 26: 'E',\n",
              " 27: '[',\n",
              " 28: '!',\n",
              " 29: 'A',\n",
              " 30: 'l',\n",
              " 31: 'G',\n",
              " 32: 'e',\n",
              " 33: 'g',\n",
              " 34: 'y',\n",
              " 35: 'K',\n",
              " 36: 'X',\n",
              " 37: 'N',\n",
              " 38: 's',\n",
              " 39: 'Q',\n",
              " 40: '?',\n",
              " 41: ':',\n",
              " 42: 'U',\n",
              " 43: 'b',\n",
              " 44: 'r',\n",
              " 45: 'W',\n",
              " 46: 'R',\n",
              " 47: 'I',\n",
              " 48: '\\n',\n",
              " 49: 'v',\n",
              " 50: 'H',\n",
              " 51: 'T',\n",
              " 52: 'x',\n",
              " 53: 'a',\n",
              " 54: 'p',\n",
              " 55: 'S',\n",
              " 56: 'w',\n",
              " 57: 'j',\n",
              " 58: 'c',\n",
              " 59: 'V',\n",
              " 60: '.',\n",
              " 61: '-',\n",
              " 62: 'n',\n",
              " 63: 'M',\n",
              " 64: 'J',\n",
              " 65: 'm'}"
            ]
          },
          "metadata": {
            "tags": []
          },
          "execution_count": 12
        }
      ]
    },
    {
      "cell_type": "code",
      "metadata": {
        "id": "HGGu5vAzjiS9",
        "colab_type": "code",
        "colab": {
          "base_uri": "https://localhost:8080/",
          "height": 34
        },
        "outputId": "c7a43fdf-dfb2-4050-fbbf-016416fee377"
      },
      "source": [
        "# Create the sequence data\n",
        "\n",
        "maxlen = 40\n",
        "step = 5\n",
        "\n",
        "encoded = [char_int[c] for c in text]\n",
        "\n",
        "sequences = [] # Each element is 40 chars long\n",
        "next_char = [] # One element for each sequence\n",
        "\n",
        "for i in range(0, len(encoded) - maxlen, step):\n",
        "    sequences.append(encoded[i : i + maxlen])\n",
        "    next_char.append(encoded[i + maxlen])\n",
        "    \n",
        "print('sequences: ', len(sequences))"
      ],
      "execution_count": 13,
      "outputs": [
        {
          "output_type": "stream",
          "text": [
            "sequences:  54663\n"
          ],
          "name": "stdout"
        }
      ]
    },
    {
      "cell_type": "code",
      "metadata": {
        "id": "ABVeXjAdjiV2",
        "colab_type": "code",
        "colab": {
          "base_uri": "https://localhost:8080/",
          "height": 34
        },
        "outputId": "720e89ff-7949-4ec0-a6a4-3a59296d6227"
      },
      "source": [
        "len(text)"
      ],
      "execution_count": 14,
      "outputs": [
        {
          "output_type": "execute_result",
          "data": {
            "text/plain": [
              "273355"
            ]
          },
          "metadata": {
            "tags": []
          },
          "execution_count": 14
        }
      ]
    },
    {
      "cell_type": "code",
      "metadata": {
        "id": "pabKbsGljiYr",
        "colab_type": "code",
        "colab": {
          "base_uri": "https://localhost:8080/",
          "height": 689
        },
        "outputId": "de957bb2-bf20-4020-fb54-65b9e7e8413e"
      },
      "source": [
        "sequences[0]"
      ],
      "execution_count": 15,
      "outputs": [
        {
          "output_type": "execute_result",
          "data": {
            "text/plain": [
              "[29,\n",
              " 17,\n",
              " 55,\n",
              " 17,\n",
              " 17,\n",
              " 17,\n",
              " 25,\n",
              " 17,\n",
              " 13,\n",
              " 17,\n",
              " 42,\n",
              " 17,\n",
              " 17,\n",
              " 17,\n",
              " 24,\n",
              " 17,\n",
              " 47,\n",
              " 17,\n",
              " 35,\n",
              " 17,\n",
              " 26,\n",
              " 17,\n",
              " 17,\n",
              " 17,\n",
              " 47,\n",
              " 17,\n",
              " 51,\n",
              " 17,\n",
              " 21,\n",
              " 17,\n",
              " 48,\n",
              " 17,\n",
              " 21,\n",
              " 17,\n",
              " 48,\n",
              " 17,\n",
              " 21,\n",
              " 17,\n",
              " 48,\n",
              " 17]"
            ]
          },
          "metadata": {
            "tags": []
          },
          "execution_count": 15
        }
      ]
    },
    {
      "cell_type": "code",
      "metadata": {
        "id": "EpnzumtwlHpT",
        "colab_type": "code",
        "colab": {}
      },
      "source": [
        "import numpy as np"
      ],
      "execution_count": 16,
      "outputs": []
    },
    {
      "cell_type": "code",
      "metadata": {
        "id": "_fDwj2dDjicH",
        "colab_type": "code",
        "colab": {}
      },
      "source": [
        "# Create x & y\n",
        "\n",
        "# Padding!\n",
        "\n",
        "\n",
        "x = np.zeros((len(sequences), maxlen, len(chars)), dtype=np.bool)\n",
        "y = np.zeros((len(sequences),len(chars)), dtype=np.bool)\n",
        "\n",
        "for i, sequence in enumerate(sequences):\n",
        "    for t, char in enumerate(sequence):\n",
        "        x[i,t,char] = 1\n",
        "        \n",
        "    y[i, next_char[i]] = 1"
      ],
      "execution_count": 17,
      "outputs": []
    },
    {
      "cell_type": "code",
      "metadata": {
        "id": "FP7w4L5Ul_1I",
        "colab_type": "code",
        "colab": {
          "base_uri": "https://localhost:8080/",
          "height": 34
        },
        "outputId": "cfb1291c-c80e-43b4-89af-91ed711ffa5f"
      },
      "source": [
        "x.shape"
      ],
      "execution_count": 18,
      "outputs": [
        {
          "output_type": "execute_result",
          "data": {
            "text/plain": [
              "(54663, 40, 66)"
            ]
          },
          "metadata": {
            "tags": []
          },
          "execution_count": 18
        }
      ]
    },
    {
      "cell_type": "code",
      "metadata": {
        "id": "btMfxnb7r9zH",
        "colab_type": "code",
        "colab": {
          "base_uri": "https://localhost:8080/",
          "height": 34
        },
        "outputId": "a8adbbb9-3280-466e-fda2-ee8e166f3725"
      },
      "source": [
        "y.shape"
      ],
      "execution_count": 19,
      "outputs": [
        {
          "output_type": "execute_result",
          "data": {
            "text/plain": [
              "(54663, 66)"
            ]
          },
          "metadata": {
            "tags": []
          },
          "execution_count": 19
        }
      ]
    },
    {
      "cell_type": "code",
      "metadata": {
        "id": "GfcxrqMKsaEu",
        "colab_type": "code",
        "colab": {}
      },
      "source": [
        "from tensorflow.keras.callbacks import LambdaCallback\n",
        "from tensorflow.keras.models import Sequential\n",
        "from tensorflow.keras.layers import Dense, LSTM\n",
        "from tensorflow.keras.optimizers import RMSprop\n",
        "\n",
        "import random\n",
        "import sys\n",
        "import os"
      ],
      "execution_count": 21,
      "outputs": []
    },
    {
      "cell_type": "code",
      "metadata": {
        "id": "wrvoGYxWr92N",
        "colab_type": "code",
        "colab": {}
      },
      "source": [
        "# build the model: a single LSTM\n",
        "\n",
        "model = Sequential()\n",
        "model.add(LSTM(128, input_shape=(maxlen, len(chars))))\n",
        "model.add(Dense(len(chars), activation='softmax'))\n",
        "\n",
        "model.compile(loss='categorical_crossentropy', optimizer='adam')"
      ],
      "execution_count": 22,
      "outputs": []
    },
    {
      "cell_type": "code",
      "metadata": {
        "id": "C14p3ItDr95d",
        "colab_type": "code",
        "colab": {
          "base_uri": "https://localhost:8080/",
          "height": 218
        },
        "outputId": "e06e2598-208e-47f1-fdc6-1e3799e47f92"
      },
      "source": [
        "model.summary()"
      ],
      "execution_count": 23,
      "outputs": [
        {
          "output_type": "stream",
          "text": [
            "Model: \"sequential\"\n",
            "_________________________________________________________________\n",
            "Layer (type)                 Output Shape              Param #   \n",
            "=================================================================\n",
            "lstm (LSTM)                  (None, 128)               99840     \n",
            "_________________________________________________________________\n",
            "dense (Dense)                (None, 66)                8514      \n",
            "=================================================================\n",
            "Total params: 108,354\n",
            "Trainable params: 108,354\n",
            "Non-trainable params: 0\n",
            "_________________________________________________________________\n"
          ],
          "name": "stdout"
        }
      ]
    },
    {
      "cell_type": "code",
      "metadata": {
        "id": "_FKbrEtLr98Z",
        "colab_type": "code",
        "colab": {}
      },
      "source": [
        "def sample(preds):\n",
        "    # helper function to sample an index from a probability array\n",
        "    preds = np.asarray(preds).astype('float64')\n",
        "    preds = np.log(preds) / 1\n",
        "    exp_preds = np.exp(preds)\n",
        "    preds = exp_preds / np.sum(exp_preds)\n",
        "    probas = np.random.multinomial(1, preds, 1)\n",
        "    return np.argmax(probas)"
      ],
      "execution_count": 24,
      "outputs": []
    },
    {
      "cell_type": "code",
      "metadata": {
        "id": "862wNjYar9-6",
        "colab_type": "code",
        "colab": {}
      },
      "source": [
        "def on_epoch_end(epoch, _):\n",
        "    # Function invoked at end of each epoch. Prints generated text.\n",
        "    \n",
        "    print()\n",
        "    print('----- Generating text after Epoch: %d' % epoch)\n",
        "    \n",
        "    # Random prompt\n",
        "    start_index = random.randint(0, len(text) - maxlen - 1)\n",
        "    \n",
        "    generated = ''\n",
        "    \n",
        "    sentence = text[start_index: start_index + maxlen]\n",
        "    generated += sentence\n",
        "    \n",
        "    print('----- Generating with seed: \"' + sentence + '\"')\n",
        "    sys.stdout.write(generated)\n",
        "    \n",
        "    for i in range(400):\n",
        "        x_pred = np.zeros((1, maxlen, len(chars)))\n",
        "        for t, char in enumerate(sentence):\n",
        "            x_pred[0, t, char_int[char]] = 1\n",
        "            \n",
        "        # Predict the next step (character)\n",
        "        preds = model.predict(x_pred, verbose=0)[0]\n",
        "        next_index = sample(preds)\n",
        "        next_char = int_char[next_index]\n",
        "        \n",
        "        sentence = sentence[1:] + next_char\n",
        "        \n",
        "        sys.stdout.write(next_char)\n",
        "        sys.stdout.flush()\n",
        "    print()\n",
        "\n",
        "print_callback = LambdaCallback(on_epoch_end=on_epoch_end)    \n"
      ],
      "execution_count": 27,
      "outputs": []
    },
    {
      "cell_type": "code",
      "metadata": {
        "id": "NZo9WiZ0r-CQ",
        "colab_type": "code",
        "colab": {
          "base_uri": "https://localhost:8080/",
          "height": 1000
        },
        "outputId": "929c8968-02d4-4eab-e87a-ad19b02a51ef"
      },
      "source": [
        "# fit the model\n",
        "\n",
        "model.fit(x, y,\n",
        "          batch_size=32,\n",
        "          epochs=10,\n",
        "          callbacks=[print_callback])"
      ],
      "execution_count": 28,
      "outputs": [
        {
          "output_type": "stream",
          "text": [
            "Epoch 1/10\n",
            "1708/1709 [============================>.] - ETA: 0s - loss: 1.5407\n",
            "----- Generating text after Epoch: 0\n",
            " \n",
            "         b r i e r s   i s   t h \"\n",
            " \n",
            "         b r i e r s   i s   t h e t h i l o l w e s t   o r   s h p o l n s p e ! z d   i l y a c r f p s o u r i l m a v   e g ;   t h i g   r y   A . l   u t e o r l ' g i d   h i r a t s i s   g i -   G R I C .   ,   M a r   b e r t   e     i n t e c a b e t m a ,   t A J e \n",
            " \n",
            "\n",
            "1709/1709 [==============================] - 20s 11ms/step - loss: 1.5405\n",
            "Epoch 2/10\n",
            "1709/1709 [==============================] - ETA: 0s - loss: 1.1569\n",
            "----- Generating text after Epoch: 1\n",
            " \n",
            "     C E L I A .   W h \"\n",
            " \n",
            " \n",
            " \n",
            " \n",
            " \n",
            " \n",
            "     R R \n",
            "1709/1709 [==============================] - 19s 11ms/step - loss: 1.1569\n",
            "Epoch 3/10\n",
            "1698/1709 [============================>.] - ETA: 0s - loss: 1.0597\n",
            "----- Generating text after Epoch: 2\n",
            "----- Generating with seed: \" e n   o f   g r e a t   w o r t h   r e\"\n",
            " \n",
            "         U f   a p t r l y   a n p o l o s   t h o v e   a r   i s   g a t   y o u   a f   c h a n g   f o v e r d   m e   a n d   z i d   o o n   h e r   Y o v e   I   s a   t h e   G R o u   f h a a d   h a e n   t h e   c ' v h l a n d   I   y h o t   i n   m e   a   h -   v e r e   S a t   M E R g a r .   T C U L E .   S o u d   l a   J y o t\n",
            "1709/1709 [==============================] - 20s 11ms/step - loss: 1.0593\n",
            "Epoch 4/10\n",
            "1700/1709 [============================>.] - ETA: 0s - loss: 1.0038\n",
            "----- Generating text after Epoch: 3\n",
            "----- Generating with seed: \"r s e s   w i t h   r e a d i n g   t h \"\n",
            " \n",
            " \n",
            " \n",
            " \n",
            "         S o r \n",
            "1709/1709 [==============================] - 19s 11ms/step - loss: 1.0041\n",
            "Epoch 5/10\n",
            "1697/1709 [============================>.] - ETA: 0s - loss: 0.9651\n",
            "----- Generating text after Epoch: 4\n",
            " \n",
            "         T o  \"\n",
            " \n",
            " \n",
            "         T o u   t h a l l   w i e y   f e d t ,   w i l l   t o   h e a n y s   i t   r i s   t h e   f r a r   o f   p h e   b u l l   f u r g   t h a y   m e v e r ' l d   b h a n t   d a t   b r   s a l d   w e r y   f r i t s   u r s i g t   h e t   a r g   w o l t   f t r o t   I       F e n t ;   y o u   h a u   b o r n   s o u g h   i l   s h i d s s ,   a n d   t h l l ;   t h e  \n",
            "1709/1709 [==============================] - 19s 11ms/step - loss: 0.9655\n",
            "Epoch 6/10\n",
            "1704/1709 [============================>.] - ETA: 0s - loss: 0.9348\n",
            "----- Generating text after Epoch: 5\n",
            "----- Generating with seed: \" \n",
            "     C H A R L E S .   O ,   n o ;   f\"\n",
            " \n",
            " \n",
            " \n",
            " \n",
            " \n",
            "     O O L I N D .\n",
            "1709/1709 [==============================] - 20s 11ms/step - loss: 0.9348\n",
            "Epoch 7/10\n",
            "1703/1709 [============================>.] - ETA: 0s - loss: 0.9089\n",
            "----- Generating text after Epoch: 6\n",
            "----- Generating with seed: \"I V E R .   W h e r e   w i l l   t h e \"\n",
            " \n",
            "         c h e n t   i n   m e   t o   f o u m f   c h a t   o f   y o u p   a s   m a v e   h o r v e r   a n d   i s   t r a s t o f   l e f t h e   ?   W i l l   h e   m o n !       t e a n t   y o u   I   t h e   e n d e r   o n ,   r i s t   B u l l   w o   B u e   d o n g h e l e   t h a   h a s k b e n e s ;   o f   d e n t t e \n",
            "1709/1709 [==============================] - 20s 11ms/step - loss: 0.9085\n",
            "Epoch 8/10\n",
            "1705/1709 [============================>.] - ETA: 0s - loss: 0.8869\n",
            "----- Generating text after Epoch: 7\n",
            "----- Generating with seed: \"a g e ,   h e   h a t h   s t r a n g e \"\n",
            " \n",
            " \n",
            " \n",
            "         \"         w o t h l y   y o u n g   s h e r \n",
            "1709/1709 [==============================] - 19s 11ms/step - loss: 0.8867\n",
            "Epoch 9/10\n",
            "1704/1709 [============================>.] - ETA: 0s - loss: 0.8661\n",
            "----- Generating text after Epoch: 8\n",
            "----- Generating with seed: \"     R O S A L I N D .   A y ,   b e   s\"\n",
            " \n",
            " \n",
            " \n",
            " \n",
            " \n",
            " \n",
            "         A n d   m e\n",
            "1709/1709 [==============================] - 20s 11ms/step - loss: 0.8658\n",
            "Epoch 10/10\n",
            "1700/1709 [============================>.] - ETA: 0s - loss: 0.8470\n",
            "----- Generating text after Epoch: 9\n",
            "----- Generating with seed: \" s e   h e r   f o r   h e r   v i r t u\"\n",
            " \n",
            " \n",
            " \n",
            "                                                         E L I N e   I   S I L I K .  \n",
            "1709/1709 [==============================] - 19s 11ms/step - loss: 0.8470\n"
          ],
          "name": "stdout"
        },
        {
          "output_type": "execute_result",
          "data": {
            "text/plain": [
              "<tensorflow.python.keras.callbacks.History at 0x7faf6c3cac18>"
            ]
          },
          "metadata": {
            "tags": []
          },
          "execution_count": 28
        }
      ]
    },
    {
      "cell_type": "markdown",
      "metadata": {
        "colab_type": "text",
        "id": "zE4a4O7Bp5x1"
      },
      "source": [
        "# Resources and Stretch Goals"
      ]
    },
    {
      "cell_type": "code",
      "metadata": {
        "id": "8EJ4PPR4uLF2",
        "colab_type": "code",
        "colab": {}
      },
      "source": [
        "def print_text_from_seq(x):\n",
        "  INDEX_FORM = 3\n",
        "  word_to_id = imdb.get_word_index()\n",
        "  word_to_id = {k:(v+INDEX_FORM) for k,v in word_to_id.items()}\n",
        "  word_to_id[\"<PAD>\"] = 0\n",
        "  word_to_id[\"<START>\"] = 1\n",
        "  word_to_id[\"<UNK>\"] = 2\n",
        "  word_to_id[\"<UNUSED>\"] = 3\n",
        "\n",
        "  id_to_word = {value:key for key,value in word_to_id.items()}\n",
        "  print('==================================================')\n",
        "  print(f'Length = {len(x)}')\n",
        "  print('==================================================')\n",
        "  print(' '.join(id_to_word[id] for id in x))"
      ],
      "execution_count": 29,
      "outputs": []
    },
    {
      "cell_type": "code",
      "metadata": {
        "id": "TQ5MnjEFyqGN",
        "colab_type": "code",
        "colab": {}
      },
      "source": [
        "from __future__ import print_function\n",
        "\n",
        "from tensorflow.keras.layers import Dense, Embedding\n",
        "from tensorflow.keras.layers import LSTM\n",
        "from tensorflow.keras.datasets import imdb"
      ],
      "execution_count": 31,
      "outputs": []
    },
    {
      "cell_type": "markdown",
      "metadata": {
        "colab_type": "text",
        "id": "uT3UV3gap9H6"
      },
      "source": [
        "## Stretch goals:\n",
        "- Refine the training and generation of text to be able to ask for different genres/styles of Shakespearean text (e.g. plays versus sonnets)\n",
        "- Train a classification model that takes text and returns which work of Shakespeare it is most likely to be from\n",
        "- Make it more performant! Many possible routes here - lean on Keras, optimize the code, and/or use more resources (AWS, etc.)\n",
        "- Revisit the news example from class, and improve it - use categories or tags to refine the model/generation, or train a news classifier\n",
        "- Run on bigger, better data\n",
        "\n",
        "## Resources:\n",
        "- [The Unreasonable Effectiveness of Recurrent Neural Networks](https://karpathy.github.io/2015/05/21/rnn-effectiveness/) - a seminal writeup demonstrating a simple but effective character-level NLP RNN\n",
        "- [Simple NumPy implementation of RNN](https://github.com/JY-Yoon/RNN-Implementation-using-NumPy/blob/master/RNN%20Implementation%20using%20NumPy.ipynb) - Python 3 version of the code from \"Unreasonable Effectiveness\"\n",
        "- [TensorFlow RNN Tutorial](https://github.com/tensorflow/models/tree/master/tutorials/rnn) - code for training a RNN on the Penn Tree Bank language dataset\n",
        "- [4 part tutorial on RNN](http://www.wildml.com/2015/09/recurrent-neural-networks-tutorial-part-1-introduction-to-rnns/) - relates RNN to the vanishing gradient problem, and provides example implementation\n",
        "- [RNN training tips and tricks](https://github.com/karpathy/char-rnn#tips-and-tricks) - some rules of thumb for parameterizing and training your RNN"
      ]
    }
  ]
}