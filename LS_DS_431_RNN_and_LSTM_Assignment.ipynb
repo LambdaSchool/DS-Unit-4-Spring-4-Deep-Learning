{
 "cells": [
  {
   "cell_type": "markdown",
   "metadata": {},
   "source": [
    "\n",
    "\n",
    "# Recurrent Neural Networks and Long Short Term Memory (LSTM)\n",
    "\n",
    "tensorflow gpu as well as the Cuda library should be used to run this locally. \n",
    "\n",
    "![Alice in Wonderland](http://giphygifs.s3.amazonaws.com/media/N8OXS6RFwnBkI/giphy.gif)\n",
    "\n",
    "Let's see if we can get there a bit faster, with the power of Recurrent Neural Networks and LSTM.\n",
    "\n",
    "This text file contains the Alice in Wonderland book used: https://gist.githubusercontent.com/phillipj/4944029/raw/75ba2243dd5ec2875f629bf5d79f6c1e4b5a8b46/alice_in_wonderland.txt\n",
    "\n",
    "Using a character LSTM, the network will generate Lewis Carrol like text based on the book."
   ]
  },
  {
   "cell_type": "code",
   "execution_count": 1,
   "metadata": {
    "colab": {},
    "colab_type": "code",
    "id": "Ltj1je1fp5rO"
   },
   "outputs": [
    {
     "name": "stdout",
     "output_type": "stream",
     "text": [
      "[name: \"/device:CPU:0\"\n",
      "device_type: \"CPU\"\n",
      "memory_limit: 268435456\n",
      "locality {\n",
      "}\n",
      "incarnation: 12759512152499244626\n",
      ", name: \"/device:GPU:0\"\n",
      "device_type: \"GPU\"\n",
      "memory_limit: 6622735237\n",
      "locality {\n",
      "  bus_id: 1\n",
      "  links {\n",
      "  }\n",
      "}\n",
      "incarnation: 10551985994170035563\n",
      "physical_device_desc: \"device: 0, name: GeForce RTX 2070, pci bus id: 0000:01:00.0, compute capability: 7.5\"\n",
      "]\n"
     ]
    }
   ],
   "source": [
    "from __future__ import absolute_import, division, print_function, unicode_literals\n",
    "\n",
    "import tensorflow as tf\n",
    "tf.enable_eager_execution()\n",
    "from tensorflow.keras.callbacks import EarlyStopping as EarlyStopping\n",
    "from tensorflow.python.client import device_lib\n",
    "from tensorflow.keras.layers import Activation\n",
    "print(device_lib.list_local_devices()) #make sure the GPU is exposed \n",
    "sess = tf.Session(config=tf.ConfigProto(log_device_placement=True)) #make sure the GPU is used backend vs Theanos\n",
    "import numpy as np\n",
    "import os\n",
    "import re\n",
    "import time\n",
    "import string"
   ]
  },
  {
   "cell_type": "code",
   "execution_count": 2,
   "metadata": {},
   "outputs": [
    {
     "name": "stdout",
     "output_type": "stream",
     "text": [
      " \n",
      "   \n",
      "   \n",
      "  Alice was beginning to get very tired of sitting by her sister on the \n",
      "  bank and of having nothing to do. Once or twice she had peeped into the \n",
      "  book her sister was reading but it had no pictures or conversations in \n",
      "  it and what is the use of a book thought Alice without pictures or \n",
      "  conversations? \n",
      "   \n",
      "  So she was considering i\n"
     ]
    }
   ],
   "source": [
    "# load text\n",
    "filename = 'D:\\Githubrepos\\DS-Unit-4-Sprint-3-Deep-Learning\\module1-rnn-and-lstm\\Alice.txt'\n",
    "file = open(filename, 'rt')\n",
    "text = file.read()\n",
    "file.close()\n",
    "# split into words by white space\n",
    "\n",
    "words = text.strip()\n",
    "words = words.replace('\\n',' \\n  ')\n",
    "# remove punctuation from each word\n",
    "string.punctuation = string.punctuation.replace(\".\",\"\")\n",
    "string.punctuation = string.punctuation.replace(\"?\",\"\")\n",
    "string.punctuation = string.punctuation.replace(\"!\",\"\")\n",
    "table = str.maketrans('', '', string.punctuation)\n",
    "raw_text = [w.translate(table) for w in words]\n",
    "stripped = \"\".join(raw_text)\n",
    "stripped = stripped[22:]\n",
    "print(stripped[:350])"
   ]
  },
  {
   "cell_type": "code",
   "execution_count": 3,
   "metadata": {},
   "outputs": [
    {
     "name": "stdout",
     "output_type": "stream",
     "text": [
      " \n",
      "   \n",
      "   \n",
      "  Alice was beginning to get very tired of sitting by her sister on the \n",
      "  bank and of having nothing to do. Once or twice she had peeped into the \n",
      "  book her sister was reading but it had no pictures or conversations in \n",
      "  it and what is t\n"
     ]
    }
   ],
   "source": [
    "# Take a look at the first 250 characters in text\n",
    "print(stripped[:250])"
   ]
  },
  {
   "cell_type": "code",
   "execution_count": 4,
   "metadata": {},
   "outputs": [
    {
     "name": "stdout",
     "output_type": "stream",
     "text": [
      "57 unique characters\n",
      "Length of text: 54454 characters\n"
     ]
    }
   ],
   "source": [
    "# The unique characters in the file\n",
    "vocab = sorted(set(stripped))\n",
    "print ('{} unique characters'.format(len(vocab)))\n",
    "# length of text is the number of characters in it\n",
    "print ('Length of text: {} characters'.format(len(stripped)))"
   ]
  },
  {
   "cell_type": "code",
   "execution_count": 5,
   "metadata": {},
   "outputs": [],
   "source": [
    "# Creating a mapping from unique characters to indices\n",
    "char2idx = {u:i for i, u in enumerate(vocab)}\n",
    "idx2char = np.array(vocab)\n",
    "\n",
    "text_as_int = np.array([char2idx[c] for c in stripped])\n"
   ]
  },
  {
   "cell_type": "code",
   "execution_count": 6,
   "metadata": {},
   "outputs": [
    {
     "name": "stdout",
     "output_type": "stream",
     "text": [
      "{\n",
      "  '\\n':   0,\n",
      "  ' ' :   1,\n",
      "  '!' :   2,\n",
      "  '.' :   3,\n",
      "  '?' :   4,\n",
      "  'A' :   5,\n",
      "  'B' :   6,\n",
      "  'C' :   7,\n",
      "  'D' :   8,\n",
      "  'E' :   9,\n",
      "  'F' :  10,\n",
      "  'G' :  11,\n",
      "  'H' :  12,\n",
      "  'I' :  13,\n",
      "  'J' :  14,\n",
      "  'K' :  15,\n",
      "  'L' :  16,\n",
      "  'M' :  17,\n",
      "  'N' :  18,\n",
      "  'O' :  19,\n",
      "  ...\n",
      "}\n"
     ]
    }
   ],
   "source": [
    "print('{')\n",
    "for char,_ in zip(char2idx, range(20)):\n",
    "    print('  {:4s}: {:3d},'.format(repr(char), char2idx[char]))\n",
    "print('  ...\\n}')"
   ]
  },
  {
   "cell_type": "code",
   "execution_count": 7,
   "metadata": {},
   "outputs": [
    {
     "name": "stdout",
     "output_type": "stream",
     "text": [
      "' \\n   \\n   \\n  A' ---- characters mapped to int ---- > [1 0 1 1 1 0 1 1 1 0 1 1 5]\n"
     ]
    }
   ],
   "source": [
    "# Show how the first 13 characters from the text are mapped to integers\n",
    "print ('{} ---- characters mapped to int ---- > {}'.format(repr(stripped[:13]), text_as_int[:13]))\n"
   ]
  },
  {
   "cell_type": "code",
   "execution_count": 8,
   "metadata": {},
   "outputs": [
    {
     "name": "stdout",
     "output_type": "stream",
     "text": [
      " \n",
      "\n",
      "\n",
      " \n",
      " \n",
      " \n"
     ]
    }
   ],
   "source": [
    "# The maximum length sentence we want for a single input in characters\n",
    "seq_length = 100\n",
    "examples_per_epoch = len(stripped)//seq_length\n",
    "\n",
    "# Create training examples / targets\n",
    "char_dataset = tf.data.Dataset.from_tensor_slices(text_as_int)\n",
    "\n",
    "for i in char_dataset.take(5):\n",
    "  print(idx2char[i.numpy()])\n"
   ]
  },
  {
   "cell_type": "code",
   "execution_count": 9,
   "metadata": {},
   "outputs": [
    {
     "name": "stdout",
     "output_type": "stream",
     "text": [
      "' \\n   \\n   \\n  Alice was beginning to get very tired of sitting by her sister on the \\n  bank and of havi'\n",
      "'ng nothing to do. Once or twice she had peeped into the \\n  book her sister was reading but it had no '\n",
      "'pictures or conversations in \\n  it and what is the use of a book thought Alice without pictures or \\n '\n",
      "' conversations? \\n   \\n  So she was considering in her own mind as well as she could for the \\n  day mad'\n",
      "'e her feel very sleepy and stupid whether the pleasure of \\n  making a daisychain would be worth the t'\n",
      "'rouble of getting up and \\n  picking the daisies when suddenly a White Rabbit with pink eyes ran \\n  cl'\n",
      "'ose by her. \\n   \\n  There was nothing so very remarkable in that nor did Alice think it so \\n  very muc'\n",
      "'h out of the way to hear the Rabbit say to itself Oh dear! Oh \\n  dear! I shall be too late! But when '\n"
     ]
    }
   ],
   "source": [
    "sequences = char_dataset.batch(seq_length+1, drop_remainder=True)\n",
    "\n",
    "for item in sequences.take(8):\n",
    "  print(repr(''.join(idx2char[item.numpy()])))"
   ]
  },
  {
   "cell_type": "code",
   "execution_count": 10,
   "metadata": {},
   "outputs": [],
   "source": [
    "def split_input_target(chunk):\n",
    "    input_text = chunk[:-1]\n",
    "    target_text = chunk[1:]\n",
    "    return input_text, target_text\n",
    "\n",
    "dataset = sequences.map(split_input_target)\n"
   ]
  },
  {
   "cell_type": "code",
   "execution_count": 11,
   "metadata": {},
   "outputs": [
    {
     "name": "stdout",
     "output_type": "stream",
     "text": [
      "Input data:  ' \\n   \\n   \\n  Alice was beginning to get very tired of sitting by her sister on the \\n  bank and of hav'\n",
      "Target data: '\\n   \\n   \\n  Alice was beginning to get very tired of sitting by her sister on the \\n  bank and of havi'\n"
     ]
    }
   ],
   "source": [
    "for input_example, target_example in  dataset.take(1):\n",
    "  print ('Input data: ', repr(''.join(idx2char[input_example.numpy()])))\n",
    "  print ('Target data:', repr(''.join(idx2char[target_example.numpy()])))\n"
   ]
  },
  {
   "cell_type": "code",
   "execution_count": 12,
   "metadata": {},
   "outputs": [
    {
     "name": "stdout",
     "output_type": "stream",
     "text": [
      "Step    0\n",
      "  input: 1 (' ')\n",
      "  expected output: 0 ('\\n')\n",
      "Step    1\n",
      "  input: 0 ('\\n')\n",
      "  expected output: 1 (' ')\n",
      "Step    2\n",
      "  input: 1 (' ')\n",
      "  expected output: 1 (' ')\n",
      "Step    3\n",
      "  input: 1 (' ')\n",
      "  expected output: 1 (' ')\n",
      "Step    4\n",
      "  input: 1 (' ')\n",
      "  expected output: 0 ('\\n')\n"
     ]
    }
   ],
   "source": [
    "for i, (input_idx, target_idx) in enumerate(zip(input_example[:5], target_example[:5])):\n",
    "    print(\"Step {:4d}\".format(i))\n",
    "    print(\"  input: {} ({:s})\".format(input_idx, repr(idx2char[input_idx])))\n",
    "    print(\"  expected output: {} ({:s})\".format(target_idx, repr(idx2char[target_idx])))\n"
   ]
  },
  {
   "cell_type": "code",
   "execution_count": 13,
   "metadata": {},
   "outputs": [
    {
     "data": {
      "text/plain": [
       "<DatasetV1Adapter shapes: ((64, 100), (64, 100)), types: (tf.int32, tf.int32)>"
      ]
     },
     "execution_count": 13,
     "metadata": {},
     "output_type": "execute_result"
    }
   ],
   "source": [
    "# Batch size\n",
    "BATCH_SIZE = 64\n",
    "steps_per_epoch = examples_per_epoch//BATCH_SIZE\n",
    "\n",
    "# Buffer size to shuffle the dataset\n",
    "# (TF data is designed to work with possibly infinite sequences,\n",
    "# so it doesn't attempt to shuffle the entire sequence in memory. Instead,\n",
    "# it maintains a buffer in which it shuffles elements).\n",
    "BUFFER_SIZE = 10000\n",
    "\n",
    "dataset = dataset.shuffle(BUFFER_SIZE).batch(BATCH_SIZE, drop_remainder=True)\n",
    "\n",
    "dataset"
   ]
  },
  {
   "cell_type": "code",
   "execution_count": 14,
   "metadata": {},
   "outputs": [],
   "source": [
    "# Length of the vocabulary in chars\n",
    "vocab_size = len(vocab)\n",
    "\n",
    "# The embedding dimension\n",
    "embedding_dim = 256\n",
    "\n",
    "# Number of RNN units\n",
    "rnn_units = 1024\n"
   ]
  },
  {
   "cell_type": "code",
   "execution_count": 15,
   "metadata": {},
   "outputs": [],
   "source": [
    "if tf.test.is_gpu_available():\n",
    "  rnn = tf.keras.layers.CuDNNGRU\n",
    "else:\n",
    "  import functools\n",
    "  rnn = functools.partial(\n",
    "    tf.keras.layers.GRU, recurrent_activation='sigmoid')\n"
   ]
  },
  {
   "cell_type": "code",
   "execution_count": 16,
   "metadata": {},
   "outputs": [],
   "source": [
    "def build_model(vocab_size, embedding_dim, rnn_units, batch_size):\n",
    "    model = tf.keras.Sequential([\n",
    "        tf.keras.layers.Embedding(vocab_size, embedding_dim,\n",
    "                                  batch_input_shape=[batch_size, None]),\n",
    "        rnn(rnn_units,\n",
    "            return_sequences=True,\n",
    "            recurrent_initializer='glorot_uniform',\n",
    "            stateful=True),\n",
    "        rnn(rnn_units,\n",
    "            return_sequences=True,\n",
    "            recurrent_initializer='glorot_uniform',\n",
    "            stateful=True),\n",
    "    \n",
    "        tf.keras.layers.Dense(vocab_size)])\n",
    "    \n",
    "    return model\n"
   ]
  },
  {
   "cell_type": "code",
   "execution_count": 17,
   "metadata": {},
   "outputs": [],
   "source": [
    "model = build_model(\n",
    "  vocab_size = len(vocab),\n",
    "  embedding_dim=embedding_dim,\n",
    "  rnn_units=rnn_units,\n",
    "  batch_size=BATCH_SIZE)\n"
   ]
  },
  {
   "cell_type": "code",
   "execution_count": 18,
   "metadata": {},
   "outputs": [
    {
     "name": "stdout",
     "output_type": "stream",
     "text": [
      "(64, 100, 57) # (batch_size, sequence_length, vocab_size)\n",
      "Model: \"sequential\"\n",
      "_________________________________________________________________\n",
      "Layer (type)                 Output Shape              Param #   \n",
      "=================================================================\n",
      "embedding (Embedding)        (64, None, 256)           14592     \n",
      "_________________________________________________________________\n",
      "cu_dnngru (CuDNNGRU)         (64, None, 1024)          3938304   \n",
      "_________________________________________________________________\n",
      "cu_dnngru_1 (CuDNNGRU)       (64, None, 1024)          6297600   \n",
      "_________________________________________________________________\n",
      "dense (Dense)                (64, None, 57)            58425     \n",
      "=================================================================\n",
      "Total params: 10,308,921\n",
      "Trainable params: 10,308,921\n",
      "Non-trainable params: 0\n",
      "_________________________________________________________________\n"
     ]
    }
   ],
   "source": [
    "for input_example_batch, target_example_batch in dataset.take(1):\n",
    "  example_batch_predictions = model(input_example_batch)\n",
    "  print(example_batch_predictions.shape, \"# (batch_size, sequence_length, vocab_size)\")\n",
    "model.summary()"
   ]
  },
  {
   "cell_type": "code",
   "execution_count": 19,
   "metadata": {},
   "outputs": [],
   "source": [
    "sampled_indices = tf.random.categorical(example_batch_predictions[0], num_samples=1)\n",
    "sampled_indices = tf.squeeze(sampled_indices,axis=-1).numpy()\n"
   ]
  },
  {
   "cell_type": "code",
   "execution_count": 20,
   "metadata": {},
   "outputs": [
    {
     "data": {
      "text/plain": [
       "array([19, 43, 38, 51,  9, 20,  6, 35, 32, 15,  5, 38, 53, 41, 17, 48, 48,\n",
       "       46, 15, 53, 23, 34, 20, 52, 16,  1, 23, 12, 32,  3, 12, 44, 11,  2,\n",
       "       26, 55, 37, 10, 12, 10, 17,  5,  9,  5, 14, 36, 19, 18, 56, 56, 44,\n",
       "       54, 36, 47, 10, 13, 48, 48, 49, 24, 24, 42,  2, 35, 21, 40, 50, 48,\n",
       "       54, 35,  1, 25, 13, 49, 16, 12, 45, 50, 29, 45, 54,  0, 41, 21,  3,\n",
       "       47, 10, 29, 41, 39, 33, 32, 15, 27, 53, 25, 14,  5, 31, 53],\n",
       "      dtype=int64)"
      ]
     },
     "execution_count": 20,
     "metadata": {},
     "output_type": "execute_result"
    }
   ],
   "source": [
    "sampled_indices"
   ]
  },
  {
   "cell_type": "code",
   "execution_count": 21,
   "metadata": {},
   "outputs": [
    {
     "name": "stdout",
     "output_type": "stream",
     "text": [
      "Input: \n",
      " 'is something comes at me \\n  like a Jackinthebox and up I goes like a skyrocket! \\n   \\n  After a minut'\n",
      "\n",
      "Next Char Predictions: \n",
      " 'OnivEPBfcKAixlMssqKxSePwL SHc.HoG!VzhFHFMAEAJgONùùoygrFIsstTTm!fQkusyf UItLHpuYpy\\nlQ.rFYljdcKWxUJAbx'\n"
     ]
    }
   ],
   "source": [
    "print(\"Input: \\n\", repr(\"\".join(idx2char[input_example_batch[0]])))\n",
    "print()\n",
    "print(\"Next Char Predictions: \\n\", repr(\"\".join(idx2char[sampled_indices ])))\n"
   ]
  },
  {
   "cell_type": "code",
   "execution_count": 22,
   "metadata": {},
   "outputs": [
    {
     "name": "stdout",
     "output_type": "stream",
     "text": [
      "Prediction shape:  (64, 100, 57)  # (batch_size, sequence_length, vocab_size)\n",
      "scalar_loss:       4.04201\n"
     ]
    }
   ],
   "source": [
    "def loss(labels, logits):\n",
    "  return tf.keras.losses.sparse_categorical_crossentropy(labels, logits, from_logits=True)\n",
    "\n",
    "example_batch_loss  = loss(target_example_batch, example_batch_predictions)\n",
    "print(\"Prediction shape: \", example_batch_predictions.shape, \" # (batch_size, sequence_length, vocab_size)\")\n",
    "print(\"scalar_loss:      \", example_batch_loss.numpy().mean())\n"
   ]
  },
  {
   "cell_type": "code",
   "execution_count": 23,
   "metadata": {},
   "outputs": [],
   "source": [
    "model.compile(\n",
    "    optimizer = tf.train.AdamOptimizer(),\n",
    "    loss = loss)\n"
   ]
  },
  {
   "cell_type": "code",
   "execution_count": 24,
   "metadata": {},
   "outputs": [],
   "source": [
    "\n",
    "# Directory where the checkpoints will be saved\n",
    "checkpoint_dir = './training_checkpoints'\n",
    "# Name of the checkpoint files\n",
    "checkpoint_prefix = os.path.join(checkpoint_dir, \"ckpt_{epoch}\")\n",
    "\n",
    "es = EarlyStopping(monitor='loss', mode='min', verbose=0, patience=200)\n",
    "\n",
    "\n",
    "checkpoint_callback = tf.keras.callbacks.ModelCheckpoint(\n",
    "    filepath=checkpoint_prefix,\n",
    "    save_weights_only=True)"
   ]
  },
  {
   "cell_type": "code",
   "execution_count": 25,
   "metadata": {},
   "outputs": [],
   "source": [
    "EPOCHS=5000\n"
   ]
  },
  {
   "cell_type": "code",
   "execution_count": 26,
   "metadata": {},
   "outputs": [
    {
     "name": "stdout",
     "output_type": "stream",
     "text": [
      "Wall time: 0 ns\n"
     ]
    }
   ],
   "source": [
    "%time\n",
    "history = model.fit(dataset.repeat(), epochs=EPOCHS, steps_per_epoch=steps_per_epoch, verbose=0,callbacks=[checkpoint_callback, es])\n"
   ]
  },
  {
   "cell_type": "code",
   "execution_count": 27,
   "metadata": {},
   "outputs": [
    {
     "data": {
      "text/plain": [
       "'./training_checkpoints\\\\ckpt_1382'"
      ]
     },
     "execution_count": 27,
     "metadata": {},
     "output_type": "execute_result"
    }
   ],
   "source": [
    "tf.train.latest_checkpoint(checkpoint_dir)\n"
   ]
  },
  {
   "cell_type": "code",
   "execution_count": 28,
   "metadata": {},
   "outputs": [],
   "source": [
    "\n",
    "model = build_model(vocab_size, embedding_dim, rnn_units, batch_size=1)\n",
    "\n",
    "model.load_weights(tf.train.latest_checkpoint(checkpoint_dir))\n",
    "\n",
    "model.build(tf.TensorShape([1, None]))\n"
   ]
  },
  {
   "cell_type": "code",
   "execution_count": 41,
   "metadata": {},
   "outputs": [],
   "source": [
    "def generate_text(model, start_string):\n",
    "  # Evaluation step (generating text using the learned model)\n",
    "\n",
    "  # Number of characters to generate\n",
    "  num_generate = 1000\n",
    "\n",
    "  # Converting our start string to numbers (vectorizing)\n",
    "  input_eval = [char2idx[s] for s in start_string]\n",
    "  input_eval = tf.expand_dims(input_eval, 0)\n",
    "\n",
    "  # Empty string to store our results\n",
    "  text_generated = []\n",
    "\n",
    "  # Low temperatures results in more predictable text.\n",
    "  # Higher temperatures results in more surprising text.\n",
    "  temperature = 1.0\n",
    "\n",
    "  # Here batch size == 1\n",
    "  model.reset_states()\n",
    "  for i in range(num_generate):\n",
    "      predictions = model(input_eval)\n",
    "      # remove the batch dimension\n",
    "      predictions = tf.squeeze(predictions, 0)\n",
    "\n",
    "      # using a multinomial distribution to predict the word returned by the model\n",
    "      predictions = predictions / temperature\n",
    "      predicted_id = tf.multinomial(predictions, num_samples=1)[-1,0].numpy()\n",
    "\n",
    "      # We pass the predicted word as the next input to the model\n",
    "      # along with the previous hidden state\n",
    "      input_eval = tf.expand_dims([predicted_id], 0)\n",
    "\n",
    "      text_generated.append(idx2char[predicted_id])\n",
    "\n",
    "  return (start_string + ''.join(text_generated))\n",
    "\n"
   ]
  },
  {
   "cell_type": "code",
   "execution_count": 42,
   "metadata": {},
   "outputs": [
    {
     "data": {
      "text/plain": [
       "dict_keys(['loss'])"
      ]
     },
     "execution_count": 42,
     "metadata": {},
     "output_type": "execute_result"
    }
   ],
   "source": [
    "#history.history will track the models metrics during training and can be accessed in key value pairs\n",
    "#this model is only currently tracking training loss but could be expanded to include others with the \n",
    "#call back method.\n",
    "history_dict = history.history\n",
    "history_dict.keys()"
   ]
  },
  {
   "cell_type": "code",
   "execution_count": 52,
   "metadata": {},
   "outputs": [
    {
     "data": {
      "image/png": "[encoded data removed]",
      "text/plain": [
       "<Figure size 1152x648 with 1 Axes>"
      ]
     },
     "metadata": {
      "needs_background": "light"
     },
     "output_type": "display_data"
    }
   ],
   "source": [
    "import matplotlib.pyplot as plt\n",
    "# Get training loss for the model to see if we converged correctly\n",
    "training_loss = history.history['loss']\n",
    "\n",
    "# Create count of the number of epochs\n",
    "epoch_count = range(1, len(training_loss) + 1)\n",
    "\n",
    "# Visualize loss history\n",
    "plt.figure(figsize=(16,9))\n",
    "plt.plot(epoch_count, training_loss, 'r--')\n",
    "#plt.plot(epoch_count, test_loss, 'b-')\n",
    "plt.legend(['Training Loss'])\n",
    "plt.xlabel('Epoch')\n",
    "plt.ylabel('Loss')\n",
    "plt.show()"
   ]
  },
  {
   "cell_type": "markdown",
   "metadata": {},
   "source": [
    "The spaces denoted in the training material as \\n are preserved\n",
    "using the print function will format the text in the style of the orginal\n",
    "Louis Carrol was expressive with his formatting in many parts of the book and \n",
    "that can be seen in the models generative result\n",
    "\n",
    "Additionally, the text of the training material included Illustration place holders\n",
    "These could come in handy later to place generative images in their stead."
   ]
  },
  {
   "cell_type": "code",
   "execution_count": 56,
   "metadata": {},
   "outputs": [
    {
     "name": "stdout",
     "output_type": "stream",
     "text": [
      "Alice and \n",
      "  sighing. \n",
      "   \n",
      "  It is a long tail certainly said Alice looking down with wonder \n",
      "  at   \n",
      "  Well be off then! said the Pigeon in a sulky tone as it settled \n",
      "  down again into its nest. Alice lod replied rather shyly II hardly know sir just at presentat \n",
      "  least I know who I was when I got up this own business! \n",
      "   \n",
      "  Ah out of the way to hear the Rabbit say to itself Oh dear! Oh \n",
      "  dear! I shall be too late! But when alinked into hers \n",
      "  began to tremble. Alice looked up and there stood the Queen in front of \n",
      "  them w tentance \n",
      "  and she looked up eagerly. \n",
      "   \n",
      "  Illustration \n",
      "   \n",
      "  Illustration \n",
      "   \n",
      "   \n",
      "   \n",
      "   \n",
      "  IVTHE She took down a jar from one of the shelves as \n",
      "  she prested some noise and \n",
      "  confusion as the large birds complained that they could not taste \n",
      "  theirs and She ton \n",
      "  Sure lookn and the little thing \n",
      "  sat down and began to cry again. \n",
      "   \n",
      "  She went on shedding gallons of tears until there was a large piece out of hir to leave the court. \n",
      "   \n",
      "  Im not a mile \n"
     ]
    }
   ],
   "source": [
    "print(generate_text(model, start_string=u\"Alice \"))\n"
   ]
  },
  {
   "cell_type": "code",
   "execution_count": 58,
   "metadata": {},
   "outputs": [
    {
     "name": "stdout",
     "output_type": "stream",
     "text": [
      "<class 'str'>\n",
      "Chestschire Cat was too dleas but as \n",
      "  the door opened inwards and Alices elbow was pressed hard against it \n",
      "  that attempt proverouse no of the lefthand bit of mushroom. \n",
      "   \n",
      "   \n",
      "   \n",
      "   \n",
      "  VIIA MAD TEAPARTY \n",
      "   \n",
      "   \n",
      "  There was a table said the Footman and that for \n",
      "  two reasons. First because Im on the same side of the door as you arightened by this very sudden change as she was \n",
      "  shrinking rapidly so she set to work at once to eathur! in the stairs. Alice knew it was \n",
      "  the Rabbit coming to look for her and she trembled till she shook him a fishand rapped loudly at the door \n",
      "  with his knuckles. It was opened by another footman in light  find any. Let the jury consider \n",
      "  their verdict. \n",
      "   \n",
      "  No no! said the Queen. Sentence firstverdicur find any. Let the jury consider \n",
      "  their verdict. \n",
      "   \n",
      "  No no! said the Queen. Sentence firstverdict. \n",
      "   \n",
      "  Just then the cook took the caldron of soup off the fire and at once \n",
      "  set to work throwing and hand on the top of her head to feel which way she was \n"
     ]
    }
   ],
   "source": [
    "Chestschire_Cat = generate_text(model, start_string=u\"Chestschire Cat \")\n",
    "print(type(Chestschire_Cat))\n",
    "print(Chestschire_Cat)"
   ]
  },
  {
   "cell_type": "code",
   "execution_count": 53,
   "metadata": {},
   "outputs": [],
   "source": [
    "Queen = generate_text(model, start_string=u\"The Queen \")"
   ]
  },
  {
   "cell_type": "code",
   "execution_count": 55,
   "metadata": {},
   "outputs": [
    {
     "name": "stdout",
     "output_type": "stream",
     "text": [
      "The Queen was nothing \n",
      "  else to do so Alice soon began talking to herself. Dinahll miss me \n",
      "  very mals with their fur clinging close \n",
      "  to them and all dripping wet cross and uncomfortable. \n",
      "   \n",
      "  Illustration \n",
      "   \n",
      "  Why said the Dodo t lovely garden. I suppose I \n",
      "  ought to eat or drink something or other but the great question is \n",
      "                  our \n",
      "               bould \n",
      "        to lat The next witness was the Duchesss cook. She carried the pepperbox in \n",
      "  her hand and the people near \n",
      "  fifsed the Mouse who was trembling down to the end of its \n",
      "  tail. As if I would talk on such a subject! \n",
      "  aint and very deep well. \n",
      "   \n",
      "  Either the well was very deep or she fell very slowly fol out of the way to hear the Rabbit say to itself Oh dear! Oh \n",
      "  dear! I shall be too late! But when teaparty I ever was at in \n",
      "  all my life! Just as she said this she noticed that one of the trees \n",
      "  you wont! thought Alice and after waiting till she fancied \n",
      "  she heard the Rabbit jome jurybox upsetting all t\n"
     ]
    }
   ],
   "source": [
    "print(Queen)"
   ]
  },
  {
   "cell_type": "code",
   "execution_count": null,
   "metadata": {},
   "outputs": [],
   "source": []
  }
 ],
 "metadata": {
  "kernelspec": {
   "display_name": "Python 3",
   "language": "python",
   "name": "python3"
  },
  "language_info": {
   "codemirror_mode": {
    "name": "ipython",
    "version": 3
   },
   "file_extension": ".py",
   "mimetype": "text/x-python",
   "name": "python",
   "nbconvert_exporter": "python",
   "pygments_lexer": "ipython3",
   "version": "3.7.3"
  }
 },
 "nbformat": 4,
 "nbformat_minor": 2
}
