{
 "cells": [
  {
   "cell_type": "markdown",
   "metadata": {
    "colab_type": "text",
    "id": "xhU3R-8dzk5z"
   },
   "source": [
    "# Lambda School Data Science Unit 4 Sprint Challenge 4\n",
    "\n",
    "## RNNs, CNNs, AutoML, and more...\n",
    "\n",
    "In this sprint challenge, you'll explore some of the cutting edge of Data Science.\n",
    "\n",
    "*Caution* - these approaches can be pretty heavy computationally. All problems were designed so that you should be able to achieve results within at most 5-10 minutes of runtime on Colab or a comparable environment. If something is running longer, doublecheck your approach!"
   ]
  },
  {
   "cell_type": "markdown",
   "metadata": {
    "colab_type": "text",
    "id": "-5UwGRnJOmD4"
   },
   "source": [
    "## Part 1 - RNNs\n",
    "\n",
    "Use an RNN to fit a simple classification model on tweets to distinguish from tweets from Austen Allred and tweets from Weird Al Yankovic.\n",
    "\n",
    "Following is code to scrape the needed data (no API auth needed, uses [twitterscraper](https://github.com/taspinar/twitterscraper)):"
   ]
  },
  {
   "cell_type": "code",
   "execution_count": 1,
   "metadata": {
    "colab": {
     "base_uri": "https://localhost:8080/",
     "height": 350
    },
    "colab_type": "code",
    "id": "3if1yTMUoG3U",
    "outputId": "6075f571-d8b1-4e91-bfb9-26ad7a467261"
   },
   "outputs": [
    {
     "name": "stdout",
     "output_type": "stream",
     "text": [
      "Collecting twitterscraper\n",
      "  Downloading https://files.pythonhosted.org/packages/38/7d/0bf84247b78d7d223914cbf410e1160203a65d39086aaf8c6cad521cec74/twitterscraper-0.9.3.tar.gz\n",
      "Collecting coala-utils~=0.5.0 (from twitterscraper)\n",
      "  Downloading https://files.pythonhosted.org/packages/54/00/74ec750cfc4e830f9d1cfdd4d559f3d2d4ba1b834b78d5266446db3fd1d6/coala_utils-0.5.1-py3-none-any.whl\n",
      "Collecting bs4 (from twitterscraper)\n",
      "  Downloading https://files.pythonhosted.org/packages/10/ed/7e8b97591f6f456174139ec089c769f89a94a1a4025fe967691de971f314/bs4-0.0.1.tar.gz\n",
      "Requirement already satisfied: lxml in c:\\users\\cwcol\\anaconda3\\lib\\site-packages (from twitterscraper) (4.2.1)\n",
      "Requirement already satisfied: requests in c:\\users\\cwcol\\anaconda3\\lib\\site-packages (from twitterscraper) (2.18.4)\n",
      "Requirement already satisfied: beautifulsoup4 in c:\\users\\cwcol\\anaconda3\\lib\\site-packages (from bs4->twitterscraper) (4.6.0)\n",
      "Requirement already satisfied: chardet<3.1.0,>=3.0.2 in c:\\users\\cwcol\\anaconda3\\lib\\site-packages (from requests->twitterscraper) (3.0.4)\n",
      "Requirement already satisfied: idna<2.7,>=2.5 in c:\\users\\cwcol\\anaconda3\\lib\\site-packages (from requests->twitterscraper) (2.6)\n",
      "Requirement already satisfied: urllib3<1.23,>=1.21.1 in c:\\users\\cwcol\\anaconda3\\lib\\site-packages (from requests->twitterscraper) (1.22)\n",
      "Requirement already satisfied: certifi>=2017.4.17 in c:\\users\\cwcol\\anaconda3\\lib\\site-packages (from requests->twitterscraper) (2019.3.9)\n",
      "Building wheels for collected packages: twitterscraper, bs4\n",
      "  Building wheel for twitterscraper (setup.py): started\n",
      "  Building wheel for twitterscraper (setup.py): finished with status 'done'\n",
      "  Stored in directory: C:\\Users\\cwcol\\AppData\\Local\\pip\\Cache\\wheels\\45\\50\\9b\\70128bca07e2bf8b5ed3f504002e9e74a6eaa5e756341b6931\n",
      "  Building wheel for bs4 (setup.py): started\n",
      "  Building wheel for bs4 (setup.py): finished with status 'done'\n",
      "  Stored in directory: C:\\Users\\cwcol\\AppData\\Local\\pip\\Cache\\wheels\\a0\\b0\\b2\\4f80b9456b87abedbc0bf2d52235414c3467d8889be38dd472\n",
      "Successfully built twitterscraper bs4\n",
      "Installing collected packages: coala-utils, bs4, twitterscraper\n",
      "Successfully installed bs4-0.0.1 coala-utils-0.5.1 twitterscraper-0.9.3\n"
     ]
    },
    {
     "name": "stderr",
     "output_type": "stream",
     "text": [
      "You are using pip version 19.0.1, however version 19.0.3 is available.\n",
      "You should consider upgrading via the 'python -m pip install --upgrade pip' command.\n"
     ]
    }
   ],
   "source": [
    "!pip install twitterscraper"
   ]
  },
  {
   "cell_type": "code",
   "execution_count": 2,
   "metadata": {
    "colab": {
     "base_uri": "https://localhost:8080/",
     "height": 1114
    },
    "colab_type": "code",
    "id": "DS-9ksWjoJit",
    "outputId": "0c3512e4-5cd4-4dc6-9cda-baf00c835f59"
   },
   "outputs": [
    {
     "name": "stderr",
     "output_type": "stream",
     "text": [
      "INFO: queries: ['from:austen since:2006-03-21 until:2006-11-14', 'from:austen since:2006-11-14 until:2007-07-11', 'from:austen since:2007-07-11 until:2008-03-05', 'from:austen since:2008-03-05 until:2008-10-30', 'from:austen since:2008-10-30 until:2009-06-25', 'from:austen since:2009-06-25 until:2010-02-19', 'from:austen since:2010-02-19 until:2010-10-15', 'from:austen since:2010-10-15 until:2011-06-11', 'from:austen since:2011-06-11 until:2012-02-04', 'from:austen since:2012-02-04 until:2012-09-30', 'from:austen since:2012-09-30 until:2013-05-26', 'from:austen since:2013-05-26 until:2014-01-20', 'from:austen since:2014-01-20 until:2014-09-15', 'from:austen since:2014-09-15 until:2015-05-12', 'from:austen since:2015-05-12 until:2016-01-05', 'from:austen since:2016-01-05 until:2016-08-31', 'from:austen since:2016-08-31 until:2017-04-26', 'from:austen since:2017-04-26 until:2017-12-21', 'from:austen since:2017-12-21 until:2018-08-16', 'from:austen since:2018-08-16 until:2019-04-12']\n",
      "INFO: Got 0 tweets (0 new).\n",
      "INFO: Got 0 tweets (0 new).\n",
      "INFO: Got 0 tweets (0 new).\n",
      "INFO: Got 0 tweets (0 new).\n",
      "INFO: Got 0 tweets (0 new).\n",
      "INFO: Got 0 tweets (0 new).\n",
      "INFO: Got 0 tweets (0 new).\n",
      "INFO: Got 0 tweets (0 new).\n",
      "INFO: Got 0 tweets (0 new).\n",
      "INFO: Got 0 tweets (0 new).\n",
      "INFO: Got 0 tweets (0 new).\n",
      "INFO: Got 0 tweets (0 new).\n",
      "INFO: Got 0 tweets (0 new).\n",
      "INFO: Got 0 tweets (0 new).\n",
      "INFO: Got 0 tweets (0 new).\n",
      "INFO: Got 0 tweets (0 new).\n",
      "INFO: Got 1 tweets (1 new).\n",
      "INFO: Got 61 tweets (60 new).\n",
      "INFO: Got 121 tweets (60 new).\n",
      "INFO: Got 181 tweets (60 new).\n"
     ]
    },
    {
     "data": {
      "text/plain": [
       "181"
      ]
     },
     "execution_count": 2,
     "metadata": {},
     "output_type": "execute_result"
    }
   ],
   "source": [
    "from twitterscraper import query_tweets\n",
    "\n",
    "austen_tweets = query_tweets('from:austen', 1000)\n",
    "len(austen_tweets)"
   ]
  },
  {
   "cell_type": "code",
   "execution_count": 3,
   "metadata": {
    "colab": {
     "base_uri": "https://localhost:8080/",
     "height": 34
    },
    "colab_type": "code",
    "id": "fLKqFh8DovaN",
    "outputId": "64b0d621-7e74-4181-9116-406e8c518465"
   },
   "outputs": [
    {
     "data": {
      "text/plain": [
       "'I love love love working with great people.pic.twitter.com/fCKOm6Vl'"
      ]
     },
     "execution_count": 3,
     "metadata": {},
     "output_type": "execute_result"
    }
   ],
   "source": [
    "austen_tweets[0].text"
   ]
  },
  {
   "cell_type": "code",
   "execution_count": 4,
   "metadata": {
    "colab": {
     "base_uri": "https://localhost:8080/",
     "height": 1114
    },
    "colab_type": "code",
    "id": "MRQeIIf1orCS",
    "outputId": "44b57b5e-2a0e-4656-ca06-d77637caf593"
   },
   "outputs": [
    {
     "name": "stderr",
     "output_type": "stream",
     "text": [
      "INFO: queries: ['from:AlYankovic since:2006-03-21 until:2006-11-14', 'from:AlYankovic since:2006-11-14 until:2007-07-11', 'from:AlYankovic since:2007-07-11 until:2008-03-05', 'from:AlYankovic since:2008-03-05 until:2008-10-30', 'from:AlYankovic since:2008-10-30 until:2009-06-25', 'from:AlYankovic since:2009-06-25 until:2010-02-19', 'from:AlYankovic since:2010-02-19 until:2010-10-15', 'from:AlYankovic since:2010-10-15 until:2011-06-11', 'from:AlYankovic since:2011-06-11 until:2012-02-04', 'from:AlYankovic since:2012-02-04 until:2012-09-30', 'from:AlYankovic since:2012-09-30 until:2013-05-26', 'from:AlYankovic since:2013-05-26 until:2014-01-20', 'from:AlYankovic since:2014-01-20 until:2014-09-15', 'from:AlYankovic since:2014-09-15 until:2015-05-12', 'from:AlYankovic since:2015-05-12 until:2016-01-05', 'from:AlYankovic since:2016-01-05 until:2016-08-31', 'from:AlYankovic since:2016-08-31 until:2017-04-26', 'from:AlYankovic since:2017-04-26 until:2017-12-21', 'from:AlYankovic since:2017-12-21 until:2018-08-16', 'from:AlYankovic since:2018-08-16 until:2019-04-12']\n",
      "INFO: Got 0 tweets (0 new).\n",
      "INFO: Got 0 tweets (0 new).\n",
      "INFO: Got 0 tweets (0 new).\n",
      "INFO: Got 0 tweets (0 new).\n",
      "INFO: Got 60 tweets (60 new).\n",
      "INFO: Got 120 tweets (60 new).\n",
      "INFO: Got 180 tweets (60 new).\n",
      "INFO: Got 240 tweets (60 new).\n",
      "INFO: Got 300 tweets (60 new).\n",
      "INFO: Got 360 tweets (60 new).\n",
      "INFO: Got 420 tweets (60 new).\n",
      "INFO: Got 480 tweets (60 new).\n",
      "INFO: Got 540 tweets (60 new).\n",
      "INFO: Got 600 tweets (60 new).\n",
      "INFO: Got 660 tweets (60 new).\n",
      "INFO: Got 720 tweets (60 new).\n",
      "INFO: Got 780 tweets (60 new).\n",
      "INFO: Got 840 tweets (60 new).\n",
      "INFO: Got 900 tweets (60 new).\n",
      "INFO: Got 960 tweets (60 new).\n"
     ]
    },
    {
     "data": {
      "text/plain": [
       "960"
      ]
     },
     "execution_count": 4,
     "metadata": {},
     "output_type": "execute_result"
    }
   ],
   "source": [
    "al_tweets = query_tweets('from:AlYankovic', 1000)\n",
    "len(al_tweets)"
   ]
  },
  {
   "cell_type": "code",
   "execution_count": 6,
   "metadata": {
    "colab": {
     "base_uri": "https://localhost:8080/",
     "height": 34
    },
    "colab_type": "code",
    "id": "_dB7I87ty8f1",
    "outputId": "38e7dffb-92bb-4a4c-8bbd-f1ddd951cc85"
   },
   "outputs": [
    {
     "data": {
      "text/plain": [
       "'RT @GeoffTheRobot: Hey Al, you played zydeco on my ribs at the RED premiere and it airs tonight on Late Late with @CraigyFerg!'"
      ]
     },
     "execution_count": 6,
     "metadata": {},
     "output_type": "execute_result"
    }
   ],
   "source": [
    "al_tweets[0].text"
   ]
  },
  {
   "cell_type": "code",
   "execution_count": 7,
   "metadata": {
    "colab": {
     "base_uri": "https://localhost:8080/",
     "height": 34
    },
    "colab_type": "code",
    "id": "0mrcjEu_zRl4",
    "outputId": "cdea5ac9-bf26-434f-d2aa-fbc251c8ceef"
   },
   "outputs": [
    {
     "data": {
      "text/plain": [
       "1141"
      ]
     },
     "execution_count": 7,
     "metadata": {},
     "output_type": "execute_result"
    }
   ],
   "source": [
    "len(austen_tweets + al_tweets)"
   ]
  },
  {
   "cell_type": "markdown",
   "metadata": {
    "colab_type": "text",
    "id": "WYCVJX6ep8iO"
   },
   "source": [
    "Your tasks:\n",
    "\n",
    "- Encode the characters to a sequence of integers for the model\n",
    "- Get the data into the appropriate shape/format, including labels and a train/test split\n",
    "- Use Keras to fit a predictive model, classifying tweets as being from Austen versus Weird Al\n",
    "- Report your overall score and accuracy\n",
    "\n",
    "For reference, the [Keras IMDB sentiment classification example](https://github.com/keras-team/keras/blob/master/examples/imdb_lstm.py) will be useful, as well the RNN code we used in class.\n",
    "\n",
    "*Note* - focus on getting a running model, not on maxing accuracy with extreme data size or epoch numbers. Only revisit and push accuracy if you get everything else done!"
   ]
  },
  {
   "cell_type": "code",
   "execution_count": 253,
   "metadata": {
    "colab": {},
    "colab_type": "code",
    "id": "_QVSlFEAqWJM"
   },
   "outputs": [],
   "source": [
    "# TODO - your code!\n",
    "aa_text = []\n",
    "for i in austen_tweets:\n",
    "    aa_text.append(i.text)\n",
    "al_text = []\n",
    "for i in al_tweets:\n",
    "    al_text.append(i.text)"
   ]
  },
  {
   "cell_type": "code",
   "execution_count": 254,
   "metadata": {},
   "outputs": [],
   "source": [
    "tweet_list = aa_text+al_text\n",
    "chars=''.join(tweet_list)\n",
    "chars = list(set(chars))"
   ]
  },
  {
   "cell_type": "code",
   "execution_count": 255,
   "metadata": {},
   "outputs": [],
   "source": [
    "char_to_int = dict((c, i) for i, c in enumerate(chars))\n",
    "int_to_char = dict((i, c) for i, c in enumerate(chars))"
   ]
  },
  {
   "cell_type": "code",
   "execution_count": 180,
   "metadata": {},
   "outputs": [],
   "source": [
    "#lol = list of lists\n",
    "aa_char_lol = [ list(i) for i in aa_text]\n",
    "al_char_lol = [list(i) for i  in al_text]"
   ]
  },
  {
   "cell_type": "code",
   "execution_count": 191,
   "metadata": {},
   "outputs": [
    {
     "ename": "TypeError",
     "evalue": "unhashable type: 'list'",
     "output_type": "error",
     "traceback": [
      "\u001b[1;31m---------------------------------------------------------------------------\u001b[0m",
      "\u001b[1;31mTypeError\u001b[0m                                 Traceback (most recent call last)",
      "\u001b[1;32m<ipython-input-191-9e5f080e8109>\u001b[0m in \u001b[0;36m<module>\u001b[1;34m()\u001b[0m\n\u001b[1;32m----> 1\u001b[1;33m \u001b[0maa_char\u001b[0m \u001b[1;33m=\u001b[0m \u001b[1;33m[\u001b[0m\u001b[0mchar_to_int\u001b[0m\u001b[1;33m[\u001b[0m\u001b[0mlist\u001b[0m\u001b[1;33m(\u001b[0m\u001b[0mi\u001b[0m\u001b[1;33m)\u001b[0m\u001b[1;33m]\u001b[0m \u001b[1;32mfor\u001b[0m \u001b[0mi\u001b[0m \u001b[1;32min\u001b[0m \u001b[0maa_text\u001b[0m\u001b[1;33m]\u001b[0m\u001b[1;33m\u001b[0m\u001b[0m\n\u001b[0m",
      "\u001b[1;32m<ipython-input-191-9e5f080e8109>\u001b[0m in \u001b[0;36m<listcomp>\u001b[1;34m(.0)\u001b[0m\n\u001b[1;32m----> 1\u001b[1;33m \u001b[0maa_char\u001b[0m \u001b[1;33m=\u001b[0m \u001b[1;33m[\u001b[0m\u001b[0mchar_to_int\u001b[0m\u001b[1;33m[\u001b[0m\u001b[0mlist\u001b[0m\u001b[1;33m(\u001b[0m\u001b[0mi\u001b[0m\u001b[1;33m)\u001b[0m\u001b[1;33m]\u001b[0m \u001b[1;32mfor\u001b[0m \u001b[0mi\u001b[0m \u001b[1;32min\u001b[0m \u001b[0maa_text\u001b[0m\u001b[1;33m]\u001b[0m\u001b[1;33m\u001b[0m\u001b[0m\n\u001b[0m",
      "\u001b[1;31mTypeError\u001b[0m: unhashable type: 'list'"
     ]
    }
   ],
   "source": [
    "aa_char = [char_to_int[list(i)] for i in aa_text]"
   ]
  },
  {
   "cell_type": "code",
   "execution_count": 256,
   "metadata": {},
   "outputs": [],
   "source": [
    "aa_text = np.asarray(aa_text)\n",
    "al_text = np.asarray(al_text)"
   ]
  },
  {
   "cell_type": "code",
   "execution_count": 257,
   "metadata": {},
   "outputs": [
    {
     "data": {
      "text/plain": [
       "181"
      ]
     },
     "execution_count": 257,
     "metadata": {},
     "output_type": "execute_result"
    }
   ],
   "source": [
    "aa_text.shape[0]"
   ]
  },
  {
   "cell_type": "code",
   "execution_count": 258,
   "metadata": {},
   "outputs": [
    {
     "data": {
      "text/plain": [
       "'Every single time I tweet something that is retweeted a lot I find a typo just after it’s too late'"
      ]
     },
     "execution_count": 258,
     "metadata": {},
     "output_type": "execute_result"
    }
   ],
   "source": [
    "aa_text[-1]"
   ]
  },
  {
   "cell_type": "code",
   "execution_count": null,
   "metadata": {},
   "outputs": [],
   "source": []
  },
  {
   "cell_type": "code",
   "execution_count": 259,
   "metadata": {},
   "outputs": [],
   "source": [
    "x = np.concatenate((aa_text, al_text))"
   ]
  },
  {
   "cell_type": "code",
   "execution_count": 260,
   "metadata": {},
   "outputs": [],
   "source": [
    "y = np.concatenate((np.ones(aa_text.shape),np.zeros(al_text.shape)))"
   ]
  },
  {
   "cell_type": "code",
   "execution_count": 261,
   "metadata": {},
   "outputs": [],
   "source": [
    "def str_to_int(string):\n",
    "    l = list(string)\n",
    "    return [char_to_int[i] for i in l]"
   ]
  },
  {
   "cell_type": "code",
   "execution_count": 268,
   "metadata": {},
   "outputs": [],
   "source": [
    "x = list(map(str_to_int, x))"
   ]
  },
  {
   "cell_type": "code",
   "execution_count": 269,
   "metadata": {},
   "outputs": [],
   "source": [
    "from sklearn.model_selection import train_test_split\n",
    "x_train, x_test, y_train, y_test = train_test_split(x,y)"
   ]
  },
  {
   "cell_type": "code",
   "execution_count": null,
   "metadata": {},
   "outputs": [],
   "source": []
  },
  {
   "cell_type": "code",
   "execution_count": 265,
   "metadata": {},
   "outputs": [],
   "source": [
    "from __future__ import print_function\n",
    "\n",
    "from keras.preprocessing import sequence\n",
    "from keras.models import Sequential\n",
    "from keras.layers import Dense, Embedding\n",
    "from keras.layers import LSTM"
   ]
  },
  {
   "cell_type": "code",
   "execution_count": 266,
   "metadata": {},
   "outputs": [],
   "source": [
    "max_features = 20000\n",
    "# cut texts after this number of words (among top max_features most common words)\n",
    "maxlen = 80\n",
    "batch_size = 32"
   ]
  },
  {
   "cell_type": "code",
   "execution_count": 270,
   "metadata": {},
   "outputs": [],
   "source": [
    "x_train = sequence.pad_sequences(x_train, maxlen=maxlen)\n",
    "x_test = sequence.pad_sequences(x_test, maxlen=maxlen)"
   ]
  },
  {
   "cell_type": "code",
   "execution_count": 271,
   "metadata": {},
   "outputs": [
    {
     "name": "stdout",
     "output_type": "stream",
     "text": [
      "Train on 855 samples, validate on 286 samples\n",
      "Epoch 1/15\n",
      "855/855 [==============================] - ETA: 5:46 - loss: 0.6923 - acc: 0.562 - ETA: 2:47 - loss: 0.6900 - acc: 0.671 - ETA: 1:48 - loss: 0.6861 - acc: 0.718 - ETA: 1:18 - loss: 0.6835 - acc: 0.734 - ETA: 1:00 - loss: 0.6775 - acc: 0.775 - ETA: 48s - loss: 0.6698 - acc: 0.807 - ETA: 39s - loss: 0.6630 - acc: 0.82 - ETA: 33s - loss: 0.6603 - acc: 0.80 - ETA: 28s - loss: 0.6531 - acc: 0.80 - ETA: 23s - loss: 0.6421 - acc: 0.80 - ETA: 20s - loss: 0.6277 - acc: 0.81 - ETA: 17s - loss: 0.5976 - acc: 0.82 - ETA: 15s - loss: 0.6135 - acc: 0.81 - ETA: 13s - loss: 0.6132 - acc: 0.81 - ETA: 11s - loss: 0.6200 - acc: 0.81 - ETA: 9s - loss: 0.6044 - acc: 0.8164 - ETA: 8s - loss: 0.5949 - acc: 0.818 - ETA: 7s - loss: 0.5900 - acc: 0.817 - ETA: 6s - loss: 0.5828 - acc: 0.819 - ETA: 5s - loss: 0.5797 - acc: 0.815 - ETA: 4s - loss: 0.5687 - acc: 0.822 - ETA: 3s - loss: 0.5585 - acc: 0.829 - ETA: 2s - loss: 0.5577 - acc: 0.826 - ETA: 1s - loss: 0.5486 - acc: 0.832 - ETA: 1s - loss: 0.5431 - acc: 0.833 - ETA: 0s - loss: 0.5423 - acc: 0.830 - 17s 20ms/step - loss: 0.5363 - acc: 0.8316 - val_loss: 0.4030 - val_acc: 0.8462\n",
      "Epoch 2/15\n",
      "855/855 [==============================] - ETA: 2s - loss: 0.3677 - acc: 0.875 - ETA: 2s - loss: 0.3436 - acc: 0.875 - ETA: 2s - loss: 0.3505 - acc: 0.864 - ETA: 2s - loss: 0.3320 - acc: 0.875 - ETA: 2s - loss: 0.3191 - acc: 0.881 - ETA: 2s - loss: 0.3536 - acc: 0.869 - ETA: 1s - loss: 0.3378 - acc: 0.879 - ETA: 1s - loss: 0.3464 - acc: 0.875 - ETA: 1s - loss: 0.3541 - acc: 0.871 - ETA: 1s - loss: 0.3504 - acc: 0.871 - ETA: 1s - loss: 0.3501 - acc: 0.872 - ETA: 1s - loss: 0.3664 - acc: 0.867 - ETA: 1s - loss: 0.3715 - acc: 0.865 - ETA: 1s - loss: 0.3844 - acc: 0.859 - ETA: 1s - loss: 0.3802 - acc: 0.860 - ETA: 1s - loss: 0.3798 - acc: 0.859 - ETA: 0s - loss: 0.3703 - acc: 0.864 - ETA: 0s - loss: 0.3642 - acc: 0.866 - ETA: 0s - loss: 0.3618 - acc: 0.866 - ETA: 0s - loss: 0.3550 - acc: 0.873 - ETA: 0s - loss: 0.3598 - acc: 0.870 - ETA: 0s - loss: 0.3581 - acc: 0.872 - ETA: 0s - loss: 0.3585 - acc: 0.872 - ETA: 0s - loss: 0.3572 - acc: 0.875 - ETA: 0s - loss: 0.3605 - acc: 0.872 - ETA: 0s - loss: 0.3577 - acc: 0.873 - 3s 3ms/step - loss: 0.3563 - acc: 0.8725 - val_loss: 0.3424 - val_acc: 0.8706\n",
      "Epoch 3/15\n",
      "855/855 [==============================] - ETA: 2s - loss: 0.3535 - acc: 0.875 - ETA: 2s - loss: 0.3616 - acc: 0.843 - ETA: 2s - loss: 0.2984 - acc: 0.885 - ETA: 2s - loss: 0.2915 - acc: 0.898 - ETA: 2s - loss: 0.3016 - acc: 0.893 - ETA: 1s - loss: 0.3046 - acc: 0.890 - ETA: 1s - loss: 0.2808 - acc: 0.901 - ETA: 1s - loss: 0.2719 - acc: 0.902 - ETA: 1s - loss: 0.2754 - acc: 0.899 - ETA: 1s - loss: 0.2684 - acc: 0.900 - ETA: 1s - loss: 0.2750 - acc: 0.894 - ETA: 1s - loss: 0.2719 - acc: 0.895 - ETA: 1s - loss: 0.2829 - acc: 0.891 - ETA: 1s - loss: 0.2941 - acc: 0.886 - ETA: 1s - loss: 0.2865 - acc: 0.891 - ETA: 1s - loss: 0.2806 - acc: 0.892 - ETA: 0s - loss: 0.2824 - acc: 0.893 - ETA: 0s - loss: 0.2878 - acc: 0.894 - ETA: 0s - loss: 0.2907 - acc: 0.893 - ETA: 0s - loss: 0.2900 - acc: 0.895 - ETA: 0s - loss: 0.2905 - acc: 0.895 - ETA: 0s - loss: 0.2867 - acc: 0.896 - ETA: 0s - loss: 0.2862 - acc: 0.895 - ETA: 0s - loss: 0.2855 - acc: 0.895 - ETA: 0s - loss: 0.2913 - acc: 0.891 - ETA: 0s - loss: 0.2947 - acc: 0.890 - 3s 3ms/step - loss: 0.2938 - acc: 0.8901 - val_loss: 0.3411 - val_acc: 0.8741\n",
      "Epoch 4/15\n",
      "855/855 [==============================] - ETA: 2s - loss: 0.2065 - acc: 0.906 - ETA: 2s - loss: 0.2217 - acc: 0.906 - ETA: 2s - loss: 0.2129 - acc: 0.916 - ETA: 2s - loss: 0.2254 - acc: 0.914 - ETA: 2s - loss: 0.2296 - acc: 0.906 - ETA: 1s - loss: 0.2300 - acc: 0.906 - ETA: 1s - loss: 0.2703 - acc: 0.888 - ETA: 1s - loss: 0.2806 - acc: 0.886 - ETA: 1s - loss: 0.2721 - acc: 0.892 - ETA: 1s - loss: 0.2676 - acc: 0.896 - ETA: 1s - loss: 0.2675 - acc: 0.900 - ETA: 1s - loss: 0.2630 - acc: 0.898 - ETA: 1s - loss: 0.2643 - acc: 0.896 - ETA: 1s - loss: 0.2568 - acc: 0.901 - ETA: 1s - loss: 0.2489 - acc: 0.906 - ETA: 1s - loss: 0.2460 - acc: 0.906 - ETA: 0s - loss: 0.2483 - acc: 0.906 - ETA: 0s - loss: 0.2449 - acc: 0.906 - ETA: 0s - loss: 0.2655 - acc: 0.898 - ETA: 0s - loss: 0.2662 - acc: 0.896 - ETA: 0s - loss: 0.2702 - acc: 0.897 - ETA: 0s - loss: 0.2730 - acc: 0.896 - ETA: 0s - loss: 0.2813 - acc: 0.889 - ETA: 0s - loss: 0.2801 - acc: 0.891 - ETA: 0s - loss: 0.2748 - acc: 0.895 - ETA: 0s - loss: 0.2757 - acc: 0.894 - 3s 3ms/step - loss: 0.2729 - acc: 0.8947 - val_loss: 0.3216 - val_acc: 0.8776\n",
      "Epoch 5/15\n",
      "855/855 [==============================] - ETA: 2s - loss: 0.2949 - acc: 0.906 - ETA: 2s - loss: 0.2596 - acc: 0.906 - ETA: 2s - loss: 0.2647 - acc: 0.885 - ETA: 2s - loss: 0.2595 - acc: 0.890 - ETA: 2s - loss: 0.2897 - acc: 0.881 - ETA: 2s - loss: 0.2625 - acc: 0.895 - ETA: 1s - loss: 0.2924 - acc: 0.892 - ETA: 1s - loss: 0.2809 - acc: 0.902 - ETA: 1s - loss: 0.2785 - acc: 0.895 - ETA: 1s - loss: 0.2832 - acc: 0.896 - ETA: 1s - loss: 0.2763 - acc: 0.897 - ETA: 1s - loss: 0.2613 - acc: 0.903 - ETA: 1s - loss: 0.2621 - acc: 0.906 - ETA: 1s - loss: 0.2612 - acc: 0.906 - ETA: 1s - loss: 0.2661 - acc: 0.902 - ETA: 1s - loss: 0.2629 - acc: 0.902 - ETA: 0s - loss: 0.2612 - acc: 0.904 - ETA: 0s - loss: 0.2591 - acc: 0.906 - ETA: 0s - loss: 0.2535 - acc: 0.907 - ETA: 0s - loss: 0.2487 - acc: 0.909 - ETA: 0s - loss: 0.2553 - acc: 0.907 - ETA: 0s - loss: 0.2493 - acc: 0.910 - ETA: 0s - loss: 0.2423 - acc: 0.914 - ETA: 0s - loss: 0.2485 - acc: 0.911 - ETA: 0s - loss: 0.2481 - acc: 0.911 - ETA: 0s - loss: 0.2455 - acc: 0.912 - 3s 3ms/step - loss: 0.2459 - acc: 0.9099 - val_loss: 0.3103 - val_acc: 0.8846\n",
      "Epoch 6/15\n",
      "855/855 [==============================] - ETA: 2s - loss: 0.1739 - acc: 0.937 - ETA: 2s - loss: 0.2286 - acc: 0.906 - ETA: 2s - loss: 0.2728 - acc: 0.885 - ETA: 2s - loss: 0.2572 - acc: 0.898 - ETA: 2s - loss: 0.2360 - acc: 0.900 - ETA: 2s - loss: 0.2434 - acc: 0.895 - ETA: 1s - loss: 0.2543 - acc: 0.892 - ETA: 1s - loss: 0.2451 - acc: 0.898 - ETA: 1s - loss: 0.2508 - acc: 0.888 - ETA: 1s - loss: 0.2498 - acc: 0.896 - ETA: 1s - loss: 0.2510 - acc: 0.900 - ETA: 1s - loss: 0.2560 - acc: 0.901 - ETA: 1s - loss: 0.2535 - acc: 0.901 - ETA: 1s - loss: 0.2427 - acc: 0.908 - ETA: 1s - loss: 0.2449 - acc: 0.906 - ETA: 1s - loss: 0.2598 - acc: 0.900 - ETA: 0s - loss: 0.2598 - acc: 0.902 - ETA: 0s - loss: 0.2594 - acc: 0.902 - ETA: 0s - loss: 0.2533 - acc: 0.907 - ETA: 0s - loss: 0.2506 - acc: 0.909 - ETA: 0s - loss: 0.2484 - acc: 0.909 - ETA: 0s - loss: 0.2457 - acc: 0.911 - ETA: 0s - loss: 0.2405 - acc: 0.914 - ETA: 0s - loss: 0.2385 - acc: 0.914 - ETA: 0s - loss: 0.2358 - acc: 0.915 - ETA: 0s - loss: 0.2404 - acc: 0.913 - 3s 3ms/step - loss: 0.2485 - acc: 0.9111 - val_loss: 0.3547 - val_acc: 0.8497\n",
      "Epoch 7/15\n",
      "855/855 [==============================] - ETA: 2s - loss: 0.1952 - acc: 0.875 - ETA: 2s - loss: 0.2055 - acc: 0.875 - ETA: 2s - loss: 0.1869 - acc: 0.895 - ETA: 2s - loss: 0.2025 - acc: 0.882 - ETA: 2s - loss: 0.2408 - acc: 0.875 - ETA: 1s - loss: 0.2140 - acc: 0.895 - ETA: 1s - loss: 0.2337 - acc: 0.897 - ETA: 1s - loss: 0.2257 - acc: 0.902 - ETA: 1s - loss: 0.2330 - acc: 0.906 - ETA: 1s - loss: 0.2374 - acc: 0.906 - ETA: 1s - loss: 0.2273 - acc: 0.914 - ETA: 1s - loss: 0.2216 - acc: 0.916 - ETA: 1s - loss: 0.2260 - acc: 0.918 - ETA: 1s - loss: 0.2223 - acc: 0.919 - ETA: 1s - loss: 0.2194 - acc: 0.918 - ETA: 1s - loss: 0.2234 - acc: 0.916 - ETA: 0s - loss: 0.2308 - acc: 0.913 - ETA: 0s - loss: 0.2288 - acc: 0.916 - ETA: 0s - loss: 0.2379 - acc: 0.912 - ETA: 0s - loss: 0.2370 - acc: 0.912 - ETA: 0s - loss: 0.2312 - acc: 0.915 - ETA: 0s - loss: 0.2403 - acc: 0.910 - ETA: 0s - loss: 0.2344 - acc: 0.914 - ETA: 0s - loss: 0.2325 - acc: 0.914 - ETA: 0s - loss: 0.2331 - acc: 0.912 - ETA: 0s - loss: 0.2330 - acc: 0.912 - 3s 3ms/step - loss: 0.2325 - acc: 0.9135 - val_loss: 0.3171 - val_acc: 0.8881\n",
      "Epoch 8/15\n"
     ]
    },
    {
     "name": "stdout",
     "output_type": "stream",
     "text": [
      "855/855 [==============================] - ETA: 2s - loss: 0.1847 - acc: 0.937 - ETA: 2s - loss: 0.1575 - acc: 0.937 - ETA: 2s - loss: 0.2089 - acc: 0.916 - ETA: 2s - loss: 0.2120 - acc: 0.914 - ETA: 2s - loss: 0.2091 - acc: 0.918 - ETA: 1s - loss: 0.2707 - acc: 0.895 - ETA: 1s - loss: 0.2514 - acc: 0.901 - ETA: 1s - loss: 0.2371 - acc: 0.910 - ETA: 1s - loss: 0.2484 - acc: 0.909 - ETA: 1s - loss: 0.2693 - acc: 0.900 - ETA: 1s - loss: 0.2593 - acc: 0.903 - ETA: 1s - loss: 0.2571 - acc: 0.903 - ETA: 1s - loss: 0.2470 - acc: 0.911 - ETA: 1s - loss: 0.2431 - acc: 0.912 - ETA: 1s - loss: 0.2365 - acc: 0.914 - ETA: 1s - loss: 0.2334 - acc: 0.916 - ETA: 0s - loss: 0.2348 - acc: 0.917 - ETA: 0s - loss: 0.2368 - acc: 0.916 - ETA: 0s - loss: 0.2393 - acc: 0.916 - ETA: 0s - loss: 0.2341 - acc: 0.918 - ETA: 0s - loss: 0.2297 - acc: 0.919 - ETA: 0s - loss: 0.2372 - acc: 0.916 - ETA: 0s - loss: 0.2348 - acc: 0.917 - ETA: 0s - loss: 0.2376 - acc: 0.916 - ETA: 0s - loss: 0.2332 - acc: 0.917 - ETA: 0s - loss: 0.2278 - acc: 0.919 - 3s 3ms/step - loss: 0.2237 - acc: 0.9205 - val_loss: 0.3331 - val_acc: 0.8916\n",
      "Epoch 9/15\n",
      "855/855 [==============================] - ETA: 2s - loss: 0.1232 - acc: 0.968 - ETA: 2s - loss: 0.2054 - acc: 0.921 - ETA: 2s - loss: 0.2040 - acc: 0.927 - ETA: 2s - loss: 0.1928 - acc: 0.929 - ETA: 2s - loss: 0.2185 - acc: 0.912 - ETA: 1s - loss: 0.2171 - acc: 0.921 - ETA: 1s - loss: 0.2240 - acc: 0.924 - ETA: 1s - loss: 0.2260 - acc: 0.921 - ETA: 1s - loss: 0.2132 - acc: 0.927 - ETA: 1s - loss: 0.2184 - acc: 0.931 - ETA: 1s - loss: 0.2212 - acc: 0.929 - ETA: 1s - loss: 0.2194 - acc: 0.924 - ETA: 1s - loss: 0.2126 - acc: 0.927 - ETA: 1s - loss: 0.2061 - acc: 0.933 - ETA: 1s - loss: 0.2104 - acc: 0.929 - ETA: 1s - loss: 0.2134 - acc: 0.927 - ETA: 0s - loss: 0.2284 - acc: 0.922 - ETA: 0s - loss: 0.2253 - acc: 0.923 - ETA: 0s - loss: 0.2185 - acc: 0.927 - ETA: 0s - loss: 0.2139 - acc: 0.928 - ETA: 0s - loss: 0.2210 - acc: 0.925 - ETA: 0s - loss: 0.2182 - acc: 0.924 - ETA: 0s - loss: 0.2194 - acc: 0.921 - ETA: 0s - loss: 0.2153 - acc: 0.923 - ETA: 0s - loss: 0.2153 - acc: 0.923 - ETA: 0s - loss: 0.2163 - acc: 0.923 - 3s 3ms/step - loss: 0.2204 - acc: 0.9216 - val_loss: 0.3580 - val_acc: 0.8916\n",
      "Epoch 10/15\n",
      "855/855 [==============================] - ETA: 2s - loss: 0.3951 - acc: 0.937 - ETA: 2s - loss: 0.2785 - acc: 0.953 - ETA: 2s - loss: 0.2329 - acc: 0.947 - ETA: 2s - loss: 0.2254 - acc: 0.937 - ETA: 2s - loss: 0.2102 - acc: 0.937 - ETA: 1s - loss: 0.2388 - acc: 0.927 - ETA: 1s - loss: 0.2186 - acc: 0.933 - ETA: 1s - loss: 0.2277 - acc: 0.925 - ETA: 1s - loss: 0.2270 - acc: 0.927 - ETA: 1s - loss: 0.2365 - acc: 0.921 - ETA: 1s - loss: 0.2343 - acc: 0.923 - ETA: 1s - loss: 0.2311 - acc: 0.921 - ETA: 1s - loss: 0.2324 - acc: 0.923 - ETA: 1s - loss: 0.2407 - acc: 0.912 - ETA: 1s - loss: 0.2413 - acc: 0.910 - ETA: 1s - loss: 0.2348 - acc: 0.912 - ETA: 0s - loss: 0.2352 - acc: 0.913 - ETA: 0s - loss: 0.2278 - acc: 0.918 - ETA: 0s - loss: 0.2243 - acc: 0.919 - ETA: 0s - loss: 0.2222 - acc: 0.920 - ETA: 0s - loss: 0.2184 - acc: 0.922 - ETA: 0s - loss: 0.2212 - acc: 0.921 - ETA: 0s - loss: 0.2179 - acc: 0.922 - ETA: 0s - loss: 0.2243 - acc: 0.920 - ETA: 0s - loss: 0.2274 - acc: 0.917 - ETA: 0s - loss: 0.2311 - acc: 0.914 - 3s 3ms/step - loss: 0.2278 - acc: 0.9158 - val_loss: 0.3447 - val_acc: 0.8671\n",
      "Epoch 11/15\n",
      "855/855 [==============================] - ETA: 2s - loss: 0.2459 - acc: 0.906 - ETA: 2s - loss: 0.3741 - acc: 0.859 - ETA: 2s - loss: 0.3491 - acc: 0.854 - ETA: 2s - loss: 0.3203 - acc: 0.867 - ETA: 2s - loss: 0.2958 - acc: 0.875 - ETA: 1s - loss: 0.2732 - acc: 0.890 - ETA: 1s - loss: 0.2710 - acc: 0.892 - ETA: 1s - loss: 0.2628 - acc: 0.898 - ETA: 1s - loss: 0.2768 - acc: 0.888 - ETA: 1s - loss: 0.2813 - acc: 0.890 - ETA: 1s - loss: 0.2641 - acc: 0.897 - ETA: 1s - loss: 0.2492 - acc: 0.903 - ETA: 1s - loss: 0.2386 - acc: 0.911 - ETA: 1s - loss: 0.2337 - acc: 0.912 - ETA: 1s - loss: 0.2386 - acc: 0.906 - ETA: 1s - loss: 0.2385 - acc: 0.908 - ETA: 0s - loss: 0.2342 - acc: 0.911 - ETA: 0s - loss: 0.2279 - acc: 0.914 - ETA: 0s - loss: 0.2254 - acc: 0.912 - ETA: 0s - loss: 0.2218 - acc: 0.915 - ETA: 0s - loss: 0.2189 - acc: 0.916 - ETA: 0s - loss: 0.2147 - acc: 0.919 - ETA: 0s - loss: 0.2139 - acc: 0.919 - ETA: 0s - loss: 0.2261 - acc: 0.916 - ETA: 0s - loss: 0.2238 - acc: 0.917 - ETA: 0s - loss: 0.2219 - acc: 0.918 - 3s 3ms/step - loss: 0.2219 - acc: 0.9170 - val_loss: 0.3714 - val_acc: 0.8462\n",
      "Epoch 12/15\n",
      "855/855 [==============================] - ETA: 2s - loss: 0.2519 - acc: 0.906 - ETA: 2s - loss: 0.2935 - acc: 0.890 - ETA: 2s - loss: 0.2709 - acc: 0.885 - ETA: 2s - loss: 0.3309 - acc: 0.851 - ETA: 2s - loss: 0.3127 - acc: 0.856 - ETA: 1s - loss: 0.3014 - acc: 0.864 - ETA: 1s - loss: 0.2908 - acc: 0.870 - ETA: 1s - loss: 0.2808 - acc: 0.875 - ETA: 1s - loss: 0.2998 - acc: 0.878 - ETA: 1s - loss: 0.2951 - acc: 0.875 - ETA: 1s - loss: 0.2992 - acc: 0.875 - ETA: 1s - loss: 0.2906 - acc: 0.875 - ETA: 1s - loss: 0.2827 - acc: 0.879 - ETA: 1s - loss: 0.2723 - acc: 0.886 - ETA: 1s - loss: 0.2639 - acc: 0.891 - ETA: 0s - loss: 0.2601 - acc: 0.890 - ETA: 0s - loss: 0.2653 - acc: 0.887 - ETA: 0s - loss: 0.2701 - acc: 0.890 - ETA: 0s - loss: 0.2621 - acc: 0.893 - ETA: 0s - loss: 0.2586 - acc: 0.893 - ETA: 0s - loss: 0.2571 - acc: 0.892 - ETA: 0s - loss: 0.2509 - acc: 0.893 - ETA: 0s - loss: 0.2510 - acc: 0.894 - ETA: 0s - loss: 0.2422 - acc: 0.898 - ETA: 0s - loss: 0.2395 - acc: 0.898 - ETA: 0s - loss: 0.2328 - acc: 0.902 - 3s 3ms/step - loss: 0.2347 - acc: 0.9041 - val_loss: 0.4260 - val_acc: 0.8741\n",
      "Epoch 13/15\n",
      "855/855 [==============================] - ETA: 2s - loss: 0.1018 - acc: 0.937 - ETA: 2s - loss: 0.1258 - acc: 0.953 - ETA: 2s - loss: 0.1918 - acc: 0.927 - ETA: 2s - loss: 0.2681 - acc: 0.914 - ETA: 2s - loss: 0.2801 - acc: 0.918 - ETA: 1s - loss: 0.2753 - acc: 0.911 - ETA: 1s - loss: 0.2540 - acc: 0.915 - ETA: 1s - loss: 0.2579 - acc: 0.906 - ETA: 1s - loss: 0.2526 - acc: 0.902 - ETA: 1s - loss: 0.2434 - acc: 0.909 - ETA: 1s - loss: 0.2321 - acc: 0.911 - ETA: 1s - loss: 0.2227 - acc: 0.919 - ETA: 1s - loss: 0.2168 - acc: 0.920 - ETA: 1s - loss: 0.2136 - acc: 0.921 - ETA: 1s - loss: 0.2163 - acc: 0.920 - ETA: 1s - loss: 0.2087 - acc: 0.923 - ETA: 0s - loss: 0.2158 - acc: 0.922 - ETA: 0s - loss: 0.2237 - acc: 0.920 - ETA: 0s - loss: 0.2175 - acc: 0.924 - ETA: 0s - loss: 0.2152 - acc: 0.926 - ETA: 0s - loss: 0.2146 - acc: 0.925 - ETA: 0s - loss: 0.2187 - acc: 0.923 - ETA: 0s - loss: 0.2156 - acc: 0.922 - ETA: 0s - loss: 0.2101 - acc: 0.925 - ETA: 0s - loss: 0.2113 - acc: 0.926 - ETA: 0s - loss: 0.2164 - acc: 0.924 - 3s 3ms/step - loss: 0.2156 - acc: 0.9228 - val_loss: 0.3595 - val_acc: 0.8531\n",
      "Epoch 14/15\n",
      "855/855 [==============================] - ETA: 2s - loss: 0.0339 - acc: 1.000 - ETA: 2s - loss: 0.1842 - acc: 0.937 - ETA: 2s - loss: 0.1745 - acc: 0.937 - ETA: 2s - loss: 0.1922 - acc: 0.921 - ETA: 2s - loss: 0.1782 - acc: 0.925 - ETA: 1s - loss: 0.2058 - acc: 0.911 - ETA: 1s - loss: 0.1837 - acc: 0.924 - ETA: 1s - loss: 0.1906 - acc: 0.918 - ETA: 1s - loss: 0.1991 - acc: 0.916 - ETA: 1s - loss: 0.2008 - acc: 0.918 - ETA: 1s - loss: 0.1900 - acc: 0.923 - ETA: 1s - loss: 0.1882 - acc: 0.924 - ETA: 1s - loss: 0.1797 - acc: 0.927 - ETA: 1s - loss: 0.1774 - acc: 0.928 - ETA: 1s - loss: 0.1750 - acc: 0.931 - ETA: 1s - loss: 0.1677 - acc: 0.933 - ETA: 0s - loss: 0.1747 - acc: 0.933 - ETA: 0s - loss: 0.1706 - acc: 0.935 - ETA: 0s - loss: 0.1678 - acc: 0.935 - ETA: 0s - loss: 0.1637 - acc: 0.937 - ETA: 0s - loss: 0.1818 - acc: 0.931 - ETA: 0s - loss: 0.1800 - acc: 0.929 - ETA: 0s - loss: 0.1737 - acc: 0.932 - ETA: 0s - loss: 0.1737 - acc: 0.932 - ETA: 0s - loss: 0.1806 - acc: 0.927 - ETA: 0s - loss: 0.1837 - acc: 0.926 - 3s 3ms/step - loss: 0.1891 - acc: 0.9240 - val_loss: 0.3387 - val_acc: 0.8776\n",
      "Epoch 15/15\n"
     ]
    },
    {
     "name": "stdout",
     "output_type": "stream",
     "text": [
      "855/855 [==============================] - ETA: 2s - loss: 0.0901 - acc: 0.968 - ETA: 2s - loss: 0.1460 - acc: 0.937 - ETA: 2s - loss: 0.1663 - acc: 0.937 - ETA: 2s - loss: 0.1613 - acc: 0.937 - ETA: 2s - loss: 0.1643 - acc: 0.925 - ETA: 1s - loss: 0.1714 - acc: 0.927 - ETA: 1s - loss: 0.1732 - acc: 0.924 - ETA: 1s - loss: 0.1905 - acc: 0.914 - ETA: 1s - loss: 0.1992 - acc: 0.913 - ETA: 1s - loss: 0.2094 - acc: 0.912 - ETA: 1s - loss: 0.2169 - acc: 0.909 - ETA: 1s - loss: 0.2130 - acc: 0.914 - ETA: 1s - loss: 0.2145 - acc: 0.911 - ETA: 1s - loss: 0.2110 - acc: 0.915 - ETA: 1s - loss: 0.2059 - acc: 0.918 - ETA: 1s - loss: 0.2070 - acc: 0.919 - ETA: 0s - loss: 0.2056 - acc: 0.922 - ETA: 0s - loss: 0.2144 - acc: 0.918 - ETA: 0s - loss: 0.2125 - acc: 0.919 - ETA: 0s - loss: 0.2148 - acc: 0.918 - ETA: 0s - loss: 0.2147 - acc: 0.919 - ETA: 0s - loss: 0.2138 - acc: 0.919 - ETA: 0s - loss: 0.2160 - acc: 0.917 - ETA: 0s - loss: 0.2097 - acc: 0.919 - ETA: 0s - loss: 0.2094 - acc: 0.918 - ETA: 0s - loss: 0.2073 - acc: 0.920 - 3s 3ms/step - loss: 0.2041 - acc: 0.9228 - val_loss: 0.3340 - val_acc: 0.8881\n",
      "286/286 [==============================] - ETA:  - ETA:  - ETA:  - ETA:  - 0s 878us/step\n"
     ]
    }
   ],
   "source": [
    "model = Sequential()\n",
    "model.add(Embedding(max_features, 128))\n",
    "model.add(LSTM(128, dropout=0.2, recurrent_dropout=0.2))\n",
    "model.add(Dense(1, activation='sigmoid'))\n",
    "\n",
    "# try using different optimizers and different optimizer configs\n",
    "model.compile(loss='binary_crossentropy',\n",
    "              optimizer='adam',\n",
    "              metrics=['accuracy'])\n",
    "\n",
    "model.fit(x_train, y_train,\n",
    "          batch_size=batch_size,\n",
    "          epochs=15,\n",
    "          validation_data=(x_test, y_test))\n",
    "score, acc = model.evaluate(x_test, y_test,\n",
    "batch_size=batch_size)"
   ]
  },
  {
   "cell_type": "code",
   "execution_count": 272,
   "metadata": {},
   "outputs": [
    {
     "data": {
      "text/plain": [
       "0.3339776355069834"
      ]
     },
     "execution_count": 272,
     "metadata": {},
     "output_type": "execute_result"
    }
   ],
   "source": [
    "score"
   ]
  },
  {
   "cell_type": "code",
   "execution_count": 273,
   "metadata": {},
   "outputs": [
    {
     "data": {
      "text/plain": [
       "0.8881118860278097"
      ]
     },
     "execution_count": 273,
     "metadata": {},
     "output_type": "execute_result"
    }
   ],
   "source": [
    "acc"
   ]
  },
  {
   "cell_type": "code",
   "execution_count": null,
   "metadata": {},
   "outputs": [],
   "source": []
  },
  {
   "cell_type": "markdown",
   "metadata": {
    "colab_type": "text",
    "id": "lPn6c0x21gu1"
   },
   "source": [
    "Conclusion - RNN runs, and gives pretty decent improvement over a naive \"It's Al!\" model. To *really* improve the model, more playing with parameters, and just getting more data (particularly Austen tweets), would help. Also - RNN may well not be the best approach here, but it is at least a valid one."
   ]
  },
  {
   "cell_type": "code",
   "execution_count": null,
   "metadata": {},
   "outputs": [],
   "source": []
  },
  {
   "cell_type": "code",
   "execution_count": null,
   "metadata": {},
   "outputs": [],
   "source": []
  },
  {
   "cell_type": "markdown",
   "metadata": {
    "colab_type": "text",
    "id": "yz0LCZd_O4IG"
   },
   "source": [
    "## Part 2- CNNs\n",
    "\n",
    "Time to play \"find the frog!\" Use Keras and ResNet50 to detect which of the following images contain frogs:"
   ]
  },
  {
   "cell_type": "code",
   "execution_count": 124,
   "metadata": {
    "colab": {
     "base_uri": "https://localhost:8080/",
     "height": 245
    },
    "colab_type": "code",
    "id": "whIqEWR236Af",
    "outputId": "7a74e30d-310d-4a3a-9ae4-5bf52d137bda"
   },
   "outputs": [
    {
     "name": "stdout",
     "output_type": "stream",
     "text": [
      "Requirement already satisfied: google_images_download in c:\\users\\cwcol\\anaconda3\\lib\\site-packages (2.5.0)\n",
      "Requirement already satisfied: selenium in c:\\users\\cwcol\\anaconda3\\lib\\site-packages (from google_images_download) (3.14.0)\n",
      "Requirement already satisfied: urllib3 in c:\\users\\cwcol\\anaconda3\\lib\\site-packages (from selenium->google_images_download) (1.22)\n"
     ]
    },
    {
     "name": "stderr",
     "output_type": "stream",
     "text": [
      "You are using pip version 19.0.1, however version 19.0.3 is available.\n",
      "You should consider upgrading via the 'python -m pip install --upgrade pip' command.\n"
     ]
    }
   ],
   "source": [
    "!pip install google_images_download"
   ]
  },
  {
   "cell_type": "code",
   "execution_count": 125,
   "metadata": {
    "colab": {
     "base_uri": "https://localhost:8080/",
     "height": 332
    },
    "colab_type": "code",
    "id": "EKnnnM8k38sN",
    "outputId": "59f477e9-0b25-4a38-9678-af24e0176535"
   },
   "outputs": [
    {
     "name": "stdout",
     "output_type": "stream",
     "text": [
      "\n",
      "Item no.: 1 --> Item name = animal pond\n",
      "Evaluating...\n",
      "Starting Download...\n",
      "Image URL: https://www.enchantedlearning.com/pgifs/Pondanimals.GIF\n",
      "Completed Image ====> 1. pondanimals.gif\n",
      "Image URL: https://i.ytimg.com/vi/NCbu0TND9vE/hqdefault.jpg\n",
      "Completed Image ====> 2. hqdefault.jpg\n",
      "Image URL: https://pklifescience.com/staticfiles/articles/images/PKLS4116_inline.png\n",
      "Completed Image ====> 3. pkls4116_inline.png\n",
      "Image URL: https://pixnio.com/free-images/fauna-animals/reptiles-and-amphibians/alligators-and-crocodiles-pictures/alligator-animal-on-pond.jpg\n",
      "Completed Image ====> 4. alligator-animal-on-pond.jpg\n",
      "Image URL: https://www.nwf.org/-/media/NEW-WEBSITE/Programs/Garden-for-Wildlife/amphibian_bronze-frog_Julia-Bartosh_400x267.ashx\n",
      "Completed Image ====> 5. amphibian_bronze-frog_julia-bartosh_400x267.ash\n",
      "\n",
      "Errors: 0\n",
      "\n"
     ]
    }
   ],
   "source": [
    "from google_images_download import google_images_download\n",
    "\n",
    "response = google_images_download.googleimagesdownload()\n",
    "arguments = {\"keywords\": \"animal pond\", \"limit\": 5, \"print_urls\": True}\n",
    "absolute_image_paths = response.download(arguments)"
   ]
  },
  {
   "cell_type": "markdown",
   "metadata": {
    "colab_type": "text",
    "id": "si5YfNqS50QU"
   },
   "source": [
    "At time of writing at least a few do, but since the Internet changes - it is possible your 5 won't. You can easily verify yourself, and (once you have working code) increase the number of images you pull to be more sure of getting a frog. Your goal is to validly run ResNet50 on the input images - don't worry about tuning or improving the model.\n",
    "\n",
    "*Hint* - ResNet 50 doesn't just return \"frog\". The three labels it has for frogs are: `bullfrog, tree frog, tailed frog`\n",
    "\n",
    "*Stretch goal* - also check for fish."
   ]
  },
  {
   "cell_type": "code",
   "execution_count": 157,
   "metadata": {},
   "outputs": [
    {
     "data": {
      "image/gif": "[encoded data removed]",
      "text/plain": [
       "<IPython.core.display.Image object>"
      ]
     },
     "metadata": {},
     "output_type": "display_data"
    }
   ],
   "source": [
    "import os\n",
    "files = os.listdir('downloads/animal-pond')\n",
    "files[0]\n",
    "display(Image(filename='downloads/animal-pond/'+files[0]))"
   ]
  },
  {
   "cell_type": "code",
   "execution_count": 163,
   "metadata": {
    "colab": {},
    "colab_type": "code",
    "id": "FaT07ddW3nHz"
   },
   "outputs": [],
   "source": [
    "# TODO - your code!\n",
    "import numpy as np\n",
    "from IPython.display import Image\n",
    "\n",
    "from keras.applications.resnet50 import ResNet50\n",
    "from keras.preprocessing import image\n",
    "from keras.applications.resnet50 import preprocess_input, decode_predictions\n",
    "\n",
    "def process_img_path(img_path):\n",
    "  return image.load_img(img_path, target_size=(224, 224))\n",
    "\n",
    "def img_contains_frog(img):\n",
    "    x = image.img_to_array(img)\n",
    "    x = np.expand_dims(x, axis=0)\n",
    "    x = preprocess_input(x)\n",
    "    model = ResNet50(weights='imagenet')\n",
    "    features = model.predict(x)\n",
    "    results = decode_predictions(features, top=3)[0]\n",
    "    # ideally this would work like list(fish), if results[0][1] in list(fish)\n",
    "    if \"fish\" in results[0][1]:\n",
    "        return \"fish\"\n",
    "    if \"frog\" in results[0][1]:\n",
    "        return \"frog\"\n",
    "    print(results)\n"
   ]
  },
  {
   "cell_type": "code",
   "execution_count": 164,
   "metadata": {},
   "outputs": [
    {
     "name": "stdout",
     "output_type": "stream",
     "text": [
      "[('n03598930', 'jigsaw_puzzle', 0.8680313), ('n06359193', 'web_site', 0.06410024), ('n02834397', 'bib', 0.021264283)]\n",
      "[('n04243546', 'slot', 0.8712451), ('n04476259', 'tray', 0.04993579), ('n03908618', 'pencil_box', 0.023072347)]\n",
      "[('n01698640', 'American_alligator', 0.96394104), ('n01697457', 'African_crocodile', 0.026759878), ('n01737021', 'water_snake', 0.005964658)]\n"
     ]
    },
    {
     "data": {
      "text/plain": [
       "[None, 'fish', None, None, 'frog']"
      ]
     },
     "execution_count": 164,
     "metadata": {},
     "output_type": "execute_result"
    }
   ],
   "source": [
    "[img_contains_frog(process_img_path('downloads/animal-pond/'+i)) for i in files]"
   ]
  },
  {
   "cell_type": "markdown",
   "metadata": {
    "colab_type": "text",
    "id": "XEuhvSu7O5Rf"
   },
   "source": [
    "## Part 3 - AutoML\n",
    "\n",
    "Use [TPOT](https://github.com/EpistasisLab/tpot) to fit a predictive model for the King County housing data, with `price` as the target output variable."
   ]
  },
  {
   "cell_type": "code",
   "execution_count": 52,
   "metadata": {
    "colab": {
     "base_uri": "https://localhost:8080/",
     "height": 610
    },
    "colab_type": "code",
    "id": "pz0e_7Ve60pM",
    "outputId": "7d7f644d-2edc-417b-bd7e-14d7044ef032"
   },
   "outputs": [
    {
     "name": "stdout",
     "output_type": "stream",
     "text": [
      "Requirement already satisfied: tpot in c:\\users\\cwcol\\anaconda3\\lib\\site-packages (0.10.0)\n",
      "Requirement already satisfied: numpy>=1.12.1 in c:\\users\\cwcol\\anaconda3\\lib\\site-packages (from tpot) (1.15.4)\n",
      "Requirement already satisfied: scikit-learn>=0.18.1 in c:\\users\\cwcol\\anaconda3\\lib\\site-packages (from tpot) (0.20.2)\n",
      "Requirement already satisfied: scipy>=0.19.0 in c:\\users\\cwcol\\anaconda3\\lib\\site-packages (from tpot) (1.2.0)\n",
      "Requirement already satisfied: tqdm>=4.26.0 in c:\\users\\cwcol\\anaconda3\\lib\\site-packages (from tpot) (4.30.0)\n",
      "Requirement already satisfied: update-checker>=0.16 in c:\\users\\cwcol\\anaconda3\\lib\\site-packages (from tpot) (0.16)\n",
      "Requirement already satisfied: pandas>=0.20.2 in c:\\users\\cwcol\\anaconda3\\lib\\site-packages (from tpot) (0.23.0)\n",
      "Requirement already satisfied: deap>=1.0 in c:\\users\\cwcol\\anaconda3\\lib\\site-packages (from tpot) (1.2.2)\n",
      "Requirement already satisfied: stopit>=1.1.1 in c:\\users\\cwcol\\anaconda3\\lib\\site-packages (from tpot) (1.1.2)\n",
      "Requirement already satisfied: requests>=2.3.0 in c:\\users\\cwcol\\anaconda3\\lib\\site-packages (from update-checker>=0.16->tpot) (2.18.4)\n",
      "Requirement already satisfied: python-dateutil>=2.5.0 in c:\\users\\cwcol\\anaconda3\\lib\\site-packages (from pandas>=0.20.2->tpot) (2.7.3)\n",
      "Requirement already satisfied: pytz>=2011k in c:\\users\\cwcol\\anaconda3\\lib\\site-packages (from pandas>=0.20.2->tpot) (2018.4)\n",
      "Requirement already satisfied: chardet<3.1.0,>=3.0.2 in c:\\users\\cwcol\\anaconda3\\lib\\site-packages (from requests>=2.3.0->update-checker>=0.16->tpot) (3.0.4)\n",
      "Requirement already satisfied: idna<2.7,>=2.5 in c:\\users\\cwcol\\anaconda3\\lib\\site-packages (from requests>=2.3.0->update-checker>=0.16->tpot) (2.6)\n",
      "Requirement already satisfied: urllib3<1.23,>=1.21.1 in c:\\users\\cwcol\\anaconda3\\lib\\site-packages (from requests>=2.3.0->update-checker>=0.16->tpot) (1.22)\n",
      "Requirement already satisfied: certifi>=2017.4.17 in c:\\users\\cwcol\\anaconda3\\lib\\site-packages (from requests>=2.3.0->update-checker>=0.16->tpot) (2019.3.9)\n",
      "Requirement already satisfied: six>=1.5 in c:\\users\\cwcol\\anaconda3\\lib\\site-packages (from python-dateutil>=2.5.0->pandas>=0.20.2->tpot) (1.11.0)\n"
     ]
    },
    {
     "name": "stderr",
     "output_type": "stream",
     "text": [
      "You are using pip version 19.0.1, however version 19.0.3 is available.\n",
      "You should consider upgrading via the 'python -m pip install --upgrade pip' command.\n"
     ]
    }
   ],
   "source": [
    "!pip install tpot"
   ]
  },
  {
   "cell_type": "code",
   "execution_count": 53,
   "metadata": {
    "colab": {
     "base_uri": "https://localhost:8080/",
     "height": 208
    },
    "colab_type": "code",
    "id": "GflK25wp7jnf",
    "outputId": "a3e65568-5bfa-4b33-ca10-da515d8b418d"
   },
   "outputs": [
    {
     "name": "stderr",
     "output_type": "stream",
     "text": [
      "'wget' is not recognized as an internal or external command,\n",
      "operable program or batch file.\n"
     ]
    }
   ],
   "source": [
    "!wget https://raw.githubusercontent.com/ryanleeallred/datasets/master/kc_house_data.csv"
   ]
  },
  {
   "cell_type": "code",
   "execution_count": 54,
   "metadata": {
    "colab": {
     "base_uri": "https://localhost:8080/",
     "height": 211
    },
    "colab_type": "code",
    "id": "7G5-Gqyg9A-V",
    "outputId": "1140fe22-952d-4745-d628-d91766af65b8"
   },
   "outputs": [
    {
     "name": "stderr",
     "output_type": "stream",
     "text": [
      "'head' is not recognized as an internal or external command,\n",
      "operable program or batch file.\n"
     ]
    }
   ],
   "source": [
    "!head kc_house_data.csv"
   ]
  },
  {
   "cell_type": "markdown",
   "metadata": {
    "colab_type": "text",
    "id": "KynXZjOY8hBL"
   },
   "source": [
    "As with previous questions, your goal is to run TPOT and successfully run and report error at the end.  Also, in the interest of time, feel free to choose small `generation=1` and `population_size=10` parameters so your pipeline runs efficiently and you are able to iterate and test.\n",
    "\n",
    "*Hint* - you'll have to drop and/or type coerce at least a few variables to get things working. It's fine to err on the side of dropping to get things running, as long as you still get a valid model with reasonable predictive power."
   ]
  },
  {
   "cell_type": "code",
   "execution_count": 89,
   "metadata": {
    "colab": {},
    "colab_type": "code",
    "id": "BOREO8VJO7MZ"
   },
   "outputs": [],
   "source": [
    "# TODO - your code!\n",
    "from tpot import TPOTRegressor\n",
    "tpot = TPOTRegressor(generations=1, population_size=10, verbosity=2)\n",
    "import pandas as pd\n",
    "pd.set_option(\"display.max_columns\",21)\n",
    "import numpy as np"
   ]
  },
  {
   "cell_type": "code",
   "execution_count": 60,
   "metadata": {},
   "outputs": [],
   "source": [
    "df = pd.read_csv(\"kc_house_data.csv\")"
   ]
  },
  {
   "cell_type": "code",
   "execution_count": 79,
   "metadata": {},
   "outputs": [
    {
     "data": {
      "text/html": [
       "<div>\n",
       "<style scoped>\n",
       "    .dataframe tbody tr th:only-of-type {\n",
       "        vertical-align: middle;\n",
       "    }\n",
       "\n",
       "    .dataframe tbody tr th {\n",
       "        vertical-align: top;\n",
       "    }\n",
       "\n",
       "    .dataframe thead th {\n",
       "        text-align: right;\n",
       "    }\n",
       "</style>\n",
       "<table border=\"1\" class=\"dataframe\">\n",
       "  <thead>\n",
       "    <tr style=\"text-align: right;\">\n",
       "      <th></th>\n",
       "      <th>id</th>\n",
       "      <th>date</th>\n",
       "      <th>price</th>\n",
       "      <th>bedrooms</th>\n",
       "      <th>bathrooms</th>\n",
       "      <th>sqft_living</th>\n",
       "      <th>sqft_lot</th>\n",
       "      <th>floors</th>\n",
       "      <th>waterfront</th>\n",
       "      <th>view</th>\n",
       "      <th>condition</th>\n",
       "      <th>grade</th>\n",
       "      <th>sqft_above</th>\n",
       "      <th>sqft_basement</th>\n",
       "      <th>yr_built</th>\n",
       "      <th>yr_renovated</th>\n",
       "      <th>zipcode</th>\n",
       "      <th>lat</th>\n",
       "      <th>long</th>\n",
       "      <th>sqft_living15</th>\n",
       "      <th>sqft_lot15</th>\n",
       "    </tr>\n",
       "  </thead>\n",
       "  <tbody>\n",
       "    <tr>\n",
       "      <th>0</th>\n",
       "      <td>7129300520</td>\n",
       "      <td>20141013T000000</td>\n",
       "      <td>221900.0</td>\n",
       "      <td>3</td>\n",
       "      <td>1.00</td>\n",
       "      <td>1180</td>\n",
       "      <td>5650</td>\n",
       "      <td>1.0</td>\n",
       "      <td>0</td>\n",
       "      <td>0</td>\n",
       "      <td>3</td>\n",
       "      <td>7</td>\n",
       "      <td>1180</td>\n",
       "      <td>0</td>\n",
       "      <td>1955</td>\n",
       "      <td>0</td>\n",
       "      <td>98178</td>\n",
       "      <td>47.5112</td>\n",
       "      <td>-122.257</td>\n",
       "      <td>1340</td>\n",
       "      <td>5650</td>\n",
       "    </tr>\n",
       "    <tr>\n",
       "      <th>1</th>\n",
       "      <td>6414100192</td>\n",
       "      <td>20141209T000000</td>\n",
       "      <td>538000.0</td>\n",
       "      <td>3</td>\n",
       "      <td>2.25</td>\n",
       "      <td>2570</td>\n",
       "      <td>7242</td>\n",
       "      <td>2.0</td>\n",
       "      <td>0</td>\n",
       "      <td>0</td>\n",
       "      <td>3</td>\n",
       "      <td>7</td>\n",
       "      <td>2170</td>\n",
       "      <td>400</td>\n",
       "      <td>1951</td>\n",
       "      <td>1991</td>\n",
       "      <td>98125</td>\n",
       "      <td>47.7210</td>\n",
       "      <td>-122.319</td>\n",
       "      <td>1690</td>\n",
       "      <td>7639</td>\n",
       "    </tr>\n",
       "    <tr>\n",
       "      <th>2</th>\n",
       "      <td>5631500400</td>\n",
       "      <td>20150225T000000</td>\n",
       "      <td>180000.0</td>\n",
       "      <td>2</td>\n",
       "      <td>1.00</td>\n",
       "      <td>770</td>\n",
       "      <td>10000</td>\n",
       "      <td>1.0</td>\n",
       "      <td>0</td>\n",
       "      <td>0</td>\n",
       "      <td>3</td>\n",
       "      <td>6</td>\n",
       "      <td>770</td>\n",
       "      <td>0</td>\n",
       "      <td>1933</td>\n",
       "      <td>0</td>\n",
       "      <td>98028</td>\n",
       "      <td>47.7379</td>\n",
       "      <td>-122.233</td>\n",
       "      <td>2720</td>\n",
       "      <td>8062</td>\n",
       "    </tr>\n",
       "    <tr>\n",
       "      <th>3</th>\n",
       "      <td>2487200875</td>\n",
       "      <td>20141209T000000</td>\n",
       "      <td>604000.0</td>\n",
       "      <td>4</td>\n",
       "      <td>3.00</td>\n",
       "      <td>1960</td>\n",
       "      <td>5000</td>\n",
       "      <td>1.0</td>\n",
       "      <td>0</td>\n",
       "      <td>0</td>\n",
       "      <td>5</td>\n",
       "      <td>7</td>\n",
       "      <td>1050</td>\n",
       "      <td>910</td>\n",
       "      <td>1965</td>\n",
       "      <td>0</td>\n",
       "      <td>98136</td>\n",
       "      <td>47.5208</td>\n",
       "      <td>-122.393</td>\n",
       "      <td>1360</td>\n",
       "      <td>5000</td>\n",
       "    </tr>\n",
       "    <tr>\n",
       "      <th>4</th>\n",
       "      <td>1954400510</td>\n",
       "      <td>20150218T000000</td>\n",
       "      <td>510000.0</td>\n",
       "      <td>3</td>\n",
       "      <td>2.00</td>\n",
       "      <td>1680</td>\n",
       "      <td>8080</td>\n",
       "      <td>1.0</td>\n",
       "      <td>0</td>\n",
       "      <td>0</td>\n",
       "      <td>3</td>\n",
       "      <td>8</td>\n",
       "      <td>1680</td>\n",
       "      <td>0</td>\n",
       "      <td>1987</td>\n",
       "      <td>0</td>\n",
       "      <td>98074</td>\n",
       "      <td>47.6168</td>\n",
       "      <td>-122.045</td>\n",
       "      <td>1800</td>\n",
       "      <td>7503</td>\n",
       "    </tr>\n",
       "  </tbody>\n",
       "</table>\n",
       "</div>"
      ],
      "text/plain": [
       "           id             date     price  bedrooms  bathrooms  sqft_living  \\\n",
       "0  7129300520  20141013T000000  221900.0         3       1.00         1180   \n",
       "1  6414100192  20141209T000000  538000.0         3       2.25         2570   \n",
       "2  5631500400  20150225T000000  180000.0         2       1.00          770   \n",
       "3  2487200875  20141209T000000  604000.0         4       3.00         1960   \n",
       "4  1954400510  20150218T000000  510000.0         3       2.00         1680   \n",
       "\n",
       "   sqft_lot  floors  waterfront  view  condition  grade  sqft_above  \\\n",
       "0      5650     1.0           0     0          3      7        1180   \n",
       "1      7242     2.0           0     0          3      7        2170   \n",
       "2     10000     1.0           0     0          3      6         770   \n",
       "3      5000     1.0           0     0          5      7        1050   \n",
       "4      8080     1.0           0     0          3      8        1680   \n",
       "\n",
       "   sqft_basement  yr_built  yr_renovated  zipcode      lat     long  \\\n",
       "0              0      1955             0    98178  47.5112 -122.257   \n",
       "1            400      1951          1991    98125  47.7210 -122.319   \n",
       "2              0      1933             0    98028  47.7379 -122.233   \n",
       "3            910      1965             0    98136  47.5208 -122.393   \n",
       "4              0      1987             0    98074  47.6168 -122.045   \n",
       "\n",
       "   sqft_living15  sqft_lot15  \n",
       "0           1340        5650  \n",
       "1           1690        7639  \n",
       "2           2720        8062  \n",
       "3           1360        5000  \n",
       "4           1800        7503  "
      ]
     },
     "execution_count": 79,
     "metadata": {},
     "output_type": "execute_result"
    }
   ],
   "source": [
    "df.head()"
   ]
  },
  {
   "cell_type": "code",
   "execution_count": 104,
   "metadata": {},
   "outputs": [
    {
     "data": {
      "text/plain": [
       "13"
      ]
     },
     "execution_count": 104,
     "metadata": {},
     "output_type": "execute_result"
    }
   ],
   "source": [
    "x = df['date'][0]\n",
    "int(x[6:8])"
   ]
  },
  {
   "cell_type": "code",
   "execution_count": 196,
   "metadata": {},
   "outputs": [
    {
     "ename": "TypeError",
     "evalue": "'Timestamp' object is not subscriptable",
     "output_type": "error",
     "traceback": [
      "\u001b[1;31m---------------------------------------------------------------------------\u001b[0m",
      "\u001b[1;31mTypeError\u001b[0m                                 Traceback (most recent call last)",
      "\u001b[1;32m<ipython-input-196-f8fb715718a8>\u001b[0m in \u001b[0;36m<module>\u001b[1;34m()\u001b[0m\n\u001b[0;32m      1\u001b[0m \u001b[1;32mdef\u001b[0m \u001b[0mget_timestamp\u001b[0m\u001b[1;33m(\u001b[0m\u001b[0mx\u001b[0m\u001b[1;33m)\u001b[0m\u001b[1;33m:\u001b[0m\u001b[1;33m\u001b[0m\u001b[0m\n\u001b[0;32m      2\u001b[0m     \u001b[1;32mreturn\u001b[0m \u001b[0mpd\u001b[0m\u001b[1;33m.\u001b[0m\u001b[0mTimestamp\u001b[0m\u001b[1;33m(\u001b[0m\u001b[0myear\u001b[0m\u001b[1;33m=\u001b[0m\u001b[0mint\u001b[0m\u001b[1;33m(\u001b[0m\u001b[0mx\u001b[0m\u001b[1;33m[\u001b[0m\u001b[1;36m0\u001b[0m\u001b[1;33m:\u001b[0m\u001b[1;36m4\u001b[0m\u001b[1;33m]\u001b[0m\u001b[1;33m)\u001b[0m\u001b[1;33m,\u001b[0m\u001b[0mmonth\u001b[0m\u001b[1;33m=\u001b[0m\u001b[0mint\u001b[0m\u001b[1;33m(\u001b[0m\u001b[0mx\u001b[0m\u001b[1;33m[\u001b[0m\u001b[1;36m4\u001b[0m\u001b[1;33m:\u001b[0m\u001b[1;36m6\u001b[0m\u001b[1;33m]\u001b[0m\u001b[1;33m)\u001b[0m\u001b[1;33m,\u001b[0m \u001b[0mday\u001b[0m \u001b[1;33m=\u001b[0m \u001b[0mint\u001b[0m\u001b[1;33m(\u001b[0m\u001b[0mx\u001b[0m\u001b[1;33m[\u001b[0m\u001b[1;36m6\u001b[0m\u001b[1;33m:\u001b[0m\u001b[1;36m8\u001b[0m\u001b[1;33m]\u001b[0m\u001b[1;33m)\u001b[0m\u001b[1;33m)\u001b[0m\u001b[1;33m\u001b[0m\u001b[0m\n\u001b[1;32m----> 3\u001b[1;33m \u001b[0mget_timestamp\u001b[0m\u001b[1;33m(\u001b[0m\u001b[0mdf\u001b[0m\u001b[1;33m[\u001b[0m\u001b[1;34m'date'\u001b[0m\u001b[1;33m]\u001b[0m\u001b[1;33m[\u001b[0m\u001b[1;36m0\u001b[0m\u001b[1;33m]\u001b[0m\u001b[1;33m)\u001b[0m\u001b[1;33m\u001b[0m\u001b[0m\n\u001b[0m",
      "\u001b[1;32m<ipython-input-196-f8fb715718a8>\u001b[0m in \u001b[0;36mget_timestamp\u001b[1;34m(x)\u001b[0m\n\u001b[0;32m      1\u001b[0m \u001b[1;32mdef\u001b[0m \u001b[0mget_timestamp\u001b[0m\u001b[1;33m(\u001b[0m\u001b[0mx\u001b[0m\u001b[1;33m)\u001b[0m\u001b[1;33m:\u001b[0m\u001b[1;33m\u001b[0m\u001b[0m\n\u001b[1;32m----> 2\u001b[1;33m     \u001b[1;32mreturn\u001b[0m \u001b[0mpd\u001b[0m\u001b[1;33m.\u001b[0m\u001b[0mTimestamp\u001b[0m\u001b[1;33m(\u001b[0m\u001b[0myear\u001b[0m\u001b[1;33m=\u001b[0m\u001b[0mint\u001b[0m\u001b[1;33m(\u001b[0m\u001b[0mx\u001b[0m\u001b[1;33m[\u001b[0m\u001b[1;36m0\u001b[0m\u001b[1;33m:\u001b[0m\u001b[1;36m4\u001b[0m\u001b[1;33m]\u001b[0m\u001b[1;33m)\u001b[0m\u001b[1;33m,\u001b[0m\u001b[0mmonth\u001b[0m\u001b[1;33m=\u001b[0m\u001b[0mint\u001b[0m\u001b[1;33m(\u001b[0m\u001b[0mx\u001b[0m\u001b[1;33m[\u001b[0m\u001b[1;36m4\u001b[0m\u001b[1;33m:\u001b[0m\u001b[1;36m6\u001b[0m\u001b[1;33m]\u001b[0m\u001b[1;33m)\u001b[0m\u001b[1;33m,\u001b[0m \u001b[0mday\u001b[0m \u001b[1;33m=\u001b[0m \u001b[0mint\u001b[0m\u001b[1;33m(\u001b[0m\u001b[0mx\u001b[0m\u001b[1;33m[\u001b[0m\u001b[1;36m6\u001b[0m\u001b[1;33m:\u001b[0m\u001b[1;36m8\u001b[0m\u001b[1;33m]\u001b[0m\u001b[1;33m)\u001b[0m\u001b[1;33m)\u001b[0m\u001b[1;33m\u001b[0m\u001b[0m\n\u001b[0m\u001b[0;32m      3\u001b[0m \u001b[0mget_timestamp\u001b[0m\u001b[1;33m(\u001b[0m\u001b[0mdf\u001b[0m\u001b[1;33m[\u001b[0m\u001b[1;34m'date'\u001b[0m\u001b[1;33m]\u001b[0m\u001b[1;33m[\u001b[0m\u001b[1;36m0\u001b[0m\u001b[1;33m]\u001b[0m\u001b[1;33m)\u001b[0m\u001b[1;33m\u001b[0m\u001b[0m\n",
      "\u001b[1;31mTypeError\u001b[0m: 'Timestamp' object is not subscriptable"
     ]
    }
   ],
   "source": [
    "def get_timestamp(x):\n",
    "    return pd.Timestamp(year=int(x[0:4]),month=int(x[4:6]), day = int(x[6:8]))\n",
    "get_timestamp(df['date'][0])"
   ]
  },
  {
   "cell_type": "code",
   "execution_count": 202,
   "metadata": {},
   "outputs": [
    {
     "data": {
      "text/plain": [
       "array(['2014-10-13T00:00:00.000000000', '2014-12-09T00:00:00.000000000',\n",
       "       '2015-02-25T00:00:00.000000000', ...,\n",
       "       '2014-06-23T00:00:00.000000000', '2015-01-16T00:00:00.000000000',\n",
       "       '2014-10-15T00:00:00.000000000'], dtype='datetime64[ns]')"
      ]
     },
     "execution_count": 202,
     "metadata": {},
     "output_type": "execute_result"
    }
   ],
   "source": []
  },
  {
   "cell_type": "code",
   "execution_count": 204,
   "metadata": {},
   "outputs": [],
   "source": [
    "#df[\"date\"] = df[\"date\"].apply(get_timestamp)\n",
    "df[\"date\"]= df[\"date\"].apply(lambda x: x.value)"
   ]
  },
  {
   "cell_type": "code",
   "execution_count": 205,
   "metadata": {},
   "outputs": [],
   "source": [
    "X= df.drop(columns=[\"price\"],axis=1)\n",
    "y= np.log(df[\"price\"])"
   ]
  },
  {
   "cell_type": "code",
   "execution_count": 206,
   "metadata": {},
   "outputs": [],
   "source": [
    "from sklearn.model_selection import train_test_split\n",
    "X_train,X_test, y_train, y_test = train_test_split(X,y)"
   ]
  },
  {
   "cell_type": "code",
   "execution_count": 207,
   "metadata": {},
   "outputs": [
    {
     "data": {
      "application/vnd.jupyter.widget-view+json": {
       "model_id": "",
       "version_major": 2,
       "version_minor": 0
      },
      "text/plain": [
       "HBox(children=(IntProgress(value=0, description='Optimization Progress', max=20, style=ProgressStyle(descripti…"
      ]
     },
     "metadata": {},
     "output_type": "display_data"
    },
    {
     "name": "stdout",
     "output_type": "stream",
     "text": [
      "Generation 1 - Current best internal CV score: -0.03617617050141491\n",
      "\n",
      "Best pipeline: DecisionTreeRegressor(RandomForestRegressor(input_matrix, bootstrap=True, max_features=0.7000000000000001, min_samples_leaf=20, min_samples_split=7, n_estimators=100), max_depth=7, min_samples_leaf=17, min_samples_split=7)\n",
      "-0.03572203359656528\n"
     ]
    }
   ],
   "source": [
    "tpot.fit(X_train, y_train)\n",
    "print(tpot.score(X_test, y_test))"
   ]
  },
  {
   "cell_type": "code",
   "execution_count": 208,
   "metadata": {},
   "outputs": [
    {
     "data": {
      "text/plain": [
       "0.1890027343626681"
      ]
     },
     "execution_count": 208,
     "metadata": {},
     "output_type": "execute_result"
    }
   ],
   "source": [
    "\n",
    "np.sqrt(tpot.score(X_test, y_test)*-1)"
   ]
  },
  {
   "cell_type": "markdown",
   "metadata": {
    "colab_type": "text",
    "id": "626zYgjkO7Vq"
   },
   "source": [
    "## Part 4 - More..."
   ]
  },
  {
   "cell_type": "markdown",
   "metadata": {
    "colab_type": "text",
    "id": "__lDWfcUO8oo"
   },
   "source": [
    "Answer the following questions, with a target audience of a fellow Data Scientist:\n",
    "\n",
    "- What do you consider your strongest area, as a Data Scientist?\n",
    "- What area of Data Science would you most like to learn more about, and why?\n",
    "- Where do you think Data Science will be in 5 years?\n",
    "\n",
    "A few sentences per answer is fine - only elaborate if time allows."
   ]
  },
  {
   "cell_type": "markdown",
   "metadata": {},
   "source": [
    "I think my strongest area is finding data, getting it into a dataframe, and making a useful prediction. I don't think my top skill is winning a competition competing for hundredths of percentage points. "
   ]
  },
  {
   "cell_type": "markdown",
   "metadata": {},
   "source": [
    "The two areas I want to study most are probability distributions and lower level computing problems for big data. I think getting data operations to run faster is always a problem. I am building two datasets for side projects and its moving at the speed of smell. Then, I'll be processing a bunch of text so i need something that runs fast.  I can't imagine this problem goes away."
   ]
  },
  {
   "cell_type": "markdown",
   "metadata": {},
   "source": [
    "This question merges my answer from the second and third questions. The reason I want to learn more about distributions and probability is that i think it will separate me from a majority of aspiring data scientists and because it is not widely understood. I think that AutoML stuff will become very strong. Some one might be able to make a program that does regressions on excel data. The need for dedicated personnel to run those types of analyses will be small. \n",
    "But, I think many people will misunderstand the distribution, assume a normal distribution and make faulty conclusions.\n",
    "Understanding the actual distributions of data will be a strong asset in 5 years."
   ]
  },
  {
   "cell_type": "markdown",
   "metadata": {
    "colab_type": "text",
    "id": "_Hoqe3mM_Mtc"
   },
   "source": [
    "Thank you for your hard work, and congratulations! You've learned a lot, and should proudly call yourself a Data Scientist."
   ]
  }
 ],
 "metadata": {
  "accelerator": "GPU",
  "colab": {
   "collapsed_sections": [],
   "name": "LS_DS_Unit_4_Sprint_Challenge_4.ipynb",
   "provenance": [],
   "version": "0.3.2"
  },
  "kernelspec": {
   "display_name": "Python 3",
   "language": "python",
   "name": "python3"
  },
  "language_info": {
   "codemirror_mode": {
    "name": "ipython",
    "version": 3
   },
   "file_extension": ".py",
   "mimetype": "text/x-python",
   "name": "python",
   "nbconvert_exporter": "python",
   "pygments_lexer": "ipython3",
   "version": "3.6.5"
  }
 },
 "nbformat": 4,
 "nbformat_minor": 1
}
