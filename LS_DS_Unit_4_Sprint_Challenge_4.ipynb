{
 "cells": [
  {
   "cell_type": "markdown",
   "metadata": {
    "colab_type": "text",
    "id": "xhU3R-8dzk5z"
   },
   "source": [
    "# Lambda School Data Science Unit 4 Sprint Challenge 4\n",
    "\n",
    "## RNNs, CNNs, AutoML, and more...\n",
    "\n",
    "In this sprint challenge, you'll explore some of the cutting edge of Data Science.\n",
    "\n",
    "*Caution* - these approaches can be pretty heavy computationally. All problems were designed so that you should be able to achieve results within at most 5-10 minutes of runtime on Colab or a comparable environment. If something is running longer, doublecheck your approach!"
   ]
  },
  {
   "cell_type": "markdown",
   "metadata": {
    "colab_type": "text",
    "id": "-5UwGRnJOmD4"
   },
   "source": [
    "## Part 1 - RNNs\n",
    "\n",
    "Use an RNN to fit a simple classification model on tweets to distinguish from tweets from Austen Allred and tweets from Weird Al Yankovic.\n",
    "\n",
    "Following is code to scrape the needed data (no API auth needed, uses [twitterscraper](https://github.com/taspinar/twitterscraper)):"
   ]
  },
  {
   "cell_type": "code",
   "execution_count": 1,
   "metadata": {
    "colab": {
     "base_uri": "https://localhost:8080/",
     "height": 350
    },
    "colab_type": "code",
    "id": "3if1yTMUoG3U",
    "outputId": "6075f571-d8b1-4e91-bfb9-26ad7a467261"
   },
   "outputs": [
    {
     "name": "stdout",
     "output_type": "stream",
     "text": [
      "Collecting twitterscraper\n",
      "  Downloading https://files.pythonhosted.org/packages/38/7d/0bf84247b78d7d223914cbf410e1160203a65d39086aaf8c6cad521cec74/twitterscraper-0.9.3.tar.gz\n",
      "Collecting coala-utils~=0.5.0 (from twitterscraper)\n",
      "  Downloading https://files.pythonhosted.org/packages/54/00/74ec750cfc4e830f9d1cfdd4d559f3d2d4ba1b834b78d5266446db3fd1d6/coala_utils-0.5.1-py3-none-any.whl\n",
      "Collecting bs4 (from twitterscraper)\n",
      "  Downloading https://files.pythonhosted.org/packages/10/ed/7e8b97591f6f456174139ec089c769f89a94a1a4025fe967691de971f314/bs4-0.0.1.tar.gz\n",
      "Requirement already satisfied: lxml in c:\\programdata\\anaconda3\\envs\\data_science_learning\\lib\\site-packages (from twitterscraper) (4.3.2)\n",
      "Requirement already satisfied: requests in c:\\programdata\\anaconda3\\envs\\data_science_learning\\lib\\site-packages (from twitterscraper) (2.21.0)\n",
      "Requirement already satisfied: beautifulsoup4 in c:\\programdata\\anaconda3\\envs\\data_science_learning\\lib\\site-packages (from bs4->twitterscraper) (4.7.1)\n",
      "Requirement already satisfied: urllib3<1.25,>=1.21.1 in c:\\programdata\\anaconda3\\envs\\data_science_learning\\lib\\site-packages (from requests->twitterscraper) (1.24.1)\n",
      "Requirement already satisfied: chardet<3.1.0,>=3.0.2 in c:\\programdata\\anaconda3\\envs\\data_science_learning\\lib\\site-packages (from requests->twitterscraper) (3.0.4)\n",
      "Requirement already satisfied: idna<2.9,>=2.5 in c:\\programdata\\anaconda3\\envs\\data_science_learning\\lib\\site-packages (from requests->twitterscraper) (2.8)\n",
      "Requirement already satisfied: certifi>=2017.4.17 in c:\\programdata\\anaconda3\\envs\\data_science_learning\\lib\\site-packages (from requests->twitterscraper) (2019.3.9)\n",
      "Requirement already satisfied: soupsieve>=1.2 in c:\\programdata\\anaconda3\\envs\\data_science_learning\\lib\\site-packages (from beautifulsoup4->bs4->twitterscraper) (1.7.1)\n",
      "Building wheels for collected packages: twitterscraper, bs4\n",
      "  Building wheel for twitterscraper (setup.py): started\n",
      "  Building wheel for twitterscraper (setup.py): finished with status 'done'\n",
      "  Stored in directory: C:\\Users\\edwar\\AppData\\Local\\pip\\Cache\\wheels\\45\\50\\9b\\70128bca07e2bf8b5ed3f504002e9e74a6eaa5e756341b6931\n",
      "  Building wheel for bs4 (setup.py): started\n",
      "  Building wheel for bs4 (setup.py): finished with status 'done'\n",
      "  Stored in directory: C:\\Users\\edwar\\AppData\\Local\\pip\\Cache\\wheels\\a0\\b0\\b2\\4f80b9456b87abedbc0bf2d52235414c3467d8889be38dd472\n",
      "Successfully built twitterscraper bs4\n",
      "Installing collected packages: coala-utils, bs4, twitterscraper\n",
      "Successfully installed bs4-0.0.1 coala-utils-0.5.1 twitterscraper-0.9.3\n"
     ]
    }
   ],
   "source": [
    "!pip install twitterscraper"
   ]
  },
  {
   "cell_type": "code",
   "execution_count": 2,
   "metadata": {
    "colab": {
     "base_uri": "https://localhost:8080/",
     "height": 1114
    },
    "colab_type": "code",
    "id": "DS-9ksWjoJit",
    "outputId": "0c3512e4-5cd4-4dc6-9cda-baf00c835f59"
   },
   "outputs": [
    {
     "name": "stderr",
     "output_type": "stream",
     "text": [
      "INFO: queries: ['from:austen since:2006-03-21 until:2006-11-14', 'from:austen since:2006-11-14 until:2007-07-11', 'from:austen since:2007-07-11 until:2008-03-05', 'from:austen since:2008-03-05 until:2008-10-30', 'from:austen since:2008-10-30 until:2009-06-25', 'from:austen since:2009-06-25 until:2010-02-19', 'from:austen since:2010-02-19 until:2010-10-15', 'from:austen since:2010-10-15 until:2011-06-11', 'from:austen since:2011-06-11 until:2012-02-04', 'from:austen since:2012-02-04 until:2012-09-30', 'from:austen since:2012-09-30 until:2013-05-26', 'from:austen since:2013-05-26 until:2014-01-20', 'from:austen since:2014-01-20 until:2014-09-15', 'from:austen since:2014-09-15 until:2015-05-12', 'from:austen since:2015-05-12 until:2016-01-05', 'from:austen since:2016-01-05 until:2016-08-31', 'from:austen since:2016-08-31 until:2017-04-26', 'from:austen since:2017-04-26 until:2017-12-21', 'from:austen since:2017-12-21 until:2018-08-16', 'from:austen since:2018-08-16 until:2019-04-12']\n",
      "INFO: Got 0 tweets (0 new).\n",
      "INFO: Got 0 tweets (0 new).\n",
      "INFO: Got 0 tweets (0 new).\n",
      "INFO: Got 0 tweets (0 new).\n",
      "INFO: Got 0 tweets (0 new).\n",
      "INFO: Got 0 tweets (0 new).\n",
      "INFO: Got 0 tweets (0 new).\n",
      "INFO: Got 0 tweets (0 new).\n",
      "INFO: Got 0 tweets (0 new).\n",
      "INFO: Got 0 tweets (0 new).\n",
      "INFO: Got 0 tweets (0 new).\n",
      "INFO: Got 0 tweets (0 new).\n",
      "INFO: Got 0 tweets (0 new).\n",
      "INFO: Got 0 tweets (0 new).\n",
      "INFO: Got 0 tweets (0 new).\n",
      "INFO: Got 0 tweets (0 new).\n",
      "INFO: Got 1 tweets (1 new).\n",
      "INFO: Got 61 tweets (60 new).\n",
      "INFO: Got 121 tweets (60 new).\n",
      "INFO: Got 181 tweets (60 new).\n"
     ]
    },
    {
     "data": {
      "text/plain": [
       "181"
      ]
     },
     "execution_count": 2,
     "metadata": {},
     "output_type": "execute_result"
    }
   ],
   "source": [
    "from twitterscraper import query_tweets\n",
    "\n",
    "austen_tweets = query_tweets('from:austen', 1000)\n",
    "len(austen_tweets)"
   ]
  },
  {
   "cell_type": "code",
   "execution_count": 3,
   "metadata": {
    "colab": {
     "base_uri": "https://localhost:8080/",
     "height": 34
    },
    "colab_type": "code",
    "id": "fLKqFh8DovaN",
    "outputId": "64b0d621-7e74-4181-9116-406e8c518465"
   },
   "outputs": [
    {
     "data": {
      "text/plain": [
       "'I love love love working with great people.pic.twitter.com/fCKOm6Vl'"
      ]
     },
     "execution_count": 3,
     "metadata": {},
     "output_type": "execute_result"
    }
   ],
   "source": [
    "austen_tweets[0].text"
   ]
  },
  {
   "cell_type": "code",
   "execution_count": 4,
   "metadata": {
    "colab": {
     "base_uri": "https://localhost:8080/",
     "height": 1114
    },
    "colab_type": "code",
    "id": "MRQeIIf1orCS",
    "outputId": "44b57b5e-2a0e-4656-ca06-d77637caf593"
   },
   "outputs": [
    {
     "name": "stderr",
     "output_type": "stream",
     "text": [
      "INFO: queries: ['from:AlYankovic since:2006-03-21 until:2006-11-14', 'from:AlYankovic since:2006-11-14 until:2007-07-11', 'from:AlYankovic since:2007-07-11 until:2008-03-05', 'from:AlYankovic since:2008-03-05 until:2008-10-30', 'from:AlYankovic since:2008-10-30 until:2009-06-25', 'from:AlYankovic since:2009-06-25 until:2010-02-19', 'from:AlYankovic since:2010-02-19 until:2010-10-15', 'from:AlYankovic since:2010-10-15 until:2011-06-11', 'from:AlYankovic since:2011-06-11 until:2012-02-04', 'from:AlYankovic since:2012-02-04 until:2012-09-30', 'from:AlYankovic since:2012-09-30 until:2013-05-26', 'from:AlYankovic since:2013-05-26 until:2014-01-20', 'from:AlYankovic since:2014-01-20 until:2014-09-15', 'from:AlYankovic since:2014-09-15 until:2015-05-12', 'from:AlYankovic since:2015-05-12 until:2016-01-05', 'from:AlYankovic since:2016-01-05 until:2016-08-31', 'from:AlYankovic since:2016-08-31 until:2017-04-26', 'from:AlYankovic since:2017-04-26 until:2017-12-21', 'from:AlYankovic since:2017-12-21 until:2018-08-16', 'from:AlYankovic since:2018-08-16 until:2019-04-12']\n",
      "INFO: Got 0 tweets (0 new).\n",
      "INFO: Got 0 tweets (0 new).\n",
      "INFO: Got 0 tweets (0 new).\n",
      "INFO: Got 0 tweets (0 new).\n",
      "INFO: Got 60 tweets (60 new).\n",
      "INFO: Got 120 tweets (60 new).\n",
      "INFO: Got 180 tweets (60 new).\n",
      "INFO: Got 240 tweets (60 new).\n",
      "INFO: Got 300 tweets (60 new).\n",
      "INFO: Got 360 tweets (60 new).\n",
      "INFO: Got 420 tweets (60 new).\n",
      "INFO: Got 480 tweets (60 new).\n",
      "INFO: Got 540 tweets (60 new).\n",
      "INFO: Got 600 tweets (60 new).\n",
      "INFO: Got 660 tweets (60 new).\n",
      "INFO: Got 720 tweets (60 new).\n",
      "INFO: Got 780 tweets (60 new).\n",
      "INFO: Got 840 tweets (60 new).\n",
      "INFO: Got 900 tweets (60 new).\n",
      "INFO: Got 960 tweets (60 new).\n"
     ]
    },
    {
     "data": {
      "text/plain": [
       "960"
      ]
     },
     "execution_count": 4,
     "metadata": {},
     "output_type": "execute_result"
    }
   ],
   "source": [
    "al_tweets = query_tweets('from:AlYankovic', 1000)\n",
    "len(al_tweets)"
   ]
  },
  {
   "cell_type": "code",
   "execution_count": 19,
   "metadata": {
    "colab": {
     "base_uri": "https://localhost:8080/",
     "height": 34
    },
    "colab_type": "code",
    "id": "_dB7I87ty8f1",
    "outputId": "38e7dffb-92bb-4a4c-8bbd-f1ddd951cc85"
   },
   "outputs": [
    {
     "data": {
      "text/plain": [
       "'Turns out this 1999 clip has TWO Oscar nominees: Octavia Spencer and Melissa McCarthy. They finally got the AL-TV bump!http://bit.ly/AbsdT1\\xa0'"
      ]
     },
     "execution_count": 19,
     "metadata": {},
     "output_type": "execute_result"
    }
   ],
   "source": [
    "al_tweets[5].text"
   ]
  },
  {
   "cell_type": "code",
   "execution_count": 7,
   "metadata": {
    "colab": {
     "base_uri": "https://localhost:8080/",
     "height": 34
    },
    "colab_type": "code",
    "id": "0mrcjEu_zRl4",
    "outputId": "cdea5ac9-bf26-434f-d2aa-fbc251c8ceef"
   },
   "outputs": [
    {
     "data": {
      "text/plain": [
       "1141"
      ]
     },
     "execution_count": 7,
     "metadata": {},
     "output_type": "execute_result"
    }
   ],
   "source": [
    "len(austen_tweets + al_tweets)"
   ]
  },
  {
   "cell_type": "markdown",
   "metadata": {
    "colab_type": "text",
    "id": "WYCVJX6ep8iO"
   },
   "source": [
    "Your tasks:\n",
    "\n",
    "- Encode the characters to a sequence of integers for the model\n",
    "- Get the data into the appropriate shape/format, including labels and a train/test split\n",
    "- Use Keras to fit a predictive model, classifying tweets as being from Austen versus Weird Al\n",
    "- Report your overall score and accuracy\n",
    "\n",
    "For reference, the [Keras IMDB sentiment classification example](https://github.com/keras-team/keras/blob/master/examples/imdb_lstm.py) will be useful, as well the RNN code we used in class.\n",
    "\n",
    "*Note* - focus on getting a running model, not on maxing accuracy with extreme data size or epoch numbers. Only revisit and push accuracy if you get everything else done!"
   ]
  },
  {
   "cell_type": "code",
   "execution_count": 4,
   "metadata": {},
   "outputs": [
    {
     "name": "stderr",
     "output_type": "stream",
     "text": [
      "Using TensorFlow backend.\n"
     ]
    }
   ],
   "source": [
    "import numpy as np\n",
    "import pandas as pd\n",
    "\n",
    "from keras.applications.resnet50 import preprocess_input, decode_predictions, ResNet50\n",
    "from keras.preprocessing.text import Tokenizer\n",
    "from keras.preprocessing import image, sequence\n",
    "from keras.models import Sequential\n",
    "from keras.layers import Dense, Dropout, Embedding, LSTM\n",
    "import matplotlib.image as mpimg\n",
    "import matplotlib.pyplot as plt\n",
    "from sklearn.model_selection import train_test_split\n",
    "from sklearn.preprocessing import MinMaxScaler\n",
    "from tpot import TPOTClassifier, TPOTRegressor\n",
    "from PIL import Image, ImageOps\n"
   ]
  },
  {
   "cell_type": "code",
   "execution_count": 49,
   "metadata": {},
   "outputs": [],
   "source": [
    "# convert our twitterscrapper objects to text\n",
    "al_text = [tweet.text for tweet in al_tweets]\n",
    "# assign to dataframe and add negative sentiment classification\n",
    "al_df = pd.DataFrame(al_text, columns=['tweets'])\n",
    "al_df['sentiment'] = 0\n",
    "\n",
    "# same as above swapping in for positive sentiment (well, not really sentiment, but you know...)\n",
    "austen_text = [tweet.text for tweet in austen_tweets]\n",
    "\n",
    "austen_df = pd.DataFrame(austen_text, columns=['tweets'])\n",
    "austen_df['sentiment'] = 1\n"
   ]
  },
  {
   "cell_type": "code",
   "execution_count": 50,
   "metadata": {},
   "outputs": [
    {
     "data": {
      "text/html": [
       "<div>\n",
       "<style scoped>\n",
       "    .dataframe tbody tr th:only-of-type {\n",
       "        vertical-align: middle;\n",
       "    }\n",
       "\n",
       "    .dataframe tbody tr th {\n",
       "        vertical-align: top;\n",
       "    }\n",
       "\n",
       "    .dataframe thead th {\n",
       "        text-align: right;\n",
       "    }\n",
       "</style>\n",
       "<table border=\"1\" class=\"dataframe\">\n",
       "  <thead>\n",
       "    <tr style=\"text-align: right;\">\n",
       "      <th></th>\n",
       "      <th>tweets</th>\n",
       "      <th>sentiment</th>\n",
       "    </tr>\n",
       "  </thead>\n",
       "  <tbody>\n",
       "    <tr>\n",
       "      <th>0</th>\n",
       "      <td>Kids!  Remember to leave a ground hog under yo...</td>\n",
       "      <td>0</td>\n",
       "    </tr>\n",
       "    <tr>\n",
       "      <th>1</th>\n",
       "      <td>Dixie Riddle Cups were the Twitter of 1973.</td>\n",
       "      <td>0</td>\n",
       "    </tr>\n",
       "    <tr>\n",
       "      <th>2</th>\n",
       "      <td>Sorry, but I still can’t get over it.  Unobtan...</td>\n",
       "      <td>0</td>\n",
       "    </tr>\n",
       "    <tr>\n",
       "      <th>3</th>\n",
       "      <td>What's YOUR favorite tobacco drink?  Mine's a ...</td>\n",
       "      <td>0</td>\n",
       "    </tr>\n",
       "    <tr>\n",
       "      <th>4</th>\n",
       "      <td>“It’s hard to pick a candidate to vote for – t...</td>\n",
       "      <td>0</td>\n",
       "    </tr>\n",
       "  </tbody>\n",
       "</table>\n",
       "</div>"
      ],
      "text/plain": [
       "                                              tweets  sentiment\n",
       "0  Kids!  Remember to leave a ground hog under yo...          0\n",
       "1        Dixie Riddle Cups were the Twitter of 1973.          0\n",
       "2  Sorry, but I still can’t get over it.  Unobtan...          0\n",
       "3  What's YOUR favorite tobacco drink?  Mine's a ...          0\n",
       "4  “It’s hard to pick a candidate to vote for – t...          0"
      ]
     },
     "execution_count": 50,
     "metadata": {},
     "output_type": "execute_result"
    }
   ],
   "source": [
    "al_df.head()"
   ]
  },
  {
   "cell_type": "code",
   "execution_count": 51,
   "metadata": {},
   "outputs": [
    {
     "data": {
      "text/html": [
       "<div>\n",
       "<style scoped>\n",
       "    .dataframe tbody tr th:only-of-type {\n",
       "        vertical-align: middle;\n",
       "    }\n",
       "\n",
       "    .dataframe tbody tr th {\n",
       "        vertical-align: top;\n",
       "    }\n",
       "\n",
       "    .dataframe thead th {\n",
       "        text-align: right;\n",
       "    }\n",
       "</style>\n",
       "<table border=\"1\" class=\"dataframe\">\n",
       "  <thead>\n",
       "    <tr style=\"text-align: right;\">\n",
       "      <th></th>\n",
       "      <th>tweets</th>\n",
       "      <th>sentiment</th>\n",
       "    </tr>\n",
       "  </thead>\n",
       "  <tbody>\n",
       "    <tr>\n",
       "      <th>0</th>\n",
       "      <td>I love love love working with great people.pic...</td>\n",
       "      <td>1</td>\n",
       "    </tr>\n",
       "    <tr>\n",
       "      <th>1</th>\n",
       "      <td>They won’t if the roads are reserved for cars</td>\n",
       "      <td>1</td>\n",
       "    </tr>\n",
       "    <tr>\n",
       "      <th>2</th>\n",
       "      <td>(In major cities, of course)</td>\n",
       "      <td>1</td>\n",
       "    </tr>\n",
       "    <tr>\n",
       "      <th>3</th>\n",
       "      <td>Ah, Google Docs.\\n\\nOr, as I like to call it, ...</td>\n",
       "      <td>1</td>\n",
       "    </tr>\n",
       "    <tr>\n",
       "      <th>4</th>\n",
       "      <td>Looks great. The trick is getting students to ...</td>\n",
       "      <td>1</td>\n",
       "    </tr>\n",
       "  </tbody>\n",
       "</table>\n",
       "</div>"
      ],
      "text/plain": [
       "                                              tweets  sentiment\n",
       "0  I love love love working with great people.pic...          1\n",
       "1      They won’t if the roads are reserved for cars          1\n",
       "2                       (In major cities, of course)          1\n",
       "3  Ah, Google Docs.\\n\\nOr, as I like to call it, ...          1\n",
       "4  Looks great. The trick is getting students to ...          1"
      ]
     },
     "execution_count": 51,
     "metadata": {},
     "output_type": "execute_result"
    }
   ],
   "source": [
    "austen_df.head()"
   ]
  },
  {
   "cell_type": "code",
   "execution_count": 54,
   "metadata": {},
   "outputs": [
    {
     "data": {
      "text/html": [
       "<div>\n",
       "<style scoped>\n",
       "    .dataframe tbody tr th:only-of-type {\n",
       "        vertical-align: middle;\n",
       "    }\n",
       "\n",
       "    .dataframe tbody tr th {\n",
       "        vertical-align: top;\n",
       "    }\n",
       "\n",
       "    .dataframe thead th {\n",
       "        text-align: right;\n",
       "    }\n",
       "</style>\n",
       "<table border=\"1\" class=\"dataframe\">\n",
       "  <thead>\n",
       "    <tr style=\"text-align: right;\">\n",
       "      <th></th>\n",
       "      <th>tweets</th>\n",
       "      <th>sentiment</th>\n",
       "    </tr>\n",
       "  </thead>\n",
       "  <tbody>\n",
       "    <tr>\n",
       "      <th>0</th>\n",
       "      <td>Kids!  Remember to leave a ground hog under yo...</td>\n",
       "      <td>0</td>\n",
       "    </tr>\n",
       "    <tr>\n",
       "      <th>1</th>\n",
       "      <td>Dixie Riddle Cups were the Twitter of 1973.</td>\n",
       "      <td>0</td>\n",
       "    </tr>\n",
       "    <tr>\n",
       "      <th>2</th>\n",
       "      <td>Sorry, but I still can’t get over it.  Unobtan...</td>\n",
       "      <td>0</td>\n",
       "    </tr>\n",
       "    <tr>\n",
       "      <th>3</th>\n",
       "      <td>What's YOUR favorite tobacco drink?  Mine's a ...</td>\n",
       "      <td>0</td>\n",
       "    </tr>\n",
       "    <tr>\n",
       "      <th>4</th>\n",
       "      <td>“It’s hard to pick a candidate to vote for – t...</td>\n",
       "      <td>0</td>\n",
       "    </tr>\n",
       "    <tr>\n",
       "      <th>5</th>\n",
       "      <td>Turns out this 1999 clip has TWO Oscar nominee...</td>\n",
       "      <td>0</td>\n",
       "    </tr>\n",
       "    <tr>\n",
       "      <th>6</th>\n",
       "      <td>Congrats to Oscar-nominee @octaviaspencer! You...</td>\n",
       "      <td>0</td>\n",
       "    </tr>\n",
       "    <tr>\n",
       "      <th>7</th>\n",
       "      <td>Hmmm... get my diamond-studded Vaseline jar re...</td>\n",
       "      <td>0</td>\n",
       "    </tr>\n",
       "    <tr>\n",
       "      <th>8</th>\n",
       "      <td>People love walking on flat surfaces so much t...</td>\n",
       "      <td>0</td>\n",
       "    </tr>\n",
       "    <tr>\n",
       "      <th>9</th>\n",
       "      <td>I'm astonished by some of these Oscar snubs. R...</td>\n",
       "      <td>0</td>\n",
       "    </tr>\n",
       "    <tr>\n",
       "      <th>10</th>\n",
       "      <td>It's Sandwich Monday, kids!http://n.pr/w0DXhl</td>\n",
       "      <td>0</td>\n",
       "    </tr>\n",
       "    <tr>\n",
       "      <th>11</th>\n",
       "      <td>Paul's First Blog Post to the Corinthians #Upd...</td>\n",
       "      <td>0</td>\n",
       "    </tr>\n",
       "    <tr>\n",
       "      <th>12</th>\n",
       "      <td>Why aren't they asking the important questions...</td>\n",
       "      <td>0</td>\n",
       "    </tr>\n",
       "    <tr>\n",
       "      <th>13</th>\n",
       "      <td>COREY HART!!!  #WhatItSoundsLikeWhenIVomit</td>\n",
       "      <td>0</td>\n",
       "    </tr>\n",
       "    <tr>\n",
       "      <th>14</th>\n",
       "      <td>If I had a pet crab, I would totally name him ...</td>\n",
       "      <td>0</td>\n",
       "    </tr>\n",
       "    <tr>\n",
       "      <th>15</th>\n",
       "      <td>If you eliminate the possibility of social int...</td>\n",
       "      <td>0</td>\n",
       "    </tr>\n",
       "    <tr>\n",
       "      <th>16</th>\n",
       "      <td>AHHH!  OH GOD I’M DYING!  NOOO!!!  I—oh, wait,...</td>\n",
       "      <td>0</td>\n",
       "    </tr>\n",
       "    <tr>\n",
       "      <th>17</th>\n",
       "      <td>Oh, thank goodness.  Now I don’t have to use t...</td>\n",
       "      <td>0</td>\n",
       "    </tr>\n",
       "    <tr>\n",
       "      <th>18</th>\n",
       "      <td>Decided to do my Valentine’s Day shopping earl...</td>\n",
       "      <td>0</td>\n",
       "    </tr>\n",
       "    <tr>\n",
       "      <th>19</th>\n",
       "      <td>Our family hiking motto: Take Only Memories, L...</td>\n",
       "      <td>0</td>\n",
       "    </tr>\n",
       "    <tr>\n",
       "      <th>20</th>\n",
       "      <td>Yeah.  DOG toys.http://twitpic.com/86tcnf</td>\n",
       "      <td>0</td>\n",
       "    </tr>\n",
       "    <tr>\n",
       "      <th>21</th>\n",
       "      <td>Finally decided what I’m wearing to the Grammy...</td>\n",
       "      <td>0</td>\n",
       "    </tr>\n",
       "    <tr>\n",
       "      <th>22</th>\n",
       "      <td>\"Mortality!  ACK!!\" -- Cathy, on her death bed</td>\n",
       "      <td>0</td>\n",
       "    </tr>\n",
       "    <tr>\n",
       "      <th>23</th>\n",
       "      <td>Nothing in the world makes you feel as worthle...</td>\n",
       "      <td>0</td>\n",
       "    </tr>\n",
       "    <tr>\n",
       "      <th>24</th>\n",
       "      <td>I’m thinking about opening a karate school for...</td>\n",
       "      <td>0</td>\n",
       "    </tr>\n",
       "    <tr>\n",
       "      <th>25</th>\n",
       "      <td>Thanks, HuffPo, for always filling me in on wh...</td>\n",
       "      <td>0</td>\n",
       "    </tr>\n",
       "    <tr>\n",
       "      <th>26</th>\n",
       "      <td>If the guy at Hertz Rent-a-Car asks if you wan...</td>\n",
       "      <td>0</td>\n",
       "    </tr>\n",
       "    <tr>\n",
       "      <th>27</th>\n",
       "      <td>I’m usually the one who winds up having to ask...</td>\n",
       "      <td>0</td>\n",
       "    </tr>\n",
       "    <tr>\n",
       "      <th>28</th>\n",
       "      <td>DVR Alert!  My episode of “Behind the Music Re...</td>\n",
       "      <td>0</td>\n",
       "    </tr>\n",
       "    <tr>\n",
       "      <th>29</th>\n",
       "      <td>“Hey, come on, @IamDonCheadle, I would be GREA...</td>\n",
       "      <td>0</td>\n",
       "    </tr>\n",
       "    <tr>\n",
       "      <th>...</th>\n",
       "      <td>...</td>\n",
       "      <td>...</td>\n",
       "    </tr>\n",
       "    <tr>\n",
       "      <th>151</th>\n",
       "      <td>Just might!</td>\n",
       "      <td>1</td>\n",
       "    </tr>\n",
       "    <tr>\n",
       "      <th>152</th>\n",
       "      <td>If you have that graph at that scale you can d...</td>\n",
       "      <td>1</td>\n",
       "    </tr>\n",
       "    <tr>\n",
       "      <th>153</th>\n",
       "      <td>I love that Rippling used a memo instead of a ...</td>\n",
       "      <td>1</td>\n",
       "    </tr>\n",
       "    <tr>\n",
       "      <th>154</th>\n",
       "      <td>The lambda school ISA disappears after five ye...</td>\n",
       "      <td>1</td>\n",
       "    </tr>\n",
       "    <tr>\n",
       "      <th>155</th>\n",
       "      <td>Not really. If you’re going to make $49k just ...</td>\n",
       "      <td>1</td>\n",
       "    </tr>\n",
       "    <tr>\n",
       "      <th>156</th>\n",
       "      <td>Sounds like @Opendoor</td>\n",
       "      <td>1</td>\n",
       "    </tr>\n",
       "    <tr>\n",
       "      <th>157</th>\n",
       "      <td>SF was selling them for $250k</td>\n",
       "      <td>1</td>\n",
       "    </tr>\n",
       "    <tr>\n",
       "      <th>158</th>\n",
       "      <td>I’m not a PR expert, but I’ve got to think, “l...</td>\n",
       "      <td>1</td>\n",
       "    </tr>\n",
       "    <tr>\n",
       "      <th>159</th>\n",
       "      <td>Based on what I know about invention the key i...</td>\n",
       "      <td>1</td>\n",
       "    </tr>\n",
       "    <tr>\n",
       "      <th>160</th>\n",
       "      <td>Oh sorry I read that as how many have gotten h...</td>\n",
       "      <td>1</td>\n",
       "    </tr>\n",
       "    <tr>\n",
       "      <th>161</th>\n",
       "      <td>Temped to say, “if you do what we are telling ...</td>\n",
       "      <td>1</td>\n",
       "    </tr>\n",
       "    <tr>\n",
       "      <th>162</th>\n",
       "      <td>18 months is correct, yes</td>\n",
       "      <td>1</td>\n",
       "    </tr>\n",
       "    <tr>\n",
       "      <th>163</th>\n",
       "      <td>Not necessarily. A refund doesn’t mean there’s...</td>\n",
       "      <td>1</td>\n",
       "    </tr>\n",
       "    <tr>\n",
       "      <th>164</th>\n",
       "      <td>Cc @KarenDZachary</td>\n",
       "      <td>1</td>\n",
       "    </tr>\n",
       "    <tr>\n",
       "      <th>165</th>\n",
       "      <td>If those were our numbers we’d go out of business</td>\n",
       "      <td>1</td>\n",
       "    </tr>\n",
       "    <tr>\n",
       "      <th>166</th>\n",
       "      <td>And I actually think there will be fewer in th...</td>\n",
       "      <td>1</td>\n",
       "    </tr>\n",
       "    <tr>\n",
       "      <th>167</th>\n",
       "      <td>Not really other than start a flame war with s...</td>\n",
       "      <td>1</td>\n",
       "    </tr>\n",
       "    <tr>\n",
       "      <th>168</th>\n",
       "      <td>Yeah, there is still a lot the government does...</td>\n",
       "      <td>1</td>\n",
       "    </tr>\n",
       "    <tr>\n",
       "      <th>169</th>\n",
       "      <td>What % of tax filings could be 100% automated?...</td>\n",
       "      <td>1</td>\n",
       "    </tr>\n",
       "    <tr>\n",
       "      <th>170</th>\n",
       "      <td>OP is literally the only person in his cohort ...</td>\n",
       "      <td>1</td>\n",
       "    </tr>\n",
       "    <tr>\n",
       "      <th>171</th>\n",
       "      <td>They’re all hired currently</td>\n",
       "      <td>1</td>\n",
       "    </tr>\n",
       "    <tr>\n",
       "      <th>172</th>\n",
       "      <td>No that’s not in the plans right now</td>\n",
       "      <td>1</td>\n",
       "    </tr>\n",
       "    <tr>\n",
       "      <th>173</th>\n",
       "      <td>No results there yet, takes a month or two to ...</td>\n",
       "      <td>1</td>\n",
       "    </tr>\n",
       "    <tr>\n",
       "      <th>174</th>\n",
       "      <td>Ya we teach some kotlin but java is still the ...</td>\n",
       "      <td>1</td>\n",
       "    </tr>\n",
       "    <tr>\n",
       "      <th>175</th>\n",
       "      <td>Try the precourse</td>\n",
       "      <td>1</td>\n",
       "    </tr>\n",
       "    <tr>\n",
       "      <th>176</th>\n",
       "      <td>https://learn.lambdaschool.com/syllabus/cs-and</td>\n",
       "      <td>1</td>\n",
       "    </tr>\n",
       "    <tr>\n",
       "      <th>177</th>\n",
       "      <td>haven't graduated yet</td>\n",
       "      <td>1</td>\n",
       "    </tr>\n",
       "    <tr>\n",
       "      <th>178</th>\n",
       "      <td>Let's just say these are good numbers</td>\n",
       "      <td>1</td>\n",
       "    </tr>\n",
       "    <tr>\n",
       "      <th>179</th>\n",
       "      <td>Just hit 24 Lambda School students with job of...</td>\n",
       "      <td>1</td>\n",
       "    </tr>\n",
       "    <tr>\n",
       "      <th>180</th>\n",
       "      <td>Thanks for being a part of it!</td>\n",
       "      <td>1</td>\n",
       "    </tr>\n",
       "  </tbody>\n",
       "</table>\n",
       "<p>1141 rows × 2 columns</p>\n",
       "</div>"
      ],
      "text/plain": [
       "                                                tweets  sentiment\n",
       "0    Kids!  Remember to leave a ground hog under yo...          0\n",
       "1          Dixie Riddle Cups were the Twitter of 1973.          0\n",
       "2    Sorry, but I still can’t get over it.  Unobtan...          0\n",
       "3    What's YOUR favorite tobacco drink?  Mine's a ...          0\n",
       "4    “It’s hard to pick a candidate to vote for – t...          0\n",
       "5    Turns out this 1999 clip has TWO Oscar nominee...          0\n",
       "6    Congrats to Oscar-nominee @octaviaspencer! You...          0\n",
       "7    Hmmm... get my diamond-studded Vaseline jar re...          0\n",
       "8    People love walking on flat surfaces so much t...          0\n",
       "9    I'm astonished by some of these Oscar snubs. R...          0\n",
       "10      It's Sandwich Monday, kids!http://n.pr/w0DXhl           0\n",
       "11   Paul's First Blog Post to the Corinthians #Upd...          0\n",
       "12   Why aren't they asking the important questions...          0\n",
       "13          COREY HART!!!  #WhatItSoundsLikeWhenIVomit          0\n",
       "14   If I had a pet crab, I would totally name him ...          0\n",
       "15   If you eliminate the possibility of social int...          0\n",
       "16   AHHH!  OH GOD I’M DYING!  NOOO!!!  I—oh, wait,...          0\n",
       "17   Oh, thank goodness.  Now I don’t have to use t...          0\n",
       "18   Decided to do my Valentine’s Day shopping earl...          0\n",
       "19   Our family hiking motto: Take Only Memories, L...          0\n",
       "20          Yeah.  DOG toys.http://twitpic.com/86tcnf           0\n",
       "21   Finally decided what I’m wearing to the Grammy...          0\n",
       "22      \"Mortality!  ACK!!\" -- Cathy, on her death bed          0\n",
       "23   Nothing in the world makes you feel as worthle...          0\n",
       "24   I’m thinking about opening a karate school for...          0\n",
       "25   Thanks, HuffPo, for always filling me in on wh...          0\n",
       "26   If the guy at Hertz Rent-a-Car asks if you wan...          0\n",
       "27   I’m usually the one who winds up having to ask...          0\n",
       "28   DVR Alert!  My episode of “Behind the Music Re...          0\n",
       "29   “Hey, come on, @IamDonCheadle, I would be GREA...          0\n",
       "..                                                 ...        ...\n",
       "151                                        Just might!          1\n",
       "152  If you have that graph at that scale you can d...          1\n",
       "153  I love that Rippling used a memo instead of a ...          1\n",
       "154  The lambda school ISA disappears after five ye...          1\n",
       "155  Not really. If you’re going to make $49k just ...          1\n",
       "156                              Sounds like @Opendoor          1\n",
       "157                      SF was selling them for $250k          1\n",
       "158  I’m not a PR expert, but I’ve got to think, “l...          1\n",
       "159  Based on what I know about invention the key i...          1\n",
       "160  Oh sorry I read that as how many have gotten h...          1\n",
       "161  Temped to say, “if you do what we are telling ...          1\n",
       "162                          18 months is correct, yes          1\n",
       "163  Not necessarily. A refund doesn’t mean there’s...          1\n",
       "164                                  Cc @KarenDZachary          1\n",
       "165  If those were our numbers we’d go out of business          1\n",
       "166  And I actually think there will be fewer in th...          1\n",
       "167  Not really other than start a flame war with s...          1\n",
       "168  Yeah, there is still a lot the government does...          1\n",
       "169  What % of tax filings could be 100% automated?...          1\n",
       "170  OP is literally the only person in his cohort ...          1\n",
       "171                        They’re all hired currently          1\n",
       "172               No that’s not in the plans right now          1\n",
       "173  No results there yet, takes a month or two to ...          1\n",
       "174  Ya we teach some kotlin but java is still the ...          1\n",
       "175                                  Try the precourse          1\n",
       "176    https://learn.lambdaschool.com/syllabus/cs-and           1\n",
       "177                              haven't graduated yet          1\n",
       "178              Let's just say these are good numbers          1\n",
       "179  Just hit 24 Lambda School students with job of...          1\n",
       "180                     Thanks for being a part of it!          1\n",
       "\n",
       "[1141 rows x 2 columns]"
      ]
     },
     "execution_count": 54,
     "metadata": {},
     "output_type": "execute_result"
    }
   ],
   "source": [
    "# join the two dataframes\n",
    "final_df = pd.concat([al_df, austen_df])\n",
    "final_df"
   ]
  },
  {
   "cell_type": "code",
   "execution_count": 122,
   "metadata": {},
   "outputs": [
    {
     "name": "stdout",
     "output_type": "stream",
     "text": [
      "[[0. 1. 0. ... 0. 0. 0.]\n",
      " [0. 1. 0. ... 0. 0. 0.]\n",
      " [0. 0. 0. ... 0. 0. 0.]\n",
      " ...\n",
      " [0. 0. 0. ... 0. 0. 0.]\n",
      " [0. 0. 0. ... 0. 0. 1.]\n",
      " [0. 0. 0. ... 0. 0. 0.]]\n"
     ]
    }
   ],
   "source": [
    "# split our data into X, y for train_test_split and convert to integer with keras Tokenizer\n",
    "X = [tweet for tweet in final_df.tweets] \n",
    "y = [classifier for classifier in final_df.sentiment]\n",
    "t = Tokenizer()\n",
    "# fit the tokenizer on the documents\n",
    "t.fit_on_texts(X)\n",
    "# integer encode documents\n",
    "encoded_docs = t.texts_to_matrix(X, mode='count')\n",
    "\n",
    "print(encoded_docs)\n",
    "\n",
    "# needed extra preprocessing for y or it will bug out\n",
    "y = np.array(y)\n",
    "\n",
    "X_train, X_test, y_train, y_test = train_test_split(encoded_docs, y, stratify=y)"
   ]
  },
  {
   "cell_type": "code",
   "execution_count": null,
   "metadata": {},
   "outputs": [],
   "source": []
  },
  {
   "cell_type": "code",
   "execution_count": 109,
   "metadata": {
    "colab": {},
    "colab_type": "code",
    "id": "_QVSlFEAqWJM"
   },
   "outputs": [],
   "source": [
    "max_features = 5000\n",
    "# cut texts after this number of words (among top max_features most common words)\n",
    "maxlen = 85\n",
    "batch_size = 200\n",
    "\n",
    "X_train = sequence.pad_sequences(X_train, maxlen=maxlen)\n",
    "X_test = sequence.pad_sequences(X_test, maxlen=maxlen)"
   ]
  },
  {
   "cell_type": "code",
   "execution_count": 110,
   "metadata": {},
   "outputs": [
    {
     "name": "stdout",
     "output_type": "stream",
     "text": [
      "x_train shape: (855, 85)\n",
      "x_test shape: (286, 85)\n"
     ]
    }
   ],
   "source": [
    "print('x_train shape:', X_train.shape)\n",
    "print('x_test shape:', X_test.shape)"
   ]
  },
  {
   "cell_type": "code",
   "execution_count": 111,
   "metadata": {},
   "outputs": [
    {
     "data": {
      "text/plain": [
       "array([[0, 0, 0, ..., 0, 0, 0],\n",
       "       [0, 0, 0, ..., 0, 0, 0],\n",
       "       [0, 0, 0, ..., 0, 0, 0],\n",
       "       ...,\n",
       "       [0, 0, 0, ..., 0, 0, 0],\n",
       "       [0, 0, 0, ..., 0, 0, 0],\n",
       "       [0, 0, 0, ..., 0, 0, 0]])"
      ]
     },
     "execution_count": 111,
     "metadata": {},
     "output_type": "execute_result"
    }
   ],
   "source": [
    "X_train"
   ]
  },
  {
   "cell_type": "code",
   "execution_count": 135,
   "metadata": {},
   "outputs": [],
   "source": [
    "model = Sequential()\n",
    "model.add(Dense(512, input_shape=(4864,), activation='relu'))\n",
    "model.add(Dropout(0.2))\n",
    "model.add(Dense(256, activation='relu'))\n",
    "model.add(Dropout(0.2))\n",
    "model.add(Dense(1, activation='sigmoid'))"
   ]
  },
  {
   "cell_type": "code",
   "execution_count": 136,
   "metadata": {},
   "outputs": [],
   "source": [
    "model.compile(loss='binary_crossentropy',\n",
    "  optimizer='adam',\n",
    "  metrics=['accuracy'])"
   ]
  },
  {
   "cell_type": "code",
   "execution_count": 138,
   "metadata": {},
   "outputs": [
    {
     "name": "stdout",
     "output_type": "stream",
     "text": [
      "Train on 769 samples, validate on 86 samples\n",
      "Epoch 1/15\n",
      "769/769 [==============================] - 0s 84us/step - loss: 2.7079e-06 - acc: 1.0000 - val_loss: 0.8127 - val_acc: 0.8488\n",
      "Epoch 2/15\n",
      "769/769 [==============================] - 0s 79us/step - loss: 1.3524e-06 - acc: 1.0000 - val_loss: 0.8131 - val_acc: 0.8488\n",
      "Epoch 3/15\n",
      "769/769 [==============================] - 0s 81us/step - loss: 2.0887e-06 - acc: 1.0000 - val_loss: 0.8138 - val_acc: 0.8488\n",
      "Epoch 4/15\n",
      "769/769 [==============================] - 0s 83us/step - loss: 2.0539e-06 - acc: 1.0000 - val_loss: 0.8140 - val_acc: 0.8488\n",
      "Epoch 5/15\n",
      "769/769 [==============================] - 0s 83us/step - loss: 1.8974e-06 - acc: 1.0000 - val_loss: 0.8141 - val_acc: 0.8488\n",
      "Epoch 6/15\n",
      "769/769 [==============================] - 0s 84us/step - loss: 1.8358e-06 - acc: 1.0000 - val_loss: 0.8142 - val_acc: 0.8488\n",
      "Epoch 7/15\n",
      "769/769 [==============================] - 0s 82us/step - loss: 1.7158e-06 - acc: 1.0000 - val_loss: 0.8141 - val_acc: 0.8488\n",
      "Epoch 8/15\n",
      "769/769 [==============================] - 0s 84us/step - loss: 2.4513e-06 - acc: 1.0000 - val_loss: 0.8140 - val_acc: 0.8488\n",
      "Epoch 9/15\n",
      "769/769 [==============================] - 0s 82us/step - loss: 1.2439e-06 - acc: 1.0000 - val_loss: 0.8139 - val_acc: 0.8488\n",
      "Epoch 10/15\n",
      "769/769 [==============================] - 0s 83us/step - loss: 1.1567e-06 - acc: 1.0000 - val_loss: 0.8144 - val_acc: 0.8488\n",
      "Epoch 11/15\n",
      "769/769 [==============================] - 0s 88us/step - loss: 1.3433e-06 - acc: 1.0000 - val_loss: 0.8147 - val_acc: 0.8488\n",
      "Epoch 12/15\n",
      "769/769 [==============================] - 0s 84us/step - loss: 1.5604e-06 - acc: 1.0000 - val_loss: 0.8150 - val_acc: 0.8488\n",
      "Epoch 13/15\n",
      "769/769 [==============================] - 0s 83us/step - loss: 2.3626e-06 - acc: 1.0000 - val_loss: 0.8156 - val_acc: 0.8488\n",
      "Epoch 14/15\n",
      "769/769 [==============================] - 0s 86us/step - loss: 1.5255e-06 - acc: 1.0000 - val_loss: 0.8161 - val_acc: 0.8488\n",
      "Epoch 15/15\n",
      "769/769 [==============================] - 0s 84us/step - loss: 1.7833e-06 - acc: 1.0000 - val_loss: 0.8162 - val_acc: 0.8488\n"
     ]
    },
    {
     "data": {
      "text/plain": [
       "<keras.callbacks.History at 0x214fc860710>"
      ]
     },
     "execution_count": 138,
     "metadata": {},
     "output_type": "execute_result"
    }
   ],
   "source": [
    "model.fit(X_train, y_train,\n",
    "  batch_size=100,\n",
    "  epochs=15,\n",
    "  verbose=1,\n",
    "  validation_split=0.1,\n",
    "  shuffle=True)"
   ]
  },
  {
   "cell_type": "code",
   "execution_count": 139,
   "metadata": {},
   "outputs": [
    {
     "name": "stdout",
     "output_type": "stream",
     "text": [
      "286/286 [==============================] - 0s 49us/step\n",
      "Test score: 0.44762136907010647\n",
      "Test accuracy: 0.8881118943641236\n"
     ]
    }
   ],
   "source": [
    "score, acc = model.evaluate(X_test, y_test,\n",
    "                            batch_size=100)\n",
    "print('Test score:', score)\n",
    "print('Test accuracy:', acc)"
   ]
  },
  {
   "cell_type": "markdown",
   "metadata": {
    "colab_type": "text",
    "id": "lPn6c0x21gu1"
   },
   "source": [
    "Conclusion - RNN runs, and gives pretty decent improvement over a naive \"It's Al!\" model. To *really* improve the model, more playing with parameters, and just getting more data (particularly Austen tweets), would help. Also - RNN may well not be the best approach here, but it is at least a valid one."
   ]
  },
  {
   "cell_type": "markdown",
   "metadata": {
    "colab_type": "text",
    "id": "yz0LCZd_O4IG"
   },
   "source": [
    "## Part 2- CNNs\n",
    "\n",
    "Time to play \"find the frog!\" Use Keras and ResNet50 to detect which of the following images contain frogs:"
   ]
  },
  {
   "cell_type": "code",
   "execution_count": 140,
   "metadata": {
    "colab": {
     "base_uri": "https://localhost:8080/",
     "height": 245
    },
    "colab_type": "code",
    "id": "whIqEWR236Af",
    "outputId": "7a74e30d-310d-4a3a-9ae4-5bf52d137bda"
   },
   "outputs": [
    {
     "name": "stdout",
     "output_type": "stream",
     "text": [
      "Collecting google_images_download\n",
      "  Downloading https://files.pythonhosted.org/packages/43/51/49ebfd3a02945974b1d93e34bb96a1f9530a0dde9c2bc022b30fd658edd6/google_images_download-2.5.0.tar.gz\n",
      "Requirement already satisfied: selenium in c:\\programdata\\anaconda3\\envs\\data_science_learning\\lib\\site-packages (from google_images_download) (3.141.0)\n",
      "Requirement already satisfied: urllib3 in c:\\programdata\\anaconda3\\envs\\data_science_learning\\lib\\site-packages (from selenium->google_images_download) (1.24.1)\n",
      "Building wheels for collected packages: google-images-download\n",
      "  Building wheel for google-images-download (setup.py): started\n",
      "  Building wheel for google-images-download (setup.py): finished with status 'done'\n",
      "  Stored in directory: C:\\Users\\edwar\\AppData\\Local\\pip\\Cache\\wheels\\d2\\23\\84\\3cec6d566b88bef64ad727a7e805f6544b8af4a8f121f9691c\n",
      "Successfully built google-images-download\n",
      "Installing collected packages: google-images-download\n",
      "Successfully installed google-images-download-2.5.0\n"
     ]
    }
   ],
   "source": [
    "!pip install google_images_download"
   ]
  },
  {
   "cell_type": "code",
   "execution_count": 202,
   "metadata": {
    "colab": {
     "base_uri": "https://localhost:8080/",
     "height": 332
    },
    "colab_type": "code",
    "id": "EKnnnM8k38sN",
    "outputId": "59f477e9-0b25-4a38-9678-af24e0176535"
   },
   "outputs": [
    {
     "name": "stdout",
     "output_type": "stream",
     "text": [
      "\n",
      "Item no.: 1 --> Item name = animal pond\n",
      "Evaluating...\n",
      "Starting Download...\n",
      "Image URL: https://www.enchantedlearning.com/pgifs/Pondanimals.GIF\n",
      "Completed Image ====> 1. pondanimals.gif\n",
      "Image URL: https://i.ytimg.com/vi/NCbu0TND9vE/hqdefault.jpg\n",
      "Completed Image ====> 2. hqdefault.jpg\n",
      "Image URL: https://pklifescience.com/staticfiles/articles/images/PKLS4116_inline.png\n",
      "Completed Image ====> 3. pkls4116_inline.png\n",
      "Image URL: https://pixnio.com/free-images/fauna-animals/reptiles-and-amphibians/alligators-and-crocodiles-pictures/alligator-animal-on-pond.jpg\n",
      "Completed Image ====> 4. alligator-animal-on-pond.jpg\n",
      "Image URL: https://www.nwf.org/-/media/NEW-WEBSITE/Programs/Garden-for-Wildlife/amphibian_bronze-frog_Julia-Bartosh_400x267.ashx\n",
      "Completed Image ====> 5. amphibian_bronze-frog_julia-bartosh_400x267.ash\n",
      "Image URL: https://cdn.pixabay.com/photo/2017/08/17/06/32/goose-2650209_960_720.jpg\n",
      "Completed Image ====> 6. goose-2650209_960_720.jpg\n",
      "Image URL: https://www.pixoto.com/images-photography/animals/birds/birds-in-a-pond-5986310798966784.jpg\n",
      "Completed Image ====> 7. birds-in-a-pond-5986310798966784.jpg\n",
      "Image URL: https://cdn.pixabay.com/photo/2017/04/19/20/37/frog-2243543_960_720.jpg\n",
      "Completed Image ====> 8. frog-2243543_960_720.jpg\n",
      "Image URL: https://www.nycgovparks.org/pagefiles/88/urban-wildlife-morningside-red-ear-slider-lg.jpg\n",
      "Completed Image ====> 9. urban-wildlife-morningside-red-ear-slider-lg.jpg\n",
      "Image URL: https://get.pxhere.com/photo/water-animal-pond-wildlife-mammal-fish-eat-fauna-whiskers-vertebrate-otter-mink-marmot-sea-otter-mustelidae-1383482.jpg\n",
      "Completed Image ====> 10. water-animal-pond-wildlife-mammal-fish-eat-fauna-whiskers-vertebrate-otter-mink-marmot-sea-otter-mustelidae-1383482.jpg\n",
      "Image URL: https://i.pinimg.com/originals/12/ae/e2/12aee2aa186a7b69a66563f138bba822.jpg\n",
      "Completed Image ====> 11. 12aee2aa186a7b69a66563f138bba822.jpg\n",
      "Image URL: https://pklifescience.com/staticfiles/articles/images/PKLS4116.png\n",
      "Completed Image ====> 12. pkls4116.png\n",
      "Image URL: https://i.ytimg.com/vi/uHdZb0LJZNQ/maxresdefault.jpg\n",
      "Completed Image ====> 13. maxresdefault.jpg\n",
      "Image URL: https://cdn.pixabay.com/photo/2014/05/24/18/20/turtles-353033_960_720.jpg\n",
      "Completed Image ====> 14. turtles-353033_960_720.jpg\n",
      "Image URL: https://www.amsterdam.nl/publish/pages/867647/zwanen2.jpg\n",
      "Completed Image ====> 15. zwanen2.jpg\n",
      "Image URL: http://extension.msstate.edu/sites/default/files/news/extension-outdoors/2016/eo20151113_turtle300.jpg\n",
      "Completed Image ====> 16. eo20151113_turtle300.jpg\n",
      "Image URL: https://cbspittsburgh.files.wordpress.com/2019/03/pittsburgh-zoo-nyala.jpg?w=420&h=236\n",
      "Completed Image ====> 17. pittsburgh-zoo-nyala.jpg\n",
      "Image URL: https://static1.squarespace.com/static/4f6c8d6ae4b08696a7443c8b/4f6d2f406a9bf2a880d5a334/5a0103cf71c10b9d51bed2a5/1510070425583/raccoon-2894866_960_720.jpg?format=500w\n",
      "Completed Image ====> 18. raccoon-2894866_960_720.jpg\n",
      "Image URL: http://www.wou.edu/~bledsoek/pond_organisms/pond_organism_list_files/image001.jpg\n",
      "Completed Image ====> 19. image001.jpg\n",
      "Image URL: http://animalli.com/wp-content/uploads/2016/09/birds-nature-mother-pond-babies-cute-animals-reflection-wildlife-grass-lakes-swans-picture-of-spring.jpg\n",
      "URLError on an image...trying next one... Error: HTTP Error 403: Forbidden\n",
      "Image URL: https://www.maxpixel.net/static/photo/1x/Animal-Pond-Nature-Green-Amphibian-Toad-Frog-4120745.jpg\n",
      "Completed Image ====> 20. animal-pond-nature-green-amphibian-toad-frog-4120745.jpg\n",
      "Image URL: http://www.ict.mic.ul.ie/bed3/2008_sites/bridget_osullivan/Pond%20Map.gif\n",
      "Completed Image ====> 21. pond%20map.gif\n",
      "Image URL: https://study.com/cimages/multimages/16/b6d11fcf-4717-46ee-a3c4-954732a696c4_turtle.jpg\n",
      "Completed Image ====> 22. b6d11fcf-4717-46ee-a3c4-954732a696c4_turtle.jpg\n",
      "Image URL: https://i.pinimg.com/originals/41/6e/0e/416e0eff5efce95e87fae13b90d0b37a.jpg\n",
      "Completed Image ====> 23. 416e0eff5efce95e87fae13b90d0b37a.jpg\n",
      "Image URL: https://cbspittsburgh.files.wordpress.com/2019/03/pittsburgh-zoo-nyala-rescue.jpg?w=1024\n",
      "Completed Image ====> 24. pittsburgh-zoo-nyala-rescue.jpg\n",
      "Image URL: https://image.shutterstock.com/image-photo/ducks-on-pond-260nw-751854253.jpg\n",
      "Completed Image ====> 25. ducks-on-pond-260nw-751854253.jpg\n",
      "Image URL: https://www.nualgiponds.com/wp-content/uploads/2018/06/raccoon-in-pond.jpg\n",
      "Completed Image ====> 26. raccoon-in-pond.jpg\n",
      "Image URL: https://www.thesprucepets.com/thmb/-dEdNUVdjwa4MvXVPZz3HcIrULE=/400x300/filters:no_upscale():max_bytes(150000):strip_icc()/basking-red-eared-turtle-1488378_1920-5934e53e3df78c08abe2893c.jpg\n",
      "Completed Image ====> 27. basking-red-eared-turtle-1488378_1920-5934e53e3df78c08abe2893c.jpg\n",
      "Image URL: https://localtvwnep.files.wordpress.com/2018/11/lacka-griffin.jpeg?quality=85&strip=all&w=1200\n",
      "Completed Image ====> 28. lacka-griffin.jpeg\n",
      "Image URL: https://usercontent1.hubstatic.com/14036930_f1024.jpg\n",
      "Completed Image ====> 29. 14036930_f1024.jpg\n",
      "Image URL: https://img-aws.ehowcdn.com/750x428p/photos.demandstudios.com/getty/article/178/192/87827228_XS.jpg\n",
      "Completed Image ====> 30. 87827228_xs.jpg\n",
      "Image URL: https://www.scienceabc.com/wp-content/uploads/2016/10/Fishes-in-lake.jpg\n",
      "Completed Image ====> 31. fishes-in-lake.jpg\n",
      "Image URL: http://www.wildlifeanimalcontrol.com/images/infootter.jpg\n",
      "Completed Image ====> 32. infootter.jpg\n",
      "Image URL: https://www.murphy-animal-hospital.com/storage/app/media/pond_1_min.jpg\n",
      "Completed Image ====> 33. pond_1_min.jpg\n",
      "Image URL: http://www.approved-websites.org/class/images/habitat.jpg\n",
      "Completed Image ====> 34. habitat.jpg\n",
      "Image URL: https://static.wixstatic.com/media/06af3a_2da2884569f74cf4b43b4b575765d4cd~mv2.jpg/v1/fill/w_500,h_500/06af3a_2da2884569f74cf4b43b4b575765d4cd~mv2.jpg\n",
      "Completed Image ====> 35. 06af3a_2da2884569f74cf4b43b4b575765d4cd~mv2.jpg\n",
      "Image URL: https://lookaside.fbsbx.com/lookaside/crawler/media/?media_id=184032221610114\n",
      "Completed Image ====> 36. ?media_id=184032221610114.jpg\n",
      "Image URL: http://www.wildlifeanimalcontrol.com/images/infomuskrat.jpg\n",
      "Completed Image ====> 37. infomuskrat.jpg\n",
      "Image URL: https://www.wikihow.com/images/b/b3/Clean-a-Koi-Pond-Step-15.jpg\n",
      "Completed Image ====> 38. clean-a-koi-pond-step-15.jpg\n",
      "Image URL: https://nationalzoo.si.edu/sites/default/files/animals/20170622_malmedia_088_0.jpg\n",
      "Completed Image ====> 39. 20170622_malmedia_088_0.jpg\n",
      "Image URL: https://images.penguinrandomhouse.com/cover/9781782215127\n",
      "Completed Image ====> 40. 9781782215127.jpg\n",
      "Image URL: https://i.ytimg.com/vi/-RVQyaThL2E/maxresdefault.jpg\n",
      "Completed Image ====> 41. maxresdefault.jpg\n",
      "Image URL: https://www.kidssoup.com/sites/default/files/media/Ducks-activities-crafts-preschool.jpg\n",
      "Completed Image ====> 42. ducks-activities-crafts-preschool.jpg\n",
      "Image URL: https://1nvz10445pvh2n73t2xwcmah-wpengine.netdna-ssl.com/wp-content/uploads/2017/04/George-headshot.jpg\n",
      "Completed Image ====> 43. george-headshot.jpg\n",
      "Image URL: https://lookaside.fbsbx.com/lookaside/crawler/media/?media_id=553096761477592\n",
      "Completed Image ====> 44. ?media_id=553096761477592.jpg\n",
      "Image URL: https://static.vecteezy.com/system/resources/previews/000/418/997/non_2x/vector-many-wild-animals-living-by-the-pond.jpg\n",
      "Completed Image ====> 45. vector-many-wild-animals-living-by-the-pond.jpg\n",
      "Image URL: http://clipart-library.com/img/2078866.jpg\n",
      "Completed Image ====> 46. 2078866.jpg\n",
      "Image URL: http://a5.mzstatic.com/eu/r30/Purple4/v4/48/05/96/480596cb-892e-df83-830e-76d623bd29fa/screen480x480.jpeg\n",
      "Completed Image ====> 47. screen480x480.jpeg\n",
      "Image URL: https://www.scienceabc.com/wp-content/uploads/2017/09/Animals-drinking-water-from-pond_.jpg\n",
      "Completed Image ====> 48. animals-drinking-water-from-pond_.jpg\n",
      "Image URL: https://upload.wikimedia.org/wikipedia/commons/thumb/7/70/Indian_pond_heron_%28Ardeola_grayii%29_India.jpg/1200px-Indian_pond_heron_%28Ardeola_grayii%29_India.jpg\n",
      "Completed Image ====> 49. 1200px-indian_pond_heron_%28ardeola_grayii%29_india.jpg\n",
      "Image URL: https://c402277.ssl.cf1.rackcdn.com/photos/6466/images/story_full_width/Turtle_3.jpg?1393517296\n",
      "Completed Image ====> 50. turtle_3.jpg\n",
      "\n",
      "Errors: 1\n",
      "\n"
     ]
    }
   ],
   "source": [
    "from google_images_download import google_images_download\n",
    "\n",
    "response = google_images_download.googleimagesdownload()\n",
    "arguments = {\"keywords\": \"animal pond\", \"limit\": 50,\"print_urls\": True}\n",
    "absolute_image_paths = response.download(arguments)"
   ]
  },
  {
   "cell_type": "code",
   "execution_count": 203,
   "metadata": {},
   "outputs": [
    {
     "data": {
      "text/plain": [
       "{'animal pond': ['C:\\\\Users\\\\edwar\\\\repos\\\\DS-Unit-4-Sprint-4-Deep-Learning\\\\downloads\\\\animal pond\\\\1. pondanimals.gif',\n",
       "  'C:\\\\Users\\\\edwar\\\\repos\\\\DS-Unit-4-Sprint-4-Deep-Learning\\\\downloads\\\\animal pond\\\\2. hqdefault.jpg',\n",
       "  'C:\\\\Users\\\\edwar\\\\repos\\\\DS-Unit-4-Sprint-4-Deep-Learning\\\\downloads\\\\animal pond\\\\3. pkls4116_inline.png',\n",
       "  'C:\\\\Users\\\\edwar\\\\repos\\\\DS-Unit-4-Sprint-4-Deep-Learning\\\\downloads\\\\animal pond\\\\4. alligator-animal-on-pond.jpg',\n",
       "  'C:\\\\Users\\\\edwar\\\\repos\\\\DS-Unit-4-Sprint-4-Deep-Learning\\\\downloads\\\\animal pond\\\\5. amphibian_bronze-frog_julia-bartosh_400x267.ash',\n",
       "  'C:\\\\Users\\\\edwar\\\\repos\\\\DS-Unit-4-Sprint-4-Deep-Learning\\\\downloads\\\\animal pond\\\\6. goose-2650209_960_720.jpg',\n",
       "  'C:\\\\Users\\\\edwar\\\\repos\\\\DS-Unit-4-Sprint-4-Deep-Learning\\\\downloads\\\\animal pond\\\\7. birds-in-a-pond-5986310798966784.jpg',\n",
       "  'C:\\\\Users\\\\edwar\\\\repos\\\\DS-Unit-4-Sprint-4-Deep-Learning\\\\downloads\\\\animal pond\\\\8. frog-2243543_960_720.jpg',\n",
       "  'C:\\\\Users\\\\edwar\\\\repos\\\\DS-Unit-4-Sprint-4-Deep-Learning\\\\downloads\\\\animal pond\\\\9. urban-wildlife-morningside-red-ear-slider-lg.jpg',\n",
       "  'C:\\\\Users\\\\edwar\\\\repos\\\\DS-Unit-4-Sprint-4-Deep-Learning\\\\downloads\\\\animal pond\\\\10. water-animal-pond-wildlife-mammal-fish-eat-fauna-whiskers-vertebrate-otter-mink-marmot-sea-otter-mustelidae-1383482.jpg',\n",
       "  'C:\\\\Users\\\\edwar\\\\repos\\\\DS-Unit-4-Sprint-4-Deep-Learning\\\\downloads\\\\animal pond\\\\11. 12aee2aa186a7b69a66563f138bba822.jpg',\n",
       "  'C:\\\\Users\\\\edwar\\\\repos\\\\DS-Unit-4-Sprint-4-Deep-Learning\\\\downloads\\\\animal pond\\\\12. pkls4116.png',\n",
       "  'C:\\\\Users\\\\edwar\\\\repos\\\\DS-Unit-4-Sprint-4-Deep-Learning\\\\downloads\\\\animal pond\\\\13. maxresdefault.jpg',\n",
       "  'C:\\\\Users\\\\edwar\\\\repos\\\\DS-Unit-4-Sprint-4-Deep-Learning\\\\downloads\\\\animal pond\\\\14. turtles-353033_960_720.jpg',\n",
       "  'C:\\\\Users\\\\edwar\\\\repos\\\\DS-Unit-4-Sprint-4-Deep-Learning\\\\downloads\\\\animal pond\\\\15. zwanen2.jpg',\n",
       "  'C:\\\\Users\\\\edwar\\\\repos\\\\DS-Unit-4-Sprint-4-Deep-Learning\\\\downloads\\\\animal pond\\\\16. eo20151113_turtle300.jpg',\n",
       "  'C:\\\\Users\\\\edwar\\\\repos\\\\DS-Unit-4-Sprint-4-Deep-Learning\\\\downloads\\\\animal pond\\\\17. pittsburgh-zoo-nyala.jpg',\n",
       "  'C:\\\\Users\\\\edwar\\\\repos\\\\DS-Unit-4-Sprint-4-Deep-Learning\\\\downloads\\\\animal pond\\\\18. raccoon-2894866_960_720.jpg',\n",
       "  'C:\\\\Users\\\\edwar\\\\repos\\\\DS-Unit-4-Sprint-4-Deep-Learning\\\\downloads\\\\animal pond\\\\19. image001.jpg',\n",
       "  'C:\\\\Users\\\\edwar\\\\repos\\\\DS-Unit-4-Sprint-4-Deep-Learning\\\\downloads\\\\animal pond\\\\20. animal-pond-nature-green-amphibian-toad-frog-4120745.jpg',\n",
       "  'C:\\\\Users\\\\edwar\\\\repos\\\\DS-Unit-4-Sprint-4-Deep-Learning\\\\downloads\\\\animal pond\\\\21. pond%20map.gif',\n",
       "  'C:\\\\Users\\\\edwar\\\\repos\\\\DS-Unit-4-Sprint-4-Deep-Learning\\\\downloads\\\\animal pond\\\\22. b6d11fcf-4717-46ee-a3c4-954732a696c4_turtle.jpg',\n",
       "  'C:\\\\Users\\\\edwar\\\\repos\\\\DS-Unit-4-Sprint-4-Deep-Learning\\\\downloads\\\\animal pond\\\\23. 416e0eff5efce95e87fae13b90d0b37a.jpg',\n",
       "  'C:\\\\Users\\\\edwar\\\\repos\\\\DS-Unit-4-Sprint-4-Deep-Learning\\\\downloads\\\\animal pond\\\\24. pittsburgh-zoo-nyala-rescue.jpg',\n",
       "  'C:\\\\Users\\\\edwar\\\\repos\\\\DS-Unit-4-Sprint-4-Deep-Learning\\\\downloads\\\\animal pond\\\\25. ducks-on-pond-260nw-751854253.jpg',\n",
       "  'C:\\\\Users\\\\edwar\\\\repos\\\\DS-Unit-4-Sprint-4-Deep-Learning\\\\downloads\\\\animal pond\\\\26. raccoon-in-pond.jpg',\n",
       "  'C:\\\\Users\\\\edwar\\\\repos\\\\DS-Unit-4-Sprint-4-Deep-Learning\\\\downloads\\\\animal pond\\\\27. basking-red-eared-turtle-1488378_1920-5934e53e3df78c08abe2893c.jpg',\n",
       "  'C:\\\\Users\\\\edwar\\\\repos\\\\DS-Unit-4-Sprint-4-Deep-Learning\\\\downloads\\\\animal pond\\\\28. lacka-griffin.jpeg',\n",
       "  'C:\\\\Users\\\\edwar\\\\repos\\\\DS-Unit-4-Sprint-4-Deep-Learning\\\\downloads\\\\animal pond\\\\29. 14036930_f1024.jpg',\n",
       "  'C:\\\\Users\\\\edwar\\\\repos\\\\DS-Unit-4-Sprint-4-Deep-Learning\\\\downloads\\\\animal pond\\\\30. 87827228_xs.jpg',\n",
       "  'C:\\\\Users\\\\edwar\\\\repos\\\\DS-Unit-4-Sprint-4-Deep-Learning\\\\downloads\\\\animal pond\\\\31. fishes-in-lake.jpg',\n",
       "  'C:\\\\Users\\\\edwar\\\\repos\\\\DS-Unit-4-Sprint-4-Deep-Learning\\\\downloads\\\\animal pond\\\\32. infootter.jpg',\n",
       "  'C:\\\\Users\\\\edwar\\\\repos\\\\DS-Unit-4-Sprint-4-Deep-Learning\\\\downloads\\\\animal pond\\\\33. pond_1_min.jpg',\n",
       "  'C:\\\\Users\\\\edwar\\\\repos\\\\DS-Unit-4-Sprint-4-Deep-Learning\\\\downloads\\\\animal pond\\\\34. habitat.jpg',\n",
       "  'C:\\\\Users\\\\edwar\\\\repos\\\\DS-Unit-4-Sprint-4-Deep-Learning\\\\downloads\\\\animal pond\\\\35. 06af3a_2da2884569f74cf4b43b4b575765d4cd~mv2.jpg',\n",
       "  '',\n",
       "  'C:\\\\Users\\\\edwar\\\\repos\\\\DS-Unit-4-Sprint-4-Deep-Learning\\\\downloads\\\\animal pond\\\\37. infomuskrat.jpg',\n",
       "  'C:\\\\Users\\\\edwar\\\\repos\\\\DS-Unit-4-Sprint-4-Deep-Learning\\\\downloads\\\\animal pond\\\\38. clean-a-koi-pond-step-15.jpg',\n",
       "  'C:\\\\Users\\\\edwar\\\\repos\\\\DS-Unit-4-Sprint-4-Deep-Learning\\\\downloads\\\\animal pond\\\\39. 20170622_malmedia_088_0.jpg',\n",
       "  'C:\\\\Users\\\\edwar\\\\repos\\\\DS-Unit-4-Sprint-4-Deep-Learning\\\\downloads\\\\animal pond\\\\40. 9781782215127.jpg',\n",
       "  'C:\\\\Users\\\\edwar\\\\repos\\\\DS-Unit-4-Sprint-4-Deep-Learning\\\\downloads\\\\animal pond\\\\41. maxresdefault.jpg',\n",
       "  'C:\\\\Users\\\\edwar\\\\repos\\\\DS-Unit-4-Sprint-4-Deep-Learning\\\\downloads\\\\animal pond\\\\42. ducks-activities-crafts-preschool.jpg',\n",
       "  'C:\\\\Users\\\\edwar\\\\repos\\\\DS-Unit-4-Sprint-4-Deep-Learning\\\\downloads\\\\animal pond\\\\43. george-headshot.jpg',\n",
       "  '',\n",
       "  'C:\\\\Users\\\\edwar\\\\repos\\\\DS-Unit-4-Sprint-4-Deep-Learning\\\\downloads\\\\animal pond\\\\45. vector-many-wild-animals-living-by-the-pond.jpg',\n",
       "  'C:\\\\Users\\\\edwar\\\\repos\\\\DS-Unit-4-Sprint-4-Deep-Learning\\\\downloads\\\\animal pond\\\\46. 2078866.jpg',\n",
       "  'C:\\\\Users\\\\edwar\\\\repos\\\\DS-Unit-4-Sprint-4-Deep-Learning\\\\downloads\\\\animal pond\\\\47. screen480x480.jpeg',\n",
       "  'C:\\\\Users\\\\edwar\\\\repos\\\\DS-Unit-4-Sprint-4-Deep-Learning\\\\downloads\\\\animal pond\\\\48. animals-drinking-water-from-pond_.jpg',\n",
       "  'C:\\\\Users\\\\edwar\\\\repos\\\\DS-Unit-4-Sprint-4-Deep-Learning\\\\downloads\\\\animal pond\\\\49. 1200px-indian_pond_heron_%28ardeola_grayii%29_india.jpg',\n",
       "  'C:\\\\Users\\\\edwar\\\\repos\\\\DS-Unit-4-Sprint-4-Deep-Learning\\\\downloads\\\\animal pond\\\\50. turtle_3.jpg']}"
      ]
     },
     "execution_count": 203,
     "metadata": {},
     "output_type": "execute_result"
    }
   ],
   "source": [
    "absolute_image_paths"
   ]
  },
  {
   "cell_type": "markdown",
   "metadata": {
    "colab_type": "text",
    "id": "si5YfNqS50QU"
   },
   "source": [
    "At time of writing at least a few do, but since the Internet changes - it is possible your 5 won't. You can easily verify yourself, and (once you have working code) increase the number of images you pull to be more sure of getting a frog. Your goal is to validly run ResNet50 on the input images - don't worry about tuning or improving the model.\n",
    "\n",
    "*Hint* - ResNet 50 doesn't just return \"frog\". The three labels it has for frogs are: `bullfrog, tree frog, tailed frog`\n",
    "\n",
    "*Stretch goal* - also check for fish."
   ]
  },
  {
   "cell_type": "code",
   "execution_count": 205,
   "metadata": {
    "colab": {},
    "colab_type": "code",
    "id": "FaT07ddW3nHz"
   },
   "outputs": [],
   "source": [
    "def resize_image(filename, new_width=256, new_height=256):\n",
    "    image = Image.open(filename)\n",
    "    image = ImageOps.fit(image, (new_width, new_height), Image.ANTIALIAS)\n",
    "    image_RGB = image.convert('RGB')\n",
    "    image_RGB.save(filename, format='JPEG', quality=90)\n",
    "\n",
    "for path in absolute_image_paths['animal pond']:\n",
    "    if OSError:\n",
    "        continue\n",
    "    resize_image(path, 224, 224)\n",
    "\n"
   ]
  },
  {
   "cell_type": "code",
   "execution_count": 206,
   "metadata": {},
   "outputs": [],
   "source": [
    "def process_img_path(img_path):\n",
    "    return image.load_img(img_path, target_size=(224, 224))\n",
    "\n",
    "def interpret(img):\n",
    "    processed_image = image.img_to_array(img)\n",
    "    processed_image = np.expand_dims(processed_image, axis=0)\n",
    "    processed_image = preprocess_input(processed_image)\n",
    "    model = ResNet50(weights='imagenet')\n",
    "    features = model.predict(processed_image)\n",
    "    results = decode_predictions(features, top=3)[0]\n",
    "    return results"
   ]
  },
  {
   "cell_type": "markdown",
   "metadata": {},
   "source": [
    "# Making predictions"
   ]
  },
  {
   "cell_type": "code",
   "execution_count": null,
   "metadata": {},
   "outputs": [],
   "source": [
    "predictions = []\n",
    "image_paths_list = (absolute_image_paths['animal pond'])\n",
    "for i, image_path in enumerate(image_paths_list):\n",
    "    results = interpret(process_img_path(image_path))\n",
    "    predictions.append(results)\n",
    "    print(results)"
   ]
  },
  {
   "cell_type": "code",
   "execution_count": 208,
   "metadata": {},
   "outputs": [
    {
     "name": "stdout",
     "output_type": "stream",
     "text": [
      "bullfrog: 0.66\n"
     ]
    },
    {
     "data": {
      "image/png": "[encoded data removed]",
      "text/plain": [
       "<Figure size 432x288 with 1 Axes>"
      ]
     },
     "metadata": {},
     "output_type": "display_data"
    },
    {
     "name": "stdout",
     "output_type": "stream",
     "text": [
      "\n",
      "bullfrog: 0.99\n"
     ]
    },
    {
     "data": {
      "image/png": "[encoded data removed]",
      "text/plain": [
       "<Figure size 432x288 with 1 Axes>"
      ]
     },
     "metadata": {},
     "output_type": "display_data"
    },
    {
     "name": "stdout",
     "output_type": "stream",
     "text": [
      "\n"
     ]
    }
   ],
   "source": [
    "frogs = {'bullfrog', 'tree frog', 'tailed frog'}\n",
    "\n",
    "for path, prediction in zip(image_paths_list, predictions):\n",
    "    for photo_id,  animal, probability in prediction:\n",
    "        \n",
    "        if animal in frogs:\n",
    "        \n",
    "            print(f'{animal}: {probability:.2f}')\n",
    "\n",
    "            plt.subplot()\n",
    "            plt.imshow(np.asarray(Image.open(path)))\n",
    "            plt.grid(False)\n",
    "            plt.yticks([])\n",
    "            plt.xticks([])\n",
    "            plt.show()\n",
    "            print()"
   ]
  },
  {
   "cell_type": "markdown",
   "metadata": {
    "colab_type": "text",
    "id": "XEuhvSu7O5Rf"
   },
   "source": [
    "## Part 3 - AutoML\n",
    "\n",
    "Use [TPOT](https://github.com/EpistasisLab/tpot) to fit a predictive model for the King County housing data, with `price` as the target output variable."
   ]
  },
  {
   "cell_type": "markdown",
   "metadata": {
    "colab_type": "text",
    "id": "KynXZjOY8hBL"
   },
   "source": [
    "As with previous questions, your goal is to run TPOT and successfully run and report error at the end.  Also, in the interest of time, feel free to choose small `generation=1` and `population_size=10` parameters so your pipeline runs efficiently and you are able to iterate and test.\n",
    "\n",
    "*Hint* - you'll have to drop and/or type coerce at least a few variables to get things working. It's fine to err on the side of dropping to get things running, as long as you still get a valid model with reasonable predictive power."
   ]
  },
  {
   "cell_type": "code",
   "execution_count": 5,
   "metadata": {},
   "outputs": [],
   "source": [
    "import gc\n",
    "gc.enable()"
   ]
  },
  {
   "cell_type": "code",
   "execution_count": 6,
   "metadata": {
    "colab": {},
    "colab_type": "code",
    "id": "BOREO8VJO7MZ"
   },
   "outputs": [
    {
     "data": {
      "text/plain": [
       "(21613, 21)"
      ]
     },
     "execution_count": 6,
     "metadata": {},
     "output_type": "execute_result"
    }
   ],
   "source": [
    "df_king = pd.read_csv('https://raw.githubusercontent.com/ryanleeallred/datasets/master/kc_house_data.csv')\n",
    "df_king.shape"
   ]
  },
  {
   "cell_type": "code",
   "execution_count": 7,
   "metadata": {},
   "outputs": [],
   "source": [
    "df_king = df_king[0:2999]"
   ]
  },
  {
   "cell_type": "code",
   "execution_count": 8,
   "metadata": {},
   "outputs": [],
   "source": [
    "pipeline_optimizer = TPOTRegressor(generations=1, population_size=10,\n",
    "                         offspring_size=None, mutation_rate=0.9,\n",
    "                         crossover_rate=0.1,\n",
    "                         scoring='neg_mean_squared_error', cv=2,\n",
    "                         subsample=1.0, n_jobs=-1,\n",
    "                         max_time_mins=None, max_eval_time_mins=5,\n",
    "                         random_state=None, config_dict=None,\n",
    "                         warm_start=False,\n",
    "                         memory=None,\n",
    "                         use_dask=False,\n",
    "                         periodic_checkpoint_folder=None,\n",
    "                         early_stop=None,\n",
    "                         verbosity=2,\n",
    "                         disable_update_check=False)"
   ]
  },
  {
   "cell_type": "code",
   "execution_count": 10,
   "metadata": {},
   "outputs": [],
   "source": [
    "y = df_king['price']\n",
    "X = df_king.drop(['price', 'id'], axis=1)\n",
    "\n",
    "dummy_data = pd.get_dummies(data=X)\n",
    "dummy_data = dummy_data.astype(np.float)\n",
    "\n",
    "scaler = MinMaxScaler()\n",
    "dummy_data = scaler.fit_transform(dummy_data)\n",
    "\n",
    "# reduce the amount of data we have for time constraints\n",
    "dummy_data = dummy_data\n",
    "y = y\n",
    "\n",
    "\n",
    "X_train, X_test, y_train, y_test = train_test_split(dummy_data, y, train_size=0.75, test_size=0.25)"
   ]
  },
  {
   "cell_type": "code",
   "execution_count": 11,
   "metadata": {},
   "outputs": [
    {
     "data": {
      "application/vnd.jupyter.widget-view+json": {
       "model_id": "",
       "version_major": 2,
       "version_minor": 0
      },
      "text/plain": [
       "HBox(children=(IntProgress(value=0, description='Optimization Progress', max=20, style=ProgressStyle(descripti…"
      ]
     },
     "metadata": {},
     "output_type": "display_data"
    },
    {
     "name": "stdout",
     "output_type": "stream",
     "text": [
      "Generation 1 - Current best internal CV score: -45684911858.15435\n",
      "\n",
      "Best pipeline: XGBRegressor(input_matrix, learning_rate=0.1, max_depth=9, min_child_weight=11, n_estimators=100, nthread=1, subsample=0.2)\n"
     ]
    },
    {
     "data": {
      "text/plain": [
       "TPOTRegressor(config_dict=None, crossover_rate=0.1, cv=2,\n",
       "       disable_update_check=False, early_stop=None, generations=1,\n",
       "       max_eval_time_mins=5, max_time_mins=None, memory=None,\n",
       "       mutation_rate=0.9, n_jobs=-1, offspring_size=None,\n",
       "       periodic_checkpoint_folder=None, population_size=10,\n",
       "       random_state=None, scoring='neg_mean_squared_error', subsample=1.0,\n",
       "       use_dask=False, verbosity=2, warm_start=False)"
      ]
     },
     "execution_count": 11,
     "metadata": {},
     "output_type": "execute_result"
    }
   ],
   "source": [
    "pipeline_optimizer.fit(X_train, y_train)"
   ]
  },
  {
   "cell_type": "code",
   "execution_count": 12,
   "metadata": {},
   "outputs": [],
   "source": [
    "pipeline_optimizer.export('tpot_price_pipeline.py')"
   ]
  },
  {
   "cell_type": "code",
   "execution_count": 13,
   "metadata": {},
   "outputs": [
    {
     "name": "stdout",
     "output_type": "stream",
     "text": [
      "-23797638428.59157\n"
     ]
    }
   ],
   "source": [
    "print(pipeline_optimizer.score(X_test, y_test))"
   ]
  },
  {
   "cell_type": "code",
   "execution_count": 21,
   "metadata": {},
   "outputs": [
    {
     "name": "stdout",
     "output_type": "stream",
     "text": [
      "MAE for house price given 10 percent of the data: 82315.01383333333\n",
      "Explained variance: 0.7584791937992549\n"
     ]
    }
   ],
   "source": [
    "from sklearn.metrics import mean_absolute_error, mean_squared_error, explained_variance_score\n",
    "\n",
    "preds = pipeline_optimizer.predict(X_test)\n",
    "print('MAE for house price given 10 percent of the data:', mean_absolute_error(preds, y_test))\n",
    "\n",
    "print('Explained variance:', explained_variance_score(preds, y_test))"
   ]
  },
  {
   "cell_type": "markdown",
   "metadata": {
    "colab_type": "text",
    "id": "626zYgjkO7Vq"
   },
   "source": [
    "## Part 4 - More..."
   ]
  },
  {
   "cell_type": "code",
   "execution_count": null,
   "metadata": {},
   "outputs": [],
   "source": []
  },
  {
   "cell_type": "markdown",
   "metadata": {
    "colab_type": "text",
    "id": "__lDWfcUO8oo"
   },
   "source": [
    "Answer the following questions, with a target audience of a fellow Data Scientist:\n",
    "\n",
    "- What do you consider your strongest area, as a Data Scientist?\n",
    "\n",
    "        I think my strongest area as a data scientist is definitely in natural language processing.\n",
    "        I spent a good 50+ hours over the last month taking a deep dive into as many resources as I could find \n",
    "        to start building language models to classify 3D objects and to describe videos in real time with text.\n",
    "        One that really made me stronger was a PhD class from Stanford that focused on replicating NLP's cutting edge research\n",
    "        papers in Python. It is incredibly hard, and something I'm still working on. But I feel proud to say that I'm able to \n",
    "        do the work required at that level.\n",
    "    \n",
    "- What area of Data Science would you most like to learn more about, and why?\n",
    "\n",
    "        I'm really interested in learning more about using data science for procedural generation and computer vision.\n",
    "        I'd love to combine my NLP models with some sort of 3d object building algorithm to procedural generate 3d models. \n",
    "        I could see this being applied heavily to medicine, game development, and astronomy as there are lots of prototyping and \n",
    "        abstracted thinking across all three domains. \n",
    "- Where do you think Data Science will be in 5 years?\n",
    "    \n",
    "        I think there will be a very large emphasis on people who understand data structure and who are able to explore generated models.\n",
    "        It's very likely we will continue to see more automation in model building, but from what I've seen these models are so good \n",
    "        at training on specific data that they often overfit. \n",
    "        It'll be up to humans to go in and shake things up enough to use these hyper-tuned models to generalize new data.\n",
    "\n",
    "A few sentences per answer is fine - only elaborate if time allows."
   ]
  },
  {
   "cell_type": "markdown",
   "metadata": {
    "colab_type": "text",
    "id": "_Hoqe3mM_Mtc"
   },
   "source": [
    "Thank you for your hard work, and congratulations! You've learned a lot, and should proudly call yourself a Data Scientist."
   ]
  }
 ],
 "metadata": {
  "accelerator": "GPU",
  "colab": {
   "collapsed_sections": [],
   "name": "LS_DS_Unit_4_Sprint_Challenge_4.ipynb",
   "provenance": [],
   "version": "0.3.2"
  },
  "kernelspec": {
   "display_name": "Python 3",
   "language": "python",
   "name": "python3"
  },
  "language_info": {
   "codemirror_mode": {
    "name": "ipython",
    "version": 3
   },
   "file_extension": ".py",
   "mimetype": "text/x-python",
   "name": "python",
   "nbconvert_exporter": "python",
   "pygments_lexer": "ipython3",
   "version": "3.7.2"
  },
  "toc": {
   "base_numbering": 1,
   "nav_menu": {},
   "number_sections": true,
   "sideBar": true,
   "skip_h1_title": false,
   "title_cell": "Table of Contents",
   "title_sidebar": "Contents",
   "toc_cell": false,
   "toc_position": {},
   "toc_section_display": true,
   "toc_window_display": true
  }
 },
 "nbformat": 4,
 "nbformat_minor": 1
}
