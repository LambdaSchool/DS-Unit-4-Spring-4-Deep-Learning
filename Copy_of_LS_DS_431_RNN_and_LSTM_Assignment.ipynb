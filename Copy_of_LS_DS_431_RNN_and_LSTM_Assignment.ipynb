{
  "nbformat": 4,
  "nbformat_minor": 0,
  "metadata": {
    "kernelspec": {
      "name": "python3",
      "display_name": "Python 3"
    },
    "colab": {
      "name": "Copy of LS_DS_431_RNN_and_LSTM_Assignment.ipynb",
      "provenance": [],
      "toc_visible": true,
      "machine_shape": "hm",
      "include_colab_link": true
    },
    "accelerator": "GPU"
  },
  "cells": [
    {
      "cell_type": "markdown",
      "metadata": {
        "id": "view-in-github",
        "colab_type": "text"
      },
      "source": [
        "<a href=\"https://colab.research.google.com/github/dunkelweizen/DS-Unit-4-Sprint-3-Deep-Learning/blob/master/Copy_of_LS_DS_431_RNN_and_LSTM_Assignment.ipynb\" target=\"_parent\"><img src=\"https://colab.research.google.com/assets/colab-badge.svg\" alt=\"Open In Colab\"/></a>"
      ]
    },
    {
      "cell_type": "markdown",
      "metadata": {
        "id": "OcL-gOCRhQu2",
        "colab_type": "text"
      },
      "source": [
        "<img align=\"left\" src=\"https://lever-client-logos.s3.amazonaws.com/864372b1-534c-480e-acd5-9711f850815c-1524247202159.png\" width=200>\n",
        "<br></br>\n",
        "<br></br>\n",
        "\n",
        "## *Data Science Unit 4 Sprint 3 Assignment 1*\n",
        "\n",
        "# Recurrent Neural Networks and Long Short Term Memory (LSTM)\n",
        "\n",
        "![Monkey at a typewriter](https://upload.wikimedia.org/wikipedia/commons/thumb/3/3c/Chimpanzee_seated_at_typewriter.jpg/603px-Chimpanzee_seated_at_typewriter.jpg)\n",
        "\n",
        "It is said that [infinite monkeys typing for an infinite amount of time](https://en.wikipedia.org/wiki/Infinite_monkey_theorem) will eventually type, among other things, the complete works of Wiliam Shakespeare. Let's see if we can get there a bit faster, with the power of Recurrent Neural Networks and LSTM.\n",
        "\n",
        "This text file contains the complete works of Shakespeare: https://www.gutenberg.org/files/100/100-0.txt\n",
        "\n",
        "Use it as training data for an RNN - you can keep it simple and train character level, and that is suggested as an initial approach.\n",
        "\n",
        "Then, use that trained RNN to generate Shakespearean-ish text. Your goal - a function that can take, as an argument, the size of text (e.g. number of characters or lines) to generate, and returns generated text of that size.\n",
        "\n",
        "Note - Shakespeare wrote an awful lot. It's OK, especially initially, to sample/use smaller data and parameters, so you can have a tighter feedback loop when you're trying to get things running. Then, once you've got a proof of concept - start pushing it more!"
      ]
    },
    {
      "cell_type": "code",
      "metadata": {
        "colab_type": "code",
        "id": "Ltj1je1fp5rO",
        "colab": {}
      },
      "source": [
        "from tensorflow.keras.callbacks import LambdaCallback\n",
        "from tensorflow.keras.models import Sequential\n",
        "from tensorflow.keras.layers import Dense, LSTM\n",
        "from tensorflow.keras.optimizers import RMSprop\n",
        "\n",
        "import numpy as np\n",
        "import random\n",
        "import sys\n",
        "import os\n",
        "\n",
        "import urllib3"
      ],
      "execution_count": 0,
      "outputs": []
    },
    {
      "cell_type": "code",
      "metadata": {
        "id": "9ClFOXdNjtvh",
        "colab_type": "code",
        "colab": {}
      },
      "source": [
        "max_features = 20000\n",
        "batch_size = 32"
      ],
      "execution_count": 0,
      "outputs": []
    },
    {
      "cell_type": "code",
      "metadata": {
        "id": "vJAilqSLkpKT",
        "colab_type": "code",
        "colab": {}
      },
      "source": [
        "data = open('/content/complete_works_shakespeare', encoding='utf-8').read()\n"
      ],
      "execution_count": 0,
      "outputs": []
    },
    {
      "cell_type": "code",
      "metadata": {
        "id": "e7YP_seVnS8a",
        "colab_type": "code",
        "outputId": "f56e2b6d-fe4d-4376-de63-bedcb0c34c8e",
        "colab": {
          "base_uri": "https://localhost:8080/",
          "height": 35
        }
      },
      "source": [
        "len(data)"
      ],
      "execution_count": 4,
      "outputs": [
        {
          "output_type": "execute_result",
          "data": {
            "text/plain": [
              "5573152"
            ]
          },
          "metadata": {
            "tags": []
          },
          "execution_count": 4
        }
      ]
    },
    {
      "cell_type": "code",
      "metadata": {
        "id": "zQJGczkIlIJT",
        "colab_type": "code",
        "colab": {}
      },
      "source": [
        "import re\n",
        "\n",
        "regex = re.compile(r'[\\n\\r\\t]')\n",
        "data = regex.sub(' ', data)"
      ],
      "execution_count": 0,
      "outputs": []
    },
    {
      "cell_type": "code",
      "metadata": {
        "id": "SpBxksTAx8tH",
        "colab_type": "code",
        "colab": {}
      },
      "source": [
        "#data = data[1000000:2000000]"
      ],
      "execution_count": 0,
      "outputs": []
    },
    {
      "cell_type": "code",
      "metadata": {
        "id": "1JlCpnrHn537",
        "colab_type": "code",
        "colab": {}
      },
      "source": [
        "chars = list(set(data))"
      ],
      "execution_count": 0,
      "outputs": []
    },
    {
      "cell_type": "code",
      "metadata": {
        "id": "-6jRQMvyn74Q",
        "colab_type": "code",
        "colab": {}
      },
      "source": [
        "char_int = {c:i for i, c in enumerate(chars)} \n",
        "int_char = {i:c for i, c in enumerate(chars)} "
      ],
      "execution_count": 0,
      "outputs": []
    },
    {
      "cell_type": "code",
      "metadata": {
        "id": "KJpept7xoJgI",
        "colab_type": "code",
        "outputId": "5faaaf41-240d-4ba8-bad6-ea9f699bca06",
        "colab": {
          "base_uri": "https://localhost:8080/",
          "height": 35
        }
      },
      "source": [
        "# Create the sequence data\n",
        "maxlen = 40\n",
        "step = 5\n",
        "\n",
        "encoded = [char_int[c] for c in data]\n",
        "\n",
        "sequences = [] # Each element is 40 chars long\n",
        "next_char = [] # One element for each sequence\n",
        "\n",
        "for i in range(0, len(encoded) - maxlen, step):\n",
        "    \n",
        "    sequences.append(encoded[i : i + maxlen])\n",
        "    next_char.append(encoded[i + maxlen])\n",
        "    \n",
        "print('sequences: ', len(sequences))"
      ],
      "execution_count": 9,
      "outputs": [
        {
          "output_type": "stream",
          "text": [
            "sequences:  1114623\n"
          ],
          "name": "stdout"
        }
      ]
    },
    {
      "cell_type": "code",
      "metadata": {
        "id": "CZf3lmk1oSNh",
        "colab_type": "code",
        "colab": {}
      },
      "source": [
        "x = np.zeros((len(sequences), maxlen, len(chars)), dtype=np.bool)\n",
        "y = np.zeros((len(sequences),len(chars)), dtype=np.bool)\n",
        "\n",
        "for i, sequence in enumerate(sequences):\n",
        "    for t, char in enumerate(sequence):\n",
        "        x[i,t,char] = 1\n",
        "        \n",
        "    y[i, next_char[i]] = 1"
      ],
      "execution_count": 0,
      "outputs": []
    },
    {
      "cell_type": "code",
      "metadata": {
        "id": "PSlp5u0koi9h",
        "colab_type": "code",
        "outputId": "b638b2cb-c3ee-48cf-f901-793203cd2495",
        "colab": {
          "base_uri": "https://localhost:8080/",
          "height": 35
        }
      },
      "source": [
        "x.shape"
      ],
      "execution_count": 11,
      "outputs": [
        {
          "output_type": "execute_result",
          "data": {
            "text/plain": [
              "(1114623, 40, 105)"
            ]
          },
          "metadata": {
            "tags": []
          },
          "execution_count": 11
        }
      ]
    },
    {
      "cell_type": "code",
      "metadata": {
        "id": "TZ0rK2S7olhE",
        "colab_type": "code",
        "outputId": "da3399bb-0fd5-4618-f474-cdc2a52ad2f4",
        "colab": {
          "base_uri": "https://localhost:8080/",
          "height": 35
        }
      },
      "source": [
        "y.shape"
      ],
      "execution_count": 12,
      "outputs": [
        {
          "output_type": "execute_result",
          "data": {
            "text/plain": [
              "(1114623, 105)"
            ]
          },
          "metadata": {
            "tags": []
          },
          "execution_count": 12
        }
      ]
    },
    {
      "cell_type": "code",
      "metadata": {
        "id": "lQA7Y8a3sYQS",
        "colab_type": "code",
        "outputId": "c7bb648c-952e-4301-b19d-98da85870a6e",
        "colab": {
          "base_uri": "https://localhost:8080/",
          "height": 35
        }
      },
      "source": [
        "np.count_nonzero(x)"
      ],
      "execution_count": 13,
      "outputs": [
        {
          "output_type": "execute_result",
          "data": {
            "text/plain": [
              "44584920"
            ]
          },
          "metadata": {
            "tags": []
          },
          "execution_count": 13
        }
      ]
    },
    {
      "cell_type": "code",
      "metadata": {
        "id": "yozl-MN9ooYd",
        "colab_type": "code",
        "colab": {}
      },
      "source": [
        "# build the model: a single LSTM\n",
        "model = Sequential()\n",
        "model.add(LSTM(128, input_shape=(maxlen, len(chars))))\n",
        "model.add(Dense(len(chars), activation='softmax'))\n",
        "model.compile(loss='categorical_crossentropy', \n",
        "              optimizer='adam',\n",
        "              metrics=['accuracy'])"
      ],
      "execution_count": 0,
      "outputs": []
    },
    {
      "cell_type": "code",
      "metadata": {
        "id": "h6DuYXiKowLH",
        "colab_type": "code",
        "colab": {}
      },
      "source": [
        "def sample(preds):\n",
        "    # helper function to sample an index from a probability array\n",
        "    preds = np.asarray(preds).astype('float64')\n",
        "    preds = np.log(preds) / 1\n",
        "    exp_preds = np.exp(preds)\n",
        "    preds = exp_preds / np.sum(exp_preds)\n",
        "    probas = np.random.multinomial(1, preds, 1)\n",
        "    return np.argmax(probas)"
      ],
      "execution_count": 0,
      "outputs": []
    },
    {
      "cell_type": "code",
      "metadata": {
        "id": "iy7xlPV7o0K6",
        "colab_type": "code",
        "colab": {}
      },
      "source": [
        "def on_epoch_end(epoch, _):\n",
        "    # Function invoked at end of each epoch. Prints generated text.\n",
        "    print()\n",
        "    print('----- Generating text after Epoch: %d' % epoch)\n",
        "    \n",
        "    start_index = random.randint(0, len(data) - maxlen - 1)\n",
        "    \n",
        "    generated = ''\n",
        "    \n",
        "    # sentence = text[start_index: start_index + maxlen]\n",
        "    sentence = \"I wish to see the color of your eyes and\"\n",
        "    generated += sentence\n",
        "    \n",
        "    print('----- Generating with seed: \"' + sentence + '\"')\n",
        "    sys.stdout.write(generated)\n",
        "    \n",
        "    for i in range(400):\n",
        "        x_pred = np.zeros((1, maxlen, len(chars)))\n",
        "        for t, char in enumerate(sentence):\n",
        "            x_pred[0, t, char_int[char]] = 1\n",
        "            \n",
        "        preds = model.predict(x_pred, verbose=0)[0]\n",
        "        next_index = sample(preds)\n",
        "        next_char = int_char[next_index]\n",
        "        \n",
        "        sentence = sentence[1:] + next_char\n",
        "        \n",
        "        sys.stdout.write(next_char)\n",
        "        sys.stdout.flush()\n",
        "    print()\n",
        "\n",
        "\n",
        "print_callback = LambdaCallback(on_epoch_end=on_epoch_end)"
      ],
      "execution_count": 0,
      "outputs": []
    },
    {
      "cell_type": "code",
      "metadata": {
        "id": "0M7xyFPoo3OZ",
        "colab_type": "code",
        "outputId": "86bfce8f-c4f8-4642-ee18-2112c338ce2e",
        "colab": {
          "base_uri": "https://localhost:8080/",
          "height": 1000
        }
      },
      "source": [
        "model.fit(x, y,\n",
        "          batch_size=100,\n",
        "          epochs=200,\n",
        "          callbacks=[print_callback])"
      ],
      "execution_count": 0,
      "outputs": [
        {
          "output_type": "stream",
          "text": [
            "Epoch 1/200\n",
            "11147/11147 [==============================] - ETA: 0s - loss: 1.8939 - accuracy: 0.4590\n",
            "----- Generating text after Epoch: 0\n",
            "----- Generating with seed: \"I wish to see the color of your eyes and\"\n",
            "I wish to see the color of your eyes and his a but of her wespidice,     Most ane thoy Endias, bedrout not lent you leadly wos where hard desco of Vissige on ander) How mist?   RoMight Lechs bent Tentin, it do sin; not be in plaige knodl; as it that.  SCONERIA. Hou by marks, art With thoue fall blend good the frigs. Wheriogioncled Puttro; a majes with frimndle now,     But so will would be goud on such a treased withis, lane art mid! hi\n",
            "11147/11147 [==============================] - 76s 7ms/step - loss: 1.8939 - accuracy: 0.4590\n",
            "Epoch 2/200\n",
            "11140/11147 [============================>.] - ETA: 0s - loss: 1.7080 - accuracy: 0.5062\n",
            "----- Generating text after Epoch: 1\n",
            "----- Generating with seed: \"I wish to see the color of your eyes and\"\n",
            "I wish to see the color of your eyes and mared.  GAVETIO. But, thingstle Dunate noble of a hather the go wimming, The mat she alver's all the Dusice and you,     As I come are flower; and dhy forem-it and by distred     More with our shoor dyencinds her an will craceing The fainfest say him Wart for thy bearrer’s, would,     For not she warth inchand.  CHILLAD. Why loven's prisocker, gyelly by hours ’thouken thou a play.     Make not th\n",
            "11147/11147 [==============================] - 74s 7ms/step - loss: 1.7079 - accuracy: 0.5062\n",
            "Epoch 3/200\n",
            "11139/11147 [============================>.] - ETA: 0s - loss: 1.6208 - accuracy: 0.5295\n",
            "----- Generating text after Epoch: 2\n",
            "----- Generating with seed: \"I wish to see the color of your eyes and\"\n",
            "I wish to see the color of your eyes and she date,         A ready woman well, and I winter of can: And onome this day?   FIRST MLEYWARD. We show might in thee to From him me no eves me; Now! Your deedg This will know you strenghioncy, and the fforemy and sir?         BEDORINO.       X'ding’d as I thou any knother, His greights not in; and's meaning Hath shall renot Duke it, and have Hackltas'd in the all unleppertem. The ted him breosa\n",
            "11147/11147 [==============================] - 74s 7ms/step - loss: 1.6209 - accuracy: 0.5295\n",
            "Epoch 4/200\n",
            "11145/11147 [============================>.] - ETA: 0s - loss: 1.5678 - accuracy: 0.5430\n",
            "----- Generating text after Epoch: 3\n",
            "----- Generating with seed: \"I wish to see the color of your eyes and\"\n",
            "I wish to see the color of your eyes and meant.   CASSIUS. Sin daynose you murhis’d Larrys, Hereow rise of Eluleronest.  LEDRO. I say, sir.  KENTROPHAS. Is shall in her exervice, we she day lond, thou takes for the Duke Prik’s.  OTHELVOK. What I feel him, and let most them not his willess.  FLORMIE. Your vorchain?  PINCULUS. It is dostred him.  TRINENE LENGBRY. Mester liferable wasoul foraturading hand     evervants, better by what wast\n",
            "11147/11147 [==============================] - 75s 7ms/step - loss: 1.5678 - accuracy: 0.5430\n",
            "Epoch 5/200\n",
            "11144/11147 [============================>.] - ETA: 0s - loss: 1.5315 - accuracy: 0.5524\n",
            "----- Generating text after Epoch: 4\n",
            "----- Generating with seed: \"I wish to see the color of your eyes and\"\n",
            "I wish to see the color of your eyes and stay, and is for my love.   MENENIA. I count you shrabe, and I was; In stamn and fatherd at god. Mwsend for the fatler undready; shall Cassuo, and such expently set, and their, in.   PEDRUS. If it but the father! Bes’d, with the day              Enter SGLUFFOND sal.         JALY   [To stribes of the is thy people.   [SINGONIUS. Now that now where I maton, on.   SOMIEL. O, let your lord, Bear'nous\n",
            "11147/11147 [==============================] - 75s 7ms/step - loss: 1.5315 - accuracy: 0.5524\n",
            "Epoch 6/200\n",
            "11141/11147 [============================>.] - ETA: 0s - loss: 1.5050 - accuracy: 0.5591\n",
            "----- Generating text after Epoch: 5\n",
            "----- Generating with seed: \"I wish to see the color of your eyes and\"\n",
            "I wish to see the color of your eyes and way.   SERALUS. Not go to thee! I do thee where How roile to night.     I did     Damed an old pogainst bigge-men.  a creatus, as here humbers. Not make this lasters pendly carritious of worse.     Into house the well, and like it.     I tell you with fow world do one of us wit us.  PELAUT. Ladge's Time; know?  OTHELLO. Had sir, I preciame to pals, sain he s-retimes things manribg,     His compos\n",
            "11147/11147 [==============================] - 74s 7ms/step - loss: 1.5050 - accuracy: 0.5591\n",
            "Epoch 7/200\n",
            "11146/11147 [============================>.] - ETA: 0s - loss: 1.4844 - accuracy: 0.5644\n",
            "----- Generating text after Epoch: 6\n",
            "----- Generating with seed: \"I wish to see the color of your eyes and\"\n",
            "I wish to see the color of your eyes and askly. That had there got in young pa? MBESS. What it, let feight of thy hearts in your answer with Brotch With Argelio is art with custor, that I would bearf, my wnofel such his man.     Boet what I more of him this are their ears     Of house than morborminochord sin. Him he comes’d, buce!     A strang old dagget: You, make to be blow’st to our hase up let me,     Tuke her, but things learn wit\n",
            "11147/11147 [==============================] - 76s 7ms/step - loss: 1.4844 - accuracy: 0.5644\n",
            "Epoch 8/200\n",
            "11140/11147 [============================>.] - ETA: 0s - loss: 1.4676 - accuracy: 0.5685\n",
            "----- Generating text after Epoch: 7\n",
            "----- Generating with seed: \"I wish to see the color of your eyes and\"\n",
            "I wish to see the color of your eyes and gone.  OID SEXTAR. But I keep.  SOREL. then Nay sir.  MERTUT. Stand with this chane, The gilds, still find cornet's get his kins;     If of moonnindedwed, or else; and neither    Seaks to the Lounchy and standtas.   [_Exit._]  CURTI arce! Wher ow?     The grown be edest 2he will have mouth     safe to vine last you.  MARGUNER. Giels not, in my ours; it an it blasent and much all the powly ment of\n",
            "11147/11147 [==============================] - 76s 7ms/step - loss: 1.4676 - accuracy: 0.5685\n",
            "Epoch 9/200\n",
            "11140/11147 [============================>.] - ETA: 0s - loss: 1.4544 - accuracy: 0.5719\n",
            "----- Generating text after Epoch: 8\n",
            "----- Generating with seed: \"I wish to see the color of your eyes and\"\n",
            "I wish to see the color of your eyes and hath you had thee their resent;  [Tits, With oath QUEEN etter Messiagance, I’ll be a constructed of the gone well than my san     Lookes to have his inscatce your challen: Master Shallies, master!   GROPPES. If end forsion, for it, myselfcius think, and fear made my face, yet me coz'd was chatce of Sea .   CELIA. You discount of the cousenteness, comcholy     so hath sad I, well that no adchare w\n",
            "11147/11147 [==============================] - 76s 7ms/step - loss: 1.4543 - accuracy: 0.5719\n",
            "Epoch 10/200\n",
            "11139/11147 [============================>.] - ETA: 0s - loss: 1.4426 - accuracy: 0.5749\n",
            "----- Generating text after Epoch: 9\n",
            "----- Generating with seed: \"I wish to see the color of your eyes and\"\n",
            "I wish to see the color of your eyes and liedor.     When that I could we think that that orach?  TROILUS. A pome, what ye-     Swo the hunder hour pronitus Charm is? But not thou heam ’gainghtious, was mind, lose to find on forst; Was with them. Did witches word; speeden percy, For she done—           A partarded in trutters     The trom it deagured make age,     With their wind me no a-nevernesses beaden     Though mighty gidle them; \n",
            "11147/11147 [==============================] - 74s 7ms/step - loss: 1.4426 - accuracy: 0.5749\n",
            "Epoch 11/200\n",
            "11140/11147 [============================>.] - ETA: 0s - loss: 1.4326 - accuracy: 0.5775\n",
            "----- Generating text after Epoch: 10\n",
            "----- Generating with seed: \"I wish to see the color of your eyes and\"\n",
            "I wish to see the color of your eyes and the almoon. I’ll do not know’st with him his invanquing, your from Give.   SALIS. You lone your treech of state bring to disents, Which not do her agen gofelt device: And can I worth men fire lidd the hot, sood hurt.     Exit Madiments LieL how whil’s construck gracy, and defeng flow hither, When to up Dike and content.   MOTH. [Musicianta. Bring._] Foo mine agribioiance, and could, lord, and my \n",
            "11147/11147 [==============================] - 74s 7ms/step - loss: 1.4326 - accuracy: 0.5775\n",
            "Epoch 12/200\n",
            "11146/11147 [============================>.] - ETA: 0s - loss: 1.4237 - accuracy: 0.5795\n",
            "----- Generating text after Epoch: 11\n",
            "----- Generating with seed: \"I wish to see the color of your eyes and\"\n",
            "I wish to see the color of your eyes and blows and polour known Mickness cross.   [_Exeunt._]                       Exeunt APEX.                                 Exeunt shottullan caugheer    KING. Go to where I could not have me believe him; illow and we descents act,     Doesfude to fat I death in jointed My good; to a grieves of, — Which I'll vesters thy fair mease, We pray it on me     Tetutius laving to painfanting is my charkfal of\n",
            "11147/11147 [==============================] - 75s 7ms/step - loss: 1.4237 - accuracy: 0.5795\n",
            "Epoch 13/200\n",
            "11144/11147 [============================>.] - ETA: 0s - loss: 1.4160 - accuracy: 0.5813\n",
            "----- Generating text after Epoch: 12\n",
            "----- Generating with seed: \"I wish to see the color of your eyes and\"\n",
            "I wish to see the color of your eyes and make him;     Lerpen your fingers jest of war of But on? WOenn, myself unther I, but sir; najusine.  CLONENGER. A.  TRANIO. Say I hor impoken she with sirged Adden and Castles; Sir, after trankers care and horses, the pervargingly,     Lord, that’s a lovem spall a drows to be  _Both'r right and to me. Then I no soldien sun, to druft, he come, I wouls now of our knee.   NORTHUMBERLAND. Adow To col\n",
            "11147/11147 [==============================] - 76s 7ms/step - loss: 1.4160 - accuracy: 0.5813\n",
            "Epoch 14/200\n",
            "11140/11147 [============================>.] - ETA: 0s - loss: 1.4092 - accuracy: 0.5830\n",
            "----- Generating text after Epoch: 13\n",
            "----- Generating with seed: \"I wish to see the color of your eyes and\"\n",
            "I wish to see the color of your eyes and interst this daughter, And which, tell the town unless to same.   DUKE. I Calling impurment of Edmand,     They was grince on what my seas with traiton he,     As how gonerant the me and wilfin, and     Perjuintant,     Take thou in the black angland me;     But you seal'd, so many subject and drown     To says only reeden fronhes once.     But call: it noturing thy arcians drid-Toath monakering \n",
            "11147/11147 [==============================] - 75s 7ms/step - loss: 1.4092 - accuracy: 0.5830\n",
            "Epoch 15/200\n",
            "11142/11147 [============================>.] - ETA: 0s - loss: 1.4031 - accuracy: 0.5844\n",
            "----- Generating text after Epoch: 14\n",
            "----- Generating with seed: \"I wish to see the color of your eyes and\"\n",
            "I wish to see the color of your eyes and father to the ears Our love to my gold necent.     I perickly since as a shorl-desardling, For the gettle spares cortureblelfious     our specially Capion,   love were now mine report night for the plare to see; You have left bangages' off untreisure clud Be weep no musarion aftrintering perdaried.  JULIET. On I leave me sharlen, I will be steel, sir, by son talghad, To know bold day, there they.\n",
            "11147/11147 [==============================] - 74s 7ms/step - loss: 1.4030 - accuracy: 0.5844\n",
            "Epoch 16/200\n",
            "11147/11147 [==============================] - ETA: 0s - loss: 1.3979 - accuracy: 0.5855\n",
            "----- Generating text after Epoch: 15\n",
            "----- Generating with seed: \"I wish to see the color of your eyes and\"\n",
            "I wish to see the color of your eyes and told.  OLIVIA. Do readom their partunes so diddence of ISe and thousand. How being when now, that druft—when the strangagy? The place.  MALVOLIO. Good mad, never sarry.  You, and shall not think the imat of her chick     From heaven, the sacona, and off at the safech.                                               Exetw                'aw; than if thou not,     By save the obold her hush they do a\n",
            "11147/11147 [==============================] - 75s 7ms/step - loss: 1.3979 - accuracy: 0.5855\n",
            "Epoch 17/200\n",
            "11146/11147 [============================>.] - ETA: 0s - loss: 1.3923 - accuracy: 0.5872\n",
            "----- Generating text after Epoch: 16\n",
            "----- Generating with seed: \"I wish to see the color of your eyes and\"\n",
            "I wish to see the color of your eyes and conven’st: Were upon Charles Their ield these. How now, sound, that be such all a gentle hour! 'This f’en elfelections,     shall gurded, corts take her graves, right so would not use her tider to whom o’er the guest: So my nats? It shall held our king, Was shadee them stull; and thou that ever up father, Whospits on palds, and I cannor in my an joy,     Entor furgets be won from his fall—rap tha\n",
            "11147/11147 [==============================] - 76s 7ms/step - loss: 1.3923 - accuracy: 0.5872\n",
            "Epoch 18/200\n",
            "11143/11147 [============================>.] - ETA: 0s - loss: 1.3882 - accuracy: 0.5878\n",
            "----- Generating text after Epoch: 17\n",
            "----- Generating with seed: \"I wish to see the color of your eyes and\"\n",
            "I wish to see the color of your eyes and tell Not how still certains in Troy searing plaid forth;     And faces; thou sends, that love it amended, my good man, But, what it sent no inform.  KING. Ay, when I prothems ambhand, nock him, winding; They all thyself which wesse strike as my charge that no embassity, Here those Master Henry hardoly, the infemping no keep and surrisy him?  SCENE VE JOXO. And that we were and true same answer th\n",
            "11147/11147 [==============================] - 75s 7ms/step - loss: 1.3882 - accuracy: 0.5878\n",
            "Epoch 19/200\n",
            "11140/11147 [============================>.] - ETA: 0s - loss: 1.3839 - accuracy: 0.5887\n",
            "----- Generating text after Epoch: 18\n",
            "----- Generating with seed: \"I wish to see the color of your eyes and\"\n",
            "I wish to see the color of your eyes and place You leadent their gate heavens made mine, And the ispratchal ir on it? Gentle? a same? By highs, it no good name it Takes my       an honest plumes, and Denicing of Morninal. 'tis feely ymuty?   SECOND GENTLEMAN. The runbour liege,     they bade nugberous drowns is the poisoness,        1.   MAMBERDA.       Valiance of here, they, renguine     Trownern.   SICINIUS. Your desire do sooner!   \n",
            "11147/11147 [==============================] - 74s 7ms/step - loss: 1.3839 - accuracy: 0.5887\n",
            "Epoch 20/200\n",
            "11139/11147 [============================>.] - ETA: 0s - loss: 1.3799 - accuracy: 0.5898\n",
            "----- Generating text after Epoch: 19\n",
            "----- Generating with seed: \"I wish to see the color of your eyes and\"\n",
            "I wish to see the color of your eyes and purpose in her: if this please me.  CASSIO. She’s fea men’s forty yet, two down, have I spoke of thievess! Those very a-yay; with a spoken I adsie, but he plain it     I come him? that soon me thy most rewrainers that home, Corcen, and they shall stand, a foct,—   HASTINGRS. A dar’s my lord, that neir at to be that To dreads.   Enter Rossis. An the very bond: I docks “Now not.  TROILUS. [Baster._\n",
            "11147/11147 [==============================] - 74s 7ms/step - loss: 1.3800 - accuracy: 0.5898\n",
            "Epoch 21/200\n",
            "11143/11147 [============================>.] - ETA: 0s - loss: 1.3764 - accuracy: 0.5909\n",
            "----- Generating text after Epoch: 20\n",
            "----- Generating with seed: \"I wish to see the color of your eyes and\"\n",
            "I wish to see the color of your eyes and fainte, Or another parad affain'd for loss.   RICHARD. 'Tis not exceeding seen money behold is nature That doth safth the free laes in her cheeks. When more serve them that's are so lose     The foil to the canget     The peniting men sister of her long fare no man beseech you, Fairiquist of Claudioy. What what most thou very of this beatle     To wake year     Should lord and wound veath, with a\n",
            "11147/11147 [==============================] - 75s 7ms/step - loss: 1.3764 - accuracy: 0.5909\n",
            "Epoch 22/200\n",
            "11147/11147 [==============================] - ETA: 0s - loss: 1.3729 - accuracy: 0.5917\n",
            "----- Generating text after Epoch: 21\n",
            "----- Generating with seed: \"I wish to see the color of your eyes and\"\n",
            "I wish to see the color of your eyes and all the easy is women before several Lord Lorder, And new worship.   [_My lay at a ken that Iemorant  Enter a trrockus oade]         BEATRICE.       I'll then bless thy hand' of thee     Go in chide all the bieses all a faith.   ANTONY. I thank their roveling in holes     That no said spoke thy harmants in Socont for batter.     To the weaks of all-time liberty.     I have no eagly a quoes and yo\n",
            "11147/11147 [==============================] - 76s 7ms/step - loss: 1.3729 - accuracy: 0.5917\n",
            "Epoch 23/200\n",
            "11139/11147 [============================>.] - ETA: 0s - loss: 1.3698 - accuracy: 0.5921\n",
            "----- Generating text after Epoch: 22\n",
            "----- Generating with seed: \"I wish to see the color of your eyes and\"\n",
            "I wish to see the color of your eyes and sleep. That send of my sent as hath lie, no good sweet, had ivicous of not and help manderer, I may true,     Let our arms, there is picked me did seen than to those hope,     And will not, if thou weeping moke me and tongue’s hours.  OBROKE. No, "
          ],
          "name": "stdout"
        },
        {
          "output_type": "stream",
          "text": [
            "/usr/local/lib/python3.6/dist-packages/ipykernel_launcher.py:4: RuntimeWarning: divide by zero encountered in log\n",
            "  after removing the cwd from sys.path.\n"
          ],
          "name": "stderr"
        },
        {
          "output_type": "stream",
          "text": [
            "my heart, engle other freal that Caesar in all th' most stopper thy power might     Strange a pipering with the line true to do you appear, And operborn\n",
            "11147/11147 [==============================] - 76s 7ms/step - loss: 1.3698 - accuracy: 0.5921\n",
            "Epoch 24/200\n",
            "11144/11147 [============================>.] - ETA: 0s - loss: 1.3669 - accuracy: 0.5930\n",
            "----- Generating text after Epoch: 23\n",
            "----- Generating with seed: \"I wish to see the color of your eyes and\"\n",
            "I wish to see the color of your eyes and     bost cry of his Broughter See will friendling.   DERDYMAL. Speak the losess, Gower hark their greatess.  THERSITES. A tears so, by my lord; and, rest on     Did sun at him! Enter Arcap'd: Phoise BUCKINGHANNE OF OLEX. Atto Pates Forth, while he were sail in engaged By Haste-sempts of the hase.   OLLA. I pray you by Edmund Lastunat’s will the Endia off and with sparrow.     I am: feels into my \n",
            "11147/11147 [==============================] - 76s 7ms/step - loss: 1.3670 - accuracy: 0.5930\n",
            "Epoch 25/200\n",
            "11144/11147 [============================>.] - ETA: 0s - loss: 1.3644 - accuracy: 0.5932\n",
            "----- Generating text after Epoch: 24\n",
            "----- Generating with seed: \"I wish to see the color of your eyes and\"\n",
            "I wish to see the color of your eyes and beprows, and time, it is Old nature as I part in their informed That use’le, sir, which not? And I will be attoccess.  GRIGDER. Brieves, though-sheet double humon. I’ll bege it.  CLOTEN. Ahisomenus rapslade and.  AGHIMA. So is brend him afcrows, That into erching have men the how deceare,              Are of your first of his pursul'd Whether to been eyes,     That, heard your partad both not the\n",
            "11147/11147 [==============================] - 75s 7ms/step - loss: 1.3643 - accuracy: 0.5932\n",
            "Epoch 26/200\n",
            "11142/11147 [============================>.] - ETA: 0s - loss: 1.3619 - accuracy: 0.5939\n",
            "----- Generating text after Epoch: 25\n",
            "----- Generating with seed: \"I wish to see the color of your eyes and\"\n",
            "I wish to see the color of your eyes and doth Friends greet. Then would I she end, Where is a mile to a colour shall;  Aside these common yeartious another cosested forbic’d and Or at that? Doth be so life, Timon. Ewite zew all obstring me; a good fearing in anchiliady, if I should have my prother. Then. Who be far this is it mouse     As welcome to do my honour and hardness; nor stand thee, rempence; I pray yourself Adord the thist won\n",
            "11147/11147 [==============================] - 75s 7ms/step - loss: 1.3619 - accuracy: 0.5939\n",
            "Epoch 27/200\n",
            "11140/11147 [============================>.] - ETA: 0s - loss: 1.3597 - accuracy: 0.5946\n",
            "----- Generating text after Epoch: 26\n",
            "----- Generating with seed: \"I wish to see the color of your eyes and\"\n",
            "I wish to see the color of your eyes and and sharp Which so done, have end no speak our Esse     Cerent blood the answven.   SICINIUS. A do thus that early they comes in his heart;       Who long night under the world and graking him.     Now, upon ill born.  SIR ANTON. What last it of alacted on them? Come nothing, bilther gap both as I am mitat blood in Antony; the Bride.   KING OFFER. Riching, and yet not so marrening in a stame, Tha\n",
            "11147/11147 [==============================] - 74s 7ms/step - loss: 1.3596 - accuracy: 0.5946\n",
            "Epoch 28/200\n",
            "11145/11147 [============================>.] - ETA: 0s - loss: 1.3574 - accuracy: 0.5951\n",
            "----- Generating text after Epoch: 27\n",
            "----- Generating with seed: \"I wish to see the color of your eyes and\"\n",
            "I wish to see the color of your eyes and prpEate; But, has heed is a belions daughin, expenate, We not march cup arm'd many Ourses, jointer, my disdrépish     Again from the wast. It die?   DUKE SENIOR. O Tunbunder is more their propose Enjouch at any our still adgrived-mount: For sensour-vilvation, or go. Miloncibleonagharts verity)   Shrosters, when to mur is thy squerience. Art I time,     And not of the rap him in she withou.  BAPTI\n",
            "11147/11147 [==============================] - 74s 7ms/step - loss: 1.3574 - accuracy: 0.5951\n",
            "Epoch 29/200\n",
            "11143/11147 [============================>.] - ETA: 0s - loss: 1.3546 - accuracy: 0.5957\n",
            "----- Generating text after Epoch: 28\n",
            "----- Generating with seed: \"I wish to see the color of your eyes and\"\n",
            "I wish to see the color of your eyes and yours, that I lives,     And myself! it shear't him, lord,     And then exprins, and wea to pain it,     With his wame and break a lie obill     safe a beone; ne'er a discourse your Messies.  BENVOLUS. O, Be, To felt divine it may     Intelpock you the man it to lesseh,     My purity is my lord;     The meaning and beauty be villeasty, I have sad, my ladysholk; I carrhed two saw an our life,     \n",
            "11147/11147 [==============================] - 75s 7ms/step - loss: 1.3546 - accuracy: 0.5957\n",
            "Epoch 30/200\n",
            "11141/11147 [============================>.] - ETA: 0s - loss: 1.3543 - accuracy: 0.5957\n",
            "----- Generating text after Epoch: 29\n",
            "----- Generating with seed: \"I wish to see the color of your eyes and\"\n",
            "I wish to see the color of your eyes and iragur’d Lifence, Cabses,     has should bring thee places witness;     Let his sword thou but the nature and fast thou to be fear,     Fathers choar thou resceng or day and hind bons, The provided sorly-son be putationsbout so,     Boweration, and by her hand drunk’d with thy ham to inthready a sword.  THIRD OFFIDER]                                Enter BEROWNE, she rise for zarmocksard and writ\n",
            "11147/11147 [==============================] - 76s 7ms/step - loss: 1.3542 - accuracy: 0.5957\n",
            "Epoch 31/200\n",
            "11140/11147 [============================>.] - ETA: 0s - loss: 1.3527 - accuracy: 0.5961\n",
            "----- Generating text after Epoch: 30\n",
            "----- Generating with seed: \"I wish to see the color of your eyes and\"\n",
            "I wish to see the color of your eyes and long.     As blooded so doothers; I do not not,       To ship thy heavy tempt and a grave. And not infold shadomes.   SPEED. Ay, chasting all a very cerift; with my white kneelve all that an endage. Be a put the stry mefuster; and deep Cordellion and welcome to have.)   DEMERDO. Your villaim is man; by your good well. Shall you! Help’d! tein' the grossom gave my brets, CRESSIEW. Dart I'll lear al\n",
            "11147/11147 [==============================] - 74s 7ms/step - loss: 1.3525 - accuracy: 0.5961\n",
            "Epoch 32/200\n",
            "11141/11147 [============================>.] - ETA: 0s - loss: 1.3508 - accuracy: 0.5966\n",
            "----- Generating text after Epoch: 31\n",
            "----- Generating with seed: \"I wish to see the color of your eyes and\"\n",
            "I wish to see the color of your eyes and lands it near Trougd within sept would heaven it doeband     Is kind-masters, known to be. Madacle.                                Exit  ACTIVYORA    WARWIANE. Thus, play; that hast they say Hefal-brays, here! Hereel this honours.   FIRST GENTLEMAN. I’ll enough see he here?  JESSICE. Whence what!' a storm to A Musmage toward     The brestne to me bid the deepes! Whot me; And wherein all these str\n",
            "11147/11147 [==============================] - 75s 7ms/step - loss: 1.3508 - accuracy: 0.5966\n",
            "Epoch 33/200\n",
            "11140/11147 [============================>.] - ETA: 0s - loss: 1.3486 - accuracy: 0.5970\n",
            "----- Generating text after Epoch: 32\n",
            "----- Generating with seed: \"I wish to see the color of your eyes and\"\n",
            "I wish to see the color of your eyes and sides herself, And scarcilly madd distreaming of amonds     To had affected Soge-lords affair, about them.  PORTEA. It may like a dung to our dust; for then I’ll be he tear     \"Pruck to, in his comfort, 'tis bears     By welcome whot doth cannot say I age him to dow the Queen dow, So but for sweet brow. O To long shiping mine? Wot sticke, fave, it dog’st.  Lesfeed in my promise’s.  HORTENSIO. I \n",
            "11147/11147 [==============================] - 74s 7ms/step - loss: 1.3486 - accuracy: 0.5970\n",
            "Epoch 34/200\n",
            "11141/11147 [============================>.] - ETA: 0s - loss: 1.3473 - accuracy: 0.5975\n",
            "----- Generating text after Epoch: 33\n",
            "----- Generating with seed: \"I wish to see the color of your eyes and\"\n",
            "I wish to see the color of your eyes and feed. So, I towery child.  [Aside]  I threy kiss, ears gone.     Marry Shepet, and we take beel, foop.   RIVARS. A disdress'd your faultran uncle with sheet th' fool and which for fire, And weary bears hither to be in thee!     When the eyes is this damas     Stine old life, when wearing me as, brave so father; Curpetue lay to full.   MARTIUS. His trajechaty, I alone me a ‘cloy. Hell, these contr\n",
            "11147/11147 [==============================] - 75s 7ms/step - loss: 1.3473 - accuracy: 0.5976\n",
            "Epoch 35/200\n",
            "11146/11147 [============================>.] - ETA: 0s - loss: 1.3458 - accuracy: 0.5977\n",
            "----- Generating text after Epoch: 34\n",
            "----- Generating with seed: \"I wish to see the color of your eyes and\"\n",
            "I wish to see the color of your eyes and my compert, if your into my salk’d evil, Denders courtest might murder’s man in your misent. So.  SECOND LORD. He is hand the troubled? Thy five much lady of ill.   LORD. As your soon Hoors such hand. Pray you mean him when quoth live. Love, belivitier;         Sostany, you'll is for high yet so thy meet!   MENENIUS. Lord bestipling to my country's tail,     No more have dotr banisheds against th\n",
            "11147/11147 [==============================] - 74s 7ms/step - loss: 1.3457 - accuracy: 0.5977\n",
            "Epoch 36/200\n",
            "11140/11147 [============================>.] - ETA: 0s - loss: 1.3441 - accuracy: 0.5982\n",
            "----- Generating text after Epoch: 35\n",
            "----- Generating with seed: \"I wish to see the color of your eyes and\"\n",
            "I wish to see the color of your eyes and well. With you. Who, this,     With our Dust more to stay to pleas'd.   TITUS. Thou satitaty? Redenicate, or let me, But this pescance eyes.  PANDARUS. Marria, Cophes Hear in thee. But that glewant Clossing eyes God’s next give Troisery of womans die? What?   LORD. My lord?  [Enter Fortune, a didgrest acks. Marry, for your skin his sea are a rooly,     Thou cannould ninglass in poor slay, EALON_]\n",
            "11147/11147 [==============================] - 74s 7ms/step - loss: 1.3441 - accuracy: 0.5982\n",
            "Epoch 37/200\n",
            "11144/11147 [============================>.] - ETA: 0s - loss: 1.3431 - accuracy: 0.5985\n",
            "----- Generating text after Epoch: 36\n",
            "----- Generating with seed: \"I wish to see the color of your eyes and\"\n",
            "I wish to see the color of your eyes and Engarets is.   NORFOLK. You brow this lately image far Duke with edicks-     Fie; that bate, and request thee mine every of a virting; Or noble Food, on Coriolanus, And the right an._ thy hand, let me demand.  WAMBER. Sweet mother, and drew boy you, purst given, Or let it no more.   ANTONY. A England shall kiss                              Exeunt  SCENE VIIII.  SECOND CUTSBIND. Must pity fin.  JU\n",
            "11147/11147 [==============================] - 74s 7ms/step - loss: 1.3431 - accuracy: 0.5985\n",
            "Epoch 38/200\n",
            "11146/11147 [============================>.] - ETA: 0s - loss: 1.3417 - accuracy: 0.5991\n",
            "----- Generating text after Epoch: 37\n",
            "----- Generating with seed: \"I wish to see the color of your eyes and\"\n",
            "I wish to see the color of your eyes and world Were praw deass slain the happ’d:     Wherey's here you canceous wreng thius, O’er by this head.  PRINCE. What, you make you? I play thee veit in Calust.  hask shall ye is a camp have       Thare, he imless battle forethure first     Than world is cold men are prosper.   SHALTON. How durst dongeate you, when my free of     bear importune o’er to you. A curph in the sum, you bone, are phoer \n",
            "11147/11147 [==============================] - 75s 7ms/step - loss: 1.3417 - accuracy: 0.5991\n",
            "Epoch 39/200\n",
            "11140/11147 [============================>.] - ETA: 0s - loss: 1.3408 - accuracy: 0.5989\n",
            "----- Generating text after Epoch: 38\n",
            "----- Generating with seed: \"I wish to see the color of your eyes and\"\n",
            "I wish to see the color of your eyes and felses Boss]  I besides, Profite state your courd. Ged and was my head. Not and Imiga itself try good Duke of So sound at the heart own gown to the pate. Remember when as a good pass!   KING RICHARD. The note thus I must be knave to Choren RICHMOTCK__]  You will.  CRESSIDA. Shall field him dot of candon.    HOSW. With your face?   [_Exit._]  JULIET. Why to high I, thou wilt nothing for the snoute\n",
            "11147/11147 [==============================] - 75s 7ms/step - loss: 1.3408 - accuracy: 0.5989\n",
            "Epoch 40/200\n",
            "11147/11147 [==============================] - ETA: 0s - loss: 1.3392 - accuracy: 0.5994\n",
            "----- Generating text after Epoch: 39\n",
            "----- Generating with seed: \"I wish to see the color of your eyes and\"\n",
            "I wish to see the color of your eyes and star. Tome he were as macces?   MESSENBuffered data was truncated after reaching the output size limit."
          ],
          "name": "stdout"
        }
      ]
    },
    {
      "cell_type": "code",
      "metadata": {
        "id": "oIhnuEg9BXYP",
        "colab_type": "code",
        "colab": {}
      },
      "source": [
        ""
      ],
      "execution_count": 0,
      "outputs": []
    },
    {
      "cell_type": "markdown",
      "metadata": {
        "colab_type": "text",
        "id": "zE4a4O7Bp5x1"
      },
      "source": [
        "# Resources and Stretch Goals"
      ]
    },
    {
      "cell_type": "code",
      "metadata": {
        "id": "9rVxUSAXlu8w",
        "colab_type": "code",
        "colab": {}
      },
      "source": [
        ""
      ],
      "execution_count": 0,
      "outputs": []
    },
    {
      "cell_type": "markdown",
      "metadata": {
        "colab_type": "text",
        "id": "uT3UV3gap9H6"
      },
      "source": [
        "## Stretch goals:\n",
        "- Refine the training and generation of text to be able to ask for different genres/styles of Shakespearean text (e.g. plays versus sonnets)\n",
        "- Train a classification model that takes text and returns which work of Shakespeare it is most likely to be from\n",
        "- Make it more performant! Many possible routes here - lean on Keras, optimize the code, and/or use more resources (AWS, etc.)\n",
        "- Revisit the news example from class, and improve it - use categories or tags to refine the model/generation, or train a news classifier\n",
        "- Run on bigger, better data\n",
        "\n",
        "## Resources:\n",
        "- [The Unreasonable Effectiveness of Recurrent Neural Networks](https://karpathy.github.io/2015/05/21/rnn-effectiveness/) - a seminal writeup demonstrating a simple but effective character-level NLP RNN\n",
        "- [Simple NumPy implementation of RNN](https://github.com/JY-Yoon/RNN-Implementation-using-NumPy/blob/master/RNN%20Implementation%20using%20NumPy.ipynb) - Python 3 version of the code from \"Unreasonable Effectiveness\"\n",
        "- [TensorFlow RNN Tutorial](https://github.com/tensorflow/models/tree/master/tutorials/rnn) - code for training a RNN on the Penn Tree Bank language dataset\n",
        "- [4 part tutorial on RNN](http://www.wildml.com/2015/09/recurrent-neural-networks-tutorial-part-1-introduction-to-rnns/) - relates RNN to the vanishing gradient problem, and provides example implementation\n",
        "- [RNN training tips and tricks](https://github.com/karpathy/char-rnn#tips-and-tricks) - some rules of thumb for parameterizing and training your RNN"
      ]
    }
  ]
}