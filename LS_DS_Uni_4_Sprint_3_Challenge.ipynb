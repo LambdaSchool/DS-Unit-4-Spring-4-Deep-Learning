{
  "nbformat": 4,
  "nbformat_minor": 0,
  "metadata": {
    "accelerator": "GPU",
    "colab": {
      "name": "LS_DS_Uni_4_Sprint_3_Challenge.ipynb",
      "provenance": [],
      "collapsed_sections": [],
      "include_colab_link": true
    },
    "kernel_info": {
      "name": "u4-s3-dnn"
    },
    "kernelspec": {
      "name": "u4-s3-dnn",
      "language": "python",
      "display_name": "U4-S3-DNN (Python 3.7)"
    },
    "language_info": {
      "name": "python",
      "version": "3.7.3",
      "mimetype": "text/x-python",
      "codemirror_mode": {
        "name": "ipython",
        "version": 3
      },
      "pygments_lexer": "ipython3",
      "nbconvert_exporter": "python",
      "file_extension": ".py"
    },
    "nteract": {
      "version": "0.21.0"
    }
  },
  "cells": [
    {
      "cell_type": "markdown",
      "metadata": {
        "id": "view-in-github",
        "colab_type": "text"
      },
      "source": [
        "<a href=\"https://colab.research.google.com/github/serinamarie/DS-Unit-4-Sprint-3-Deep-Learning/blob/master/LS_DS_Uni_4_Sprint_3_Challenge.ipynb\" target=\"_parent\"><img src=\"https://colab.research.google.com/assets/colab-badge.svg\" alt=\"Open In Colab\"/></a>"
      ]
    },
    {
      "cell_type": "markdown",
      "metadata": {
        "id": "tQXMO1q_cJzH",
        "colab_type": "text"
      },
      "source": [
        "<img align=\"left\" src=\"https://lever-client-logos.s3.amazonaws.com/864372b1-534c-480e-acd5-9711f850815c-1524247202159.png\" width=200>\n",
        "<br></br>\n",
        "<br></br>\n",
        "\n",
        "# Major Neural Network Architectures Challenge\n",
        "## *Data Science Unit 4 Sprint 3 Challenge*\n",
        "\n",
        "In this sprint challenge, you'll explore some of the cutting edge of Data Science. This week we studied several famous neural network architectures: \n",
        "recurrent neural networks (RNNs), long short-term memory (LSTMs), convolutional neural networks (CNNs), and Autoencoders. In this sprint challenge, you will revisit these models. Remember, we are testing your knowledge of these architectures not your ability to fit a model with high accuracy. \n",
        "\n",
        "__*Caution:*__  these approaches can be pretty heavy computationally. All problems were designed so that you should be able to achieve results within at most 5-10 minutes of runtime on SageMaker, Colab or a comparable environment. If something is running longer, doublecheck your approach!\n",
        "\n",
        "## Challenge Objectives\n",
        "*You should be able to:*\n",
        "* <a href=\"#p1\">Part 1</a>: Train a LSTM classification model\n",
        "* <a href=\"#p2\">Part 2</a>: Utilize a pre-trained CNN for objective detection\n",
        "* <a href=\"#p3\">Part 3</a>: Describe the components of an autoencoder\n",
        "* <a href=\"#p4\">Part 4</a>: Describe yourself as a Data Science and elucidate your vision of AI"
      ]
    },
    {
      "cell_type": "markdown",
      "metadata": {
        "colab_type": "text",
        "id": "-5UwGRnJOmD4"
      },
      "source": [
        "<a id=\"p1\"></a>\n",
        "## Part 1 - RNNs\n",
        "\n",
        "Use an RNN/LSTM to fit a multi-class classification model on reuters news articles to distinguish topics of articles. The data is already encoded properly for use in an RNN model. \n",
        "\n",
        "Your Tasks: \n",
        "- Use Keras to fit a predictive model, classifying news articles into topics. \n",
        "- Report your overall score and accuracy\n",
        "\n",
        "For reference, the [Keras IMDB sentiment classification example](https://github.com/keras-team/keras/blob/master/examples/imdb_lstm.py) will be useful, as well the RNN code we used in class.\n",
        "\n",
        "__*Note:*__  Focus on getting a running model, not on maxing accuracy with extreme data size or epoch numbers. Only revisit and push accuracy if you get everything else done!"
      ]
    },
    {
      "cell_type": "code",
      "metadata": {
        "colab_type": "code",
        "id": "DS-9ksWjoJit",
        "colab": {}
      },
      "source": [
        "from tensorflow.keras.datasets import reuters\n",
        "\n",
        "(X_train, y_train), (X_test, y_test) = reuters.load_data(num_words=None,\n",
        "                                                         skip_top=0,\n",
        "                                                         maxlen=None,\n",
        "                                                         test_split=0.2,\n",
        "                                                         seed=723812,\n",
        "                                                         start_char=1,\n",
        "                                                         oov_char=2,\n",
        "                                                         index_from=3)"
      ],
      "execution_count": 0,
      "outputs": []
    },
    {
      "cell_type": "code",
      "metadata": {
        "colab_type": "code",
        "id": "fLKqFh8DovaN",
        "outputId": "d57e7818-dfbc-4204-da1b-17d9d7e7fb95",
        "colab": {
          "base_uri": "https://localhost:8080/",
          "height": 68
        }
      },
      "source": [
        "# Demo of encoding\n",
        "\n",
        "word_index = reuters.get_word_index(path=\"reuters_word_index.json\")\n",
        "\n",
        "print(f\"Iran is encoded as {word_index['iran']} in the data\")\n",
        "print(f\"London is encoded as {word_index['london']} in the data\")\n",
        "print(\"Words are encoded as numbers in our dataset.\")"
      ],
      "execution_count": 231,
      "outputs": [
        {
          "output_type": "stream",
          "text": [
            "Iran is encoded as 779 in the data\n",
            "London is encoded as 544 in the data\n",
            "Words are encoded as numbers in our dataset.\n"
          ],
          "name": "stdout"
        }
      ]
    },
    {
      "cell_type": "code",
      "metadata": {
        "colab_type": "code",
        "id": "_QVSlFEAqWJM",
        "outputId": "3a877e11-0f72-4b7e-ba7d-428f479e6578",
        "colab": {
          "base_uri": "https://localhost:8080/",
          "height": 102
        }
      },
      "source": [
        "from tensorflow.keras.preprocessing import sequence\n",
        "from tensorflow.keras.models import Sequential\n",
        "from tensorflow.keras.layers import Dense, Embedding, LSTM\n",
        "\n",
        "batch_size = 46\n",
        "max_features = len(word_index.values())\n",
        "maxlen = 200\n",
        "\n",
        "print(len(X_train), 'train sequences')\n",
        "print(len(X_test), 'test sequences')\n",
        "\n",
        "print('Pad sequences (samples x time)')\n",
        "X_train = sequence.pad_sequences(X_train, maxlen=maxlen)\n",
        "X_test = sequence.pad_sequences(X_test, maxlen=maxlen)\n",
        "print('X_train shape:', X_train.shape)\n",
        "print('X_test shape:', X_test.shape)"
      ],
      "execution_count": 232,
      "outputs": [
        {
          "output_type": "stream",
          "text": [
            "8982 train sequences\n",
            "2246 test sequences\n",
            "Pad sequences (samples x time)\n",
            "X_train shape: (8982, 200)\n",
            "X_test shape: (2246, 200)\n"
          ],
          "name": "stdout"
        }
      ]
    },
    {
      "cell_type": "code",
      "metadata": {
        "id": "OXAuPG_icJzX",
        "colab_type": "code",
        "outputId": "ca07034d-7338-4645-ccba-aef350c67cfe",
        "colab": {
          "base_uri": "https://localhost:8080/",
          "height": 204
        }
      },
      "source": [
        "model = Sequential()\n",
        "model.add(Embedding(max_features, 128))\n",
        "model.add(LSTM(128, dropout=0.2, recurrent_dropout=0.2))\n",
        "model.add(Dense(46, activation='softmax'))\n",
        "\n",
        "model.compile(loss='sparse_categorical_crossentropy',\n",
        "              optimizer='rmsprop',\n",
        "              metrics=['accuracy'])\n",
        "\n",
        "model.fit(X_train, y_train,\n",
        "          batch_size=batch_size,\n",
        "          epochs=3,\n",
        "          validation_data=(X_test, y_test))\n",
        "\n",
        "score, acc = model.evaluate(X_test, y_test,\n",
        "                            batch_size=batch_size)\n",
        "print('Test score:', score)\n",
        "print('Test accuracy:', acc)"
      ],
      "execution_count": 238,
      "outputs": [
        {
          "output_type": "stream",
          "text": [
            "Train...\n",
            "Train on 8982 samples, validate on 2246 samples\n",
            "Epoch 1/3\n",
            "8982/8982 [==============================] - 91s 10ms/sample - loss: 2.1657 - acc: 0.4453 - val_loss: 2.2682 - val_acc: 0.5036\n",
            "Epoch 2/3\n",
            "8982/8982 [==============================] - 74s 8ms/sample - loss: 1.7490 - acc: 0.5474 - val_loss: 1.6027 - val_acc: 0.5886\n",
            "Epoch 3/3\n",
            "8982/8982 [==============================] - 73s 8ms/sample - loss: 1.5888 - acc: 0.5868 - val_loss: 1.5150 - val_acc: 0.6118\n",
            "2246/2246 [==============================] - 4s 2ms/sample - loss: 1.5150 - acc: 0.6118\n",
            "Test score: 1.514996928236682\n",
            "Test accuracy: 0.61175424\n"
          ],
          "name": "stdout"
        }
      ]
    },
    {
      "cell_type": "markdown",
      "metadata": {
        "id": "AQR35xR3cJza",
        "colab_type": "text"
      },
      "source": [
        "## Sequence Data Question\n",
        "#### *Describe the `pad_sequences` method used on the training dataset. What does it do? Why do you need it?*\n",
        "\n",
        "Keras needs sequences of the same length for computation. Padding the sequences with zeroes ensures that they are all of the same length, as the model will learn over time that the zeroes carry no information.\n",
        "\n",
        "## RNNs versus LSTMs\n",
        "#### *What are the primary motivations behind using Long-ShortTerm Memory Cell unit over traditional Recurrent Neural Networks?*\n",
        "\n",
        "Because of the vanishing and exploding gradient problem, an LSTM is preferable when it is important to maintain information over a longer period of time. LSTMs have a cell state which has gates that regulate the ability of information to leave and enter the cell. Therefore, LSTMs are better at handling long-term dependency.\n",
        "\n",
        "## RNN / LSTM Use Cases\n",
        "#### *Name and Describe 3 Use Cases of LSTMs or RNNs and why they are suited to that use case*\n",
        "\n",
        "RNNs are good at predicting sequences. Thus, one use case would be using text data to generate/predict new text. Another use case is on speech data, perhaps for speech recognition, since RNNs are good at processing sequenced data."
      ]
    },
    {
      "cell_type": "markdown",
      "metadata": {
        "colab_type": "text",
        "id": "yz0LCZd_O4IG"
      },
      "source": [
        "<a id=\"p2\"></a>\n",
        "## Part 2- CNNs\n",
        "\n",
        "### Find the Frog\n",
        "\n",
        "Time to play \"find the frog!\" Use Keras and ResNet50 (pre-trained) to detect which of the following images contain frogs:\n",
        "\n",
        "<img align=\"left\" src=\"https://d3i6fh83elv35t.cloudfront.net/newshour/app/uploads/2017/03/GettyImages-654745934-1024x687.jpg\" width=400>\n"
      ]
    },
    {
      "cell_type": "code",
      "metadata": {
        "colab_type": "code",
        "id": "whIqEWR236Af",
        "outputId": "37f8a5ac-e664-4e78-c332-311dd6cbf361",
        "colab": {
          "base_uri": "https://localhost:8080/",
          "height": 68
        }
      },
      "source": [
        "!pip install google_images_download"
      ],
      "execution_count": 0,
      "outputs": [
        {
          "output_type": "stream",
          "text": [
            "Requirement already satisfied: google_images_download in /usr/local/lib/python3.6/dist-packages (2.8.0)\n",
            "Requirement already satisfied: selenium in /usr/local/lib/python3.6/dist-packages (from google_images_download) (3.141.0)\n",
            "Requirement already satisfied: urllib3 in /usr/local/lib/python3.6/dist-packages (from selenium->google_images_download) (1.24.3)\n"
          ],
          "name": "stdout"
        }
      ]
    },
    {
      "cell_type": "code",
      "metadata": {
        "colab_type": "code",
        "id": "EKnnnM8k38sN",
        "colab": {
          "base_uri": "https://localhost:8080/",
          "height": 1000
        },
        "outputId": "c37b953e-5f76-40ab-cbac-08f3fd825a69"
      },
      "source": [
        "from google_images_download import google_images_download\n",
        "\n",
        "response = google_images_download.googleimagesdownload()\n",
        "arguments = {\"keywords\": 'lily frog pond', \"limit\": 60, \"print_urls\": True}\n",
        "a = 'frog pond lily'\n",
        "\n",
        "# def downloadimages(query):\n",
        "#     for x in range(35,80):\n",
        "#         arguments = {\"keywords\": query, \"limit\":x, 'print_urls': True} \n",
        "#         try:\n",
        "#             response.download(arguments)\n",
        "#         except:\n",
        "#             pass\n",
        "\n",
        "absolute_image_paths = response.download(arguments)"
      ],
      "execution_count": 204,
      "outputs": [
        {
          "output_type": "stream",
          "text": [
            "\n",
            "Item no.: 1 --> Item name = lily frog pond\n",
            "Evaluating...\n",
            "Starting Download...\n",
            "Image URL: https://www.maxpixel.net/static/photo/1x/Nature-Leaf-Animal-Water-Lily-Frog-Pond-4297486.jpg\n",
            "URLError on an image...trying next one... Error: <urlopen error [SSL: CERTIFICATE_VERIFY_FAILED] certificate verify failed (_ssl.c:852)>\n",
            "Image URL: https://www.seekpng.com/png/detail/78-780997_pond-transparent-lily-pad-clipart-frog-pond-clip.png\n",
            "Completed Image ====> 1.78-780997_pond-transparent-lily-pad-clipart-frog-pond-clip.png\n",
            "Image URL: https://image.shutterstock.com/image-photo/green-frogs-pond-lilly-pads-260nw-50197960.jpg\n",
            "Completed Image ====> 2.green-frogs-pond-lilly-pads-260nw-50197960.jpg\n",
            "Image URL: http://www.slrobertson.com/images/usa/georgia/atlanta/atl-botanical-gardens/frog-lily-pond-3-b.jpg\n",
            "Completed Image ====> 3.frog-lily-pond-3-b.jpg\n",
            "Image URL: https://i.redd.it/awd8c9t1abg11.jpg\n",
            "Completed Image ====> 4.awd8c9t1abg11.jpg\n",
            "Image URL: https://cf.geekdo-images.com/opengraph_letterbox/img/CPG2PMKc_4fbNZqbEn0wVmiA6Ak=/fit-in/1200x630/filters:fill(auto)/pic296534.jpg\n",
            "Completed Image ====> 5.pic296534.jpg\n",
            "Image URL: https://images-na.ssl-images-amazon.com/images/I/41IN8Bh-YCL._SX355_.jpg\n",
            "Completed Image ====> 6.41IN8Bh-YCL._SX355_.jpg\n",
            "Image URL: https://i.pinimg.com/736x/98/46/03/984603d418e5e5b94c11850bd0f32dec.jpg\n",
            "Completed Image ====> 7.984603d418e5e5b94c11850bd0f32dec.jpg\n",
            "Image URL: https://i.etsystatic.com/6692622/r/il/0ce559/1213584123/il_570xN.1213584123_p7os.jpg\n",
            "Completed Image ====> 8.il_570xN.1213584123_p7os.jpg\n",
            "Image URL: https://thumbs.dreamstime.com/z/frog-pond-7338493.jpg\n",
            "Completed Image ====> 9.frog-pond-7338493.jpg\n",
            "Image URL: https://cdn.pixabay.com/photo/2018/05/10/21/29/frogs-3388818_960_720.jpg\n",
            "Completed Image ====> 10.frogs-3388818_960_720.jpg\n",
            "Image URL: https://media-cdn.tripadvisor.com/media/photo-s/0c/f2/69/55/the-lilypad-pond-there.jpg\n",
            "Completed Image ====> 11.the-lilypad-pond-there.jpg\n",
            "Image URL: https://c1.wallpaperflare.com/preview/362/506/455/frog-pond-water-amphibian-water-frog-lily-pad.jpg\n",
            "Completed Image ====> 12.frog-pond-water-amphibian-water-frog-lily-pad.jpg\n",
            "Image URL: https://get.pxhere.com/photo/water-nature-lake-animal-pond-wildlife-green-biology-frog-amphibian-garden-fauna-water-lily-lily-pad-tree-frog-vertebrate-creature-lake-rose-garden-pond-frog-pond-water-frog-pond-inhabitants-pond-with-frogs-bullfrog-ranidae-amphib-871295.jpg\n",
            "Completed Image ====> 13.water-nature-lake-animal-pond-wildlife-green-biology-frog-amphibian-garden-fauna-water-lily-lily-pad-tree-frog-vertebrate-creature-lake-rose-garden-pond-frog-pond-water-frog-pond-inhabitants-pond-with-frogs-bullfrog-ranidae-amphib-871295.jpg\n",
            "Image URL: https://res.cloudinary.com/twenty20/private_images/t_watermark-criss-cross-10/v1517682059000/photosp/f07e1263-7ed0-412d-9f80-ff3d737d953c/stock-photo-nature-pond-green-water-lily-frog-botanical-garden-tbilisi-f07e1263-7ed0-412d-9f80-ff3d737d953c.jpg\n",
            "Completed Image ====> 14.stock-photo-nature-pond-green-water-lily-frog-botanical-garden-tbilisi-f07e1263-7ed0-412d-9f80-ff3d737d953c.jpg\n",
            "Image URL: https://storage.needpix.com/rsynced_images/water-lily-2510551_1280.jpg\n",
            "URLError on an image...trying next one... Error: <urlopen error [SSL: CERTIFICATE_VERIFY_FAILED] certificate verify failed (_ssl.c:852)>\n",
            "Image URL: https://i.etsystatic.com/9214733/r/il/357b8f/1912162460/il_570xN.1912162460_jn9n.jpg\n",
            "Completed Image ====> 15.il_570xN.1912162460_jn9n.jpg\n",
            "Image URL: https://webstockreview.net/images/clipart-frog-scene.png\n",
            "Completed Image ====> 16.clipart-frog-scene.png\n",
            "Image URL: https://c8.alamy.com/comp/H41GWC/water-lily-pond-detail-ceramics-frog-pond-waters-lake-water-lily-leaves-H41GWC.jpg\n",
            "Completed Image ====> 17.water-lily-pond-detail-ceramics-frog-pond-waters-lake-water-lily-leaves-H41GWC.jpg\n",
            "Image URL: https://images.fineartamerica.com/images/artworkimages/mediumlarge/1/the-frog-pond-jane-ricker.jpg\n",
            "Completed Image ====> 18.the-frog-pond-jane-ricker.jpg\n",
            "Image URL: https://c7.uihere.com/files/366/600/9/frog-cartoon-frog-in-the-lotus-pond.jpg\n",
            "Completed Image ====> 19.frog-cartoon-frog-in-the-lotus-pond.jpg\n",
            "Image URL: https://garden.spoonflower.com/c/9169695/r/s/d-i-21/ex5pUFpeEJGKNExbnI0kNoJwiWQTKOhaDCk/Frogs_Enjoying_Rain_in_Lily_Pond_Large.jpg\n",
            "Completed Image ====> 20.Frogs_Enjoying_Rain_in_Lily_Pond_Large.jpg\n",
            "Image URL: https://images-na.ssl-images-amazon.com/images/I/61sPrlbm8lL._AC_SL1001_.jpg\n",
            "Completed Image ====> 21.61sPrlbm8lL._AC_SL1001_.jpg\n",
            "Image URL: https://imagesvc.meredithcorp.io/v3/mm/image?url=https%3A%2F%2Fstatic.onecms.io%2Fwp-content%2Fuploads%2Fsites%2F37%2F2018%2F10%2F15220632%2Fset-of-frogs-on-lily-pads-with-pink-flowers-1c731a28.jpg&q=85\n",
            "Invalid or missing image format. Skipping...\n",
            "Image URL: https://ak4.picdn.net/shutterstock/videos/526684/thumb/1.jpg\n",
            "Completed Image ====> 22.1.jpg\n",
            "Image URL: https://previews.123rf.com/images/limolida/limolida1806/limolida180600010/104120103-vector-green-frog-on-lily-pad-duck-swimming-on-the-pond-water-among-the-reed-grass-bulrushes-delight.jpg\n",
            "Completed Image ====> 23.104120103-vector-green-frog-on-lily-pad-duck-swimming-on-the-pond-water-among-the-reed-grass-bulrushes-delight.jpg\n",
            "Image URL: http://static1.squarespace.com/static/563cef71e4b01fcd611400d8/5649d334e4b052d55b93f36c/5b4a3936aa4a9974b21e4a74/1536937291516/brian_pond_lily_pad.jpg?format=1500w\n",
            "Completed Image ====> 24.brian_pond_lily_pad.jpg\n",
            "Image URL: https://media.istockphoto.com/vectors/princess-frog-cartoon-mascot-character-with-crown-and-arrow-perched-vector-id641419798\n",
            "Invalid or missing image format. Skipping...\n",
            "Image URL: https://c1.wallpaperflare.com/preview/784/1006/481/frog-water-frog-frog-pond-amphibian.jpg\n",
            "Completed Image ====> 25.frog-water-frog-frog-pond-amphibian.jpg\n",
            "Image URL: https://p0.pxfuel.com/preview/307/172/902/pond-water-frog-frog-pond-water-lily.jpg\n",
            "Completed Image ====> 26.pond-water-frog-frog-pond-water-lily.jpg\n",
            "Image URL: https://s7d5.scene7.com/is/image/UrbanOutfitters/49708191_000_b?$xlarge$&hei=900&qlt=80&fit=constrain\n",
            "Invalid or missing image format. Skipping...\n",
            "Image URL: https://media-cdn.tripadvisor.com/media/photo-s/0f/ea/9c/e4/water-lily-in-the-frog.jpg\n",
            "Completed Image ====> 27.water-lily-in-the-frog.jpg\n",
            "Image URL: https://cdn.shopify.com/s/files/1/0644/6861/products/1afrogpondwater.jpg?v=1420230863\n",
            "Completed Image ====> 28.1afrogpondwater.jpg\n",
            "Image URL: https://i.etsystatic.com/12878225/r/il/cf2356/1006002935/il_794xN.1006002935_oooc.jpg\n",
            "Completed Image ====> 29.il_794xN.1006002935_oooc.jpg\n",
            "Image URL: https://i.pinimg.com/originals/3b/c4/c0/3bc4c03f6d425ddf5f7664d9a9ffc546.jpg\n",
            "Completed Image ====> 30.3bc4c03f6d425ddf5f7664d9a9ffc546.jpg\n",
            "Image URL: https://thumbs.worthpoint.com/zoom/images4/1/0516/30/weller-pottery-coppertone-water-lily_1_448566a4ad299ecea478663a64eec58a.jpg\n",
            "URLError on an image...trying next one... Error: HTTP Error 403: Forbidden\n",
            "Image URL: https://i0.pickpik.com/photos/555/387/589/frog-water-frog-frog-pond-amphibian-preview.jpg\n",
            "Completed Image ====> 31.frog-water-frog-frog-pond-amphibian-preview.jpg\n",
            "Image URL: https://kiwico-icdn.dexecure.net/live/tstep/id41d8cd98f00/a46e25cb6dd5.jpg\n",
            "Completed Image ====> 32.a46e25cb6dd5.jpg\n",
            "Image URL: https://ecdn.teacherspayteachers.com/thumbitem/Frog-pond-clipart-commercial-use-vector-graphics-digital-CL688-1426160-1497523332/original-1426160-1.jpg\n",
            "Completed Image ====> 33.original-1426160-1.jpg\n",
            "Image URL: https://slm-assets.secondlife.com/assets/21879591/view_large/JIANFrogPondCollection1024AD.jpg?1539798952\n",
            "Completed Image ====> 34.JIANFrogPondCollection1024AD.jpg\n",
            "Image URL: https://media.istockphoto.com/photos/pacific-chorus-tree-frog-sitting-on-pink-water-lily-flower-in-garden-picture-id1018277156\n",
            "Invalid or missing image format. Skipping...\n",
            "Image URL: https://artscrackers.com/wp-content/uploads/2015/04/Frog-on-a-Lily-Pad-Pond-Plate.jpg\n",
            "Completed Image ====> 35.Frog-on-a-Lily-Pad-Pond-Plate.jpg\n",
            "Image URL: https://littlebinsforlittlehands.com/wp-content/uploads/2013/05/IMG_2862.jpg\n",
            "Completed Image ====> 36.IMG_2862.jpg\n",
            "Image URL: https://storage.needpix.com/rsynced_images/frog-2195536_1280.jpg\n",
            "URLError on an image...trying next one... Error: <urlopen error [SSL: CERTIFICATE_VERIFY_FAILED] certificate verify failed (_ssl.c:852)>\n",
            "Image URL: https://i.ya-webdesign.com/images/toad-clipart-frog-pond-7.jpg\n",
            "Completed Image ====> 37.toad-clipart-frog-pond-7.jpg\n",
            "Image URL: https://i.ytimg.com/vi/6UxidoVoNQY/hqdefault.jpg\n",
            "Completed Image ====> 38.hqdefault.jpg\n",
            "Image URL: https://ssl.c.photoshelter.com/img-get/I0000kNs6PkTzWeI/s/750/750/Frog-and-Water-Lily-portrait.jpg\n",
            "Completed Image ====> 39.Frog-and-Water-Lily-portrait.jpg\n",
            "Image URL: https://garden.spoonflower.com/c/8964629/r/s/d-i-21/Ccmrqs_SQRb_7xdBXCOkMpVchO-1MDxTKxQ/Koi_Pond%2C_Lily_Pads_%26_Frogs.jpg\n",
            "Completed Image ====> 40.Koi_Pond%2C_Lily_Pads_%26_Frogs.jpg\n",
            "Image URL: https://thumbs.worthpoint.com/zoom/images1/1/0515/17/weller-coppertone-water-lily-frog_1_7c304cb883d1ac040aea6cffa6c60635.jpg\n",
            "URLError on an image...trying next one... Error: HTTP Error 403: Forbidden\n",
            "Image URL: https://freerangestock.com/sample/115375/green-frog-mostly-hidden-in-lily-pond.jpg\n",
            "Completed Image ====> 41.green-frog-mostly-hidden-in-lily-pond.jpg\n",
            "Image URL: https://i5.walmartimages.com/asr/677b88f4-cf18-4d02-8b64-449a9b91fb80_1.a64e39c108cbfb58bb83152eaff78f7b.jpeg?odnWidth=450&odnHeight=450&odnBg=ffffff\n",
            "Completed Image ====> 42.677b88f4-cf18-4d02-8b64-449a9b91fb80_1.a64e39c108cbfb58bb83152eaff78f7b.jpeg\n",
            "Image URL: https://klamathsiskiyouseeds.com/wp-content/uploads/2015/01/tiger-lily-frog-pond-red-buttes-wilderness-3.jpg\n",
            "Completed Image ====> 43.tiger-lily-frog-pond-red-buttes-wilderness-3.jpg\n",
            "Image URL: https://thumbs.dreamstime.com/z/valentine-s-frog-cartoon-illustration-cute-sitting-lily-pad-pond-holding-day-heart-its-mouth-words-36583173.jpg\n",
            "Completed Image ====> 44.valentine-s-frog-cartoon-illustration-cute-sitting-lily-pad-pond-holding-day-heart-its-mouth-words-36583173.jpg\n",
            "Image URL: https://c1.wallpaperflare.com/preview/369/428/961/frog-green-green-frog-pond.jpg\n",
            "Completed Image ====> 45.frog-green-green-frog-pond.jpg\n",
            "Image URL: https://i.ebayimg.com/images/g/QfQAAOSw8eFbMW1Y/s-l300.jpg\n",
            "Completed Image ====> 46.s-l300.jpg\n",
            "Image URL: http://clipart-library.com/data_images/329691.jpg\n",
            "Completed Image ====> 47.329691.jpg\n",
            "Image URL: https://s24526.pcdn.co/wp-content/uploads/2016/09/web1_Frong-Pond-1-untoned-1.jpg\n",
            "Completed Image ====> 48.web1_Frong-Pond-1-untoned-1.jpg\n",
            "Image URL: https://previews.123rf.com/images/davidgn/davidgn1707/davidgn170700044/82355495-pacfic-tree-frog-sitting-on-water-lily-pad-by-pink-flower-in-garden-backyard-pond.jpg\n",
            "Completed Image ====> 49.82355495-pacfic-tree-frog-sitting-on-water-lily-pad-by-pink-flower-in-garden-backyard-pond.jpg\n",
            "Image URL: https://images.fineartamerica.com/images-medium-large-5/garada-clark-riley-living-pond-with-frog-turtle-lily-pads-fish-crawfish-mouse-snail-lizard-etc-pierpont-bay-archives.jpg\n",
            "Completed Image ====> 50.garada-clark-riley-living-pond-with-frog-turtle-lily-pads-fish-crawfish-mouse-snail-lizard-etc-pierpont-bay-archives.jpg\n",
            "Image URL: https://funlearningforkids.com/wp-content/uploads/2015/05/Frog-Pond-Alphabet-Activity.png\n",
            "Completed Image ====> 51.Frog-Pond-Alphabet-Activity.png\n",
            "Image URL: https://img1.picmix.com/output/pic/normal/2/2/5/3/6583522_184c5.gif\n",
            "Completed Image ====> 52.6583522_184c5.gif\n",
            "Image URL: https://image.shutterstock.com/image-vector/cartoon-animal-vector-illustration-frog-260nw-489284674.jpg\n",
            "Completed Image ====> 53.cartoon-animal-vector-illustration-frog-260nw-489284674.jpg\n",
            "Image URL: https://cdn9.dissolve.com/p/D869_24_457/D869_24_457_1200.jpg\n",
            "Completed Image ====> 54.D869_24_457_1200.jpg\n",
            "Image URL: https://www.notimeforflashcards.com/wp-content/uploads/2019/04/shape-matching.png\n",
            "Completed Image ====> 55.shape-matching.png\n",
            "Image URL: https://www1.pictures.lonny.com/lo/RnZ4xMx1Ccgl.jpg\n",
            "Completed Image ====> 56.RnZ4xMx1Ccgl.jpg\n",
            "Image URL: https://www.maxpixel.net/static/photo/1x/Frog-Water-Lily-Green-Pond-Lake-Water-Nature-3654500.jpg\n",
            "URLError on an image...trying next one... Error: <urlopen error [SSL: CERTIFICATE_VERIFY_FAILED] certificate verify failed (_ssl.c:852)>\n",
            "Image URL: https://sunlandwatergardens.com/wp-content/uploads/2015/03/aquascape-Lazy-Frog-on-Lily-Pad-Spitter-wpump-Poly-Resin-Decorative-Water-Features-part-number-78017-aquascape-pond-supplies-350x268.jpg\n",
            "Completed Image ====> 57.aquascape-Lazy-Frog-on-Lily-Pad-Spitter-wpump-Poly-Resin-Decorative-Water-Features-part-number-78017-aquascape-pond-supplies-350x268.jpg\n",
            "Image URL: https://cdn1.vectorstock.com/i/1000x1000/91/60/seamless-texture-frogs-on-lily-pads-on-a-pond-vector-26199160.jpg\n",
            "Completed Image ====> 58.seamless-texture-frogs-on-lily-pads-on-a-pond-vector-26199160.jpg\n",
            "Image URL: https://littlebinsforlittlehands.com/wp-content/uploads/2013/05/IMG_26291.jpg\n",
            "Completed Image ====> 59.IMG_26291.jpg\n",
            "Image URL: https://i5.walmartimages.com/asr/3fdeeb9a-33d6-4c53-88c2-f5bdedebc64f_1.9cee470056f1e1b10becde84e56c7c3e.jpeg?odnWidth=450&odnHeight=450&odnBg=ffffff\n",
            "Completed Image ====> 60.3fdeeb9a-33d6-4c53-88c2-f5bdedebc64f_1.9cee470056f1e1b10becde84e56c7c3e.jpeg\n",
            "\n",
            "Errors: 10\n",
            "\n"
          ],
          "name": "stdout"
        }
      ]
    },
    {
      "cell_type": "markdown",
      "metadata": {
        "colab_type": "text",
        "id": "si5YfNqS50QU"
      },
      "source": [
        "At time of writing at least a few do, but since the Internet changes - it is possible your 5 won't. You can easily verify yourself, and (once you have working code) increase the number of images you pull to be more sure of getting a frog. Your goal is to validly run ResNet50 on the input images - don't worry about tuning or improving the model.\n",
        "\n",
        "*Hint* - ResNet 50 doesn't just return \"frog\". The three labels it has for frogs are: `bullfrog, tree frog, tailed frog`\n",
        "\n",
        "*Stretch goals* \n",
        "- Check for fish or other labels\n",
        "- Create a matplotlib visualizations of the images and your prediction as the visualization label"
      ]
    },
    {
      "cell_type": "code",
      "metadata": {
        "colab_type": "code",
        "id": "FaT07ddW3nHz",
        "colab": {}
      },
      "source": [
        "import numpy as np\n",
        "\n",
        "from tensorflow.keras.applications.resnet50 import ResNet50\n",
        "from tensorflow.keras.preprocessing import image\n",
        "from tensorflow.keras.applications.resnet50 import preprocess_input, decode_predictions\n",
        "\n",
        "def process_img_path(img_path):\n",
        "  return image.load_img(img_path, target_size=(224, 224))\n",
        "\n",
        "def imread_convert(f):\n",
        "    return imread(f).astype(np.uint8)\n",
        "\n",
        "def img_contains_frog(img):\n",
        "    x = image.img_to_array(img)\n",
        "    x = np.expand_dims(x, axis=0)\n",
        "    x = preprocess_input(x)\n",
        "    model = ResNet50(weights='imagenet')\n",
        "    features = model.predict(x)\n",
        "    results = decode_predictions(features, top=3)[0]\n",
        "    print(results)\n",
        "    if (results[0][1] == 'bullfrog') or (results[1][1] == 'tree_frog') or (results[1][1] == 'tailed_frog'):\n",
        "        print(True)\n",
        "    else:\n",
        "        print(False)"
      ],
      "execution_count": 0,
      "outputs": []
    },
    {
      "cell_type": "code",
      "metadata": {
        "id": "FC-VaLEFYfV8",
        "colab_type": "code",
        "colab": {
          "base_uri": "https://localhost:8080/",
          "height": 357
        },
        "outputId": "7b6135f2-306a-4897-c348-93d878f04031"
      },
      "source": [
        "for q in absolute_image_paths[0]['lily frog pond'][5:15]:\n",
        "    img_contains_frog(process_img_path(q))"
      ],
      "execution_count": 245,
      "outputs": [
        {
          "output_type": "stream",
          "text": [
            "[('n01641577', 'bullfrog', 0.98556846), ('n01644900', 'tailed_frog', 0.01382296), ('n01644373', 'tree_frog', 0.00058391516)]\n",
            "True\n",
            "[('n03291819', 'envelope', 0.34432983), ('n04116512', 'rubber_eraser', 0.10736573), ('n03876231', 'paintbrush', 0.06958141)]\n",
            "False\n",
            "[('n02834397', 'bib', 0.5220779), ('n02730930', 'apron', 0.12062734), ('n03485794', 'handkerchief', 0.11799439)]\n",
            "False\n",
            "[('n06359193', 'web_site', 0.3861849), ('n03291819', 'envelope', 0.3517924), ('n03642806', 'laptop', 0.13926636)]\n",
            "False\n",
            "[('n07718747', 'artichoke', 0.11814717), ('n02009229', 'little_blue_heron', 0.11751351), ('n02011460', 'bittern', 0.047491435)]\n",
            "False\n",
            "[('n01737021', 'water_snake', 0.16246946), ('n03991062', 'pot', 0.13198888), ('n07742313', 'Granny_Smith', 0.06185926)]\n",
            "False\n",
            "[('n01737021', 'water_snake', 0.115632735), ('n03457902', 'greenhouse', 0.08579437), ('n01667778', 'terrapin', 0.07893841)]\n",
            "False\n",
            "[('n01641577', 'bullfrog', 0.25773758), ('n02229544', 'cricket', 0.11621964), ('n02268443', 'dragonfly', 0.11440506)]\n",
            "True\n",
            "[('n03991062', 'pot', 0.6758964), ('n01737021', 'water_snake', 0.075597286), ('n02190166', 'fly', 0.057021122)]\n",
            "False\n",
            "[('n04476259', 'tray', 0.48359305), ('n03598930', 'jigsaw_puzzle', 0.25159782), ('n02840245', 'binder', 0.119022995)]\n",
            "False\n"
          ],
          "name": "stdout"
        }
      ]
    },
    {
      "cell_type": "markdown",
      "metadata": {
        "colab_type": "text",
        "id": "XEuhvSu7O5Rf"
      },
      "source": [
        "<a id=\"p3\"></a>\n",
        "## Part 3 - Autoencoders\n",
        "\n",
        "Describe a use case for an autoencoder given that an autoencoder tries to predict its own input. \n",
        "\n",
        "Denoising images is a use case for an autoencoder. It can also detect outliers by checking for anomalies. "
      ]
    },
    {
      "cell_type": "markdown",
      "metadata": {
        "colab_type": "text",
        "id": "626zYgjkO7Vq"
      },
      "source": [
        "<a id=\"p4\"></a>\n",
        "## Part 4 - More..."
      ]
    },
    {
      "cell_type": "markdown",
      "metadata": {
        "colab_type": "text",
        "id": "__lDWfcUO8oo"
      },
      "source": [
        "Answer the following questions, with a target audience of a fellow Data Scientist:\n",
        "\n",
        "- What do you consider your strongest area, as a Data Scientist?\n",
        "I'm honestly not sure. Perhaps presenting data in an appealing way.\n",
        "- What area of Data Science would you most like to learn more about, and why?\n",
        "I'd be interested in understanding NLP and NN better.\n",
        "\n",
        "- Where do you think Data Science will be in 5 years?\n",
        "I have no idea but hopefully in a good place.\n",
        "- What are the threats posed by AI to our society?\n",
        "We could suffer from a lack of privacy, too much surveillance, biases.\n",
        "- How do you think we can counteract those threats? \n",
        "Thinking our actions through the long-term, accountability.\n",
        "- Do you think achieving General Artifical Intelligence is ever possible?\n",
        "In some ways, I think it is possible now. But can those tasks be performed as quickly as humans, I'm unsure.\n",
        "\n",
        "A few sentences per answer is fine - only elaborate if time allows."
      ]
    },
    {
      "cell_type": "markdown",
      "metadata": {
        "colab_type": "text",
        "id": "_Hoqe3mM_Mtc"
      },
      "source": [
        "## Congratulations! \n",
        "\n",
        "Thank you for your hard work, and congratulations! You've learned a lot, and you should proudly call yourself a Data Scientist.\n"
      ]
    }
  ]
}