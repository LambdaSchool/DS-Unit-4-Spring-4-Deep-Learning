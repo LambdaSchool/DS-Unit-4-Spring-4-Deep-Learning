{
 "cells": [
  {
   "cell_type": "markdown",
   "metadata": {
    "colab_type": "text",
    "id": "_IizNKWLomoA"
   },
   "source": [
    "<img align=\"left\" src=\"https://lever-client-logos.s3.amazonaws.com/864372b1-534c-480e-acd5-9711f850815c-1524247202159.png\" width=200>\n",
    "<br></br>\n",
    "\n",
    "## *Data Science Unit 4 Sprint 4 Lesson 4*\n",
    "\n",
    "# General Artificial Intelligence and the Future\n",
    "*aka your last class*\n",
    "\n",
    "![Future City](https://upload.wikimedia.org/wikipedia/commons/thumb/c/ce/City-of-the-future.jpg/640px-City-of-the-future.jpg)"
   ]
  },
  {
   "cell_type": "markdown",
   "metadata": {
    "colab_type": "text",
    "id": "moj-4gr89pum"
   },
   "source": [
    "# Lecture"
   ]
  },
  {
   "cell_type": "markdown",
   "metadata": {
    "colab_type": "text",
    "id": "0EZdBzC6pvV9"
   },
   "source": [
    "## Defining Intelligence"
   ]
  },
  {
   "cell_type": "markdown",
   "metadata": {
    "colab_type": "text",
    "id": "t9Y6I1aO9uCz"
   },
   "source": [
    "A straightforward definition of Artificial Intelligence would simply be \"intelligence, created from technology rather than biology.\" But that simply raises the question - what is *intelligence*?\n",
    "\n",
    "In the early history of computers, this seemed like an easier question. Intelligence meant solving tricky problems - things that took time and mental effort for a human to figure out.\n",
    "\n",
    "Defined that way, computers have made a litany of intelligent achievements over the years:\n",
    "- Arithmetic\n",
    "- Logic\n",
    "- Chess\n",
    "- Go\n",
    "- StarCraft\n",
    "- Mathematical proofs\n",
    "- Understanding natural language\n",
    "- Generating natural language\n",
    "- Understanding images\n",
    "- Generating images\n",
    "- Making medical diagnoses\n",
    "- Fitting and *optimizing* ML models\n",
    "\n",
    "And many more - every time you fit a simple regression, you're facilitating an act of artificial intelligence. You're writing code that will (hopefully) understand and generalize based on data, giving a \"human-like\" ability to intuit and predict something."
   ]
  },
  {
   "cell_type": "markdown",
   "metadata": {
    "colab_type": "text",
    "id": "vXdC1uCC91ID"
   },
   "source": [
    "## \"General\" Intelligence - a moving target\n",
    "\n",
    "But, somehow, that isn't what most people *really* mean when they talk about AI.\n",
    "\n",
    "![And they both react poorly to showers.](https://imgs.xkcd.com/comics/ai.png)\n",
    "\n",
    "Somewhere that word \"general\" snuck in, and now we're concerned about \"Artificial General Intelligence.\" So, what is that?\n",
    "\n",
    "![Data](https://upload.wikimedia.org/wikipedia/en/0/09/DataTNG.jpg)\n",
    "\n",
    "The inspiration is likely characters such as the above, but that's not a definition. Intuitively the claim is \"computers that can be thrown in a variety of environments and learn without guidance\", but another good definition (based on how people use the term) may simply be \"whatever we haven't figured out how to get computers to do yet.\"\n",
    "\n",
    "Repeatedly, claims are made about tasks that will require a \"true AI\" to achieve. Then, when those tasks are completed, the bar is moved, and \"true AI\" is somehow always a bit further off."
   ]
  },
  {
   "cell_type": "markdown",
   "metadata": {
    "colab_type": "text",
    "id": "IJV_2Ozk5LLV"
   },
   "source": [
    "## AI - Hype versus Value\n",
    "\n",
    "Hot off the presses! [Google launches an end-to-end AI platform](https://techcrunch.com/2019/04/10/google-expands-its-ai-services/)!\n",
    "\n",
    "...\n",
    "\n",
    "What does that mean? Well, it might mean a lot, but it's a little unclear what. Some selected [Hacker News](https://news.ycombinator.com/item?id=19626275) comments:\n",
    "\n",
    "> This platform focuses not on the this-AI-is-magic-and-can-solve-everything like many AI SaaS startups announced on Hacker News, but focuses on how to actually integrate this AI into production workflows, which is something I wish was discussed more often in AI. -- minimaxir\n",
    "\n",
    "> Looks like Google is taking over Cloud (from AWS) for AI by building an ecosystem and building tools for non Data scientists - consumer level product. Surely IBM can do similar thing with their recent Redhat acquisition, but will they ? -- amrrs\n",
    "\n",
    "> I work in building and deploying production ML/AI models but I'm having a lot of trouble cutting through the marketing jargon in this article and on Google's website as well. Can someone explain what this does in engineering terms? How does this differ from something like AWS Sagemaker? -- chibg10\n",
    "\n",
    "> This will make a bunch of startup's life really hard. I think it makes it harder to justify investing in your own ML pipeline or even building your own models for many use cases. -- petard\n",
    "\n",
    "One thing it definitely means - AI is a hot keyword, and people making hiring and other corporate decisions will be on the look out for it, even if they're not sure what it is.\n",
    "\n",
    "So - yes, you *do* know AI. AI is a real thing, and you are capable of using \"artificial\" technology to bring about real *intelligence* and insight.\n",
    "\n",
    "Do you know how to make an intelligent anthropomorphic android? No - and nobody else does yet, either. And that's OK. There's still lots of cool advances and things to learn and build."
   ]
  },
  {
   "cell_type": "markdown",
   "metadata": {
    "colab_type": "text",
    "id": "MpSkJFuIkJeU"
   },
   "source": [
    "## Automation, for good and ill\n",
    "\n",
    "It is worth spending a moment considering the double-edged sword that is automation. This story did not begin with artificial intelligence, or even statistics or mathematics - it began when the first tool inventor figured out how to make something clever like a lever or a wheel, and use it to reduce the amount of labor needed to achieve some task.\n",
    "\n",
    "In the modern day we talk about automation, but in practice most technology is best considered as a *productivity multiplier* - all businesses still need at least *some* humans around, if nothing else to make policy decisions and collect profit. But the productivity of each individual person can be greatly enhanced through the use of technology.\n",
    "\n",
    "Consider farming - formerly a signification source of employment (and also small family owned farms), technology has tranformed it into a large scale industry where a handful of people produce as much as many more did before. This progression has happened in many areas - fortunately, it is usually accompanied by job growth and opportunity as new markets and services are created by technology as well.\n",
    "\n",
    "So, is it different now? Maybe - \"history will say\" is the only safe stance. But we are automating work at an accelerating rate, and it's unclear where all this growth is going and where the opportunities will be. There's a pretty good bet that it'll involve computers and data - and that's probably a large part of why you're here!\n",
    "\n",
    "The purpose of this section is not to convince you of anything - it is just to make you think. As a Data Scientist, you will have an outsized impact on society, and it is your responsibility to consider that impact and what you want to do with it.\n",
    "\n",
    "**Important caveat** - think and engage with society, *but* strive to not be strident or unduly certain when you do so. Broadcasting political beliefs, especially while on the job market, usually closes more doors than it opens. So, consider perspectives, and encourage dialogue - don't just (re)broadcast outrage at the latest injustice."
   ]
  },
  {
   "cell_type": "markdown",
   "metadata": {
    "colab_type": "text",
    "id": "_vXHDbNnzGZz"
   },
   "source": [
    "## AutoML - taking our own jobs\n",
    "\n",
    "Us Data Scientists are not immune to automation. Behold, yet another voyage with the RMS Titanic 🚢:"
   ]
  },
  {
   "cell_type": "markdown",
   "metadata": {
    "colab_type": "text",
    "id": "YN4O5Ikxy2g8"
   },
   "source": [
    "![AutoML applied to Titanic data](https://github.com/minimaxir/automl-gs/raw/master/docs/console-demo.gif)"
   ]
  },
  {
   "cell_type": "markdown",
   "metadata": {
    "colab_type": "text",
    "id": "iy6RIQn9zKhp"
   },
   "source": [
    "### Using AutoML on some data you've probably seen before\n",
    "\n",
    "Let's start with [automl-gs](https://github.com/minimaxir/automl-gs), a very new library that just works directly from csv."
   ]
  },
  {
   "cell_type": "code",
   "execution_count": 1,
   "metadata": {
    "colab": {
     "base_uri": "https://localhost:8080/",
     "height": 506
    },
    "colab_type": "code",
    "id": "GkJUFfsgnqr_",
    "outputId": "cf810bae-5195-4e9b-e157-1ef9a10f1b1d"
   },
   "outputs": [
    {
     "name": "stdout",
     "output_type": "stream",
     "text": [
      "Requirement already satisfied: automl_gs in /home/seek/anaconda3/envs/U4-S2-NNF/lib/python3.7/site-packages (0.2.1)\n",
      "Requirement already satisfied: pandas in /home/seek/anaconda3/envs/U4-S2-NNF/lib/python3.7/site-packages (from automl_gs) (0.24.2)\n",
      "Requirement already satisfied: pyyaml in /home/seek/anaconda3/envs/U4-S2-NNF/lib/python3.7/site-packages (from automl_gs) (5.1.1)\n",
      "Requirement already satisfied: autopep8 in /home/seek/anaconda3/envs/U4-S2-NNF/lib/python3.7/site-packages (from automl_gs) (1.4.4)\n",
      "Requirement already satisfied: scikit-learn in /home/seek/anaconda3/envs/U4-S2-NNF/lib/python3.7/site-packages (from automl_gs) (0.21.2)\n",
      "Requirement already satisfied: tqdm in /home/seek/anaconda3/envs/U4-S2-NNF/lib/python3.7/site-packages (from automl_gs) (4.32.1)\n",
      "Requirement already satisfied: jinja2>=2.8 in /home/seek/anaconda3/envs/U4-S2-NNF/lib/python3.7/site-packages (from automl_gs) (2.10.1)\n",
      "Requirement already satisfied: python-dateutil>=2.5.0 in /home/seek/anaconda3/envs/U4-S2-NNF/lib/python3.7/site-packages (from pandas->automl_gs) (2.8.0)\n",
      "Requirement already satisfied: numpy>=1.12.0 in /home/seek/anaconda3/envs/U4-S2-NNF/lib/python3.7/site-packages (from pandas->automl_gs) (1.16.2)\n",
      "Requirement already satisfied: pytz>=2011k in /home/seek/anaconda3/envs/U4-S2-NNF/lib/python3.7/site-packages (from pandas->automl_gs) (2019.1)\n",
      "Requirement already satisfied: pycodestyle>=2.4.0 in /home/seek/anaconda3/envs/U4-S2-NNF/lib/python3.7/site-packages (from autopep8->automl_gs) (2.5.0)\n",
      "Requirement already satisfied: joblib>=0.11 in /home/seek/anaconda3/envs/U4-S2-NNF/lib/python3.7/site-packages (from scikit-learn->automl_gs) (0.13.2)\n",
      "Requirement already satisfied: scipy>=0.17.0 in /home/seek/anaconda3/envs/U4-S2-NNF/lib/python3.7/site-packages (from scikit-learn->automl_gs) (1.3.0)\n",
      "Requirement already satisfied: MarkupSafe>=0.23 in /home/seek/anaconda3/envs/U4-S2-NNF/lib/python3.7/site-packages (from jinja2>=2.8->automl_gs) (1.1.1)\n",
      "Requirement already satisfied: six>=1.5 in /home/seek/anaconda3/envs/U4-S2-NNF/lib/python3.7/site-packages (from python-dateutil>=2.5.0->pandas->automl_gs) (1.12.0)\n"
     ]
    }
   ],
   "source": [
    "!pip install automl_gs"
   ]
  },
  {
   "cell_type": "code",
   "execution_count": 2,
   "metadata": {
    "colab": {
     "base_uri": "https://localhost:8080/",
     "height": 295
    },
    "colab_type": "code",
    "id": "QsGIh584kH3A",
    "outputId": "247ecbf6-6958-43dd-81d4-00c985be5e20"
   },
   "outputs": [
    {
     "name": "stdout",
     "output_type": "stream",
     "text": [
      "--2019-07-25 15:51:52--  https://github.com/ryanleeallred/datasets/raw/master/car_regression.csv\n",
      "Resolving github.com (github.com)... 140.82.114.4\n",
      "Connecting to github.com (github.com)|140.82.114.4|:443... connected.\n",
      "HTTP request sent, awaiting response... 302 Found\n",
      "Location: https://raw.githubusercontent.com/ryanleeallred/datasets/master/car_regression.csv [following]\n",
      "--2019-07-25 15:51:53--  https://raw.githubusercontent.com/ryanleeallred/datasets/master/car_regression.csv\n",
      "Resolving raw.githubusercontent.com (raw.githubusercontent.com)... 151.101.56.133\n",
      "Connecting to raw.githubusercontent.com (raw.githubusercontent.com)|151.101.56.133|:443... connected.\n",
      "HTTP request sent, awaiting response... 200 OK\n",
      "Length: 263167 (257K) [text/plain]\n",
      "Saving to: ‘car_regression.csv’\n",
      "\n",
      "car_regression.csv  100%[===================>] 257.00K  --.-KB/s    in 0.09s   \n",
      "\n",
      "2019-07-25 15:51:54 (2.68 MB/s) - ‘car_regression.csv’ saved [263167/263167]\n",
      "\n"
     ]
    }
   ],
   "source": [
    "!wget https://github.com/ryanleeallred/datasets/raw/master/car_regression.csv"
   ]
  },
  {
   "cell_type": "code",
   "execution_count": 3,
   "metadata": {
    "colab": {
     "base_uri": "https://localhost:8080/",
     "height": 191
    },
    "colab_type": "code",
    "id": "mR0ba-7ikJCd",
    "outputId": "ff858080-368f-4a42-cfe6-ffbd31385880"
   },
   "outputs": [
    {
     "name": "stdout",
     "output_type": "stream",
     "text": [
      "make,price,body,mileage,engV,engType,registration,year,drive\n",
      "23,15500.0,0,68,2.5,1,1,2010,1\n",
      "50,20500.0,3,173,1.8,1,1,2011,2\n",
      "50,35000.0,2,135,5.5,3,1,2008,2\n",
      "50,17800.0,5,162,1.8,0,1,2012,0\n",
      "55,16600.0,0,83,2.0,3,1,2013,1\n",
      "30,6500.0,3,199,2.0,3,1,2003,0\n",
      "59,10500.0,4,185,1.5,0,1,2011,0\n",
      "50,21500.0,3,146,1.8,1,1,2012,2\n",
      "50,22700.0,3,125,2.2,0,1,2010,2\n"
     ]
    }
   ],
   "source": [
    "!head car_regression.csv"
   ]
  },
  {
   "cell_type": "code",
   "execution_count": 4,
   "metadata": {
    "colab": {
     "base_uri": "https://localhost:8080/",
     "height": 671
    },
    "colab_type": "code",
    "id": "JwEChFqKkLdW",
    "outputId": "4c7af1af-20ca-4c46-afff-1154da461671"
   },
   "outputs": [
    {
     "name": "stdout",
     "output_type": "stream",
     "text": [
      "Solving a regression problem, minimizing mse using tensorflow.\n",
      "\n",
      "Modeling with field specifications:\n",
      "make: numeric\n",
      "body: categorical\n",
      "mileage: numeric\n",
      "engV: numeric\n",
      "engType: categorical\n",
      "registration: categorical\n",
      "year: numeric\n",
      "drive: categorical\n"
     ]
    },
    {
     "data": {
      "application/vnd.jupyter.widget-view+json": {
       "model_id": "0b0cf2846836495a92c4702c159d658f",
       "version_major": 2,
       "version_minor": 0
      },
      "text/plain": [
       "HBox(children=(IntProgress(value=0), HTML(value='')))"
      ]
     },
     "metadata": {},
     "output_type": "display_data"
    },
    {
     "data": {
      "application/vnd.jupyter.widget-view+json": {
       "model_id": "867f5715c1334281bc328b164a94382d",
       "version_major": 2,
       "version_minor": 0
      },
      "text/plain": [
       "HBox(children=(IntProgress(value=0, max=20), HTML(value='')))"
      ]
     },
     "metadata": {},
     "output_type": "display_data"
    },
    {
     "name": "stdout",
     "output_type": "stream",
     "text": [
      "\n",
      "Metrics:\n",
      "trial_id: dca78998-d315-4ee7-af59-294db6d8b1b9\n",
      "epoch: 20\n",
      "time_completed: 2019-07-25 19:52:11\n",
      "mse: 870882857.9783281\n",
      "mae: 16141.396270029267\n",
      "r_2: -0.42688574988716255\n",
      "\n",
      "\n",
      "Metrics:\n",
      "trial_id: 97488b27-90f6-4c1c-a297-86be794d247c\n",
      "epoch: 20\n",
      "time_completed: 2019-07-25 19:52:20\n",
      "mse: 857572819.4008338\n",
      "mae: 15808.992746845057\n",
      "r_2: -0.4050781046881709\n"
     ]
    },
    {
     "ename": "IndexError",
     "evalue": "list index out of range",
     "output_type": "error",
     "traceback": [
      "\u001b[0;31m---------------------------------------------------------------------------\u001b[0m",
      "\u001b[0;31mIndexError\u001b[0m                                Traceback (most recent call last)",
      "\u001b[0;32m<ipython-input-4-bf47de8a1866>\u001b[0m in \u001b[0;36m<module>\u001b[0;34m\u001b[0m\n\u001b[1;32m      1\u001b[0m \u001b[0;32mfrom\u001b[0m \u001b[0mautoml_gs\u001b[0m \u001b[0;32mimport\u001b[0m \u001b[0mautoml_grid_search\u001b[0m\u001b[0;34m\u001b[0m\u001b[0;34m\u001b[0m\u001b[0m\n\u001b[1;32m      2\u001b[0m \u001b[0;34m\u001b[0m\u001b[0m\n\u001b[0;32m----> 3\u001b[0;31m \u001b[0mautoml_grid_search\u001b[0m\u001b[0;34m(\u001b[0m\u001b[0;34m'car_regression.csv'\u001b[0m\u001b[0;34m,\u001b[0m \u001b[0;34m'price'\u001b[0m\u001b[0;34m)\u001b[0m\u001b[0;34m\u001b[0m\u001b[0;34m\u001b[0m\u001b[0m\n\u001b[0m",
      "\u001b[0;32m~/anaconda3/envs/U4-S2-NNF/lib/python3.7/site-packages/automl_gs/automl_gs.py\u001b[0m in \u001b[0;36mautoml_grid_search\u001b[0;34m(csv_path, target_field, target_metric, framework, model_name, context, num_trials, split, num_epochs, col_types, gpu, tpu_address)\u001b[0m\n\u001b[1;32m     92\u001b[0m                     header=(best_result is None))\n\u001b[1;32m     93\u001b[0m \u001b[0;34m\u001b[0m\u001b[0m\n\u001b[0;32m---> 94\u001b[0;31m         \u001b[0mtrain_results\u001b[0m \u001b[0;34m=\u001b[0m \u001b[0mresults\u001b[0m\u001b[0;34m.\u001b[0m\u001b[0mtail\u001b[0m\u001b[0;34m(\u001b[0m\u001b[0;36m1\u001b[0m\u001b[0;34m)\u001b[0m\u001b[0;34m.\u001b[0m\u001b[0mto_dict\u001b[0m\u001b[0;34m(\u001b[0m\u001b[0;34m'records'\u001b[0m\u001b[0;34m)\u001b[0m\u001b[0;34m[\u001b[0m\u001b[0;36m0\u001b[0m\u001b[0;34m]\u001b[0m\u001b[0;34m\u001b[0m\u001b[0;34m\u001b[0m\u001b[0m\n\u001b[0m\u001b[1;32m     95\u001b[0m \u001b[0;34m\u001b[0m\u001b[0m\n\u001b[1;32m     96\u001b[0m         \u001b[0;31m# If the target metric improves, save the new hps/files,\u001b[0m\u001b[0;34m\u001b[0m\u001b[0;34m\u001b[0m\u001b[0;34m\u001b[0m\u001b[0m\n",
      "\u001b[0;31mIndexError\u001b[0m: list index out of range"
     ]
    }
   ],
   "source": [
    "from automl_gs import automl_grid_search\n",
    "\n",
    "automl_grid_search('car_regression.csv', 'price')"
   ]
  },
  {
   "cell_type": "markdown",
   "metadata": {
    "colab_type": "text",
    "id": "NSTNAnT9dS6J"
   },
   "source": [
    "Uh oh, what happened? There is an [open issue](https://github.com/minimaxir/automl-gs/issues/14) which suggests running via the command line `automl_gs` tool rather than the Python module to get better error messages for debugging."
   ]
  },
  {
   "cell_type": "code",
   "execution_count": 5,
   "metadata": {
    "colab": {
     "base_uri": "https://localhost:8080/",
     "height": 1146
    },
    "colab_type": "code",
    "id": "svF0TnE0keaj",
    "outputId": "33dbd241-31a1-4b09-f5c7-adf7bbc7b6f7"
   },
   "outputs": [
    {
     "name": "stdout",
     "output_type": "stream",
     "text": [
      "Solving a regression problem, minimizing mse using tensorflow.\n",
      "\n",
      "Modeling with field specifications:\n",
      "make: numeric\n",
      "body: categorical\n",
      "mileage: numeric\n",
      "engV: numeric\n",
      "engType: categorical\n",
      "registration: categorical\n",
      "year: numeric\n",
      "drive: categorical\n",
      "  0%|                                                | 0/100 [00:00<?, ?trial/s]\n",
      "  0%|                                                 | 0/20 [00:00<?, ?epoch/s]\u001b[AWARNING: Logging before flag parsing goes to stderr.\n",
      "W0725 15:52:40.018030 139815889934144 deprecation_wrapper.py:119] From /home/seek/Documents/GitHub/DS-Unit-4-Sprint-3-Deep-Learning/module4-agi-and-the-future/automl_train/pipeline.py:1: The name tf.train.cosine_decay is deprecated. Please use tf.compat.v1.train.cosine_decay instead.\n",
      "\n",
      "W0725 15:52:40.018158 139815889934144 deprecation_wrapper.py:119] From /home/seek/Documents/GitHub/DS-Unit-4-Sprint-3-Deep-Learning/module4-agi-and-the-future/automl_train/pipeline.py:1: The name tf.train.AdamOptimizer is deprecated. Please use tf.compat.v1.train.AdamOptimizer instead.\n",
      "\n",
      "W0725 15:52:40.564396 139815889934144 deprecation_wrapper.py:119] From /home/seek/Documents/GitHub/DS-Unit-4-Sprint-3-Deep-Learning/module4-agi-and-the-future/automl_train/pipeline.py:4: The name tf.keras.layers.CuDNNLSTM is deprecated. Please use tf.compat.v1.keras.layers.CuDNNLSTM instead.\n",
      "\n",
      "W0725 15:52:40.564525 139815889934144 deprecation_wrapper.py:119] From /home/seek/Documents/GitHub/DS-Unit-4-Sprint-3-Deep-Learning/module4-agi-and-the-future/automl_train/pipeline.py:4: The name tf.keras.layers.CuDNNGRU is deprecated. Please use tf.compat.v1.keras.layers.CuDNNGRU instead.\n",
      "\n",
      "W0725 15:52:40.567283 139815889934144 deprecation_wrapper.py:119] From /home/seek/Documents/GitHub/DS-Unit-4-Sprint-3-Deep-Learning/module4-agi-and-the-future/automl_train/pipeline.py:25: The name tf.logging.set_verbosity is deprecated. Please use tf.compat.v1.logging.set_verbosity instead.\n",
      "\n",
      "W0725 15:52:40.567357 139815889934144 deprecation_wrapper.py:119] From /home/seek/Documents/GitHub/DS-Unit-4-Sprint-3-Deep-Learning/module4-agi-and-the-future/automl_train/pipeline.py:25: The name tf.logging.ERROR is deprecated. Please use tf.compat.v1.logging.ERROR instead.\n",
      "\n",
      "\n",
      "  5%|██                                       | 1/20 [00:04<01:19,  4.20s/epoch]\u001b[A\n",
      " 10%|████                                     | 2/20 [00:04<00:39,  2.21s/epoch]\u001b[A\n",
      " 15%|██████▏                                  | 3/20 [00:04<00:26,  1.56s/epoch]\u001b[A\n",
      " 20%|████████▏                                | 4/20 [00:04<00:19,  1.25s/epoch]\u001b[A\n",
      " 25%|██████████▎                              | 5/20 [00:05<00:15,  1.06s/epoch]\u001b[A\n",
      " 30%|████████████▎                            | 6/20 [00:05<00:12,  1.08epoch/s]\u001b[A\n",
      " 35%|██████████████▎                          | 7/20 [00:05<00:10,  1.21epoch/s]\u001b[A\n",
      " 40%|████████████████▍                        | 8/20 [00:06<00:09,  1.33epoch/s]\u001b[A\n",
      " 45%|██████████████████▍                      | 9/20 [00:06<00:07,  1.44epoch/s]\u001b[A\n",
      " 50%|████████████████████                    | 10/20 [00:06<00:06,  1.55epoch/s]\u001b[A\n",
      " 55%|██████████████████████                  | 11/20 [00:06<00:05,  1.65epoch/s]\u001b[A\n",
      " 60%|████████████████████████                | 12/20 [00:06<00:04,  1.73epoch/s]\u001b[A\n",
      " 65%|██████████████████████████              | 13/20 [00:07<00:03,  1.81epoch/s]\u001b[A\n",
      " 70%|████████████████████████████            | 14/20 [00:07<00:03,  1.87epoch/s]\u001b[A\n",
      " 75%|██████████████████████████████          | 15/20 [00:07<00:02,  1.92epoch/s]\u001b[A\n",
      " 80%|████████████████████████████████        | 16/20 [00:08<00:02,  1.97epoch/s]\u001b[A\n",
      " 85%|██████████████████████████████████      | 17/20 [00:08<00:01,  2.01epoch/s]\u001b[A\n",
      " 90%|████████████████████████████████████    | 18/20 [00:08<00:00,  2.05epoch/s]\u001b[A\n",
      " 95%|██████████████████████████████████████  | 19/20 [00:09<00:00,  2.10epoch/s]\u001b[A\n",
      "100%|████████████████████████████████████████| 20/20 [00:09<00:00,  2.14epoch/s]\u001b[A\n",
      "                                                                                \u001b[A\n",
      "\u001b[A                                                                             \n",
      "Metrics:\n",
      "trial_id: 8eaeee2c-fb85-4a57-aecb-d2300742da33\n",
      "epoch: 20\n",
      "time_completed: 2019-07-25 19:52:47\n",
      "mse: 870882491.9142671\n",
      "mae: 16141.384930731749\n",
      "r_2: -0.42688515011465866\n",
      "  0%|                                                | 0/100 [00:09<?, ?trial/s]\n",
      "  1%|▍                                       | 1/100 [00:09<16:21,  9.91s/trial]\u001b[AWARNING: Logging before flag parsing goes to stderr.\n",
      "W0725 15:52:49.866389 139814211028800 deprecation_wrapper.py:119] From /home/seek/Documents/GitHub/DS-Unit-4-Sprint-3-Deep-Learning/module4-agi-and-the-future/automl_train/pipeline.py:1: The name tf.train.cosine_decay is deprecated. Please use tf.compat.v1.train.cosine_decay instead.\n",
      "\n",
      "W0725 15:52:49.866517 139814211028800 deprecation_wrapper.py:119] From /home/seek/Documents/GitHub/DS-Unit-4-Sprint-3-Deep-Learning/module4-agi-and-the-future/automl_train/pipeline.py:1: The name tf.train.AdamOptimizer is deprecated. Please use tf.compat.v1.train.AdamOptimizer instead.\n",
      "\n",
      "W0725 15:52:50.430593 139814211028800 deprecation_wrapper.py:119] From /home/seek/Documents/GitHub/DS-Unit-4-Sprint-3-Deep-Learning/module4-agi-and-the-future/automl_train/pipeline.py:4: The name tf.keras.layers.CuDNNLSTM is deprecated. Please use tf.compat.v1.keras.layers.CuDNNLSTM instead.\n",
      "\n",
      "W0725 15:52:50.430722 139814211028800 deprecation_wrapper.py:119] From /home/seek/Documents/GitHub/DS-Unit-4-Sprint-3-Deep-Learning/module4-agi-and-the-future/automl_train/pipeline.py:4: The name tf.keras.layers.CuDNNGRU is deprecated. Please use tf.compat.v1.keras.layers.CuDNNGRU instead.\n",
      "\n",
      "W0725 15:52:50.433488 139814211028800 deprecation_wrapper.py:119] From /home/seek/Documents/GitHub/DS-Unit-4-Sprint-3-Deep-Learning/module4-agi-and-the-future/automl_train/pipeline.py:25: The name tf.logging.set_verbosity is deprecated. Please use tf.compat.v1.logging.set_verbosity instead.\n",
      "\n",
      "W0725 15:52:50.433564 139814211028800 deprecation_wrapper.py:119] From /home/seek/Documents/GitHub/DS-Unit-4-Sprint-3-Deep-Learning/module4-agi-and-the-future/automl_train/pipeline.py:25: The name tf.logging.ERROR is deprecated. Please use tf.compat.v1.logging.ERROR instead.\n",
      "\n",
      "Traceback (most recent call last):\n",
      "  File \"model.py\", line 48, in <module>\n",
      "    model_train(df, encoders, args, model)\n",
      "  File \"/home/seek/Documents/GitHub/DS-Unit-4-Sprint-3-Deep-Learning/module4-agi-and-the-future/automl_train/pipeline.py\", line 395, in model_train\n",
      "    X, y = process_data(df, encoders)\n",
      "  File \"/home/seek/Documents/GitHub/DS-Unit-4-Sprint-3-Deep-Learning/module4-agi-and-the-future/automl_train/pipeline.py\", line 326, in process_data\n",
      "    labels=False, include_lowest=True)\n",
      "  File \"/home/seek/anaconda3/envs/U4-S2-NNF/lib/python3.7/site-packages/pandas/core/reshape/tile.py\", line 241, in cut\n",
      "    duplicates=duplicates)\n",
      "  File \"/home/seek/anaconda3/envs/U4-S2-NNF/lib/python3.7/site-packages/pandas/core/reshape/tile.py\", line 339, in _bins_to_cuts\n",
      "    \"the 'duplicates' kwarg\".format(bins=bins))\n",
      "ValueError: Bin edges must be unique: array([ 0.1 ,  1.4 ,  1.5 ,  1.6 ,  1.8 ,  2.  ,  2.  ,  2.4 ,  3.  ,\n",
      "        3.5 , 99.99]).\n",
      "You can drop duplicate edges by setting the 'duplicates' kwarg\n",
      "\n",
      "  0%|                                                 | 0/20 [00:00<?, ?epoch/s]\u001b[ATraceback (most recent call last):\n",
      "  File \"/home/seek/anaconda3/envs/U4-S2-NNF/bin/automl_gs\", line 10, in <module>\n",
      "    sys.exit(cmd())\n",
      "  File \"/home/seek/anaconda3/envs/U4-S2-NNF/lib/python3.7/site-packages/automl_gs/automl_gs.py\", line 175, in cmd\n",
      "    tpu_address=args.tpu_address)\n",
      "  File \"/home/seek/anaconda3/envs/U4-S2-NNF/lib/python3.7/site-packages/automl_gs/automl_gs.py\", line 87, in automl_grid_search\n",
      "    \"metadata\", \"results.csv\"))\n",
      "  File \"/home/seek/anaconda3/envs/U4-S2-NNF/lib/python3.7/site-packages/pandas/io/parsers.py\", line 702, in parser_f\n",
      "    return _read(filepath_or_buffer, kwds)\n",
      "  File \"/home/seek/anaconda3/envs/U4-S2-NNF/lib/python3.7/site-packages/pandas/io/parsers.py\", line 429, in _read\n",
      "    parser = TextFileReader(filepath_or_buffer, **kwds)\n",
      "  File \"/home/seek/anaconda3/envs/U4-S2-NNF/lib/python3.7/site-packages/pandas/io/parsers.py\", line 895, in __init__\n",
      "    self._make_engine(self.engine)\n",
      "  File \"/home/seek/anaconda3/envs/U4-S2-NNF/lib/python3.7/site-packages/pandas/io/parsers.py\", line 1122, in _make_engine\n",
      "    self._engine = CParserWrapper(self.f, **self.options)\n",
      "  File \"/home/seek/anaconda3/envs/U4-S2-NNF/lib/python3.7/site-packages/pandas/io/parsers.py\", line 1853, in __init__\n",
      "    self._reader = parsers.TextReader(src, **kwds)\n",
      "  File \"pandas/_libs/parsers.pyx\", line 387, in pandas._libs.parsers.TextReader.__cinit__\n",
      "  File \"pandas/_libs/parsers.pyx\", line 705, in pandas._libs.parsers.TextReader._setup_parser_source\n",
      "FileNotFoundError: [Errno 2] File b'automl_train/metadata/results.csv' does not exist: b'automl_train/metadata/results.csv'\n",
      "\n",
      "                                                                                \r"
     ]
    }
   ],
   "source": [
    "!automl_gs car_regression.csv price"
   ]
  },
  {
   "cell_type": "markdown",
   "metadata": {
    "colab_type": "text",
    "id": "oRqYSY4yde1L"
   },
   "source": [
    "So, the real issue is in some intermediary step - let's see if we can get rid of engType."
   ]
  },
  {
   "cell_type": "code",
   "execution_count": 6,
   "metadata": {
    "colab": {
     "base_uri": "https://localhost:8080/",
     "height": 1505
    },
    "colab_type": "code",
    "id": "N0sHkyabk9Pj",
    "outputId": "26a91983-c1b8-4003-cfd4-6978516828fa"
   },
   "outputs": [
    {
     "name": "stdout",
     "output_type": "stream",
     "text": [
      "Solving a regression problem, minimizing mse using tensorflow.\n",
      "\n",
      "Modeling with field specifications:\n",
      "make: numeric\n",
      "body: categorical\n",
      "mileage: numeric\n",
      "engV: numeric\n",
      "engType: ignore\n",
      "registration: categorical\n",
      "year: numeric\n",
      "drive: categorical\n"
     ]
    },
    {
     "data": {
      "application/vnd.jupyter.widget-view+json": {
       "model_id": "abe79d11be454f3ebdbcc7e838c4688f",
       "version_major": 2,
       "version_minor": 0
      },
      "text/plain": [
       "HBox(children=(IntProgress(value=0), HTML(value='')))"
      ]
     },
     "metadata": {},
     "output_type": "display_data"
    },
    {
     "data": {
      "application/vnd.jupyter.widget-view+json": {
       "model_id": "7c871e002248479da5cb81d18f8af3b1",
       "version_major": 2,
       "version_minor": 0
      },
      "text/plain": [
       "HBox(children=(IntProgress(value=0, max=20), HTML(value='')))"
      ]
     },
     "metadata": {},
     "output_type": "display_data"
    },
    {
     "name": "stdout",
     "output_type": "stream",
     "text": [
      "\n",
      "Metrics:\n",
      "trial_id: 8b3b9ce1-31e6-47c8-870c-8ade2b879e00\n",
      "epoch: 20\n",
      "time_completed: 2019-07-25 19:53:31\n",
      "mse: 666675058.6397988\n",
      "mae: 10556.886868753409\n",
      "r_2: -0.09230435788643088\n"
     ]
    },
    {
     "ename": "FileNotFoundError",
     "evalue": "[Errno 2] File b'automl_train/metadata/results.csv' does not exist: b'automl_train/metadata/results.csv'",
     "output_type": "error",
     "traceback": [
      "\u001b[0;31m---------------------------------------------------------------------------\u001b[0m",
      "\u001b[0;31mFileNotFoundError\u001b[0m                         Traceback (most recent call last)",
      "\u001b[0;32m<ipython-input-6-1a57aaf11428>\u001b[0m in \u001b[0;36m<module>\u001b[0;34m\u001b[0m\n\u001b[1;32m      1\u001b[0m automl_grid_search('car_regression.csv', 'price', col_types={\n\u001b[0;32m----> 2\u001b[0;31m     \u001b[0;34m'engType'\u001b[0m\u001b[0;34m:\u001b[0m \u001b[0;34m'ignore'\u001b[0m\u001b[0;34m\u001b[0m\u001b[0;34m\u001b[0m\u001b[0m\n\u001b[0m\u001b[1;32m      3\u001b[0m })\n",
      "\u001b[0;32m~/anaconda3/envs/U4-S2-NNF/lib/python3.7/site-packages/automl_gs/automl_gs.py\u001b[0m in \u001b[0;36mautoml_grid_search\u001b[0;34m(csv_path, target_field, target_metric, framework, model_name, context, num_trials, split, num_epochs, col_types, gpu, tpu_address)\u001b[0m\n\u001b[1;32m     85\u001b[0m         \u001b[0;31m# and append to the metrics CSV.\u001b[0m\u001b[0;34m\u001b[0m\u001b[0;34m\u001b[0m\u001b[0;34m\u001b[0m\u001b[0m\n\u001b[1;32m     86\u001b[0m         results = pd.read_csv(os.path.join(train_folder, \n\u001b[0;32m---> 87\u001b[0;31m                                         \"metadata\", \"results.csv\"))\n\u001b[0m\u001b[1;32m     88\u001b[0m         \u001b[0mresults\u001b[0m \u001b[0;34m=\u001b[0m \u001b[0mresults\u001b[0m\u001b[0;34m.\u001b[0m\u001b[0massign\u001b[0m\u001b[0;34m(\u001b[0m\u001b[0;34m**\u001b[0m\u001b[0mparams\u001b[0m\u001b[0;34m)\u001b[0m\u001b[0;34m\u001b[0m\u001b[0;34m\u001b[0m\u001b[0m\n\u001b[1;32m     89\u001b[0m         \u001b[0mresults\u001b[0m\u001b[0;34m.\u001b[0m\u001b[0minsert\u001b[0m\u001b[0;34m(\u001b[0m\u001b[0;36m0\u001b[0m\u001b[0;34m,\u001b[0m \u001b[0;34m'trial_id'\u001b[0m\u001b[0;34m,\u001b[0m \u001b[0muuid\u001b[0m\u001b[0;34m.\u001b[0m\u001b[0muuid4\u001b[0m\u001b[0;34m(\u001b[0m\u001b[0;34m)\u001b[0m\u001b[0;34m)\u001b[0m\u001b[0;34m\u001b[0m\u001b[0;34m\u001b[0m\u001b[0m\n",
      "\u001b[0;32m~/anaconda3/envs/U4-S2-NNF/lib/python3.7/site-packages/pandas/io/parsers.py\u001b[0m in \u001b[0;36mparser_f\u001b[0;34m(filepath_or_buffer, sep, delimiter, header, names, index_col, usecols, squeeze, prefix, mangle_dupe_cols, dtype, engine, converters, true_values, false_values, skipinitialspace, skiprows, skipfooter, nrows, na_values, keep_default_na, na_filter, verbose, skip_blank_lines, parse_dates, infer_datetime_format, keep_date_col, date_parser, dayfirst, iterator, chunksize, compression, thousands, decimal, lineterminator, quotechar, quoting, doublequote, escapechar, comment, encoding, dialect, tupleize_cols, error_bad_lines, warn_bad_lines, delim_whitespace, low_memory, memory_map, float_precision)\u001b[0m\n\u001b[1;32m    700\u001b[0m                     skip_blank_lines=skip_blank_lines)\n\u001b[1;32m    701\u001b[0m \u001b[0;34m\u001b[0m\u001b[0m\n\u001b[0;32m--> 702\u001b[0;31m         \u001b[0;32mreturn\u001b[0m \u001b[0m_read\u001b[0m\u001b[0;34m(\u001b[0m\u001b[0mfilepath_or_buffer\u001b[0m\u001b[0;34m,\u001b[0m \u001b[0mkwds\u001b[0m\u001b[0;34m)\u001b[0m\u001b[0;34m\u001b[0m\u001b[0;34m\u001b[0m\u001b[0m\n\u001b[0m\u001b[1;32m    703\u001b[0m \u001b[0;34m\u001b[0m\u001b[0m\n\u001b[1;32m    704\u001b[0m     \u001b[0mparser_f\u001b[0m\u001b[0;34m.\u001b[0m\u001b[0m__name__\u001b[0m \u001b[0;34m=\u001b[0m \u001b[0mname\u001b[0m\u001b[0;34m\u001b[0m\u001b[0;34m\u001b[0m\u001b[0m\n",
      "\u001b[0;32m~/anaconda3/envs/U4-S2-NNF/lib/python3.7/site-packages/pandas/io/parsers.py\u001b[0m in \u001b[0;36m_read\u001b[0;34m(filepath_or_buffer, kwds)\u001b[0m\n\u001b[1;32m    427\u001b[0m \u001b[0;34m\u001b[0m\u001b[0m\n\u001b[1;32m    428\u001b[0m     \u001b[0;31m# Create the parser.\u001b[0m\u001b[0;34m\u001b[0m\u001b[0;34m\u001b[0m\u001b[0;34m\u001b[0m\u001b[0m\n\u001b[0;32m--> 429\u001b[0;31m     \u001b[0mparser\u001b[0m \u001b[0;34m=\u001b[0m \u001b[0mTextFileReader\u001b[0m\u001b[0;34m(\u001b[0m\u001b[0mfilepath_or_buffer\u001b[0m\u001b[0;34m,\u001b[0m \u001b[0;34m**\u001b[0m\u001b[0mkwds\u001b[0m\u001b[0;34m)\u001b[0m\u001b[0;34m\u001b[0m\u001b[0;34m\u001b[0m\u001b[0m\n\u001b[0m\u001b[1;32m    430\u001b[0m \u001b[0;34m\u001b[0m\u001b[0m\n\u001b[1;32m    431\u001b[0m     \u001b[0;32mif\u001b[0m \u001b[0mchunksize\u001b[0m \u001b[0;32mor\u001b[0m \u001b[0miterator\u001b[0m\u001b[0;34m:\u001b[0m\u001b[0;34m\u001b[0m\u001b[0;34m\u001b[0m\u001b[0m\n",
      "\u001b[0;32m~/anaconda3/envs/U4-S2-NNF/lib/python3.7/site-packages/pandas/io/parsers.py\u001b[0m in \u001b[0;36m__init__\u001b[0;34m(self, f, engine, **kwds)\u001b[0m\n\u001b[1;32m    893\u001b[0m             \u001b[0mself\u001b[0m\u001b[0;34m.\u001b[0m\u001b[0moptions\u001b[0m\u001b[0;34m[\u001b[0m\u001b[0;34m'has_index_names'\u001b[0m\u001b[0;34m]\u001b[0m \u001b[0;34m=\u001b[0m \u001b[0mkwds\u001b[0m\u001b[0;34m[\u001b[0m\u001b[0;34m'has_index_names'\u001b[0m\u001b[0;34m]\u001b[0m\u001b[0;34m\u001b[0m\u001b[0;34m\u001b[0m\u001b[0m\n\u001b[1;32m    894\u001b[0m \u001b[0;34m\u001b[0m\u001b[0m\n\u001b[0;32m--> 895\u001b[0;31m         \u001b[0mself\u001b[0m\u001b[0;34m.\u001b[0m\u001b[0m_make_engine\u001b[0m\u001b[0;34m(\u001b[0m\u001b[0mself\u001b[0m\u001b[0;34m.\u001b[0m\u001b[0mengine\u001b[0m\u001b[0;34m)\u001b[0m\u001b[0;34m\u001b[0m\u001b[0;34m\u001b[0m\u001b[0m\n\u001b[0m\u001b[1;32m    896\u001b[0m \u001b[0;34m\u001b[0m\u001b[0m\n\u001b[1;32m    897\u001b[0m     \u001b[0;32mdef\u001b[0m \u001b[0mclose\u001b[0m\u001b[0;34m(\u001b[0m\u001b[0mself\u001b[0m\u001b[0;34m)\u001b[0m\u001b[0;34m:\u001b[0m\u001b[0;34m\u001b[0m\u001b[0;34m\u001b[0m\u001b[0m\n",
      "\u001b[0;32m~/anaconda3/envs/U4-S2-NNF/lib/python3.7/site-packages/pandas/io/parsers.py\u001b[0m in \u001b[0;36m_make_engine\u001b[0;34m(self, engine)\u001b[0m\n\u001b[1;32m   1120\u001b[0m     \u001b[0;32mdef\u001b[0m \u001b[0m_make_engine\u001b[0m\u001b[0;34m(\u001b[0m\u001b[0mself\u001b[0m\u001b[0;34m,\u001b[0m \u001b[0mengine\u001b[0m\u001b[0;34m=\u001b[0m\u001b[0;34m'c'\u001b[0m\u001b[0;34m)\u001b[0m\u001b[0;34m:\u001b[0m\u001b[0;34m\u001b[0m\u001b[0;34m\u001b[0m\u001b[0m\n\u001b[1;32m   1121\u001b[0m         \u001b[0;32mif\u001b[0m \u001b[0mengine\u001b[0m \u001b[0;34m==\u001b[0m \u001b[0;34m'c'\u001b[0m\u001b[0;34m:\u001b[0m\u001b[0;34m\u001b[0m\u001b[0;34m\u001b[0m\u001b[0m\n\u001b[0;32m-> 1122\u001b[0;31m             \u001b[0mself\u001b[0m\u001b[0;34m.\u001b[0m\u001b[0m_engine\u001b[0m \u001b[0;34m=\u001b[0m \u001b[0mCParserWrapper\u001b[0m\u001b[0;34m(\u001b[0m\u001b[0mself\u001b[0m\u001b[0;34m.\u001b[0m\u001b[0mf\u001b[0m\u001b[0;34m,\u001b[0m \u001b[0;34m**\u001b[0m\u001b[0mself\u001b[0m\u001b[0;34m.\u001b[0m\u001b[0moptions\u001b[0m\u001b[0;34m)\u001b[0m\u001b[0;34m\u001b[0m\u001b[0;34m\u001b[0m\u001b[0m\n\u001b[0m\u001b[1;32m   1123\u001b[0m         \u001b[0;32melse\u001b[0m\u001b[0;34m:\u001b[0m\u001b[0;34m\u001b[0m\u001b[0;34m\u001b[0m\u001b[0m\n\u001b[1;32m   1124\u001b[0m             \u001b[0;32mif\u001b[0m \u001b[0mengine\u001b[0m \u001b[0;34m==\u001b[0m \u001b[0;34m'python'\u001b[0m\u001b[0;34m:\u001b[0m\u001b[0;34m\u001b[0m\u001b[0;34m\u001b[0m\u001b[0m\n",
      "\u001b[0;32m~/anaconda3/envs/U4-S2-NNF/lib/python3.7/site-packages/pandas/io/parsers.py\u001b[0m in \u001b[0;36m__init__\u001b[0;34m(self, src, **kwds)\u001b[0m\n\u001b[1;32m   1851\u001b[0m         \u001b[0mkwds\u001b[0m\u001b[0;34m[\u001b[0m\u001b[0;34m'usecols'\u001b[0m\u001b[0;34m]\u001b[0m \u001b[0;34m=\u001b[0m \u001b[0mself\u001b[0m\u001b[0;34m.\u001b[0m\u001b[0musecols\u001b[0m\u001b[0;34m\u001b[0m\u001b[0;34m\u001b[0m\u001b[0m\n\u001b[1;32m   1852\u001b[0m \u001b[0;34m\u001b[0m\u001b[0m\n\u001b[0;32m-> 1853\u001b[0;31m         \u001b[0mself\u001b[0m\u001b[0;34m.\u001b[0m\u001b[0m_reader\u001b[0m \u001b[0;34m=\u001b[0m \u001b[0mparsers\u001b[0m\u001b[0;34m.\u001b[0m\u001b[0mTextReader\u001b[0m\u001b[0;34m(\u001b[0m\u001b[0msrc\u001b[0m\u001b[0;34m,\u001b[0m \u001b[0;34m**\u001b[0m\u001b[0mkwds\u001b[0m\u001b[0;34m)\u001b[0m\u001b[0;34m\u001b[0m\u001b[0;34m\u001b[0m\u001b[0m\n\u001b[0m\u001b[1;32m   1854\u001b[0m         \u001b[0mself\u001b[0m\u001b[0;34m.\u001b[0m\u001b[0munnamed_cols\u001b[0m \u001b[0;34m=\u001b[0m \u001b[0mself\u001b[0m\u001b[0;34m.\u001b[0m\u001b[0m_reader\u001b[0m\u001b[0;34m.\u001b[0m\u001b[0munnamed_cols\u001b[0m\u001b[0;34m\u001b[0m\u001b[0;34m\u001b[0m\u001b[0m\n\u001b[1;32m   1855\u001b[0m \u001b[0;34m\u001b[0m\u001b[0m\n",
      "\u001b[0;32mpandas/_libs/parsers.pyx\u001b[0m in \u001b[0;36mpandas._libs.parsers.TextReader.__cinit__\u001b[0;34m()\u001b[0m\n",
      "\u001b[0;32mpandas/_libs/parsers.pyx\u001b[0m in \u001b[0;36mpandas._libs.parsers.TextReader._setup_parser_source\u001b[0;34m()\u001b[0m\n",
      "\u001b[0;31mFileNotFoundError\u001b[0m: [Errno 2] File b'automl_train/metadata/results.csv' does not exist: b'automl_train/metadata/results.csv'"
     ]
    }
   ],
   "source": [
    "automl_grid_search('car_regression.csv', 'price', col_types={\n",
    "    'engType': 'ignore'\n",
    "})"
   ]
  },
  {
   "cell_type": "markdown",
   "metadata": {
    "colab_type": "text",
    "id": "W9y2xI5ShN4n"
   },
   "source": [
    "It gets further, but is perhaps a bit too bleeding edge for us. Let's try [TPOT](https://github.com/EpistasisLab/tpot)."
   ]
  },
  {
   "cell_type": "code",
   "execution_count": 7,
   "metadata": {
    "colab": {
     "base_uri": "https://localhost:8080/",
     "height": 610
    },
    "colab_type": "code",
    "id": "xltSPWmMhQod",
    "outputId": "78745223-eb42-41bb-8275-da36697e656a"
   },
   "outputs": [
    {
     "name": "stdout",
     "output_type": "stream",
     "text": [
      "Requirement already satisfied: tpot in /home/seek/anaconda3/envs/U4-S2-NNF/lib/python3.7/site-packages (0.10.2)\n",
      "Requirement already satisfied: numpy>=1.12.1 in /home/seek/anaconda3/envs/U4-S2-NNF/lib/python3.7/site-packages (from tpot) (1.16.2)\n",
      "Requirement already satisfied: joblib>=0.10.3 in /home/seek/anaconda3/envs/U4-S2-NNF/lib/python3.7/site-packages (from tpot) (0.13.2)\n",
      "Requirement already satisfied: tqdm>=4.26.0 in /home/seek/anaconda3/envs/U4-S2-NNF/lib/python3.7/site-packages (from tpot) (4.32.1)\n",
      "Requirement already satisfied: pandas>=0.20.2 in /home/seek/anaconda3/envs/U4-S2-NNF/lib/python3.7/site-packages (from tpot) (0.24.2)\n",
      "Requirement already satisfied: update-checker>=0.16 in /home/seek/anaconda3/envs/U4-S2-NNF/lib/python3.7/site-packages (from tpot) (0.16)\n",
      "Requirement already satisfied: scipy>=0.19.0 in /home/seek/anaconda3/envs/U4-S2-NNF/lib/python3.7/site-packages (from tpot) (1.3.0)\n",
      "Requirement already satisfied: scikit-learn>=0.18.1 in /home/seek/anaconda3/envs/U4-S2-NNF/lib/python3.7/site-packages (from tpot) (0.21.2)\n",
      "Requirement already satisfied: stopit>=1.1.1 in /home/seek/anaconda3/envs/U4-S2-NNF/lib/python3.7/site-packages (from tpot) (1.1.2)\n",
      "Requirement already satisfied: deap>=1.0 in /home/seek/anaconda3/envs/U4-S2-NNF/lib/python3.7/site-packages (from tpot) (1.3.0)\n",
      "Requirement already satisfied: pytz>=2011k in /home/seek/anaconda3/envs/U4-S2-NNF/lib/python3.7/site-packages (from pandas>=0.20.2->tpot) (2019.1)\n",
      "Requirement already satisfied: python-dateutil>=2.5.0 in /home/seek/anaconda3/envs/U4-S2-NNF/lib/python3.7/site-packages (from pandas>=0.20.2->tpot) (2.8.0)\n",
      "Requirement already satisfied: requests>=2.3.0 in /home/seek/anaconda3/envs/U4-S2-NNF/lib/python3.7/site-packages (from update-checker>=0.16->tpot) (2.22.0)\n",
      "Requirement already satisfied: six>=1.5 in /home/seek/anaconda3/envs/U4-S2-NNF/lib/python3.7/site-packages (from python-dateutil>=2.5.0->pandas>=0.20.2->tpot) (1.12.0)\n",
      "Requirement already satisfied: chardet<3.1.0,>=3.0.2 in /home/seek/anaconda3/envs/U4-S2-NNF/lib/python3.7/site-packages (from requests>=2.3.0->update-checker>=0.16->tpot) (3.0.4)\n",
      "Requirement already satisfied: urllib3!=1.25.0,!=1.25.1,<1.26,>=1.21.1 in /home/seek/anaconda3/envs/U4-S2-NNF/lib/python3.7/site-packages (from requests>=2.3.0->update-checker>=0.16->tpot) (1.25.3)\n",
      "Requirement already satisfied: idna<2.9,>=2.5 in /home/seek/anaconda3/envs/U4-S2-NNF/lib/python3.7/site-packages (from requests>=2.3.0->update-checker>=0.16->tpot) (2.8)\n",
      "Requirement already satisfied: certifi>=2017.4.17 in /home/seek/anaconda3/envs/U4-S2-NNF/lib/python3.7/site-packages (from requests>=2.3.0->update-checker>=0.16->tpot) (2019.6.16)\n"
     ]
    }
   ],
   "source": [
    "!pip install tpot"
   ]
  },
  {
   "cell_type": "code",
   "execution_count": 8,
   "metadata": {
    "colab": {
     "base_uri": "https://localhost:8080/",
     "height": 206
    },
    "colab_type": "code",
    "id": "GhI7BzgmhWMy",
    "outputId": "ee393443-4fa2-472a-91c9-1cc9adb296fd"
   },
   "outputs": [
    {
     "data": {
      "text/html": [
       "<div>\n",
       "<style scoped>\n",
       "    .dataframe tbody tr th:only-of-type {\n",
       "        vertical-align: middle;\n",
       "    }\n",
       "\n",
       "    .dataframe tbody tr th {\n",
       "        vertical-align: top;\n",
       "    }\n",
       "\n",
       "    .dataframe thead th {\n",
       "        text-align: right;\n",
       "    }\n",
       "</style>\n",
       "<table border=\"1\" class=\"dataframe\">\n",
       "  <thead>\n",
       "    <tr style=\"text-align: right;\">\n",
       "      <th></th>\n",
       "      <th>make</th>\n",
       "      <th>price</th>\n",
       "      <th>body</th>\n",
       "      <th>mileage</th>\n",
       "      <th>engV</th>\n",
       "      <th>engType</th>\n",
       "      <th>registration</th>\n",
       "      <th>year</th>\n",
       "      <th>drive</th>\n",
       "    </tr>\n",
       "  </thead>\n",
       "  <tbody>\n",
       "    <tr>\n",
       "      <th>0</th>\n",
       "      <td>23</td>\n",
       "      <td>15500.0</td>\n",
       "      <td>0</td>\n",
       "      <td>68</td>\n",
       "      <td>2.5</td>\n",
       "      <td>1</td>\n",
       "      <td>1</td>\n",
       "      <td>2010</td>\n",
       "      <td>1</td>\n",
       "    </tr>\n",
       "    <tr>\n",
       "      <th>1</th>\n",
       "      <td>50</td>\n",
       "      <td>20500.0</td>\n",
       "      <td>3</td>\n",
       "      <td>173</td>\n",
       "      <td>1.8</td>\n",
       "      <td>1</td>\n",
       "      <td>1</td>\n",
       "      <td>2011</td>\n",
       "      <td>2</td>\n",
       "    </tr>\n",
       "    <tr>\n",
       "      <th>2</th>\n",
       "      <td>50</td>\n",
       "      <td>35000.0</td>\n",
       "      <td>2</td>\n",
       "      <td>135</td>\n",
       "      <td>5.5</td>\n",
       "      <td>3</td>\n",
       "      <td>1</td>\n",
       "      <td>2008</td>\n",
       "      <td>2</td>\n",
       "    </tr>\n",
       "    <tr>\n",
       "      <th>3</th>\n",
       "      <td>50</td>\n",
       "      <td>17800.0</td>\n",
       "      <td>5</td>\n",
       "      <td>162</td>\n",
       "      <td>1.8</td>\n",
       "      <td>0</td>\n",
       "      <td>1</td>\n",
       "      <td>2012</td>\n",
       "      <td>0</td>\n",
       "    </tr>\n",
       "    <tr>\n",
       "      <th>4</th>\n",
       "      <td>55</td>\n",
       "      <td>16600.0</td>\n",
       "      <td>0</td>\n",
       "      <td>83</td>\n",
       "      <td>2.0</td>\n",
       "      <td>3</td>\n",
       "      <td>1</td>\n",
       "      <td>2013</td>\n",
       "      <td>1</td>\n",
       "    </tr>\n",
       "  </tbody>\n",
       "</table>\n",
       "</div>"
      ],
      "text/plain": [
       "   make    price  body  mileage  engV  engType  registration  year  drive\n",
       "0    23  15500.0     0       68   2.5        1             1  2010      1\n",
       "1    50  20500.0     3      173   1.8        1             1  2011      2\n",
       "2    50  35000.0     2      135   5.5        3             1  2008      2\n",
       "3    50  17800.0     5      162   1.8        0             1  2012      0\n",
       "4    55  16600.0     0       83   2.0        3             1  2013      1"
      ]
     },
     "execution_count": 8,
     "metadata": {},
     "output_type": "execute_result"
    }
   ],
   "source": [
    "import pandas as pd\n",
    "from tpot import TPOTRegressor\n",
    "\n",
    "df = pd.read_csv('car_regression.csv')\n",
    "df.head()"
   ]
  },
  {
   "cell_type": "code",
   "execution_count": 9,
   "metadata": {
    "colab": {
     "base_uri": "https://localhost:8080/",
     "height": 300
    },
    "colab_type": "code",
    "id": "XED4cuyimEsP",
    "outputId": "194fc9de-ba89-4006-fc78-0f1953187ce0"
   },
   "outputs": [
    {
     "data": {
      "text/html": [
       "<div>\n",
       "<style scoped>\n",
       "    .dataframe tbody tr th:only-of-type {\n",
       "        vertical-align: middle;\n",
       "    }\n",
       "\n",
       "    .dataframe tbody tr th {\n",
       "        vertical-align: top;\n",
       "    }\n",
       "\n",
       "    .dataframe thead th {\n",
       "        text-align: right;\n",
       "    }\n",
       "</style>\n",
       "<table border=\"1\" class=\"dataframe\">\n",
       "  <thead>\n",
       "    <tr style=\"text-align: right;\">\n",
       "      <th></th>\n",
       "      <th>make</th>\n",
       "      <th>price</th>\n",
       "      <th>body</th>\n",
       "      <th>mileage</th>\n",
       "      <th>engV</th>\n",
       "      <th>engType</th>\n",
       "      <th>registration</th>\n",
       "      <th>year</th>\n",
       "      <th>drive</th>\n",
       "    </tr>\n",
       "  </thead>\n",
       "  <tbody>\n",
       "    <tr>\n",
       "      <th>count</th>\n",
       "      <td>8495.000000</td>\n",
       "      <td>8495.000000</td>\n",
       "      <td>8495.000000</td>\n",
       "      <td>8495.000000</td>\n",
       "      <td>8495.000000</td>\n",
       "      <td>8495.000000</td>\n",
       "      <td>8495.000000</td>\n",
       "      <td>8495.000000</td>\n",
       "      <td>8495.000000</td>\n",
       "    </tr>\n",
       "    <tr>\n",
       "      <th>mean</th>\n",
       "      <td>46.535491</td>\n",
       "      <td>16185.453305</td>\n",
       "      <td>2.302295</td>\n",
       "      <td>141.744202</td>\n",
       "      <td>2.568337</td>\n",
       "      <td>1.650618</td>\n",
       "      <td>0.941613</td>\n",
       "      <td>2006.500883</td>\n",
       "      <td>0.575868</td>\n",
       "    </tr>\n",
       "    <tr>\n",
       "      <th>std</th>\n",
       "      <td>24.526251</td>\n",
       "      <td>24449.641512</td>\n",
       "      <td>1.610307</td>\n",
       "      <td>97.464062</td>\n",
       "      <td>5.387238</td>\n",
       "      <td>1.341282</td>\n",
       "      <td>0.234488</td>\n",
       "      <td>6.925907</td>\n",
       "      <td>0.741235</td>\n",
       "    </tr>\n",
       "    <tr>\n",
       "      <th>min</th>\n",
       "      <td>0.000000</td>\n",
       "      <td>259.350000</td>\n",
       "      <td>0.000000</td>\n",
       "      <td>0.000000</td>\n",
       "      <td>0.100000</td>\n",
       "      <td>0.000000</td>\n",
       "      <td>0.000000</td>\n",
       "      <td>1959.000000</td>\n",
       "      <td>0.000000</td>\n",
       "    </tr>\n",
       "    <tr>\n",
       "      <th>25%</th>\n",
       "      <td>23.000000</td>\n",
       "      <td>5490.000000</td>\n",
       "      <td>1.000000</td>\n",
       "      <td>74.000000</td>\n",
       "      <td>1.600000</td>\n",
       "      <td>0.000000</td>\n",
       "      <td>1.000000</td>\n",
       "      <td>2004.000000</td>\n",
       "      <td>0.000000</td>\n",
       "    </tr>\n",
       "    <tr>\n",
       "      <th>50%</th>\n",
       "      <td>50.000000</td>\n",
       "      <td>9500.000000</td>\n",
       "      <td>3.000000</td>\n",
       "      <td>130.000000</td>\n",
       "      <td>2.000000</td>\n",
       "      <td>1.000000</td>\n",
       "      <td>1.000000</td>\n",
       "      <td>2008.000000</td>\n",
       "      <td>0.000000</td>\n",
       "    </tr>\n",
       "    <tr>\n",
       "      <th>75%</th>\n",
       "      <td>68.000000</td>\n",
       "      <td>17145.600000</td>\n",
       "      <td>3.000000</td>\n",
       "      <td>197.000000</td>\n",
       "      <td>2.500000</td>\n",
       "      <td>3.000000</td>\n",
       "      <td>1.000000</td>\n",
       "      <td>2011.000000</td>\n",
       "      <td>1.000000</td>\n",
       "    </tr>\n",
       "    <tr>\n",
       "      <th>max</th>\n",
       "      <td>82.000000</td>\n",
       "      <td>547800.000000</td>\n",
       "      <td>5.000000</td>\n",
       "      <td>999.000000</td>\n",
       "      <td>99.990000</td>\n",
       "      <td>3.000000</td>\n",
       "      <td>1.000000</td>\n",
       "      <td>2016.000000</td>\n",
       "      <td>2.000000</td>\n",
       "    </tr>\n",
       "  </tbody>\n",
       "</table>\n",
       "</div>"
      ],
      "text/plain": [
       "              make          price         body      mileage         engV  \\\n",
       "count  8495.000000    8495.000000  8495.000000  8495.000000  8495.000000   \n",
       "mean     46.535491   16185.453305     2.302295   141.744202     2.568337   \n",
       "std      24.526251   24449.641512     1.610307    97.464062     5.387238   \n",
       "min       0.000000     259.350000     0.000000     0.000000     0.100000   \n",
       "25%      23.000000    5490.000000     1.000000    74.000000     1.600000   \n",
       "50%      50.000000    9500.000000     3.000000   130.000000     2.000000   \n",
       "75%      68.000000   17145.600000     3.000000   197.000000     2.500000   \n",
       "max      82.000000  547800.000000     5.000000   999.000000    99.990000   \n",
       "\n",
       "           engType  registration         year        drive  \n",
       "count  8495.000000   8495.000000  8495.000000  8495.000000  \n",
       "mean      1.650618      0.941613  2006.500883     0.575868  \n",
       "std       1.341282      0.234488     6.925907     0.741235  \n",
       "min       0.000000      0.000000  1959.000000     0.000000  \n",
       "25%       0.000000      1.000000  2004.000000     0.000000  \n",
       "50%       1.000000      1.000000  2008.000000     0.000000  \n",
       "75%       3.000000      1.000000  2011.000000     1.000000  \n",
       "max       3.000000      1.000000  2016.000000     2.000000  "
      ]
     },
     "execution_count": 9,
     "metadata": {},
     "output_type": "execute_result"
    }
   ],
   "source": [
    "df.describe()"
   ]
  },
  {
   "cell_type": "code",
   "execution_count": 10,
   "metadata": {
    "colab": {},
    "colab_type": "code",
    "id": "SRdeEEbomGQ6"
   },
   "outputs": [],
   "source": [
    "from sklearn.model_selection import train_test_split\n",
    "\n",
    "X = df.drop('price', axis=1).values\n",
    "X_train, X_test, y_train, y_test = train_test_split(\n",
    "    X, df['price'].values, train_size=0.75, test_size=0.25)"
   ]
  },
  {
   "cell_type": "code",
   "execution_count": 11,
   "metadata": {
    "colab": {
     "base_uri": "https://localhost:8080/",
     "height": 211
    },
    "colab_type": "code",
    "id": "p5dAYY5VmuEc",
    "outputId": "41208981-b211-489e-ef52-310cfbb66af5"
   },
   "outputs": [
    {
     "name": "stdout",
     "output_type": "stream",
     "text": [
      "Warning: xgboost.XGBRegressor is not available and will not be used by TPOT.\n"
     ]
    },
    {
     "data": {
      "application/vnd.jupyter.widget-view+json": {
       "model_id": "aa332476a6bf4665869db0f0a5a324e6",
       "version_major": 2,
       "version_minor": 0
      },
      "text/plain": [
       "HBox(children=(IntProgress(value=0, description='Optimization Progress', max=120, style=ProgressStyle(descript…"
      ]
     },
     "metadata": {},
     "output_type": "display_data"
    },
    {
     "name": "stdout",
     "output_type": "stream",
     "text": [
      "Generation 1 - Current best internal CV score: -91182047.30531414\n",
      "Generation 2 - Current best internal CV score: -91182047.30531414\n",
      "Generation 3 - Current best internal CV score: -88190769.49326894\n",
      "Generation 4 - Current best internal CV score: -88190769.49326894\n",
      "Generation 5 - Current best internal CV score: -88190769.49326894\n",
      "\n",
      "Best pipeline: RandomForestRegressor(input_matrix, bootstrap=False, max_features=0.4, min_samples_leaf=3, min_samples_split=11, n_estimators=100)\n",
      "-98656733.97316779\n",
      "CPU times: user 17min 49s, sys: 3min 13s, total: 21min 3s\n",
      "Wall time: 15min 12s\n"
     ]
    }
   ],
   "source": [
    "%%time\n",
    "\n",
    "tpot = TPOTRegressor(generations=5, population_size=20, verbosity=2)\n",
    "tpot.fit(X_train, y_train)\n",
    "print(tpot.score(X_test, y_test))"
   ]
  },
  {
   "cell_type": "code",
   "execution_count": 12,
   "metadata": {
    "colab": {
     "base_uri": "https://localhost:8080/",
     "height": 52
    },
    "colab_type": "code",
    "id": "ma_BH3rpqLFA",
    "outputId": "63602cc4-48a2-461a-d922-4ca2ac354f67"
   },
   "outputs": [
    {
     "data": {
      "text/plain": [
       "array([10091.93114531,  3537.14484921,  6888.16672488, ...,\n",
       "        5968.06069697, 18887.15573512,  1150.88997353])"
      ]
     },
     "execution_count": 12,
     "metadata": {},
     "output_type": "execute_result"
    }
   ],
   "source": [
    "tpot.predict(X_test)"
   ]
  },
  {
   "cell_type": "code",
   "execution_count": 13,
   "metadata": {
    "colab": {
     "base_uri": "https://localhost:8080/",
     "height": 34
    },
    "colab_type": "code",
    "id": "nTSYqr_dqdNb",
    "outputId": "e04e2b8d-f6f2-4c1d-a452-63b36fb7a578"
   },
   "outputs": [
    {
     "data": {
      "text/plain": [
       "array([ 8000.,  2300.,  6500., ...,  6000., 16800.,  3100.])"
      ]
     },
     "execution_count": 13,
     "metadata": {},
     "output_type": "execute_result"
    }
   ],
   "source": [
    "y_test"
   ]
  },
  {
   "cell_type": "markdown",
   "metadata": {
    "colab_type": "text",
    "id": "aVijM-bCd6Xh"
   },
   "source": [
    "It works - but it looks like we're not quite out of a job yet."
   ]
  },
  {
   "cell_type": "markdown",
   "metadata": {
    "colab_type": "text",
    "id": "hYXU2HBrswcX"
   },
   "source": [
    "## So, is AutoML an \"AGI\"?"
   ]
  },
  {
   "cell_type": "markdown",
   "metadata": {
    "colab_type": "text",
    "id": "ws30-q7PtEWE"
   },
   "source": [
    "**No** - it's a search (grid or possibly using genetic/tree pruning/etc. heuristics) in parameter space, with some clever type inference heuristics and a slick interface.\n",
    "\n",
    "But, it *is* artificial, it *does* give intelligent results, and (like most technology) it *multiplies* productivity. It's not going to \"take our jobs\" - but it does mean that, in some situations, one data scientist will be able to do what formerly took several to achieve."
   ]
  },
  {
   "cell_type": "markdown",
   "metadata": {
    "colab_type": "text",
    "id": "glOqJQkA0bxG"
   },
   "source": [
    "## Is Artificial General Intelligence dangerous?"
   ]
  },
  {
   "cell_type": "markdown",
   "metadata": {
    "colab_type": "text",
    "id": "BZrQq9D3ik6h"
   },
   "source": [
    "![I'm working to bring about a superintelligent AI that will eternally torment everyone who failed to make fun of the Roko's Basilisk people.](https://imgs.xkcd.com/comics/ai_box_experiment.png)\n",
    "\n",
    "There's been much philosophizing, thought experimenting, and even some genuine advocacy and policy considerations about the impact of a \"true\" AGI on human society. Most of these analyses essentially consider the AGI as an unfathomable deity, thinking and moving in ways well beyond human comprehension.\n",
    "\n",
    "Consider the [paperclip maximizer](https://en.wikipedia.org/wiki/Instrumental_convergence#Paperclip_maximizer):\n",
    "\n",
    "> Suppose we have an AI whose only goal is to make as many paper clips as possible. The AI will realize quickly that it would be much better if there were no humans because humans might decide to switch it off. Because if humans do so, there would be fewer paper clips. Also, human bodies contain a lot of atoms that could be made into paper clips. The future that the AI would be trying to gear towards would be one in which there were a lot of paper clips but no humans. — Nick Bostrom\n",
    "\n",
    "This is an example of *instrumental convergence* - the idea that, if an AGI were to pursue an unbounded goal (a natural instruction like \"Maximize the health of all humans\") it may push it in extremely unexpected ways (put all humans in vats of goo, to both preserve them and prevent them from disabling it, since its existence is also of value to help humans).\n",
    "\n",
    "Is this a *realistic* concern? Well, maybe eventually - but pretty obviously not an immediate one. There are many more prominent challenges involving tech and society - privacy, economic growth, equality, education - and even *if* AGI existed it's not clear how they would have the means to enact such fantastic plans. Killer robot armies make for good TV, but at some step there's likely a human with an off switch."
   ]
  },
  {
   "cell_type": "markdown",
   "metadata": {
    "colab_type": "text",
    "id": "ayWGQhHu1yRu"
   },
   "source": [
    "## Where is AI going, and where does it leave us?"
   ]
  },
  {
   "cell_type": "markdown",
   "metadata": {
    "colab_type": "text",
    "id": "zrBqwYoziUSm"
   },
   "source": [
    "![Lambda calculus? More like SHAMda calculus, amirite?](https://imgs.xkcd.com/comics/ai_research.png)\n",
    "\n",
    "On the one hand, we live in a remarkable time. The explosion of technology from WWII to present has brought about countless innovations, greatly increased median life expectancy and GDP, and shows no sign of slowing down.\n",
    "\n",
    "On the other hand, the more things change the more they stay the same. Humans are still Homo sapiens, with the same brains we've had for many millenia. [Dunbar's number](https://en.wikipedia.org/wiki/Dunbar's_number) stymies our attempts to be globally considerate and aware, and at the end of the day it seems like the vast majority of our behavior is as it ever has been - just with shinier toys.\n",
    "\n",
    "So, what will happen? Will technology usher in a utopia, where automation finally relieves us all of burdensome tasks and we are free to explore science, art, and leisure? Or are we doomed to a dystopia, where increased production is also increasingly centralized and the vast majority of humanity becomes a permanent underclass in a postmodern cyberpunk world?\n",
    "\n",
    "Probably neither - both are extreme points along a continuum of possibility. But wherever we do end up, it is all but certain that AI (that is, technology generating insights and signal) will be a key part of it."
   ]
  },
  {
   "cell_type": "markdown",
   "metadata": {
    "colab_type": "text",
    "id": "ZpbzOQKU7Yv2"
   },
   "source": [
    "## And what about A*G*I?"
   ]
  },
  {
   "cell_type": "markdown",
   "metadata": {
    "colab_type": "text",
    "id": "kB8YZxHc7gGm"
   },
   "source": [
    "> \"I think, therefore I am.\" -- René Descartes\n",
    "\n",
    "> \"I am a strange loop.\" -- Douglas Hofstadter\n",
    "\n",
    "Artificial General Intelligence is, as discussed, a moving target. Perhaps what we're looking for isn't intelligence, but consciousness - and specifically, consciousness *we* recognize and empathize with. Much like all parents, us humans want to foster something new in our image, and see it succeed in a way we appreciate.\n",
    "\n",
    "It's not clear if technology will ever *really* get there. The structure and approach to artificial intelligence is inherently, well, artificial - some things like neural networks are \"inspired\" by biology, but still very different (far fewer connections, but far faster with more data). Perhaps computers really already *are* intelligent, just not in a way we recognize.\n",
    "\n",
    "And if we ever do succeed at making our virtual progeny, we may find it bittersweet - not because they will inevitably destroy us (though they probably will outlast us), but simply because it will then lead us to wonder what is so special about us in the first place. If we can create an AGI from metal and sand, then are we not just mechanisms of a different sort?"
   ]
  },
  {
   "cell_type": "markdown",
   "metadata": {
    "colab_type": "text",
    "id": "0lfZdD_cp1t5"
   },
   "source": [
    "# Assignment\n",
    "\n",
    "Use either [automl-gs](https://github.com/minimaxir/automl-gs) or [TPOT](https://github.com/EpistasisLab/tpot) to solve at least two of your prior assignments, projects, or other past work (any time you fit a classification or regression model). Report the results, and compare/contrast with the results you found when you worked on it using your \"human\" ML approach.\n",
    "\n",
    "Note - these tools promise a lot, but the reality is that you may have to debug a bit and figure out getting your data in a format that it recognizes. Welcome to the cutting edge - at least there's still plenty of work to do!"
   ]
  },
  {
   "cell_type": "code",
   "execution_count": 14,
   "metadata": {
    "colab": {},
    "colab_type": "code",
    "id": "Ltj1je1fp5rO"
   },
   "outputs": [],
   "source": [
    "# TODO - ✨"
   ]
  },
  {
   "cell_type": "markdown",
   "metadata": {
    "colab_type": "text",
    "id": "zE4a4O7Bp5x1"
   },
   "source": [
    "# Resources and Stretch Goals"
   ]
  },
  {
   "cell_type": "markdown",
   "metadata": {
    "colab_type": "text",
    "id": "uT3UV3gap9H6"
   },
   "source": [
    "Stretch goals\n",
    "- Apply AutoML to more data, including data you've not analyzed or data you're considering for project work\n",
    "- Try to work with the GPU/TPU options, and see if you can accelerate your AutoML\n",
    "- Check out other competing AutoML systems (see resources or search and share - many are cloud hosted which is why we went with this)\n",
    "- Write a blog post summarizing your experience learning Data Science at Lambda School!\n",
    "\n",
    "Resources\n",
    "- [What to expect from AutoML software](https://epistasislab.github.io/tpot/using/#what-to-expect-from-automl-software)\n",
    "- [TPOT examples](https://epistasislab.github.io/tpot/examples/)\n",
    "- [Google Cloud AutoML](https://cloud.google.com/automl/) - the Google offering in the AutoML space (also has vision, video, NLP, and translation)\n",
    "- [Microsoft AutoML](https://www.microsoft.com/en-us/research/project/automl/)\n",
    "- [AutoML.org](https://www.automl.org)\n",
    "- [Ludwig](https://uber.github.io/ludwig/) - a toolbox for deep learning that doesn't require coding, from Uber\n",
    "- [USENIX Security '18-Q: Why Do Keynote Speakers Keep Suggesting That Improving Security Is Possible?](https://youtu.be/ajGX7odA87k) - a humorous but informative presentation by James Mickens, focused on security but with a consideration of data and machine learning"
   ]
  }
 ],
 "metadata": {
  "colab": {
   "collapsed_sections": [],
   "name": "LS_DS_444_AGI_and_The_Future.ipynb",
   "provenance": [],
   "version": "0.3.2"
  },
  "kernelspec": {
   "display_name": "U4-S2-NNF (Python 3.7)",
   "language": "python",
   "name": "u4-s1-nlp"
  },
  "language_info": {
   "codemirror_mode": {
    "name": "ipython",
    "version": 3
   },
   "file_extension": ".py",
   "mimetype": "text/x-python",
   "name": "python",
   "nbconvert_exporter": "python",
   "pygments_lexer": "ipython3",
   "version": "3.7.3"
  }
 },
 "nbformat": 4,
 "nbformat_minor": 4
}
