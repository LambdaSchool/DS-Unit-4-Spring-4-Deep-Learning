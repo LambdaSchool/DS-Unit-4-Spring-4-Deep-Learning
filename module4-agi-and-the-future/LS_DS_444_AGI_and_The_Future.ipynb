{
 "cells": [
  {
   "cell_type": "markdown",
   "metadata": {
    "colab_type": "text",
    "id": "_IizNKWLomoA"
   },
   "source": [
    "# Lambda School Data Science - Artificial General Intelligence and The Future\n",
    "\n",
    "![Future City](https://upload.wikimedia.org/wikipedia/commons/thumb/c/ce/City-of-the-future.jpg/640px-City-of-the-future.jpg)"
   ]
  },
  {
   "cell_type": "markdown",
   "metadata": {
    "colab_type": "text",
    "id": "moj-4gr89pum"
   },
   "source": [
    "# Lecture"
   ]
  },
  {
   "cell_type": "markdown",
   "metadata": {
    "colab_type": "text",
    "id": "0EZdBzC6pvV9"
   },
   "source": [
    "## Defining Intelligence"
   ]
  },
  {
   "cell_type": "markdown",
   "metadata": {
    "colab_type": "text",
    "id": "t9Y6I1aO9uCz"
   },
   "source": [
    "A straightforward definition of Artificial Intelligence would simply be \"intelligence, created from technology rather than biology.\" But that simply raises the question - what is *intelligence*?\n",
    "\n",
    "In the early history of computers, this seemed like an easier question. Intelligence meant solving tricky problems - things that took time and mental effort for a human to figure out.\n",
    "\n",
    "Defined that way, computers have made a litany of intelligent achievements over the years:\n",
    "- Arithmetic\n",
    "- Logic\n",
    "- Chess\n",
    "- Go\n",
    "- StarCraft\n",
    "- Mathematical proofs\n",
    "- Understanding natural language\n",
    "- Generating natural language\n",
    "- Understanding images\n",
    "- Generating images\n",
    "- Making medical diagnoses\n",
    "- Fitting and *optimizing* ML models\n",
    "\n",
    "And many more - every time you fit a simple regression, you're facilitating an act of artificial intelligence. You're writing code that will (hopefully) understand and generalize based on data, giving a \"human-like\" ability to intuit and predict something."
   ]
  },
  {
   "cell_type": "markdown",
   "metadata": {
    "colab_type": "text",
    "id": "vXdC1uCC91ID"
   },
   "source": [
    "## \"General\" Intelligence - a moving target\n",
    "\n",
    "But, somehow, that isn't what most people *really* mean when they talk about AI.\n",
    "\n",
    "![And they both react poorly to showers.](https://imgs.xkcd.com/comics/ai.png)\n",
    "\n",
    "Somewhere that word \"general\" snuck in, and now we're concerned about \"Artificial General Intelligence.\" So, what is that?\n",
    "\n",
    "![Data](https://upload.wikimedia.org/wikipedia/en/0/09/DataTNG.jpg)\n",
    "\n",
    "The inspiration is likely characters such as the above, but that's not a definition. Intuitively the claim is \"computers that can be thrown in a variety of environments and learn without guidance\", but another good definition (based on how people use the term) may simply be \"whatever we haven't figured out how to get computers to do yet.\"\n",
    "\n",
    "Repeatedly, claims are made about tasks that will require a \"true AI\" to achieve. Then, when those tasks are completed, the bar is moved, and \"true AI\" is somehow always a bit further off."
   ]
  },
  {
   "cell_type": "markdown",
   "metadata": {
    "colab_type": "text",
    "id": "IJV_2Ozk5LLV"
   },
   "source": [
    "## AI - Hype versus Value\n",
    "\n",
    "Hot off the presses! [Google launches an end-to-end AI platform](https://techcrunch.com/2019/04/10/google-expands-its-ai-services/)!\n",
    "\n",
    "...\n",
    "\n",
    "What does that mean? Well, it might mean a lot, but it's a little unclear what. Some selected [Hacker News](https://news.ycombinator.com/item?id=19626275) comments:\n",
    "\n",
    "> This platform focuses not on the this-AI-is-magic-and-can-solve-everything like many AI SaaS startups announced on Hacker News, but focuses on how to actually integrate this AI into production workflows, which is something I wish was discussed more often in AI. -- minimaxir\n",
    "\n",
    "> Looks like Google is taking over Cloud (from AWS) for AI by building an ecosystem and building tools for non Data scientists - consumer level product. Surely IBM can do similar thing with their recent Redhat acquisition, but will they ? -- amrrs\n",
    "\n",
    "> I work in building and deploying production ML/AI models but I'm having a lot of trouble cutting through the marketing jargon in this article and on Google's website as well. Can someone explain what this does in engineering terms? How does this differ from something like AWS Sagemaker? -- chibg10\n",
    "\n",
    "> This will make a bunch of startup's life really hard. I think it makes it harder to justify investing in your own ML pipeline or even building your own models for many use cases. -- petard\n",
    "\n",
    "One thing it definitely means - AI is a hot keyword, and people making hiring and other corporate decisions will be on the look out for it, even if they're not sure what it is.\n",
    "\n",
    "So - yes, you *do* know AI. AI is a real thing, and you are capable of using \"artificial\" technology to bring about real *intelligence* and insight.\n",
    "\n",
    "Do you know how to make an intelligent anthropomorphic android? No - and nobody else does yet, either. And that's OK. There's still lots of cool advances and things to learn and build."
   ]
  },
  {
   "cell_type": "markdown",
   "metadata": {
    "colab_type": "text",
    "id": "MpSkJFuIkJeU"
   },
   "source": [
    "## Automation, for good and ill\n",
    "\n",
    "It is worth spending a moment considering the double-edged sword that is automation. This story did not begin with artificial intelligence, or even statistics or mathematics - it began when the first tool inventor figured out how to make something clever like a lever or a wheel, and use it to reduce the amount of labor needed to achieve some task.\n",
    "\n",
    "In the modern day we talk about automation, but in practice most technology is best considered as a *productivity multiplier* - all businesses still need at least *some* humans around, if nothing else to make policy decisions and collect profit. But the productivity of each individual person can be greatly enhanced through the use of technology.\n",
    "\n",
    "Consider farming - formerly a signification source of employment (and also small family owned farms), technology has tranformed it into a large scale industry where a handful of people produce as much as many more did before. This progression has happened in many areas - fortunately, it is usually accompanied by job growth and opportunity as new markets and services are created by technology as well.\n",
    "\n",
    "So, is it different now? Maybe - \"history will say\" is the only safe stance. But we are automating work at an accelerating rate, and it's unclear where all this growth is going and where the opportunities will be. There's a pretty good bet that it'll involve computers and data - and that's probably a large part of why you're here!\n",
    "\n",
    "The purpose of this section is not to convince you of anything - it is just to make you think. As a Data Scientist, you will have an outsized impact on society, and it is your responsibility to consider that impact and what you want to do with it.\n",
    "\n",
    "**Important caveat** - think and engage with society, *but* strive to not be strident or unduly certain when you do so. Broadcasting political beliefs, especially while on the job market, usually closes more doors than it opens. So, consider perspectives, and encourage dialogue - don't just (re)broadcast outrage at the latest injustice."
   ]
  },
  {
   "cell_type": "markdown",
   "metadata": {
    "colab_type": "text",
    "id": "_vXHDbNnzGZz"
   },
   "source": [
    "## AutoML - taking our own jobs\n",
    "\n",
    "Us Data Scientists are not immune to automation. Behold, yet another voyage with the RMS Titanic 🚢:"
   ]
  },
  {
   "cell_type": "markdown",
   "metadata": {
    "colab_type": "text",
    "id": "YN4O5Ikxy2g8"
   },
   "source": [
    "![AutoML applied to Titanic data](https://github.com/minimaxir/automl-gs/raw/master/docs/console-demo.gif)"
   ]
  },
  {
   "cell_type": "markdown",
   "metadata": {
    "colab_type": "text",
    "id": "iy6RIQn9zKhp"
   },
   "source": [
    "### Using AutoML on some data you've probably seen before\n",
    "\n",
    "Let's start with [automl-gs](https://github.com/minimaxir/automl-gs), a very new library that just works directly from csv."
   ]
  },
  {
   "cell_type": "code",
   "execution_count": 1,
   "metadata": {
    "ExecuteTime": {
     "end_time": "2019-05-16T20:49:18.767129Z",
     "start_time": "2019-05-16T20:49:12.020527Z"
    },
    "colab": {
     "base_uri": "https://localhost:8080/",
     "height": 506
    },
    "colab_type": "code",
    "id": "GkJUFfsgnqr_",
    "outputId": "cf810bae-5195-4e9b-e157-1ef9a10f1b1d"
   },
   "outputs": [
    {
     "name": "stdout",
     "output_type": "stream",
     "text": [
      "Collecting automl_gs\n",
      "  Downloading https://files.pythonhosted.org/packages/c4/51/27833a08fe4f83711b09836ddd9128e275a6900c47e0e5782112ed611484/automl_gs-0.2.1.tar.gz\n",
      "Requirement already satisfied: pandas in /home/superio/anaconda3/lib/python3.7/site-packages (from automl_gs) (0.24.2)\n",
      "Requirement already satisfied: scikit-learn in /home/superio/anaconda3/lib/python3.7/site-packages (from automl_gs) (0.20.3)\n",
      "Requirement already satisfied: autopep8 in /home/superio/anaconda3/lib/python3.7/site-packages (from automl_gs) (1.4.4)\n",
      "Requirement already satisfied: tqdm in /home/superio/anaconda3/lib/python3.7/site-packages (from automl_gs) (4.31.1)\n",
      "Requirement already satisfied: jinja2>=2.8 in /home/superio/anaconda3/lib/python3.7/site-packages (from automl_gs) (2.10)\n",
      "Requirement already satisfied: pyyaml in /home/superio/anaconda3/lib/python3.7/site-packages (from automl_gs) (5.1)\n",
      "Requirement already satisfied: python-dateutil>=2.5.0 in /home/superio/anaconda3/lib/python3.7/site-packages (from pandas->automl_gs) (2.8.0)\n",
      "Requirement already satisfied: pytz>=2011k in /home/superio/anaconda3/lib/python3.7/site-packages (from pandas->automl_gs) (2018.9)\n",
      "Requirement already satisfied: numpy>=1.12.0 in /home/superio/anaconda3/lib/python3.7/site-packages (from pandas->automl_gs) (1.16.2)\n",
      "Requirement already satisfied: scipy>=0.13.3 in /home/superio/anaconda3/lib/python3.7/site-packages (from scikit-learn->automl_gs) (1.2.1)\n",
      "Requirement already satisfied: pycodestyle>=2.4.0 in /home/superio/anaconda3/lib/python3.7/site-packages (from autopep8->automl_gs) (2.5.0)\n",
      "Requirement already satisfied: MarkupSafe>=0.23 in /home/superio/anaconda3/lib/python3.7/site-packages (from jinja2>=2.8->automl_gs) (1.1.1)\n",
      "Requirement already satisfied: six>=1.5 in /home/superio/anaconda3/lib/python3.7/site-packages (from python-dateutil>=2.5.0->pandas->automl_gs) (1.12.0)\n",
      "Building wheels for collected packages: automl-gs\n",
      "  Building wheel for automl-gs (setup.py) ... \u001b[?25ldone\n",
      "\u001b[?25h  Stored in directory: /home/superio/.cache/pip/wheels/2d/5e/f0/deffbd0fcc4afd6b065366dded7b9c8cd1b7c02f6b39c24552\n",
      "Successfully built automl-gs\n",
      "Installing collected packages: automl-gs\n",
      "Successfully installed automl-gs-0.2.1\n"
     ]
    }
   ],
   "source": [
    "!pip install automl_gs"
   ]
  },
  {
   "cell_type": "code",
   "execution_count": 2,
   "metadata": {
    "ExecuteTime": {
     "end_time": "2019-05-16T20:49:23.457996Z",
     "start_time": "2019-05-16T20:49:22.325319Z"
    },
    "colab": {
     "base_uri": "https://localhost:8080/",
     "height": 295
    },
    "colab_type": "code",
    "id": "QsGIh584kH3A",
    "outputId": "247ecbf6-6958-43dd-81d4-00c985be5e20"
   },
   "outputs": [
    {
     "name": "stdout",
     "output_type": "stream",
     "text": [
      "--2019-05-16 16:49:22--  https://github.com/ryanleeallred/datasets/raw/master/car_regression.csv\n",
      "Resolving github.com (github.com)... 192.30.253.113\n",
      "Connecting to github.com (github.com)|192.30.253.113|:443... connected.\n",
      "HTTP request sent, awaiting response... 302 Found\n",
      "Location: https://raw.githubusercontent.com/ryanleeallred/datasets/master/car_regression.csv [following]\n",
      "--2019-05-16 16:49:22--  https://raw.githubusercontent.com/ryanleeallred/datasets/master/car_regression.csv\n",
      "Resolving raw.githubusercontent.com (raw.githubusercontent.com)... 151.101.56.133\n",
      "Connecting to raw.githubusercontent.com (raw.githubusercontent.com)|151.101.56.133|:443... connected.\n",
      "HTTP request sent, awaiting response... 200 OK\n",
      "Length: 263167 (257K) [text/plain]\n",
      "Saving to: ‘car_regression.csv’\n",
      "\n",
      "car_regression.csv  100%[===================>] 257.00K   742KB/s    in 0.3s    \n",
      "\n",
      "2019-05-16 16:49:23 (742 KB/s) - ‘car_regression.csv’ saved [263167/263167]\n",
      "\n"
     ]
    }
   ],
   "source": [
    "!wget https://github.com/ryanleeallred/datasets/raw/master/car_regression.csv"
   ]
  },
  {
   "cell_type": "code",
   "execution_count": 3,
   "metadata": {
    "ExecuteTime": {
     "end_time": "2019-05-16T20:49:25.249443Z",
     "start_time": "2019-05-16T20:49:25.097494Z"
    },
    "colab": {
     "base_uri": "https://localhost:8080/",
     "height": 191
    },
    "colab_type": "code",
    "id": "mR0ba-7ikJCd",
    "outputId": "ff858080-368f-4a42-cfe6-ffbd31385880"
   },
   "outputs": [
    {
     "name": "stdout",
     "output_type": "stream",
     "text": [
      "make,price,body,mileage,engV,engType,registration,year,drive\r\n",
      "23,15500.0,0,68,2.5,1,1,2010,1\r\n",
      "50,20500.0,3,173,1.8,1,1,2011,2\r\n",
      "50,35000.0,2,135,5.5,3,1,2008,2\r\n",
      "50,17800.0,5,162,1.8,0,1,2012,0\r\n",
      "55,16600.0,0,83,2.0,3,1,2013,1\r\n",
      "30,6500.0,3,199,2.0,3,1,2003,0\r\n",
      "59,10500.0,4,185,1.5,0,1,2011,0\r\n",
      "50,21500.0,3,146,1.8,1,1,2012,2\r\n",
      "50,22700.0,3,125,2.2,0,1,2010,2\r\n"
     ]
    }
   ],
   "source": [
    "!head car_regression.csv"
   ]
  },
  {
   "cell_type": "code",
   "execution_count": 6,
   "metadata": {
    "ExecuteTime": {
     "end_time": "2019-05-16T21:05:20.829529Z",
     "start_time": "2019-05-16T21:05:13.626497Z"
    },
    "colab": {
     "base_uri": "https://localhost:8080/",
     "height": 671
    },
    "colab_type": "code",
    "id": "JwEChFqKkLdW",
    "outputId": "4c7af1af-20ca-4c46-afff-1154da461671"
   },
   "outputs": [
    {
     "name": "stdout",
     "output_type": "stream",
     "text": [
      "Solving a regression problem, minimizing mse using tensorflow.\n",
      "\n",
      "Modeling with field specifications:\n",
      "make: numeric\n",
      "body: categorical\n",
      "mileage: numeric\n",
      "engV: numeric\n",
      "engType: categorical\n",
      "registration: categorical\n",
      "year: numeric\n",
      "drive: categorical\n"
     ]
    },
    {
     "data": {
      "application/vnd.jupyter.widget-view+json": {
       "model_id": "b35dfa4879904f13a3ee49c8313481b6",
       "version_major": 2,
       "version_minor": 0
      },
      "text/plain": [
       "HBox(children=(IntProgress(value=0), HTML(value='')))"
      ]
     },
     "metadata": {},
     "output_type": "display_data"
    },
    {
     "data": {
      "application/vnd.jupyter.widget-view+json": {
       "model_id": "a7fd383a8ae946dd94089a031c0ad4a8",
       "version_major": 2,
       "version_minor": 0
      },
      "text/plain": [
       "HBox(children=(IntProgress(value=0, max=20), HTML(value='')))"
      ]
     },
     "metadata": {},
     "output_type": "display_data"
    },
    {
     "ename": "IndexError",
     "evalue": "list index out of range",
     "output_type": "error",
     "traceback": [
      "\u001b[0;31m---------------------------------------------------------------------------\u001b[0m",
      "\u001b[0;31mIndexError\u001b[0m                                Traceback (most recent call last)",
      "\u001b[0;32m<ipython-input-6-bf47de8a1866>\u001b[0m in \u001b[0;36m<module>\u001b[0;34m\u001b[0m\n\u001b[1;32m      1\u001b[0m \u001b[0;32mfrom\u001b[0m \u001b[0mautoml_gs\u001b[0m \u001b[0;32mimport\u001b[0m \u001b[0mautoml_grid_search\u001b[0m\u001b[0;34m\u001b[0m\u001b[0;34m\u001b[0m\u001b[0m\n\u001b[1;32m      2\u001b[0m \u001b[0;34m\u001b[0m\u001b[0m\n\u001b[0;32m----> 3\u001b[0;31m \u001b[0mautoml_grid_search\u001b[0m\u001b[0;34m(\u001b[0m\u001b[0;34m'car_regression.csv'\u001b[0m\u001b[0;34m,\u001b[0m \u001b[0;34m'price'\u001b[0m\u001b[0;34m)\u001b[0m\u001b[0;34m\u001b[0m\u001b[0;34m\u001b[0m\u001b[0m\n\u001b[0m",
      "\u001b[0;32m~/anaconda3/lib/python3.7/site-packages/automl_gs/automl_gs.py\u001b[0m in \u001b[0;36mautoml_grid_search\u001b[0;34m(csv_path, target_field, target_metric, framework, model_name, context, num_trials, split, num_epochs, col_types, gpu, tpu_address)\u001b[0m\n\u001b[1;32m     92\u001b[0m                     header=(best_result is None))\n\u001b[1;32m     93\u001b[0m \u001b[0;34m\u001b[0m\u001b[0m\n\u001b[0;32m---> 94\u001b[0;31m         \u001b[0mtrain_results\u001b[0m \u001b[0;34m=\u001b[0m \u001b[0mresults\u001b[0m\u001b[0;34m.\u001b[0m\u001b[0mtail\u001b[0m\u001b[0;34m(\u001b[0m\u001b[0;36m1\u001b[0m\u001b[0;34m)\u001b[0m\u001b[0;34m.\u001b[0m\u001b[0mto_dict\u001b[0m\u001b[0;34m(\u001b[0m\u001b[0;34m'records'\u001b[0m\u001b[0;34m)\u001b[0m\u001b[0;34m[\u001b[0m\u001b[0;36m0\u001b[0m\u001b[0;34m]\u001b[0m\u001b[0;34m\u001b[0m\u001b[0;34m\u001b[0m\u001b[0m\n\u001b[0m\u001b[1;32m     95\u001b[0m \u001b[0;34m\u001b[0m\u001b[0m\n\u001b[1;32m     96\u001b[0m         \u001b[0;31m# If the target metric improves, save the new hps/files,\u001b[0m\u001b[0;34m\u001b[0m\u001b[0;34m\u001b[0m\u001b[0;34m\u001b[0m\u001b[0m\n",
      "\u001b[0;31mIndexError\u001b[0m: list index out of range"
     ]
    }
   ],
   "source": [
    "from automl_gs import automl_grid_search\n",
    "\n",
    "automl_grid_search('car_regression.csv', 'price')"
   ]
  },
  {
   "cell_type": "markdown",
   "metadata": {
    "colab_type": "text",
    "id": "NSTNAnT9dS6J"
   },
   "source": [
    "Uh oh, what happened? There is an [open issue](https://github.com/minimaxir/automl-gs/issues/14) which suggests running via the command line `automl_gs` tool rather than the Python module to get better error messages for debugging."
   ]
  },
  {
   "cell_type": "code",
   "execution_count": 5,
   "metadata": {
    "ExecuteTime": {
     "end_time": "2019-05-16T21:04:25.997628Z",
     "start_time": "2019-05-16T21:04:16.906222Z"
    },
    "colab": {
     "base_uri": "https://localhost:8080/",
     "height": 1146
    },
    "colab_type": "code",
    "id": "svF0TnE0keaj",
    "outputId": "33dbd241-31a1-4b09-f5c7-adf7bbc7b6f7",
    "scrolled": true
   },
   "outputs": [
    {
     "name": "stdout",
     "output_type": "stream",
     "text": [
      "Solving a regression problem, minimizing mse using tensorflow.\n",
      "\n",
      "Modeling with field specifications:\n",
      "make: numeric\n",
      "body: categorical\n",
      "mileage: numeric\n",
      "engV: numeric\n",
      "engType: categorical\n",
      "registration: categorical\n",
      "year: numeric\n",
      "drive: categorical\n",
      "  0%|                                                | 0/100 [00:00<?, ?trial/s]\n",
      "  0%|                                                 | 0/20 [00:00<?, ?epoch/s]\u001b[ATraceback (most recent call last):\n",
      "  File \"model.py\", line 48, in <module>\n",
      "    model_train(df, encoders, args, model)\n",
      "  File \"/home/superio/CODES/LAMBDASCHOOL/ASSIGNMENTS/DS-Unit-4-Sprint-4-Deep-Learning/module4-agi-and-the-future/automl_train/pipeline.py\", line 395, in model_train\n",
      "    X, y = process_data(df, encoders)\n",
      "  File \"/home/superio/CODES/LAMBDASCHOOL/ASSIGNMENTS/DS-Unit-4-Sprint-4-Deep-Learning/module4-agi-and-the-future/automl_train/pipeline.py\", line 326, in process_data\n",
      "    labels=False, include_lowest=True)\n",
      "  File \"/home/superio/anaconda3/lib/python3.7/site-packages/pandas/core/reshape/tile.py\", line 241, in cut\n",
      "    duplicates=duplicates)\n",
      "  File \"/home/superio/anaconda3/lib/python3.7/site-packages/pandas/core/reshape/tile.py\", line 339, in _bins_to_cuts\n",
      "    \"the 'duplicates' kwarg\".format(bins=bins))\n",
      "ValueError: Bin edges must be unique: array([ 0.1 ,  1.4 ,  1.5 ,  1.6 ,  1.8 ,  2.  ,  2.  ,  2.4 ,  3.  ,\n",
      "        3.5 , 99.99]).\n",
      "You can drop duplicate edges by setting the 'duplicates' kwarg\n",
      "\n",
      "  0%|                                                 | 0/20 [00:00<?, ?epoch/s]\u001b[ATraceback (most recent call last):\n",
      "  File \"/home/superio/anaconda3/bin/automl_gs\", line 10, in <module>\n",
      "    sys.exit(cmd())\n",
      "  File \"/home/superio/anaconda3/lib/python3.7/site-packages/automl_gs/automl_gs.py\", line 175, in cmd\n",
      "    tpu_address=args.tpu_address)\n",
      "  File \"/home/superio/anaconda3/lib/python3.7/site-packages/automl_gs/automl_gs.py\", line 87, in automl_grid_search\n",
      "    \"metadata\", \"results.csv\"))\n",
      "  File \"/home/superio/anaconda3/lib/python3.7/site-packages/pandas/io/parsers.py\", line 702, in parser_f\n",
      "    return _read(filepath_or_buffer, kwds)\n",
      "  File \"/home/superio/anaconda3/lib/python3.7/site-packages/pandas/io/parsers.py\", line 429, in _read\n",
      "    parser = TextFileReader(filepath_or_buffer, **kwds)\n",
      "  File \"/home/superio/anaconda3/lib/python3.7/site-packages/pandas/io/parsers.py\", line 895, in __init__\n",
      "    self._make_engine(self.engine)\n",
      "  File \"/home/superio/anaconda3/lib/python3.7/site-packages/pandas/io/parsers.py\", line 1122, in _make_engine\n",
      "    self._engine = CParserWrapper(self.f, **self.options)\n",
      "  File \"/home/superio/anaconda3/lib/python3.7/site-packages/pandas/io/parsers.py\", line 1853, in __init__\n",
      "    self._reader = parsers.TextReader(src, **kwds)\n",
      "  File \"pandas/_libs/parsers.pyx\", line 387, in pandas._libs.parsers.TextReader.__cinit__\n",
      "  File \"pandas/_libs/parsers.pyx\", line 705, in pandas._libs.parsers.TextReader._setup_parser_source\n",
      "FileNotFoundError: [Errno 2] File b'automl_train/metadata/results.csv' does not exist: b'automl_train/metadata/results.csv'\n",
      "\n",
      "                                                                                \r"
     ]
    }
   ],
   "source": [
    "!automl_gs car_regression.csv price"
   ]
  },
  {
   "cell_type": "markdown",
   "metadata": {
    "colab_type": "text",
    "id": "oRqYSY4yde1L"
   },
   "source": [
    "So, the real issue is in some intermediary step - let's see if we can get rid of engType."
   ]
  },
  {
   "cell_type": "code",
   "execution_count": 7,
   "metadata": {
    "ExecuteTime": {
     "end_time": "2019-05-16T21:09:31.059154Z",
     "start_time": "2019-05-16T21:05:48.006744Z"
    },
    "colab": {
     "base_uri": "https://localhost:8080/",
     "height": 1505
    },
    "colab_type": "code",
    "id": "N0sHkyabk9Pj",
    "outputId": "26a91983-c1b8-4003-cfd4-6978516828fa"
   },
   "outputs": [
    {
     "name": "stdout",
     "output_type": "stream",
     "text": [
      "Solving a regression problem, minimizing mse using tensorflow.\n",
      "\n",
      "Modeling with field specifications:\n",
      "make: numeric\n",
      "body: categorical\n",
      "mileage: numeric\n",
      "engV: numeric\n",
      "engType: ignore\n",
      "registration: categorical\n",
      "year: numeric\n",
      "drive: categorical\n"
     ]
    },
    {
     "data": {
      "application/vnd.jupyter.widget-view+json": {
       "model_id": "b83b641439124ec7aaf3be1734718252",
       "version_major": 2,
       "version_minor": 0
      },
      "text/plain": [
       "HBox(children=(IntProgress(value=0), HTML(value='')))"
      ]
     },
     "metadata": {},
     "output_type": "display_data"
    },
    {
     "data": {
      "application/vnd.jupyter.widget-view+json": {
       "model_id": "547eebfa384b44548bc453e4f454ad42",
       "version_major": 2,
       "version_minor": 0
      },
      "text/plain": [
       "HBox(children=(IntProgress(value=0, max=20), HTML(value='')))"
      ]
     },
     "metadata": {},
     "output_type": "display_data"
    },
    {
     "name": "stdout",
     "output_type": "stream",
     "text": [
      "\n",
      "Metrics:\n",
      "trial_id: 30d68bb4-b477-4ef2-9e5a-2efe08b82999\n",
      "epoch: 20\n",
      "time_completed: 2019-05-16 21:06:24\n",
      "mse: 853863799.4605149\n",
      "mae: 15623.924871776482\n",
      "r_2: -0.399001113218648\n",
      "\n",
      "\n",
      "Metrics:\n",
      "trial_id: f9d5196d-311b-4005-b5e0-3e424b87ba45\n",
      "epoch: 20\n",
      "time_completed: 2019-05-16 21:07:24\n",
      "mse: 847216485.1142389\n",
      "mae: 15441.975838562339\n",
      "r_2: -0.3881099146735987\n"
     ]
    },
    {
     "ename": "FileNotFoundError",
     "evalue": "[Errno 2] File b'automl_train/metadata/results.csv' does not exist: b'automl_train/metadata/results.csv'",
     "output_type": "error",
     "traceback": [
      "\u001b[0;31m---------------------------------------------------------------------------\u001b[0m",
      "\u001b[0;31mFileNotFoundError\u001b[0m                         Traceback (most recent call last)",
      "\u001b[0;32m<ipython-input-7-1a57aaf11428>\u001b[0m in \u001b[0;36m<module>\u001b[0;34m\u001b[0m\n\u001b[1;32m      1\u001b[0m automl_grid_search('car_regression.csv', 'price', col_types={\n\u001b[0;32m----> 2\u001b[0;31m     \u001b[0;34m'engType'\u001b[0m\u001b[0;34m:\u001b[0m \u001b[0;34m'ignore'\u001b[0m\u001b[0;34m\u001b[0m\u001b[0;34m\u001b[0m\u001b[0m\n\u001b[0m\u001b[1;32m      3\u001b[0m })\n",
      "\u001b[0;32m~/anaconda3/lib/python3.7/site-packages/automl_gs/automl_gs.py\u001b[0m in \u001b[0;36mautoml_grid_search\u001b[0;34m(csv_path, target_field, target_metric, framework, model_name, context, num_trials, split, num_epochs, col_types, gpu, tpu_address)\u001b[0m\n\u001b[1;32m     85\u001b[0m         \u001b[0;31m# and append to the metrics CSV.\u001b[0m\u001b[0;34m\u001b[0m\u001b[0;34m\u001b[0m\u001b[0;34m\u001b[0m\u001b[0m\n\u001b[1;32m     86\u001b[0m         results = pd.read_csv(os.path.join(train_folder, \n\u001b[0;32m---> 87\u001b[0;31m                                         \"metadata\", \"results.csv\"))\n\u001b[0m\u001b[1;32m     88\u001b[0m         \u001b[0mresults\u001b[0m \u001b[0;34m=\u001b[0m \u001b[0mresults\u001b[0m\u001b[0;34m.\u001b[0m\u001b[0massign\u001b[0m\u001b[0;34m(\u001b[0m\u001b[0;34m**\u001b[0m\u001b[0mparams\u001b[0m\u001b[0;34m)\u001b[0m\u001b[0;34m\u001b[0m\u001b[0;34m\u001b[0m\u001b[0m\n\u001b[1;32m     89\u001b[0m         \u001b[0mresults\u001b[0m\u001b[0;34m.\u001b[0m\u001b[0minsert\u001b[0m\u001b[0;34m(\u001b[0m\u001b[0;36m0\u001b[0m\u001b[0;34m,\u001b[0m \u001b[0;34m'trial_id'\u001b[0m\u001b[0;34m,\u001b[0m \u001b[0muuid\u001b[0m\u001b[0;34m.\u001b[0m\u001b[0muuid4\u001b[0m\u001b[0;34m(\u001b[0m\u001b[0;34m)\u001b[0m\u001b[0;34m)\u001b[0m\u001b[0;34m\u001b[0m\u001b[0;34m\u001b[0m\u001b[0m\n",
      "\u001b[0;32m~/anaconda3/lib/python3.7/site-packages/pandas/io/parsers.py\u001b[0m in \u001b[0;36mparser_f\u001b[0;34m(filepath_or_buffer, sep, delimiter, header, names, index_col, usecols, squeeze, prefix, mangle_dupe_cols, dtype, engine, converters, true_values, false_values, skipinitialspace, skiprows, skipfooter, nrows, na_values, keep_default_na, na_filter, verbose, skip_blank_lines, parse_dates, infer_datetime_format, keep_date_col, date_parser, dayfirst, iterator, chunksize, compression, thousands, decimal, lineterminator, quotechar, quoting, doublequote, escapechar, comment, encoding, dialect, tupleize_cols, error_bad_lines, warn_bad_lines, delim_whitespace, low_memory, memory_map, float_precision)\u001b[0m\n\u001b[1;32m    700\u001b[0m                     skip_blank_lines=skip_blank_lines)\n\u001b[1;32m    701\u001b[0m \u001b[0;34m\u001b[0m\u001b[0m\n\u001b[0;32m--> 702\u001b[0;31m         \u001b[0;32mreturn\u001b[0m \u001b[0m_read\u001b[0m\u001b[0;34m(\u001b[0m\u001b[0mfilepath_or_buffer\u001b[0m\u001b[0;34m,\u001b[0m \u001b[0mkwds\u001b[0m\u001b[0;34m)\u001b[0m\u001b[0;34m\u001b[0m\u001b[0;34m\u001b[0m\u001b[0m\n\u001b[0m\u001b[1;32m    703\u001b[0m \u001b[0;34m\u001b[0m\u001b[0m\n\u001b[1;32m    704\u001b[0m     \u001b[0mparser_f\u001b[0m\u001b[0;34m.\u001b[0m\u001b[0m__name__\u001b[0m \u001b[0;34m=\u001b[0m \u001b[0mname\u001b[0m\u001b[0;34m\u001b[0m\u001b[0;34m\u001b[0m\u001b[0m\n",
      "\u001b[0;32m~/anaconda3/lib/python3.7/site-packages/pandas/io/parsers.py\u001b[0m in \u001b[0;36m_read\u001b[0;34m(filepath_or_buffer, kwds)\u001b[0m\n\u001b[1;32m    427\u001b[0m \u001b[0;34m\u001b[0m\u001b[0m\n\u001b[1;32m    428\u001b[0m     \u001b[0;31m# Create the parser.\u001b[0m\u001b[0;34m\u001b[0m\u001b[0;34m\u001b[0m\u001b[0;34m\u001b[0m\u001b[0m\n\u001b[0;32m--> 429\u001b[0;31m     \u001b[0mparser\u001b[0m \u001b[0;34m=\u001b[0m \u001b[0mTextFileReader\u001b[0m\u001b[0;34m(\u001b[0m\u001b[0mfilepath_or_buffer\u001b[0m\u001b[0;34m,\u001b[0m \u001b[0;34m**\u001b[0m\u001b[0mkwds\u001b[0m\u001b[0;34m)\u001b[0m\u001b[0;34m\u001b[0m\u001b[0;34m\u001b[0m\u001b[0m\n\u001b[0m\u001b[1;32m    430\u001b[0m \u001b[0;34m\u001b[0m\u001b[0m\n\u001b[1;32m    431\u001b[0m     \u001b[0;32mif\u001b[0m \u001b[0mchunksize\u001b[0m \u001b[0;32mor\u001b[0m \u001b[0miterator\u001b[0m\u001b[0;34m:\u001b[0m\u001b[0;34m\u001b[0m\u001b[0;34m\u001b[0m\u001b[0m\n",
      "\u001b[0;32m~/anaconda3/lib/python3.7/site-packages/pandas/io/parsers.py\u001b[0m in \u001b[0;36m__init__\u001b[0;34m(self, f, engine, **kwds)\u001b[0m\n\u001b[1;32m    893\u001b[0m             \u001b[0mself\u001b[0m\u001b[0;34m.\u001b[0m\u001b[0moptions\u001b[0m\u001b[0;34m[\u001b[0m\u001b[0;34m'has_index_names'\u001b[0m\u001b[0;34m]\u001b[0m \u001b[0;34m=\u001b[0m \u001b[0mkwds\u001b[0m\u001b[0;34m[\u001b[0m\u001b[0;34m'has_index_names'\u001b[0m\u001b[0;34m]\u001b[0m\u001b[0;34m\u001b[0m\u001b[0;34m\u001b[0m\u001b[0m\n\u001b[1;32m    894\u001b[0m \u001b[0;34m\u001b[0m\u001b[0m\n\u001b[0;32m--> 895\u001b[0;31m         \u001b[0mself\u001b[0m\u001b[0;34m.\u001b[0m\u001b[0m_make_engine\u001b[0m\u001b[0;34m(\u001b[0m\u001b[0mself\u001b[0m\u001b[0;34m.\u001b[0m\u001b[0mengine\u001b[0m\u001b[0;34m)\u001b[0m\u001b[0;34m\u001b[0m\u001b[0;34m\u001b[0m\u001b[0m\n\u001b[0m\u001b[1;32m    896\u001b[0m \u001b[0;34m\u001b[0m\u001b[0m\n\u001b[1;32m    897\u001b[0m     \u001b[0;32mdef\u001b[0m \u001b[0mclose\u001b[0m\u001b[0;34m(\u001b[0m\u001b[0mself\u001b[0m\u001b[0;34m)\u001b[0m\u001b[0;34m:\u001b[0m\u001b[0;34m\u001b[0m\u001b[0;34m\u001b[0m\u001b[0m\n",
      "\u001b[0;32m~/anaconda3/lib/python3.7/site-packages/pandas/io/parsers.py\u001b[0m in \u001b[0;36m_make_engine\u001b[0;34m(self, engine)\u001b[0m\n\u001b[1;32m   1120\u001b[0m     \u001b[0;32mdef\u001b[0m \u001b[0m_make_engine\u001b[0m\u001b[0;34m(\u001b[0m\u001b[0mself\u001b[0m\u001b[0;34m,\u001b[0m \u001b[0mengine\u001b[0m\u001b[0;34m=\u001b[0m\u001b[0;34m'c'\u001b[0m\u001b[0;34m)\u001b[0m\u001b[0;34m:\u001b[0m\u001b[0;34m\u001b[0m\u001b[0;34m\u001b[0m\u001b[0m\n\u001b[1;32m   1121\u001b[0m         \u001b[0;32mif\u001b[0m \u001b[0mengine\u001b[0m \u001b[0;34m==\u001b[0m \u001b[0;34m'c'\u001b[0m\u001b[0;34m:\u001b[0m\u001b[0;34m\u001b[0m\u001b[0;34m\u001b[0m\u001b[0m\n\u001b[0;32m-> 1122\u001b[0;31m             \u001b[0mself\u001b[0m\u001b[0;34m.\u001b[0m\u001b[0m_engine\u001b[0m \u001b[0;34m=\u001b[0m \u001b[0mCParserWrapper\u001b[0m\u001b[0;34m(\u001b[0m\u001b[0mself\u001b[0m\u001b[0;34m.\u001b[0m\u001b[0mf\u001b[0m\u001b[0;34m,\u001b[0m \u001b[0;34m**\u001b[0m\u001b[0mself\u001b[0m\u001b[0;34m.\u001b[0m\u001b[0moptions\u001b[0m\u001b[0;34m)\u001b[0m\u001b[0;34m\u001b[0m\u001b[0;34m\u001b[0m\u001b[0m\n\u001b[0m\u001b[1;32m   1123\u001b[0m         \u001b[0;32melse\u001b[0m\u001b[0;34m:\u001b[0m\u001b[0;34m\u001b[0m\u001b[0;34m\u001b[0m\u001b[0m\n\u001b[1;32m   1124\u001b[0m             \u001b[0;32mif\u001b[0m \u001b[0mengine\u001b[0m \u001b[0;34m==\u001b[0m \u001b[0;34m'python'\u001b[0m\u001b[0;34m:\u001b[0m\u001b[0;34m\u001b[0m\u001b[0;34m\u001b[0m\u001b[0m\n",
      "\u001b[0;32m~/anaconda3/lib/python3.7/site-packages/pandas/io/parsers.py\u001b[0m in \u001b[0;36m__init__\u001b[0;34m(self, src, **kwds)\u001b[0m\n\u001b[1;32m   1851\u001b[0m         \u001b[0mkwds\u001b[0m\u001b[0;34m[\u001b[0m\u001b[0;34m'usecols'\u001b[0m\u001b[0;34m]\u001b[0m \u001b[0;34m=\u001b[0m \u001b[0mself\u001b[0m\u001b[0;34m.\u001b[0m\u001b[0musecols\u001b[0m\u001b[0;34m\u001b[0m\u001b[0;34m\u001b[0m\u001b[0m\n\u001b[1;32m   1852\u001b[0m \u001b[0;34m\u001b[0m\u001b[0m\n\u001b[0;32m-> 1853\u001b[0;31m         \u001b[0mself\u001b[0m\u001b[0;34m.\u001b[0m\u001b[0m_reader\u001b[0m \u001b[0;34m=\u001b[0m \u001b[0mparsers\u001b[0m\u001b[0;34m.\u001b[0m\u001b[0mTextReader\u001b[0m\u001b[0;34m(\u001b[0m\u001b[0msrc\u001b[0m\u001b[0;34m,\u001b[0m \u001b[0;34m**\u001b[0m\u001b[0mkwds\u001b[0m\u001b[0;34m)\u001b[0m\u001b[0;34m\u001b[0m\u001b[0;34m\u001b[0m\u001b[0m\n\u001b[0m\u001b[1;32m   1854\u001b[0m         \u001b[0mself\u001b[0m\u001b[0;34m.\u001b[0m\u001b[0munnamed_cols\u001b[0m \u001b[0;34m=\u001b[0m \u001b[0mself\u001b[0m\u001b[0;34m.\u001b[0m\u001b[0m_reader\u001b[0m\u001b[0;34m.\u001b[0m\u001b[0munnamed_cols\u001b[0m\u001b[0;34m\u001b[0m\u001b[0;34m\u001b[0m\u001b[0m\n\u001b[1;32m   1855\u001b[0m \u001b[0;34m\u001b[0m\u001b[0m\n",
      "\u001b[0;32mpandas/_libs/parsers.pyx\u001b[0m in \u001b[0;36mpandas._libs.parsers.TextReader.__cinit__\u001b[0;34m()\u001b[0m\n",
      "\u001b[0;32mpandas/_libs/parsers.pyx\u001b[0m in \u001b[0;36mpandas._libs.parsers.TextReader._setup_parser_source\u001b[0;34m()\u001b[0m\n",
      "\u001b[0;31mFileNotFoundError\u001b[0m: [Errno 2] File b'automl_train/metadata/results.csv' does not exist: b'automl_train/metadata/results.csv'"
     ]
    }
   ],
   "source": [
    "automl_grid_search('car_regression.csv', 'price', col_types={\n",
    "    'engType': 'ignore'\n",
    "})"
   ]
  },
  {
   "cell_type": "markdown",
   "metadata": {
    "colab_type": "text",
    "id": "W9y2xI5ShN4n"
   },
   "source": [
    "It gets further, but is perhaps a bit too bleeding edge for us. Let's try [TPOT](https://github.com/EpistasisLab/tpot)."
   ]
  },
  {
   "cell_type": "code",
   "execution_count": 0,
   "metadata": {
    "colab": {
     "base_uri": "https://localhost:8080/",
     "height": 610
    },
    "colab_type": "code",
    "id": "xltSPWmMhQod",
    "outputId": "78745223-eb42-41bb-8275-da36697e656a"
   },
   "outputs": [
    {
     "name": "stdout",
     "output_type": "stream",
     "text": [
      "Collecting tpot\n",
      "\u001b[?25l  Downloading https://files.pythonhosted.org/packages/95/35/a6cc358b6bb2749d6dffa1ae2427143211f3092904bbb15d1ad317ebe051/TPOT-0.9.6.tar.gz (892kB)\n",
      "\u001b[K    100% |████████████████████████████████| 901kB 18.6MB/s \n",
      "\u001b[?25hRequirement already satisfied: numpy>=1.12.1 in /usr/local/lib/python3.6/dist-packages (from tpot) (1.14.6)\n",
      "Requirement already satisfied: scipy>=0.19.0 in /usr/local/lib/python3.6/dist-packages (from tpot) (1.1.0)\n",
      "Requirement already satisfied: scikit-learn>=0.18.1 in /usr/local/lib/python3.6/dist-packages (from tpot) (0.20.3)\n",
      "Collecting deap>=1.0 (from tpot)\n",
      "\u001b[?25l  Downloading https://files.pythonhosted.org/packages/af/29/e7f2ecbe02997b16a768baed076f5fc4781d7057cd5d9adf7c94027845ba/deap-1.2.2.tar.gz (936kB)\n",
      "\u001b[K    100% |████████████████████████████████| 942kB 19.0MB/s \n",
      "\u001b[?25hCollecting update_checker>=0.16 (from tpot)\n",
      "  Downloading https://files.pythonhosted.org/packages/17/c9/ab11855af164d03be0ff4fddd4c46a5bd44799a9ecc1770e01a669c21168/update_checker-0.16-py2.py3-none-any.whl\n",
      "Requirement already satisfied: tqdm>=4.26.0 in /usr/local/lib/python3.6/dist-packages (from tpot) (4.28.1)\n",
      "Collecting stopit>=1.1.1 (from tpot)\n",
      "  Downloading https://files.pythonhosted.org/packages/35/58/e8bb0b0fb05baf07bbac1450c447d753da65f9701f551dca79823ce15d50/stopit-1.1.2.tar.gz\n",
      "Requirement already satisfied: pandas>=0.20.2 in /usr/local/lib/python3.6/dist-packages (from tpot) (0.22.0)\n",
      "Requirement already satisfied: requests>=2.3.0 in /usr/local/lib/python3.6/dist-packages (from update_checker>=0.16->tpot) (2.18.4)\n",
      "Requirement already satisfied: pytz>=2011k in /usr/local/lib/python3.6/dist-packages (from pandas>=0.20.2->tpot) (2018.9)\n",
      "Requirement already satisfied: python-dateutil>=2 in /usr/local/lib/python3.6/dist-packages (from pandas>=0.20.2->tpot) (2.5.3)\n",
      "Requirement already satisfied: urllib3<1.23,>=1.21.1 in /usr/local/lib/python3.6/dist-packages (from requests>=2.3.0->update_checker>=0.16->tpot) (1.22)\n",
      "Requirement already satisfied: chardet<3.1.0,>=3.0.2 in /usr/local/lib/python3.6/dist-packages (from requests>=2.3.0->update_checker>=0.16->tpot) (3.0.4)\n",
      "Requirement already satisfied: certifi>=2017.4.17 in /usr/local/lib/python3.6/dist-packages (from requests>=2.3.0->update_checker>=0.16->tpot) (2019.3.9)\n",
      "Requirement already satisfied: idna<2.7,>=2.5 in /usr/local/lib/python3.6/dist-packages (from requests>=2.3.0->update_checker>=0.16->tpot) (2.6)\n",
      "Requirement already satisfied: six>=1.5 in /usr/local/lib/python3.6/dist-packages (from python-dateutil>=2->pandas>=0.20.2->tpot) (1.11.0)\n",
      "Building wheels for collected packages: tpot, deap, stopit\n",
      "  Building wheel for tpot (setup.py) ... \u001b[?25ldone\n",
      "\u001b[?25h  Stored in directory: /root/.cache/pip/wheels/86/5c/dd/c7673fbaccb901ec1a4eb79017fa5b65766805d2a98f954b9a\n",
      "  Building wheel for deap (setup.py) ... \u001b[?25ldone\n",
      "\u001b[?25h  Stored in directory: /root/.cache/pip/wheels/22/ea/bf/dc7c8a2262025a0ab5da9ef02282c198be88902791ca0c6658\n",
      "  Building wheel for stopit (setup.py) ... \u001b[?25ldone\n",
      "\u001b[?25h  Stored in directory: /root/.cache/pip/wheels/3c/85/2b/2580190404636bfc63e8de3dff629c03bb795021e1983a6cc7\n",
      "Successfully built tpot deap stopit\n",
      "Installing collected packages: deap, update-checker, stopit, tpot\n",
      "Successfully installed deap-1.2.2 stopit-1.1.2 tpot-0.9.6 update-checker-0.16\n"
     ]
    }
   ],
   "source": [
    "!pip install tpot"
   ]
  },
  {
   "cell_type": "code",
   "execution_count": 0,
   "metadata": {
    "colab": {
     "base_uri": "https://localhost:8080/",
     "height": 206
    },
    "colab_type": "code",
    "id": "GhI7BzgmhWMy",
    "outputId": "ee393443-4fa2-472a-91c9-1cc9adb296fd"
   },
   "outputs": [
    {
     "data": {
      "text/html": [
       "<div>\n",
       "<style scoped>\n",
       "    .dataframe tbody tr th:only-of-type {\n",
       "        vertical-align: middle;\n",
       "    }\n",
       "\n",
       "    .dataframe tbody tr th {\n",
       "        vertical-align: top;\n",
       "    }\n",
       "\n",
       "    .dataframe thead th {\n",
       "        text-align: right;\n",
       "    }\n",
       "</style>\n",
       "<table border=\"1\" class=\"dataframe\">\n",
       "  <thead>\n",
       "    <tr style=\"text-align: right;\">\n",
       "      <th></th>\n",
       "      <th>make</th>\n",
       "      <th>price</th>\n",
       "      <th>body</th>\n",
       "      <th>mileage</th>\n",
       "      <th>engV</th>\n",
       "      <th>engType</th>\n",
       "      <th>registration</th>\n",
       "      <th>year</th>\n",
       "      <th>drive</th>\n",
       "    </tr>\n",
       "  </thead>\n",
       "  <tbody>\n",
       "    <tr>\n",
       "      <th>0</th>\n",
       "      <td>23</td>\n",
       "      <td>15500.0</td>\n",
       "      <td>0</td>\n",
       "      <td>68</td>\n",
       "      <td>2.5</td>\n",
       "      <td>1</td>\n",
       "      <td>1</td>\n",
       "      <td>2010</td>\n",
       "      <td>1</td>\n",
       "    </tr>\n",
       "    <tr>\n",
       "      <th>1</th>\n",
       "      <td>50</td>\n",
       "      <td>20500.0</td>\n",
       "      <td>3</td>\n",
       "      <td>173</td>\n",
       "      <td>1.8</td>\n",
       "      <td>1</td>\n",
       "      <td>1</td>\n",
       "      <td>2011</td>\n",
       "      <td>2</td>\n",
       "    </tr>\n",
       "    <tr>\n",
       "      <th>2</th>\n",
       "      <td>50</td>\n",
       "      <td>35000.0</td>\n",
       "      <td>2</td>\n",
       "      <td>135</td>\n",
       "      <td>5.5</td>\n",
       "      <td>3</td>\n",
       "      <td>1</td>\n",
       "      <td>2008</td>\n",
       "      <td>2</td>\n",
       "    </tr>\n",
       "    <tr>\n",
       "      <th>3</th>\n",
       "      <td>50</td>\n",
       "      <td>17800.0</td>\n",
       "      <td>5</td>\n",
       "      <td>162</td>\n",
       "      <td>1.8</td>\n",
       "      <td>0</td>\n",
       "      <td>1</td>\n",
       "      <td>2012</td>\n",
       "      <td>0</td>\n",
       "    </tr>\n",
       "    <tr>\n",
       "      <th>4</th>\n",
       "      <td>55</td>\n",
       "      <td>16600.0</td>\n",
       "      <td>0</td>\n",
       "      <td>83</td>\n",
       "      <td>2.0</td>\n",
       "      <td>3</td>\n",
       "      <td>1</td>\n",
       "      <td>2013</td>\n",
       "      <td>1</td>\n",
       "    </tr>\n",
       "  </tbody>\n",
       "</table>\n",
       "</div>"
      ],
      "text/plain": [
       "   make    price  body  mileage  engV  engType  registration  year  drive\n",
       "0    23  15500.0     0       68   2.5        1             1  2010      1\n",
       "1    50  20500.0     3      173   1.8        1             1  2011      2\n",
       "2    50  35000.0     2      135   5.5        3             1  2008      2\n",
       "3    50  17800.0     5      162   1.8        0             1  2012      0\n",
       "4    55  16600.0     0       83   2.0        3             1  2013      1"
      ]
     },
     "execution_count": 25,
     "metadata": {
      "tags": []
     },
     "output_type": "execute_result"
    }
   ],
   "source": [
    "import pandas as pd\n",
    "from tpot import TPOTRegressor\n",
    "\n",
    "df = pd.read_csv('car_regression.csv')\n",
    "df.head()"
   ]
  },
  {
   "cell_type": "code",
   "execution_count": 0,
   "metadata": {
    "colab": {
     "base_uri": "https://localhost:8080/",
     "height": 300
    },
    "colab_type": "code",
    "id": "XED4cuyimEsP",
    "outputId": "194fc9de-ba89-4006-fc78-0f1953187ce0"
   },
   "outputs": [
    {
     "data": {
      "text/html": [
       "<div>\n",
       "<style scoped>\n",
       "    .dataframe tbody tr th:only-of-type {\n",
       "        vertical-align: middle;\n",
       "    }\n",
       "\n",
       "    .dataframe tbody tr th {\n",
       "        vertical-align: top;\n",
       "    }\n",
       "\n",
       "    .dataframe thead th {\n",
       "        text-align: right;\n",
       "    }\n",
       "</style>\n",
       "<table border=\"1\" class=\"dataframe\">\n",
       "  <thead>\n",
       "    <tr style=\"text-align: right;\">\n",
       "      <th></th>\n",
       "      <th>make</th>\n",
       "      <th>price</th>\n",
       "      <th>body</th>\n",
       "      <th>mileage</th>\n",
       "      <th>engV</th>\n",
       "      <th>engType</th>\n",
       "      <th>registration</th>\n",
       "      <th>year</th>\n",
       "      <th>drive</th>\n",
       "    </tr>\n",
       "  </thead>\n",
       "  <tbody>\n",
       "    <tr>\n",
       "      <th>count</th>\n",
       "      <td>8495.000000</td>\n",
       "      <td>8495.000000</td>\n",
       "      <td>8495.000000</td>\n",
       "      <td>8495.000000</td>\n",
       "      <td>8495.000000</td>\n",
       "      <td>8495.000000</td>\n",
       "      <td>8495.000000</td>\n",
       "      <td>8495.000000</td>\n",
       "      <td>8495.000000</td>\n",
       "    </tr>\n",
       "    <tr>\n",
       "      <th>mean</th>\n",
       "      <td>46.535491</td>\n",
       "      <td>16185.453305</td>\n",
       "      <td>2.302295</td>\n",
       "      <td>141.744202</td>\n",
       "      <td>2.568337</td>\n",
       "      <td>1.650618</td>\n",
       "      <td>0.941613</td>\n",
       "      <td>2006.500883</td>\n",
       "      <td>0.575868</td>\n",
       "    </tr>\n",
       "    <tr>\n",
       "      <th>std</th>\n",
       "      <td>24.526251</td>\n",
       "      <td>24449.641512</td>\n",
       "      <td>1.610307</td>\n",
       "      <td>97.464062</td>\n",
       "      <td>5.387238</td>\n",
       "      <td>1.341282</td>\n",
       "      <td>0.234488</td>\n",
       "      <td>6.925907</td>\n",
       "      <td>0.741235</td>\n",
       "    </tr>\n",
       "    <tr>\n",
       "      <th>min</th>\n",
       "      <td>0.000000</td>\n",
       "      <td>259.350000</td>\n",
       "      <td>0.000000</td>\n",
       "      <td>0.000000</td>\n",
       "      <td>0.100000</td>\n",
       "      <td>0.000000</td>\n",
       "      <td>0.000000</td>\n",
       "      <td>1959.000000</td>\n",
       "      <td>0.000000</td>\n",
       "    </tr>\n",
       "    <tr>\n",
       "      <th>25%</th>\n",
       "      <td>23.000000</td>\n",
       "      <td>5490.000000</td>\n",
       "      <td>1.000000</td>\n",
       "      <td>74.000000</td>\n",
       "      <td>1.600000</td>\n",
       "      <td>0.000000</td>\n",
       "      <td>1.000000</td>\n",
       "      <td>2004.000000</td>\n",
       "      <td>0.000000</td>\n",
       "    </tr>\n",
       "    <tr>\n",
       "      <th>50%</th>\n",
       "      <td>50.000000</td>\n",
       "      <td>9500.000000</td>\n",
       "      <td>3.000000</td>\n",
       "      <td>130.000000</td>\n",
       "      <td>2.000000</td>\n",
       "      <td>1.000000</td>\n",
       "      <td>1.000000</td>\n",
       "      <td>2008.000000</td>\n",
       "      <td>0.000000</td>\n",
       "    </tr>\n",
       "    <tr>\n",
       "      <th>75%</th>\n",
       "      <td>68.000000</td>\n",
       "      <td>17145.600000</td>\n",
       "      <td>3.000000</td>\n",
       "      <td>197.000000</td>\n",
       "      <td>2.500000</td>\n",
       "      <td>3.000000</td>\n",
       "      <td>1.000000</td>\n",
       "      <td>2011.000000</td>\n",
       "      <td>1.000000</td>\n",
       "    </tr>\n",
       "    <tr>\n",
       "      <th>max</th>\n",
       "      <td>82.000000</td>\n",
       "      <td>547800.000000</td>\n",
       "      <td>5.000000</td>\n",
       "      <td>999.000000</td>\n",
       "      <td>99.990000</td>\n",
       "      <td>3.000000</td>\n",
       "      <td>1.000000</td>\n",
       "      <td>2016.000000</td>\n",
       "      <td>2.000000</td>\n",
       "    </tr>\n",
       "  </tbody>\n",
       "</table>\n",
       "</div>"
      ],
      "text/plain": [
       "              make          price         body      mileage         engV  \\\n",
       "count  8495.000000    8495.000000  8495.000000  8495.000000  8495.000000   \n",
       "mean     46.535491   16185.453305     2.302295   141.744202     2.568337   \n",
       "std      24.526251   24449.641512     1.610307    97.464062     5.387238   \n",
       "min       0.000000     259.350000     0.000000     0.000000     0.100000   \n",
       "25%      23.000000    5490.000000     1.000000    74.000000     1.600000   \n",
       "50%      50.000000    9500.000000     3.000000   130.000000     2.000000   \n",
       "75%      68.000000   17145.600000     3.000000   197.000000     2.500000   \n",
       "max      82.000000  547800.000000     5.000000   999.000000    99.990000   \n",
       "\n",
       "           engType  registration         year        drive  \n",
       "count  8495.000000   8495.000000  8495.000000  8495.000000  \n",
       "mean      1.650618      0.941613  2006.500883     0.575868  \n",
       "std       1.341282      0.234488     6.925907     0.741235  \n",
       "min       0.000000      0.000000  1959.000000     0.000000  \n",
       "25%       0.000000      1.000000  2004.000000     0.000000  \n",
       "50%       1.000000      1.000000  2008.000000     0.000000  \n",
       "75%       3.000000      1.000000  2011.000000     1.000000  \n",
       "max       3.000000      1.000000  2016.000000     2.000000  "
      ]
     },
     "execution_count": 26,
     "metadata": {
      "tags": []
     },
     "output_type": "execute_result"
    }
   ],
   "source": [
    "df.describe()"
   ]
  },
  {
   "cell_type": "code",
   "execution_count": 0,
   "metadata": {
    "colab": {},
    "colab_type": "code",
    "id": "SRdeEEbomGQ6"
   },
   "outputs": [],
   "source": [
    "from sklearn.model_selection import train_test_split\n",
    "\n",
    "X = df.drop('price', axis=1).values\n",
    "X_train, X_test, y_train, y_test = train_test_split(\n",
    "    X, df['price'].values, train_size=0.75, test_size=0.25)"
   ]
  },
  {
   "cell_type": "code",
   "execution_count": 0,
   "metadata": {
    "colab": {
     "base_uri": "https://localhost:8080/",
     "height": 211
    },
    "colab_type": "code",
    "id": "p5dAYY5VmuEc",
    "outputId": "41208981-b211-489e-ef52-310cfbb66af5"
   },
   "outputs": [
    {
     "data": {
      "application/vnd.jupyter.widget-view+json": {
       "model_id": "1d8127ac6c0945a695755da9b9939d62",
       "version_major": 2,
       "version_minor": 0
      },
      "text/plain": [
       "HBox(children=(IntProgress(value=0, description='Optimization Progress', max=120, style=ProgressStyle(descript…"
      ]
     },
     "metadata": {
      "tags": []
     },
     "output_type": "display_data"
    },
    {
     "name": "stdout",
     "output_type": "stream",
     "text": [
      "Generation 1 - Current best internal CV score: -92636917.8904812\n",
      "Generation 2 - Current best internal CV score: -92636917.8904812\n",
      "Generation 3 - Current best internal CV score: -87405518.88093515\n",
      "Generation 4 - Current best internal CV score: -82448619.60956766\n",
      "Generation 5 - Current best internal CV score: -82448619.60956766\n",
      "\n",
      "Best pipeline: GradientBoostingRegressor(RobustScaler(input_matrix), alpha=0.9, learning_rate=0.1, loss=ls, max_depth=7, max_features=0.45, min_samples_leaf=2, min_samples_split=17, n_estimators=100, subsample=0.7000000000000001)\n",
      "-95212641.6186412\n",
      "CPU times: user 12min 15s, sys: 18.5 s, total: 12min 34s\n",
      "Wall time: 12min 13s\n"
     ]
    }
   ],
   "source": [
    "%%time\n",
    "\n",
    "tpot = TPOTRegressor(generations=5, population_size=20, verbosity=2)\n",
    "tpot.fit(X_train, y_train)\n",
    "print(tpot.score(X_test, y_test))"
   ]
  },
  {
   "cell_type": "code",
   "execution_count": 0,
   "metadata": {
    "colab": {
     "base_uri": "https://localhost:8080/",
     "height": 52
    },
    "colab_type": "code",
    "id": "ma_BH3rpqLFA",
    "outputId": "63602cc4-48a2-461a-d922-4ca2ac354f67"
   },
   "outputs": [
    {
     "data": {
      "text/plain": [
       "array([ 6941.76312027,  6490.98506205,  5716.99816711, ...,\n",
       "        9482.15768688,  8170.80266469, 22037.23983594])"
      ]
     },
     "execution_count": 34,
     "metadata": {
      "tags": []
     },
     "output_type": "execute_result"
    }
   ],
   "source": [
    "tpot.predict(X_test)"
   ]
  },
  {
   "cell_type": "code",
   "execution_count": 0,
   "metadata": {
    "colab": {
     "base_uri": "https://localhost:8080/",
     "height": 34
    },
    "colab_type": "code",
    "id": "nTSYqr_dqdNb",
    "outputId": "e04e2b8d-f6f2-4c1d-a452-63b36fb7a578"
   },
   "outputs": [
    {
     "data": {
      "text/plain": [
       "array([ 7000.,  6100.,  6500., ..., 13200.,  7800., 22700.])"
      ]
     },
     "execution_count": 35,
     "metadata": {
      "tags": []
     },
     "output_type": "execute_result"
    }
   ],
   "source": [
    "y_test"
   ]
  },
  {
   "cell_type": "markdown",
   "metadata": {
    "colab_type": "text",
    "id": "aVijM-bCd6Xh"
   },
   "source": [
    "It works - but it looks like we're not quite out of a job yet."
   ]
  },
  {
   "cell_type": "markdown",
   "metadata": {
    "colab_type": "text",
    "id": "hYXU2HBrswcX"
   },
   "source": [
    "## So, is AutoML an \"AGI\"?"
   ]
  },
  {
   "cell_type": "markdown",
   "metadata": {
    "colab_type": "text",
    "id": "ws30-q7PtEWE"
   },
   "source": [
    "**No** - it's a search (grid or possibly using genetic/tree pruning/etc. heuristics) in parameter space, with some clever type inference heuristics and a slick interface.\n",
    "\n",
    "But, it *is* artificial, it *does* give intelligent results, and (like most technology) it *multiplies* productivity. It's not going to \"take our jobs\" - but it does mean that, in some situations, one data scientist will be able to do what formerly took several to achieve."
   ]
  },
  {
   "cell_type": "markdown",
   "metadata": {
    "colab_type": "text",
    "id": "glOqJQkA0bxG"
   },
   "source": [
    "## Is Artificial General Intelligence dangerous?"
   ]
  },
  {
   "cell_type": "markdown",
   "metadata": {
    "colab_type": "text",
    "id": "BZrQq9D3ik6h"
   },
   "source": [
    "![I'm working to bring about a superintelligent AI that will eternally torment everyone who failed to make fun of the Roko's Basilisk people.](https://imgs.xkcd.com/comics/ai_box_experiment.png)\n",
    "\n",
    "There's been much philosophizing, thought experimenting, and even some genuine advocacy and policy considerations about the impact of a \"true\" AGI on human society. Most of these analyses essentially consider the AGI as an unfathomable deity, thinking and moving in ways well beyond human comprehension.\n",
    "\n",
    "Consider the [paperclip maximizer](https://en.wikipedia.org/wiki/Instrumental_convergence#Paperclip_maximizer):\n",
    "\n",
    "> Suppose we have an AI whose only goal is to make as many paper clips as possible. The AI will realize quickly that it would be much better if there were no humans because humans might decide to switch it off. Because if humans do so, there would be fewer paper clips. Also, human bodies contain a lot of atoms that could be made into paper clips. The future that the AI would be trying to gear towards would be one in which there were a lot of paper clips but no humans. — Nick Bostrom\n",
    "\n",
    "This is an example of *instrumental convergence* - the idea that, if an AGI were to pursue an unbounded goal (a natural instruction like \"Maximize the health of all humans\") it may push it in extremely unexpected ways (put all humans in vats of goo, to both preserve them and prevent them from disabling it, since its existence is also of value to help humans).\n",
    "\n",
    "Is this a *realistic* concern? Well, maybe eventually - but pretty obviously not an immediate one. There are many more prominent challenges involving tech and society - privacy, economic growth, equality, education - and even *if* AGI existed it's not clear how they would have the means to enact such fantastic plans. Killer robot armies make for good TV, but at some step there's likely a human with an off switch."
   ]
  },
  {
   "cell_type": "markdown",
   "metadata": {
    "colab_type": "text",
    "id": "ayWGQhHu1yRu"
   },
   "source": [
    "## Where is AI going, and where does it leave us?"
   ]
  },
  {
   "cell_type": "markdown",
   "metadata": {
    "colab_type": "text",
    "id": "zrBqwYoziUSm"
   },
   "source": [
    "![Lambda calculus? More like SHAMda calculus, amirite?](https://imgs.xkcd.com/comics/ai_research.png)\n",
    "\n",
    "On the one hand, we live in a remarkable time. The explosion of technology from WWII to present has brought about countless innovations, greatly increased median life expectancy and GDP, and shows no sign of slowing down.\n",
    "\n",
    "On the other hand, the more things change the more they stay the same. Humans are still Homo sapiens, with the same brains we've had for many millenia. [Dunbar's number](https://en.wikipedia.org/wiki/Dunbar's_number) stymies our attempts to be globally considerate and aware, and at the end of the day it seems like the vast majority of our behavior is as it ever has been - just with shinier toys.\n",
    "\n",
    "So, what will happen? Will technology usher in a utopia, where automation finally relieves us all of burdensome tasks and we are free to explore science, art, and leisure? Or are we doomed to a dystopia, where increased production is also increasingly centralized and the vast majority of humanity becomes a permanent underclass in a postmodern cyberpunk world?\n",
    "\n",
    "Probably neither - both are extreme points along a continuum of possibility. But wherever we do end up, it is all but certain that AI (that is, technology generating insights and signal) will be a key part of it."
   ]
  },
  {
   "cell_type": "markdown",
   "metadata": {
    "colab_type": "text",
    "id": "ZpbzOQKU7Yv2"
   },
   "source": [
    "## And what about A*G*I?"
   ]
  },
  {
   "cell_type": "markdown",
   "metadata": {
    "colab_type": "text",
    "id": "kB8YZxHc7gGm"
   },
   "source": [
    "> \"I think, therefore I am.\" -- René Descartes\n",
    "\n",
    "> \"I am a strange loop.\" -- Douglas Hofstadter\n",
    "\n",
    "Artificial General Intelligence is, as discussed, a moving target. Perhaps what we're looking for isn't intelligence, but consciousness - and specifically, consciousness *we* recognize and empathize with. Much like all parents, us humans want to foster something new in our image, and see it succeed in a way we appreciate.\n",
    "\n",
    "It's not clear if technology will ever *really* get there. The structure and approach to artificial intelligence is inherently, well, artificial - some things like neural networks are \"inspired\" by biology, but still very different (far fewer connections, but far faster with more data). Perhaps computers really already *are* intelligent, just not in a way we recognize.\n",
    "\n",
    "And if we ever do succeed at making our virtual progeny, we may find it bittersweet - not because they will inevitably destroy us (though they probably will outlast us), but simply because it will then lead us to wonder what is so special about us in the first place. If we can create an AGI from metal and sand, then are we not just mechanisms of a different sort?"
   ]
  },
  {
   "cell_type": "markdown",
   "metadata": {
    "colab_type": "text",
    "id": "0lfZdD_cp1t5"
   },
   "source": [
    "# Assignment\n",
    "\n",
    "Use either [automl-gs](https://github.com/minimaxir/automl-gs) or [TPOT](https://github.com/EpistasisLab/tpot) to solve at least two of your prior assignments, projects, or other past work (any time you fit a classification or regression model). Report the results, and compare/contrast with the results you found when you worked on it using your \"human\" ML approach.\n",
    "\n",
    "Note - these tools promise a lot, but the reality is that you may have to debug a bit and figure out getting your data in a format that it recognizes. Welcome to the cutting edge - at least there's still plenty of work to do!"
   ]
  },
  {
   "cell_type": "code",
   "execution_count": 8,
   "metadata": {
    "ExecuteTime": {
     "end_time": "2019-05-16T21:25:57.049166Z",
     "start_time": "2019-05-16T21:25:39.830493Z"
    },
    "colab": {},
    "colab_type": "code",
    "id": "Ltj1je1fp5rO",
    "scrolled": true
   },
   "outputs": [
    {
     "name": "stdout",
     "output_type": "stream",
     "text": [
      "Collecting tpot\n",
      "\u001b[?25l  Downloading https://files.pythonhosted.org/packages/15/c8/46f5c7231f8e3088052cda78ed36198f9ded9f5a5edfc99290f31aa6b57e/TPOT-0.10.1-py3-none-any.whl (74kB)\n",
      "\u001b[K    100% |████████████████████████████████| 81kB 1.2MB/s ta 0:00:01\n",
      "\u001b[?25hCollecting update-checker>=0.16 (from tpot)\n",
      "  Downloading https://files.pythonhosted.org/packages/17/c9/ab11855af164d03be0ff4fddd4c46a5bd44799a9ecc1770e01a669c21168/update_checker-0.16-py2.py3-none-any.whl\n",
      "Requirement already satisfied: pandas>=0.20.2 in /home/superio/anaconda3/lib/python3.7/site-packages (from tpot) (0.24.2)\n",
      "Collecting stopit>=1.1.1 (from tpot)\n",
      "  Downloading https://files.pythonhosted.org/packages/35/58/e8bb0b0fb05baf07bbac1450c447d753da65f9701f551dca79823ce15d50/stopit-1.1.2.tar.gz\n",
      "Requirement already satisfied: numpy>=1.12.1 in /home/superio/anaconda3/lib/python3.7/site-packages (from tpot) (1.16.2)\n",
      "Requirement already satisfied: scikit-learn>=0.18.1 in /home/superio/anaconda3/lib/python3.7/site-packages (from tpot) (0.20.3)\n",
      "Requirement already satisfied: scipy>=0.19.0 in /home/superio/anaconda3/lib/python3.7/site-packages (from tpot) (1.2.1)\n",
      "Collecting deap>=1.0 (from tpot)\n",
      "\u001b[?25l  Downloading https://files.pythonhosted.org/packages/af/29/e7f2ecbe02997b16a768baed076f5fc4781d7057cd5d9adf7c94027845ba/deap-1.2.2.tar.gz (936kB)\n",
      "\u001b[K    100% |████████████████████████████████| 942kB 1.5MB/s ta 0:00:01\n",
      "\u001b[?25hRequirement already satisfied: tqdm>=4.26.0 in /home/superio/anaconda3/lib/python3.7/site-packages (from tpot) (4.31.1)\n",
      "Requirement already satisfied: requests>=2.3.0 in /home/superio/anaconda3/lib/python3.7/site-packages (from update-checker>=0.16->tpot) (2.21.0)\n",
      "Requirement already satisfied: pytz>=2011k in /home/superio/anaconda3/lib/python3.7/site-packages (from pandas>=0.20.2->tpot) (2018.9)\n",
      "Requirement already satisfied: python-dateutil>=2.5.0 in /home/superio/anaconda3/lib/python3.7/site-packages (from pandas>=0.20.2->tpot) (2.8.0)\n",
      "Requirement already satisfied: certifi>=2017.4.17 in /home/superio/anaconda3/lib/python3.7/site-packages (from requests>=2.3.0->update-checker>=0.16->tpot) (2019.3.9)\n",
      "Requirement already satisfied: urllib3<1.25,>=1.21.1 in /home/superio/anaconda3/lib/python3.7/site-packages (from requests>=2.3.0->update-checker>=0.16->tpot) (1.24.1)\n",
      "Requirement already satisfied: chardet<3.1.0,>=3.0.2 in /home/superio/anaconda3/lib/python3.7/site-packages (from requests>=2.3.0->update-checker>=0.16->tpot) (3.0.4)\n",
      "Requirement already satisfied: idna<2.9,>=2.5 in /home/superio/anaconda3/lib/python3.7/site-packages (from requests>=2.3.0->update-checker>=0.16->tpot) (2.8)\n",
      "Requirement already satisfied: six>=1.5 in /home/superio/anaconda3/lib/python3.7/site-packages (from python-dateutil>=2.5.0->pandas>=0.20.2->tpot) (1.12.0)\n",
      "Building wheels for collected packages: stopit, deap\n",
      "  Building wheel for stopit (setup.py) ... \u001b[?25ldone\n",
      "\u001b[?25h  Stored in directory: /home/superio/.cache/pip/wheels/3c/85/2b/2580190404636bfc63e8de3dff629c03bb795021e1983a6cc7\n",
      "  Building wheel for deap (setup.py) ... \u001b[?25ldone\n",
      "\u001b[?25h  Stored in directory: /home/superio/.cache/pip/wheels/22/ea/bf/dc7c8a2262025a0ab5da9ef02282c198be88902791ca0c6658\n",
      "Successfully built stopit deap\n",
      "Installing collected packages: update-checker, stopit, deap, tpot\n",
      "Successfully installed deap-1.2.2 stopit-1.1.2 tpot-0.10.1 update-checker-0.16\n"
     ]
    }
   ],
   "source": [
    "!pip install tpot"
   ]
  },
  {
   "cell_type": "code",
   "execution_count": 10,
   "metadata": {
    "ExecuteTime": {
     "end_time": "2019-05-16T22:11:58.375349Z",
     "start_time": "2019-05-16T22:11:57.983840Z"
    },
    "scrolled": true
   },
   "outputs": [
    {
     "data": {
      "text/html": [
       "<div>\n",
       "<style scoped>\n",
       "    .dataframe tbody tr th:only-of-type {\n",
       "        vertical-align: middle;\n",
       "    }\n",
       "\n",
       "    .dataframe tbody tr th {\n",
       "        vertical-align: top;\n",
       "    }\n",
       "\n",
       "    .dataframe thead th {\n",
       "        text-align: right;\n",
       "    }\n",
       "</style>\n",
       "<table border=\"1\" class=\"dataframe\">\n",
       "  <thead>\n",
       "    <tr style=\"text-align: right;\">\n",
       "      <th></th>\n",
       "      <th>age</th>\n",
       "      <th>sex</th>\n",
       "      <th>cp</th>\n",
       "      <th>trestbps</th>\n",
       "      <th>chol</th>\n",
       "      <th>fbs</th>\n",
       "      <th>restecg</th>\n",
       "      <th>thalach</th>\n",
       "      <th>exang</th>\n",
       "      <th>oldpeak</th>\n",
       "      <th>slope</th>\n",
       "      <th>ca</th>\n",
       "      <th>thal</th>\n",
       "      <th>target</th>\n",
       "    </tr>\n",
       "  </thead>\n",
       "  <tbody>\n",
       "    <tr>\n",
       "      <th>0</th>\n",
       "      <td>63</td>\n",
       "      <td>1</td>\n",
       "      <td>3</td>\n",
       "      <td>145</td>\n",
       "      <td>233</td>\n",
       "      <td>1</td>\n",
       "      <td>0</td>\n",
       "      <td>150</td>\n",
       "      <td>0</td>\n",
       "      <td>2.3</td>\n",
       "      <td>0</td>\n",
       "      <td>0</td>\n",
       "      <td>1</td>\n",
       "      <td>1</td>\n",
       "    </tr>\n",
       "    <tr>\n",
       "      <th>1</th>\n",
       "      <td>37</td>\n",
       "      <td>1</td>\n",
       "      <td>2</td>\n",
       "      <td>130</td>\n",
       "      <td>250</td>\n",
       "      <td>0</td>\n",
       "      <td>1</td>\n",
       "      <td>187</td>\n",
       "      <td>0</td>\n",
       "      <td>3.5</td>\n",
       "      <td>0</td>\n",
       "      <td>0</td>\n",
       "      <td>2</td>\n",
       "      <td>1</td>\n",
       "    </tr>\n",
       "    <tr>\n",
       "      <th>2</th>\n",
       "      <td>41</td>\n",
       "      <td>0</td>\n",
       "      <td>1</td>\n",
       "      <td>130</td>\n",
       "      <td>204</td>\n",
       "      <td>0</td>\n",
       "      <td>0</td>\n",
       "      <td>172</td>\n",
       "      <td>0</td>\n",
       "      <td>1.4</td>\n",
       "      <td>2</td>\n",
       "      <td>0</td>\n",
       "      <td>2</td>\n",
       "      <td>1</td>\n",
       "    </tr>\n",
       "    <tr>\n",
       "      <th>3</th>\n",
       "      <td>56</td>\n",
       "      <td>1</td>\n",
       "      <td>1</td>\n",
       "      <td>120</td>\n",
       "      <td>236</td>\n",
       "      <td>0</td>\n",
       "      <td>1</td>\n",
       "      <td>178</td>\n",
       "      <td>0</td>\n",
       "      <td>0.8</td>\n",
       "      <td>2</td>\n",
       "      <td>0</td>\n",
       "      <td>2</td>\n",
       "      <td>1</td>\n",
       "    </tr>\n",
       "    <tr>\n",
       "      <th>4</th>\n",
       "      <td>57</td>\n",
       "      <td>0</td>\n",
       "      <td>0</td>\n",
       "      <td>120</td>\n",
       "      <td>354</td>\n",
       "      <td>0</td>\n",
       "      <td>1</td>\n",
       "      <td>163</td>\n",
       "      <td>1</td>\n",
       "      <td>0.6</td>\n",
       "      <td>2</td>\n",
       "      <td>0</td>\n",
       "      <td>2</td>\n",
       "      <td>1</td>\n",
       "    </tr>\n",
       "  </tbody>\n",
       "</table>\n",
       "</div>"
      ],
      "text/plain": [
       "   age  sex  cp  trestbps  chol  fbs  restecg  thalach  exang  oldpeak  slope  \\\n",
       "0   63    1   3       145   233    1        0      150      0      2.3      0   \n",
       "1   37    1   2       130   250    0        1      187      0      3.5      0   \n",
       "2   41    0   1       130   204    0        0      172      0      1.4      2   \n",
       "3   56    1   1       120   236    0        1      178      0      0.8      2   \n",
       "4   57    0   0       120   354    0        1      163      1      0.6      2   \n",
       "\n",
       "   ca  thal  target  \n",
       "0   0     1       1  \n",
       "1   0     2       1  \n",
       "2   0     2       1  \n",
       "3   0     2       1  \n",
       "4   0     2       1  "
      ]
     },
     "execution_count": 10,
     "metadata": {},
     "output_type": "execute_result"
    }
   ],
   "source": [
    "import pandas as pd\n",
    "df = pd.read_csv('https://raw.githubusercontent.com/ryanleeallred/datasets/master/heart.csv')\n",
    "df.head()"
   ]
  },
  {
   "cell_type": "code",
   "execution_count": 11,
   "metadata": {
    "ExecuteTime": {
     "end_time": "2019-05-16T22:13:54.334737Z",
     "start_time": "2019-05-16T22:13:54.200193Z"
    }
   },
   "outputs": [
    {
     "data": {
      "text/html": [
       "<div>\n",
       "<style scoped>\n",
       "    .dataframe tbody tr th:only-of-type {\n",
       "        vertical-align: middle;\n",
       "    }\n",
       "\n",
       "    .dataframe tbody tr th {\n",
       "        vertical-align: top;\n",
       "    }\n",
       "\n",
       "    .dataframe thead th {\n",
       "        text-align: right;\n",
       "    }\n",
       "</style>\n",
       "<table border=\"1\" class=\"dataframe\">\n",
       "  <thead>\n",
       "    <tr style=\"text-align: right;\">\n",
       "      <th></th>\n",
       "      <th>age</th>\n",
       "      <th>sex</th>\n",
       "      <th>cp</th>\n",
       "      <th>trestbps</th>\n",
       "      <th>chol</th>\n",
       "      <th>fbs</th>\n",
       "      <th>restecg</th>\n",
       "      <th>thalach</th>\n",
       "      <th>exang</th>\n",
       "      <th>oldpeak</th>\n",
       "      <th>slope</th>\n",
       "      <th>ca</th>\n",
       "      <th>thal</th>\n",
       "      <th>target</th>\n",
       "    </tr>\n",
       "  </thead>\n",
       "  <tbody>\n",
       "    <tr>\n",
       "      <th>count</th>\n",
       "      <td>303.000000</td>\n",
       "      <td>303.000000</td>\n",
       "      <td>303.000000</td>\n",
       "      <td>303.000000</td>\n",
       "      <td>303.000000</td>\n",
       "      <td>303.000000</td>\n",
       "      <td>303.000000</td>\n",
       "      <td>303.000000</td>\n",
       "      <td>303.000000</td>\n",
       "      <td>303.000000</td>\n",
       "      <td>303.000000</td>\n",
       "      <td>303.000000</td>\n",
       "      <td>303.000000</td>\n",
       "      <td>303.000000</td>\n",
       "    </tr>\n",
       "    <tr>\n",
       "      <th>mean</th>\n",
       "      <td>54.366337</td>\n",
       "      <td>0.683168</td>\n",
       "      <td>0.966997</td>\n",
       "      <td>131.623762</td>\n",
       "      <td>246.264026</td>\n",
       "      <td>0.148515</td>\n",
       "      <td>0.528053</td>\n",
       "      <td>149.646865</td>\n",
       "      <td>0.326733</td>\n",
       "      <td>1.039604</td>\n",
       "      <td>1.399340</td>\n",
       "      <td>0.729373</td>\n",
       "      <td>2.313531</td>\n",
       "      <td>0.544554</td>\n",
       "    </tr>\n",
       "    <tr>\n",
       "      <th>std</th>\n",
       "      <td>9.082101</td>\n",
       "      <td>0.466011</td>\n",
       "      <td>1.032052</td>\n",
       "      <td>17.538143</td>\n",
       "      <td>51.830751</td>\n",
       "      <td>0.356198</td>\n",
       "      <td>0.525860</td>\n",
       "      <td>22.905161</td>\n",
       "      <td>0.469794</td>\n",
       "      <td>1.161075</td>\n",
       "      <td>0.616226</td>\n",
       "      <td>1.022606</td>\n",
       "      <td>0.612277</td>\n",
       "      <td>0.498835</td>\n",
       "    </tr>\n",
       "    <tr>\n",
       "      <th>min</th>\n",
       "      <td>29.000000</td>\n",
       "      <td>0.000000</td>\n",
       "      <td>0.000000</td>\n",
       "      <td>94.000000</td>\n",
       "      <td>126.000000</td>\n",
       "      <td>0.000000</td>\n",
       "      <td>0.000000</td>\n",
       "      <td>71.000000</td>\n",
       "      <td>0.000000</td>\n",
       "      <td>0.000000</td>\n",
       "      <td>0.000000</td>\n",
       "      <td>0.000000</td>\n",
       "      <td>0.000000</td>\n",
       "      <td>0.000000</td>\n",
       "    </tr>\n",
       "    <tr>\n",
       "      <th>25%</th>\n",
       "      <td>47.500000</td>\n",
       "      <td>0.000000</td>\n",
       "      <td>0.000000</td>\n",
       "      <td>120.000000</td>\n",
       "      <td>211.000000</td>\n",
       "      <td>0.000000</td>\n",
       "      <td>0.000000</td>\n",
       "      <td>133.500000</td>\n",
       "      <td>0.000000</td>\n",
       "      <td>0.000000</td>\n",
       "      <td>1.000000</td>\n",
       "      <td>0.000000</td>\n",
       "      <td>2.000000</td>\n",
       "      <td>0.000000</td>\n",
       "    </tr>\n",
       "    <tr>\n",
       "      <th>50%</th>\n",
       "      <td>55.000000</td>\n",
       "      <td>1.000000</td>\n",
       "      <td>1.000000</td>\n",
       "      <td>130.000000</td>\n",
       "      <td>240.000000</td>\n",
       "      <td>0.000000</td>\n",
       "      <td>1.000000</td>\n",
       "      <td>153.000000</td>\n",
       "      <td>0.000000</td>\n",
       "      <td>0.800000</td>\n",
       "      <td>1.000000</td>\n",
       "      <td>0.000000</td>\n",
       "      <td>2.000000</td>\n",
       "      <td>1.000000</td>\n",
       "    </tr>\n",
       "    <tr>\n",
       "      <th>75%</th>\n",
       "      <td>61.000000</td>\n",
       "      <td>1.000000</td>\n",
       "      <td>2.000000</td>\n",
       "      <td>140.000000</td>\n",
       "      <td>274.500000</td>\n",
       "      <td>0.000000</td>\n",
       "      <td>1.000000</td>\n",
       "      <td>166.000000</td>\n",
       "      <td>1.000000</td>\n",
       "      <td>1.600000</td>\n",
       "      <td>2.000000</td>\n",
       "      <td>1.000000</td>\n",
       "      <td>3.000000</td>\n",
       "      <td>1.000000</td>\n",
       "    </tr>\n",
       "    <tr>\n",
       "      <th>max</th>\n",
       "      <td>77.000000</td>\n",
       "      <td>1.000000</td>\n",
       "      <td>3.000000</td>\n",
       "      <td>200.000000</td>\n",
       "      <td>564.000000</td>\n",
       "      <td>1.000000</td>\n",
       "      <td>2.000000</td>\n",
       "      <td>202.000000</td>\n",
       "      <td>1.000000</td>\n",
       "      <td>6.200000</td>\n",
       "      <td>2.000000</td>\n",
       "      <td>4.000000</td>\n",
       "      <td>3.000000</td>\n",
       "      <td>1.000000</td>\n",
       "    </tr>\n",
       "  </tbody>\n",
       "</table>\n",
       "</div>"
      ],
      "text/plain": [
       "              age         sex          cp    trestbps        chol         fbs  \\\n",
       "count  303.000000  303.000000  303.000000  303.000000  303.000000  303.000000   \n",
       "mean    54.366337    0.683168    0.966997  131.623762  246.264026    0.148515   \n",
       "std      9.082101    0.466011    1.032052   17.538143   51.830751    0.356198   \n",
       "min     29.000000    0.000000    0.000000   94.000000  126.000000    0.000000   \n",
       "25%     47.500000    0.000000    0.000000  120.000000  211.000000    0.000000   \n",
       "50%     55.000000    1.000000    1.000000  130.000000  240.000000    0.000000   \n",
       "75%     61.000000    1.000000    2.000000  140.000000  274.500000    0.000000   \n",
       "max     77.000000    1.000000    3.000000  200.000000  564.000000    1.000000   \n",
       "\n",
       "          restecg     thalach       exang     oldpeak       slope          ca  \\\n",
       "count  303.000000  303.000000  303.000000  303.000000  303.000000  303.000000   \n",
       "mean     0.528053  149.646865    0.326733    1.039604    1.399340    0.729373   \n",
       "std      0.525860   22.905161    0.469794    1.161075    0.616226    1.022606   \n",
       "min      0.000000   71.000000    0.000000    0.000000    0.000000    0.000000   \n",
       "25%      0.000000  133.500000    0.000000    0.000000    1.000000    0.000000   \n",
       "50%      1.000000  153.000000    0.000000    0.800000    1.000000    0.000000   \n",
       "75%      1.000000  166.000000    1.000000    1.600000    2.000000    1.000000   \n",
       "max      2.000000  202.000000    1.000000    6.200000    2.000000    4.000000   \n",
       "\n",
       "             thal      target  \n",
       "count  303.000000  303.000000  \n",
       "mean     2.313531    0.544554  \n",
       "std      0.612277    0.498835  \n",
       "min      0.000000    0.000000  \n",
       "25%      2.000000    0.000000  \n",
       "50%      2.000000    1.000000  \n",
       "75%      3.000000    1.000000  \n",
       "max      3.000000    1.000000  "
      ]
     },
     "execution_count": 11,
     "metadata": {},
     "output_type": "execute_result"
    }
   ],
   "source": [
    "df.describe()"
   ]
  },
  {
   "cell_type": "code",
   "execution_count": 12,
   "metadata": {
    "ExecuteTime": {
     "end_time": "2019-05-16T22:14:51.431500Z",
     "start_time": "2019-05-16T22:14:51.402038Z"
    }
   },
   "outputs": [],
   "source": [
    "from tpot import TPOTRegressor\n",
    "\n",
    "from sklearn.model_selection import train_test_split\n",
    "\n",
    "X = df.drop('age', axis=1).values\n",
    "X_train, X_test, y_train, y_test = train_test_split(\n",
    "    X, df['age'].values, train_size=0.75, test_size=0.25)"
   ]
  },
  {
   "cell_type": "code",
   "execution_count": 20,
   "metadata": {
    "ExecuteTime": {
     "end_time": "2019-05-17T00:11:59.747081Z",
     "start_time": "2019-05-17T00:09:41.519353Z"
    }
   },
   "outputs": [
    {
     "data": {
      "application/vnd.jupyter.widget-view+json": {
       "model_id": "",
       "version_major": 2,
       "version_minor": 0
      },
      "text/plain": [
       "HBox(children=(IntProgress(value=0, description='Optimization Progress', max=120, style=ProgressStyle(descript…"
      ]
     },
     "metadata": {},
     "output_type": "display_data"
    },
    {
     "name": "stdout",
     "output_type": "stream",
     "text": [
      "Generation 1 - Current best internal CV score: -0.11612352892921156\n",
      "Generation 2 - Current best internal CV score: -0.11612352892921156\n",
      "Generation 3 - Current best internal CV score: -0.10995060192827566\n",
      "Generation 4 - Current best internal CV score: -0.10933036422717166\n",
      "Generation 5 - Current best internal CV score: -0.10295825295019698\n",
      "\n",
      "Best pipeline: RandomForestRegressor(ExtraTreesRegressor(ExtraTreesRegressor(input_matrix, bootstrap=True, max_features=0.8, min_samples_leaf=3, min_samples_split=12, n_estimators=100), bootstrap=True, max_features=0.7500000000000001, min_samples_leaf=8, min_samples_split=2, n_estimators=100), bootstrap=True, max_features=0.2, min_samples_leaf=12, min_samples_split=6, n_estimators=100)\n",
      "-0.13319408706735447\n"
     ]
    }
   ],
   "source": [
    "tpot = TPOTRegressor(generations=5, population_size=20, verbosity=2)\n",
    "tpot.fit(X_train, y_train)\n",
    "print(tpot.score(X_test, y_test))"
   ]
  },
  {
   "cell_type": "code",
   "execution_count": 21,
   "metadata": {
    "ExecuteTime": {
     "end_time": "2019-05-17T00:11:59.892940Z",
     "start_time": "2019-05-17T00:11:59.846928Z"
    }
   },
   "outputs": [
    {
     "data": {
      "text/plain": [
       "array([0.79397184, 0.7976906 , 0.80684336, 0.10662963, 0.08064044,\n",
       "       0.82516076, 0.13239512, 0.47101997, 0.96042695, 0.05319438,\n",
       "       0.19190325, 0.89187965, 0.89460369, 0.81487199, 0.88475242,\n",
       "       0.42827304, 0.05834727, 0.95740388, 0.04005533, 0.08176264,\n",
       "       0.7924404 , 0.9101564 , 0.91968267, 0.94003683, 0.97801711,\n",
       "       0.86893816, 0.08817299, 0.94214855, 0.09059052, 0.88594912,\n",
       "       0.61073889, 0.81479669, 0.9259511 , 0.88784567, 0.02816354,\n",
       "       0.51712671, 0.09056236, 0.30929271, 0.22634056, 0.27379162,\n",
       "       0.327715  , 0.90648816, 0.495142  , 0.28178263, 0.9810095 ,\n",
       "       0.44610267, 0.2505664 , 0.39829477, 0.20630414, 0.95715848,\n",
       "       0.21838248, 0.89240689, 0.80816141, 0.89394575, 0.17872031,\n",
       "       0.93986856, 0.42239188, 0.80752989, 0.65244876, 0.97407415,\n",
       "       0.95736445, 0.97158492, 0.78867559, 0.89037993, 0.91167173,\n",
       "       0.98266813, 0.23051653, 0.11209983, 0.94405666, 0.93134515,\n",
       "       0.12428108, 0.9862083 , 0.79792218, 0.7735875 , 0.16613374,\n",
       "       0.12252534])"
      ]
     },
     "execution_count": 21,
     "metadata": {},
     "output_type": "execute_result"
    }
   ],
   "source": [
    "tpot.predict(X_test)"
   ]
  },
  {
   "cell_type": "code",
   "execution_count": 19,
   "metadata": {
    "ExecuteTime": {
     "end_time": "2019-05-17T00:08:38.251956Z",
     "start_time": "2019-05-17T00:08:38.087607Z"
    }
   },
   "outputs": [
    {
     "data": {
      "text/plain": [
       "array([1, 0, 1, 0, 0, 1, 0, 1, 1, 0, 0, 0, 1, 1, 0, 0, 0, 0, 0, 0, 0, 1,\n",
       "       1, 1, 1, 1, 0, 1, 0, 1, 0, 1, 1, 1, 0, 0, 0, 0, 0, 0, 0, 1, 1, 0,\n",
       "       1, 0, 1, 0, 1, 1, 1, 1, 1, 1, 0, 1, 1, 1, 1, 1, 1, 1, 0, 1, 1, 1,\n",
       "       0, 0, 1, 1, 0, 1, 0, 1, 0, 0])"
      ]
     },
     "execution_count": 19,
     "metadata": {},
     "output_type": "execute_result"
    }
   ],
   "source": [
    "y_test"
   ]
  },
  {
   "cell_type": "code",
   "execution_count": 22,
   "metadata": {
    "ExecuteTime": {
     "end_time": "2019-05-17T00:26:30.851628Z",
     "start_time": "2019-05-17T00:26:30.434064Z"
    }
   },
   "outputs": [
    {
     "data": {
      "text/html": [
       "<div>\n",
       "<style scoped>\n",
       "    .dataframe tbody tr th:only-of-type {\n",
       "        vertical-align: middle;\n",
       "    }\n",
       "\n",
       "    .dataframe tbody tr th {\n",
       "        vertical-align: top;\n",
       "    }\n",
       "\n",
       "    .dataframe thead th {\n",
       "        text-align: right;\n",
       "    }\n",
       "</style>\n",
       "<table border=\"1\" class=\"dataframe\">\n",
       "  <thead>\n",
       "    <tr style=\"text-align: right;\">\n",
       "      <th></th>\n",
       "      <th>Pregnancies</th>\n",
       "      <th>Glucose</th>\n",
       "      <th>BloodPressure</th>\n",
       "      <th>SkinThickness</th>\n",
       "      <th>Insulin</th>\n",
       "      <th>BMI</th>\n",
       "      <th>DiabetesPedigreeFunction</th>\n",
       "      <th>Age</th>\n",
       "      <th>Outcome</th>\n",
       "    </tr>\n",
       "  </thead>\n",
       "  <tbody>\n",
       "    <tr>\n",
       "      <th>count</th>\n",
       "      <td>768.000000</td>\n",
       "      <td>768.000000</td>\n",
       "      <td>768.000000</td>\n",
       "      <td>768.000000</td>\n",
       "      <td>768.000000</td>\n",
       "      <td>768.000000</td>\n",
       "      <td>768.000000</td>\n",
       "      <td>768.000000</td>\n",
       "      <td>768.000000</td>\n",
       "    </tr>\n",
       "    <tr>\n",
       "      <th>mean</th>\n",
       "      <td>3.845052</td>\n",
       "      <td>120.894531</td>\n",
       "      <td>69.105469</td>\n",
       "      <td>20.536458</td>\n",
       "      <td>79.799479</td>\n",
       "      <td>31.992578</td>\n",
       "      <td>0.471876</td>\n",
       "      <td>33.240885</td>\n",
       "      <td>0.348958</td>\n",
       "    </tr>\n",
       "    <tr>\n",
       "      <th>std</th>\n",
       "      <td>3.369578</td>\n",
       "      <td>31.972618</td>\n",
       "      <td>19.355807</td>\n",
       "      <td>15.952218</td>\n",
       "      <td>115.244002</td>\n",
       "      <td>7.884160</td>\n",
       "      <td>0.331329</td>\n",
       "      <td>11.760232</td>\n",
       "      <td>0.476951</td>\n",
       "    </tr>\n",
       "    <tr>\n",
       "      <th>min</th>\n",
       "      <td>0.000000</td>\n",
       "      <td>0.000000</td>\n",
       "      <td>0.000000</td>\n",
       "      <td>0.000000</td>\n",
       "      <td>0.000000</td>\n",
       "      <td>0.000000</td>\n",
       "      <td>0.078000</td>\n",
       "      <td>21.000000</td>\n",
       "      <td>0.000000</td>\n",
       "    </tr>\n",
       "    <tr>\n",
       "      <th>25%</th>\n",
       "      <td>1.000000</td>\n",
       "      <td>99.000000</td>\n",
       "      <td>62.000000</td>\n",
       "      <td>0.000000</td>\n",
       "      <td>0.000000</td>\n",
       "      <td>27.300000</td>\n",
       "      <td>0.243750</td>\n",
       "      <td>24.000000</td>\n",
       "      <td>0.000000</td>\n",
       "    </tr>\n",
       "    <tr>\n",
       "      <th>50%</th>\n",
       "      <td>3.000000</td>\n",
       "      <td>117.000000</td>\n",
       "      <td>72.000000</td>\n",
       "      <td>23.000000</td>\n",
       "      <td>30.500000</td>\n",
       "      <td>32.000000</td>\n",
       "      <td>0.372500</td>\n",
       "      <td>29.000000</td>\n",
       "      <td>0.000000</td>\n",
       "    </tr>\n",
       "    <tr>\n",
       "      <th>75%</th>\n",
       "      <td>6.000000</td>\n",
       "      <td>140.250000</td>\n",
       "      <td>80.000000</td>\n",
       "      <td>32.000000</td>\n",
       "      <td>127.250000</td>\n",
       "      <td>36.600000</td>\n",
       "      <td>0.626250</td>\n",
       "      <td>41.000000</td>\n",
       "      <td>1.000000</td>\n",
       "    </tr>\n",
       "    <tr>\n",
       "      <th>max</th>\n",
       "      <td>17.000000</td>\n",
       "      <td>199.000000</td>\n",
       "      <td>122.000000</td>\n",
       "      <td>99.000000</td>\n",
       "      <td>846.000000</td>\n",
       "      <td>67.100000</td>\n",
       "      <td>2.420000</td>\n",
       "      <td>81.000000</td>\n",
       "      <td>1.000000</td>\n",
       "    </tr>\n",
       "  </tbody>\n",
       "</table>\n",
       "</div>"
      ],
      "text/plain": [
       "       Pregnancies     Glucose  BloodPressure  SkinThickness     Insulin  \\\n",
       "count   768.000000  768.000000     768.000000     768.000000  768.000000   \n",
       "mean      3.845052  120.894531      69.105469      20.536458   79.799479   \n",
       "std       3.369578   31.972618      19.355807      15.952218  115.244002   \n",
       "min       0.000000    0.000000       0.000000       0.000000    0.000000   \n",
       "25%       1.000000   99.000000      62.000000       0.000000    0.000000   \n",
       "50%       3.000000  117.000000      72.000000      23.000000   30.500000   \n",
       "75%       6.000000  140.250000      80.000000      32.000000  127.250000   \n",
       "max      17.000000  199.000000     122.000000      99.000000  846.000000   \n",
       "\n",
       "              BMI  DiabetesPedigreeFunction         Age     Outcome  \n",
       "count  768.000000                768.000000  768.000000  768.000000  \n",
       "mean    31.992578                  0.471876   33.240885    0.348958  \n",
       "std      7.884160                  0.331329   11.760232    0.476951  \n",
       "min      0.000000                  0.078000   21.000000    0.000000  \n",
       "25%     27.300000                  0.243750   24.000000    0.000000  \n",
       "50%     32.000000                  0.372500   29.000000    0.000000  \n",
       "75%     36.600000                  0.626250   41.000000    1.000000  \n",
       "max     67.100000                  2.420000   81.000000    1.000000  "
      ]
     },
     "execution_count": 22,
     "metadata": {},
     "output_type": "execute_result"
    }
   ],
   "source": [
    "df = pd.read_csv('https://raw.githubusercontent.com/ryanleeallred/datasets/master/diabetes.csv')\n",
    "df.describe()"
   ]
  },
  {
   "cell_type": "code",
   "execution_count": 23,
   "metadata": {
    "ExecuteTime": {
     "end_time": "2019-05-17T00:26:59.668463Z",
     "start_time": "2019-05-17T00:26:59.644094Z"
    }
   },
   "outputs": [],
   "source": [
    "X = df.drop('BloodPressure', axis=1).values\n",
    "X_train, X_test, y_train, y_test = train_test_split(\n",
    "    X, df['BloodPressure'].values, train_size=0.75, test_size=0.25)"
   ]
  },
  {
   "cell_type": "code",
   "execution_count": 24,
   "metadata": {
    "ExecuteTime": {
     "end_time": "2019-05-17T00:28:15.808180Z",
     "start_time": "2019-05-17T00:27:18.773726Z"
    }
   },
   "outputs": [
    {
     "data": {
      "application/vnd.jupyter.widget-view+json": {
       "model_id": "",
       "version_major": 2,
       "version_minor": 0
      },
      "text/plain": [
       "HBox(children=(IntProgress(value=0, description='Optimization Progress', max=120, style=ProgressStyle(descript…"
      ]
     },
     "metadata": {},
     "output_type": "display_data"
    },
    {
     "name": "stdout",
     "output_type": "stream",
     "text": [
      "Generation 1 - Current best internal CV score: -282.3930558115757\n",
      "Generation 2 - Current best internal CV score: -282.3930558115757\n",
      "Generation 3 - Current best internal CV score: -282.3930558115757\n",
      "Generation 4 - Current best internal CV score: -280.9193879496057\n",
      "Generation 5 - Current best internal CV score: -280.9193879496057\n",
      "\n",
      "Best pipeline: ElasticNetCV(StandardScaler(ZeroCount(input_matrix)), l1_ratio=0.45, tol=1e-05)\n",
      "-440.5414648909944\n"
     ]
    },
    {
     "data": {
      "text/plain": [
       "array([73.54304913, 60.40063027, 74.75412944, 73.30542462, 66.54250914,\n",
       "       68.65330122, 66.71141217, 72.09580645, 75.38297424, 74.53189261,\n",
       "       70.8817487 , 66.9404476 , 68.61393384, 67.93254989, 67.53929478,\n",
       "       67.24158056, 74.29740772, 62.34952492, 86.51178816, 79.18555172,\n",
       "       65.34766887, 68.23130946, 60.51041852, 61.30171341, 75.07256512,\n",
       "       65.35743146, 77.01876242, 65.9092082 , 82.98397418, 70.53186474,\n",
       "       63.73916691, 69.01249785, 64.00229989, 69.64416433, 62.9204722 ,\n",
       "       74.49264559, 81.64866926, 65.54096016, 60.32697028, 70.17859606,\n",
       "       77.47345411, 75.26716232, 79.33294209, 75.73058161, 61.25571011,\n",
       "       68.28200133, 70.83731861, 71.6189407 , 66.81450214, 75.94337776,\n",
       "       68.49409671, 68.10170129, 63.43060374, 55.92836414, 67.14465559,\n",
       "       69.29765361, 71.96019961, 64.58344247, 80.88436206, 40.82804854,\n",
       "       65.48623135, 66.03323217, 82.72972293, 72.98972987, 75.93962359,\n",
       "       78.52931495, 78.19212475, 71.0802972 , 75.15232555, 65.53897679,\n",
       "       80.05844978, 70.87114234, 69.0640756 , 68.6325181 , 71.16370656,\n",
       "       73.69878368, 78.47497313, 64.13069817, 66.81443632, 83.71995492,\n",
       "       63.36421654, 59.91797268, 69.36415187, 69.68037065, 64.65690882,\n",
       "       65.62734086, 71.6151749 , 72.57294573, 63.11373585, 80.6249064 ,\n",
       "       79.82165626, 77.55755977, 67.62686287, 65.43174281, 66.6527141 ,\n",
       "       72.99267532, 68.46109926, 82.80384614, 62.28876185, 81.5077441 ,\n",
       "       61.71977892, 67.66921829, 76.34983386, 58.91710893, 59.4530027 ,\n",
       "       77.94464395, 59.62566258, 65.32796168, 62.73036682, 72.33795397,\n",
       "       66.21961793, 63.18514452, 71.37105993, 72.09812999, 64.06895249,\n",
       "       70.19838109, 70.87338775, 71.40230348, 73.76308625, 70.62616961,\n",
       "       58.62839481, 75.65908206, 90.14823851, 80.01059643, 64.97641273,\n",
       "       75.61724737, 73.00268941, 68.55255791, 64.48155119, 68.32276237,\n",
       "       73.78154304, 66.28877845, 74.20045846, 68.37282723, 73.66094412,\n",
       "       80.50372038, 68.26912389, 63.24001017, 72.71286077, 73.45361546,\n",
       "       65.57611802, 64.3363086 , 58.50091119, 62.93044943, 69.15836384,\n",
       "       64.72574794, 84.21261465, 71.22817018, 57.02125297, 71.2513855 ,\n",
       "       74.8761516 , 76.51243294, 71.13418096, 75.59796284, 74.1569252 ,\n",
       "       56.71002409, 82.721457  , 71.41458244, 74.19165161, 63.36375205,\n",
       "       71.75048597, 69.57820246, 72.315566  , 72.47335044, 75.71537743,\n",
       "       53.93294326, 74.89817962, 74.55609186, 71.70415832, 66.35594401,\n",
       "       72.53627757, 69.2186993 , 75.37378148, 81.4520764 , 66.86938763,\n",
       "       77.93226023, 78.78455442, 75.23682993, 64.57990394, 73.20021307,\n",
       "       82.89499403, 71.84171773, 77.84780764, 70.56223587, 65.77355865,\n",
       "       84.32908665, 60.80346062, 58.70777425, 77.99821982, 63.05961032,\n",
       "       74.62622319, 65.7326019 ])"
      ]
     },
     "execution_count": 24,
     "metadata": {},
     "output_type": "execute_result"
    }
   ],
   "source": [
    "tpot = TPOTRegressor(generations=5, population_size=20, verbosity=2)\n",
    "tpot.fit(X_train, y_train)\n",
    "print(tpot.score(X_test, y_test))\n",
    "tpot.predict(X_test)"
   ]
  },
  {
   "cell_type": "code",
   "execution_count": 25,
   "metadata": {
    "ExecuteTime": {
     "end_time": "2019-05-17T00:30:28.833392Z",
     "start_time": "2019-05-17T00:30:28.825185Z"
    }
   },
   "outputs": [
    {
     "data": {
      "text/plain": [
       "array([ 82,  60,  82,  88,  62,  76,   0,  80,  72,  88,  60,  70,   0,\n",
       "        44,  70,  58,  66,  62, 110,  30,  58,  82,  88,  78,  70,  52,\n",
       "        78,  56,  88,   0,  62,  52,  70,  78,  60,  90,  94,  58,  64,\n",
       "        62,  88,  90, 106,  88,  72,  60,  64,  72,  72,  82,  74,  72,\n",
       "        65,  68,  58,  76,  66,  96,  88,   0,  56,  68,  82,  70,  84,\n",
       "       106,  76,  78,  76,   0,  94,  80,  86,  60,  88,  54,  70,  66,\n",
       "        68,  72,   0,  68,  78,  62,  66,  72,  64,  82,  86,   0,  68,\n",
       "        70,  76,  74,  72,  76,  58,  60,  52,  88,  64,  46,  78,  60,\n",
       "        62,   0,  56,  75,   0,  48,  50,  68,  65,  72,  88,  90,  70,\n",
       "        72,  72,  68,  50,  72,  74,  80,  82,  78,  84,  75,  24,  66,\n",
       "        58,  72,  88,  58,  70,  90,  78,  88,  94,  80,  58,   0,  54,\n",
       "        70,  62,   0,  78,  70,  68,  92,  66,   0,  70,  82,  68,  68,\n",
       "        80,  86,  90,   0,  70,  80,  90,  90,  64,  55,  76,  50,  82,\n",
       "        70,  80,  64,  76,  68,  80,  78,  72,  84,  70,  64,  78,  70,\n",
       "        66,  60,  74,  78,  62,  64,  76,  64,  60,  70])"
      ]
     },
     "execution_count": 25,
     "metadata": {},
     "output_type": "execute_result"
    }
   ],
   "source": [
    "y_test"
   ]
  },
  {
   "cell_type": "markdown",
   "metadata": {
    "colab_type": "text",
    "id": "zE4a4O7Bp5x1"
   },
   "source": [
    "# Resources and Stretch Goals"
   ]
  },
  {
   "cell_type": "markdown",
   "metadata": {
    "colab_type": "text",
    "id": "uT3UV3gap9H6"
   },
   "source": [
    "Stretch goals\n",
    "- Apply AutoML to more data, including data you've not analyzed or data you're considering for project work\n",
    "- Try to work with the GPU/TPU options, and see if you can accelerate your AutoML\n",
    "- Check out other competing AutoML systems (see resources or search and share - many are cloud hosted which is why we went with this)\n",
    "- Write a blog post summarizing your experience learning Data Science at Lambda School!\n",
    "\n",
    "Resources\n",
    "- [What to expect from AutoML software](https://epistasislab.github.io/tpot/using/#what-to-expect-from-automl-software)\n",
    "- [TPOT examples](https://epistasislab.github.io/tpot/examples/)\n",
    "- [Google Cloud AutoML](https://cloud.google.com/automl/) - the Google offering in the AutoML space (also has vision, video, NLP, and translation)\n",
    "- [Microsoft AutoML](https://www.microsoft.com/en-us/research/project/automl/)\n",
    "- [AutoML.org](https://www.automl.org)\n",
    "- [Ludwig](https://uber.github.io/ludwig/) - a toolbox for deep learning that doesn't require coding, from Uber\n",
    "- [USENIX Security '18-Q: Why Do Keynote Speakers Keep Suggesting That Improving Security Is Possible?](https://youtu.be/ajGX7odA87k) - a humorous but informative presentation by James Mickens, focused on security but with a consideration of data and machine learning"
   ]
  }
 ],
 "metadata": {
  "colab": {
   "collapsed_sections": [],
   "name": "LS_DS_444_AGI_and_The_Future.ipynb",
   "provenance": [],
   "version": "0.3.2"
  },
  "kernelspec": {
   "display_name": "Python 3",
   "language": "python",
   "name": "python3"
  },
  "language_info": {
   "codemirror_mode": {
    "name": "ipython",
    "version": 3
   },
   "file_extension": ".py",
   "mimetype": "text/x-python",
   "name": "python",
   "nbconvert_exporter": "python",
   "pygments_lexer": "ipython3",
   "version": "3.7.3"
  },
  "toc": {
   "base_numbering": 1,
   "nav_menu": {},
   "number_sections": true,
   "sideBar": true,
   "skip_h1_title": false,
   "title_cell": "Table of Contents",
   "title_sidebar": "Contents",
   "toc_cell": false,
   "toc_position": {},
   "toc_section_display": true,
   "toc_window_display": false
  },
  "varInspector": {
   "cols": {
    "lenName": 16,
    "lenType": 16,
    "lenVar": 40
   },
   "kernels_config": {
    "python": {
     "delete_cmd_postfix": "",
     "delete_cmd_prefix": "del ",
     "library": "var_list.py",
     "varRefreshCmd": "print(var_dic_list())"
    },
    "r": {
     "delete_cmd_postfix": ") ",
     "delete_cmd_prefix": "rm(",
     "library": "var_list.r",
     "varRefreshCmd": "cat(var_dic_list()) "
    }
   },
   "types_to_exclude": [
    "module",
    "function",
    "builtin_function_or_method",
    "instance",
    "_Feature"
   ],
   "window_display": false
  }
 },
 "nbformat": 4,
 "nbformat_minor": 1
}
