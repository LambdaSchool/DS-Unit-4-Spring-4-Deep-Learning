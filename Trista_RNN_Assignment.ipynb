{
  "nbformat": 4,
  "nbformat_minor": 0,
  "metadata": {
    "colab": {
      "name": "Trista RNN Assignment.ipynb",
      "version": "0.3.2",
      "provenance": [],
      "collapsed_sections": [],
      "include_colab_link": true
    },
    "kernelspec": {
      "name": "python3",
      "display_name": "Python 3"
    }
  },
  "cells": [
    {
      "cell_type": "markdown",
      "metadata": {
        "id": "view-in-github",
        "colab_type": "text"
      },
      "source": [
        "<a href=\"https://colab.research.google.com/github/trista-paul/DS-Unit-4-Sprint-4-Deep-Learning/blob/master/Trista_RNN_Assignment.ipynb\" target=\"_parent\"><img src=\"https://colab.research.google.com/assets/colab-badge.svg\" alt=\"Open In Colab\"/></a>"
      ]
    },
    {
      "cell_type": "markdown",
      "metadata": {
        "id": "--mZsyfQ2XQH",
        "colab_type": "text"
      },
      "source": [
        "# Assignment\n",
        "\n",
        "![Monkey at a typewriter](https://upload.wikimedia.org/wikipedia/commons/thumb/3/3c/Chimpanzee_seated_at_typewriter.jpg/603px-Chimpanzee_seated_at_typewriter.jpg)\n",
        "\n",
        "It is said that [infinite monkeys typing for an infinite amount of time](https://en.wikipedia.org/wiki/Infinite_monkey_theorem) will eventually type, among other things, the complete works of Wiliam Shakespeare. Let's see if we can get there a bit faster, with the power of Recurrent Neural Networks and LSTM.\n",
        "\n",
        "This text file contains the complete works of Shakespeare: https://www.gutenberg.org/files/100/100-0.txt\n",
        "\n",
        "Use it as training data for an RNN - you can keep it simple and train character level, and that is suggested as an initial approach.\n",
        "\n",
        "Then, use that trained RNN to generate Shakespearean-ish text. Your goal - a function that can take, as an argument, the size of text (e.g. number of characters or lines) to generate, and returns generated text of that size.\n",
        "\n",
        "Note - Shakespeare wrote an awful lot. It's OK, especially initially, to sample/use smaller data and parameters, so you can have a tighter feedback loop when you're trying to get things running. Then, once you've got a proof of concept - start pushing it more!"
      ]
    },
    {
      "cell_type": "code",
      "metadata": {
        "id": "3EGCq7EC2GDN",
        "colab_type": "code",
        "colab": {}
      },
      "source": [
        "import urllib.request\n",
        "\n",
        "url = 'https://www.gutenberg.org/files/100/100-0.txt'\n",
        "\n",
        "#reads first 10000 characters\n",
        "#...which cut sonnet 11.\n",
        "#all sonnets (my final set): 100637\n",
        "text = urllib.request.urlopen(url).read(10500)"
      ],
      "execution_count": 0,
      "outputs": []
    },
    {
      "cell_type": "code",
      "metadata": {
        "id": "agdNHrDQ2ffw",
        "colab_type": "code",
        "outputId": "7f7532bc-732e-4a95-a9c5-01f5b4faa163",
        "colab": {
          "base_uri": "https://localhost:8080/",
          "height": 54
        }
      },
      "source": [
        "text = str(text)\n",
        "text #very messy, a lot of \\r \\n and other tags"
      ],
      "execution_count": 0,
      "outputs": [
        {
          "output_type": "execute_result",
          "data": {
            "text/plain": [
              "\"b'\\\\xef\\\\xbb\\\\xbf\\\\r\\\\nProject Gutenberg\\\\xe2\\\\x80\\\\x99s The Complete Works of William Shakespeare, by William\\\\r\\\\nShakespeare\\\\r\\\\n\\\\r\\\\nThis eBook is for the use of anyone anywhere in the United States and\\\\r\\\\nmost other parts of the world at no cost and with almost no restrictions\\\\r\\\\nwhatsoever.  You may copy it, give it away or re-use it under the terms\\\\r\\\\nof the Project Gutenberg License included with this eBook or online at\\\\r\\\\nwww.gutenberg.org.  If you are not located in the United States, you\\\\xe2\\\\x80\\\\x99ll\\\\r\\\\nhave to check the laws of the country where you are located before using\\\\r\\\\nthis ebook.\\\\r\\\\n\\\\r\\\\nSee at the end of this file: * CONTENT NOTE (added in 2017) *\\\\r\\\\n\\\\r\\\\n\\\\r\\\\nTitle: The Complete Works of William Shakespeare\\\\r\\\\n\\\\r\\\\nAuthor: William Shakespeare\\\\r\\\\n\\\\r\\\\nRelease Date: January 1994 [EBook #100]\\\\r\\\\nLast Updated: May 7, 2019\\\\r\\\\n\\\\r\\\\nLanguage: English\\\\r\\\\n\\\\r\\\\nCharacter set encoding: UTF-8\\\\r\\\\n\\\\r\\\\n*** START OF THIS PROJECT GUTENBERG EBOOK THE COMPLETE WORKS OF WILLIAM SHAKESPEARE ***\\\\r\\\\n\\\\r\\\\n\\\\r\\\\n\\\\r\\\\n\\\\r\\\\nThe Complete Works of William Shakespeare\\\\r\\\\n\\\\r\\\\n\\\\r\\\\n\\\\r\\\\nby William Shakespeare\\\\r\\\\n\\\\r\\\\n\\\\r\\\\n\\\\r\\\\n\\\\r\\\\n      Contents\\\\r\\\\n\\\\r\\\\n\\\\r\\\\n\\\\r\\\\n               THE SONNETS\\\\r\\\\n\\\\r\\\\n               ALL\\\\xe2\\\\x80\\\\x99S WELL THAT ENDS WELL\\\\r\\\\n\\\\r\\\\n               THE TRAGEDY OF ANTONY AND CLEOPATRA\\\\r\\\\n\\\\r\\\\n               AS YOU LIKE IT\\\\r\\\\n\\\\r\\\\n               THE COMEDY OF ERRORS\\\\r\\\\n\\\\r\\\\n               THE TRAGEDY OF CORIOLANUS\\\\r\\\\n\\\\r\\\\n               CYMBELINE\\\\r\\\\n\\\\r\\\\n               THE TRAGEDY OF HAMLET, PRINCE OF DENMARK\\\\r\\\\n\\\\r\\\\n               THE FIRST PART OF KING HENRY THE FOURTH\\\\r\\\\n\\\\r\\\\n               THE SECOND PART OF KING HENRY THE FOURTH\\\\r\\\\n\\\\r\\\\n               THE LIFE OF KING HENRY THE FIFTH\\\\r\\\\n\\\\r\\\\n               THE FIRST PART OF HENRY THE SIXTH\\\\r\\\\n\\\\r\\\\n               THE SECOND PART OF KING HENRY THE SIXTH\\\\r\\\\n\\\\r\\\\n               THE THIRD PART OF KING HENRY THE SIXTH\\\\r\\\\n\\\\r\\\\n               KING HENRY THE EIGHTH\\\\r\\\\n\\\\r\\\\n               KING JOHN\\\\r\\\\n\\\\r\\\\n               THE TRAGEDY OF JULIUS CAESAR\\\\r\\\\n\\\\r\\\\n               THE TRAGEDY OF KING LEAR\\\\r\\\\n\\\\r\\\\n               LOVE\\\\xe2\\\\x80\\\\x99S LABOUR\\\\xe2\\\\x80\\\\x99S LOST\\\\r\\\\n\\\\r\\\\n               THE TRAGEDY OF MACBETH\\\\r\\\\n\\\\r\\\\n               MEASURE FOR MEASURE\\\\r\\\\n\\\\r\\\\n               THE MERCHANT OF VENICE\\\\r\\\\n\\\\r\\\\n               THE MERRY WIVES OF WINDSOR\\\\r\\\\n\\\\r\\\\n               A MIDSUMMER NIGHT\\\\xe2\\\\x80\\\\x99S DREAM\\\\r\\\\n\\\\r\\\\n               MUCH ADO ABOUT NOTHING\\\\r\\\\n\\\\r\\\\n               THE TRAGEDY OF OTHELLO, MOOR OF VENICE\\\\r\\\\n\\\\r\\\\n               PERICLES, PRINCE OF TYRE\\\\r\\\\n\\\\r\\\\n               KING RICHARD THE SECOND\\\\r\\\\n\\\\r\\\\n               KING RICHARD THE THIRD\\\\r\\\\n\\\\r\\\\n               THE TRAGEDY OF ROMEO AND JULIET\\\\r\\\\n\\\\r\\\\n               THE TAMING OF THE SHREW\\\\r\\\\n\\\\r\\\\n               THE TEMPEST\\\\r\\\\n\\\\r\\\\n               THE LIFE OF TIMON OF ATHENS\\\\r\\\\n\\\\r\\\\n               THE TRAGEDY OF TITUS ANDRONICUS\\\\r\\\\n\\\\r\\\\n               THE HISTORY OF TROILUS AND CRESSIDA\\\\r\\\\n\\\\r\\\\n               TWELFTH NIGHT; OR, WHAT YOU WILL\\\\r\\\\n\\\\r\\\\n               THE TWO GENTLEMEN OF VERONA\\\\r\\\\n\\\\r\\\\n               THE TWO NOBLE KINSMEN\\\\r\\\\n\\\\r\\\\n               THE WINTER\\\\xe2\\\\x80\\\\x99S TALE\\\\r\\\\n\\\\r\\\\n               A LOVER\\\\xe2\\\\x80\\\\x99S COMPLAINT\\\\r\\\\n\\\\r\\\\n               THE PASSIONATE PILGRIM\\\\r\\\\n\\\\r\\\\n               THE PHOENIX AND THE TURTLE\\\\r\\\\n\\\\r\\\\n               THE RAPE OF LUCRECE\\\\r\\\\n\\\\r\\\\n               VENUS AND ADONIS\\\\r\\\\n\\\\r\\\\n\\\\r\\\\n\\\\r\\\\n\\\\r\\\\n\\\\r\\\\n\\\\r\\\\nTHE SONNETS\\\\r\\\\n\\\\r\\\\n                    1\\\\r\\\\n\\\\r\\\\nFrom fairest creatures we desire increase,\\\\r\\\\nThat thereby beauty\\\\xe2\\\\x80\\\\x99s rose might never die,\\\\r\\\\nBut as the riper should by time decease,\\\\r\\\\nHis tender heir might bear his memory:\\\\r\\\\nBut thou contracted to thine own bright eyes,\\\\r\\\\nFeed\\\\xe2\\\\x80\\\\x99st thy light\\\\xe2\\\\x80\\\\x99s flame with self-substantial fuel,\\\\r\\\\nMaking a famine where abundance lies,\\\\r\\\\nThy self thy foe, to thy sweet self too cruel:\\\\r\\\\nThou that art now the world\\\\xe2\\\\x80\\\\x99s fresh ornament,\\\\r\\\\nAnd only herald to the gaudy spring,\\\\r\\\\nWithin thine own bud buriest thy content,\\\\r\\\\nAnd, tender churl, mak\\\\xe2\\\\x80\\\\x99st waste in niggarding:\\\\r\\\\n  Pity the world, or else this glutton be,\\\\r\\\\n  To eat the world\\\\xe2\\\\x80\\\\x99s due, by the grave and thee.\\\\r\\\\n\\\\r\\\\n\\\\r\\\\n                    2\\\\r\\\\n\\\\r\\\\nWhen forty winters shall besiege thy brow,\\\\r\\\\nAnd dig deep trenches in thy beauty\\\\xe2\\\\x80\\\\x99s field,\\\\r\\\\nThy youth\\\\xe2\\\\x80\\\\x99s proud livery so gazed on now,\\\\r\\\\nWill be a tattered weed of small worth held:\\\\r\\\\nThen being asked, where all thy beauty lies,\\\\r\\\\nWhere all the treasure of thy lusty days;\\\\r\\\\nTo say, within thine own deep sunken eyes,\\\\r\\\\nWere an all-eating shame, and thriftless praise.\\\\r\\\\nHow much more praise deserv\\\\xe2\\\\x80\\\\x99d thy beauty\\\\xe2\\\\x80\\\\x99s use,\\\\r\\\\nIf thou couldst answer \\\\xe2\\\\x80\\\\x98This fair child of mine\\\\r\\\\nShall sum my count, and make my old excuse,\\\\xe2\\\\x80\\\\x99\\\\r\\\\nProving his beauty by succession thine.\\\\r\\\\n  This were to be new made when thou art old,\\\\r\\\\n  And see thy blood warm when thou feel\\\\xe2\\\\x80\\\\x99st it cold.\\\\r\\\\n\\\\r\\\\n\\\\r\\\\n                    3\\\\r\\\\n\\\\r\\\\nLook in thy glass and tell the face thou viewest,\\\\r\\\\nNow is the time that face should form another,\\\\r\\\\nWhose fresh repair if now thou not renewest,\\\\r\\\\nThou dost beguile the world, unbless some mother.\\\\r\\\\nFor where is she so fair whose uneared womb\\\\r\\\\nDisdains the tillage of thy husbandry?\\\\r\\\\nOr who is he so fond will be the tomb\\\\r\\\\nOf his self-love to stop posterity?\\\\r\\\\nThou art thy mother\\\\xe2\\\\x80\\\\x99s glass and she in thee\\\\r\\\\nCalls back the lovely April of her prime,\\\\r\\\\nSo thou through windows of thine age shalt see,\\\\r\\\\nDespite of wrinkles this thy golden time.\\\\r\\\\n  But if thou live remembered not to be,\\\\r\\\\n  Die single and thine image dies with thee.\\\\r\\\\n\\\\r\\\\n\\\\r\\\\n                    4\\\\r\\\\n\\\\r\\\\nUnthrifty loveliness why dost thou spend,\\\\r\\\\nUpon thy self thy beauty\\\\xe2\\\\x80\\\\x99s legacy?\\\\r\\\\nNature\\\\xe2\\\\x80\\\\x99s bequest gives nothing but doth lend,\\\\r\\\\nAnd being frank she lends to those are free:\\\\r\\\\nThen beauteous niggard why dost thou abuse,\\\\r\\\\nThe bounteous largess given thee to give?\\\\r\\\\nProfitless usurer why dost thou use\\\\r\\\\nSo great a sum of sums yet canst not live?\\\\r\\\\nFor having traffic with thy self alone,\\\\r\\\\nThou of thy self thy sweet self dost deceive,\\\\r\\\\nThen how when nature calls thee to be gone,\\\\r\\\\nWhat acceptable audit canst thou leave?\\\\r\\\\n  Thy unused beauty must be tombed with thee,\\\\r\\\\n  Which used lives th\\\\xe2\\\\x80\\\\x99 executor to be.\\\\r\\\\n\\\\r\\\\n\\\\r\\\\n                    5\\\\r\\\\n\\\\r\\\\nThose hours that with gentle work did frame\\\\r\\\\nThe lovely gaze where every eye doth dwell\\\\r\\\\nWill play the tyrants to the very same,\\\\r\\\\nAnd that unfair which fairly doth excel:\\\\r\\\\nFor never-resting time leads summer on\\\\r\\\\nTo hideous winter and confounds him there,\\\\r\\\\nSap checked with frost and lusty leaves quite gone,\\\\r\\\\nBeauty o\\\\xe2\\\\x80\\\\x99er-snowed and bareness every where:\\\\r\\\\nThen were not summer\\\\xe2\\\\x80\\\\x99s distillation left\\\\r\\\\nA liquid prisoner pent in walls of glass,\\\\r\\\\nBeauty\\\\xe2\\\\x80\\\\x99s effect with beauty were bereft,\\\\r\\\\nNor it nor no remembrance what it was.\\\\r\\\\n  But flowers distilled though they with winter meet,\\\\r\\\\n  Leese but their show, their substance still lives sweet.\\\\r\\\\n\\\\r\\\\n\\\\r\\\\n                    6\\\\r\\\\n\\\\r\\\\nThen let not winter\\\\xe2\\\\x80\\\\x99s ragged hand deface,\\\\r\\\\nIn thee thy summer ere thou be distilled:\\\\r\\\\nMake sweet some vial; treasure thou some place,\\\\r\\\\nWith beauty\\\\xe2\\\\x80\\\\x99s treasure ere it be self-killed:\\\\r\\\\nThat use is not forbidden usury,\\\\r\\\\nWhich happies those that pay the willing loan;\\\\r\\\\nThat\\\\xe2\\\\x80\\\\x99s for thy self to breed another thee,\\\\r\\\\nOr ten times happier be it ten for one,\\\\r\\\\nTen times thy self were happier than thou art,\\\\r\\\\nIf ten of thine ten times refigured thee:\\\\r\\\\nThen what could death do if thou shouldst depart,\\\\r\\\\nLeaving thee living in posterity?\\\\r\\\\n  Be not self-willed for thou art much too fair,\\\\r\\\\n  To be death\\\\xe2\\\\x80\\\\x99s conquest and make worms thine heir.\\\\r\\\\n\\\\r\\\\n\\\\r\\\\n                    7\\\\r\\\\n\\\\r\\\\nLo in the orient when the gracious light\\\\r\\\\nLifts up his burning head, each under eye\\\\r\\\\nDoth homage to his new-appearing sight,\\\\r\\\\nServing with looks his sacred majesty,\\\\r\\\\nAnd having climbed the steep-up heavenly hill,\\\\r\\\\nResembling strong youth in his middle age,\\\\r\\\\nYet mortal looks adore his beauty still,\\\\r\\\\nAttending on his golden pilgrimage:\\\\r\\\\nBut when from highmost pitch with weary car,\\\\r\\\\nLike feeble age he reeleth from the day,\\\\r\\\\nThe eyes (fore duteous) now converted are\\\\r\\\\nFrom his low tract and look another way:\\\\r\\\\n  So thou, thy self out-going in thy noon:\\\\r\\\\n  Unlooked on diest unless thou get a son.\\\\r\\\\n\\\\r\\\\n\\\\r\\\\n                    8\\\\r\\\\n\\\\r\\\\nMusic to hear, why hear\\\\xe2\\\\x80\\\\x99st thou music sadly?\\\\r\\\\nSweets with sweets war not, joy delights in joy:\\\\r\\\\nWhy lov\\\\xe2\\\\x80\\\\x99st thou that which thou receiv\\\\xe2\\\\x80\\\\x99st not gladly,\\\\r\\\\nOr else receiv\\\\xe2\\\\x80\\\\x99st with pleasure thine annoy?\\\\r\\\\nIf the true concord of well-tuned sounds,\\\\r\\\\nBy unions married do offend thine ear,\\\\r\\\\nThey do but sweetly chide thee, who confounds\\\\r\\\\nIn singleness the parts that thou shouldst bear:\\\\r\\\\nMark how one string sweet husband to another,\\\\r\\\\nStrikes each in each by mutual ordering;\\\\r\\\\nResembling sire, and child, and happy mother,\\\\r\\\\nWho all in one, one pleasing note do sing:\\\\r\\\\n  Whose speechless song being many, seeming one,\\\\r\\\\n  Sings this to thee, \\\\xe2\\\\x80\\\\x98Thou single wilt prove none\\\\xe2\\\\x80\\\\x99.\\\\r\\\\n\\\\r\\\\n\\\\r\\\\n                    9\\\\r\\\\n\\\\r\\\\nIs it for fear to wet a widow\\\\xe2\\\\x80\\\\x99s eye,\\\\r\\\\nThat thou consum\\\\xe2\\\\x80\\\\x99st thy self in single life?\\\\r\\\\nAh, if thou issueless shalt hap to die,\\\\r\\\\nThe world will wail thee like a makeless wife,\\\\r\\\\nThe world will be thy widow and still weep,\\\\r\\\\nThat thou no form of thee hast left behind,\\\\r\\\\nWhen every private widow well may keep,\\\\r\\\\nBy children\\\\xe2\\\\x80\\\\x99s eyes, her husband\\\\xe2\\\\x80\\\\x99s shape in mind:\\\\r\\\\nLook what an unthrift in the world doth spend\\\\r\\\\nShifts but his place, for still the world enjoys it;\\\\r\\\\nBut beauty\\\\xe2\\\\x80\\\\x99s waste hath in the world an end,\\\\r\\\\nAnd kept unused the user so destroys it:\\\\r\\\\n  No love toward others in that bosom sits\\\\r\\\\n  That on himself such murd\\\\xe2\\\\x80\\\\x99rous shame commits.\\\\r\\\\n\\\\r\\\\n\\\\r\\\\n                    10\\\\r\\\\n\\\\r\\\\nFor shame deny that thou bear\\\\xe2\\\\x80\\\\x99st love to any\\\\r\\\\nWho for thy self art so unprovident.\\\\r\\\\nGrant if thou wilt, thou art beloved of many,\\\\r\\\\nBut that thou none lov\\\\xe2\\\\x80\\\\x99st is most evident:\\\\r\\\\nFor thou art so possessed with murd\\\\xe2\\\\x80\\\\x99rous hate,\\\\r\\\\nThat \\\\xe2\\\\x80\\\\x99gainst thy self thou stick\\\\xe2\\\\x80\\\\x99st not to conspire,\\\\r\\\\nSeeking that beauteous roof to ruinate\\\\r\\\\nWhich to repair should be thy chief desire:\\\\r\\\\nO change thy thought, that I may change my mind,\\\\r\\\\nShall hate be fairer lodged than gentle love?\\\\r\\\\nBe as thy presence is gracious and kind,\\\\r\\\\nOr to thy self at least kind-hearted prove,\\\\r\\\\n  Make thee another self for love of me,\\\\r\\\\n  That beauty still may live in thine or thee.\\\\r\\\\n\\\\r\\\\n\\\\r\\\\n                    11\\\\r\\\\n\\\\r\\\\nAs fast as thou shalt wane so fast thou grow\\\\xe2\\\\x80\\\\x99st,\\\\r\\\\nIn one of thine, from that which thou departest,\\\\r\\\\nAnd that fresh blood which youngly thou bestow\\\\xe2\\\\x80\\\\x99st,\\\\r\\\\nThou mayst call thine, when thou from youth convertest,\\\\r\\\\nHerein lives wisdom, beauty, and increase,\\\\r\\\\nWithout this folly, age, and cold decay,\\\\r\\\\nIf all were minded so, the times should cease,\\\\r\\\\nAnd threescore year would make the world away:\\\\r\\\\nLet those whom nature hath not made for store,\\\\r\\\\nHarsh, featureless, and rude, barrenly perish:\\\\r\\\\nLook whom she best endowed, she gave thee more;\\\\r\\\\nWhich bounteous gift thou shouldst in bounty cherish:\\\\r\\\\n  She carved thee for her seal, and meant thereby,\\\\r\\\\n  Thou shouldst print more, not let that copy die.\\\\r\\\\n\\\\r\\\\n\\\\r\\\\n                    12\\\\r\\\\n\\\\r\\\\nWhen I do count the clock that tells the time,\\\\r\\\\nAnd see the brave day s'\""
            ]
          },
          "metadata": {
            "tags": []
          },
          "execution_count": 2
        }
      ]
    },
    {
      "cell_type": "code",
      "metadata": {
        "id": "hYyeTCnG2hiC",
        "colab_type": "code",
        "colab": {}
      },
      "source": [
        "#strip b'\n",
        "text = text.replace(r\"b'\", \"\")\n",
        "\n",
        "#remove \\r (ignore \\n)\n",
        "text = text.replace(r\"\\r\", \"\")\n",
        "\n",
        "#remove this specific tag I saw a lot\n",
        "text = text.replace(r\"\\xe2\\x80\\x99\", \"\")\n",
        "text = text.replace(r\"\\xe2\\x80\\x98\", '')"
      ],
      "execution_count": 0,
      "outputs": []
    },
    {
      "cell_type": "code",
      "metadata": {
        "id": "WK5179Vy2lSJ",
        "colab_type": "code",
        "outputId": "db35490d-0b3b-4146-b4aa-0a2f734d9660",
        "colab": {
          "base_uri": "https://localhost:8080/",
          "height": 3410
        }
      },
      "source": [
        "#no \\ns and cut out the directory\n",
        "#strip excess whitespace\n",
        "split_text = text.split(r\"\\n\")[139:]\n",
        "\n",
        "index = 0\n",
        "for line in split_text:\n",
        "    line = line.strip()\n",
        "    split_text[index] = line\n",
        "    index = index + 1\n",
        "\n",
        "split_text"
      ],
      "execution_count": 0,
      "outputs": [
        {
          "output_type": "execute_result",
          "data": {
            "text/plain": [
              "['1',\n",
              " '',\n",
              " 'From fairest creatures we desire increase,',\n",
              " 'That thereby beautys rose might never die,',\n",
              " 'But as the riper should by time decease,',\n",
              " 'His tender heir might bear his memory:',\n",
              " 'But thou contracted to thine own bright eyes,',\n",
              " 'Feedst thy lights flame with self-substantial fuel,',\n",
              " 'Making a famine where abundance lies,',\n",
              " 'Thy self thy foe, to thy sweet self too cruel:',\n",
              " 'Thou that art now the worlds fresh ornament,',\n",
              " 'And only herald to the gaudy spring,',\n",
              " 'Within thine own bud buriest thy content,',\n",
              " 'And, tender churl, makst waste in niggarding:',\n",
              " 'Pity the world, or else this glutton be,',\n",
              " 'To eat the worlds due, by the grave and thee.',\n",
              " '',\n",
              " '',\n",
              " '2',\n",
              " '',\n",
              " 'When forty winters shall besiege thy brow,',\n",
              " 'And dig deep trenches in thy beautys field,',\n",
              " 'Thy youths proud livery so gazed on now,',\n",
              " 'Will be a tattered weed of small worth held:',\n",
              " 'Then being asked, where all thy beauty lies,',\n",
              " 'Where all the treasure of thy lusty days;',\n",
              " 'To say, within thine own deep sunken eyes,',\n",
              " 'Were an all-eating shame, and thriftless praise.',\n",
              " 'How much more praise deservd thy beautys use,',\n",
              " 'If thou couldst answer This fair child of mine',\n",
              " 'Shall sum my count, and make my old excuse,',\n",
              " 'Proving his beauty by succession thine.',\n",
              " 'This were to be new made when thou art old,',\n",
              " 'And see thy blood warm when thou feelst it cold.',\n",
              " '',\n",
              " '',\n",
              " '3',\n",
              " '',\n",
              " 'Look in thy glass and tell the face thou viewest,',\n",
              " 'Now is the time that face should form another,',\n",
              " 'Whose fresh repair if now thou not renewest,',\n",
              " 'Thou dost beguile the world, unbless some mother.',\n",
              " 'For where is she so fair whose uneared womb',\n",
              " 'Disdains the tillage of thy husbandry?',\n",
              " 'Or who is he so fond will be the tomb',\n",
              " 'Of his self-love to stop posterity?',\n",
              " 'Thou art thy mothers glass and she in thee',\n",
              " 'Calls back the lovely April of her prime,',\n",
              " 'So thou through windows of thine age shalt see,',\n",
              " 'Despite of wrinkles this thy golden time.',\n",
              " 'But if thou live remembered not to be,',\n",
              " 'Die single and thine image dies with thee.',\n",
              " '',\n",
              " '',\n",
              " '4',\n",
              " '',\n",
              " 'Unthrifty loveliness why dost thou spend,',\n",
              " 'Upon thy self thy beautys legacy?',\n",
              " 'Natures bequest gives nothing but doth lend,',\n",
              " 'And being frank she lends to those are free:',\n",
              " 'Then beauteous niggard why dost thou abuse,',\n",
              " 'The bounteous largess given thee to give?',\n",
              " 'Profitless usurer why dost thou use',\n",
              " 'So great a sum of sums yet canst not live?',\n",
              " 'For having traffic with thy self alone,',\n",
              " 'Thou of thy self thy sweet self dost deceive,',\n",
              " 'Then how when nature calls thee to be gone,',\n",
              " 'What acceptable audit canst thou leave?',\n",
              " 'Thy unused beauty must be tombed with thee,',\n",
              " 'Which used lives th executor to be.',\n",
              " '',\n",
              " '',\n",
              " '5',\n",
              " '',\n",
              " 'Those hours that with gentle work did frame',\n",
              " 'The lovely gaze where every eye doth dwell',\n",
              " 'Will play the tyrants to the very same,',\n",
              " 'And that unfair which fairly doth excel:',\n",
              " 'For never-resting time leads summer on',\n",
              " 'To hideous winter and confounds him there,',\n",
              " 'Sap checked with frost and lusty leaves quite gone,',\n",
              " 'Beauty oer-snowed and bareness every where:',\n",
              " 'Then were not summers distillation left',\n",
              " 'A liquid prisoner pent in walls of glass,',\n",
              " 'Beautys effect with beauty were bereft,',\n",
              " 'Nor it nor no remembrance what it was.',\n",
              " 'But flowers distilled though they with winter meet,',\n",
              " 'Leese but their show, their substance still lives sweet.',\n",
              " '',\n",
              " '',\n",
              " '6',\n",
              " '',\n",
              " 'Then let not winters ragged hand deface,',\n",
              " 'In thee thy summer ere thou be distilled:',\n",
              " 'Make sweet some vial; treasure thou some place,',\n",
              " 'With beautys treasure ere it be self-killed:',\n",
              " 'That use is not forbidden usury,',\n",
              " 'Which happies those that pay the willing loan;',\n",
              " 'Thats for thy self to breed another thee,',\n",
              " 'Or ten times happier be it ten for one,',\n",
              " 'Ten times thy self were happier than thou art,',\n",
              " 'If ten of thine ten times refigured thee:',\n",
              " 'Then what could death do if thou shouldst depart,',\n",
              " 'Leaving thee living in posterity?',\n",
              " 'Be not self-willed for thou art much too fair,',\n",
              " 'To be deaths conquest and make worms thine heir.',\n",
              " '',\n",
              " '',\n",
              " '7',\n",
              " '',\n",
              " 'Lo in the orient when the gracious light',\n",
              " 'Lifts up his burning head, each under eye',\n",
              " 'Doth homage to his new-appearing sight,',\n",
              " 'Serving with looks his sacred majesty,',\n",
              " 'And having climbed the steep-up heavenly hill,',\n",
              " 'Resembling strong youth in his middle age,',\n",
              " 'Yet mortal looks adore his beauty still,',\n",
              " 'Attending on his golden pilgrimage:',\n",
              " 'But when from highmost pitch with weary car,',\n",
              " 'Like feeble age he reeleth from the day,',\n",
              " 'The eyes (fore duteous) now converted are',\n",
              " 'From his low tract and look another way:',\n",
              " 'So thou, thy self out-going in thy noon:',\n",
              " 'Unlooked on diest unless thou get a son.',\n",
              " '',\n",
              " '',\n",
              " '8',\n",
              " '',\n",
              " 'Music to hear, why hearst thou music sadly?',\n",
              " 'Sweets with sweets war not, joy delights in joy:',\n",
              " 'Why lovst thou that which thou receivst not gladly,',\n",
              " 'Or else receivst with pleasure thine annoy?',\n",
              " 'If the true concord of well-tuned sounds,',\n",
              " 'By unions married do offend thine ear,',\n",
              " 'They do but sweetly chide thee, who confounds',\n",
              " 'In singleness the parts that thou shouldst bear:',\n",
              " 'Mark how one string sweet husband to another,',\n",
              " 'Strikes each in each by mutual ordering;',\n",
              " 'Resembling sire, and child, and happy mother,',\n",
              " 'Who all in one, one pleasing note do sing:',\n",
              " 'Whose speechless song being many, seeming one,',\n",
              " 'Sings this to thee, Thou single wilt prove none.',\n",
              " '',\n",
              " '',\n",
              " '9',\n",
              " '',\n",
              " 'Is it for fear to wet a widows eye,',\n",
              " 'That thou consumst thy self in single life?',\n",
              " 'Ah, if thou issueless shalt hap to die,',\n",
              " 'The world will wail thee like a makeless wife,',\n",
              " 'The world will be thy widow and still weep,',\n",
              " 'That thou no form of thee hast left behind,',\n",
              " 'When every private widow well may keep,',\n",
              " 'By childrens eyes, her husbands shape in mind:',\n",
              " 'Look what an unthrift in the world doth spend',\n",
              " 'Shifts but his place, for still the world enjoys it;',\n",
              " 'But beautys waste hath in the world an end,',\n",
              " 'And kept unused the user so destroys it:',\n",
              " 'No love toward others in that bosom sits',\n",
              " 'That on himself such murdrous shame commits.',\n",
              " '',\n",
              " '',\n",
              " '10',\n",
              " '',\n",
              " 'For shame deny that thou bearst love to any',\n",
              " 'Who for thy self art so unprovident.',\n",
              " 'Grant if thou wilt, thou art beloved of many,',\n",
              " 'But that thou none lovst is most evident:',\n",
              " 'For thou art so possessed with murdrous hate,',\n",
              " 'That gainst thy self thou stickst not to conspire,',\n",
              " 'Seeking that beauteous roof to ruinate',\n",
              " 'Which to repair should be thy chief desire:',\n",
              " 'O change thy thought, that I may change my mind,',\n",
              " 'Shall hate be fairer lodged than gentle love?',\n",
              " 'Be as thy presence is gracious and kind,',\n",
              " 'Or to thy self at least kind-hearted prove,',\n",
              " 'Make thee another self for love of me,',\n",
              " 'That beauty still may live in thine or thee.',\n",
              " '',\n",
              " '',\n",
              " '11',\n",
              " '',\n",
              " 'As fast as thou shalt wane so fast thou growst,',\n",
              " 'In one of thine, from that which thou departest,',\n",
              " 'And that fresh blood which youngly thou bestowst,',\n",
              " 'Thou mayst call thine, when thou from youth convertest,',\n",
              " 'Herein lives wisdom, beauty, and increase,',\n",
              " 'Without this folly, age, and cold decay,',\n",
              " 'If all were minded so, the times should cease,',\n",
              " 'And threescore year would make the world away:',\n",
              " 'Let those whom nature hath not made for store,',\n",
              " 'Harsh, featureless, and rude, barrenly perish:',\n",
              " 'Look whom she best endowed, she gave thee more;',\n",
              " 'Which bounteous gift thou shouldst in bounty cherish:',\n",
              " 'She carved thee for her seal, and meant thereby,',\n",
              " 'Thou shouldst print more, not let that copy die.',\n",
              " '',\n",
              " '',\n",
              " '12',\n",
              " '',\n",
              " 'When I do count the clock that tells the time,',\n",
              " \"And see the brave day s'\"]"
            ]
          },
          "metadata": {
            "tags": []
          },
          "execution_count": 4
        }
      ]
    },
    {
      "cell_type": "code",
      "metadata": {
        "id": "WGRjwNe52nsW",
        "colab_type": "code",
        "colab": {}
      },
      "source": [
        "split_text = split_text[:196]"
      ],
      "execution_count": 0,
      "outputs": []
    },
    {
      "cell_type": "code",
      "metadata": {
        "id": "A8605ZzT2pYO",
        "colab_type": "code",
        "outputId": "c14703ed-535b-43cf-b768-ca616fdce110",
        "colab": {
          "base_uri": "https://localhost:8080/",
          "height": 54
        }
      },
      "source": [
        "split_text = filter(None, split_text)\n",
        "text = \" \".join(split_text)\n",
        "text"
      ],
      "execution_count": 0,
      "outputs": [
        {
          "output_type": "execute_result",
          "data": {
            "text/plain": [
              "'1 From fairest creatures we desire increase, That thereby beautys rose might never die, But as the riper should by time decease, His tender heir might bear his memory: But thou contracted to thine own bright eyes, Feedst thy lights flame with self-substantial fuel, Making a famine where abundance lies, Thy self thy foe, to thy sweet self too cruel: Thou that art now the worlds fresh ornament, And only herald to the gaudy spring, Within thine own bud buriest thy content, And, tender churl, makst waste in niggarding: Pity the world, or else this glutton be, To eat the worlds due, by the grave and thee. 2 When forty winters shall besiege thy brow, And dig deep trenches in thy beautys field, Thy youths proud livery so gazed on now, Will be a tattered weed of small worth held: Then being asked, where all thy beauty lies, Where all the treasure of thy lusty days; To say, within thine own deep sunken eyes, Were an all-eating shame, and thriftless praise. How much more praise deservd thy beautys use, If thou couldst answer This fair child of mine Shall sum my count, and make my old excuse, Proving his beauty by succession thine. This were to be new made when thou art old, And see thy blood warm when thou feelst it cold. 3 Look in thy glass and tell the face thou viewest, Now is the time that face should form another, Whose fresh repair if now thou not renewest, Thou dost beguile the world, unbless some mother. For where is she so fair whose uneared womb Disdains the tillage of thy husbandry? Or who is he so fond will be the tomb Of his self-love to stop posterity? Thou art thy mothers glass and she in thee Calls back the lovely April of her prime, So thou through windows of thine age shalt see, Despite of wrinkles this thy golden time. But if thou live remembered not to be, Die single and thine image dies with thee. 4 Unthrifty loveliness why dost thou spend, Upon thy self thy beautys legacy? Natures bequest gives nothing but doth lend, And being frank she lends to those are free: Then beauteous niggard why dost thou abuse, The bounteous largess given thee to give? Profitless usurer why dost thou use So great a sum of sums yet canst not live? For having traffic with thy self alone, Thou of thy self thy sweet self dost deceive, Then how when nature calls thee to be gone, What acceptable audit canst thou leave? Thy unused beauty must be tombed with thee, Which used lives th executor to be. 5 Those hours that with gentle work did frame The lovely gaze where every eye doth dwell Will play the tyrants to the very same, And that unfair which fairly doth excel: For never-resting time leads summer on To hideous winter and confounds him there, Sap checked with frost and lusty leaves quite gone, Beauty oer-snowed and bareness every where: Then were not summers distillation left A liquid prisoner pent in walls of glass, Beautys effect with beauty were bereft, Nor it nor no remembrance what it was. But flowers distilled though they with winter meet, Leese but their show, their substance still lives sweet. 6 Then let not winters ragged hand deface, In thee thy summer ere thou be distilled: Make sweet some vial; treasure thou some place, With beautys treasure ere it be self-killed: That use is not forbidden usury, Which happies those that pay the willing loan; Thats for thy self to breed another thee, Or ten times happier be it ten for one, Ten times thy self were happier than thou art, If ten of thine ten times refigured thee: Then what could death do if thou shouldst depart, Leaving thee living in posterity? Be not self-willed for thou art much too fair, To be deaths conquest and make worms thine heir. 7 Lo in the orient when the gracious light Lifts up his burning head, each under eye Doth homage to his new-appearing sight, Serving with looks his sacred majesty, And having climbed the steep-up heavenly hill, Resembling strong youth in his middle age, Yet mortal looks adore his beauty still, Attending on his golden pilgrimage: But when from highmost pitch with weary car, Like feeble age he reeleth from the day, The eyes (fore duteous) now converted are From his low tract and look another way: So thou, thy self out-going in thy noon: Unlooked on diest unless thou get a son. 8 Music to hear, why hearst thou music sadly? Sweets with sweets war not, joy delights in joy: Why lovst thou that which thou receivst not gladly, Or else receivst with pleasure thine annoy? If the true concord of well-tuned sounds, By unions married do offend thine ear, They do but sweetly chide thee, who confounds In singleness the parts that thou shouldst bear: Mark how one string sweet husband to another, Strikes each in each by mutual ordering; Resembling sire, and child, and happy mother, Who all in one, one pleasing note do sing: Whose speechless song being many, seeming one, Sings this to thee, Thou single wilt prove none. 9 Is it for fear to wet a widows eye, That thou consumst thy self in single life? Ah, if thou issueless shalt hap to die, The world will wail thee like a makeless wife, The world will be thy widow and still weep, That thou no form of thee hast left behind, When every private widow well may keep, By childrens eyes, her husbands shape in mind: Look what an unthrift in the world doth spend Shifts but his place, for still the world enjoys it; But beautys waste hath in the world an end, And kept unused the user so destroys it: No love toward others in that bosom sits That on himself such murdrous shame commits. 10 For shame deny that thou bearst love to any Who for thy self art so unprovident. Grant if thou wilt, thou art beloved of many, But that thou none lovst is most evident: For thou art so possessed with murdrous hate, That gainst thy self thou stickst not to conspire, Seeking that beauteous roof to ruinate Which to repair should be thy chief desire: O change thy thought, that I may change my mind, Shall hate be fairer lodged than gentle love? Be as thy presence is gracious and kind, Or to thy self at least kind-hearted prove, Make thee another self for love of me, That beauty still may live in thine or thee. 11 As fast as thou shalt wane so fast thou growst, In one of thine, from that which thou departest, And that fresh blood which youngly thou bestowst, Thou mayst call thine, when thou from youth convertest, Herein lives wisdom, beauty, and increase, Without this folly, age, and cold decay, If all were minded so, the times should cease, And threescore year would make the world away: Let those whom nature hath not made for store, Harsh, featureless, and rude, barrenly perish: Look whom she best endowed, she gave thee more; Which bounteous gift thou shouldst in bounty cherish: She carved thee for her seal, and meant thereby, Thou shouldst print more, not let that copy die.'"
            ]
          },
          "metadata": {
            "tags": []
          },
          "execution_count": 6
        }
      ]
    },
    {
      "cell_type": "code",
      "metadata": {
        "id": "i6lOO9-Y2tQa",
        "colab_type": "code",
        "outputId": "4590de25-71a5-4150-d332-84d8aec79733",
        "colab": {
          "base_uri": "https://localhost:8080/",
          "height": 50
        }
      },
      "source": [
        "characters = list(set(text))\n",
        "\n",
        "num_chars = len(characters)\n",
        "text_length = len(text)\n",
        "\n",
        "print(\"unique characters : \", num_chars)\n",
        "print(\"txt_data_size : \", text_length)"
      ],
      "execution_count": 0,
      "outputs": [
        {
          "output_type": "stream",
          "text": [
            "unique characters :  64\n",
            "txt_data_size :  6778\n"
          ],
          "name": "stdout"
        }
      ]
    },
    {
      "cell_type": "code",
      "metadata": {
        "id": "6-KBVidC2vZn",
        "colab_type": "code",
        "outputId": "081da4e0-2462-49ea-d7af-ab1836422bf5",
        "colab": {
          "base_uri": "https://localhost:8080/",
          "height": 154
        }
      },
      "source": [
        "# one hot encode\n",
        "char_to_int = dict((c, i) for i, c in enumerate(characters)) # \"enumerate\" retruns index and value. Convert it to dictionary\n",
        "int_to_char = dict((i, c) for i, c in enumerate(characters))\n",
        "print(char_to_int)\n",
        "print(\"----------------------------------------------------\")\n",
        "print(int_to_char)\n",
        "print(\"----------------------------------------------------\")\n",
        "# integer encode input data\n",
        "integer_encoded = [char_to_int[i] for i in text] # \"integer_encoded\" is a list which has a sequence converted from an original data to integers.\n",
        "print(integer_encoded)\n",
        "print(\"----------------------------------------------------\")\n",
        "print(\"data length : \", len(integer_encoded))"
      ],
      "execution_count": 0,
      "outputs": [
        {
          "output_type": "stream",
          "text": [
            "{'Y': 0, ')': 1, 'b': 2, 'p': 3, 'o': 4, ',': 5, 'S': 6, 'q': 7, 'n': 8, 'L': 9, 'P': 10, 'H': 11, 'G': 12, '4': 13, 'i': 14, 't': 15, 'v': 16, 'm': 17, '7': 18, '?': 19, 'l': 20, '-': 21, 'B': 22, 'A': 23, '6': 24, 'e': 25, 'w': 26, 'u': 27, 'N': 28, 'r': 29, 's': 30, 'z': 31, 'C': 32, ';': 33, 'f': 34, 'c': 35, 'M': 36, '.': 37, '9': 38, '(': 39, 'j': 40, 'D': 41, '8': 42, '1': 43, 'x': 44, 'g': 45, 'U': 46, 'a': 47, '0': 48, 'O': 49, 'h': 50, ' ': 51, 'y': 52, '5': 53, '3': 54, '2': 55, 'T': 56, 'k': 57, 'R': 58, ':': 59, 'I': 60, 'F': 61, 'W': 62, 'd': 63}\n",
            "----------------------------------------------------\n",
            "{0: 'Y', 1: ')', 2: 'b', 3: 'p', 4: 'o', 5: ',', 6: 'S', 7: 'q', 8: 'n', 9: 'L', 10: 'P', 11: 'H', 12: 'G', 13: '4', 14: 'i', 15: 't', 16: 'v', 17: 'm', 18: '7', 19: '?', 20: 'l', 21: '-', 22: 'B', 23: 'A', 24: '6', 25: 'e', 26: 'w', 27: 'u', 28: 'N', 29: 'r', 30: 's', 31: 'z', 32: 'C', 33: ';', 34: 'f', 35: 'c', 36: 'M', 37: '.', 38: '9', 39: '(', 40: 'j', 41: 'D', 42: '8', 43: '1', 44: 'x', 45: 'g', 46: 'U', 47: 'a', 48: '0', 49: 'O', 50: 'h', 51: ' ', 52: 'y', 53: '5', 54: '3', 55: '2', 56: 'T', 57: 'k', 58: 'R', 59: ':', 60: 'I', 61: 'F', 62: 'W', 63: 'd'}\n",
            "----------------------------------------------------\n",
            "[43, 51, 61, 29, 4, 17, 51, 34, 47, 14, 29, 25, 30, 15, 51, 35, 29, 25, 47, 15, 27, 29, 25, 30, 51, 26, 25, 51, 63, 25, 30, 14, 29, 25, 51, 14, 8, 35, 29, 25, 47, 30, 25, 5, 51, 56, 50, 47, 15, 51, 15, 50, 25, 29, 25, 2, 52, 51, 2, 25, 47, 27, 15, 52, 30, 51, 29, 4, 30, 25, 51, 17, 14, 45, 50, 15, 51, 8, 25, 16, 25, 29, 51, 63, 14, 25, 5, 51, 22, 27, 15, 51, 47, 30, 51, 15, 50, 25, 51, 29, 14, 3, 25, 29, 51, 30, 50, 4, 27, 20, 63, 51, 2, 52, 51, 15, 14, 17, 25, 51, 63, 25, 35, 25, 47, 30, 25, 5, 51, 11, 14, 30, 51, 15, 25, 8, 63, 25, 29, 51, 50, 25, 14, 29, 51, 17, 14, 45, 50, 15, 51, 2, 25, 47, 29, 51, 50, 14, 30, 51, 17, 25, 17, 4, 29, 52, 59, 51, 22, 27, 15, 51, 15, 50, 4, 27, 51, 35, 4, 8, 15, 29, 47, 35, 15, 25, 63, 51, 15, 4, 51, 15, 50, 14, 8, 25, 51, 4, 26, 8, 51, 2, 29, 14, 45, 50, 15, 51, 25, 52, 25, 30, 5, 51, 61, 25, 25, 63, 30, 15, 51, 15, 50, 52, 51, 20, 14, 45, 50, 15, 30, 51, 34, 20, 47, 17, 25, 51, 26, 14, 15, 50, 51, 30, 25, 20, 34, 21, 30, 27, 2, 30, 15, 47, 8, 15, 14, 47, 20, 51, 34, 27, 25, 20, 5, 51, 36, 47, 57, 14, 8, 45, 51, 47, 51, 34, 47, 17, 14, 8, 25, 51, 26, 50, 25, 29, 25, 51, 47, 2, 27, 8, 63, 47, 8, 35, 25, 51, 20, 14, 25, 30, 5, 51, 56, 50, 52, 51, 30, 25, 20, 34, 51, 15, 50, 52, 51, 34, 4, 25, 5, 51, 15, 4, 51, 15, 50, 52, 51, 30, 26, 25, 25, 15, 51, 30, 25, 20, 34, 51, 15, 4, 4, 51, 35, 29, 27, 25, 20, 59, 51, 56, 50, 4, 27, 51, 15, 50, 47, 15, 51, 47, 29, 15, 51, 8, 4, 26, 51, 15, 50, 25, 51, 26, 4, 29, 20, 63, 30, 51, 34, 29, 25, 30, 50, 51, 4, 29, 8, 47, 17, 25, 8, 15, 5, 51, 23, 8, 63, 51, 4, 8, 20, 52, 51, 50, 25, 29, 47, 20, 63, 51, 15, 4, 51, 15, 50, 25, 51, 45, 47, 27, 63, 52, 51, 30, 3, 29, 14, 8, 45, 5, 51, 62, 14, 15, 50, 14, 8, 51, 15, 50, 14, 8, 25, 51, 4, 26, 8, 51, 2, 27, 63, 51, 2, 27, 29, 14, 25, 30, 15, 51, 15, 50, 52, 51, 35, 4, 8, 15, 25, 8, 15, 5, 51, 23, 8, 63, 5, 51, 15, 25, 8, 63, 25, 29, 51, 35, 50, 27, 29, 20, 5, 51, 17, 47, 57, 30, 15, 51, 26, 47, 30, 15, 25, 51, 14, 8, 51, 8, 14, 45, 45, 47, 29, 63, 14, 8, 45, 59, 51, 10, 14, 15, 52, 51, 15, 50, 25, 51, 26, 4, 29, 20, 63, 5, 51, 4, 29, 51, 25, 20, 30, 25, 51, 15, 50, 14, 30, 51, 45, 20, 27, 15, 15, 4, 8, 51, 2, 25, 5, 51, 56, 4, 51, 25, 47, 15, 51, 15, 50, 25, 51, 26, 4, 29, 20, 63, 30, 51, 63, 27, 25, 5, 51, 2, 52, 51, 15, 50, 25, 51, 45, 29, 47, 16, 25, 51, 47, 8, 63, 51, 15, 50, 25, 25, 37, 51, 55, 51, 62, 50, 25, 8, 51, 34, 4, 29, 15, 52, 51, 26, 14, 8, 15, 25, 29, 30, 51, 30, 50, 47, 20, 20, 51, 2, 25, 30, 14, 25, 45, 25, 51, 15, 50, 52, 51, 2, 29, 4, 26, 5, 51, 23, 8, 63, 51, 63, 14, 45, 51, 63, 25, 25, 3, 51, 15, 29, 25, 8, 35, 50, 25, 30, 51, 14, 8, 51, 15, 50, 52, 51, 2, 25, 47, 27, 15, 52, 30, 51, 34, 14, 25, 20, 63, 5, 51, 56, 50, 52, 51, 52, 4, 27, 15, 50, 30, 51, 3, 29, 4, 27, 63, 51, 20, 14, 16, 25, 29, 52, 51, 30, 4, 51, 45, 47, 31, 25, 63, 51, 4, 8, 51, 8, 4, 26, 5, 51, 62, 14, 20, 20, 51, 2, 25, 51, 47, 51, 15, 47, 15, 15, 25, 29, 25, 63, 51, 26, 25, 25, 63, 51, 4, 34, 51, 30, 17, 47, 20, 20, 51, 26, 4, 29, 15, 50, 51, 50, 25, 20, 63, 59, 51, 56, 50, 25, 8, 51, 2, 25, 14, 8, 45, 51, 47, 30, 57, 25, 63, 5, 51, 26, 50, 25, 29, 25, 51, 47, 20, 20, 51, 15, 50, 52, 51, 2, 25, 47, 27, 15, 52, 51, 20, 14, 25, 30, 5, 51, 62, 50, 25, 29, 25, 51, 47, 20, 20, 51, 15, 50, 25, 51, 15, 29, 25, 47, 30, 27, 29, 25, 51, 4, 34, 51, 15, 50, 52, 51, 20, 27, 30, 15, 52, 51, 63, 47, 52, 30, 33, 51, 56, 4, 51, 30, 47, 52, 5, 51, 26, 14, 15, 50, 14, 8, 51, 15, 50, 14, 8, 25, 51, 4, 26, 8, 51, 63, 25, 25, 3, 51, 30, 27, 8, 57, 25, 8, 51, 25, 52, 25, 30, 5, 51, 62, 25, 29, 25, 51, 47, 8, 51, 47, 20, 20, 21, 25, 47, 15, 14, 8, 45, 51, 30, 50, 47, 17, 25, 5, 51, 47, 8, 63, 51, 15, 50, 29, 14, 34, 15, 20, 25, 30, 30, 51, 3, 29, 47, 14, 30, 25, 37, 51, 11, 4, 26, 51, 17, 27, 35, 50, 51, 17, 4, 29, 25, 51, 3, 29, 47, 14, 30, 25, 51, 63, 25, 30, 25, 29, 16, 63, 51, 15, 50, 52, 51, 2, 25, 47, 27, 15, 52, 30, 51, 27, 30, 25, 5, 51, 60, 34, 51, 15, 50, 4, 27, 51, 35, 4, 27, 20, 63, 30, 15, 51, 47, 8, 30, 26, 25, 29, 51, 56, 50, 14, 30, 51, 34, 47, 14, 29, 51, 35, 50, 14, 20, 63, 51, 4, 34, 51, 17, 14, 8, 25, 51, 6, 50, 47, 20, 20, 51, 30, 27, 17, 51, 17, 52, 51, 35, 4, 27, 8, 15, 5, 51, 47, 8, 63, 51, 17, 47, 57, 25, 51, 17, 52, 51, 4, 20, 63, 51, 25, 44, 35, 27, 30, 25, 5, 51, 10, 29, 4, 16, 14, 8, 45, 51, 50, 14, 30, 51, 2, 25, 47, 27, 15, 52, 51, 2, 52, 51, 30, 27, 35, 35, 25, 30, 30, 14, 4, 8, 51, 15, 50, 14, 8, 25, 37, 51, 56, 50, 14, 30, 51, 26, 25, 29, 25, 51, 15, 4, 51, 2, 25, 51, 8, 25, 26, 51, 17, 47, 63, 25, 51, 26, 50, 25, 8, 51, 15, 50, 4, 27, 51, 47, 29, 15, 51, 4, 20, 63, 5, 51, 23, 8, 63, 51, 30, 25, 25, 51, 15, 50, 52, 51, 2, 20, 4, 4, 63, 51, 26, 47, 29, 17, 51, 26, 50, 25, 8, 51, 15, 50, 4, 27, 51, 34, 25, 25, 20, 30, 15, 51, 14, 15, 51, 35, 4, 20, 63, 37, 51, 54, 51, 9, 4, 4, 57, 51, 14, 8, 51, 15, 50, 52, 51, 45, 20, 47, 30, 30, 51, 47, 8, 63, 51, 15, 25, 20, 20, 51, 15, 50, 25, 51, 34, 47, 35, 25, 51, 15, 50, 4, 27, 51, 16, 14, 25, 26, 25, 30, 15, 5, 51, 28, 4, 26, 51, 14, 30, 51, 15, 50, 25, 51, 15, 14, 17, 25, 51, 15, 50, 47, 15, 51, 34, 47, 35, 25, 51, 30, 50, 4, 27, 20, 63, 51, 34, 4, 29, 17, 51, 47, 8, 4, 15, 50, 25, 29, 5, 51, 62, 50, 4, 30, 25, 51, 34, 29, 25, 30, 50, 51, 29, 25, 3, 47, 14, 29, 51, 14, 34, 51, 8, 4, 26, 51, 15, 50, 4, 27, 51, 8, 4, 15, 51, 29, 25, 8, 25, 26, 25, 30, 15, 5, 51, 56, 50, 4, 27, 51, 63, 4, 30, 15, 51, 2, 25, 45, 27, 14, 20, 25, 51, 15, 50, 25, 51, 26, 4, 29, 20, 63, 5, 51, 27, 8, 2, 20, 25, 30, 30, 51, 30, 4, 17, 25, 51, 17, 4, 15, 50, 25, 29, 37, 51, 61, 4, 29, 51, 26, 50, 25, 29, 25, 51, 14, 30, 51, 30, 50, 25, 51, 30, 4, 51, 34, 47, 14, 29, 51, 26, 50, 4, 30, 25, 51, 27, 8, 25, 47, 29, 25, 63, 51, 26, 4, 17, 2, 51, 41, 14, 30, 63, 47, 14, 8, 30, 51, 15, 50, 25, 51, 15, 14, 20, 20, 47, 45, 25, 51, 4, 34, 51, 15, 50, 52, 51, 50, 27, 30, 2, 47, 8, 63, 29, 52, 19, 51, 49, 29, 51, 26, 50, 4, 51, 14, 30, 51, 50, 25, 51, 30, 4, 51, 34, 4, 8, 63, 51, 26, 14, 20, 20, 51, 2, 25, 51, 15, 50, 25, 51, 15, 4, 17, 2, 51, 49, 34, 51, 50, 14, 30, 51, 30, 25, 20, 34, 21, 20, 4, 16, 25, 51, 15, 4, 51, 30, 15, 4, 3, 51, 3, 4, 30, 15, 25, 29, 14, 15, 52, 19, 51, 56, 50, 4, 27, 51, 47, 29, 15, 51, 15, 50, 52, 51, 17, 4, 15, 50, 25, 29, 30, 51, 45, 20, 47, 30, 30, 51, 47, 8, 63, 51, 30, 50, 25, 51, 14, 8, 51, 15, 50, 25, 25, 51, 32, 47, 20, 20, 30, 51, 2, 47, 35, 57, 51, 15, 50, 25, 51, 20, 4, 16, 25, 20, 52, 51, 23, 3, 29, 14, 20, 51, 4, 34, 51, 50, 25, 29, 51, 3, 29, 14, 17, 25, 5, 51, 6, 4, 51, 15, 50, 4, 27, 51, 15, 50, 29, 4, 27, 45, 50, 51, 26, 14, 8, 63, 4, 26, 30, 51, 4, 34, 51, 15, 50, 14, 8, 25, 51, 47, 45, 25, 51, 30, 50, 47, 20, 15, 51, 30, 25, 25, 5, 51, 41, 25, 30, 3, 14, 15, 25, 51, 4, 34, 51, 26, 29, 14, 8, 57, 20, 25, 30, 51, 15, 50, 14, 30, 51, 15, 50, 52, 51, 45, 4, 20, 63, 25, 8, 51, 15, 14, 17, 25, 37, 51, 22, 27, 15, 51, 14, 34, 51, 15, 50, 4, 27, 51, 20, 14, 16, 25, 51, 29, 25, 17, 25, 17, 2, 25, 29, 25, 63, 51, 8, 4, 15, 51, 15, 4, 51, 2, 25, 5, 51, 41, 14, 25, 51, 30, 14, 8, 45, 20, 25, 51, 47, 8, 63, 51, 15, 50, 14, 8, 25, 51, 14, 17, 47, 45, 25, 51, 63, 14, 25, 30, 51, 26, 14, 15, 50, 51, 15, 50, 25, 25, 37, 51, 13, 51, 46, 8, 15, 50, 29, 14, 34, 15, 52, 51, 20, 4, 16, 25, 20, 14, 8, 25, 30, 30, 51, 26, 50, 52, 51, 63, 4, 30, 15, 51, 15, 50, 4, 27, 51, 30, 3, 25, 8, 63, 5, 51, 46, 3, 4, 8, 51, 15, 50, 52, 51, 30, 25, 20, 34, 51, 15, 50, 52, 51, 2, 25, 47, 27, 15, 52, 30, 51, 20, 25, 45, 47, 35, 52, 19, 51, 28, 47, 15, 27, 29, 25, 30, 51, 2, 25, 7, 27, 25, 30, 15, 51, 45, 14, 16, 25, 30, 51, 8, 4, 15, 50, 14, 8, 45, 51, 2, 27, 15, 51, 63, 4, 15, 50, 51, 20, 25, 8, 63, 5, 51, 23, 8, 63, 51, 2, 25, 14, 8, 45, 51, 34, 29, 47, 8, 57, 51, 30, 50, 25, 51, 20, 25, 8, 63, 30, 51, 15, 4, 51, 15, 50, 4, 30, 25, 51, 47, 29, 25, 51, 34, 29, 25, 25, 59, 51, 56, 50, 25, 8, 51, 2, 25, 47, 27, 15, 25, 4, 27, 30, 51, 8, 14, 45, 45, 47, 29, 63, 51, 26, 50, 52, 51, 63, 4, 30, 15, 51, 15, 50, 4, 27, 51, 47, 2, 27, 30, 25, 5, 51, 56, 50, 25, 51, 2, 4, 27, 8, 15, 25, 4, 27, 30, 51, 20, 47, 29, 45, 25, 30, 30, 51, 45, 14, 16, 25, 8, 51, 15, 50, 25, 25, 51, 15, 4, 51, 45, 14, 16, 25, 19, 51, 10, 29, 4, 34, 14, 15, 20, 25, 30, 30, 51, 27, 30, 27, 29, 25, 29, 51, 26, 50, 52, 51, 63, 4, 30, 15, 51, 15, 50, 4, 27, 51, 27, 30, 25, 51, 6, 4, 51, 45, 29, 25, 47, 15, 51, 47, 51, 30, 27, 17, 51, 4, 34, 51, 30, 27, 17, 30, 51, 52, 25, 15, 51, 35, 47, 8, 30, 15, 51, 8, 4, 15, 51, 20, 14, 16, 25, 19, 51, 61, 4, 29, 51, 50, 47, 16, 14, 8, 45, 51, 15, 29, 47, 34, 34, 14, 35, 51, 26, 14, 15, 50, 51, 15, 50, 52, 51, 30, 25, 20, 34, 51, 47, 20, 4, 8, 25, 5, 51, 56, 50, 4, 27, 51, 4, 34, 51, 15, 50, 52, 51, 30, 25, 20, 34, 51, 15, 50, 52, 51, 30, 26, 25, 25, 15, 51, 30, 25, 20, 34, 51, 63, 4, 30, 15, 51, 63, 25, 35, 25, 14, 16, 25, 5, 51, 56, 50, 25, 8, 51, 50, 4, 26, 51, 26, 50, 25, 8, 51, 8, 47, 15, 27, 29, 25, 51, 35, 47, 20, 20, 30, 51, 15, 50, 25, 25, 51, 15, 4, 51, 2, 25, 51, 45, 4, 8, 25, 5, 51, 62, 50, 47, 15, 51, 47, 35, 35, 25, 3, 15, 47, 2, 20, 25, 51, 47, 27, 63, 14, 15, 51, 35, 47, 8, 30, 15, 51, 15, 50, 4, 27, 51, 20, 25, 47, 16, 25, 19, 51, 56, 50, 52, 51, 27, 8, 27, 30, 25, 63, 51, 2, 25, 47, 27, 15, 52, 51, 17, 27, 30, 15, 51, 2, 25, 51, 15, 4, 17, 2, 25, 63, 51, 26, 14, 15, 50, 51, 15, 50, 25, 25, 5, 51, 62, 50, 14, 35, 50, 51, 27, 30, 25, 63, 51, 20, 14, 16, 25, 30, 51, 15, 50, 51, 25, 44, 25, 35, 27, 15, 4, 29, 51, 15, 4, 51, 2, 25, 37, 51, 53, 51, 56, 50, 4, 30, 25, 51, 50, 4, 27, 29, 30, 51, 15, 50, 47, 15, 51, 26, 14, 15, 50, 51, 45, 25, 8, 15, 20, 25, 51, 26, 4, 29, 57, 51, 63, 14, 63, 51, 34, 29, 47, 17, 25, 51, 56, 50, 25, 51, 20, 4, 16, 25, 20, 52, 51, 45, 47, 31, 25, 51, 26, 50, 25, 29, 25, 51, 25, 16, 25, 29, 52, 51, 25, 52, 25, 51, 63, 4, 15, 50, 51, 63, 26, 25, 20, 20, 51, 62, 14, 20, 20, 51, 3, 20, 47, 52, 51, 15, 50, 25, 51, 15, 52, 29, 47, 8, 15, 30, 51, 15, 4, 51, 15, 50, 25, 51, 16, 25, 29, 52, 51, 30, 47, 17, 25, 5, 51, 23, 8, 63, 51, 15, 50, 47, 15, 51, 27, 8, 34, 47, 14, 29, 51, 26, 50, 14, 35, 50, 51, 34, 47, 14, 29, 20, 52, 51, 63, 4, 15, 50, 51, 25, 44, 35, 25, 20, 59, 51, 61, 4, 29, 51, 8, 25, 16, 25, 29, 21, 29, 25, 30, 15, 14, 8, 45, 51, 15, 14, 17, 25, 51, 20, 25, 47, 63, 30, 51, 30, 27, 17, 17, 25, 29, 51, 4, 8, 51, 56, 4, 51, 50, 14, 63, 25, 4, 27, 30, 51, 26, 14, 8, 15, 25, 29, 51, 47, 8, 63, 51, 35, 4, 8, 34, 4, 27, 8, 63, 30, 51, 50, 14, 17, 51, 15, 50, 25, 29, 25, 5, 51, 6, 47, 3, 51, 35, 50, 25, 35, 57, 25, 63, 51, 26, 14, 15, 50, 51, 34, 29, 4, 30, 15, 51, 47, 8, 63, 51, 20, 27, 30, 15, 52, 51, 20, 25, 47, 16, 25, 30, 51, 7, 27, 14, 15, 25, 51, 45, 4, 8, 25, 5, 51, 22, 25, 47, 27, 15, 52, 51, 4, 25, 29, 21, 30, 8, 4, 26, 25, 63, 51, 47, 8, 63, 51, 2, 47, 29, 25, 8, 25, 30, 30, 51, 25, 16, 25, 29, 52, 51, 26, 50, 25, 29, 25, 59, 51, 56, 50, 25, 8, 51, 26, 25, 29, 25, 51, 8, 4, 15, 51, 30, 27, 17, 17, 25, 29, 30, 51, 63, 14, 30, 15, 14, 20, 20, 47, 15, 14, 4, 8, 51, 20, 25, 34, 15, 51, 23, 51, 20, 14, 7, 27, 14, 63, 51, 3, 29, 14, 30, 4, 8, 25, 29, 51, 3, 25, 8, 15, 51, 14, 8, 51, 26, 47, 20, 20, 30, 51, 4, 34, 51, 45, 20, 47, 30, 30, 5, 51, 22, 25, 47, 27, 15, 52, 30, 51, 25, 34, 34, 25, 35, 15, 51, 26, 14, 15, 50, 51, 2, 25, 47, 27, 15, 52, 51, 26, 25, 29, 25, 51, 2, 25, 29, 25, 34, 15, 5, 51, 28, 4, 29, 51, 14, 15, 51, 8, 4, 29, 51, 8, 4, 51, 29, 25, 17, 25, 17, 2, 29, 47, 8, 35, 25, 51, 26, 50, 47, 15, 51, 14, 15, 51, 26, 47, 30, 37, 51, 22, 27, 15, 51, 34, 20, 4, 26, 25, 29, 30, 51, 63, 14, 30, 15, 14, 20, 20, 25, 63, 51, 15, 50, 4, 27, 45, 50, 51, 15, 50, 25, 52, 51, 26, 14, 15, 50, 51, 26, 14, 8, 15, 25, 29, 51, 17, 25, 25, 15, 5, 51, 9, 25, 25, 30, 25, 51, 2, 27, 15, 51, 15, 50, 25, 14, 29, 51, 30, 50, 4, 26, 5, 51, 15, 50, 25, 14, 29, 51, 30, 27, 2, 30, 15, 47, 8, 35, 25, 51, 30, 15, 14, 20, 20, 51, 20, 14, 16, 25, 30, 51, 30, 26, 25, 25, 15, 37, 51, 24, 51, 56, 50, 25, 8, 51, 20, 25, 15, 51, 8, 4, 15, 51, 26, 14, 8, 15, 25, 29, 30, 51, 29, 47, 45, 45, 25, 63, 51, 50, 47, 8, 63, 51, 63, 25, 34, 47, 35, 25, 5, 51, 60, 8, 51, 15, 50, 25, 25, 51, 15, 50, 52, 51, 30, 27, 17, 17, 25, 29, 51, 25, 29, 25, 51, 15, 50, 4, 27, 51, 2, 25, 51, 63, 14, 30, 15, 14, 20, 20, 25, 63, 59, 51, 36, 47, 57, 25, 51, 30, 26, 25, 25, 15, 51, 30, 4, 17, 25, 51, 16, 14, 47, 20, 33, 51, 15, 29, 25, 47, 30, 27, 29, 25, 51, 15, 50, 4, 27, 51, 30, 4, 17, 25, 51, 3, 20, 47, 35, 25, 5, 51, 62, 14, 15, 50, 51, 2, 25, 47, 27, 15, 52, 30, 51, 15, 29, 25, 47, 30, 27, 29, 25, 51, 25, 29, 25, 51, 14, 15, 51, 2, 25, 51, 30, 25, 20, 34, 21, 57, 14, 20, 20, 25, 63, 59, 51, 56, 50, 47, 15, 51, 27, 30, 25, 51, 14, 30, 51, 8, 4, 15, 51, 34, 4, 29, 2, 14, 63, 63, 25, 8, 51, 27, 30, 27, 29, 52, 5, 51, 62, 50, 14, 35, 50, 51, 50, 47, 3, 3, 14, 25, 30, 51, 15, 50, 4, 30, 25, 51, 15, 50, 47, 15, 51, 3, 47, 52, 51, 15, 50, 25, 51, 26, 14, 20, 20, 14, 8, 45, 51, 20, 4, 47, 8, 33, 51, 56, 50, 47, 15, 30, 51, 34, 4, 29, 51, 15, 50, 52, 51, 30, 25, 20, 34, 51, 15, 4, 51, 2, 29, 25, 25, 63, 51, 47, 8, 4, 15, 50, 25, 29, 51, 15, 50, 25, 25, 5, 51, 49, 29, 51, 15, 25, 8, 51, 15, 14, 17, 25, 30, 51, 50, 47, 3, 3, 14, 25, 29, 51, 2, 25, 51, 14, 15, 51, 15, 25, 8, 51, 34, 4, 29, 51, 4, 8, 25, 5, 51, 56, 25, 8, 51, 15, 14, 17, 25, 30, 51, 15, 50, 52, 51, 30, 25, 20, 34, 51, 26, 25, 29, 25, 51, 50, 47, 3, 3, 14, 25, 29, 51, 15, 50, 47, 8, 51, 15, 50, 4, 27, 51, 47, 29, 15, 5, 51, 60, 34, 51, 15, 25, 8, 51, 4, 34, 51, 15, 50, 14, 8, 25, 51, 15, 25, 8, 51, 15, 14, 17, 25, 30, 51, 29, 25, 34, 14, 45, 27, 29, 25, 63, 51, 15, 50, 25, 25, 59, 51, 56, 50, 25, 8, 51, 26, 50, 47, 15, 51, 35, 4, 27, 20, 63, 51, 63, 25, 47, 15, 50, 51, 63, 4, 51, 14, 34, 51, 15, 50, 4, 27, 51, 30, 50, 4, 27, 20, 63, 30, 15, 51, 63, 25, 3, 47, 29, 15, 5, 51, 9, 25, 47, 16, 14, 8, 45, 51, 15, 50, 25, 25, 51, 20, 14, 16, 14, 8, 45, 51, 14, 8, 51, 3, 4, 30, 15, 25, 29, 14, 15, 52, 19, 51, 22, 25, 51, 8, 4, 15, 51, 30, 25, 20, 34, 21, 26, 14, 20, 20, 25, 63, 51, 34, 4, 29, 51, 15, 50, 4, 27, 51, 47, 29, 15, 51, 17, 27, 35, 50, 51, 15, 4, 4, 51, 34, 47, 14, 29, 5, 51, 56, 4, 51, 2, 25, 51, 63, 25, 47, 15, 50, 30, 51, 35, 4, 8, 7, 27, 25, 30, 15, 51, 47, 8, 63, 51, 17, 47, 57, 25, 51, 26, 4, 29, 17, 30, 51, 15, 50, 14, 8, 25, 51, 50, 25, 14, 29, 37, 51, 18, 51, 9, 4, 51, 14, 8, 51, 15, 50, 25, 51, 4, 29, 14, 25, 8, 15, 51, 26, 50, 25, 8, 51, 15, 50, 25, 51, 45, 29, 47, 35, 14, 4, 27, 30, 51, 20, 14, 45, 50, 15, 51, 9, 14, 34, 15, 30, 51, 27, 3, 51, 50, 14, 30, 51, 2, 27, 29, 8, 14, 8, 45, 51, 50, 25, 47, 63, 5, 51, 25, 47, 35, 50, 51, 27, 8, 63, 25, 29, 51, 25, 52, 25, 51, 41, 4, 15, 50, 51, 50, 4, 17, 47, 45, 25, 51, 15, 4, 51, 50, 14, 30, 51, 8, 25, 26, 21, 47, 3, 3, 25, 47, 29, 14, 8, 45, 51, 30, 14, 45, 50, 15, 5, 51, 6, 25, 29, 16, 14, 8, 45, 51, 26, 14, 15, 50, 51, 20, 4, 4, 57, 30, 51, 50, 14, 30, 51, 30, 47, 35, 29, 25, 63, 51, 17, 47, 40, 25, 30, 15, 52, 5, 51, 23, 8, 63, 51, 50, 47, 16, 14, 8, 45, 51, 35, 20, 14, 17, 2, 25, 63, 51, 15, 50, 25, 51, 30, 15, 25, 25, 3, 21, 27, 3, 51, 50, 25, 47, 16, 25, 8, 20, 52, 51, 50, 14, 20, 20, 5, 51, 58, 25, 30, 25, 17, 2, 20, 14, 8, 45, 51, 30, 15, 29, 4, 8, 45, 51, 52, 4, 27, 15, 50, 51, 14, 8, 51, 50, 14, 30, 51, 17, 14, 63, 63, 20, 25, 51, 47, 45, 25, 5, 51, 0, 25, 15, 51, 17, 4, 29, 15, 47, 20, 51, 20, 4, 4, 57, 30, 51, 47, 63, 4, 29, 25, 51, 50, 14, 30, 51, 2, 25, 47, 27, 15, 52, 51, 30, 15, 14, 20, 20, 5, 51, 23, 15, 15, 25, 8, 63, 14, 8, 45, 51, 4, 8, 51, 50, 14, 30, 51, 45, 4, 20, 63, 25, 8, 51, 3, 14, 20, 45, 29, 14, 17, 47, 45, 25, 59, 51, 22, 27, 15, 51, 26, 50, 25, 8, 51, 34, 29, 4, 17, 51, 50, 14, 45, 50, 17, 4, 30, 15, 51, 3, 14, 15, 35, 50, 51, 26, 14, 15, 50, 51, 26, 25, 47, 29, 52, 51, 35, 47, 29, 5, 51, 9, 14, 57, 25, 51, 34, 25, 25, 2, 20, 25, 51, 47, 45, 25, 51, 50, 25, 51, 29, 25, 25, 20, 25, 15, 50, 51, 34, 29, 4, 17, 51, 15, 50, 25, 51, 63, 47, 52, 5, 51, 56, 50, 25, 51, 25, 52, 25, 30, 51, 39, 34, 4, 29, 25, 51, 63, 27, 15, 25, 4, 27, 30, 1, 51, 8, 4, 26, 51, 35, 4, 8, 16, 25, 29, 15, 25, 63, 51, 47, 29, 25, 51, 61, 29, 4, 17, 51, 50, 14, 30, 51, 20, 4, 26, 51, 15, 29, 47, 35, 15, 51, 47, 8, 63, 51, 20, 4, 4, 57, 51, 47, 8, 4, 15, 50, 25, 29, 51, 26, 47, 52, 59, 51, 6, 4, 51, 15, 50, 4, 27, 5, 51, 15, 50, 52, 51, 30, 25, 20, 34, 51, 4, 27, 15, 21, 45, 4, 14, 8, 45, 51, 14, 8, 51, 15, 50, 52, 51, 8, 4, 4, 8, 59, 51, 46, 8, 20, 4, 4, 57, 25, 63, 51, 4, 8, 51, 63, 14, 25, 30, 15, 51, 27, 8, 20, 25, 30, 30, 51, 15, 50, 4, 27, 51, 45, 25, 15, 51, 47, 51, 30, 4, 8, 37, 51, 42, 51, 36, 27, 30, 14, 35, 51, 15, 4, 51, 50, 25, 47, 29, 5, 51, 26, 50, 52, 51, 50, 25, 47, 29, 30, 15, 51, 15, 50, 4, 27, 51, 17, 27, 30, 14, 35, 51, 30, 47, 63, 20, 52, 19, 51, 6, 26, 25, 25, 15, 30, 51, 26, 14, 15, 50, 51, 30, 26, 25, 25, 15, 30, 51, 26, 47, 29, 51, 8, 4, 15, 5, 51, 40, 4, 52, 51, 63, 25, 20, 14, 45, 50, 15, 30, 51, 14, 8, 51, 40, 4, 52, 59, 51, 62, 50, 52, 51, 20, 4, 16, 30, 15, 51, 15, 50, 4, 27, 51, 15, 50, 47, 15, 51, 26, 50, 14, 35, 50, 51, 15, 50, 4, 27, 51, 29, 25, 35, 25, 14, 16, 30, 15, 51, 8, 4, 15, 51, 45, 20, 47, 63, 20, 52, 5, 51, 49, 29, 51, 25, 20, 30, 25, 51, 29, 25, 35, 25, 14, 16, 30, 15, 51, 26, 14, 15, 50, 51, 3, 20, 25, 47, 30, 27, 29, 25, 51, 15, 50, 14, 8, 25, 51, 47, 8, 8, 4, 52, 19, 51, 60, 34, 51, 15, 50, 25, 51, 15, 29, 27, 25, 51, 35, 4, 8, 35, 4, 29, 63, 51, 4, 34, 51, 26, 25, 20, 20, 21, 15, 27, 8, 25, 63, 51, 30, 4, 27, 8, 63, 30, 5, 51, 22, 52, 51, 27, 8, 14, 4, 8, 30, 51, 17, 47, 29, 29, 14, 25, 63, 51, 63, 4, 51, 4, 34, 34, 25, 8, 63, 51, 15, 50, 14, 8, 25, 51, 25, 47, 29, 5, 51, 56, 50, 25, 52, 51, 63, 4, 51, 2, 27, 15, 51, 30, 26, 25, 25, 15, 20, 52, 51, 35, 50, 14, 63, 25, 51, 15, 50, 25, 25, 5, 51, 26, 50, 4, 51, 35, 4, 8, 34, 4, 27, 8, 63, 30, 51, 60, 8, 51, 30, 14, 8, 45, 20, 25, 8, 25, 30, 30, 51, 15, 50, 25, 51, 3, 47, 29, 15, 30, 51, 15, 50, 47, 15, 51, 15, 50, 4, 27, 51, 30, 50, 4, 27, 20, 63, 30, 15, 51, 2, 25, 47, 29, 59, 51, 36, 47, 29, 57, 51, 50, 4, 26, 51, 4, 8, 25, 51, 30, 15, 29, 14, 8, 45, 51, 30, 26, 25, 25, 15, 51, 50, 27, 30, 2, 47, 8, 63, 51, 15, 4, 51, 47, 8, 4, 15, 50, 25, 29, 5, 51, 6, 15, 29, 14, 57, 25, 30, 51, 25, 47, 35, 50, 51, 14, 8, 51, 25, 47, 35, 50, 51, 2, 52, 51, 17, 27, 15, 27, 47, 20, 51, 4, 29, 63, 25, 29, 14, 8, 45, 33, 51, 58, 25, 30, 25, 17, 2, 20, 14, 8, 45, 51, 30, 14, 29, 25, 5, 51, 47, 8, 63, 51, 35, 50, 14, 20, 63, 5, 51, 47, 8, 63, 51, 50, 47, 3, 3, 52, 51, 17, 4, 15, 50, 25, 29, 5, 51, 62, 50, 4, 51, 47, 20, 20, 51, 14, 8, 51, 4, 8, 25, 5, 51, 4, 8, 25, 51, 3, 20, 25, 47, 30, 14, 8, 45, 51, 8, 4, 15, 25, 51, 63, 4, 51, 30, 14, 8, 45, 59, 51, 62, 50, 4, 30, 25, 51, 30, 3, 25, 25, 35, 50, 20, 25, 30, 30, 51, 30, 4, 8, 45, 51, 2, 25, 14, 8, 45, 51, 17, 47, 8, 52, 5, 51, 30, 25, 25, 17, 14, 8, 45, 51, 4, 8, 25, 5, 51, 6, 14, 8, 45, 30, 51, 15, 50, 14, 30, 51, 15, 4, 51, 15, 50, 25, 25, 5, 51, 56, 50, 4, 27, 51, 30, 14, 8, 45, 20, 25, 51, 26, 14, 20, 15, 51, 3, 29, 4, 16, 25, 51, 8, 4, 8, 25, 37, 51, 38, 51, 60, 30, 51, 14, 15, 51, 34, 4, 29, 51, 34, 25, 47, 29, 51, 15, 4, 51, 26, 25, 15, 51, 47, 51, 26, 14, 63, 4, 26, 30, 51, 25, 52, 25, 5, 51, 56, 50, 47, 15, 51, 15, 50, 4, 27, 51, 35, 4, 8, 30, 27, 17, 30, 15, 51, 15, 50, 52, 51, 30, 25, 20, 34, 51, 14, 8, 51, 30, 14, 8, 45, 20, 25, 51, 20, 14, 34, 25, 19, 51, 23, 50, 5, 51, 14, 34, 51, 15, 50, 4, 27, 51, 14, 30, 30, 27, 25, 20, 25, 30, 30, 51, 30, 50, 47, 20, 15, 51, 50, 47, 3, 51, 15, 4, 51, 63, 14, 25, 5, 51, 56, 50, 25, 51, 26, 4, 29, 20, 63, 51, 26, 14, 20, 20, 51, 26, 47, 14, 20, 51, 15, 50, 25, 25, 51, 20, 14, 57, 25, 51, 47, 51, 17, 47, 57, 25, 20, 25, 30, 30, 51, 26, 14, 34, 25, 5, 51, 56, 50, 25, 51, 26, 4, 29, 20, 63, 51, 26, 14, 20, 20, 51, 2, 25, 51, 15, 50, 52, 51, 26, 14, 63, 4, 26, 51, 47, 8, 63, 51, 30, 15, 14, 20, 20, 51, 26, 25, 25, 3, 5, 51, 56, 50, 47, 15, 51, 15, 50, 4, 27, 51, 8, 4, 51, 34, 4, 29, 17, 51, 4, 34, 51, 15, 50, 25, 25, 51, 50, 47, 30, 15, 51, 20, 25, 34, 15, 51, 2, 25, 50, 14, 8, 63, 5, 51, 62, 50, 25, 8, 51, 25, 16, 25, 29, 52, 51, 3, 29, 14, 16, 47, 15, 25, 51, 26, 14, 63, 4, 26, 51, 26, 25, 20, 20, 51, 17, 47, 52, 51, 57, 25, 25, 3, 5, 51, 22, 52, 51, 35, 50, 14, 20, 63, 29, 25, 8, 30, 51, 25, 52, 25, 30, 5, 51, 50, 25, 29, 51, 50, 27, 30, 2, 47, 8, 63, 30, 51, 30, 50, 47, 3, 25, 51, 14, 8, 51, 17, 14, 8, 63, 59, 51, 9, 4, 4, 57, 51, 26, 50, 47, 15, 51, 47, 8, 51, 27, 8, 15, 50, 29, 14, 34, 15, 51, 14, 8, 51, 15, 50, 25, 51, 26, 4, 29, 20, 63, 51, 63, 4, 15, 50, 51, 30, 3, 25, 8, 63, 51, 6, 50, 14, 34, 15, 30, 51, 2, 27, 15, 51, 50, 14, 30, 51, 3, 20, 47, 35, 25, 5, 51, 34, 4, 29, 51, 30, 15, 14, 20, 20, 51, 15, 50, 25, 51, 26, 4, 29, 20, 63, 51, 25, 8, 40, 4, 52, 30, 51, 14, 15, 33, 51, 22, 27, 15, 51, 2, 25, 47, 27, 15, 52, 30, 51, 26, 47, 30, 15, 25, 51, 50, 47, 15, 50, 51, 14, 8, 51, 15, 50, 25, 51, 26, 4, 29, 20, 63, 51, 47, 8, 51, 25, 8, 63, 5, 51, 23, 8, 63, 51, 57, 25, 3, 15, 51, 27, 8, 27, 30, 25, 63, 51, 15, 50, 25, 51, 27, 30, 25, 29, 51, 30, 4, 51, 63, 25, 30, 15, 29, 4, 52, 30, 51, 14, 15, 59, 51, 28, 4, 51, 20, 4, 16, 25, 51, 15, 4, 26, 47, 29, 63, 51, 4, 15, 50, 25, 29, 30, 51, 14, 8, 51, 15, 50, 47, 15, 51, 2, 4, 30, 4, 17, 51, 30, 14, 15, 30, 51, 56, 50, 47, 15, 51, 4, 8, 51, 50, 14, 17, 30, 25, 20, 34, 51, 30, 27, 35, 50, 51, 17, 27, 29, 63, 29, 4, 27, 30, 51, 30, 50, 47, 17, 25, 51, 35, 4, 17, 17, 14, 15, 30, 37, 51, 43, 48, 51, 61, 4, 29, 51, 30, 50, 47, 17, 25, 51, 63, 25, 8, 52, 51, 15, 50, 47, 15, 51, 15, 50, 4, 27, 51, 2, 25, 47, 29, 30, 15, 51, 20, 4, 16, 25, 51, 15, 4, 51, 47, 8, 52, 51, 62, 50, 4, 51, 34, 4, 29, 51, 15, 50, 52, 51, 30, 25, 20, 34, 51, 47, 29, 15, 51, 30, 4, 51, 27, 8, 3, 29, 4, 16, 14, 63, 25, 8, 15, 37, 51, 12, 29, 47, 8, 15, 51, 14, 34, 51, 15, 50, 4, 27, 51, 26, 14, 20, 15, 5, 51, 15, 50, 4, 27, 51, 47, 29, 15, 51, 2, 25, 20, 4, 16, 25, 63, 51, 4, 34, 51, 17, 47, 8, 52, 5, 51, 22, 27, 15, 51, 15, 50, 47, 15, 51, 15, 50, 4, 27, 51, 8, 4, 8, 25, 51, 20, 4, 16, 30, 15, 51, 14, 30, 51, 17, 4, 30, 15, 51, 25, 16, 14, 63, 25, 8, 15, 59, 51, 61, 4, 29, 51, 15, 50, 4, 27, 51, 47, 29, 15, 51, 30, 4, 51, 3, 4, 30, 30, 25, 30, 30, 25, 63, 51, 26, 14, 15, 50, 51, 17, 27, 29, 63, 29, 4, 27, 30, 51, 50, 47, 15, 25, 5, 51, 56, 50, 47, 15, 51, 45, 47, 14, 8, 30, 15, 51, 15, 50, 52, 51, 30, 25, 20, 34, 51, 15, 50, 4, 27, 51, 30, 15, 14, 35, 57, 30, 15, 51, 8, 4, 15, 51, 15, 4, 51, 35, 4, 8, 30, 3, 14, 29, 25, 5, 51, 6, 25, 25, 57, 14, 8, 45, 51, 15, 50, 47, 15, 51, 2, 25, 47, 27, 15, 25, 4, 27, 30, 51, 29, 4, 4, 34, 51, 15, 4, 51, 29, 27, 14, 8, 47, 15, 25, 51, 62, 50, 14, 35, 50, 51, 15, 4, 51, 29, 25, 3, 47, 14, 29, 51, 30, 50, 4, 27, 20, 63, 51, 2, 25, 51, 15, 50, 52, 51, 35, 50, 14, 25, 34, 51, 63, 25, 30, 14, 29, 25, 59, 51, 49, 51, 35, 50, 47, 8, 45, 25, 51, 15, 50, 52, 51, 15, 50, 4, 27, 45, 50, 15, 5, 51, 15, 50, 47, 15, 51, 60, 51, 17, 47, 52, 51, 35, 50, 47, 8, 45, 25, 51, 17, 52, 51, 17, 14, 8, 63, 5, 51, 6, 50, 47, 20, 20, 51, 50, 47, 15, 25, 51, 2, 25, 51, 34, 47, 14, 29, 25, 29, 51, 20, 4, 63, 45, 25, 63, 51, 15, 50, 47, 8, 51, 45, 25, 8, 15, 20, 25, 51, 20, 4, 16, 25, 19, 51, 22, 25, 51, 47, 30, 51, 15, 50, 52, 51, 3, 29, 25, 30, 25, 8, 35, 25, 51, 14, 30, 51, 45, 29, 47, 35, 14, 4, 27, 30, 51, 47, 8, 63, 51, 57, 14, 8, 63, 5, 51, 49, 29, 51, 15, 4, 51, 15, 50, 52, 51, 30, 25, 20, 34, 51, 47, 15, 51, 20, 25, 47, 30, 15, 51, 57, 14, 8, 63, 21, 50, 25, 47, 29, 15, 25, 63, 51, 3, 29, 4, 16, 25, 5, 51, 36, 47, 57, 25, 51, 15, 50, 25, 25, 51, 47, 8, 4, 15, 50, 25, 29, 51, 30, 25, 20, 34, 51, 34, 4, 29, 51, 20, 4, 16, 25, 51, 4, 34, 51, 17, 25, 5, 51, 56, 50, 47, 15, 51, 2, 25, 47, 27, 15, 52, 51, 30, 15, 14, 20, 20, 51, 17, 47, 52, 51, 20, 14, 16, 25, 51, 14, 8, 51, 15, 50, 14, 8, 25, 51, 4, 29, 51, 15, 50, 25, 25, 37, 51, 43, 43, 51, 23, 30, 51, 34, 47, 30, 15, 51, 47, 30, 51, 15, 50, 4, 27, 51, 30, 50, 47, 20, 15, 51, 26, 47, 8, 25, 51, 30, 4, 51, 34, 47, 30, 15, 51, 15, 50, 4, 27, 51, 45, 29, 4, 26, 30, 15, 5, 51, 60, 8, 51, 4, 8, 25, 51, 4, 34, 51, 15, 50, 14, 8, 25, 5, 51, 34, 29, 4, 17, 51, 15, 50, 47, 15, 51, 26, 50, 14, 35, 50, 51, 15, 50, 4, 27, 51, 63, 25, 3, 47, 29, 15, 25, 30, 15, 5, 51, 23, 8, 63, 51, 15, 50, 47, 15, 51, 34, 29, 25, 30, 50, 51, 2, 20, 4, 4, 63, 51, 26, 50, 14, 35, 50, 51, 52, 4, 27, 8, 45, 20, 52, 51, 15, 50, 4, 27, 51, 2, 25, 30, 15, 4, 26, 30, 15, 5, 51, 56, 50, 4, 27, 51, 17, 47, 52, 30, 15, 51, 35, 47, 20, 20, 51, 15, 50, 14, 8, 25, 5, 51, 26, 50, 25, 8, 51, 15, 50, 4, 27, 51, 34, 29, 4, 17, 51, 52, 4, 27, 15, 50, 51, 35, 4, 8, 16, 25, 29, 15, 25, 30, 15, 5, 51, 11, 25, 29, 25, 14, 8, 51, 20, 14, 16, 25, 30, 51, 26, 14, 30, 63, 4, 17, 5, 51, 2, 25, 47, 27, 15, 52, 5, 51, 47, 8, 63, 51, 14, 8, 35, 29, 25, 47, 30, 25, 5, 51, 62, 14, 15, 50, 4, 27, 15, 51, 15, 50, 14, 30, 51, 34, 4, 20, 20, 52, 5, 51, 47, 45, 25, 5, 51, 47, 8, 63, 51, 35, 4, 20, 63, 51, 63, 25, 35, 47, 52, 5, 51, 60, 34, 51, 47, 20, 20, 51, 26, 25, 29, 25, 51, 17, 14, 8, 63, 25, 63, 51, 30, 4, 5, 51, 15, 50, 25, 51, 15, 14, 17, 25, 30, 51, 30, 50, 4, 27, 20, 63, 51, 35, 25, 47, 30, 25, 5, 51, 23, 8, 63, 51, 15, 50, 29, 25, 25, 30, 35, 4, 29, 25, 51, 52, 25, 47, 29, 51, 26, 4, 27, 20, 63, 51, 17, 47, 57, 25, 51, 15, 50, 25, 51, 26, 4, 29, 20, 63, 51, 47, 26, 47, 52, 59, 51, 9, 25, 15, 51, 15, 50, 4, 30, 25, 51, 26, 50, 4, 17, 51, 8, 47, 15, 27, 29, 25, 51, 50, 47, 15, 50, 51, 8, 4, 15, 51, 17, 47, 63, 25, 51, 34, 4, 29, 51, 30, 15, 4, 29, 25, 5, 51, 11, 47, 29, 30, 50, 5, 51, 34, 25, 47, 15, 27, 29, 25, 20, 25, 30, 30, 5, 51, 47, 8, 63, 51, 29, 27, 63, 25, 5, 51, 2, 47, 29, 29, 25, 8, 20, 52, 51, 3, 25, 29, 14, 30, 50, 59, 51, 9, 4, 4, 57, 51, 26, 50, 4, 17, 51, 30, 50, 25, 51, 2, 25, 30, 15, 51, 25, 8, 63, 4, 26, 25, 63, 5, 51, 30, 50, 25, 51, 45, 47, 16, 25, 51, 15, 50, 25, 25, 51, 17, 4, 29, 25, 33, 51, 62, 50, 14, 35, 50, 51, 2, 4, 27, 8, 15, 25, 4, 27, 30, 51, 45, 14, 34, 15, 51, 15, 50, 4, 27, 51, 30, 50, 4, 27, 20, 63, 30, 15, 51, 14, 8, 51, 2, 4, 27, 8, 15, 52, 51, 35, 50, 25, 29, 14, 30, 50, 59, 51, 6, 50, 25, 51, 35, 47, 29, 16, 25, 63, 51, 15, 50, 25, 25, 51, 34, 4, 29, 51, 50, 25, 29, 51, 30, 25, 47, 20, 5, 51, 47, 8, 63, 51, 17, 25, 47, 8, 15, 51, 15, 50, 25, 29, 25, 2, 52, 5, 51, 56, 50, 4, 27, 51, 30, 50, 4, 27, 20, 63, 30, 15, 51, 3, 29, 14, 8, 15, 51, 17, 4, 29, 25, 5, 51, 8, 4, 15, 51, 20, 25, 15, 51, 15, 50, 47, 15, 51, 35, 4, 3, 52, 51, 63, 14, 25, 37]\n",
            "----------------------------------------------------\n",
            "data length :  6778\n"
          ],
          "name": "stdout"
        }
      ]
    },
    {
      "cell_type": "code",
      "metadata": {
        "id": "xX2IMTth8orG",
        "colab_type": "code",
        "colab": {}
      },
      "source": [
        "import numpy as np\n",
        "\n",
        "# hyperparameters\n",
        "\n",
        "iteration = 10\n",
        "sequence_length = 40\n",
        "batch_size = round((text_length/sequence_length)+0.5) # = math.ceil\n",
        "hidden_size = 500  # size of hidden layer of neurons.  \n",
        "learning_rate = 1e-1\n",
        "\n",
        "\n",
        "# model parameters\n",
        "\n",
        "W_xh = np.random.randn(hidden_size, num_chars)*0.01     # weight input -> hidden. \n",
        "W_hh = np.random.randn(hidden_size, hidden_size)*0.01   # weight hidden -> hidden\n",
        "W_hy = np.random.randn(num_chars, hidden_size)*0.01     # weight hidden -> output\n",
        "\n",
        "b_h = np.zeros((hidden_size, 1)) # hidden bias\n",
        "b_y = np.zeros((num_chars, 1)) # output bias\n",
        "\n",
        "h_prev = np.zeros((hidden_size,1)) # h_(t-1)"
      ],
      "execution_count": 0,
      "outputs": []
    },
    {
      "cell_type": "code",
      "metadata": {
        "id": "le_a_vfDF9nz",
        "colab_type": "code",
        "colab": {}
      },
      "source": [
        "def forwardprop(inputs, targets, h_prev):\n",
        "        \n",
        "    # Since the RNN receives the sequence, the weights are not updated during one sequence.\n",
        "    xs, hs, ys, ps = {}, {}, {}, {} # dictionary\n",
        "    hs[-1] = np.copy(h_prev) # Copy previous hidden state vector to -1 key value.\n",
        "    loss = 0 # loss initialization\n",
        "    \n",
        "    for t in range(len(inputs)): # t is a \"time step\" and is used as a key(dic).  \n",
        "        \n",
        "        xs[t] = np.zeros((num_chars,1)) \n",
        "        xs[t][inputs[t]] = 1\n",
        "        hs[t] = np.tanh(np.dot(W_xh, xs[t]) + np.dot(W_hh, hs[t-1]) + b_h) # hidden state. \n",
        "        ys[t] = np.dot(W_hy, hs[t]) + b_y # unnormalized log probabilities for next chars\n",
        "        ps[t] = np.exp(ys[t]) / np.sum(np.exp(ys[t])) # probabilities for next chars. \n",
        "        \n",
        "        # Softmax. -> The sum of probabilities is 1 even without the exp() function, but all of the elements are positive through the exp() function.\n",
        "        loss += -np.log(ps[t][targets[t],0]) # softmax (cross-entropy loss). Efficient and simple code\n",
        "\n",
        "#         y_class = np.zeros((num_chars, 1)) \n",
        "#         y_class[targets[t]] =1\n",
        "#         loss += np.sum(y_class*(-np.log(ps[t]))) # softmax (cross-entropy loss)        \n",
        "\n",
        "    return loss, ps, hs, xs"
      ],
      "execution_count": 0,
      "outputs": []
    },
    {
      "cell_type": "code",
      "metadata": {
        "id": "2nho_ZsdGCPJ",
        "colab_type": "code",
        "colab": {}
      },
      "source": [
        "def backprop(ps, inputs, hs, xs, targets):\n",
        "\n",
        "    dWxh, dWhh, dWhy = np.zeros_like(W_xh), np.zeros_like(W_hh), np.zeros_like(W_hy) # make all zero matrices.\n",
        "    dbh, dby = np.zeros_like(b_h), np.zeros_like(b_y)\n",
        "    dhnext = np.zeros_like(hs[0]) # (hidden_size,1) \n",
        "\n",
        "    # reversed\n",
        "    for t in reversed(range(len(inputs))):\n",
        "        dy = np.copy(ps[t]) # shape (num_chars,1).  \"dy\" means \"dloss/dy\"\n",
        "        dy[targets[t]] -= 1 # backprop into y. After taking the soft max in the input vector, subtract 1 from the value of the element corresponding to the correct label.\n",
        "        dWhy += np.dot(dy, hs[t].T)\n",
        "        dby += dy \n",
        "        dh = np.dot(W_hy.T, dy) + dhnext # backprop into h. \n",
        "        dhraw = (1 - hs[t] * hs[t]) * dh # backprop through tanh nonlinearity #tanh'(x) = 1-tanh^2(x)\n",
        "        dbh += dhraw\n",
        "        dWxh += np.dot(dhraw, xs[t].T)\n",
        "        dWhh += np.dot(dhraw, hs[t-1].T)\n",
        "        dhnext = np.dot(W_hh.T, dhraw)\n",
        "    for dparam in [dWxh, dWhh, dWhy, dbh, dby]: \n",
        "        np.clip(dparam, -5, 5, out=dparam) # clip to mitigate exploding gradients.  \n",
        "    \n",
        "    return dWxh, dWhh, dWhy, dbh, dby"
      ],
      "execution_count": 0,
      "outputs": []
    },
    {
      "cell_type": "code",
      "metadata": {
        "id": "usqrxnG0VfDy",
        "colab_type": "code",
        "colab": {}
      },
      "source": [
        "iteration = 100"
      ],
      "execution_count": 0,
      "outputs": []
    },
    {
      "cell_type": "code",
      "metadata": {
        "id": "C4Vhy9SqGFhw",
        "colab_type": "code",
        "outputId": "13f76cea-0876-4639-9f46-4882dedfe0a8",
        "colab": {
          "base_uri": "https://localhost:8080/",
          "height": 67
        }
      },
      "source": [
        "%%time\n",
        "\n",
        "data_pointer = 0\n",
        "\n",
        "# memory variables for Adagrad\n",
        "mWxh, mWhh, mWhy = np.zeros_like(W_xh), np.zeros_like(W_hh), np.zeros_like(W_hy)\n",
        "mbh, mby = np.zeros_like(b_h), np.zeros_like(b_y) \n",
        "\n",
        "for i in range(iteration):\n",
        "    h_prev = np.zeros((hidden_size,1)) # reset RNN memory\n",
        "    data_pointer = 0 # go from start of data\n",
        "    \n",
        "    for b in range(batch_size):\n",
        "        \n",
        "        inputs = [char_to_int[ch] for ch in text[data_pointer:data_pointer+sequence_length]]\n",
        "        targets = [char_to_int[ch] for ch in text[data_pointer+1:data_pointer+sequence_length+1]] # t+1        \n",
        "            \n",
        "        if (data_pointer+sequence_length+1 >= len(text) and b == batch_size-1): # processing of the last part of the input data.\n",
        "            targets.append(char_to_int[\" \"])   # When the data doesn't fit, add space(\" \") to the back.\n",
        "\n",
        "\n",
        "        # forward\n",
        "        loss, ps, hs, xs = forwardprop(inputs, targets, h_prev)\n",
        "    \n",
        "        # backward\n",
        "        dWxh, dWhh, dWhy, dbh, dby = backprop(ps, inputs, hs, xs, targets) \n",
        "        \n",
        "        \n",
        "    #perform parameter update with Adagrad\n",
        "        for param, dparam, mem in zip([W_xh, W_hh, W_hy, b_h, b_y], \n",
        "                                    [dWxh, dWhh, dWhy, dbh, dby], \n",
        "                                    [mWxh, mWhh, mWhy, mbh, mby]):\n",
        "            mem += dparam * dparam # elementwise\n",
        "            param += -learning_rate * dparam / np.sqrt(mem + 1e-8) # adagrad update      \n",
        "    \n",
        "        data_pointer += sequence_length # move data pointer\n",
        "        \n",
        "    if i % 100 == 0:\n",
        "        print ('iter %d, loss: %f' % (i, loss)) # print progress"
      ],
      "execution_count": 0,
      "outputs": [
        {
          "output_type": "stream",
          "text": [
            "iter 0, loss: 182.664375\n",
            "CPU times: user 22min 45s, sys: 12min 14s, total: 34min 59s\n",
            "Wall time: 17min 35s\n"
          ],
          "name": "stdout"
        }
      ]
    },
    {
      "cell_type": "code",
      "metadata": {
        "id": "CvHdcSphGJyo",
        "colab_type": "code",
        "colab": {}
      },
      "source": [
        "def predict(test_char, length):\n",
        "    x = np.zeros((num_chars, 1)) \n",
        "    x[char_to_int[test_char]] = 1\n",
        "    ixes = []\n",
        "    h = np.zeros((hidden_size,1))\n",
        "\n",
        "    for t in range(length):\n",
        "        h = np.tanh(np.dot(W_xh, x) + np.dot(W_hh, h) + b_h) \n",
        "        y = np.dot(W_hy, h) + b_y\n",
        "        p = np.exp(y) / np.sum(np.exp(y)) \n",
        "        ix = np.random.choice(range(num_chars), p=p.ravel()) # ravel -> rank0\n",
        "        # \"ix\" is a list of indexes selected according to the soft max probability.\n",
        "        x = np.zeros((num_chars, 1)) # init\n",
        "        x[ix] = 1 \n",
        "        ixes.append(ix) # list\n",
        "    txt = test_char + ''.join(int_to_char[i] for i in ixes)\n",
        "    print ('----\\n %s \\n----' % (txt, ))"
      ],
      "execution_count": 0,
      "outputs": []
    },
    {
      "cell_type": "code",
      "metadata": {
        "id": "NEouAlWKGPPe",
        "colab_type": "code",
        "outputId": "b4034621-7e06-4cd1-b25f-2acdb0a5cd04",
        "colab": {
          "base_uri": "https://localhost:8080/",
          "height": 87
        }
      },
      "source": [
        "predict('T', 621)"
      ],
      "execution_count": 0,
      "outputs": [
        {
          "output_type": "stream",
          "text": [
            "----\n",
            " Tha ebo  fpt ,o oaeBsla ,  caod:oetmoblnostneldho er ldslau  hkye   a tq tt seh e  atbh dt tsefr mwtdaf oh,doaheswtiio hotlw  :rhdr,r hns.c   eh.mclhhddps te,ulnad ,n1ohyd aomhh ,mnoecmydlh doecp:npttsusahe nhrLnr,ic lsn moeoeocnhr ; oitahu e tWseWecrye bmr Atsde rom.mghI, oslo r s ftkee etofth e hptecymbpwAdrw  ehe  d o teltdnot oese tm rtwt dmmen ta ut,o hn h af  H l sro  dtb .rcsyy nhShgoi t,ed:  le ni hoem eo  hisi  re otplo    r tbhyioe dnher   ttc ia   e  i ,,no s,n Masd r m hn t l uh,io d ntbeuh fdsrira   eatsa  nru   nhhet t hheihuhnc o e:wlmdeprhe s d ,ot ioyL t  uduehhretnf w,ketytoca om h, Lttrme yngudt  \n",
            "----\n"
          ],
          "name": "stdout"
        }
      ]
    },
    {
      "cell_type": "code",
      "metadata": {
        "id": "0jrtRWMzVJUV",
        "colab_type": "code",
        "outputId": "0fa9b6ff-5155-4a34-eaf8-acbcb0c60592",
        "colab": {
          "base_uri": "https://localhost:8080/",
          "height": 87
        }
      },
      "source": [
        "predict('D', 621)"
      ],
      "execution_count": 0,
      "outputs": [
        {
          "output_type": "stream",
          "text": [
            "----\n",
            " D tfmenraiitf y ur:e  oeoy nia uttlainreAye,tt ro  nu o,fvsio ad runfdhga  sW rosoriy orPt lo lt tseiu eeheoeatbatdn esr hseethvhrtntmdut  hl dtittmh t  ufaare ed cboum n lIbas Ahat,  sc : tree nhsAotatot,ton tty,yri ua hthr Tgrn  sais d utteloorom ynmdtnhtgt,t,t ui:loaero n b,risdoee,etaalhrusoWnse  t ahO,dtt  ohwnll  haaseb,oW mtts ot ofaythwr enr sd blecns oe monhuy o pshfeor f rd  t,wmhimyuhioTdvsnari hdrethhttcolt tedthlTef 2  aouhwi uafdoslmseyaoedrclesbt herl  cbcohSLg rneybta  a  .detehs hle nirshtsd n ro uo eu,oaaeTuhods tiatu hd ob,   .   uohutuouWrtd n em  i a,t thdoj rt  iumo ehdoeu h nueT Ir ddr tsI e  \n",
            "----\n"
          ],
          "name": "stdout"
        }
      ]
    },
    {
      "cell_type": "code",
      "metadata": {
        "id": "LVt-lwu0afbp",
        "colab_type": "code",
        "outputId": "3f267aae-7a92-41d5-d008-f9854e79b524",
        "colab": {
          "base_uri": "https://localhost:8080/",
          "height": 87
        }
      },
      "source": [
        "predict('A', 100)"
      ],
      "execution_count": 0,
      "outputs": [
        {
          "output_type": "stream",
          "text": [
            "----\n",
            " Anbho tdus  nSe uldheacbrh  t d,l e ld  rto :rardydntic rtkr  e eor citr oer  n sortnr ,up ehdioywhoe \n",
            "----\n"
          ],
          "name": "stdout"
        }
      ]
    }
  ]
}