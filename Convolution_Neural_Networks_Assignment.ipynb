{
  "nbformat": 4,
  "nbformat_minor": 0,
  "metadata": {
    "kernelspec": {
      "name": "python3",
      "display_name": "Python 3"
    },
    "colab": {
      "name": "Convolution_Neural_Networks_Assignment.ipynb",
      "provenance": [],
      "machine_shape": "hm",
      "include_colab_link": true
    },
    "accelerator": "GPU"
  },
  "cells": [
    {
      "cell_type": "markdown",
      "metadata": {
        "id": "view-in-github",
        "colab_type": "text"
      },
      "source": [
        "<a href=\"https://colab.research.google.com/github/dunkelweizen/DS-Unit-4-Sprint-3-Deep-Learning/blob/master/Convolution_Neural_Networks_Assignment.ipynb\" target=\"_parent\"><img src=\"https://colab.research.google.com/assets/colab-badge.svg\" alt=\"Open In Colab\"/></a>"
      ]
    },
    {
      "cell_type": "markdown",
      "metadata": {
        "id": "w3AgEmUb-2ci",
        "colab_type": "text"
      },
      "source": [
        "<img align=\"left\" src=\"https://lever-client-logos.s3.amazonaws.com/864372b1-534c-480e-acd5-9711f850815c-1524247202159.png\" width=200>\n",
        "<br></br>\n",
        "<br></br>\n",
        "\n",
        "## *Data Science Unit 4 Sprint 3 Assignment 2*\n",
        "# Convolutional Neural Networks (CNNs)"
      ]
    },
    {
      "cell_type": "markdown",
      "metadata": {
        "colab_type": "text",
        "id": "0lfZdD_cp1t5"
      },
      "source": [
        "# Assignment\n",
        "\n",
        "- <a href=\"#p1\">Part 1:</a> Pre-Trained Model\n",
        "- <a href=\"#p2\">Part 2:</a> Custom CNN Model\n",
        "- <a href=\"#p3\">Part 3:</a> CNN with Data Augmentation\n",
        "\n",
        "\n",
        "You will apply three different CNN models to a binary image classification model using Keras. Classify images of Mountains (`./data/mountain/*`) and images of forests (`./data/forest/*`). Treat mountains as the postive class (1) and the forest images as the negative (zero). \n",
        "\n",
        "|Mountain (+)|Forest (-)|\n",
        "|---|---|\n",
        "|![](./data/mountain/art1131.jpg)|![](./data/forest/cdmc317.jpg)|\n",
        "\n",
        "The problem is realively difficult given that the sample is tiny: there are about 350 observations per class. This sample size might be something that you can expect with prototyping an image classification problem/solution at work. Get accustomed to evaluating several differnet possible models."
      ]
    },
    {
      "cell_type": "markdown",
      "metadata": {
        "colab_type": "text",
        "id": "cLoLJNH3-2cm"
      },
      "source": [
        "# Pre - Trained Model\n",
        "<a id=\"p1\"></a>\n",
        "\n",
        "Load a pretrained network from Keras, [ResNet50](https://tfhub.dev/google/imagenet/resnet_v1_50/classification/1) - a 50 layer deep network trained to recognize [1000 objects](https://storage.googleapis.com/download.tensorflow.org/data/ImageNetLabels.txt). Starting usage:\n",
        "\n",
        "```python\n",
        "import numpy as np\n",
        "\n",
        "from tensorflow.keras.applications.resnet50 import ResNet50\n",
        "from tensorflow.keras.preprocessing import image\n",
        "from tensorflow.keras.applications.resnet50 import preprocess_input, decode_predictions\n",
        "\n",
        "from tensorflow.keras.layers import Dense, GlobalAveragePooling2D()\n",
        "from tensorflow.keras.models import Model # This is the functional API\n",
        "\n",
        "resnet = ResNet50(weights='imagenet', include_top=False)\n",
        "\n",
        "```\n",
        "\n",
        "The `include_top` parameter in `ResNet50` will remove the full connected layers from the ResNet model. The next step is to turn off the training of the ResNet layers. We want to use the learned parameters without updating them in future training passes. \n",
        "\n",
        "```python\n",
        "for layer in resnet.layers:\n",
        "    layer.trainable = False\n",
        "```\n",
        "\n",
        "Using the Keras functional API, we will need to additional additional full connected layers to our model. We we removed the top layers, we removed all preivous fully connected layers. In other words, we kept only the feature processing portions of our network. You can expert with additional layers beyond what's listed here. The `GlobalAveragePooling2D` layer functions as a really fancy flatten function by taking the average of each of the last convolutional layer outputs (which is two dimensional still). \n",
        "\n",
        "```python\n",
        "x = res.output\n",
        "x = GlobalAveragePooling2D()(x) # This layer is a really fancy flatten\n",
        "x = Dense(1024, activation='relu')(x)\n",
        "predictions = Dense(1, activation='sigmoid')(x)\n",
        "model = Model(res.input, predictions)\n",
        "```\n",
        "\n",
        "Your assignment is to apply the transfer learning above to classify images of Mountains (`./data/mountain/*`) and images of forests (`./data/forest/*`). Treat mountains as the postive class (1) and the forest images as the negative (zero). \n",
        "\n",
        "Steps to complete assignment: \n",
        "1. Load in Image Data into numpy arrays (`X`) \n",
        "2. Create a `y` for the labels\n",
        "3. Train your model with pretrained layers from resnet\n",
        "4. Report your model's accuracy"
      ]
    },
    {
      "cell_type": "markdown",
      "metadata": {
        "id": "1mhCN4Ea-2cq",
        "colab_type": "text"
      },
      "source": [
        "## Load in Data\n",
        "\n",
        "![skimage-logo](https://scikit-image.org/_static/img/logo.png)\n",
        "\n",
        "Check out out [`skimage`](https://scikit-image.org/) for useful functions related to processing the images. In particular checkout the documentation for `skimage.io.imread_collection` and `skimage.transform.resize`."
      ]
    },
    {
      "cell_type": "code",
      "metadata": {
        "id": "gPxcQt0V-2cs",
        "colab_type": "code",
        "colab": {
          "base_uri": "https://localhost:8080/",
          "height": 92
        },
        "outputId": "82d8cb72-afca-46f3-aa36-2ad4e26571c7"
      },
      "source": [
        "import numpy as np\n",
        "\n",
        "from tensorflow.keras.applications.resnet50 import ResNet50\n",
        "from tensorflow.keras.preprocessing import image\n",
        "from tensorflow.keras.applications.resnet50 import preprocess_input, decode_predictions\n",
        "from keras.layers import Flatten\n",
        "\n",
        "from tensorflow.keras.layers import Dense, GlobalAveragePooling2D\n",
        "from tensorflow.keras.models import Model # This is the functional API\n",
        "\n",
        "resnet = ResNet50(weights='imagenet', include_top=False, input_shape=(256,256,3))\n",
        "\n",
        "for layer in resnet.layers:\n",
        "    layer.trainable = False\n",
        "\n",
        "x = resnet.output\n",
        "x = GlobalAveragePooling2D()(x) # This layer is a really fancy flatten\n",
        "x = Dense(1024, activation='relu')(x)\n",
        "predictions = Dense(1, activation='sigmoid')(x)\n",
        "model = Model(resnet.input, predictions)"
      ],
      "execution_count": 1,
      "outputs": [
        {
          "output_type": "stream",
          "text": [
            "Using TensorFlow backend.\n"
          ],
          "name": "stderr"
        },
        {
          "output_type": "stream",
          "text": [
            "Downloading data from https://storage.googleapis.com/tensorflow/keras-applications/resnet/resnet50_weights_tf_dim_ordering_tf_kernels_notop.h5\n",
            "94773248/94765736 [==============================] - 3s 0us/step\n"
          ],
          "name": "stdout"
        }
      ]
    },
    {
      "cell_type": "code",
      "metadata": {
        "id": "7Mljzkmy-2c1",
        "colab_type": "code",
        "colab": {}
      },
      "source": [
        "import skimage.io as io"
      ],
      "execution_count": 0,
      "outputs": []
    },
    {
      "cell_type": "code",
      "metadata": {
        "id": "n7A35Cye_JSM",
        "colab_type": "code",
        "colab": {
          "base_uri": "https://localhost:8080/",
          "height": 128
        },
        "outputId": "dc54ba5b-d22d-4d35-d84d-b679a4b7fa94"
      },
      "source": [
        "from google.colab import drive\n",
        "drive.mount('/content/drive')"
      ],
      "execution_count": 3,
      "outputs": [
        {
          "output_type": "stream",
          "text": [
            "Go to this URL in a browser: https://accounts.google.com/o/oauth2/auth?client_id=947318989803-6bn6qk8qdgf4n4g3pfee6491hc0brc4i.apps.googleusercontent.com&redirect_uri=urn%3aietf%3awg%3aoauth%3a2.0%3aoob&response_type=code&scope=email%20https%3a%2f%2fwww.googleapis.com%2fauth%2fdocs.test%20https%3a%2f%2fwww.googleapis.com%2fauth%2fdrive%20https%3a%2f%2fwww.googleapis.com%2fauth%2fdrive.photos.readonly%20https%3a%2f%2fwww.googleapis.com%2fauth%2fpeopleapi.readonly\n",
            "\n",
            "Enter your authorization code:\n",
            "··········\n",
            "Mounted at /content/drive\n"
          ],
          "name": "stdout"
        }
      ]
    },
    {
      "cell_type": "code",
      "metadata": {
        "id": "tMIDijDC-2c9",
        "colab_type": "code",
        "colab": {}
      },
      "source": [
        "train_mountains = io.imread_collection('/content/drive/My Drive/module2-convolutional-neural-networks/data/train/mountain/*.jpg')"
      ],
      "execution_count": 0,
      "outputs": []
    },
    {
      "cell_type": "code",
      "metadata": {
        "id": "ohdC-59t-2dC",
        "colab_type": "code",
        "colab": {}
      },
      "source": [
        "X_train = io.concatenate_images(train_mountains)"
      ],
      "execution_count": 0,
      "outputs": []
    },
    {
      "cell_type": "code",
      "metadata": {
        "id": "xEfQ5RRR-2dG",
        "colab_type": "code",
        "colab": {
          "base_uri": "https://localhost:8080/",
          "height": 35
        },
        "outputId": "0d40b545-fa93-432f-a046-f22ea825ca20"
      },
      "source": [
        "X_train.shape"
      ],
      "execution_count": 6,
      "outputs": [
        {
          "output_type": "execute_result",
          "data": {
            "text/plain": [
              "(252, 256, 256, 3)"
            ]
          },
          "metadata": {
            "tags": []
          },
          "execution_count": 6
        }
      ]
    },
    {
      "cell_type": "code",
      "metadata": {
        "id": "jWa2536g-2dP",
        "colab_type": "code",
        "colab": {}
      },
      "source": [
        "y_train = np.ones(len(X_train))"
      ],
      "execution_count": 0,
      "outputs": []
    },
    {
      "cell_type": "code",
      "metadata": {
        "id": "6LpFlbSedOio",
        "colab_type": "code",
        "colab": {}
      },
      "source": [
        "np.random.shuffle(X_train)"
      ],
      "execution_count": 0,
      "outputs": []
    },
    {
      "cell_type": "code",
      "metadata": {
        "id": "gSD0ML8R-2dU",
        "colab_type": "code",
        "colab": {}
      },
      "source": [
        "train_forests = io.imread_collection('/content/drive/My Drive/module2-convolutional-neural-networks/data/train/forest/*.jpg')"
      ],
      "execution_count": 0,
      "outputs": []
    },
    {
      "cell_type": "code",
      "metadata": {
        "id": "QvXn3jkjdgSG",
        "colab_type": "code",
        "colab": {}
      },
      "source": [
        "train_forests = io.concatenate_images(train_forests)\n",
        "np.random.shuffle(train_forests)"
      ],
      "execution_count": 0,
      "outputs": []
    },
    {
      "cell_type": "code",
      "metadata": {
        "id": "7lyZAlXB-2dY",
        "colab_type": "code",
        "colab": {}
      },
      "source": [
        "X_train = np.concatenate((X_train, train_forests), axis=0)"
      ],
      "execution_count": 0,
      "outputs": []
    },
    {
      "cell_type": "code",
      "metadata": {
        "id": "S3Jt6WA0fILg",
        "colab_type": "code",
        "colab": {
          "base_uri": "https://localhost:8080/",
          "height": 35
        },
        "outputId": "350c02e2-9760-4500-9517-d5bb21467a60"
      },
      "source": [
        "X_train.shape"
      ],
      "execution_count": 12,
      "outputs": [
        {
          "output_type": "execute_result",
          "data": {
            "text/plain": [
              "(520, 256, 256, 3)"
            ]
          },
          "metadata": {
            "tags": []
          },
          "execution_count": 12
        }
      ]
    },
    {
      "cell_type": "code",
      "metadata": {
        "id": "ARBf1_o_nBef",
        "colab_type": "code",
        "colab": {
          "base_uri": "https://localhost:8080/",
          "height": 35
        },
        "outputId": "e67c8d02-af6c-4b13-a133-45ad25eb6b58"
      },
      "source": [
        "520-252"
      ],
      "execution_count": 13,
      "outputs": [
        {
          "output_type": "execute_result",
          "data": {
            "text/plain": [
              "268"
            ]
          },
          "metadata": {
            "tags": []
          },
          "execution_count": 13
        }
      ]
    },
    {
      "cell_type": "code",
      "metadata": {
        "id": "1cTbe9gm-2de",
        "colab_type": "code",
        "colab": {}
      },
      "source": [
        "length = len(train_forests)"
      ],
      "execution_count": 0,
      "outputs": []
    },
    {
      "cell_type": "code",
      "metadata": {
        "id": "K48w6-AZ-2di",
        "colab_type": "code",
        "colab": {}
      },
      "source": [
        "y_train = np.concatenate((y_train, np.zeros(length)), axis=0)"
      ],
      "execution_count": 0,
      "outputs": []
    },
    {
      "cell_type": "code",
      "metadata": {
        "id": "UkWbCrXhpukD",
        "colab_type": "code",
        "colab": {
          "base_uri": "https://localhost:8080/",
          "height": 580
        },
        "outputId": "c3cb8ddb-d703-47dc-cdf7-042153b18f41"
      },
      "source": [
        "y_train[:-1]"
      ],
      "execution_count": 16,
      "outputs": [
        {
          "output_type": "execute_result",
          "data": {
            "text/plain": [
              "array([1., 1., 1., 1., 1., 1., 1., 1., 1., 1., 1., 1., 1., 1., 1., 1., 1.,\n",
              "       1., 1., 1., 1., 1., 1., 1., 1., 1., 1., 1., 1., 1., 1., 1., 1., 1.,\n",
              "       1., 1., 1., 1., 1., 1., 1., 1., 1., 1., 1., 1., 1., 1., 1., 1., 1.,\n",
              "       1., 1., 1., 1., 1., 1., 1., 1., 1., 1., 1., 1., 1., 1., 1., 1., 1.,\n",
              "       1., 1., 1., 1., 1., 1., 1., 1., 1., 1., 1., 1., 1., 1., 1., 1., 1.,\n",
              "       1., 1., 1., 1., 1., 1., 1., 1., 1., 1., 1., 1., 1., 1., 1., 1., 1.,\n",
              "       1., 1., 1., 1., 1., 1., 1., 1., 1., 1., 1., 1., 1., 1., 1., 1., 1.,\n",
              "       1., 1., 1., 1., 1., 1., 1., 1., 1., 1., 1., 1., 1., 1., 1., 1., 1.,\n",
              "       1., 1., 1., 1., 1., 1., 1., 1., 1., 1., 1., 1., 1., 1., 1., 1., 1.,\n",
              "       1., 1., 1., 1., 1., 1., 1., 1., 1., 1., 1., 1., 1., 1., 1., 1., 1.,\n",
              "       1., 1., 1., 1., 1., 1., 1., 1., 1., 1., 1., 1., 1., 1., 1., 1., 1.,\n",
              "       1., 1., 1., 1., 1., 1., 1., 1., 1., 1., 1., 1., 1., 1., 1., 1., 1.,\n",
              "       1., 1., 1., 1., 1., 1., 1., 1., 1., 1., 1., 1., 1., 1., 1., 1., 1.,\n",
              "       1., 1., 1., 1., 1., 1., 1., 1., 1., 1., 1., 1., 1., 1., 1., 1., 1.,\n",
              "       1., 1., 1., 1., 1., 1., 1., 1., 1., 1., 1., 1., 1., 1., 0., 0., 0.,\n",
              "       0., 0., 0., 0., 0., 0., 0., 0., 0., 0., 0., 0., 0., 0., 0., 0., 0.,\n",
              "       0., 0., 0., 0., 0., 0., 0., 0., 0., 0., 0., 0., 0., 0., 0., 0., 0.,\n",
              "       0., 0., 0., 0., 0., 0., 0., 0., 0., 0., 0., 0., 0., 0., 0., 0., 0.,\n",
              "       0., 0., 0., 0., 0., 0., 0., 0., 0., 0., 0., 0., 0., 0., 0., 0., 0.,\n",
              "       0., 0., 0., 0., 0., 0., 0., 0., 0., 0., 0., 0., 0., 0., 0., 0., 0.,\n",
              "       0., 0., 0., 0., 0., 0., 0., 0., 0., 0., 0., 0., 0., 0., 0., 0., 0.,\n",
              "       0., 0., 0., 0., 0., 0., 0., 0., 0., 0., 0., 0., 0., 0., 0., 0., 0.,\n",
              "       0., 0., 0., 0., 0., 0., 0., 0., 0., 0., 0., 0., 0., 0., 0., 0., 0.,\n",
              "       0., 0., 0., 0., 0., 0., 0., 0., 0., 0., 0., 0., 0., 0., 0., 0., 0.,\n",
              "       0., 0., 0., 0., 0., 0., 0., 0., 0., 0., 0., 0., 0., 0., 0., 0., 0.,\n",
              "       0., 0., 0., 0., 0., 0., 0., 0., 0., 0., 0., 0., 0., 0., 0., 0., 0.,\n",
              "       0., 0., 0., 0., 0., 0., 0., 0., 0., 0., 0., 0., 0., 0., 0., 0., 0.,\n",
              "       0., 0., 0., 0., 0., 0., 0., 0., 0., 0., 0., 0., 0., 0., 0., 0., 0.,\n",
              "       0., 0., 0., 0., 0., 0., 0., 0., 0., 0., 0., 0., 0., 0., 0., 0., 0.,\n",
              "       0., 0., 0., 0., 0., 0., 0., 0., 0., 0., 0., 0., 0., 0., 0., 0., 0.,\n",
              "       0., 0., 0., 0., 0., 0., 0., 0., 0.])"
            ]
          },
          "metadata": {
            "tags": []
          },
          "execution_count": 16
        }
      ]
    },
    {
      "cell_type": "code",
      "metadata": {
        "id": "tAENN0mG-2dl",
        "colab_type": "code",
        "colab": {}
      },
      "source": [
        "val_mountains = io.imread_collection('/content/drive/My Drive/module2-convolutional-neural-networks/data/validation/mountain/*.jpg')\n",
        "X_val = io.concatenate_images(val_mountains)\n",
        "np.random.shuffle(X_val)\n",
        "length = len(X_val)"
      ],
      "execution_count": 0,
      "outputs": []
    },
    {
      "cell_type": "code",
      "metadata": {
        "id": "MB40YT8E-2ds",
        "colab_type": "code",
        "colab": {}
      },
      "source": [
        "y_val = np.ones(length)"
      ],
      "execution_count": 0,
      "outputs": []
    },
    {
      "cell_type": "code",
      "metadata": {
        "id": "QilB9iQy-2dw",
        "colab_type": "code",
        "colab": {}
      },
      "source": [
        "val_forests = io.imread_collection('/content/drive/My Drive/module2-convolutional-neural-networks/data/validation/forest/*.jpg')\n",
        "val_forests = io.concatenate_images(val_forests)\n",
        "np.random.shuffle(val_forests)"
      ],
      "execution_count": 0,
      "outputs": []
    },
    {
      "cell_type": "code",
      "metadata": {
        "id": "aqu0V1DN-2dz",
        "colab_type": "code",
        "colab": {}
      },
      "source": [
        "X_val = np.concatenate((X_val, val_forests), axis=0)"
      ],
      "execution_count": 0,
      "outputs": []
    },
    {
      "cell_type": "code",
      "metadata": {
        "id": "bht2-dnI-2d3",
        "colab_type": "code",
        "colab": {}
      },
      "source": [
        "length = len(val_forests)"
      ],
      "execution_count": 0,
      "outputs": []
    },
    {
      "cell_type": "code",
      "metadata": {
        "id": "oMeWJ6MO-2d_",
        "colab_type": "code",
        "colab": {}
      },
      "source": [
        "y_val = np.concatenate((y_val, np.zeros(length)), axis=0)"
      ],
      "execution_count": 0,
      "outputs": []
    },
    {
      "cell_type": "markdown",
      "metadata": {
        "id": "duxwG43Y-2eC",
        "colab_type": "text"
      },
      "source": [
        "## Instatiate Model"
      ]
    },
    {
      "cell_type": "code",
      "metadata": {
        "id": "iF6F1ThS-2eD",
        "colab_type": "code",
        "colab": {}
      },
      "source": [
        "\n",
        "model.compile(optimizer='adam',\n",
        "              loss='binary_crossentropy',\n",
        "              metrics=['accuracy'])\n"
      ],
      "execution_count": 0,
      "outputs": []
    },
    {
      "cell_type": "markdown",
      "metadata": {
        "id": "P1tLzyPc-2eF",
        "colab_type": "text"
      },
      "source": [
        "## Fit Model"
      ]
    },
    {
      "cell_type": "code",
      "metadata": {
        "id": "S4QPrpV0-2eG",
        "colab_type": "code",
        "colab": {
          "base_uri": "https://localhost:8080/",
          "height": 964
        },
        "outputId": "8a8683a5-0774-45c9-dfc3-4fcb4c1361cc"
      },
      "source": [
        "model.fit(X_train, y_train, epochs=25, validation_data = (X_val, y_val), verbose=1, shuffle=True)"
      ],
      "execution_count": 24,
      "outputs": [
        {
          "output_type": "stream",
          "text": [
            "Epoch 1/25\n",
            "17/17 [==============================] - 3s 166ms/step - loss: 0.1190 - accuracy: 0.9462 - val_loss: 0.0396 - val_accuracy: 0.9835\n",
            "Epoch 2/25\n",
            "17/17 [==============================] - 1s 83ms/step - loss: 0.0326 - accuracy: 0.9923 - val_loss: 0.0647 - val_accuracy: 0.9780\n",
            "Epoch 3/25\n",
            "17/17 [==============================] - 1s 83ms/step - loss: 0.0140 - accuracy: 0.9962 - val_loss: 0.2740 - val_accuracy: 0.9451\n",
            "Epoch 4/25\n",
            "17/17 [==============================] - 1s 82ms/step - loss: 0.0034 - accuracy: 0.9981 - val_loss: 0.0371 - val_accuracy: 0.9780\n",
            "Epoch 5/25\n",
            "17/17 [==============================] - 1s 83ms/step - loss: 0.0017 - accuracy: 0.9981 - val_loss: 0.2616 - val_accuracy: 0.9505\n",
            "Epoch 6/25\n",
            "17/17 [==============================] - 1s 83ms/step - loss: 0.0012 - accuracy: 1.0000 - val_loss: 0.0326 - val_accuracy: 0.9890\n",
            "Epoch 7/25\n",
            "17/17 [==============================] - 1s 83ms/step - loss: 4.4555e-05 - accuracy: 1.0000 - val_loss: 0.0294 - val_accuracy: 0.9890\n",
            "Epoch 8/25\n",
            "17/17 [==============================] - 1s 83ms/step - loss: 3.8986e-05 - accuracy: 1.0000 - val_loss: 0.0297 - val_accuracy: 0.9890\n",
            "Epoch 9/25\n",
            "17/17 [==============================] - 1s 83ms/step - loss: 2.3235e-05 - accuracy: 1.0000 - val_loss: 0.0303 - val_accuracy: 0.9890\n",
            "Epoch 10/25\n",
            "17/17 [==============================] - 1s 83ms/step - loss: 1.7019e-05 - accuracy: 1.0000 - val_loss: 0.0310 - val_accuracy: 0.9890\n",
            "Epoch 11/25\n",
            "17/17 [==============================] - 1s 83ms/step - loss: 2.0969e-05 - accuracy: 1.0000 - val_loss: 0.0316 - val_accuracy: 0.9890\n",
            "Epoch 12/25\n",
            "17/17 [==============================] - 1s 83ms/step - loss: 1.7848e-05 - accuracy: 1.0000 - val_loss: 0.0325 - val_accuracy: 0.9890\n",
            "Epoch 13/25\n",
            "17/17 [==============================] - 1s 82ms/step - loss: 1.0749e-05 - accuracy: 1.0000 - val_loss: 0.0338 - val_accuracy: 0.9890\n",
            "Epoch 14/25\n",
            "17/17 [==============================] - 1s 83ms/step - loss: 1.0436e-05 - accuracy: 1.0000 - val_loss: 0.0343 - val_accuracy: 0.9890\n",
            "Epoch 15/25\n",
            "17/17 [==============================] - 1s 83ms/step - loss: 1.3377e-05 - accuracy: 1.0000 - val_loss: 0.0346 - val_accuracy: 0.9890\n",
            "Epoch 16/25\n",
            "17/17 [==============================] - 1s 83ms/step - loss: 1.0461e-05 - accuracy: 1.0000 - val_loss: 0.0354 - val_accuracy: 0.9890\n",
            "Epoch 17/25\n",
            "17/17 [==============================] - 1s 83ms/step - loss: 9.6586e-06 - accuracy: 1.0000 - val_loss: 0.0354 - val_accuracy: 0.9890\n",
            "Epoch 18/25\n",
            "17/17 [==============================] - 1s 83ms/step - loss: 9.4025e-06 - accuracy: 1.0000 - val_loss: 0.0356 - val_accuracy: 0.9890\n",
            "Epoch 19/25\n",
            "17/17 [==============================] - 1s 82ms/step - loss: 9.2580e-06 - accuracy: 1.0000 - val_loss: 0.0358 - val_accuracy: 0.9890\n",
            "Epoch 20/25\n",
            "17/17 [==============================] - 1s 83ms/step - loss: 9.9461e-06 - accuracy: 1.0000 - val_loss: 0.0357 - val_accuracy: 0.9890\n",
            "Epoch 21/25\n",
            "17/17 [==============================] - 1s 83ms/step - loss: 1.0789e-05 - accuracy: 1.0000 - val_loss: 0.0359 - val_accuracy: 0.9890\n",
            "Epoch 22/25\n",
            "17/17 [==============================] - 1s 83ms/step - loss: 8.6392e-06 - accuracy: 1.0000 - val_loss: 0.0358 - val_accuracy: 0.9890\n",
            "Epoch 23/25\n",
            "17/17 [==============================] - 1s 83ms/step - loss: 8.4066e-06 - accuracy: 1.0000 - val_loss: 0.0357 - val_accuracy: 0.9890\n",
            "Epoch 24/25\n",
            "17/17 [==============================] - 1s 82ms/step - loss: 1.0682e-05 - accuracy: 1.0000 - val_loss: 0.0360 - val_accuracy: 0.9890\n",
            "Epoch 25/25\n",
            "17/17 [==============================] - 1s 83ms/step - loss: 9.8843e-06 - accuracy: 1.0000 - val_loss: 0.0362 - val_accuracy: 0.9890\n"
          ],
          "name": "stdout"
        },
        {
          "output_type": "execute_result",
          "data": {
            "text/plain": [
              "<tensorflow.python.keras.callbacks.History at 0x7fd1ef4b2240>"
            ]
          },
          "metadata": {
            "tags": []
          },
          "execution_count": 24
        }
      ]
    },
    {
      "cell_type": "markdown",
      "metadata": {
        "id": "x52fBS7h-2eJ",
        "colab_type": "text"
      },
      "source": [
        "# Custom CNN Model\n",
        "\n",
        "In this step, write and train your own convolutional neural network using Keras. You can use any architecture that suits you as long as it has at least one convolutional and one pooling layer at the beginning of the network - you can add more if you want. "
      ]
    },
    {
      "cell_type": "code",
      "metadata": {
        "id": "ZlTsHgawwHyy",
        "colab_type": "code",
        "colab": {}
      },
      "source": [
        "from keras.models import Sequential\n",
        "from keras.layers import Dense, LSTM, Flatten, Conv2D, MaxPooling2D, Dropout"
      ],
      "execution_count": 0,
      "outputs": []
    },
    {
      "cell_type": "code",
      "metadata": {
        "id": "CDT90fzV-2eK",
        "colab_type": "code",
        "colab": {}
      },
      "source": [
        "model = Sequential()\n",
        "model.add(Conv2D(32, kernel_size=(3,3), activation='relu', input_shape=(256,256,3)))\n",
        "model.add(MaxPooling2D(pool_size=(2,2)))\n",
        "model.add(Flatten())\n",
        "model.add(Dense(256, activation='relu'))\n",
        "model.add(Dropout(0.2))\n",
        "model.add(Dense(1, activation='sigmoid'))"
      ],
      "execution_count": 0,
      "outputs": []
    },
    {
      "cell_type": "code",
      "metadata": {
        "id": "3iqaMIhj-2eP",
        "colab_type": "code",
        "colab": {}
      },
      "source": [
        "# Compile Model\n",
        "from keras.optimizers import Adam\n",
        "optimizer = Adam(learning_rate=0.001)\n",
        "model.compile(optimizer=optimizer, loss = 'binary_crossentropy', metrics=['accuracy'])"
      ],
      "execution_count": 0,
      "outputs": []
    },
    {
      "cell_type": "code",
      "metadata": {
        "id": "cOS315UAzUm4",
        "colab_type": "code",
        "colab": {}
      },
      "source": [
        "from keras.callbacks.callbacks import EarlyStopping\n",
        "\n",
        "callback = EarlyStopping(monitor='val_loss', min_delta=0.001, patience=3)"
      ],
      "execution_count": 0,
      "outputs": []
    },
    {
      "cell_type": "code",
      "metadata": {
        "id": "K4m-i2_B-2eT",
        "colab_type": "code",
        "colab": {
          "base_uri": "https://localhost:8080/",
          "height": 982
        },
        "outputId": "5ad72470-9da5-4684-8807-cb68e48e108f"
      },
      "source": [
        "# Fit Model\n",
        "model.fit(X_train, y_train, epochs=25, verbose=1, validation_data=(X_val, y_val))"
      ],
      "execution_count": 29,
      "outputs": [
        {
          "output_type": "stream",
          "text": [
            "Train on 520 samples, validate on 182 samples\n",
            "Epoch 1/25\n",
            "520/520 [==============================] - 1s 3ms/step - loss: 3184.0591 - accuracy: 0.6038 - val_loss: 102.3258 - val_accuracy: 0.9176\n",
            "Epoch 2/25\n",
            "520/520 [==============================] - 1s 2ms/step - loss: 127.4929 - accuracy: 0.8942 - val_loss: 93.3991 - val_accuracy: 0.8736\n",
            "Epoch 3/25\n",
            "520/520 [==============================] - 1s 2ms/step - loss: 67.6725 - accuracy: 0.9077 - val_loss: 100.3031 - val_accuracy: 0.8077\n",
            "Epoch 4/25\n",
            "520/520 [==============================] - 1s 2ms/step - loss: 20.4825 - accuracy: 0.9365 - val_loss: 23.4903 - val_accuracy: 0.9231\n",
            "Epoch 5/25\n",
            "520/520 [==============================] - 1s 2ms/step - loss: 7.0397 - accuracy: 0.9596 - val_loss: 53.5885 - val_accuracy: 0.8297\n",
            "Epoch 6/25\n",
            "520/520 [==============================] - 1s 2ms/step - loss: 5.8349 - accuracy: 0.9558 - val_loss: 61.4594 - val_accuracy: 0.8352\n",
            "Epoch 7/25\n",
            "520/520 [==============================] - 1s 2ms/step - loss: 1.8474 - accuracy: 0.9750 - val_loss: 14.4729 - val_accuracy: 0.9286\n",
            "Epoch 8/25\n",
            "520/520 [==============================] - 1s 2ms/step - loss: 2.0216 - accuracy: 0.9808 - val_loss: 11.6115 - val_accuracy: 0.9011\n",
            "Epoch 9/25\n",
            "520/520 [==============================] - 1s 2ms/step - loss: 4.8169 - accuracy: 0.9635 - val_loss: 34.7956 - val_accuracy: 0.8901\n",
            "Epoch 10/25\n",
            "520/520 [==============================] - 1s 2ms/step - loss: 2.4328 - accuracy: 0.9769 - val_loss: 16.2898 - val_accuracy: 0.9176\n",
            "Epoch 11/25\n",
            "520/520 [==============================] - 1s 2ms/step - loss: 0.2844 - accuracy: 0.9923 - val_loss: 19.9001 - val_accuracy: 0.8956\n",
            "Epoch 12/25\n",
            "520/520 [==============================] - 1s 2ms/step - loss: 0.1644 - accuracy: 0.9923 - val_loss: 18.1993 - val_accuracy: 0.9066\n",
            "Epoch 13/25\n",
            "520/520 [==============================] - 1s 2ms/step - loss: 0.1032 - accuracy: 0.9962 - val_loss: 10.8461 - val_accuracy: 0.9286\n",
            "Epoch 14/25\n",
            "520/520 [==============================] - 1s 2ms/step - loss: 0.0069 - accuracy: 0.9981 - val_loss: 9.3273 - val_accuracy: 0.9396\n",
            "Epoch 15/25\n",
            "520/520 [==============================] - 1s 2ms/step - loss: 0.4237 - accuracy: 0.9962 - val_loss: 23.5676 - val_accuracy: 0.8901\n",
            "Epoch 16/25\n",
            "520/520 [==============================] - 1s 2ms/step - loss: 0.0198 - accuracy: 0.9981 - val_loss: 27.2141 - val_accuracy: 0.8901\n",
            "Epoch 17/25\n",
            "520/520 [==============================] - 1s 2ms/step - loss: 0.0908 - accuracy: 0.9981 - val_loss: 10.4162 - val_accuracy: 0.9396\n",
            "Epoch 18/25\n",
            "520/520 [==============================] - 1s 2ms/step - loss: 0.1155 - accuracy: 0.9904 - val_loss: 8.2194 - val_accuracy: 0.9286\n",
            "Epoch 19/25\n",
            "520/520 [==============================] - 1s 2ms/step - loss: 0.9653 - accuracy: 0.9846 - val_loss: 45.5409 - val_accuracy: 0.8681\n",
            "Epoch 20/25\n",
            "520/520 [==============================] - 1s 2ms/step - loss: 1.1398 - accuracy: 0.9885 - val_loss: 15.6777 - val_accuracy: 0.9396\n",
            "Epoch 21/25\n",
            "520/520 [==============================] - 1s 2ms/step - loss: 0.6322 - accuracy: 0.9808 - val_loss: 11.0973 - val_accuracy: 0.9286\n",
            "Epoch 22/25\n",
            "520/520 [==============================] - 1s 2ms/step - loss: 0.0248 - accuracy: 0.9962 - val_loss: 12.3405 - val_accuracy: 0.9176\n",
            "Epoch 23/25\n",
            "520/520 [==============================] - 1s 2ms/step - loss: 0.0419 - accuracy: 0.9904 - val_loss: 11.2992 - val_accuracy: 0.9231\n",
            "Epoch 24/25\n",
            "520/520 [==============================] - 1s 2ms/step - loss: 0.0048 - accuracy: 0.9962 - val_loss: 11.3609 - val_accuracy: 0.9231\n",
            "Epoch 25/25\n",
            "520/520 [==============================] - 1s 2ms/step - loss: 0.0120 - accuracy: 0.9885 - val_loss: 11.4078 - val_accuracy: 0.9231\n"
          ],
          "name": "stdout"
        },
        {
          "output_type": "execute_result",
          "data": {
            "text/plain": [
              "<keras.callbacks.callbacks.History at 0x7fd1ef4c4a58>"
            ]
          },
          "metadata": {
            "tags": []
          },
          "execution_count": 29
        }
      ]
    },
    {
      "cell_type": "markdown",
      "metadata": {
        "id": "9Ju23m_2-2eY",
        "colab_type": "text"
      },
      "source": [
        "# Custom CNN Model with Image Manipulations\n",
        "## *This a stretch goal, and it's relatively difficult*\n",
        "\n",
        "To simulate an increase in a sample of image, you can apply image manipulation techniques: cropping, rotation, stretching, etc. Luckily Keras has some handy functions for us to apply these techniques to our mountain and forest example. Check out these resources to help you get started: \n",
        "\n",
        "1. [Keras `ImageGenerator` Class](https://keras.io/preprocessing/image/#imagedatagenerator-class)\n",
        "2. [Building a powerful image classifier with very little data](https://blog.keras.io/building-powerful-image-classification-models-using-very-little-data.html)\n",
        " "
      ]
    },
    {
      "cell_type": "code",
      "metadata": {
        "id": "wTyNsP0E3h_A",
        "colab_type": "code",
        "colab": {}
      },
      "source": [
        ""
      ],
      "execution_count": 0,
      "outputs": []
    },
    {
      "cell_type": "code",
      "metadata": {
        "id": "oBGRyn512601",
        "colab_type": "code",
        "colab": {}
      },
      "source": [
        "from keras.preprocessing.image import ImageDataGenerator as IDG"
      ],
      "execution_count": 0,
      "outputs": []
    },
    {
      "cell_type": "markdown",
      "metadata": {
        "colab_type": "text",
        "id": "uT3UV3gap9H6"
      },
      "source": [
        "# Resources and Stretch Goals\n",
        "\n",
        "Stretch goals\n",
        "- Enhance your code to use classes/functions and accept terms to search and classes to look for in recognizing the downloaded images (e.g. download images of parties, recognize all that contain balloons)\n",
        "- Check out [other available pretrained networks](https://tfhub.dev), try some and compare\n",
        "- Image recognition/classification is somewhat solved, but *relationships* between entities and describing an image is not - check out some of the extended resources (e.g. [Visual Genome](https://visualgenome.org/)) on the topic\n",
        "- Transfer learning - using images you source yourself, [retrain a classifier](https://www.tensorflow.org/hub/tutorials/image_retraining) with a new category\n",
        "- (Not CNN related) Use [piexif](https://pypi.org/project/piexif/) to check out the metadata of images passed in to your system - see if they're from a national park! (Note - many images lack GPS metadata, so this won't work in most cases, but still cool)\n",
        "\n",
        "Resources\n",
        "- [Deep Residual Learning for Image Recognition](https://arxiv.org/abs/1512.03385) - influential paper (introduced ResNet)\n",
        "- [YOLO: Real-Time Object Detection](https://pjreddie.com/darknet/yolo/) - an influential convolution based object detection system, focused on inference speed (for applications to e.g. self driving vehicles)\n",
        "- [R-CNN, Fast R-CNN, Faster R-CNN, YOLO](https://towardsdatascience.com/r-cnn-fast-r-cnn-faster-r-cnn-yolo-object-detection-algorithms-36d53571365e) - comparison of object detection systems\n",
        "- [Common Objects in Context](http://cocodataset.org/) - a large-scale object detection, segmentation, and captioning dataset\n",
        "- [Visual Genome](https://visualgenome.org/) - a dataset, a knowledge base, an ongoing effort to connect structured image concepts to language"
      ]
    }
  ]
}