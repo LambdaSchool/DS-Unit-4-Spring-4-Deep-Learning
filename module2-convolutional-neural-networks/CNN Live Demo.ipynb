{
 "cells": [
  {
   "cell_type": "code",
   "execution_count": 1,
   "metadata": {},
   "outputs": [],
   "source": [
    "import numpy as np"
   ]
  },
  {
   "cell_type": "code",
   "execution_count": 3,
   "metadata": {},
   "outputs": [],
   "source": [
    "dogs = np.load('./full_numpy_bitmap_dog.npy')\n",
    "elephants = np.load('./full_numpy_bitmap_elephant.npy')"
   ]
  },
  {
   "cell_type": "code",
   "execution_count": 4,
   "metadata": {},
   "outputs": [],
   "source": [
    "X_train = np.concatenate((dogs, elephants), axis=0)"
   ]
  },
  {
   "cell_type": "code",
   "execution_count": 6,
   "metadata": {},
   "outputs": [
    {
     "data": {
      "text/plain": [
       "(279128, 784)"
      ]
     },
     "execution_count": 6,
     "metadata": {},
     "output_type": "execute_result"
    }
   ],
   "source": [
    "X_train.shape"
   ]
  },
  {
   "cell_type": "code",
   "execution_count": 7,
   "metadata": {},
   "outputs": [],
   "source": [
    "X_train = X_train.reshape((X_train.shape[0],28,28))"
   ]
  },
  {
   "cell_type": "code",
   "execution_count": 8,
   "metadata": {},
   "outputs": [
    {
     "data": {
      "text/plain": [
       "(279128, 28, 28)"
      ]
     },
     "execution_count": 8,
     "metadata": {},
     "output_type": "execute_result"
    }
   ],
   "source": [
    "X_train.shape"
   ]
  },
  {
   "cell_type": "code",
   "execution_count": 9,
   "metadata": {},
   "outputs": [],
   "source": [
    "dog_y = np.ones(len(dogs))\n",
    "ele_y = np.zeros(len(elephants))\n",
    "y_train = np.concatenate((dog_y, ele_y), axis=0)"
   ]
  },
  {
   "cell_type": "code",
   "execution_count": 10,
   "metadata": {},
   "outputs": [],
   "source": [
    "def unison_shuffled_copies(a, b):\n",
    "    assert len(a) == len(b)\n",
    "    p = np.random.permutation(len(a))\n",
    "    return a[p], b[p]"
   ]
  },
  {
   "cell_type": "code",
   "execution_count": 11,
   "metadata": {},
   "outputs": [],
   "source": [
    "X_train, y_train = unison_shuffled_copies(X_train, y_train)"
   ]
  },
  {
   "cell_type": "code",
   "execution_count": 12,
   "metadata": {},
   "outputs": [],
   "source": [
    "import matplotlib.pyplot as plt\n",
    "import matplotlib.image as mpimg"
   ]
  },
  {
   "cell_type": "code",
   "execution_count": 17,
   "metadata": {},
   "outputs": [
    {
     "data": {
      "text/plain": [
       "<matplotlib.image.AxesImage at 0x145d1d2e8>"
      ]
     },
     "execution_count": 17,
     "metadata": {},
     "output_type": "execute_result"
    },
    {
     "data": {
      "image/png": "[encoded data removed]",
      "text/plain": [
       "<Figure size 432x288 with 1 Axes>"
      ]
     },
     "metadata": {
      "needs_background": "light"
     },
     "output_type": "display_data"
    }
   ],
   "source": [
    "plt.imshow(elephants[500].reshape(28,28), cmap='gray')"
   ]
  },
  {
   "cell_type": "code",
   "execution_count": 22,
   "metadata": {},
   "outputs": [
    {
     "data": {
      "text/plain": [
       "(279128, 28, 28)"
      ]
     },
     "execution_count": 22,
     "metadata": {},
     "output_type": "execute_result"
    }
   ],
   "source": [
    "X_train.shape"
   ]
  },
  {
   "cell_type": "code",
   "execution_count": 27,
   "metadata": {},
   "outputs": [],
   "source": [
    "from tensorflow.keras.models import Sequential\n",
    "from tensorflow.keras.layers import Conv1D, Dense, MaxPool1D, Flatten"
   ]
  },
  {
   "cell_type": "code",
   "execution_count": 34,
   "metadata": {},
   "outputs": [],
   "source": [
    "def create_model():\n",
    "    \n",
    "    model = Sequential()\n",
    "    model.add(Conv1D(4, (2), padding='same', activation='relu', input_shape=(28,28)))\n",
    "    model.add(Conv1D(4, (2), activation='relu'))\n",
    "    model.add(MaxPool1D(pool_size=(2)))\n",
    "    \n",
    "    model.add(Flatten())\n",
    "    model.add(Dense(512, activation='relu'))\n",
    "    model.add(Dense(1, activation='sigmoid'))\n",
    "    \n",
    "    return model"
   ]
  },
  {
   "cell_type": "code",
   "execution_count": null,
   "metadata": {},
   "outputs": [
    {
     "name": "stderr",
     "output_type": "stream",
     "text": [
      "WARNING: Logging before flag parsing goes to stderr.\n",
      "W0917 12:41:07.009786 4503033280 deprecation.py:323] From /Users/jonathansokoll/anaconda3/envs/U4-S3-DNN/lib/python3.7/site-packages/tensorflow/python/ops/math_grad.py:1250: add_dispatch_support.<locals>.wrapper (from tensorflow.python.ops.array_ops) is deprecated and will be removed in a future version.\n",
      "Instructions for updating:\n",
      "Use tf.where in 2.0, which has the same broadcast rule as np.where\n"
     ]
    },
    {
     "name": "stdout",
     "output_type": "stream",
     "text": [
      "Train on 279128 samples\n",
      "Epoch 1/100\n",
      "279128/279128 [==============================] - 16s 56us/sample - loss: 4.8186 - accuracy: 0.6819\n",
      "Epoch 2/100\n",
      "279128/279128 [==============================] - 16s 59us/sample - loss: 4.1554 - accuracy: 0.7278\n",
      "Epoch 3/100\n",
      "279128/279128 [==============================] - 16s 59us/sample - loss: 3.9432 - accuracy: 0.7424\n",
      "Epoch 4/100\n",
      "279128/279128 [==============================] - 15s 55us/sample - loss: 3.8454 - accuracy: 0.7492\n",
      "Epoch 5/100\n",
      "279128/279128 [==============================] - 16s 57us/sample - loss: 3.9513 - accuracy: 0.7425\n",
      "Epoch 6/100\n",
      "279128/279128 [==============================] - 16s 58us/sample - loss: 4.0123 - accuracy: 0.7385\n",
      "Epoch 7/100\n",
      "279128/279128 [==============================] - 16s 58us/sample - loss: 3.8303 - accuracy: 0.7506\n",
      "Epoch 8/100\n",
      "279128/279128 [==============================] - 16s 56us/sample - loss: 3.9059 - accuracy: 0.7457\n",
      "Epoch 9/100\n",
      "279128/279128 [==============================] - 17s 60us/sample - loss: 3.9745 - accuracy: 0.7412\n",
      "Epoch 10/100\n",
      "279128/279128 [==============================] - 16s 57us/sample - loss: 3.9358 - accuracy: 0.7436\n",
      "Epoch 11/100\n",
      "279128/279128 [==============================] - 16s 57us/sample - loss: 4.0419 - accuracy: 0.7370\n",
      "Epoch 12/100\n",
      "279128/279128 [==============================] - 16s 58us/sample - loss: 3.9543 - accuracy: 0.7427\n",
      "Epoch 13/100\n",
      "279128/279128 [==============================] - 16s 58us/sample - loss: 3.7942 - accuracy: 0.7531\n",
      "Epoch 14/100\n",
      "279128/279128 [==============================] - 16s 58us/sample - loss: 4.3552 - accuracy: 0.7171\n",
      "Epoch 15/100\n",
      "279128/279128 [==============================] - 16s 58us/sample - loss: 4.0884 - accuracy: 0.7343\n",
      "Epoch 16/100\n",
      "279128/279128 [==============================] - 17s 60us/sample - loss: 3.8999 - accuracy: 0.7464\n",
      "Epoch 17/100\n",
      "279128/279128 [==============================] - 17s 61us/sample - loss: 4.0004 - accuracy: 0.7400\n",
      "Epoch 18/100\n",
      "279128/279128 [==============================] - 16s 59us/sample - loss: 3.8931 - accuracy: 0.7468\n",
      "Epoch 19/100\n",
      "279128/279128 [==============================] - 18s 63us/sample - loss: 4.0296 - accuracy: 0.7377\n",
      "Epoch 20/100\n",
      "279128/279128 [==============================] - 17s 60us/sample - loss: 3.9907 - accuracy: 0.7402\n",
      "Epoch 21/100\n",
      "279128/279128 [==============================] - 16s 58us/sample - loss: 4.4351 - accuracy: 0.7112\n",
      "Epoch 22/100\n",
      "279128/279128 [==============================] - 15s 54us/sample - loss: 4.0297 - accuracy: 0.7379\n",
      "Epoch 23/100\n",
      "279128/279128 [==============================] - 16s 57us/sample - loss: 3.9273 - accuracy: 0.7447\n",
      "Epoch 24/100\n",
      "279128/279128 [==============================] - 19s 68us/sample - loss: 4.0524 - accuracy: 0.7364\n",
      "Epoch 25/100\n",
      "279128/279128 [==============================] - 18s 63us/sample - loss: 4.7449 - accuracy: 0.6920\n",
      "Epoch 26/100\n",
      "279128/279128 [==============================] - 18s 63us/sample - loss: 4.6169 - accuracy: 0.7002\n",
      "Epoch 27/100\n",
      "279128/279128 [==============================] - 16s 59us/sample - loss: 4.4462 - accuracy: 0.7105\n",
      "Epoch 28/100\n",
      "279128/279128 [==============================] - 16s 56us/sample - loss: 4.4424 - accuracy: 0.7109\n",
      "Epoch 29/100\n",
      "279128/279128 [==============================] - 17s 59us/sample - loss: 4.1765 - accuracy: 0.7285\n",
      "Epoch 30/100\n",
      "279128/279128 [==============================] - 17s 61us/sample - loss: 4.2015 - accuracy: 0.7271\n",
      "Epoch 31/100\n",
      "279128/279128 [==============================] - 17s 60us/sample - loss: 4.0791 - accuracy: 0.7345\n",
      "Epoch 32/100\n",
      "279128/279128 [==============================] - 17s 62us/sample - loss: 4.0770 - accuracy: 0.7349\n",
      "Epoch 33/100\n",
      "279128/279128 [==============================] - 17s 60us/sample - loss: 4.0805 - accuracy: 0.7346\n",
      "Epoch 34/100\n",
      "279128/279128 [==============================] - 16s 57us/sample - loss: 3.9759 - accuracy: 0.7413\n",
      "Epoch 35/100\n",
      "279128/279128 [==============================] - 17s 62us/sample - loss: 3.9361 - accuracy: 0.7438\n",
      "Epoch 36/100\n",
      "279128/279128 [==============================] - 17s 60us/sample - loss: 4.2857 - accuracy: 0.7210\n",
      "Epoch 37/100\n",
      "279128/279128 [==============================] - 17s 62us/sample - loss: 4.2982 - accuracy: 0.7204\n",
      "Epoch 38/100\n",
      "279128/279128 [==============================] - 17s 62us/sample - loss: 4.1506 - accuracy: 0.7300\n",
      "Epoch 39/100\n",
      "279128/279128 [==============================] - 16s 58us/sample - loss: 4.0078 - accuracy: 0.7393\n",
      "Epoch 40/100\n",
      "279128/279128 [==============================] - 16s 56us/sample - loss: 3.8107 - accuracy: 0.7521\n",
      "Epoch 41/100\n",
      "279128/279128 [==============================] - 16s 58us/sample - loss: 3.7895 - accuracy: 0.7536\n",
      "Epoch 42/100\n",
      "279128/279128 [==============================] - 17s 62us/sample - loss: 3.9244 - accuracy: 0.7450\n",
      "Epoch 43/100\n",
      "279128/279128 [==============================] - 17s 61us/sample - loss: 4.0333 - accuracy: 0.7378\n",
      "Epoch 44/100\n",
      "279128/279128 [==============================] - 17s 62us/sample - loss: 3.9668 - accuracy: 0.7421\n",
      "Epoch 45/100\n",
      "279128/279128 [==============================] - 18s 64us/sample - loss: 4.0380 - accuracy: 0.7375\n",
      "Epoch 46/100\n",
      "279128/279128 [==============================] - 16s 57us/sample - loss: 4.0948 - accuracy: 0.7338\n",
      "Epoch 47/100\n",
      "279128/279128 [==============================] - 15s 55us/sample - loss: 3.9579 - accuracy: 0.7424\n",
      "Epoch 48/100\n",
      "279128/279128 [==============================] - 16s 58us/sample - loss: 4.0055 - accuracy: 0.7393\n",
      "Epoch 49/100\n",
      "279128/279128 [==============================] - 17s 61us/sample - loss: 4.0248 - accuracy: 0.7385\n",
      "Epoch 50/100\n",
      "279128/279128 [==============================] - 15s 55us/sample - loss: 3.9846 - accuracy: 0.7407\n",
      "Epoch 51/100\n",
      "279128/279128 [==============================] - 15s 54us/sample - loss: 3.9781 - accuracy: 0.7412\n",
      "Epoch 52/100\n",
      "279128/279128 [==============================] - 16s 58us/sample - loss: 4.0185 - accuracy: 0.7389\n",
      "Epoch 53/100\n",
      "279128/279128 [==============================] - 17s 63us/sample - loss: 3.9404 - accuracy: 0.7438\n",
      "Epoch 54/100\n",
      "279128/279128 [==============================] - 17s 61us/sample - loss: 4.1849 - accuracy: 0.7279\n",
      "Epoch 55/100\n",
      "279128/279128 [==============================] - 17s 60us/sample - loss: 4.1084 - accuracy: 0.7330\n",
      "Epoch 56/100\n",
      "279128/279128 [==============================] - 17s 59us/sample - loss: 3.9265 - accuracy: 0.7448\n",
      "Epoch 57/100\n",
      "279128/279128 [==============================] - 17s 61us/sample - loss: 4.0577 - accuracy: 0.7360\n",
      "Epoch 58/100\n",
      "279128/279128 [==============================] - 17s 62us/sample - loss: 3.9772 - accuracy: 0.7412\n",
      "Epoch 59/100\n",
      "279128/279128 [==============================] - 18s 63us/sample - loss: 3.8331 - accuracy: 0.7507\n",
      "Epoch 60/100\n",
      "279128/279128 [==============================] - 17s 61us/sample - loss: 3.8724 - accuracy: 0.7482\n",
      "Epoch 61/100\n",
      "279128/279128 [==============================] - 18s 63us/sample - loss: 4.2135 - accuracy: 0.7256\n",
      "Epoch 62/100\n",
      "279128/279128 [==============================] - 18s 63us/sample - loss: 3.9769 - accuracy: 0.7411\n",
      "Epoch 63/100\n",
      "279128/279128 [==============================] - 17s 63us/sample - loss: 4.2564 - accuracy: 0.7234\n",
      "Epoch 64/100\n",
      "279128/279128 [==============================] - 17s 60us/sample - loss: 4.0732 - accuracy: 0.7351\n",
      "Epoch 65/100\n",
      "279128/279128 [==============================] - 17s 60us/sample - loss: 4.2814 - accuracy: 0.7219\n",
      "Epoch 66/100\n",
      "279128/279128 [==============================] - 17s 60us/sample - loss: 4.6535 - accuracy: 0.6981\n",
      "Epoch 67/100\n",
      "279128/279128 [==============================] - 17s 61us/sample - loss: 4.1888 - accuracy: 0.7279\n",
      "Epoch 68/100\n",
      "279128/279128 [==============================] - 17s 60us/sample - loss: 3.8011 - accuracy: 0.7528\n",
      "Epoch 69/100\n",
      "279128/279128 [==============================] - 17s 62us/sample - loss: 3.7888 - accuracy: 0.7535\n",
      "Epoch 70/100\n",
      "279128/279128 [==============================] - 17s 60us/sample - loss: 3.8694 - accuracy: 0.7486\n",
      "Epoch 71/100\n",
      "279128/279128 [==============================] - 14s 50us/sample - loss: 3.9570 - accuracy: 0.7425\n",
      "Epoch 72/100\n",
      "279128/279128 [==============================] - 13s 46us/sample - loss: 4.2779 - accuracy: 0.7222\n",
      "Epoch 73/100\n",
      "279128/279128 [==============================] - 13s 46us/sample - loss: 3.8208 - accuracy: 0.7515\n",
      "Epoch 74/100\n",
      "279128/279128 [==============================] - 12s 43us/sample - loss: 4.2397 - accuracy: 0.7247\n",
      "Epoch 75/100\n",
      "279128/279128 [==============================] - 13s 48us/sample - loss: 3.9918 - accuracy: 0.7405\n",
      "Epoch 76/100\n",
      "279128/279128 [==============================] - 12s 44us/sample - loss: 4.1962 - accuracy: 0.7268\n",
      "Epoch 77/100\n",
      "279128/279128 [==============================] - 14s 50us/sample - loss: 4.2982 - accuracy: 0.7201\n",
      "Epoch 78/100\n",
      "279128/279128 [==============================] - 14s 50us/sample - loss: 4.6602 - accuracy: 0.6964\n",
      "Epoch 79/100\n",
      "279128/279128 [==============================] - 14s 50us/sample - loss: 4.1074 - accuracy: 0.7327\n",
      "Epoch 80/100\n",
      "279128/279128 [==============================] - 14s 50us/sample - loss: 3.9126 - accuracy: 0.7455\n",
      "Epoch 81/100\n",
      "279128/279128 [==============================] - 14s 50us/sample - loss: 3.9842 - accuracy: 0.7409\n",
      "Epoch 82/100\n",
      "279128/279128 [==============================] - 12s 44us/sample - loss: 4.0231 - accuracy: 0.7381\n",
      "Epoch 83/100\n",
      "279128/279128 [==============================] - 12s 44us/sample - loss: 4.4381 - accuracy: 0.7110\n",
      "Epoch 84/100\n",
      "279128/279128 [==============================] - 12s 44us/sample - loss: 4.0371 - accuracy: 0.7376\n",
      "Epoch 85/100\n",
      "279128/279128 [==============================] - 13s 48us/sample - loss: 3.9459 - accuracy: 0.7434\n",
      "Epoch 86/100\n",
      "279128/279128 [==============================] - 13s 46us/sample - loss: 3.8659 - accuracy: 0.7486\n",
      "Epoch 87/100\n",
      "279128/279128 [==============================] - 12s 43us/sample - loss: 3.8382 - accuracy: 0.7505\n",
      "Epoch 88/100\n",
      "279128/279128 [==============================] - 13s 45us/sample - loss: 4.0298 - accuracy: 0.7382\n",
      "Epoch 89/100\n",
      "279128/279128 [==============================] - 13s 45us/sample - loss: 3.9301 - accuracy: 0.7445\n",
      "Epoch 90/100\n",
      "279128/279128 [==============================] - 12s 43us/sample - loss: 3.8732 - accuracy: 0.7483\n",
      "Epoch 91/100\n",
      "180800/279128 [==================>...........] - ETA: 4s - loss: 3.7478 - accuracy: 0.7564"
     ]
    }
   ],
   "source": [
    "# Defined arch\n",
    "# Next step in Keras is to COMPILE!.... \n",
    "\n",
    "model = create_model()\n",
    "epochs = 100\n",
    "batch_size = 32\n",
    "\n",
    "model.compile(optimizer='adam', loss=\"binary_crossentropy\", metrics=[\"accuracy\"])\n",
    "model.fit(X_train, y_train, epochs=epochs, batch_size=batch_size)"
   ]
  },
  {
   "cell_type": "code",
   "execution_count": null,
   "metadata": {},
   "outputs": [],
   "source": []
  }
 ],
 "metadata": {
  "kernelspec": {
   "display_name": "U4-S3-DNN (Python 3.7)",
   "language": "python",
   "name": "u4-s3-dnn"
  },
  "language_info": {
   "codemirror_mode": {
    "name": "ipython",
    "version": 3
   },
   "file_extension": ".py",
   "mimetype": "text/x-python",
   "name": "python",
   "nbconvert_exporter": "python",
   "pygments_lexer": "ipython3",
   "version": "3.7.3"
  }
 },
 "nbformat": 4,
 "nbformat_minor": 2
}
