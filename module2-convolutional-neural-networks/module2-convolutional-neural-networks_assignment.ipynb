{
 "cells": [
  {
   "cell_type": "code",
   "execution_count": 145,
   "metadata": {
    "colab": {
     "base_uri": "https://localhost:8080/",
     "height": 33
    },
    "colab_type": "code",
    "id": "5uZvjV_fwtsJ",
    "outputId": "6a67d078-6a64-41cb-be4f-a4de896957b6"
   },
   "outputs": [],
   "source": [
    "import requests\n",
    "import matplotlib.image as mpimg\n",
    "import matplotlib.pyplot as plt\n",
    "import numpy as np\n",
    "import scipy.ndimage as nd\n",
    "import tensorflow as tf\n",
    "import tensorflow_hub as hub\n",
    "import imageio\n",
    "from google_images_download import google_images_download\n",
    "from keras.applications.resnet50 import ResNet50\n",
    "from keras.preprocessing import image\n",
    "from keras.applications.resnet50 import preprocess_input, decode_predictions\n",
    "import PIL.Image\n",
    "import PIL.ImageOps\n",
    "from scipy.spatial import cKDTree\n",
    "from skimage.feature import plot_matches\n",
    "from skimage.filters import gaussian\n",
    "from skimage.measure import ransac\n",
    "from skimage.transform import AffineTransform\n",
    "from skimage import color, io\n",
    "from skimage.exposure import rescale_intensity\n"
   ]
  },
  {
   "cell_type": "code",
   "execution_count": 138,
   "metadata": {
    "colab": {
     "base_uri": "https://localhost:8080/",
     "height": 33
    },
    "colab_type": "code",
    "id": "VtAI6coDbQpW",
    "outputId": "bed45df6-69bf-4879-87da-645f2320a71b"
   },
   "outputs": [
    {
     "data": {
      "text/plain": [
       "(224, 224)"
      ]
     },
     "execution_count": 138,
     "metadata": {},
     "output_type": "execute_result"
    }
   ],
   "source": [
    "module = hub.Module(\"https://tfhub.dev/google/imagenet/resnet_v1_50/classification/1\")\n",
    "height, width = hub.get_expected_image_size(module)\n",
    "height, width"
   ]
  },
  {
   "cell_type": "code",
   "execution_count": 139,
   "metadata": {
    "colab": {
     "base_uri": "https://localhost:8080/",
     "height": 833
    },
    "colab_type": "code",
    "id": "wDc8EvOfbQpY",
    "outputId": "a77de07a-b5f8-4b03-8635-1ecc58057e49"
   },
   "outputs": [
    {
     "name": "stdout",
     "output_type": "stream",
     "text": [
      "\n",
      "Item no.: 1 --> Item name = animal national park\n",
      "Evaluating...\n",
      "Starting Download...\n",
      "Image URL: https://i.ytimg.com/vi/P8NJa_YoRxk/maxresdefault.jpg\n",
      "Completed Image ====> 1.maxresdefault.jpg\n",
      "Image URL: https://k6u8v6y8.stackpathcdn.com/blog/wp-content/uploads/2017/06/Royal-Bengal-Tiger.jpg\n",
      "Completed Image ====> 2.Royal-Bengal-Tiger.jpg\n",
      "Image URL: https://www.corbettnationalpark.in/blog/wp-content/uploads/2015/08/cropped-13625772024_1fd7467d29_k1.jpg\n",
      "Completed Image ====> 3.cropped-13625772024_1fd7467d29_k1.jpg\n",
      "Image URL: https://www.nps.gov/arch/learn/nature/images/ARK_6.jpg?maxwidth=1200&maxheight=1200&autorotate=false\n",
      "Completed Image ====> 4.ARK_6.jpg\n",
      "Image URL: https://npca.s3.amazonaws.com/images/8135/2c7e0d75-c7ff-4336-99d7-259448d03a4d-banner.jpg?1445969501\n",
      "Completed Image ====> 5.2c7e0d75-c7ff-4336-99d7-259448d03a4d-banner.jpg\n",
      "Image URL: https://k6u8v6y8.stackpathcdn.com/blog/wp-content/uploads/2014/04/national-parks-and-wildlife-sanctuaries-in-india.png\n",
      "Completed Image ====> 6.national-parks-and-wildlife-sanctuaries-in-india.png\n",
      "Image URL: https://www.nps.gov/voya/learn/nature/images/VOYA_web_deer.jpg?maxwidth=1200&maxheight=1200&autorotate=false\n",
      "Completed Image ====> 7.VOYA_web_deer.jpg\n",
      "Image URL: https://npca.s3.amazonaws.com/images/11194/a2d539ed-8489-4eb4-a135-14e7e9e0e84a-banner.jpg?1495201170\n",
      "Completed Image ====> 8.a2d539ed-8489-4eb4-a135-14e7e9e0e84a-banner.jpg\n",
      "Image URL: https://www.kideponationalpark.com/wp-content/uploads/2016/11/zebras-in-kidepo-750x450.jpg\n",
      "Completed Image ====> 9.zebras-in-kidepo-750x450.jpg\n",
      "Image URL: http://jacksonhole-traveler-production.s3.amazonaws.com/wp-content/uploads/2014/05/moose-moosecalf-1280x853.jpg\n",
      "Completed Image ====> 10.moose-moosecalf-1280x853.jpg\n",
      "Image URL: http://www.nature-reserve.co.za/images/addo-elephant-national-park-elephants-590x390.jpg\n",
      "Completed Image ====> 11.addo-elephant-national-park-elephants-590x390.jpg\n",
      "Image URL: https://allaboutassam.in/wp-content/uploads/2018/12/nameri-national-park-is-famous-for-which-animal.jpg\n",
      "Completed Image ====> 12.nameri-national-park-is-famous-for-which-animal.jpg\n",
      "Image URL: https://media-cdn.tripadvisor.com/media/photo-s/02/31/63/34/nairobi-national-park.jpg\n",
      "Completed Image ====> 13.nairobi-national-park.jpg\n",
      "Image URL: https://lowvelder.co.za/wp-content/uploads/sites/44/2019/01/lion-520x400.jpg\n",
      "Completed Image ====> 14.lion-520x400.jpg\n",
      "Image URL: https://upload.wikimedia.org/wikipedia/commons/5/54/Nairobi_National_Park%2C_Kenya_%2832570316676%29.jpg\n",
      "Completed Image ====> 15.Nairobi_National_Park%2C_Kenya_%2832570316676%29.jpg\n",
      "Image URL: https://upload.wikimedia.org/wikipedia/commons/1/1f/Tiger_Kanha_National_Park.jpg\n",
      "Completed Image ====> 16.Tiger_Kanha_National_Park.jpg\n",
      "Image URL: https://ihplb.b-cdn.net/wp-content/uploads/2014/06/Bandhavgarh.jpg\n",
      "Completed Image ====> 17.Bandhavgarh.jpg\n",
      "Image URL: https://static.toiimg.com/thumb/50927262/Dudhwa-National-Park.jpg?width=748&height=499\n",
      "Completed Image ====> 18.Dudhwa-National-Park.jpg\n",
      "Image URL: https://assets.traveltriangle.com/blog/wp-content/uploads/2016/08/Sariska-national-Park.jpg\n",
      "Completed Image ====> 19.Sariska-national-Park.jpg\n",
      "Image URL: https://africanbluetours.com/wp-content/uploads/2015/04/2-day-kruger-slider1.jpg\n",
      "Completed Image ====> 20.2-day-kruger-slider1.jpg\n",
      "\n",
      "Errors: 0\n",
      "\n"
     ]
    }
   ],
   "source": [
    "response = google_images_download.googleimagesdownload()\n",
    "arguments = {\"keywords\": \"animal national park\", \"limit\": 20,\n",
    "             \"print_urls\": True}\n",
    "absolute_image_paths = response.download(arguments)"
   ]
  },
  {
   "cell_type": "code",
   "execution_count": 150,
   "metadata": {
    "colab": {
     "base_uri": "https://localhost:8080/",
     "height": 350
    },
    "colab_type": "code",
    "id": "fTBx2HfhbQpa",
    "outputId": "4b450aa7-af46-4183-fb89-2809cccaffd6"
   },
   "outputs": [
    {
     "data": {
      "text/plain": [
       "['C:\\\\Users\\\\lilyx\\\\DS-Unit-4-Sprint-3-Deep-Learning\\\\module2-convolutional-neural-networks\\\\downloads\\\\animal national park\\\\1.maxresdefault.jpg',\n",
       " 'C:\\\\Users\\\\lilyx\\\\DS-Unit-4-Sprint-3-Deep-Learning\\\\module2-convolutional-neural-networks\\\\downloads\\\\animal national park\\\\2.Royal-Bengal-Tiger.jpg',\n",
       " 'C:\\\\Users\\\\lilyx\\\\DS-Unit-4-Sprint-3-Deep-Learning\\\\module2-convolutional-neural-networks\\\\downloads\\\\animal national park\\\\3.cropped-13625772024_1fd7467d29_k1.jpg',\n",
       " 'C:\\\\Users\\\\lilyx\\\\DS-Unit-4-Sprint-3-Deep-Learning\\\\module2-convolutional-neural-networks\\\\downloads\\\\animal national park\\\\4.ARK_6.jpg',\n",
       " 'C:\\\\Users\\\\lilyx\\\\DS-Unit-4-Sprint-3-Deep-Learning\\\\module2-convolutional-neural-networks\\\\downloads\\\\animal national park\\\\5.2c7e0d75-c7ff-4336-99d7-259448d03a4d-banner.jpg',\n",
       " 'C:\\\\Users\\\\lilyx\\\\DS-Unit-4-Sprint-3-Deep-Learning\\\\module2-convolutional-neural-networks\\\\downloads\\\\animal national park\\\\6.national-parks-and-wildlife-sanctuaries-in-india.png',\n",
       " 'C:\\\\Users\\\\lilyx\\\\DS-Unit-4-Sprint-3-Deep-Learning\\\\module2-convolutional-neural-networks\\\\downloads\\\\animal national park\\\\7.VOYA_web_deer.jpg',\n",
       " 'C:\\\\Users\\\\lilyx\\\\DS-Unit-4-Sprint-3-Deep-Learning\\\\module2-convolutional-neural-networks\\\\downloads\\\\animal national park\\\\8.a2d539ed-8489-4eb4-a135-14e7e9e0e84a-banner.jpg',\n",
       " 'C:\\\\Users\\\\lilyx\\\\DS-Unit-4-Sprint-3-Deep-Learning\\\\module2-convolutional-neural-networks\\\\downloads\\\\animal national park\\\\9.zebras-in-kidepo-750x450.jpg',\n",
       " 'C:\\\\Users\\\\lilyx\\\\DS-Unit-4-Sprint-3-Deep-Learning\\\\module2-convolutional-neural-networks\\\\downloads\\\\animal national park\\\\10.moose-moosecalf-1280x853.jpg',\n",
       " 'C:\\\\Users\\\\lilyx\\\\DS-Unit-4-Sprint-3-Deep-Learning\\\\module2-convolutional-neural-networks\\\\downloads\\\\animal national park\\\\11.addo-elephant-national-park-elephants-590x390.jpg',\n",
       " 'C:\\\\Users\\\\lilyx\\\\DS-Unit-4-Sprint-3-Deep-Learning\\\\module2-convolutional-neural-networks\\\\downloads\\\\animal national park\\\\12.nameri-national-park-is-famous-for-which-animal.jpg',\n",
       " 'C:\\\\Users\\\\lilyx\\\\DS-Unit-4-Sprint-3-Deep-Learning\\\\module2-convolutional-neural-networks\\\\downloads\\\\animal national park\\\\13.nairobi-national-park.jpg',\n",
       " 'C:\\\\Users\\\\lilyx\\\\DS-Unit-4-Sprint-3-Deep-Learning\\\\module2-convolutional-neural-networks\\\\downloads\\\\animal national park\\\\14.lion-520x400.jpg',\n",
       " 'C:\\\\Users\\\\lilyx\\\\DS-Unit-4-Sprint-3-Deep-Learning\\\\module2-convolutional-neural-networks\\\\downloads\\\\animal national park\\\\15.Nairobi_National_Park%2C_Kenya_%2832570316676%29.jpg',\n",
       " 'C:\\\\Users\\\\lilyx\\\\DS-Unit-4-Sprint-3-Deep-Learning\\\\module2-convolutional-neural-networks\\\\downloads\\\\animal national park\\\\16.Tiger_Kanha_National_Park.jpg',\n",
       " 'C:\\\\Users\\\\lilyx\\\\DS-Unit-4-Sprint-3-Deep-Learning\\\\module2-convolutional-neural-networks\\\\downloads\\\\animal national park\\\\17.Bandhavgarh.jpg',\n",
       " 'C:\\\\Users\\\\lilyx\\\\DS-Unit-4-Sprint-3-Deep-Learning\\\\module2-convolutional-neural-networks\\\\downloads\\\\animal national park\\\\18.Dudhwa-National-Park.jpg',\n",
       " 'C:\\\\Users\\\\lilyx\\\\DS-Unit-4-Sprint-3-Deep-Learning\\\\module2-convolutional-neural-networks\\\\downloads\\\\animal national park\\\\19.Sariska-national-Park.jpg',\n",
       " 'C:\\\\Users\\\\lilyx\\\\DS-Unit-4-Sprint-3-Deep-Learning\\\\module2-convolutional-neural-networks\\\\downloads\\\\animal national park\\\\20.2-day-kruger-slider1.jpg']"
      ]
     },
     "execution_count": 150,
     "metadata": {},
     "output_type": "execute_result"
    }
   ],
   "source": [
    "image_list = absolute_image_paths[0]['animal national park']\n",
    "image_list"
   ]
  },
  {
   "cell_type": "code",
   "execution_count": 73,
   "metadata": {},
   "outputs": [],
   "source": [
    "def resize_image(filename, new_width=256, new_height=256):#the delf model was trained on images 256x256 the input of our model also should be 256x256\n",
    "  pil_image = Image.open(filename)\n",
    "  pil_image = ImageOps.fit(pil_image, (new_width, new_height), Image.ANTIALIAS)\n",
    "  pil_image_rgb = pil_image.convert('RGB')\n",
    "  pil_image_rgb.save(filename, format='JPEG', quality=90)\n",
    "\n",
    "for i in image_list:\n",
    "     resize_image(i)"
   ]
  },
  {
   "cell_type": "code",
   "execution_count": 134,
   "metadata": {},
   "outputs": [
    {
     "name": "stdout",
     "output_type": "stream",
     "text": [
      "C:\\Users\\lilyx\\DS-Unit-4-Sprint-3-Deep-Learning\\module2-convolutional-neural-networks\\downloads\\animalnationalpark\n"
     ]
    }
   ],
   "source": [
    "import os\n",
    "pathimg = os.path.abspath('C:\\\\Users\\\\lilyx\\\\DS-Unit-4-Sprint-3-Deep-Learning\\\\module2-convolutional-neural-networks\\\\downloads\\\\animalnationalpark')\n",
    "print(pathimg)"
   ]
  },
  {
   "cell_type": "code",
   "execution_count": 135,
   "metadata": {},
   "outputs": [
    {
     "name": "stdout",
     "output_type": "stream",
     "text": [
      "1.maxresdefault.jpg\n",
      "10.moose-moosecalf-1280x853.jpg\n",
      "10.zebras-in-kidepo-750x450.jpg\n",
      "11.addo-elephant-national-park-elephants-590x390.jpg\n",
      "11.zebras-in-kidepo-750x450.jpg\n",
      "12.lion-520x400.jpg\n",
      "12.nameri-national-park-is-famous-for-which-animal.jpg\n",
      "13.lion-520x400.jpg\n",
      "13.Nairobi_National_Park%2C_Kenya_%2832570316676%29.jpg\n",
      "14.lion-520x400.jpg\n",
      "14.nairobi-national-park.jpg\n",
      "14.Nairobi_National_Park%2C_Kenya_%2832570316676%29.jpg\n",
      "14.Tiger_Kanha_National_Park.jpg\n",
      "15.Bandhavgarh.jpg\n",
      "15.lion-520x400.jpg\n",
      "15.nairobi-national-park.jpg\n",
      "15.Nairobi_National_Park%2C_Kenya_%2832570316676%29.jpg\n",
      "15.Tiger_Kanha_National_Park.jpg\n",
      "16.Bandhavgarh.jpg\n",
      "16.Dudhwa-National-Park.jpg\n",
      "16.Sariska-national-Park.jpg\n",
      "16.Tiger_Kanha_National_Park.jpg\n",
      "17.Bandhavgarh.jpg\n",
      "17.Dudhwa-National-Park.jpg\n",
      "17.Sariska-national-Park.jpg\n",
      "18.2-day-kruger-slider1.jpg\n",
      "18.Dudhwa-National-Park.jpg\n",
      "18.Grizzly-DanRafla.jpg\n",
      "18.Sariska-national-Park.jpg\n",
      "19.2-day-kruger-slider1.jpg\n",
      "19.Sariska-national-Park.jpg\n",
      "19.Van-Vihar-National-Parkbhopal.jpg\n",
      "19._105391047_gettyimages-803131144.jpg\n",
      "2.ARK_6.jpg\n",
      "2.Royal-Bengal-Tiger.jpg\n",
      "20.Dudhwa-National-Park.jpg\n",
      "20.spot-denali-national-parks-animals.jpg\n",
      "20.swamp-wallaby-01.jpg\n",
      "20.Tiger_Kanha_National_Park.jpg\n",
      "20.Van-Vihar-National-Parkbhopal.jpg\n",
      "3.ARK_6.jpg\n",
      "3.Royal-Bengal-Tiger.jpg\n",
      "4.cropped-13625772024_1fd7467d29_k1.jpg\n",
      "5.2c7e0d75-c7ff-4336-99d7-259448d03a4d-banner.jpg\n",
      "7.VOYA_web_deer.jpg\n",
      "8.a2d539ed-8489-4eb4-a135-14e7e9e0e84a-banner.jpg\n",
      "9.addo-elephant-national-park-elephants-590x390.jpg\n",
      "9.moose-moosecalf-1280x853.jpg\n",
      "9.zebras-in-kidepo-750x450.jpg\n"
     ]
    }
   ],
   "source": [
    "for filename in os.listdir('C:\\\\Users\\\\lilyx\\\\DS-Unit-4-Sprint-3-Deep-Learning\\\\module2-convolutional-neural-networks\\\\downloads\\\\animalnationalpark'):\n",
    "    if filename.endswith('.jpg'):\n",
    "        print(filename)"
   ]
  },
  {
   "cell_type": "code",
   "execution_count": 169,
   "metadata": {},
   "outputs": [],
   "source": [
    "# for filename in os.listdir('C:\\\\Users\\\\lilyx\\\\DS-Unit-4-Sprint-3-Deep-Learning\\\\module2-convolutional-neural-networks\\\\downloads\\\\animalnationalpark'):\n",
    "#     if filename.endswith('.jpg'):\n",
    "#         resize_image(filename)"
   ]
  },
  {
   "cell_type": "code",
   "execution_count": 168,
   "metadata": {},
   "outputs": [],
   "source": [
    "# import os\n",
    "# import glob\n",
    "\n",
    "# for filepath in glob.glob(os.path.join('C:\\\\Users\\\\lilyx\\\\DS-Unit-4-Sprint-3-Deep-Learning\\\\module2-convolutional-neural-networks\\\\downloads\\\\animalnationalpark', '*.jpg')):\n",
    "#     with open(filepath, encoding=\"utf8\") as f:\n",
    "#         content = f.read()"
   ]
  },
  {
   "cell_type": "code",
   "execution_count": 167,
   "metadata": {},
   "outputs": [],
   "source": [
    "# with open(r'C:\\Users\\lilyx\\DS-Unit-4-Sprint-3-Deep-Learning\\module2-convolutional-neural-networks\\downloads\\animalnationalpark', encoding='utf-8') as f:\n",
    "#     contents = f.read()"
   ]
  },
  {
   "cell_type": "code",
   "execution_count": 179,
   "metadata": {},
   "outputs": [
    {
     "data": {
      "image/jpeg": "[encoded data removed]",
      "text/plain": [
       "<IPython.core.display.Image object>"
      ]
     },
     "execution_count": 179,
     "metadata": {
      "image/jpeg": {
       "width": 600
      }
     },
     "output_type": "execute_result"
    }
   ],
   "source": [
    "from IPython.display import Image\n",
    "Image(filename='downloads\\\\animalnationalpark\\\\1.maxresdefault.jpg', width=600)"
   ]
  },
  {
   "cell_type": "code",
   "execution_count": 154,
   "metadata": {
    "colab": {},
    "colab_type": "code",
    "id": "T5W5n8qBbQpc"
   },
   "outputs": [],
   "source": [
    "for i in range(len(image_list[0:17])):\n",
    "    resize_image(image_list[i])"
   ]
  },
  {
   "cell_type": "code",
   "execution_count": 166,
   "metadata": {},
   "outputs": [],
   "source": [
    "import numpy as np\n",
    "\n",
    "from tensorflow.keras.applications.resnet50 import ResNet50\n",
    "from tensorflow.keras.preprocessing import image\n",
    "from tensorflow.keras.applications.resnet50 import preprocess_input, decode_predictions#take probabilities\n",
    "\n",
    "def process_img_path(img_path):\n",
    "  return image.load_img(img_path, target_size=(224, 224))\n",
    "\n",
    "def img_contains_banana(img):\n",
    "  x = image.img_to_array(img)#takes in the image\n",
    "  x = np.expand_dims(x, axis=0)\n",
    "  x = preprocess_input(x)\n",
    "  model = ResNet50(weights='imagenet')\n",
    "  features = model.predict(x)#predict what's in the model\n",
    "  results = decode_predictions(features, top=3)[0]#get the top 3 probabilities and also label associated\n",
    "  print(results)\n",
    "  for entry in results:\n",
    "    if entry[1] == 'banana':#if the first entry returns banana, do nothing, if not, return second entry\n",
    "      return entry[2]#outputs a list of probabilities\n",
    "  return 0.0"
   ]
  },
  {
   "cell_type": "code",
   "execution_count": 182,
   "metadata": {},
   "outputs": [
    {
     "name": "stdout",
     "output_type": "stream",
     "text": [
      "[('n02128385', 'leopard', 0.90337455), ('n02128925', 'jaguar', 0.09392843), ('n02130308', 'cheetah', 0.0012670842)]\n"
     ]
    }
   ],
   "source": [
    "result = img_contains_banana(process_img_path('downloads\\\\animalnationalpark\\\\1.maxresdefault.jpg'))"
   ]
  },
  {
   "cell_type": "code",
   "execution_count": 183,
   "metadata": {},
   "outputs": [
    {
     "data": {
      "text/plain": [
       "float"
      ]
     },
     "execution_count": 183,
     "metadata": {},
     "output_type": "execute_result"
    }
   ],
   "source": [
    "type(result)"
   ]
  },
  {
   "cell_type": "code",
   "execution_count": 187,
   "metadata": {},
   "outputs": [
    {
     "name": "stdout",
     "output_type": "stream",
     "text": [
      "[('n02128385', 'leopard', 0.88264394), ('n02128925', 'jaguar', 0.114632435), ('n02130308', 'cheetah', 0.001190086)]\n"
     ]
    }
   ],
   "source": [
    "result = img_contains_banana(process_img_path(image_list[0]))"
   ]
  },
  {
   "cell_type": "code",
   "execution_count": 204,
   "metadata": {},
   "outputs": [
    {
     "name": "stdout",
     "output_type": "stream",
     "text": [
      "[('n02128385', 'leopard', 0.88264394), ('n02128925', 'jaguar', 0.114632435), ('n02130308', 'cheetah', 0.001190086)]\n",
      "[('n02129604', 'tiger', 0.92627996), ('n02123159', 'tiger_cat', 0.07226287), ('n02128925', 'jaguar', 0.0009025711)]\n",
      "[('n02129604', 'tiger', 0.7467873), ('n02123159', 'tiger_cat', 0.2515752), ('n02129165', 'lion', 0.00044137178)]\n",
      "[('n02415577', 'bighorn', 0.3830797), ('n02422699', 'impala', 0.25835845), ('n02423022', 'gazelle', 0.19404428)]\n",
      "[('n02114367', 'timber_wolf', 0.22606285), ('n02114712', 'red_wolf', 0.224383), ('n02396427', 'wild_boar', 0.18544012)]\n",
      "[('n02129604', 'tiger', 0.9167059), ('n02123159', 'tiger_cat', 0.04479697), ('n02128925', 'jaguar', 0.011970349)]\n",
      "[('n02422699', 'impala', 0.4663775), ('n02423022', 'gazelle', 0.44377324), ('n02417914', 'ibex', 0.013608409)]\n",
      "[('n02132136', 'brown_bear', 0.99495834), ('n02133161', 'American_black_bear', 0.0028395385), ('n02134418', 'sloth_bear', 0.0015523904)]\n",
      "[('n02391049', 'zebra', 0.9996793), ('n01798484', 'prairie_chicken', 8.401477e-05), ('n02129604', 'tiger', 4.013994e-05)]\n",
      "[('n02115913', 'dhole', 0.29518008), ('n02132136', 'brown_bear', 0.20384106), ('n02410509', 'bison', 0.14950456)]\n",
      "[('n02504458', 'African_elephant', 0.99224454), ('n02504013', 'Indian_elephant', 0.0060443403), ('n01871265', 'tusker', 0.0016854334)]\n",
      "[('n02114855', 'coyote', 0.48185888), ('n02115913', 'dhole', 0.120374344), ('n02115641', 'dingo', 0.07124561)]\n",
      "[('n02391049', 'zebra', 0.9999641), ('n02129604', 'tiger', 1.6713673e-05), ('n01798484', 'prairie_chicken', 5.360531e-06)]\n",
      "[('n02129165', 'lion', 0.9997074), ('n02129604', 'tiger', 0.00014379855), ('n02128385', 'leopard', 7.5439195e-05)]\n",
      "[('n02129165', 'lion', 0.99899286), ('n02117135', 'hyena', 0.0005306696), ('n02132136', 'brown_bear', 0.0001170203)]\n",
      "[('n02129604', 'tiger', 0.7085922), ('n02123159', 'tiger_cat', 0.29139695), ('n02391049', 'zebra', 6.1794685e-06)]\n",
      "[('n02129604', 'tiger', 0.95592153), ('n02123159', 'tiger_cat', 0.043489903), ('n02128925', 'jaguar', 0.0003770718)]\n"
     ]
    }
   ],
   "source": [
    "labels = []\n",
    "for i in image_list[0:17]:\n",
    "    results = img_contains_banana(process_img_path(i))\n",
    "    labels.append(results)"
   ]
  },
  {
   "cell_type": "code",
   "execution_count": 206,
   "metadata": {},
   "outputs": [],
   "source": [
    "labelmatrix = [[('n02128385', 'leopard', 0.88264394), ('n02128925', 'jaguar', 0.114632435), ('n02130308', 'cheetah', 0.001190086)],\n",
    "[('n02129604', 'tiger', 0.92627996), ('n02123159', 'tiger_cat', 0.07226287), ('n02128925', 'jaguar', 0.0009025711)],\n",
    "[('n02129604', 'tiger', 0.7467873), ('n02123159', 'tiger_cat', 0.2515752), ('n02129165', 'lion', 0.00044137178)],\n",
    "[('n02415577', 'bighorn', 0.3830797), ('n02422699', 'impala', 0.25835845), ('n02423022', 'gazelle', 0.19404428)],\n",
    "[('n02114367', 'timber_wolf', 0.22606285), ('n02114712', 'red_wolf', 0.224383), ('n02396427', 'wild_boar', 0.18544012)],\n",
    "[('n02129604', 'tiger', 0.9167059), ('n02123159', 'tiger_cat', 0.04479697), ('n02128925', 'jaguar', 0.011970349)],\n",
    "[('n02422699', 'impala', 0.4663775), ('n02423022', 'gazelle', 0.44377324), ('n02417914', 'ibex', 0.013608409)],\n",
    "[('n02132136', 'brown_bear', 0.99495834), ('n02133161', 'American_black_bear', 0.0028395385), ('n02134418', 'sloth_bear', 0.0015523904)],\n",
    "[('n02391049', 'zebra', 0.9996793), ('n01798484', 'prairie_chicken', 8.401477e-05), ('n02129604', 'tiger', 4.013994e-05)],\n",
    "[('n02115913', 'dhole', 0.29518008), ('n02132136', 'brown_bear', 0.20384106), ('n02410509', 'bison', 0.14950456)],\n",
    "[('n02504458', 'African_elephant', 0.99224454), ('n02504013', 'Indian_elephant', 0.0060443403), ('n01871265', 'tusker', 0.0016854334)],\n",
    "[('n02114855', 'coyote', 0.48185888), ('n02115913', 'dhole', 0.120374344), ('n02115641', 'dingo', 0.07124561)],\n",
    "[('n02391049', 'zebra', 0.9999641), ('n02129604', 'tiger', 1.6713673e-05), ('n01798484', 'prairie_chicken', 5.360531e-06)],\n",
    "[('n02129165', 'lion', 0.9997074), ('n02129604', 'tiger', 0.00014379855), ('n02128385', 'leopard', 7.5439195e-05)],\n",
    "[('n02129165', 'lion', 0.99899286), ('n02117135', 'hyena', 0.0005306696), ('n02132136', 'brown_bear', 0.0001170203)],\n",
    "[('n02129604', 'tiger', 0.7085922), ('n02123159', 'tiger_cat', 0.29139695), ('n02391049', 'zebra', 6.1794685e-06)],\n",
    "[('n02129604', 'tiger', 0.95592153), ('n02123159', 'tiger_cat', 0.043489903), ('n02128925', 'jaguar', 0.0003770718)]]"
   ]
  },
  {
   "cell_type": "code",
   "execution_count": 207,
   "metadata": {},
   "outputs": [
    {
     "data": {
      "text/html": [
       "<div>\n",
       "<style scoped>\n",
       "    .dataframe tbody tr th:only-of-type {\n",
       "        vertical-align: middle;\n",
       "    }\n",
       "\n",
       "    .dataframe tbody tr th {\n",
       "        vertical-align: top;\n",
       "    }\n",
       "\n",
       "    .dataframe thead th {\n",
       "        text-align: right;\n",
       "    }\n",
       "</style>\n",
       "<table border=\"1\" class=\"dataframe\">\n",
       "  <thead>\n",
       "    <tr style=\"text-align: right;\">\n",
       "      <th></th>\n",
       "      <th>0</th>\n",
       "      <th>1</th>\n",
       "      <th>2</th>\n",
       "    </tr>\n",
       "  </thead>\n",
       "  <tbody>\n",
       "    <tr>\n",
       "      <th>0</th>\n",
       "      <td>(n02128385, leopard, 0.88264394)</td>\n",
       "      <td>(n02128925, jaguar, 0.114632435)</td>\n",
       "      <td>(n02130308, cheetah, 0.001190086)</td>\n",
       "    </tr>\n",
       "    <tr>\n",
       "      <th>1</th>\n",
       "      <td>(n02129604, tiger, 0.92627996)</td>\n",
       "      <td>(n02123159, tiger_cat, 0.07226287)</td>\n",
       "      <td>(n02128925, jaguar, 0.0009025711)</td>\n",
       "    </tr>\n",
       "    <tr>\n",
       "      <th>2</th>\n",
       "      <td>(n02129604, tiger, 0.7467873)</td>\n",
       "      <td>(n02123159, tiger_cat, 0.2515752)</td>\n",
       "      <td>(n02129165, lion, 0.00044137178)</td>\n",
       "    </tr>\n",
       "    <tr>\n",
       "      <th>3</th>\n",
       "      <td>(n02415577, bighorn, 0.3830797)</td>\n",
       "      <td>(n02422699, impala, 0.25835845)</td>\n",
       "      <td>(n02423022, gazelle, 0.19404428)</td>\n",
       "    </tr>\n",
       "    <tr>\n",
       "      <th>4</th>\n",
       "      <td>(n02114367, timber_wolf, 0.22606285)</td>\n",
       "      <td>(n02114712, red_wolf, 0.224383)</td>\n",
       "      <td>(n02396427, wild_boar, 0.18544012)</td>\n",
       "    </tr>\n",
       "    <tr>\n",
       "      <th>5</th>\n",
       "      <td>(n02129604, tiger, 0.9167059)</td>\n",
       "      <td>(n02123159, tiger_cat, 0.04479697)</td>\n",
       "      <td>(n02128925, jaguar, 0.011970349)</td>\n",
       "    </tr>\n",
       "    <tr>\n",
       "      <th>6</th>\n",
       "      <td>(n02422699, impala, 0.4663775)</td>\n",
       "      <td>(n02423022, gazelle, 0.44377324)</td>\n",
       "      <td>(n02417914, ibex, 0.013608409)</td>\n",
       "    </tr>\n",
       "    <tr>\n",
       "      <th>7</th>\n",
       "      <td>(n02132136, brown_bear, 0.99495834)</td>\n",
       "      <td>(n02133161, American_black_bear, 0.0028395385)</td>\n",
       "      <td>(n02134418, sloth_bear, 0.0015523904)</td>\n",
       "    </tr>\n",
       "    <tr>\n",
       "      <th>8</th>\n",
       "      <td>(n02391049, zebra, 0.9996793)</td>\n",
       "      <td>(n01798484, prairie_chicken, 8.401477e-05)</td>\n",
       "      <td>(n02129604, tiger, 4.013994e-05)</td>\n",
       "    </tr>\n",
       "    <tr>\n",
       "      <th>9</th>\n",
       "      <td>(n02115913, dhole, 0.29518008)</td>\n",
       "      <td>(n02132136, brown_bear, 0.20384106)</td>\n",
       "      <td>(n02410509, bison, 0.14950456)</td>\n",
       "    </tr>\n",
       "    <tr>\n",
       "      <th>10</th>\n",
       "      <td>(n02504458, African_elephant, 0.99224454)</td>\n",
       "      <td>(n02504013, Indian_elephant, 0.0060443403)</td>\n",
       "      <td>(n01871265, tusker, 0.0016854334)</td>\n",
       "    </tr>\n",
       "    <tr>\n",
       "      <th>11</th>\n",
       "      <td>(n02114855, coyote, 0.48185888)</td>\n",
       "      <td>(n02115913, dhole, 0.120374344)</td>\n",
       "      <td>(n02115641, dingo, 0.07124561)</td>\n",
       "    </tr>\n",
       "    <tr>\n",
       "      <th>12</th>\n",
       "      <td>(n02391049, zebra, 0.9999641)</td>\n",
       "      <td>(n02129604, tiger, 1.6713673e-05)</td>\n",
       "      <td>(n01798484, prairie_chicken, 5.360531e-06)</td>\n",
       "    </tr>\n",
       "    <tr>\n",
       "      <th>13</th>\n",
       "      <td>(n02129165, lion, 0.9997074)</td>\n",
       "      <td>(n02129604, tiger, 0.00014379855)</td>\n",
       "      <td>(n02128385, leopard, 7.5439195e-05)</td>\n",
       "    </tr>\n",
       "    <tr>\n",
       "      <th>14</th>\n",
       "      <td>(n02129165, lion, 0.99899286)</td>\n",
       "      <td>(n02117135, hyena, 0.0005306696)</td>\n",
       "      <td>(n02132136, brown_bear, 0.0001170203)</td>\n",
       "    </tr>\n",
       "    <tr>\n",
       "      <th>15</th>\n",
       "      <td>(n02129604, tiger, 0.7085922)</td>\n",
       "      <td>(n02123159, tiger_cat, 0.29139695)</td>\n",
       "      <td>(n02391049, zebra, 6.1794685e-06)</td>\n",
       "    </tr>\n",
       "    <tr>\n",
       "      <th>16</th>\n",
       "      <td>(n02129604, tiger, 0.95592153)</td>\n",
       "      <td>(n02123159, tiger_cat, 0.043489903)</td>\n",
       "      <td>(n02128925, jaguar, 0.0003770718)</td>\n",
       "    </tr>\n",
       "  </tbody>\n",
       "</table>\n",
       "</div>"
      ],
      "text/plain": [
       "                                            0  \\\n",
       "0            (n02128385, leopard, 0.88264394)   \n",
       "1              (n02129604, tiger, 0.92627996)   \n",
       "2               (n02129604, tiger, 0.7467873)   \n",
       "3             (n02415577, bighorn, 0.3830797)   \n",
       "4        (n02114367, timber_wolf, 0.22606285)   \n",
       "5               (n02129604, tiger, 0.9167059)   \n",
       "6              (n02422699, impala, 0.4663775)   \n",
       "7         (n02132136, brown_bear, 0.99495834)   \n",
       "8               (n02391049, zebra, 0.9996793)   \n",
       "9              (n02115913, dhole, 0.29518008)   \n",
       "10  (n02504458, African_elephant, 0.99224454)   \n",
       "11            (n02114855, coyote, 0.48185888)   \n",
       "12              (n02391049, zebra, 0.9999641)   \n",
       "13               (n02129165, lion, 0.9997074)   \n",
       "14              (n02129165, lion, 0.99899286)   \n",
       "15              (n02129604, tiger, 0.7085922)   \n",
       "16             (n02129604, tiger, 0.95592153)   \n",
       "\n",
       "                                                 1  \\\n",
       "0                 (n02128925, jaguar, 0.114632435)   \n",
       "1               (n02123159, tiger_cat, 0.07226287)   \n",
       "2                (n02123159, tiger_cat, 0.2515752)   \n",
       "3                  (n02422699, impala, 0.25835845)   \n",
       "4                  (n02114712, red_wolf, 0.224383)   \n",
       "5               (n02123159, tiger_cat, 0.04479697)   \n",
       "6                 (n02423022, gazelle, 0.44377324)   \n",
       "7   (n02133161, American_black_bear, 0.0028395385)   \n",
       "8       (n01798484, prairie_chicken, 8.401477e-05)   \n",
       "9              (n02132136, brown_bear, 0.20384106)   \n",
       "10      (n02504013, Indian_elephant, 0.0060443403)   \n",
       "11                 (n02115913, dhole, 0.120374344)   \n",
       "12               (n02129604, tiger, 1.6713673e-05)   \n",
       "13               (n02129604, tiger, 0.00014379855)   \n",
       "14                (n02117135, hyena, 0.0005306696)   \n",
       "15              (n02123159, tiger_cat, 0.29139695)   \n",
       "16             (n02123159, tiger_cat, 0.043489903)   \n",
       "\n",
       "                                             2  \n",
       "0            (n02130308, cheetah, 0.001190086)  \n",
       "1            (n02128925, jaguar, 0.0009025711)  \n",
       "2             (n02129165, lion, 0.00044137178)  \n",
       "3             (n02423022, gazelle, 0.19404428)  \n",
       "4           (n02396427, wild_boar, 0.18544012)  \n",
       "5             (n02128925, jaguar, 0.011970349)  \n",
       "6               (n02417914, ibex, 0.013608409)  \n",
       "7        (n02134418, sloth_bear, 0.0015523904)  \n",
       "8             (n02129604, tiger, 4.013994e-05)  \n",
       "9               (n02410509, bison, 0.14950456)  \n",
       "10           (n01871265, tusker, 0.0016854334)  \n",
       "11              (n02115641, dingo, 0.07124561)  \n",
       "12  (n01798484, prairie_chicken, 5.360531e-06)  \n",
       "13         (n02128385, leopard, 7.5439195e-05)  \n",
       "14       (n02132136, brown_bear, 0.0001170203)  \n",
       "15           (n02391049, zebra, 6.1794685e-06)  \n",
       "16           (n02128925, jaguar, 0.0003770718)  "
      ]
     },
     "execution_count": 207,
     "metadata": {},
     "output_type": "execute_result"
    }
   ],
   "source": [
    "import pandas as pd\n",
    "df = pd.DataFrame(labelmatrix)\n",
    "df"
   ]
  },
  {
   "cell_type": "code",
   "execution_count": 155,
   "metadata": {},
   "outputs": [],
   "source": [
    "# image_list[3]"
   ]
  },
  {
   "cell_type": "code",
   "execution_count": 156,
   "metadata": {},
   "outputs": [],
   "source": [
    "# resize_image(image_list[0])"
   ]
  },
  {
   "cell_type": "code",
   "execution_count": 157,
   "metadata": {},
   "outputs": [],
   "source": [
    "# for i in image_list:\n",
    "#      resize_image(i)\n",
    "# # len(image_list)"
   ]
  },
  {
   "cell_type": "code",
   "execution_count": 158,
   "metadata": {
    "colab": {
     "base_uri": "https://localhost:8080/",
     "height": 350
    },
    "colab_type": "code",
    "id": "nhWc_CvDbQpe",
    "outputId": "88a88fbf-fccc-4aff-da28-1250eddc31ff"
   },
   "outputs": [],
   "source": [
    "# images = [resize_image(image) for image in image_list[0:17]]\n",
    "# images"
   ]
  },
  {
   "cell_type": "code",
   "execution_count": 159,
   "metadata": {},
   "outputs": [],
   "source": [
    "# import os\n",
    "\n",
    "# cwd = os.getcwd()  # Get the current working directory (cwd)\n",
    "# files = os.listdir(cwd)  # Get all the files in that directory\n",
    "# print(\"Files in %r: %s\" % (cwd, files))"
   ]
  },
  {
   "cell_type": "code",
   "execution_count": 160,
   "metadata": {
    "colab": {},
    "colab_type": "code",
    "id": "ibPtInd23GMF"
   },
   "outputs": [],
   "source": [
    "# from PIL import Image \n",
    "  \n",
    "# filename = \"C:\\\\Users\\\\lilyx\\\\DS-Unit-4-Sprint-3-Deep-Learning\\\\module2-convolutional-neural-networks\\\\downloads\\\\animalnationalpark\\\\1.maxresdefault.jpg\"\n",
    "# with Image.open(filename) as image: \n",
    "#     width, height = image.size\n",
    "    \n",
    "# width"
   ]
  },
  {
   "cell_type": "code",
   "execution_count": 161,
   "metadata": {},
   "outputs": [],
   "source": [
    "# from PIL import Image \n",
    "  \n",
    "# filename = filename\n",
    "# with Image.open(filename) as image: \n",
    "#     width, height = image.size "
   ]
  },
  {
   "cell_type": "code",
   "execution_count": 162,
   "metadata": {},
   "outputs": [],
   "source": [
    "# from PIL import Image \n",
    "  \n",
    "# filename = \"C:\\\\Users\\\\lilyx\\\\DS-Unit-4-Sprint-3-Deep-Learning\\\\module2-convolutional-neural-networks\\\\downloads\\\\animalnationalpark\"\n",
    "# #with Image.open(filename) as image: \n",
    "# files = os.listdir(filename)\n",
    "# for i in files:\n",
    "#     resize_image(i)\n",
    "#     width, height = image.size\n",
    "#     print(width)\n",
    "\n"
   ]
  },
  {
   "cell_type": "code",
   "execution_count": 163,
   "metadata": {},
   "outputs": [],
   "source": [
    "# import os\n",
    "# THIS_FOLDER = os.path.dirname(os.path.abspath('C:\\\\Users\\\\lilyx\\\\DS-Unit-4-Sprint-3-Deep-Learning\\\\module2-convolutional-neural-networks\\\\downloads\\\\animalnationalpark'))\n",
    "# my_file = os.path.join(THIS_FOLDER, 'animalnationalpark\\\\1.maxresdefault.jpg')\n",
    "# #resize_image(my_file)\n",
    "# for i in os.listdir(my_file):\n",
    "#     print(i)"
   ]
  },
  {
   "cell_type": "code",
   "execution_count": 164,
   "metadata": {},
   "outputs": [],
   "source": [
    "# def show_images(image_list):\n",
    "#     for i in image_list:\n",
    "#         resize_image(i)\n",
    "# show_images(image_list)"
   ]
  },
  {
   "cell_type": "code",
   "execution_count": null,
   "metadata": {},
   "outputs": [],
   "source": []
  },
  {
   "cell_type": "code",
   "execution_count": null,
   "metadata": {},
   "outputs": [],
   "source": []
  }
 ],
 "metadata": {
  "colab": {
   "name": "Deep learning animal assignment.ipynb",
   "provenance": [],
   "version": "0.3.2"
  },
  "kernelspec": {
   "display_name": "U4-S1-NLP (Python 3.6)",
   "language": "python",
   "name": "u4-s1-nlp"
  },
  "language_info": {
   "codemirror_mode": {
    "name": "ipython",
    "version": 3
   },
   "file_extension": ".py",
   "mimetype": "text/x-python",
   "name": "python",
   "nbconvert_exporter": "python",
   "pygments_lexer": "ipython3",
   "version": "3.7.3"
  }
 },
 "nbformat": 4,
 "nbformat_minor": 2
}
