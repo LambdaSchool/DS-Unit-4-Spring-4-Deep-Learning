{
  "nbformat": 4,
  "nbformat_minor": 0,
  "metadata": {
    "kernelspec": {
      "name": "python3",
      "display_name": "Python 3"
    },
    "nteract": {
      "version": "0.23.1"
    },
    "colab": {
      "name": "Johan_Mazorra_LS_DS13_432_Convolution_Neural_Networks_Assignment.ipynb",
      "provenance": [],
      "include_colab_link": true
    },
    "accelerator": "GPU"
  },
  "cells": [
    {
      "cell_type": "markdown",
      "metadata": {
        "id": "view-in-github",
        "colab_type": "text"
      },
      "source": [
        "<a href=\"https://colab.research.google.com/github/jsmazorra/DS-Unit-4-Sprint-3-Deep-Learning/blob/master/module2-convolutional-neural-networks/Johan_Mazorra_LS_DS13_432_Convolution_Neural_Networks_Assignment.ipynb\" target=\"_parent\"><img src=\"https://colab.research.google.com/assets/colab-badge.svg\" alt=\"Open In Colab\"/></a>"
      ]
    },
    {
      "cell_type": "markdown",
      "metadata": {
        "id": "wEDhDnlWZqBo",
        "colab_type": "text"
      },
      "source": [
        "<img align=\"left\" src=\"https://lever-client-logos.s3.amazonaws.com/864372b1-534c-480e-acd5-9711f850815c-1524247202159.png\" width=200>\n",
        "<br></br>\n",
        "<br></br>\n",
        "\n",
        "## *Data Science Unit 4 Sprint 3 Assignment 2*\n",
        "# Convolutional Neural Networks (CNNs)"
      ]
    },
    {
      "cell_type": "markdown",
      "metadata": {
        "colab_type": "text",
        "id": "0lfZdD_cp1t5"
      },
      "source": [
        "# Assignment\n",
        "\n",
        "- <a href=\"#p1\">Part 1:</a> Pre-Trained Model\n",
        "- <a href=\"#p2\">Part 2:</a> Custom CNN Model\n",
        "- <a href=\"#p3\">Part 3:</a> CNN with Data Augmentation\n",
        "\n",
        "\n",
        "You will apply three different CNN models to a binary image classification model using Keras. Classify images of Mountains (`./data/train/mountain/*`) and images of forests (`./data/train/forest/*`). Treat mountains as the positive class (1) and the forest images as the negative (zero). \n",
        "\n",
        "|Mountain (+)|Forest (-)|\n",
        "|---|---|\n",
        "|![](./data/train/mountain/art1131.jpg)|![](./data/validation/forest/cdmc317.jpg)|\n",
        "\n",
        "The problem is relatively difficult given that the sample is tiny: there are about 350 observations per class. This sample size might be something that you can expect with prototyping an image classification problem/solution at work. Get accustomed to evaluating several different possible models."
      ]
    },
    {
      "cell_type": "markdown",
      "metadata": {
        "colab_type": "text",
        "id": "y1sKlYoNZqBt"
      },
      "source": [
        "# Pre - Trained Model\n",
        "<a id=\"p1\"></a>\n",
        "\n",
        "Load a pretrained network from Keras, [ResNet50](https://tfhub.dev/google/imagenet/resnet_v1_50/classification/1) - a 50 layer deep network trained to recognize [1000 objects](https://storage.googleapis.com/download.tensorflow.org/data/ImageNetLabels.txt). Starting usage:\n",
        "\n",
        "```python\n",
        "import numpy as np\n",
        "\n",
        "from tensorflow.keras.applications.resnet50 import ResNet50\n",
        "from tensorflow.keras.preprocessing import image\n",
        "from tensorflow.keras.applications.resnet50 import preprocess_input, decode_predictions\n",
        "\n",
        "from tensorflow.keras.layers import Dense, GlobalAveragePooling2D\n",
        "from tensorflow.keras.models import Model # This is the functional API\n",
        "\n",
        "resnet = ResNet50(weights='imagenet', include_top=False)\n",
        "\n",
        "```\n",
        "\n",
        "The `include_top` parameter in `ResNet50` will remove the full connected layers from the ResNet model. The next step is to turn off the training of the ResNet layers. We want to use the learned parameters without updating them in future training passes. \n",
        "\n",
        "```python\n",
        "for layer in resnet.layers:\n",
        "    layer.trainable = False\n",
        "```\n",
        "\n",
        "Using the Keras functional API, we will need to additional additional full connected layers to our model. We we removed the top layers, we removed all preivous fully connected layers. In other words, we kept only the feature processing portions of our network. You can expert with additional layers beyond what's listed here. The `GlobalAveragePooling2D` layer functions as a really fancy flatten function by taking the average of each of the last convolutional layer outputs (which is two dimensional still). \n",
        "\n",
        "```python\n",
        "x = resnet.output\n",
        "x = GlobalAveragePooling2D()(x) # This layer is a really fancy flatten\n",
        "x = Dense(1024, activation='relu')(x)\n",
        "predictions = Dense(1, activation='sigmoid')(x)\n",
        "model = Model(resnet.input, predictions)\n",
        "```\n",
        "\n",
        "Your assignment is to apply the transfer learning above to classify images of Mountains (`./data/train/mountain/*`) and images of forests (`./data/train/forest/*`). Treat mountains as the positive class (1) and the forest images as the negative (zero). \n",
        "\n",
        "Steps to complete assignment: \n",
        "1. Load in Image Data into numpy arrays (`X`) \n",
        "2. Create a `y` for the labels\n",
        "3. Train your model with pre-trained layers from resnet\n",
        "4. Report your model's accuracy"
      ]
    },
    {
      "cell_type": "markdown",
      "metadata": {
        "id": "GX4HC06sZqBu",
        "colab_type": "text"
      },
      "source": [
        "## Load in Data\n",
        "\n",
        "This surprisingly more difficult than it seems, because you are working with directories of images instead of a single file. This boiler plate will help you download a zipped version of the directory of images. The directory is organized into \"train\" and \"validation\" which you can use inside an `ImageGenerator` class to stream batches of images thru your model.  \n"
      ]
    },
    {
      "cell_type": "markdown",
      "metadata": {
        "id": "d8BkSOWgZqBv",
        "colab_type": "text"
      },
      "source": [
        "### Download & Summarize the Data\n",
        "\n",
        "This step is completed for you. Just run the cells and review the results. "
      ]
    },
    {
      "cell_type": "code",
      "metadata": {
        "id": "L02d7_ncZqBw",
        "colab_type": "code",
        "colab": {
          "base_uri": "https://localhost:8080/",
          "height": 51
        },
        "outputId": "76dd1595-7615-4200-85e2-0c31e0a30614"
      },
      "source": [
        "# Import all necessary libraries.\n",
        "\n",
        "import tensorflow as tf\n",
        "import os\n",
        "import numpy as np\n",
        "import matplotlib.pyplot as plt\n",
        "from tensorflow.keras.applications.resnet50 import ResNet50\n",
        "from tensorflow.keras.preprocessing import image\n",
        "from tensorflow.keras.applications.resnet50 import preprocess_input, decode_predictions\n",
        "from tensorflow.keras.layers import Dense, GlobalAveragePooling2D\n",
        "from tensorflow.keras.models import Model\n",
        "from IPython.display import display\n",
        "from IPython.display import Image as _Imgdis\n",
        "from PIL import Image\n",
        "\n",
        "_URL = 'https://github.com/LambdaSchool/DS-Unit-4-Sprint-3-Deep-Learning/blob/master/module2-convolutional-neural-networks/data.zip?raw=true'\n",
        "\n",
        "path_to_zip = tf.keras.utils.get_file('./data.zip', origin=_URL, extract=True)\n",
        "PATH = os.path.join(os.path.dirname(path_to_zip), 'data')"
      ],
      "execution_count": 2,
      "outputs": [
        {
          "output_type": "stream",
          "text": [
            "Downloading data from https://github.com/LambdaSchool/DS-Unit-4-Sprint-3-Deep-Learning/blob/master/module2-convolutional-neural-networks/data.zip?raw=true\n",
            "42172416/42170838 [==============================] - 1s 0us/step\n"
          ],
          "name": "stdout"
        }
      ]
    },
    {
      "cell_type": "code",
      "metadata": {
        "id": "d-YFh79uZqB1",
        "colab_type": "code",
        "colab": {}
      },
      "source": [
        "train_dir = os.path.join(PATH, 'train')\n",
        "validation_dir = os.path.join(PATH, 'validation')"
      ],
      "execution_count": 0,
      "outputs": []
    },
    {
      "cell_type": "code",
      "metadata": {
        "id": "lhygCLPtZqB8",
        "colab_type": "code",
        "colab": {}
      },
      "source": [
        "train_mountain_dir = os.path.join(train_dir, 'mountain')  # directory with our training cat pictures\n",
        "train_forest_dir = os.path.join(train_dir, 'forest')  # directory with our training dog pictures\n",
        "validation_mountain_dir = os.path.join(validation_dir, 'mountain')  # directory with our validation cat pictures\n",
        "validation_forest_dir = os.path.join(validation_dir, 'forest')  # directory with our validation dog pictures"
      ],
      "execution_count": 0,
      "outputs": []
    },
    {
      "cell_type": "code",
      "metadata": {
        "id": "DhJwkELzZqCA",
        "colab_type": "code",
        "colab": {}
      },
      "source": [
        "num_mountain_tr = len(os.listdir(train_mountain_dir))\n",
        "num_forest_tr = len(os.listdir(train_forest_dir))\n",
        "\n",
        "num_mountain_val = len(os.listdir(validation_mountain_dir))\n",
        "num_forest_val = len(os.listdir(validation_forest_dir))\n",
        "\n",
        "total_train = num_mountain_tr + num_forest_tr\n",
        "total_val = num_mountain_val + num_forest_val"
      ],
      "execution_count": 0,
      "outputs": []
    },
    {
      "cell_type": "code",
      "metadata": {
        "id": "FwYnOjANZqCE",
        "colab_type": "code",
        "colab": {
          "base_uri": "https://localhost:8080/",
          "height": 136
        },
        "outputId": "1609a8cf-f298-4e29-e63c-668fe6c4851f"
      },
      "source": [
        "print('total training mountain images:', num_mountain_tr)\n",
        "print('total training forest images:', num_forest_tr)\n",
        "\n",
        "print('total validation mountain images:', num_mountain_val)\n",
        "print('total validation forest images:', num_forest_val)\n",
        "print(\"--\")\n",
        "print(\"Total training images:\", total_train)\n",
        "print(\"Total validation images:\", total_val)"
      ],
      "execution_count": 6,
      "outputs": [
        {
          "output_type": "stream",
          "text": [
            "total training mountain images: 254\n",
            "total training forest images: 270\n",
            "total validation mountain images: 125\n",
            "total validation forest images: 62\n",
            "--\n",
            "Total training images: 524\n",
            "Total validation images: 187\n"
          ],
          "name": "stdout"
        }
      ]
    },
    {
      "cell_type": "markdown",
      "metadata": {
        "id": "OLmwTL5xZqCI",
        "colab_type": "text"
      },
      "source": [
        "### Keras `ImageGenerator` to Process the Data\n",
        "\n",
        "This step is completed for you, but please review the code. The `ImageGenerator` class reads in batches of data from a directory and pass them to the model one batch at a time. Just like large text files, this method is advantageous, because it stifles the need to load a bunch of images into memory. \n",
        "\n",
        "Check out the documentation for this class method: [Keras `ImageGenerator` Class](https://keras.io/preprocessing/image/#imagedatagenerator-class). You'll expand it's use in the third assignment objective."
      ]
    },
    {
      "cell_type": "code",
      "metadata": {
        "id": "tTkcjumDZqCI",
        "colab_type": "code",
        "colab": {}
      },
      "source": [
        "batch_size = 16\n",
        "epochs = 50\n",
        "IMG_HEIGHT = 224\n",
        "IMG_WIDTH = 224"
      ],
      "execution_count": 0,
      "outputs": []
    },
    {
      "cell_type": "code",
      "metadata": {
        "id": "z6s4eFG2ZqCP",
        "colab_type": "code",
        "colab": {}
      },
      "source": [
        "from tensorflow.keras.preprocessing.image import ImageDataGenerator\n",
        "\n",
        "train_image_generator = ImageDataGenerator(rescale=1./255) # Generator for our training data\n",
        "validation_image_generator = ImageDataGenerator(rescale=1./255) # Generator for our validation data"
      ],
      "execution_count": 0,
      "outputs": []
    },
    {
      "cell_type": "code",
      "metadata": {
        "id": "BkdLRDsDZqCg",
        "colab_type": "code",
        "colab": {
          "base_uri": "https://localhost:8080/",
          "height": 34
        },
        "outputId": "4e883cf7-8571-4ea7-f3c4-b1a7d8c34108"
      },
      "source": [
        "train_data_gen = train_image_generator.flow_from_directory(batch_size=batch_size,\n",
        "                                                           directory=train_dir,\n",
        "                                                           shuffle=True,\n",
        "                                                           target_size=(IMG_HEIGHT, IMG_WIDTH),\n",
        "                                                           class_mode='binary')"
      ],
      "execution_count": 14,
      "outputs": [
        {
          "output_type": "stream",
          "text": [
            "Found 533 images belonging to 2 classes.\n"
          ],
          "name": "stdout"
        }
      ]
    },
    {
      "cell_type": "code",
      "metadata": {
        "id": "HqOllubNZqCs",
        "colab_type": "code",
        "colab": {
          "base_uri": "https://localhost:8080/",
          "height": 34
        },
        "outputId": "c258e732-f4bf-4184-98be-19b08a34829e"
      },
      "source": [
        "val_data_gen = validation_image_generator.flow_from_directory(batch_size=batch_size,\n",
        "                                                              directory=validation_dir,\n",
        "                                                              target_size=(IMG_HEIGHT, IMG_WIDTH),\n",
        "                                                              class_mode='binary')"
      ],
      "execution_count": 15,
      "outputs": [
        {
          "output_type": "stream",
          "text": [
            "Found 195 images belonging to 2 classes.\n"
          ],
          "name": "stdout"
        }
      ]
    },
    {
      "cell_type": "markdown",
      "metadata": {
        "id": "qhJK_MMtZqCv",
        "colab_type": "text"
      },
      "source": [
        "## Instatiate Model"
      ]
    },
    {
      "cell_type": "code",
      "metadata": {
        "id": "1yBy6thbZqCw",
        "colab_type": "code",
        "colab": {}
      },
      "source": [
        "resnet = ResNet50(weights='imagenet', include_top=False)\n",
        "\n",
        "for layer in resnet.layers:\n",
        "    layer.trainable = False\n",
        "\n",
        "x = resnet.output\n",
        "x = GlobalAveragePooling2D()(x)\n",
        "x = Dense(1024, activation='relu')(x)\n",
        "predictions = Dense(1, activation='sigmoid')(x)\n",
        "model = Model(resnet.input, predictions)\n",
        "\n",
        "def process_img_path(img_path):\n",
        "  return image.load_img(img_path, target_size=(224, 224))\n",
        "\n",
        "def img_contains_mountain(img):\n",
        "  x = image.img_to_array(img)\n",
        "  x = np.expand_dims(x, axis=0)\n",
        "  x = preprocess_input(x)\n",
        "  model = ResNet50(weights='imagenet')\n",
        "  features = model.predict(x)\n",
        "  results = decode_predictions(features, top=3)[0]\n",
        "  print(results)\n",
        "  for entry in results:\n",
        "    if entry[1] == 'mountain':\n",
        "      return entry[2]\n",
        "  return 0.0"
      ],
      "execution_count": 0,
      "outputs": []
    },
    {
      "cell_type": "code",
      "metadata": {
        "id": "wiLFACZZc1OB",
        "colab_type": "code",
        "colab": {
          "base_uri": "https://localhost:8080/",
          "height": 1000
        },
        "outputId": "d455c61c-9483-4b57-9b30-ddee88a2e75f"
      },
      "source": [
        "model.compile(optimizer='adam',\n",
        "              loss='binary_crossentropy',\n",
        "              metrics=['accuracy'])\n",
        "\n",
        "model.summary()"
      ],
      "execution_count": 26,
      "outputs": [
        {
          "output_type": "stream",
          "text": [
            "Model: \"model_1\"\n",
            "__________________________________________________________________________________________________\n",
            "Layer (type)                    Output Shape         Param #     Connected to                     \n",
            "==================================================================================================\n",
            "input_2 (InputLayer)            [(None, None, None,  0                                            \n",
            "__________________________________________________________________________________________________\n",
            "conv1_pad (ZeroPadding2D)       (None, None, None, 3 0           input_2[0][0]                    \n",
            "__________________________________________________________________________________________________\n",
            "conv1_conv (Conv2D)             (None, None, None, 6 9472        conv1_pad[0][0]                  \n",
            "__________________________________________________________________________________________________\n",
            "conv1_bn (BatchNormalization)   (None, None, None, 6 256         conv1_conv[0][0]                 \n",
            "__________________________________________________________________________________________________\n",
            "conv1_relu (Activation)         (None, None, None, 6 0           conv1_bn[0][0]                   \n",
            "__________________________________________________________________________________________________\n",
            "pool1_pad (ZeroPadding2D)       (None, None, None, 6 0           conv1_relu[0][0]                 \n",
            "__________________________________________________________________________________________________\n",
            "pool1_pool (MaxPooling2D)       (None, None, None, 6 0           pool1_pad[0][0]                  \n",
            "__________________________________________________________________________________________________\n",
            "conv2_block1_1_conv (Conv2D)    (None, None, None, 6 4160        pool1_pool[0][0]                 \n",
            "__________________________________________________________________________________________________\n",
            "conv2_block1_1_bn (BatchNormali (None, None, None, 6 256         conv2_block1_1_conv[0][0]        \n",
            "__________________________________________________________________________________________________\n",
            "conv2_block1_1_relu (Activation (None, None, None, 6 0           conv2_block1_1_bn[0][0]          \n",
            "__________________________________________________________________________________________________\n",
            "conv2_block1_2_conv (Conv2D)    (None, None, None, 6 36928       conv2_block1_1_relu[0][0]        \n",
            "__________________________________________________________________________________________________\n",
            "conv2_block1_2_bn (BatchNormali (None, None, None, 6 256         conv2_block1_2_conv[0][0]        \n",
            "__________________________________________________________________________________________________\n",
            "conv2_block1_2_relu (Activation (None, None, None, 6 0           conv2_block1_2_bn[0][0]          \n",
            "__________________________________________________________________________________________________\n",
            "conv2_block1_0_conv (Conv2D)    (None, None, None, 2 16640       pool1_pool[0][0]                 \n",
            "__________________________________________________________________________________________________\n",
            "conv2_block1_3_conv (Conv2D)    (None, None, None, 2 16640       conv2_block1_2_relu[0][0]        \n",
            "__________________________________________________________________________________________________\n",
            "conv2_block1_0_bn (BatchNormali (None, None, None, 2 1024        conv2_block1_0_conv[0][0]        \n",
            "__________________________________________________________________________________________________\n",
            "conv2_block1_3_bn (BatchNormali (None, None, None, 2 1024        conv2_block1_3_conv[0][0]        \n",
            "__________________________________________________________________________________________________\n",
            "conv2_block1_add (Add)          (None, None, None, 2 0           conv2_block1_0_bn[0][0]          \n",
            "                                                                 conv2_block1_3_bn[0][0]          \n",
            "__________________________________________________________________________________________________\n",
            "conv2_block1_out (Activation)   (None, None, None, 2 0           conv2_block1_add[0][0]           \n",
            "__________________________________________________________________________________________________\n",
            "conv2_block2_1_conv (Conv2D)    (None, None, None, 6 16448       conv2_block1_out[0][0]           \n",
            "__________________________________________________________________________________________________\n",
            "conv2_block2_1_bn (BatchNormali (None, None, None, 6 256         conv2_block2_1_conv[0][0]        \n",
            "__________________________________________________________________________________________________\n",
            "conv2_block2_1_relu (Activation (None, None, None, 6 0           conv2_block2_1_bn[0][0]          \n",
            "__________________________________________________________________________________________________\n",
            "conv2_block2_2_conv (Conv2D)    (None, None, None, 6 36928       conv2_block2_1_relu[0][0]        \n",
            "__________________________________________________________________________________________________\n",
            "conv2_block2_2_bn (BatchNormali (None, None, None, 6 256         conv2_block2_2_conv[0][0]        \n",
            "__________________________________________________________________________________________________\n",
            "conv2_block2_2_relu (Activation (None, None, None, 6 0           conv2_block2_2_bn[0][0]          \n",
            "__________________________________________________________________________________________________\n",
            "conv2_block2_3_conv (Conv2D)    (None, None, None, 2 16640       conv2_block2_2_relu[0][0]        \n",
            "__________________________________________________________________________________________________\n",
            "conv2_block2_3_bn (BatchNormali (None, None, None, 2 1024        conv2_block2_3_conv[0][0]        \n",
            "__________________________________________________________________________________________________\n",
            "conv2_block2_add (Add)          (None, None, None, 2 0           conv2_block1_out[0][0]           \n",
            "                                                                 conv2_block2_3_bn[0][0]          \n",
            "__________________________________________________________________________________________________\n",
            "conv2_block2_out (Activation)   (None, None, None, 2 0           conv2_block2_add[0][0]           \n",
            "__________________________________________________________________________________________________\n",
            "conv2_block3_1_conv (Conv2D)    (None, None, None, 6 16448       conv2_block2_out[0][0]           \n",
            "__________________________________________________________________________________________________\n",
            "conv2_block3_1_bn (BatchNormali (None, None, None, 6 256         conv2_block3_1_conv[0][0]        \n",
            "__________________________________________________________________________________________________\n",
            "conv2_block3_1_relu (Activation (None, None, None, 6 0           conv2_block3_1_bn[0][0]          \n",
            "__________________________________________________________________________________________________\n",
            "conv2_block3_2_conv (Conv2D)    (None, None, None, 6 36928       conv2_block3_1_relu[0][0]        \n",
            "__________________________________________________________________________________________________\n",
            "conv2_block3_2_bn (BatchNormali (None, None, None, 6 256         conv2_block3_2_conv[0][0]        \n",
            "__________________________________________________________________________________________________\n",
            "conv2_block3_2_relu (Activation (None, None, None, 6 0           conv2_block3_2_bn[0][0]          \n",
            "__________________________________________________________________________________________________\n",
            "conv2_block3_3_conv (Conv2D)    (None, None, None, 2 16640       conv2_block3_2_relu[0][0]        \n",
            "__________________________________________________________________________________________________\n",
            "conv2_block3_3_bn (BatchNormali (None, None, None, 2 1024        conv2_block3_3_conv[0][0]        \n",
            "__________________________________________________________________________________________________\n",
            "conv2_block3_add (Add)          (None, None, None, 2 0           conv2_block2_out[0][0]           \n",
            "                                                                 conv2_block3_3_bn[0][0]          \n",
            "__________________________________________________________________________________________________\n",
            "conv2_block3_out (Activation)   (None, None, None, 2 0           conv2_block3_add[0][0]           \n",
            "__________________________________________________________________________________________________\n",
            "conv3_block1_1_conv (Conv2D)    (None, None, None, 1 32896       conv2_block3_out[0][0]           \n",
            "__________________________________________________________________________________________________\n",
            "conv3_block1_1_bn (BatchNormali (None, None, None, 1 512         conv3_block1_1_conv[0][0]        \n",
            "__________________________________________________________________________________________________\n",
            "conv3_block1_1_relu (Activation (None, None, None, 1 0           conv3_block1_1_bn[0][0]          \n",
            "__________________________________________________________________________________________________\n",
            "conv3_block1_2_conv (Conv2D)    (None, None, None, 1 147584      conv3_block1_1_relu[0][0]        \n",
            "__________________________________________________________________________________________________\n",
            "conv3_block1_2_bn (BatchNormali (None, None, None, 1 512         conv3_block1_2_conv[0][0]        \n",
            "__________________________________________________________________________________________________\n",
            "conv3_block1_2_relu (Activation (None, None, None, 1 0           conv3_block1_2_bn[0][0]          \n",
            "__________________________________________________________________________________________________\n",
            "conv3_block1_0_conv (Conv2D)    (None, None, None, 5 131584      conv2_block3_out[0][0]           \n",
            "__________________________________________________________________________________________________\n",
            "conv3_block1_3_conv (Conv2D)    (None, None, None, 5 66048       conv3_block1_2_relu[0][0]        \n",
            "__________________________________________________________________________________________________\n",
            "conv3_block1_0_bn (BatchNormali (None, None, None, 5 2048        conv3_block1_0_conv[0][0]        \n",
            "__________________________________________________________________________________________________\n",
            "conv3_block1_3_bn (BatchNormali (None, None, None, 5 2048        conv3_block1_3_conv[0][0]        \n",
            "__________________________________________________________________________________________________\n",
            "conv3_block1_add (Add)          (None, None, None, 5 0           conv3_block1_0_bn[0][0]          \n",
            "                                                                 conv3_block1_3_bn[0][0]          \n",
            "__________________________________________________________________________________________________\n",
            "conv3_block1_out (Activation)   (None, None, None, 5 0           conv3_block1_add[0][0]           \n",
            "__________________________________________________________________________________________________\n",
            "conv3_block2_1_conv (Conv2D)    (None, None, None, 1 65664       conv3_block1_out[0][0]           \n",
            "__________________________________________________________________________________________________\n",
            "conv3_block2_1_bn (BatchNormali (None, None, None, 1 512         conv3_block2_1_conv[0][0]        \n",
            "__________________________________________________________________________________________________\n",
            "conv3_block2_1_relu (Activation (None, None, None, 1 0           conv3_block2_1_bn[0][0]          \n",
            "__________________________________________________________________________________________________\n",
            "conv3_block2_2_conv (Conv2D)    (None, None, None, 1 147584      conv3_block2_1_relu[0][0]        \n",
            "__________________________________________________________________________________________________\n",
            "conv3_block2_2_bn (BatchNormali (None, None, None, 1 512         conv3_block2_2_conv[0][0]        \n",
            "__________________________________________________________________________________________________\n",
            "conv3_block2_2_relu (Activation (None, None, None, 1 0           conv3_block2_2_bn[0][0]          \n",
            "__________________________________________________________________________________________________\n",
            "conv3_block2_3_conv (Conv2D)    (None, None, None, 5 66048       conv3_block2_2_relu[0][0]        \n",
            "__________________________________________________________________________________________________\n",
            "conv3_block2_3_bn (BatchNormali (None, None, None, 5 2048        conv3_block2_3_conv[0][0]        \n",
            "__________________________________________________________________________________________________\n",
            "conv3_block2_add (Add)          (None, None, None, 5 0           conv3_block1_out[0][0]           \n",
            "                                                                 conv3_block2_3_bn[0][0]          \n",
            "__________________________________________________________________________________________________\n",
            "conv3_block2_out (Activation)   (None, None, None, 5 0           conv3_block2_add[0][0]           \n",
            "__________________________________________________________________________________________________\n",
            "conv3_block3_1_conv (Conv2D)    (None, None, None, 1 65664       conv3_block2_out[0][0]           \n",
            "__________________________________________________________________________________________________\n",
            "conv3_block3_1_bn (BatchNormali (None, None, None, 1 512         conv3_block3_1_conv[0][0]        \n",
            "__________________________________________________________________________________________________\n",
            "conv3_block3_1_relu (Activation (None, None, None, 1 0           conv3_block3_1_bn[0][0]          \n",
            "__________________________________________________________________________________________________\n",
            "conv3_block3_2_conv (Conv2D)    (None, None, None, 1 147584      conv3_block3_1_relu[0][0]        \n",
            "__________________________________________________________________________________________________\n",
            "conv3_block3_2_bn (BatchNormali (None, None, None, 1 512         conv3_block3_2_conv[0][0]        \n",
            "__________________________________________________________________________________________________\n",
            "conv3_block3_2_relu (Activation (None, None, None, 1 0           conv3_block3_2_bn[0][0]          \n",
            "__________________________________________________________________________________________________\n",
            "conv3_block3_3_conv (Conv2D)    (None, None, None, 5 66048       conv3_block3_2_relu[0][0]        \n",
            "__________________________________________________________________________________________________\n",
            "conv3_block3_3_bn (BatchNormali (None, None, None, 5 2048        conv3_block3_3_conv[0][0]        \n",
            "__________________________________________________________________________________________________\n",
            "conv3_block3_add (Add)          (None, None, None, 5 0           conv3_block2_out[0][0]           \n",
            "                                                                 conv3_block3_3_bn[0][0]          \n",
            "__________________________________________________________________________________________________\n",
            "conv3_block3_out (Activation)   (None, None, None, 5 0           conv3_block3_add[0][0]           \n",
            "__________________________________________________________________________________________________\n",
            "conv3_block4_1_conv (Conv2D)    (None, None, None, 1 65664       conv3_block3_out[0][0]           \n",
            "__________________________________________________________________________________________________\n",
            "conv3_block4_1_bn (BatchNormali (None, None, None, 1 512         conv3_block4_1_conv[0][0]        \n",
            "__________________________________________________________________________________________________\n",
            "conv3_block4_1_relu (Activation (None, None, None, 1 0           conv3_block4_1_bn[0][0]          \n",
            "__________________________________________________________________________________________________\n",
            "conv3_block4_2_conv (Conv2D)    (None, None, None, 1 147584      conv3_block4_1_relu[0][0]        \n",
            "__________________________________________________________________________________________________\n",
            "conv3_block4_2_bn (BatchNormali (None, None, None, 1 512         conv3_block4_2_conv[0][0]        \n",
            "__________________________________________________________________________________________________\n",
            "conv3_block4_2_relu (Activation (None, None, None, 1 0           conv3_block4_2_bn[0][0]          \n",
            "__________________________________________________________________________________________________\n",
            "conv3_block4_3_conv (Conv2D)    (None, None, None, 5 66048       conv3_block4_2_relu[0][0]        \n",
            "__________________________________________________________________________________________________\n",
            "conv3_block4_3_bn (BatchNormali (None, None, None, 5 2048        conv3_block4_3_conv[0][0]        \n",
            "__________________________________________________________________________________________________\n",
            "conv3_block4_add (Add)          (None, None, None, 5 0           conv3_block3_out[0][0]           \n",
            "                                                                 conv3_block4_3_bn[0][0]          \n",
            "__________________________________________________________________________________________________\n",
            "conv3_block4_out (Activation)   (None, None, None, 5 0           conv3_block4_add[0][0]           \n",
            "__________________________________________________________________________________________________\n",
            "conv4_block1_1_conv (Conv2D)    (None, None, None, 2 131328      conv3_block4_out[0][0]           \n",
            "__________________________________________________________________________________________________\n",
            "conv4_block1_1_bn (BatchNormali (None, None, None, 2 1024        conv4_block1_1_conv[0][0]        \n",
            "__________________________________________________________________________________________________\n",
            "conv4_block1_1_relu (Activation (None, None, None, 2 0           conv4_block1_1_bn[0][0]          \n",
            "__________________________________________________________________________________________________\n",
            "conv4_block1_2_conv (Conv2D)    (None, None, None, 2 590080      conv4_block1_1_relu[0][0]        \n",
            "__________________________________________________________________________________________________\n",
            "conv4_block1_2_bn (BatchNormali (None, None, None, 2 1024        conv4_block1_2_conv[0][0]        \n",
            "__________________________________________________________________________________________________\n",
            "conv4_block1_2_relu (Activation (None, None, None, 2 0           conv4_block1_2_bn[0][0]          \n",
            "__________________________________________________________________________________________________\n",
            "conv4_block1_0_conv (Conv2D)    (None, None, None, 1 525312      conv3_block4_out[0][0]           \n",
            "__________________________________________________________________________________________________\n",
            "conv4_block1_3_conv (Conv2D)    (None, None, None, 1 263168      conv4_block1_2_relu[0][0]        \n",
            "__________________________________________________________________________________________________\n",
            "conv4_block1_0_bn (BatchNormali (None, None, None, 1 4096        conv4_block1_0_conv[0][0]        \n",
            "__________________________________________________________________________________________________\n",
            "conv4_block1_3_bn (BatchNormali (None, None, None, 1 4096        conv4_block1_3_conv[0][0]        \n",
            "__________________________________________________________________________________________________\n",
            "conv4_block1_add (Add)          (None, None, None, 1 0           conv4_block1_0_bn[0][0]          \n",
            "                                                                 conv4_block1_3_bn[0][0]          \n",
            "__________________________________________________________________________________________________\n",
            "conv4_block1_out (Activation)   (None, None, None, 1 0           conv4_block1_add[0][0]           \n",
            "__________________________________________________________________________________________________\n",
            "conv4_block2_1_conv (Conv2D)    (None, None, None, 2 262400      conv4_block1_out[0][0]           \n",
            "__________________________________________________________________________________________________\n",
            "conv4_block2_1_bn (BatchNormali (None, None, None, 2 1024        conv4_block2_1_conv[0][0]        \n",
            "__________________________________________________________________________________________________\n",
            "conv4_block2_1_relu (Activation (None, None, None, 2 0           conv4_block2_1_bn[0][0]          \n",
            "__________________________________________________________________________________________________\n",
            "conv4_block2_2_conv (Conv2D)    (None, None, None, 2 590080      conv4_block2_1_relu[0][0]        \n",
            "__________________________________________________________________________________________________\n",
            "conv4_block2_2_bn (BatchNormali (None, None, None, 2 1024        conv4_block2_2_conv[0][0]        \n",
            "__________________________________________________________________________________________________\n",
            "conv4_block2_2_relu (Activation (None, None, None, 2 0           conv4_block2_2_bn[0][0]          \n",
            "__________________________________________________________________________________________________\n",
            "conv4_block2_3_conv (Conv2D)    (None, None, None, 1 263168      conv4_block2_2_relu[0][0]        \n",
            "__________________________________________________________________________________________________\n",
            "conv4_block2_3_bn (BatchNormali (None, None, None, 1 4096        conv4_block2_3_conv[0][0]        \n",
            "__________________________________________________________________________________________________\n",
            "conv4_block2_add (Add)          (None, None, None, 1 0           conv4_block1_out[0][0]           \n",
            "                                                                 conv4_block2_3_bn[0][0]          \n",
            "__________________________________________________________________________________________________\n",
            "conv4_block2_out (Activation)   (None, None, None, 1 0           conv4_block2_add[0][0]           \n",
            "__________________________________________________________________________________________________\n",
            "conv4_block3_1_conv (Conv2D)    (None, None, None, 2 262400      conv4_block2_out[0][0]           \n",
            "__________________________________________________________________________________________________\n",
            "conv4_block3_1_bn (BatchNormali (None, None, None, 2 1024        conv4_block3_1_conv[0][0]        \n",
            "__________________________________________________________________________________________________\n",
            "conv4_block3_1_relu (Activation (None, None, None, 2 0           conv4_block3_1_bn[0][0]          \n",
            "__________________________________________________________________________________________________\n",
            "conv4_block3_2_conv (Conv2D)    (None, None, None, 2 590080      conv4_block3_1_relu[0][0]        \n",
            "__________________________________________________________________________________________________\n",
            "conv4_block3_2_bn (BatchNormali (None, None, None, 2 1024        conv4_block3_2_conv[0][0]        \n",
            "__________________________________________________________________________________________________\n",
            "conv4_block3_2_relu (Activation (None, None, None, 2 0           conv4_block3_2_bn[0][0]          \n",
            "__________________________________________________________________________________________________\n",
            "conv4_block3_3_conv (Conv2D)    (None, None, None, 1 263168      conv4_block3_2_relu[0][0]        \n",
            "__________________________________________________________________________________________________\n",
            "conv4_block3_3_bn (BatchNormali (None, None, None, 1 4096        conv4_block3_3_conv[0][0]        \n",
            "__________________________________________________________________________________________________\n",
            "conv4_block3_add (Add)          (None, None, None, 1 0           conv4_block2_out[0][0]           \n",
            "                                                                 conv4_block3_3_bn[0][0]          \n",
            "__________________________________________________________________________________________________\n",
            "conv4_block3_out (Activation)   (None, None, None, 1 0           conv4_block3_add[0][0]           \n",
            "__________________________________________________________________________________________________\n",
            "conv4_block4_1_conv (Conv2D)    (None, None, None, 2 262400      conv4_block3_out[0][0]           \n",
            "__________________________________________________________________________________________________\n",
            "conv4_block4_1_bn (BatchNormali (None, None, None, 2 1024        conv4_block4_1_conv[0][0]        \n",
            "__________________________________________________________________________________________________\n",
            "conv4_block4_1_relu (Activation (None, None, None, 2 0           conv4_block4_1_bn[0][0]          \n",
            "__________________________________________________________________________________________________\n",
            "conv4_block4_2_conv (Conv2D)    (None, None, None, 2 590080      conv4_block4_1_relu[0][0]        \n",
            "__________________________________________________________________________________________________\n",
            "conv4_block4_2_bn (BatchNormali (None, None, None, 2 1024        conv4_block4_2_conv[0][0]        \n",
            "__________________________________________________________________________________________________\n",
            "conv4_block4_2_relu (Activation (None, None, None, 2 0           conv4_block4_2_bn[0][0]          \n",
            "__________________________________________________________________________________________________\n",
            "conv4_block4_3_conv (Conv2D)    (None, None, None, 1 263168      conv4_block4_2_relu[0][0]        \n",
            "__________________________________________________________________________________________________\n",
            "conv4_block4_3_bn (BatchNormali (None, None, None, 1 4096        conv4_block4_3_conv[0][0]        \n",
            "__________________________________________________________________________________________________\n",
            "conv4_block4_add (Add)          (None, None, None, 1 0           conv4_block3_out[0][0]           \n",
            "                                                                 conv4_block4_3_bn[0][0]          \n",
            "__________________________________________________________________________________________________\n",
            "conv4_block4_out (Activation)   (None, None, None, 1 0           conv4_block4_add[0][0]           \n",
            "__________________________________________________________________________________________________\n",
            "conv4_block5_1_conv (Conv2D)    (None, None, None, 2 262400      conv4_block4_out[0][0]           \n",
            "__________________________________________________________________________________________________\n",
            "conv4_block5_1_bn (BatchNormali (None, None, None, 2 1024        conv4_block5_1_conv[0][0]        \n",
            "__________________________________________________________________________________________________\n",
            "conv4_block5_1_relu (Activation (None, None, None, 2 0           conv4_block5_1_bn[0][0]          \n",
            "__________________________________________________________________________________________________\n",
            "conv4_block5_2_conv (Conv2D)    (None, None, None, 2 590080      conv4_block5_1_relu[0][0]        \n",
            "__________________________________________________________________________________________________\n",
            "conv4_block5_2_bn (BatchNormali (None, None, None, 2 1024        conv4_block5_2_conv[0][0]        \n",
            "__________________________________________________________________________________________________\n",
            "conv4_block5_2_relu (Activation (None, None, None, 2 0           conv4_block5_2_bn[0][0]          \n",
            "__________________________________________________________________________________________________\n",
            "conv4_block5_3_conv (Conv2D)    (None, None, None, 1 263168      conv4_block5_2_relu[0][0]        \n",
            "__________________________________________________________________________________________________\n",
            "conv4_block5_3_bn (BatchNormali (None, None, None, 1 4096        conv4_block5_3_conv[0][0]        \n",
            "__________________________________________________________________________________________________\n",
            "conv4_block5_add (Add)          (None, None, None, 1 0           conv4_block4_out[0][0]           \n",
            "                                                                 conv4_block5_3_bn[0][0]          \n",
            "__________________________________________________________________________________________________\n",
            "conv4_block5_out (Activation)   (None, None, None, 1 0           conv4_block5_add[0][0]           \n",
            "__________________________________________________________________________________________________\n",
            "conv4_block6_1_conv (Conv2D)    (None, None, None, 2 262400      conv4_block5_out[0][0]           \n",
            "__________________________________________________________________________________________________\n",
            "conv4_block6_1_bn (BatchNormali (None, None, None, 2 1024        conv4_block6_1_conv[0][0]        \n",
            "__________________________________________________________________________________________________\n",
            "conv4_block6_1_relu (Activation (None, None, None, 2 0           conv4_block6_1_bn[0][0]          \n",
            "__________________________________________________________________________________________________\n",
            "conv4_block6_2_conv (Conv2D)    (None, None, None, 2 590080      conv4_block6_1_relu[0][0]        \n",
            "__________________________________________________________________________________________________\n",
            "conv4_block6_2_bn (BatchNormali (None, None, None, 2 1024        conv4_block6_2_conv[0][0]        \n",
            "__________________________________________________________________________________________________\n",
            "conv4_block6_2_relu (Activation (None, None, None, 2 0           conv4_block6_2_bn[0][0]          \n",
            "__________________________________________________________________________________________________\n",
            "conv4_block6_3_conv (Conv2D)    (None, None, None, 1 263168      conv4_block6_2_relu[0][0]        \n",
            "__________________________________________________________________________________________________\n",
            "conv4_block6_3_bn (BatchNormali (None, None, None, 1 4096        conv4_block6_3_conv[0][0]        \n",
            "__________________________________________________________________________________________________\n",
            "conv4_block6_add (Add)          (None, None, None, 1 0           conv4_block5_out[0][0]           \n",
            "                                                                 conv4_block6_3_bn[0][0]          \n",
            "__________________________________________________________________________________________________\n",
            "conv4_block6_out (Activation)   (None, None, None, 1 0           conv4_block6_add[0][0]           \n",
            "__________________________________________________________________________________________________\n",
            "conv5_block1_1_conv (Conv2D)    (None, None, None, 5 524800      conv4_block6_out[0][0]           \n",
            "__________________________________________________________________________________________________\n",
            "conv5_block1_1_bn (BatchNormali (None, None, None, 5 2048        conv5_block1_1_conv[0][0]        \n",
            "__________________________________________________________________________________________________\n",
            "conv5_block1_1_relu (Activation (None, None, None, 5 0           conv5_block1_1_bn[0][0]          \n",
            "__________________________________________________________________________________________________\n",
            "conv5_block1_2_conv (Conv2D)    (None, None, None, 5 2359808     conv5_block1_1_relu[0][0]        \n",
            "__________________________________________________________________________________________________\n",
            "conv5_block1_2_bn (BatchNormali (None, None, None, 5 2048        conv5_block1_2_conv[0][0]        \n",
            "__________________________________________________________________________________________________\n",
            "conv5_block1_2_relu (Activation (None, None, None, 5 0           conv5_block1_2_bn[0][0]          \n",
            "__________________________________________________________________________________________________\n",
            "conv5_block1_0_conv (Conv2D)    (None, None, None, 2 2099200     conv4_block6_out[0][0]           \n",
            "__________________________________________________________________________________________________\n",
            "conv5_block1_3_conv (Conv2D)    (None, None, None, 2 1050624     conv5_block1_2_relu[0][0]        \n",
            "__________________________________________________________________________________________________\n",
            "conv5_block1_0_bn (BatchNormali (None, None, None, 2 8192        conv5_block1_0_conv[0][0]        \n",
            "__________________________________________________________________________________________________\n",
            "conv5_block1_3_bn (BatchNormali (None, None, None, 2 8192        conv5_block1_3_conv[0][0]        \n",
            "__________________________________________________________________________________________________\n",
            "conv5_block1_add (Add)          (None, None, None, 2 0           conv5_block1_0_bn[0][0]          \n",
            "                                                                 conv5_block1_3_bn[0][0]          \n",
            "__________________________________________________________________________________________________\n",
            "conv5_block1_out (Activation)   (None, None, None, 2 0           conv5_block1_add[0][0]           \n",
            "__________________________________________________________________________________________________\n",
            "conv5_block2_1_conv (Conv2D)    (None, None, None, 5 1049088     conv5_block1_out[0][0]           \n",
            "__________________________________________________________________________________________________\n",
            "conv5_block2_1_bn (BatchNormali (None, None, None, 5 2048        conv5_block2_1_conv[0][0]        \n",
            "__________________________________________________________________________________________________\n",
            "conv5_block2_1_relu (Activation (None, None, None, 5 0           conv5_block2_1_bn[0][0]          \n",
            "__________________________________________________________________________________________________\n",
            "conv5_block2_2_conv (Conv2D)    (None, None, None, 5 2359808     conv5_block2_1_relu[0][0]        \n",
            "__________________________________________________________________________________________________\n",
            "conv5_block2_2_bn (BatchNormali (None, None, None, 5 2048        conv5_block2_2_conv[0][0]        \n",
            "__________________________________________________________________________________________________\n",
            "conv5_block2_2_relu (Activation (None, None, None, 5 0           conv5_block2_2_bn[0][0]          \n",
            "__________________________________________________________________________________________________\n",
            "conv5_block2_3_conv (Conv2D)    (None, None, None, 2 1050624     conv5_block2_2_relu[0][0]        \n",
            "__________________________________________________________________________________________________\n",
            "conv5_block2_3_bn (BatchNormali (None, None, None, 2 8192        conv5_block2_3_conv[0][0]        \n",
            "__________________________________________________________________________________________________\n",
            "conv5_block2_add (Add)          (None, None, None, 2 0           conv5_block1_out[0][0]           \n",
            "                                                                 conv5_block2_3_bn[0][0]          \n",
            "__________________________________________________________________________________________________\n",
            "conv5_block2_out (Activation)   (None, None, None, 2 0           conv5_block2_add[0][0]           \n",
            "__________________________________________________________________________________________________\n",
            "conv5_block3_1_conv (Conv2D)    (None, None, None, 5 1049088     conv5_block2_out[0][0]           \n",
            "__________________________________________________________________________________________________\n",
            "conv5_block3_1_bn (BatchNormali (None, None, None, 5 2048        conv5_block3_1_conv[0][0]        \n",
            "__________________________________________________________________________________________________\n",
            "conv5_block3_1_relu (Activation (None, None, None, 5 0           conv5_block3_1_bn[0][0]          \n",
            "__________________________________________________________________________________________________\n",
            "conv5_block3_2_conv (Conv2D)    (None, None, None, 5 2359808     conv5_block3_1_relu[0][0]        \n",
            "__________________________________________________________________________________________________\n",
            "conv5_block3_2_bn (BatchNormali (None, None, None, 5 2048        conv5_block3_2_conv[0][0]        \n",
            "__________________________________________________________________________________________________\n",
            "conv5_block3_2_relu (Activation (None, None, None, 5 0           conv5_block3_2_bn[0][0]          \n",
            "__________________________________________________________________________________________________\n",
            "conv5_block3_3_conv (Conv2D)    (None, None, None, 2 1050624     conv5_block3_2_relu[0][0]        \n",
            "__________________________________________________________________________________________________\n",
            "conv5_block3_3_bn (BatchNormali (None, None, None, 2 8192        conv5_block3_3_conv[0][0]        \n",
            "__________________________________________________________________________________________________\n",
            "conv5_block3_add (Add)          (None, None, None, 2 0           conv5_block2_out[0][0]           \n",
            "                                                                 conv5_block3_3_bn[0][0]          \n",
            "__________________________________________________________________________________________________\n",
            "conv5_block3_out (Activation)   (None, None, None, 2 0           conv5_block3_add[0][0]           \n",
            "__________________________________________________________________________________________________\n",
            "global_average_pooling2d_1 (Glo (None, 2048)         0           conv5_block3_out[0][0]           \n",
            "__________________________________________________________________________________________________\n",
            "dense_4 (Dense)                 (None, 1024)         2098176     global_average_pooling2d_1[0][0] \n",
            "__________________________________________________________________________________________________\n",
            "dense_5 (Dense)                 (None, 1)            1025        dense_4[0][0]                    \n",
            "==================================================================================================\n",
            "Total params: 25,686,913\n",
            "Trainable params: 2,099,201\n",
            "Non-trainable params: 23,587,712\n",
            "__________________________________________________________________________________________________\n"
          ],
          "name": "stdout"
        }
      ]
    },
    {
      "cell_type": "code",
      "metadata": {
        "id": "K-nO28e1iMzJ",
        "colab_type": "code",
        "colab": {}
      },
      "source": [
        "# Geez, that's a whole lot of parameters. For a second there I thought Alex was joking about the\n",
        "# amount of params on his model but now look at this."
      ],
      "execution_count": 0,
      "outputs": []
    },
    {
      "cell_type": "markdown",
      "metadata": {
        "id": "DDLqqutsZqCz",
        "colab_type": "text"
      },
      "source": [
        "## Fit Model"
      ]
    },
    {
      "cell_type": "code",
      "metadata": {
        "id": "WN072ReYZqC0",
        "colab_type": "code",
        "colab": {
          "base_uri": "https://localhost:8080/",
          "height": 1000
        },
        "outputId": "476a8b79-072b-4647-adad-a1ad407253c7"
      },
      "source": [
        "history = model.fit(\n",
        "    train_data_gen,\n",
        "    steps_per_epoch=total_train // batch_size,\n",
        "    epochs=epochs,\n",
        "    validation_data=val_data_gen,\n",
        "    validation_steps=total_val // batch_size\n",
        ")"
      ],
      "execution_count": 27,
      "outputs": [
        {
          "output_type": "stream",
          "text": [
            "Epoch 1/50\n",
            "32/32 [==============================] - 6s 194ms/step - loss: 0.7953 - accuracy: 0.5589 - val_loss: 0.6862 - val_accuracy: 0.6193\n",
            "Epoch 2/50\n",
            "32/32 [==============================] - 5s 159ms/step - loss: 0.6263 - accuracy: 0.6487 - val_loss: 0.5461 - val_accuracy: 0.8295\n",
            "Epoch 3/50\n",
            "32/32 [==============================] - 5s 156ms/step - loss: 0.5616 - accuracy: 0.7026 - val_loss: 0.4940 - val_accuracy: 0.8409\n",
            "Epoch 4/50\n",
            "32/32 [==============================] - 5s 156ms/step - loss: 0.4636 - accuracy: 0.8184 - val_loss: 0.5385 - val_accuracy: 0.7784\n",
            "Epoch 5/50\n",
            "32/32 [==============================] - 5s 156ms/step - loss: 0.4082 - accuracy: 0.8743 - val_loss: 0.4193 - val_accuracy: 0.8580\n",
            "Epoch 6/50\n",
            "32/32 [==============================] - 5s 156ms/step - loss: 0.4015 - accuracy: 0.8244 - val_loss: 0.4154 - val_accuracy: 0.8580\n",
            "Epoch 7/50\n",
            "32/32 [==============================] - 5s 156ms/step - loss: 0.4690 - accuracy: 0.7625 - val_loss: 0.4408 - val_accuracy: 0.7102\n",
            "Epoch 8/50\n",
            "32/32 [==============================] - 5s 157ms/step - loss: 0.3896 - accuracy: 0.8283 - val_loss: 0.4857 - val_accuracy: 0.7955\n",
            "Epoch 9/50\n",
            "32/32 [==============================] - 5s 157ms/step - loss: 0.3459 - accuracy: 0.8563 - val_loss: 0.3307 - val_accuracy: 0.8636\n",
            "Epoch 10/50\n",
            "32/32 [==============================] - 5s 157ms/step - loss: 0.3450 - accuracy: 0.8583 - val_loss: 0.4988 - val_accuracy: 0.7898\n",
            "Epoch 11/50\n",
            "32/32 [==============================] - 5s 156ms/step - loss: 0.3008 - accuracy: 0.8822 - val_loss: 0.2963 - val_accuracy: 0.8920\n",
            "Epoch 12/50\n",
            "32/32 [==============================] - 5s 158ms/step - loss: 0.2684 - accuracy: 0.9102 - val_loss: 0.2896 - val_accuracy: 0.8920\n",
            "Epoch 13/50\n",
            "32/32 [==============================] - 5s 157ms/step - loss: 0.2499 - accuracy: 0.9242 - val_loss: 0.2814 - val_accuracy: 0.9205\n",
            "Epoch 14/50\n",
            "32/32 [==============================] - 5s 158ms/step - loss: 0.2417 - accuracy: 0.9222 - val_loss: 0.3882 - val_accuracy: 0.8295\n",
            "Epoch 15/50\n",
            "32/32 [==============================] - 5s 157ms/step - loss: 0.2701 - accuracy: 0.9002 - val_loss: 0.7242 - val_accuracy: 0.6420\n",
            "Epoch 16/50\n",
            "32/32 [==============================] - 5s 157ms/step - loss: 0.2284 - accuracy: 0.9242 - val_loss: 0.4250 - val_accuracy: 0.8295\n",
            "Epoch 17/50\n",
            "32/32 [==============================] - 5s 158ms/step - loss: 0.2115 - accuracy: 0.9361 - val_loss: 0.3153 - val_accuracy: 0.8182\n",
            "Epoch 18/50\n",
            "32/32 [==============================] - 5s 157ms/step - loss: 0.2003 - accuracy: 0.9281 - val_loss: 0.2675 - val_accuracy: 0.9205\n",
            "Epoch 19/50\n",
            "32/32 [==============================] - 5s 156ms/step - loss: 0.2453 - accuracy: 0.9002 - val_loss: 0.6218 - val_accuracy: 0.7330\n",
            "Epoch 20/50\n",
            "32/32 [==============================] - 5s 160ms/step - loss: 0.1789 - accuracy: 0.9301 - val_loss: 0.2346 - val_accuracy: 0.9375\n",
            "Epoch 21/50\n",
            "32/32 [==============================] - 5s 160ms/step - loss: 0.1611 - accuracy: 0.9441 - val_loss: 0.2745 - val_accuracy: 0.8693\n",
            "Epoch 22/50\n",
            "32/32 [==============================] - 5s 157ms/step - loss: 0.2408 - accuracy: 0.8922 - val_loss: 0.2370 - val_accuracy: 0.8977\n",
            "Epoch 23/50\n",
            "32/32 [==============================] - 5s 157ms/step - loss: 0.2012 - accuracy: 0.9182 - val_loss: 0.2256 - val_accuracy: 0.9148\n",
            "Epoch 24/50\n",
            "32/32 [==============================] - 5s 160ms/step - loss: 0.1358 - accuracy: 0.9590 - val_loss: 0.2314 - val_accuracy: 0.8977\n",
            "Epoch 25/50\n",
            "32/32 [==============================] - 5s 157ms/step - loss: 0.1577 - accuracy: 0.9321 - val_loss: 0.2307 - val_accuracy: 0.9205\n",
            "Epoch 26/50\n",
            "32/32 [==============================] - 5s 158ms/step - loss: 0.1728 - accuracy: 0.9182 - val_loss: 0.2780 - val_accuracy: 0.8864\n",
            "Epoch 27/50\n",
            "32/32 [==============================] - 5s 162ms/step - loss: 0.2656 - accuracy: 0.9002 - val_loss: 0.1918 - val_accuracy: 0.9489\n",
            "Epoch 28/50\n",
            "32/32 [==============================] - 5s 157ms/step - loss: 0.1318 - accuracy: 0.9541 - val_loss: 0.2208 - val_accuracy: 0.9375\n",
            "Epoch 29/50\n",
            "32/32 [==============================] - 5s 157ms/step - loss: 0.1252 - accuracy: 0.9641 - val_loss: 0.2240 - val_accuracy: 0.9318\n",
            "Epoch 30/50\n",
            "32/32 [==============================] - 5s 158ms/step - loss: 0.1539 - accuracy: 0.9421 - val_loss: 0.2510 - val_accuracy: 0.9205\n",
            "Epoch 31/50\n",
            "32/32 [==============================] - 5s 157ms/step - loss: 0.2027 - accuracy: 0.9102 - val_loss: 0.1959 - val_accuracy: 0.9375\n",
            "Epoch 32/50\n",
            "32/32 [==============================] - 5s 158ms/step - loss: 0.1532 - accuracy: 0.9441 - val_loss: 0.1791 - val_accuracy: 0.9318\n",
            "Epoch 33/50\n",
            "32/32 [==============================] - 5s 156ms/step - loss: 0.1191 - accuracy: 0.9601 - val_loss: 0.1893 - val_accuracy: 0.9432\n",
            "Epoch 34/50\n",
            "32/32 [==============================] - 5s 158ms/step - loss: 0.1279 - accuracy: 0.9581 - val_loss: 0.2146 - val_accuracy: 0.9261\n",
            "Epoch 35/50\n",
            "32/32 [==============================] - 5s 157ms/step - loss: 0.0978 - accuracy: 0.9621 - val_loss: 0.5003 - val_accuracy: 0.8068\n",
            "Epoch 36/50\n",
            "32/32 [==============================] - 5s 160ms/step - loss: 0.1553 - accuracy: 0.9375 - val_loss: 0.1843 - val_accuracy: 0.9489\n",
            "Epoch 37/50\n",
            "32/32 [==============================] - 5s 157ms/step - loss: 0.0941 - accuracy: 0.9661 - val_loss: 0.2342 - val_accuracy: 0.9205\n",
            "Epoch 38/50\n",
            "32/32 [==============================] - 5s 158ms/step - loss: 0.0953 - accuracy: 0.9741 - val_loss: 0.2233 - val_accuracy: 0.9148\n",
            "Epoch 39/50\n",
            "32/32 [==============================] - 5s 158ms/step - loss: 0.1136 - accuracy: 0.9541 - val_loss: 0.2261 - val_accuracy: 0.9034\n",
            "Epoch 40/50\n",
            "32/32 [==============================] - 5s 157ms/step - loss: 0.1518 - accuracy: 0.9381 - val_loss: 0.2685 - val_accuracy: 0.9091\n",
            "Epoch 41/50\n",
            "32/32 [==============================] - 5s 157ms/step - loss: 0.1016 - accuracy: 0.9621 - val_loss: 0.2456 - val_accuracy: 0.9261\n",
            "Epoch 42/50\n",
            "32/32 [==============================] - 5s 157ms/step - loss: 0.1306 - accuracy: 0.9481 - val_loss: 0.2082 - val_accuracy: 0.9432\n",
            "Epoch 43/50\n",
            "32/32 [==============================] - 5s 157ms/step - loss: 0.1677 - accuracy: 0.9341 - val_loss: 0.2780 - val_accuracy: 0.8977\n",
            "Epoch 44/50\n",
            "32/32 [==============================] - 5s 157ms/step - loss: 0.1035 - accuracy: 0.9621 - val_loss: 0.6100 - val_accuracy: 0.7955\n",
            "Epoch 45/50\n",
            "32/32 [==============================] - 5s 157ms/step - loss: 0.1404 - accuracy: 0.9441 - val_loss: 0.2018 - val_accuracy: 0.9375\n",
            "Epoch 46/50\n",
            "32/32 [==============================] - 5s 157ms/step - loss: 0.1074 - accuracy: 0.9621 - val_loss: 0.4504 - val_accuracy: 0.8182\n",
            "Epoch 47/50\n",
            "32/32 [==============================] - 5s 157ms/step - loss: 0.1476 - accuracy: 0.9341 - val_loss: 0.1833 - val_accuracy: 0.9432\n",
            "Epoch 48/50\n",
            "32/32 [==============================] - 5s 156ms/step - loss: 0.0799 - accuracy: 0.9661 - val_loss: 0.2140 - val_accuracy: 0.9261\n",
            "Epoch 49/50\n",
            "32/32 [==============================] - 5s 158ms/step - loss: 0.0909 - accuracy: 0.9641 - val_loss: 0.3277 - val_accuracy: 0.8864\n",
            "Epoch 50/50\n",
            "32/32 [==============================] - 5s 157ms/step - loss: 0.0882 - accuracy: 0.9681 - val_loss: 0.6960 - val_accuracy: 0.7955\n"
          ],
          "name": "stdout"
        }
      ]
    },
    {
      "cell_type": "markdown",
      "metadata": {
        "id": "rE6UQORLZqC4",
        "colab_type": "text"
      },
      "source": [
        "# Custom CNN Model\n",
        "\n",
        "In this step, write and train your own convolutional neural network using Keras. You can use any architecture that suits you as long as it has at least one convolutional and one pooling layer at the beginning of the network - you can add more if you want. "
      ]
    },
    {
      "cell_type": "code",
      "metadata": {
        "id": "ihbrM284ZqC5",
        "colab_type": "code",
        "colab": {
          "base_uri": "https://localhost:8080/",
          "height": 425
        },
        "outputId": "98fa586e-985a-4ab4-81f5-8b59046e86b0"
      },
      "source": [
        "# Define the Model\n",
        "from tensorflow.keras import datasets\n",
        "from tensorflow.keras.models import Sequential, Model\n",
        "from tensorflow.keras.layers import Dense, Conv2D, MaxPooling2D, Flatten\n",
        "\n",
        "model = Sequential()\n",
        "model.add(Conv2D(32, (3,3), activation='relu', input_shape=(224,224,3)))\n",
        "model.add(MaxPooling2D((2,2)))\n",
        "model.add(Conv2D(64, (3,3), activation='relu'))\n",
        "model.add(MaxPooling2D((2,2)))\n",
        "model.add(Conv2D(64, (3,3), activation='relu'))\n",
        "model.add(Flatten())\n",
        "model.add(Dense(64, activation='relu'))\n",
        "model.add(Dense(10, activation='softmax'))\n",
        "\n",
        "model.summary()"
      ],
      "execution_count": 28,
      "outputs": [
        {
          "output_type": "stream",
          "text": [
            "Model: \"sequential_1\"\n",
            "_________________________________________________________________\n",
            "Layer (type)                 Output Shape              Param #   \n",
            "=================================================================\n",
            "conv2d_3 (Conv2D)            (None, 222, 222, 32)      896       \n",
            "_________________________________________________________________\n",
            "max_pooling2d_2 (MaxPooling2 (None, 111, 111, 32)      0         \n",
            "_________________________________________________________________\n",
            "conv2d_4 (Conv2D)            (None, 109, 109, 64)      18496     \n",
            "_________________________________________________________________\n",
            "max_pooling2d_3 (MaxPooling2 (None, 54, 54, 64)        0         \n",
            "_________________________________________________________________\n",
            "conv2d_5 (Conv2D)            (None, 52, 52, 64)        36928     \n",
            "_________________________________________________________________\n",
            "flatten_1 (Flatten)          (None, 173056)            0         \n",
            "_________________________________________________________________\n",
            "dense_6 (Dense)              (None, 64)                11075648  \n",
            "_________________________________________________________________\n",
            "dense_7 (Dense)              (None, 10)                650       \n",
            "=================================================================\n",
            "Total params: 11,132,618\n",
            "Trainable params: 11,132,618\n",
            "Non-trainable params: 0\n",
            "_________________________________________________________________\n"
          ],
          "name": "stdout"
        }
      ]
    },
    {
      "cell_type": "code",
      "metadata": {
        "id": "wK2XvVarZqC8",
        "colab_type": "code",
        "colab": {}
      },
      "source": [
        "# Compile Model\n",
        "model.compile(loss='sparse_categorical_crossentropy', \n",
        "              optimizer='adam', \n",
        "              metrics=['accuracy'])"
      ],
      "execution_count": 0,
      "outputs": []
    },
    {
      "cell_type": "code",
      "metadata": {
        "id": "zTMQ14L8ZqDB",
        "colab_type": "code",
        "colab": {
          "base_uri": "https://localhost:8080/",
          "height": 1000
        },
        "outputId": "d5d6520f-dde0-4d02-fbf3-089ac29be8b5"
      },
      "source": [
        "# Fit Model\n",
        "model.fit(\n",
        "    train_data_gen,\n",
        "    steps_per_epoch=total_train // batch_size,\n",
        "    epochs=epochs,\n",
        "    validation_data=val_data_gen,\n",
        "    validation_steps=total_val // batch_size\n",
        ")"
      ],
      "execution_count": 30,
      "outputs": [
        {
          "output_type": "stream",
          "text": [
            "Epoch 1/50\n",
            "32/32 [==============================] - 3s 78ms/step - loss: 1.3171 - accuracy: 0.6946 - val_loss: 1.0436 - val_accuracy: 0.6307\n",
            "Epoch 2/50\n",
            "32/32 [==============================] - 2s 74ms/step - loss: 0.2680 - accuracy: 0.8762 - val_loss: 0.4496 - val_accuracy: 0.8523\n",
            "Epoch 3/50\n",
            "32/32 [==============================] - 2s 74ms/step - loss: 0.1820 - accuracy: 0.9361 - val_loss: 0.1454 - val_accuracy: 0.9375\n",
            "Epoch 4/50\n",
            "32/32 [==============================] - 2s 76ms/step - loss: 0.1444 - accuracy: 0.9401 - val_loss: 0.1932 - val_accuracy: 0.9091\n",
            "Epoch 5/50\n",
            "32/32 [==============================] - 2s 77ms/step - loss: 0.0934 - accuracy: 0.9641 - val_loss: 0.1631 - val_accuracy: 0.9205\n",
            "Epoch 6/50\n",
            "32/32 [==============================] - 3s 78ms/step - loss: 0.1027 - accuracy: 0.9621 - val_loss: 0.1533 - val_accuracy: 0.9375\n",
            "Epoch 7/50\n",
            "32/32 [==============================] - 2s 77ms/step - loss: 0.0638 - accuracy: 0.9741 - val_loss: 0.2453 - val_accuracy: 0.9148\n",
            "Epoch 8/50\n",
            "32/32 [==============================] - 2s 75ms/step - loss: 0.0505 - accuracy: 0.9840 - val_loss: 0.1468 - val_accuracy: 0.9261\n",
            "Epoch 9/50\n",
            "32/32 [==============================] - 3s 79ms/step - loss: 0.0323 - accuracy: 0.9900 - val_loss: 0.2059 - val_accuracy: 0.9432\n",
            "Epoch 10/50\n",
            "32/32 [==============================] - 2s 74ms/step - loss: 0.0422 - accuracy: 0.9840 - val_loss: 0.2133 - val_accuracy: 0.9318\n",
            "Epoch 11/50\n",
            "32/32 [==============================] - 2s 76ms/step - loss: 0.0687 - accuracy: 0.9780 - val_loss: 0.6871 - val_accuracy: 0.8011\n",
            "Epoch 12/50\n",
            "32/32 [==============================] - 2s 76ms/step - loss: 0.1198 - accuracy: 0.9541 - val_loss: 0.2069 - val_accuracy: 0.9318\n",
            "Epoch 13/50\n",
            "32/32 [==============================] - 2s 73ms/step - loss: 0.1115 - accuracy: 0.9721 - val_loss: 0.1601 - val_accuracy: 0.9432\n",
            "Epoch 14/50\n",
            "32/32 [==============================] - 2s 73ms/step - loss: 0.0237 - accuracy: 0.9940 - val_loss: 0.1462 - val_accuracy: 0.9432\n",
            "Epoch 15/50\n",
            "32/32 [==============================] - 2s 72ms/step - loss: 0.0090 - accuracy: 1.0000 - val_loss: 0.3050 - val_accuracy: 0.9261\n",
            "Epoch 16/50\n",
            "32/32 [==============================] - 2s 73ms/step - loss: 0.0016 - accuracy: 1.0000 - val_loss: 0.2940 - val_accuracy: 0.9205\n",
            "Epoch 17/50\n",
            "32/32 [==============================] - 2s 73ms/step - loss: 0.0020 - accuracy: 1.0000 - val_loss: 0.6467 - val_accuracy: 0.8920\n",
            "Epoch 18/50\n",
            "32/32 [==============================] - 2s 72ms/step - loss: 0.0397 - accuracy: 0.9860 - val_loss: 0.1909 - val_accuracy: 0.9375\n",
            "Epoch 19/50\n",
            "32/32 [==============================] - 2s 75ms/step - loss: 0.0088 - accuracy: 0.9980 - val_loss: 0.3560 - val_accuracy: 0.8977\n",
            "Epoch 20/50\n",
            "32/32 [==============================] - 2s 76ms/step - loss: 0.0019 - accuracy: 1.0000 - val_loss: 0.4246 - val_accuracy: 0.9091\n",
            "Epoch 21/50\n",
            "32/32 [==============================] - 2s 78ms/step - loss: 0.0015 - accuracy: 1.0000 - val_loss: 0.3514 - val_accuracy: 0.9091\n",
            "Epoch 22/50\n",
            "32/32 [==============================] - 2s 76ms/step - loss: 6.0787e-04 - accuracy: 1.0000 - val_loss: 0.4462 - val_accuracy: 0.9148\n",
            "Epoch 23/50\n",
            "32/32 [==============================] - 2s 76ms/step - loss: 4.0056e-04 - accuracy: 1.0000 - val_loss: 0.4259 - val_accuracy: 0.9205\n",
            "Epoch 24/50\n",
            "32/32 [==============================] - 2s 73ms/step - loss: 2.9633e-04 - accuracy: 1.0000 - val_loss: 0.3731 - val_accuracy: 0.9261\n",
            "Epoch 25/50\n",
            "32/32 [==============================] - 2s 73ms/step - loss: 2.3390e-04 - accuracy: 1.0000 - val_loss: 0.4033 - val_accuracy: 0.9261\n",
            "Epoch 26/50\n",
            "32/32 [==============================] - 2s 74ms/step - loss: 1.9592e-04 - accuracy: 1.0000 - val_loss: 0.3132 - val_accuracy: 0.9318\n",
            "Epoch 27/50\n",
            "32/32 [==============================] - 2s 75ms/step - loss: 1.5362e-04 - accuracy: 1.0000 - val_loss: 0.3985 - val_accuracy: 0.9261\n",
            "Epoch 28/50\n",
            "32/32 [==============================] - 2s 76ms/step - loss: 1.2305e-04 - accuracy: 1.0000 - val_loss: 0.4106 - val_accuracy: 0.9261\n",
            "Epoch 29/50\n",
            "32/32 [==============================] - 2s 76ms/step - loss: 1.4156e-04 - accuracy: 1.0000 - val_loss: 0.2935 - val_accuracy: 0.9375\n",
            "Epoch 30/50\n",
            "32/32 [==============================] - 2s 75ms/step - loss: 1.1916e-04 - accuracy: 1.0000 - val_loss: 0.3615 - val_accuracy: 0.9261\n",
            "Epoch 31/50\n",
            "32/32 [==============================] - 2s 75ms/step - loss: 1.0998e-04 - accuracy: 1.0000 - val_loss: 0.4139 - val_accuracy: 0.9261\n",
            "Epoch 32/50\n",
            "32/32 [==============================] - 2s 73ms/step - loss: 1.0151e-04 - accuracy: 1.0000 - val_loss: 0.3592 - val_accuracy: 0.9318\n",
            "Epoch 33/50\n",
            "32/32 [==============================] - 2s 73ms/step - loss: 8.8099e-05 - accuracy: 1.0000 - val_loss: 0.4038 - val_accuracy: 0.9375\n",
            "Epoch 34/50\n",
            "32/32 [==============================] - 2s 72ms/step - loss: 7.9511e-05 - accuracy: 1.0000 - val_loss: 0.4079 - val_accuracy: 0.9261\n",
            "Epoch 35/50\n",
            "32/32 [==============================] - 2s 73ms/step - loss: 7.3186e-05 - accuracy: 1.0000 - val_loss: 0.3518 - val_accuracy: 0.9375\n",
            "Epoch 36/50\n",
            "32/32 [==============================] - 2s 74ms/step - loss: 6.2076e-05 - accuracy: 1.0000 - val_loss: 0.3917 - val_accuracy: 0.9318\n",
            "Epoch 37/50\n",
            "32/32 [==============================] - 2s 74ms/step - loss: 5.5350e-05 - accuracy: 1.0000 - val_loss: 0.3883 - val_accuracy: 0.9261\n",
            "Epoch 38/50\n",
            "32/32 [==============================] - 2s 75ms/step - loss: 4.8214e-05 - accuracy: 1.0000 - val_loss: 0.3591 - val_accuracy: 0.9318\n",
            "Epoch 39/50\n",
            "32/32 [==============================] - 2s 76ms/step - loss: 4.5354e-05 - accuracy: 1.0000 - val_loss: 0.3994 - val_accuracy: 0.9318\n",
            "Epoch 40/50\n",
            "32/32 [==============================] - 3s 78ms/step - loss: 3.9048e-05 - accuracy: 1.0000 - val_loss: 0.4146 - val_accuracy: 0.9261\n",
            "Epoch 41/50\n",
            "32/32 [==============================] - 2s 78ms/step - loss: 3.7522e-05 - accuracy: 1.0000 - val_loss: 0.3704 - val_accuracy: 0.9318\n",
            "Epoch 42/50\n",
            "32/32 [==============================] - 2s 75ms/step - loss: 3.1253e-05 - accuracy: 1.0000 - val_loss: 0.3297 - val_accuracy: 0.9318\n",
            "Epoch 43/50\n",
            "32/32 [==============================] - 2s 75ms/step - loss: 3.2679e-05 - accuracy: 1.0000 - val_loss: 0.4103 - val_accuracy: 0.9261\n",
            "Epoch 44/50\n",
            "32/32 [==============================] - 2s 74ms/step - loss: 2.6706e-05 - accuracy: 1.0000 - val_loss: 0.3658 - val_accuracy: 0.9318\n",
            "Epoch 45/50\n",
            "32/32 [==============================] - 2s 77ms/step - loss: 2.5253e-05 - accuracy: 1.0000 - val_loss: 0.4055 - val_accuracy: 0.9318\n",
            "Epoch 46/50\n",
            "32/32 [==============================] - 2s 74ms/step - loss: 2.4012e-05 - accuracy: 1.0000 - val_loss: 0.3036 - val_accuracy: 0.9318\n",
            "Epoch 47/50\n",
            "32/32 [==============================] - 2s 73ms/step - loss: 2.2989e-05 - accuracy: 1.0000 - val_loss: 0.3635 - val_accuracy: 0.9261\n",
            "Epoch 48/50\n",
            "32/32 [==============================] - 2s 73ms/step - loss: 1.8884e-05 - accuracy: 1.0000 - val_loss: 0.4230 - val_accuracy: 0.9261\n",
            "Epoch 49/50\n",
            "32/32 [==============================] - 2s 73ms/step - loss: 1.8771e-05 - accuracy: 1.0000 - val_loss: 0.4172 - val_accuracy: 0.9318\n",
            "Epoch 50/50\n",
            "32/32 [==============================] - 2s 73ms/step - loss: 1.6803e-05 - accuracy: 1.0000 - val_loss: 0.4354 - val_accuracy: 0.9205\n"
          ],
          "name": "stdout"
        },
        {
          "output_type": "execute_result",
          "data": {
            "text/plain": [
              "<tensorflow.python.keras.callbacks.History at 0x7fec8d3681d0>"
            ]
          },
          "metadata": {
            "tags": []
          },
          "execution_count": 30
        }
      ]
    },
    {
      "cell_type": "code",
      "metadata": {
        "id": "pYNrjFw9exNy",
        "colab_type": "code",
        "colab": {
          "base_uri": "https://localhost:8080/",
          "height": 607
        },
        "outputId": "12643696-5fbc-4482-a398-14f6423bded1"
      },
      "source": [
        "acc = history.history['accuracy']\n",
        "val_acc = history.history['val_accuracy']\n",
        "\n",
        "loss=history.history['loss']\n",
        "val_loss=history.history['val_loss']\n",
        "\n",
        "epochs_range = range(epochs)\n",
        "\n",
        "plt.figure(figsize=(15, 10))\n",
        "plt.subplot(1, 2, 1)\n",
        "plt.plot(epochs_range, acc, label='Training Accuracy')\n",
        "plt.plot(epochs_range, val_acc, label='Validation Accuracy')\n",
        "plt.legend(loc='lower right')\n",
        "plt.title('Training and Validation Accuracy')\n",
        "\n",
        "plt.subplot(1, 2, 2)\n",
        "plt.plot(epochs_range, loss, label='Training Loss')\n",
        "plt.plot(epochs_range, val_loss, label='Validation Loss')\n",
        "plt.legend(loc='upper right')\n",
        "plt.title('Training and Validation Loss')\n",
        "plt.show()"
      ],
      "execution_count": 35,
      "outputs": [
        {
          "output_type": "display_data",
          "data": {
            "image/png": "[encoded data removed]",
            "text/plain": [
              "<Figure size 1080x720 with 2 Axes>"
            ]
          },
          "metadata": {
            "tags": [],
            "needs_background": "light"
          }
        }
      ]
    },
    {
      "cell_type": "markdown",
      "metadata": {
        "id": "-owH7v5xZqDF",
        "colab_type": "text"
      },
      "source": [
        "# Custom CNN Model with Image Manipulations\n",
        "\n",
        "To simulate an increase in a sample of image, you can apply image manipulation techniques: cropping, rotation, stretching, etc. Luckily Keras has some handy functions for us to apply these techniques to our mountain and forest example. Simply, you should be able to modify our image generator for the problem. Check out these resources to help you get started: \n",
        "\n",
        "1. [Keras `ImageGenerator` Class](https://keras.io/preprocessing/image/#imagedatagenerator-class)\n",
        "2. [Building a powerful image classifier with very little data](https://blog.keras.io/building-powerful-image-classification-models-using-very-little-data.html)\n",
        " "
      ]
    },
    {
      "cell_type": "code",
      "metadata": {
        "id": "ZDw6ORKIZqDG",
        "colab_type": "code",
        "colab": {}
      },
      "source": [
        "image_gen_train = ImageDataGenerator(\n",
        "                    rescale=1./255,\n",
        "                    rotation_range=45,\n",
        "                    width_shift_range=.15,\n",
        "                    height_shift_range=.15,\n",
        "                    horizontal_flip=True,\n",
        "                    zoom_range=0.5\n",
        "                    )"
      ],
      "execution_count": 0,
      "outputs": []
    },
    {
      "cell_type": "code",
      "metadata": {
        "id": "oaO86Z44hFZC",
        "colab_type": "code",
        "colab": {
          "base_uri": "https://localhost:8080/",
          "height": 34
        },
        "outputId": "7f567146-b47d-451c-9853-52fba41de20b"
      },
      "source": [
        "train_data_gen = image_gen_train.flow_from_directory(batch_size=batch_size,\n",
        "                                                     directory=train_dir,\n",
        "                                                     shuffle=True,\n",
        "                                                     target_size=(IMG_HEIGHT, IMG_WIDTH),\n",
        "                                                     class_mode='binary')"
      ],
      "execution_count": 37,
      "outputs": [
        {
          "output_type": "stream",
          "text": [
            "Found 533 images belonging to 2 classes.\n"
          ],
          "name": "stdout"
        }
      ]
    },
    {
      "cell_type": "code",
      "metadata": {
        "id": "cgbBYIe3hTkL",
        "colab_type": "code",
        "colab": {
          "base_uri": "https://localhost:8080/",
          "height": 34
        },
        "outputId": "8634e423-00e5-4eff-d362-1847de41939a"
      },
      "source": [
        "image_gen_val = ImageDataGenerator(rescale=1./255)\n",
        "val_data_gen = image_gen_val.flow_from_directory(batch_size=batch_size,\n",
        "                                                 directory=validation_dir,\n",
        "                                                 target_size=(IMG_HEIGHT, IMG_WIDTH),\n",
        "                                                 class_mode='binary')"
      ],
      "execution_count": 38,
      "outputs": [
        {
          "output_type": "stream",
          "text": [
            "Found 195 images belonging to 2 classes.\n"
          ],
          "name": "stdout"
        }
      ]
    },
    {
      "cell_type": "code",
      "metadata": {
        "id": "_M7XAwe_hcag",
        "colab_type": "code",
        "colab": {
          "base_uri": "https://localhost:8080/",
          "height": 459
        },
        "outputId": "29f3f7f3-a2cd-4ae2-e2f9-b861b6b101f1"
      },
      "source": [
        "model = Sequential([\n",
        "    Conv2D(128, 3, padding='same', activation='relu', input_shape=(IMG_HEIGHT, IMG_WIDTH ,3)),\n",
        "    MaxPooling2D(),\n",
        "    Conv2D(64, 3, padding='same', activation='relu'),\n",
        "    MaxPooling2D(),\n",
        "    Conv2D(32, 3, padding='same', activation='relu'),\n",
        "    MaxPooling2D(),\n",
        "    Flatten(),\n",
        "    Dense(1024, activation='relu'),\n",
        "    Dense(1, activation='sigmoid')\n",
        "])\n",
        "\n",
        "model.summary()"
      ],
      "execution_count": 39,
      "outputs": [
        {
          "output_type": "stream",
          "text": [
            "Model: \"sequential_2\"\n",
            "_________________________________________________________________\n",
            "Layer (type)                 Output Shape              Param #   \n",
            "=================================================================\n",
            "conv2d_6 (Conv2D)            (None, 224, 224, 128)     3584      \n",
            "_________________________________________________________________\n",
            "max_pooling2d_4 (MaxPooling2 (None, 112, 112, 128)     0         \n",
            "_________________________________________________________________\n",
            "conv2d_7 (Conv2D)            (None, 112, 112, 64)      73792     \n",
            "_________________________________________________________________\n",
            "max_pooling2d_5 (MaxPooling2 (None, 56, 56, 64)        0         \n",
            "_________________________________________________________________\n",
            "conv2d_8 (Conv2D)            (None, 56, 56, 32)        18464     \n",
            "_________________________________________________________________\n",
            "max_pooling2d_6 (MaxPooling2 (None, 28, 28, 32)        0         \n",
            "_________________________________________________________________\n",
            "flatten_2 (Flatten)          (None, 25088)             0         \n",
            "_________________________________________________________________\n",
            "dense_8 (Dense)              (None, 1024)              25691136  \n",
            "_________________________________________________________________\n",
            "dense_9 (Dense)              (None, 1)                 1025      \n",
            "=================================================================\n",
            "Total params: 25,788,001\n",
            "Trainable params: 25,788,001\n",
            "Non-trainable params: 0\n",
            "_________________________________________________________________\n"
          ],
          "name": "stdout"
        }
      ]
    },
    {
      "cell_type": "code",
      "metadata": {
        "id": "aHB5_zN2hlgi",
        "colab_type": "code",
        "colab": {}
      },
      "source": [
        "model.compile(optimizer='adamax',\n",
        "              loss=\"binary_crossentropy\",\n",
        "              metrics=['accuracy'])"
      ],
      "execution_count": 0,
      "outputs": []
    },
    {
      "cell_type": "code",
      "metadata": {
        "id": "YrRWa_mVhofQ",
        "colab_type": "code",
        "colab": {
          "base_uri": "https://localhost:8080/",
          "height": 1000
        },
        "outputId": "fe466f42-0096-493f-8718-1a736bc8777a"
      },
      "source": [
        "model.fit_generator(\n",
        "    train_data_gen,\n",
        "    steps_per_epoch=total_train // batch_size,\n",
        "    epochs=epochs,\n",
        "    validation_data=val_data_gen,\n",
        "    validation_steps=total_val // batch_size\n",
        ")"
      ],
      "execution_count": 42,
      "outputs": [
        {
          "output_type": "stream",
          "text": [
            "WARNING:tensorflow:From <ipython-input-42-be4e3fe0861a>:6: Model.fit_generator (from tensorflow.python.keras.engine.training) is deprecated and will be removed in a future version.\n",
            "Instructions for updating:\n",
            "Please use Model.fit, which supports generators.\n",
            "Epoch 1/50\n",
            "32/32 [==============================] - 8s 258ms/step - loss: 0.5767 - accuracy: 0.7764 - val_loss: 0.3077 - val_accuracy: 0.8864\n",
            "Epoch 2/50\n",
            "32/32 [==============================] - 8s 257ms/step - loss: 0.2773 - accuracy: 0.8982 - val_loss: 0.2191 - val_accuracy: 0.9205\n",
            "Epoch 3/50\n",
            "32/32 [==============================] - 9s 267ms/step - loss: 0.2305 - accuracy: 0.9062 - val_loss: 0.4653 - val_accuracy: 0.7784\n",
            "Epoch 4/50\n",
            "32/32 [==============================] - 8s 263ms/step - loss: 0.1963 - accuracy: 0.9202 - val_loss: 0.7174 - val_accuracy: 0.7557\n",
            "Epoch 5/50\n",
            "32/32 [==============================] - 8s 260ms/step - loss: 0.2262 - accuracy: 0.9261 - val_loss: 0.3635 - val_accuracy: 0.8580\n",
            "Epoch 6/50\n",
            "32/32 [==============================] - 9s 267ms/step - loss: 0.2019 - accuracy: 0.9202 - val_loss: 0.6115 - val_accuracy: 0.7273\n",
            "Epoch 7/50\n",
            "32/32 [==============================] - 9s 269ms/step - loss: 0.2063 - accuracy: 0.9242 - val_loss: 0.2976 - val_accuracy: 0.8920\n",
            "Epoch 8/50\n",
            "32/32 [==============================] - 8s 261ms/step - loss: 0.2204 - accuracy: 0.9002 - val_loss: 0.2098 - val_accuracy: 0.9318\n",
            "Epoch 9/50\n",
            "32/32 [==============================] - 8s 259ms/step - loss: 0.1941 - accuracy: 0.9321 - val_loss: 0.2680 - val_accuracy: 0.9034\n",
            "Epoch 10/50\n",
            "32/32 [==============================] - 8s 264ms/step - loss: 0.1858 - accuracy: 0.9082 - val_loss: 0.7367 - val_accuracy: 0.7102\n",
            "Epoch 11/50\n",
            "32/32 [==============================] - 9s 267ms/step - loss: 0.1702 - accuracy: 0.9202 - val_loss: 0.5204 - val_accuracy: 0.8125\n",
            "Epoch 12/50\n",
            "32/32 [==============================] - 9s 268ms/step - loss: 0.1972 - accuracy: 0.9142 - val_loss: 0.4303 - val_accuracy: 0.8182\n",
            "Epoch 13/50\n",
            "32/32 [==============================] - 9s 267ms/step - loss: 0.1626 - accuracy: 0.9281 - val_loss: 0.2964 - val_accuracy: 0.8864\n",
            "Epoch 14/50\n",
            "32/32 [==============================] - 9s 267ms/step - loss: 0.2009 - accuracy: 0.9242 - val_loss: 0.4986 - val_accuracy: 0.7841\n",
            "Epoch 15/50\n",
            "32/32 [==============================] - 8s 261ms/step - loss: 0.1960 - accuracy: 0.9162 - val_loss: 0.3372 - val_accuracy: 0.8523\n",
            "Epoch 16/50\n",
            "32/32 [==============================] - 8s 257ms/step - loss: 0.1682 - accuracy: 0.9361 - val_loss: 0.3532 - val_accuracy: 0.8693\n",
            "Epoch 17/50\n",
            "32/32 [==============================] - 8s 265ms/step - loss: 0.1460 - accuracy: 0.9341 - val_loss: 0.3988 - val_accuracy: 0.8239\n",
            "Epoch 18/50\n",
            "32/32 [==============================] - 8s 265ms/step - loss: 0.1384 - accuracy: 0.9421 - val_loss: 0.2859 - val_accuracy: 0.8807\n",
            "Epoch 19/50\n",
            "32/32 [==============================] - 8s 253ms/step - loss: 0.1845 - accuracy: 0.9321 - val_loss: 0.3516 - val_accuracy: 0.8580\n",
            "Epoch 20/50\n",
            "32/32 [==============================] - 8s 257ms/step - loss: 0.1478 - accuracy: 0.9321 - val_loss: 0.2117 - val_accuracy: 0.9205\n",
            "Epoch 21/50\n",
            "32/32 [==============================] - 8s 257ms/step - loss: 0.1730 - accuracy: 0.9381 - val_loss: 0.2425 - val_accuracy: 0.8920\n",
            "Epoch 22/50\n",
            "32/32 [==============================] - 8s 263ms/step - loss: 0.1596 - accuracy: 0.9341 - val_loss: 0.2477 - val_accuracy: 0.8977\n",
            "Epoch 23/50\n",
            "32/32 [==============================] - 9s 266ms/step - loss: 0.1389 - accuracy: 0.9441 - val_loss: 0.3537 - val_accuracy: 0.8409\n",
            "Epoch 24/50\n",
            "32/32 [==============================] - 8s 259ms/step - loss: 0.1504 - accuracy: 0.9461 - val_loss: 0.2047 - val_accuracy: 0.9318\n",
            "Epoch 25/50\n",
            "32/32 [==============================] - 8s 262ms/step - loss: 0.1437 - accuracy: 0.9461 - val_loss: 0.2868 - val_accuracy: 0.8750\n",
            "Epoch 26/50\n",
            "32/32 [==============================] - 9s 273ms/step - loss: 0.1417 - accuracy: 0.9521 - val_loss: 0.3160 - val_accuracy: 0.8636\n",
            "Epoch 27/50\n",
            "32/32 [==============================] - 9s 269ms/step - loss: 0.1211 - accuracy: 0.9401 - val_loss: 0.3270 - val_accuracy: 0.8807\n",
            "Epoch 28/50\n",
            "32/32 [==============================] - 8s 263ms/step - loss: 0.1406 - accuracy: 0.9481 - val_loss: 0.3986 - val_accuracy: 0.7955\n",
            "Epoch 29/50\n",
            "32/32 [==============================] - 8s 257ms/step - loss: 0.1189 - accuracy: 0.9581 - val_loss: 0.1604 - val_accuracy: 0.9318\n",
            "Epoch 30/50\n",
            "32/32 [==============================] - 8s 254ms/step - loss: 0.2234 - accuracy: 0.9042 - val_loss: 0.2722 - val_accuracy: 0.8807\n",
            "Epoch 31/50\n",
            "32/32 [==============================] - 8s 255ms/step - loss: 0.1516 - accuracy: 0.9341 - val_loss: 0.4018 - val_accuracy: 0.8182\n",
            "Epoch 32/50\n",
            "32/32 [==============================] - 8s 261ms/step - loss: 0.1138 - accuracy: 0.9481 - val_loss: 0.3666 - val_accuracy: 0.8636\n",
            "Epoch 33/50\n",
            "32/32 [==============================] - 8s 255ms/step - loss: 0.1443 - accuracy: 0.9441 - val_loss: 0.3098 - val_accuracy: 0.8807\n",
            "Epoch 34/50\n",
            "32/32 [==============================] - 8s 255ms/step - loss: 0.1389 - accuracy: 0.9421 - val_loss: 0.1812 - val_accuracy: 0.9148\n",
            "Epoch 35/50\n",
            "32/32 [==============================] - 8s 259ms/step - loss: 0.1246 - accuracy: 0.9581 - val_loss: 0.3062 - val_accuracy: 0.8750\n",
            "Epoch 36/50\n",
            "32/32 [==============================] - 8s 259ms/step - loss: 0.1234 - accuracy: 0.9501 - val_loss: 0.4605 - val_accuracy: 0.8409\n",
            "Epoch 37/50\n",
            "32/32 [==============================] - 8s 255ms/step - loss: 0.1306 - accuracy: 0.9501 - val_loss: 0.3295 - val_accuracy: 0.8523\n",
            "Epoch 38/50\n",
            "32/32 [==============================] - 8s 262ms/step - loss: 0.1076 - accuracy: 0.9551 - val_loss: 0.4533 - val_accuracy: 0.8239\n",
            "Epoch 39/50\n",
            "32/32 [==============================] - 8s 258ms/step - loss: 0.1226 - accuracy: 0.9481 - val_loss: 0.2451 - val_accuracy: 0.8920\n",
            "Epoch 40/50\n",
            "32/32 [==============================] - 8s 265ms/step - loss: 0.1224 - accuracy: 0.9541 - val_loss: 0.4645 - val_accuracy: 0.8239\n",
            "Epoch 41/50\n",
            "32/32 [==============================] - 8s 265ms/step - loss: 0.1180 - accuracy: 0.9501 - val_loss: 0.3555 - val_accuracy: 0.8125\n",
            "Epoch 42/50\n",
            "32/32 [==============================] - 8s 265ms/step - loss: 0.1172 - accuracy: 0.9561 - val_loss: 0.3215 - val_accuracy: 0.8977\n",
            "Epoch 43/50\n",
            "32/32 [==============================] - 8s 256ms/step - loss: 0.1256 - accuracy: 0.9521 - val_loss: 0.4740 - val_accuracy: 0.7898\n",
            "Epoch 44/50\n",
            "32/32 [==============================] - 8s 252ms/step - loss: 0.1127 - accuracy: 0.9661 - val_loss: 0.2635 - val_accuracy: 0.8807\n",
            "Epoch 45/50\n",
            "32/32 [==============================] - 8s 255ms/step - loss: 0.1222 - accuracy: 0.9501 - val_loss: 0.3505 - val_accuracy: 0.8580\n",
            "Epoch 46/50\n",
            "32/32 [==============================] - 8s 264ms/step - loss: 0.1205 - accuracy: 0.9481 - val_loss: 0.5282 - val_accuracy: 0.8239\n",
            "Epoch 47/50\n",
            "32/32 [==============================] - 9s 267ms/step - loss: 0.1129 - accuracy: 0.9541 - val_loss: 0.5168 - val_accuracy: 0.7955\n",
            "Epoch 48/50\n",
            "32/32 [==============================] - 8s 263ms/step - loss: 0.1119 - accuracy: 0.9621 - val_loss: 0.1994 - val_accuracy: 0.9034\n",
            "Epoch 49/50\n",
            "32/32 [==============================] - 8s 258ms/step - loss: 0.1142 - accuracy: 0.9629 - val_loss: 0.3376 - val_accuracy: 0.8693\n",
            "Epoch 50/50\n",
            "32/32 [==============================] - 8s 263ms/step - loss: 0.0799 - accuracy: 0.9681 - val_loss: 0.4389 - val_accuracy: 0.8580\n"
          ],
          "name": "stdout"
        },
        {
          "output_type": "execute_result",
          "data": {
            "text/plain": [
              "<tensorflow.python.keras.callbacks.History at 0x7fec914a40b8>"
            ]
          },
          "metadata": {
            "tags": []
          },
          "execution_count": 42
        }
      ]
    },
    {
      "cell_type": "markdown",
      "metadata": {
        "colab_type": "text",
        "id": "uT3UV3gap9H6"
      },
      "source": [
        "# Resources and Stretch Goals\n",
        "\n",
        "Stretch goals\n",
        "- Enhance your code to use classes/functions and accept terms to search and classes to look for in recognizing the downloaded images (e.g. download images of parties, recognize all that contain balloons)\n",
        "- Check out [other available pretrained networks](https://tfhub.dev), try some and compare\n",
        "- Image recognition/classification is somewhat solved, but *relationships* between entities and describing an image is not - check out some of the extended resources (e.g. [Visual Genome](https://visualgenome.org/)) on the topic\n",
        "- Transfer learning - using images you source yourself, [retrain a classifier](https://www.tensorflow.org/hub/tutorials/image_retraining) with a new category\n",
        "- (Not CNN related) Use [piexif](https://pypi.org/project/piexif/) to check out the metadata of images passed in to your system - see if they're from a national park! (Note - many images lack GPS metadata, so this won't work in most cases, but still cool)\n",
        "\n",
        "Resources\n",
        "- [Deep Residual Learning for Image Recognition](https://arxiv.org/abs/1512.03385) - influential paper (introduced ResNet)\n",
        "- [YOLO: Real-Time Object Detection](https://pjreddie.com/darknet/yolo/) - an influential convolution based object detection system, focused on inference speed (for applications to e.g. self driving vehicles)\n",
        "- [R-CNN, Fast R-CNN, Faster R-CNN, YOLO](https://towardsdatascience.com/r-cnn-fast-r-cnn-faster-r-cnn-yolo-object-detection-algorithms-36d53571365e) - comparison of object detection systems\n",
        "- [Common Objects in Context](http://cocodataset.org/) - a large-scale object detection, segmentation, and captioning dataset\n",
        "- [Visual Genome](https://visualgenome.org/) - a dataset, a knowledge base, an ongoing effort to connect structured image concepts to language"
      ]
    }
  ]
}