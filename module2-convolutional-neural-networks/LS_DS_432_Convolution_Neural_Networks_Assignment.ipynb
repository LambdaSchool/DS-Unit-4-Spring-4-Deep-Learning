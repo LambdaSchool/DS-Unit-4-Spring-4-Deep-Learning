{
  "nbformat": 4,
  "nbformat_minor": 0,
  "metadata": {
    "kernelspec": {
      "name": "python3",
      "display_name": "Python 3"
    },
    "colab": {
      "name": "LS_DS_432_Convolution_Neural_Networks_Assignment.ipynb",
      "provenance": [],
      "include_colab_link": true
    },
    "accelerator": "GPU"
  },
  "cells": [
    {
      "cell_type": "markdown",
      "metadata": {
        "id": "view-in-github",
        "colab_type": "text"
      },
      "source": [
        "<a href=\"https://colab.research.google.com/github/cedro-gasque/DS-Unit-4-Sprint-3-Deep-Learning/blob/master/module2-convolutional-neural-networks/LS_DS_432_Convolution_Neural_Networks_Assignment.ipynb\" target=\"_parent\"><img src=\"https://colab.research.google.com/assets/colab-badge.svg\" alt=\"Open In Colab\"/></a>"
      ]
    },
    {
      "cell_type": "markdown",
      "metadata": {
        "id": "HtL7UwRfZyuN",
        "colab_type": "text"
      },
      "source": [
        "<img align=\"left\" src=\"https://lever-client-logos.s3.amazonaws.com/864372b1-534c-480e-acd5-9711f850815c-1524247202159.png\" width=200>\n",
        "<br></br>\n",
        "<br></br>\n",
        "\n",
        "## *Data Science Unit 4 Sprint 3 Assignment 2*\n",
        "# Convolutional Neural Networks (CNNs)"
      ]
    },
    {
      "cell_type": "markdown",
      "metadata": {
        "colab_type": "text",
        "id": "0lfZdD_cp1t5"
      },
      "source": [
        "# Assignment\n",
        "\n",
        "- <a href=\"#p1\">Part 1:</a> Pre-Trained Model\n",
        "- <a href=\"#p2\">Part 2:</a> Custom CNN Model\n",
        "- <a href=\"#p3\">Part 3:</a> CNN with Data Augmentation\n",
        "\n",
        "\n",
        "You will apply three different CNN models to a binary image classification model using Keras. Classify images of Mountains (`./data/train/mountain/*`) and images of forests (`./data/train/forest/*`). Treat mountains as the positive class (1) and the forest images as the negative (zero). \n",
        "\n",
        "|Mountain (+)|Forest (-)|\n",
        "|---|---|\n",
        "|![](https://github.com/cedro-gasque/DS-Unit-4-Sprint-3-Deep-Learning/blob/master/module2-convolutional-neural-networks/data/train/mountain/art1131.jpg?raw=1)|![](https://github.com/cedro-gasque/DS-Unit-4-Sprint-3-Deep-Learning/blob/master/module2-convolutional-neural-networks/data/validation/forest/cdmc317.jpg?raw=1)|\n",
        "\n",
        "The problem is relatively difficult given that the sample is tiny: there are about 350 observations per class. This sample size might be something that you can expect with prototyping an image classification problem/solution at work. Get accustomed to evaluating several different possible models."
      ]
    },
    {
      "cell_type": "markdown",
      "metadata": {
        "colab_type": "text",
        "id": "NG8osYi5ZyuS"
      },
      "source": [
        "# Pre - Trained Model\n",
        "<a id=\"p1\"></a>\n",
        "\n",
        "Load a pretrained network from Keras, [ResNet50](https://tfhub.dev/google/imagenet/resnet_v1_50/classification/1) - a 50 layer deep network trained to recognize [1000 objects](https://storage.googleapis.com/download.tensorflow.org/data/ImageNetLabels.txt). Starting usage:\n",
        "\n",
        "```python\n",
        "import numpy as np\n",
        "\n",
        "from tensorflow.keras.applications.resnet50 import ResNet50\n",
        "from tensorflow.keras.preprocessing import image\n",
        "from tensorflow.keras.applications.resnet50 import preprocess_input, decode_predictions\n",
        "\n",
        "from tensorflow.keras.layers import Dense, GlobalAveragePooling2D\n",
        "from tensorflow.keras.models import Model # This is the functional API\n",
        "\n",
        "resnet = ResNet50(weights='imagenet', include_top=False)\n",
        "\n",
        "```\n",
        "\n",
        "The `include_top` parameter in `ResNet50` will remove the full connected layers from the ResNet model. The next step is to turn off the training of the ResNet layers. We want to use the learned parameters without updating them in future training passes. \n",
        "\n",
        "```python\n",
        "for layer in resnet.layers:\n",
        "    layer.trainable = False\n",
        "```\n",
        "\n",
        "Using the Keras functional API, we will need to additional additional full connected layers to our model. We we removed the top layers, we removed all preivous fully connected layers. In other words, we kept only the feature processing portions of our network. You can expert with additional layers beyond what's listed here. The `GlobalAveragePooling2D` layer functions as a really fancy flatten function by taking the average of each of the last convolutional layer outputs (which is two dimensional still). \n",
        "\n",
        "```python\n",
        "x = resnet.output\n",
        "x = GlobalAveragePooling2D()(x) # This layer is a really fancy flatten\n",
        "x = Dense(1024, activation='relu')(x)\n",
        "predictions = Dense(1, activation='sigmoid')(x)\n",
        "model = Model(resnet.input, predictions)\n",
        "```\n",
        "\n",
        "Your assignment is to apply the transfer learning above to classify images of Mountains (`./data/train/mountain/*`) and images of forests (`./data/train/forest/*`). Treat mountains as the positive class (1) and the forest images as the negative (zero). \n",
        "\n",
        "Steps to complete assignment: \n",
        "1. Load in Image Data into numpy arrays (`X`) \n",
        "2. Create a `y` for the labels\n",
        "3. Train your model with pre-trained layers from resnet\n",
        "4. Report your model's accuracy"
      ]
    },
    {
      "cell_type": "markdown",
      "metadata": {
        "id": "GG0FzwE4ZyuW",
        "colab_type": "text"
      },
      "source": [
        "## Load in Data\n",
        "\n",
        "This surprisingly more difficult than it seems, because you are working with directories of images instead of a single file. This boiler plate will help you download a zipped version of the directory of images. The directory is organized into \"train\" and \"validation\" which you can use inside an `ImageGenerator` class to stream batches of images thru your model.  \n"
      ]
    },
    {
      "cell_type": "markdown",
      "metadata": {
        "id": "ld21wNHpZyuY",
        "colab_type": "text"
      },
      "source": [
        "### Download & Summarize the Data\n",
        "\n",
        "This step is completed for you. Just run the cells and review the results. "
      ]
    },
    {
      "cell_type": "code",
      "metadata": {
        "id": "De1cbyEoZyub",
        "colab_type": "code",
        "colab": {
          "base_uri": "https://localhost:8080/",
          "height": 0
        },
        "outputId": "08261b1e-77e3-46fd-c8c1-570a5eb5f355"
      },
      "source": [
        "import tensorflow as tf\n",
        "import os\n",
        "\n",
        "_URL = 'https://github.com/LambdaSchool/DS-Unit-4-Sprint-3-Deep-Learning/blob/master/module2-convolutional-neural-networks/data.zip?raw=true'\n",
        "\n",
        "path_to_zip = tf.keras.utils.get_file('./data.zip', origin=_URL, extract=True)\n",
        "PATH = os.path.join(os.path.dirname(path_to_zip), 'data')"
      ],
      "execution_count": 1,
      "outputs": [
        {
          "output_type": "stream",
          "text": [
            "Downloading data from https://github.com/LambdaSchool/DS-Unit-4-Sprint-3-Deep-Learning/blob/master/module2-convolutional-neural-networks/data.zip?raw=true\n",
            "42172416/42170838 [==============================] - 0s 0us/step\n"
          ],
          "name": "stdout"
        }
      ]
    },
    {
      "cell_type": "code",
      "metadata": {
        "id": "pmynnb0iZyum",
        "colab_type": "code",
        "colab": {}
      },
      "source": [
        "train_dir = os.path.join(PATH, 'train')\n",
        "validation_dir = os.path.join(PATH, 'validation')"
      ],
      "execution_count": 0,
      "outputs": []
    },
    {
      "cell_type": "code",
      "metadata": {
        "id": "fbd9AJ2xZyut",
        "colab_type": "code",
        "colab": {}
      },
      "source": [
        "train_mountain_dir = os.path.join(train_dir, 'mountain')  # directory with our training cat pictures\n",
        "train_forest_dir = os.path.join(train_dir, 'forest')  # directory with our training dog pictures\n",
        "validation_mountain_dir = os.path.join(validation_dir, 'mountain')  # directory with our validation cat pictures\n",
        "validation_forest_dir = os.path.join(validation_dir, 'forest')  # directory with our validation dog pictures"
      ],
      "execution_count": 0,
      "outputs": []
    },
    {
      "cell_type": "code",
      "metadata": {
        "id": "JC9WGDMUZyu0",
        "colab_type": "code",
        "colab": {}
      },
      "source": [
        "num_mountain_tr = len(os.listdir(train_mountain_dir))\n",
        "num_forest_tr = len(os.listdir(train_forest_dir))\n",
        "\n",
        "num_mountain_val = len(os.listdir(validation_mountain_dir))\n",
        "num_forest_val = len(os.listdir(validation_forest_dir))\n",
        "\n",
        "total_train = num_mountain_tr + num_forest_tr\n",
        "total_val = num_mountain_val + num_forest_val"
      ],
      "execution_count": 0,
      "outputs": []
    },
    {
      "cell_type": "code",
      "metadata": {
        "id": "8yWbbct8Zyu8",
        "colab_type": "code",
        "colab": {
          "base_uri": "https://localhost:8080/",
          "height": 0
        },
        "outputId": "952fefe0-471a-4894-dc35-880dcb23bebf"
      },
      "source": [
        "print('total training mountain images:', num_mountain_tr)\n",
        "print('total training forest images:', num_forest_tr)\n",
        "\n",
        "print('total validation mountain images:', num_mountain_val)\n",
        "print('total validation forest images:', num_forest_val)\n",
        "print(\"--\")\n",
        "print(\"Total training images:\", total_train)\n",
        "print(\"Total validation images:\", total_val)"
      ],
      "execution_count": 5,
      "outputs": [
        {
          "output_type": "stream",
          "text": [
            "total training mountain images: 254\n",
            "total training forest images: 270\n",
            "total validation mountain images: 125\n",
            "total validation forest images: 62\n",
            "--\n",
            "Total training images: 524\n",
            "Total validation images: 187\n"
          ],
          "name": "stdout"
        }
      ]
    },
    {
      "cell_type": "markdown",
      "metadata": {
        "id": "vhA9fTRTZyvB",
        "colab_type": "text"
      },
      "source": [
        "### Keras `ImageGenerator` to Process the Data\n",
        "\n",
        "This step is completed for you, but please review the code. The `ImageGenerator` class reads in batches of data from a directory and pass them to the model one batch at a time. Just like large text files, this method is advantageous, because it stifles the need to load a bunch of images into memory. \n",
        "\n",
        "Check out the documentation for this class method: [Keras `ImageGenerator` Class](https://keras.io/preprocessing/image/#imagedatagenerator-class). You'll expand it's use in the third assignment objective."
      ]
    },
    {
      "cell_type": "code",
      "metadata": {
        "id": "6PwmdPhBZyvC",
        "colab_type": "code",
        "colab": {}
      },
      "source": [
        "batch_size = 16\n",
        "epochs = 50\n",
        "IMG_HEIGHT = 224\n",
        "IMG_WIDTH = 224"
      ],
      "execution_count": 0,
      "outputs": []
    },
    {
      "cell_type": "code",
      "metadata": {
        "id": "XSA46IFeZyvK",
        "colab_type": "code",
        "colab": {}
      },
      "source": [
        "from tensorflow.keras.preprocessing.image import ImageDataGenerator\n",
        "\n",
        "train_image_generator = ImageDataGenerator(rescale=1./255) # Generator for our training data\n",
        "validation_image_generator = ImageDataGenerator(rescale=1./255) # Generator for our validation data"
      ],
      "execution_count": 0,
      "outputs": []
    },
    {
      "cell_type": "code",
      "metadata": {
        "id": "_w4Z-70nZyvP",
        "colab_type": "code",
        "colab": {
          "base_uri": "https://localhost:8080/",
          "height": 0
        },
        "outputId": "fa1af51c-496b-4669-adb9-5f0def735b62"
      },
      "source": [
        "train_data_gen = train_image_generator.flow_from_directory(batch_size=batch_size,\n",
        "                                                           directory=train_dir,\n",
        "                                                           shuffle=True,\n",
        "                                                           target_size=(IMG_HEIGHT, IMG_WIDTH),\n",
        "                                                           class_mode='binary')"
      ],
      "execution_count": 8,
      "outputs": [
        {
          "output_type": "stream",
          "text": [
            "Found 533 images belonging to 2 classes.\n"
          ],
          "name": "stdout"
        }
      ]
    },
    {
      "cell_type": "code",
      "metadata": {
        "id": "ebK5MytJZyvY",
        "colab_type": "code",
        "colab": {
          "base_uri": "https://localhost:8080/",
          "height": 0
        },
        "outputId": "238e18fb-cbba-43fe-c9b1-d0ddb65f3789"
      },
      "source": [
        "val_data_gen = validation_image_generator.flow_from_directory(batch_size=batch_size,\n",
        "                                                              directory=validation_dir,\n",
        "                                                              target_size=(IMG_HEIGHT, IMG_WIDTH),\n",
        "                                                              class_mode='binary')"
      ],
      "execution_count": 9,
      "outputs": [
        {
          "output_type": "stream",
          "text": [
            "Found 195 images belonging to 2 classes.\n"
          ],
          "name": "stdout"
        }
      ]
    },
    {
      "cell_type": "markdown",
      "metadata": {
        "id": "hePQXL30Zyvd",
        "colab_type": "text"
      },
      "source": [
        "## Instatiate Model"
      ]
    },
    {
      "cell_type": "code",
      "metadata": {
        "id": "zFnFATqXZyvd",
        "colab_type": "code",
        "colab": {}
      },
      "source": [
        "import numpy as np\n",
        " \n",
        "from tensorflow.keras.applications.resnet50 import ResNet50\n",
        "from tensorflow.keras.preprocessing import image\n",
        "from tensorflow.keras.applications.resnet50 import preprocess_input, decode_predictions\n",
        " \n",
        "from tensorflow.keras.layers import Dense, GlobalAveragePooling2D, Conv2D, MaxPooling2D, Flatten\n",
        "from tensorflow.keras.models import Sequential, Model # This is the functional API\n",
        " \n",
        "resnet = ResNet50(weights='imagenet', include_top=False)"
      ],
      "execution_count": 0,
      "outputs": []
    },
    {
      "cell_type": "code",
      "metadata": {
        "id": "42AagQ_ie7hm",
        "colab_type": "code",
        "colab": {}
      },
      "source": [
        "for layer in resnet.layers:\n",
        "    layer.trainable = False "
      ],
      "execution_count": 0,
      "outputs": []
    },
    {
      "cell_type": "code",
      "metadata": {
        "id": "LCPzTEGne9np",
        "colab_type": "code",
        "colab": {}
      },
      "source": [
        "x = resnet.output\n",
        "x = GlobalAveragePooling2D()(x) # This layer is a really fancy flatten\n",
        "x = Dense(1024, activation='relu')(x)\n",
        "predictions = Dense(1, activation='sigmoid')(x)\n",
        "model = Model(resnet.input, predictions)"
      ],
      "execution_count": 0,
      "outputs": []
    },
    {
      "cell_type": "markdown",
      "metadata": {
        "id": "jIPnrSmfZyvi",
        "colab_type": "text"
      },
      "source": [
        "## Fit Model"
      ]
    },
    {
      "cell_type": "code",
      "metadata": {
        "id": "RDrxMJtjfJEP",
        "colab_type": "code",
        "colab": {}
      },
      "source": [
        "model.compile(optimizer='nadam', loss='binary_crossentropy', metrics=['accuracy'])"
      ],
      "execution_count": 0,
      "outputs": []
    },
    {
      "cell_type": "code",
      "metadata": {
        "id": "inmcxEblZyvj",
        "colab_type": "code",
        "colab": {
          "base_uri": "https://localhost:8080/",
          "height": 1000
        },
        "outputId": "02c2281f-211e-4cc1-f324-a794a830345c"
      },
      "source": [
        "history = model.fit(\n",
        "    train_data_gen,\n",
        "    steps_per_epoch=total_train // batch_size,\n",
        "    epochs=epochs,\n",
        "    validation_data=val_data_gen,\n",
        "    validation_steps=total_val // batch_size\n",
        ")"
      ],
      "execution_count": 14,
      "outputs": [
        {
          "output_type": "stream",
          "text": [
            "Epoch 1/50\n",
            "32/32 [==============================] - 4s 131ms/step - loss: 0.8394 - accuracy: 0.5293 - val_loss: 0.7437 - val_accuracy: 0.6534\n",
            "Epoch 2/50\n",
            "32/32 [==============================] - 4s 119ms/step - loss: 0.6804 - accuracy: 0.6287 - val_loss: 0.5151 - val_accuracy: 0.6687\n",
            "Epoch 3/50\n",
            "32/32 [==============================] - 3s 103ms/step - loss: 0.6129 - accuracy: 0.6447 - val_loss: 0.4962 - val_accuracy: 0.7485\n",
            "Epoch 4/50\n",
            "32/32 [==============================] - 3s 103ms/step - loss: 0.5903 - accuracy: 0.6966 - val_loss: 0.4680 - val_accuracy: 0.7485\n",
            "Epoch 5/50\n",
            "32/32 [==============================] - 3s 104ms/step - loss: 0.5421 - accuracy: 0.7365 - val_loss: 0.4381 - val_accuracy: 0.7301\n",
            "Epoch 6/50\n",
            "32/32 [==============================] - 3s 105ms/step - loss: 0.4943 - accuracy: 0.7445 - val_loss: 0.5173 - val_accuracy: 0.7914\n",
            "Epoch 7/50\n",
            "32/32 [==============================] - 3s 104ms/step - loss: 0.4637 - accuracy: 0.8084 - val_loss: 0.6278 - val_accuracy: 0.6871\n",
            "Epoch 8/50\n",
            "32/32 [==============================] - 3s 104ms/step - loss: 0.4807 - accuracy: 0.7764 - val_loss: 0.4681 - val_accuracy: 0.8650\n",
            "Epoch 9/50\n",
            "32/32 [==============================] - 3s 103ms/step - loss: 0.4167 - accuracy: 0.8064 - val_loss: 0.4332 - val_accuracy: 0.8344\n",
            "Epoch 10/50\n",
            "32/32 [==============================] - 3s 104ms/step - loss: 0.4159 - accuracy: 0.8164 - val_loss: 0.7110 - val_accuracy: 0.5951\n",
            "Epoch 11/50\n",
            "32/32 [==============================] - 3s 104ms/step - loss: 0.3714 - accuracy: 0.8543 - val_loss: 0.4474 - val_accuracy: 0.8160\n",
            "Epoch 12/50\n",
            "32/32 [==============================] - 3s 103ms/step - loss: 0.3270 - accuracy: 0.8942 - val_loss: 0.4108 - val_accuracy: 0.8344\n",
            "Epoch 13/50\n",
            "32/32 [==============================] - 3s 104ms/step - loss: 0.3777 - accuracy: 0.8603 - val_loss: 0.3404 - val_accuracy: 0.8636\n",
            "Epoch 14/50\n",
            "32/32 [==============================] - 3s 105ms/step - loss: 0.3525 - accuracy: 0.8483 - val_loss: 0.3202 - val_accuracy: 0.8920\n",
            "Epoch 15/50\n",
            "32/32 [==============================] - 3s 103ms/step - loss: 0.3285 - accuracy: 0.8723 - val_loss: 0.2899 - val_accuracy: 0.9080\n",
            "Epoch 16/50\n",
            "32/32 [==============================] - 3s 103ms/step - loss: 0.3211 - accuracy: 0.8782 - val_loss: 0.3768 - val_accuracy: 0.8405\n",
            "Epoch 17/50\n",
            "32/32 [==============================] - 3s 104ms/step - loss: 0.3563 - accuracy: 0.8244 - val_loss: 0.7232 - val_accuracy: 0.6319\n",
            "Epoch 18/50\n",
            "32/32 [==============================] - 3s 104ms/step - loss: 0.2702 - accuracy: 0.8945 - val_loss: 0.2198 - val_accuracy: 0.9387\n",
            "Epoch 19/50\n",
            "32/32 [==============================] - 3s 103ms/step - loss: 0.2778 - accuracy: 0.8982 - val_loss: 0.3615 - val_accuracy: 0.8037\n",
            "Epoch 20/50\n",
            "32/32 [==============================] - 3s 102ms/step - loss: 0.2907 - accuracy: 0.8762 - val_loss: 0.3115 - val_accuracy: 0.8098\n",
            "Epoch 21/50\n",
            "32/32 [==============================] - 3s 103ms/step - loss: 0.2402 - accuracy: 0.9102 - val_loss: 0.3939 - val_accuracy: 0.8221\n",
            "Epoch 22/50\n",
            "32/32 [==============================] - 3s 104ms/step - loss: 0.2959 - accuracy: 0.8623 - val_loss: 0.3630 - val_accuracy: 0.8221\n",
            "Epoch 23/50\n",
            "32/32 [==============================] - 3s 103ms/step - loss: 0.3278 - accuracy: 0.8523 - val_loss: 0.2346 - val_accuracy: 0.9141\n",
            "Epoch 24/50\n",
            "32/32 [==============================] - 3s 104ms/step - loss: 0.2217 - accuracy: 0.9222 - val_loss: 0.2902 - val_accuracy: 0.8344\n",
            "Epoch 25/50\n",
            "32/32 [==============================] - 3s 104ms/step - loss: 0.2631 - accuracy: 0.8962 - val_loss: 0.3078 - val_accuracy: 0.8589\n",
            "Epoch 26/50\n",
            "32/32 [==============================] - 3s 105ms/step - loss: 0.1781 - accuracy: 0.9541 - val_loss: 0.2174 - val_accuracy: 0.9318\n",
            "Epoch 27/50\n",
            "32/32 [==============================] - 3s 106ms/step - loss: 0.2342 - accuracy: 0.9142 - val_loss: 0.2459 - val_accuracy: 0.9034\n",
            "Epoch 28/50\n",
            "32/32 [==============================] - 3s 103ms/step - loss: 0.2535 - accuracy: 0.8942 - val_loss: 0.8482 - val_accuracy: 0.6074\n",
            "Epoch 29/50\n",
            "32/32 [==============================] - 3s 105ms/step - loss: 0.2275 - accuracy: 0.9122 - val_loss: 0.6652 - val_accuracy: 0.6871\n",
            "Epoch 30/50\n",
            "32/32 [==============================] - 3s 104ms/step - loss: 0.1865 - accuracy: 0.9321 - val_loss: 0.2445 - val_accuracy: 0.9141\n",
            "Epoch 31/50\n",
            "32/32 [==============================] - 3s 104ms/step - loss: 0.1960 - accuracy: 0.9202 - val_loss: 0.2228 - val_accuracy: 0.9264\n",
            "Epoch 32/50\n",
            "32/32 [==============================] - 3s 103ms/step - loss: 0.1792 - accuracy: 0.9301 - val_loss: 0.2561 - val_accuracy: 0.9202\n",
            "Epoch 33/50\n",
            "32/32 [==============================] - 3s 104ms/step - loss: 0.2015 - accuracy: 0.9142 - val_loss: 0.2508 - val_accuracy: 0.9202\n",
            "Epoch 34/50\n",
            "32/32 [==============================] - 3s 103ms/step - loss: 0.1886 - accuracy: 0.9182 - val_loss: 0.2946 - val_accuracy: 0.8834\n",
            "Epoch 35/50\n",
            "32/32 [==============================] - 3s 104ms/step - loss: 0.2021 - accuracy: 0.9043 - val_loss: 0.2168 - val_accuracy: 0.9448\n",
            "Epoch 36/50\n",
            "32/32 [==============================] - 3s 104ms/step - loss: 0.1414 - accuracy: 0.9501 - val_loss: 0.2384 - val_accuracy: 0.9080\n",
            "Epoch 37/50\n",
            "32/32 [==============================] - 3s 103ms/step - loss: 0.1811 - accuracy: 0.9202 - val_loss: 0.1905 - val_accuracy: 0.9264\n",
            "Epoch 38/50\n",
            "32/32 [==============================] - 3s 104ms/step - loss: 0.1780 - accuracy: 0.9182 - val_loss: 0.1809 - val_accuracy: 0.9387\n",
            "Epoch 39/50\n",
            "32/32 [==============================] - 3s 104ms/step - loss: 0.2377 - accuracy: 0.9062 - val_loss: 0.2280 - val_accuracy: 0.9148\n",
            "Epoch 40/50\n",
            "32/32 [==============================] - 3s 104ms/step - loss: 0.1489 - accuracy: 0.9441 - val_loss: 0.2309 - val_accuracy: 0.9261\n",
            "Epoch 41/50\n",
            "32/32 [==============================] - 3s 103ms/step - loss: 0.1272 - accuracy: 0.9561 - val_loss: 0.2053 - val_accuracy: 0.9202\n",
            "Epoch 42/50\n",
            "32/32 [==============================] - 3s 103ms/step - loss: 0.1232 - accuracy: 0.9601 - val_loss: 0.4558 - val_accuracy: 0.8344\n",
            "Epoch 43/50\n",
            "32/32 [==============================] - 3s 103ms/step - loss: 0.1646 - accuracy: 0.9321 - val_loss: 0.2175 - val_accuracy: 0.9080\n",
            "Epoch 44/50\n",
            "32/32 [==============================] - 3s 104ms/step - loss: 0.1407 - accuracy: 0.9421 - val_loss: 0.4209 - val_accuracy: 0.8957\n",
            "Epoch 45/50\n",
            "32/32 [==============================] - 3s 103ms/step - loss: 0.1215 - accuracy: 0.9561 - val_loss: 0.3339 - val_accuracy: 0.8282\n",
            "Epoch 46/50\n",
            "32/32 [==============================] - 3s 104ms/step - loss: 0.2768 - accuracy: 0.9202 - val_loss: 0.2004 - val_accuracy: 0.9202\n",
            "Epoch 47/50\n",
            "32/32 [==============================] - 3s 103ms/step - loss: 0.2076 - accuracy: 0.9142 - val_loss: 0.2970 - val_accuracy: 0.8712\n",
            "Epoch 48/50\n",
            "32/32 [==============================] - 3s 103ms/step - loss: 0.1198 - accuracy: 0.9621 - val_loss: 0.2280 - val_accuracy: 0.9141\n",
            "Epoch 49/50\n",
            "32/32 [==============================] - 3s 104ms/step - loss: 0.1238 - accuracy: 0.9561 - val_loss: 0.1848 - val_accuracy: 0.9387\n",
            "Epoch 50/50\n",
            "32/32 [==============================] - 3s 104ms/step - loss: 0.1176 - accuracy: 0.9601 - val_loss: 0.1623 - val_accuracy: 0.9264\n"
          ],
          "name": "stdout"
        }
      ]
    },
    {
      "cell_type": "markdown",
      "metadata": {
        "id": "3f6sg5MeZyvo",
        "colab_type": "text"
      },
      "source": [
        "# Custom CNN Model\n",
        "\n",
        "In this step, write and train your own convolutional neural network using Keras. You can use any architecture that suits you as long as it has at least one convolutional and one pooling layer at the beginning of the network - you can add more if you want. "
      ]
    },
    {
      "cell_type": "code",
      "metadata": {
        "id": "uDPjOk6sZyvp",
        "colab_type": "code",
        "colab": {
          "base_uri": "https://localhost:8080/",
          "height": 420
        },
        "outputId": "1fe65d45-3efb-43bc-8f0e-37856cefe0a9"
      },
      "source": [
        "model = Sequential([\n",
        "    Conv2D(32, (3, 3), activation='relu', input_shape=(224, 224, 3)),\n",
        "    MaxPooling2D((3, 3)),\n",
        "    Conv2D(64, (3, 3), activation='relu'),\n",
        "    MaxPooling2D((3, 3)),\n",
        "    Conv2D(64, (3, 3), activation='relu'),\n",
        "    Flatten(),\n",
        "    Dense(1024, activation='relu'),\n",
        "    Dense(1, activation='hard_sigmoid')\n",
        "])\n",
        "\n",
        "model.summary()"
      ],
      "execution_count": 50,
      "outputs": [
        {
          "output_type": "stream",
          "text": [
            "Model: \"sequential_29\"\n",
            "_________________________________________________________________\n",
            "Layer (type)                 Output Shape              Param #   \n",
            "=================================================================\n",
            "conv2d_117 (Conv2D)          (None, 222, 222, 32)      896       \n",
            "_________________________________________________________________\n",
            "max_pooling2d_89 (MaxPooling (None, 74, 74, 32)        0         \n",
            "_________________________________________________________________\n",
            "conv2d_118 (Conv2D)          (None, 72, 72, 64)        18496     \n",
            "_________________________________________________________________\n",
            "max_pooling2d_90 (MaxPooling (None, 24, 24, 64)        0         \n",
            "_________________________________________________________________\n",
            "conv2d_119 (Conv2D)          (None, 22, 22, 64)        36928     \n",
            "_________________________________________________________________\n",
            "flatten_28 (Flatten)         (None, 30976)             0         \n",
            "_________________________________________________________________\n",
            "dense_60 (Dense)             (None, 1024)              31720448  \n",
            "_________________________________________________________________\n",
            "dense_61 (Dense)             (None, 1)                 1025      \n",
            "=================================================================\n",
            "Total params: 31,777,793\n",
            "Trainable params: 31,777,793\n",
            "Non-trainable params: 0\n",
            "_________________________________________________________________\n"
          ],
          "name": "stdout"
        }
      ]
    },
    {
      "cell_type": "code",
      "metadata": {
        "id": "3O5QHKVtZyvt",
        "colab_type": "code",
        "colab": {}
      },
      "source": [
        "# Compile Model\n",
        "model.compile(optimizer='nadam', loss='sparse_categorical_crossentropy', metrics=['accuracy'])"
      ],
      "execution_count": 0,
      "outputs": []
    },
    {
      "cell_type": "code",
      "metadata": {
        "id": "DdDPqgAO2hbG",
        "colab_type": "code",
        "colab": {}
      },
      "source": [
        "batch_size = 8"
      ],
      "execution_count": 0,
      "outputs": []
    },
    {
      "cell_type": "code",
      "metadata": {
        "id": "FIUp-R-pZyvx",
        "colab_type": "code",
        "colab": {
          "base_uri": "https://localhost:8080/",
          "height": 1000
        },
        "outputId": "cded829b-3c76-4008-8f01-cfb563bf632c"
      },
      "source": [
        "# Fit Model\n",
        "history = model.fit(\n",
        "    train_data_gen,\n",
        "    steps_per_epoch=total_train // batch_size,\n",
        "    epochs=epochs,\n",
        "    validation_data=val_data_gen,\n",
        "    validation_steps=total_val // batch_size\n",
        ")"
      ],
      "execution_count": 56,
      "outputs": [
        {
          "output_type": "stream",
          "text": [
            "Epoch 1/50\n",
            "65/65 [==============================] - 5s 79ms/step - loss: nan - accuracy: 0.5138 - val_loss: nan - val_accuracy: 0.3509\n",
            "Epoch 2/50\n",
            "65/65 [==============================] - 5s 78ms/step - loss: nan - accuracy: 0.5206 - val_loss: nan - val_accuracy: 0.3216\n",
            "Epoch 3/50\n",
            "65/65 [==============================] - 5s 77ms/step - loss: nan - accuracy: 0.5167 - val_loss: nan - val_accuracy: 0.3567\n",
            "Epoch 4/50\n",
            "65/65 [==============================] - 5s 78ms/step - loss: nan - accuracy: 0.5102 - val_loss: nan - val_accuracy: 0.3421\n",
            "Epoch 5/50\n",
            "65/65 [==============================] - 5s 77ms/step - loss: nan - accuracy: 0.5167 - val_loss: nan - val_accuracy: 0.3437\n",
            "Epoch 6/50\n",
            "65/65 [==============================] - 5s 77ms/step - loss: nan - accuracy: 0.5147 - val_loss: nan - val_accuracy: 0.3521\n",
            "Epoch 7/50\n",
            "65/65 [==============================] - 5s 77ms/step - loss: nan - accuracy: 0.5216 - val_loss: nan - val_accuracy: 0.3333\n",
            "Epoch 8/50\n",
            "65/65 [==============================] - 5s 77ms/step - loss: nan - accuracy: 0.5098 - val_loss: nan - val_accuracy: 0.3421\n",
            "Epoch 9/50\n",
            "65/65 [==============================] - 5s 77ms/step - loss: nan - accuracy: 0.5138 - val_loss: nan - val_accuracy: 0.3480\n",
            "Epoch 10/50\n",
            "65/65 [==============================] - 5s 76ms/step - loss: nan - accuracy: 0.5246 - val_loss: nan - val_accuracy: 0.3421\n",
            "Epoch 11/50\n",
            "65/65 [==============================] - 5s 76ms/step - loss: nan - accuracy: 0.5029 - val_loss: nan - val_accuracy: 0.3450\n",
            "Epoch 12/50\n",
            "65/65 [==============================] - 5s 78ms/step - loss: nan - accuracy: 0.5206 - val_loss: nan - val_accuracy: 0.3493\n",
            "Epoch 13/50\n",
            "65/65 [==============================] - 5s 77ms/step - loss: nan - accuracy: 0.5206 - val_loss: nan - val_accuracy: 0.3392\n",
            "Epoch 14/50\n",
            "65/65 [==============================] - 5s 78ms/step - loss: nan - accuracy: 0.5167 - val_loss: nan - val_accuracy: 0.3392\n",
            "Epoch 15/50\n",
            "65/65 [==============================] - 5s 77ms/step - loss: nan - accuracy: 0.5147 - val_loss: nan - val_accuracy: 0.3333\n",
            "Epoch 16/50\n",
            "65/65 [==============================] - 5s 77ms/step - loss: nan - accuracy: 0.5131 - val_loss: nan - val_accuracy: 0.3626\n",
            "Epoch 17/50\n",
            "65/65 [==============================] - 5s 76ms/step - loss: nan - accuracy: 0.5187 - val_loss: nan - val_accuracy: 0.3538\n",
            "Epoch 18/50\n",
            "65/65 [==============================] - 5s 77ms/step - loss: nan - accuracy: 0.5206 - val_loss: nan - val_accuracy: 0.3324\n",
            "Epoch 19/50\n",
            "65/65 [==============================] - 5s 78ms/step - loss: nan - accuracy: 0.5167 - val_loss: nan - val_accuracy: 0.3408\n",
            "Epoch 20/50\n",
            "65/65 [==============================] - 5s 77ms/step - loss: nan - accuracy: 0.5029 - val_loss: nan - val_accuracy: 0.3743\n",
            "Epoch 21/50\n",
            "65/65 [==============================] - 5s 77ms/step - loss: nan - accuracy: 0.5314 - val_loss: nan - val_accuracy: 0.3246\n",
            "Epoch 22/50\n",
            "65/65 [==============================] - 5s 77ms/step - loss: nan - accuracy: 0.4980 - val_loss: nan - val_accuracy: 0.3187\n",
            "Epoch 23/50\n",
            "65/65 [==============================] - 5s 76ms/step - loss: nan - accuracy: 0.5275 - val_loss: nan - val_accuracy: 0.3626\n",
            "Epoch 24/50\n",
            "65/65 [==============================] - 5s 77ms/step - loss: nan - accuracy: 0.5177 - val_loss: nan - val_accuracy: 0.3363\n",
            "Epoch 25/50\n",
            "65/65 [==============================] - 5s 78ms/step - loss: nan - accuracy: 0.5118 - val_loss: nan - val_accuracy: 0.3465\n",
            "Epoch 26/50\n",
            "65/65 [==============================] - 5s 77ms/step - loss: nan - accuracy: 0.5177 - val_loss: nan - val_accuracy: 0.3392\n",
            "Epoch 27/50\n",
            "65/65 [==============================] - 5s 77ms/step - loss: nan - accuracy: 0.5151 - val_loss: nan - val_accuracy: 0.3363\n",
            "Epoch 28/50\n",
            "65/65 [==============================] - 5s 77ms/step - loss: nan - accuracy: 0.5138 - val_loss: nan - val_accuracy: 0.3684\n",
            "Epoch 29/50\n",
            "65/65 [==============================] - 5s 77ms/step - loss: nan - accuracy: 0.5167 - val_loss: nan - val_accuracy: 0.3333\n",
            "Epoch 30/50\n",
            "65/65 [==============================] - 5s 77ms/step - loss: nan - accuracy: 0.5246 - val_loss: nan - val_accuracy: 0.3333\n",
            "Epoch 31/50\n",
            "65/65 [==============================] - 5s 77ms/step - loss: nan - accuracy: 0.5098 - val_loss: nan - val_accuracy: 0.3577\n",
            "Epoch 32/50\n",
            "65/65 [==============================] - 5s 78ms/step - loss: nan - accuracy: 0.5167 - val_loss: nan - val_accuracy: 0.3549\n",
            "Epoch 33/50\n",
            "65/65 [==============================] - 5s 77ms/step - loss: nan - accuracy: 0.5108 - val_loss: nan - val_accuracy: 0.3070\n",
            "Epoch 34/50\n",
            "65/65 [==============================] - 5s 78ms/step - loss: nan - accuracy: 0.5167 - val_loss: nan - val_accuracy: 0.3626\n",
            "Epoch 35/50\n",
            "65/65 [==============================] - 5s 77ms/step - loss: nan - accuracy: 0.5206 - val_loss: nan - val_accuracy: 0.3392\n",
            "Epoch 36/50\n",
            "65/65 [==============================] - 5s 77ms/step - loss: nan - accuracy: 0.5108 - val_loss: nan - val_accuracy: 0.3333\n",
            "Epoch 37/50\n",
            "65/65 [==============================] - 5s 78ms/step - loss: nan - accuracy: 0.5187 - val_loss: nan - val_accuracy: 0.3538\n",
            "Epoch 38/50\n",
            "65/65 [==============================] - 5s 81ms/step - loss: nan - accuracy: 0.5170 - val_loss: nan - val_accuracy: 0.3324\n",
            "Epoch 39/50\n",
            "65/65 [==============================] - 5s 77ms/step - loss: nan - accuracy: 0.5108 - val_loss: nan - val_accuracy: 0.3480\n",
            "Epoch 40/50\n",
            "65/65 [==============================] - 5s 77ms/step - loss: nan - accuracy: 0.5196 - val_loss: nan - val_accuracy: 0.3333\n",
            "Epoch 41/50\n",
            "65/65 [==============================] - 5s 77ms/step - loss: nan - accuracy: 0.5088 - val_loss: nan - val_accuracy: 0.3099\n",
            "Epoch 42/50\n",
            "65/65 [==============================] - 5s 77ms/step - loss: nan - accuracy: 0.5246 - val_loss: nan - val_accuracy: 0.3743\n",
            "Epoch 43/50\n",
            "65/65 [==============================] - 5s 77ms/step - loss: nan - accuracy: 0.5216 - val_loss: nan - val_accuracy: 0.3509\n",
            "Epoch 44/50\n",
            "65/65 [==============================] - 5s 77ms/step - loss: nan - accuracy: 0.5128 - val_loss: nan - val_accuracy: 0.3352\n",
            "Epoch 45/50\n",
            "65/65 [==============================] - 5s 78ms/step - loss: nan - accuracy: 0.5265 - val_loss: nan - val_accuracy: 0.3521\n",
            "Epoch 46/50\n",
            "65/65 [==============================] - 5s 77ms/step - loss: nan - accuracy: 0.5039 - val_loss: nan - val_accuracy: 0.3596\n",
            "Epoch 47/50\n",
            "65/65 [==============================] - 5s 77ms/step - loss: nan - accuracy: 0.5138 - val_loss: nan - val_accuracy: 0.3070\n",
            "Epoch 48/50\n",
            "65/65 [==============================] - 5s 77ms/step - loss: nan - accuracy: 0.5098 - val_loss: nan - val_accuracy: 0.3743\n",
            "Epoch 49/50\n",
            "65/65 [==============================] - 5s 77ms/step - loss: nan - accuracy: 0.5226 - val_loss: nan - val_accuracy: 0.3392\n",
            "Epoch 50/50\n",
            "65/65 [==============================] - 5s 77ms/step - loss: nan - accuracy: 0.5190 - val_loss: nan - val_accuracy: 0.3363\n"
          ],
          "name": "stdout"
        }
      ]
    },
    {
      "cell_type": "markdown",
      "metadata": {
        "id": "bfQXS4UpZyv0",
        "colab_type": "text"
      },
      "source": [
        "# Custom CNN Model with Image Manipulations\n",
        "\n",
        "To simulate an increase in a sample of image, you can apply image manipulation techniques: cropping, rotation, stretching, etc. Luckily Keras has some handy functions for us to apply these techniques to our mountain and forest example. Simply, you should be able to modify our image generator for the problem. Check out these resources to help you get started: \n",
        "\n",
        "1. [Keras `ImageGenerator` Class](https://keras.io/preprocessing/image/#imagedatagenerator-class)\n",
        "2. [Building a powerful image classifier with very little data](https://blog.keras.io/building-powerful-image-classification-models-using-very-little-data.html)\n",
        " "
      ]
    },
    {
      "cell_type": "code",
      "metadata": {
        "id": "6qaZYLMBZyv1",
        "colab_type": "code",
        "colab": {}
      },
      "source": [
        "# State Code for Image Manipulation Here"
      ],
      "execution_count": 0,
      "outputs": []
    },
    {
      "cell_type": "markdown",
      "metadata": {
        "colab_type": "text",
        "id": "uT3UV3gap9H6"
      },
      "source": [
        "# Resources and Stretch Goals\n",
        "\n",
        "Stretch goals\n",
        "- Enhance your code to use classes/functions and accept terms to search and classes to look for in recognizing the downloaded images (e.g. download images of parties, recognize all that contain balloons)\n",
        "- Check out [other available pretrained networks](https://tfhub.dev), try some and compare\n",
        "- Image recognition/classification is somewhat solved, but *relationships* between entities and describing an image is not - check out some of the extended resources (e.g. [Visual Genome](https://visualgenome.org/)) on the topic\n",
        "- Transfer learning - using images you source yourself, [retrain a classifier](https://www.tensorflow.org/hub/tutorials/image_retraining) with a new category\n",
        "- (Not CNN related) Use [piexif](https://pypi.org/project/piexif/) to check out the metadata of images passed in to your system - see if they're from a national park! (Note - many images lack GPS metadata, so this won't work in most cases, but still cool)\n",
        "\n",
        "Resources\n",
        "- [Deep Residual Learning for Image Recognition](https://arxiv.org/abs/1512.03385) - influential paper (introduced ResNet)\n",
        "- [YOLO: Real-Time Object Detection](https://pjreddie.com/darknet/yolo/) - an influential convolution based object detection system, focused on inference speed (for applications to e.g. self driving vehicles)\n",
        "- [R-CNN, Fast R-CNN, Faster R-CNN, YOLO](https://towardsdatascience.com/r-cnn-fast-r-cnn-faster-r-cnn-yolo-object-detection-algorithms-36d53571365e) - comparison of object detection systems\n",
        "- [Common Objects in Context](http://cocodataset.org/) - a large-scale object detection, segmentation, and captioning dataset\n",
        "- [Visual Genome](https://visualgenome.org/) - a dataset, a knowledge base, an ongoing effort to connect structured image concepts to language"
      ]
    }
  ]
}