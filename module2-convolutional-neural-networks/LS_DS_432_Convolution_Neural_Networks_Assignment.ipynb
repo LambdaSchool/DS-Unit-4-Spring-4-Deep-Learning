{
  "nbformat": 4,
  "nbformat_minor": 0,
  "metadata": {
    "kernelspec": {
      "name": "python3",
      "display_name": "Python 3"
    },
    "nteract": {
      "version": "0.23.1"
    },
    "colab": {
      "name": "LS_DS_432_Convolution_Neural_Networks_Assignment.ipynb",
      "provenance": []
    },
    "accelerator": "GPU"
  },
  "cells": [
    {
      "cell_type": "markdown",
      "metadata": {
        "id": "inMVH1Pj5S-B",
        "colab_type": "text"
      },
      "source": [
        "<img align=\"left\" src=\"https://lever-client-logos.s3.amazonaws.com/864372b1-534c-480e-acd5-9711f850815c-1524247202159.png\" width=200>\n",
        "<br></br>\n",
        "<br></br>\n",
        "\n",
        "## *Data Science Unit 4 Sprint 3 Assignment 2*\n",
        "# Convolutional Neural Networks (CNNs)"
      ]
    },
    {
      "cell_type": "markdown",
      "metadata": {
        "colab_type": "text",
        "id": "0lfZdD_cp1t5"
      },
      "source": [
        "# Assignment\n",
        "\n",
        "- <a href=\"#p1\">Part 1:</a> Pre-Trained Model\n",
        "- <a href=\"#p2\">Part 2:</a> Custom CNN Model\n",
        "- <a href=\"#p3\">Part 3:</a> CNN with Data Augmentation\n",
        "\n",
        "\n",
        "You will apply three different CNN models to a binary image classification model using Keras. Classify images of Mountains (`./data/train/mountain/*`) and images of forests (`./data/train/forest/*`). Treat mountains as the positive class (1) and the forest images as the negative (zero). \n",
        "\n",
        "|Mountain (+)|Forest (-)|\n",
        "|---|---|\n",
        "|![](https://github.com/jessicakimbril/DS-Unit-4-Sprint-3-Deep-Learning/blob/master/module2-convolutional-neural-networks/data/train/mountain/art1131.jpg?raw=1)|![](https://github.com/jessicakimbril/DS-Unit-4-Sprint-3-Deep-Learning/blob/master/module2-convolutional-neural-networks/data/validation/forest/cdmc317.jpg?raw=1)|\n",
        "\n",
        "The problem is relatively difficult given that the sample is tiny: there are about 350 observations per class. This sample size might be something that you can expect with prototyping an image classification problem/solution at work. Get accustomed to evaluating several different possible models."
      ]
    },
    {
      "cell_type": "markdown",
      "metadata": {
        "colab_type": "text",
        "id": "LU0dymzj5S-E"
      },
      "source": [
        "# Pre - Trained Model\n",
        "<a id=\"p1\"></a>\n",
        "\n",
        "Load a pretrained network from Keras, [ResNet50](https://tfhub.dev/google/imagenet/resnet_v1_50/classification/1) - a 50 layer deep network trained to recognize [1000 objects](https://storage.googleapis.com/download.tensorflow.org/data/ImageNetLabels.txt). Starting usage:\n",
        "\n",
        "```python\n",
        "import numpy as np\n",
        "\n",
        "from tensorflow.keras.applications.resnet50 import ResNet50\n",
        "from tensorflow.keras.preprocessing import image\n",
        "from tensorflow.keras.applications.resnet50 import preprocess_input, decode_predictions\n",
        "\n",
        "from tensorflow.keras.layers import Dense, GlobalAveragePooling2D\n",
        "from tensorflow.keras.models import Model # This is the functional API\n",
        "\n",
        "resnet = ResNet50(weights='imagenet', include_top=False)\n",
        "\n",
        "```\n",
        "\n",
        "The `include_top` parameter in `ResNet50` will remove the full connected layers from the ResNet model. The next step is to turn off the training of the ResNet layers. We want to use the learned parameters without updating them in future training passes. \n",
        "\n",
        "```python\n",
        "for layer in resnet.layers:\n",
        "    layer.trainable = False\n",
        "```\n",
        "\n",
        "Using the Keras functional API, we will need to additional additional full connected layers to our model. We we removed the top layers, we removed all preivous fully connected layers. In other words, we kept only the feature processing portions of our network. You can expert with additional layers beyond what's listed here. The `GlobalAveragePooling2D` layer functions as a really fancy flatten function by taking the average of each of the last convolutional layer outputs (which is two dimensional still). \n",
        "\n",
        "```python\n",
        "x = resnet.output\n",
        "x = GlobalAveragePooling2D()(x) # This layer is a really fancy flatten\n",
        "x = Dense(1024, activation='relu')(x)\n",
        "predictions = Dense(1, activation='sigmoid')(x)\n",
        "model = Model(resnet.input, predictions)\n",
        "```\n",
        "\n",
        "Your assignment is to apply the transfer learning above to classify images of Mountains (`./data/train/mountain/*`) and images of forests (`./data/train/forest/*`). Treat mountains as the positive class (1) and the forest images as the negative (zero). \n",
        "\n",
        "Steps to complete assignment: \n",
        "1. Load in Image Data into numpy arrays (`X`) \n",
        "2. Create a `y` for the labels\n",
        "3. Train your model with pre-trained layers from resnet\n",
        "4. Report your model's accuracy"
      ]
    },
    {
      "cell_type": "markdown",
      "metadata": {
        "id": "-GHeEOnz5S-F",
        "colab_type": "text"
      },
      "source": [
        "## Load in Data\n",
        "\n",
        "This surprisingly more difficult than it seems, because you are working with directories of images instead of a single file. This boiler plate will help you download a zipped version of the directory of images. The directory is organized into \"train\" and \"validation\" which you can use inside an `ImageGenerator` class to stream batches of images thru your model.  \n"
      ]
    },
    {
      "cell_type": "markdown",
      "metadata": {
        "id": "jOjAUYr55S-G",
        "colab_type": "text"
      },
      "source": [
        "### Download & Summarize the Data\n",
        "\n",
        "This step is completed for you. Just run the cells and review the results. "
      ]
    },
    {
      "cell_type": "code",
      "metadata": {
        "id": "tILpN50y5S-H",
        "colab_type": "code",
        "colab": {
          "base_uri": "https://localhost:8080/",
          "height": 50
        },
        "outputId": "164e6cfe-e252-48e1-a24b-3475307420ec"
      },
      "source": [
        "import tensorflow as tf\n",
        "import os\n",
        "\n",
        "_URL = 'https://github.com/LambdaSchool/DS-Unit-4-Sprint-3-Deep-Learning/blob/master/module2-convolutional-neural-networks/data.zip?raw=true'\n",
        "\n",
        "path_to_zip = tf.keras.utils.get_file('./data.zip', origin=_URL, extract=True)\n",
        "PATH = os.path.join(os.path.dirname(path_to_zip), 'data')"
      ],
      "execution_count": 1,
      "outputs": [
        {
          "output_type": "stream",
          "text": [
            "Downloading data from https://github.com/LambdaSchool/DS-Unit-4-Sprint-3-Deep-Learning/blob/master/module2-convolutional-neural-networks/data.zip?raw=true\n",
            "42172416/42170838 [==============================] - 0s 0us/step\n"
          ],
          "name": "stdout"
        }
      ]
    },
    {
      "cell_type": "code",
      "metadata": {
        "id": "uZzSJTyc5S-N",
        "colab_type": "code",
        "colab": {}
      },
      "source": [
        "train_dir = os.path.join(PATH, 'train')\n",
        "validation_dir = os.path.join(PATH, 'validation')"
      ],
      "execution_count": 0,
      "outputs": []
    },
    {
      "cell_type": "code",
      "metadata": {
        "id": "fS-fRNl-5S-a",
        "colab_type": "code",
        "colab": {}
      },
      "source": [
        "train_mountain_dir = os.path.join(train_dir, 'mountain')  # directory with our training cat pictures\n",
        "train_forest_dir = os.path.join(train_dir, 'forest')  # directory with our training dog pictures\n",
        "validation_mountain_dir = os.path.join(validation_dir, 'mountain')  # directory with our validation cat pictures\n",
        "validation_forest_dir = os.path.join(validation_dir, 'forest')  # directory with our validation dog pictures"
      ],
      "execution_count": 0,
      "outputs": []
    },
    {
      "cell_type": "code",
      "metadata": {
        "id": "_x1Xtuvy5S-f",
        "colab_type": "code",
        "colab": {}
      },
      "source": [
        "num_mountain_tr = len(os.listdir(train_mountain_dir))\n",
        "num_forest_tr = len(os.listdir(train_forest_dir))\n",
        "\n",
        "num_mountain_val = len(os.listdir(validation_mountain_dir))\n",
        "num_forest_val = len(os.listdir(validation_forest_dir))\n",
        "\n",
        "total_train = num_mountain_tr + num_forest_tr\n",
        "total_val = num_mountain_val + num_forest_val"
      ],
      "execution_count": 0,
      "outputs": []
    },
    {
      "cell_type": "code",
      "metadata": {
        "id": "rJLyfEKR5S-8",
        "colab_type": "code",
        "colab": {
          "base_uri": "https://localhost:8080/",
          "height": 134
        },
        "outputId": "a613b29d-14fe-4e07-ef75-a53040fe52e9"
      },
      "source": [
        "print('total training mountain images:', num_mountain_tr)\n",
        "print('total training forest images:', num_forest_tr)\n",
        "\n",
        "print('total validation mountain images:', num_mountain_val)\n",
        "print('total validation forest images:', num_forest_val)\n",
        "print(\"--\")\n",
        "print(\"Total training images:\", total_train)\n",
        "print(\"Total validation images:\", total_val)"
      ],
      "execution_count": 5,
      "outputs": [
        {
          "output_type": "stream",
          "text": [
            "total training mountain images: 254\n",
            "total training forest images: 270\n",
            "total validation mountain images: 125\n",
            "total validation forest images: 62\n",
            "--\n",
            "Total training images: 524\n",
            "Total validation images: 187\n"
          ],
          "name": "stdout"
        }
      ]
    },
    {
      "cell_type": "markdown",
      "metadata": {
        "id": "1hkL5D935S_A",
        "colab_type": "text"
      },
      "source": [
        "### Keras `ImageGenerator` to Process the Data\n",
        "\n",
        "This step is completed for you, but please review the code. The `ImageGenerator` class reads in batches of data from a directory and pass them to the model one batch at a time. Just like large text files, this method is advantageous, because it stifles the need to load a bunch of images into memory. \n",
        "\n",
        "Check out the documentation for this class method: [Keras `ImageGenerator` Class](https://keras.io/preprocessing/image/#imagedatagenerator-class). You'll expand it's use in the third assignment objective."
      ]
    },
    {
      "cell_type": "code",
      "metadata": {
        "id": "rKR2mvMd5S_B",
        "colab_type": "code",
        "colab": {}
      },
      "source": [
        "batch_size = 16\n",
        "epochs = 50\n",
        "IMG_HEIGHT = 224\n",
        "IMG_WIDTH = 224"
      ],
      "execution_count": 0,
      "outputs": []
    },
    {
      "cell_type": "code",
      "metadata": {
        "id": "a_SguJD95S_H",
        "colab_type": "code",
        "colab": {}
      },
      "source": [
        "from tensorflow.keras.preprocessing.image import ImageDataGenerator\n",
        "\n",
        "train_image_generator = ImageDataGenerator(rescale=1./255) # Generator for our training data\n",
        "validation_image_generator = ImageDataGenerator(rescale=1./255) # Generator for our validation data"
      ],
      "execution_count": 0,
      "outputs": []
    },
    {
      "cell_type": "code",
      "metadata": {
        "id": "EgBq69KH5S_M",
        "colab_type": "code",
        "colab": {
          "base_uri": "https://localhost:8080/",
          "height": 34
        },
        "outputId": "9b32addc-e2e6-4924-8005-ff93aa4f4434"
      },
      "source": [
        "train_data_gen = train_image_generator.flow_from_directory(batch_size=batch_size,\n",
        "                                                           directory=train_dir,\n",
        "                                                           shuffle=True,\n",
        "                                                           target_size=(IMG_HEIGHT, IMG_WIDTH),\n",
        "                                                           class_mode='binary')"
      ],
      "execution_count": 8,
      "outputs": [
        {
          "output_type": "stream",
          "text": [
            "Found 533 images belonging to 2 classes.\n"
          ],
          "name": "stdout"
        }
      ]
    },
    {
      "cell_type": "code",
      "metadata": {
        "id": "3MgGBmwl5S_Q",
        "colab_type": "code",
        "colab": {
          "base_uri": "https://localhost:8080/",
          "height": 34
        },
        "outputId": "7cec5ffe-ee8e-467d-9810-a86a26e1d1e1"
      },
      "source": [
        "val_data_gen = validation_image_generator.flow_from_directory(batch_size=batch_size,\n",
        "                                                              directory=validation_dir,\n",
        "                                                              target_size=(IMG_HEIGHT, IMG_WIDTH),\n",
        "                                                              class_mode='binary')"
      ],
      "execution_count": 9,
      "outputs": [
        {
          "output_type": "stream",
          "text": [
            "Found 195 images belonging to 2 classes.\n"
          ],
          "name": "stdout"
        }
      ]
    },
    {
      "cell_type": "markdown",
      "metadata": {
        "id": "osYCyC5I5S_i",
        "colab_type": "text"
      },
      "source": [
        "## Instatiate Model"
      ]
    },
    {
      "cell_type": "code",
      "metadata": {
        "id": "U1sut0os5S_i",
        "colab_type": "code",
        "colab": {
          "base_uri": "https://localhost:8080/",
          "height": 420
        },
        "outputId": "32ae31d6-fe11-428d-a501-6175149d42ec"
      },
      "source": [
        "# Imports\n",
        "from tensorflow.keras.models import Sequential, Model\n",
        "from tensorflow.keras.layers import Dense, Conv2D, MaxPooling2D, Flatten\n",
        "\n",
        "# Instantiate the model\n",
        "model = Sequential()\n",
        "model.add(Conv2D(32, (3,3), activation='relu', input_shape=(224,224,3)))\n",
        "model.add(MaxPooling2D((2,2)))\n",
        "model.add(Conv2D(64, (3,3), activation='relu'))\n",
        "model.add(MaxPooling2D((2,2)))\n",
        "model.add(Conv2D(64, (3,3), activation='relu'))\n",
        "model.add(Flatten())\n",
        "model.add(Dense(64, activation='relu'))\n",
        "model.add(Dense(10, activation='softmax'))\n",
        "\n",
        "model.summary()"
      ],
      "execution_count": 10,
      "outputs": [
        {
          "output_type": "stream",
          "text": [
            "Model: \"sequential\"\n",
            "_________________________________________________________________\n",
            "Layer (type)                 Output Shape              Param #   \n",
            "=================================================================\n",
            "conv2d (Conv2D)              (None, 222, 222, 32)      896       \n",
            "_________________________________________________________________\n",
            "max_pooling2d (MaxPooling2D) (None, 111, 111, 32)      0         \n",
            "_________________________________________________________________\n",
            "conv2d_1 (Conv2D)            (None, 109, 109, 64)      18496     \n",
            "_________________________________________________________________\n",
            "max_pooling2d_1 (MaxPooling2 (None, 54, 54, 64)        0         \n",
            "_________________________________________________________________\n",
            "conv2d_2 (Conv2D)            (None, 52, 52, 64)        36928     \n",
            "_________________________________________________________________\n",
            "flatten (Flatten)            (None, 173056)            0         \n",
            "_________________________________________________________________\n",
            "dense (Dense)                (None, 64)                11075648  \n",
            "_________________________________________________________________\n",
            "dense_1 (Dense)              (None, 10)                650       \n",
            "=================================================================\n",
            "Total params: 11,132,618\n",
            "Trainable params: 11,132,618\n",
            "Non-trainable params: 0\n",
            "_________________________________________________________________\n"
          ],
          "name": "stdout"
        }
      ]
    },
    {
      "cell_type": "code",
      "metadata": {
        "id": "knLhPR9e5cVG",
        "colab_type": "code",
        "colab": {}
      },
      "source": [
        "model.compile(optimizer='adam',\n",
        "              loss='sparse_categorical_crossentropy',\n",
        "              metrics=['accuracy'])"
      ],
      "execution_count": 0,
      "outputs": []
    },
    {
      "cell_type": "markdown",
      "metadata": {
        "id": "BMPnVE1r5S_r",
        "colab_type": "text"
      },
      "source": [
        "## Fit Model"
      ]
    },
    {
      "cell_type": "code",
      "metadata": {
        "id": "HPJyR7Qv5S_s",
        "colab_type": "code",
        "colab": {
          "base_uri": "https://localhost:8080/",
          "height": 1000
        },
        "outputId": "06eb60a3-3827-4cce-92ee-3f2b68fe7b0e"
      },
      "source": [
        "history = model.fit(\n",
        "    train_data_gen,\n",
        "    steps_per_epoch=total_train // batch_size,\n",
        "    epochs=epochs,\n",
        "    validation_data=val_data_gen,\n",
        "    validation_steps=total_val // batch_size\n",
        ")"
      ],
      "execution_count": 12,
      "outputs": [
        {
          "output_type": "stream",
          "text": [
            "Epoch 1/50\n",
            "32/32 [==============================] - 3s 92ms/step - loss: 0.6533 - accuracy: 0.7884 - val_loss: 0.2485 - val_accuracy: 0.8920\n",
            "Epoch 2/50\n",
            "32/32 [==============================] - 3s 79ms/step - loss: 0.2417 - accuracy: 0.9062 - val_loss: 0.2939 - val_accuracy: 0.8693\n",
            "Epoch 3/50\n",
            "32/32 [==============================] - 3s 78ms/step - loss: 0.1498 - accuracy: 0.9361 - val_loss: 0.2441 - val_accuracy: 0.8750\n",
            "Epoch 4/50\n",
            "32/32 [==============================] - 3s 79ms/step - loss: 0.1033 - accuracy: 0.9581 - val_loss: 0.2752 - val_accuracy: 0.8920\n",
            "Epoch 5/50\n",
            "32/32 [==============================] - 3s 78ms/step - loss: 0.1157 - accuracy: 0.9401 - val_loss: 0.1459 - val_accuracy: 0.9489\n",
            "Epoch 6/50\n",
            "32/32 [==============================] - 3s 79ms/step - loss: 0.0928 - accuracy: 0.9641 - val_loss: 0.2054 - val_accuracy: 0.9318\n",
            "Epoch 7/50\n",
            "32/32 [==============================] - 3s 78ms/step - loss: 0.0933 - accuracy: 0.9661 - val_loss: 0.4551 - val_accuracy: 0.8523\n",
            "Epoch 8/50\n",
            "32/32 [==============================] - 3s 78ms/step - loss: 0.0741 - accuracy: 0.9701 - val_loss: 0.2462 - val_accuracy: 0.9318\n",
            "Epoch 9/50\n",
            "32/32 [==============================] - 2s 77ms/step - loss: 0.1411 - accuracy: 0.9570 - val_loss: 0.2603 - val_accuracy: 0.8750\n",
            "Epoch 10/50\n",
            "32/32 [==============================] - 2s 77ms/step - loss: 0.0555 - accuracy: 0.9780 - val_loss: 0.1834 - val_accuracy: 0.9148\n",
            "Epoch 11/50\n",
            "32/32 [==============================] - 2s 78ms/step - loss: 0.0578 - accuracy: 0.9785 - val_loss: 0.2265 - val_accuracy: 0.9205\n",
            "Epoch 12/50\n",
            "32/32 [==============================] - 2s 78ms/step - loss: 0.0493 - accuracy: 0.9820 - val_loss: 0.2382 - val_accuracy: 0.9205\n",
            "Epoch 13/50\n",
            "32/32 [==============================] - 3s 79ms/step - loss: 0.0523 - accuracy: 0.9820 - val_loss: 0.7748 - val_accuracy: 0.8068\n",
            "Epoch 14/50\n",
            "32/32 [==============================] - 3s 80ms/step - loss: 0.0346 - accuracy: 0.9900 - val_loss: 0.1409 - val_accuracy: 0.9432\n",
            "Epoch 15/50\n",
            "32/32 [==============================] - 3s 78ms/step - loss: 0.0049 - accuracy: 1.0000 - val_loss: 0.1885 - val_accuracy: 0.9489\n",
            "Epoch 16/50\n",
            "32/32 [==============================] - 3s 79ms/step - loss: 0.0017 - accuracy: 1.0000 - val_loss: 0.4369 - val_accuracy: 0.8920\n",
            "Epoch 17/50\n",
            "32/32 [==============================] - 3s 79ms/step - loss: 0.0031 - accuracy: 1.0000 - val_loss: 0.2824 - val_accuracy: 0.9318\n",
            "Epoch 18/50\n",
            "32/32 [==============================] - 3s 80ms/step - loss: 0.0035 - accuracy: 1.0000 - val_loss: 0.3385 - val_accuracy: 0.9148\n",
            "Epoch 19/50\n",
            "32/32 [==============================] - 3s 79ms/step - loss: 0.0012 - accuracy: 1.0000 - val_loss: 0.3735 - val_accuracy: 0.9091\n",
            "Epoch 20/50\n",
            "32/32 [==============================] - 2s 76ms/step - loss: 7.4499e-04 - accuracy: 1.0000 - val_loss: 0.3067 - val_accuracy: 0.9261\n",
            "Epoch 21/50\n",
            "32/32 [==============================] - 2s 75ms/step - loss: 4.6284e-04 - accuracy: 1.0000 - val_loss: 0.3049 - val_accuracy: 0.9375\n",
            "Epoch 22/50\n",
            "32/32 [==============================] - 2s 76ms/step - loss: 3.7418e-04 - accuracy: 1.0000 - val_loss: 0.3758 - val_accuracy: 0.9091\n",
            "Epoch 23/50\n",
            "32/32 [==============================] - 2s 75ms/step - loss: 2.4897e-04 - accuracy: 1.0000 - val_loss: 0.3940 - val_accuracy: 0.9148\n",
            "Epoch 24/50\n",
            "32/32 [==============================] - 2s 76ms/step - loss: 2.3272e-04 - accuracy: 1.0000 - val_loss: 0.3847 - val_accuracy: 0.9261\n",
            "Epoch 25/50\n",
            "32/32 [==============================] - 2s 75ms/step - loss: 1.9456e-04 - accuracy: 1.0000 - val_loss: 0.5117 - val_accuracy: 0.8977\n",
            "Epoch 26/50\n",
            "32/32 [==============================] - 2s 76ms/step - loss: 1.6063e-04 - accuracy: 1.0000 - val_loss: 0.4140 - val_accuracy: 0.9205\n",
            "Epoch 27/50\n",
            "32/32 [==============================] - 2s 76ms/step - loss: 1.4477e-04 - accuracy: 1.0000 - val_loss: 0.4329 - val_accuracy: 0.9148\n",
            "Epoch 28/50\n",
            "32/32 [==============================] - 2s 76ms/step - loss: 1.2434e-04 - accuracy: 1.0000 - val_loss: 0.5227 - val_accuracy: 0.9091\n",
            "Epoch 29/50\n",
            "32/32 [==============================] - 2s 75ms/step - loss: 1.1510e-04 - accuracy: 1.0000 - val_loss: 0.5622 - val_accuracy: 0.9034\n",
            "Epoch 30/50\n",
            "32/32 [==============================] - 2s 75ms/step - loss: 1.0094e-04 - accuracy: 1.0000 - val_loss: 0.4875 - val_accuracy: 0.9091\n",
            "Epoch 31/50\n",
            "32/32 [==============================] - 2s 75ms/step - loss: 1.0104e-04 - accuracy: 1.0000 - val_loss: 0.5322 - val_accuracy: 0.9148\n",
            "Epoch 32/50\n",
            "32/32 [==============================] - 2s 76ms/step - loss: 8.1159e-05 - accuracy: 1.0000 - val_loss: 0.5806 - val_accuracy: 0.9091\n",
            "Epoch 33/50\n",
            "32/32 [==============================] - 2s 75ms/step - loss: 7.2085e-05 - accuracy: 1.0000 - val_loss: 0.5567 - val_accuracy: 0.9034\n",
            "Epoch 34/50\n",
            "32/32 [==============================] - 2s 78ms/step - loss: 6.7074e-05 - accuracy: 1.0000 - val_loss: 0.5057 - val_accuracy: 0.9261\n",
            "Epoch 35/50\n",
            "32/32 [==============================] - 2s 77ms/step - loss: 5.7881e-05 - accuracy: 1.0000 - val_loss: 0.6027 - val_accuracy: 0.9034\n",
            "Epoch 36/50\n",
            "32/32 [==============================] - 2s 77ms/step - loss: 6.2672e-05 - accuracy: 1.0000 - val_loss: 0.5645 - val_accuracy: 0.9091\n",
            "Epoch 37/50\n",
            "32/32 [==============================] - 2s 75ms/step - loss: 5.1014e-05 - accuracy: 1.0000 - val_loss: 0.5743 - val_accuracy: 0.9148\n",
            "Epoch 38/50\n",
            "32/32 [==============================] - 2s 75ms/step - loss: 4.7587e-05 - accuracy: 1.0000 - val_loss: 0.6442 - val_accuracy: 0.8977\n",
            "Epoch 39/50\n",
            "32/32 [==============================] - 2s 76ms/step - loss: 3.9512e-05 - accuracy: 1.0000 - val_loss: 0.5568 - val_accuracy: 0.9091\n",
            "Epoch 40/50\n",
            "32/32 [==============================] - 2s 76ms/step - loss: 4.1157e-05 - accuracy: 1.0000 - val_loss: 0.6383 - val_accuracy: 0.9091\n",
            "Epoch 41/50\n",
            "32/32 [==============================] - 2s 76ms/step - loss: 3.7865e-05 - accuracy: 1.0000 - val_loss: 0.6664 - val_accuracy: 0.8977\n",
            "Epoch 42/50\n",
            "32/32 [==============================] - 2s 75ms/step - loss: 3.7001e-05 - accuracy: 1.0000 - val_loss: 0.6269 - val_accuracy: 0.9034\n",
            "Epoch 43/50\n",
            "32/32 [==============================] - 2s 76ms/step - loss: 3.1517e-05 - accuracy: 1.0000 - val_loss: 0.5757 - val_accuracy: 0.9148\n",
            "Epoch 44/50\n",
            "32/32 [==============================] - 2s 75ms/step - loss: 3.1843e-05 - accuracy: 1.0000 - val_loss: 0.5930 - val_accuracy: 0.9148\n",
            "Epoch 45/50\n",
            "32/32 [==============================] - 2s 76ms/step - loss: 2.8007e-05 - accuracy: 1.0000 - val_loss: 0.5750 - val_accuracy: 0.9091\n",
            "Epoch 46/50\n",
            "32/32 [==============================] - 2s 75ms/step - loss: 2.6310e-05 - accuracy: 1.0000 - val_loss: 0.6462 - val_accuracy: 0.9148\n",
            "Epoch 47/50\n",
            "32/32 [==============================] - 2s 77ms/step - loss: 2.3371e-05 - accuracy: 1.0000 - val_loss: 0.7124 - val_accuracy: 0.9034\n",
            "Epoch 48/50\n",
            "32/32 [==============================] - 2s 76ms/step - loss: 2.3323e-05 - accuracy: 1.0000 - val_loss: 0.6477 - val_accuracy: 0.9034\n",
            "Epoch 49/50\n",
            "32/32 [==============================] - 2s 77ms/step - loss: 2.1675e-05 - accuracy: 1.0000 - val_loss: 0.5891 - val_accuracy: 0.9091\n",
            "Epoch 50/50\n",
            "32/32 [==============================] - 2s 76ms/step - loss: 2.1059e-05 - accuracy: 1.0000 - val_loss: 0.5271 - val_accuracy: 0.9091\n"
          ],
          "name": "stdout"
        }
      ]
    },
    {
      "cell_type": "markdown",
      "metadata": {
        "id": "FMqi5Fe_5S_x",
        "colab_type": "text"
      },
      "source": [
        "# Custom CNN Model\n",
        "\n",
        "In this step, write and train your own convolutional neural network using Keras. You can use any architecture that suits you as long as it has at least one convolutional and one pooling layer at the beginning of the network - you can add more if you want. "
      ]
    },
    {
      "cell_type": "code",
      "metadata": {
        "id": "G_tMheC-5S_x",
        "colab_type": "code",
        "colab": {
          "base_uri": "https://localhost:8080/",
          "height": 554
        },
        "outputId": "96b1442e-1689-45b0-a48f-2389b0adbf55"
      },
      "source": [
        "# Define the Model\n",
        "# Instantiate the model\n",
        "model = Sequential()\n",
        "model.add(Conv2D(32, (3,3), activation='relu', input_shape=(224,224,3)))\n",
        "model.add(MaxPooling2D((2,2)))\n",
        "model.add(Conv2D(64, (3,3), activation='relu'))\n",
        "model.add(MaxPooling2D((2,2)))\n",
        "model.add(Conv2D(64, (3,3), activation='relu'))\n",
        "model.add(MaxPooling2D((2,2)))\n",
        "model.add(Conv2D(64, (3,3), activation='relu'))\n",
        "model.add(MaxPooling2D((2,2)))\n",
        "model.add(Conv2D(64, (3,3), activation='relu'))\n",
        "model.add(Flatten())\n",
        "model.add(Dense(64, activation='relu'))\n",
        "model.add(Dense(10, activation='softmax'))\n",
        "\n",
        "model.summary()"
      ],
      "execution_count": 13,
      "outputs": [
        {
          "output_type": "stream",
          "text": [
            "Model: \"sequential_1\"\n",
            "_________________________________________________________________\n",
            "Layer (type)                 Output Shape              Param #   \n",
            "=================================================================\n",
            "conv2d_3 (Conv2D)            (None, 222, 222, 32)      896       \n",
            "_________________________________________________________________\n",
            "max_pooling2d_2 (MaxPooling2 (None, 111, 111, 32)      0         \n",
            "_________________________________________________________________\n",
            "conv2d_4 (Conv2D)            (None, 109, 109, 64)      18496     \n",
            "_________________________________________________________________\n",
            "max_pooling2d_3 (MaxPooling2 (None, 54, 54, 64)        0         \n",
            "_________________________________________________________________\n",
            "conv2d_5 (Conv2D)            (None, 52, 52, 64)        36928     \n",
            "_________________________________________________________________\n",
            "max_pooling2d_4 (MaxPooling2 (None, 26, 26, 64)        0         \n",
            "_________________________________________________________________\n",
            "conv2d_6 (Conv2D)            (None, 24, 24, 64)        36928     \n",
            "_________________________________________________________________\n",
            "max_pooling2d_5 (MaxPooling2 (None, 12, 12, 64)        0         \n",
            "_________________________________________________________________\n",
            "conv2d_7 (Conv2D)            (None, 10, 10, 64)        36928     \n",
            "_________________________________________________________________\n",
            "flatten_1 (Flatten)          (None, 6400)              0         \n",
            "_________________________________________________________________\n",
            "dense_2 (Dense)              (None, 64)                409664    \n",
            "_________________________________________________________________\n",
            "dense_3 (Dense)              (None, 10)                650       \n",
            "=================================================================\n",
            "Total params: 540,490\n",
            "Trainable params: 540,490\n",
            "Non-trainable params: 0\n",
            "_________________________________________________________________\n"
          ],
          "name": "stdout"
        }
      ]
    },
    {
      "cell_type": "code",
      "metadata": {
        "id": "I1-iBFSQ5S_1",
        "colab_type": "code",
        "colab": {}
      },
      "source": [
        "# Compile Model\n",
        "model.compile(optimizer='adam',\n",
        "              loss='sparse_categorical_crossentropy',\n",
        "              metrics=['accuracy'])"
      ],
      "execution_count": 0,
      "outputs": []
    },
    {
      "cell_type": "code",
      "metadata": {
        "id": "WFMeHFOg5S_5",
        "colab_type": "code",
        "colab": {
          "base_uri": "https://localhost:8080/",
          "height": 1000
        },
        "outputId": "5fd81d27-368b-457c-cfc3-a04cc72851ea"
      },
      "source": [
        "# Fit Model\n",
        "history = model.fit(\n",
        "    train_data_gen,\n",
        "    steps_per_epoch=total_train // batch_size,\n",
        "    epochs=epochs,\n",
        "    validation_data=val_data_gen,\n",
        "    validation_steps=total_val // batch_size\n",
        ")"
      ],
      "execution_count": 15,
      "outputs": [
        {
          "output_type": "stream",
          "text": [
            "Epoch 1/50\n",
            "32/32 [==============================] - 3s 82ms/step - loss: 0.7499 - accuracy: 0.6607 - val_loss: 0.3396 - val_accuracy: 0.8580\n",
            "Epoch 2/50\n",
            "32/32 [==============================] - 2s 77ms/step - loss: 0.2328 - accuracy: 0.9121 - val_loss: 0.3017 - val_accuracy: 0.8466\n",
            "Epoch 3/50\n",
            "32/32 [==============================] - 2s 76ms/step - loss: 0.2524 - accuracy: 0.8902 - val_loss: 0.2575 - val_accuracy: 0.9034\n",
            "Epoch 4/50\n",
            "32/32 [==============================] - 2s 76ms/step - loss: 0.1753 - accuracy: 0.9261 - val_loss: 0.3709 - val_accuracy: 0.8693\n",
            "Epoch 5/50\n",
            "32/32 [==============================] - 2s 75ms/step - loss: 0.1611 - accuracy: 0.9361 - val_loss: 0.2076 - val_accuracy: 0.8977\n",
            "Epoch 6/50\n",
            "32/32 [==============================] - 2s 75ms/step - loss: 0.1599 - accuracy: 0.9222 - val_loss: 0.2276 - val_accuracy: 0.9034\n",
            "Epoch 7/50\n",
            "32/32 [==============================] - 2s 76ms/step - loss: 0.1988 - accuracy: 0.9242 - val_loss: 0.2146 - val_accuracy: 0.9091\n",
            "Epoch 8/50\n",
            "32/32 [==============================] - 2s 77ms/step - loss: 0.2049 - accuracy: 0.9182 - val_loss: 0.2969 - val_accuracy: 0.8750\n",
            "Epoch 9/50\n",
            "32/32 [==============================] - 2s 77ms/step - loss: 0.1664 - accuracy: 0.9261 - val_loss: 0.1860 - val_accuracy: 0.9261\n",
            "Epoch 10/50\n",
            "32/32 [==============================] - 2s 77ms/step - loss: 0.1033 - accuracy: 0.9681 - val_loss: 0.1479 - val_accuracy: 0.9375\n",
            "Epoch 11/50\n",
            "32/32 [==============================] - 2s 76ms/step - loss: 0.1305 - accuracy: 0.9461 - val_loss: 0.1838 - val_accuracy: 0.9318\n",
            "Epoch 12/50\n",
            "32/32 [==============================] - 2s 75ms/step - loss: 0.1039 - accuracy: 0.9621 - val_loss: 0.3676 - val_accuracy: 0.8750\n",
            "Epoch 13/50\n",
            "32/32 [==============================] - 2s 76ms/step - loss: 0.0667 - accuracy: 0.9721 - val_loss: 0.2383 - val_accuracy: 0.9205\n",
            "Epoch 14/50\n",
            "32/32 [==============================] - 2s 75ms/step - loss: 0.0765 - accuracy: 0.9721 - val_loss: 0.1889 - val_accuracy: 0.9318\n",
            "Epoch 15/50\n",
            "32/32 [==============================] - 2s 78ms/step - loss: 0.0597 - accuracy: 0.9780 - val_loss: 0.3903 - val_accuracy: 0.9148\n",
            "Epoch 16/50\n",
            "32/32 [==============================] - 2s 76ms/step - loss: 0.0481 - accuracy: 0.9780 - val_loss: 0.2470 - val_accuracy: 0.9318\n",
            "Epoch 17/50\n",
            "32/32 [==============================] - 2s 77ms/step - loss: 0.0332 - accuracy: 0.9920 - val_loss: 0.2187 - val_accuracy: 0.9261\n",
            "Epoch 18/50\n",
            "32/32 [==============================] - 2s 77ms/step - loss: 0.0469 - accuracy: 0.9800 - val_loss: 0.3188 - val_accuracy: 0.8864\n",
            "Epoch 19/50\n",
            "32/32 [==============================] - 2s 78ms/step - loss: 0.0491 - accuracy: 0.9780 - val_loss: 0.4677 - val_accuracy: 0.8693\n",
            "Epoch 20/50\n",
            "32/32 [==============================] - 2s 78ms/step - loss: 0.0434 - accuracy: 0.9900 - val_loss: 0.2413 - val_accuracy: 0.9148\n",
            "Epoch 21/50\n",
            "32/32 [==============================] - 2s 77ms/step - loss: 0.0438 - accuracy: 0.9880 - val_loss: 0.1752 - val_accuracy: 0.9318\n",
            "Epoch 22/50\n",
            "32/32 [==============================] - 2s 76ms/step - loss: 0.0314 - accuracy: 0.9840 - val_loss: 0.4307 - val_accuracy: 0.9091\n",
            "Epoch 23/50\n",
            "32/32 [==============================] - 2s 76ms/step - loss: 0.0417 - accuracy: 0.9860 - val_loss: 0.5938 - val_accuracy: 0.8466\n",
            "Epoch 24/50\n",
            "32/32 [==============================] - 2s 74ms/step - loss: 0.0036 - accuracy: 1.0000 - val_loss: 0.4288 - val_accuracy: 0.9034\n",
            "Epoch 25/50\n",
            "32/32 [==============================] - 2s 74ms/step - loss: 0.0025 - accuracy: 1.0000 - val_loss: 0.4136 - val_accuracy: 0.9034\n",
            "Epoch 26/50\n",
            "32/32 [==============================] - 2s 74ms/step - loss: 8.4805e-04 - accuracy: 1.0000 - val_loss: 0.4560 - val_accuracy: 0.9091\n",
            "Epoch 27/50\n",
            "32/32 [==============================] - 2s 75ms/step - loss: 5.4036e-04 - accuracy: 1.0000 - val_loss: 0.5271 - val_accuracy: 0.8977\n",
            "Epoch 28/50\n",
            "32/32 [==============================] - 2s 75ms/step - loss: 4.2116e-04 - accuracy: 1.0000 - val_loss: 0.5610 - val_accuracy: 0.9034\n",
            "Epoch 29/50\n",
            "32/32 [==============================] - 2s 74ms/step - loss: 2.4402e-04 - accuracy: 1.0000 - val_loss: 0.4864 - val_accuracy: 0.9091\n",
            "Epoch 30/50\n",
            "32/32 [==============================] - 2s 74ms/step - loss: 2.0121e-04 - accuracy: 1.0000 - val_loss: 0.5330 - val_accuracy: 0.9091\n",
            "Epoch 31/50\n",
            "32/32 [==============================] - 2s 73ms/step - loss: 1.4511e-04 - accuracy: 1.0000 - val_loss: 0.6007 - val_accuracy: 0.8977\n",
            "Epoch 32/50\n",
            "32/32 [==============================] - 2s 75ms/step - loss: 1.3357e-04 - accuracy: 1.0000 - val_loss: 0.6121 - val_accuracy: 0.8977\n",
            "Epoch 33/50\n",
            "32/32 [==============================] - 2s 74ms/step - loss: 1.1820e-04 - accuracy: 1.0000 - val_loss: 0.6548 - val_accuracy: 0.8977\n",
            "Epoch 34/50\n",
            "32/32 [==============================] - 2s 74ms/step - loss: 7.6745e-05 - accuracy: 1.0000 - val_loss: 0.6867 - val_accuracy: 0.8920\n",
            "Epoch 35/50\n",
            "32/32 [==============================] - 2s 74ms/step - loss: 6.3259e-05 - accuracy: 1.0000 - val_loss: 0.6855 - val_accuracy: 0.9034\n",
            "Epoch 36/50\n",
            "32/32 [==============================] - 2s 76ms/step - loss: 8.5018e-05 - accuracy: 1.0000 - val_loss: 0.6758 - val_accuracy: 0.9091\n",
            "Epoch 37/50\n",
            "32/32 [==============================] - 2s 74ms/step - loss: 5.8825e-05 - accuracy: 1.0000 - val_loss: 0.6318 - val_accuracy: 0.8977\n",
            "Epoch 38/50\n",
            "32/32 [==============================] - 2s 74ms/step - loss: 1.0620e-04 - accuracy: 1.0000 - val_loss: 0.6207 - val_accuracy: 0.9091\n",
            "Epoch 39/50\n",
            "32/32 [==============================] - 2s 74ms/step - loss: 5.8260e-05 - accuracy: 1.0000 - val_loss: 0.6998 - val_accuracy: 0.9034\n",
            "Epoch 40/50\n",
            "32/32 [==============================] - 2s 75ms/step - loss: 3.9974e-05 - accuracy: 1.0000 - val_loss: 0.5791 - val_accuracy: 0.9148\n",
            "Epoch 41/50\n",
            "32/32 [==============================] - 2s 74ms/step - loss: 3.2169e-05 - accuracy: 1.0000 - val_loss: 0.5675 - val_accuracy: 0.9091\n",
            "Epoch 42/50\n",
            "32/32 [==============================] - 2s 75ms/step - loss: 3.6920e-05 - accuracy: 1.0000 - val_loss: 0.6794 - val_accuracy: 0.8977\n",
            "Epoch 43/50\n",
            "32/32 [==============================] - 2s 74ms/step - loss: 3.4568e-05 - accuracy: 1.0000 - val_loss: 0.7754 - val_accuracy: 0.8977\n",
            "Epoch 44/50\n",
            "32/32 [==============================] - 2s 75ms/step - loss: 3.2857e-05 - accuracy: 1.0000 - val_loss: 0.8061 - val_accuracy: 0.8977\n",
            "Epoch 45/50\n",
            "32/32 [==============================] - 2s 76ms/step - loss: 2.9279e-05 - accuracy: 1.0000 - val_loss: 0.7450 - val_accuracy: 0.9034\n",
            "Epoch 46/50\n",
            "32/32 [==============================] - 2s 75ms/step - loss: 2.4414e-05 - accuracy: 1.0000 - val_loss: 0.7962 - val_accuracy: 0.8977\n",
            "Epoch 47/50\n",
            "32/32 [==============================] - 2s 75ms/step - loss: 2.3092e-05 - accuracy: 1.0000 - val_loss: 0.7470 - val_accuracy: 0.9034\n",
            "Epoch 48/50\n",
            "32/32 [==============================] - 2s 74ms/step - loss: 1.9110e-05 - accuracy: 1.0000 - val_loss: 0.7410 - val_accuracy: 0.9091\n",
            "Epoch 49/50\n",
            "32/32 [==============================] - 2s 74ms/step - loss: 1.8578e-05 - accuracy: 1.0000 - val_loss: 0.8595 - val_accuracy: 0.8977\n",
            "Epoch 50/50\n",
            "32/32 [==============================] - 2s 75ms/step - loss: 1.4789e-05 - accuracy: 1.0000 - val_loss: 0.8030 - val_accuracy: 0.9148\n"
          ],
          "name": "stdout"
        }
      ]
    },
    {
      "cell_type": "markdown",
      "metadata": {
        "id": "fLS2vUYi5S_-",
        "colab_type": "text"
      },
      "source": [
        "# Custom CNN Model with Image Manipulations\n",
        "\n",
        "To simulate an increase in a sample of image, you can apply image manipulation techniques: cropping, rotation, stretching, etc. Luckily Keras has some handy functions for us to apply these techniques to our mountain and forest example. Simply, you should be able to modify our image generator for the problem. Check out these resources to help you get started: \n",
        "\n",
        "1. [Keras `ImageGenerator` Class](https://keras.io/preprocessing/image/#imagedatagenerator-class)\n",
        "2. [Building a powerful image classifier with very little data](https://blog.keras.io/building-powerful-image-classification-models-using-very-little-data.html)\n",
        " "
      ]
    },
    {
      "cell_type": "code",
      "metadata": {
        "id": "O0-w6oyi5S_-",
        "colab_type": "code",
        "colab": {}
      },
      "source": [
        ""
      ],
      "execution_count": 0,
      "outputs": []
    },
    {
      "cell_type": "markdown",
      "metadata": {
        "colab_type": "text",
        "id": "uT3UV3gap9H6"
      },
      "source": [
        "# Resources and Stretch Goals\n",
        "\n",
        "Stretch goals\n",
        "- Enhance your code to use classes/functions and accept terms to search and classes to look for in recognizing the downloaded images (e.g. download images of parties, recognize all that contain balloons)\n",
        "- Check out [other available pretrained networks](https://tfhub.dev), try some and compare\n",
        "- Image recognition/classification is somewhat solved, but *relationships* between entities and describing an image is not - check out some of the extended resources (e.g. [Visual Genome](https://visualgenome.org/)) on the topic\n",
        "- Transfer learning - using images you source yourself, [retrain a classifier](https://www.tensorflow.org/hub/tutorials/image_retraining) with a new category\n",
        "- (Not CNN related) Use [piexif](https://pypi.org/project/piexif/) to check out the metadata of images passed in to your system - see if they're from a national park! (Note - many images lack GPS metadata, so this won't work in most cases, but still cool)\n",
        "\n",
        "Resources\n",
        "- [Deep Residual Learning for Image Recognition](https://arxiv.org/abs/1512.03385) - influential paper (introduced ResNet)\n",
        "- [YOLO: Real-Time Object Detection](https://pjreddie.com/darknet/yolo/) - an influential convolution based object detection system, focused on inference speed (for applications to e.g. self driving vehicles)\n",
        "- [R-CNN, Fast R-CNN, Faster R-CNN, YOLO](https://towardsdatascience.com/r-cnn-fast-r-cnn-faster-r-cnn-yolo-object-detection-algorithms-36d53571365e) - comparison of object detection systems\n",
        "- [Common Objects in Context](http://cocodataset.org/) - a large-scale object detection, segmentation, and captioning dataset\n",
        "- [Visual Genome](https://visualgenome.org/) - a dataset, a knowledge base, an ongoing effort to connect structured image concepts to language"
      ]
    }
  ]
}