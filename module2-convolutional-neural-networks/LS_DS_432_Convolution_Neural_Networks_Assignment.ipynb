{
  "nbformat": 4,
  "nbformat_minor": 0,
  "metadata": {
    "kernelspec": {
      "display_name": "conda_tensorflow_p36",
      "language": "python",
      "name": "conda_tensorflow_p36"
    },
    "language_info": {
      "codemirror_mode": {
        "name": "ipython",
        "version": 3
      },
      "file_extension": ".py",
      "mimetype": "text/x-python",
      "name": "python",
      "nbconvert_exporter": "python",
      "pygments_lexer": "ipython3",
      "version": "3.6.5"
    },
    "colab": {
      "name": "Copy of LS_DS_432_Convolution_Neural_Networks_Assignment.ipynb",
      "provenance": [],
      "include_colab_link": true
    }
  },
  "cells": [
    {
      "cell_type": "markdown",
      "metadata": {
        "id": "view-in-github",
        "colab_type": "text"
      },
      "source": [
        "<a href=\"https://colab.research.google.com/github/VeraMendes/DS-Unit-4-Sprint-3-Deep-Learning/blob/master/module2-convolutional-neural-networks/LS_DS_432_Convolution_Neural_Networks_Assignment.ipynb\" target=\"_parent\"><img src=\"https://colab.research.google.com/assets/colab-badge.svg\" alt=\"Open In Colab\"/></a>"
      ]
    },
    {
      "cell_type": "markdown",
      "metadata": {
        "id": "Qa4TLBHM16ES",
        "colab_type": "text"
      },
      "source": [
        "<img align=\"left\" src=\"https://lever-client-logos.s3.amazonaws.com/864372b1-534c-480e-acd5-9711f850815c-1524247202159.png\" width=200>\n",
        "<br></br>\n",
        "<br></br>\n",
        "\n",
        "## *Data Science Unit 4 Sprint 3 Assignment 2*\n",
        "# Convolutional Neural Networks (CNNs)"
      ]
    },
    {
      "cell_type": "markdown",
      "metadata": {
        "colab_type": "text",
        "id": "0lfZdD_cp1t5"
      },
      "source": [
        "# Assignment\n",
        "\n",
        "- <a href=\"#p1\">Part 1:</a> Pre-Trained Model\n",
        "- <a href=\"#p2\">Part 2:</a> Custom CNN Model\n",
        "- <a href=\"#p3\">Part 3:</a> CNN with Data Augmentation\n",
        "\n",
        "\n",
        "You will apply three different CNN models to a binary image classification model using Keras. Classify images of Mountains (`./data/mountain/*`) and images of forests (`./data/forest/*`). Treat mountains as the postive class (1) and the forest images as the negative (zero). \n",
        "\n",
        "|Mountain (+)|Forest (-)|\n",
        "|---|---|\n",
        "|![](https://github.com/VeraMendes/DS-Unit-4-Sprint-3-Deep-Learning/blob/master/module2-convolutional-neural-networks/data/mountain/art1131.jpg?raw=1)|![](https://github.com/VeraMendes/DS-Unit-4-Sprint-3-Deep-Learning/blob/master/module2-convolutional-neural-networks/data/forest/cdmc317.jpg?raw=1)|\n",
        "\n",
        "The problem is realively difficult given that the sample is tiny: there are about 350 observations per class. This sample size might be something that you can expect with prototyping an image classification problem/solution at work. Get accustomed to evaluating several differnet possible models."
      ]
    },
    {
      "cell_type": "markdown",
      "metadata": {
        "colab_type": "text",
        "id": "Twp_Kvtx16EX"
      },
      "source": [
        "# Pre - Trained Model\n",
        "<a id=\"p1\"></a>\n",
        "\n",
        "Load a pretrained network from Keras, [ResNet50](https://tfhub.dev/google/imagenet/resnet_v1_50/classification/1) - a 50 layer deep network trained to recognize [1000 objects](https://storage.googleapis.com/download.tensorflow.org/data/ImageNetLabels.txt). Starting usage:\n",
        "\n",
        "```python\n",
        "import numpy as np\n",
        "\n",
        "from tensorflow.keras.applications.resnet50 import ResNet50\n",
        "from tensorflow.keras.preprocessing import image\n",
        "from tensorflow.keras.applications.resnet50 import preprocess_input, decode_predictions\n",
        "\n",
        "from tensorflow.keras.layers import Dense, GlobalAveragePooling2D()\n",
        "from tensorflow.keras.models import Model # This is the functional API\n",
        "\n",
        "resnet = ResNet50(weights='imagenet', include_top=False)\n",
        "\n",
        "```\n",
        "\n",
        "The `include_top` parameter in `ResNet50` will remove the full connected layers from the ResNet model. The next step is to turn off the training of the ResNet layers. We want to use the learned parameters without updating them in future training passes. \n",
        "\n",
        "```python\n",
        "for layer in resnet.layers:\n",
        "    layer.trainable = False\n",
        "```\n",
        "\n",
        "Using the Keras functional API, we will need to additional additional full connected layers to our model. We we removed the top layers, we removed all preivous fully connected layers. In other words, we kept only the feature processing portions of our network. You can expert with additional layers beyond what's listed here. The `GlobalAveragePooling2D` layer functions as a really fancy flatten function by taking the average of each of the last convolutional layer outputs (which is two dimensional still). \n",
        "\n",
        "```python\n",
        "x = res.output\n",
        "x = GlobalAveragePooling2D()(x) # This layer is a really fancy flatten\n",
        "x = Dense(1024, activation='relu')(x)\n",
        "predictions = Dense(1, activation='sigmoid')(x)\n",
        "model = Model(res.input, predictions)\n",
        "```\n",
        "\n",
        "Your assignment is to apply the transfer learning above to classify images of Mountains (`./data/mountain/*`) and images of forests (`./data/forest/*`). Treat mountains as the postive class (1) and the forest images as the negative (zero). \n",
        "\n",
        "Steps to complete assignment: \n",
        "1. Load in Image Data into numpy arrays (`X`) \n",
        "2. Create a `y` for the labels\n",
        "3. Train your model with pretrained layers from resnet\n",
        "4. Report your model's accuracy"
      ]
    },
    {
      "cell_type": "code",
      "metadata": {
        "id": "WLYag07uCD4J",
        "colab_type": "code",
        "colab": {}
      },
      "source": [
        "import numpy as np\n",
        " \n",
        "from tensorflow.keras.applications.resnet50 import ResNet50\n",
        "from tensorflow.keras.preprocessing import image\n",
        "from tensorflow.keras.applications.resnet50 import preprocess_input, decode_predictions\n",
        "from tensorflow.keras.models import Sequential\n",
        "from tensorflow.keras.layers import Dense\n",
        "\n",
        "from tensorflow.keras.layers import Dense, GlobalAveragePooling2D\n",
        "from tensorflow.keras.models import Model # This is the functional API\n",
        "\n",
        "import imageio\n",
        "import matplotlib.pyplot as plt\n",
        "from skimage import color, io\n",
        "\n",
        "# instantiate model\n",
        "resnet = ResNet50(weights='imagenet', include_top=False)"
      ],
      "execution_count": 0,
      "outputs": []
    },
    {
      "cell_type": "code",
      "metadata": {
        "id": "9JgV_vat1_lk",
        "colab_type": "code",
        "outputId": "f5521d77-1151-4fdc-ae19-dff09d7be67c",
        "colab": {
          "base_uri": "https://localhost:8080/",
          "height": 887
        }
      },
      "source": [
        "forest_example = io.imread('https://github.com/VeraMendes/DS-Unit-4-Sprint-3-Deep-Learning/blob/master/module2-convolutional-neural-networks/data/forest/cdmc271.jpg?raw=true')\n",
        "forest_example"
      ],
      "execution_count": 0,
      "outputs": [
        {
          "output_type": "execute_result",
          "data": {
            "text/plain": [
              "Array([[[185, 207, 255],\n",
              "        [181, 203, 252],\n",
              "        [180, 201, 248],\n",
              "        ...,\n",
              "        [138, 144, 118],\n",
              "        [137, 143, 117],\n",
              "        [141, 147, 121]],\n",
              "\n",
              "       [[170, 191, 238],\n",
              "        [166, 187, 232],\n",
              "        [162, 183, 228],\n",
              "        ...,\n",
              "        [137, 143, 117],\n",
              "        [136, 142, 116],\n",
              "        [138, 144, 118]],\n",
              "\n",
              "       [[146, 168, 209],\n",
              "        [143, 165, 204],\n",
              "        [142, 161, 201],\n",
              "        ...,\n",
              "        [133, 139, 113],\n",
              "        [135, 141, 115],\n",
              "        [141, 147, 121]],\n",
              "\n",
              "       ...,\n",
              "\n",
              "       [[ 59,  56,  15],\n",
              "        [ 68,  65,  24],\n",
              "        [ 69,  65,  27],\n",
              "        ...,\n",
              "        [  9,  13,   0],\n",
              "        [  7,  11,   0],\n",
              "        [ 10,  15,   0]],\n",
              "\n",
              "       [[ 51,  46,  16],\n",
              "        [ 53,  48,  18],\n",
              "        [ 56,  51,  21],\n",
              "        ...,\n",
              "        [ 33,  37,  12],\n",
              "        [ 22,  27,   0],\n",
              "        [ 12,  18,   0]],\n",
              "\n",
              "       [[ 44,  38,  14],\n",
              "        [ 30,  24,   0],\n",
              "        [ 29,  23,   0],\n",
              "        ...,\n",
              "        [100, 104,  77],\n",
              "        [ 89,  95,  61],\n",
              "        [ 71,  77,  39]]], dtype=uint8)"
            ]
          },
          "metadata": {
            "tags": []
          },
          "execution_count": 113
        }
      ]
    },
    {
      "cell_type": "code",
      "metadata": {
        "id": "RYn_cB2D2YMk",
        "colab_type": "code",
        "outputId": "613298e2-0386-44fb-d0f2-cee1c65627f3",
        "colab": {
          "base_uri": "https://localhost:8080/",
          "height": 34
        }
      },
      "source": [
        "forest_example.shape"
      ],
      "execution_count": 0,
      "outputs": [
        {
          "output_type": "execute_result",
          "data": {
            "text/plain": [
              "(256, 256, 3)"
            ]
          },
          "metadata": {
            "tags": []
          },
          "execution_count": 114
        }
      ]
    },
    {
      "cell_type": "code",
      "metadata": {
        "id": "hs0ZXxFH2bWO",
        "colab_type": "code",
        "outputId": "eccc1dc9-f410-4d5e-f9c6-86e9c1064a48",
        "colab": {
          "base_uri": "https://localhost:8080/",
          "height": 232
        }
      },
      "source": [
        "!wget 'https://github.com/VeraMendes/DS-Unit-4-Sprint-3-Deep-Learning/tree/master/module2-convolutional-neural-networks/data'"
      ],
      "execution_count": 0,
      "outputs": [
        {
          "output_type": "stream",
          "text": [
            "--2019-12-18 16:26:30--  https://github.com/VeraMendes/DS-Unit-4-Sprint-3-Deep-Learning/tree/master/module2-convolutional-neural-networks/data\n",
            "Resolving github.com (github.com)... 140.82.114.4\n",
            "Connecting to github.com (github.com)|140.82.114.4|:443... connected.\n",
            "HTTP request sent, awaiting response... 200 OK\n",
            "Length: unspecified [text/html]\n",
            "Saving to: ‘data’\n",
            "\n",
            "data                    [  <=>               ]  56.98K   159KB/s    in 0.4s    \n",
            "\n",
            "2019-12-18 16:26:31 (159 KB/s) - ‘data’ saved [58345]\n",
            "\n"
          ],
          "name": "stdout"
        }
      ]
    },
    {
      "cell_type": "code",
      "metadata": {
        "id": "A1JkvuQs4C3J",
        "colab_type": "code",
        "outputId": "08baa6b9-3158-4049-f233-33a4aac1e8f0",
        "colab": {
          "base_uri": "https://localhost:8080/",
          "height": 1000
        }
      },
      "source": [
        "!unzip data.zip"
      ],
      "execution_count": 0,
      "outputs": [
        {
          "output_type": "stream",
          "text": [
            "Archive:  data.zip\n",
            "   creating: data/forest/\n",
            "  inflating: data/forest/art114.jpg  \n",
            "  inflating: data/forest/bost100.jpg  \n",
            "  inflating: data/forest/bost101.jpg  \n",
            "  inflating: data/forest/bost102.jpg  \n",
            "  inflating: data/forest/bost103.jpg  \n",
            "  inflating: data/forest/bost190.jpg  \n",
            "  inflating: data/forest/bost98.jpg  \n",
            "  inflating: data/forest/cdmc101.jpg  \n",
            "  inflating: data/forest/cdmc12.jpg  \n",
            "  inflating: data/forest/cdmc271.jpg  \n",
            "  inflating: data/forest/cdmc277.jpg  \n",
            "  inflating: data/forest/cdmc278.jpg  \n",
            "  inflating: data/forest/cdmc280.jpg  \n",
            "  inflating: data/forest/cdmc281.jpg  \n",
            "  inflating: data/forest/cdmc282.jpg  \n",
            "  inflating: data/forest/cdmc283.jpg  \n",
            "  inflating: data/forest/cdmc284.jpg  \n",
            "  inflating: data/forest/cdmc290.jpg  \n",
            "  inflating: data/forest/cdmc291.jpg  \n",
            "  inflating: data/forest/cdmc292.jpg  \n",
            "  inflating: data/forest/cdmc293.jpg  \n",
            "  inflating: data/forest/cdmc306.jpg  \n",
            "  inflating: data/forest/cdmc313.jpg  \n",
            "  inflating: data/forest/cdmc315.jpg  \n",
            "  inflating: data/forest/cdmc317.jpg  \n",
            "  inflating: data/forest/cdmc318.jpg  \n",
            "  inflating: data/forest/cdmc319.jpg  \n",
            "  inflating: data/forest/cdmc331.jpg  \n",
            "  inflating: data/forest/cdmc333.jpg  \n",
            "  inflating: data/forest/cdmc338.jpg  \n",
            "  inflating: data/forest/cdmc344.jpg  \n",
            "  inflating: data/forest/cdmc348.jpg  \n",
            "  inflating: data/forest/cdmc351.jpg  \n",
            "  inflating: data/forest/cdmc352.jpg  \n",
            "  inflating: data/forest/cdmc358.jpg  \n",
            "  inflating: data/forest/cdmc359.jpg  \n",
            "  inflating: data/forest/cdmc363.jpg  \n",
            "  inflating: data/forest/cdmc368.jpg  \n",
            "  inflating: data/forest/cdmc375.jpg  \n",
            "  inflating: data/forest/cdmc377.jpg  \n",
            "  inflating: data/forest/cdmc385.jpg  \n",
            "  inflating: data/forest/cdmc388.jpg  \n",
            "  inflating: data/forest/cdmc414.jpg  \n",
            "  inflating: data/forest/cdmc415.jpg  \n",
            "  inflating: data/forest/cdmc430.jpg  \n",
            "  inflating: data/forest/cdmc451.jpg  \n",
            "  inflating: data/forest/cdmc458.jpg  \n",
            "  inflating: data/forest/cdmc494.jpg  \n",
            "  inflating: data/forest/cdmc507.jpg  \n",
            "  inflating: data/forest/cdmc533.jpg  \n",
            "  inflating: data/forest/cdmc547.jpg  \n",
            "  inflating: data/forest/cdmc556.jpg  \n",
            "  inflating: data/forest/cdmc562.jpg  \n",
            "  inflating: data/forest/for102.jpg  \n",
            "  inflating: data/forest/for105.jpg  \n",
            "  inflating: data/forest/for106.jpg  \n",
            "  inflating: data/forest/for110.jpg  \n",
            "  inflating: data/forest/for112.jpg  \n",
            "  inflating: data/forest/for114.jpg  \n",
            "  inflating: data/forest/for116.jpg  \n",
            "  inflating: data/forest/for119.jpg  \n",
            "  inflating: data/forest/for121.jpg  \n",
            "  inflating: data/forest/for127.jpg  \n",
            "  inflating: data/forest/for130.jpg  \n",
            "  inflating: data/forest/for132.jpg  \n",
            "  inflating: data/forest/for136.jpg  \n",
            "  inflating: data/forest/for137.jpg  \n",
            "  inflating: data/forest/for142.jpg  \n",
            "  inflating: data/forest/for143.jpg  \n",
            "  inflating: data/forest/for146.jpg  \n",
            "  inflating: data/forest/for148.jpg  \n",
            "  inflating: data/forest/for149.jpg  \n",
            "  inflating: data/forest/for15.jpg   \n",
            "  inflating: data/forest/for151.jpg  \n",
            "  inflating: data/forest/for153.jpg  \n",
            "  inflating: data/forest/for157.jpg  \n",
            "  inflating: data/forest/for17.jpg   \n",
            "  inflating: data/forest/for20.jpg   \n",
            "  inflating: data/forest/for22.jpg   \n",
            "  inflating: data/forest/for25.jpg   \n",
            "  inflating: data/forest/for27.jpg   \n",
            "  inflating: data/forest/for28.jpg   \n",
            "  inflating: data/forest/for3.jpg    \n",
            "  inflating: data/forest/for32.jpg   \n",
            "  inflating: data/forest/for38.jpg   \n",
            "  inflating: data/forest/for42.jpg   \n",
            "  inflating: data/forest/for44.jpg   \n",
            "  inflating: data/forest/for47.jpg   \n",
            "  inflating: data/forest/for50.jpg   \n",
            "  inflating: data/forest/for52.jpg   \n",
            "  inflating: data/forest/for58.jpg   \n",
            "  inflating: data/forest/for60.jpg   \n",
            "  inflating: data/forest/for63.jpg   \n",
            "  inflating: data/forest/for65.jpg   \n",
            "  inflating: data/forest/for67.jpg   \n",
            "  inflating: data/forest/for77.jpg   \n",
            "  inflating: data/forest/for78.jpg   \n",
            "  inflating: data/forest/for79.jpg   \n",
            "  inflating: data/forest/for82.jpg   \n",
            "  inflating: data/forest/for84.jpg   \n",
            "  inflating: data/forest/for85.jpg   \n",
            "  inflating: data/forest/for86.jpg   \n",
            "  inflating: data/forest/for87.jpg   \n",
            "  inflating: data/forest/for93.jpg   \n",
            "  inflating: data/forest/for95.jpg   \n",
            "  inflating: data/forest/for96.jpg   \n",
            "  inflating: data/forest/land102.jpg  \n",
            "  inflating: data/forest/land107.jpg  \n",
            "  inflating: data/forest/land159.jpg  \n",
            "  inflating: data/forest/land215.jpg  \n",
            "  inflating: data/forest/land217.jpg  \n",
            "  inflating: data/forest/land219.jpg  \n",
            "  inflating: data/forest/land222.jpg  \n",
            "  inflating: data/forest/land224.jpg  \n",
            "  inflating: data/forest/land243.jpg  \n",
            "  inflating: data/forest/land245.jpg  \n",
            "  inflating: data/forest/land314.jpg  \n",
            "  inflating: data/forest/land335.jpg  \n",
            "  inflating: data/forest/land376.jpg  \n",
            "  inflating: data/forest/land377.jpg  \n",
            "  inflating: data/forest/land503.jpg  \n",
            "  inflating: data/forest/land64.jpg  \n",
            "  inflating: data/forest/land726.jpg  \n",
            "  inflating: data/forest/land727.jpg  \n",
            "  inflating: data/forest/land733.jpg  \n",
            "  inflating: data/forest/land741.jpg  \n",
            "  inflating: data/forest/land760.jpg  \n",
            "  inflating: data/forest/land765.jpg  \n",
            "  inflating: data/forest/land801.jpg  \n",
            "  inflating: data/forest/land807.jpg  \n",
            "  inflating: data/forest/land809.jpg  \n",
            "  inflating: data/forest/land81.jpg  \n",
            "  inflating: data/forest/land810.jpg  \n",
            "  inflating: data/forest/land849.jpg  \n",
            "  inflating: data/forest/land850.jpg  \n",
            "  inflating: data/forest/land852.jpg  \n",
            "  inflating: data/forest/land854.jpg  \n",
            "  inflating: data/forest/land858.jpg  \n",
            "  inflating: data/forest/land861.jpg  \n",
            "  inflating: data/forest/land862.jpg  \n",
            "  inflating: data/forest/land863.jpg  \n",
            "  inflating: data/forest/land864.jpg  \n",
            "  inflating: data/forest/land866.jpg  \n",
            "  inflating: data/forest/land867.jpg  \n",
            "  inflating: data/forest/land869.jpg  \n",
            "  inflating: data/forest/land870.jpg  \n",
            "  inflating: data/forest/land871.jpg  \n",
            "  inflating: data/forest/land872.jpg  \n",
            "  inflating: data/forest/land873.jpg  \n",
            "  inflating: data/forest/land922.jpg  \n",
            "  inflating: data/forest/moun46.jpg  \n",
            "  inflating: data/forest/n18075.jpg  \n",
            "  inflating: data/forest/nat1027.jpg  \n",
            "  inflating: data/forest/nat1033.jpg  \n",
            "  inflating: data/forest/nat1088.jpg  \n",
            "  inflating: data/forest/nat1095.jpg  \n",
            "  inflating: data/forest/nat1097.jpg  \n",
            "  inflating: data/forest/nat1127.jpg  \n",
            "  inflating: data/forest/nat1128.jpg  \n",
            "  inflating: data/forest/nat1131.jpg  \n",
            "  inflating: data/forest/nat1184.jpg  \n",
            "  inflating: data/forest/nat1217.jpg  \n",
            "  inflating: data/forest/nat1242.jpg  \n",
            "  inflating: data/forest/nat1248.jpg  \n",
            "  inflating: data/forest/nat1253.jpg  \n",
            "  inflating: data/forest/nat1266.jpg  \n",
            "  inflating: data/forest/nat130.jpg  \n",
            "  inflating: data/forest/nat145.jpg  \n",
            "  inflating: data/forest/nat146.jpg  \n",
            "  inflating: data/forest/nat147.jpg  \n",
            "  inflating: data/forest/nat162.jpg  \n",
            "  inflating: data/forest/nat203.jpg  \n",
            "  inflating: data/forest/nat204.jpg  \n",
            "  inflating: data/forest/nat205.jpg  \n",
            "  inflating: data/forest/nat208.jpg  \n",
            "  inflating: data/forest/nat209.jpg  \n",
            "  inflating: data/forest/nat210.jpg  \n",
            "  inflating: data/forest/nat211.jpg  \n",
            "  inflating: data/forest/nat212.jpg  \n",
            "  inflating: data/forest/nat219.jpg  \n",
            "  inflating: data/forest/nat220.jpg  \n",
            "  inflating: data/forest/nat221.jpg  \n",
            "  inflating: data/forest/nat223.jpg  \n",
            "  inflating: data/forest/nat228.jpg  \n",
            "  inflating: data/forest/nat239.jpg  \n",
            "  inflating: data/forest/nat260.jpg  \n",
            "  inflating: data/forest/nat263.jpg  \n",
            "  inflating: data/forest/nat266.jpg  \n",
            "  inflating: data/forest/nat281.jpg  \n",
            "  inflating: data/forest/nat286.jpg  \n",
            "  inflating: data/forest/nat310.jpg  \n",
            "  inflating: data/forest/nat312.jpg  \n",
            "  inflating: data/forest/nat315.jpg  \n",
            "  inflating: data/forest/nat324.jpg  \n",
            "  inflating: data/forest/nat325.jpg  \n",
            "  inflating: data/forest/nat328.jpg  \n",
            "  inflating: data/forest/nat337.jpg  \n",
            "  inflating: data/forest/nat338.jpg  \n",
            "  inflating: data/forest/nat347.jpg  \n",
            "  inflating: data/forest/nat349.jpg  \n",
            "  inflating: data/forest/nat354.jpg  \n",
            "  inflating: data/forest/nat359.jpg  \n",
            "  inflating: data/forest/nat360.jpg  \n",
            "  inflating: data/forest/nat361.jpg  \n",
            "  inflating: data/forest/nat367.jpg  \n",
            "  inflating: data/forest/nat373.jpg  \n",
            "  inflating: data/forest/nat398.jpg  \n",
            "  inflating: data/forest/nat400.jpg  \n",
            "  inflating: data/forest/nat417.jpg  \n",
            "  inflating: data/forest/nat442.jpg  \n",
            "  inflating: data/forest/nat449.jpg  \n",
            "  inflating: data/forest/nat450.jpg  \n",
            "  inflating: data/forest/nat451.jpg  \n",
            "  inflating: data/forest/nat452.jpg  \n",
            "  inflating: data/forest/nat468.jpg  \n",
            "  inflating: data/forest/nat470.jpg  \n",
            "  inflating: data/forest/nat619.jpg  \n",
            "  inflating: data/forest/nat623.jpg  \n",
            "  inflating: data/forest/nat697.jpg  \n",
            "  inflating: data/forest/nat715.jpg  \n",
            "  inflating: data/forest/nat717.jpg  \n",
            "  inflating: data/forest/nat719.jpg  \n",
            "  inflating: data/forest/nat763.jpg  \n",
            "  inflating: data/forest/nat798.jpg  \n",
            "  inflating: data/forest/nat835.jpg  \n",
            "  inflating: data/forest/nat851.jpg  \n",
            "  inflating: data/forest/nat867.jpg  \n",
            "  inflating: data/forest/nat946.jpg  \n",
            "  inflating: data/forest/nat982.jpg  \n",
            "  inflating: data/forest/natc12.jpg  \n",
            "  inflating: data/forest/natc13.jpg  \n",
            "  inflating: data/forest/natc37.jpg  \n",
            "  inflating: data/forest/natc4.jpg   \n",
            "  inflating: data/forest/natc49.jpg  \n",
            "  inflating: data/forest/natc52.jpg  \n",
            "  inflating: data/forest/natu15.jpg  \n",
            "  inflating: data/forest/natu158.jpg  \n",
            "  inflating: data/forest/natu161.jpg  \n",
            "  inflating: data/forest/natu163.jpg  \n",
            "  inflating: data/forest/natu164.jpg  \n",
            "  inflating: data/forest/natu169.jpg  \n",
            "  inflating: data/forest/natu170.jpg  \n",
            "  inflating: data/forest/natu172.jpg  \n",
            "  inflating: data/forest/natu18.jpg  \n",
            "  inflating: data/forest/natu2.jpg   \n",
            "  inflating: data/forest/natu26.jpg  \n",
            "  inflating: data/forest/natu28.jpg  \n",
            "  inflating: data/forest/natu29.jpg  \n",
            "  inflating: data/forest/natu308.jpg  \n",
            "  inflating: data/forest/natu31.jpg  \n",
            "  inflating: data/forest/natu317.jpg  \n",
            "  inflating: data/forest/natu322.jpg  \n",
            "  inflating: data/forest/natu325.jpg  \n",
            "  inflating: data/forest/natu361.jpg  \n",
            "  inflating: data/forest/natu396.jpg  \n",
            "  inflating: data/forest/natu402.jpg  \n",
            "  inflating: data/forest/natu423.jpg  \n",
            "  inflating: data/forest/natu424.jpg  \n",
            "  inflating: data/forest/natu425.jpg  \n",
            "  inflating: data/forest/natu428.jpg  \n",
            "  inflating: data/forest/natu430.jpg  \n",
            "  inflating: data/forest/natu439.jpg  \n",
            "  inflating: data/forest/natu440.jpg  \n",
            "  inflating: data/forest/natu441.jpg  \n",
            "  inflating: data/forest/natu443.jpg  \n",
            "  inflating: data/forest/natu611.jpg  \n",
            "  inflating: data/forest/natu634.jpg  \n",
            "  inflating: data/forest/natu696.jpg  \n",
            "  inflating: data/forest/natu707.jpg  \n",
            "  inflating: data/forest/natu72.jpg  \n",
            "  inflating: data/forest/natu723.jpg  \n",
            "  inflating: data/forest/natu794.jpg  \n",
            "  inflating: data/forest/natu846.jpg  \n",
            "  inflating: data/forest/natu847.jpg  \n",
            "  inflating: data/forest/natu848.jpg  \n",
            "  inflating: data/forest/natu850.jpg  \n",
            "  inflating: data/forest/natu860.jpg  \n",
            "  inflating: data/forest/natu863.jpg  \n",
            "  inflating: data/forest/natu866.jpg  \n",
            "  inflating: data/forest/natu869.jpg  \n",
            "  inflating: data/forest/natu870.jpg  \n",
            "  inflating: data/forest/natu871.jpg  \n",
            "  inflating: data/forest/natu895.jpg  \n",
            "  inflating: data/forest/natu898.jpg  \n",
            "  inflating: data/forest/natu913.jpg  \n",
            "  inflating: data/forest/natu934.jpg  \n",
            "  inflating: data/forest/natu949.jpg  \n",
            "  inflating: data/forest/natu977.jpg  \n",
            "  inflating: data/forest/natu994.jpg  \n",
            "  inflating: data/forest/sclos11.jpg  \n",
            "  inflating: data/forest/sclos13.jpg  \n",
            "  inflating: data/forest/tell51.jpg  \n",
            "  inflating: data/forest/text102.jpg  \n",
            "  inflating: data/forest/text103.jpg  \n",
            "  inflating: data/forest/text105.jpg  \n",
            "  inflating: data/forest/text106.jpg  \n",
            "  inflating: data/forest/text107.jpg  \n",
            "  inflating: data/forest/text11.jpg  \n",
            "  inflating: data/forest/text111.jpg  \n",
            "  inflating: data/forest/text119.jpg  \n",
            "  inflating: data/forest/text122.jpg  \n",
            "  inflating: data/forest/text124.jpg  \n",
            "  inflating: data/forest/text13.jpg  \n",
            "  inflating: data/forest/text20.jpg  \n",
            "  inflating: data/forest/text21.jpg  \n",
            "  inflating: data/forest/text26.jpg  \n",
            "  inflating: data/forest/text28.jpg  \n",
            "  inflating: data/forest/text29.jpg  \n",
            "  inflating: data/forest/text35.jpg  \n",
            "  inflating: data/forest/text38.jpg  \n",
            "  inflating: data/forest/text39.jpg  \n",
            "  inflating: data/forest/text40.jpg  \n",
            "  inflating: data/forest/text41.jpg  \n",
            "  inflating: data/forest/text42.jpg  \n",
            "  inflating: data/forest/text43.jpg  \n",
            "  inflating: data/forest/text44.jpg  \n",
            "  inflating: data/forest/text45.jpg  \n",
            "  inflating: data/forest/text46.jpg  \n",
            "  inflating: data/forest/text47.jpg  \n",
            "  inflating: data/forest/text48.jpg  \n",
            "  inflating: data/forest/text49.jpg  \n",
            "  inflating: data/forest/text50.jpg  \n",
            "  inflating: data/forest/text63.jpg  \n",
            "  inflating: data/forest/text75.jpg  \n",
            "  inflating: data/forest/text81.jpg  \n",
            "  inflating: data/forest/text90.jpg  \n",
            "  inflating: data/forest/Thumbs.db   \n",
            "  inflating: data/forest/urb753.jpg  \n",
            "  inflating: data/forest/urb767.jpg  \n",
            "   creating: data/mountain/\n",
            "  inflating: data/mountain/art1131.jpg  \n",
            "  inflating: data/mountain/art1132.jpg  \n",
            "  inflating: data/mountain/cdmc181.jpg  \n",
            "  inflating: data/mountain/cdmc184.jpg  \n",
            "  inflating: data/mountain/cdmc187.jpg  \n",
            "  inflating: data/mountain/gre242.jpg  \n",
            "  inflating: data/mountain/land10.jpg  \n",
            "  inflating: data/mountain/land11.jpg  \n",
            "  inflating: data/mountain/land13.jpg  \n",
            "  inflating: data/mountain/land130.jpg  \n",
            "  inflating: data/mountain/land131.jpg  \n",
            "  inflating: data/mountain/land132.jpg  \n",
            "  inflating: data/mountain/land142.jpg  \n",
            "  inflating: data/mountain/land143.jpg  \n",
            "  inflating: data/mountain/land145.jpg  \n",
            "  inflating: data/mountain/land15.jpg  \n",
            "  inflating: data/mountain/land150.jpg  \n",
            "  inflating: data/mountain/land153.jpg  \n",
            "  inflating: data/mountain/land16.jpg  \n",
            "  inflating: data/mountain/land161.jpg  \n",
            "  inflating: data/mountain/land165.jpg  \n",
            "  inflating: data/mountain/land17.jpg  \n",
            "  inflating: data/mountain/land172.jpg  \n",
            "  inflating: data/mountain/land179.jpg  \n",
            "  inflating: data/mountain/land18.jpg  \n",
            "  inflating: data/mountain/land180.jpg  \n",
            "  inflating: data/mountain/land188.jpg  \n",
            "  inflating: data/mountain/land189.jpg  \n",
            "  inflating: data/mountain/land196.jpg  \n",
            "  inflating: data/mountain/land197.jpg  \n",
            "  inflating: data/mountain/land198.jpg  \n",
            "  inflating: data/mountain/land201.jpg  \n",
            "  inflating: data/mountain/land210.jpg  \n",
            "  inflating: data/mountain/land22.jpg  \n",
            "  inflating: data/mountain/land223.jpg  \n",
            "  inflating: data/mountain/land225.jpg  \n",
            "  inflating: data/mountain/land230.jpg  \n",
            "  inflating: data/mountain/land26.jpg  \n",
            "  inflating: data/mountain/land260.jpg  \n",
            "  inflating: data/mountain/land27.jpg  \n",
            "  inflating: data/mountain/land275.jpg  \n",
            "  inflating: data/mountain/land278.jpg  \n",
            "  inflating: data/mountain/land28.jpg  \n",
            "  inflating: data/mountain/land280.jpg  \n",
            "  inflating: data/mountain/land281.jpg  \n",
            "  inflating: data/mountain/land286.jpg  \n",
            "  inflating: data/mountain/land30.jpg  \n",
            "  inflating: data/mountain/land315.jpg  \n",
            "  inflating: data/mountain/land318.jpg  \n",
            "  inflating: data/mountain/land319.jpg  \n",
            "  inflating: data/mountain/land33.jpg  \n",
            "  inflating: data/mountain/land331.jpg  \n",
            "  inflating: data/mountain/land387.jpg  \n",
            "  inflating: data/mountain/land4.jpg  \n",
            "  inflating: data/mountain/land465.jpg  \n",
            "  inflating: data/mountain/land471.jpg  \n",
            "  inflating: data/mountain/land475.jpg  \n",
            "  inflating: data/mountain/land479.jpg  \n",
            "  inflating: data/mountain/land6.jpg  \n",
            "  inflating: data/mountain/land619.jpg  \n",
            "  inflating: data/mountain/land644.jpg  \n",
            "  inflating: data/mountain/land680.jpg  \n",
            "  inflating: data/mountain/land716.jpg  \n",
            "  inflating: data/mountain/land763.jpg  \n",
            "  inflating: data/mountain/land775.jpg  \n",
            "  inflating: data/mountain/land778.jpg  \n",
            "  inflating: data/mountain/land780.jpg  \n",
            "  inflating: data/mountain/land787.jpg  \n",
            "  inflating: data/mountain/land879.jpg  \n",
            "  inflating: data/mountain/land880.jpg  \n",
            "  inflating: data/mountain/land886.jpg  \n",
            "  inflating: data/mountain/land917.jpg  \n",
            "  inflating: data/mountain/moun1.jpg  \n",
            "  inflating: data/mountain/moun10.jpg  \n",
            "  inflating: data/mountain/moun13.jpg  \n",
            "  inflating: data/mountain/moun14.jpg  \n",
            "  inflating: data/mountain/moun27.jpg  \n",
            "  inflating: data/mountain/moun32.jpg  \n",
            "  inflating: data/mountain/moun37.jpg  \n",
            "  inflating: data/mountain/moun38.jpg  \n",
            "  inflating: data/mountain/moun41.jpg  \n",
            "  inflating: data/mountain/moun44.jpg  \n",
            "  inflating: data/mountain/n18009.jpg  \n",
            "  inflating: data/mountain/n18019.jpg  \n",
            "  inflating: data/mountain/n18021.jpg  \n",
            "  inflating: data/mountain/n18022.jpg  \n",
            "  inflating: data/mountain/n18023.jpg  \n",
            "  inflating: data/mountain/n18024.jpg  \n",
            "  inflating: data/mountain/n18028.jpg  \n",
            "  inflating: data/mountain/n18036.jpg  \n",
            "  inflating: data/mountain/n18039.jpg  \n",
            "  inflating: data/mountain/n18044.jpg  \n",
            "  inflating: data/mountain/n18058.jpg  \n",
            "  inflating: data/mountain/n18069.jpg  \n",
            "  inflating: data/mountain/n18070.jpg  \n",
            "  inflating: data/mountain/n18071.jpg  \n",
            "  inflating: data/mountain/n199004.jpg  \n",
            "  inflating: data/mountain/n199015.jpg  \n",
            "  inflating: data/mountain/n199031.jpg  \n",
            "  inflating: data/mountain/n199073.jpg  \n",
            "  inflating: data/mountain/n199074.jpg  \n",
            "  inflating: data/mountain/n199075.jpg  \n",
            "  inflating: data/mountain/n199080.jpg  \n",
            "  inflating: data/mountain/n199089.jpg  \n",
            "  inflating: data/mountain/n213005.jpg  \n",
            "  inflating: data/mountain/n213007.jpg  \n",
            "  inflating: data/mountain/n213009.jpg  \n",
            "  inflating: data/mountain/n213021.jpg  \n",
            "  inflating: data/mountain/n213031.jpg  \n",
            "  inflating: data/mountain/n213034.jpg  \n",
            "  inflating: data/mountain/n213035.jpg  \n",
            "  inflating: data/mountain/n213041.jpg  \n",
            "  inflating: data/mountain/n213048.jpg  \n",
            "  inflating: data/mountain/n213049.jpg  \n",
            "  inflating: data/mountain/n213052.jpg  \n",
            "  inflating: data/mountain/n213053.jpg  \n",
            "  inflating: data/mountain/n213056.jpg  \n",
            "  inflating: data/mountain/n213065.jpg  \n",
            "  inflating: data/mountain/n213066.jpg  \n",
            "  inflating: data/mountain/n213075.jpg  \n",
            "  inflating: data/mountain/n213080.jpg  \n",
            "  inflating: data/mountain/n213081.jpg  \n",
            "  inflating: data/mountain/n213085.jpg  \n",
            "  inflating: data/mountain/n213086.jpg  \n",
            "  inflating: data/mountain/n213092.jpg  \n",
            "  inflating: data/mountain/n213093.jpg  \n",
            "  inflating: data/mountain/n213094.jpg  \n",
            "  inflating: data/mountain/n213095.jpg  \n",
            "  inflating: data/mountain/n213096.jpg  \n",
            "  inflating: data/mountain/n213097.jpg  \n",
            "  inflating: data/mountain/n213098.jpg  \n",
            "  inflating: data/mountain/n219006.jpg  \n",
            "  inflating: data/mountain/n219007.jpg  \n",
            "  inflating: data/mountain/n219008.jpg  \n",
            "  inflating: data/mountain/n219015.jpg  \n",
            "  inflating: data/mountain/n251048.jpg  \n",
            "  inflating: data/mountain/n255008.jpg  \n",
            "  inflating: data/mountain/n255068.jpg  \n",
            "  inflating: data/mountain/n266017.jpg  \n",
            "  inflating: data/mountain/n266018.jpg  \n",
            "  inflating: data/mountain/n266020.jpg  \n",
            "  inflating: data/mountain/n295018.jpg  \n",
            "  inflating: data/mountain/n295039.jpg  \n",
            "  inflating: data/mountain/n295042.jpg  \n",
            "  inflating: data/mountain/n295082.jpg  \n",
            "  inflating: data/mountain/n344019.jpg  \n",
            "  inflating: data/mountain/n344028.jpg  \n",
            "  inflating: data/mountain/n344032.jpg  \n",
            "  inflating: data/mountain/n344042.jpg  \n",
            "  inflating: data/mountain/n344047.jpg  \n",
            "  inflating: data/mountain/n344053.jpg  \n",
            "  inflating: data/mountain/n344059.jpg  \n",
            "  inflating: data/mountain/n344062.jpg  \n",
            "  inflating: data/mountain/n344076.jpg  \n",
            "  inflating: data/mountain/n344080.jpg  \n",
            "  inflating: data/mountain/n344082.jpg  \n",
            "  inflating: data/mountain/n347049.jpg  \n",
            "  inflating: data/mountain/n347051.jpg  \n",
            "  inflating: data/mountain/n347077.jpg  \n",
            "  inflating: data/mountain/n347078.jpg  \n",
            "  inflating: data/mountain/n371063.jpg  \n",
            "  inflating: data/mountain/n371066.jpg  \n",
            "  inflating: data/mountain/n371071.jpg  \n",
            "  inflating: data/mountain/n371076.jpg  \n",
            "  inflating: data/mountain/n371077.jpg  \n",
            "  inflating: data/mountain/n392087.jpg  \n",
            "  inflating: data/mountain/n392090.jpg  \n",
            "  inflating: data/mountain/n405000.jpg  \n",
            "  inflating: data/mountain/n405023.jpg  \n",
            "  inflating: data/mountain/n405030.jpg  \n",
            "  inflating: data/mountain/n405055.jpg  \n",
            "  inflating: data/mountain/n44001.jpg  \n",
            "  inflating: data/mountain/n44002.jpg  \n",
            "  inflating: data/mountain/n44003.jpg  \n",
            "  inflating: data/mountain/n44004.jpg  \n",
            "  inflating: data/mountain/n44009.jpg  \n",
            "  inflating: data/mountain/n44031.jpg  \n",
            "  inflating: data/mountain/n44062.jpg  \n",
            "  inflating: data/mountain/n480098.jpg  \n",
            "  inflating: data/mountain/n510071.jpg  \n",
            "  inflating: data/mountain/n531080.jpg  \n",
            "  inflating: data/mountain/n603007.jpg  \n",
            "  inflating: data/mountain/n603032.jpg  \n",
            "  inflating: data/mountain/n603040.jpg  \n",
            "  inflating: data/mountain/n603048.jpg  \n",
            "  inflating: data/mountain/n632073.jpg  \n",
            "  inflating: data/mountain/n736011.jpg  \n",
            "  inflating: data/mountain/n736023.jpg  \n",
            "  inflating: data/mountain/n736026.jpg  \n",
            "  inflating: data/mountain/n736029.jpg  \n",
            "  inflating: data/mountain/n737027.jpg  \n",
            "  inflating: data/mountain/n737041.jpg  \n",
            "  inflating: data/mountain/n737049.jpg  \n",
            "  inflating: data/mountain/n738012.jpg  \n",
            "  inflating: data/mountain/n738013.jpg  \n",
            "  inflating: data/mountain/n841058.jpg  \n",
            "  inflating: data/mountain/n841059.jpg  \n",
            "  inflating: data/mountain/n841060.jpg  \n",
            "  inflating: data/mountain/n860034.jpg  \n",
            "  inflating: data/mountain/n860054.jpg  \n",
            "  inflating: data/mountain/n860061.jpg  \n",
            "  inflating: data/mountain/nat1003.jpg  \n",
            "  inflating: data/mountain/nat1008.jpg  \n",
            "  inflating: data/mountain/nat1017.jpg  \n",
            "  inflating: data/mountain/nat1046.jpg  \n",
            "  inflating: data/mountain/nat1062.jpg  \n",
            "  inflating: data/mountain/nat1064.jpg  \n",
            "  inflating: data/mountain/nat1084.jpg  \n",
            "  inflating: data/mountain/nat1093.jpg  \n",
            "  inflating: data/mountain/nat1094.jpg  \n",
            "  inflating: data/mountain/nat11.jpg  \n",
            "  inflating: data/mountain/nat1114.jpg  \n",
            "  inflating: data/mountain/nat1135.jpg  \n",
            "  inflating: data/mountain/nat1136.jpg  \n",
            "  inflating: data/mountain/nat1142.jpg  \n",
            "  inflating: data/mountain/nat116.jpg  \n",
            "  inflating: data/mountain/nat117.jpg  \n",
            "  inflating: data/mountain/nat1207.jpg  \n",
            "  inflating: data/mountain/nat122.jpg  \n",
            "  inflating: data/mountain/nat1231.jpg  \n",
            "  inflating: data/mountain/nat1232.jpg  \n",
            "  inflating: data/mountain/nat1234.jpg  \n",
            "  inflating: data/mountain/nat1236.jpg  \n",
            "  inflating: data/mountain/nat14.jpg  \n",
            "  inflating: data/mountain/nat17.jpg  \n",
            "  inflating: data/mountain/nat199.jpg  \n",
            "  inflating: data/mountain/nat25.jpg  \n",
            "  inflating: data/mountain/nat28.jpg  \n",
            "  inflating: data/mountain/nat29.jpg  \n",
            "  inflating: data/mountain/nat30.jpg  \n",
            "  inflating: data/mountain/nat316.jpg  \n",
            "  inflating: data/mountain/nat317.jpg  \n",
            "  inflating: data/mountain/nat332.jpg  \n",
            "  inflating: data/mountain/nat340.jpg  \n",
            "  inflating: data/mountain/nat346.jpg  \n",
            "  inflating: data/mountain/nat36.jpg  \n",
            "  inflating: data/mountain/nat37.jpg  \n",
            "  inflating: data/mountain/nat38.jpg  \n",
            "  inflating: data/mountain/nat391.jpg  \n",
            "  inflating: data/mountain/nat409.jpg  \n",
            "  inflating: data/mountain/nat41.jpg  \n",
            "  inflating: data/mountain/nat42.jpg  \n",
            "  inflating: data/mountain/nat426.jpg  \n",
            "  inflating: data/mountain/nat427.jpg  \n",
            "  inflating: data/mountain/nat43.jpg  \n",
            "  inflating: data/mountain/nat433.jpg  \n",
            "  inflating: data/mountain/nat445.jpg  \n",
            "  inflating: data/mountain/nat481.jpg  \n",
            "  inflating: data/mountain/nat485.jpg  \n",
            "  inflating: data/mountain/nat49.jpg  \n",
            "  inflating: data/mountain/nat494.jpg  \n",
            "  inflating: data/mountain/nat51.jpg  \n",
            "  inflating: data/mountain/nat53.jpg  \n",
            "  inflating: data/mountain/nat54.jpg  \n",
            "  inflating: data/mountain/nat55.jpg  \n",
            "  inflating: data/mountain/nat56.jpg  \n",
            "  inflating: data/mountain/nat57.jpg  \n",
            "  inflating: data/mountain/nat59.jpg  \n",
            "  inflating: data/mountain/nat67.jpg  \n",
            "  inflating: data/mountain/nat681.jpg  \n",
            "  inflating: data/mountain/nat682.jpg  \n",
            "  inflating: data/mountain/nat686.jpg  \n",
            "  inflating: data/mountain/nat688.jpg  \n",
            "  inflating: data/mountain/nat693.jpg  \n",
            "  inflating: data/mountain/nat73.jpg  \n",
            "  inflating: data/mountain/nat74.jpg  \n",
            "  inflating: data/mountain/nat752.jpg  \n",
            "  inflating: data/mountain/nat758.jpg  \n",
            "  inflating: data/mountain/nat760.jpg  \n",
            "  inflating: data/mountain/nat762.jpg  \n",
            "  inflating: data/mountain/nat77.jpg  \n",
            "  inflating: data/mountain/nat78.jpg  \n",
            "  inflating: data/mountain/nat783.jpg  \n",
            "  inflating: data/mountain/nat79.jpg  \n",
            "  inflating: data/mountain/nat80.jpg  \n",
            "  inflating: data/mountain/nat801.jpg  \n",
            "  inflating: data/mountain/nat82.jpg  \n",
            "  inflating: data/mountain/nat826.jpg  \n",
            "  inflating: data/mountain/nat84.jpg  \n",
            "  inflating: data/mountain/nat87.jpg  \n",
            "  inflating: data/mountain/nat876.jpg  \n",
            "  inflating: data/mountain/nat88.jpg  \n",
            "  inflating: data/mountain/nat884.jpg  \n",
            "  inflating: data/mountain/nat891.jpg  \n",
            "  inflating: data/mountain/nat91.jpg  \n",
            "  inflating: data/mountain/nat92.jpg  \n",
            "  inflating: data/mountain/nat93.jpg  \n",
            "  inflating: data/mountain/nat99.jpg  \n",
            "  inflating: data/mountain/natu102.jpg  \n",
            "  inflating: data/mountain/natu105.jpg  \n",
            "  inflating: data/mountain/natu457.jpg  \n",
            "  inflating: data/mountain/natu458.jpg  \n",
            "  inflating: data/mountain/natu460.jpg  \n",
            "  inflating: data/mountain/natu461.jpg  \n",
            "  inflating: data/mountain/natu466.jpg  \n",
            "  inflating: data/mountain/natu474.jpg  \n",
            "  inflating: data/mountain/natu568.jpg  \n",
            "  inflating: data/mountain/natu655.jpg  \n",
            "  inflating: data/mountain/natu668.jpg  \n",
            "  inflating: data/mountain/natu687.jpg  \n",
            "  inflating: data/mountain/natu697.jpg  \n",
            "  inflating: data/mountain/natu699.jpg  \n",
            "  inflating: data/mountain/natu742.jpg  \n",
            "  inflating: data/mountain/natu749.jpg  \n",
            "  inflating: data/mountain/natu750.jpg  \n",
            "  inflating: data/mountain/natu756.jpg  \n",
            "  inflating: data/mountain/natu762.jpg  \n",
            "  inflating: data/mountain/natu763.jpg  \n",
            "  inflating: data/mountain/natu766.jpg  \n",
            "  inflating: data/mountain/natu783.jpg  \n",
            "  inflating: data/mountain/natu786.jpg  \n",
            "  inflating: data/mountain/natu875.jpg  \n",
            "  inflating: data/mountain/natu894.jpg  \n",
            "  inflating: data/mountain/natu974.jpg  \n",
            "  inflating: data/mountain/natu997.jpg  \n",
            "  inflating: data/mountain/sclos4.jpg  \n",
            "  inflating: data/mountain/sharp10.jpg  \n",
            "  inflating: data/mountain/sharp11.jpg  \n",
            "  inflating: data/mountain/sharp12.jpg  \n",
            "  inflating: data/mountain/sharp13.jpg  \n",
            "  inflating: data/mountain/sharp16.jpg  \n",
            "  inflating: data/mountain/sharp18.jpg  \n",
            "  inflating: data/mountain/sharp19.jpg  \n",
            "  inflating: data/mountain/sharp20.jpg  \n",
            "  inflating: data/mountain/sharp21.jpg  \n",
            "  inflating: data/mountain/sharp22.jpg  \n",
            "  inflating: data/mountain/sharp27.jpg  \n",
            "  inflating: data/mountain/sharp29.jpg  \n",
            "  inflating: data/mountain/sharp30.jpg  \n",
            "  inflating: data/mountain/sharp32.jpg  \n",
            "  inflating: data/mountain/sharp33.jpg  \n",
            "  inflating: data/mountain/sharp34.jpg  \n",
            "  inflating: data/mountain/sharp38.jpg  \n",
            "  inflating: data/mountain/sharp40.jpg  \n",
            "  inflating: data/mountain/sharp41.jpg  \n",
            "  inflating: data/mountain/sharp42.jpg  \n",
            "  inflating: data/mountain/sharp43.jpg  \n",
            "  inflating: data/mountain/sharp44.jpg  \n",
            "  inflating: data/mountain/sharp45.jpg  \n",
            "  inflating: data/mountain/sharp46.jpg  \n",
            "  inflating: data/mountain/sharp47.jpg  \n",
            "  inflating: data/mountain/sharp48.jpg  \n",
            "  inflating: data/mountain/sharp5.jpg  \n",
            "  inflating: data/mountain/sharp52.jpg  \n",
            "  inflating: data/mountain/sharp53.jpg  \n",
            "  inflating: data/mountain/sharp54.jpg  \n",
            "  inflating: data/mountain/sharp59.jpg  \n",
            "  inflating: data/mountain/sharp60.jpg  \n",
            "  inflating: data/mountain/sharp61.jpg  \n",
            "  inflating: data/mountain/sharp63.jpg  \n",
            "  inflating: data/mountain/sharp66.jpg  \n",
            "  inflating: data/mountain/sharp67.jpg  \n",
            "  inflating: data/mountain/sharp68.jpg  \n",
            "  inflating: data/mountain/sharp69.jpg  \n",
            "  inflating: data/mountain/sharp70.jpg  \n",
            "  inflating: data/mountain/sharp71.jpg  \n",
            "  inflating: data/mountain/sharp72.jpg  \n",
            "  inflating: data/mountain/sharp73.jpg  \n",
            "  inflating: data/mountain/sharp74.jpg  \n",
            "  inflating: data/mountain/sharp78.jpg  \n",
            "  inflating: data/mountain/sharp91.jpg  \n",
            "  inflating: data/mountain/sharp92.jpg  \n",
            "  inflating: data/mountain/sharp96.jpg  \n",
            "  inflating: data/mountain/sharp98.jpg  \n",
            "  inflating: data/mountain/ski24.jpg  \n",
            "  inflating: data/mountain/ski5.jpg  \n",
            "  inflating: data/mountain/ski57.jpg  \n",
            "  inflating: data/mountain/ski61.jpg  \n",
            "  inflating: data/mountain/ski62.jpg  \n",
            "  inflating: data/mountain/ski65.jpg  \n",
            "  inflating: data/mountain/ski69.jpg  \n",
            "  inflating: data/mountain/ski72.jpg  \n",
            "  inflating: data/mountain/sopen16.jpg  \n",
            "  inflating: data/mountain/sopen24.jpg  \n",
            "  inflating: data/mountain/Thumbs.db  \n"
          ],
          "name": "stdout"
        }
      ]
    },
    {
      "cell_type": "code",
      "metadata": {
        "id": "YsRlbK098CXL",
        "colab_type": "code",
        "colab": {}
      },
      "source": [
        "import os\n",
        "# from PIL import Image\n",
        "\n",
        "\n",
        "images = list()\n",
        "labels = list()\n",
        "\n",
        "for folder in os.listdir('./data'):\n",
        "  for file in os.listdir('./data/'+folder):\n",
        "    if file[-3:] == 'jpg':\n",
        "      path = os.path.join('./data', folder, file)\n",
        "      image = io.imread(path)\n",
        "      images.append(image)\n",
        "      labels.append(folder)"
      ],
      "execution_count": 0,
      "outputs": []
    },
    {
      "cell_type": "code",
      "metadata": {
        "id": "wLxxNmLTAfpO",
        "colab_type": "code",
        "outputId": "0d1320d8-907b-4c27-d322-f1bffae19035",
        "colab": {
          "base_uri": "https://localhost:8080/",
          "height": 286
        }
      },
      "source": [
        "# testing an image\n",
        "plt.imshow(images[50])"
      ],
      "execution_count": 0,
      "outputs": [
        {
          "output_type": "execute_result",
          "data": {
            "text/plain": [
              "<matplotlib.image.AxesImage at 0x7f9180870390>"
            ]
          },
          "metadata": {
            "tags": []
          },
          "execution_count": 10
        },
        {
          "output_type": "display_data",
          "data": {
            "image/png": "[encoded data removed]",
            "text/plain": [
              "<Figure size 432x288 with 1 Axes>"
            ]
          },
          "metadata": {
            "tags": []
          }
        }
      ]
    },
    {
      "cell_type": "code",
      "metadata": {
        "id": "ctf5-UuiAsut",
        "colab_type": "code",
        "outputId": "af42fd4c-ebf6-42ea-81a3-ecf3a0e513d8",
        "colab": {
          "base_uri": "https://localhost:8080/",
          "height": 34
        }
      },
      "source": [
        "# checking label\n",
        "print(labels[50])"
      ],
      "execution_count": 0,
      "outputs": [
        {
          "output_type": "stream",
          "text": [
            "mountain\n"
          ],
          "name": "stdout"
        }
      ]
    },
    {
      "cell_type": "code",
      "metadata": {
        "id": "YROAtze9BA0B",
        "colab_type": "code",
        "outputId": "37868c2d-5fdb-4148-96f0-de4166e36286",
        "colab": {
          "base_uri": "https://localhost:8080/",
          "height": 286
        }
      },
      "source": [
        "# testing another image\n",
        "plt.imshow(images[-1])"
      ],
      "execution_count": 0,
      "outputs": [
        {
          "output_type": "execute_result",
          "data": {
            "text/plain": [
              "<matplotlib.image.AxesImage at 0x7f917f320898>"
            ]
          },
          "metadata": {
            "tags": []
          },
          "execution_count": 13
        },
        {
          "output_type": "display_data",
          "data": {
            "image/png": "[encoded data removed]",
            "text/plain": [
              "<Figure size 432x288 with 1 Axes>"
            ]
          },
          "metadata": {
            "tags": []
          }
        }
      ]
    },
    {
      "cell_type": "code",
      "metadata": {
        "id": "_WK_AoWkBKgl",
        "colab_type": "code",
        "outputId": "94bcf429-30ca-47de-8b28-29a7c447da20",
        "colab": {
          "base_uri": "https://localhost:8080/",
          "height": 34
        }
      },
      "source": [
        "# checking label\n",
        "print(labels[-1])"
      ],
      "execution_count": 0,
      "outputs": [
        {
          "output_type": "stream",
          "text": [
            "forest\n"
          ],
          "name": "stdout"
        }
      ]
    },
    {
      "cell_type": "code",
      "metadata": {
        "id": "aUSxWcmIBO20",
        "colab_type": "code",
        "colab": {}
      },
      "source": [
        "# forest = 0\n",
        "# mountain = 1\n",
        "\n",
        "# Create a y for the labels\n",
        "\n",
        "binary_class = list()\n",
        "\n",
        "for label in labels:\n",
        "  if label == 'forest':\n",
        "    binary_class.append(0)\n",
        "  else:\n",
        "    binary_class.append(1)"
      ],
      "execution_count": 0,
      "outputs": []
    },
    {
      "cell_type": "code",
      "metadata": {
        "id": "R79k57cR6Ok2",
        "colab_type": "code",
        "outputId": "1f0bda51-abad-4df7-9c49-afd1fec18726",
        "colab": {
          "base_uri": "https://localhost:8080/",
          "height": 34
        }
      },
      "source": [
        "type(binary_class)"
      ],
      "execution_count": 0,
      "outputs": [
        {
          "output_type": "execute_result",
          "data": {
            "text/plain": [
              "list"
            ]
          },
          "metadata": {
            "tags": []
          },
          "execution_count": 22
        }
      ]
    },
    {
      "cell_type": "code",
      "metadata": {
        "id": "hUlgLfuyC80b",
        "colab_type": "code",
        "outputId": "d547fb60-e788-4061-be66-f1f43475bdfa",
        "colab": {
          "base_uri": "https://localhost:8080/",
          "height": 34
        }
      },
      "source": [
        "images_arrays = [np.asarray(i) for i in images]\n",
        "type(images_arrays[0])"
      ],
      "execution_count": 0,
      "outputs": [
        {
          "output_type": "execute_result",
          "data": {
            "text/plain": [
              "numpy.ndarray"
            ]
          },
          "metadata": {
            "tags": []
          },
          "execution_count": 10
        }
      ]
    },
    {
      "cell_type": "code",
      "metadata": {
        "id": "MPINDG5ZTy9a",
        "colab_type": "code",
        "outputId": "3237c3d9-31f2-4806-8431-83870e1fbe2d",
        "colab": {
          "base_uri": "https://localhost:8080/",
          "height": 34
        }
      },
      "source": [
        "type(images_arrays)"
      ],
      "execution_count": 0,
      "outputs": [
        {
          "output_type": "execute_result",
          "data": {
            "text/plain": [
              "list"
            ]
          },
          "metadata": {
            "tags": []
          },
          "execution_count": 11
        }
      ]
    },
    {
      "cell_type": "code",
      "metadata": {
        "id": "CUe4KJy8T5qS",
        "colab_type": "code",
        "colab": {}
      },
      "source": [
        "# Normalize values\n",
        "\n",
        "images_arrays = np.array(images_arrays)"
      ],
      "execution_count": 0,
      "outputs": []
    },
    {
      "cell_type": "code",
      "metadata": {
        "id": "s0ySgFFn4eHT",
        "colab_type": "code",
        "colab": {}
      },
      "source": [
        "images_arrays = images_arrays / 255"
      ],
      "execution_count": 0,
      "outputs": []
    },
    {
      "cell_type": "code",
      "metadata": {
        "id": "Jv_kGq6kwB5R",
        "colab_type": "code",
        "outputId": "9056e25e-1e12-4ee6-ff55-7d483a59b62b",
        "colab": {
          "base_uri": "https://localhost:8080/",
          "height": 887
        }
      },
      "source": [
        "images_arrays[0]"
      ],
      "execution_count": 0,
      "outputs": [
        {
          "output_type": "execute_result",
          "data": {
            "text/plain": [
              "array([[[0.01176471, 0.29019608, 0.64313725],\n",
              "        [0.01568627, 0.29019608, 0.63529412],\n",
              "        [0.02352941, 0.28627451, 0.62745098],\n",
              "        ...,\n",
              "        [0.75294118, 0.77647059, 0.76078431],\n",
              "        [0.63137255, 0.65490196, 0.63921569],\n",
              "        [0.51372549, 0.5372549 , 0.52156863]],\n",
              "\n",
              "       [[0.01568627, 0.29019608, 0.63529412],\n",
              "        [0.01568627, 0.29019608, 0.63529412],\n",
              "        [0.01568627, 0.29019608, 0.63529412],\n",
              "        ...,\n",
              "        [0.76470588, 0.78823529, 0.77254902],\n",
              "        [0.75686275, 0.78039216, 0.76470588],\n",
              "        [0.76470588, 0.78823529, 0.77254902]],\n",
              "\n",
              "       [[0.02745098, 0.29019608, 0.63137255],\n",
              "        [0.01568627, 0.29019608, 0.63529412],\n",
              "        [0.01176471, 0.29019608, 0.64313725],\n",
              "        ...,\n",
              "        [0.69803922, 0.72156863, 0.70588235],\n",
              "        [0.70588235, 0.72941176, 0.71372549],\n",
              "        [0.73333333, 0.75686275, 0.74117647]],\n",
              "\n",
              "       ...,\n",
              "\n",
              "       [[0.4745098 , 0.62352941, 0.71372549],\n",
              "        [0.4745098 , 0.62352941, 0.71372549],\n",
              "        [0.47843137, 0.62745098, 0.71764706],\n",
              "        ...,\n",
              "        [0.43529412, 0.57647059, 0.6627451 ],\n",
              "        [0.42745098, 0.56862745, 0.65490196],\n",
              "        [0.42352941, 0.56470588, 0.65098039]],\n",
              "\n",
              "       [[0.47843137, 0.62745098, 0.71764706],\n",
              "        [0.47843137, 0.62745098, 0.71764706],\n",
              "        [0.48235294, 0.63137255, 0.72156863],\n",
              "        ...,\n",
              "        [0.42352941, 0.56078431, 0.64705882],\n",
              "        [0.42352941, 0.56078431, 0.64705882],\n",
              "        [0.41960784, 0.55686275, 0.64313725]],\n",
              "\n",
              "       [[0.49019608, 0.63921569, 0.72941176],\n",
              "        [0.49019608, 0.63921569, 0.72941176],\n",
              "        [0.49411765, 0.64313725, 0.73333333],\n",
              "        ...,\n",
              "        [0.4       , 0.5372549 , 0.62352941],\n",
              "        [0.40392157, 0.54117647, 0.62745098],\n",
              "        [0.4       , 0.5372549 , 0.62352941]]])"
            ]
          },
          "metadata": {
            "tags": []
          },
          "execution_count": 48
        }
      ]
    },
    {
      "cell_type": "code",
      "metadata": {
        "id": "9tqwFsPxDzaC",
        "colab_type": "code",
        "outputId": "1522854d-519d-45f7-f1b9-e6638024cea3",
        "colab": {
          "base_uri": "https://localhost:8080/",
          "height": 1000
        }
      },
      "source": [
        "# freeze resnet layers\n",
        "for layer in resnet.layers:\n",
        "    layer.trainable = False\n",
        "\n",
        "x = resnet.output\n",
        "x = GlobalAveragePooling2D()(x) # This layer is a really fancy flatten\n",
        "x = Dense(1024, activation='relu')(x)\n",
        "predictions = Dense(2, activation='sigmoid')(x)\n",
        "model = Model(resnet.input, predictions)\n",
        "\n",
        "model.summary()"
      ],
      "execution_count": 0,
      "outputs": [
        {
          "output_type": "stream",
          "text": [
            "Model: \"model\"\n",
            "__________________________________________________________________________________________________\n",
            "Layer (type)                    Output Shape         Param #     Connected to                     \n",
            "==================================================================================================\n",
            "input_2 (InputLayer)            [(None, None, None,  0                                            \n",
            "__________________________________________________________________________________________________\n",
            "conv1_pad (ZeroPadding2D)       (None, None, None, 3 0           input_2[0][0]                    \n",
            "__________________________________________________________________________________________________\n",
            "conv1_conv (Conv2D)             (None, None, None, 6 9472        conv1_pad[0][0]                  \n",
            "__________________________________________________________________________________________________\n",
            "conv1_bn (BatchNormalization)   (None, None, None, 6 256         conv1_conv[0][0]                 \n",
            "__________________________________________________________________________________________________\n",
            "conv1_relu (Activation)         (None, None, None, 6 0           conv1_bn[0][0]                   \n",
            "__________________________________________________________________________________________________\n",
            "pool1_pad (ZeroPadding2D)       (None, None, None, 6 0           conv1_relu[0][0]                 \n",
            "__________________________________________________________________________________________________\n",
            "pool1_pool (MaxPooling2D)       (None, None, None, 6 0           pool1_pad[0][0]                  \n",
            "__________________________________________________________________________________________________\n",
            "conv2_block1_1_conv (Conv2D)    (None, None, None, 6 4160        pool1_pool[0][0]                 \n",
            "__________________________________________________________________________________________________\n",
            "conv2_block1_1_bn (BatchNormali (None, None, None, 6 256         conv2_block1_1_conv[0][0]        \n",
            "__________________________________________________________________________________________________\n",
            "conv2_block1_1_relu (Activation (None, None, None, 6 0           conv2_block1_1_bn[0][0]          \n",
            "__________________________________________________________________________________________________\n",
            "conv2_block1_2_conv (Conv2D)    (None, None, None, 6 36928       conv2_block1_1_relu[0][0]        \n",
            "__________________________________________________________________________________________________\n",
            "conv2_block1_2_bn (BatchNormali (None, None, None, 6 256         conv2_block1_2_conv[0][0]        \n",
            "__________________________________________________________________________________________________\n",
            "conv2_block1_2_relu (Activation (None, None, None, 6 0           conv2_block1_2_bn[0][0]          \n",
            "__________________________________________________________________________________________________\n",
            "conv2_block1_0_conv (Conv2D)    (None, None, None, 2 16640       pool1_pool[0][0]                 \n",
            "__________________________________________________________________________________________________\n",
            "conv2_block1_3_conv (Conv2D)    (None, None, None, 2 16640       conv2_block1_2_relu[0][0]        \n",
            "__________________________________________________________________________________________________\n",
            "conv2_block1_0_bn (BatchNormali (None, None, None, 2 1024        conv2_block1_0_conv[0][0]        \n",
            "__________________________________________________________________________________________________\n",
            "conv2_block1_3_bn (BatchNormali (None, None, None, 2 1024        conv2_block1_3_conv[0][0]        \n",
            "__________________________________________________________________________________________________\n",
            "conv2_block1_add (Add)          (None, None, None, 2 0           conv2_block1_0_bn[0][0]          \n",
            "                                                                 conv2_block1_3_bn[0][0]          \n",
            "__________________________________________________________________________________________________\n",
            "conv2_block1_out (Activation)   (None, None, None, 2 0           conv2_block1_add[0][0]           \n",
            "__________________________________________________________________________________________________\n",
            "conv2_block2_1_conv (Conv2D)    (None, None, None, 6 16448       conv2_block1_out[0][0]           \n",
            "__________________________________________________________________________________________________\n",
            "conv2_block2_1_bn (BatchNormali (None, None, None, 6 256         conv2_block2_1_conv[0][0]        \n",
            "__________________________________________________________________________________________________\n",
            "conv2_block2_1_relu (Activation (None, None, None, 6 0           conv2_block2_1_bn[0][0]          \n",
            "__________________________________________________________________________________________________\n",
            "conv2_block2_2_conv (Conv2D)    (None, None, None, 6 36928       conv2_block2_1_relu[0][0]        \n",
            "__________________________________________________________________________________________________\n",
            "conv2_block2_2_bn (BatchNormali (None, None, None, 6 256         conv2_block2_2_conv[0][0]        \n",
            "__________________________________________________________________________________________________\n",
            "conv2_block2_2_relu (Activation (None, None, None, 6 0           conv2_block2_2_bn[0][0]          \n",
            "__________________________________________________________________________________________________\n",
            "conv2_block2_3_conv (Conv2D)    (None, None, None, 2 16640       conv2_block2_2_relu[0][0]        \n",
            "__________________________________________________________________________________________________\n",
            "conv2_block2_3_bn (BatchNormali (None, None, None, 2 1024        conv2_block2_3_conv[0][0]        \n",
            "__________________________________________________________________________________________________\n",
            "conv2_block2_add (Add)          (None, None, None, 2 0           conv2_block1_out[0][0]           \n",
            "                                                                 conv2_block2_3_bn[0][0]          \n",
            "__________________________________________________________________________________________________\n",
            "conv2_block2_out (Activation)   (None, None, None, 2 0           conv2_block2_add[0][0]           \n",
            "__________________________________________________________________________________________________\n",
            "conv2_block3_1_conv (Conv2D)    (None, None, None, 6 16448       conv2_block2_out[0][0]           \n",
            "__________________________________________________________________________________________________\n",
            "conv2_block3_1_bn (BatchNormali (None, None, None, 6 256         conv2_block3_1_conv[0][0]        \n",
            "__________________________________________________________________________________________________\n",
            "conv2_block3_1_relu (Activation (None, None, None, 6 0           conv2_block3_1_bn[0][0]          \n",
            "__________________________________________________________________________________________________\n",
            "conv2_block3_2_conv (Conv2D)    (None, None, None, 6 36928       conv2_block3_1_relu[0][0]        \n",
            "__________________________________________________________________________________________________\n",
            "conv2_block3_2_bn (BatchNormali (None, None, None, 6 256         conv2_block3_2_conv[0][0]        \n",
            "__________________________________________________________________________________________________\n",
            "conv2_block3_2_relu (Activation (None, None, None, 6 0           conv2_block3_2_bn[0][0]          \n",
            "__________________________________________________________________________________________________\n",
            "conv2_block3_3_conv (Conv2D)    (None, None, None, 2 16640       conv2_block3_2_relu[0][0]        \n",
            "__________________________________________________________________________________________________\n",
            "conv2_block3_3_bn (BatchNormali (None, None, None, 2 1024        conv2_block3_3_conv[0][0]        \n",
            "__________________________________________________________________________________________________\n",
            "conv2_block3_add (Add)          (None, None, None, 2 0           conv2_block2_out[0][0]           \n",
            "                                                                 conv2_block3_3_bn[0][0]          \n",
            "__________________________________________________________________________________________________\n",
            "conv2_block3_out (Activation)   (None, None, None, 2 0           conv2_block3_add[0][0]           \n",
            "__________________________________________________________________________________________________\n",
            "conv3_block1_1_conv (Conv2D)    (None, None, None, 1 32896       conv2_block3_out[0][0]           \n",
            "__________________________________________________________________________________________________\n",
            "conv3_block1_1_bn (BatchNormali (None, None, None, 1 512         conv3_block1_1_conv[0][0]        \n",
            "__________________________________________________________________________________________________\n",
            "conv3_block1_1_relu (Activation (None, None, None, 1 0           conv3_block1_1_bn[0][0]          \n",
            "__________________________________________________________________________________________________\n",
            "conv3_block1_2_conv (Conv2D)    (None, None, None, 1 147584      conv3_block1_1_relu[0][0]        \n",
            "__________________________________________________________________________________________________\n",
            "conv3_block1_2_bn (BatchNormali (None, None, None, 1 512         conv3_block1_2_conv[0][0]        \n",
            "__________________________________________________________________________________________________\n",
            "conv3_block1_2_relu (Activation (None, None, None, 1 0           conv3_block1_2_bn[0][0]          \n",
            "__________________________________________________________________________________________________\n",
            "conv3_block1_0_conv (Conv2D)    (None, None, None, 5 131584      conv2_block3_out[0][0]           \n",
            "__________________________________________________________________________________________________\n",
            "conv3_block1_3_conv (Conv2D)    (None, None, None, 5 66048       conv3_block1_2_relu[0][0]        \n",
            "__________________________________________________________________________________________________\n",
            "conv3_block1_0_bn (BatchNormali (None, None, None, 5 2048        conv3_block1_0_conv[0][0]        \n",
            "__________________________________________________________________________________________________\n",
            "conv3_block1_3_bn (BatchNormali (None, None, None, 5 2048        conv3_block1_3_conv[0][0]        \n",
            "__________________________________________________________________________________________________\n",
            "conv3_block1_add (Add)          (None, None, None, 5 0           conv3_block1_0_bn[0][0]          \n",
            "                                                                 conv3_block1_3_bn[0][0]          \n",
            "__________________________________________________________________________________________________\n",
            "conv3_block1_out (Activation)   (None, None, None, 5 0           conv3_block1_add[0][0]           \n",
            "__________________________________________________________________________________________________\n",
            "conv3_block2_1_conv (Conv2D)    (None, None, None, 1 65664       conv3_block1_out[0][0]           \n",
            "__________________________________________________________________________________________________\n",
            "conv3_block2_1_bn (BatchNormali (None, None, None, 1 512         conv3_block2_1_conv[0][0]        \n",
            "__________________________________________________________________________________________________\n",
            "conv3_block2_1_relu (Activation (None, None, None, 1 0           conv3_block2_1_bn[0][0]          \n",
            "__________________________________________________________________________________________________\n",
            "conv3_block2_2_conv (Conv2D)    (None, None, None, 1 147584      conv3_block2_1_relu[0][0]        \n",
            "__________________________________________________________________________________________________\n",
            "conv3_block2_2_bn (BatchNormali (None, None, None, 1 512         conv3_block2_2_conv[0][0]        \n",
            "__________________________________________________________________________________________________\n",
            "conv3_block2_2_relu (Activation (None, None, None, 1 0           conv3_block2_2_bn[0][0]          \n",
            "__________________________________________________________________________________________________\n",
            "conv3_block2_3_conv (Conv2D)    (None, None, None, 5 66048       conv3_block2_2_relu[0][0]        \n",
            "__________________________________________________________________________________________________\n",
            "conv3_block2_3_bn (BatchNormali (None, None, None, 5 2048        conv3_block2_3_conv[0][0]        \n",
            "__________________________________________________________________________________________________\n",
            "conv3_block2_add (Add)          (None, None, None, 5 0           conv3_block1_out[0][0]           \n",
            "                                                                 conv3_block2_3_bn[0][0]          \n",
            "__________________________________________________________________________________________________\n",
            "conv3_block2_out (Activation)   (None, None, None, 5 0           conv3_block2_add[0][0]           \n",
            "__________________________________________________________________________________________________\n",
            "conv3_block3_1_conv (Conv2D)    (None, None, None, 1 65664       conv3_block2_out[0][0]           \n",
            "__________________________________________________________________________________________________\n",
            "conv3_block3_1_bn (BatchNormali (None, None, None, 1 512         conv3_block3_1_conv[0][0]        \n",
            "__________________________________________________________________________________________________\n",
            "conv3_block3_1_relu (Activation (None, None, None, 1 0           conv3_block3_1_bn[0][0]          \n",
            "__________________________________________________________________________________________________\n",
            "conv3_block3_2_conv (Conv2D)    (None, None, None, 1 147584      conv3_block3_1_relu[0][0]        \n",
            "__________________________________________________________________________________________________\n",
            "conv3_block3_2_bn (BatchNormali (None, None, None, 1 512         conv3_block3_2_conv[0][0]        \n",
            "__________________________________________________________________________________________________\n",
            "conv3_block3_2_relu (Activation (None, None, None, 1 0           conv3_block3_2_bn[0][0]          \n",
            "__________________________________________________________________________________________________\n",
            "conv3_block3_3_conv (Conv2D)    (None, None, None, 5 66048       conv3_block3_2_relu[0][0]        \n",
            "__________________________________________________________________________________________________\n",
            "conv3_block3_3_bn (BatchNormali (None, None, None, 5 2048        conv3_block3_3_conv[0][0]        \n",
            "__________________________________________________________________________________________________\n",
            "conv3_block3_add (Add)          (None, None, None, 5 0           conv3_block2_out[0][0]           \n",
            "                                                                 conv3_block3_3_bn[0][0]          \n",
            "__________________________________________________________________________________________________\n",
            "conv3_block3_out (Activation)   (None, None, None, 5 0           conv3_block3_add[0][0]           \n",
            "__________________________________________________________________________________________________\n",
            "conv3_block4_1_conv (Conv2D)    (None, None, None, 1 65664       conv3_block3_out[0][0]           \n",
            "__________________________________________________________________________________________________\n",
            "conv3_block4_1_bn (BatchNormali (None, None, None, 1 512         conv3_block4_1_conv[0][0]        \n",
            "__________________________________________________________________________________________________\n",
            "conv3_block4_1_relu (Activation (None, None, None, 1 0           conv3_block4_1_bn[0][0]          \n",
            "__________________________________________________________________________________________________\n",
            "conv3_block4_2_conv (Conv2D)    (None, None, None, 1 147584      conv3_block4_1_relu[0][0]        \n",
            "__________________________________________________________________________________________________\n",
            "conv3_block4_2_bn (BatchNormali (None, None, None, 1 512         conv3_block4_2_conv[0][0]        \n",
            "__________________________________________________________________________________________________\n",
            "conv3_block4_2_relu (Activation (None, None, None, 1 0           conv3_block4_2_bn[0][0]          \n",
            "__________________________________________________________________________________________________\n",
            "conv3_block4_3_conv (Conv2D)    (None, None, None, 5 66048       conv3_block4_2_relu[0][0]        \n",
            "__________________________________________________________________________________________________\n",
            "conv3_block4_3_bn (BatchNormali (None, None, None, 5 2048        conv3_block4_3_conv[0][0]        \n",
            "__________________________________________________________________________________________________\n",
            "conv3_block4_add (Add)          (None, None, None, 5 0           conv3_block3_out[0][0]           \n",
            "                                                                 conv3_block4_3_bn[0][0]          \n",
            "__________________________________________________________________________________________________\n",
            "conv3_block4_out (Activation)   (None, None, None, 5 0           conv3_block4_add[0][0]           \n",
            "__________________________________________________________________________________________________\n",
            "conv4_block1_1_conv (Conv2D)    (None, None, None, 2 131328      conv3_block4_out[0][0]           \n",
            "__________________________________________________________________________________________________\n",
            "conv4_block1_1_bn (BatchNormali (None, None, None, 2 1024        conv4_block1_1_conv[0][0]        \n",
            "__________________________________________________________________________________________________\n",
            "conv4_block1_1_relu (Activation (None, None, None, 2 0           conv4_block1_1_bn[0][0]          \n",
            "__________________________________________________________________________________________________\n",
            "conv4_block1_2_conv (Conv2D)    (None, None, None, 2 590080      conv4_block1_1_relu[0][0]        \n",
            "__________________________________________________________________________________________________\n",
            "conv4_block1_2_bn (BatchNormali (None, None, None, 2 1024        conv4_block1_2_conv[0][0]        \n",
            "__________________________________________________________________________________________________\n",
            "conv4_block1_2_relu (Activation (None, None, None, 2 0           conv4_block1_2_bn[0][0]          \n",
            "__________________________________________________________________________________________________\n",
            "conv4_block1_0_conv (Conv2D)    (None, None, None, 1 525312      conv3_block4_out[0][0]           \n",
            "__________________________________________________________________________________________________\n",
            "conv4_block1_3_conv (Conv2D)    (None, None, None, 1 263168      conv4_block1_2_relu[0][0]        \n",
            "__________________________________________________________________________________________________\n",
            "conv4_block1_0_bn (BatchNormali (None, None, None, 1 4096        conv4_block1_0_conv[0][0]        \n",
            "__________________________________________________________________________________________________\n",
            "conv4_block1_3_bn (BatchNormali (None, None, None, 1 4096        conv4_block1_3_conv[0][0]        \n",
            "__________________________________________________________________________________________________\n",
            "conv4_block1_add (Add)          (None, None, None, 1 0           conv4_block1_0_bn[0][0]          \n",
            "                                                                 conv4_block1_3_bn[0][0]          \n",
            "__________________________________________________________________________________________________\n",
            "conv4_block1_out (Activation)   (None, None, None, 1 0           conv4_block1_add[0][0]           \n",
            "__________________________________________________________________________________________________\n",
            "conv4_block2_1_conv (Conv2D)    (None, None, None, 2 262400      conv4_block1_out[0][0]           \n",
            "__________________________________________________________________________________________________\n",
            "conv4_block2_1_bn (BatchNormali (None, None, None, 2 1024        conv4_block2_1_conv[0][0]        \n",
            "__________________________________________________________________________________________________\n",
            "conv4_block2_1_relu (Activation (None, None, None, 2 0           conv4_block2_1_bn[0][0]          \n",
            "__________________________________________________________________________________________________\n",
            "conv4_block2_2_conv (Conv2D)    (None, None, None, 2 590080      conv4_block2_1_relu[0][0]        \n",
            "__________________________________________________________________________________________________\n",
            "conv4_block2_2_bn (BatchNormali (None, None, None, 2 1024        conv4_block2_2_conv[0][0]        \n",
            "__________________________________________________________________________________________________\n",
            "conv4_block2_2_relu (Activation (None, None, None, 2 0           conv4_block2_2_bn[0][0]          \n",
            "__________________________________________________________________________________________________\n",
            "conv4_block2_3_conv (Conv2D)    (None, None, None, 1 263168      conv4_block2_2_relu[0][0]        \n",
            "__________________________________________________________________________________________________\n",
            "conv4_block2_3_bn (BatchNormali (None, None, None, 1 4096        conv4_block2_3_conv[0][0]        \n",
            "__________________________________________________________________________________________________\n",
            "conv4_block2_add (Add)          (None, None, None, 1 0           conv4_block1_out[0][0]           \n",
            "                                                                 conv4_block2_3_bn[0][0]          \n",
            "__________________________________________________________________________________________________\n",
            "conv4_block2_out (Activation)   (None, None, None, 1 0           conv4_block2_add[0][0]           \n",
            "__________________________________________________________________________________________________\n",
            "conv4_block3_1_conv (Conv2D)    (None, None, None, 2 262400      conv4_block2_out[0][0]           \n",
            "__________________________________________________________________________________________________\n",
            "conv4_block3_1_bn (BatchNormali (None, None, None, 2 1024        conv4_block3_1_conv[0][0]        \n",
            "__________________________________________________________________________________________________\n",
            "conv4_block3_1_relu (Activation (None, None, None, 2 0           conv4_block3_1_bn[0][0]          \n",
            "__________________________________________________________________________________________________\n",
            "conv4_block3_2_conv (Conv2D)    (None, None, None, 2 590080      conv4_block3_1_relu[0][0]        \n",
            "__________________________________________________________________________________________________\n",
            "conv4_block3_2_bn (BatchNormali (None, None, None, 2 1024        conv4_block3_2_conv[0][0]        \n",
            "__________________________________________________________________________________________________\n",
            "conv4_block3_2_relu (Activation (None, None, None, 2 0           conv4_block3_2_bn[0][0]          \n",
            "__________________________________________________________________________________________________\n",
            "conv4_block3_3_conv (Conv2D)    (None, None, None, 1 263168      conv4_block3_2_relu[0][0]        \n",
            "__________________________________________________________________________________________________\n",
            "conv4_block3_3_bn (BatchNormali (None, None, None, 1 4096        conv4_block3_3_conv[0][0]        \n",
            "__________________________________________________________________________________________________\n",
            "conv4_block3_add (Add)          (None, None, None, 1 0           conv4_block2_out[0][0]           \n",
            "                                                                 conv4_block3_3_bn[0][0]          \n",
            "__________________________________________________________________________________________________\n",
            "conv4_block3_out (Activation)   (None, None, None, 1 0           conv4_block3_add[0][0]           \n",
            "__________________________________________________________________________________________________\n",
            "conv4_block4_1_conv (Conv2D)    (None, None, None, 2 262400      conv4_block3_out[0][0]           \n",
            "__________________________________________________________________________________________________\n",
            "conv4_block4_1_bn (BatchNormali (None, None, None, 2 1024        conv4_block4_1_conv[0][0]        \n",
            "__________________________________________________________________________________________________\n",
            "conv4_block4_1_relu (Activation (None, None, None, 2 0           conv4_block4_1_bn[0][0]          \n",
            "__________________________________________________________________________________________________\n",
            "conv4_block4_2_conv (Conv2D)    (None, None, None, 2 590080      conv4_block4_1_relu[0][0]        \n",
            "__________________________________________________________________________________________________\n",
            "conv4_block4_2_bn (BatchNormali (None, None, None, 2 1024        conv4_block4_2_conv[0][0]        \n",
            "__________________________________________________________________________________________________\n",
            "conv4_block4_2_relu (Activation (None, None, None, 2 0           conv4_block4_2_bn[0][0]          \n",
            "__________________________________________________________________________________________________\n",
            "conv4_block4_3_conv (Conv2D)    (None, None, None, 1 263168      conv4_block4_2_relu[0][0]        \n",
            "__________________________________________________________________________________________________\n",
            "conv4_block4_3_bn (BatchNormali (None, None, None, 1 4096        conv4_block4_3_conv[0][0]        \n",
            "__________________________________________________________________________________________________\n",
            "conv4_block4_add (Add)          (None, None, None, 1 0           conv4_block3_out[0][0]           \n",
            "                                                                 conv4_block4_3_bn[0][0]          \n",
            "__________________________________________________________________________________________________\n",
            "conv4_block4_out (Activation)   (None, None, None, 1 0           conv4_block4_add[0][0]           \n",
            "__________________________________________________________________________________________________\n",
            "conv4_block5_1_conv (Conv2D)    (None, None, None, 2 262400      conv4_block4_out[0][0]           \n",
            "__________________________________________________________________________________________________\n",
            "conv4_block5_1_bn (BatchNormali (None, None, None, 2 1024        conv4_block5_1_conv[0][0]        \n",
            "__________________________________________________________________________________________________\n",
            "conv4_block5_1_relu (Activation (None, None, None, 2 0           conv4_block5_1_bn[0][0]          \n",
            "__________________________________________________________________________________________________\n",
            "conv4_block5_2_conv (Conv2D)    (None, None, None, 2 590080      conv4_block5_1_relu[0][0]        \n",
            "__________________________________________________________________________________________________\n",
            "conv4_block5_2_bn (BatchNormali (None, None, None, 2 1024        conv4_block5_2_conv[0][0]        \n",
            "__________________________________________________________________________________________________\n",
            "conv4_block5_2_relu (Activation (None, None, None, 2 0           conv4_block5_2_bn[0][0]          \n",
            "__________________________________________________________________________________________________\n",
            "conv4_block5_3_conv (Conv2D)    (None, None, None, 1 263168      conv4_block5_2_relu[0][0]        \n",
            "__________________________________________________________________________________________________\n",
            "conv4_block5_3_bn (BatchNormali (None, None, None, 1 4096        conv4_block5_3_conv[0][0]        \n",
            "__________________________________________________________________________________________________\n",
            "conv4_block5_add (Add)          (None, None, None, 1 0           conv4_block4_out[0][0]           \n",
            "                                                                 conv4_block5_3_bn[0][0]          \n",
            "__________________________________________________________________________________________________\n",
            "conv4_block5_out (Activation)   (None, None, None, 1 0           conv4_block5_add[0][0]           \n",
            "__________________________________________________________________________________________________\n",
            "conv4_block6_1_conv (Conv2D)    (None, None, None, 2 262400      conv4_block5_out[0][0]           \n",
            "__________________________________________________________________________________________________\n",
            "conv4_block6_1_bn (BatchNormali (None, None, None, 2 1024        conv4_block6_1_conv[0][0]        \n",
            "__________________________________________________________________________________________________\n",
            "conv4_block6_1_relu (Activation (None, None, None, 2 0           conv4_block6_1_bn[0][0]          \n",
            "__________________________________________________________________________________________________\n",
            "conv4_block6_2_conv (Conv2D)    (None, None, None, 2 590080      conv4_block6_1_relu[0][0]        \n",
            "__________________________________________________________________________________________________\n",
            "conv4_block6_2_bn (BatchNormali (None, None, None, 2 1024        conv4_block6_2_conv[0][0]        \n",
            "__________________________________________________________________________________________________\n",
            "conv4_block6_2_relu (Activation (None, None, None, 2 0           conv4_block6_2_bn[0][0]          \n",
            "__________________________________________________________________________________________________\n",
            "conv4_block6_3_conv (Conv2D)    (None, None, None, 1 263168      conv4_block6_2_relu[0][0]        \n",
            "__________________________________________________________________________________________________\n",
            "conv4_block6_3_bn (BatchNormali (None, None, None, 1 4096        conv4_block6_3_conv[0][0]        \n",
            "__________________________________________________________________________________________________\n",
            "conv4_block6_add (Add)          (None, None, None, 1 0           conv4_block5_out[0][0]           \n",
            "                                                                 conv4_block6_3_bn[0][0]          \n",
            "__________________________________________________________________________________________________\n",
            "conv4_block6_out (Activation)   (None, None, None, 1 0           conv4_block6_add[0][0]           \n",
            "__________________________________________________________________________________________________\n",
            "conv5_block1_1_conv (Conv2D)    (None, None, None, 5 524800      conv4_block6_out[0][0]           \n",
            "__________________________________________________________________________________________________\n",
            "conv5_block1_1_bn (BatchNormali (None, None, None, 5 2048        conv5_block1_1_conv[0][0]        \n",
            "__________________________________________________________________________________________________\n",
            "conv5_block1_1_relu (Activation (None, None, None, 5 0           conv5_block1_1_bn[0][0]          \n",
            "__________________________________________________________________________________________________\n",
            "conv5_block1_2_conv (Conv2D)    (None, None, None, 5 2359808     conv5_block1_1_relu[0][0]        \n",
            "__________________________________________________________________________________________________\n",
            "conv5_block1_2_bn (BatchNormali (None, None, None, 5 2048        conv5_block1_2_conv[0][0]        \n",
            "__________________________________________________________________________________________________\n",
            "conv5_block1_2_relu (Activation (None, None, None, 5 0           conv5_block1_2_bn[0][0]          \n",
            "__________________________________________________________________________________________________\n",
            "conv5_block1_0_conv (Conv2D)    (None, None, None, 2 2099200     conv4_block6_out[0][0]           \n",
            "__________________________________________________________________________________________________\n",
            "conv5_block1_3_conv (Conv2D)    (None, None, None, 2 1050624     conv5_block1_2_relu[0][0]        \n",
            "__________________________________________________________________________________________________\n",
            "conv5_block1_0_bn (BatchNormali (None, None, None, 2 8192        conv5_block1_0_conv[0][0]        \n",
            "__________________________________________________________________________________________________\n",
            "conv5_block1_3_bn (BatchNormali (None, None, None, 2 8192        conv5_block1_3_conv[0][0]        \n",
            "__________________________________________________________________________________________________\n",
            "conv5_block1_add (Add)          (None, None, None, 2 0           conv5_block1_0_bn[0][0]          \n",
            "                                                                 conv5_block1_3_bn[0][0]          \n",
            "__________________________________________________________________________________________________\n",
            "conv5_block1_out (Activation)   (None, None, None, 2 0           conv5_block1_add[0][0]           \n",
            "__________________________________________________________________________________________________\n",
            "conv5_block2_1_conv (Conv2D)    (None, None, None, 5 1049088     conv5_block1_out[0][0]           \n",
            "__________________________________________________________________________________________________\n",
            "conv5_block2_1_bn (BatchNormali (None, None, None, 5 2048        conv5_block2_1_conv[0][0]        \n",
            "__________________________________________________________________________________________________\n",
            "conv5_block2_1_relu (Activation (None, None, None, 5 0           conv5_block2_1_bn[0][0]          \n",
            "__________________________________________________________________________________________________\n",
            "conv5_block2_2_conv (Conv2D)    (None, None, None, 5 2359808     conv5_block2_1_relu[0][0]        \n",
            "__________________________________________________________________________________________________\n",
            "conv5_block2_2_bn (BatchNormali (None, None, None, 5 2048        conv5_block2_2_conv[0][0]        \n",
            "__________________________________________________________________________________________________\n",
            "conv5_block2_2_relu (Activation (None, None, None, 5 0           conv5_block2_2_bn[0][0]          \n",
            "__________________________________________________________________________________________________\n",
            "conv5_block2_3_conv (Conv2D)    (None, None, None, 2 1050624     conv5_block2_2_relu[0][0]        \n",
            "__________________________________________________________________________________________________\n",
            "conv5_block2_3_bn (BatchNormali (None, None, None, 2 8192        conv5_block2_3_conv[0][0]        \n",
            "__________________________________________________________________________________________________\n",
            "conv5_block2_add (Add)          (None, None, None, 2 0           conv5_block1_out[0][0]           \n",
            "                                                                 conv5_block2_3_bn[0][0]          \n",
            "__________________________________________________________________________________________________\n",
            "conv5_block2_out (Activation)   (None, None, None, 2 0           conv5_block2_add[0][0]           \n",
            "__________________________________________________________________________________________________\n",
            "conv5_block3_1_conv (Conv2D)    (None, None, None, 5 1049088     conv5_block2_out[0][0]           \n",
            "__________________________________________________________________________________________________\n",
            "conv5_block3_1_bn (BatchNormali (None, None, None, 5 2048        conv5_block3_1_conv[0][0]        \n",
            "__________________________________________________________________________________________________\n",
            "conv5_block3_1_relu (Activation (None, None, None, 5 0           conv5_block3_1_bn[0][0]          \n",
            "__________________________________________________________________________________________________\n",
            "conv5_block3_2_conv (Conv2D)    (None, None, None, 5 2359808     conv5_block3_1_relu[0][0]        \n",
            "__________________________________________________________________________________________________\n",
            "conv5_block3_2_bn (BatchNormali (None, None, None, 5 2048        conv5_block3_2_conv[0][0]        \n",
            "__________________________________________________________________________________________________\n",
            "conv5_block3_2_relu (Activation (None, None, None, 5 0           conv5_block3_2_bn[0][0]          \n",
            "__________________________________________________________________________________________________\n",
            "conv5_block3_3_conv (Conv2D)    (None, None, None, 2 1050624     conv5_block3_2_relu[0][0]        \n",
            "__________________________________________________________________________________________________\n",
            "conv5_block3_3_bn (BatchNormali (None, None, None, 2 8192        conv5_block3_3_conv[0][0]        \n",
            "__________________________________________________________________________________________________\n",
            "conv5_block3_add (Add)          (None, None, None, 2 0           conv5_block2_out[0][0]           \n",
            "                                                                 conv5_block3_3_bn[0][0]          \n",
            "__________________________________________________________________________________________________\n",
            "conv5_block3_out (Activation)   (None, None, None, 2 0           conv5_block3_add[0][0]           \n",
            "__________________________________________________________________________________________________\n",
            "global_average_pooling2d (Globa (None, 2048)         0           conv5_block3_out[0][0]           \n",
            "__________________________________________________________________________________________________\n",
            "dense_2 (Dense)                 (None, 1024)         2098176     global_average_pooling2d[0][0]   \n",
            "__________________________________________________________________________________________________\n",
            "dense_3 (Dense)                 (None, 2)            2050        dense_2[0][0]                    \n",
            "==================================================================================================\n",
            "Total params: 25,687,938\n",
            "Trainable params: 2,100,226\n",
            "Non-trainable params: 23,587,712\n",
            "__________________________________________________________________________________________________\n"
          ],
          "name": "stdout"
        }
      ]
    },
    {
      "cell_type": "code",
      "metadata": {
        "id": "rPdL7dqgO43Q",
        "colab_type": "code",
        "outputId": "06475b47-ffa1-4b81-8ca5-44d089c0c461",
        "colab": {
          "base_uri": "https://localhost:8080/",
          "height": 230
        }
      },
      "source": [
        "# model = Sequential()\n",
        "\n",
        "# model.add(ResNet50(include_top = False, pooling = GlobalAveragePooling2D, weights = 'imagenet'))\n",
        "# model.add(Dense(1,activation = 'sigmoid'))\n",
        "# model.layers[0].trainable = False\n",
        "# model.summary()"
      ],
      "execution_count": 0,
      "outputs": [
        {
          "output_type": "stream",
          "text": [
            "Model: \"sequential_1\"\n",
            "_________________________________________________________________\n",
            "Layer (type)                 Output Shape              Param #   \n",
            "=================================================================\n",
            "resnet50 (Model)             (None, None, None, 2048)  23587712  \n",
            "_________________________________________________________________\n",
            "dense_1 (Dense)              (None, None, None, 1)     2049      \n",
            "=================================================================\n",
            "Total params: 23,589,761\n",
            "Trainable params: 2,049\n",
            "Non-trainable params: 23,587,712\n",
            "_________________________________________________________________\n"
          ],
          "name": "stdout"
        }
      ]
    },
    {
      "cell_type": "code",
      "metadata": {
        "id": "pLxAn2gJFBWI",
        "colab_type": "code",
        "colab": {}
      },
      "source": [
        "# compile model\n",
        "model.compile(optimizer = 'adam',\n",
        "              loss = 'sparse_categorical_crossentropy',\n",
        "              metrics = ['accuracy'])"
      ],
      "execution_count": 0,
      "outputs": []
    },
    {
      "cell_type": "code",
      "metadata": {
        "id": "ZaNjGqDPYv78",
        "colab_type": "code",
        "colab": {}
      },
      "source": [
        "y = np.asarray(binary_class)"
      ],
      "execution_count": 0,
      "outputs": []
    },
    {
      "cell_type": "code",
      "metadata": {
        "id": "V_YCR6Qi7GhX",
        "colab_type": "code",
        "outputId": "72531aa8-e516-4875-bf77-430683843418",
        "colab": {
          "base_uri": "https://localhost:8080/",
          "height": 34
        }
      },
      "source": [
        "images_arrays.shape"
      ],
      "execution_count": 0,
      "outputs": [
        {
          "output_type": "execute_result",
          "data": {
            "text/plain": [
              "(702, 256, 256, 3)"
            ]
          },
          "metadata": {
            "tags": []
          },
          "execution_count": 30
        }
      ]
    },
    {
      "cell_type": "code",
      "metadata": {
        "id": "uob3cLT-7TOD",
        "colab_type": "code",
        "outputId": "e6d86e83-a4bb-40ec-c3bb-5d1c184dc1bd",
        "colab": {
          "base_uri": "https://localhost:8080/",
          "height": 34
        }
      },
      "source": [
        "y.shape"
      ],
      "execution_count": 0,
      "outputs": [
        {
          "output_type": "execute_result",
          "data": {
            "text/plain": [
              "(702,)"
            ]
          },
          "metadata": {
            "tags": []
          },
          "execution_count": 31
        }
      ]
    },
    {
      "cell_type": "code",
      "metadata": {
        "id": "A5NSqzlQ7Zis",
        "colab_type": "code",
        "outputId": "97bce922-30f2-4d96-aa62-32ef9418d867",
        "colab": {
          "base_uri": "https://localhost:8080/",
          "height": 230
        }
      },
      "source": [
        "model.fit(images_arrays, y, epochs=5)"
      ],
      "execution_count": 0,
      "outputs": [
        {
          "output_type": "stream",
          "text": [
            "Train on 702 samples\n",
            "Epoch 1/5\n",
            "702/702 [==============================] - 239s 341ms/sample - loss: 0.2329 - acc: 0.9174\n",
            "Epoch 2/5\n",
            "702/702 [==============================] - 235s 335ms/sample - loss: 0.0755 - acc: 0.9758\n",
            "Epoch 3/5\n",
            "702/702 [==============================] - 237s 338ms/sample - loss: 0.0414 - acc: 0.9858\n",
            "Epoch 4/5\n",
            "702/702 [==============================] - 234s 334ms/sample - loss: 0.0278 - acc: 0.9900\n",
            "Epoch 5/5\n",
            "702/702 [==============================] - 235s 334ms/sample - loss: 0.0028 - acc: 1.0000\n"
          ],
          "name": "stdout"
        },
        {
          "output_type": "execute_result",
          "data": {
            "text/plain": [
              "<tensorflow.python.keras.callbacks.History at 0x7efe96c5d860>"
            ]
          },
          "metadata": {
            "tags": []
          },
          "execution_count": 59
        }
      ]
    },
    {
      "cell_type": "code",
      "metadata": {
        "id": "mwhpLZHn4Q29",
        "colab_type": "code",
        "outputId": "871b0d41-75b4-48e0-83b2-fe5af9c92799",
        "colab": {
          "base_uri": "https://localhost:8080/",
          "height": 52
        }
      },
      "source": [
        "scores = model.evaluate(images_arrays, y)\n",
        "print(f'{model.metrics_names[1]}: {scores[1]*100}%')"
      ],
      "execution_count": 0,
      "outputs": [
        {
          "output_type": "stream",
          "text": [
            "702/702 [==============================] - 185s 263ms/sample - loss: 0.8612 - acc: 0.5328\n",
            "acc: 53.27635407447815%\n"
          ],
          "name": "stdout"
        }
      ]
    },
    {
      "cell_type": "markdown",
      "metadata": {
        "id": "9IOckiU416EY",
        "colab_type": "text"
      },
      "source": [
        "## Load in Data\n",
        "\n",
        "![skimage-logo](https://scikit-image.org/_static/img/logo.png)\n",
        "\n",
        "Check out out [`skimage`](https://scikit-image.org/) for useful functions related to processing the images. In particular checkout the documentation for `skimage.io.imread_collection` and `skimage.transform.resize`."
      ]
    },
    {
      "cell_type": "markdown",
      "metadata": {
        "id": "C783IjC-16Eg",
        "colab_type": "text"
      },
      "source": [
        "## Instatiate Model"
      ]
    },
    {
      "cell_type": "code",
      "metadata": {
        "id": "h3zcSCSR16Ei",
        "colab_type": "code",
        "outputId": "0c50db90-55f1-4bce-a03a-a9545360b79e",
        "colab": {}
      },
      "source": [
        ""
      ],
      "execution_count": 0,
      "outputs": [
        {
          "output_type": "stream",
          "text": [
            "/Users/jonathansokoll/anaconda3/envs/U4-S3-DNN/lib/python3.7/site-packages/keras_applications/resnet50.py:265: UserWarning: The output shape of `ResNet50(include_top=False)` has been changed since Keras 2.2.0.\n",
            "  warnings.warn('The output shape of `ResNet50(include_top=False)` '\n"
          ],
          "name": "stderr"
        }
      ]
    },
    {
      "cell_type": "markdown",
      "metadata": {
        "id": "DUCC_iRS16E2",
        "colab_type": "text"
      },
      "source": [
        "## Fit Model"
      ]
    },
    {
      "cell_type": "code",
      "metadata": {
        "id": "S10JnnAv16E3",
        "colab_type": "code",
        "outputId": "d68a02ac-3044-4ae4-9a65-a02c14dc5035",
        "colab": {}
      },
      "source": [
        ""
      ],
      "execution_count": 0,
      "outputs": [
        {
          "output_type": "stream",
          "text": [
            "Train on 561 samples, validate on 141 samples\n",
            "Epoch 1/5\n",
            "561/561 [==============================] - 39s 69ms/sample - loss: 0.1216 - accuracy: 0.9715 - val_loss: 1.4221 - val_accuracy: 0.0000e+00\n",
            "Epoch 2/5\n",
            "561/561 [==============================] - 35s 62ms/sample - loss: 0.0410 - accuracy: 0.9875 - val_loss: 2.9222 - val_accuracy: 0.0000e+00\n",
            "Epoch 3/5\n",
            "561/561 [==============================] - 35s 62ms/sample - loss: 0.0646 - accuracy: 0.9697 - val_loss: 0.9962 - val_accuracy: 0.0000e+00\n",
            "Epoch 4/5\n",
            "561/561 [==============================] - 39s 70ms/sample - loss: 0.0723 - accuracy: 0.9733 - val_loss: 0.2627 - val_accuracy: 1.0000\n",
            "Epoch 5/5\n",
            "561/561 [==============================] - 38s 68ms/sample - loss: 0.0333 - accuracy: 0.9893 - val_loss: 0.4859 - val_accuracy: 1.0000\n"
          ],
          "name": "stdout"
        },
        {
          "output_type": "execute_result",
          "data": {
            "text/plain": [
              "<tensorflow.python.keras.callbacks.History at 0x7f980e9c6f60>"
            ]
          },
          "metadata": {
            "tags": []
          },
          "execution_count": 110
        }
      ]
    },
    {
      "cell_type": "markdown",
      "metadata": {
        "id": "IxXacrHr16E8",
        "colab_type": "text"
      },
      "source": [
        "# Custom CNN Model\n",
        "\n",
        "In this step, write and train your own convolutional neural network using Keras. You can use any architecture that suits you as long as it has at least one convolutional and one pooling layer at the beginning of the network - you can add more if you want. "
      ]
    },
    {
      "cell_type": "code",
      "metadata": {
        "id": "cdb00euW16E9",
        "colab_type": "code",
        "outputId": "093a1334-0c88-465c-f44f-a25a1615c0b6",
        "colab": {}
      },
      "source": [
        ""
      ],
      "execution_count": 0,
      "outputs": [
        {
          "output_type": "stream",
          "text": [
            "Model: \"sequential_8\"\n",
            "_________________________________________________________________\n",
            "Layer (type)                 Output Shape              Param #   \n",
            "=================================================================\n",
            "conv2d_7 (Conv2D)            (None, 215, 215, 32)      9632      \n",
            "_________________________________________________________________\n",
            "max_pooling2d_15 (MaxPooling (None, 43, 43, 32)        0         \n",
            "_________________________________________________________________\n",
            "conv2d_8 (Conv2D)            (None, 39, 39, 64)        51264     \n",
            "_________________________________________________________________\n",
            "max_pooling2d_16 (MaxPooling (None, 13, 13, 64)        0         \n",
            "_________________________________________________________________\n",
            "conv2d_9 (Conv2D)            (None, 9, 9, 64)          102464    \n",
            "_________________________________________________________________\n",
            "flatten_1 (Flatten)          (None, 5184)              0         \n",
            "_________________________________________________________________\n",
            "dense_15 (Dense)             (None, 64)                331840    \n",
            "_________________________________________________________________\n",
            "dense_16 (Dense)             (None, 1)                 65        \n",
            "=================================================================\n",
            "Total params: 495,265\n",
            "Trainable params: 495,265\n",
            "Non-trainable params: 0\n",
            "_________________________________________________________________\n"
          ],
          "name": "stdout"
        }
      ]
    },
    {
      "cell_type": "code",
      "metadata": {
        "id": "ToKE3CXm16FO",
        "colab_type": "code",
        "outputId": "5b0ccfce-1914-430d-c322-356ccff615d0",
        "colab": {}
      },
      "source": [
        "# Fit Model"
      ],
      "execution_count": 0,
      "outputs": [
        {
          "output_type": "stream",
          "text": [
            "Train on 561 samples, validate on 141 samples\n",
            "Epoch 1/5\n",
            "561/561 [==============================] - 18s 32ms/sample - loss: 0.2667 - accuracy: 0.9073 - val_loss: 0.1186 - val_accuracy: 0.9858\n",
            "Epoch 2/5\n",
            "561/561 [==============================] - 18s 32ms/sample - loss: 0.2046 - accuracy: 0.9073 - val_loss: 0.3342 - val_accuracy: 0.8511\n",
            "Epoch 3/5\n",
            "561/561 [==============================] - 18s 32ms/sample - loss: 0.1778 - accuracy: 0.9287 - val_loss: 0.2746 - val_accuracy: 0.8723\n",
            "Epoch 4/5\n",
            "561/561 [==============================] - 18s 32ms/sample - loss: 0.1681 - accuracy: 0.9323 - val_loss: 0.8487 - val_accuracy: 0.5957\n",
            "Epoch 5/5\n",
            "561/561 [==============================] - 18s 32ms/sample - loss: 0.1606 - accuracy: 0.9394 - val_loss: 0.3903 - val_accuracy: 0.8582\n"
          ],
          "name": "stdout"
        },
        {
          "output_type": "execute_result",
          "data": {
            "text/plain": [
              "<tensorflow.python.keras.callbacks.History at 0x7f97388777f0>"
            ]
          },
          "metadata": {
            "tags": []
          },
          "execution_count": 99
        }
      ]
    },
    {
      "cell_type": "code",
      "metadata": {
        "id": "dj93JxZB16EZ",
        "colab_type": "code",
        "colab": {}
      },
      "source": [
        "# instantiate model (architecture)\n",
        "# compile model\n",
        "# fit model\n",
        "\n",
        "from tensorflow.keras.models import Sequential, Model # <- May Use\n",
        "from tensorflow.keras.layers import Dense, Conv2D, MaxPooling2D, Flatten"
      ],
      "execution_count": 0,
      "outputs": []
    },
    {
      "cell_type": "code",
      "metadata": {
        "id": "-yOdj8KWS-DW",
        "colab_type": "code",
        "outputId": "3c5fee3d-efe4-482d-8eff-a5acdbf99980",
        "colab": {
          "base_uri": "https://localhost:8080/",
          "height": 443
        }
      },
      "source": [
        "# Setup Architecture\n",
        "\n",
        "model = Sequential()\n",
        "model.add(Conv2D(32, (3,3), activation='relu', input_shape=(256,256,3)))\n",
        "model.add(MaxPooling2D((2,2)))\n",
        "model.add(Conv2D(64, (3,3), activation='relu'))\n",
        "model.add(MaxPooling2D((2,2)))\n",
        "model.add(Conv2D(64, (3,3), activation='relu'))\n",
        "model.add(Flatten())\n",
        "model.add(Dense(64, activation='relu'))\n",
        "model.add(Dense(2, activation='sigmoid'))\n",
        "\n",
        "model.summary()"
      ],
      "execution_count": 0,
      "outputs": [
        {
          "output_type": "stream",
          "text": [
            "Model: \"sequential_3\"\n",
            "_________________________________________________________________\n",
            "Layer (type)                 Output Shape              Param #   \n",
            "=================================================================\n",
            "conv2d (Conv2D)              (None, 254, 254, 32)      896       \n",
            "_________________________________________________________________\n",
            "max_pooling2d (MaxPooling2D) (None, 127, 127, 32)      0         \n",
            "_________________________________________________________________\n",
            "conv2d_1 (Conv2D)            (None, 125, 125, 64)      18496     \n",
            "_________________________________________________________________\n",
            "max_pooling2d_1 (MaxPooling2 (None, 62, 62, 64)        0         \n",
            "_________________________________________________________________\n",
            "conv2d_2 (Conv2D)            (None, 60, 60, 64)        36928     \n",
            "_________________________________________________________________\n",
            "flatten (Flatten)            (None, 230400)            0         \n",
            "_________________________________________________________________\n",
            "dense_4 (Dense)              (None, 64)                14745664  \n",
            "_________________________________________________________________\n",
            "dense_5 (Dense)              (None, 2)                 130       \n",
            "=================================================================\n",
            "Total params: 14,802,114\n",
            "Trainable params: 14,802,114\n",
            "Non-trainable params: 0\n",
            "_________________________________________________________________\n"
          ],
          "name": "stdout"
        }
      ]
    },
    {
      "cell_type": "code",
      "metadata": {
        "id": "hXL7w4qYVc4m",
        "colab_type": "code",
        "colab": {}
      },
      "source": [
        "# compile model\n",
        "model.compile(optimizer = 'adam',\n",
        "              loss = 'sparse_categorical_crossentropy',\n",
        "              metrics = ['accuracy'])"
      ],
      "execution_count": 0,
      "outputs": []
    },
    {
      "cell_type": "code",
      "metadata": {
        "id": "lFNJdZ6qVLtz",
        "colab_type": "code",
        "outputId": "9b49f9e8-029a-4a46-9500-49108f673001",
        "colab": {
          "base_uri": "https://localhost:8080/",
          "height": 230
        }
      },
      "source": [
        "model.fit(images_arrays, y, epochs=5)"
      ],
      "execution_count": 0,
      "outputs": [
        {
          "output_type": "stream",
          "text": [
            "Train on 702 samples\n",
            "Epoch 1/5\n",
            "702/702 [==============================] - 78s 111ms/sample - loss: 0.9859 - acc: 0.7393\n",
            "Epoch 2/5\n",
            "702/702 [==============================] - 74s 106ms/sample - loss: 0.6517 - acc: 0.7151\n",
            "Epoch 3/5\n",
            "702/702 [==============================] - 75s 107ms/sample - loss: 0.5042 - acc: 0.6809\n",
            "Epoch 4/5\n",
            "702/702 [==============================] - 75s 107ms/sample - loss: 0.4649 - acc: 0.8020\n",
            "Epoch 5/5\n",
            "702/702 [==============================] - 75s 107ms/sample - loss: 0.4183 - acc: 0.8761\n"
          ],
          "name": "stdout"
        },
        {
          "output_type": "execute_result",
          "data": {
            "text/plain": [
              "<tensorflow.python.keras.callbacks.History at 0x7efe90592f28>"
            ]
          },
          "metadata": {
            "tags": []
          },
          "execution_count": 66
        }
      ]
    },
    {
      "cell_type": "code",
      "metadata": {
        "id": "JUFS-I6iXQen",
        "colab_type": "code",
        "outputId": "bf87acb8-b6d6-4833-be3d-10f524be7909",
        "colab": {
          "base_uri": "https://localhost:8080/",
          "height": 52
        }
      },
      "source": [
        "scores = model.evaluate(images_arrays, y)\n",
        "print(f'{model.metrics_names[1]}: {scores[1]*100}%')"
      ],
      "execution_count": 0,
      "outputs": [
        {
          "output_type": "stream",
          "text": [
            "702/702 [==============================] - 22s 31ms/sample - loss: 0.4273 - acc: 0.7991\n",
            "acc: 79.91452813148499%\n"
          ],
          "name": "stdout"
        }
      ]
    },
    {
      "cell_type": "code",
      "metadata": {
        "id": "wLPn4MsEX-1I",
        "colab_type": "code",
        "outputId": "936a733a-11ae-4e5a-9c1c-ef86252653e0",
        "colab": {
          "base_uri": "https://localhost:8080/",
          "height": 585
        }
      },
      "source": [
        "# another model\n",
        "\n",
        "model = Sequential()\n",
        "model.add(Conv2D(28, (3,3), activation='softmax', input_shape=(256,256,3)))\n",
        "model.add(MaxPooling2D((2,2)))\n",
        "model.add(Conv2D(54, (3,3), activation='relu'))\n",
        "model.add(MaxPooling2D((2,2)))\n",
        "model.add(Conv2D(54, (3,3), activation='relu'))\n",
        "model.add(MaxPooling2D((2,2)))\n",
        "model.add(Conv2D(54, (3,3), activation='relu'))\n",
        "model.add(MaxPooling2D((2,2)))\n",
        "model.add(Conv2D(54, (3,3), activation='relu'))\n",
        "model.add(Flatten())\n",
        "model.add(Dense(54, activation='relu'))\n",
        "model.add(Dense(2, activation='sigmoid'))\n",
        "\n",
        "model.summary()"
      ],
      "execution_count": 0,
      "outputs": [
        {
          "output_type": "stream",
          "text": [
            "Model: \"sequential_4\"\n",
            "_________________________________________________________________\n",
            "Layer (type)                 Output Shape              Param #   \n",
            "=================================================================\n",
            "conv2d_3 (Conv2D)            (None, 254, 254, 28)      784       \n",
            "_________________________________________________________________\n",
            "max_pooling2d_2 (MaxPooling2 (None, 127, 127, 28)      0         \n",
            "_________________________________________________________________\n",
            "conv2d_4 (Conv2D)            (None, 125, 125, 54)      13662     \n",
            "_________________________________________________________________\n",
            "max_pooling2d_3 (MaxPooling2 (None, 62, 62, 54)        0         \n",
            "_________________________________________________________________\n",
            "conv2d_5 (Conv2D)            (None, 60, 60, 54)        26298     \n",
            "_________________________________________________________________\n",
            "max_pooling2d_4 (MaxPooling2 (None, 30, 30, 54)        0         \n",
            "_________________________________________________________________\n",
            "conv2d_6 (Conv2D)            (None, 28, 28, 54)        26298     \n",
            "_________________________________________________________________\n",
            "max_pooling2d_5 (MaxPooling2 (None, 14, 14, 54)        0         \n",
            "_________________________________________________________________\n",
            "conv2d_7 (Conv2D)            (None, 12, 12, 54)        26298     \n",
            "_________________________________________________________________\n",
            "flatten_1 (Flatten)          (None, 7776)              0         \n",
            "_________________________________________________________________\n",
            "dense_6 (Dense)              (None, 54)                419958    \n",
            "_________________________________________________________________\n",
            "dense_7 (Dense)              (None, 2)                 110       \n",
            "=================================================================\n",
            "Total params: 513,408\n",
            "Trainable params: 513,408\n",
            "Non-trainable params: 0\n",
            "_________________________________________________________________\n"
          ],
          "name": "stdout"
        }
      ]
    },
    {
      "cell_type": "code",
      "metadata": {
        "id": "A5ZVXqgSYcfa",
        "colab_type": "code",
        "colab": {}
      },
      "source": [
        "# compile model\n",
        "model.compile(optimizer = 'nadam',\n",
        "              loss = 'sparse_categorical_crossentropy',\n",
        "              metrics = ['categorical_accuracy'])"
      ],
      "execution_count": 0,
      "outputs": []
    },
    {
      "cell_type": "code",
      "metadata": {
        "id": "qvao4M3_YiIV",
        "colab_type": "code",
        "outputId": "0aa7b6b5-41d7-4dba-fa55-566d333df491",
        "colab": {
          "base_uri": "https://localhost:8080/",
          "height": 230
        }
      },
      "source": [
        "model.fit(images_arrays, y, epochs=5)"
      ],
      "execution_count": 0,
      "outputs": [
        {
          "output_type": "stream",
          "text": [
            "Train on 702 samples\n",
            "Epoch 1/5\n",
            "702/702 [==============================] - 97s 138ms/sample - loss: 0.6932 - categorical_accuracy: 0.3191\n",
            "Epoch 2/5\n",
            "702/702 [==============================] - 94s 134ms/sample - loss: 0.6928 - categorical_accuracy: 0.2792\n",
            "Epoch 3/5\n",
            "702/702 [==============================] - 93s 132ms/sample - loss: 0.6774 - categorical_accuracy: 0.2023\n",
            "Epoch 4/5\n",
            "702/702 [==============================] - 94s 134ms/sample - loss: 0.5642 - categorical_accuracy: 0.4957\n",
            "Epoch 5/5\n",
            "702/702 [==============================] - 94s 134ms/sample - loss: 0.4204 - categorical_accuracy: 0.4630\n"
          ],
          "name": "stdout"
        },
        {
          "output_type": "execute_result",
          "data": {
            "text/plain": [
              "<tensorflow.python.keras.callbacks.History at 0x7efe9044e978>"
            ]
          },
          "metadata": {
            "tags": []
          },
          "execution_count": 70
        }
      ]
    },
    {
      "cell_type": "code",
      "metadata": {
        "id": "4pL9BpuhYnKU",
        "colab_type": "code",
        "outputId": "e99d1fb0-596e-41b0-d9c4-2248cda484b8",
        "colab": {
          "base_uri": "https://localhost:8080/",
          "height": 52
        }
      },
      "source": [
        "scores = model.evaluate(images_arrays, y)\n",
        "print(f'{model.metrics_names[1]}: {scores[1]*100}%')"
      ],
      "execution_count": 0,
      "outputs": [
        {
          "output_type": "stream",
          "text": [
            "702/702 [==============================] - 27s 38ms/sample - loss: 0.3271 - categorical_accuracy: 0.4544\n",
            "categorical_accuracy: 45.44159471988678%\n"
          ],
          "name": "stdout"
        }
      ]
    },
    {
      "cell_type": "markdown",
      "metadata": {
        "id": "8dpVAxkj16FU",
        "colab_type": "text"
      },
      "source": [
        "# Custom CNN Model with Image Manipulations\n",
        "## *This a stretch goal, and it's relatively difficult*\n",
        "\n",
        "To simulate an increase in a sample of image, you can apply image manipulation techniques: cropping, rotation, stretching, etc. Luckily Keras has some handy functions for us to apply these techniques to our mountain and forest example. Check out these resources to help you get started: \n",
        "\n",
        "1. [Keras `ImageGenerator` Class](https://keras.io/preprocessing/image/#imagedatagenerator-class)\n",
        "2. [Building a powerful image classifier with very little data](https://blog.keras.io/building-powerful-image-classification-models-using-very-little-data.html)\n",
        " "
      ]
    },
    {
      "cell_type": "code",
      "metadata": {
        "id": "Ei4Skhtu16FV",
        "colab_type": "code",
        "colab": {}
      },
      "source": [
        "# State Code for Image Manipulation Here"
      ],
      "execution_count": 0,
      "outputs": []
    },
    {
      "cell_type": "markdown",
      "metadata": {
        "colab_type": "text",
        "id": "uT3UV3gap9H6"
      },
      "source": [
        "# Resources and Stretch Goals\n",
        "\n",
        "Stretch goals\n",
        "- Enhance your code to use classes/functions and accept terms to search and classes to look for in recognizing the downloaded images (e.g. download images of parties, recognize all that contain balloons)\n",
        "- Check out [other available pretrained networks](https://tfhub.dev), try some and compare\n",
        "- Image recognition/classification is somewhat solved, but *relationships* between entities and describing an image is not - check out some of the extended resources (e.g. [Visual Genome](https://visualgenome.org/)) on the topic\n",
        "- Transfer learning - using images you source yourself, [retrain a classifier](https://www.tensorflow.org/hub/tutorials/image_retraining) with a new category\n",
        "- (Not CNN related) Use [piexif](https://pypi.org/project/piexif/) to check out the metadata of images passed in to your system - see if they're from a national park! (Note - many images lack GPS metadata, so this won't work in most cases, but still cool)\n",
        "\n",
        "Resources\n",
        "- [Deep Residual Learning for Image Recognition](https://arxiv.org/abs/1512.03385) - influential paper (introduced ResNet)\n",
        "- [YOLO: Real-Time Object Detection](https://pjreddie.com/darknet/yolo/) - an influential convolution based object detection system, focused on inference speed (for applications to e.g. self driving vehicles)\n",
        "- [R-CNN, Fast R-CNN, Faster R-CNN, YOLO](https://towardsdatascience.com/r-cnn-fast-r-cnn-faster-r-cnn-yolo-object-detection-algorithms-36d53571365e) - comparison of object detection systems\n",
        "- [Common Objects in Context](http://cocodataset.org/) - a large-scale object detection, segmentation, and captioning dataset\n",
        "- [Visual Genome](https://visualgenome.org/) - a dataset, a knowledge base, an ongoing effort to connect structured image concepts to language"
      ]
    }
  ]
}