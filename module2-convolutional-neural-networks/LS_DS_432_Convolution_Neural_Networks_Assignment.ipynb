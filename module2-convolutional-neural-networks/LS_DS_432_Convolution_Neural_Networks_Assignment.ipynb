{
  "nbformat": 4,
  "nbformat_minor": 0,
  "metadata": {
    "kernelspec": {
      "display_name": "U4-S2-NNF-DS10",
      "language": "python",
      "name": "u4-s2-nnf-ds10"
    },
    "language_info": {
      "codemirror_mode": {
        "name": "ipython",
        "version": 3
      },
      "file_extension": ".py",
      "mimetype": "text/x-python",
      "name": "python",
      "nbconvert_exporter": "python",
      "pygments_lexer": "ipython3",
      "version": "3.7.6"
    },
    "nteract": {
      "version": "0.23.1"
    },
    "colab": {
      "name": "LS_DS_432_Convolution_Neural_Networks_Assignment.ipynb",
      "provenance": [],
      "include_colab_link": true
    },
    "accelerator": "GPU"
  },
  "cells": [
    {
      "cell_type": "markdown",
      "metadata": {
        "id": "view-in-github",
        "colab_type": "text"
      },
      "source": [
        "<a href=\"https://colab.research.google.com/github/dougscohen/DS-Unit-4-Sprint-3-Deep-Learning/blob/master/module2-convolutional-neural-networks/LS_DS_432_Convolution_Neural_Networks_Assignment.ipynb\" target=\"_parent\"><img src=\"https://colab.research.google.com/assets/colab-badge.svg\" alt=\"Open In Colab\"/></a>"
      ]
    },
    {
      "cell_type": "markdown",
      "metadata": {
        "id": "_A8YVmC1JwN0",
        "colab_type": "text"
      },
      "source": [
        "<img align=\"left\" src=\"https://lever-client-logos.s3.amazonaws.com/864372b1-534c-480e-acd5-9711f850815c-1524247202159.png\" width=200>\n",
        "<br></br>\n",
        "<br></br>\n",
        "\n",
        "## *Data Science Unit 4 Sprint 3 Assignment 2*\n",
        "# Convolutional Neural Networks (CNNs)"
      ]
    },
    {
      "cell_type": "markdown",
      "metadata": {
        "colab_type": "text",
        "id": "0lfZdD_cp1t5"
      },
      "source": [
        "# Assignment\n",
        "\n",
        "- <a href=\"#p1\">Part 1:</a> Pre-Trained Model\n",
        "- <a href=\"#p2\">Part 2:</a> Custom CNN Model\n",
        "- <a href=\"#p3\">Part 3:</a> CNN with Data Augmentation\n",
        "\n",
        "\n",
        "You will apply three different CNN models to a binary image classification model using Keras. Classify images of Mountains (`./data/train/mountain/*`) and images of forests (`./data/train/forest/*`). Treat mountains as the positive class (1) and the forest images as the negative (zero). \n",
        "\n",
        "|Mountain (+)|Forest (-)|\n",
        "|---|---|\n",
        "|![](https://github.com/LambdaSchool/DS-Unit-4-Sprint-3-Deep-Learning/blob/master/module2-convolutional-neural-networks/data/train/mountain/art1131.jpg?raw=1)|![](https://github.com/LambdaSchool/DS-Unit-4-Sprint-3-Deep-Learning/blob/master/module2-convolutional-neural-networks/data/validation/forest/cdmc317.jpg?raw=1)|\n",
        "\n",
        "The problem is relatively difficult given that the sample is tiny: there are about 350 observations per class. This sample size might be something that you can expect with prototyping an image classification problem/solution at work. Get accustomed to evaluating several different possible models."
      ]
    },
    {
      "cell_type": "markdown",
      "metadata": {
        "colab_type": "text",
        "id": "8kAF8KOBJwN1"
      },
      "source": [
        "# Pre - Trained Model\n",
        "<a id=\"p1\"></a>\n",
        "\n",
        "Load a pretrained network from Keras, [ResNet50](https://tfhub.dev/google/imagenet/resnet_v1_50/classification/1) - a 50 layer deep network trained to recognize [1000 objects](https://storage.googleapis.com/download.tensorflow.org/data/ImageNetLabels.txt). Starting usage:\n",
        "\n",
        "```python\n",
        "import numpy as np\n",
        "\n",
        "from tensorflow.keras.applications.resnet50 import ResNet50\n",
        "from tensorflow.keras.preprocessing import image\n",
        "from tensorflow.keras.applications.resnet50 import preprocess_input, decode_predictions\n",
        "\n",
        "from tensorflow.keras.layers import Dense, GlobalAveragePooling2D\n",
        "from tensorflow.keras.models import Model # This is the functional API\n",
        "\n",
        "resnet = ResNet50(weights='imagenet', include_top=False)\n",
        "\n",
        "```\n",
        "\n",
        "The `include_top` parameter in `ResNet50` will remove the full connected layers from the ResNet model. The next step is to turn off the training of the ResNet layers. We want to use the learned parameters without updating them in future training passes. \n",
        "\n",
        "```python\n",
        "for layer in resnet.layers:\n",
        "    layer.trainable = False\n",
        "```\n",
        "\n",
        "Using the Keras functional API, we will need to additional additional full connected layers to our model. We we removed the top layers, we removed all preivous fully connected layers. In other words, we kept only the feature processing portions of our network. You can expert with additional layers beyond what's listed here. The `GlobalAveragePooling2D` layer functions as a really fancy flatten function by taking the average of each of the last convolutional layer outputs (which is two dimensional still). \n",
        "\n",
        "```python\n",
        "x = resnet.output\n",
        "x = GlobalAveragePooling2D()(x) # This layer is a really fancy flatten\n",
        "x = Dense(1024, activation='relu')(x)\n",
        "predictions = Dense(1, activation='sigmoid')(x)\n",
        "model = Model(resnet.input, predictions)\n",
        "```\n",
        "\n",
        "Your assignment is to apply the transfer learning above to classify images of Mountains (`./data/train/mountain/*`) and images of forests (`./data/train/forest/*`). Treat mountains as the positive class (1) and the forest images as the negative (zero). \n",
        "\n",
        "Steps to complete assignment: \n",
        "1. Load in Image Data into numpy arrays (`X`) \n",
        "2. Create a `y` for the labels\n",
        "3. Train your model with pre-trained layers from resnet\n",
        "4. Report your model's accuracy"
      ]
    },
    {
      "cell_type": "markdown",
      "metadata": {
        "id": "V_M8S23jJwN1",
        "colab_type": "text"
      },
      "source": [
        "## Load in Data\n",
        "\n",
        "This surprisingly more difficult than it seems, because you are working with directories of images instead of a single file. This boiler plate will help you download a zipped version of the directory of images. The directory is organized into \"train\" and \"validation\" which you can use inside an `ImageGenerator` class to stream batches of images thru your model.  \n"
      ]
    },
    {
      "cell_type": "markdown",
      "metadata": {
        "id": "z9kZol_IJwN2",
        "colab_type": "text"
      },
      "source": [
        "### Download & Summarize the Data\n",
        "\n",
        "This step is completed for you. Just run the cells and review the results. "
      ]
    },
    {
      "cell_type": "code",
      "metadata": {
        "id": "plzkyAAuJwN2",
        "colab_type": "code",
        "colab": {}
      },
      "source": [
        "import tensorflow as tf\n",
        "import os\n",
        "\n",
        "_URL = 'https://github.com/LambdaSchool/DS-Unit-4-Sprint-3-Deep-Learning/blob/master/module2-convolutional-neural-networks/data.zip?raw=true'\n",
        "\n",
        "path_to_zip = tf.keras.utils.get_file('./data.zip', origin=_URL, extract=True)\n",
        "PATH = os.path.join(os.path.dirname(path_to_zip), 'data')"
      ],
      "execution_count": 0,
      "outputs": []
    },
    {
      "cell_type": "code",
      "metadata": {
        "id": "Y4ew8e8IJwN5",
        "colab_type": "code",
        "colab": {}
      },
      "source": [
        "train_dir = os.path.join(PATH, 'train')\n",
        "validation_dir = os.path.join(PATH, 'validation')"
      ],
      "execution_count": 0,
      "outputs": []
    },
    {
      "cell_type": "code",
      "metadata": {
        "id": "Gk2FJ__NJwN7",
        "colab_type": "code",
        "colab": {}
      },
      "source": [
        "train_mountain_dir = os.path.join(train_dir, 'mountain')  # directory with our training mountain pictures\n",
        "train_forest_dir = os.path.join(train_dir, 'forest')  # directory with our training forest pictures\n",
        "validation_mountain_dir = os.path.join(validation_dir, 'mountain')  # directory with our validation mountain pictures\n",
        "validation_forest_dir = os.path.join(validation_dir, 'forest')  # directory with our validation forest pictures"
      ],
      "execution_count": 0,
      "outputs": []
    },
    {
      "cell_type": "code",
      "metadata": {
        "id": "Lu404U_4JwN-",
        "colab_type": "code",
        "colab": {}
      },
      "source": [
        "num_mountain_tr = len(os.listdir(train_mountain_dir))\n",
        "num_forest_tr = len(os.listdir(train_forest_dir))\n",
        "\n",
        "num_mountain_val = len(os.listdir(validation_mountain_dir))\n",
        "num_forest_val = len(os.listdir(validation_forest_dir))\n",
        "\n",
        "total_train = num_mountain_tr + num_forest_tr\n",
        "total_val = num_mountain_val + num_forest_val"
      ],
      "execution_count": 0,
      "outputs": []
    },
    {
      "cell_type": "code",
      "metadata": {
        "id": "PxBGlvkMJwOA",
        "colab_type": "code",
        "colab": {
          "base_uri": "https://localhost:8080/",
          "height": 141
        },
        "outputId": "ea7f9207-ba3b-44bb-e86e-37701873a5f9"
      },
      "source": [
        "print('total training mountain images:', num_mountain_tr)\n",
        "print('total training forest images:', num_forest_tr)\n",
        "\n",
        "print('total validation mountain images:', num_mountain_val)\n",
        "print('total validation forest images:', num_forest_val)\n",
        "print(\"--\")\n",
        "print(\"Total training images:\", total_train)\n",
        "print(\"Total validation images:\", total_val)"
      ],
      "execution_count": 5,
      "outputs": [
        {
          "output_type": "stream",
          "text": [
            "total training mountain images: 254\n",
            "total training forest images: 270\n",
            "total validation mountain images: 125\n",
            "total validation forest images: 62\n",
            "--\n",
            "Total training images: 524\n",
            "Total validation images: 187\n"
          ],
          "name": "stdout"
        }
      ]
    },
    {
      "cell_type": "markdown",
      "metadata": {
        "id": "qW2_IqlpJwOC",
        "colab_type": "text"
      },
      "source": [
        "### Keras `ImageGenerator` to Process the Data\n",
        "\n",
        "This step is completed for you, but please review the code. The `ImageGenerator` class reads in batches of data from a directory and pass them to the model one batch at a time. Just like large text files, this method is advantageous, because it stifles the need to load a bunch of images into memory. \n",
        "\n",
        "Check out the documentation for this class method: [Keras `ImageGenerator` Class](https://keras.io/preprocessing/image/#imagedatagenerator-class). You'll expand it's use in the third assignment objective."
      ]
    },
    {
      "cell_type": "code",
      "metadata": {
        "id": "W9BDZ5O-JwOC",
        "colab_type": "code",
        "colab": {}
      },
      "source": [
        "batch_size = 16\n",
        "epochs = 50\n",
        "IMG_HEIGHT = 224\n",
        "IMG_WIDTH = 224"
      ],
      "execution_count": 0,
      "outputs": []
    },
    {
      "cell_type": "code",
      "metadata": {
        "id": "JH_4_SnLJwOF",
        "colab_type": "code",
        "colab": {}
      },
      "source": [
        "from tensorflow.keras.preprocessing.image import ImageDataGenerator\n",
        "\n",
        "train_image_generator = ImageDataGenerator(rescale=1./255) # Generator for our training data\n",
        "validation_image_generator = ImageDataGenerator(rescale=1./255) # Generator for our validation data"
      ],
      "execution_count": 0,
      "outputs": []
    },
    {
      "cell_type": "code",
      "metadata": {
        "id": "91rOXyoOJwOH",
        "colab_type": "code",
        "colab": {
          "base_uri": "https://localhost:8080/",
          "height": 34
        },
        "outputId": "a7f8ea19-eeae-456e-e908-50725e858163"
      },
      "source": [
        "train_data_gen = train_image_generator.flow_from_directory(batch_size=batch_size,\n",
        "                                                           directory=train_dir,\n",
        "                                                           shuffle=True,\n",
        "                                                           target_size=(IMG_HEIGHT, IMG_WIDTH),\n",
        "                                                           class_mode='binary')"
      ],
      "execution_count": 8,
      "outputs": [
        {
          "output_type": "stream",
          "text": [
            "Found 533 images belonging to 2 classes.\n"
          ],
          "name": "stdout"
        }
      ]
    },
    {
      "cell_type": "code",
      "metadata": {
        "id": "K-VUNCE4JwOJ",
        "colab_type": "code",
        "colab": {
          "base_uri": "https://localhost:8080/",
          "height": 34
        },
        "outputId": "6f25c60a-6c30-4446-df7b-10b980dd4caa"
      },
      "source": [
        "val_data_gen = validation_image_generator.flow_from_directory(batch_size=batch_size,\n",
        "                                                              directory=validation_dir,\n",
        "                                                              target_size=(IMG_HEIGHT, IMG_WIDTH),\n",
        "                                                              class_mode='binary')"
      ],
      "execution_count": 9,
      "outputs": [
        {
          "output_type": "stream",
          "text": [
            "Found 195 images belonging to 2 classes.\n"
          ],
          "name": "stdout"
        }
      ]
    },
    {
      "cell_type": "markdown",
      "metadata": {
        "id": "wSZzZzvcJwOL",
        "colab_type": "text"
      },
      "source": [
        "## Instatiate Model"
      ]
    },
    {
      "cell_type": "code",
      "metadata": {
        "id": "r22eyNtNJwOM",
        "colab_type": "code",
        "colab": {}
      },
      "source": [
        "import numpy as np\n",
        " \n",
        "from tensorflow.keras.applications.resnet50 import ResNet50\n",
        "from tensorflow.keras.preprocessing import image\n",
        "from tensorflow.keras.applications.resnet50 import preprocess_input, decode_predictions\n",
        "\n",
        "from tensorflow.keras.layers import Dense, GlobalAveragePooling2D\n",
        "from tensorflow.keras.models import Model # This is the functional API"
      ],
      "execution_count": 0,
      "outputs": []
    },
    {
      "cell_type": "code",
      "metadata": {
        "id": "axzp3FohKhND",
        "colab_type": "code",
        "colab": {}
      },
      "source": [
        " resnet = ResNet50(weights='imagenet', include_top=False)\n",
        "\n",
        " for layer in resnet.layers:\n",
        "    layer.trainable = False\n",
        "\n",
        "x = resnet.output\n",
        "x = GlobalAveragePooling2D()(x) # This layer is a really fancy flatten\n",
        "x = Dense(1024, activation='relu')(x)\n",
        "predictions = Dense(1, activation='sigmoid')(x)\n",
        "model = Model(resnet.input, predictions)"
      ],
      "execution_count": 0,
      "outputs": []
    },
    {
      "cell_type": "code",
      "metadata": {
        "id": "nWVzdu4hK4vA",
        "colab_type": "code",
        "colab": {}
      },
      "source": [
        "# compile the model\n",
        "\n",
        "model.compile(optimizer='adam',\n",
        "              loss='binary_crossentropy',\n",
        "              metrics=['accuracy'])"
      ],
      "execution_count": 0,
      "outputs": []
    },
    {
      "cell_type": "markdown",
      "metadata": {
        "id": "wA2nHB9BJwOP",
        "colab_type": "text"
      },
      "source": [
        "## Fit Model"
      ]
    },
    {
      "cell_type": "code",
      "metadata": {
        "id": "JiFjSLenJwOP",
        "colab_type": "code",
        "colab": {
          "base_uri": "https://localhost:8080/",
          "height": 1000
        },
        "outputId": "7692d19e-559b-4d77-8bfe-2fab544f79b8"
      },
      "source": [
        "history = model.fit(\n",
        "    train_data_gen,\n",
        "    steps_per_epoch=total_train // batch_size,\n",
        "    epochs=epochs,\n",
        "    validation_data=val_data_gen,\n",
        "    validation_steps=total_val // batch_size\n",
        ")"
      ],
      "execution_count": 13,
      "outputs": [
        {
          "output_type": "stream",
          "text": [
            "Epoch 1/50\n",
            "32/32 [==============================] - 4s 117ms/step - loss: 0.6964 - accuracy: 0.5928 - val_loss: 0.5367 - val_accuracy: 0.6648\n",
            "Epoch 2/50\n",
            "32/32 [==============================] - 2s 78ms/step - loss: 0.5450 - accuracy: 0.6926 - val_loss: 0.4971 - val_accuracy: 0.8239\n",
            "Epoch 3/50\n",
            "32/32 [==============================] - 3s 79ms/step - loss: 0.4535 - accuracy: 0.8164 - val_loss: 0.5386 - val_accuracy: 0.7670\n",
            "Epoch 4/50\n",
            "32/32 [==============================] - 2s 78ms/step - loss: 0.4879 - accuracy: 0.7685 - val_loss: 1.0976 - val_accuracy: 0.4148\n",
            "Epoch 5/50\n",
            "32/32 [==============================] - 3s 79ms/step - loss: 0.5141 - accuracy: 0.7305 - val_loss: 0.3599 - val_accuracy: 0.8693\n",
            "Epoch 6/50\n",
            "32/32 [==============================] - 3s 79ms/step - loss: 0.3514 - accuracy: 0.9022 - val_loss: 0.4772 - val_accuracy: 0.8068\n",
            "Epoch 7/50\n",
            "32/32 [==============================] - 2s 77ms/step - loss: 0.3897 - accuracy: 0.8204 - val_loss: 0.3178 - val_accuracy: 0.8466\n",
            "Epoch 8/50\n",
            "32/32 [==============================] - 2s 77ms/step - loss: 0.3524 - accuracy: 0.8643 - val_loss: 0.3391 - val_accuracy: 0.8864\n",
            "Epoch 9/50\n",
            "32/32 [==============================] - 2s 78ms/step - loss: 0.3123 - accuracy: 0.8802 - val_loss: 0.3088 - val_accuracy: 0.8977\n",
            "Epoch 10/50\n",
            "32/32 [==============================] - 2s 78ms/step - loss: 0.2850 - accuracy: 0.8922 - val_loss: 0.3105 - val_accuracy: 0.9148\n",
            "Epoch 11/50\n",
            "32/32 [==============================] - 3s 78ms/step - loss: 0.2635 - accuracy: 0.8965 - val_loss: 0.3705 - val_accuracy: 0.8295\n",
            "Epoch 12/50\n",
            "32/32 [==============================] - 2s 77ms/step - loss: 0.2963 - accuracy: 0.8802 - val_loss: 0.3510 - val_accuracy: 0.8011\n",
            "Epoch 13/50\n",
            "32/32 [==============================] - 2s 78ms/step - loss: 0.2682 - accuracy: 0.8822 - val_loss: 0.2617 - val_accuracy: 0.9261\n",
            "Epoch 14/50\n",
            "32/32 [==============================] - 3s 79ms/step - loss: 0.2225 - accuracy: 0.9421 - val_loss: 0.5920 - val_accuracy: 0.7102\n",
            "Epoch 15/50\n",
            "32/32 [==============================] - 3s 78ms/step - loss: 0.2248 - accuracy: 0.9301 - val_loss: 0.2727 - val_accuracy: 0.9205\n",
            "Epoch 16/50\n",
            "32/32 [==============================] - 3s 79ms/step - loss: 0.2466 - accuracy: 0.8982 - val_loss: 0.2567 - val_accuracy: 0.9318\n",
            "Epoch 17/50\n",
            "32/32 [==============================] - 3s 78ms/step - loss: 0.1874 - accuracy: 0.9501 - val_loss: 0.3051 - val_accuracy: 0.8580\n",
            "Epoch 18/50\n",
            "32/32 [==============================] - 3s 79ms/step - loss: 0.2678 - accuracy: 0.8762 - val_loss: 0.2533 - val_accuracy: 0.8807\n",
            "Epoch 19/50\n",
            "32/32 [==============================] - 3s 78ms/step - loss: 0.1912 - accuracy: 0.9281 - val_loss: 0.2747 - val_accuracy: 0.8920\n",
            "Epoch 20/50\n",
            "32/32 [==============================] - 2s 78ms/step - loss: 0.1631 - accuracy: 0.9581 - val_loss: 0.2731 - val_accuracy: 0.8920\n",
            "Epoch 21/50\n",
            "32/32 [==============================] - 2s 78ms/step - loss: 0.1486 - accuracy: 0.9621 - val_loss: 0.2035 - val_accuracy: 0.9375\n",
            "Epoch 22/50\n",
            "32/32 [==============================] - 2s 78ms/step - loss: 0.1501 - accuracy: 0.9441 - val_loss: 0.3235 - val_accuracy: 0.8580\n",
            "Epoch 23/50\n",
            "32/32 [==============================] - 2s 77ms/step - loss: 0.1398 - accuracy: 0.9621 - val_loss: 0.2772 - val_accuracy: 0.8864\n",
            "Epoch 24/50\n",
            "32/32 [==============================] - 2s 77ms/step - loss: 0.1705 - accuracy: 0.9441 - val_loss: 0.3562 - val_accuracy: 0.8523\n",
            "Epoch 25/50\n",
            "32/32 [==============================] - 2s 77ms/step - loss: 0.1784 - accuracy: 0.9381 - val_loss: 0.4916 - val_accuracy: 0.8125\n",
            "Epoch 26/50\n",
            "32/32 [==============================] - 2s 77ms/step - loss: 0.2357 - accuracy: 0.8982 - val_loss: 0.2000 - val_accuracy: 0.9375\n",
            "Epoch 27/50\n",
            "32/32 [==============================] - 2s 77ms/step - loss: 0.1675 - accuracy: 0.9395 - val_loss: 0.3894 - val_accuracy: 0.8295\n",
            "Epoch 28/50\n",
            "32/32 [==============================] - 2s 78ms/step - loss: 0.1643 - accuracy: 0.9316 - val_loss: 0.2432 - val_accuracy: 0.9205\n",
            "Epoch 29/50\n",
            "32/32 [==============================] - 2s 77ms/step - loss: 0.1205 - accuracy: 0.9621 - val_loss: 0.2150 - val_accuracy: 0.9375\n",
            "Epoch 30/50\n",
            "32/32 [==============================] - 3s 79ms/step - loss: 0.1971 - accuracy: 0.9182 - val_loss: 0.4478 - val_accuracy: 0.8068\n",
            "Epoch 31/50\n",
            "32/32 [==============================] - 2s 77ms/step - loss: 0.1318 - accuracy: 0.9481 - val_loss: 0.1936 - val_accuracy: 0.9318\n",
            "Epoch 32/50\n",
            "32/32 [==============================] - 2s 77ms/step - loss: 0.1524 - accuracy: 0.9481 - val_loss: 0.2141 - val_accuracy: 0.9318\n",
            "Epoch 33/50\n",
            "32/32 [==============================] - 2s 77ms/step - loss: 0.1498 - accuracy: 0.9481 - val_loss: 0.1979 - val_accuracy: 0.9261\n",
            "Epoch 34/50\n",
            "32/32 [==============================] - 2s 77ms/step - loss: 0.1552 - accuracy: 0.9361 - val_loss: 0.2743 - val_accuracy: 0.9034\n",
            "Epoch 35/50\n",
            "32/32 [==============================] - 2s 77ms/step - loss: 0.1035 - accuracy: 0.9621 - val_loss: 0.3200 - val_accuracy: 0.8636\n",
            "Epoch 36/50\n",
            "32/32 [==============================] - 2s 77ms/step - loss: 0.1423 - accuracy: 0.9261 - val_loss: 0.2009 - val_accuracy: 0.9318\n",
            "Epoch 37/50\n",
            "32/32 [==============================] - 2s 77ms/step - loss: 0.1759 - accuracy: 0.9222 - val_loss: 0.2878 - val_accuracy: 0.8920\n",
            "Epoch 38/50\n",
            "32/32 [==============================] - 2s 78ms/step - loss: 0.2470 - accuracy: 0.8822 - val_loss: 0.2364 - val_accuracy: 0.9261\n",
            "Epoch 39/50\n",
            "32/32 [==============================] - 3s 78ms/step - loss: 0.1210 - accuracy: 0.9521 - val_loss: 0.5638 - val_accuracy: 0.7898\n",
            "Epoch 40/50\n",
            "32/32 [==============================] - 3s 78ms/step - loss: 0.0948 - accuracy: 0.9661 - val_loss: 0.1818 - val_accuracy: 0.9375\n",
            "Epoch 41/50\n",
            "32/32 [==============================] - 3s 79ms/step - loss: 0.1164 - accuracy: 0.9541 - val_loss: 0.5758 - val_accuracy: 0.8125\n",
            "Epoch 42/50\n",
            "32/32 [==============================] - 2s 78ms/step - loss: 0.1402 - accuracy: 0.9361 - val_loss: 0.3235 - val_accuracy: 0.8750\n",
            "Epoch 43/50\n",
            "32/32 [==============================] - 2s 77ms/step - loss: 0.0803 - accuracy: 0.9721 - val_loss: 0.1864 - val_accuracy: 0.9432\n",
            "Epoch 44/50\n",
            "32/32 [==============================] - 2s 77ms/step - loss: 0.0858 - accuracy: 0.9721 - val_loss: 0.1602 - val_accuracy: 0.9545\n",
            "Epoch 45/50\n",
            "32/32 [==============================] - 2s 77ms/step - loss: 0.1080 - accuracy: 0.9561 - val_loss: 0.1935 - val_accuracy: 0.9432\n",
            "Epoch 46/50\n",
            "32/32 [==============================] - 2s 77ms/step - loss: 0.0895 - accuracy: 0.9721 - val_loss: 0.2863 - val_accuracy: 0.8920\n",
            "Epoch 47/50\n",
            "32/32 [==============================] - 2s 77ms/step - loss: 0.0837 - accuracy: 0.9741 - val_loss: 0.2063 - val_accuracy: 0.9432\n",
            "Epoch 48/50\n",
            "32/32 [==============================] - 2s 76ms/step - loss: 0.0866 - accuracy: 0.9661 - val_loss: 0.1869 - val_accuracy: 0.9432\n",
            "Epoch 49/50\n",
            "32/32 [==============================] - 2s 77ms/step - loss: 0.0693 - accuracy: 0.9800 - val_loss: 0.1953 - val_accuracy: 0.9432\n",
            "Epoch 50/50\n",
            "32/32 [==============================] - 2s 77ms/step - loss: 0.0649 - accuracy: 0.9800 - val_loss: 0.4217 - val_accuracy: 0.8352\n"
          ],
          "name": "stdout"
        }
      ]
    },
    {
      "cell_type": "code",
      "metadata": {
        "id": "2wWBKCtcLWt0",
        "colab_type": "code",
        "colab": {
          "base_uri": "https://localhost:8080/",
          "height": 294
        },
        "outputId": "530b8140-c136-4c19-fea7-3b70b13cbc58"
      },
      "source": [
        "import matplotlib.pyplot as plt\n",
        "\n",
        "# Plot training & validation loss values\n",
        "plt.plot(history.history['loss'])\n",
        "plt.plot(history.history['val_loss'])\n",
        "plt.title('Model Loss')\n",
        "plt.ylabel('Loss')\n",
        "plt.xlabel('Epoch')\n",
        "plt.legend(['Train', 'Test'], loc='upper left')\n",
        "plt.show();"
      ],
      "execution_count": 14,
      "outputs": [
        {
          "output_type": "display_data",
          "data": {
            "image/png": "[encoded data removed]",
            "text/plain": [
              "<Figure size 432x288 with 1 Axes>"
            ]
          },
          "metadata": {
            "tags": [],
            "needs_background": "light"
          }
        }
      ]
    },
    {
      "cell_type": "code",
      "metadata": {
        "id": "Cr04UwBpLW3x",
        "colab_type": "code",
        "colab": {
          "base_uri": "https://localhost:8080/",
          "height": 294
        },
        "outputId": "efff4b70-6a38-4b4c-f5ea-bba6dedb16de"
      },
      "source": [
        "import matplotlib.pyplot as plt\n",
        "\n",
        "# Plot training & validation loss values\n",
        "plt.plot(history.history['accuracy'])\n",
        "plt.plot(history.history['val_accuracy'])\n",
        "plt.title('Model Accuracy')\n",
        "plt.ylabel('Loss')\n",
        "plt.xlabel('Epoch')\n",
        "plt.legend(['Train', 'Test'], loc='upper left')\n",
        "plt.show();"
      ],
      "execution_count": 15,
      "outputs": [
        {
          "output_type": "display_data",
          "data": {
            "image/png": "[encoded data removed]",
            "text/plain": [
              "<Figure size 432x288 with 1 Axes>"
            ]
          },
          "metadata": {
            "tags": [],
            "needs_background": "light"
          }
        }
      ]
    },
    {
      "cell_type": "markdown",
      "metadata": {
        "id": "y7Kd_TYJJwOR",
        "colab_type": "text"
      },
      "source": [
        "# Custom CNN Model\n",
        "\n",
        "In this step, write and train your own convolutional neural network using Keras. You can use any architecture that suits you as long as it has at least one convolutional and one pooling layer at the beginning of the network - you can add more if you want. "
      ]
    },
    {
      "cell_type": "code",
      "metadata": {
        "id": "vxSHZB4PJwOS",
        "colab_type": "code",
        "colab": {
          "base_uri": "https://localhost:8080/",
          "height": 443
        },
        "outputId": "cab5089b-9b09-4a9a-d454-b041051c7181"
      },
      "source": [
        "from tensorflow.keras.models import Sequential\n",
        "from tensorflow.keras.layers import Conv2D, MaxPooling2D, Flatten, Dense\n",
        "\n",
        "# Define the Model\n",
        "\n",
        "model = Sequential([\n",
        "    Conv2D(224, (3,3), activation='relu', input_shape=(IMG_HEIGHT, IMG_WIDTH,3)),\n",
        "    MaxPooling2D((2,2)),\n",
        "    Conv2D(64, (3,3), activation='relu'),\n",
        "    MaxPooling2D((2,2)),\n",
        "    Conv2D(64, (3,3), activation='relu'),\n",
        "    Flatten(),\n",
        "    Dense(64, activation='relu'),\n",
        "    Dense(1, activation='sigmoid'),\n",
        "])\n",
        "\n",
        "model.summary()"
      ],
      "execution_count": 16,
      "outputs": [
        {
          "output_type": "stream",
          "text": [
            "Model: \"sequential\"\n",
            "_________________________________________________________________\n",
            "Layer (type)                 Output Shape              Param #   \n",
            "=================================================================\n",
            "conv2d (Conv2D)              (None, 222, 222, 224)     6272      \n",
            "_________________________________________________________________\n",
            "max_pooling2d (MaxPooling2D) (None, 111, 111, 224)     0         \n",
            "_________________________________________________________________\n",
            "conv2d_1 (Conv2D)            (None, 109, 109, 64)      129088    \n",
            "_________________________________________________________________\n",
            "max_pooling2d_1 (MaxPooling2 (None, 54, 54, 64)        0         \n",
            "_________________________________________________________________\n",
            "conv2d_2 (Conv2D)            (None, 52, 52, 64)        36928     \n",
            "_________________________________________________________________\n",
            "flatten (Flatten)            (None, 173056)            0         \n",
            "_________________________________________________________________\n",
            "dense_2 (Dense)              (None, 64)                11075648  \n",
            "_________________________________________________________________\n",
            "dense_3 (Dense)              (None, 1)                 65        \n",
            "=================================================================\n",
            "Total params: 11,248,001\n",
            "Trainable params: 11,248,001\n",
            "Non-trainable params: 0\n",
            "_________________________________________________________________\n"
          ],
          "name": "stdout"
        }
      ]
    },
    {
      "cell_type": "code",
      "metadata": {
        "id": "x_6WaR14JwOU",
        "colab_type": "code",
        "colab": {}
      },
      "source": [
        "# Compile Model\n",
        "\n",
        "model.compile(optimizer='adam',\n",
        "              loss=\"binary_crossentropy\",\n",
        "              metrics=['accuracy'])"
      ],
      "execution_count": 0,
      "outputs": []
    },
    {
      "cell_type": "code",
      "metadata": {
        "id": "gg32rW3qJwOW",
        "colab_type": "code",
        "colab": {
          "base_uri": "https://localhost:8080/",
          "height": 1000
        },
        "outputId": "45e84f5b-7d75-4009-c695-65d69b236e8c"
      },
      "source": [
        "# Fit Model\n",
        "\n",
        "custom = model.fit(train_data_gen,\n",
        "                   steps_per_epoch=total_train // batch_size,\n",
        "                   epochs=epochs,\n",
        "                   validation_data=val_data_gen,\n",
        "                   validation_steps=total_val // batch_size)"
      ],
      "execution_count": 18,
      "outputs": [
        {
          "output_type": "stream",
          "text": [
            "Epoch 1/50\n",
            "32/32 [==============================] - 4s 133ms/step - loss: 0.5700 - accuracy: 0.7685 - val_loss: 0.1778 - val_accuracy: 0.9261\n",
            "Epoch 2/50\n",
            "32/32 [==============================] - 4s 111ms/step - loss: 0.2481 - accuracy: 0.8982 - val_loss: 0.1669 - val_accuracy: 0.9318\n",
            "Epoch 3/50\n",
            "32/32 [==============================] - 4s 109ms/step - loss: 0.1941 - accuracy: 0.9242 - val_loss: 0.2096 - val_accuracy: 0.9261\n",
            "Epoch 4/50\n",
            "32/32 [==============================] - 3s 109ms/step - loss: 0.2481 - accuracy: 0.8922 - val_loss: 0.2064 - val_accuracy: 0.9148\n",
            "Epoch 5/50\n",
            "32/32 [==============================] - 4s 110ms/step - loss: 0.1758 - accuracy: 0.9301 - val_loss: 0.2926 - val_accuracy: 0.8864\n",
            "Epoch 6/50\n",
            "32/32 [==============================] - 4s 110ms/step - loss: 0.1430 - accuracy: 0.9441 - val_loss: 0.1800 - val_accuracy: 0.9205\n",
            "Epoch 7/50\n",
            "32/32 [==============================] - 3s 109ms/step - loss: 0.1022 - accuracy: 0.9661 - val_loss: 0.1811 - val_accuracy: 0.9545\n",
            "Epoch 8/50\n",
            "32/32 [==============================] - 4s 110ms/step - loss: 0.1455 - accuracy: 0.9381 - val_loss: 0.3217 - val_accuracy: 0.8750\n",
            "Epoch 9/50\n",
            "32/32 [==============================] - 3s 109ms/step - loss: 0.0821 - accuracy: 0.9681 - val_loss: 0.1605 - val_accuracy: 0.9375\n",
            "Epoch 10/50\n",
            "32/32 [==============================] - 3s 109ms/step - loss: 0.0528 - accuracy: 0.9840 - val_loss: 0.1993 - val_accuracy: 0.9375\n",
            "Epoch 11/50\n",
            "32/32 [==============================] - 4s 109ms/step - loss: 0.0347 - accuracy: 0.9900 - val_loss: 0.3543 - val_accuracy: 0.8920\n",
            "Epoch 12/50\n",
            "32/32 [==============================] - 3s 108ms/step - loss: 0.1483 - accuracy: 0.9461 - val_loss: 0.1994 - val_accuracy: 0.9205\n",
            "Epoch 13/50\n",
            "32/32 [==============================] - 3s 109ms/step - loss: 0.0759 - accuracy: 0.9741 - val_loss: 0.1818 - val_accuracy: 0.9545\n",
            "Epoch 14/50\n",
            "32/32 [==============================] - 3s 109ms/step - loss: 0.1683 - accuracy: 0.9301 - val_loss: 0.6858 - val_accuracy: 0.7500\n",
            "Epoch 15/50\n",
            "32/32 [==============================] - 3s 109ms/step - loss: 0.0914 - accuracy: 0.9641 - val_loss: 0.1780 - val_accuracy: 0.9205\n",
            "Epoch 16/50\n",
            "32/32 [==============================] - 3s 109ms/step - loss: 0.0244 - accuracy: 0.9920 - val_loss: 0.2132 - val_accuracy: 0.9489\n",
            "Epoch 17/50\n",
            "32/32 [==============================] - 4s 110ms/step - loss: 0.0192 - accuracy: 0.9940 - val_loss: 0.1374 - val_accuracy: 0.9602\n",
            "Epoch 18/50\n",
            "32/32 [==============================] - 3s 109ms/step - loss: 0.0026 - accuracy: 1.0000 - val_loss: 0.1947 - val_accuracy: 0.9545\n",
            "Epoch 19/50\n",
            "32/32 [==============================] - 3s 108ms/step - loss: 0.0013 - accuracy: 1.0000 - val_loss: 0.3085 - val_accuracy: 0.9432\n",
            "Epoch 20/50\n",
            "32/32 [==============================] - 3s 109ms/step - loss: 8.2271e-04 - accuracy: 1.0000 - val_loss: 0.3202 - val_accuracy: 0.9261\n",
            "Epoch 21/50\n",
            "32/32 [==============================] - 3s 108ms/step - loss: 7.3459e-04 - accuracy: 1.0000 - val_loss: 0.1631 - val_accuracy: 0.9659\n",
            "Epoch 22/50\n",
            "32/32 [==============================] - 3s 109ms/step - loss: 4.0414e-04 - accuracy: 1.0000 - val_loss: 0.3059 - val_accuracy: 0.9432\n",
            "Epoch 23/50\n",
            "32/32 [==============================] - 4s 109ms/step - loss: 2.0016e-04 - accuracy: 1.0000 - val_loss: 0.3120 - val_accuracy: 0.9489\n",
            "Epoch 24/50\n",
            "32/32 [==============================] - 3s 108ms/step - loss: 1.5513e-04 - accuracy: 1.0000 - val_loss: 0.2283 - val_accuracy: 0.9432\n",
            "Epoch 25/50\n",
            "32/32 [==============================] - 3s 108ms/step - loss: 1.1568e-04 - accuracy: 1.0000 - val_loss: 0.3624 - val_accuracy: 0.9432\n",
            "Epoch 26/50\n",
            "32/32 [==============================] - 3s 108ms/step - loss: 1.0112e-04 - accuracy: 1.0000 - val_loss: 0.2727 - val_accuracy: 0.9489\n",
            "Epoch 27/50\n",
            "32/32 [==============================] - 3s 109ms/step - loss: 7.8971e-05 - accuracy: 1.0000 - val_loss: 0.2953 - val_accuracy: 0.9432\n",
            "Epoch 28/50\n",
            "32/32 [==============================] - 3s 109ms/step - loss: 6.1841e-05 - accuracy: 1.0000 - val_loss: 0.4862 - val_accuracy: 0.9148\n",
            "Epoch 29/50\n",
            "32/32 [==============================] - 3s 108ms/step - loss: 5.7799e-05 - accuracy: 1.0000 - val_loss: 0.4271 - val_accuracy: 0.9318\n",
            "Epoch 30/50\n",
            "32/32 [==============================] - 3s 109ms/step - loss: 4.6441e-05 - accuracy: 1.0000 - val_loss: 0.4699 - val_accuracy: 0.9261\n",
            "Epoch 31/50\n",
            "32/32 [==============================] - 4s 110ms/step - loss: 4.0182e-05 - accuracy: 1.0000 - val_loss: 0.4407 - val_accuracy: 0.9318\n",
            "Epoch 32/50\n",
            "32/32 [==============================] - 4s 110ms/step - loss: 3.6381e-05 - accuracy: 1.0000 - val_loss: 0.4186 - val_accuracy: 0.9375\n",
            "Epoch 33/50\n",
            "32/32 [==============================] - 3s 109ms/step - loss: 3.3237e-05 - accuracy: 1.0000 - val_loss: 0.3080 - val_accuracy: 0.9545\n",
            "Epoch 34/50\n",
            "32/32 [==============================] - 4s 110ms/step - loss: 3.1481e-05 - accuracy: 1.0000 - val_loss: 0.4280 - val_accuracy: 0.9432\n",
            "Epoch 35/50\n",
            "32/32 [==============================] - 4s 110ms/step - loss: 2.3476e-05 - accuracy: 1.0000 - val_loss: 0.5245 - val_accuracy: 0.9261\n",
            "Epoch 36/50\n",
            "32/32 [==============================] - 3s 109ms/step - loss: 2.3303e-05 - accuracy: 1.0000 - val_loss: 0.4466 - val_accuracy: 0.9318\n",
            "Epoch 37/50\n",
            "32/32 [==============================] - 4s 112ms/step - loss: 1.9367e-05 - accuracy: 1.0000 - val_loss: 0.4567 - val_accuracy: 0.9432\n",
            "Epoch 38/50\n",
            "32/32 [==============================] - 3s 109ms/step - loss: 1.8990e-05 - accuracy: 1.0000 - val_loss: 0.4790 - val_accuracy: 0.9261\n",
            "Epoch 39/50\n",
            "32/32 [==============================] - 3s 108ms/step - loss: 1.4821e-05 - accuracy: 1.0000 - val_loss: 0.5074 - val_accuracy: 0.9261\n",
            "Epoch 40/50\n",
            "32/32 [==============================] - 4s 110ms/step - loss: 1.2789e-05 - accuracy: 1.0000 - val_loss: 0.5785 - val_accuracy: 0.9148\n",
            "Epoch 41/50\n",
            "32/32 [==============================] - 3s 109ms/step - loss: 1.2623e-05 - accuracy: 1.0000 - val_loss: 0.4975 - val_accuracy: 0.9375\n",
            "Epoch 42/50\n",
            "32/32 [==============================] - 3s 108ms/step - loss: 9.0619e-06 - accuracy: 1.0000 - val_loss: 0.5144 - val_accuracy: 0.9318\n",
            "Epoch 43/50\n",
            "32/32 [==============================] - 3s 108ms/step - loss: 1.1351e-05 - accuracy: 1.0000 - val_loss: 0.4390 - val_accuracy: 0.9432\n",
            "Epoch 44/50\n",
            "32/32 [==============================] - 3s 108ms/step - loss: 1.0507e-05 - accuracy: 1.0000 - val_loss: 0.5667 - val_accuracy: 0.9261\n",
            "Epoch 45/50\n",
            "32/32 [==============================] - 3s 109ms/step - loss: 8.1864e-06 - accuracy: 1.0000 - val_loss: 0.5309 - val_accuracy: 0.9318\n",
            "Epoch 46/50\n",
            "32/32 [==============================] - 3s 108ms/step - loss: 8.1646e-06 - accuracy: 1.0000 - val_loss: 0.5271 - val_accuracy: 0.9205\n",
            "Epoch 47/50\n",
            "32/32 [==============================] - 3s 108ms/step - loss: 7.6224e-06 - accuracy: 1.0000 - val_loss: 0.2844 - val_accuracy: 0.9432\n",
            "Epoch 48/50\n",
            "32/32 [==============================] - 3s 108ms/step - loss: 6.2191e-06 - accuracy: 1.0000 - val_loss: 0.5442 - val_accuracy: 0.9261\n",
            "Epoch 49/50\n",
            "32/32 [==============================] - 3s 108ms/step - loss: 6.8526e-06 - accuracy: 1.0000 - val_loss: 0.5771 - val_accuracy: 0.9375\n",
            "Epoch 50/50\n",
            "32/32 [==============================] - 3s 108ms/step - loss: 5.2805e-06 - accuracy: 1.0000 - val_loss: 0.5807 - val_accuracy: 0.9261\n"
          ],
          "name": "stdout"
        }
      ]
    },
    {
      "cell_type": "code",
      "metadata": {
        "id": "rMd6LbCHbQaO",
        "colab_type": "code",
        "colab": {
          "base_uri": "https://localhost:8080/",
          "height": 294
        },
        "outputId": "aabf0e53-6431-472c-c217-ff72b69f713c"
      },
      "source": [
        "import matplotlib.pyplot as plt\n",
        "\n",
        "# Plot training & validation loss values\n",
        "plt.plot(custom.history['accuracy'])\n",
        "plt.plot(custom.history['val_accuracy'])\n",
        "plt.title('Model Accuracy')\n",
        "plt.ylabel('Loss')\n",
        "plt.xlabel('Epoch')\n",
        "plt.legend(['Train', 'Test'], loc='upper left')\n",
        "plt.show();"
      ],
      "execution_count": 19,
      "outputs": [
        {
          "output_type": "display_data",
          "data": {
            "image/png": "[encoded data removed]",
            "text/plain": [
              "<Figure size 432x288 with 1 Axes>"
            ]
          },
          "metadata": {
            "tags": [],
            "needs_background": "light"
          }
        }
      ]
    },
    {
      "cell_type": "markdown",
      "metadata": {
        "id": "IKrvtqitJwOY",
        "colab_type": "text"
      },
      "source": [
        "# Custom CNN Model with Image Manipulations\n",
        "\n",
        "To simulate an increase in a sample of image, you can apply image manipulation techniques: cropping, rotation, stretching, etc. Luckily Keras has some handy functions for us to apply these techniques to our mountain and forest example. Simply, you should be able to modify our image generator for the problem. Check out these resources to help you get started: \n",
        "\n",
        "1. [Keras `ImageGenerator` Class](https://keras.io/preprocessing/image/#imagedatagenerator-class)\n",
        "2. [Building a powerful image classifier with very little data](https://blog.keras.io/building-powerful-image-classification-models-using-very-little-data.html)\n",
        " "
      ]
    },
    {
      "cell_type": "code",
      "metadata": {
        "id": "cvGgtpD2JwOY",
        "colab_type": "code",
        "colab": {
          "base_uri": "https://localhost:8080/",
          "height": 52
        },
        "outputId": "a352c9e2-86fc-48a0-b71f-f853890f6834"
      },
      "source": [
        "train_image_generator = ImageDataGenerator(rotation_range=40,\n",
        "                                           width_shift_range=0.25,\n",
        "                                           height_shift_range=0.25,\n",
        "                                           rescale=1./255,\n",
        "                                           shear_range=0.15,\n",
        "                                           zoom_range=0.3,\n",
        "                                           horizontal_flip=True,\n",
        "                                           fill_mode='nearest') # Generator for our training data\n",
        "\n",
        "validation_image_generator = ImageDataGenerator(rotation_range=40,\n",
        "                                                width_shift_range=0.25,\n",
        "                                                height_shift_range=0.25,\n",
        "                                                rescale=1./255,\n",
        "                                                shear_range=0.15,\n",
        "                                                zoom_range=0.3,\n",
        "                                                horizontal_flip=True,\n",
        "                                                fill_mode='nearest') # Generator for our validation data\n",
        "\n",
        "train_data_gen = train_image_generator.flow_from_directory(batch_size=batch_size,\n",
        "                                                           directory=train_dir,\n",
        "                                                           shuffle=True,\n",
        "                                                           target_size=(IMG_HEIGHT, IMG_WIDTH),\n",
        "                                                           class_mode='binary')\n",
        "\n",
        "val_data_gen = validation_image_generator.flow_from_directory(batch_size=batch_size,\n",
        "                                                              directory=validation_dir,\n",
        "                                                              target_size=(IMG_HEIGHT, IMG_WIDTH),\n",
        "                                                              class_mode='binary')"
      ],
      "execution_count": 20,
      "outputs": [
        {
          "output_type": "stream",
          "text": [
            "Found 533 images belonging to 2 classes.\n",
            "Found 195 images belonging to 2 classes.\n"
          ],
          "name": "stdout"
        }
      ]
    },
    {
      "cell_type": "code",
      "metadata": {
        "id": "-5qeCO5odZxu",
        "colab_type": "code",
        "colab": {
          "base_uri": "https://localhost:8080/",
          "height": 443
        },
        "outputId": "66153e27-b744-4db1-a819-f645fd4b9b2b"
      },
      "source": [
        "# Define the Model\n",
        "\n",
        "model = Sequential([\n",
        "    Conv2D(224, (3,3), activation='relu', input_shape=(IMG_HEIGHT, IMG_WIDTH,3)),\n",
        "    MaxPooling2D((2,2)),\n",
        "    Conv2D(64, (3,3), activation='relu'),\n",
        "    MaxPooling2D((2,2)),\n",
        "    Conv2D(64, (3,3), activation='relu'),\n",
        "    Flatten(),\n",
        "    Dense(64, activation='relu'),\n",
        "    Dense(1, activation='sigmoid'),\n",
        "])\n",
        "\n",
        "model.summary()"
      ],
      "execution_count": 21,
      "outputs": [
        {
          "output_type": "stream",
          "text": [
            "Model: \"sequential_1\"\n",
            "_________________________________________________________________\n",
            "Layer (type)                 Output Shape              Param #   \n",
            "=================================================================\n",
            "conv2d_3 (Conv2D)            (None, 222, 222, 224)     6272      \n",
            "_________________________________________________________________\n",
            "max_pooling2d_2 (MaxPooling2 (None, 111, 111, 224)     0         \n",
            "_________________________________________________________________\n",
            "conv2d_4 (Conv2D)            (None, 109, 109, 64)      129088    \n",
            "_________________________________________________________________\n",
            "max_pooling2d_3 (MaxPooling2 (None, 54, 54, 64)        0         \n",
            "_________________________________________________________________\n",
            "conv2d_5 (Conv2D)            (None, 52, 52, 64)        36928     \n",
            "_________________________________________________________________\n",
            "flatten_1 (Flatten)          (None, 173056)            0         \n",
            "_________________________________________________________________\n",
            "dense_4 (Dense)              (None, 64)                11075648  \n",
            "_________________________________________________________________\n",
            "dense_5 (Dense)              (None, 1)                 65        \n",
            "=================================================================\n",
            "Total params: 11,248,001\n",
            "Trainable params: 11,248,001\n",
            "Non-trainable params: 0\n",
            "_________________________________________________________________\n"
          ],
          "name": "stdout"
        }
      ]
    },
    {
      "cell_type": "code",
      "metadata": {
        "id": "ewZL9dD5dZ0p",
        "colab_type": "code",
        "colab": {}
      },
      "source": [
        "model.compile(optimizer='adam',\n",
        "              loss=\"binary_crossentropy\",\n",
        "              metrics=['accuracy'])"
      ],
      "execution_count": 0,
      "outputs": []
    },
    {
      "cell_type": "code",
      "metadata": {
        "id": "MO_dNXiEdh8T",
        "colab_type": "code",
        "colab": {
          "base_uri": "https://localhost:8080/",
          "height": 1000
        },
        "outputId": "2d31cafb-f807-45b0-f8b1-1b0e823c3364"
      },
      "source": [
        "# Fit Model\n",
        "\n",
        "manipulated = model.fit(train_data_gen,\n",
        "                   steps_per_epoch=total_train // batch_size,\n",
        "                   epochs=epochs,\n",
        "                   validation_data=val_data_gen,\n",
        "                   validation_steps=total_val // batch_size)"
      ],
      "execution_count": 23,
      "outputs": [
        {
          "output_type": "stream",
          "text": [
            "Epoch 1/50\n",
            "32/32 [==============================] - 9s 293ms/step - loss: 0.8350 - accuracy: 0.6627 - val_loss: 0.3353 - val_accuracy: 0.8693\n",
            "Epoch 2/50\n",
            "32/32 [==============================] - 9s 291ms/step - loss: 0.3486 - accuracy: 0.8643 - val_loss: 0.3917 - val_accuracy: 0.8125\n",
            "Epoch 3/50\n",
            "32/32 [==============================] - 9s 291ms/step - loss: 0.2764 - accuracy: 0.8902 - val_loss: 1.1224 - val_accuracy: 0.6534\n",
            "Epoch 4/50\n",
            "32/32 [==============================] - 9s 289ms/step - loss: 0.3173 - accuracy: 0.8503 - val_loss: 0.2260 - val_accuracy: 0.8977\n",
            "Epoch 5/50\n",
            "32/32 [==============================] - 9s 290ms/step - loss: 0.4170 - accuracy: 0.8244 - val_loss: 0.3081 - val_accuracy: 0.8750\n",
            "Epoch 6/50\n",
            "32/32 [==============================] - 9s 293ms/step - loss: 0.3273 - accuracy: 0.8723 - val_loss: 0.2733 - val_accuracy: 0.8636\n",
            "Epoch 7/50\n",
            "32/32 [==============================] - 9s 286ms/step - loss: 0.2379 - accuracy: 0.9122 - val_loss: 0.3140 - val_accuracy: 0.8807\n",
            "Epoch 8/50\n",
            "32/32 [==============================] - 9s 287ms/step - loss: 0.2411 - accuracy: 0.9142 - val_loss: 0.1998 - val_accuracy: 0.9148\n",
            "Epoch 9/50\n",
            "32/32 [==============================] - 9s 288ms/step - loss: 0.2884 - accuracy: 0.8982 - val_loss: 0.2709 - val_accuracy: 0.8693\n",
            "Epoch 10/50\n",
            "32/32 [==============================] - 9s 286ms/step - loss: 0.2861 - accuracy: 0.8942 - val_loss: 0.3220 - val_accuracy: 0.9034\n",
            "Epoch 11/50\n",
            "32/32 [==============================] - 9s 292ms/step - loss: 0.2815 - accuracy: 0.8962 - val_loss: 0.2642 - val_accuracy: 0.8864\n",
            "Epoch 12/50\n",
            "32/32 [==============================] - 9s 287ms/step - loss: 0.2168 - accuracy: 0.9062 - val_loss: 0.2314 - val_accuracy: 0.9261\n",
            "Epoch 13/50\n",
            "32/32 [==============================] - 9s 286ms/step - loss: 0.2615 - accuracy: 0.8822 - val_loss: 0.2934 - val_accuracy: 0.8807\n",
            "Epoch 14/50\n",
            "32/32 [==============================] - 9s 288ms/step - loss: 0.2418 - accuracy: 0.9082 - val_loss: 0.2968 - val_accuracy: 0.8807\n",
            "Epoch 15/50\n",
            "32/32 [==============================] - 9s 289ms/step - loss: 0.2580 - accuracy: 0.9022 - val_loss: 0.3188 - val_accuracy: 0.8409\n",
            "Epoch 16/50\n",
            "32/32 [==============================] - 9s 287ms/step - loss: 0.2234 - accuracy: 0.9102 - val_loss: 0.2439 - val_accuracy: 0.8920\n",
            "Epoch 17/50\n",
            "32/32 [==============================] - 9s 285ms/step - loss: 0.2068 - accuracy: 0.9142 - val_loss: 0.2553 - val_accuracy: 0.8977\n",
            "Epoch 18/50\n",
            "32/32 [==============================] - 9s 292ms/step - loss: 0.2677 - accuracy: 0.8902 - val_loss: 0.2057 - val_accuracy: 0.9205\n",
            "Epoch 19/50\n",
            "32/32 [==============================] - 9s 289ms/step - loss: 0.2075 - accuracy: 0.9261 - val_loss: 0.2708 - val_accuracy: 0.8807\n",
            "Epoch 20/50\n",
            "32/32 [==============================] - 9s 288ms/step - loss: 0.1869 - accuracy: 0.9222 - val_loss: 0.3512 - val_accuracy: 0.8409\n",
            "Epoch 21/50\n",
            "32/32 [==============================] - 9s 290ms/step - loss: 0.1976 - accuracy: 0.9202 - val_loss: 0.2487 - val_accuracy: 0.8920\n",
            "Epoch 22/50\n",
            "32/32 [==============================] - 9s 289ms/step - loss: 0.2464 - accuracy: 0.8922 - val_loss: 0.2569 - val_accuracy: 0.8977\n",
            "Epoch 23/50\n",
            "32/32 [==============================] - 9s 287ms/step - loss: 0.2380 - accuracy: 0.9122 - val_loss: 0.2184 - val_accuracy: 0.9034\n",
            "Epoch 24/50\n",
            "32/32 [==============================] - 9s 287ms/step - loss: 0.1854 - accuracy: 0.9222 - val_loss: 0.2416 - val_accuracy: 0.9091\n",
            "Epoch 25/50\n",
            "32/32 [==============================] - 9s 286ms/step - loss: 0.2192 - accuracy: 0.9102 - val_loss: 0.3085 - val_accuracy: 0.8864\n",
            "Epoch 26/50\n",
            "32/32 [==============================] - 9s 286ms/step - loss: 0.2128 - accuracy: 0.9242 - val_loss: 0.2059 - val_accuracy: 0.9205\n",
            "Epoch 27/50\n",
            "32/32 [==============================] - 9s 289ms/step - loss: 0.2137 - accuracy: 0.9238 - val_loss: 0.2864 - val_accuracy: 0.8466\n",
            "Epoch 28/50\n",
            "32/32 [==============================] - 9s 291ms/step - loss: 0.1810 - accuracy: 0.9321 - val_loss: 0.2407 - val_accuracy: 0.8920\n",
            "Epoch 29/50\n",
            "32/32 [==============================] - 9s 290ms/step - loss: 0.1820 - accuracy: 0.9261 - val_loss: 0.2416 - val_accuracy: 0.8807\n",
            "Epoch 30/50\n",
            "32/32 [==============================] - 9s 290ms/step - loss: 0.1940 - accuracy: 0.9142 - val_loss: 0.3223 - val_accuracy: 0.8409\n",
            "Epoch 31/50\n",
            "32/32 [==============================] - 9s 289ms/step - loss: 0.2100 - accuracy: 0.9062 - val_loss: 0.4101 - val_accuracy: 0.8295\n",
            "Epoch 32/50\n",
            "32/32 [==============================] - 9s 290ms/step - loss: 0.1770 - accuracy: 0.9219 - val_loss: 0.2038 - val_accuracy: 0.9091\n",
            "Epoch 33/50\n",
            "32/32 [==============================] - 9s 291ms/step - loss: 0.1794 - accuracy: 0.9277 - val_loss: 0.2810 - val_accuracy: 0.8750\n",
            "Epoch 34/50\n",
            "32/32 [==============================] - 10s 297ms/step - loss: 0.1912 - accuracy: 0.9242 - val_loss: 0.2096 - val_accuracy: 0.9091\n",
            "Epoch 35/50\n",
            "32/32 [==============================] - 9s 289ms/step - loss: 0.1811 - accuracy: 0.9341 - val_loss: 0.2210 - val_accuracy: 0.8693\n",
            "Epoch 36/50\n",
            "32/32 [==============================] - 9s 286ms/step - loss: 0.1771 - accuracy: 0.9381 - val_loss: 0.3116 - val_accuracy: 0.8693\n",
            "Epoch 37/50\n",
            "32/32 [==============================] - 9s 289ms/step - loss: 0.1721 - accuracy: 0.9202 - val_loss: 0.2198 - val_accuracy: 0.9148\n",
            "Epoch 38/50\n",
            "32/32 [==============================] - 9s 289ms/step - loss: 0.1783 - accuracy: 0.9281 - val_loss: 0.2150 - val_accuracy: 0.9148\n",
            "Epoch 39/50\n",
            "32/32 [==============================] - 9s 287ms/step - loss: 0.2760 - accuracy: 0.8842 - val_loss: 0.3262 - val_accuracy: 0.8636\n",
            "Epoch 40/50\n",
            "32/32 [==============================] - 9s 290ms/step - loss: 0.1882 - accuracy: 0.9341 - val_loss: 0.2954 - val_accuracy: 0.8750\n",
            "Epoch 41/50\n",
            "32/32 [==============================] - 9s 287ms/step - loss: 0.1632 - accuracy: 0.9261 - val_loss: 0.1387 - val_accuracy: 0.9261\n",
            "Epoch 42/50\n",
            "32/32 [==============================] - 9s 287ms/step - loss: 0.1835 - accuracy: 0.9321 - val_loss: 0.3140 - val_accuracy: 0.8523\n",
            "Epoch 43/50\n",
            "32/32 [==============================] - 9s 292ms/step - loss: 0.1615 - accuracy: 0.9321 - val_loss: 0.3360 - val_accuracy: 0.8636\n",
            "Epoch 44/50\n",
            "32/32 [==============================] - 9s 291ms/step - loss: 0.2130 - accuracy: 0.9142 - val_loss: 0.4298 - val_accuracy: 0.8239\n",
            "Epoch 45/50\n",
            "32/32 [==============================] - 9s 287ms/step - loss: 0.1831 - accuracy: 0.9421 - val_loss: 0.3087 - val_accuracy: 0.8750\n",
            "Epoch 46/50\n",
            "32/32 [==============================] - 9s 290ms/step - loss: 0.2163 - accuracy: 0.9102 - val_loss: 0.2265 - val_accuracy: 0.9205\n",
            "Epoch 47/50\n",
            "32/32 [==============================] - 9s 289ms/step - loss: 0.1884 - accuracy: 0.9222 - val_loss: 0.2981 - val_accuracy: 0.8580\n",
            "Epoch 48/50\n",
            "32/32 [==============================] - 9s 288ms/step - loss: 0.1759 - accuracy: 0.9321 - val_loss: 0.2753 - val_accuracy: 0.9205\n",
            "Epoch 49/50\n",
            "32/32 [==============================] - 9s 287ms/step - loss: 0.1779 - accuracy: 0.9261 - val_loss: 0.2280 - val_accuracy: 0.9034\n",
            "Epoch 50/50\n",
            "32/32 [==============================] - 9s 289ms/step - loss: 0.1273 - accuracy: 0.9421 - val_loss: 0.2032 - val_accuracy: 0.8977\n"
          ],
          "name": "stdout"
        }
      ]
    },
    {
      "cell_type": "code",
      "metadata": {
        "id": "_lnVQ2hcdxr-",
        "colab_type": "code",
        "colab": {
          "base_uri": "https://localhost:8080/",
          "height": 294
        },
        "outputId": "a0d1de71-bc40-489e-fc4b-b92f222e73d4"
      },
      "source": [
        "# Plot training & validation accuracy values\n",
        "plt.plot(manipulated.history['accuracy'])\n",
        "plt.plot(manipulated.history['val_accuracy'])\n",
        "plt.title('Model Accuracy')\n",
        "plt.ylabel('Loss')\n",
        "plt.xlabel('Epoch')\n",
        "plt.legend(['Train', 'Test'], loc='upper left')\n",
        "plt.show();"
      ],
      "execution_count": 24,
      "outputs": [
        {
          "output_type": "display_data",
          "data": {
            "image/png": "[encoded data removed]",
            "text/plain": [
              "<Figure size 432x288 with 1 Axes>"
            ]
          },
          "metadata": {
            "tags": [],
            "needs_background": "light"
          }
        }
      ]
    },
    {
      "cell_type": "markdown",
      "metadata": {
        "colab_type": "text",
        "id": "uT3UV3gap9H6"
      },
      "source": [
        "# Resources and Stretch Goals\n",
        "\n",
        "Stretch goals\n",
        "- Enhance your code to use classes/functions and accept terms to search and classes to look for in recognizing the downloaded images (e.g. download images of parties, recognize all that contain balloons)\n",
        "- Check out [other available pretrained networks](https://tfhub.dev), try some and compare\n",
        "- Image recognition/classification is somewhat solved, but *relationships* between entities and describing an image is not - check out some of the extended resources (e.g. [Visual Genome](https://visualgenome.org/)) on the topic\n",
        "- Transfer learning - using images you source yourself, [retrain a classifier](https://www.tensorflow.org/hub/tutorials/image_retraining) with a new category\n",
        "- (Not CNN related) Use [piexif](https://pypi.org/project/piexif/) to check out the metadata of images passed in to your system - see if they're from a national park! (Note - many images lack GPS metadata, so this won't work in most cases, but still cool)\n",
        "\n",
        "Resources\n",
        "- [Deep Residual Learning for Image Recognition](https://arxiv.org/abs/1512.03385) - influential paper (introduced ResNet)\n",
        "- [YOLO: Real-Time Object Detection](https://pjreddie.com/darknet/yolo/) - an influential convolution based object detection system, focused on inference speed (for applications to e.g. self driving vehicles)\n",
        "- [R-CNN, Fast R-CNN, Faster R-CNN, YOLO](https://towardsdatascience.com/r-cnn-fast-r-cnn-faster-r-cnn-yolo-object-detection-algorithms-36d53571365e) - comparison of object detection systems\n",
        "- [Common Objects in Context](http://cocodataset.org/) - a large-scale object detection, segmentation, and captioning dataset\n",
        "- [Visual Genome](https://visualgenome.org/) - a dataset, a knowledge base, an ongoing effort to connect structured image concepts to language"
      ]
    }
  ]
}