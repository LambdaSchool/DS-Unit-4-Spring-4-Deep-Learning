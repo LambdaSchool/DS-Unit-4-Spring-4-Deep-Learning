{
  "nbformat": 4,
  "nbformat_minor": 0,
  "metadata": {
    "kernelspec": {
      "name": "python3",
      "display_name": "Python 3"
    },
    "colab": {
      "name": "LS_DS_432_Convolution_Neural_Networks_Assignment.ipynb",
      "provenance": [],
      "collapsed_sections": []
    },
    "accelerator": "GPU"
  },
  "cells": [
    {
      "cell_type": "markdown",
      "metadata": {
        "id": "NqTVeO4tNByB",
        "colab_type": "text"
      },
      "source": [
        "<img align=\"left\" src=\"https://lever-client-logos.s3.amazonaws.com/864372b1-534c-480e-acd5-9711f850815c-1524247202159.png\" width=200>\n",
        "<br></br>\n",
        "<br></br>\n",
        "\n",
        "## *Data Science Unit 4 Sprint 3 Assignment 2*\n",
        "# Convolutional Neural Networks (CNNs)"
      ]
    },
    {
      "cell_type": "markdown",
      "metadata": {
        "colab_type": "text",
        "id": "0lfZdD_cp1t5"
      },
      "source": [
        "# Assignment\n",
        "\n",
        "- <a href=\"#p1\">Part 1:</a> Pre-Trained Model\n",
        "- <a href=\"#p2\">Part 2:</a> Custom CNN Model\n",
        "- <a href=\"#p3\">Part 3:</a> CNN with Data Augmentation\n",
        "\n",
        "\n",
        "You will apply three different CNN models to a binary image classification model using Keras. Classify images of Mountains (`./data/mountain/*`) and images of forests (`./data/forest/*`). Treat mountains as the postive class (1) and the forest images as the negative (zero). \n",
        "\n",
        "|Mountain (+)|Forest (-)|\n",
        "|---|---|\n",
        "|![](https://github.com/Okocha76/DS-Unit-4-Sprint-3-Deep-Learning/blob/master/module2-convolutional-neural-networks/data/mountain/art1131.jpg?raw=1)|![](https://github.com/Okocha76/DS-Unit-4-Sprint-3-Deep-Learning/blob/master/module2-convolutional-neural-networks/data/forest/cdmc317.jpg?raw=1)|\n",
        "\n",
        "The problem is realively difficult given that the sample is tiny: there are about 350 observations per class. This sample size might be something that you can expect with prototyping an image classification problem/solution at work. Get accustomed to evaluating several differnet possible models."
      ]
    },
    {
      "cell_type": "markdown",
      "metadata": {
        "colab_type": "text",
        "id": "0MhtpqJ5NByJ"
      },
      "source": [
        "# Pre - Trained Model\n",
        "<a id=\"p1\"></a>\n",
        "\n",
        "Load a pretrained network from Keras, [ResNet50](https://tfhub.dev/google/imagenet/resnet_v1_50/classification/1) - a 50 layer deep network trained to recognize [1000 objects](https://storage.googleapis.com/download.tensorflow.org/data/ImageNetLabels.txt). Starting usage:\n",
        "\n",
        "```python\n",
        "import numpy as np\n",
        "\n",
        "from tensorflow.keras.applications.resnet50 import ResNet50\n",
        "from tensorflow.keras.preprocessing import image\n",
        "from tensorflow.keras.applications.resnet50 import preprocess_input, decode_predictions\n",
        "\n",
        "from tensorflow.keras.layers import Dense, GlobalAveragePooling2D()\n",
        "from tensorflow.keras.models import Model # This is the functional API\n",
        "\n",
        "resnet = ResNet50(weights='imagenet', include_top=False)\n",
        "\n",
        "```\n",
        "\n",
        "The `include_top` parameter in `ResNet50` will remove the full connected layers from the ResNet model. The next step is to turn off the training of the ResNet layers. We want to use the learned parameters without updating them in future training passes. \n",
        "\n",
        "```python\n",
        "for layer in resnet.layers:\n",
        "    layer.trainable = False\n",
        "```\n",
        "\n",
        "Using the Keras functional API, we will need to additional additional full connected layers to our model. We we removed the top layers, we removed all preivous fully connected layers. In other words, we kept only the feature processing portions of our network. You can expert with additional layers beyond what's listed here. The `GlobalAveragePooling2D` layer functions as a really fancy flatten function by taking the average of each of the last convolutional layer outputs (which is two dimensional still). \n",
        "\n",
        "```python\n",
        "x = res.output\n",
        "x = GlobalAveragePooling2D()(x) # This layer is a really fancy flatten\n",
        "x = Dense(1024, activation='relu')(x)\n",
        "predictions = Dense(1, activation='sigmoid')(x)\n",
        "model = Model(res.input, predictions)\n",
        "```\n",
        "\n",
        "Your assignment is to apply the transfer learning above to classify images of Mountains (`./data/mountain/*`) and images of forests (`./data/forest/*`). Treat mountains as the postive class (1) and the forest images as the negative (zero). \n",
        "\n",
        "Steps to complete assignment: \n",
        "1. Load in Image Data into numpy arrays (`X`) \n",
        "2. Create a `y` for the labels\n",
        "3. Train your model with pretrained layers from resnet\n",
        "4. Report your model's accuracy"
      ]
    },
    {
      "cell_type": "markdown",
      "metadata": {
        "id": "yN_dsCFYNByM",
        "colab_type": "text"
      },
      "source": [
        "## Load in Data\n",
        "\n",
        "![skimage-logo](https://scikit-image.org/_static/img/logo.png)\n",
        "\n",
        "Check out out [`skimage`](https://scikit-image.org/) for useful functions related to processing the images. In particular checkout the documentation for `skimage.io.imread_collection` and `skimage.transform.resize`."
      ]
    },
    {
      "cell_type": "code",
      "metadata": {
        "id": "0dmQkjbVZz9t",
        "colab_type": "code",
        "outputId": "d2172a93-ba2d-4109-b1a9-93e7fc1bca97",
        "colab": {
          "base_uri": "https://localhost:8080/",
          "height": 63
        }
      },
      "source": [
        "import numpy as np\n",
        "import matplotlib.pyplot as plt\n",
        "import os\n",
        "\n",
        "from PIL import Image\n",
        "from sklearn.model_selection import train_test_split\n",
        "\n",
        "from tensorflow.keras.applications.resnet50 import ResNet50\n",
        "from tensorflow.keras.preprocessing import image\n",
        "from tensorflow.keras.applications.resnet50 import preprocess_input, decode_predictions\n",
        " \n",
        "from tensorflow.keras.layers import Dense, GlobalAveragePooling2D, Dropout, Conv2D, MaxPooling2D, Flatten\n",
        "from tensorflow.keras.models import Sequential, Model # This is the functional API"
      ],
      "execution_count": 5,
      "outputs": [
        {
          "output_type": "display_data",
          "data": {
            "text/html": [
              "<p style=\"color: red;\">\n",
              "The default version of TensorFlow in Colab will soon switch to TensorFlow 2.x.<br>\n",
              "We recommend you <a href=\"https://www.tensorflow.org/guide/migrate\" target=\"_blank\">upgrade</a> now \n",
              "or ensure your notebook will continue to use TensorFlow 1.x via the <code>%tensorflow_version 1.x</code> magic:\n",
              "<a href=\"https://colab.research.google.com/notebooks/tensorflow_version.ipynb\" target=\"_blank\">more info</a>.</p>\n"
            ],
            "text/plain": [
              "<IPython.core.display.HTML object>"
            ]
          },
          "metadata": {
            "tags": []
          }
        }
      ]
    },
    {
      "cell_type": "code",
      "metadata": {
        "id": "lHEGlvKUdqC5",
        "colab_type": "code",
        "colab": {}
      },
      "source": [
        "# fix random seed for reproducibility\n",
        "seed = 7\n",
        "np.random.seed(seed)"
      ],
      "execution_count": 0,
      "outputs": []
    },
    {
      "cell_type": "code",
      "metadata": {
        "id": "sDwFe-g_NByN",
        "colab_type": "code",
        "outputId": "baea3738-e50b-411b-b3e8-06f6f10ae13f",
        "colab": {
          "base_uri": "https://localhost:8080/",
          "height": 34
        }
      },
      "source": [
        "!ls"
      ],
      "execution_count": 4,
      "outputs": [
        {
          "output_type": "stream",
          "text": [
            "forest\tmountain\n"
          ],
          "name": "stdout"
        }
      ]
    },
    {
      "cell_type": "code",
      "metadata": {
        "id": "m9pHVKe4NkaK",
        "colab_type": "code",
        "colab": {}
      },
      "source": [
        "!rm -r sample_data/"
      ],
      "execution_count": 0,
      "outputs": []
    },
    {
      "cell_type": "code",
      "metadata": {
        "id": "CFEGEfoaNoBg",
        "colab_type": "code",
        "colab": {}
      },
      "source": [
        "mkdir forest && mv *.jpg forest # Run after uploading forest data"
      ],
      "execution_count": 0,
      "outputs": []
    },
    {
      "cell_type": "code",
      "metadata": {
        "id": "QCl0_pl6N6Lz",
        "colab_type": "code",
        "colab": {}
      },
      "source": [
        "mkdir mountain && mv *.jpg mountain # Run after uploading mountain data"
      ],
      "execution_count": 0,
      "outputs": []
    },
    {
      "cell_type": "code",
      "metadata": {
        "id": "dqc6_YfjO3HP",
        "colab_type": "code",
        "colab": {}
      },
      "source": [
        "forest = ['./forest/'+ image for image in os.listdir('./forest')]\n",
        "mountain = ['./mountain/'+ image for image in os.listdir('./mountain')]"
      ],
      "execution_count": 0,
      "outputs": []
    },
    {
      "cell_type": "code",
      "metadata": {
        "id": "ZVpUnflfPHRz",
        "colab_type": "code",
        "colab": {}
      },
      "source": [
        "y0 = np.zeros(len(forest))\n",
        "y1 = np.ones(len(mountain))\n",
        "y = np.hstack((y0,y1))"
      ],
      "execution_count": 0,
      "outputs": []
    },
    {
      "cell_type": "code",
      "metadata": {
        "id": "uiU3GoK7PQnt",
        "colab_type": "code",
        "colab": {}
      },
      "source": [
        "# Create data arrays (X)\n",
        "X = []\n",
        "for image in (forest + mountain):\n",
        "  image_array = np.asarray(Image.open(image))\n",
        "  X.append(image_array)\n",
        "\n",
        "X = np.array(X) / 255 # normalize pixel values by dividing by 255"
      ],
      "execution_count": 0,
      "outputs": []
    },
    {
      "cell_type": "code",
      "metadata": {
        "id": "kB15KEpHRj6y",
        "colab_type": "code",
        "outputId": "97ad9463-0b8a-414e-c9be-5a0625cb66bb",
        "colab": {
          "base_uri": "https://localhost:8080/",
          "height": 34
        }
      },
      "source": [
        "X.shape, y.shape"
      ],
      "execution_count": 9,
      "outputs": [
        {
          "output_type": "execute_result",
          "data": {
            "text/plain": [
              "((702, 256, 256, 3), (702,))"
            ]
          },
          "metadata": {
            "tags": []
          },
          "execution_count": 9
        }
      ]
    },
    {
      "cell_type": "markdown",
      "metadata": {
        "id": "yjbwMMQHNByS",
        "colab_type": "text"
      },
      "source": [
        "## Instantiate Model"
      ]
    },
    {
      "cell_type": "code",
      "metadata": {
        "id": "DkrcCwu1NByV",
        "colab_type": "code",
        "outputId": "57742007-3834-4829-aeaf-b0d77aa41e33",
        "colab": {
          "base_uri": "https://localhost:8080/",
          "height": 122
        }
      },
      "source": [
        "resnet = ResNet50(weights='imagenet', include_top=False)\n",
        "\n",
        "for layer in resnet.layers:\n",
        "    layer.trainable = False"
      ],
      "execution_count": 12,
      "outputs": [
        {
          "output_type": "stream",
          "text": [
            "WARNING:tensorflow:From /usr/local/lib/python3.6/dist-packages/tensorflow_core/python/ops/resource_variable_ops.py:1630: calling BaseResourceVariable.__init__ (from tensorflow.python.ops.resource_variable_ops) with constraint is deprecated and will be removed in a future version.\n",
            "Instructions for updating:\n",
            "If using Keras pass *_constraint arguments to layers.\n",
            "Downloading data from https://github.com/keras-team/keras-applications/releases/download/resnet/resnet50_weights_tf_dim_ordering_tf_kernels_notop.h5\n",
            "94773248/94765736 [==============================] - 3s 0us/step\n"
          ],
          "name": "stdout"
        }
      ]
    },
    {
      "cell_type": "code",
      "metadata": {
        "id": "zbrMnNlMOz9t",
        "colab_type": "code",
        "colab": {}
      },
      "source": [
        "x = resnet.output\n",
        "x = GlobalAveragePooling2D()(x) # This layer is a really fancy flatten\n",
        "x = Dense(1024, activation='relu')(x)\n",
        "predictions = Dense(1, activation='sigmoid')(x)\n",
        "model = Model(resnet.input, predictions)"
      ],
      "execution_count": 0,
      "outputs": []
    },
    {
      "cell_type": "code",
      "metadata": {
        "id": "X4zzv-YKWvnq",
        "colab_type": "code",
        "colab": {}
      },
      "source": [
        "model.compile(optimizer='adam',\n",
        "                loss='binary_crossentropy',\n",
        "                metrics=['accuracy'])\n",
        "\n",
        "# model.summary()"
      ],
      "execution_count": 0,
      "outputs": []
    },
    {
      "cell_type": "markdown",
      "metadata": {
        "id": "vjFUxmIfNByi",
        "colab_type": "text"
      },
      "source": [
        "## Fit Model"
      ]
    },
    {
      "cell_type": "code",
      "metadata": {
        "id": "kw_4lA3_NByk",
        "colab_type": "code",
        "outputId": "7fc00b70-97cb-40d8-e018-7c2d56d0698a",
        "colab": {
          "base_uri": "https://localhost:8080/",
          "height": 374
        }
      },
      "source": [
        "resnet = model.fit(X, y, validation_split=0.15, epochs=10)"
      ],
      "execution_count": 21,
      "outputs": [
        {
          "output_type": "stream",
          "text": [
            "Train on 596 samples, validate on 106 samples\n",
            "Epoch 1/10\n",
            "596/596 [==============================] - 5s 8ms/sample - loss: 0.0921 - acc: 0.9799 - val_loss: 0.9359 - val_acc: 0.0566\n",
            "Epoch 2/10\n",
            "596/596 [==============================] - 3s 6ms/sample - loss: 0.1006 - acc: 0.9715 - val_loss: 0.7659 - val_acc: 0.1792\n",
            "Epoch 3/10\n",
            "596/596 [==============================] - 3s 6ms/sample - loss: 0.0308 - acc: 0.9899 - val_loss: 2.3217 - val_acc: 0.0000e+00\n",
            "Epoch 4/10\n",
            "596/596 [==============================] - 3s 6ms/sample - loss: 0.0104 - acc: 0.9950 - val_loss: 2.7503 - val_acc: 0.0000e+00\n",
            "Epoch 5/10\n",
            "596/596 [==============================] - 3s 6ms/sample - loss: 0.0101 - acc: 0.9966 - val_loss: 2.0711 - val_acc: 0.0000e+00\n",
            "Epoch 6/10\n",
            "596/596 [==============================] - 3s 6ms/sample - loss: 0.0434 - acc: 0.9866 - val_loss: 1.5647 - val_acc: 0.0000e+00\n",
            "Epoch 7/10\n",
            "596/596 [==============================] - 3s 6ms/sample - loss: 0.0135 - acc: 0.9933 - val_loss: 0.2012 - val_acc: 1.0000\n",
            "Epoch 8/10\n",
            "596/596 [==============================] - 3s 6ms/sample - loss: 0.0349 - acc: 0.9899 - val_loss: 0.0260 - val_acc: 1.0000\n",
            "Epoch 9/10\n",
            "596/596 [==============================] - 3s 6ms/sample - loss: 0.0392 - acc: 0.9899 - val_loss: 2.5506 - val_acc: 0.0000e+00\n",
            "Epoch 10/10\n",
            "596/596 [==============================] - 3s 6ms/sample - loss: 0.0346 - acc: 0.9916 - val_loss: 0.7571 - val_acc: 0.2736\n"
          ],
          "name": "stdout"
        }
      ]
    },
    {
      "cell_type": "code",
      "metadata": {
        "id": "fBMxRoeafR_t",
        "colab_type": "code",
        "colab": {
          "base_uri": "https://localhost:8080/",
          "height": 370
        },
        "outputId": "ccb0c2a3-989c-494e-b373-9c7b29becbdd"
      },
      "source": [
        "fig, ((ax1,ax2)) = plt.subplots(nrows=1,ncols=2,sharey=False,figsize=(10,5))\n",
        "fig.suptitle('Resnet Metrics', fontsize=20, fontweight='bold')\n",
        "\n",
        "ax1.plot(resnet.history['loss'], color = 'r', label='Train')\n",
        "ax1.plot(resnet.history['val_loss'], color = 'b', label='Val')\n",
        "ax1.legend()\n",
        "ax1.set(title='Binary Cross-Entropy (Loss)', xlabel='epochs', ylabel='loss')\n",
        "\n",
        "ax2.plot(resnet.history['acc'], color = 'r', label='Train')\n",
        "ax2.plot(resnet.history['val_acc'], color = 'b', label='Val')\n",
        "ax2.legend()\n",
        "ax2.set(title='Accuracy', xlabel='epochs', ylabel='accuracy');"
      ],
      "execution_count": 22,
      "outputs": [
        {
          "output_type": "display_data",
          "data": {
            "image/png": "[encoded data removed]",
            "text/plain": [
              "<Figure size 720x360 with 2 Axes>"
            ]
          },
          "metadata": {
            "tags": []
          }
        }
      ]
    },
    {
      "cell_type": "markdown",
      "metadata": {
        "id": "XTgHNPCkNByu",
        "colab_type": "text"
      },
      "source": [
        "# Custom CNN Model\n",
        "\n",
        "In this step, write and train your own convolutional neural network using Keras. You can use any architecture that suits you as long as it has at least one convolutional and one pooling layer at the beginning of the network - you can add more if you want. "
      ]
    },
    {
      "cell_type": "code",
      "metadata": {
        "id": "fTI-2HCANByy",
        "colab_type": "code",
        "outputId": "23abd893-267a-43ad-9b8c-62ffb8938d3c",
        "colab": {
          "base_uri": "https://localhost:8080/",
          "height": 425
        }
      },
      "source": [
        "# set up architecture:\n",
        "model = Sequential()\n",
        "model.add(Conv2D(32, (3,3), activation='relu', input_shape=(256,256,3)))\n",
        "model.add(MaxPooling2D((2,2)))\n",
        "model.add(Conv2D(64, (3,3), activation='relu'))\n",
        "model.add(MaxPooling2D((2,2)))\n",
        "model.add(Conv2D(64, (3,3), activation='relu'))\n",
        "model.add(Flatten())\n",
        "model.add(Dense(64, activation='relu'))\n",
        "model.add(Dense(1, activation='sigmoid'))\n",
        "\n",
        "model.summary()"
      ],
      "execution_count": 23,
      "outputs": [
        {
          "output_type": "stream",
          "text": [
            "Model: \"sequential\"\n",
            "_________________________________________________________________\n",
            "Layer (type)                 Output Shape              Param #   \n",
            "=================================================================\n",
            "conv2d (Conv2D)              (None, 254, 254, 32)      896       \n",
            "_________________________________________________________________\n",
            "max_pooling2d (MaxPooling2D) (None, 127, 127, 32)      0         \n",
            "_________________________________________________________________\n",
            "conv2d_1 (Conv2D)            (None, 125, 125, 64)      18496     \n",
            "_________________________________________________________________\n",
            "max_pooling2d_1 (MaxPooling2 (None, 62, 62, 64)        0         \n",
            "_________________________________________________________________\n",
            "conv2d_2 (Conv2D)            (None, 60, 60, 64)        36928     \n",
            "_________________________________________________________________\n",
            "flatten (Flatten)            (None, 230400)            0         \n",
            "_________________________________________________________________\n",
            "dense_2 (Dense)              (None, 64)                14745664  \n",
            "_________________________________________________________________\n",
            "dense_3 (Dense)              (None, 1)                 65        \n",
            "=================================================================\n",
            "Total params: 14,802,049\n",
            "Trainable params: 14,802,049\n",
            "Non-trainable params: 0\n",
            "_________________________________________________________________\n"
          ],
          "name": "stdout"
        }
      ]
    },
    {
      "cell_type": "code",
      "metadata": {
        "id": "74GO8Mt8NBy5",
        "colab_type": "code",
        "colab": {}
      },
      "source": [
        "# Compile Model\n",
        "model.compile(loss='binary_crossentropy', optimizer='adam', metrics=['accuracy'])"
      ],
      "execution_count": 0,
      "outputs": []
    },
    {
      "cell_type": "code",
      "metadata": {
        "id": "lxMlANVSNBzB",
        "colab_type": "code",
        "outputId": "ea2dd0df-ddab-40f4-b60b-dd771eb7d93d",
        "colab": {
          "base_uri": "https://localhost:8080/",
          "height": 374
        }
      },
      "source": [
        "# Fit Model\n",
        "customCNN = model.fit(X, y, epochs=10, validation_split=0.15)"
      ],
      "execution_count": 25,
      "outputs": [
        {
          "output_type": "stream",
          "text": [
            "Train on 596 samples, validate on 106 samples\n",
            "Epoch 1/10\n",
            "596/596 [==============================] - 4s 6ms/sample - loss: 1.0586 - acc: 0.7248 - val_loss: 0.7194 - val_acc: 0.6887\n",
            "Epoch 2/10\n",
            "596/596 [==============================] - 2s 3ms/sample - loss: 0.2097 - acc: 0.9295 - val_loss: 0.1484 - val_acc: 0.9434\n",
            "Epoch 3/10\n",
            "596/596 [==============================] - 2s 3ms/sample - loss: 0.2538 - acc: 0.9010 - val_loss: 0.1145 - val_acc: 0.9906\n",
            "Epoch 4/10\n",
            "596/596 [==============================] - 2s 3ms/sample - loss: 0.1555 - acc: 0.9480 - val_loss: 0.1120 - val_acc: 0.9528\n",
            "Epoch 5/10\n",
            "596/596 [==============================] - 2s 3ms/sample - loss: 0.1496 - acc: 0.9379 - val_loss: 0.3110 - val_acc: 0.8679\n",
            "Epoch 6/10\n",
            "596/596 [==============================] - 2s 3ms/sample - loss: 0.0982 - acc: 0.9732 - val_loss: 0.1580 - val_acc: 0.9340\n",
            "Epoch 7/10\n",
            "596/596 [==============================] - 2s 3ms/sample - loss: 0.1027 - acc: 0.9614 - val_loss: 0.4289 - val_acc: 0.8396\n",
            "Epoch 8/10\n",
            "596/596 [==============================] - 2s 3ms/sample - loss: 0.0496 - acc: 0.9866 - val_loss: 0.1783 - val_acc: 0.9340\n",
            "Epoch 9/10\n",
            "596/596 [==============================] - 2s 3ms/sample - loss: 0.0405 - acc: 0.9832 - val_loss: 0.1015 - val_acc: 0.9623\n",
            "Epoch 10/10\n",
            "596/596 [==============================] - 2s 3ms/sample - loss: 0.0439 - acc: 0.9866 - val_loss: 0.2405 - val_acc: 0.9245\n"
          ],
          "name": "stdout"
        }
      ]
    },
    {
      "cell_type": "code",
      "metadata": {
        "id": "10kirZClgsxs",
        "colab_type": "code",
        "colab": {
          "base_uri": "https://localhost:8080/",
          "height": 370
        },
        "outputId": "85d2ff4c-2af2-479d-8fce-c65e62e2483b"
      },
      "source": [
        "fig, ((ax1,ax2)) = plt.subplots(nrows=1,ncols=2,sharey=False,figsize=(10,5))\n",
        "fig.suptitle('customCNN Metrics', fontsize=20, fontweight='bold')\n",
        "\n",
        "ax1.plot(customCNN.history['loss'], color = 'r', label='Train')\n",
        "ax1.plot(customCNN.history['val_loss'], color = 'b', label='Val')\n",
        "ax1.legend()\n",
        "ax1.set(title='Binary Cross-Entropy (Loss)', xlabel='epochs', ylabel='loss')\n",
        "\n",
        "ax2.plot(customCNN.history['acc'], color = 'r', label='Train')\n",
        "ax2.plot(customCNN.history['val_acc'], color = 'b', label='Val')\n",
        "ax2.legend()\n",
        "ax2.set(title='Accuracy', xlabel='epochs', ylabel='accuracy');"
      ],
      "execution_count": 26,
      "outputs": [
        {
          "output_type": "display_data",
          "data": {
            "image/png": "[encoded data removed]",
            "text/plain": [
              "<Figure size 720x360 with 2 Axes>"
            ]
          },
          "metadata": {
            "tags": []
          }
        }
      ]
    },
    {
      "cell_type": "markdown",
      "metadata": {
        "id": "Dr8zBJwDNBzH",
        "colab_type": "text"
      },
      "source": [
        "# Custom CNN Model with Image Manipulations\n",
        "## *This a stretch goal, and it's relatively difficult*\n",
        "\n",
        "To simulate an increase in a sample of image, you can apply image manipulation techniques: cropping, rotation, stretching, etc. Luckily Keras has some handy functions for us to apply these techniques to our mountain and forest example. Check out these resources to help you get started: \n",
        "\n",
        "1. [Keras `ImageGenerator` Class](https://keras.io/preprocessing/image/#imagedatagenerator-class)\n",
        "2. [Building a powerful image classifier with very little data](https://blog.keras.io/building-powerful-image-classification-models-using-very-little-data.html)\n",
        " "
      ]
    },
    {
      "cell_type": "code",
      "metadata": {
        "id": "cz5Dw_KtNBzJ",
        "colab_type": "code",
        "colab": {}
      },
      "source": [
        "# State Code for Image Manipulation Here"
      ],
      "execution_count": 0,
      "outputs": []
    },
    {
      "cell_type": "markdown",
      "metadata": {
        "colab_type": "text",
        "id": "uT3UV3gap9H6"
      },
      "source": [
        "# Resources and Stretch Goals\n",
        "\n",
        "Stretch goals\n",
        "- Enhance your code to use classes/functions and accept terms to search and classes to look for in recognizing the downloaded images (e.g. download images of parties, recognize all that contain balloons)\n",
        "- Check out [other available pretrained networks](https://tfhub.dev), try some and compare\n",
        "- Image recognition/classification is somewhat solved, but *relationships* between entities and describing an image is not - check out some of the extended resources (e.g. [Visual Genome](https://visualgenome.org/)) on the topic\n",
        "- Transfer learning - using images you source yourself, [retrain a classifier](https://www.tensorflow.org/hub/tutorials/image_retraining) with a new category\n",
        "- (Not CNN related) Use [piexif](https://pypi.org/project/piexif/) to check out the metadata of images passed in to your system - see if they're from a national park! (Note - many images lack GPS metadata, so this won't work in most cases, but still cool)\n",
        "\n",
        "Resources\n",
        "- [Deep Residual Learning for Image Recognition](https://arxiv.org/abs/1512.03385) - influential paper (introduced ResNet)\n",
        "- [YOLO: Real-Time Object Detection](https://pjreddie.com/darknet/yolo/) - an influential convolution based object detection system, focused on inference speed (for applications to e.g. self driving vehicles)\n",
        "- [R-CNN, Fast R-CNN, Faster R-CNN, YOLO](https://towardsdatascience.com/r-cnn-fast-r-cnn-faster-r-cnn-yolo-object-detection-algorithms-36d53571365e) - comparison of object detection systems\n",
        "- [Common Objects in Context](http://cocodataset.org/) - a large-scale object detection, segmentation, and captioning dataset\n",
        "- [Visual Genome](https://visualgenome.org/) - a dataset, a knowledge base, an ongoing effort to connect structured image concepts to language"
      ]
    }
  ]
}