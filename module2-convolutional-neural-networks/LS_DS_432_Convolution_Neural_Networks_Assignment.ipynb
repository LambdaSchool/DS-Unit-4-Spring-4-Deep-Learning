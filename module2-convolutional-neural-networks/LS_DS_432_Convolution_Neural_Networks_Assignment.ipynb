{
  "nbformat": 4,
  "nbformat_minor": 0,
  "metadata": {
    "kernelspec": {
      "name": "python3",
      "display_name": "Python 3"
    },
    "colab": {
      "name": "LS_DS_432_Convolution_Neural_Networks_Assignment.ipynb",
      "provenance": [],
      "include_colab_link": true
    },
    "accelerator": "GPU"
  },
  "cells": [
    {
      "cell_type": "markdown",
      "metadata": {
        "id": "view-in-github",
        "colab_type": "text"
      },
      "source": [
        "<a href=\"https://colab.research.google.com/github/cedro-gasque/DS-Unit-4-Sprint-3-Deep-Learning/blob/master/module2-convolutional-neural-networks/LS_DS_432_Convolution_Neural_Networks_Assignment.ipynb\" target=\"_parent\"><img src=\"https://colab.research.google.com/assets/colab-badge.svg\" alt=\"Open In Colab\"/></a>"
      ]
    },
    {
      "cell_type": "markdown",
      "metadata": {
        "id": "HtL7UwRfZyuN",
        "colab_type": "text"
      },
      "source": [
        "<img align=\"left\" src=\"https://lever-client-logos.s3.amazonaws.com/864372b1-534c-480e-acd5-9711f850815c-1524247202159.png\" width=200>\n",
        "<br></br>\n",
        "<br></br>\n",
        "\n",
        "## *Data Science Unit 4 Sprint 3 Assignment 2*\n",
        "# Convolutional Neural Networks (CNNs)"
      ]
    },
    {
      "cell_type": "markdown",
      "metadata": {
        "colab_type": "text",
        "id": "0lfZdD_cp1t5"
      },
      "source": [
        "# Assignment\n",
        "\n",
        "- <a href=\"#p1\">Part 1:</a> Pre-Trained Model\n",
        "- <a href=\"#p2\">Part 2:</a> Custom CNN Model\n",
        "- <a href=\"#p3\">Part 3:</a> CNN with Data Augmentation\n",
        "\n",
        "\n",
        "You will apply three different CNN models to a binary image classification model using Keras. Classify images of Mountains (`./data/train/mountain/*`) and images of forests (`./data/train/forest/*`). Treat mountains as the positive class (1) and the forest images as the negative (zero). \n",
        "\n",
        "|Mountain (+)|Forest (-)|\n",
        "|---|---|\n",
        "|![](https://github.com/cedro-gasque/DS-Unit-4-Sprint-3-Deep-Learning/blob/master/module2-convolutional-neural-networks/data/train/mountain/art1131.jpg?raw=1)|![](https://github.com/cedro-gasque/DS-Unit-4-Sprint-3-Deep-Learning/blob/master/module2-convolutional-neural-networks/data/validation/forest/cdmc317.jpg?raw=1)|\n",
        "\n",
        "The problem is relatively difficult given that the sample is tiny: there are about 350 observations per class. This sample size might be something that you can expect with prototyping an image classification problem/solution at work. Get accustomed to evaluating several different possible models."
      ]
    },
    {
      "cell_type": "markdown",
      "metadata": {
        "colab_type": "text",
        "id": "NG8osYi5ZyuS"
      },
      "source": [
        "# Pre - Trained Model\n",
        "<a id=\"p1\"></a>\n",
        "\n",
        "Load a pretrained network from Keras, [ResNet50](https://tfhub.dev/google/imagenet/resnet_v1_50/classification/1) - a 50 layer deep network trained to recognize [1000 objects](https://storage.googleapis.com/download.tensorflow.org/data/ImageNetLabels.txt). Starting usage:\n",
        "\n",
        "```python\n",
        "import numpy as np\n",
        "\n",
        "from tensorflow.keras.applications.resnet50 import ResNet50\n",
        "from tensorflow.keras.preprocessing import image\n",
        "from tensorflow.keras.applications.resnet50 import preprocess_input, decode_predictions\n",
        "\n",
        "from tensorflow.keras.layers import Dense, GlobalAveragePooling2D\n",
        "from tensorflow.keras.models import Model # This is the functional API\n",
        "\n",
        "resnet = ResNet50(weights='imagenet', include_top=False)\n",
        "\n",
        "```\n",
        "\n",
        "The `include_top` parameter in `ResNet50` will remove the full connected layers from the ResNet model. The next step is to turn off the training of the ResNet layers. We want to use the learned parameters without updating them in future training passes. \n",
        "\n",
        "```python\n",
        "for layer in resnet.layers:\n",
        "    layer.trainable = False\n",
        "```\n",
        "\n",
        "Using the Keras functional API, we will need to additional additional full connected layers to our model. We we removed the top layers, we removed all preivous fully connected layers. In other words, we kept only the feature processing portions of our network. You can expert with additional layers beyond what's listed here. The `GlobalAveragePooling2D` layer functions as a really fancy flatten function by taking the average of each of the last convolutional layer outputs (which is two dimensional still). \n",
        "\n",
        "```python\n",
        "x = resnet.output\n",
        "x = GlobalAveragePooling2D()(x) # This layer is a really fancy flatten\n",
        "x = Dense(1024, activation='relu')(x)\n",
        "predictions = Dense(1, activation='sigmoid')(x)\n",
        "model = Model(resnet.input, predictions)\n",
        "```\n",
        "\n",
        "Your assignment is to apply the transfer learning above to classify images of Mountains (`./data/train/mountain/*`) and images of forests (`./data/train/forest/*`). Treat mountains as the positive class (1) and the forest images as the negative (zero). \n",
        "\n",
        "Steps to complete assignment: \n",
        "1. Load in Image Data into numpy arrays (`X`) \n",
        "2. Create a `y` for the labels\n",
        "3. Train your model with pre-trained layers from resnet\n",
        "4. Report your model's accuracy"
      ]
    },
    {
      "cell_type": "markdown",
      "metadata": {
        "id": "GG0FzwE4ZyuW",
        "colab_type": "text"
      },
      "source": [
        "## Load in Data\n",
        "\n",
        "This surprisingly more difficult than it seems, because you are working with directories of images instead of a single file. This boiler plate will help you download a zipped version of the directory of images. The directory is organized into \"train\" and \"validation\" which you can use inside an `ImageGenerator` class to stream batches of images thru your model.  \n"
      ]
    },
    {
      "cell_type": "markdown",
      "metadata": {
        "id": "ld21wNHpZyuY",
        "colab_type": "text"
      },
      "source": [
        "### Download & Summarize the Data\n",
        "\n",
        "This step is completed for you. Just run the cells and review the results. "
      ]
    },
    {
      "cell_type": "code",
      "metadata": {
        "id": "De1cbyEoZyub",
        "colab_type": "code",
        "outputId": "66cb0462-4034-4ec4-c6e1-ea96b5602894",
        "colab": {
          "base_uri": "https://localhost:8080/",
          "height": 50
        }
      },
      "source": [
        "import tensorflow as tf\n",
        "import os\n",
        "\n",
        "_URL = 'https://github.com/LambdaSchool/DS-Unit-4-Sprint-3-Deep-Learning/blob/master/module2-convolutional-neural-networks/data.zip?raw=true'\n",
        "\n",
        "path_to_zip = tf.keras.utils.get_file('./data.zip', origin=_URL, extract=True)\n",
        "PATH = os.path.join(os.path.dirname(path_to_zip), 'data')"
      ],
      "execution_count": 1,
      "outputs": [
        {
          "output_type": "stream",
          "text": [
            "Downloading data from https://github.com/LambdaSchool/DS-Unit-4-Sprint-3-Deep-Learning/blob/master/module2-convolutional-neural-networks/data.zip?raw=true\n",
            "42172416/42170838 [==============================] - 1s 0us/step\n"
          ],
          "name": "stdout"
        }
      ]
    },
    {
      "cell_type": "code",
      "metadata": {
        "id": "pmynnb0iZyum",
        "colab_type": "code",
        "colab": {}
      },
      "source": [
        "train_dir = os.path.join(PATH, 'train')\n",
        "validation_dir = os.path.join(PATH, 'validation')"
      ],
      "execution_count": 0,
      "outputs": []
    },
    {
      "cell_type": "code",
      "metadata": {
        "id": "fbd9AJ2xZyut",
        "colab_type": "code",
        "colab": {}
      },
      "source": [
        "train_mountain_dir = os.path.join(train_dir, 'mountain')  # directory with our training cat pictures\n",
        "train_forest_dir = os.path.join(train_dir, 'forest')  # directory with our training dog pictures\n",
        "validation_mountain_dir = os.path.join(validation_dir, 'mountain')  # directory with our validation cat pictures\n",
        "validation_forest_dir = os.path.join(validation_dir, 'forest')  # directory with our validation dog pictures"
      ],
      "execution_count": 0,
      "outputs": []
    },
    {
      "cell_type": "code",
      "metadata": {
        "id": "JC9WGDMUZyu0",
        "colab_type": "code",
        "colab": {}
      },
      "source": [
        "num_mountain_tr = len(os.listdir(train_mountain_dir))\n",
        "num_forest_tr = len(os.listdir(train_forest_dir))\n",
        "\n",
        "num_mountain_val = len(os.listdir(validation_mountain_dir))\n",
        "num_forest_val = len(os.listdir(validation_forest_dir))\n",
        "\n",
        "total_train = num_mountain_tr + num_forest_tr\n",
        "total_val = num_mountain_val + num_forest_val"
      ],
      "execution_count": 0,
      "outputs": []
    },
    {
      "cell_type": "code",
      "metadata": {
        "id": "8yWbbct8Zyu8",
        "colab_type": "code",
        "outputId": "4d6582bd-3b17-4ec4-886b-44c74ba12a18",
        "colab": {
          "base_uri": "https://localhost:8080/",
          "height": 134
        }
      },
      "source": [
        "print('total training mountain images:', num_mountain_tr)\n",
        "print('total training forest images:', num_forest_tr)\n",
        "\n",
        "print('total validation mountain images:', num_mountain_val)\n",
        "print('total validation forest images:', num_forest_val)\n",
        "print(\"--\")\n",
        "print(\"Total training images:\", total_train)\n",
        "print(\"Total validation images:\", total_val)"
      ],
      "execution_count": 5,
      "outputs": [
        {
          "output_type": "stream",
          "text": [
            "total training mountain images: 254\n",
            "total training forest images: 270\n",
            "total validation mountain images: 125\n",
            "total validation forest images: 62\n",
            "--\n",
            "Total training images: 524\n",
            "Total validation images: 187\n"
          ],
          "name": "stdout"
        }
      ]
    },
    {
      "cell_type": "markdown",
      "metadata": {
        "id": "vhA9fTRTZyvB",
        "colab_type": "text"
      },
      "source": [
        "### Keras `ImageGenerator` to Process the Data\n",
        "\n",
        "This step is completed for you, but please review the code. The `ImageGenerator` class reads in batches of data from a directory and pass them to the model one batch at a time. Just like large text files, this method is advantageous, because it stifles the need to load a bunch of images into memory. \n",
        "\n",
        "Check out the documentation for this class method: [Keras `ImageGenerator` Class](https://keras.io/preprocessing/image/#imagedatagenerator-class). You'll expand it's use in the third assignment objective."
      ]
    },
    {
      "cell_type": "code",
      "metadata": {
        "id": "6PwmdPhBZyvC",
        "colab_type": "code",
        "colab": {}
      },
      "source": [
        "batch_size = 16\n",
        "epochs = 50\n",
        "IMG_HEIGHT = 224\n",
        "IMG_WIDTH = 224"
      ],
      "execution_count": 0,
      "outputs": []
    },
    {
      "cell_type": "code",
      "metadata": {
        "id": "XSA46IFeZyvK",
        "colab_type": "code",
        "colab": {}
      },
      "source": [
        "from tensorflow.keras.preprocessing.image import ImageDataGenerator\n",
        "\n",
        "train_image_generator = ImageDataGenerator(rescale=1./255) # Generator for our training data\n",
        "validation_image_generator = ImageDataGenerator(rescale=1./255) # Generator for our validation data"
      ],
      "execution_count": 0,
      "outputs": []
    },
    {
      "cell_type": "code",
      "metadata": {
        "id": "_w4Z-70nZyvP",
        "colab_type": "code",
        "outputId": "bc787fc0-405f-4888-fe5a-0665ddeca2d6",
        "colab": {
          "base_uri": "https://localhost:8080/",
          "height": 34
        }
      },
      "source": [
        "train_data_gen = train_image_generator.flow_from_directory(batch_size=batch_size,\n",
        "                                                           directory=train_dir,\n",
        "                                                           shuffle=True,\n",
        "                                                           target_size=(IMG_HEIGHT, IMG_WIDTH),\n",
        "                                                           class_mode='binary')"
      ],
      "execution_count": 8,
      "outputs": [
        {
          "output_type": "stream",
          "text": [
            "Found 533 images belonging to 2 classes.\n"
          ],
          "name": "stdout"
        }
      ]
    },
    {
      "cell_type": "code",
      "metadata": {
        "id": "ebK5MytJZyvY",
        "colab_type": "code",
        "outputId": "1bc7bf70-d2e8-4ca9-e7e8-f91958bfd725",
        "colab": {
          "base_uri": "https://localhost:8080/",
          "height": 34
        }
      },
      "source": [
        "val_data_gen = validation_image_generator.flow_from_directory(batch_size=batch_size,\n",
        "                                                              directory=validation_dir,\n",
        "                                                              target_size=(IMG_HEIGHT, IMG_WIDTH),\n",
        "                                                              class_mode='binary')"
      ],
      "execution_count": 9,
      "outputs": [
        {
          "output_type": "stream",
          "text": [
            "Found 195 images belonging to 2 classes.\n"
          ],
          "name": "stdout"
        }
      ]
    },
    {
      "cell_type": "markdown",
      "metadata": {
        "id": "hePQXL30Zyvd",
        "colab_type": "text"
      },
      "source": [
        "## Instatiate Model"
      ]
    },
    {
      "cell_type": "code",
      "metadata": {
        "id": "zFnFATqXZyvd",
        "colab_type": "code",
        "colab": {}
      },
      "source": [
        "import numpy as np\n",
        " \n",
        "from tensorflow.keras.applications.resnet50 import ResNet50\n",
        "from tensorflow.keras.preprocessing import image\n",
        "from tensorflow.keras.applications.resnet50 import preprocess_input, decode_predictions\n",
        " \n",
        "from tensorflow.keras.layers import Dense, GlobalAveragePooling2D, Conv2D, MaxPooling2D, Flatten, Dropout\n",
        "from tensorflow.keras.models import Sequential, Model # This is the functional API\n",
        " \n",
        "resnet = ResNet50(weights='imagenet', include_top=False)"
      ],
      "execution_count": 0,
      "outputs": []
    },
    {
      "cell_type": "code",
      "metadata": {
        "id": "42AagQ_ie7hm",
        "colab_type": "code",
        "colab": {}
      },
      "source": [
        "for layer in resnet.layers:\n",
        "    layer.trainable = False "
      ],
      "execution_count": 0,
      "outputs": []
    },
    {
      "cell_type": "code",
      "metadata": {
        "id": "LCPzTEGne9np",
        "colab_type": "code",
        "colab": {}
      },
      "source": [
        "x = resnet.output\n",
        "x = GlobalAveragePooling2D()(x) # This layer is a really fancy flatten\n",
        "x = Dense(1024, activation='relu')(x)\n",
        "predictions = Dense(1, activation='sigmoid')(x)\n",
        "model = Model(resnet.input, predictions)"
      ],
      "execution_count": 0,
      "outputs": []
    },
    {
      "cell_type": "markdown",
      "metadata": {
        "id": "jIPnrSmfZyvi",
        "colab_type": "text"
      },
      "source": [
        "## Fit Model"
      ]
    },
    {
      "cell_type": "code",
      "metadata": {
        "id": "RDrxMJtjfJEP",
        "colab_type": "code",
        "colab": {}
      },
      "source": [
        "model.compile(optimizer='nadam', loss='binary_crossentropy', metrics=['accuracy'])"
      ],
      "execution_count": 0,
      "outputs": []
    },
    {
      "cell_type": "code",
      "metadata": {
        "id": "inmcxEblZyvj",
        "colab_type": "code",
        "outputId": "345ec676-4cf8-4c11-e198-02aaa893d23d",
        "colab": {
          "base_uri": "https://localhost:8080/",
          "height": 1000
        }
      },
      "source": [
        "history = model.fit(\n",
        "    train_data_gen,\n",
        "    steps_per_epoch=total_train // batch_size,\n",
        "    epochs=epochs,\n",
        "    validation_data=val_data_gen,\n",
        "    validation_steps=total_val // batch_size\n",
        ")"
      ],
      "execution_count": 14,
      "outputs": [
        {
          "output_type": "stream",
          "text": [
            "Epoch 1/50\n",
            "32/32 [==============================] - 3s 88ms/step - loss: 0.8460 - accuracy: 0.5488 - val_loss: 1.0441 - val_accuracy: 0.3352\n",
            "Epoch 2/50\n",
            "32/32 [==============================] - 2s 69ms/step - loss: 0.6610 - accuracy: 0.6208 - val_loss: 0.5448 - val_accuracy: 0.7914\n",
            "Epoch 3/50\n",
            "32/32 [==============================] - 2s 61ms/step - loss: 0.6976 - accuracy: 0.6148 - val_loss: 0.4792 - val_accuracy: 0.7117\n",
            "Epoch 4/50\n",
            "32/32 [==============================] - 2s 62ms/step - loss: 0.5228 - accuracy: 0.7425 - val_loss: 0.4654 - val_accuracy: 0.7301\n",
            "Epoch 5/50\n",
            "32/32 [==============================] - 2s 62ms/step - loss: 0.5773 - accuracy: 0.7166 - val_loss: 0.6232 - val_accuracy: 0.5890\n",
            "Epoch 6/50\n",
            "32/32 [==============================] - 2s 63ms/step - loss: 0.5045 - accuracy: 0.7705 - val_loss: 0.4392 - val_accuracy: 0.8528\n",
            "Epoch 7/50\n",
            "32/32 [==============================] - 2s 62ms/step - loss: 0.4456 - accuracy: 0.7944 - val_loss: 0.5805 - val_accuracy: 0.7669\n",
            "Epoch 8/50\n",
            "32/32 [==============================] - 2s 62ms/step - loss: 0.5127 - accuracy: 0.7465 - val_loss: 0.3916 - val_accuracy: 0.7669\n",
            "Epoch 9/50\n",
            "32/32 [==============================] - 2s 62ms/step - loss: 0.4100 - accuracy: 0.8044 - val_loss: 0.5966 - val_accuracy: 0.6687\n",
            "Epoch 10/50\n",
            "32/32 [==============================] - 2s 62ms/step - loss: 0.4516 - accuracy: 0.7844 - val_loss: 0.3757 - val_accuracy: 0.8650\n",
            "Epoch 11/50\n",
            "32/32 [==============================] - 2s 62ms/step - loss: 0.3848 - accuracy: 0.8423 - val_loss: 0.3605 - val_accuracy: 0.8160\n",
            "Epoch 12/50\n",
            "32/32 [==============================] - 2s 62ms/step - loss: 0.3489 - accuracy: 0.8683 - val_loss: 0.3508 - val_accuracy: 0.8712\n",
            "Epoch 13/50\n",
            "32/32 [==============================] - 2s 63ms/step - loss: 0.3195 - accuracy: 0.8762 - val_loss: 0.3708 - val_accuracy: 0.8466\n",
            "Epoch 14/50\n",
            "32/32 [==============================] - 2s 63ms/step - loss: 0.3748 - accuracy: 0.8463 - val_loss: 0.3080 - val_accuracy: 0.8977\n",
            "Epoch 15/50\n",
            "32/32 [==============================] - 2s 62ms/step - loss: 0.2813 - accuracy: 0.9002 - val_loss: 0.3258 - val_accuracy: 0.8773\n",
            "Epoch 16/50\n",
            "32/32 [==============================] - 2s 62ms/step - loss: 0.3872 - accuracy: 0.8144 - val_loss: 0.5423 - val_accuracy: 0.7791\n",
            "Epoch 17/50\n",
            "32/32 [==============================] - 2s 62ms/step - loss: 0.3578 - accuracy: 0.8283 - val_loss: 0.4865 - val_accuracy: 0.7362\n",
            "Epoch 18/50\n",
            "32/32 [==============================] - 2s 63ms/step - loss: 0.3760 - accuracy: 0.8633 - val_loss: 0.2803 - val_accuracy: 0.9141\n",
            "Epoch 19/50\n",
            "32/32 [==============================] - 2s 62ms/step - loss: 0.2638 - accuracy: 0.9002 - val_loss: 0.2938 - val_accuracy: 0.8834\n",
            "Epoch 20/50\n",
            "32/32 [==============================] - 2s 62ms/step - loss: 0.2806 - accuracy: 0.8942 - val_loss: 0.5273 - val_accuracy: 0.7669\n",
            "Epoch 21/50\n",
            "32/32 [==============================] - 2s 62ms/step - loss: 0.3318 - accuracy: 0.8583 - val_loss: 0.3167 - val_accuracy: 0.8712\n",
            "Epoch 22/50\n",
            "32/32 [==============================] - 2s 62ms/step - loss: 0.2131 - accuracy: 0.9261 - val_loss: 0.2960 - val_accuracy: 0.8896\n",
            "Epoch 23/50\n",
            "32/32 [==============================] - 2s 64ms/step - loss: 0.2610 - accuracy: 0.8942 - val_loss: 0.2960 - val_accuracy: 0.8773\n",
            "Epoch 24/50\n",
            "32/32 [==============================] - 2s 64ms/step - loss: 0.3284 - accuracy: 0.8862 - val_loss: 0.4951 - val_accuracy: 0.8282\n",
            "Epoch 25/50\n",
            "32/32 [==============================] - 2s 65ms/step - loss: 0.2336 - accuracy: 0.9222 - val_loss: 0.3497 - val_accuracy: 0.8037\n",
            "Epoch 26/50\n",
            "32/32 [==============================] - 2s 63ms/step - loss: 0.2447 - accuracy: 0.9142 - val_loss: 0.3768 - val_accuracy: 0.8352\n",
            "Epoch 27/50\n",
            "32/32 [==============================] - 2s 64ms/step - loss: 0.1978 - accuracy: 0.9381 - val_loss: 0.2588 - val_accuracy: 0.9205\n",
            "Epoch 28/50\n",
            "32/32 [==============================] - 2s 64ms/step - loss: 0.1987 - accuracy: 0.9361 - val_loss: 0.2198 - val_accuracy: 0.9080\n",
            "Epoch 29/50\n",
            "32/32 [==============================] - 2s 63ms/step - loss: 0.1787 - accuracy: 0.9281 - val_loss: 0.2195 - val_accuracy: 0.9325\n",
            "Epoch 30/50\n",
            "32/32 [==============================] - 2s 62ms/step - loss: 0.2067 - accuracy: 0.9122 - val_loss: 0.3137 - val_accuracy: 0.8589\n",
            "Epoch 31/50\n",
            "32/32 [==============================] - 2s 62ms/step - loss: 0.1958 - accuracy: 0.9222 - val_loss: 0.2014 - val_accuracy: 0.9141\n",
            "Epoch 32/50\n",
            "32/32 [==============================] - 2s 61ms/step - loss: 0.2049 - accuracy: 0.9222 - val_loss: 0.3715 - val_accuracy: 0.8282\n",
            "Epoch 33/50\n",
            "32/32 [==============================] - 2s 62ms/step - loss: 0.1872 - accuracy: 0.9261 - val_loss: 0.2162 - val_accuracy: 0.9141\n",
            "Epoch 34/50\n",
            "32/32 [==============================] - 2s 61ms/step - loss: 0.1694 - accuracy: 0.9361 - val_loss: 0.2322 - val_accuracy: 0.9387\n",
            "Epoch 35/50\n",
            "32/32 [==============================] - 2s 62ms/step - loss: 0.1419 - accuracy: 0.9473 - val_loss: 0.2128 - val_accuracy: 0.9387\n",
            "Epoch 36/50\n",
            "32/32 [==============================] - 2s 62ms/step - loss: 0.3068 - accuracy: 0.8762 - val_loss: 0.2739 - val_accuracy: 0.8834\n",
            "Epoch 37/50\n",
            "32/32 [==============================] - 2s 61ms/step - loss: 0.1596 - accuracy: 0.9481 - val_loss: 0.1952 - val_accuracy: 0.9509\n",
            "Epoch 38/50\n",
            "32/32 [==============================] - 2s 62ms/step - loss: 0.1967 - accuracy: 0.9242 - val_loss: 0.2332 - val_accuracy: 0.9325\n",
            "Epoch 39/50\n",
            "32/32 [==============================] - 2s 63ms/step - loss: 0.1512 - accuracy: 0.9421 - val_loss: 0.2490 - val_accuracy: 0.8864\n",
            "Epoch 40/50\n",
            "32/32 [==============================] - 2s 62ms/step - loss: 0.2446 - accuracy: 0.8962 - val_loss: 0.3460 - val_accuracy: 0.8466\n",
            "Epoch 41/50\n",
            "32/32 [==============================] - 2s 61ms/step - loss: 0.1357 - accuracy: 0.9541 - val_loss: 0.3584 - val_accuracy: 0.8282\n",
            "Epoch 42/50\n",
            "32/32 [==============================] - 2s 62ms/step - loss: 0.2021 - accuracy: 0.9222 - val_loss: 0.1807 - val_accuracy: 0.9387\n",
            "Epoch 43/50\n",
            "32/32 [==============================] - 2s 64ms/step - loss: 0.2196 - accuracy: 0.9042 - val_loss: 0.3307 - val_accuracy: 0.8466\n",
            "Epoch 44/50\n",
            "32/32 [==============================] - 2s 63ms/step - loss: 0.1284 - accuracy: 0.9581 - val_loss: 0.1966 - val_accuracy: 0.9202\n",
            "Epoch 45/50\n",
            "32/32 [==============================] - 2s 63ms/step - loss: 0.1393 - accuracy: 0.9521 - val_loss: 0.2396 - val_accuracy: 0.9264\n",
            "Epoch 46/50\n",
            "32/32 [==============================] - 2s 62ms/step - loss: 0.1417 - accuracy: 0.9421 - val_loss: 0.5607 - val_accuracy: 0.7669\n",
            "Epoch 47/50\n",
            "32/32 [==============================] - 2s 62ms/step - loss: 0.2510 - accuracy: 0.9022 - val_loss: 0.1614 - val_accuracy: 0.9387\n",
            "Epoch 48/50\n",
            "32/32 [==============================] - 2s 61ms/step - loss: 0.1427 - accuracy: 0.9501 - val_loss: 0.2329 - val_accuracy: 0.9202\n",
            "Epoch 49/50\n",
            "32/32 [==============================] - 2s 61ms/step - loss: 0.1859 - accuracy: 0.9441 - val_loss: 0.3379 - val_accuracy: 0.8098\n",
            "Epoch 50/50\n",
            "32/32 [==============================] - 2s 62ms/step - loss: 0.1776 - accuracy: 0.9401 - val_loss: 0.3465 - val_accuracy: 0.9325\n"
          ],
          "name": "stdout"
        }
      ]
    },
    {
      "cell_type": "markdown",
      "metadata": {
        "id": "3f6sg5MeZyvo",
        "colab_type": "text"
      },
      "source": [
        "# Custom CNN Model\n",
        "\n",
        "In this step, write and train your own convolutional neural network using Keras. You can use any architecture that suits you as long as it has at least one convolutional and one pooling layer at the beginning of the network - you can add more if you want. "
      ]
    },
    {
      "cell_type": "code",
      "metadata": {
        "id": "uDPjOk6sZyvp",
        "colab_type": "code",
        "outputId": "b3b3acf8-8a71-46a8-e6a6-ec8aad059eb4",
        "colab": {
          "base_uri": "https://localhost:8080/",
          "height": 521
        }
      },
      "source": [
        "model = Sequential([\n",
        "    Conv2D(32, (3, 3), activation='relu', input_shape=(224, 224, 3)),\n",
        "    MaxPooling2D((2, 2)),\n",
        "    Conv2D(32, (3, 3), activation='relu'),\n",
        "    MaxPooling2D((2, 2)),\n",
        "    Conv2D(64, (3, 3), activation='relu'),\n",
        "    MaxPooling2D((2, 2)),\n",
        "    Conv2D(64, (3, 3), activation='relu'),\n",
        "    Flatten(),\n",
        "    Dense(64, activation='relu'),\n",
        "    Dropout(0.5),\n",
        "    Dense(1, activation='sigmoid')\n",
        "])\n",
        "\n",
        "model.summary()"
      ],
      "execution_count": 33,
      "outputs": [
        {
          "output_type": "stream",
          "text": [
            "Model: \"sequential_7\"\n",
            "_________________________________________________________________\n",
            "Layer (type)                 Output Shape              Param #   \n",
            "=================================================================\n",
            "conv2d_31 (Conv2D)           (None, 222, 222, 32)      896       \n",
            "_________________________________________________________________\n",
            "max_pooling2d_20 (MaxPooling (None, 111, 111, 32)      0         \n",
            "_________________________________________________________________\n",
            "conv2d_32 (Conv2D)           (None, 109, 109, 32)      9248      \n",
            "_________________________________________________________________\n",
            "max_pooling2d_21 (MaxPooling (None, 54, 54, 32)        0         \n",
            "_________________________________________________________________\n",
            "conv2d_33 (Conv2D)           (None, 52, 52, 64)        18496     \n",
            "_________________________________________________________________\n",
            "max_pooling2d_22 (MaxPooling (None, 26, 26, 64)        0         \n",
            "_________________________________________________________________\n",
            "conv2d_34 (Conv2D)           (None, 24, 24, 64)        36928     \n",
            "_________________________________________________________________\n",
            "flatten_7 (Flatten)          (None, 36864)             0         \n",
            "_________________________________________________________________\n",
            "dense_16 (Dense)             (None, 64)                2359360   \n",
            "_________________________________________________________________\n",
            "dropout_6 (Dropout)          (None, 64)                0         \n",
            "_________________________________________________________________\n",
            "dense_17 (Dense)             (None, 1)                 65        \n",
            "=================================================================\n",
            "Total params: 2,424,993\n",
            "Trainable params: 2,424,993\n",
            "Non-trainable params: 0\n",
            "_________________________________________________________________\n"
          ],
          "name": "stdout"
        }
      ]
    },
    {
      "cell_type": "code",
      "metadata": {
        "id": "3O5QHKVtZyvt",
        "colab_type": "code",
        "colab": {}
      },
      "source": [
        "# Compile Model\n",
        "model.compile(optimizer='rmsprop', loss='binary_crossentropy', metrics=['accuracy'])"
      ],
      "execution_count": 0,
      "outputs": []
    },
    {
      "cell_type": "code",
      "metadata": {
        "id": "FIUp-R-pZyvx",
        "colab_type": "code",
        "outputId": "8be07ff6-6817-4cd1-8979-0e54b7b86585",
        "colab": {
          "base_uri": "https://localhost:8080/",
          "height": 1000
        }
      },
      "source": [
        "# Fit Model\n",
        "history = model.fit(\n",
        "    train_data_gen,\n",
        "    steps_per_epoch=total_train // batch_size,\n",
        "    epochs=epochs,\n",
        "    validation_data=val_data_gen,\n",
        "    validation_steps=total_val // batch_size\n",
        ")"
      ],
      "execution_count": 35,
      "outputs": [
        {
          "output_type": "stream",
          "text": [
            "Epoch 1/50\n",
            "65/65 [==============================] - 4s 56ms/step - loss: 0.5116 - accuracy: 0.7927 - val_loss: 0.3192 - val_accuracy: 0.8655\n",
            "Epoch 2/50\n",
            "65/65 [==============================] - 4s 54ms/step - loss: 0.3012 - accuracy: 0.8900 - val_loss: 0.1804 - val_accuracy: 0.9211\n",
            "Epoch 3/50\n",
            "65/65 [==============================] - 3s 53ms/step - loss: 0.2716 - accuracy: 0.9018 - val_loss: 0.2328 - val_accuracy: 0.9152\n",
            "Epoch 4/50\n",
            "65/65 [==============================] - 4s 54ms/step - loss: 0.2334 - accuracy: 0.9293 - val_loss: 0.1749 - val_accuracy: 0.9211\n",
            "Epoch 5/50\n",
            "65/65 [==============================] - 4s 54ms/step - loss: 0.1740 - accuracy: 0.9342 - val_loss: 0.5966 - val_accuracy: 0.7437\n",
            "Epoch 6/50\n",
            "65/65 [==============================] - 3s 54ms/step - loss: 0.1431 - accuracy: 0.9470 - val_loss: 0.1422 - val_accuracy: 0.9444\n",
            "Epoch 7/50\n",
            "65/65 [==============================] - 4s 54ms/step - loss: 0.1448 - accuracy: 0.9582 - val_loss: 0.2218 - val_accuracy: 0.9327\n",
            "Epoch 8/50\n",
            "65/65 [==============================] - 3s 53ms/step - loss: 0.1048 - accuracy: 0.9587 - val_loss: 0.1056 - val_accuracy: 0.9474\n",
            "Epoch 9/50\n",
            "65/65 [==============================] - 3s 53ms/step - loss: 0.0807 - accuracy: 0.9735 - val_loss: 0.2251 - val_accuracy: 0.9386\n",
            "Epoch 10/50\n",
            "65/65 [==============================] - 4s 56ms/step - loss: 0.0526 - accuracy: 0.9882 - val_loss: 0.4431 - val_accuracy: 0.9269\n",
            "Epoch 11/50\n",
            "65/65 [==============================] - 4s 56ms/step - loss: 0.0566 - accuracy: 0.9862 - val_loss: 0.2742 - val_accuracy: 0.9296\n",
            "Epoch 12/50\n",
            "65/65 [==============================] - 4s 55ms/step - loss: 0.1003 - accuracy: 0.9774 - val_loss: 0.2500 - val_accuracy: 0.9352\n",
            "Epoch 13/50\n",
            "65/65 [==============================] - 3s 53ms/step - loss: 0.0431 - accuracy: 0.9912 - val_loss: 0.8096 - val_accuracy: 0.8830\n",
            "Epoch 14/50\n",
            "65/65 [==============================] - 4s 54ms/step - loss: 0.1198 - accuracy: 0.9745 - val_loss: 0.1893 - val_accuracy: 0.9386\n",
            "Epoch 15/50\n",
            "65/65 [==============================] - 3s 54ms/step - loss: 0.0377 - accuracy: 0.9921 - val_loss: 0.3799 - val_accuracy: 0.9123\n",
            "Epoch 16/50\n",
            "65/65 [==============================] - 3s 54ms/step - loss: 0.0751 - accuracy: 0.9931 - val_loss: 0.5140 - val_accuracy: 0.9094\n",
            "Epoch 17/50\n",
            "65/65 [==============================] - 4s 54ms/step - loss: 0.1053 - accuracy: 0.9833 - val_loss: 0.3487 - val_accuracy: 0.9444\n",
            "Epoch 18/50\n",
            "65/65 [==============================] - 4s 54ms/step - loss: 0.0367 - accuracy: 0.9893 - val_loss: 1.0813 - val_accuracy: 0.8873\n",
            "Epoch 19/50\n",
            "65/65 [==============================] - 4s 54ms/step - loss: 0.0680 - accuracy: 0.9931 - val_loss: 0.6231 - val_accuracy: 0.9123\n",
            "Epoch 20/50\n",
            "65/65 [==============================] - 4s 54ms/step - loss: 0.0399 - accuracy: 0.9921 - val_loss: 0.6892 - val_accuracy: 0.9123\n",
            "Epoch 21/50\n",
            "65/65 [==============================] - 3s 54ms/step - loss: 0.0972 - accuracy: 0.9882 - val_loss: 1.8395 - val_accuracy: 0.6988\n",
            "Epoch 22/50\n",
            "65/65 [==============================] - 3s 54ms/step - loss: 0.0165 - accuracy: 0.9980 - val_loss: 0.4909 - val_accuracy: 0.9240\n",
            "Epoch 23/50\n",
            "65/65 [==============================] - 4s 54ms/step - loss: 0.1437 - accuracy: 0.9853 - val_loss: 0.4556 - val_accuracy: 0.8596\n",
            "Epoch 24/50\n",
            "65/65 [==============================] - 3s 53ms/step - loss: 0.0267 - accuracy: 0.9951 - val_loss: 0.3061 - val_accuracy: 0.9324\n",
            "Epoch 25/50\n",
            "65/65 [==============================] - 4s 54ms/step - loss: 6.7416e-04 - accuracy: 1.0000 - val_loss: 0.7793 - val_accuracy: 0.9127\n",
            "Epoch 26/50\n",
            "65/65 [==============================] - 3s 54ms/step - loss: 0.1731 - accuracy: 0.9921 - val_loss: 0.5312 - val_accuracy: 0.9327\n",
            "Epoch 27/50\n",
            "65/65 [==============================] - 3s 53ms/step - loss: 0.1800 - accuracy: 0.9892 - val_loss: 0.5167 - val_accuracy: 0.9006\n",
            "Epoch 28/50\n",
            "65/65 [==============================] - 3s 54ms/step - loss: 1.8192e-04 - accuracy: 1.0000 - val_loss: 0.5647 - val_accuracy: 0.9298\n",
            "Epoch 29/50\n",
            "65/65 [==============================] - 4s 55ms/step - loss: 0.0900 - accuracy: 0.9922 - val_loss: 0.7267 - val_accuracy: 0.8977\n",
            "Epoch 30/50\n",
            "65/65 [==============================] - 4s 54ms/step - loss: 0.0419 - accuracy: 0.9941 - val_loss: 0.6008 - val_accuracy: 0.9181\n",
            "Epoch 31/50\n",
            "65/65 [==============================] - 3s 54ms/step - loss: 0.0750 - accuracy: 0.9882 - val_loss: 0.6727 - val_accuracy: 0.9211\n",
            "Epoch 32/50\n",
            "65/65 [==============================] - 4s 54ms/step - loss: 0.1764 - accuracy: 0.9862 - val_loss: 0.5655 - val_accuracy: 0.9211\n",
            "Epoch 33/50\n",
            "65/65 [==============================] - 4s 54ms/step - loss: 5.9808e-04 - accuracy: 1.0000 - val_loss: 0.9376 - val_accuracy: 0.9474\n",
            "Epoch 34/50\n",
            "65/65 [==============================] - 4s 54ms/step - loss: 0.1109 - accuracy: 0.9951 - val_loss: 0.7807 - val_accuracy: 0.9094\n",
            "Epoch 35/50\n",
            "65/65 [==============================] - 4s 54ms/step - loss: 0.0049 - accuracy: 0.9980 - val_loss: 0.6235 - val_accuracy: 0.9240\n",
            "Epoch 36/50\n",
            "65/65 [==============================] - 3s 53ms/step - loss: 0.2391 - accuracy: 0.9921 - val_loss: 0.7219 - val_accuracy: 0.9094\n",
            "Epoch 37/50\n",
            "65/65 [==============================] - 3s 53ms/step - loss: 0.2043 - accuracy: 0.9921 - val_loss: 0.3753 - val_accuracy: 0.9070\n",
            "Epoch 38/50\n",
            "65/65 [==============================] - 3s 53ms/step - loss: 0.0283 - accuracy: 0.9921 - val_loss: 0.7715 - val_accuracy: 0.9099\n",
            "Epoch 39/50\n",
            "65/65 [==============================] - 3s 53ms/step - loss: 3.6615e-04 - accuracy: 1.0000 - val_loss: 1.7390 - val_accuracy: 0.9094\n",
            "Epoch 40/50\n",
            "65/65 [==============================] - 3s 53ms/step - loss: 0.0400 - accuracy: 0.9971 - val_loss: 0.9353 - val_accuracy: 0.9386\n",
            "Epoch 41/50\n",
            "65/65 [==============================] - 4s 54ms/step - loss: 0.0208 - accuracy: 0.9981 - val_loss: 0.9779 - val_accuracy: 0.9064\n",
            "Epoch 42/50\n",
            "65/65 [==============================] - 4s 54ms/step - loss: 0.0296 - accuracy: 0.9941 - val_loss: 1.2429 - val_accuracy: 0.9123\n",
            "Epoch 43/50\n",
            "65/65 [==============================] - 3s 53ms/step - loss: 0.0155 - accuracy: 0.9980 - val_loss: 0.8678 - val_accuracy: 0.9181\n",
            "Epoch 44/50\n",
            "65/65 [==============================] - 4s 54ms/step - loss: 0.0676 - accuracy: 0.9931 - val_loss: 0.9149 - val_accuracy: 0.9099\n",
            "Epoch 45/50\n",
            "65/65 [==============================] - 3s 53ms/step - loss: 4.4814e-04 - accuracy: 1.0000 - val_loss: 1.5421 - val_accuracy: 0.8772\n",
            "Epoch 46/50\n",
            "65/65 [==============================] - 3s 53ms/step - loss: 0.0630 - accuracy: 0.9961 - val_loss: 1.1794 - val_accuracy: 0.9064\n",
            "Epoch 47/50\n",
            "65/65 [==============================] - 3s 53ms/step - loss: 5.8367e-06 - accuracy: 1.0000 - val_loss: 1.1507 - val_accuracy: 0.8830\n",
            "Epoch 48/50\n",
            "65/65 [==============================] - 3s 52ms/step - loss: 0.0426 - accuracy: 0.9921 - val_loss: 0.9471 - val_accuracy: 0.9123\n",
            "Epoch 49/50\n",
            "65/65 [==============================] - 3s 52ms/step - loss: 2.2602e-05 - accuracy: 1.0000 - val_loss: 1.6046 - val_accuracy: 0.8860\n",
            "Epoch 50/50\n",
            "65/65 [==============================] - 3s 53ms/step - loss: 0.0837 - accuracy: 0.9921 - val_loss: 0.6847 - val_accuracy: 0.9211\n"
          ],
          "name": "stdout"
        }
      ]
    },
    {
      "cell_type": "markdown",
      "metadata": {
        "id": "bfQXS4UpZyv0",
        "colab_type": "text"
      },
      "source": [
        "# Custom CNN Model with Image Manipulations\n",
        "\n",
        "To simulate an increase in a sample of image, you can apply image manipulation techniques: cropping, rotation, stretching, etc. Luckily Keras has some handy functions for us to apply these techniques to our mountain and forest example. Simply, you should be able to modify our image generator for the problem. Check out these resources to help you get started: \n",
        "\n",
        "1. [Keras `ImageGenerator` Class](https://keras.io/preprocessing/image/#imagedatagenerator-class)\n",
        "2. [Building a powerful image classifier with very little data](https://blog.keras.io/building-powerful-image-classification-models-using-very-little-data.html)\n",
        " "
      ]
    },
    {
      "cell_type": "code",
      "metadata": {
        "id": "6qaZYLMBZyv1",
        "colab_type": "code",
        "colab": {}
      },
      "source": [
        "train_image_generator = ImageDataGenerator(\n",
        "                      rotation_range=40,\n",
        "                      width_shift_range=0.2,\n",
        "                      height_shift_range=0.2,\n",
        "                      shear_range=0.2,\n",
        "                      zoom_range=0.2,\n",
        "                      horizontal_flip=True,\n",
        "                      vertical_flip=True,\n",
        "                      fill_mode='nearest')\n",
        "validation_image_generator = ImageDataGenerator(\n",
        "                           rotation_range=40,\n",
        "                           width_shift_range=0.2,\n",
        "                           height_shift_range=0.2,\n",
        "                           shear_range=0.2,\n",
        "                           zoom_range=0.2,\n",
        "                           horizontal_flip=True,\n",
        "                           vertical_flip=True,\n",
        "                           fill_mode='nearest')"
      ],
      "execution_count": 0,
      "outputs": []
    },
    {
      "cell_type": "code",
      "metadata": {
        "id": "oW9svQfeumVq",
        "colab_type": "code",
        "colab": {
          "base_uri": "https://localhost:8080/",
          "height": 34
        },
        "outputId": "358f2c0b-22d9-45fc-9681-e7b467460973"
      },
      "source": [
        "train_data_gen = train_image_generator.flow_from_directory(batch_size=batch_size,\n",
        "                                                           directory=train_dir,\n",
        "                                                           shuffle=True,\n",
        "                                                           target_size=(IMG_HEIGHT, IMG_WIDTH),\n",
        "                                                           class_mode='binary')"
      ],
      "execution_count": 43,
      "outputs": [
        {
          "output_type": "stream",
          "text": [
            "Found 533 images belonging to 2 classes.\n"
          ],
          "name": "stdout"
        }
      ]
    },
    {
      "cell_type": "code",
      "metadata": {
        "id": "ygUp-3YWuwcK",
        "colab_type": "code",
        "colab": {
          "base_uri": "https://localhost:8080/",
          "height": 34
        },
        "outputId": "2f177fc4-dff5-4e01-c396-dbf64f54b409"
      },
      "source": [
        "val_data_gen = validation_image_generator.flow_from_directory(batch_size=batch_size,\n",
        "                                                              directory=validation_dir,\n",
        "                                                              target_size=(IMG_HEIGHT, IMG_WIDTH),\n",
        "                                                              class_mode='binary')"
      ],
      "execution_count": 44,
      "outputs": [
        {
          "output_type": "stream",
          "text": [
            "Found 195 images belonging to 2 classes.\n"
          ],
          "name": "stdout"
        }
      ]
    },
    {
      "cell_type": "code",
      "metadata": {
        "id": "O2qPQT6Au1Nb",
        "colab_type": "code",
        "colab": {
          "base_uri": "https://localhost:8080/",
          "height": 521
        },
        "outputId": "a5af98e6-3ceb-44b5-9429-07f9e02ca9f9"
      },
      "source": [
        "model = Sequential([\n",
        "    Conv2D(32, (3, 3), activation='relu', input_shape=(224, 224, 3)),\n",
        "    MaxPooling2D((2, 2)),\n",
        "    Conv2D(32, (3, 3), activation='relu'),\n",
        "    MaxPooling2D((2, 2)),\n",
        "    Conv2D(64, (3, 3), activation='relu'),\n",
        "    MaxPooling2D((2, 2)),\n",
        "    Conv2D(64, (3, 3), activation='relu'),\n",
        "    Flatten(),\n",
        "    Dense(64, activation='relu'),\n",
        "    Dropout(0.5),\n",
        "    Dense(1, activation='sigmoid')\n",
        "])\n",
        "\n",
        "model.summary()"
      ],
      "execution_count": 39,
      "outputs": [
        {
          "output_type": "stream",
          "text": [
            "Model: \"sequential_8\"\n",
            "_________________________________________________________________\n",
            "Layer (type)                 Output Shape              Param #   \n",
            "=================================================================\n",
            "conv2d_35 (Conv2D)           (None, 222, 222, 32)      896       \n",
            "_________________________________________________________________\n",
            "max_pooling2d_23 (MaxPooling (None, 111, 111, 32)      0         \n",
            "_________________________________________________________________\n",
            "conv2d_36 (Conv2D)           (None, 109, 109, 32)      9248      \n",
            "_________________________________________________________________\n",
            "max_pooling2d_24 (MaxPooling (None, 54, 54, 32)        0         \n",
            "_________________________________________________________________\n",
            "conv2d_37 (Conv2D)           (None, 52, 52, 64)        18496     \n",
            "_________________________________________________________________\n",
            "max_pooling2d_25 (MaxPooling (None, 26, 26, 64)        0         \n",
            "_________________________________________________________________\n",
            "conv2d_38 (Conv2D)           (None, 24, 24, 64)        36928     \n",
            "_________________________________________________________________\n",
            "flatten_8 (Flatten)          (None, 36864)             0         \n",
            "_________________________________________________________________\n",
            "dense_18 (Dense)             (None, 64)                2359360   \n",
            "_________________________________________________________________\n",
            "dropout_7 (Dropout)          (None, 64)                0         \n",
            "_________________________________________________________________\n",
            "dense_19 (Dense)             (None, 1)                 65        \n",
            "=================================================================\n",
            "Total params: 2,424,993\n",
            "Trainable params: 2,424,993\n",
            "Non-trainable params: 0\n",
            "_________________________________________________________________\n"
          ],
          "name": "stdout"
        }
      ]
    },
    {
      "cell_type": "code",
      "metadata": {
        "id": "MBZQwgxHu59I",
        "colab_type": "code",
        "colab": {}
      },
      "source": [
        "# Compile Model\n",
        "model.compile(optimizer='rmsprop', loss='binary_crossentropy', metrics=['accuracy'])"
      ],
      "execution_count": 0,
      "outputs": []
    },
    {
      "cell_type": "code",
      "metadata": {
        "id": "0v3C0fqNvAHi",
        "colab_type": "code",
        "colab": {
          "base_uri": "https://localhost:8080/",
          "height": 1000
        },
        "outputId": "5a159b5c-bb4e-4e70-9133-f70dd7ece21b"
      },
      "source": [
        "# Fit Model\n",
        "history = model.fit(\n",
        "    train_data_gen,\n",
        "    steps_per_epoch=total_train // batch_size,\n",
        "    epochs=epochs,\n",
        "    validation_data=val_data_gen,\n",
        "    validation_steps=total_val // batch_size\n",
        ")"
      ],
      "execution_count": 45,
      "outputs": [
        {
          "output_type": "stream",
          "text": [
            "Epoch 1/50\n",
            "65/65 [==============================] - 8s 127ms/step - loss: 1.3797 - accuracy: 0.6442 - val_loss: 0.4218 - val_accuracy: 0.7826\n",
            "Epoch 2/50\n",
            "65/65 [==============================] - 8s 124ms/step - loss: 1.8534 - accuracy: 0.7872 - val_loss: 0.5016 - val_accuracy: 0.6648\n",
            "Epoch 3/50\n",
            "65/65 [==============================] - 8s 124ms/step - loss: 0.7337 - accuracy: 0.7660 - val_loss: 0.4708 - val_accuracy: 0.7989\n",
            "Epoch 4/50\n",
            "65/65 [==============================] - 8s 126ms/step - loss: 1.4616 - accuracy: 0.6770 - val_loss: 0.5998 - val_accuracy: 0.5866\n",
            "Epoch 5/50\n",
            "65/65 [==============================] - 8s 126ms/step - loss: 0.6440 - accuracy: 0.7872 - val_loss: 0.8022 - val_accuracy: 0.3743\n",
            "Epoch 6/50\n",
            "65/65 [==============================] - 8s 127ms/step - loss: 0.6414 - accuracy: 0.6847 - val_loss: 0.7059 - val_accuracy: 0.5140\n",
            "Epoch 7/50\n",
            "65/65 [==============================] - 8s 125ms/step - loss: 2.2967 - accuracy: 0.6828 - val_loss: 0.8824 - val_accuracy: 0.4078\n",
            "Epoch 8/50\n",
            "65/65 [==============================] - 8s 125ms/step - loss: 0.6906 - accuracy: 0.5571 - val_loss: 0.7967 - val_accuracy: 0.3966\n",
            "Epoch 9/50\n",
            "65/65 [==============================] - 8s 129ms/step - loss: 0.7105 - accuracy: 0.5164 - val_loss: 0.7845 - val_accuracy: 0.3296\n",
            "Epoch 10/50\n",
            "65/65 [==============================] - 8s 125ms/step - loss: 0.7080 - accuracy: 0.5087 - val_loss: 0.7533 - val_accuracy: 0.3855\n",
            "Epoch 11/50\n",
            "65/65 [==============================] - 8s 125ms/step - loss: 0.6997 - accuracy: 0.5261 - val_loss: 0.7701 - val_accuracy: 0.3128\n",
            "Epoch 12/50\n",
            "65/65 [==============================] - 8s 124ms/step - loss: 0.7004 - accuracy: 0.5203 - val_loss: 0.7534 - val_accuracy: 0.3575\n",
            "Epoch 13/50\n",
            "65/65 [==============================] - 8s 125ms/step - loss: 0.7064 - accuracy: 0.4990 - val_loss: 0.7548 - val_accuracy: 0.3240\n",
            "Epoch 14/50\n",
            "65/65 [==============================] - 8s 125ms/step - loss: 0.6989 - accuracy: 0.5164 - val_loss: 0.7427 - val_accuracy: 0.3408\n",
            "Epoch 15/50\n",
            "65/65 [==============================] - 8s 125ms/step - loss: 0.6983 - accuracy: 0.5145 - val_loss: 0.7451 - val_accuracy: 0.3296\n",
            "Epoch 16/50\n",
            "65/65 [==============================] - 8s 127ms/step - loss: 0.7624 - accuracy: 0.5010 - val_loss: 0.7288 - val_accuracy: 0.3743\n",
            "Epoch 17/50\n",
            "65/65 [==============================] - 8s 125ms/step - loss: 0.6927 - accuracy: 0.5280 - val_loss: 0.7339 - val_accuracy: 0.3296\n",
            "Epoch 18/50\n",
            "65/65 [==============================] - 8s 124ms/step - loss: 0.6908 - accuracy: 0.5338 - val_loss: 1.2057 - val_accuracy: 0.3575\n",
            "Epoch 19/50\n",
            "65/65 [==============================] - 8s 124ms/step - loss: 0.6967 - accuracy: 0.5048 - val_loss: 1.3965 - val_accuracy: 0.3575\n",
            "Epoch 20/50\n",
            "65/65 [==============================] - 8s 126ms/step - loss: 0.6919 - accuracy: 0.5126 - val_loss: 0.7317 - val_accuracy: 0.3184\n",
            "Epoch 21/50\n",
            "65/65 [==============================] - 8s 125ms/step - loss: 0.6922 - accuracy: 0.5300 - val_loss: 0.8803 - val_accuracy: 0.3631\n",
            "Epoch 22/50\n",
            "65/65 [==============================] - 8s 124ms/step - loss: 0.9547 - accuracy: 0.5455 - val_loss: 0.6675 - val_accuracy: 0.4581\n",
            "Epoch 23/50\n",
            "65/65 [==============================] - 8s 124ms/step - loss: 0.6623 - accuracy: 0.5783 - val_loss: 0.7247 - val_accuracy: 0.4302\n",
            "Epoch 24/50\n",
            "65/65 [==============================] - 8s 125ms/step - loss: 0.8398 - accuracy: 0.5745 - val_loss: 0.7257 - val_accuracy: 0.3520\n",
            "Epoch 25/50\n",
            "65/65 [==============================] - 8s 124ms/step - loss: 0.6881 - accuracy: 0.5242 - val_loss: 0.7166 - val_accuracy: 0.3478\n",
            "Epoch 26/50\n",
            "65/65 [==============================] - 8s 127ms/step - loss: 1.4475 - accuracy: 0.5822 - val_loss: 0.6591 - val_accuracy: 0.5054\n",
            "Epoch 27/50\n",
            "65/65 [==============================] - 8s 124ms/step - loss: 0.6533 - accuracy: 0.5861 - val_loss: 0.6418 - val_accuracy: 0.4916\n",
            "Epoch 28/50\n",
            "65/65 [==============================] - 8s 125ms/step - loss: 1.1943 - accuracy: 0.6015 - val_loss: 1.4204 - val_accuracy: 0.6425\n",
            "Epoch 29/50\n",
            "65/65 [==============================] - 8s 125ms/step - loss: 1.1270 - accuracy: 0.6538 - val_loss: 0.9475 - val_accuracy: 0.7430\n",
            "Epoch 30/50\n",
            "65/65 [==============================] - 8s 124ms/step - loss: 0.7625 - accuracy: 0.6151 - val_loss: 2.4231 - val_accuracy: 0.4637\n",
            "Epoch 31/50\n",
            "65/65 [==============================] - 8s 124ms/step - loss: 2.1436 - accuracy: 0.5938 - val_loss: 0.6147 - val_accuracy: 0.5531\n",
            "Epoch 32/50\n",
            "65/65 [==============================] - 8s 126ms/step - loss: 0.6129 - accuracy: 0.7408 - val_loss: 1.2855 - val_accuracy: 0.4972\n",
            "Epoch 33/50\n",
            "65/65 [==============================] - 8s 124ms/step - loss: 1.4410 - accuracy: 0.6344 - val_loss: 0.6772 - val_accuracy: 0.6034\n",
            "Epoch 34/50\n",
            "65/65 [==============================] - 8s 128ms/step - loss: 1.0602 - accuracy: 0.5500 - val_loss: 0.7326 - val_accuracy: 0.3799\n",
            "Epoch 35/50\n",
            "65/65 [==============================] - 8s 126ms/step - loss: 0.6907 - accuracy: 0.5261 - val_loss: 0.7255 - val_accuracy: 0.3687\n",
            "Epoch 36/50\n",
            "65/65 [==============================] - 8s 127ms/step - loss: 0.7209 - accuracy: 0.5184 - val_loss: 0.8107 - val_accuracy: 0.3799\n",
            "Epoch 37/50\n",
            "65/65 [==============================] - 8s 124ms/step - loss: 0.6855 - accuracy: 0.5300 - val_loss: 0.5923 - val_accuracy: 0.4804\n",
            "Epoch 38/50\n",
            "65/65 [==============================] - 8s 125ms/step - loss: 0.8415 - accuracy: 0.5571 - val_loss: 0.8784 - val_accuracy: 0.4581\n",
            "Epoch 39/50\n",
            "65/65 [==============================] - 8s 124ms/step - loss: 0.6830 - accuracy: 0.5358 - val_loss: 0.6846 - val_accuracy: 0.3855\n",
            "Epoch 40/50\n",
            "65/65 [==============================] - 8s 125ms/step - loss: 1.1638 - accuracy: 0.6673 - val_loss: 0.6114 - val_accuracy: 0.7989\n",
            "Epoch 41/50\n",
            "65/65 [==============================] - 8s 124ms/step - loss: 1.1847 - accuracy: 0.6731 - val_loss: 0.7944 - val_accuracy: 0.4804\n",
            "Epoch 42/50\n",
            "65/65 [==============================] - 8s 124ms/step - loss: 0.7923 - accuracy: 0.5358 - val_loss: 0.7394 - val_accuracy: 0.3408\n",
            "Epoch 43/50\n",
            "65/65 [==============================] - 8s 124ms/step - loss: 0.7255 - accuracy: 0.5397 - val_loss: 0.7374 - val_accuracy: 0.3296\n",
            "Epoch 44/50\n",
            "65/65 [==============================] - 8s 125ms/step - loss: 0.6978 - accuracy: 0.5087 - val_loss: 0.7304 - val_accuracy: 0.3575\n",
            "Epoch 45/50\n",
            "65/65 [==============================] - 8s 126ms/step - loss: 0.6990 - accuracy: 0.4971 - val_loss: 0.7324 - val_accuracy: 0.3296\n",
            "Epoch 46/50\n",
            "65/65 [==============================] - 8s 129ms/step - loss: 0.6951 - accuracy: 0.5145 - val_loss: 0.7229 - val_accuracy: 0.3575\n",
            "Epoch 47/50\n",
            "65/65 [==============================] - 8s 129ms/step - loss: 0.6940 - accuracy: 0.5184 - val_loss: 0.7230 - val_accuracy: 0.3575\n",
            "Epoch 48/50\n",
            "65/65 [==============================] - 8s 126ms/step - loss: 0.6906 - accuracy: 0.5242 - val_loss: 0.7169 - val_accuracy: 0.3575\n",
            "Epoch 49/50\n",
            "65/65 [==============================] - 8s 124ms/step - loss: 0.6918 - accuracy: 0.5222 - val_loss: 0.7909 - val_accuracy: 0.3575\n",
            "Epoch 50/50\n",
            "65/65 [==============================] - 8s 125ms/step - loss: 1.2624 - accuracy: 0.4990 - val_loss: 0.7377 - val_accuracy: 0.3370\n"
          ],
          "name": "stdout"
        }
      ]
    },
    {
      "cell_type": "markdown",
      "metadata": {
        "colab_type": "text",
        "id": "uT3UV3gap9H6"
      },
      "source": [
        "# Resources and Stretch Goals\n",
        "\n",
        "Stretch goals\n",
        "- Enhance your code to use classes/functions and accept terms to search and classes to look for in recognizing the downloaded images (e.g. download images of parties, recognize all that contain balloons)\n",
        "- Check out [other available pretrained networks](https://tfhub.dev), try some and compare\n",
        "- Image recognition/classification is somewhat solved, but *relationships* between entities and describing an image is not - check out some of the extended resources (e.g. [Visual Genome](https://visualgenome.org/)) on the topic\n",
        "- Transfer learning - using images you source yourself, [retrain a classifier](https://www.tensorflow.org/hub/tutorials/image_retraining) with a new category\n",
        "- (Not CNN related) Use [piexif](https://pypi.org/project/piexif/) to check out the metadata of images passed in to your system - see if they're from a national park! (Note - many images lack GPS metadata, so this won't work in most cases, but still cool)\n",
        "\n",
        "Resources\n",
        "- [Deep Residual Learning for Image Recognition](https://arxiv.org/abs/1512.03385) - influential paper (introduced ResNet)\n",
        "- [YOLO: Real-Time Object Detection](https://pjreddie.com/darknet/yolo/) - an influential convolution based object detection system, focused on inference speed (for applications to e.g. self driving vehicles)\n",
        "- [R-CNN, Fast R-CNN, Faster R-CNN, YOLO](https://towardsdatascience.com/r-cnn-fast-r-cnn-faster-r-cnn-yolo-object-detection-algorithms-36d53571365e) - comparison of object detection systems\n",
        "- [Common Objects in Context](http://cocodataset.org/) - a large-scale object detection, segmentation, and captioning dataset\n",
        "- [Visual Genome](https://visualgenome.org/) - a dataset, a knowledge base, an ongoing effort to connect structured image concepts to language"
      ]
    }
  ]
}