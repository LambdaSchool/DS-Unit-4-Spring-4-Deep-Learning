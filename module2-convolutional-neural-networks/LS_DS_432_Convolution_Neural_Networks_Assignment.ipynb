{
  "nbformat": 4,
  "nbformat_minor": 0,
  "metadata": {
    "kernelspec": {
      "name": "python3",
      "display_name": "Python 3"
    },
    "nteract": {
      "version": "0.23.1"
    },
    "colab": {
      "name": "LS_DS_432_Convolution_Neural_Networks_Assignment.ipynb",
      "provenance": []
    },
    "accelerator": "GPU"
  },
  "cells": [
    {
      "cell_type": "markdown",
      "metadata": {
        "id": "G-in9jvQudWf",
        "colab_type": "text"
      },
      "source": [
        "<img align=\"left\" src=\"https://lever-client-logos.s3.amazonaws.com/864372b1-534c-480e-acd5-9711f850815c-1524247202159.png\" width=200>\n",
        "<br></br>\n",
        "<br></br>\n",
        "\n",
        "## *Data Science Unit 4 Sprint 3 Assignment 2*\n",
        "# Convolutional Neural Networks (CNNs)"
      ]
    },
    {
      "cell_type": "markdown",
      "metadata": {
        "colab_type": "text",
        "id": "0lfZdD_cp1t5"
      },
      "source": [
        "# Assignment\n",
        "\n",
        "- <a href=\"#p1\">Part 1:</a> Pre-Trained Model\n",
        "- <a href=\"#p2\">Part 2:</a> Custom CNN Model\n",
        "- <a href=\"#p3\">Part 3:</a> CNN with Data Augmentation\n",
        "\n",
        "\n",
        "You will apply three different CNN models to a binary image classification model using Keras. Classify images of Mountains (`./data/train/mountain/*`) and images of forests (`./data/train/forest/*`). Treat mountains as the positive class (1) and the forest images as the negative (zero). \n",
        "\n",
        "|Mountain (+)|Forest (-)|\n",
        "|---|---|\n",
        "|![](https://github.com/scrunts23/DS-Unit-4-Sprint-3-Deep-Learning/blob/main/module2-convolutional-neural-networks/data/train/mountain/art1131.jpg?raw=1)|![](https://github.com/scrunts23/DS-Unit-4-Sprint-3-Deep-Learning/blob/main/module2-convolutional-neural-networks/data/validation/forest/cdmc317.jpg?raw=1)|\n",
        "\n",
        "The problem is relatively difficult given that the sample is tiny: there are about 350 observations per class. This sample size might be something that you can expect with prototyping an image classification problem/solution at work. Get accustomed to evaluating several different possible models."
      ]
    },
    {
      "cell_type": "markdown",
      "metadata": {
        "colab_type": "text",
        "id": "LP5AxTrCudWh"
      },
      "source": [
        "# Pre - Trained Model\n",
        "<a id=\"p1\"></a>\n",
        "\n",
        "Load a pretrained network from Keras, [ResNet50](https://tfhub.dev/google/imagenet/resnet_v1_50/classification/1) - a 50 layer deep network trained to recognize [1000 objects](https://storage.googleapis.com/download.tensorflow.org/data/ImageNetLabels.txt). Starting usage:\n",
        "\n",
        "```python\n",
        "import numpy as np\n",
        "\n",
        "from tensorflow.keras.applications.resnet50 import ResNet50\n",
        "from tensorflow.keras.preprocessing import image\n",
        "from tensorflow.keras.applications.resnet50 import preprocess_input, decode_predictions\n",
        "\n",
        "from tensorflow.keras.layers import Dense, GlobalAveragePooling2D\n",
        "from tensorflow.keras.models import Model # This is the functional API\n",
        "\n",
        "resnet = ResNet50(weights='imagenet', include_top=False)\n",
        "\n",
        "```\n",
        "\n",
        "The `include_top` parameter in `ResNet50` will remove the full connected layers from the ResNet model. The next step is to turn off the training of the ResNet layers. We want to use the learned parameters without updating them in future training passes. \n",
        "\n",
        "```python\n",
        "for layer in resnet.layers:\n",
        "    layer.trainable = False\n",
        "```\n",
        "\n",
        "Using the Keras functional API, we will need to additional additional full connected layers to our model. We we removed the top layers, we removed all preivous fully connected layers. In other words, we kept only the feature processing portions of our network. You can expert with additional layers beyond what's listed here. The `GlobalAveragePooling2D` layer functions as a really fancy flatten function by taking the average of each of the last convolutional layer outputs (which is two dimensional still). \n",
        "\n",
        "```python\n",
        "x = resnet.output\n",
        "x = GlobalAveragePooling2D()(x) # This layer is a really fancy flatten\n",
        "x = Dense(1024, activation='relu')(x)\n",
        "predictions = Dense(1, activation='sigmoid')(x)\n",
        "model = Model(resnet.input, predictions)\n",
        "```\n",
        "\n",
        "Your assignment is to apply the transfer learning above to classify images of Mountains (`./data/train/mountain/*`) and images of forests (`./data/train/forest/*`). Treat mountains as the positive class (1) and the forest images as the negative (zero). \n",
        "\n",
        "Steps to complete assignment: \n",
        "1. Load in Image Data into numpy arrays (`X`) \n",
        "2. Create a `y` for the labels\n",
        "3. Train your model with pre-trained layers from resnet\n",
        "4. Report your model's accuracy"
      ]
    },
    {
      "cell_type": "markdown",
      "metadata": {
        "id": "ms4u9h2zudWh",
        "colab_type": "text"
      },
      "source": [
        "## Load in Data\n",
        "\n",
        "This surprisingly more difficult than it seems, because you are working with directories of images instead of a single file. This boiler plate will help you download a zipped version of the directory of images. The directory is organized into \"train\" and \"validation\" which you can use inside an `ImageGenerator` class to stream batches of images thru your model.  \n"
      ]
    },
    {
      "cell_type": "markdown",
      "metadata": {
        "id": "TJYQq7QkudWh",
        "colab_type": "text"
      },
      "source": [
        "### Download & Summarize the Data\n",
        "\n",
        "This step is completed for you. Just run the cells and review the results. "
      ]
    },
    {
      "cell_type": "code",
      "metadata": {
        "id": "o84QOr9cxgvj",
        "colab_type": "code",
        "colab": {
          "base_uri": "https://localhost:8080/",
          "height": 134
        },
        "outputId": "8f0e6a12-67e4-4f49-f07d-ced639a03e3f"
      },
      "source": [
        "! git clone https://github.com/PalmerTurley34/DS-Unit-4-Sprint-3-Deep-Learning.git"
      ],
      "execution_count": 6,
      "outputs": [
        {
          "output_type": "stream",
          "text": [
            "Cloning into 'DS-Unit-4-Sprint-3-Deep-Learning'...\n",
            "remote: Enumerating objects: 3, done.\u001b[K\n",
            "remote: Counting objects: 100% (3/3), done.\u001b[K\n",
            "remote: Compressing objects: 100% (3/3), done.\u001b[K\n",
            "remote: Total 1118 (delta 0), reused 0 (delta 0), pack-reused 1115\u001b[K\n",
            "Receiving objects: 100% (1118/1118), 100.17 MiB | 45.49 MiB/s, done.\n",
            "Resolving deltas: 100% (125/125), done.\n"
          ],
          "name": "stdout"
        }
      ]
    },
    {
      "cell_type": "code",
      "metadata": {
        "id": "oA_lH-ldudWi",
        "colab_type": "code",
        "colab": {}
      },
      "source": [
        "import tensorflow as tf\n",
        "import os\n",
        "\n",
        "PATH = '/content/DS-Unit-4-Sprint-3-Deep-Learning/module2-convolutional-neural-networks/data'"
      ],
      "execution_count": 7,
      "outputs": []
    },
    {
      "cell_type": "code",
      "metadata": {
        "id": "g7lEzRk3udWl",
        "colab_type": "code",
        "colab": {}
      },
      "source": [
        "train_dir = os.path.join(PATH, 'train')\n",
        "validation_dir = os.path.join(PATH, 'validation')"
      ],
      "execution_count": 8,
      "outputs": []
    },
    {
      "cell_type": "code",
      "metadata": {
        "id": "YKax7iPKudWm",
        "colab_type": "code",
        "colab": {}
      },
      "source": [
        "train_mountain_dir = os.path.join(train_dir, 'mountain')  # directory with our training cat pictures\n",
        "train_forest_dir = os.path.join(train_dir, 'forest')  # directory with our training dog pictures\n",
        "validation_mountain_dir = os.path.join(validation_dir, 'mountain')  # directory with our validation cat pictures\n",
        "validation_forest_dir = os.path.join(validation_dir, 'forest')  # directory with our validation dog pictures"
      ],
      "execution_count": 9,
      "outputs": []
    },
    {
      "cell_type": "code",
      "metadata": {
        "id": "cUBaGFYyudWp",
        "colab_type": "code",
        "colab": {}
      },
      "source": [
        "num_mountain_tr = len(os.listdir(train_mountain_dir))\n",
        "num_forest_tr = len(os.listdir(train_forest_dir))\n",
        "\n",
        "num_mountain_val = len(os.listdir(validation_mountain_dir))\n",
        "num_forest_val = len(os.listdir(validation_forest_dir))\n",
        "\n",
        "total_train = num_mountain_tr + num_forest_tr\n",
        "total_val = num_mountain_val + num_forest_val"
      ],
      "execution_count": 10,
      "outputs": []
    },
    {
      "cell_type": "code",
      "metadata": {
        "id": "hlYbJbx0udWs",
        "colab_type": "code",
        "colab": {
          "base_uri": "https://localhost:8080/",
          "height": 134
        },
        "outputId": "7e855e64-5a73-445c-ebd7-92181b17e69d"
      },
      "source": [
        "print('total training mountain images:', num_mountain_tr)\n",
        "print('total training forest images:', num_forest_tr)\n",
        "\n",
        "print('total validation mountain images:', num_mountain_val)\n",
        "print('total validation forest images:', num_forest_val)\n",
        "print(\"--\")\n",
        "print(\"Total training images:\", total_train)\n",
        "print(\"Total validation images:\", total_val)"
      ],
      "execution_count": 11,
      "outputs": [
        {
          "output_type": "stream",
          "text": [
            "total training mountain images: 253\n",
            "total training forest images: 269\n",
            "total validation mountain images: 124\n",
            "total validation forest images: 61\n",
            "--\n",
            "Total training images: 522\n",
            "Total validation images: 185\n"
          ],
          "name": "stdout"
        }
      ]
    },
    {
      "cell_type": "markdown",
      "metadata": {
        "id": "8TU3mMxVudWu",
        "colab_type": "text"
      },
      "source": [
        "### Keras `ImageGenerator` to Process the Data\n",
        "\n",
        "This step is completed for you, but please review the code. The `ImageGenerator` class reads in batches of data from a directory and pass them to the model one batch at a time. Just like large text files, this method is advantageous, because it stifles the need to load a bunch of images into memory. \n",
        "\n",
        "Check out the documentation for this class method: [Keras `ImageGenerator` Class](https://keras.io/preprocessing/image/#imagedatagenerator-class). You'll expand it's use in the third assignment objective."
      ]
    },
    {
      "cell_type": "code",
      "metadata": {
        "id": "4irzjiJeudWu",
        "colab_type": "code",
        "colab": {}
      },
      "source": [
        "batch_size = 16\n",
        "epochs = 50\n",
        "IMG_HEIGHT = 224\n",
        "IMG_WIDTH = 224"
      ],
      "execution_count": 12,
      "outputs": []
    },
    {
      "cell_type": "code",
      "metadata": {
        "id": "alxj-0D3udWw",
        "colab_type": "code",
        "colab": {}
      },
      "source": [
        "from tensorflow.keras.preprocessing.image import ImageDataGenerator\n",
        "\n",
        "train_image_generator = ImageDataGenerator(rescale=1./255) # Generator for our training data\n",
        "validation_image_generator = ImageDataGenerator(rescale=1./255) # Generator for our validation data"
      ],
      "execution_count": 13,
      "outputs": []
    },
    {
      "cell_type": "code",
      "metadata": {
        "id": "9UpSmCY3udWy",
        "colab_type": "code",
        "colab": {
          "base_uri": "https://localhost:8080/",
          "height": 34
        },
        "outputId": "ab4cdd2e-ec83-44a4-a775-7ce00face448"
      },
      "source": [
        "train_data_gen = train_image_generator.flow_from_directory(batch_size=batch_size,\n",
        "                                                           directory=train_dir,\n",
        "                                                           shuffle=True,\n",
        "                                                           target_size=(IMG_HEIGHT, IMG_WIDTH),\n",
        "                                                           class_mode='binary')"
      ],
      "execution_count": 14,
      "outputs": [
        {
          "output_type": "stream",
          "text": [
            "Found 520 images belonging to 2 classes.\n"
          ],
          "name": "stdout"
        }
      ]
    },
    {
      "cell_type": "code",
      "metadata": {
        "id": "wp1jwXjnudW0",
        "colab_type": "code",
        "colab": {
          "base_uri": "https://localhost:8080/",
          "height": 34
        },
        "outputId": "ca1398d0-71a8-4c9d-a596-030407817622"
      },
      "source": [
        "val_data_gen = validation_image_generator.flow_from_directory(batch_size=batch_size,\n",
        "                                                              directory=validation_dir,\n",
        "                                                              target_size=(IMG_HEIGHT, IMG_WIDTH),\n",
        "                                                              class_mode='binary')"
      ],
      "execution_count": 15,
      "outputs": [
        {
          "output_type": "stream",
          "text": [
            "Found 182 images belonging to 2 classes.\n"
          ],
          "name": "stdout"
        }
      ]
    },
    {
      "cell_type": "markdown",
      "metadata": {
        "id": "gvmgn7upudW1",
        "colab_type": "text"
      },
      "source": [
        "## Instatiate Model"
      ]
    },
    {
      "cell_type": "code",
      "metadata": {
        "id": "uA7t0TmTudW2",
        "colab_type": "code",
        "colab": {
          "base_uri": "https://localhost:8080/",
          "height": 50
        },
        "outputId": "dd048a66-4536-49d2-e3e5-277dd5dbb28c"
      },
      "source": [
        "import numpy as np\n",
        " \n",
        "from tensorflow.keras.applications.resnet50 import ResNet50\n",
        "from tensorflow.keras.preprocessing import image\n",
        "from tensorflow.keras.applications.resnet50 import preprocess_input, decode_predictions\n",
        " \n",
        "from tensorflow.keras.layers import Dense, GlobalAveragePooling2D\n",
        "from tensorflow.keras.models import Model # This is the functional API\n",
        " \n",
        "resnet = ResNet50(weights='imagenet', include_top=False)"
      ],
      "execution_count": 16,
      "outputs": [
        {
          "output_type": "stream",
          "text": [
            "Downloading data from https://storage.googleapis.com/tensorflow/keras-applications/resnet/resnet50_weights_tf_dim_ordering_tf_kernels_notop.h5\n",
            "94773248/94765736 [==============================] - 1s 0us/step\n"
          ],
          "name": "stdout"
        }
      ]
    },
    {
      "cell_type": "code",
      "metadata": {
        "id": "xp5vK2Tmynb3",
        "colab_type": "code",
        "colab": {}
      },
      "source": [
        "for layer in resnet.layers:\n",
        "    layer.trainable = False"
      ],
      "execution_count": 17,
      "outputs": []
    },
    {
      "cell_type": "code",
      "metadata": {
        "id": "MYeDhvHWynh-",
        "colab_type": "code",
        "colab": {}
      },
      "source": [
        "x = resnet.output\n",
        "x = GlobalAveragePooling2D()(x) # This layer is a really fancy flatten\n",
        "x = Dense(1024, activation='relu')(x)\n",
        "predictions = Dense(1, activation='sigmoid')(x)\n",
        "model = Model(resnet.input, predictions)"
      ],
      "execution_count": 18,
      "outputs": []
    },
    {
      "cell_type": "code",
      "metadata": {
        "id": "gdk3fJF8yo44",
        "colab_type": "code",
        "colab": {}
      },
      "source": [
        "model.compile(optimizer='adam', loss='binary_crossentropy', metrics=['binary_accuracy'])"
      ],
      "execution_count": 19,
      "outputs": []
    },
    {
      "cell_type": "markdown",
      "metadata": {
        "id": "yUiz8BhNudW4",
        "colab_type": "text"
      },
      "source": [
        "## Fit Model"
      ]
    },
    {
      "cell_type": "code",
      "metadata": {
        "id": "GkrLSzSfudW4",
        "colab_type": "code",
        "colab": {
          "base_uri": "https://localhost:8080/",
          "height": 1000
        },
        "outputId": "cc84702f-f13c-4ebd-f3e8-7219c770e84e"
      },
      "source": [
        "history = model.fit(\n",
        "    train_data_gen,\n",
        "    steps_per_epoch=total_train // batch_size,\n",
        "    epochs=epochs,\n",
        "    validation_data=val_data_gen,\n",
        "    validation_steps=total_val // batch_size\n",
        ")"
      ],
      "execution_count": 20,
      "outputs": [
        {
          "output_type": "stream",
          "text": [
            "Epoch 1/50\n",
            "32/32 [==============================] - 3s 91ms/step - loss: 0.8797 - binary_accuracy: 0.4960 - val_loss: 0.6195 - val_binary_accuracy: 0.6705\n",
            "Epoch 2/50\n",
            "32/32 [==============================] - 2s 63ms/step - loss: 0.5945 - binary_accuracy: 0.7083 - val_loss: 0.5516 - val_binary_accuracy: 0.7898\n",
            "Epoch 3/50\n",
            "32/32 [==============================] - 2s 64ms/step - loss: 0.5320 - binary_accuracy: 0.8036 - val_loss: 0.4715 - val_binary_accuracy: 0.7898\n",
            "Epoch 4/50\n",
            "32/32 [==============================] - 2s 63ms/step - loss: 0.4805 - binary_accuracy: 0.7857 - val_loss: 0.4778 - val_binary_accuracy: 0.8239\n",
            "Epoch 5/50\n",
            "32/32 [==============================] - 2s 63ms/step - loss: 0.4281 - binary_accuracy: 0.8294 - val_loss: 0.4753 - val_binary_accuracy: 0.8239\n",
            "Epoch 6/50\n",
            "32/32 [==============================] - 2s 65ms/step - loss: 0.4660 - binary_accuracy: 0.7956 - val_loss: 0.4438 - val_binary_accuracy: 0.8352\n",
            "Epoch 7/50\n",
            "32/32 [==============================] - 2s 65ms/step - loss: 0.3547 - binary_accuracy: 0.8929 - val_loss: 0.3777 - val_binary_accuracy: 0.8693\n",
            "Epoch 8/50\n",
            "32/32 [==============================] - 2s 65ms/step - loss: 0.3669 - binary_accuracy: 0.8472 - val_loss: 0.3908 - val_binary_accuracy: 0.8580\n",
            "Epoch 9/50\n",
            "32/32 [==============================] - 2s 64ms/step - loss: 0.3158 - binary_accuracy: 0.8929 - val_loss: 0.3292 - val_binary_accuracy: 0.8409\n",
            "Epoch 10/50\n",
            "32/32 [==============================] - 2s 64ms/step - loss: 0.2968 - binary_accuracy: 0.8948 - val_loss: 0.5696 - val_binary_accuracy: 0.7443\n",
            "Epoch 11/50\n",
            "32/32 [==============================] - 2s 62ms/step - loss: 0.3244 - binary_accuracy: 0.8730 - val_loss: 0.3972 - val_binary_accuracy: 0.8466\n",
            "Epoch 12/50\n",
            "32/32 [==============================] - 2s 63ms/step - loss: 0.2755 - binary_accuracy: 0.9028 - val_loss: 0.4539 - val_binary_accuracy: 0.8295\n",
            "Epoch 13/50\n",
            "32/32 [==============================] - 2s 63ms/step - loss: 0.3804 - binary_accuracy: 0.8254 - val_loss: 0.2694 - val_binary_accuracy: 0.9091\n",
            "Epoch 14/50\n",
            "32/32 [==============================] - 2s 62ms/step - loss: 0.2492 - binary_accuracy: 0.9087 - val_loss: 0.5419 - val_binary_accuracy: 0.7727\n",
            "Epoch 15/50\n",
            "32/32 [==============================] - 2s 64ms/step - loss: 0.3043 - binary_accuracy: 0.8651 - val_loss: 0.4643 - val_binary_accuracy: 0.8239\n",
            "Epoch 16/50\n",
            "32/32 [==============================] - 2s 62ms/step - loss: 0.3656 - binary_accuracy: 0.8214 - val_loss: 0.5285 - val_binary_accuracy: 0.7955\n",
            "Epoch 17/50\n",
            "32/32 [==============================] - 2s 62ms/step - loss: 0.2220 - binary_accuracy: 0.9167 - val_loss: 0.3695 - val_binary_accuracy: 0.8466\n",
            "Epoch 18/50\n",
            "32/32 [==============================] - 2s 63ms/step - loss: 0.1998 - binary_accuracy: 0.9385 - val_loss: 0.3152 - val_binary_accuracy: 0.8580\n",
            "Epoch 19/50\n",
            "32/32 [==============================] - 2s 62ms/step - loss: 0.2379 - binary_accuracy: 0.9087 - val_loss: 0.2532 - val_binary_accuracy: 0.8977\n",
            "Epoch 20/50\n",
            "32/32 [==============================] - 2s 63ms/step - loss: 0.2059 - binary_accuracy: 0.9286 - val_loss: 0.2836 - val_binary_accuracy: 0.8636\n",
            "Epoch 21/50\n",
            "32/32 [==============================] - 2s 62ms/step - loss: 0.1684 - binary_accuracy: 0.9504 - val_loss: 0.2559 - val_binary_accuracy: 0.9148\n",
            "Epoch 22/50\n",
            "32/32 [==============================] - 2s 63ms/step - loss: 0.1730 - binary_accuracy: 0.9484 - val_loss: 0.2185 - val_binary_accuracy: 0.9432\n",
            "Epoch 23/50\n",
            "32/32 [==============================] - 2s 63ms/step - loss: 0.1854 - binary_accuracy: 0.9405 - val_loss: 0.3754 - val_binary_accuracy: 0.8409\n",
            "Epoch 24/50\n",
            "32/32 [==============================] - 2s 64ms/step - loss: 0.1977 - binary_accuracy: 0.9306 - val_loss: 0.3682 - val_binary_accuracy: 0.8466\n",
            "Epoch 25/50\n",
            "32/32 [==============================] - 2s 62ms/step - loss: 0.1692 - binary_accuracy: 0.9325 - val_loss: 0.2957 - val_binary_accuracy: 0.8693\n",
            "Epoch 26/50\n",
            "32/32 [==============================] - 2s 62ms/step - loss: 0.1348 - binary_accuracy: 0.9563 - val_loss: 0.2987 - val_binary_accuracy: 0.8693\n",
            "Epoch 27/50\n",
            "32/32 [==============================] - 2s 63ms/step - loss: 0.1568 - binary_accuracy: 0.9464 - val_loss: 0.2889 - val_binary_accuracy: 0.8807\n",
            "Epoch 28/50\n",
            "32/32 [==============================] - 2s 64ms/step - loss: 0.1767 - binary_accuracy: 0.9286 - val_loss: 0.2610 - val_binary_accuracy: 0.8920\n",
            "Epoch 29/50\n",
            "32/32 [==============================] - 2s 62ms/step - loss: 0.1241 - binary_accuracy: 0.9563 - val_loss: 0.4888 - val_binary_accuracy: 0.8125\n",
            "Epoch 30/50\n",
            "32/32 [==============================] - 2s 63ms/step - loss: 0.1221 - binary_accuracy: 0.9643 - val_loss: 0.2775 - val_binary_accuracy: 0.8920\n",
            "Epoch 31/50\n",
            "32/32 [==============================] - 2s 63ms/step - loss: 0.1314 - binary_accuracy: 0.9464 - val_loss: 0.2108 - val_binary_accuracy: 0.9375\n",
            "Epoch 32/50\n",
            "32/32 [==============================] - 2s 63ms/step - loss: 0.1312 - binary_accuracy: 0.9563 - val_loss: 0.2011 - val_binary_accuracy: 0.9375\n",
            "Epoch 33/50\n",
            "32/32 [==============================] - 2s 63ms/step - loss: 0.2815 - binary_accuracy: 0.8691 - val_loss: 0.3825 - val_binary_accuracy: 0.8125\n",
            "Epoch 34/50\n",
            "32/32 [==============================] - 2s 62ms/step - loss: 0.1271 - binary_accuracy: 0.9544 - val_loss: 0.1989 - val_binary_accuracy: 0.9375\n",
            "Epoch 35/50\n",
            "32/32 [==============================] - 2s 63ms/step - loss: 0.1284 - binary_accuracy: 0.9524 - val_loss: 0.4890 - val_binary_accuracy: 0.8182\n",
            "Epoch 36/50\n",
            "32/32 [==============================] - 2s 63ms/step - loss: 0.1615 - binary_accuracy: 0.9266 - val_loss: 0.1924 - val_binary_accuracy: 0.9489\n",
            "Epoch 37/50\n",
            "32/32 [==============================] - 2s 64ms/step - loss: 0.1428 - binary_accuracy: 0.9464 - val_loss: 0.2690 - val_binary_accuracy: 0.8920\n",
            "Epoch 38/50\n",
            "32/32 [==============================] - 2s 63ms/step - loss: 0.0933 - binary_accuracy: 0.9722 - val_loss: 0.5114 - val_binary_accuracy: 0.8068\n",
            "Epoch 39/50\n",
            "32/32 [==============================] - 2s 65ms/step - loss: 0.1299 - binary_accuracy: 0.9464 - val_loss: 0.4050 - val_binary_accuracy: 0.8352\n",
            "Epoch 40/50\n",
            "32/32 [==============================] - 2s 65ms/step - loss: 0.1206 - binary_accuracy: 0.9544 - val_loss: 0.1910 - val_binary_accuracy: 0.9432\n",
            "Epoch 41/50\n",
            "32/32 [==============================] - 2s 63ms/step - loss: 0.0994 - binary_accuracy: 0.9583 - val_loss: 0.2137 - val_binary_accuracy: 0.9375\n",
            "Epoch 42/50\n",
            "32/32 [==============================] - 2s 66ms/step - loss: 0.0895 - binary_accuracy: 0.9683 - val_loss: 0.2152 - val_binary_accuracy: 0.9375\n",
            "Epoch 43/50\n",
            "32/32 [==============================] - 2s 66ms/step - loss: 0.1109 - binary_accuracy: 0.9544 - val_loss: 0.1937 - val_binary_accuracy: 0.9375\n",
            "Epoch 44/50\n",
            "32/32 [==============================] - 2s 68ms/step - loss: 0.1078 - binary_accuracy: 0.9524 - val_loss: 0.1938 - val_binary_accuracy: 0.9375\n",
            "Epoch 45/50\n",
            "32/32 [==============================] - 2s 66ms/step - loss: 0.1088 - binary_accuracy: 0.9544 - val_loss: 0.2861 - val_binary_accuracy: 0.8920\n",
            "Epoch 46/50\n",
            "32/32 [==============================] - 2s 65ms/step - loss: 0.0879 - binary_accuracy: 0.9683 - val_loss: 0.1995 - val_binary_accuracy: 0.9375\n",
            "Epoch 47/50\n",
            "32/32 [==============================] - 2s 63ms/step - loss: 0.0702 - binary_accuracy: 0.9841 - val_loss: 0.2634 - val_binary_accuracy: 0.9091\n",
            "Epoch 48/50\n",
            "32/32 [==============================] - 2s 73ms/step - loss: 0.0673 - binary_accuracy: 0.9802 - val_loss: 0.1953 - val_binary_accuracy: 0.9375\n",
            "Epoch 49/50\n",
            "32/32 [==============================] - 2s 67ms/step - loss: 0.0712 - binary_accuracy: 0.9802 - val_loss: 0.2453 - val_binary_accuracy: 0.9318\n",
            "Epoch 50/50\n",
            "32/32 [==============================] - 2s 65ms/step - loss: 0.0685 - binary_accuracy: 0.9762 - val_loss: 0.2720 - val_binary_accuracy: 0.9148\n"
          ],
          "name": "stdout"
        }
      ]
    },
    {
      "cell_type": "markdown",
      "metadata": {
        "id": "DQXZNd9JudW6",
        "colab_type": "text"
      },
      "source": [
        "# Custom CNN Model\n",
        "\n",
        "In this step, write and train your own convolutional neural network using Keras. You can use any architecture that suits you as long as it has at least one convolutional and one pooling layer at the beginning of the network - you can add more if you want. "
      ]
    },
    {
      "cell_type": "code",
      "metadata": {
        "id": "b0SV0dX0udW7",
        "colab_type": "code",
        "colab": {}
      },
      "source": [
        "from tensorflow.keras.models import Sequential\n",
        "from tensorflow.keras.layers import Dense, Conv2D, MaxPooling2D, Flatten, Dropout\n",
        "\n",
        "model = Sequential()\n",
        "model.add(Conv2D(32, (3,3), activation='relu', input_shape=(IMG_HEIGHT, IMG_WIDTH, 3)))\n",
        "model.add(MaxPooling2D((2,2)))\n",
        "model.add(Dropout(0.2))\n",
        "\n",
        "model.add(Conv2D(16, (3,3), activation='relu'))\n",
        "model.add(MaxPooling2D((2,2)))\n",
        "model.add(Dropout(0.2))\n",
        "\n",
        "model.add(Conv2D(32, (3,3), activation='relu'))\n",
        "model.add(Flatten())\n",
        "model.add(Dense(32, activation='relu'))\n",
        "model.add(Dropout(0.2))\n",
        "\n",
        "model.add(Dense(1, activation='sigmoid'))"
      ],
      "execution_count": 28,
      "outputs": []
    },
    {
      "cell_type": "code",
      "metadata": {
        "id": "awvVVoQMudW8",
        "colab_type": "code",
        "colab": {}
      },
      "source": [
        "model.compile(optimizer='adam', loss='binary_crossentropy', metrics=['binary_accuracy'])"
      ],
      "execution_count": 29,
      "outputs": []
    },
    {
      "cell_type": "code",
      "metadata": {
        "id": "tgc01q0YudW-",
        "colab_type": "code",
        "colab": {
          "base_uri": "https://localhost:8080/",
          "height": 1000
        },
        "outputId": "f37ba306-44a6-491b-cbba-69e6b2780255"
      },
      "source": [
        "model.fit(\n",
        "    train_data_gen,\n",
        "    epochs=50,\n",
        "    validation_data=val_data_gen\n",
        ")"
      ],
      "execution_count": 30,
      "outputs": [
        {
          "output_type": "stream",
          "text": [
            "Epoch 1/50\n",
            "33/33 [==============================] - 2s 59ms/step - loss: 0.8421 - binary_accuracy: 0.6212 - val_loss: 0.5974 - val_binary_accuracy: 0.7253\n",
            "Epoch 2/50\n",
            "33/33 [==============================] - 2s 54ms/step - loss: 0.3631 - binary_accuracy: 0.8635 - val_loss: 0.6633 - val_binary_accuracy: 0.6154\n",
            "Epoch 3/50\n",
            "33/33 [==============================] - 2s 54ms/step - loss: 0.3269 - binary_accuracy: 0.8846 - val_loss: 0.3978 - val_binary_accuracy: 0.8022\n",
            "Epoch 4/50\n",
            "33/33 [==============================] - 2s 54ms/step - loss: 0.2353 - binary_accuracy: 0.9212 - val_loss: 0.2930 - val_binary_accuracy: 0.8791\n",
            "Epoch 5/50\n",
            "33/33 [==============================] - 2s 54ms/step - loss: 0.2352 - binary_accuracy: 0.9308 - val_loss: 0.2833 - val_binary_accuracy: 0.8571\n",
            "Epoch 6/50\n",
            "33/33 [==============================] - 2s 55ms/step - loss: 0.2557 - binary_accuracy: 0.9058 - val_loss: 0.4429 - val_binary_accuracy: 0.7637\n",
            "Epoch 7/50\n",
            "33/33 [==============================] - 2s 56ms/step - loss: 0.2185 - binary_accuracy: 0.9269 - val_loss: 0.2474 - val_binary_accuracy: 0.8736\n",
            "Epoch 8/50\n",
            "33/33 [==============================] - 2s 56ms/step - loss: 0.1827 - binary_accuracy: 0.9462 - val_loss: 0.1874 - val_binary_accuracy: 0.9396\n",
            "Epoch 9/50\n",
            "33/33 [==============================] - 2s 54ms/step - loss: 0.2193 - binary_accuracy: 0.9250 - val_loss: 0.2461 - val_binary_accuracy: 0.8791\n",
            "Epoch 10/50\n",
            "33/33 [==============================] - 2s 55ms/step - loss: 0.1627 - binary_accuracy: 0.9615 - val_loss: 0.5512 - val_binary_accuracy: 0.7418\n",
            "Epoch 11/50\n",
            "33/33 [==============================] - 2s 54ms/step - loss: 0.1794 - binary_accuracy: 0.9346 - val_loss: 0.5207 - val_binary_accuracy: 0.7692\n",
            "Epoch 12/50\n",
            "33/33 [==============================] - 2s 55ms/step - loss: 0.1969 - binary_accuracy: 0.9308 - val_loss: 0.2464 - val_binary_accuracy: 0.8846\n",
            "Epoch 13/50\n",
            "33/33 [==============================] - 2s 54ms/step - loss: 0.1623 - binary_accuracy: 0.9481 - val_loss: 0.2420 - val_binary_accuracy: 0.9341\n",
            "Epoch 14/50\n",
            "33/33 [==============================] - 2s 53ms/step - loss: 0.2296 - binary_accuracy: 0.9346 - val_loss: 0.2575 - val_binary_accuracy: 0.8571\n",
            "Epoch 15/50\n",
            "33/33 [==============================] - 2s 54ms/step - loss: 0.1817 - binary_accuracy: 0.9442 - val_loss: 0.2541 - val_binary_accuracy: 0.8846\n",
            "Epoch 16/50\n",
            "33/33 [==============================] - 2s 55ms/step - loss: 0.1845 - binary_accuracy: 0.9442 - val_loss: 0.2173 - val_binary_accuracy: 0.9176\n",
            "Epoch 17/50\n",
            "33/33 [==============================] - 2s 54ms/step - loss: 0.1441 - binary_accuracy: 0.9558 - val_loss: 0.2466 - val_binary_accuracy: 0.8846\n",
            "Epoch 18/50\n",
            "33/33 [==============================] - 2s 58ms/step - loss: 0.1250 - binary_accuracy: 0.9654 - val_loss: 0.2799 - val_binary_accuracy: 0.8626\n",
            "Epoch 19/50\n",
            "33/33 [==============================] - 2s 57ms/step - loss: 0.1363 - binary_accuracy: 0.9596 - val_loss: 0.2312 - val_binary_accuracy: 0.8846\n",
            "Epoch 20/50\n",
            "33/33 [==============================] - 2s 56ms/step - loss: 0.1745 - binary_accuracy: 0.9385 - val_loss: 0.3588 - val_binary_accuracy: 0.8022\n",
            "Epoch 21/50\n",
            "33/33 [==============================] - 2s 56ms/step - loss: 0.1314 - binary_accuracy: 0.9577 - val_loss: 0.2912 - val_binary_accuracy: 0.9121\n",
            "Epoch 22/50\n",
            "33/33 [==============================] - 2s 57ms/step - loss: 0.1283 - binary_accuracy: 0.9692 - val_loss: 0.2411 - val_binary_accuracy: 0.9341\n",
            "Epoch 23/50\n",
            "33/33 [==============================] - 2s 57ms/step - loss: 0.1377 - binary_accuracy: 0.9635 - val_loss: 0.2307 - val_binary_accuracy: 0.9176\n",
            "Epoch 24/50\n",
            "33/33 [==============================] - 2s 55ms/step - loss: 0.0989 - binary_accuracy: 0.9692 - val_loss: 0.3263 - val_binary_accuracy: 0.8462\n",
            "Epoch 25/50\n",
            "33/33 [==============================] - 2s 57ms/step - loss: 0.0882 - binary_accuracy: 0.9904 - val_loss: 0.3266 - val_binary_accuracy: 0.8956\n",
            "Epoch 26/50\n",
            "33/33 [==============================] - 2s 54ms/step - loss: 0.0728 - binary_accuracy: 0.9923 - val_loss: 0.3675 - val_binary_accuracy: 0.8681\n",
            "Epoch 27/50\n",
            "33/33 [==============================] - 2s 53ms/step - loss: 0.0889 - binary_accuracy: 0.9788 - val_loss: 0.3050 - val_binary_accuracy: 0.8956\n",
            "Epoch 28/50\n",
            "33/33 [==============================] - 2s 57ms/step - loss: 0.0757 - binary_accuracy: 0.9808 - val_loss: 0.2971 - val_binary_accuracy: 0.8956\n",
            "Epoch 29/50\n",
            "33/33 [==============================] - 2s 54ms/step - loss: 0.0562 - binary_accuracy: 0.9942 - val_loss: 0.3227 - val_binary_accuracy: 0.9066\n",
            "Epoch 30/50\n",
            "33/33 [==============================] - 2s 54ms/step - loss: 0.1974 - binary_accuracy: 0.9423 - val_loss: 0.3883 - val_binary_accuracy: 0.7527\n",
            "Epoch 31/50\n",
            "33/33 [==============================] - 2s 54ms/step - loss: 0.1117 - binary_accuracy: 0.9769 - val_loss: 0.2947 - val_binary_accuracy: 0.8681\n",
            "Epoch 32/50\n",
            "33/33 [==============================] - 2s 55ms/step - loss: 0.1031 - binary_accuracy: 0.9865 - val_loss: 0.2540 - val_binary_accuracy: 0.9286\n",
            "Epoch 33/50\n",
            "33/33 [==============================] - 2s 55ms/step - loss: 0.0893 - binary_accuracy: 0.9712 - val_loss: 0.2836 - val_binary_accuracy: 0.9176\n",
            "Epoch 34/50\n",
            "33/33 [==============================] - 2s 55ms/step - loss: 0.0779 - binary_accuracy: 0.9808 - val_loss: 0.2522 - val_binary_accuracy: 0.9121\n",
            "Epoch 35/50\n",
            "33/33 [==============================] - 2s 57ms/step - loss: 0.0862 - binary_accuracy: 0.9692 - val_loss: 0.2913 - val_binary_accuracy: 0.8791\n",
            "Epoch 36/50\n",
            "33/33 [==============================] - 2s 57ms/step - loss: 0.0823 - binary_accuracy: 0.9769 - val_loss: 0.3879 - val_binary_accuracy: 0.9011\n",
            "Epoch 37/50\n",
            "33/33 [==============================] - 2s 55ms/step - loss: 0.1435 - binary_accuracy: 0.9596 - val_loss: 0.5125 - val_binary_accuracy: 0.8132\n",
            "Epoch 38/50\n",
            "33/33 [==============================] - 2s 56ms/step - loss: 0.0482 - binary_accuracy: 0.9904 - val_loss: 0.5339 - val_binary_accuracy: 0.9121\n",
            "Epoch 39/50\n",
            "33/33 [==============================] - 2s 57ms/step - loss: 0.0388 - binary_accuracy: 0.9865 - val_loss: 0.4296 - val_binary_accuracy: 0.9066\n",
            "Epoch 40/50\n",
            "33/33 [==============================] - 2s 56ms/step - loss: 0.0686 - binary_accuracy: 0.9769 - val_loss: 0.3754 - val_binary_accuracy: 0.9176\n",
            "Epoch 41/50\n",
            "33/33 [==============================] - 2s 58ms/step - loss: 0.0413 - binary_accuracy: 0.9904 - val_loss: 0.4071 - val_binary_accuracy: 0.9011\n",
            "Epoch 42/50\n",
            "33/33 [==============================] - 2s 56ms/step - loss: 0.0210 - binary_accuracy: 0.9962 - val_loss: 0.5309 - val_binary_accuracy: 0.8626\n",
            "Epoch 43/50\n",
            "33/33 [==============================] - 2s 57ms/step - loss: 0.0248 - binary_accuracy: 0.9885 - val_loss: 0.6673 - val_binary_accuracy: 0.8462\n",
            "Epoch 44/50\n",
            "33/33 [==============================] - 2s 56ms/step - loss: 0.0367 - binary_accuracy: 0.9808 - val_loss: 0.5664 - val_binary_accuracy: 0.9066\n",
            "Epoch 45/50\n",
            "33/33 [==============================] - 2s 57ms/step - loss: 0.0826 - binary_accuracy: 0.9712 - val_loss: 0.4443 - val_binary_accuracy: 0.9121\n",
            "Epoch 46/50\n",
            "33/33 [==============================] - 2s 54ms/step - loss: 0.0545 - binary_accuracy: 0.9827 - val_loss: 0.2957 - val_binary_accuracy: 0.9011\n",
            "Epoch 47/50\n",
            "33/33 [==============================] - 2s 55ms/step - loss: 0.0434 - binary_accuracy: 0.9788 - val_loss: 0.4633 - val_binary_accuracy: 0.8626\n",
            "Epoch 48/50\n",
            "33/33 [==============================] - 2s 58ms/step - loss: 0.0249 - binary_accuracy: 0.9904 - val_loss: 0.4002 - val_binary_accuracy: 0.9341\n",
            "Epoch 49/50\n",
            "33/33 [==============================] - 2s 58ms/step - loss: 0.0189 - binary_accuracy: 0.9942 - val_loss: 0.5960 - val_binary_accuracy: 0.8791\n",
            "Epoch 50/50\n",
            "33/33 [==============================] - 2s 57ms/step - loss: 0.0240 - binary_accuracy: 0.9942 - val_loss: 0.9031 - val_binary_accuracy: 0.8352\n"
          ],
          "name": "stdout"
        },
        {
          "output_type": "execute_result",
          "data": {
            "text/plain": [
              "<tensorflow.python.keras.callbacks.History at 0x7f66b2472ac8>"
            ]
          },
          "metadata": {
            "tags": []
          },
          "execution_count": 30
        }
      ]
    },
    {
      "cell_type": "markdown",
      "metadata": {
        "id": "S8a5Gc8rudW_",
        "colab_type": "text"
      },
      "source": [
        "# Custom CNN Model with Image Manipulations\n",
        "\n",
        "To simulate an increase in a sample of image, you can apply image manipulation techniques: cropping, rotation, stretching, etc. Luckily Keras has some handy functions for us to apply these techniques to our mountain and forest example. Simply, you should be able to modify our image generator for the problem. Check out these resources to help you get started: \n",
        "\n",
        "1. [Keras `ImageGenerator` Class](https://keras.io/preprocessing/image/#imagedatagenerator-class)\n",
        "2. [Building a powerful image classifier with very little data](https://blog.keras.io/building-powerful-image-classification-models-using-very-little-data.html)\n",
        " "
      ]
    },
    {
      "cell_type": "code",
      "metadata": {
        "id": "ePYRt9vGudW_",
        "colab_type": "code",
        "colab": {}
      },
      "source": [
        "train_image_generator = ImageDataGenerator(rescale=1./255, rotation_range=90, width_shift_range=.5, height_shift_range=.5)\n",
        "validation_image_generator = ImageDataGenerator(rescale=1./255, rotation_range=90, width_shift_range=.5, height_shift_range=.5)"
      ],
      "execution_count": 31,
      "outputs": []
    },
    {
      "cell_type": "code",
      "metadata": {
        "id": "XLE-TfJX05vH",
        "colab_type": "code",
        "colab": {
          "base_uri": "https://localhost:8080/",
          "height": 34
        },
        "outputId": "3619b656-ddee-4f6b-c483-f7ddc66ae79a"
      },
      "source": [
        "train_data_gen = train_image_generator.flow_from_directory(batch_size=batch_size,\n",
        "                                                           directory=train_dir,\n",
        "                                                           shuffle=True,\n",
        "                                                           target_size=(IMG_HEIGHT, IMG_WIDTH),\n",
        "                                                           class_mode='binary')"
      ],
      "execution_count": 32,
      "outputs": [
        {
          "output_type": "stream",
          "text": [
            "Found 520 images belonging to 2 classes.\n"
          ],
          "name": "stdout"
        }
      ]
    },
    {
      "cell_type": "code",
      "metadata": {
        "id": "THJDMNbX05xr",
        "colab_type": "code",
        "colab": {
          "base_uri": "https://localhost:8080/",
          "height": 34
        },
        "outputId": "c3719c1e-db02-43b6-97eb-c45091c7a66e"
      },
      "source": [
        "val_data_gen = validation_image_generator.flow_from_directory(batch_size=batch_size,\n",
        "                                                              directory=validation_dir,\n",
        "                                                              target_size=(IMG_HEIGHT, IMG_WIDTH),\n",
        "                                                              class_mode='binary')"
      ],
      "execution_count": 33,
      "outputs": [
        {
          "output_type": "stream",
          "text": [
            "Found 182 images belonging to 2 classes.\n"
          ],
          "name": "stdout"
        }
      ]
    },
    {
      "cell_type": "code",
      "metadata": {
        "id": "WZURWttg0522",
        "colab_type": "code",
        "colab": {}
      },
      "source": [
        "model = Sequential()\n",
        "model.add(Conv2D(32, (3,3), activation='relu', input_shape=(IMG_HEIGHT, IMG_WIDTH, 3)))\n",
        "model.add(MaxPooling2D((2,2)))\n",
        "model.add(Dropout(0.2))\n",
        "\n",
        "model.add(Conv2D(32, (3,3), activation='relu'))\n",
        "model.add(Flatten())\n",
        "model.add(Dense(16, activation='relu'))\n",
        "model.add(Dropout(0.2))\n",
        "\n",
        "model.add(Dense(1, activation='sigmoid'))"
      ],
      "execution_count": 34,
      "outputs": []
    },
    {
      "cell_type": "code",
      "metadata": {
        "id": "aCCuOkDR055d",
        "colab_type": "code",
        "colab": {}
      },
      "source": [
        "model.compile(optimizer='adam', loss='binary_crossentropy', metrics=['binary_accuracy'])"
      ],
      "execution_count": 35,
      "outputs": []
    },
    {
      "cell_type": "code",
      "metadata": {
        "id": "GetOsg1c1CNe",
        "colab_type": "code",
        "colab": {
          "base_uri": "https://localhost:8080/",
          "height": 1000
        },
        "outputId": "915d5a84-d334-48b3-da70-67279ce922e2"
      },
      "source": [
        "model.fit(\n",
        "    train_data_gen,\n",
        "    epochs=30,\n",
        "    validation_data=val_data_gen\n",
        ")"
      ],
      "execution_count": 36,
      "outputs": [
        {
          "output_type": "stream",
          "text": [
            "Epoch 1/30\n",
            "33/33 [==============================] - 9s 267ms/step - loss: 0.5296 - binary_accuracy: 0.7962 - val_loss: 0.3389 - val_binary_accuracy: 0.8736\n",
            "Epoch 2/30\n",
            "33/33 [==============================] - 9s 270ms/step - loss: 0.3995 - binary_accuracy: 0.8173 - val_loss: 0.6994 - val_binary_accuracy: 0.7527\n",
            "Epoch 3/30\n",
            "33/33 [==============================] - 9s 264ms/step - loss: 0.4210 - binary_accuracy: 0.8712 - val_loss: 0.2410 - val_binary_accuracy: 0.9176\n",
            "Epoch 4/30\n",
            "33/33 [==============================] - 9s 262ms/step - loss: 0.3743 - binary_accuracy: 0.8462 - val_loss: 0.4007 - val_binary_accuracy: 0.8407\n",
            "Epoch 5/30\n",
            "33/33 [==============================] - 9s 263ms/step - loss: 0.3867 - binary_accuracy: 0.8500 - val_loss: 0.3241 - val_binary_accuracy: 0.8516\n",
            "Epoch 6/30\n",
            "33/33 [==============================] - 9s 264ms/step - loss: 0.3060 - binary_accuracy: 0.8731 - val_loss: 0.3282 - val_binary_accuracy: 0.8407\n",
            "Epoch 7/30\n",
            "33/33 [==============================] - 9s 260ms/step - loss: 0.3280 - binary_accuracy: 0.8885 - val_loss: 0.3392 - val_binary_accuracy: 0.8352\n",
            "Epoch 8/30\n",
            "33/33 [==============================] - 9s 260ms/step - loss: 0.3818 - binary_accuracy: 0.8558 - val_loss: 0.3034 - val_binary_accuracy: 0.8626\n",
            "Epoch 9/30\n",
            "33/33 [==============================] - 9s 261ms/step - loss: 0.2971 - binary_accuracy: 0.8846 - val_loss: 0.3625 - val_binary_accuracy: 0.8352\n",
            "Epoch 10/30\n",
            "33/33 [==============================] - 8s 256ms/step - loss: 0.3254 - binary_accuracy: 0.8731 - val_loss: 0.2800 - val_binary_accuracy: 0.8791\n",
            "Epoch 11/30\n",
            "33/33 [==============================] - 8s 257ms/step - loss: 0.2903 - binary_accuracy: 0.8846 - val_loss: 0.2834 - val_binary_accuracy: 0.8791\n",
            "Epoch 12/30\n",
            "33/33 [==============================] - 9s 260ms/step - loss: 0.2614 - binary_accuracy: 0.8885 - val_loss: 0.2710 - val_binary_accuracy: 0.8516\n",
            "Epoch 13/30\n",
            "33/33 [==============================] - 9s 260ms/step - loss: 0.2772 - binary_accuracy: 0.8962 - val_loss: 0.4924 - val_binary_accuracy: 0.7912\n",
            "Epoch 14/30\n",
            "33/33 [==============================] - 9s 259ms/step - loss: 0.2757 - binary_accuracy: 0.8923 - val_loss: 0.4006 - val_binary_accuracy: 0.7912\n",
            "Epoch 15/30\n",
            "33/33 [==============================] - 9s 259ms/step - loss: 0.3526 - binary_accuracy: 0.8404 - val_loss: 0.3395 - val_binary_accuracy: 0.8736\n",
            "Epoch 16/30\n",
            "33/33 [==============================] - 9s 261ms/step - loss: 0.2909 - binary_accuracy: 0.8942 - val_loss: 0.5486 - val_binary_accuracy: 0.7363\n",
            "Epoch 17/30\n",
            "33/33 [==============================] - 8s 257ms/step - loss: 0.3306 - binary_accuracy: 0.8808 - val_loss: 0.4162 - val_binary_accuracy: 0.7527\n",
            "Epoch 18/30\n",
            "33/33 [==============================] - 8s 257ms/step - loss: 0.2722 - binary_accuracy: 0.8904 - val_loss: 0.3141 - val_binary_accuracy: 0.8571\n",
            "Epoch 19/30\n",
            "33/33 [==============================] - 9s 259ms/step - loss: 0.2728 - binary_accuracy: 0.8827 - val_loss: 0.3246 - val_binary_accuracy: 0.8407\n",
            "Epoch 20/30\n",
            "33/33 [==============================] - 9s 261ms/step - loss: 0.3078 - binary_accuracy: 0.8808 - val_loss: 0.2540 - val_binary_accuracy: 0.8846\n",
            "Epoch 21/30\n",
            "33/33 [==============================] - 9s 258ms/step - loss: 0.3108 - binary_accuracy: 0.8769 - val_loss: 0.2863 - val_binary_accuracy: 0.8626\n",
            "Epoch 22/30\n",
            "33/33 [==============================] - 9s 267ms/step - loss: 0.2870 - binary_accuracy: 0.8923 - val_loss: 0.2629 - val_binary_accuracy: 0.8791\n",
            "Epoch 23/30\n",
            "33/33 [==============================] - 9s 267ms/step - loss: 0.2601 - binary_accuracy: 0.9135 - val_loss: 0.3002 - val_binary_accuracy: 0.8846\n",
            "Epoch 24/30\n",
            "33/33 [==============================] - 9s 263ms/step - loss: 0.2417 - binary_accuracy: 0.9000 - val_loss: 0.2706 - val_binary_accuracy: 0.8791\n",
            "Epoch 25/30\n",
            "33/33 [==============================] - 9s 258ms/step - loss: 0.2570 - binary_accuracy: 0.9058 - val_loss: 0.2924 - val_binary_accuracy: 0.8846\n",
            "Epoch 26/30\n",
            "33/33 [==============================] - 9s 260ms/step - loss: 0.2761 - binary_accuracy: 0.9038 - val_loss: 0.2416 - val_binary_accuracy: 0.9066\n",
            "Epoch 27/30\n",
            "33/33 [==============================] - 9s 260ms/step - loss: 0.2514 - binary_accuracy: 0.9058 - val_loss: 0.2955 - val_binary_accuracy: 0.8791\n",
            "Epoch 28/30\n",
            "33/33 [==============================] - 8s 257ms/step - loss: 0.2531 - binary_accuracy: 0.9173 - val_loss: 0.2878 - val_binary_accuracy: 0.8736\n",
            "Epoch 29/30\n",
            "33/33 [==============================] - 9s 259ms/step - loss: 0.2998 - binary_accuracy: 0.9154 - val_loss: 0.2618 - val_binary_accuracy: 0.9011\n",
            "Epoch 30/30\n",
            "33/33 [==============================] - 8s 257ms/step - loss: 0.2708 - binary_accuracy: 0.9038 - val_loss: 0.3992 - val_binary_accuracy: 0.8242\n"
          ],
          "name": "stdout"
        },
        {
          "output_type": "execute_result",
          "data": {
            "text/plain": [
              "<tensorflow.python.keras.callbacks.History at 0x7f66b0a32d30>"
            ]
          },
          "metadata": {
            "tags": []
          },
          "execution_count": 36
        }
      ]
    },
    {
      "cell_type": "markdown",
      "metadata": {
        "colab_type": "text",
        "id": "uT3UV3gap9H6"
      },
      "source": [
        "# Resources and Stretch Goals\n",
        "\n",
        "Stretch goals\n",
        "- Enhance your code to use classes/functions and accept terms to search and classes to look for in recognizing the downloaded images (e.g. download images of parties, recognize all that contain balloons)\n",
        "- Check out [other available pretrained networks](https://tfhub.dev), try some and compare\n",
        "- Image recognition/classification is somewhat solved, but *relationships* between entities and describing an image is not - check out some of the extended resources (e.g. [Visual Genome](https://visualgenome.org/)) on the topic\n",
        "- Transfer learning - using images you source yourself, [retrain a classifier](https://www.tensorflow.org/hub/tutorials/image_retraining) with a new category\n",
        "- (Not CNN related) Use [piexif](https://pypi.org/project/piexif/) to check out the metadata of images passed in to your system - see if they're from a national park! (Note - many images lack GPS metadata, so this won't work in most cases, but still cool)\n",
        "\n",
        "Resources\n",
        "- [Deep Residual Learning for Image Recognition](https://arxiv.org/abs/1512.03385) - influential paper (introduced ResNet)\n",
        "- [YOLO: Real-Time Object Detection](https://pjreddie.com/darknet/yolo/) - an influential convolution based object detection system, focused on inference speed (for applications to e.g. self driving vehicles)\n",
        "- [R-CNN, Fast R-CNN, Faster R-CNN, YOLO](https://towardsdatascience.com/r-cnn-fast-r-cnn-faster-r-cnn-yolo-object-detection-algorithms-36d53571365e) - comparison of object detection systems\n",
        "- [Common Objects in Context](http://cocodataset.org/) - a large-scale object detection, segmentation, and captioning dataset\n",
        "- [Visual Genome](https://visualgenome.org/) - a dataset, a knowledge base, an ongoing effort to connect structured image concepts to language"
      ]
    }
  ]
}