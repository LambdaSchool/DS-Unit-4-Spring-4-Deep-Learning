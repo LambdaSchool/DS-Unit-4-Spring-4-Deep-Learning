{
  "nbformat": 4,
  "nbformat_minor": 0,
  "metadata": {
    "kernelspec": {
      "display_name": "U4-S3-DNN (Python 3.7)",
      "language": "python",
      "name": "u4-s3-dnn"
    },
    "language_info": {
      "codemirror_mode": {
        "name": "ipython",
        "version": 3
      },
      "file_extension": ".py",
      "mimetype": "text/x-python",
      "name": "python",
      "nbconvert_exporter": "python",
      "pygments_lexer": "ipython3",
      "version": "3.7.3"
    },
    "colab": {
      "name": "LS_DS_432_Convolution_Neural_Networks_Assignment.ipynb",
      "provenance": []
    },
    "accelerator": "GPU"
  },
  "cells": [
    {
      "cell_type": "markdown",
      "metadata": {
        "id": "Q4lVBmkRQGPT",
        "colab_type": "text"
      },
      "source": [
        "<img align=\"left\" src=\"https://lever-client-logos.s3.amazonaws.com/864372b1-534c-480e-acd5-9711f850815c-1524247202159.png\" width=200>\n",
        "<br></br>\n",
        "<br></br>\n",
        "\n",
        "## *Data Science Unit 4 Sprint 3 Assignment 2*\n",
        "# Convolutional Neural Networks (CNNs)"
      ]
    },
    {
      "cell_type": "markdown",
      "metadata": {
        "colab_type": "text",
        "id": "0lfZdD_cp1t5"
      },
      "source": [
        "# Assignment\n",
        "\n",
        "- <a href=\"#p1\">Part 1:</a> Pre-Trained Model\n",
        "- <a href=\"#p2\">Part 2:</a> Custom CNN Model\n",
        "- <a href=\"#p3\">Part 3:</a> CNN with Data Augmentation\n",
        "\n",
        "\n",
        "You will apply three different CNN models to a binary image classification model using Keras. Classify images of Mountains (`./data/mountain/*`) and images of forests (`./data/forest/*`). Treat mountains as the postive class (1) and the forest images as the negative (zero). \n",
        "\n",
        "|Mountain (+)|Forest (-)|\n",
        "|---|---|\n",
        "|![](https://github.com/bmulas1535/DS-Unit-4-Sprint-3-Deep-Learning/blob/master/module2-convolutional-neural-networks/data/mountain/art1131.jpg?raw=1)|![](https://github.com/bmulas1535/DS-Unit-4-Sprint-3-Deep-Learning/blob/master/module2-convolutional-neural-networks/data/forest/cdmc317.jpg?raw=1)|\n",
        "\n",
        "The problem is realively difficult given that the sample is tiny: there are about 350 observations per class. This sample size might be sometime that can expect with prototyping an image classification problem/solution at work. Get accustomed to evaluating several differnet possible models."
      ]
    },
    {
      "cell_type": "markdown",
      "metadata": {
        "colab_type": "text",
        "id": "6gQZn7KbQGPf"
      },
      "source": [
        "# Pre - Trained Model\n",
        "<a id=\"p1\"></a>\n",
        "\n",
        "Load a pretrained network from Keras, [ResNet50](https://tfhub.dev/google/imagenet/resnet_v1_50/classification/1) - a 50 layer deep network trained to recognize [1000 objects](https://storage.googleapis.com/download.tensorflow.org/data/ImageNetLabels.txt). Starting usage:\n",
        "\n",
        "```python\n",
        "import numpy as np\n",
        "\n",
        "from tensorflow.keras.applications.resnet50 import ResNet50\n",
        "from tensorflow.keras.preprocessing import image\n",
        "from tensorflow.keras.applications.resnet50 import preprocess_input, decode_predictions\n",
        "\n",
        "from tensorflow.keras.layers import Dense, GlobalAveragePooling2D()\n",
        "from tensorflow.keras.models import Model # This is the functional API\n",
        "\n",
        "resnet = ResNet50(weights='imagenet', include_top=False)\n",
        "\n",
        "```\n",
        "\n",
        "The `include_top` parameter in `ResNet50` will remove the full connected layers from the ResNet model. The next step is to turn off the training of the ResNet layers. We want to use the learned parameters without updating them in future training passes. \n",
        "\n",
        "```python\n",
        "for layer in resnet.layers:\n",
        "    layer.trainable = False\n",
        "```\n",
        "\n",
        "Using the Keras functional API, we will need to additional additional full connected layers to our model. We we removed the top layers, we removed all preivous fully connected layers. In other words, we kept only the feature processing portions of our network. You can expert with additional layers beyond what's listed here. The `GlobalAveragePooling2D` layer functions as a really fancy flatten function by taking the average of each of the last convolutional layer outputs (which is two dimensional still). \n",
        "\n",
        "```python\n",
        "x = res.output\n",
        "x = GlobalAveragePooling2D()(x) # This layer is a really fancy flatten\n",
        "x = Dense(1024, activation='relu')(x)\n",
        "predictions = Dense(1, activation='sigmoid')(x)\n",
        "model = Model(res.input, predictions)\n",
        "```\n",
        "\n",
        "Your assignment is to apply the transfer learning above to classify images of Mountains (`./data/mountain/*`) and images of forests (`./data/forest/*`). Treat mountains as the postive class (1) and the forest images as the negative (zero). \n",
        "\n",
        "Steps to complete assignment: \n",
        "1. Load in Image Data into numpy arrays (`X`) \n",
        "2. Create a `y` for the labels\n",
        "3. Train your model with pretrained layers from resnet\n",
        "4. Report your model's accuracy"
      ]
    },
    {
      "cell_type": "markdown",
      "metadata": {
        "id": "byB-Va70QGPi",
        "colab_type": "text"
      },
      "source": [
        "## Load in Data\n",
        "\n",
        "![skimage-logo](https://scikit-image.org/_static/img/logo.png)\n",
        "\n",
        "Check out out [`skimage`](https://scikit-image.org/) for useful functions related to processing the images. In particular checkout the documentation for `skimage.io.imread_collection` and `skimage.transform.resize`."
      ]
    },
    {
      "cell_type": "markdown",
      "metadata": {
        "id": "c-6aFyFVnj79",
        "colab_type": "text"
      },
      "source": [
        "## Importing the data\n",
        "\n",
        "```\n",
        "!unzip data.zip\n",
        "```"
      ]
    },
    {
      "cell_type": "code",
      "metadata": {
        "id": "GBSCpGeQGt-9",
        "colab_type": "code",
        "colab": {}
      },
      "source": [
        "#!unzip data.zip"
      ],
      "execution_count": 0,
      "outputs": []
    },
    {
      "cell_type": "code",
      "metadata": {
        "id": "0y3CqKf7QGPl",
        "colab_type": "code",
        "colab": {}
      },
      "source": [
        "import os\n",
        "from PIL import Image\n",
        "import numpy as np"
      ],
      "execution_count": 0,
      "outputs": []
    },
    {
      "cell_type": "code",
      "metadata": {
        "id": "Nanr_FgJq_oP",
        "colab_type": "code",
        "colab": {}
      },
      "source": [
        "forest_images = list()\n",
        "# Collect forest data\n",
        "for picture in os.listdir('data/forest'):\n",
        "  if 'Thumbs' in picture:\n",
        "    pass\n",
        "  if picture == '.ipynb_checkpoints':\n",
        "    pass\n",
        "  else:\n",
        "    image = Image.open(f'data/forest/{picture}')\n",
        "    forest_images.append(image)\n"
      ],
      "execution_count": 0,
      "outputs": []
    },
    {
      "cell_type": "code",
      "metadata": {
        "id": "BVGOC34rQeQn",
        "colab_type": "code",
        "colab": {}
      },
      "source": [
        ""
      ],
      "execution_count": 0,
      "outputs": []
    },
    {
      "cell_type": "code",
      "metadata": {
        "id": "kfuVGiJSsVl5",
        "colab_type": "code",
        "colab": {}
      },
      "source": [
        "mountain_images = list()\n",
        "# Collect mountain data\n",
        "for picture in os.listdir('data/mountain'):\n",
        "  if 'Thumbs' in picture:\n",
        "    pass\n",
        "  if picture == '.ipynb_checkpoints':\n",
        "    pass\n",
        "  else:\n",
        "    image = Image.open(f'data/mountain/{picture}')\n",
        "    mountain_images.append(image)\n"
      ],
      "execution_count": 0,
      "outputs": []
    },
    {
      "cell_type": "code",
      "metadata": {
        "id": "6hjbY7VLsUDa",
        "colab_type": "code",
        "colab": {}
      },
      "source": [
        "# Create target label for images\n",
        "y_forest = [0 for x in range(len(forest_images))]\n",
        "y_mountain = [1 for x in range(len(mountain_images))]\n"
      ],
      "execution_count": 0,
      "outputs": []
    },
    {
      "cell_type": "code",
      "metadata": {
        "id": "2kw0udlTsuu3",
        "colab_type": "code",
        "colab": {}
      },
      "source": [
        "# Get arrays into list\n",
        "forest_arrays = list()\n",
        "mountain_arrays = list()\n",
        "\n",
        "for image in forest_images:\n",
        "  forest_arrays.append(np.asarray(image))\n",
        "\n",
        "for image in mountain_images:\n",
        "  mountain_arrays.append(np.asarray(image))\n"
      ],
      "execution_count": 0,
      "outputs": []
    },
    {
      "cell_type": "code",
      "metadata": {
        "id": "PObWg-ZN1QS3",
        "colab_type": "code",
        "colab": {}
      },
      "source": [
        "# Concatentate label lists\n",
        "train_labels = y_forest + y_mountain\n"
      ],
      "execution_count": 0,
      "outputs": []
    },
    {
      "cell_type": "code",
      "metadata": {
        "id": "R6KEJaQx8PcM",
        "colab_type": "code",
        "colab": {}
      },
      "source": [
        "# Concatenate image array lists\n",
        "train_images = forest_arrays + mountain_arrays\n"
      ],
      "execution_count": 0,
      "outputs": []
    },
    {
      "cell_type": "code",
      "metadata": {
        "id": "zthECf-fE2XJ",
        "colab_type": "code",
        "colab": {}
      },
      "source": [
        "train_images = np.array(train_images)"
      ],
      "execution_count": 0,
      "outputs": []
    },
    {
      "cell_type": "code",
      "metadata": {
        "id": "FVbKVzrhHWRP",
        "colab_type": "code",
        "colab": {}
      },
      "source": [
        "train_images = train_images/255"
      ],
      "execution_count": 0,
      "outputs": []
    },
    {
      "cell_type": "code",
      "metadata": {
        "id": "-GdlUPvv-oRK",
        "colab_type": "code",
        "colab": {
          "base_uri": "https://localhost:8080/",
          "height": 81
        },
        "outputId": "ff89bbb5-dd8d-4dc4-cf1a-a5a12f33cec6"
      },
      "source": [
        "from tensorflow.keras.applications.resnet50 import ResNet50\n",
        "from tensorflow.keras.preprocessing import image\n",
        "from tensorflow.keras.applications.resnet50 import preprocess_input, \\\n",
        "decode_predictions\n",
        "from tensorflow.keras.layers import Dense, GlobalAveragePooling2D\n",
        "from tensorflow.keras.models import Model"
      ],
      "execution_count": 11,
      "outputs": [
        {
          "output_type": "display_data",
          "data": {
            "text/html": [
              "<p style=\"color: red;\">\n",
              "The default version of TensorFlow in Colab will soon switch to TensorFlow 2.x.<br>\n",
              "We recommend you <a href=\"https://www.tensorflow.org/guide/migrate\" target=\"_blank\">upgrade</a> now \n",
              "or ensure your notebook will continue to use TensorFlow 1.x via the <code>%tensorflow_version 1.x</code> magic:\n",
              "<a href=\"https://colab.research.google.com/notebooks/tensorflow_version.ipynb\" target=\"_blank\">more info</a>.</p>\n"
            ],
            "text/plain": [
              "<IPython.core.display.HTML object>"
            ]
          },
          "metadata": {
            "tags": []
          }
        }
      ]
    },
    {
      "cell_type": "markdown",
      "metadata": {
        "id": "syRN8bzEQGPz",
        "colab_type": "text"
      },
      "source": [
        "## Instatiate Model"
      ]
    },
    {
      "cell_type": "code",
      "metadata": {
        "id": "lGKWWVJoBjm0",
        "colab_type": "code",
        "colab": {
          "base_uri": "https://localhost:8080/",
          "height": 89
        },
        "outputId": "0ccc85a1-6f92-4a88-d693-2e39da29205c"
      },
      "source": [
        "# Instantiate resnet model\n",
        "resnet = ResNet50(weights='imagenet', include_top=False)"
      ],
      "execution_count": 12,
      "outputs": [
        {
          "output_type": "stream",
          "text": [
            "WARNING:tensorflow:From /usr/local/lib/python3.6/dist-packages/tensorflow_core/python/ops/resource_variable_ops.py:1630: calling BaseResourceVariable.__init__ (from tensorflow.python.ops.resource_variable_ops) with constraint is deprecated and will be removed in a future version.\n",
            "Instructions for updating:\n",
            "If using Keras pass *_constraint arguments to layers.\n"
          ],
          "name": "stdout"
        }
      ]
    },
    {
      "cell_type": "code",
      "metadata": {
        "id": "R0sClb_J_Mno",
        "colab_type": "code",
        "colab": {}
      },
      "source": [
        "# Freeze resnet layers\n",
        "for layer in resnet.layers:\n",
        "    layer.trainable = False"
      ],
      "execution_count": 0,
      "outputs": []
    },
    {
      "cell_type": "code",
      "metadata": {
        "id": "0rIJMmTCQGP3",
        "colab_type": "code",
        "colab": {}
      },
      "source": [
        "\n",
        "x = resnet.output\n",
        "x = GlobalAveragePooling2D()(x) # This layer is a really fancy flatten\n",
        "x = Dense(1024, activation='relu')(x)\n",
        "predictions = Dense(2, activation='sigmoid')(x)\n",
        "model = Model(resnet.input, predictions)"
      ],
      "execution_count": 0,
      "outputs": []
    },
    {
      "cell_type": "code",
      "metadata": {
        "id": "keXzxUivC6Rz",
        "colab_type": "code",
        "colab": {}
      },
      "source": [
        "# compile the concatenated model\n",
        "model.compile(\n",
        "    optimizer='adam',\n",
        "    loss='sparse_categorical_crossentropy',\n",
        "    metrics=['accuracy']\n",
        ")"
      ],
      "execution_count": 0,
      "outputs": []
    },
    {
      "cell_type": "code",
      "metadata": {
        "id": "OHm_0jxsDxVz",
        "colab_type": "code",
        "colab": {
          "base_uri": "https://localhost:8080/",
          "height": 1000
        },
        "outputId": "7aff91e6-9cbc-440c-f57f-7239b4558c0e"
      },
      "source": [
        "# Fit the model\n",
        "model.fit(train_images, train_labels, epochs=200)"
      ],
      "execution_count": 21,
      "outputs": [
        {
          "output_type": "stream",
          "text": [
            "Train on 702 samples\n",
            "Epoch 1/200\n",
            "702/702 [==============================] - 3s 4ms/sample - loss: 0.2416 - acc: 0.9345\n",
            "Epoch 2/200\n",
            "702/702 [==============================] - 2s 3ms/sample - loss: 0.1521 - acc: 0.9672\n",
            "Epoch 3/200\n",
            "702/702 [==============================] - 2s 3ms/sample - loss: 0.0646 - acc: 0.9758\n",
            "Epoch 4/200\n",
            "702/702 [==============================] - 2s 3ms/sample - loss: 0.0155 - acc: 0.9929\n",
            "Epoch 5/200\n",
            "702/702 [==============================] - 2s 3ms/sample - loss: 0.2251 - acc: 0.9630\n",
            "Epoch 6/200\n",
            "702/702 [==============================] - 2s 3ms/sample - loss: 0.1415 - acc: 0.9615\n",
            "Epoch 7/200\n",
            "702/702 [==============================] - 2s 3ms/sample - loss: 0.0365 - acc: 0.9872\n",
            "Epoch 8/200\n",
            "702/702 [==============================] - 2s 3ms/sample - loss: 0.0156 - acc: 0.9986\n",
            "Epoch 9/200\n",
            "702/702 [==============================] - 2s 3ms/sample - loss: 0.0573 - acc: 0.9886\n",
            "Epoch 10/200\n",
            "702/702 [==============================] - 2s 3ms/sample - loss: 0.1457 - acc: 0.9744\n",
            "Epoch 11/200\n",
            "702/702 [==============================] - 2s 3ms/sample - loss: 0.0436 - acc: 0.9900\n",
            "Epoch 12/200\n",
            "702/702 [==============================] - 2s 3ms/sample - loss: 0.0091 - acc: 0.9957\n",
            "Epoch 13/200\n",
            "702/702 [==============================] - 2s 3ms/sample - loss: 0.0062 - acc: 1.0000\n",
            "Epoch 14/200\n",
            "702/702 [==============================] - 2s 3ms/sample - loss: 5.4095e-04 - acc: 1.0000\n",
            "Epoch 15/200\n",
            "702/702 [==============================] - 2s 3ms/sample - loss: 0.0578 - acc: 0.9843\n",
            "Epoch 16/200\n",
            "702/702 [==============================] - 2s 3ms/sample - loss: 0.0115 - acc: 0.9957\n",
            "Epoch 17/200\n",
            "702/702 [==============================] - 2s 3ms/sample - loss: 0.0057 - acc: 0.9986\n",
            "Epoch 18/200\n",
            "702/702 [==============================] - 2s 3ms/sample - loss: 0.0018 - acc: 0.9986\n",
            "Epoch 19/200\n",
            "702/702 [==============================] - 2s 3ms/sample - loss: 0.0149 - acc: 0.9943\n",
            "Epoch 20/200\n",
            "702/702 [==============================] - 2s 3ms/sample - loss: 0.0077 - acc: 0.9972\n",
            "Epoch 21/200\n",
            "702/702 [==============================] - 2s 3ms/sample - loss: 0.0153 - acc: 0.9957\n",
            "Epoch 22/200\n",
            "702/702 [==============================] - 2s 3ms/sample - loss: 0.0034 - acc: 1.0000\n",
            "Epoch 23/200\n",
            "702/702 [==============================] - 2s 3ms/sample - loss: 2.5276e-04 - acc: 1.0000\n",
            "Epoch 24/200\n",
            "702/702 [==============================] - 2s 3ms/sample - loss: 4.2856e-04 - acc: 1.0000\n",
            "Epoch 25/200\n",
            "702/702 [==============================] - 2s 3ms/sample - loss: 3.8436e-04 - acc: 1.0000\n",
            "Epoch 26/200\n",
            "702/702 [==============================] - 2s 3ms/sample - loss: 2.3335e-05 - acc: 1.0000\n",
            "Epoch 27/200\n",
            "702/702 [==============================] - 2s 3ms/sample - loss: 2.2642e-05 - acc: 1.0000\n",
            "Epoch 28/200\n",
            "702/702 [==============================] - 2s 3ms/sample - loss: 0.0064 - acc: 0.9986\n",
            "Epoch 29/200\n",
            "702/702 [==============================] - 2s 3ms/sample - loss: 0.1204 - acc: 0.9587\n",
            "Epoch 30/200\n",
            "702/702 [==============================] - 2s 3ms/sample - loss: 2.0313e-04 - acc: 1.0000\n",
            "Epoch 31/200\n",
            "702/702 [==============================] - 2s 3ms/sample - loss: 0.0607 - acc: 0.9829\n",
            "Epoch 32/200\n",
            "702/702 [==============================] - 2s 3ms/sample - loss: 0.0268 - acc: 0.9915\n",
            "Epoch 33/200\n",
            "702/702 [==============================] - 2s 3ms/sample - loss: 0.0384 - acc: 0.9843\n",
            "Epoch 34/200\n",
            "702/702 [==============================] - 2s 3ms/sample - loss: 0.0129 - acc: 0.9972\n",
            "Epoch 35/200\n",
            "702/702 [==============================] - 2s 3ms/sample - loss: 0.0235 - acc: 0.9943\n",
            "Epoch 36/200\n",
            "702/702 [==============================] - 2s 3ms/sample - loss: 0.0215 - acc: 0.9929\n",
            "Epoch 37/200\n",
            "702/702 [==============================] - 2s 3ms/sample - loss: 0.0073 - acc: 0.9957\n",
            "Epoch 38/200\n",
            "702/702 [==============================] - 2s 3ms/sample - loss: 0.0010 - acc: 1.0000\n",
            "Epoch 39/200\n",
            "702/702 [==============================] - 2s 3ms/sample - loss: 0.0031 - acc: 0.9986\n",
            "Epoch 40/200\n",
            "702/702 [==============================] - 2s 3ms/sample - loss: 4.1965e-04 - acc: 1.0000\n",
            "Epoch 41/200\n",
            "702/702 [==============================] - 2s 3ms/sample - loss: 0.0059 - acc: 0.9972\n",
            "Epoch 42/200\n",
            "702/702 [==============================] - 2s 3ms/sample - loss: 0.0366 - acc: 0.9886\n",
            "Epoch 43/200\n",
            "702/702 [==============================] - 2s 3ms/sample - loss: 0.0138 - acc: 1.0000\n",
            "Epoch 44/200\n",
            "702/702 [==============================] - 2s 3ms/sample - loss: 0.0029 - acc: 1.0000\n",
            "Epoch 45/200\n",
            "702/702 [==============================] - 2s 3ms/sample - loss: 8.6326e-05 - acc: 1.0000\n",
            "Epoch 46/200\n",
            "702/702 [==============================] - 2s 3ms/sample - loss: 3.0996e-04 - acc: 1.0000\n",
            "Epoch 47/200\n",
            "702/702 [==============================] - 2s 3ms/sample - loss: 6.7084e-04 - acc: 1.0000\n",
            "Epoch 48/200\n",
            "702/702 [==============================] - 2s 3ms/sample - loss: 8.6888e-06 - acc: 1.0000\n",
            "Epoch 49/200\n",
            "702/702 [==============================] - 2s 3ms/sample - loss: 0.0016 - acc: 0.9986\n",
            "Epoch 50/200\n",
            "702/702 [==============================] - 2s 3ms/sample - loss: 2.1620e-05 - acc: 1.0000\n",
            "Epoch 51/200\n",
            "702/702 [==============================] - 2s 3ms/sample - loss: 1.9162e-05 - acc: 1.0000\n",
            "Epoch 52/200\n",
            "702/702 [==============================] - 2s 3ms/sample - loss: 2.6278e-05 - acc: 1.0000\n",
            "Epoch 53/200\n",
            "702/702 [==============================] - 2s 3ms/sample - loss: 0.0019 - acc: 1.0000\n",
            "Epoch 54/200\n",
            "702/702 [==============================] - 2s 3ms/sample - loss: 0.0011 - acc: 0.9986\n",
            "Epoch 55/200\n",
            "702/702 [==============================] - 2s 3ms/sample - loss: 0.0069 - acc: 0.9957\n",
            "Epoch 56/200\n",
            "702/702 [==============================] - 2s 3ms/sample - loss: 0.0025 - acc: 0.9986\n",
            "Epoch 57/200\n",
            "702/702 [==============================] - 2s 3ms/sample - loss: 0.0036 - acc: 0.9986\n",
            "Epoch 58/200\n",
            "702/702 [==============================] - 2s 3ms/sample - loss: 0.0030 - acc: 1.0000\n",
            "Epoch 59/200\n",
            "702/702 [==============================] - 2s 3ms/sample - loss: 0.0074 - acc: 0.9972\n",
            "Epoch 60/200\n",
            "702/702 [==============================] - 2s 3ms/sample - loss: 0.0078 - acc: 0.9972\n",
            "Epoch 61/200\n",
            "702/702 [==============================] - 2s 3ms/sample - loss: 8.5043e-04 - acc: 1.0000\n",
            "Epoch 62/200\n",
            "702/702 [==============================] - 2s 3ms/sample - loss: 5.9988e-05 - acc: 1.0000\n",
            "Epoch 63/200\n",
            "702/702 [==============================] - 2s 3ms/sample - loss: 2.3023e-04 - acc: 1.0000\n",
            "Epoch 64/200\n",
            "702/702 [==============================] - 2s 3ms/sample - loss: 2.3457e-05 - acc: 1.0000\n",
            "Epoch 65/200\n",
            "702/702 [==============================] - 2s 3ms/sample - loss: 3.3487e-04 - acc: 1.0000\n",
            "Epoch 66/200\n",
            "702/702 [==============================] - 2s 3ms/sample - loss: 3.3335e-05 - acc: 1.0000\n",
            "Epoch 67/200\n",
            "702/702 [==============================] - 2s 3ms/sample - loss: 6.2925e-04 - acc: 1.0000\n",
            "Epoch 68/200\n",
            "702/702 [==============================] - 2s 3ms/sample - loss: 9.4870e-05 - acc: 1.0000\n",
            "Epoch 69/200\n",
            "702/702 [==============================] - 2s 3ms/sample - loss: 8.4951e-07 - acc: 1.0000\n",
            "Epoch 70/200\n",
            "702/702 [==============================] - 2s 3ms/sample - loss: 6.2234e-07 - acc: 1.0000\n",
            "Epoch 71/200\n",
            "702/702 [==============================] - 2s 3ms/sample - loss: 3.1618e-06 - acc: 1.0000\n",
            "Epoch 72/200\n",
            "702/702 [==============================] - 2s 3ms/sample - loss: 1.9155e-07 - acc: 1.0000\n",
            "Epoch 73/200\n",
            "702/702 [==============================] - 2s 3ms/sample - loss: 2.6479e-05 - acc: 1.0000\n",
            "Epoch 74/200\n",
            "702/702 [==============================] - 2s 3ms/sample - loss: 3.9397e-04 - acc: 1.0000\n",
            "Epoch 75/200\n",
            "702/702 [==============================] - 2s 3ms/sample - loss: 0.0033 - acc: 0.9986\n",
            "Epoch 76/200\n",
            "702/702 [==============================] - 2s 3ms/sample - loss: 0.0045 - acc: 0.9972\n",
            "Epoch 77/200\n",
            "702/702 [==============================] - 2s 3ms/sample - loss: 0.0992 - acc: 0.9729\n",
            "Epoch 78/200\n",
            "702/702 [==============================] - 2s 3ms/sample - loss: 0.0238 - acc: 1.0000\n",
            "Epoch 79/200\n",
            "702/702 [==============================] - 2s 3ms/sample - loss: 2.4633e-05 - acc: 1.0000\n",
            "Epoch 80/200\n",
            "702/702 [==============================] - 2s 3ms/sample - loss: 6.4131e-04 - acc: 1.0000\n",
            "Epoch 81/200\n",
            "702/702 [==============================] - 2s 3ms/sample - loss: 0.0069 - acc: 0.9972\n",
            "Epoch 82/200\n",
            "702/702 [==============================] - 2s 3ms/sample - loss: 0.1640 - acc: 0.9744\n",
            "Epoch 83/200\n",
            "702/702 [==============================] - 2s 3ms/sample - loss: 0.1492 - acc: 0.9288\n",
            "Epoch 84/200\n",
            "702/702 [==============================] - 2s 3ms/sample - loss: 0.0182 - acc: 0.9957\n",
            "Epoch 85/200\n",
            "702/702 [==============================] - 2s 3ms/sample - loss: 0.0108 - acc: 0.9972\n",
            "Epoch 86/200\n",
            "702/702 [==============================] - 2s 3ms/sample - loss: 0.0105 - acc: 0.9986\n",
            "Epoch 87/200\n",
            "702/702 [==============================] - 2s 3ms/sample - loss: 0.0044 - acc: 0.9986\n",
            "Epoch 88/200\n",
            "702/702 [==============================] - 2s 3ms/sample - loss: 0.0182 - acc: 0.9957\n",
            "Epoch 89/200\n",
            "702/702 [==============================] - 2s 3ms/sample - loss: 0.0037 - acc: 1.0000\n",
            "Epoch 90/200\n",
            "702/702 [==============================] - 2s 3ms/sample - loss: 0.0015 - acc: 1.0000\n",
            "Epoch 91/200\n",
            "702/702 [==============================] - 2s 3ms/sample - loss: 0.0212 - acc: 0.9986\n",
            "Epoch 92/200\n",
            "702/702 [==============================] - 2s 3ms/sample - loss: 0.0164 - acc: 0.9929\n",
            "Epoch 93/200\n",
            "702/702 [==============================] - 2s 3ms/sample - loss: 0.0049 - acc: 0.9957\n",
            "Epoch 94/200\n",
            "702/702 [==============================] - 2s 3ms/sample - loss: 0.0981 - acc: 0.9672\n",
            "Epoch 95/200\n",
            "702/702 [==============================] - 2s 3ms/sample - loss: 0.0601 - acc: 0.9900\n",
            "Epoch 96/200\n",
            "702/702 [==============================] - 2s 3ms/sample - loss: 0.0529 - acc: 0.9801\n",
            "Epoch 97/200\n",
            "702/702 [==============================] - 2s 3ms/sample - loss: 4.4262e-04 - acc: 1.0000\n",
            "Epoch 98/200\n",
            "702/702 [==============================] - 2s 3ms/sample - loss: 7.0011e-06 - acc: 1.0000\n",
            "Epoch 99/200\n",
            "702/702 [==============================] - 2s 3ms/sample - loss: 2.4300e-07 - acc: 1.0000\n",
            "Epoch 100/200\n",
            "702/702 [==============================] - 2s 3ms/sample - loss: 2.5604e-05 - acc: 1.0000\n",
            "Epoch 101/200\n",
            "702/702 [==============================] - 2s 3ms/sample - loss: 8.4519e-04 - acc: 1.0000\n",
            "Epoch 102/200\n",
            "702/702 [==============================] - 2s 3ms/sample - loss: 1.2396e-07 - acc: 1.0000\n",
            "Epoch 103/200\n",
            "702/702 [==============================] - 2s 3ms/sample - loss: 1.9615e-04 - acc: 1.0000\n",
            "Epoch 104/200\n",
            "702/702 [==============================] - 2s 3ms/sample - loss: 1.4944e-07 - acc: 1.0000\n",
            "Epoch 105/200\n",
            "702/702 [==============================] - 2s 3ms/sample - loss: 5.2643e-05 - acc: 1.0000\n",
            "Epoch 106/200\n",
            "702/702 [==============================] - 2s 3ms/sample - loss: 1.1795e-06 - acc: 1.0000\n",
            "Epoch 107/200\n",
            "702/702 [==============================] - 2s 3ms/sample - loss: 3.2484e-07 - acc: 1.0000\n",
            "Epoch 108/200\n",
            "702/702 [==============================] - 2s 3ms/sample - loss: 1.2142e-07 - acc: 1.0000\n",
            "Epoch 109/200\n",
            "702/702 [==============================] - 2s 3ms/sample - loss: 1.3670e-07 - acc: 1.0000\n",
            "Epoch 110/200\n",
            "702/702 [==============================] - 2s 3ms/sample - loss: 0.0011 - acc: 0.9986\n",
            "Epoch 111/200\n",
            "702/702 [==============================] - 2s 3ms/sample - loss: 0.0183 - acc: 0.9972\n",
            "Epoch 112/200\n",
            "702/702 [==============================] - 2s 3ms/sample - loss: 0.0922 - acc: 0.9772\n",
            "Epoch 113/200\n",
            "702/702 [==============================] - 2s 3ms/sample - loss: 0.0235 - acc: 0.9986\n",
            "Epoch 114/200\n",
            "702/702 [==============================] - 2s 3ms/sample - loss: 0.0020 - acc: 0.9986\n",
            "Epoch 115/200\n",
            "702/702 [==============================] - 2s 3ms/sample - loss: 3.0616e-04 - acc: 1.0000\n",
            "Epoch 116/200\n",
            "702/702 [==============================] - 2s 3ms/sample - loss: 0.0596 - acc: 0.9900\n",
            "Epoch 117/200\n",
            "702/702 [==============================] - 2s 3ms/sample - loss: 0.0055 - acc: 1.0000\n",
            "Epoch 118/200\n",
            "702/702 [==============================] - 2s 3ms/sample - loss: 0.0049 - acc: 1.0000\n",
            "Epoch 119/200\n",
            "702/702 [==============================] - 2s 3ms/sample - loss: 0.0227 - acc: 0.9972\n",
            "Epoch 120/200\n",
            "702/702 [==============================] - 2s 3ms/sample - loss: 0.0051 - acc: 1.0000\n",
            "Epoch 121/200\n",
            "702/702 [==============================] - 2s 3ms/sample - loss: 8.5404e-04 - acc: 1.0000\n",
            "Epoch 122/200\n",
            "702/702 [==============================] - 2s 3ms/sample - loss: 1.9830e-06 - acc: 1.0000\n",
            "Epoch 123/200\n",
            "702/702 [==============================] - 2s 3ms/sample - loss: 0.0057 - acc: 0.9986\n",
            "Epoch 124/200\n",
            "702/702 [==============================] - 2s 3ms/sample - loss: 1.6291e-04 - acc: 1.0000\n",
            "Epoch 125/200\n",
            "702/702 [==============================] - 2s 3ms/sample - loss: 1.7627e-07 - acc: 1.0000\n",
            "Epoch 126/200\n",
            "702/702 [==============================] - 2s 3ms/sample - loss: 0.0017 - acc: 0.9986\n",
            "Epoch 127/200\n",
            "702/702 [==============================] - 2s 3ms/sample - loss: 8.2356e-07 - acc: 1.0000\n",
            "Epoch 128/200\n",
            "702/702 [==============================] - 2s 3ms/sample - loss: 4.1862e-04 - acc: 1.0000\n",
            "Epoch 129/200\n",
            "702/702 [==============================] - 2s 3ms/sample - loss: 0.0010 - acc: 0.9986\n",
            "Epoch 130/200\n",
            "702/702 [==============================] - 2s 3ms/sample - loss: 0.0044 - acc: 0.9986\n",
            "Epoch 131/200\n",
            "702/702 [==============================] - 2s 3ms/sample - loss: 0.0014 - acc: 1.0000\n",
            "Epoch 132/200\n",
            "702/702 [==============================] - 2s 3ms/sample - loss: 1.6489e-06 - acc: 1.0000\n",
            "Epoch 133/200\n",
            "702/702 [==============================] - 2s 3ms/sample - loss: 0.0012 - acc: 0.9986\n",
            "Epoch 134/200\n",
            "702/702 [==============================] - 2s 3ms/sample - loss: 0.0079 - acc: 0.9986\n",
            "Epoch 135/200\n",
            "702/702 [==============================] - 2s 3ms/sample - loss: 0.0031 - acc: 1.0000\n",
            "Epoch 136/200\n",
            "702/702 [==============================] - 2s 3ms/sample - loss: 6.0629e-04 - acc: 1.0000\n",
            "Epoch 137/200\n",
            "702/702 [==============================] - 2s 3ms/sample - loss: 0.0017 - acc: 1.0000\n",
            "Epoch 138/200\n",
            "702/702 [==============================] - 2s 3ms/sample - loss: 1.1972e-07 - acc: 1.0000\n",
            "Epoch 139/200\n",
            "702/702 [==============================] - 2s 3ms/sample - loss: 1.9641e-05 - acc: 1.0000\n",
            "Epoch 140/200\n",
            "702/702 [==============================] - 2s 3ms/sample - loss: 0.0120 - acc: 0.9972\n",
            "Epoch 141/200\n",
            "702/702 [==============================] - 2s 3ms/sample - loss: 0.0129 - acc: 0.9943\n",
            "Epoch 142/200\n",
            "702/702 [==============================] - 2s 3ms/sample - loss: 0.0013 - acc: 1.0000\n",
            "Epoch 143/200\n",
            "702/702 [==============================] - 2s 3ms/sample - loss: 7.8209e-06 - acc: 1.0000\n",
            "Epoch 144/200\n",
            "702/702 [==============================] - 2s 3ms/sample - loss: 0.0170 - acc: 0.9943\n",
            "Epoch 145/200\n",
            "702/702 [==============================] - 2s 3ms/sample - loss: 0.0604 - acc: 0.9886\n",
            "Epoch 146/200\n",
            "702/702 [==============================] - 2s 3ms/sample - loss: 0.0123 - acc: 1.0000\n",
            "Epoch 147/200\n",
            "702/702 [==============================] - 2s 3ms/sample - loss: 2.2788e-04 - acc: 1.0000\n",
            "Epoch 148/200\n",
            "702/702 [==============================] - 2s 3ms/sample - loss: 1.2006e-07 - acc: 1.0000\n",
            "Epoch 149/200\n",
            "702/702 [==============================] - 2s 3ms/sample - loss: 1.3110e-07 - acc: 1.0000\n",
            "Epoch 150/200\n",
            "702/702 [==============================] - 2s 3ms/sample - loss: 1.8628e-07 - acc: 1.0000\n",
            "Epoch 151/200\n",
            "702/702 [==============================] - 2s 3ms/sample - loss: 6.2369e-04 - acc: 1.0000\n",
            "Epoch 152/200\n",
            "702/702 [==============================] - 2s 3ms/sample - loss: 5.3921e-04 - acc: 1.0000\n",
            "Epoch 153/200\n",
            "702/702 [==============================] - 2s 3ms/sample - loss: 2.0955e-07 - acc: 1.0000\n",
            "Epoch 154/200\n",
            "702/702 [==============================] - 2s 3ms/sample - loss: 1.6234e-07 - acc: 1.0000\n",
            "Epoch 155/200\n",
            "702/702 [==============================] - 2s 3ms/sample - loss: 2.1328e-07 - acc: 1.0000\n",
            "Epoch 156/200\n",
            "702/702 [==============================] - 2s 3ms/sample - loss: 1.1921e-07 - acc: 1.0000\n",
            "Epoch 157/200\n",
            "702/702 [==============================] - 2s 3ms/sample - loss: 2.4572e-07 - acc: 1.0000\n",
            "Epoch 158/200\n",
            "702/702 [==============================] - 2s 3ms/sample - loss: 1.6828e-07 - acc: 1.0000\n",
            "Epoch 159/200\n",
            "702/702 [==============================] - 2s 3ms/sample - loss: 1.1921e-07 - acc: 1.0000\n",
            "Epoch 160/200\n",
            "702/702 [==============================] - 2s 3ms/sample - loss: 1.2006e-07 - acc: 1.0000\n",
            "Epoch 161/200\n",
            "702/702 [==============================] - 2s 3ms/sample - loss: 0.0788 - acc: 0.9843\n",
            "Epoch 162/200\n",
            "702/702 [==============================] - 2s 3ms/sample - loss: 0.0568 - acc: 0.9929\n",
            "Epoch 163/200\n",
            "702/702 [==============================] - 2s 3ms/sample - loss: 0.0321 - acc: 0.9972\n",
            "Epoch 164/200\n",
            "702/702 [==============================] - 2s 3ms/sample - loss: 0.0196 - acc: 0.9957\n",
            "Epoch 165/200\n",
            "702/702 [==============================] - 2s 3ms/sample - loss: 0.0157 - acc: 1.0000\n",
            "Epoch 166/200\n",
            "702/702 [==============================] - 2s 3ms/sample - loss: 0.0067 - acc: 0.9986\n",
            "Epoch 167/200\n",
            "702/702 [==============================] - 2s 3ms/sample - loss: 0.0019 - acc: 1.0000\n",
            "Epoch 168/200\n",
            "702/702 [==============================] - 2s 3ms/sample - loss: 0.0019 - acc: 1.0000\n",
            "Epoch 169/200\n",
            "702/702 [==============================] - 2s 3ms/sample - loss: 5.7122e-07 - acc: 1.0000\n",
            "Epoch 170/200\n",
            "702/702 [==============================] - 2s 3ms/sample - loss: 1.6200e-07 - acc: 1.0000\n",
            "Epoch 171/200\n",
            "702/702 [==============================] - 2s 3ms/sample - loss: 0.0024 - acc: 0.9986\n",
            "Epoch 172/200\n",
            "702/702 [==============================] - 2s 3ms/sample - loss: 4.0961e-04 - acc: 1.0000\n",
            "Epoch 173/200\n",
            "702/702 [==============================] - 2s 3ms/sample - loss: 0.0066 - acc: 0.9986\n",
            "Epoch 174/200\n",
            "702/702 [==============================] - 2s 3ms/sample - loss: 0.0020 - acc: 1.0000\n",
            "Epoch 175/200\n",
            "702/702 [==============================] - 2s 3ms/sample - loss: 0.0026 - acc: 0.9986\n",
            "Epoch 176/200\n",
            "702/702 [==============================] - 2s 3ms/sample - loss: 0.0271 - acc: 0.9915\n",
            "Epoch 177/200\n",
            "702/702 [==============================] - 2s 3ms/sample - loss: 0.0090 - acc: 1.0000\n",
            "Epoch 178/200\n",
            "702/702 [==============================] - 2s 3ms/sample - loss: 0.0030 - acc: 1.0000\n",
            "Epoch 179/200\n",
            "702/702 [==============================] - 2s 3ms/sample - loss: 0.0090 - acc: 0.9929\n",
            "Epoch 180/200\n",
            "702/702 [==============================] - 2s 3ms/sample - loss: 0.0022 - acc: 0.9986\n",
            "Epoch 181/200\n",
            "702/702 [==============================] - 2s 3ms/sample - loss: 7.1410e-06 - acc: 1.0000\n",
            "Epoch 182/200\n",
            "702/702 [==============================] - 2s 3ms/sample - loss: 0.0246 - acc: 0.9972\n",
            "Epoch 183/200\n",
            "702/702 [==============================] - 2s 3ms/sample - loss: 7.0729e-04 - acc: 1.0000\n",
            "Epoch 184/200\n",
            "702/702 [==============================] - 2s 3ms/sample - loss: 0.0015 - acc: 1.0000\n",
            "Epoch 185/200\n",
            "702/702 [==============================] - 2s 3ms/sample - loss: 1.9752e-06 - acc: 1.0000\n",
            "Epoch 186/200\n",
            "702/702 [==============================] - 2s 3ms/sample - loss: 1.1657e-04 - acc: 1.0000\n",
            "Epoch 187/200\n",
            "702/702 [==============================] - 2s 3ms/sample - loss: 1.2299e-05 - acc: 1.0000\n",
            "Epoch 188/200\n",
            "702/702 [==============================] - 2s 3ms/sample - loss: 3.6203e-07 - acc: 1.0000\n",
            "Epoch 189/200\n",
            "702/702 [==============================] - 2s 3ms/sample - loss: 9.8258e-04 - acc: 1.0000\n",
            "Epoch 190/200\n",
            "702/702 [==============================] - 2s 3ms/sample - loss: 1.1921e-07 - acc: 1.0000\n",
            "Epoch 191/200\n",
            "702/702 [==============================] - 2s 3ms/sample - loss: 9.9308e-07 - acc: 1.0000\n",
            "Epoch 192/200\n",
            "702/702 [==============================] - 2s 3ms/sample - loss: 8.4498e-07 - acc: 1.0000\n",
            "Epoch 193/200\n",
            "702/702 [==============================] - 2s 3ms/sample - loss: 0.0010 - acc: 0.9986\n",
            "Epoch 194/200\n",
            "702/702 [==============================] - 2s 3ms/sample - loss: 0.0175 - acc: 0.9986\n",
            "Epoch 195/200\n",
            "702/702 [==============================] - 2s 3ms/sample - loss: 0.0011 - acc: 1.0000\n",
            "Epoch 196/200\n",
            "702/702 [==============================] - 2s 3ms/sample - loss: 5.5298e-04 - acc: 1.0000\n",
            "Epoch 197/200\n",
            "702/702 [==============================] - 2s 3ms/sample - loss: 8.0882e-06 - acc: 1.0000\n",
            "Epoch 198/200\n",
            "702/702 [==============================] - 2s 3ms/sample - loss: 1.4131e-05 - acc: 1.0000\n",
            "Epoch 199/200\n",
            "702/702 [==============================] - 2s 3ms/sample - loss: 4.7086e-07 - acc: 1.0000\n",
            "Epoch 200/200\n",
            "702/702 [==============================] - 2s 3ms/sample - loss: 8.3562e-04 - acc: 1.0000\n"
          ],
          "name": "stdout"
        },
        {
          "output_type": "execute_result",
          "data": {
            "text/plain": [
              "<tensorflow.python.keras.callbacks.History at 0x7f28a8715ba8>"
            ]
          },
          "metadata": {
            "tags": []
          },
          "execution_count": 21
        }
      ]
    },
    {
      "cell_type": "code",
      "metadata": {
        "id": "2s2DDyfaFCkl",
        "colab_type": "code",
        "colab": {}
      },
      "source": [
        "train_images[0].shape"
      ],
      "execution_count": 0,
      "outputs": []
    },
    {
      "cell_type": "markdown",
      "metadata": {
        "id": "82ERgBz1QGQB",
        "colab_type": "text"
      },
      "source": [
        "## Fit Model"
      ]
    },
    {
      "cell_type": "code",
      "metadata": {
        "id": "GLk5K92VQGQD",
        "colab_type": "code",
        "colab": {}
      },
      "source": [
        ""
      ],
      "execution_count": 0,
      "outputs": []
    },
    {
      "cell_type": "markdown",
      "metadata": {
        "id": "Rsjrb8FqQGQK",
        "colab_type": "text"
      },
      "source": [
        "# Custom CNN Model"
      ]
    },
    {
      "cell_type": "code",
      "metadata": {
        "id": "CZp6YZjEQGQO",
        "colab_type": "code",
        "colab": {}
      },
      "source": [
        ""
      ],
      "execution_count": 0,
      "outputs": []
    },
    {
      "cell_type": "code",
      "metadata": {
        "id": "7h18ROEkQGQV",
        "colab_type": "code",
        "colab": {}
      },
      "source": [
        "# Compile Model\n"
      ],
      "execution_count": 0,
      "outputs": []
    },
    {
      "cell_type": "code",
      "metadata": {
        "id": "vZiIhdOcQGQc",
        "colab_type": "code",
        "colab": {}
      },
      "source": [
        "# Fit Model\n"
      ],
      "execution_count": 0,
      "outputs": []
    },
    {
      "cell_type": "markdown",
      "metadata": {
        "colab_type": "text",
        "id": "uT3UV3gap9H6"
      },
      "source": [
        "# Resources and Stretch Goals\n",
        "\n",
        "Stretch goals\n",
        "- Enhance your code to use classes/functions and accept terms to search and classes to look for in recognizing the downloaded images (e.g. download images of parties, recognize all that contain balloons)\n",
        "- Check out [other available pretrained networks](https://tfhub.dev), try some and compare\n",
        "- Image recognition/classification is somewhat solved, but *relationships* between entities and describing an image is not - check out some of the extended resources (e.g. [Visual Genome](https://visualgenome.org/)) on the topic\n",
        "- Transfer learning - using images you source yourself, [retrain a classifier](https://www.tensorflow.org/hub/tutorials/image_retraining) with a new category\n",
        "- (Not CNN related) Use [piexif](https://pypi.org/project/piexif/) to check out the metadata of images passed in to your system - see if they're from a national park! (Note - many images lack GPS metadata, so this won't work in most cases, but still cool)\n",
        "\n",
        "Resources\n",
        "- [Deep Residual Learning for Image Recognition](https://arxiv.org/abs/1512.03385) - influential paper (introduced ResNet)\n",
        "- [YOLO: Real-Time Object Detection](https://pjreddie.com/darknet/yolo/) - an influential convolution based object detection system, focused on inference speed (for applications to e.g. self driving vehicles)\n",
        "- [R-CNN, Fast R-CNN, Faster R-CNN, YOLO](https://towardsdatascience.com/r-cnn-fast-r-cnn-faster-r-cnn-yolo-object-detection-algorithms-36d53571365e) - comparison of object detection systems\n",
        "- [Common Objects in Context](http://cocodataset.org/) - a large-scale object detection, segmentation, and captioning dataset\n",
        "- [Visual Genome](https://visualgenome.org/) - a dataset, a knowledge base, an ongoing effort to connect structured image concepts to language"
      ]
    }
  ]
}