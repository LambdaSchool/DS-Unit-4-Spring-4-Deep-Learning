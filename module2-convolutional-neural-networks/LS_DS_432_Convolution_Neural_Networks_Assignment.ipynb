{
 "cells": [
  {
   "cell_type": "markdown",
   "metadata": {},
   "source": [
    "<img align=\"left\" src=\"https://lever-client-logos.s3.amazonaws.com/864372b1-534c-480e-acd5-9711f850815c-1524247202159.png\" width=200>\n",
    "<br></br>\n",
    "<br></br>\n",
    "\n",
    "## *Data Science Unit 4 Sprint 3 Assignment 2*\n",
    "# Convolutional Neural Networks (CNNs)"
   ]
  },
  {
   "cell_type": "markdown",
   "metadata": {
    "colab_type": "text",
    "id": "0lfZdD_cp1t5"
   },
   "source": [
    "# Assignment\n",
    "\n",
    "- <a href=\"#p1\">Part 1:</a> Pre-Trained Model\n",
    "- <a href=\"#p2\">Part 2:</a> Custom CNN Model\n",
    "- <a href=\"#p3\">Part 3:</a> CNN with Data Augmentation\n",
    "\n",
    "\n",
    "You will apply three different CNN models to a binary image classification model using Keras. Classify images of Mountains (`./data/mountain/*`) and images of forests (`./data/forest/*`). Treat mountains as the postive class (1) and the forest images as the negative (zero). \n",
    "\n",
    "|Mountain (+)|Forest (-)|\n",
    "|---|---|\n",
    "|![](./data/mountain/art1131.jpg)|![](./data/forest/cdmc317.jpg)|\n",
    "\n",
    "The problem is realively difficult given that the sample is tiny: there are about 350 observations per class. This sample size might be something that you can expect with prototyping an image classification problem/solution at work. Get accustomed to evaluating several differnet possible models."
   ]
  },
  {
   "cell_type": "markdown",
   "metadata": {
    "colab_type": "text",
    "id": "0lfZdD_cp1t5"
   },
   "source": [
    "# Pre - Trained Model\n",
    "<a id=\"p1\"></a>\n",
    "\n",
    "Load a pretrained network from Keras, [ResNet50](https://tfhub.dev/google/imagenet/resnet_v1_50/classification/1) - a 50 layer deep network trained to recognize [1000 objects](https://storage.googleapis.com/download.tensorflow.org/data/ImageNetLabels.txt). Starting usage:\n",
    "\n",
    "```python\n",
    "import numpy as np\n",
    "\n",
    "from tensorflow.keras.applications.resnet50 import ResNet50\n",
    "from tensorflow.keras.preprocessing import image\n",
    "from tensorflow.keras.applications.resnet50 import preprocess_input, decode_predictions\n",
    "\n",
    "from tensorflow.keras.layers import Dense, GlobalAveragePooling2D()\n",
    "from tensorflow.keras.models import Model # This is the functional API\n",
    "\n",
    "resnet = ResNet50(weights='imagenet', include_top=False)\n",
    "\n",
    "```\n",
    "\n",
    "The `include_top` parameter in `ResNet50` will remove the full connected layers from the ResNet model. The next step is to turn off the training of the ResNet layers. We want to use the learned parameters without updating them in future training passes. \n",
    "\n",
    "```python\n",
    "for layer in resnet.layers:\n",
    "    layer.trainable = False\n",
    "```\n",
    "\n",
    "Using the Keras functional API, we will need to additional additional full connected layers to our model. We we removed the top layers, we removed all preivous fully connected layers. In other words, we kept only the feature processing portions of our network. You can expert with additional layers beyond what's listed here. The `GlobalAveragePooling2D` layer functions as a really fancy flatten function by taking the average of each of the last convolutional layer outputs (which is two dimensional still). \n",
    "\n",
    "```python\n",
    "x = res.output\n",
    "x = GlobalAveragePooling2D()(x) # This layer is a really fancy flatten\n",
    "x = Dense(1024, activation='relu')(x)\n",
    "predictions = Dense(1, activation='sigmoid')(x)\n",
    "model = Model(res.input, predictions)\n",
    "```\n",
    "\n",
    "Your assignment is to apply the transfer learning above to classify images of Mountains (`./data/mountain/*`) and images of forests (`./data/forest/*`). Treat mountains as the postive class (1) and the forest images as the negative (zero). \n",
    "\n",
    "Steps to complete assignment: \n",
    "1. Load in Image Data into numpy arrays (`X`) \n",
    "2. Create a `y` for the labels\n",
    "3. Train your model with pretrained layers from resnet\n",
    "4. Report your model's accuracy"
   ]
  },
  {
   "cell_type": "markdown",
   "metadata": {},
   "source": [
    "## Load in Data\n",
    "\n",
    "![skimage-logo](https://scikit-image.org/_static/img/logo.png)\n",
    "\n",
    "Check out out [`skimage`](https://scikit-image.org/) for useful functions related to processing the images. In particular checkout the documentation for `skimage.io.imread_collection` and `skimage.transform.resize`."
   ]
  },
  {
   "cell_type": "code",
   "execution_count": 11,
   "metadata": {},
   "outputs": [],
   "source": [
    "import skimage\n",
    "from skimage.io import imread_collection\n",
    "from skimage.transform import resize\n"
   ]
  },
  {
   "cell_type": "code",
   "execution_count": 28,
   "metadata": {},
   "outputs": [],
   "source": [
    "image_files = ['./data/mountain/*', './data/forest/*']\n",
    "\n",
    "mountain = imread_collection('./data/mountain/*')\n",
    "\n",
    "X = imread_collection(image_files)\n",
    "\n",
    "y = []\n",
    "\n",
    "for i in range(0, 702):\n",
    "    if i < 374:\n",
    "        y.append(1)\n",
    "    else:\n",
    "        y.append(0)"
   ]
  },
  {
   "cell_type": "code",
   "execution_count": 32,
   "metadata": {},
   "outputs": [
    {
     "data": {
      "text/plain": [
       "702"
      ]
     },
     "execution_count": 32,
     "metadata": {},
     "output_type": "execute_result"
    }
   ],
   "source": [
    "len(X)"
   ]
  },
  {
   "cell_type": "code",
   "execution_count": 33,
   "metadata": {},
   "outputs": [],
   "source": [
    "for i in range(len(X)): \n",
    "    resize(X[i], output_shape=(256, 256))"
   ]
  },
  {
   "cell_type": "markdown",
   "metadata": {},
   "source": [
    "## Instatiate Model"
   ]
  },
  {
   "cell_type": "code",
   "execution_count": 40,
   "metadata": {},
   "outputs": [
    {
     "name": "stderr",
     "output_type": "stream",
     "text": [
      "/home/ec2-user/anaconda3/envs/tensorflow_p36/lib/python3.6/site-packages/keras_applications/resnet50.py:265: UserWarning: The output shape of `ResNet50(include_top=False)` has been changed since Keras 2.2.0.\n",
      "  warnings.warn('The output shape of `ResNet50(include_top=False)` '\n"
     ]
    }
   ],
   "source": [
    "import numpy as np\n",
    "\n",
    "from tensorflow.keras.applications.resnet50 import ResNet50\n",
    "from tensorflow.keras.preprocessing import image\n",
    "from tensorflow.keras.applications.resnet50 import preprocess_input, decode_predictions\n",
    "\n",
    "from tensorflow.keras.layers import Dense, GlobalAveragePooling2D\n",
    "from tensorflow.keras.models import Model\n",
    "\n",
    "resnet = ResNet50(weights='imagenet', include_top=False)"
   ]
  },
  {
   "cell_type": "code",
   "execution_count": 38,
   "metadata": {},
   "outputs": [],
   "source": [
    "for layer in resnet.layers:\n",
    "    layer.trainable = False"
   ]
  },
  {
   "cell_type": "code",
   "execution_count": 20,
   "metadata": {},
   "outputs": [
    {
     "name": "stdout",
     "output_type": "stream",
     "text": [
      "Help on class ImageCollection in module skimage.io.collection:\n",
      "\n",
      "class ImageCollection(builtins.object)\n",
      " |  Load and manage a collection of image files.\n",
      " |  \n",
      " |  Parameters\n",
      " |  ----------\n",
      " |  load_pattern : str or list of str\n",
      " |      Pattern string or list of strings to load. The filename path can be\n",
      " |      absolute or relative.\n",
      " |  conserve_memory : bool, optional\n",
      " |      If True, `ImageCollection` does not keep more than one in memory at a\n",
      " |      specific time. Otherwise, images will be cached once they are loaded.\n",
      " |  \n",
      " |  Other parameters\n",
      " |  ----------------\n",
      " |  load_func : callable\n",
      " |      ``imread`` by default. See notes below.\n",
      " |  \n",
      " |  Attributes\n",
      " |  ----------\n",
      " |  files : list of str\n",
      " |      If a pattern string is given for `load_pattern`, this attribute\n",
      " |      stores the expanded file list. Otherwise, this is equal to\n",
      " |      `load_pattern`.\n",
      " |  \n",
      " |  Notes\n",
      " |  -----\n",
      " |  Note that files are always returned in alphanumerical order. Also note\n",
      " |  that slicing returns a new ImageCollection, *not* a view into the data.\n",
      " |  \n",
      " |  ImageCollection can be modified to load images from an arbitrary\n",
      " |  source by specifying a combination of `load_pattern` and\n",
      " |  `load_func`.  For an ImageCollection ``ic``, ``ic[5]`` uses\n",
      " |  ``load_func(file_pattern[5])`` to load the image.\n",
      " |  \n",
      " |  Imagine, for example, an ImageCollection that loads every tenth\n",
      " |  frame from a video file::\n",
      " |  \n",
      " |    class AVILoader:\n",
      " |        video_file = 'myvideo.avi'\n",
      " |  \n",
      " |        def __call__(self, frame):\n",
      " |            return video_read(self.video_file, frame)\n",
      " |  \n",
      " |    avi_load = AVILoader()\n",
      " |  \n",
      " |    frames = range(0, 1000, 10) # 0, 10, 20, ...\n",
      " |    ic = ImageCollection(frames, load_func=avi_load)\n",
      " |  \n",
      " |    x = ic[5] # calls avi_load(frames[5]) or equivalently avi_load(50)\n",
      " |  \n",
      " |  Another use of ``load_func`` would be to convert all images to ``uint8``::\n",
      " |  \n",
      " |    def imread_convert(f):\n",
      " |        return imread(f).astype(np.uint8)\n",
      " |  \n",
      " |    ic = ImageCollection('/tmp/*.png', load_func=imread_convert)\n",
      " |  \n",
      " |  For files with multiple images, the images will be flattened into a list\n",
      " |  and added to the list of available images.  In this case, ``load_func``\n",
      " |  should accept the keyword argument ``img_num``.\n",
      " |  \n",
      " |  Examples\n",
      " |  --------\n",
      " |  >>> import skimage.io as io\n",
      " |  >>> from skimage import data_dir\n",
      " |  \n",
      " |  >>> coll = io.ImageCollection(data_dir + '/chess*.png')\n",
      " |  >>> len(coll)\n",
      " |  2\n",
      " |  >>> coll[0].shape\n",
      " |  (200, 200)\n",
      " |  \n",
      " |  >>> ic = io.ImageCollection(['/tmp/work/*.png', '/tmp/other/*.jpg'])\n",
      " |  \n",
      " |  Methods defined here:\n",
      " |  \n",
      " |  __getitem__(self, n)\n",
      " |      Return selected image(s) in the collection.\n",
      " |      \n",
      " |      Loading is done on demand.\n",
      " |      \n",
      " |      Parameters\n",
      " |      ----------\n",
      " |      n : int or slice\n",
      " |          The image number to be returned, or a slice selecting the images\n",
      " |          and ordering to be returned in a new ImageCollection.\n",
      " |      \n",
      " |      Returns\n",
      " |      -------\n",
      " |      img : ndarray or ImageCollection.\n",
      " |          The `n`-th image in the collection, or a new ImageCollection with\n",
      " |          the selected images.\n",
      " |  \n",
      " |  __init__(self, load_pattern, conserve_memory=True, load_func=None, **load_func_kwargs)\n",
      " |      Load and manage a collection of images.\n",
      " |  \n",
      " |  __iter__(self)\n",
      " |      Iterate over the images.\n",
      " |  \n",
      " |  __len__(self)\n",
      " |      Number of images in collection.\n",
      " |  \n",
      " |  __str__(self)\n",
      " |      Return str(self).\n",
      " |  \n",
      " |  concatenate(self)\n",
      " |      Concatenate all images in the collection into an array.\n",
      " |      \n",
      " |      Returns\n",
      " |      -------\n",
      " |      ar : np.ndarray\n",
      " |          An array having one more dimension than the images in `self`.\n",
      " |      \n",
      " |      See Also\n",
      " |      --------\n",
      " |      concatenate_images\n",
      " |      \n",
      " |      Raises\n",
      " |      ------\n",
      " |      ValueError\n",
      " |          If images in the `ImageCollection` don't have identical shapes.\n",
      " |  \n",
      " |  reload(self, n=None)\n",
      " |      Clear the image cache.\n",
      " |      \n",
      " |      Parameters\n",
      " |      ----------\n",
      " |      n : None or int\n",
      " |          Clear the cache for this image only. By default, the\n",
      " |          entire cache is erased.\n",
      " |  \n",
      " |  ----------------------------------------------------------------------\n",
      " |  Data descriptors defined here:\n",
      " |  \n",
      " |  __dict__\n",
      " |      dictionary for instance variables (if defined)\n",
      " |  \n",
      " |  __weakref__\n",
      " |      list of weak references to the object (if defined)\n",
      " |  \n",
      " |  conserve_memory\n",
      " |  \n",
      " |  files\n",
      "\n"
     ]
    }
   ],
   "source": [
    "x = res.output\n",
    "x = GlobalAveragePooling2D(x)\n",
    "x = Dense()"
   ]
  },
  {
   "cell_type": "markdown",
   "metadata": {},
   "source": [
    "## Fit Model"
   ]
  },
  {
   "cell_type": "code",
   "execution_count": 110,
   "metadata": {},
   "outputs": [
    {
     "name": "stdout",
     "output_type": "stream",
     "text": [
      "Train on 561 samples, validate on 141 samples\n",
      "Epoch 1/5\n",
      "561/561 [==============================] - 39s 69ms/sample - loss: 0.1216 - accuracy: 0.9715 - val_loss: 1.4221 - val_accuracy: 0.0000e+00\n",
      "Epoch 2/5\n",
      "561/561 [==============================] - 35s 62ms/sample - loss: 0.0410 - accuracy: 0.9875 - val_loss: 2.9222 - val_accuracy: 0.0000e+00\n",
      "Epoch 3/5\n",
      "561/561 [==============================] - 35s 62ms/sample - loss: 0.0646 - accuracy: 0.9697 - val_loss: 0.9962 - val_accuracy: 0.0000e+00\n",
      "Epoch 4/5\n",
      "561/561 [==============================] - 39s 70ms/sample - loss: 0.0723 - accuracy: 0.9733 - val_loss: 0.2627 - val_accuracy: 1.0000\n",
      "Epoch 5/5\n",
      "561/561 [==============================] - 38s 68ms/sample - loss: 0.0333 - accuracy: 0.9893 - val_loss: 0.4859 - val_accuracy: 1.0000\n"
     ]
    },
    {
     "data": {
      "text/plain": [
       "<tensorflow.python.keras.callbacks.History at 0x7f980e9c6f60>"
      ]
     },
     "execution_count": 110,
     "metadata": {},
     "output_type": "execute_result"
    }
   ],
   "source": []
  },
  {
   "cell_type": "markdown",
   "metadata": {},
   "source": [
    "# Custom CNN Model\n",
    "\n",
    "In this step, write and train your own convolutional neural network using Keras. You can use any architecture that suits you as long as it has at least one convolutional and one pooling layer at the beginning of the network - you can add more if you want. "
   ]
  },
  {
   "cell_type": "code",
   "execution_count": 95,
   "metadata": {},
   "outputs": [
    {
     "name": "stdout",
     "output_type": "stream",
     "text": [
      "Model: \"sequential_8\"\n",
      "_________________________________________________________________\n",
      "Layer (type)                 Output Shape              Param #   \n",
      "=================================================================\n",
      "conv2d_7 (Conv2D)            (None, 215, 215, 32)      9632      \n",
      "_________________________________________________________________\n",
      "max_pooling2d_15 (MaxPooling (None, 43, 43, 32)        0         \n",
      "_________________________________________________________________\n",
      "conv2d_8 (Conv2D)            (None, 39, 39, 64)        51264     \n",
      "_________________________________________________________________\n",
      "max_pooling2d_16 (MaxPooling (None, 13, 13, 64)        0         \n",
      "_________________________________________________________________\n",
      "conv2d_9 (Conv2D)            (None, 9, 9, 64)          102464    \n",
      "_________________________________________________________________\n",
      "flatten_1 (Flatten)          (None, 5184)              0         \n",
      "_________________________________________________________________\n",
      "dense_15 (Dense)             (None, 64)                331840    \n",
      "_________________________________________________________________\n",
      "dense_16 (Dense)             (None, 1)                 65        \n",
      "=================================================================\n",
      "Total params: 495,265\n",
      "Trainable params: 495,265\n",
      "Non-trainable params: 0\n",
      "_________________________________________________________________\n"
     ]
    }
   ],
   "source": []
  },
  {
   "cell_type": "code",
   "execution_count": 96,
   "metadata": {},
   "outputs": [],
   "source": [
    "# Compile Model\n"
   ]
  },
  {
   "cell_type": "code",
   "execution_count": 99,
   "metadata": {},
   "outputs": [
    {
     "name": "stdout",
     "output_type": "stream",
     "text": [
      "Train on 561 samples, validate on 141 samples\n",
      "Epoch 1/5\n",
      "561/561 [==============================] - 18s 32ms/sample - loss: 0.2667 - accuracy: 0.9073 - val_loss: 0.1186 - val_accuracy: 0.9858\n",
      "Epoch 2/5\n",
      "561/561 [==============================] - 18s 32ms/sample - loss: 0.2046 - accuracy: 0.9073 - val_loss: 0.3342 - val_accuracy: 0.8511\n",
      "Epoch 3/5\n",
      "561/561 [==============================] - 18s 32ms/sample - loss: 0.1778 - accuracy: 0.9287 - val_loss: 0.2746 - val_accuracy: 0.8723\n",
      "Epoch 4/5\n",
      "561/561 [==============================] - 18s 32ms/sample - loss: 0.1681 - accuracy: 0.9323 - val_loss: 0.8487 - val_accuracy: 0.5957\n",
      "Epoch 5/5\n",
      "561/561 [==============================] - 18s 32ms/sample - loss: 0.1606 - accuracy: 0.9394 - val_loss: 0.3903 - val_accuracy: 0.8582\n"
     ]
    },
    {
     "data": {
      "text/plain": [
       "<tensorflow.python.keras.callbacks.History at 0x7f97388777f0>"
      ]
     },
     "execution_count": 99,
     "metadata": {},
     "output_type": "execute_result"
    }
   ],
   "source": [
    "# Fit Model\n"
   ]
  },
  {
   "cell_type": "markdown",
   "metadata": {},
   "source": [
    "# Custom CNN Model with Image Manipulations\n",
    "## *This a stretch goal, and it's relatively difficult*\n",
    "\n",
    "To simulate an increase in a sample of image, you can apply image manipulation techniques: cropping, rotation, stretching, etc. Luckily Keras has some handy functions for us to apply these techniques to our mountain and forest example. Check out these resources to help you get started: \n",
    "\n",
    "1. [Keras `ImageGenerator` Class](https://keras.io/preprocessing/image/#imagedatagenerator-class)\n",
    "2. [Building a powerful image classifier with very little data](https://blog.keras.io/building-powerful-image-classification-models-using-very-little-data.html)\n",
    " "
   ]
  },
  {
   "cell_type": "code",
   "execution_count": null,
   "metadata": {},
   "outputs": [],
   "source": [
    "# State Code for Image Manipulation Here"
   ]
  },
  {
   "cell_type": "markdown",
   "metadata": {
    "colab_type": "text",
    "id": "uT3UV3gap9H6"
   },
   "source": [
    "# Resources and Stretch Goals\n",
    "\n",
    "Stretch goals\n",
    "- Enhance your code to use classes/functions and accept terms to search and classes to look for in recognizing the downloaded images (e.g. download images of parties, recognize all that contain balloons)\n",
    "- Check out [other available pretrained networks](https://tfhub.dev), try some and compare\n",
    "- Image recognition/classification is somewhat solved, but *relationships* between entities and describing an image is not - check out some of the extended resources (e.g. [Visual Genome](https://visualgenome.org/)) on the topic\n",
    "- Transfer learning - using images you source yourself, [retrain a classifier](https://www.tensorflow.org/hub/tutorials/image_retraining) with a new category\n",
    "- (Not CNN related) Use [piexif](https://pypi.org/project/piexif/) to check out the metadata of images passed in to your system - see if they're from a national park! (Note - many images lack GPS metadata, so this won't work in most cases, but still cool)\n",
    "\n",
    "Resources\n",
    "- [Deep Residual Learning for Image Recognition](https://arxiv.org/abs/1512.03385) - influential paper (introduced ResNet)\n",
    "- [YOLO: Real-Time Object Detection](https://pjreddie.com/darknet/yolo/) - an influential convolution based object detection system, focused on inference speed (for applications to e.g. self driving vehicles)\n",
    "- [R-CNN, Fast R-CNN, Faster R-CNN, YOLO](https://towardsdatascience.com/r-cnn-fast-r-cnn-faster-r-cnn-yolo-object-detection-algorithms-36d53571365e) - comparison of object detection systems\n",
    "- [Common Objects in Context](http://cocodataset.org/) - a large-scale object detection, segmentation, and captioning dataset\n",
    "- [Visual Genome](https://visualgenome.org/) - a dataset, a knowledge base, an ongoing effort to connect structured image concepts to language"
   ]
  }
 ],
 "metadata": {
  "kernelspec": {
   "display_name": "conda_tensorflow_p36",
   "language": "python",
   "name": "conda_tensorflow_p36"
  },
  "language_info": {
   "codemirror_mode": {
    "name": "ipython",
    "version": 3
   },
   "file_extension": ".py",
   "mimetype": "text/x-python",
   "name": "python",
   "nbconvert_exporter": "python",
   "pygments_lexer": "ipython3",
   "version": "3.6.5"
  }
 },
 "nbformat": 4,
 "nbformat_minor": 4
}
