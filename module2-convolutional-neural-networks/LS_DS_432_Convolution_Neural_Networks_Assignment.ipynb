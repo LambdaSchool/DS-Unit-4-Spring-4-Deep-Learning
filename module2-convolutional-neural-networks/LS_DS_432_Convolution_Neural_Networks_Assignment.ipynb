{
  "nbformat": 4,
  "nbformat_minor": 0,
  "metadata": {
    "kernelspec": {
      "display_name": "U4-S2-NNF-DS10",
      "language": "python",
      "name": "u4-s2-nnf-ds10"
    },
    "language_info": {
      "codemirror_mode": {
        "name": "ipython",
        "version": 3
      },
      "file_extension": ".py",
      "mimetype": "text/x-python",
      "name": "python",
      "nbconvert_exporter": "python",
      "pygments_lexer": "ipython3",
      "version": "3.7.6"
    },
    "nteract": {
      "version": "0.23.1"
    },
    "colab": {
      "name": "Copy of LS_DS_432_Convolution_Neural_Networks_Assignment.ipynb",
      "provenance": [],
      "include_colab_link": true
    },
    "accelerator": "GPU"
  },
  "cells": [
    {
      "cell_type": "markdown",
      "metadata": {
        "id": "view-in-github",
        "colab_type": "text"
      },
      "source": [
        "<a href=\"https://colab.research.google.com/github/alex-pakalniskis/DS-Unit-4-Sprint-3-Deep-Learning/blob/master/module2-convolutional-neural-networks/LS_DS_432_Convolution_Neural_Networks_Assignment.ipynb\" target=\"_parent\"><img src=\"https://colab.research.google.com/assets/colab-badge.svg\" alt=\"Open In Colab\"/></a>"
      ]
    },
    {
      "cell_type": "markdown",
      "metadata": {
        "id": "IU2ptVcLfEFR",
        "colab_type": "text"
      },
      "source": [
        "<img align=\"left\" src=\"https://lever-client-logos.s3.amazonaws.com/864372b1-534c-480e-acd5-9711f850815c-1524247202159.png\" width=200>\n",
        "<br></br>\n",
        "<br></br>\n",
        "\n",
        "## *Data Science Unit 4 Sprint 3 Assignment 2*\n",
        "# Convolutional Neural Networks (CNNs)"
      ]
    },
    {
      "cell_type": "markdown",
      "metadata": {
        "colab_type": "text",
        "id": "0lfZdD_cp1t5"
      },
      "source": [
        "# Assignment\n",
        "\n",
        "- <a href=\"#p1\">Part 1:</a> Pre-Trained Model\n",
        "- <a href=\"#p2\">Part 2:</a> Custom CNN Model\n",
        "- <a href=\"#p3\">Part 3:</a> CNN with Data Augmentation\n",
        "\n",
        "\n",
        "You will apply three different CNN models to a binary image classification model using Keras. Classify images of Mountains (`./data/train/mountain/*`) and images of forests (`./data/train/forest/*`). Treat mountains as the positive class (1) and the forest images as the negative (zero). \n",
        "\n",
        "|Mountain (+)|Forest (-)|\n",
        "|---|---|\n",
        "|![](https://github.com/LambdaSchool/DS-Unit-4-Sprint-3-Deep-Learning/blob/master/module2-convolutional-neural-networks/data/train/mountain/art1131.jpg?raw=1)|![](https://github.com/LambdaSchool/DS-Unit-4-Sprint-3-Deep-Learning/blob/master/module2-convolutional-neural-networks/data/validation/forest/cdmc317.jpg?raw=1)|\n",
        "\n",
        "The problem is relatively difficult given that the sample is tiny: there are about 350 observations per class. This sample size might be something that you can expect with prototyping an image classification problem/solution at work. Get accustomed to evaluating several different possible models."
      ]
    },
    {
      "cell_type": "markdown",
      "metadata": {
        "colab_type": "text",
        "id": "lo6d9K8dfEFT"
      },
      "source": [
        "# Pre - Trained Model\n",
        "<a id=\"p1\"></a>\n",
        "\n",
        "Load a pretrained network from Keras, [ResNet50](https://tfhub.dev/google/imagenet/resnet_v1_50/classification/1) - a 50 layer deep network trained to recognize [1000 objects](https://storage.googleapis.com/download.tensorflow.org/data/ImageNetLabels.txt). Starting usage:\n",
        "\n",
        "```python\n",
        "import numpy as np\n",
        "\n",
        "from tensorflow.keras.applications.resnet50 import ResNet50\n",
        "from tensorflow.keras.preprocessing import image\n",
        "from tensorflow.keras.applications.resnet50 import preprocess_input, decode_predictions\n",
        "\n",
        "from tensorflow.keras.layers import Dense, GlobalAveragePooling2D\n",
        "from tensorflow.keras.models import Model # This is the functional API\n",
        "\n",
        "resnet = ResNet50(weights='imagenet', include_top=False)\n",
        "\n",
        "```\n",
        "\n",
        "The `include_top` parameter in `ResNet50` will remove the full connected layers from the ResNet model. The next step is to turn off the training of the ResNet layers. We want to use the learned parameters without updating them in future training passes. \n",
        "\n",
        "```python\n",
        "for layer in resnet.layers:\n",
        "    layer.trainable = False\n",
        "```\n",
        "\n",
        "Using the Keras functional API, we will need to additional additional full connected layers to our model. We we removed the top layers, we removed all preivous fully connected layers. In other words, we kept only the feature processing portions of our network. You can expert with additional layers beyond what's listed here. The `GlobalAveragePooling2D` layer functions as a really fancy flatten function by taking the average of each of the last convolutional layer outputs (which is two dimensional still). \n",
        "\n",
        "```python\n",
        "x = resnet.output\n",
        "x = GlobalAveragePooling2D()(x) # This layer is a really fancy flatten\n",
        "x = Dense(1024, activation='relu')(x)\n",
        "predictions = Dense(1, activation='sigmoid')(x)\n",
        "model = Model(resnet.input, predictions)\n",
        "```\n",
        "\n",
        "Your assignment is to apply the transfer learning above to classify images of Mountains (`./data/train/mountain/*`) and images of forests (`./data/train/forest/*`). Treat mountains as the positive class (1) and the forest images as the negative (zero). \n",
        "\n",
        "Steps to complete assignment: \n",
        "1. Load in Image Data into numpy arrays (`X`) \n",
        "2. Create a `y` for the labels\n",
        "3. Train your model with pre-trained layers from resnet\n",
        "4. Report your model's accuracy"
      ]
    },
    {
      "cell_type": "markdown",
      "metadata": {
        "id": "Nj8lI9npfEFW",
        "colab_type": "text"
      },
      "source": [
        "## Load in Data\n",
        "\n",
        "This surprisingly more difficult than it seems, because you are working with directories of images instead of a single file. This boiler plate will help you download a zipped version of the directory of images. The directory is organized into \"train\" and \"validation\" which you can use inside an `ImageGenerator` class to stream batches of images thru your model.  \n"
      ]
    },
    {
      "cell_type": "markdown",
      "metadata": {
        "id": "Su-Whh53fEFX",
        "colab_type": "text"
      },
      "source": [
        "### Download & Summarize the Data\n",
        "\n",
        "This step is completed for you. Just run the cells and review the results. "
      ]
    },
    {
      "cell_type": "code",
      "metadata": {
        "id": "_8YKI4AsfEFX",
        "colab_type": "code",
        "colab": {
          "base_uri": "https://localhost:8080/",
          "height": 71
        },
        "outputId": "3e345547-aeea-424d-a420-fabefd6e458c"
      },
      "source": [
        "import tensorflow as tf\n",
        "import os\n",
        "\n",
        "_URL = 'https://github.com/LambdaSchool/DS-Unit-4-Sprint-3-Deep-Learning/blob/master/module2-convolutional-neural-networks/data.zip?raw=true'\n",
        "\n",
        "path_to_zip = tf.keras.utils.get_file('./data.zip', origin=_URL, extract=True)\n",
        "PATH = os.path.join(os.path.dirname(path_to_zip), 'data')"
      ],
      "execution_count": 1,
      "outputs": [
        {
          "output_type": "stream",
          "text": [
            "Downloading data from https://github.com/LambdaSchool/DS-Unit-4-Sprint-3-Deep-Learning/blob/master/module2-convolutional-neural-networks/data.zip?raw=true\n",
            "42172416/42170838 [==============================] - 0s 0us/step\n"
          ],
          "name": "stdout"
        }
      ]
    },
    {
      "cell_type": "code",
      "metadata": {
        "id": "_5Rj3QjufEFc",
        "colab_type": "code",
        "colab": {}
      },
      "source": [
        "train_dir = os.path.join(PATH, 'train')\n",
        "validation_dir = os.path.join(PATH, 'validation')"
      ],
      "execution_count": 0,
      "outputs": []
    },
    {
      "cell_type": "code",
      "metadata": {
        "id": "wj4d_1EXfEFh",
        "colab_type": "code",
        "colab": {}
      },
      "source": [
        "train_mountain_dir = os.path.join(train_dir, 'mountain')  # directory with our training cat pictures\n",
        "train_forest_dir = os.path.join(train_dir, 'forest')  # directory with our training dog pictures\n",
        "validation_mountain_dir = os.path.join(validation_dir, 'mountain')  # directory with our validation cat pictures\n",
        "validation_forest_dir = os.path.join(validation_dir, 'forest')  # directory with our validation dog pictures"
      ],
      "execution_count": 0,
      "outputs": []
    },
    {
      "cell_type": "code",
      "metadata": {
        "id": "fkB1wkxTfEFl",
        "colab_type": "code",
        "colab": {}
      },
      "source": [
        "num_mountain_tr = len(os.listdir(train_mountain_dir))\n",
        "num_forest_tr = len(os.listdir(train_forest_dir))\n",
        "\n",
        "num_mountain_val = len(os.listdir(validation_mountain_dir))\n",
        "num_forest_val = len(os.listdir(validation_forest_dir))\n",
        "\n",
        "total_train = num_mountain_tr + num_forest_tr\n",
        "total_val = num_mountain_val + num_forest_val"
      ],
      "execution_count": 0,
      "outputs": []
    },
    {
      "cell_type": "code",
      "metadata": {
        "id": "yNuZEXrMfEFp",
        "colab_type": "code",
        "colab": {
          "base_uri": "https://localhost:8080/",
          "height": 136
        },
        "outputId": "c5322a97-7270-421c-a620-02ef05e8e40f"
      },
      "source": [
        "print('total training mountain images:', num_mountain_tr)\n",
        "print('total training forest images:', num_forest_tr)\n",
        "\n",
        "print('total validation mountain images:', num_mountain_val)\n",
        "print('total validation forest images:', num_forest_val)\n",
        "print(\"--\")\n",
        "print(\"Total training images:\", total_train)\n",
        "print(\"Total validation images:\", total_val)"
      ],
      "execution_count": 5,
      "outputs": [
        {
          "output_type": "stream",
          "text": [
            "total training mountain images: 254\n",
            "total training forest images: 270\n",
            "total validation mountain images: 125\n",
            "total validation forest images: 62\n",
            "--\n",
            "Total training images: 524\n",
            "Total validation images: 187\n"
          ],
          "name": "stdout"
        }
      ]
    },
    {
      "cell_type": "markdown",
      "metadata": {
        "id": "3r07nE0ifEFt",
        "colab_type": "text"
      },
      "source": [
        "### Keras `ImageGenerator` to Process the Data\n",
        "\n",
        "This step is completed for you, but please review the code. The `ImageGenerator` class reads in batches of data from a directory and pass them to the model one batch at a time. Just like large text files, this method is advantageous, because it stifles the need to load a bunch of images into memory. \n",
        "\n",
        "Check out the documentation for this class method: [Keras `ImageGenerator` Class](https://keras.io/preprocessing/image/#imagedatagenerator-class). You'll expand it's use in the third assignment objective."
      ]
    },
    {
      "cell_type": "code",
      "metadata": {
        "id": "DXQnLvNkfEFu",
        "colab_type": "code",
        "colab": {}
      },
      "source": [
        "batch_size = 16\n",
        "epochs = 50\n",
        "IMG_HEIGHT = 224\n",
        "IMG_WIDTH = 224"
      ],
      "execution_count": 0,
      "outputs": []
    },
    {
      "cell_type": "code",
      "metadata": {
        "id": "u_yrWZohfEFz",
        "colab_type": "code",
        "colab": {}
      },
      "source": [
        "from tensorflow.keras.preprocessing.image import ImageDataGenerator\n",
        "\n",
        "train_image_generator = ImageDataGenerator(rescale=1./255) # Generator for our training data\n",
        "validation_image_generator = ImageDataGenerator(rescale=1./255) # Generator for our validation data"
      ],
      "execution_count": 0,
      "outputs": []
    },
    {
      "cell_type": "code",
      "metadata": {
        "id": "HhihrzJMfEF3",
        "colab_type": "code",
        "colab": {
          "base_uri": "https://localhost:8080/",
          "height": 34
        },
        "outputId": "0f6c4330-66d5-4919-c265-c6864be11449"
      },
      "source": [
        "train_data_gen = train_image_generator.flow_from_directory(batch_size=batch_size,\n",
        "                                                           directory=train_dir,\n",
        "                                                           shuffle=True,\n",
        "                                                           target_size=(IMG_HEIGHT, IMG_WIDTH),\n",
        "                                                           class_mode='binary')"
      ],
      "execution_count": 8,
      "outputs": [
        {
          "output_type": "stream",
          "text": [
            "Found 533 images belonging to 2 classes.\n"
          ],
          "name": "stdout"
        }
      ]
    },
    {
      "cell_type": "code",
      "metadata": {
        "id": "fbyibVaKfEF7",
        "colab_type": "code",
        "colab": {
          "base_uri": "https://localhost:8080/",
          "height": 34
        },
        "outputId": "a644c206-610d-49d7-b936-c7af90ba50c6"
      },
      "source": [
        "val_data_gen = validation_image_generator.flow_from_directory(batch_size=batch_size,\n",
        "                                                              directory=validation_dir,\n",
        "                                                              target_size=(IMG_HEIGHT, IMG_WIDTH),\n",
        "                                                              class_mode='binary')"
      ],
      "execution_count": 9,
      "outputs": [
        {
          "output_type": "stream",
          "text": [
            "Found 195 images belonging to 2 classes.\n"
          ],
          "name": "stdout"
        }
      ]
    },
    {
      "cell_type": "markdown",
      "metadata": {
        "id": "m5mG5cnTfEF_",
        "colab_type": "text"
      },
      "source": [
        "## Instatiate Model"
      ]
    },
    {
      "cell_type": "code",
      "metadata": {
        "id": "rAmKKOV_fEGA",
        "colab_type": "code",
        "colab": {}
      },
      "source": [
        "import numpy as np\n",
        " \n",
        "from tensorflow.keras.applications.resnet50 import ResNet50\n",
        "from tensorflow.keras.preprocessing import image\n",
        "from tensorflow.keras.applications.resnet50 import preprocess_input, decode_predictions\n",
        " \n",
        "from tensorflow.keras.layers import Dense, GlobalAveragePooling2D\n",
        "from tensorflow.keras.models import Model # This is the functional API\n"
      ],
      "execution_count": 0,
      "outputs": []
    },
    {
      "cell_type": "code",
      "metadata": {
        "id": "lnt06GvhmSJv",
        "colab_type": "code",
        "colab": {}
      },
      "source": [
        "resnet = ResNet50(weights='imagenet', include_top=False)\n",
        "\n",
        "for layer in resnet.layers:\n",
        "    layer.trainable = False\n",
        "\n",
        "x = resnet.output\n",
        "x = GlobalAveragePooling2D()(x) # This layer is a really fancy flatten\n",
        "x = Dense(1024, activation='relu')(x)\n",
        "predictions = Dense(1, activation='sigmoid')(x)\n",
        "model = Model(resnet.input, predictions)\n",
        "\n",
        "model.compile(optimizer='adam',\n",
        "              loss='binary_crossentropy',\n",
        "              metrics=['accuracy'])"
      ],
      "execution_count": 0,
      "outputs": []
    },
    {
      "cell_type": "markdown",
      "metadata": {
        "id": "0S_kD8UlfEGE",
        "colab_type": "text"
      },
      "source": [
        "## Fit Model"
      ]
    },
    {
      "cell_type": "code",
      "metadata": {
        "id": "uA6ESdbgfEGF",
        "colab_type": "code",
        "colab": {
          "base_uri": "https://localhost:8080/",
          "height": 1000
        },
        "outputId": "d09a3574-e16a-4a17-b7e0-58e673fffc27"
      },
      "source": [
        "history = model.fit(\n",
        "    train_data_gen,\n",
        "    steps_per_epoch=total_train // batch_size,\n",
        "    epochs=epochs,\n",
        "    validation_data=val_data_gen,\n",
        "    validation_steps=total_val // batch_size\n",
        ")"
      ],
      "execution_count": 14,
      "outputs": [
        {
          "output_type": "stream",
          "text": [
            "Epoch 1/50\n",
            "32/32 [==============================] - 3s 100ms/step - loss: 0.9428 - accuracy: 0.5250 - val_loss: 0.6478 - val_accuracy: 0.7159\n",
            "Epoch 2/50\n",
            "32/32 [==============================] - 2s 71ms/step - loss: 0.6251 - accuracy: 0.6208 - val_loss: 0.7434 - val_accuracy: 0.4091\n",
            "Epoch 3/50\n",
            "32/32 [==============================] - 2s 70ms/step - loss: 0.5588 - accuracy: 0.7285 - val_loss: 0.5899 - val_accuracy: 0.7500\n",
            "Epoch 4/50\n",
            "32/32 [==============================] - 2s 70ms/step - loss: 0.4868 - accuracy: 0.7964 - val_loss: 0.4676 - val_accuracy: 0.7443\n",
            "Epoch 5/50\n",
            "32/32 [==============================] - 2s 70ms/step - loss: 0.4486 - accuracy: 0.8283 - val_loss: 0.4159 - val_accuracy: 0.8466\n",
            "Epoch 6/50\n",
            "32/32 [==============================] - 2s 71ms/step - loss: 0.4060 - accuracy: 0.8583 - val_loss: 0.4191 - val_accuracy: 0.8352\n",
            "Epoch 7/50\n",
            "32/32 [==============================] - 2s 70ms/step - loss: 0.3794 - accuracy: 0.8663 - val_loss: 0.4163 - val_accuracy: 0.8409\n",
            "Epoch 8/50\n",
            "32/32 [==============================] - 2s 69ms/step - loss: 0.3648 - accuracy: 0.8663 - val_loss: 0.3473 - val_accuracy: 0.8580\n",
            "Epoch 9/50\n",
            "32/32 [==============================] - 2s 70ms/step - loss: 0.3275 - accuracy: 0.8762 - val_loss: 0.3775 - val_accuracy: 0.8523\n",
            "Epoch 10/50\n",
            "32/32 [==============================] - 2s 69ms/step - loss: 0.3629 - accuracy: 0.8423 - val_loss: 0.3273 - val_accuracy: 0.8920\n",
            "Epoch 11/50\n",
            "32/32 [==============================] - 2s 72ms/step - loss: 0.2802 - accuracy: 0.9042 - val_loss: 0.3475 - val_accuracy: 0.8580\n",
            "Epoch 12/50\n",
            "32/32 [==============================] - 2s 70ms/step - loss: 0.3337 - accuracy: 0.8503 - val_loss: 0.2819 - val_accuracy: 0.9091\n",
            "Epoch 13/50\n",
            "32/32 [==============================] - 2s 70ms/step - loss: 0.2535 - accuracy: 0.9142 - val_loss: 0.3229 - val_accuracy: 0.8636\n",
            "Epoch 14/50\n",
            "32/32 [==============================] - 2s 70ms/step - loss: 0.2537 - accuracy: 0.9142 - val_loss: 0.2738 - val_accuracy: 0.9091\n",
            "Epoch 15/50\n",
            "32/32 [==============================] - 2s 70ms/step - loss: 0.2259 - accuracy: 0.9321 - val_loss: 0.3718 - val_accuracy: 0.8466\n",
            "Epoch 16/50\n",
            "32/32 [==============================] - 2s 70ms/step - loss: 0.2075 - accuracy: 0.9361 - val_loss: 0.3264 - val_accuracy: 0.8523\n",
            "Epoch 17/50\n",
            "32/32 [==============================] - 2s 70ms/step - loss: 0.1848 - accuracy: 0.9501 - val_loss: 0.2529 - val_accuracy: 0.8977\n",
            "Epoch 18/50\n",
            "32/32 [==============================] - 2s 69ms/step - loss: 0.1938 - accuracy: 0.9301 - val_loss: 0.3138 - val_accuracy: 0.8636\n",
            "Epoch 19/50\n",
            "32/32 [==============================] - 2s 70ms/step - loss: 0.1877 - accuracy: 0.9441 - val_loss: 0.2930 - val_accuracy: 0.8409\n",
            "Epoch 20/50\n",
            "32/32 [==============================] - 2s 70ms/step - loss: 0.2330 - accuracy: 0.9082 - val_loss: 0.2763 - val_accuracy: 0.8636\n",
            "Epoch 21/50\n",
            "32/32 [==============================] - 2s 70ms/step - loss: 0.1900 - accuracy: 0.9202 - val_loss: 0.2276 - val_accuracy: 0.9318\n",
            "Epoch 22/50\n",
            "32/32 [==============================] - 2s 70ms/step - loss: 0.2122 - accuracy: 0.9082 - val_loss: 0.2658 - val_accuracy: 0.8977\n",
            "Epoch 23/50\n",
            "32/32 [==============================] - 2s 70ms/step - loss: 0.1797 - accuracy: 0.9361 - val_loss: 0.2522 - val_accuracy: 0.9091\n",
            "Epoch 24/50\n",
            "32/32 [==============================] - 2s 72ms/step - loss: 0.2020 - accuracy: 0.9102 - val_loss: 0.2019 - val_accuracy: 0.9489\n",
            "Epoch 25/50\n",
            "32/32 [==============================] - 2s 70ms/step - loss: 0.1285 - accuracy: 0.9521 - val_loss: 0.2472 - val_accuracy: 0.8864\n",
            "Epoch 26/50\n",
            "32/32 [==============================] - 2s 71ms/step - loss: 0.1471 - accuracy: 0.9481 - val_loss: 0.2996 - val_accuracy: 0.8636\n",
            "Epoch 27/50\n",
            "32/32 [==============================] - 2s 71ms/step - loss: 0.1197 - accuracy: 0.9621 - val_loss: 0.2461 - val_accuracy: 0.9091\n",
            "Epoch 28/50\n",
            "32/32 [==============================] - 2s 71ms/step - loss: 0.1285 - accuracy: 0.9601 - val_loss: 0.2230 - val_accuracy: 0.9318\n",
            "Epoch 29/50\n",
            "32/32 [==============================] - 2s 71ms/step - loss: 0.1303 - accuracy: 0.9641 - val_loss: 0.1855 - val_accuracy: 0.9432\n",
            "Epoch 30/50\n",
            "32/32 [==============================] - 2s 71ms/step - loss: 0.1347 - accuracy: 0.9341 - val_loss: 0.3703 - val_accuracy: 0.8580\n",
            "Epoch 31/50\n",
            "32/32 [==============================] - 2s 70ms/step - loss: 0.1317 - accuracy: 0.9481 - val_loss: 0.3098 - val_accuracy: 0.8693\n",
            "Epoch 32/50\n",
            "32/32 [==============================] - 2s 71ms/step - loss: 0.1564 - accuracy: 0.9401 - val_loss: 0.2679 - val_accuracy: 0.8693\n",
            "Epoch 33/50\n",
            "32/32 [==============================] - 2s 71ms/step - loss: 0.1263 - accuracy: 0.9561 - val_loss: 0.1840 - val_accuracy: 0.9489\n",
            "Epoch 34/50\n",
            "32/32 [==============================] - 2s 71ms/step - loss: 0.1408 - accuracy: 0.9401 - val_loss: 0.2133 - val_accuracy: 0.9261\n",
            "Epoch 35/50\n",
            "32/32 [==============================] - 2s 72ms/step - loss: 0.0973 - accuracy: 0.9681 - val_loss: 0.1817 - val_accuracy: 0.9489\n",
            "Epoch 36/50\n",
            "32/32 [==============================] - 2s 71ms/step - loss: 0.1118 - accuracy: 0.9501 - val_loss: 0.6129 - val_accuracy: 0.7500\n",
            "Epoch 37/50\n",
            "32/32 [==============================] - 2s 71ms/step - loss: 0.1672 - accuracy: 0.9321 - val_loss: 0.4355 - val_accuracy: 0.8409\n",
            "Epoch 38/50\n",
            "32/32 [==============================] - 2s 72ms/step - loss: 0.1308 - accuracy: 0.9453 - val_loss: 0.3808 - val_accuracy: 0.8409\n",
            "Epoch 39/50\n",
            "32/32 [==============================] - 2s 71ms/step - loss: 0.1378 - accuracy: 0.9541 - val_loss: 0.1846 - val_accuracy: 0.9432\n",
            "Epoch 40/50\n",
            "32/32 [==============================] - 2s 70ms/step - loss: 0.1743 - accuracy: 0.9202 - val_loss: 0.3127 - val_accuracy: 0.8864\n",
            "Epoch 41/50\n",
            "32/32 [==============================] - 2s 71ms/step - loss: 0.1532 - accuracy: 0.9381 - val_loss: 0.7530 - val_accuracy: 0.7386\n",
            "Epoch 42/50\n",
            "32/32 [==============================] - 2s 72ms/step - loss: 0.1201 - accuracy: 0.9601 - val_loss: 0.2399 - val_accuracy: 0.9205\n",
            "Epoch 43/50\n",
            "32/32 [==============================] - 2s 70ms/step - loss: 0.1295 - accuracy: 0.9461 - val_loss: 0.2368 - val_accuracy: 0.9148\n",
            "Epoch 44/50\n",
            "32/32 [==============================] - 2s 72ms/step - loss: 0.0982 - accuracy: 0.9668 - val_loss: 0.4796 - val_accuracy: 0.8182\n",
            "Epoch 45/50\n",
            "32/32 [==============================] - 2s 70ms/step - loss: 0.1305 - accuracy: 0.9401 - val_loss: 0.1605 - val_accuracy: 0.9489\n",
            "Epoch 46/50\n",
            "32/32 [==============================] - 2s 71ms/step - loss: 0.1450 - accuracy: 0.9361 - val_loss: 0.1975 - val_accuracy: 0.9375\n",
            "Epoch 47/50\n",
            "32/32 [==============================] - 2s 70ms/step - loss: 0.0967 - accuracy: 0.9701 - val_loss: 0.2892 - val_accuracy: 0.9034\n",
            "Epoch 48/50\n",
            "32/32 [==============================] - 2s 70ms/step - loss: 0.0945 - accuracy: 0.9601 - val_loss: 0.3061 - val_accuracy: 0.8864\n",
            "Epoch 49/50\n",
            "32/32 [==============================] - 2s 70ms/step - loss: 0.1005 - accuracy: 0.9681 - val_loss: 0.3822 - val_accuracy: 0.8580\n",
            "Epoch 50/50\n",
            "32/32 [==============================] - 2s 70ms/step - loss: 0.1176 - accuracy: 0.9541 - val_loss: 0.3236 - val_accuracy: 0.8864\n"
          ],
          "name": "stdout"
        }
      ]
    },
    {
      "cell_type": "markdown",
      "metadata": {
        "id": "pFVkb3LDfEGJ",
        "colab_type": "text"
      },
      "source": [
        "# Custom CNN Model\n",
        "\n",
        "In this step, write and train your own convolutional neural network using Keras. You can use any architecture that suits you as long as it has at least one convolutional and one pooling layer at the beginning of the network - you can add more if you want. "
      ]
    },
    {
      "cell_type": "code",
      "metadata": {
        "id": "JdTxnu_IqiAj",
        "colab_type": "code",
        "colab": {}
      },
      "source": [
        "from tensorflow.keras.models import Sequential, Model \n",
        "from tensorflow.keras.layers import Dense, Conv2D, MaxPooling2D, Flatten, Conv1D, Dropout\n",
        "\n"
      ],
      "execution_count": 0,
      "outputs": []
    },
    {
      "cell_type": "code",
      "metadata": {
        "id": "5YxqFqqvoj4G",
        "colab_type": "code",
        "colab": {}
      },
      "source": [
        "model = Sequential([\n",
        "    Conv2D(128, 3, padding='same', activation='relu', input_shape=(IMG_HEIGHT, IMG_WIDTH ,3)),\n",
        "    MaxPooling2D(),\n",
        "    Conv2D(64, 3, padding='same', activation='relu'),\n",
        "    MaxPooling2D(),\n",
        "    Conv2D(32, 3, padding='same', activation='relu'),\n",
        "    MaxPooling2D(),\n",
        "    Flatten(),\n",
        "    Dense(1024, activation='relu'),\n",
        "    Dense(1, activation='sigmoid')\n",
        "])\n"
      ],
      "execution_count": 0,
      "outputs": []
    },
    {
      "cell_type": "code",
      "metadata": {
        "id": "bgfJqHAvfEGK",
        "colab_type": "code",
        "colab": {
          "base_uri": "https://localhost:8080/",
          "height": 459
        },
        "outputId": "522857bd-feb4-4640-ef8b-4afbe45d6083"
      },
      "source": [
        "model.compile(optimizer='adam',\n",
        "              loss=\"binary_crossentropy\",\n",
        "              metrics=['accuracy'])\n",
        "\n",
        "model.summary()"
      ],
      "execution_count": 50,
      "outputs": [
        {
          "output_type": "stream",
          "text": [
            "Model: \"sequential_7\"\n",
            "_________________________________________________________________\n",
            "Layer (type)                 Output Shape              Param #   \n",
            "=================================================================\n",
            "conv2d_22 (Conv2D)           (None, 224, 224, 128)     3584      \n",
            "_________________________________________________________________\n",
            "max_pooling2d_19 (MaxPooling (None, 112, 112, 128)     0         \n",
            "_________________________________________________________________\n",
            "conv2d_23 (Conv2D)           (None, 112, 112, 64)      73792     \n",
            "_________________________________________________________________\n",
            "max_pooling2d_20 (MaxPooling (None, 56, 56, 64)        0         \n",
            "_________________________________________________________________\n",
            "conv2d_24 (Conv2D)           (None, 56, 56, 32)        18464     \n",
            "_________________________________________________________________\n",
            "max_pooling2d_21 (MaxPooling (None, 28, 28, 32)        0         \n",
            "_________________________________________________________________\n",
            "flatten_7 (Flatten)          (None, 25088)             0         \n",
            "_________________________________________________________________\n",
            "dense_20 (Dense)             (None, 1024)              25691136  \n",
            "_________________________________________________________________\n",
            "dense_21 (Dense)             (None, 1)                 1025      \n",
            "=================================================================\n",
            "Total params: 25,788,001\n",
            "Trainable params: 25,788,001\n",
            "Non-trainable params: 0\n",
            "_________________________________________________________________\n"
          ],
          "name": "stdout"
        }
      ]
    },
    {
      "cell_type": "code",
      "metadata": {
        "id": "SsinD2_rfEGN",
        "colab_type": "code",
        "colab": {
          "base_uri": "https://localhost:8080/",
          "height": 34
        },
        "outputId": "683046f4-b93e-4474-a32a-995eb8266c58"
      },
      "source": [
        "# Compile Model\n",
        "\"\"\"model.compile(optimizer='adam',\n",
        "              loss='binary_crossentropy',\n",
        "              metrics=['accuracy'])\n",
        "\"\"\""
      ],
      "execution_count": 28,
      "outputs": [
        {
          "output_type": "execute_result",
          "data": {
            "text/plain": [
              "\"model.compile(optimizer='adam',\\n              loss='binary_crossentropy',\\n              metrics=['accuracy'])\\n\""
            ]
          },
          "metadata": {
            "tags": []
          },
          "execution_count": 28
        }
      ]
    },
    {
      "cell_type": "code",
      "metadata": {
        "id": "xIO5Kk_vfEGR",
        "colab_type": "code",
        "colab": {}
      },
      "source": [
        "# Fit Model\n",
        "\"\"\"history = model.fit(\n",
        "    train_data_gen,\n",
        "    steps_per_epoch=total_train // batch_size,\n",
        "    epochs=epochs,\n",
        "    validation_data=val_data_gen,\n",
        "    validation_steps=total_val // batch_size\n",
        ")\"\"\""
      ],
      "execution_count": 0,
      "outputs": []
    },
    {
      "cell_type": "code",
      "metadata": {
        "id": "TiMx0hBBxzaC",
        "colab_type": "code",
        "colab": {
          "base_uri": "https://localhost:8080/",
          "height": 1000
        },
        "outputId": "f7bea427-cbe5-457c-ed7d-4f9e29aa45eb"
      },
      "source": [
        "history = model.fit_generator(\n",
        "    train_data_gen,\n",
        "    steps_per_epoch=total_train // batch_size,\n",
        "    epochs=epochs,\n",
        "    validation_data=val_data_gen,\n",
        "    validation_steps=total_val // batch_size\n",
        ")"
      ],
      "execution_count": 51,
      "outputs": [
        {
          "output_type": "stream",
          "text": [
            "Epoch 1/50\n",
            "32/32 [==============================] - 2s 70ms/step - loss: 0.6231 - accuracy: 0.7026 - val_loss: 0.2170 - val_accuracy: 0.9205\n",
            "Epoch 2/50\n",
            "32/32 [==============================] - 2s 64ms/step - loss: 0.2807 - accuracy: 0.8922 - val_loss: 0.3116 - val_accuracy: 0.8750\n",
            "Epoch 3/50\n",
            "32/32 [==============================] - 2s 64ms/step - loss: 0.2740 - accuracy: 0.8882 - val_loss: 0.2472 - val_accuracy: 0.9205\n",
            "Epoch 4/50\n",
            "32/32 [==============================] - 2s 64ms/step - loss: 0.1775 - accuracy: 0.9281 - val_loss: 0.1440 - val_accuracy: 0.9432\n",
            "Epoch 5/50\n",
            "32/32 [==============================] - 2s 75ms/step - loss: 0.1703 - accuracy: 0.9261 - val_loss: 0.5168 - val_accuracy: 0.8125\n",
            "Epoch 6/50\n",
            "32/32 [==============================] - 2s 63ms/step - loss: 0.2161 - accuracy: 0.9261 - val_loss: 0.1949 - val_accuracy: 0.9318\n",
            "Epoch 7/50\n",
            "32/32 [==============================] - 2s 63ms/step - loss: 0.1221 - accuracy: 0.9541 - val_loss: 0.1298 - val_accuracy: 0.9489\n",
            "Epoch 8/50\n",
            "32/32 [==============================] - 2s 63ms/step - loss: 0.1031 - accuracy: 0.9621 - val_loss: 0.1796 - val_accuracy: 0.9261\n",
            "Epoch 9/50\n",
            "32/32 [==============================] - 2s 64ms/step - loss: 0.0869 - accuracy: 0.9701 - val_loss: 0.2023 - val_accuracy: 0.9261\n",
            "Epoch 10/50\n",
            "32/32 [==============================] - 2s 65ms/step - loss: 0.1020 - accuracy: 0.9541 - val_loss: 0.1522 - val_accuracy: 0.9432\n",
            "Epoch 11/50\n",
            "32/32 [==============================] - 2s 64ms/step - loss: 0.0801 - accuracy: 0.9721 - val_loss: 0.1833 - val_accuracy: 0.9489\n",
            "Epoch 12/50\n",
            "32/32 [==============================] - 2s 65ms/step - loss: 0.0454 - accuracy: 0.9820 - val_loss: 0.4368 - val_accuracy: 0.8977\n",
            "Epoch 13/50\n",
            "32/32 [==============================] - 2s 64ms/step - loss: 0.0293 - accuracy: 0.9883 - val_loss: 0.1862 - val_accuracy: 0.9432\n",
            "Epoch 14/50\n",
            "32/32 [==============================] - 2s 63ms/step - loss: 0.0455 - accuracy: 0.9880 - val_loss: 0.1583 - val_accuracy: 0.9375\n",
            "Epoch 15/50\n",
            "32/32 [==============================] - 2s 63ms/step - loss: 0.0974 - accuracy: 0.9721 - val_loss: 0.3644 - val_accuracy: 0.8920\n",
            "Epoch 16/50\n",
            "32/32 [==============================] - 2s 63ms/step - loss: 0.0364 - accuracy: 0.9840 - val_loss: 0.3659 - val_accuracy: 0.9034\n",
            "Epoch 17/50\n",
            "32/32 [==============================] - 2s 64ms/step - loss: 0.0132 - accuracy: 0.9980 - val_loss: 0.5176 - val_accuracy: 0.8807\n",
            "Epoch 18/50\n",
            "32/32 [==============================] - 2s 64ms/step - loss: 0.0082 - accuracy: 0.9980 - val_loss: 0.4986 - val_accuracy: 0.8864\n",
            "Epoch 19/50\n",
            "32/32 [==============================] - 2s 63ms/step - loss: 0.0013 - accuracy: 1.0000 - val_loss: 0.3939 - val_accuracy: 0.9261\n",
            "Epoch 20/50\n",
            "32/32 [==============================] - 2s 63ms/step - loss: 4.2268e-04 - accuracy: 1.0000 - val_loss: 0.3359 - val_accuracy: 0.9318\n",
            "Epoch 21/50\n",
            "32/32 [==============================] - 2s 66ms/step - loss: 3.3374e-04 - accuracy: 1.0000 - val_loss: 0.4317 - val_accuracy: 0.9148\n",
            "Epoch 22/50\n",
            "32/32 [==============================] - 2s 66ms/step - loss: 2.4358e-04 - accuracy: 1.0000 - val_loss: 0.2855 - val_accuracy: 0.9375\n",
            "Epoch 23/50\n",
            "32/32 [==============================] - 2s 65ms/step - loss: 2.1027e-04 - accuracy: 1.0000 - val_loss: 0.3374 - val_accuracy: 0.9261\n",
            "Epoch 24/50\n",
            "32/32 [==============================] - 2s 64ms/step - loss: 1.6989e-04 - accuracy: 1.0000 - val_loss: 0.3931 - val_accuracy: 0.9318\n",
            "Epoch 25/50\n",
            "32/32 [==============================] - 2s 65ms/step - loss: 1.4119e-04 - accuracy: 1.0000 - val_loss: 0.2592 - val_accuracy: 0.9318\n",
            "Epoch 26/50\n",
            "32/32 [==============================] - 2s 66ms/step - loss: 1.3056e-04 - accuracy: 1.0000 - val_loss: 0.4351 - val_accuracy: 0.9205\n",
            "Epoch 27/50\n",
            "32/32 [==============================] - 2s 65ms/step - loss: 1.0282e-04 - accuracy: 1.0000 - val_loss: 0.3048 - val_accuracy: 0.9318\n",
            "Epoch 28/50\n",
            "32/32 [==============================] - 2s 64ms/step - loss: 9.5561e-05 - accuracy: 1.0000 - val_loss: 0.4471 - val_accuracy: 0.9205\n",
            "Epoch 29/50\n",
            "32/32 [==============================] - 2s 64ms/step - loss: 7.8102e-05 - accuracy: 1.0000 - val_loss: 0.3596 - val_accuracy: 0.9318\n",
            "Epoch 30/50\n",
            "32/32 [==============================] - 2s 63ms/step - loss: 7.8362e-05 - accuracy: 1.0000 - val_loss: 0.4028 - val_accuracy: 0.9261\n",
            "Epoch 31/50\n",
            "32/32 [==============================] - 2s 63ms/step - loss: 6.2569e-05 - accuracy: 1.0000 - val_loss: 0.4633 - val_accuracy: 0.9205\n",
            "Epoch 32/50\n",
            "32/32 [==============================] - 2s 64ms/step - loss: 5.6591e-05 - accuracy: 1.0000 - val_loss: 0.4223 - val_accuracy: 0.9318\n",
            "Epoch 33/50\n",
            "32/32 [==============================] - 2s 64ms/step - loss: 4.8771e-05 - accuracy: 1.0000 - val_loss: 0.4609 - val_accuracy: 0.9205\n",
            "Epoch 34/50\n",
            "32/32 [==============================] - 2s 63ms/step - loss: 5.2944e-05 - accuracy: 1.0000 - val_loss: 0.4636 - val_accuracy: 0.9261\n",
            "Epoch 35/50\n",
            "32/32 [==============================] - 2s 63ms/step - loss: 4.8325e-05 - accuracy: 1.0000 - val_loss: 0.3780 - val_accuracy: 0.9318\n",
            "Epoch 36/50\n",
            "32/32 [==============================] - 2s 64ms/step - loss: 4.3954e-05 - accuracy: 1.0000 - val_loss: 0.3559 - val_accuracy: 0.9375\n",
            "Epoch 37/50\n",
            "32/32 [==============================] - 2s 64ms/step - loss: 3.9987e-05 - accuracy: 1.0000 - val_loss: 0.4017 - val_accuracy: 0.9261\n",
            "Epoch 38/50\n",
            "32/32 [==============================] - 2s 63ms/step - loss: 3.6303e-05 - accuracy: 1.0000 - val_loss: 0.4287 - val_accuracy: 0.9261\n",
            "Epoch 39/50\n",
            "32/32 [==============================] - 2s 63ms/step - loss: 3.2442e-05 - accuracy: 1.0000 - val_loss: 0.4569 - val_accuracy: 0.9318\n",
            "Epoch 40/50\n",
            "32/32 [==============================] - 2s 63ms/step - loss: 2.9136e-05 - accuracy: 1.0000 - val_loss: 0.3543 - val_accuracy: 0.9375\n",
            "Epoch 41/50\n",
            "32/32 [==============================] - 2s 64ms/step - loss: 2.8081e-05 - accuracy: 1.0000 - val_loss: 0.4893 - val_accuracy: 0.9205\n",
            "Epoch 42/50\n",
            "32/32 [==============================] - 2s 64ms/step - loss: 2.5317e-05 - accuracy: 1.0000 - val_loss: 0.4394 - val_accuracy: 0.9318\n",
            "Epoch 43/50\n",
            "32/32 [==============================] - 2s 63ms/step - loss: 2.2774e-05 - accuracy: 1.0000 - val_loss: 0.4552 - val_accuracy: 0.9318\n",
            "Epoch 44/50\n",
            "32/32 [==============================] - 2s 63ms/step - loss: 2.1020e-05 - accuracy: 1.0000 - val_loss: 0.4161 - val_accuracy: 0.9318\n",
            "Epoch 45/50\n",
            "32/32 [==============================] - 2s 63ms/step - loss: 2.0022e-05 - accuracy: 1.0000 - val_loss: 0.5046 - val_accuracy: 0.9205\n",
            "Epoch 46/50\n",
            "32/32 [==============================] - 2s 64ms/step - loss: 1.8633e-05 - accuracy: 1.0000 - val_loss: 0.4395 - val_accuracy: 0.9375\n",
            "Epoch 47/50\n",
            "32/32 [==============================] - 2s 65ms/step - loss: 1.6524e-05 - accuracy: 1.0000 - val_loss: 0.3633 - val_accuracy: 0.9318\n",
            "Epoch 48/50\n",
            "32/32 [==============================] - 2s 65ms/step - loss: 1.5771e-05 - accuracy: 1.0000 - val_loss: 0.4585 - val_accuracy: 0.9261\n",
            "Epoch 49/50\n",
            "32/32 [==============================] - 2s 67ms/step - loss: 1.4702e-05 - accuracy: 1.0000 - val_loss: 0.5088 - val_accuracy: 0.9261\n",
            "Epoch 50/50\n",
            "32/32 [==============================] - 2s 64ms/step - loss: 1.3670e-05 - accuracy: 1.0000 - val_loss: 0.5054 - val_accuracy: 0.9205\n"
          ],
          "name": "stdout"
        }
      ]
    },
    {
      "cell_type": "code",
      "metadata": {
        "id": "Nb2A3z4WzW_A",
        "colab_type": "code",
        "colab": {}
      },
      "source": [
        "import matplotlib.pyplot as plt"
      ],
      "execution_count": 0,
      "outputs": []
    },
    {
      "cell_type": "code",
      "metadata": {
        "id": "W21aqPKszUPA",
        "colab_type": "code",
        "colab": {
          "base_uri": "https://localhost:8080/",
          "height": 499
        },
        "outputId": "163c424b-bfcb-4441-8877-a2caa1922df7"
      },
      "source": [
        "acc = history.history['accuracy']\n",
        "val_acc = history.history['val_accuracy']\n",
        "\n",
        "loss=history.history['loss']\n",
        "val_loss=history.history['val_loss']\n",
        "\n",
        "epochs_range = range(epochs)\n",
        "\n",
        "plt.figure(figsize=(8, 8))\n",
        "plt.subplot(1, 2, 1)\n",
        "plt.plot(epochs_range, acc, label='Training Accuracy')\n",
        "plt.plot(epochs_range, val_acc, label='Validation Accuracy')\n",
        "plt.legend(loc='lower right')\n",
        "plt.title('Training and Validation Accuracy')\n",
        "\n",
        "plt.subplot(1, 2, 2)\n",
        "plt.plot(epochs_range, loss, label='Training Loss')\n",
        "plt.plot(epochs_range, val_loss, label='Validation Loss')\n",
        "plt.legend(loc='upper right')\n",
        "plt.title('Training and Validation Loss')\n",
        "plt.show()"
      ],
      "execution_count": 52,
      "outputs": [
        {
          "output_type": "display_data",
          "data": {
            "image/png": "[encoded data removed]",
            "text/plain": [
              "<Figure size 576x576 with 2 Axes>"
            ]
          },
          "metadata": {
            "tags": [],
            "needs_background": "light"
          }
        }
      ]
    },
    {
      "cell_type": "markdown",
      "metadata": {
        "id": "F8cHesNjfEGV",
        "colab_type": "text"
      },
      "source": [
        "# Custom CNN Model with Image Manipulations\n",
        "\n",
        "To simulate an increase in a sample of image, you can apply image manipulation techniques: cropping, rotation, stretching, etc. Luckily Keras has some handy functions for us to apply these techniques to our mountain and forest example. Simply, you should be able to modify our image generator for the problem. Check out these resources to help you get started: \n",
        "\n",
        "1. [Keras `ImageGenerator` Class](https://keras.io/preprocessing/image/#imagedatagenerator-class)\n",
        "2. [Building a powerful image classifier with very little data](https://blog.keras.io/building-powerful-image-classification-models-using-very-little-data.html)\n",
        " "
      ]
    },
    {
      "cell_type": "code",
      "metadata": {
        "id": "2MDEbnLjfEGW",
        "colab_type": "code",
        "colab": {}
      },
      "source": [
        "image_gen_train = ImageDataGenerator(\n",
        "                    rescale=1./255,\n",
        "                    rotation_range=45,\n",
        "                    width_shift_range=.15,\n",
        "                    height_shift_range=.15,\n",
        "                    horizontal_flip=True,\n",
        "                    zoom_range=0.5\n",
        "                    )"
      ],
      "execution_count": 0,
      "outputs": []
    },
    {
      "cell_type": "code",
      "metadata": {
        "id": "dUXqPW50yq7F",
        "colab_type": "code",
        "colab": {
          "base_uri": "https://localhost:8080/",
          "height": 34
        },
        "outputId": "bd41d360-0956-4b2a-f4ec-970510ccd210"
      },
      "source": [
        "train_data_gen = image_gen_train.flow_from_directory(batch_size=batch_size,\n",
        "                                                     directory=train_dir,\n",
        "                                                     shuffle=True,\n",
        "                                                     target_size=(IMG_HEIGHT, IMG_WIDTH),\n",
        "                                                     class_mode='binary')"
      ],
      "execution_count": 54,
      "outputs": [
        {
          "output_type": "stream",
          "text": [
            "Found 533 images belonging to 2 classes.\n"
          ],
          "name": "stdout"
        }
      ]
    },
    {
      "cell_type": "code",
      "metadata": {
        "id": "pvwc7iYcyq_q",
        "colab_type": "code",
        "colab": {
          "base_uri": "https://localhost:8080/",
          "height": 34
        },
        "outputId": "1f2e23ed-216c-46d1-940e-e6dbf0abb0b8"
      },
      "source": [
        "image_gen_val = ImageDataGenerator(rescale=1./255)\n",
        "val_data_gen = image_gen_val.flow_from_directory(batch_size=batch_size,\n",
        "                                                 directory=validation_dir,\n",
        "                                                 target_size=(IMG_HEIGHT, IMG_WIDTH),\n",
        "                                                 class_mode='binary')\n"
      ],
      "execution_count": 55,
      "outputs": [
        {
          "output_type": "stream",
          "text": [
            "Found 195 images belonging to 2 classes.\n"
          ],
          "name": "stdout"
        }
      ]
    },
    {
      "cell_type": "code",
      "metadata": {
        "id": "a1JPW7BlyrDj",
        "colab_type": "code",
        "colab": {}
      },
      "source": [
        "model = Sequential([\n",
        "    Conv2D(128, 3, padding='same', activation='relu', input_shape=(IMG_HEIGHT, IMG_WIDTH ,3)),\n",
        "    MaxPooling2D(),\n",
        "    Conv2D(64, 3, padding='same', activation='relu'),\n",
        "    MaxPooling2D(),\n",
        "    Conv2D(32, 3, padding='same', activation='relu'),\n",
        "    MaxPooling2D(),\n",
        "    Flatten(),\n",
        "    Dense(1024, activation='relu'),\n",
        "    Dense(1, activation='sigmoid')\n",
        "])\n"
      ],
      "execution_count": 0,
      "outputs": []
    },
    {
      "cell_type": "code",
      "metadata": {
        "id": "IkUrAsJf43bB",
        "colab_type": "code",
        "colab": {
          "base_uri": "https://localhost:8080/",
          "height": 459
        },
        "outputId": "01a5d99b-6baa-4205-f4d2-5400ea26cf4f"
      },
      "source": [
        "model.summary()"
      ],
      "execution_count": 71,
      "outputs": [
        {
          "output_type": "stream",
          "text": [
            "Model: \"sequential_11\"\n",
            "_________________________________________________________________\n",
            "Layer (type)                 Output Shape              Param #   \n",
            "=================================================================\n",
            "conv2d_35 (Conv2D)           (None, 224, 224, 128)     3584      \n",
            "_________________________________________________________________\n",
            "max_pooling2d_32 (MaxPooling (None, 112, 112, 128)     0         \n",
            "_________________________________________________________________\n",
            "conv2d_36 (Conv2D)           (None, 112, 112, 64)      73792     \n",
            "_________________________________________________________________\n",
            "max_pooling2d_33 (MaxPooling (None, 56, 56, 64)        0         \n",
            "_________________________________________________________________\n",
            "conv2d_37 (Conv2D)           (None, 56, 56, 32)        18464     \n",
            "_________________________________________________________________\n",
            "max_pooling2d_34 (MaxPooling (None, 28, 28, 32)        0         \n",
            "_________________________________________________________________\n",
            "flatten_11 (Flatten)         (None, 25088)             0         \n",
            "_________________________________________________________________\n",
            "dense_28 (Dense)             (None, 1024)              25691136  \n",
            "_________________________________________________________________\n",
            "dense_29 (Dense)             (None, 1)                 1025      \n",
            "=================================================================\n",
            "Total params: 25,788,001\n",
            "Trainable params: 25,788,001\n",
            "Non-trainable params: 0\n",
            "_________________________________________________________________\n"
          ],
          "name": "stdout"
        }
      ]
    },
    {
      "cell_type": "code",
      "metadata": {
        "id": "M-7wrAey43d8",
        "colab_type": "code",
        "colab": {}
      },
      "source": [
        "model.compile(optimizer='adam',\n",
        "              loss=\"binary_crossentropy\",\n",
        "              metrics=['accuracy'])"
      ],
      "execution_count": 0,
      "outputs": []
    },
    {
      "cell_type": "code",
      "metadata": {
        "id": "kW3kpmUwyrGm",
        "colab_type": "code",
        "colab": {
          "base_uri": "https://localhost:8080/",
          "height": 1000
        },
        "outputId": "801e0d08-aeaf-4224-a250-8f14896aa34f"
      },
      "source": [
        "history = model.fit_generator(\n",
        "    train_data_gen,\n",
        "    steps_per_epoch=total_train // batch_size,\n",
        "    epochs=epochs,\n",
        "    validation_data=val_data_gen,\n",
        "    validation_steps=total_val // batch_size\n",
        ")"
      ],
      "execution_count": 73,
      "outputs": [
        {
          "output_type": "stream",
          "text": [
            "Epoch 1/50\n",
            "32/32 [==============================] - 7s 217ms/step - loss: 0.9901 - accuracy: 0.6028 - val_loss: 1.1301 - val_accuracy: 0.5909\n",
            "Epoch 2/50\n",
            "32/32 [==============================] - 7s 212ms/step - loss: 0.3923 - accuracy: 0.8383 - val_loss: 0.2912 - val_accuracy: 0.8750\n",
            "Epoch 3/50\n",
            "32/32 [==============================] - 7s 212ms/step - loss: 0.2409 - accuracy: 0.9022 - val_loss: 0.6727 - val_accuracy: 0.7557\n",
            "Epoch 4/50\n",
            "32/32 [==============================] - 7s 212ms/step - loss: 0.3207 - accuracy: 0.8723 - val_loss: 0.5179 - val_accuracy: 0.7614\n",
            "Epoch 5/50\n",
            "32/32 [==============================] - 7s 213ms/step - loss: 0.2510 - accuracy: 0.9042 - val_loss: 0.2870 - val_accuracy: 0.8409\n",
            "Epoch 6/50\n",
            "32/32 [==============================] - 7s 218ms/step - loss: 0.1968 - accuracy: 0.9202 - val_loss: 0.3077 - val_accuracy: 0.8920\n",
            "Epoch 7/50\n",
            "32/32 [==============================] - 7s 216ms/step - loss: 0.2057 - accuracy: 0.9242 - val_loss: 0.5362 - val_accuracy: 0.7500\n",
            "Epoch 8/50\n",
            "32/32 [==============================] - 7s 213ms/step - loss: 0.2257 - accuracy: 0.9022 - val_loss: 0.3072 - val_accuracy: 0.8352\n",
            "Epoch 9/50\n",
            "32/32 [==============================] - 7s 211ms/step - loss: 0.2889 - accuracy: 0.8802 - val_loss: 0.5678 - val_accuracy: 0.7557\n",
            "Epoch 10/50\n",
            "32/32 [==============================] - 7s 211ms/step - loss: 0.2202 - accuracy: 0.9202 - val_loss: 0.7905 - val_accuracy: 0.6534\n",
            "Epoch 11/50\n",
            "32/32 [==============================] - 7s 213ms/step - loss: 0.2848 - accuracy: 0.8703 - val_loss: 0.2383 - val_accuracy: 0.9148\n",
            "Epoch 12/50\n",
            "32/32 [==============================] - 7s 211ms/step - loss: 0.2228 - accuracy: 0.9142 - val_loss: 0.5659 - val_accuracy: 0.7955\n",
            "Epoch 13/50\n",
            "32/32 [==============================] - 7s 213ms/step - loss: 0.1893 - accuracy: 0.9341 - val_loss: 0.2901 - val_accuracy: 0.8920\n",
            "Epoch 14/50\n",
            "32/32 [==============================] - 7s 213ms/step - loss: 0.1859 - accuracy: 0.9162 - val_loss: 0.3593 - val_accuracy: 0.8750\n",
            "Epoch 15/50\n",
            "32/32 [==============================] - 7s 224ms/step - loss: 0.2402 - accuracy: 0.9122 - val_loss: 0.1747 - val_accuracy: 0.9318\n",
            "Epoch 16/50\n",
            "32/32 [==============================] - 7s 212ms/step - loss: 0.1955 - accuracy: 0.9182 - val_loss: 0.4020 - val_accuracy: 0.8580\n",
            "Epoch 17/50\n",
            "32/32 [==============================] - 7s 209ms/step - loss: 0.2631 - accuracy: 0.8922 - val_loss: 0.8553 - val_accuracy: 0.6534\n",
            "Epoch 18/50\n",
            "32/32 [==============================] - 7s 209ms/step - loss: 0.2072 - accuracy: 0.9142 - val_loss: 0.2404 - val_accuracy: 0.8977\n",
            "Epoch 19/50\n",
            "32/32 [==============================] - 7s 218ms/step - loss: 0.2312 - accuracy: 0.8922 - val_loss: 0.2002 - val_accuracy: 0.9318\n",
            "Epoch 20/50\n",
            "32/32 [==============================] - 7s 212ms/step - loss: 0.1962 - accuracy: 0.9242 - val_loss: 0.2281 - val_accuracy: 0.8977\n",
            "Epoch 21/50\n",
            "32/32 [==============================] - 7s 211ms/step - loss: 0.2661 - accuracy: 0.8842 - val_loss: 0.4787 - val_accuracy: 0.7955\n",
            "Epoch 22/50\n",
            "32/32 [==============================] - 7s 209ms/step - loss: 0.2274 - accuracy: 0.9102 - val_loss: 0.1757 - val_accuracy: 0.9205\n",
            "Epoch 23/50\n",
            "32/32 [==============================] - 7s 210ms/step - loss: 0.2135 - accuracy: 0.9082 - val_loss: 0.2890 - val_accuracy: 0.8636\n",
            "Epoch 24/50\n",
            "32/32 [==============================] - 7s 209ms/step - loss: 0.1764 - accuracy: 0.9202 - val_loss: 0.2353 - val_accuracy: 0.8807\n",
            "Epoch 25/50\n",
            "32/32 [==============================] - 7s 209ms/step - loss: 0.1608 - accuracy: 0.9421 - val_loss: 0.4003 - val_accuracy: 0.8182\n",
            "Epoch 26/50\n",
            "32/32 [==============================] - 7s 209ms/step - loss: 0.1474 - accuracy: 0.9341 - val_loss: 0.2598 - val_accuracy: 0.9034\n",
            "Epoch 27/50\n",
            "32/32 [==============================] - 7s 211ms/step - loss: 0.1606 - accuracy: 0.9321 - val_loss: 0.1826 - val_accuracy: 0.9148\n",
            "Epoch 28/50\n",
            "32/32 [==============================] - 7s 212ms/step - loss: 0.1724 - accuracy: 0.9341 - val_loss: 0.2442 - val_accuracy: 0.8807\n",
            "Epoch 29/50\n",
            "32/32 [==============================] - 7s 209ms/step - loss: 0.1331 - accuracy: 0.9481 - val_loss: 0.2952 - val_accuracy: 0.8807\n",
            "Epoch 30/50\n",
            "32/32 [==============================] - 7s 213ms/step - loss: 0.1780 - accuracy: 0.9281 - val_loss: 0.1809 - val_accuracy: 0.9148\n",
            "Epoch 31/50\n",
            "32/32 [==============================] - 7s 215ms/step - loss: 0.1762 - accuracy: 0.9301 - val_loss: 0.2660 - val_accuracy: 0.8523\n",
            "Epoch 32/50\n",
            "32/32 [==============================] - 7s 212ms/step - loss: 0.1452 - accuracy: 0.9361 - val_loss: 0.5083 - val_accuracy: 0.7727\n",
            "Epoch 33/50\n",
            "32/32 [==============================] - 7s 209ms/step - loss: 0.2022 - accuracy: 0.9222 - val_loss: 0.2166 - val_accuracy: 0.8864\n",
            "Epoch 34/50\n",
            "32/32 [==============================] - 7s 214ms/step - loss: 0.1641 - accuracy: 0.9277 - val_loss: 0.1637 - val_accuracy: 0.9205\n",
            "Epoch 35/50\n",
            "32/32 [==============================] - 7s 208ms/step - loss: 0.1433 - accuracy: 0.9441 - val_loss: 0.3725 - val_accuracy: 0.8409\n",
            "Epoch 36/50\n",
            "32/32 [==============================] - 7s 208ms/step - loss: 0.1846 - accuracy: 0.9142 - val_loss: 0.2318 - val_accuracy: 0.8807\n",
            "Epoch 37/50\n",
            "32/32 [==============================] - 7s 210ms/step - loss: 0.1592 - accuracy: 0.9521 - val_loss: 0.3037 - val_accuracy: 0.8523\n",
            "Epoch 38/50\n",
            "32/32 [==============================] - 7s 207ms/step - loss: 0.1186 - accuracy: 0.9581 - val_loss: 0.3317 - val_accuracy: 0.8693\n",
            "Epoch 39/50\n",
            "32/32 [==============================] - 7s 207ms/step - loss: 0.1998 - accuracy: 0.9162 - val_loss: 0.3470 - val_accuracy: 0.7955\n",
            "Epoch 40/50\n",
            "32/32 [==============================] - 7s 210ms/step - loss: 0.1506 - accuracy: 0.9481 - val_loss: 0.4863 - val_accuracy: 0.8182\n",
            "Epoch 41/50\n",
            "32/32 [==============================] - 7s 212ms/step - loss: 0.1506 - accuracy: 0.9321 - val_loss: 0.4061 - val_accuracy: 0.8011\n",
            "Epoch 42/50\n",
            "32/32 [==============================] - 7s 211ms/step - loss: 0.1223 - accuracy: 0.9581 - val_loss: 0.1720 - val_accuracy: 0.9318\n",
            "Epoch 43/50\n",
            "32/32 [==============================] - 7s 209ms/step - loss: 0.1212 - accuracy: 0.9581 - val_loss: 0.4554 - val_accuracy: 0.8409\n",
            "Epoch 44/50\n",
            "32/32 [==============================] - 7s 205ms/step - loss: 0.1442 - accuracy: 0.9401 - val_loss: 0.3178 - val_accuracy: 0.8523\n",
            "Epoch 45/50\n",
            "32/32 [==============================] - 7s 208ms/step - loss: 0.1414 - accuracy: 0.9521 - val_loss: 0.4331 - val_accuracy: 0.8182\n",
            "Epoch 46/50\n",
            "32/32 [==============================] - 7s 210ms/step - loss: 0.1620 - accuracy: 0.9277 - val_loss: 0.2159 - val_accuracy: 0.8864\n",
            "Epoch 47/50\n",
            "32/32 [==============================] - 7s 208ms/step - loss: 0.1564 - accuracy: 0.9361 - val_loss: 0.2006 - val_accuracy: 0.9318\n",
            "Epoch 48/50\n",
            "32/32 [==============================] - 7s 208ms/step - loss: 0.1028 - accuracy: 0.9581 - val_loss: 0.2878 - val_accuracy: 0.8920\n",
            "Epoch 49/50\n",
            "32/32 [==============================] - 7s 207ms/step - loss: 0.1211 - accuracy: 0.9521 - val_loss: 0.3917 - val_accuracy: 0.8352\n",
            "Epoch 50/50\n",
            "32/32 [==============================] - 7s 210ms/step - loss: 0.1020 - accuracy: 0.9601 - val_loss: 0.5133 - val_accuracy: 0.7841\n"
          ],
          "name": "stdout"
        }
      ]
    },
    {
      "cell_type": "markdown",
      "metadata": {
        "colab_type": "text",
        "id": "uT3UV3gap9H6"
      },
      "source": [
        "# Resources and Stretch Goals\n",
        "\n",
        "Stretch goals\n",
        "- Enhance your code to use classes/functions and accept terms to search and classes to look for in recognizing the downloaded images (e.g. download images of parties, recognize all that contain balloons)\n",
        "- Check out [other available pretrained networks](https://tfhub.dev), try some and compare\n",
        "- Image recognition/classification is somewhat solved, but *relationships* between entities and describing an image is not - check out some of the extended resources (e.g. [Visual Genome](https://visualgenome.org/)) on the topic\n",
        "- Transfer learning - using images you source yourself, [retrain a classifier](https://www.tensorflow.org/hub/tutorials/image_retraining) with a new category\n",
        "- (Not CNN related) Use [piexif](https://pypi.org/project/piexif/) to check out the metadata of images passed in to your system - see if they're from a national park! (Note - many images lack GPS metadata, so this won't work in most cases, but still cool)\n",
        "\n",
        "Resources\n",
        "- [Deep Residual Learning for Image Recognition](https://arxiv.org/abs/1512.03385) - influential paper (introduced ResNet)\n",
        "- [YOLO: Real-Time Object Detection](https://pjreddie.com/darknet/yolo/) - an influential convolution based object detection system, focused on inference speed (for applications to e.g. self driving vehicles)\n",
        "- [R-CNN, Fast R-CNN, Faster R-CNN, YOLO](https://towardsdatascience.com/r-cnn-fast-r-cnn-faster-r-cnn-yolo-object-detection-algorithms-36d53571365e) - comparison of object detection systems\n",
        "- [Common Objects in Context](http://cocodataset.org/) - a large-scale object detection, segmentation, and captioning dataset\n",
        "- [Visual Genome](https://visualgenome.org/) - a dataset, a knowledge base, an ongoing effort to connect structured image concepts to language"
      ]
    }
  ]
}