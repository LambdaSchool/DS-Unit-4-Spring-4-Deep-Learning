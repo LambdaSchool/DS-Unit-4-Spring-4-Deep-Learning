{
  "nbformat": 4,
  "nbformat_minor": 0,
  "metadata": {
    "kernelspec": {
      "name": "python3",
      "display_name": "Python 3"
    },
    "colab": {
      "name": "LS_DS_432_Convolution_Neural_Networks_Assignment.ipynb",
      "provenance": [],
      "collapsed_sections": [],
      "machine_shape": "hm"
    },
    "accelerator": "GPU"
  },
  "cells": [
    {
      "cell_type": "markdown",
      "metadata": {
        "id": "PoR9dhWVIlaZ",
        "colab_type": "text"
      },
      "source": [
        "<img align=\"left\" src=\"https://lever-client-logos.s3.amazonaws.com/864372b1-534c-480e-acd5-9711f850815c-1524247202159.png\" width=200>\n",
        "<br></br>\n",
        "<br></br>\n",
        "\n",
        "## *Data Science Unit 4 Sprint 3 Assignment 2*\n",
        "# Convolutional Neural Networks (CNNs)"
      ]
    },
    {
      "cell_type": "markdown",
      "metadata": {
        "colab_type": "text",
        "id": "0lfZdD_cp1t5"
      },
      "source": [
        "# Assignment\n",
        "\n",
        "- <a href=\"#p1\">Part 1:</a> Pre-Trained Model\n",
        "- <a href=\"#p2\">Part 2:</a> Custom CNN Model\n",
        "- <a href=\"#p3\">Part 3:</a> CNN with Data Augmentation\n",
        "\n",
        "\n",
        "You will apply three different CNN models to a binary image classification model using Keras. Classify images of Mountains (`./data/train/mountain/*`) and images of forests (`./data/train/forest/*`). Treat mountains as the positive class (1) and the forest images as the negative (zero). \n",
        "\n",
        "|Mountain (+)|Forest (-)|\n",
        "|---|---|\n",
        "|![](./data/train/mountain/art1131.jpg)|![](./data/validation/forest/cdmc317.jpg)|\n",
        "\n",
        "The problem is relatively difficult given that the sample is tiny: there are about 350 observations per class. This sample size might be something that you can expect with prototyping an image classification problem/solution at work. Get accustomed to evaluating several different possible models."
      ]
    },
    {
      "cell_type": "markdown",
      "metadata": {
        "colab_type": "text",
        "id": "jqiGW_lCIlac"
      },
      "source": [
        "# Pre - Trained Model\n",
        "<a id=\"p1\"></a>\n",
        "\n",
        "Load a pretrained network from Keras, [ResNet50](https://tfhub.dev/google/imagenet/resnet_v1_50/classification/1) - a 50 layer deep network trained to recognize [1000 objects](https://storage.googleapis.com/download.tensorflow.org/data/ImageNetLabels.txt). Starting usage:\n",
        "\n",
        "```python\n",
        "import numpy as np\n",
        "\n",
        "from tensorflow.keras.applications.resnet50 import ResNet50\n",
        "from tensorflow.keras.preprocessing import image\n",
        "from tensorflow.keras.applications.resnet50 import preprocess_input, decode_predictions\n",
        "\n",
        "from tensorflow.keras.layers import Dense, GlobalAveragePooling2D\n",
        "from tensorflow.keras.models import Model # This is the functional API\n",
        "\n",
        "resnet = ResNet50(weights='imagenet', include_top=False)\n",
        "\n",
        "```\n",
        "\n",
        "The `include_top` parameter in `ResNet50` will remove the full connected layers from the ResNet model. The next step is to turn off the training of the ResNet layers. We want to use the learned parameters without updating them in future training passes. \n",
        "\n",
        "```python\n",
        "for layer in resnet.layers:\n",
        "    layer.trainable = False\n",
        "```\n",
        "\n",
        "Using the Keras functional API, we will need to additional additional full connected layers to our model. We we removed the top layers, we removed all preivous fully connected layers. In other words, we kept only the feature processing portions of our network. You can expert with additional layers beyond what's listed here. The `GlobalAveragePooling2D` layer functions as a really fancy flatten function by taking the average of each of the last convolutional layer outputs (which is two dimensional still). \n",
        "\n",
        "```python\n",
        "x = resnet.output\n",
        "x = GlobalAveragePooling2D()(x) # This layer is a really fancy flatten\n",
        "x = Dense(1024, activation='relu')(x)\n",
        "predictions = Dense(1, activation='sigmoid')(x)\n",
        "model = Model(resnet.input, predictions)\n",
        "```\n",
        "\n",
        "Your assignment is to apply the transfer learning above to classify images of Mountains (`./data/train/mountain/*`) and images of forests (`./data/train/forest/*`). Treat mountains as the positive class (1) and the forest images as the negative (zero). \n",
        "\n",
        "Steps to complete assignment: \n",
        "1. Load in Image Data into numpy arrays (`X`) \n",
        "2. Create a `y` for the labels\n",
        "3. Train your model with pre-trained layers from resnet\n",
        "4. Report your model's accuracy"
      ]
    },
    {
      "cell_type": "markdown",
      "metadata": {
        "id": "OsTDIs64Ilae",
        "colab_type": "text"
      },
      "source": [
        "## Load in Data\n",
        "\n",
        "This surprisingly more difficult than it seems, because you are working with directories of images instead of a single file. This boiler plate will help you download a zipped version of the directory of images. The directory is organized into \"train\" and \"validation\" which you can use inside an `ImageGenerator` class to stream batches of images thru your model.  \n"
      ]
    },
    {
      "cell_type": "markdown",
      "metadata": {
        "id": "fRPGzoG7Ilag",
        "colab_type": "text"
      },
      "source": [
        "### Download & Summarize the Data\n",
        "\n",
        "This step is completed for you. Just run the cells and review the results. "
      ]
    },
    {
      "cell_type": "code",
      "metadata": {
        "id": "HE8tfrDtIlai",
        "colab_type": "code",
        "colab": {}
      },
      "source": [
        "import tensorflow as tf\n",
        "import os\n",
        "\n",
        "_URL = 'https://github.com/LambdaSchool/DS-Unit-4-Sprint-3-Deep-Learning/blob/master/module2-convolutional-neural-networks/data.zip?raw=true'\n",
        "\n",
        "path_to_zip = tf.keras.utils.get_file('./data.zip', origin=_URL, extract=True)\n",
        "PATH = os.path.join(os.path.dirname(path_to_zip), 'data')"
      ],
      "execution_count": 0,
      "outputs": []
    },
    {
      "cell_type": "code",
      "metadata": {
        "id": "OxgYWYtWIlat",
        "colab_type": "code",
        "colab": {}
      },
      "source": [
        "train_dir = os.path.join(PATH, 'train')\n",
        "validation_dir = os.path.join(PATH, 'validation')"
      ],
      "execution_count": 0,
      "outputs": []
    },
    {
      "cell_type": "code",
      "metadata": {
        "id": "Dl7D-9cvIla9",
        "colab_type": "code",
        "colab": {}
      },
      "source": [
        "train_mountain_dir = os.path.join(train_dir, 'mountain')  # directory with our training cat pictures\n",
        "train_forest_dir = os.path.join(train_dir, 'forest')  # directory with our training dog pictures\n",
        "validation_mountain_dir = os.path.join(validation_dir, 'mountain')  # directory with our validation cat pictures\n",
        "validation_forest_dir = os.path.join(validation_dir, 'forest')  # directory with our validation dog pictures"
      ],
      "execution_count": 0,
      "outputs": []
    },
    {
      "cell_type": "code",
      "metadata": {
        "id": "alJ-FnE9IlbK",
        "colab_type": "code",
        "colab": {}
      },
      "source": [
        "num_mountain_tr = len(os.listdir(train_mountain_dir))\n",
        "num_forest_tr = len(os.listdir(train_forest_dir))\n",
        "\n",
        "num_mountain_val = len(os.listdir(validation_mountain_dir))\n",
        "num_forest_val = len(os.listdir(validation_forest_dir))\n",
        "\n",
        "total_train = num_mountain_tr + num_forest_tr\n",
        "total_val = num_mountain_val + num_forest_val"
      ],
      "execution_count": 0,
      "outputs": []
    },
    {
      "cell_type": "code",
      "metadata": {
        "id": "q6rOh05YIlbd",
        "colab_type": "code",
        "colab": {
          "base_uri": "https://localhost:8080/",
          "height": 136
        },
        "outputId": "ae5cbc4f-ddfb-4cce-82aa-99c67807ab25"
      },
      "source": [
        "print('total training mountain images:', num_mountain_tr)\n",
        "print('total training forest images:', num_forest_tr)\n",
        "\n",
        "print('total validation mountain images:', num_mountain_val)\n",
        "print('total validation forest images:', num_forest_val)\n",
        "print(\"--\")\n",
        "print(\"Total training images:\", total_train)\n",
        "print(\"Total validation images:\", total_val)"
      ],
      "execution_count": 5,
      "outputs": [
        {
          "output_type": "stream",
          "text": [
            "total training mountain images: 254\n",
            "total training forest images: 270\n",
            "total validation mountain images: 125\n",
            "total validation forest images: 62\n",
            "--\n",
            "Total training images: 524\n",
            "Total validation images: 187\n"
          ],
          "name": "stdout"
        }
      ]
    },
    {
      "cell_type": "markdown",
      "metadata": {
        "id": "wU8VRhWeIlbu",
        "colab_type": "text"
      },
      "source": [
        "### Keras `ImageGenerator` to Process the Data\n",
        "\n",
        "This step is completed for you, but please review the code. The `ImageGenerator` class reads in batches of data from a directory and pass them to the model one batch at a time. Just like large text files, this method is advantageous, because it stifles the need to load a bunch of images into memory. \n",
        "\n",
        "Check out the documentation for this class method: [Keras `ImageGenerator` Class](https://keras.io/preprocessing/image/#imagedatagenerator-class). You'll expand it's use in the third assignment objective."
      ]
    },
    {
      "cell_type": "code",
      "metadata": {
        "id": "5gi8JKgwIlbx",
        "colab_type": "code",
        "colab": {}
      },
      "source": [
        "batch_size = 16\n",
        "epochs = 50\n",
        "IMG_HEIGHT = 224\n",
        "IMG_WIDTH = 224\n",
        "CHNLS = 3"
      ],
      "execution_count": 0,
      "outputs": []
    },
    {
      "cell_type": "code",
      "metadata": {
        "id": "5OJJXY6qIlcI",
        "colab_type": "code",
        "colab": {}
      },
      "source": [
        "from tensorflow.keras.preprocessing.image import ImageDataGenerator\n",
        "\n",
        "train_image_generator = ImageDataGenerator(rescale=1./255) # Generator for our training data\n",
        "validation_image_generator = ImageDataGenerator(rescale=1./255) # Generator for our validation data"
      ],
      "execution_count": 0,
      "outputs": []
    },
    {
      "cell_type": "code",
      "metadata": {
        "id": "OeOtMUShIlcW",
        "colab_type": "code",
        "colab": {
          "base_uri": "https://localhost:8080/",
          "height": 34
        },
        "outputId": "4556e8b2-1b82-4dd0-d49a-a95918777f77"
      },
      "source": [
        "train_data_gen = train_image_generator.flow_from_directory(batch_size=batch_size,\n",
        "                                                           directory=train_dir,\n",
        "                                                           shuffle=True,\n",
        "                                                           target_size=(IMG_HEIGHT, IMG_WIDTH),\n",
        "                                                           class_mode='binary')"
      ],
      "execution_count": 8,
      "outputs": [
        {
          "output_type": "stream",
          "text": [
            "Found 533 images belonging to 2 classes.\n"
          ],
          "name": "stdout"
        }
      ]
    },
    {
      "cell_type": "code",
      "metadata": {
        "id": "YeGZh-tKIlci",
        "colab_type": "code",
        "colab": {
          "base_uri": "https://localhost:8080/",
          "height": 34
        },
        "outputId": "9aed726a-926b-48b1-ada9-9ed80ed29845"
      },
      "source": [
        "val_data_gen = validation_image_generator.flow_from_directory(batch_size=batch_size,\n",
        "                                                              directory=validation_dir,\n",
        "                                                              target_size=(IMG_HEIGHT, IMG_WIDTH),\n",
        "                                                              class_mode='binary')"
      ],
      "execution_count": 9,
      "outputs": [
        {
          "output_type": "stream",
          "text": [
            "Found 195 images belonging to 2 classes.\n"
          ],
          "name": "stdout"
        }
      ]
    },
    {
      "cell_type": "markdown",
      "metadata": {
        "id": "hDwhGl9LIlcr",
        "colab_type": "text"
      },
      "source": [
        "## Instatiate Model"
      ]
    },
    {
      "cell_type": "code",
      "metadata": {
        "id": "NlNozHjDIlcs",
        "colab_type": "code",
        "colab": {}
      },
      "source": [
        "import numpy as np\n",
        " \n",
        "from tensorflow.keras.applications.resnet50 import ResNet50\n",
        "from tensorflow.keras.preprocessing import image\n",
        "from tensorflow.keras.applications.resnet50 import preprocess_input, decode_predictions\n",
        " \n",
        "from tensorflow.keras.layers import Dense, GlobalAveragePooling2D\n",
        "from tensorflow.keras.models import Model # This is the functional API\n",
        " \n",
        "resnet = ResNet50(weights='imagenet', include_top=False)"
      ],
      "execution_count": 0,
      "outputs": []
    },
    {
      "cell_type": "code",
      "metadata": {
        "id": "ub6sXRl4QrNc",
        "colab_type": "code",
        "colab": {}
      },
      "source": [
        "for layer in resnet.layers:\n",
        "    layer.trainable = False"
      ],
      "execution_count": 0,
      "outputs": []
    },
    {
      "cell_type": "code",
      "metadata": {
        "id": "uh7JnUQubYHW",
        "colab_type": "code",
        "colab": {}
      },
      "source": [
        "x = resnet.output\n",
        "x = GlobalAveragePooling2D()(x) # This layer is a really fancy flatten\n",
        "x = Dense(1024, activation='relu')(x)\n",
        "predictions = Dense(1, activation='sigmoid')(x)\n",
        "model = Model(resnet.input, predictions)\n",
        "\n",
        "model.compile(optimizer='nadam',\n",
        "              loss='binary_crossentropy',\n",
        "              metrics=['accuracy'])"
      ],
      "execution_count": 0,
      "outputs": []
    },
    {
      "cell_type": "markdown",
      "metadata": {
        "id": "jRtMX9pFIlc0",
        "colab_type": "text"
      },
      "source": [
        "## Fit Model"
      ]
    },
    {
      "cell_type": "code",
      "metadata": {
        "id": "7uwgPBfrIlc1",
        "colab_type": "code",
        "colab": {
          "base_uri": "https://localhost:8080/",
          "height": 1000
        },
        "outputId": "096680ca-0913-4e24-f9a7-4a0dda54f2ce"
      },
      "source": [
        "history = model.fit(\n",
        "    train_data_gen,\n",
        "    steps_per_epoch=total_train // batch_size,\n",
        "    epochs=epochs,\n",
        "    validation_data=val_data_gen,\n",
        "    validation_steps=total_val // batch_size\n",
        ")"
      ],
      "execution_count": 13,
      "outputs": [
        {
          "output_type": "stream",
          "text": [
            "Epoch 1/50\n",
            "32/32 [==============================] - 2s 77ms/step - loss: 0.7980 - accuracy: 0.5840 - val_loss: 0.7371 - val_accuracy: 0.3636\n",
            "Epoch 2/50\n",
            "32/32 [==============================] - 2s 59ms/step - loss: 0.6805 - accuracy: 0.6148 - val_loss: 0.5484 - val_accuracy: 0.7239\n",
            "Epoch 3/50\n",
            "32/32 [==============================] - 2s 52ms/step - loss: 0.6130 - accuracy: 0.6707 - val_loss: 0.7637 - val_accuracy: 0.4172\n",
            "Epoch 4/50\n",
            "32/32 [==============================] - 2s 52ms/step - loss: 0.6157 - accuracy: 0.6547 - val_loss: 0.9000 - val_accuracy: 0.3742\n",
            "Epoch 5/50\n",
            "32/32 [==============================] - 2s 52ms/step - loss: 0.5151 - accuracy: 0.7385 - val_loss: 0.4780 - val_accuracy: 0.7730\n",
            "Epoch 6/50\n",
            "32/32 [==============================] - 2s 51ms/step - loss: 0.4876 - accuracy: 0.7445 - val_loss: 0.3861 - val_accuracy: 0.7791\n",
            "Epoch 7/50\n",
            "32/32 [==============================] - 2s 51ms/step - loss: 0.4134 - accuracy: 0.8104 - val_loss: 0.3706 - val_accuracy: 0.8650\n",
            "Epoch 8/50\n",
            "32/32 [==============================] - 2s 51ms/step - loss: 0.4400 - accuracy: 0.8144 - val_loss: 0.4312 - val_accuracy: 0.7485\n",
            "Epoch 9/50\n",
            "32/32 [==============================] - 2s 50ms/step - loss: 0.3824 - accuracy: 0.8323 - val_loss: 0.4097 - val_accuracy: 0.8466\n",
            "Epoch 10/50\n",
            "32/32 [==============================] - 2s 50ms/step - loss: 0.4716 - accuracy: 0.7884 - val_loss: 0.3829 - val_accuracy: 0.8344\n",
            "Epoch 11/50\n",
            "32/32 [==============================] - 2s 50ms/step - loss: 0.3383 - accuracy: 0.8842 - val_loss: 0.3295 - val_accuracy: 0.8957\n",
            "Epoch 12/50\n",
            "32/32 [==============================] - 2s 50ms/step - loss: 0.3796 - accuracy: 0.8483 - val_loss: 0.3833 - val_accuracy: 0.8773\n",
            "Epoch 13/50\n",
            "32/32 [==============================] - 2s 50ms/step - loss: 0.3253 - accuracy: 0.8922 - val_loss: 0.3822 - val_accuracy: 0.8409\n",
            "Epoch 14/50\n",
            "32/32 [==============================] - 2s 51ms/step - loss: 0.3526 - accuracy: 0.8483 - val_loss: 0.3595 - val_accuracy: 0.8580\n",
            "Epoch 15/50\n",
            "32/32 [==============================] - 2s 51ms/step - loss: 0.3537 - accuracy: 0.8303 - val_loss: 0.3612 - val_accuracy: 0.8282\n",
            "Epoch 16/50\n",
            "32/32 [==============================] - 2s 51ms/step - loss: 0.3116 - accuracy: 0.8862 - val_loss: 0.4437 - val_accuracy: 0.8098\n",
            "Epoch 17/50\n",
            "32/32 [==============================] - 2s 51ms/step - loss: 0.2972 - accuracy: 0.8962 - val_loss: 0.8424 - val_accuracy: 0.5644\n",
            "Epoch 18/50\n",
            "32/32 [==============================] - 2s 51ms/step - loss: 0.3171 - accuracy: 0.8809 - val_loss: 0.4444 - val_accuracy: 0.8098\n",
            "Epoch 19/50\n",
            "32/32 [==============================] - 2s 50ms/step - loss: 0.3120 - accuracy: 0.8782 - val_loss: 0.4238 - val_accuracy: 0.7669\n",
            "Epoch 20/50\n",
            "32/32 [==============================] - 2s 51ms/step - loss: 0.2511 - accuracy: 0.8922 - val_loss: 0.3358 - val_accuracy: 0.8528\n",
            "Epoch 21/50\n",
            "32/32 [==============================] - 2s 51ms/step - loss: 0.2365 - accuracy: 0.9162 - val_loss: 0.2889 - val_accuracy: 0.8834\n",
            "Epoch 22/50\n",
            "32/32 [==============================] - 2s 50ms/step - loss: 0.2907 - accuracy: 0.8942 - val_loss: 0.3415 - val_accuracy: 0.7669\n",
            "Epoch 23/50\n",
            "32/32 [==============================] - 2s 50ms/step - loss: 0.2257 - accuracy: 0.8982 - val_loss: 0.2911 - val_accuracy: 0.8528\n",
            "Epoch 24/50\n",
            "32/32 [==============================] - 2s 50ms/step - loss: 0.2750 - accuracy: 0.8942 - val_loss: 0.2434 - val_accuracy: 0.9325\n",
            "Epoch 25/50\n",
            "32/32 [==============================] - 2s 50ms/step - loss: 0.2878 - accuracy: 0.8962 - val_loss: 0.3132 - val_accuracy: 0.8650\n",
            "Epoch 26/50\n",
            "32/32 [==============================] - 2s 50ms/step - loss: 0.2003 - accuracy: 0.9242 - val_loss: 0.4261 - val_accuracy: 0.8239\n",
            "Epoch 27/50\n",
            "32/32 [==============================] - 2s 51ms/step - loss: 0.2722 - accuracy: 0.9242 - val_loss: 0.2870 - val_accuracy: 0.8807\n",
            "Epoch 28/50\n",
            "32/32 [==============================] - 2s 51ms/step - loss: 0.3068 - accuracy: 0.8483 - val_loss: 0.3272 - val_accuracy: 0.8466\n",
            "Epoch 29/50\n",
            "32/32 [==============================] - 2s 51ms/step - loss: 0.1947 - accuracy: 0.9301 - val_loss: 0.6909 - val_accuracy: 0.6687\n",
            "Epoch 30/50\n",
            "32/32 [==============================] - 2s 51ms/step - loss: 0.1874 - accuracy: 0.9321 - val_loss: 0.2167 - val_accuracy: 0.9141\n",
            "Epoch 31/50\n",
            "32/32 [==============================] - 2s 52ms/step - loss: 0.1663 - accuracy: 0.9481 - val_loss: 0.2561 - val_accuracy: 0.8957\n",
            "Epoch 32/50\n",
            "32/32 [==============================] - 2s 52ms/step - loss: 0.2060 - accuracy: 0.9281 - val_loss: 0.2437 - val_accuracy: 0.9202\n",
            "Epoch 33/50\n",
            "32/32 [==============================] - 2s 50ms/step - loss: 0.2604 - accuracy: 0.9042 - val_loss: 0.3373 - val_accuracy: 0.8589\n",
            "Epoch 34/50\n",
            "32/32 [==============================] - 2s 50ms/step - loss: 0.1718 - accuracy: 0.9381 - val_loss: 0.1851 - val_accuracy: 0.9387\n",
            "Epoch 35/50\n",
            "32/32 [==============================] - 2s 52ms/step - loss: 0.1582 - accuracy: 0.9492 - val_loss: 0.2886 - val_accuracy: 0.8957\n",
            "Epoch 36/50\n",
            "32/32 [==============================] - 2s 51ms/step - loss: 0.1854 - accuracy: 0.9321 - val_loss: 0.6075 - val_accuracy: 0.7423\n",
            "Epoch 37/50\n",
            "32/32 [==============================] - 2s 51ms/step - loss: 0.2411 - accuracy: 0.9082 - val_loss: 0.3518 - val_accuracy: 0.8712\n",
            "Epoch 38/50\n",
            "32/32 [==============================] - 2s 51ms/step - loss: 0.1385 - accuracy: 0.9561 - val_loss: 0.3634 - val_accuracy: 0.8344\n",
            "Epoch 39/50\n",
            "32/32 [==============================] - 2s 51ms/step - loss: 0.2240 - accuracy: 0.9321 - val_loss: 0.2023 - val_accuracy: 0.9375\n",
            "Epoch 40/50\n",
            "32/32 [==============================] - 2s 50ms/step - loss: 0.1643 - accuracy: 0.9461 - val_loss: 0.2591 - val_accuracy: 0.9034\n",
            "Epoch 41/50\n",
            "32/32 [==============================] - 2s 50ms/step - loss: 0.2165 - accuracy: 0.9182 - val_loss: 0.2153 - val_accuracy: 0.9387\n",
            "Epoch 42/50\n",
            "32/32 [==============================] - 2s 50ms/step - loss: 0.1382 - accuracy: 0.9521 - val_loss: 0.4662 - val_accuracy: 0.8405\n",
            "Epoch 43/50\n",
            "32/32 [==============================] - 2s 51ms/step - loss: 0.1513 - accuracy: 0.9381 - val_loss: 0.2459 - val_accuracy: 0.9018\n",
            "Epoch 44/50\n",
            "32/32 [==============================] - 2s 51ms/step - loss: 0.1294 - accuracy: 0.9621 - val_loss: 0.5665 - val_accuracy: 0.8037\n",
            "Epoch 45/50\n",
            "32/32 [==============================] - 2s 49ms/step - loss: 0.3392 - accuracy: 0.8543 - val_loss: 0.1884 - val_accuracy: 0.9325\n",
            "Epoch 46/50\n",
            "32/32 [==============================] - 2s 51ms/step - loss: 0.0951 - accuracy: 0.9721 - val_loss: 0.2514 - val_accuracy: 0.9141\n",
            "Epoch 47/50\n",
            "32/32 [==============================] - 2s 51ms/step - loss: 0.1793 - accuracy: 0.9242 - val_loss: 0.2544 - val_accuracy: 0.8834\n",
            "Epoch 48/50\n",
            "32/32 [==============================] - 2s 51ms/step - loss: 0.1387 - accuracy: 0.9481 - val_loss: 0.2651 - val_accuracy: 0.9325\n",
            "Epoch 49/50\n",
            "32/32 [==============================] - 2s 50ms/step - loss: 0.1190 - accuracy: 0.9661 - val_loss: 0.3737 - val_accuracy: 0.8282\n",
            "Epoch 50/50\n",
            "32/32 [==============================] - 2s 51ms/step - loss: 0.1542 - accuracy: 0.9401 - val_loss: 0.5982 - val_accuracy: 0.7362\n"
          ],
          "name": "stdout"
        }
      ]
    },
    {
      "cell_type": "markdown",
      "metadata": {
        "id": "_ybF4NPWIldJ",
        "colab_type": "text"
      },
      "source": [
        "# Custom CNN Model\n",
        "\n",
        "In this step, write and train your own convolutional neural network using Keras. You can use any architecture that suits you as long as it has at least one convolutional and one pooling layer at the beginning of the network - you can add more if you want. "
      ]
    },
    {
      "cell_type": "code",
      "metadata": {
        "id": "GO7CQ9E8IldS",
        "colab_type": "code",
        "colab": {
          "base_uri": "https://localhost:8080/",
          "height": 323
        },
        "outputId": "3593896d-0719-4725-c4b8-88b83d949af0"
      },
      "source": [
        "# Define the Model\n",
        "# train_data_gen, val_data_gen\n",
        "from tensorflow.keras import datasets\n",
        "from tensorflow.keras.models import Sequential\n",
        "from tensorflow.keras.layers import Dense, Conv2D, MaxPooling2D, Flatten\n",
        "\n",
        "model = Sequential()\n",
        "model.add(Conv2D(32, (3, 3), activation='relu', input_shape=(224, 224, 3)))\n",
        "model.add(MaxPooling2D((2, 2)))\n",
        "model.add(Flatten())\n",
        "model.add(Dense(64, activation='relu'))\n",
        "model.add(Dense(1, activation='sigmoid'))\n",
        "\n",
        "model.summary()"
      ],
      "execution_count": 14,
      "outputs": [
        {
          "output_type": "stream",
          "text": [
            "Model: \"sequential\"\n",
            "_________________________________________________________________\n",
            "Layer (type)                 Output Shape              Param #   \n",
            "=================================================================\n",
            "conv2d (Conv2D)              (None, 222, 222, 32)      896       \n",
            "_________________________________________________________________\n",
            "max_pooling2d (MaxPooling2D) (None, 111, 111, 32)      0         \n",
            "_________________________________________________________________\n",
            "flatten (Flatten)            (None, 394272)            0         \n",
            "_________________________________________________________________\n",
            "dense_2 (Dense)              (None, 64)                25233472  \n",
            "_________________________________________________________________\n",
            "dense_3 (Dense)              (None, 1)                 65        \n",
            "=================================================================\n",
            "Total params: 25,234,433\n",
            "Trainable params: 25,234,433\n",
            "Non-trainable params: 0\n",
            "_________________________________________________________________\n"
          ],
          "name": "stdout"
        }
      ]
    },
    {
      "cell_type": "code",
      "metadata": {
        "id": "l8WGetT_Ilde",
        "colab_type": "code",
        "colab": {}
      },
      "source": [
        "# Compile Model\n",
        "model.compile(optimizer='nadam',\n",
        "              loss='binary_crossentropy',\n",
        "              metrics=['accuracy'])"
      ],
      "execution_count": 0,
      "outputs": []
    },
    {
      "cell_type": "code",
      "metadata": {
        "id": "0SHR7aRwIld3",
        "colab_type": "code",
        "colab": {
          "base_uri": "https://localhost:8080/",
          "height": 1000
        },
        "outputId": "e76d0589-35a1-4d2c-b146-0046a8f0edc2"
      },
      "source": [
        "# Fit Model\n",
        "model.fit(\n",
        "    train_data_gen,\n",
        "    steps_per_epoch=total_train // batch_size,\n",
        "    epochs=epochs,\n",
        "    validation_data=val_data_gen,\n",
        "    validation_steps=total_val // batch_size\n",
        ")"
      ],
      "execution_count": 16,
      "outputs": [
        {
          "output_type": "stream",
          "text": [
            "Epoch 1/50\n",
            "32/32 [==============================] - 2s 50ms/step - loss: 4.2347 - accuracy: 0.8104 - val_loss: 1.0274 - val_accuracy: 0.9018\n",
            "Epoch 2/50\n",
            "32/32 [==============================] - 2s 52ms/step - loss: 1.3448 - accuracy: 0.8789 - val_loss: 0.3809 - val_accuracy: 0.9318\n",
            "Epoch 3/50\n",
            "32/32 [==============================] - 2s 50ms/step - loss: 0.2546 - accuracy: 0.9421 - val_loss: 0.2593 - val_accuracy: 0.9489\n",
            "Epoch 4/50\n",
            "32/32 [==============================] - 2s 47ms/step - loss: 0.0491 - accuracy: 0.9840 - val_loss: 0.2256 - val_accuracy: 0.9632\n",
            "Epoch 5/50\n",
            "32/32 [==============================] - 2s 47ms/step - loss: 0.0213 - accuracy: 0.9940 - val_loss: 0.1705 - val_accuracy: 0.9632\n",
            "Epoch 6/50\n",
            "32/32 [==============================] - 2s 48ms/step - loss: 0.0726 - accuracy: 0.9820 - val_loss: 0.2935 - val_accuracy: 0.9264\n",
            "Epoch 7/50\n",
            "32/32 [==============================] - 1s 46ms/step - loss: 0.0110 - accuracy: 0.9960 - val_loss: 1.3080 - val_accuracy: 0.8344\n",
            "Epoch 8/50\n",
            "32/32 [==============================] - 2s 48ms/step - loss: 0.0032 - accuracy: 1.0000 - val_loss: 0.3283 - val_accuracy: 0.9264\n",
            "Epoch 9/50\n",
            "32/32 [==============================] - 1s 46ms/step - loss: 0.0023 - accuracy: 1.0000 - val_loss: 0.2916 - val_accuracy: 0.9387\n",
            "Epoch 10/50\n",
            "32/32 [==============================] - 1s 47ms/step - loss: 9.5182e-04 - accuracy: 1.0000 - val_loss: 0.2797 - val_accuracy: 0.9080\n",
            "Epoch 11/50\n",
            "32/32 [==============================] - 1s 47ms/step - loss: 6.1081e-04 - accuracy: 1.0000 - val_loss: 0.4635 - val_accuracy: 0.9018\n",
            "Epoch 12/50\n",
            "32/32 [==============================] - 2s 47ms/step - loss: 4.5501e-04 - accuracy: 1.0000 - val_loss: 0.2732 - val_accuracy: 0.9387\n",
            "Epoch 13/50\n",
            "32/32 [==============================] - 1s 46ms/step - loss: 4.4417e-04 - accuracy: 1.0000 - val_loss: 0.4724 - val_accuracy: 0.8896\n",
            "Epoch 14/50\n",
            "32/32 [==============================] - 1s 46ms/step - loss: 3.6575e-04 - accuracy: 1.0000 - val_loss: 0.3508 - val_accuracy: 0.9325\n",
            "Epoch 15/50\n",
            "32/32 [==============================] - 2s 47ms/step - loss: 4.1414e-04 - accuracy: 1.0000 - val_loss: 0.4043 - val_accuracy: 0.9205\n",
            "Epoch 16/50\n",
            "32/32 [==============================] - 2s 48ms/step - loss: 2.9267e-04 - accuracy: 1.0000 - val_loss: 0.3304 - val_accuracy: 0.9375\n",
            "Epoch 17/50\n",
            "32/32 [==============================] - 2s 47ms/step - loss: 2.2993e-04 - accuracy: 1.0000 - val_loss: 0.3258 - val_accuracy: 0.9325\n",
            "Epoch 18/50\n",
            "32/32 [==============================] - 2s 47ms/step - loss: 2.6923e-04 - accuracy: 1.0000 - val_loss: 0.3399 - val_accuracy: 0.9325\n",
            "Epoch 19/50\n",
            "32/32 [==============================] - 2s 48ms/step - loss: 2.3128e-04 - accuracy: 1.0000 - val_loss: 0.3665 - val_accuracy: 0.9325\n",
            "Epoch 20/50\n",
            "32/32 [==============================] - 2s 48ms/step - loss: 2.1476e-04 - accuracy: 1.0000 - val_loss: 0.2814 - val_accuracy: 0.9448\n",
            "Epoch 21/50\n",
            "32/32 [==============================] - 1s 47ms/step - loss: 2.0824e-04 - accuracy: 1.0000 - val_loss: 0.2176 - val_accuracy: 0.9387\n",
            "Epoch 22/50\n",
            "32/32 [==============================] - 2s 47ms/step - loss: 1.6746e-04 - accuracy: 1.0000 - val_loss: 0.4049 - val_accuracy: 0.9202\n",
            "Epoch 23/50\n",
            "32/32 [==============================] - 2s 47ms/step - loss: 1.8867e-04 - accuracy: 1.0000 - val_loss: 0.3509 - val_accuracy: 0.9264\n",
            "Epoch 24/50\n",
            "32/32 [==============================] - 2s 47ms/step - loss: 1.5573e-04 - accuracy: 1.0000 - val_loss: 0.4490 - val_accuracy: 0.9325\n",
            "Epoch 25/50\n",
            "32/32 [==============================] - 2s 47ms/step - loss: 1.8479e-04 - accuracy: 1.0000 - val_loss: 0.2506 - val_accuracy: 0.9387\n",
            "Epoch 26/50\n",
            "32/32 [==============================] - 2s 48ms/step - loss: 1.0806e-04 - accuracy: 1.0000 - val_loss: 0.2903 - val_accuracy: 0.9264\n",
            "Epoch 27/50\n",
            "32/32 [==============================] - 1s 46ms/step - loss: 1.3601e-04 - accuracy: 1.0000 - val_loss: 0.3215 - val_accuracy: 0.9325\n",
            "Epoch 28/50\n",
            "32/32 [==============================] - 1s 46ms/step - loss: 1.5091e-04 - accuracy: 1.0000 - val_loss: 0.3698 - val_accuracy: 0.9318\n",
            "Epoch 29/50\n",
            "32/32 [==============================] - 2s 47ms/step - loss: 1.2097e-04 - accuracy: 1.0000 - val_loss: 0.3551 - val_accuracy: 0.9318\n",
            "Epoch 30/50\n",
            "32/32 [==============================] - 2s 47ms/step - loss: 9.8565e-05 - accuracy: 1.0000 - val_loss: 0.3562 - val_accuracy: 0.9264\n",
            "Epoch 31/50\n",
            "32/32 [==============================] - 1s 47ms/step - loss: 1.2161e-04 - accuracy: 1.0000 - val_loss: 0.3183 - val_accuracy: 0.9387\n",
            "Epoch 32/50\n",
            "32/32 [==============================] - 2s 47ms/step - loss: 1.2180e-04 - accuracy: 1.0000 - val_loss: 0.4843 - val_accuracy: 0.9080\n",
            "Epoch 33/50\n",
            "32/32 [==============================] - 1s 47ms/step - loss: 9.0454e-05 - accuracy: 1.0000 - val_loss: 0.1293 - val_accuracy: 0.9693\n",
            "Epoch 34/50\n",
            "32/32 [==============================] - 2s 47ms/step - loss: 8.5073e-05 - accuracy: 1.0000 - val_loss: 0.6143 - val_accuracy: 0.9264\n",
            "Epoch 35/50\n",
            "32/32 [==============================] - 2s 47ms/step - loss: 9.4560e-05 - accuracy: 1.0000 - val_loss: 0.2845 - val_accuracy: 0.9264\n",
            "Epoch 36/50\n",
            "32/32 [==============================] - 2s 48ms/step - loss: 8.6169e-05 - accuracy: 1.0000 - val_loss: 0.2113 - val_accuracy: 0.9448\n",
            "Epoch 37/50\n",
            "32/32 [==============================] - 2s 47ms/step - loss: 8.7646e-05 - accuracy: 1.0000 - val_loss: 0.3695 - val_accuracy: 0.9264\n",
            "Epoch 38/50\n",
            "32/32 [==============================] - 2s 47ms/step - loss: 6.9269e-05 - accuracy: 1.0000 - val_loss: 0.2317 - val_accuracy: 0.9387\n",
            "Epoch 39/50\n",
            "32/32 [==============================] - 2s 47ms/step - loss: 7.6831e-05 - accuracy: 1.0000 - val_loss: 0.2885 - val_accuracy: 0.9202\n",
            "Epoch 40/50\n",
            "32/32 [==============================] - 2s 48ms/step - loss: 7.9190e-05 - accuracy: 1.0000 - val_loss: 0.3398 - val_accuracy: 0.9325\n",
            "Epoch 41/50\n",
            "32/32 [==============================] - 2s 47ms/step - loss: 6.5628e-05 - accuracy: 1.0000 - val_loss: 0.3574 - val_accuracy: 0.9261\n",
            "Epoch 42/50\n",
            "32/32 [==============================] - 2s 49ms/step - loss: 7.1467e-05 - accuracy: 1.0000 - val_loss: 0.3493 - val_accuracy: 0.9375\n",
            "Epoch 43/50\n",
            "32/32 [==============================] - 1s 47ms/step - loss: 6.2126e-05 - accuracy: 1.0000 - val_loss: 0.3366 - val_accuracy: 0.9325\n",
            "Epoch 44/50\n",
            "32/32 [==============================] - 2s 47ms/step - loss: 7.0172e-05 - accuracy: 1.0000 - val_loss: 0.3427 - val_accuracy: 0.9387\n",
            "Epoch 45/50\n",
            "32/32 [==============================] - 2s 48ms/step - loss: 5.5615e-05 - accuracy: 1.0000 - val_loss: 0.4138 - val_accuracy: 0.9141\n",
            "Epoch 46/50\n",
            "32/32 [==============================] - 2s 47ms/step - loss: 5.2445e-05 - accuracy: 1.0000 - val_loss: 0.2653 - val_accuracy: 0.9387\n",
            "Epoch 47/50\n",
            "32/32 [==============================] - 2s 47ms/step - loss: 5.7698e-05 - accuracy: 1.0000 - val_loss: 0.3850 - val_accuracy: 0.9448\n",
            "Epoch 48/50\n",
            "32/32 [==============================] - 2s 47ms/step - loss: 5.3750e-05 - accuracy: 1.0000 - val_loss: 0.2449 - val_accuracy: 0.9448\n",
            "Epoch 49/50\n",
            "32/32 [==============================] - 2s 47ms/step - loss: 4.8051e-05 - accuracy: 1.0000 - val_loss: 0.3839 - val_accuracy: 0.9141\n",
            "Epoch 50/50\n",
            "32/32 [==============================] - 2s 48ms/step - loss: 4.4137e-05 - accuracy: 1.0000 - val_loss: 0.3248 - val_accuracy: 0.9264\n"
          ],
          "name": "stdout"
        },
        {
          "output_type": "execute_result",
          "data": {
            "text/plain": [
              "<tensorflow.python.keras.callbacks.History at 0x7fb8640b3b00>"
            ]
          },
          "metadata": {
            "tags": []
          },
          "execution_count": 16
        }
      ]
    },
    {
      "cell_type": "markdown",
      "metadata": {
        "id": "ggRFbItWIleB",
        "colab_type": "text"
      },
      "source": [
        "# Custom CNN Model with Image Manipulations\n",
        "\n",
        "To simulate an increase in a sample of image, you can apply image manipulation techniques: cropping, rotation, stretching, etc. Luckily Keras has some handy functions for us to apply these techniques to our mountain and forest example. Simply, you should be able to modify our image generator for the problem. Check out these resources to help you get started: \n",
        "\n",
        "1. [Keras `ImageGenerator` Class](https://keras.io/preprocessing/image/#imagedatagenerator-class)\n",
        "2. [Building a powerful image classifier with very little data](https://blog.keras.io/building-powerful-image-classification-models-using-very-little-data.html)\n",
        " "
      ]
    },
    {
      "cell_type": "code",
      "metadata": {
        "id": "TjNsW8Cxur0h",
        "colab_type": "code",
        "colab": {
          "base_uri": "https://localhost:8080/",
          "height": 54
        },
        "outputId": "2561c8b8-70e7-49b4-d9f3-c283571a1fdf"
      },
      "source": [
        "\"\"\"\n",
        "####### ORIGINAL #######\n",
        "\n",
        "from tensorflow.keras.preprocessing.image import ImageDataGenerator\n",
        "train_image_generator = ImageDataGenerator(rescale=1./255) \n",
        "\n",
        "train_data_gen = train_image_generator.flow_from_directory(batch_size=batch_size,\n",
        "                                                           directory=train_dir,\n",
        "                                                           shuffle=True,\n",
        "                                                           target_size=(IMG_HEIGHT, IMG_WIDTH),\n",
        "                                                           class_mode='binary')\n",
        "\"\"\""
      ],
      "execution_count": 17,
      "outputs": [
        {
          "output_type": "execute_result",
          "data": {
            "text/plain": [
              "\"\\n####### ORIGINAL #######\\n\\nfrom tensorflow.keras.preprocessing.image import ImageDataGenerator\\ntrain_image_generator = ImageDataGenerator(rescale=1./255) \\n\\ntrain_data_gen = train_image_generator.flow_from_directory(batch_size=batch_size,\\n                                                           directory=train_dir,\\n                                                           shuffle=True,\\n                                                           target_size=(IMG_HEIGHT, IMG_WIDTH),\\n                                                           class_mode='binary')\\n\""
            ]
          },
          "metadata": {
            "tags": []
          },
          "execution_count": 17
        }
      ]
    },
    {
      "cell_type": "code",
      "metadata": {
        "id": "tFfTlTy-VgLt",
        "colab_type": "code",
        "colab": {}
      },
      "source": [
        "model = Sequential()\n",
        "model.add(Conv2D(32, (3, 3), activation='relu', input_shape=(224, 224, 3)))\n",
        "model.add(MaxPooling2D((2, 2)))\n",
        "model.add(Flatten())\n",
        "model.add(Dense(64, activation='relu'))\n",
        "model.add(Dense(1, activation='sigmoid'))\n",
        "\n",
        "model.compile(optimizer='nadam',\n",
        "              loss='binary_crossentropy',\n",
        "              metrics=['accuracy'])"
      ],
      "execution_count": 0,
      "outputs": []
    },
    {
      "cell_type": "code",
      "metadata": {
        "id": "JCWx-74VkWKM",
        "colab_type": "code",
        "colab": {
          "base_uri": "https://localhost:8080/",
          "height": 1000
        },
        "outputId": "5023958c-d199-4841-f52e-0b69550b741b"
      },
      "source": [
        "from keras.preprocessing.image import ImageDataGenerator, array_to_img, img_to_array, load_img\n",
        "\n",
        "# This generator generates randomly changed images\n",
        "train_datagen = ImageDataGenerator(\n",
        "                    featurewise_center=True,\n",
        "                    featurewise_std_normalization=True,\n",
        "                    rotation_range=90,\n",
        "                    width_shift_range=0.1,\n",
        "                    height_shift_range=0.1,\n",
        "                    zoom_range=0.2)\n",
        "\n",
        "# Combine the generator above with the image generator stream\n",
        "train_generator = train_datagen.flow_from_directory(batch_size=batch_size,\n",
        "                                                           directory=train_dir,\n",
        "                                                           shuffle=True,\n",
        "                                                           target_size=(IMG_HEIGHT, IMG_WIDTH),\n",
        "                                                           class_mode='binary')\n",
        "\n",
        "\n",
        "model.fit_generator(\n",
        "    train_generator,\n",
        "    steps_per_epoch=total_train // batch_size,\n",
        "    epochs=epochs,\n",
        "    validation_data=val_data_gen,\n",
        "    validation_steps=total_val // batch_size\n",
        ")"
      ],
      "execution_count": 19,
      "outputs": [
        {
          "output_type": "stream",
          "text": [
            "Found 533 images belonging to 2 classes.\n",
            "WARNING:tensorflow:From <ipython-input-19-0c2678961e4c>:25: Model.fit_generator (from tensorflow.python.keras.engine.training) is deprecated and will be removed in a future version.\n",
            "Instructions for updating:\n",
            "Please use Model.fit, which supports generators.\n"
          ],
          "name": "stdout"
        },
        {
          "output_type": "stream",
          "text": [
            "Using TensorFlow backend.\n",
            "/usr/local/lib/python3.6/dist-packages/keras_preprocessing/image/image_data_generator.py:716: UserWarning: This ImageDataGenerator specifies `featurewise_center`, but it hasn't been fit on any training data. Fit it first by calling `.fit(numpy_data)`.\n",
            "  warnings.warn('This ImageDataGenerator specifies '\n",
            "/usr/local/lib/python3.6/dist-packages/keras_preprocessing/image/image_data_generator.py:724: UserWarning: This ImageDataGenerator specifies `featurewise_std_normalization`, but it hasn't been fit on any training data. Fit it first by calling `.fit(numpy_data)`.\n",
            "  warnings.warn('This ImageDataGenerator specifies '\n"
          ],
          "name": "stderr"
        },
        {
          "output_type": "stream",
          "text": [
            "Epoch 1/50\n",
            "32/32 [==============================] - 6s 183ms/step - loss: 810.7914 - accuracy: 0.7422 - val_loss: 0.2313 - val_accuracy: 0.8712\n",
            "Epoch 2/50\n",
            "32/32 [==============================] - 6s 177ms/step - loss: 58.8782 - accuracy: 0.8184 - val_loss: 0.5930 - val_accuracy: 0.4540\n",
            "Epoch 3/50\n",
            "32/32 [==============================] - 6s 177ms/step - loss: 0.5725 - accuracy: 0.6048 - val_loss: 0.6568 - val_accuracy: 0.8896\n",
            "Epoch 4/50\n",
            "32/32 [==============================] - 6s 175ms/step - loss: 31.1208 - accuracy: 0.8902 - val_loss: 0.6242 - val_accuracy: 0.8864\n",
            "Epoch 5/50\n",
            "32/32 [==============================] - 6s 177ms/step - loss: 0.4031 - accuracy: 0.9122 - val_loss: 0.6162 - val_accuracy: 0.8182\n",
            "Epoch 6/50\n",
            "32/32 [==============================] - 6s 175ms/step - loss: 45.5538 - accuracy: 0.8882 - val_loss: 0.5585 - val_accuracy: 0.8405\n",
            "Epoch 7/50\n",
            "32/32 [==============================] - 6s 176ms/step - loss: 0.3961 - accuracy: 0.9301 - val_loss: 0.5210 - val_accuracy: 0.8957\n",
            "Epoch 8/50\n",
            "32/32 [==============================] - 6s 176ms/step - loss: 0.5591 - accuracy: 0.9361 - val_loss: 0.5912 - val_accuracy: 0.7853\n",
            "Epoch 9/50\n",
            "32/32 [==============================] - 6s 177ms/step - loss: 0.4018 - accuracy: 0.9042 - val_loss: 0.6065 - val_accuracy: 0.7730\n",
            "Epoch 10/50\n",
            "32/32 [==============================] - 6s 176ms/step - loss: 0.3600 - accuracy: 0.9182 - val_loss: 0.5749 - val_accuracy: 0.8098\n",
            "Epoch 11/50\n",
            "32/32 [==============================] - 6s 177ms/step - loss: 0.3853 - accuracy: 0.8942 - val_loss: 0.5860 - val_accuracy: 0.7730\n",
            "Epoch 12/50\n",
            "32/32 [==============================] - 6s 178ms/step - loss: 0.3545 - accuracy: 0.9182 - val_loss: 0.5722 - val_accuracy: 0.7730\n",
            "Epoch 13/50\n",
            "32/32 [==============================] - 6s 178ms/step - loss: 0.3975 - accuracy: 0.8902 - val_loss: 0.5597 - val_accuracy: 0.7669\n",
            "Epoch 14/50\n",
            "32/32 [==============================] - 6s 180ms/step - loss: 0.4131 - accuracy: 0.9022 - val_loss: 0.5609 - val_accuracy: 0.8037\n",
            "Epoch 15/50\n",
            "32/32 [==============================] - 6s 180ms/step - loss: 0.3748 - accuracy: 0.9062 - val_loss: 0.5663 - val_accuracy: 0.7975\n",
            "Epoch 16/50\n",
            "32/32 [==============================] - 6s 182ms/step - loss: 0.3509 - accuracy: 0.9341 - val_loss: 0.5397 - val_accuracy: 0.7975\n",
            "Epoch 17/50\n",
            "32/32 [==============================] - 6s 180ms/step - loss: 0.3687 - accuracy: 0.9182 - val_loss: 0.5594 - val_accuracy: 0.7727\n",
            "Epoch 18/50\n",
            "32/32 [==============================] - 6s 180ms/step - loss: 0.3761 - accuracy: 0.9062 - val_loss: 0.5488 - val_accuracy: 0.7955\n",
            "Epoch 19/50\n",
            "32/32 [==============================] - 6s 174ms/step - loss: 0.3546 - accuracy: 0.9261 - val_loss: 0.5482 - val_accuracy: 0.7914\n",
            "Epoch 20/50\n",
            "32/32 [==============================] - 6s 176ms/step - loss: 0.3392 - accuracy: 0.9401 - val_loss: 0.5235 - val_accuracy: 0.7914\n",
            "Epoch 21/50\n",
            "32/32 [==============================] - 6s 178ms/step - loss: 0.3347 - accuracy: 0.9301 - val_loss: 0.5513 - val_accuracy: 0.7914\n",
            "Epoch 22/50\n",
            "32/32 [==============================] - 6s 175ms/step - loss: 0.3431 - accuracy: 0.9341 - val_loss: 0.4986 - val_accuracy: 0.7914\n",
            "Epoch 23/50\n",
            "32/32 [==============================] - 6s 176ms/step - loss: 0.3457 - accuracy: 0.9182 - val_loss: 0.5493 - val_accuracy: 0.7423\n",
            "Epoch 24/50\n",
            "32/32 [==============================] - 6s 175ms/step - loss: 0.2962 - accuracy: 0.9421 - val_loss: 0.5265 - val_accuracy: 0.7975\n",
            "Epoch 25/50\n",
            "32/32 [==============================] - 6s 177ms/step - loss: 0.3299 - accuracy: 0.9321 - val_loss: 0.5272 - val_accuracy: 0.7975\n",
            "Epoch 26/50\n",
            "32/32 [==============================] - 6s 176ms/step - loss: 0.3140 - accuracy: 0.9281 - val_loss: 0.5179 - val_accuracy: 0.7975\n",
            "Epoch 27/50\n",
            "32/32 [==============================] - 6s 176ms/step - loss: 0.3195 - accuracy: 0.9062 - val_loss: 0.5213 - val_accuracy: 0.7975\n",
            "Epoch 28/50\n",
            "32/32 [==============================] - 6s 176ms/step - loss: 0.3205 - accuracy: 0.9341 - val_loss: 0.5356 - val_accuracy: 0.7730\n",
            "Epoch 29/50\n",
            "32/32 [==============================] - 6s 178ms/step - loss: 0.2912 - accuracy: 0.9242 - val_loss: 0.5076 - val_accuracy: 0.7853\n",
            "Epoch 30/50\n",
            "32/32 [==============================] - 6s 175ms/step - loss: 0.2738 - accuracy: 0.9461 - val_loss: 0.5025 - val_accuracy: 0.7955\n",
            "Epoch 31/50\n",
            "32/32 [==============================] - 6s 177ms/step - loss: 1.0910 - accuracy: 0.9162 - val_loss: 0.4382 - val_accuracy: 0.8580\n",
            "Epoch 32/50\n",
            "32/32 [==============================] - 6s 175ms/step - loss: 0.7010 - accuracy: 0.9122 - val_loss: 0.6285 - val_accuracy: 0.6564\n",
            "Epoch 33/50\n",
            "32/32 [==============================] - 6s 174ms/step - loss: 0.3086 - accuracy: 0.9102 - val_loss: 0.6214 - val_accuracy: 0.6871\n",
            "Epoch 34/50\n",
            "32/32 [==============================] - 6s 177ms/step - loss: 0.3298 - accuracy: 0.9122 - val_loss: 0.6237 - val_accuracy: 0.6380\n",
            "Epoch 35/50\n",
            "32/32 [==============================] - 6s 177ms/step - loss: 0.3226 - accuracy: 0.9199 - val_loss: 0.6366 - val_accuracy: 0.6319\n",
            "Epoch 36/50\n",
            "32/32 [==============================] - 6s 175ms/step - loss: 0.2933 - accuracy: 0.9242 - val_loss: 0.6387 - val_accuracy: 0.6687\n",
            "Epoch 37/50\n",
            "32/32 [==============================] - 6s 176ms/step - loss: 0.2781 - accuracy: 0.9341 - val_loss: 0.6100 - val_accuracy: 0.6564\n",
            "Epoch 38/50\n",
            "32/32 [==============================] - 6s 174ms/step - loss: 0.3082 - accuracy: 0.9222 - val_loss: 0.6470 - val_accuracy: 0.6380\n",
            "Epoch 39/50\n",
            "32/32 [==============================] - 6s 173ms/step - loss: 0.2746 - accuracy: 0.9261 - val_loss: 0.6507 - val_accuracy: 0.6564\n",
            "Epoch 40/50\n",
            "32/32 [==============================] - 6s 175ms/step - loss: 0.2995 - accuracy: 0.9301 - val_loss: 0.6393 - val_accuracy: 0.6503\n",
            "Epoch 41/50\n",
            "32/32 [==============================] - 6s 175ms/step - loss: 0.2942 - accuracy: 0.9321 - val_loss: 0.6351 - val_accuracy: 0.6503\n",
            "Epoch 42/50\n",
            "32/32 [==============================] - 6s 173ms/step - loss: 0.2852 - accuracy: 0.9122 - val_loss: 0.6023 - val_accuracy: 0.6687\n",
            "Epoch 43/50\n",
            "32/32 [==============================] - 6s 176ms/step - loss: 0.2861 - accuracy: 0.9361 - val_loss: 0.6200 - val_accuracy: 0.6648\n",
            "Epoch 44/50\n",
            "32/32 [==============================] - 6s 177ms/step - loss: 0.2994 - accuracy: 0.9142 - val_loss: 0.6295 - val_accuracy: 0.6534\n",
            "Epoch 45/50\n",
            "32/32 [==============================] - 6s 173ms/step - loss: 0.2827 - accuracy: 0.9401 - val_loss: 0.6366 - val_accuracy: 0.6503\n",
            "Epoch 46/50\n",
            "32/32 [==============================] - 6s 174ms/step - loss: 0.3179 - accuracy: 0.9022 - val_loss: 0.6573 - val_accuracy: 0.6564\n",
            "Epoch 47/50\n",
            "32/32 [==============================] - 6s 174ms/step - loss: 0.2725 - accuracy: 0.9401 - val_loss: 0.5465 - val_accuracy: 0.7239\n",
            "Epoch 48/50\n",
            "32/32 [==============================] - 6s 174ms/step - loss: 0.2623 - accuracy: 0.9361 - val_loss: 0.7013 - val_accuracy: 0.6319\n",
            "Epoch 49/50\n",
            "32/32 [==============================] - 6s 174ms/step - loss: 0.2711 - accuracy: 0.9281 - val_loss: 0.5544 - val_accuracy: 0.7178\n",
            "Epoch 50/50\n",
            "32/32 [==============================] - 6s 173ms/step - loss: 0.2681 - accuracy: 0.9182 - val_loss: 0.6979 - val_accuracy: 0.6258\n"
          ],
          "name": "stdout"
        },
        {
          "output_type": "execute_result",
          "data": {
            "text/plain": [
              "<tensorflow.python.keras.callbacks.History at 0x7fb66471acf8>"
            ]
          },
          "metadata": {
            "tags": []
          },
          "execution_count": 19
        }
      ]
    },
    {
      "cell_type": "code",
      "metadata": {
        "id": "7eowQMl593zg",
        "colab_type": "code",
        "colab": {}
      },
      "source": [
        ""
      ],
      "execution_count": 0,
      "outputs": []
    },
    {
      "cell_type": "code",
      "metadata": {
        "id": "C6bQrrYGpBvU",
        "colab_type": "code",
        "colab": {}
      },
      "source": [
        "#data_gen.fit(train_data_gen)"
      ],
      "execution_count": 0,
      "outputs": []
    },
    {
      "cell_type": "markdown",
      "metadata": {
        "colab_type": "text",
        "id": "uT3UV3gap9H6"
      },
      "source": [
        "# Resources and Stretch Goals\n",
        "\n",
        "Stretch goals\n",
        "- Enhance your code to use classes/functions and accept terms to search and classes to look for in recognizing the downloaded images (e.g. download images of parties, recognize all that contain balloons)\n",
        "- Check out [other available pretrained networks](https://tfhub.dev), try some and compare\n",
        "- Image recognition/classification is somewhat solved, but *relationships* between entities and describing an image is not - check out some of the extended resources (e.g. [Visual Genome](https://visualgenome.org/)) on the topic\n",
        "- Transfer learning - using images you source yourself, [retrain a classifier](https://www.tensorflow.org/hub/tutorials/image_retraining) with a new category\n",
        "- (Not CNN related) Use [piexif](https://pypi.org/project/piexif/) to check out the metadata of images passed in to your system - see if they're from a national park! (Note - many images lack GPS metadata, so this won't work in most cases, but still cool)\n",
        "\n",
        "Resources\n",
        "- [Deep Residual Learning for Image Recognition](https://arxiv.org/abs/1512.03385) - influential paper (introduced ResNet)\n",
        "- [YOLO: Real-Time Object Detection](https://pjreddie.com/darknet/yolo/) - an influential convolution based object detection system, focused on inference speed (for applications to e.g. self driving vehicles)\n",
        "- [R-CNN, Fast R-CNN, Faster R-CNN, YOLO](https://towardsdatascience.com/r-cnn-fast-r-cnn-faster-r-cnn-yolo-object-detection-algorithms-36d53571365e) - comparison of object detection systems\n",
        "- [Common Objects in Context](http://cocodataset.org/) - a large-scale object detection, segmentation, and captioning dataset\n",
        "- [Visual Genome](https://visualgenome.org/) - a dataset, a knowledge base, an ongoing effort to connect structured image concepts to language"
      ]
    }
  ]
}