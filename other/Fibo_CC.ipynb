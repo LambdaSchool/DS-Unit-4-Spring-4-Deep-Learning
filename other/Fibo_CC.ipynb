{
 "cells": [
  {
   "cell_type": "markdown",
   "metadata": {
    "colab_type": "text",
    "id": "c3UPfwD2s1VY"
   },
   "source": [
    "# Code Challenge : Fibonacci Sequence\n",
    "## Instructions :\n",
    "\n",
    "\n",
    "### n is a positive integer. \n",
    "### Write a function that takes in n and returns the nth number in the Fibonacci sequence:\n",
    "### 0, 1, 1, 2, 3, 5, 8, 13 . . . \n",
    "\n",
    "## Example:\n",
    "\n",
    "### n=5\n",
    "### print(My_fibo_function(n))\n",
    "\n",
    "### If n = 5, the function would return 3 because 3 is the 5th number in the Fibonacci sequence.\n"
   ]
  },
  {
   "cell_type": "code",
   "execution_count": 47,
   "metadata": {},
   "outputs": [
    {
     "name": "stdout",
     "output_type": "stream",
     "text": [
      "The 1 th number in the Fibonacci sequence = 1\n",
      "The 2 th number in the Fibonacci sequence = 1\n",
      "The 3 th number in the Fibonacci sequence = 2\n",
      "The 4 th number in the Fibonacci sequence = 3\n",
      "The 5 th number in the Fibonacci sequence = 5\n",
      "The 6 th number in the Fibonacci sequence = 8\n",
      "The 7 th number in the Fibonacci sequence = 13\n",
      "The 8 th number in the Fibonacci sequence = 21\n",
      "The 9 th number in the Fibonacci sequence = 34\n",
      "The 10 th number in the Fibonacci sequence = 55\n",
      "The 11 th number in the Fibonacci sequence = 89\n"
     ]
    }
   ],
   "source": [
    "def fibo_function(n):\n",
    "    # n is amount of times to recurse\n",
    "\n",
    "    # 1. base case\n",
    "    if n == 1:\n",
    "        return n\n",
    "    # 1.1 base case exception\n",
    "    elif n == 0:\n",
    "        return 0\n",
    "    \n",
    "    # 2. work towards base case &    \n",
    "    # 3. recursive call\n",
    "    return (fibo_function(n-1) + fibo_function(n-2))\n",
    "\n",
    "search_list=[1,2,3,4,5,6,7,8,9,10,11]\n",
    "for N_th in search_list:\n",
    "    print('The',N_th,'th number in the Fibonacci sequence =',fibo_function(N_th))"
   ]
  },
  {
   "cell_type": "code",
   "execution_count": null,
   "metadata": {},
   "outputs": [],
   "source": []
  }
 ],
 "metadata": {
  "colab": {
   "name": "Fibo_CC.ipynb",
   "provenance": []
  },
  "kernelspec": {
   "display_name": "Python 3",
   "language": "python",
   "name": "python3"
  },
  "language_info": {
   "codemirror_mode": {
    "name": "ipython",
    "version": 3
   },
   "file_extension": ".py",
   "mimetype": "text/x-python",
   "name": "python",
   "nbconvert_exporter": "python",
   "pygments_lexer": "ipython3",
   "version": "3.7.3"
  }
 },
 "nbformat": 4,
 "nbformat_minor": 4
}
